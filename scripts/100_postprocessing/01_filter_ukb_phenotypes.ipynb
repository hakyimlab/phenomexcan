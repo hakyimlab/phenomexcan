{
 "cells": [
  {
   "cell_type": "markdown",
   "metadata": {},
   "source": [
    "**It's not necessary to run this notebook**"
   ]
  },
  {
   "cell_type": "code",
   "execution_count": 1,
   "metadata": {},
   "outputs": [],
   "source": [
    "%load_ext autoreload\n",
    "%autoreload 2"
   ]
  },
  {
   "cell_type": "code",
   "execution_count": 2,
   "metadata": {},
   "outputs": [],
   "source": [
    "import pandas as pd\n",
    "\n",
    "import settings as conf\n",
    "from metadata import RAPID_GWAS_PHENO_INFO"
   ]
  },
  {
   "cell_type": "markdown",
   "metadata": {},
   "source": [
    "# Load UKB pheno info file"
   ]
  },
  {
   "cell_type": "code",
   "execution_count": 3,
   "metadata": {},
   "outputs": [
    {
     "data": {
      "text/plain": [
       "(4359, 9)"
      ]
     },
     "execution_count": 3,
     "metadata": {},
     "output_type": "execute_result"
    }
   ],
   "source": [
    "RAPID_GWAS_PHENO_INFO.shape"
   ]
  },
  {
   "cell_type": "code",
   "execution_count": 4,
   "metadata": {},
   "outputs": [
    {
     "data": {
      "text/html": [
       "<div>\n",
       "<style scoped>\n",
       "    .dataframe tbody tr th:only-of-type {\n",
       "        vertical-align: middle;\n",
       "    }\n",
       "\n",
       "    .dataframe tbody tr th {\n",
       "        vertical-align: top;\n",
       "    }\n",
       "\n",
       "    .dataframe thead th {\n",
       "        text-align: right;\n",
       "    }\n",
       "</style>\n",
       "<table border=\"1\" class=\"dataframe\">\n",
       "  <thead>\n",
       "    <tr style=\"text-align: right;\">\n",
       "      <th></th>\n",
       "      <th>description</th>\n",
       "      <th>variable_type</th>\n",
       "      <th>source</th>\n",
       "      <th>n_non_missing</th>\n",
       "      <th>n_missing</th>\n",
       "      <th>n_controls</th>\n",
       "      <th>n_cases</th>\n",
       "      <th>PHESANT_transformation</th>\n",
       "      <th>notes</th>\n",
       "    </tr>\n",
       "    <tr>\n",
       "      <th>phenotype</th>\n",
       "      <th></th>\n",
       "      <th></th>\n",
       "      <th></th>\n",
       "      <th></th>\n",
       "      <th></th>\n",
       "      <th></th>\n",
       "      <th></th>\n",
       "      <th></th>\n",
       "      <th></th>\n",
       "    </tr>\n",
       "  </thead>\n",
       "  <tbody>\n",
       "    <tr>\n",
       "      <th>G54</th>\n",
       "      <td>Diagnoses - main ICD10: G54 Nerve root and ple...</td>\n",
       "      <td>categorical</td>\n",
       "      <td>icd10</td>\n",
       "      <td>361194</td>\n",
       "      <td>0</td>\n",
       "      <td>361051.0</td>\n",
       "      <td>143.0</td>\n",
       "      <td>NaN</td>\n",
       "      <td>NaN</td>\n",
       "    </tr>\n",
       "    <tr>\n",
       "      <th>C21</th>\n",
       "      <td>Diagnoses - main ICD10: C21 Malignant neoplasm...</td>\n",
       "      <td>categorical</td>\n",
       "      <td>icd10</td>\n",
       "      <td>361194</td>\n",
       "      <td>0</td>\n",
       "      <td>361055.0</td>\n",
       "      <td>139.0</td>\n",
       "      <td>NaN</td>\n",
       "      <td>NaN</td>\n",
       "    </tr>\n",
       "    <tr>\n",
       "      <th>F45</th>\n",
       "      <td>Diagnoses - main ICD10: F45 Somatoform disorders</td>\n",
       "      <td>categorical</td>\n",
       "      <td>icd10</td>\n",
       "      <td>361194</td>\n",
       "      <td>0</td>\n",
       "      <td>360953.0</td>\n",
       "      <td>241.0</td>\n",
       "      <td>NaN</td>\n",
       "      <td>NaN</td>\n",
       "    </tr>\n",
       "    <tr>\n",
       "      <th>I35</th>\n",
       "      <td>Diagnoses - main ICD10: I35 Nonrheumatic aorti...</td>\n",
       "      <td>categorical</td>\n",
       "      <td>icd10</td>\n",
       "      <td>361194</td>\n",
       "      <td>0</td>\n",
       "      <td>360293.0</td>\n",
       "      <td>901.0</td>\n",
       "      <td>NaN</td>\n",
       "      <td>NaN</td>\n",
       "    </tr>\n",
       "    <tr>\n",
       "      <th>D38</th>\n",
       "      <td>Diagnoses - main ICD10: D38 Neoplasm of uncert...</td>\n",
       "      <td>categorical</td>\n",
       "      <td>icd10</td>\n",
       "      <td>361194</td>\n",
       "      <td>0</td>\n",
       "      <td>361087.0</td>\n",
       "      <td>107.0</td>\n",
       "      <td>NaN</td>\n",
       "      <td>NaN</td>\n",
       "    </tr>\n",
       "  </tbody>\n",
       "</table>\n",
       "</div>"
      ],
      "text/plain": [
       "                                                 description variable_type  \\\n",
       "phenotype                                                                    \n",
       "G54        Diagnoses - main ICD10: G54 Nerve root and ple...   categorical   \n",
       "C21        Diagnoses - main ICD10: C21 Malignant neoplasm...   categorical   \n",
       "F45         Diagnoses - main ICD10: F45 Somatoform disorders   categorical   \n",
       "I35        Diagnoses - main ICD10: I35 Nonrheumatic aorti...   categorical   \n",
       "D38        Diagnoses - main ICD10: D38 Neoplasm of uncert...   categorical   \n",
       "\n",
       "          source  n_non_missing  n_missing  n_controls  n_cases  \\\n",
       "phenotype                                                         \n",
       "G54        icd10         361194          0    361051.0    143.0   \n",
       "C21        icd10         361194          0    361055.0    139.0   \n",
       "F45        icd10         361194          0    360953.0    241.0   \n",
       "I35        icd10         361194          0    360293.0    901.0   \n",
       "D38        icd10         361194          0    361087.0    107.0   \n",
       "\n",
       "          PHESANT_transformation notes  \n",
       "phenotype                               \n",
       "G54                          NaN   NaN  \n",
       "C21                          NaN   NaN  \n",
       "F45                          NaN   NaN  \n",
       "I35                          NaN   NaN  \n",
       "D38                          NaN   NaN  "
      ]
     },
     "execution_count": 4,
     "metadata": {},
     "output_type": "execute_result"
    }
   ],
   "source": [
    "RAPID_GWAS_PHENO_INFO.head()"
   ]
  },
  {
   "cell_type": "markdown",
   "metadata": {},
   "source": [
    "# Pre-select phenotypes"
   ]
  },
  {
   "cell_type": "code",
   "execution_count": 5,
   "metadata": {},
   "outputs": [],
   "source": [
    "ukb_phenos_selection = RAPID_GWAS_PHENO_INFO[\n",
    "    (RAPID_GWAS_PHENO_INFO['source'].isin(('icd10', 'finngen'))) |\n",
    "    ( (RAPID_GWAS_PHENO_INFO['source'] == 'phesant') & (~RAPID_GWAS_PHENO_INFO.index.str.endswith('_irnt')) )\n",
    "]"
   ]
  },
  {
   "cell_type": "code",
   "execution_count": 6,
   "metadata": {},
   "outputs": [
    {
     "data": {
      "text/plain": [
       "(4083, 9)"
      ]
     },
     "execution_count": 6,
     "metadata": {},
     "output_type": "execute_result"
    }
   ],
   "source": [
    "ukb_phenos_selection.shape"
   ]
  },
  {
   "cell_type": "markdown",
   "metadata": {},
   "source": [
    "# Detect duplicated phenotypes"
   ]
  },
  {
   "cell_type": "code",
   "execution_count": 11,
   "metadata": {},
   "outputs": [],
   "source": [
    "from entity import Trait"
   ]
  },
  {
   "cell_type": "code",
   "execution_count": 12,
   "metadata": {},
   "outputs": [
    {
     "data": {
      "text/plain": [
       "Job coding: personnel or industrial relations officer, recruitment consultant    5\n",
       "Job coding: other assembler, routine operative                                   4\n",
       "Job coding: assembler, machine operator, foreman                                 3\n",
       "Job coding: vocational or industrial trainer/instructor                          3\n",
       "Job coding: librarian, assistant librarian                                       3\n",
       "Name: description, dtype: int64"
      ]
     },
     "metadata": {},
     "output_type": "display_data"
    }
   ],
   "source": [
    "phenos_used_counts = ukb_phenos_selection['description'].value_counts()\n",
    "display(phenos_used_counts.head())"
   ]
  },
  {
   "cell_type": "code",
   "execution_count": 13,
   "metadata": {},
   "outputs": [
    {
     "data": {
      "text/plain": [
       "(70,)"
      ]
     },
     "metadata": {},
     "output_type": "display_data"
    }
   ],
   "source": [
    "repeated_traits = phenos_used_counts[phenos_used_counts > 1]\n",
    "display(repeated_traits.shape)\n",
    "repeated_traits = repeated_traits.sort_index()"
   ]
  },
  {
   "cell_type": "code",
   "execution_count": 14,
   "metadata": {},
   "outputs": [],
   "source": [
    "# repeated_traits_set = set(repeated_traits.index)"
   ]
  },
  {
   "cell_type": "code",
   "execution_count": 15,
   "metadata": {},
   "outputs": [],
   "source": [
    "## Auxiliary code to detect duplicates\n",
    "\n",
    "# the code below is used to see how to handle duplicated entries\n",
    "# _tmp = set(repeated_traits.index)\n",
    "\n",
    "# len(_tmp)\n",
    "\n",
    "# _tmp\n",
    "\n",
    "# phenos_used[phenos_used['description'].notna() & (phenos_used['description'] == 'Asthma')]"
   ]
  },
  {
   "cell_type": "code",
   "execution_count": 16,
   "metadata": {},
   "outputs": [],
   "source": [
    "ukb_traits = [Trait(t) for t in ukb_phenos_selection.index]"
   ]
  },
  {
   "cell_type": "markdown",
   "metadata": {},
   "source": [
    "The code below was not tested yet"
   ]
  },
  {
   "cell_type": "code",
   "execution_count": null,
   "metadata": {},
   "outputs": [],
   "source": [
    "import yaml\n",
    "from clustering.biclustering.analysis import Trait\n",
    "\n",
    "len(ukb_traits)\n",
    "\n",
    "ukb_traits[:5]\n",
    "\n",
    "file_template = '{trait_code}'\n",
    "\n",
    "class Object:\n",
    "    pass\n",
    "\n",
    "filename_to_description = {}\n",
    "phenos_used_info_map = phenos_used.set_index('phenotype')\n",
    "\n",
    "ukb_traits_removed = []\n",
    "ukb_traits_codes_removed = []\n",
    "\n",
    "for t in ukb_traits:\n",
    "    try:\n",
    "        trait = Trait(t)\n",
    "    except KeyError:\n",
    "        trait = Object()\n",
    "        trait.trait_code = t\n",
    "        trait.trait_plain_name = None\n",
    "    \n",
    "    trait_code = trait.trait_code\n",
    "    filename = file_template.format(trait_code=trait_code)\n",
    "    \n",
    "    trait_plain_name = trait.trait_plain_name\n",
    "    if pd.isnull(trait_plain_name):\n",
    "        if trait_code in gtex_gwas_phenos_info_map.index:\n",
    "            trait_plain_name = gtex_gwas_phenos_info_map.loc[trait_code, 'new_Phenotype']\n",
    "        else:\n",
    "            trait_plain_name = filename\n",
    "    \n",
    "    if trait_code in phenos_used_info_map.index:\n",
    "        trait_description = phenos_used_info_map.loc[trait_code, 'description']\n",
    "    elif trait_code in gtex_gwas_phenos_info_map.index:\n",
    "        trait_description = gtex_gwas_phenos_info_map.loc[trait_code, 'new_Phenotype']\n",
    "    else:\n",
    "        raise ValueError(f'No description for pheno code: {trait_code}')\n",
    "    \n",
    "    if trait_description in repeated_traits_set:\n",
    "        if (\n",
    "             trait_code.startswith('22601_') or # Job codings\n",
    "             trait_code.startswith('20003_') or # Medication vitamin c\n",
    "             (trait_description in (\n",
    "                 'Weight',\n",
    "                 'Poultry intake',\n",
    "                 'Other and unspecified dermatitis',\n",
    "                 'Certain infectious and parasitic diseases',\n",
    "                 'Body mass index (BMI)',\n",
    "                 'Beef intake',\n",
    "             ))\n",
    "           ):\n",
    "            trait_plain_name = trait_plain_name + f'_{trait_code}'\n",
    "        elif (trait_code in ('SNORING',)):\n",
    "            trait_plain_name = trait_plain_name + '_FinnGen'\n",
    "        elif (trait_code.startswith('C3_')) or (trait_code in (\n",
    "            'G6_NEURODEG',\n",
    "            'LUNG_CANCER',\n",
    "            'J10_ASTHMA_MAIN',\n",
    "        )):\n",
    "            ukb_traits_removed.append(t)\n",
    "            ukb_traits_codes_removed.append(trait_code)\n",
    "            continue\n",
    "    \n",
    "    filename_to_description[filename] = trait_plain_name\n",
    "\n",
    "# should be empty\n",
    "[(k, v) for k, v in filename_to_description.items() if pd.isnull(v)]\n",
    "\n",
    "assert len(ukb_traits_removed) == len(ukb_traits_codes_removed)\n",
    "\n",
    "len(ukb_traits_removed)\n",
    "\n",
    "len(filename_to_description)\n",
    "\n",
    "assert len(ukb_traits_removed) + len(filename_to_description) == 4091\n",
    "\n",
    "assert len(filename_to_description) == len(set(filename_to_description.values())), len(set(filename_to_description.values()))\n",
    "\n",
    "with open('/mnt/tmp/ukb_filename_maps.yml', 'w') as outfile:\n",
    "    yaml.dump({'ukb_name': filename_to_description}, outfile, default_flow_style=False, default_style='yaml_dump')\n",
    "\n",
    "with open('/mnt/tmp/ukb_trait_codes_removed.txt', 'w') as f:\n",
    "    for tc in ukb_traits_codes_removed:\n",
    "        f.write(f'{tc}\\n')"
   ]
  }
 ],
 "metadata": {
  "kernelspec": {
   "display_name": "Python 3",
   "language": "python",
   "name": "python3"
  },
  "language_info": {
   "codemirror_mode": {
    "name": "ipython",
    "version": 3
   },
   "file_extension": ".py",
   "mimetype": "text/x-python",
   "name": "python",
   "nbconvert_exporter": "python",
   "pygments_lexer": "ipython3",
   "version": "3.7.5"
  }
 },
 "nbformat": 4,
 "nbformat_minor": 4
}
