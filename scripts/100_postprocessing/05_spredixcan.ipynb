{
 "cells": [
  {
   "cell_type": "code",
   "execution_count": 1,
   "metadata": {
    "papermill": {
     "duration": 0.082731,
     "end_time": "2020-01-01T23:15:47.090173",
     "exception": false,
     "start_time": "2020-01-01T23:15:47.007442",
     "status": "completed"
    },
    "tags": []
   },
   "outputs": [],
   "source": [
    "%load_ext autoreload\n",
    "%autoreload 2"
   ]
  },
  {
   "cell_type": "code",
   "execution_count": 2,
   "metadata": {
    "papermill": {
     "duration": 1.361377,
     "end_time": "2020-01-01T23:15:48.485965",
     "exception": false,
     "start_time": "2020-01-01T23:15:47.124588",
     "status": "completed"
    },
    "tags": []
   },
   "outputs": [],
   "source": [
    "import os\n",
    "import pickle\n",
    "from glob import glob\n",
    "from concurrent.futures import ProcessPoolExecutor, as_completed\n",
    "\n",
    "import numpy as np\n",
    "import pandas as pd\n",
    "from scipy import stats\n",
    "\n",
    "import settings as conf\n",
    "from utils import is_number, chunker"
   ]
  },
  {
   "cell_type": "markdown",
   "metadata": {
    "papermill": {
     "duration": 0.03251,
     "end_time": "2020-01-01T23:15:48.553213",
     "exception": false,
     "start_time": "2020-01-01T23:15:48.520703",
     "status": "completed"
    },
    "tags": []
   },
   "source": [
    "# Load S-PrediXcan results"
   ]
  },
  {
   "cell_type": "markdown",
   "metadata": {
    "papermill": {
     "duration": 0.032196,
     "end_time": "2020-01-01T23:15:48.618353",
     "exception": false,
     "start_time": "2020-01-01T23:15:48.586157",
     "status": "completed"
    },
    "tags": []
   },
   "source": [
    "## From Rapid GWAS project"
   ]
  },
  {
   "cell_type": "code",
   "execution_count": 3,
   "metadata": {
    "papermill": {
     "duration": 1.570348,
     "end_time": "2020-01-01T23:15:50.221379",
     "exception": false,
     "start_time": "2020-01-01T23:15:48.651031",
     "status": "completed"
    },
    "tags": []
   },
   "outputs": [],
   "source": [
    "from results.spredixcan import PhenoResults"
   ]
  },
  {
   "cell_type": "code",
   "execution_count": 4,
   "metadata": {
    "papermill": {
     "duration": 0.165458,
     "end_time": "2020-01-01T23:15:50.420860",
     "exception": false,
     "start_time": "2020-01-01T23:15:50.255402",
     "status": "completed"
    },
    "tags": []
   },
   "outputs": [
    {
     "data": {
      "text/plain": [
       "'/mnt/phenomexcan_base/results/spredixcan/rapid_gwas_project/*'"
      ]
     },
     "metadata": {},
     "output_type": "display_data"
    },
    {
     "data": {
      "text/plain": [
       "4049"
      ]
     },
     "metadata": {},
     "output_type": "display_data"
    }
   ],
   "source": [
    "_path = os.path.join(conf.SPREDIXCAN_RESULTS_DIR['RapidGWASProject'] + '/*')\n",
    "display(_path)\n",
    "all_spredixcan_results_dirs = glob(_path)\n",
    "display(len(all_spredixcan_results_dirs))\n",
    "assert len(all_spredixcan_results_dirs) == conf.SPREDIXCAN_EXPECTED_PHENOTYPES['RapidGWASProject']"
   ]
  },
  {
   "cell_type": "code",
   "execution_count": 5,
   "metadata": {
    "papermill": {
     "duration": 95.994827,
     "end_time": "2020-01-01T23:17:26.451535",
     "exception": false,
     "start_time": "2020-01-01T23:15:50.456708",
     "status": "completed"
    },
    "tags": []
   },
   "outputs": [
    {
     "data": {
      "text/plain": [
       "4049"
      ]
     },
     "metadata": {},
     "output_type": "display_data"
    }
   ],
   "source": [
    "all_spredixcan_phenotypes = [PhenoResults(p) for p in all_spredixcan_results_dirs]\n",
    "\n",
    "display(len(all_spredixcan_phenotypes))\n",
    "assert len(all_spredixcan_phenotypes) == conf.SPREDIXCAN_EXPECTED_PHENOTYPES['RapidGWASProject']"
   ]
  },
  {
   "cell_type": "markdown",
   "metadata": {
    "papermill": {
     "duration": 0.035195,
     "end_time": "2020-01-01T23:17:26.527917",
     "exception": false,
     "start_time": "2020-01-01T23:17:26.492722",
     "status": "completed"
    },
    "tags": []
   },
   "source": [
    "## From GTEx GWAS manuscript"
   ]
  },
  {
   "cell_type": "code",
   "execution_count": 6,
   "metadata": {
    "papermill": {
     "duration": 0.102013,
     "end_time": "2020-01-01T23:17:26.664863",
     "exception": false,
     "start_time": "2020-01-01T23:17:26.562850",
     "status": "completed"
    },
    "tags": []
   },
   "outputs": [
    {
     "data": {
      "text/plain": [
       "'/mnt/phenomexcan_base/results/spredixcan/gtex_gwas/*'"
      ]
     },
     "metadata": {},
     "output_type": "display_data"
    },
    {
     "data": {
      "text/plain": [
       "42"
      ]
     },
     "metadata": {},
     "output_type": "display_data"
    }
   ],
   "source": [
    "_path = os.path.join(conf.SPREDIXCAN_RESULTS_DIR['GTEX_GWAS'] + '/*')\n",
    "display(_path)\n",
    "all_extra_results_dirs = glob(_path)\n",
    "display(len(all_extra_results_dirs))\n",
    "assert len(all_extra_results_dirs) == conf.SPREDIXCAN_EXPECTED_PHENOTYPES['GTEX_GWAS']"
   ]
  },
  {
   "cell_type": "code",
   "execution_count": 7,
   "metadata": {
    "papermill": {
     "duration": 0.068236,
     "end_time": "2020-01-01T23:17:26.778337",
     "exception": false,
     "start_time": "2020-01-01T23:17:26.710101",
     "status": "completed"
    },
    "tags": []
   },
   "outputs": [
    {
     "data": {
      "text/plain": [
       "['/mnt/phenomexcan_base/results/spredixcan/gtex_gwas/PGC_ADHD_EUR_2017',\n",
       " '/mnt/phenomexcan_base/results/spredixcan/gtex_gwas/CNCR_Insomnia_all',\n",
       " '/mnt/phenomexcan_base/results/spredixcan/gtex_gwas/IMMUNOBASE_Systemic_lupus_erythematosus_hg19',\n",
       " '/mnt/phenomexcan_base/results/spredixcan/gtex_gwas/Astle_et_al_2016_Reticulocyte_count',\n",
       " '/mnt/phenomexcan_base/results/spredixcan/gtex_gwas/Astle_et_al_2016_Granulocyte_count']"
      ]
     },
     "execution_count": 7,
     "metadata": {},
     "output_type": "execute_result"
    }
   ],
   "source": [
    "all_extra_results_dirs[:5]"
   ]
  },
  {
   "cell_type": "code",
   "execution_count": 8,
   "metadata": {
    "papermill": {
     "duration": 0.24362,
     "end_time": "2020-01-01T23:17:27.058079",
     "exception": false,
     "start_time": "2020-01-01T23:17:26.814459",
     "status": "completed"
    },
    "tags": []
   },
   "outputs": [
    {
     "data": {
      "text/plain": [
       "42"
      ]
     },
     "metadata": {},
     "output_type": "display_data"
    }
   ],
   "source": [
    "_file_pattern = 'spredixcan_igwas_gtexmashrv8_(?P<code>[^/]+)__PM__(?P<tissue>.+)\\.csv$'\n",
    "all_extra_phenotypes = [PhenoResults(p, _file_pattern) for p in all_extra_results_dirs]\n",
    "all_extra_phenotypes_plain_names = pd.Index([p.pheno_info.get_plain_name() for p in all_extra_phenotypes])\n",
    "\n",
    "display(len(all_extra_phenotypes))\n",
    "assert len(all_extra_phenotypes) == conf.SMULTIXCAN_EXPECTED_PHENOTYPES['GTEX_GWAS']"
   ]
  },
  {
   "cell_type": "markdown",
   "metadata": {
    "papermill": {
     "duration": 0.036483,
     "end_time": "2020-01-01T23:17:27.131559",
     "exception": false,
     "start_time": "2020-01-01T23:17:27.095076",
     "status": "completed"
    },
    "tags": []
   },
   "source": [
    "# S-PrediXcan: pvalues"
   ]
  },
  {
   "cell_type": "code",
   "execution_count": 9,
   "metadata": {
    "papermill": {
     "duration": 0.077024,
     "end_time": "2020-01-01T23:17:27.248615",
     "exception": false,
     "start_time": "2020-01-01T23:17:27.171591",
     "status": "completed"
    },
    "tags": []
   },
   "outputs": [],
   "source": [
    "from results.spredixcan import PhenoResults\n",
    "from results.gtex_model import GTEXModel"
   ]
  },
  {
   "cell_type": "code",
   "execution_count": 10,
   "metadata": {
    "papermill": {
     "duration": 0.069615,
     "end_time": "2020-01-01T23:17:27.357929",
     "exception": false,
     "start_time": "2020-01-01T23:17:27.288314",
     "status": "completed"
    },
    "tags": []
   },
   "outputs": [
    {
     "data": {
      "text/plain": [
       "'/mnt/phenomexcan_base/gene_assoc/spredixcan'"
      ]
     },
     "metadata": {},
     "output_type": "display_data"
    }
   ],
   "source": [
    "OUTPUT_FOLDER = os.path.join(conf.GENE_ASSOC_DIR, f'spredixcan')\n",
    "display(OUTPUT_FOLDER)\n",
    "os.makedirs(OUTPUT_FOLDER, exist_ok=True)"
   ]
  },
  {
   "cell_type": "code",
   "execution_count": 11,
   "metadata": {
    "papermill": {
     "duration": 0.066785,
     "end_time": "2020-01-01T23:17:27.469629",
     "exception": false,
     "start_time": "2020-01-01T23:17:27.402844",
     "status": "completed"
    },
    "tags": []
   },
   "outputs": [
    {
     "data": {
      "text/plain": [
       "'spredixcan-{tissue}-{column}.{format}'"
      ]
     },
     "metadata": {},
     "output_type": "display_data"
    }
   ],
   "source": [
    "OUTPUT_FILE_FORMAT = 'spredixcan-{tissue}-{column}.{format}'\n",
    "display(OUTPUT_FILE_FORMAT)"
   ]
  },
  {
   "cell_type": "code",
   "execution_count": 12,
   "metadata": {
    "papermill": {
     "duration": 0.098447,
     "end_time": "2020-01-01T23:17:27.609316",
     "exception": false,
     "start_time": "2020-01-01T23:17:27.510869",
     "status": "completed"
    },
    "tags": []
   },
   "outputs": [],
   "source": [
    "ALL_TISSUES = GTEXModel.get_tissues(conf.GTEX_MODELS_DIR)\n",
    "assert len(ALL_TISSUES) == 49"
   ]
  },
  {
   "cell_type": "markdown",
   "metadata": {
    "papermill": {
     "duration": 0.040902,
     "end_time": "2020-01-01T23:17:27.690308",
     "exception": false,
     "start_time": "2020-01-01T23:17:27.649406",
     "status": "completed"
    },
    "tags": []
   },
   "source": [
    "### Compute results"
   ]
  },
  {
   "cell_type": "code",
   "execution_count": 13,
   "metadata": {
    "papermill": {
     "duration": 0.064447,
     "end_time": "2020-01-01T23:17:27.794275",
     "exception": false,
     "start_time": "2020-01-01T23:17:27.729828",
     "status": "completed"
    },
    "tags": []
   },
   "outputs": [],
   "source": [
    "# import threading\n",
    "# from queue import Queue\n",
    "\n",
    "from utils import simplify_string_for_hdf5"
   ]
  },
  {
   "cell_type": "code",
   "execution_count": 14,
   "metadata": {
    "papermill": {
     "duration": 0.067226,
     "end_time": "2020-01-01T23:17:27.902009",
     "exception": false,
     "start_time": "2020-01-01T23:17:27.834783",
     "status": "completed"
    },
    "tags": []
   },
   "outputs": [],
   "source": [
    "# to_write = Queue(maxsize=5)"
   ]
  },
  {
   "cell_type": "code",
   "execution_count": 15,
   "metadata": {
    "papermill": {
     "duration": 0.067729,
     "end_time": "2020-01-01T23:17:28.009403",
     "exception": false,
     "start_time": "2020-01-01T23:17:27.941674",
     "status": "completed"
    },
    "tags": []
   },
   "outputs": [],
   "source": [
    "def _get_combined_results(phenos, tissue, column):\n",
    "    return {\n",
    "        pheno.pheno_info.get_plain_name():\n",
    "            pheno.get_tissue_data(tissue, cols=[column], index_col='gene_simple')\n",
    "        for pheno in phenos\n",
    "    }"
   ]
  },
  {
   "cell_type": "code",
   "execution_count": 16,
   "metadata": {
    "papermill": {
     "duration": 0.074961,
     "end_time": "2020-01-01T23:17:28.125501",
     "exception": false,
     "start_time": "2020-01-01T23:17:28.050540",
     "status": "completed"
    },
    "tags": []
   },
   "outputs": [],
   "source": [
    "# def dataframe_creator(pqueue):\n",
    "def dataframe_creator(results, tissue_name, column_name):\n",
    "#     for results, tissue_name, column_name in iter(pqueue.get, None):\n",
    "    log_prefix = f'[{tissue_name} - {column_name}]'\n",
    "\n",
    "    _n_expected_phenos = np.sum(list(conf.SMULTIXCAN_EXPECTED_PHENOTYPES.values()))\n",
    "    assert len(results) == _n_expected_phenos, len(results)\n",
    "\n",
    "    spredixcan = pd.DataFrame(results)\n",
    "    spredixcan.index.rename('gene_name', inplace=True)\n",
    "    assert spredixcan.index.is_unique\n",
    "\n",
    "    # hdf5\n",
    "    spredixcan_filename = OUTPUT_FILE_FORMAT.format(\n",
    "        tissue=tissue_name,\n",
    "        column=column_name,\n",
    "        format='h5'\n",
    "    )\n",
    "    spredixcan_filename = os.path.join(OUTPUT_FOLDER, spredixcan_filename)\n",
    "\n",
    "    print(f'  {log_prefix}, saving to: {spredixcan_filename}', flush=True)\n",
    "    with pd.HDFStore(spredixcan_filename, mode='w', complevel=1) as store:\n",
    "        for col in spredixcan.columns:\n",
    "            clean_col = simplify_string_for_hdf5(col)\n",
    "            store[clean_col] = spredixcan[col]#.astype(float)"
   ]
  },
  {
   "cell_type": "code",
   "execution_count": 17,
   "metadata": {
    "papermill": {
     "duration": 0.070466,
     "end_time": "2020-01-01T23:17:28.235167",
     "exception": false,
     "start_time": "2020-01-01T23:17:28.164701",
     "status": "completed"
    },
    "tags": []
   },
   "outputs": [],
   "source": [
    "def _run(tissue, column, phenotype_chunks, n_jobs=conf.N_JOBS_HIGH):\n",
    "    all_results = {}\n",
    "    with ProcessPoolExecutor(max_workers=n_jobs) as executor:\n",
    "        tasks = [executor.submit(_get_combined_results, chunk, tissue, column) for chunk in phenotype_chunks]\n",
    "        for future in as_completed(tasks):\n",
    "            res = future.result()\n",
    "            all_results.update(res)\n",
    "\n",
    "    dataframe_creator(all_results, tissue, column)\n",
    "#     to_write.put((all_results, tissue, column))"
   ]
  },
  {
   "cell_type": "code",
   "execution_count": 18,
   "metadata": {
    "papermill": {
     "duration": 0.06212,
     "end_time": "2020-01-01T23:17:28.335031",
     "exception": false,
     "start_time": "2020-01-01T23:17:28.272911",
     "status": "completed"
    },
    "tags": []
   },
   "outputs": [],
   "source": [
    "def run_all(tissues, phenotype_chunks, n_jobs=conf.N_JOBS_HIGH):\n",
    "    for tissue in tissues:\n",
    "        print(tissue, flush=True)\n",
    "        \n",
    "        for column in ('pvalue', 'zscore', 'effect_size'):\n",
    "            _run(tissue, column, phenotype_chunks, n_jobs)\n",
    "    \n",
    "#     to_write.put(None)"
   ]
  },
  {
   "cell_type": "code",
   "execution_count": 19,
   "metadata": {
    "papermill": {
     "duration": 0.074237,
     "end_time": "2020-01-01T23:17:28.446889",
     "exception": false,
     "start_time": "2020-01-01T23:17:28.372652",
     "status": "completed"
    },
    "tags": []
   },
   "outputs": [],
   "source": [
    "# phenotype_chunks = chunker(all_spredixcan_phenotypes[:5] + all_extra_phenotypes[:5], 2)\n",
    "phenotype_chunks = chunker(all_spredixcan_phenotypes + all_extra_phenotypes, 25)"
   ]
  },
  {
   "cell_type": "code",
   "execution_count": 20,
   "metadata": {
    "papermill": {
     "duration": 0.063588,
     "end_time": "2020-01-01T23:17:28.548600",
     "exception": false,
     "start_time": "2020-01-01T23:17:28.485012",
     "status": "completed"
    },
    "tags": []
   },
   "outputs": [],
   "source": [
    "phenotype_chunks = list(phenotype_chunks)"
   ]
  },
  {
   "cell_type": "code",
   "execution_count": 21,
   "metadata": {
    "papermill": {
     "duration": 0.068365,
     "end_time": "2020-01-01T23:17:28.654691",
     "exception": false,
     "start_time": "2020-01-01T23:17:28.586326",
     "status": "completed"
    },
    "tags": []
   },
   "outputs": [],
   "source": [
    "tissues = GTEXModel.get_tissues(conf.GTEX_MODELS_DIR)\n",
    "#tissues = tissues[:2]"
   ]
  },
  {
   "cell_type": "code",
   "execution_count": 22,
   "metadata": {
    "papermill": {
     "duration": 0.061535,
     "end_time": "2020-01-01T23:17:28.754643",
     "exception": false,
     "start_time": "2020-01-01T23:17:28.693108",
     "status": "completed"
    },
    "tags": []
   },
   "outputs": [],
   "source": [
    "# writing_thread = threading.Thread(target=dataframe_creator, args=((to_write),))\n",
    "# writing_thread.start()"
   ]
  },
  {
   "cell_type": "code",
   "execution_count": 23,
   "metadata": {
    "papermill": {
     "duration": 49242.374065,
     "end_time": "2020-01-02T12:58:11.166997",
     "exception": false,
     "start_time": "2020-01-01T23:17:28.792932",
     "status": "completed"
    },
    "tags": []
   },
   "outputs": [
    {
     "name": "stdout",
     "output_type": "stream",
     "text": [
      "Thyroid\n"
     ]
    },
    {
     "name": "stdout",
     "output_type": "stream",
     "text": [
      "  [Thyroid - pvalue], saving to: /mnt/phenomexcan_base/gene_assoc/spredixcan/spredixcan-Thyroid-pvalue.h5\n"
     ]
    },
    {
     "name": "stdout",
     "output_type": "stream",
     "text": [
      "  [Thyroid - zscore], saving to: /mnt/phenomexcan_base/gene_assoc/spredixcan/spredixcan-Thyroid-zscore.h5\n"
     ]
    },
    {
     "name": "stdout",
     "output_type": "stream",
     "text": [
      "  [Thyroid - effect_size], saving to: /mnt/phenomexcan_base/gene_assoc/spredixcan/spredixcan-Thyroid-effect_size.h5\n"
     ]
    },
    {
     "name": "stdout",
     "output_type": "stream",
     "text": [
      "Skin_Not_Sun_Exposed_Suprapubic\n"
     ]
    },
    {
     "name": "stdout",
     "output_type": "stream",
     "text": [
      "  [Skin_Not_Sun_Exposed_Suprapubic - pvalue], saving to: /mnt/phenomexcan_base/gene_assoc/spredixcan/spredixcan-Skin_Not_Sun_Exposed_Suprapubic-pvalue.h5\n"
     ]
    },
    {
     "name": "stdout",
     "output_type": "stream",
     "text": [
      "  [Skin_Not_Sun_Exposed_Suprapubic - zscore], saving to: /mnt/phenomexcan_base/gene_assoc/spredixcan/spredixcan-Skin_Not_Sun_Exposed_Suprapubic-zscore.h5\n"
     ]
    },
    {
     "name": "stdout",
     "output_type": "stream",
     "text": [
      "  [Skin_Not_Sun_Exposed_Suprapubic - effect_size], saving to: /mnt/phenomexcan_base/gene_assoc/spredixcan/spredixcan-Skin_Not_Sun_Exposed_Suprapubic-effect_size.h5\n"
     ]
    },
    {
     "name": "stdout",
     "output_type": "stream",
     "text": [
      "Colon_Transverse\n"
     ]
    },
    {
     "name": "stdout",
     "output_type": "stream",
     "text": [
      "  [Colon_Transverse - pvalue], saving to: /mnt/phenomexcan_base/gene_assoc/spredixcan/spredixcan-Colon_Transverse-pvalue.h5\n"
     ]
    },
    {
     "name": "stdout",
     "output_type": "stream",
     "text": [
      "  [Colon_Transverse - zscore], saving to: /mnt/phenomexcan_base/gene_assoc/spredixcan/spredixcan-Colon_Transverse-zscore.h5\n"
     ]
    },
    {
     "name": "stdout",
     "output_type": "stream",
     "text": [
      "  [Colon_Transverse - effect_size], saving to: /mnt/phenomexcan_base/gene_assoc/spredixcan/spredixcan-Colon_Transverse-effect_size.h5\n"
     ]
    },
    {
     "name": "stdout",
     "output_type": "stream",
     "text": [
      "Brain_Amygdala\n"
     ]
    },
    {
     "name": "stdout",
     "output_type": "stream",
     "text": [
      "  [Brain_Amygdala - pvalue], saving to: /mnt/phenomexcan_base/gene_assoc/spredixcan/spredixcan-Brain_Amygdala-pvalue.h5\n"
     ]
    },
    {
     "name": "stdout",
     "output_type": "stream",
     "text": [
      "  [Brain_Amygdala - zscore], saving to: /mnt/phenomexcan_base/gene_assoc/spredixcan/spredixcan-Brain_Amygdala-zscore.h5\n"
     ]
    },
    {
     "name": "stdout",
     "output_type": "stream",
     "text": [
      "  [Brain_Amygdala - effect_size], saving to: /mnt/phenomexcan_base/gene_assoc/spredixcan/spredixcan-Brain_Amygdala-effect_size.h5\n"
     ]
    },
    {
     "name": "stdout",
     "output_type": "stream",
     "text": [
      "Ovary\n"
     ]
    },
    {
     "name": "stdout",
     "output_type": "stream",
     "text": [
      "  [Ovary - pvalue], saving to: /mnt/phenomexcan_base/gene_assoc/spredixcan/spredixcan-Ovary-pvalue.h5\n"
     ]
    },
    {
     "name": "stdout",
     "output_type": "stream",
     "text": [
      "  [Ovary - zscore], saving to: /mnt/phenomexcan_base/gene_assoc/spredixcan/spredixcan-Ovary-zscore.h5\n"
     ]
    },
    {
     "name": "stdout",
     "output_type": "stream",
     "text": [
      "  [Ovary - effect_size], saving to: /mnt/phenomexcan_base/gene_assoc/spredixcan/spredixcan-Ovary-effect_size.h5\n"
     ]
    },
    {
     "name": "stdout",
     "output_type": "stream",
     "text": [
      "Colon_Sigmoid\n"
     ]
    },
    {
     "name": "stdout",
     "output_type": "stream",
     "text": [
      "  [Colon_Sigmoid - pvalue], saving to: /mnt/phenomexcan_base/gene_assoc/spredixcan/spredixcan-Colon_Sigmoid-pvalue.h5\n"
     ]
    },
    {
     "name": "stdout",
     "output_type": "stream",
     "text": [
      "  [Colon_Sigmoid - zscore], saving to: /mnt/phenomexcan_base/gene_assoc/spredixcan/spredixcan-Colon_Sigmoid-zscore.h5\n"
     ]
    },
    {
     "name": "stdout",
     "output_type": "stream",
     "text": [
      "  [Colon_Sigmoid - effect_size], saving to: /mnt/phenomexcan_base/gene_assoc/spredixcan/spredixcan-Colon_Sigmoid-effect_size.h5\n"
     ]
    },
    {
     "name": "stdout",
     "output_type": "stream",
     "text": [
      "Lung\n"
     ]
    },
    {
     "name": "stdout",
     "output_type": "stream",
     "text": [
      "  [Lung - pvalue], saving to: /mnt/phenomexcan_base/gene_assoc/spredixcan/spredixcan-Lung-pvalue.h5\n"
     ]
    },
    {
     "name": "stdout",
     "output_type": "stream",
     "text": [
      "  [Lung - zscore], saving to: /mnt/phenomexcan_base/gene_assoc/spredixcan/spredixcan-Lung-zscore.h5\n"
     ]
    },
    {
     "name": "stdout",
     "output_type": "stream",
     "text": [
      "  [Lung - effect_size], saving to: /mnt/phenomexcan_base/gene_assoc/spredixcan/spredixcan-Lung-effect_size.h5\n"
     ]
    },
    {
     "name": "stdout",
     "output_type": "stream",
     "text": [
      "Testis\n"
     ]
    },
    {
     "name": "stdout",
     "output_type": "stream",
     "text": [
      "  [Testis - pvalue], saving to: /mnt/phenomexcan_base/gene_assoc/spredixcan/spredixcan-Testis-pvalue.h5\n"
     ]
    },
    {
     "name": "stdout",
     "output_type": "stream",
     "text": [
      "  [Testis - zscore], saving to: /mnt/phenomexcan_base/gene_assoc/spredixcan/spredixcan-Testis-zscore.h5\n"
     ]
    },
    {
     "name": "stdout",
     "output_type": "stream",
     "text": [
      "  [Testis - effect_size], saving to: /mnt/phenomexcan_base/gene_assoc/spredixcan/spredixcan-Testis-effect_size.h5\n"
     ]
    },
    {
     "name": "stdout",
     "output_type": "stream",
     "text": [
      "Muscle_Skeletal\n"
     ]
    },
    {
     "name": "stdout",
     "output_type": "stream",
     "text": [
      "  [Muscle_Skeletal - pvalue], saving to: /mnt/phenomexcan_base/gene_assoc/spredixcan/spredixcan-Muscle_Skeletal-pvalue.h5\n"
     ]
    },
    {
     "name": "stdout",
     "output_type": "stream",
     "text": [
      "  [Muscle_Skeletal - zscore], saving to: /mnt/phenomexcan_base/gene_assoc/spredixcan/spredixcan-Muscle_Skeletal-zscore.h5\n"
     ]
    },
    {
     "name": "stdout",
     "output_type": "stream",
     "text": [
      "  [Muscle_Skeletal - effect_size], saving to: /mnt/phenomexcan_base/gene_assoc/spredixcan/spredixcan-Muscle_Skeletal-effect_size.h5\n"
     ]
    },
    {
     "name": "stdout",
     "output_type": "stream",
     "text": [
      "Pancreas\n"
     ]
    },
    {
     "name": "stdout",
     "output_type": "stream",
     "text": [
      "  [Pancreas - pvalue], saving to: /mnt/phenomexcan_base/gene_assoc/spredixcan/spredixcan-Pancreas-pvalue.h5\n"
     ]
    },
    {
     "name": "stdout",
     "output_type": "stream",
     "text": [
      "  [Pancreas - zscore], saving to: /mnt/phenomexcan_base/gene_assoc/spredixcan/spredixcan-Pancreas-zscore.h5\n"
     ]
    },
    {
     "name": "stdout",
     "output_type": "stream",
     "text": [
      "  [Pancreas - effect_size], saving to: /mnt/phenomexcan_base/gene_assoc/spredixcan/spredixcan-Pancreas-effect_size.h5\n"
     ]
    },
    {
     "name": "stdout",
     "output_type": "stream",
     "text": [
      "Adipose_Subcutaneous\n"
     ]
    },
    {
     "name": "stdout",
     "output_type": "stream",
     "text": [
      "  [Adipose_Subcutaneous - pvalue], saving to: /mnt/phenomexcan_base/gene_assoc/spredixcan/spredixcan-Adipose_Subcutaneous-pvalue.h5\n"
     ]
    },
    {
     "name": "stdout",
     "output_type": "stream",
     "text": [
      "  [Adipose_Subcutaneous - zscore], saving to: /mnt/phenomexcan_base/gene_assoc/spredixcan/spredixcan-Adipose_Subcutaneous-zscore.h5\n"
     ]
    },
    {
     "name": "stdout",
     "output_type": "stream",
     "text": [
      "  [Adipose_Subcutaneous - effect_size], saving to: /mnt/phenomexcan_base/gene_assoc/spredixcan/spredixcan-Adipose_Subcutaneous-effect_size.h5\n"
     ]
    },
    {
     "name": "stdout",
     "output_type": "stream",
     "text": [
      "Brain_Anterior_cingulate_cortex_BA24\n"
     ]
    },
    {
     "name": "stdout",
     "output_type": "stream",
     "text": [
      "  [Brain_Anterior_cingulate_cortex_BA24 - pvalue], saving to: /mnt/phenomexcan_base/gene_assoc/spredixcan/spredixcan-Brain_Anterior_cingulate_cortex_BA24-pvalue.h5\n"
     ]
    },
    {
     "name": "stdout",
     "output_type": "stream",
     "text": [
      "  [Brain_Anterior_cingulate_cortex_BA24 - zscore], saving to: /mnt/phenomexcan_base/gene_assoc/spredixcan/spredixcan-Brain_Anterior_cingulate_cortex_BA24-zscore.h5\n"
     ]
    },
    {
     "name": "stdout",
     "output_type": "stream",
     "text": [
      "  [Brain_Anterior_cingulate_cortex_BA24 - effect_size], saving to: /mnt/phenomexcan_base/gene_assoc/spredixcan/spredixcan-Brain_Anterior_cingulate_cortex_BA24-effect_size.h5\n"
     ]
    },
    {
     "name": "stdout",
     "output_type": "stream",
     "text": [
      "Whole_Blood\n"
     ]
    },
    {
     "name": "stdout",
     "output_type": "stream",
     "text": [
      "  [Whole_Blood - pvalue], saving to: /mnt/phenomexcan_base/gene_assoc/spredixcan/spredixcan-Whole_Blood-pvalue.h5\n"
     ]
    },
    {
     "name": "stdout",
     "output_type": "stream",
     "text": [
      "  [Whole_Blood - zscore], saving to: /mnt/phenomexcan_base/gene_assoc/spredixcan/spredixcan-Whole_Blood-zscore.h5\n"
     ]
    },
    {
     "name": "stdout",
     "output_type": "stream",
     "text": [
      "  [Whole_Blood - effect_size], saving to: /mnt/phenomexcan_base/gene_assoc/spredixcan/spredixcan-Whole_Blood-effect_size.h5\n"
     ]
    },
    {
     "name": "stdout",
     "output_type": "stream",
     "text": [
      "Breast_Mammary_Tissue\n"
     ]
    },
    {
     "name": "stdout",
     "output_type": "stream",
     "text": [
      "  [Breast_Mammary_Tissue - pvalue], saving to: /mnt/phenomexcan_base/gene_assoc/spredixcan/spredixcan-Breast_Mammary_Tissue-pvalue.h5\n"
     ]
    },
    {
     "name": "stdout",
     "output_type": "stream",
     "text": [
      "  [Breast_Mammary_Tissue - zscore], saving to: /mnt/phenomexcan_base/gene_assoc/spredixcan/spredixcan-Breast_Mammary_Tissue-zscore.h5\n"
     ]
    },
    {
     "name": "stdout",
     "output_type": "stream",
     "text": [
      "  [Breast_Mammary_Tissue - effect_size], saving to: /mnt/phenomexcan_base/gene_assoc/spredixcan/spredixcan-Breast_Mammary_Tissue-effect_size.h5\n"
     ]
    },
    {
     "name": "stdout",
     "output_type": "stream",
     "text": [
      "Brain_Nucleus_accumbens_basal_ganglia\n"
     ]
    },
    {
     "name": "stdout",
     "output_type": "stream",
     "text": [
      "  [Brain_Nucleus_accumbens_basal_ganglia - pvalue], saving to: /mnt/phenomexcan_base/gene_assoc/spredixcan/spredixcan-Brain_Nucleus_accumbens_basal_ganglia-pvalue.h5\n"
     ]
    },
    {
     "name": "stdout",
     "output_type": "stream",
     "text": [
      "  [Brain_Nucleus_accumbens_basal_ganglia - zscore], saving to: /mnt/phenomexcan_base/gene_assoc/spredixcan/spredixcan-Brain_Nucleus_accumbens_basal_ganglia-zscore.h5\n"
     ]
    },
    {
     "name": "stdout",
     "output_type": "stream",
     "text": [
      "  [Brain_Nucleus_accumbens_basal_ganglia - effect_size], saving to: /mnt/phenomexcan_base/gene_assoc/spredixcan/spredixcan-Brain_Nucleus_accumbens_basal_ganglia-effect_size.h5\n"
     ]
    },
    {
     "name": "stdout",
     "output_type": "stream",
     "text": [
      "Kidney_Cortex\n"
     ]
    },
    {
     "name": "stdout",
     "output_type": "stream",
     "text": [
      "  [Kidney_Cortex - pvalue], saving to: /mnt/phenomexcan_base/gene_assoc/spredixcan/spredixcan-Kidney_Cortex-pvalue.h5\n"
     ]
    },
    {
     "name": "stdout",
     "output_type": "stream",
     "text": [
      "  [Kidney_Cortex - zscore], saving to: /mnt/phenomexcan_base/gene_assoc/spredixcan/spredixcan-Kidney_Cortex-zscore.h5\n"
     ]
    },
    {
     "name": "stdout",
     "output_type": "stream",
     "text": [
      "  [Kidney_Cortex - effect_size], saving to: /mnt/phenomexcan_base/gene_assoc/spredixcan/spredixcan-Kidney_Cortex-effect_size.h5\n"
     ]
    },
    {
     "name": "stdout",
     "output_type": "stream",
     "text": [
      "Brain_Substantia_nigra\n"
     ]
    },
    {
     "name": "stdout",
     "output_type": "stream",
     "text": [
      "  [Brain_Substantia_nigra - pvalue], saving to: /mnt/phenomexcan_base/gene_assoc/spredixcan/spredixcan-Brain_Substantia_nigra-pvalue.h5\n"
     ]
    },
    {
     "name": "stdout",
     "output_type": "stream",
     "text": [
      "  [Brain_Substantia_nigra - zscore], saving to: /mnt/phenomexcan_base/gene_assoc/spredixcan/spredixcan-Brain_Substantia_nigra-zscore.h5\n"
     ]
    },
    {
     "name": "stdout",
     "output_type": "stream",
     "text": [
      "  [Brain_Substantia_nigra - effect_size], saving to: /mnt/phenomexcan_base/gene_assoc/spredixcan/spredixcan-Brain_Substantia_nigra-effect_size.h5\n"
     ]
    },
    {
     "name": "stdout",
     "output_type": "stream",
     "text": [
      "Prostate\n"
     ]
    },
    {
     "name": "stdout",
     "output_type": "stream",
     "text": [
      "  [Prostate - pvalue], saving to: /mnt/phenomexcan_base/gene_assoc/spredixcan/spredixcan-Prostate-pvalue.h5\n"
     ]
    },
    {
     "name": "stdout",
     "output_type": "stream",
     "text": [
      "  [Prostate - zscore], saving to: /mnt/phenomexcan_base/gene_assoc/spredixcan/spredixcan-Prostate-zscore.h5\n"
     ]
    },
    {
     "name": "stdout",
     "output_type": "stream",
     "text": [
      "  [Prostate - effect_size], saving to: /mnt/phenomexcan_base/gene_assoc/spredixcan/spredixcan-Prostate-effect_size.h5\n"
     ]
    },
    {
     "name": "stdout",
     "output_type": "stream",
     "text": [
      "Stomach\n"
     ]
    },
    {
     "name": "stdout",
     "output_type": "stream",
     "text": [
      "  [Stomach - pvalue], saving to: /mnt/phenomexcan_base/gene_assoc/spredixcan/spredixcan-Stomach-pvalue.h5\n"
     ]
    },
    {
     "name": "stdout",
     "output_type": "stream",
     "text": [
      "  [Stomach - zscore], saving to: /mnt/phenomexcan_base/gene_assoc/spredixcan/spredixcan-Stomach-zscore.h5\n"
     ]
    },
    {
     "name": "stdout",
     "output_type": "stream",
     "text": [
      "  [Stomach - effect_size], saving to: /mnt/phenomexcan_base/gene_assoc/spredixcan/spredixcan-Stomach-effect_size.h5\n"
     ]
    },
    {
     "name": "stdout",
     "output_type": "stream",
     "text": [
      "Brain_Caudate_basal_ganglia\n"
     ]
    },
    {
     "name": "stdout",
     "output_type": "stream",
     "text": [
      "  [Brain_Caudate_basal_ganglia - pvalue], saving to: /mnt/phenomexcan_base/gene_assoc/spredixcan/spredixcan-Brain_Caudate_basal_ganglia-pvalue.h5\n"
     ]
    },
    {
     "name": "stdout",
     "output_type": "stream",
     "text": [
      "  [Brain_Caudate_basal_ganglia - zscore], saving to: /mnt/phenomexcan_base/gene_assoc/spredixcan/spredixcan-Brain_Caudate_basal_ganglia-zscore.h5\n"
     ]
    },
    {
     "name": "stdout",
     "output_type": "stream",
     "text": [
      "  [Brain_Caudate_basal_ganglia - effect_size], saving to: /mnt/phenomexcan_base/gene_assoc/spredixcan/spredixcan-Brain_Caudate_basal_ganglia-effect_size.h5\n"
     ]
    },
    {
     "name": "stdout",
     "output_type": "stream",
     "text": [
      "Nerve_Tibial\n"
     ]
    },
    {
     "name": "stdout",
     "output_type": "stream",
     "text": [
      "  [Nerve_Tibial - pvalue], saving to: /mnt/phenomexcan_base/gene_assoc/spredixcan/spredixcan-Nerve_Tibial-pvalue.h5\n"
     ]
    },
    {
     "name": "stdout",
     "output_type": "stream",
     "text": [
      "  [Nerve_Tibial - zscore], saving to: /mnt/phenomexcan_base/gene_assoc/spredixcan/spredixcan-Nerve_Tibial-zscore.h5\n"
     ]
    },
    {
     "name": "stdout",
     "output_type": "stream",
     "text": [
      "  [Nerve_Tibial - effect_size], saving to: /mnt/phenomexcan_base/gene_assoc/spredixcan/spredixcan-Nerve_Tibial-effect_size.h5\n"
     ]
    },
    {
     "name": "stdout",
     "output_type": "stream",
     "text": [
      "Brain_Cerebellum\n"
     ]
    },
    {
     "name": "stdout",
     "output_type": "stream",
     "text": [
      "  [Brain_Cerebellum - pvalue], saving to: /mnt/phenomexcan_base/gene_assoc/spredixcan/spredixcan-Brain_Cerebellum-pvalue.h5\n"
     ]
    },
    {
     "name": "stdout",
     "output_type": "stream",
     "text": [
      "  [Brain_Cerebellum - zscore], saving to: /mnt/phenomexcan_base/gene_assoc/spredixcan/spredixcan-Brain_Cerebellum-zscore.h5\n"
     ]
    },
    {
     "name": "stdout",
     "output_type": "stream",
     "text": [
      "  [Brain_Cerebellum - effect_size], saving to: /mnt/phenomexcan_base/gene_assoc/spredixcan/spredixcan-Brain_Cerebellum-effect_size.h5\n"
     ]
    },
    {
     "name": "stdout",
     "output_type": "stream",
     "text": [
      "Cells_Cultured_fibroblasts\n"
     ]
    },
    {
     "name": "stdout",
     "output_type": "stream",
     "text": [
      "  [Cells_Cultured_fibroblasts - pvalue], saving to: /mnt/phenomexcan_base/gene_assoc/spredixcan/spredixcan-Cells_Cultured_fibroblasts-pvalue.h5\n"
     ]
    },
    {
     "name": "stdout",
     "output_type": "stream",
     "text": [
      "  [Cells_Cultured_fibroblasts - zscore], saving to: /mnt/phenomexcan_base/gene_assoc/spredixcan/spredixcan-Cells_Cultured_fibroblasts-zscore.h5\n"
     ]
    },
    {
     "name": "stdout",
     "output_type": "stream",
     "text": [
      "  [Cells_Cultured_fibroblasts - effect_size], saving to: /mnt/phenomexcan_base/gene_assoc/spredixcan/spredixcan-Cells_Cultured_fibroblasts-effect_size.h5\n"
     ]
    },
    {
     "name": "stdout",
     "output_type": "stream",
     "text": [
      "Heart_Left_Ventricle\n"
     ]
    },
    {
     "name": "stdout",
     "output_type": "stream",
     "text": [
      "  [Heart_Left_Ventricle - pvalue], saving to: /mnt/phenomexcan_base/gene_assoc/spredixcan/spredixcan-Heart_Left_Ventricle-pvalue.h5\n"
     ]
    },
    {
     "name": "stdout",
     "output_type": "stream",
     "text": [
      "  [Heart_Left_Ventricle - zscore], saving to: /mnt/phenomexcan_base/gene_assoc/spredixcan/spredixcan-Heart_Left_Ventricle-zscore.h5\n"
     ]
    },
    {
     "name": "stdout",
     "output_type": "stream",
     "text": [
      "  [Heart_Left_Ventricle - effect_size], saving to: /mnt/phenomexcan_base/gene_assoc/spredixcan/spredixcan-Heart_Left_Ventricle-effect_size.h5\n"
     ]
    },
    {
     "name": "stdout",
     "output_type": "stream",
     "text": [
      "Pituitary\n"
     ]
    },
    {
     "name": "stdout",
     "output_type": "stream",
     "text": [
      "  [Pituitary - pvalue], saving to: /mnt/phenomexcan_base/gene_assoc/spredixcan/spredixcan-Pituitary-pvalue.h5\n"
     ]
    },
    {
     "name": "stdout",
     "output_type": "stream",
     "text": [
      "  [Pituitary - zscore], saving to: /mnt/phenomexcan_base/gene_assoc/spredixcan/spredixcan-Pituitary-zscore.h5\n"
     ]
    },
    {
     "name": "stdout",
     "output_type": "stream",
     "text": [
      "  [Pituitary - effect_size], saving to: /mnt/phenomexcan_base/gene_assoc/spredixcan/spredixcan-Pituitary-effect_size.h5\n"
     ]
    },
    {
     "name": "stdout",
     "output_type": "stream",
     "text": [
      "Brain_Hippocampus\n"
     ]
    },
    {
     "name": "stdout",
     "output_type": "stream",
     "text": [
      "  [Brain_Hippocampus - pvalue], saving to: /mnt/phenomexcan_base/gene_assoc/spredixcan/spredixcan-Brain_Hippocampus-pvalue.h5\n"
     ]
    },
    {
     "name": "stdout",
     "output_type": "stream",
     "text": [
      "  [Brain_Hippocampus - zscore], saving to: /mnt/phenomexcan_base/gene_assoc/spredixcan/spredixcan-Brain_Hippocampus-zscore.h5\n"
     ]
    },
    {
     "name": "stdout",
     "output_type": "stream",
     "text": [
      "  [Brain_Hippocampus - effect_size], saving to: /mnt/phenomexcan_base/gene_assoc/spredixcan/spredixcan-Brain_Hippocampus-effect_size.h5\n"
     ]
    },
    {
     "name": "stdout",
     "output_type": "stream",
     "text": [
      "Small_Intestine_Terminal_Ileum\n"
     ]
    },
    {
     "name": "stdout",
     "output_type": "stream",
     "text": [
      "  [Small_Intestine_Terminal_Ileum - pvalue], saving to: /mnt/phenomexcan_base/gene_assoc/spredixcan/spredixcan-Small_Intestine_Terminal_Ileum-pvalue.h5\n"
     ]
    },
    {
     "name": "stdout",
     "output_type": "stream",
     "text": [
      "  [Small_Intestine_Terminal_Ileum - zscore], saving to: /mnt/phenomexcan_base/gene_assoc/spredixcan/spredixcan-Small_Intestine_Terminal_Ileum-zscore.h5\n"
     ]
    },
    {
     "name": "stdout",
     "output_type": "stream",
     "text": [
      "  [Small_Intestine_Terminal_Ileum - effect_size], saving to: /mnt/phenomexcan_base/gene_assoc/spredixcan/spredixcan-Small_Intestine_Terminal_Ileum-effect_size.h5\n"
     ]
    },
    {
     "name": "stdout",
     "output_type": "stream",
     "text": [
      "Adrenal_Gland\n"
     ]
    },
    {
     "name": "stdout",
     "output_type": "stream",
     "text": [
      "  [Adrenal_Gland - pvalue], saving to: /mnt/phenomexcan_base/gene_assoc/spredixcan/spredixcan-Adrenal_Gland-pvalue.h5\n"
     ]
    },
    {
     "name": "stdout",
     "output_type": "stream",
     "text": [
      "  [Adrenal_Gland - zscore], saving to: /mnt/phenomexcan_base/gene_assoc/spredixcan/spredixcan-Adrenal_Gland-zscore.h5\n"
     ]
    },
    {
     "name": "stdout",
     "output_type": "stream",
     "text": [
      "  [Adrenal_Gland - effect_size], saving to: /mnt/phenomexcan_base/gene_assoc/spredixcan/spredixcan-Adrenal_Gland-effect_size.h5\n"
     ]
    },
    {
     "name": "stdout",
     "output_type": "stream",
     "text": [
      "Artery_Aorta\n"
     ]
    },
    {
     "name": "stdout",
     "output_type": "stream",
     "text": [
      "  [Artery_Aorta - pvalue], saving to: /mnt/phenomexcan_base/gene_assoc/spredixcan/spredixcan-Artery_Aorta-pvalue.h5\n"
     ]
    },
    {
     "name": "stdout",
     "output_type": "stream",
     "text": [
      "  [Artery_Aorta - zscore], saving to: /mnt/phenomexcan_base/gene_assoc/spredixcan/spredixcan-Artery_Aorta-zscore.h5\n"
     ]
    },
    {
     "name": "stdout",
     "output_type": "stream",
     "text": [
      "  [Artery_Aorta - effect_size], saving to: /mnt/phenomexcan_base/gene_assoc/spredixcan/spredixcan-Artery_Aorta-effect_size.h5\n"
     ]
    },
    {
     "name": "stdout",
     "output_type": "stream",
     "text": [
      "Liver\n"
     ]
    },
    {
     "name": "stdout",
     "output_type": "stream",
     "text": [
      "  [Liver - pvalue], saving to: /mnt/phenomexcan_base/gene_assoc/spredixcan/spredixcan-Liver-pvalue.h5\n"
     ]
    },
    {
     "name": "stdout",
     "output_type": "stream",
     "text": [
      "  [Liver - zscore], saving to: /mnt/phenomexcan_base/gene_assoc/spredixcan/spredixcan-Liver-zscore.h5\n"
     ]
    },
    {
     "name": "stdout",
     "output_type": "stream",
     "text": [
      "  [Liver - effect_size], saving to: /mnt/phenomexcan_base/gene_assoc/spredixcan/spredixcan-Liver-effect_size.h5\n"
     ]
    },
    {
     "name": "stdout",
     "output_type": "stream",
     "text": [
      "Artery_Coronary\n"
     ]
    },
    {
     "name": "stdout",
     "output_type": "stream",
     "text": [
      "  [Artery_Coronary - pvalue], saving to: /mnt/phenomexcan_base/gene_assoc/spredixcan/spredixcan-Artery_Coronary-pvalue.h5\n"
     ]
    },
    {
     "name": "stdout",
     "output_type": "stream",
     "text": [
      "  [Artery_Coronary - zscore], saving to: /mnt/phenomexcan_base/gene_assoc/spredixcan/spredixcan-Artery_Coronary-zscore.h5\n"
     ]
    },
    {
     "name": "stdout",
     "output_type": "stream",
     "text": [
      "  [Artery_Coronary - effect_size], saving to: /mnt/phenomexcan_base/gene_assoc/spredixcan/spredixcan-Artery_Coronary-effect_size.h5\n"
     ]
    },
    {
     "name": "stdout",
     "output_type": "stream",
     "text": [
      "Brain_Spinal_cord_cervical_c-1\n"
     ]
    },
    {
     "name": "stdout",
     "output_type": "stream",
     "text": [
      "  [Brain_Spinal_cord_cervical_c-1 - pvalue], saving to: /mnt/phenomexcan_base/gene_assoc/spredixcan/spredixcan-Brain_Spinal_cord_cervical_c-1-pvalue.h5\n"
     ]
    },
    {
     "name": "stdout",
     "output_type": "stream",
     "text": [
      "  [Brain_Spinal_cord_cervical_c-1 - zscore], saving to: /mnt/phenomexcan_base/gene_assoc/spredixcan/spredixcan-Brain_Spinal_cord_cervical_c-1-zscore.h5\n"
     ]
    },
    {
     "name": "stdout",
     "output_type": "stream",
     "text": [
      "  [Brain_Spinal_cord_cervical_c-1 - effect_size], saving to: /mnt/phenomexcan_base/gene_assoc/spredixcan/spredixcan-Brain_Spinal_cord_cervical_c-1-effect_size.h5\n"
     ]
    },
    {
     "name": "stdout",
     "output_type": "stream",
     "text": [
      "Heart_Atrial_Appendage\n"
     ]
    },
    {
     "name": "stdout",
     "output_type": "stream",
     "text": [
      "  [Heart_Atrial_Appendage - pvalue], saving to: /mnt/phenomexcan_base/gene_assoc/spredixcan/spredixcan-Heart_Atrial_Appendage-pvalue.h5\n"
     ]
    },
    {
     "name": "stdout",
     "output_type": "stream",
     "text": [
      "  [Heart_Atrial_Appendage - zscore], saving to: /mnt/phenomexcan_base/gene_assoc/spredixcan/spredixcan-Heart_Atrial_Appendage-zscore.h5\n"
     ]
    },
    {
     "name": "stdout",
     "output_type": "stream",
     "text": [
      "  [Heart_Atrial_Appendage - effect_size], saving to: /mnt/phenomexcan_base/gene_assoc/spredixcan/spredixcan-Heart_Atrial_Appendage-effect_size.h5\n"
     ]
    },
    {
     "name": "stdout",
     "output_type": "stream",
     "text": [
      "Artery_Tibial\n"
     ]
    },
    {
     "name": "stdout",
     "output_type": "stream",
     "text": [
      "  [Artery_Tibial - pvalue], saving to: /mnt/phenomexcan_base/gene_assoc/spredixcan/spredixcan-Artery_Tibial-pvalue.h5\n"
     ]
    },
    {
     "name": "stdout",
     "output_type": "stream",
     "text": [
      "  [Artery_Tibial - zscore], saving to: /mnt/phenomexcan_base/gene_assoc/spredixcan/spredixcan-Artery_Tibial-zscore.h5\n"
     ]
    },
    {
     "name": "stdout",
     "output_type": "stream",
     "text": [
      "  [Artery_Tibial - effect_size], saving to: /mnt/phenomexcan_base/gene_assoc/spredixcan/spredixcan-Artery_Tibial-effect_size.h5\n"
     ]
    },
    {
     "name": "stdout",
     "output_type": "stream",
     "text": [
      "Brain_Cortex\n"
     ]
    },
    {
     "name": "stdout",
     "output_type": "stream",
     "text": [
      "  [Brain_Cortex - pvalue], saving to: /mnt/phenomexcan_base/gene_assoc/spredixcan/spredixcan-Brain_Cortex-pvalue.h5\n"
     ]
    },
    {
     "name": "stdout",
     "output_type": "stream",
     "text": [
      "  [Brain_Cortex - zscore], saving to: /mnt/phenomexcan_base/gene_assoc/spredixcan/spredixcan-Brain_Cortex-zscore.h5\n"
     ]
    },
    {
     "name": "stdout",
     "output_type": "stream",
     "text": [
      "  [Brain_Cortex - effect_size], saving to: /mnt/phenomexcan_base/gene_assoc/spredixcan/spredixcan-Brain_Cortex-effect_size.h5\n"
     ]
    },
    {
     "name": "stdout",
     "output_type": "stream",
     "text": [
      "Uterus\n"
     ]
    },
    {
     "name": "stdout",
     "output_type": "stream",
     "text": [
      "  [Uterus - pvalue], saving to: /mnt/phenomexcan_base/gene_assoc/spredixcan/spredixcan-Uterus-pvalue.h5\n"
     ]
    },
    {
     "name": "stdout",
     "output_type": "stream",
     "text": [
      "  [Uterus - zscore], saving to: /mnt/phenomexcan_base/gene_assoc/spredixcan/spredixcan-Uterus-zscore.h5\n"
     ]
    },
    {
     "name": "stdout",
     "output_type": "stream",
     "text": [
      "  [Uterus - effect_size], saving to: /mnt/phenomexcan_base/gene_assoc/spredixcan/spredixcan-Uterus-effect_size.h5\n"
     ]
    },
    {
     "name": "stdout",
     "output_type": "stream",
     "text": [
      "Brain_Putamen_basal_ganglia\n"
     ]
    },
    {
     "name": "stdout",
     "output_type": "stream",
     "text": [
      "  [Brain_Putamen_basal_ganglia - pvalue], saving to: /mnt/phenomexcan_base/gene_assoc/spredixcan/spredixcan-Brain_Putamen_basal_ganglia-pvalue.h5\n"
     ]
    },
    {
     "name": "stdout",
     "output_type": "stream",
     "text": [
      "  [Brain_Putamen_basal_ganglia - zscore], saving to: /mnt/phenomexcan_base/gene_assoc/spredixcan/spredixcan-Brain_Putamen_basal_ganglia-zscore.h5\n"
     ]
    },
    {
     "name": "stdout",
     "output_type": "stream",
     "text": [
      "  [Brain_Putamen_basal_ganglia - effect_size], saving to: /mnt/phenomexcan_base/gene_assoc/spredixcan/spredixcan-Brain_Putamen_basal_ganglia-effect_size.h5\n"
     ]
    },
    {
     "name": "stdout",
     "output_type": "stream",
     "text": [
      "Minor_Salivary_Gland\n"
     ]
    },
    {
     "name": "stdout",
     "output_type": "stream",
     "text": [
      "  [Minor_Salivary_Gland - pvalue], saving to: /mnt/phenomexcan_base/gene_assoc/spredixcan/spredixcan-Minor_Salivary_Gland-pvalue.h5\n"
     ]
    },
    {
     "name": "stdout",
     "output_type": "stream",
     "text": [
      "  [Minor_Salivary_Gland - zscore], saving to: /mnt/phenomexcan_base/gene_assoc/spredixcan/spredixcan-Minor_Salivary_Gland-zscore.h5\n"
     ]
    },
    {
     "name": "stdout",
     "output_type": "stream",
     "text": [
      "  [Minor_Salivary_Gland - effect_size], saving to: /mnt/phenomexcan_base/gene_assoc/spredixcan/spredixcan-Minor_Salivary_Gland-effect_size.h5\n"
     ]
    },
    {
     "name": "stdout",
     "output_type": "stream",
     "text": [
      "Brain_Cerebellar_Hemisphere\n"
     ]
    },
    {
     "name": "stdout",
     "output_type": "stream",
     "text": [
      "  [Brain_Cerebellar_Hemisphere - pvalue], saving to: /mnt/phenomexcan_base/gene_assoc/spredixcan/spredixcan-Brain_Cerebellar_Hemisphere-pvalue.h5\n"
     ]
    },
    {
     "name": "stdout",
     "output_type": "stream",
     "text": [
      "  [Brain_Cerebellar_Hemisphere - zscore], saving to: /mnt/phenomexcan_base/gene_assoc/spredixcan/spredixcan-Brain_Cerebellar_Hemisphere-zscore.h5\n"
     ]
    },
    {
     "name": "stdout",
     "output_type": "stream",
     "text": [
      "  [Brain_Cerebellar_Hemisphere - effect_size], saving to: /mnt/phenomexcan_base/gene_assoc/spredixcan/spredixcan-Brain_Cerebellar_Hemisphere-effect_size.h5\n"
     ]
    },
    {
     "name": "stdout",
     "output_type": "stream",
     "text": [
      "Vagina\n"
     ]
    },
    {
     "name": "stdout",
     "output_type": "stream",
     "text": [
      "  [Vagina - pvalue], saving to: /mnt/phenomexcan_base/gene_assoc/spredixcan/spredixcan-Vagina-pvalue.h5\n"
     ]
    },
    {
     "name": "stdout",
     "output_type": "stream",
     "text": [
      "  [Vagina - zscore], saving to: /mnt/phenomexcan_base/gene_assoc/spredixcan/spredixcan-Vagina-zscore.h5\n"
     ]
    },
    {
     "name": "stdout",
     "output_type": "stream",
     "text": [
      "  [Vagina - effect_size], saving to: /mnt/phenomexcan_base/gene_assoc/spredixcan/spredixcan-Vagina-effect_size.h5\n"
     ]
    },
    {
     "name": "stdout",
     "output_type": "stream",
     "text": [
      "Esophagus_Mucosa\n"
     ]
    },
    {
     "name": "stdout",
     "output_type": "stream",
     "text": [
      "  [Esophagus_Mucosa - pvalue], saving to: /mnt/phenomexcan_base/gene_assoc/spredixcan/spredixcan-Esophagus_Mucosa-pvalue.h5\n"
     ]
    },
    {
     "name": "stdout",
     "output_type": "stream",
     "text": [
      "  [Esophagus_Mucosa - zscore], saving to: /mnt/phenomexcan_base/gene_assoc/spredixcan/spredixcan-Esophagus_Mucosa-zscore.h5\n"
     ]
    },
    {
     "name": "stdout",
     "output_type": "stream",
     "text": [
      "  [Esophagus_Mucosa - effect_size], saving to: /mnt/phenomexcan_base/gene_assoc/spredixcan/spredixcan-Esophagus_Mucosa-effect_size.h5\n"
     ]
    },
    {
     "name": "stdout",
     "output_type": "stream",
     "text": [
      "Brain_Frontal_Cortex_BA9\n"
     ]
    },
    {
     "name": "stdout",
     "output_type": "stream",
     "text": [
      "  [Brain_Frontal_Cortex_BA9 - pvalue], saving to: /mnt/phenomexcan_base/gene_assoc/spredixcan/spredixcan-Brain_Frontal_Cortex_BA9-pvalue.h5\n"
     ]
    },
    {
     "name": "stdout",
     "output_type": "stream",
     "text": [
      "  [Brain_Frontal_Cortex_BA9 - zscore], saving to: /mnt/phenomexcan_base/gene_assoc/spredixcan/spredixcan-Brain_Frontal_Cortex_BA9-zscore.h5\n"
     ]
    },
    {
     "name": "stdout",
     "output_type": "stream",
     "text": [
      "  [Brain_Frontal_Cortex_BA9 - effect_size], saving to: /mnt/phenomexcan_base/gene_assoc/spredixcan/spredixcan-Brain_Frontal_Cortex_BA9-effect_size.h5\n"
     ]
    },
    {
     "name": "stdout",
     "output_type": "stream",
     "text": [
      "Cells_EBV-transformed_lymphocytes\n"
     ]
    },
    {
     "name": "stdout",
     "output_type": "stream",
     "text": [
      "  [Cells_EBV-transformed_lymphocytes - pvalue], saving to: /mnt/phenomexcan_base/gene_assoc/spredixcan/spredixcan-Cells_EBV-transformed_lymphocytes-pvalue.h5\n"
     ]
    },
    {
     "name": "stdout",
     "output_type": "stream",
     "text": [
      "  [Cells_EBV-transformed_lymphocytes - zscore], saving to: /mnt/phenomexcan_base/gene_assoc/spredixcan/spredixcan-Cells_EBV-transformed_lymphocytes-zscore.h5\n"
     ]
    },
    {
     "name": "stdout",
     "output_type": "stream",
     "text": [
      "  [Cells_EBV-transformed_lymphocytes - effect_size], saving to: /mnt/phenomexcan_base/gene_assoc/spredixcan/spredixcan-Cells_EBV-transformed_lymphocytes-effect_size.h5\n"
     ]
    },
    {
     "name": "stdout",
     "output_type": "stream",
     "text": [
      "Skin_Sun_Exposed_Lower_leg\n"
     ]
    },
    {
     "name": "stdout",
     "output_type": "stream",
     "text": [
      "  [Skin_Sun_Exposed_Lower_leg - pvalue], saving to: /mnt/phenomexcan_base/gene_assoc/spredixcan/spredixcan-Skin_Sun_Exposed_Lower_leg-pvalue.h5\n"
     ]
    },
    {
     "name": "stdout",
     "output_type": "stream",
     "text": [
      "  [Skin_Sun_Exposed_Lower_leg - zscore], saving to: /mnt/phenomexcan_base/gene_assoc/spredixcan/spredixcan-Skin_Sun_Exposed_Lower_leg-zscore.h5\n"
     ]
    },
    {
     "name": "stdout",
     "output_type": "stream",
     "text": [
      "  [Skin_Sun_Exposed_Lower_leg - effect_size], saving to: /mnt/phenomexcan_base/gene_assoc/spredixcan/spredixcan-Skin_Sun_Exposed_Lower_leg-effect_size.h5\n"
     ]
    },
    {
     "name": "stdout",
     "output_type": "stream",
     "text": [
      "Spleen\n"
     ]
    },
    {
     "name": "stdout",
     "output_type": "stream",
     "text": [
      "  [Spleen - pvalue], saving to: /mnt/phenomexcan_base/gene_assoc/spredixcan/spredixcan-Spleen-pvalue.h5\n"
     ]
    },
    {
     "name": "stdout",
     "output_type": "stream",
     "text": [
      "  [Spleen - zscore], saving to: /mnt/phenomexcan_base/gene_assoc/spredixcan/spredixcan-Spleen-zscore.h5\n"
     ]
    },
    {
     "name": "stdout",
     "output_type": "stream",
     "text": [
      "  [Spleen - effect_size], saving to: /mnt/phenomexcan_base/gene_assoc/spredixcan/spredixcan-Spleen-effect_size.h5\n"
     ]
    },
    {
     "name": "stdout",
     "output_type": "stream",
     "text": [
      "Esophagus_Muscularis\n"
     ]
    },
    {
     "name": "stdout",
     "output_type": "stream",
     "text": [
      "  [Esophagus_Muscularis - pvalue], saving to: /mnt/phenomexcan_base/gene_assoc/spredixcan/spredixcan-Esophagus_Muscularis-pvalue.h5\n"
     ]
    },
    {
     "name": "stdout",
     "output_type": "stream",
     "text": [
      "  [Esophagus_Muscularis - zscore], saving to: /mnt/phenomexcan_base/gene_assoc/spredixcan/spredixcan-Esophagus_Muscularis-zscore.h5\n"
     ]
    },
    {
     "name": "stdout",
     "output_type": "stream",
     "text": [
      "  [Esophagus_Muscularis - effect_size], saving to: /mnt/phenomexcan_base/gene_assoc/spredixcan/spredixcan-Esophagus_Muscularis-effect_size.h5\n"
     ]
    },
    {
     "name": "stdout",
     "output_type": "stream",
     "text": [
      "Adipose_Visceral_Omentum\n"
     ]
    },
    {
     "name": "stdout",
     "output_type": "stream",
     "text": [
      "  [Adipose_Visceral_Omentum - pvalue], saving to: /mnt/phenomexcan_base/gene_assoc/spredixcan/spredixcan-Adipose_Visceral_Omentum-pvalue.h5\n"
     ]
    },
    {
     "name": "stdout",
     "output_type": "stream",
     "text": [
      "  [Adipose_Visceral_Omentum - zscore], saving to: /mnt/phenomexcan_base/gene_assoc/spredixcan/spredixcan-Adipose_Visceral_Omentum-zscore.h5\n"
     ]
    },
    {
     "name": "stdout",
     "output_type": "stream",
     "text": [
      "  [Adipose_Visceral_Omentum - effect_size], saving to: /mnt/phenomexcan_base/gene_assoc/spredixcan/spredixcan-Adipose_Visceral_Omentum-effect_size.h5\n"
     ]
    },
    {
     "name": "stdout",
     "output_type": "stream",
     "text": [
      "Brain_Hypothalamus\n"
     ]
    },
    {
     "name": "stdout",
     "output_type": "stream",
     "text": [
      "  [Brain_Hypothalamus - pvalue], saving to: /mnt/phenomexcan_base/gene_assoc/spredixcan/spredixcan-Brain_Hypothalamus-pvalue.h5\n"
     ]
    },
    {
     "name": "stdout",
     "output_type": "stream",
     "text": [
      "  [Brain_Hypothalamus - zscore], saving to: /mnt/phenomexcan_base/gene_assoc/spredixcan/spredixcan-Brain_Hypothalamus-zscore.h5\n"
     ]
    },
    {
     "name": "stdout",
     "output_type": "stream",
     "text": [
      "  [Brain_Hypothalamus - effect_size], saving to: /mnt/phenomexcan_base/gene_assoc/spredixcan/spredixcan-Brain_Hypothalamus-effect_size.h5\n"
     ]
    },
    {
     "name": "stdout",
     "output_type": "stream",
     "text": [
      "Esophagus_Gastroesophageal_Junction\n"
     ]
    },
    {
     "name": "stdout",
     "output_type": "stream",
     "text": [
      "  [Esophagus_Gastroesophageal_Junction - pvalue], saving to: /mnt/phenomexcan_base/gene_assoc/spredixcan/spredixcan-Esophagus_Gastroesophageal_Junction-pvalue.h5\n"
     ]
    },
    {
     "name": "stdout",
     "output_type": "stream",
     "text": [
      "  [Esophagus_Gastroesophageal_Junction - zscore], saving to: /mnt/phenomexcan_base/gene_assoc/spredixcan/spredixcan-Esophagus_Gastroesophageal_Junction-zscore.h5\n"
     ]
    },
    {
     "name": "stdout",
     "output_type": "stream",
     "text": [
      "  [Esophagus_Gastroesophageal_Junction - effect_size], saving to: /mnt/phenomexcan_base/gene_assoc/spredixcan/spredixcan-Esophagus_Gastroesophageal_Junction-effect_size.h5\n"
     ]
    }
   ],
   "source": [
    "run_all(tissues, phenotype_chunks)"
   ]
  },
  {
   "cell_type": "code",
   "execution_count": 24,
   "metadata": {
    "papermill": {
     "duration": 0.427318,
     "end_time": "2020-01-02T12:58:12.035929",
     "exception": false,
     "start_time": "2020-01-02T12:58:11.608611",
     "status": "completed"
    },
    "tags": []
   },
   "outputs": [],
   "source": [
    "# writing_thread.join()"
   ]
  },
  {
   "cell_type": "markdown",
   "metadata": {
    "papermill": {
     "duration": 0.129164,
     "end_time": "2020-01-02T12:58:12.296897",
     "exception": false,
     "start_time": "2020-01-02T12:58:12.167733",
     "status": "completed"
    },
    "tags": []
   },
   "source": [
    "## Testing"
   ]
  },
  {
   "cell_type": "code",
   "execution_count": 25,
   "metadata": {
    "papermill": {
     "duration": 0.269663,
     "end_time": "2020-01-02T12:58:12.695395",
     "exception": false,
     "start_time": "2020-01-02T12:58:12.425732",
     "status": "completed"
    },
    "tags": []
   },
   "outputs": [],
   "source": [
    "n_expected_phenos = np.sum(list(conf.SMULTIXCAN_EXPECTED_PHENOTYPES.values()))"
   ]
  },
  {
   "cell_type": "code",
   "execution_count": 26,
   "metadata": {
    "papermill": {
     "duration": 0.18212,
     "end_time": "2020-01-02T12:58:13.050661",
     "exception": false,
     "start_time": "2020-01-02T12:58:12.868541",
     "status": "completed"
    },
    "tags": []
   },
   "outputs": [
    {
     "data": {
      "text/plain": [
       "4091"
      ]
     },
     "execution_count": 26,
     "metadata": {},
     "output_type": "execute_result"
    }
   ],
   "source": [
    "n_expected_phenos"
   ]
  },
  {
   "cell_type": "code",
   "execution_count": 27,
   "metadata": {
    "papermill": {
     "duration": 30.174939,
     "end_time": "2020-01-02T12:58:43.360931",
     "exception": false,
     "start_time": "2020-01-02T12:58:13.185992",
     "status": "completed"
    },
    "tags": []
   },
   "outputs": [
    {
     "data": {
      "text/plain": [
       "['/c100001_raw_Food_weight',\n",
       " '/c100002_raw_Energy',\n",
       " '/c100003_raw_Protein',\n",
       " '/c100004_raw_Fat',\n",
       " '/c100005_raw_Carbohydrate']"
      ]
     },
     "metadata": {},
     "output_type": "display_data"
    }
   ],
   "source": [
    "output_hdf5_file = os.path.join(OUTPUT_FOLDER, 'spredixcan-Thyroid-pvalue.h5')\n",
    "\n",
    "with pd.HDFStore(output_hdf5_file, mode='r') as store:\n",
    "    store_keys = list(store.keys())\n",
    "    assert len(store_keys) == n_expected_phenos\n",
    "    display(store_keys[:5])\n",
    "    \n",
    "    clean_col = simplify_string_for_hdf5('N02-Diagnoses_main_ICD10_N02_Recurrent_and_persistent_haematuria')\n",
    "    data = store[clean_col]\n",
    "    assert data.shape == (15289,), data.shape\n",
    "    assert data.loc['ENSG00000213965'] == 0.00023756504804916094, data.loc['ENSG00000213965']\n",
    "    assert pd.isnull(data.loc['ENSG00000198670'])\n",
    "    assert data.loc['ENSG00000177025'] == 1.586957013502016e-05, data.loc['ENSG00000177025']\n",
    "    \n",
    "    clean_col = simplify_string_for_hdf5('MAGNETIC_LDL.C')\n",
    "    data = store[clean_col]\n",
    "    assert data.shape == (15289,), data.shape\n",
    "    assert data.loc['ENSG00000113163'] == 1.3600016190892495e-13, data.loc['ENSG00000113163']\n",
    "    assert pd.isnull(data.loc['ENSG00000223510'])\n",
    "    assert data.loc['ENSG00000204241'] == 0.9990521310244208, data.loc['ENSG00000204241']"
   ]
  },
  {
   "cell_type": "code",
   "execution_count": 28,
   "metadata": {
    "papermill": {
     "duration": 21.332831,
     "end_time": "2020-01-02T12:59:04.835152",
     "exception": false,
     "start_time": "2020-01-02T12:58:43.502321",
     "status": "completed"
    },
    "tags": []
   },
   "outputs": [
    {
     "data": {
      "text/plain": [
       "['/c100001_raw_Food_weight',\n",
       " '/c100002_raw_Energy',\n",
       " '/c100003_raw_Protein',\n",
       " '/c100004_raw_Fat',\n",
       " '/c100005_raw_Carbohydrate']"
      ]
     },
     "metadata": {},
     "output_type": "display_data"
    }
   ],
   "source": [
    "output_hdf5_file = os.path.join(OUTPUT_FOLDER, 'spredixcan-Thyroid-zscore.h5')\n",
    "\n",
    "with pd.HDFStore(output_hdf5_file, mode='r') as store:\n",
    "    store_keys = list(store.keys())\n",
    "    assert len(store_keys) == n_expected_phenos\n",
    "    display(store_keys[:5])\n",
    "    \n",
    "    clean_col = simplify_string_for_hdf5('N02-Diagnoses_main_ICD10_N02_Recurrent_and_persistent_haematuria')\n",
    "    data = store[clean_col]\n",
    "    assert data.shape == (15289,), data.shape\n",
    "    assert data.loc['ENSG00000213965'] == -3.6753054157625686, data.loc['ENSG00000213965']\n",
    "    assert pd.isnull(data.loc['ENSG00000198670'])\n",
    "    assert data.loc['ENSG00000177025'] == 4.316259089446458, data.loc['ENSG00000177025']\n",
    "    \n",
    "    clean_col = simplify_string_for_hdf5('MAGNETIC_LDL.C')\n",
    "    data = store[clean_col]\n",
    "    assert data.shape == (15289,), data.shape\n",
    "    assert data.loc['ENSG00000113163'] == -7.400179862976074, data.loc['ENSG00000113163']\n",
    "    assert pd.isnull(data.loc['ENSG00000223510'])\n",
    "    assert data.loc['ENSG00000204241'] == 0.0011879778668467532, data.loc['ENSG00000204241']"
   ]
  },
  {
   "cell_type": "code",
   "execution_count": 29,
   "metadata": {
    "papermill": {
     "duration": 21.389808,
     "end_time": "2020-01-02T12:59:26.363282",
     "exception": false,
     "start_time": "2020-01-02T12:59:04.973474",
     "status": "completed"
    },
    "tags": []
   },
   "outputs": [
    {
     "data": {
      "text/plain": [
       "['/c100001_raw_Food_weight',\n",
       " '/c100002_raw_Energy',\n",
       " '/c100003_raw_Protein',\n",
       " '/c100004_raw_Fat',\n",
       " '/c100005_raw_Carbohydrate']"
      ]
     },
     "metadata": {},
     "output_type": "display_data"
    }
   ],
   "source": [
    "output_hdf5_file = os.path.join(OUTPUT_FOLDER, 'spredixcan-Thyroid-effect_size.h5')\n",
    "\n",
    "with pd.HDFStore(output_hdf5_file, mode='r') as store:\n",
    "    store_keys = list(store.keys())\n",
    "    assert len(store_keys) == n_expected_phenos\n",
    "    display(store_keys[:5])\n",
    "    \n",
    "    clean_col = simplify_string_for_hdf5('N02-Diagnoses_main_ICD10_N02_Recurrent_and_persistent_haematuria')\n",
    "    data = store[clean_col]\n",
    "    assert data.shape == (15289,), data.shape\n",
    "    assert data.loc['ENSG00000213965'] == -0.0011122695712738851, data.loc['ENSG00000213965']\n",
    "    assert pd.isnull(data.loc['ENSG00000198670'])\n",
    "    assert data.loc['ENSG00000177025'] == 0.0013606910719667048, data.loc['ENSG00000177025']\n",
    "    \n",
    "    clean_col = simplify_string_for_hdf5('MAGNETIC_LDL.C')\n",
    "    data = store[clean_col]\n",
    "    assert data.shape == (15289,), data.shape\n",
    "    assert pd.isnull(data.loc['ENSG00000113163'])\n",
    "    assert pd.isnull(data.loc['ENSG00000223510'])\n",
    "    assert pd.isnull(data.loc['ENSG00000204241'])"
   ]
  },
  {
   "cell_type": "code",
   "execution_count": 30,
   "metadata": {
    "papermill": {
     "duration": 20.711936,
     "end_time": "2020-01-02T12:59:47.211745",
     "exception": false,
     "start_time": "2020-01-02T12:59:26.499809",
     "status": "completed"
    },
    "tags": []
   },
   "outputs": [
    {
     "data": {
      "text/plain": [
       "['/c100001_raw_Food_weight',\n",
       " '/c100002_raw_Energy',\n",
       " '/c100003_raw_Protein',\n",
       " '/c100004_raw_Fat',\n",
       " '/c100005_raw_Carbohydrate']"
      ]
     },
     "metadata": {},
     "output_type": "display_data"
    }
   ],
   "source": [
    "output_hdf5_file = os.path.join(OUTPUT_FOLDER, 'spredixcan-Skin_Not_Sun_Exposed_Suprapubic-pvalue.h5')\n",
    "\n",
    "with pd.HDFStore(output_hdf5_file, mode='r') as store:\n",
    "    store_keys = list(store.keys())\n",
    "    assert len(store_keys) == n_expected_phenos\n",
    "    display(store_keys[:5])\n",
    "    \n",
    "    clean_col = simplify_string_for_hdf5('N02-Diagnoses_main_ICD10_N02_Recurrent_and_persistent_haematuria')\n",
    "    data = store[clean_col]\n",
    "    assert data.shape == (14920,), data.shape\n",
    "    assert data.loc['ENSG00000214575'] == 0.999887282076106, data.loc['ENSG00000214575']\n",
    "    assert pd.isnull(data.loc['ENSG00000231131'])\n",
    "    assert data.loc['ENSG00000177025'] == 2.0403800371097046e-05, data.loc['ENSG00000177025']"
   ]
  },
  {
   "cell_type": "markdown",
   "metadata": {
    "papermill": {
     "duration": 0.132532,
     "end_time": "2020-01-02T12:59:47.487480",
     "exception": false,
     "start_time": "2020-01-02T12:59:47.354948",
     "status": "completed"
    },
    "tags": []
   },
   "source": [
    "The code below was used to write the assert above; see for each gene if first and last (min and max) correspond to sign above"
   ]
  },
  {
   "cell_type": "code",
   "execution_count": 31,
   "metadata": {
    "papermill": {
     "duration": 0.164836,
     "end_time": "2020-01-02T12:59:47.784692",
     "exception": false,
     "start_time": "2020-01-02T12:59:47.619856",
     "status": "completed"
    },
    "tags": []
   },
   "outputs": [],
   "source": [
    "rapid_gwas_dir = conf.SPREDIXCAN_RESULTS_DIR['RapidGWASProject']\n",
    "gtex_gwas_dir = conf.SPREDIXCAN_RESULTS_DIR['GTEX_GWAS']"
   ]
  },
  {
   "cell_type": "code",
   "execution_count": 32,
   "metadata": {
    "papermill": {
     "duration": 1.002848,
     "end_time": "2020-01-02T12:59:48.919080",
     "exception": false,
     "start_time": "2020-01-02T12:59:47.916232",
     "status": "completed"
    },
    "tags": []
   },
   "outputs": [
    {
     "name": "stdout",
     "output_type": "stream",
     "text": [
      "gene  gene_name  zscore  effect_size  pvalue\n",
      "\n",
      "ENSG00000213965.3  NUDT19  -3.675305415762569  -0.0011122695712738851  0.00023756504804916094\n",
      "\n",
      "ENSG00000198670.11  LPA  NA  NA  NA\n",
      "\n",
      "ENSG00000177025.3  C19orf18  4.316259089446458  0.0013606910719667048  1.586957013502016e-05\n"
     ]
    }
   ],
   "source": [
    "%%bash -s \"$rapid_gwas_dir\"\n",
    "cd $1/N02\n",
    "head -1 N02-gtex_v8-Thyroid-2018_10.csv | cut -f1-5 -d, | column -s, -t\n",
    "echo \"\"\n",
    "cat N02-gtex_v8-Thyroid-2018_10.csv | grep ENSG00000213965 | cut -f1-5 -d, | column -s, -t\n",
    "echo \"\"\n",
    "cat N02-gtex_v8-Thyroid-2018_10.csv | grep ENSG00000198670 | cut -f1-5 -d, | column -s, -t\n",
    "echo \"\"\n",
    "cat N02-gtex_v8-Thyroid-2018_10.csv | grep ENSG00000177025 | cut -f1-5 -d, | column -s, -t"
   ]
  },
  {
   "cell_type": "code",
   "execution_count": 33,
   "metadata": {
    "papermill": {
     "duration": 0.552034,
     "end_time": "2020-01-02T12:59:49.603596",
     "exception": false,
     "start_time": "2020-01-02T12:59:49.051562",
     "status": "completed"
    },
    "tags": []
   },
   "outputs": [
    {
     "name": "stdout",
     "output_type": "stream",
     "text": [
      "gene  gene_name  zscore  effect_size  pvalue\n",
      "\n",
      "ENSG00000214575.9  CPEB1  -0.00014127096801530567  -1.8697265305035635e-07  0.9998872820761059\n",
      "\n",
      "ENSG00000231131.6  LINC01468  NA  NA  NA\n",
      "\n",
      "ENSG00000177025.3  C19orf18  4.260425591320433  0.0009033853136217764  2.0403800371097043e-05\n"
     ]
    }
   ],
   "source": [
    "%%bash -s \"$rapid_gwas_dir\"\n",
    "cd $1/N02\n",
    "head -1 N02-gtex_v8-Skin_Not_Sun_Exposed_Suprapubic-2018_10.csv | cut -f1-5 -d, | column -s, -t\n",
    "echo \"\"\n",
    "cat N02-gtex_v8-Skin_Not_Sun_Exposed_Suprapubic-2018_10.csv | grep ENSG00000214575 | cut -f1-5 -d, | column -s, -t\n",
    "echo \"\"\n",
    "cat N02-gtex_v8-Skin_Not_Sun_Exposed_Suprapubic-2018_10.csv | grep ENSG00000231131 | cut -f1-5 -d, | column -s, -t\n",
    "echo \"\"\n",
    "cat N02-gtex_v8-Skin_Not_Sun_Exposed_Suprapubic-2018_10.csv | grep ENSG00000177025 | cut -f1-5 -d, | column -s, -t"
   ]
  },
  {
   "cell_type": "code",
   "execution_count": 34,
   "metadata": {
    "papermill": {
     "duration": 0.55176,
     "end_time": "2020-01-02T12:59:50.289060",
     "exception": false,
     "start_time": "2020-01-02T12:59:49.737300",
     "status": "completed"
    },
    "tags": []
   },
   "outputs": [
    {
     "name": "stdout",
     "output_type": "stream",
     "text": [
      "gene  gene_name  zscore  effect_size  pvalue\n",
      "\n",
      "ENSG00000113163.15  COL4A3BP  -7.400179862976074  NA  1.3600016190892497e-13\n",
      "\n",
      "ENSG00000223510.6  CDRT15  NA  NA  NA\n",
      "\n",
      "ENSG00000204241.7  RP11-713P17.3  0.0011879778668467532  NA  0.9990521310244207\n"
     ]
    }
   ],
   "source": [
    "%%bash -s \"$gtex_gwas_dir\"\n",
    "cd $1/MAGNETIC_LDL.C\n",
    "head -1 spredixcan_igwas_gtexmashrv8_MAGNETIC_LDL.C__PM__Thyroid.csv | cut -f1-5 -d, | column -s, -t\n",
    "echo \"\"\n",
    "cat spredixcan_igwas_gtexmashrv8_MAGNETIC_LDL.C__PM__Thyroid.csv | grep ENSG00000113163 | cut -f1-5 -d, | column -s, -t\n",
    "echo \"\"\n",
    "cat spredixcan_igwas_gtexmashrv8_MAGNETIC_LDL.C__PM__Thyroid.csv | grep ENSG00000223510 | cut -f1-5 -d, | column -s, -t\n",
    "echo \"\"\n",
    "cat spredixcan_igwas_gtexmashrv8_MAGNETIC_LDL.C__PM__Thyroid.csv | grep ENSG00000204241 | cut -f1-5 -d, | column -s, -t"
   ]
  },
  {
   "cell_type": "code",
   "execution_count": null,
   "metadata": {
    "papermill": {
     "duration": 0.142752,
     "end_time": "2020-01-02T12:59:50.566337",
     "exception": false,
     "start_time": "2020-01-02T12:59:50.423585",
     "status": "completed"
    },
    "tags": []
   },
   "outputs": [],
   "source": []
  }
 ],
 "metadata": {
  "kernelspec": {
   "display_name": "Python 3",
   "language": "python",
   "name": "python3"
  },
  "language_info": {
   "codemirror_mode": {
    "name": "ipython",
    "version": 3
   },
   "file_extension": ".py",
   "mimetype": "text/x-python",
   "name": "python",
   "nbconvert_exporter": "python",
   "pygments_lexer": "ipython3",
   "version": "3.7.5"
  },
  "papermill": {
   "duration": 49448.261845,
   "end_time": "2020-01-02T12:59:53.851011",
   "environment_variables": {},
   "exception": null,
   "input_path": "100_postprocessing/05_spredixcan.ipynb",
   "output_path": "100_postprocessing/05_spredixcan.run.ipynb",
   "parameters": {},
   "start_time": "2020-01-01T23:15:45.589166",
   "version": "1.2.1"
  }
 },
 "nbformat": 4,
 "nbformat_minor": 4
}