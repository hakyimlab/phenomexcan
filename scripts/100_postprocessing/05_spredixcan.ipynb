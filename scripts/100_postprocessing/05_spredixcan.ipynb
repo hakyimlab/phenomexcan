{
 "cells": [
  {
   "cell_type": "code",
   "execution_count": 1,
   "metadata": {},
   "outputs": [],
   "source": [
    "%load_ext autoreload\n",
    "%autoreload 2"
   ]
  },
  {
   "cell_type": "code",
   "execution_count": 2,
   "metadata": {},
   "outputs": [],
   "source": [
    "import os\n",
    "import pickle\n",
    "from glob import glob\n",
    "import re\n",
    "from concurrent.futures import ProcessPoolExecutor, as_completed\n",
    "\n",
    "import numpy as np\n",
    "import pandas as pd\n",
    "#from tqdm import tqdm\n",
    "from scipy import stats\n",
    "from sklearn.metrics import pairwise_distances\n",
    "\n",
    "import utils.constants as constants\n",
    "from data.data import PhenoInfo, PhenoResults, get_all_tissues, get_genes\n",
    "from utils.utils import is_number, chunker"
   ]
  },
  {
   "cell_type": "code",
   "execution_count": 3,
   "metadata": {},
   "outputs": [],
   "source": [
    "genes_associations_dir = os.path.join(constants.PREPROCESSED_BASED_DIR, 'gene_associations')"
   ]
  },
  {
   "cell_type": "code",
   "execution_count": 4,
   "metadata": {},
   "outputs": [],
   "source": [
    "MODELS_TYPE = 'mashr'"
   ]
  },
  {
   "cell_type": "code",
   "execution_count": 5,
   "metadata": {},
   "outputs": [
    {
     "data": {
      "text/plain": [
       "'/mnt/phenomexcan/results/preprocessed_data/gene_associations/mashr/spredixcan'"
      ]
     },
     "metadata": {},
     "output_type": "display_data"
    }
   ],
   "source": [
    "OUTPUT_DIR = os.path.join(genes_associations_dir, MODELS_TYPE, 'spredixcan')\n",
    "display(OUTPUT_DIR)\n",
    "os.makedirs(OUTPUT_DIR, exist_ok=True)"
   ]
  },
  {
   "cell_type": "markdown",
   "metadata": {},
   "source": [
    "# Load all S-PrediXcan gene mappings"
   ]
  },
  {
   "cell_type": "code",
   "execution_count": 6,
   "metadata": {},
   "outputs": [],
   "source": [
    "with open(os.path.join(constants.PREPROCESSED_METADATA_DIR, 'genes_mapping_simplified-0.pkl'), 'rb') as f:\n",
    "    genes_mapping_0 = pickle.load(f)\n",
    "\n",
    "with open(os.path.join(constants.PREPROCESSED_METADATA_DIR, 'genes_mapping_simplified-1.pkl'), 'rb') as f:\n",
    "    genes_mapping_1 = pickle.load(f)"
   ]
  },
  {
   "cell_type": "markdown",
   "metadata": {},
   "source": [
    "## S-PrediXcan"
   ]
  },
  {
   "cell_type": "code",
   "execution_count": 7,
   "metadata": {},
   "outputs": [
    {
     "data": {
      "text/plain": [
       "'/mnt/phenomexcan/results/spredixcan/mashr'"
      ]
     },
     "metadata": {},
     "output_type": "display_data"
    },
    {
     "data": {
      "text/plain": [
       "4083"
      ]
     },
     "metadata": {},
     "output_type": "display_data"
    }
   ],
   "source": [
    "N_EXPECTED_SPREDIXCAN_PHENOTYPES = 4083\n",
    "\n",
    "spredixcan_results_folder = constants.SPREDIXCAN_MASHR_RESULTS_DIR\n",
    "display(spredixcan_results_folder)\n",
    "\n",
    "all_spredixcan_results_dirs = glob(os.path.join(spredixcan_results_folder, '*'))\n",
    "\n",
    "# Select only FinnGen phenotypes here (diseases)\n",
    "all_spredixcan_phenotypes = [PhenoResults(p) for p in all_spredixcan_results_dirs]\n",
    "#all_spredixcan_phenotypes = [p for p in all_spredixcan_phenotypes if p.pheno_info.pheno_source in ('icd10', 'finngen', 'phesant')]\n",
    "all_spredixcan_phenotypes_plain_names = pd.Index([p.pheno_info.get_plain_name() for p in all_spredixcan_phenotypes])\n",
    "\n",
    "display(len(all_spredixcan_phenotypes))\n",
    "assert len(all_spredixcan_phenotypes) == N_EXPECTED_SPREDIXCAN_PHENOTYPES"
   ]
  },
  {
   "cell_type": "code",
   "execution_count": 8,
   "metadata": {},
   "outputs": [
    {
     "name": "stderr",
     "output_type": "stream",
     "text": [
      "[data.py - 2019-10-27 22:52:28,133] INFO: Using models dir: /mnt/phenomexcan/data/gtex_v8/mashr\n"
     ]
    }
   ],
   "source": [
    "all_tissues = get_all_tissues()"
   ]
  },
  {
   "cell_type": "markdown",
   "metadata": {},
   "source": [
    "## Compute results"
   ]
  },
  {
   "cell_type": "code",
   "execution_count": 9,
   "metadata": {},
   "outputs": [],
   "source": [
    "def _get_combined_results(phenos, column, tissue):\n",
    "    all_pheno_results = {}\n",
    "    \n",
    "    for pheno in phenos:\n",
    "        # get results from all tissues\n",
    "        all_results_dict = {\n",
    "            pheno.pheno_info.get_plain_name() :\n",
    "                pheno.get_tissue_data(\n",
    "                    tissue,\n",
    "                    cols=['gene_name', column],\n",
    "                    index_col='gene_simple')[column]\n",
    "        }\n",
    "        all_results_df = pd.DataFrame(all_results_dict)#, index=all_spredixcan_unique_genes)\n",
    "        #all_results_df.index.rename(('tissue', 'gene_name'), inplace=True)\n",
    "        \n",
    "        # create final pd.Series with multiindex\n",
    "        all_pheno_results[pheno.pheno_info.get_plain_name()] = all_results_df.T.stack()\n",
    "    \n",
    "    return all_pheno_results"
   ]
  },
  {
   "cell_type": "markdown",
   "metadata": {},
   "source": [
    "### pvalues and z-scores"
   ]
  },
  {
   "cell_type": "markdown",
   "metadata": {},
   "source": [
    "**NEEDS FIXING**"
   ]
  },
  {
   "cell_type": "code",
   "execution_count": 10,
   "metadata": {},
   "outputs": [],
   "source": [
    "def _run_all(column_name, phenotype_chunks, n_jobs=20):\n",
    "    print(column_name, flush=True)\n",
    "    \n",
    "    for tissue in all_tissues:\n",
    "        print(tissue, flush=True)\n",
    "        \n",
    "        all_results = {}\n",
    "\n",
    "        with ProcessPoolExecutor(max_workers=n_jobs) as executor:\n",
    "            tasks = [executor.submit(_get_combined_results, chunk, column_name, tissue) for chunk in phenotype_chunks]\n",
    "            for future in as_completed(tasks):\n",
    "                res = future.result()\n",
    "                all_results.update(res)\n",
    "\n",
    "        # Save all results from S-PrediXcan\n",
    "        final_filename = os.path.join(OUTPUT_DIR, f'spredixcan-{tissue}-all_{column_name}.pkl')\n",
    "        #display(final_filename)\n",
    "\n",
    "        with open(final_filename, 'wb') as f:\n",
    "            pickle.dump(all_results, f)"
   ]
  },
  {
   "cell_type": "code",
   "execution_count": 11,
   "metadata": {},
   "outputs": [],
   "source": [
    "# def _get_combined_zscores(phenos):\n",
    "#     all_pheno_results = {}\n",
    "    \n",
    "#     for pheno in phenos:\n",
    "#         all_results_dict = {}\n",
    "#         for t in all_tissues:\n",
    "#             res = pheno.get_tissue_data(t, cols=['gene_name', 'zscore'], index_col='gene_simple')\n",
    "#             #res = res.drop_duplicates(subset='gene_name')\n",
    "#             #res = res.set_index('gene_name')\n",
    "#             #all_results_df = all_results_df.assign(**{t: res['zscore']})\n",
    "#             all_results_dict[t] = res['zscore']\n",
    "\n",
    "#         all_results_df = pd.DataFrame(all_results_dict, index=all_spredixcan_unique_genes)\n",
    "            \n",
    "#         all_pheno_results[pheno.pheno_info.get_plain_name()] = all_results_df.apply(lambda x: max((x.min(), x.max()), key=abs), axis=1)\n",
    "    \n",
    "#     return all_pheno_results"
   ]
  },
  {
   "cell_type": "code",
   "execution_count": 25,
   "metadata": {},
   "outputs": [],
   "source": [
    "phenotype_chunks = chunker(all_spredixcan_phenotypes[:10], 2)\n",
    "#phenotype_chunks = chunker(all_spredixcan_phenotypes, 25)"
   ]
  },
  {
   "cell_type": "code",
   "execution_count": 13,
   "metadata": {},
   "outputs": [
    {
     "name": "stdout",
     "output_type": "stream",
     "text": [
      "pvalue\n",
      "Brain_Putamen_basal_ganglia\n"
     ]
    },
    {
     "data": {
      "text/plain": [
       "'/mnt/phenomexcan/results/preprocessed_data/gene_associations/mashr/spredixcan/spredixcan-Brain_Putamen_basal_ganglia-all_pvalue.pkl'"
      ]
     },
     "metadata": {},
     "output_type": "display_data"
    },
    {
     "name": "stdout",
     "output_type": "stream",
     "text": [
      "Adipose_Subcutaneous\n"
     ]
    },
    {
     "data": {
      "text/plain": [
       "'/mnt/phenomexcan/results/preprocessed_data/gene_associations/mashr/spredixcan/spredixcan-Adipose_Subcutaneous-all_pvalue.pkl'"
      ]
     },
     "metadata": {},
     "output_type": "display_data"
    },
    {
     "name": "stdout",
     "output_type": "stream",
     "text": [
      "Breast_Mammary_Tissue\n"
     ]
    },
    {
     "data": {
      "text/plain": [
       "'/mnt/phenomexcan/results/preprocessed_data/gene_associations/mashr/spredixcan/spredixcan-Breast_Mammary_Tissue-all_pvalue.pkl'"
      ]
     },
     "metadata": {},
     "output_type": "display_data"
    },
    {
     "name": "stdout",
     "output_type": "stream",
     "text": [
      "Heart_Atrial_Appendage\n"
     ]
    },
    {
     "data": {
      "text/plain": [
       "'/mnt/phenomexcan/results/preprocessed_data/gene_associations/mashr/spredixcan/spredixcan-Heart_Atrial_Appendage-all_pvalue.pkl'"
      ]
     },
     "metadata": {},
     "output_type": "display_data"
    },
    {
     "name": "stdout",
     "output_type": "stream",
     "text": [
      "Muscle_Skeletal\n"
     ]
    },
    {
     "data": {
      "text/plain": [
       "'/mnt/phenomexcan/results/preprocessed_data/gene_associations/mashr/spredixcan/spredixcan-Muscle_Skeletal-all_pvalue.pkl'"
      ]
     },
     "metadata": {},
     "output_type": "display_data"
    },
    {
     "name": "stdout",
     "output_type": "stream",
     "text": [
      "Brain_Hypothalamus\n"
     ]
    },
    {
     "data": {
      "text/plain": [
       "'/mnt/phenomexcan/results/preprocessed_data/gene_associations/mashr/spredixcan/spredixcan-Brain_Hypothalamus-all_pvalue.pkl'"
      ]
     },
     "metadata": {},
     "output_type": "display_data"
    },
    {
     "name": "stdout",
     "output_type": "stream",
     "text": [
      "Brain_Substantia_nigra\n"
     ]
    },
    {
     "data": {
      "text/plain": [
       "'/mnt/phenomexcan/results/preprocessed_data/gene_associations/mashr/spredixcan/spredixcan-Brain_Substantia_nigra-all_pvalue.pkl'"
      ]
     },
     "metadata": {},
     "output_type": "display_data"
    },
    {
     "name": "stdout",
     "output_type": "stream",
     "text": [
      "Testis\n"
     ]
    },
    {
     "data": {
      "text/plain": [
       "'/mnt/phenomexcan/results/preprocessed_data/gene_associations/mashr/spredixcan/spredixcan-Testis-all_pvalue.pkl'"
      ]
     },
     "metadata": {},
     "output_type": "display_data"
    },
    {
     "name": "stdout",
     "output_type": "stream",
     "text": [
      "Prostate\n"
     ]
    },
    {
     "data": {
      "text/plain": [
       "'/mnt/phenomexcan/results/preprocessed_data/gene_associations/mashr/spredixcan/spredixcan-Prostate-all_pvalue.pkl'"
      ]
     },
     "metadata": {},
     "output_type": "display_data"
    },
    {
     "name": "stdout",
     "output_type": "stream",
     "text": [
      "Esophagus_Muscularis\n"
     ]
    },
    {
     "data": {
      "text/plain": [
       "'/mnt/phenomexcan/results/preprocessed_data/gene_associations/mashr/spredixcan/spredixcan-Esophagus_Muscularis-all_pvalue.pkl'"
      ]
     },
     "metadata": {},
     "output_type": "display_data"
    },
    {
     "name": "stdout",
     "output_type": "stream",
     "text": [
      "Brain_Cerebellar_Hemisphere\n"
     ]
    },
    {
     "data": {
      "text/plain": [
       "'/mnt/phenomexcan/results/preprocessed_data/gene_associations/mashr/spredixcan/spredixcan-Brain_Cerebellar_Hemisphere-all_pvalue.pkl'"
      ]
     },
     "metadata": {},
     "output_type": "display_data"
    },
    {
     "name": "stdout",
     "output_type": "stream",
     "text": [
      "Spleen\n"
     ]
    },
    {
     "data": {
      "text/plain": [
       "'/mnt/phenomexcan/results/preprocessed_data/gene_associations/mashr/spredixcan/spredixcan-Spleen-all_pvalue.pkl'"
      ]
     },
     "metadata": {},
     "output_type": "display_data"
    },
    {
     "name": "stdout",
     "output_type": "stream",
     "text": [
      "Cells_Cultured_fibroblasts\n"
     ]
    },
    {
     "data": {
      "text/plain": [
       "'/mnt/phenomexcan/results/preprocessed_data/gene_associations/mashr/spredixcan/spredixcan-Cells_Cultured_fibroblasts-all_pvalue.pkl'"
      ]
     },
     "metadata": {},
     "output_type": "display_data"
    },
    {
     "name": "stdout",
     "output_type": "stream",
     "text": [
      "Heart_Left_Ventricle\n"
     ]
    },
    {
     "data": {
      "text/plain": [
       "'/mnt/phenomexcan/results/preprocessed_data/gene_associations/mashr/spredixcan/spredixcan-Heart_Left_Ventricle-all_pvalue.pkl'"
      ]
     },
     "metadata": {},
     "output_type": "display_data"
    },
    {
     "name": "stdout",
     "output_type": "stream",
     "text": [
      "Thyroid\n"
     ]
    },
    {
     "data": {
      "text/plain": [
       "'/mnt/phenomexcan/results/preprocessed_data/gene_associations/mashr/spredixcan/spredixcan-Thyroid-all_pvalue.pkl'"
      ]
     },
     "metadata": {},
     "output_type": "display_data"
    },
    {
     "name": "stdout",
     "output_type": "stream",
     "text": [
      "Colon_Transverse\n"
     ]
    },
    {
     "data": {
      "text/plain": [
       "'/mnt/phenomexcan/results/preprocessed_data/gene_associations/mashr/spredixcan/spredixcan-Colon_Transverse-all_pvalue.pkl'"
      ]
     },
     "metadata": {},
     "output_type": "display_data"
    },
    {
     "name": "stdout",
     "output_type": "stream",
     "text": [
      "Lung\n"
     ]
    },
    {
     "data": {
      "text/plain": [
       "'/mnt/phenomexcan/results/preprocessed_data/gene_associations/mashr/spredixcan/spredixcan-Lung-all_pvalue.pkl'"
      ]
     },
     "metadata": {},
     "output_type": "display_data"
    },
    {
     "name": "stdout",
     "output_type": "stream",
     "text": [
      "Brain_Cortex\n"
     ]
    },
    {
     "data": {
      "text/plain": [
       "'/mnt/phenomexcan/results/preprocessed_data/gene_associations/mashr/spredixcan/spredixcan-Brain_Cortex-all_pvalue.pkl'"
      ]
     },
     "metadata": {},
     "output_type": "display_data"
    },
    {
     "name": "stdout",
     "output_type": "stream",
     "text": [
      "Nerve_Tibial\n"
     ]
    },
    {
     "data": {
      "text/plain": [
       "'/mnt/phenomexcan/results/preprocessed_data/gene_associations/mashr/spredixcan/spredixcan-Nerve_Tibial-all_pvalue.pkl'"
      ]
     },
     "metadata": {},
     "output_type": "display_data"
    },
    {
     "name": "stdout",
     "output_type": "stream",
     "text": [
      "Adrenal_Gland\n"
     ]
    },
    {
     "data": {
      "text/plain": [
       "'/mnt/phenomexcan/results/preprocessed_data/gene_associations/mashr/spredixcan/spredixcan-Adrenal_Gland-all_pvalue.pkl'"
      ]
     },
     "metadata": {},
     "output_type": "display_data"
    },
    {
     "name": "stdout",
     "output_type": "stream",
     "text": [
      "Brain_Amygdala\n"
     ]
    },
    {
     "data": {
      "text/plain": [
       "'/mnt/phenomexcan/results/preprocessed_data/gene_associations/mashr/spredixcan/spredixcan-Brain_Amygdala-all_pvalue.pkl'"
      ]
     },
     "metadata": {},
     "output_type": "display_data"
    },
    {
     "name": "stdout",
     "output_type": "stream",
     "text": [
      "Pancreas\n"
     ]
    },
    {
     "data": {
      "text/plain": [
       "'/mnt/phenomexcan/results/preprocessed_data/gene_associations/mashr/spredixcan/spredixcan-Pancreas-all_pvalue.pkl'"
      ]
     },
     "metadata": {},
     "output_type": "display_data"
    },
    {
     "name": "stdout",
     "output_type": "stream",
     "text": [
      "Brain_Nucleus_accumbens_basal_ganglia\n"
     ]
    },
    {
     "data": {
      "text/plain": [
       "'/mnt/phenomexcan/results/preprocessed_data/gene_associations/mashr/spredixcan/spredixcan-Brain_Nucleus_accumbens_basal_ganglia-all_pvalue.pkl'"
      ]
     },
     "metadata": {},
     "output_type": "display_data"
    },
    {
     "name": "stdout",
     "output_type": "stream",
     "text": [
      "Uterus\n"
     ]
    },
    {
     "data": {
      "text/plain": [
       "'/mnt/phenomexcan/results/preprocessed_data/gene_associations/mashr/spredixcan/spredixcan-Uterus-all_pvalue.pkl'"
      ]
     },
     "metadata": {},
     "output_type": "display_data"
    },
    {
     "name": "stdout",
     "output_type": "stream",
     "text": [
      "Cells_EBV-transformed_lymphocytes\n"
     ]
    },
    {
     "data": {
      "text/plain": [
       "'/mnt/phenomexcan/results/preprocessed_data/gene_associations/mashr/spredixcan/spredixcan-Cells_EBV-transformed_lymphocytes-all_pvalue.pkl'"
      ]
     },
     "metadata": {},
     "output_type": "display_data"
    },
    {
     "name": "stdout",
     "output_type": "stream",
     "text": [
      "Esophagus_Mucosa\n"
     ]
    },
    {
     "data": {
      "text/plain": [
       "'/mnt/phenomexcan/results/preprocessed_data/gene_associations/mashr/spredixcan/spredixcan-Esophagus_Mucosa-all_pvalue.pkl'"
      ]
     },
     "metadata": {},
     "output_type": "display_data"
    },
    {
     "name": "stdout",
     "output_type": "stream",
     "text": [
      "Colon_Sigmoid\n"
     ]
    },
    {
     "data": {
      "text/plain": [
       "'/mnt/phenomexcan/results/preprocessed_data/gene_associations/mashr/spredixcan/spredixcan-Colon_Sigmoid-all_pvalue.pkl'"
      ]
     },
     "metadata": {},
     "output_type": "display_data"
    },
    {
     "name": "stdout",
     "output_type": "stream",
     "text": [
      "Artery_Aorta\n"
     ]
    },
    {
     "data": {
      "text/plain": [
       "'/mnt/phenomexcan/results/preprocessed_data/gene_associations/mashr/spredixcan/spredixcan-Artery_Aorta-all_pvalue.pkl'"
      ]
     },
     "metadata": {},
     "output_type": "display_data"
    },
    {
     "name": "stdout",
     "output_type": "stream",
     "text": [
      "Esophagus_Gastroesophageal_Junction\n"
     ]
    },
    {
     "data": {
      "text/plain": [
       "'/mnt/phenomexcan/results/preprocessed_data/gene_associations/mashr/spredixcan/spredixcan-Esophagus_Gastroesophageal_Junction-all_pvalue.pkl'"
      ]
     },
     "metadata": {},
     "output_type": "display_data"
    },
    {
     "name": "stdout",
     "output_type": "stream",
     "text": [
      "Brain_Anterior_cingulate_cortex_BA24\n"
     ]
    },
    {
     "data": {
      "text/plain": [
       "'/mnt/phenomexcan/results/preprocessed_data/gene_associations/mashr/spredixcan/spredixcan-Brain_Anterior_cingulate_cortex_BA24-all_pvalue.pkl'"
      ]
     },
     "metadata": {},
     "output_type": "display_data"
    },
    {
     "name": "stdout",
     "output_type": "stream",
     "text": [
      "Brain_Cerebellum\n"
     ]
    },
    {
     "data": {
      "text/plain": [
       "'/mnt/phenomexcan/results/preprocessed_data/gene_associations/mashr/spredixcan/spredixcan-Brain_Cerebellum-all_pvalue.pkl'"
      ]
     },
     "metadata": {},
     "output_type": "display_data"
    },
    {
     "name": "stdout",
     "output_type": "stream",
     "text": [
      "Small_Intestine_Terminal_Ileum\n"
     ]
    },
    {
     "data": {
      "text/plain": [
       "'/mnt/phenomexcan/results/preprocessed_data/gene_associations/mashr/spredixcan/spredixcan-Small_Intestine_Terminal_Ileum-all_pvalue.pkl'"
      ]
     },
     "metadata": {},
     "output_type": "display_data"
    },
    {
     "name": "stdout",
     "output_type": "stream",
     "text": [
      "Skin_Sun_Exposed_Lower_leg\n"
     ]
    },
    {
     "data": {
      "text/plain": [
       "'/mnt/phenomexcan/results/preprocessed_data/gene_associations/mashr/spredixcan/spredixcan-Skin_Sun_Exposed_Lower_leg-all_pvalue.pkl'"
      ]
     },
     "metadata": {},
     "output_type": "display_data"
    },
    {
     "name": "stdout",
     "output_type": "stream",
     "text": [
      "Stomach\n"
     ]
    },
    {
     "data": {
      "text/plain": [
       "'/mnt/phenomexcan/results/preprocessed_data/gene_associations/mashr/spredixcan/spredixcan-Stomach-all_pvalue.pkl'"
      ]
     },
     "metadata": {},
     "output_type": "display_data"
    },
    {
     "name": "stdout",
     "output_type": "stream",
     "text": [
      "Brain_Frontal_Cortex_BA9\n"
     ]
    },
    {
     "data": {
      "text/plain": [
       "'/mnt/phenomexcan/results/preprocessed_data/gene_associations/mashr/spredixcan/spredixcan-Brain_Frontal_Cortex_BA9-all_pvalue.pkl'"
      ]
     },
     "metadata": {},
     "output_type": "display_data"
    },
    {
     "name": "stdout",
     "output_type": "stream",
     "text": [
      "Adipose_Visceral_Omentum\n"
     ]
    },
    {
     "data": {
      "text/plain": [
       "'/mnt/phenomexcan/results/preprocessed_data/gene_associations/mashr/spredixcan/spredixcan-Adipose_Visceral_Omentum-all_pvalue.pkl'"
      ]
     },
     "metadata": {},
     "output_type": "display_data"
    },
    {
     "name": "stdout",
     "output_type": "stream",
     "text": [
      "Brain_Spinal_cord_cervical_c-1\n"
     ]
    },
    {
     "data": {
      "text/plain": [
       "'/mnt/phenomexcan/results/preprocessed_data/gene_associations/mashr/spredixcan/spredixcan-Brain_Spinal_cord_cervical_c-1-all_pvalue.pkl'"
      ]
     },
     "metadata": {},
     "output_type": "display_data"
    },
    {
     "name": "stdout",
     "output_type": "stream",
     "text": [
      "Ovary\n"
     ]
    },
    {
     "data": {
      "text/plain": [
       "'/mnt/phenomexcan/results/preprocessed_data/gene_associations/mashr/spredixcan/spredixcan-Ovary-all_pvalue.pkl'"
      ]
     },
     "metadata": {},
     "output_type": "display_data"
    },
    {
     "name": "stdout",
     "output_type": "stream",
     "text": [
      "Liver\n"
     ]
    },
    {
     "data": {
      "text/plain": [
       "'/mnt/phenomexcan/results/preprocessed_data/gene_associations/mashr/spredixcan/spredixcan-Liver-all_pvalue.pkl'"
      ]
     },
     "metadata": {},
     "output_type": "display_data"
    },
    {
     "name": "stdout",
     "output_type": "stream",
     "text": [
      "Vagina\n"
     ]
    },
    {
     "data": {
      "text/plain": [
       "'/mnt/phenomexcan/results/preprocessed_data/gene_associations/mashr/spredixcan/spredixcan-Vagina-all_pvalue.pkl'"
      ]
     },
     "metadata": {},
     "output_type": "display_data"
    },
    {
     "name": "stdout",
     "output_type": "stream",
     "text": [
      "Kidney_Cortex\n"
     ]
    },
    {
     "data": {
      "text/plain": [
       "'/mnt/phenomexcan/results/preprocessed_data/gene_associations/mashr/spredixcan/spredixcan-Kidney_Cortex-all_pvalue.pkl'"
      ]
     },
     "metadata": {},
     "output_type": "display_data"
    },
    {
     "name": "stdout",
     "output_type": "stream",
     "text": [
      "Minor_Salivary_Gland\n"
     ]
    },
    {
     "data": {
      "text/plain": [
       "'/mnt/phenomexcan/results/preprocessed_data/gene_associations/mashr/spredixcan/spredixcan-Minor_Salivary_Gland-all_pvalue.pkl'"
      ]
     },
     "metadata": {},
     "output_type": "display_data"
    },
    {
     "name": "stdout",
     "output_type": "stream",
     "text": [
      "Artery_Tibial\n"
     ]
    },
    {
     "data": {
      "text/plain": [
       "'/mnt/phenomexcan/results/preprocessed_data/gene_associations/mashr/spredixcan/spredixcan-Artery_Tibial-all_pvalue.pkl'"
      ]
     },
     "metadata": {},
     "output_type": "display_data"
    },
    {
     "name": "stdout",
     "output_type": "stream",
     "text": [
      "Pituitary\n"
     ]
    },
    {
     "data": {
      "text/plain": [
       "'/mnt/phenomexcan/results/preprocessed_data/gene_associations/mashr/spredixcan/spredixcan-Pituitary-all_pvalue.pkl'"
      ]
     },
     "metadata": {},
     "output_type": "display_data"
    },
    {
     "name": "stdout",
     "output_type": "stream",
     "text": [
      "Brain_Hippocampus\n"
     ]
    },
    {
     "data": {
      "text/plain": [
       "'/mnt/phenomexcan/results/preprocessed_data/gene_associations/mashr/spredixcan/spredixcan-Brain_Hippocampus-all_pvalue.pkl'"
      ]
     },
     "metadata": {},
     "output_type": "display_data"
    },
    {
     "name": "stdout",
     "output_type": "stream",
     "text": [
      "Brain_Caudate_basal_ganglia\n"
     ]
    },
    {
     "data": {
      "text/plain": [
       "'/mnt/phenomexcan/results/preprocessed_data/gene_associations/mashr/spredixcan/spredixcan-Brain_Caudate_basal_ganglia-all_pvalue.pkl'"
      ]
     },
     "metadata": {},
     "output_type": "display_data"
    },
    {
     "name": "stdout",
     "output_type": "stream",
     "text": [
      "Whole_Blood\n"
     ]
    },
    {
     "data": {
      "text/plain": [
       "'/mnt/phenomexcan/results/preprocessed_data/gene_associations/mashr/spredixcan/spredixcan-Whole_Blood-all_pvalue.pkl'"
      ]
     },
     "metadata": {},
     "output_type": "display_data"
    },
    {
     "name": "stdout",
     "output_type": "stream",
     "text": [
      "Artery_Coronary\n"
     ]
    },
    {
     "data": {
      "text/plain": [
       "'/mnt/phenomexcan/results/preprocessed_data/gene_associations/mashr/spredixcan/spredixcan-Artery_Coronary-all_pvalue.pkl'"
      ]
     },
     "metadata": {},
     "output_type": "display_data"
    },
    {
     "name": "stdout",
     "output_type": "stream",
     "text": [
      "Skin_Not_Sun_Exposed_Suprapubic\n"
     ]
    },
    {
     "data": {
      "text/plain": [
       "'/mnt/phenomexcan/results/preprocessed_data/gene_associations/mashr/spredixcan/spredixcan-Skin_Not_Sun_Exposed_Suprapubic-all_pvalue.pkl'"
      ]
     },
     "metadata": {},
     "output_type": "display_data"
    }
   ],
   "source": [
    "_run_all('pvalue', phenotype_chunks, n_jobs=20)"
   ]
  },
  {
   "cell_type": "code",
   "execution_count": null,
   "metadata": {},
   "outputs": [],
   "source": [
    "_run_all('zscore', phenotype_chunks, n_jobs=20)"
   ]
  },
  {
   "cell_type": "markdown",
   "metadata": {},
   "source": [
    "## Load results and save as DataFrame"
   ]
  },
  {
   "cell_type": "code",
   "execution_count": 15,
   "metadata": {},
   "outputs": [],
   "source": [
    "def load_results(setname, tissue):\n",
    "    with open(os.path.join(OUTPUT_DIR, f'spredixcan-{tissue}-all_{setname}.pkl'), 'rb') as f:\n",
    "        return pickle.load(f)"
   ]
  },
  {
   "cell_type": "code",
   "execution_count": 40,
   "metadata": {},
   "outputs": [],
   "source": [
    "all_results = load_results('pvalue', 'Adipose_Subcutaneous')"
   ]
  },
  {
   "cell_type": "code",
   "execution_count": 41,
   "metadata": {},
   "outputs": [
    {
     "data": {
      "text/plain": [
       "dict_keys([])"
      ]
     },
     "execution_count": 41,
     "metadata": {},
     "output_type": "execute_result"
    }
   ],
   "source": [
    "all_results.keys()"
   ]
  },
  {
   "cell_type": "code",
   "execution_count": 37,
   "metadata": {},
   "outputs": [
    {
     "data": {
      "text/plain": [
       "(13322,)"
      ]
     },
     "execution_count": 37,
     "metadata": {},
     "output_type": "execute_result"
    }
   ],
   "source": [
    "all_results['C3_TONGUENAS-Malignant_neoplasm_of_other_and_unspecified_parts_of_tongue'].shape"
   ]
  },
  {
   "cell_type": "code",
   "execution_count": null,
   "metadata": {},
   "outputs": [],
   "source": [
    "shared_unique_genes_before = shared_unique_genes"
   ]
  },
  {
   "cell_type": "code",
   "execution_count": null,
   "metadata": {},
   "outputs": [],
   "source": [
    "for setname in ('pvalue', 'zscore'):\n",
    "    print(setname)\n",
    "    \n",
    "    all_results = load_results(setname)\n",
    "    \n",
    "    assert len(all_results) == N_EXPECTED_SPREDIXCAN_PHENOTYPES\n",
    "    \n",
    "    spredixcan_genes_associations = pd.DataFrame(all_results)\n",
    "    spredixcan_genes_associations.index.rename(('tissue', 'gene_name'), inplace=True)\n",
    "\n",
    "    assert spredixcan_genes_associations.index.is_unique\n",
    "    \n",
    "    display(spredixcan_genes_associations.shape)\n",
    "    display(spredixcan_genes_associations.head())\n",
    "    \n",
    "    # Remove genes with no results\n",
    "    spredixcan_genes_associations = spredixcan_genes_associations.dropna(axis=0, how='all')\n",
    "    assert spredixcan_genes_associations.isna().sum().sum() == 0\n",
    "    \n",
    "    assert spredixcan_genes_associations.shape == (280936, N_EXPECTED_SPREDIXCAN_PHENOTYPES)\n",
    "\n",
    "    # Remove also these genes from shared and omim genes\n",
    "    #n_genes_shared_before = len(shared_unique_genes)\n",
    "    display(f'n genes shared before: {len(shared_unique_genes_before)}')\n",
    "\n",
    "    _spredixcan_gene_name_level = spredixcan_genes_associations.index.get_level_values('gene_name')\n",
    "    shared_unique_genes = _spredixcan_gene_name_level.unique().intersection(omim_unique_genes)\n",
    "    display(f'n genes shared now: {len(shared_unique_genes)}')\n",
    "    \n",
    "    # trim spredixcan genes\n",
    "    #spredixcan_genes_associations = spredixcan_genes_associations.loc[(_spredixcan_gene_name_level.isin(shared_unique_genes))]\n",
    "\n",
    "    # trim omim genes\n",
    "    omim_genes_associations = omim_genes_associations.loc[shared_unique_genes]\n",
    "    display(f'OMIM shape: {omim_genes_associations.shape}')\n",
    "    # and remove any OMIM disease with no genes associated (after removing those)\n",
    "    _tmp = omim_genes_associations.sum()\n",
    "    cols_to_remove = _tmp[_tmp == 0].index\n",
    "    omim_genes_associations = omim_genes_associations.drop(columns=cols_to_remove)\n",
    "    display(f'OMIM shape after removing cols: {omim_genes_associations.shape}')\n",
    "    \n",
    "    assert omim_genes_associations.shape == (13508, 4761)\n",
    "    display(omim_genes_associations.shape)\n",
    "    display(omim_genes_associations.head())\n",
    "    \n",
    "    # some testing\n",
    "    if setname == 'zscore':\n",
    "        print('Testing zscore')\n",
    "        # For FinnGen\n",
    "        assert spredixcan_genes_associations.loc[('Whole_Blood', 'ENSG00000110628'), 'C3_TONGUENAS-Malignant_neoplasm_of_other_and_unspecified_parts_of_tongue'] == 3.6574495536599714\n",
    "        # For ICD10\n",
    "        assert spredixcan_genes_associations.loc[('Artery_Tibial', 'ENSG00000169783'), 'N18-Diagnoses_main_ICD10_N18_Chronic_renal_failure'] == -2.3246862264204027\n",
    "    elif setname == 'pvalue':\n",
    "        print('Testing pvalue')\n",
    "        # For FinnGen\n",
    "        assert spredixcan_genes_associations.loc[('Whole_Blood', 'ENSG00000110628'), 'C3_TONGUENAS-Malignant_neoplasm_of_other_and_unspecified_parts_of_tongue'] == 0.0002547373742003848\n",
    "        # For ICD10\n",
    "        assert spredixcan_genes_associations.loc[('Artery_Tibial', 'ENSG00000169783'), 'N18-Diagnoses_main_ICD10_N18_Chronic_renal_failure'] == 0.020088744309727864\n",
    "    \n",
    "    print('Saving')\n",
    "    \n",
    "    # spredixcan df\n",
    "    spredixcan_genes_associations_filename = os.path.join(genes_associations_dir, f'spredixcan-genes_associations-{setname}.pkl.xz')\n",
    "    display(spredixcan_genes_associations_filename)\n",
    "\n",
    "    spredixcan_genes_associations.to_pickle(spredixcan_genes_associations_filename)\n",
    "    \n",
    "    # omim df\n",
    "    if setname == 'zscore': # save only once\n",
    "        omim_genes_associations_filename = os.path.join(genes_associations_dir, 'omim-genes_associations.pkl.xz')\n",
    "        display(omim_genes_associations_filename)\n",
    "\n",
    "        omim_genes_associations.to_pickle(omim_genes_associations_filename)"
   ]
  },
  {
   "cell_type": "code",
   "execution_count": null,
   "metadata": {},
   "outputs": [],
   "source": []
  }
 ],
 "metadata": {
  "kernelspec": {
   "display_name": "Python 3",
   "language": "python",
   "name": "python3"
  },
  "language_info": {
   "codemirror_mode": {
    "name": "ipython",
    "version": 3
   },
   "file_extension": ".py",
   "mimetype": "text/x-python",
   "name": "python",
   "nbconvert_exporter": "python",
   "pygments_lexer": "ipython3",
   "version": "3.7.3"
  }
 },
 "nbformat": 4,
 "nbformat_minor": 4
}
