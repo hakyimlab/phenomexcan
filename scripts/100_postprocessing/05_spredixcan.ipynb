{
 "cells": [
  {
   "cell_type": "code",
   "execution_count": null,
   "metadata": {
    "papermill": {
     "duration": 0.094143,
     "end_time": "2019-11-28T16:46:45.635971",
     "exception": false,
     "start_time": "2019-11-28T16:46:45.541828",
     "status": "completed"
    },
    "tags": []
   },
   "outputs": [],
   "source": [
    "%load_ext autoreload\n",
    "%autoreload 2"
   ]
  },
  {
   "cell_type": "code",
   "execution_count": null,
   "metadata": {
    "papermill": {
     "duration": 3.047791,
     "end_time": "2019-11-28T16:46:48.727034",
     "exception": false,
     "start_time": "2019-11-28T16:46:45.679243",
     "status": "completed"
    },
    "tags": []
   },
   "outputs": [],
   "source": [
    "import os\n",
    "import pickle\n",
    "from glob import glob\n",
    "from concurrent.futures import ProcessPoolExecutor, as_completed\n",
    "\n",
    "import numpy as np\n",
    "import pandas as pd\n",
    "from scipy import stats\n",
    "\n",
    "import settings as conf\n",
    "from utils import is_number, chunker"
   ]
  },
  {
   "cell_type": "markdown",
   "metadata": {
    "papermill": {
     "duration": 0.036749,
     "end_time": "2019-11-28T16:46:48.811755",
     "exception": false,
     "start_time": "2019-11-28T16:46:48.775006",
     "status": "completed"
    },
    "tags": []
   },
   "source": [
    "# Load S-PrediXcan results"
   ]
  },
  {
   "cell_type": "markdown",
   "metadata": {
    "papermill": {
     "duration": 0.036633,
     "end_time": "2019-11-28T16:46:48.885195",
     "exception": false,
     "start_time": "2019-11-28T16:46:48.848562",
     "status": "completed"
    },
    "tags": []
   },
   "source": [
    "## From Rapid GWAS project"
   ]
  },
  {
   "cell_type": "code",
   "execution_count": null,
   "metadata": {
    "papermill": {
     "duration": 0.764298,
     "end_time": "2019-11-28T16:46:49.686409",
     "exception": false,
     "start_time": "2019-11-28T16:46:48.922111",
     "status": "completed"
    },
    "tags": []
   },
   "outputs": [],
   "source": [
    "from results.spredixcan import PhenoResults"
   ]
  },
  {
   "cell_type": "code",
   "execution_count": null,
   "metadata": {
    "papermill": {
     "duration": 0.115517,
     "end_time": "2019-11-28T16:46:49.840211",
     "exception": false,
     "start_time": "2019-11-28T16:46:49.724694",
     "status": "completed"
    },
    "tags": []
   },
   "outputs": [],
   "source": [
    "_path = os.path.join(conf.SPREDIXCAN_RESULTS_DIR['RapidGWASProject'] + '/*')\n",
    "display(_path)\n",
    "all_spredixcan_results_dirs = glob(_path)\n",
    "display(len(all_spredixcan_results_dirs))\n",
    "assert len(all_spredixcan_results_dirs) == conf.SPREDIXCAN_EXPECTED_PHENOTYPES['RapidGWASProject']"
   ]
  },
  {
   "cell_type": "code",
   "execution_count": null,
   "metadata": {
    "papermill": {
     "duration": 41.804551,
     "end_time": "2019-11-28T16:47:31.688323",
     "exception": false,
     "start_time": "2019-11-28T16:46:49.883772",
     "status": "completed"
    },
    "tags": []
   },
   "outputs": [],
   "source": [
    "all_spredixcan_phenotypes = [PhenoResults(p) for p in all_spredixcan_results_dirs]\n",
    "\n",
    "display(len(all_spredixcan_phenotypes))\n",
    "assert len(all_spredixcan_phenotypes) == conf.SPREDIXCAN_EXPECTED_PHENOTYPES['RapidGWASProject']"
   ]
  },
  {
   "cell_type": "markdown",
   "metadata": {
    "papermill": {
     "duration": 0.03918,
     "end_time": "2019-11-28T16:47:31.770388",
     "exception": false,
     "start_time": "2019-11-28T16:47:31.731208",
     "status": "completed"
    },
    "tags": []
   },
   "source": [
    "## From GTEx GWAS manuscript"
   ]
  },
  {
   "cell_type": "code",
   "execution_count": null,
   "metadata": {
    "papermill": {
     "duration": 0.103915,
     "end_time": "2019-11-28T16:47:31.916455",
     "exception": false,
     "start_time": "2019-11-28T16:47:31.812540",
     "status": "completed"
    },
    "tags": []
   },
   "outputs": [],
   "source": [
    "_path = os.path.join(conf.SPREDIXCAN_RESULTS_DIR['GTEX_GWAS'] + '/*')\n",
    "display(_path)\n",
    "all_extra_results_dirs = glob(_path)\n",
    "display(len(all_extra_results_dirs))\n",
    "assert len(all_extra_results_dirs) == conf.SPREDIXCAN_EXPECTED_PHENOTYPES['GTEX_GWAS']"
   ]
  },
  {
   "cell_type": "code",
   "execution_count": null,
   "metadata": {
    "papermill": {
     "duration": 0.081338,
     "end_time": "2019-11-28T16:47:32.042261",
     "exception": false,
     "start_time": "2019-11-28T16:47:31.960923",
     "status": "completed"
    },
    "tags": []
   },
   "outputs": [],
   "source": [
    "all_extra_results_dirs[:5]"
   ]
  },
  {
   "cell_type": "code",
   "execution_count": null,
   "metadata": {
    "papermill": {
     "duration": 0.165682,
     "end_time": "2019-11-28T16:47:32.250708",
     "exception": false,
     "start_time": "2019-11-28T16:47:32.085026",
     "status": "completed"
    },
    "tags": []
   },
   "outputs": [],
   "source": [
    "_file_pattern = 'spredixcan_igwas_gtexmashrv8_(?P<code>[^/]+)__PM__(?P<tissue>.+)\\.csv$'\n",
    "all_extra_phenotypes = [PhenoResults(p, _file_pattern) for p in all_extra_results_dirs]\n",
    "all_extra_phenotypes_plain_names = pd.Index([p.pheno_info.get_plain_name() for p in all_extra_phenotypes])\n",
    "\n",
    "display(len(all_extra_phenotypes))\n",
    "assert len(all_extra_phenotypes) == conf.SMULTIXCAN_EXPECTED_PHENOTYPES['GTEX_GWAS']"
   ]
  },
  {
   "cell_type": "markdown",
   "metadata": {
    "papermill": {
     "duration": 0.041189,
     "end_time": "2019-11-28T16:47:32.335654",
     "exception": false,
     "start_time": "2019-11-28T16:47:32.294465",
     "status": "completed"
    },
    "tags": []
   },
   "source": [
    "# S-PrediXcan: pvalues"
   ]
  },
  {
   "cell_type": "code",
   "execution_count": null,
   "metadata": {
    "papermill": {
     "duration": 0.069668,
     "end_time": "2019-11-28T16:47:32.538019",
     "exception": false,
     "start_time": "2019-11-28T16:47:32.468351",
     "status": "completed"
    },
    "tags": []
   },
   "outputs": [],
   "source": [
    "from results.spredixcan import PhenoResults\n",
    "from results.gtex_model import GTEXModel"
   ]
  },
  {
   "cell_type": "code",
   "execution_count": null,
   "metadata": {},
   "outputs": [],
   "source": [
    "OUTPUT_FOLDER = os.path.join(conf.GENE_ASSOC_DIR, f'spredixcan')\n",
    "display(OUTPUT_FOLDER)\n",
    "os.makedirs(OUTPUT_FOLDER, exist_ok=True)"
   ]
  },
  {
   "cell_type": "code",
   "execution_count": null,
   "metadata": {},
   "outputs": [],
   "source": [
    "OUTPUT_FILE_FORMAT = 'spredixcan-{tissue}-{column}.{format}'\n",
    "display(OUTPUT_FILE_FORMAT)"
   ]
  },
  {
   "cell_type": "code",
   "execution_count": null,
   "metadata": {},
   "outputs": [],
   "source": [
    "ALL_TISSUES = GTEXModel.get_tissues(conf.GTEX_MODELS_DIR)\n",
    "assert len(ALL_TISSUES) == 49"
   ]
  },
  {
   "cell_type": "markdown",
   "metadata": {
    "papermill": {
     "duration": 0.044546,
     "end_time": "2019-11-28T16:47:32.740102",
     "exception": false,
     "start_time": "2019-11-28T16:47:32.695556",
     "status": "completed"
    },
    "tags": []
   },
   "source": [
    "### Compute results"
   ]
  },
  {
   "cell_type": "code",
   "execution_count": null,
   "metadata": {},
   "outputs": [],
   "source": [
    "# import threading\n",
    "# from queue import Queue\n",
    "\n",
    "from utils import simplify_string_for_hdf5"
   ]
  },
  {
   "cell_type": "code",
   "execution_count": null,
   "metadata": {},
   "outputs": [],
   "source": [
    "# to_write = Queue(maxsize=5)"
   ]
  },
  {
   "cell_type": "code",
   "execution_count": null,
   "metadata": {
    "papermill": {
     "duration": 0.072332,
     "end_time": "2019-11-28T16:47:32.853579",
     "exception": false,
     "start_time": "2019-11-28T16:47:32.781247",
     "status": "completed"
    },
    "tags": []
   },
   "outputs": [],
   "source": [
    "def _get_combined_results(phenos, tissue, column):\n",
    "    return {\n",
    "        pheno.pheno_info.get_plain_name():\n",
    "            pheno.get_tissue_data(tissue, cols=[column], index_col='gene_simple')\n",
    "        for pheno in phenos\n",
    "    }"
   ]
  },
  {
   "cell_type": "code",
   "execution_count": null,
   "metadata": {},
   "outputs": [],
   "source": [
    "# def dataframe_creator(pqueue):\n",
    "def dataframe_creator(results, tissue_name, column_name):\n",
    "#     for results, tissue_name, column_name in iter(pqueue.get, None):\n",
    "    log_prefix = f'[{tissue_name} - {column_name}]'\n",
    "\n",
    "    _n_expected_phenos = np.sum(list(conf.SMULTIXCAN_EXPECTED_PHENOTYPES.values()))\n",
    "    assert len(results) == _n_expected_phenos, len(results)\n",
    "\n",
    "    spredixcan = pd.DataFrame(results)\n",
    "    spredixcan.index.rename('gene_name', inplace=True)\n",
    "    assert spredixcan.index.is_unique\n",
    "\n",
    "    # hdf5\n",
    "    spredixcan_filename = OUTPUT_FILE_FORMAT.format(\n",
    "        tissue=tissue_name,\n",
    "        column=column_name,\n",
    "        format='h5'\n",
    "    )\n",
    "    spredixcan_filename = os.path.join(OUTPUT_FOLDER, spredixcan_filename)\n",
    "\n",
    "    print(f'  {log_prefix}, saving to: {spredixcan_filename}', flush=True)\n",
    "    with pd.HDFStore(spredixcan_filename, mode='w', complevel=1) as store:\n",
    "        for col in spredixcan.columns:\n",
    "            clean_col = simplify_string_for_hdf5(col)\n",
    "            store[clean_col] = spredixcan[col]#.astype(float)"
   ]
  },
  {
   "cell_type": "code",
   "execution_count": null,
   "metadata": {
    "papermill": {
     "duration": 0.07439,
     "end_time": "2019-11-28T16:47:32.978230",
     "exception": false,
     "start_time": "2019-11-28T16:47:32.903840",
     "status": "completed"
    },
    "tags": []
   },
   "outputs": [],
   "source": [
    "def _run(tissue, column, phenotype_chunks, n_jobs=conf.N_JOBS_HIGH):\n",
    "    all_results = {}\n",
    "    with ProcessPoolExecutor(max_workers=n_jobs) as executor:\n",
    "        tasks = [executor.submit(_get_combined_results, chunk, tissue, column) for chunk in phenotype_chunks]\n",
    "        for future in as_completed(tasks):\n",
    "            res = future.result()\n",
    "            all_results.update(res)\n",
    "\n",
    "    dataframe_creator(all_results, tissue, column)\n",
    "#     to_write.put((all_results, tissue, column))"
   ]
  },
  {
   "cell_type": "code",
   "execution_count": null,
   "metadata": {},
   "outputs": [],
   "source": [
    "def run_all(tissues, phenotype_chunks, n_jobs=conf.N_JOBS_HIGH):\n",
    "    for tissue in tissues:\n",
    "        print(tissue, flush=True)\n",
    "        \n",
    "        for column in ('pvalue', 'zscore', 'effect_size'):\n",
    "            _run(tissue, column, phenotype_chunks, n_jobs)\n",
    "    \n",
    "#     to_write.put(None)"
   ]
  },
  {
   "cell_type": "code",
   "execution_count": null,
   "metadata": {
    "papermill": {
     "duration": 0.080696,
     "end_time": "2019-11-28T16:47:33.101857",
     "exception": false,
     "start_time": "2019-11-28T16:47:33.021161",
     "status": "completed"
    },
    "tags": []
   },
   "outputs": [],
   "source": [
    "# phenotype_chunks = chunker(all_spredixcan_phenotypes[:5] + all_extra_phenotypes[:5], 2)\n",
    "phenotype_chunks = chunker(all_spredixcan_phenotypes + all_extra_phenotypes, 25)"
   ]
  },
  {
   "cell_type": "code",
   "execution_count": null,
   "metadata": {},
   "outputs": [],
   "source": [
    "phenotype_chunks = list(phenotype_chunks)"
   ]
  },
  {
   "cell_type": "code",
   "execution_count": null,
   "metadata": {},
   "outputs": [],
   "source": [
    "tissues = GTEXModel.get_tissues(conf.GTEX_MODELS_DIR)\n",
    "#tissues = tissues[:2]"
   ]
  },
  {
   "cell_type": "code",
   "execution_count": null,
   "metadata": {},
   "outputs": [],
   "source": [
    "# writing_thread = threading.Thread(target=dataframe_creator, args=((to_write),))\n",
    "# writing_thread.start()"
   ]
  },
  {
   "cell_type": "code",
   "execution_count": null,
   "metadata": {
    "papermill": {
     "duration": 16360.913798,
     "end_time": "2019-11-28T21:20:14.058605",
     "exception": false,
     "start_time": "2019-11-28T16:47:33.144807",
     "status": "completed"
    },
    "tags": []
   },
   "outputs": [],
   "source": [
    "run_all(tissues, phenotype_chunks)"
   ]
  },
  {
   "cell_type": "code",
   "execution_count": null,
   "metadata": {},
   "outputs": [],
   "source": [
    "# writing_thread.join()"
   ]
  },
  {
   "cell_type": "markdown",
   "metadata": {
    "papermill": {
     "duration": 0.04532,
     "end_time": "2019-11-28T21:22:58.164050",
     "exception": false,
     "start_time": "2019-11-28T21:22:58.118730",
     "status": "completed"
    },
    "tags": []
   },
   "source": [
    "## Testing"
   ]
  },
  {
   "cell_type": "code",
   "execution_count": null,
   "metadata": {},
   "outputs": [],
   "source": [
    "n_expected_phenos = np.sum(list(conf.SMULTIXCAN_EXPECTED_PHENOTYPES.values()))"
   ]
  },
  {
   "cell_type": "code",
   "execution_count": null,
   "metadata": {},
   "outputs": [],
   "source": [
    "n_expected_phenos"
   ]
  },
  {
   "cell_type": "code",
   "execution_count": null,
   "metadata": {
    "papermill": {
     "duration": 9.11522,
     "end_time": "2019-11-28T21:25:09.476672",
     "exception": false,
     "start_time": "2019-11-28T21:25:00.361452",
     "status": "completed"
    },
    "tags": []
   },
   "outputs": [],
   "source": [
    "output_hdf5_file = os.path.join(OUTPUT_FOLDER, 'spredixcan-Thyroid-pvalue.h5')\n",
    "\n",
    "with pd.HDFStore(output_hdf5_file, mode='r') as store:\n",
    "    store_keys = list(store.keys())\n",
    "    assert len(store_keys) == n_expected_phenos\n",
    "    display(store_keys[:5])\n",
    "    \n",
    "    clean_col = simplify_string_for_hdf5('N02-Diagnoses_main_ICD10_N02_Recurrent_and_persistent_haematuria')\n",
    "    data = store[clean_col]\n",
    "    assert data.shape == (15289,), data.shape\n",
    "    assert data.loc['ENSG00000213965'] == 0.00023756504804916094, data.loc['ENSG00000213965']\n",
    "    assert pd.isnull(data.loc['ENSG00000198670'])\n",
    "    assert data.loc['ENSG00000177025'] == 1.586957013502016e-05, data.loc['ENSG00000177025']\n",
    "    \n",
    "    clean_col = simplify_string_for_hdf5('MAGNETIC_LDL.C')\n",
    "    data = store[clean_col]\n",
    "    assert data.shape == (15289,), data.shape\n",
    "    assert data.loc['ENSG00000113163'] == 1.3600016190892495e-13, data.loc['ENSG00000113163']\n",
    "    assert pd.isnull(data.loc['ENSG00000223510'])\n",
    "    assert data.loc['ENSG00000204241'] == 0.9990521310244208, data.loc['ENSG00000204241']"
   ]
  },
  {
   "cell_type": "code",
   "execution_count": null,
   "metadata": {
    "papermill": {
     "duration": 9.11522,
     "end_time": "2019-11-28T21:25:09.476672",
     "exception": false,
     "start_time": "2019-11-28T21:25:00.361452",
     "status": "completed"
    },
    "tags": []
   },
   "outputs": [],
   "source": [
    "output_hdf5_file = os.path.join(OUTPUT_FOLDER, 'spredixcan-Thyroid-zscore.h5')\n",
    "\n",
    "with pd.HDFStore(output_hdf5_file, mode='r') as store:\n",
    "    store_keys = list(store.keys())\n",
    "    assert len(store_keys) == n_expected_phenos\n",
    "    display(store_keys[:5])\n",
    "    \n",
    "    clean_col = simplify_string_for_hdf5('N02-Diagnoses_main_ICD10_N02_Recurrent_and_persistent_haematuria')\n",
    "    data = store[clean_col]\n",
    "    assert data.shape == (15289,), data.shape\n",
    "    assert data.loc['ENSG00000213965'] == -3.6753054157625686, data.loc['ENSG00000213965']\n",
    "    assert pd.isnull(data.loc['ENSG00000198670'])\n",
    "    assert data.loc['ENSG00000177025'] == 4.316259089446458, data.loc['ENSG00000177025']\n",
    "    \n",
    "    clean_col = simplify_string_for_hdf5('MAGNETIC_LDL.C')\n",
    "    data = store[clean_col]\n",
    "    assert data.shape == (15289,), data.shape\n",
    "    assert data.loc['ENSG00000113163'] == -7.400179862976074, data.loc['ENSG00000113163']\n",
    "    assert pd.isnull(data.loc['ENSG00000223510'])\n",
    "    assert data.loc['ENSG00000204241'] == 0.0011879778668467532, data.loc['ENSG00000204241']"
   ]
  },
  {
   "cell_type": "code",
   "execution_count": null,
   "metadata": {
    "papermill": {
     "duration": 9.11522,
     "end_time": "2019-11-28T21:25:09.476672",
     "exception": false,
     "start_time": "2019-11-28T21:25:00.361452",
     "status": "completed"
    },
    "tags": []
   },
   "outputs": [],
   "source": [
    "output_hdf5_file = os.path.join(OUTPUT_FOLDER, 'spredixcan-Thyroid-effect_size.h5')\n",
    "\n",
    "with pd.HDFStore(output_hdf5_file, mode='r') as store:\n",
    "    store_keys = list(store.keys())\n",
    "    assert len(store_keys) == n_expected_phenos\n",
    "    display(store_keys[:5])\n",
    "    \n",
    "    clean_col = simplify_string_for_hdf5('N02-Diagnoses_main_ICD10_N02_Recurrent_and_persistent_haematuria')\n",
    "    data = store[clean_col]\n",
    "    assert data.shape == (15289,), data.shape\n",
    "    assert data.loc['ENSG00000213965'] == -0.0011122695712738851, data.loc['ENSG00000213965']\n",
    "    assert pd.isnull(data.loc['ENSG00000198670'])\n",
    "    assert data.loc['ENSG00000177025'] == 0.0013606910719667048, data.loc['ENSG00000177025']\n",
    "    \n",
    "    clean_col = simplify_string_for_hdf5('MAGNETIC_LDL.C')\n",
    "    data = store[clean_col]\n",
    "    assert data.shape == (15289,), data.shape\n",
    "    assert pd.isnull(data.loc['ENSG00000113163'])\n",
    "    assert pd.isnull(data.loc['ENSG00000223510'])\n",
    "    assert pd.isnull(data.loc['ENSG00000204241'])"
   ]
  },
  {
   "cell_type": "code",
   "execution_count": null,
   "metadata": {},
   "outputs": [],
   "source": [
    "output_hdf5_file = os.path.join(OUTPUT_FOLDER, 'spredixcan-Skin_Not_Sun_Exposed_Suprapubic-pvalue.h5')\n",
    "\n",
    "with pd.HDFStore(output_hdf5_file, mode='r') as store:\n",
    "    store_keys = list(store.keys())\n",
    "    assert len(store_keys) == n_expected_phenos\n",
    "    display(store_keys[:5])\n",
    "    \n",
    "    clean_col = simplify_string_for_hdf5('N02-Diagnoses_main_ICD10_N02_Recurrent_and_persistent_haematuria')\n",
    "    data = store[clean_col]\n",
    "    assert data.shape == (14920,), data.shape\n",
    "    assert data.loc['ENSG00000214575'] == 0.999887282076106, data.loc['ENSG00000214575']\n",
    "    assert pd.isnull(data.loc['ENSG00000231131'])\n",
    "    assert data.loc['ENSG00000177025'] == 2.0403800371097046e-05, data.loc['ENSG00000177025']"
   ]
  },
  {
   "cell_type": "markdown",
   "metadata": {
    "papermill": {
     "duration": 0.045549,
     "end_time": "2019-11-28T21:22:58.697833",
     "exception": false,
     "start_time": "2019-11-28T21:22:58.652284",
     "status": "completed"
    },
    "tags": []
   },
   "source": [
    "The code below was used to write the assert above; see for each gene if first and last (min and max) correspond to sign above"
   ]
  },
  {
   "cell_type": "code",
   "execution_count": null,
   "metadata": {
    "papermill": {
     "duration": 0.078341,
     "end_time": "2019-11-28T21:22:58.822638",
     "exception": false,
     "start_time": "2019-11-28T21:22:58.744297",
     "status": "completed"
    },
    "tags": []
   },
   "outputs": [],
   "source": [
    "rapid_gwas_dir = conf.SPREDIXCAN_RESULTS_DIR['RapidGWASProject']\n",
    "gtex_gwas_dir = conf.SPREDIXCAN_RESULTS_DIR['GTEX_GWAS']"
   ]
  },
  {
   "cell_type": "code",
   "execution_count": null,
   "metadata": {
    "papermill": {
     "duration": 4.396319,
     "end_time": "2019-11-28T21:23:03.268199",
     "exception": false,
     "start_time": "2019-11-28T21:22:58.871880",
     "status": "completed"
    },
    "tags": []
   },
   "outputs": [],
   "source": [
    "%%bash -s \"$rapid_gwas_dir\"\n",
    "cd $1/N02\n",
    "head -1 N02-gtex_v8-Thyroid-2018_10.csv | cut -f1-5 -d, | column -s, -t\n",
    "echo \"\"\n",
    "cat N02-gtex_v8-Thyroid-2018_10.csv | grep ENSG00000213965 | cut -f1-5 -d, | column -s, -t\n",
    "echo \"\"\n",
    "cat N02-gtex_v8-Thyroid-2018_10.csv | grep ENSG00000198670 | cut -f1-5 -d, | column -s, -t\n",
    "echo \"\"\n",
    "cat N02-gtex_v8-Thyroid-2018_10.csv | grep ENSG00000177025 | cut -f1-5 -d, | column -s, -t"
   ]
  },
  {
   "cell_type": "code",
   "execution_count": null,
   "metadata": {
    "papermill": {
     "duration": 4.396319,
     "end_time": "2019-11-28T21:23:03.268199",
     "exception": false,
     "start_time": "2019-11-28T21:22:58.871880",
     "status": "completed"
    },
    "tags": []
   },
   "outputs": [],
   "source": [
    "%%bash -s \"$rapid_gwas_dir\"\n",
    "cd $1/N02\n",
    "head -1 N02-gtex_v8-Skin_Not_Sun_Exposed_Suprapubic-2018_10.csv | cut -f1-5 -d, | column -s, -t\n",
    "echo \"\"\n",
    "cat N02-gtex_v8-Skin_Not_Sun_Exposed_Suprapubic-2018_10.csv | grep ENSG00000214575 | cut -f1-5 -d, | column -s, -t\n",
    "echo \"\"\n",
    "cat N02-gtex_v8-Skin_Not_Sun_Exposed_Suprapubic-2018_10.csv | grep ENSG00000231131 | cut -f1-5 -d, | column -s, -t\n",
    "echo \"\"\n",
    "cat N02-gtex_v8-Skin_Not_Sun_Exposed_Suprapubic-2018_10.csv | grep ENSG00000177025 | cut -f1-5 -d, | column -s, -t"
   ]
  },
  {
   "cell_type": "code",
   "execution_count": null,
   "metadata": {
    "papermill": {
     "duration": 4.396319,
     "end_time": "2019-11-28T21:23:03.268199",
     "exception": false,
     "start_time": "2019-11-28T21:22:58.871880",
     "status": "completed"
    },
    "tags": []
   },
   "outputs": [],
   "source": [
    "%%bash -s \"$gtex_gwas_dir\"\n",
    "cd $1/MAGNETIC_LDL.C\n",
    "head -1 spredixcan_igwas_gtexmashrv8_MAGNETIC_LDL.C__PM__Thyroid.csv | cut -f1-5 -d, | column -s, -t\n",
    "echo \"\"\n",
    "cat spredixcan_igwas_gtexmashrv8_MAGNETIC_LDL.C__PM__Thyroid.csv | grep ENSG00000113163 | cut -f1-5 -d, | column -s, -t\n",
    "echo \"\"\n",
    "cat spredixcan_igwas_gtexmashrv8_MAGNETIC_LDL.C__PM__Thyroid.csv | grep ENSG00000223510 | cut -f1-5 -d, | column -s, -t\n",
    "echo \"\"\n",
    "cat spredixcan_igwas_gtexmashrv8_MAGNETIC_LDL.C__PM__Thyroid.csv | grep ENSG00000204241 | cut -f1-5 -d, | column -s, -t"
   ]
  },
  {
   "cell_type": "code",
   "execution_count": null,
   "metadata": {
    "papermill": {
     "duration": 0.050964,
     "end_time": "2019-11-28T21:25:09.583753",
     "exception": false,
     "start_time": "2019-11-28T21:25:09.532789",
     "status": "completed"
    },
    "tags": []
   },
   "outputs": [],
   "source": []
  }
 ],
 "metadata": {
  "kernelspec": {
   "display_name": "Python 3",
   "language": "python",
   "name": "python3"
  },
  "language_info": {
   "codemirror_mode": {
    "name": "ipython",
    "version": 3
   },
   "file_extension": ".py",
   "mimetype": "text/x-python",
   "name": "python",
   "nbconvert_exporter": "python",
   "pygments_lexer": "ipython3",
   "version": "3.7.5"
  },
  "papermill": {
   "duration": 16709.033045,
   "end_time": "2019-11-28T21:25:12.973418",
   "environment_variables": {},
   "exception": null,
   "input_path": "100_postprocessing/05_spredixcan_direction_effect_consensus.ipynb",
   "output_path": "100_postprocessing/05_spredixcan_direction_effect_consensus.run.ipynb",
   "parameters": {},
   "start_time": "2019-11-28T16:46:43.940373",
   "version": "1.2.1"
  }
 },
 "nbformat": 4,
 "nbformat_minor": 4
}
