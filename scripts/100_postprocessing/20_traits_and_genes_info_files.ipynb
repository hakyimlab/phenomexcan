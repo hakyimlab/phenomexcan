{
 "cells": [
  {
   "cell_type": "code",
   "execution_count": 1,
   "metadata": {},
   "outputs": [],
   "source": [
    "%load_ext autoreload\n",
    "%autoreload 2"
   ]
  },
  {
   "cell_type": "code",
   "execution_count": 2,
   "metadata": {},
   "outputs": [],
   "source": [
    "import os\n",
    "import pickle\n",
    "\n",
    "import numpy as np\n",
    "import pandas as pd\n",
    "\n",
    "import settings as conf\n",
    "import metadata"
   ]
  },
  {
   "cell_type": "markdown",
   "metadata": {},
   "source": [
    "# Traits info file"
   ]
  },
  {
   "cell_type": "code",
   "execution_count": 3,
   "metadata": {},
   "outputs": [],
   "source": [
    "from entity import Trait"
   ]
  },
  {
   "cell_type": "code",
   "execution_count": 4,
   "metadata": {},
   "outputs": [],
   "source": [
    "pheno_codes = metadata.RAPID_GWAS_PHENO_INFO.index\n",
    "pheno_codes = pheno_codes.union(metadata.GTEX_GWAS_PHENO_INFO.index)"
   ]
  },
  {
   "cell_type": "code",
   "execution_count": 5,
   "metadata": {},
   "outputs": [],
   "source": [
    "assert len(pheno_codes) == len(metadata.RAPID_GWAS_PHENO_INFO.index) + len(metadata.GTEX_GWAS_PHENO_INFO.index)"
   ]
  },
  {
   "cell_type": "code",
   "execution_count": 6,
   "metadata": {},
   "outputs": [
    {
     "data": {
      "text/plain": [
       "Index(['100001_irnt', '100001_raw', '100002_irnt', '100002_raw', '100003_irnt',\n",
       "       '100003_raw', '100004_irnt', '100004_raw', '100005_irnt', '100005_raw',\n",
       "       ...\n",
       "       'Z53', 'Z71', 'Z76', 'Z80', 'Z85', 'Z87', 'age', 'is_female',\n",
       "       'pgc.scz2', 'tag.evrsmk.tbl'],\n",
       "      dtype='object', length=4473)"
      ]
     },
     "execution_count": 6,
     "metadata": {},
     "output_type": "execute_result"
    }
   ],
   "source": [
    "pheno_codes"
   ]
  },
  {
   "cell_type": "code",
   "execution_count": 7,
   "metadata": {},
   "outputs": [],
   "source": [
    "pheno_traits = [Trait(code) for code in pheno_codes]"
   ]
  },
  {
   "cell_type": "code",
   "execution_count": 8,
   "metadata": {},
   "outputs": [],
   "source": [
    "assert len(pheno_traits) == len(pheno_codes)"
   ]
  },
  {
   "cell_type": "code",
   "execution_count": 9,
   "metadata": {},
   "outputs": [
    {
     "data": {
      "text/plain": [
       "[100001_irnt-Food_weight,\n",
       " 100001_raw-Food_weight,\n",
       " 100002_irnt-Energy,\n",
       " 100002_raw-Energy,\n",
       " 100003_irnt-Protein]"
      ]
     },
     "execution_count": 9,
     "metadata": {},
     "output_type": "execute_result"
    }
   ],
   "source": [
    "pheno_traits[:5]"
   ]
  },
  {
   "cell_type": "code",
   "execution_count": 10,
   "metadata": {},
   "outputs": [
    {
     "data": {
      "text/plain": [
       "[Z87-Diagnoses_main_ICD10_Z87_Personal_history_of_other_diseases_and_conditions,\n",
       " age-Age_at_recruitment,\n",
       " is_female-is_female_based_on_inferred_genetic_sex,\n",
       " pgc.scz2,\n",
       " tag.evrsmk.tbl]"
      ]
     },
     "execution_count": 10,
     "metadata": {},
     "output_type": "execute_result"
    }
   ],
   "source": [
    "pheno_traits[-5:]"
   ]
  },
  {
   "cell_type": "code",
   "execution_count": 11,
   "metadata": {},
   "outputs": [],
   "source": [
    "pheno_data_tuples = [\n",
    "    (t.get_plain_name(), t.code, t.description, t.type, t.n, t.n_cases, t.n_controls, t.source)\n",
    "    for t in pheno_traits\n",
    "]"
   ]
  },
  {
   "cell_type": "code",
   "execution_count": 12,
   "metadata": {},
   "outputs": [],
   "source": [
    "pheno_info_df = pd.DataFrame.from_records(\n",
    "    pheno_data_tuples,\n",
    "    index='full_code',\n",
    "    columns='full_code short_code description type n n_cases n_controls source'.split()\n",
    ")"
   ]
  },
  {
   "cell_type": "code",
   "execution_count": 13,
   "metadata": {},
   "outputs": [
    {
     "data": {
      "text/html": [
       "<div>\n",
       "<style scoped>\n",
       "    .dataframe tbody tr th:only-of-type {\n",
       "        vertical-align: middle;\n",
       "    }\n",
       "\n",
       "    .dataframe tbody tr th {\n",
       "        vertical-align: top;\n",
       "    }\n",
       "\n",
       "    .dataframe thead th {\n",
       "        text-align: right;\n",
       "    }\n",
       "</style>\n",
       "<table border=\"1\" class=\"dataframe\">\n",
       "  <thead>\n",
       "    <tr style=\"text-align: right;\">\n",
       "      <th></th>\n",
       "      <th>short_code</th>\n",
       "      <th>description</th>\n",
       "      <th>type</th>\n",
       "      <th>n</th>\n",
       "      <th>n_cases</th>\n",
       "      <th>n_controls</th>\n",
       "      <th>source</th>\n",
       "    </tr>\n",
       "    <tr>\n",
       "      <th>full_code</th>\n",
       "      <th></th>\n",
       "      <th></th>\n",
       "      <th></th>\n",
       "      <th></th>\n",
       "      <th></th>\n",
       "      <th></th>\n",
       "      <th></th>\n",
       "    </tr>\n",
       "  </thead>\n",
       "  <tbody>\n",
       "    <tr>\n",
       "      <th>100001_irnt-Food_weight</th>\n",
       "      <td>100001_irnt</td>\n",
       "      <td>Food weight</td>\n",
       "      <td>continuous_irnt</td>\n",
       "      <td>51453</td>\n",
       "      <td>NaN</td>\n",
       "      <td>NaN</td>\n",
       "      <td>UK Biobank</td>\n",
       "    </tr>\n",
       "    <tr>\n",
       "      <th>100001_raw-Food_weight</th>\n",
       "      <td>100001_raw</td>\n",
       "      <td>Food weight</td>\n",
       "      <td>continuous_raw</td>\n",
       "      <td>51453</td>\n",
       "      <td>NaN</td>\n",
       "      <td>NaN</td>\n",
       "      <td>UK Biobank</td>\n",
       "    </tr>\n",
       "    <tr>\n",
       "      <th>100002_irnt-Energy</th>\n",
       "      <td>100002_irnt</td>\n",
       "      <td>Energy</td>\n",
       "      <td>continuous_irnt</td>\n",
       "      <td>51453</td>\n",
       "      <td>NaN</td>\n",
       "      <td>NaN</td>\n",
       "      <td>UK Biobank</td>\n",
       "    </tr>\n",
       "    <tr>\n",
       "      <th>100002_raw-Energy</th>\n",
       "      <td>100002_raw</td>\n",
       "      <td>Energy</td>\n",
       "      <td>continuous_raw</td>\n",
       "      <td>51453</td>\n",
       "      <td>NaN</td>\n",
       "      <td>NaN</td>\n",
       "      <td>UK Biobank</td>\n",
       "    </tr>\n",
       "    <tr>\n",
       "      <th>100003_irnt-Protein</th>\n",
       "      <td>100003_irnt</td>\n",
       "      <td>Protein</td>\n",
       "      <td>continuous_irnt</td>\n",
       "      <td>51453</td>\n",
       "      <td>NaN</td>\n",
       "      <td>NaN</td>\n",
       "      <td>UK Biobank</td>\n",
       "    </tr>\n",
       "  </tbody>\n",
       "</table>\n",
       "</div>"
      ],
      "text/plain": [
       "                          short_code  description             type      n  \\\n",
       "full_code                                                                   \n",
       "100001_irnt-Food_weight  100001_irnt  Food weight  continuous_irnt  51453   \n",
       "100001_raw-Food_weight    100001_raw  Food weight   continuous_raw  51453   \n",
       "100002_irnt-Energy       100002_irnt       Energy  continuous_irnt  51453   \n",
       "100002_raw-Energy         100002_raw       Energy   continuous_raw  51453   \n",
       "100003_irnt-Protein      100003_irnt      Protein  continuous_irnt  51453   \n",
       "\n",
       "                         n_cases  n_controls      source  \n",
       "full_code                                                 \n",
       "100001_irnt-Food_weight      NaN         NaN  UK Biobank  \n",
       "100001_raw-Food_weight       NaN         NaN  UK Biobank  \n",
       "100002_irnt-Energy           NaN         NaN  UK Biobank  \n",
       "100002_raw-Energy            NaN         NaN  UK Biobank  \n",
       "100003_irnt-Protein          NaN         NaN  UK Biobank  "
      ]
     },
     "execution_count": 13,
     "metadata": {},
     "output_type": "execute_result"
    }
   ],
   "source": [
    "pheno_info_df.head()"
   ]
  },
  {
   "cell_type": "code",
   "execution_count": 14,
   "metadata": {},
   "outputs": [
    {
     "data": {
      "text/html": [
       "<div>\n",
       "<style scoped>\n",
       "    .dataframe tbody tr th:only-of-type {\n",
       "        vertical-align: middle;\n",
       "    }\n",
       "\n",
       "    .dataframe tbody tr th {\n",
       "        vertical-align: top;\n",
       "    }\n",
       "\n",
       "    .dataframe thead th {\n",
       "        text-align: right;\n",
       "    }\n",
       "</style>\n",
       "<table border=\"1\" class=\"dataframe\">\n",
       "  <thead>\n",
       "    <tr style=\"text-align: right;\">\n",
       "      <th></th>\n",
       "      <th>short_code</th>\n",
       "      <th>description</th>\n",
       "      <th>type</th>\n",
       "      <th>n</th>\n",
       "      <th>n_cases</th>\n",
       "      <th>n_controls</th>\n",
       "      <th>source</th>\n",
       "    </tr>\n",
       "    <tr>\n",
       "      <th>full_code</th>\n",
       "      <th></th>\n",
       "      <th></th>\n",
       "      <th></th>\n",
       "      <th></th>\n",
       "      <th></th>\n",
       "      <th></th>\n",
       "      <th></th>\n",
       "    </tr>\n",
       "  </thead>\n",
       "  <tbody>\n",
       "    <tr>\n",
       "      <th>Z87-Diagnoses_main_ICD10_Z87_Personal_history_of_other_diseases_and_conditions</th>\n",
       "      <td>Z87</td>\n",
       "      <td>Diagnoses - main ICD10: Z87 Personal history o...</td>\n",
       "      <td>categorical</td>\n",
       "      <td>361194</td>\n",
       "      <td>234.0</td>\n",
       "      <td>360960.0</td>\n",
       "      <td>UK Biobank</td>\n",
       "    </tr>\n",
       "    <tr>\n",
       "      <th>age-Age_at_recruitment</th>\n",
       "      <td>age</td>\n",
       "      <td>Age at recruitment</td>\n",
       "      <td>continuous_raw</td>\n",
       "      <td>361194</td>\n",
       "      <td>NaN</td>\n",
       "      <td>NaN</td>\n",
       "      <td>UK Biobank</td>\n",
       "    </tr>\n",
       "    <tr>\n",
       "      <th>is_female-is_female_based_on_inferred_genetic_sex</th>\n",
       "      <td>is_female</td>\n",
       "      <td>is_female, based on inferred genetic sex</td>\n",
       "      <td>categorical</td>\n",
       "      <td>361194</td>\n",
       "      <td>194174.0</td>\n",
       "      <td>167020.0</td>\n",
       "      <td>UK Biobank</td>\n",
       "    </tr>\n",
       "    <tr>\n",
       "      <th>pgc.scz2</th>\n",
       "      <td>pgc.scz2</td>\n",
       "      <td>Schizophrenia</td>\n",
       "      <td>binary</td>\n",
       "      <td>150064</td>\n",
       "      <td>36989.0</td>\n",
       "      <td>113075.0</td>\n",
       "      <td>PGC</td>\n",
       "    </tr>\n",
       "    <tr>\n",
       "      <th>tag.evrsmk.tbl</th>\n",
       "      <td>tag.evrsmk.tbl</td>\n",
       "      <td>Tobacco Ever Smoker vs Never Smoker</td>\n",
       "      <td>binary</td>\n",
       "      <td>74035</td>\n",
       "      <td>41969.0</td>\n",
       "      <td>32066.0</td>\n",
       "      <td>TAG</td>\n",
       "    </tr>\n",
       "  </tbody>\n",
       "</table>\n",
       "</div>"
      ],
      "text/plain": [
       "                                                        short_code  \\\n",
       "full_code                                                            \n",
       "Z87-Diagnoses_main_ICD10_Z87_Personal_history_o...             Z87   \n",
       "age-Age_at_recruitment                                         age   \n",
       "is_female-is_female_based_on_inferred_genetic_sex        is_female   \n",
       "pgc.scz2                                                  pgc.scz2   \n",
       "tag.evrsmk.tbl                                      tag.evrsmk.tbl   \n",
       "\n",
       "                                                                                          description  \\\n",
       "full_code                                                                                               \n",
       "Z87-Diagnoses_main_ICD10_Z87_Personal_history_o...  Diagnoses - main ICD10: Z87 Personal history o...   \n",
       "age-Age_at_recruitment                                                             Age at recruitment   \n",
       "is_female-is_female_based_on_inferred_genetic_sex            is_female, based on inferred genetic sex   \n",
       "pgc.scz2                                                                                Schizophrenia   \n",
       "tag.evrsmk.tbl                                                    Tobacco Ever Smoker vs Never Smoker   \n",
       "\n",
       "                                                              type       n  \\\n",
       "full_code                                                                    \n",
       "Z87-Diagnoses_main_ICD10_Z87_Personal_history_o...     categorical  361194   \n",
       "age-Age_at_recruitment                              continuous_raw  361194   \n",
       "is_female-is_female_based_on_inferred_genetic_sex      categorical  361194   \n",
       "pgc.scz2                                                    binary  150064   \n",
       "tag.evrsmk.tbl                                              binary   74035   \n",
       "\n",
       "                                                     n_cases  n_controls  \\\n",
       "full_code                                                                  \n",
       "Z87-Diagnoses_main_ICD10_Z87_Personal_history_o...     234.0    360960.0   \n",
       "age-Age_at_recruitment                                   NaN         NaN   \n",
       "is_female-is_female_based_on_inferred_genetic_sex   194174.0    167020.0   \n",
       "pgc.scz2                                             36989.0    113075.0   \n",
       "tag.evrsmk.tbl                                       41969.0     32066.0   \n",
       "\n",
       "                                                        source  \n",
       "full_code                                                       \n",
       "Z87-Diagnoses_main_ICD10_Z87_Personal_history_o...  UK Biobank  \n",
       "age-Age_at_recruitment                              UK Biobank  \n",
       "is_female-is_female_based_on_inferred_genetic_sex   UK Biobank  \n",
       "pgc.scz2                                                   PGC  \n",
       "tag.evrsmk.tbl                                             TAG  "
      ]
     },
     "execution_count": 14,
     "metadata": {},
     "output_type": "execute_result"
    }
   ],
   "source": [
    "pheno_info_df.tail()"
   ]
  },
  {
   "cell_type": "markdown",
   "metadata": {},
   "source": [
    "## Load S-MultiXcan results"
   ]
  },
  {
   "cell_type": "code",
   "execution_count": 15,
   "metadata": {},
   "outputs": [
    {
     "data": {
      "text/plain": [
       "'/mnt/phenomexcan_base/gene_assoc/smultixcan-mashr-pvalues.pkl.xz'"
      ]
     },
     "metadata": {},
     "output_type": "display_data"
    }
   ],
   "source": [
    "smultixcan_pvalues_file = os.path.join(conf.GENE_ASSOC_DIR, f'smultixcan-mashr-pvalues.pkl.xz')\n",
    "display(smultixcan_pvalues_file)"
   ]
  },
  {
   "cell_type": "code",
   "execution_count": 16,
   "metadata": {},
   "outputs": [],
   "source": [
    "smultixcan_gene_associations = pd.read_pickle(smultixcan_pvalues_file)"
   ]
  },
  {
   "cell_type": "code",
   "execution_count": 17,
   "metadata": {},
   "outputs": [
    {
     "data": {
      "text/plain": [
       "(22515, 4091)"
      ]
     },
     "execution_count": 17,
     "metadata": {},
     "output_type": "execute_result"
    }
   ],
   "source": [
    "smultixcan_gene_associations.shape"
   ]
  },
  {
   "cell_type": "code",
   "execution_count": 18,
   "metadata": {},
   "outputs": [
    {
     "data": {
      "text/html": [
       "<div>\n",
       "<style scoped>\n",
       "    .dataframe tbody tr th:only-of-type {\n",
       "        vertical-align: middle;\n",
       "    }\n",
       "\n",
       "    .dataframe tbody tr th {\n",
       "        vertical-align: top;\n",
       "    }\n",
       "\n",
       "    .dataframe thead th {\n",
       "        text-align: right;\n",
       "    }\n",
       "</style>\n",
       "<table border=\"1\" class=\"dataframe\">\n",
       "  <thead>\n",
       "    <tr style=\"text-align: right;\">\n",
       "      <th></th>\n",
       "      <th>4270-Volume_level_set_by_participant_left</th>\n",
       "      <th>S05-Diagnoses_main_ICD10_S05_Injury_of_eye_and_orbit</th>\n",
       "      <th>20003_1141157402-Treatmentmedication_code_prednisolone_product</th>\n",
       "      <th>20002_1427-Noncancer_illness_code_selfreported_polycystic_kidney</th>\n",
       "      <th>110001-Invitation_to_complete_online_24hour_recall_dietary_questionnaire_acceptance</th>\n",
       "      <th>22617_2442-Job_SOC_coding_Social_workers</th>\n",
       "      <th>J93-Diagnoses_main_ICD10_J93_Pneumothorax</th>\n",
       "      <th>22601_41133206-Job_coding_local_government_administrative_officer_or_assistant_or_clerk</th>\n",
       "      <th>6145_3-Illness_injury_bereavement_stress_in_last_2_years_Death_of_a_close_relative</th>\n",
       "      <th>20002_1597-Noncancer_illness_code_selfreported_tinnitus_tiniitis</th>\n",
       "      <th>...</th>\n",
       "      <th>PGC_ADHD_EUR_2017</th>\n",
       "      <th>BCAC_ER_negative_BreastCancer_EUR</th>\n",
       "      <th>SSGAC_Education_Years_Pooled</th>\n",
       "      <th>pgc.scz2</th>\n",
       "      <th>MAGNETIC_HDL.C</th>\n",
       "      <th>MAGIC_ln_FastingInsulin</th>\n",
       "      <th>Astle_et_al_2016_Sum_eosinophil_basophil_counts</th>\n",
       "      <th>SSGAC_Depressive_Symptoms</th>\n",
       "      <th>Jones_et_al_2016_SleepDuration</th>\n",
       "      <th>Astle_et_al_2016_Red_blood_cell_count</th>\n",
       "    </tr>\n",
       "    <tr>\n",
       "      <th>gene_name</th>\n",
       "      <th></th>\n",
       "      <th></th>\n",
       "      <th></th>\n",
       "      <th></th>\n",
       "      <th></th>\n",
       "      <th></th>\n",
       "      <th></th>\n",
       "      <th></th>\n",
       "      <th></th>\n",
       "      <th></th>\n",
       "      <th></th>\n",
       "      <th></th>\n",
       "      <th></th>\n",
       "      <th></th>\n",
       "      <th></th>\n",
       "      <th></th>\n",
       "      <th></th>\n",
       "      <th></th>\n",
       "      <th></th>\n",
       "      <th></th>\n",
       "      <th></th>\n",
       "    </tr>\n",
       "  </thead>\n",
       "  <tbody>\n",
       "    <tr>\n",
       "      <th>ENSG00000000419</th>\n",
       "      <td>0.952828</td>\n",
       "      <td>0.827955</td>\n",
       "      <td>0.976745</td>\n",
       "      <td>0.916643</td>\n",
       "      <td>0.580172</td>\n",
       "      <td>0.270858</td>\n",
       "      <td>0.779171</td>\n",
       "      <td>0.597882</td>\n",
       "      <td>0.531657</td>\n",
       "      <td>0.534696</td>\n",
       "      <td>...</td>\n",
       "      <td>0.980281</td>\n",
       "      <td>0.413973</td>\n",
       "      <td>0.747822</td>\n",
       "      <td>0.609467</td>\n",
       "      <td>0.019467</td>\n",
       "      <td>0.371748</td>\n",
       "      <td>0.823010</td>\n",
       "      <td>0.713310</td>\n",
       "      <td>0.858389</td>\n",
       "      <td>0.409761</td>\n",
       "    </tr>\n",
       "    <tr>\n",
       "      <th>ENSG00000000457</th>\n",
       "      <td>0.646365</td>\n",
       "      <td>0.299606</td>\n",
       "      <td>0.477472</td>\n",
       "      <td>0.003570</td>\n",
       "      <td>0.905365</td>\n",
       "      <td>0.845711</td>\n",
       "      <td>0.137430</td>\n",
       "      <td>0.868056</td>\n",
       "      <td>0.028947</td>\n",
       "      <td>0.392273</td>\n",
       "      <td>...</td>\n",
       "      <td>0.228982</td>\n",
       "      <td>0.636830</td>\n",
       "      <td>0.654535</td>\n",
       "      <td>0.010907</td>\n",
       "      <td>0.726300</td>\n",
       "      <td>0.210658</td>\n",
       "      <td>0.008023</td>\n",
       "      <td>0.678749</td>\n",
       "      <td>0.836679</td>\n",
       "      <td>0.812484</td>\n",
       "    </tr>\n",
       "    <tr>\n",
       "      <th>ENSG00000000460</th>\n",
       "      <td>0.896074</td>\n",
       "      <td>0.094218</td>\n",
       "      <td>0.507646</td>\n",
       "      <td>0.166442</td>\n",
       "      <td>0.974545</td>\n",
       "      <td>0.628910</td>\n",
       "      <td>0.425188</td>\n",
       "      <td>0.551723</td>\n",
       "      <td>0.059456</td>\n",
       "      <td>0.295833</td>\n",
       "      <td>...</td>\n",
       "      <td>0.301460</td>\n",
       "      <td>0.140522</td>\n",
       "      <td>0.646442</td>\n",
       "      <td>0.587969</td>\n",
       "      <td>0.498724</td>\n",
       "      <td>0.521805</td>\n",
       "      <td>0.004462</td>\n",
       "      <td>0.736509</td>\n",
       "      <td>0.432229</td>\n",
       "      <td>0.486664</td>\n",
       "    </tr>\n",
       "    <tr>\n",
       "      <th>ENSG00000000938</th>\n",
       "      <td>0.576924</td>\n",
       "      <td>0.107121</td>\n",
       "      <td>0.439276</td>\n",
       "      <td>0.567582</td>\n",
       "      <td>0.768334</td>\n",
       "      <td>0.203873</td>\n",
       "      <td>0.231449</td>\n",
       "      <td>0.106706</td>\n",
       "      <td>0.595655</td>\n",
       "      <td>0.953718</td>\n",
       "      <td>...</td>\n",
       "      <td>0.588855</td>\n",
       "      <td>0.226977</td>\n",
       "      <td>0.576593</td>\n",
       "      <td>0.059247</td>\n",
       "      <td>0.435438</td>\n",
       "      <td>0.953160</td>\n",
       "      <td>0.101875</td>\n",
       "      <td>0.954998</td>\n",
       "      <td>0.097831</td>\n",
       "      <td>0.135045</td>\n",
       "    </tr>\n",
       "    <tr>\n",
       "      <th>ENSG00000000971</th>\n",
       "      <td>0.956390</td>\n",
       "      <td>0.492012</td>\n",
       "      <td>0.510924</td>\n",
       "      <td>0.532389</td>\n",
       "      <td>0.555313</td>\n",
       "      <td>0.993563</td>\n",
       "      <td>0.807439</td>\n",
       "      <td>0.948366</td>\n",
       "      <td>0.774694</td>\n",
       "      <td>0.490962</td>\n",
       "      <td>...</td>\n",
       "      <td>0.109883</td>\n",
       "      <td>0.040871</td>\n",
       "      <td>0.005662</td>\n",
       "      <td>0.020391</td>\n",
       "      <td>0.439466</td>\n",
       "      <td>0.690242</td>\n",
       "      <td>0.055059</td>\n",
       "      <td>0.002660</td>\n",
       "      <td>0.331132</td>\n",
       "      <td>0.995450</td>\n",
       "    </tr>\n",
       "  </tbody>\n",
       "</table>\n",
       "<p>5 rows × 4091 columns</p>\n",
       "</div>"
      ],
      "text/plain": [
       "                 4270-Volume_level_set_by_participant_left  \\\n",
       "gene_name                                                    \n",
       "ENSG00000000419                                   0.952828   \n",
       "ENSG00000000457                                   0.646365   \n",
       "ENSG00000000460                                   0.896074   \n",
       "ENSG00000000938                                   0.576924   \n",
       "ENSG00000000971                                   0.956390   \n",
       "\n",
       "                 S05-Diagnoses_main_ICD10_S05_Injury_of_eye_and_orbit  \\\n",
       "gene_name                                                               \n",
       "ENSG00000000419                                           0.827955      \n",
       "ENSG00000000457                                           0.299606      \n",
       "ENSG00000000460                                           0.094218      \n",
       "ENSG00000000938                                           0.107121      \n",
       "ENSG00000000971                                           0.492012      \n",
       "\n",
       "                 20003_1141157402-Treatmentmedication_code_prednisolone_product  \\\n",
       "gene_name                                                                         \n",
       "ENSG00000000419                                           0.976745                \n",
       "ENSG00000000457                                           0.477472                \n",
       "ENSG00000000460                                           0.507646                \n",
       "ENSG00000000938                                           0.439276                \n",
       "ENSG00000000971                                           0.510924                \n",
       "\n",
       "                 20002_1427-Noncancer_illness_code_selfreported_polycystic_kidney  \\\n",
       "gene_name                                                                           \n",
       "ENSG00000000419                                           0.916643                  \n",
       "ENSG00000000457                                           0.003570                  \n",
       "ENSG00000000460                                           0.166442                  \n",
       "ENSG00000000938                                           0.567582                  \n",
       "ENSG00000000971                                           0.532389                  \n",
       "\n",
       "                 110001-Invitation_to_complete_online_24hour_recall_dietary_questionnaire_acceptance  \\\n",
       "gene_name                                                                                              \n",
       "ENSG00000000419                                           0.580172                                     \n",
       "ENSG00000000457                                           0.905365                                     \n",
       "ENSG00000000460                                           0.974545                                     \n",
       "ENSG00000000938                                           0.768334                                     \n",
       "ENSG00000000971                                           0.555313                                     \n",
       "\n",
       "                 22617_2442-Job_SOC_coding_Social_workers  \\\n",
       "gene_name                                                   \n",
       "ENSG00000000419                                  0.270858   \n",
       "ENSG00000000457                                  0.845711   \n",
       "ENSG00000000460                                  0.628910   \n",
       "ENSG00000000938                                  0.203873   \n",
       "ENSG00000000971                                  0.993563   \n",
       "\n",
       "                 J93-Diagnoses_main_ICD10_J93_Pneumothorax  \\\n",
       "gene_name                                                    \n",
       "ENSG00000000419                                   0.779171   \n",
       "ENSG00000000457                                   0.137430   \n",
       "ENSG00000000460                                   0.425188   \n",
       "ENSG00000000938                                   0.231449   \n",
       "ENSG00000000971                                   0.807439   \n",
       "\n",
       "                 22601_41133206-Job_coding_local_government_administrative_officer_or_assistant_or_clerk  \\\n",
       "gene_name                                                                                                  \n",
       "ENSG00000000419                                           0.597882                                         \n",
       "ENSG00000000457                                           0.868056                                         \n",
       "ENSG00000000460                                           0.551723                                         \n",
       "ENSG00000000938                                           0.106706                                         \n",
       "ENSG00000000971                                           0.948366                                         \n",
       "\n",
       "                 6145_3-Illness_injury_bereavement_stress_in_last_2_years_Death_of_a_close_relative  \\\n",
       "gene_name                                                                                             \n",
       "ENSG00000000419                                           0.531657                                    \n",
       "ENSG00000000457                                           0.028947                                    \n",
       "ENSG00000000460                                           0.059456                                    \n",
       "ENSG00000000938                                           0.595655                                    \n",
       "ENSG00000000971                                           0.774694                                    \n",
       "\n",
       "                 20002_1597-Noncancer_illness_code_selfreported_tinnitus_tiniitis  \\\n",
       "gene_name                                                                           \n",
       "ENSG00000000419                                           0.534696                  \n",
       "ENSG00000000457                                           0.392273                  \n",
       "ENSG00000000460                                           0.295833                  \n",
       "ENSG00000000938                                           0.953718                  \n",
       "ENSG00000000971                                           0.490962                  \n",
       "\n",
       "                 ...  PGC_ADHD_EUR_2017  BCAC_ER_negative_BreastCancer_EUR  \\\n",
       "gene_name        ...                                                         \n",
       "ENSG00000000419  ...           0.980281                           0.413973   \n",
       "ENSG00000000457  ...           0.228982                           0.636830   \n",
       "ENSG00000000460  ...           0.301460                           0.140522   \n",
       "ENSG00000000938  ...           0.588855                           0.226977   \n",
       "ENSG00000000971  ...           0.109883                           0.040871   \n",
       "\n",
       "                 SSGAC_Education_Years_Pooled  pgc.scz2  MAGNETIC_HDL.C  \\\n",
       "gene_name                                                                 \n",
       "ENSG00000000419                      0.747822  0.609467        0.019467   \n",
       "ENSG00000000457                      0.654535  0.010907        0.726300   \n",
       "ENSG00000000460                      0.646442  0.587969        0.498724   \n",
       "ENSG00000000938                      0.576593  0.059247        0.435438   \n",
       "ENSG00000000971                      0.005662  0.020391        0.439466   \n",
       "\n",
       "                 MAGIC_ln_FastingInsulin  \\\n",
       "gene_name                                  \n",
       "ENSG00000000419                 0.371748   \n",
       "ENSG00000000457                 0.210658   \n",
       "ENSG00000000460                 0.521805   \n",
       "ENSG00000000938                 0.953160   \n",
       "ENSG00000000971                 0.690242   \n",
       "\n",
       "                 Astle_et_al_2016_Sum_eosinophil_basophil_counts  \\\n",
       "gene_name                                                          \n",
       "ENSG00000000419                                         0.823010   \n",
       "ENSG00000000457                                         0.008023   \n",
       "ENSG00000000460                                         0.004462   \n",
       "ENSG00000000938                                         0.101875   \n",
       "ENSG00000000971                                         0.055059   \n",
       "\n",
       "                 SSGAC_Depressive_Symptoms  Jones_et_al_2016_SleepDuration  \\\n",
       "gene_name                                                                    \n",
       "ENSG00000000419                   0.713310                        0.858389   \n",
       "ENSG00000000457                   0.678749                        0.836679   \n",
       "ENSG00000000460                   0.736509                        0.432229   \n",
       "ENSG00000000938                   0.954998                        0.097831   \n",
       "ENSG00000000971                   0.002660                        0.331132   \n",
       "\n",
       "                 Astle_et_al_2016_Red_blood_cell_count  \n",
       "gene_name                                               \n",
       "ENSG00000000419                               0.409761  \n",
       "ENSG00000000457                               0.812484  \n",
       "ENSG00000000460                               0.486664  \n",
       "ENSG00000000938                               0.135045  \n",
       "ENSG00000000971                               0.995450  \n",
       "\n",
       "[5 rows x 4091 columns]"
      ]
     },
     "execution_count": 18,
     "metadata": {},
     "output_type": "execute_result"
    }
   ],
   "source": [
    "smultixcan_gene_associations.head(5)"
   ]
  },
  {
   "cell_type": "markdown",
   "metadata": {},
   "source": [
    "## Select traits from S-MultiXcan results"
   ]
  },
  {
   "cell_type": "code",
   "execution_count": 19,
   "metadata": {},
   "outputs": [],
   "source": [
    "phenos_used_df = pheno_info_df.loc[smultixcan_gene_associations.columns.tolist()]"
   ]
  },
  {
   "cell_type": "code",
   "execution_count": 20,
   "metadata": {},
   "outputs": [
    {
     "data": {
      "text/plain": [
       "(4091, 7)"
      ]
     },
     "execution_count": 20,
     "metadata": {},
     "output_type": "execute_result"
    }
   ],
   "source": [
    "phenos_used_df.shape"
   ]
  },
  {
   "cell_type": "code",
   "execution_count": 21,
   "metadata": {},
   "outputs": [],
   "source": [
    "assert phenos_used_df.shape[0] == smultixcan_gene_associations.shape[1]"
   ]
  },
  {
   "cell_type": "code",
   "execution_count": 22,
   "metadata": {},
   "outputs": [
    {
     "data": {
      "text/html": [
       "<div>\n",
       "<style scoped>\n",
       "    .dataframe tbody tr th:only-of-type {\n",
       "        vertical-align: middle;\n",
       "    }\n",
       "\n",
       "    .dataframe tbody tr th {\n",
       "        vertical-align: top;\n",
       "    }\n",
       "\n",
       "    .dataframe thead th {\n",
       "        text-align: right;\n",
       "    }\n",
       "</style>\n",
       "<table border=\"1\" class=\"dataframe\">\n",
       "  <thead>\n",
       "    <tr style=\"text-align: right;\">\n",
       "      <th></th>\n",
       "      <th>short_code</th>\n",
       "      <th>description</th>\n",
       "      <th>type</th>\n",
       "      <th>n</th>\n",
       "      <th>n_cases</th>\n",
       "      <th>n_controls</th>\n",
       "      <th>source</th>\n",
       "    </tr>\n",
       "    <tr>\n",
       "      <th>full_code</th>\n",
       "      <th></th>\n",
       "      <th></th>\n",
       "      <th></th>\n",
       "      <th></th>\n",
       "      <th></th>\n",
       "      <th></th>\n",
       "      <th></th>\n",
       "    </tr>\n",
       "  </thead>\n",
       "  <tbody>\n",
       "    <tr>\n",
       "      <th>4270-Volume_level_set_by_participant_left</th>\n",
       "      <td>4270</td>\n",
       "      <td>Volume level set by participant (left)</td>\n",
       "      <td>ordinal</td>\n",
       "      <td>116790</td>\n",
       "      <td>NaN</td>\n",
       "      <td>NaN</td>\n",
       "      <td>UK Biobank</td>\n",
       "    </tr>\n",
       "    <tr>\n",
       "      <th>S05-Diagnoses_main_ICD10_S05_Injury_of_eye_and_orbit</th>\n",
       "      <td>S05</td>\n",
       "      <td>Diagnoses - main ICD10: S05 Injury of eye and ...</td>\n",
       "      <td>categorical</td>\n",
       "      <td>361194</td>\n",
       "      <td>159.0</td>\n",
       "      <td>361035.0</td>\n",
       "      <td>UK Biobank</td>\n",
       "    </tr>\n",
       "    <tr>\n",
       "      <th>20003_1141157402-Treatmentmedication_code_prednisolone_product</th>\n",
       "      <td>20003_1141157402</td>\n",
       "      <td>Treatment/medication code: prednisolone product</td>\n",
       "      <td>binary</td>\n",
       "      <td>361141</td>\n",
       "      <td>139.0</td>\n",
       "      <td>361002.0</td>\n",
       "      <td>UK Biobank</td>\n",
       "    </tr>\n",
       "    <tr>\n",
       "      <th>20002_1427-Noncancer_illness_code_selfreported_polycystic_kidney</th>\n",
       "      <td>20002_1427</td>\n",
       "      <td>Non-cancer illness code, self-reported: polycy...</td>\n",
       "      <td>binary</td>\n",
       "      <td>361141</td>\n",
       "      <td>251.0</td>\n",
       "      <td>360890.0</td>\n",
       "      <td>UK Biobank</td>\n",
       "    </tr>\n",
       "    <tr>\n",
       "      <th>110001-Invitation_to_complete_online_24hour_recall_dietary_questionnaire_acceptance</th>\n",
       "      <td>110001</td>\n",
       "      <td>Invitation to complete online 24-hour recall d...</td>\n",
       "      <td>binary</td>\n",
       "      <td>218234</td>\n",
       "      <td>148169.0</td>\n",
       "      <td>70065.0</td>\n",
       "      <td>UK Biobank</td>\n",
       "    </tr>\n",
       "  </tbody>\n",
       "</table>\n",
       "</div>"
      ],
      "text/plain": [
       "                                                          short_code  \\\n",
       "full_code                                                              \n",
       "4270-Volume_level_set_by_participant_left                       4270   \n",
       "S05-Diagnoses_main_ICD10_S05_Injury_of_eye_and_...               S05   \n",
       "20003_1141157402-Treatmentmedication_code_predn...  20003_1141157402   \n",
       "20002_1427-Noncancer_illness_code_selfreported_...        20002_1427   \n",
       "110001-Invitation_to_complete_online_24hour_rec...            110001   \n",
       "\n",
       "                                                                                          description  \\\n",
       "full_code                                                                                               \n",
       "4270-Volume_level_set_by_participant_left                      Volume level set by participant (left)   \n",
       "S05-Diagnoses_main_ICD10_S05_Injury_of_eye_and_...  Diagnoses - main ICD10: S05 Injury of eye and ...   \n",
       "20003_1141157402-Treatmentmedication_code_predn...    Treatment/medication code: prednisolone product   \n",
       "20002_1427-Noncancer_illness_code_selfreported_...  Non-cancer illness code, self-reported: polycy...   \n",
       "110001-Invitation_to_complete_online_24hour_rec...  Invitation to complete online 24-hour recall d...   \n",
       "\n",
       "                                                           type       n  \\\n",
       "full_code                                                                 \n",
       "4270-Volume_level_set_by_participant_left               ordinal  116790   \n",
       "S05-Diagnoses_main_ICD10_S05_Injury_of_eye_and_...  categorical  361194   \n",
       "20003_1141157402-Treatmentmedication_code_predn...       binary  361141   \n",
       "20002_1427-Noncancer_illness_code_selfreported_...       binary  361141   \n",
       "110001-Invitation_to_complete_online_24hour_rec...       binary  218234   \n",
       "\n",
       "                                                     n_cases  n_controls  \\\n",
       "full_code                                                                  \n",
       "4270-Volume_level_set_by_participant_left                NaN         NaN   \n",
       "S05-Diagnoses_main_ICD10_S05_Injury_of_eye_and_...     159.0    361035.0   \n",
       "20003_1141157402-Treatmentmedication_code_predn...     139.0    361002.0   \n",
       "20002_1427-Noncancer_illness_code_selfreported_...     251.0    360890.0   \n",
       "110001-Invitation_to_complete_online_24hour_rec...  148169.0     70065.0   \n",
       "\n",
       "                                                        source  \n",
       "full_code                                                       \n",
       "4270-Volume_level_set_by_participant_left           UK Biobank  \n",
       "S05-Diagnoses_main_ICD10_S05_Injury_of_eye_and_...  UK Biobank  \n",
       "20003_1141157402-Treatmentmedication_code_predn...  UK Biobank  \n",
       "20002_1427-Noncancer_illness_code_selfreported_...  UK Biobank  \n",
       "110001-Invitation_to_complete_online_24hour_rec...  UK Biobank  "
      ]
     },
     "execution_count": 22,
     "metadata": {},
     "output_type": "execute_result"
    }
   ],
   "source": [
    "phenos_used_df.head()"
   ]
  },
  {
   "cell_type": "markdown",
   "metadata": {},
   "source": [
    "## Save"
   ]
  },
  {
   "cell_type": "code",
   "execution_count": 23,
   "metadata": {},
   "outputs": [],
   "source": [
    "phenos_used_df.to_csv(os.path.join(conf.DELIVERABLES_DIR, 'phenotypes_info.tsv.gz'), sep='\\t')"
   ]
  },
  {
   "cell_type": "markdown",
   "metadata": {},
   "source": [
    "# Genes info file"
   ]
  },
  {
   "cell_type": "code",
   "execution_count": 24,
   "metadata": {},
   "outputs": [],
   "source": [
    "genes_info = metadata.GENES_MAPPINGS.set_index('gene_id').loc[smultixcan_gene_associations.index]"
   ]
  },
  {
   "cell_type": "code",
   "execution_count": 25,
   "metadata": {},
   "outputs": [
    {
     "data": {
      "text/plain": [
       "(22515, 4091)"
      ]
     },
     "execution_count": 25,
     "metadata": {},
     "output_type": "execute_result"
    }
   ],
   "source": [
    "smultixcan_gene_associations.shape"
   ]
  },
  {
   "cell_type": "code",
   "execution_count": 26,
   "metadata": {},
   "outputs": [],
   "source": [
    "assert genes_info.shape[0] == smultixcan_gene_associations.shape[0]"
   ]
  },
  {
   "cell_type": "code",
   "execution_count": 27,
   "metadata": {},
   "outputs": [
    {
     "data": {
      "text/html": [
       "<div>\n",
       "<style scoped>\n",
       "    .dataframe tbody tr th:only-of-type {\n",
       "        vertical-align: middle;\n",
       "    }\n",
       "\n",
       "    .dataframe tbody tr th {\n",
       "        vertical-align: top;\n",
       "    }\n",
       "\n",
       "    .dataframe thead th {\n",
       "        text-align: right;\n",
       "    }\n",
       "</style>\n",
       "<table border=\"1\" class=\"dataframe\">\n",
       "  <thead>\n",
       "    <tr style=\"text-align: right;\">\n",
       "      <th></th>\n",
       "      <th>gene</th>\n",
       "      <th>gene_name</th>\n",
       "      <th>gene_type</th>\n",
       "      <th>band</th>\n",
       "    </tr>\n",
       "    <tr>\n",
       "      <th>gene_name</th>\n",
       "      <th></th>\n",
       "      <th></th>\n",
       "      <th></th>\n",
       "      <th></th>\n",
       "    </tr>\n",
       "  </thead>\n",
       "  <tbody>\n",
       "    <tr>\n",
       "      <th>ENSG00000000419</th>\n",
       "      <td>ENSG00000000419.12</td>\n",
       "      <td>DPM1</td>\n",
       "      <td>protein_coding</td>\n",
       "      <td>20q13.13</td>\n",
       "    </tr>\n",
       "    <tr>\n",
       "      <th>ENSG00000000457</th>\n",
       "      <td>ENSG00000000457.13</td>\n",
       "      <td>SCYL3</td>\n",
       "      <td>protein_coding</td>\n",
       "      <td>1q24.2</td>\n",
       "    </tr>\n",
       "    <tr>\n",
       "      <th>ENSG00000000460</th>\n",
       "      <td>ENSG00000000460.16</td>\n",
       "      <td>C1orf112</td>\n",
       "      <td>protein_coding</td>\n",
       "      <td>1q24.2</td>\n",
       "    </tr>\n",
       "    <tr>\n",
       "      <th>ENSG00000000938</th>\n",
       "      <td>ENSG00000000938.12</td>\n",
       "      <td>FGR</td>\n",
       "      <td>protein_coding</td>\n",
       "      <td>1p35.3</td>\n",
       "    </tr>\n",
       "    <tr>\n",
       "      <th>ENSG00000000971</th>\n",
       "      <td>ENSG00000000971.15</td>\n",
       "      <td>CFH</td>\n",
       "      <td>protein_coding</td>\n",
       "      <td>1q31.3</td>\n",
       "    </tr>\n",
       "  </tbody>\n",
       "</table>\n",
       "</div>"
      ],
      "text/plain": [
       "                               gene gene_name       gene_type      band\n",
       "gene_name                                                              \n",
       "ENSG00000000419  ENSG00000000419.12      DPM1  protein_coding  20q13.13\n",
       "ENSG00000000457  ENSG00000000457.13     SCYL3  protein_coding    1q24.2\n",
       "ENSG00000000460  ENSG00000000460.16  C1orf112  protein_coding    1q24.2\n",
       "ENSG00000000938  ENSG00000000938.12       FGR  protein_coding    1p35.3\n",
       "ENSG00000000971  ENSG00000000971.15       CFH  protein_coding    1q31.3"
      ]
     },
     "execution_count": 27,
     "metadata": {},
     "output_type": "execute_result"
    }
   ],
   "source": [
    "genes_info.head()"
   ]
  },
  {
   "cell_type": "markdown",
   "metadata": {},
   "source": [
    "## Save"
   ]
  },
  {
   "cell_type": "code",
   "execution_count": 28,
   "metadata": {},
   "outputs": [],
   "source": [
    "genes_info.to_csv(os.path.join(conf.DELIVERABLES_DIR, 'genes_info.tsv.gz'), sep='\\t')"
   ]
  },
  {
   "cell_type": "code",
   "execution_count": null,
   "metadata": {},
   "outputs": [],
   "source": []
  }
 ],
 "metadata": {
  "kernelspec": {
   "display_name": "Python 3",
   "language": "python",
   "name": "python3"
  },
  "language_info": {
   "codemirror_mode": {
    "name": "ipython",
    "version": 3
   },
   "file_extension": ".py",
   "mimetype": "text/x-python",
   "name": "python",
   "nbconvert_exporter": "python",
   "pygments_lexer": "ipython3",
   "version": "3.7.5"
  }
 },
 "nbformat": 4,
 "nbformat_minor": 4
}
