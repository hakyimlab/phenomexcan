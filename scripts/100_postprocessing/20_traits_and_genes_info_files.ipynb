{
 "cells": [
  {
   "cell_type": "code",
   "execution_count": 1,
   "metadata": {
    "papermill": {
     "duration": 0.073588,
     "end_time": "2020-01-01T23:11:14.978581",
     "exception": false,
     "start_time": "2020-01-01T23:11:14.904993",
     "status": "completed"
    },
    "tags": []
   },
   "outputs": [],
   "source": [
    "%load_ext autoreload\n",
    "%autoreload 2"
   ]
  },
  {
   "cell_type": "code",
   "execution_count": 2,
   "metadata": {
    "papermill": {
     "duration": 1.110035,
     "end_time": "2020-01-01T23:11:16.129680",
     "exception": false,
     "start_time": "2020-01-01T23:11:15.019645",
     "status": "completed"
    },
    "tags": []
   },
   "outputs": [],
   "source": [
    "import os\n",
    "import pickle\n",
    "\n",
    "import numpy as np\n",
    "import pandas as pd\n",
    "\n",
    "import settings as conf\n",
    "import metadata"
   ]
  },
  {
   "cell_type": "markdown",
   "metadata": {
    "papermill": {
     "duration": 0.035691,
     "end_time": "2020-01-01T23:11:16.203186",
     "exception": false,
     "start_time": "2020-01-01T23:11:16.167495",
     "status": "completed"
    },
    "tags": []
   },
   "source": [
    "## Load S-MultiXcan results"
   ]
  },
  {
   "cell_type": "code",
   "execution_count": 3,
   "metadata": {
    "papermill": {
     "duration": 0.089232,
     "end_time": "2020-01-01T23:11:16.328852",
     "exception": false,
     "start_time": "2020-01-01T23:11:16.239620",
     "status": "completed"
    },
    "tags": []
   },
   "outputs": [
    {
     "data": {
      "text/plain": [
       "'/mnt/phenomexcan_base/gene_assoc/smultixcan-mashr-pvalues.pkl.xz'"
      ]
     },
     "metadata": {},
     "output_type": "display_data"
    }
   ],
   "source": [
    "smultixcan_pvalues_file = os.path.join(conf.GENE_ASSOC_DIR, f'smultixcan-mashr-pvalues.pkl.xz')\n",
    "display(smultixcan_pvalues_file)"
   ]
  },
  {
   "cell_type": "code",
   "execution_count": 4,
   "metadata": {
    "papermill": {
     "duration": 73.659089,
     "end_time": "2020-01-01T23:12:30.028533",
     "exception": false,
     "start_time": "2020-01-01T23:11:16.369444",
     "status": "completed"
    },
    "tags": []
   },
   "outputs": [],
   "source": [
    "smultixcan_gene_associations = pd.read_pickle(smultixcan_pvalues_file)"
   ]
  },
  {
   "cell_type": "code",
   "execution_count": 5,
   "metadata": {
    "papermill": {
     "duration": 0.093072,
     "end_time": "2020-01-01T23:12:30.164110",
     "exception": false,
     "start_time": "2020-01-01T23:12:30.071038",
     "status": "completed"
    },
    "tags": []
   },
   "outputs": [
    {
     "data": {
      "text/plain": [
       "(22515, 4091)"
      ]
     },
     "execution_count": 5,
     "metadata": {},
     "output_type": "execute_result"
    }
   ],
   "source": [
    "smultixcan_gene_associations.shape"
   ]
  },
  {
   "cell_type": "code",
   "execution_count": 6,
   "metadata": {
    "papermill": {
     "duration": 0.149752,
     "end_time": "2020-01-01T23:12:30.354044",
     "exception": false,
     "start_time": "2020-01-01T23:12:30.204292",
     "status": "completed"
    },
    "tags": []
   },
   "outputs": [
    {
     "data": {
      "text/html": [
       "<div>\n",
       "<style scoped>\n",
       "    .dataframe tbody tr th:only-of-type {\n",
       "        vertical-align: middle;\n",
       "    }\n",
       "\n",
       "    .dataframe tbody tr th {\n",
       "        vertical-align: top;\n",
       "    }\n",
       "\n",
       "    .dataframe thead th {\n",
       "        text-align: right;\n",
       "    }\n",
       "</style>\n",
       "<table border=\"1\" class=\"dataframe\">\n",
       "  <thead>\n",
       "    <tr style=\"text-align: right;\">\n",
       "      <th></th>\n",
       "      <th>20096_1-Size_of_red_wine_glass_drunk_small_125ml</th>\n",
       "      <th>2345-Ever_had_bowel_cancer_screening</th>\n",
       "      <th>N49-Diagnoses_main_ICD10_N49_Inflammatory_disorders_of_male_genital_organs_not_elsewhere_classified</th>\n",
       "      <th>100011_raw-Iron</th>\n",
       "      <th>5221-Index_of_best_refractometry_result_right</th>\n",
       "      <th>20003_1141150624-Treatmentmedication_code_zomig_25mg_tablet</th>\n",
       "      <th>S69-Diagnoses_main_ICD10_S69_Other_and_unspecified_injuries_of_wrist_and_hand</th>\n",
       "      <th>20024_1136-Job_code_deduced_Information_and_communication_technology_managers</th>\n",
       "      <th>20002_1385-Noncancer_illness_code_selfreported_allergy_or_anaphylactic_reaction_to_food</th>\n",
       "      <th>G6_SLEEPAPNO-Sleep_apnoea</th>\n",
       "      <th>...</th>\n",
       "      <th>Astle_et_al_2016_Sum_basophil_neutrophil_counts</th>\n",
       "      <th>RA_OKADA_TRANS_ETHNIC</th>\n",
       "      <th>pgc.scz2</th>\n",
       "      <th>PGC_ADHD_EUR_2017</th>\n",
       "      <th>MAGIC_FastingGlucose</th>\n",
       "      <th>Astle_et_al_2016_Red_blood_cell_count</th>\n",
       "      <th>SSGAC_Depressive_Symptoms</th>\n",
       "      <th>BCAC_ER_positive_BreastCancer_EUR</th>\n",
       "      <th>IBD.EUR.Inflammatory_Bowel_Disease</th>\n",
       "      <th>Astle_et_al_2016_High_light_scatter_reticulocyte_count</th>\n",
       "    </tr>\n",
       "    <tr>\n",
       "      <th>gene_name</th>\n",
       "      <th></th>\n",
       "      <th></th>\n",
       "      <th></th>\n",
       "      <th></th>\n",
       "      <th></th>\n",
       "      <th></th>\n",
       "      <th></th>\n",
       "      <th></th>\n",
       "      <th></th>\n",
       "      <th></th>\n",
       "      <th></th>\n",
       "      <th></th>\n",
       "      <th></th>\n",
       "      <th></th>\n",
       "      <th></th>\n",
       "      <th></th>\n",
       "      <th></th>\n",
       "      <th></th>\n",
       "      <th></th>\n",
       "      <th></th>\n",
       "      <th></th>\n",
       "    </tr>\n",
       "  </thead>\n",
       "  <tbody>\n",
       "    <tr>\n",
       "      <th>ENSG00000000419</th>\n",
       "      <td>0.865429</td>\n",
       "      <td>0.918314</td>\n",
       "      <td>0.810683</td>\n",
       "      <td>0.374671</td>\n",
       "      <td>0.189032</td>\n",
       "      <td>0.140981</td>\n",
       "      <td>0.467741</td>\n",
       "      <td>0.129427</td>\n",
       "      <td>0.193680</td>\n",
       "      <td>0.285479</td>\n",
       "      <td>...</td>\n",
       "      <td>0.416210</td>\n",
       "      <td>0.782554</td>\n",
       "      <td>0.609467</td>\n",
       "      <td>0.980281</td>\n",
       "      <td>0.666504</td>\n",
       "      <td>0.409761</td>\n",
       "      <td>0.713310</td>\n",
       "      <td>0.168319</td>\n",
       "      <td>0.460244</td>\n",
       "      <td>0.765506</td>\n",
       "    </tr>\n",
       "    <tr>\n",
       "      <th>ENSG00000000457</th>\n",
       "      <td>0.174192</td>\n",
       "      <td>0.064765</td>\n",
       "      <td>0.889194</td>\n",
       "      <td>0.896938</td>\n",
       "      <td>0.448596</td>\n",
       "      <td>0.269602</td>\n",
       "      <td>0.540261</td>\n",
       "      <td>0.068405</td>\n",
       "      <td>0.041813</td>\n",
       "      <td>0.313427</td>\n",
       "      <td>...</td>\n",
       "      <td>0.149360</td>\n",
       "      <td>0.512603</td>\n",
       "      <td>0.010907</td>\n",
       "      <td>0.228982</td>\n",
       "      <td>0.607081</td>\n",
       "      <td>0.812484</td>\n",
       "      <td>0.678749</td>\n",
       "      <td>0.918971</td>\n",
       "      <td>0.311187</td>\n",
       "      <td>0.344574</td>\n",
       "    </tr>\n",
       "    <tr>\n",
       "      <th>ENSG00000000460</th>\n",
       "      <td>0.879969</td>\n",
       "      <td>0.240715</td>\n",
       "      <td>0.238228</td>\n",
       "      <td>0.567555</td>\n",
       "      <td>0.921320</td>\n",
       "      <td>0.825036</td>\n",
       "      <td>0.782230</td>\n",
       "      <td>0.644525</td>\n",
       "      <td>0.392273</td>\n",
       "      <td>0.840014</td>\n",
       "      <td>...</td>\n",
       "      <td>0.503520</td>\n",
       "      <td>0.764147</td>\n",
       "      <td>0.587969</td>\n",
       "      <td>0.301460</td>\n",
       "      <td>0.629621</td>\n",
       "      <td>0.486664</td>\n",
       "      <td>0.736509</td>\n",
       "      <td>0.933600</td>\n",
       "      <td>0.000477</td>\n",
       "      <td>0.321223</td>\n",
       "    </tr>\n",
       "    <tr>\n",
       "      <th>ENSG00000000938</th>\n",
       "      <td>0.192670</td>\n",
       "      <td>0.400054</td>\n",
       "      <td>0.114353</td>\n",
       "      <td>0.470700</td>\n",
       "      <td>0.889202</td>\n",
       "      <td>0.000011</td>\n",
       "      <td>0.899764</td>\n",
       "      <td>0.212352</td>\n",
       "      <td>0.829671</td>\n",
       "      <td>0.372348</td>\n",
       "      <td>...</td>\n",
       "      <td>0.899212</td>\n",
       "      <td>0.961678</td>\n",
       "      <td>0.059247</td>\n",
       "      <td>0.588855</td>\n",
       "      <td>0.898525</td>\n",
       "      <td>0.135045</td>\n",
       "      <td>0.954998</td>\n",
       "      <td>0.088220</td>\n",
       "      <td>0.176497</td>\n",
       "      <td>0.304281</td>\n",
       "    </tr>\n",
       "    <tr>\n",
       "      <th>ENSG00000000971</th>\n",
       "      <td>0.180632</td>\n",
       "      <td>0.793060</td>\n",
       "      <td>0.490585</td>\n",
       "      <td>0.088752</td>\n",
       "      <td>0.744531</td>\n",
       "      <td>0.949639</td>\n",
       "      <td>0.253817</td>\n",
       "      <td>0.377408</td>\n",
       "      <td>0.971655</td>\n",
       "      <td>0.070266</td>\n",
       "      <td>...</td>\n",
       "      <td>0.390618</td>\n",
       "      <td>0.093824</td>\n",
       "      <td>0.020391</td>\n",
       "      <td>0.109883</td>\n",
       "      <td>0.870551</td>\n",
       "      <td>0.995450</td>\n",
       "      <td>0.002660</td>\n",
       "      <td>0.421588</td>\n",
       "      <td>0.656851</td>\n",
       "      <td>0.868416</td>\n",
       "    </tr>\n",
       "  </tbody>\n",
       "</table>\n",
       "<p>5 rows × 4091 columns</p>\n",
       "</div>"
      ],
      "text/plain": [
       "                 20096_1-Size_of_red_wine_glass_drunk_small_125ml  \\\n",
       "gene_name                                                           \n",
       "ENSG00000000419                                          0.865429   \n",
       "ENSG00000000457                                          0.174192   \n",
       "ENSG00000000460                                          0.879969   \n",
       "ENSG00000000938                                          0.192670   \n",
       "ENSG00000000971                                          0.180632   \n",
       "\n",
       "                 2345-Ever_had_bowel_cancer_screening  \\\n",
       "gene_name                                               \n",
       "ENSG00000000419                              0.918314   \n",
       "ENSG00000000457                              0.064765   \n",
       "ENSG00000000460                              0.240715   \n",
       "ENSG00000000938                              0.400054   \n",
       "ENSG00000000971                              0.793060   \n",
       "\n",
       "                 N49-Diagnoses_main_ICD10_N49_Inflammatory_disorders_of_male_genital_organs_not_elsewhere_classified  \\\n",
       "gene_name                                                                                                              \n",
       "ENSG00000000419                                           0.810683                                                     \n",
       "ENSG00000000457                                           0.889194                                                     \n",
       "ENSG00000000460                                           0.238228                                                     \n",
       "ENSG00000000938                                           0.114353                                                     \n",
       "ENSG00000000971                                           0.490585                                                     \n",
       "\n",
       "                 100011_raw-Iron  \\\n",
       "gene_name                          \n",
       "ENSG00000000419         0.374671   \n",
       "ENSG00000000457         0.896938   \n",
       "ENSG00000000460         0.567555   \n",
       "ENSG00000000938         0.470700   \n",
       "ENSG00000000971         0.088752   \n",
       "\n",
       "                 5221-Index_of_best_refractometry_result_right  \\\n",
       "gene_name                                                        \n",
       "ENSG00000000419                                       0.189032   \n",
       "ENSG00000000457                                       0.448596   \n",
       "ENSG00000000460                                       0.921320   \n",
       "ENSG00000000938                                       0.889202   \n",
       "ENSG00000000971                                       0.744531   \n",
       "\n",
       "                 20003_1141150624-Treatmentmedication_code_zomig_25mg_tablet  \\\n",
       "gene_name                                                                      \n",
       "ENSG00000000419                                           0.140981             \n",
       "ENSG00000000457                                           0.269602             \n",
       "ENSG00000000460                                           0.825036             \n",
       "ENSG00000000938                                           0.000011             \n",
       "ENSG00000000971                                           0.949639             \n",
       "\n",
       "                 S69-Diagnoses_main_ICD10_S69_Other_and_unspecified_injuries_of_wrist_and_hand  \\\n",
       "gene_name                                                                                        \n",
       "ENSG00000000419                                           0.467741                               \n",
       "ENSG00000000457                                           0.540261                               \n",
       "ENSG00000000460                                           0.782230                               \n",
       "ENSG00000000938                                           0.899764                               \n",
       "ENSG00000000971                                           0.253817                               \n",
       "\n",
       "                 20024_1136-Job_code_deduced_Information_and_communication_technology_managers  \\\n",
       "gene_name                                                                                        \n",
       "ENSG00000000419                                           0.129427                               \n",
       "ENSG00000000457                                           0.068405                               \n",
       "ENSG00000000460                                           0.644525                               \n",
       "ENSG00000000938                                           0.212352                               \n",
       "ENSG00000000971                                           0.377408                               \n",
       "\n",
       "                 20002_1385-Noncancer_illness_code_selfreported_allergy_or_anaphylactic_reaction_to_food  \\\n",
       "gene_name                                                                                                  \n",
       "ENSG00000000419                                           0.193680                                         \n",
       "ENSG00000000457                                           0.041813                                         \n",
       "ENSG00000000460                                           0.392273                                         \n",
       "ENSG00000000938                                           0.829671                                         \n",
       "ENSG00000000971                                           0.971655                                         \n",
       "\n",
       "                 G6_SLEEPAPNO-Sleep_apnoea  ...  \\\n",
       "gene_name                                   ...   \n",
       "ENSG00000000419                   0.285479  ...   \n",
       "ENSG00000000457                   0.313427  ...   \n",
       "ENSG00000000460                   0.840014  ...   \n",
       "ENSG00000000938                   0.372348  ...   \n",
       "ENSG00000000971                   0.070266  ...   \n",
       "\n",
       "                 Astle_et_al_2016_Sum_basophil_neutrophil_counts  \\\n",
       "gene_name                                                          \n",
       "ENSG00000000419                                         0.416210   \n",
       "ENSG00000000457                                         0.149360   \n",
       "ENSG00000000460                                         0.503520   \n",
       "ENSG00000000938                                         0.899212   \n",
       "ENSG00000000971                                         0.390618   \n",
       "\n",
       "                 RA_OKADA_TRANS_ETHNIC  pgc.scz2  PGC_ADHD_EUR_2017  \\\n",
       "gene_name                                                             \n",
       "ENSG00000000419               0.782554  0.609467           0.980281   \n",
       "ENSG00000000457               0.512603  0.010907           0.228982   \n",
       "ENSG00000000460               0.764147  0.587969           0.301460   \n",
       "ENSG00000000938               0.961678  0.059247           0.588855   \n",
       "ENSG00000000971               0.093824  0.020391           0.109883   \n",
       "\n",
       "                 MAGIC_FastingGlucose  Astle_et_al_2016_Red_blood_cell_count  \\\n",
       "gene_name                                                                      \n",
       "ENSG00000000419              0.666504                               0.409761   \n",
       "ENSG00000000457              0.607081                               0.812484   \n",
       "ENSG00000000460              0.629621                               0.486664   \n",
       "ENSG00000000938              0.898525                               0.135045   \n",
       "ENSG00000000971              0.870551                               0.995450   \n",
       "\n",
       "                 SSGAC_Depressive_Symptoms  BCAC_ER_positive_BreastCancer_EUR  \\\n",
       "gene_name                                                                       \n",
       "ENSG00000000419                   0.713310                           0.168319   \n",
       "ENSG00000000457                   0.678749                           0.918971   \n",
       "ENSG00000000460                   0.736509                           0.933600   \n",
       "ENSG00000000938                   0.954998                           0.088220   \n",
       "ENSG00000000971                   0.002660                           0.421588   \n",
       "\n",
       "                 IBD.EUR.Inflammatory_Bowel_Disease  \\\n",
       "gene_name                                             \n",
       "ENSG00000000419                            0.460244   \n",
       "ENSG00000000457                            0.311187   \n",
       "ENSG00000000460                            0.000477   \n",
       "ENSG00000000938                            0.176497   \n",
       "ENSG00000000971                            0.656851   \n",
       "\n",
       "                 Astle_et_al_2016_High_light_scatter_reticulocyte_count  \n",
       "gene_name                                                                \n",
       "ENSG00000000419                                           0.765506       \n",
       "ENSG00000000457                                           0.344574       \n",
       "ENSG00000000460                                           0.321223       \n",
       "ENSG00000000938                                           0.304281       \n",
       "ENSG00000000971                                           0.868416       \n",
       "\n",
       "[5 rows x 4091 columns]"
      ]
     },
     "execution_count": 6,
     "metadata": {},
     "output_type": "execute_result"
    }
   ],
   "source": [
    "smultixcan_gene_associations.head(5)"
   ]
  },
  {
   "cell_type": "code",
   "execution_count": 7,
   "metadata": {
    "papermill": {
     "duration": 9.197063,
     "end_time": "2020-01-01T23:12:39.590039",
     "exception": false,
     "start_time": "2020-01-01T23:12:30.392976",
     "status": "completed"
    },
    "tags": []
   },
   "outputs": [],
   "source": [
    "_tmp = smultixcan_gene_associations.unstack().dropna()"
   ]
  },
  {
   "cell_type": "code",
   "execution_count": 8,
   "metadata": {
    "papermill": {
     "duration": 0.090902,
     "end_time": "2020-01-01T23:12:39.729509",
     "exception": false,
     "start_time": "2020-01-01T23:12:39.638607",
     "status": "completed"
    },
    "tags": []
   },
   "outputs": [
    {
     "data": {
      "text/plain": [
       "(91055810,)"
      ]
     },
     "execution_count": 8,
     "metadata": {},
     "output_type": "execute_result"
    }
   ],
   "source": [
    "_tmp.shape"
   ]
  },
  {
   "cell_type": "code",
   "execution_count": 9,
   "metadata": {
    "papermill": {
     "duration": 0.110364,
     "end_time": "2020-01-01T23:12:39.879751",
     "exception": false,
     "start_time": "2020-01-01T23:12:39.769387",
     "status": "completed"
    },
    "tags": []
   },
   "outputs": [
    {
     "data": {
      "text/plain": [
       "                                                  gene_name      \n",
       "20096_1-Size_of_red_wine_glass_drunk_small_125ml  ENSG00000000419    0.865429\n",
       "                                                  ENSG00000000457    0.174192\n",
       "                                                  ENSG00000000460    0.879969\n",
       "                                                  ENSG00000000938    0.192670\n",
       "                                                  ENSG00000000971    0.180632\n",
       "dtype: float64"
      ]
     },
     "execution_count": 9,
     "metadata": {},
     "output_type": "execute_result"
    }
   ],
   "source": [
    "_tmp.head()"
   ]
  },
  {
   "cell_type": "markdown",
   "metadata": {
    "papermill": {
     "duration": 0.041723,
     "end_time": "2020-01-01T23:12:39.961714",
     "exception": false,
     "start_time": "2020-01-01T23:12:39.919991",
     "status": "completed"
    },
    "tags": []
   },
   "source": [
    "# Traits info file"
   ]
  },
  {
   "cell_type": "code",
   "execution_count": 10,
   "metadata": {
    "papermill": {
     "duration": 0.096255,
     "end_time": "2020-01-01T23:12:40.096984",
     "exception": false,
     "start_time": "2020-01-01T23:12:40.000729",
     "status": "completed"
    },
    "tags": []
   },
   "outputs": [
    {
     "data": {
      "text/html": [
       "<div>\n",
       "<style scoped>\n",
       "    .dataframe tbody tr th:only-of-type {\n",
       "        vertical-align: middle;\n",
       "    }\n",
       "\n",
       "    .dataframe tbody tr th {\n",
       "        vertical-align: top;\n",
       "    }\n",
       "\n",
       "    .dataframe thead th {\n",
       "        text-align: right;\n",
       "    }\n",
       "</style>\n",
       "<table border=\"1\" class=\"dataframe\">\n",
       "  <thead>\n",
       "    <tr style=\"text-align: right;\">\n",
       "      <th></th>\n",
       "      <th>description</th>\n",
       "      <th>variable_type</th>\n",
       "      <th>source</th>\n",
       "      <th>n_non_missing</th>\n",
       "      <th>n_missing</th>\n",
       "      <th>n_controls</th>\n",
       "      <th>n_cases</th>\n",
       "      <th>PHESANT_transformation</th>\n",
       "      <th>notes</th>\n",
       "    </tr>\n",
       "    <tr>\n",
       "      <th>phenotype</th>\n",
       "      <th></th>\n",
       "      <th></th>\n",
       "      <th></th>\n",
       "      <th></th>\n",
       "      <th></th>\n",
       "      <th></th>\n",
       "      <th></th>\n",
       "      <th></th>\n",
       "      <th></th>\n",
       "    </tr>\n",
       "  </thead>\n",
       "  <tbody>\n",
       "    <tr>\n",
       "      <th>G54</th>\n",
       "      <td>Diagnoses - main ICD10: G54 Nerve root and ple...</td>\n",
       "      <td>categorical</td>\n",
       "      <td>icd10</td>\n",
       "      <td>361194</td>\n",
       "      <td>0</td>\n",
       "      <td>361051.0</td>\n",
       "      <td>143.0</td>\n",
       "      <td>NaN</td>\n",
       "      <td>NaN</td>\n",
       "    </tr>\n",
       "    <tr>\n",
       "      <th>C21</th>\n",
       "      <td>Diagnoses - main ICD10: C21 Malignant neoplasm...</td>\n",
       "      <td>categorical</td>\n",
       "      <td>icd10</td>\n",
       "      <td>361194</td>\n",
       "      <td>0</td>\n",
       "      <td>361055.0</td>\n",
       "      <td>139.0</td>\n",
       "      <td>NaN</td>\n",
       "      <td>NaN</td>\n",
       "    </tr>\n",
       "    <tr>\n",
       "      <th>F45</th>\n",
       "      <td>Diagnoses - main ICD10: F45 Somatoform disorders</td>\n",
       "      <td>categorical</td>\n",
       "      <td>icd10</td>\n",
       "      <td>361194</td>\n",
       "      <td>0</td>\n",
       "      <td>360953.0</td>\n",
       "      <td>241.0</td>\n",
       "      <td>NaN</td>\n",
       "      <td>NaN</td>\n",
       "    </tr>\n",
       "    <tr>\n",
       "      <th>I35</th>\n",
       "      <td>Diagnoses - main ICD10: I35 Nonrheumatic aorti...</td>\n",
       "      <td>categorical</td>\n",
       "      <td>icd10</td>\n",
       "      <td>361194</td>\n",
       "      <td>0</td>\n",
       "      <td>360293.0</td>\n",
       "      <td>901.0</td>\n",
       "      <td>NaN</td>\n",
       "      <td>NaN</td>\n",
       "    </tr>\n",
       "    <tr>\n",
       "      <th>D38</th>\n",
       "      <td>Diagnoses - main ICD10: D38 Neoplasm of uncert...</td>\n",
       "      <td>categorical</td>\n",
       "      <td>icd10</td>\n",
       "      <td>361194</td>\n",
       "      <td>0</td>\n",
       "      <td>361087.0</td>\n",
       "      <td>107.0</td>\n",
       "      <td>NaN</td>\n",
       "      <td>NaN</td>\n",
       "    </tr>\n",
       "  </tbody>\n",
       "</table>\n",
       "</div>"
      ],
      "text/plain": [
       "                                                 description variable_type  \\\n",
       "phenotype                                                                    \n",
       "G54        Diagnoses - main ICD10: G54 Nerve root and ple...   categorical   \n",
       "C21        Diagnoses - main ICD10: C21 Malignant neoplasm...   categorical   \n",
       "F45         Diagnoses - main ICD10: F45 Somatoform disorders   categorical   \n",
       "I35        Diagnoses - main ICD10: I35 Nonrheumatic aorti...   categorical   \n",
       "D38        Diagnoses - main ICD10: D38 Neoplasm of uncert...   categorical   \n",
       "\n",
       "          source  n_non_missing  n_missing  n_controls  n_cases  \\\n",
       "phenotype                                                         \n",
       "G54        icd10         361194          0    361051.0    143.0   \n",
       "C21        icd10         361194          0    361055.0    139.0   \n",
       "F45        icd10         361194          0    360953.0    241.0   \n",
       "I35        icd10         361194          0    360293.0    901.0   \n",
       "D38        icd10         361194          0    361087.0    107.0   \n",
       "\n",
       "          PHESANT_transformation notes  \n",
       "phenotype                               \n",
       "G54                          NaN   NaN  \n",
       "C21                          NaN   NaN  \n",
       "F45                          NaN   NaN  \n",
       "I35                          NaN   NaN  \n",
       "D38                          NaN   NaN  "
      ]
     },
     "execution_count": 10,
     "metadata": {},
     "output_type": "execute_result"
    }
   ],
   "source": [
    "metadata.RAPID_GWAS_PHENO_INFO.head()"
   ]
  },
  {
   "cell_type": "code",
   "execution_count": 11,
   "metadata": {
    "papermill": {
     "duration": 0.118461,
     "end_time": "2020-01-01T23:12:40.258709",
     "exception": false,
     "start_time": "2020-01-01T23:12:40.140248",
     "status": "completed"
    },
    "tags": []
   },
   "outputs": [
    {
     "data": {
      "text/html": [
       "<div>\n",
       "<style scoped>\n",
       "    .dataframe tbody tr th:only-of-type {\n",
       "        vertical-align: middle;\n",
       "    }\n",
       "\n",
       "    .dataframe tbody tr th {\n",
       "        vertical-align: top;\n",
       "    }\n",
       "\n",
       "    .dataframe thead th {\n",
       "        text-align: right;\n",
       "    }\n",
       "</style>\n",
       "<table border=\"1\" class=\"dataframe\">\n",
       "  <thead>\n",
       "    <tr style=\"text-align: right;\">\n",
       "      <th></th>\n",
       "      <th>GTEx_GWAS</th>\n",
       "      <th>PUBMED_Paper_Link</th>\n",
       "      <th>Pheno_File</th>\n",
       "      <th>Source_File</th>\n",
       "      <th>Portal</th>\n",
       "      <th>Consortium</th>\n",
       "      <th>Link</th>\n",
       "      <th>Notes</th>\n",
       "      <th>Header</th>\n",
       "      <th>Hidden</th>\n",
       "      <th>...</th>\n",
       "      <th>Declared_Effect_Allele</th>\n",
       "      <th>Genome_Reference</th>\n",
       "      <th>Binary</th>\n",
       "      <th>Cases</th>\n",
       "      <th>abbreviation</th>\n",
       "      <th>new_abbreviation</th>\n",
       "      <th>new_Phenotype</th>\n",
       "      <th>Category</th>\n",
       "      <th>Deflation</th>\n",
       "      <th>color</th>\n",
       "    </tr>\n",
       "    <tr>\n",
       "      <th>Tag</th>\n",
       "      <th></th>\n",
       "      <th></th>\n",
       "      <th></th>\n",
       "      <th></th>\n",
       "      <th></th>\n",
       "      <th></th>\n",
       "      <th></th>\n",
       "      <th></th>\n",
       "      <th></th>\n",
       "      <th></th>\n",
       "      <th></th>\n",
       "      <th></th>\n",
       "      <th></th>\n",
       "      <th></th>\n",
       "      <th></th>\n",
       "      <th></th>\n",
       "      <th></th>\n",
       "      <th></th>\n",
       "      <th></th>\n",
       "      <th></th>\n",
       "      <th></th>\n",
       "    </tr>\n",
       "  </thead>\n",
       "  <tbody>\n",
       "    <tr>\n",
       "      <th>UKB_1160_Sleep_duration</th>\n",
       "      <td>Yes</td>\n",
       "      <td>http://biobank.ctsu.ox.ac.uk/showcase/field.cg...</td>\n",
       "      <td>1160.assoc.tsv.gz</td>\n",
       "      <td>1160.assoc.tsv.gz</td>\n",
       "      <td>http://biobank.ctsu.ox.ac.uk/</td>\n",
       "      <td>UK Biobank</td>\n",
       "      <td>https://www.dropbox.com/s/00v10oxwku3u5yq/1160...</td>\n",
       "      <td>NaN</td>\n",
       "      <td>NaN</td>\n",
       "      <td>NaN</td>\n",
       "      <td>...</td>\n",
       "      <td>NaN</td>\n",
       "      <td>NaN</td>\n",
       "      <td>0</td>\n",
       "      <td>NaN</td>\n",
       "      <td>U_SL</td>\n",
       "      <td>SLEEP_UKB</td>\n",
       "      <td>Sleep_Duration_UKB</td>\n",
       "      <td>Psychiatric-neurologic</td>\n",
       "      <td>0</td>\n",
       "      <td>#0000A0</td>\n",
       "    </tr>\n",
       "    <tr>\n",
       "      <th>UKB_1180_Morning_or_evening_person_chronotype</th>\n",
       "      <td>Yes</td>\n",
       "      <td>http://biobank.ctsu.ox.ac.uk/showcase/field.cg...</td>\n",
       "      <td>1180.assoc.tsv.gz</td>\n",
       "      <td>1180.assoc.tsv.gz</td>\n",
       "      <td>http://biobank.ctsu.ox.ac.uk/</td>\n",
       "      <td>UK Biobank</td>\n",
       "      <td>https://www.dropbox.com/s/z7cppp7ndmylpf0/1180...</td>\n",
       "      <td>NaN</td>\n",
       "      <td>NaN</td>\n",
       "      <td>NaN</td>\n",
       "      <td>...</td>\n",
       "      <td>NaN</td>\n",
       "      <td>NaN</td>\n",
       "      <td>0</td>\n",
       "      <td>NaN</td>\n",
       "      <td>U_CHR</td>\n",
       "      <td>CHRONO_UKB</td>\n",
       "      <td>Chronotype_UKB</td>\n",
       "      <td>Psychiatric-neurologic</td>\n",
       "      <td>0</td>\n",
       "      <td>#0000A0</td>\n",
       "    </tr>\n",
       "    <tr>\n",
       "      <th>UKB_1200_Sleeplessness_or_insomnia</th>\n",
       "      <td>Yes</td>\n",
       "      <td>http://biobank.ctsu.ox.ac.uk/showcase/field.cg...</td>\n",
       "      <td>1200.assoc.tsv.gz</td>\n",
       "      <td>1200.assoc.tsv.gz</td>\n",
       "      <td>http://biobank.ctsu.ox.ac.uk/</td>\n",
       "      <td>UK Biobank</td>\n",
       "      <td>https://www.dropbox.com/s/ugt1g44ycju9ms5/1200...</td>\n",
       "      <td>NaN</td>\n",
       "      <td>NaN</td>\n",
       "      <td>NaN</td>\n",
       "      <td>...</td>\n",
       "      <td>NaN</td>\n",
       "      <td>NaN</td>\n",
       "      <td>0</td>\n",
       "      <td>NaN</td>\n",
       "      <td>U_NSL</td>\n",
       "      <td>INSOMN_UKB</td>\n",
       "      <td>Insomnia_UKB</td>\n",
       "      <td>Psychiatric-neurologic</td>\n",
       "      <td>0</td>\n",
       "      <td>#0000A0</td>\n",
       "    </tr>\n",
       "    <tr>\n",
       "      <th>UKB_1807_Fathers_age_at_death</th>\n",
       "      <td>Yes</td>\n",
       "      <td>http://biobank.ctsu.ox.ac.uk/showcase/field.cg...</td>\n",
       "      <td>1807.assoc.tsv.gz</td>\n",
       "      <td>1807.assoc.tsv.gz</td>\n",
       "      <td>http://biobank.ctsu.ox.ac.uk/</td>\n",
       "      <td>UK Biobank</td>\n",
       "      <td>https://www.dropbox.com/s/qftvyi5a9qkb5xw/1807...</td>\n",
       "      <td>NaN</td>\n",
       "      <td>NaN</td>\n",
       "      <td>NaN</td>\n",
       "      <td>...</td>\n",
       "      <td>NaN</td>\n",
       "      <td>NaN</td>\n",
       "      <td>0</td>\n",
       "      <td>NaN</td>\n",
       "      <td>U_FAD</td>\n",
       "      <td>FAD_UKB</td>\n",
       "      <td>Fathers_Age_At_Death_UKB</td>\n",
       "      <td>Aging</td>\n",
       "      <td>0</td>\n",
       "      <td>#400040</td>\n",
       "    </tr>\n",
       "    <tr>\n",
       "      <th>UKB_20002_1094_self_reported_deep_venous_thrombosis_dvt</th>\n",
       "      <td>Yes</td>\n",
       "      <td>http://biobank.ctsu.ox.ac.uk/showcase/field.cg...</td>\n",
       "      <td>20002_1094.assoc.tsv.gz</td>\n",
       "      <td>20002_1094.assoc.tsv.gz</td>\n",
       "      <td>http://biobank.ctsu.ox.ac.uk/</td>\n",
       "      <td>UK Biobank</td>\n",
       "      <td>https://www.dropbox.com/s/0smh60npg2eihqv/2000...</td>\n",
       "      <td>NaN</td>\n",
       "      <td>NaN</td>\n",
       "      <td>NaN</td>\n",
       "      <td>...</td>\n",
       "      <td>NaN</td>\n",
       "      <td>NaN</td>\n",
       "      <td>1</td>\n",
       "      <td>6767.0</td>\n",
       "      <td>UN_DVT</td>\n",
       "      <td>DVT_UKBS</td>\n",
       "      <td>Deep_Venous_Thrombosis_UKBS</td>\n",
       "      <td>Cardiometabolic</td>\n",
       "      <td>0</td>\n",
       "      <td>#004000</td>\n",
       "    </tr>\n",
       "  </tbody>\n",
       "</table>\n",
       "<p>5 rows × 28 columns</p>\n",
       "</div>"
      ],
      "text/plain": [
       "                                                   GTEx_GWAS  \\\n",
       "Tag                                                            \n",
       "UKB_1160_Sleep_duration                                  Yes   \n",
       "UKB_1180_Morning_or_evening_person_chronotype            Yes   \n",
       "UKB_1200_Sleeplessness_or_insomnia                       Yes   \n",
       "UKB_1807_Fathers_age_at_death                            Yes   \n",
       "UKB_20002_1094_self_reported_deep_venous_thromb...       Yes   \n",
       "\n",
       "                                                                                    PUBMED_Paper_Link  \\\n",
       "Tag                                                                                                     \n",
       "UKB_1160_Sleep_duration                             http://biobank.ctsu.ox.ac.uk/showcase/field.cg...   \n",
       "UKB_1180_Morning_or_evening_person_chronotype       http://biobank.ctsu.ox.ac.uk/showcase/field.cg...   \n",
       "UKB_1200_Sleeplessness_or_insomnia                  http://biobank.ctsu.ox.ac.uk/showcase/field.cg...   \n",
       "UKB_1807_Fathers_age_at_death                       http://biobank.ctsu.ox.ac.uk/showcase/field.cg...   \n",
       "UKB_20002_1094_self_reported_deep_venous_thromb...  http://biobank.ctsu.ox.ac.uk/showcase/field.cg...   \n",
       "\n",
       "                                                                 Pheno_File  \\\n",
       "Tag                                                                           \n",
       "UKB_1160_Sleep_duration                                   1160.assoc.tsv.gz   \n",
       "UKB_1180_Morning_or_evening_person_chronotype             1180.assoc.tsv.gz   \n",
       "UKB_1200_Sleeplessness_or_insomnia                        1200.assoc.tsv.gz   \n",
       "UKB_1807_Fathers_age_at_death                             1807.assoc.tsv.gz   \n",
       "UKB_20002_1094_self_reported_deep_venous_thromb...  20002_1094.assoc.tsv.gz   \n",
       "\n",
       "                                                                Source_File  \\\n",
       "Tag                                                                           \n",
       "UKB_1160_Sleep_duration                                   1160.assoc.tsv.gz   \n",
       "UKB_1180_Morning_or_evening_person_chronotype             1180.assoc.tsv.gz   \n",
       "UKB_1200_Sleeplessness_or_insomnia                        1200.assoc.tsv.gz   \n",
       "UKB_1807_Fathers_age_at_death                             1807.assoc.tsv.gz   \n",
       "UKB_20002_1094_self_reported_deep_venous_thromb...  20002_1094.assoc.tsv.gz   \n",
       "\n",
       "                                                                           Portal  \\\n",
       "Tag                                                                                 \n",
       "UKB_1160_Sleep_duration                             http://biobank.ctsu.ox.ac.uk/   \n",
       "UKB_1180_Morning_or_evening_person_chronotype       http://biobank.ctsu.ox.ac.uk/   \n",
       "UKB_1200_Sleeplessness_or_insomnia                  http://biobank.ctsu.ox.ac.uk/   \n",
       "UKB_1807_Fathers_age_at_death                       http://biobank.ctsu.ox.ac.uk/   \n",
       "UKB_20002_1094_self_reported_deep_venous_thromb...  http://biobank.ctsu.ox.ac.uk/   \n",
       "\n",
       "                                                    Consortium  \\\n",
       "Tag                                                              \n",
       "UKB_1160_Sleep_duration                             UK Biobank   \n",
       "UKB_1180_Morning_or_evening_person_chronotype       UK Biobank   \n",
       "UKB_1200_Sleeplessness_or_insomnia                  UK Biobank   \n",
       "UKB_1807_Fathers_age_at_death                       UK Biobank   \n",
       "UKB_20002_1094_self_reported_deep_venous_thromb...  UK Biobank   \n",
       "\n",
       "                                                                                                 Link  \\\n",
       "Tag                                                                                                     \n",
       "UKB_1160_Sleep_duration                             https://www.dropbox.com/s/00v10oxwku3u5yq/1160...   \n",
       "UKB_1180_Morning_or_evening_person_chronotype       https://www.dropbox.com/s/z7cppp7ndmylpf0/1180...   \n",
       "UKB_1200_Sleeplessness_or_insomnia                  https://www.dropbox.com/s/ugt1g44ycju9ms5/1200...   \n",
       "UKB_1807_Fathers_age_at_death                       https://www.dropbox.com/s/qftvyi5a9qkb5xw/1807...   \n",
       "UKB_20002_1094_self_reported_deep_venous_thromb...  https://www.dropbox.com/s/0smh60npg2eihqv/2000...   \n",
       "\n",
       "                                                   Notes Header Hidden  ...  \\\n",
       "Tag                                                                     ...   \n",
       "UKB_1160_Sleep_duration                              NaN    NaN    NaN  ...   \n",
       "UKB_1180_Morning_or_evening_person_chronotype        NaN    NaN    NaN  ...   \n",
       "UKB_1200_Sleeplessness_or_insomnia                   NaN    NaN    NaN  ...   \n",
       "UKB_1807_Fathers_age_at_death                        NaN    NaN    NaN  ...   \n",
       "UKB_20002_1094_self_reported_deep_venous_thromb...   NaN    NaN    NaN  ...   \n",
       "\n",
       "                                                   Declared_Effect_Allele  \\\n",
       "Tag                                                                         \n",
       "UKB_1160_Sleep_duration                                               NaN   \n",
       "UKB_1180_Morning_or_evening_person_chronotype                         NaN   \n",
       "UKB_1200_Sleeplessness_or_insomnia                                    NaN   \n",
       "UKB_1807_Fathers_age_at_death                                         NaN   \n",
       "UKB_20002_1094_self_reported_deep_venous_thromb...                    NaN   \n",
       "\n",
       "                                                   Genome_Reference Binary  \\\n",
       "Tag                                                                          \n",
       "UKB_1160_Sleep_duration                                         NaN      0   \n",
       "UKB_1180_Morning_or_evening_person_chronotype                   NaN      0   \n",
       "UKB_1200_Sleeplessness_or_insomnia                              NaN      0   \n",
       "UKB_1807_Fathers_age_at_death                                   NaN      0   \n",
       "UKB_20002_1094_self_reported_deep_venous_thromb...              NaN      1   \n",
       "\n",
       "                                                     Cases abbreviation  \\\n",
       "Tag                                                                       \n",
       "UKB_1160_Sleep_duration                                NaN         U_SL   \n",
       "UKB_1180_Morning_or_evening_person_chronotype          NaN        U_CHR   \n",
       "UKB_1200_Sleeplessness_or_insomnia                     NaN        U_NSL   \n",
       "UKB_1807_Fathers_age_at_death                          NaN        U_FAD   \n",
       "UKB_20002_1094_self_reported_deep_venous_thromb...  6767.0       UN_DVT   \n",
       "\n",
       "                                                    new_abbreviation  \\\n",
       "Tag                                                                    \n",
       "UKB_1160_Sleep_duration                                    SLEEP_UKB   \n",
       "UKB_1180_Morning_or_evening_person_chronotype             CHRONO_UKB   \n",
       "UKB_1200_Sleeplessness_or_insomnia                        INSOMN_UKB   \n",
       "UKB_1807_Fathers_age_at_death                                FAD_UKB   \n",
       "UKB_20002_1094_self_reported_deep_venous_thromb...          DVT_UKBS   \n",
       "\n",
       "                                                                  new_Phenotype  \\\n",
       "Tag                                                                               \n",
       "UKB_1160_Sleep_duration                                      Sleep_Duration_UKB   \n",
       "UKB_1180_Morning_or_evening_person_chronotype                    Chronotype_UKB   \n",
       "UKB_1200_Sleeplessness_or_insomnia                                 Insomnia_UKB   \n",
       "UKB_1807_Fathers_age_at_death                          Fathers_Age_At_Death_UKB   \n",
       "UKB_20002_1094_self_reported_deep_venous_thromb...  Deep_Venous_Thrombosis_UKBS   \n",
       "\n",
       "                                                                  Category  \\\n",
       "Tag                                                                          \n",
       "UKB_1160_Sleep_duration                             Psychiatric-neurologic   \n",
       "UKB_1180_Morning_or_evening_person_chronotype       Psychiatric-neurologic   \n",
       "UKB_1200_Sleeplessness_or_insomnia                  Psychiatric-neurologic   \n",
       "UKB_1807_Fathers_age_at_death                                        Aging   \n",
       "UKB_20002_1094_self_reported_deep_venous_thromb...         Cardiometabolic   \n",
       "\n",
       "                                                   Deflation    color  \n",
       "Tag                                                                    \n",
       "UKB_1160_Sleep_duration                                    0  #0000A0  \n",
       "UKB_1180_Morning_or_evening_person_chronotype              0  #0000A0  \n",
       "UKB_1200_Sleeplessness_or_insomnia                         0  #0000A0  \n",
       "UKB_1807_Fathers_age_at_death                              0  #400040  \n",
       "UKB_20002_1094_self_reported_deep_venous_thromb...         0  #004000  \n",
       "\n",
       "[5 rows x 28 columns]"
      ]
     },
     "execution_count": 11,
     "metadata": {},
     "output_type": "execute_result"
    }
   ],
   "source": [
    "metadata.GTEX_GWAS_PHENO_INFO.head()"
   ]
  },
  {
   "cell_type": "code",
   "execution_count": 12,
   "metadata": {
    "papermill": {
     "duration": 0.068155,
     "end_time": "2020-01-01T23:12:40.369003",
     "exception": false,
     "start_time": "2020-01-01T23:12:40.300848",
     "status": "completed"
    },
    "tags": []
   },
   "outputs": [],
   "source": [
    "from entity import Trait"
   ]
  },
  {
   "cell_type": "code",
   "execution_count": 13,
   "metadata": {
    "papermill": {
     "duration": 0.081279,
     "end_time": "2020-01-01T23:12:40.496074",
     "exception": false,
     "start_time": "2020-01-01T23:12:40.414795",
     "status": "completed"
    },
    "tags": []
   },
   "outputs": [],
   "source": [
    "pheno_codes = metadata.RAPID_GWAS_PHENO_INFO.index\n",
    "pheno_codes = pheno_codes.union(metadata.GTEX_GWAS_PHENO_INFO.index)"
   ]
  },
  {
   "cell_type": "code",
   "execution_count": 14,
   "metadata": {
    "papermill": {
     "duration": 0.07053,
     "end_time": "2020-01-01T23:12:40.610429",
     "exception": false,
     "start_time": "2020-01-01T23:12:40.539899",
     "status": "completed"
    },
    "tags": []
   },
   "outputs": [],
   "source": [
    "assert len(pheno_codes) == len(metadata.RAPID_GWAS_PHENO_INFO.index) + len(metadata.GTEX_GWAS_PHENO_INFO.index)"
   ]
  },
  {
   "cell_type": "code",
   "execution_count": 15,
   "metadata": {
    "papermill": {
     "duration": 0.069009,
     "end_time": "2020-01-01T23:12:40.721705",
     "exception": false,
     "start_time": "2020-01-01T23:12:40.652696",
     "status": "completed"
    },
    "tags": []
   },
   "outputs": [
    {
     "data": {
      "text/plain": [
       "Index(['100001_irnt', '100001_raw', '100002_irnt', '100002_raw', '100003_irnt',\n",
       "       '100003_raw', '100004_irnt', '100004_raw', '100005_irnt', '100005_raw',\n",
       "       ...\n",
       "       'Z53', 'Z71', 'Z76', 'Z80', 'Z85', 'Z87', 'age', 'is_female',\n",
       "       'pgc.scz2', 'tag.evrsmk.tbl'],\n",
       "      dtype='object', length=4473)"
      ]
     },
     "execution_count": 15,
     "metadata": {},
     "output_type": "execute_result"
    }
   ],
   "source": [
    "pheno_codes"
   ]
  },
  {
   "cell_type": "code",
   "execution_count": 16,
   "metadata": {
    "papermill": {
     "duration": 2.036605,
     "end_time": "2020-01-01T23:12:42.805834",
     "exception": false,
     "start_time": "2020-01-01T23:12:40.769229",
     "status": "completed"
    },
    "tags": []
   },
   "outputs": [],
   "source": [
    "pheno_traits = [Trait(code) for code in pheno_codes]"
   ]
  },
  {
   "cell_type": "code",
   "execution_count": 17,
   "metadata": {
    "papermill": {
     "duration": 0.074662,
     "end_time": "2020-01-01T23:12:42.923275",
     "exception": false,
     "start_time": "2020-01-01T23:12:42.848613",
     "status": "completed"
    },
    "tags": []
   },
   "outputs": [],
   "source": [
    "assert len(pheno_traits) == len(pheno_codes)"
   ]
  },
  {
   "cell_type": "code",
   "execution_count": 18,
   "metadata": {
    "papermill": {
     "duration": 0.069862,
     "end_time": "2020-01-01T23:12:43.037186",
     "exception": false,
     "start_time": "2020-01-01T23:12:42.967324",
     "status": "completed"
    },
    "tags": []
   },
   "outputs": [
    {
     "data": {
      "text/plain": [
       "[100001_irnt-Food_weight,\n",
       " 100001_raw-Food_weight,\n",
       " 100002_irnt-Energy,\n",
       " 100002_raw-Energy,\n",
       " 100003_irnt-Protein]"
      ]
     },
     "execution_count": 18,
     "metadata": {},
     "output_type": "execute_result"
    }
   ],
   "source": [
    "pheno_traits[:5]"
   ]
  },
  {
   "cell_type": "code",
   "execution_count": 19,
   "metadata": {
    "papermill": {
     "duration": 0.070432,
     "end_time": "2020-01-01T23:12:43.169175",
     "exception": false,
     "start_time": "2020-01-01T23:12:43.098743",
     "status": "completed"
    },
    "tags": []
   },
   "outputs": [
    {
     "data": {
      "text/plain": [
       "[Z87-Diagnoses_main_ICD10_Z87_Personal_history_of_other_diseases_and_conditions,\n",
       " age-Age_at_recruitment,\n",
       " is_female-is_female_based_on_inferred_genetic_sex,\n",
       " pgc.scz2,\n",
       " tag.evrsmk.tbl]"
      ]
     },
     "execution_count": 19,
     "metadata": {},
     "output_type": "execute_result"
    }
   ],
   "source": [
    "pheno_traits[-5:]"
   ]
  },
  {
   "cell_type": "code",
   "execution_count": 20,
   "metadata": {
    "papermill": {
     "duration": 0.202234,
     "end_time": "2020-01-01T23:12:43.413461",
     "exception": false,
     "start_time": "2020-01-01T23:12:43.211227",
     "status": "completed"
    },
    "tags": []
   },
   "outputs": [],
   "source": [
    "pheno_data_tuples = [\n",
    "    (t.get_plain_name(), t.code, t.description, t.get_unique_description(), t.type, t.n, t.n_cases, t.n_controls, t.source)\n",
    "    for t in pheno_traits\n",
    "    if t.get_plain_name() in smultixcan_gene_associations.columns\n",
    "]"
   ]
  },
  {
   "cell_type": "code",
   "execution_count": 21,
   "metadata": {
    "papermill": {
     "duration": 0.084291,
     "end_time": "2020-01-01T23:12:43.544396",
     "exception": false,
     "start_time": "2020-01-01T23:12:43.460105",
     "status": "completed"
    },
    "tags": []
   },
   "outputs": [],
   "source": [
    "pheno_info_df = pd.DataFrame.from_records(\n",
    "    pheno_data_tuples,\n",
    "#    index='full_code',\n",
    "    columns='full_code short_code description unique_description type n n_cases n_controls source'.split()\n",
    ")"
   ]
  },
  {
   "cell_type": "code",
   "execution_count": 22,
   "metadata": {
    "papermill": {
     "duration": 0.087677,
     "end_time": "2020-01-01T23:12:43.673973",
     "exception": false,
     "start_time": "2020-01-01T23:12:43.586296",
     "status": "completed"
    },
    "tags": []
   },
   "outputs": [],
   "source": [
    "pheno_info_df.index.rename('pheno_id', inplace=True)"
   ]
  },
  {
   "cell_type": "code",
   "execution_count": 23,
   "metadata": {
    "papermill": {
     "duration": 0.087274,
     "end_time": "2020-01-01T23:12:43.803676",
     "exception": false,
     "start_time": "2020-01-01T23:12:43.716402",
     "status": "completed"
    },
    "tags": []
   },
   "outputs": [
    {
     "data": {
      "text/html": [
       "<div>\n",
       "<style scoped>\n",
       "    .dataframe tbody tr th:only-of-type {\n",
       "        vertical-align: middle;\n",
       "    }\n",
       "\n",
       "    .dataframe tbody tr th {\n",
       "        vertical-align: top;\n",
       "    }\n",
       "\n",
       "    .dataframe thead th {\n",
       "        text-align: right;\n",
       "    }\n",
       "</style>\n",
       "<table border=\"1\" class=\"dataframe\">\n",
       "  <thead>\n",
       "    <tr style=\"text-align: right;\">\n",
       "      <th></th>\n",
       "      <th>full_code</th>\n",
       "      <th>short_code</th>\n",
       "      <th>description</th>\n",
       "      <th>unique_description</th>\n",
       "      <th>type</th>\n",
       "      <th>n</th>\n",
       "      <th>n_cases</th>\n",
       "      <th>n_controls</th>\n",
       "      <th>source</th>\n",
       "    </tr>\n",
       "    <tr>\n",
       "      <th>pheno_id</th>\n",
       "      <th></th>\n",
       "      <th></th>\n",
       "      <th></th>\n",
       "      <th></th>\n",
       "      <th></th>\n",
       "      <th></th>\n",
       "      <th></th>\n",
       "      <th></th>\n",
       "      <th></th>\n",
       "    </tr>\n",
       "  </thead>\n",
       "  <tbody>\n",
       "    <tr>\n",
       "      <th>0</th>\n",
       "      <td>100001_raw-Food_weight</td>\n",
       "      <td>100001_raw</td>\n",
       "      <td>Food weight</td>\n",
       "      <td>Food weight</td>\n",
       "      <td>continuous_raw</td>\n",
       "      <td>51453</td>\n",
       "      <td>NaN</td>\n",
       "      <td>NaN</td>\n",
       "      <td>UK Biobank</td>\n",
       "    </tr>\n",
       "    <tr>\n",
       "      <th>1</th>\n",
       "      <td>100002_raw-Energy</td>\n",
       "      <td>100002_raw</td>\n",
       "      <td>Energy</td>\n",
       "      <td>Energy</td>\n",
       "      <td>continuous_raw</td>\n",
       "      <td>51453</td>\n",
       "      <td>NaN</td>\n",
       "      <td>NaN</td>\n",
       "      <td>UK Biobank</td>\n",
       "    </tr>\n",
       "    <tr>\n",
       "      <th>2</th>\n",
       "      <td>100003_raw-Protein</td>\n",
       "      <td>100003_raw</td>\n",
       "      <td>Protein</td>\n",
       "      <td>Protein</td>\n",
       "      <td>continuous_raw</td>\n",
       "      <td>51453</td>\n",
       "      <td>NaN</td>\n",
       "      <td>NaN</td>\n",
       "      <td>UK Biobank</td>\n",
       "    </tr>\n",
       "    <tr>\n",
       "      <th>3</th>\n",
       "      <td>100004_raw-Fat</td>\n",
       "      <td>100004_raw</td>\n",
       "      <td>Fat</td>\n",
       "      <td>Fat</td>\n",
       "      <td>continuous_raw</td>\n",
       "      <td>51453</td>\n",
       "      <td>NaN</td>\n",
       "      <td>NaN</td>\n",
       "      <td>UK Biobank</td>\n",
       "    </tr>\n",
       "    <tr>\n",
       "      <th>4</th>\n",
       "      <td>100005_raw-Carbohydrate</td>\n",
       "      <td>100005_raw</td>\n",
       "      <td>Carbohydrate</td>\n",
       "      <td>Carbohydrate</td>\n",
       "      <td>continuous_raw</td>\n",
       "      <td>51453</td>\n",
       "      <td>NaN</td>\n",
       "      <td>NaN</td>\n",
       "      <td>UK Biobank</td>\n",
       "    </tr>\n",
       "  </tbody>\n",
       "</table>\n",
       "</div>"
      ],
      "text/plain": [
       "                        full_code  short_code   description  \\\n",
       "pheno_id                                                      \n",
       "0          100001_raw-Food_weight  100001_raw   Food weight   \n",
       "1               100002_raw-Energy  100002_raw        Energy   \n",
       "2              100003_raw-Protein  100003_raw       Protein   \n",
       "3                  100004_raw-Fat  100004_raw           Fat   \n",
       "4         100005_raw-Carbohydrate  100005_raw  Carbohydrate   \n",
       "\n",
       "         unique_description            type      n  n_cases  n_controls  \\\n",
       "pheno_id                                                                  \n",
       "0               Food weight  continuous_raw  51453      NaN         NaN   \n",
       "1                    Energy  continuous_raw  51453      NaN         NaN   \n",
       "2                   Protein  continuous_raw  51453      NaN         NaN   \n",
       "3                       Fat  continuous_raw  51453      NaN         NaN   \n",
       "4              Carbohydrate  continuous_raw  51453      NaN         NaN   \n",
       "\n",
       "              source  \n",
       "pheno_id              \n",
       "0         UK Biobank  \n",
       "1         UK Biobank  \n",
       "2         UK Biobank  \n",
       "3         UK Biobank  \n",
       "4         UK Biobank  "
      ]
     },
     "execution_count": 23,
     "metadata": {},
     "output_type": "execute_result"
    }
   ],
   "source": [
    "pheno_info_df.head()"
   ]
  },
  {
   "cell_type": "code",
   "execution_count": 24,
   "metadata": {
    "papermill": {
     "duration": 0.098513,
     "end_time": "2020-01-01T23:12:43.945956",
     "exception": false,
     "start_time": "2020-01-01T23:12:43.847443",
     "status": "completed"
    },
    "tags": []
   },
   "outputs": [
    {
     "data": {
      "text/html": [
       "<div>\n",
       "<style scoped>\n",
       "    .dataframe tbody tr th:only-of-type {\n",
       "        vertical-align: middle;\n",
       "    }\n",
       "\n",
       "    .dataframe tbody tr th {\n",
       "        vertical-align: top;\n",
       "    }\n",
       "\n",
       "    .dataframe thead th {\n",
       "        text-align: right;\n",
       "    }\n",
       "</style>\n",
       "<table border=\"1\" class=\"dataframe\">\n",
       "  <thead>\n",
       "    <tr style=\"text-align: right;\">\n",
       "      <th></th>\n",
       "      <th>full_code</th>\n",
       "      <th>short_code</th>\n",
       "      <th>description</th>\n",
       "      <th>unique_description</th>\n",
       "      <th>type</th>\n",
       "      <th>n</th>\n",
       "      <th>n_cases</th>\n",
       "      <th>n_controls</th>\n",
       "      <th>source</th>\n",
       "    </tr>\n",
       "    <tr>\n",
       "      <th>pheno_id</th>\n",
       "      <th></th>\n",
       "      <th></th>\n",
       "      <th></th>\n",
       "      <th></th>\n",
       "      <th></th>\n",
       "      <th></th>\n",
       "      <th></th>\n",
       "      <th></th>\n",
       "      <th></th>\n",
       "    </tr>\n",
       "  </thead>\n",
       "  <tbody>\n",
       "    <tr>\n",
       "      <th>4086</th>\n",
       "      <td>Z76-Diagnoses_main_ICD10_Z76_Persons_encounter...</td>\n",
       "      <td>Z76</td>\n",
       "      <td>Diagnoses - main ICD10: Z76 Persons encounteri...</td>\n",
       "      <td>Diagnoses - main ICD10: Z76 Persons encounteri...</td>\n",
       "      <td>categorical</td>\n",
       "      <td>361194</td>\n",
       "      <td>118.0</td>\n",
       "      <td>361076.0</td>\n",
       "      <td>UK Biobank</td>\n",
       "    </tr>\n",
       "    <tr>\n",
       "      <th>4087</th>\n",
       "      <td>Z80-Diagnoses_main_ICD10_Z80_Family_history_of...</td>\n",
       "      <td>Z80</td>\n",
       "      <td>Diagnoses - main ICD10: Z80 Family history of ...</td>\n",
       "      <td>Diagnoses - main ICD10: Z80 Family history of ...</td>\n",
       "      <td>categorical</td>\n",
       "      <td>361194</td>\n",
       "      <td>377.0</td>\n",
       "      <td>360817.0</td>\n",
       "      <td>UK Biobank</td>\n",
       "    </tr>\n",
       "    <tr>\n",
       "      <th>4088</th>\n",
       "      <td>Z85-Diagnoses_main_ICD10_Z85_Personal_history_...</td>\n",
       "      <td>Z85</td>\n",
       "      <td>Diagnoses - main ICD10: Z85 Personal history o...</td>\n",
       "      <td>Diagnoses - main ICD10: Z85 Personal history o...</td>\n",
       "      <td>categorical</td>\n",
       "      <td>361194</td>\n",
       "      <td>238.0</td>\n",
       "      <td>360956.0</td>\n",
       "      <td>UK Biobank</td>\n",
       "    </tr>\n",
       "    <tr>\n",
       "      <th>4089</th>\n",
       "      <td>Z87-Diagnoses_main_ICD10_Z87_Personal_history_...</td>\n",
       "      <td>Z87</td>\n",
       "      <td>Diagnoses - main ICD10: Z87 Personal history o...</td>\n",
       "      <td>Diagnoses - main ICD10: Z87 Personal history o...</td>\n",
       "      <td>categorical</td>\n",
       "      <td>361194</td>\n",
       "      <td>234.0</td>\n",
       "      <td>360960.0</td>\n",
       "      <td>UK Biobank</td>\n",
       "    </tr>\n",
       "    <tr>\n",
       "      <th>4090</th>\n",
       "      <td>pgc.scz2</td>\n",
       "      <td>pgc.scz2</td>\n",
       "      <td>Schizophrenia</td>\n",
       "      <td>Schizophrenia</td>\n",
       "      <td>binary</td>\n",
       "      <td>150064</td>\n",
       "      <td>36989.0</td>\n",
       "      <td>113075.0</td>\n",
       "      <td>PGC</td>\n",
       "    </tr>\n",
       "  </tbody>\n",
       "</table>\n",
       "</div>"
      ],
      "text/plain": [
       "                                                  full_code short_code  \\\n",
       "pheno_id                                                                 \n",
       "4086      Z76-Diagnoses_main_ICD10_Z76_Persons_encounter...        Z76   \n",
       "4087      Z80-Diagnoses_main_ICD10_Z80_Family_history_of...        Z80   \n",
       "4088      Z85-Diagnoses_main_ICD10_Z85_Personal_history_...        Z85   \n",
       "4089      Z87-Diagnoses_main_ICD10_Z87_Personal_history_...        Z87   \n",
       "4090                                               pgc.scz2   pgc.scz2   \n",
       "\n",
       "                                                description  \\\n",
       "pheno_id                                                      \n",
       "4086      Diagnoses - main ICD10: Z76 Persons encounteri...   \n",
       "4087      Diagnoses - main ICD10: Z80 Family history of ...   \n",
       "4088      Diagnoses - main ICD10: Z85 Personal history o...   \n",
       "4089      Diagnoses - main ICD10: Z87 Personal history o...   \n",
       "4090                                          Schizophrenia   \n",
       "\n",
       "                                         unique_description         type  \\\n",
       "pheno_id                                                                   \n",
       "4086      Diagnoses - main ICD10: Z76 Persons encounteri...  categorical   \n",
       "4087      Diagnoses - main ICD10: Z80 Family history of ...  categorical   \n",
       "4088      Diagnoses - main ICD10: Z85 Personal history o...  categorical   \n",
       "4089      Diagnoses - main ICD10: Z87 Personal history o...  categorical   \n",
       "4090                                          Schizophrenia       binary   \n",
       "\n",
       "               n  n_cases  n_controls      source  \n",
       "pheno_id                                           \n",
       "4086      361194    118.0    361076.0  UK Biobank  \n",
       "4087      361194    377.0    360817.0  UK Biobank  \n",
       "4088      361194    238.0    360956.0  UK Biobank  \n",
       "4089      361194    234.0    360960.0  UK Biobank  \n",
       "4090      150064  36989.0    113075.0         PGC  "
      ]
     },
     "execution_count": 24,
     "metadata": {},
     "output_type": "execute_result"
    }
   ],
   "source": [
    "pheno_info_df.tail()"
   ]
  },
  {
   "cell_type": "code",
   "execution_count": 25,
   "metadata": {
    "papermill": {
     "duration": 0.075709,
     "end_time": "2020-01-01T23:12:44.066833",
     "exception": false,
     "start_time": "2020-01-01T23:12:43.991124",
     "status": "completed"
    },
    "tags": []
   },
   "outputs": [],
   "source": [
    "assert not pheno_info_df['description'].is_unique"
   ]
  },
  {
   "cell_type": "code",
   "execution_count": 26,
   "metadata": {
    "papermill": {
     "duration": 0.07313,
     "end_time": "2020-01-01T23:12:44.189489",
     "exception": false,
     "start_time": "2020-01-01T23:12:44.116359",
     "status": "completed"
    },
    "tags": []
   },
   "outputs": [],
   "source": [
    "assert pheno_info_df['unique_description'].is_unique"
   ]
  },
  {
   "cell_type": "markdown",
   "metadata": {
    "papermill": {
     "duration": 0.043096,
     "end_time": "2020-01-01T23:12:44.280257",
     "exception": false,
     "start_time": "2020-01-01T23:12:44.237161",
     "status": "completed"
    },
    "tags": []
   },
   "source": [
    "## Some stats"
   ]
  },
  {
   "cell_type": "code",
   "execution_count": 27,
   "metadata": {
    "papermill": {
     "duration": 0.082604,
     "end_time": "2020-01-01T23:12:44.406070",
     "exception": false,
     "start_time": "2020-01-01T23:12:44.323466",
     "status": "completed"
    },
    "tags": []
   },
   "outputs": [
    {
     "data": {
      "text/plain": [
       "False"
      ]
     },
     "execution_count": 27,
     "metadata": {},
     "output_type": "execute_result"
    }
   ],
   "source": [
    "pheno_info_df.dtypes.loc['n'].name == 'object'"
   ]
  },
  {
   "cell_type": "code",
   "execution_count": 28,
   "metadata": {
    "papermill": {
     "duration": 0.084688,
     "end_time": "2020-01-01T23:12:44.535301",
     "exception": false,
     "start_time": "2020-01-01T23:12:44.450613",
     "status": "completed"
    },
    "tags": []
   },
   "outputs": [
    {
     "data": {
      "text/plain": [
       "dtype('float64')"
      ]
     },
     "execution_count": 28,
     "metadata": {},
     "output_type": "execute_result"
    }
   ],
   "source": [
    "pheno_info_df['n_cases'].dtype"
   ]
  },
  {
   "cell_type": "code",
   "execution_count": 29,
   "metadata": {
    "papermill": {
     "duration": 0.075908,
     "end_time": "2020-01-01T23:12:44.658861",
     "exception": false,
     "start_time": "2020-01-01T23:12:44.582953",
     "status": "completed"
    },
    "tags": []
   },
   "outputs": [],
   "source": [
    "def _get_col_stats(column_data):\n",
    "    if column_data.dtype.name == 'object':\n",
    "        return column_data.apply(lambda x: len(str(x))).max()\n",
    "    else:\n",
    "        return (column_data.min(), column_data.max())\n",
    "\n",
    "    return None"
   ]
  },
  {
   "cell_type": "code",
   "execution_count": 30,
   "metadata": {
    "papermill": {
     "duration": 0.100355,
     "end_time": "2020-01-01T23:12:44.811934",
     "exception": false,
     "start_time": "2020-01-01T23:12:44.711579",
     "status": "completed"
    },
    "tags": []
   },
   "outputs": [
    {
     "data": {
      "text/plain": [
       "{'full_code': 209,\n",
       " 'short_code': 54,\n",
       " 'description': 206,\n",
       " 'unique_description': 223,\n",
       " 'type': 14,\n",
       " 'n': (819, 361194),\n",
       " 'n_cases': (100.0, 337879.0),\n",
       " 'n_controls': (103.0, 361094.0),\n",
       " 'source': 16}"
      ]
     },
     "execution_count": 30,
     "metadata": {},
     "output_type": "execute_result"
    }
   ],
   "source": [
    "{\n",
    "    c : _get_col_stats(pheno_info_df[c])\n",
    "    for c in pheno_info_df.columns\n",
    "}"
   ]
  },
  {
   "cell_type": "markdown",
   "metadata": {
    "papermill": {
     "duration": 0.044058,
     "end_time": "2020-01-01T23:12:44.905424",
     "exception": false,
     "start_time": "2020-01-01T23:12:44.861366",
     "status": "completed"
    },
    "tags": []
   },
   "source": [
    "## Save"
   ]
  },
  {
   "cell_type": "code",
   "execution_count": 31,
   "metadata": {
    "papermill": {
     "duration": 0.189161,
     "end_time": "2020-01-01T23:12:45.139174",
     "exception": false,
     "start_time": "2020-01-01T23:12:44.950013",
     "status": "completed"
    },
    "tags": []
   },
   "outputs": [],
   "source": [
    "pheno_info_df.to_csv(os.path.join(conf.DELIVERABLES_DIR, 'phenotypes_info.tsv.gz'), sep='\\t')"
   ]
  },
  {
   "cell_type": "markdown",
   "metadata": {
    "papermill": {
     "duration": 0.044567,
     "end_time": "2020-01-01T23:12:45.234871",
     "exception": false,
     "start_time": "2020-01-01T23:12:45.190304",
     "status": "completed"
    },
    "tags": []
   },
   "source": [
    "# Genes info file"
   ]
  },
  {
   "cell_type": "code",
   "execution_count": 32,
   "metadata": {
    "papermill": {
     "duration": 0.08694,
     "end_time": "2020-01-01T23:12:45.366429",
     "exception": false,
     "start_time": "2020-01-01T23:12:45.279489",
     "status": "completed"
    },
    "tags": []
   },
   "outputs": [
    {
     "data": {
      "text/html": [
       "<div>\n",
       "<style scoped>\n",
       "    .dataframe tbody tr th:only-of-type {\n",
       "        vertical-align: middle;\n",
       "    }\n",
       "\n",
       "    .dataframe tbody tr th {\n",
       "        vertical-align: top;\n",
       "    }\n",
       "\n",
       "    .dataframe thead th {\n",
       "        text-align: right;\n",
       "    }\n",
       "</style>\n",
       "<table border=\"1\" class=\"dataframe\">\n",
       "  <thead>\n",
       "    <tr style=\"text-align: right;\">\n",
       "      <th></th>\n",
       "      <th>gene</th>\n",
       "      <th>gene_name</th>\n",
       "      <th>gene_type</th>\n",
       "      <th>gene_id</th>\n",
       "      <th>band</th>\n",
       "    </tr>\n",
       "  </thead>\n",
       "  <tbody>\n",
       "    <tr>\n",
       "      <th>0</th>\n",
       "      <td>ENSG00000000457.13</td>\n",
       "      <td>SCYL3</td>\n",
       "      <td>protein_coding</td>\n",
       "      <td>ENSG00000000457</td>\n",
       "      <td>1q24.2</td>\n",
       "    </tr>\n",
       "    <tr>\n",
       "      <th>1</th>\n",
       "      <td>ENSG00000000460.16</td>\n",
       "      <td>C1orf112</td>\n",
       "      <td>protein_coding</td>\n",
       "      <td>ENSG00000000460</td>\n",
       "      <td>1q24.2</td>\n",
       "    </tr>\n",
       "    <tr>\n",
       "      <th>2</th>\n",
       "      <td>ENSG00000000938.12</td>\n",
       "      <td>FGR</td>\n",
       "      <td>protein_coding</td>\n",
       "      <td>ENSG00000000938</td>\n",
       "      <td>1p35.3</td>\n",
       "    </tr>\n",
       "    <tr>\n",
       "      <th>3</th>\n",
       "      <td>ENSG00000000971.15</td>\n",
       "      <td>CFH</td>\n",
       "      <td>protein_coding</td>\n",
       "      <td>ENSG00000000971</td>\n",
       "      <td>1q31.3</td>\n",
       "    </tr>\n",
       "    <tr>\n",
       "      <th>4</th>\n",
       "      <td>ENSG00000001036.13</td>\n",
       "      <td>FUCA2</td>\n",
       "      <td>protein_coding</td>\n",
       "      <td>ENSG00000001036</td>\n",
       "      <td>6q24.2</td>\n",
       "    </tr>\n",
       "  </tbody>\n",
       "</table>\n",
       "</div>"
      ],
      "text/plain": [
       "                 gene gene_name       gene_type          gene_id    band\n",
       "0  ENSG00000000457.13     SCYL3  protein_coding  ENSG00000000457  1q24.2\n",
       "1  ENSG00000000460.16  C1orf112  protein_coding  ENSG00000000460  1q24.2\n",
       "2  ENSG00000000938.12       FGR  protein_coding  ENSG00000000938  1p35.3\n",
       "3  ENSG00000000971.15       CFH  protein_coding  ENSG00000000971  1q31.3\n",
       "4  ENSG00000001036.13     FUCA2  protein_coding  ENSG00000001036  6q24.2"
      ]
     },
     "execution_count": 32,
     "metadata": {},
     "output_type": "execute_result"
    }
   ],
   "source": [
    "metadata.GENES_MAPPINGS.head()"
   ]
  },
  {
   "cell_type": "code",
   "execution_count": 33,
   "metadata": {
    "papermill": {
     "duration": 0.148333,
     "end_time": "2020-01-01T23:12:45.566136",
     "exception": false,
     "start_time": "2020-01-01T23:12:45.417803",
     "status": "completed"
    },
    "tags": []
   },
   "outputs": [],
   "source": [
    "genes_info = metadata.GENES_MAPPINGS.set_index('gene_id').loc[smultixcan_gene_associations.index.tolist()]"
   ]
  },
  {
   "cell_type": "code",
   "execution_count": 34,
   "metadata": {
    "papermill": {
     "duration": 0.099583,
     "end_time": "2020-01-01T23:12:45.716595",
     "exception": false,
     "start_time": "2020-01-01T23:12:45.617012",
     "status": "completed"
    },
    "tags": []
   },
   "outputs": [
    {
     "data": {
      "text/plain": [
       "(22515, 4091)"
      ]
     },
     "execution_count": 34,
     "metadata": {},
     "output_type": "execute_result"
    }
   ],
   "source": [
    "smultixcan_gene_associations.shape"
   ]
  },
  {
   "cell_type": "code",
   "execution_count": 35,
   "metadata": {
    "papermill": {
     "duration": 0.089987,
     "end_time": "2020-01-01T23:12:45.855440",
     "exception": false,
     "start_time": "2020-01-01T23:12:45.765453",
     "status": "completed"
    },
    "tags": []
   },
   "outputs": [],
   "source": [
    "genes_info = genes_info.reset_index()\n",
    "genes_info.index.rename('gene_num_id', inplace=True)"
   ]
  },
  {
   "cell_type": "code",
   "execution_count": 36,
   "metadata": {
    "papermill": {
     "duration": 0.072142,
     "end_time": "2020-01-01T23:12:45.975523",
     "exception": false,
     "start_time": "2020-01-01T23:12:45.903381",
     "status": "completed"
    },
    "tags": []
   },
   "outputs": [],
   "source": [
    "assert genes_info.shape[0] == smultixcan_gene_associations.shape[0]"
   ]
  },
  {
   "cell_type": "code",
   "execution_count": 37,
   "metadata": {
    "papermill": {
     "duration": 0.100344,
     "end_time": "2020-01-01T23:12:46.123074",
     "exception": false,
     "start_time": "2020-01-01T23:12:46.022730",
     "status": "completed"
    },
    "tags": []
   },
   "outputs": [
    {
     "data": {
      "text/html": [
       "<div>\n",
       "<style scoped>\n",
       "    .dataframe tbody tr th:only-of-type {\n",
       "        vertical-align: middle;\n",
       "    }\n",
       "\n",
       "    .dataframe tbody tr th {\n",
       "        vertical-align: top;\n",
       "    }\n",
       "\n",
       "    .dataframe thead th {\n",
       "        text-align: right;\n",
       "    }\n",
       "</style>\n",
       "<table border=\"1\" class=\"dataframe\">\n",
       "  <thead>\n",
       "    <tr style=\"text-align: right;\">\n",
       "      <th></th>\n",
       "      <th>gene_id</th>\n",
       "      <th>gene</th>\n",
       "      <th>gene_name</th>\n",
       "      <th>gene_type</th>\n",
       "      <th>band</th>\n",
       "    </tr>\n",
       "    <tr>\n",
       "      <th>gene_num_id</th>\n",
       "      <th></th>\n",
       "      <th></th>\n",
       "      <th></th>\n",
       "      <th></th>\n",
       "      <th></th>\n",
       "    </tr>\n",
       "  </thead>\n",
       "  <tbody>\n",
       "    <tr>\n",
       "      <th>0</th>\n",
       "      <td>ENSG00000000419</td>\n",
       "      <td>ENSG00000000419.12</td>\n",
       "      <td>DPM1</td>\n",
       "      <td>protein_coding</td>\n",
       "      <td>20q13.13</td>\n",
       "    </tr>\n",
       "    <tr>\n",
       "      <th>1</th>\n",
       "      <td>ENSG00000000457</td>\n",
       "      <td>ENSG00000000457.13</td>\n",
       "      <td>SCYL3</td>\n",
       "      <td>protein_coding</td>\n",
       "      <td>1q24.2</td>\n",
       "    </tr>\n",
       "    <tr>\n",
       "      <th>2</th>\n",
       "      <td>ENSG00000000460</td>\n",
       "      <td>ENSG00000000460.16</td>\n",
       "      <td>C1orf112</td>\n",
       "      <td>protein_coding</td>\n",
       "      <td>1q24.2</td>\n",
       "    </tr>\n",
       "    <tr>\n",
       "      <th>3</th>\n",
       "      <td>ENSG00000000938</td>\n",
       "      <td>ENSG00000000938.12</td>\n",
       "      <td>FGR</td>\n",
       "      <td>protein_coding</td>\n",
       "      <td>1p35.3</td>\n",
       "    </tr>\n",
       "    <tr>\n",
       "      <th>4</th>\n",
       "      <td>ENSG00000000971</td>\n",
       "      <td>ENSG00000000971.15</td>\n",
       "      <td>CFH</td>\n",
       "      <td>protein_coding</td>\n",
       "      <td>1q31.3</td>\n",
       "    </tr>\n",
       "  </tbody>\n",
       "</table>\n",
       "</div>"
      ],
      "text/plain": [
       "                     gene_id                gene gene_name       gene_type  \\\n",
       "gene_num_id                                                                  \n",
       "0            ENSG00000000419  ENSG00000000419.12      DPM1  protein_coding   \n",
       "1            ENSG00000000457  ENSG00000000457.13     SCYL3  protein_coding   \n",
       "2            ENSG00000000460  ENSG00000000460.16  C1orf112  protein_coding   \n",
       "3            ENSG00000000938  ENSG00000000938.12       FGR  protein_coding   \n",
       "4            ENSG00000000971  ENSG00000000971.15       CFH  protein_coding   \n",
       "\n",
       "                 band  \n",
       "gene_num_id            \n",
       "0            20q13.13  \n",
       "1              1q24.2  \n",
       "2              1q24.2  \n",
       "3              1p35.3  \n",
       "4              1q31.3  "
      ]
     },
     "execution_count": 37,
     "metadata": {},
     "output_type": "execute_result"
    }
   ],
   "source": [
    "genes_info.head()"
   ]
  },
  {
   "cell_type": "markdown",
   "metadata": {
    "papermill": {
     "duration": 0.053477,
     "end_time": "2020-01-01T23:12:46.230167",
     "exception": false,
     "start_time": "2020-01-01T23:12:46.176690",
     "status": "completed"
    },
    "tags": []
   },
   "source": [
    "## Some stats"
   ]
  },
  {
   "cell_type": "code",
   "execution_count": 38,
   "metadata": {
    "papermill": {
     "duration": 0.167973,
     "end_time": "2020-01-01T23:12:46.452246",
     "exception": false,
     "start_time": "2020-01-01T23:12:46.284273",
     "status": "completed"
    },
    "tags": []
   },
   "outputs": [
    {
     "data": {
      "text/plain": [
       "{'gene_id': 15, 'gene': 18, 'gene_name': 19, 'gene_type': 14, 'band': 8}"
      ]
     },
     "execution_count": 38,
     "metadata": {},
     "output_type": "execute_result"
    }
   ],
   "source": [
    "{\n",
    "    c : _get_col_stats(genes_info[c])\n",
    "    for c in genes_info.columns\n",
    "}"
   ]
  },
  {
   "cell_type": "markdown",
   "metadata": {
    "papermill": {
     "duration": 0.047154,
     "end_time": "2020-01-01T23:12:46.555541",
     "exception": false,
     "start_time": "2020-01-01T23:12:46.508387",
     "status": "completed"
    },
    "tags": []
   },
   "source": [
    "## Save"
   ]
  },
  {
   "cell_type": "code",
   "execution_count": 39,
   "metadata": {
    "papermill": {
     "duration": 0.51394,
     "end_time": "2020-01-01T23:12:47.116975",
     "exception": false,
     "start_time": "2020-01-01T23:12:46.603035",
     "status": "completed"
    },
    "tags": []
   },
   "outputs": [],
   "source": [
    "genes_info.to_csv(os.path.join(conf.DELIVERABLES_DIR, 'genes_info.tsv.gz'), sep='\\t')"
   ]
  },
  {
   "cell_type": "code",
   "execution_count": null,
   "metadata": {
    "papermill": {
     "duration": 0.046743,
     "end_time": "2020-01-01T23:12:47.212813",
     "exception": false,
     "start_time": "2020-01-01T23:12:47.166070",
     "status": "completed"
    },
    "tags": []
   },
   "outputs": [],
   "source": []
  }
 ],
 "metadata": {
  "kernelspec": {
   "display_name": "Python 3",
   "language": "python",
   "name": "python3"
  },
  "language_info": {
   "codemirror_mode": {
    "name": "ipython",
    "version": 3
   },
   "file_extension": ".py",
   "mimetype": "text/x-python",
   "name": "python",
   "nbconvert_exporter": "python",
   "pygments_lexer": "ipython3",
   "version": "3.7.5"
  },
  "papermill": {
   "duration": 94.386803,
   "end_time": "2020-01-01T23:12:47.881076",
   "environment_variables": {},
   "exception": null,
   "input_path": "100_postprocessing/20_traits_and_genes_info_files.ipynb",
   "output_path": "100_postprocessing/20_traits_and_genes_info_files.run.ipynb",
   "parameters": {},
   "start_time": "2020-01-01T23:11:13.494273",
   "version": "1.2.1"
  }
 },
 "nbformat": 4,
 "nbformat_minor": 4
}