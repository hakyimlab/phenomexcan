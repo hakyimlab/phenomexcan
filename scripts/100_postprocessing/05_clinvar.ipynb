{
 "cells": [
  {
   "cell_type": "code",
   "execution_count": 1,
   "metadata": {},
   "outputs": [],
   "source": [
    "%load_ext autoreload\n",
    "%autoreload 2"
   ]
  },
  {
   "cell_type": "code",
   "execution_count": 2,
   "metadata": {},
   "outputs": [],
   "source": [
    "import os\n",
    "import pickle\n",
    "from glob import glob\n",
    "import re\n",
    "from concurrent.futures import ProcessPoolExecutor, as_completed\n",
    "\n",
    "import numpy as np\n",
    "import pandas as pd\n",
    "from scipy import stats\n",
    "from sklearn.metrics import pairwise_distances\n",
    "\n",
    "import settings as conf\n",
    "from utils import is_number, chunker"
   ]
  },
  {
   "cell_type": "markdown",
   "metadata": {},
   "source": [
    "# Load metadata"
   ]
  },
  {
   "cell_type": "code",
   "execution_count": 3,
   "metadata": {},
   "outputs": [],
   "source": [
    "with open(os.path.join(conf.GENES_METADATA_DIR, 'genes_mapping_simplified-0.pkl'), 'rb') as f:\n",
    "    genes_mapping_0 = pickle.load(f)\n",
    "\n",
    "with open(os.path.join(conf.GENES_METADATA_DIR, 'genes_mapping_simplified-1.pkl'), 'rb') as f:\n",
    "    genes_mapping_1 = pickle.load(f)"
   ]
  },
  {
   "cell_type": "markdown",
   "metadata": {},
   "source": [
    "# ClinVar data loading"
   ]
  },
  {
   "cell_type": "code",
   "execution_count": 4,
   "metadata": {},
   "outputs": [
    {
     "data": {
      "text/plain": [
       "'/mnt/phenomexcan_base/data/2019-07-16-gene_condition_source_id'"
      ]
     },
     "metadata": {},
     "output_type": "display_data"
    }
   ],
   "source": [
    "clinvar_data_file = os.path.join(conf.CLINVAR_DATA_FILE)\n",
    "display(clinvar_data_file)\n",
    "clinvar_data = pd.read_csv(clinvar_data_file, sep='\\t')"
   ]
  },
  {
   "cell_type": "code",
   "execution_count": 5,
   "metadata": {},
   "outputs": [
    {
     "data": {
      "text/plain": [
       "(11303, 9)"
      ]
     },
     "metadata": {},
     "output_type": "display_data"
    },
    {
     "data": {
      "text/html": [
       "<div>\n",
       "<style scoped>\n",
       "    .dataframe tbody tr th:only-of-type {\n",
       "        vertical-align: middle;\n",
       "    }\n",
       "\n",
       "    .dataframe tbody tr th {\n",
       "        vertical-align: top;\n",
       "    }\n",
       "\n",
       "    .dataframe thead th {\n",
       "        text-align: right;\n",
       "    }\n",
       "</style>\n",
       "<table border=\"1\" class=\"dataframe\">\n",
       "  <thead>\n",
       "    <tr style=\"text-align: right;\">\n",
       "      <th></th>\n",
       "      <th>#GeneID</th>\n",
       "      <th>AssociatedGenes</th>\n",
       "      <th>RelatedGenes</th>\n",
       "      <th>ConceptID</th>\n",
       "      <th>DiseaseName</th>\n",
       "      <th>SourceName</th>\n",
       "      <th>SourceID</th>\n",
       "      <th>DiseaseMIM</th>\n",
       "      <th>LastUpdated</th>\n",
       "    </tr>\n",
       "  </thead>\n",
       "  <tbody>\n",
       "    <tr>\n",
       "      <th>0</th>\n",
       "      <td>2</td>\n",
       "      <td>A2M</td>\n",
       "      <td>NaN</td>\n",
       "      <td>C0002395</td>\n",
       "      <td>Alzheimer's disease</td>\n",
       "      <td>SNOMED CT</td>\n",
       "      <td>26929004</td>\n",
       "      <td>104300.0</td>\n",
       "      <td>16 Feb 2016</td>\n",
       "    </tr>\n",
       "    <tr>\n",
       "      <th>1</th>\n",
       "      <td>2</td>\n",
       "      <td>A2M</td>\n",
       "      <td>NaN</td>\n",
       "      <td>C3279661</td>\n",
       "      <td>Alpha-2-macroglobulin deficiency</td>\n",
       "      <td>NCBI curation</td>\n",
       "      <td>NaN</td>\n",
       "      <td>614036.0</td>\n",
       "      <td>16 Feb 2016</td>\n",
       "    </tr>\n",
       "    <tr>\n",
       "      <th>2</th>\n",
       "      <td>144568</td>\n",
       "      <td>A2ML1</td>\n",
       "      <td>NaN</td>\n",
       "      <td>C1833692</td>\n",
       "      <td>Otitis media, susceptibility to</td>\n",
       "      <td>NCBI curation</td>\n",
       "      <td>NaN</td>\n",
       "      <td>166760.0</td>\n",
       "      <td>16 Feb 2016</td>\n",
       "    </tr>\n",
       "    <tr>\n",
       "      <th>3</th>\n",
       "      <td>53947</td>\n",
       "      <td>A4GALT</td>\n",
       "      <td>NaN</td>\n",
       "      <td>C3549485</td>\n",
       "      <td>p phenotype</td>\n",
       "      <td>SNOMED CT</td>\n",
       "      <td>24403008</td>\n",
       "      <td>111400.0</td>\n",
       "      <td>16 Feb 2016</td>\n",
       "    </tr>\n",
       "    <tr>\n",
       "      <th>4</th>\n",
       "      <td>8086</td>\n",
       "      <td>AAAS</td>\n",
       "      <td>NaN</td>\n",
       "      <td>C0271742</td>\n",
       "      <td>Glucocorticoid deficiency with achalasia</td>\n",
       "      <td>SNOMED CT</td>\n",
       "      <td>45414006</td>\n",
       "      <td>231550.0</td>\n",
       "      <td>16 Feb 2016</td>\n",
       "    </tr>\n",
       "  </tbody>\n",
       "</table>\n",
       "</div>"
      ],
      "text/plain": [
       "   #GeneID AssociatedGenes RelatedGenes ConceptID  \\\n",
       "0        2             A2M          NaN  C0002395   \n",
       "1        2             A2M          NaN  C3279661   \n",
       "2   144568           A2ML1          NaN  C1833692   \n",
       "3    53947          A4GALT          NaN  C3549485   \n",
       "4     8086            AAAS          NaN  C0271742   \n",
       "\n",
       "                                DiseaseName     SourceName  SourceID  \\\n",
       "0                       Alzheimer's disease      SNOMED CT  26929004   \n",
       "1          Alpha-2-macroglobulin deficiency  NCBI curation       NaN   \n",
       "2           Otitis media, susceptibility to  NCBI curation       NaN   \n",
       "3                               p phenotype      SNOMED CT  24403008   \n",
       "4  Glucocorticoid deficiency with achalasia      SNOMED CT  45414006   \n",
       "\n",
       "   DiseaseMIM  LastUpdated  \n",
       "0    104300.0  16 Feb 2016  \n",
       "1    614036.0  16 Feb 2016  \n",
       "2    166760.0  16 Feb 2016  \n",
       "3    111400.0  16 Feb 2016  \n",
       "4    231550.0  16 Feb 2016  "
      ]
     },
     "metadata": {},
     "output_type": "display_data"
    }
   ],
   "source": [
    "display(clinvar_data.shape)\n",
    "display(clinvar_data.head())"
   ]
  },
  {
   "cell_type": "code",
   "execution_count": 6,
   "metadata": {},
   "outputs": [
    {
     "data": {
      "text/plain": [
       "NCBI curation               3683\n",
       "SNOMED CT                   2213\n",
       "Office of Rare Diseases     1816\n",
       "Human Phenotype Ontology     662\n",
       "OMIM                         580\n",
       "Name: SourceName, dtype: int64"
      ]
     },
     "execution_count": 6,
     "metadata": {},
     "output_type": "execute_result"
    }
   ],
   "source": [
    "clinvar_data['SourceName'].value_counts().head()"
   ]
  },
  {
   "cell_type": "markdown",
   "metadata": {},
   "source": [
    "# Prepare dataframe with gene associations"
   ]
  },
  {
   "cell_type": "code",
   "execution_count": 7,
   "metadata": {},
   "outputs": [
    {
     "data": {
      "text/plain": [
       "(7829, 9)"
      ]
     },
     "metadata": {},
     "output_type": "display_data"
    }
   ],
   "source": [
    "clinvar_non_empty_genes_data = clinvar_data.dropna(subset=['AssociatedGenes'])\n",
    "display(clinvar_non_empty_genes_data.shape)"
   ]
  },
  {
   "cell_type": "code",
   "execution_count": 8,
   "metadata": {},
   "outputs": [
    {
     "data": {
      "text/plain": [
       "Index(['Alzheimer's disease', 'Alpha-2-macroglobulin deficiency',\n",
       "       'Otitis media, susceptibility to', 'p phenotype',\n",
       "       'Glucocorticoid deficiency with achalasia',\n",
       "       'Keratosis palmoplantaris papulosa',\n",
       "       'Charcot-Marie-Tooth disease, type 2N',\n",
       "       'Epileptic encephalopathy, early infantile, 29',\n",
       "       'Combined oxidative phosphorylation deficiency 8',\n",
       "       'Leukoencephalopathy, progressive, with ovarian failure',\n",
       "       ...\n",
       "       'Myopia 21, autosomal dominant', 'Paget disease of bone 6',\n",
       "       'ZNF711-Related X-linked Mental Retardation',\n",
       "       'Seborrhea-like dermatitis with psoriasiform elements', 'PEHO syndrome',\n",
       "       'Oocyte maturation defect 1', 'OOCYTE MATURATION DEFECT 6',\n",
       "       'OOCYTE MATURATION DEFECT 3', 'Acromelic frontonasal dysostosis',\n",
       "       'NEURODEVELOPMENTAL DISORDER WITH MOVEMENT ABNORMALITIES, ABNORMAL GAIT, AND AUTISTIC FEATURES'],\n",
       "      dtype='object', length=5586)"
      ]
     },
     "metadata": {},
     "output_type": "display_data"
    }
   ],
   "source": [
    "clinvar_unique_traits = pd.Index(clinvar_non_empty_genes_data['DiseaseName'].unique())\n",
    "display(clinvar_unique_traits)"
   ]
  },
  {
   "cell_type": "code",
   "execution_count": 9,
   "metadata": {},
   "outputs": [
    {
     "data": {
      "text/plain": [
       "Index(['A2M', 'A2ML1', 'A4GALT', 'AAAS', 'AAGAB', 'AARS', 'AARS2', 'AASS',\n",
       "       'ABAT', 'ABCA1',\n",
       "       ...\n",
       "       'ZNF513', 'ZNF644', 'ZNF687', 'ZNF711', 'ZNF750', 'ZNHIT3', 'ZP1',\n",
       "       'ZP2', 'ZP3', 'ZSWIM6'],\n",
       "      dtype='object', length=4194)"
      ]
     },
     "metadata": {},
     "output_type": "display_data"
    }
   ],
   "source": [
    "# clinvar unique genes\n",
    "clinvar_unique_genes = pd.Index(clinvar_non_empty_genes_data['AssociatedGenes'].unique())\n",
    "display(clinvar_unique_genes)"
   ]
  },
  {
   "cell_type": "code",
   "execution_count": 10,
   "metadata": {},
   "outputs": [],
   "source": [
    "diseases_columns = {}\n",
    "\n",
    "for disease_name, disease_data in clinvar_non_empty_genes_data.groupby('DiseaseName'):\n",
    "    common_genes = disease_data['AssociatedGenes'].unique()\n",
    "    diseases_columns[disease_name] = pd.Series(index=common_genes, data=1)"
   ]
  },
  {
   "cell_type": "code",
   "execution_count": 11,
   "metadata": {},
   "outputs": [],
   "source": [
    "clinvar_genes_associations = pd.DataFrame(data=diseases_columns, index=clinvar_unique_genes, columns=clinvar_unique_traits).fillna(0).astype('uint8')"
   ]
  },
  {
   "cell_type": "code",
   "execution_count": 12,
   "metadata": {},
   "outputs": [],
   "source": [
    "assert clinvar_genes_associations.shape == (clinvar_unique_genes.shape[0] , clinvar_unique_traits.shape[0])"
   ]
  },
  {
   "cell_type": "code",
   "execution_count": 13,
   "metadata": {},
   "outputs": [
    {
     "data": {
      "text/plain": [
       "(4194, 5586)"
      ]
     },
     "execution_count": 13,
     "metadata": {},
     "output_type": "execute_result"
    }
   ],
   "source": [
    "clinvar_genes_associations.shape"
   ]
  },
  {
   "cell_type": "code",
   "execution_count": 14,
   "metadata": {},
   "outputs": [
    {
     "data": {
      "text/html": [
       "<div>\n",
       "<style scoped>\n",
       "    .dataframe tbody tr th:only-of-type {\n",
       "        vertical-align: middle;\n",
       "    }\n",
       "\n",
       "    .dataframe tbody tr th {\n",
       "        vertical-align: top;\n",
       "    }\n",
       "\n",
       "    .dataframe thead th {\n",
       "        text-align: right;\n",
       "    }\n",
       "</style>\n",
       "<table border=\"1\" class=\"dataframe\">\n",
       "  <thead>\n",
       "    <tr style=\"text-align: right;\">\n",
       "      <th></th>\n",
       "      <th>Alzheimer's disease</th>\n",
       "      <th>Alpha-2-macroglobulin deficiency</th>\n",
       "      <th>Otitis media, susceptibility to</th>\n",
       "      <th>p phenotype</th>\n",
       "      <th>Glucocorticoid deficiency with achalasia</th>\n",
       "      <th>Keratosis palmoplantaris papulosa</th>\n",
       "      <th>Charcot-Marie-Tooth disease, type 2N</th>\n",
       "      <th>Epileptic encephalopathy, early infantile, 29</th>\n",
       "      <th>Combined oxidative phosphorylation deficiency 8</th>\n",
       "      <th>Leukoencephalopathy, progressive, with ovarian failure</th>\n",
       "      <th>...</th>\n",
       "      <th>Myopia 21, autosomal dominant</th>\n",
       "      <th>Paget disease of bone 6</th>\n",
       "      <th>ZNF711-Related X-linked Mental Retardation</th>\n",
       "      <th>Seborrhea-like dermatitis with psoriasiform elements</th>\n",
       "      <th>PEHO syndrome</th>\n",
       "      <th>Oocyte maturation defect 1</th>\n",
       "      <th>OOCYTE MATURATION DEFECT 6</th>\n",
       "      <th>OOCYTE MATURATION DEFECT 3</th>\n",
       "      <th>Acromelic frontonasal dysostosis</th>\n",
       "      <th>NEURODEVELOPMENTAL DISORDER WITH MOVEMENT ABNORMALITIES, ABNORMAL GAIT, AND AUTISTIC FEATURES</th>\n",
       "    </tr>\n",
       "  </thead>\n",
       "  <tbody>\n",
       "    <tr>\n",
       "      <th>A2M</th>\n",
       "      <td>1</td>\n",
       "      <td>1</td>\n",
       "      <td>0</td>\n",
       "      <td>0</td>\n",
       "      <td>0</td>\n",
       "      <td>0</td>\n",
       "      <td>0</td>\n",
       "      <td>0</td>\n",
       "      <td>0</td>\n",
       "      <td>0</td>\n",
       "      <td>...</td>\n",
       "      <td>0</td>\n",
       "      <td>0</td>\n",
       "      <td>0</td>\n",
       "      <td>0</td>\n",
       "      <td>0</td>\n",
       "      <td>0</td>\n",
       "      <td>0</td>\n",
       "      <td>0</td>\n",
       "      <td>0</td>\n",
       "      <td>0</td>\n",
       "    </tr>\n",
       "    <tr>\n",
       "      <th>A2ML1</th>\n",
       "      <td>0</td>\n",
       "      <td>0</td>\n",
       "      <td>1</td>\n",
       "      <td>0</td>\n",
       "      <td>0</td>\n",
       "      <td>0</td>\n",
       "      <td>0</td>\n",
       "      <td>0</td>\n",
       "      <td>0</td>\n",
       "      <td>0</td>\n",
       "      <td>...</td>\n",
       "      <td>0</td>\n",
       "      <td>0</td>\n",
       "      <td>0</td>\n",
       "      <td>0</td>\n",
       "      <td>0</td>\n",
       "      <td>0</td>\n",
       "      <td>0</td>\n",
       "      <td>0</td>\n",
       "      <td>0</td>\n",
       "      <td>0</td>\n",
       "    </tr>\n",
       "    <tr>\n",
       "      <th>A4GALT</th>\n",
       "      <td>0</td>\n",
       "      <td>0</td>\n",
       "      <td>0</td>\n",
       "      <td>1</td>\n",
       "      <td>0</td>\n",
       "      <td>0</td>\n",
       "      <td>0</td>\n",
       "      <td>0</td>\n",
       "      <td>0</td>\n",
       "      <td>0</td>\n",
       "      <td>...</td>\n",
       "      <td>0</td>\n",
       "      <td>0</td>\n",
       "      <td>0</td>\n",
       "      <td>0</td>\n",
       "      <td>0</td>\n",
       "      <td>0</td>\n",
       "      <td>0</td>\n",
       "      <td>0</td>\n",
       "      <td>0</td>\n",
       "      <td>0</td>\n",
       "    </tr>\n",
       "    <tr>\n",
       "      <th>AAAS</th>\n",
       "      <td>0</td>\n",
       "      <td>0</td>\n",
       "      <td>0</td>\n",
       "      <td>0</td>\n",
       "      <td>1</td>\n",
       "      <td>0</td>\n",
       "      <td>0</td>\n",
       "      <td>0</td>\n",
       "      <td>0</td>\n",
       "      <td>0</td>\n",
       "      <td>...</td>\n",
       "      <td>0</td>\n",
       "      <td>0</td>\n",
       "      <td>0</td>\n",
       "      <td>0</td>\n",
       "      <td>0</td>\n",
       "      <td>0</td>\n",
       "      <td>0</td>\n",
       "      <td>0</td>\n",
       "      <td>0</td>\n",
       "      <td>0</td>\n",
       "    </tr>\n",
       "    <tr>\n",
       "      <th>AAGAB</th>\n",
       "      <td>0</td>\n",
       "      <td>0</td>\n",
       "      <td>0</td>\n",
       "      <td>0</td>\n",
       "      <td>0</td>\n",
       "      <td>1</td>\n",
       "      <td>0</td>\n",
       "      <td>0</td>\n",
       "      <td>0</td>\n",
       "      <td>0</td>\n",
       "      <td>...</td>\n",
       "      <td>0</td>\n",
       "      <td>0</td>\n",
       "      <td>0</td>\n",
       "      <td>0</td>\n",
       "      <td>0</td>\n",
       "      <td>0</td>\n",
       "      <td>0</td>\n",
       "      <td>0</td>\n",
       "      <td>0</td>\n",
       "      <td>0</td>\n",
       "    </tr>\n",
       "  </tbody>\n",
       "</table>\n",
       "<p>5 rows × 5586 columns</p>\n",
       "</div>"
      ],
      "text/plain": [
       "        Alzheimer's disease  Alpha-2-macroglobulin deficiency  \\\n",
       "A2M                       1                                 1   \n",
       "A2ML1                     0                                 0   \n",
       "A4GALT                    0                                 0   \n",
       "AAAS                      0                                 0   \n",
       "AAGAB                     0                                 0   \n",
       "\n",
       "        Otitis media, susceptibility to  p phenotype  \\\n",
       "A2M                                   0            0   \n",
       "A2ML1                                 1            0   \n",
       "A4GALT                                0            1   \n",
       "AAAS                                  0            0   \n",
       "AAGAB                                 0            0   \n",
       "\n",
       "        Glucocorticoid deficiency with achalasia  \\\n",
       "A2M                                            0   \n",
       "A2ML1                                          0   \n",
       "A4GALT                                         0   \n",
       "AAAS                                           1   \n",
       "AAGAB                                          0   \n",
       "\n",
       "        Keratosis palmoplantaris papulosa  \\\n",
       "A2M                                     0   \n",
       "A2ML1                                   0   \n",
       "A4GALT                                  0   \n",
       "AAAS                                    0   \n",
       "AAGAB                                   1   \n",
       "\n",
       "        Charcot-Marie-Tooth disease, type 2N  \\\n",
       "A2M                                        0   \n",
       "A2ML1                                      0   \n",
       "A4GALT                                     0   \n",
       "AAAS                                       0   \n",
       "AAGAB                                      0   \n",
       "\n",
       "        Epileptic encephalopathy, early infantile, 29  \\\n",
       "A2M                                                 0   \n",
       "A2ML1                                               0   \n",
       "A4GALT                                              0   \n",
       "AAAS                                                0   \n",
       "AAGAB                                               0   \n",
       "\n",
       "        Combined oxidative phosphorylation deficiency 8  \\\n",
       "A2M                                                   0   \n",
       "A2ML1                                                 0   \n",
       "A4GALT                                                0   \n",
       "AAAS                                                  0   \n",
       "AAGAB                                                 0   \n",
       "\n",
       "        Leukoencephalopathy, progressive, with ovarian failure  ...  \\\n",
       "A2M                                                     0       ...   \n",
       "A2ML1                                                   0       ...   \n",
       "A4GALT                                                  0       ...   \n",
       "AAAS                                                    0       ...   \n",
       "AAGAB                                                   0       ...   \n",
       "\n",
       "        Myopia 21, autosomal dominant  Paget disease of bone 6  \\\n",
       "A2M                                 0                        0   \n",
       "A2ML1                               0                        0   \n",
       "A4GALT                              0                        0   \n",
       "AAAS                                0                        0   \n",
       "AAGAB                               0                        0   \n",
       "\n",
       "        ZNF711-Related X-linked Mental Retardation  \\\n",
       "A2M                                              0   \n",
       "A2ML1                                            0   \n",
       "A4GALT                                           0   \n",
       "AAAS                                             0   \n",
       "AAGAB                                            0   \n",
       "\n",
       "        Seborrhea-like dermatitis with psoriasiform elements  PEHO syndrome  \\\n",
       "A2M                                                     0                 0   \n",
       "A2ML1                                                   0                 0   \n",
       "A4GALT                                                  0                 0   \n",
       "AAAS                                                    0                 0   \n",
       "AAGAB                                                   0                 0   \n",
       "\n",
       "        Oocyte maturation defect 1  OOCYTE MATURATION DEFECT 6  \\\n",
       "A2M                              0                           0   \n",
       "A2ML1                            0                           0   \n",
       "A4GALT                           0                           0   \n",
       "AAAS                             0                           0   \n",
       "AAGAB                            0                           0   \n",
       "\n",
       "        OOCYTE MATURATION DEFECT 3  Acromelic frontonasal dysostosis  \\\n",
       "A2M                              0                                 0   \n",
       "A2ML1                            0                                 0   \n",
       "A4GALT                           0                                 0   \n",
       "AAAS                             0                                 0   \n",
       "AAGAB                            0                                 0   \n",
       "\n",
       "        NEURODEVELOPMENTAL DISORDER WITH MOVEMENT ABNORMALITIES, ABNORMAL GAIT, AND AUTISTIC FEATURES  \n",
       "A2M                                                     0                                              \n",
       "A2ML1                                                   0                                              \n",
       "A4GALT                                                  0                                              \n",
       "AAAS                                                    0                                              \n",
       "AAGAB                                                   0                                              \n",
       "\n",
       "[5 rows x 5586 columns]"
      ]
     },
     "execution_count": 14,
     "metadata": {},
     "output_type": "execute_result"
    }
   ],
   "source": [
    "clinvar_genes_associations.fillna(0).head()"
   ]
  },
  {
   "cell_type": "code",
   "execution_count": 15,
   "metadata": {},
   "outputs": [],
   "source": [
    "assert clinvar_genes_associations.isna().sum().sum() == 0"
   ]
  },
  {
   "cell_type": "code",
   "execution_count": 16,
   "metadata": {},
   "outputs": [
    {
     "data": {
      "text/plain": [
       "A2M      1\n",
       "APP      1\n",
       "MPO      1\n",
       "NOS3     1\n",
       "PLAU     1\n",
       "HFE      1\n",
       "FOXN1    0\n",
       "FOXO1    0\n",
       "FTSJ1    0\n",
       "FTO      0\n",
       "Name: Alzheimer's disease, dtype: uint8"
      ]
     },
     "execution_count": 16,
     "metadata": {},
     "output_type": "execute_result"
    }
   ],
   "source": [
    "# some testing\n",
    "clinvar_genes_associations[\"Alzheimer's disease\"].sort_values(ascending=False).head(10)"
   ]
  },
  {
   "cell_type": "code",
   "execution_count": 17,
   "metadata": {},
   "outputs": [
    {
     "data": {
      "text/plain": [
       "Diabetes mellitus type 2          28\n",
       "Primary dilated cardiomyopathy    27\n",
       "Familial cancer of breast         23\n",
       "Mitochondrial diseases            21\n",
       "Acute myeloid leukemia            20\n",
       "dtype: int64"
      ]
     },
     "execution_count": 17,
     "metadata": {},
     "output_type": "execute_result"
    }
   ],
   "source": [
    "clinvar_genes_associations.sum().sort_values(ascending=False).head()"
   ]
  },
  {
   "cell_type": "code",
   "execution_count": 18,
   "metadata": {},
   "outputs": [
    {
     "data": {
      "text/plain": [
       "'/mnt/phenomexcan_base/gene_assoc/clinvar-gene_associations.pkl.xz'"
      ]
     },
     "metadata": {},
     "output_type": "display_data"
    }
   ],
   "source": [
    "# define filename\n",
    "os.makedirs(conf.GENE_ASSOC_DIR, exist_ok=True)\n",
    "clinvar_genes_associations_filename = os.path.join(conf.GENE_ASSOC_DIR, 'clinvar-gene_associations.pkl.xz')\n",
    "display(clinvar_genes_associations_filename)"
   ]
  },
  {
   "cell_type": "code",
   "execution_count": 19,
   "metadata": {},
   "outputs": [],
   "source": [
    "clinvar_genes_associations.index.rename('gene', inplace=True)"
   ]
  },
  {
   "cell_type": "code",
   "execution_count": 20,
   "metadata": {},
   "outputs": [],
   "source": [
    "assert clinvar_genes_associations.dtypes.value_counts().shape[0] == 1"
   ]
  },
  {
   "cell_type": "code",
   "execution_count": 21,
   "metadata": {},
   "outputs": [
    {
     "data": {
      "text/plain": [
       "uint8    5586\n",
       "dtype: int64"
      ]
     },
     "execution_count": 21,
     "metadata": {},
     "output_type": "execute_result"
    }
   ],
   "source": [
    "clinvar_genes_associations.dtypes.value_counts()"
   ]
  },
  {
   "cell_type": "code",
   "execution_count": 22,
   "metadata": {},
   "outputs": [],
   "source": [
    "clinvar_genes_associations.to_pickle(clinvar_genes_associations_filename)"
   ]
  },
  {
   "cell_type": "markdown",
   "metadata": {},
   "source": [
    "# Export to CSV"
   ]
  },
  {
   "cell_type": "code",
   "execution_count": null,
   "metadata": {},
   "outputs": [],
   "source": [
    "os.makedirs(conf.GENE_ASSOC_DIR, exist_ok=True)"
   ]
  },
  {
   "cell_type": "code",
   "execution_count": 23,
   "metadata": {},
   "outputs": [
    {
     "data": {
      "text/plain": [
       "'/mnt/phenomexcan_base/gene_assoc/clinvar-gene_associations.tsv.gz'"
      ]
     },
     "metadata": {},
     "output_type": "display_data"
    }
   ],
   "source": [
    "export_path = os.path.join(conf.GENE_ASSOC_DIR, 'clinvar-gene_associations.tsv.gz')\n",
    "display(export_path)\n",
    "\n",
    "clinvar_genes_associations.to_csv(export_path, sep='\\t')"
   ]
  },
  {
   "cell_type": "markdown",
   "metadata": {},
   "source": [
    "## Distribution of number of genes per trait"
   ]
  },
  {
   "cell_type": "code",
   "execution_count": 24,
   "metadata": {},
   "outputs": [],
   "source": [
    "# import matplotlib.pyplot as plt\n",
    "# import seaborn as sns"
   ]
  },
  {
   "cell_type": "code",
   "execution_count": 25,
   "metadata": {},
   "outputs": [],
   "source": [
    "# clinvar_traits_n_genes = clinvar_genes_associations.sum()\n",
    "# display(clinvar_traits_n_genes.shape)\n",
    "# display(clinvar_traits_n_genes.sort_values(ascending=False).head())"
   ]
  },
  {
   "cell_type": "code",
   "execution_count": 26,
   "metadata": {},
   "outputs": [],
   "source": [
    "# sns.countplot(clinvar_traits_n_genes[clinvar_traits_n_genes <= 10])"
   ]
  },
  {
   "cell_type": "code",
   "execution_count": null,
   "metadata": {},
   "outputs": [],
   "source": []
  }
 ],
 "metadata": {
  "kernelspec": {
   "display_name": "Python 3",
   "language": "python",
   "name": "python3"
  },
  "language_info": {
   "codemirror_mode": {
    "name": "ipython",
    "version": 3
   },
   "file_extension": ".py",
   "mimetype": "text/x-python",
   "name": "python",
   "nbconvert_exporter": "python",
   "pygments_lexer": "ipython3",
   "version": "3.7.6"
  }
 },
 "nbformat": 4,
 "nbformat_minor": 4
}
