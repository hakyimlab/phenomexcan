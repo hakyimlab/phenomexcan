{
 "cells": [
  {
   "cell_type": "code",
   "execution_count": 1,
   "metadata": {},
   "outputs": [],
   "source": [
    "%load_ext autoreload\n",
    "%autoreload 2"
   ]
  },
  {
   "cell_type": "code",
   "execution_count": 2,
   "metadata": {},
   "outputs": [],
   "source": [
    "import os\n",
    "import pickle\n",
    "from glob import glob\n",
    "import re\n",
    "from concurrent.futures import ProcessPoolExecutor, as_completed\n",
    "\n",
    "import numpy as np\n",
    "import pandas as pd\n",
    "#from tqdm import tqdm\n",
    "from scipy import stats\n",
    "from sklearn.metrics import pairwise_distances\n",
    "\n",
    "import utils.constants as constants\n",
    "from data.multixcan_data import MXPhenoInfo, MXPhenoResults\n",
    "from utils.utils import is_number, chunker"
   ]
  },
  {
   "cell_type": "code",
   "execution_count": 3,
   "metadata": {},
   "outputs": [],
   "source": [
    "genes_associations_dir = os.path.join(constants.PREPROCESSED_BASED_DIR, 'gene_associations')"
   ]
  },
  {
   "cell_type": "code",
   "execution_count": 4,
   "metadata": {},
   "outputs": [
    {
     "data": {
      "text/plain": [
       "'/mnt/phenomexcan/results/preprocessed_data/gene_associations/fastenloc'"
      ]
     },
     "metadata": {},
     "output_type": "display_data"
    }
   ],
   "source": [
    "OUTPUT_DIR = os.path.join(genes_associations_dir, 'fastenloc')\n",
    "display(OUTPUT_DIR)\n",
    "os.makedirs(OUTPUT_DIR, exist_ok=True)"
   ]
  },
  {
   "cell_type": "code",
   "execution_count": 5,
   "metadata": {},
   "outputs": [
    {
     "data": {
      "text/plain": [
       "'/mnt/phenomexcan/results/fastenloc/torus_based'"
      ]
     },
     "metadata": {},
     "output_type": "display_data"
    }
   ],
   "source": [
    "FASTENLOC_RESULTS_DIR = os.path.join(constants.RESULTS_DIR, 'fastenloc', 'torus_based')\n",
    "display(FASTENLOC_RESULTS_DIR)"
   ]
  },
  {
   "cell_type": "code",
   "execution_count": 6,
   "metadata": {},
   "outputs": [],
   "source": [
    "N_EXPECTED_PHENOTYPES = 4083\n",
    "N_EXPECTED_TISSUES = 49"
   ]
  },
  {
   "cell_type": "markdown",
   "metadata": {},
   "source": [
    "# Load all S-PrediXcan gene mappings"
   ]
  },
  {
   "cell_type": "code",
   "execution_count": 7,
   "metadata": {},
   "outputs": [],
   "source": [
    "with open(os.path.join(constants.PREPROCESSED_METADATA_DIR, 'genes_mapping_simplified-0.pkl'), 'rb') as f:\n",
    "    genes_mapping_0 = pickle.load(f)\n",
    "\n",
    "with open(os.path.join(constants.PREPROCESSED_METADATA_DIR, 'genes_mapping_simplified-1.pkl'), 'rb') as f:\n",
    "    genes_mapping_1 = pickle.load(f)"
   ]
  },
  {
   "cell_type": "code",
   "execution_count": 8,
   "metadata": {},
   "outputs": [],
   "source": [
    "all_gene_ids = set(genes_mapping_0.keys())"
   ]
  },
  {
   "cell_type": "markdown",
   "metadata": {},
   "source": [
    "# fastENLOC reading functions"
   ]
  },
  {
   "cell_type": "code",
   "execution_count": 9,
   "metadata": {},
   "outputs": [],
   "source": [
    "# create summary of files\n",
    "all_fastenloc_results_files = glob(os.path.join(FASTENLOC_RESULTS_DIR, '*.enloc.sig.out.gz'))\n",
    "all_fastenloc_phenotypes = [f.split('-')[1] for f in all_fastenloc_results_files]\n",
    "all_fastenloc_tissues = [f.split('.enloc.sig.out.gz')[0].split('-')[-1] for f in all_fastenloc_results_files]\n",
    "\n",
    "results_summary = pd.DataFrame({'pheno': all_fastenloc_phenotypes, 'tissue': all_fastenloc_tissues, 'file': all_fastenloc_results_files})"
   ]
  },
  {
   "cell_type": "code",
   "execution_count": 10,
   "metadata": {},
   "outputs": [],
   "source": [
    "assert len(set(all_fastenloc_phenotypes)) == N_EXPECTED_PHENOTYPES\n",
    "assert len(set(all_fastenloc_tissues)) == N_EXPECTED_TISSUES\n",
    "assert len(all_fastenloc_results_files) == int(N_EXPECTED_PHENOTYPES * N_EXPECTED_TISSUES)"
   ]
  },
  {
   "cell_type": "code",
   "execution_count": 11,
   "metadata": {},
   "outputs": [],
   "source": [
    "def read_fe(filename, rename_genes=True): \n",
    "    fe_data = pd.read_csv(filename, sep='\\s+', usecols=[0, 5], header=None).rename(columns={0: 'gene_cluster', 5: 'rcp'})\n",
    "    fe_data = fe_data = fe_data.assign(gene=fe_data['gene_cluster'].apply(lambda x: x.split(':')[0])) \n",
    "    fe_data = fe_data.assign(gene_cluster=fe_data['gene_cluster'].apply(lambda x: x.split(':')[1]))\n",
    "    \n",
    "    # FIXME: is it correct to sum across clusters of a gene? or pick max? Haky thinks summing is fine.\n",
    "    fe_max = fe_data.groupby('gene')['rcp'].sum()\n",
    "    fe_max = fe_max.loc[fe_max.index.intersection(all_gene_ids)]\n",
    "    if rename_genes:\n",
    "        fe_max = fe_max.rename(index=genes_mapping_0)\n",
    "    return fe_max\n",
    "\n",
    "def read_pheno(pheno): \n",
    "    _tmp = results_summary[results_summary['pheno'] == pheno] \n",
    "    if _tmp.shape[0] == 0: \n",
    "        return None \n",
    "     \n",
    "    _res = {} \n",
    "    _all_genes = set() \n",
    "    for idx, _data in _tmp.iterrows(): \n",
    "        #print(_data.tissue) \n",
    "         \n",
    "        tissue_data = read_fe(_data.file) \n",
    "        _res[_data.tissue] = tissue_data \n",
    "        _all_genes.update(tissue_data.index) \n",
    "    \n",
    "    return pd.DataFrame(_res, index=_all_genes).fillna(-1).max(axis=1)"
   ]
  },
  {
   "cell_type": "code",
   "execution_count": 12,
   "metadata": {},
   "outputs": [],
   "source": [
    "# testing\n",
    "t = read_fe(os.path.join(constants.RESULTS_DIR, 'fastenloc', 'torus_based', 'fastenloc-J15-Whole_Blood.enloc.sig.out.gz'))"
   ]
  },
  {
   "cell_type": "code",
   "execution_count": 13,
   "metadata": {},
   "outputs": [
    {
     "data": {
      "text/plain": [
       "'ENSG00000173930'"
      ]
     },
     "execution_count": 13,
     "metadata": {},
     "output_type": "execute_result"
    }
   ],
   "source": [
    "genes_mapping_1['SLCO4C1']"
   ]
  },
  {
   "cell_type": "code",
   "execution_count": 14,
   "metadata": {},
   "outputs": [
    {
     "data": {
      "text/plain": [
       "'RP11-34P13.7'"
      ]
     },
     "execution_count": 14,
     "metadata": {},
     "output_type": "execute_result"
    }
   ],
   "source": [
    "genes_mapping_0['ENSG00000238009']"
   ]
  },
  {
   "cell_type": "code",
   "execution_count": 15,
   "metadata": {},
   "outputs": [
    {
     "data": {
      "text/plain": [
       "SLCO4C1    1.869481e-07\n",
       "ENPP4      2.257609e-08\n",
       "EIF3F      1.147284e-08\n",
       "CREM       1.070100e-08\n",
       "RNF144A    4.772313e-09\n",
       "Name: rcp, dtype: float64"
      ]
     },
     "execution_count": 15,
     "metadata": {},
     "output_type": "execute_result"
    }
   ],
   "source": [
    "t.sort_values(ascending=False).head()"
   ]
  },
  {
   "cell_type": "code",
   "execution_count": 16,
   "metadata": {},
   "outputs": [],
   "source": [
    "assert t['SLCO4C1'] == (1.869e-07 + 1.578e-11 + 5.201e-12 + 1.409e-13 + 2.694e-11)"
   ]
  },
  {
   "cell_type": "code",
   "execution_count": 17,
   "metadata": {},
   "outputs": [],
   "source": [
    "assert t['RP11-34P13.7'] == 0.00, t['RP11-34P13.7']"
   ]
  },
  {
   "cell_type": "markdown",
   "metadata": {},
   "source": [
    "```parallel -j4 'zcat {} | grep ENSG00000049246' ::: fastenloc-1180-*.gz | column -t | sort -k6 -g```"
   ]
  },
  {
   "cell_type": "code",
   "execution_count": 18,
   "metadata": {},
   "outputs": [
    {
     "data": {
      "text/plain": [
       "'J15'"
      ]
     },
     "metadata": {},
     "output_type": "display_data"
    }
   ],
   "source": [
    "display(all_fastenloc_phenotypes[0])\n",
    "t = read_pheno(all_fastenloc_phenotypes[0])"
   ]
  },
  {
   "cell_type": "code",
   "execution_count": 19,
   "metadata": {},
   "outputs": [
    {
     "data": {
      "text/plain": [
       "BMP8B      0.011245\n",
       "OXCT2      0.009545\n",
       "SLCO4C1    0.000965\n",
       "ENPP4      0.000835\n",
       "ENPP5      0.000821\n",
       "dtype: float64"
      ]
     },
     "execution_count": 19,
     "metadata": {},
     "output_type": "execute_result"
    }
   ],
   "source": [
    "t.sort_values(ascending=False).head()"
   ]
  },
  {
   "cell_type": "code",
   "execution_count": 20,
   "metadata": {},
   "outputs": [
    {
     "data": {
      "text/plain": [
       "'ENSG00000116985'"
      ]
     },
     "execution_count": 20,
     "metadata": {},
     "output_type": "execute_result"
    }
   ],
   "source": [
    "genes_mapping_1['BMP8B']"
   ]
  },
  {
   "cell_type": "code",
   "execution_count": 21,
   "metadata": {},
   "outputs": [
    {
     "data": {
      "text/plain": [
       "0.01124506203"
      ]
     },
     "execution_count": 21,
     "metadata": {},
     "output_type": "execute_result"
    }
   ],
   "source": [
    "t.loc['BMP8B']"
   ]
  },
  {
   "cell_type": "code",
   "execution_count": 22,
   "metadata": {},
   "outputs": [],
   "source": [
    "assert t.loc['BMP8B'] == (1.124e-02 + 5.425e-07 + 1.153e-08 + 2.864e-06 + 1.644e-06)"
   ]
  },
  {
   "cell_type": "markdown",
   "metadata": {},
   "source": [
    "# Get all S-MultiXcan phenos"
   ]
  },
  {
   "cell_type": "code",
   "execution_count": 23,
   "metadata": {},
   "outputs": [],
   "source": [
    "all_smultixcan_files = glob(os.path.join(constants.SMULTIXCAN_MASHR_RESULTS_DIR, '*.tsv.gz'))\n",
    "all_smultixcan_phenotypes = [MXPhenoResults(p) for p in all_smultixcan_files]"
   ]
  },
  {
   "cell_type": "code",
   "execution_count": 24,
   "metadata": {},
   "outputs": [],
   "source": [
    "assert len(all_smultixcan_files) == len(all_smultixcan_phenotypes) == N_EXPECTED_PHENOTYPES"
   ]
  },
  {
   "cell_type": "markdown",
   "metadata": {},
   "source": [
    "## Compute results"
   ]
  },
  {
   "cell_type": "code",
   "execution_count": 25,
   "metadata": {},
   "outputs": [],
   "source": [
    "def _get_combined_results(phenos):\n",
    "    return {pheno.pheno_info.get_plain_name() : read_pheno(pheno.pheno_info.pheno_code) for pheno in phenos}"
   ]
  },
  {
   "cell_type": "code",
   "execution_count": null,
   "metadata": {},
   "outputs": [],
   "source": [
    "# testing\n",
    "_tmp = _get_combined_results(all_smultixcan_phenotypes[:4])\n",
    "assert len(_tmp) == 4"
   ]
  },
  {
   "cell_type": "code",
   "execution_count": 40,
   "metadata": {},
   "outputs": [],
   "source": [
    "_pending = read_pheno('C_MYELOID')"
   ]
  },
  {
   "cell_type": "code",
   "execution_count": 41,
   "metadata": {},
   "outputs": [
    {
     "data": {
      "text/plain": [
       "DFNA5       7.883540e-10\n",
       "RPS27       4.784000e-12\n",
       "KANSL1      2.464491e-10\n",
       "BROX        4.186500e-11\n",
       "ARHGEF18    3.673000e-10\n",
       "dtype: float64"
      ]
     },
     "execution_count": 41,
     "metadata": {},
     "output_type": "execute_result"
    }
   ],
   "source": [
    "_pending.head()"
   ]
  },
  {
   "cell_type": "markdown",
   "metadata": {},
   "source": [
    "### pvalues and z-scores"
   ]
  },
  {
   "cell_type": "code",
   "execution_count": 27,
   "metadata": {},
   "outputs": [
    {
     "data": {
      "text/plain": [
       "'/mnt/phenomexcan/results/preprocessed_data/gene_associations/fastenloc/fastenloc-rcp.pkl.xz'"
      ]
     },
     "metadata": {},
     "output_type": "display_data"
    }
   ],
   "source": [
    "output_file = os.path.join(OUTPUT_DIR, f'fastenloc-rcp.pkl.xz')\n",
    "display(output_file)"
   ]
  },
  {
   "cell_type": "code",
   "execution_count": 28,
   "metadata": {},
   "outputs": [],
   "source": [
    "def _run_all(phenotype_chunks, n_jobs=20):\n",
    "    all_results = {}\n",
    "    \n",
    "    with ProcessPoolExecutor(max_workers=n_jobs) as executor:\n",
    "        tasks = [executor.submit(_get_combined_results, chunk) for chunk in phenotype_chunks]\n",
    "        for future in as_completed(tasks):\n",
    "            res = future.result()\n",
    "            all_results.update(res)\n",
    "    \n",
    "    # Save all results from S-PrediXcan\n",
    "    with open(output_file, 'wb') as f:\n",
    "        pickle.dump(all_results, f)"
   ]
  },
  {
   "cell_type": "code",
   "execution_count": 29,
   "metadata": {},
   "outputs": [],
   "source": [
    "# phenotype_chunks = list(chunker(all_smultixcan_phenotypes[:5], 2))\n",
    "phenotype_chunks = chunker(all_smultixcan_phenotypes, 200)"
   ]
  },
  {
   "cell_type": "code",
   "execution_count": null,
   "metadata": {},
   "outputs": [],
   "source": [
    "_run_all(phenotype_chunks)"
   ]
  },
  {
   "cell_type": "markdown",
   "metadata": {},
   "source": [
    "## Load results and save as DataFrame"
   ]
  },
  {
   "cell_type": "code",
   "execution_count": 30,
   "metadata": {},
   "outputs": [],
   "source": [
    "with open(output_file, 'rb') as f:\n",
    "    all_results = pickle.load(f)"
   ]
  },
  {
   "cell_type": "code",
   "execution_count": 46,
   "metadata": {},
   "outputs": [],
   "source": [
    "# all_results['C_MYELOID-LEUKAEMIA-Myeloid_leukaemia'] = _pending"
   ]
  },
  {
   "cell_type": "code",
   "execution_count": 47,
   "metadata": {},
   "outputs": [],
   "source": [
    "# with open(output_file, 'wb') as f:\n",
    "#     pickle.dump(all_results, f)"
   ]
  },
  {
   "cell_type": "code",
   "execution_count": 48,
   "metadata": {},
   "outputs": [],
   "source": [
    "assert len(all_results) == N_EXPECTED_PHENOTYPES"
   ]
  },
  {
   "cell_type": "code",
   "execution_count": 49,
   "metadata": {},
   "outputs": [
    {
     "data": {
      "text/plain": [
       "(22233, 4083)"
      ]
     },
     "metadata": {},
     "output_type": "display_data"
    },
    {
     "data": {
      "text/html": [
       "<div>\n",
       "<style scoped>\n",
       "    .dataframe tbody tr th:only-of-type {\n",
       "        vertical-align: middle;\n",
       "    }\n",
       "\n",
       "    .dataframe tbody tr th {\n",
       "        vertical-align: top;\n",
       "    }\n",
       "\n",
       "    .dataframe thead th {\n",
       "        text-align: right;\n",
       "    }\n",
       "</style>\n",
       "<table border=\"1\" class=\"dataframe\">\n",
       "  <thead>\n",
       "    <tr style=\"text-align: right;\">\n",
       "      <th></th>\n",
       "      <th>L12_NAILDIS-Nail_disorders</th>\n",
       "      <th>J69-Diagnoses_main_ICD10_J69_Pneumonitis_due_to_solids_and_liquids</th>\n",
       "      <th>R07-Diagnoses_main_ICD10_R07_Pain_in_throat_and_chest</th>\n",
       "      <th>M46-Diagnoses_main_ICD10_M46_Other_inflammatory_spondylopathies</th>\n",
       "      <th>20003_2038460150-Treatmentmedication_code_paracetamol</th>\n",
       "      <th>E10-Diagnoses_main_ICD10_E10_Insulindependent_diabetes_mellitus</th>\n",
       "      <th>5134_raw-6mm_strong_meridian_left</th>\n",
       "      <th>E86-Diagnoses_main_ICD10_E86_Volume_depletion</th>\n",
       "      <th>L12_ERYTHEMATOUSOTH-Other_erythematous_conditions</th>\n",
       "      <th>K83-Diagnoses_main_ICD10_K83_Other_diseases_of_biliary_tract</th>\n",
       "      <th>...</th>\n",
       "      <th>20090_394-Type_of_fatoil_used_in_cooking_Unknown_soft_margarine</th>\n",
       "      <th>22617_3512-Job_SOC_coding_Aircraft_pilots_and_flight_engineers</th>\n",
       "      <th>6034-Target_heart_rate_achieved</th>\n",
       "      <th>20003_1140883066-Treatmentmedication_code_insulin_product</th>\n",
       "      <th>22601_41223241-Job_coding_accounts_and_wages_clerkassistantsupervisor_bookkeeper_cost_or_ledger_clerk_audit_assistant_budget_officer_student_loans_officer_paymaster</th>\n",
       "      <th>I82-Diagnoses_main_ICD10_I82_Other_venous_embolism_and_thrombosis</th>\n",
       "      <th>20107_12-Illnesses_of_father_Severe_depression</th>\n",
       "      <th>B07-Diagnoses_main_ICD10_B07_Viral_warts</th>\n",
       "      <th>22601_12253140-Job_coding_sports_centre_manager_riding_school_owner_sports_ground_manager_baths_manager</th>\n",
       "      <th>2664_2-Reason_for_reducing_amount_of_alcohol_drunk_Doctors_advice</th>\n",
       "    </tr>\n",
       "    <tr>\n",
       "      <th>gene_name</th>\n",
       "      <th></th>\n",
       "      <th></th>\n",
       "      <th></th>\n",
       "      <th></th>\n",
       "      <th></th>\n",
       "      <th></th>\n",
       "      <th></th>\n",
       "      <th></th>\n",
       "      <th></th>\n",
       "      <th></th>\n",
       "      <th></th>\n",
       "      <th></th>\n",
       "      <th></th>\n",
       "      <th></th>\n",
       "      <th></th>\n",
       "      <th></th>\n",
       "      <th></th>\n",
       "      <th></th>\n",
       "      <th></th>\n",
       "      <th></th>\n",
       "      <th></th>\n",
       "    </tr>\n",
       "  </thead>\n",
       "  <tbody>\n",
       "    <tr>\n",
       "      <th>A1BG</th>\n",
       "      <td>1.515300e-08</td>\n",
       "      <td>2.216225e-08</td>\n",
       "      <td>0.005937</td>\n",
       "      <td>5.482960e-10</td>\n",
       "      <td>0.006081</td>\n",
       "      <td>0.000458</td>\n",
       "      <td>0.006905</td>\n",
       "      <td>2.241375e-10</td>\n",
       "      <td>1.753100e-09</td>\n",
       "      <td>2.774200e-05</td>\n",
       "      <td>...</td>\n",
       "      <td>0.000292</td>\n",
       "      <td>1.498710e-10</td>\n",
       "      <td>6.837000e-06</td>\n",
       "      <td>0.000714</td>\n",
       "      <td>1.503420e-10</td>\n",
       "      <td>5.317725e-08</td>\n",
       "      <td>5.242997e-04</td>\n",
       "      <td>1.807621e-08</td>\n",
       "      <td>7.545600e-08</td>\n",
       "      <td>0.000154</td>\n",
       "    </tr>\n",
       "    <tr>\n",
       "      <th>A1CF</th>\n",
       "      <td>2.796517e-11</td>\n",
       "      <td>1.696862e-10</td>\n",
       "      <td>0.001970</td>\n",
       "      <td>1.021794e-10</td>\n",
       "      <td>0.010776</td>\n",
       "      <td>0.000006</td>\n",
       "      <td>0.005850</td>\n",
       "      <td>7.833300e-11</td>\n",
       "      <td>2.507511e-10</td>\n",
       "      <td>3.895151e-10</td>\n",
       "      <td>...</td>\n",
       "      <td>0.000225</td>\n",
       "      <td>1.869519e-10</td>\n",
       "      <td>4.081060e-11</td>\n",
       "      <td>0.000270</td>\n",
       "      <td>2.783110e-11</td>\n",
       "      <td>1.083806e-10</td>\n",
       "      <td>3.367239e-07</td>\n",
       "      <td>5.118762e-11</td>\n",
       "      <td>1.050704e-10</td>\n",
       "      <td>0.000449</td>\n",
       "    </tr>\n",
       "    <tr>\n",
       "      <th>A2M</th>\n",
       "      <td>1.926980e-08</td>\n",
       "      <td>7.858200e-09</td>\n",
       "      <td>0.000947</td>\n",
       "      <td>5.466000e-11</td>\n",
       "      <td>0.003225</td>\n",
       "      <td>0.000025</td>\n",
       "      <td>0.003633</td>\n",
       "      <td>4.745490e-10</td>\n",
       "      <td>5.610300e-10</td>\n",
       "      <td>9.633650e-06</td>\n",
       "      <td>...</td>\n",
       "      <td>0.000081</td>\n",
       "      <td>1.608430e-10</td>\n",
       "      <td>3.141280e-06</td>\n",
       "      <td>0.000401</td>\n",
       "      <td>1.096541e-10</td>\n",
       "      <td>3.252662e-08</td>\n",
       "      <td>5.695800e-04</td>\n",
       "      <td>1.128942e-08</td>\n",
       "      <td>1.132000e-08</td>\n",
       "      <td>0.000130</td>\n",
       "    </tr>\n",
       "    <tr>\n",
       "      <th>A2ML1</th>\n",
       "      <td>1.142270e-09</td>\n",
       "      <td>3.492600e-09</td>\n",
       "      <td>0.000428</td>\n",
       "      <td>1.476100e-10</td>\n",
       "      <td>0.004078</td>\n",
       "      <td>0.000247</td>\n",
       "      <td>0.018624</td>\n",
       "      <td>3.055700e-10</td>\n",
       "      <td>3.589500e-10</td>\n",
       "      <td>3.792130e-06</td>\n",
       "      <td>...</td>\n",
       "      <td>0.000197</td>\n",
       "      <td>2.759200e-10</td>\n",
       "      <td>7.272498e-06</td>\n",
       "      <td>0.000148</td>\n",
       "      <td>1.642360e-11</td>\n",
       "      <td>8.912710e-08</td>\n",
       "      <td>8.749040e-04</td>\n",
       "      <td>1.326800e-10</td>\n",
       "      <td>2.235800e-09</td>\n",
       "      <td>0.000005</td>\n",
       "    </tr>\n",
       "    <tr>\n",
       "      <th>A3GALT2</th>\n",
       "      <td>1.997480e-08</td>\n",
       "      <td>5.515000e-10</td>\n",
       "      <td>0.002141</td>\n",
       "      <td>2.412720e-09</td>\n",
       "      <td>0.004778</td>\n",
       "      <td>0.000200</td>\n",
       "      <td>0.141350</td>\n",
       "      <td>1.314787e-10</td>\n",
       "      <td>1.597080e-09</td>\n",
       "      <td>2.149724e-05</td>\n",
       "      <td>...</td>\n",
       "      <td>0.000311</td>\n",
       "      <td>2.357997e-10</td>\n",
       "      <td>1.826130e-09</td>\n",
       "      <td>0.000989</td>\n",
       "      <td>6.655500e-11</td>\n",
       "      <td>1.471335e-10</td>\n",
       "      <td>6.330287e-04</td>\n",
       "      <td>4.799799e-09</td>\n",
       "      <td>1.115040e-07</td>\n",
       "      <td>0.000050</td>\n",
       "    </tr>\n",
       "  </tbody>\n",
       "</table>\n",
       "<p>5 rows × 4083 columns</p>\n",
       "</div>"
      ],
      "text/plain": [
       "           L12_NAILDIS-Nail_disorders  \\\n",
       "gene_name                               \n",
       "A1BG                     1.515300e-08   \n",
       "A1CF                     2.796517e-11   \n",
       "A2M                      1.926980e-08   \n",
       "A2ML1                    1.142270e-09   \n",
       "A3GALT2                  1.997480e-08   \n",
       "\n",
       "           J69-Diagnoses_main_ICD10_J69_Pneumonitis_due_to_solids_and_liquids  \\\n",
       "gene_name                                                                       \n",
       "A1BG                                            2.216225e-08                    \n",
       "A1CF                                            1.696862e-10                    \n",
       "A2M                                             7.858200e-09                    \n",
       "A2ML1                                           3.492600e-09                    \n",
       "A3GALT2                                         5.515000e-10                    \n",
       "\n",
       "           R07-Diagnoses_main_ICD10_R07_Pain_in_throat_and_chest  \\\n",
       "gene_name                                                          \n",
       "A1BG                                                0.005937       \n",
       "A1CF                                                0.001970       \n",
       "A2M                                                 0.000947       \n",
       "A2ML1                                               0.000428       \n",
       "A3GALT2                                             0.002141       \n",
       "\n",
       "           M46-Diagnoses_main_ICD10_M46_Other_inflammatory_spondylopathies  \\\n",
       "gene_name                                                                    \n",
       "A1BG                                            5.482960e-10                 \n",
       "A1CF                                            1.021794e-10                 \n",
       "A2M                                             5.466000e-11                 \n",
       "A2ML1                                           1.476100e-10                 \n",
       "A3GALT2                                         2.412720e-09                 \n",
       "\n",
       "           20003_2038460150-Treatmentmedication_code_paracetamol  \\\n",
       "gene_name                                                          \n",
       "A1BG                                                0.006081       \n",
       "A1CF                                                0.010776       \n",
       "A2M                                                 0.003225       \n",
       "A2ML1                                               0.004078       \n",
       "A3GALT2                                             0.004778       \n",
       "\n",
       "           E10-Diagnoses_main_ICD10_E10_Insulindependent_diabetes_mellitus  \\\n",
       "gene_name                                                                    \n",
       "A1BG                                                0.000458                 \n",
       "A1CF                                                0.000006                 \n",
       "A2M                                                 0.000025                 \n",
       "A2ML1                                               0.000247                 \n",
       "A3GALT2                                             0.000200                 \n",
       "\n",
       "           5134_raw-6mm_strong_meridian_left  \\\n",
       "gene_name                                      \n",
       "A1BG                                0.006905   \n",
       "A1CF                                0.005850   \n",
       "A2M                                 0.003633   \n",
       "A2ML1                               0.018624   \n",
       "A3GALT2                             0.141350   \n",
       "\n",
       "           E86-Diagnoses_main_ICD10_E86_Volume_depletion  \\\n",
       "gene_name                                                  \n",
       "A1BG                                        2.241375e-10   \n",
       "A1CF                                        7.833300e-11   \n",
       "A2M                                         4.745490e-10   \n",
       "A2ML1                                       3.055700e-10   \n",
       "A3GALT2                                     1.314787e-10   \n",
       "\n",
       "           L12_ERYTHEMATOUSOTH-Other_erythematous_conditions  \\\n",
       "gene_name                                                      \n",
       "A1BG                                            1.753100e-09   \n",
       "A1CF                                            2.507511e-10   \n",
       "A2M                                             5.610300e-10   \n",
       "A2ML1                                           3.589500e-10   \n",
       "A3GALT2                                         1.597080e-09   \n",
       "\n",
       "           K83-Diagnoses_main_ICD10_K83_Other_diseases_of_biliary_tract  ...  \\\n",
       "gene_name                                                                ...   \n",
       "A1BG                                            2.774200e-05             ...   \n",
       "A1CF                                            3.895151e-10             ...   \n",
       "A2M                                             9.633650e-06             ...   \n",
       "A2ML1                                           3.792130e-06             ...   \n",
       "A3GALT2                                         2.149724e-05             ...   \n",
       "\n",
       "           20090_394-Type_of_fatoil_used_in_cooking_Unknown_soft_margarine  \\\n",
       "gene_name                                                                    \n",
       "A1BG                                                0.000292                 \n",
       "A1CF                                                0.000225                 \n",
       "A2M                                                 0.000081                 \n",
       "A2ML1                                               0.000197                 \n",
       "A3GALT2                                             0.000311                 \n",
       "\n",
       "           22617_3512-Job_SOC_coding_Aircraft_pilots_and_flight_engineers  \\\n",
       "gene_name                                                                   \n",
       "A1BG                                            1.498710e-10                \n",
       "A1CF                                            1.869519e-10                \n",
       "A2M                                             1.608430e-10                \n",
       "A2ML1                                           2.759200e-10                \n",
       "A3GALT2                                         2.357997e-10                \n",
       "\n",
       "           6034-Target_heart_rate_achieved  \\\n",
       "gene_name                                    \n",
       "A1BG                          6.837000e-06   \n",
       "A1CF                          4.081060e-11   \n",
       "A2M                           3.141280e-06   \n",
       "A2ML1                         7.272498e-06   \n",
       "A3GALT2                       1.826130e-09   \n",
       "\n",
       "           20003_1140883066-Treatmentmedication_code_insulin_product  \\\n",
       "gene_name                                                              \n",
       "A1BG                                                0.000714           \n",
       "A1CF                                                0.000270           \n",
       "A2M                                                 0.000401           \n",
       "A2ML1                                               0.000148           \n",
       "A3GALT2                                             0.000989           \n",
       "\n",
       "           22601_41223241-Job_coding_accounts_and_wages_clerkassistantsupervisor_bookkeeper_cost_or_ledger_clerk_audit_assistant_budget_officer_student_loans_officer_paymaster  \\\n",
       "gene_name                                                                                                                                                                         \n",
       "A1BG                                            1.503420e-10                                                                                                                      \n",
       "A1CF                                            2.783110e-11                                                                                                                      \n",
       "A2M                                             1.096541e-10                                                                                                                      \n",
       "A2ML1                                           1.642360e-11                                                                                                                      \n",
       "A3GALT2                                         6.655500e-11                                                                                                                      \n",
       "\n",
       "           I82-Diagnoses_main_ICD10_I82_Other_venous_embolism_and_thrombosis  \\\n",
       "gene_name                                                                      \n",
       "A1BG                                            5.317725e-08                   \n",
       "A1CF                                            1.083806e-10                   \n",
       "A2M                                             3.252662e-08                   \n",
       "A2ML1                                           8.912710e-08                   \n",
       "A3GALT2                                         1.471335e-10                   \n",
       "\n",
       "           20107_12-Illnesses_of_father_Severe_depression  \\\n",
       "gene_name                                                   \n",
       "A1BG                                         5.242997e-04   \n",
       "A1CF                                         3.367239e-07   \n",
       "A2M                                          5.695800e-04   \n",
       "A2ML1                                        8.749040e-04   \n",
       "A3GALT2                                      6.330287e-04   \n",
       "\n",
       "           B07-Diagnoses_main_ICD10_B07_Viral_warts  \\\n",
       "gene_name                                             \n",
       "A1BG                                   1.807621e-08   \n",
       "A1CF                                   5.118762e-11   \n",
       "A2M                                    1.128942e-08   \n",
       "A2ML1                                  1.326800e-10   \n",
       "A3GALT2                                4.799799e-09   \n",
       "\n",
       "           22601_12253140-Job_coding_sports_centre_manager_riding_school_owner_sports_ground_manager_baths_manager  \\\n",
       "gene_name                                                                                                            \n",
       "A1BG                                            7.545600e-08                                                         \n",
       "A1CF                                            1.050704e-10                                                         \n",
       "A2M                                             1.132000e-08                                                         \n",
       "A2ML1                                           2.235800e-09                                                         \n",
       "A3GALT2                                         1.115040e-07                                                         \n",
       "\n",
       "           2664_2-Reason_for_reducing_amount_of_alcohol_drunk_Doctors_advice  \n",
       "gene_name                                                                     \n",
       "A1BG                                                0.000154                  \n",
       "A1CF                                                0.000449                  \n",
       "A2M                                                 0.000130                  \n",
       "A2ML1                                               0.000005                  \n",
       "A3GALT2                                             0.000050                  \n",
       "\n",
       "[5 rows x 4083 columns]"
      ]
     },
     "metadata": {},
     "output_type": "display_data"
    }
   ],
   "source": [
    "spredixcan_genes_associations = pd.DataFrame(all_results)\n",
    "spredixcan_genes_associations.index.rename('gene_name', inplace=True)\n",
    "\n",
    "assert spredixcan_genes_associations.index.is_unique\n",
    "\n",
    "display(spredixcan_genes_associations.shape)\n",
    "display(spredixcan_genes_associations.head())"
   ]
  },
  {
   "cell_type": "code",
   "execution_count": 50,
   "metadata": {},
   "outputs": [
    {
     "data": {
      "text/plain": [
       "0"
      ]
     },
     "execution_count": 50,
     "metadata": {},
     "output_type": "execute_result"
    }
   ],
   "source": [
    "spredixcan_genes_associations.isna().sum().sum()"
   ]
  },
  {
   "cell_type": "code",
   "execution_count": 51,
   "metadata": {},
   "outputs": [],
   "source": [
    "# _tmp = spredixcan_genes_associations.dropna(axis=1, how='all').columns"
   ]
  },
  {
   "cell_type": "code",
   "execution_count": 52,
   "metadata": {},
   "outputs": [],
   "source": [
    "# spredixcan_genes_associations.columns.difference(_tmp)"
   ]
  },
  {
   "cell_type": "code",
   "execution_count": 53,
   "metadata": {},
   "outputs": [
    {
     "data": {
      "text/plain": [
       "(22233, 4083)"
      ]
     },
     "metadata": {},
     "output_type": "display_data"
    }
   ],
   "source": [
    "# Remove genes with no results\n",
    "spredixcan_genes_associations = spredixcan_genes_associations.dropna(axis=0, how='all')\n",
    "assert spredixcan_genes_associations.isna().sum().sum() == 0\n",
    "\n",
    "display(spredixcan_genes_associations.shape)"
   ]
  },
  {
   "cell_type": "code",
   "execution_count": 55,
   "metadata": {},
   "outputs": [],
   "source": [
    "assert spredixcan_genes_associations.shape == (22233, N_EXPECTED_PHENOTYPES)"
   ]
  },
  {
   "cell_type": "code",
   "execution_count": 56,
   "metadata": {},
   "outputs": [],
   "source": [
    "# some testing\n",
    "\n",
    "# For FinnGen\n",
    "# assert spredixcan_genes_associations.loc['ENSG00000110628', 'C3_TONGUENAS-Malignant_neoplasm_of_other_and_unspecified_parts_of_tongue'] == 0.005086576789507484\n",
    "# assert spredixcan_genes_associations.loc['ENSG00000169783', 'C3_TONGUENAS-Malignant_neoplasm_of_other_and_unspecified_parts_of_tongue'] == 0.3757187601354043\n",
    "# assert spredixcan_genes_associations.loc['ENSG00000137959', 'C3_TONGUENAS-Malignant_neoplasm_of_other_and_unspecified_parts_of_tongue'] == 5.132614371931036e-07\n",
    "# # For ICD10\n",
    "# assert spredixcan_genes_associations.loc['ENSG00000135775', 'N18-Diagnoses_main_ICD10_N18_Chronic_renal_failure'] == 2.795075036067939e-05\n",
    "# assert spredixcan_genes_associations.loc['ENSG00000169783', 'N18-Diagnoses_main_ICD10_N18_Chronic_renal_failure'] == 0.06668736815697908\n",
    "# assert spredixcan_genes_associations.loc['ENSG00000174226', 'N18-Diagnoses_main_ICD10_N18_Chronic_renal_failure'] == 0.02496852053808064"
   ]
  },
  {
   "cell_type": "code",
   "execution_count": 57,
   "metadata": {},
   "outputs": [
    {
     "data": {
      "text/plain": [
       "'/mnt/phenomexcan/results/preprocessed_data/gene_associations/fastenloc/fastenloc-torus-genes_rcp.pkl.xz'"
      ]
     },
     "metadata": {},
     "output_type": "display_data"
    }
   ],
   "source": [
    "# Save\n",
    "spredixcan_genes_associations_filename = os.path.join(OUTPUT_DIR, f'fastenloc-torus-genes_rcp.pkl.xz')\n",
    "display(spredixcan_genes_associations_filename)"
   ]
  },
  {
   "cell_type": "code",
   "execution_count": null,
   "metadata": {},
   "outputs": [],
   "source": [
    "spredixcan_genes_associations.to_pickle(spredixcan_genes_associations_filename)"
   ]
  },
  {
   "cell_type": "markdown",
   "metadata": {},
   "source": [
    "# Export tables for web publication"
   ]
  },
  {
   "cell_type": "code",
   "execution_count": null,
   "metadata": {},
   "outputs": [],
   "source": [
    "import yaml\n",
    "from clustering.biclustering.analysis import Trait"
   ]
  },
  {
   "cell_type": "code",
   "execution_count": null,
   "metadata": {},
   "outputs": [],
   "source": [
    "spredixcan_genes_associations.head()"
   ]
  },
  {
   "cell_type": "code",
   "execution_count": null,
   "metadata": {},
   "outputs": [],
   "source": [
    "ukb_traits = spredixcan_genes_associations.columns.tolist()"
   ]
  },
  {
   "cell_type": "code",
   "execution_count": null,
   "metadata": {},
   "outputs": [],
   "source": [
    "len(ukb_traits)"
   ]
  },
  {
   "cell_type": "code",
   "execution_count": null,
   "metadata": {},
   "outputs": [],
   "source": [
    "ukb_traits[:5]"
   ]
  },
  {
   "cell_type": "code",
   "execution_count": null,
   "metadata": {},
   "outputs": [],
   "source": [
    "file_template = '{trait_code}'"
   ]
  },
  {
   "cell_type": "code",
   "execution_count": null,
   "metadata": {},
   "outputs": [],
   "source": [
    "filename_to_description = {}\n",
    "\n",
    "for t in ukb_traits:\n",
    "    trait = Trait(t)\n",
    "    trait_code = trait.trait_code\n",
    "    filename = file_template.format(trait_code=trait_code)\n",
    "    \n",
    "    trait_plain_name = trait.trait_plain_name\n",
    "    if pd.isnull(trait_plain_name):\n",
    "        trait_plain_name = filename\n",
    "    \n",
    "    filename_to_description[filename] = trait_plain_name"
   ]
  },
  {
   "cell_type": "code",
   "execution_count": null,
   "metadata": {},
   "outputs": [],
   "source": [
    "# should be empty\n",
    "[(k, v) for k, v in filename_to_description.items() if pd.isnull(v)]"
   ]
  },
  {
   "cell_type": "code",
   "execution_count": null,
   "metadata": {},
   "outputs": [],
   "source": [
    "len(filename_to_description)"
   ]
  },
  {
   "cell_type": "code",
   "execution_count": null,
   "metadata": {},
   "outputs": [],
   "source": [
    "with open('/mnt/tmp/ukb_filename_maps.yml', 'w') as outfile:\n",
    "    yaml.dump({'ukb_name': filename_to_description}, outfile, default_flow_style=False, default_style='yaml_dump')"
   ]
  },
  {
   "cell_type": "markdown",
   "metadata": {},
   "source": [
    "Now I need to copy this file to CRI to include only these genes"
   ]
  },
  {
   "cell_type": "code",
   "execution_count": null,
   "metadata": {},
   "outputs": [],
   "source": []
  }
 ],
 "metadata": {
  "kernelspec": {
   "display_name": "Python 3",
   "language": "python",
   "name": "python3"
  },
  "language_info": {
   "codemirror_mode": {
    "name": "ipython",
    "version": 3
   },
   "file_extension": ".py",
   "mimetype": "text/x-python",
   "name": "python",
   "nbconvert_exporter": "python",
   "pygments_lexer": "ipython3",
   "version": "3.7.3"
  }
 },
 "nbformat": 4,
 "nbformat_minor": 4
}
