{
 "cells": [
  {
   "cell_type": "code",
   "execution_count": 1,
   "metadata": {
    "papermill": {
     "duration": 0.132557,
     "end_time": "2020-01-01T14:42:00.321571",
     "exception": false,
     "start_time": "2020-01-01T14:42:00.189014",
     "status": "completed"
    },
    "tags": []
   },
   "outputs": [],
   "source": [
    "%load_ext autoreload\n",
    "%autoreload 2"
   ]
  },
  {
   "cell_type": "code",
   "execution_count": 2,
   "metadata": {
    "papermill": {
     "duration": 6.033014,
     "end_time": "2020-01-01T14:42:06.428327",
     "exception": false,
     "start_time": "2020-01-01T14:42:00.395313",
     "status": "completed"
    },
    "tags": []
   },
   "outputs": [],
   "source": [
    "import os\n",
    "from glob import glob\n",
    "from concurrent.futures import ProcessPoolExecutor, as_completed\n",
    "\n",
    "import numpy as np\n",
    "import pandas as pd\n",
    "\n",
    "import settings as conf\n",
    "import metadata\n",
    "from utils import is_number, chunker\n",
    "from results.multixcan import MXPhenoInfo, MXPhenoResults"
   ]
  },
  {
   "cell_type": "markdown",
   "metadata": {
    "papermill": {
     "duration": 0.069285,
     "end_time": "2020-01-01T14:42:06.578877",
     "exception": false,
     "start_time": "2020-01-01T14:42:06.509592",
     "status": "completed"
    },
    "tags": []
   },
   "source": [
    "# fastENLOC reading functions"
   ]
  },
  {
   "cell_type": "code",
   "execution_count": 3,
   "metadata": {
    "papermill": {
     "duration": 0.180549,
     "end_time": "2020-01-01T14:42:06.837744",
     "exception": false,
     "start_time": "2020-01-01T14:42:06.657195",
     "status": "completed"
    },
    "tags": []
   },
   "outputs": [],
   "source": [
    "with open(conf.FASTENLOC_GTEX_TISSUES_FILE, 'r') as f:\n",
    "    FASTENLOC_TISSUES_NAMES = set([x.strip() for x in f.readlines()])"
   ]
  },
  {
   "cell_type": "code",
   "execution_count": 4,
   "metadata": {
    "papermill": {
     "duration": 39.960746,
     "end_time": "2020-01-01T14:42:46.876541",
     "exception": false,
     "start_time": "2020-01-01T14:42:06.915795",
     "status": "completed"
    },
    "tags": []
   },
   "outputs": [
    {
     "data": {
      "text/plain": [
       "'/mnt/phenomexcan_base/results/fastenloc/rapid_gwas_project/**/*.enloc.sig.out'"
      ]
     },
     "metadata": {},
     "output_type": "display_data"
    }
   ],
   "source": [
    "# create summary of files\n",
    "_path = os.path.join(conf.FASTENLOC_RESULTS_DIR['RapidGWASProject'], '**/*.enloc.sig.out')\n",
    "display(_path)\n",
    "all_fastenloc_results_files = glob(_path)"
   ]
  },
  {
   "cell_type": "code",
   "execution_count": 5,
   "metadata": {
    "papermill": {
     "duration": 0.118879,
     "end_time": "2020-01-01T14:42:47.074110",
     "exception": false,
     "start_time": "2020-01-01T14:42:46.955231",
     "status": "completed"
    },
    "tags": []
   },
   "outputs": [
    {
     "data": {
      "text/plain": [
       "198401"
      ]
     },
     "execution_count": 5,
     "metadata": {},
     "output_type": "execute_result"
    }
   ],
   "source": [
    "len(all_fastenloc_results_files)"
   ]
  },
  {
   "cell_type": "code",
   "execution_count": 6,
   "metadata": {
    "papermill": {
     "duration": 0.096255,
     "end_time": "2020-01-01T14:42:47.250129",
     "exception": false,
     "start_time": "2020-01-01T14:42:47.153874",
     "status": "completed"
    },
    "tags": []
   },
   "outputs": [],
   "source": [
    "PHENO_CODES = set(metadata.RAPID_GWAS_PHENO_INFO.index)"
   ]
  },
  {
   "cell_type": "code",
   "execution_count": 7,
   "metadata": {
    "papermill": {
     "duration": 0.107366,
     "end_time": "2020-01-01T14:42:47.434820",
     "exception": false,
     "start_time": "2020-01-01T14:42:47.327454",
     "status": "completed"
    },
    "tags": []
   },
   "outputs": [
    {
     "data": {
      "text/plain": [
       "4359"
      ]
     },
     "execution_count": 7,
     "metadata": {},
     "output_type": "execute_result"
    }
   ],
   "source": [
    "len(PHENO_CODES)"
   ]
  },
  {
   "cell_type": "code",
   "execution_count": 8,
   "metadata": {
    "papermill": {
     "duration": 1.115712,
     "end_time": "2020-01-01T14:42:48.625360",
     "exception": false,
     "start_time": "2020-01-01T14:42:47.509648",
     "status": "completed"
    },
    "tags": []
   },
   "outputs": [],
   "source": [
    "phenos = []\n",
    "tissues = []\n",
    "\n",
    "for f in all_fastenloc_results_files:\n",
    "    f = os.path.basename(f)\n",
    "    split = f.split('-')\n",
    "    \n",
    "    tiss = split[-1].split('.')[0]\n",
    "    if tiss not in FASTENLOC_TISSUES_NAMES:\n",
    "        tiss = '-'.join(split[-2:]).split('.')[0]\n",
    "    \n",
    "    phen = split[1]\n",
    "    if phen not in PHENO_CODES:\n",
    "        phen = '-'.join(split[1:3])\n",
    "    \n",
    "    phenos.append(phen)\n",
    "    tissues.append(tiss)\n",
    "\n",
    "results_summary = pd.DataFrame({'pheno': phenos, 'tissue': tissues, 'file': all_fastenloc_results_files})"
   ]
  },
  {
   "cell_type": "code",
   "execution_count": 9,
   "metadata": {
    "papermill": {
     "duration": 0.117795,
     "end_time": "2020-01-01T14:42:48.820284",
     "exception": false,
     "start_time": "2020-01-01T14:42:48.702489",
     "status": "completed"
    },
    "tags": []
   },
   "outputs": [
    {
     "data": {
      "text/plain": [
       "(198401, 3)"
      ]
     },
     "metadata": {},
     "output_type": "display_data"
    }
   ],
   "source": [
    "display(results_summary.shape)\n",
    "assert results_summary.shape[0] == int(conf.FASTENLOC_EXPECTED_PHENOTYPES['RapidGWASProject'] * conf.GTEX_MODELS_N_EXPECTED_TISSUES)"
   ]
  },
  {
   "cell_type": "code",
   "execution_count": 10,
   "metadata": {
    "papermill": {
     "duration": 0.202464,
     "end_time": "2020-01-01T14:42:49.097264",
     "exception": false,
     "start_time": "2020-01-01T14:42:48.894800",
     "status": "completed"
    },
    "tags": []
   },
   "outputs": [
    {
     "data": {
      "text/html": [
       "<div>\n",
       "<style scoped>\n",
       "    .dataframe tbody tr th:only-of-type {\n",
       "        vertical-align: middle;\n",
       "    }\n",
       "\n",
       "    .dataframe tbody tr th {\n",
       "        vertical-align: top;\n",
       "    }\n",
       "\n",
       "    .dataframe thead th {\n",
       "        text-align: right;\n",
       "    }\n",
       "</style>\n",
       "<table border=\"1\" class=\"dataframe\">\n",
       "  <thead>\n",
       "    <tr style=\"text-align: right;\">\n",
       "      <th></th>\n",
       "      <th>pheno</th>\n",
       "      <th>tissue</th>\n",
       "      <th>file</th>\n",
       "    </tr>\n",
       "  </thead>\n",
       "  <tbody>\n",
       "    <tr>\n",
       "      <th>0</th>\n",
       "      <td>22617_9219</td>\n",
       "      <td>Brain_Spinal_cord_cervical_c-1</td>\n",
       "      <td>/mnt/phenomexcan_base/results/fastenloc/rapid_...</td>\n",
       "    </tr>\n",
       "    <tr>\n",
       "      <th>1</th>\n",
       "      <td>22617_9219</td>\n",
       "      <td>Artery_Coronary</td>\n",
       "      <td>/mnt/phenomexcan_base/results/fastenloc/rapid_...</td>\n",
       "    </tr>\n",
       "    <tr>\n",
       "      <th>2</th>\n",
       "      <td>22617_9219</td>\n",
       "      <td>Brain_Cortex</td>\n",
       "      <td>/mnt/phenomexcan_base/results/fastenloc/rapid_...</td>\n",
       "    </tr>\n",
       "    <tr>\n",
       "      <th>3</th>\n",
       "      <td>22617_9219</td>\n",
       "      <td>Brain_Substantia_nigra</td>\n",
       "      <td>/mnt/phenomexcan_base/results/fastenloc/rapid_...</td>\n",
       "    </tr>\n",
       "    <tr>\n",
       "      <th>4</th>\n",
       "      <td>22617_9219</td>\n",
       "      <td>Breast_Mammary_Tissue</td>\n",
       "      <td>/mnt/phenomexcan_base/results/fastenloc/rapid_...</td>\n",
       "    </tr>\n",
       "  </tbody>\n",
       "</table>\n",
       "</div>"
      ],
      "text/plain": [
       "        pheno                          tissue  \\\n",
       "0  22617_9219  Brain_Spinal_cord_cervical_c-1   \n",
       "1  22617_9219                 Artery_Coronary   \n",
       "2  22617_9219                    Brain_Cortex   \n",
       "3  22617_9219          Brain_Substantia_nigra   \n",
       "4  22617_9219           Breast_Mammary_Tissue   \n",
       "\n",
       "                                                file  \n",
       "0  /mnt/phenomexcan_base/results/fastenloc/rapid_...  \n",
       "1  /mnt/phenomexcan_base/results/fastenloc/rapid_...  \n",
       "2  /mnt/phenomexcan_base/results/fastenloc/rapid_...  \n",
       "3  /mnt/phenomexcan_base/results/fastenloc/rapid_...  \n",
       "4  /mnt/phenomexcan_base/results/fastenloc/rapid_...  "
      ]
     },
     "execution_count": 10,
     "metadata": {},
     "output_type": "execute_result"
    }
   ],
   "source": [
    "results_summary.head()"
   ]
  },
  {
   "cell_type": "code",
   "execution_count": 11,
   "metadata": {
    "papermill": {
     "duration": 0.131322,
     "end_time": "2020-01-01T14:42:49.303053",
     "exception": false,
     "start_time": "2020-01-01T14:42:49.171731",
     "status": "completed"
    },
    "tags": []
   },
   "outputs": [
    {
     "data": {
      "text/plain": [
       "(4049,)"
      ]
     },
     "execution_count": 11,
     "metadata": {},
     "output_type": "execute_result"
    }
   ],
   "source": [
    "results_summary['pheno'].unique().shape"
   ]
  },
  {
   "cell_type": "code",
   "execution_count": 12,
   "metadata": {
    "papermill": {
     "duration": 0.146826,
     "end_time": "2020-01-01T14:42:49.537990",
     "exception": false,
     "start_time": "2020-01-01T14:42:49.391164",
     "status": "completed"
    },
    "tags": []
   },
   "outputs": [],
   "source": [
    "assert np.all([t in PHENO_CODES for t in results_summary['pheno'].unique()])"
   ]
  },
  {
   "cell_type": "code",
   "execution_count": 13,
   "metadata": {
    "papermill": {
     "duration": 0.146905,
     "end_time": "2020-01-01T14:42:49.764111",
     "exception": false,
     "start_time": "2020-01-01T14:42:49.617206",
     "status": "completed"
    },
    "tags": []
   },
   "outputs": [],
   "source": [
    "assert results_summary['tissue'].unique().shape[0] == 49"
   ]
  },
  {
   "cell_type": "code",
   "execution_count": 14,
   "metadata": {
    "papermill": {
     "duration": 0.132117,
     "end_time": "2020-01-01T14:42:49.974356",
     "exception": false,
     "start_time": "2020-01-01T14:42:49.842239",
     "status": "completed"
    },
    "tags": []
   },
   "outputs": [],
   "source": [
    "assert np.all([t in FASTENLOC_TISSUES_NAMES for t in results_summary['tissue'].unique()])"
   ]
  },
  {
   "cell_type": "code",
   "execution_count": 15,
   "metadata": {
    "papermill": {
     "duration": 0.141492,
     "end_time": "2020-01-01T14:42:50.201566",
     "exception": false,
     "start_time": "2020-01-01T14:42:50.060074",
     "status": "completed"
    },
    "tags": []
   },
   "outputs": [],
   "source": [
    "_all_tissues_in_results = results_summary['tissue'].unique()\n",
    "assert np.all([t in _all_tissues_in_results for t in FASTENLOC_TISSUES_NAMES])"
   ]
  },
  {
   "cell_type": "code",
   "execution_count": 16,
   "metadata": {
    "papermill": {
     "duration": 0.112839,
     "end_time": "2020-01-01T14:42:50.393554",
     "exception": false,
     "start_time": "2020-01-01T14:42:50.280715",
     "status": "completed"
    },
    "tags": []
   },
   "outputs": [],
   "source": [
    "assert len(all_fastenloc_results_files) == int(conf.SMULTIXCAN_EXPECTED_PHENOTYPES['RapidGWASProject'] * conf.GTEX_MODELS_N_EXPECTED_TISSUES)"
   ]
  },
  {
   "cell_type": "code",
   "execution_count": 17,
   "metadata": {
    "papermill": {
     "duration": 0.110488,
     "end_time": "2020-01-01T14:42:50.587778",
     "exception": false,
     "start_time": "2020-01-01T14:42:50.477290",
     "status": "completed"
    },
    "tags": []
   },
   "outputs": [],
   "source": [
    "def read_fe(filename): \n",
    "    fe_data = pd.read_csv(filename, sep='\\s+', usecols=[0, 5], header=None).rename(columns={0: 'gene_cluster', 5: 'rcp'})\n",
    "    fe_data = fe_data = fe_data.assign(gene=fe_data['gene_cluster'].apply(lambda x: x.split(':')[0])) \n",
    "    fe_data = fe_data.assign(gene_cluster=fe_data['gene_cluster'].apply(lambda x: x.split(':')[1]))\n",
    "    \n",
    "    fe_max = fe_data.groupby('gene')['rcp'].sum()\n",
    "    return fe_max\n",
    "\n",
    "def read_pheno(pheno): \n",
    "    _tmp = results_summary[results_summary['pheno'] == pheno] \n",
    "    if _tmp.shape[0] == 0: \n",
    "        return None \n",
    "     \n",
    "    _res = {} \n",
    "    _all_genes = set() \n",
    "    for idx, _data in _tmp.iterrows(): \n",
    "        tissue_data = read_fe(_data.file) \n",
    "        _res[_data.tissue] = tissue_data \n",
    "        _all_genes.update(tissue_data.index) \n",
    "    \n",
    "    return pd.DataFrame(_res, index=_all_genes).fillna(-1).max(axis=1)"
   ]
  },
  {
   "cell_type": "markdown",
   "metadata": {
    "papermill": {
     "duration": 0.07331,
     "end_time": "2020-01-01T14:42:50.737970",
     "exception": false,
     "start_time": "2020-01-01T14:42:50.664660",
     "status": "completed"
    },
    "tags": []
   },
   "source": [
    "### Testing"
   ]
  },
  {
   "cell_type": "code",
   "execution_count": 18,
   "metadata": {
    "papermill": {
     "duration": 0.566742,
     "end_time": "2020-01-01T14:42:51.382127",
     "exception": false,
     "start_time": "2020-01-01T14:42:50.815385",
     "status": "completed"
    },
    "tags": []
   },
   "outputs": [],
   "source": [
    "# testing\n",
    "t = read_fe(os.path.join(conf.FASTENLOC_RESULTS_DIR['RapidGWASProject'], 'J15/fastenloc-J15-Whole_Blood.enloc.sig.out'))"
   ]
  },
  {
   "cell_type": "code",
   "execution_count": 19,
   "metadata": {
    "papermill": {
     "duration": 0.110021,
     "end_time": "2020-01-01T14:42:51.570229",
     "exception": false,
     "start_time": "2020-01-01T14:42:51.460208",
     "status": "completed"
    },
    "tags": []
   },
   "outputs": [
    {
     "data": {
      "text/plain": [
       "gene\n",
       "ENSG00000173930    1.869481e-07\n",
       "ENSG00000260329    5.090216e-08\n",
       "ENSG00000001561    2.257609e-08\n",
       "ENSG00000231769    2.001572e-08\n",
       "ENSG00000175390    1.147284e-08\n",
       "Name: rcp, dtype: float64"
      ]
     },
     "execution_count": 19,
     "metadata": {},
     "output_type": "execute_result"
    }
   ],
   "source": [
    "t.sort_values(ascending=False).head()"
   ]
  },
  {
   "cell_type": "code",
   "execution_count": 20,
   "metadata": {
    "papermill": {
     "duration": 0.130401,
     "end_time": "2020-01-01T14:42:51.779843",
     "exception": false,
     "start_time": "2020-01-01T14:42:51.649442",
     "status": "completed"
    },
    "tags": []
   },
   "outputs": [],
   "source": [
    "_gid = metadata.GENE_NAME_TO_ID_MAP['SLCO4C1']\n",
    "assert t[_gid] == (1.869e-07 + 1.578e-11 + 5.201e-12 + 1.409e-13 + 2.694e-11)"
   ]
  },
  {
   "cell_type": "code",
   "execution_count": 21,
   "metadata": {
    "papermill": {
     "duration": 0.106699,
     "end_time": "2020-01-01T14:42:51.966494",
     "exception": false,
     "start_time": "2020-01-01T14:42:51.859795",
     "status": "completed"
    },
    "tags": []
   },
   "outputs": [],
   "source": [
    "_gid = metadata.GENE_NAME_TO_ID_MAP['RP11-34P13.7']\n",
    "assert t[_gid] == 0.00, t[_gid]"
   ]
  },
  {
   "cell_type": "markdown",
   "metadata": {
    "papermill": {
     "duration": 0.0743,
     "end_time": "2020-01-01T14:42:52.116360",
     "exception": false,
     "start_time": "2020-01-01T14:42:52.042060",
     "status": "completed"
    },
    "tags": []
   },
   "source": [
    "```parallel -j4 'zcat {} | grep ENSG00000049246' ::: fastenloc-1180-*.gz | column -t | sort -k6 -g```"
   ]
  },
  {
   "cell_type": "code",
   "execution_count": 22,
   "metadata": {
    "papermill": {
     "duration": 17.639054,
     "end_time": "2020-01-01T14:43:09.829463",
     "exception": false,
     "start_time": "2020-01-01T14:42:52.190409",
     "status": "completed"
    },
    "tags": []
   },
   "outputs": [],
   "source": [
    "t = read_pheno('J15')"
   ]
  },
  {
   "cell_type": "code",
   "execution_count": 23,
   "metadata": {
    "papermill": {
     "duration": 0.123097,
     "end_time": "2020-01-01T14:43:10.049492",
     "exception": false,
     "start_time": "2020-01-01T14:43:09.926395",
     "status": "completed"
    },
    "tags": []
   },
   "outputs": [
    {
     "data": {
      "text/plain": [
       "ENSG00000116985    0.011245\n",
       "ENSG00000198754    0.009545\n",
       "ENSG00000279039    0.002292\n",
       "ENSG00000173930    0.000965\n",
       "ENSG00000231769    0.000865\n",
       "dtype: float64"
      ]
     },
     "execution_count": 23,
     "metadata": {},
     "output_type": "execute_result"
    }
   ],
   "source": [
    "t.sort_values(ascending=False).head()"
   ]
  },
  {
   "cell_type": "code",
   "execution_count": 24,
   "metadata": {
    "papermill": {
     "duration": 0.118584,
     "end_time": "2020-01-01T14:43:10.249724",
     "exception": false,
     "start_time": "2020-01-01T14:43:10.131140",
     "status": "completed"
    },
    "tags": []
   },
   "outputs": [
    {
     "data": {
      "text/plain": [
       "0.01124506203"
      ]
     },
     "execution_count": 24,
     "metadata": {},
     "output_type": "execute_result"
    }
   ],
   "source": [
    "t.loc['ENSG00000116985']"
   ]
  },
  {
   "cell_type": "code",
   "execution_count": 25,
   "metadata": {
    "papermill": {
     "duration": 0.189426,
     "end_time": "2020-01-01T14:43:10.519167",
     "exception": false,
     "start_time": "2020-01-01T14:43:10.329741",
     "status": "completed"
    },
    "tags": []
   },
   "outputs": [],
   "source": [
    "assert t.loc['ENSG00000116985'] == (1.124e-02 + 5.425e-07 + 1.153e-08 + 2.864e-06 + 1.644e-06)"
   ]
  },
  {
   "cell_type": "markdown",
   "metadata": {
    "papermill": {
     "duration": 0.07342,
     "end_time": "2020-01-01T14:43:10.667506",
     "exception": false,
     "start_time": "2020-01-01T14:43:10.594086",
     "status": "completed"
    },
    "tags": []
   },
   "source": [
    "# ENLOC reading functions"
   ]
  },
  {
   "cell_type": "code",
   "execution_count": 26,
   "metadata": {
    "papermill": {
     "duration": 0.111216,
     "end_time": "2020-01-01T14:43:10.855128",
     "exception": false,
     "start_time": "2020-01-01T14:43:10.743912",
     "status": "completed"
    },
    "tags": []
   },
   "outputs": [
    {
     "data": {
      "text/plain": [
       "'/mnt/phenomexcan_base/results/fastenloc/gtex_gwas'"
      ]
     },
     "metadata": {},
     "output_type": "display_data"
    }
   ],
   "source": [
    "display(conf.FASTENLOC_RESULTS_DIR['GTEX_GWAS'])"
   ]
  },
  {
   "cell_type": "code",
   "execution_count": 27,
   "metadata": {
    "papermill": {
     "duration": 0.108373,
     "end_time": "2020-01-01T14:43:11.037607",
     "exception": false,
     "start_time": "2020-01-01T14:43:10.929234",
     "status": "completed"
    },
    "tags": []
   },
   "outputs": [],
   "source": [
    "def read_enloc(enloc_result_path):\n",
    "    enloc_filename = enloc_result_path.split('/')[-1]\n",
    "    phenotype = enloc_filename.split('__PM__')[0]\n",
    "    tissue = enloc_filename.split('__PM__')[1].split('.enloc.rst.gz')[0]\n",
    "    \n",
    "    enloc_result = pd.read_csv(enloc_result_path, sep='\\s+')\n",
    "    enloc_result = enloc_result.assign(gene_id=enloc_result['molecular_qtl_trait'].apply(lambda x: x.split('.')[0]))\n",
    "    \n",
    "    return enloc_result.groupby('gene_id')['locus_rcp'].max().rename(tissue)\n",
    "\n",
    "def read_enloc_pheno(phenotype_code):\n",
    "    all_tissues_data = {}\n",
    "    all_genes = set()\n",
    "    \n",
    "    all_phenotype_files = glob(os.path.join(conf.FASTENLOC_RESULTS_DIR['GTEX_GWAS'], phenotype_code, f'{phenotype_code}__PM__*.enloc.rst'))\n",
    "    \n",
    "    for f in all_phenotype_files:\n",
    "        f_data = read_enloc(f)\n",
    "        all_tissues_data[f] = f_data\n",
    "        all_genes.update(f_data.index)\n",
    "    \n",
    "    return pd.DataFrame(all_tissues_data, index=all_genes).fillna(-1).max(axis=1)"
   ]
  },
  {
   "cell_type": "code",
   "execution_count": 28,
   "metadata": {
    "papermill": {
     "duration": 2.492493,
     "end_time": "2020-01-01T14:43:13.616195",
     "exception": false,
     "start_time": "2020-01-01T14:43:11.123702",
     "status": "completed"
    },
    "tags": []
   },
   "outputs": [],
   "source": [
    "t = read_enloc_pheno('SSGAC_Education_Years_Pooled')"
   ]
  },
  {
   "cell_type": "code",
   "execution_count": 29,
   "metadata": {
    "papermill": {
     "duration": 0.125029,
     "end_time": "2020-01-01T14:43:13.889160",
     "exception": false,
     "start_time": "2020-01-01T14:43:13.764131",
     "status": "completed"
    },
    "tags": []
   },
   "outputs": [
    {
     "data": {
      "text/plain": [
       "ENSG00000165476    0.052\n",
       "ENSG00000166090    0.001\n",
       "ENSG00000253892    0.000\n",
       "ENSG00000105976    0.000\n",
       "ENSG00000242618    0.000\n",
       "dtype: float64"
      ]
     },
     "execution_count": 29,
     "metadata": {},
     "output_type": "execute_result"
    }
   ],
   "source": [
    "t.head()"
   ]
  },
  {
   "cell_type": "code",
   "execution_count": 30,
   "metadata": {
    "papermill": {
     "duration": 0.111656,
     "end_time": "2020-01-01T14:43:14.076063",
     "exception": false,
     "start_time": "2020-01-01T14:43:13.964407",
     "status": "completed"
    },
    "tags": []
   },
   "outputs": [],
   "source": [
    "# testing\n",
    "assert t.loc['ENSG00000106113'] == 0.00\n",
    "assert t.loc['ENSG00000164050'] == 0.006\n",
    "assert t.loc['ENSG00000081377'] == 0.317"
   ]
  },
  {
   "cell_type": "markdown",
   "metadata": {
    "papermill": {
     "duration": 0.07472,
     "end_time": "2020-01-01T14:43:14.230518",
     "exception": false,
     "start_time": "2020-01-01T14:43:14.155798",
     "status": "completed"
    },
    "tags": []
   },
   "source": [
    "# Get Rapid GWAS phenotypes"
   ]
  },
  {
   "cell_type": "code",
   "execution_count": 31,
   "metadata": {
    "papermill": {
     "duration": 2.91436,
     "end_time": "2020-01-01T14:43:17.223430",
     "exception": false,
     "start_time": "2020-01-01T14:43:14.309070",
     "status": "completed"
    },
    "tags": []
   },
   "outputs": [],
   "source": [
    "all_smultixcan_files = glob(os.path.join(conf.SMULTIXCAN_RESULTS_DIR['RapidGWASProject'], '*.tsv.gz'))\n",
    "all_smultixcan_phenotypes = [MXPhenoResults(p) for p in all_smultixcan_files]"
   ]
  },
  {
   "cell_type": "code",
   "execution_count": 32,
   "metadata": {
    "papermill": {
     "duration": 0.112869,
     "end_time": "2020-01-01T14:43:17.418185",
     "exception": false,
     "start_time": "2020-01-01T14:43:17.305316",
     "status": "completed"
    },
    "tags": []
   },
   "outputs": [],
   "source": [
    "assert len(all_smultixcan_files) == len(all_smultixcan_phenotypes) == conf.SMULTIXCAN_EXPECTED_PHENOTYPES['RapidGWASProject']"
   ]
  },
  {
   "cell_type": "code",
   "execution_count": 33,
   "metadata": {
    "papermill": {
     "duration": 0.116331,
     "end_time": "2020-01-01T14:43:17.609920",
     "exception": false,
     "start_time": "2020-01-01T14:43:17.493589",
     "status": "completed"
    },
    "tags": []
   },
   "outputs": [
    {
     "data": {
      "text/plain": [
       "['/mnt/phenomexcan_base/results/smultixcan/rapid_gwas_project/smultixcan_20096_1_ccn30.tsv.gz',\n",
       " '/mnt/phenomexcan_base/results/smultixcan/rapid_gwas_project/smultixcan_2345_ccn30.tsv.gz',\n",
       " '/mnt/phenomexcan_base/results/smultixcan/rapid_gwas_project/smultixcan_N49_ccn30.tsv.gz',\n",
       " '/mnt/phenomexcan_base/results/smultixcan/rapid_gwas_project/smultixcan_100011_raw_ccn30.tsv.gz',\n",
       " '/mnt/phenomexcan_base/results/smultixcan/rapid_gwas_project/smultixcan_5221_ccn30.tsv.gz']"
      ]
     },
     "execution_count": 33,
     "metadata": {},
     "output_type": "execute_result"
    }
   ],
   "source": [
    "all_smultixcan_files[:5]"
   ]
  },
  {
   "cell_type": "markdown",
   "metadata": {
    "papermill": {
     "duration": 0.075453,
     "end_time": "2020-01-01T14:43:17.761683",
     "exception": false,
     "start_time": "2020-01-01T14:43:17.686230",
     "status": "completed"
    },
    "tags": []
   },
   "source": [
    "# Get GTEx GWAS phenotypes"
   ]
  },
  {
   "cell_type": "code",
   "execution_count": 34,
   "metadata": {
    "papermill": {
     "duration": 0.147646,
     "end_time": "2020-01-01T14:43:17.995200",
     "exception": false,
     "start_time": "2020-01-01T14:43:17.847554",
     "status": "completed"
    },
    "tags": []
   },
   "outputs": [
    {
     "data": {
      "text/plain": [
       "'/mnt/phenomexcan_base/results/smultixcan/gtex_gwas/*'"
      ]
     },
     "metadata": {},
     "output_type": "display_data"
    }
   ],
   "source": [
    "_path = os.path.join(conf.SMULTIXCAN_RESULTS_DIR['GTEX_GWAS'], '*')\n",
    "display(_path)\n",
    "all_extra_results_files = glob(_path)\n",
    "assert len(all_extra_results_files) == conf.SMULTIXCAN_EXPECTED_PHENOTYPES['GTEX_GWAS']"
   ]
  },
  {
   "cell_type": "code",
   "execution_count": 35,
   "metadata": {
    "papermill": {
     "duration": 0.133639,
     "end_time": "2020-01-01T14:43:18.220390",
     "exception": false,
     "start_time": "2020-01-01T14:43:18.086751",
     "status": "completed"
    },
    "tags": []
   },
   "outputs": [
    {
     "data": {
      "text/plain": [
       "['/mnt/phenomexcan_base/results/smultixcan/gtex_gwas/MAGNETIC_LDL.C_smultixcan_imputed_gwas_gtexv8mashr_ccn30.txt.gz',\n",
       " '/mnt/phenomexcan_base/results/smultixcan/gtex_gwas/BCAC_Overall_BreastCancer_EUR_smultixcan_imputed_gwas_gtexv8mashr_ccn30.txt.gz',\n",
       " '/mnt/phenomexcan_base/results/smultixcan/gtex_gwas/Astle_et_al_2016_Sum_neutrophil_eosinophil_counts_smultixcan_imputed_gwas_gtexv8mashr_ccn30.txt.gz',\n",
       " '/mnt/phenomexcan_base/results/smultixcan/gtex_gwas/BCAC_ER_negative_BreastCancer_EUR_smultixcan_imputed_gwas_gtexv8mashr_ccn30.txt.gz',\n",
       " '/mnt/phenomexcan_base/results/smultixcan/gtex_gwas/MAGNETIC_IDL.TG_smultixcan_imputed_gwas_gtexv8mashr_ccn30.txt.gz']"
      ]
     },
     "execution_count": 35,
     "metadata": {},
     "output_type": "execute_result"
    }
   ],
   "source": [
    "all_extra_results_files[:5]"
   ]
  },
  {
   "cell_type": "code",
   "execution_count": 36,
   "metadata": {
    "papermill": {
     "duration": 0.132582,
     "end_time": "2020-01-01T14:43:18.430742",
     "exception": false,
     "start_time": "2020-01-01T14:43:18.298160",
     "status": "completed"
    },
    "tags": []
   },
   "outputs": [
    {
     "data": {
      "text/plain": [
       "42"
      ]
     },
     "metadata": {},
     "output_type": "display_data"
    }
   ],
   "source": [
    "_file_pattern = '(?P<code>[^/]+)_smultixcan_imputed_gwas_gtexv8mashr_ccn30\\.txt'\n",
    "all_extra_phenotypes = [MXPhenoResults(p, _file_pattern) for p in all_extra_results_files]\n",
    "all_extra_phenotypes_plain_names = pd.Index([p.pheno_info.get_plain_name() for p in all_extra_phenotypes])\n",
    "\n",
    "display(len(all_extra_phenotypes))\n",
    "assert len(all_extra_phenotypes) == conf.SMULTIXCAN_EXPECTED_PHENOTYPES['GTEX_GWAS']"
   ]
  },
  {
   "cell_type": "code",
   "execution_count": 37,
   "metadata": {
    "papermill": {
     "duration": 0.117814,
     "end_time": "2020-01-01T14:43:18.633238",
     "exception": false,
     "start_time": "2020-01-01T14:43:18.515424",
     "status": "completed"
    },
    "tags": []
   },
   "outputs": [
    {
     "data": {
      "text/plain": [
       "'MAGNETIC_LDL.C'"
      ]
     },
     "execution_count": 37,
     "metadata": {},
     "output_type": "execute_result"
    }
   ],
   "source": [
    "all_extra_phenotypes[0].pheno_info.get_plain_name()"
   ]
  },
  {
   "cell_type": "code",
   "execution_count": 38,
   "metadata": {
    "papermill": {
     "duration": 0.112314,
     "end_time": "2020-01-01T14:43:18.833862",
     "exception": false,
     "start_time": "2020-01-01T14:43:18.721548",
     "status": "completed"
    },
    "tags": []
   },
   "outputs": [],
   "source": [
    "all_extra_phenotypes_codes = [os.path.basename(f).split('_smultixcan_imputed_gwas_gtexv8mashr_ccn30')[0] for f in all_extra_results_files]\n",
    "assert len(all_extra_phenotypes_codes) == conf.SMULTIXCAN_EXPECTED_PHENOTYPES['GTEX_GWAS']"
   ]
  },
  {
   "cell_type": "code",
   "execution_count": 39,
   "metadata": {
    "papermill": {
     "duration": 0.109918,
     "end_time": "2020-01-01T14:43:19.021863",
     "exception": false,
     "start_time": "2020-01-01T14:43:18.911945",
     "status": "completed"
    },
    "tags": []
   },
   "outputs": [
    {
     "data": {
      "text/plain": [
       "['MAGNETIC_LDL.C',\n",
       " 'BCAC_Overall_BreastCancer_EUR',\n",
       " 'Astle_et_al_2016_Sum_neutrophil_eosinophil_counts',\n",
       " 'BCAC_ER_negative_BreastCancer_EUR',\n",
       " 'MAGNETIC_IDL.TG']"
      ]
     },
     "execution_count": 39,
     "metadata": {},
     "output_type": "execute_result"
    }
   ],
   "source": [
    "all_extra_phenotypes_codes[:5]"
   ]
  },
  {
   "cell_type": "code",
   "execution_count": 40,
   "metadata": {
    "papermill": {
     "duration": 0.10993,
     "end_time": "2020-01-01T14:43:19.221499",
     "exception": false,
     "start_time": "2020-01-01T14:43:19.111569",
     "status": "completed"
    },
    "tags": []
   },
   "outputs": [],
   "source": [
    "all_extra_phenotypes_codes = set(all_extra_phenotypes_codes)"
   ]
  },
  {
   "cell_type": "markdown",
   "metadata": {
    "papermill": {
     "duration": 0.078363,
     "end_time": "2020-01-01T14:43:19.386865",
     "exception": false,
     "start_time": "2020-01-01T14:43:19.308502",
     "status": "completed"
    },
    "tags": []
   },
   "source": [
    "# Read all results"
   ]
  },
  {
   "cell_type": "code",
   "execution_count": 41,
   "metadata": {
    "papermill": {
     "duration": 0.112338,
     "end_time": "2020-01-01T14:43:19.589216",
     "exception": false,
     "start_time": "2020-01-01T14:43:19.476878",
     "status": "completed"
    },
    "tags": []
   },
   "outputs": [],
   "source": [
    "def read_generic(pheno_code):\n",
    "    if pheno_code in all_extra_phenotypes_codes:\n",
    "        return read_enloc_pheno(pheno_code)\n",
    "    else:\n",
    "        return read_pheno(pheno_code)\n",
    "\n",
    "def _get_combined_results(phenos):\n",
    "    return {pheno.pheno_info.get_plain_name() : read_generic(pheno.pheno_info.pheno_code) for pheno in phenos}"
   ]
  },
  {
   "cell_type": "code",
   "execution_count": 42,
   "metadata": {
    "papermill": {
     "duration": 68.923949,
     "end_time": "2020-01-01T14:44:28.598205",
     "exception": false,
     "start_time": "2020-01-01T14:43:19.674256",
     "status": "completed"
    },
    "tags": []
   },
   "outputs": [],
   "source": [
    "# testing\n",
    "_tmp = _get_combined_results(all_smultixcan_phenotypes[:4])\n",
    "assert len(_tmp) == 4"
   ]
  },
  {
   "cell_type": "code",
   "execution_count": 43,
   "metadata": {
    "papermill": {
     "duration": 7.590897,
     "end_time": "2020-01-01T14:44:36.271220",
     "exception": false,
     "start_time": "2020-01-01T14:44:28.680323",
     "status": "completed"
    },
    "tags": []
   },
   "outputs": [],
   "source": [
    "# testing\n",
    "_tmp = _get_combined_results(all_extra_phenotypes[:4])\n",
    "assert len(_tmp) == 4"
   ]
  },
  {
   "cell_type": "code",
   "execution_count": 44,
   "metadata": {
    "papermill": {
     "duration": 16.626,
     "end_time": "2020-01-01T14:44:52.964598",
     "exception": false,
     "start_time": "2020-01-01T14:44:36.338598",
     "status": "completed"
    },
    "tags": []
   },
   "outputs": [],
   "source": [
    "_pending = read_generic('C_MYELOID-LEUKAEMIA')"
   ]
  },
  {
   "cell_type": "code",
   "execution_count": 45,
   "metadata": {
    "papermill": {
     "duration": 0.129596,
     "end_time": "2020-01-01T14:44:53.201312",
     "exception": false,
     "start_time": "2020-01-01T14:44:53.071716",
     "status": "completed"
    },
    "tags": []
   },
   "outputs": [
    {
     "data": {
      "text/plain": [
       "ENSG00000165476    1.829890e-10\n",
       "ENSG00000183431    5.735600e-11\n",
       "ENSG00000261522    0.000000e+00\n",
       "ENSG00000145794    3.075410e-11\n",
       "ENSG00000177370    1.187800e-10\n",
       "dtype: float64"
      ]
     },
     "execution_count": 45,
     "metadata": {},
     "output_type": "execute_result"
    }
   ],
   "source": [
    "_pending.head()"
   ]
  },
  {
   "cell_type": "code",
   "execution_count": 46,
   "metadata": {
    "papermill": {
     "duration": 1.578282,
     "end_time": "2020-01-01T14:44:54.858833",
     "exception": false,
     "start_time": "2020-01-01T14:44:53.280551",
     "status": "completed"
    },
    "tags": []
   },
   "outputs": [],
   "source": [
    "_pending = read_generic('SSGAC_Education_Years_Pooled')"
   ]
  },
  {
   "cell_type": "code",
   "execution_count": 47,
   "metadata": {
    "papermill": {
     "duration": 0.113917,
     "end_time": "2020-01-01T14:44:55.062791",
     "exception": false,
     "start_time": "2020-01-01T14:44:54.948874",
     "status": "completed"
    },
    "tags": []
   },
   "outputs": [
    {
     "data": {
      "text/plain": [
       "ENSG00000165476    0.052\n",
       "ENSG00000166090    0.001\n",
       "ENSG00000253892    0.000\n",
       "ENSG00000105976    0.000\n",
       "ENSG00000242618    0.000\n",
       "dtype: float64"
      ]
     },
     "execution_count": 47,
     "metadata": {},
     "output_type": "execute_result"
    }
   ],
   "source": [
    "_pending.head()"
   ]
  },
  {
   "cell_type": "code",
   "execution_count": 48,
   "metadata": {
    "papermill": {
     "duration": 0.111838,
     "end_time": "2020-01-01T14:44:55.262543",
     "exception": false,
     "start_time": "2020-01-01T14:44:55.150705",
     "status": "completed"
    },
    "tags": []
   },
   "outputs": [],
   "source": [
    "def _run_all(phenotype_chunks, n_jobs=conf.N_JOBS_HIGH):\n",
    "    all_results = {}\n",
    "    \n",
    "    with ProcessPoolExecutor(max_workers=n_jobs) as executor:\n",
    "        tasks = [executor.submit(_get_combined_results, chunk) for chunk in phenotype_chunks]\n",
    "        for future in as_completed(tasks):\n",
    "            res = future.result()\n",
    "            all_results.update(res)\n",
    "\n",
    "    return all_results"
   ]
  },
  {
   "cell_type": "code",
   "execution_count": 49,
   "metadata": {
    "papermill": {
     "duration": 0.118998,
     "end_time": "2020-01-01T14:44:55.465849",
     "exception": false,
     "start_time": "2020-01-01T14:44:55.346851",
     "status": "completed"
    },
    "tags": []
   },
   "outputs": [],
   "source": [
    "# phenotype_chunks = chunker(all_smultixcan_phenotypes[:5] + all_extra_phenotypes[:5], 2)\n",
    "phenotype_chunks = chunker(all_smultixcan_phenotypes + all_extra_phenotypes, 200)"
   ]
  },
  {
   "cell_type": "code",
   "execution_count": 50,
   "metadata": {
    "papermill": {
     "duration": 24834.907737,
     "end_time": "2020-01-01T21:38:50.458610",
     "exception": false,
     "start_time": "2020-01-01T14:44:55.550873",
     "status": "completed"
    },
    "tags": []
   },
   "outputs": [],
   "source": [
    "all_results = _run_all(phenotype_chunks)"
   ]
  },
  {
   "cell_type": "markdown",
   "metadata": {
    "papermill": {
     "duration": 0.061376,
     "end_time": "2020-01-01T21:38:50.715404",
     "exception": false,
     "start_time": "2020-01-01T21:38:50.654028",
     "status": "completed"
    },
    "tags": []
   },
   "source": [
    "## Save as DataFrame"
   ]
  },
  {
   "cell_type": "code",
   "execution_count": 51,
   "metadata": {
    "papermill": {
     "duration": 0.142292,
     "end_time": "2020-01-01T21:38:50.918953",
     "exception": false,
     "start_time": "2020-01-01T21:38:50.776661",
     "status": "completed"
    },
    "tags": []
   },
   "outputs": [],
   "source": [
    "assert len(all_results) == conf.FASTENLOC_EXPECTED_PHENOTYPES['RapidGWASProject'] + conf.FASTENLOC_EXPECTED_PHENOTYPES['GTEX_GWAS']"
   ]
  },
  {
   "cell_type": "code",
   "execution_count": 52,
   "metadata": {
    "papermill": {
     "duration": 173.996029,
     "end_time": "2020-01-01T21:41:44.978209",
     "exception": false,
     "start_time": "2020-01-01T21:38:50.982180",
     "status": "completed"
    },
    "tags": []
   },
   "outputs": [
    {
     "data": {
      "text/plain": [
       "(37967, 4091)"
      ]
     },
     "metadata": {},
     "output_type": "display_data"
    },
    {
     "data": {
      "text/html": [
       "<div>\n",
       "<style scoped>\n",
       "    .dataframe tbody tr th:only-of-type {\n",
       "        vertical-align: middle;\n",
       "    }\n",
       "\n",
       "    .dataframe tbody tr th {\n",
       "        vertical-align: top;\n",
       "    }\n",
       "\n",
       "    .dataframe thead th {\n",
       "        text-align: right;\n",
       "    }\n",
       "</style>\n",
       "<table border=\"1\" class=\"dataframe\">\n",
       "  <thead>\n",
       "    <tr style=\"text-align: right;\">\n",
       "      <th></th>\n",
       "      <th>20096_1-Size_of_red_wine_glass_drunk_small_125ml</th>\n",
       "      <th>2345-Ever_had_bowel_cancer_screening</th>\n",
       "      <th>N49-Diagnoses_main_ICD10_N49_Inflammatory_disorders_of_male_genital_organs_not_elsewhere_classified</th>\n",
       "      <th>100011_raw-Iron</th>\n",
       "      <th>5221-Index_of_best_refractometry_result_right</th>\n",
       "      <th>20003_1141150624-Treatmentmedication_code_zomig_25mg_tablet</th>\n",
       "      <th>S69-Diagnoses_main_ICD10_S69_Other_and_unspecified_injuries_of_wrist_and_hand</th>\n",
       "      <th>20024_1136-Job_code_deduced_Information_and_communication_technology_managers</th>\n",
       "      <th>20002_1385-Noncancer_illness_code_selfreported_allergy_or_anaphylactic_reaction_to_food</th>\n",
       "      <th>G6_SLEEPAPNO-Sleep_apnoea</th>\n",
       "      <th>...</th>\n",
       "      <th>Astle_et_al_2016_Sum_basophil_neutrophil_counts</th>\n",
       "      <th>RA_OKADA_TRANS_ETHNIC</th>\n",
       "      <th>pgc.scz2</th>\n",
       "      <th>PGC_ADHD_EUR_2017</th>\n",
       "      <th>MAGIC_FastingGlucose</th>\n",
       "      <th>Astle_et_al_2016_Red_blood_cell_count</th>\n",
       "      <th>SSGAC_Depressive_Symptoms</th>\n",
       "      <th>BCAC_ER_positive_BreastCancer_EUR</th>\n",
       "      <th>IBD.EUR.Inflammatory_Bowel_Disease</th>\n",
       "      <th>Astle_et_al_2016_High_light_scatter_reticulocyte_count</th>\n",
       "    </tr>\n",
       "    <tr>\n",
       "      <th>gene_id</th>\n",
       "      <th></th>\n",
       "      <th></th>\n",
       "      <th></th>\n",
       "      <th></th>\n",
       "      <th></th>\n",
       "      <th></th>\n",
       "      <th></th>\n",
       "      <th></th>\n",
       "      <th></th>\n",
       "      <th></th>\n",
       "      <th></th>\n",
       "      <th></th>\n",
       "      <th></th>\n",
       "      <th></th>\n",
       "      <th></th>\n",
       "      <th></th>\n",
       "      <th></th>\n",
       "      <th></th>\n",
       "      <th></th>\n",
       "      <th></th>\n",
       "      <th></th>\n",
       "    </tr>\n",
       "  </thead>\n",
       "  <tbody>\n",
       "    <tr>\n",
       "      <th>ENSG00000000419</th>\n",
       "      <td>2.173200e-07</td>\n",
       "      <td>0.000036</td>\n",
       "      <td>1.020227e-10</td>\n",
       "      <td>0.000020</td>\n",
       "      <td>0.001497</td>\n",
       "      <td>3.426770e-11</td>\n",
       "      <td>1.312300e-10</td>\n",
       "      <td>1.508600e-09</td>\n",
       "      <td>1.114500e-05</td>\n",
       "      <td>4.164600e-09</td>\n",
       "      <td>...</td>\n",
       "      <td>0.001</td>\n",
       "      <td>NaN</td>\n",
       "      <td>0.000</td>\n",
       "      <td>0.0</td>\n",
       "      <td>NaN</td>\n",
       "      <td>0.001</td>\n",
       "      <td>NaN</td>\n",
       "      <td>NaN</td>\n",
       "      <td>NaN</td>\n",
       "      <td>0.0</td>\n",
       "    </tr>\n",
       "    <tr>\n",
       "      <th>ENSG00000000457</th>\n",
       "      <td>1.343900e-06</td>\n",
       "      <td>0.000692</td>\n",
       "      <td>8.216060e-11</td>\n",
       "      <td>0.000089</td>\n",
       "      <td>0.004363</td>\n",
       "      <td>1.342669e-10</td>\n",
       "      <td>4.223476e-10</td>\n",
       "      <td>2.036232e-08</td>\n",
       "      <td>4.598924e-04</td>\n",
       "      <td>3.570850e-08</td>\n",
       "      <td>...</td>\n",
       "      <td>0.000</td>\n",
       "      <td>NaN</td>\n",
       "      <td>NaN</td>\n",
       "      <td>NaN</td>\n",
       "      <td>NaN</td>\n",
       "      <td>0.000</td>\n",
       "      <td>NaN</td>\n",
       "      <td>NaN</td>\n",
       "      <td>NaN</td>\n",
       "      <td>NaN</td>\n",
       "    </tr>\n",
       "    <tr>\n",
       "      <th>ENSG00000000460</th>\n",
       "      <td>8.757750e-06</td>\n",
       "      <td>0.001713</td>\n",
       "      <td>1.119010e-10</td>\n",
       "      <td>0.000016</td>\n",
       "      <td>0.003566</td>\n",
       "      <td>1.533228e-10</td>\n",
       "      <td>3.712300e-10</td>\n",
       "      <td>6.505700e-09</td>\n",
       "      <td>1.830200e-05</td>\n",
       "      <td>6.002900e-08</td>\n",
       "      <td>...</td>\n",
       "      <td>0.000</td>\n",
       "      <td>NaN</td>\n",
       "      <td>NaN</td>\n",
       "      <td>NaN</td>\n",
       "      <td>NaN</td>\n",
       "      <td>0.000</td>\n",
       "      <td>NaN</td>\n",
       "      <td>NaN</td>\n",
       "      <td>NaN</td>\n",
       "      <td>NaN</td>\n",
       "    </tr>\n",
       "    <tr>\n",
       "      <th>ENSG00000000938</th>\n",
       "      <td>7.197000e-08</td>\n",
       "      <td>0.000446</td>\n",
       "      <td>3.573442e-10</td>\n",
       "      <td>0.000006</td>\n",
       "      <td>0.004429</td>\n",
       "      <td>2.588022e-08</td>\n",
       "      <td>3.461500e-10</td>\n",
       "      <td>9.110200e-09</td>\n",
       "      <td>1.351400e-05</td>\n",
       "      <td>9.878000e-09</td>\n",
       "      <td>...</td>\n",
       "      <td>0.263</td>\n",
       "      <td>NaN</td>\n",
       "      <td>0.002</td>\n",
       "      <td>NaN</td>\n",
       "      <td>NaN</td>\n",
       "      <td>NaN</td>\n",
       "      <td>NaN</td>\n",
       "      <td>NaN</td>\n",
       "      <td>NaN</td>\n",
       "      <td>0.0</td>\n",
       "    </tr>\n",
       "    <tr>\n",
       "      <th>ENSG00000000971</th>\n",
       "      <td>2.720000e-07</td>\n",
       "      <td>0.000310</td>\n",
       "      <td>1.397300e-10</td>\n",
       "      <td>0.000182</td>\n",
       "      <td>0.003160</td>\n",
       "      <td>3.940395e-11</td>\n",
       "      <td>1.785600e-10</td>\n",
       "      <td>2.329954e-10</td>\n",
       "      <td>5.325000e-07</td>\n",
       "      <td>4.958740e-08</td>\n",
       "      <td>...</td>\n",
       "      <td>0.000</td>\n",
       "      <td>0.0</td>\n",
       "      <td>NaN</td>\n",
       "      <td>NaN</td>\n",
       "      <td>NaN</td>\n",
       "      <td>0.000</td>\n",
       "      <td>NaN</td>\n",
       "      <td>NaN</td>\n",
       "      <td>NaN</td>\n",
       "      <td>0.0</td>\n",
       "    </tr>\n",
       "  </tbody>\n",
       "</table>\n",
       "<p>5 rows × 4091 columns</p>\n",
       "</div>"
      ],
      "text/plain": [
       "                 20096_1-Size_of_red_wine_glass_drunk_small_125ml  \\\n",
       "gene_id                                                             \n",
       "ENSG00000000419                                      2.173200e-07   \n",
       "ENSG00000000457                                      1.343900e-06   \n",
       "ENSG00000000460                                      8.757750e-06   \n",
       "ENSG00000000938                                      7.197000e-08   \n",
       "ENSG00000000971                                      2.720000e-07   \n",
       "\n",
       "                 2345-Ever_had_bowel_cancer_screening  \\\n",
       "gene_id                                                 \n",
       "ENSG00000000419                              0.000036   \n",
       "ENSG00000000457                              0.000692   \n",
       "ENSG00000000460                              0.001713   \n",
       "ENSG00000000938                              0.000446   \n",
       "ENSG00000000971                              0.000310   \n",
       "\n",
       "                 N49-Diagnoses_main_ICD10_N49_Inflammatory_disorders_of_male_genital_organs_not_elsewhere_classified  \\\n",
       "gene_id                                                                                                                \n",
       "ENSG00000000419                                       1.020227e-10                                                     \n",
       "ENSG00000000457                                       8.216060e-11                                                     \n",
       "ENSG00000000460                                       1.119010e-10                                                     \n",
       "ENSG00000000938                                       3.573442e-10                                                     \n",
       "ENSG00000000971                                       1.397300e-10                                                     \n",
       "\n",
       "                 100011_raw-Iron  \\\n",
       "gene_id                            \n",
       "ENSG00000000419         0.000020   \n",
       "ENSG00000000457         0.000089   \n",
       "ENSG00000000460         0.000016   \n",
       "ENSG00000000938         0.000006   \n",
       "ENSG00000000971         0.000182   \n",
       "\n",
       "                 5221-Index_of_best_refractometry_result_right  \\\n",
       "gene_id                                                          \n",
       "ENSG00000000419                                       0.001497   \n",
       "ENSG00000000457                                       0.004363   \n",
       "ENSG00000000460                                       0.003566   \n",
       "ENSG00000000938                                       0.004429   \n",
       "ENSG00000000971                                       0.003160   \n",
       "\n",
       "                 20003_1141150624-Treatmentmedication_code_zomig_25mg_tablet  \\\n",
       "gene_id                                                                        \n",
       "ENSG00000000419                                       3.426770e-11             \n",
       "ENSG00000000457                                       1.342669e-10             \n",
       "ENSG00000000460                                       1.533228e-10             \n",
       "ENSG00000000938                                       2.588022e-08             \n",
       "ENSG00000000971                                       3.940395e-11             \n",
       "\n",
       "                 S69-Diagnoses_main_ICD10_S69_Other_and_unspecified_injuries_of_wrist_and_hand  \\\n",
       "gene_id                                                                                          \n",
       "ENSG00000000419                                       1.312300e-10                               \n",
       "ENSG00000000457                                       4.223476e-10                               \n",
       "ENSG00000000460                                       3.712300e-10                               \n",
       "ENSG00000000938                                       3.461500e-10                               \n",
       "ENSG00000000971                                       1.785600e-10                               \n",
       "\n",
       "                 20024_1136-Job_code_deduced_Information_and_communication_technology_managers  \\\n",
       "gene_id                                                                                          \n",
       "ENSG00000000419                                       1.508600e-09                               \n",
       "ENSG00000000457                                       2.036232e-08                               \n",
       "ENSG00000000460                                       6.505700e-09                               \n",
       "ENSG00000000938                                       9.110200e-09                               \n",
       "ENSG00000000971                                       2.329954e-10                               \n",
       "\n",
       "                 20002_1385-Noncancer_illness_code_selfreported_allergy_or_anaphylactic_reaction_to_food  \\\n",
       "gene_id                                                                                                    \n",
       "ENSG00000000419                                       1.114500e-05                                         \n",
       "ENSG00000000457                                       4.598924e-04                                         \n",
       "ENSG00000000460                                       1.830200e-05                                         \n",
       "ENSG00000000938                                       1.351400e-05                                         \n",
       "ENSG00000000971                                       5.325000e-07                                         \n",
       "\n",
       "                 G6_SLEEPAPNO-Sleep_apnoea  ...  \\\n",
       "gene_id                                     ...   \n",
       "ENSG00000000419               4.164600e-09  ...   \n",
       "ENSG00000000457               3.570850e-08  ...   \n",
       "ENSG00000000460               6.002900e-08  ...   \n",
       "ENSG00000000938               9.878000e-09  ...   \n",
       "ENSG00000000971               4.958740e-08  ...   \n",
       "\n",
       "                 Astle_et_al_2016_Sum_basophil_neutrophil_counts  \\\n",
       "gene_id                                                            \n",
       "ENSG00000000419                                            0.001   \n",
       "ENSG00000000457                                            0.000   \n",
       "ENSG00000000460                                            0.000   \n",
       "ENSG00000000938                                            0.263   \n",
       "ENSG00000000971                                            0.000   \n",
       "\n",
       "                 RA_OKADA_TRANS_ETHNIC  pgc.scz2  PGC_ADHD_EUR_2017  \\\n",
       "gene_id                                                               \n",
       "ENSG00000000419                    NaN     0.000                0.0   \n",
       "ENSG00000000457                    NaN       NaN                NaN   \n",
       "ENSG00000000460                    NaN       NaN                NaN   \n",
       "ENSG00000000938                    NaN     0.002                NaN   \n",
       "ENSG00000000971                    0.0       NaN                NaN   \n",
       "\n",
       "                 MAGIC_FastingGlucose  Astle_et_al_2016_Red_blood_cell_count  \\\n",
       "gene_id                                                                        \n",
       "ENSG00000000419                   NaN                                  0.001   \n",
       "ENSG00000000457                   NaN                                  0.000   \n",
       "ENSG00000000460                   NaN                                  0.000   \n",
       "ENSG00000000938                   NaN                                    NaN   \n",
       "ENSG00000000971                   NaN                                  0.000   \n",
       "\n",
       "                 SSGAC_Depressive_Symptoms  BCAC_ER_positive_BreastCancer_EUR  \\\n",
       "gene_id                                                                         \n",
       "ENSG00000000419                        NaN                                NaN   \n",
       "ENSG00000000457                        NaN                                NaN   \n",
       "ENSG00000000460                        NaN                                NaN   \n",
       "ENSG00000000938                        NaN                                NaN   \n",
       "ENSG00000000971                        NaN                                NaN   \n",
       "\n",
       "                 IBD.EUR.Inflammatory_Bowel_Disease  \\\n",
       "gene_id                                               \n",
       "ENSG00000000419                                 NaN   \n",
       "ENSG00000000457                                 NaN   \n",
       "ENSG00000000460                                 NaN   \n",
       "ENSG00000000938                                 NaN   \n",
       "ENSG00000000971                                 NaN   \n",
       "\n",
       "                 Astle_et_al_2016_High_light_scatter_reticulocyte_count  \n",
       "gene_id                                                                  \n",
       "ENSG00000000419                                                0.0       \n",
       "ENSG00000000457                                                NaN       \n",
       "ENSG00000000460                                                NaN       \n",
       "ENSG00000000938                                                0.0       \n",
       "ENSG00000000971                                                0.0       \n",
       "\n",
       "[5 rows x 4091 columns]"
      ]
     },
     "metadata": {},
     "output_type": "display_data"
    }
   ],
   "source": [
    "fastenloc_genes_associations = pd.DataFrame(all_results)\n",
    "fastenloc_genes_associations.index.rename('gene_id', inplace=True)\n",
    "\n",
    "assert fastenloc_genes_associations.index.is_unique\n",
    "\n",
    "display(fastenloc_genes_associations.shape)\n",
    "display(fastenloc_genes_associations.head())"
   ]
  },
  {
   "cell_type": "code",
   "execution_count": 53,
   "metadata": {
    "papermill": {
     "duration": 0.189589,
     "end_time": "2020-01-01T21:41:45.342916",
     "exception": false,
     "start_time": "2020-01-01T21:41:45.153327",
     "status": "completed"
    },
    "tags": []
   },
   "outputs": [
    {
     "data": {
      "text/plain": [
       "15    37967\n",
       "Name: gene_id, dtype: int64"
      ]
     },
     "metadata": {},
     "output_type": "display_data"
    }
   ],
   "source": [
    "# check genes id format\n",
    "_tmp = pd.Series(fastenloc_genes_associations.index).apply(len).value_counts()\n",
    "display(_tmp)\n",
    "assert _tmp.shape[0] == 1\n",
    "assert _tmp.index[0] == 15"
   ]
  },
  {
   "cell_type": "code",
   "execution_count": 54,
   "metadata": {
    "papermill": {
     "duration": 0.146322,
     "end_time": "2020-01-01T21:41:45.582435",
     "exception": false,
     "start_time": "2020-01-01T21:41:45.436113",
     "status": "completed"
    },
    "tags": []
   },
   "outputs": [
    {
     "data": {
      "text/plain": [
       "float64    4091\n",
       "dtype: int64"
      ]
     },
     "metadata": {},
     "output_type": "display_data"
    }
   ],
   "source": [
    "# check columns data type\n",
    "_tmp = fastenloc_genes_associations.dtypes.value_counts()\n",
    "display(_tmp)\n",
    "assert _tmp.shape[0] == 1"
   ]
  },
  {
   "cell_type": "code",
   "execution_count": 55,
   "metadata": {
    "papermill": {
     "duration": 10.717239,
     "end_time": "2020-01-01T21:41:56.399717",
     "exception": false,
     "start_time": "2020-01-01T21:41:45.682478",
     "status": "completed"
    },
    "tags": []
   },
   "outputs": [
    {
     "data": {
      "text/plain": [
       "3341082"
      ]
     },
     "execution_count": 55,
     "metadata": {},
     "output_type": "execute_result"
    }
   ],
   "source": [
    "fastenloc_genes_associations.isna().sum().sum()"
   ]
  },
  {
   "cell_type": "code",
   "execution_count": 56,
   "metadata": {
    "papermill": {
     "duration": 12.828556,
     "end_time": "2020-01-01T21:42:09.318218",
     "exception": false,
     "start_time": "2020-01-01T21:41:56.489662",
     "status": "completed"
    },
    "tags": []
   },
   "outputs": [
    {
     "data": {
      "text/plain": [
       "(37967, 4091)"
      ]
     },
     "execution_count": 56,
     "metadata": {},
     "output_type": "execute_result"
    }
   ],
   "source": [
    "fastenloc_genes_associations.dropna(axis=0, how='all').shape"
   ]
  },
  {
   "cell_type": "code",
   "execution_count": 57,
   "metadata": {
    "papermill": {
     "duration": 0.128236,
     "end_time": "2020-01-01T21:42:09.533119",
     "exception": false,
     "start_time": "2020-01-01T21:42:09.404883",
     "status": "completed"
    },
    "tags": []
   },
   "outputs": [
    {
     "data": {
      "text/plain": [
       "(37967, 4091)"
      ]
     },
     "metadata": {},
     "output_type": "display_data"
    }
   ],
   "source": [
    "display(fastenloc_genes_associations.shape)"
   ]
  },
  {
   "cell_type": "code",
   "execution_count": 58,
   "metadata": {
    "papermill": {
     "duration": 0.120241,
     "end_time": "2020-01-01T21:42:09.739294",
     "exception": false,
     "start_time": "2020-01-01T21:42:09.619053",
     "status": "completed"
    },
    "tags": []
   },
   "outputs": [],
   "source": [
    "assert fastenloc_genes_associations.shape == (37967, conf.FASTENLOC_EXPECTED_PHENOTYPES['RapidGWASProject'] + conf.FASTENLOC_EXPECTED_PHENOTYPES['GTEX_GWAS'])"
   ]
  },
  {
   "cell_type": "code",
   "execution_count": 59,
   "metadata": {
    "papermill": {
     "duration": 0.112434,
     "end_time": "2020-01-01T21:42:09.940654",
     "exception": false,
     "start_time": "2020-01-01T21:42:09.828220",
     "status": "completed"
    },
    "tags": []
   },
   "outputs": [],
   "source": [
    "# some testing\n",
    "t = fastenloc_genes_associations['SSGAC_Education_Years_Pooled']"
   ]
  },
  {
   "cell_type": "code",
   "execution_count": 60,
   "metadata": {
    "papermill": {
     "duration": 0.118016,
     "end_time": "2020-01-01T21:42:10.143772",
     "exception": false,
     "start_time": "2020-01-01T21:42:10.025756",
     "status": "completed"
    },
    "tags": []
   },
   "outputs": [
    {
     "data": {
      "text/plain": [
       "gene_id\n",
       "ENSG00000000419    0.001\n",
       "ENSG00000000457    0.000\n",
       "ENSG00000000460    0.000\n",
       "ENSG00000000938      NaN\n",
       "ENSG00000000971      NaN\n",
       "Name: SSGAC_Education_Years_Pooled, dtype: float64"
      ]
     },
     "execution_count": 60,
     "metadata": {},
     "output_type": "execute_result"
    }
   ],
   "source": [
    "t.head()"
   ]
  },
  {
   "cell_type": "code",
   "execution_count": 61,
   "metadata": {
    "papermill": {
     "duration": 0.125616,
     "end_time": "2020-01-01T21:42:10.354498",
     "exception": false,
     "start_time": "2020-01-01T21:42:10.228882",
     "status": "completed"
    },
    "tags": []
   },
   "outputs": [],
   "source": [
    "assert t.loc['ENSG00000106113'] == 0.00\n",
    "assert t.loc['ENSG00000164050'] == 0.006\n",
    "assert t.loc['ENSG00000081377'] == 0.317\n",
    "assert pd.isnull(t.loc['ENSG00000000938'])"
   ]
  },
  {
   "cell_type": "markdown",
   "metadata": {
    "papermill": {
     "duration": 0.083819,
     "end_time": "2020-01-01T21:42:10.526092",
     "exception": false,
     "start_time": "2020-01-01T21:42:10.442273",
     "status": "completed"
    },
    "tags": []
   },
   "source": [
    "### Save"
   ]
  },
  {
   "cell_type": "code",
   "execution_count": null,
   "metadata": {},
   "outputs": [],
   "source": [
    "os.makedirs(conf.GENE_ASSOC_DIR, exist_ok=True)"
   ]
  },
  {
   "cell_type": "code",
   "execution_count": 62,
   "metadata": {
    "papermill": {
     "duration": 0.124089,
     "end_time": "2020-01-01T21:42:10.744618",
     "exception": false,
     "start_time": "2020-01-01T21:42:10.620529",
     "status": "completed"
    },
    "tags": []
   },
   "outputs": [
    {
     "data": {
      "text/plain": [
       "'/mnt/phenomexcan_base/gene_assoc/fastenloc-torus-rcp.pkl.xz'"
      ]
     },
     "metadata": {},
     "output_type": "display_data"
    }
   ],
   "source": [
    "# Save\n",
    "fastenloc_genes_associations_filename = os.path.join(conf.GENE_ASSOC_DIR, f'fastenloc-torus-rcp.pkl.xz')\n",
    "display(fastenloc_genes_associations_filename)"
   ]
  },
  {
   "cell_type": "code",
   "execution_count": 63,
   "metadata": {
    "papermill": {
     "duration": 841.91448,
     "end_time": "2020-01-01T21:56:12.748990",
     "exception": false,
     "start_time": "2020-01-01T21:42:10.834510",
     "status": "completed"
    },
    "tags": []
   },
   "outputs": [],
   "source": [
    "fastenloc_genes_associations.to_pickle(fastenloc_genes_associations_filename)"
   ]
  },
  {
   "cell_type": "markdown",
   "metadata": {
    "papermill": {
     "duration": 0.087819,
     "end_time": "2020-01-01T21:56:12.934814",
     "exception": false,
     "start_time": "2020-01-01T21:56:12.846995",
     "status": "completed"
    },
    "tags": []
   },
   "source": [
    "### Save for publication"
   ]
  },
  {
   "cell_type": "code",
   "execution_count": 64,
   "metadata": {
    "papermill": {
     "duration": 0.156357,
     "end_time": "2020-01-01T21:56:13.176765",
     "exception": false,
     "start_time": "2020-01-01T21:56:13.020408",
     "status": "completed"
    },
    "tags": []
   },
   "outputs": [
    {
     "data": {
      "text/plain": [
       "'/mnt/phenomexcan_base/gene_assoc/fastenloc-torus-rcp.tsv.gz'"
      ]
     },
     "metadata": {},
     "output_type": "display_data"
    }
   ],
   "source": [
    "output_file = os.path.join(conf.GENE_ASSOC_DIR, 'fastenloc-torus-rcp.tsv.gz')\n",
    "display(output_file)"
   ]
  },
  {
   "cell_type": "code",
   "execution_count": 65,
   "metadata": {
    "papermill": {
     "duration": 1254.751765,
     "end_time": "2020-01-01T22:17:08.027828",
     "exception": false,
     "start_time": "2020-01-01T21:56:13.276063",
     "status": "completed"
    },
    "tags": []
   },
   "outputs": [],
   "source": [
    "fastenloc_genes_associations.to_csv(output_file, sep='\\t', float_format='%.4e')"
   ]
  },
  {
   "cell_type": "code",
   "execution_count": 66,
   "metadata": {
    "papermill": {
     "duration": 155.654781,
     "end_time": "2020-01-01T22:19:43.780431",
     "exception": false,
     "start_time": "2020-01-01T22:17:08.125650",
     "status": "completed"
    },
    "tags": []
   },
   "outputs": [],
   "source": [
    "# test \"for publication\" file\n",
    "_tmp = pd.read_csv(output_file, sep='\\t', index_col='gene_id')"
   ]
  },
  {
   "cell_type": "code",
   "execution_count": 67,
   "metadata": {
    "papermill": {
     "duration": 0.138414,
     "end_time": "2020-01-01T22:19:44.016903",
     "exception": false,
     "start_time": "2020-01-01T22:19:43.878489",
     "status": "completed"
    },
    "tags": []
   },
   "outputs": [
    {
     "data": {
      "text/plain": [
       "(37967, 4091)"
      ]
     },
     "metadata": {},
     "output_type": "display_data"
    }
   ],
   "source": [
    "display(_tmp.shape)\n",
    "assert _tmp.shape == fastenloc_genes_associations.shape"
   ]
  },
  {
   "cell_type": "code",
   "execution_count": 68,
   "metadata": {
    "papermill": {
     "duration": 0.171951,
     "end_time": "2020-01-01T22:19:44.283775",
     "exception": false,
     "start_time": "2020-01-01T22:19:44.111824",
     "status": "completed"
    },
    "tags": []
   },
   "outputs": [
    {
     "data": {
      "text/html": [
       "<div>\n",
       "<style scoped>\n",
       "    .dataframe tbody tr th:only-of-type {\n",
       "        vertical-align: middle;\n",
       "    }\n",
       "\n",
       "    .dataframe tbody tr th {\n",
       "        vertical-align: top;\n",
       "    }\n",
       "\n",
       "    .dataframe thead th {\n",
       "        text-align: right;\n",
       "    }\n",
       "</style>\n",
       "<table border=\"1\" class=\"dataframe\">\n",
       "  <thead>\n",
       "    <tr style=\"text-align: right;\">\n",
       "      <th></th>\n",
       "      <th>20096_1-Size_of_red_wine_glass_drunk_small_125ml</th>\n",
       "      <th>2345-Ever_had_bowel_cancer_screening</th>\n",
       "      <th>N49-Diagnoses_main_ICD10_N49_Inflammatory_disorders_of_male_genital_organs_not_elsewhere_classified</th>\n",
       "      <th>100011_raw-Iron</th>\n",
       "      <th>5221-Index_of_best_refractometry_result_right</th>\n",
       "      <th>20003_1141150624-Treatmentmedication_code_zomig_25mg_tablet</th>\n",
       "      <th>S69-Diagnoses_main_ICD10_S69_Other_and_unspecified_injuries_of_wrist_and_hand</th>\n",
       "      <th>20024_1136-Job_code_deduced_Information_and_communication_technology_managers</th>\n",
       "      <th>20002_1385-Noncancer_illness_code_selfreported_allergy_or_anaphylactic_reaction_to_food</th>\n",
       "      <th>G6_SLEEPAPNO-Sleep_apnoea</th>\n",
       "      <th>...</th>\n",
       "      <th>Astle_et_al_2016_Sum_basophil_neutrophil_counts</th>\n",
       "      <th>RA_OKADA_TRANS_ETHNIC</th>\n",
       "      <th>pgc.scz2</th>\n",
       "      <th>PGC_ADHD_EUR_2017</th>\n",
       "      <th>MAGIC_FastingGlucose</th>\n",
       "      <th>Astle_et_al_2016_Red_blood_cell_count</th>\n",
       "      <th>SSGAC_Depressive_Symptoms</th>\n",
       "      <th>BCAC_ER_positive_BreastCancer_EUR</th>\n",
       "      <th>IBD.EUR.Inflammatory_Bowel_Disease</th>\n",
       "      <th>Astle_et_al_2016_High_light_scatter_reticulocyte_count</th>\n",
       "    </tr>\n",
       "    <tr>\n",
       "      <th>gene_id</th>\n",
       "      <th></th>\n",
       "      <th></th>\n",
       "      <th></th>\n",
       "      <th></th>\n",
       "      <th></th>\n",
       "      <th></th>\n",
       "      <th></th>\n",
       "      <th></th>\n",
       "      <th></th>\n",
       "      <th></th>\n",
       "      <th></th>\n",
       "      <th></th>\n",
       "      <th></th>\n",
       "      <th></th>\n",
       "      <th></th>\n",
       "      <th></th>\n",
       "      <th></th>\n",
       "      <th></th>\n",
       "      <th></th>\n",
       "      <th></th>\n",
       "      <th></th>\n",
       "    </tr>\n",
       "  </thead>\n",
       "  <tbody>\n",
       "    <tr>\n",
       "      <th>ENSG00000000419</th>\n",
       "      <td>2.173200e-07</td>\n",
       "      <td>0.000036</td>\n",
       "      <td>1.020200e-10</td>\n",
       "      <td>0.000020</td>\n",
       "      <td>0.001497</td>\n",
       "      <td>3.426800e-11</td>\n",
       "      <td>1.312300e-10</td>\n",
       "      <td>1.508600e-09</td>\n",
       "      <td>1.114500e-05</td>\n",
       "      <td>4.164600e-09</td>\n",
       "      <td>...</td>\n",
       "      <td>0.001</td>\n",
       "      <td>NaN</td>\n",
       "      <td>0.000</td>\n",
       "      <td>0.0</td>\n",
       "      <td>NaN</td>\n",
       "      <td>0.001</td>\n",
       "      <td>NaN</td>\n",
       "      <td>NaN</td>\n",
       "      <td>NaN</td>\n",
       "      <td>0.0</td>\n",
       "    </tr>\n",
       "    <tr>\n",
       "      <th>ENSG00000000457</th>\n",
       "      <td>1.343900e-06</td>\n",
       "      <td>0.000692</td>\n",
       "      <td>8.216100e-11</td>\n",
       "      <td>0.000089</td>\n",
       "      <td>0.004363</td>\n",
       "      <td>1.342700e-10</td>\n",
       "      <td>4.223500e-10</td>\n",
       "      <td>2.036200e-08</td>\n",
       "      <td>4.598900e-04</td>\n",
       "      <td>3.570800e-08</td>\n",
       "      <td>...</td>\n",
       "      <td>0.000</td>\n",
       "      <td>NaN</td>\n",
       "      <td>NaN</td>\n",
       "      <td>NaN</td>\n",
       "      <td>NaN</td>\n",
       "      <td>0.000</td>\n",
       "      <td>NaN</td>\n",
       "      <td>NaN</td>\n",
       "      <td>NaN</td>\n",
       "      <td>NaN</td>\n",
       "    </tr>\n",
       "    <tr>\n",
       "      <th>ENSG00000000460</th>\n",
       "      <td>8.757800e-06</td>\n",
       "      <td>0.001713</td>\n",
       "      <td>1.119000e-10</td>\n",
       "      <td>0.000016</td>\n",
       "      <td>0.003566</td>\n",
       "      <td>1.533200e-10</td>\n",
       "      <td>3.712300e-10</td>\n",
       "      <td>6.505700e-09</td>\n",
       "      <td>1.830200e-05</td>\n",
       "      <td>6.002900e-08</td>\n",
       "      <td>...</td>\n",
       "      <td>0.000</td>\n",
       "      <td>NaN</td>\n",
       "      <td>NaN</td>\n",
       "      <td>NaN</td>\n",
       "      <td>NaN</td>\n",
       "      <td>0.000</td>\n",
       "      <td>NaN</td>\n",
       "      <td>NaN</td>\n",
       "      <td>NaN</td>\n",
       "      <td>NaN</td>\n",
       "    </tr>\n",
       "    <tr>\n",
       "      <th>ENSG00000000938</th>\n",
       "      <td>7.197000e-08</td>\n",
       "      <td>0.000446</td>\n",
       "      <td>3.573400e-10</td>\n",
       "      <td>0.000006</td>\n",
       "      <td>0.004430</td>\n",
       "      <td>2.588000e-08</td>\n",
       "      <td>3.461500e-10</td>\n",
       "      <td>9.110200e-09</td>\n",
       "      <td>1.351400e-05</td>\n",
       "      <td>9.878000e-09</td>\n",
       "      <td>...</td>\n",
       "      <td>0.263</td>\n",
       "      <td>NaN</td>\n",
       "      <td>0.002</td>\n",
       "      <td>NaN</td>\n",
       "      <td>NaN</td>\n",
       "      <td>NaN</td>\n",
       "      <td>NaN</td>\n",
       "      <td>NaN</td>\n",
       "      <td>NaN</td>\n",
       "      <td>0.0</td>\n",
       "    </tr>\n",
       "    <tr>\n",
       "      <th>ENSG00000000971</th>\n",
       "      <td>2.720000e-07</td>\n",
       "      <td>0.000310</td>\n",
       "      <td>1.397300e-10</td>\n",
       "      <td>0.000182</td>\n",
       "      <td>0.003160</td>\n",
       "      <td>3.940400e-11</td>\n",
       "      <td>1.785600e-10</td>\n",
       "      <td>2.330000e-10</td>\n",
       "      <td>5.325000e-07</td>\n",
       "      <td>4.958700e-08</td>\n",
       "      <td>...</td>\n",
       "      <td>0.000</td>\n",
       "      <td>0.0</td>\n",
       "      <td>NaN</td>\n",
       "      <td>NaN</td>\n",
       "      <td>NaN</td>\n",
       "      <td>0.000</td>\n",
       "      <td>NaN</td>\n",
       "      <td>NaN</td>\n",
       "      <td>NaN</td>\n",
       "      <td>0.0</td>\n",
       "    </tr>\n",
       "  </tbody>\n",
       "</table>\n",
       "<p>5 rows × 4091 columns</p>\n",
       "</div>"
      ],
      "text/plain": [
       "                 20096_1-Size_of_red_wine_glass_drunk_small_125ml  \\\n",
       "gene_id                                                             \n",
       "ENSG00000000419                                      2.173200e-07   \n",
       "ENSG00000000457                                      1.343900e-06   \n",
       "ENSG00000000460                                      8.757800e-06   \n",
       "ENSG00000000938                                      7.197000e-08   \n",
       "ENSG00000000971                                      2.720000e-07   \n",
       "\n",
       "                 2345-Ever_had_bowel_cancer_screening  \\\n",
       "gene_id                                                 \n",
       "ENSG00000000419                              0.000036   \n",
       "ENSG00000000457                              0.000692   \n",
       "ENSG00000000460                              0.001713   \n",
       "ENSG00000000938                              0.000446   \n",
       "ENSG00000000971                              0.000310   \n",
       "\n",
       "                 N49-Diagnoses_main_ICD10_N49_Inflammatory_disorders_of_male_genital_organs_not_elsewhere_classified  \\\n",
       "gene_id                                                                                                                \n",
       "ENSG00000000419                                       1.020200e-10                                                     \n",
       "ENSG00000000457                                       8.216100e-11                                                     \n",
       "ENSG00000000460                                       1.119000e-10                                                     \n",
       "ENSG00000000938                                       3.573400e-10                                                     \n",
       "ENSG00000000971                                       1.397300e-10                                                     \n",
       "\n",
       "                 100011_raw-Iron  \\\n",
       "gene_id                            \n",
       "ENSG00000000419         0.000020   \n",
       "ENSG00000000457         0.000089   \n",
       "ENSG00000000460         0.000016   \n",
       "ENSG00000000938         0.000006   \n",
       "ENSG00000000971         0.000182   \n",
       "\n",
       "                 5221-Index_of_best_refractometry_result_right  \\\n",
       "gene_id                                                          \n",
       "ENSG00000000419                                       0.001497   \n",
       "ENSG00000000457                                       0.004363   \n",
       "ENSG00000000460                                       0.003566   \n",
       "ENSG00000000938                                       0.004430   \n",
       "ENSG00000000971                                       0.003160   \n",
       "\n",
       "                 20003_1141150624-Treatmentmedication_code_zomig_25mg_tablet  \\\n",
       "gene_id                                                                        \n",
       "ENSG00000000419                                       3.426800e-11             \n",
       "ENSG00000000457                                       1.342700e-10             \n",
       "ENSG00000000460                                       1.533200e-10             \n",
       "ENSG00000000938                                       2.588000e-08             \n",
       "ENSG00000000971                                       3.940400e-11             \n",
       "\n",
       "                 S69-Diagnoses_main_ICD10_S69_Other_and_unspecified_injuries_of_wrist_and_hand  \\\n",
       "gene_id                                                                                          \n",
       "ENSG00000000419                                       1.312300e-10                               \n",
       "ENSG00000000457                                       4.223500e-10                               \n",
       "ENSG00000000460                                       3.712300e-10                               \n",
       "ENSG00000000938                                       3.461500e-10                               \n",
       "ENSG00000000971                                       1.785600e-10                               \n",
       "\n",
       "                 20024_1136-Job_code_deduced_Information_and_communication_technology_managers  \\\n",
       "gene_id                                                                                          \n",
       "ENSG00000000419                                       1.508600e-09                               \n",
       "ENSG00000000457                                       2.036200e-08                               \n",
       "ENSG00000000460                                       6.505700e-09                               \n",
       "ENSG00000000938                                       9.110200e-09                               \n",
       "ENSG00000000971                                       2.330000e-10                               \n",
       "\n",
       "                 20002_1385-Noncancer_illness_code_selfreported_allergy_or_anaphylactic_reaction_to_food  \\\n",
       "gene_id                                                                                                    \n",
       "ENSG00000000419                                       1.114500e-05                                         \n",
       "ENSG00000000457                                       4.598900e-04                                         \n",
       "ENSG00000000460                                       1.830200e-05                                         \n",
       "ENSG00000000938                                       1.351400e-05                                         \n",
       "ENSG00000000971                                       5.325000e-07                                         \n",
       "\n",
       "                 G6_SLEEPAPNO-Sleep_apnoea  ...  \\\n",
       "gene_id                                     ...   \n",
       "ENSG00000000419               4.164600e-09  ...   \n",
       "ENSG00000000457               3.570800e-08  ...   \n",
       "ENSG00000000460               6.002900e-08  ...   \n",
       "ENSG00000000938               9.878000e-09  ...   \n",
       "ENSG00000000971               4.958700e-08  ...   \n",
       "\n",
       "                 Astle_et_al_2016_Sum_basophil_neutrophil_counts  \\\n",
       "gene_id                                                            \n",
       "ENSG00000000419                                            0.001   \n",
       "ENSG00000000457                                            0.000   \n",
       "ENSG00000000460                                            0.000   \n",
       "ENSG00000000938                                            0.263   \n",
       "ENSG00000000971                                            0.000   \n",
       "\n",
       "                 RA_OKADA_TRANS_ETHNIC  pgc.scz2  PGC_ADHD_EUR_2017  \\\n",
       "gene_id                                                               \n",
       "ENSG00000000419                    NaN     0.000                0.0   \n",
       "ENSG00000000457                    NaN       NaN                NaN   \n",
       "ENSG00000000460                    NaN       NaN                NaN   \n",
       "ENSG00000000938                    NaN     0.002                NaN   \n",
       "ENSG00000000971                    0.0       NaN                NaN   \n",
       "\n",
       "                 MAGIC_FastingGlucose  Astle_et_al_2016_Red_blood_cell_count  \\\n",
       "gene_id                                                                        \n",
       "ENSG00000000419                   NaN                                  0.001   \n",
       "ENSG00000000457                   NaN                                  0.000   \n",
       "ENSG00000000460                   NaN                                  0.000   \n",
       "ENSG00000000938                   NaN                                    NaN   \n",
       "ENSG00000000971                   NaN                                  0.000   \n",
       "\n",
       "                 SSGAC_Depressive_Symptoms  BCAC_ER_positive_BreastCancer_EUR  \\\n",
       "gene_id                                                                         \n",
       "ENSG00000000419                        NaN                                NaN   \n",
       "ENSG00000000457                        NaN                                NaN   \n",
       "ENSG00000000460                        NaN                                NaN   \n",
       "ENSG00000000938                        NaN                                NaN   \n",
       "ENSG00000000971                        NaN                                NaN   \n",
       "\n",
       "                 IBD.EUR.Inflammatory_Bowel_Disease  \\\n",
       "gene_id                                               \n",
       "ENSG00000000419                                 NaN   \n",
       "ENSG00000000457                                 NaN   \n",
       "ENSG00000000460                                 NaN   \n",
       "ENSG00000000938                                 NaN   \n",
       "ENSG00000000971                                 NaN   \n",
       "\n",
       "                 Astle_et_al_2016_High_light_scatter_reticulocyte_count  \n",
       "gene_id                                                                  \n",
       "ENSG00000000419                                                0.0       \n",
       "ENSG00000000457                                                NaN       \n",
       "ENSG00000000460                                                NaN       \n",
       "ENSG00000000938                                                0.0       \n",
       "ENSG00000000971                                                0.0       \n",
       "\n",
       "[5 rows x 4091 columns]"
      ]
     },
     "execution_count": 68,
     "metadata": {},
     "output_type": "execute_result"
    }
   ],
   "source": [
    "_tmp.head()"
   ]
  },
  {
   "cell_type": "code",
   "execution_count": 69,
   "metadata": {
    "papermill": {
     "duration": 8.759228,
     "end_time": "2020-01-01T22:19:53.138364",
     "exception": false,
     "start_time": "2020-01-01T22:19:44.379136",
     "status": "completed"
    },
    "tags": []
   },
   "outputs": [],
   "source": [
    "assert not _tmp.isin([np.inf, -np.inf]).any().any()"
   ]
  },
  {
   "cell_type": "code",
   "execution_count": 70,
   "metadata": {
    "papermill": {
     "duration": 9.139514,
     "end_time": "2020-01-01T22:20:02.368288",
     "exception": false,
     "start_time": "2020-01-01T22:19:53.228774",
     "status": "completed"
    },
    "tags": []
   },
   "outputs": [],
   "source": [
    "assert _tmp.isna().any().any()"
   ]
  },
  {
   "cell_type": "code",
   "execution_count": 71,
   "metadata": {
    "papermill": {
     "duration": 14.651127,
     "end_time": "2020-01-01T22:20:17.122249",
     "exception": false,
     "start_time": "2020-01-01T22:20:02.471122",
     "status": "completed"
    },
    "tags": []
   },
   "outputs": [],
   "source": [
    "_tmp_flat = pd.Series(_tmp.values.flatten()).dropna()\n",
    "assert ((_tmp_flat >= 0) & (_tmp_flat <= 3)).all().all()"
   ]
  },
  {
   "cell_type": "code",
   "execution_count": 72,
   "metadata": {
    "papermill": {
     "duration": 74.847401,
     "end_time": "2020-01-01T22:21:32.045240",
     "exception": false,
     "start_time": "2020-01-01T22:20:17.197839",
     "status": "completed"
    },
    "tags": []
   },
   "outputs": [],
   "source": [
    "assert np.allclose(_tmp.values, fastenloc_genes_associations.values, atol=1e-320, rtol=1e-4, equal_nan=True)"
   ]
  },
  {
   "cell_type": "markdown",
   "metadata": {
    "papermill": {
     "duration": 0.091602,
     "end_time": "2020-01-01T22:21:32.233867",
     "exception": false,
     "start_time": "2020-01-01T22:21:32.142265",
     "status": "completed"
    },
    "tags": []
   },
   "source": [
    "### Save in HDF5 format for webapp"
   ]
  },
  {
   "cell_type": "code",
   "execution_count": 73,
   "metadata": {
    "papermill": {
     "duration": 0.148487,
     "end_time": "2020-01-01T22:21:32.474640",
     "exception": false,
     "start_time": "2020-01-01T22:21:32.326153",
     "status": "completed"
    },
    "tags": []
   },
   "outputs": [
    {
     "data": {
      "text/plain": [
       "'/mnt/phenomexcan_base/gene_assoc/fastenloc-torus-rcp.pkl.xz'"
      ]
     },
     "metadata": {},
     "output_type": "display_data"
    }
   ],
   "source": [
    "display(fastenloc_genes_associations_filename)"
   ]
  },
  {
   "cell_type": "code",
   "execution_count": 74,
   "metadata": {
    "papermill": {
     "duration": 88.05591,
     "end_time": "2020-01-01T22:23:00.624061",
     "exception": false,
     "start_time": "2020-01-01T22:21:32.568151",
     "status": "completed"
    },
    "tags": []
   },
   "outputs": [],
   "source": [
    "# FIXME: it's not necessary to load again\n",
    "fastenloc_gene_associations = pd.read_pickle(fastenloc_genes_associations_filename)"
   ]
  },
  {
   "cell_type": "code",
   "execution_count": 75,
   "metadata": {
    "papermill": {
     "duration": 0.159446,
     "end_time": "2020-01-01T22:23:00.886108",
     "exception": false,
     "start_time": "2020-01-01T22:23:00.726662",
     "status": "completed"
    },
    "tags": []
   },
   "outputs": [
    {
     "data": {
      "text/plain": [
       "(37967, 4091)"
      ]
     },
     "execution_count": 75,
     "metadata": {},
     "output_type": "execute_result"
    }
   ],
   "source": [
    "fastenloc_gene_associations.shape"
   ]
  },
  {
   "cell_type": "code",
   "execution_count": 76,
   "metadata": {
    "papermill": {
     "duration": 0.126867,
     "end_time": "2020-01-01T22:23:01.106696",
     "exception": false,
     "start_time": "2020-01-01T22:23:00.979829",
     "status": "completed"
    },
    "tags": []
   },
   "outputs": [],
   "source": [
    "from utils import simplify_string_for_hdf5"
   ]
  },
  {
   "cell_type": "code",
   "execution_count": 77,
   "metadata": {
    "papermill": {
     "duration": 0.122658,
     "end_time": "2020-01-01T22:23:01.329326",
     "exception": false,
     "start_time": "2020-01-01T22:23:01.206668",
     "status": "completed"
    },
    "tags": []
   },
   "outputs": [
    {
     "data": {
      "text/plain": [
       "'/mnt/phenomexcan_base/gene_assoc/fastenloc-torus-rcp.h5'"
      ]
     },
     "metadata": {},
     "output_type": "display_data"
    }
   ],
   "source": [
    "FASTENLOC_HDF5_FILE = os.path.join(conf.GENE_ASSOC_DIR, 'fastenloc-torus-rcp.h5')\n",
    "display(FASTENLOC_HDF5_FILE)"
   ]
  },
  {
   "cell_type": "code",
   "execution_count": 78,
   "metadata": {
    "papermill": {
     "duration": 200.415003,
     "end_time": "2020-01-01T22:26:21.840909",
     "exception": false,
     "start_time": "2020-01-01T22:23:01.425906",
     "status": "completed"
    },
    "tags": []
   },
   "outputs": [
    {
     "name": "stdout",
     "output_type": "stream",
     "text": [
      "..........................................................................................................................................................................................................................................................................................................................................................................................................................................................................................................................................................................................................................................................................................................................................................................................................................................................................................................................................................................................................................................................................................................................................................................................................................................................................................................................................................................................................................................................................................................................................................................................................................................................................................................................................................................................................................................................................................................................................................................................................................................................................................................................................................................................................................................................................................................................................................................................................................................................................................................................................................................................................................................................................................................................................................................................................................................................................................................................................................................................................................................................................................................................................................................................................................................................................................................................................................................................................................................................................................................................................................................................................................................................................................................................................................................................................................................................................................................................................................................................................................................................................................................................................................................................................................................................."
     ]
    }
   ],
   "source": [
    "with pd.HDFStore(FASTENLOC_HDF5_FILE, mode='w', complevel=1) as store:\n",
    "    for col in fastenloc_gene_associations.columns:\n",
    "        print('.', flush=True, end='')\n",
    "        \n",
    "        clean_col = simplify_string_for_hdf5(col)\n",
    "        store[clean_col] = fastenloc_gene_associations[col]"
   ]
  },
  {
   "cell_type": "code",
   "execution_count": 79,
   "metadata": {
    "papermill": {
     "duration": 10.902721,
     "end_time": "2020-01-01T22:26:34.912193",
     "exception": false,
     "start_time": "2020-01-01T22:26:24.009472",
     "status": "completed"
    },
    "tags": []
   },
   "outputs": [
    {
     "data": {
      "text/plain": [
       "['/c100001_raw_Food_weight',\n",
       " '/c100002_raw_Energy',\n",
       " '/c100003_raw_Protein',\n",
       " '/c100004_raw_Fat',\n",
       " '/c100005_raw_Carbohydrate']"
      ]
     },
     "metadata": {},
     "output_type": "display_data"
    }
   ],
   "source": [
    "# testing\n",
    "with pd.HDFStore(FASTENLOC_HDF5_FILE, mode='r') as store:\n",
    "    store_keys = list(store.keys())\n",
    "    assert len(store_keys) == fastenloc_gene_associations.shape[1]\n",
    "    display(store_keys[:5])\n",
    "    \n",
    "    clean_col = simplify_string_for_hdf5('100001_raw-Food_weight')\n",
    "    data = store[clean_col]\n",
    "    assert data.shape == (37967,), data.shape\n",
    "    assert data.loc['ENSG00000267462'] == 3.6406000000000003e-06"
   ]
  },
  {
   "cell_type": "code",
   "execution_count": null,
   "metadata": {
    "papermill": {
     "duration": 2.048505,
     "end_time": "2020-01-01T22:26:39.029012",
     "exception": false,
     "start_time": "2020-01-01T22:26:36.980507",
     "status": "completed"
    },
    "tags": []
   },
   "outputs": [],
   "source": []
  }
 ],
 "metadata": {
  "kernelspec": {
   "display_name": "Python 3",
   "language": "python",
   "name": "python3"
  },
  "language_info": {
   "codemirror_mode": {
    "name": "ipython",
    "version": 3
   },
   "file_extension": ".py",
   "mimetype": "text/x-python",
   "name": "python",
   "nbconvert_exporter": "python",
   "pygments_lexer": "ipython3",
   "version": "3.7.6"
  },
  "papermill": {
   "duration": 27890.451194,
   "end_time": "2020-01-01T22:26:45.407739",
   "environment_variables": {},
   "exception": null,
   "input_path": "100_postprocessing/05_fastenloc.ipynb",
   "output_path": "100_postprocessing/05_fastenloc.run.ipynb",
   "parameters": {},
   "start_time": "2020-01-01T14:41:54.956545",
   "version": "1.2.1"
  }
 },
 "nbformat": 4,
 "nbformat_minor": 4
}
