{
 "cells": [
  {
   "cell_type": "code",
   "execution_count": 1,
   "metadata": {},
   "outputs": [],
   "source": [
    "%load_ext autoreload\n",
    "%autoreload 2"
   ]
  },
  {
   "cell_type": "code",
   "execution_count": 2,
   "metadata": {},
   "outputs": [],
   "source": [
    "import os\n",
    "from glob import glob\n",
    "from concurrent.futures import ProcessPoolExecutor, as_completed\n",
    "\n",
    "import numpy as np\n",
    "import pandas as pd\n",
    "\n",
    "import settings as conf\n",
    "import metadata\n",
    "from utils import is_number, chunker\n",
    "from results.multixcan import MXPhenoInfo, MXPhenoResults"
   ]
  },
  {
   "cell_type": "markdown",
   "metadata": {},
   "source": [
    "# fastENLOC reading functions"
   ]
  },
  {
   "cell_type": "code",
   "execution_count": 3,
   "metadata": {},
   "outputs": [],
   "source": [
    "with open(conf.FASTENLOC_GTEX_TISSUES_FILE, 'r') as f:\n",
    "    FASTENLOC_TISSUES_NAMES = set([x.strip() for x in f.readlines()])"
   ]
  },
  {
   "cell_type": "code",
   "execution_count": 4,
   "metadata": {},
   "outputs": [
    {
     "data": {
      "text/plain": [
       "'/mnt/phenomexcan_base/results/fastenloc/rapid_gwas_project/*.enloc.sig.out.gz'"
      ]
     },
     "metadata": {},
     "output_type": "display_data"
    }
   ],
   "source": [
    "# create summary of files\n",
    "_path = os.path.join(conf.FASTENLOC_RESULTS_DIR['RapidGWASProject'], '*.enloc.sig.out.gz')\n",
    "display(_path)\n",
    "all_fastenloc_results_files = glob(_path)"
   ]
  },
  {
   "cell_type": "code",
   "execution_count": 5,
   "metadata": {},
   "outputs": [],
   "source": [
    "PHENO_CODES = set(metadata.RAPID_GWAS_PHENO_INFO.index)"
   ]
  },
  {
   "cell_type": "code",
   "execution_count": 12,
   "metadata": {},
   "outputs": [
    {
     "data": {
      "text/plain": [
       "4359"
      ]
     },
     "execution_count": 12,
     "metadata": {},
     "output_type": "execute_result"
    }
   ],
   "source": [
    "len(PHENO_CODES)"
   ]
  },
  {
   "cell_type": "code",
   "execution_count": 13,
   "metadata": {},
   "outputs": [],
   "source": [
    "phenos = []\n",
    "tissues = []\n",
    "\n",
    "for f in all_fastenloc_results_files:\n",
    "    split = f.split('-')\n",
    "    \n",
    "    tiss = split[-1].split('.')[0]\n",
    "    if tiss not in FASTENLOC_TISSUES_NAMES:\n",
    "        tiss = '-'.join(split[-2:]).split('.')[0]\n",
    "    \n",
    "    phen = split[1]\n",
    "    if phen not in PHENO_CODES:\n",
    "        phen = '-'.join(split[1:3])\n",
    "    \n",
    "    phenos.append(phen)\n",
    "    tissues.append(tiss)\n",
    "\n",
    "results_summary = pd.DataFrame({'pheno': phenos, 'tissue': tissues, 'file': all_fastenloc_results_files})"
   ]
  },
  {
   "cell_type": "code",
   "execution_count": 16,
   "metadata": {},
   "outputs": [
    {
     "data": {
      "text/plain": [
       "(198401, 3)"
      ]
     },
     "metadata": {},
     "output_type": "display_data"
    }
   ],
   "source": [
    "display(results_summary.shape)\n",
    "assert results_summary.shape[0] == int(conf.FASTENLOC_EXPECTED_PHENOTYPES['RapidGWASProject'] * conf.GTEX_MODELS_N_EXPECTED_TISSUES)"
   ]
  },
  {
   "cell_type": "code",
   "execution_count": 17,
   "metadata": {},
   "outputs": [
    {
     "data": {
      "text/html": [
       "<div>\n",
       "<style scoped>\n",
       "    .dataframe tbody tr th:only-of-type {\n",
       "        vertical-align: middle;\n",
       "    }\n",
       "\n",
       "    .dataframe tbody tr th {\n",
       "        vertical-align: top;\n",
       "    }\n",
       "\n",
       "    .dataframe thead th {\n",
       "        text-align: right;\n",
       "    }\n",
       "</style>\n",
       "<table border=\"1\" class=\"dataframe\">\n",
       "  <thead>\n",
       "    <tr style=\"text-align: right;\">\n",
       "      <th></th>\n",
       "      <th>pheno</th>\n",
       "      <th>tissue</th>\n",
       "      <th>file</th>\n",
       "    </tr>\n",
       "  </thead>\n",
       "  <tbody>\n",
       "    <tr>\n",
       "      <th>0</th>\n",
       "      <td>J15</td>\n",
       "      <td>Adrenal_Gland</td>\n",
       "      <td>/mnt/phenomexcan_base/results/fastenloc/rapid_...</td>\n",
       "    </tr>\n",
       "    <tr>\n",
       "      <th>1</th>\n",
       "      <td>D03</td>\n",
       "      <td>Pancreas</td>\n",
       "      <td>/mnt/phenomexcan_base/results/fastenloc/rapid_...</td>\n",
       "    </tr>\n",
       "    <tr>\n",
       "      <th>2</th>\n",
       "      <td>20003_1141180392</td>\n",
       "      <td>Artery_Coronary</td>\n",
       "      <td>/mnt/phenomexcan_base/results/fastenloc/rapid_...</td>\n",
       "    </tr>\n",
       "    <tr>\n",
       "      <th>3</th>\n",
       "      <td>Z01</td>\n",
       "      <td>Muscle_Skeletal</td>\n",
       "      <td>/mnt/phenomexcan_base/results/fastenloc/rapid_...</td>\n",
       "    </tr>\n",
       "    <tr>\n",
       "      <th>4</th>\n",
       "      <td>20003_1141146138</td>\n",
       "      <td>Adrenal_Gland</td>\n",
       "      <td>/mnt/phenomexcan_base/results/fastenloc/rapid_...</td>\n",
       "    </tr>\n",
       "  </tbody>\n",
       "</table>\n",
       "</div>"
      ],
      "text/plain": [
       "              pheno           tissue  \\\n",
       "0               J15    Adrenal_Gland   \n",
       "1               D03         Pancreas   \n",
       "2  20003_1141180392  Artery_Coronary   \n",
       "3               Z01  Muscle_Skeletal   \n",
       "4  20003_1141146138    Adrenal_Gland   \n",
       "\n",
       "                                                file  \n",
       "0  /mnt/phenomexcan_base/results/fastenloc/rapid_...  \n",
       "1  /mnt/phenomexcan_base/results/fastenloc/rapid_...  \n",
       "2  /mnt/phenomexcan_base/results/fastenloc/rapid_...  \n",
       "3  /mnt/phenomexcan_base/results/fastenloc/rapid_...  \n",
       "4  /mnt/phenomexcan_base/results/fastenloc/rapid_...  "
      ]
     },
     "execution_count": 17,
     "metadata": {},
     "output_type": "execute_result"
    }
   ],
   "source": [
    "results_summary.head()"
   ]
  },
  {
   "cell_type": "code",
   "execution_count": 18,
   "metadata": {},
   "outputs": [
    {
     "data": {
      "text/plain": [
       "(4049,)"
      ]
     },
     "execution_count": 18,
     "metadata": {},
     "output_type": "execute_result"
    }
   ],
   "source": [
    "results_summary['pheno'].unique().shape"
   ]
  },
  {
   "cell_type": "code",
   "execution_count": 19,
   "metadata": {},
   "outputs": [],
   "source": [
    "assert np.all([t in PHENO_CODES for t in results_summary['pheno'].unique()])"
   ]
  },
  {
   "cell_type": "code",
   "execution_count": 20,
   "metadata": {},
   "outputs": [],
   "source": [
    "assert results_summary['tissue'].unique().shape[0] == 49"
   ]
  },
  {
   "cell_type": "code",
   "execution_count": 22,
   "metadata": {},
   "outputs": [],
   "source": [
    "assert np.all([t in FASTENLOC_TISSUES_NAMES for t in results_summary['tissue'].unique()])"
   ]
  },
  {
   "cell_type": "code",
   "execution_count": 23,
   "metadata": {},
   "outputs": [],
   "source": [
    "_all_tissues_in_results = results_summary['tissue'].unique()\n",
    "assert np.all([t in _all_tissues_in_results for t in FASTENLOC_TISSUES_NAMES])"
   ]
  },
  {
   "cell_type": "code",
   "execution_count": 24,
   "metadata": {},
   "outputs": [],
   "source": [
    "assert len(all_fastenloc_results_files) == int(conf.SMULTIXCAN_EXPECTED_PHENOTYPES['RapidGWASProject'] * conf.GTEX_MODELS_N_EXPECTED_TISSUES)"
   ]
  },
  {
   "cell_type": "code",
   "execution_count": 26,
   "metadata": {},
   "outputs": [],
   "source": [
    "def read_fe(filename): \n",
    "    fe_data = pd.read_csv(filename, sep='\\s+', usecols=[0, 5], header=None).rename(columns={0: 'gene_cluster', 5: 'rcp'})\n",
    "    fe_data = fe_data = fe_data.assign(gene=fe_data['gene_cluster'].apply(lambda x: x.split(':')[0])) \n",
    "    fe_data = fe_data.assign(gene_cluster=fe_data['gene_cluster'].apply(lambda x: x.split(':')[1]))\n",
    "    \n",
    "    fe_max = fe_data.groupby('gene')['rcp'].sum()\n",
    "    return fe_max\n",
    "\n",
    "def read_pheno(pheno): \n",
    "    _tmp = results_summary[results_summary['pheno'] == pheno] \n",
    "    if _tmp.shape[0] == 0: \n",
    "        return None \n",
    "     \n",
    "    _res = {} \n",
    "    _all_genes = set() \n",
    "    for idx, _data in _tmp.iterrows(): \n",
    "        tissue_data = read_fe(_data.file) \n",
    "        _res[_data.tissue] = tissue_data \n",
    "        _all_genes.update(tissue_data.index) \n",
    "    \n",
    "    return pd.DataFrame(_res, index=_all_genes).fillna(-1).max(axis=1)"
   ]
  },
  {
   "cell_type": "markdown",
   "metadata": {},
   "source": [
    "### Testing"
   ]
  },
  {
   "cell_type": "code",
   "execution_count": 31,
   "metadata": {},
   "outputs": [],
   "source": [
    "# testing\n",
    "t = read_fe(os.path.join(conf.FASTENLOC_RESULTS_DIR['RapidGWASProject'], 'fastenloc-J15-Whole_Blood.enloc.sig.out.gz'))"
   ]
  },
  {
   "cell_type": "code",
   "execution_count": 32,
   "metadata": {},
   "outputs": [
    {
     "data": {
      "text/plain": [
       "gene\n",
       "ENSG00000173930    1.869481e-07\n",
       "ENSG00000260329    5.090216e-08\n",
       "ENSG00000001561    2.257609e-08\n",
       "ENSG00000231769    2.001572e-08\n",
       "ENSG00000175390    1.147284e-08\n",
       "Name: rcp, dtype: float64"
      ]
     },
     "execution_count": 32,
     "metadata": {},
     "output_type": "execute_result"
    }
   ],
   "source": [
    "t.sort_values(ascending=False).head()"
   ]
  },
  {
   "cell_type": "code",
   "execution_count": 33,
   "metadata": {},
   "outputs": [],
   "source": [
    "_gid = metadata.GENE_NAME_TO_ID_MAP['SLCO4C1']\n",
    "assert t[_gid] == (1.869e-07 + 1.578e-11 + 5.201e-12 + 1.409e-13 + 2.694e-11)"
   ]
  },
  {
   "cell_type": "code",
   "execution_count": 34,
   "metadata": {},
   "outputs": [],
   "source": [
    "_gid = metadata.GENE_NAME_TO_ID_MAP['RP11-34P13.7']\n",
    "assert t[_gid] == 0.00, t[_gid]"
   ]
  },
  {
   "cell_type": "markdown",
   "metadata": {},
   "source": [
    "```parallel -j4 'zcat {} | grep ENSG00000049246' ::: fastenloc-1180-*.gz | column -t | sort -k6 -g```"
   ]
  },
  {
   "cell_type": "code",
   "execution_count": 35,
   "metadata": {},
   "outputs": [],
   "source": [
    "t = read_pheno('J15')"
   ]
  },
  {
   "cell_type": "code",
   "execution_count": 36,
   "metadata": {},
   "outputs": [
    {
     "data": {
      "text/plain": [
       "ENSG00000116985    0.011245\n",
       "ENSG00000198754    0.009545\n",
       "ENSG00000279039    0.002292\n",
       "ENSG00000173930    0.000965\n",
       "ENSG00000231769    0.000865\n",
       "dtype: float64"
      ]
     },
     "execution_count": 36,
     "metadata": {},
     "output_type": "execute_result"
    }
   ],
   "source": [
    "t.sort_values(ascending=False).head()"
   ]
  },
  {
   "cell_type": "code",
   "execution_count": 37,
   "metadata": {},
   "outputs": [
    {
     "data": {
      "text/plain": [
       "0.01124506203"
      ]
     },
     "execution_count": 37,
     "metadata": {},
     "output_type": "execute_result"
    }
   ],
   "source": [
    "t.loc['ENSG00000116985']"
   ]
  },
  {
   "cell_type": "code",
   "execution_count": 38,
   "metadata": {},
   "outputs": [],
   "source": [
    "assert t.loc['ENSG00000116985'] == (1.124e-02 + 5.425e-07 + 1.153e-08 + 2.864e-06 + 1.644e-06)"
   ]
  },
  {
   "cell_type": "markdown",
   "metadata": {},
   "source": [
    "# ENLOC reading functions"
   ]
  },
  {
   "cell_type": "code",
   "execution_count": 39,
   "metadata": {},
   "outputs": [
    {
     "data": {
      "text/plain": [
       "'/mnt/phenomexcan_base/results/fastenloc/gtex_gwas'"
      ]
     },
     "metadata": {},
     "output_type": "display_data"
    }
   ],
   "source": [
    "display(conf.FASTENLOC_RESULTS_DIR['GTEX_GWAS'])"
   ]
  },
  {
   "cell_type": "code",
   "execution_count": 41,
   "metadata": {},
   "outputs": [],
   "source": [
    "def read_enloc(enloc_result_path):\n",
    "    enloc_filename = enloc_result_path.split('/')[-1]\n",
    "    phenotype = enloc_filename.split('__PM__')[0]\n",
    "    tissue = enloc_filename.split('__PM__')[1].split('.enloc.rst.gz')[0]\n",
    "    \n",
    "    enloc_result = pd.read_csv(enloc_result_path, sep='\\s+')\n",
    "    enloc_result = enloc_result.assign(gene_id=enloc_result['molecular_qtl_trait'].apply(lambda x: x.split('.')[0]))\n",
    "    \n",
    "    return enloc_result.groupby('gene_id')['locus_rcp'].max().rename(tissue)\n",
    "\n",
    "def read_enloc_pheno(phenotype_code):\n",
    "    all_tissues_data = {}\n",
    "    all_genes = set()\n",
    "    \n",
    "    all_phenotype_files = glob(os.path.join(conf.FASTENLOC_RESULTS_DIR['GTEX_GWAS'], f'{phenotype_code}__PM__*.enloc.rst.gz'))\n",
    "    \n",
    "    for f in all_phenotype_files:\n",
    "        f_data = read_enloc(f)\n",
    "        all_tissues_data[f] = f_data\n",
    "        all_genes.update(f_data.index)\n",
    "    \n",
    "    return pd.DataFrame(all_tissues_data, index=all_genes).fillna(-1).max(axis=1)"
   ]
  },
  {
   "cell_type": "code",
   "execution_count": 42,
   "metadata": {},
   "outputs": [],
   "source": [
    "t = read_enloc_pheno('SSGAC_Education_Years_Pooled')"
   ]
  },
  {
   "cell_type": "code",
   "execution_count": 43,
   "metadata": {},
   "outputs": [
    {
     "data": {
      "text/plain": [
       "ENSG00000127616    0.000\n",
       "ENSG00000172053    0.011\n",
       "ENSG00000186684    0.000\n",
       "ENSG00000159214    0.001\n",
       "ENSG00000107862    0.101\n",
       "dtype: float64"
      ]
     },
     "execution_count": 43,
     "metadata": {},
     "output_type": "execute_result"
    }
   ],
   "source": [
    "t.head()"
   ]
  },
  {
   "cell_type": "code",
   "execution_count": 44,
   "metadata": {},
   "outputs": [],
   "source": [
    "# testing\n",
    "assert t.loc['ENSG00000106113'] == 0.00\n",
    "assert t.loc['ENSG00000164050'] == 0.006\n",
    "assert t.loc['ENSG00000081377'] == 0.317"
   ]
  },
  {
   "cell_type": "markdown",
   "metadata": {},
   "source": [
    "# Get Rapid GWAS phenotypes"
   ]
  },
  {
   "cell_type": "code",
   "execution_count": 45,
   "metadata": {},
   "outputs": [],
   "source": [
    "all_smultixcan_files = glob(os.path.join(conf.SMULTIXCAN_RESULTS_DIR['RapidGWASProject'], '*.tsv.gz'))\n",
    "all_smultixcan_phenotypes = [MXPhenoResults(p) for p in all_smultixcan_files]"
   ]
  },
  {
   "cell_type": "code",
   "execution_count": 46,
   "metadata": {},
   "outputs": [],
   "source": [
    "assert len(all_smultixcan_files) == len(all_smultixcan_phenotypes) == conf.SMULTIXCAN_EXPECTED_PHENOTYPES['RapidGWASProject']"
   ]
  },
  {
   "cell_type": "code",
   "execution_count": 47,
   "metadata": {},
   "outputs": [
    {
     "data": {
      "text/plain": [
       "['/mnt/phenomexcan_base/results/smultixcan/rapid_gwas_project/smultixcan_20096_1_ccn30.tsv.gz',\n",
       " '/mnt/phenomexcan_base/results/smultixcan/rapid_gwas_project/smultixcan_2345_ccn30.tsv.gz',\n",
       " '/mnt/phenomexcan_base/results/smultixcan/rapid_gwas_project/smultixcan_N49_ccn30.tsv.gz',\n",
       " '/mnt/phenomexcan_base/results/smultixcan/rapid_gwas_project/smultixcan_100011_raw_ccn30.tsv.gz',\n",
       " '/mnt/phenomexcan_base/results/smultixcan/rapid_gwas_project/smultixcan_5221_ccn30.tsv.gz']"
      ]
     },
     "execution_count": 47,
     "metadata": {},
     "output_type": "execute_result"
    }
   ],
   "source": [
    "all_smultixcan_files[:5]"
   ]
  },
  {
   "cell_type": "markdown",
   "metadata": {},
   "source": [
    "# Get GTEx GWAS phenotypes"
   ]
  },
  {
   "cell_type": "code",
   "execution_count": 48,
   "metadata": {},
   "outputs": [
    {
     "data": {
      "text/plain": [
       "'/mnt/phenomexcan_base/results/smultixcan/gtex_gwas/*_ccn30.txt'"
      ]
     },
     "metadata": {},
     "output_type": "display_data"
    }
   ],
   "source": [
    "_path = os.path.join(conf.SMULTIXCAN_RESULTS_DIR['GTEX_GWAS'], '*_ccn30.txt')\n",
    "display(_path)\n",
    "all_extra_results_files = glob(_path)\n",
    "assert len(all_extra_results_files) == conf.SMULTIXCAN_EXPECTED_PHENOTYPES['GTEX_GWAS']"
   ]
  },
  {
   "cell_type": "code",
   "execution_count": 49,
   "metadata": {},
   "outputs": [
    {
     "data": {
      "text/plain": [
       "['/mnt/phenomexcan_base/results/smultixcan/gtex_gwas/CARDIoGRAM_C4D_CAD_ADDITIVE_smultixcan_imputed_gwas_gtexv8mashr_ccn30.txt',\n",
       " '/mnt/phenomexcan_base/results/smultixcan/gtex_gwas/Astle_et_al_2016_Platelet_count_smultixcan_imputed_gwas_gtexv8mashr_ccn30.txt',\n",
       " '/mnt/phenomexcan_base/results/smultixcan/gtex_gwas/Astle_et_al_2016_Monocyte_count_smultixcan_imputed_gwas_gtexv8mashr_ccn30.txt',\n",
       " '/mnt/phenomexcan_base/results/smultixcan/gtex_gwas/Astle_et_al_2016_Neutrophil_count_smultixcan_imputed_gwas_gtexv8mashr_ccn30.txt',\n",
       " '/mnt/phenomexcan_base/results/smultixcan/gtex_gwas/Astle_et_al_2016_Lymphocyte_counts_smultixcan_imputed_gwas_gtexv8mashr_ccn30.txt']"
      ]
     },
     "execution_count": 49,
     "metadata": {},
     "output_type": "execute_result"
    }
   ],
   "source": [
    "all_extra_results_files[:5]"
   ]
  },
  {
   "cell_type": "code",
   "execution_count": 50,
   "metadata": {},
   "outputs": [
    {
     "data": {
      "text/plain": [
       "42"
      ]
     },
     "metadata": {},
     "output_type": "display_data"
    }
   ],
   "source": [
    "_file_pattern = '(?P<code>[^/]+)_smultixcan_imputed_gwas_gtexv8mashr_ccn30\\.txt'\n",
    "all_extra_phenotypes = [MXPhenoResults(p, _file_pattern) for p in all_extra_results_files]\n",
    "all_extra_phenotypes_plain_names = pd.Index([p.pheno_info.get_plain_name() for p in all_extra_phenotypes])\n",
    "\n",
    "display(len(all_extra_phenotypes))\n",
    "assert len(all_extra_phenotypes) == conf.SMULTIXCAN_EXPECTED_PHENOTYPES['GTEX_GWAS']"
   ]
  },
  {
   "cell_type": "code",
   "execution_count": 51,
   "metadata": {},
   "outputs": [
    {
     "data": {
      "text/plain": [
       "'CARDIoGRAM_C4D_CAD_ADDITIVE'"
      ]
     },
     "execution_count": 51,
     "metadata": {},
     "output_type": "execute_result"
    }
   ],
   "source": [
    "all_extra_phenotypes[0].pheno_info.get_plain_name()"
   ]
  },
  {
   "cell_type": "code",
   "execution_count": 54,
   "metadata": {},
   "outputs": [],
   "source": [
    "all_extra_phenotypes_codes = [os.path.basename(f).split('_smultixcan_imputed_gwas_gtexv8mashr_ccn30')[0] for f in all_extra_results_files]\n",
    "assert len(all_extra_phenotypes_codes) == conf.SMULTIXCAN_EXPECTED_PHENOTYPES['GTEX_GWAS']"
   ]
  },
  {
   "cell_type": "code",
   "execution_count": 55,
   "metadata": {},
   "outputs": [
    {
     "data": {
      "text/plain": [
       "['CARDIoGRAM_C4D_CAD_ADDITIVE',\n",
       " 'Astle_et_al_2016_Platelet_count',\n",
       " 'Astle_et_al_2016_Monocyte_count',\n",
       " 'Astle_et_al_2016_Neutrophil_count',\n",
       " 'Astle_et_al_2016_Lymphocyte_counts']"
      ]
     },
     "execution_count": 55,
     "metadata": {},
     "output_type": "execute_result"
    }
   ],
   "source": [
    "all_extra_phenotypes_codes[:5]"
   ]
  },
  {
   "cell_type": "code",
   "execution_count": 56,
   "metadata": {},
   "outputs": [],
   "source": [
    "all_extra_phenotypes_codes = set(all_extra_phenotypes_codes)"
   ]
  },
  {
   "cell_type": "markdown",
   "metadata": {},
   "source": [
    "# Read all results"
   ]
  },
  {
   "cell_type": "code",
   "execution_count": 57,
   "metadata": {},
   "outputs": [],
   "source": [
    "def read_generic(pheno_code):\n",
    "    if pheno_code in all_extra_phenotypes_codes:\n",
    "        return read_enloc_pheno(pheno_code)\n",
    "    else:\n",
    "        return read_pheno(pheno_code)\n",
    "\n",
    "def _get_combined_results(phenos):\n",
    "    return {pheno.pheno_info.get_plain_name() : read_generic(pheno.pheno_info.pheno_code) for pheno in phenos}"
   ]
  },
  {
   "cell_type": "code",
   "execution_count": 58,
   "metadata": {},
   "outputs": [],
   "source": [
    "# testing\n",
    "_tmp = _get_combined_results(all_smultixcan_phenotypes[:4])\n",
    "assert len(_tmp) == 4"
   ]
  },
  {
   "cell_type": "code",
   "execution_count": 59,
   "metadata": {},
   "outputs": [],
   "source": [
    "# testing\n",
    "_tmp = _get_combined_results(all_extra_phenotypes[:4])\n",
    "assert len(_tmp) == 4"
   ]
  },
  {
   "cell_type": "code",
   "execution_count": 60,
   "metadata": {},
   "outputs": [],
   "source": [
    "_pending = read_generic('C_MYELOID-LEUKAEMIA')"
   ]
  },
  {
   "cell_type": "code",
   "execution_count": 61,
   "metadata": {},
   "outputs": [
    {
     "data": {
      "text/plain": [
       "ENSG00000244754    1.248390e-10\n",
       "ENSG00000168092    9.029830e-11\n",
       "ENSG00000172053    6.092500e-12\n",
       "ENSG00000232878    3.847000e-12\n",
       "ENSG00000117215    2.153970e-11\n",
       "dtype: float64"
      ]
     },
     "execution_count": 61,
     "metadata": {},
     "output_type": "execute_result"
    }
   ],
   "source": [
    "_pending.head()"
   ]
  },
  {
   "cell_type": "code",
   "execution_count": 62,
   "metadata": {},
   "outputs": [],
   "source": [
    "_pending = read_generic('SSGAC_Education_Years_Pooled')"
   ]
  },
  {
   "cell_type": "code",
   "execution_count": 63,
   "metadata": {},
   "outputs": [
    {
     "data": {
      "text/plain": [
       "ENSG00000127616    0.000\n",
       "ENSG00000172053    0.011\n",
       "ENSG00000186684    0.000\n",
       "ENSG00000159214    0.001\n",
       "ENSG00000107862    0.101\n",
       "dtype: float64"
      ]
     },
     "execution_count": 63,
     "metadata": {},
     "output_type": "execute_result"
    }
   ],
   "source": [
    "_pending.head()"
   ]
  },
  {
   "cell_type": "code",
   "execution_count": 64,
   "metadata": {},
   "outputs": [],
   "source": [
    "def _run_all(phenotype_chunks, n_jobs=20):\n",
    "    all_results = {}\n",
    "    \n",
    "    with ProcessPoolExecutor(max_workers=n_jobs) as executor:\n",
    "        tasks = [executor.submit(_get_combined_results, chunk) for chunk in phenotype_chunks]\n",
    "        for future in as_completed(tasks):\n",
    "            res = future.result()\n",
    "            all_results.update(res)\n",
    "\n",
    "    return all_results"
   ]
  },
  {
   "cell_type": "code",
   "execution_count": 65,
   "metadata": {},
   "outputs": [],
   "source": [
    "# phenotype_chunks = chunker(all_smultixcan_phenotypes[:5] + all_extra_phenotypes[:5], 2)\n",
    "phenotype_chunks = chunker(all_smultixcan_phenotypes + all_extra_phenotypes, 200)"
   ]
  },
  {
   "cell_type": "code",
   "execution_count": 66,
   "metadata": {},
   "outputs": [],
   "source": [
    "all_results = _run_all(phenotype_chunks)"
   ]
  },
  {
   "cell_type": "markdown",
   "metadata": {},
   "source": [
    "## Save as DataFrame"
   ]
  },
  {
   "cell_type": "code",
   "execution_count": 67,
   "metadata": {},
   "outputs": [],
   "source": [
    "assert len(all_results) == conf.FASTENLOC_EXPECTED_PHENOTYPES['RapidGWASProject'] + conf.FASTENLOC_EXPECTED_PHENOTYPES['GTEX_GWAS']"
   ]
  },
  {
   "cell_type": "code",
   "execution_count": 68,
   "metadata": {},
   "outputs": [
    {
     "data": {
      "text/plain": [
       "(37967, 4091)"
      ]
     },
     "metadata": {},
     "output_type": "display_data"
    },
    {
     "data": {
      "text/html": [
       "<div>\n",
       "<style scoped>\n",
       "    .dataframe tbody tr th:only-of-type {\n",
       "        vertical-align: middle;\n",
       "    }\n",
       "\n",
       "    .dataframe tbody tr th {\n",
       "        vertical-align: top;\n",
       "    }\n",
       "\n",
       "    .dataframe thead th {\n",
       "        text-align: right;\n",
       "    }\n",
       "</style>\n",
       "<table border=\"1\" class=\"dataframe\">\n",
       "  <thead>\n",
       "    <tr style=\"text-align: right;\">\n",
       "      <th></th>\n",
       "      <th>20485-Ever_contemplated_selfharm</th>\n",
       "      <th>6160_2-Leisuresocial_activities_Pub_or_social_club</th>\n",
       "      <th>6139_3-Gas_or_solidfuel_cookingheating_An_open_solid_fuel_fire_that_you_use_regularly_in_winter_time</th>\n",
       "      <th>L12_FOLLICULARNAS-Other_and_unspecified_follicular_disorders</th>\n",
       "      <th>2654_8-Nonbutter_spread_type_details_Other_low_or_reduced_fat_spread</th>\n",
       "      <th>22617_8139-Job_SOC_coding_Assemblers_and_routine_operatives_nec</th>\n",
       "      <th>I9_CARDMPRI-Cardiomyopathies_Primaryintrinsic</th>\n",
       "      <th>20003_1141188442-Treatmentmedication_code_glucosamine_product</th>\n",
       "      <th>RHEUMA_SEROPOS_OTH-Otherunspecified_seropositiverheumatoid_arthritis</th>\n",
       "      <th>22601_11523251-Job_coding_office_manager_accountpayrolls_manager_administration_manager_litigationsolicitors_office_manager</th>\n",
       "      <th>...</th>\n",
       "      <th>PGC_ADHD_EUR_2017</th>\n",
       "      <th>BCAC_ER_negative_BreastCancer_EUR</th>\n",
       "      <th>SSGAC_Education_Years_Pooled</th>\n",
       "      <th>pgc.scz2</th>\n",
       "      <th>MAGNETIC_HDL.C</th>\n",
       "      <th>MAGIC_ln_FastingInsulin</th>\n",
       "      <th>Astle_et_al_2016_Sum_eosinophil_basophil_counts</th>\n",
       "      <th>SSGAC_Depressive_Symptoms</th>\n",
       "      <th>Jones_et_al_2016_SleepDuration</th>\n",
       "      <th>Astle_et_al_2016_Red_blood_cell_count</th>\n",
       "    </tr>\n",
       "    <tr>\n",
       "      <th>gene_name</th>\n",
       "      <th></th>\n",
       "      <th></th>\n",
       "      <th></th>\n",
       "      <th></th>\n",
       "      <th></th>\n",
       "      <th></th>\n",
       "      <th></th>\n",
       "      <th></th>\n",
       "      <th></th>\n",
       "      <th></th>\n",
       "      <th></th>\n",
       "      <th></th>\n",
       "      <th></th>\n",
       "      <th></th>\n",
       "      <th></th>\n",
       "      <th></th>\n",
       "      <th></th>\n",
       "      <th></th>\n",
       "      <th></th>\n",
       "      <th></th>\n",
       "      <th></th>\n",
       "    </tr>\n",
       "  </thead>\n",
       "  <tbody>\n",
       "    <tr>\n",
       "      <th>ENSG00000000419</th>\n",
       "      <td>0.000008</td>\n",
       "      <td>0.000505</td>\n",
       "      <td>0.000305</td>\n",
       "      <td>3.300140e-11</td>\n",
       "      <td>0.000039</td>\n",
       "      <td>3.736700e-07</td>\n",
       "      <td>0.000010</td>\n",
       "      <td>0.000017</td>\n",
       "      <td>0.000044</td>\n",
       "      <td>2.399400e-07</td>\n",
       "      <td>...</td>\n",
       "      <td>0.0</td>\n",
       "      <td>NaN</td>\n",
       "      <td>0.001</td>\n",
       "      <td>0.000</td>\n",
       "      <td>NaN</td>\n",
       "      <td>NaN</td>\n",
       "      <td>0.001</td>\n",
       "      <td>NaN</td>\n",
       "      <td>NaN</td>\n",
       "      <td>0.001</td>\n",
       "    </tr>\n",
       "    <tr>\n",
       "      <th>ENSG00000000457</th>\n",
       "      <td>0.000131</td>\n",
       "      <td>0.002876</td>\n",
       "      <td>0.003605</td>\n",
       "      <td>8.840290e-11</td>\n",
       "      <td>0.000203</td>\n",
       "      <td>7.714700e-07</td>\n",
       "      <td>0.000195</td>\n",
       "      <td>0.000601</td>\n",
       "      <td>0.000245</td>\n",
       "      <td>5.047600e-06</td>\n",
       "      <td>...</td>\n",
       "      <td>NaN</td>\n",
       "      <td>NaN</td>\n",
       "      <td>0.000</td>\n",
       "      <td>NaN</td>\n",
       "      <td>NaN</td>\n",
       "      <td>NaN</td>\n",
       "      <td>0.000</td>\n",
       "      <td>NaN</td>\n",
       "      <td>NaN</td>\n",
       "      <td>0.000</td>\n",
       "    </tr>\n",
       "    <tr>\n",
       "      <th>ENSG00000000460</th>\n",
       "      <td>0.000014</td>\n",
       "      <td>0.000975</td>\n",
       "      <td>0.005453</td>\n",
       "      <td>9.497296e-11</td>\n",
       "      <td>0.000147</td>\n",
       "      <td>1.070900e-06</td>\n",
       "      <td>0.000029</td>\n",
       "      <td>0.000224</td>\n",
       "      <td>0.004665</td>\n",
       "      <td>3.258560e-06</td>\n",
       "      <td>...</td>\n",
       "      <td>NaN</td>\n",
       "      <td>NaN</td>\n",
       "      <td>0.000</td>\n",
       "      <td>NaN</td>\n",
       "      <td>NaN</td>\n",
       "      <td>NaN</td>\n",
       "      <td>0.000</td>\n",
       "      <td>NaN</td>\n",
       "      <td>NaN</td>\n",
       "      <td>0.000</td>\n",
       "    </tr>\n",
       "    <tr>\n",
       "      <th>ENSG00000000938</th>\n",
       "      <td>0.000019</td>\n",
       "      <td>0.000449</td>\n",
       "      <td>0.014776</td>\n",
       "      <td>8.855560e-11</td>\n",
       "      <td>0.000091</td>\n",
       "      <td>6.395000e-07</td>\n",
       "      <td>0.000090</td>\n",
       "      <td>0.000767</td>\n",
       "      <td>0.000453</td>\n",
       "      <td>5.325200e-07</td>\n",
       "      <td>...</td>\n",
       "      <td>NaN</td>\n",
       "      <td>NaN</td>\n",
       "      <td>NaN</td>\n",
       "      <td>0.002</td>\n",
       "      <td>NaN</td>\n",
       "      <td>NaN</td>\n",
       "      <td>0.001</td>\n",
       "      <td>NaN</td>\n",
       "      <td>NaN</td>\n",
       "      <td>NaN</td>\n",
       "    </tr>\n",
       "    <tr>\n",
       "      <th>ENSG00000000971</th>\n",
       "      <td>0.000006</td>\n",
       "      <td>0.000674</td>\n",
       "      <td>0.001918</td>\n",
       "      <td>4.448820e-10</td>\n",
       "      <td>0.000057</td>\n",
       "      <td>1.796000e-07</td>\n",
       "      <td>0.000044</td>\n",
       "      <td>0.000049</td>\n",
       "      <td>0.000212</td>\n",
       "      <td>9.644000e-07</td>\n",
       "      <td>...</td>\n",
       "      <td>NaN</td>\n",
       "      <td>NaN</td>\n",
       "      <td>NaN</td>\n",
       "      <td>NaN</td>\n",
       "      <td>NaN</td>\n",
       "      <td>NaN</td>\n",
       "      <td>0.000</td>\n",
       "      <td>NaN</td>\n",
       "      <td>NaN</td>\n",
       "      <td>0.000</td>\n",
       "    </tr>\n",
       "  </tbody>\n",
       "</table>\n",
       "<p>5 rows × 4091 columns</p>\n",
       "</div>"
      ],
      "text/plain": [
       "                 20485-Ever_contemplated_selfharm  \\\n",
       "gene_name                                           \n",
       "ENSG00000000419                          0.000008   \n",
       "ENSG00000000457                          0.000131   \n",
       "ENSG00000000460                          0.000014   \n",
       "ENSG00000000938                          0.000019   \n",
       "ENSG00000000971                          0.000006   \n",
       "\n",
       "                 6160_2-Leisuresocial_activities_Pub_or_social_club  \\\n",
       "gene_name                                                             \n",
       "ENSG00000000419                                           0.000505    \n",
       "ENSG00000000457                                           0.002876    \n",
       "ENSG00000000460                                           0.000975    \n",
       "ENSG00000000938                                           0.000449    \n",
       "ENSG00000000971                                           0.000674    \n",
       "\n",
       "                 6139_3-Gas_or_solidfuel_cookingheating_An_open_solid_fuel_fire_that_you_use_regularly_in_winter_time  \\\n",
       "gene_name                                                                                                               \n",
       "ENSG00000000419                                           0.000305                                                      \n",
       "ENSG00000000457                                           0.003605                                                      \n",
       "ENSG00000000460                                           0.005453                                                      \n",
       "ENSG00000000938                                           0.014776                                                      \n",
       "ENSG00000000971                                           0.001918                                                      \n",
       "\n",
       "                 L12_FOLLICULARNAS-Other_and_unspecified_follicular_disorders  \\\n",
       "gene_name                                                                       \n",
       "ENSG00000000419                                       3.300140e-11              \n",
       "ENSG00000000457                                       8.840290e-11              \n",
       "ENSG00000000460                                       9.497296e-11              \n",
       "ENSG00000000938                                       8.855560e-11              \n",
       "ENSG00000000971                                       4.448820e-10              \n",
       "\n",
       "                 2654_8-Nonbutter_spread_type_details_Other_low_or_reduced_fat_spread  \\\n",
       "gene_name                                                                               \n",
       "ENSG00000000419                                           0.000039                      \n",
       "ENSG00000000457                                           0.000203                      \n",
       "ENSG00000000460                                           0.000147                      \n",
       "ENSG00000000938                                           0.000091                      \n",
       "ENSG00000000971                                           0.000057                      \n",
       "\n",
       "                 22617_8139-Job_SOC_coding_Assemblers_and_routine_operatives_nec  \\\n",
       "gene_name                                                                          \n",
       "ENSG00000000419                                       3.736700e-07                 \n",
       "ENSG00000000457                                       7.714700e-07                 \n",
       "ENSG00000000460                                       1.070900e-06                 \n",
       "ENSG00000000938                                       6.395000e-07                 \n",
       "ENSG00000000971                                       1.796000e-07                 \n",
       "\n",
       "                 I9_CARDMPRI-Cardiomyopathies_Primaryintrinsic  \\\n",
       "gene_name                                                        \n",
       "ENSG00000000419                                       0.000010   \n",
       "ENSG00000000457                                       0.000195   \n",
       "ENSG00000000460                                       0.000029   \n",
       "ENSG00000000938                                       0.000090   \n",
       "ENSG00000000971                                       0.000044   \n",
       "\n",
       "                 20003_1141188442-Treatmentmedication_code_glucosamine_product  \\\n",
       "gene_name                                                                        \n",
       "ENSG00000000419                                           0.000017               \n",
       "ENSG00000000457                                           0.000601               \n",
       "ENSG00000000460                                           0.000224               \n",
       "ENSG00000000938                                           0.000767               \n",
       "ENSG00000000971                                           0.000049               \n",
       "\n",
       "                 RHEUMA_SEROPOS_OTH-Otherunspecified_seropositiverheumatoid_arthritis  \\\n",
       "gene_name                                                                               \n",
       "ENSG00000000419                                           0.000044                      \n",
       "ENSG00000000457                                           0.000245                      \n",
       "ENSG00000000460                                           0.004665                      \n",
       "ENSG00000000938                                           0.000453                      \n",
       "ENSG00000000971                                           0.000212                      \n",
       "\n",
       "                 22601_11523251-Job_coding_office_manager_accountpayrolls_manager_administration_manager_litigationsolicitors_office_manager  \\\n",
       "gene_name                                                                                                                                      \n",
       "ENSG00000000419                                       2.399400e-07                                                                             \n",
       "ENSG00000000457                                       5.047600e-06                                                                             \n",
       "ENSG00000000460                                       3.258560e-06                                                                             \n",
       "ENSG00000000938                                       5.325200e-07                                                                             \n",
       "ENSG00000000971                                       9.644000e-07                                                                             \n",
       "\n",
       "                 ...  PGC_ADHD_EUR_2017  BCAC_ER_negative_BreastCancer_EUR  \\\n",
       "gene_name        ...                                                         \n",
       "ENSG00000000419  ...                0.0                                NaN   \n",
       "ENSG00000000457  ...                NaN                                NaN   \n",
       "ENSG00000000460  ...                NaN                                NaN   \n",
       "ENSG00000000938  ...                NaN                                NaN   \n",
       "ENSG00000000971  ...                NaN                                NaN   \n",
       "\n",
       "                 SSGAC_Education_Years_Pooled  pgc.scz2  MAGNETIC_HDL.C  \\\n",
       "gene_name                                                                 \n",
       "ENSG00000000419                         0.001     0.000             NaN   \n",
       "ENSG00000000457                         0.000       NaN             NaN   \n",
       "ENSG00000000460                         0.000       NaN             NaN   \n",
       "ENSG00000000938                           NaN     0.002             NaN   \n",
       "ENSG00000000971                           NaN       NaN             NaN   \n",
       "\n",
       "                 MAGIC_ln_FastingInsulin  \\\n",
       "gene_name                                  \n",
       "ENSG00000000419                      NaN   \n",
       "ENSG00000000457                      NaN   \n",
       "ENSG00000000460                      NaN   \n",
       "ENSG00000000938                      NaN   \n",
       "ENSG00000000971                      NaN   \n",
       "\n",
       "                 Astle_et_al_2016_Sum_eosinophil_basophil_counts  \\\n",
       "gene_name                                                          \n",
       "ENSG00000000419                                            0.001   \n",
       "ENSG00000000457                                            0.000   \n",
       "ENSG00000000460                                            0.000   \n",
       "ENSG00000000938                                            0.001   \n",
       "ENSG00000000971                                            0.000   \n",
       "\n",
       "                 SSGAC_Depressive_Symptoms  Jones_et_al_2016_SleepDuration  \\\n",
       "gene_name                                                                    \n",
       "ENSG00000000419                        NaN                             NaN   \n",
       "ENSG00000000457                        NaN                             NaN   \n",
       "ENSG00000000460                        NaN                             NaN   \n",
       "ENSG00000000938                        NaN                             NaN   \n",
       "ENSG00000000971                        NaN                             NaN   \n",
       "\n",
       "                 Astle_et_al_2016_Red_blood_cell_count  \n",
       "gene_name                                               \n",
       "ENSG00000000419                                  0.001  \n",
       "ENSG00000000457                                  0.000  \n",
       "ENSG00000000460                                  0.000  \n",
       "ENSG00000000938                                    NaN  \n",
       "ENSG00000000971                                  0.000  \n",
       "\n",
       "[5 rows x 4091 columns]"
      ]
     },
     "metadata": {},
     "output_type": "display_data"
    }
   ],
   "source": [
    "fastenloc_genes_associations = pd.DataFrame(all_results)\n",
    "fastenloc_genes_associations.index.rename('gene_name', inplace=True)\n",
    "\n",
    "assert fastenloc_genes_associations.index.is_unique\n",
    "\n",
    "display(fastenloc_genes_associations.shape)\n",
    "display(fastenloc_genes_associations.head())"
   ]
  },
  {
   "cell_type": "code",
   "execution_count": 69,
   "metadata": {},
   "outputs": [
    {
     "data": {
      "text/plain": [
       "15    37967\n",
       "Name: gene_name, dtype: int64"
      ]
     },
     "metadata": {},
     "output_type": "display_data"
    }
   ],
   "source": [
    "# check genes id format\n",
    "_tmp = pd.Series(fastenloc_genes_associations.index).apply(len).value_counts()\n",
    "display(_tmp)\n",
    "assert _tmp.shape[0] == 1\n",
    "assert _tmp.index[0] == 15"
   ]
  },
  {
   "cell_type": "code",
   "execution_count": 70,
   "metadata": {},
   "outputs": [
    {
     "data": {
      "text/plain": [
       "float64    4091\n",
       "dtype: int64"
      ]
     },
     "metadata": {},
     "output_type": "display_data"
    }
   ],
   "source": [
    "# check columns data type\n",
    "_tmp = fastenloc_genes_associations.dtypes.value_counts()\n",
    "display(_tmp)\n",
    "assert _tmp.shape[0] == 1"
   ]
  },
  {
   "cell_type": "code",
   "execution_count": 71,
   "metadata": {},
   "outputs": [
    {
     "data": {
      "text/plain": [
       "3341082"
      ]
     },
     "execution_count": 71,
     "metadata": {},
     "output_type": "execute_result"
    }
   ],
   "source": [
    "fastenloc_genes_associations.isna().sum().sum()"
   ]
  },
  {
   "cell_type": "code",
   "execution_count": 72,
   "metadata": {},
   "outputs": [
    {
     "data": {
      "text/plain": [
       "(37967, 4091)"
      ]
     },
     "execution_count": 72,
     "metadata": {},
     "output_type": "execute_result"
    }
   ],
   "source": [
    "fastenloc_genes_associations.dropna(axis=0, how='all').shape"
   ]
  },
  {
   "cell_type": "code",
   "execution_count": 74,
   "metadata": {},
   "outputs": [
    {
     "data": {
      "text/plain": [
       "(37967, 4091)"
      ]
     },
     "metadata": {},
     "output_type": "display_data"
    }
   ],
   "source": [
    "display(fastenloc_genes_associations.shape)"
   ]
  },
  {
   "cell_type": "code",
   "execution_count": 76,
   "metadata": {},
   "outputs": [],
   "source": [
    "assert fastenloc_genes_associations.shape == (37967, conf.FASTENLOC_EXPECTED_PHENOTYPES['RapidGWASProject'] + conf.FASTENLOC_EXPECTED_PHENOTYPES['GTEX_GWAS'])"
   ]
  },
  {
   "cell_type": "code",
   "execution_count": 77,
   "metadata": {},
   "outputs": [],
   "source": [
    "# some testing\n",
    "t = fastenloc_genes_associations['SSGAC_Education_Years_Pooled']"
   ]
  },
  {
   "cell_type": "code",
   "execution_count": 78,
   "metadata": {},
   "outputs": [
    {
     "data": {
      "text/plain": [
       "gene_name\n",
       "ENSG00000000419    0.001\n",
       "ENSG00000000457    0.000\n",
       "ENSG00000000460    0.000\n",
       "ENSG00000000938      NaN\n",
       "ENSG00000000971      NaN\n",
       "Name: SSGAC_Education_Years_Pooled, dtype: float64"
      ]
     },
     "execution_count": 78,
     "metadata": {},
     "output_type": "execute_result"
    }
   ],
   "source": [
    "t.head()"
   ]
  },
  {
   "cell_type": "code",
   "execution_count": 79,
   "metadata": {},
   "outputs": [],
   "source": [
    "assert t.loc['ENSG00000106113'] == 0.00\n",
    "assert t.loc['ENSG00000164050'] == 0.006\n",
    "assert t.loc['ENSG00000081377'] == 0.317\n",
    "assert pd.isnull(t.loc['ENSG00000000938'])"
   ]
  },
  {
   "cell_type": "code",
   "execution_count": 80,
   "metadata": {},
   "outputs": [
    {
     "data": {
      "text/plain": [
       "'/mnt/phenomexcan_base/gene_assoc/fastenloc-torus-rcp.pkl.xz'"
      ]
     },
     "metadata": {},
     "output_type": "display_data"
    }
   ],
   "source": [
    "# Save\n",
    "fastenloc_genes_associations_filename = os.path.join(conf.GENE_ASSOC_DIR, f'fastenloc-torus-rcp.pkl.xz')\n",
    "display(fastenloc_genes_associations_filename)"
   ]
  },
  {
   "cell_type": "code",
   "execution_count": 81,
   "metadata": {},
   "outputs": [],
   "source": [
    "fastenloc_genes_associations.to_pickle(fastenloc_genes_associations_filename)"
   ]
  },
  {
   "cell_type": "code",
   "execution_count": null,
   "metadata": {},
   "outputs": [],
   "source": []
  }
 ],
 "metadata": {
  "kernelspec": {
   "display_name": "Python 3",
   "language": "python",
   "name": "python3"
  },
  "language_info": {
   "codemirror_mode": {
    "name": "ipython",
    "version": 3
   },
   "file_extension": ".py",
   "mimetype": "text/x-python",
   "name": "python",
   "nbconvert_exporter": "python",
   "pygments_lexer": "ipython3",
   "version": "3.7.5"
  }
 },
 "nbformat": 4,
 "nbformat_minor": 4
}
