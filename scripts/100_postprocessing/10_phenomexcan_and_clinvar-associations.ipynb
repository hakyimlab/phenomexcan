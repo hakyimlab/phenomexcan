{
 "cells": [
  {
   "cell_type": "code",
   "execution_count": 1,
   "metadata": {
    "papermill": {
     "duration": 0.103319,
     "end_time": "2020-01-01T23:03:02.332737",
     "exception": false,
     "start_time": "2020-01-01T23:03:02.229418",
     "status": "completed"
    },
    "tags": []
   },
   "outputs": [],
   "source": [
    "%load_ext autoreload\n",
    "%autoreload 2"
   ]
  },
  {
   "cell_type": "code",
   "execution_count": 2,
   "metadata": {
    "papermill": {
     "duration": 5.49091,
     "end_time": "2020-01-01T23:03:07.874409",
     "exception": false,
     "start_time": "2020-01-01T23:03:02.383499",
     "status": "completed"
    },
    "tags": []
   },
   "outputs": [],
   "source": [
    "import os\n",
    "#import pickle\n",
    "from glob import glob\n",
    "from concurrent.futures import ProcessPoolExecutor, as_completed\n",
    "\n",
    "import numpy as np\n",
    "import pandas as pd\n",
    "#from scipy.cluster.hierarchy import linkage\n",
    "from sklearn.metrics import pairwise_distances\n",
    "#import matplotlib.pyplot as plt\n",
    "#import seaborn as sns\n",
    "\n",
    "import settings as conf\n",
    "import metadata\n",
    "from utils import chunker"
   ]
  },
  {
   "cell_type": "markdown",
   "metadata": {
    "papermill": {
     "duration": 0.046034,
     "end_time": "2020-01-01T23:03:07.973495",
     "exception": false,
     "start_time": "2020-01-01T23:03:07.927461",
     "status": "completed"
    },
    "tags": []
   },
   "source": [
    "# Load gene associations"
   ]
  },
  {
   "cell_type": "markdown",
   "metadata": {
    "papermill": {
     "duration": 0.046742,
     "end_time": "2020-01-01T23:03:08.066537",
     "exception": false,
     "start_time": "2020-01-01T23:03:08.019795",
     "status": "completed"
    },
    "tags": []
   },
   "source": [
    "## Clinvar"
   ]
  },
  {
   "cell_type": "code",
   "execution_count": 3,
   "metadata": {
    "papermill": {
     "duration": 0.090956,
     "end_time": "2020-01-01T23:03:08.204633",
     "exception": false,
     "start_time": "2020-01-01T23:03:08.113677",
     "status": "completed"
    },
    "tags": []
   },
   "outputs": [
    {
     "data": {
      "text/plain": [
       "'/mnt/phenomexcan_base/gene_assoc/clinvar-gene_associations.pkl.xz'"
      ]
     },
     "metadata": {},
     "output_type": "display_data"
    }
   ],
   "source": [
    "clinvar_genes_associations_filename = os.path.join(conf.GENE_ASSOC_DIR, 'clinvar-gene_associations.pkl.xz')\n",
    "display(clinvar_genes_associations_filename)"
   ]
  },
  {
   "cell_type": "code",
   "execution_count": 4,
   "metadata": {
    "papermill": {
     "duration": 0.383255,
     "end_time": "2020-01-01T23:03:08.639837",
     "exception": false,
     "start_time": "2020-01-01T23:03:08.256582",
     "status": "completed"
    },
    "tags": []
   },
   "outputs": [],
   "source": [
    "clinvar_genes_associations = pd.read_pickle(clinvar_genes_associations_filename)"
   ]
  },
  {
   "cell_type": "code",
   "execution_count": 5,
   "metadata": {
    "papermill": {
     "duration": 0.083857,
     "end_time": "2020-01-01T23:03:08.773678",
     "exception": false,
     "start_time": "2020-01-01T23:03:08.689821",
     "status": "completed"
    },
    "tags": []
   },
   "outputs": [
    {
     "data": {
      "text/plain": [
       "(4194, 5586)"
      ]
     },
     "execution_count": 5,
     "metadata": {},
     "output_type": "execute_result"
    }
   ],
   "source": [
    "clinvar_genes_associations.shape"
   ]
  },
  {
   "cell_type": "code",
   "execution_count": 6,
   "metadata": {
    "papermill": {
     "duration": 0.110414,
     "end_time": "2020-01-01T23:03:08.931262",
     "exception": false,
     "start_time": "2020-01-01T23:03:08.820848",
     "status": "completed"
    },
    "tags": []
   },
   "outputs": [
    {
     "data": {
      "text/html": [
       "<div>\n",
       "<style scoped>\n",
       "    .dataframe tbody tr th:only-of-type {\n",
       "        vertical-align: middle;\n",
       "    }\n",
       "\n",
       "    .dataframe tbody tr th {\n",
       "        vertical-align: top;\n",
       "    }\n",
       "\n",
       "    .dataframe thead th {\n",
       "        text-align: right;\n",
       "    }\n",
       "</style>\n",
       "<table border=\"1\" class=\"dataframe\">\n",
       "  <thead>\n",
       "    <tr style=\"text-align: right;\">\n",
       "      <th></th>\n",
       "      <th>Alzheimer's disease</th>\n",
       "      <th>Alpha-2-macroglobulin deficiency</th>\n",
       "      <th>Otitis media, susceptibility to</th>\n",
       "      <th>p phenotype</th>\n",
       "      <th>Glucocorticoid deficiency with achalasia</th>\n",
       "      <th>Keratosis palmoplantaris papulosa</th>\n",
       "      <th>Charcot-Marie-Tooth disease, type 2N</th>\n",
       "      <th>Epileptic encephalopathy, early infantile, 29</th>\n",
       "      <th>Combined oxidative phosphorylation deficiency 8</th>\n",
       "      <th>Leukoencephalopathy, progressive, with ovarian failure</th>\n",
       "      <th>...</th>\n",
       "      <th>Myopia 21, autosomal dominant</th>\n",
       "      <th>Paget disease of bone 6</th>\n",
       "      <th>ZNF711-Related X-linked Mental Retardation</th>\n",
       "      <th>Seborrhea-like dermatitis with psoriasiform elements</th>\n",
       "      <th>PEHO syndrome</th>\n",
       "      <th>Oocyte maturation defect 1</th>\n",
       "      <th>OOCYTE MATURATION DEFECT 6</th>\n",
       "      <th>OOCYTE MATURATION DEFECT 3</th>\n",
       "      <th>Acromelic frontonasal dysostosis</th>\n",
       "      <th>NEURODEVELOPMENTAL DISORDER WITH MOVEMENT ABNORMALITIES, ABNORMAL GAIT, AND AUTISTIC FEATURES</th>\n",
       "    </tr>\n",
       "    <tr>\n",
       "      <th>gene</th>\n",
       "      <th></th>\n",
       "      <th></th>\n",
       "      <th></th>\n",
       "      <th></th>\n",
       "      <th></th>\n",
       "      <th></th>\n",
       "      <th></th>\n",
       "      <th></th>\n",
       "      <th></th>\n",
       "      <th></th>\n",
       "      <th></th>\n",
       "      <th></th>\n",
       "      <th></th>\n",
       "      <th></th>\n",
       "      <th></th>\n",
       "      <th></th>\n",
       "      <th></th>\n",
       "      <th></th>\n",
       "      <th></th>\n",
       "      <th></th>\n",
       "      <th></th>\n",
       "    </tr>\n",
       "  </thead>\n",
       "  <tbody>\n",
       "    <tr>\n",
       "      <th>A2M</th>\n",
       "      <td>1</td>\n",
       "      <td>1</td>\n",
       "      <td>0</td>\n",
       "      <td>0</td>\n",
       "      <td>0</td>\n",
       "      <td>0</td>\n",
       "      <td>0</td>\n",
       "      <td>0</td>\n",
       "      <td>0</td>\n",
       "      <td>0</td>\n",
       "      <td>...</td>\n",
       "      <td>0</td>\n",
       "      <td>0</td>\n",
       "      <td>0</td>\n",
       "      <td>0</td>\n",
       "      <td>0</td>\n",
       "      <td>0</td>\n",
       "      <td>0</td>\n",
       "      <td>0</td>\n",
       "      <td>0</td>\n",
       "      <td>0</td>\n",
       "    </tr>\n",
       "    <tr>\n",
       "      <th>A2ML1</th>\n",
       "      <td>0</td>\n",
       "      <td>0</td>\n",
       "      <td>1</td>\n",
       "      <td>0</td>\n",
       "      <td>0</td>\n",
       "      <td>0</td>\n",
       "      <td>0</td>\n",
       "      <td>0</td>\n",
       "      <td>0</td>\n",
       "      <td>0</td>\n",
       "      <td>...</td>\n",
       "      <td>0</td>\n",
       "      <td>0</td>\n",
       "      <td>0</td>\n",
       "      <td>0</td>\n",
       "      <td>0</td>\n",
       "      <td>0</td>\n",
       "      <td>0</td>\n",
       "      <td>0</td>\n",
       "      <td>0</td>\n",
       "      <td>0</td>\n",
       "    </tr>\n",
       "    <tr>\n",
       "      <th>A4GALT</th>\n",
       "      <td>0</td>\n",
       "      <td>0</td>\n",
       "      <td>0</td>\n",
       "      <td>1</td>\n",
       "      <td>0</td>\n",
       "      <td>0</td>\n",
       "      <td>0</td>\n",
       "      <td>0</td>\n",
       "      <td>0</td>\n",
       "      <td>0</td>\n",
       "      <td>...</td>\n",
       "      <td>0</td>\n",
       "      <td>0</td>\n",
       "      <td>0</td>\n",
       "      <td>0</td>\n",
       "      <td>0</td>\n",
       "      <td>0</td>\n",
       "      <td>0</td>\n",
       "      <td>0</td>\n",
       "      <td>0</td>\n",
       "      <td>0</td>\n",
       "    </tr>\n",
       "    <tr>\n",
       "      <th>AAAS</th>\n",
       "      <td>0</td>\n",
       "      <td>0</td>\n",
       "      <td>0</td>\n",
       "      <td>0</td>\n",
       "      <td>1</td>\n",
       "      <td>0</td>\n",
       "      <td>0</td>\n",
       "      <td>0</td>\n",
       "      <td>0</td>\n",
       "      <td>0</td>\n",
       "      <td>...</td>\n",
       "      <td>0</td>\n",
       "      <td>0</td>\n",
       "      <td>0</td>\n",
       "      <td>0</td>\n",
       "      <td>0</td>\n",
       "      <td>0</td>\n",
       "      <td>0</td>\n",
       "      <td>0</td>\n",
       "      <td>0</td>\n",
       "      <td>0</td>\n",
       "    </tr>\n",
       "    <tr>\n",
       "      <th>AAGAB</th>\n",
       "      <td>0</td>\n",
       "      <td>0</td>\n",
       "      <td>0</td>\n",
       "      <td>0</td>\n",
       "      <td>0</td>\n",
       "      <td>1</td>\n",
       "      <td>0</td>\n",
       "      <td>0</td>\n",
       "      <td>0</td>\n",
       "      <td>0</td>\n",
       "      <td>...</td>\n",
       "      <td>0</td>\n",
       "      <td>0</td>\n",
       "      <td>0</td>\n",
       "      <td>0</td>\n",
       "      <td>0</td>\n",
       "      <td>0</td>\n",
       "      <td>0</td>\n",
       "      <td>0</td>\n",
       "      <td>0</td>\n",
       "      <td>0</td>\n",
       "    </tr>\n",
       "  </tbody>\n",
       "</table>\n",
       "<p>5 rows × 5586 columns</p>\n",
       "</div>"
      ],
      "text/plain": [
       "        Alzheimer's disease  Alpha-2-macroglobulin deficiency  \\\n",
       "gene                                                            \n",
       "A2M                       1                                 1   \n",
       "A2ML1                     0                                 0   \n",
       "A4GALT                    0                                 0   \n",
       "AAAS                      0                                 0   \n",
       "AAGAB                     0                                 0   \n",
       "\n",
       "        Otitis media, susceptibility to  p phenotype  \\\n",
       "gene                                                   \n",
       "A2M                                   0            0   \n",
       "A2ML1                                 1            0   \n",
       "A4GALT                                0            1   \n",
       "AAAS                                  0            0   \n",
       "AAGAB                                 0            0   \n",
       "\n",
       "        Glucocorticoid deficiency with achalasia  \\\n",
       "gene                                               \n",
       "A2M                                            0   \n",
       "A2ML1                                          0   \n",
       "A4GALT                                         0   \n",
       "AAAS                                           1   \n",
       "AAGAB                                          0   \n",
       "\n",
       "        Keratosis palmoplantaris papulosa  \\\n",
       "gene                                        \n",
       "A2M                                     0   \n",
       "A2ML1                                   0   \n",
       "A4GALT                                  0   \n",
       "AAAS                                    0   \n",
       "AAGAB                                   1   \n",
       "\n",
       "        Charcot-Marie-Tooth disease, type 2N  \\\n",
       "gene                                           \n",
       "A2M                                        0   \n",
       "A2ML1                                      0   \n",
       "A4GALT                                     0   \n",
       "AAAS                                       0   \n",
       "AAGAB                                      0   \n",
       "\n",
       "        Epileptic encephalopathy, early infantile, 29  \\\n",
       "gene                                                    \n",
       "A2M                                                 0   \n",
       "A2ML1                                               0   \n",
       "A4GALT                                              0   \n",
       "AAAS                                                0   \n",
       "AAGAB                                               0   \n",
       "\n",
       "        Combined oxidative phosphorylation deficiency 8  \\\n",
       "gene                                                      \n",
       "A2M                                                   0   \n",
       "A2ML1                                                 0   \n",
       "A4GALT                                                0   \n",
       "AAAS                                                  0   \n",
       "AAGAB                                                 0   \n",
       "\n",
       "        Leukoencephalopathy, progressive, with ovarian failure  ...  \\\n",
       "gene                                                            ...   \n",
       "A2M                                                     0       ...   \n",
       "A2ML1                                                   0       ...   \n",
       "A4GALT                                                  0       ...   \n",
       "AAAS                                                    0       ...   \n",
       "AAGAB                                                   0       ...   \n",
       "\n",
       "        Myopia 21, autosomal dominant  Paget disease of bone 6  \\\n",
       "gene                                                             \n",
       "A2M                                 0                        0   \n",
       "A2ML1                               0                        0   \n",
       "A4GALT                              0                        0   \n",
       "AAAS                                0                        0   \n",
       "AAGAB                               0                        0   \n",
       "\n",
       "        ZNF711-Related X-linked Mental Retardation  \\\n",
       "gene                                                 \n",
       "A2M                                              0   \n",
       "A2ML1                                            0   \n",
       "A4GALT                                           0   \n",
       "AAAS                                             0   \n",
       "AAGAB                                            0   \n",
       "\n",
       "        Seborrhea-like dermatitis with psoriasiform elements  PEHO syndrome  \\\n",
       "gene                                                                          \n",
       "A2M                                                     0                 0   \n",
       "A2ML1                                                   0                 0   \n",
       "A4GALT                                                  0                 0   \n",
       "AAAS                                                    0                 0   \n",
       "AAGAB                                                   0                 0   \n",
       "\n",
       "        Oocyte maturation defect 1  OOCYTE MATURATION DEFECT 6  \\\n",
       "gene                                                             \n",
       "A2M                              0                           0   \n",
       "A2ML1                            0                           0   \n",
       "A4GALT                           0                           0   \n",
       "AAAS                             0                           0   \n",
       "AAGAB                            0                           0   \n",
       "\n",
       "        OOCYTE MATURATION DEFECT 3  Acromelic frontonasal dysostosis  \\\n",
       "gene                                                                   \n",
       "A2M                              0                                 0   \n",
       "A2ML1                            0                                 0   \n",
       "A4GALT                           0                                 0   \n",
       "AAAS                             0                                 0   \n",
       "AAGAB                            0                                 0   \n",
       "\n",
       "        NEURODEVELOPMENTAL DISORDER WITH MOVEMENT ABNORMALITIES, ABNORMAL GAIT, AND AUTISTIC FEATURES  \n",
       "gene                                                                                                   \n",
       "A2M                                                     0                                              \n",
       "A2ML1                                                   0                                              \n",
       "A4GALT                                                  0                                              \n",
       "AAAS                                                    0                                              \n",
       "AAGAB                                                   0                                              \n",
       "\n",
       "[5 rows x 5586 columns]"
      ]
     },
     "execution_count": 6,
     "metadata": {},
     "output_type": "execute_result"
    }
   ],
   "source": [
    "clinvar_genes_associations.head(5)"
   ]
  },
  {
   "cell_type": "markdown",
   "metadata": {
    "papermill": {
     "duration": 0.048654,
     "end_time": "2020-01-01T23:03:09.032805",
     "exception": false,
     "start_time": "2020-01-01T23:03:08.984151",
     "status": "completed"
    },
    "tags": []
   },
   "source": [
    "## S-MultiXcan"
   ]
  },
  {
   "cell_type": "code",
   "execution_count": 7,
   "metadata": {
    "papermill": {
     "duration": 0.088453,
     "end_time": "2020-01-01T23:03:09.172391",
     "exception": false,
     "start_time": "2020-01-01T23:03:09.083938",
     "status": "completed"
    },
    "tags": []
   },
   "outputs": [
    {
     "data": {
      "text/plain": [
       "'/mnt/phenomexcan_base/gene_assoc/smultixcan-mashr-zscores.pkl.xz'"
      ]
     },
     "metadata": {},
     "output_type": "display_data"
    }
   ],
   "source": [
    "smultixcan_genes_associations_zscores_filename = os.path.join(conf.GENE_ASSOC_DIR, f'smultixcan-mashr-zscores.pkl.xz')\n",
    "display(smultixcan_genes_associations_zscores_filename)"
   ]
  },
  {
   "cell_type": "code",
   "execution_count": 8,
   "metadata": {
    "papermill": {
     "duration": 76.691022,
     "end_time": "2020-01-01T23:04:25.913325",
     "exception": false,
     "start_time": "2020-01-01T23:03:09.222303",
     "status": "completed"
    },
    "tags": []
   },
   "outputs": [],
   "source": [
    "smultixcan_genes_associations_zscores = pd.read_pickle(smultixcan_genes_associations_zscores_filename)"
   ]
  },
  {
   "cell_type": "code",
   "execution_count": 9,
   "metadata": {
    "papermill": {
     "duration": 0.107478,
     "end_time": "2020-01-01T23:04:26.078879",
     "exception": false,
     "start_time": "2020-01-01T23:04:25.971401",
     "status": "completed"
    },
    "tags": []
   },
   "outputs": [
    {
     "data": {
      "text/plain": [
       "(22515, 4091)"
      ]
     },
     "execution_count": 9,
     "metadata": {},
     "output_type": "execute_result"
    }
   ],
   "source": [
    "smultixcan_genes_associations_zscores.shape"
   ]
  },
  {
   "cell_type": "code",
   "execution_count": 10,
   "metadata": {
    "papermill": {
     "duration": 0.119459,
     "end_time": "2020-01-01T23:04:26.249769",
     "exception": false,
     "start_time": "2020-01-01T23:04:26.130310",
     "status": "completed"
    },
    "tags": []
   },
   "outputs": [
    {
     "data": {
      "text/html": [
       "<div>\n",
       "<style scoped>\n",
       "    .dataframe tbody tr th:only-of-type {\n",
       "        vertical-align: middle;\n",
       "    }\n",
       "\n",
       "    .dataframe tbody tr th {\n",
       "        vertical-align: top;\n",
       "    }\n",
       "\n",
       "    .dataframe thead th {\n",
       "        text-align: right;\n",
       "    }\n",
       "</style>\n",
       "<table border=\"1\" class=\"dataframe\">\n",
       "  <thead>\n",
       "    <tr style=\"text-align: right;\">\n",
       "      <th></th>\n",
       "      <th>20096_1-Size_of_red_wine_glass_drunk_small_125ml</th>\n",
       "      <th>2345-Ever_had_bowel_cancer_screening</th>\n",
       "      <th>N49-Diagnoses_main_ICD10_N49_Inflammatory_disorders_of_male_genital_organs_not_elsewhere_classified</th>\n",
       "      <th>100011_raw-Iron</th>\n",
       "      <th>5221-Index_of_best_refractometry_result_right</th>\n",
       "      <th>20003_1141150624-Treatmentmedication_code_zomig_25mg_tablet</th>\n",
       "      <th>S69-Diagnoses_main_ICD10_S69_Other_and_unspecified_injuries_of_wrist_and_hand</th>\n",
       "      <th>20024_1136-Job_code_deduced_Information_and_communication_technology_managers</th>\n",
       "      <th>20002_1385-Noncancer_illness_code_selfreported_allergy_or_anaphylactic_reaction_to_food</th>\n",
       "      <th>G6_SLEEPAPNO-Sleep_apnoea</th>\n",
       "      <th>...</th>\n",
       "      <th>Astle_et_al_2016_Sum_basophil_neutrophil_counts</th>\n",
       "      <th>RA_OKADA_TRANS_ETHNIC</th>\n",
       "      <th>pgc.scz2</th>\n",
       "      <th>PGC_ADHD_EUR_2017</th>\n",
       "      <th>MAGIC_FastingGlucose</th>\n",
       "      <th>Astle_et_al_2016_Red_blood_cell_count</th>\n",
       "      <th>SSGAC_Depressive_Symptoms</th>\n",
       "      <th>BCAC_ER_positive_BreastCancer_EUR</th>\n",
       "      <th>IBD.EUR.Inflammatory_Bowel_Disease</th>\n",
       "      <th>Astle_et_al_2016_High_light_scatter_reticulocyte_count</th>\n",
       "    </tr>\n",
       "    <tr>\n",
       "      <th>gene_name</th>\n",
       "      <th></th>\n",
       "      <th></th>\n",
       "      <th></th>\n",
       "      <th></th>\n",
       "      <th></th>\n",
       "      <th></th>\n",
       "      <th></th>\n",
       "      <th></th>\n",
       "      <th></th>\n",
       "      <th></th>\n",
       "      <th></th>\n",
       "      <th></th>\n",
       "      <th></th>\n",
       "      <th></th>\n",
       "      <th></th>\n",
       "      <th></th>\n",
       "      <th></th>\n",
       "      <th></th>\n",
       "      <th></th>\n",
       "      <th></th>\n",
       "      <th></th>\n",
       "    </tr>\n",
       "  </thead>\n",
       "  <tbody>\n",
       "    <tr>\n",
       "      <th>ENSG00000000419</th>\n",
       "      <td>0.169468</td>\n",
       "      <td>0.102558</td>\n",
       "      <td>0.239545</td>\n",
       "      <td>0.887758</td>\n",
       "      <td>1.313448</td>\n",
       "      <td>1.472148</td>\n",
       "      <td>0.726160</td>\n",
       "      <td>1.516367</td>\n",
       "      <td>1.299771</td>\n",
       "      <td>1.068093</td>\n",
       "      <td>...</td>\n",
       "      <td>0.813014</td>\n",
       "      <td>0.275993</td>\n",
       "      <td>0.510834</td>\n",
       "      <td>0.024717</td>\n",
       "      <td>0.430951</td>\n",
       "      <td>0.824314</td>\n",
       "      <td>0.367414</td>\n",
       "      <td>1.377624</td>\n",
       "      <td>0.738444</td>\n",
       "      <td>0.298259</td>\n",
       "    </tr>\n",
       "    <tr>\n",
       "      <th>ENSG00000000457</th>\n",
       "      <td>1.358856</td>\n",
       "      <td>1.846875</td>\n",
       "      <td>0.139324</td>\n",
       "      <td>0.129530</td>\n",
       "      <td>0.757757</td>\n",
       "      <td>1.103979</td>\n",
       "      <td>0.612418</td>\n",
       "      <td>1.822327</td>\n",
       "      <td>2.035372</td>\n",
       "      <td>1.008058</td>\n",
       "      <td>...</td>\n",
       "      <td>1.441795</td>\n",
       "      <td>0.654791</td>\n",
       "      <td>2.545653</td>\n",
       "      <td>1.202984</td>\n",
       "      <td>0.514244</td>\n",
       "      <td>0.237223</td>\n",
       "      <td>0.414171</td>\n",
       "      <td>0.101731</td>\n",
       "      <td>1.012735</td>\n",
       "      <td>0.945167</td>\n",
       "    </tr>\n",
       "    <tr>\n",
       "      <th>ENSG00000000460</th>\n",
       "      <td>0.151008</td>\n",
       "      <td>1.173202</td>\n",
       "      <td>1.179426</td>\n",
       "      <td>0.571656</td>\n",
       "      <td>0.098771</td>\n",
       "      <td>0.221072</td>\n",
       "      <td>0.276415</td>\n",
       "      <td>0.461381</td>\n",
       "      <td>0.855502</td>\n",
       "      <td>0.201876</td>\n",
       "      <td>...</td>\n",
       "      <td>0.668962</td>\n",
       "      <td>0.300040</td>\n",
       "      <td>0.541782</td>\n",
       "      <td>1.033308</td>\n",
       "      <td>0.482261</td>\n",
       "      <td>0.695624</td>\n",
       "      <td>0.336480</td>\n",
       "      <td>0.083316</td>\n",
       "      <td>3.493196</td>\n",
       "      <td>0.991948</td>\n",
       "    </tr>\n",
       "    <tr>\n",
       "      <th>ENSG00000000938</th>\n",
       "      <td>1.302722</td>\n",
       "      <td>0.841524</td>\n",
       "      <td>1.578926</td>\n",
       "      <td>0.721340</td>\n",
       "      <td>0.139314</td>\n",
       "      <td>4.387016</td>\n",
       "      <td>0.125959</td>\n",
       "      <td>1.247123</td>\n",
       "      <td>0.215124</td>\n",
       "      <td>0.892083</td>\n",
       "      <td>...</td>\n",
       "      <td>0.126657</td>\n",
       "      <td>0.048048</td>\n",
       "      <td>1.886356</td>\n",
       "      <td>0.540496</td>\n",
       "      <td>0.127524</td>\n",
       "      <td>1.494501</td>\n",
       "      <td>0.056432</td>\n",
       "      <td>1.704863</td>\n",
       "      <td>1.351619</td>\n",
       "      <td>1.027297</td>\n",
       "    </tr>\n",
       "    <tr>\n",
       "      <th>ENSG00000000971</th>\n",
       "      <td>1.338813</td>\n",
       "      <td>0.262339</td>\n",
       "      <td>0.689379</td>\n",
       "      <td>1.702019</td>\n",
       "      <td>0.325859</td>\n",
       "      <td>0.063161</td>\n",
       "      <td>1.141126</td>\n",
       "      <td>0.882682</td>\n",
       "      <td>0.035533</td>\n",
       "      <td>1.810191</td>\n",
       "      <td>...</td>\n",
       "      <td>0.858497</td>\n",
       "      <td>1.675562</td>\n",
       "      <td>2.319072</td>\n",
       "      <td>1.598721</td>\n",
       "      <td>0.162958</td>\n",
       "      <td>0.005703</td>\n",
       "      <td>3.004544</td>\n",
       "      <td>0.803669</td>\n",
       "      <td>0.444266</td>\n",
       "      <td>0.165671</td>\n",
       "    </tr>\n",
       "  </tbody>\n",
       "</table>\n",
       "<p>5 rows × 4091 columns</p>\n",
       "</div>"
      ],
      "text/plain": [
       "                 20096_1-Size_of_red_wine_glass_drunk_small_125ml  \\\n",
       "gene_name                                                           \n",
       "ENSG00000000419                                          0.169468   \n",
       "ENSG00000000457                                          1.358856   \n",
       "ENSG00000000460                                          0.151008   \n",
       "ENSG00000000938                                          1.302722   \n",
       "ENSG00000000971                                          1.338813   \n",
       "\n",
       "                 2345-Ever_had_bowel_cancer_screening  \\\n",
       "gene_name                                               \n",
       "ENSG00000000419                              0.102558   \n",
       "ENSG00000000457                              1.846875   \n",
       "ENSG00000000460                              1.173202   \n",
       "ENSG00000000938                              0.841524   \n",
       "ENSG00000000971                              0.262339   \n",
       "\n",
       "                 N49-Diagnoses_main_ICD10_N49_Inflammatory_disorders_of_male_genital_organs_not_elsewhere_classified  \\\n",
       "gene_name                                                                                                              \n",
       "ENSG00000000419                                           0.239545                                                     \n",
       "ENSG00000000457                                           0.139324                                                     \n",
       "ENSG00000000460                                           1.179426                                                     \n",
       "ENSG00000000938                                           1.578926                                                     \n",
       "ENSG00000000971                                           0.689379                                                     \n",
       "\n",
       "                 100011_raw-Iron  \\\n",
       "gene_name                          \n",
       "ENSG00000000419         0.887758   \n",
       "ENSG00000000457         0.129530   \n",
       "ENSG00000000460         0.571656   \n",
       "ENSG00000000938         0.721340   \n",
       "ENSG00000000971         1.702019   \n",
       "\n",
       "                 5221-Index_of_best_refractometry_result_right  \\\n",
       "gene_name                                                        \n",
       "ENSG00000000419                                       1.313448   \n",
       "ENSG00000000457                                       0.757757   \n",
       "ENSG00000000460                                       0.098771   \n",
       "ENSG00000000938                                       0.139314   \n",
       "ENSG00000000971                                       0.325859   \n",
       "\n",
       "                 20003_1141150624-Treatmentmedication_code_zomig_25mg_tablet  \\\n",
       "gene_name                                                                      \n",
       "ENSG00000000419                                           1.472148             \n",
       "ENSG00000000457                                           1.103979             \n",
       "ENSG00000000460                                           0.221072             \n",
       "ENSG00000000938                                           4.387016             \n",
       "ENSG00000000971                                           0.063161             \n",
       "\n",
       "                 S69-Diagnoses_main_ICD10_S69_Other_and_unspecified_injuries_of_wrist_and_hand  \\\n",
       "gene_name                                                                                        \n",
       "ENSG00000000419                                           0.726160                               \n",
       "ENSG00000000457                                           0.612418                               \n",
       "ENSG00000000460                                           0.276415                               \n",
       "ENSG00000000938                                           0.125959                               \n",
       "ENSG00000000971                                           1.141126                               \n",
       "\n",
       "                 20024_1136-Job_code_deduced_Information_and_communication_technology_managers  \\\n",
       "gene_name                                                                                        \n",
       "ENSG00000000419                                           1.516367                               \n",
       "ENSG00000000457                                           1.822327                               \n",
       "ENSG00000000460                                           0.461381                               \n",
       "ENSG00000000938                                           1.247123                               \n",
       "ENSG00000000971                                           0.882682                               \n",
       "\n",
       "                 20002_1385-Noncancer_illness_code_selfreported_allergy_or_anaphylactic_reaction_to_food  \\\n",
       "gene_name                                                                                                  \n",
       "ENSG00000000419                                           1.299771                                         \n",
       "ENSG00000000457                                           2.035372                                         \n",
       "ENSG00000000460                                           0.855502                                         \n",
       "ENSG00000000938                                           0.215124                                         \n",
       "ENSG00000000971                                           0.035533                                         \n",
       "\n",
       "                 G6_SLEEPAPNO-Sleep_apnoea  ...  \\\n",
       "gene_name                                   ...   \n",
       "ENSG00000000419                   1.068093  ...   \n",
       "ENSG00000000457                   1.008058  ...   \n",
       "ENSG00000000460                   0.201876  ...   \n",
       "ENSG00000000938                   0.892083  ...   \n",
       "ENSG00000000971                   1.810191  ...   \n",
       "\n",
       "                 Astle_et_al_2016_Sum_basophil_neutrophil_counts  \\\n",
       "gene_name                                                          \n",
       "ENSG00000000419                                         0.813014   \n",
       "ENSG00000000457                                         1.441795   \n",
       "ENSG00000000460                                         0.668962   \n",
       "ENSG00000000938                                         0.126657   \n",
       "ENSG00000000971                                         0.858497   \n",
       "\n",
       "                 RA_OKADA_TRANS_ETHNIC  pgc.scz2  PGC_ADHD_EUR_2017  \\\n",
       "gene_name                                                             \n",
       "ENSG00000000419               0.275993  0.510834           0.024717   \n",
       "ENSG00000000457               0.654791  2.545653           1.202984   \n",
       "ENSG00000000460               0.300040  0.541782           1.033308   \n",
       "ENSG00000000938               0.048048  1.886356           0.540496   \n",
       "ENSG00000000971               1.675562  2.319072           1.598721   \n",
       "\n",
       "                 MAGIC_FastingGlucose  Astle_et_al_2016_Red_blood_cell_count  \\\n",
       "gene_name                                                                      \n",
       "ENSG00000000419              0.430951                               0.824314   \n",
       "ENSG00000000457              0.514244                               0.237223   \n",
       "ENSG00000000460              0.482261                               0.695624   \n",
       "ENSG00000000938              0.127524                               1.494501   \n",
       "ENSG00000000971              0.162958                               0.005703   \n",
       "\n",
       "                 SSGAC_Depressive_Symptoms  BCAC_ER_positive_BreastCancer_EUR  \\\n",
       "gene_name                                                                       \n",
       "ENSG00000000419                   0.367414                           1.377624   \n",
       "ENSG00000000457                   0.414171                           0.101731   \n",
       "ENSG00000000460                   0.336480                           0.083316   \n",
       "ENSG00000000938                   0.056432                           1.704863   \n",
       "ENSG00000000971                   3.004544                           0.803669   \n",
       "\n",
       "                 IBD.EUR.Inflammatory_Bowel_Disease  \\\n",
       "gene_name                                             \n",
       "ENSG00000000419                            0.738444   \n",
       "ENSG00000000457                            1.012735   \n",
       "ENSG00000000460                            3.493196   \n",
       "ENSG00000000938                            1.351619   \n",
       "ENSG00000000971                            0.444266   \n",
       "\n",
       "                 Astle_et_al_2016_High_light_scatter_reticulocyte_count  \n",
       "gene_name                                                                \n",
       "ENSG00000000419                                           0.298259       \n",
       "ENSG00000000457                                           0.945167       \n",
       "ENSG00000000460                                           0.991948       \n",
       "ENSG00000000938                                           1.027297       \n",
       "ENSG00000000971                                           0.165671       \n",
       "\n",
       "[5 rows x 4091 columns]"
      ]
     },
     "execution_count": 10,
     "metadata": {},
     "output_type": "execute_result"
    }
   ],
   "source": [
    "smultixcan_genes_associations_zscores.head(5)"
   ]
  },
  {
   "cell_type": "markdown",
   "metadata": {
    "papermill": {
     "duration": 0.049767,
     "end_time": "2020-01-01T23:04:26.350138",
     "exception": false,
     "start_time": "2020-01-01T23:04:26.300371",
     "status": "completed"
    },
    "tags": []
   },
   "source": [
    "### Compute unique list of genes and non-empty diseases"
   ]
  },
  {
   "cell_type": "code",
   "execution_count": 11,
   "metadata": {
    "papermill": {
     "duration": 0.200223,
     "end_time": "2020-01-01T23:04:26.600248",
     "exception": false,
     "start_time": "2020-01-01T23:04:26.400025",
     "status": "completed"
    },
    "tags": []
   },
   "outputs": [
    {
     "data": {
      "text/plain": [
       "3790"
      ]
     },
     "metadata": {},
     "output_type": "display_data"
    },
    {
     "data": {
      "text/plain": [
       "3789"
      ]
     },
     "metadata": {},
     "output_type": "display_data"
    },
    {
     "data": {
      "text/plain": [
       "3789"
      ]
     },
     "metadata": {},
     "output_type": "display_data"
    }
   ],
   "source": [
    "clinvar_genes_to_id = pd.Index([\n",
    "    metadata.GENE_NAME_TO_ID_MAP[x]\n",
    "    for x in clinvar_genes_associations.index\n",
    "    if x in metadata.GENE_NAME_TO_ID_MAP\n",
    "])\n",
    "display(len(clinvar_genes_to_id))\n",
    "\n",
    "shared_gene_ids = clinvar_genes_to_id.intersection(smultixcan_genes_associations_zscores.index)\n",
    "display(len(shared_gene_ids))\n",
    "\n",
    "shared_gene_names = pd.Index([metadata.GENE_ID_TO_NAME_MAP[x] for x in shared_gene_ids])\n",
    "display(len(shared_gene_names))\n",
    "\n",
    "assert len(shared_gene_ids) == len(shared_gene_names)"
   ]
  },
  {
   "cell_type": "code",
   "execution_count": 12,
   "metadata": {
    "papermill": {
     "duration": 0.609557,
     "end_time": "2020-01-01T23:04:27.266179",
     "exception": false,
     "start_time": "2020-01-01T23:04:26.656622",
     "status": "completed"
    },
    "tags": []
   },
   "outputs": [],
   "source": [
    "smultixcan_genes_associations_zscores = smultixcan_genes_associations_zscores.loc[shared_gene_ids]\n",
    "clinvar_genes_associations = clinvar_genes_associations.loc[shared_gene_names]"
   ]
  },
  {
   "cell_type": "code",
   "execution_count": 13,
   "metadata": {
    "papermill": {
     "duration": 0.96147,
     "end_time": "2020-01-01T23:04:28.338788",
     "exception": false,
     "start_time": "2020-01-01T23:04:27.377318",
     "status": "completed"
    },
    "tags": []
   },
   "outputs": [
    {
     "data": {
      "text/plain": [
       "(480,)"
      ]
     },
     "metadata": {},
     "output_type": "display_data"
    }
   ],
   "source": [
    "_tmp = clinvar_genes_associations.sum()\n",
    "_clinvar_diseases_to_remove = _tmp[_tmp == 0].index\n",
    "display(_clinvar_diseases_to_remove.shape)"
   ]
  },
  {
   "cell_type": "code",
   "execution_count": 14,
   "metadata": {
    "papermill": {
     "duration": 0.157274,
     "end_time": "2020-01-01T23:04:28.550416",
     "exception": false,
     "start_time": "2020-01-01T23:04:28.393142",
     "status": "completed"
    },
    "tags": []
   },
   "outputs": [],
   "source": [
    "# remove diseases that have no-genes associated (after selecting just shared ones above)\n",
    "clinvar_genes_associations = clinvar_genes_associations.drop(columns=_clinvar_diseases_to_remove)"
   ]
  },
  {
   "cell_type": "code",
   "execution_count": 15,
   "metadata": {
    "papermill": {
     "duration": 0.579033,
     "end_time": "2020-01-01T23:04:29.199531",
     "exception": false,
     "start_time": "2020-01-01T23:04:28.620498",
     "status": "completed"
    },
    "tags": []
   },
   "outputs": [],
   "source": [
    "_tmp = clinvar_genes_associations.sum()\n",
    "assert _tmp[_tmp == 0].shape[0] == 0"
   ]
  },
  {
   "cell_type": "code",
   "execution_count": 16,
   "metadata": {
    "papermill": {
     "duration": 0.085076,
     "end_time": "2020-01-01T23:04:29.332416",
     "exception": false,
     "start_time": "2020-01-01T23:04:29.247340",
     "status": "completed"
    },
    "tags": []
   },
   "outputs": [
    {
     "data": {
      "text/plain": [
       "(3789, 4091)"
      ]
     },
     "metadata": {},
     "output_type": "display_data"
    },
    {
     "data": {
      "text/plain": [
       "(3789, 5106)"
      ]
     },
     "metadata": {},
     "output_type": "display_data"
    }
   ],
   "source": [
    "display(smultixcan_genes_associations_zscores.shape)\n",
    "display(clinvar_genes_associations.shape)"
   ]
  },
  {
   "cell_type": "markdown",
   "metadata": {
    "papermill": {
     "duration": 0.056286,
     "end_time": "2020-01-01T23:04:29.442687",
     "exception": false,
     "start_time": "2020-01-01T23:04:29.386401",
     "status": "completed"
    },
    "tags": []
   },
   "source": [
    "# Compute associations"
   ]
  },
  {
   "cell_type": "code",
   "execution_count": 17,
   "metadata": {
    "papermill": {
     "duration": 1.110631,
     "end_time": "2020-01-01T23:04:30.606769",
     "exception": false,
     "start_time": "2020-01-01T23:04:29.496138",
     "status": "completed"
    },
    "tags": []
   },
   "outputs": [],
   "source": [
    "smultixcan_squared_zscores = np.power(smultixcan_genes_associations_zscores.T.fillna(0).values, 2)"
   ]
  },
  {
   "cell_type": "code",
   "execution_count": 18,
   "metadata": {
    "papermill": {
     "duration": 0.093746,
     "end_time": "2020-01-01T23:04:30.763033",
     "exception": false,
     "start_time": "2020-01-01T23:04:30.669287",
     "status": "completed"
    },
    "tags": []
   },
   "outputs": [
    {
     "data": {
      "text/plain": [
       "(4091, 3789)"
      ]
     },
     "execution_count": 18,
     "metadata": {},
     "output_type": "execute_result"
    }
   ],
   "source": [
    "smultixcan_squared_zscores.shape"
   ]
  },
  {
   "cell_type": "code",
   "execution_count": 19,
   "metadata": {
    "papermill": {
     "duration": 0.092623,
     "end_time": "2020-01-01T23:04:30.912439",
     "exception": false,
     "start_time": "2020-01-01T23:04:30.819816",
     "status": "completed"
    },
    "tags": []
   },
   "outputs": [
    {
     "data": {
      "text/plain": [
       "(3789, 5106)"
      ]
     },
     "execution_count": 19,
     "metadata": {},
     "output_type": "execute_result"
    }
   ],
   "source": [
    "clinvar_genes_associations.shape"
   ]
  },
  {
   "cell_type": "code",
   "execution_count": 20,
   "metadata": {
    "papermill": {
     "duration": 1.136922,
     "end_time": "2020-01-01T23:04:32.106662",
     "exception": false,
     "start_time": "2020-01-01T23:04:30.969740",
     "status": "completed"
    },
    "tags": []
   },
   "outputs": [],
   "source": [
    "z2_sums = np.dot(smultixcan_squared_zscores, clinvar_genes_associations.values)"
   ]
  },
  {
   "cell_type": "code",
   "execution_count": 21,
   "metadata": {
    "papermill": {
     "duration": 0.121241,
     "end_time": "2020-01-01T23:04:32.307361",
     "exception": false,
     "start_time": "2020-01-01T23:04:32.186120",
     "status": "completed"
    },
    "tags": []
   },
   "outputs": [
    {
     "data": {
      "text/plain": [
       "(4091, 5106)"
      ]
     },
     "execution_count": 21,
     "metadata": {},
     "output_type": "execute_result"
    }
   ],
   "source": [
    "z2_sums.shape"
   ]
  },
  {
   "cell_type": "code",
   "execution_count": 22,
   "metadata": {
    "papermill": {
     "duration": 1.104885,
     "end_time": "2020-01-01T23:04:33.455200",
     "exception": false,
     "start_time": "2020-01-01T23:04:32.350315",
     "status": "completed"
    },
    "tags": []
   },
   "outputs": [],
   "source": [
    "n_clinvar_genes = clinvar_genes_associations.sum().to_frame().T\n",
    "n_clinvar_genes = pd.concat([n_clinvar_genes] * z2_sums.shape[0], ignore_index=True).values"
   ]
  },
  {
   "cell_type": "code",
   "execution_count": 23,
   "metadata": {
    "papermill": {
     "duration": 0.079062,
     "end_time": "2020-01-01T23:04:33.582735",
     "exception": false,
     "start_time": "2020-01-01T23:04:33.503673",
     "status": "completed"
    },
    "tags": []
   },
   "outputs": [
    {
     "data": {
      "text/plain": [
       "(4091, 5106)"
      ]
     },
     "execution_count": 23,
     "metadata": {},
     "output_type": "execute_result"
    }
   ],
   "source": [
    "n_clinvar_genes.shape"
   ]
  },
  {
   "cell_type": "code",
   "execution_count": 24,
   "metadata": {
    "papermill": {
     "duration": 0.689731,
     "end_time": "2020-01-01T23:04:34.326423",
     "exception": false,
     "start_time": "2020-01-01T23:04:33.636692",
     "status": "completed"
    },
    "tags": []
   },
   "outputs": [],
   "source": [
    "pheno_corrs_results = z2_sums / n_clinvar_genes"
   ]
  },
  {
   "cell_type": "code",
   "execution_count": 25,
   "metadata": {
    "papermill": {
     "duration": 0.076853,
     "end_time": "2020-01-01T23:04:34.456784",
     "exception": false,
     "start_time": "2020-01-01T23:04:34.379931",
     "status": "completed"
    },
    "tags": []
   },
   "outputs": [
    {
     "data": {
      "text/plain": [
       "(4091, 5106)"
      ]
     },
     "execution_count": 25,
     "metadata": {},
     "output_type": "execute_result"
    }
   ],
   "source": [
    "pheno_corrs_results.shape"
   ]
  },
  {
   "cell_type": "code",
   "execution_count": 26,
   "metadata": {
    "papermill": {
     "duration": 0.074408,
     "end_time": "2020-01-01T23:04:34.581434",
     "exception": false,
     "start_time": "2020-01-01T23:04:34.507026",
     "status": "completed"
    },
    "tags": []
   },
   "outputs": [],
   "source": [
    "assoc_coef_df = pd.DataFrame(\n",
    "    pheno_corrs_results,\n",
    "    index=smultixcan_genes_associations_zscores.columns.copy(),\n",
    "    columns=clinvar_genes_associations.columns.copy()\n",
    ")"
   ]
  },
  {
   "cell_type": "code",
   "execution_count": 27,
   "metadata": {
    "papermill": {
     "duration": 0.085178,
     "end_time": "2020-01-01T23:04:34.721797",
     "exception": false,
     "start_time": "2020-01-01T23:04:34.636619",
     "status": "completed"
    },
    "tags": []
   },
   "outputs": [
    {
     "data": {
      "text/plain": [
       "(4091, 5106)"
      ]
     },
     "metadata": {},
     "output_type": "display_data"
    }
   ],
   "source": [
    "assert assoc_coef_df.shape == (smultixcan_genes_associations_zscores.shape[1], clinvar_genes_associations.shape[1])\n",
    "display(assoc_coef_df.shape)"
   ]
  },
  {
   "cell_type": "code",
   "execution_count": 28,
   "metadata": {
    "papermill": {
     "duration": 0.109928,
     "end_time": "2020-01-01T23:04:34.877759",
     "exception": false,
     "start_time": "2020-01-01T23:04:34.767831",
     "status": "completed"
    },
    "tags": []
   },
   "outputs": [
    {
     "data": {
      "text/html": [
       "<div>\n",
       "<style scoped>\n",
       "    .dataframe tbody tr th:only-of-type {\n",
       "        vertical-align: middle;\n",
       "    }\n",
       "\n",
       "    .dataframe tbody tr th {\n",
       "        vertical-align: top;\n",
       "    }\n",
       "\n",
       "    .dataframe thead th {\n",
       "        text-align: right;\n",
       "    }\n",
       "</style>\n",
       "<table border=\"1\" class=\"dataframe\">\n",
       "  <thead>\n",
       "    <tr style=\"text-align: right;\">\n",
       "      <th></th>\n",
       "      <th>Alzheimer's disease</th>\n",
       "      <th>Alpha-2-macroglobulin deficiency</th>\n",
       "      <th>Otitis media, susceptibility to</th>\n",
       "      <th>p phenotype</th>\n",
       "      <th>Glucocorticoid deficiency with achalasia</th>\n",
       "      <th>Keratosis palmoplantaris papulosa</th>\n",
       "      <th>Charcot-Marie-Tooth disease, type 2N</th>\n",
       "      <th>Epileptic encephalopathy, early infantile, 29</th>\n",
       "      <th>Combined oxidative phosphorylation deficiency 8</th>\n",
       "      <th>Leukoencephalopathy, progressive, with ovarian failure</th>\n",
       "      <th>...</th>\n",
       "      <th>Retinitis pigmentosa 58</th>\n",
       "      <th>Myopia 21, autosomal dominant</th>\n",
       "      <th>Paget disease of bone 6</th>\n",
       "      <th>Seborrhea-like dermatitis with psoriasiform elements</th>\n",
       "      <th>PEHO syndrome</th>\n",
       "      <th>Oocyte maturation defect 1</th>\n",
       "      <th>OOCYTE MATURATION DEFECT 6</th>\n",
       "      <th>OOCYTE MATURATION DEFECT 3</th>\n",
       "      <th>Acromelic frontonasal dysostosis</th>\n",
       "      <th>NEURODEVELOPMENTAL DISORDER WITH MOVEMENT ABNORMALITIES, ABNORMAL GAIT, AND AUTISTIC FEATURES</th>\n",
       "    </tr>\n",
       "  </thead>\n",
       "  <tbody>\n",
       "    <tr>\n",
       "      <th>20096_1-Size_of_red_wine_glass_drunk_small_125ml</th>\n",
       "      <td>0.651161</td>\n",
       "      <td>0.247607</td>\n",
       "      <td>3.820126</td>\n",
       "      <td>1.075217</td>\n",
       "      <td>0.009677</td>\n",
       "      <td>0.162067</td>\n",
       "      <td>1.670074</td>\n",
       "      <td>1.670074</td>\n",
       "      <td>0.273777</td>\n",
       "      <td>0.273777</td>\n",
       "      <td>...</td>\n",
       "      <td>0.292204</td>\n",
       "      <td>1.695379</td>\n",
       "      <td>0.355525</td>\n",
       "      <td>1.101905</td>\n",
       "      <td>0.379410</td>\n",
       "      <td>1.747519</td>\n",
       "      <td>0.272920</td>\n",
       "      <td>0.006041</td>\n",
       "      <td>0.194577</td>\n",
       "      <td>0.194577</td>\n",
       "    </tr>\n",
       "    <tr>\n",
       "      <th>2345-Ever_had_bowel_cancer_screening</th>\n",
       "      <td>0.544953</td>\n",
       "      <td>0.055165</td>\n",
       "      <td>0.373364</td>\n",
       "      <td>0.667099</td>\n",
       "      <td>1.731603</td>\n",
       "      <td>5.829613</td>\n",
       "      <td>0.000311</td>\n",
       "      <td>0.000311</td>\n",
       "      <td>0.872317</td>\n",
       "      <td>0.872317</td>\n",
       "      <td>...</td>\n",
       "      <td>0.871863</td>\n",
       "      <td>0.772939</td>\n",
       "      <td>0.120311</td>\n",
       "      <td>0.015428</td>\n",
       "      <td>0.332303</td>\n",
       "      <td>1.911665</td>\n",
       "      <td>2.069227</td>\n",
       "      <td>0.242165</td>\n",
       "      <td>0.392449</td>\n",
       "      <td>0.392449</td>\n",
       "    </tr>\n",
       "    <tr>\n",
       "      <th>N49-Diagnoses_main_ICD10_N49_Inflammatory_disorders_of_male_genital_organs_not_elsewhere_classified</th>\n",
       "      <td>2.352883</td>\n",
       "      <td>3.096874</td>\n",
       "      <td>0.208791</td>\n",
       "      <td>1.486795</td>\n",
       "      <td>0.166468</td>\n",
       "      <td>0.268138</td>\n",
       "      <td>2.304044</td>\n",
       "      <td>2.304044</td>\n",
       "      <td>0.007125</td>\n",
       "      <td>0.007125</td>\n",
       "      <td>...</td>\n",
       "      <td>0.020070</td>\n",
       "      <td>0.137331</td>\n",
       "      <td>0.744516</td>\n",
       "      <td>0.810886</td>\n",
       "      <td>0.222463</td>\n",
       "      <td>5.448538</td>\n",
       "      <td>0.087805</td>\n",
       "      <td>0.725028</td>\n",
       "      <td>0.155316</td>\n",
       "      <td>0.155316</td>\n",
       "    </tr>\n",
       "    <tr>\n",
       "      <th>100011_raw-Iron</th>\n",
       "      <td>2.905654</td>\n",
       "      <td>0.049563</td>\n",
       "      <td>11.132239</td>\n",
       "      <td>0.978171</td>\n",
       "      <td>0.428900</td>\n",
       "      <td>0.395410</td>\n",
       "      <td>0.199536</td>\n",
       "      <td>0.199536</td>\n",
       "      <td>0.638303</td>\n",
       "      <td>0.638303</td>\n",
       "      <td>...</td>\n",
       "      <td>0.000193</td>\n",
       "      <td>0.327350</td>\n",
       "      <td>0.436058</td>\n",
       "      <td>0.096868</td>\n",
       "      <td>0.173245</td>\n",
       "      <td>3.459105</td>\n",
       "      <td>0.144557</td>\n",
       "      <td>0.009105</td>\n",
       "      <td>0.015222</td>\n",
       "      <td>0.015222</td>\n",
       "    </tr>\n",
       "    <tr>\n",
       "      <th>5221-Index_of_best_refractometry_result_right</th>\n",
       "      <td>0.836999</td>\n",
       "      <td>0.071389</td>\n",
       "      <td>0.229481</td>\n",
       "      <td>0.340287</td>\n",
       "      <td>0.546314</td>\n",
       "      <td>2.319034</td>\n",
       "      <td>4.984327</td>\n",
       "      <td>4.984327</td>\n",
       "      <td>0.177313</td>\n",
       "      <td>0.177313</td>\n",
       "      <td>...</td>\n",
       "      <td>2.239274</td>\n",
       "      <td>1.115672</td>\n",
       "      <td>0.141618</td>\n",
       "      <td>0.012610</td>\n",
       "      <td>1.253595</td>\n",
       "      <td>0.031501</td>\n",
       "      <td>0.244870</td>\n",
       "      <td>0.001039</td>\n",
       "      <td>0.028283</td>\n",
       "      <td>0.028283</td>\n",
       "    </tr>\n",
       "  </tbody>\n",
       "</table>\n",
       "<p>5 rows × 5106 columns</p>\n",
       "</div>"
      ],
      "text/plain": [
       "                                                    Alzheimer's disease  \\\n",
       "20096_1-Size_of_red_wine_glass_drunk_small_125ml               0.651161   \n",
       "2345-Ever_had_bowel_cancer_screening                           0.544953   \n",
       "N49-Diagnoses_main_ICD10_N49_Inflammatory_disor...             2.352883   \n",
       "100011_raw-Iron                                                2.905654   \n",
       "5221-Index_of_best_refractometry_result_right                  0.836999   \n",
       "\n",
       "                                                    Alpha-2-macroglobulin deficiency  \\\n",
       "20096_1-Size_of_red_wine_glass_drunk_small_125ml                            0.247607   \n",
       "2345-Ever_had_bowel_cancer_screening                                        0.055165   \n",
       "N49-Diagnoses_main_ICD10_N49_Inflammatory_disor...                          3.096874   \n",
       "100011_raw-Iron                                                             0.049563   \n",
       "5221-Index_of_best_refractometry_result_right                               0.071389   \n",
       "\n",
       "                                                    Otitis media, susceptibility to  \\\n",
       "20096_1-Size_of_red_wine_glass_drunk_small_125ml                           3.820126   \n",
       "2345-Ever_had_bowel_cancer_screening                                       0.373364   \n",
       "N49-Diagnoses_main_ICD10_N49_Inflammatory_disor...                         0.208791   \n",
       "100011_raw-Iron                                                           11.132239   \n",
       "5221-Index_of_best_refractometry_result_right                              0.229481   \n",
       "\n",
       "                                                    p phenotype  \\\n",
       "20096_1-Size_of_red_wine_glass_drunk_small_125ml       1.075217   \n",
       "2345-Ever_had_bowel_cancer_screening                   0.667099   \n",
       "N49-Diagnoses_main_ICD10_N49_Inflammatory_disor...     1.486795   \n",
       "100011_raw-Iron                                        0.978171   \n",
       "5221-Index_of_best_refractometry_result_right          0.340287   \n",
       "\n",
       "                                                    Glucocorticoid deficiency with achalasia  \\\n",
       "20096_1-Size_of_red_wine_glass_drunk_small_125ml                                    0.009677   \n",
       "2345-Ever_had_bowel_cancer_screening                                                1.731603   \n",
       "N49-Diagnoses_main_ICD10_N49_Inflammatory_disor...                                  0.166468   \n",
       "100011_raw-Iron                                                                     0.428900   \n",
       "5221-Index_of_best_refractometry_result_right                                       0.546314   \n",
       "\n",
       "                                                    Keratosis palmoplantaris papulosa  \\\n",
       "20096_1-Size_of_red_wine_glass_drunk_small_125ml                             0.162067   \n",
       "2345-Ever_had_bowel_cancer_screening                                         5.829613   \n",
       "N49-Diagnoses_main_ICD10_N49_Inflammatory_disor...                           0.268138   \n",
       "100011_raw-Iron                                                              0.395410   \n",
       "5221-Index_of_best_refractometry_result_right                                2.319034   \n",
       "\n",
       "                                                    Charcot-Marie-Tooth disease, type 2N  \\\n",
       "20096_1-Size_of_red_wine_glass_drunk_small_125ml                                1.670074   \n",
       "2345-Ever_had_bowel_cancer_screening                                            0.000311   \n",
       "N49-Diagnoses_main_ICD10_N49_Inflammatory_disor...                              2.304044   \n",
       "100011_raw-Iron                                                                 0.199536   \n",
       "5221-Index_of_best_refractometry_result_right                                   4.984327   \n",
       "\n",
       "                                                    Epileptic encephalopathy, early infantile, 29  \\\n",
       "20096_1-Size_of_red_wine_glass_drunk_small_125ml                                         1.670074   \n",
       "2345-Ever_had_bowel_cancer_screening                                                     0.000311   \n",
       "N49-Diagnoses_main_ICD10_N49_Inflammatory_disor...                                       2.304044   \n",
       "100011_raw-Iron                                                                          0.199536   \n",
       "5221-Index_of_best_refractometry_result_right                                            4.984327   \n",
       "\n",
       "                                                    Combined oxidative phosphorylation deficiency 8  \\\n",
       "20096_1-Size_of_red_wine_glass_drunk_small_125ml                                           0.273777   \n",
       "2345-Ever_had_bowel_cancer_screening                                                       0.872317   \n",
       "N49-Diagnoses_main_ICD10_N49_Inflammatory_disor...                                         0.007125   \n",
       "100011_raw-Iron                                                                            0.638303   \n",
       "5221-Index_of_best_refractometry_result_right                                              0.177313   \n",
       "\n",
       "                                                    Leukoencephalopathy, progressive, with ovarian failure  \\\n",
       "20096_1-Size_of_red_wine_glass_drunk_small_125ml                                             0.273777        \n",
       "2345-Ever_had_bowel_cancer_screening                                                         0.872317        \n",
       "N49-Diagnoses_main_ICD10_N49_Inflammatory_disor...                                           0.007125        \n",
       "100011_raw-Iron                                                                              0.638303        \n",
       "5221-Index_of_best_refractometry_result_right                                                0.177313        \n",
       "\n",
       "                                                    ...  \\\n",
       "20096_1-Size_of_red_wine_glass_drunk_small_125ml    ...   \n",
       "2345-Ever_had_bowel_cancer_screening                ...   \n",
       "N49-Diagnoses_main_ICD10_N49_Inflammatory_disor...  ...   \n",
       "100011_raw-Iron                                     ...   \n",
       "5221-Index_of_best_refractometry_result_right       ...   \n",
       "\n",
       "                                                    Retinitis pigmentosa 58  \\\n",
       "20096_1-Size_of_red_wine_glass_drunk_small_125ml                   0.292204   \n",
       "2345-Ever_had_bowel_cancer_screening                               0.871863   \n",
       "N49-Diagnoses_main_ICD10_N49_Inflammatory_disor...                 0.020070   \n",
       "100011_raw-Iron                                                    0.000193   \n",
       "5221-Index_of_best_refractometry_result_right                      2.239274   \n",
       "\n",
       "                                                    Myopia 21, autosomal dominant  \\\n",
       "20096_1-Size_of_red_wine_glass_drunk_small_125ml                         1.695379   \n",
       "2345-Ever_had_bowel_cancer_screening                                     0.772939   \n",
       "N49-Diagnoses_main_ICD10_N49_Inflammatory_disor...                       0.137331   \n",
       "100011_raw-Iron                                                          0.327350   \n",
       "5221-Index_of_best_refractometry_result_right                            1.115672   \n",
       "\n",
       "                                                    Paget disease of bone 6  \\\n",
       "20096_1-Size_of_red_wine_glass_drunk_small_125ml                   0.355525   \n",
       "2345-Ever_had_bowel_cancer_screening                               0.120311   \n",
       "N49-Diagnoses_main_ICD10_N49_Inflammatory_disor...                 0.744516   \n",
       "100011_raw-Iron                                                    0.436058   \n",
       "5221-Index_of_best_refractometry_result_right                      0.141618   \n",
       "\n",
       "                                                    Seborrhea-like dermatitis with psoriasiform elements  \\\n",
       "20096_1-Size_of_red_wine_glass_drunk_small_125ml                                             1.101905      \n",
       "2345-Ever_had_bowel_cancer_screening                                                         0.015428      \n",
       "N49-Diagnoses_main_ICD10_N49_Inflammatory_disor...                                           0.810886      \n",
       "100011_raw-Iron                                                                              0.096868      \n",
       "5221-Index_of_best_refractometry_result_right                                                0.012610      \n",
       "\n",
       "                                                    PEHO syndrome  \\\n",
       "20096_1-Size_of_red_wine_glass_drunk_small_125ml         0.379410   \n",
       "2345-Ever_had_bowel_cancer_screening                     0.332303   \n",
       "N49-Diagnoses_main_ICD10_N49_Inflammatory_disor...       0.222463   \n",
       "100011_raw-Iron                                          0.173245   \n",
       "5221-Index_of_best_refractometry_result_right            1.253595   \n",
       "\n",
       "                                                    Oocyte maturation defect 1  \\\n",
       "20096_1-Size_of_red_wine_glass_drunk_small_125ml                      1.747519   \n",
       "2345-Ever_had_bowel_cancer_screening                                  1.911665   \n",
       "N49-Diagnoses_main_ICD10_N49_Inflammatory_disor...                    5.448538   \n",
       "100011_raw-Iron                                                       3.459105   \n",
       "5221-Index_of_best_refractometry_result_right                         0.031501   \n",
       "\n",
       "                                                    OOCYTE MATURATION DEFECT 6  \\\n",
       "20096_1-Size_of_red_wine_glass_drunk_small_125ml                      0.272920   \n",
       "2345-Ever_had_bowel_cancer_screening                                  2.069227   \n",
       "N49-Diagnoses_main_ICD10_N49_Inflammatory_disor...                    0.087805   \n",
       "100011_raw-Iron                                                       0.144557   \n",
       "5221-Index_of_best_refractometry_result_right                         0.244870   \n",
       "\n",
       "                                                    OOCYTE MATURATION DEFECT 3  \\\n",
       "20096_1-Size_of_red_wine_glass_drunk_small_125ml                      0.006041   \n",
       "2345-Ever_had_bowel_cancer_screening                                  0.242165   \n",
       "N49-Diagnoses_main_ICD10_N49_Inflammatory_disor...                    0.725028   \n",
       "100011_raw-Iron                                                       0.009105   \n",
       "5221-Index_of_best_refractometry_result_right                         0.001039   \n",
       "\n",
       "                                                    Acromelic frontonasal dysostosis  \\\n",
       "20096_1-Size_of_red_wine_glass_drunk_small_125ml                            0.194577   \n",
       "2345-Ever_had_bowel_cancer_screening                                        0.392449   \n",
       "N49-Diagnoses_main_ICD10_N49_Inflammatory_disor...                          0.155316   \n",
       "100011_raw-Iron                                                             0.015222   \n",
       "5221-Index_of_best_refractometry_result_right                               0.028283   \n",
       "\n",
       "                                                    NEURODEVELOPMENTAL DISORDER WITH MOVEMENT ABNORMALITIES, ABNORMAL GAIT, AND AUTISTIC FEATURES  \n",
       "20096_1-Size_of_red_wine_glass_drunk_small_125ml                                             0.194577                                              \n",
       "2345-Ever_had_bowel_cancer_screening                                                         0.392449                                              \n",
       "N49-Diagnoses_main_ICD10_N49_Inflammatory_disor...                                           0.155316                                              \n",
       "100011_raw-Iron                                                                              0.015222                                              \n",
       "5221-Index_of_best_refractometry_result_right                                                0.028283                                              \n",
       "\n",
       "[5 rows x 5106 columns]"
      ]
     },
     "execution_count": 28,
     "metadata": {},
     "output_type": "execute_result"
    }
   ],
   "source": [
    "assoc_coef_df.head()"
   ]
  },
  {
   "cell_type": "code",
   "execution_count": 29,
   "metadata": {
    "papermill": {
     "duration": 0.122249,
     "end_time": "2020-01-01T23:04:35.054960",
     "exception": false,
     "start_time": "2020-01-01T23:04:34.932711",
     "status": "completed"
    },
    "tags": []
   },
   "outputs": [
    {
     "data": {
      "text/plain": [
       "A2M      1\n",
       "MPO      1\n",
       "APP      1\n",
       "NOS3     1\n",
       "PLAU     1\n",
       "HFE      1\n",
       "FOXH1    0\n",
       "FOXF1    0\n",
       "FOXG1    0\n",
       "FOXL2    0\n",
       "Name: Alzheimer's disease, dtype: uint8"
      ]
     },
     "metadata": {},
     "output_type": "display_data"
    },
    {
     "data": {
      "text/plain": [
       "Index(['A2M', 'MPO', 'APP', 'NOS3', 'PLAU', 'HFE'], dtype='object')"
      ]
     },
     "metadata": {},
     "output_type": "display_data"
    }
   ],
   "source": [
    "# testing\n",
    "_pheno0 = \"22617_5223-Job_SOC_coding_Metal_working_production_and_maintenance_fitters\"\n",
    "_pheno1 = \"Alzheimer's disease\"\n",
    "\n",
    "_genes = clinvar_genes_associations[_pheno1].sort_values(ascending=False)\n",
    "display(_genes.head(10))\n",
    "_genes = _genes[_genes > 0].index\n",
    "display(_genes)"
   ]
  },
  {
   "cell_type": "code",
   "execution_count": 30,
   "metadata": {
    "papermill": {
     "duration": 0.088101,
     "end_time": "2020-01-01T23:04:35.188715",
     "exception": false,
     "start_time": "2020-01-01T23:04:35.100614",
     "status": "completed"
    },
    "tags": []
   },
   "outputs": [
    {
     "data": {
      "text/plain": [
       "A2M       0.181998\n",
       "A2ML1     1.054712\n",
       "A4GALT    2.209362\n",
       "AAAS      0.598121\n",
       "AAGAB     0.363092\n",
       "Name: 22617_5223-Job_SOC_coding_Metal_working_production_and_maintenance_fitters, dtype: float64"
      ]
     },
     "metadata": {},
     "output_type": "display_data"
    }
   ],
   "source": [
    "_tmp = smultixcan_genes_associations_zscores[_pheno0].rename(index=metadata.GENE_ID_TO_NAME_MAP)\n",
    "display(_tmp.head())"
   ]
  },
  {
   "cell_type": "code",
   "execution_count": 31,
   "metadata": {
    "papermill": {
     "duration": 0.075216,
     "end_time": "2020-01-01T23:04:35.310307",
     "exception": false,
     "start_time": "2020-01-01T23:04:35.235091",
     "status": "completed"
    },
    "tags": []
   },
   "outputs": [
    {
     "data": {
      "text/plain": [
       "A2M     0.181998\n",
       "MPO     1.749522\n",
       "APP     0.022963\n",
       "NOS3    0.873820\n",
       "PLAU    0.178090\n",
       "HFE     0.208738\n",
       "Name: 22617_5223-Job_SOC_coding_Metal_working_production_and_maintenance_fitters, dtype: float64"
      ]
     },
     "execution_count": 31,
     "metadata": {},
     "output_type": "execute_result"
    }
   ],
   "source": [
    "_tmp.loc[_genes]"
   ]
  },
  {
   "cell_type": "code",
   "execution_count": 32,
   "metadata": {
    "papermill": {
     "duration": 0.109977,
     "end_time": "2020-01-01T23:04:35.466051",
     "exception": false,
     "start_time": "2020-01-01T23:04:35.356074",
     "status": "completed"
    },
    "tags": []
   },
   "outputs": [
    {
     "data": {
      "text/plain": [
       "0.6555543699722598"
      ]
     },
     "metadata": {},
     "output_type": "display_data"
    },
    {
     "data": {
      "text/plain": [
       "0.6555543699722599"
      ]
     },
     "metadata": {},
     "output_type": "display_data"
    }
   ],
   "source": [
    "_obs = np.power(_tmp.loc[_genes], 2).sum() / 6\n",
    "display(_obs)\n",
    "_exp = assoc_coef_df.loc[_pheno0, _pheno1]\n",
    "display(_exp)\n",
    "assert np.isclose(_obs, _exp), (_obs, _exp)"
   ]
  },
  {
   "cell_type": "code",
   "execution_count": 33,
   "metadata": {
    "papermill": {
     "duration": 0.094389,
     "end_time": "2020-01-01T23:04:35.609077",
     "exception": false,
     "start_time": "2020-01-01T23:04:35.514688",
     "status": "completed"
    },
    "tags": []
   },
   "outputs": [
    {
     "data": {
      "text/plain": [
       "A2M      1\n",
       "MPO      1\n",
       "APP      1\n",
       "NOS3     1\n",
       "PLAU     1\n",
       "HFE      1\n",
       "FOXH1    0\n",
       "FOXF1    0\n",
       "FOXG1    0\n",
       "FOXL2    0\n",
       "Name: Alzheimer's disease, dtype: uint8"
      ]
     },
     "metadata": {},
     "output_type": "display_data"
    },
    {
     "data": {
      "text/plain": [
       "Index(['A2M', 'MPO', 'APP', 'NOS3', 'PLAU', 'HFE'], dtype='object')"
      ]
     },
     "metadata": {},
     "output_type": "display_data"
    }
   ],
   "source": [
    "# testing\n",
    "_pheno0 = '30040_raw-Mean_corpuscular_volume'\n",
    "_pheno1 = \"Alzheimer's disease\"\n",
    "\n",
    "_genes = clinvar_genes_associations[_pheno1].sort_values(ascending=False)\n",
    "display(_genes.head(10))\n",
    "_genes = _genes[_genes > 0].index\n",
    "display(_genes)"
   ]
  },
  {
   "cell_type": "code",
   "execution_count": 34,
   "metadata": {
    "papermill": {
     "duration": 0.106678,
     "end_time": "2020-01-01T23:04:35.779504",
     "exception": false,
     "start_time": "2020-01-01T23:04:35.672826",
     "status": "completed"
    },
    "tags": []
   },
   "outputs": [
    {
     "data": {
      "text/plain": [
       "A2M       1.370702\n",
       "A2ML1     0.541736\n",
       "A4GALT    6.618485\n",
       "AAAS      6.178175\n",
       "AAGAB     0.975214\n",
       "Name: 30040_raw-Mean_corpuscular_volume, dtype: float64"
      ]
     },
     "metadata": {},
     "output_type": "display_data"
    }
   ],
   "source": [
    "_tmp = smultixcan_genes_associations_zscores[_pheno0].rename(index=metadata.GENE_ID_TO_NAME_MAP)\n",
    "display(_tmp.head())"
   ]
  },
  {
   "cell_type": "code",
   "execution_count": 35,
   "metadata": {
    "papermill": {
     "duration": 0.104925,
     "end_time": "2020-01-01T23:04:35.946216",
     "exception": false,
     "start_time": "2020-01-01T23:04:35.841291",
     "status": "completed"
    },
    "tags": []
   },
   "outputs": [
    {
     "data": {
      "text/plain": [
       "A2M      1.370702\n",
       "MPO      2.919041\n",
       "APP      0.544944\n",
       "NOS3     2.223614\n",
       "PLAU     1.466185\n",
       "HFE     40.000000\n",
       "Name: 30040_raw-Mean_corpuscular_volume, dtype: float64"
      ]
     },
     "execution_count": 35,
     "metadata": {},
     "output_type": "execute_result"
    }
   ],
   "source": [
    "_tmp.loc[_genes]"
   ]
  },
  {
   "cell_type": "code",
   "execution_count": 36,
   "metadata": {
    "papermill": {
     "duration": 0.108755,
     "end_time": "2020-01-01T23:04:36.126871",
     "exception": false,
     "start_time": "2020-01-01T23:04:36.018116",
     "status": "completed"
    },
    "tags": []
   },
   "outputs": [
    {
     "data": {
      "text/plain": [
       "269.6317906903394"
      ]
     },
     "metadata": {},
     "output_type": "display_data"
    },
    {
     "data": {
      "text/plain": [
       "269.6317906903394"
      ]
     },
     "metadata": {},
     "output_type": "display_data"
    }
   ],
   "source": [
    "_obs = np.power(_tmp.loc[_genes], 2).sum() / 6\n",
    "display(_obs)\n",
    "_exp = assoc_coef_df.loc[_pheno0, _pheno1]\n",
    "display(_exp)\n",
    "assert np.isclose(_obs, _exp), (_obs, _exp)"
   ]
  },
  {
   "cell_type": "markdown",
   "metadata": {
    "papermill": {
     "duration": 0.067953,
     "end_time": "2020-01-01T23:04:36.259456",
     "exception": false,
     "start_time": "2020-01-01T23:04:36.191503",
     "status": "completed"
    },
    "tags": []
   },
   "source": [
    "### Save"
   ]
  },
  {
   "cell_type": "code",
   "execution_count": 37,
   "metadata": {
    "papermill": {
     "duration": 0.354565,
     "end_time": "2020-01-01T23:04:36.680913",
     "exception": false,
     "start_time": "2020-01-01T23:04:36.326348",
     "status": "completed"
    },
    "tags": []
   },
   "outputs": [],
   "source": [
    "# sort index like smultixcan results\n",
    "assoc_coef_df = assoc_coef_df.loc[smultixcan_genes_associations_zscores.columns]"
   ]
  },
  {
   "cell_type": "code",
   "execution_count": 38,
   "metadata": {
    "papermill": {
     "duration": 0.183608,
     "end_time": "2020-01-01T23:04:36.941268",
     "exception": false,
     "start_time": "2020-01-01T23:04:36.757660",
     "status": "completed"
    },
    "tags": []
   },
   "outputs": [],
   "source": [
    "assoc_coef_df.index.rename('phenomexcan_traits', inplace=True)"
   ]
  },
  {
   "cell_type": "code",
   "execution_count": 39,
   "metadata": {
    "papermill": {
     "duration": 0.102008,
     "end_time": "2020-01-01T23:04:37.112890",
     "exception": false,
     "start_time": "2020-01-01T23:04:37.010882",
     "status": "completed"
    },
    "tags": []
   },
   "outputs": [
    {
     "data": {
      "text/plain": [
       "'/mnt/phenomexcan_base/gene_assoc/smultixcan_and_clinvar-z2.pkl.xz'"
      ]
     },
     "metadata": {},
     "output_type": "display_data"
    }
   ],
   "source": [
    "assoc_coef_df_filename = os.path.join(conf.GENE_ASSOC_DIR, 'smultixcan_and_clinvar-z2.pkl.xz')\n",
    "display(assoc_coef_df_filename)"
   ]
  },
  {
   "cell_type": "code",
   "execution_count": 40,
   "metadata": {
    "papermill": {
     "duration": 95.719462,
     "end_time": "2020-01-01T23:06:12.901683",
     "exception": false,
     "start_time": "2020-01-01T23:04:37.182221",
     "status": "completed"
    },
    "tags": []
   },
   "outputs": [],
   "source": [
    "assoc_coef_df.to_pickle(assoc_coef_df_filename)"
   ]
  },
  {
   "cell_type": "code",
   "execution_count": 41,
   "metadata": {
    "papermill": {
     "duration": 1.903019,
     "end_time": "2020-01-01T23:06:14.892284",
     "exception": false,
     "start_time": "2020-01-01T23:06:12.989265",
     "status": "completed"
    },
    "tags": []
   },
   "outputs": [
    {
     "data": {
      "text/plain": [
       "count    2.088865e+07\n",
       "mean     1.330285e+00\n",
       "std      7.561057e+00\n",
       "min      0.000000e+00\n",
       "25%      1.233913e-01\n",
       "50%      5.334078e-01\n",
       "75%      1.485715e+00\n",
       "max      1.600000e+03\n",
       "dtype: float64"
      ]
     },
     "execution_count": 41,
     "metadata": {},
     "output_type": "execute_result"
    }
   ],
   "source": [
    "pd.Series(assoc_coef_df.values.flatten()).describe()"
   ]
  },
  {
   "cell_type": "code",
   "execution_count": 42,
   "metadata": {
    "papermill": {
     "duration": 0.276256,
     "end_time": "2020-01-01T23:06:15.276436",
     "exception": false,
     "start_time": "2020-01-01T23:06:15.000180",
     "status": "completed"
    },
    "tags": []
   },
   "outputs": [],
   "source": [
    "assert not assoc_coef_df.isna().any().any()"
   ]
  },
  {
   "cell_type": "code",
   "execution_count": 43,
   "metadata": {
    "papermill": {
     "duration": 3.96748,
     "end_time": "2020-01-01T23:06:19.300621",
     "exception": false,
     "start_time": "2020-01-01T23:06:15.333141",
     "status": "completed"
    },
    "tags": []
   },
   "outputs": [],
   "source": [
    "assert not (assoc_coef_df < 0).any().any()"
   ]
  },
  {
   "cell_type": "code",
   "execution_count": 44,
   "metadata": {
    "papermill": {
     "duration": 0.386726,
     "end_time": "2020-01-01T23:06:19.756306",
     "exception": false,
     "start_time": "2020-01-01T23:06:19.369580",
     "status": "completed"
    },
    "tags": []
   },
   "outputs": [],
   "source": [
    "assert np.isfinite(assoc_coef_df).all().all()"
   ]
  },
  {
   "cell_type": "code",
   "execution_count": 45,
   "metadata": {
    "papermill": {
     "duration": 0.108102,
     "end_time": "2020-01-01T23:06:20.008473",
     "exception": false,
     "start_time": "2020-01-01T23:06:19.900371",
     "status": "completed"
    },
    "tags": []
   },
   "outputs": [],
   "source": [
    "# some testing\n",
    "ukb_pheno = '20002_1111-Noncancer_illness_code_selfreported_asthma'\n",
    "clinvar_pheno = 'Asthma, susceptibility to'\n",
    "\n",
    "assert assoc_coef_df.loc[ukb_pheno, clinvar_pheno] == 28.748716710063185"
   ]
  },
  {
   "cell_type": "markdown",
   "metadata": {
    "papermill": {
     "duration": 0.06722,
     "end_time": "2020-01-01T23:06:20.146222",
     "exception": false,
     "start_time": "2020-01-01T23:06:20.079002",
     "status": "completed"
    },
    "tags": []
   },
   "source": [
    "### Save for publication"
   ]
  },
  {
   "cell_type": "code",
   "execution_count": 46,
   "metadata": {
    "papermill": {
     "duration": 131.549254,
     "end_time": "2020-01-01T23:08:31.761953",
     "exception": false,
     "start_time": "2020-01-01T23:06:20.212699",
     "status": "completed"
    },
    "tags": []
   },
   "outputs": [
    {
     "data": {
      "text/plain": [
       "'/mnt/phenomexcan_base/gene_assoc/smultixcan_and_clinvar-z2.tsv.gz'"
      ]
     },
     "metadata": {},
     "output_type": "display_data"
    }
   ],
   "source": [
    "output_file = os.path.join(conf.GENE_ASSOC_DIR, 'smultixcan_and_clinvar-z2.tsv.gz')\n",
    "display(output_file)\n",
    "\n",
    "assoc_coef_df.to_csv(output_file, sep='\\t', float_format='%.4e')"
   ]
  },
  {
   "cell_type": "code",
   "execution_count": 47,
   "metadata": {
    "papermill": {
     "duration": 17.960318,
     "end_time": "2020-01-01T23:08:49.799641",
     "exception": false,
     "start_time": "2020-01-01T23:08:31.839323",
     "status": "completed"
    },
    "tags": []
   },
   "outputs": [],
   "source": [
    "_tmp = pd.read_csv(output_file, sep='\\t', index_col='phenomexcan_traits')"
   ]
  },
  {
   "cell_type": "code",
   "execution_count": 48,
   "metadata": {
    "papermill": {
     "duration": 0.111341,
     "end_time": "2020-01-01T23:08:49.990394",
     "exception": false,
     "start_time": "2020-01-01T23:08:49.879053",
     "status": "completed"
    },
    "tags": []
   },
   "outputs": [
    {
     "data": {
      "text/plain": [
       "(4091, 5106)"
      ]
     },
     "metadata": {},
     "output_type": "display_data"
    }
   ],
   "source": [
    "display(_tmp.shape)\n",
    "assert _tmp.shape == assoc_coef_df.shape"
   ]
  },
  {
   "cell_type": "code",
   "execution_count": 49,
   "metadata": {
    "papermill": {
     "duration": 0.143617,
     "end_time": "2020-01-01T23:08:50.207822",
     "exception": false,
     "start_time": "2020-01-01T23:08:50.064205",
     "status": "completed"
    },
    "tags": []
   },
   "outputs": [
    {
     "data": {
      "text/html": [
       "<div>\n",
       "<style scoped>\n",
       "    .dataframe tbody tr th:only-of-type {\n",
       "        vertical-align: middle;\n",
       "    }\n",
       "\n",
       "    .dataframe tbody tr th {\n",
       "        vertical-align: top;\n",
       "    }\n",
       "\n",
       "    .dataframe thead th {\n",
       "        text-align: right;\n",
       "    }\n",
       "</style>\n",
       "<table border=\"1\" class=\"dataframe\">\n",
       "  <thead>\n",
       "    <tr style=\"text-align: right;\">\n",
       "      <th></th>\n",
       "      <th>Alzheimer's disease</th>\n",
       "      <th>Alpha-2-macroglobulin deficiency</th>\n",
       "      <th>Otitis media, susceptibility to</th>\n",
       "      <th>p phenotype</th>\n",
       "      <th>Glucocorticoid deficiency with achalasia</th>\n",
       "      <th>Keratosis palmoplantaris papulosa</th>\n",
       "      <th>Charcot-Marie-Tooth disease, type 2N</th>\n",
       "      <th>Epileptic encephalopathy, early infantile, 29</th>\n",
       "      <th>Combined oxidative phosphorylation deficiency 8</th>\n",
       "      <th>Leukoencephalopathy, progressive, with ovarian failure</th>\n",
       "      <th>...</th>\n",
       "      <th>Retinitis pigmentosa 58</th>\n",
       "      <th>Myopia 21, autosomal dominant</th>\n",
       "      <th>Paget disease of bone 6</th>\n",
       "      <th>Seborrhea-like dermatitis with psoriasiform elements</th>\n",
       "      <th>PEHO syndrome</th>\n",
       "      <th>Oocyte maturation defect 1</th>\n",
       "      <th>OOCYTE MATURATION DEFECT 6</th>\n",
       "      <th>OOCYTE MATURATION DEFECT 3</th>\n",
       "      <th>Acromelic frontonasal dysostosis</th>\n",
       "      <th>NEURODEVELOPMENTAL DISORDER WITH MOVEMENT ABNORMALITIES, ABNORMAL GAIT, AND AUTISTIC FEATURES</th>\n",
       "    </tr>\n",
       "    <tr>\n",
       "      <th>phenomexcan_traits</th>\n",
       "      <th></th>\n",
       "      <th></th>\n",
       "      <th></th>\n",
       "      <th></th>\n",
       "      <th></th>\n",
       "      <th></th>\n",
       "      <th></th>\n",
       "      <th></th>\n",
       "      <th></th>\n",
       "      <th></th>\n",
       "      <th></th>\n",
       "      <th></th>\n",
       "      <th></th>\n",
       "      <th></th>\n",
       "      <th></th>\n",
       "      <th></th>\n",
       "      <th></th>\n",
       "      <th></th>\n",
       "      <th></th>\n",
       "      <th></th>\n",
       "      <th></th>\n",
       "    </tr>\n",
       "  </thead>\n",
       "  <tbody>\n",
       "    <tr>\n",
       "      <th>20096_1-Size_of_red_wine_glass_drunk_small_125ml</th>\n",
       "      <td>0.65116</td>\n",
       "      <td>0.247610</td>\n",
       "      <td>3.82010</td>\n",
       "      <td>1.07520</td>\n",
       "      <td>0.009677</td>\n",
       "      <td>0.16207</td>\n",
       "      <td>1.670100</td>\n",
       "      <td>1.670100</td>\n",
       "      <td>0.273780</td>\n",
       "      <td>0.273780</td>\n",
       "      <td>...</td>\n",
       "      <td>0.292200</td>\n",
       "      <td>1.69540</td>\n",
       "      <td>0.35553</td>\n",
       "      <td>1.101900</td>\n",
       "      <td>0.37941</td>\n",
       "      <td>1.747500</td>\n",
       "      <td>0.272920</td>\n",
       "      <td>0.006041</td>\n",
       "      <td>0.194580</td>\n",
       "      <td>0.194580</td>\n",
       "    </tr>\n",
       "    <tr>\n",
       "      <th>2345-Ever_had_bowel_cancer_screening</th>\n",
       "      <td>0.54495</td>\n",
       "      <td>0.055165</td>\n",
       "      <td>0.37336</td>\n",
       "      <td>0.66710</td>\n",
       "      <td>1.731600</td>\n",
       "      <td>5.82960</td>\n",
       "      <td>0.000311</td>\n",
       "      <td>0.000311</td>\n",
       "      <td>0.872320</td>\n",
       "      <td>0.872320</td>\n",
       "      <td>...</td>\n",
       "      <td>0.871860</td>\n",
       "      <td>0.77294</td>\n",
       "      <td>0.12031</td>\n",
       "      <td>0.015428</td>\n",
       "      <td>0.33230</td>\n",
       "      <td>1.911700</td>\n",
       "      <td>2.069200</td>\n",
       "      <td>0.242160</td>\n",
       "      <td>0.392450</td>\n",
       "      <td>0.392450</td>\n",
       "    </tr>\n",
       "    <tr>\n",
       "      <th>N49-Diagnoses_main_ICD10_N49_Inflammatory_disorders_of_male_genital_organs_not_elsewhere_classified</th>\n",
       "      <td>2.35290</td>\n",
       "      <td>3.096900</td>\n",
       "      <td>0.20879</td>\n",
       "      <td>1.48680</td>\n",
       "      <td>0.166470</td>\n",
       "      <td>0.26814</td>\n",
       "      <td>2.304000</td>\n",
       "      <td>2.304000</td>\n",
       "      <td>0.007125</td>\n",
       "      <td>0.007125</td>\n",
       "      <td>...</td>\n",
       "      <td>0.020070</td>\n",
       "      <td>0.13733</td>\n",
       "      <td>0.74452</td>\n",
       "      <td>0.810890</td>\n",
       "      <td>0.22246</td>\n",
       "      <td>5.448500</td>\n",
       "      <td>0.087805</td>\n",
       "      <td>0.725030</td>\n",
       "      <td>0.155320</td>\n",
       "      <td>0.155320</td>\n",
       "    </tr>\n",
       "    <tr>\n",
       "      <th>100011_raw-Iron</th>\n",
       "      <td>2.90570</td>\n",
       "      <td>0.049563</td>\n",
       "      <td>11.13200</td>\n",
       "      <td>0.97817</td>\n",
       "      <td>0.428900</td>\n",
       "      <td>0.39541</td>\n",
       "      <td>0.199540</td>\n",
       "      <td>0.199540</td>\n",
       "      <td>0.638300</td>\n",
       "      <td>0.638300</td>\n",
       "      <td>...</td>\n",
       "      <td>0.000193</td>\n",
       "      <td>0.32735</td>\n",
       "      <td>0.43606</td>\n",
       "      <td>0.096868</td>\n",
       "      <td>0.17324</td>\n",
       "      <td>3.459100</td>\n",
       "      <td>0.144560</td>\n",
       "      <td>0.009105</td>\n",
       "      <td>0.015222</td>\n",
       "      <td>0.015222</td>\n",
       "    </tr>\n",
       "    <tr>\n",
       "      <th>5221-Index_of_best_refractometry_result_right</th>\n",
       "      <td>0.83700</td>\n",
       "      <td>0.071389</td>\n",
       "      <td>0.22948</td>\n",
       "      <td>0.34029</td>\n",
       "      <td>0.546310</td>\n",
       "      <td>2.31900</td>\n",
       "      <td>4.984300</td>\n",
       "      <td>4.984300</td>\n",
       "      <td>0.177310</td>\n",
       "      <td>0.177310</td>\n",
       "      <td>...</td>\n",
       "      <td>2.239300</td>\n",
       "      <td>1.11570</td>\n",
       "      <td>0.14162</td>\n",
       "      <td>0.012610</td>\n",
       "      <td>1.25360</td>\n",
       "      <td>0.031501</td>\n",
       "      <td>0.244870</td>\n",
       "      <td>0.001039</td>\n",
       "      <td>0.028283</td>\n",
       "      <td>0.028283</td>\n",
       "    </tr>\n",
       "  </tbody>\n",
       "</table>\n",
       "<p>5 rows × 5106 columns</p>\n",
       "</div>"
      ],
      "text/plain": [
       "                                                    Alzheimer's disease  \\\n",
       "phenomexcan_traits                                                        \n",
       "20096_1-Size_of_red_wine_glass_drunk_small_125ml                0.65116   \n",
       "2345-Ever_had_bowel_cancer_screening                            0.54495   \n",
       "N49-Diagnoses_main_ICD10_N49_Inflammatory_disor...              2.35290   \n",
       "100011_raw-Iron                                                 2.90570   \n",
       "5221-Index_of_best_refractometry_result_right                   0.83700   \n",
       "\n",
       "                                                    Alpha-2-macroglobulin deficiency  \\\n",
       "phenomexcan_traits                                                                     \n",
       "20096_1-Size_of_red_wine_glass_drunk_small_125ml                            0.247610   \n",
       "2345-Ever_had_bowel_cancer_screening                                        0.055165   \n",
       "N49-Diagnoses_main_ICD10_N49_Inflammatory_disor...                          3.096900   \n",
       "100011_raw-Iron                                                             0.049563   \n",
       "5221-Index_of_best_refractometry_result_right                               0.071389   \n",
       "\n",
       "                                                    Otitis media, susceptibility to  \\\n",
       "phenomexcan_traits                                                                    \n",
       "20096_1-Size_of_red_wine_glass_drunk_small_125ml                            3.82010   \n",
       "2345-Ever_had_bowel_cancer_screening                                        0.37336   \n",
       "N49-Diagnoses_main_ICD10_N49_Inflammatory_disor...                          0.20879   \n",
       "100011_raw-Iron                                                            11.13200   \n",
       "5221-Index_of_best_refractometry_result_right                               0.22948   \n",
       "\n",
       "                                                    p phenotype  \\\n",
       "phenomexcan_traits                                                \n",
       "20096_1-Size_of_red_wine_glass_drunk_small_125ml        1.07520   \n",
       "2345-Ever_had_bowel_cancer_screening                    0.66710   \n",
       "N49-Diagnoses_main_ICD10_N49_Inflammatory_disor...      1.48680   \n",
       "100011_raw-Iron                                         0.97817   \n",
       "5221-Index_of_best_refractometry_result_right           0.34029   \n",
       "\n",
       "                                                    Glucocorticoid deficiency with achalasia  \\\n",
       "phenomexcan_traits                                                                             \n",
       "20096_1-Size_of_red_wine_glass_drunk_small_125ml                                    0.009677   \n",
       "2345-Ever_had_bowel_cancer_screening                                                1.731600   \n",
       "N49-Diagnoses_main_ICD10_N49_Inflammatory_disor...                                  0.166470   \n",
       "100011_raw-Iron                                                                     0.428900   \n",
       "5221-Index_of_best_refractometry_result_right                                       0.546310   \n",
       "\n",
       "                                                    Keratosis palmoplantaris papulosa  \\\n",
       "phenomexcan_traits                                                                      \n",
       "20096_1-Size_of_red_wine_glass_drunk_small_125ml                              0.16207   \n",
       "2345-Ever_had_bowel_cancer_screening                                          5.82960   \n",
       "N49-Diagnoses_main_ICD10_N49_Inflammatory_disor...                            0.26814   \n",
       "100011_raw-Iron                                                               0.39541   \n",
       "5221-Index_of_best_refractometry_result_right                                 2.31900   \n",
       "\n",
       "                                                    Charcot-Marie-Tooth disease, type 2N  \\\n",
       "phenomexcan_traits                                                                         \n",
       "20096_1-Size_of_red_wine_glass_drunk_small_125ml                                1.670100   \n",
       "2345-Ever_had_bowel_cancer_screening                                            0.000311   \n",
       "N49-Diagnoses_main_ICD10_N49_Inflammatory_disor...                              2.304000   \n",
       "100011_raw-Iron                                                                 0.199540   \n",
       "5221-Index_of_best_refractometry_result_right                                   4.984300   \n",
       "\n",
       "                                                    Epileptic encephalopathy, early infantile, 29  \\\n",
       "phenomexcan_traits                                                                                  \n",
       "20096_1-Size_of_red_wine_glass_drunk_small_125ml                                         1.670100   \n",
       "2345-Ever_had_bowel_cancer_screening                                                     0.000311   \n",
       "N49-Diagnoses_main_ICD10_N49_Inflammatory_disor...                                       2.304000   \n",
       "100011_raw-Iron                                                                          0.199540   \n",
       "5221-Index_of_best_refractometry_result_right                                            4.984300   \n",
       "\n",
       "                                                    Combined oxidative phosphorylation deficiency 8  \\\n",
       "phenomexcan_traits                                                                                    \n",
       "20096_1-Size_of_red_wine_glass_drunk_small_125ml                                           0.273780   \n",
       "2345-Ever_had_bowel_cancer_screening                                                       0.872320   \n",
       "N49-Diagnoses_main_ICD10_N49_Inflammatory_disor...                                         0.007125   \n",
       "100011_raw-Iron                                                                            0.638300   \n",
       "5221-Index_of_best_refractometry_result_right                                              0.177310   \n",
       "\n",
       "                                                    Leukoencephalopathy, progressive, with ovarian failure  \\\n",
       "phenomexcan_traits                                                                                           \n",
       "20096_1-Size_of_red_wine_glass_drunk_small_125ml                                             0.273780        \n",
       "2345-Ever_had_bowel_cancer_screening                                                         0.872320        \n",
       "N49-Diagnoses_main_ICD10_N49_Inflammatory_disor...                                           0.007125        \n",
       "100011_raw-Iron                                                                              0.638300        \n",
       "5221-Index_of_best_refractometry_result_right                                                0.177310        \n",
       "\n",
       "                                                    ...  \\\n",
       "phenomexcan_traits                                  ...   \n",
       "20096_1-Size_of_red_wine_glass_drunk_small_125ml    ...   \n",
       "2345-Ever_had_bowel_cancer_screening                ...   \n",
       "N49-Diagnoses_main_ICD10_N49_Inflammatory_disor...  ...   \n",
       "100011_raw-Iron                                     ...   \n",
       "5221-Index_of_best_refractometry_result_right       ...   \n",
       "\n",
       "                                                    Retinitis pigmentosa 58  \\\n",
       "phenomexcan_traits                                                            \n",
       "20096_1-Size_of_red_wine_glass_drunk_small_125ml                   0.292200   \n",
       "2345-Ever_had_bowel_cancer_screening                               0.871860   \n",
       "N49-Diagnoses_main_ICD10_N49_Inflammatory_disor...                 0.020070   \n",
       "100011_raw-Iron                                                    0.000193   \n",
       "5221-Index_of_best_refractometry_result_right                      2.239300   \n",
       "\n",
       "                                                    Myopia 21, autosomal dominant  \\\n",
       "phenomexcan_traits                                                                  \n",
       "20096_1-Size_of_red_wine_glass_drunk_small_125ml                          1.69540   \n",
       "2345-Ever_had_bowel_cancer_screening                                      0.77294   \n",
       "N49-Diagnoses_main_ICD10_N49_Inflammatory_disor...                        0.13733   \n",
       "100011_raw-Iron                                                           0.32735   \n",
       "5221-Index_of_best_refractometry_result_right                             1.11570   \n",
       "\n",
       "                                                    Paget disease of bone 6  \\\n",
       "phenomexcan_traits                                                            \n",
       "20096_1-Size_of_red_wine_glass_drunk_small_125ml                    0.35553   \n",
       "2345-Ever_had_bowel_cancer_screening                                0.12031   \n",
       "N49-Diagnoses_main_ICD10_N49_Inflammatory_disor...                  0.74452   \n",
       "100011_raw-Iron                                                     0.43606   \n",
       "5221-Index_of_best_refractometry_result_right                       0.14162   \n",
       "\n",
       "                                                    Seborrhea-like dermatitis with psoriasiform elements  \\\n",
       "phenomexcan_traits                                                                                         \n",
       "20096_1-Size_of_red_wine_glass_drunk_small_125ml                                             1.101900      \n",
       "2345-Ever_had_bowel_cancer_screening                                                         0.015428      \n",
       "N49-Diagnoses_main_ICD10_N49_Inflammatory_disor...                                           0.810890      \n",
       "100011_raw-Iron                                                                              0.096868      \n",
       "5221-Index_of_best_refractometry_result_right                                                0.012610      \n",
       "\n",
       "                                                    PEHO syndrome  \\\n",
       "phenomexcan_traits                                                  \n",
       "20096_1-Size_of_red_wine_glass_drunk_small_125ml          0.37941   \n",
       "2345-Ever_had_bowel_cancer_screening                      0.33230   \n",
       "N49-Diagnoses_main_ICD10_N49_Inflammatory_disor...        0.22246   \n",
       "100011_raw-Iron                                           0.17324   \n",
       "5221-Index_of_best_refractometry_result_right             1.25360   \n",
       "\n",
       "                                                    Oocyte maturation defect 1  \\\n",
       "phenomexcan_traits                                                               \n",
       "20096_1-Size_of_red_wine_glass_drunk_small_125ml                      1.747500   \n",
       "2345-Ever_had_bowel_cancer_screening                                  1.911700   \n",
       "N49-Diagnoses_main_ICD10_N49_Inflammatory_disor...                    5.448500   \n",
       "100011_raw-Iron                                                       3.459100   \n",
       "5221-Index_of_best_refractometry_result_right                         0.031501   \n",
       "\n",
       "                                                    OOCYTE MATURATION DEFECT 6  \\\n",
       "phenomexcan_traits                                                               \n",
       "20096_1-Size_of_red_wine_glass_drunk_small_125ml                      0.272920   \n",
       "2345-Ever_had_bowel_cancer_screening                                  2.069200   \n",
       "N49-Diagnoses_main_ICD10_N49_Inflammatory_disor...                    0.087805   \n",
       "100011_raw-Iron                                                       0.144560   \n",
       "5221-Index_of_best_refractometry_result_right                         0.244870   \n",
       "\n",
       "                                                    OOCYTE MATURATION DEFECT 3  \\\n",
       "phenomexcan_traits                                                               \n",
       "20096_1-Size_of_red_wine_glass_drunk_small_125ml                      0.006041   \n",
       "2345-Ever_had_bowel_cancer_screening                                  0.242160   \n",
       "N49-Diagnoses_main_ICD10_N49_Inflammatory_disor...                    0.725030   \n",
       "100011_raw-Iron                                                       0.009105   \n",
       "5221-Index_of_best_refractometry_result_right                         0.001039   \n",
       "\n",
       "                                                    Acromelic frontonasal dysostosis  \\\n",
       "phenomexcan_traits                                                                     \n",
       "20096_1-Size_of_red_wine_glass_drunk_small_125ml                            0.194580   \n",
       "2345-Ever_had_bowel_cancer_screening                                        0.392450   \n",
       "N49-Diagnoses_main_ICD10_N49_Inflammatory_disor...                          0.155320   \n",
       "100011_raw-Iron                                                             0.015222   \n",
       "5221-Index_of_best_refractometry_result_right                               0.028283   \n",
       "\n",
       "                                                    NEURODEVELOPMENTAL DISORDER WITH MOVEMENT ABNORMALITIES, ABNORMAL GAIT, AND AUTISTIC FEATURES  \n",
       "phenomexcan_traits                                                                                                                                 \n",
       "20096_1-Size_of_red_wine_glass_drunk_small_125ml                                             0.194580                                              \n",
       "2345-Ever_had_bowel_cancer_screening                                                         0.392450                                              \n",
       "N49-Diagnoses_main_ICD10_N49_Inflammatory_disor...                                           0.155320                                              \n",
       "100011_raw-Iron                                                                              0.015222                                              \n",
       "5221-Index_of_best_refractometry_result_right                                                0.028283                                              \n",
       "\n",
       "[5 rows x 5106 columns]"
      ]
     },
     "execution_count": 49,
     "metadata": {},
     "output_type": "execute_result"
    }
   ],
   "source": [
    "_tmp.head()"
   ]
  },
  {
   "cell_type": "code",
   "execution_count": 50,
   "metadata": {
    "papermill": {
     "duration": 1.239636,
     "end_time": "2020-01-01T23:08:51.518630",
     "exception": false,
     "start_time": "2020-01-01T23:08:50.278994",
     "status": "completed"
    },
    "tags": []
   },
   "outputs": [],
   "source": [
    "assert not _tmp.isin([np.inf, -np.inf]).any().any()"
   ]
  },
  {
   "cell_type": "code",
   "execution_count": 51,
   "metadata": {
    "papermill": {
     "duration": 1.950461,
     "end_time": "2020-01-01T23:08:53.614744",
     "exception": false,
     "start_time": "2020-01-01T23:08:51.664283",
     "status": "completed"
    },
    "tags": []
   },
   "outputs": [],
   "source": [
    "assert not _tmp.isna().any().any()"
   ]
  },
  {
   "cell_type": "code",
   "execution_count": 52,
   "metadata": {
    "papermill": {
     "duration": 6.995641,
     "end_time": "2020-01-01T23:09:00.681064",
     "exception": false,
     "start_time": "2020-01-01T23:08:53.685423",
     "status": "completed"
    },
    "tags": []
   },
   "outputs": [],
   "source": [
    "assert ((_tmp >= 0) & (_tmp <= 1600)).all().all()"
   ]
  },
  {
   "cell_type": "code",
   "execution_count": 53,
   "metadata": {
    "papermill": {
     "duration": 1.129201,
     "end_time": "2020-01-01T23:09:01.871707",
     "exception": false,
     "start_time": "2020-01-01T23:09:00.742506",
     "status": "completed"
    },
    "tags": []
   },
   "outputs": [],
   "source": [
    "assert np.allclose(_tmp.values, assoc_coef_df.values, atol=1e-15, rtol=1e-4)"
   ]
  },
  {
   "cell_type": "code",
   "execution_count": null,
   "metadata": {
    "papermill": {
     "duration": 0.055549,
     "end_time": "2020-01-01T23:09:01.987499",
     "exception": false,
     "start_time": "2020-01-01T23:09:01.931950",
     "status": "completed"
    },
    "tags": []
   },
   "outputs": [],
   "source": []
  }
 ],
 "metadata": {
  "kernelspec": {
   "display_name": "Python 3",
   "language": "python",
   "name": "python3"
  },
  "language_info": {
   "codemirror_mode": {
    "name": "ipython",
    "version": 3
   },
   "file_extension": ".py",
   "mimetype": "text/x-python",
   "name": "python",
   "nbconvert_exporter": "python",
   "pygments_lexer": "ipython3",
   "version": "3.7.5"
  },
  "papermill": {
   "duration": 364.296122,
   "end_time": "2020-01-01T23:09:02.658360",
   "environment_variables": {},
   "exception": null,
   "input_path": "100_postprocessing/10_phenomexcan_and_clinvar-associations.ipynb",
   "output_path": "100_postprocessing/10_phenomexcan_and_clinvar-associations.run.ipynb",
   "parameters": {},
   "start_time": "2020-01-01T23:02:58.362238",
   "version": "1.2.1"
  }
 },
 "nbformat": 4,
 "nbformat_minor": 4
}