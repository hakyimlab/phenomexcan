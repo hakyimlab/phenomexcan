{
 "cells": [
  {
   "cell_type": "code",
   "execution_count": 1,
   "metadata": {},
   "outputs": [],
   "source": [
    "%load_ext autoreload\n",
    "%autoreload 2"
   ]
  },
  {
   "cell_type": "code",
   "execution_count": 2,
   "metadata": {},
   "outputs": [],
   "source": [
    "import os\n",
    "#import pickle\n",
    "from glob import glob\n",
    "from concurrent.futures import ProcessPoolExecutor, as_completed\n",
    "\n",
    "import numpy as np\n",
    "import pandas as pd\n",
    "#from scipy.cluster.hierarchy import linkage\n",
    "from sklearn.metrics import pairwise_distances\n",
    "#import matplotlib.pyplot as plt\n",
    "#import seaborn as sns\n",
    "\n",
    "import settings as conf\n",
    "import metadata\n",
    "from utils import chunker"
   ]
  },
  {
   "cell_type": "markdown",
   "metadata": {},
   "source": [
    "# Load gene associations"
   ]
  },
  {
   "cell_type": "markdown",
   "metadata": {},
   "source": [
    "## Clinvar"
   ]
  },
  {
   "cell_type": "code",
   "execution_count": 3,
   "metadata": {},
   "outputs": [
    {
     "data": {
      "text/plain": [
       "'/mnt/phenomexcan_base/gene_assoc/clinvar-gene_associations.pkl.xz'"
      ]
     },
     "metadata": {},
     "output_type": "display_data"
    }
   ],
   "source": [
    "clinvar_genes_associations_filename = os.path.join(conf.GENE_ASSOC_DIR, 'clinvar-gene_associations.pkl.xz')\n",
    "display(clinvar_genes_associations_filename)"
   ]
  },
  {
   "cell_type": "code",
   "execution_count": 4,
   "metadata": {},
   "outputs": [],
   "source": [
    "clinvar_genes_associations = pd.read_pickle(clinvar_genes_associations_filename)"
   ]
  },
  {
   "cell_type": "code",
   "execution_count": 5,
   "metadata": {},
   "outputs": [
    {
     "data": {
      "text/plain": [
       "(4194, 5586)"
      ]
     },
     "execution_count": 5,
     "metadata": {},
     "output_type": "execute_result"
    }
   ],
   "source": [
    "clinvar_genes_associations.shape"
   ]
  },
  {
   "cell_type": "code",
   "execution_count": 6,
   "metadata": {},
   "outputs": [
    {
     "data": {
      "text/html": [
       "<div>\n",
       "<style scoped>\n",
       "    .dataframe tbody tr th:only-of-type {\n",
       "        vertical-align: middle;\n",
       "    }\n",
       "\n",
       "    .dataframe tbody tr th {\n",
       "        vertical-align: top;\n",
       "    }\n",
       "\n",
       "    .dataframe thead th {\n",
       "        text-align: right;\n",
       "    }\n",
       "</style>\n",
       "<table border=\"1\" class=\"dataframe\">\n",
       "  <thead>\n",
       "    <tr style=\"text-align: right;\">\n",
       "      <th></th>\n",
       "      <th>Alzheimer's disease</th>\n",
       "      <th>Alpha-2-macroglobulin deficiency</th>\n",
       "      <th>Otitis media, susceptibility to</th>\n",
       "      <th>p phenotype</th>\n",
       "      <th>Glucocorticoid deficiency with achalasia</th>\n",
       "      <th>Keratosis palmoplantaris papulosa</th>\n",
       "      <th>Charcot-Marie-Tooth disease, type 2N</th>\n",
       "      <th>Epileptic encephalopathy, early infantile, 29</th>\n",
       "      <th>Combined oxidative phosphorylation deficiency 8</th>\n",
       "      <th>Leukoencephalopathy, progressive, with ovarian failure</th>\n",
       "      <th>...</th>\n",
       "      <th>Myopia 21, autosomal dominant</th>\n",
       "      <th>Paget disease of bone 6</th>\n",
       "      <th>ZNF711-Related X-linked Mental Retardation</th>\n",
       "      <th>Seborrhea-like dermatitis with psoriasiform elements</th>\n",
       "      <th>PEHO syndrome</th>\n",
       "      <th>Oocyte maturation defect 1</th>\n",
       "      <th>OOCYTE MATURATION DEFECT 6</th>\n",
       "      <th>OOCYTE MATURATION DEFECT 3</th>\n",
       "      <th>Acromelic frontonasal dysostosis</th>\n",
       "      <th>NEURODEVELOPMENTAL DISORDER WITH MOVEMENT ABNORMALITIES, ABNORMAL GAIT, AND AUTISTIC FEATURES</th>\n",
       "    </tr>\n",
       "    <tr>\n",
       "      <th>gene</th>\n",
       "      <th></th>\n",
       "      <th></th>\n",
       "      <th></th>\n",
       "      <th></th>\n",
       "      <th></th>\n",
       "      <th></th>\n",
       "      <th></th>\n",
       "      <th></th>\n",
       "      <th></th>\n",
       "      <th></th>\n",
       "      <th></th>\n",
       "      <th></th>\n",
       "      <th></th>\n",
       "      <th></th>\n",
       "      <th></th>\n",
       "      <th></th>\n",
       "      <th></th>\n",
       "      <th></th>\n",
       "      <th></th>\n",
       "      <th></th>\n",
       "      <th></th>\n",
       "    </tr>\n",
       "  </thead>\n",
       "  <tbody>\n",
       "    <tr>\n",
       "      <th>A2M</th>\n",
       "      <td>1</td>\n",
       "      <td>1</td>\n",
       "      <td>0</td>\n",
       "      <td>0</td>\n",
       "      <td>0</td>\n",
       "      <td>0</td>\n",
       "      <td>0</td>\n",
       "      <td>0</td>\n",
       "      <td>0</td>\n",
       "      <td>0</td>\n",
       "      <td>...</td>\n",
       "      <td>0</td>\n",
       "      <td>0</td>\n",
       "      <td>0</td>\n",
       "      <td>0</td>\n",
       "      <td>0</td>\n",
       "      <td>0</td>\n",
       "      <td>0</td>\n",
       "      <td>0</td>\n",
       "      <td>0</td>\n",
       "      <td>0</td>\n",
       "    </tr>\n",
       "    <tr>\n",
       "      <th>A2ML1</th>\n",
       "      <td>0</td>\n",
       "      <td>0</td>\n",
       "      <td>1</td>\n",
       "      <td>0</td>\n",
       "      <td>0</td>\n",
       "      <td>0</td>\n",
       "      <td>0</td>\n",
       "      <td>0</td>\n",
       "      <td>0</td>\n",
       "      <td>0</td>\n",
       "      <td>...</td>\n",
       "      <td>0</td>\n",
       "      <td>0</td>\n",
       "      <td>0</td>\n",
       "      <td>0</td>\n",
       "      <td>0</td>\n",
       "      <td>0</td>\n",
       "      <td>0</td>\n",
       "      <td>0</td>\n",
       "      <td>0</td>\n",
       "      <td>0</td>\n",
       "    </tr>\n",
       "    <tr>\n",
       "      <th>A4GALT</th>\n",
       "      <td>0</td>\n",
       "      <td>0</td>\n",
       "      <td>0</td>\n",
       "      <td>1</td>\n",
       "      <td>0</td>\n",
       "      <td>0</td>\n",
       "      <td>0</td>\n",
       "      <td>0</td>\n",
       "      <td>0</td>\n",
       "      <td>0</td>\n",
       "      <td>...</td>\n",
       "      <td>0</td>\n",
       "      <td>0</td>\n",
       "      <td>0</td>\n",
       "      <td>0</td>\n",
       "      <td>0</td>\n",
       "      <td>0</td>\n",
       "      <td>0</td>\n",
       "      <td>0</td>\n",
       "      <td>0</td>\n",
       "      <td>0</td>\n",
       "    </tr>\n",
       "    <tr>\n",
       "      <th>AAAS</th>\n",
       "      <td>0</td>\n",
       "      <td>0</td>\n",
       "      <td>0</td>\n",
       "      <td>0</td>\n",
       "      <td>1</td>\n",
       "      <td>0</td>\n",
       "      <td>0</td>\n",
       "      <td>0</td>\n",
       "      <td>0</td>\n",
       "      <td>0</td>\n",
       "      <td>...</td>\n",
       "      <td>0</td>\n",
       "      <td>0</td>\n",
       "      <td>0</td>\n",
       "      <td>0</td>\n",
       "      <td>0</td>\n",
       "      <td>0</td>\n",
       "      <td>0</td>\n",
       "      <td>0</td>\n",
       "      <td>0</td>\n",
       "      <td>0</td>\n",
       "    </tr>\n",
       "    <tr>\n",
       "      <th>AAGAB</th>\n",
       "      <td>0</td>\n",
       "      <td>0</td>\n",
       "      <td>0</td>\n",
       "      <td>0</td>\n",
       "      <td>0</td>\n",
       "      <td>1</td>\n",
       "      <td>0</td>\n",
       "      <td>0</td>\n",
       "      <td>0</td>\n",
       "      <td>0</td>\n",
       "      <td>...</td>\n",
       "      <td>0</td>\n",
       "      <td>0</td>\n",
       "      <td>0</td>\n",
       "      <td>0</td>\n",
       "      <td>0</td>\n",
       "      <td>0</td>\n",
       "      <td>0</td>\n",
       "      <td>0</td>\n",
       "      <td>0</td>\n",
       "      <td>0</td>\n",
       "    </tr>\n",
       "  </tbody>\n",
       "</table>\n",
       "<p>5 rows × 5586 columns</p>\n",
       "</div>"
      ],
      "text/plain": [
       "        Alzheimer's disease  Alpha-2-macroglobulin deficiency  \\\n",
       "gene                                                            \n",
       "A2M                       1                                 1   \n",
       "A2ML1                     0                                 0   \n",
       "A4GALT                    0                                 0   \n",
       "AAAS                      0                                 0   \n",
       "AAGAB                     0                                 0   \n",
       "\n",
       "        Otitis media, susceptibility to  p phenotype  \\\n",
       "gene                                                   \n",
       "A2M                                   0            0   \n",
       "A2ML1                                 1            0   \n",
       "A4GALT                                0            1   \n",
       "AAAS                                  0            0   \n",
       "AAGAB                                 0            0   \n",
       "\n",
       "        Glucocorticoid deficiency with achalasia  \\\n",
       "gene                                               \n",
       "A2M                                            0   \n",
       "A2ML1                                          0   \n",
       "A4GALT                                         0   \n",
       "AAAS                                           1   \n",
       "AAGAB                                          0   \n",
       "\n",
       "        Keratosis palmoplantaris papulosa  \\\n",
       "gene                                        \n",
       "A2M                                     0   \n",
       "A2ML1                                   0   \n",
       "A4GALT                                  0   \n",
       "AAAS                                    0   \n",
       "AAGAB                                   1   \n",
       "\n",
       "        Charcot-Marie-Tooth disease, type 2N  \\\n",
       "gene                                           \n",
       "A2M                                        0   \n",
       "A2ML1                                      0   \n",
       "A4GALT                                     0   \n",
       "AAAS                                       0   \n",
       "AAGAB                                      0   \n",
       "\n",
       "        Epileptic encephalopathy, early infantile, 29  \\\n",
       "gene                                                    \n",
       "A2M                                                 0   \n",
       "A2ML1                                               0   \n",
       "A4GALT                                              0   \n",
       "AAAS                                                0   \n",
       "AAGAB                                               0   \n",
       "\n",
       "        Combined oxidative phosphorylation deficiency 8  \\\n",
       "gene                                                      \n",
       "A2M                                                   0   \n",
       "A2ML1                                                 0   \n",
       "A4GALT                                                0   \n",
       "AAAS                                                  0   \n",
       "AAGAB                                                 0   \n",
       "\n",
       "        Leukoencephalopathy, progressive, with ovarian failure  ...  \\\n",
       "gene                                                            ...   \n",
       "A2M                                                     0       ...   \n",
       "A2ML1                                                   0       ...   \n",
       "A4GALT                                                  0       ...   \n",
       "AAAS                                                    0       ...   \n",
       "AAGAB                                                   0       ...   \n",
       "\n",
       "        Myopia 21, autosomal dominant  Paget disease of bone 6  \\\n",
       "gene                                                             \n",
       "A2M                                 0                        0   \n",
       "A2ML1                               0                        0   \n",
       "A4GALT                              0                        0   \n",
       "AAAS                                0                        0   \n",
       "AAGAB                               0                        0   \n",
       "\n",
       "        ZNF711-Related X-linked Mental Retardation  \\\n",
       "gene                                                 \n",
       "A2M                                              0   \n",
       "A2ML1                                            0   \n",
       "A4GALT                                           0   \n",
       "AAAS                                             0   \n",
       "AAGAB                                            0   \n",
       "\n",
       "        Seborrhea-like dermatitis with psoriasiform elements  PEHO syndrome  \\\n",
       "gene                                                                          \n",
       "A2M                                                     0                 0   \n",
       "A2ML1                                                   0                 0   \n",
       "A4GALT                                                  0                 0   \n",
       "AAAS                                                    0                 0   \n",
       "AAGAB                                                   0                 0   \n",
       "\n",
       "        Oocyte maturation defect 1  OOCYTE MATURATION DEFECT 6  \\\n",
       "gene                                                             \n",
       "A2M                              0                           0   \n",
       "A2ML1                            0                           0   \n",
       "A4GALT                           0                           0   \n",
       "AAAS                             0                           0   \n",
       "AAGAB                            0                           0   \n",
       "\n",
       "        OOCYTE MATURATION DEFECT 3  Acromelic frontonasal dysostosis  \\\n",
       "gene                                                                   \n",
       "A2M                              0                                 0   \n",
       "A2ML1                            0                                 0   \n",
       "A4GALT                           0                                 0   \n",
       "AAAS                             0                                 0   \n",
       "AAGAB                            0                                 0   \n",
       "\n",
       "        NEURODEVELOPMENTAL DISORDER WITH MOVEMENT ABNORMALITIES, ABNORMAL GAIT, AND AUTISTIC FEATURES  \n",
       "gene                                                                                                   \n",
       "A2M                                                     0                                              \n",
       "A2ML1                                                   0                                              \n",
       "A4GALT                                                  0                                              \n",
       "AAAS                                                    0                                              \n",
       "AAGAB                                                   0                                              \n",
       "\n",
       "[5 rows x 5586 columns]"
      ]
     },
     "execution_count": 6,
     "metadata": {},
     "output_type": "execute_result"
    }
   ],
   "source": [
    "clinvar_genes_associations.head(5)"
   ]
  },
  {
   "cell_type": "markdown",
   "metadata": {},
   "source": [
    "## S-MultiXcan"
   ]
  },
  {
   "cell_type": "code",
   "execution_count": 7,
   "metadata": {},
   "outputs": [
    {
     "data": {
      "text/plain": [
       "'/mnt/phenomexcan_base/gene_assoc/smultixcan-mashr-zscores.pkl.xz'"
      ]
     },
     "metadata": {},
     "output_type": "display_data"
    }
   ],
   "source": [
    "smultixcan_genes_associations_zscores_filename = os.path.join(conf.GENE_ASSOC_DIR, f'smultixcan-mashr-zscores.pkl.xz')\n",
    "display(smultixcan_genes_associations_zscores_filename)"
   ]
  },
  {
   "cell_type": "code",
   "execution_count": 8,
   "metadata": {},
   "outputs": [],
   "source": [
    "smultixcan_genes_associations_zscores = pd.read_pickle(smultixcan_genes_associations_zscores_filename)"
   ]
  },
  {
   "cell_type": "code",
   "execution_count": 9,
   "metadata": {},
   "outputs": [
    {
     "data": {
      "text/plain": [
       "(22515, 4091)"
      ]
     },
     "execution_count": 9,
     "metadata": {},
     "output_type": "execute_result"
    }
   ],
   "source": [
    "smultixcan_genes_associations_zscores.shape"
   ]
  },
  {
   "cell_type": "code",
   "execution_count": 10,
   "metadata": {},
   "outputs": [
    {
     "data": {
      "text/html": [
       "<div>\n",
       "<style scoped>\n",
       "    .dataframe tbody tr th:only-of-type {\n",
       "        vertical-align: middle;\n",
       "    }\n",
       "\n",
       "    .dataframe tbody tr th {\n",
       "        vertical-align: top;\n",
       "    }\n",
       "\n",
       "    .dataframe thead th {\n",
       "        text-align: right;\n",
       "    }\n",
       "</style>\n",
       "<table border=\"1\" class=\"dataframe\">\n",
       "  <thead>\n",
       "    <tr style=\"text-align: right;\">\n",
       "      <th></th>\n",
       "      <th>4270-Volume_level_set_by_participant_left</th>\n",
       "      <th>S05-Diagnoses_main_ICD10_S05_Injury_of_eye_and_orbit</th>\n",
       "      <th>20003_1141157402-Treatmentmedication_code_prednisolone_product</th>\n",
       "      <th>20002_1427-Noncancer_illness_code_selfreported_polycystic_kidney</th>\n",
       "      <th>110001-Invitation_to_complete_online_24hour_recall_dietary_questionnaire_acceptance</th>\n",
       "      <th>22617_2442-Job_SOC_coding_Social_workers</th>\n",
       "      <th>J93-Diagnoses_main_ICD10_J93_Pneumothorax</th>\n",
       "      <th>22601_41133206-Job_coding_local_government_administrative_officer_or_assistant_or_clerk</th>\n",
       "      <th>6145_3-Illness_injury_bereavement_stress_in_last_2_years_Death_of_a_close_relative</th>\n",
       "      <th>20002_1597-Noncancer_illness_code_selfreported_tinnitus_tiniitis</th>\n",
       "      <th>...</th>\n",
       "      <th>PGC_ADHD_EUR_2017</th>\n",
       "      <th>BCAC_ER_negative_BreastCancer_EUR</th>\n",
       "      <th>SSGAC_Education_Years_Pooled</th>\n",
       "      <th>pgc.scz2</th>\n",
       "      <th>MAGNETIC_HDL.C</th>\n",
       "      <th>MAGIC_ln_FastingInsulin</th>\n",
       "      <th>Astle_et_al_2016_Sum_eosinophil_basophil_counts</th>\n",
       "      <th>SSGAC_Depressive_Symptoms</th>\n",
       "      <th>Jones_et_al_2016_SleepDuration</th>\n",
       "      <th>Astle_et_al_2016_Red_blood_cell_count</th>\n",
       "    </tr>\n",
       "    <tr>\n",
       "      <th>gene_name</th>\n",
       "      <th></th>\n",
       "      <th></th>\n",
       "      <th></th>\n",
       "      <th></th>\n",
       "      <th></th>\n",
       "      <th></th>\n",
       "      <th></th>\n",
       "      <th></th>\n",
       "      <th></th>\n",
       "      <th></th>\n",
       "      <th></th>\n",
       "      <th></th>\n",
       "      <th></th>\n",
       "      <th></th>\n",
       "      <th></th>\n",
       "      <th></th>\n",
       "      <th></th>\n",
       "      <th></th>\n",
       "      <th></th>\n",
       "      <th></th>\n",
       "      <th></th>\n",
       "    </tr>\n",
       "  </thead>\n",
       "  <tbody>\n",
       "    <tr>\n",
       "      <th>ENSG00000000419</th>\n",
       "      <td>0.059156</td>\n",
       "      <td>0.217326</td>\n",
       "      <td>0.029150</td>\n",
       "      <td>0.104664</td>\n",
       "      <td>0.553134</td>\n",
       "      <td>1.101089</td>\n",
       "      <td>0.280399</td>\n",
       "      <td>0.527449</td>\n",
       "      <td>0.625478</td>\n",
       "      <td>0.620854</td>\n",
       "      <td>...</td>\n",
       "      <td>0.024717</td>\n",
       "      <td>0.816922</td>\n",
       "      <td>0.321512</td>\n",
       "      <td>0.510834</td>\n",
       "      <td>2.336462</td>\n",
       "      <td>0.893203</td>\n",
       "      <td>0.223675</td>\n",
       "      <td>0.367414</td>\n",
       "      <td>0.178426</td>\n",
       "      <td>0.824314</td>\n",
       "    </tr>\n",
       "    <tr>\n",
       "      <th>ENSG00000000457</th>\n",
       "      <td>0.458818</td>\n",
       "      <td>1.037278</td>\n",
       "      <td>0.710374</td>\n",
       "      <td>2.913855</td>\n",
       "      <td>0.118886</td>\n",
       "      <td>0.194594</td>\n",
       "      <td>1.485428</td>\n",
       "      <td>0.166128</td>\n",
       "      <td>2.184210</td>\n",
       "      <td>0.855502</td>\n",
       "      <td>...</td>\n",
       "      <td>1.202984</td>\n",
       "      <td>0.472136</td>\n",
       "      <td>0.447472</td>\n",
       "      <td>2.545653</td>\n",
       "      <td>0.350052</td>\n",
       "      <td>1.251757</td>\n",
       "      <td>2.651112</td>\n",
       "      <td>0.414171</td>\n",
       "      <td>0.206143</td>\n",
       "      <td>0.237223</td>\n",
       "    </tr>\n",
       "    <tr>\n",
       "      <th>ENSG00000000460</th>\n",
       "      <td>0.130622</td>\n",
       "      <td>1.673556</td>\n",
       "      <td>0.662508</td>\n",
       "      <td>1.383726</td>\n",
       "      <td>0.031908</td>\n",
       "      <td>0.483261</td>\n",
       "      <td>0.797453</td>\n",
       "      <td>0.595180</td>\n",
       "      <td>1.884805</td>\n",
       "      <td>1.045412</td>\n",
       "      <td>...</td>\n",
       "      <td>1.033308</td>\n",
       "      <td>1.473851</td>\n",
       "      <td>0.458711</td>\n",
       "      <td>0.541782</td>\n",
       "      <td>0.676499</td>\n",
       "      <td>0.640565</td>\n",
       "      <td>2.843532</td>\n",
       "      <td>0.336480</td>\n",
       "      <td>0.785382</td>\n",
       "      <td>0.695624</td>\n",
       "    </tr>\n",
       "    <tr>\n",
       "      <th>ENSG00000000938</th>\n",
       "      <td>0.557883</td>\n",
       "      <td>1.611271</td>\n",
       "      <td>0.773417</td>\n",
       "      <td>0.571616</td>\n",
       "      <td>0.294555</td>\n",
       "      <td>1.270594</td>\n",
       "      <td>1.196635</td>\n",
       "      <td>1.613178</td>\n",
       "      <td>0.530660</td>\n",
       "      <td>0.058038</td>\n",
       "      <td>...</td>\n",
       "      <td>0.540496</td>\n",
       "      <td>1.208182</td>\n",
       "      <td>0.558368</td>\n",
       "      <td>1.886356</td>\n",
       "      <td>0.779920</td>\n",
       "      <td>0.058739</td>\n",
       "      <td>1.635829</td>\n",
       "      <td>0.056432</td>\n",
       "      <td>1.655463</td>\n",
       "      <td>1.494501</td>\n",
       "    </tr>\n",
       "    <tr>\n",
       "      <th>ENSG00000000971</th>\n",
       "      <td>0.054685</td>\n",
       "      <td>0.687113</td>\n",
       "      <td>0.657400</td>\n",
       "      <td>0.624363</td>\n",
       "      <td>0.589818</td>\n",
       "      <td>0.008068</td>\n",
       "      <td>0.243731</td>\n",
       "      <td>0.064759</td>\n",
       "      <td>0.286240</td>\n",
       "      <td>0.688779</td>\n",
       "      <td>...</td>\n",
       "      <td>1.598721</td>\n",
       "      <td>2.044839</td>\n",
       "      <td>2.766758</td>\n",
       "      <td>2.319072</td>\n",
       "      <td>0.773096</td>\n",
       "      <td>0.398527</td>\n",
       "      <td>1.918412</td>\n",
       "      <td>3.004544</td>\n",
       "      <td>0.971837</td>\n",
       "      <td>0.005703</td>\n",
       "    </tr>\n",
       "  </tbody>\n",
       "</table>\n",
       "<p>5 rows × 4091 columns</p>\n",
       "</div>"
      ],
      "text/plain": [
       "                 4270-Volume_level_set_by_participant_left  \\\n",
       "gene_name                                                    \n",
       "ENSG00000000419                                   0.059156   \n",
       "ENSG00000000457                                   0.458818   \n",
       "ENSG00000000460                                   0.130622   \n",
       "ENSG00000000938                                   0.557883   \n",
       "ENSG00000000971                                   0.054685   \n",
       "\n",
       "                 S05-Diagnoses_main_ICD10_S05_Injury_of_eye_and_orbit  \\\n",
       "gene_name                                                               \n",
       "ENSG00000000419                                           0.217326      \n",
       "ENSG00000000457                                           1.037278      \n",
       "ENSG00000000460                                           1.673556      \n",
       "ENSG00000000938                                           1.611271      \n",
       "ENSG00000000971                                           0.687113      \n",
       "\n",
       "                 20003_1141157402-Treatmentmedication_code_prednisolone_product  \\\n",
       "gene_name                                                                         \n",
       "ENSG00000000419                                           0.029150                \n",
       "ENSG00000000457                                           0.710374                \n",
       "ENSG00000000460                                           0.662508                \n",
       "ENSG00000000938                                           0.773417                \n",
       "ENSG00000000971                                           0.657400                \n",
       "\n",
       "                 20002_1427-Noncancer_illness_code_selfreported_polycystic_kidney  \\\n",
       "gene_name                                                                           \n",
       "ENSG00000000419                                           0.104664                  \n",
       "ENSG00000000457                                           2.913855                  \n",
       "ENSG00000000460                                           1.383726                  \n",
       "ENSG00000000938                                           0.571616                  \n",
       "ENSG00000000971                                           0.624363                  \n",
       "\n",
       "                 110001-Invitation_to_complete_online_24hour_recall_dietary_questionnaire_acceptance  \\\n",
       "gene_name                                                                                              \n",
       "ENSG00000000419                                           0.553134                                     \n",
       "ENSG00000000457                                           0.118886                                     \n",
       "ENSG00000000460                                           0.031908                                     \n",
       "ENSG00000000938                                           0.294555                                     \n",
       "ENSG00000000971                                           0.589818                                     \n",
       "\n",
       "                 22617_2442-Job_SOC_coding_Social_workers  \\\n",
       "gene_name                                                   \n",
       "ENSG00000000419                                  1.101089   \n",
       "ENSG00000000457                                  0.194594   \n",
       "ENSG00000000460                                  0.483261   \n",
       "ENSG00000000938                                  1.270594   \n",
       "ENSG00000000971                                  0.008068   \n",
       "\n",
       "                 J93-Diagnoses_main_ICD10_J93_Pneumothorax  \\\n",
       "gene_name                                                    \n",
       "ENSG00000000419                                   0.280399   \n",
       "ENSG00000000457                                   1.485428   \n",
       "ENSG00000000460                                   0.797453   \n",
       "ENSG00000000938                                   1.196635   \n",
       "ENSG00000000971                                   0.243731   \n",
       "\n",
       "                 22601_41133206-Job_coding_local_government_administrative_officer_or_assistant_or_clerk  \\\n",
       "gene_name                                                                                                  \n",
       "ENSG00000000419                                           0.527449                                         \n",
       "ENSG00000000457                                           0.166128                                         \n",
       "ENSG00000000460                                           0.595180                                         \n",
       "ENSG00000000938                                           1.613178                                         \n",
       "ENSG00000000971                                           0.064759                                         \n",
       "\n",
       "                 6145_3-Illness_injury_bereavement_stress_in_last_2_years_Death_of_a_close_relative  \\\n",
       "gene_name                                                                                             \n",
       "ENSG00000000419                                           0.625478                                    \n",
       "ENSG00000000457                                           2.184210                                    \n",
       "ENSG00000000460                                           1.884805                                    \n",
       "ENSG00000000938                                           0.530660                                    \n",
       "ENSG00000000971                                           0.286240                                    \n",
       "\n",
       "                 20002_1597-Noncancer_illness_code_selfreported_tinnitus_tiniitis  \\\n",
       "gene_name                                                                           \n",
       "ENSG00000000419                                           0.620854                  \n",
       "ENSG00000000457                                           0.855502                  \n",
       "ENSG00000000460                                           1.045412                  \n",
       "ENSG00000000938                                           0.058038                  \n",
       "ENSG00000000971                                           0.688779                  \n",
       "\n",
       "                 ...  PGC_ADHD_EUR_2017  BCAC_ER_negative_BreastCancer_EUR  \\\n",
       "gene_name        ...                                                         \n",
       "ENSG00000000419  ...           0.024717                           0.816922   \n",
       "ENSG00000000457  ...           1.202984                           0.472136   \n",
       "ENSG00000000460  ...           1.033308                           1.473851   \n",
       "ENSG00000000938  ...           0.540496                           1.208182   \n",
       "ENSG00000000971  ...           1.598721                           2.044839   \n",
       "\n",
       "                 SSGAC_Education_Years_Pooled  pgc.scz2  MAGNETIC_HDL.C  \\\n",
       "gene_name                                                                 \n",
       "ENSG00000000419                      0.321512  0.510834        2.336462   \n",
       "ENSG00000000457                      0.447472  2.545653        0.350052   \n",
       "ENSG00000000460                      0.458711  0.541782        0.676499   \n",
       "ENSG00000000938                      0.558368  1.886356        0.779920   \n",
       "ENSG00000000971                      2.766758  2.319072        0.773096   \n",
       "\n",
       "                 MAGIC_ln_FastingInsulin  \\\n",
       "gene_name                                  \n",
       "ENSG00000000419                 0.893203   \n",
       "ENSG00000000457                 1.251757   \n",
       "ENSG00000000460                 0.640565   \n",
       "ENSG00000000938                 0.058739   \n",
       "ENSG00000000971                 0.398527   \n",
       "\n",
       "                 Astle_et_al_2016_Sum_eosinophil_basophil_counts  \\\n",
       "gene_name                                                          \n",
       "ENSG00000000419                                         0.223675   \n",
       "ENSG00000000457                                         2.651112   \n",
       "ENSG00000000460                                         2.843532   \n",
       "ENSG00000000938                                         1.635829   \n",
       "ENSG00000000971                                         1.918412   \n",
       "\n",
       "                 SSGAC_Depressive_Symptoms  Jones_et_al_2016_SleepDuration  \\\n",
       "gene_name                                                                    \n",
       "ENSG00000000419                   0.367414                        0.178426   \n",
       "ENSG00000000457                   0.414171                        0.206143   \n",
       "ENSG00000000460                   0.336480                        0.785382   \n",
       "ENSG00000000938                   0.056432                        1.655463   \n",
       "ENSG00000000971                   3.004544                        0.971837   \n",
       "\n",
       "                 Astle_et_al_2016_Red_blood_cell_count  \n",
       "gene_name                                               \n",
       "ENSG00000000419                               0.824314  \n",
       "ENSG00000000457                               0.237223  \n",
       "ENSG00000000460                               0.695624  \n",
       "ENSG00000000938                               1.494501  \n",
       "ENSG00000000971                               0.005703  \n",
       "\n",
       "[5 rows x 4091 columns]"
      ]
     },
     "execution_count": 10,
     "metadata": {},
     "output_type": "execute_result"
    }
   ],
   "source": [
    "smultixcan_genes_associations_zscores.head(5)"
   ]
  },
  {
   "cell_type": "markdown",
   "metadata": {},
   "source": [
    "### Compute unique list of genes and non-empty diseases"
   ]
  },
  {
   "cell_type": "code",
   "execution_count": 11,
   "metadata": {},
   "outputs": [
    {
     "data": {
      "text/plain": [
       "3790"
      ]
     },
     "metadata": {},
     "output_type": "display_data"
    },
    {
     "data": {
      "text/plain": [
       "3789"
      ]
     },
     "metadata": {},
     "output_type": "display_data"
    },
    {
     "data": {
      "text/plain": [
       "3789"
      ]
     },
     "metadata": {},
     "output_type": "display_data"
    }
   ],
   "source": [
    "clinvar_genes_to_id = pd.Index([\n",
    "    metadata.GENE_NAME_TO_ID_MAP[x]\n",
    "    for x in clinvar_genes_associations.index\n",
    "    if x in metadata.GENE_NAME_TO_ID_MAP\n",
    "])\n",
    "display(len(clinvar_genes_to_id))\n",
    "\n",
    "shared_gene_ids = clinvar_genes_to_id.intersection(smultixcan_genes_associations_zscores.index)\n",
    "display(len(shared_gene_ids))\n",
    "\n",
    "shared_gene_names = pd.Index([metadata.GENE_ID_TO_NAME_MAP[x] for x in shared_gene_ids])\n",
    "display(len(shared_gene_names))\n",
    "\n",
    "assert len(shared_gene_ids) == len(shared_gene_names)"
   ]
  },
  {
   "cell_type": "code",
   "execution_count": 12,
   "metadata": {},
   "outputs": [],
   "source": [
    "smultixcan_genes_associations_zscores = smultixcan_genes_associations_zscores.loc[shared_gene_ids]\n",
    "clinvar_genes_associations = clinvar_genes_associations.loc[shared_gene_names]"
   ]
  },
  {
   "cell_type": "code",
   "execution_count": 13,
   "metadata": {},
   "outputs": [
    {
     "data": {
      "text/plain": [
       "(480,)"
      ]
     },
     "metadata": {},
     "output_type": "display_data"
    }
   ],
   "source": [
    "_tmp = clinvar_genes_associations.sum()\n",
    "_clinvar_diseases_to_remove = _tmp[_tmp == 0].index\n",
    "display(_clinvar_diseases_to_remove.shape)"
   ]
  },
  {
   "cell_type": "code",
   "execution_count": 14,
   "metadata": {},
   "outputs": [],
   "source": [
    "# remove diseases that have no-genes associated (after selecting just shared ones above)\n",
    "clinvar_genes_associations = clinvar_genes_associations.drop(columns=_clinvar_diseases_to_remove)"
   ]
  },
  {
   "cell_type": "code",
   "execution_count": 15,
   "metadata": {},
   "outputs": [],
   "source": [
    "_tmp = clinvar_genes_associations.sum()\n",
    "assert _tmp[_tmp == 0].shape[0] == 0"
   ]
  },
  {
   "cell_type": "code",
   "execution_count": 16,
   "metadata": {},
   "outputs": [
    {
     "data": {
      "text/plain": [
       "(3789, 4091)"
      ]
     },
     "metadata": {},
     "output_type": "display_data"
    },
    {
     "data": {
      "text/plain": [
       "(3789, 5106)"
      ]
     },
     "metadata": {},
     "output_type": "display_data"
    }
   ],
   "source": [
    "display(smultixcan_genes_associations_zscores.shape)\n",
    "display(clinvar_genes_associations.shape)"
   ]
  },
  {
   "cell_type": "markdown",
   "metadata": {},
   "source": [
    "# Compute associations"
   ]
  },
  {
   "cell_type": "code",
   "execution_count": 17,
   "metadata": {},
   "outputs": [],
   "source": [
    "smultixcan_squared_zscores = np.power(smultixcan_genes_associations_zscores.T.fillna(0).values, 2)"
   ]
  },
  {
   "cell_type": "code",
   "execution_count": 18,
   "metadata": {},
   "outputs": [
    {
     "data": {
      "text/plain": [
       "(4091, 3789)"
      ]
     },
     "execution_count": 18,
     "metadata": {},
     "output_type": "execute_result"
    }
   ],
   "source": [
    "smultixcan_squared_zscores.shape"
   ]
  },
  {
   "cell_type": "code",
   "execution_count": 19,
   "metadata": {},
   "outputs": [
    {
     "data": {
      "text/plain": [
       "(3789, 5106)"
      ]
     },
     "execution_count": 19,
     "metadata": {},
     "output_type": "execute_result"
    }
   ],
   "source": [
    "clinvar_genes_associations.shape"
   ]
  },
  {
   "cell_type": "code",
   "execution_count": 20,
   "metadata": {},
   "outputs": [],
   "source": [
    "z2_sums = np.dot(smultixcan_squared_zscores, clinvar_genes_associations.values)"
   ]
  },
  {
   "cell_type": "code",
   "execution_count": 21,
   "metadata": {},
   "outputs": [
    {
     "data": {
      "text/plain": [
       "(4091, 5106)"
      ]
     },
     "execution_count": 21,
     "metadata": {},
     "output_type": "execute_result"
    }
   ],
   "source": [
    "z2_sums.shape"
   ]
  },
  {
   "cell_type": "code",
   "execution_count": 22,
   "metadata": {},
   "outputs": [],
   "source": [
    "n_clinvar_genes = clinvar_genes_associations.sum().to_frame().T\n",
    "n_clinvar_genes = pd.concat([n_clinvar_genes] * z2_sums.shape[0], ignore_index=True).values"
   ]
  },
  {
   "cell_type": "code",
   "execution_count": 23,
   "metadata": {},
   "outputs": [
    {
     "data": {
      "text/plain": [
       "(4091, 5106)"
      ]
     },
     "execution_count": 23,
     "metadata": {},
     "output_type": "execute_result"
    }
   ],
   "source": [
    "n_clinvar_genes.shape"
   ]
  },
  {
   "cell_type": "code",
   "execution_count": 24,
   "metadata": {},
   "outputs": [],
   "source": [
    "pheno_corrs_results = z2_sums / n_clinvar_genes"
   ]
  },
  {
   "cell_type": "code",
   "execution_count": 25,
   "metadata": {},
   "outputs": [
    {
     "data": {
      "text/plain": [
       "(4091, 5106)"
      ]
     },
     "execution_count": 25,
     "metadata": {},
     "output_type": "execute_result"
    }
   ],
   "source": [
    "pheno_corrs_results.shape"
   ]
  },
  {
   "cell_type": "code",
   "execution_count": 26,
   "metadata": {},
   "outputs": [],
   "source": [
    "assoc_coef_df = pd.DataFrame(\n",
    "    pheno_corrs_results,\n",
    "    index=smultixcan_genes_associations_zscores.columns.copy(),\n",
    "    columns=clinvar_genes_associations.columns.copy()\n",
    ")"
   ]
  },
  {
   "cell_type": "code",
   "execution_count": 27,
   "metadata": {},
   "outputs": [
    {
     "data": {
      "text/plain": [
       "(4091, 5106)"
      ]
     },
     "metadata": {},
     "output_type": "display_data"
    }
   ],
   "source": [
    "assert assoc_coef_df.shape == (smultixcan_genes_associations_zscores.shape[1], clinvar_genes_associations.shape[1])\n",
    "display(assoc_coef_df.shape)"
   ]
  },
  {
   "cell_type": "code",
   "execution_count": 28,
   "metadata": {},
   "outputs": [
    {
     "data": {
      "text/html": [
       "<div>\n",
       "<style scoped>\n",
       "    .dataframe tbody tr th:only-of-type {\n",
       "        vertical-align: middle;\n",
       "    }\n",
       "\n",
       "    .dataframe tbody tr th {\n",
       "        vertical-align: top;\n",
       "    }\n",
       "\n",
       "    .dataframe thead th {\n",
       "        text-align: right;\n",
       "    }\n",
       "</style>\n",
       "<table border=\"1\" class=\"dataframe\">\n",
       "  <thead>\n",
       "    <tr style=\"text-align: right;\">\n",
       "      <th></th>\n",
       "      <th>Alzheimer's disease</th>\n",
       "      <th>Alpha-2-macroglobulin deficiency</th>\n",
       "      <th>Otitis media, susceptibility to</th>\n",
       "      <th>p phenotype</th>\n",
       "      <th>Glucocorticoid deficiency with achalasia</th>\n",
       "      <th>Keratosis palmoplantaris papulosa</th>\n",
       "      <th>Charcot-Marie-Tooth disease, type 2N</th>\n",
       "      <th>Epileptic encephalopathy, early infantile, 29</th>\n",
       "      <th>Combined oxidative phosphorylation deficiency 8</th>\n",
       "      <th>Leukoencephalopathy, progressive, with ovarian failure</th>\n",
       "      <th>...</th>\n",
       "      <th>Retinitis pigmentosa 58</th>\n",
       "      <th>Myopia 21, autosomal dominant</th>\n",
       "      <th>Paget disease of bone 6</th>\n",
       "      <th>Seborrhea-like dermatitis with psoriasiform elements</th>\n",
       "      <th>PEHO syndrome</th>\n",
       "      <th>Oocyte maturation defect 1</th>\n",
       "      <th>OOCYTE MATURATION DEFECT 6</th>\n",
       "      <th>OOCYTE MATURATION DEFECT 3</th>\n",
       "      <th>Acromelic frontonasal dysostosis</th>\n",
       "      <th>NEURODEVELOPMENTAL DISORDER WITH MOVEMENT ABNORMALITIES, ABNORMAL GAIT, AND AUTISTIC FEATURES</th>\n",
       "    </tr>\n",
       "  </thead>\n",
       "  <tbody>\n",
       "    <tr>\n",
       "      <th>4270-Volume_level_set_by_participant_left</th>\n",
       "      <td>0.512739</td>\n",
       "      <td>0.342467</td>\n",
       "      <td>1.070237</td>\n",
       "      <td>1.800286</td>\n",
       "      <td>1.631911</td>\n",
       "      <td>0.698835</td>\n",
       "      <td>0.074415</td>\n",
       "      <td>0.074415</td>\n",
       "      <td>1.387650</td>\n",
       "      <td>1.387650</td>\n",
       "      <td>...</td>\n",
       "      <td>1.017634</td>\n",
       "      <td>1.224636</td>\n",
       "      <td>0.009039</td>\n",
       "      <td>0.385532</td>\n",
       "      <td>3.521638</td>\n",
       "      <td>0.223988</td>\n",
       "      <td>0.001329</td>\n",
       "      <td>0.425832</td>\n",
       "      <td>0.011000</td>\n",
       "      <td>0.011000</td>\n",
       "    </tr>\n",
       "    <tr>\n",
       "      <th>S05-Diagnoses_main_ICD10_S05_Injury_of_eye_and_orbit</th>\n",
       "      <td>0.217049</td>\n",
       "      <td>0.001955</td>\n",
       "      <td>0.631155</td>\n",
       "      <td>1.087293</td>\n",
       "      <td>0.007369</td>\n",
       "      <td>2.805816</td>\n",
       "      <td>0.075216</td>\n",
       "      <td>0.075216</td>\n",
       "      <td>0.093814</td>\n",
       "      <td>0.093814</td>\n",
       "      <td>...</td>\n",
       "      <td>0.501215</td>\n",
       "      <td>1.852592</td>\n",
       "      <td>1.481549</td>\n",
       "      <td>0.046810</td>\n",
       "      <td>0.619792</td>\n",
       "      <td>0.164473</td>\n",
       "      <td>2.656553</td>\n",
       "      <td>3.644131</td>\n",
       "      <td>0.321142</td>\n",
       "      <td>0.321142</td>\n",
       "    </tr>\n",
       "    <tr>\n",
       "      <th>20003_1141157402-Treatmentmedication_code_prednisolone_product</th>\n",
       "      <td>0.343953</td>\n",
       "      <td>0.676443</td>\n",
       "      <td>0.034698</td>\n",
       "      <td>0.203671</td>\n",
       "      <td>0.004971</td>\n",
       "      <td>1.390301</td>\n",
       "      <td>1.228719</td>\n",
       "      <td>1.228719</td>\n",
       "      <td>2.967204</td>\n",
       "      <td>2.967204</td>\n",
       "      <td>...</td>\n",
       "      <td>0.360941</td>\n",
       "      <td>11.078803</td>\n",
       "      <td>0.831347</td>\n",
       "      <td>0.924590</td>\n",
       "      <td>0.223633</td>\n",
       "      <td>1.503475</td>\n",
       "      <td>1.331688</td>\n",
       "      <td>2.692623</td>\n",
       "      <td>0.000386</td>\n",
       "      <td>0.000386</td>\n",
       "    </tr>\n",
       "    <tr>\n",
       "      <th>20002_1427-Noncancer_illness_code_selfreported_polycystic_kidney</th>\n",
       "      <td>0.444715</td>\n",
       "      <td>0.231927</td>\n",
       "      <td>0.288159</td>\n",
       "      <td>3.099246</td>\n",
       "      <td>0.446979</td>\n",
       "      <td>1.205976</td>\n",
       "      <td>0.114788</td>\n",
       "      <td>0.114788</td>\n",
       "      <td>0.686694</td>\n",
       "      <td>0.686694</td>\n",
       "      <td>...</td>\n",
       "      <td>1.772919</td>\n",
       "      <td>1.062408</td>\n",
       "      <td>0.254789</td>\n",
       "      <td>1.119640</td>\n",
       "      <td>1.354223</td>\n",
       "      <td>0.025730</td>\n",
       "      <td>0.680319</td>\n",
       "      <td>1.682058</td>\n",
       "      <td>0.579198</td>\n",
       "      <td>0.579198</td>\n",
       "    </tr>\n",
       "    <tr>\n",
       "      <th>110001-Invitation_to_complete_online_24hour_recall_dietary_questionnaire_acceptance</th>\n",
       "      <td>1.229807</td>\n",
       "      <td>2.597971</td>\n",
       "      <td>6.239911</td>\n",
       "      <td>1.639243</td>\n",
       "      <td>1.395789</td>\n",
       "      <td>0.051032</td>\n",
       "      <td>1.202180</td>\n",
       "      <td>1.202180</td>\n",
       "      <td>3.934130</td>\n",
       "      <td>3.934130</td>\n",
       "      <td>...</td>\n",
       "      <td>2.650158</td>\n",
       "      <td>0.972351</td>\n",
       "      <td>0.661263</td>\n",
       "      <td>0.021415</td>\n",
       "      <td>0.685834</td>\n",
       "      <td>1.089133</td>\n",
       "      <td>2.498117</td>\n",
       "      <td>2.861720</td>\n",
       "      <td>0.095069</td>\n",
       "      <td>0.095069</td>\n",
       "    </tr>\n",
       "  </tbody>\n",
       "</table>\n",
       "<p>5 rows × 5106 columns</p>\n",
       "</div>"
      ],
      "text/plain": [
       "                                                    Alzheimer's disease  \\\n",
       "4270-Volume_level_set_by_participant_left                      0.512739   \n",
       "S05-Diagnoses_main_ICD10_S05_Injury_of_eye_and_...             0.217049   \n",
       "20003_1141157402-Treatmentmedication_code_predn...             0.343953   \n",
       "20002_1427-Noncancer_illness_code_selfreported_...             0.444715   \n",
       "110001-Invitation_to_complete_online_24hour_rec...             1.229807   \n",
       "\n",
       "                                                    Alpha-2-macroglobulin deficiency  \\\n",
       "4270-Volume_level_set_by_participant_left                                   0.342467   \n",
       "S05-Diagnoses_main_ICD10_S05_Injury_of_eye_and_...                          0.001955   \n",
       "20003_1141157402-Treatmentmedication_code_predn...                          0.676443   \n",
       "20002_1427-Noncancer_illness_code_selfreported_...                          0.231927   \n",
       "110001-Invitation_to_complete_online_24hour_rec...                          2.597971   \n",
       "\n",
       "                                                    Otitis media, susceptibility to  \\\n",
       "4270-Volume_level_set_by_participant_left                                  1.070237   \n",
       "S05-Diagnoses_main_ICD10_S05_Injury_of_eye_and_...                         0.631155   \n",
       "20003_1141157402-Treatmentmedication_code_predn...                         0.034698   \n",
       "20002_1427-Noncancer_illness_code_selfreported_...                         0.288159   \n",
       "110001-Invitation_to_complete_online_24hour_rec...                         6.239911   \n",
       "\n",
       "                                                    p phenotype  \\\n",
       "4270-Volume_level_set_by_participant_left              1.800286   \n",
       "S05-Diagnoses_main_ICD10_S05_Injury_of_eye_and_...     1.087293   \n",
       "20003_1141157402-Treatmentmedication_code_predn...     0.203671   \n",
       "20002_1427-Noncancer_illness_code_selfreported_...     3.099246   \n",
       "110001-Invitation_to_complete_online_24hour_rec...     1.639243   \n",
       "\n",
       "                                                    Glucocorticoid deficiency with achalasia  \\\n",
       "4270-Volume_level_set_by_participant_left                                           1.631911   \n",
       "S05-Diagnoses_main_ICD10_S05_Injury_of_eye_and_...                                  0.007369   \n",
       "20003_1141157402-Treatmentmedication_code_predn...                                  0.004971   \n",
       "20002_1427-Noncancer_illness_code_selfreported_...                                  0.446979   \n",
       "110001-Invitation_to_complete_online_24hour_rec...                                  1.395789   \n",
       "\n",
       "                                                    Keratosis palmoplantaris papulosa  \\\n",
       "4270-Volume_level_set_by_participant_left                                    0.698835   \n",
       "S05-Diagnoses_main_ICD10_S05_Injury_of_eye_and_...                           2.805816   \n",
       "20003_1141157402-Treatmentmedication_code_predn...                           1.390301   \n",
       "20002_1427-Noncancer_illness_code_selfreported_...                           1.205976   \n",
       "110001-Invitation_to_complete_online_24hour_rec...                           0.051032   \n",
       "\n",
       "                                                    Charcot-Marie-Tooth disease, type 2N  \\\n",
       "4270-Volume_level_set_by_participant_left                                       0.074415   \n",
       "S05-Diagnoses_main_ICD10_S05_Injury_of_eye_and_...                              0.075216   \n",
       "20003_1141157402-Treatmentmedication_code_predn...                              1.228719   \n",
       "20002_1427-Noncancer_illness_code_selfreported_...                              0.114788   \n",
       "110001-Invitation_to_complete_online_24hour_rec...                              1.202180   \n",
       "\n",
       "                                                    Epileptic encephalopathy, early infantile, 29  \\\n",
       "4270-Volume_level_set_by_participant_left                                                0.074415   \n",
       "S05-Diagnoses_main_ICD10_S05_Injury_of_eye_and_...                                       0.075216   \n",
       "20003_1141157402-Treatmentmedication_code_predn...                                       1.228719   \n",
       "20002_1427-Noncancer_illness_code_selfreported_...                                       0.114788   \n",
       "110001-Invitation_to_complete_online_24hour_rec...                                       1.202180   \n",
       "\n",
       "                                                    Combined oxidative phosphorylation deficiency 8  \\\n",
       "4270-Volume_level_set_by_participant_left                                                  1.387650   \n",
       "S05-Diagnoses_main_ICD10_S05_Injury_of_eye_and_...                                         0.093814   \n",
       "20003_1141157402-Treatmentmedication_code_predn...                                         2.967204   \n",
       "20002_1427-Noncancer_illness_code_selfreported_...                                         0.686694   \n",
       "110001-Invitation_to_complete_online_24hour_rec...                                         3.934130   \n",
       "\n",
       "                                                    Leukoencephalopathy, progressive, with ovarian failure  \\\n",
       "4270-Volume_level_set_by_participant_left                                                    1.387650        \n",
       "S05-Diagnoses_main_ICD10_S05_Injury_of_eye_and_...                                           0.093814        \n",
       "20003_1141157402-Treatmentmedication_code_predn...                                           2.967204        \n",
       "20002_1427-Noncancer_illness_code_selfreported_...                                           0.686694        \n",
       "110001-Invitation_to_complete_online_24hour_rec...                                           3.934130        \n",
       "\n",
       "                                                    ...  \\\n",
       "4270-Volume_level_set_by_participant_left           ...   \n",
       "S05-Diagnoses_main_ICD10_S05_Injury_of_eye_and_...  ...   \n",
       "20003_1141157402-Treatmentmedication_code_predn...  ...   \n",
       "20002_1427-Noncancer_illness_code_selfreported_...  ...   \n",
       "110001-Invitation_to_complete_online_24hour_rec...  ...   \n",
       "\n",
       "                                                    Retinitis pigmentosa 58  \\\n",
       "4270-Volume_level_set_by_participant_left                          1.017634   \n",
       "S05-Diagnoses_main_ICD10_S05_Injury_of_eye_and_...                 0.501215   \n",
       "20003_1141157402-Treatmentmedication_code_predn...                 0.360941   \n",
       "20002_1427-Noncancer_illness_code_selfreported_...                 1.772919   \n",
       "110001-Invitation_to_complete_online_24hour_rec...                 2.650158   \n",
       "\n",
       "                                                    Myopia 21, autosomal dominant  \\\n",
       "4270-Volume_level_set_by_participant_left                                1.224636   \n",
       "S05-Diagnoses_main_ICD10_S05_Injury_of_eye_and_...                       1.852592   \n",
       "20003_1141157402-Treatmentmedication_code_predn...                      11.078803   \n",
       "20002_1427-Noncancer_illness_code_selfreported_...                       1.062408   \n",
       "110001-Invitation_to_complete_online_24hour_rec...                       0.972351   \n",
       "\n",
       "                                                    Paget disease of bone 6  \\\n",
       "4270-Volume_level_set_by_participant_left                          0.009039   \n",
       "S05-Diagnoses_main_ICD10_S05_Injury_of_eye_and_...                 1.481549   \n",
       "20003_1141157402-Treatmentmedication_code_predn...                 0.831347   \n",
       "20002_1427-Noncancer_illness_code_selfreported_...                 0.254789   \n",
       "110001-Invitation_to_complete_online_24hour_rec...                 0.661263   \n",
       "\n",
       "                                                    Seborrhea-like dermatitis with psoriasiform elements  \\\n",
       "4270-Volume_level_set_by_participant_left                                                    0.385532      \n",
       "S05-Diagnoses_main_ICD10_S05_Injury_of_eye_and_...                                           0.046810      \n",
       "20003_1141157402-Treatmentmedication_code_predn...                                           0.924590      \n",
       "20002_1427-Noncancer_illness_code_selfreported_...                                           1.119640      \n",
       "110001-Invitation_to_complete_online_24hour_rec...                                           0.021415      \n",
       "\n",
       "                                                    PEHO syndrome  \\\n",
       "4270-Volume_level_set_by_participant_left                3.521638   \n",
       "S05-Diagnoses_main_ICD10_S05_Injury_of_eye_and_...       0.619792   \n",
       "20003_1141157402-Treatmentmedication_code_predn...       0.223633   \n",
       "20002_1427-Noncancer_illness_code_selfreported_...       1.354223   \n",
       "110001-Invitation_to_complete_online_24hour_rec...       0.685834   \n",
       "\n",
       "                                                    Oocyte maturation defect 1  \\\n",
       "4270-Volume_level_set_by_participant_left                             0.223988   \n",
       "S05-Diagnoses_main_ICD10_S05_Injury_of_eye_and_...                    0.164473   \n",
       "20003_1141157402-Treatmentmedication_code_predn...                    1.503475   \n",
       "20002_1427-Noncancer_illness_code_selfreported_...                    0.025730   \n",
       "110001-Invitation_to_complete_online_24hour_rec...                    1.089133   \n",
       "\n",
       "                                                    OOCYTE MATURATION DEFECT 6  \\\n",
       "4270-Volume_level_set_by_participant_left                             0.001329   \n",
       "S05-Diagnoses_main_ICD10_S05_Injury_of_eye_and_...                    2.656553   \n",
       "20003_1141157402-Treatmentmedication_code_predn...                    1.331688   \n",
       "20002_1427-Noncancer_illness_code_selfreported_...                    0.680319   \n",
       "110001-Invitation_to_complete_online_24hour_rec...                    2.498117   \n",
       "\n",
       "                                                    OOCYTE MATURATION DEFECT 3  \\\n",
       "4270-Volume_level_set_by_participant_left                             0.425832   \n",
       "S05-Diagnoses_main_ICD10_S05_Injury_of_eye_and_...                    3.644131   \n",
       "20003_1141157402-Treatmentmedication_code_predn...                    2.692623   \n",
       "20002_1427-Noncancer_illness_code_selfreported_...                    1.682058   \n",
       "110001-Invitation_to_complete_online_24hour_rec...                    2.861720   \n",
       "\n",
       "                                                    Acromelic frontonasal dysostosis  \\\n",
       "4270-Volume_level_set_by_participant_left                                   0.011000   \n",
       "S05-Diagnoses_main_ICD10_S05_Injury_of_eye_and_...                          0.321142   \n",
       "20003_1141157402-Treatmentmedication_code_predn...                          0.000386   \n",
       "20002_1427-Noncancer_illness_code_selfreported_...                          0.579198   \n",
       "110001-Invitation_to_complete_online_24hour_rec...                          0.095069   \n",
       "\n",
       "                                                    NEURODEVELOPMENTAL DISORDER WITH MOVEMENT ABNORMALITIES, ABNORMAL GAIT, AND AUTISTIC FEATURES  \n",
       "4270-Volume_level_set_by_participant_left                                                    0.011000                                              \n",
       "S05-Diagnoses_main_ICD10_S05_Injury_of_eye_and_...                                           0.321142                                              \n",
       "20003_1141157402-Treatmentmedication_code_predn...                                           0.000386                                              \n",
       "20002_1427-Noncancer_illness_code_selfreported_...                                           0.579198                                              \n",
       "110001-Invitation_to_complete_online_24hour_rec...                                           0.095069                                              \n",
       "\n",
       "[5 rows x 5106 columns]"
      ]
     },
     "execution_count": 28,
     "metadata": {},
     "output_type": "execute_result"
    }
   ],
   "source": [
    "assoc_coef_df.head()"
   ]
  },
  {
   "cell_type": "code",
   "execution_count": 29,
   "metadata": {},
   "outputs": [
    {
     "data": {
      "text/plain": [
       "A2M      1\n",
       "MPO      1\n",
       "APP      1\n",
       "NOS3     1\n",
       "PLAU     1\n",
       "HFE      1\n",
       "FOXH1    0\n",
       "FOXF1    0\n",
       "FOXG1    0\n",
       "FOXL2    0\n",
       "Name: Alzheimer's disease, dtype: uint8"
      ]
     },
     "metadata": {},
     "output_type": "display_data"
    },
    {
     "data": {
      "text/plain": [
       "Index(['A2M', 'MPO', 'APP', 'NOS3', 'PLAU', 'HFE'], dtype='object')"
      ]
     },
     "metadata": {},
     "output_type": "display_data"
    }
   ],
   "source": [
    "# testing\n",
    "_pheno0 = \"22617_5223-Job_SOC_coding_Metal_working_production_and_maintenance_fitters\"\n",
    "_pheno1 = \"Alzheimer's disease\"\n",
    "\n",
    "_genes = clinvar_genes_associations[_pheno1].sort_values(ascending=False)\n",
    "display(_genes.head(10))\n",
    "_genes = _genes[_genes > 0].index\n",
    "display(_genes)"
   ]
  },
  {
   "cell_type": "code",
   "execution_count": 30,
   "metadata": {},
   "outputs": [
    {
     "data": {
      "text/plain": [
       "A2M       0.181998\n",
       "A2ML1     1.054712\n",
       "A4GALT    2.209362\n",
       "AAAS      0.598121\n",
       "AAGAB     0.363092\n",
       "Name: 22617_5223-Job_SOC_coding_Metal_working_production_and_maintenance_fitters, dtype: float64"
      ]
     },
     "metadata": {},
     "output_type": "display_data"
    }
   ],
   "source": [
    "_tmp = smultixcan_genes_associations_zscores[_pheno0].rename(index=metadata.GENE_ID_TO_NAME_MAP)\n",
    "display(_tmp.head())"
   ]
  },
  {
   "cell_type": "code",
   "execution_count": 31,
   "metadata": {},
   "outputs": [
    {
     "data": {
      "text/plain": [
       "A2M     0.181998\n",
       "MPO     1.749522\n",
       "APP     0.022963\n",
       "NOS3    0.873820\n",
       "PLAU    0.178090\n",
       "HFE     0.208738\n",
       "Name: 22617_5223-Job_SOC_coding_Metal_working_production_and_maintenance_fitters, dtype: float64"
      ]
     },
     "execution_count": 31,
     "metadata": {},
     "output_type": "execute_result"
    }
   ],
   "source": [
    "_tmp.loc[_genes]"
   ]
  },
  {
   "cell_type": "code",
   "execution_count": 32,
   "metadata": {},
   "outputs": [
    {
     "data": {
      "text/plain": [
       "0.6555543699722598"
      ]
     },
     "metadata": {},
     "output_type": "display_data"
    },
    {
     "data": {
      "text/plain": [
       "0.6555543699722599"
      ]
     },
     "metadata": {},
     "output_type": "display_data"
    }
   ],
   "source": [
    "_obs = np.power(_tmp.loc[_genes], 2).sum() / 6\n",
    "display(_obs)\n",
    "_exp = assoc_coef_df.loc[_pheno0, _pheno1]\n",
    "display(_exp)\n",
    "assert np.isclose(_obs, _exp), (_obs, _exp)"
   ]
  },
  {
   "cell_type": "code",
   "execution_count": 33,
   "metadata": {},
   "outputs": [
    {
     "data": {
      "text/plain": [
       "A2M      1\n",
       "MPO      1\n",
       "APP      1\n",
       "NOS3     1\n",
       "PLAU     1\n",
       "HFE      1\n",
       "FOXH1    0\n",
       "FOXF1    0\n",
       "FOXG1    0\n",
       "FOXL2    0\n",
       "Name: Alzheimer's disease, dtype: uint8"
      ]
     },
     "metadata": {},
     "output_type": "display_data"
    },
    {
     "data": {
      "text/plain": [
       "Index(['A2M', 'MPO', 'APP', 'NOS3', 'PLAU', 'HFE'], dtype='object')"
      ]
     },
     "metadata": {},
     "output_type": "display_data"
    }
   ],
   "source": [
    "# testing\n",
    "_pheno0 = '30040_raw-Mean_corpuscular_volume'\n",
    "_pheno1 = \"Alzheimer's disease\"\n",
    "\n",
    "_genes = clinvar_genes_associations[_pheno1].sort_values(ascending=False)\n",
    "display(_genes.head(10))\n",
    "_genes = _genes[_genes > 0].index\n",
    "display(_genes)"
   ]
  },
  {
   "cell_type": "code",
   "execution_count": 34,
   "metadata": {},
   "outputs": [
    {
     "data": {
      "text/plain": [
       "A2M       1.370702\n",
       "A2ML1     0.541736\n",
       "A4GALT    6.618485\n",
       "AAAS      6.178175\n",
       "AAGAB     0.975214\n",
       "Name: 30040_raw-Mean_corpuscular_volume, dtype: float64"
      ]
     },
     "metadata": {},
     "output_type": "display_data"
    }
   ],
   "source": [
    "_tmp = smultixcan_genes_associations_zscores[_pheno0].rename(index=metadata.GENE_ID_TO_NAME_MAP)\n",
    "display(_tmp.head())"
   ]
  },
  {
   "cell_type": "code",
   "execution_count": 35,
   "metadata": {},
   "outputs": [
    {
     "data": {
      "text/plain": [
       "A2M      1.370702\n",
       "MPO      2.919041\n",
       "APP      0.544944\n",
       "NOS3     2.223614\n",
       "PLAU     1.466185\n",
       "HFE     40.000000\n",
       "Name: 30040_raw-Mean_corpuscular_volume, dtype: float64"
      ]
     },
     "execution_count": 35,
     "metadata": {},
     "output_type": "execute_result"
    }
   ],
   "source": [
    "_tmp.loc[_genes]"
   ]
  },
  {
   "cell_type": "code",
   "execution_count": 36,
   "metadata": {},
   "outputs": [
    {
     "data": {
      "text/plain": [
       "269.6317906903394"
      ]
     },
     "metadata": {},
     "output_type": "display_data"
    },
    {
     "data": {
      "text/plain": [
       "269.6317906903394"
      ]
     },
     "metadata": {},
     "output_type": "display_data"
    }
   ],
   "source": [
    "_obs = np.power(_tmp.loc[_genes], 2).sum() / 6\n",
    "display(_obs)\n",
    "_exp = assoc_coef_df.loc[_pheno0, _pheno1]\n",
    "display(_exp)\n",
    "assert np.isclose(_obs, _exp), (_obs, _exp)"
   ]
  },
  {
   "cell_type": "markdown",
   "metadata": {},
   "source": [
    "### Save"
   ]
  },
  {
   "cell_type": "code",
   "execution_count": 37,
   "metadata": {},
   "outputs": [],
   "source": [
    "# sort index like smultixcan results\n",
    "assoc_coef_df = assoc_coef_df.loc[smultixcan_genes_associations_zscores.columns]"
   ]
  },
  {
   "cell_type": "code",
   "execution_count": 38,
   "metadata": {},
   "outputs": [],
   "source": [
    "assoc_coef_df.index.rename('phenomexcan_traits', inplace=True)"
   ]
  },
  {
   "cell_type": "code",
   "execution_count": 39,
   "metadata": {},
   "outputs": [
    {
     "data": {
      "text/plain": [
       "'/mnt/phenomexcan_base/gene_assoc/smultixcan_and_clinvar-z2.pkl.xz'"
      ]
     },
     "metadata": {},
     "output_type": "display_data"
    }
   ],
   "source": [
    "assoc_coef_df_filename = os.path.join(conf.GENE_ASSOC_DIR, 'smultixcan_and_clinvar-z2.pkl.xz')\n",
    "display(assoc_coef_df_filename)"
   ]
  },
  {
   "cell_type": "code",
   "execution_count": 40,
   "metadata": {},
   "outputs": [],
   "source": [
    "assoc_coef_df.to_pickle(assoc_coef_df_filename)"
   ]
  },
  {
   "cell_type": "code",
   "execution_count": 41,
   "metadata": {},
   "outputs": [
    {
     "data": {
      "text/plain": [
       "count    2.088865e+07\n",
       "mean     1.330285e+00\n",
       "std      7.561057e+00\n",
       "min      0.000000e+00\n",
       "25%      1.233913e-01\n",
       "50%      5.334078e-01\n",
       "75%      1.485715e+00\n",
       "max      1.600000e+03\n",
       "dtype: float64"
      ]
     },
     "execution_count": 41,
     "metadata": {},
     "output_type": "execute_result"
    }
   ],
   "source": [
    "pd.Series(assoc_coef_df.values.flatten()).describe()"
   ]
  },
  {
   "cell_type": "code",
   "execution_count": 42,
   "metadata": {},
   "outputs": [],
   "source": [
    "assert not assoc_coef_df.isna().any().any()"
   ]
  },
  {
   "cell_type": "code",
   "execution_count": 43,
   "metadata": {},
   "outputs": [],
   "source": [
    "assert not (assoc_coef_df < 0).any().any()"
   ]
  },
  {
   "cell_type": "code",
   "execution_count": 44,
   "metadata": {},
   "outputs": [],
   "source": [
    "assert np.isfinite(assoc_coef_df).all().all()"
   ]
  },
  {
   "cell_type": "code",
   "execution_count": 45,
   "metadata": {},
   "outputs": [],
   "source": [
    "# some testing\n",
    "ukb_pheno = '20002_1111-Noncancer_illness_code_selfreported_asthma'\n",
    "clinvar_pheno = 'Asthma, susceptibility to'\n",
    "\n",
    "assert assoc_coef_df.loc[ukb_pheno, clinvar_pheno] == 28.748716710063185"
   ]
  },
  {
   "cell_type": "markdown",
   "metadata": {},
   "source": [
    "### Save for publication"
   ]
  },
  {
   "cell_type": "code",
   "execution_count": 46,
   "metadata": {},
   "outputs": [
    {
     "data": {
      "text/plain": [
       "'/mnt/phenomexcan_base/gene_assoc/smultixcan_and_clinvar-z2.tsv.gz'"
      ]
     },
     "metadata": {},
     "output_type": "display_data"
    }
   ],
   "source": [
    "output_file = os.path.join(conf.GENE_ASSOC_DIR, 'smultixcan_and_clinvar-z2.tsv.gz')\n",
    "display(output_file)\n",
    "\n",
    "assoc_coef_df.to_csv(output_file, sep='\\t', float_format='%.4e')"
   ]
  },
  {
   "cell_type": "code",
   "execution_count": 47,
   "metadata": {},
   "outputs": [],
   "source": [
    "_tmp = pd.read_csv(output_file, sep='\\t', index_col='phenomexcan_traits')"
   ]
  },
  {
   "cell_type": "code",
   "execution_count": 48,
   "metadata": {},
   "outputs": [
    {
     "data": {
      "text/plain": [
       "(4091, 5106)"
      ]
     },
     "metadata": {},
     "output_type": "display_data"
    }
   ],
   "source": [
    "display(_tmp.shape)\n",
    "assert _tmp.shape == assoc_coef_df.shape"
   ]
  },
  {
   "cell_type": "code",
   "execution_count": 49,
   "metadata": {},
   "outputs": [
    {
     "data": {
      "text/html": [
       "<div>\n",
       "<style scoped>\n",
       "    .dataframe tbody tr th:only-of-type {\n",
       "        vertical-align: middle;\n",
       "    }\n",
       "\n",
       "    .dataframe tbody tr th {\n",
       "        vertical-align: top;\n",
       "    }\n",
       "\n",
       "    .dataframe thead th {\n",
       "        text-align: right;\n",
       "    }\n",
       "</style>\n",
       "<table border=\"1\" class=\"dataframe\">\n",
       "  <thead>\n",
       "    <tr style=\"text-align: right;\">\n",
       "      <th></th>\n",
       "      <th>Alzheimer's disease</th>\n",
       "      <th>Alpha-2-macroglobulin deficiency</th>\n",
       "      <th>Otitis media, susceptibility to</th>\n",
       "      <th>p phenotype</th>\n",
       "      <th>Glucocorticoid deficiency with achalasia</th>\n",
       "      <th>Keratosis palmoplantaris papulosa</th>\n",
       "      <th>Charcot-Marie-Tooth disease, type 2N</th>\n",
       "      <th>Epileptic encephalopathy, early infantile, 29</th>\n",
       "      <th>Combined oxidative phosphorylation deficiency 8</th>\n",
       "      <th>Leukoencephalopathy, progressive, with ovarian failure</th>\n",
       "      <th>...</th>\n",
       "      <th>Retinitis pigmentosa 58</th>\n",
       "      <th>Myopia 21, autosomal dominant</th>\n",
       "      <th>Paget disease of bone 6</th>\n",
       "      <th>Seborrhea-like dermatitis with psoriasiform elements</th>\n",
       "      <th>PEHO syndrome</th>\n",
       "      <th>Oocyte maturation defect 1</th>\n",
       "      <th>OOCYTE MATURATION DEFECT 6</th>\n",
       "      <th>OOCYTE MATURATION DEFECT 3</th>\n",
       "      <th>Acromelic frontonasal dysostosis</th>\n",
       "      <th>NEURODEVELOPMENTAL DISORDER WITH MOVEMENT ABNORMALITIES, ABNORMAL GAIT, AND AUTISTIC FEATURES</th>\n",
       "    </tr>\n",
       "    <tr>\n",
       "      <th>phenomexcan_traits</th>\n",
       "      <th></th>\n",
       "      <th></th>\n",
       "      <th></th>\n",
       "      <th></th>\n",
       "      <th></th>\n",
       "      <th></th>\n",
       "      <th></th>\n",
       "      <th></th>\n",
       "      <th></th>\n",
       "      <th></th>\n",
       "      <th></th>\n",
       "      <th></th>\n",
       "      <th></th>\n",
       "      <th></th>\n",
       "      <th></th>\n",
       "      <th></th>\n",
       "      <th></th>\n",
       "      <th></th>\n",
       "      <th></th>\n",
       "      <th></th>\n",
       "      <th></th>\n",
       "    </tr>\n",
       "  </thead>\n",
       "  <tbody>\n",
       "    <tr>\n",
       "      <th>4270-Volume_level_set_by_participant_left</th>\n",
       "      <td>0.51274</td>\n",
       "      <td>0.342470</td>\n",
       "      <td>1.070200</td>\n",
       "      <td>1.80030</td>\n",
       "      <td>1.631900</td>\n",
       "      <td>0.698840</td>\n",
       "      <td>0.074415</td>\n",
       "      <td>0.074415</td>\n",
       "      <td>1.387600</td>\n",
       "      <td>1.387600</td>\n",
       "      <td>...</td>\n",
       "      <td>1.01760</td>\n",
       "      <td>1.22460</td>\n",
       "      <td>0.009039</td>\n",
       "      <td>0.385530</td>\n",
       "      <td>3.52160</td>\n",
       "      <td>0.22399</td>\n",
       "      <td>0.001329</td>\n",
       "      <td>0.42583</td>\n",
       "      <td>0.011000</td>\n",
       "      <td>0.011000</td>\n",
       "    </tr>\n",
       "    <tr>\n",
       "      <th>S05-Diagnoses_main_ICD10_S05_Injury_of_eye_and_orbit</th>\n",
       "      <td>0.21705</td>\n",
       "      <td>0.001955</td>\n",
       "      <td>0.631150</td>\n",
       "      <td>1.08730</td>\n",
       "      <td>0.007369</td>\n",
       "      <td>2.805800</td>\n",
       "      <td>0.075216</td>\n",
       "      <td>0.075216</td>\n",
       "      <td>0.093814</td>\n",
       "      <td>0.093814</td>\n",
       "      <td>...</td>\n",
       "      <td>0.50121</td>\n",
       "      <td>1.85260</td>\n",
       "      <td>1.481500</td>\n",
       "      <td>0.046810</td>\n",
       "      <td>0.61979</td>\n",
       "      <td>0.16447</td>\n",
       "      <td>2.656600</td>\n",
       "      <td>3.64410</td>\n",
       "      <td>0.321140</td>\n",
       "      <td>0.321140</td>\n",
       "    </tr>\n",
       "    <tr>\n",
       "      <th>20003_1141157402-Treatmentmedication_code_prednisolone_product</th>\n",
       "      <td>0.34395</td>\n",
       "      <td>0.676440</td>\n",
       "      <td>0.034698</td>\n",
       "      <td>0.20367</td>\n",
       "      <td>0.004971</td>\n",
       "      <td>1.390300</td>\n",
       "      <td>1.228700</td>\n",
       "      <td>1.228700</td>\n",
       "      <td>2.967200</td>\n",
       "      <td>2.967200</td>\n",
       "      <td>...</td>\n",
       "      <td>0.36094</td>\n",
       "      <td>11.07900</td>\n",
       "      <td>0.831350</td>\n",
       "      <td>0.924590</td>\n",
       "      <td>0.22363</td>\n",
       "      <td>1.50350</td>\n",
       "      <td>1.331700</td>\n",
       "      <td>2.69260</td>\n",
       "      <td>0.000386</td>\n",
       "      <td>0.000386</td>\n",
       "    </tr>\n",
       "    <tr>\n",
       "      <th>20002_1427-Noncancer_illness_code_selfreported_polycystic_kidney</th>\n",
       "      <td>0.44471</td>\n",
       "      <td>0.231930</td>\n",
       "      <td>0.288160</td>\n",
       "      <td>3.09920</td>\n",
       "      <td>0.446980</td>\n",
       "      <td>1.206000</td>\n",
       "      <td>0.114790</td>\n",
       "      <td>0.114790</td>\n",
       "      <td>0.686690</td>\n",
       "      <td>0.686690</td>\n",
       "      <td>...</td>\n",
       "      <td>1.77290</td>\n",
       "      <td>1.06240</td>\n",
       "      <td>0.254790</td>\n",
       "      <td>1.119600</td>\n",
       "      <td>1.35420</td>\n",
       "      <td>0.02573</td>\n",
       "      <td>0.680320</td>\n",
       "      <td>1.68210</td>\n",
       "      <td>0.579200</td>\n",
       "      <td>0.579200</td>\n",
       "    </tr>\n",
       "    <tr>\n",
       "      <th>110001-Invitation_to_complete_online_24hour_recall_dietary_questionnaire_acceptance</th>\n",
       "      <td>1.22980</td>\n",
       "      <td>2.598000</td>\n",
       "      <td>6.239900</td>\n",
       "      <td>1.63920</td>\n",
       "      <td>1.395800</td>\n",
       "      <td>0.051032</td>\n",
       "      <td>1.202200</td>\n",
       "      <td>1.202200</td>\n",
       "      <td>3.934100</td>\n",
       "      <td>3.934100</td>\n",
       "      <td>...</td>\n",
       "      <td>2.65020</td>\n",
       "      <td>0.97235</td>\n",
       "      <td>0.661260</td>\n",
       "      <td>0.021415</td>\n",
       "      <td>0.68583</td>\n",
       "      <td>1.08910</td>\n",
       "      <td>2.498100</td>\n",
       "      <td>2.86170</td>\n",
       "      <td>0.095069</td>\n",
       "      <td>0.095069</td>\n",
       "    </tr>\n",
       "  </tbody>\n",
       "</table>\n",
       "<p>5 rows × 5106 columns</p>\n",
       "</div>"
      ],
      "text/plain": [
       "                                                    Alzheimer's disease  \\\n",
       "phenomexcan_traits                                                        \n",
       "4270-Volume_level_set_by_participant_left                       0.51274   \n",
       "S05-Diagnoses_main_ICD10_S05_Injury_of_eye_and_...              0.21705   \n",
       "20003_1141157402-Treatmentmedication_code_predn...              0.34395   \n",
       "20002_1427-Noncancer_illness_code_selfreported_...              0.44471   \n",
       "110001-Invitation_to_complete_online_24hour_rec...              1.22980   \n",
       "\n",
       "                                                    Alpha-2-macroglobulin deficiency  \\\n",
       "phenomexcan_traits                                                                     \n",
       "4270-Volume_level_set_by_participant_left                                   0.342470   \n",
       "S05-Diagnoses_main_ICD10_S05_Injury_of_eye_and_...                          0.001955   \n",
       "20003_1141157402-Treatmentmedication_code_predn...                          0.676440   \n",
       "20002_1427-Noncancer_illness_code_selfreported_...                          0.231930   \n",
       "110001-Invitation_to_complete_online_24hour_rec...                          2.598000   \n",
       "\n",
       "                                                    Otitis media, susceptibility to  \\\n",
       "phenomexcan_traits                                                                    \n",
       "4270-Volume_level_set_by_participant_left                                  1.070200   \n",
       "S05-Diagnoses_main_ICD10_S05_Injury_of_eye_and_...                         0.631150   \n",
       "20003_1141157402-Treatmentmedication_code_predn...                         0.034698   \n",
       "20002_1427-Noncancer_illness_code_selfreported_...                         0.288160   \n",
       "110001-Invitation_to_complete_online_24hour_rec...                         6.239900   \n",
       "\n",
       "                                                    p phenotype  \\\n",
       "phenomexcan_traits                                                \n",
       "4270-Volume_level_set_by_participant_left               1.80030   \n",
       "S05-Diagnoses_main_ICD10_S05_Injury_of_eye_and_...      1.08730   \n",
       "20003_1141157402-Treatmentmedication_code_predn...      0.20367   \n",
       "20002_1427-Noncancer_illness_code_selfreported_...      3.09920   \n",
       "110001-Invitation_to_complete_online_24hour_rec...      1.63920   \n",
       "\n",
       "                                                    Glucocorticoid deficiency with achalasia  \\\n",
       "phenomexcan_traits                                                                             \n",
       "4270-Volume_level_set_by_participant_left                                           1.631900   \n",
       "S05-Diagnoses_main_ICD10_S05_Injury_of_eye_and_...                                  0.007369   \n",
       "20003_1141157402-Treatmentmedication_code_predn...                                  0.004971   \n",
       "20002_1427-Noncancer_illness_code_selfreported_...                                  0.446980   \n",
       "110001-Invitation_to_complete_online_24hour_rec...                                  1.395800   \n",
       "\n",
       "                                                    Keratosis palmoplantaris papulosa  \\\n",
       "phenomexcan_traits                                                                      \n",
       "4270-Volume_level_set_by_participant_left                                    0.698840   \n",
       "S05-Diagnoses_main_ICD10_S05_Injury_of_eye_and_...                           2.805800   \n",
       "20003_1141157402-Treatmentmedication_code_predn...                           1.390300   \n",
       "20002_1427-Noncancer_illness_code_selfreported_...                           1.206000   \n",
       "110001-Invitation_to_complete_online_24hour_rec...                           0.051032   \n",
       "\n",
       "                                                    Charcot-Marie-Tooth disease, type 2N  \\\n",
       "phenomexcan_traits                                                                         \n",
       "4270-Volume_level_set_by_participant_left                                       0.074415   \n",
       "S05-Diagnoses_main_ICD10_S05_Injury_of_eye_and_...                              0.075216   \n",
       "20003_1141157402-Treatmentmedication_code_predn...                              1.228700   \n",
       "20002_1427-Noncancer_illness_code_selfreported_...                              0.114790   \n",
       "110001-Invitation_to_complete_online_24hour_rec...                              1.202200   \n",
       "\n",
       "                                                    Epileptic encephalopathy, early infantile, 29  \\\n",
       "phenomexcan_traits                                                                                  \n",
       "4270-Volume_level_set_by_participant_left                                                0.074415   \n",
       "S05-Diagnoses_main_ICD10_S05_Injury_of_eye_and_...                                       0.075216   \n",
       "20003_1141157402-Treatmentmedication_code_predn...                                       1.228700   \n",
       "20002_1427-Noncancer_illness_code_selfreported_...                                       0.114790   \n",
       "110001-Invitation_to_complete_online_24hour_rec...                                       1.202200   \n",
       "\n",
       "                                                    Combined oxidative phosphorylation deficiency 8  \\\n",
       "phenomexcan_traits                                                                                    \n",
       "4270-Volume_level_set_by_participant_left                                                  1.387600   \n",
       "S05-Diagnoses_main_ICD10_S05_Injury_of_eye_and_...                                         0.093814   \n",
       "20003_1141157402-Treatmentmedication_code_predn...                                         2.967200   \n",
       "20002_1427-Noncancer_illness_code_selfreported_...                                         0.686690   \n",
       "110001-Invitation_to_complete_online_24hour_rec...                                         3.934100   \n",
       "\n",
       "                                                    Leukoencephalopathy, progressive, with ovarian failure  \\\n",
       "phenomexcan_traits                                                                                           \n",
       "4270-Volume_level_set_by_participant_left                                                    1.387600        \n",
       "S05-Diagnoses_main_ICD10_S05_Injury_of_eye_and_...                                           0.093814        \n",
       "20003_1141157402-Treatmentmedication_code_predn...                                           2.967200        \n",
       "20002_1427-Noncancer_illness_code_selfreported_...                                           0.686690        \n",
       "110001-Invitation_to_complete_online_24hour_rec...                                           3.934100        \n",
       "\n",
       "                                                    ...  \\\n",
       "phenomexcan_traits                                  ...   \n",
       "4270-Volume_level_set_by_participant_left           ...   \n",
       "S05-Diagnoses_main_ICD10_S05_Injury_of_eye_and_...  ...   \n",
       "20003_1141157402-Treatmentmedication_code_predn...  ...   \n",
       "20002_1427-Noncancer_illness_code_selfreported_...  ...   \n",
       "110001-Invitation_to_complete_online_24hour_rec...  ...   \n",
       "\n",
       "                                                    Retinitis pigmentosa 58  \\\n",
       "phenomexcan_traits                                                            \n",
       "4270-Volume_level_set_by_participant_left                           1.01760   \n",
       "S05-Diagnoses_main_ICD10_S05_Injury_of_eye_and_...                  0.50121   \n",
       "20003_1141157402-Treatmentmedication_code_predn...                  0.36094   \n",
       "20002_1427-Noncancer_illness_code_selfreported_...                  1.77290   \n",
       "110001-Invitation_to_complete_online_24hour_rec...                  2.65020   \n",
       "\n",
       "                                                    Myopia 21, autosomal dominant  \\\n",
       "phenomexcan_traits                                                                  \n",
       "4270-Volume_level_set_by_participant_left                                 1.22460   \n",
       "S05-Diagnoses_main_ICD10_S05_Injury_of_eye_and_...                        1.85260   \n",
       "20003_1141157402-Treatmentmedication_code_predn...                       11.07900   \n",
       "20002_1427-Noncancer_illness_code_selfreported_...                        1.06240   \n",
       "110001-Invitation_to_complete_online_24hour_rec...                        0.97235   \n",
       "\n",
       "                                                    Paget disease of bone 6  \\\n",
       "phenomexcan_traits                                                            \n",
       "4270-Volume_level_set_by_participant_left                          0.009039   \n",
       "S05-Diagnoses_main_ICD10_S05_Injury_of_eye_and_...                 1.481500   \n",
       "20003_1141157402-Treatmentmedication_code_predn...                 0.831350   \n",
       "20002_1427-Noncancer_illness_code_selfreported_...                 0.254790   \n",
       "110001-Invitation_to_complete_online_24hour_rec...                 0.661260   \n",
       "\n",
       "                                                    Seborrhea-like dermatitis with psoriasiform elements  \\\n",
       "phenomexcan_traits                                                                                         \n",
       "4270-Volume_level_set_by_participant_left                                                    0.385530      \n",
       "S05-Diagnoses_main_ICD10_S05_Injury_of_eye_and_...                                           0.046810      \n",
       "20003_1141157402-Treatmentmedication_code_predn...                                           0.924590      \n",
       "20002_1427-Noncancer_illness_code_selfreported_...                                           1.119600      \n",
       "110001-Invitation_to_complete_online_24hour_rec...                                           0.021415      \n",
       "\n",
       "                                                    PEHO syndrome  \\\n",
       "phenomexcan_traits                                                  \n",
       "4270-Volume_level_set_by_participant_left                 3.52160   \n",
       "S05-Diagnoses_main_ICD10_S05_Injury_of_eye_and_...        0.61979   \n",
       "20003_1141157402-Treatmentmedication_code_predn...        0.22363   \n",
       "20002_1427-Noncancer_illness_code_selfreported_...        1.35420   \n",
       "110001-Invitation_to_complete_online_24hour_rec...        0.68583   \n",
       "\n",
       "                                                    Oocyte maturation defect 1  \\\n",
       "phenomexcan_traits                                                               \n",
       "4270-Volume_level_set_by_participant_left                              0.22399   \n",
       "S05-Diagnoses_main_ICD10_S05_Injury_of_eye_and_...                     0.16447   \n",
       "20003_1141157402-Treatmentmedication_code_predn...                     1.50350   \n",
       "20002_1427-Noncancer_illness_code_selfreported_...                     0.02573   \n",
       "110001-Invitation_to_complete_online_24hour_rec...                     1.08910   \n",
       "\n",
       "                                                    OOCYTE MATURATION DEFECT 6  \\\n",
       "phenomexcan_traits                                                               \n",
       "4270-Volume_level_set_by_participant_left                             0.001329   \n",
       "S05-Diagnoses_main_ICD10_S05_Injury_of_eye_and_...                    2.656600   \n",
       "20003_1141157402-Treatmentmedication_code_predn...                    1.331700   \n",
       "20002_1427-Noncancer_illness_code_selfreported_...                    0.680320   \n",
       "110001-Invitation_to_complete_online_24hour_rec...                    2.498100   \n",
       "\n",
       "                                                    OOCYTE MATURATION DEFECT 3  \\\n",
       "phenomexcan_traits                                                               \n",
       "4270-Volume_level_set_by_participant_left                              0.42583   \n",
       "S05-Diagnoses_main_ICD10_S05_Injury_of_eye_and_...                     3.64410   \n",
       "20003_1141157402-Treatmentmedication_code_predn...                     2.69260   \n",
       "20002_1427-Noncancer_illness_code_selfreported_...                     1.68210   \n",
       "110001-Invitation_to_complete_online_24hour_rec...                     2.86170   \n",
       "\n",
       "                                                    Acromelic frontonasal dysostosis  \\\n",
       "phenomexcan_traits                                                                     \n",
       "4270-Volume_level_set_by_participant_left                                   0.011000   \n",
       "S05-Diagnoses_main_ICD10_S05_Injury_of_eye_and_...                          0.321140   \n",
       "20003_1141157402-Treatmentmedication_code_predn...                          0.000386   \n",
       "20002_1427-Noncancer_illness_code_selfreported_...                          0.579200   \n",
       "110001-Invitation_to_complete_online_24hour_rec...                          0.095069   \n",
       "\n",
       "                                                    NEURODEVELOPMENTAL DISORDER WITH MOVEMENT ABNORMALITIES, ABNORMAL GAIT, AND AUTISTIC FEATURES  \n",
       "phenomexcan_traits                                                                                                                                 \n",
       "4270-Volume_level_set_by_participant_left                                                    0.011000                                              \n",
       "S05-Diagnoses_main_ICD10_S05_Injury_of_eye_and_...                                           0.321140                                              \n",
       "20003_1141157402-Treatmentmedication_code_predn...                                           0.000386                                              \n",
       "20002_1427-Noncancer_illness_code_selfreported_...                                           0.579200                                              \n",
       "110001-Invitation_to_complete_online_24hour_rec...                                           0.095069                                              \n",
       "\n",
       "[5 rows x 5106 columns]"
      ]
     },
     "execution_count": 49,
     "metadata": {},
     "output_type": "execute_result"
    }
   ],
   "source": [
    "_tmp.head()"
   ]
  },
  {
   "cell_type": "code",
   "execution_count": 50,
   "metadata": {},
   "outputs": [],
   "source": [
    "assert not _tmp.isin([np.inf, -np.inf]).any().any()"
   ]
  },
  {
   "cell_type": "code",
   "execution_count": 51,
   "metadata": {},
   "outputs": [],
   "source": [
    "assert not _tmp.isna().any().any()"
   ]
  },
  {
   "cell_type": "code",
   "execution_count": 52,
   "metadata": {},
   "outputs": [],
   "source": [
    "assert ((_tmp >= 0) & (_tmp <= 1600)).all().all()"
   ]
  },
  {
   "cell_type": "code",
   "execution_count": 53,
   "metadata": {},
   "outputs": [],
   "source": [
    "assert np.allclose(_tmp.values, assoc_coef_df.values, atol=1e-15, rtol=1e-4)"
   ]
  },
  {
   "cell_type": "code",
   "execution_count": null,
   "metadata": {},
   "outputs": [],
   "source": []
  }
 ],
 "metadata": {
  "kernelspec": {
   "display_name": "Python 3",
   "language": "python",
   "name": "python3"
  },
  "language_info": {
   "codemirror_mode": {
    "name": "ipython",
    "version": 3
   },
   "file_extension": ".py",
   "mimetype": "text/x-python",
   "name": "python",
   "nbconvert_exporter": "python",
   "pygments_lexer": "ipython3",
   "version": "3.7.5"
  }
 },
 "nbformat": 4,
 "nbformat_minor": 4
}
