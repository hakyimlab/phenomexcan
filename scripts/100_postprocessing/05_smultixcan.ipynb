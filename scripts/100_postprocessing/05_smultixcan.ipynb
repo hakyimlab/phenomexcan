{
 "cells": [
  {
   "cell_type": "code",
   "execution_count": 1,
   "metadata": {},
   "outputs": [],
   "source": [
    "%load_ext autoreload\n",
    "%autoreload 2"
   ]
  },
  {
   "cell_type": "code",
   "execution_count": 2,
   "metadata": {},
   "outputs": [],
   "source": [
    "import os\n",
    "import pickle\n",
    "from glob import glob\n",
    "import re\n",
    "from concurrent.futures import ProcessPoolExecutor, as_completed\n",
    "\n",
    "import numpy as np\n",
    "import pandas as pd\n",
    "#from tqdm import tqdm\n",
    "from scipy import stats\n",
    "from sklearn.metrics import pairwise_distances\n",
    "\n",
    "import utils.constants as constants\n",
    "from data.multixcan_data import MXPhenoInfo, MXPhenoResults\n",
    "from utils.utils import is_number, chunker"
   ]
  },
  {
   "cell_type": "code",
   "execution_count": 3,
   "metadata": {},
   "outputs": [],
   "source": [
    "genes_associations_dir = os.path.join(constants.PREPROCESSED_BASED_DIR, 'gene_associations')"
   ]
  },
  {
   "cell_type": "code",
   "execution_count": 4,
   "metadata": {},
   "outputs": [],
   "source": [
    "MODELS_TYPE = 'mashr'"
   ]
  },
  {
   "cell_type": "code",
   "execution_count": 5,
   "metadata": {},
   "outputs": [
    {
     "data": {
      "text/plain": [
       "'/mnt/phenomexcan/results/preprocessed_data/gene_associations/mashr'"
      ]
     },
     "metadata": {},
     "output_type": "display_data"
    }
   ],
   "source": [
    "OUTPUT_DIR = os.path.join(genes_associations_dir, MODELS_TYPE)\n",
    "display(OUTPUT_DIR)\n",
    "os.makedirs(OUTPUT_DIR, exist_ok=True)"
   ]
  },
  {
   "cell_type": "markdown",
   "metadata": {},
   "source": [
    "# Load all gene mappings"
   ]
  },
  {
   "cell_type": "code",
   "execution_count": 6,
   "metadata": {},
   "outputs": [],
   "source": [
    "with open(os.path.join(constants.PREPROCESSED_METADATA_DIR, 'genes_mapping_simplified-0.pkl'), 'rb') as f:\n",
    "    genes_mapping_0 = pickle.load(f)\n",
    "\n",
    "with open(os.path.join(constants.PREPROCESSED_METADATA_DIR, 'genes_mapping_simplified-1.pkl'), 'rb') as f:\n",
    "    genes_mapping_1 = pickle.load(f)"
   ]
  },
  {
   "cell_type": "markdown",
   "metadata": {},
   "source": [
    "## S-MulTiXcan"
   ]
  },
  {
   "cell_type": "code",
   "execution_count": 7,
   "metadata": {},
   "outputs": [],
   "source": [
    "N_EXPECTED_PHENOTYPES = 4049"
   ]
  },
  {
   "cell_type": "code",
   "execution_count": 8,
   "metadata": {},
   "outputs": [
    {
     "data": {
      "text/plain": [
       "'/mnt/phenomexcan/results/smultixcan/mashr/*.tsv.gz'"
      ]
     },
     "metadata": {},
     "output_type": "display_data"
    }
   ],
   "source": [
    "_path = os.path.join(constants.SMULTIXCAN_MASHR_RESULTS_DIR, '*.tsv.gz')\n",
    "display(_path)\n",
    "all_spredixcan_results_dirs = glob(_path)\n",
    "assert len(all_spredixcan_results_dirs) == N_EXPECTED_PHENOTYPES"
   ]
  },
  {
   "cell_type": "code",
   "execution_count": 9,
   "metadata": {},
   "outputs": [
    {
     "data": {
      "text/plain": [
       "4049"
      ]
     },
     "metadata": {},
     "output_type": "display_data"
    }
   ],
   "source": [
    "all_spredixcan_phenotypes = [MXPhenoResults(p) for p in all_spredixcan_results_dirs]\n",
    "all_spredixcan_phenotypes_plain_names = pd.Index([p.pheno_info.get_plain_name() for p in all_spredixcan_phenotypes])\n",
    "\n",
    "display(len(all_spredixcan_phenotypes))\n",
    "assert len(all_spredixcan_phenotypes) == N_EXPECTED_PHENOTYPES"
   ]
  },
  {
   "cell_type": "markdown",
   "metadata": {},
   "source": [
    "## Compute results"
   ]
  },
  {
   "cell_type": "markdown",
   "metadata": {},
   "source": [
    "This read all phenotypes results (S-MultiXcan) and saves them all into a Pandas DataFrame"
   ]
  },
  {
   "cell_type": "code",
   "execution_count": 10,
   "metadata": {},
   "outputs": [],
   "source": [
    "def _get_combined_results(phenos, column):\n",
    "    return {\n",
    "        pheno.pheno_info.get_plain_name() :\n",
    "        pheno.get_data(cols=['gene_name', column], index_col='gene_simple')[column]\n",
    "        for pheno in phenos\n",
    "    }"
   ]
  },
  {
   "cell_type": "markdown",
   "metadata": {},
   "source": [
    "### pvalues and z-scores"
   ]
  },
  {
   "cell_type": "code",
   "execution_count": null,
   "metadata": {},
   "outputs": [],
   "source": [
    "def _run_all(column_name, phenotype_chunks, n_jobs=20):\n",
    "    print(column_name, flush=True)\n",
    "    \n",
    "    all_results = {}\n",
    "    \n",
    "    with ProcessPoolExecutor(max_workers=n_jobs) as executor:\n",
    "        tasks = [executor.submit(_get_combined_results, chunk, column_name) for chunk in phenotype_chunks]\n",
    "        for future in as_completed(tasks):\n",
    "            res = future.result()\n",
    "            all_results.update(res)\n",
    "    \n",
    "    return all_results\n",
    "    \n",
    "#     # Save all results from S-PrediXcan\n",
    "#     final_filename = os.path.join(OUTPUT_DIR, f'smultixcan-all_{column_name}.pkl.xz')\n",
    "#     display(final_filename)\n",
    "\n",
    "#     with open(final_filename, 'wb') as f:\n",
    "#         pickle.dump(all_results, f)"
   ]
  },
  {
   "cell_type": "code",
   "execution_count": null,
   "metadata": {},
   "outputs": [],
   "source": [
    "# phenotype_chunks = list(chunker(all_spredixcan_phenotypes[:5], 2))\n",
    "phenotype_chunks = chunker(all_spredixcan_phenotypes, 200)"
   ]
  },
  {
   "cell_type": "code",
   "execution_count": null,
   "metadata": {},
   "outputs": [],
   "source": [
    "all_results = _run_all('pvalue', phenotype_chunks)"
   ]
  },
  {
   "cell_type": "markdown",
   "metadata": {},
   "source": [
    "## Load results and save as DataFrame"
   ]
  },
  {
   "cell_type": "code",
   "execution_count": null,
   "metadata": {},
   "outputs": [],
   "source": [
    "def load_results(setname):\n",
    "    with open(os.path.join(OUTPUT_DIR, f'smultixcan-all_{setname}.pkl.xz'), 'rb') as f:\n",
    "        return pickle.load(f)"
   ]
  },
  {
   "cell_type": "code",
   "execution_count": null,
   "metadata": {},
   "outputs": [],
   "source": [
    "setname = 'pvalue'\n",
    "print(setname)\n",
    "\n",
    "all_results = load_results(setname)"
   ]
  },
  {
   "cell_type": "code",
   "execution_count": null,
   "metadata": {},
   "outputs": [],
   "source": [
    "assert len(all_results) == N_EXPECTED_SPREDIXCAN_PHENOTYPES"
   ]
  },
  {
   "cell_type": "code",
   "execution_count": null,
   "metadata": {},
   "outputs": [],
   "source": [
    "spredixcan_genes_associations = pd.DataFrame(all_results)\n",
    "spredixcan_genes_associations.index.rename('gene_name', inplace=True)\n",
    "\n",
    "assert spredixcan_genes_associations.index.is_unique\n",
    "\n",
    "display(spredixcan_genes_associations.shape)\n",
    "display(spredixcan_genes_associations.head())"
   ]
  },
  {
   "cell_type": "code",
   "execution_count": null,
   "metadata": {},
   "outputs": [],
   "source": [
    "# Remove genes with no results\n",
    "spredixcan_genes_associations = spredixcan_genes_associations.dropna(axis=0, how='all')\n",
    "assert spredixcan_genes_associations.isna().sum().sum() == 0\n",
    "\n",
    "display(spredixcan_genes_associations.shape)\n",
    "\n",
    "assert spredixcan_genes_associations.shape == (22255, N_EXPECTED_SPREDIXCAN_PHENOTYPES)"
   ]
  },
  {
   "cell_type": "code",
   "execution_count": null,
   "metadata": {},
   "outputs": [],
   "source": [
    "# some testing\n",
    "\n",
    "# For FinnGen\n",
    "assert spredixcan_genes_associations.loc['ENSG00000110628', 'C3_TONGUENAS-Malignant_neoplasm_of_other_and_unspecified_parts_of_tongue'] == 0.005086576789507484\n",
    "assert spredixcan_genes_associations.loc['ENSG00000169783', 'C3_TONGUENAS-Malignant_neoplasm_of_other_and_unspecified_parts_of_tongue'] == 0.3757187601354043\n",
    "assert spredixcan_genes_associations.loc['ENSG00000137959', 'C3_TONGUENAS-Malignant_neoplasm_of_other_and_unspecified_parts_of_tongue'] == 5.132614371931036e-07\n",
    "# For ICD10\n",
    "assert spredixcan_genes_associations.loc['ENSG00000135775', 'N18-Diagnoses_main_ICD10_N18_Chronic_renal_failure'] == 2.795075036067939e-05\n",
    "assert spredixcan_genes_associations.loc['ENSG00000169783', 'N18-Diagnoses_main_ICD10_N18_Chronic_renal_failure'] == 0.06668736815697908\n",
    "assert spredixcan_genes_associations.loc['ENSG00000174226', 'N18-Diagnoses_main_ICD10_N18_Chronic_renal_failure'] == 0.02496852053808064"
   ]
  },
  {
   "cell_type": "code",
   "execution_count": null,
   "metadata": {},
   "outputs": [],
   "source": [
    "# Save\n",
    "spredixcan_genes_associations_filename = os.path.join(OUTPUT_DIR, f'smultixcan-genes_associations-{setname}.pkl.xz')\n",
    "display(spredixcan_genes_associations_filename)"
   ]
  },
  {
   "cell_type": "code",
   "execution_count": null,
   "metadata": {},
   "outputs": [],
   "source": [
    "spredixcan_genes_associations.to_pickle(spredixcan_genes_associations_filename)"
   ]
  },
  {
   "cell_type": "markdown",
   "metadata": {},
   "source": [
    "## Save zscores"
   ]
  },
  {
   "cell_type": "code",
   "execution_count": null,
   "metadata": {},
   "outputs": [],
   "source": [
    "setname = 'zscores'\n",
    "print(setname)\n",
    "\n",
    "zscores = np.abs(stats.norm.ppf(spredixcan_genes_associations / 2))\n",
    "\n",
    "spredixcan_genes_associations_zscores = pd.DataFrame(zscores, index=spredixcan_genes_associations.index.copy(), columns=spredixcan_genes_associations.columns.copy())\n",
    "\n",
    "display(spredixcan_genes_associations_zscores.shape)\n",
    "display(spredixcan_genes_associations_zscores.head())"
   ]
  },
  {
   "cell_type": "code",
   "execution_count": null,
   "metadata": {},
   "outputs": [],
   "source": [
    "# some testing\n",
    "\n",
    "# For FinnGen\n",
    "assert spredixcan_genes_associations_zscores.loc['ENSG00000110628', 'C3_TONGUENAS-Malignant_neoplasm_of_other_and_unspecified_parts_of_tongue'] == 2.8014991958592232\n",
    "assert spredixcan_genes_associations_zscores.loc['ENSG00000169783', 'C3_TONGUENAS-Malignant_neoplasm_of_other_and_unspecified_parts_of_tongue'] == 0.8858121525410351\n",
    "assert spredixcan_genes_associations_zscores.loc['ENSG00000137959', 'C3_TONGUENAS-Malignant_neoplasm_of_other_and_unspecified_parts_of_tongue'] == 5.021287959552069\n",
    "# For ICD10\n",
    "assert spredixcan_genes_associations_zscores.loc['ENSG00000135775', 'N18-Diagnoses_main_ICD10_N18_Chronic_renal_failure'] == 4.1895505583580785\n",
    "assert spredixcan_genes_associations_zscores.loc['ENSG00000169783', 'N18-Diagnoses_main_ICD10_N18_Chronic_renal_failure'] == 1.8337752158591156\n",
    "assert spredixcan_genes_associations_zscores.loc['ENSG00000174226', 'N18-Diagnoses_main_ICD10_N18_Chronic_renal_failure'] == 2.241889411679155"
   ]
  },
  {
   "cell_type": "code",
   "execution_count": null,
   "metadata": {},
   "outputs": [],
   "source": [
    "# save\n",
    "spredixcan_genes_associations_zscores_filename = os.path.join(OUTPUT_DIR, f'smultixcan-genes_associations-{setname}.pkl.xz')\n",
    "display(spredixcan_genes_associations_zscores_filename)"
   ]
  },
  {
   "cell_type": "code",
   "execution_count": null,
   "metadata": {},
   "outputs": [],
   "source": [
    "spredixcan_genes_associations_zscores.to_pickle(spredixcan_genes_associations_zscores_filename)"
   ]
  },
  {
   "cell_type": "code",
   "execution_count": null,
   "metadata": {},
   "outputs": [],
   "source": [
    "spredixcan_genes_associations_zscores.shape"
   ]
  },
  {
   "cell_type": "code",
   "execution_count": null,
   "metadata": {},
   "outputs": [],
   "source": [
    "spredixcan_genes_associations_zscores.head()"
   ]
  },
  {
   "cell_type": "markdown",
   "metadata": {},
   "source": [
    "Now I need to copy this file to CRI to include only these genes"
   ]
  },
  {
   "cell_type": "code",
   "execution_count": null,
   "metadata": {},
   "outputs": [],
   "source": []
  }
 ],
 "metadata": {
  "kernelspec": {
   "display_name": "Python 3",
   "language": "python",
   "name": "python3"
  },
  "language_info": {
   "codemirror_mode": {
    "name": "ipython",
    "version": 3
   },
   "file_extension": ".py",
   "mimetype": "text/x-python",
   "name": "python",
   "nbconvert_exporter": "python",
   "pygments_lexer": "ipython3",
   "version": "3.7.3"
  }
 },
 "nbformat": 4,
 "nbformat_minor": 4
}
