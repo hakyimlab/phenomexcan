{
 "cells": [
  {
   "cell_type": "code",
   "execution_count": 1,
   "metadata": {},
   "outputs": [],
   "source": [
    "%load_ext autoreload\n",
    "%autoreload 2"
   ]
  },
  {
   "cell_type": "code",
   "execution_count": 23,
   "metadata": {},
   "outputs": [],
   "source": [
    "import os\n",
    "import pickle\n",
    "from glob import glob\n",
    "#import re\n",
    "from concurrent.futures import ProcessPoolExecutor, as_completed\n",
    "\n",
    "import numpy as np\n",
    "import pandas as pd\n",
    "#from tqdm import tqdm\n",
    "from scipy import stats\n",
    "#from sklearn.metrics import pairwise_distances\n",
    "\n",
    "import settings as conf\n",
    "from utils import is_number, chunker\n",
    "from results.multixcan import MXPhenoInfo, MXPhenoResults"
   ]
  },
  {
   "cell_type": "markdown",
   "metadata": {},
   "source": [
    "# Load S-MultiXcan results"
   ]
  },
  {
   "cell_type": "markdown",
   "metadata": {},
   "source": [
    "## From Rapid GWAS project"
   ]
  },
  {
   "cell_type": "code",
   "execution_count": 3,
   "metadata": {},
   "outputs": [
    {
     "data": {
      "text/plain": [
       "'/mnt/phenomexcan_base/results/smultixcan/rapid_gwas_project/*.tsv.gz'"
      ]
     },
     "metadata": {},
     "output_type": "display_data"
    },
    {
     "data": {
      "text/plain": [
       "4049"
      ]
     },
     "metadata": {},
     "output_type": "display_data"
    }
   ],
   "source": [
    "_path = os.path.join(conf.SMULTIXCAN_RESULTS_DIR['RapidGWASProject'], '*.tsv.gz')\n",
    "display(_path)\n",
    "all_smultixcan_results_dirs = glob(_path)\n",
    "display(len(all_smultixcan_results_dirs))\n",
    "assert len(all_smultixcan_results_dirs) == conf.SMULTIXCAN_EXPECTED_PHENOTYPES['RapidGWASProject']"
   ]
  },
  {
   "cell_type": "code",
   "execution_count": 4,
   "metadata": {},
   "outputs": [
    {
     "data": {
      "text/plain": [
       "4049"
      ]
     },
     "metadata": {},
     "output_type": "display_data"
    }
   ],
   "source": [
    "all_smultixcan_phenotypes = [MXPhenoResults(p) for p in all_smultixcan_results_dirs]\n",
    "all_smultixcan_phenotypes_plain_names = pd.Index([p.pheno_info.get_plain_name() for p in all_smultixcan_phenotypes])\n",
    "\n",
    "display(len(all_smultixcan_phenotypes))\n",
    "assert len(all_smultixcan_phenotypes) == conf.SMULTIXCAN_EXPECTED_PHENOTYPES['RapidGWASProject']"
   ]
  },
  {
   "cell_type": "markdown",
   "metadata": {},
   "source": [
    "## From GTEx GWAS manuscript"
   ]
  },
  {
   "cell_type": "code",
   "execution_count": 5,
   "metadata": {},
   "outputs": [
    {
     "data": {
      "text/plain": [
       "'/mnt/phenomexcan_base/results/smultixcan/gtex_gwas/*_ccn30.txt'"
      ]
     },
     "metadata": {},
     "output_type": "display_data"
    },
    {
     "data": {
      "text/plain": [
       "42"
      ]
     },
     "metadata": {},
     "output_type": "display_data"
    }
   ],
   "source": [
    "_path = os.path.join(conf.SMULTIXCAN_RESULTS_DIR['GTEX_GWAS'], '*_ccn30.txt')\n",
    "display(_path)\n",
    "all_extra_results_dirs = glob(_path)\n",
    "display(len(all_extra_results_dirs))\n",
    "assert len(all_extra_results_dirs) == conf.SMULTIXCAN_EXPECTED_PHENOTYPES['GTEX_GWAS']"
   ]
  },
  {
   "cell_type": "code",
   "execution_count": 6,
   "metadata": {},
   "outputs": [
    {
     "data": {
      "text/plain": [
       "42"
      ]
     },
     "metadata": {},
     "output_type": "display_data"
    }
   ],
   "source": [
    "_file_pattern = '(?P<code>[^/]+)_smultixcan_imputed_gwas_gtexv8mashr_ccn30\\.txt'\n",
    "all_extra_phenotypes = [MXPhenoResults(p, _file_pattern) for p in all_extra_results_dirs]\n",
    "all_extra_phenotypes_plain_names = pd.Index([p.pheno_info.get_plain_name() for p in all_extra_phenotypes])\n",
    "\n",
    "display(len(all_extra_phenotypes))\n",
    "assert len(all_extra_phenotypes) == conf.SMULTIXCAN_EXPECTED_PHENOTYPES['GTEX_GWAS']"
   ]
  },
  {
   "cell_type": "markdown",
   "metadata": {},
   "source": [
    "## Run loading"
   ]
  },
  {
   "cell_type": "markdown",
   "metadata": {},
   "source": [
    "This read all phenotypes results (S-MultiXcan) and saves them all into a Pandas DataFrame"
   ]
  },
  {
   "cell_type": "code",
   "execution_count": 7,
   "metadata": {},
   "outputs": [],
   "source": [
    "def _get_combined_results(phenos, column):\n",
    "    return {\n",
    "        pheno.pheno_info.get_plain_name() :\n",
    "        pheno.get_data(cols=['gene_name', column], index_col='gene_simple')[column]\n",
    "        for pheno in phenos\n",
    "    }"
   ]
  },
  {
   "cell_type": "code",
   "execution_count": 8,
   "metadata": {},
   "outputs": [],
   "source": [
    "def _run_all(column_name, phenotype_chunks, n_jobs=20):\n",
    "    print(column_name, flush=True)\n",
    "    \n",
    "    all_results = {}\n",
    "    \n",
    "    with ProcessPoolExecutor(max_workers=n_jobs) as executor:\n",
    "        tasks = [executor.submit(_get_combined_results, chunk, column_name) for chunk in phenotype_chunks]\n",
    "        for future in as_completed(tasks):\n",
    "            res = future.result()\n",
    "            all_results.update(res)\n",
    "    \n",
    "    return all_results"
   ]
  },
  {
   "cell_type": "code",
   "execution_count": 9,
   "metadata": {},
   "outputs": [],
   "source": [
    "# phenotype_chunks = chunker(all_smultixcan_phenotypes[:5] + all_extra_phenotypes[:5], 200)\n",
    "phenotype_chunks = chunker(all_smultixcan_phenotypes + all_extra_phenotypes, 200)"
   ]
  },
  {
   "cell_type": "code",
   "execution_count": 10,
   "metadata": {},
   "outputs": [
    {
     "name": "stdout",
     "output_type": "stream",
     "text": [
      "pvalue\n"
     ]
    }
   ],
   "source": [
    "all_results = _run_all('pvalue', phenotype_chunks)"
   ]
  },
  {
   "cell_type": "markdown",
   "metadata": {},
   "source": [
    "## Load results and save as DataFrame"
   ]
  },
  {
   "cell_type": "code",
   "execution_count": 11,
   "metadata": {},
   "outputs": [
    {
     "data": {
      "text/plain": [
       "4091"
      ]
     },
     "metadata": {},
     "output_type": "display_data"
    }
   ],
   "source": [
    "_n_expected_phenos = np.sum(list(conf.SMULTIXCAN_EXPECTED_PHENOTYPES.values()))\n",
    "display(_n_expected_phenos)\n",
    "assert len(all_results) == _n_expected_phenos"
   ]
  },
  {
   "cell_type": "code",
   "execution_count": 12,
   "metadata": {},
   "outputs": [
    {
     "data": {
      "text/plain": [
       "(22518, 4091)"
      ]
     },
     "metadata": {},
     "output_type": "display_data"
    },
    {
     "data": {
      "text/html": [
       "<div>\n",
       "<style scoped>\n",
       "    .dataframe tbody tr th:only-of-type {\n",
       "        vertical-align: middle;\n",
       "    }\n",
       "\n",
       "    .dataframe tbody tr th {\n",
       "        vertical-align: top;\n",
       "    }\n",
       "\n",
       "    .dataframe thead th {\n",
       "        text-align: right;\n",
       "    }\n",
       "</style>\n",
       "<table border=\"1\" class=\"dataframe\">\n",
       "  <thead>\n",
       "    <tr style=\"text-align: right;\">\n",
       "      <th></th>\n",
       "      <th>22617_5223-Job_SOC_coding_Metal_working_production_and_maintenance_fitters</th>\n",
       "      <th>20003_1140911734-Treatmentmedication_code_ginkgo_forte_tablet</th>\n",
       "      <th>136-Number_of_operations_selfreported</th>\n",
       "      <th>I70-Diagnoses_main_ICD10_I70_Atherosclerosis</th>\n",
       "      <th>20003_1141152732-Treatmentmedication_code_mirtazapine</th>\n",
       "      <th>20002_1459-Noncancer_illness_code_selfreported_colitisnot_crohns_or_ulcerative_colitis</th>\n",
       "      <th>20002_1434-Noncancer_illness_code_selfreported_other_neurological_problem</th>\n",
       "      <th>20003_1141195224-Treatmentmedication_code_formoterol</th>\n",
       "      <th>20553_5-Methods_of_selfharm_used_Selfinjury_such_as_selfcutting_scratching_or_hitting_etc</th>\n",
       "      <th>C_CORPUS_UTERI-Malignant_neoplasm_of_corpus_uteri</th>\n",
       "      <th>...</th>\n",
       "      <th>PGC_ADHD_EUR_2017</th>\n",
       "      <th>BCAC_ER_negative_BreastCancer_EUR</th>\n",
       "      <th>SSGAC_Education_Years_Pooled</th>\n",
       "      <th>pgc.scz2</th>\n",
       "      <th>MAGNETIC_HDL.C</th>\n",
       "      <th>MAGIC_ln_FastingInsulin</th>\n",
       "      <th>Astle_et_al_2016_Sum_eosinophil_basophil_counts</th>\n",
       "      <th>SSGAC_Depressive_Symptoms</th>\n",
       "      <th>Jones_et_al_2016_SleepDuration</th>\n",
       "      <th>Astle_et_al_2016_Red_blood_cell_count</th>\n",
       "    </tr>\n",
       "    <tr>\n",
       "      <th>gene_name</th>\n",
       "      <th></th>\n",
       "      <th></th>\n",
       "      <th></th>\n",
       "      <th></th>\n",
       "      <th></th>\n",
       "      <th></th>\n",
       "      <th></th>\n",
       "      <th></th>\n",
       "      <th></th>\n",
       "      <th></th>\n",
       "      <th></th>\n",
       "      <th></th>\n",
       "      <th></th>\n",
       "      <th></th>\n",
       "      <th></th>\n",
       "      <th></th>\n",
       "      <th></th>\n",
       "      <th></th>\n",
       "      <th></th>\n",
       "      <th></th>\n",
       "      <th></th>\n",
       "    </tr>\n",
       "  </thead>\n",
       "  <tbody>\n",
       "    <tr>\n",
       "      <th>ENSG00000000419</th>\n",
       "      <td>0.329127</td>\n",
       "      <td>0.374926</td>\n",
       "      <td>0.057807</td>\n",
       "      <td>0.633136</td>\n",
       "      <td>0.725014</td>\n",
       "      <td>0.074453</td>\n",
       "      <td>0.002245</td>\n",
       "      <td>0.317070</td>\n",
       "      <td>0.040515</td>\n",
       "      <td>0.861529</td>\n",
       "      <td>...</td>\n",
       "      <td>0.980281</td>\n",
       "      <td>0.413973</td>\n",
       "      <td>0.747822</td>\n",
       "      <td>0.609467</td>\n",
       "      <td>0.019467</td>\n",
       "      <td>0.371748</td>\n",
       "      <td>0.823010</td>\n",
       "      <td>0.713310</td>\n",
       "      <td>0.858389</td>\n",
       "      <td>0.409761</td>\n",
       "    </tr>\n",
       "    <tr>\n",
       "      <th>ENSG00000000457</th>\n",
       "      <td>0.257609</td>\n",
       "      <td>0.707281</td>\n",
       "      <td>0.366313</td>\n",
       "      <td>0.525725</td>\n",
       "      <td>0.231869</td>\n",
       "      <td>0.601362</td>\n",
       "      <td>0.191479</td>\n",
       "      <td>0.267365</td>\n",
       "      <td>0.552215</td>\n",
       "      <td>0.192840</td>\n",
       "      <td>...</td>\n",
       "      <td>0.228982</td>\n",
       "      <td>0.636830</td>\n",
       "      <td>0.654535</td>\n",
       "      <td>0.010907</td>\n",
       "      <td>0.726300</td>\n",
       "      <td>0.210658</td>\n",
       "      <td>0.008023</td>\n",
       "      <td>0.678749</td>\n",
       "      <td>0.836679</td>\n",
       "      <td>0.812484</td>\n",
       "    </tr>\n",
       "    <tr>\n",
       "      <th>ENSG00000000460</th>\n",
       "      <td>0.886257</td>\n",
       "      <td>0.610799</td>\n",
       "      <td>0.710933</td>\n",
       "      <td>0.623350</td>\n",
       "      <td>0.206562</td>\n",
       "      <td>0.840616</td>\n",
       "      <td>0.140581</td>\n",
       "      <td>0.696040</td>\n",
       "      <td>0.939619</td>\n",
       "      <td>0.446949</td>\n",
       "      <td>...</td>\n",
       "      <td>0.301460</td>\n",
       "      <td>0.140522</td>\n",
       "      <td>0.646442</td>\n",
       "      <td>0.587969</td>\n",
       "      <td>0.498724</td>\n",
       "      <td>0.521805</td>\n",
       "      <td>0.004462</td>\n",
       "      <td>0.736509</td>\n",
       "      <td>0.432229</td>\n",
       "      <td>0.486664</td>\n",
       "    </tr>\n",
       "    <tr>\n",
       "      <th>ENSG00000000938</th>\n",
       "      <td>0.513829</td>\n",
       "      <td>0.209518</td>\n",
       "      <td>0.497943</td>\n",
       "      <td>0.021543</td>\n",
       "      <td>0.442737</td>\n",
       "      <td>0.100253</td>\n",
       "      <td>0.733028</td>\n",
       "      <td>0.614598</td>\n",
       "      <td>0.392346</td>\n",
       "      <td>0.657822</td>\n",
       "      <td>...</td>\n",
       "      <td>0.588855</td>\n",
       "      <td>0.226977</td>\n",
       "      <td>0.576593</td>\n",
       "      <td>0.059247</td>\n",
       "      <td>0.435438</td>\n",
       "      <td>0.953160</td>\n",
       "      <td>0.101875</td>\n",
       "      <td>0.954998</td>\n",
       "      <td>0.097831</td>\n",
       "      <td>0.135045</td>\n",
       "    </tr>\n",
       "    <tr>\n",
       "      <th>ENSG00000000971</th>\n",
       "      <td>0.248434</td>\n",
       "      <td>0.906597</td>\n",
       "      <td>0.698141</td>\n",
       "      <td>0.281261</td>\n",
       "      <td>0.047256</td>\n",
       "      <td>0.959404</td>\n",
       "      <td>0.064124</td>\n",
       "      <td>0.856257</td>\n",
       "      <td>0.115725</td>\n",
       "      <td>0.738901</td>\n",
       "      <td>...</td>\n",
       "      <td>0.109883</td>\n",
       "      <td>0.040871</td>\n",
       "      <td>0.005662</td>\n",
       "      <td>0.020391</td>\n",
       "      <td>0.439466</td>\n",
       "      <td>0.690242</td>\n",
       "      <td>0.055059</td>\n",
       "      <td>0.002660</td>\n",
       "      <td>0.331132</td>\n",
       "      <td>0.995450</td>\n",
       "    </tr>\n",
       "  </tbody>\n",
       "</table>\n",
       "<p>5 rows × 4091 columns</p>\n",
       "</div>"
      ],
      "text/plain": [
       "                 22617_5223-Job_SOC_coding_Metal_working_production_and_maintenance_fitters  \\\n",
       "gene_name                                                                                     \n",
       "ENSG00000000419                                           0.329127                            \n",
       "ENSG00000000457                                           0.257609                            \n",
       "ENSG00000000460                                           0.886257                            \n",
       "ENSG00000000938                                           0.513829                            \n",
       "ENSG00000000971                                           0.248434                            \n",
       "\n",
       "                 20003_1140911734-Treatmentmedication_code_ginkgo_forte_tablet  \\\n",
       "gene_name                                                                        \n",
       "ENSG00000000419                                           0.374926               \n",
       "ENSG00000000457                                           0.707281               \n",
       "ENSG00000000460                                           0.610799               \n",
       "ENSG00000000938                                           0.209518               \n",
       "ENSG00000000971                                           0.906597               \n",
       "\n",
       "                 136-Number_of_operations_selfreported  \\\n",
       "gene_name                                                \n",
       "ENSG00000000419                               0.057807   \n",
       "ENSG00000000457                               0.366313   \n",
       "ENSG00000000460                               0.710933   \n",
       "ENSG00000000938                               0.497943   \n",
       "ENSG00000000971                               0.698141   \n",
       "\n",
       "                 I70-Diagnoses_main_ICD10_I70_Atherosclerosis  \\\n",
       "gene_name                                                       \n",
       "ENSG00000000419                                      0.633136   \n",
       "ENSG00000000457                                      0.525725   \n",
       "ENSG00000000460                                      0.623350   \n",
       "ENSG00000000938                                      0.021543   \n",
       "ENSG00000000971                                      0.281261   \n",
       "\n",
       "                 20003_1141152732-Treatmentmedication_code_mirtazapine  \\\n",
       "gene_name                                                                \n",
       "ENSG00000000419                                           0.725014       \n",
       "ENSG00000000457                                           0.231869       \n",
       "ENSG00000000460                                           0.206562       \n",
       "ENSG00000000938                                           0.442737       \n",
       "ENSG00000000971                                           0.047256       \n",
       "\n",
       "                 20002_1459-Noncancer_illness_code_selfreported_colitisnot_crohns_or_ulcerative_colitis  \\\n",
       "gene_name                                                                                                 \n",
       "ENSG00000000419                                           0.074453                                        \n",
       "ENSG00000000457                                           0.601362                                        \n",
       "ENSG00000000460                                           0.840616                                        \n",
       "ENSG00000000938                                           0.100253                                        \n",
       "ENSG00000000971                                           0.959404                                        \n",
       "\n",
       "                 20002_1434-Noncancer_illness_code_selfreported_other_neurological_problem  \\\n",
       "gene_name                                                                                    \n",
       "ENSG00000000419                                           0.002245                           \n",
       "ENSG00000000457                                           0.191479                           \n",
       "ENSG00000000460                                           0.140581                           \n",
       "ENSG00000000938                                           0.733028                           \n",
       "ENSG00000000971                                           0.064124                           \n",
       "\n",
       "                 20003_1141195224-Treatmentmedication_code_formoterol  \\\n",
       "gene_name                                                               \n",
       "ENSG00000000419                                           0.317070      \n",
       "ENSG00000000457                                           0.267365      \n",
       "ENSG00000000460                                           0.696040      \n",
       "ENSG00000000938                                           0.614598      \n",
       "ENSG00000000971                                           0.856257      \n",
       "\n",
       "                 20553_5-Methods_of_selfharm_used_Selfinjury_such_as_selfcutting_scratching_or_hitting_etc  \\\n",
       "gene_name                                                                                                    \n",
       "ENSG00000000419                                           0.040515                                           \n",
       "ENSG00000000457                                           0.552215                                           \n",
       "ENSG00000000460                                           0.939619                                           \n",
       "ENSG00000000938                                           0.392346                                           \n",
       "ENSG00000000971                                           0.115725                                           \n",
       "\n",
       "                 C_CORPUS_UTERI-Malignant_neoplasm_of_corpus_uteri  ...  \\\n",
       "gene_name                                                           ...   \n",
       "ENSG00000000419                                           0.861529  ...   \n",
       "ENSG00000000457                                           0.192840  ...   \n",
       "ENSG00000000460                                           0.446949  ...   \n",
       "ENSG00000000938                                           0.657822  ...   \n",
       "ENSG00000000971                                           0.738901  ...   \n",
       "\n",
       "                 PGC_ADHD_EUR_2017  BCAC_ER_negative_BreastCancer_EUR  \\\n",
       "gene_name                                                               \n",
       "ENSG00000000419           0.980281                           0.413973   \n",
       "ENSG00000000457           0.228982                           0.636830   \n",
       "ENSG00000000460           0.301460                           0.140522   \n",
       "ENSG00000000938           0.588855                           0.226977   \n",
       "ENSG00000000971           0.109883                           0.040871   \n",
       "\n",
       "                 SSGAC_Education_Years_Pooled  pgc.scz2  MAGNETIC_HDL.C  \\\n",
       "gene_name                                                                 \n",
       "ENSG00000000419                      0.747822  0.609467        0.019467   \n",
       "ENSG00000000457                      0.654535  0.010907        0.726300   \n",
       "ENSG00000000460                      0.646442  0.587969        0.498724   \n",
       "ENSG00000000938                      0.576593  0.059247        0.435438   \n",
       "ENSG00000000971                      0.005662  0.020391        0.439466   \n",
       "\n",
       "                 MAGIC_ln_FastingInsulin  \\\n",
       "gene_name                                  \n",
       "ENSG00000000419                 0.371748   \n",
       "ENSG00000000457                 0.210658   \n",
       "ENSG00000000460                 0.521805   \n",
       "ENSG00000000938                 0.953160   \n",
       "ENSG00000000971                 0.690242   \n",
       "\n",
       "                 Astle_et_al_2016_Sum_eosinophil_basophil_counts  \\\n",
       "gene_name                                                          \n",
       "ENSG00000000419                                         0.823010   \n",
       "ENSG00000000457                                         0.008023   \n",
       "ENSG00000000460                                         0.004462   \n",
       "ENSG00000000938                                         0.101875   \n",
       "ENSG00000000971                                         0.055059   \n",
       "\n",
       "                 SSGAC_Depressive_Symptoms  Jones_et_al_2016_SleepDuration  \\\n",
       "gene_name                                                                    \n",
       "ENSG00000000419                   0.713310                        0.858389   \n",
       "ENSG00000000457                   0.678749                        0.836679   \n",
       "ENSG00000000460                   0.736509                        0.432229   \n",
       "ENSG00000000938                   0.954998                        0.097831   \n",
       "ENSG00000000971                   0.002660                        0.331132   \n",
       "\n",
       "                 Astle_et_al_2016_Red_blood_cell_count  \n",
       "gene_name                                               \n",
       "ENSG00000000419                               0.409761  \n",
       "ENSG00000000457                               0.812484  \n",
       "ENSG00000000460                               0.486664  \n",
       "ENSG00000000938                               0.135045  \n",
       "ENSG00000000971                               0.995450  \n",
       "\n",
       "[5 rows x 4091 columns]"
      ]
     },
     "metadata": {},
     "output_type": "display_data"
    }
   ],
   "source": [
    "smultixcan_genes_associations = pd.DataFrame(all_results)\n",
    "smultixcan_genes_associations.index.rename('gene_name', inplace=True)\n",
    "\n",
    "assert smultixcan_genes_associations.index.is_unique\n",
    "\n",
    "display(smultixcan_genes_associations.shape)\n",
    "display(smultixcan_genes_associations.head())"
   ]
  },
  {
   "cell_type": "code",
   "execution_count": 13,
   "metadata": {},
   "outputs": [],
   "source": [
    "# Remove genes with no results\n",
    "smultixcan_genes_associations = smultixcan_genes_associations.dropna(axis=0, how='all')"
   ]
  },
  {
   "cell_type": "code",
   "execution_count": 14,
   "metadata": {},
   "outputs": [
    {
     "data": {
      "text/plain": [
       "1053055"
      ]
     },
     "execution_count": 14,
     "metadata": {},
     "output_type": "execute_result"
    }
   ],
   "source": [
    "# how many entries are nan\n",
    "smultixcan_genes_associations.isna().sum().sum()"
   ]
  },
  {
   "cell_type": "code",
   "execution_count": 15,
   "metadata": {},
   "outputs": [
    {
     "data": {
      "text/plain": [
       "1052740"
      ]
     },
     "execution_count": 15,
     "metadata": {},
     "output_type": "execute_result"
    }
   ],
   "source": [
    "# each UKB trait has 260 nan entries\n",
    "260 * 4049"
   ]
  },
  {
   "cell_type": "code",
   "execution_count": 16,
   "metadata": {},
   "outputs": [
    {
     "data": {
      "text/plain": [
       "(22515, 4091)"
      ]
     },
     "metadata": {},
     "output_type": "display_data"
    }
   ],
   "source": [
    "display(smultixcan_genes_associations.shape)\n",
    "\n",
    "assert smultixcan_genes_associations.shape == (22515, _n_expected_phenos)"
   ]
  },
  {
   "cell_type": "code",
   "execution_count": 17,
   "metadata": {},
   "outputs": [],
   "source": [
    "# some testing\n",
    "\n",
    "# For FinnGen\n",
    "assert smultixcan_genes_associations.loc['ENSG00000110628', 'C_TONGUENAS-Malignant_neoplasm_of_other_and_unspecified_parts_of_tongue'] == 0.005086576789507484\n",
    "assert smultixcan_genes_associations.loc['ENSG00000169783', 'C_TONGUENAS-Malignant_neoplasm_of_other_and_unspecified_parts_of_tongue'] == 0.3757187601354043\n",
    "assert smultixcan_genes_associations.loc['ENSG00000137959', 'C_TONGUENAS-Malignant_neoplasm_of_other_and_unspecified_parts_of_tongue'] == 5.132614371931036e-07\n",
    "\n",
    "# For ICD10\n",
    "assert smultixcan_genes_associations.loc['ENSG00000135775', 'N18-Diagnoses_main_ICD10_N18_Chronic_renal_failure'] == 2.795075036067939e-05\n",
    "assert smultixcan_genes_associations.loc['ENSG00000169783', 'N18-Diagnoses_main_ICD10_N18_Chronic_renal_failure'] == 0.06668736815697908\n",
    "assert smultixcan_genes_associations.loc['ENSG00000174226', 'N18-Diagnoses_main_ICD10_N18_Chronic_renal_failure'] == 0.02496852053808064\n",
    "\n",
    "# For extra phenotypes\n",
    "assert smultixcan_genes_associations.loc['ENSG00000135775', 'MAGIC_ln_FastingInsulin'] == 0.08712399858507687\n",
    "assert smultixcan_genes_associations.loc['ENSG00000169783', 'IMMUNOBASE_Systemic_lupus_erythematosus_hg19'] == 0.10974365378971256\n",
    "assert smultixcan_genes_associations.loc['ENSG00000158691', 'pgc.scz2'] == 2.698821020217747e-28"
   ]
  },
  {
   "cell_type": "markdown",
   "metadata": {},
   "source": [
    "### Remove zero pvalues"
   ]
  },
  {
   "cell_type": "code",
   "execution_count": 46,
   "metadata": {},
   "outputs": [],
   "source": [
    "assert not smultixcan_genes_associations.isin([np.inf, -np.inf]).any().any()"
   ]
  },
  {
   "cell_type": "code",
   "execution_count": 47,
   "metadata": {},
   "outputs": [
    {
     "data": {
      "text/plain": [
       "True"
      ]
     },
     "execution_count": 47,
     "metadata": {},
     "output_type": "execute_result"
    }
   ],
   "source": [
    "smultixcan_genes_associations.isna().any().any()"
   ]
  },
  {
   "cell_type": "code",
   "execution_count": 48,
   "metadata": {},
   "outputs": [],
   "source": [
    "all_pvals = pd.Series(smultixcan_genes_associations.values.flatten())"
   ]
  },
  {
   "cell_type": "code",
   "execution_count": 49,
   "metadata": {},
   "outputs": [
    {
     "data": {
      "text/plain": [
       "count    9.105581e+07\n",
       "mean     4.839226e-01\n",
       "std      2.934763e-01\n",
       "min      0.000000e+00\n",
       "25%      2.266266e-01\n",
       "50%      4.794625e-01\n",
       "75%      7.378647e-01\n",
       "max      1.000000e+00\n",
       "dtype: float64"
      ]
     },
     "execution_count": 49,
     "metadata": {},
     "output_type": "execute_result"
    }
   ],
   "source": [
    "all_pvals.describe()"
   ]
  },
  {
   "cell_type": "code",
   "execution_count": 50,
   "metadata": {},
   "outputs": [
    {
     "data": {
      "text/plain": [
       "22852908    1.222488e-311\n",
       "21201099    2.021948e-311\n",
       "5437461     2.320165e-311\n",
       "90963967    3.396667e-311\n",
       "21232850    5.298136e-311\n",
       "dtype: float64"
      ]
     },
     "metadata": {},
     "output_type": "display_data"
    }
   ],
   "source": [
    "_tmp = all_pvals.sort_values(ascending=True)\n",
    "display(_tmp[_tmp > 0].head())"
   ]
  },
  {
   "cell_type": "code",
   "execution_count": 51,
   "metadata": {},
   "outputs": [
    {
     "data": {
      "text/plain": [
       "62629116    1.0\n",
       "24177791    1.0\n",
       "84385054    1.0\n",
       "81529520    1.0\n",
       "81545900    1.0\n",
       "dtype: float64"
      ]
     },
     "metadata": {},
     "output_type": "display_data"
    }
   ],
   "source": [
    "_tmp = all_pvals.sort_values(ascending=False)\n",
    "display(_tmp.head())"
   ]
  },
  {
   "cell_type": "code",
   "execution_count": 52,
   "metadata": {},
   "outputs": [],
   "source": [
    "# replace 0.0 pvals\n",
    "smultixcan_genes_associations = smultixcan_genes_associations.replace(0.0, 1e-320)"
   ]
  },
  {
   "cell_type": "code",
   "execution_count": 53,
   "metadata": {},
   "outputs": [],
   "source": [
    "all_pvals = pd.Series(smultixcan_genes_associations.values.flatten()).dropna()"
   ]
  },
  {
   "cell_type": "code",
   "execution_count": 54,
   "metadata": {},
   "outputs": [],
   "source": [
    "assert (all_pvals > 0).all()\n",
    "assert (all_pvals <= 1).all()"
   ]
  },
  {
   "cell_type": "markdown",
   "metadata": {},
   "source": [
    "### Save"
   ]
  },
  {
   "cell_type": "code",
   "execution_count": 55,
   "metadata": {},
   "outputs": [
    {
     "data": {
      "text/plain": [
       "(22515, 4091)"
      ]
     },
     "execution_count": 55,
     "metadata": {},
     "output_type": "execute_result"
    }
   ],
   "source": [
    "smultixcan_genes_associations.shape"
   ]
  },
  {
   "cell_type": "code",
   "execution_count": 56,
   "metadata": {},
   "outputs": [
    {
     "data": {
      "text/html": [
       "<div>\n",
       "<style scoped>\n",
       "    .dataframe tbody tr th:only-of-type {\n",
       "        vertical-align: middle;\n",
       "    }\n",
       "\n",
       "    .dataframe tbody tr th {\n",
       "        vertical-align: top;\n",
       "    }\n",
       "\n",
       "    .dataframe thead th {\n",
       "        text-align: right;\n",
       "    }\n",
       "</style>\n",
       "<table border=\"1\" class=\"dataframe\">\n",
       "  <thead>\n",
       "    <tr style=\"text-align: right;\">\n",
       "      <th></th>\n",
       "      <th>22617_5223-Job_SOC_coding_Metal_working_production_and_maintenance_fitters</th>\n",
       "      <th>20003_1140911734-Treatmentmedication_code_ginkgo_forte_tablet</th>\n",
       "      <th>136-Number_of_operations_selfreported</th>\n",
       "      <th>I70-Diagnoses_main_ICD10_I70_Atherosclerosis</th>\n",
       "      <th>20003_1141152732-Treatmentmedication_code_mirtazapine</th>\n",
       "      <th>20002_1459-Noncancer_illness_code_selfreported_colitisnot_crohns_or_ulcerative_colitis</th>\n",
       "      <th>20002_1434-Noncancer_illness_code_selfreported_other_neurological_problem</th>\n",
       "      <th>20003_1141195224-Treatmentmedication_code_formoterol</th>\n",
       "      <th>20553_5-Methods_of_selfharm_used_Selfinjury_such_as_selfcutting_scratching_or_hitting_etc</th>\n",
       "      <th>C_CORPUS_UTERI-Malignant_neoplasm_of_corpus_uteri</th>\n",
       "      <th>...</th>\n",
       "      <th>PGC_ADHD_EUR_2017</th>\n",
       "      <th>BCAC_ER_negative_BreastCancer_EUR</th>\n",
       "      <th>SSGAC_Education_Years_Pooled</th>\n",
       "      <th>pgc.scz2</th>\n",
       "      <th>MAGNETIC_HDL.C</th>\n",
       "      <th>MAGIC_ln_FastingInsulin</th>\n",
       "      <th>Astle_et_al_2016_Sum_eosinophil_basophil_counts</th>\n",
       "      <th>SSGAC_Depressive_Symptoms</th>\n",
       "      <th>Jones_et_al_2016_SleepDuration</th>\n",
       "      <th>Astle_et_al_2016_Red_blood_cell_count</th>\n",
       "    </tr>\n",
       "    <tr>\n",
       "      <th>gene_name</th>\n",
       "      <th></th>\n",
       "      <th></th>\n",
       "      <th></th>\n",
       "      <th></th>\n",
       "      <th></th>\n",
       "      <th></th>\n",
       "      <th></th>\n",
       "      <th></th>\n",
       "      <th></th>\n",
       "      <th></th>\n",
       "      <th></th>\n",
       "      <th></th>\n",
       "      <th></th>\n",
       "      <th></th>\n",
       "      <th></th>\n",
       "      <th></th>\n",
       "      <th></th>\n",
       "      <th></th>\n",
       "      <th></th>\n",
       "      <th></th>\n",
       "      <th></th>\n",
       "    </tr>\n",
       "  </thead>\n",
       "  <tbody>\n",
       "    <tr>\n",
       "      <th>ENSG00000000419</th>\n",
       "      <td>0.329127</td>\n",
       "      <td>0.374926</td>\n",
       "      <td>0.057807</td>\n",
       "      <td>0.633136</td>\n",
       "      <td>0.725014</td>\n",
       "      <td>0.074453</td>\n",
       "      <td>0.002245</td>\n",
       "      <td>0.317070</td>\n",
       "      <td>0.040515</td>\n",
       "      <td>0.861529</td>\n",
       "      <td>...</td>\n",
       "      <td>0.980281</td>\n",
       "      <td>0.413973</td>\n",
       "      <td>0.747822</td>\n",
       "      <td>0.609467</td>\n",
       "      <td>0.019467</td>\n",
       "      <td>0.371748</td>\n",
       "      <td>0.823010</td>\n",
       "      <td>0.713310</td>\n",
       "      <td>0.858389</td>\n",
       "      <td>0.409761</td>\n",
       "    </tr>\n",
       "    <tr>\n",
       "      <th>ENSG00000000457</th>\n",
       "      <td>0.257609</td>\n",
       "      <td>0.707281</td>\n",
       "      <td>0.366313</td>\n",
       "      <td>0.525725</td>\n",
       "      <td>0.231869</td>\n",
       "      <td>0.601362</td>\n",
       "      <td>0.191479</td>\n",
       "      <td>0.267365</td>\n",
       "      <td>0.552215</td>\n",
       "      <td>0.192840</td>\n",
       "      <td>...</td>\n",
       "      <td>0.228982</td>\n",
       "      <td>0.636830</td>\n",
       "      <td>0.654535</td>\n",
       "      <td>0.010907</td>\n",
       "      <td>0.726300</td>\n",
       "      <td>0.210658</td>\n",
       "      <td>0.008023</td>\n",
       "      <td>0.678749</td>\n",
       "      <td>0.836679</td>\n",
       "      <td>0.812484</td>\n",
       "    </tr>\n",
       "    <tr>\n",
       "      <th>ENSG00000000460</th>\n",
       "      <td>0.886257</td>\n",
       "      <td>0.610799</td>\n",
       "      <td>0.710933</td>\n",
       "      <td>0.623350</td>\n",
       "      <td>0.206562</td>\n",
       "      <td>0.840616</td>\n",
       "      <td>0.140581</td>\n",
       "      <td>0.696040</td>\n",
       "      <td>0.939619</td>\n",
       "      <td>0.446949</td>\n",
       "      <td>...</td>\n",
       "      <td>0.301460</td>\n",
       "      <td>0.140522</td>\n",
       "      <td>0.646442</td>\n",
       "      <td>0.587969</td>\n",
       "      <td>0.498724</td>\n",
       "      <td>0.521805</td>\n",
       "      <td>0.004462</td>\n",
       "      <td>0.736509</td>\n",
       "      <td>0.432229</td>\n",
       "      <td>0.486664</td>\n",
       "    </tr>\n",
       "    <tr>\n",
       "      <th>ENSG00000000938</th>\n",
       "      <td>0.513829</td>\n",
       "      <td>0.209518</td>\n",
       "      <td>0.497943</td>\n",
       "      <td>0.021543</td>\n",
       "      <td>0.442737</td>\n",
       "      <td>0.100253</td>\n",
       "      <td>0.733028</td>\n",
       "      <td>0.614598</td>\n",
       "      <td>0.392346</td>\n",
       "      <td>0.657822</td>\n",
       "      <td>...</td>\n",
       "      <td>0.588855</td>\n",
       "      <td>0.226977</td>\n",
       "      <td>0.576593</td>\n",
       "      <td>0.059247</td>\n",
       "      <td>0.435438</td>\n",
       "      <td>0.953160</td>\n",
       "      <td>0.101875</td>\n",
       "      <td>0.954998</td>\n",
       "      <td>0.097831</td>\n",
       "      <td>0.135045</td>\n",
       "    </tr>\n",
       "    <tr>\n",
       "      <th>ENSG00000000971</th>\n",
       "      <td>0.248434</td>\n",
       "      <td>0.906597</td>\n",
       "      <td>0.698141</td>\n",
       "      <td>0.281261</td>\n",
       "      <td>0.047256</td>\n",
       "      <td>0.959404</td>\n",
       "      <td>0.064124</td>\n",
       "      <td>0.856257</td>\n",
       "      <td>0.115725</td>\n",
       "      <td>0.738901</td>\n",
       "      <td>...</td>\n",
       "      <td>0.109883</td>\n",
       "      <td>0.040871</td>\n",
       "      <td>0.005662</td>\n",
       "      <td>0.020391</td>\n",
       "      <td>0.439466</td>\n",
       "      <td>0.690242</td>\n",
       "      <td>0.055059</td>\n",
       "      <td>0.002660</td>\n",
       "      <td>0.331132</td>\n",
       "      <td>0.995450</td>\n",
       "    </tr>\n",
       "  </tbody>\n",
       "</table>\n",
       "<p>5 rows × 4091 columns</p>\n",
       "</div>"
      ],
      "text/plain": [
       "                 22617_5223-Job_SOC_coding_Metal_working_production_and_maintenance_fitters  \\\n",
       "gene_name                                                                                     \n",
       "ENSG00000000419                                           0.329127                            \n",
       "ENSG00000000457                                           0.257609                            \n",
       "ENSG00000000460                                           0.886257                            \n",
       "ENSG00000000938                                           0.513829                            \n",
       "ENSG00000000971                                           0.248434                            \n",
       "\n",
       "                 20003_1140911734-Treatmentmedication_code_ginkgo_forte_tablet  \\\n",
       "gene_name                                                                        \n",
       "ENSG00000000419                                           0.374926               \n",
       "ENSG00000000457                                           0.707281               \n",
       "ENSG00000000460                                           0.610799               \n",
       "ENSG00000000938                                           0.209518               \n",
       "ENSG00000000971                                           0.906597               \n",
       "\n",
       "                 136-Number_of_operations_selfreported  \\\n",
       "gene_name                                                \n",
       "ENSG00000000419                               0.057807   \n",
       "ENSG00000000457                               0.366313   \n",
       "ENSG00000000460                               0.710933   \n",
       "ENSG00000000938                               0.497943   \n",
       "ENSG00000000971                               0.698141   \n",
       "\n",
       "                 I70-Diagnoses_main_ICD10_I70_Atherosclerosis  \\\n",
       "gene_name                                                       \n",
       "ENSG00000000419                                      0.633136   \n",
       "ENSG00000000457                                      0.525725   \n",
       "ENSG00000000460                                      0.623350   \n",
       "ENSG00000000938                                      0.021543   \n",
       "ENSG00000000971                                      0.281261   \n",
       "\n",
       "                 20003_1141152732-Treatmentmedication_code_mirtazapine  \\\n",
       "gene_name                                                                \n",
       "ENSG00000000419                                           0.725014       \n",
       "ENSG00000000457                                           0.231869       \n",
       "ENSG00000000460                                           0.206562       \n",
       "ENSG00000000938                                           0.442737       \n",
       "ENSG00000000971                                           0.047256       \n",
       "\n",
       "                 20002_1459-Noncancer_illness_code_selfreported_colitisnot_crohns_or_ulcerative_colitis  \\\n",
       "gene_name                                                                                                 \n",
       "ENSG00000000419                                           0.074453                                        \n",
       "ENSG00000000457                                           0.601362                                        \n",
       "ENSG00000000460                                           0.840616                                        \n",
       "ENSG00000000938                                           0.100253                                        \n",
       "ENSG00000000971                                           0.959404                                        \n",
       "\n",
       "                 20002_1434-Noncancer_illness_code_selfreported_other_neurological_problem  \\\n",
       "gene_name                                                                                    \n",
       "ENSG00000000419                                           0.002245                           \n",
       "ENSG00000000457                                           0.191479                           \n",
       "ENSG00000000460                                           0.140581                           \n",
       "ENSG00000000938                                           0.733028                           \n",
       "ENSG00000000971                                           0.064124                           \n",
       "\n",
       "                 20003_1141195224-Treatmentmedication_code_formoterol  \\\n",
       "gene_name                                                               \n",
       "ENSG00000000419                                           0.317070      \n",
       "ENSG00000000457                                           0.267365      \n",
       "ENSG00000000460                                           0.696040      \n",
       "ENSG00000000938                                           0.614598      \n",
       "ENSG00000000971                                           0.856257      \n",
       "\n",
       "                 20553_5-Methods_of_selfharm_used_Selfinjury_such_as_selfcutting_scratching_or_hitting_etc  \\\n",
       "gene_name                                                                                                    \n",
       "ENSG00000000419                                           0.040515                                           \n",
       "ENSG00000000457                                           0.552215                                           \n",
       "ENSG00000000460                                           0.939619                                           \n",
       "ENSG00000000938                                           0.392346                                           \n",
       "ENSG00000000971                                           0.115725                                           \n",
       "\n",
       "                 C_CORPUS_UTERI-Malignant_neoplasm_of_corpus_uteri  ...  \\\n",
       "gene_name                                                           ...   \n",
       "ENSG00000000419                                           0.861529  ...   \n",
       "ENSG00000000457                                           0.192840  ...   \n",
       "ENSG00000000460                                           0.446949  ...   \n",
       "ENSG00000000938                                           0.657822  ...   \n",
       "ENSG00000000971                                           0.738901  ...   \n",
       "\n",
       "                 PGC_ADHD_EUR_2017  BCAC_ER_negative_BreastCancer_EUR  \\\n",
       "gene_name                                                               \n",
       "ENSG00000000419           0.980281                           0.413973   \n",
       "ENSG00000000457           0.228982                           0.636830   \n",
       "ENSG00000000460           0.301460                           0.140522   \n",
       "ENSG00000000938           0.588855                           0.226977   \n",
       "ENSG00000000971           0.109883                           0.040871   \n",
       "\n",
       "                 SSGAC_Education_Years_Pooled  pgc.scz2  MAGNETIC_HDL.C  \\\n",
       "gene_name                                                                 \n",
       "ENSG00000000419                      0.747822  0.609467        0.019467   \n",
       "ENSG00000000457                      0.654535  0.010907        0.726300   \n",
       "ENSG00000000460                      0.646442  0.587969        0.498724   \n",
       "ENSG00000000938                      0.576593  0.059247        0.435438   \n",
       "ENSG00000000971                      0.005662  0.020391        0.439466   \n",
       "\n",
       "                 MAGIC_ln_FastingInsulin  \\\n",
       "gene_name                                  \n",
       "ENSG00000000419                 0.371748   \n",
       "ENSG00000000457                 0.210658   \n",
       "ENSG00000000460                 0.521805   \n",
       "ENSG00000000938                 0.953160   \n",
       "ENSG00000000971                 0.690242   \n",
       "\n",
       "                 Astle_et_al_2016_Sum_eosinophil_basophil_counts  \\\n",
       "gene_name                                                          \n",
       "ENSG00000000419                                         0.823010   \n",
       "ENSG00000000457                                         0.008023   \n",
       "ENSG00000000460                                         0.004462   \n",
       "ENSG00000000938                                         0.101875   \n",
       "ENSG00000000971                                         0.055059   \n",
       "\n",
       "                 SSGAC_Depressive_Symptoms  Jones_et_al_2016_SleepDuration  \\\n",
       "gene_name                                                                    \n",
       "ENSG00000000419                   0.713310                        0.858389   \n",
       "ENSG00000000457                   0.678749                        0.836679   \n",
       "ENSG00000000460                   0.736509                        0.432229   \n",
       "ENSG00000000938                   0.954998                        0.097831   \n",
       "ENSG00000000971                   0.002660                        0.331132   \n",
       "\n",
       "                 Astle_et_al_2016_Red_blood_cell_count  \n",
       "gene_name                                               \n",
       "ENSG00000000419                               0.409761  \n",
       "ENSG00000000457                               0.812484  \n",
       "ENSG00000000460                               0.486664  \n",
       "ENSG00000000938                               0.135045  \n",
       "ENSG00000000971                               0.995450  \n",
       "\n",
       "[5 rows x 4091 columns]"
      ]
     },
     "execution_count": 56,
     "metadata": {},
     "output_type": "execute_result"
    }
   ],
   "source": [
    "smultixcan_genes_associations.head()"
   ]
  },
  {
   "cell_type": "code",
   "execution_count": 57,
   "metadata": {},
   "outputs": [
    {
     "data": {
      "text/plain": [
       "'/mnt/phenomexcan_base/gene_assoc/smultixcan-mashr-pvalues.pkl.xz'"
      ]
     },
     "metadata": {},
     "output_type": "display_data"
    }
   ],
   "source": [
    "# Save\n",
    "smultixcan_genes_associations_filename = os.path.join(conf.GENE_ASSOC_DIR, f'smultixcan-mashr-pvalues.pkl.xz')\n",
    "display(smultixcan_genes_associations_filename)"
   ]
  },
  {
   "cell_type": "code",
   "execution_count": 58,
   "metadata": {},
   "outputs": [],
   "source": [
    "smultixcan_genes_associations.to_pickle(smultixcan_genes_associations_filename)"
   ]
  },
  {
   "cell_type": "markdown",
   "metadata": {},
   "source": [
    "### Save for publication"
   ]
  },
  {
   "cell_type": "code",
   "execution_count": 59,
   "metadata": {},
   "outputs": [
    {
     "data": {
      "text/plain": [
       "'/mnt/phenomexcan_base/gene_assoc/smultixcan-mashr-pvalues.tsv.gz'"
      ]
     },
     "metadata": {},
     "output_type": "display_data"
    }
   ],
   "source": [
    "# for publication\n",
    "output_file = os.path.join(conf.GENE_ASSOC_DIR, 'smultixcan-mashr-pvalues.tsv.gz')\n",
    "display(output_file)\n",
    "\n",
    "smultixcan_genes_associations.to_csv(output_file, sep='\\t', float_format='%.4e')"
   ]
  },
  {
   "cell_type": "code",
   "execution_count": 60,
   "metadata": {},
   "outputs": [],
   "source": [
    "# test \"for publication\" file\n",
    "_tmp = pd.read_csv(output_file, sep='\\t', index_col='gene_name')"
   ]
  },
  {
   "cell_type": "code",
   "execution_count": 61,
   "metadata": {},
   "outputs": [
    {
     "data": {
      "text/plain": [
       "(22515, 4091)"
      ]
     },
     "metadata": {},
     "output_type": "display_data"
    },
    {
     "ename": "NameError",
     "evalue": "name 'spredixcan_genes_associations' is not defined",
     "output_type": "error",
     "traceback": [
      "\u001b[0;31m---------------------------------------------------------------------------\u001b[0m",
      "\u001b[0;31mNameError\u001b[0m                                 Traceback (most recent call last)",
      "\u001b[0;32m<ipython-input-61-2295371834bc>\u001b[0m in \u001b[0;36m<module>\u001b[0;34m\u001b[0m\n\u001b[1;32m      1\u001b[0m \u001b[0mdisplay\u001b[0m\u001b[0;34m(\u001b[0m\u001b[0m_tmp\u001b[0m\u001b[0;34m.\u001b[0m\u001b[0mshape\u001b[0m\u001b[0;34m)\u001b[0m\u001b[0;34m\u001b[0m\u001b[0;34m\u001b[0m\u001b[0m\n\u001b[0;32m----> 2\u001b[0;31m \u001b[0;32massert\u001b[0m \u001b[0m_tmp\u001b[0m\u001b[0;34m.\u001b[0m\u001b[0mshape\u001b[0m \u001b[0;34m==\u001b[0m \u001b[0mspredixcan_genes_associations\u001b[0m\u001b[0;34m.\u001b[0m\u001b[0mshape\u001b[0m\u001b[0;34m\u001b[0m\u001b[0;34m\u001b[0m\u001b[0m\n\u001b[0m",
      "\u001b[0;31mNameError\u001b[0m: name 'spredixcan_genes_associations' is not defined"
     ]
    }
   ],
   "source": [
    "display(_tmp.shape)\n",
    "assert _tmp.shape == spredixcan_genes_associations.shape"
   ]
  },
  {
   "cell_type": "code",
   "execution_count": null,
   "metadata": {},
   "outputs": [],
   "source": [
    "_tmp.head()"
   ]
  },
  {
   "cell_type": "code",
   "execution_count": null,
   "metadata": {},
   "outputs": [],
   "source": [
    "assert not _tmp.isin([np.inf, -np.inf]).any().any()"
   ]
  },
  {
   "cell_type": "code",
   "execution_count": null,
   "metadata": {},
   "outputs": [],
   "source": [
    "assert np.array_equal(spredixcan_genes_associations.isna(), _tmp.isna())"
   ]
  },
  {
   "cell_type": "code",
   "execution_count": null,
   "metadata": {},
   "outputs": [],
   "source": [
    "_tmp.isna().any().any()"
   ]
  },
  {
   "cell_type": "code",
   "execution_count": null,
   "metadata": {},
   "outputs": [],
   "source": [
    "_tmp_flat = pd.Series(_tmp.values.flatten()).dropna()\n",
    "assert ((_tmp_flat > 0) & (_tmp_flat <= 1)).all().all()"
   ]
  },
  {
   "cell_type": "code",
   "execution_count": null,
   "metadata": {},
   "outputs": [],
   "source": [
    "assert np.allclose(_tmp.values, spredixcan_genes_associations.values, atol=1e-320, rtol=1e-4, equal_nan=True)"
   ]
  },
  {
   "cell_type": "markdown",
   "metadata": {},
   "source": [
    "## Save zscores"
   ]
  },
  {
   "cell_type": "code",
   "execution_count": 24,
   "metadata": {},
   "outputs": [
    {
     "name": "stderr",
     "output_type": "stream",
     "text": [
      "/mnt/tmp/conda/phenomexcan_final/lib/python3.7/site-packages/scipy/stats/_distn_infrastructure.py:1977: RuntimeWarning: invalid value encountered in greater\n",
      "  cond1 = (0 < q) & (q < 1)\n",
      "/mnt/tmp/conda/phenomexcan_final/lib/python3.7/site-packages/scipy/stats/_distn_infrastructure.py:1977: RuntimeWarning: invalid value encountered in less\n",
      "  cond1 = (0 < q) & (q < 1)\n"
     ]
    },
    {
     "data": {
      "text/plain": [
       "(22515, 4091)"
      ]
     },
     "metadata": {},
     "output_type": "display_data"
    },
    {
     "data": {
      "text/html": [
       "<div>\n",
       "<style scoped>\n",
       "    .dataframe tbody tr th:only-of-type {\n",
       "        vertical-align: middle;\n",
       "    }\n",
       "\n",
       "    .dataframe tbody tr th {\n",
       "        vertical-align: top;\n",
       "    }\n",
       "\n",
       "    .dataframe thead th {\n",
       "        text-align: right;\n",
       "    }\n",
       "</style>\n",
       "<table border=\"1\" class=\"dataframe\">\n",
       "  <thead>\n",
       "    <tr style=\"text-align: right;\">\n",
       "      <th></th>\n",
       "      <th>22617_5223-Job_SOC_coding_Metal_working_production_and_maintenance_fitters</th>\n",
       "      <th>20003_1140911734-Treatmentmedication_code_ginkgo_forte_tablet</th>\n",
       "      <th>136-Number_of_operations_selfreported</th>\n",
       "      <th>I70-Diagnoses_main_ICD10_I70_Atherosclerosis</th>\n",
       "      <th>20003_1141152732-Treatmentmedication_code_mirtazapine</th>\n",
       "      <th>20002_1459-Noncancer_illness_code_selfreported_colitisnot_crohns_or_ulcerative_colitis</th>\n",
       "      <th>20002_1434-Noncancer_illness_code_selfreported_other_neurological_problem</th>\n",
       "      <th>20003_1141195224-Treatmentmedication_code_formoterol</th>\n",
       "      <th>20553_5-Methods_of_selfharm_used_Selfinjury_such_as_selfcutting_scratching_or_hitting_etc</th>\n",
       "      <th>C_CORPUS_UTERI-Malignant_neoplasm_of_corpus_uteri</th>\n",
       "      <th>...</th>\n",
       "      <th>PGC_ADHD_EUR_2017</th>\n",
       "      <th>BCAC_ER_negative_BreastCancer_EUR</th>\n",
       "      <th>SSGAC_Education_Years_Pooled</th>\n",
       "      <th>pgc.scz2</th>\n",
       "      <th>MAGNETIC_HDL.C</th>\n",
       "      <th>MAGIC_ln_FastingInsulin</th>\n",
       "      <th>Astle_et_al_2016_Sum_eosinophil_basophil_counts</th>\n",
       "      <th>SSGAC_Depressive_Symptoms</th>\n",
       "      <th>Jones_et_al_2016_SleepDuration</th>\n",
       "      <th>Astle_et_al_2016_Red_blood_cell_count</th>\n",
       "    </tr>\n",
       "    <tr>\n",
       "      <th>gene_name</th>\n",
       "      <th></th>\n",
       "      <th></th>\n",
       "      <th></th>\n",
       "      <th></th>\n",
       "      <th></th>\n",
       "      <th></th>\n",
       "      <th></th>\n",
       "      <th></th>\n",
       "      <th></th>\n",
       "      <th></th>\n",
       "      <th></th>\n",
       "      <th></th>\n",
       "      <th></th>\n",
       "      <th></th>\n",
       "      <th></th>\n",
       "      <th></th>\n",
       "      <th></th>\n",
       "      <th></th>\n",
       "      <th></th>\n",
       "      <th></th>\n",
       "      <th></th>\n",
       "    </tr>\n",
       "  </thead>\n",
       "  <tbody>\n",
       "    <tr>\n",
       "      <th>ENSG00000000419</th>\n",
       "      <td>0.975874</td>\n",
       "      <td>0.887284</td>\n",
       "      <td>1.897155</td>\n",
       "      <td>0.477317</td>\n",
       "      <td>0.351766</td>\n",
       "      <td>1.783821</td>\n",
       "      <td>3.055707</td>\n",
       "      <td>1.000496</td>\n",
       "      <td>2.048464</td>\n",
       "      <td>0.174428</td>\n",
       "      <td>...</td>\n",
       "      <td>0.024717</td>\n",
       "      <td>0.816922</td>\n",
       "      <td>0.321512</td>\n",
       "      <td>0.510834</td>\n",
       "      <td>2.336462</td>\n",
       "      <td>0.893203</td>\n",
       "      <td>0.223675</td>\n",
       "      <td>0.367414</td>\n",
       "      <td>0.178426</td>\n",
       "      <td>0.824314</td>\n",
       "    </tr>\n",
       "    <tr>\n",
       "      <th>ENSG00000000457</th>\n",
       "      <td>1.132060</td>\n",
       "      <td>0.375510</td>\n",
       "      <td>0.903401</td>\n",
       "      <td>0.634545</td>\n",
       "      <td>1.195559</td>\n",
       "      <td>0.522443</td>\n",
       "      <td>1.306215</td>\n",
       "      <td>1.109150</td>\n",
       "      <td>0.594444</td>\n",
       "      <td>1.302222</td>\n",
       "      <td>...</td>\n",
       "      <td>1.202984</td>\n",
       "      <td>0.472136</td>\n",
       "      <td>0.447472</td>\n",
       "      <td>2.545653</td>\n",
       "      <td>0.350052</td>\n",
       "      <td>1.251757</td>\n",
       "      <td>2.651112</td>\n",
       "      <td>0.414171</td>\n",
       "      <td>0.206143</td>\n",
       "      <td>0.237223</td>\n",
       "    </tr>\n",
       "    <tr>\n",
       "      <th>ENSG00000000460</th>\n",
       "      <td>0.143042</td>\n",
       "      <td>0.508933</td>\n",
       "      <td>0.370603</td>\n",
       "      <td>0.491108</td>\n",
       "      <td>1.263074</td>\n",
       "      <td>0.201105</td>\n",
       "      <td>1.473629</td>\n",
       "      <td>0.390671</td>\n",
       "      <td>0.075748</td>\n",
       "      <td>0.760512</td>\n",
       "      <td>...</td>\n",
       "      <td>1.033308</td>\n",
       "      <td>1.473851</td>\n",
       "      <td>0.458711</td>\n",
       "      <td>0.541782</td>\n",
       "      <td>0.676499</td>\n",
       "      <td>0.640565</td>\n",
       "      <td>2.843532</td>\n",
       "      <td>0.336480</td>\n",
       "      <td>0.785382</td>\n",
       "      <td>0.695624</td>\n",
       "    </tr>\n",
       "    <tr>\n",
       "      <th>ENSG00000000938</th>\n",
       "      <td>0.652887</td>\n",
       "      <td>1.254892</td>\n",
       "      <td>0.677730</td>\n",
       "      <td>2.298324</td>\n",
       "      <td>0.767580</td>\n",
       "      <td>1.643629</td>\n",
       "      <td>0.341100</td>\n",
       "      <td>0.503521</td>\n",
       "      <td>0.855371</td>\n",
       "      <td>0.442922</td>\n",
       "      <td>...</td>\n",
       "      <td>0.540496</td>\n",
       "      <td>1.208182</td>\n",
       "      <td>0.558368</td>\n",
       "      <td>1.886356</td>\n",
       "      <td>0.779920</td>\n",
       "      <td>0.058739</td>\n",
       "      <td>1.635829</td>\n",
       "      <td>0.056432</td>\n",
       "      <td>1.655463</td>\n",
       "      <td>1.494501</td>\n",
       "    </tr>\n",
       "    <tr>\n",
       "      <th>ENSG00000000971</th>\n",
       "      <td>1.154161</td>\n",
       "      <td>0.117332</td>\n",
       "      <td>0.387832</td>\n",
       "      <td>1.077491</td>\n",
       "      <td>1.983998</td>\n",
       "      <td>0.050902</td>\n",
       "      <td>1.851317</td>\n",
       "      <td>0.181141</td>\n",
       "      <td>1.572975</td>\n",
       "      <td>0.333309</td>\n",
       "      <td>...</td>\n",
       "      <td>1.598721</td>\n",
       "      <td>2.044839</td>\n",
       "      <td>2.766758</td>\n",
       "      <td>2.319072</td>\n",
       "      <td>0.773096</td>\n",
       "      <td>0.398527</td>\n",
       "      <td>1.918412</td>\n",
       "      <td>3.004544</td>\n",
       "      <td>0.971837</td>\n",
       "      <td>0.005703</td>\n",
       "    </tr>\n",
       "  </tbody>\n",
       "</table>\n",
       "<p>5 rows × 4091 columns</p>\n",
       "</div>"
      ],
      "text/plain": [
       "                 22617_5223-Job_SOC_coding_Metal_working_production_and_maintenance_fitters  \\\n",
       "gene_name                                                                                     \n",
       "ENSG00000000419                                           0.975874                            \n",
       "ENSG00000000457                                           1.132060                            \n",
       "ENSG00000000460                                           0.143042                            \n",
       "ENSG00000000938                                           0.652887                            \n",
       "ENSG00000000971                                           1.154161                            \n",
       "\n",
       "                 20003_1140911734-Treatmentmedication_code_ginkgo_forte_tablet  \\\n",
       "gene_name                                                                        \n",
       "ENSG00000000419                                           0.887284               \n",
       "ENSG00000000457                                           0.375510               \n",
       "ENSG00000000460                                           0.508933               \n",
       "ENSG00000000938                                           1.254892               \n",
       "ENSG00000000971                                           0.117332               \n",
       "\n",
       "                 136-Number_of_operations_selfreported  \\\n",
       "gene_name                                                \n",
       "ENSG00000000419                               1.897155   \n",
       "ENSG00000000457                               0.903401   \n",
       "ENSG00000000460                               0.370603   \n",
       "ENSG00000000938                               0.677730   \n",
       "ENSG00000000971                               0.387832   \n",
       "\n",
       "                 I70-Diagnoses_main_ICD10_I70_Atherosclerosis  \\\n",
       "gene_name                                                       \n",
       "ENSG00000000419                                      0.477317   \n",
       "ENSG00000000457                                      0.634545   \n",
       "ENSG00000000460                                      0.491108   \n",
       "ENSG00000000938                                      2.298324   \n",
       "ENSG00000000971                                      1.077491   \n",
       "\n",
       "                 20003_1141152732-Treatmentmedication_code_mirtazapine  \\\n",
       "gene_name                                                                \n",
       "ENSG00000000419                                           0.351766       \n",
       "ENSG00000000457                                           1.195559       \n",
       "ENSG00000000460                                           1.263074       \n",
       "ENSG00000000938                                           0.767580       \n",
       "ENSG00000000971                                           1.983998       \n",
       "\n",
       "                 20002_1459-Noncancer_illness_code_selfreported_colitisnot_crohns_or_ulcerative_colitis  \\\n",
       "gene_name                                                                                                 \n",
       "ENSG00000000419                                           1.783821                                        \n",
       "ENSG00000000457                                           0.522443                                        \n",
       "ENSG00000000460                                           0.201105                                        \n",
       "ENSG00000000938                                           1.643629                                        \n",
       "ENSG00000000971                                           0.050902                                        \n",
       "\n",
       "                 20002_1434-Noncancer_illness_code_selfreported_other_neurological_problem  \\\n",
       "gene_name                                                                                    \n",
       "ENSG00000000419                                           3.055707                           \n",
       "ENSG00000000457                                           1.306215                           \n",
       "ENSG00000000460                                           1.473629                           \n",
       "ENSG00000000938                                           0.341100                           \n",
       "ENSG00000000971                                           1.851317                           \n",
       "\n",
       "                 20003_1141195224-Treatmentmedication_code_formoterol  \\\n",
       "gene_name                                                               \n",
       "ENSG00000000419                                           1.000496      \n",
       "ENSG00000000457                                           1.109150      \n",
       "ENSG00000000460                                           0.390671      \n",
       "ENSG00000000938                                           0.503521      \n",
       "ENSG00000000971                                           0.181141      \n",
       "\n",
       "                 20553_5-Methods_of_selfharm_used_Selfinjury_such_as_selfcutting_scratching_or_hitting_etc  \\\n",
       "gene_name                                                                                                    \n",
       "ENSG00000000419                                           2.048464                                           \n",
       "ENSG00000000457                                           0.594444                                           \n",
       "ENSG00000000460                                           0.075748                                           \n",
       "ENSG00000000938                                           0.855371                                           \n",
       "ENSG00000000971                                           1.572975                                           \n",
       "\n",
       "                 C_CORPUS_UTERI-Malignant_neoplasm_of_corpus_uteri  ...  \\\n",
       "gene_name                                                           ...   \n",
       "ENSG00000000419                                           0.174428  ...   \n",
       "ENSG00000000457                                           1.302222  ...   \n",
       "ENSG00000000460                                           0.760512  ...   \n",
       "ENSG00000000938                                           0.442922  ...   \n",
       "ENSG00000000971                                           0.333309  ...   \n",
       "\n",
       "                 PGC_ADHD_EUR_2017  BCAC_ER_negative_BreastCancer_EUR  \\\n",
       "gene_name                                                               \n",
       "ENSG00000000419           0.024717                           0.816922   \n",
       "ENSG00000000457           1.202984                           0.472136   \n",
       "ENSG00000000460           1.033308                           1.473851   \n",
       "ENSG00000000938           0.540496                           1.208182   \n",
       "ENSG00000000971           1.598721                           2.044839   \n",
       "\n",
       "                 SSGAC_Education_Years_Pooled  pgc.scz2  MAGNETIC_HDL.C  \\\n",
       "gene_name                                                                 \n",
       "ENSG00000000419                      0.321512  0.510834        2.336462   \n",
       "ENSG00000000457                      0.447472  2.545653        0.350052   \n",
       "ENSG00000000460                      0.458711  0.541782        0.676499   \n",
       "ENSG00000000938                      0.558368  1.886356        0.779920   \n",
       "ENSG00000000971                      2.766758  2.319072        0.773096   \n",
       "\n",
       "                 MAGIC_ln_FastingInsulin  \\\n",
       "gene_name                                  \n",
       "ENSG00000000419                 0.893203   \n",
       "ENSG00000000457                 1.251757   \n",
       "ENSG00000000460                 0.640565   \n",
       "ENSG00000000938                 0.058739   \n",
       "ENSG00000000971                 0.398527   \n",
       "\n",
       "                 Astle_et_al_2016_Sum_eosinophil_basophil_counts  \\\n",
       "gene_name                                                          \n",
       "ENSG00000000419                                         0.223675   \n",
       "ENSG00000000457                                         2.651112   \n",
       "ENSG00000000460                                         2.843532   \n",
       "ENSG00000000938                                         1.635829   \n",
       "ENSG00000000971                                         1.918412   \n",
       "\n",
       "                 SSGAC_Depressive_Symptoms  Jones_et_al_2016_SleepDuration  \\\n",
       "gene_name                                                                    \n",
       "ENSG00000000419                   0.367414                        0.178426   \n",
       "ENSG00000000457                   0.414171                        0.206143   \n",
       "ENSG00000000460                   0.336480                        0.785382   \n",
       "ENSG00000000938                   0.056432                        1.655463   \n",
       "ENSG00000000971                   3.004544                        0.971837   \n",
       "\n",
       "                 Astle_et_al_2016_Red_blood_cell_count  \n",
       "gene_name                                               \n",
       "ENSG00000000419                               0.824314  \n",
       "ENSG00000000457                               0.237223  \n",
       "ENSG00000000460                               0.695624  \n",
       "ENSG00000000938                               1.494501  \n",
       "ENSG00000000971                               0.005703  \n",
       "\n",
       "[5 rows x 4091 columns]"
      ]
     },
     "metadata": {},
     "output_type": "display_data"
    }
   ],
   "source": [
    "zscores = np.abs(stats.norm.ppf(smultixcan_genes_associations / 2))\n",
    "\n",
    "smultixcan_genes_associations_zscores = pd.DataFrame(zscores, index=smultixcan_genes_associations.index.copy(), columns=smultixcan_genes_associations.columns.copy())\n",
    "\n",
    "display(smultixcan_genes_associations_zscores.shape)\n",
    "display(smultixcan_genes_associations_zscores.head())"
   ]
  },
  {
   "cell_type": "code",
   "execution_count": 25,
   "metadata": {},
   "outputs": [
    {
     "data": {
      "text/plain": [
       "11.031317483379759"
      ]
     },
     "execution_count": 25,
     "metadata": {},
     "output_type": "execute_result"
    }
   ],
   "source": [
    "smultixcan_genes_associations_zscores.loc['ENSG00000158691', 'pgc.scz2']"
   ]
  },
  {
   "cell_type": "code",
   "execution_count": 26,
   "metadata": {},
   "outputs": [],
   "source": [
    "# some testing\n",
    "\n",
    "# For FinnGen\n",
    "assert smultixcan_genes_associations_zscores.loc['ENSG00000110628', 'C_TONGUENAS-Malignant_neoplasm_of_other_and_unspecified_parts_of_tongue'] == 2.8014991958592232\n",
    "assert smultixcan_genes_associations_zscores.loc['ENSG00000169783', 'C_TONGUENAS-Malignant_neoplasm_of_other_and_unspecified_parts_of_tongue'] == 0.8858121525410351\n",
    "assert smultixcan_genes_associations_zscores.loc['ENSG00000137959', 'C_TONGUENAS-Malignant_neoplasm_of_other_and_unspecified_parts_of_tongue'] == 5.021287959552069\n",
    "\n",
    "# For ICD10\n",
    "assert smultixcan_genes_associations_zscores.loc['ENSG00000135775', 'N18-Diagnoses_main_ICD10_N18_Chronic_renal_failure'] == 4.1895505583580785\n",
    "\n",
    "# For extra phenotypes\n",
    "assert smultixcan_genes_associations_zscores.loc['ENSG00000135775', 'MAGIC_ln_FastingInsulin'] == 1.71076773175347\n",
    "assert smultixcan_genes_associations_zscores.loc['ENSG00000169783', 'IMMUNOBASE_Systemic_lupus_erythematosus_hg19'] == 1.5993464052052957\n",
    "assert smultixcan_genes_associations_zscores.loc['ENSG00000158691', 'pgc.scz2'] == 11.031317483379759"
   ]
  },
  {
   "cell_type": "code",
   "execution_count": 27,
   "metadata": {},
   "outputs": [],
   "source": [
    "assert np.array_equal(smultixcan_genes_associations.isna(), smultixcan_genes_associations_zscores.isna())"
   ]
  },
  {
   "cell_type": "markdown",
   "metadata": {},
   "source": [
    "### Remove inf values"
   ]
  },
  {
   "cell_type": "code",
   "execution_count": 34,
   "metadata": {},
   "outputs": [
    {
     "data": {
      "text/plain": [
       "True"
      ]
     },
     "execution_count": 34,
     "metadata": {},
     "output_type": "execute_result"
    }
   ],
   "source": [
    "smultixcan_genes_associations_zscores.isin([np.inf, -np.inf]).any().any()"
   ]
  },
  {
   "cell_type": "code",
   "execution_count": 35,
   "metadata": {},
   "outputs": [],
   "source": [
    "max_zscores = pd.Series(smultixcan_genes_associations_zscores.values.flatten())"
   ]
  },
  {
   "cell_type": "code",
   "execution_count": 36,
   "metadata": {},
   "outputs": [
    {
     "data": {
      "text/plain": [
       "22852908    37.737142\n",
       "21201099    37.723815\n",
       "5437461     37.720171\n",
       "90963967    37.710072\n",
       "21232850    37.698289\n",
       "dtype: float64"
      ]
     },
     "metadata": {},
     "output_type": "display_data"
    }
   ],
   "source": [
    "_tmp = max_zscores.sort_values(ascending=False)\n",
    "display(_tmp[~np.isinf(_tmp)].head())"
   ]
  },
  {
   "cell_type": "code",
   "execution_count": 37,
   "metadata": {},
   "outputs": [
    {
     "data": {
      "text/plain": [
       "69399716    0.0\n",
       "54058455    0.0\n",
       "81104040    0.0\n",
       "81104067    0.0\n",
       "79259031    0.0\n",
       "dtype: float64"
      ]
     },
     "metadata": {},
     "output_type": "display_data"
    }
   ],
   "source": [
    "_tmp = max_zscores.sort_values(ascending=True)\n",
    "display(_tmp.head())"
   ]
  },
  {
   "cell_type": "code",
   "execution_count": 38,
   "metadata": {},
   "outputs": [
    {
     "data": {
      "text/plain": [
       "True"
      ]
     },
     "execution_count": 38,
     "metadata": {},
     "output_type": "execute_result"
    }
   ],
   "source": [
    "smultixcan_genes_associations_zscores.isna().any().any()"
   ]
  },
  {
   "cell_type": "code",
   "execution_count": 39,
   "metadata": {},
   "outputs": [],
   "source": [
    "# replace inf\n",
    "smultixcan_genes_associations_zscores = smultixcan_genes_associations_zscores.replace(np.inf, 40)\n",
    "assert not smultixcan_genes_associations_zscores.isin([np.inf, -np.inf]).any().any()"
   ]
  },
  {
   "cell_type": "markdown",
   "metadata": {},
   "source": [
    "### Save"
   ]
  },
  {
   "cell_type": "code",
   "execution_count": 44,
   "metadata": {},
   "outputs": [
    {
     "data": {
      "text/plain": [
       "(22515, 4091)"
      ]
     },
     "execution_count": 44,
     "metadata": {},
     "output_type": "execute_result"
    }
   ],
   "source": [
    "smultixcan_genes_associations_zscores.shape"
   ]
  },
  {
   "cell_type": "code",
   "execution_count": 45,
   "metadata": {},
   "outputs": [
    {
     "data": {
      "text/html": [
       "<div>\n",
       "<style scoped>\n",
       "    .dataframe tbody tr th:only-of-type {\n",
       "        vertical-align: middle;\n",
       "    }\n",
       "\n",
       "    .dataframe tbody tr th {\n",
       "        vertical-align: top;\n",
       "    }\n",
       "\n",
       "    .dataframe thead th {\n",
       "        text-align: right;\n",
       "    }\n",
       "</style>\n",
       "<table border=\"1\" class=\"dataframe\">\n",
       "  <thead>\n",
       "    <tr style=\"text-align: right;\">\n",
       "      <th></th>\n",
       "      <th>22617_5223-Job_SOC_coding_Metal_working_production_and_maintenance_fitters</th>\n",
       "      <th>20003_1140911734-Treatmentmedication_code_ginkgo_forte_tablet</th>\n",
       "      <th>136-Number_of_operations_selfreported</th>\n",
       "      <th>I70-Diagnoses_main_ICD10_I70_Atherosclerosis</th>\n",
       "      <th>20003_1141152732-Treatmentmedication_code_mirtazapine</th>\n",
       "      <th>20002_1459-Noncancer_illness_code_selfreported_colitisnot_crohns_or_ulcerative_colitis</th>\n",
       "      <th>20002_1434-Noncancer_illness_code_selfreported_other_neurological_problem</th>\n",
       "      <th>20003_1141195224-Treatmentmedication_code_formoterol</th>\n",
       "      <th>20553_5-Methods_of_selfharm_used_Selfinjury_such_as_selfcutting_scratching_or_hitting_etc</th>\n",
       "      <th>C_CORPUS_UTERI-Malignant_neoplasm_of_corpus_uteri</th>\n",
       "      <th>...</th>\n",
       "      <th>PGC_ADHD_EUR_2017</th>\n",
       "      <th>BCAC_ER_negative_BreastCancer_EUR</th>\n",
       "      <th>SSGAC_Education_Years_Pooled</th>\n",
       "      <th>pgc.scz2</th>\n",
       "      <th>MAGNETIC_HDL.C</th>\n",
       "      <th>MAGIC_ln_FastingInsulin</th>\n",
       "      <th>Astle_et_al_2016_Sum_eosinophil_basophil_counts</th>\n",
       "      <th>SSGAC_Depressive_Symptoms</th>\n",
       "      <th>Jones_et_al_2016_SleepDuration</th>\n",
       "      <th>Astle_et_al_2016_Red_blood_cell_count</th>\n",
       "    </tr>\n",
       "    <tr>\n",
       "      <th>gene_name</th>\n",
       "      <th></th>\n",
       "      <th></th>\n",
       "      <th></th>\n",
       "      <th></th>\n",
       "      <th></th>\n",
       "      <th></th>\n",
       "      <th></th>\n",
       "      <th></th>\n",
       "      <th></th>\n",
       "      <th></th>\n",
       "      <th></th>\n",
       "      <th></th>\n",
       "      <th></th>\n",
       "      <th></th>\n",
       "      <th></th>\n",
       "      <th></th>\n",
       "      <th></th>\n",
       "      <th></th>\n",
       "      <th></th>\n",
       "      <th></th>\n",
       "      <th></th>\n",
       "    </tr>\n",
       "  </thead>\n",
       "  <tbody>\n",
       "    <tr>\n",
       "      <th>ENSG00000000419</th>\n",
       "      <td>0.975874</td>\n",
       "      <td>0.887284</td>\n",
       "      <td>1.897155</td>\n",
       "      <td>0.477317</td>\n",
       "      <td>0.351766</td>\n",
       "      <td>1.783821</td>\n",
       "      <td>3.055707</td>\n",
       "      <td>1.000496</td>\n",
       "      <td>2.048464</td>\n",
       "      <td>0.174428</td>\n",
       "      <td>...</td>\n",
       "      <td>0.024717</td>\n",
       "      <td>0.816922</td>\n",
       "      <td>0.321512</td>\n",
       "      <td>0.510834</td>\n",
       "      <td>2.336462</td>\n",
       "      <td>0.893203</td>\n",
       "      <td>0.223675</td>\n",
       "      <td>0.367414</td>\n",
       "      <td>0.178426</td>\n",
       "      <td>0.824314</td>\n",
       "    </tr>\n",
       "    <tr>\n",
       "      <th>ENSG00000000457</th>\n",
       "      <td>1.132060</td>\n",
       "      <td>0.375510</td>\n",
       "      <td>0.903401</td>\n",
       "      <td>0.634545</td>\n",
       "      <td>1.195559</td>\n",
       "      <td>0.522443</td>\n",
       "      <td>1.306215</td>\n",
       "      <td>1.109150</td>\n",
       "      <td>0.594444</td>\n",
       "      <td>1.302222</td>\n",
       "      <td>...</td>\n",
       "      <td>1.202984</td>\n",
       "      <td>0.472136</td>\n",
       "      <td>0.447472</td>\n",
       "      <td>2.545653</td>\n",
       "      <td>0.350052</td>\n",
       "      <td>1.251757</td>\n",
       "      <td>2.651112</td>\n",
       "      <td>0.414171</td>\n",
       "      <td>0.206143</td>\n",
       "      <td>0.237223</td>\n",
       "    </tr>\n",
       "    <tr>\n",
       "      <th>ENSG00000000460</th>\n",
       "      <td>0.143042</td>\n",
       "      <td>0.508933</td>\n",
       "      <td>0.370603</td>\n",
       "      <td>0.491108</td>\n",
       "      <td>1.263074</td>\n",
       "      <td>0.201105</td>\n",
       "      <td>1.473629</td>\n",
       "      <td>0.390671</td>\n",
       "      <td>0.075748</td>\n",
       "      <td>0.760512</td>\n",
       "      <td>...</td>\n",
       "      <td>1.033308</td>\n",
       "      <td>1.473851</td>\n",
       "      <td>0.458711</td>\n",
       "      <td>0.541782</td>\n",
       "      <td>0.676499</td>\n",
       "      <td>0.640565</td>\n",
       "      <td>2.843532</td>\n",
       "      <td>0.336480</td>\n",
       "      <td>0.785382</td>\n",
       "      <td>0.695624</td>\n",
       "    </tr>\n",
       "    <tr>\n",
       "      <th>ENSG00000000938</th>\n",
       "      <td>0.652887</td>\n",
       "      <td>1.254892</td>\n",
       "      <td>0.677730</td>\n",
       "      <td>2.298324</td>\n",
       "      <td>0.767580</td>\n",
       "      <td>1.643629</td>\n",
       "      <td>0.341100</td>\n",
       "      <td>0.503521</td>\n",
       "      <td>0.855371</td>\n",
       "      <td>0.442922</td>\n",
       "      <td>...</td>\n",
       "      <td>0.540496</td>\n",
       "      <td>1.208182</td>\n",
       "      <td>0.558368</td>\n",
       "      <td>1.886356</td>\n",
       "      <td>0.779920</td>\n",
       "      <td>0.058739</td>\n",
       "      <td>1.635829</td>\n",
       "      <td>0.056432</td>\n",
       "      <td>1.655463</td>\n",
       "      <td>1.494501</td>\n",
       "    </tr>\n",
       "    <tr>\n",
       "      <th>ENSG00000000971</th>\n",
       "      <td>1.154161</td>\n",
       "      <td>0.117332</td>\n",
       "      <td>0.387832</td>\n",
       "      <td>1.077491</td>\n",
       "      <td>1.983998</td>\n",
       "      <td>0.050902</td>\n",
       "      <td>1.851317</td>\n",
       "      <td>0.181141</td>\n",
       "      <td>1.572975</td>\n",
       "      <td>0.333309</td>\n",
       "      <td>...</td>\n",
       "      <td>1.598721</td>\n",
       "      <td>2.044839</td>\n",
       "      <td>2.766758</td>\n",
       "      <td>2.319072</td>\n",
       "      <td>0.773096</td>\n",
       "      <td>0.398527</td>\n",
       "      <td>1.918412</td>\n",
       "      <td>3.004544</td>\n",
       "      <td>0.971837</td>\n",
       "      <td>0.005703</td>\n",
       "    </tr>\n",
       "  </tbody>\n",
       "</table>\n",
       "<p>5 rows × 4091 columns</p>\n",
       "</div>"
      ],
      "text/plain": [
       "                 22617_5223-Job_SOC_coding_Metal_working_production_and_maintenance_fitters  \\\n",
       "gene_name                                                                                     \n",
       "ENSG00000000419                                           0.975874                            \n",
       "ENSG00000000457                                           1.132060                            \n",
       "ENSG00000000460                                           0.143042                            \n",
       "ENSG00000000938                                           0.652887                            \n",
       "ENSG00000000971                                           1.154161                            \n",
       "\n",
       "                 20003_1140911734-Treatmentmedication_code_ginkgo_forte_tablet  \\\n",
       "gene_name                                                                        \n",
       "ENSG00000000419                                           0.887284               \n",
       "ENSG00000000457                                           0.375510               \n",
       "ENSG00000000460                                           0.508933               \n",
       "ENSG00000000938                                           1.254892               \n",
       "ENSG00000000971                                           0.117332               \n",
       "\n",
       "                 136-Number_of_operations_selfreported  \\\n",
       "gene_name                                                \n",
       "ENSG00000000419                               1.897155   \n",
       "ENSG00000000457                               0.903401   \n",
       "ENSG00000000460                               0.370603   \n",
       "ENSG00000000938                               0.677730   \n",
       "ENSG00000000971                               0.387832   \n",
       "\n",
       "                 I70-Diagnoses_main_ICD10_I70_Atherosclerosis  \\\n",
       "gene_name                                                       \n",
       "ENSG00000000419                                      0.477317   \n",
       "ENSG00000000457                                      0.634545   \n",
       "ENSG00000000460                                      0.491108   \n",
       "ENSG00000000938                                      2.298324   \n",
       "ENSG00000000971                                      1.077491   \n",
       "\n",
       "                 20003_1141152732-Treatmentmedication_code_mirtazapine  \\\n",
       "gene_name                                                                \n",
       "ENSG00000000419                                           0.351766       \n",
       "ENSG00000000457                                           1.195559       \n",
       "ENSG00000000460                                           1.263074       \n",
       "ENSG00000000938                                           0.767580       \n",
       "ENSG00000000971                                           1.983998       \n",
       "\n",
       "                 20002_1459-Noncancer_illness_code_selfreported_colitisnot_crohns_or_ulcerative_colitis  \\\n",
       "gene_name                                                                                                 \n",
       "ENSG00000000419                                           1.783821                                        \n",
       "ENSG00000000457                                           0.522443                                        \n",
       "ENSG00000000460                                           0.201105                                        \n",
       "ENSG00000000938                                           1.643629                                        \n",
       "ENSG00000000971                                           0.050902                                        \n",
       "\n",
       "                 20002_1434-Noncancer_illness_code_selfreported_other_neurological_problem  \\\n",
       "gene_name                                                                                    \n",
       "ENSG00000000419                                           3.055707                           \n",
       "ENSG00000000457                                           1.306215                           \n",
       "ENSG00000000460                                           1.473629                           \n",
       "ENSG00000000938                                           0.341100                           \n",
       "ENSG00000000971                                           1.851317                           \n",
       "\n",
       "                 20003_1141195224-Treatmentmedication_code_formoterol  \\\n",
       "gene_name                                                               \n",
       "ENSG00000000419                                           1.000496      \n",
       "ENSG00000000457                                           1.109150      \n",
       "ENSG00000000460                                           0.390671      \n",
       "ENSG00000000938                                           0.503521      \n",
       "ENSG00000000971                                           0.181141      \n",
       "\n",
       "                 20553_5-Methods_of_selfharm_used_Selfinjury_such_as_selfcutting_scratching_or_hitting_etc  \\\n",
       "gene_name                                                                                                    \n",
       "ENSG00000000419                                           2.048464                                           \n",
       "ENSG00000000457                                           0.594444                                           \n",
       "ENSG00000000460                                           0.075748                                           \n",
       "ENSG00000000938                                           0.855371                                           \n",
       "ENSG00000000971                                           1.572975                                           \n",
       "\n",
       "                 C_CORPUS_UTERI-Malignant_neoplasm_of_corpus_uteri  ...  \\\n",
       "gene_name                                                           ...   \n",
       "ENSG00000000419                                           0.174428  ...   \n",
       "ENSG00000000457                                           1.302222  ...   \n",
       "ENSG00000000460                                           0.760512  ...   \n",
       "ENSG00000000938                                           0.442922  ...   \n",
       "ENSG00000000971                                           0.333309  ...   \n",
       "\n",
       "                 PGC_ADHD_EUR_2017  BCAC_ER_negative_BreastCancer_EUR  \\\n",
       "gene_name                                                               \n",
       "ENSG00000000419           0.024717                           0.816922   \n",
       "ENSG00000000457           1.202984                           0.472136   \n",
       "ENSG00000000460           1.033308                           1.473851   \n",
       "ENSG00000000938           0.540496                           1.208182   \n",
       "ENSG00000000971           1.598721                           2.044839   \n",
       "\n",
       "                 SSGAC_Education_Years_Pooled  pgc.scz2  MAGNETIC_HDL.C  \\\n",
       "gene_name                                                                 \n",
       "ENSG00000000419                      0.321512  0.510834        2.336462   \n",
       "ENSG00000000457                      0.447472  2.545653        0.350052   \n",
       "ENSG00000000460                      0.458711  0.541782        0.676499   \n",
       "ENSG00000000938                      0.558368  1.886356        0.779920   \n",
       "ENSG00000000971                      2.766758  2.319072        0.773096   \n",
       "\n",
       "                 MAGIC_ln_FastingInsulin  \\\n",
       "gene_name                                  \n",
       "ENSG00000000419                 0.893203   \n",
       "ENSG00000000457                 1.251757   \n",
       "ENSG00000000460                 0.640565   \n",
       "ENSG00000000938                 0.058739   \n",
       "ENSG00000000971                 0.398527   \n",
       "\n",
       "                 Astle_et_al_2016_Sum_eosinophil_basophil_counts  \\\n",
       "gene_name                                                          \n",
       "ENSG00000000419                                         0.223675   \n",
       "ENSG00000000457                                         2.651112   \n",
       "ENSG00000000460                                         2.843532   \n",
       "ENSG00000000938                                         1.635829   \n",
       "ENSG00000000971                                         1.918412   \n",
       "\n",
       "                 SSGAC_Depressive_Symptoms  Jones_et_al_2016_SleepDuration  \\\n",
       "gene_name                                                                    \n",
       "ENSG00000000419                   0.367414                        0.178426   \n",
       "ENSG00000000457                   0.414171                        0.206143   \n",
       "ENSG00000000460                   0.336480                        0.785382   \n",
       "ENSG00000000938                   0.056432                        1.655463   \n",
       "ENSG00000000971                   3.004544                        0.971837   \n",
       "\n",
       "                 Astle_et_al_2016_Red_blood_cell_count  \n",
       "gene_name                                               \n",
       "ENSG00000000419                               0.824314  \n",
       "ENSG00000000457                               0.237223  \n",
       "ENSG00000000460                               0.695624  \n",
       "ENSG00000000938                               1.494501  \n",
       "ENSG00000000971                               0.005703  \n",
       "\n",
       "[5 rows x 4091 columns]"
      ]
     },
     "execution_count": 45,
     "metadata": {},
     "output_type": "execute_result"
    }
   ],
   "source": [
    "smultixcan_genes_associations_zscores.head()"
   ]
  },
  {
   "cell_type": "code",
   "execution_count": 40,
   "metadata": {},
   "outputs": [
    {
     "data": {
      "text/plain": [
       "'/mnt/phenomexcan_base/gene_assoc/smultixcan-mashr-zscores.pkl.xz'"
      ]
     },
     "metadata": {},
     "output_type": "display_data"
    }
   ],
   "source": [
    "# save\n",
    "smultixcan_genes_associations_zscores_filename = os.path.join(conf.GENE_ASSOC_DIR, f'smultixcan-mashr-zscores.pkl.xz')\n",
    "display(smultixcan_genes_associations_zscores_filename)"
   ]
  },
  {
   "cell_type": "code",
   "execution_count": 41,
   "metadata": {},
   "outputs": [],
   "source": [
    "smultixcan_genes_associations_zscores.to_pickle(smultixcan_genes_associations_zscores_filename)"
   ]
  },
  {
   "cell_type": "code",
   "execution_count": null,
   "metadata": {},
   "outputs": [],
   "source": []
  }
 ],
 "metadata": {
  "kernelspec": {
   "display_name": "Python 3",
   "language": "python",
   "name": "python3"
  },
  "language_info": {
   "codemirror_mode": {
    "name": "ipython",
    "version": 3
   },
   "file_extension": ".py",
   "mimetype": "text/x-python",
   "name": "python",
   "nbconvert_exporter": "python",
   "pygments_lexer": "ipython3",
   "version": "3.7.5"
  }
 },
 "nbformat": 4,
 "nbformat_minor": 4
}
