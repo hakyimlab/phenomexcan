{
 "cells": [
  {
   "cell_type": "code",
   "execution_count": 1,
   "metadata": {
    "papermill": {
     "duration": 0.082292,
     "end_time": "2019-11-28T21:25:21.445132",
     "exception": false,
     "start_time": "2019-11-28T21:25:21.362840",
     "status": "completed"
    },
    "tags": []
   },
   "outputs": [],
   "source": [
    "%load_ext autoreload\n",
    "%autoreload 2"
   ]
  },
  {
   "cell_type": "code",
   "execution_count": 2,
   "metadata": {
    "papermill": {
     "duration": 2.798664,
     "end_time": "2019-11-28T21:25:24.281878",
     "exception": false,
     "start_time": "2019-11-28T21:25:21.483214",
     "status": "completed"
    },
    "tags": []
   },
   "outputs": [],
   "source": [
    "import os\n",
    "import pickle\n",
    "from glob import glob\n",
    "from concurrent.futures import ProcessPoolExecutor, as_completed\n",
    "\n",
    "import numpy as np\n",
    "import pandas as pd\n",
    "from scipy import stats\n",
    "\n",
    "import settings as conf\n",
    "from utils import is_number, chunker"
   ]
  },
  {
   "cell_type": "markdown",
   "metadata": {
    "papermill": {
     "duration": 0.036539,
     "end_time": "2019-11-28T21:25:24.362047",
     "exception": false,
     "start_time": "2019-11-28T21:25:24.325508",
     "status": "completed"
    },
    "tags": []
   },
   "source": [
    "# Load S-PrediXcan results"
   ]
  },
  {
   "cell_type": "markdown",
   "metadata": {
    "papermill": {
     "duration": 0.035555,
     "end_time": "2019-11-28T21:25:24.436231",
     "exception": false,
     "start_time": "2019-11-28T21:25:24.400676",
     "status": "completed"
    },
    "tags": []
   },
   "source": [
    "## From Rapid GWAS project"
   ]
  },
  {
   "cell_type": "code",
   "execution_count": 3,
   "metadata": {
    "papermill": {
     "duration": 1.379464,
     "end_time": "2019-11-28T21:25:25.851432",
     "exception": false,
     "start_time": "2019-11-28T21:25:24.471968",
     "status": "completed"
    },
    "tags": []
   },
   "outputs": [],
   "source": [
    "from results.spredixcan import PhenoResults"
   ]
  },
  {
   "cell_type": "code",
   "execution_count": 4,
   "metadata": {
    "papermill": {
     "duration": 0.121024,
     "end_time": "2019-11-28T21:25:26.010412",
     "exception": false,
     "start_time": "2019-11-28T21:25:25.889388",
     "status": "completed"
    },
    "tags": []
   },
   "outputs": [
    {
     "data": {
      "text/plain": [
       "'/mnt/phenomexcan_base/results/spredixcan/rapid_gwas_project/*'"
      ]
     },
     "metadata": {},
     "output_type": "display_data"
    },
    {
     "data": {
      "text/plain": [
       "4049"
      ]
     },
     "metadata": {},
     "output_type": "display_data"
    }
   ],
   "source": [
    "_path = os.path.join(conf.SPREDIXCAN_RESULTS_DIR['RapidGWASProject'] + '/*')\n",
    "display(_path)\n",
    "all_spredixcan_results_dirs = glob(_path)\n",
    "display(len(all_spredixcan_results_dirs))\n",
    "assert len(all_spredixcan_results_dirs) == conf.SPREDIXCAN_EXPECTED_PHENOTYPES['RapidGWASProject']"
   ]
  },
  {
   "cell_type": "code",
   "execution_count": 5,
   "metadata": {
    "papermill": {
     "duration": 45.512082,
     "end_time": "2019-11-28T21:26:11.562780",
     "exception": false,
     "start_time": "2019-11-28T21:25:26.050698",
     "status": "completed"
    },
    "tags": []
   },
   "outputs": [
    {
     "data": {
      "text/plain": [
       "4049"
      ]
     },
     "metadata": {},
     "output_type": "display_data"
    }
   ],
   "source": [
    "all_spredixcan_phenotypes = [PhenoResults(p) for p in all_spredixcan_results_dirs]\n",
    "\n",
    "display(len(all_spredixcan_phenotypes))\n",
    "assert len(all_spredixcan_phenotypes) == conf.SPREDIXCAN_EXPECTED_PHENOTYPES['RapidGWASProject']"
   ]
  },
  {
   "cell_type": "markdown",
   "metadata": {
    "papermill": {
     "duration": 0.037059,
     "end_time": "2019-11-28T21:26:11.645106",
     "exception": false,
     "start_time": "2019-11-28T21:26:11.608047",
     "status": "completed"
    },
    "tags": []
   },
   "source": [
    "## From GTEx GWAS manuscript"
   ]
  },
  {
   "cell_type": "code",
   "execution_count": 6,
   "metadata": {
    "papermill": {
     "duration": 0.1189,
     "end_time": "2019-11-28T21:26:11.801462",
     "exception": false,
     "start_time": "2019-11-28T21:26:11.682562",
     "status": "completed"
    },
    "tags": []
   },
   "outputs": [
    {
     "data": {
      "text/plain": [
       "'/mnt/phenomexcan_base/results/spredixcan/gtex_gwas/*'"
      ]
     },
     "metadata": {},
     "output_type": "display_data"
    },
    {
     "data": {
      "text/plain": [
       "42"
      ]
     },
     "metadata": {},
     "output_type": "display_data"
    }
   ],
   "source": [
    "_path = os.path.join(conf.SPREDIXCAN_RESULTS_DIR['GTEX_GWAS'] + '/*')\n",
    "display(_path)\n",
    "all_extra_results_dirs = glob(_path)\n",
    "display(len(all_extra_results_dirs))\n",
    "assert len(all_extra_results_dirs) == conf.SPREDIXCAN_EXPECTED_PHENOTYPES['GTEX_GWAS']"
   ]
  },
  {
   "cell_type": "code",
   "execution_count": 7,
   "metadata": {
    "papermill": {
     "duration": 0.072421,
     "end_time": "2019-11-28T21:26:11.914749",
     "exception": false,
     "start_time": "2019-11-28T21:26:11.842328",
     "status": "completed"
    },
    "tags": []
   },
   "outputs": [
    {
     "data": {
      "text/plain": [
       "['/mnt/phenomexcan_base/results/spredixcan/gtex_gwas/PGC_ADHD_EUR_2017',\n",
       " '/mnt/phenomexcan_base/results/spredixcan/gtex_gwas/CNCR_Insomnia_all',\n",
       " '/mnt/phenomexcan_base/results/spredixcan/gtex_gwas/IMMUNOBASE_Systemic_lupus_erythematosus_hg19',\n",
       " '/mnt/phenomexcan_base/results/spredixcan/gtex_gwas/Astle_et_al_2016_Reticulocyte_count',\n",
       " '/mnt/phenomexcan_base/results/spredixcan/gtex_gwas/Astle_et_al_2016_Granulocyte_count']"
      ]
     },
     "execution_count": 7,
     "metadata": {},
     "output_type": "execute_result"
    }
   ],
   "source": [
    "all_extra_results_dirs[:5]"
   ]
  },
  {
   "cell_type": "code",
   "execution_count": 8,
   "metadata": {
    "papermill": {
     "duration": 0.151292,
     "end_time": "2019-11-28T21:26:12.108413",
     "exception": false,
     "start_time": "2019-11-28T21:26:11.957121",
     "status": "completed"
    },
    "tags": []
   },
   "outputs": [
    {
     "data": {
      "text/plain": [
       "42"
      ]
     },
     "metadata": {},
     "output_type": "display_data"
    }
   ],
   "source": [
    "_file_pattern = 'spredixcan_igwas_gtexmashrv8_(?P<code>[^/]+)__PM__(?P<tissue>.+)\\.csv$'\n",
    "all_extra_phenotypes = [PhenoResults(p, _file_pattern) for p in all_extra_results_dirs]\n",
    "all_extra_phenotypes_plain_names = pd.Index([p.pheno_info.get_plain_name() for p in all_extra_phenotypes])\n",
    "\n",
    "display(len(all_extra_phenotypes))\n",
    "assert len(all_extra_phenotypes) == conf.SMULTIXCAN_EXPECTED_PHENOTYPES['GTEX_GWAS']"
   ]
  },
  {
   "cell_type": "markdown",
   "metadata": {
    "papermill": {
     "duration": 0.039395,
     "end_time": "2019-11-28T21:26:12.189801",
     "exception": false,
     "start_time": "2019-11-28T21:26:12.150406",
     "status": "completed"
    },
    "tags": []
   },
   "source": [
    "# S-PrediXcan: direction of effect"
   ]
  },
  {
   "cell_type": "markdown",
   "metadata": {
    "papermill": {
     "duration": 0.606676,
     "end_time": "2019-11-28T21:26:12.843435",
     "exception": false,
     "start_time": "2019-11-28T21:26:12.236759",
     "status": "completed"
    },
    "tags": []
   },
   "source": [
    "## Effect direction: most significant"
   ]
  },
  {
   "cell_type": "markdown",
   "metadata": {
    "papermill": {
     "duration": 0.409717,
     "end_time": "2019-11-28T21:26:13.552369",
     "exception": false,
     "start_time": "2019-11-28T21:26:13.142652",
     "status": "completed"
    },
    "tags": []
   },
   "source": [
    "### Compute results"
   ]
  },
  {
   "cell_type": "code",
   "execution_count": 9,
   "metadata": {
    "papermill": {
     "duration": 0.458009,
     "end_time": "2019-11-28T21:26:14.390695",
     "exception": false,
     "start_time": "2019-11-28T21:26:13.932686",
     "status": "completed"
    },
    "tags": []
   },
   "outputs": [],
   "source": [
    "def _get_combined_results(phenos):\n",
    "    return {\n",
    "        pheno.pheno_info.get_plain_name():\n",
    "            pheno.get_most_significant_effect_direction()\n",
    "        for pheno in phenos\n",
    "    }"
   ]
  },
  {
   "cell_type": "code",
   "execution_count": 10,
   "metadata": {
    "papermill": {
     "duration": 0.171573,
     "end_time": "2019-11-28T21:26:14.819550",
     "exception": false,
     "start_time": "2019-11-28T21:26:14.647977",
     "status": "completed"
    },
    "tags": []
   },
   "outputs": [],
   "source": [
    "def _run_all(phenotype_chunks, n_jobs=conf.N_JOBS_HIGH):\n",
    "    all_results = {}\n",
    "    \n",
    "    with ProcessPoolExecutor(max_workers=n_jobs) as executor:\n",
    "        tasks = [executor.submit(_get_combined_results, chunk) for chunk in phenotype_chunks]\n",
    "        for future in as_completed(tasks):\n",
    "            res = future.result()\n",
    "            all_results.update(res)\n",
    "    \n",
    "    return all_results"
   ]
  },
  {
   "cell_type": "code",
   "execution_count": 11,
   "metadata": {
    "papermill": {
     "duration": 0.08644,
     "end_time": "2019-11-28T21:26:14.952100",
     "exception": false,
     "start_time": "2019-11-28T21:26:14.865660",
     "status": "completed"
    },
    "tags": []
   },
   "outputs": [],
   "source": [
    "# phenotype_chunks = chunker(all_spredixcan_phenotypes[:5] + all_extra_phenotypes[:5], 2)\n",
    "phenotype_chunks = chunker(all_spredixcan_phenotypes + all_extra_phenotypes, 25)"
   ]
  },
  {
   "cell_type": "code",
   "execution_count": 12,
   "metadata": {
    "papermill": {
     "duration": 13695.092439,
     "end_time": "2019-11-29T01:14:30.087191",
     "exception": false,
     "start_time": "2019-11-28T21:26:14.994752",
     "status": "completed"
    },
    "tags": []
   },
   "outputs": [],
   "source": [
    "all_results = _run_all(phenotype_chunks, n_jobs=20)"
   ]
  },
  {
   "cell_type": "code",
   "execution_count": 13,
   "metadata": {
    "papermill": {
     "duration": 0.13082,
     "end_time": "2019-11-29T01:14:30.284562",
     "exception": false,
     "start_time": "2019-11-29T01:14:30.153742",
     "status": "completed"
    },
    "tags": []
   },
   "outputs": [
    {
     "data": {
      "text/plain": [
       "4091"
      ]
     },
     "execution_count": 13,
     "metadata": {},
     "output_type": "execute_result"
    }
   ],
   "source": [
    "len(all_results)"
   ]
  },
  {
   "cell_type": "markdown",
   "metadata": {
    "papermill": {
     "duration": 0.030886,
     "end_time": "2019-11-29T01:14:30.353938",
     "exception": false,
     "start_time": "2019-11-29T01:14:30.323052",
     "status": "completed"
    },
    "tags": []
   },
   "source": [
    "### Create DataFrame"
   ]
  },
  {
   "cell_type": "code",
   "execution_count": 14,
   "metadata": {
    "papermill": {
     "duration": 0.079763,
     "end_time": "2019-11-29T01:14:30.464819",
     "exception": false,
     "start_time": "2019-11-29T01:14:30.385056",
     "status": "completed"
    },
    "tags": []
   },
   "outputs": [
    {
     "data": {
      "text/plain": [
       "4091"
      ]
     },
     "metadata": {},
     "output_type": "display_data"
    }
   ],
   "source": [
    "_n_expected_phenos = np.sum(list(conf.SMULTIXCAN_EXPECTED_PHENOTYPES.values()))\n",
    "display(_n_expected_phenos)\n",
    "assert len(all_results) == _n_expected_phenos, len(all_results)"
   ]
  },
  {
   "cell_type": "code",
   "execution_count": 15,
   "metadata": {
    "papermill": {
     "duration": 76.807065,
     "end_time": "2019-11-29T01:15:47.304001",
     "exception": false,
     "start_time": "2019-11-29T01:14:30.496936",
     "status": "completed"
    },
    "tags": []
   },
   "outputs": [
    {
     "data": {
      "text/plain": [
       "(22518, 4091)"
      ]
     },
     "metadata": {},
     "output_type": "display_data"
    },
    {
     "data": {
      "text/html": [
       "<div>\n",
       "<style scoped>\n",
       "    .dataframe tbody tr th:only-of-type {\n",
       "        vertical-align: middle;\n",
       "    }\n",
       "\n",
       "    .dataframe tbody tr th {\n",
       "        vertical-align: top;\n",
       "    }\n",
       "\n",
       "    .dataframe thead th {\n",
       "        text-align: right;\n",
       "    }\n",
       "</style>\n",
       "<table border=\"1\" class=\"dataframe\">\n",
       "  <thead>\n",
       "    <tr style=\"text-align: right;\">\n",
       "      <th></th>\n",
       "      <th>22617_9219-Job_SOC_coding_Elementary_office_occupations_nec</th>\n",
       "      <th>6157_3-Why_stopped_smoking_Health_precaution</th>\n",
       "      <th>I50-Diagnoses_main_ICD10_I50_Heart_failure</th>\n",
       "      <th>20003_1140874370-Treatmentmedication_code_aciclovir</th>\n",
       "      <th>N02-Diagnoses_main_ICD10_N02_Recurrent_and_persistent_haematuria</th>\n",
       "      <th>20002_1585-Noncancer_illness_code_selfreported_mitral_regurgitation_incompetence</th>\n",
       "      <th>6138_6-Qualifications_Other_professional_qualifications_eg_nursing_teaching</th>\n",
       "      <th>20003_1140869930-Treatmentmedication_code_azathioprine</th>\n",
       "      <th>102800-Cheese_consumers</th>\n",
       "      <th>40001_C159-Underlying_primary_cause_of_death_ICD10_C159_Oesophagus_unspecified</th>\n",
       "      <th>...</th>\n",
       "      <th>20002_1638-Noncancer_illness_code_selfreported_fracture_hand</th>\n",
       "      <th>102330-Sweets_intake</th>\n",
       "      <th>2492-Taking_other_prescription_medications</th>\n",
       "      <th>22601_81222848-Job_coding_coal_worker_or_miner_surface_or_underground</th>\n",
       "      <th>20090_380-Type_of_fatoil_used_in_cooking_Normal_fat_dairy_spread</th>\n",
       "      <th>1011-Frequency_of_light_DIY_in_last_4_weeks</th>\n",
       "      <th>20003_1141171152-Treatmentmedication_code_cardicor_125mg_tablet</th>\n",
       "      <th>L12_ATROPHICSKIN-Atrophic_disorders_of_skin</th>\n",
       "      <th>20003_1141164276-Treatmentmedication_code_nebivolol</th>\n",
       "      <th>PGC_ADHD_EUR_2017</th>\n",
       "    </tr>\n",
       "    <tr>\n",
       "      <th>gene_name</th>\n",
       "      <th></th>\n",
       "      <th></th>\n",
       "      <th></th>\n",
       "      <th></th>\n",
       "      <th></th>\n",
       "      <th></th>\n",
       "      <th></th>\n",
       "      <th></th>\n",
       "      <th></th>\n",
       "      <th></th>\n",
       "      <th></th>\n",
       "      <th></th>\n",
       "      <th></th>\n",
       "      <th></th>\n",
       "      <th></th>\n",
       "      <th></th>\n",
       "      <th></th>\n",
       "      <th></th>\n",
       "      <th></th>\n",
       "      <th></th>\n",
       "      <th></th>\n",
       "    </tr>\n",
       "  </thead>\n",
       "  <tbody>\n",
       "    <tr>\n",
       "      <th>ENSG00000000419</th>\n",
       "      <td>-1.0</td>\n",
       "      <td>1.0</td>\n",
       "      <td>1.0</td>\n",
       "      <td>-1.0</td>\n",
       "      <td>-1.0</td>\n",
       "      <td>-1.0</td>\n",
       "      <td>1.0</td>\n",
       "      <td>1.0</td>\n",
       "      <td>1.0</td>\n",
       "      <td>1.0</td>\n",
       "      <td>...</td>\n",
       "      <td>1.0</td>\n",
       "      <td>-1.0</td>\n",
       "      <td>-1.0</td>\n",
       "      <td>1.0</td>\n",
       "      <td>-1.0</td>\n",
       "      <td>1.0</td>\n",
       "      <td>1.0</td>\n",
       "      <td>-1.0</td>\n",
       "      <td>1.0</td>\n",
       "      <td>-1.0</td>\n",
       "    </tr>\n",
       "    <tr>\n",
       "      <th>ENSG00000000457</th>\n",
       "      <td>1.0</td>\n",
       "      <td>-1.0</td>\n",
       "      <td>-1.0</td>\n",
       "      <td>-1.0</td>\n",
       "      <td>1.0</td>\n",
       "      <td>-1.0</td>\n",
       "      <td>1.0</td>\n",
       "      <td>-1.0</td>\n",
       "      <td>-1.0</td>\n",
       "      <td>1.0</td>\n",
       "      <td>...</td>\n",
       "      <td>-1.0</td>\n",
       "      <td>1.0</td>\n",
       "      <td>-1.0</td>\n",
       "      <td>-1.0</td>\n",
       "      <td>-1.0</td>\n",
       "      <td>-1.0</td>\n",
       "      <td>1.0</td>\n",
       "      <td>-1.0</td>\n",
       "      <td>1.0</td>\n",
       "      <td>1.0</td>\n",
       "    </tr>\n",
       "    <tr>\n",
       "      <th>ENSG00000000460</th>\n",
       "      <td>-1.0</td>\n",
       "      <td>-1.0</td>\n",
       "      <td>1.0</td>\n",
       "      <td>-1.0</td>\n",
       "      <td>-1.0</td>\n",
       "      <td>-1.0</td>\n",
       "      <td>1.0</td>\n",
       "      <td>-1.0</td>\n",
       "      <td>-1.0</td>\n",
       "      <td>1.0</td>\n",
       "      <td>...</td>\n",
       "      <td>-1.0</td>\n",
       "      <td>0.0</td>\n",
       "      <td>1.0</td>\n",
       "      <td>0.0</td>\n",
       "      <td>1.0</td>\n",
       "      <td>1.0</td>\n",
       "      <td>1.0</td>\n",
       "      <td>-1.0</td>\n",
       "      <td>1.0</td>\n",
       "      <td>-1.0</td>\n",
       "    </tr>\n",
       "    <tr>\n",
       "      <th>ENSG00000000938</th>\n",
       "      <td>1.0</td>\n",
       "      <td>1.0</td>\n",
       "      <td>-1.0</td>\n",
       "      <td>-1.0</td>\n",
       "      <td>-1.0</td>\n",
       "      <td>1.0</td>\n",
       "      <td>1.0</td>\n",
       "      <td>1.0</td>\n",
       "      <td>0.0</td>\n",
       "      <td>1.0</td>\n",
       "      <td>...</td>\n",
       "      <td>1.0</td>\n",
       "      <td>1.0</td>\n",
       "      <td>-1.0</td>\n",
       "      <td>1.0</td>\n",
       "      <td>0.0</td>\n",
       "      <td>1.0</td>\n",
       "      <td>-1.0</td>\n",
       "      <td>1.0</td>\n",
       "      <td>1.0</td>\n",
       "      <td>1.0</td>\n",
       "    </tr>\n",
       "    <tr>\n",
       "      <th>ENSG00000000971</th>\n",
       "      <td>1.0</td>\n",
       "      <td>1.0</td>\n",
       "      <td>1.0</td>\n",
       "      <td>1.0</td>\n",
       "      <td>-1.0</td>\n",
       "      <td>-1.0</td>\n",
       "      <td>-1.0</td>\n",
       "      <td>-1.0</td>\n",
       "      <td>1.0</td>\n",
       "      <td>-1.0</td>\n",
       "      <td>...</td>\n",
       "      <td>-1.0</td>\n",
       "      <td>-1.0</td>\n",
       "      <td>1.0</td>\n",
       "      <td>1.0</td>\n",
       "      <td>1.0</td>\n",
       "      <td>1.0</td>\n",
       "      <td>-1.0</td>\n",
       "      <td>-1.0</td>\n",
       "      <td>-1.0</td>\n",
       "      <td>1.0</td>\n",
       "    </tr>\n",
       "  </tbody>\n",
       "</table>\n",
       "<p>5 rows × 4091 columns</p>\n",
       "</div>"
      ],
      "text/plain": [
       "                22617_9219-Job_SOC_coding_Elementary_office_occupations_nec  \\\n",
       "gene_name                                                                     \n",
       "ENSG00000000419                                               -1.0            \n",
       "ENSG00000000457                                                1.0            \n",
       "ENSG00000000460                                               -1.0            \n",
       "ENSG00000000938                                                1.0            \n",
       "ENSG00000000971                                                1.0            \n",
       "\n",
       "                6157_3-Why_stopped_smoking_Health_precaution  \\\n",
       "gene_name                                                      \n",
       "ENSG00000000419                                          1.0   \n",
       "ENSG00000000457                                         -1.0   \n",
       "ENSG00000000460                                         -1.0   \n",
       "ENSG00000000938                                          1.0   \n",
       "ENSG00000000971                                          1.0   \n",
       "\n",
       "                I50-Diagnoses_main_ICD10_I50_Heart_failure  \\\n",
       "gene_name                                                    \n",
       "ENSG00000000419                                        1.0   \n",
       "ENSG00000000457                                       -1.0   \n",
       "ENSG00000000460                                        1.0   \n",
       "ENSG00000000938                                       -1.0   \n",
       "ENSG00000000971                                        1.0   \n",
       "\n",
       "                20003_1140874370-Treatmentmedication_code_aciclovir  \\\n",
       "gene_name                                                             \n",
       "ENSG00000000419                                               -1.0    \n",
       "ENSG00000000457                                               -1.0    \n",
       "ENSG00000000460                                               -1.0    \n",
       "ENSG00000000938                                               -1.0    \n",
       "ENSG00000000971                                                1.0    \n",
       "\n",
       "                N02-Diagnoses_main_ICD10_N02_Recurrent_and_persistent_haematuria  \\\n",
       "gene_name                                                                          \n",
       "ENSG00000000419                                               -1.0                 \n",
       "ENSG00000000457                                                1.0                 \n",
       "ENSG00000000460                                               -1.0                 \n",
       "ENSG00000000938                                               -1.0                 \n",
       "ENSG00000000971                                               -1.0                 \n",
       "\n",
       "                20002_1585-Noncancer_illness_code_selfreported_mitral_regurgitation_incompetence  \\\n",
       "gene_name                                                                                          \n",
       "ENSG00000000419                                               -1.0                                 \n",
       "ENSG00000000457                                               -1.0                                 \n",
       "ENSG00000000460                                               -1.0                                 \n",
       "ENSG00000000938                                                1.0                                 \n",
       "ENSG00000000971                                               -1.0                                 \n",
       "\n",
       "                6138_6-Qualifications_Other_professional_qualifications_eg_nursing_teaching  \\\n",
       "gene_name                                                                                     \n",
       "ENSG00000000419                                                1.0                            \n",
       "ENSG00000000457                                                1.0                            \n",
       "ENSG00000000460                                                1.0                            \n",
       "ENSG00000000938                                                1.0                            \n",
       "ENSG00000000971                                               -1.0                            \n",
       "\n",
       "                20003_1140869930-Treatmentmedication_code_azathioprine  \\\n",
       "gene_name                                                                \n",
       "ENSG00000000419                                                1.0       \n",
       "ENSG00000000457                                               -1.0       \n",
       "ENSG00000000460                                               -1.0       \n",
       "ENSG00000000938                                                1.0       \n",
       "ENSG00000000971                                               -1.0       \n",
       "\n",
       "                102800-Cheese_consumers  \\\n",
       "gene_name                                 \n",
       "ENSG00000000419                     1.0   \n",
       "ENSG00000000457                    -1.0   \n",
       "ENSG00000000460                    -1.0   \n",
       "ENSG00000000938                     0.0   \n",
       "ENSG00000000971                     1.0   \n",
       "\n",
       "                40001_C159-Underlying_primary_cause_of_death_ICD10_C159_Oesophagus_unspecified  \\\n",
       "gene_name                                                                                        \n",
       "ENSG00000000419                                                1.0                               \n",
       "ENSG00000000457                                                1.0                               \n",
       "ENSG00000000460                                                1.0                               \n",
       "ENSG00000000938                                                1.0                               \n",
       "ENSG00000000971                                               -1.0                               \n",
       "\n",
       "                 ...  \\\n",
       "gene_name        ...   \n",
       "ENSG00000000419  ...   \n",
       "ENSG00000000457  ...   \n",
       "ENSG00000000460  ...   \n",
       "ENSG00000000938  ...   \n",
       "ENSG00000000971  ...   \n",
       "\n",
       "                20002_1638-Noncancer_illness_code_selfreported_fracture_hand  \\\n",
       "gene_name                                                                      \n",
       "ENSG00000000419                                                1.0             \n",
       "ENSG00000000457                                               -1.0             \n",
       "ENSG00000000460                                               -1.0             \n",
       "ENSG00000000938                                                1.0             \n",
       "ENSG00000000971                                               -1.0             \n",
       "\n",
       "                102330-Sweets_intake  \\\n",
       "gene_name                              \n",
       "ENSG00000000419                 -1.0   \n",
       "ENSG00000000457                  1.0   \n",
       "ENSG00000000460                  0.0   \n",
       "ENSG00000000938                  1.0   \n",
       "ENSG00000000971                 -1.0   \n",
       "\n",
       "                2492-Taking_other_prescription_medications  \\\n",
       "gene_name                                                    \n",
       "ENSG00000000419                                       -1.0   \n",
       "ENSG00000000457                                       -1.0   \n",
       "ENSG00000000460                                        1.0   \n",
       "ENSG00000000938                                       -1.0   \n",
       "ENSG00000000971                                        1.0   \n",
       "\n",
       "                22601_81222848-Job_coding_coal_worker_or_miner_surface_or_underground  \\\n",
       "gene_name                                                                               \n",
       "ENSG00000000419                                                1.0                      \n",
       "ENSG00000000457                                               -1.0                      \n",
       "ENSG00000000460                                                0.0                      \n",
       "ENSG00000000938                                                1.0                      \n",
       "ENSG00000000971                                                1.0                      \n",
       "\n",
       "                20090_380-Type_of_fatoil_used_in_cooking_Normal_fat_dairy_spread  \\\n",
       "gene_name                                                                          \n",
       "ENSG00000000419                                               -1.0                 \n",
       "ENSG00000000457                                               -1.0                 \n",
       "ENSG00000000460                                                1.0                 \n",
       "ENSG00000000938                                                0.0                 \n",
       "ENSG00000000971                                                1.0                 \n",
       "\n",
       "                1011-Frequency_of_light_DIY_in_last_4_weeks  \\\n",
       "gene_name                                                     \n",
       "ENSG00000000419                                         1.0   \n",
       "ENSG00000000457                                        -1.0   \n",
       "ENSG00000000460                                         1.0   \n",
       "ENSG00000000938                                         1.0   \n",
       "ENSG00000000971                                         1.0   \n",
       "\n",
       "                20003_1141171152-Treatmentmedication_code_cardicor_125mg_tablet  \\\n",
       "gene_name                                                                         \n",
       "ENSG00000000419                                                1.0                \n",
       "ENSG00000000457                                                1.0                \n",
       "ENSG00000000460                                                1.0                \n",
       "ENSG00000000938                                               -1.0                \n",
       "ENSG00000000971                                               -1.0                \n",
       "\n",
       "                L12_ATROPHICSKIN-Atrophic_disorders_of_skin  \\\n",
       "gene_name                                                     \n",
       "ENSG00000000419                                        -1.0   \n",
       "ENSG00000000457                                        -1.0   \n",
       "ENSG00000000460                                        -1.0   \n",
       "ENSG00000000938                                         1.0   \n",
       "ENSG00000000971                                        -1.0   \n",
       "\n",
       "                20003_1141164276-Treatmentmedication_code_nebivolol  \\\n",
       "gene_name                                                             \n",
       "ENSG00000000419                                                1.0    \n",
       "ENSG00000000457                                                1.0    \n",
       "ENSG00000000460                                                1.0    \n",
       "ENSG00000000938                                                1.0    \n",
       "ENSG00000000971                                               -1.0    \n",
       "\n",
       "                PGC_ADHD_EUR_2017  \n",
       "gene_name                          \n",
       "ENSG00000000419              -1.0  \n",
       "ENSG00000000457               1.0  \n",
       "ENSG00000000460              -1.0  \n",
       "ENSG00000000938               1.0  \n",
       "ENSG00000000971               1.0  \n",
       "\n",
       "[5 rows x 4091 columns]"
      ]
     },
     "metadata": {},
     "output_type": "display_data"
    }
   ],
   "source": [
    "# the category dtype is for efficiency in storage/loading\n",
    "spredixcan_genes_effect_directions = pd.DataFrame(all_results, dtype='category')\n",
    "spredixcan_genes_effect_directions.index.rename('gene_name', inplace=True)\n",
    "\n",
    "assert spredixcan_genes_effect_directions.index.is_unique\n",
    "\n",
    "display(spredixcan_genes_effect_directions.shape)\n",
    "display(spredixcan_genes_effect_directions.head())"
   ]
  },
  {
   "cell_type": "code",
   "execution_count": 16,
   "metadata": {
    "papermill": {
     "duration": 0.093315,
     "end_time": "2019-11-29T01:15:47.458820",
     "exception": false,
     "start_time": "2019-11-29T01:15:47.365505",
     "status": "completed"
    },
    "tags": []
   },
   "outputs": [],
   "source": [
    "# Remove genes with no results\n",
    "#spredixcan_genes_effect_directions = spredixcan_genes_effect_directions.dropna(axis=0, how='all')"
   ]
  },
  {
   "cell_type": "code",
   "execution_count": 17,
   "metadata": {
    "papermill": {
     "duration": 10.71897,
     "end_time": "2019-11-29T01:15:58.227874",
     "exception": false,
     "start_time": "2019-11-29T01:15:47.508904",
     "status": "completed"
    },
    "tags": []
   },
   "outputs": [
    {
     "data": {
      "text/plain": [
       "1065328"
      ]
     },
     "execution_count": 17,
     "metadata": {},
     "output_type": "execute_result"
    }
   ],
   "source": [
    "# how many entries are nan\n",
    "spredixcan_genes_effect_directions.isna().sum().sum()"
   ]
  },
  {
   "cell_type": "code",
   "execution_count": 18,
   "metadata": {
    "papermill": {
     "duration": 124.5909,
     "end_time": "2019-11-29T01:18:02.863119",
     "exception": false,
     "start_time": "2019-11-29T01:15:58.272219",
     "status": "completed"
    },
    "tags": []
   },
   "outputs": [
    {
     "data": {
      "text/plain": [
       "array([-1.,  1.,  0.])"
      ]
     },
     "execution_count": 18,
     "metadata": {},
     "output_type": "execute_result"
    }
   ],
   "source": [
    "pd.Series(spredixcan_genes_effect_directions.values.flatten()).dropna().astype(float).unique()"
   ]
  },
  {
   "cell_type": "code",
   "execution_count": 19,
   "metadata": {
    "papermill": {
     "duration": 0.113797,
     "end_time": "2019-11-29T01:18:03.032585",
     "exception": false,
     "start_time": "2019-11-29T01:18:02.918788",
     "status": "completed"
    },
    "tags": []
   },
   "outputs": [
    {
     "data": {
      "text/plain": [
       "'Results shape: (22518, 4091)'"
      ]
     },
     "metadata": {},
     "output_type": "display_data"
    }
   ],
   "source": [
    "display(f'Results shape: {spredixcan_genes_effect_directions.shape}')\n",
    "\n",
    "assert spredixcan_genes_effect_directions.shape == (22518, _n_expected_phenos), spredixcan_genes_effect_directions.shape"
   ]
  },
  {
   "cell_type": "markdown",
   "metadata": {
    "papermill": {
     "duration": 0.04598,
     "end_time": "2019-11-29T01:18:03.122285",
     "exception": false,
     "start_time": "2019-11-29T01:18:03.076305",
     "status": "completed"
    },
    "tags": []
   },
   "source": [
    "## Testing"
   ]
  },
  {
   "cell_type": "code",
   "execution_count": 20,
   "metadata": {
    "papermill": {
     "duration": 0.122975,
     "end_time": "2019-11-29T01:18:03.288427",
     "exception": false,
     "start_time": "2019-11-29T01:18:03.165452",
     "status": "completed"
    },
    "tags": []
   },
   "outputs": [
    {
     "data": {
      "text/html": [
       "<div>\n",
       "<style scoped>\n",
       "    .dataframe tbody tr th:only-of-type {\n",
       "        vertical-align: middle;\n",
       "    }\n",
       "\n",
       "    .dataframe tbody tr th {\n",
       "        vertical-align: top;\n",
       "    }\n",
       "\n",
       "    .dataframe thead th {\n",
       "        text-align: right;\n",
       "    }\n",
       "</style>\n",
       "<table border=\"1\" class=\"dataframe\">\n",
       "  <thead>\n",
       "    <tr style=\"text-align: right;\">\n",
       "      <th></th>\n",
       "      <th>N02-Diagnoses_main_ICD10_N02_Recurrent_and_persistent_haematuria</th>\n",
       "      <th>Astle_et_al_2016_Reticulocyte_count</th>\n",
       "      <th>PGC_ADHD_EUR_2017</th>\n",
       "      <th>IMMUNOBASE_Systemic_lupus_erythematosus_hg19</th>\n",
       "    </tr>\n",
       "    <tr>\n",
       "      <th>gene_name</th>\n",
       "      <th></th>\n",
       "      <th></th>\n",
       "      <th></th>\n",
       "      <th></th>\n",
       "    </tr>\n",
       "  </thead>\n",
       "  <tbody>\n",
       "    <tr>\n",
       "      <th>ENSG00000000419</th>\n",
       "      <td>-1.0</td>\n",
       "      <td>-1.0</td>\n",
       "      <td>-1.0</td>\n",
       "      <td>-1.0</td>\n",
       "    </tr>\n",
       "    <tr>\n",
       "      <th>ENSG00000000457</th>\n",
       "      <td>1.0</td>\n",
       "      <td>1.0</td>\n",
       "      <td>1.0</td>\n",
       "      <td>1.0</td>\n",
       "    </tr>\n",
       "    <tr>\n",
       "      <th>ENSG00000000460</th>\n",
       "      <td>-1.0</td>\n",
       "      <td>1.0</td>\n",
       "      <td>-1.0</td>\n",
       "      <td>1.0</td>\n",
       "    </tr>\n",
       "    <tr>\n",
       "      <th>ENSG00000186090</th>\n",
       "      <td>0.0</td>\n",
       "      <td>0.0</td>\n",
       "      <td>0.0</td>\n",
       "      <td>0.0</td>\n",
       "    </tr>\n",
       "    <tr>\n",
       "      <th>ENSG00000007202</th>\n",
       "      <td>0.0</td>\n",
       "      <td>0.0</td>\n",
       "      <td>0.0</td>\n",
       "      <td>0.0</td>\n",
       "    </tr>\n",
       "  </tbody>\n",
       "</table>\n",
       "</div>"
      ],
      "text/plain": [
       "                N02-Diagnoses_main_ICD10_N02_Recurrent_and_persistent_haematuria  \\\n",
       "gene_name                                                                          \n",
       "ENSG00000000419                                               -1.0                 \n",
       "ENSG00000000457                                                1.0                 \n",
       "ENSG00000000460                                               -1.0                 \n",
       "ENSG00000186090                                                0.0                 \n",
       "ENSG00000007202                                                0.0                 \n",
       "\n",
       "                Astle_et_al_2016_Reticulocyte_count PGC_ADHD_EUR_2017  \\\n",
       "gene_name                                                               \n",
       "ENSG00000000419                                -1.0              -1.0   \n",
       "ENSG00000000457                                 1.0               1.0   \n",
       "ENSG00000000460                                 1.0              -1.0   \n",
       "ENSG00000186090                                 0.0               0.0   \n",
       "ENSG00000007202                                 0.0               0.0   \n",
       "\n",
       "                IMMUNOBASE_Systemic_lupus_erythematosus_hg19  \n",
       "gene_name                                                     \n",
       "ENSG00000000419                                         -1.0  \n",
       "ENSG00000000457                                          1.0  \n",
       "ENSG00000000460                                          1.0  \n",
       "ENSG00000186090                                          0.0  \n",
       "ENSG00000007202                                          0.0  "
      ]
     },
     "execution_count": 20,
     "metadata": {},
     "output_type": "execute_result"
    }
   ],
   "source": [
    "spredixcan_genes_effect_directions.loc[\n",
    "    [\n",
    "        'ENSG00000000419',\n",
    "        'ENSG00000000457',\n",
    "        'ENSG00000000460',\n",
    "        'ENSG00000186090', # zero\n",
    "        'ENSG00000007202', # zero\n",
    "    ],\n",
    "    [\n",
    "        'N02-Diagnoses_main_ICD10_N02_Recurrent_and_persistent_haematuria',\n",
    "        'Astle_et_al_2016_Reticulocyte_count',\n",
    "        'PGC_ADHD_EUR_2017',\n",
    "        'IMMUNOBASE_Systemic_lupus_erythematosus_hg19',\n",
    "    ]\n",
    "]"
   ]
  },
  {
   "cell_type": "code",
   "execution_count": 21,
   "metadata": {
    "papermill": {
     "duration": 0.08857,
     "end_time": "2019-11-29T01:18:03.420895",
     "exception": false,
     "start_time": "2019-11-29T01:18:03.332325",
     "status": "completed"
    },
    "tags": []
   },
   "outputs": [],
   "source": [
    "assert spredixcan_genes_effect_directions.loc['ENSG00000000419', 'N02-Diagnoses_main_ICD10_N02_Recurrent_and_persistent_haematuria'] == -1.0\n",
    "assert spredixcan_genes_effect_directions.loc['ENSG00000000457', 'N02-Diagnoses_main_ICD10_N02_Recurrent_and_persistent_haematuria'] == 1.0\n",
    "assert spredixcan_genes_effect_directions.loc['ENSG00000000460', 'N02-Diagnoses_main_ICD10_N02_Recurrent_and_persistent_haematuria'] == -1.0\n",
    "\n",
    "assert spredixcan_genes_effect_directions.loc['ENSG00000000419', 'Astle_et_al_2016_Reticulocyte_count'] == -1.0\n",
    "assert spredixcan_genes_effect_directions.loc['ENSG00000000457', 'Astle_et_al_2016_Reticulocyte_count'] == 1.0\n",
    "assert spredixcan_genes_effect_directions.loc['ENSG00000000460', 'Astle_et_al_2016_Reticulocyte_count'] == 1.0\n",
    "\n",
    "assert spredixcan_genes_effect_directions.loc['ENSG00000186090', 'PGC_ADHD_EUR_2017'] == 0.0\n",
    "assert spredixcan_genes_effect_directions.loc['ENSG00000007202', 'PGC_ADHD_EUR_2017'] == 0.0\n",
    "\n",
    "assert spredixcan_genes_effect_directions.loc['ENSG00000007202', 'IMMUNOBASE_Systemic_lupus_erythematosus_hg19'] == 0.0"
   ]
  },
  {
   "cell_type": "markdown",
   "metadata": {
    "papermill": {
     "duration": 0.046223,
     "end_time": "2019-11-29T01:18:03.512683",
     "exception": false,
     "start_time": "2019-11-29T01:18:03.466460",
     "status": "completed"
    },
    "tags": []
   },
   "source": [
    "The code below was used to write the assert above; see for each gene if first and last (min and max) correspond to sign above"
   ]
  },
  {
   "cell_type": "code",
   "execution_count": 22,
   "metadata": {
    "papermill": {
     "duration": 0.084643,
     "end_time": "2019-11-29T01:18:03.641527",
     "exception": false,
     "start_time": "2019-11-29T01:18:03.556884",
     "status": "completed"
    },
    "tags": []
   },
   "outputs": [],
   "source": [
    "rapid_gwas_dir = conf.SPREDIXCAN_RESULTS_DIR['RapidGWASProject']\n",
    "gtex_gwas_dir = conf.SPREDIXCAN_RESULTS_DIR['GTEX_GWAS']"
   ]
  },
  {
   "cell_type": "code",
   "execution_count": 23,
   "metadata": {
    "papermill": {
     "duration": 4.900001,
     "end_time": "2019-11-29T01:18:08.592961",
     "exception": false,
     "start_time": "2019-11-29T01:18:03.692960",
     "status": "completed"
    },
    "tags": []
   },
   "outputs": [
    {
     "name": "stdout",
     "output_type": "stream",
     "text": [
      "ENSG00000000419.12  DPM1                 -0.7218472957611084\n",
      "ENSG00000000419.12  DPM1                 -0.010349205695092676\n",
      "\n",
      "ENSG00000000457.13  SCYL3                -0.5192564725875854\n",
      "ENSG00000000457.13  SCYL3                1.358436666457161\n",
      "\n",
      "ENSG00000000460.16  C1orf112             -2.2396101272579236\n",
      "ENSG00000000460.16  C1orf112             2.2287585735321045\n"
     ]
    }
   ],
   "source": [
    "%%bash -s \"$rapid_gwas_dir\"\n",
    "cd $1/N02\n",
    "parallel 'cat {} | cut -f1-3 -d, | column -t -s, | grep \"ENSG00000000419\"' ::: *.csv | sort -k3 -g | sed -e 1b -e '$!d'\n",
    "echo \"\"\n",
    "parallel 'cat {} | cut -f1-3 -d, | column -t -s, | grep \"ENSG00000000457\"' ::: *.csv | sort -k3 -g | sed -e 1b -e '$!d'\n",
    "echo \"\"\n",
    "parallel 'cat {} | cut -f1-3 -d, | column -t -s, | grep \"ENSG00000000460\"' ::: *.csv | sort -k3 -g | sed -e 1b -e '$!d'"
   ]
  },
  {
   "cell_type": "code",
   "execution_count": 24,
   "metadata": {
    "papermill": {
     "duration": 3.050739,
     "end_time": "2019-11-29T01:18:11.689947",
     "exception": false,
     "start_time": "2019-11-29T01:18:08.639208",
     "status": "completed"
    },
    "tags": []
   },
   "outputs": [
    {
     "name": "stdout",
     "output_type": "stream",
     "text": [
      "ENSG00000000419.12  DPM1                 -0.8962860703468323\n",
      "ENSG00000000419.12  DPM1                 -0.10965126752853394\n",
      "\n",
      "ENSG00000000457.13  SCYL3                -0.8681464019116717\n",
      "ENSG00000000457.13  SCYL3                1.8784626842063896\n",
      "\n",
      "ENSG00000000460.16  C1orf112             -1.39273476600647\n",
      "ENSG00000000460.16  C1orf112             1.8037986617280548\n"
     ]
    }
   ],
   "source": [
    "%%bash -s \"$gtex_gwas_dir\"\n",
    "cd $1/Astle_et_al_2016_Reticulocyte_count\n",
    "parallel 'cat {} | cut -f1-3 -d, | column -t -s, | grep \"ENSG00000000419\"' ::: *.csv | sort -k3 -g | sed -e 1b -e '$!d'\n",
    "echo \"\"\n",
    "parallel 'cat {} | cut -f1-3 -d, | column -t -s, | grep \"ENSG00000000457\"' ::: *.csv | sort -k3 -g | sed -e 1b -e '$!d'\n",
    "echo \"\"\n",
    "parallel 'cat {} | cut -f1-3 -d, | column -t -s, | grep \"ENSG00000000460\"' ::: *.csv | sort -k3 -g | sed -e 1b -e '$!d'"
   ]
  },
  {
   "cell_type": "code",
   "execution_count": 25,
   "metadata": {
    "papermill": {
     "duration": 2.182145,
     "end_time": "2019-11-29T01:18:13.918648",
     "exception": false,
     "start_time": "2019-11-29T01:18:11.736503",
     "status": "completed"
    },
    "tags": []
   },
   "outputs": [
    {
     "name": "stdout",
     "output_type": "stream",
     "text": [
      "ENSG00000186090.10  HTR3D                0.0\n",
      "\n",
      "ENSG00000007202.14  KIAA0100             -0.6554159522056578\n",
      "ENSG00000007202.14  KIAA0100             0.655415952205658\n"
     ]
    }
   ],
   "source": [
    "%%bash -s \"$gtex_gwas_dir\"\n",
    "cd $1/PGC_ADHD_EUR_2017\n",
    "parallel 'cat {} | cut -f1-3 -d, | column -t -s, | grep \"ENSG00000186090\"' ::: *.csv | sort -k3 -g | sed -e 1b -e '$!d'\n",
    "echo \"\"\n",
    "parallel 'cat {} | cut -f1-3 -d, | column -t -s, | grep \"ENSG00000007202\"' ::: *.csv | sort -k3 -g | sed -e 1b -e '$!d'"
   ]
  },
  {
   "cell_type": "code",
   "execution_count": 26,
   "metadata": {
    "papermill": {
     "duration": 1.414619,
     "end_time": "2019-11-29T01:18:15.382032",
     "exception": false,
     "start_time": "2019-11-29T01:18:13.967413",
     "status": "completed"
    },
    "tags": []
   },
   "outputs": [
    {
     "name": "stdout",
     "output_type": "stream",
     "text": [
      "ENSG00000007202.14  KIAA0100             0.0\n",
      "ENSG00000007202.14  KIAA0100             0.0\n"
     ]
    }
   ],
   "source": [
    "%%bash -s \"$gtex_gwas_dir\"\n",
    "cd $1/IMMUNOBASE_Systemic_lupus_erythematosus_hg19\n",
    "parallel 'cat {} | cut -f1-3 -d, | column -t -s, | grep \"ENSG00000007202\"' ::: *.csv | sort -k3 -g | sed -e 1b -e '$!d'"
   ]
  },
  {
   "cell_type": "markdown",
   "metadata": {
    "papermill": {
     "duration": 0.045444,
     "end_time": "2019-11-29T01:18:15.473979",
     "exception": false,
     "start_time": "2019-11-29T01:18:15.428535",
     "status": "completed"
    },
    "tags": []
   },
   "source": [
    "### Save"
   ]
  },
  {
   "cell_type": "code",
   "execution_count": 27,
   "metadata": {
    "papermill": {
     "duration": 0.094326,
     "end_time": "2019-11-29T01:18:15.613887",
     "exception": false,
     "start_time": "2019-11-29T01:18:15.519561",
     "status": "completed"
    },
    "tags": []
   },
   "outputs": [
    {
     "data": {
      "text/plain": [
       "(22518, 4091)"
      ]
     },
     "execution_count": 27,
     "metadata": {},
     "output_type": "execute_result"
    }
   ],
   "source": [
    "spredixcan_genes_effect_directions.shape"
   ]
  },
  {
   "cell_type": "code",
   "execution_count": 28,
   "metadata": {
    "papermill": {
     "duration": 0.489533,
     "end_time": "2019-11-29T01:18:16.155486",
     "exception": false,
     "start_time": "2019-11-29T01:18:15.665953",
     "status": "completed"
    },
    "tags": []
   },
   "outputs": [
    {
     "data": {
      "text/html": [
       "<div>\n",
       "<style scoped>\n",
       "    .dataframe tbody tr th:only-of-type {\n",
       "        vertical-align: middle;\n",
       "    }\n",
       "\n",
       "    .dataframe tbody tr th {\n",
       "        vertical-align: top;\n",
       "    }\n",
       "\n",
       "    .dataframe thead th {\n",
       "        text-align: right;\n",
       "    }\n",
       "</style>\n",
       "<table border=\"1\" class=\"dataframe\">\n",
       "  <thead>\n",
       "    <tr style=\"text-align: right;\">\n",
       "      <th></th>\n",
       "      <th>22617_9219-Job_SOC_coding_Elementary_office_occupations_nec</th>\n",
       "      <th>6157_3-Why_stopped_smoking_Health_precaution</th>\n",
       "      <th>I50-Diagnoses_main_ICD10_I50_Heart_failure</th>\n",
       "      <th>20003_1140874370-Treatmentmedication_code_aciclovir</th>\n",
       "      <th>N02-Diagnoses_main_ICD10_N02_Recurrent_and_persistent_haematuria</th>\n",
       "      <th>20002_1585-Noncancer_illness_code_selfreported_mitral_regurgitation_incompetence</th>\n",
       "      <th>6138_6-Qualifications_Other_professional_qualifications_eg_nursing_teaching</th>\n",
       "      <th>20003_1140869930-Treatmentmedication_code_azathioprine</th>\n",
       "      <th>102800-Cheese_consumers</th>\n",
       "      <th>40001_C159-Underlying_primary_cause_of_death_ICD10_C159_Oesophagus_unspecified</th>\n",
       "      <th>...</th>\n",
       "      <th>20002_1638-Noncancer_illness_code_selfreported_fracture_hand</th>\n",
       "      <th>102330-Sweets_intake</th>\n",
       "      <th>2492-Taking_other_prescription_medications</th>\n",
       "      <th>22601_81222848-Job_coding_coal_worker_or_miner_surface_or_underground</th>\n",
       "      <th>20090_380-Type_of_fatoil_used_in_cooking_Normal_fat_dairy_spread</th>\n",
       "      <th>1011-Frequency_of_light_DIY_in_last_4_weeks</th>\n",
       "      <th>20003_1141171152-Treatmentmedication_code_cardicor_125mg_tablet</th>\n",
       "      <th>L12_ATROPHICSKIN-Atrophic_disorders_of_skin</th>\n",
       "      <th>20003_1141164276-Treatmentmedication_code_nebivolol</th>\n",
       "      <th>PGC_ADHD_EUR_2017</th>\n",
       "    </tr>\n",
       "    <tr>\n",
       "      <th>gene_name</th>\n",
       "      <th></th>\n",
       "      <th></th>\n",
       "      <th></th>\n",
       "      <th></th>\n",
       "      <th></th>\n",
       "      <th></th>\n",
       "      <th></th>\n",
       "      <th></th>\n",
       "      <th></th>\n",
       "      <th></th>\n",
       "      <th></th>\n",
       "      <th></th>\n",
       "      <th></th>\n",
       "      <th></th>\n",
       "      <th></th>\n",
       "      <th></th>\n",
       "      <th></th>\n",
       "      <th></th>\n",
       "      <th></th>\n",
       "      <th></th>\n",
       "      <th></th>\n",
       "    </tr>\n",
       "  </thead>\n",
       "  <tbody>\n",
       "    <tr>\n",
       "      <th>ENSG00000000419</th>\n",
       "      <td>-1.0</td>\n",
       "      <td>1.0</td>\n",
       "      <td>1.0</td>\n",
       "      <td>-1.0</td>\n",
       "      <td>-1.0</td>\n",
       "      <td>-1.0</td>\n",
       "      <td>1.0</td>\n",
       "      <td>1.0</td>\n",
       "      <td>1.0</td>\n",
       "      <td>1.0</td>\n",
       "      <td>...</td>\n",
       "      <td>1.0</td>\n",
       "      <td>-1.0</td>\n",
       "      <td>-1.0</td>\n",
       "      <td>1.0</td>\n",
       "      <td>-1.0</td>\n",
       "      <td>1.0</td>\n",
       "      <td>1.0</td>\n",
       "      <td>-1.0</td>\n",
       "      <td>1.0</td>\n",
       "      <td>-1.0</td>\n",
       "    </tr>\n",
       "    <tr>\n",
       "      <th>ENSG00000000457</th>\n",
       "      <td>1.0</td>\n",
       "      <td>-1.0</td>\n",
       "      <td>-1.0</td>\n",
       "      <td>-1.0</td>\n",
       "      <td>1.0</td>\n",
       "      <td>-1.0</td>\n",
       "      <td>1.0</td>\n",
       "      <td>-1.0</td>\n",
       "      <td>-1.0</td>\n",
       "      <td>1.0</td>\n",
       "      <td>...</td>\n",
       "      <td>-1.0</td>\n",
       "      <td>1.0</td>\n",
       "      <td>-1.0</td>\n",
       "      <td>-1.0</td>\n",
       "      <td>-1.0</td>\n",
       "      <td>-1.0</td>\n",
       "      <td>1.0</td>\n",
       "      <td>-1.0</td>\n",
       "      <td>1.0</td>\n",
       "      <td>1.0</td>\n",
       "    </tr>\n",
       "    <tr>\n",
       "      <th>ENSG00000000460</th>\n",
       "      <td>-1.0</td>\n",
       "      <td>-1.0</td>\n",
       "      <td>1.0</td>\n",
       "      <td>-1.0</td>\n",
       "      <td>-1.0</td>\n",
       "      <td>-1.0</td>\n",
       "      <td>1.0</td>\n",
       "      <td>-1.0</td>\n",
       "      <td>-1.0</td>\n",
       "      <td>1.0</td>\n",
       "      <td>...</td>\n",
       "      <td>-1.0</td>\n",
       "      <td>0.0</td>\n",
       "      <td>1.0</td>\n",
       "      <td>0.0</td>\n",
       "      <td>1.0</td>\n",
       "      <td>1.0</td>\n",
       "      <td>1.0</td>\n",
       "      <td>-1.0</td>\n",
       "      <td>1.0</td>\n",
       "      <td>-1.0</td>\n",
       "    </tr>\n",
       "    <tr>\n",
       "      <th>ENSG00000000938</th>\n",
       "      <td>1.0</td>\n",
       "      <td>1.0</td>\n",
       "      <td>-1.0</td>\n",
       "      <td>-1.0</td>\n",
       "      <td>-1.0</td>\n",
       "      <td>1.0</td>\n",
       "      <td>1.0</td>\n",
       "      <td>1.0</td>\n",
       "      <td>0.0</td>\n",
       "      <td>1.0</td>\n",
       "      <td>...</td>\n",
       "      <td>1.0</td>\n",
       "      <td>1.0</td>\n",
       "      <td>-1.0</td>\n",
       "      <td>1.0</td>\n",
       "      <td>0.0</td>\n",
       "      <td>1.0</td>\n",
       "      <td>-1.0</td>\n",
       "      <td>1.0</td>\n",
       "      <td>1.0</td>\n",
       "      <td>1.0</td>\n",
       "    </tr>\n",
       "    <tr>\n",
       "      <th>ENSG00000000971</th>\n",
       "      <td>1.0</td>\n",
       "      <td>1.0</td>\n",
       "      <td>1.0</td>\n",
       "      <td>1.0</td>\n",
       "      <td>-1.0</td>\n",
       "      <td>-1.0</td>\n",
       "      <td>-1.0</td>\n",
       "      <td>-1.0</td>\n",
       "      <td>1.0</td>\n",
       "      <td>-1.0</td>\n",
       "      <td>...</td>\n",
       "      <td>-1.0</td>\n",
       "      <td>-1.0</td>\n",
       "      <td>1.0</td>\n",
       "      <td>1.0</td>\n",
       "      <td>1.0</td>\n",
       "      <td>1.0</td>\n",
       "      <td>-1.0</td>\n",
       "      <td>-1.0</td>\n",
       "      <td>-1.0</td>\n",
       "      <td>1.0</td>\n",
       "    </tr>\n",
       "  </tbody>\n",
       "</table>\n",
       "<p>5 rows × 4091 columns</p>\n",
       "</div>"
      ],
      "text/plain": [
       "                22617_9219-Job_SOC_coding_Elementary_office_occupations_nec  \\\n",
       "gene_name                                                                     \n",
       "ENSG00000000419                                               -1.0            \n",
       "ENSG00000000457                                                1.0            \n",
       "ENSG00000000460                                               -1.0            \n",
       "ENSG00000000938                                                1.0            \n",
       "ENSG00000000971                                                1.0            \n",
       "\n",
       "                6157_3-Why_stopped_smoking_Health_precaution  \\\n",
       "gene_name                                                      \n",
       "ENSG00000000419                                          1.0   \n",
       "ENSG00000000457                                         -1.0   \n",
       "ENSG00000000460                                         -1.0   \n",
       "ENSG00000000938                                          1.0   \n",
       "ENSG00000000971                                          1.0   \n",
       "\n",
       "                I50-Diagnoses_main_ICD10_I50_Heart_failure  \\\n",
       "gene_name                                                    \n",
       "ENSG00000000419                                        1.0   \n",
       "ENSG00000000457                                       -1.0   \n",
       "ENSG00000000460                                        1.0   \n",
       "ENSG00000000938                                       -1.0   \n",
       "ENSG00000000971                                        1.0   \n",
       "\n",
       "                20003_1140874370-Treatmentmedication_code_aciclovir  \\\n",
       "gene_name                                                             \n",
       "ENSG00000000419                                               -1.0    \n",
       "ENSG00000000457                                               -1.0    \n",
       "ENSG00000000460                                               -1.0    \n",
       "ENSG00000000938                                               -1.0    \n",
       "ENSG00000000971                                                1.0    \n",
       "\n",
       "                N02-Diagnoses_main_ICD10_N02_Recurrent_and_persistent_haematuria  \\\n",
       "gene_name                                                                          \n",
       "ENSG00000000419                                               -1.0                 \n",
       "ENSG00000000457                                                1.0                 \n",
       "ENSG00000000460                                               -1.0                 \n",
       "ENSG00000000938                                               -1.0                 \n",
       "ENSG00000000971                                               -1.0                 \n",
       "\n",
       "                20002_1585-Noncancer_illness_code_selfreported_mitral_regurgitation_incompetence  \\\n",
       "gene_name                                                                                          \n",
       "ENSG00000000419                                               -1.0                                 \n",
       "ENSG00000000457                                               -1.0                                 \n",
       "ENSG00000000460                                               -1.0                                 \n",
       "ENSG00000000938                                                1.0                                 \n",
       "ENSG00000000971                                               -1.0                                 \n",
       "\n",
       "                6138_6-Qualifications_Other_professional_qualifications_eg_nursing_teaching  \\\n",
       "gene_name                                                                                     \n",
       "ENSG00000000419                                                1.0                            \n",
       "ENSG00000000457                                                1.0                            \n",
       "ENSG00000000460                                                1.0                            \n",
       "ENSG00000000938                                                1.0                            \n",
       "ENSG00000000971                                               -1.0                            \n",
       "\n",
       "                20003_1140869930-Treatmentmedication_code_azathioprine  \\\n",
       "gene_name                                                                \n",
       "ENSG00000000419                                                1.0       \n",
       "ENSG00000000457                                               -1.0       \n",
       "ENSG00000000460                                               -1.0       \n",
       "ENSG00000000938                                                1.0       \n",
       "ENSG00000000971                                               -1.0       \n",
       "\n",
       "                102800-Cheese_consumers  \\\n",
       "gene_name                                 \n",
       "ENSG00000000419                     1.0   \n",
       "ENSG00000000457                    -1.0   \n",
       "ENSG00000000460                    -1.0   \n",
       "ENSG00000000938                     0.0   \n",
       "ENSG00000000971                     1.0   \n",
       "\n",
       "                40001_C159-Underlying_primary_cause_of_death_ICD10_C159_Oesophagus_unspecified  \\\n",
       "gene_name                                                                                        \n",
       "ENSG00000000419                                                1.0                               \n",
       "ENSG00000000457                                                1.0                               \n",
       "ENSG00000000460                                                1.0                               \n",
       "ENSG00000000938                                                1.0                               \n",
       "ENSG00000000971                                               -1.0                               \n",
       "\n",
       "                 ...  \\\n",
       "gene_name        ...   \n",
       "ENSG00000000419  ...   \n",
       "ENSG00000000457  ...   \n",
       "ENSG00000000460  ...   \n",
       "ENSG00000000938  ...   \n",
       "ENSG00000000971  ...   \n",
       "\n",
       "                20002_1638-Noncancer_illness_code_selfreported_fracture_hand  \\\n",
       "gene_name                                                                      \n",
       "ENSG00000000419                                                1.0             \n",
       "ENSG00000000457                                               -1.0             \n",
       "ENSG00000000460                                               -1.0             \n",
       "ENSG00000000938                                                1.0             \n",
       "ENSG00000000971                                               -1.0             \n",
       "\n",
       "                102330-Sweets_intake  \\\n",
       "gene_name                              \n",
       "ENSG00000000419                 -1.0   \n",
       "ENSG00000000457                  1.0   \n",
       "ENSG00000000460                  0.0   \n",
       "ENSG00000000938                  1.0   \n",
       "ENSG00000000971                 -1.0   \n",
       "\n",
       "                2492-Taking_other_prescription_medications  \\\n",
       "gene_name                                                    \n",
       "ENSG00000000419                                       -1.0   \n",
       "ENSG00000000457                                       -1.0   \n",
       "ENSG00000000460                                        1.0   \n",
       "ENSG00000000938                                       -1.0   \n",
       "ENSG00000000971                                        1.0   \n",
       "\n",
       "                22601_81222848-Job_coding_coal_worker_or_miner_surface_or_underground  \\\n",
       "gene_name                                                                               \n",
       "ENSG00000000419                                                1.0                      \n",
       "ENSG00000000457                                               -1.0                      \n",
       "ENSG00000000460                                                0.0                      \n",
       "ENSG00000000938                                                1.0                      \n",
       "ENSG00000000971                                                1.0                      \n",
       "\n",
       "                20090_380-Type_of_fatoil_used_in_cooking_Normal_fat_dairy_spread  \\\n",
       "gene_name                                                                          \n",
       "ENSG00000000419                                               -1.0                 \n",
       "ENSG00000000457                                               -1.0                 \n",
       "ENSG00000000460                                                1.0                 \n",
       "ENSG00000000938                                                0.0                 \n",
       "ENSG00000000971                                                1.0                 \n",
       "\n",
       "                1011-Frequency_of_light_DIY_in_last_4_weeks  \\\n",
       "gene_name                                                     \n",
       "ENSG00000000419                                         1.0   \n",
       "ENSG00000000457                                        -1.0   \n",
       "ENSG00000000460                                         1.0   \n",
       "ENSG00000000938                                         1.0   \n",
       "ENSG00000000971                                         1.0   \n",
       "\n",
       "                20003_1141171152-Treatmentmedication_code_cardicor_125mg_tablet  \\\n",
       "gene_name                                                                         \n",
       "ENSG00000000419                                                1.0                \n",
       "ENSG00000000457                                                1.0                \n",
       "ENSG00000000460                                                1.0                \n",
       "ENSG00000000938                                               -1.0                \n",
       "ENSG00000000971                                               -1.0                \n",
       "\n",
       "                L12_ATROPHICSKIN-Atrophic_disorders_of_skin  \\\n",
       "gene_name                                                     \n",
       "ENSG00000000419                                        -1.0   \n",
       "ENSG00000000457                                        -1.0   \n",
       "ENSG00000000460                                        -1.0   \n",
       "ENSG00000000938                                         1.0   \n",
       "ENSG00000000971                                        -1.0   \n",
       "\n",
       "                20003_1141164276-Treatmentmedication_code_nebivolol  \\\n",
       "gene_name                                                             \n",
       "ENSG00000000419                                                1.0    \n",
       "ENSG00000000457                                                1.0    \n",
       "ENSG00000000460                                                1.0    \n",
       "ENSG00000000938                                                1.0    \n",
       "ENSG00000000971                                               -1.0    \n",
       "\n",
       "                PGC_ADHD_EUR_2017  \n",
       "gene_name                          \n",
       "ENSG00000000419              -1.0  \n",
       "ENSG00000000457               1.0  \n",
       "ENSG00000000460              -1.0  \n",
       "ENSG00000000938               1.0  \n",
       "ENSG00000000971               1.0  \n",
       "\n",
       "[5 rows x 4091 columns]"
      ]
     },
     "execution_count": 28,
     "metadata": {},
     "output_type": "execute_result"
    }
   ],
   "source": [
    "spredixcan_genes_effect_directions.head()"
   ]
  },
  {
   "cell_type": "code",
   "execution_count": 29,
   "metadata": {
    "papermill": {
     "duration": 0.085767,
     "end_time": "2019-11-29T01:18:16.295509",
     "exception": false,
     "start_time": "2019-11-29T01:18:16.209742",
     "status": "completed"
    },
    "tags": []
   },
   "outputs": [
    {
     "data": {
      "text/plain": [
       "'/mnt/phenomexcan_base/gene_assoc/spredixcan-mashr-effect_direction-most_signif.pkl.xz'"
      ]
     },
     "metadata": {},
     "output_type": "display_data"
    }
   ],
   "source": [
    "# Save\n",
    "spredixcan_genes_effect_directions_filename = os.path.join(conf.GENE_ASSOC_DIR, f'spredixcan-mashr-effect_direction-most_signif.pkl.xz')\n",
    "display(spredixcan_genes_effect_directions_filename)"
   ]
  },
  {
   "cell_type": "code",
   "execution_count": 30,
   "metadata": {
    "papermill": {
     "duration": 171.557028,
     "end_time": "2019-11-29T01:21:07.907873",
     "exception": false,
     "start_time": "2019-11-29T01:18:16.350845",
     "status": "completed"
    },
    "tags": []
   },
   "outputs": [],
   "source": [
    "spredixcan_genes_effect_directions.to_pickle(spredixcan_genes_effect_directions_filename)"
   ]
  },
  {
   "cell_type": "markdown",
   "metadata": {
    "papermill": {
     "duration": 0.047725,
     "end_time": "2019-11-29T01:21:08.028950",
     "exception": false,
     "start_time": "2019-11-29T01:21:07.981225",
     "status": "completed"
    },
    "tags": []
   },
   "source": [
    "### Save in HDF5 format for webapp"
   ]
  },
  {
   "cell_type": "code",
   "execution_count": 31,
   "metadata": {
    "papermill": {
     "duration": 4.127029,
     "end_time": "2019-11-29T01:21:12.203788",
     "exception": false,
     "start_time": "2019-11-29T01:21:08.076759",
     "status": "completed"
    },
    "tags": []
   },
   "outputs": [],
   "source": [
    "spredixcan_genes_effect_directions = pd.read_pickle(spredixcan_genes_effect_directions_filename)"
   ]
  },
  {
   "cell_type": "code",
   "execution_count": 32,
   "metadata": {
    "papermill": {
     "duration": 0.094636,
     "end_time": "2019-11-29T01:21:12.353270",
     "exception": false,
     "start_time": "2019-11-29T01:21:12.258634",
     "status": "completed"
    },
    "tags": []
   },
   "outputs": [
    {
     "data": {
      "text/plain": [
       "(22518, 4091)"
      ]
     },
     "execution_count": 32,
     "metadata": {},
     "output_type": "execute_result"
    }
   ],
   "source": [
    "spredixcan_genes_effect_directions.shape"
   ]
  },
  {
   "cell_type": "code",
   "execution_count": 33,
   "metadata": {
    "papermill": {
     "duration": 0.086801,
     "end_time": "2019-11-29T01:21:12.489279",
     "exception": false,
     "start_time": "2019-11-29T01:21:12.402478",
     "status": "completed"
    },
    "tags": []
   },
   "outputs": [],
   "source": [
    "from utils import simplify_string_for_hdf5"
   ]
  },
  {
   "cell_type": "code",
   "execution_count": 34,
   "metadata": {
    "papermill": {
     "duration": 0.096293,
     "end_time": "2019-11-29T01:21:12.637991",
     "exception": false,
     "start_time": "2019-11-29T01:21:12.541698",
     "status": "completed"
    },
    "tags": []
   },
   "outputs": [
    {
     "data": {
      "text/plain": [
       "'/mnt/phenomexcan_base/gene_assoc/spredixcan-mashr-effect_direction-most_signif.h5'"
      ]
     },
     "metadata": {},
     "output_type": "display_data"
    }
   ],
   "source": [
    "OUTPUT_HDF5_FILE = os.path.join(conf.GENE_ASSOC_DIR, 'spredixcan-mashr-effect_direction-most_signif.h5')\n",
    "display(OUTPUT_HDF5_FILE)"
   ]
  },
  {
   "cell_type": "code",
   "execution_count": 35,
   "metadata": {
    "papermill": {
     "duration": 104.66415,
     "end_time": "2019-11-29T01:22:57.355925",
     "exception": false,
     "start_time": "2019-11-29T01:21:12.691775",
     "status": "completed"
    },
    "tags": []
   },
   "outputs": [],
   "source": [
    "with pd.HDFStore(OUTPUT_HDF5_FILE, mode='w', complevel=1) as store:\n",
    "    for col in spredixcan_genes_effect_directions.columns:\n",
    "        #print('.', flush=True, end='')\n",
    "        clean_col = simplify_string_for_hdf5(col)\n",
    "        store[clean_col] = spredixcan_genes_effect_directions[col].astype(float)"
   ]
  },
  {
   "cell_type": "code",
   "execution_count": 36,
   "metadata": {
    "papermill": {
     "duration": 9.093032,
     "end_time": "2019-11-29T01:23:06.510120",
     "exception": false,
     "start_time": "2019-11-29T01:22:57.417088",
     "status": "completed"
    },
    "tags": []
   },
   "outputs": [
    {
     "data": {
      "text/plain": [
       "['/c100001_raw_Food_weight',\n",
       " '/c100002_raw_Energy',\n",
       " '/c100003_raw_Protein',\n",
       " '/c100004_raw_Fat',\n",
       " '/c100005_raw_Carbohydrate']"
      ]
     },
     "metadata": {},
     "output_type": "display_data"
    }
   ],
   "source": [
    "# testing\n",
    "with pd.HDFStore(OUTPUT_HDF5_FILE, mode='r') as store:\n",
    "    store_keys = list(store.keys())\n",
    "    assert len(store_keys) == spredixcan_genes_effect_directions.shape[1]\n",
    "    display(store_keys[:5])\n",
    "    \n",
    "    clean_col = simplify_string_for_hdf5('N02-Diagnoses_main_ICD10_N02_Recurrent_and_persistent_haematuria')\n",
    "    data = store[clean_col]\n",
    "    assert data.shape == (22518,), data.shape\n",
    "    assert data.loc['ENSG00000000419'] == -1.0\n",
    "    assert data.loc['ENSG00000000457'] == 1.0\n",
    "    assert data.loc['ENSG00000000460'] == -1.0\n",
    "    \n",
    "    clean_col = simplify_string_for_hdf5('Astle_et_al_2016_Reticulocyte_count')\n",
    "    data = store[clean_col]\n",
    "    assert data.shape == (22518,), data.shape\n",
    "    assert data.loc['ENSG00000000419'] == -1.0\n",
    "    assert data.loc['ENSG00000000457'] == 1.0\n",
    "    assert data.loc['ENSG00000000460'] == 1.0\n",
    "    \n",
    "    clean_col = simplify_string_for_hdf5('PGC_ADHD_EUR_2017')\n",
    "    data = store[clean_col]\n",
    "    assert data.shape == (22518,), data.shape\n",
    "    assert data.loc['ENSG00000186090'] == 0.0\n",
    "    assert data.loc['ENSG00000007202'] == 0.0\n",
    "    \n",
    "    clean_col = simplify_string_for_hdf5('IMMUNOBASE_Systemic_lupus_erythematosus_hg19')\n",
    "    data = store[clean_col]\n",
    "    assert data.shape == (22518,), data.shape\n",
    "    assert data.loc['ENSG00000007202'] == 0.0"
   ]
  },
  {
   "cell_type": "code",
   "execution_count": null,
   "metadata": {
    "papermill": {
     "duration": 0.048889,
     "end_time": "2019-11-29T01:23:06.613053",
     "exception": false,
     "start_time": "2019-11-29T01:23:06.564164",
     "status": "completed"
    },
    "tags": []
   },
   "outputs": [],
   "source": []
  }
 ],
 "metadata": {
  "kernelspec": {
   "display_name": "Python 3",
   "language": "python",
   "name": "python3"
  },
  "language_info": {
   "codemirror_mode": {
    "name": "ipython",
    "version": 3
   },
   "file_extension": ".py",
   "mimetype": "text/x-python",
   "name": "python",
   "nbconvert_exporter": "python",
   "pygments_lexer": "ipython3",
   "version": "3.7.5"
  },
  "papermill": {
   "duration": 14272.635912,
   "end_time": "2019-11-29T01:23:10.283210",
   "environment_variables": {},
   "exception": null,
   "input_path": "100_postprocessing/05_spredixcan_direction_effect_most_signif.ipynb",
   "output_path": "100_postprocessing/05_spredixcan_direction_effect_most_signif.run.ipynb",
   "parameters": {},
   "start_time": "2019-11-28T21:25:17.647298",
   "version": "1.2.1"
  }
 },
 "nbformat": 4,
 "nbformat_minor": 4
}