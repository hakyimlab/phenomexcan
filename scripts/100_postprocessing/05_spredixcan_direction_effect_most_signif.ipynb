{
 "cells": [
  {
   "cell_type": "code",
   "execution_count": null,
   "metadata": {},
   "outputs": [],
   "source": [
    "%load_ext autoreload\n",
    "%autoreload 2"
   ]
  },
  {
   "cell_type": "code",
   "execution_count": null,
   "metadata": {},
   "outputs": [],
   "source": [
    "import os\n",
    "import pickle\n",
    "from glob import glob\n",
    "from concurrent.futures import ProcessPoolExecutor, as_completed\n",
    "\n",
    "import numpy as np\n",
    "import pandas as pd\n",
    "from scipy import stats\n",
    "\n",
    "import settings as conf\n",
    "from utils import is_number, chunker"
   ]
  },
  {
   "cell_type": "markdown",
   "metadata": {},
   "source": [
    "# Load S-PrediXcan results"
   ]
  },
  {
   "cell_type": "markdown",
   "metadata": {},
   "source": [
    "## From Rapid GWAS project"
   ]
  },
  {
   "cell_type": "code",
   "execution_count": null,
   "metadata": {},
   "outputs": [],
   "source": [
    "from results.spredixcan import PhenoResults"
   ]
  },
  {
   "cell_type": "code",
   "execution_count": null,
   "metadata": {},
   "outputs": [],
   "source": [
    "_path = os.path.join(conf.SPREDIXCAN_RESULTS_DIR['RapidGWASProject'] + '/*')\n",
    "display(_path)\n",
    "all_spredixcan_results_dirs = glob(_path)\n",
    "display(len(all_spredixcan_results_dirs))\n",
    "assert len(all_spredixcan_results_dirs) == conf.SPREDIXCAN_EXPECTED_PHENOTYPES['RapidGWASProject']"
   ]
  },
  {
   "cell_type": "code",
   "execution_count": null,
   "metadata": {},
   "outputs": [],
   "source": [
    "all_spredixcan_phenotypes = [PhenoResults(p) for p in all_spredixcan_results_dirs]\n",
    "\n",
    "display(len(all_spredixcan_phenotypes))\n",
    "assert len(all_spredixcan_phenotypes) == conf.SPREDIXCAN_EXPECTED_PHENOTYPES['RapidGWASProject']"
   ]
  },
  {
   "cell_type": "markdown",
   "metadata": {},
   "source": [
    "## From GTEx GWAS manuscript"
   ]
  },
  {
   "cell_type": "code",
   "execution_count": null,
   "metadata": {},
   "outputs": [],
   "source": [
    "_path = os.path.join(conf.SPREDIXCAN_RESULTS_DIR['GTEX_GWAS'] + '/*')\n",
    "display(_path)\n",
    "all_extra_results_dirs = glob(_path)\n",
    "display(len(all_extra_results_dirs))\n",
    "assert len(all_extra_results_dirs) == conf.SPREDIXCAN_EXPECTED_PHENOTYPES['GTEX_GWAS']"
   ]
  },
  {
   "cell_type": "code",
   "execution_count": null,
   "metadata": {},
   "outputs": [],
   "source": [
    "all_extra_results_dirs[:5]"
   ]
  },
  {
   "cell_type": "code",
   "execution_count": null,
   "metadata": {},
   "outputs": [],
   "source": [
    "_file_pattern = 'spredixcan_igwas_gtexmashrv8_(?P<code>[^/]+)__PM__(?P<tissue>.+)\\.csv$'\n",
    "all_extra_phenotypes = [PhenoResults(p, _file_pattern) for p in all_extra_results_dirs]\n",
    "all_extra_phenotypes_plain_names = pd.Index([p.pheno_info.get_plain_name() for p in all_extra_phenotypes])\n",
    "\n",
    "display(len(all_extra_phenotypes))\n",
    "assert len(all_extra_phenotypes) == conf.SMULTIXCAN_EXPECTED_PHENOTYPES['GTEX_GWAS']"
   ]
  },
  {
   "cell_type": "markdown",
   "metadata": {},
   "source": [
    "# S-PrediXcan: direction of effect"
   ]
  },
  {
   "cell_type": "markdown",
   "metadata": {},
   "source": [
    "## Effect direction: most significant"
   ]
  },
  {
   "cell_type": "markdown",
   "metadata": {},
   "source": [
    "### Compute results"
   ]
  },
  {
   "cell_type": "code",
   "execution_count": null,
   "metadata": {},
   "outputs": [],
   "source": [
    "def _get_combined_results(phenos):\n",
    "    return {\n",
    "        pheno.pheno_info.get_plain_name():\n",
    "            pheno.get_most_significant_effect_direction()\n",
    "        for pheno in phenos\n",
    "    }"
   ]
  },
  {
   "cell_type": "code",
   "execution_count": null,
   "metadata": {},
   "outputs": [],
   "source": [
    "def _run_all(phenotype_chunks, n_jobs=conf.N_JOBS_HIGH):\n",
    "    all_results = {}\n",
    "    \n",
    "    with ProcessPoolExecutor(max_workers=n_jobs) as executor:\n",
    "        tasks = [executor.submit(_get_combined_results, chunk) for chunk in phenotype_chunks]\n",
    "        for future in as_completed(tasks):\n",
    "            res = future.result()\n",
    "            all_results.update(res)\n",
    "    \n",
    "    return all_results"
   ]
  },
  {
   "cell_type": "code",
   "execution_count": null,
   "metadata": {},
   "outputs": [],
   "source": [
    "# phenotype_chunks = chunker(all_spredixcan_phenotypes[:5] + all_extra_phenotypes[:5], 2)\n",
    "phenotype_chunks = chunker(all_spredixcan_phenotypes + all_extra_phenotypes, 25)"
   ]
  },
  {
   "cell_type": "code",
   "execution_count": null,
   "metadata": {},
   "outputs": [],
   "source": [
    "all_results = _run_all(phenotype_chunks, n_jobs=20)"
   ]
  },
  {
   "cell_type": "code",
   "execution_count": null,
   "metadata": {},
   "outputs": [],
   "source": [
    "len(all_results)"
   ]
  },
  {
   "cell_type": "markdown",
   "metadata": {},
   "source": [
    "### Create DataFrame"
   ]
  },
  {
   "cell_type": "code",
   "execution_count": null,
   "metadata": {},
   "outputs": [],
   "source": [
    "_n_expected_phenos = np.sum(list(conf.SMULTIXCAN_EXPECTED_PHENOTYPES.values()))\n",
    "display(_n_expected_phenos)\n",
    "assert len(all_results) == _n_expected_phenos, len(all_results)"
   ]
  },
  {
   "cell_type": "code",
   "execution_count": null,
   "metadata": {},
   "outputs": [],
   "source": [
    "# the category dtype is for efficiency in storage/loading\n",
    "spredixcan_genes_effect_directions = pd.DataFrame(all_results, dtype='category')\n",
    "spredixcan_genes_effect_directions.index.rename('gene_name', inplace=True)\n",
    "\n",
    "assert spredixcan_genes_effect_directions.index.is_unique\n",
    "\n",
    "display(spredixcan_genes_effect_directions.shape)\n",
    "display(spredixcan_genes_effect_directions.head())"
   ]
  },
  {
   "cell_type": "code",
   "execution_count": null,
   "metadata": {},
   "outputs": [],
   "source": [
    "# Remove genes with no results\n",
    "spredixcan_genes_effect_directions = spredixcan_genes_effect_directions.dropna(axis=0, how='all')"
   ]
  },
  {
   "cell_type": "code",
   "execution_count": null,
   "metadata": {},
   "outputs": [],
   "source": [
    "# how many entries are nan\n",
    "spredixcan_genes_effect_directions.isna().sum().sum()"
   ]
  },
  {
   "cell_type": "code",
   "execution_count": null,
   "metadata": {},
   "outputs": [],
   "source": [
    "pd.Series(spredixcan_genes_effect_directions.values.flatten()).dropna().astype(float).unique()"
   ]
  },
  {
   "cell_type": "code",
   "execution_count": null,
   "metadata": {},
   "outputs": [],
   "source": [
    "display(f'Results shape: {spredixcan_genes_effect_directions.shape}')\n",
    "\n",
    "# FIXME: uncomment and check numbers\n",
    "# assert spredixcan_genes_effect_directions.shape == (22515, _n_expected_phenos), spredixcan_genes_effect_directions.shape"
   ]
  },
  {
   "cell_type": "markdown",
   "metadata": {},
   "source": [
    "## Testing"
   ]
  },
  {
   "cell_type": "code",
   "execution_count": null,
   "metadata": {},
   "outputs": [],
   "source": [
    "spredixcan_genes_effect_directions.loc[\n",
    "    [\n",
    "        'ENSG00000000419',\n",
    "        'ENSG00000000457',\n",
    "        'ENSG00000000460',\n",
    "        'ENSG00000186090', # zero\n",
    "        'ENSG00000007202', # zero\n",
    "    ],\n",
    "    [\n",
    "        'N02-Diagnoses_main_ICD10_N02_Recurrent_and_persistent_haematuria',\n",
    "        'Astle_et_al_2016_Reticulocyte_count',\n",
    "        'PGC_ADHD_EUR_2017',\n",
    "        'IMMUNOBASE_Systemic_lupus_erythematosus_hg19',\n",
    "    ]\n",
    "]"
   ]
  },
  {
   "cell_type": "code",
   "execution_count": null,
   "metadata": {},
   "outputs": [],
   "source": [
    "assert spredixcan_genes_effect_directions.loc['ENSG00000000419', 'N02-Diagnoses_main_ICD10_N02_Recurrent_and_persistent_haematuria'] == -1.0\n",
    "assert spredixcan_genes_effect_directions.loc['ENSG00000000457', 'N02-Diagnoses_main_ICD10_N02_Recurrent_and_persistent_haematuria'] == 1.0\n",
    "assert spredixcan_genes_effect_directions.loc['ENSG00000000460', 'N02-Diagnoses_main_ICD10_N02_Recurrent_and_persistent_haematuria'] == -1.0\n",
    "\n",
    "assert spredixcan_genes_effect_directions.loc['ENSG00000000419', 'Astle_et_al_2016_Reticulocyte_count'] == -1.0\n",
    "assert spredixcan_genes_effect_directions.loc['ENSG00000000457', 'Astle_et_al_2016_Reticulocyte_count'] == 1.0\n",
    "assert spredixcan_genes_effect_directions.loc['ENSG00000000460', 'Astle_et_al_2016_Reticulocyte_count'] == 1.0\n",
    "\n",
    "assert spredixcan_genes_effect_directions.loc['ENSG00000186090', 'PGC_ADHD_EUR_2017'] == 0.0\n",
    "assert spredixcan_genes_effect_directions.loc['ENSG00000007202', 'PGC_ADHD_EUR_2017'] == 0.0\n",
    "\n",
    "assert spredixcan_genes_effect_directions.loc['ENSG00000007202', 'IMMUNOBASE_Systemic_lupus_erythematosus_hg19'] == 0.0"
   ]
  },
  {
   "cell_type": "markdown",
   "metadata": {},
   "source": [
    "The code below was used to write the assert above; see for each gene if first and last (min and max) correspond to sign above"
   ]
  },
  {
   "cell_type": "code",
   "execution_count": null,
   "metadata": {},
   "outputs": [],
   "source": [
    "rapid_gwas_dir = conf.SPREDIXCAN_RESULTS_DIR['RapidGWASProject']\n",
    "gtex_gwas_dir = conf.SPREDIXCAN_RESULTS_DIR['GTEX_GWAS']"
   ]
  },
  {
   "cell_type": "code",
   "execution_count": null,
   "metadata": {},
   "outputs": [],
   "source": [
    "%%bash -s \"$rapid_gwas_dir\"\n",
    "cd $1/N02\n",
    "parallel 'cat {} | cut -f1-3 -d, | column -t -s, | grep \"ENSG00000000419\"' ::: *.csv | sort -k3 -g | sed -e 1b -e '$!d'\n",
    "echo \"\"\n",
    "parallel 'cat {} | cut -f1-3 -d, | column -t -s, | grep \"ENSG00000000457\"' ::: *.csv | sort -k3 -g | sed -e 1b -e '$!d'\n",
    "echo \"\"\n",
    "parallel 'cat {} | cut -f1-3 -d, | column -t -s, | grep \"ENSG00000000460\"' ::: *.csv | sort -k3 -g | sed -e 1b -e '$!d'"
   ]
  },
  {
   "cell_type": "code",
   "execution_count": null,
   "metadata": {},
   "outputs": [],
   "source": [
    "%%bash -s \"$gtex_gwas_dir\"\n",
    "cd $1/Astle_et_al_2016_Reticulocyte_count\n",
    "parallel 'cat {} | cut -f1-3 -d, | column -t -s, | grep \"ENSG00000000419\"' ::: *.csv | sort -k3 -g | sed -e 1b -e '$!d'\n",
    "echo \"\"\n",
    "parallel 'cat {} | cut -f1-3 -d, | column -t -s, | grep \"ENSG00000000457\"' ::: *.csv | sort -k3 -g | sed -e 1b -e '$!d'\n",
    "echo \"\"\n",
    "parallel 'cat {} | cut -f1-3 -d, | column -t -s, | grep \"ENSG00000000460\"' ::: *.csv | sort -k3 -g | sed -e 1b -e '$!d'"
   ]
  },
  {
   "cell_type": "code",
   "execution_count": null,
   "metadata": {},
   "outputs": [],
   "source": [
    "%%bash -s \"$gtex_gwas_dir\"\n",
    "cd $1/PGC_ADHD_EUR_2017\n",
    "parallel 'cat {} | cut -f1-3 -d, | column -t -s, | grep \"ENSG00000186090\"' ::: *.csv | sort -k3 -g | sed -e 1b -e '$!d'\n",
    "echo \"\"\n",
    "parallel 'cat {} | cut -f1-3 -d, | column -t -s, | grep \"ENSG00000007202\"' ::: *.csv | sort -k3 -g | sed -e 1b -e '$!d'"
   ]
  },
  {
   "cell_type": "code",
   "execution_count": null,
   "metadata": {},
   "outputs": [],
   "source": [
    "%%bash -s \"$gtex_gwas_dir\"\n",
    "cd $1/IMMUNOBASE_Systemic_lupus_erythematosus_hg19\n",
    "parallel 'cat {} | cut -f1-3 -d, | column -t -s, | grep \"ENSG00000007202\"' ::: *.csv | sort -k3 -g | sed -e 1b -e '$!d'"
   ]
  },
  {
   "cell_type": "markdown",
   "metadata": {},
   "source": [
    "### Save"
   ]
  },
  {
   "cell_type": "code",
   "execution_count": null,
   "metadata": {},
   "outputs": [],
   "source": [
    "spredixcan_genes_effect_directions.shape"
   ]
  },
  {
   "cell_type": "code",
   "execution_count": null,
   "metadata": {},
   "outputs": [],
   "source": [
    "spredixcan_genes_effect_directions.head()"
   ]
  },
  {
   "cell_type": "code",
   "execution_count": null,
   "metadata": {},
   "outputs": [],
   "source": [
    "# Save\n",
    "spredixcan_genes_effect_directions_filename = os.path.join(conf.GENE_ASSOC_DIR, f'spredixcan-mashr-effect_direction-most_signif.pkl.xz')\n",
    "display(spredixcan_genes_effect_directions_filename)"
   ]
  },
  {
   "cell_type": "code",
   "execution_count": null,
   "metadata": {},
   "outputs": [],
   "source": [
    "spredixcan_genes_effect_directions.to_pickle(spredixcan_genes_effect_directions_filename)"
   ]
  },
  {
   "cell_type": "markdown",
   "metadata": {},
   "source": [
    "### Save in HDF5 format for webapp"
   ]
  },
  {
   "cell_type": "code",
   "execution_count": null,
   "metadata": {},
   "outputs": [],
   "source": [
    "spredixcan_genes_effect_directions = pd.read_pickle(spredixcan_genes_effect_directions_filename)"
   ]
  },
  {
   "cell_type": "code",
   "execution_count": null,
   "metadata": {},
   "outputs": [],
   "source": [
    "spredixcan_genes_effect_directions.shape"
   ]
  },
  {
   "cell_type": "code",
   "execution_count": null,
   "metadata": {},
   "outputs": [],
   "source": [
    "from utils import simplify_string_for_hdf5"
   ]
  },
  {
   "cell_type": "code",
   "execution_count": null,
   "metadata": {},
   "outputs": [],
   "source": [
    "OUTPUT_HDF5_FILE = os.path.join(conf.GENE_ASSOC_DIR, 'spredixcan-mashr-effect_direction-most_signif.h5')\n",
    "display(OUTPUT_HDF5_FILE)"
   ]
  },
  {
   "cell_type": "code",
   "execution_count": null,
   "metadata": {},
   "outputs": [],
   "source": [
    "with pd.HDFStore(OUTPUT_HDF5_FILE, mode='w', complevel=1) as store:\n",
    "    for col in spredixcan_genes_effect_directions.columns:\n",
    "        print('.', flush=True, end='')\n",
    "        \n",
    "        clean_col = simplify_string_for_hdf5(col)\n",
    "        store[clean_col] = spredixcan_genes_effect_directions[col].astype(float)"
   ]
  },
  {
   "cell_type": "code",
   "execution_count": null,
   "metadata": {},
   "outputs": [],
   "source": [
    "# testing\n",
    "with pd.HDFStore(OUTPUT_HDF5_FILE, mode='r') as store:\n",
    "    store_keys = list(store.keys())\n",
    "    assert len(store_keys) == spredixcan_genes_effect_directions.shape[1]\n",
    "    display(store_keys[:5])\n",
    "    \n",
    "    clean_col = simplify_string_for_hdf5('N02-Diagnoses_main_ICD10_N02_Recurrent_and_persistent_haematuria')\n",
    "    data = store[clean_col]\n",
    "    assert data.shape == (22515,), data.shape\n",
    "    assert data.loc['ENSG00000000419'] == -1.0\n",
    "    assert data.loc['ENSG00000000457'] == 1.0\n",
    "    assert data.loc['ENSG00000000460'] == -1.0\n",
    "    \n",
    "    clean_col = simplify_string_for_hdf5('Astle_et_al_2016_Reticulocyte_count')\n",
    "    data = store[clean_col]\n",
    "    assert data.shape == (22515,), data.shape\n",
    "    assert data.loc['ENSG00000000419'] == -1.0\n",
    "    assert data.loc['ENSG00000000457'] == 1.0\n",
    "    assert data.loc['ENSG00000000460'] == 1.0\n",
    "    \n",
    "    clean_col = simplify_string_for_hdf5('PGC_ADHD_EUR_2017')\n",
    "    data = store[clean_col]\n",
    "    assert data.shape == (22515,), data.shape\n",
    "    assert data.loc['ENSG00000186090'] == 0.0\n",
    "    assert data.loc['ENSG00000007202'] == 0.0\n",
    "    \n",
    "    clean_col = simplify_string_for_hdf5('IMMUNOBASE_Systemic_lupus_erythematosus_hg19')\n",
    "    data = store[clean_col]\n",
    "    assert data.shape == (22515,), data.shape\n",
    "    assert data.loc['ENSG00000007202'] == 0.0"
   ]
  },
  {
   "cell_type": "code",
   "execution_count": null,
   "metadata": {},
   "outputs": [],
   "source": []
  }
 ],
 "metadata": {
  "kernelspec": {
   "display_name": "Python 3",
   "language": "python",
   "name": "python3"
  },
  "language_info": {
   "codemirror_mode": {
    "name": "ipython",
    "version": 3
   },
   "file_extension": ".py",
   "mimetype": "text/x-python",
   "name": "python",
   "nbconvert_exporter": "python",
   "pygments_lexer": "ipython3",
   "version": "3.7.5"
  }
 },
 "nbformat": 4,
 "nbformat_minor": 4
}
