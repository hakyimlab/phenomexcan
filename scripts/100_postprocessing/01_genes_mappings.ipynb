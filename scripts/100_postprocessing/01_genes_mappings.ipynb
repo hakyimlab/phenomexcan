{
 "cells": [
  {
   "cell_type": "code",
   "execution_count": 1,
   "metadata": {},
   "outputs": [],
   "source": [
    "%load_ext autoreload\n",
    "%autoreload 2"
   ]
  },
  {
   "cell_type": "code",
   "execution_count": 2,
   "metadata": {},
   "outputs": [],
   "source": [
    "import os\n",
    "from glob import glob\n",
    "import sqlite3\n",
    "\n",
    "import numpy as np\n",
    "import pandas as pd\n",
    "\n",
    "import settings as conf"
   ]
  },
  {
   "cell_type": "markdown",
   "metadata": {},
   "source": [
    "# Load all genes from models"
   ]
  },
  {
   "cell_type": "code",
   "execution_count": 3,
   "metadata": {},
   "outputs": [
    {
     "data": {
      "text/plain": [
       "['/home/miltondp/projects/labs/hakyimlab/phenomexcan/base/data/gtex_v8/mashr/mashr_Skin_Not_Sun_Exposed_Suprapubic.db',\n",
       " '/home/miltondp/projects/labs/hakyimlab/phenomexcan/base/data/gtex_v8/mashr/mashr_Cells_EBV-transformed_lymphocytes.db',\n",
       " '/home/miltondp/projects/labs/hakyimlab/phenomexcan/base/data/gtex_v8/mashr/mashr_Brain_Frontal_Cortex_BA9.db']"
      ]
     },
     "execution_count": 3,
     "metadata": {},
     "output_type": "execute_result"
    }
   ],
   "source": [
    "gtex_models_files = glob(os.path.join(conf.GTEX_MODELS_DIR, '*.db'))\n",
    "gtex_models_files[:3]"
   ]
  },
  {
   "cell_type": "code",
   "execution_count": 4,
   "metadata": {},
   "outputs": [
    {
     "data": {
      "text/plain": [
       "49"
      ]
     },
     "metadata": {},
     "output_type": "display_data"
    }
   ],
   "source": [
    "# should be 49 for GTEx v8 models\n",
    "display(len(gtex_models_files))\n",
    "assert len(gtex_models_files) == 49"
   ]
  },
  {
   "cell_type": "code",
   "execution_count": 5,
   "metadata": {},
   "outputs": [],
   "source": [
    "# get gene id, gene name and gene type from sqlite files\n",
    "\n",
    "all_models = []\n",
    "all_models_size = []\n",
    "\n",
    "for model_file in gtex_models_files:\n",
    "    cnx = sqlite3.connect(model_file)\n",
    "    df = pd.read_sql_query(\"SELECT gene, genename as gene_name, gene_type FROM extra\", cnx)\n",
    "    df = df.assign(gene_id=df['gene'].apply(lambda x: x.split('.')[0]))\n",
    "    \n",
    "    all_models_size.append(df.shape[0])\n",
    "    all_models.append(df)"
   ]
  },
  {
   "cell_type": "code",
   "execution_count": 6,
   "metadata": {},
   "outputs": [],
   "source": [
    "genes_mapping = pd.concat(all_models, ignore_index=True)"
   ]
  },
  {
   "cell_type": "code",
   "execution_count": 7,
   "metadata": {},
   "outputs": [
    {
     "data": {
      "text/plain": [
       "(686241, 4)"
      ]
     },
     "execution_count": 7,
     "metadata": {},
     "output_type": "execute_result"
    }
   ],
   "source": [
    "genes_mapping.shape"
   ]
  },
  {
   "cell_type": "code",
   "execution_count": 8,
   "metadata": {},
   "outputs": [
    {
     "data": {
      "text/html": [
       "<div>\n",
       "<style scoped>\n",
       "    .dataframe tbody tr th:only-of-type {\n",
       "        vertical-align: middle;\n",
       "    }\n",
       "\n",
       "    .dataframe tbody tr th {\n",
       "        vertical-align: top;\n",
       "    }\n",
       "\n",
       "    .dataframe thead th {\n",
       "        text-align: right;\n",
       "    }\n",
       "</style>\n",
       "<table border=\"1\" class=\"dataframe\">\n",
       "  <thead>\n",
       "    <tr style=\"text-align: right;\">\n",
       "      <th></th>\n",
       "      <th>gene</th>\n",
       "      <th>gene_name</th>\n",
       "      <th>gene_type</th>\n",
       "      <th>gene_id</th>\n",
       "    </tr>\n",
       "  </thead>\n",
       "  <tbody>\n",
       "    <tr>\n",
       "      <th>0</th>\n",
       "      <td>ENSG00000000457.13</td>\n",
       "      <td>SCYL3</td>\n",
       "      <td>protein_coding</td>\n",
       "      <td>ENSG00000000457</td>\n",
       "    </tr>\n",
       "    <tr>\n",
       "      <th>1</th>\n",
       "      <td>ENSG00000000938.12</td>\n",
       "      <td>FGR</td>\n",
       "      <td>protein_coding</td>\n",
       "      <td>ENSG00000000938</td>\n",
       "    </tr>\n",
       "    <tr>\n",
       "      <th>2</th>\n",
       "      <td>ENSG00000000971.15</td>\n",
       "      <td>CFH</td>\n",
       "      <td>protein_coding</td>\n",
       "      <td>ENSG00000000971</td>\n",
       "    </tr>\n",
       "  </tbody>\n",
       "</table>\n",
       "</div>"
      ],
      "text/plain": [
       "                 gene gene_name       gene_type          gene_id\n",
       "0  ENSG00000000457.13     SCYL3  protein_coding  ENSG00000000457\n",
       "1  ENSG00000000938.12       FGR  protein_coding  ENSG00000000938\n",
       "2  ENSG00000000971.15       CFH  protein_coding  ENSG00000000971"
      ]
     },
     "execution_count": 8,
     "metadata": {},
     "output_type": "execute_result"
    }
   ],
   "source": [
    "genes_mapping.head(3)"
   ]
  },
  {
   "cell_type": "code",
   "execution_count": 9,
   "metadata": {},
   "outputs": [],
   "source": [
    "genes_mapping = genes_mapping.drop_duplicates()"
   ]
  },
  {
   "cell_type": "code",
   "execution_count": 10,
   "metadata": {},
   "outputs": [
    {
     "data": {
      "text/plain": [
       "(22535, 4)"
      ]
     },
     "execution_count": 10,
     "metadata": {},
     "output_type": "execute_result"
    }
   ],
   "source": [
    "genes_mapping.shape"
   ]
  },
  {
   "cell_type": "code",
   "execution_count": 11,
   "metadata": {},
   "outputs": [],
   "source": [
    "assert genes_mapping.shape[0] == genes_mapping['gene'].unique().shape[0]"
   ]
  },
  {
   "cell_type": "code",
   "execution_count": 12,
   "metadata": {},
   "outputs": [],
   "source": [
    "assert genes_mapping.shape[0] == genes_mapping['gene_id'].unique().shape[0]"
   ]
  },
  {
   "cell_type": "code",
   "execution_count": 13,
   "metadata": {},
   "outputs": [
    {
     "data": {
      "text/html": [
       "<div>\n",
       "<style scoped>\n",
       "    .dataframe tbody tr th:only-of-type {\n",
       "        vertical-align: middle;\n",
       "    }\n",
       "\n",
       "    .dataframe tbody tr th {\n",
       "        vertical-align: top;\n",
       "    }\n",
       "\n",
       "    .dataframe thead th {\n",
       "        text-align: right;\n",
       "    }\n",
       "</style>\n",
       "<table border=\"1\" class=\"dataframe\">\n",
       "  <thead>\n",
       "    <tr style=\"text-align: right;\">\n",
       "      <th></th>\n",
       "      <th>gene</th>\n",
       "      <th>gene_name</th>\n",
       "      <th>gene_type</th>\n",
       "      <th>gene_id</th>\n",
       "    </tr>\n",
       "  </thead>\n",
       "  <tbody>\n",
       "    <tr>\n",
       "      <th>0</th>\n",
       "      <td>ENSG00000000457.13</td>\n",
       "      <td>SCYL3</td>\n",
       "      <td>protein_coding</td>\n",
       "      <td>ENSG00000000457</td>\n",
       "    </tr>\n",
       "    <tr>\n",
       "      <th>1</th>\n",
       "      <td>ENSG00000000938.12</td>\n",
       "      <td>FGR</td>\n",
       "      <td>protein_coding</td>\n",
       "      <td>ENSG00000000938</td>\n",
       "    </tr>\n",
       "    <tr>\n",
       "      <th>2</th>\n",
       "      <td>ENSG00000000971.15</td>\n",
       "      <td>CFH</td>\n",
       "      <td>protein_coding</td>\n",
       "      <td>ENSG00000000971</td>\n",
       "    </tr>\n",
       "    <tr>\n",
       "      <th>3</th>\n",
       "      <td>ENSG00000001036.13</td>\n",
       "      <td>FUCA2</td>\n",
       "      <td>protein_coding</td>\n",
       "      <td>ENSG00000001036</td>\n",
       "    </tr>\n",
       "    <tr>\n",
       "      <th>4</th>\n",
       "      <td>ENSG00000001084.10</td>\n",
       "      <td>GCLC</td>\n",
       "      <td>protein_coding</td>\n",
       "      <td>ENSG00000001084</td>\n",
       "    </tr>\n",
       "  </tbody>\n",
       "</table>\n",
       "</div>"
      ],
      "text/plain": [
       "                 gene gene_name       gene_type          gene_id\n",
       "0  ENSG00000000457.13     SCYL3  protein_coding  ENSG00000000457\n",
       "1  ENSG00000000938.12       FGR  protein_coding  ENSG00000000938\n",
       "2  ENSG00000000971.15       CFH  protein_coding  ENSG00000000971\n",
       "3  ENSG00000001036.13     FUCA2  protein_coding  ENSG00000001036\n",
       "4  ENSG00000001084.10      GCLC  protein_coding  ENSG00000001084"
      ]
     },
     "execution_count": 13,
     "metadata": {},
     "output_type": "execute_result"
    }
   ],
   "source": [
    "genes_mapping.head()"
   ]
  },
  {
   "cell_type": "markdown",
   "metadata": {},
   "source": [
    "## Save tissues"
   ]
  },
  {
   "cell_type": "code",
   "execution_count": 14,
   "metadata": {},
   "outputs": [],
   "source": [
    "# save list of tissues\n",
    "tissues_list = [os.path.basename(gtex_model).split('mashr_')[1].split('.db')[0] for gtex_model in gtex_models_files]"
   ]
  },
  {
   "cell_type": "code",
   "execution_count": 15,
   "metadata": {},
   "outputs": [],
   "source": [
    "tissues_df = pd.DataFrame(tissues_list, columns=['tissue_name'])\n",
    "tissues_df.index.rename('tissue_id', inplace=True)"
   ]
  },
  {
   "cell_type": "code",
   "execution_count": 16,
   "metadata": {},
   "outputs": [
    {
     "data": {
      "text/plain": [
       "(49, 1)"
      ]
     },
     "execution_count": 16,
     "metadata": {},
     "output_type": "execute_result"
    }
   ],
   "source": [
    "tissues_df.shape"
   ]
  },
  {
   "cell_type": "code",
   "execution_count": 17,
   "metadata": {},
   "outputs": [
    {
     "data": {
      "text/html": [
       "<div>\n",
       "<style scoped>\n",
       "    .dataframe tbody tr th:only-of-type {\n",
       "        vertical-align: middle;\n",
       "    }\n",
       "\n",
       "    .dataframe tbody tr th {\n",
       "        vertical-align: top;\n",
       "    }\n",
       "\n",
       "    .dataframe thead th {\n",
       "        text-align: right;\n",
       "    }\n",
       "</style>\n",
       "<table border=\"1\" class=\"dataframe\">\n",
       "  <thead>\n",
       "    <tr style=\"text-align: right;\">\n",
       "      <th></th>\n",
       "      <th>tissue_name</th>\n",
       "    </tr>\n",
       "    <tr>\n",
       "      <th>tissue_id</th>\n",
       "      <th></th>\n",
       "    </tr>\n",
       "  </thead>\n",
       "  <tbody>\n",
       "    <tr>\n",
       "      <th>0</th>\n",
       "      <td>Skin_Not_Sun_Exposed_Suprapubic</td>\n",
       "    </tr>\n",
       "    <tr>\n",
       "      <th>1</th>\n",
       "      <td>Cells_EBV-transformed_lymphocytes</td>\n",
       "    </tr>\n",
       "    <tr>\n",
       "      <th>2</th>\n",
       "      <td>Brain_Frontal_Cortex_BA9</td>\n",
       "    </tr>\n",
       "    <tr>\n",
       "      <th>3</th>\n",
       "      <td>Kidney_Cortex</td>\n",
       "    </tr>\n",
       "    <tr>\n",
       "      <th>4</th>\n",
       "      <td>Brain_Substantia_nigra</td>\n",
       "    </tr>\n",
       "  </tbody>\n",
       "</table>\n",
       "</div>"
      ],
      "text/plain": [
       "                                 tissue_name\n",
       "tissue_id                                   \n",
       "0            Skin_Not_Sun_Exposed_Suprapubic\n",
       "1          Cells_EBV-transformed_lymphocytes\n",
       "2                   Brain_Frontal_Cortex_BA9\n",
       "3                              Kidney_Cortex\n",
       "4                     Brain_Substantia_nigra"
      ]
     },
     "execution_count": 17,
     "metadata": {},
     "output_type": "execute_result"
    }
   ],
   "source": [
    "tissues_df.head()"
   ]
  },
  {
   "cell_type": "code",
   "execution_count": 18,
   "metadata": {},
   "outputs": [],
   "source": [
    "os.makedirs(conf.DELIVERABLES_DIR, exist_ok=True)"
   ]
  },
  {
   "cell_type": "code",
   "execution_count": 19,
   "metadata": {},
   "outputs": [
    {
     "data": {
      "text/plain": [
       "'/home/miltondp/projects/labs/hakyimlab/phenomexcan/base/deliverables/tissues.tsv'"
      ]
     },
     "metadata": {},
     "output_type": "display_data"
    }
   ],
   "source": [
    "tissues_file = os.path.join(conf.DELIVERABLES_DIR, 'tissues.tsv')\n",
    "display(tissues_file)\n",
    "\n",
    "tissues_df.to_csv(tissues_file, sep='\\t')"
   ]
  },
  {
   "cell_type": "code",
   "execution_count": 20,
   "metadata": {},
   "outputs": [],
   "source": [
    "def _get_col_stats(column_data):\n",
    "    if column_data.dtype.name == 'object':\n",
    "        return column_data.apply(lambda x: len(str(x))).max()\n",
    "    else:\n",
    "        return (column_data.min(), column_data.max())\n",
    "\n",
    "    return None"
   ]
  },
  {
   "cell_type": "code",
   "execution_count": 21,
   "metadata": {},
   "outputs": [
    {
     "data": {
      "text/plain": [
       "{'tissue_name': 37}"
      ]
     },
     "execution_count": 21,
     "metadata": {},
     "output_type": "execute_result"
    }
   ],
   "source": [
    "{\n",
    "    c : _get_col_stats(tissues_df[c])\n",
    "    for c in tissues_df.columns\n",
    "}"
   ]
  },
  {
   "cell_type": "markdown",
   "metadata": {},
   "source": [
    "# Add gene bands"
   ]
  },
  {
   "cell_type": "code",
   "execution_count": 22,
   "metadata": {},
   "outputs": [],
   "source": [
    "biomart_genes = pd.read_csv(conf.BIOMART_GENES_INFO_FILE, index_col='ensembl_gene_id')"
   ]
  },
  {
   "cell_type": "code",
   "execution_count": 23,
   "metadata": {},
   "outputs": [],
   "source": [
    "def _get_gene_band(gene_id):\n",
    "    if gene_id not in biomart_genes.index:\n",
    "        return ''\n",
    "\n",
    "    gene_data = biomart_genes.loc[gene_id]\n",
    "    chrom = gene_data['chromosome_name']\n",
    "    band = gene_data['band']\n",
    "\n",
    "    return f'{chrom}{band}'"
   ]
  },
  {
   "cell_type": "code",
   "execution_count": 24,
   "metadata": {},
   "outputs": [],
   "source": [
    "genes_mapping = genes_mapping.assign(band=genes_mapping['gene_id'].apply(lambda x: _get_gene_band(x)))"
   ]
  },
  {
   "cell_type": "code",
   "execution_count": 25,
   "metadata": {},
   "outputs": [
    {
     "data": {
      "text/html": [
       "<div>\n",
       "<style scoped>\n",
       "    .dataframe tbody tr th:only-of-type {\n",
       "        vertical-align: middle;\n",
       "    }\n",
       "\n",
       "    .dataframe tbody tr th {\n",
       "        vertical-align: top;\n",
       "    }\n",
       "\n",
       "    .dataframe thead th {\n",
       "        text-align: right;\n",
       "    }\n",
       "</style>\n",
       "<table border=\"1\" class=\"dataframe\">\n",
       "  <thead>\n",
       "    <tr style=\"text-align: right;\">\n",
       "      <th></th>\n",
       "      <th>gene</th>\n",
       "      <th>gene_name</th>\n",
       "      <th>gene_type</th>\n",
       "      <th>gene_id</th>\n",
       "      <th>band</th>\n",
       "    </tr>\n",
       "  </thead>\n",
       "  <tbody>\n",
       "    <tr>\n",
       "      <th>0</th>\n",
       "      <td>ENSG00000000457.13</td>\n",
       "      <td>SCYL3</td>\n",
       "      <td>protein_coding</td>\n",
       "      <td>ENSG00000000457</td>\n",
       "      <td>1q24.2</td>\n",
       "    </tr>\n",
       "    <tr>\n",
       "      <th>1</th>\n",
       "      <td>ENSG00000000938.12</td>\n",
       "      <td>FGR</td>\n",
       "      <td>protein_coding</td>\n",
       "      <td>ENSG00000000938</td>\n",
       "      <td>1p35.3</td>\n",
       "    </tr>\n",
       "    <tr>\n",
       "      <th>2</th>\n",
       "      <td>ENSG00000000971.15</td>\n",
       "      <td>CFH</td>\n",
       "      <td>protein_coding</td>\n",
       "      <td>ENSG00000000971</td>\n",
       "      <td>1q31.3</td>\n",
       "    </tr>\n",
       "    <tr>\n",
       "      <th>3</th>\n",
       "      <td>ENSG00000001036.13</td>\n",
       "      <td>FUCA2</td>\n",
       "      <td>protein_coding</td>\n",
       "      <td>ENSG00000001036</td>\n",
       "      <td>6q24.2</td>\n",
       "    </tr>\n",
       "    <tr>\n",
       "      <th>4</th>\n",
       "      <td>ENSG00000001084.10</td>\n",
       "      <td>GCLC</td>\n",
       "      <td>protein_coding</td>\n",
       "      <td>ENSG00000001084</td>\n",
       "      <td>6p12.1</td>\n",
       "    </tr>\n",
       "  </tbody>\n",
       "</table>\n",
       "</div>"
      ],
      "text/plain": [
       "                 gene gene_name       gene_type          gene_id    band\n",
       "0  ENSG00000000457.13     SCYL3  protein_coding  ENSG00000000457  1q24.2\n",
       "1  ENSG00000000938.12       FGR  protein_coding  ENSG00000000938  1p35.3\n",
       "2  ENSG00000000971.15       CFH  protein_coding  ENSG00000000971  1q31.3\n",
       "3  ENSG00000001036.13     FUCA2  protein_coding  ENSG00000001036  6q24.2\n",
       "4  ENSG00000001084.10      GCLC  protein_coding  ENSG00000001084  6p12.1"
      ]
     },
     "execution_count": 25,
     "metadata": {},
     "output_type": "execute_result"
    }
   ],
   "source": [
    "genes_mapping.head()"
   ]
  },
  {
   "cell_type": "code",
   "execution_count": 26,
   "metadata": {},
   "outputs": [],
   "source": [
    "os.makedirs(conf.GENES_METADATA_DIR, exist_ok=True)"
   ]
  },
  {
   "cell_type": "code",
   "execution_count": 27,
   "metadata": {},
   "outputs": [
    {
     "data": {
      "text/plain": [
       "'/home/miltondp/projects/labs/hakyimlab/phenomexcan/base/data/genes_metadata/genes_mappings.pkl'"
      ]
     },
     "metadata": {},
     "output_type": "display_data"
    }
   ],
   "source": [
    "# for internal use\n",
    "final_filename = os.path.join(conf.GENES_METADATA_DIR, 'genes_mappings.pkl')\n",
    "display(final_filename)"
   ]
  },
  {
   "cell_type": "code",
   "execution_count": 28,
   "metadata": {},
   "outputs": [],
   "source": [
    "genes_mapping.to_pickle(final_filename)"
   ]
  },
  {
   "cell_type": "code",
   "execution_count": 29,
   "metadata": {},
   "outputs": [
    {
     "data": {
      "text/plain": [
       "'/home/miltondp/projects/labs/hakyimlab/phenomexcan/base/deliverables/genes_mappings.tsv.gz'"
      ]
     },
     "metadata": {},
     "output_type": "display_data"
    }
   ],
   "source": [
    "# for general use\n",
    "os.makedirs(conf.DELIVERABLES_DIR, exist_ok=True)\n",
    "final_filename = os.path.join(conf.DELIVERABLES_DIR, 'genes_mappings.tsv.gz')\n",
    "display(final_filename)"
   ]
  },
  {
   "cell_type": "code",
   "execution_count": 30,
   "metadata": {},
   "outputs": [],
   "source": [
    "genes_mapping.to_csv(final_filename, sep='\\t', index=False)"
   ]
  },
  {
   "cell_type": "markdown",
   "metadata": {},
   "source": [
    "# Save mappings"
   ]
  },
  {
   "cell_type": "code",
   "execution_count": 31,
   "metadata": {},
   "outputs": [],
   "source": [
    "import pickle"
   ]
  },
  {
   "cell_type": "markdown",
   "metadata": {},
   "source": [
    "### Gene id to name"
   ]
  },
  {
   "cell_type": "code",
   "execution_count": 32,
   "metadata": {},
   "outputs": [],
   "source": [
    "gene_id_to_name = genes_mapping[['gene_id', 'gene_name']].set_index('gene_id').to_dict()['gene_name']\n",
    "assert gene_id_to_name['ENSG00000000457'] == 'SCYL3'\n",
    "assert gene_id_to_name['ENSG00000001036'] == 'FUCA2'"
   ]
  },
  {
   "cell_type": "code",
   "execution_count": 33,
   "metadata": {},
   "outputs": [],
   "source": [
    "with open(os.path.join(conf.GENES_METADATA_DIR, 'genes_mapping_simplified-0.pkl'), 'wb') as f:\n",
    "    pickle.dump(gene_id_to_name, f)"
   ]
  },
  {
   "cell_type": "code",
   "execution_count": 34,
   "metadata": {},
   "outputs": [],
   "source": [
    "with open(os.path.join(conf.GENES_METADATA_DIR, 'genes_mapping_simplified-0.pkl'), 'rb') as f:\n",
    "    gene_id_to_name = pickle.load(f)\n",
    "\n",
    "assert gene_id_to_name['ENSG00000000457'] == 'SCYL3'\n",
    "assert gene_id_to_name['ENSG00000001036'] == 'FUCA2'"
   ]
  },
  {
   "cell_type": "markdown",
   "metadata": {},
   "source": [
    "### Gene id to band"
   ]
  },
  {
   "cell_type": "code",
   "execution_count": 35,
   "metadata": {},
   "outputs": [],
   "source": [
    "gene_id_to_band = genes_mapping[['band', 'gene_id']].set_index('gene_id').to_dict()['band']\n",
    "assert gene_id_to_band['ENSG00000000457'] == '1q24.2'\n",
    "assert gene_id_to_band['ENSG00000000460'] == '1q24.2'\n",
    "assert gene_id_to_band['ENSG00000001036'] == '6q24.2'"
   ]
  },
  {
   "cell_type": "code",
   "execution_count": 36,
   "metadata": {},
   "outputs": [],
   "source": [
    "with open(os.path.join(conf.GENES_METADATA_DIR, 'genes_mapping_id_to_band.pkl'), 'wb') as f:\n",
    "    pickle.dump(gene_id_to_band, f)"
   ]
  },
  {
   "cell_type": "code",
   "execution_count": 37,
   "metadata": {},
   "outputs": [],
   "source": [
    "with open(os.path.join(conf.GENES_METADATA_DIR, 'genes_mapping_id_to_band.pkl'), 'rb') as f:\n",
    "    gene_id_to_band = pickle.load(f)\n",
    "\n",
    "assert gene_id_to_band['ENSG00000000457'] == '1q24.2'\n",
    "assert gene_id_to_band['ENSG00000000460'] == '1q24.2'\n",
    "assert gene_id_to_band['ENSG00000001036'] == '6q24.2'"
   ]
  },
  {
   "cell_type": "markdown",
   "metadata": {},
   "source": [
    "### Gene name to id"
   ]
  },
  {
   "cell_type": "code",
   "execution_count": 38,
   "metadata": {},
   "outputs": [],
   "source": [
    "gene_name_to_id = genes_mapping[['gene_id', 'gene_name']].set_index('gene_name').to_dict()['gene_id']\n",
    "assert gene_name_to_id['SCYL3'] == 'ENSG00000000457'\n",
    "assert gene_name_to_id['C1orf112'] == 'ENSG00000000460'"
   ]
  },
  {
   "cell_type": "code",
   "execution_count": 39,
   "metadata": {},
   "outputs": [],
   "source": [
    "with open(os.path.join(conf.GENES_METADATA_DIR, 'genes_mapping_simplified-1.pkl'), 'wb') as f:\n",
    "    pickle.dump(gene_name_to_id, f)"
   ]
  },
  {
   "cell_type": "code",
   "execution_count": 40,
   "metadata": {},
   "outputs": [],
   "source": [
    "with open(os.path.join(conf.GENES_METADATA_DIR, 'genes_mapping_simplified-1.pkl'), 'rb') as f:\n",
    "    gene_name_to_id = pickle.load(f)\n",
    "\n",
    "assert gene_name_to_id['SCYL3'] == 'ENSG00000000457'\n",
    "assert gene_name_to_id['C1orf112'] == 'ENSG00000000460'"
   ]
  },
  {
   "cell_type": "markdown",
   "metadata": {},
   "source": [
    "### Gene name to band"
   ]
  },
  {
   "cell_type": "code",
   "execution_count": 41,
   "metadata": {},
   "outputs": [],
   "source": [
    "gene_name_to_band = genes_mapping[['band', 'gene_name']].set_index('gene_name').to_dict()['band']\n",
    "assert gene_name_to_band['SCYL3'] == '1q24.2'\n",
    "assert gene_name_to_band['C1orf112'] == '1q24.2'\n",
    "assert gene_name_to_band['FUCA2'] == '6q24.2'"
   ]
  },
  {
   "cell_type": "code",
   "execution_count": 42,
   "metadata": {},
   "outputs": [],
   "source": [
    "with open(os.path.join(conf.GENES_METADATA_DIR, 'genes_mapping_name_to_band.pkl'), 'wb') as f:\n",
    "    pickle.dump(gene_name_to_band, f)"
   ]
  },
  {
   "cell_type": "code",
   "execution_count": 43,
   "metadata": {},
   "outputs": [],
   "source": [
    "with open(os.path.join(conf.GENES_METADATA_DIR, 'genes_mapping_name_to_band.pkl'), 'rb') as f:\n",
    "    gene_name_to_band = pickle.load(f)\n",
    "\n",
    "assert gene_name_to_band['SCYL3'] == '1q24.2'\n",
    "assert gene_name_to_band['C1orf112'] == '1q24.2'\n",
    "assert gene_name_to_band['FUCA2'] == '6q24.2'"
   ]
  },
  {
   "cell_type": "markdown",
   "metadata": {},
   "source": [
    "# Deprecated"
   ]
  },
  {
   "cell_type": "markdown",
   "metadata": {},
   "source": [
    "# Remove some genes with duplicated gene IDs"
   ]
  },
  {
   "cell_type": "markdown",
   "metadata": {},
   "source": [
    "Keep only those IDs reported in GeneCards"
   ]
  },
  {
   "cell_type": "code",
   "execution_count": 44,
   "metadata": {},
   "outputs": [
    {
     "data": {
      "text/plain": [
       "False"
      ]
     },
     "execution_count": 44,
     "metadata": {},
     "output_type": "execute_result"
    }
   ],
   "source": [
    "# some gene names are duplicated (several gene ids per gene name)\n",
    "genes_mapping.shape[0] == genes_mapping['gene_name'].unique().shape[0]"
   ]
  },
  {
   "cell_type": "code",
   "execution_count": 45,
   "metadata": {},
   "outputs": [
    {
     "data": {
      "text/plain": [
       "LINC01115    2\n",
       "LINC00484    2\n",
       "LYNX1        2\n",
       "MAL2         2\n",
       "SPATA13      2\n",
       "GOLGA8M      2\n",
       "LINC01422    2\n",
       "LINC01297    2\n",
       "Name: gene_name, dtype: int64"
      ]
     },
     "metadata": {},
     "output_type": "display_data"
    }
   ],
   "source": [
    "tmp = genes_mapping['gene_name'].value_counts()\n",
    "tmp = tmp[tmp > 1]\n",
    "display(tmp)"
   ]
  },
  {
   "cell_type": "code",
   "execution_count": 46,
   "metadata": {},
   "outputs": [],
   "source": [
    "# taken from GeneCards\n",
    "ens_ids_to_keep_map = {\n",
    "    'LINC01115': 'ENSG00000237667',\n",
    "    'MAL2': 'ENSG00000147676',\n",
    "    'LYNX1': 'ENSG00000180155',\n",
    "    'LINC01422': 'ENSG00000223704',\n",
    "    'SPATA13': 'ENSG00000182957',\n",
    "    'GOLGA8M': 'ENSG00000188626',\n",
    "    'LINC01297': 'ENSG00000274827',\n",
    "    'LINC00484': 'ENSG00000235641',\n",
    "}"
   ]
  },
  {
   "cell_type": "code",
   "execution_count": 47,
   "metadata": {},
   "outputs": [],
   "source": [
    "ens_ids_to_keep = list(ens_ids_to_keep_map.values())"
   ]
  },
  {
   "cell_type": "code",
   "execution_count": 48,
   "metadata": {},
   "outputs": [
    {
     "data": {
      "text/html": [
       "<div>\n",
       "<style scoped>\n",
       "    .dataframe tbody tr th:only-of-type {\n",
       "        vertical-align: middle;\n",
       "    }\n",
       "\n",
       "    .dataframe tbody tr th {\n",
       "        vertical-align: top;\n",
       "    }\n",
       "\n",
       "    .dataframe thead th {\n",
       "        text-align: right;\n",
       "    }\n",
       "</style>\n",
       "<table border=\"1\" class=\"dataframe\">\n",
       "  <thead>\n",
       "    <tr style=\"text-align: right;\">\n",
       "      <th></th>\n",
       "      <th>gene</th>\n",
       "      <th>gene_name</th>\n",
       "      <th>gene_type</th>\n",
       "      <th>gene_id</th>\n",
       "      <th>band</th>\n",
       "    </tr>\n",
       "  </thead>\n",
       "  <tbody>\n",
       "    <tr>\n",
       "      <th>11492</th>\n",
       "      <td>ENSG00000188626.6</td>\n",
       "      <td>GOLGA8M</td>\n",
       "      <td>protein_coding</td>\n",
       "      <td>ENSG00000188626</td>\n",
       "      <td>15q13.1</td>\n",
       "    </tr>\n",
       "    <tr>\n",
       "      <th>329628</th>\n",
       "      <td>ENSG00000261480.1</td>\n",
       "      <td>GOLGA8M</td>\n",
       "      <td>lincRNA</td>\n",
       "      <td>ENSG00000261480</td>\n",
       "      <td>15q13.1</td>\n",
       "    </tr>\n",
       "    <tr>\n",
       "      <th>26074</th>\n",
       "      <td>ENSG00000235641.4</td>\n",
       "      <td>LINC00484</td>\n",
       "      <td>lincRNA</td>\n",
       "      <td>ENSG00000235641</td>\n",
       "      <td>9q22.2</td>\n",
       "    </tr>\n",
       "    <tr>\n",
       "      <th>39454</th>\n",
       "      <td>ENSG00000229694.6</td>\n",
       "      <td>LINC00484</td>\n",
       "      <td>lincRNA</td>\n",
       "      <td>ENSG00000229694</td>\n",
       "      <td>9q22.2</td>\n",
       "    </tr>\n",
       "    <tr>\n",
       "      <th>13264</th>\n",
       "      <td>ENSG00000237667.5</td>\n",
       "      <td>LINC01115</td>\n",
       "      <td>lincRNA</td>\n",
       "      <td>ENSG00000237667</td>\n",
       "      <td>2p25.3</td>\n",
       "    </tr>\n",
       "    <tr>\n",
       "      <th>148765</th>\n",
       "      <td>ENSG00000272342.1</td>\n",
       "      <td>LINC01115</td>\n",
       "      <td>lincRNA</td>\n",
       "      <td>ENSG00000272342</td>\n",
       "      <td>2p25.3</td>\n",
       "    </tr>\n",
       "    <tr>\n",
       "      <th>229974</th>\n",
       "      <td>ENSG00000225255.6</td>\n",
       "      <td>LINC01297</td>\n",
       "      <td>lincRNA</td>\n",
       "      <td>ENSG00000225255</td>\n",
       "      <td>22q11.1</td>\n",
       "    </tr>\n",
       "    <tr>\n",
       "      <th>231948</th>\n",
       "      <td>ENSG00000274827.4</td>\n",
       "      <td>LINC01297</td>\n",
       "      <td>lincRNA</td>\n",
       "      <td>ENSG00000274827</td>\n",
       "      <td>14q11.2</td>\n",
       "    </tr>\n",
       "    <tr>\n",
       "      <th>12785</th>\n",
       "      <td>ENSG00000223704.1</td>\n",
       "      <td>LINC01422</td>\n",
       "      <td>lincRNA</td>\n",
       "      <td>ENSG00000223704</td>\n",
       "      <td>22q12.1</td>\n",
       "    </tr>\n",
       "    <tr>\n",
       "      <th>13187</th>\n",
       "      <td>ENSG00000235271.5</td>\n",
       "      <td>LINC01422</td>\n",
       "      <td>lincRNA</td>\n",
       "      <td>ENSG00000235271</td>\n",
       "      <td>22q12.1</td>\n",
       "    </tr>\n",
       "    <tr>\n",
       "      <th>10498</th>\n",
       "      <td>ENSG00000180155.19</td>\n",
       "      <td>LYNX1</td>\n",
       "      <td>protein_coding</td>\n",
       "      <td>ENSG00000180155</td>\n",
       "      <td>8q24.3</td>\n",
       "    </tr>\n",
       "    <tr>\n",
       "      <th>14927</th>\n",
       "      <td>ENSG00000283992.1</td>\n",
       "      <td>LYNX1</td>\n",
       "      <td>protein_coding</td>\n",
       "      <td>ENSG00000283992</td>\n",
       "      <td>8q24.3</td>\n",
       "    </tr>\n",
       "    <tr>\n",
       "      <th>6667</th>\n",
       "      <td>ENSG00000147676.13</td>\n",
       "      <td>MAL2</td>\n",
       "      <td>protein_coding</td>\n",
       "      <td>ENSG00000147676</td>\n",
       "      <td>8q24.12</td>\n",
       "    </tr>\n",
       "    <tr>\n",
       "      <th>13687</th>\n",
       "      <td>ENSG00000253972.5</td>\n",
       "      <td>MAL2</td>\n",
       "      <td>lincRNA</td>\n",
       "      <td>ENSG00000253972</td>\n",
       "      <td>8q24.12</td>\n",
       "    </tr>\n",
       "    <tr>\n",
       "      <th>10776</th>\n",
       "      <td>ENSG00000182957.15</td>\n",
       "      <td>SPATA13</td>\n",
       "      <td>protein_coding</td>\n",
       "      <td>ENSG00000182957</td>\n",
       "      <td>13q12.12</td>\n",
       "    </tr>\n",
       "    <tr>\n",
       "      <th>51058</th>\n",
       "      <td>ENSG00000228741.2</td>\n",
       "      <td>SPATA13</td>\n",
       "      <td>lincRNA</td>\n",
       "      <td>ENSG00000228741</td>\n",
       "      <td>13q12.12</td>\n",
       "    </tr>\n",
       "  </tbody>\n",
       "</table>\n",
       "</div>"
      ],
      "text/plain": [
       "                      gene  gene_name       gene_type          gene_id  \\\n",
       "11492    ENSG00000188626.6    GOLGA8M  protein_coding  ENSG00000188626   \n",
       "329628   ENSG00000261480.1    GOLGA8M         lincRNA  ENSG00000261480   \n",
       "26074    ENSG00000235641.4  LINC00484         lincRNA  ENSG00000235641   \n",
       "39454    ENSG00000229694.6  LINC00484         lincRNA  ENSG00000229694   \n",
       "13264    ENSG00000237667.5  LINC01115         lincRNA  ENSG00000237667   \n",
       "148765   ENSG00000272342.1  LINC01115         lincRNA  ENSG00000272342   \n",
       "229974   ENSG00000225255.6  LINC01297         lincRNA  ENSG00000225255   \n",
       "231948   ENSG00000274827.4  LINC01297         lincRNA  ENSG00000274827   \n",
       "12785    ENSG00000223704.1  LINC01422         lincRNA  ENSG00000223704   \n",
       "13187    ENSG00000235271.5  LINC01422         lincRNA  ENSG00000235271   \n",
       "10498   ENSG00000180155.19      LYNX1  protein_coding  ENSG00000180155   \n",
       "14927    ENSG00000283992.1      LYNX1  protein_coding  ENSG00000283992   \n",
       "6667    ENSG00000147676.13       MAL2  protein_coding  ENSG00000147676   \n",
       "13687    ENSG00000253972.5       MAL2         lincRNA  ENSG00000253972   \n",
       "10776   ENSG00000182957.15    SPATA13  protein_coding  ENSG00000182957   \n",
       "51058    ENSG00000228741.2    SPATA13         lincRNA  ENSG00000228741   \n",
       "\n",
       "            band  \n",
       "11492    15q13.1  \n",
       "329628   15q13.1  \n",
       "26074     9q22.2  \n",
       "39454     9q22.2  \n",
       "13264     2p25.3  \n",
       "148765    2p25.3  \n",
       "229974   22q11.1  \n",
       "231948   14q11.2  \n",
       "12785    22q12.1  \n",
       "13187    22q12.1  \n",
       "10498     8q24.3  \n",
       "14927     8q24.3  \n",
       "6667     8q24.12  \n",
       "13687    8q24.12  \n",
       "10776   13q12.12  \n",
       "51058   13q12.12  "
      ]
     },
     "execution_count": 48,
     "metadata": {},
     "output_type": "execute_result"
    }
   ],
   "source": [
    "genes_mapping[genes_mapping['gene_name'].isin(tmp.index)].sort_values('gene_name')"
   ]
  },
  {
   "cell_type": "code",
   "execution_count": 49,
   "metadata": {},
   "outputs": [],
   "source": [
    "# keep only those from GeneCards\n",
    "to_remove = genes_mapping[genes_mapping['gene_name'].isin(tmp.index) & (~genes_mapping['gene_id'].isin(ens_ids_to_keep))]\n",
    "assert to_remove.shape[0] == len(ens_ids_to_keep)"
   ]
  },
  {
   "cell_type": "code",
   "execution_count": 50,
   "metadata": {},
   "outputs": [
    {
     "data": {
      "text/html": [
       "<div>\n",
       "<style scoped>\n",
       "    .dataframe tbody tr th:only-of-type {\n",
       "        vertical-align: middle;\n",
       "    }\n",
       "\n",
       "    .dataframe tbody tr th {\n",
       "        vertical-align: top;\n",
       "    }\n",
       "\n",
       "    .dataframe thead th {\n",
       "        text-align: right;\n",
       "    }\n",
       "</style>\n",
       "<table border=\"1\" class=\"dataframe\">\n",
       "  <thead>\n",
       "    <tr style=\"text-align: right;\">\n",
       "      <th></th>\n",
       "      <th>gene</th>\n",
       "      <th>gene_name</th>\n",
       "      <th>gene_type</th>\n",
       "      <th>gene_id</th>\n",
       "      <th>band</th>\n",
       "    </tr>\n",
       "  </thead>\n",
       "  <tbody>\n",
       "    <tr>\n",
       "      <th>13187</th>\n",
       "      <td>ENSG00000235271.5</td>\n",
       "      <td>LINC01422</td>\n",
       "      <td>lincRNA</td>\n",
       "      <td>ENSG00000235271</td>\n",
       "      <td>22q12.1</td>\n",
       "    </tr>\n",
       "    <tr>\n",
       "      <th>13687</th>\n",
       "      <td>ENSG00000253972.5</td>\n",
       "      <td>MAL2</td>\n",
       "      <td>lincRNA</td>\n",
       "      <td>ENSG00000253972</td>\n",
       "      <td>8q24.12</td>\n",
       "    </tr>\n",
       "    <tr>\n",
       "      <th>14927</th>\n",
       "      <td>ENSG00000283992.1</td>\n",
       "      <td>LYNX1</td>\n",
       "      <td>protein_coding</td>\n",
       "      <td>ENSG00000283992</td>\n",
       "      <td>8q24.3</td>\n",
       "    </tr>\n",
       "    <tr>\n",
       "      <th>39454</th>\n",
       "      <td>ENSG00000229694.6</td>\n",
       "      <td>LINC00484</td>\n",
       "      <td>lincRNA</td>\n",
       "      <td>ENSG00000229694</td>\n",
       "      <td>9q22.2</td>\n",
       "    </tr>\n",
       "    <tr>\n",
       "      <th>51058</th>\n",
       "      <td>ENSG00000228741.2</td>\n",
       "      <td>SPATA13</td>\n",
       "      <td>lincRNA</td>\n",
       "      <td>ENSG00000228741</td>\n",
       "      <td>13q12.12</td>\n",
       "    </tr>\n",
       "    <tr>\n",
       "      <th>148765</th>\n",
       "      <td>ENSG00000272342.1</td>\n",
       "      <td>LINC01115</td>\n",
       "      <td>lincRNA</td>\n",
       "      <td>ENSG00000272342</td>\n",
       "      <td>2p25.3</td>\n",
       "    </tr>\n",
       "    <tr>\n",
       "      <th>229974</th>\n",
       "      <td>ENSG00000225255.6</td>\n",
       "      <td>LINC01297</td>\n",
       "      <td>lincRNA</td>\n",
       "      <td>ENSG00000225255</td>\n",
       "      <td>22q11.1</td>\n",
       "    </tr>\n",
       "    <tr>\n",
       "      <th>329628</th>\n",
       "      <td>ENSG00000261480.1</td>\n",
       "      <td>GOLGA8M</td>\n",
       "      <td>lincRNA</td>\n",
       "      <td>ENSG00000261480</td>\n",
       "      <td>15q13.1</td>\n",
       "    </tr>\n",
       "  </tbody>\n",
       "</table>\n",
       "</div>"
      ],
      "text/plain": [
       "                     gene  gene_name       gene_type          gene_id  \\\n",
       "13187   ENSG00000235271.5  LINC01422         lincRNA  ENSG00000235271   \n",
       "13687   ENSG00000253972.5       MAL2         lincRNA  ENSG00000253972   \n",
       "14927   ENSG00000283992.1      LYNX1  protein_coding  ENSG00000283992   \n",
       "39454   ENSG00000229694.6  LINC00484         lincRNA  ENSG00000229694   \n",
       "51058   ENSG00000228741.2    SPATA13         lincRNA  ENSG00000228741   \n",
       "148765  ENSG00000272342.1  LINC01115         lincRNA  ENSG00000272342   \n",
       "229974  ENSG00000225255.6  LINC01297         lincRNA  ENSG00000225255   \n",
       "329628  ENSG00000261480.1    GOLGA8M         lincRNA  ENSG00000261480   \n",
       "\n",
       "            band  \n",
       "13187    22q12.1  \n",
       "13687    8q24.12  \n",
       "14927     8q24.3  \n",
       "39454     9q22.2  \n",
       "51058   13q12.12  \n",
       "148765    2p25.3  \n",
       "229974   22q11.1  \n",
       "329628   15q13.1  "
      ]
     },
     "execution_count": 50,
     "metadata": {},
     "output_type": "execute_result"
    }
   ],
   "source": [
    "to_remove"
   ]
  },
  {
   "cell_type": "code",
   "execution_count": 51,
   "metadata": {},
   "outputs": [
    {
     "data": {
      "text/plain": [
       "22535"
      ]
     },
     "metadata": {},
     "output_type": "display_data"
    },
    {
     "data": {
      "text/plain": [
       "(22527, 5)"
      ]
     },
     "metadata": {},
     "output_type": "display_data"
    }
   ],
   "source": [
    "n_before = genes_mapping.shape[0]\n",
    "display(n_before)\n",
    "genes_mapping = genes_mapping.drop(to_remove.index)\n",
    "display(genes_mapping.shape)\n",
    "assert genes_mapping.shape[0] == (n_before - len(to_remove.index))"
   ]
  },
  {
   "cell_type": "code",
   "execution_count": null,
   "metadata": {},
   "outputs": [],
   "source": []
  }
 ],
 "metadata": {
  "kernelspec": {
   "display_name": "Python 3",
   "language": "python",
   "name": "python3"
  },
  "language_info": {
   "codemirror_mode": {
    "name": "ipython",
    "version": 3
   },
   "file_extension": ".py",
   "mimetype": "text/x-python",
   "name": "python",
   "nbconvert_exporter": "python",
   "pygments_lexer": "ipython3",
   "version": "3.7.6"
  }
 },
 "nbformat": 4,
 "nbformat_minor": 4
}
