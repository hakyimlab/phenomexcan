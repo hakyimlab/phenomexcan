{
 "cells": [
  {
   "cell_type": "code",
   "execution_count": 1,
   "metadata": {},
   "outputs": [],
   "source": [
    "%load_ext autoreload\n",
    "%autoreload 2"
   ]
  },
  {
   "cell_type": "code",
   "execution_count": 2,
   "metadata": {},
   "outputs": [],
   "source": [
    "import os\n",
    "from glob import glob\n",
    "import sqlite3\n",
    "\n",
    "import numpy as np\n",
    "import pandas as pd\n",
    "\n",
    "import settings as conf"
   ]
  },
  {
   "cell_type": "markdown",
   "metadata": {},
   "source": [
    "# Load all genes from models"
   ]
  },
  {
   "cell_type": "code",
   "execution_count": 3,
   "metadata": {},
   "outputs": [
    {
     "data": {
      "text/plain": [
       "['/mnt/phenomexcan_base/data/gtex_v8/mashr/mashr_Thyroid.db',\n",
       " '/mnt/phenomexcan_base/data/gtex_v8/mashr/mashr_Skin_Not_Sun_Exposed_Suprapubic.db',\n",
       " '/mnt/phenomexcan_base/data/gtex_v8/mashr/mashr_Colon_Transverse.db']"
      ]
     },
     "execution_count": 3,
     "metadata": {},
     "output_type": "execute_result"
    }
   ],
   "source": [
    "gtex_models_files = glob(os.path.join(conf.GTEX_MODELS_DIR, '*.db'))\n",
    "gtex_models_files[:3]"
   ]
  },
  {
   "cell_type": "code",
   "execution_count": 4,
   "metadata": {},
   "outputs": [
    {
     "data": {
      "text/plain": [
       "49"
      ]
     },
     "metadata": {},
     "output_type": "display_data"
    }
   ],
   "source": [
    "# should be 49 for GTEx v8 models\n",
    "display(len(gtex_models_files))\n",
    "assert len(gtex_models_files) == 49"
   ]
  },
  {
   "cell_type": "code",
   "execution_count": 5,
   "metadata": {},
   "outputs": [],
   "source": [
    "# get gene id, gene name and gene type from sqlite files\n",
    "\n",
    "all_models = []\n",
    "all_models_size = []\n",
    "\n",
    "for model_file in gtex_models_files:\n",
    "    cnx = sqlite3.connect(model_file)\n",
    "    df = pd.read_sql_query(\"SELECT gene, genename as gene_name, gene_type FROM extra\", cnx)\n",
    "    df = df.assign(gene_id=df['gene'].apply(lambda x: x.split('.')[0]))\n",
    "    \n",
    "    all_models_size.append(df.shape[0])\n",
    "    all_models.append(df)"
   ]
  },
  {
   "cell_type": "code",
   "execution_count": 6,
   "metadata": {},
   "outputs": [],
   "source": [
    "genes_mapping = pd.concat(all_models, ignore_index=True)"
   ]
  },
  {
   "cell_type": "code",
   "execution_count": 7,
   "metadata": {},
   "outputs": [
    {
     "data": {
      "text/plain": [
       "(686241, 4)"
      ]
     },
     "execution_count": 7,
     "metadata": {},
     "output_type": "execute_result"
    }
   ],
   "source": [
    "genes_mapping.shape"
   ]
  },
  {
   "cell_type": "code",
   "execution_count": 8,
   "metadata": {},
   "outputs": [
    {
     "data": {
      "text/html": [
       "<div>\n",
       "<style scoped>\n",
       "    .dataframe tbody tr th:only-of-type {\n",
       "        vertical-align: middle;\n",
       "    }\n",
       "\n",
       "    .dataframe tbody tr th {\n",
       "        vertical-align: top;\n",
       "    }\n",
       "\n",
       "    .dataframe thead th {\n",
       "        text-align: right;\n",
       "    }\n",
       "</style>\n",
       "<table border=\"1\" class=\"dataframe\">\n",
       "  <thead>\n",
       "    <tr style=\"text-align: right;\">\n",
       "      <th></th>\n",
       "      <th>gene</th>\n",
       "      <th>gene_name</th>\n",
       "      <th>gene_type</th>\n",
       "      <th>gene_id</th>\n",
       "    </tr>\n",
       "  </thead>\n",
       "  <tbody>\n",
       "    <tr>\n",
       "      <th>0</th>\n",
       "      <td>ENSG00000000457.13</td>\n",
       "      <td>SCYL3</td>\n",
       "      <td>protein_coding</td>\n",
       "      <td>ENSG00000000457</td>\n",
       "    </tr>\n",
       "    <tr>\n",
       "      <th>1</th>\n",
       "      <td>ENSG00000000460.16</td>\n",
       "      <td>C1orf112</td>\n",
       "      <td>protein_coding</td>\n",
       "      <td>ENSG00000000460</td>\n",
       "    </tr>\n",
       "    <tr>\n",
       "      <th>2</th>\n",
       "      <td>ENSG00000000938.12</td>\n",
       "      <td>FGR</td>\n",
       "      <td>protein_coding</td>\n",
       "      <td>ENSG00000000938</td>\n",
       "    </tr>\n",
       "  </tbody>\n",
       "</table>\n",
       "</div>"
      ],
      "text/plain": [
       "                 gene gene_name       gene_type          gene_id\n",
       "0  ENSG00000000457.13     SCYL3  protein_coding  ENSG00000000457\n",
       "1  ENSG00000000460.16  C1orf112  protein_coding  ENSG00000000460\n",
       "2  ENSG00000000938.12       FGR  protein_coding  ENSG00000000938"
      ]
     },
     "execution_count": 8,
     "metadata": {},
     "output_type": "execute_result"
    }
   ],
   "source": [
    "genes_mapping.head(3)"
   ]
  },
  {
   "cell_type": "code",
   "execution_count": 9,
   "metadata": {},
   "outputs": [],
   "source": [
    "genes_mapping = genes_mapping.drop_duplicates()"
   ]
  },
  {
   "cell_type": "code",
   "execution_count": 10,
   "metadata": {},
   "outputs": [
    {
     "data": {
      "text/plain": [
       "(22535, 4)"
      ]
     },
     "execution_count": 10,
     "metadata": {},
     "output_type": "execute_result"
    }
   ],
   "source": [
    "genes_mapping.shape"
   ]
  },
  {
   "cell_type": "code",
   "execution_count": 11,
   "metadata": {},
   "outputs": [],
   "source": [
    "assert genes_mapping.shape[0] == genes_mapping['gene'].unique().shape[0]"
   ]
  },
  {
   "cell_type": "code",
   "execution_count": 12,
   "metadata": {},
   "outputs": [],
   "source": [
    "assert genes_mapping.shape[0] == genes_mapping['gene_id'].unique().shape[0]"
   ]
  },
  {
   "cell_type": "code",
   "execution_count": 13,
   "metadata": {},
   "outputs": [
    {
     "data": {
      "text/html": [
       "<div>\n",
       "<style scoped>\n",
       "    .dataframe tbody tr th:only-of-type {\n",
       "        vertical-align: middle;\n",
       "    }\n",
       "\n",
       "    .dataframe tbody tr th {\n",
       "        vertical-align: top;\n",
       "    }\n",
       "\n",
       "    .dataframe thead th {\n",
       "        text-align: right;\n",
       "    }\n",
       "</style>\n",
       "<table border=\"1\" class=\"dataframe\">\n",
       "  <thead>\n",
       "    <tr style=\"text-align: right;\">\n",
       "      <th></th>\n",
       "      <th>gene</th>\n",
       "      <th>gene_name</th>\n",
       "      <th>gene_type</th>\n",
       "      <th>gene_id</th>\n",
       "    </tr>\n",
       "  </thead>\n",
       "  <tbody>\n",
       "    <tr>\n",
       "      <th>0</th>\n",
       "      <td>ENSG00000000457.13</td>\n",
       "      <td>SCYL3</td>\n",
       "      <td>protein_coding</td>\n",
       "      <td>ENSG00000000457</td>\n",
       "    </tr>\n",
       "    <tr>\n",
       "      <th>1</th>\n",
       "      <td>ENSG00000000460.16</td>\n",
       "      <td>C1orf112</td>\n",
       "      <td>protein_coding</td>\n",
       "      <td>ENSG00000000460</td>\n",
       "    </tr>\n",
       "    <tr>\n",
       "      <th>2</th>\n",
       "      <td>ENSG00000000938.12</td>\n",
       "      <td>FGR</td>\n",
       "      <td>protein_coding</td>\n",
       "      <td>ENSG00000000938</td>\n",
       "    </tr>\n",
       "    <tr>\n",
       "      <th>3</th>\n",
       "      <td>ENSG00000000971.15</td>\n",
       "      <td>CFH</td>\n",
       "      <td>protein_coding</td>\n",
       "      <td>ENSG00000000971</td>\n",
       "    </tr>\n",
       "    <tr>\n",
       "      <th>4</th>\n",
       "      <td>ENSG00000001036.13</td>\n",
       "      <td>FUCA2</td>\n",
       "      <td>protein_coding</td>\n",
       "      <td>ENSG00000001036</td>\n",
       "    </tr>\n",
       "  </tbody>\n",
       "</table>\n",
       "</div>"
      ],
      "text/plain": [
       "                 gene gene_name       gene_type          gene_id\n",
       "0  ENSG00000000457.13     SCYL3  protein_coding  ENSG00000000457\n",
       "1  ENSG00000000460.16  C1orf112  protein_coding  ENSG00000000460\n",
       "2  ENSG00000000938.12       FGR  protein_coding  ENSG00000000938\n",
       "3  ENSG00000000971.15       CFH  protein_coding  ENSG00000000971\n",
       "4  ENSG00000001036.13     FUCA2  protein_coding  ENSG00000001036"
      ]
     },
     "execution_count": 13,
     "metadata": {},
     "output_type": "execute_result"
    }
   ],
   "source": [
    "genes_mapping.head()"
   ]
  },
  {
   "cell_type": "markdown",
   "metadata": {},
   "source": [
    "# Add gene bands"
   ]
  },
  {
   "cell_type": "code",
   "execution_count": 14,
   "metadata": {},
   "outputs": [],
   "source": [
    "biomart_genes = pd.read_csv(conf.BIOMART_GENES_INFO_FILE, index_col='ensembl_gene_id')"
   ]
  },
  {
   "cell_type": "code",
   "execution_count": 15,
   "metadata": {},
   "outputs": [],
   "source": [
    "def _get_gene_band(gene_id):\n",
    "    if gene_id not in biomart_genes.index:\n",
    "        return ''\n",
    "\n",
    "    gene_data = biomart_genes.loc[gene_id]\n",
    "    chrom = gene_data['chromosome_name']\n",
    "    band = gene_data['band']\n",
    "\n",
    "    return f'{chrom}{band}'"
   ]
  },
  {
   "cell_type": "code",
   "execution_count": 16,
   "metadata": {},
   "outputs": [],
   "source": [
    "genes_mapping = genes_mapping.assign(band=genes_mapping['gene_id'].apply(lambda x: _get_gene_band(x)))"
   ]
  },
  {
   "cell_type": "code",
   "execution_count": 17,
   "metadata": {},
   "outputs": [
    {
     "data": {
      "text/html": [
       "<div>\n",
       "<style scoped>\n",
       "    .dataframe tbody tr th:only-of-type {\n",
       "        vertical-align: middle;\n",
       "    }\n",
       "\n",
       "    .dataframe tbody tr th {\n",
       "        vertical-align: top;\n",
       "    }\n",
       "\n",
       "    .dataframe thead th {\n",
       "        text-align: right;\n",
       "    }\n",
       "</style>\n",
       "<table border=\"1\" class=\"dataframe\">\n",
       "  <thead>\n",
       "    <tr style=\"text-align: right;\">\n",
       "      <th></th>\n",
       "      <th>gene</th>\n",
       "      <th>gene_name</th>\n",
       "      <th>gene_type</th>\n",
       "      <th>gene_id</th>\n",
       "      <th>band</th>\n",
       "    </tr>\n",
       "  </thead>\n",
       "  <tbody>\n",
       "    <tr>\n",
       "      <th>0</th>\n",
       "      <td>ENSG00000000457.13</td>\n",
       "      <td>SCYL3</td>\n",
       "      <td>protein_coding</td>\n",
       "      <td>ENSG00000000457</td>\n",
       "      <td>1q24.2</td>\n",
       "    </tr>\n",
       "    <tr>\n",
       "      <th>1</th>\n",
       "      <td>ENSG00000000460.16</td>\n",
       "      <td>C1orf112</td>\n",
       "      <td>protein_coding</td>\n",
       "      <td>ENSG00000000460</td>\n",
       "      <td>1q24.2</td>\n",
       "    </tr>\n",
       "    <tr>\n",
       "      <th>2</th>\n",
       "      <td>ENSG00000000938.12</td>\n",
       "      <td>FGR</td>\n",
       "      <td>protein_coding</td>\n",
       "      <td>ENSG00000000938</td>\n",
       "      <td>1p35.3</td>\n",
       "    </tr>\n",
       "    <tr>\n",
       "      <th>3</th>\n",
       "      <td>ENSG00000000971.15</td>\n",
       "      <td>CFH</td>\n",
       "      <td>protein_coding</td>\n",
       "      <td>ENSG00000000971</td>\n",
       "      <td>1q31.3</td>\n",
       "    </tr>\n",
       "    <tr>\n",
       "      <th>4</th>\n",
       "      <td>ENSG00000001036.13</td>\n",
       "      <td>FUCA2</td>\n",
       "      <td>protein_coding</td>\n",
       "      <td>ENSG00000001036</td>\n",
       "      <td>6q24.2</td>\n",
       "    </tr>\n",
       "  </tbody>\n",
       "</table>\n",
       "</div>"
      ],
      "text/plain": [
       "                 gene gene_name       gene_type          gene_id    band\n",
       "0  ENSG00000000457.13     SCYL3  protein_coding  ENSG00000000457  1q24.2\n",
       "1  ENSG00000000460.16  C1orf112  protein_coding  ENSG00000000460  1q24.2\n",
       "2  ENSG00000000938.12       FGR  protein_coding  ENSG00000000938  1p35.3\n",
       "3  ENSG00000000971.15       CFH  protein_coding  ENSG00000000971  1q31.3\n",
       "4  ENSG00000001036.13     FUCA2  protein_coding  ENSG00000001036  6q24.2"
      ]
     },
     "execution_count": 17,
     "metadata": {},
     "output_type": "execute_result"
    }
   ],
   "source": [
    "genes_mapping.head()"
   ]
  },
  {
   "cell_type": "code",
   "execution_count": 18,
   "metadata": {},
   "outputs": [],
   "source": [
    "os.makedirs(conf.GENES_METADATA_DIR, exist_ok=True)"
   ]
  },
  {
   "cell_type": "code",
   "execution_count": 19,
   "metadata": {},
   "outputs": [
    {
     "data": {
      "text/plain": [
       "'/mnt/phenomexcan_base/data/genes_metadata/genes_mappings.pkl'"
      ]
     },
     "metadata": {},
     "output_type": "display_data"
    }
   ],
   "source": [
    "# for internal use\n",
    "final_filename = os.path.join(conf.GENES_METADATA_DIR, 'genes_mappings.pkl')\n",
    "display(final_filename)"
   ]
  },
  {
   "cell_type": "code",
   "execution_count": 20,
   "metadata": {},
   "outputs": [],
   "source": [
    "genes_mapping.to_pickle(final_filename)"
   ]
  },
  {
   "cell_type": "code",
   "execution_count": 21,
   "metadata": {},
   "outputs": [
    {
     "data": {
      "text/plain": [
       "'/mnt/phenomexcan_base/deliverables/genes_mappings.tsv.gz'"
      ]
     },
     "metadata": {},
     "output_type": "display_data"
    }
   ],
   "source": [
    "# for general use\n",
    "os.makedirs(conf.DELIVERABLES_DIR, exist_ok=True)\n",
    "final_filename = os.path.join(conf.DELIVERABLES_DIR, 'genes_mappings.tsv.gz')\n",
    "display(final_filename)"
   ]
  },
  {
   "cell_type": "code",
   "execution_count": 22,
   "metadata": {},
   "outputs": [],
   "source": [
    "genes_mapping.to_csv(final_filename, sep='\\t', index=False)"
   ]
  },
  {
   "cell_type": "markdown",
   "metadata": {},
   "source": [
    "# Save mappings"
   ]
  },
  {
   "cell_type": "code",
   "execution_count": 23,
   "metadata": {},
   "outputs": [],
   "source": [
    "import pickle"
   ]
  },
  {
   "cell_type": "markdown",
   "metadata": {},
   "source": [
    "### Gene id to name"
   ]
  },
  {
   "cell_type": "code",
   "execution_count": 24,
   "metadata": {},
   "outputs": [],
   "source": [
    "gene_id_to_name = genes_mapping[['gene_id', 'gene_name']].set_index('gene_id').to_dict()['gene_name']\n",
    "assert gene_id_to_name['ENSG00000000457'] == 'SCYL3'\n",
    "assert gene_id_to_name['ENSG00000001036'] == 'FUCA2'"
   ]
  },
  {
   "cell_type": "code",
   "execution_count": 25,
   "metadata": {},
   "outputs": [],
   "source": [
    "with open(os.path.join(conf.GENES_METADATA_DIR, 'genes_mapping_simplified-0.pkl'), 'wb') as f:\n",
    "    pickle.dump(gene_id_to_name, f)"
   ]
  },
  {
   "cell_type": "code",
   "execution_count": 26,
   "metadata": {},
   "outputs": [],
   "source": [
    "with open(os.path.join(conf.GENES_METADATA_DIR, 'genes_mapping_simplified-0.pkl'), 'rb') as f:\n",
    "    gene_id_to_name = pickle.load(f)\n",
    "\n",
    "assert gene_id_to_name['ENSG00000000457'] == 'SCYL3'\n",
    "assert gene_id_to_name['ENSG00000001036'] == 'FUCA2'"
   ]
  },
  {
   "cell_type": "markdown",
   "metadata": {},
   "source": [
    "### Gene id to band"
   ]
  },
  {
   "cell_type": "code",
   "execution_count": 27,
   "metadata": {},
   "outputs": [],
   "source": [
    "gene_id_to_band = genes_mapping[['band', 'gene_id']].set_index('gene_id').to_dict()['band']\n",
    "assert gene_id_to_band['ENSG00000000457'] == '1q24.2'\n",
    "assert gene_id_to_band['ENSG00000000460'] == '1q24.2'\n",
    "assert gene_id_to_band['ENSG00000001036'] == '6q24.2'"
   ]
  },
  {
   "cell_type": "code",
   "execution_count": 28,
   "metadata": {},
   "outputs": [],
   "source": [
    "with open(os.path.join(conf.GENES_METADATA_DIR, 'genes_mapping_id_to_band.pkl'), 'wb') as f:\n",
    "    pickle.dump(gene_id_to_band, f)"
   ]
  },
  {
   "cell_type": "code",
   "execution_count": 29,
   "metadata": {},
   "outputs": [],
   "source": [
    "with open(os.path.join(conf.GENES_METADATA_DIR, 'genes_mapping_id_to_band.pkl'), 'rb') as f:\n",
    "    gene_id_to_band = pickle.load(f)\n",
    "\n",
    "assert gene_id_to_band['ENSG00000000457'] == '1q24.2'\n",
    "assert gene_id_to_band['ENSG00000000460'] == '1q24.2'\n",
    "assert gene_id_to_band['ENSG00000001036'] == '6q24.2'"
   ]
  },
  {
   "cell_type": "markdown",
   "metadata": {},
   "source": [
    "### Gene name to id"
   ]
  },
  {
   "cell_type": "code",
   "execution_count": 30,
   "metadata": {},
   "outputs": [],
   "source": [
    "gene_name_to_id = genes_mapping[['gene_id', 'gene_name']].set_index('gene_name').to_dict()['gene_id']\n",
    "assert gene_name_to_id['SCYL3'] == 'ENSG00000000457'\n",
    "assert gene_name_to_id['C1orf112'] == 'ENSG00000000460'"
   ]
  },
  {
   "cell_type": "code",
   "execution_count": 31,
   "metadata": {},
   "outputs": [],
   "source": [
    "with open(os.path.join(conf.GENES_METADATA_DIR, 'genes_mapping_simplified-1.pkl'), 'wb') as f:\n",
    "    pickle.dump(gene_name_to_id, f)"
   ]
  },
  {
   "cell_type": "code",
   "execution_count": 32,
   "metadata": {},
   "outputs": [],
   "source": [
    "with open(os.path.join(conf.GENES_METADATA_DIR, 'genes_mapping_simplified-1.pkl'), 'rb') as f:\n",
    "    gene_name_to_id = pickle.load(f)\n",
    "\n",
    "assert gene_name_to_id['SCYL3'] == 'ENSG00000000457'\n",
    "assert gene_name_to_id['C1orf112'] == 'ENSG00000000460'"
   ]
  },
  {
   "cell_type": "markdown",
   "metadata": {},
   "source": [
    "### Gene name to band"
   ]
  },
  {
   "cell_type": "code",
   "execution_count": 33,
   "metadata": {},
   "outputs": [],
   "source": [
    "gene_name_to_band = genes_mapping[['band', 'gene_name']].set_index('gene_name').to_dict()['band']\n",
    "assert gene_name_to_band['SCYL3'] == '1q24.2'\n",
    "assert gene_name_to_band['C1orf112'] == '1q24.2'\n",
    "assert gene_name_to_band['FUCA2'] == '6q24.2'"
   ]
  },
  {
   "cell_type": "code",
   "execution_count": 34,
   "metadata": {},
   "outputs": [],
   "source": [
    "with open(os.path.join(conf.GENES_METADATA_DIR, 'genes_mapping_name_to_band.pkl'), 'wb') as f:\n",
    "    pickle.dump(gene_name_to_band, f)"
   ]
  },
  {
   "cell_type": "code",
   "execution_count": 35,
   "metadata": {},
   "outputs": [],
   "source": [
    "with open(os.path.join(conf.GENES_METADATA_DIR, 'genes_mapping_name_to_band.pkl'), 'rb') as f:\n",
    "    gene_name_to_band = pickle.load(f)\n",
    "\n",
    "assert gene_name_to_band['SCYL3'] == '1q24.2'\n",
    "assert gene_name_to_band['C1orf112'] == '1q24.2'\n",
    "assert gene_name_to_band['FUCA2'] == '6q24.2'"
   ]
  },
  {
   "cell_type": "markdown",
   "metadata": {},
   "source": [
    "# Deprecated"
   ]
  },
  {
   "cell_type": "markdown",
   "metadata": {},
   "source": [
    "# Remove some genes with duplicated gene IDs"
   ]
  },
  {
   "cell_type": "markdown",
   "metadata": {},
   "source": [
    "Keep only those IDs reported in GeneCards"
   ]
  },
  {
   "cell_type": "code",
   "execution_count": 14,
   "metadata": {},
   "outputs": [
    {
     "data": {
      "text/plain": [
       "False"
      ]
     },
     "execution_count": 14,
     "metadata": {},
     "output_type": "execute_result"
    }
   ],
   "source": [
    "# some gene names are duplicated (several gene ids per gene name)\n",
    "genes_mapping.shape[0] == genes_mapping['gene_name'].unique().shape[0]"
   ]
  },
  {
   "cell_type": "code",
   "execution_count": 15,
   "metadata": {},
   "outputs": [
    {
     "data": {
      "text/plain": [
       "LINC01422    2\n",
       "LYNX1        2\n",
       "MAL2         2\n",
       "GOLGA8M      2\n",
       "SPATA13      2\n",
       "LINC00484    2\n",
       "LINC01115    2\n",
       "LINC01297    2\n",
       "Name: gene_name, dtype: int64"
      ]
     },
     "metadata": {},
     "output_type": "display_data"
    }
   ],
   "source": [
    "tmp = genes_mapping['gene_name'].value_counts()\n",
    "tmp = tmp[tmp > 1]\n",
    "display(tmp)"
   ]
  },
  {
   "cell_type": "code",
   "execution_count": 16,
   "metadata": {},
   "outputs": [],
   "source": [
    "# taken from GeneCards\n",
    "ens_ids_to_keep_map = {\n",
    "    'LINC01115': 'ENSG00000237667',\n",
    "    'MAL2': 'ENSG00000147676',\n",
    "    'LYNX1': 'ENSG00000180155',\n",
    "    'LINC01422': 'ENSG00000223704',\n",
    "    'SPATA13': 'ENSG00000182957',\n",
    "    'GOLGA8M': 'ENSG00000188626',\n",
    "    'LINC01297': 'ENSG00000274827',\n",
    "    'LINC00484': 'ENSG00000235641',\n",
    "}"
   ]
  },
  {
   "cell_type": "code",
   "execution_count": 17,
   "metadata": {},
   "outputs": [],
   "source": [
    "ens_ids_to_keep = list(ens_ids_to_keep_map.values())"
   ]
  },
  {
   "cell_type": "code",
   "execution_count": 18,
   "metadata": {},
   "outputs": [
    {
     "data": {
      "text/html": [
       "<div>\n",
       "<style scoped>\n",
       "    .dataframe tbody tr th:only-of-type {\n",
       "        vertical-align: middle;\n",
       "    }\n",
       "\n",
       "    .dataframe tbody tr th {\n",
       "        vertical-align: top;\n",
       "    }\n",
       "\n",
       "    .dataframe thead th {\n",
       "        text-align: right;\n",
       "    }\n",
       "</style>\n",
       "<table border=\"1\" class=\"dataframe\">\n",
       "  <thead>\n",
       "    <tr style=\"text-align: right;\">\n",
       "      <th></th>\n",
       "      <th>gene</th>\n",
       "      <th>gene_name</th>\n",
       "      <th>gene_type</th>\n",
       "      <th>gene_id</th>\n",
       "    </tr>\n",
       "  </thead>\n",
       "  <tbody>\n",
       "    <tr>\n",
       "      <th>11637</th>\n",
       "      <td>ENSG00000188626.6</td>\n",
       "      <td>GOLGA8M</td>\n",
       "      <td>protein_coding</td>\n",
       "      <td>ENSG00000188626</td>\n",
       "    </tr>\n",
       "    <tr>\n",
       "      <th>14287</th>\n",
       "      <td>ENSG00000261480.1</td>\n",
       "      <td>GOLGA8M</td>\n",
       "      <td>lincRNA</td>\n",
       "      <td>ENSG00000261480</td>\n",
       "    </tr>\n",
       "    <tr>\n",
       "      <th>13159</th>\n",
       "      <td>ENSG00000229694.6</td>\n",
       "      <td>LINC00484</td>\n",
       "      <td>lincRNA</td>\n",
       "      <td>ENSG00000229694</td>\n",
       "    </tr>\n",
       "    <tr>\n",
       "      <th>13377</th>\n",
       "      <td>ENSG00000235641.4</td>\n",
       "      <td>LINC00484</td>\n",
       "      <td>lincRNA</td>\n",
       "      <td>ENSG00000235641</td>\n",
       "    </tr>\n",
       "    <tr>\n",
       "      <th>13459</th>\n",
       "      <td>ENSG00000237667.5</td>\n",
       "      <td>LINC01115</td>\n",
       "      <td>lincRNA</td>\n",
       "      <td>ENSG00000237667</td>\n",
       "    </tr>\n",
       "    <tr>\n",
       "      <th>70900</th>\n",
       "      <td>ENSG00000272342.1</td>\n",
       "      <td>LINC01115</td>\n",
       "      <td>lincRNA</td>\n",
       "      <td>ENSG00000272342</td>\n",
       "    </tr>\n",
       "    <tr>\n",
       "      <th>114612</th>\n",
       "      <td>ENSG00000225255.6</td>\n",
       "      <td>LINC01297</td>\n",
       "      <td>lincRNA</td>\n",
       "      <td>ENSG00000225255</td>\n",
       "    </tr>\n",
       "    <tr>\n",
       "      <th>118237</th>\n",
       "      <td>ENSG00000274827.4</td>\n",
       "      <td>LINC01297</td>\n",
       "      <td>lincRNA</td>\n",
       "      <td>ENSG00000274827</td>\n",
       "    </tr>\n",
       "    <tr>\n",
       "      <th>12932</th>\n",
       "      <td>ENSG00000223704.1</td>\n",
       "      <td>LINC01422</td>\n",
       "      <td>lincRNA</td>\n",
       "      <td>ENSG00000223704</td>\n",
       "    </tr>\n",
       "    <tr>\n",
       "      <th>13366</th>\n",
       "      <td>ENSG00000235271.5</td>\n",
       "      <td>LINC01422</td>\n",
       "      <td>lincRNA</td>\n",
       "      <td>ENSG00000235271</td>\n",
       "    </tr>\n",
       "    <tr>\n",
       "      <th>10655</th>\n",
       "      <td>ENSG00000180155.19</td>\n",
       "      <td>LYNX1</td>\n",
       "      <td>protein_coding</td>\n",
       "      <td>ENSG00000180155</td>\n",
       "    </tr>\n",
       "    <tr>\n",
       "      <th>15295</th>\n",
       "      <td>ENSG00000283992.1</td>\n",
       "      <td>LYNX1</td>\n",
       "      <td>protein_coding</td>\n",
       "      <td>ENSG00000283992</td>\n",
       "    </tr>\n",
       "    <tr>\n",
       "      <th>6734</th>\n",
       "      <td>ENSG00000147676.13</td>\n",
       "      <td>MAL2</td>\n",
       "      <td>protein_coding</td>\n",
       "      <td>ENSG00000147676</td>\n",
       "    </tr>\n",
       "    <tr>\n",
       "      <th>28990</th>\n",
       "      <td>ENSG00000253972.5</td>\n",
       "      <td>MAL2</td>\n",
       "      <td>lincRNA</td>\n",
       "      <td>ENSG00000253972</td>\n",
       "    </tr>\n",
       "    <tr>\n",
       "      <th>10938</th>\n",
       "      <td>ENSG00000182957.15</td>\n",
       "      <td>SPATA13</td>\n",
       "      <td>protein_coding</td>\n",
       "      <td>ENSG00000182957</td>\n",
       "    </tr>\n",
       "    <tr>\n",
       "      <th>13133</th>\n",
       "      <td>ENSG00000228741.2</td>\n",
       "      <td>SPATA13</td>\n",
       "      <td>lincRNA</td>\n",
       "      <td>ENSG00000228741</td>\n",
       "    </tr>\n",
       "  </tbody>\n",
       "</table>\n",
       "</div>"
      ],
      "text/plain": [
       "                      gene  gene_name       gene_type          gene_id\n",
       "11637    ENSG00000188626.6    GOLGA8M  protein_coding  ENSG00000188626\n",
       "14287    ENSG00000261480.1    GOLGA8M         lincRNA  ENSG00000261480\n",
       "13159    ENSG00000229694.6  LINC00484         lincRNA  ENSG00000229694\n",
       "13377    ENSG00000235641.4  LINC00484         lincRNA  ENSG00000235641\n",
       "13459    ENSG00000237667.5  LINC01115         lincRNA  ENSG00000237667\n",
       "70900    ENSG00000272342.1  LINC01115         lincRNA  ENSG00000272342\n",
       "114612   ENSG00000225255.6  LINC01297         lincRNA  ENSG00000225255\n",
       "118237   ENSG00000274827.4  LINC01297         lincRNA  ENSG00000274827\n",
       "12932    ENSG00000223704.1  LINC01422         lincRNA  ENSG00000223704\n",
       "13366    ENSG00000235271.5  LINC01422         lincRNA  ENSG00000235271\n",
       "10655   ENSG00000180155.19      LYNX1  protein_coding  ENSG00000180155\n",
       "15295    ENSG00000283992.1      LYNX1  protein_coding  ENSG00000283992\n",
       "6734    ENSG00000147676.13       MAL2  protein_coding  ENSG00000147676\n",
       "28990    ENSG00000253972.5       MAL2         lincRNA  ENSG00000253972\n",
       "10938   ENSG00000182957.15    SPATA13  protein_coding  ENSG00000182957\n",
       "13133    ENSG00000228741.2    SPATA13         lincRNA  ENSG00000228741"
      ]
     },
     "execution_count": 18,
     "metadata": {},
     "output_type": "execute_result"
    }
   ],
   "source": [
    "genes_mapping[genes_mapping['gene_name'].isin(tmp.index)].sort_values('gene_name')"
   ]
  },
  {
   "cell_type": "code",
   "execution_count": 19,
   "metadata": {},
   "outputs": [],
   "source": [
    "# keep only those from GeneCards\n",
    "to_remove = genes_mapping[genes_mapping['gene_name'].isin(tmp.index) & (~genes_mapping['gene_id'].isin(ens_ids_to_keep))]\n",
    "assert to_remove.shape[0] == len(ens_ids_to_keep)"
   ]
  },
  {
   "cell_type": "code",
   "execution_count": 20,
   "metadata": {},
   "outputs": [
    {
     "data": {
      "text/html": [
       "<div>\n",
       "<style scoped>\n",
       "    .dataframe tbody tr th:only-of-type {\n",
       "        vertical-align: middle;\n",
       "    }\n",
       "\n",
       "    .dataframe tbody tr th {\n",
       "        vertical-align: top;\n",
       "    }\n",
       "\n",
       "    .dataframe thead th {\n",
       "        text-align: right;\n",
       "    }\n",
       "</style>\n",
       "<table border=\"1\" class=\"dataframe\">\n",
       "  <thead>\n",
       "    <tr style=\"text-align: right;\">\n",
       "      <th></th>\n",
       "      <th>gene</th>\n",
       "      <th>gene_name</th>\n",
       "      <th>gene_type</th>\n",
       "      <th>gene_id</th>\n",
       "    </tr>\n",
       "  </thead>\n",
       "  <tbody>\n",
       "    <tr>\n",
       "      <th>13133</th>\n",
       "      <td>ENSG00000228741.2</td>\n",
       "      <td>SPATA13</td>\n",
       "      <td>lincRNA</td>\n",
       "      <td>ENSG00000228741</td>\n",
       "    </tr>\n",
       "    <tr>\n",
       "      <th>13159</th>\n",
       "      <td>ENSG00000229694.6</td>\n",
       "      <td>LINC00484</td>\n",
       "      <td>lincRNA</td>\n",
       "      <td>ENSG00000229694</td>\n",
       "    </tr>\n",
       "    <tr>\n",
       "      <th>13366</th>\n",
       "      <td>ENSG00000235271.5</td>\n",
       "      <td>LINC01422</td>\n",
       "      <td>lincRNA</td>\n",
       "      <td>ENSG00000235271</td>\n",
       "    </tr>\n",
       "    <tr>\n",
       "      <th>14287</th>\n",
       "      <td>ENSG00000261480.1</td>\n",
       "      <td>GOLGA8M</td>\n",
       "      <td>lincRNA</td>\n",
       "      <td>ENSG00000261480</td>\n",
       "    </tr>\n",
       "    <tr>\n",
       "      <th>15295</th>\n",
       "      <td>ENSG00000283992.1</td>\n",
       "      <td>LYNX1</td>\n",
       "      <td>protein_coding</td>\n",
       "      <td>ENSG00000283992</td>\n",
       "    </tr>\n",
       "    <tr>\n",
       "      <th>28990</th>\n",
       "      <td>ENSG00000253972.5</td>\n",
       "      <td>MAL2</td>\n",
       "      <td>lincRNA</td>\n",
       "      <td>ENSG00000253972</td>\n",
       "    </tr>\n",
       "    <tr>\n",
       "      <th>70900</th>\n",
       "      <td>ENSG00000272342.1</td>\n",
       "      <td>LINC01115</td>\n",
       "      <td>lincRNA</td>\n",
       "      <td>ENSG00000272342</td>\n",
       "    </tr>\n",
       "    <tr>\n",
       "      <th>114612</th>\n",
       "      <td>ENSG00000225255.6</td>\n",
       "      <td>LINC01297</td>\n",
       "      <td>lincRNA</td>\n",
       "      <td>ENSG00000225255</td>\n",
       "    </tr>\n",
       "  </tbody>\n",
       "</table>\n",
       "</div>"
      ],
      "text/plain": [
       "                     gene  gene_name       gene_type          gene_id\n",
       "13133   ENSG00000228741.2    SPATA13         lincRNA  ENSG00000228741\n",
       "13159   ENSG00000229694.6  LINC00484         lincRNA  ENSG00000229694\n",
       "13366   ENSG00000235271.5  LINC01422         lincRNA  ENSG00000235271\n",
       "14287   ENSG00000261480.1    GOLGA8M         lincRNA  ENSG00000261480\n",
       "15295   ENSG00000283992.1      LYNX1  protein_coding  ENSG00000283992\n",
       "28990   ENSG00000253972.5       MAL2         lincRNA  ENSG00000253972\n",
       "70900   ENSG00000272342.1  LINC01115         lincRNA  ENSG00000272342\n",
       "114612  ENSG00000225255.6  LINC01297         lincRNA  ENSG00000225255"
      ]
     },
     "execution_count": 20,
     "metadata": {},
     "output_type": "execute_result"
    }
   ],
   "source": [
    "to_remove"
   ]
  },
  {
   "cell_type": "code",
   "execution_count": 21,
   "metadata": {},
   "outputs": [
    {
     "data": {
      "text/plain": [
       "22535"
      ]
     },
     "metadata": {},
     "output_type": "display_data"
    },
    {
     "data": {
      "text/plain": [
       "(22527, 4)"
      ]
     },
     "metadata": {},
     "output_type": "display_data"
    }
   ],
   "source": [
    "n_before = genes_mapping.shape[0]\n",
    "display(n_before)\n",
    "genes_mapping = genes_mapping.drop(to_remove.index)\n",
    "display(genes_mapping.shape)\n",
    "assert genes_mapping.shape[0] == (n_before - len(to_remove.index))"
   ]
  },
  {
   "cell_type": "code",
   "execution_count": null,
   "metadata": {},
   "outputs": [],
   "source": []
  }
 ],
 "metadata": {
  "kernelspec": {
   "display_name": "Python 3",
   "language": "python",
   "name": "python3"
  },
  "language_info": {
   "codemirror_mode": {
    "name": "ipython",
    "version": 3
   },
   "file_extension": ".py",
   "mimetype": "text/x-python",
   "name": "python",
   "nbconvert_exporter": "python",
   "pygments_lexer": "ipython3",
   "version": "3.7.5"
  }
 },
 "nbformat": 4,
 "nbformat_minor": 4
}
