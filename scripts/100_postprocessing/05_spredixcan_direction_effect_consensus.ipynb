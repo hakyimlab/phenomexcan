{
 "cells": [
  {
   "cell_type": "code",
   "execution_count": 1,
   "metadata": {
    "papermill": {
     "duration": 0.094143,
     "end_time": "2019-11-28T16:46:45.635971",
     "exception": false,
     "start_time": "2019-11-28T16:46:45.541828",
     "status": "completed"
    },
    "tags": []
   },
   "outputs": [],
   "source": [
    "%load_ext autoreload\n",
    "%autoreload 2"
   ]
  },
  {
   "cell_type": "code",
   "execution_count": 2,
   "metadata": {
    "papermill": {
     "duration": 3.047791,
     "end_time": "2019-11-28T16:46:48.727034",
     "exception": false,
     "start_time": "2019-11-28T16:46:45.679243",
     "status": "completed"
    },
    "tags": []
   },
   "outputs": [],
   "source": [
    "import os\n",
    "import pickle\n",
    "from glob import glob\n",
    "from concurrent.futures import ProcessPoolExecutor, as_completed\n",
    "\n",
    "import numpy as np\n",
    "import pandas as pd\n",
    "from scipy import stats\n",
    "\n",
    "import settings as conf\n",
    "from utils import is_number, chunker"
   ]
  },
  {
   "cell_type": "markdown",
   "metadata": {
    "papermill": {
     "duration": 0.036749,
     "end_time": "2019-11-28T16:46:48.811755",
     "exception": false,
     "start_time": "2019-11-28T16:46:48.775006",
     "status": "completed"
    },
    "tags": []
   },
   "source": [
    "# Load S-PrediXcan results"
   ]
  },
  {
   "cell_type": "markdown",
   "metadata": {
    "papermill": {
     "duration": 0.036633,
     "end_time": "2019-11-28T16:46:48.885195",
     "exception": false,
     "start_time": "2019-11-28T16:46:48.848562",
     "status": "completed"
    },
    "tags": []
   },
   "source": [
    "## From Rapid GWAS project"
   ]
  },
  {
   "cell_type": "code",
   "execution_count": 3,
   "metadata": {
    "papermill": {
     "duration": 0.764298,
     "end_time": "2019-11-28T16:46:49.686409",
     "exception": false,
     "start_time": "2019-11-28T16:46:48.922111",
     "status": "completed"
    },
    "tags": []
   },
   "outputs": [],
   "source": [
    "from results.spredixcan import PhenoResults"
   ]
  },
  {
   "cell_type": "code",
   "execution_count": 4,
   "metadata": {
    "papermill": {
     "duration": 0.115517,
     "end_time": "2019-11-28T16:46:49.840211",
     "exception": false,
     "start_time": "2019-11-28T16:46:49.724694",
     "status": "completed"
    },
    "tags": []
   },
   "outputs": [
    {
     "data": {
      "text/plain": [
       "'/mnt/phenomexcan_base/results/spredixcan/rapid_gwas_project/*'"
      ]
     },
     "metadata": {},
     "output_type": "display_data"
    },
    {
     "data": {
      "text/plain": [
       "4049"
      ]
     },
     "metadata": {},
     "output_type": "display_data"
    }
   ],
   "source": [
    "_path = os.path.join(conf.SPREDIXCAN_RESULTS_DIR['RapidGWASProject'] + '/*')\n",
    "display(_path)\n",
    "all_spredixcan_results_dirs = glob(_path)\n",
    "display(len(all_spredixcan_results_dirs))\n",
    "assert len(all_spredixcan_results_dirs) == conf.SPREDIXCAN_EXPECTED_PHENOTYPES['RapidGWASProject']"
   ]
  },
  {
   "cell_type": "code",
   "execution_count": 5,
   "metadata": {
    "papermill": {
     "duration": 41.804551,
     "end_time": "2019-11-28T16:47:31.688323",
     "exception": false,
     "start_time": "2019-11-28T16:46:49.883772",
     "status": "completed"
    },
    "tags": []
   },
   "outputs": [
    {
     "data": {
      "text/plain": [
       "4049"
      ]
     },
     "metadata": {},
     "output_type": "display_data"
    }
   ],
   "source": [
    "all_spredixcan_phenotypes = [PhenoResults(p) for p in all_spredixcan_results_dirs]\n",
    "\n",
    "display(len(all_spredixcan_phenotypes))\n",
    "assert len(all_spredixcan_phenotypes) == conf.SPREDIXCAN_EXPECTED_PHENOTYPES['RapidGWASProject']"
   ]
  },
  {
   "cell_type": "markdown",
   "metadata": {
    "papermill": {
     "duration": 0.03918,
     "end_time": "2019-11-28T16:47:31.770388",
     "exception": false,
     "start_time": "2019-11-28T16:47:31.731208",
     "status": "completed"
    },
    "tags": []
   },
   "source": [
    "## From GTEx GWAS manuscript"
   ]
  },
  {
   "cell_type": "code",
   "execution_count": 6,
   "metadata": {
    "papermill": {
     "duration": 0.103915,
     "end_time": "2019-11-28T16:47:31.916455",
     "exception": false,
     "start_time": "2019-11-28T16:47:31.812540",
     "status": "completed"
    },
    "tags": []
   },
   "outputs": [
    {
     "data": {
      "text/plain": [
       "'/mnt/phenomexcan_base/results/spredixcan/gtex_gwas/*'"
      ]
     },
     "metadata": {},
     "output_type": "display_data"
    },
    {
     "data": {
      "text/plain": [
       "42"
      ]
     },
     "metadata": {},
     "output_type": "display_data"
    }
   ],
   "source": [
    "_path = os.path.join(conf.SPREDIXCAN_RESULTS_DIR['GTEX_GWAS'] + '/*')\n",
    "display(_path)\n",
    "all_extra_results_dirs = glob(_path)\n",
    "display(len(all_extra_results_dirs))\n",
    "assert len(all_extra_results_dirs) == conf.SPREDIXCAN_EXPECTED_PHENOTYPES['GTEX_GWAS']"
   ]
  },
  {
   "cell_type": "code",
   "execution_count": 7,
   "metadata": {
    "papermill": {
     "duration": 0.081338,
     "end_time": "2019-11-28T16:47:32.042261",
     "exception": false,
     "start_time": "2019-11-28T16:47:31.960923",
     "status": "completed"
    },
    "tags": []
   },
   "outputs": [
    {
     "data": {
      "text/plain": [
       "['/mnt/phenomexcan_base/results/spredixcan/gtex_gwas/PGC_ADHD_EUR_2017',\n",
       " '/mnt/phenomexcan_base/results/spredixcan/gtex_gwas/CNCR_Insomnia_all',\n",
       " '/mnt/phenomexcan_base/results/spredixcan/gtex_gwas/IMMUNOBASE_Systemic_lupus_erythematosus_hg19',\n",
       " '/mnt/phenomexcan_base/results/spredixcan/gtex_gwas/Astle_et_al_2016_Reticulocyte_count',\n",
       " '/mnt/phenomexcan_base/results/spredixcan/gtex_gwas/Astle_et_al_2016_Granulocyte_count']"
      ]
     },
     "execution_count": 7,
     "metadata": {},
     "output_type": "execute_result"
    }
   ],
   "source": [
    "all_extra_results_dirs[:5]"
   ]
  },
  {
   "cell_type": "code",
   "execution_count": 8,
   "metadata": {
    "papermill": {
     "duration": 0.165682,
     "end_time": "2019-11-28T16:47:32.250708",
     "exception": false,
     "start_time": "2019-11-28T16:47:32.085026",
     "status": "completed"
    },
    "tags": []
   },
   "outputs": [
    {
     "data": {
      "text/plain": [
       "42"
      ]
     },
     "metadata": {},
     "output_type": "display_data"
    }
   ],
   "source": [
    "_file_pattern = 'spredixcan_igwas_gtexmashrv8_(?P<code>[^/]+)__PM__(?P<tissue>.+)\\.csv$'\n",
    "all_extra_phenotypes = [PhenoResults(p, _file_pattern) for p in all_extra_results_dirs]\n",
    "all_extra_phenotypes_plain_names = pd.Index([p.pheno_info.get_plain_name() for p in all_extra_phenotypes])\n",
    "\n",
    "display(len(all_extra_phenotypes))\n",
    "assert len(all_extra_phenotypes) == conf.SMULTIXCAN_EXPECTED_PHENOTYPES['GTEX_GWAS']"
   ]
  },
  {
   "cell_type": "markdown",
   "metadata": {
    "papermill": {
     "duration": 0.041189,
     "end_time": "2019-11-28T16:47:32.335654",
     "exception": false,
     "start_time": "2019-11-28T16:47:32.294465",
     "status": "completed"
    },
    "tags": []
   },
   "source": [
    "# S-PrediXcan: direction of effect"
   ]
  },
  {
   "cell_type": "markdown",
   "metadata": {
    "papermill": {
     "duration": 0.044774,
     "end_time": "2019-11-28T16:47:32.421965",
     "exception": false,
     "start_time": "2019-11-28T16:47:32.377191",
     "status": "completed"
    },
    "tags": []
   },
   "source": [
    "## Effect direction: consensus"
   ]
  },
  {
   "cell_type": "code",
   "execution_count": 9,
   "metadata": {
    "papermill": {
     "duration": 0.069668,
     "end_time": "2019-11-28T16:47:32.538019",
     "exception": false,
     "start_time": "2019-11-28T16:47:32.468351",
     "status": "completed"
    },
    "tags": []
   },
   "outputs": [],
   "source": [
    "from results.spredixcan import PhenoResults"
   ]
  },
  {
   "cell_type": "code",
   "execution_count": 10,
   "metadata": {
    "papermill": {
     "duration": 0.073163,
     "end_time": "2019-11-28T16:47:32.653444",
     "exception": false,
     "start_time": "2019-11-28T16:47:32.580281",
     "status": "completed"
    },
    "tags": []
   },
   "outputs": [],
   "source": [
    "# from scipy import stats\n",
    "\n",
    "# stats.norm.cdf(-1.96) * 2\n",
    "\n",
    "# def _get_effect_direction(zscores):\n",
    "#     pvalues = pd.Series(stats.norm.cdf(np.abs(zscores) * -1.0) * 2.0, index=zscores.index.tolist())\n",
    "#     pvalues = pvalues[pvalues < pval_threshold]\n",
    "\n",
    "#     if pvalues.shape[0] == 0:\n",
    "#         return 0.0\n",
    "\n",
    "#     zscores = zscores.loc[pvalues.index]\n",
    "#     zscores_sign = np.sign(zscores)\n",
    "#     return zscores_sign.value_counts().sort_values(ascending=False).index[0]\n",
    "\n",
    "# _tmp = all_spredixcan_phenotypes[2]\n",
    "# display(_tmp)\n",
    "\n",
    "# data_dict = {t:_tmp.get_tissue_data(t, 'zscore', index_col='gene_simple') for t in _tmp.tissues}\n",
    "\n",
    "# data = pd.DataFrame(data_dict)\n",
    "\n",
    "# data.head()\n",
    "\n",
    "# assert not data.isin([np.inf, -np.inf]).any().any()\n",
    "\n",
    "# zscores = data.loc['ENSG00000137185']\n",
    "\n",
    "# pval_threshold=1e-4\n",
    "\n",
    "# pvalues = pd.Series(stats.norm.cdf(np.abs(zscores) * -1.0) * 2.0, index=zscores.index.tolist())\n",
    "\n",
    "# pvalues = pvalues[pvalues < pval_threshold]\n",
    "\n",
    "# pvalues\n",
    "\n",
    "# zscores = zscores.loc[pvalues.index]\n",
    "\n",
    "# zscores\n",
    "\n",
    "# zscores_sign = np.sign(zscores)\n",
    "\n",
    "# zscores_sign.value_counts().sort_values(ascending=False).index[0]"
   ]
  },
  {
   "cell_type": "markdown",
   "metadata": {
    "papermill": {
     "duration": 0.044546,
     "end_time": "2019-11-28T16:47:32.740102",
     "exception": false,
     "start_time": "2019-11-28T16:47:32.695556",
     "status": "completed"
    },
    "tags": []
   },
   "source": [
    "### Compute results"
   ]
  },
  {
   "cell_type": "code",
   "execution_count": 11,
   "metadata": {
    "papermill": {
     "duration": 0.072332,
     "end_time": "2019-11-28T16:47:32.853579",
     "exception": false,
     "start_time": "2019-11-28T16:47:32.781247",
     "status": "completed"
    },
    "tags": []
   },
   "outputs": [],
   "source": [
    "def _get_combined_results(phenos):\n",
    "    return {\n",
    "        pheno.pheno_info.get_plain_name():\n",
    "            pheno.get_consensus_effect_direction()\n",
    "        for pheno in phenos\n",
    "    }"
   ]
  },
  {
   "cell_type": "code",
   "execution_count": 12,
   "metadata": {
    "papermill": {
     "duration": 0.07439,
     "end_time": "2019-11-28T16:47:32.978230",
     "exception": false,
     "start_time": "2019-11-28T16:47:32.903840",
     "status": "completed"
    },
    "tags": []
   },
   "outputs": [],
   "source": [
    "def _run_all(phenotype_chunks, n_jobs=conf.N_JOBS_HIGH):\n",
    "    all_results = {}\n",
    "    \n",
    "    with ProcessPoolExecutor(max_workers=n_jobs) as executor:\n",
    "        tasks = [executor.submit(_get_combined_results, chunk) for chunk in phenotype_chunks]\n",
    "        for future in as_completed(tasks):\n",
    "            res = future.result()\n",
    "            all_results.update(res)\n",
    "    \n",
    "    return all_results"
   ]
  },
  {
   "cell_type": "code",
   "execution_count": 13,
   "metadata": {
    "papermill": {
     "duration": 0.080696,
     "end_time": "2019-11-28T16:47:33.101857",
     "exception": false,
     "start_time": "2019-11-28T16:47:33.021161",
     "status": "completed"
    },
    "tags": []
   },
   "outputs": [],
   "source": [
    "# phenotype_chunks = chunker(all_spredixcan_phenotypes[:5] + all_extra_phenotypes[:5], 2)\n",
    "phenotype_chunks = chunker(all_spredixcan_phenotypes + all_extra_phenotypes, 25)"
   ]
  },
  {
   "cell_type": "code",
   "execution_count": 14,
   "metadata": {
    "papermill": {
     "duration": 16360.913798,
     "end_time": "2019-11-28T21:20:14.058605",
     "exception": false,
     "start_time": "2019-11-28T16:47:33.144807",
     "status": "completed"
    },
    "tags": []
   },
   "outputs": [],
   "source": [
    "all_results = _run_all(phenotype_chunks, n_jobs=20)"
   ]
  },
  {
   "cell_type": "code",
   "execution_count": 15,
   "metadata": {
    "papermill": {
     "duration": 0.10143,
     "end_time": "2019-11-28T21:20:14.204422",
     "exception": false,
     "start_time": "2019-11-28T21:20:14.102992",
     "status": "completed"
    },
    "tags": []
   },
   "outputs": [
    {
     "data": {
      "text/plain": [
       "4091"
      ]
     },
     "execution_count": 15,
     "metadata": {},
     "output_type": "execute_result"
    }
   ],
   "source": [
    "len(all_results)"
   ]
  },
  {
   "cell_type": "markdown",
   "metadata": {
    "papermill": {
     "duration": 0.031641,
     "end_time": "2019-11-28T21:20:14.274734",
     "exception": false,
     "start_time": "2019-11-28T21:20:14.243093",
     "status": "completed"
    },
    "tags": []
   },
   "source": [
    "### Create DataFrame"
   ]
  },
  {
   "cell_type": "code",
   "execution_count": 16,
   "metadata": {
    "papermill": {
     "duration": 0.064257,
     "end_time": "2019-11-28T21:20:14.370834",
     "exception": false,
     "start_time": "2019-11-28T21:20:14.306577",
     "status": "completed"
    },
    "tags": []
   },
   "outputs": [
    {
     "data": {
      "text/plain": [
       "4091"
      ]
     },
     "metadata": {},
     "output_type": "display_data"
    }
   ],
   "source": [
    "_n_expected_phenos = np.sum(list(conf.SMULTIXCAN_EXPECTED_PHENOTYPES.values()))\n",
    "display(_n_expected_phenos)\n",
    "assert len(all_results) == _n_expected_phenos, len(all_results)"
   ]
  },
  {
   "cell_type": "code",
   "execution_count": 17,
   "metadata": {
    "papermill": {
     "duration": 72.515147,
     "end_time": "2019-11-28T21:21:26.924825",
     "exception": false,
     "start_time": "2019-11-28T21:20:14.409678",
     "status": "completed"
    },
    "tags": []
   },
   "outputs": [
    {
     "data": {
      "text/plain": [
       "(22518, 4091)"
      ]
     },
     "metadata": {},
     "output_type": "display_data"
    },
    {
     "data": {
      "text/html": [
       "<div>\n",
       "<style scoped>\n",
       "    .dataframe tbody tr th:only-of-type {\n",
       "        vertical-align: middle;\n",
       "    }\n",
       "\n",
       "    .dataframe tbody tr th {\n",
       "        vertical-align: top;\n",
       "    }\n",
       "\n",
       "    .dataframe thead th {\n",
       "        text-align: right;\n",
       "    }\n",
       "</style>\n",
       "<table border=\"1\" class=\"dataframe\">\n",
       "  <thead>\n",
       "    <tr style=\"text-align: right;\">\n",
       "      <th></th>\n",
       "      <th>C_OTHER_SKIN-Other_malignant_neoplasms_of_skin</th>\n",
       "      <th>40001_C56-Underlying_primary_cause_of_death_ICD10_C56_Malignant_neoplasm_of_ovary</th>\n",
       "      <th>2237-Plays_computer_games</th>\n",
       "      <th>I9_STR-Stroke_excluding_SAH</th>\n",
       "      <th>2405-Number_of_children_fathered</th>\n",
       "      <th>2316-Wheeze_or_whistling_in_the_chest_in_last_year</th>\n",
       "      <th>22601_35623273-Job_coding_personnel_or_industrial_relations_officer_recruitment_consultant</th>\n",
       "      <th>20003_1140923670-Treatmentmedication_code_gtn_glyceryl_trinitrate</th>\n",
       "      <th>20002_1453-Noncancer_illness_code_selfreported_psoriasis</th>\n",
       "      <th>100014_raw-Folate</th>\n",
       "      <th>...</th>\n",
       "      <th>Astle_et_al_2016_Sum_eosinophil_basophil_counts</th>\n",
       "      <th>ENIGMA_Intracraneal_Volume</th>\n",
       "      <th>RA_OKADA_TRANS_ETHNIC</th>\n",
       "      <th>SSGAC_Education_Years_Pooled</th>\n",
       "      <th>GIANT_HEIGHT</th>\n",
       "      <th>EAGLE_Eczema</th>\n",
       "      <th>IGAP_Alzheimer</th>\n",
       "      <th>Astle_et_al_2016_Sum_neutrophil_eosinophil_counts</th>\n",
       "      <th>Astle_et_al_2016_Monocyte_count</th>\n",
       "      <th>IBD.EUR.Inflammatory_Bowel_Disease</th>\n",
       "    </tr>\n",
       "    <tr>\n",
       "      <th>gene_name</th>\n",
       "      <th></th>\n",
       "      <th></th>\n",
       "      <th></th>\n",
       "      <th></th>\n",
       "      <th></th>\n",
       "      <th></th>\n",
       "      <th></th>\n",
       "      <th></th>\n",
       "      <th></th>\n",
       "      <th></th>\n",
       "      <th></th>\n",
       "      <th></th>\n",
       "      <th></th>\n",
       "      <th></th>\n",
       "      <th></th>\n",
       "      <th></th>\n",
       "      <th></th>\n",
       "      <th></th>\n",
       "      <th></th>\n",
       "      <th></th>\n",
       "      <th></th>\n",
       "    </tr>\n",
       "  </thead>\n",
       "  <tbody>\n",
       "    <tr>\n",
       "      <th>ENSG00000000419</th>\n",
       "      <td>NaN</td>\n",
       "      <td>NaN</td>\n",
       "      <td>NaN</td>\n",
       "      <td>NaN</td>\n",
       "      <td>NaN</td>\n",
       "      <td>NaN</td>\n",
       "      <td>NaN</td>\n",
       "      <td>NaN</td>\n",
       "      <td>NaN</td>\n",
       "      <td>NaN</td>\n",
       "      <td>...</td>\n",
       "      <td>NaN</td>\n",
       "      <td>NaN</td>\n",
       "      <td>NaN</td>\n",
       "      <td>NaN</td>\n",
       "      <td>NaN</td>\n",
       "      <td>NaN</td>\n",
       "      <td>NaN</td>\n",
       "      <td>NaN</td>\n",
       "      <td>NaN</td>\n",
       "      <td>NaN</td>\n",
       "    </tr>\n",
       "    <tr>\n",
       "      <th>ENSG00000000457</th>\n",
       "      <td>NaN</td>\n",
       "      <td>NaN</td>\n",
       "      <td>-1.0</td>\n",
       "      <td>NaN</td>\n",
       "      <td>NaN</td>\n",
       "      <td>NaN</td>\n",
       "      <td>NaN</td>\n",
       "      <td>NaN</td>\n",
       "      <td>NaN</td>\n",
       "      <td>NaN</td>\n",
       "      <td>...</td>\n",
       "      <td>NaN</td>\n",
       "      <td>NaN</td>\n",
       "      <td>NaN</td>\n",
       "      <td>NaN</td>\n",
       "      <td>NaN</td>\n",
       "      <td>NaN</td>\n",
       "      <td>NaN</td>\n",
       "      <td>NaN</td>\n",
       "      <td>NaN</td>\n",
       "      <td>NaN</td>\n",
       "    </tr>\n",
       "    <tr>\n",
       "      <th>ENSG00000000460</th>\n",
       "      <td>NaN</td>\n",
       "      <td>NaN</td>\n",
       "      <td>NaN</td>\n",
       "      <td>NaN</td>\n",
       "      <td>NaN</td>\n",
       "      <td>NaN</td>\n",
       "      <td>NaN</td>\n",
       "      <td>NaN</td>\n",
       "      <td>NaN</td>\n",
       "      <td>NaN</td>\n",
       "      <td>...</td>\n",
       "      <td>-1.0</td>\n",
       "      <td>NaN</td>\n",
       "      <td>NaN</td>\n",
       "      <td>NaN</td>\n",
       "      <td>NaN</td>\n",
       "      <td>NaN</td>\n",
       "      <td>NaN</td>\n",
       "      <td>NaN</td>\n",
       "      <td>NaN</td>\n",
       "      <td>NaN</td>\n",
       "    </tr>\n",
       "    <tr>\n",
       "      <th>ENSG00000000938</th>\n",
       "      <td>NaN</td>\n",
       "      <td>NaN</td>\n",
       "      <td>NaN</td>\n",
       "      <td>NaN</td>\n",
       "      <td>NaN</td>\n",
       "      <td>NaN</td>\n",
       "      <td>NaN</td>\n",
       "      <td>NaN</td>\n",
       "      <td>NaN</td>\n",
       "      <td>NaN</td>\n",
       "      <td>...</td>\n",
       "      <td>NaN</td>\n",
       "      <td>NaN</td>\n",
       "      <td>NaN</td>\n",
       "      <td>NaN</td>\n",
       "      <td>NaN</td>\n",
       "      <td>NaN</td>\n",
       "      <td>NaN</td>\n",
       "      <td>NaN</td>\n",
       "      <td>NaN</td>\n",
       "      <td>NaN</td>\n",
       "    </tr>\n",
       "    <tr>\n",
       "      <th>ENSG00000000971</th>\n",
       "      <td>NaN</td>\n",
       "      <td>NaN</td>\n",
       "      <td>NaN</td>\n",
       "      <td>NaN</td>\n",
       "      <td>NaN</td>\n",
       "      <td>NaN</td>\n",
       "      <td>NaN</td>\n",
       "      <td>NaN</td>\n",
       "      <td>NaN</td>\n",
       "      <td>NaN</td>\n",
       "      <td>...</td>\n",
       "      <td>NaN</td>\n",
       "      <td>NaN</td>\n",
       "      <td>NaN</td>\n",
       "      <td>NaN</td>\n",
       "      <td>NaN</td>\n",
       "      <td>NaN</td>\n",
       "      <td>NaN</td>\n",
       "      <td>NaN</td>\n",
       "      <td>NaN</td>\n",
       "      <td>NaN</td>\n",
       "    </tr>\n",
       "  </tbody>\n",
       "</table>\n",
       "<p>5 rows × 4091 columns</p>\n",
       "</div>"
      ],
      "text/plain": [
       "                C_OTHER_SKIN-Other_malignant_neoplasms_of_skin  \\\n",
       "gene_name                                                        \n",
       "ENSG00000000419                                            NaN   \n",
       "ENSG00000000457                                            NaN   \n",
       "ENSG00000000460                                            NaN   \n",
       "ENSG00000000938                                            NaN   \n",
       "ENSG00000000971                                            NaN   \n",
       "\n",
       "                40001_C56-Underlying_primary_cause_of_death_ICD10_C56_Malignant_neoplasm_of_ovary  \\\n",
       "gene_name                                                                                           \n",
       "ENSG00000000419                                                NaN                                  \n",
       "ENSG00000000457                                                NaN                                  \n",
       "ENSG00000000460                                                NaN                                  \n",
       "ENSG00000000938                                                NaN                                  \n",
       "ENSG00000000971                                                NaN                                  \n",
       "\n",
       "                2237-Plays_computer_games I9_STR-Stroke_excluding_SAH  \\\n",
       "gene_name                                                               \n",
       "ENSG00000000419                       NaN                         NaN   \n",
       "ENSG00000000457                      -1.0                         NaN   \n",
       "ENSG00000000460                       NaN                         NaN   \n",
       "ENSG00000000938                       NaN                         NaN   \n",
       "ENSG00000000971                       NaN                         NaN   \n",
       "\n",
       "                2405-Number_of_children_fathered  \\\n",
       "gene_name                                          \n",
       "ENSG00000000419                              NaN   \n",
       "ENSG00000000457                              NaN   \n",
       "ENSG00000000460                              NaN   \n",
       "ENSG00000000938                              NaN   \n",
       "ENSG00000000971                              NaN   \n",
       "\n",
       "                2316-Wheeze_or_whistling_in_the_chest_in_last_year  \\\n",
       "gene_name                                                            \n",
       "ENSG00000000419                                                NaN   \n",
       "ENSG00000000457                                                NaN   \n",
       "ENSG00000000460                                                NaN   \n",
       "ENSG00000000938                                                NaN   \n",
       "ENSG00000000971                                                NaN   \n",
       "\n",
       "                22601_35623273-Job_coding_personnel_or_industrial_relations_officer_recruitment_consultant  \\\n",
       "gene_name                                                                                                    \n",
       "ENSG00000000419                                                NaN                                           \n",
       "ENSG00000000457                                                NaN                                           \n",
       "ENSG00000000460                                                NaN                                           \n",
       "ENSG00000000938                                                NaN                                           \n",
       "ENSG00000000971                                                NaN                                           \n",
       "\n",
       "                20003_1140923670-Treatmentmedication_code_gtn_glyceryl_trinitrate  \\\n",
       "gene_name                                                                           \n",
       "ENSG00000000419                                                NaN                  \n",
       "ENSG00000000457                                                NaN                  \n",
       "ENSG00000000460                                                NaN                  \n",
       "ENSG00000000938                                                NaN                  \n",
       "ENSG00000000971                                                NaN                  \n",
       "\n",
       "                20002_1453-Noncancer_illness_code_selfreported_psoriasis  \\\n",
       "gene_name                                                                  \n",
       "ENSG00000000419                                                NaN         \n",
       "ENSG00000000457                                                NaN         \n",
       "ENSG00000000460                                                NaN         \n",
       "ENSG00000000938                                                NaN         \n",
       "ENSG00000000971                                                NaN         \n",
       "\n",
       "                100014_raw-Folate  ...  \\\n",
       "gene_name                          ...   \n",
       "ENSG00000000419               NaN  ...   \n",
       "ENSG00000000457               NaN  ...   \n",
       "ENSG00000000460               NaN  ...   \n",
       "ENSG00000000938               NaN  ...   \n",
       "ENSG00000000971               NaN  ...   \n",
       "\n",
       "                Astle_et_al_2016_Sum_eosinophil_basophil_counts  \\\n",
       "gene_name                                                         \n",
       "ENSG00000000419                                             NaN   \n",
       "ENSG00000000457                                             NaN   \n",
       "ENSG00000000460                                            -1.0   \n",
       "ENSG00000000938                                             NaN   \n",
       "ENSG00000000971                                             NaN   \n",
       "\n",
       "                ENIGMA_Intracraneal_Volume RA_OKADA_TRANS_ETHNIC  \\\n",
       "gene_name                                                          \n",
       "ENSG00000000419                        NaN                   NaN   \n",
       "ENSG00000000457                        NaN                   NaN   \n",
       "ENSG00000000460                        NaN                   NaN   \n",
       "ENSG00000000938                        NaN                   NaN   \n",
       "ENSG00000000971                        NaN                   NaN   \n",
       "\n",
       "                SSGAC_Education_Years_Pooled GIANT_HEIGHT EAGLE_Eczema  \\\n",
       "gene_name                                                                \n",
       "ENSG00000000419                          NaN          NaN          NaN   \n",
       "ENSG00000000457                          NaN          NaN          NaN   \n",
       "ENSG00000000460                          NaN          NaN          NaN   \n",
       "ENSG00000000938                          NaN          NaN          NaN   \n",
       "ENSG00000000971                          NaN          NaN          NaN   \n",
       "\n",
       "                IGAP_Alzheimer  \\\n",
       "gene_name                        \n",
       "ENSG00000000419            NaN   \n",
       "ENSG00000000457            NaN   \n",
       "ENSG00000000460            NaN   \n",
       "ENSG00000000938            NaN   \n",
       "ENSG00000000971            NaN   \n",
       "\n",
       "                Astle_et_al_2016_Sum_neutrophil_eosinophil_counts  \\\n",
       "gene_name                                                           \n",
       "ENSG00000000419                                               NaN   \n",
       "ENSG00000000457                                               NaN   \n",
       "ENSG00000000460                                               NaN   \n",
       "ENSG00000000938                                               NaN   \n",
       "ENSG00000000971                                               NaN   \n",
       "\n",
       "                Astle_et_al_2016_Monocyte_count  \\\n",
       "gene_name                                         \n",
       "ENSG00000000419                             NaN   \n",
       "ENSG00000000457                             NaN   \n",
       "ENSG00000000460                             NaN   \n",
       "ENSG00000000938                             NaN   \n",
       "ENSG00000000971                             NaN   \n",
       "\n",
       "                IBD.EUR.Inflammatory_Bowel_Disease  \n",
       "gene_name                                           \n",
       "ENSG00000000419                                NaN  \n",
       "ENSG00000000457                                NaN  \n",
       "ENSG00000000460                                NaN  \n",
       "ENSG00000000938                                NaN  \n",
       "ENSG00000000971                                NaN  \n",
       "\n",
       "[5 rows x 4091 columns]"
      ]
     },
     "metadata": {},
     "output_type": "display_data"
    }
   ],
   "source": [
    "# the category dtype is for efficiency in storage/loading\n",
    "spredixcan_genes_effect_directions = pd.DataFrame(all_results, dtype='category')\n",
    "spredixcan_genes_effect_directions.index.rename('gene_name', inplace=True)\n",
    "\n",
    "assert spredixcan_genes_effect_directions.index.is_unique\n",
    "\n",
    "display(spredixcan_genes_effect_directions.shape)\n",
    "display(spredixcan_genes_effect_directions.head())"
   ]
  },
  {
   "cell_type": "code",
   "execution_count": 18,
   "metadata": {
    "papermill": {
     "duration": 0.100997,
     "end_time": "2019-11-28T21:21:27.083800",
     "exception": false,
     "start_time": "2019-11-28T21:21:26.982803",
     "status": "completed"
    },
    "tags": []
   },
   "outputs": [],
   "source": [
    "# For this method we should not remove nans\n",
    "# Remove genes with no results\n",
    "#spredixcan_genes_effect_directions = spredixcan_genes_effect_directions.dropna(axis=0, how='all')"
   ]
  },
  {
   "cell_type": "code",
   "execution_count": 19,
   "metadata": {
    "papermill": {
     "duration": 10.181521,
     "end_time": "2019-11-28T21:21:37.311651",
     "exception": false,
     "start_time": "2019-11-28T21:21:27.130130",
     "status": "completed"
    },
    "tags": []
   },
   "outputs": [
    {
     "data": {
      "text/plain": [
       "91634228"
      ]
     },
     "execution_count": 19,
     "metadata": {},
     "output_type": "execute_result"
    }
   ],
   "source": [
    "# how many entries are nan\n",
    "spredixcan_genes_effect_directions.isna().sum().sum()"
   ]
  },
  {
   "cell_type": "code",
   "execution_count": 20,
   "metadata": {
    "papermill": {
     "duration": 80.545489,
     "end_time": "2019-11-28T21:22:57.910313",
     "exception": false,
     "start_time": "2019-11-28T21:21:37.364824",
     "status": "completed"
    },
    "tags": []
   },
   "outputs": [
    {
     "data": {
      "text/plain": [
       "array([-1.,  1.,  0.])"
      ]
     },
     "metadata": {},
     "output_type": "display_data"
    }
   ],
   "source": [
    "_tmp = pd.Series(spredixcan_genes_effect_directions.values.flatten()).dropna().astype(float).unique()\n",
    "display(_tmp)\n",
    "assert set(_tmp) == set([0, 1, -1]), set(_tmp)"
   ]
  },
  {
   "cell_type": "code",
   "execution_count": 21,
   "metadata": {
    "papermill": {
     "duration": 0.110545,
     "end_time": "2019-11-28T21:22:58.070866",
     "exception": false,
     "start_time": "2019-11-28T21:22:57.960321",
     "status": "completed"
    },
    "tags": []
   },
   "outputs": [
    {
     "data": {
      "text/plain": [
       "'Results shape: (22518, 4091)'"
      ]
     },
     "metadata": {},
     "output_type": "display_data"
    }
   ],
   "source": [
    "display(f'Results shape: {spredixcan_genes_effect_directions.shape}')\n",
    "\n",
    "assert spredixcan_genes_effect_directions.shape == (22518, _n_expected_phenos), spredixcan_genes_effect_directions.shape"
   ]
  },
  {
   "cell_type": "markdown",
   "metadata": {
    "papermill": {
     "duration": 0.04532,
     "end_time": "2019-11-28T21:22:58.164050",
     "exception": false,
     "start_time": "2019-11-28T21:22:58.118730",
     "status": "completed"
    },
    "tags": []
   },
   "source": [
    "## Testing"
   ]
  },
  {
   "cell_type": "code",
   "execution_count": 22,
   "metadata": {
    "papermill": {
     "duration": 0.085463,
     "end_time": "2019-11-28T21:22:58.295207",
     "exception": false,
     "start_time": "2019-11-28T21:22:58.209744",
     "status": "completed"
    },
    "tags": []
   },
   "outputs": [],
   "source": [
    "# _tmp.loc['CNCR_Insomnia_all'].sort_values(ascending=False).head()\n",
    "\n",
    "# _tmp = all_spredixcan_phenotypes[2]\n",
    "\n",
    "# _tmp.pheno_info.get_plain_name()\n",
    "\n",
    "# data_dict = {t:_tmp.get_tissue_data(t, 'zscore', index_col='gene_simple') for t in _tmp.tissues}\n",
    "\n",
    "# data = pd.DataFrame(data_dict)\n",
    "\n",
    "# data.max(axis=1).sort_values()"
   ]
  },
  {
   "cell_type": "code",
   "execution_count": 23,
   "metadata": {
    "papermill": {
     "duration": 0.104127,
     "end_time": "2019-11-28T21:22:58.448176",
     "exception": false,
     "start_time": "2019-11-28T21:22:58.344049",
     "status": "completed"
    },
    "tags": []
   },
   "outputs": [
    {
     "data": {
      "text/html": [
       "<div>\n",
       "<style scoped>\n",
       "    .dataframe tbody tr th:only-of-type {\n",
       "        vertical-align: middle;\n",
       "    }\n",
       "\n",
       "    .dataframe tbody tr th {\n",
       "        vertical-align: top;\n",
       "    }\n",
       "\n",
       "    .dataframe thead th {\n",
       "        text-align: right;\n",
       "    }\n",
       "</style>\n",
       "<table border=\"1\" class=\"dataframe\">\n",
       "  <thead>\n",
       "    <tr style=\"text-align: right;\">\n",
       "      <th></th>\n",
       "      <th>6157_3-Why_stopped_smoking_Health_precaution</th>\n",
       "      <th>I50-Diagnoses_main_ICD10_I50_Heart_failure</th>\n",
       "      <th>CNCR_Insomnia_all</th>\n",
       "    </tr>\n",
       "    <tr>\n",
       "      <th>gene_name</th>\n",
       "      <th></th>\n",
       "      <th></th>\n",
       "      <th></th>\n",
       "    </tr>\n",
       "  </thead>\n",
       "  <tbody>\n",
       "    <tr>\n",
       "      <th>ENSG00000137185</th>\n",
       "      <td>-1.0</td>\n",
       "      <td>NaN</td>\n",
       "      <td>NaN</td>\n",
       "    </tr>\n",
       "    <tr>\n",
       "      <th>ENSG00000000457</th>\n",
       "      <td>NaN</td>\n",
       "      <td>NaN</td>\n",
       "      <td>NaN</td>\n",
       "    </tr>\n",
       "    <tr>\n",
       "      <th>ENSG00000095464</th>\n",
       "      <td>NaN</td>\n",
       "      <td>1.0</td>\n",
       "      <td>NaN</td>\n",
       "    </tr>\n",
       "    <tr>\n",
       "      <th>ENSG00000228397</th>\n",
       "      <td>NaN</td>\n",
       "      <td>NaN</td>\n",
       "      <td>1.0</td>\n",
       "    </tr>\n",
       "    <tr>\n",
       "      <th>ENSG00000279325</th>\n",
       "      <td>NaN</td>\n",
       "      <td>NaN</td>\n",
       "      <td>-1.0</td>\n",
       "    </tr>\n",
       "    <tr>\n",
       "      <th>ENSG00000000419</th>\n",
       "      <td>NaN</td>\n",
       "      <td>NaN</td>\n",
       "      <td>NaN</td>\n",
       "    </tr>\n",
       "  </tbody>\n",
       "</table>\n",
       "</div>"
      ],
      "text/plain": [
       "                6157_3-Why_stopped_smoking_Health_precaution  \\\n",
       "gene_name                                                      \n",
       "ENSG00000137185                                         -1.0   \n",
       "ENSG00000000457                                          NaN   \n",
       "ENSG00000095464                                          NaN   \n",
       "ENSG00000228397                                          NaN   \n",
       "ENSG00000279325                                          NaN   \n",
       "ENSG00000000419                                          NaN   \n",
       "\n",
       "                I50-Diagnoses_main_ICD10_I50_Heart_failure CNCR_Insomnia_all  \n",
       "gene_name                                                                     \n",
       "ENSG00000137185                                        NaN               NaN  \n",
       "ENSG00000000457                                        NaN               NaN  \n",
       "ENSG00000095464                                        1.0               NaN  \n",
       "ENSG00000228397                                        NaN               1.0  \n",
       "ENSG00000279325                                        NaN              -1.0  \n",
       "ENSG00000000419                                        NaN               NaN  "
      ]
     },
     "execution_count": 23,
     "metadata": {},
     "output_type": "execute_result"
    }
   ],
   "source": [
    "spredixcan_genes_effect_directions.loc[\n",
    "    [\n",
    "        'ENSG00000137185',\n",
    "        'ENSG00000000457',\n",
    "        'ENSG00000095464',\n",
    "        'ENSG00000228397',\n",
    "        'ENSG00000279325',\n",
    "        'ENSG00000000419',\n",
    "    ],\n",
    "    [\n",
    "        '6157_3-Why_stopped_smoking_Health_precaution',\n",
    "        'I50-Diagnoses_main_ICD10_I50_Heart_failure',\n",
    "        'CNCR_Insomnia_all',\n",
    "    ]\n",
    "]"
   ]
  },
  {
   "cell_type": "code",
   "execution_count": 24,
   "metadata": {
    "papermill": {
     "duration": 0.087713,
     "end_time": "2019-11-28T21:22:58.591411",
     "exception": false,
     "start_time": "2019-11-28T21:22:58.503698",
     "status": "completed"
    },
    "tags": []
   },
   "outputs": [],
   "source": [
    "assert spredixcan_genes_effect_directions.loc['ENSG00000137185', '6157_3-Why_stopped_smoking_Health_precaution'] == -1.0\n",
    "assert pd.isnull(spredixcan_genes_effect_directions.loc['ENSG00000000457', '6157_3-Why_stopped_smoking_Health_precaution'])\n",
    "assert pd.isnull(spredixcan_genes_effect_directions.loc['ENSG00000095464', '6157_3-Why_stopped_smoking_Health_precaution'])\n",
    "\n",
    "assert spredixcan_genes_effect_directions.loc['ENSG00000095464', 'I50-Diagnoses_main_ICD10_I50_Heart_failure'] == 1.0\n",
    "\n",
    "assert pd.isnull(spredixcan_genes_effect_directions.loc['ENSG00000137185', 'CNCR_Insomnia_all'])\n",
    "assert spredixcan_genes_effect_directions.loc['ENSG00000228397', 'CNCR_Insomnia_all'] == 1.0\n",
    "assert spredixcan_genes_effect_directions.loc['ENSG00000279325', 'CNCR_Insomnia_all'] == -1.0"
   ]
  },
  {
   "cell_type": "markdown",
   "metadata": {
    "papermill": {
     "duration": 0.045549,
     "end_time": "2019-11-28T21:22:58.697833",
     "exception": false,
     "start_time": "2019-11-28T21:22:58.652284",
     "status": "completed"
    },
    "tags": []
   },
   "source": [
    "The code below was used to write the assert above; see for each gene if first and last (min and max) correspond to sign above"
   ]
  },
  {
   "cell_type": "code",
   "execution_count": 25,
   "metadata": {
    "papermill": {
     "duration": 0.078341,
     "end_time": "2019-11-28T21:22:58.822638",
     "exception": false,
     "start_time": "2019-11-28T21:22:58.744297",
     "status": "completed"
    },
    "tags": []
   },
   "outputs": [],
   "source": [
    "rapid_gwas_dir = conf.SPREDIXCAN_RESULTS_DIR['RapidGWASProject']\n",
    "gtex_gwas_dir = conf.SPREDIXCAN_RESULTS_DIR['GTEX_GWAS']"
   ]
  },
  {
   "cell_type": "code",
   "execution_count": 26,
   "metadata": {
    "papermill": {
     "duration": 4.396319,
     "end_time": "2019-11-28T21:23:03.268199",
     "exception": false,
     "start_time": "2019-11-28T21:22:58.871880",
     "status": "completed"
    },
    "tags": []
   },
   "outputs": [
    {
     "name": "stdout",
     "output_type": "stream",
     "text": [
      "ENSG00000137185.11  ZSCAN9               -5.83616067550634\n",
      "ENSG00000137185.11  ZSCAN9               -5.792628572580804\n",
      "ENSG00000137185.11  ZSCAN9               -5.681816314702161\n",
      "ENSG00000137185.11  ZSCAN9               -5.412943710075788\n",
      "ENSG00000137185.11  ZSCAN9               -5.352010726928711\n",
      "ENSG00000137185.11  ZSCAN9               -5.279010199840854\n",
      "ENSG00000137185.11  ZSCAN9               -5.108492106415525\n",
      "ENSG00000137185.11  ZSCAN9               -5.079929626396137\n",
      "ENSG00000137185.11  ZSCAN9               -5.063558049159138\n",
      "ENSG00000137185.11  ZSCAN9               -5.043577015552067\n",
      "ENSG00000137185.11  ZSCAN9               -5.003944335955496\n",
      "ENSG00000137185.11  ZSCAN9               -5.001958915404419\n",
      "ENSG00000137185.11  ZSCAN9               -4.975072786720918\n",
      "ENSG00000137185.11  ZSCAN9               -4.896579024471048\n",
      "ENSG00000137185.11  ZSCAN9               -4.890546437827829\n",
      "ENSG00000137185.11  ZSCAN9               -4.820902875527851\n",
      "ENSG00000137185.11  ZSCAN9               -4.752288165022551\n",
      "ENSG00000137185.11  ZSCAN9               -4.647128938064122\n",
      "ENSG00000137185.11  ZSCAN9               -4.569063316895238\n",
      "ENSG00000137185.11  ZSCAN9               -4.563529366438074\n",
      "ENSG00000137185.11  ZSCAN9               -4.4956903563804085\n",
      "ENSG00000137185.11  ZSCAN9               -4.464790531197869\n",
      "ENSG00000137185.11  ZSCAN9               -4.432309066744871\n",
      "ENSG00000137185.11  ZSCAN9               -4.362648046565126\n",
      "ENSG00000137185.11  ZSCAN9               -4.33316756201822\n",
      "ENSG00000137185.11  ZSCAN9               -4.2555141737623\n",
      "ENSG00000137185.11  ZSCAN9               -4.005842859521801\n",
      "ENSG00000137185.11  ZSCAN9               -3.77937716329222\n",
      "ENSG00000137185.11  ZSCAN9               -3.716997719017027\n",
      "ENSG00000137185.11  ZSCAN9               -3.655161783909055\n",
      "ENSG00000137185.11  ZSCAN9               -3.430654122133542\n",
      "ENSG00000137185.11  ZSCAN9               -3.171751470692835\n",
      "ENSG00000137185.11  ZSCAN9               -2.6098740403550895\n",
      "ENSG00000137185.11  ZSCAN9               -1.8832161426544192\n",
      "ENSG00000137185.11  ZSCAN9               -1.8832161426544192\n",
      "ENSG00000137185.11  ZSCAN9               -1.8832161426544187\n",
      "ENSG00000137185.11  ZSCAN9               -1.6922401768547777\n",
      "ENSG00000137185.11  ZSCAN9               -1.6549090387212249\n",
      "ENSG00000137185.11  ZSCAN9               -1.6494299364370852\n",
      "ENSG00000137185.11  ZSCAN9               -1.622862405799736\n",
      "ENSG00000137185.11  ZSCAN9               -1.3142750947646684\n",
      "ENSG00000137185.11  ZSCAN9               -1.260923638109413\n",
      "ENSG00000137185.11  ZSCAN9               0.23804569291863384\n",
      "ENSG00000137185.11  ZSCAN9               0.2597931492965406\n",
      "ENSG00000137185.11  ZSCAN9               0.27435923851300026\n",
      "ENSG00000137185.11  ZSCAN9               0.4592363802054511\n",
      "ENSG00000137185.11  ZSCAN9               0.5706144517175885\n",
      "ENSG00000137185.11  ZSCAN9               0.6564774626118419\n",
      "ENSG00000137185.11  ZSCAN9               1.5036653763319663\n",
      "\n",
      "ENSG00000000457.13  SCYL3                -1.4514227332124456\n",
      "ENSG00000000457.13  SCYL3                0.49047476284484304\n",
      "\n",
      "ENSG00000095464.9   PDE6C                NA\n",
      "ENSG00000095464.9   PDE6C                1.5649724006652834\n"
     ]
    }
   ],
   "source": [
    "%%bash -s \"$rapid_gwas_dir\"\n",
    "cd $1/6157_3\n",
    "parallel 'cat {} | cut -f1-3 -d, | column -t -s, | grep \"ENSG00000137185\"' ::: *.csv | sort -k3 -g\n",
    "echo \"\"\n",
    "parallel 'cat {} | cut -f1-3 -d, | column -t -s, | grep \"ENSG00000000457\"' ::: *.csv | sort -k3 -g | sed -e 1b -e '$!d'\n",
    "echo \"\"\n",
    "parallel 'cat {} | cut -f1-3 -d, | column -t -s, | grep \"ENSG00000095464\"' ::: *.csv | sort -k3 -g | sed -e 1b -e '$!d'"
   ]
  },
  {
   "cell_type": "code",
   "execution_count": 27,
   "metadata": {
    "papermill": {
     "duration": 2.517884,
     "end_time": "2019-11-28T21:23:05.838554",
     "exception": false,
     "start_time": "2019-11-28T21:23:03.320670",
     "status": "completed"
    },
    "tags": []
   },
   "outputs": [
    {
     "name": "stdout",
     "output_type": "stream",
     "text": [
      "ENSG00000095464.9   PDE6C                NA\n",
      "ENSG00000095464.9   PDE6C                -2.987583875656128\n",
      "ENSG00000095464.9   PDE6C                -1.706084537916532\n",
      "ENSG00000095464.9   PDE6C                -1.6929545931506047\n",
      "ENSG00000095464.9   PDE6C                -1.6694166874361254\n",
      "ENSG00000095464.9   PDE6C                -1.6645126380746706\n",
      "ENSG00000095464.9   PDE6C                -1.658251762390137\n",
      "ENSG00000095464.9   PDE6C                -1.6582517623901367\n",
      "ENSG00000095464.9   PDE6C                -1.6582517623901367\n",
      "ENSG00000095464.9   PDE6C                -1.6582517623901367\n",
      "ENSG00000095464.9   PDE6C                -1.652789255603333\n",
      "ENSG00000095464.9   PDE6C                -1.6400961218813983\n",
      "ENSG00000095464.9   PDE6C                -1.6347826064398305\n",
      "ENSG00000095464.9   PDE6C                -1.6275348613259335\n",
      "ENSG00000095464.9   PDE6C                -1.6171702146530154\n",
      "ENSG00000095464.9   PDE6C                -1.6171702146530154\n",
      "ENSG00000095464.9   PDE6C                -1.617170214653015\n",
      "ENSG00000095464.9   PDE6C                -1.469205428214409\n",
      "ENSG00000095464.9   PDE6C                0.34414066542610483\n",
      "ENSG00000095464.9   PDE6C                0.4394064196424759\n",
      "ENSG00000095464.9   PDE6C                0.5368163929863207\n",
      "ENSG00000095464.9   PDE6C                0.6187321543693544\n",
      "ENSG00000095464.9   PDE6C                0.8527774858968472\n",
      "ENSG00000095464.9   PDE6C                1.0481704473495483\n",
      "ENSG00000095464.9   PDE6C                1.207034279397966\n",
      "ENSG00000095464.9   PDE6C                1.3030036687850952\n",
      "ENSG00000095464.9   PDE6C                1.363927483558655\n",
      "ENSG00000095464.9   PDE6C                1.4123538602727423\n",
      "ENSG00000095464.9   PDE6C                1.6068010204064258\n",
      "ENSG00000095464.9   PDE6C                1.6171702146530154\n",
      "ENSG00000095464.9   PDE6C                1.649633348236154\n",
      "ENSG00000095464.9   PDE6C                1.650819502171409\n",
      "ENSG00000095464.9   PDE6C                1.6582588440791985\n",
      "ENSG00000095464.9   PDE6C                2.22658109664917\n",
      "ENSG00000095464.9   PDE6C                4.783493995666503\n",
      "ENSG00000095464.9   PDE6C                4.995758533477783\n"
     ]
    }
   ],
   "source": [
    "%%bash -s \"$rapid_gwas_dir\"\n",
    "cd $1/I50\n",
    "parallel 'cat {} | cut -f1-3 -d, | column -t -s, | grep \"ENSG00000095464\"' ::: *.csv | sort -k3 -g"
   ]
  },
  {
   "cell_type": "code",
   "execution_count": 28,
   "metadata": {
    "papermill": {
     "duration": 2.998156,
     "end_time": "2019-11-28T21:23:08.884552",
     "exception": false,
     "start_time": "2019-11-28T21:23:05.886396",
     "status": "completed"
    },
    "tags": []
   },
   "outputs": [
    {
     "name": "stdout",
     "output_type": "stream",
     "text": [
      "ENSG00000137185.11  ZSCAN9               -2.0075128138942824\n",
      "ENSG00000137185.11  ZSCAN9               -1.9716453552246094\n",
      "ENSG00000137185.11  ZSCAN9               -1.9451855273280618\n",
      "ENSG00000137185.11  ZSCAN9               -1.8545247091875776\n",
      "ENSG00000137185.11  ZSCAN9               -1.7974615020480318\n",
      "ENSG00000137185.11  ZSCAN9               -1.6697390108898214\n",
      "ENSG00000137185.11  ZSCAN9               -1.637959840329144\n",
      "ENSG00000137185.11  ZSCAN9               -1.5990879264599478\n",
      "ENSG00000137185.11  ZSCAN9               -1.5792834503640862\n",
      "ENSG00000137185.11  ZSCAN9               -1.5003131550674709\n",
      "ENSG00000137185.11  ZSCAN9               -1.4885983833529386\n",
      "ENSG00000137185.11  ZSCAN9               -1.4863373695166933\n",
      "ENSG00000137185.11  ZSCAN9               -1.4656920469620405\n",
      "ENSG00000137185.11  ZSCAN9               -1.4643227059342168\n",
      "ENSG00000137185.11  ZSCAN9               -1.4559472334714858\n",
      "ENSG00000137185.11  ZSCAN9               -1.4441600680748996\n",
      "ENSG00000137185.11  ZSCAN9               -1.443698305360544\n",
      "ENSG00000137185.11  ZSCAN9               -1.4100063112999224\n",
      "ENSG00000137185.11  ZSCAN9               -1.3993590172065633\n",
      "ENSG00000137185.11  ZSCAN9               -1.3793090874313039\n",
      "ENSG00000137185.11  ZSCAN9               -1.3449999156360921\n",
      "ENSG00000137185.11  ZSCAN9               -1.3378673502030038\n",
      "ENSG00000137185.11  ZSCAN9               -1.2672643452162011\n",
      "ENSG00000137185.11  ZSCAN9               -1.2645100156159148\n",
      "ENSG00000137185.11  ZSCAN9               -1.2485100276674868\n",
      "ENSG00000137185.11  ZSCAN9               -1.234295974816136\n",
      "ENSG00000137185.11  ZSCAN9               -1.2264478286956852\n",
      "ENSG00000137185.11  ZSCAN9               -1.1645883685414848\n",
      "ENSG00000137185.11  ZSCAN9               -1.0825360168498885\n",
      "ENSG00000137185.11  ZSCAN9               -1.0390941443010768\n",
      "ENSG00000137185.11  ZSCAN9               -0.9388044093613568\n",
      "ENSG00000137185.11  ZSCAN9               -0.9140282628616563\n",
      "ENSG00000137185.11  ZSCAN9               -0.7022357803069813\n",
      "ENSG00000137185.11  ZSCAN9               -0.6644571854194207\n",
      "ENSG00000137185.11  ZSCAN9               -0.6634776263026184\n",
      "ENSG00000137185.11  ZSCAN9               -0.5856364112697802\n",
      "ENSG00000137185.11  ZSCAN9               -0.5550908174740528\n",
      "ENSG00000137185.11  ZSCAN9               -0.40817357229807555\n",
      "ENSG00000137185.11  ZSCAN9               -0.225019633769989\n",
      "ENSG00000137185.11  ZSCAN9               -0.225019633769989\n",
      "ENSG00000137185.11  ZSCAN9               -0.225019633769989\n",
      "ENSG00000137185.11  ZSCAN9               -0.21402391914126281\n",
      "ENSG00000137185.11  ZSCAN9               -0.1925680493813343\n",
      "ENSG00000137185.11  ZSCAN9               -0.19153776648888055\n",
      "ENSG00000137185.11  ZSCAN9               -0.06470770470527072\n",
      "ENSG00000137185.11  ZSCAN9               -0.023521951802219908\n",
      "ENSG00000137185.11  ZSCAN9               -0.022545898984736874\n",
      "ENSG00000137185.11  ZSCAN9               0.520659264247914\n",
      "ENSG00000137185.11  ZSCAN9               0.924437358486515\n",
      "\n",
      "ENSG00000228397.2   LINC01635            -0.011170922899992667\n",
      "ENSG00000228397.2   LINC01635            0.043454625056574755\n",
      "ENSG00000228397.2   LINC01635            2.9856133245932024\n",
      "ENSG00000228397.2   LINC01635            3.214933018987968\n",
      "ENSG00000228397.2   LINC01635            3.631364020132774\n",
      "ENSG00000228397.2   LINC01635            3.895774841308594\n",
      "ENSG00000228397.2   LINC01635            4.238051414489746\n",
      "ENSG00000228397.2   LINC01635            4.238051414489746\n",
      "\n",
      "ENSG00000279325.1   RP11-24H2.3          -4.502687931060791\n",
      "ENSG00000279325.1   RP11-24H2.3          -2.0733587741851807\n",
      "ENSG00000279325.1   RP11-24H2.3          -0.9803325533866883\n"
     ]
    }
   ],
   "source": [
    "%%bash -s \"$gtex_gwas_dir\"\n",
    "cd $1/CNCR_Insomnia_all\n",
    "parallel 'cat {} | cut -f1-3 -d, | column -t -s, | grep \"ENSG00000137185\"' ::: *.csv | sort -k3 -g # | sed -e 1b -e '$!d'\n",
    "echo \"\"\n",
    "parallel 'cat {} | cut -f1-3 -d, | column -t -s, | grep \"ENSG00000228397\"' ::: *.csv | sort -k3 -g # | sed -e 1b -e '$!d'\n",
    "echo \"\"\n",
    "parallel 'cat {} | cut -f1-3 -d, | column -t -s, | grep \"ENSG00000279325\"' ::: *.csv | sort -k3 -g # | sed -e 1b -e '$!d'"
   ]
  },
  {
   "cell_type": "markdown",
   "metadata": {
    "papermill": {
     "duration": 0.046904,
     "end_time": "2019-11-28T21:23:08.981093",
     "exception": false,
     "start_time": "2019-11-28T21:23:08.934189",
     "status": "completed"
    },
    "tags": []
   },
   "source": [
    "### Save"
   ]
  },
  {
   "cell_type": "code",
   "execution_count": 29,
   "metadata": {
    "papermill": {
     "duration": 0.095042,
     "end_time": "2019-11-28T21:23:09.126510",
     "exception": false,
     "start_time": "2019-11-28T21:23:09.031468",
     "status": "completed"
    },
    "tags": []
   },
   "outputs": [
    {
     "data": {
      "text/plain": [
       "(22518, 4091)"
      ]
     },
     "execution_count": 29,
     "metadata": {},
     "output_type": "execute_result"
    }
   ],
   "source": [
    "spredixcan_genes_effect_directions.shape"
   ]
  },
  {
   "cell_type": "code",
   "execution_count": 30,
   "metadata": {
    "papermill": {
     "duration": 0.481873,
     "end_time": "2019-11-28T21:23:09.656489",
     "exception": false,
     "start_time": "2019-11-28T21:23:09.174616",
     "status": "completed"
    },
    "tags": []
   },
   "outputs": [
    {
     "data": {
      "text/html": [
       "<div>\n",
       "<style scoped>\n",
       "    .dataframe tbody tr th:only-of-type {\n",
       "        vertical-align: middle;\n",
       "    }\n",
       "\n",
       "    .dataframe tbody tr th {\n",
       "        vertical-align: top;\n",
       "    }\n",
       "\n",
       "    .dataframe thead th {\n",
       "        text-align: right;\n",
       "    }\n",
       "</style>\n",
       "<table border=\"1\" class=\"dataframe\">\n",
       "  <thead>\n",
       "    <tr style=\"text-align: right;\">\n",
       "      <th></th>\n",
       "      <th>C_OTHER_SKIN-Other_malignant_neoplasms_of_skin</th>\n",
       "      <th>40001_C56-Underlying_primary_cause_of_death_ICD10_C56_Malignant_neoplasm_of_ovary</th>\n",
       "      <th>2237-Plays_computer_games</th>\n",
       "      <th>I9_STR-Stroke_excluding_SAH</th>\n",
       "      <th>2405-Number_of_children_fathered</th>\n",
       "      <th>2316-Wheeze_or_whistling_in_the_chest_in_last_year</th>\n",
       "      <th>22601_35623273-Job_coding_personnel_or_industrial_relations_officer_recruitment_consultant</th>\n",
       "      <th>20003_1140923670-Treatmentmedication_code_gtn_glyceryl_trinitrate</th>\n",
       "      <th>20002_1453-Noncancer_illness_code_selfreported_psoriasis</th>\n",
       "      <th>100014_raw-Folate</th>\n",
       "      <th>...</th>\n",
       "      <th>Astle_et_al_2016_Sum_eosinophil_basophil_counts</th>\n",
       "      <th>ENIGMA_Intracraneal_Volume</th>\n",
       "      <th>RA_OKADA_TRANS_ETHNIC</th>\n",
       "      <th>SSGAC_Education_Years_Pooled</th>\n",
       "      <th>GIANT_HEIGHT</th>\n",
       "      <th>EAGLE_Eczema</th>\n",
       "      <th>IGAP_Alzheimer</th>\n",
       "      <th>Astle_et_al_2016_Sum_neutrophil_eosinophil_counts</th>\n",
       "      <th>Astle_et_al_2016_Monocyte_count</th>\n",
       "      <th>IBD.EUR.Inflammatory_Bowel_Disease</th>\n",
       "    </tr>\n",
       "    <tr>\n",
       "      <th>gene_name</th>\n",
       "      <th></th>\n",
       "      <th></th>\n",
       "      <th></th>\n",
       "      <th></th>\n",
       "      <th></th>\n",
       "      <th></th>\n",
       "      <th></th>\n",
       "      <th></th>\n",
       "      <th></th>\n",
       "      <th></th>\n",
       "      <th></th>\n",
       "      <th></th>\n",
       "      <th></th>\n",
       "      <th></th>\n",
       "      <th></th>\n",
       "      <th></th>\n",
       "      <th></th>\n",
       "      <th></th>\n",
       "      <th></th>\n",
       "      <th></th>\n",
       "      <th></th>\n",
       "    </tr>\n",
       "  </thead>\n",
       "  <tbody>\n",
       "    <tr>\n",
       "      <th>ENSG00000000419</th>\n",
       "      <td>NaN</td>\n",
       "      <td>NaN</td>\n",
       "      <td>NaN</td>\n",
       "      <td>NaN</td>\n",
       "      <td>NaN</td>\n",
       "      <td>NaN</td>\n",
       "      <td>NaN</td>\n",
       "      <td>NaN</td>\n",
       "      <td>NaN</td>\n",
       "      <td>NaN</td>\n",
       "      <td>...</td>\n",
       "      <td>NaN</td>\n",
       "      <td>NaN</td>\n",
       "      <td>NaN</td>\n",
       "      <td>NaN</td>\n",
       "      <td>NaN</td>\n",
       "      <td>NaN</td>\n",
       "      <td>NaN</td>\n",
       "      <td>NaN</td>\n",
       "      <td>NaN</td>\n",
       "      <td>NaN</td>\n",
       "    </tr>\n",
       "    <tr>\n",
       "      <th>ENSG00000000457</th>\n",
       "      <td>NaN</td>\n",
       "      <td>NaN</td>\n",
       "      <td>-1.0</td>\n",
       "      <td>NaN</td>\n",
       "      <td>NaN</td>\n",
       "      <td>NaN</td>\n",
       "      <td>NaN</td>\n",
       "      <td>NaN</td>\n",
       "      <td>NaN</td>\n",
       "      <td>NaN</td>\n",
       "      <td>...</td>\n",
       "      <td>NaN</td>\n",
       "      <td>NaN</td>\n",
       "      <td>NaN</td>\n",
       "      <td>NaN</td>\n",
       "      <td>NaN</td>\n",
       "      <td>NaN</td>\n",
       "      <td>NaN</td>\n",
       "      <td>NaN</td>\n",
       "      <td>NaN</td>\n",
       "      <td>NaN</td>\n",
       "    </tr>\n",
       "    <tr>\n",
       "      <th>ENSG00000000460</th>\n",
       "      <td>NaN</td>\n",
       "      <td>NaN</td>\n",
       "      <td>NaN</td>\n",
       "      <td>NaN</td>\n",
       "      <td>NaN</td>\n",
       "      <td>NaN</td>\n",
       "      <td>NaN</td>\n",
       "      <td>NaN</td>\n",
       "      <td>NaN</td>\n",
       "      <td>NaN</td>\n",
       "      <td>...</td>\n",
       "      <td>-1.0</td>\n",
       "      <td>NaN</td>\n",
       "      <td>NaN</td>\n",
       "      <td>NaN</td>\n",
       "      <td>NaN</td>\n",
       "      <td>NaN</td>\n",
       "      <td>NaN</td>\n",
       "      <td>NaN</td>\n",
       "      <td>NaN</td>\n",
       "      <td>NaN</td>\n",
       "    </tr>\n",
       "    <tr>\n",
       "      <th>ENSG00000000938</th>\n",
       "      <td>NaN</td>\n",
       "      <td>NaN</td>\n",
       "      <td>NaN</td>\n",
       "      <td>NaN</td>\n",
       "      <td>NaN</td>\n",
       "      <td>NaN</td>\n",
       "      <td>NaN</td>\n",
       "      <td>NaN</td>\n",
       "      <td>NaN</td>\n",
       "      <td>NaN</td>\n",
       "      <td>...</td>\n",
       "      <td>NaN</td>\n",
       "      <td>NaN</td>\n",
       "      <td>NaN</td>\n",
       "      <td>NaN</td>\n",
       "      <td>NaN</td>\n",
       "      <td>NaN</td>\n",
       "      <td>NaN</td>\n",
       "      <td>NaN</td>\n",
       "      <td>NaN</td>\n",
       "      <td>NaN</td>\n",
       "    </tr>\n",
       "    <tr>\n",
       "      <th>ENSG00000000971</th>\n",
       "      <td>NaN</td>\n",
       "      <td>NaN</td>\n",
       "      <td>NaN</td>\n",
       "      <td>NaN</td>\n",
       "      <td>NaN</td>\n",
       "      <td>NaN</td>\n",
       "      <td>NaN</td>\n",
       "      <td>NaN</td>\n",
       "      <td>NaN</td>\n",
       "      <td>NaN</td>\n",
       "      <td>...</td>\n",
       "      <td>NaN</td>\n",
       "      <td>NaN</td>\n",
       "      <td>NaN</td>\n",
       "      <td>NaN</td>\n",
       "      <td>NaN</td>\n",
       "      <td>NaN</td>\n",
       "      <td>NaN</td>\n",
       "      <td>NaN</td>\n",
       "      <td>NaN</td>\n",
       "      <td>NaN</td>\n",
       "    </tr>\n",
       "  </tbody>\n",
       "</table>\n",
       "<p>5 rows × 4091 columns</p>\n",
       "</div>"
      ],
      "text/plain": [
       "                C_OTHER_SKIN-Other_malignant_neoplasms_of_skin  \\\n",
       "gene_name                                                        \n",
       "ENSG00000000419                                            NaN   \n",
       "ENSG00000000457                                            NaN   \n",
       "ENSG00000000460                                            NaN   \n",
       "ENSG00000000938                                            NaN   \n",
       "ENSG00000000971                                            NaN   \n",
       "\n",
       "                40001_C56-Underlying_primary_cause_of_death_ICD10_C56_Malignant_neoplasm_of_ovary  \\\n",
       "gene_name                                                                                           \n",
       "ENSG00000000419                                                NaN                                  \n",
       "ENSG00000000457                                                NaN                                  \n",
       "ENSG00000000460                                                NaN                                  \n",
       "ENSG00000000938                                                NaN                                  \n",
       "ENSG00000000971                                                NaN                                  \n",
       "\n",
       "                2237-Plays_computer_games I9_STR-Stroke_excluding_SAH  \\\n",
       "gene_name                                                               \n",
       "ENSG00000000419                       NaN                         NaN   \n",
       "ENSG00000000457                      -1.0                         NaN   \n",
       "ENSG00000000460                       NaN                         NaN   \n",
       "ENSG00000000938                       NaN                         NaN   \n",
       "ENSG00000000971                       NaN                         NaN   \n",
       "\n",
       "                2405-Number_of_children_fathered  \\\n",
       "gene_name                                          \n",
       "ENSG00000000419                              NaN   \n",
       "ENSG00000000457                              NaN   \n",
       "ENSG00000000460                              NaN   \n",
       "ENSG00000000938                              NaN   \n",
       "ENSG00000000971                              NaN   \n",
       "\n",
       "                2316-Wheeze_or_whistling_in_the_chest_in_last_year  \\\n",
       "gene_name                                                            \n",
       "ENSG00000000419                                                NaN   \n",
       "ENSG00000000457                                                NaN   \n",
       "ENSG00000000460                                                NaN   \n",
       "ENSG00000000938                                                NaN   \n",
       "ENSG00000000971                                                NaN   \n",
       "\n",
       "                22601_35623273-Job_coding_personnel_or_industrial_relations_officer_recruitment_consultant  \\\n",
       "gene_name                                                                                                    \n",
       "ENSG00000000419                                                NaN                                           \n",
       "ENSG00000000457                                                NaN                                           \n",
       "ENSG00000000460                                                NaN                                           \n",
       "ENSG00000000938                                                NaN                                           \n",
       "ENSG00000000971                                                NaN                                           \n",
       "\n",
       "                20003_1140923670-Treatmentmedication_code_gtn_glyceryl_trinitrate  \\\n",
       "gene_name                                                                           \n",
       "ENSG00000000419                                                NaN                  \n",
       "ENSG00000000457                                                NaN                  \n",
       "ENSG00000000460                                                NaN                  \n",
       "ENSG00000000938                                                NaN                  \n",
       "ENSG00000000971                                                NaN                  \n",
       "\n",
       "                20002_1453-Noncancer_illness_code_selfreported_psoriasis  \\\n",
       "gene_name                                                                  \n",
       "ENSG00000000419                                                NaN         \n",
       "ENSG00000000457                                                NaN         \n",
       "ENSG00000000460                                                NaN         \n",
       "ENSG00000000938                                                NaN         \n",
       "ENSG00000000971                                                NaN         \n",
       "\n",
       "                100014_raw-Folate  ...  \\\n",
       "gene_name                          ...   \n",
       "ENSG00000000419               NaN  ...   \n",
       "ENSG00000000457               NaN  ...   \n",
       "ENSG00000000460               NaN  ...   \n",
       "ENSG00000000938               NaN  ...   \n",
       "ENSG00000000971               NaN  ...   \n",
       "\n",
       "                Astle_et_al_2016_Sum_eosinophil_basophil_counts  \\\n",
       "gene_name                                                         \n",
       "ENSG00000000419                                             NaN   \n",
       "ENSG00000000457                                             NaN   \n",
       "ENSG00000000460                                            -1.0   \n",
       "ENSG00000000938                                             NaN   \n",
       "ENSG00000000971                                             NaN   \n",
       "\n",
       "                ENIGMA_Intracraneal_Volume RA_OKADA_TRANS_ETHNIC  \\\n",
       "gene_name                                                          \n",
       "ENSG00000000419                        NaN                   NaN   \n",
       "ENSG00000000457                        NaN                   NaN   \n",
       "ENSG00000000460                        NaN                   NaN   \n",
       "ENSG00000000938                        NaN                   NaN   \n",
       "ENSG00000000971                        NaN                   NaN   \n",
       "\n",
       "                SSGAC_Education_Years_Pooled GIANT_HEIGHT EAGLE_Eczema  \\\n",
       "gene_name                                                                \n",
       "ENSG00000000419                          NaN          NaN          NaN   \n",
       "ENSG00000000457                          NaN          NaN          NaN   \n",
       "ENSG00000000460                          NaN          NaN          NaN   \n",
       "ENSG00000000938                          NaN          NaN          NaN   \n",
       "ENSG00000000971                          NaN          NaN          NaN   \n",
       "\n",
       "                IGAP_Alzheimer  \\\n",
       "gene_name                        \n",
       "ENSG00000000419            NaN   \n",
       "ENSG00000000457            NaN   \n",
       "ENSG00000000460            NaN   \n",
       "ENSG00000000938            NaN   \n",
       "ENSG00000000971            NaN   \n",
       "\n",
       "                Astle_et_al_2016_Sum_neutrophil_eosinophil_counts  \\\n",
       "gene_name                                                           \n",
       "ENSG00000000419                                               NaN   \n",
       "ENSG00000000457                                               NaN   \n",
       "ENSG00000000460                                               NaN   \n",
       "ENSG00000000938                                               NaN   \n",
       "ENSG00000000971                                               NaN   \n",
       "\n",
       "                Astle_et_al_2016_Monocyte_count  \\\n",
       "gene_name                                         \n",
       "ENSG00000000419                             NaN   \n",
       "ENSG00000000457                             NaN   \n",
       "ENSG00000000460                             NaN   \n",
       "ENSG00000000938                             NaN   \n",
       "ENSG00000000971                             NaN   \n",
       "\n",
       "                IBD.EUR.Inflammatory_Bowel_Disease  \n",
       "gene_name                                           \n",
       "ENSG00000000419                                NaN  \n",
       "ENSG00000000457                                NaN  \n",
       "ENSG00000000460                                NaN  \n",
       "ENSG00000000938                                NaN  \n",
       "ENSG00000000971                                NaN  \n",
       "\n",
       "[5 rows x 4091 columns]"
      ]
     },
     "execution_count": 30,
     "metadata": {},
     "output_type": "execute_result"
    }
   ],
   "source": [
    "spredixcan_genes_effect_directions.head()"
   ]
  },
  {
   "cell_type": "code",
   "execution_count": 31,
   "metadata": {
    "papermill": {
     "duration": 0.085565,
     "end_time": "2019-11-28T21:23:09.793419",
     "exception": false,
     "start_time": "2019-11-28T21:23:09.707854",
     "status": "completed"
    },
    "tags": []
   },
   "outputs": [
    {
     "data": {
      "text/plain": [
       "'/mnt/phenomexcan_base/gene_assoc/spredixcan-mashr-effect_direction-consensus.pkl.xz'"
      ]
     },
     "metadata": {},
     "output_type": "display_data"
    }
   ],
   "source": [
    "# Save\n",
    "spredixcan_genes_effect_directions_filename = os.path.join(conf.GENE_ASSOC_DIR, f'spredixcan-mashr-effect_direction-consensus.pkl.xz')\n",
    "display(spredixcan_genes_effect_directions_filename)"
   ]
  },
  {
   "cell_type": "code",
   "execution_count": 32,
   "metadata": {
    "papermill": {
     "duration": 10.063733,
     "end_time": "2019-11-28T21:23:19.907930",
     "exception": false,
     "start_time": "2019-11-28T21:23:09.844197",
     "status": "completed"
    },
    "tags": []
   },
   "outputs": [],
   "source": [
    "spredixcan_genes_effect_directions.to_pickle(spredixcan_genes_effect_directions_filename)"
   ]
  },
  {
   "cell_type": "markdown",
   "metadata": {
    "papermill": {
     "duration": 0.051482,
     "end_time": "2019-11-28T21:23:20.014914",
     "exception": false,
     "start_time": "2019-11-28T21:23:19.963432",
     "status": "completed"
    },
    "tags": []
   },
   "source": [
    "### Save in HDF5 format for webapp"
   ]
  },
  {
   "cell_type": "code",
   "execution_count": 33,
   "metadata": {
    "papermill": {
     "duration": 1.975429,
     "end_time": "2019-11-28T21:23:22.039733",
     "exception": false,
     "start_time": "2019-11-28T21:23:20.064304",
     "status": "completed"
    },
    "tags": []
   },
   "outputs": [],
   "source": [
    "spredixcan_genes_effect_directions = pd.read_pickle(spredixcan_genes_effect_directions_filename)"
   ]
  },
  {
   "cell_type": "code",
   "execution_count": 34,
   "metadata": {
    "papermill": {
     "duration": 0.102431,
     "end_time": "2019-11-28T21:23:22.198468",
     "exception": false,
     "start_time": "2019-11-28T21:23:22.096037",
     "status": "completed"
    },
    "tags": []
   },
   "outputs": [
    {
     "data": {
      "text/plain": [
       "(22518, 4091)"
      ]
     },
     "execution_count": 34,
     "metadata": {},
     "output_type": "execute_result"
    }
   ],
   "source": [
    "spredixcan_genes_effect_directions.shape"
   ]
  },
  {
   "cell_type": "code",
   "execution_count": 35,
   "metadata": {
    "papermill": {
     "duration": 0.081975,
     "end_time": "2019-11-28T21:23:22.349861",
     "exception": false,
     "start_time": "2019-11-28T21:23:22.267886",
     "status": "completed"
    },
    "tags": []
   },
   "outputs": [],
   "source": [
    "from utils import simplify_string_for_hdf5"
   ]
  },
  {
   "cell_type": "code",
   "execution_count": 36,
   "metadata": {
    "papermill": {
     "duration": 0.087306,
     "end_time": "2019-11-28T21:23:22.487680",
     "exception": false,
     "start_time": "2019-11-28T21:23:22.400374",
     "status": "completed"
    },
    "tags": []
   },
   "outputs": [
    {
     "data": {
      "text/plain": [
       "'/mnt/phenomexcan_base/gene_assoc/spredixcan-mashr-effect_direction-consensus.h5'"
      ]
     },
     "metadata": {},
     "output_type": "display_data"
    }
   ],
   "source": [
    "OUTPUT_HDF5_FILE = os.path.join(conf.GENE_ASSOC_DIR, 'spredixcan-mashr-effect_direction-consensus.h5')\n",
    "display(OUTPUT_HDF5_FILE)"
   ]
  },
  {
   "cell_type": "code",
   "execution_count": 37,
   "metadata": {
    "papermill": {
     "duration": 97.748356,
     "end_time": "2019-11-28T21:25:00.289704",
     "exception": false,
     "start_time": "2019-11-28T21:23:22.541348",
     "status": "completed"
    },
    "tags": []
   },
   "outputs": [],
   "source": [
    "with pd.HDFStore(OUTPUT_HDF5_FILE, mode='w', complevel=1) as store:\n",
    "    for col in spredixcan_genes_effect_directions.columns:\n",
    "        #print('.', flush=True, end='')\n",
    "        clean_col = simplify_string_for_hdf5(col)\n",
    "        store[clean_col] = spredixcan_genes_effect_directions[col].astype(float)"
   ]
  },
  {
   "cell_type": "code",
   "execution_count": 38,
   "metadata": {
    "papermill": {
     "duration": 9.11522,
     "end_time": "2019-11-28T21:25:09.476672",
     "exception": false,
     "start_time": "2019-11-28T21:25:00.361452",
     "status": "completed"
    },
    "tags": []
   },
   "outputs": [
    {
     "data": {
      "text/plain": [
       "['/c100001_raw_Food_weight',\n",
       " '/c100002_raw_Energy',\n",
       " '/c100003_raw_Protein',\n",
       " '/c100004_raw_Fat',\n",
       " '/c100005_raw_Carbohydrate']"
      ]
     },
     "metadata": {},
     "output_type": "display_data"
    }
   ],
   "source": [
    "# testing\n",
    "with pd.HDFStore(OUTPUT_HDF5_FILE, mode='r') as store:\n",
    "    store_keys = list(store.keys())\n",
    "    assert len(store_keys) == spredixcan_genes_effect_directions.shape[1]\n",
    "    display(store_keys[:5])\n",
    "    \n",
    "    clean_col = simplify_string_for_hdf5('6157_3-Why_stopped_smoking_Health_precaution')\n",
    "    data = store[clean_col]\n",
    "    assert data.shape == (22518,), data.shape\n",
    "    assert data.loc['ENSG00000137185'] == -1.0\n",
    "    assert pd.isnull(data.loc['ENSG00000000457'])\n",
    "    assert pd.isnull(data.loc['ENSG00000095464'])\n",
    "    \n",
    "    clean_col = simplify_string_for_hdf5('I50-Diagnoses_main_ICD10_I50_Heart_failure')\n",
    "    data = store[clean_col]\n",
    "    assert data.shape == (22518,), data.shape\n",
    "    assert data.loc['ENSG00000095464'] == 1.0\n",
    "    \n",
    "    clean_col = simplify_string_for_hdf5('CNCR_Insomnia_all')\n",
    "    data = store[clean_col]\n",
    "    assert data.shape == (22518,), data.shape\n",
    "    assert pd.isnull(data.loc['ENSG00000137185'])\n",
    "    assert data.loc['ENSG00000228397'] == 1.0\n",
    "    assert data.loc['ENSG00000279325'] == -1.0"
   ]
  },
  {
   "cell_type": "code",
   "execution_count": null,
   "metadata": {
    "papermill": {
     "duration": 0.050964,
     "end_time": "2019-11-28T21:25:09.583753",
     "exception": false,
     "start_time": "2019-11-28T21:25:09.532789",
     "status": "completed"
    },
    "tags": []
   },
   "outputs": [],
   "source": []
  }
 ],
 "metadata": {
  "kernelspec": {
   "display_name": "Python 3",
   "language": "python",
   "name": "python3"
  },
  "language_info": {
   "codemirror_mode": {
    "name": "ipython",
    "version": 3
   },
   "file_extension": ".py",
   "mimetype": "text/x-python",
   "name": "python",
   "nbconvert_exporter": "python",
   "pygments_lexer": "ipython3",
   "version": "3.7.5"
  },
  "papermill": {
   "duration": 16709.033045,
   "end_time": "2019-11-28T21:25:12.973418",
   "environment_variables": {},
   "exception": null,
   "input_path": "100_postprocessing/05_spredixcan_direction_effect_consensus.ipynb",
   "output_path": "100_postprocessing/05_spredixcan_direction_effect_consensus.run.ipynb",
   "parameters": {},
   "start_time": "2019-11-28T16:46:43.940373",
   "version": "1.2.1"
  }
 },
 "nbformat": 4,
 "nbformat_minor": 4
}
