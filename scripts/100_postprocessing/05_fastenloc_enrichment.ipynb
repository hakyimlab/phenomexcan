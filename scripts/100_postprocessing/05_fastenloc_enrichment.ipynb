{
 "cells": [
  {
   "cell_type": "code",
   "execution_count": 1,
   "metadata": {
    "papermill": {
     "duration": 0.132557,
     "end_time": "2020-01-01T14:42:00.321571",
     "exception": false,
     "start_time": "2020-01-01T14:42:00.189014",
     "status": "completed"
    },
    "tags": []
   },
   "outputs": [],
   "source": [
    "%load_ext autoreload\n",
    "%autoreload 2"
   ]
  },
  {
   "cell_type": "code",
   "execution_count": 2,
   "metadata": {
    "papermill": {
     "duration": 6.033014,
     "end_time": "2020-01-01T14:42:06.428327",
     "exception": false,
     "start_time": "2020-01-01T14:42:00.395313",
     "status": "completed"
    },
    "tags": []
   },
   "outputs": [],
   "source": [
    "import os\n",
    "from glob import glob\n",
    "from concurrent.futures import ProcessPoolExecutor, as_completed\n",
    "\n",
    "import numpy as np\n",
    "import pandas as pd\n",
    "\n",
    "import settings as conf\n",
    "import metadata\n",
    "from utils import is_number, chunker\n",
    "from results.multixcan import MXPhenoInfo, MXPhenoResults"
   ]
  },
  {
   "cell_type": "markdown",
   "metadata": {
    "papermill": {
     "duration": 0.069285,
     "end_time": "2020-01-01T14:42:06.578877",
     "exception": false,
     "start_time": "2020-01-01T14:42:06.509592",
     "status": "completed"
    },
    "tags": []
   },
   "source": [
    "# fastENLOC reading functions"
   ]
  },
  {
   "cell_type": "code",
   "execution_count": 3,
   "metadata": {
    "papermill": {
     "duration": 0.180549,
     "end_time": "2020-01-01T14:42:06.837744",
     "exception": false,
     "start_time": "2020-01-01T14:42:06.657195",
     "status": "completed"
    },
    "tags": []
   },
   "outputs": [],
   "source": [
    "with open(conf.FASTENLOC_GTEX_TISSUES_FILE, 'r') as f:\n",
    "    FASTENLOC_TISSUES_NAMES = set([x.strip() for x in f.readlines()])"
   ]
  },
  {
   "cell_type": "code",
   "execution_count": 4,
   "metadata": {
    "papermill": {
     "duration": 39.960746,
     "end_time": "2020-01-01T14:42:46.876541",
     "exception": false,
     "start_time": "2020-01-01T14:42:06.915795",
     "status": "completed"
    },
    "tags": []
   },
   "outputs": [
    {
     "data": {
      "text/plain": [
       "'/mnt/phenomexcan_base/results/fastenloc/rapid_gwas_project/**/*.enloc.enrich.out'"
      ]
     },
     "metadata": {},
     "output_type": "display_data"
    }
   ],
   "source": [
    "# create summary of files\n",
    "_path = os.path.join(conf.FASTENLOC_RESULTS_DIR['RapidGWASProject'], '**/*.enloc.enrich.out')\n",
    "display(_path)\n",
    "all_fastenloc_results_files = glob(_path)"
   ]
  },
  {
   "cell_type": "code",
   "execution_count": 5,
   "metadata": {
    "papermill": {
     "duration": 0.118879,
     "end_time": "2020-01-01T14:42:47.074110",
     "exception": false,
     "start_time": "2020-01-01T14:42:46.955231",
     "status": "completed"
    },
    "tags": []
   },
   "outputs": [
    {
     "data": {
      "text/plain": [
       "198401"
      ]
     },
     "execution_count": 5,
     "metadata": {},
     "output_type": "execute_result"
    }
   ],
   "source": [
    "len(all_fastenloc_results_files)"
   ]
  },
  {
   "cell_type": "code",
   "execution_count": 6,
   "metadata": {
    "papermill": {
     "duration": 0.096255,
     "end_time": "2020-01-01T14:42:47.250129",
     "exception": false,
     "start_time": "2020-01-01T14:42:47.153874",
     "status": "completed"
    },
    "tags": []
   },
   "outputs": [],
   "source": [
    "PHENO_CODES = set(metadata.RAPID_GWAS_PHENO_INFO.index)"
   ]
  },
  {
   "cell_type": "code",
   "execution_count": 7,
   "metadata": {
    "papermill": {
     "duration": 0.107366,
     "end_time": "2020-01-01T14:42:47.434820",
     "exception": false,
     "start_time": "2020-01-01T14:42:47.327454",
     "status": "completed"
    },
    "tags": []
   },
   "outputs": [
    {
     "data": {
      "text/plain": [
       "4359"
      ]
     },
     "execution_count": 7,
     "metadata": {},
     "output_type": "execute_result"
    }
   ],
   "source": [
    "len(PHENO_CODES)"
   ]
  },
  {
   "cell_type": "code",
   "execution_count": 8,
   "metadata": {
    "papermill": {
     "duration": 1.115712,
     "end_time": "2020-01-01T14:42:48.625360",
     "exception": false,
     "start_time": "2020-01-01T14:42:47.509648",
     "status": "completed"
    },
    "tags": []
   },
   "outputs": [],
   "source": [
    "phenos = []\n",
    "tissues = []\n",
    "\n",
    "for f in all_fastenloc_results_files:\n",
    "    f = os.path.basename(f)\n",
    "    split = f.split('-')\n",
    "    \n",
    "    tiss = split[-1].split('.')[0]\n",
    "    if tiss not in FASTENLOC_TISSUES_NAMES:\n",
    "        tiss = '-'.join(split[-2:]).split('.')[0]\n",
    "    \n",
    "    phen = split[1]\n",
    "    if phen not in PHENO_CODES:\n",
    "        phen = '-'.join(split[1:3])\n",
    "    \n",
    "    phenos.append(phen)\n",
    "    tissues.append(tiss)\n",
    "\n",
    "results_summary = pd.DataFrame({'pheno': phenos, 'tissue': tissues, 'file': all_fastenloc_results_files})"
   ]
  },
  {
   "cell_type": "code",
   "execution_count": 9,
   "metadata": {
    "papermill": {
     "duration": 0.117795,
     "end_time": "2020-01-01T14:42:48.820284",
     "exception": false,
     "start_time": "2020-01-01T14:42:48.702489",
     "status": "completed"
    },
    "tags": []
   },
   "outputs": [
    {
     "data": {
      "text/plain": [
       "(198401, 3)"
      ]
     },
     "metadata": {},
     "output_type": "display_data"
    }
   ],
   "source": [
    "display(results_summary.shape)\n",
    "assert results_summary.shape[0] == int(conf.FASTENLOC_EXPECTED_PHENOTYPES['RapidGWASProject'] * conf.GTEX_MODELS_N_EXPECTED_TISSUES)"
   ]
  },
  {
   "cell_type": "code",
   "execution_count": 10,
   "metadata": {
    "papermill": {
     "duration": 0.202464,
     "end_time": "2020-01-01T14:42:49.097264",
     "exception": false,
     "start_time": "2020-01-01T14:42:48.894800",
     "status": "completed"
    },
    "tags": []
   },
   "outputs": [
    {
     "data": {
      "text/html": [
       "<div>\n",
       "<style scoped>\n",
       "    .dataframe tbody tr th:only-of-type {\n",
       "        vertical-align: middle;\n",
       "    }\n",
       "\n",
       "    .dataframe tbody tr th {\n",
       "        vertical-align: top;\n",
       "    }\n",
       "\n",
       "    .dataframe thead th {\n",
       "        text-align: right;\n",
       "    }\n",
       "</style>\n",
       "<table border=\"1\" class=\"dataframe\">\n",
       "  <thead>\n",
       "    <tr style=\"text-align: right;\">\n",
       "      <th></th>\n",
       "      <th>pheno</th>\n",
       "      <th>tissue</th>\n",
       "      <th>file</th>\n",
       "    </tr>\n",
       "  </thead>\n",
       "  <tbody>\n",
       "    <tr>\n",
       "      <th>0</th>\n",
       "      <td>22617_9219</td>\n",
       "      <td>Thyroid</td>\n",
       "      <td>/mnt/phenomexcan_base/results/fastenloc/rapid_...</td>\n",
       "    </tr>\n",
       "    <tr>\n",
       "      <th>1</th>\n",
       "      <td>22617_9219</td>\n",
       "      <td>Nerve_Tibial</td>\n",
       "      <td>/mnt/phenomexcan_base/results/fastenloc/rapid_...</td>\n",
       "    </tr>\n",
       "    <tr>\n",
       "      <th>2</th>\n",
       "      <td>22617_9219</td>\n",
       "      <td>Brain_Hypothalamus</td>\n",
       "      <td>/mnt/phenomexcan_base/results/fastenloc/rapid_...</td>\n",
       "    </tr>\n",
       "    <tr>\n",
       "      <th>3</th>\n",
       "      <td>22617_9219</td>\n",
       "      <td>Small_Intestine_Terminal_Ileum</td>\n",
       "      <td>/mnt/phenomexcan_base/results/fastenloc/rapid_...</td>\n",
       "    </tr>\n",
       "    <tr>\n",
       "      <th>4</th>\n",
       "      <td>22617_9219</td>\n",
       "      <td>Breast_Mammary_Tissue</td>\n",
       "      <td>/mnt/phenomexcan_base/results/fastenloc/rapid_...</td>\n",
       "    </tr>\n",
       "  </tbody>\n",
       "</table>\n",
       "</div>"
      ],
      "text/plain": [
       "        pheno                          tissue  \\\n",
       "0  22617_9219                         Thyroid   \n",
       "1  22617_9219                    Nerve_Tibial   \n",
       "2  22617_9219              Brain_Hypothalamus   \n",
       "3  22617_9219  Small_Intestine_Terminal_Ileum   \n",
       "4  22617_9219           Breast_Mammary_Tissue   \n",
       "\n",
       "                                                file  \n",
       "0  /mnt/phenomexcan_base/results/fastenloc/rapid_...  \n",
       "1  /mnt/phenomexcan_base/results/fastenloc/rapid_...  \n",
       "2  /mnt/phenomexcan_base/results/fastenloc/rapid_...  \n",
       "3  /mnt/phenomexcan_base/results/fastenloc/rapid_...  \n",
       "4  /mnt/phenomexcan_base/results/fastenloc/rapid_...  "
      ]
     },
     "execution_count": 10,
     "metadata": {},
     "output_type": "execute_result"
    }
   ],
   "source": [
    "results_summary.head()"
   ]
  },
  {
   "cell_type": "code",
   "execution_count": 11,
   "metadata": {
    "papermill": {
     "duration": 0.131322,
     "end_time": "2020-01-01T14:42:49.303053",
     "exception": false,
     "start_time": "2020-01-01T14:42:49.171731",
     "status": "completed"
    },
    "tags": []
   },
   "outputs": [
    {
     "data": {
      "text/plain": [
       "(4049,)"
      ]
     },
     "execution_count": 11,
     "metadata": {},
     "output_type": "execute_result"
    }
   ],
   "source": [
    "results_summary['pheno'].unique().shape"
   ]
  },
  {
   "cell_type": "code",
   "execution_count": 12,
   "metadata": {
    "papermill": {
     "duration": 0.146826,
     "end_time": "2020-01-01T14:42:49.537990",
     "exception": false,
     "start_time": "2020-01-01T14:42:49.391164",
     "status": "completed"
    },
    "tags": []
   },
   "outputs": [],
   "source": [
    "assert np.all([t in PHENO_CODES for t in results_summary['pheno'].unique()])"
   ]
  },
  {
   "cell_type": "code",
   "execution_count": 13,
   "metadata": {
    "papermill": {
     "duration": 0.146905,
     "end_time": "2020-01-01T14:42:49.764111",
     "exception": false,
     "start_time": "2020-01-01T14:42:49.617206",
     "status": "completed"
    },
    "tags": []
   },
   "outputs": [],
   "source": [
    "assert results_summary['tissue'].unique().shape[0] == conf.GTEX_MODELS_N_EXPECTED_TISSUES"
   ]
  },
  {
   "cell_type": "code",
   "execution_count": 14,
   "metadata": {
    "papermill": {
     "duration": 0.132117,
     "end_time": "2020-01-01T14:42:49.974356",
     "exception": false,
     "start_time": "2020-01-01T14:42:49.842239",
     "status": "completed"
    },
    "tags": []
   },
   "outputs": [],
   "source": [
    "assert np.all([t in FASTENLOC_TISSUES_NAMES for t in results_summary['tissue'].unique()])"
   ]
  },
  {
   "cell_type": "code",
   "execution_count": 15,
   "metadata": {
    "papermill": {
     "duration": 0.141492,
     "end_time": "2020-01-01T14:42:50.201566",
     "exception": false,
     "start_time": "2020-01-01T14:42:50.060074",
     "status": "completed"
    },
    "tags": []
   },
   "outputs": [],
   "source": [
    "_all_tissues_in_results = results_summary['tissue'].unique()\n",
    "assert np.all([t in _all_tissues_in_results for t in FASTENLOC_TISSUES_NAMES])"
   ]
  },
  {
   "cell_type": "code",
   "execution_count": 16,
   "metadata": {
    "papermill": {
     "duration": 0.112839,
     "end_time": "2020-01-01T14:42:50.393554",
     "exception": false,
     "start_time": "2020-01-01T14:42:50.280715",
     "status": "completed"
    },
    "tags": []
   },
   "outputs": [],
   "source": [
    "assert len(all_fastenloc_results_files) == int(conf.SMULTIXCAN_EXPECTED_PHENOTYPES['RapidGWASProject'] * conf.GTEX_MODELS_N_EXPECTED_TISSUES)"
   ]
  },
  {
   "cell_type": "code",
   "execution_count": 86,
   "metadata": {
    "papermill": {
     "duration": 0.110488,
     "end_time": "2020-01-01T14:42:50.587778",
     "exception": false,
     "start_time": "2020-01-01T14:42:50.477290",
     "status": "completed"
    },
    "tags": []
   },
   "outputs": [],
   "source": [
    "def read_fe_enrich(filename):\n",
    "    enrich_data = pd.read_csv(filename, sep='\\s+', header=None)\n",
    "    enrich_data = enrich_data.rename(columns={0: 'type', 1: 'alpha1', 2: 'se'})\n",
    "    enrich_data = enrich_data[enrich_data['type'] == 'Enrichment']\n",
    "    assert enrich_data.shape[0] == 1\n",
    "    \n",
    "    return enrich_data.iloc[0].loc[['alpha1', 'se']].astype(float)\n",
    "    \n",
    "\n",
    "def read_fe_enrich_pheno(pheno): \n",
    "    _tmp = results_summary[results_summary['pheno'] == pheno] \n",
    "    if _tmp.shape[0] == 0: \n",
    "        return None \n",
    "     \n",
    "    _res = {}\n",
    "#     _all_genes = set()\n",
    "    for idx, _data in _tmp.iterrows():\n",
    "        tissue_data = read_fe_enrich(_data.file)\n",
    "        _res[_data.tissue] = tissue_data\n",
    "#         _all_genes.update(tissue_data.index) \n",
    "    \n",
    "    df = pd.DataFrame.from_dict(_res, orient='index')#.T#, index=_all_genes)#.fillna(-1).max(axis=1)\n",
    "    df.index.rename('tissue', inplace=True)\n",
    "    df = df.reset_index().assign(trait=pheno)\n",
    "    return df[['tissue', 'trait', 'alpha1', 'se']]"
   ]
  },
  {
   "cell_type": "code",
   "execution_count": 87,
   "metadata": {},
   "outputs": [
    {
     "data": {
      "text/plain": [
       "'/mnt/phenomexcan_base/results/fastenloc/rapid_gwas_project/22617_9219/fastenloc-22617_9219-Thyroid.enloc.enrich.out'"
      ]
     },
     "execution_count": 87,
     "metadata": {},
     "output_type": "execute_result"
    }
   ],
   "source": [
    "results_summary.iloc[0].loc['file']"
   ]
  },
  {
   "cell_type": "code",
   "execution_count": 88,
   "metadata": {},
   "outputs": [
    {
     "data": {
      "text/plain": [
       "alpha1     -0.713\n",
       "se        593.007\n",
       "Name: 1, dtype: float64"
      ]
     },
     "execution_count": 88,
     "metadata": {},
     "output_type": "execute_result"
    }
   ],
   "source": [
    "read_fe_enrich(results_summary.iloc[1].loc['file'])"
   ]
  },
  {
   "cell_type": "code",
   "execution_count": 90,
   "metadata": {},
   "outputs": [
    {
     "data": {
      "text/html": [
       "<div>\n",
       "<style scoped>\n",
       "    .dataframe tbody tr th:only-of-type {\n",
       "        vertical-align: middle;\n",
       "    }\n",
       "\n",
       "    .dataframe tbody tr th {\n",
       "        vertical-align: top;\n",
       "    }\n",
       "\n",
       "    .dataframe thead th {\n",
       "        text-align: right;\n",
       "    }\n",
       "</style>\n",
       "<table border=\"1\" class=\"dataframe\">\n",
       "  <thead>\n",
       "    <tr style=\"text-align: right;\">\n",
       "      <th></th>\n",
       "      <th>tissue</th>\n",
       "      <th>trait</th>\n",
       "      <th>alpha1</th>\n",
       "      <th>se</th>\n",
       "    </tr>\n",
       "  </thead>\n",
       "  <tbody>\n",
       "    <tr>\n",
       "      <th>0</th>\n",
       "      <td>Adipose_Subcutaneous</td>\n",
       "      <td>22617_9219</td>\n",
       "      <td>-6.094</td>\n",
       "      <td>1040.506</td>\n",
       "    </tr>\n",
       "    <tr>\n",
       "      <th>1</th>\n",
       "      <td>Adipose_Visceral_Omentum</td>\n",
       "      <td>22617_9219</td>\n",
       "      <td>5.625</td>\n",
       "      <td>217.299</td>\n",
       "    </tr>\n",
       "    <tr>\n",
       "      <th>2</th>\n",
       "      <td>Adrenal_Gland</td>\n",
       "      <td>22617_9219</td>\n",
       "      <td>4.155</td>\n",
       "      <td>395.173</td>\n",
       "    </tr>\n",
       "    <tr>\n",
       "      <th>3</th>\n",
       "      <td>Artery_Aorta</td>\n",
       "      <td>22617_9219</td>\n",
       "      <td>-10.846</td>\n",
       "      <td>2070.036</td>\n",
       "    </tr>\n",
       "    <tr>\n",
       "      <th>4</th>\n",
       "      <td>Artery_Coronary</td>\n",
       "      <td>22617_9219</td>\n",
       "      <td>-4.269</td>\n",
       "      <td>1800.014</td>\n",
       "    </tr>\n",
       "  </tbody>\n",
       "</table>\n",
       "</div>"
      ],
      "text/plain": [
       "                     tissue       trait  alpha1        se\n",
       "0      Adipose_Subcutaneous  22617_9219  -6.094  1040.506\n",
       "1  Adipose_Visceral_Omentum  22617_9219   5.625   217.299\n",
       "2             Adrenal_Gland  22617_9219   4.155   395.173\n",
       "3              Artery_Aorta  22617_9219 -10.846  2070.036\n",
       "4           Artery_Coronary  22617_9219  -4.269  1800.014"
      ]
     },
     "execution_count": 90,
     "metadata": {},
     "output_type": "execute_result"
    }
   ],
   "source": [
    "read_fe_enrich_pheno('22617_9219').head()"
   ]
  },
  {
   "cell_type": "markdown",
   "metadata": {
    "papermill": {
     "duration": 0.07331,
     "end_time": "2020-01-01T14:42:50.737970",
     "exception": false,
     "start_time": "2020-01-01T14:42:50.664660",
     "status": "completed"
    },
    "tags": []
   },
   "source": [
    "### Testing"
   ]
  },
  {
   "cell_type": "code",
   "execution_count": 36,
   "metadata": {
    "papermill": {
     "duration": 0.566742,
     "end_time": "2020-01-01T14:42:51.382127",
     "exception": false,
     "start_time": "2020-01-01T14:42:50.815385",
     "status": "completed"
    },
    "tags": []
   },
   "outputs": [],
   "source": [
    "# testing\n",
    "t = read_fe_enrich(os.path.join(conf.FASTENLOC_RESULTS_DIR['RapidGWASProject'], 'J15/fastenloc-J15-Whole_Blood.enloc.enrich.out'))"
   ]
  },
  {
   "cell_type": "code",
   "execution_count": 38,
   "metadata": {},
   "outputs": [],
   "source": [
    "assert t['alpha1'] == -11.286\n",
    "assert t['se'] == 764.307"
   ]
  },
  {
   "cell_type": "code",
   "execution_count": 91,
   "metadata": {
    "papermill": {
     "duration": 17.639054,
     "end_time": "2020-01-01T14:43:09.829463",
     "exception": false,
     "start_time": "2020-01-01T14:42:52.190409",
     "status": "completed"
    },
    "tags": []
   },
   "outputs": [],
   "source": [
    "t = read_fe_enrich_pheno('J15')"
   ]
  },
  {
   "cell_type": "code",
   "execution_count": 92,
   "metadata": {},
   "outputs": [],
   "source": [
    "assert t.shape[0] == conf.GTEX_MODELS_N_EXPECTED_TISSUES"
   ]
  },
  {
   "cell_type": "code",
   "execution_count": 93,
   "metadata": {
    "papermill": {
     "duration": 0.123097,
     "end_time": "2020-01-01T14:43:10.049492",
     "exception": false,
     "start_time": "2020-01-01T14:43:09.926395",
     "status": "completed"
    },
    "tags": []
   },
   "outputs": [
    {
     "data": {
      "text/html": [
       "<div>\n",
       "<style scoped>\n",
       "    .dataframe tbody tr th:only-of-type {\n",
       "        vertical-align: middle;\n",
       "    }\n",
       "\n",
       "    .dataframe tbody tr th {\n",
       "        vertical-align: top;\n",
       "    }\n",
       "\n",
       "    .dataframe thead th {\n",
       "        text-align: right;\n",
       "    }\n",
       "</style>\n",
       "<table border=\"1\" class=\"dataframe\">\n",
       "  <thead>\n",
       "    <tr style=\"text-align: right;\">\n",
       "      <th></th>\n",
       "      <th>tissue</th>\n",
       "      <th>trait</th>\n",
       "      <th>alpha1</th>\n",
       "      <th>se</th>\n",
       "    </tr>\n",
       "  </thead>\n",
       "  <tbody>\n",
       "    <tr>\n",
       "      <th>0</th>\n",
       "      <td>Adipose_Subcutaneous</td>\n",
       "      <td>J15</td>\n",
       "      <td>-12.109</td>\n",
       "      <td>995.299</td>\n",
       "    </tr>\n",
       "    <tr>\n",
       "      <th>1</th>\n",
       "      <td>Adipose_Visceral_Omentum</td>\n",
       "      <td>J15</td>\n",
       "      <td>-11.061</td>\n",
       "      <td>877.891</td>\n",
       "    </tr>\n",
       "    <tr>\n",
       "      <th>2</th>\n",
       "      <td>Adrenal_Gland</td>\n",
       "      <td>J15</td>\n",
       "      <td>-11.018</td>\n",
       "      <td>1024.396</td>\n",
       "    </tr>\n",
       "    <tr>\n",
       "      <th>3</th>\n",
       "      <td>Artery_Aorta</td>\n",
       "      <td>J15</td>\n",
       "      <td>-12.016</td>\n",
       "      <td>1029.679</td>\n",
       "    </tr>\n",
       "    <tr>\n",
       "      <th>4</th>\n",
       "      <td>Artery_Coronary</td>\n",
       "      <td>J15</td>\n",
       "      <td>-11.979</td>\n",
       "      <td>1336.767</td>\n",
       "    </tr>\n",
       "  </tbody>\n",
       "</table>\n",
       "</div>"
      ],
      "text/plain": [
       "                     tissue trait  alpha1        se\n",
       "0      Adipose_Subcutaneous   J15 -12.109   995.299\n",
       "1  Adipose_Visceral_Omentum   J15 -11.061   877.891\n",
       "2             Adrenal_Gland   J15 -11.018  1024.396\n",
       "3              Artery_Aorta   J15 -12.016  1029.679\n",
       "4           Artery_Coronary   J15 -11.979  1336.767"
      ]
     },
     "execution_count": 93,
     "metadata": {},
     "output_type": "execute_result"
    }
   ],
   "source": [
    "t.head()"
   ]
  },
  {
   "cell_type": "code",
   "execution_count": 102,
   "metadata": {
    "papermill": {
     "duration": 0.189426,
     "end_time": "2020-01-01T14:43:10.519167",
     "exception": false,
     "start_time": "2020-01-01T14:43:10.329741",
     "status": "completed"
    },
    "tags": []
   },
   "outputs": [],
   "source": [
    "_t_tmp = t[t['tissue'] == 'Adipose_Visceral_Omentum'].iloc[0]\n",
    "assert _t_tmp['tissue'] == 'Adipose_Visceral_Omentum'\n",
    "assert _t_tmp['trait'] == 'J15'\n",
    "assert _t_tmp['alpha1'] == -11.061\n",
    "assert _t_tmp['se'].round(3) == 877.891\n",
    "\n",
    "_t_tmp = t[t['tissue'] == 'Artery_Coronary'].iloc[0]\n",
    "assert _t_tmp['tissue'] == 'Artery_Coronary'\n",
    "assert _t_tmp['trait'] == 'J15'\n",
    "assert _t_tmp['alpha1'].round(3) == -11.979\n",
    "assert _t_tmp['se'].round(3) == 1336.767"
   ]
  },
  {
   "cell_type": "markdown",
   "metadata": {
    "papermill": {
     "duration": 0.07472,
     "end_time": "2020-01-01T14:43:14.230518",
     "exception": false,
     "start_time": "2020-01-01T14:43:14.155798",
     "status": "completed"
    },
    "tags": []
   },
   "source": [
    "# Get Rapid GWAS phenotypes"
   ]
  },
  {
   "cell_type": "code",
   "execution_count": 103,
   "metadata": {
    "papermill": {
     "duration": 2.91436,
     "end_time": "2020-01-01T14:43:17.223430",
     "exception": false,
     "start_time": "2020-01-01T14:43:14.309070",
     "status": "completed"
    },
    "tags": []
   },
   "outputs": [],
   "source": [
    "all_smultixcan_files = glob(os.path.join(conf.SMULTIXCAN_RESULTS_DIR['RapidGWASProject'], '*.tsv.gz'))\n",
    "all_smultixcan_phenotypes = [MXPhenoResults(p) for p in all_smultixcan_files]"
   ]
  },
  {
   "cell_type": "code",
   "execution_count": 104,
   "metadata": {
    "papermill": {
     "duration": 0.112869,
     "end_time": "2020-01-01T14:43:17.418185",
     "exception": false,
     "start_time": "2020-01-01T14:43:17.305316",
     "status": "completed"
    },
    "tags": []
   },
   "outputs": [],
   "source": [
    "assert len(all_smultixcan_files) == len(all_smultixcan_phenotypes) == conf.SMULTIXCAN_EXPECTED_PHENOTYPES['RapidGWASProject']"
   ]
  },
  {
   "cell_type": "code",
   "execution_count": 105,
   "metadata": {
    "papermill": {
     "duration": 0.116331,
     "end_time": "2020-01-01T14:43:17.609920",
     "exception": false,
     "start_time": "2020-01-01T14:43:17.493589",
     "status": "completed"
    },
    "tags": []
   },
   "outputs": [
    {
     "data": {
      "text/plain": [
       "['/mnt/phenomexcan_base/results/smultixcan/rapid_gwas_project/smultixcan_20096_1_ccn30.tsv.gz',\n",
       " '/mnt/phenomexcan_base/results/smultixcan/rapid_gwas_project/smultixcan_2345_ccn30.tsv.gz',\n",
       " '/mnt/phenomexcan_base/results/smultixcan/rapid_gwas_project/smultixcan_N49_ccn30.tsv.gz',\n",
       " '/mnt/phenomexcan_base/results/smultixcan/rapid_gwas_project/smultixcan_100011_raw_ccn30.tsv.gz',\n",
       " '/mnt/phenomexcan_base/results/smultixcan/rapid_gwas_project/smultixcan_5221_ccn30.tsv.gz']"
      ]
     },
     "execution_count": 105,
     "metadata": {},
     "output_type": "execute_result"
    }
   ],
   "source": [
    "all_smultixcan_files[:5]"
   ]
  },
  {
   "cell_type": "markdown",
   "metadata": {
    "papermill": {
     "duration": 0.078363,
     "end_time": "2020-01-01T14:43:19.386865",
     "exception": false,
     "start_time": "2020-01-01T14:43:19.308502",
     "status": "completed"
    },
    "tags": []
   },
   "source": [
    "# Read all results"
   ]
  },
  {
   "cell_type": "code",
   "execution_count": 112,
   "metadata": {
    "papermill": {
     "duration": 0.112338,
     "end_time": "2020-01-01T14:43:19.589216",
     "exception": false,
     "start_time": "2020-01-01T14:43:19.476878",
     "status": "completed"
    },
    "tags": []
   },
   "outputs": [],
   "source": [
    "def _get_combined_results(phenos):\n",
    "    all_res = [read_fe_enrich_pheno(pheno.pheno_info.pheno_code) for pheno in phenos]\n",
    "    return pd.concat(all_res, ignore_index=True)"
   ]
  },
  {
   "cell_type": "code",
   "execution_count": 113,
   "metadata": {
    "papermill": {
     "duration": 68.923949,
     "end_time": "2020-01-01T14:44:28.598205",
     "exception": false,
     "start_time": "2020-01-01T14:43:19.674256",
     "status": "completed"
    },
    "tags": []
   },
   "outputs": [],
   "source": [
    "# testing\n",
    "_tmp = _get_combined_results(all_smultixcan_phenotypes[:4])\n",
    "assert _tmp.shape[0] == int(4 * 49)"
   ]
  },
  {
   "cell_type": "code",
   "execution_count": 116,
   "metadata": {
    "papermill": {
     "duration": 16.626,
     "end_time": "2020-01-01T14:44:52.964598",
     "exception": false,
     "start_time": "2020-01-01T14:44:36.338598",
     "status": "completed"
    },
    "tags": []
   },
   "outputs": [],
   "source": [
    "_pending = read_fe_enrich_pheno('C_MYELOID-LEUKAEMIA')"
   ]
  },
  {
   "cell_type": "code",
   "execution_count": 117,
   "metadata": {
    "papermill": {
     "duration": 0.129596,
     "end_time": "2020-01-01T14:44:53.201312",
     "exception": false,
     "start_time": "2020-01-01T14:44:53.071716",
     "status": "completed"
    },
    "tags": []
   },
   "outputs": [
    {
     "data": {
      "text/html": [
       "<div>\n",
       "<style scoped>\n",
       "    .dataframe tbody tr th:only-of-type {\n",
       "        vertical-align: middle;\n",
       "    }\n",
       "\n",
       "    .dataframe tbody tr th {\n",
       "        vertical-align: top;\n",
       "    }\n",
       "\n",
       "    .dataframe thead th {\n",
       "        text-align: right;\n",
       "    }\n",
       "</style>\n",
       "<table border=\"1\" class=\"dataframe\">\n",
       "  <thead>\n",
       "    <tr style=\"text-align: right;\">\n",
       "      <th></th>\n",
       "      <th>tissue</th>\n",
       "      <th>trait</th>\n",
       "      <th>alpha1</th>\n",
       "      <th>se</th>\n",
       "    </tr>\n",
       "  </thead>\n",
       "  <tbody>\n",
       "    <tr>\n",
       "      <th>0</th>\n",
       "      <td>Adipose_Subcutaneous</td>\n",
       "      <td>C_MYELOID-LEUKAEMIA</td>\n",
       "      <td>-11.482</td>\n",
       "      <td>1327.573</td>\n",
       "    </tr>\n",
       "    <tr>\n",
       "      <th>1</th>\n",
       "      <td>Adipose_Visceral_Omentum</td>\n",
       "      <td>C_MYELOID-LEUKAEMIA</td>\n",
       "      <td>-11.767</td>\n",
       "      <td>1643.732</td>\n",
       "    </tr>\n",
       "    <tr>\n",
       "      <th>2</th>\n",
       "      <td>Adrenal_Gland</td>\n",
       "      <td>C_MYELOID-LEUKAEMIA</td>\n",
       "      <td>-11.487</td>\n",
       "      <td>1752.318</td>\n",
       "    </tr>\n",
       "    <tr>\n",
       "      <th>3</th>\n",
       "      <td>Artery_Aorta</td>\n",
       "      <td>C_MYELOID-LEUKAEMIA</td>\n",
       "      <td>-11.046</td>\n",
       "      <td>1233.831</td>\n",
       "    </tr>\n",
       "    <tr>\n",
       "      <th>4</th>\n",
       "      <td>Artery_Coronary</td>\n",
       "      <td>C_MYELOID-LEUKAEMIA</td>\n",
       "      <td>-11.662</td>\n",
       "      <td>2048.158</td>\n",
       "    </tr>\n",
       "  </tbody>\n",
       "</table>\n",
       "</div>"
      ],
      "text/plain": [
       "                     tissue                trait  alpha1        se\n",
       "0      Adipose_Subcutaneous  C_MYELOID-LEUKAEMIA -11.482  1327.573\n",
       "1  Adipose_Visceral_Omentum  C_MYELOID-LEUKAEMIA -11.767  1643.732\n",
       "2             Adrenal_Gland  C_MYELOID-LEUKAEMIA -11.487  1752.318\n",
       "3              Artery_Aorta  C_MYELOID-LEUKAEMIA -11.046  1233.831\n",
       "4           Artery_Coronary  C_MYELOID-LEUKAEMIA -11.662  2048.158"
      ]
     },
     "execution_count": 117,
     "metadata": {},
     "output_type": "execute_result"
    }
   ],
   "source": [
    "_pending.head()"
   ]
  },
  {
   "cell_type": "code",
   "execution_count": 120,
   "metadata": {
    "papermill": {
     "duration": 0.111838,
     "end_time": "2020-01-01T14:44:55.262543",
     "exception": false,
     "start_time": "2020-01-01T14:44:55.150705",
     "status": "completed"
    },
    "tags": []
   },
   "outputs": [],
   "source": [
    "def _run_all(phenotype_chunks, n_jobs=conf.N_JOBS_HIGH):\n",
    "    all_results = []\n",
    "    \n",
    "    with ProcessPoolExecutor(max_workers=n_jobs) as executor:\n",
    "        tasks = [executor.submit(_get_combined_results, chunk) for chunk in phenotype_chunks]\n",
    "        for future in as_completed(tasks):\n",
    "            res = future.result()\n",
    "            all_results.append(res)\n",
    "\n",
    "    return all_results"
   ]
  },
  {
   "cell_type": "code",
   "execution_count": 121,
   "metadata": {
    "papermill": {
     "duration": 0.118998,
     "end_time": "2020-01-01T14:44:55.465849",
     "exception": false,
     "start_time": "2020-01-01T14:44:55.346851",
     "status": "completed"
    },
    "tags": []
   },
   "outputs": [],
   "source": [
    "# phenotype_chunks = chunker(all_smultixcan_phenotypes[:5] + all_extra_phenotypes[:5], 2)\n",
    "phenotype_chunks = chunker(all_smultixcan_phenotypes, 200)"
   ]
  },
  {
   "cell_type": "code",
   "execution_count": 122,
   "metadata": {
    "papermill": {
     "duration": 24834.907737,
     "end_time": "2020-01-01T21:38:50.458610",
     "exception": false,
     "start_time": "2020-01-01T14:44:55.550873",
     "status": "completed"
    },
    "tags": []
   },
   "outputs": [],
   "source": [
    "all_results = _run_all(phenotype_chunks)"
   ]
  },
  {
   "cell_type": "markdown",
   "metadata": {
    "papermill": {
     "duration": 0.061376,
     "end_time": "2020-01-01T21:38:50.715404",
     "exception": false,
     "start_time": "2020-01-01T21:38:50.654028",
     "status": "completed"
    },
    "tags": []
   },
   "source": [
    "## Save as DataFrame"
   ]
  },
  {
   "cell_type": "code",
   "execution_count": 129,
   "metadata": {
    "papermill": {
     "duration": 173.996029,
     "end_time": "2020-01-01T21:41:44.978209",
     "exception": false,
     "start_time": "2020-01-01T21:38:50.982180",
     "status": "completed"
    },
    "tags": []
   },
   "outputs": [
    {
     "data": {
      "text/plain": [
       "(198401, 4)"
      ]
     },
     "metadata": {},
     "output_type": "display_data"
    },
    {
     "data": {
      "text/html": [
       "<div>\n",
       "<style scoped>\n",
       "    .dataframe tbody tr th:only-of-type {\n",
       "        vertical-align: middle;\n",
       "    }\n",
       "\n",
       "    .dataframe tbody tr th {\n",
       "        vertical-align: top;\n",
       "    }\n",
       "\n",
       "    .dataframe thead th {\n",
       "        text-align: right;\n",
       "    }\n",
       "</style>\n",
       "<table border=\"1\" class=\"dataframe\">\n",
       "  <thead>\n",
       "    <tr style=\"text-align: right;\">\n",
       "      <th></th>\n",
       "      <th>tissue</th>\n",
       "      <th>trait</th>\n",
       "      <th>alpha1</th>\n",
       "      <th>se</th>\n",
       "    </tr>\n",
       "  </thead>\n",
       "  <tbody>\n",
       "    <tr>\n",
       "      <th>0</th>\n",
       "      <td>Adipose_Subcutaneous</td>\n",
       "      <td>O46</td>\n",
       "      <td>-12.018</td>\n",
       "      <td>1550.823</td>\n",
       "    </tr>\n",
       "    <tr>\n",
       "      <th>1</th>\n",
       "      <td>Adipose_Visceral_Omentum</td>\n",
       "      <td>O46</td>\n",
       "      <td>-11.835</td>\n",
       "      <td>1575.155</td>\n",
       "    </tr>\n",
       "    <tr>\n",
       "      <th>2</th>\n",
       "      <td>Adrenal_Gland</td>\n",
       "      <td>O46</td>\n",
       "      <td>-11.980</td>\n",
       "      <td>2014.509</td>\n",
       "    </tr>\n",
       "    <tr>\n",
       "      <th>3</th>\n",
       "      <td>Artery_Aorta</td>\n",
       "      <td>O46</td>\n",
       "      <td>-11.975</td>\n",
       "      <td>1679.678</td>\n",
       "    </tr>\n",
       "    <tr>\n",
       "      <th>4</th>\n",
       "      <td>Artery_Coronary</td>\n",
       "      <td>O46</td>\n",
       "      <td>-11.931</td>\n",
       "      <td>2131.642</td>\n",
       "    </tr>\n",
       "  </tbody>\n",
       "</table>\n",
       "</div>"
      ],
      "text/plain": [
       "                     tissue trait  alpha1        se\n",
       "0      Adipose_Subcutaneous   O46 -12.018  1550.823\n",
       "1  Adipose_Visceral_Omentum   O46 -11.835  1575.155\n",
       "2             Adrenal_Gland   O46 -11.980  2014.509\n",
       "3              Artery_Aorta   O46 -11.975  1679.678\n",
       "4           Artery_Coronary   O46 -11.931  2131.642"
      ]
     },
     "metadata": {},
     "output_type": "display_data"
    }
   ],
   "source": [
    "fastenloc_genes_associations = pd.concat(all_results, ignore_index=True)\n",
    "\n",
    "display(fastenloc_genes_associations.shape)\n",
    "display(fastenloc_genes_associations.head())\n",
    "\n",
    "assert fastenloc_genes_associations.shape[0] == int(conf.FASTENLOC_EXPECTED_PHENOTYPES['RapidGWASProject'] * conf.GTEX_MODELS_N_EXPECTED_TISSUES)"
   ]
  },
  {
   "cell_type": "code",
   "execution_count": 130,
   "metadata": {},
   "outputs": [],
   "source": [
    "assert fastenloc_genes_associations['tissue'].unique().shape[0] == conf.GTEX_MODELS_N_EXPECTED_TISSUES"
   ]
  },
  {
   "cell_type": "code",
   "execution_count": 131,
   "metadata": {},
   "outputs": [],
   "source": [
    "assert fastenloc_genes_associations['trait'].unique().shape[0] == conf.FASTENLOC_EXPECTED_PHENOTYPES['RapidGWASProject']"
   ]
  },
  {
   "cell_type": "code",
   "execution_count": 133,
   "metadata": {},
   "outputs": [],
   "source": [
    "assert fastenloc_genes_associations.shape == fastenloc_genes_associations.dropna().shape"
   ]
  },
  {
   "cell_type": "code",
   "execution_count": 136,
   "metadata": {
    "papermill": {
     "duration": 0.146322,
     "end_time": "2020-01-01T21:41:45.582435",
     "exception": false,
     "start_time": "2020-01-01T21:41:45.436113",
     "status": "completed"
    },
    "tags": []
   },
   "outputs": [
    {
     "data": {
      "text/plain": [
       "object     2\n",
       "float64    2\n",
       "dtype: int64"
      ]
     },
     "metadata": {},
     "output_type": "display_data"
    }
   ],
   "source": [
    "# check columns data type\n",
    "_tmp = fastenloc_genes_associations.dtypes.value_counts()\n",
    "display(_tmp)\n",
    "assert _tmp.shape[0] == 2"
   ]
  },
  {
   "cell_type": "code",
   "execution_count": 137,
   "metadata": {
    "papermill": {
     "duration": 10.717239,
     "end_time": "2020-01-01T21:41:56.399717",
     "exception": false,
     "start_time": "2020-01-01T21:41:45.682478",
     "status": "completed"
    },
    "tags": []
   },
   "outputs": [
    {
     "data": {
      "text/plain": [
       "0"
      ]
     },
     "execution_count": 137,
     "metadata": {},
     "output_type": "execute_result"
    }
   ],
   "source": [
    "fastenloc_genes_associations.isna().sum().sum()"
   ]
  },
  {
   "cell_type": "code",
   "execution_count": 139,
   "metadata": {
    "papermill": {
     "duration": 0.112434,
     "end_time": "2020-01-01T21:42:09.940654",
     "exception": false,
     "start_time": "2020-01-01T21:42:09.828220",
     "status": "completed"
    },
    "tags": []
   },
   "outputs": [],
   "source": [
    "# some testing\n",
    "t = fastenloc_genes_associations[fastenloc_genes_associations['trait'] == '22601_12253140']"
   ]
  },
  {
   "cell_type": "code",
   "execution_count": 140,
   "metadata": {
    "papermill": {
     "duration": 0.118016,
     "end_time": "2020-01-01T21:42:10.143772",
     "exception": false,
     "start_time": "2020-01-01T21:42:10.025756",
     "status": "completed"
    },
    "tags": []
   },
   "outputs": [
    {
     "data": {
      "text/html": [
       "<div>\n",
       "<style scoped>\n",
       "    .dataframe tbody tr th:only-of-type {\n",
       "        vertical-align: middle;\n",
       "    }\n",
       "\n",
       "    .dataframe tbody tr th {\n",
       "        vertical-align: top;\n",
       "    }\n",
       "\n",
       "    .dataframe thead th {\n",
       "        text-align: right;\n",
       "    }\n",
       "</style>\n",
       "<table border=\"1\" class=\"dataframe\">\n",
       "  <thead>\n",
       "    <tr style=\"text-align: right;\">\n",
       "      <th></th>\n",
       "      <th>tissue</th>\n",
       "      <th>trait</th>\n",
       "      <th>alpha1</th>\n",
       "      <th>se</th>\n",
       "    </tr>\n",
       "  </thead>\n",
       "  <tbody>\n",
       "    <tr>\n",
       "      <th>2303</th>\n",
       "      <td>Adipose_Subcutaneous</td>\n",
       "      <td>22601_12253140</td>\n",
       "      <td>-12.415</td>\n",
       "      <td>722.794</td>\n",
       "    </tr>\n",
       "    <tr>\n",
       "      <th>2304</th>\n",
       "      <td>Adipose_Visceral_Omentum</td>\n",
       "      <td>22601_12253140</td>\n",
       "      <td>-12.281</td>\n",
       "      <td>776.066</td>\n",
       "    </tr>\n",
       "    <tr>\n",
       "      <th>2305</th>\n",
       "      <td>Adrenal_Gland</td>\n",
       "      <td>22601_12253140</td>\n",
       "      <td>-12.428</td>\n",
       "      <td>959.603</td>\n",
       "    </tr>\n",
       "    <tr>\n",
       "      <th>2306</th>\n",
       "      <td>Artery_Aorta</td>\n",
       "      <td>22601_12253140</td>\n",
       "      <td>-12.458</td>\n",
       "      <td>796.822</td>\n",
       "    </tr>\n",
       "    <tr>\n",
       "      <th>2307</th>\n",
       "      <td>Artery_Coronary</td>\n",
       "      <td>22601_12253140</td>\n",
       "      <td>-12.448</td>\n",
       "      <td>1042.841</td>\n",
       "    </tr>\n",
       "  </tbody>\n",
       "</table>\n",
       "</div>"
      ],
      "text/plain": [
       "                        tissue           trait  alpha1        se\n",
       "2303      Adipose_Subcutaneous  22601_12253140 -12.415   722.794\n",
       "2304  Adipose_Visceral_Omentum  22601_12253140 -12.281   776.066\n",
       "2305             Adrenal_Gland  22601_12253140 -12.428   959.603\n",
       "2306              Artery_Aorta  22601_12253140 -12.458   796.822\n",
       "2307           Artery_Coronary  22601_12253140 -12.448  1042.841"
      ]
     },
     "execution_count": 140,
     "metadata": {},
     "output_type": "execute_result"
    }
   ],
   "source": [
    "t.head()"
   ]
  },
  {
   "cell_type": "code",
   "execution_count": 143,
   "metadata": {
    "papermill": {
     "duration": 0.125616,
     "end_time": "2020-01-01T21:42:10.354498",
     "exception": false,
     "start_time": "2020-01-01T21:42:10.228882",
     "status": "completed"
    },
    "tags": []
   },
   "outputs": [],
   "source": [
    "tt = t[t['tissue'] == 'Brain_Frontal_Cortex_BA9'].iloc[0]\n",
    "assert tt.loc['alpha1'].round(3) == -12.584\n",
    "assert tt.loc['se'] == 1050.572"
   ]
  },
  {
   "cell_type": "code",
   "execution_count": 147,
   "metadata": {
    "papermill": {
     "duration": 0.125616,
     "end_time": "2020-01-01T21:42:10.354498",
     "exception": false,
     "start_time": "2020-01-01T21:42:10.228882",
     "status": "completed"
    },
    "tags": []
   },
   "outputs": [],
   "source": [
    "tt = t[t['tissue'] == 'Artery_Coronary'].iloc[0]\n",
    "assert tt.loc['alpha1'].round(3) == -12.448\n",
    "assert tt.loc['se'].round(3) == 1042.841"
   ]
  },
  {
   "cell_type": "markdown",
   "metadata": {
    "papermill": {
     "duration": 0.083819,
     "end_time": "2020-01-01T21:42:10.526092",
     "exception": false,
     "start_time": "2020-01-01T21:42:10.442273",
     "status": "completed"
    },
    "tags": []
   },
   "source": [
    "### Save"
   ]
  },
  {
   "cell_type": "code",
   "execution_count": 148,
   "metadata": {},
   "outputs": [],
   "source": [
    "os.makedirs(conf.ANALYSES_DIR, exist_ok=True)"
   ]
  },
  {
   "cell_type": "code",
   "execution_count": 149,
   "metadata": {
    "papermill": {
     "duration": 0.124089,
     "end_time": "2020-01-01T21:42:10.744618",
     "exception": false,
     "start_time": "2020-01-01T21:42:10.620529",
     "status": "completed"
    },
    "tags": []
   },
   "outputs": [
    {
     "data": {
      "text/plain": [
       "'/mnt/phenomexcan_base/analyses/fastenloc-alpha1-stats.pkl.xz'"
      ]
     },
     "metadata": {},
     "output_type": "display_data"
    }
   ],
   "source": [
    "# Save\n",
    "fastenloc_genes_associations_filename = os.path.join(conf.ANALYSES_DIR, f'fastenloc-alpha1-stats.pkl.xz')\n",
    "display(fastenloc_genes_associations_filename)"
   ]
  },
  {
   "cell_type": "code",
   "execution_count": 150,
   "metadata": {
    "papermill": {
     "duration": 841.91448,
     "end_time": "2020-01-01T21:56:12.748990",
     "exception": false,
     "start_time": "2020-01-01T21:42:10.834510",
     "status": "completed"
    },
    "tags": []
   },
   "outputs": [],
   "source": [
    "fastenloc_genes_associations.to_pickle(fastenloc_genes_associations_filename)"
   ]
  },
  {
   "cell_type": "markdown",
   "metadata": {
    "papermill": {
     "duration": 0.087819,
     "end_time": "2020-01-01T21:56:12.934814",
     "exception": false,
     "start_time": "2020-01-01T21:56:12.846995",
     "status": "completed"
    },
    "tags": []
   },
   "source": [
    "### Save in text format"
   ]
  },
  {
   "cell_type": "code",
   "execution_count": 151,
   "metadata": {
    "papermill": {
     "duration": 0.156357,
     "end_time": "2020-01-01T21:56:13.176765",
     "exception": false,
     "start_time": "2020-01-01T21:56:13.020408",
     "status": "completed"
    },
    "tags": []
   },
   "outputs": [
    {
     "data": {
      "text/plain": [
       "'/mnt/phenomexcan_base/analyses/fastenloc-alpha1-stats.tsv.gz'"
      ]
     },
     "metadata": {},
     "output_type": "display_data"
    }
   ],
   "source": [
    "output_file = os.path.join(conf.ANALYSES_DIR, 'fastenloc-alpha1-stats.tsv.gz')\n",
    "display(output_file)"
   ]
  },
  {
   "cell_type": "code",
   "execution_count": 153,
   "metadata": {
    "papermill": {
     "duration": 1254.751765,
     "end_time": "2020-01-01T22:17:08.027828",
     "exception": false,
     "start_time": "2020-01-01T21:56:13.276063",
     "status": "completed"
    },
    "tags": []
   },
   "outputs": [],
   "source": [
    "fastenloc_genes_associations.to_csv(output_file, index=False, sep='\\t', float_format='%.3f')"
   ]
  },
  {
   "cell_type": "code",
   "execution_count": 154,
   "metadata": {
    "papermill": {
     "duration": 155.654781,
     "end_time": "2020-01-01T22:19:43.780431",
     "exception": false,
     "start_time": "2020-01-01T22:17:08.125650",
     "status": "completed"
    },
    "tags": []
   },
   "outputs": [],
   "source": [
    "# test \"for publication\" file\n",
    "_tmp = pd.read_csv(output_file, sep='\\t')"
   ]
  },
  {
   "cell_type": "code",
   "execution_count": 155,
   "metadata": {
    "papermill": {
     "duration": 0.138414,
     "end_time": "2020-01-01T22:19:44.016903",
     "exception": false,
     "start_time": "2020-01-01T22:19:43.878489",
     "status": "completed"
    },
    "tags": []
   },
   "outputs": [
    {
     "data": {
      "text/plain": [
       "(198401, 4)"
      ]
     },
     "metadata": {},
     "output_type": "display_data"
    }
   ],
   "source": [
    "display(_tmp.shape)\n",
    "assert _tmp.shape == fastenloc_genes_associations.shape"
   ]
  },
  {
   "cell_type": "code",
   "execution_count": 156,
   "metadata": {
    "papermill": {
     "duration": 0.171951,
     "end_time": "2020-01-01T22:19:44.283775",
     "exception": false,
     "start_time": "2020-01-01T22:19:44.111824",
     "status": "completed"
    },
    "tags": []
   },
   "outputs": [
    {
     "data": {
      "text/html": [
       "<div>\n",
       "<style scoped>\n",
       "    .dataframe tbody tr th:only-of-type {\n",
       "        vertical-align: middle;\n",
       "    }\n",
       "\n",
       "    .dataframe tbody tr th {\n",
       "        vertical-align: top;\n",
       "    }\n",
       "\n",
       "    .dataframe thead th {\n",
       "        text-align: right;\n",
       "    }\n",
       "</style>\n",
       "<table border=\"1\" class=\"dataframe\">\n",
       "  <thead>\n",
       "    <tr style=\"text-align: right;\">\n",
       "      <th></th>\n",
       "      <th>tissue</th>\n",
       "      <th>trait</th>\n",
       "      <th>alpha1</th>\n",
       "      <th>se</th>\n",
       "    </tr>\n",
       "  </thead>\n",
       "  <tbody>\n",
       "    <tr>\n",
       "      <th>0</th>\n",
       "      <td>Adipose_Subcutaneous</td>\n",
       "      <td>O46</td>\n",
       "      <td>-12.018</td>\n",
       "      <td>1550.823</td>\n",
       "    </tr>\n",
       "    <tr>\n",
       "      <th>1</th>\n",
       "      <td>Adipose_Visceral_Omentum</td>\n",
       "      <td>O46</td>\n",
       "      <td>-11.835</td>\n",
       "      <td>1575.155</td>\n",
       "    </tr>\n",
       "    <tr>\n",
       "      <th>2</th>\n",
       "      <td>Adrenal_Gland</td>\n",
       "      <td>O46</td>\n",
       "      <td>-11.980</td>\n",
       "      <td>2014.509</td>\n",
       "    </tr>\n",
       "    <tr>\n",
       "      <th>3</th>\n",
       "      <td>Artery_Aorta</td>\n",
       "      <td>O46</td>\n",
       "      <td>-11.975</td>\n",
       "      <td>1679.678</td>\n",
       "    </tr>\n",
       "    <tr>\n",
       "      <th>4</th>\n",
       "      <td>Artery_Coronary</td>\n",
       "      <td>O46</td>\n",
       "      <td>-11.931</td>\n",
       "      <td>2131.642</td>\n",
       "    </tr>\n",
       "  </tbody>\n",
       "</table>\n",
       "</div>"
      ],
      "text/plain": [
       "                     tissue trait  alpha1        se\n",
       "0      Adipose_Subcutaneous   O46 -12.018  1550.823\n",
       "1  Adipose_Visceral_Omentum   O46 -11.835  1575.155\n",
       "2             Adrenal_Gland   O46 -11.980  2014.509\n",
       "3              Artery_Aorta   O46 -11.975  1679.678\n",
       "4           Artery_Coronary   O46 -11.931  2131.642"
      ]
     },
     "execution_count": 156,
     "metadata": {},
     "output_type": "execute_result"
    }
   ],
   "source": [
    "_tmp.head()"
   ]
  },
  {
   "cell_type": "code",
   "execution_count": 157,
   "metadata": {
    "papermill": {
     "duration": 8.759228,
     "end_time": "2020-01-01T22:19:53.138364",
     "exception": false,
     "start_time": "2020-01-01T22:19:44.379136",
     "status": "completed"
    },
    "tags": []
   },
   "outputs": [],
   "source": [
    "assert not _tmp.isin([np.inf, -np.inf]).any().any()"
   ]
  },
  {
   "cell_type": "code",
   "execution_count": 159,
   "metadata": {
    "papermill": {
     "duration": 9.139514,
     "end_time": "2020-01-01T22:20:02.368288",
     "exception": false,
     "start_time": "2020-01-01T22:19:53.228774",
     "status": "completed"
    },
    "tags": []
   },
   "outputs": [],
   "source": [
    "assert not _tmp.isna().any().any()"
   ]
  },
  {
   "cell_type": "code",
   "execution_count": 161,
   "metadata": {},
   "outputs": [],
   "source": [
    "assert fastenloc_genes_associations.equals(_tmp)"
   ]
  },
  {
   "cell_type": "code",
   "execution_count": null,
   "metadata": {},
   "outputs": [],
   "source": []
  }
 ],
 "metadata": {
  "kernelspec": {
   "display_name": "Python 3",
   "language": "python",
   "name": "python3"
  },
  "language_info": {
   "codemirror_mode": {
    "name": "ipython",
    "version": 3
   },
   "file_extension": ".py",
   "mimetype": "text/x-python",
   "name": "python",
   "nbconvert_exporter": "python",
   "pygments_lexer": "ipython3",
   "version": "3.7.5"
  },
  "papermill": {
   "duration": 27890.451194,
   "end_time": "2020-01-01T22:26:45.407739",
   "environment_variables": {},
   "exception": null,
   "input_path": "100_postprocessing/05_fastenloc.ipynb",
   "output_path": "100_postprocessing/05_fastenloc.run.ipynb",
   "parameters": {},
   "start_time": "2020-01-01T14:41:54.956545",
   "version": "1.2.1"
  }
 },
 "nbformat": 4,
 "nbformat_minor": 4
}
