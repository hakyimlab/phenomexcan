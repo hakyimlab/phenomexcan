{
 "cells": [
  {
   "cell_type": "code",
   "execution_count": 1,
   "metadata": {
    "papermill": {
     "duration": 0.132557,
     "end_time": "2020-01-01T14:42:00.321571",
     "exception": false,
     "start_time": "2020-01-01T14:42:00.189014",
     "status": "completed"
    },
    "tags": []
   },
   "outputs": [],
   "source": [
    "%load_ext autoreload\n",
    "%autoreload 2"
   ]
  },
  {
   "cell_type": "code",
   "execution_count": 2,
   "metadata": {
    "papermill": {
     "duration": 6.033014,
     "end_time": "2020-01-01T14:42:06.428327",
     "exception": false,
     "start_time": "2020-01-01T14:42:00.395313",
     "status": "completed"
    },
    "tags": []
   },
   "outputs": [],
   "source": [
    "import os\n",
    "from glob import glob\n",
    "from concurrent.futures import ProcessPoolExecutor, as_completed\n",
    "\n",
    "import numpy as np\n",
    "import pandas as pd\n",
    "\n",
    "import settings as conf\n",
    "import metadata\n",
    "from utils import is_number, chunker\n",
    "from results.multixcan import MXPhenoInfo, MXPhenoResults"
   ]
  },
  {
   "cell_type": "markdown",
   "metadata": {
    "papermill": {
     "duration": 0.069285,
     "end_time": "2020-01-01T14:42:06.578877",
     "exception": false,
     "start_time": "2020-01-01T14:42:06.509592",
     "status": "completed"
    },
    "tags": []
   },
   "source": [
    "# fastENLOC reading functions"
   ]
  },
  {
   "cell_type": "code",
   "execution_count": 3,
   "metadata": {
    "papermill": {
     "duration": 0.180549,
     "end_time": "2020-01-01T14:42:06.837744",
     "exception": false,
     "start_time": "2020-01-01T14:42:06.657195",
     "status": "completed"
    },
    "tags": []
   },
   "outputs": [],
   "source": [
    "with open(conf.FASTENLOC_GTEX_TISSUES_FILE, 'r') as f:\n",
    "    FASTENLOC_TISSUES_NAMES = set([x.strip() for x in f.readlines()])"
   ]
  },
  {
   "cell_type": "code",
   "execution_count": 4,
   "metadata": {
    "papermill": {
     "duration": 39.960746,
     "end_time": "2020-01-01T14:42:46.876541",
     "exception": false,
     "start_time": "2020-01-01T14:42:06.915795",
     "status": "completed"
    },
    "tags": []
   },
   "outputs": [
    {
     "data": {
      "text/plain": [
       "'/home/miltondp/projects/labs/hakyimlab/phenomexcan/base/results/fastenloc/rapid_gwas_project/**/*.enloc.enrich.out'"
      ]
     },
     "metadata": {},
     "output_type": "display_data"
    }
   ],
   "source": [
    "# create summary of files\n",
    "_path = os.path.join(conf.FASTENLOC_RESULTS_DIR['RapidGWASProject'], '**/*.enloc.enrich.out')\n",
    "display(_path)\n",
    "all_fastenloc_results_files = glob(_path)"
   ]
  },
  {
   "cell_type": "code",
   "execution_count": 5,
   "metadata": {
    "papermill": {
     "duration": 0.118879,
     "end_time": "2020-01-01T14:42:47.074110",
     "exception": false,
     "start_time": "2020-01-01T14:42:46.955231",
     "status": "completed"
    },
    "tags": []
   },
   "outputs": [
    {
     "data": {
      "text/plain": [
       "198401"
      ]
     },
     "execution_count": 5,
     "metadata": {},
     "output_type": "execute_result"
    }
   ],
   "source": [
    "len(all_fastenloc_results_files)"
   ]
  },
  {
   "cell_type": "code",
   "execution_count": 6,
   "metadata": {
    "papermill": {
     "duration": 0.096255,
     "end_time": "2020-01-01T14:42:47.250129",
     "exception": false,
     "start_time": "2020-01-01T14:42:47.153874",
     "status": "completed"
    },
    "tags": []
   },
   "outputs": [],
   "source": [
    "PHENO_CODES = set(metadata.RAPID_GWAS_PHENO_INFO.index)"
   ]
  },
  {
   "cell_type": "code",
   "execution_count": 7,
   "metadata": {
    "papermill": {
     "duration": 0.107366,
     "end_time": "2020-01-01T14:42:47.434820",
     "exception": false,
     "start_time": "2020-01-01T14:42:47.327454",
     "status": "completed"
    },
    "tags": []
   },
   "outputs": [
    {
     "data": {
      "text/plain": [
       "4359"
      ]
     },
     "execution_count": 7,
     "metadata": {},
     "output_type": "execute_result"
    }
   ],
   "source": [
    "len(PHENO_CODES)"
   ]
  },
  {
   "cell_type": "code",
   "execution_count": 8,
   "metadata": {
    "papermill": {
     "duration": 1.115712,
     "end_time": "2020-01-01T14:42:48.625360",
     "exception": false,
     "start_time": "2020-01-01T14:42:47.509648",
     "status": "completed"
    },
    "tags": []
   },
   "outputs": [],
   "source": [
    "phenos = []\n",
    "tissues = []\n",
    "\n",
    "for f in all_fastenloc_results_files:\n",
    "    f = os.path.basename(f)\n",
    "    split = f.split('-')\n",
    "    \n",
    "    tiss = split[-1].split('.')[0]\n",
    "    if tiss not in FASTENLOC_TISSUES_NAMES:\n",
    "        tiss = '-'.join(split[-2:]).split('.')[0]\n",
    "    \n",
    "    phen = split[1]\n",
    "    if phen not in PHENO_CODES:\n",
    "        phen = '-'.join(split[1:3])\n",
    "    \n",
    "    phenos.append(phen)\n",
    "    tissues.append(tiss)\n",
    "\n",
    "results_summary = pd.DataFrame({'pheno': phenos, 'tissue': tissues, 'file': all_fastenloc_results_files})"
   ]
  },
  {
   "cell_type": "code",
   "execution_count": 9,
   "metadata": {
    "papermill": {
     "duration": 0.117795,
     "end_time": "2020-01-01T14:42:48.820284",
     "exception": false,
     "start_time": "2020-01-01T14:42:48.702489",
     "status": "completed"
    },
    "tags": []
   },
   "outputs": [
    {
     "data": {
      "text/plain": [
       "(198401, 3)"
      ]
     },
     "metadata": {},
     "output_type": "display_data"
    }
   ],
   "source": [
    "display(results_summary.shape)\n",
    "assert results_summary.shape[0] == int(conf.FASTENLOC_EXPECTED_PHENOTYPES['RapidGWASProject'] * conf.GTEX_MODELS_N_EXPECTED_TISSUES)"
   ]
  },
  {
   "cell_type": "code",
   "execution_count": 10,
   "metadata": {
    "papermill": {
     "duration": 0.202464,
     "end_time": "2020-01-01T14:42:49.097264",
     "exception": false,
     "start_time": "2020-01-01T14:42:48.894800",
     "status": "completed"
    },
    "tags": []
   },
   "outputs": [
    {
     "data": {
      "text/html": [
       "<div>\n",
       "<style scoped>\n",
       "    .dataframe tbody tr th:only-of-type {\n",
       "        vertical-align: middle;\n",
       "    }\n",
       "\n",
       "    .dataframe tbody tr th {\n",
       "        vertical-align: top;\n",
       "    }\n",
       "\n",
       "    .dataframe thead th {\n",
       "        text-align: right;\n",
       "    }\n",
       "</style>\n",
       "<table border=\"1\" class=\"dataframe\">\n",
       "  <thead>\n",
       "    <tr style=\"text-align: right;\">\n",
       "      <th></th>\n",
       "      <th>pheno</th>\n",
       "      <th>tissue</th>\n",
       "      <th>file</th>\n",
       "    </tr>\n",
       "  </thead>\n",
       "  <tbody>\n",
       "    <tr>\n",
       "      <th>0</th>\n",
       "      <td>R60</td>\n",
       "      <td>Liver</td>\n",
       "      <td>/home/miltondp/projects/labs/hakyimlab/phenome...</td>\n",
       "    </tr>\n",
       "    <tr>\n",
       "      <th>1</th>\n",
       "      <td>R60</td>\n",
       "      <td>Adipose_Visceral_Omentum</td>\n",
       "      <td>/home/miltondp/projects/labs/hakyimlab/phenome...</td>\n",
       "    </tr>\n",
       "    <tr>\n",
       "      <th>2</th>\n",
       "      <td>R60</td>\n",
       "      <td>Brain_Hypothalamus</td>\n",
       "      <td>/home/miltondp/projects/labs/hakyimlab/phenome...</td>\n",
       "    </tr>\n",
       "    <tr>\n",
       "      <th>3</th>\n",
       "      <td>R60</td>\n",
       "      <td>Nerve_Tibial</td>\n",
       "      <td>/home/miltondp/projects/labs/hakyimlab/phenome...</td>\n",
       "    </tr>\n",
       "    <tr>\n",
       "      <th>4</th>\n",
       "      <td>R60</td>\n",
       "      <td>Brain_Cerebellum</td>\n",
       "      <td>/home/miltondp/projects/labs/hakyimlab/phenome...</td>\n",
       "    </tr>\n",
       "  </tbody>\n",
       "</table>\n",
       "</div>"
      ],
      "text/plain": [
       "  pheno                    tissue  \\\n",
       "0   R60                     Liver   \n",
       "1   R60  Adipose_Visceral_Omentum   \n",
       "2   R60        Brain_Hypothalamus   \n",
       "3   R60              Nerve_Tibial   \n",
       "4   R60          Brain_Cerebellum   \n",
       "\n",
       "                                                file  \n",
       "0  /home/miltondp/projects/labs/hakyimlab/phenome...  \n",
       "1  /home/miltondp/projects/labs/hakyimlab/phenome...  \n",
       "2  /home/miltondp/projects/labs/hakyimlab/phenome...  \n",
       "3  /home/miltondp/projects/labs/hakyimlab/phenome...  \n",
       "4  /home/miltondp/projects/labs/hakyimlab/phenome...  "
      ]
     },
     "execution_count": 10,
     "metadata": {},
     "output_type": "execute_result"
    }
   ],
   "source": [
    "results_summary.head()"
   ]
  },
  {
   "cell_type": "code",
   "execution_count": 11,
   "metadata": {
    "papermill": {
     "duration": 0.131322,
     "end_time": "2020-01-01T14:42:49.303053",
     "exception": false,
     "start_time": "2020-01-01T14:42:49.171731",
     "status": "completed"
    },
    "tags": []
   },
   "outputs": [
    {
     "data": {
      "text/plain": [
       "(4049,)"
      ]
     },
     "execution_count": 11,
     "metadata": {},
     "output_type": "execute_result"
    }
   ],
   "source": [
    "results_summary['pheno'].unique().shape"
   ]
  },
  {
   "cell_type": "code",
   "execution_count": 12,
   "metadata": {
    "papermill": {
     "duration": 0.146826,
     "end_time": "2020-01-01T14:42:49.537990",
     "exception": false,
     "start_time": "2020-01-01T14:42:49.391164",
     "status": "completed"
    },
    "tags": []
   },
   "outputs": [],
   "source": [
    "assert np.all([t in PHENO_CODES for t in results_summary['pheno'].unique()])"
   ]
  },
  {
   "cell_type": "code",
   "execution_count": 13,
   "metadata": {
    "papermill": {
     "duration": 0.146905,
     "end_time": "2020-01-01T14:42:49.764111",
     "exception": false,
     "start_time": "2020-01-01T14:42:49.617206",
     "status": "completed"
    },
    "tags": []
   },
   "outputs": [],
   "source": [
    "assert results_summary['tissue'].unique().shape[0] == conf.GTEX_MODELS_N_EXPECTED_TISSUES"
   ]
  },
  {
   "cell_type": "code",
   "execution_count": 14,
   "metadata": {
    "papermill": {
     "duration": 0.132117,
     "end_time": "2020-01-01T14:42:49.974356",
     "exception": false,
     "start_time": "2020-01-01T14:42:49.842239",
     "status": "completed"
    },
    "tags": []
   },
   "outputs": [],
   "source": [
    "assert np.all([t in FASTENLOC_TISSUES_NAMES for t in results_summary['tissue'].unique()])"
   ]
  },
  {
   "cell_type": "code",
   "execution_count": 15,
   "metadata": {
    "papermill": {
     "duration": 0.141492,
     "end_time": "2020-01-01T14:42:50.201566",
     "exception": false,
     "start_time": "2020-01-01T14:42:50.060074",
     "status": "completed"
    },
    "tags": []
   },
   "outputs": [],
   "source": [
    "_all_tissues_in_results = results_summary['tissue'].unique()\n",
    "assert np.all([t in _all_tissues_in_results for t in FASTENLOC_TISSUES_NAMES])"
   ]
  },
  {
   "cell_type": "code",
   "execution_count": 16,
   "metadata": {
    "papermill": {
     "duration": 0.112839,
     "end_time": "2020-01-01T14:42:50.393554",
     "exception": false,
     "start_time": "2020-01-01T14:42:50.280715",
     "status": "completed"
    },
    "tags": []
   },
   "outputs": [],
   "source": [
    "assert len(all_fastenloc_results_files) == int(conf.SMULTIXCAN_EXPECTED_PHENOTYPES['RapidGWASProject'] * conf.GTEX_MODELS_N_EXPECTED_TISSUES)"
   ]
  },
  {
   "cell_type": "code",
   "execution_count": 17,
   "metadata": {
    "papermill": {
     "duration": 0.110488,
     "end_time": "2020-01-01T14:42:50.587778",
     "exception": false,
     "start_time": "2020-01-01T14:42:50.477290",
     "status": "completed"
    },
    "tags": []
   },
   "outputs": [],
   "source": [
    "def read_fe_enrich(filename):\n",
    "    enrich_data = pd.read_csv(filename, sep='\\s+', header=None)\n",
    "    enrich_data = enrich_data.rename(columns={0: 'type', 1: 'alpha', 2: 'se'})\n",
    "    \n",
    "    alpha0_data = enrich_data[enrich_data['type'] == 'Intercept']\n",
    "    assert alpha0_data.shape[0] == 1\n",
    "    alpha0_data = alpha0_data.iloc[0].loc[['alpha', 'se']]\\\n",
    "        .rename({'alpha': 'alpha0', 'se': 'alpha0_se'}).astype(float)\n",
    "    \n",
    "    alpha1_data = enrich_data[enrich_data['type'] == 'Enrichment']\n",
    "    assert alpha1_data.shape[0] == 1\n",
    "    alpha1_data = alpha1_data.iloc[0].loc[['alpha', 'se']]\\\n",
    "        .rename({'alpha': 'alpha1', 'se': 'alpha1_se'}).astype(float)\n",
    "    \n",
    "    df = pd.concat([alpha0_data, alpha1_data])\n",
    "    return df\n",
    "    \n",
    "\n",
    "def read_fe_enrich_pheno(pheno): \n",
    "    _tmp = results_summary[results_summary['pheno'] == pheno] \n",
    "    if _tmp.shape[0] == 0: \n",
    "        return None \n",
    "     \n",
    "    _res = {}\n",
    "#     _all_genes = set()\n",
    "    for idx, _data in _tmp.iterrows():\n",
    "        tissue_data = read_fe_enrich(_data.file).rename(_data.pheno)\n",
    "        _res[_data.tissue] = tissue_data\n",
    "#         _all_genes.update(tissue_data.index) \n",
    "    \n",
    "    df = pd.DataFrame.from_dict(_res, orient='index')#.T#, index=_all_genes)#.fillna(-1).max(axis=1)\n",
    "    df.index.rename('tissue', inplace=True)\n",
    "    df = df.reset_index().assign(trait=pheno)\n",
    "    return df[['tissue', 'trait', 'alpha0', 'alpha0_se', 'alpha1', 'alpha1_se']]"
   ]
  },
  {
   "cell_type": "code",
   "execution_count": 18,
   "metadata": {},
   "outputs": [
    {
     "data": {
      "text/plain": [
       "'/home/miltondp/projects/labs/hakyimlab/phenomexcan/base/results/fastenloc/rapid_gwas_project/R60/fastenloc-R60-Adipose_Visceral_Omentum.enloc.enrich.out'"
      ]
     },
     "execution_count": 18,
     "metadata": {},
     "output_type": "execute_result"
    }
   ],
   "source": [
    "results_summary.iloc[1].loc['file']"
   ]
  },
  {
   "cell_type": "code",
   "execution_count": 19,
   "metadata": {},
   "outputs": [
    {
     "data": {
      "text/plain": [
       "alpha0        -11.772\n",
       "alpha0_se       0.351\n",
       "alpha1        -12.101\n",
       "alpha1_se    1116.560\n",
       "dtype: float64"
      ]
     },
     "execution_count": 19,
     "metadata": {},
     "output_type": "execute_result"
    }
   ],
   "source": [
    "read_fe_enrich(results_summary.iloc[1].loc['file'])"
   ]
  },
  {
   "cell_type": "code",
   "execution_count": 20,
   "metadata": {},
   "outputs": [
    {
     "data": {
      "text/html": [
       "<div>\n",
       "<style scoped>\n",
       "    .dataframe tbody tr th:only-of-type {\n",
       "        vertical-align: middle;\n",
       "    }\n",
       "\n",
       "    .dataframe tbody tr th {\n",
       "        vertical-align: top;\n",
       "    }\n",
       "\n",
       "    .dataframe thead th {\n",
       "        text-align: right;\n",
       "    }\n",
       "</style>\n",
       "<table border=\"1\" class=\"dataframe\">\n",
       "  <thead>\n",
       "    <tr style=\"text-align: right;\">\n",
       "      <th></th>\n",
       "      <th>tissue</th>\n",
       "      <th>trait</th>\n",
       "      <th>alpha0</th>\n",
       "      <th>alpha0_se</th>\n",
       "      <th>alpha1</th>\n",
       "      <th>alpha1_se</th>\n",
       "    </tr>\n",
       "  </thead>\n",
       "  <tbody>\n",
       "    <tr>\n",
       "      <th>0</th>\n",
       "      <td>Adipose_Subcutaneous</td>\n",
       "      <td>22617_9219</td>\n",
       "      <td>-14.575</td>\n",
       "      <td>0.877</td>\n",
       "      <td>-6.094</td>\n",
       "      <td>1040.506</td>\n",
       "    </tr>\n",
       "    <tr>\n",
       "      <th>1</th>\n",
       "      <td>Adipose_Visceral_Omentum</td>\n",
       "      <td>22617_9219</td>\n",
       "      <td>-14.395</td>\n",
       "      <td>0.721</td>\n",
       "      <td>5.625</td>\n",
       "      <td>217.299</td>\n",
       "    </tr>\n",
       "    <tr>\n",
       "      <th>2</th>\n",
       "      <td>Adrenal_Gland</td>\n",
       "      <td>22617_9219</td>\n",
       "      <td>-14.504</td>\n",
       "      <td>0.778</td>\n",
       "      <td>4.155</td>\n",
       "      <td>395.173</td>\n",
       "    </tr>\n",
       "    <tr>\n",
       "      <th>3</th>\n",
       "      <td>Artery_Aorta</td>\n",
       "      <td>22617_9219</td>\n",
       "      <td>-14.256</td>\n",
       "      <td>0.662</td>\n",
       "      <td>-10.846</td>\n",
       "      <td>2070.036</td>\n",
       "    </tr>\n",
       "    <tr>\n",
       "      <th>4</th>\n",
       "      <td>Artery_Coronary</td>\n",
       "      <td>22617_9219</td>\n",
       "      <td>-14.351</td>\n",
       "      <td>0.728</td>\n",
       "      <td>-4.269</td>\n",
       "      <td>1800.014</td>\n",
       "    </tr>\n",
       "  </tbody>\n",
       "</table>\n",
       "</div>"
      ],
      "text/plain": [
       "                     tissue       trait  alpha0  alpha0_se  alpha1  alpha1_se\n",
       "0      Adipose_Subcutaneous  22617_9219 -14.575      0.877  -6.094   1040.506\n",
       "1  Adipose_Visceral_Omentum  22617_9219 -14.395      0.721   5.625    217.299\n",
       "2             Adrenal_Gland  22617_9219 -14.504      0.778   4.155    395.173\n",
       "3              Artery_Aorta  22617_9219 -14.256      0.662 -10.846   2070.036\n",
       "4           Artery_Coronary  22617_9219 -14.351      0.728  -4.269   1800.014"
      ]
     },
     "execution_count": 20,
     "metadata": {},
     "output_type": "execute_result"
    }
   ],
   "source": [
    "read_fe_enrich_pheno('22617_9219').head()"
   ]
  },
  {
   "cell_type": "markdown",
   "metadata": {
    "papermill": {
     "duration": 0.07331,
     "end_time": "2020-01-01T14:42:50.737970",
     "exception": false,
     "start_time": "2020-01-01T14:42:50.664660",
     "status": "completed"
    },
    "tags": []
   },
   "source": [
    "### Testing"
   ]
  },
  {
   "cell_type": "code",
   "execution_count": 21,
   "metadata": {
    "papermill": {
     "duration": 0.566742,
     "end_time": "2020-01-01T14:42:51.382127",
     "exception": false,
     "start_time": "2020-01-01T14:42:50.815385",
     "status": "completed"
    },
    "tags": []
   },
   "outputs": [],
   "source": [
    "# testing\n",
    "t = read_fe_enrich(os.path.join(conf.FASTENLOC_RESULTS_DIR['RapidGWASProject'], 'J15/fastenloc-J15-Whole_Blood.enloc.enrich.out'))"
   ]
  },
  {
   "cell_type": "code",
   "execution_count": 22,
   "metadata": {},
   "outputs": [],
   "source": [
    "assert t['alpha0'] == -11.752\n",
    "assert t['alpha0_se'] == 0.350\n",
    "\n",
    "assert t['alpha1'] == -11.286\n",
    "assert t['alpha1_se'] == 764.307"
   ]
  },
  {
   "cell_type": "code",
   "execution_count": 23,
   "metadata": {
    "papermill": {
     "duration": 17.639054,
     "end_time": "2020-01-01T14:43:09.829463",
     "exception": false,
     "start_time": "2020-01-01T14:42:52.190409",
     "status": "completed"
    },
    "tags": []
   },
   "outputs": [],
   "source": [
    "t = read_fe_enrich_pheno('J15')"
   ]
  },
  {
   "cell_type": "code",
   "execution_count": 24,
   "metadata": {},
   "outputs": [],
   "source": [
    "assert t.shape[0] == conf.GTEX_MODELS_N_EXPECTED_TISSUES"
   ]
  },
  {
   "cell_type": "code",
   "execution_count": 25,
   "metadata": {
    "papermill": {
     "duration": 0.123097,
     "end_time": "2020-01-01T14:43:10.049492",
     "exception": false,
     "start_time": "2020-01-01T14:43:09.926395",
     "status": "completed"
    },
    "tags": []
   },
   "outputs": [
    {
     "data": {
      "text/html": [
       "<div>\n",
       "<style scoped>\n",
       "    .dataframe tbody tr th:only-of-type {\n",
       "        vertical-align: middle;\n",
       "    }\n",
       "\n",
       "    .dataframe tbody tr th {\n",
       "        vertical-align: top;\n",
       "    }\n",
       "\n",
       "    .dataframe thead th {\n",
       "        text-align: right;\n",
       "    }\n",
       "</style>\n",
       "<table border=\"1\" class=\"dataframe\">\n",
       "  <thead>\n",
       "    <tr style=\"text-align: right;\">\n",
       "      <th></th>\n",
       "      <th>tissue</th>\n",
       "      <th>trait</th>\n",
       "      <th>alpha0</th>\n",
       "      <th>alpha0_se</th>\n",
       "      <th>alpha1</th>\n",
       "      <th>alpha1_se</th>\n",
       "    </tr>\n",
       "  </thead>\n",
       "  <tbody>\n",
       "    <tr>\n",
       "      <th>0</th>\n",
       "      <td>Adipose_Subcutaneous</td>\n",
       "      <td>J15</td>\n",
       "      <td>-11.725</td>\n",
       "      <td>0.347</td>\n",
       "      <td>-12.109</td>\n",
       "      <td>995.299</td>\n",
       "    </tr>\n",
       "    <tr>\n",
       "      <th>1</th>\n",
       "      <td>Adipose_Visceral_Omentum</td>\n",
       "      <td>J15</td>\n",
       "      <td>-11.747</td>\n",
       "      <td>0.349</td>\n",
       "      <td>-11.061</td>\n",
       "      <td>877.891</td>\n",
       "    </tr>\n",
       "    <tr>\n",
       "      <th>2</th>\n",
       "      <td>Adrenal_Gland</td>\n",
       "      <td>J15</td>\n",
       "      <td>-11.741</td>\n",
       "      <td>0.349</td>\n",
       "      <td>-11.018</td>\n",
       "      <td>1024.396</td>\n",
       "    </tr>\n",
       "    <tr>\n",
       "      <th>3</th>\n",
       "      <td>Artery_Aorta</td>\n",
       "      <td>J15</td>\n",
       "      <td>-11.730</td>\n",
       "      <td>0.348</td>\n",
       "      <td>-12.016</td>\n",
       "      <td>1029.679</td>\n",
       "    </tr>\n",
       "    <tr>\n",
       "      <th>4</th>\n",
       "      <td>Artery_Coronary</td>\n",
       "      <td>J15</td>\n",
       "      <td>-11.736</td>\n",
       "      <td>0.348</td>\n",
       "      <td>-11.979</td>\n",
       "      <td>1336.767</td>\n",
       "    </tr>\n",
       "  </tbody>\n",
       "</table>\n",
       "</div>"
      ],
      "text/plain": [
       "                     tissue trait  alpha0  alpha0_se  alpha1  alpha1_se\n",
       "0      Adipose_Subcutaneous   J15 -11.725      0.347 -12.109    995.299\n",
       "1  Adipose_Visceral_Omentum   J15 -11.747      0.349 -11.061    877.891\n",
       "2             Adrenal_Gland   J15 -11.741      0.349 -11.018   1024.396\n",
       "3              Artery_Aorta   J15 -11.730      0.348 -12.016   1029.679\n",
       "4           Artery_Coronary   J15 -11.736      0.348 -11.979   1336.767"
      ]
     },
     "execution_count": 25,
     "metadata": {},
     "output_type": "execute_result"
    }
   ],
   "source": [
    "t.head()"
   ]
  },
  {
   "cell_type": "code",
   "execution_count": 26,
   "metadata": {
    "papermill": {
     "duration": 0.189426,
     "end_time": "2020-01-01T14:43:10.519167",
     "exception": false,
     "start_time": "2020-01-01T14:43:10.329741",
     "status": "completed"
    },
    "tags": []
   },
   "outputs": [],
   "source": [
    "_t_tmp = t[t['tissue'] == 'Adipose_Visceral_Omentum'].iloc[0]\n",
    "assert _t_tmp['tissue'] == 'Adipose_Visceral_Omentum'\n",
    "assert _t_tmp['trait'] == 'J15'\n",
    "assert _t_tmp['alpha0'] == -11.747\n",
    "assert _t_tmp['alpha0_se'].round(3) == 0.349\n",
    "assert _t_tmp['alpha1'] == -11.061\n",
    "assert _t_tmp['alpha1_se'].round(3) == 877.891\n",
    "\n",
    "_t_tmp = t[t['tissue'] == 'Artery_Coronary'].iloc[0]\n",
    "assert _t_tmp['tissue'] == 'Artery_Coronary'\n",
    "assert _t_tmp['trait'] == 'J15'\n",
    "assert _t_tmp['alpha0'].round(3) == -11.736\n",
    "assert _t_tmp['alpha0_se'].round(3) == 0.348\n",
    "assert _t_tmp['alpha1'].round(3) == -11.979\n",
    "assert _t_tmp['alpha1_se'].round(3) == 1336.767"
   ]
  },
  {
   "cell_type": "markdown",
   "metadata": {
    "papermill": {
     "duration": 0.07472,
     "end_time": "2020-01-01T14:43:14.230518",
     "exception": false,
     "start_time": "2020-01-01T14:43:14.155798",
     "status": "completed"
    },
    "tags": []
   },
   "source": [
    "# Get Rapid GWAS phenotypes"
   ]
  },
  {
   "cell_type": "code",
   "execution_count": 27,
   "metadata": {
    "papermill": {
     "duration": 2.91436,
     "end_time": "2020-01-01T14:43:17.223430",
     "exception": false,
     "start_time": "2020-01-01T14:43:14.309070",
     "status": "completed"
    },
    "tags": []
   },
   "outputs": [],
   "source": [
    "all_smultixcan_files = glob(os.path.join(conf.SMULTIXCAN_RESULTS_DIR['RapidGWASProject'], '*.tsv.gz'))\n",
    "all_smultixcan_phenotypes = [MXPhenoResults(p) for p in all_smultixcan_files]"
   ]
  },
  {
   "cell_type": "code",
   "execution_count": 28,
   "metadata": {
    "papermill": {
     "duration": 0.112869,
     "end_time": "2020-01-01T14:43:17.418185",
     "exception": false,
     "start_time": "2020-01-01T14:43:17.305316",
     "status": "completed"
    },
    "tags": []
   },
   "outputs": [],
   "source": [
    "assert len(all_smultixcan_files) == len(all_smultixcan_phenotypes) == conf.SMULTIXCAN_EXPECTED_PHENOTYPES['RapidGWASProject']"
   ]
  },
  {
   "cell_type": "code",
   "execution_count": 29,
   "metadata": {
    "papermill": {
     "duration": 0.116331,
     "end_time": "2020-01-01T14:43:17.609920",
     "exception": false,
     "start_time": "2020-01-01T14:43:17.493589",
     "status": "completed"
    },
    "tags": []
   },
   "outputs": [
    {
     "data": {
      "text/plain": [
       "['/home/miltondp/projects/labs/hakyimlab/phenomexcan/base/results/smultixcan/rapid_gwas_project/smultixcan_20002_1267_ccn30.tsv.gz',\n",
       " '/home/miltondp/projects/labs/hakyimlab/phenomexcan/base/results/smultixcan/rapid_gwas_project/smultixcan_C64_ccn30.tsv.gz',\n",
       " '/home/miltondp/projects/labs/hakyimlab/phenomexcan/base/results/smultixcan/rapid_gwas_project/smultixcan_L12_SCARCONDITIONS_ccn30.tsv.gz',\n",
       " '/home/miltondp/projects/labs/hakyimlab/phenomexcan/base/results/smultixcan/rapid_gwas_project/smultixcan_F5_BEHAVE_ccn30.tsv.gz',\n",
       " '/home/miltondp/projects/labs/hakyimlab/phenomexcan/base/results/smultixcan/rapid_gwas_project/smultixcan_GOUT_ccn30.tsv.gz']"
      ]
     },
     "execution_count": 29,
     "metadata": {},
     "output_type": "execute_result"
    }
   ],
   "source": [
    "all_smultixcan_files[:5]"
   ]
  },
  {
   "cell_type": "markdown",
   "metadata": {
    "papermill": {
     "duration": 0.078363,
     "end_time": "2020-01-01T14:43:19.386865",
     "exception": false,
     "start_time": "2020-01-01T14:43:19.308502",
     "status": "completed"
    },
    "tags": []
   },
   "source": [
    "# Read all results"
   ]
  },
  {
   "cell_type": "code",
   "execution_count": 30,
   "metadata": {
    "papermill": {
     "duration": 0.112338,
     "end_time": "2020-01-01T14:43:19.589216",
     "exception": false,
     "start_time": "2020-01-01T14:43:19.476878",
     "status": "completed"
    },
    "tags": []
   },
   "outputs": [],
   "source": [
    "def _get_combined_results(phenos):\n",
    "    all_res = [read_fe_enrich_pheno(pheno.pheno_info.pheno_code) for pheno in phenos]\n",
    "    return pd.concat(all_res, ignore_index=True)"
   ]
  },
  {
   "cell_type": "code",
   "execution_count": 31,
   "metadata": {
    "papermill": {
     "duration": 68.923949,
     "end_time": "2020-01-01T14:44:28.598205",
     "exception": false,
     "start_time": "2020-01-01T14:43:19.674256",
     "status": "completed"
    },
    "tags": []
   },
   "outputs": [],
   "source": [
    "# testing\n",
    "_tmp = _get_combined_results(all_smultixcan_phenotypes[:4])\n",
    "assert _tmp.shape[0] == int(4 * 49)"
   ]
  },
  {
   "cell_type": "code",
   "execution_count": 32,
   "metadata": {
    "papermill": {
     "duration": 16.626,
     "end_time": "2020-01-01T14:44:52.964598",
     "exception": false,
     "start_time": "2020-01-01T14:44:36.338598",
     "status": "completed"
    },
    "tags": []
   },
   "outputs": [],
   "source": [
    "_pending = read_fe_enrich_pheno('C_MYELOID-LEUKAEMIA')"
   ]
  },
  {
   "cell_type": "code",
   "execution_count": 33,
   "metadata": {
    "papermill": {
     "duration": 0.129596,
     "end_time": "2020-01-01T14:44:53.201312",
     "exception": false,
     "start_time": "2020-01-01T14:44:53.071716",
     "status": "completed"
    },
    "tags": []
   },
   "outputs": [
    {
     "data": {
      "text/html": [
       "<div>\n",
       "<style scoped>\n",
       "    .dataframe tbody tr th:only-of-type {\n",
       "        vertical-align: middle;\n",
       "    }\n",
       "\n",
       "    .dataframe tbody tr th {\n",
       "        vertical-align: top;\n",
       "    }\n",
       "\n",
       "    .dataframe thead th {\n",
       "        text-align: right;\n",
       "    }\n",
       "</style>\n",
       "<table border=\"1\" class=\"dataframe\">\n",
       "  <thead>\n",
       "    <tr style=\"text-align: right;\">\n",
       "      <th></th>\n",
       "      <th>tissue</th>\n",
       "      <th>trait</th>\n",
       "      <th>alpha0</th>\n",
       "      <th>alpha0_se</th>\n",
       "      <th>alpha1</th>\n",
       "      <th>alpha1_se</th>\n",
       "    </tr>\n",
       "  </thead>\n",
       "  <tbody>\n",
       "    <tr>\n",
       "      <th>0</th>\n",
       "      <td>Adipose_Subcutaneous</td>\n",
       "      <td>C_MYELOID-LEUKAEMIA</td>\n",
       "      <td>-12.915</td>\n",
       "      <td>0.469</td>\n",
       "      <td>-11.482</td>\n",
       "      <td>1327.573</td>\n",
       "    </tr>\n",
       "    <tr>\n",
       "      <th>1</th>\n",
       "      <td>Adipose_Visceral_Omentum</td>\n",
       "      <td>C_MYELOID-LEUKAEMIA</td>\n",
       "      <td>-12.883</td>\n",
       "      <td>0.464</td>\n",
       "      <td>-11.767</td>\n",
       "      <td>1643.732</td>\n",
       "    </tr>\n",
       "    <tr>\n",
       "      <th>2</th>\n",
       "      <td>Adrenal_Gland</td>\n",
       "      <td>C_MYELOID-LEUKAEMIA</td>\n",
       "      <td>-12.913</td>\n",
       "      <td>0.468</td>\n",
       "      <td>-11.487</td>\n",
       "      <td>1752.318</td>\n",
       "    </tr>\n",
       "    <tr>\n",
       "      <th>3</th>\n",
       "      <td>Artery_Aorta</td>\n",
       "      <td>C_MYELOID-LEUKAEMIA</td>\n",
       "      <td>-12.983</td>\n",
       "      <td>0.482</td>\n",
       "      <td>-11.046</td>\n",
       "      <td>1233.831</td>\n",
       "    </tr>\n",
       "    <tr>\n",
       "      <th>4</th>\n",
       "      <td>Artery_Coronary</td>\n",
       "      <td>C_MYELOID-LEUKAEMIA</td>\n",
       "      <td>-12.897</td>\n",
       "      <td>0.467</td>\n",
       "      <td>-11.662</td>\n",
       "      <td>2048.158</td>\n",
       "    </tr>\n",
       "  </tbody>\n",
       "</table>\n",
       "</div>"
      ],
      "text/plain": [
       "                     tissue                trait  alpha0  alpha0_se  alpha1  \\\n",
       "0      Adipose_Subcutaneous  C_MYELOID-LEUKAEMIA -12.915      0.469 -11.482   \n",
       "1  Adipose_Visceral_Omentum  C_MYELOID-LEUKAEMIA -12.883      0.464 -11.767   \n",
       "2             Adrenal_Gland  C_MYELOID-LEUKAEMIA -12.913      0.468 -11.487   \n",
       "3              Artery_Aorta  C_MYELOID-LEUKAEMIA -12.983      0.482 -11.046   \n",
       "4           Artery_Coronary  C_MYELOID-LEUKAEMIA -12.897      0.467 -11.662   \n",
       "\n",
       "   alpha1_se  \n",
       "0   1327.573  \n",
       "1   1643.732  \n",
       "2   1752.318  \n",
       "3   1233.831  \n",
       "4   2048.158  "
      ]
     },
     "execution_count": 33,
     "metadata": {},
     "output_type": "execute_result"
    }
   ],
   "source": [
    "_pending.head()"
   ]
  },
  {
   "cell_type": "code",
   "execution_count": 34,
   "metadata": {
    "papermill": {
     "duration": 0.111838,
     "end_time": "2020-01-01T14:44:55.262543",
     "exception": false,
     "start_time": "2020-01-01T14:44:55.150705",
     "status": "completed"
    },
    "tags": []
   },
   "outputs": [],
   "source": [
    "def _run_all(phenotype_chunks, n_jobs=conf.N_JOBS_HIGH):\n",
    "    all_results = []\n",
    "    \n",
    "    with ProcessPoolExecutor(max_workers=n_jobs) as executor:\n",
    "        tasks = [executor.submit(_get_combined_results, chunk) for chunk in phenotype_chunks]\n",
    "        for future in as_completed(tasks):\n",
    "            res = future.result()\n",
    "            all_results.append(res)\n",
    "\n",
    "    return all_results"
   ]
  },
  {
   "cell_type": "code",
   "execution_count": 35,
   "metadata": {
    "papermill": {
     "duration": 0.118998,
     "end_time": "2020-01-01T14:44:55.465849",
     "exception": false,
     "start_time": "2020-01-01T14:44:55.346851",
     "status": "completed"
    },
    "tags": []
   },
   "outputs": [],
   "source": [
    "# phenotype_chunks = chunker(all_smultixcan_phenotypes[:5] + all_extra_phenotypes[:5], 2)\n",
    "phenotype_chunks = chunker(all_smultixcan_phenotypes, 200)"
   ]
  },
  {
   "cell_type": "code",
   "execution_count": 36,
   "metadata": {
    "papermill": {
     "duration": 24834.907737,
     "end_time": "2020-01-01T21:38:50.458610",
     "exception": false,
     "start_time": "2020-01-01T14:44:55.550873",
     "status": "completed"
    },
    "tags": []
   },
   "outputs": [],
   "source": [
    "all_results = _run_all(phenotype_chunks)"
   ]
  },
  {
   "cell_type": "markdown",
   "metadata": {
    "papermill": {
     "duration": 0.061376,
     "end_time": "2020-01-01T21:38:50.715404",
     "exception": false,
     "start_time": "2020-01-01T21:38:50.654028",
     "status": "completed"
    },
    "tags": []
   },
   "source": [
    "## Save as DataFrame"
   ]
  },
  {
   "cell_type": "code",
   "execution_count": 37,
   "metadata": {
    "papermill": {
     "duration": 173.996029,
     "end_time": "2020-01-01T21:41:44.978209",
     "exception": false,
     "start_time": "2020-01-01T21:38:50.982180",
     "status": "completed"
    },
    "tags": []
   },
   "outputs": [
    {
     "data": {
      "text/plain": [
       "(198401, 6)"
      ]
     },
     "metadata": {},
     "output_type": "display_data"
    },
    {
     "data": {
      "text/html": [
       "<div>\n",
       "<style scoped>\n",
       "    .dataframe tbody tr th:only-of-type {\n",
       "        vertical-align: middle;\n",
       "    }\n",
       "\n",
       "    .dataframe tbody tr th {\n",
       "        vertical-align: top;\n",
       "    }\n",
       "\n",
       "    .dataframe thead th {\n",
       "        text-align: right;\n",
       "    }\n",
       "</style>\n",
       "<table border=\"1\" class=\"dataframe\">\n",
       "  <thead>\n",
       "    <tr style=\"text-align: right;\">\n",
       "      <th></th>\n",
       "      <th>tissue</th>\n",
       "      <th>trait</th>\n",
       "      <th>alpha0</th>\n",
       "      <th>alpha0_se</th>\n",
       "      <th>alpha1</th>\n",
       "      <th>alpha1_se</th>\n",
       "    </tr>\n",
       "  </thead>\n",
       "  <tbody>\n",
       "    <tr>\n",
       "      <th>0</th>\n",
       "      <td>Adipose_Subcutaneous</td>\n",
       "      <td>20002_1274</td>\n",
       "      <td>-11.993</td>\n",
       "      <td>0.371</td>\n",
       "      <td>-11.876</td>\n",
       "      <td>1039.978</td>\n",
       "    </tr>\n",
       "    <tr>\n",
       "      <th>1</th>\n",
       "      <td>Adipose_Visceral_Omentum</td>\n",
       "      <td>20002_1274</td>\n",
       "      <td>-12.001</td>\n",
       "      <td>0.372</td>\n",
       "      <td>-11.836</td>\n",
       "      <td>1106.017</td>\n",
       "    </tr>\n",
       "    <tr>\n",
       "      <th>2</th>\n",
       "      <td>Adrenal_Gland</td>\n",
       "      <td>20002_1274</td>\n",
       "      <td>-11.998</td>\n",
       "      <td>0.372</td>\n",
       "      <td>-11.055</td>\n",
       "      <td>1182.881</td>\n",
       "    </tr>\n",
       "    <tr>\n",
       "      <th>3</th>\n",
       "      <td>Artery_Aorta</td>\n",
       "      <td>20002_1274</td>\n",
       "      <td>-11.992</td>\n",
       "      <td>0.372</td>\n",
       "      <td>-11.058</td>\n",
       "      <td>1019.484</td>\n",
       "    </tr>\n",
       "    <tr>\n",
       "      <th>4</th>\n",
       "      <td>Artery_Coronary</td>\n",
       "      <td>20002_1274</td>\n",
       "      <td>-12.004</td>\n",
       "      <td>0.372</td>\n",
       "      <td>-10.258</td>\n",
       "      <td>1115.669</td>\n",
       "    </tr>\n",
       "  </tbody>\n",
       "</table>\n",
       "</div>"
      ],
      "text/plain": [
       "                     tissue       trait  alpha0  alpha0_se  alpha1  alpha1_se\n",
       "0      Adipose_Subcutaneous  20002_1274 -11.993      0.371 -11.876   1039.978\n",
       "1  Adipose_Visceral_Omentum  20002_1274 -12.001      0.372 -11.836   1106.017\n",
       "2             Adrenal_Gland  20002_1274 -11.998      0.372 -11.055   1182.881\n",
       "3              Artery_Aorta  20002_1274 -11.992      0.372 -11.058   1019.484\n",
       "4           Artery_Coronary  20002_1274 -12.004      0.372 -10.258   1115.669"
      ]
     },
     "metadata": {},
     "output_type": "display_data"
    }
   ],
   "source": [
    "fastenloc_genes_associations = pd.concat(all_results, ignore_index=True)\n",
    "\n",
    "display(fastenloc_genes_associations.shape)\n",
    "display(fastenloc_genes_associations.head())\n",
    "\n",
    "assert fastenloc_genes_associations.shape[0] == int(conf.FASTENLOC_EXPECTED_PHENOTYPES['RapidGWASProject'] * conf.GTEX_MODELS_N_EXPECTED_TISSUES)"
   ]
  },
  {
   "cell_type": "code",
   "execution_count": 38,
   "metadata": {},
   "outputs": [],
   "source": [
    "assert fastenloc_genes_associations['tissue'].unique().shape[0] == conf.GTEX_MODELS_N_EXPECTED_TISSUES"
   ]
  },
  {
   "cell_type": "code",
   "execution_count": 39,
   "metadata": {},
   "outputs": [],
   "source": [
    "assert fastenloc_genes_associations['trait'].unique().shape[0] == conf.FASTENLOC_EXPECTED_PHENOTYPES['RapidGWASProject']"
   ]
  },
  {
   "cell_type": "code",
   "execution_count": 40,
   "metadata": {},
   "outputs": [],
   "source": [
    "assert fastenloc_genes_associations.shape == fastenloc_genes_associations.dropna().shape"
   ]
  },
  {
   "cell_type": "code",
   "execution_count": 41,
   "metadata": {
    "papermill": {
     "duration": 0.146322,
     "end_time": "2020-01-01T21:41:45.582435",
     "exception": false,
     "start_time": "2020-01-01T21:41:45.436113",
     "status": "completed"
    },
    "tags": []
   },
   "outputs": [
    {
     "data": {
      "text/plain": [
       "float64    4\n",
       "object     2\n",
       "dtype: int64"
      ]
     },
     "metadata": {},
     "output_type": "display_data"
    }
   ],
   "source": [
    "# check columns data type\n",
    "_tmp = fastenloc_genes_associations.dtypes.value_counts()\n",
    "display(_tmp)\n",
    "assert _tmp.shape[0] == 2"
   ]
  },
  {
   "cell_type": "code",
   "execution_count": 42,
   "metadata": {
    "papermill": {
     "duration": 10.717239,
     "end_time": "2020-01-01T21:41:56.399717",
     "exception": false,
     "start_time": "2020-01-01T21:41:45.682478",
     "status": "completed"
    },
    "tags": []
   },
   "outputs": [
    {
     "data": {
      "text/plain": [
       "0"
      ]
     },
     "execution_count": 42,
     "metadata": {},
     "output_type": "execute_result"
    }
   ],
   "source": [
    "fastenloc_genes_associations.isna().sum().sum()"
   ]
  },
  {
   "cell_type": "code",
   "execution_count": 43,
   "metadata": {
    "papermill": {
     "duration": 0.112434,
     "end_time": "2020-01-01T21:42:09.940654",
     "exception": false,
     "start_time": "2020-01-01T21:42:09.828220",
     "status": "completed"
    },
    "tags": []
   },
   "outputs": [],
   "source": [
    "# some testing\n",
    "t = fastenloc_genes_associations[fastenloc_genes_associations['trait'] == '22601_12253140']"
   ]
  },
  {
   "cell_type": "code",
   "execution_count": 44,
   "metadata": {
    "papermill": {
     "duration": 0.118016,
     "end_time": "2020-01-01T21:42:10.143772",
     "exception": false,
     "start_time": "2020-01-01T21:42:10.025756",
     "status": "completed"
    },
    "tags": []
   },
   "outputs": [
    {
     "data": {
      "text/html": [
       "<div>\n",
       "<style scoped>\n",
       "    .dataframe tbody tr th:only-of-type {\n",
       "        vertical-align: middle;\n",
       "    }\n",
       "\n",
       "    .dataframe tbody tr th {\n",
       "        vertical-align: top;\n",
       "    }\n",
       "\n",
       "    .dataframe thead th {\n",
       "        text-align: right;\n",
       "    }\n",
       "</style>\n",
       "<table border=\"1\" class=\"dataframe\">\n",
       "  <thead>\n",
       "    <tr style=\"text-align: right;\">\n",
       "      <th></th>\n",
       "      <th>tissue</th>\n",
       "      <th>trait</th>\n",
       "      <th>alpha0</th>\n",
       "      <th>alpha0_se</th>\n",
       "      <th>alpha1</th>\n",
       "      <th>alpha1_se</th>\n",
       "    </tr>\n",
       "  </thead>\n",
       "  <tbody>\n",
       "    <tr>\n",
       "      <th>133721</th>\n",
       "      <td>Adipose_Subcutaneous</td>\n",
       "      <td>22601_12253140</td>\n",
       "      <td>-10.779</td>\n",
       "      <td>0.274</td>\n",
       "      <td>-12.415</td>\n",
       "      <td>722.794</td>\n",
       "    </tr>\n",
       "    <tr>\n",
       "      <th>133722</th>\n",
       "      <td>Adipose_Visceral_Omentum</td>\n",
       "      <td>22601_12253140</td>\n",
       "      <td>-10.783</td>\n",
       "      <td>0.274</td>\n",
       "      <td>-12.281</td>\n",
       "      <td>776.066</td>\n",
       "    </tr>\n",
       "    <tr>\n",
       "      <th>133723</th>\n",
       "      <td>Adrenal_Gland</td>\n",
       "      <td>22601_12253140</td>\n",
       "      <td>-10.781</td>\n",
       "      <td>0.274</td>\n",
       "      <td>-12.428</td>\n",
       "      <td>959.603</td>\n",
       "    </tr>\n",
       "    <tr>\n",
       "      <th>133724</th>\n",
       "      <td>Artery_Aorta</td>\n",
       "      <td>22601_12253140</td>\n",
       "      <td>-10.780</td>\n",
       "      <td>0.274</td>\n",
       "      <td>-12.458</td>\n",
       "      <td>796.822</td>\n",
       "    </tr>\n",
       "    <tr>\n",
       "      <th>133725</th>\n",
       "      <td>Artery_Coronary</td>\n",
       "      <td>22601_12253140</td>\n",
       "      <td>-10.783</td>\n",
       "      <td>0.274</td>\n",
       "      <td>-12.448</td>\n",
       "      <td>1042.841</td>\n",
       "    </tr>\n",
       "  </tbody>\n",
       "</table>\n",
       "</div>"
      ],
      "text/plain": [
       "                          tissue           trait  alpha0  alpha0_se  alpha1  \\\n",
       "133721      Adipose_Subcutaneous  22601_12253140 -10.779      0.274 -12.415   \n",
       "133722  Adipose_Visceral_Omentum  22601_12253140 -10.783      0.274 -12.281   \n",
       "133723             Adrenal_Gland  22601_12253140 -10.781      0.274 -12.428   \n",
       "133724              Artery_Aorta  22601_12253140 -10.780      0.274 -12.458   \n",
       "133725           Artery_Coronary  22601_12253140 -10.783      0.274 -12.448   \n",
       "\n",
       "        alpha1_se  \n",
       "133721    722.794  \n",
       "133722    776.066  \n",
       "133723    959.603  \n",
       "133724    796.822  \n",
       "133725   1042.841  "
      ]
     },
     "execution_count": 44,
     "metadata": {},
     "output_type": "execute_result"
    }
   ],
   "source": [
    "t.head()"
   ]
  },
  {
   "cell_type": "code",
   "execution_count": 45,
   "metadata": {
    "papermill": {
     "duration": 0.125616,
     "end_time": "2020-01-01T21:42:10.354498",
     "exception": false,
     "start_time": "2020-01-01T21:42:10.228882",
     "status": "completed"
    },
    "tags": []
   },
   "outputs": [],
   "source": [
    "tt = t[t['tissue'] == 'Brain_Frontal_Cortex_BA9'].iloc[0]\n",
    "assert tt.loc['alpha0'].round(3) == -10.781\n",
    "assert tt.loc['alpha0_se'].round(3) == 0.274\n",
    "assert tt.loc['alpha1'].round(3) == -12.584\n",
    "assert tt.loc['alpha1_se'] == 1050.572"
   ]
  },
  {
   "cell_type": "code",
   "execution_count": 46,
   "metadata": {
    "papermill": {
     "duration": 0.125616,
     "end_time": "2020-01-01T21:42:10.354498",
     "exception": false,
     "start_time": "2020-01-01T21:42:10.228882",
     "status": "completed"
    },
    "tags": []
   },
   "outputs": [],
   "source": [
    "tt = t[t['tissue'] == 'Artery_Coronary'].iloc[0]\n",
    "assert tt.loc['alpha0'].round(3) == -10.783\n",
    "assert tt.loc['alpha0_se'].round(3) == 0.274\n",
    "assert tt.loc['alpha1'].round(3) == -12.448\n",
    "assert tt.loc['alpha1_se'].round(3) == 1042.841"
   ]
  },
  {
   "cell_type": "markdown",
   "metadata": {
    "papermill": {
     "duration": 0.083819,
     "end_time": "2020-01-01T21:42:10.526092",
     "exception": false,
     "start_time": "2020-01-01T21:42:10.442273",
     "status": "completed"
    },
    "tags": []
   },
   "source": [
    "### Save"
   ]
  },
  {
   "cell_type": "code",
   "execution_count": 47,
   "metadata": {},
   "outputs": [],
   "source": [
    "os.makedirs(conf.ANALYSES_DIR, exist_ok=True)"
   ]
  },
  {
   "cell_type": "code",
   "execution_count": 48,
   "metadata": {
    "papermill": {
     "duration": 0.124089,
     "end_time": "2020-01-01T21:42:10.744618",
     "exception": false,
     "start_time": "2020-01-01T21:42:10.620529",
     "status": "completed"
    },
    "tags": []
   },
   "outputs": [
    {
     "data": {
      "text/plain": [
       "'/home/miltondp/projects/labs/hakyimlab/phenomexcan/base/analyses/fastenloc-alpha1-stats.pkl.xz'"
      ]
     },
     "metadata": {},
     "output_type": "display_data"
    }
   ],
   "source": [
    "# Save\n",
    "fastenloc_genes_associations_filename = os.path.join(conf.ANALYSES_DIR, f'fastenloc-alpha1-stats.pkl.xz')\n",
    "display(fastenloc_genes_associations_filename)"
   ]
  },
  {
   "cell_type": "code",
   "execution_count": 49,
   "metadata": {
    "papermill": {
     "duration": 841.91448,
     "end_time": "2020-01-01T21:56:12.748990",
     "exception": false,
     "start_time": "2020-01-01T21:42:10.834510",
     "status": "completed"
    },
    "tags": []
   },
   "outputs": [],
   "source": [
    "fastenloc_genes_associations.to_pickle(fastenloc_genes_associations_filename)"
   ]
  },
  {
   "cell_type": "markdown",
   "metadata": {
    "papermill": {
     "duration": 0.087819,
     "end_time": "2020-01-01T21:56:12.934814",
     "exception": false,
     "start_time": "2020-01-01T21:56:12.846995",
     "status": "completed"
    },
    "tags": []
   },
   "source": [
    "### Save in text format"
   ]
  },
  {
   "cell_type": "code",
   "execution_count": 50,
   "metadata": {
    "papermill": {
     "duration": 0.156357,
     "end_time": "2020-01-01T21:56:13.176765",
     "exception": false,
     "start_time": "2020-01-01T21:56:13.020408",
     "status": "completed"
    },
    "tags": []
   },
   "outputs": [
    {
     "data": {
      "text/plain": [
       "'/home/miltondp/projects/labs/hakyimlab/phenomexcan/base/analyses/fastenloc-alpha1-stats.tsv.gz'"
      ]
     },
     "metadata": {},
     "output_type": "display_data"
    }
   ],
   "source": [
    "output_file = os.path.join(conf.ANALYSES_DIR, 'fastenloc-alpha1-stats.tsv.gz')\n",
    "display(output_file)"
   ]
  },
  {
   "cell_type": "code",
   "execution_count": 51,
   "metadata": {
    "papermill": {
     "duration": 1254.751765,
     "end_time": "2020-01-01T22:17:08.027828",
     "exception": false,
     "start_time": "2020-01-01T21:56:13.276063",
     "status": "completed"
    },
    "tags": []
   },
   "outputs": [],
   "source": [
    "fastenloc_genes_associations.to_csv(output_file, index=False, sep='\\t', float_format='%.3f')"
   ]
  },
  {
   "cell_type": "code",
   "execution_count": 52,
   "metadata": {
    "papermill": {
     "duration": 155.654781,
     "end_time": "2020-01-01T22:19:43.780431",
     "exception": false,
     "start_time": "2020-01-01T22:17:08.125650",
     "status": "completed"
    },
    "tags": []
   },
   "outputs": [],
   "source": [
    "# test \"for publication\" file\n",
    "_tmp = pd.read_csv(output_file, sep='\\t')"
   ]
  },
  {
   "cell_type": "code",
   "execution_count": 53,
   "metadata": {
    "papermill": {
     "duration": 0.138414,
     "end_time": "2020-01-01T22:19:44.016903",
     "exception": false,
     "start_time": "2020-01-01T22:19:43.878489",
     "status": "completed"
    },
    "tags": []
   },
   "outputs": [
    {
     "data": {
      "text/plain": [
       "(198401, 6)"
      ]
     },
     "metadata": {},
     "output_type": "display_data"
    }
   ],
   "source": [
    "display(_tmp.shape)\n",
    "assert _tmp.shape == fastenloc_genes_associations.shape"
   ]
  },
  {
   "cell_type": "code",
   "execution_count": 54,
   "metadata": {
    "papermill": {
     "duration": 0.171951,
     "end_time": "2020-01-01T22:19:44.283775",
     "exception": false,
     "start_time": "2020-01-01T22:19:44.111824",
     "status": "completed"
    },
    "tags": []
   },
   "outputs": [
    {
     "data": {
      "text/html": [
       "<div>\n",
       "<style scoped>\n",
       "    .dataframe tbody tr th:only-of-type {\n",
       "        vertical-align: middle;\n",
       "    }\n",
       "\n",
       "    .dataframe tbody tr th {\n",
       "        vertical-align: top;\n",
       "    }\n",
       "\n",
       "    .dataframe thead th {\n",
       "        text-align: right;\n",
       "    }\n",
       "</style>\n",
       "<table border=\"1\" class=\"dataframe\">\n",
       "  <thead>\n",
       "    <tr style=\"text-align: right;\">\n",
       "      <th></th>\n",
       "      <th>tissue</th>\n",
       "      <th>trait</th>\n",
       "      <th>alpha0</th>\n",
       "      <th>alpha0_se</th>\n",
       "      <th>alpha1</th>\n",
       "      <th>alpha1_se</th>\n",
       "    </tr>\n",
       "  </thead>\n",
       "  <tbody>\n",
       "    <tr>\n",
       "      <th>0</th>\n",
       "      <td>Adipose_Subcutaneous</td>\n",
       "      <td>20002_1274</td>\n",
       "      <td>-11.993</td>\n",
       "      <td>0.371</td>\n",
       "      <td>-11.876</td>\n",
       "      <td>1039.978</td>\n",
       "    </tr>\n",
       "    <tr>\n",
       "      <th>1</th>\n",
       "      <td>Adipose_Visceral_Omentum</td>\n",
       "      <td>20002_1274</td>\n",
       "      <td>-12.001</td>\n",
       "      <td>0.372</td>\n",
       "      <td>-11.836</td>\n",
       "      <td>1106.017</td>\n",
       "    </tr>\n",
       "    <tr>\n",
       "      <th>2</th>\n",
       "      <td>Adrenal_Gland</td>\n",
       "      <td>20002_1274</td>\n",
       "      <td>-11.998</td>\n",
       "      <td>0.372</td>\n",
       "      <td>-11.055</td>\n",
       "      <td>1182.881</td>\n",
       "    </tr>\n",
       "    <tr>\n",
       "      <th>3</th>\n",
       "      <td>Artery_Aorta</td>\n",
       "      <td>20002_1274</td>\n",
       "      <td>-11.992</td>\n",
       "      <td>0.372</td>\n",
       "      <td>-11.058</td>\n",
       "      <td>1019.484</td>\n",
       "    </tr>\n",
       "    <tr>\n",
       "      <th>4</th>\n",
       "      <td>Artery_Coronary</td>\n",
       "      <td>20002_1274</td>\n",
       "      <td>-12.004</td>\n",
       "      <td>0.372</td>\n",
       "      <td>-10.258</td>\n",
       "      <td>1115.669</td>\n",
       "    </tr>\n",
       "  </tbody>\n",
       "</table>\n",
       "</div>"
      ],
      "text/plain": [
       "                     tissue       trait  alpha0  alpha0_se  alpha1  alpha1_se\n",
       "0      Adipose_Subcutaneous  20002_1274 -11.993      0.371 -11.876   1039.978\n",
       "1  Adipose_Visceral_Omentum  20002_1274 -12.001      0.372 -11.836   1106.017\n",
       "2             Adrenal_Gland  20002_1274 -11.998      0.372 -11.055   1182.881\n",
       "3              Artery_Aorta  20002_1274 -11.992      0.372 -11.058   1019.484\n",
       "4           Artery_Coronary  20002_1274 -12.004      0.372 -10.258   1115.669"
      ]
     },
     "execution_count": 54,
     "metadata": {},
     "output_type": "execute_result"
    }
   ],
   "source": [
    "_tmp.head()"
   ]
  },
  {
   "cell_type": "code",
   "execution_count": 55,
   "metadata": {
    "papermill": {
     "duration": 8.759228,
     "end_time": "2020-01-01T22:19:53.138364",
     "exception": false,
     "start_time": "2020-01-01T22:19:44.379136",
     "status": "completed"
    },
    "tags": []
   },
   "outputs": [],
   "source": [
    "assert not _tmp.isin([np.inf, -np.inf]).any().any()"
   ]
  },
  {
   "cell_type": "code",
   "execution_count": 56,
   "metadata": {
    "papermill": {
     "duration": 9.139514,
     "end_time": "2020-01-01T22:20:02.368288",
     "exception": false,
     "start_time": "2020-01-01T22:19:53.228774",
     "status": "completed"
    },
    "tags": []
   },
   "outputs": [],
   "source": [
    "assert not _tmp.isna().any().any()"
   ]
  },
  {
   "cell_type": "code",
   "execution_count": 57,
   "metadata": {},
   "outputs": [],
   "source": [
    "assert fastenloc_genes_associations.equals(_tmp)"
   ]
  },
  {
   "cell_type": "markdown",
   "metadata": {},
   "source": [
    "# Apply alpha1 shrinkage"
   ]
  },
  {
   "cell_type": "code",
   "execution_count": 58,
   "metadata": {},
   "outputs": [
    {
     "data": {
      "text/plain": [
       "'/home/miltondp/projects/labs/hakyimlab/phenomexcan/base/analyses/fastenloc-alpha1-stats.tsv.gz'"
      ]
     },
     "metadata": {},
     "output_type": "display_data"
    }
   ],
   "source": [
    "input_file = output_file\n",
    "display(input_file)"
   ]
  },
  {
   "cell_type": "code",
   "execution_count": 59,
   "metadata": {},
   "outputs": [
    {
     "data": {
      "text/plain": [
       "'/home/miltondp/projects/labs/hakyimlab/phenomexcan/base/analyses/fastenloc-alpha1-stats-shrinkage.tsv'"
      ]
     },
     "metadata": {},
     "output_type": "display_data"
    }
   ],
   "source": [
    "output_file = os.path.splitext(input_file)[0]\n",
    "output_file = os.path.splitext(output_file)[0]\n",
    "output_file += '-shrinkage.tsv'\n",
    "display(output_file)"
   ]
  },
  {
   "cell_type": "code",
   "execution_count": 69,
   "metadata": {},
   "outputs": [
    {
     "name": "stdout",
     "output_type": "stream",
     "text": [
      "                tissue      trait  alpha0 alpha0_se  alpha1 alpha1_se\n",
      "1 Adipose_Subcutaneous 20002_1274 -11.993     0.371 -11.876  1039.978\n",
      "     Min.   1st Qu.    Median      Mean   3rd Qu.      Max. \n",
      "-0.189282 -0.000010 -0.000004  0.510731 -0.000001  7.340497 \n",
      "    Min.  1st Qu.   Median     Mean  3rd Qu.     Max. \n",
      "0.005446 0.999997 0.999999 0.887533 1.000000 1.000000 \n",
      "[1] 198401      8\n"
     ]
    }
   ],
   "source": [
    "!Rscript ../extras/fastenloc/apply_alpha1_shrinkage.r $input_file $output_file "
   ]
  },
  {
   "cell_type": "code",
   "execution_count": 70,
   "metadata": {},
   "outputs": [],
   "source": [
    "_tmp = pd.read_csv(output_file, sep='\\s+', header=None)\n",
    "_tmp = _tmp.rename(columns={\n",
    "    0: 'tissue',\n",
    "    1: 'trait',\n",
    "    2: 'alpha0',\n",
    "    3: 'alpha0_se',\n",
    "    4: 'alpha1',\n",
    "    5: 'alpha1_se',\n",
    "    6: 'alpha1_shrinkage',\n",
    "    7: 'alpha1_se_shrinkage',\n",
    "})"
   ]
  },
  {
   "cell_type": "code",
   "execution_count": 71,
   "metadata": {},
   "outputs": [],
   "source": [
    "_tmp.to_csv(output_file, sep='\\t', index=False)"
   ]
  },
  {
   "cell_type": "markdown",
   "metadata": {},
   "source": [
    "## Testing"
   ]
  },
  {
   "cell_type": "code",
   "execution_count": 72,
   "metadata": {
    "papermill": {
     "duration": 155.654781,
     "end_time": "2020-01-01T22:19:43.780431",
     "exception": false,
     "start_time": "2020-01-01T22:17:08.125650",
     "status": "completed"
    },
    "tags": []
   },
   "outputs": [],
   "source": [
    "# test \"for publication\" file\n",
    "_tmp = pd.read_csv(output_file, sep='\\t')"
   ]
  },
  {
   "cell_type": "code",
   "execution_count": 73,
   "metadata": {
    "papermill": {
     "duration": 0.138414,
     "end_time": "2020-01-01T22:19:44.016903",
     "exception": false,
     "start_time": "2020-01-01T22:19:43.878489",
     "status": "completed"
    },
    "tags": []
   },
   "outputs": [
    {
     "data": {
      "text/plain": [
       "(198401, 8)"
      ]
     },
     "metadata": {},
     "output_type": "display_data"
    }
   ],
   "source": [
    "display(_tmp.shape)\n",
    "assert _tmp.shape[0] == fastenloc_genes_associations.shape[0]"
   ]
  },
  {
   "cell_type": "code",
   "execution_count": 74,
   "metadata": {
    "papermill": {
     "duration": 0.171951,
     "end_time": "2020-01-01T22:19:44.283775",
     "exception": false,
     "start_time": "2020-01-01T22:19:44.111824",
     "status": "completed"
    },
    "tags": []
   },
   "outputs": [
    {
     "data": {
      "text/html": [
       "<div>\n",
       "<style scoped>\n",
       "    .dataframe tbody tr th:only-of-type {\n",
       "        vertical-align: middle;\n",
       "    }\n",
       "\n",
       "    .dataframe tbody tr th {\n",
       "        vertical-align: top;\n",
       "    }\n",
       "\n",
       "    .dataframe thead th {\n",
       "        text-align: right;\n",
       "    }\n",
       "</style>\n",
       "<table border=\"1\" class=\"dataframe\">\n",
       "  <thead>\n",
       "    <tr style=\"text-align: right;\">\n",
       "      <th></th>\n",
       "      <th>tissue</th>\n",
       "      <th>trait</th>\n",
       "      <th>alpha0</th>\n",
       "      <th>alpha0_se</th>\n",
       "      <th>alpha1</th>\n",
       "      <th>alpha1_se</th>\n",
       "      <th>alpha1_shrinkage</th>\n",
       "      <th>alpha1_se_shrinkage</th>\n",
       "    </tr>\n",
       "  </thead>\n",
       "  <tbody>\n",
       "    <tr>\n",
       "      <th>0</th>\n",
       "      <td>Adipose_Subcutaneous</td>\n",
       "      <td>20002_1274</td>\n",
       "      <td>-11.993</td>\n",
       "      <td>0.371</td>\n",
       "      <td>-11.876</td>\n",
       "      <td>1039.978</td>\n",
       "      <td>-0.000011</td>\n",
       "      <td>1.0</td>\n",
       "    </tr>\n",
       "    <tr>\n",
       "      <th>1</th>\n",
       "      <td>Adipose_Visceral_Omentum</td>\n",
       "      <td>20002_1274</td>\n",
       "      <td>-12.001</td>\n",
       "      <td>0.372</td>\n",
       "      <td>-11.836</td>\n",
       "      <td>1106.017</td>\n",
       "      <td>-0.000010</td>\n",
       "      <td>1.0</td>\n",
       "    </tr>\n",
       "    <tr>\n",
       "      <th>2</th>\n",
       "      <td>Adrenal_Gland</td>\n",
       "      <td>20002_1274</td>\n",
       "      <td>-11.998</td>\n",
       "      <td>0.372</td>\n",
       "      <td>-11.055</td>\n",
       "      <td>1182.881</td>\n",
       "      <td>-0.000008</td>\n",
       "      <td>1.0</td>\n",
       "    </tr>\n",
       "    <tr>\n",
       "      <th>3</th>\n",
       "      <td>Artery_Aorta</td>\n",
       "      <td>20002_1274</td>\n",
       "      <td>-11.992</td>\n",
       "      <td>0.372</td>\n",
       "      <td>-11.058</td>\n",
       "      <td>1019.484</td>\n",
       "      <td>-0.000011</td>\n",
       "      <td>1.0</td>\n",
       "    </tr>\n",
       "    <tr>\n",
       "      <th>4</th>\n",
       "      <td>Artery_Coronary</td>\n",
       "      <td>20002_1274</td>\n",
       "      <td>-12.004</td>\n",
       "      <td>0.372</td>\n",
       "      <td>-10.258</td>\n",
       "      <td>1115.669</td>\n",
       "      <td>-0.000008</td>\n",
       "      <td>1.0</td>\n",
       "    </tr>\n",
       "  </tbody>\n",
       "</table>\n",
       "</div>"
      ],
      "text/plain": [
       "                     tissue       trait  alpha0  alpha0_se  alpha1  alpha1_se  \\\n",
       "0      Adipose_Subcutaneous  20002_1274 -11.993      0.371 -11.876   1039.978   \n",
       "1  Adipose_Visceral_Omentum  20002_1274 -12.001      0.372 -11.836   1106.017   \n",
       "2             Adrenal_Gland  20002_1274 -11.998      0.372 -11.055   1182.881   \n",
       "3              Artery_Aorta  20002_1274 -11.992      0.372 -11.058   1019.484   \n",
       "4           Artery_Coronary  20002_1274 -12.004      0.372 -10.258   1115.669   \n",
       "\n",
       "   alpha1_shrinkage  alpha1_se_shrinkage  \n",
       "0         -0.000011                  1.0  \n",
       "1         -0.000010                  1.0  \n",
       "2         -0.000008                  1.0  \n",
       "3         -0.000011                  1.0  \n",
       "4         -0.000008                  1.0  "
      ]
     },
     "execution_count": 74,
     "metadata": {},
     "output_type": "execute_result"
    }
   ],
   "source": [
    "_tmp.head()"
   ]
  },
  {
   "cell_type": "code",
   "execution_count": 75,
   "metadata": {
    "papermill": {
     "duration": 8.759228,
     "end_time": "2020-01-01T22:19:53.138364",
     "exception": false,
     "start_time": "2020-01-01T22:19:44.379136",
     "status": "completed"
    },
    "tags": []
   },
   "outputs": [],
   "source": [
    "assert not _tmp.isin([np.inf, -np.inf]).any().any()"
   ]
  },
  {
   "cell_type": "code",
   "execution_count": 76,
   "metadata": {
    "papermill": {
     "duration": 9.139514,
     "end_time": "2020-01-01T22:20:02.368288",
     "exception": false,
     "start_time": "2020-01-01T22:19:53.228774",
     "status": "completed"
    },
    "tags": []
   },
   "outputs": [],
   "source": [
    "assert not _tmp.isna().any().any()"
   ]
  },
  {
   "cell_type": "code",
   "execution_count": 77,
   "metadata": {},
   "outputs": [],
   "source": [
    "assert np.array_equal(fastenloc_genes_associations.round(3), _tmp.iloc[:, 0:6].round(3))"
   ]
  },
  {
   "cell_type": "code",
   "execution_count": null,
   "metadata": {},
   "outputs": [],
   "source": []
  }
 ],
 "metadata": {
  "kernelspec": {
   "display_name": "Python 3",
   "language": "python",
   "name": "python3"
  },
  "language_info": {
   "codemirror_mode": {
    "name": "ipython",
    "version": 3
   },
   "file_extension": ".py",
   "mimetype": "text/x-python",
   "name": "python",
   "nbconvert_exporter": "python",
   "pygments_lexer": "ipython3",
   "version": "3.7.6"
  },
  "papermill": {
   "duration": 27890.451194,
   "end_time": "2020-01-01T22:26:45.407739",
   "environment_variables": {},
   "exception": null,
   "input_path": "100_postprocessing/05_fastenloc.ipynb",
   "output_path": "100_postprocessing/05_fastenloc.run.ipynb",
   "parameters": {},
   "start_time": "2020-01-01T14:41:54.956545",
   "version": "1.2.1"
  }
 },
 "nbformat": 4,
 "nbformat_minor": 4
}
