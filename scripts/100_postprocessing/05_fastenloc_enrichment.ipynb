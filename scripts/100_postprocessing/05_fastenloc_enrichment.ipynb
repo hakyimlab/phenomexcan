{
 "cells": [
  {
   "cell_type": "code",
   "execution_count": 1,
   "metadata": {
    "papermill": {
     "duration": 0.132557,
     "end_time": "2020-01-01T14:42:00.321571",
     "exception": false,
     "start_time": "2020-01-01T14:42:00.189014",
     "status": "completed"
    },
    "tags": []
   },
   "outputs": [],
   "source": [
    "%load_ext autoreload\n",
    "%autoreload 2"
   ]
  },
  {
   "cell_type": "code",
   "execution_count": 2,
   "metadata": {
    "papermill": {
     "duration": 6.033014,
     "end_time": "2020-01-01T14:42:06.428327",
     "exception": false,
     "start_time": "2020-01-01T14:42:00.395313",
     "status": "completed"
    },
    "tags": []
   },
   "outputs": [],
   "source": [
    "import os\n",
    "from glob import glob\n",
    "from concurrent.futures import ProcessPoolExecutor, as_completed\n",
    "\n",
    "import numpy as np\n",
    "import pandas as pd\n",
    "\n",
    "import settings as conf\n",
    "import metadata\n",
    "from utils import is_number, chunker\n",
    "from results.multixcan import MXPhenoInfo, MXPhenoResults"
   ]
  },
  {
   "cell_type": "markdown",
   "metadata": {
    "papermill": {
     "duration": 0.069285,
     "end_time": "2020-01-01T14:42:06.578877",
     "exception": false,
     "start_time": "2020-01-01T14:42:06.509592",
     "status": "completed"
    },
    "tags": []
   },
   "source": [
    "# fastENLOC reading functions"
   ]
  },
  {
   "cell_type": "code",
   "execution_count": 3,
   "metadata": {
    "papermill": {
     "duration": 0.180549,
     "end_time": "2020-01-01T14:42:06.837744",
     "exception": false,
     "start_time": "2020-01-01T14:42:06.657195",
     "status": "completed"
    },
    "tags": []
   },
   "outputs": [],
   "source": [
    "with open(conf.FASTENLOC_GTEX_TISSUES_FILE, 'r') as f:\n",
    "    FASTENLOC_TISSUES_NAMES = set([x.strip() for x in f.readlines()])"
   ]
  },
  {
   "cell_type": "code",
   "execution_count": 4,
   "metadata": {
    "papermill": {
     "duration": 39.960746,
     "end_time": "2020-01-01T14:42:46.876541",
     "exception": false,
     "start_time": "2020-01-01T14:42:06.915795",
     "status": "completed"
    },
    "tags": []
   },
   "outputs": [
    {
     "data": {
      "text/plain": [
       "'/mnt/phenomexcan_base/results/fastenloc/rapid_gwas_project/**/*.enloc.enrich.out'"
      ]
     },
     "metadata": {},
     "output_type": "display_data"
    }
   ],
   "source": [
    "# create summary of files\n",
    "_path = os.path.join(conf.FASTENLOC_RESULTS_DIR['RapidGWASProject'], '**/*.enloc.enrich.out')\n",
    "display(_path)\n",
    "all_fastenloc_results_files = glob(_path)"
   ]
  },
  {
   "cell_type": "code",
   "execution_count": 5,
   "metadata": {
    "papermill": {
     "duration": 0.118879,
     "end_time": "2020-01-01T14:42:47.074110",
     "exception": false,
     "start_time": "2020-01-01T14:42:46.955231",
     "status": "completed"
    },
    "tags": []
   },
   "outputs": [
    {
     "data": {
      "text/plain": [
       "198401"
      ]
     },
     "execution_count": 5,
     "metadata": {},
     "output_type": "execute_result"
    }
   ],
   "source": [
    "len(all_fastenloc_results_files)"
   ]
  },
  {
   "cell_type": "code",
   "execution_count": 6,
   "metadata": {
    "papermill": {
     "duration": 0.096255,
     "end_time": "2020-01-01T14:42:47.250129",
     "exception": false,
     "start_time": "2020-01-01T14:42:47.153874",
     "status": "completed"
    },
    "tags": []
   },
   "outputs": [],
   "source": [
    "PHENO_CODES = set(metadata.RAPID_GWAS_PHENO_INFO.index)"
   ]
  },
  {
   "cell_type": "code",
   "execution_count": 7,
   "metadata": {
    "papermill": {
     "duration": 0.107366,
     "end_time": "2020-01-01T14:42:47.434820",
     "exception": false,
     "start_time": "2020-01-01T14:42:47.327454",
     "status": "completed"
    },
    "tags": []
   },
   "outputs": [
    {
     "data": {
      "text/plain": [
       "4359"
      ]
     },
     "execution_count": 7,
     "metadata": {},
     "output_type": "execute_result"
    }
   ],
   "source": [
    "len(PHENO_CODES)"
   ]
  },
  {
   "cell_type": "code",
   "execution_count": 8,
   "metadata": {
    "papermill": {
     "duration": 1.115712,
     "end_time": "2020-01-01T14:42:48.625360",
     "exception": false,
     "start_time": "2020-01-01T14:42:47.509648",
     "status": "completed"
    },
    "tags": []
   },
   "outputs": [],
   "source": [
    "phenos = []\n",
    "tissues = []\n",
    "\n",
    "for f in all_fastenloc_results_files:\n",
    "    f = os.path.basename(f)\n",
    "    split = f.split('-')\n",
    "    \n",
    "    tiss = split[-1].split('.')[0]\n",
    "    if tiss not in FASTENLOC_TISSUES_NAMES:\n",
    "        tiss = '-'.join(split[-2:]).split('.')[0]\n",
    "    \n",
    "    phen = split[1]\n",
    "    if phen not in PHENO_CODES:\n",
    "        phen = '-'.join(split[1:3])\n",
    "    \n",
    "    phenos.append(phen)\n",
    "    tissues.append(tiss)\n",
    "\n",
    "results_summary = pd.DataFrame({'pheno': phenos, 'tissue': tissues, 'file': all_fastenloc_results_files})"
   ]
  },
  {
   "cell_type": "code",
   "execution_count": 9,
   "metadata": {
    "papermill": {
     "duration": 0.117795,
     "end_time": "2020-01-01T14:42:48.820284",
     "exception": false,
     "start_time": "2020-01-01T14:42:48.702489",
     "status": "completed"
    },
    "tags": []
   },
   "outputs": [
    {
     "data": {
      "text/plain": [
       "(198401, 3)"
      ]
     },
     "metadata": {},
     "output_type": "display_data"
    }
   ],
   "source": [
    "display(results_summary.shape)\n",
    "assert results_summary.shape[0] == int(conf.FASTENLOC_EXPECTED_PHENOTYPES['RapidGWASProject'] * conf.GTEX_MODELS_N_EXPECTED_TISSUES)"
   ]
  },
  {
   "cell_type": "code",
   "execution_count": 10,
   "metadata": {
    "papermill": {
     "duration": 0.202464,
     "end_time": "2020-01-01T14:42:49.097264",
     "exception": false,
     "start_time": "2020-01-01T14:42:48.894800",
     "status": "completed"
    },
    "tags": []
   },
   "outputs": [
    {
     "data": {
      "text/html": [
       "<div>\n",
       "<style scoped>\n",
       "    .dataframe tbody tr th:only-of-type {\n",
       "        vertical-align: middle;\n",
       "    }\n",
       "\n",
       "    .dataframe tbody tr th {\n",
       "        vertical-align: top;\n",
       "    }\n",
       "\n",
       "    .dataframe thead th {\n",
       "        text-align: right;\n",
       "    }\n",
       "</style>\n",
       "<table border=\"1\" class=\"dataframe\">\n",
       "  <thead>\n",
       "    <tr style=\"text-align: right;\">\n",
       "      <th></th>\n",
       "      <th>pheno</th>\n",
       "      <th>tissue</th>\n",
       "      <th>file</th>\n",
       "    </tr>\n",
       "  </thead>\n",
       "  <tbody>\n",
       "    <tr>\n",
       "      <th>0</th>\n",
       "      <td>22617_9219</td>\n",
       "      <td>Thyroid</td>\n",
       "      <td>/mnt/phenomexcan_base/results/fastenloc/rapid_...</td>\n",
       "    </tr>\n",
       "    <tr>\n",
       "      <th>1</th>\n",
       "      <td>22617_9219</td>\n",
       "      <td>Nerve_Tibial</td>\n",
       "      <td>/mnt/phenomexcan_base/results/fastenloc/rapid_...</td>\n",
       "    </tr>\n",
       "    <tr>\n",
       "      <th>2</th>\n",
       "      <td>22617_9219</td>\n",
       "      <td>Brain_Hypothalamus</td>\n",
       "      <td>/mnt/phenomexcan_base/results/fastenloc/rapid_...</td>\n",
       "    </tr>\n",
       "    <tr>\n",
       "      <th>3</th>\n",
       "      <td>22617_9219</td>\n",
       "      <td>Small_Intestine_Terminal_Ileum</td>\n",
       "      <td>/mnt/phenomexcan_base/results/fastenloc/rapid_...</td>\n",
       "    </tr>\n",
       "    <tr>\n",
       "      <th>4</th>\n",
       "      <td>22617_9219</td>\n",
       "      <td>Breast_Mammary_Tissue</td>\n",
       "      <td>/mnt/phenomexcan_base/results/fastenloc/rapid_...</td>\n",
       "    </tr>\n",
       "  </tbody>\n",
       "</table>\n",
       "</div>"
      ],
      "text/plain": [
       "        pheno                          tissue  \\\n",
       "0  22617_9219                         Thyroid   \n",
       "1  22617_9219                    Nerve_Tibial   \n",
       "2  22617_9219              Brain_Hypothalamus   \n",
       "3  22617_9219  Small_Intestine_Terminal_Ileum   \n",
       "4  22617_9219           Breast_Mammary_Tissue   \n",
       "\n",
       "                                                file  \n",
       "0  /mnt/phenomexcan_base/results/fastenloc/rapid_...  \n",
       "1  /mnt/phenomexcan_base/results/fastenloc/rapid_...  \n",
       "2  /mnt/phenomexcan_base/results/fastenloc/rapid_...  \n",
       "3  /mnt/phenomexcan_base/results/fastenloc/rapid_...  \n",
       "4  /mnt/phenomexcan_base/results/fastenloc/rapid_...  "
      ]
     },
     "execution_count": 10,
     "metadata": {},
     "output_type": "execute_result"
    }
   ],
   "source": [
    "results_summary.head()"
   ]
  },
  {
   "cell_type": "code",
   "execution_count": 11,
   "metadata": {
    "papermill": {
     "duration": 0.131322,
     "end_time": "2020-01-01T14:42:49.303053",
     "exception": false,
     "start_time": "2020-01-01T14:42:49.171731",
     "status": "completed"
    },
    "tags": []
   },
   "outputs": [
    {
     "data": {
      "text/plain": [
       "(4049,)"
      ]
     },
     "execution_count": 11,
     "metadata": {},
     "output_type": "execute_result"
    }
   ],
   "source": [
    "results_summary['pheno'].unique().shape"
   ]
  },
  {
   "cell_type": "code",
   "execution_count": 12,
   "metadata": {
    "papermill": {
     "duration": 0.146826,
     "end_time": "2020-01-01T14:42:49.537990",
     "exception": false,
     "start_time": "2020-01-01T14:42:49.391164",
     "status": "completed"
    },
    "tags": []
   },
   "outputs": [],
   "source": [
    "assert np.all([t in PHENO_CODES for t in results_summary['pheno'].unique()])"
   ]
  },
  {
   "cell_type": "code",
   "execution_count": 13,
   "metadata": {
    "papermill": {
     "duration": 0.146905,
     "end_time": "2020-01-01T14:42:49.764111",
     "exception": false,
     "start_time": "2020-01-01T14:42:49.617206",
     "status": "completed"
    },
    "tags": []
   },
   "outputs": [],
   "source": [
    "assert results_summary['tissue'].unique().shape[0] == conf.GTEX_MODELS_N_EXPECTED_TISSUES"
   ]
  },
  {
   "cell_type": "code",
   "execution_count": 14,
   "metadata": {
    "papermill": {
     "duration": 0.132117,
     "end_time": "2020-01-01T14:42:49.974356",
     "exception": false,
     "start_time": "2020-01-01T14:42:49.842239",
     "status": "completed"
    },
    "tags": []
   },
   "outputs": [],
   "source": [
    "assert np.all([t in FASTENLOC_TISSUES_NAMES for t in results_summary['tissue'].unique()])"
   ]
  },
  {
   "cell_type": "code",
   "execution_count": 15,
   "metadata": {
    "papermill": {
     "duration": 0.141492,
     "end_time": "2020-01-01T14:42:50.201566",
     "exception": false,
     "start_time": "2020-01-01T14:42:50.060074",
     "status": "completed"
    },
    "tags": []
   },
   "outputs": [],
   "source": [
    "_all_tissues_in_results = results_summary['tissue'].unique()\n",
    "assert np.all([t in _all_tissues_in_results for t in FASTENLOC_TISSUES_NAMES])"
   ]
  },
  {
   "cell_type": "code",
   "execution_count": 16,
   "metadata": {
    "papermill": {
     "duration": 0.112839,
     "end_time": "2020-01-01T14:42:50.393554",
     "exception": false,
     "start_time": "2020-01-01T14:42:50.280715",
     "status": "completed"
    },
    "tags": []
   },
   "outputs": [],
   "source": [
    "assert len(all_fastenloc_results_files) == int(conf.SMULTIXCAN_EXPECTED_PHENOTYPES['RapidGWASProject'] * conf.GTEX_MODELS_N_EXPECTED_TISSUES)"
   ]
  },
  {
   "cell_type": "code",
   "execution_count": 72,
   "metadata": {
    "papermill": {
     "duration": 0.110488,
     "end_time": "2020-01-01T14:42:50.587778",
     "exception": false,
     "start_time": "2020-01-01T14:42:50.477290",
     "status": "completed"
    },
    "tags": []
   },
   "outputs": [],
   "source": [
    "def read_fe_enrich(filename):\n",
    "    enrich_data = pd.read_fwf(filename, header=None)\n",
    "    enrich_data = enrich_data.rename(columns={0: 'type', 1: 'alpha', 2: 'se'})\n",
    "    assert enrich_data.shape[0] == 3\n",
    "    \n",
    "    alpha0_data = enrich_data[enrich_data['type'] == 'Intercept']\n",
    "    assert alpha0_data.shape[0] == 1\n",
    "    alpha0_data = alpha0_data.iloc[0].loc[['alpha', 'se']]\\\n",
    "        .rename({'alpha': 'alpha0', 'se': 'alpha0_se'}).astype(float)\n",
    "    \n",
    "    alpha1_data = enrich_data[enrich_data['type'] == 'Enrichment (likelihood)']\n",
    "    assert alpha1_data.shape[0] == 1\n",
    "    alpha1_data = alpha1_data.iloc[0].loc[['alpha', 'se']]\\\n",
    "        .rename({'alpha': 'alpha1', 'se': 'alpha1_se'}).astype(float)\n",
    "    \n",
    "    alpha1_s_data = enrich_data[enrich_data['type'] == 'Enrichment (shrinkage)']\n",
    "    assert alpha1_s_data.shape[0] == 1\n",
    "    alpha1_s_data = alpha1_s_data.iloc[0].loc[['alpha', 'se']]\\\n",
    "        .rename({'alpha': 'alpha1_shrinkage', 'se': 'alpha1_shrinkage_se'}).astype(float)\n",
    "    \n",
    "    df = pd.concat([alpha0_data, alpha1_data, alpha1_s_data])\n",
    "    return df\n",
    "    \n",
    "\n",
    "def read_fe_enrich_pheno(pheno): \n",
    "    _tmp = results_summary[results_summary['pheno'] == pheno] \n",
    "    if _tmp.shape[0] == 0: \n",
    "        return None \n",
    "     \n",
    "    _res = {}\n",
    "#     _all_genes = set()\n",
    "    for idx, _data in _tmp.iterrows():\n",
    "        tissue_data = read_fe_enrich(_data.file).rename(_data.pheno)\n",
    "        _res[_data.tissue] = tissue_data\n",
    "#         _all_genes.update(tissue_data.index) \n",
    "    \n",
    "    df = pd.DataFrame.from_dict(_res, orient='index')#.T#, index=_all_genes)#.fillna(-1).max(axis=1)\n",
    "    df.index.rename('tissue', inplace=True)\n",
    "    df = df.reset_index().assign(trait=pheno)\n",
    "    return df[['tissue', 'trait', 'alpha0', 'alpha0_se', 'alpha1', 'alpha1_se', 'alpha1_shrinkage', 'alpha1_shrinkage_se']]"
   ]
  },
  {
   "cell_type": "code",
   "execution_count": 73,
   "metadata": {},
   "outputs": [
    {
     "data": {
      "text/plain": [
       "'/mnt/phenomexcan_base/results/fastenloc/rapid_gwas_project/22617_9219/fastenloc-22617_9219-Nerve_Tibial.enloc.enrich.out'"
      ]
     },
     "execution_count": 73,
     "metadata": {},
     "output_type": "execute_result"
    }
   ],
   "source": [
    "results_summary.iloc[1].loc['file']"
   ]
  },
  {
   "cell_type": "code",
   "execution_count": 74,
   "metadata": {},
   "outputs": [
    {
     "data": {
      "text/plain": [
       "alpha0                  -13.786\n",
       "alpha0_se                 0.339\n",
       "alpha1                   -2.092\n",
       "alpha1_se              2334.334\n",
       "alpha1_shrinkage         -0.000\n",
       "alpha1_shrinkage_se       1.000\n",
       "dtype: float64"
      ]
     },
     "execution_count": 74,
     "metadata": {},
     "output_type": "execute_result"
    }
   ],
   "source": [
    "read_fe_enrich(results_summary.iloc[1].loc['file'])"
   ]
  },
  {
   "cell_type": "code",
   "execution_count": 75,
   "metadata": {},
   "outputs": [
    {
     "data": {
      "text/html": [
       "<div>\n",
       "<style scoped>\n",
       "    .dataframe tbody tr th:only-of-type {\n",
       "        vertical-align: middle;\n",
       "    }\n",
       "\n",
       "    .dataframe tbody tr th {\n",
       "        vertical-align: top;\n",
       "    }\n",
       "\n",
       "    .dataframe thead th {\n",
       "        text-align: right;\n",
       "    }\n",
       "</style>\n",
       "<table border=\"1\" class=\"dataframe\">\n",
       "  <thead>\n",
       "    <tr style=\"text-align: right;\">\n",
       "      <th></th>\n",
       "      <th>tissue</th>\n",
       "      <th>trait</th>\n",
       "      <th>alpha0</th>\n",
       "      <th>alpha0_se</th>\n",
       "      <th>alpha1</th>\n",
       "      <th>alpha1_se</th>\n",
       "      <th>alpha1_shrinkage</th>\n",
       "      <th>alpha1_shrinkage_se</th>\n",
       "    </tr>\n",
       "  </thead>\n",
       "  <tbody>\n",
       "    <tr>\n",
       "      <th>0</th>\n",
       "      <td>Adipose_Subcutaneous</td>\n",
       "      <td>22617_9219</td>\n",
       "      <td>-13.771</td>\n",
       "      <td>0.335</td>\n",
       "      <td>-9.018</td>\n",
       "      <td>3740.240</td>\n",
       "      <td>-0.000</td>\n",
       "      <td>1.000</td>\n",
       "    </tr>\n",
       "    <tr>\n",
       "      <th>1</th>\n",
       "      <td>Adipose_Visceral_Omentum</td>\n",
       "      <td>22617_9219</td>\n",
       "      <td>-13.806</td>\n",
       "      <td>0.341</td>\n",
       "      <td>5.588</td>\n",
       "      <td>2.327</td>\n",
       "      <td>0.871</td>\n",
       "      <td>0.919</td>\n",
       "    </tr>\n",
       "    <tr>\n",
       "      <th>2</th>\n",
       "      <td>Adrenal_Gland</td>\n",
       "      <td>22617_9219</td>\n",
       "      <td>-13.795</td>\n",
       "      <td>0.339</td>\n",
       "      <td>2.430</td>\n",
       "      <td>2245.330</td>\n",
       "      <td>0.000</td>\n",
       "      <td>1.000</td>\n",
       "    </tr>\n",
       "    <tr>\n",
       "      <th>3</th>\n",
       "      <td>Artery_Aorta</td>\n",
       "      <td>22617_9219</td>\n",
       "      <td>-13.759</td>\n",
       "      <td>0.333</td>\n",
       "      <td>-13.785</td>\n",
       "      <td>6920.785</td>\n",
       "      <td>-0.000</td>\n",
       "      <td>1.000</td>\n",
       "    </tr>\n",
       "    <tr>\n",
       "      <th>4</th>\n",
       "      <td>Artery_Coronary</td>\n",
       "      <td>22617_9219</td>\n",
       "      <td>-13.781</td>\n",
       "      <td>0.337</td>\n",
       "      <td>-7.001</td>\n",
       "      <td>5998.139</td>\n",
       "      <td>-0.000</td>\n",
       "      <td>1.000</td>\n",
       "    </tr>\n",
       "  </tbody>\n",
       "</table>\n",
       "</div>"
      ],
      "text/plain": [
       "                     tissue       trait  alpha0  alpha0_se  alpha1  alpha1_se  \\\n",
       "0      Adipose_Subcutaneous  22617_9219 -13.771      0.335  -9.018   3740.240   \n",
       "1  Adipose_Visceral_Omentum  22617_9219 -13.806      0.341   5.588      2.327   \n",
       "2             Adrenal_Gland  22617_9219 -13.795      0.339   2.430   2245.330   \n",
       "3              Artery_Aorta  22617_9219 -13.759      0.333 -13.785   6920.785   \n",
       "4           Artery_Coronary  22617_9219 -13.781      0.337  -7.001   5998.139   \n",
       "\n",
       "   alpha1_shrinkage  alpha1_shrinkage_se  \n",
       "0            -0.000                1.000  \n",
       "1             0.871                0.919  \n",
       "2             0.000                1.000  \n",
       "3            -0.000                1.000  \n",
       "4            -0.000                1.000  "
      ]
     },
     "execution_count": 75,
     "metadata": {},
     "output_type": "execute_result"
    }
   ],
   "source": [
    "read_fe_enrich_pheno('22617_9219').head()"
   ]
  },
  {
   "cell_type": "markdown",
   "metadata": {
    "papermill": {
     "duration": 0.07331,
     "end_time": "2020-01-01T14:42:50.737970",
     "exception": false,
     "start_time": "2020-01-01T14:42:50.664660",
     "status": "completed"
    },
    "tags": []
   },
   "source": [
    "### Testing"
   ]
  },
  {
   "cell_type": "code",
   "execution_count": 76,
   "metadata": {
    "papermill": {
     "duration": 0.566742,
     "end_time": "2020-01-01T14:42:51.382127",
     "exception": false,
     "start_time": "2020-01-01T14:42:50.815385",
     "status": "completed"
    },
    "tags": []
   },
   "outputs": [],
   "source": [
    "# testing\n",
    "t = read_fe_enrich(os.path.join(conf.FASTENLOC_RESULTS_DIR['RapidGWASProject'], 'J15/fastenloc-J15-Whole_Blood.enloc.enrich.out'))"
   ]
  },
  {
   "cell_type": "code",
   "execution_count": 78,
   "metadata": {},
   "outputs": [],
   "source": [
    "if 'alpha1_shrinkage' not in t.index:\n",
    "    assert t['alpha0'] == -11.752\n",
    "    assert t['alpha0_se'] == 0.350\n",
    "\n",
    "    assert t['alpha1'] == -11.286\n",
    "    assert t['alpha1_se'] == 764.307\n",
    "else:\n",
    "    assert t['alpha0'] == -11.620\n",
    "    assert t['alpha0_se'] == 0.114\n",
    "\n",
    "    assert t['alpha1'].round(3) == -13.851\n",
    "    assert t['alpha1_se'] == 2491.946\n",
    "    \n",
    "    assert t['alpha1_shrinkage'] == -0.000\n",
    "    assert t['alpha1_shrinkage_se'] == 1.000"
   ]
  },
  {
   "cell_type": "code",
   "execution_count": 79,
   "metadata": {
    "papermill": {
     "duration": 17.639054,
     "end_time": "2020-01-01T14:43:09.829463",
     "exception": false,
     "start_time": "2020-01-01T14:42:52.190409",
     "status": "completed"
    },
    "tags": []
   },
   "outputs": [],
   "source": [
    "t = read_fe_enrich_pheno('J15')"
   ]
  },
  {
   "cell_type": "code",
   "execution_count": 80,
   "metadata": {},
   "outputs": [],
   "source": [
    "assert t.shape[0] == conf.GTEX_MODELS_N_EXPECTED_TISSUES"
   ]
  },
  {
   "cell_type": "code",
   "execution_count": 81,
   "metadata": {
    "papermill": {
     "duration": 0.123097,
     "end_time": "2020-01-01T14:43:10.049492",
     "exception": false,
     "start_time": "2020-01-01T14:43:09.926395",
     "status": "completed"
    },
    "tags": []
   },
   "outputs": [
    {
     "data": {
      "text/html": [
       "<div>\n",
       "<style scoped>\n",
       "    .dataframe tbody tr th:only-of-type {\n",
       "        vertical-align: middle;\n",
       "    }\n",
       "\n",
       "    .dataframe tbody tr th {\n",
       "        vertical-align: top;\n",
       "    }\n",
       "\n",
       "    .dataframe thead th {\n",
       "        text-align: right;\n",
       "    }\n",
       "</style>\n",
       "<table border=\"1\" class=\"dataframe\">\n",
       "  <thead>\n",
       "    <tr style=\"text-align: right;\">\n",
       "      <th></th>\n",
       "      <th>tissue</th>\n",
       "      <th>trait</th>\n",
       "      <th>alpha0</th>\n",
       "      <th>alpha0_se</th>\n",
       "      <th>alpha1</th>\n",
       "      <th>alpha1_se</th>\n",
       "      <th>alpha1_shrinkage</th>\n",
       "      <th>alpha1_shrinkage_se</th>\n",
       "    </tr>\n",
       "  </thead>\n",
       "  <tbody>\n",
       "    <tr>\n",
       "      <th>0</th>\n",
       "      <td>Adipose_Subcutaneous</td>\n",
       "      <td>J15</td>\n",
       "      <td>-11.612</td>\n",
       "      <td>0.114</td>\n",
       "      <td>-14.541</td>\n",
       "      <td>3148.718</td>\n",
       "      <td>-0.0</td>\n",
       "      <td>1.0</td>\n",
       "    </tr>\n",
       "    <tr>\n",
       "      <th>1</th>\n",
       "      <td>Adipose_Visceral_Omentum</td>\n",
       "      <td>J15</td>\n",
       "      <td>-11.618</td>\n",
       "      <td>0.114</td>\n",
       "      <td>-14.123</td>\n",
       "      <td>2916.263</td>\n",
       "      <td>-0.0</td>\n",
       "      <td>1.0</td>\n",
       "    </tr>\n",
       "    <tr>\n",
       "      <th>2</th>\n",
       "      <td>Adrenal_Gland</td>\n",
       "      <td>J15</td>\n",
       "      <td>-11.621</td>\n",
       "      <td>0.114</td>\n",
       "      <td>-14.158</td>\n",
       "      <td>3494.905</td>\n",
       "      <td>-0.0</td>\n",
       "      <td>1.0</td>\n",
       "    </tr>\n",
       "    <tr>\n",
       "      <th>3</th>\n",
       "      <td>Artery_Aorta</td>\n",
       "      <td>J15</td>\n",
       "      <td>-11.615</td>\n",
       "      <td>0.114</td>\n",
       "      <td>-14.494</td>\n",
       "      <td>3321.603</td>\n",
       "      <td>-0.0</td>\n",
       "      <td>1.0</td>\n",
       "    </tr>\n",
       "    <tr>\n",
       "      <th>4</th>\n",
       "      <td>Artery_Coronary</td>\n",
       "      <td>J15</td>\n",
       "      <td>-11.621</td>\n",
       "      <td>0.114</td>\n",
       "      <td>-14.408</td>\n",
       "      <td>4208.734</td>\n",
       "      <td>-0.0</td>\n",
       "      <td>1.0</td>\n",
       "    </tr>\n",
       "  </tbody>\n",
       "</table>\n",
       "</div>"
      ],
      "text/plain": [
       "                     tissue trait  alpha0  alpha0_se  alpha1  alpha1_se  \\\n",
       "0      Adipose_Subcutaneous   J15 -11.612      0.114 -14.541   3148.718   \n",
       "1  Adipose_Visceral_Omentum   J15 -11.618      0.114 -14.123   2916.263   \n",
       "2             Adrenal_Gland   J15 -11.621      0.114 -14.158   3494.905   \n",
       "3              Artery_Aorta   J15 -11.615      0.114 -14.494   3321.603   \n",
       "4           Artery_Coronary   J15 -11.621      0.114 -14.408   4208.734   \n",
       "\n",
       "   alpha1_shrinkage  alpha1_shrinkage_se  \n",
       "0              -0.0                  1.0  \n",
       "1              -0.0                  1.0  \n",
       "2              -0.0                  1.0  \n",
       "3              -0.0                  1.0  \n",
       "4              -0.0                  1.0  "
      ]
     },
     "execution_count": 81,
     "metadata": {},
     "output_type": "execute_result"
    }
   ],
   "source": [
    "t.head()"
   ]
  },
  {
   "cell_type": "code",
   "execution_count": 93,
   "metadata": {
    "papermill": {
     "duration": 0.189426,
     "end_time": "2020-01-01T14:43:10.519167",
     "exception": false,
     "start_time": "2020-01-01T14:43:10.329741",
     "status": "completed"
    },
    "tags": []
   },
   "outputs": [],
   "source": [
    "if 'alpha1_shrinkage' not in t.columns:\n",
    "    _t_tmp = t[t['tissue'] == 'Adipose_Visceral_Omentum'].iloc[0]\n",
    "    assert _t_tmp['tissue'] == 'Adipose_Visceral_Omentum'\n",
    "    assert _t_tmp['trait'] == 'J15'\n",
    "    assert _t_tmp['alpha0'] == -11.747\n",
    "    assert _t_tmp['alpha0_se'].round(3) == 0.349\n",
    "    assert _t_tmp['alpha1'] == -11.061\n",
    "    assert _t_tmp['alpha1_se'].round(3) == 877.891\n",
    "\n",
    "    _t_tmp = t[t['tissue'] == 'Artery_Coronary'].iloc[0]\n",
    "    assert _t_tmp['tissue'] == 'Artery_Coronary'\n",
    "    assert _t_tmp['trait'] == 'J15'\n",
    "    assert _t_tmp['alpha0'].round(3) == -11.736\n",
    "    assert _t_tmp['alpha0_se'].round(3) == 0.348\n",
    "    assert _t_tmp['alpha1'].round(3) == -11.979\n",
    "    assert _t_tmp['alpha1_se'].round(3) == 1336.767\n",
    "else:\n",
    "    _t_tmp = t[t['tissue'] == 'Adipose_Visceral_Omentum'].iloc[0]\n",
    "    assert _t_tmp['tissue'] == 'Adipose_Visceral_Omentum'\n",
    "    assert _t_tmp['trait'] == 'J15'\n",
    "    assert _t_tmp['alpha0'] == -11.618\n",
    "    assert _t_tmp['alpha0_se'].round(3) == 0.114\n",
    "    assert _t_tmp['alpha1'] == -14.123\n",
    "    assert _t_tmp['alpha1_se'].round(3) == 2916.263\n",
    "    assert _t_tmp['alpha1_shrinkage'] == -0.000\n",
    "    assert _t_tmp['alpha1_shrinkage_se'].round(3) == 1.000\n",
    "\n",
    "    _t_tmp = t[t['tissue'] == 'Artery_Coronary'].iloc[0]\n",
    "    assert _t_tmp['tissue'] == 'Artery_Coronary'\n",
    "    assert _t_tmp['trait'] == 'J15'\n",
    "    assert _t_tmp['alpha0'].round(3) == -11.621\n",
    "    assert _t_tmp['alpha0_se'].round(3) == 0.114\n",
    "    assert _t_tmp['alpha1'].round(3) == -14.408\n",
    "    assert _t_tmp['alpha1_se'].round(3) == 4208.734\n",
    "    assert _t_tmp['alpha1_shrinkage'] == -0.000\n",
    "    assert _t_tmp['alpha1_shrinkage_se'].round(3) == 1.000"
   ]
  },
  {
   "cell_type": "markdown",
   "metadata": {
    "papermill": {
     "duration": 0.07472,
     "end_time": "2020-01-01T14:43:14.230518",
     "exception": false,
     "start_time": "2020-01-01T14:43:14.155798",
     "status": "completed"
    },
    "tags": []
   },
   "source": [
    "# Get Rapid GWAS phenotypes"
   ]
  },
  {
   "cell_type": "code",
   "execution_count": 94,
   "metadata": {
    "papermill": {
     "duration": 2.91436,
     "end_time": "2020-01-01T14:43:17.223430",
     "exception": false,
     "start_time": "2020-01-01T14:43:14.309070",
     "status": "completed"
    },
    "tags": []
   },
   "outputs": [],
   "source": [
    "all_smultixcan_files = glob(os.path.join(conf.SMULTIXCAN_RESULTS_DIR['RapidGWASProject'], '*.tsv.gz'))\n",
    "all_smultixcan_phenotypes = [MXPhenoResults(p) for p in all_smultixcan_files]"
   ]
  },
  {
   "cell_type": "code",
   "execution_count": 95,
   "metadata": {
    "papermill": {
     "duration": 0.112869,
     "end_time": "2020-01-01T14:43:17.418185",
     "exception": false,
     "start_time": "2020-01-01T14:43:17.305316",
     "status": "completed"
    },
    "tags": []
   },
   "outputs": [],
   "source": [
    "assert len(all_smultixcan_files) == len(all_smultixcan_phenotypes) == conf.SMULTIXCAN_EXPECTED_PHENOTYPES['RapidGWASProject']"
   ]
  },
  {
   "cell_type": "code",
   "execution_count": 96,
   "metadata": {
    "papermill": {
     "duration": 0.116331,
     "end_time": "2020-01-01T14:43:17.609920",
     "exception": false,
     "start_time": "2020-01-01T14:43:17.493589",
     "status": "completed"
    },
    "tags": []
   },
   "outputs": [
    {
     "data": {
      "text/plain": [
       "['/mnt/phenomexcan_base/results/smultixcan/rapid_gwas_project/smultixcan_20096_1_ccn30.tsv.gz',\n",
       " '/mnt/phenomexcan_base/results/smultixcan/rapid_gwas_project/smultixcan_2345_ccn30.tsv.gz',\n",
       " '/mnt/phenomexcan_base/results/smultixcan/rapid_gwas_project/smultixcan_N49_ccn30.tsv.gz',\n",
       " '/mnt/phenomexcan_base/results/smultixcan/rapid_gwas_project/smultixcan_100011_raw_ccn30.tsv.gz',\n",
       " '/mnt/phenomexcan_base/results/smultixcan/rapid_gwas_project/smultixcan_5221_ccn30.tsv.gz']"
      ]
     },
     "execution_count": 96,
     "metadata": {},
     "output_type": "execute_result"
    }
   ],
   "source": [
    "all_smultixcan_files[:5]"
   ]
  },
  {
   "cell_type": "markdown",
   "metadata": {
    "papermill": {
     "duration": 0.078363,
     "end_time": "2020-01-01T14:43:19.386865",
     "exception": false,
     "start_time": "2020-01-01T14:43:19.308502",
     "status": "completed"
    },
    "tags": []
   },
   "source": [
    "# Read all results"
   ]
  },
  {
   "cell_type": "code",
   "execution_count": 97,
   "metadata": {
    "papermill": {
     "duration": 0.112338,
     "end_time": "2020-01-01T14:43:19.589216",
     "exception": false,
     "start_time": "2020-01-01T14:43:19.476878",
     "status": "completed"
    },
    "tags": []
   },
   "outputs": [],
   "source": [
    "def _get_combined_results(phenos):\n",
    "    all_res = [read_fe_enrich_pheno(pheno.pheno_info.pheno_code) for pheno in phenos]\n",
    "    return pd.concat(all_res, ignore_index=True)"
   ]
  },
  {
   "cell_type": "code",
   "execution_count": 98,
   "metadata": {
    "papermill": {
     "duration": 68.923949,
     "end_time": "2020-01-01T14:44:28.598205",
     "exception": false,
     "start_time": "2020-01-01T14:43:19.674256",
     "status": "completed"
    },
    "tags": []
   },
   "outputs": [],
   "source": [
    "# testing\n",
    "_tmp = _get_combined_results(all_smultixcan_phenotypes[:4])\n",
    "assert _tmp.shape[0] == int(4 * 49)"
   ]
  },
  {
   "cell_type": "code",
   "execution_count": 99,
   "metadata": {
    "papermill": {
     "duration": 16.626,
     "end_time": "2020-01-01T14:44:52.964598",
     "exception": false,
     "start_time": "2020-01-01T14:44:36.338598",
     "status": "completed"
    },
    "tags": []
   },
   "outputs": [],
   "source": [
    "_pending = read_fe_enrich_pheno('C_MYELOID-LEUKAEMIA')"
   ]
  },
  {
   "cell_type": "code",
   "execution_count": 100,
   "metadata": {
    "papermill": {
     "duration": 0.129596,
     "end_time": "2020-01-01T14:44:53.201312",
     "exception": false,
     "start_time": "2020-01-01T14:44:53.071716",
     "status": "completed"
    },
    "tags": []
   },
   "outputs": [
    {
     "data": {
      "text/html": [
       "<div>\n",
       "<style scoped>\n",
       "    .dataframe tbody tr th:only-of-type {\n",
       "        vertical-align: middle;\n",
       "    }\n",
       "\n",
       "    .dataframe tbody tr th {\n",
       "        vertical-align: top;\n",
       "    }\n",
       "\n",
       "    .dataframe thead th {\n",
       "        text-align: right;\n",
       "    }\n",
       "</style>\n",
       "<table border=\"1\" class=\"dataframe\">\n",
       "  <thead>\n",
       "    <tr style=\"text-align: right;\">\n",
       "      <th></th>\n",
       "      <th>tissue</th>\n",
       "      <th>trait</th>\n",
       "      <th>alpha0</th>\n",
       "      <th>alpha0_se</th>\n",
       "      <th>alpha1</th>\n",
       "      <th>alpha1_se</th>\n",
       "      <th>alpha1_shrinkage</th>\n",
       "      <th>alpha1_shrinkage_se</th>\n",
       "    </tr>\n",
       "  </thead>\n",
       "  <tbody>\n",
       "    <tr>\n",
       "      <th>0</th>\n",
       "      <td>Adipose_Subcutaneous</td>\n",
       "      <td>C_MYELOID-LEUKAEMIA</td>\n",
       "      <td>-12.629</td>\n",
       "      <td>0.189</td>\n",
       "      <td>-14.168</td>\n",
       "      <td>4349.300</td>\n",
       "      <td>-0.0</td>\n",
       "      <td>1.0</td>\n",
       "    </tr>\n",
       "    <tr>\n",
       "      <th>1</th>\n",
       "      <td>Adipose_Visceral_Omentum</td>\n",
       "      <td>C_MYELOID-LEUKAEMIA</td>\n",
       "      <td>-12.635</td>\n",
       "      <td>0.190</td>\n",
       "      <td>-12.395</td>\n",
       "      <td>5047.165</td>\n",
       "      <td>-0.0</td>\n",
       "      <td>1.0</td>\n",
       "    </tr>\n",
       "    <tr>\n",
       "      <th>2</th>\n",
       "      <td>Adrenal_Gland</td>\n",
       "      <td>C_MYELOID-LEUKAEMIA</td>\n",
       "      <td>-12.640</td>\n",
       "      <td>0.190</td>\n",
       "      <td>-14.214</td>\n",
       "      <td>5881.797</td>\n",
       "      <td>-0.0</td>\n",
       "      <td>1.0</td>\n",
       "    </tr>\n",
       "    <tr>\n",
       "      <th>3</th>\n",
       "      <td>Artery_Aorta</td>\n",
       "      <td>C_MYELOID-LEUKAEMIA</td>\n",
       "      <td>-12.638</td>\n",
       "      <td>0.190</td>\n",
       "      <td>-13.551</td>\n",
       "      <td>3721.215</td>\n",
       "      <td>-0.0</td>\n",
       "      <td>1.0</td>\n",
       "    </tr>\n",
       "    <tr>\n",
       "      <th>4</th>\n",
       "      <td>Artery_Coronary</td>\n",
       "      <td>C_MYELOID-LEUKAEMIA</td>\n",
       "      <td>-12.642</td>\n",
       "      <td>0.191</td>\n",
       "      <td>-14.163</td>\n",
       "      <td>6317.918</td>\n",
       "      <td>-0.0</td>\n",
       "      <td>1.0</td>\n",
       "    </tr>\n",
       "  </tbody>\n",
       "</table>\n",
       "</div>"
      ],
      "text/plain": [
       "                     tissue                trait  alpha0  alpha0_se  alpha1  \\\n",
       "0      Adipose_Subcutaneous  C_MYELOID-LEUKAEMIA -12.629      0.189 -14.168   \n",
       "1  Adipose_Visceral_Omentum  C_MYELOID-LEUKAEMIA -12.635      0.190 -12.395   \n",
       "2             Adrenal_Gland  C_MYELOID-LEUKAEMIA -12.640      0.190 -14.214   \n",
       "3              Artery_Aorta  C_MYELOID-LEUKAEMIA -12.638      0.190 -13.551   \n",
       "4           Artery_Coronary  C_MYELOID-LEUKAEMIA -12.642      0.191 -14.163   \n",
       "\n",
       "   alpha1_se  alpha1_shrinkage  alpha1_shrinkage_se  \n",
       "0   4349.300              -0.0                  1.0  \n",
       "1   5047.165              -0.0                  1.0  \n",
       "2   5881.797              -0.0                  1.0  \n",
       "3   3721.215              -0.0                  1.0  \n",
       "4   6317.918              -0.0                  1.0  "
      ]
     },
     "execution_count": 100,
     "metadata": {},
     "output_type": "execute_result"
    }
   ],
   "source": [
    "_pending.head()"
   ]
  },
  {
   "cell_type": "code",
   "execution_count": 101,
   "metadata": {
    "papermill": {
     "duration": 0.111838,
     "end_time": "2020-01-01T14:44:55.262543",
     "exception": false,
     "start_time": "2020-01-01T14:44:55.150705",
     "status": "completed"
    },
    "tags": []
   },
   "outputs": [],
   "source": [
    "def _run_all(phenotype_chunks, n_jobs=conf.N_JOBS_HIGH):\n",
    "    all_results = []\n",
    "    \n",
    "    with ProcessPoolExecutor(max_workers=n_jobs) as executor:\n",
    "        tasks = [executor.submit(_get_combined_results, chunk) for chunk in phenotype_chunks]\n",
    "        for future in as_completed(tasks):\n",
    "            res = future.result()\n",
    "            all_results.append(res)\n",
    "\n",
    "    return all_results"
   ]
  },
  {
   "cell_type": "code",
   "execution_count": 102,
   "metadata": {
    "papermill": {
     "duration": 0.118998,
     "end_time": "2020-01-01T14:44:55.465849",
     "exception": false,
     "start_time": "2020-01-01T14:44:55.346851",
     "status": "completed"
    },
    "tags": []
   },
   "outputs": [],
   "source": [
    "# phenotype_chunks = chunker(all_smultixcan_phenotypes[:5] + all_extra_phenotypes[:5], 2)\n",
    "phenotype_chunks = chunker(all_smultixcan_phenotypes, 200)"
   ]
  },
  {
   "cell_type": "code",
   "execution_count": null,
   "metadata": {
    "papermill": {
     "duration": 24834.907737,
     "end_time": "2020-01-01T21:38:50.458610",
     "exception": false,
     "start_time": "2020-01-01T14:44:55.550873",
     "status": "completed"
    },
    "tags": []
   },
   "outputs": [],
   "source": [
    "all_results = _run_all(phenotype_chunks)"
   ]
  },
  {
   "cell_type": "markdown",
   "metadata": {
    "papermill": {
     "duration": 0.061376,
     "end_time": "2020-01-01T21:38:50.715404",
     "exception": false,
     "start_time": "2020-01-01T21:38:50.654028",
     "status": "completed"
    },
    "tags": []
   },
   "source": [
    "## Save as DataFrame"
   ]
  },
  {
   "cell_type": "code",
   "execution_count": 104,
   "metadata": {
    "papermill": {
     "duration": 173.996029,
     "end_time": "2020-01-01T21:41:44.978209",
     "exception": false,
     "start_time": "2020-01-01T21:38:50.982180",
     "status": "completed"
    },
    "tags": []
   },
   "outputs": [
    {
     "data": {
      "text/plain": [
       "(198401, 8)"
      ]
     },
     "metadata": {},
     "output_type": "display_data"
    },
    {
     "data": {
      "text/html": [
       "<div>\n",
       "<style scoped>\n",
       "    .dataframe tbody tr th:only-of-type {\n",
       "        vertical-align: middle;\n",
       "    }\n",
       "\n",
       "    .dataframe tbody tr th {\n",
       "        vertical-align: top;\n",
       "    }\n",
       "\n",
       "    .dataframe thead th {\n",
       "        text-align: right;\n",
       "    }\n",
       "</style>\n",
       "<table border=\"1\" class=\"dataframe\">\n",
       "  <thead>\n",
       "    <tr style=\"text-align: right;\">\n",
       "      <th></th>\n",
       "      <th>tissue</th>\n",
       "      <th>trait</th>\n",
       "      <th>alpha0</th>\n",
       "      <th>alpha0_se</th>\n",
       "      <th>alpha1</th>\n",
       "      <th>alpha1_se</th>\n",
       "      <th>alpha1_shrinkage</th>\n",
       "      <th>alpha1_shrinkage_se</th>\n",
       "    </tr>\n",
       "  </thead>\n",
       "  <tbody>\n",
       "    <tr>\n",
       "      <th>0</th>\n",
       "      <td>Adipose_Subcutaneous</td>\n",
       "      <td>O46</td>\n",
       "      <td>-12.544</td>\n",
       "      <td>0.181</td>\n",
       "      <td>-14.486</td>\n",
       "      <td>4880.497</td>\n",
       "      <td>-0.0</td>\n",
       "      <td>1.0</td>\n",
       "    </tr>\n",
       "    <tr>\n",
       "      <th>1</th>\n",
       "      <td>Adipose_Visceral_Omentum</td>\n",
       "      <td>O46</td>\n",
       "      <td>-12.549</td>\n",
       "      <td>0.182</td>\n",
       "      <td>-14.398</td>\n",
       "      <td>5137.845</td>\n",
       "      <td>-0.0</td>\n",
       "      <td>1.0</td>\n",
       "    </tr>\n",
       "    <tr>\n",
       "      <th>2</th>\n",
       "      <td>Adrenal_Gland</td>\n",
       "      <td>O46</td>\n",
       "      <td>-12.553</td>\n",
       "      <td>0.182</td>\n",
       "      <td>-14.527</td>\n",
       "      <td>6584.453</td>\n",
       "      <td>-0.0</td>\n",
       "      <td>1.0</td>\n",
       "    </tr>\n",
       "    <tr>\n",
       "      <th>3</th>\n",
       "      <td>Artery_Aorta</td>\n",
       "      <td>O46</td>\n",
       "      <td>-12.547</td>\n",
       "      <td>0.182</td>\n",
       "      <td>-14.459</td>\n",
       "      <td>5361.933</td>\n",
       "      <td>-0.0</td>\n",
       "      <td>1.0</td>\n",
       "    </tr>\n",
       "    <tr>\n",
       "      <th>4</th>\n",
       "      <td>Artery_Coronary</td>\n",
       "      <td>O46</td>\n",
       "      <td>-12.555</td>\n",
       "      <td>0.182</td>\n",
       "      <td>-14.534</td>\n",
       "      <td>7127.824</td>\n",
       "      <td>-0.0</td>\n",
       "      <td>1.0</td>\n",
       "    </tr>\n",
       "  </tbody>\n",
       "</table>\n",
       "</div>"
      ],
      "text/plain": [
       "                     tissue trait  alpha0  alpha0_se  alpha1  alpha1_se  \\\n",
       "0      Adipose_Subcutaneous   O46 -12.544      0.181 -14.486   4880.497   \n",
       "1  Adipose_Visceral_Omentum   O46 -12.549      0.182 -14.398   5137.845   \n",
       "2             Adrenal_Gland   O46 -12.553      0.182 -14.527   6584.453   \n",
       "3              Artery_Aorta   O46 -12.547      0.182 -14.459   5361.933   \n",
       "4           Artery_Coronary   O46 -12.555      0.182 -14.534   7127.824   \n",
       "\n",
       "   alpha1_shrinkage  alpha1_shrinkage_se  \n",
       "0              -0.0                  1.0  \n",
       "1              -0.0                  1.0  \n",
       "2              -0.0                  1.0  \n",
       "3              -0.0                  1.0  \n",
       "4              -0.0                  1.0  "
      ]
     },
     "metadata": {},
     "output_type": "display_data"
    }
   ],
   "source": [
    "fastenloc_genes_associations = pd.concat(all_results, ignore_index=True)\n",
    "\n",
    "display(fastenloc_genes_associations.shape)\n",
    "display(fastenloc_genes_associations.head())\n",
    "\n",
    "assert fastenloc_genes_associations.shape[0] == int(conf.FASTENLOC_EXPECTED_PHENOTYPES['RapidGWASProject'] * conf.GTEX_MODELS_N_EXPECTED_TISSUES)"
   ]
  },
  {
   "cell_type": "code",
   "execution_count": 105,
   "metadata": {},
   "outputs": [],
   "source": [
    "assert fastenloc_genes_associations['tissue'].unique().shape[0] == conf.GTEX_MODELS_N_EXPECTED_TISSUES"
   ]
  },
  {
   "cell_type": "code",
   "execution_count": 106,
   "metadata": {},
   "outputs": [],
   "source": [
    "assert fastenloc_genes_associations['trait'].unique().shape[0] == conf.FASTENLOC_EXPECTED_PHENOTYPES['RapidGWASProject']"
   ]
  },
  {
   "cell_type": "code",
   "execution_count": 107,
   "metadata": {},
   "outputs": [],
   "source": [
    "assert fastenloc_genes_associations.shape == fastenloc_genes_associations.dropna().shape"
   ]
  },
  {
   "cell_type": "code",
   "execution_count": 108,
   "metadata": {
    "papermill": {
     "duration": 0.146322,
     "end_time": "2020-01-01T21:41:45.582435",
     "exception": false,
     "start_time": "2020-01-01T21:41:45.436113",
     "status": "completed"
    },
    "tags": []
   },
   "outputs": [
    {
     "data": {
      "text/plain": [
       "float64    6\n",
       "object     2\n",
       "dtype: int64"
      ]
     },
     "metadata": {},
     "output_type": "display_data"
    }
   ],
   "source": [
    "# check columns data type\n",
    "_tmp = fastenloc_genes_associations.dtypes.value_counts()\n",
    "display(_tmp)\n",
    "assert _tmp.shape[0] == 2"
   ]
  },
  {
   "cell_type": "code",
   "execution_count": 109,
   "metadata": {
    "papermill": {
     "duration": 10.717239,
     "end_time": "2020-01-01T21:41:56.399717",
     "exception": false,
     "start_time": "2020-01-01T21:41:45.682478",
     "status": "completed"
    },
    "tags": []
   },
   "outputs": [
    {
     "data": {
      "text/plain": [
       "0"
      ]
     },
     "execution_count": 109,
     "metadata": {},
     "output_type": "execute_result"
    }
   ],
   "source": [
    "fastenloc_genes_associations.isna().sum().sum()"
   ]
  },
  {
   "cell_type": "code",
   "execution_count": 110,
   "metadata": {
    "papermill": {
     "duration": 0.112434,
     "end_time": "2020-01-01T21:42:09.940654",
     "exception": false,
     "start_time": "2020-01-01T21:42:09.828220",
     "status": "completed"
    },
    "tags": []
   },
   "outputs": [],
   "source": [
    "# some testing\n",
    "t = fastenloc_genes_associations[fastenloc_genes_associations['trait'] == '22601_12253140']"
   ]
  },
  {
   "cell_type": "code",
   "execution_count": 125,
   "metadata": {
    "papermill": {
     "duration": 0.118016,
     "end_time": "2020-01-01T21:42:10.143772",
     "exception": false,
     "start_time": "2020-01-01T21:42:10.025756",
     "status": "completed"
    },
    "tags": []
   },
   "outputs": [
    {
     "data": {
      "text/html": [
       "<div>\n",
       "<style scoped>\n",
       "    .dataframe tbody tr th:only-of-type {\n",
       "        vertical-align: middle;\n",
       "    }\n",
       "\n",
       "    .dataframe tbody tr th {\n",
       "        vertical-align: top;\n",
       "    }\n",
       "\n",
       "    .dataframe thead th {\n",
       "        text-align: right;\n",
       "    }\n",
       "</style>\n",
       "<table border=\"1\" class=\"dataframe\">\n",
       "  <thead>\n",
       "    <tr style=\"text-align: right;\">\n",
       "      <th></th>\n",
       "      <th>tissue</th>\n",
       "      <th>trait</th>\n",
       "      <th>alpha0</th>\n",
       "      <th>alpha0_se</th>\n",
       "      <th>alpha1</th>\n",
       "      <th>alpha1_se</th>\n",
       "      <th>alpha1_shrinkage</th>\n",
       "      <th>alpha1_shrinkage_se</th>\n",
       "    </tr>\n",
       "  </thead>\n",
       "  <tbody>\n",
       "    <tr>\n",
       "      <th>2303</th>\n",
       "      <td>Adipose_Subcutaneous</td>\n",
       "      <td>22601_12253140</td>\n",
       "      <td>-10.727</td>\n",
       "      <td>0.073</td>\n",
       "      <td>-14.861</td>\n",
       "      <td>2370.776</td>\n",
       "      <td>-0.0</td>\n",
       "      <td>1.0</td>\n",
       "    </tr>\n",
       "    <tr>\n",
       "      <th>2304</th>\n",
       "      <td>Adipose_Visceral_Omentum</td>\n",
       "      <td>22601_12253140</td>\n",
       "      <td>-10.729</td>\n",
       "      <td>0.073</td>\n",
       "      <td>-14.786</td>\n",
       "      <td>2547.338</td>\n",
       "      <td>-0.0</td>\n",
       "      <td>1.0</td>\n",
       "    </tr>\n",
       "    <tr>\n",
       "      <th>2305</th>\n",
       "      <td>Adrenal_Gland</td>\n",
       "      <td>22601_12253140</td>\n",
       "      <td>-10.731</td>\n",
       "      <td>0.073</td>\n",
       "      <td>-14.825</td>\n",
       "      <td>3070.578</td>\n",
       "      <td>-0.0</td>\n",
       "      <td>1.0</td>\n",
       "    </tr>\n",
       "    <tr>\n",
       "      <th>2306</th>\n",
       "      <td>Artery_Aorta</td>\n",
       "      <td>22601_12253140</td>\n",
       "      <td>-10.729</td>\n",
       "      <td>0.073</td>\n",
       "      <td>-14.861</td>\n",
       "      <td>2554.334</td>\n",
       "      <td>-0.0</td>\n",
       "      <td>1.0</td>\n",
       "    </tr>\n",
       "    <tr>\n",
       "      <th>2307</th>\n",
       "      <td>Artery_Coronary</td>\n",
       "      <td>22601_12253140</td>\n",
       "      <td>-10.732</td>\n",
       "      <td>0.073</td>\n",
       "      <td>-14.895</td>\n",
       "      <td>3423.376</td>\n",
       "      <td>-0.0</td>\n",
       "      <td>1.0</td>\n",
       "    </tr>\n",
       "  </tbody>\n",
       "</table>\n",
       "</div>"
      ],
      "text/plain": [
       "                        tissue           trait  alpha0  alpha0_se  alpha1  \\\n",
       "2303      Adipose_Subcutaneous  22601_12253140 -10.727      0.073 -14.861   \n",
       "2304  Adipose_Visceral_Omentum  22601_12253140 -10.729      0.073 -14.786   \n",
       "2305             Adrenal_Gland  22601_12253140 -10.731      0.073 -14.825   \n",
       "2306              Artery_Aorta  22601_12253140 -10.729      0.073 -14.861   \n",
       "2307           Artery_Coronary  22601_12253140 -10.732      0.073 -14.895   \n",
       "\n",
       "      alpha1_se  alpha1_shrinkage  alpha1_shrinkage_se  \n",
       "2303   2370.776              -0.0                  1.0  \n",
       "2304   2547.338              -0.0                  1.0  \n",
       "2305   3070.578              -0.0                  1.0  \n",
       "2306   2554.334              -0.0                  1.0  \n",
       "2307   3423.376              -0.0                  1.0  "
      ]
     },
     "execution_count": 125,
     "metadata": {},
     "output_type": "execute_result"
    }
   ],
   "source": [
    "t.head()"
   ]
  },
  {
   "cell_type": "code",
   "execution_count": 115,
   "metadata": {
    "papermill": {
     "duration": 0.125616,
     "end_time": "2020-01-01T21:42:10.354498",
     "exception": false,
     "start_time": "2020-01-01T21:42:10.228882",
     "status": "completed"
    },
    "tags": []
   },
   "outputs": [],
   "source": [
    "if 'alpha1_shrinkage' not in t.columns:\n",
    "    tt = t[t['tissue'] == 'Brain_Frontal_Cortex_BA9'].iloc[0]\n",
    "    assert tt.loc['alpha0'].round(3) == -10.781\n",
    "    assert tt.loc['alpha0_se'].round(3) == 0.274\n",
    "    assert tt.loc['alpha1'].round(3) == -12.584\n",
    "    assert tt.loc['alpha1_se'] == 1050.572\n",
    "else:\n",
    "    tt = t[t['tissue'] == 'Brain_Frontal_Cortex_BA9'].iloc[0]\n",
    "    assert tt.loc['alpha0'].round(3) == -10.731\n",
    "    assert tt.loc['alpha0_se'].round(3) == 0.073\n",
    "    assert tt.loc['alpha1'].round(3) == -14.893\n",
    "    assert tt.loc['alpha1_se'] == 3230.940\n",
    "    assert tt.loc['alpha1_shrinkage'].round(3) == -0.000\n",
    "    assert tt.loc['alpha1_shrinkage_se'] == 1.000"
   ]
  },
  {
   "cell_type": "code",
   "execution_count": 122,
   "metadata": {
    "papermill": {
     "duration": 0.125616,
     "end_time": "2020-01-01T21:42:10.354498",
     "exception": false,
     "start_time": "2020-01-01T21:42:10.228882",
     "status": "completed"
    },
    "tags": []
   },
   "outputs": [],
   "source": [
    "if 'alpha1_shrinkage' not in t.columns:\n",
    "    tt = t[t['tissue'] == 'Artery_Coronary'].iloc[0]\n",
    "    assert tt.loc['alpha0'].round(3) == -10.783\n",
    "    assert tt.loc['alpha0_se'].round(3) == 0.274\n",
    "    assert tt.loc['alpha1'].round(3) == -12.448\n",
    "    assert tt.loc['alpha1_se'].round(3) == 1042.841\n",
    "else:\n",
    "    tt = t[t['tissue'] == 'Artery_Coronary'].iloc[0]\n",
    "    assert tt.loc['alpha0'].round(3) == -10.732\n",
    "    assert tt.loc['alpha0_se'].round(3) == 0.073\n",
    "    assert tt.loc['alpha1'].round(3) == -14.895\n",
    "    assert tt.loc['alpha1_se'].round(3) == 3423.376\n",
    "    assert tt.loc['alpha1_shrinkage'].round(3) == -0.000\n",
    "    assert tt.loc['alpha1_shrinkage_se'] == 1.000"
   ]
  },
  {
   "cell_type": "markdown",
   "metadata": {
    "papermill": {
     "duration": 0.083819,
     "end_time": "2020-01-01T21:42:10.526092",
     "exception": false,
     "start_time": "2020-01-01T21:42:10.442273",
     "status": "completed"
    },
    "tags": []
   },
   "source": [
    "### Save"
   ]
  },
  {
   "cell_type": "code",
   "execution_count": 126,
   "metadata": {},
   "outputs": [],
   "source": [
    "os.makedirs(conf.ANALYSES_DIR, exist_ok=True)"
   ]
  },
  {
   "cell_type": "code",
   "execution_count": 127,
   "metadata": {
    "papermill": {
     "duration": 0.124089,
     "end_time": "2020-01-01T21:42:10.744618",
     "exception": false,
     "start_time": "2020-01-01T21:42:10.620529",
     "status": "completed"
    },
    "tags": []
   },
   "outputs": [
    {
     "data": {
      "text/plain": [
       "'/mnt/phenomexcan_base/analyses/fastenloc-alpha1-stats-v2.pkl.xz'"
      ]
     },
     "metadata": {},
     "output_type": "display_data"
    }
   ],
   "source": [
    "# Save\n",
    "# new filename to save the alpha1 of newer fastENLOC runs\n",
    "fastenloc_genes_associations_filename = os.path.join(conf.ANALYSES_DIR, f'fastenloc-alpha1-stats-v2.pkl.xz')\n",
    "\n",
    "# filename for original alpha1 runs of fastENLOC\n",
    "#fastenloc_genes_associations_filename = os.path.join(conf.ANALYSES_DIR, f'fastenloc-alpha1-stats.pkl.xz')\n",
    "\n",
    "display(fastenloc_genes_associations_filename)"
   ]
  },
  {
   "cell_type": "code",
   "execution_count": 128,
   "metadata": {
    "papermill": {
     "duration": 841.91448,
     "end_time": "2020-01-01T21:56:12.748990",
     "exception": false,
     "start_time": "2020-01-01T21:42:10.834510",
     "status": "completed"
    },
    "tags": []
   },
   "outputs": [],
   "source": [
    "fastenloc_genes_associations.to_pickle(fastenloc_genes_associations_filename)"
   ]
  },
  {
   "cell_type": "markdown",
   "metadata": {
    "papermill": {
     "duration": 0.087819,
     "end_time": "2020-01-01T21:56:12.934814",
     "exception": false,
     "start_time": "2020-01-01T21:56:12.846995",
     "status": "completed"
    },
    "tags": []
   },
   "source": [
    "### Save in text format"
   ]
  },
  {
   "cell_type": "code",
   "execution_count": 129,
   "metadata": {
    "papermill": {
     "duration": 0.156357,
     "end_time": "2020-01-01T21:56:13.176765",
     "exception": false,
     "start_time": "2020-01-01T21:56:13.020408",
     "status": "completed"
    },
    "tags": []
   },
   "outputs": [
    {
     "data": {
      "text/plain": [
       "'/mnt/phenomexcan_base/analyses/fastenloc-alpha1-stats-v2.tsv.gz'"
      ]
     },
     "metadata": {},
     "output_type": "display_data"
    }
   ],
   "source": [
    "# new filename to save the alpha1 of newer fastENLOC runs\n",
    "output_file = os.path.join(conf.ANALYSES_DIR, 'fastenloc-alpha1-stats-v2.tsv.gz')\n",
    "\n",
    "# filename for original alpha1 runs of fastENLOC\n",
    "# output_file = os.path.join(conf.ANALYSES_DIR, 'fastenloc-alpha1-stats.tsv.gz')\n",
    "\n",
    "display(output_file)"
   ]
  },
  {
   "cell_type": "code",
   "execution_count": 130,
   "metadata": {
    "papermill": {
     "duration": 1254.751765,
     "end_time": "2020-01-01T22:17:08.027828",
     "exception": false,
     "start_time": "2020-01-01T21:56:13.276063",
     "status": "completed"
    },
    "tags": []
   },
   "outputs": [],
   "source": [
    "fastenloc_genes_associations.to_csv(output_file, index=False, sep='\\t', float_format='%.3f')"
   ]
  },
  {
   "cell_type": "code",
   "execution_count": 131,
   "metadata": {
    "papermill": {
     "duration": 155.654781,
     "end_time": "2020-01-01T22:19:43.780431",
     "exception": false,
     "start_time": "2020-01-01T22:17:08.125650",
     "status": "completed"
    },
    "tags": []
   },
   "outputs": [],
   "source": [
    "# test \"for publication\" file\n",
    "_tmp = pd.read_csv(output_file, sep='\\t')"
   ]
  },
  {
   "cell_type": "code",
   "execution_count": 132,
   "metadata": {
    "papermill": {
     "duration": 0.138414,
     "end_time": "2020-01-01T22:19:44.016903",
     "exception": false,
     "start_time": "2020-01-01T22:19:43.878489",
     "status": "completed"
    },
    "tags": []
   },
   "outputs": [
    {
     "data": {
      "text/plain": [
       "(198401, 8)"
      ]
     },
     "metadata": {},
     "output_type": "display_data"
    }
   ],
   "source": [
    "display(_tmp.shape)\n",
    "assert _tmp.shape == fastenloc_genes_associations.shape"
   ]
  },
  {
   "cell_type": "code",
   "execution_count": 133,
   "metadata": {
    "papermill": {
     "duration": 0.171951,
     "end_time": "2020-01-01T22:19:44.283775",
     "exception": false,
     "start_time": "2020-01-01T22:19:44.111824",
     "status": "completed"
    },
    "tags": []
   },
   "outputs": [
    {
     "data": {
      "text/html": [
       "<div>\n",
       "<style scoped>\n",
       "    .dataframe tbody tr th:only-of-type {\n",
       "        vertical-align: middle;\n",
       "    }\n",
       "\n",
       "    .dataframe tbody tr th {\n",
       "        vertical-align: top;\n",
       "    }\n",
       "\n",
       "    .dataframe thead th {\n",
       "        text-align: right;\n",
       "    }\n",
       "</style>\n",
       "<table border=\"1\" class=\"dataframe\">\n",
       "  <thead>\n",
       "    <tr style=\"text-align: right;\">\n",
       "      <th></th>\n",
       "      <th>tissue</th>\n",
       "      <th>trait</th>\n",
       "      <th>alpha0</th>\n",
       "      <th>alpha0_se</th>\n",
       "      <th>alpha1</th>\n",
       "      <th>alpha1_se</th>\n",
       "      <th>alpha1_shrinkage</th>\n",
       "      <th>alpha1_shrinkage_se</th>\n",
       "    </tr>\n",
       "  </thead>\n",
       "  <tbody>\n",
       "    <tr>\n",
       "      <th>0</th>\n",
       "      <td>Adipose_Subcutaneous</td>\n",
       "      <td>O46</td>\n",
       "      <td>-12.544</td>\n",
       "      <td>0.181</td>\n",
       "      <td>-14.486</td>\n",
       "      <td>4880.497</td>\n",
       "      <td>-0.0</td>\n",
       "      <td>1.0</td>\n",
       "    </tr>\n",
       "    <tr>\n",
       "      <th>1</th>\n",
       "      <td>Adipose_Visceral_Omentum</td>\n",
       "      <td>O46</td>\n",
       "      <td>-12.549</td>\n",
       "      <td>0.182</td>\n",
       "      <td>-14.398</td>\n",
       "      <td>5137.845</td>\n",
       "      <td>-0.0</td>\n",
       "      <td>1.0</td>\n",
       "    </tr>\n",
       "    <tr>\n",
       "      <th>2</th>\n",
       "      <td>Adrenal_Gland</td>\n",
       "      <td>O46</td>\n",
       "      <td>-12.553</td>\n",
       "      <td>0.182</td>\n",
       "      <td>-14.527</td>\n",
       "      <td>6584.453</td>\n",
       "      <td>-0.0</td>\n",
       "      <td>1.0</td>\n",
       "    </tr>\n",
       "    <tr>\n",
       "      <th>3</th>\n",
       "      <td>Artery_Aorta</td>\n",
       "      <td>O46</td>\n",
       "      <td>-12.547</td>\n",
       "      <td>0.182</td>\n",
       "      <td>-14.459</td>\n",
       "      <td>5361.933</td>\n",
       "      <td>-0.0</td>\n",
       "      <td>1.0</td>\n",
       "    </tr>\n",
       "    <tr>\n",
       "      <th>4</th>\n",
       "      <td>Artery_Coronary</td>\n",
       "      <td>O46</td>\n",
       "      <td>-12.555</td>\n",
       "      <td>0.182</td>\n",
       "      <td>-14.534</td>\n",
       "      <td>7127.824</td>\n",
       "      <td>-0.0</td>\n",
       "      <td>1.0</td>\n",
       "    </tr>\n",
       "  </tbody>\n",
       "</table>\n",
       "</div>"
      ],
      "text/plain": [
       "                     tissue trait  alpha0  alpha0_se  alpha1  alpha1_se  \\\n",
       "0      Adipose_Subcutaneous   O46 -12.544      0.181 -14.486   4880.497   \n",
       "1  Adipose_Visceral_Omentum   O46 -12.549      0.182 -14.398   5137.845   \n",
       "2             Adrenal_Gland   O46 -12.553      0.182 -14.527   6584.453   \n",
       "3              Artery_Aorta   O46 -12.547      0.182 -14.459   5361.933   \n",
       "4           Artery_Coronary   O46 -12.555      0.182 -14.534   7127.824   \n",
       "\n",
       "   alpha1_shrinkage  alpha1_shrinkage_se  \n",
       "0              -0.0                  1.0  \n",
       "1              -0.0                  1.0  \n",
       "2              -0.0                  1.0  \n",
       "3              -0.0                  1.0  \n",
       "4              -0.0                  1.0  "
      ]
     },
     "execution_count": 133,
     "metadata": {},
     "output_type": "execute_result"
    }
   ],
   "source": [
    "_tmp.head()"
   ]
  },
  {
   "cell_type": "code",
   "execution_count": 134,
   "metadata": {
    "papermill": {
     "duration": 8.759228,
     "end_time": "2020-01-01T22:19:53.138364",
     "exception": false,
     "start_time": "2020-01-01T22:19:44.379136",
     "status": "completed"
    },
    "tags": []
   },
   "outputs": [],
   "source": [
    "assert not _tmp.isin([np.inf, -np.inf]).any().any()"
   ]
  },
  {
   "cell_type": "code",
   "execution_count": 135,
   "metadata": {
    "papermill": {
     "duration": 9.139514,
     "end_time": "2020-01-01T22:20:02.368288",
     "exception": false,
     "start_time": "2020-01-01T22:19:53.228774",
     "status": "completed"
    },
    "tags": []
   },
   "outputs": [],
   "source": [
    "assert not _tmp.isna().any().any()"
   ]
  },
  {
   "cell_type": "code",
   "execution_count": 136,
   "metadata": {},
   "outputs": [],
   "source": [
    "assert fastenloc_genes_associations.equals(_tmp)"
   ]
  },
  {
   "cell_type": "markdown",
   "metadata": {},
   "source": [
    "Now a plot can be made with notebook `150_validation/35_fastenloc_alpha_se_plots.ipynb`"
   ]
  },
  {
   "cell_type": "code",
   "execution_count": null,
   "metadata": {},
   "outputs": [],
   "source": []
  }
 ],
 "metadata": {
  "kernelspec": {
   "display_name": "Python 3",
   "language": "python",
   "name": "python3"
  },
  "language_info": {
   "codemirror_mode": {
    "name": "ipython",
    "version": 3
   },
   "file_extension": ".py",
   "mimetype": "text/x-python",
   "name": "python",
   "nbconvert_exporter": "python",
   "pygments_lexer": "ipython3",
   "version": "3.7.5"
  },
  "papermill": {
   "duration": 27890.451194,
   "end_time": "2020-01-01T22:26:45.407739",
   "environment_variables": {},
   "exception": null,
   "input_path": "100_postprocessing/05_fastenloc.ipynb",
   "output_path": "100_postprocessing/05_fastenloc.run.ipynb",
   "parameters": {},
   "start_time": "2020-01-01T14:41:54.956545",
   "version": "1.2.1"
  }
 },
 "nbformat": 4,
 "nbformat_minor": 4
}
