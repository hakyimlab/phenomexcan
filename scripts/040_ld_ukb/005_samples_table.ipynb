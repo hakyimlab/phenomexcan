{
 "cells": [
  {
   "cell_type": "code",
   "execution_count": 1,
   "metadata": {},
   "outputs": [
    {
     "data": {
      "text/plain": [
       "'gs://ukb_data/phenomexcan/samples/50k/samples_50k_neale_eids.ht'"
      ]
     },
     "metadata": {},
     "output_type": "display_data"
    }
   ],
   "source": [
    "BLOCK_SIZE = 1024\n",
    "\n",
    "NEALE_SAMPLES_INPUT = 'gs://ukb_data/phenomexcan/samples/samples_neale_eids.csv'\n",
    "SAMPLES_OUTPUT = 'gs://ukb_data/phenomexcan/samples/samples_neale_eids.ht'\n",
    "\n",
    "N_SAMPLE = 50000\n",
    "N_SAMPLE_SEED = 0\n",
    "SAMPLE_PREFIX = f'{int(N_SAMPLE / 1000)}k'\n",
    "SAMPLES_SAMPLED_OUTPUT = f'gs://ukb_data/phenomexcan/samples/{SAMPLE_PREFIX}/samples_{SAMPLE_PREFIX}_neale_eids.ht'\n",
    "display(SAMPLES_SAMPLED_OUTPUT)"
   ]
  },
  {
   "cell_type": "code",
   "execution_count": 2,
   "metadata": {},
   "outputs": [
    {
     "name": "stderr",
     "output_type": "stream",
     "text": [
      "Running on Apache Spark version 2.4.3\n",
      "SparkUI available at http://ukb-m.c.ukb-im.internal:4040\n",
      "Welcome to\n",
      "     __  __     <>__\n",
      "    / /_/ /__  __/ /\n",
      "   / __  / _ `/ / /\n",
      "  /_/ /_/\\_,_/_/_/   version 0.2.21-f16fd64e0d77\n",
      "LOGGING: writing to /home/hail/hail-20190909-1526-0.2.21-f16fd64e0d77.log\n"
     ]
    }
   ],
   "source": [
    "import hail as hl\n",
    "#hl.init(default_reference='GRCh37', min_block_size=1024)\n",
    "#hl.init(min_block_size=BLOCK_SIZE, tmp_dir='gs://ukb_data/tmp/')\n",
    "hl.init(tmp_dir='gs://ukb_data/tmp/', min_block_size=BLOCK_SIZE)"
   ]
  },
  {
   "cell_type": "markdown",
   "metadata": {},
   "source": [
    "# Create Neale's samples table"
   ]
  },
  {
   "cell_type": "code",
   "execution_count": 3,
   "metadata": {},
   "outputs": [
    {
     "name": "stderr",
     "output_type": "stream",
     "text": [
      "2019-09-09 15:26:17 Hail: INFO: Reading table with no type imputation\n",
      "  Loading column 'eid' as type 'str' (type not specified)\n",
      "\n",
      "2019-09-09 15:26:20 Hail: INFO: Ordering unsorted dataset with network shuffle\n",
      "2019-09-09 15:26:35 Hail: INFO: wrote table with 361202 rows in 1 partition to gs://ukb_data/phenomexcan/samples/samples_neale_eids.ht\n"
     ]
    }
   ],
   "source": [
    "samples = (\n",
    "    hl.import_table(NEALE_SAMPLES_INPUT)\n",
    "    .key_by('eid')\n",
    "    .write(SAMPLES_OUTPUT, overwrite=True)\n",
    ")"
   ]
  },
  {
   "cell_type": "markdown",
   "metadata": {},
   "source": [
    "# Sample samples to compute LD"
   ]
  },
  {
   "cell_type": "code",
   "execution_count": 4,
   "metadata": {},
   "outputs": [
    {
     "name": "stdout",
     "output_type": "stream",
     "text": [
      "361202\n"
     ]
    }
   ],
   "source": [
    "# read samples\n",
    "samples = hl.read_table(SAMPLES_OUTPUT)\n",
    "n_neale_samples = samples.count()\n",
    "print(n_neale_samples)"
   ]
  },
  {
   "cell_type": "code",
   "execution_count": 5,
   "metadata": {},
   "outputs": [
    {
     "name": "stdout",
     "output_type": "stream",
     "text": [
      "0.13842669752659176\n"
     ]
    }
   ],
   "source": [
    "perc = N_SAMPLE / (n_neale_samples * 1.0)\n",
    "print(perc)\n",
    "samples_downsampled = samples.sample(perc, seed=N_SAMPLE_SEED)"
   ]
  },
  {
   "cell_type": "code",
   "execution_count": 6,
   "metadata": {},
   "outputs": [
    {
     "name": "stderr",
     "output_type": "stream",
     "text": [
      "2019-09-09 15:26:57 Hail: INFO: wrote table with 50581 rows in 1 partition to gs://ukb_data/phenomexcan/samples/50k/samples_50k_neale_eids.ht\n"
     ]
    }
   ],
   "source": [
    "samples_downsampled.write(SAMPLES_SAMPLED_OUTPUT, overwrite=True)"
   ]
  },
  {
   "cell_type": "code",
   "execution_count": null,
   "metadata": {},
   "outputs": [],
   "source": []
  }
 ],
 "metadata": {
  "kernelspec": {
   "display_name": "Python 3",
   "language": "python",
   "name": "python3"
  },
  "language_info": {
   "codemirror_mode": {
    "name": "ipython",
    "version": 3
   },
   "file_extension": ".py",
   "mimetype": "text/x-python",
   "name": "python",
   "nbconvert_exporter": "python",
   "pygments_lexer": "ipython3",
   "version": "3.7.5"
  }
 },
 "nbformat": 4,
 "nbformat_minor": 4
}
