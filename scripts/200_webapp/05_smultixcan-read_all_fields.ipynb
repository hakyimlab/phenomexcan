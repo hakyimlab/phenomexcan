{
 "cells": [
  {
   "cell_type": "code",
   "execution_count": 1,
   "metadata": {},
   "outputs": [],
   "source": [
    "%load_ext autoreload\n",
    "%autoreload 2"
   ]
  },
  {
   "cell_type": "code",
   "execution_count": 2,
   "metadata": {},
   "outputs": [],
   "source": [
    "import os\n",
    "import pickle\n",
    "from glob import glob\n",
    "from concurrent.futures import ProcessPoolExecutor, as_completed\n",
    "\n",
    "import numpy as np\n",
    "import pandas as pd\n",
    "from scipy import stats\n",
    "\n",
    "import settings as conf\n",
    "from utils import is_number, chunker\n",
    "from results.multixcan import MXPhenoInfo, MXPhenoResults"
   ]
  },
  {
   "cell_type": "code",
   "execution_count": 3,
   "metadata": {},
   "outputs": [
    {
     "data": {
      "text/plain": [
       "'/mnt/phenomexcan_base/deliverables/genes_info.tsv.gz'"
      ]
     },
     "execution_count": 3,
     "metadata": {},
     "output_type": "execute_result"
    }
   ],
   "source": [
    "os.path.join(conf.DELIVERABLES_DIR, 'genes_info.tsv.gz')"
   ]
  },
  {
   "cell_type": "code",
   "execution_count": 4,
   "metadata": {},
   "outputs": [],
   "source": [
    "gene_mappings = pd.read_csv(os.path.join(conf.DELIVERABLES_DIR, 'genes_info.tsv.gz'), sep='\\t')"
   ]
  },
  {
   "cell_type": "code",
   "execution_count": 5,
   "metadata": {},
   "outputs": [
    {
     "data": {
      "text/html": [
       "<div>\n",
       "<style scoped>\n",
       "    .dataframe tbody tr th:only-of-type {\n",
       "        vertical-align: middle;\n",
       "    }\n",
       "\n",
       "    .dataframe tbody tr th {\n",
       "        vertical-align: top;\n",
       "    }\n",
       "\n",
       "    .dataframe thead th {\n",
       "        text-align: right;\n",
       "    }\n",
       "</style>\n",
       "<table border=\"1\" class=\"dataframe\">\n",
       "  <thead>\n",
       "    <tr style=\"text-align: right;\">\n",
       "      <th></th>\n",
       "      <th>gene_id</th>\n",
       "      <th>gene</th>\n",
       "      <th>gene_name</th>\n",
       "      <th>gene_type</th>\n",
       "      <th>band</th>\n",
       "    </tr>\n",
       "  </thead>\n",
       "  <tbody>\n",
       "    <tr>\n",
       "      <th>0</th>\n",
       "      <td>ENSG00000000419</td>\n",
       "      <td>ENSG00000000419.12</td>\n",
       "      <td>DPM1</td>\n",
       "      <td>protein_coding</td>\n",
       "      <td>20q13.13</td>\n",
       "    </tr>\n",
       "    <tr>\n",
       "      <th>1</th>\n",
       "      <td>ENSG00000000457</td>\n",
       "      <td>ENSG00000000457.13</td>\n",
       "      <td>SCYL3</td>\n",
       "      <td>protein_coding</td>\n",
       "      <td>1q24.2</td>\n",
       "    </tr>\n",
       "    <tr>\n",
       "      <th>2</th>\n",
       "      <td>ENSG00000000460</td>\n",
       "      <td>ENSG00000000460.16</td>\n",
       "      <td>C1orf112</td>\n",
       "      <td>protein_coding</td>\n",
       "      <td>1q24.2</td>\n",
       "    </tr>\n",
       "    <tr>\n",
       "      <th>3</th>\n",
       "      <td>ENSG00000000938</td>\n",
       "      <td>ENSG00000000938.12</td>\n",
       "      <td>FGR</td>\n",
       "      <td>protein_coding</td>\n",
       "      <td>1p35.3</td>\n",
       "    </tr>\n",
       "    <tr>\n",
       "      <th>4</th>\n",
       "      <td>ENSG00000000971</td>\n",
       "      <td>ENSG00000000971.15</td>\n",
       "      <td>CFH</td>\n",
       "      <td>protein_coding</td>\n",
       "      <td>1q31.3</td>\n",
       "    </tr>\n",
       "  </tbody>\n",
       "</table>\n",
       "</div>"
      ],
      "text/plain": [
       "           gene_id                gene gene_name       gene_type      band\n",
       "0  ENSG00000000419  ENSG00000000419.12      DPM1  protein_coding  20q13.13\n",
       "1  ENSG00000000457  ENSG00000000457.13     SCYL3  protein_coding    1q24.2\n",
       "2  ENSG00000000460  ENSG00000000460.16  C1orf112  protein_coding    1q24.2\n",
       "3  ENSG00000000938  ENSG00000000938.12       FGR  protein_coding    1p35.3\n",
       "4  ENSG00000000971  ENSG00000000971.15       CFH  protein_coding    1q31.3"
      ]
     },
     "execution_count": 5,
     "metadata": {},
     "output_type": "execute_result"
    }
   ],
   "source": [
    "gene_mappings.head()"
   ]
  },
  {
   "cell_type": "markdown",
   "metadata": {},
   "source": [
    "# Load fastENLOC results"
   ]
  },
  {
   "cell_type": "code",
   "execution_count": 28,
   "metadata": {},
   "outputs": [
    {
     "data": {
      "text/plain": [
       "'/mnt/phenomexcan_base/gene_assoc/fastenloc-torus-rcp.pkl.xz'"
      ]
     },
     "metadata": {},
     "output_type": "display_data"
    }
   ],
   "source": [
    "fastenloc_rcp_file = os.path.join(conf.GENE_ASSOC_DIR, f'fastenloc-torus-rcp.pkl.xz')\n",
    "display(fastenloc_rcp_file)"
   ]
  },
  {
   "cell_type": "code",
   "execution_count": 29,
   "metadata": {},
   "outputs": [],
   "source": [
    "fastenloc_gene_associations = pd.read_pickle(fastenloc_rcp_file)"
   ]
  },
  {
   "cell_type": "code",
   "execution_count": 30,
   "metadata": {},
   "outputs": [
    {
     "data": {
      "text/plain": [
       "(37967, 4091)"
      ]
     },
     "execution_count": 30,
     "metadata": {},
     "output_type": "execute_result"
    }
   ],
   "source": [
    "fastenloc_gene_associations.shape"
   ]
  },
  {
   "cell_type": "code",
   "execution_count": 31,
   "metadata": {},
   "outputs": [
    {
     "data": {
      "text/html": [
       "<div>\n",
       "<style scoped>\n",
       "    .dataframe tbody tr th:only-of-type {\n",
       "        vertical-align: middle;\n",
       "    }\n",
       "\n",
       "    .dataframe tbody tr th {\n",
       "        vertical-align: top;\n",
       "    }\n",
       "\n",
       "    .dataframe thead th {\n",
       "        text-align: right;\n",
       "    }\n",
       "</style>\n",
       "<table border=\"1\" class=\"dataframe\">\n",
       "  <thead>\n",
       "    <tr style=\"text-align: right;\">\n",
       "      <th></th>\n",
       "      <th>20485-Ever_contemplated_selfharm</th>\n",
       "      <th>6160_2-Leisuresocial_activities_Pub_or_social_club</th>\n",
       "      <th>6139_3-Gas_or_solidfuel_cookingheating_An_open_solid_fuel_fire_that_you_use_regularly_in_winter_time</th>\n",
       "      <th>L12_FOLLICULARNAS-Other_and_unspecified_follicular_disorders</th>\n",
       "      <th>2654_8-Nonbutter_spread_type_details_Other_low_or_reduced_fat_spread</th>\n",
       "      <th>22617_8139-Job_SOC_coding_Assemblers_and_routine_operatives_nec</th>\n",
       "      <th>I9_CARDMPRI-Cardiomyopathies_Primaryintrinsic</th>\n",
       "      <th>20003_1141188442-Treatmentmedication_code_glucosamine_product</th>\n",
       "      <th>RHEUMA_SEROPOS_OTH-Otherunspecified_seropositiverheumatoid_arthritis</th>\n",
       "      <th>22601_11523251-Job_coding_office_manager_accountpayrolls_manager_administration_manager_litigationsolicitors_office_manager</th>\n",
       "      <th>...</th>\n",
       "      <th>PGC_ADHD_EUR_2017</th>\n",
       "      <th>BCAC_ER_negative_BreastCancer_EUR</th>\n",
       "      <th>SSGAC_Education_Years_Pooled</th>\n",
       "      <th>pgc.scz2</th>\n",
       "      <th>MAGNETIC_HDL.C</th>\n",
       "      <th>MAGIC_ln_FastingInsulin</th>\n",
       "      <th>Astle_et_al_2016_Sum_eosinophil_basophil_counts</th>\n",
       "      <th>SSGAC_Depressive_Symptoms</th>\n",
       "      <th>Jones_et_al_2016_SleepDuration</th>\n",
       "      <th>Astle_et_al_2016_Red_blood_cell_count</th>\n",
       "    </tr>\n",
       "    <tr>\n",
       "      <th>gene_name</th>\n",
       "      <th></th>\n",
       "      <th></th>\n",
       "      <th></th>\n",
       "      <th></th>\n",
       "      <th></th>\n",
       "      <th></th>\n",
       "      <th></th>\n",
       "      <th></th>\n",
       "      <th></th>\n",
       "      <th></th>\n",
       "      <th></th>\n",
       "      <th></th>\n",
       "      <th></th>\n",
       "      <th></th>\n",
       "      <th></th>\n",
       "      <th></th>\n",
       "      <th></th>\n",
       "      <th></th>\n",
       "      <th></th>\n",
       "      <th></th>\n",
       "      <th></th>\n",
       "    </tr>\n",
       "  </thead>\n",
       "  <tbody>\n",
       "    <tr>\n",
       "      <th>ENSG00000000419</th>\n",
       "      <td>0.000008</td>\n",
       "      <td>0.000505</td>\n",
       "      <td>0.000305</td>\n",
       "      <td>3.300140e-11</td>\n",
       "      <td>0.000039</td>\n",
       "      <td>3.736700e-07</td>\n",
       "      <td>0.000010</td>\n",
       "      <td>0.000017</td>\n",
       "      <td>0.000044</td>\n",
       "      <td>2.399400e-07</td>\n",
       "      <td>...</td>\n",
       "      <td>0.0</td>\n",
       "      <td>NaN</td>\n",
       "      <td>0.001</td>\n",
       "      <td>0.000</td>\n",
       "      <td>NaN</td>\n",
       "      <td>NaN</td>\n",
       "      <td>0.001</td>\n",
       "      <td>NaN</td>\n",
       "      <td>NaN</td>\n",
       "      <td>0.001</td>\n",
       "    </tr>\n",
       "    <tr>\n",
       "      <th>ENSG00000000457</th>\n",
       "      <td>0.000131</td>\n",
       "      <td>0.002876</td>\n",
       "      <td>0.003605</td>\n",
       "      <td>8.840290e-11</td>\n",
       "      <td>0.000203</td>\n",
       "      <td>7.714700e-07</td>\n",
       "      <td>0.000195</td>\n",
       "      <td>0.000601</td>\n",
       "      <td>0.000245</td>\n",
       "      <td>5.047600e-06</td>\n",
       "      <td>...</td>\n",
       "      <td>NaN</td>\n",
       "      <td>NaN</td>\n",
       "      <td>0.000</td>\n",
       "      <td>NaN</td>\n",
       "      <td>NaN</td>\n",
       "      <td>NaN</td>\n",
       "      <td>0.000</td>\n",
       "      <td>NaN</td>\n",
       "      <td>NaN</td>\n",
       "      <td>0.000</td>\n",
       "    </tr>\n",
       "    <tr>\n",
       "      <th>ENSG00000000460</th>\n",
       "      <td>0.000014</td>\n",
       "      <td>0.000975</td>\n",
       "      <td>0.005453</td>\n",
       "      <td>9.497296e-11</td>\n",
       "      <td>0.000147</td>\n",
       "      <td>1.070900e-06</td>\n",
       "      <td>0.000029</td>\n",
       "      <td>0.000224</td>\n",
       "      <td>0.004665</td>\n",
       "      <td>3.258560e-06</td>\n",
       "      <td>...</td>\n",
       "      <td>NaN</td>\n",
       "      <td>NaN</td>\n",
       "      <td>0.000</td>\n",
       "      <td>NaN</td>\n",
       "      <td>NaN</td>\n",
       "      <td>NaN</td>\n",
       "      <td>0.000</td>\n",
       "      <td>NaN</td>\n",
       "      <td>NaN</td>\n",
       "      <td>0.000</td>\n",
       "    </tr>\n",
       "    <tr>\n",
       "      <th>ENSG00000000938</th>\n",
       "      <td>0.000019</td>\n",
       "      <td>0.000449</td>\n",
       "      <td>0.014776</td>\n",
       "      <td>8.855560e-11</td>\n",
       "      <td>0.000091</td>\n",
       "      <td>6.395000e-07</td>\n",
       "      <td>0.000090</td>\n",
       "      <td>0.000767</td>\n",
       "      <td>0.000453</td>\n",
       "      <td>5.325200e-07</td>\n",
       "      <td>...</td>\n",
       "      <td>NaN</td>\n",
       "      <td>NaN</td>\n",
       "      <td>NaN</td>\n",
       "      <td>0.002</td>\n",
       "      <td>NaN</td>\n",
       "      <td>NaN</td>\n",
       "      <td>0.001</td>\n",
       "      <td>NaN</td>\n",
       "      <td>NaN</td>\n",
       "      <td>NaN</td>\n",
       "    </tr>\n",
       "    <tr>\n",
       "      <th>ENSG00000000971</th>\n",
       "      <td>0.000006</td>\n",
       "      <td>0.000674</td>\n",
       "      <td>0.001918</td>\n",
       "      <td>4.448820e-10</td>\n",
       "      <td>0.000057</td>\n",
       "      <td>1.796000e-07</td>\n",
       "      <td>0.000044</td>\n",
       "      <td>0.000049</td>\n",
       "      <td>0.000212</td>\n",
       "      <td>9.644000e-07</td>\n",
       "      <td>...</td>\n",
       "      <td>NaN</td>\n",
       "      <td>NaN</td>\n",
       "      <td>NaN</td>\n",
       "      <td>NaN</td>\n",
       "      <td>NaN</td>\n",
       "      <td>NaN</td>\n",
       "      <td>0.000</td>\n",
       "      <td>NaN</td>\n",
       "      <td>NaN</td>\n",
       "      <td>0.000</td>\n",
       "    </tr>\n",
       "  </tbody>\n",
       "</table>\n",
       "<p>5 rows × 4091 columns</p>\n",
       "</div>"
      ],
      "text/plain": [
       "                 20485-Ever_contemplated_selfharm  \\\n",
       "gene_name                                           \n",
       "ENSG00000000419                          0.000008   \n",
       "ENSG00000000457                          0.000131   \n",
       "ENSG00000000460                          0.000014   \n",
       "ENSG00000000938                          0.000019   \n",
       "ENSG00000000971                          0.000006   \n",
       "\n",
       "                 6160_2-Leisuresocial_activities_Pub_or_social_club  \\\n",
       "gene_name                                                             \n",
       "ENSG00000000419                                           0.000505    \n",
       "ENSG00000000457                                           0.002876    \n",
       "ENSG00000000460                                           0.000975    \n",
       "ENSG00000000938                                           0.000449    \n",
       "ENSG00000000971                                           0.000674    \n",
       "\n",
       "                 6139_3-Gas_or_solidfuel_cookingheating_An_open_solid_fuel_fire_that_you_use_regularly_in_winter_time  \\\n",
       "gene_name                                                                                                               \n",
       "ENSG00000000419                                           0.000305                                                      \n",
       "ENSG00000000457                                           0.003605                                                      \n",
       "ENSG00000000460                                           0.005453                                                      \n",
       "ENSG00000000938                                           0.014776                                                      \n",
       "ENSG00000000971                                           0.001918                                                      \n",
       "\n",
       "                 L12_FOLLICULARNAS-Other_and_unspecified_follicular_disorders  \\\n",
       "gene_name                                                                       \n",
       "ENSG00000000419                                       3.300140e-11              \n",
       "ENSG00000000457                                       8.840290e-11              \n",
       "ENSG00000000460                                       9.497296e-11              \n",
       "ENSG00000000938                                       8.855560e-11              \n",
       "ENSG00000000971                                       4.448820e-10              \n",
       "\n",
       "                 2654_8-Nonbutter_spread_type_details_Other_low_or_reduced_fat_spread  \\\n",
       "gene_name                                                                               \n",
       "ENSG00000000419                                           0.000039                      \n",
       "ENSG00000000457                                           0.000203                      \n",
       "ENSG00000000460                                           0.000147                      \n",
       "ENSG00000000938                                           0.000091                      \n",
       "ENSG00000000971                                           0.000057                      \n",
       "\n",
       "                 22617_8139-Job_SOC_coding_Assemblers_and_routine_operatives_nec  \\\n",
       "gene_name                                                                          \n",
       "ENSG00000000419                                       3.736700e-07                 \n",
       "ENSG00000000457                                       7.714700e-07                 \n",
       "ENSG00000000460                                       1.070900e-06                 \n",
       "ENSG00000000938                                       6.395000e-07                 \n",
       "ENSG00000000971                                       1.796000e-07                 \n",
       "\n",
       "                 I9_CARDMPRI-Cardiomyopathies_Primaryintrinsic  \\\n",
       "gene_name                                                        \n",
       "ENSG00000000419                                       0.000010   \n",
       "ENSG00000000457                                       0.000195   \n",
       "ENSG00000000460                                       0.000029   \n",
       "ENSG00000000938                                       0.000090   \n",
       "ENSG00000000971                                       0.000044   \n",
       "\n",
       "                 20003_1141188442-Treatmentmedication_code_glucosamine_product  \\\n",
       "gene_name                                                                        \n",
       "ENSG00000000419                                           0.000017               \n",
       "ENSG00000000457                                           0.000601               \n",
       "ENSG00000000460                                           0.000224               \n",
       "ENSG00000000938                                           0.000767               \n",
       "ENSG00000000971                                           0.000049               \n",
       "\n",
       "                 RHEUMA_SEROPOS_OTH-Otherunspecified_seropositiverheumatoid_arthritis  \\\n",
       "gene_name                                                                               \n",
       "ENSG00000000419                                           0.000044                      \n",
       "ENSG00000000457                                           0.000245                      \n",
       "ENSG00000000460                                           0.004665                      \n",
       "ENSG00000000938                                           0.000453                      \n",
       "ENSG00000000971                                           0.000212                      \n",
       "\n",
       "                 22601_11523251-Job_coding_office_manager_accountpayrolls_manager_administration_manager_litigationsolicitors_office_manager  \\\n",
       "gene_name                                                                                                                                      \n",
       "ENSG00000000419                                       2.399400e-07                                                                             \n",
       "ENSG00000000457                                       5.047600e-06                                                                             \n",
       "ENSG00000000460                                       3.258560e-06                                                                             \n",
       "ENSG00000000938                                       5.325200e-07                                                                             \n",
       "ENSG00000000971                                       9.644000e-07                                                                             \n",
       "\n",
       "                 ...  PGC_ADHD_EUR_2017  BCAC_ER_negative_BreastCancer_EUR  \\\n",
       "gene_name        ...                                                         \n",
       "ENSG00000000419  ...                0.0                                NaN   \n",
       "ENSG00000000457  ...                NaN                                NaN   \n",
       "ENSG00000000460  ...                NaN                                NaN   \n",
       "ENSG00000000938  ...                NaN                                NaN   \n",
       "ENSG00000000971  ...                NaN                                NaN   \n",
       "\n",
       "                 SSGAC_Education_Years_Pooled  pgc.scz2  MAGNETIC_HDL.C  \\\n",
       "gene_name                                                                 \n",
       "ENSG00000000419                         0.001     0.000             NaN   \n",
       "ENSG00000000457                         0.000       NaN             NaN   \n",
       "ENSG00000000460                         0.000       NaN             NaN   \n",
       "ENSG00000000938                           NaN     0.002             NaN   \n",
       "ENSG00000000971                           NaN       NaN             NaN   \n",
       "\n",
       "                 MAGIC_ln_FastingInsulin  \\\n",
       "gene_name                                  \n",
       "ENSG00000000419                      NaN   \n",
       "ENSG00000000457                      NaN   \n",
       "ENSG00000000460                      NaN   \n",
       "ENSG00000000938                      NaN   \n",
       "ENSG00000000971                      NaN   \n",
       "\n",
       "                 Astle_et_al_2016_Sum_eosinophil_basophil_counts  \\\n",
       "gene_name                                                          \n",
       "ENSG00000000419                                            0.001   \n",
       "ENSG00000000457                                            0.000   \n",
       "ENSG00000000460                                            0.000   \n",
       "ENSG00000000938                                            0.001   \n",
       "ENSG00000000971                                            0.000   \n",
       "\n",
       "                 SSGAC_Depressive_Symptoms  Jones_et_al_2016_SleepDuration  \\\n",
       "gene_name                                                                    \n",
       "ENSG00000000419                        NaN                             NaN   \n",
       "ENSG00000000457                        NaN                             NaN   \n",
       "ENSG00000000460                        NaN                             NaN   \n",
       "ENSG00000000938                        NaN                             NaN   \n",
       "ENSG00000000971                        NaN                             NaN   \n",
       "\n",
       "                 Astle_et_al_2016_Red_blood_cell_count  \n",
       "gene_name                                               \n",
       "ENSG00000000419                                  0.001  \n",
       "ENSG00000000457                                  0.000  \n",
       "ENSG00000000460                                  0.000  \n",
       "ENSG00000000938                                    NaN  \n",
       "ENSG00000000971                                  0.000  \n",
       "\n",
       "[5 rows x 4091 columns]"
      ]
     },
     "execution_count": 31,
     "metadata": {},
     "output_type": "execute_result"
    }
   ],
   "source": [
    "fastenloc_gene_associations.head()"
   ]
  },
  {
   "cell_type": "code",
   "execution_count": 40,
   "metadata": {},
   "outputs": [
    {
     "data": {
      "text/plain": [
       "3.6406000000000003e-06"
      ]
     },
     "execution_count": 40,
     "metadata": {},
     "output_type": "execute_result"
    }
   ],
   "source": [
    "fastenloc_gene_associations.loc['ENSG00000267462', '100001_raw-Food_weight']"
   ]
  },
  {
   "cell_type": "code",
   "execution_count": 34,
   "metadata": {},
   "outputs": [
    {
     "data": {
      "text/plain": [
       "Index(['6144_1-Never_eat_eggs_dairy_wheat_sugar_Eggs_or_foods_containing_eggs',\n",
       "       '22601_12233383-Job_coding_restaurant_or_catering_manager_restaurateur_canteen_manager_takeaway_food_shop_manager',\n",
       "       '102700-Starchy_food_consumers',\n",
       "       '20002_1562-Noncancer_illness_code_selfreported_food_intolerance',\n",
       "       '6144_4-Never_eat_eggs_dairy_wheat_sugar_Sugar_or_foodsdrinks_containing_sugar',\n",
       "       '20003_1199-Treatmentmedication_code_food_supplementplantherbal_extract',\n",
       "       '1478-Salt_added_to_food',\n",
       "       'R63-Diagnoses_main_ICD10_R63_Symptoms_and_signs_concerning_food_and_fluid_intake',\n",
       "       '20002_1385-Noncancer_illness_code_selfreported_allergy_or_anaphylactic_reaction_to_food',\n",
       "       '22601_71113328-Job_coding_sales_assistant_retailshop_assistant_counter_assistant_sub_post_office_assistant_takeaway_food_worker'],\n",
       "      dtype='object')"
      ]
     },
     "execution_count": 34,
     "metadata": {},
     "output_type": "execute_result"
    }
   ],
   "source": [
    "fastenloc_gene_associations.columns[fastenloc_gene_associations.columns.str.contains('food')]"
   ]
  },
  {
   "cell_type": "code",
   "execution_count": 47,
   "metadata": {},
   "outputs": [],
   "source": [
    "import re"
   ]
  },
  {
   "cell_type": "code",
   "execution_count": 52,
   "metadata": {},
   "outputs": [],
   "source": [
    "HDF5_KEY_NO_PATTERN = re.compile('[^0-9a-zA-Z_]')"
   ]
  },
  {
   "cell_type": "code",
   "execution_count": 56,
   "metadata": {},
   "outputs": [
    {
     "data": {
      "text/plain": [
       "'100001_raw_Food_weight'"
      ]
     },
     "execution_count": 56,
     "metadata": {},
     "output_type": "execute_result"
    }
   ],
   "source": [
    "re.sub(HDF5_KEY_NO_PATTERN, '_', '100001_raw-Food_weight')"
   ]
  },
  {
   "cell_type": "code",
   "execution_count": 41,
   "metadata": {},
   "outputs": [],
   "source": [
    "from utils import simplify_string_for_hdf5"
   ]
  },
  {
   "cell_type": "code",
   "execution_count": 43,
   "metadata": {},
   "outputs": [
    {
     "data": {
      "text/plain": [
       "'c_'"
      ]
     },
     "metadata": {},
     "output_type": "display_data"
    }
   ],
   "source": [
    "_pheno = simplify_string_for_hdf5('100001_raw-Food_weight')\n",
    "display(_pheno)\n",
    "_tmp = pd.read_hdf('/mnt/phenomexcan_base/gene_assoc/fastenloc-torus-rcp.h5', key=_pheno)"
   ]
  },
  {
   "cell_type": "code",
   "execution_count": 45,
   "metadata": {},
   "outputs": [
    {
     "data": {
      "text/plain": [
       "gene_id\n",
       "ENSG00000000419    0.001\n",
       "ENSG00000000457    0.000\n",
       "ENSG00000000460    0.000\n",
       "ENSG00000000938      NaN\n",
       "ENSG00000000971    0.000\n",
       "Name: Astle_et_al_2016_Red_blood_cell_count, dtype: float64"
      ]
     },
     "execution_count": 45,
     "metadata": {},
     "output_type": "execute_result"
    }
   ],
   "source": [
    "_tmp.head()"
   ]
  },
  {
   "cell_type": "markdown",
   "metadata": {},
   "source": [
    "# Combine S-MultiXcan results into one file"
   ]
  },
  {
   "cell_type": "code",
   "execution_count": 52,
   "metadata": {},
   "outputs": [
    {
     "data": {
      "text/plain": [
       "'/mnt/phenomexcan_base/results/smultixcan/rapid_gwas_project'"
      ]
     },
     "metadata": {},
     "output_type": "display_data"
    }
   ],
   "source": [
    "smultixcan_mash_dir = conf.SMULTIXCAN_RESULTS_DIR['RapidGWASProject']\n",
    "display(smultixcan_mash_dir)"
   ]
  },
  {
   "cell_type": "code",
   "execution_count": 54,
   "metadata": {},
   "outputs": [
    {
     "name": "stdout",
     "output_type": "stream",
     "text": [
      "Using directory: /mnt/phenomexcan_base/results/smultixcan/rapid_gwas_project\n",
      "Using output file: /mnt/tmp/output.tsv\n",
      "Using command: zcat\n",
      "Adding header\n",
      "Concatenating S-MultiXcan results\n"
     ]
    }
   ],
   "source": [
    "%%bash -s \"$smultixcan_mash_dir\" \"$output_file\"\n",
    "bash combine_smultixcan_results.sh ${1} ${2} zcat --add-header"
   ]
  },
  {
   "cell_type": "code",
   "execution_count": 55,
   "metadata": {},
   "outputs": [
    {
     "data": {
      "text/plain": [
       "'/mnt/phenomexcan_base/results/smultixcan/gtex_gwas'"
      ]
     },
     "metadata": {},
     "output_type": "display_data"
    }
   ],
   "source": [
    "smultixcan_gtex_gwas_dir = conf.SMULTIXCAN_RESULTS_DIR['GTEX_GWAS']\n",
    "display(smultixcan_gtex_gwas_dir)"
   ]
  },
  {
   "cell_type": "code",
   "execution_count": 56,
   "metadata": {},
   "outputs": [
    {
     "name": "stdout",
     "output_type": "stream",
     "text": [
      "Using directory: /mnt/phenomexcan_base/results/smultixcan/gtex_gwas\n",
      "Using output file: /mnt/tmp/output.tsv\n",
      "Using command: cat\n",
      "Concatenating S-MultiXcan results\n"
     ]
    }
   ],
   "source": [
    "%%bash -s \"$smultixcan_gtex_gwas_dir\" \"$output_file\"\n",
    "bash combine_smultixcan_results.sh ${1} ${2} cat"
   ]
  },
  {
   "cell_type": "markdown",
   "metadata": {},
   "source": [
    "# Load phenotype information"
   ]
  },
  {
   "cell_type": "code",
   "execution_count": 35,
   "metadata": {},
   "outputs": [
    {
     "data": {
      "text/plain": [
       "'/mnt/phenomexcan_base/deliverables/phenotypes_info.tsv.gz'"
      ]
     },
     "execution_count": 35,
     "metadata": {},
     "output_type": "execute_result"
    }
   ],
   "source": [
    "os.path.join(conf.DELIVERABLES_DIR, 'phenotypes_info.tsv.gz')"
   ]
  },
  {
   "cell_type": "code",
   "execution_count": 36,
   "metadata": {},
   "outputs": [],
   "source": [
    "pheno_info = pd.read_csv(os.path.join(conf.DELIVERABLES_DIR, 'phenotypes_info.tsv.gz'), sep='\\t')"
   ]
  },
  {
   "cell_type": "code",
   "execution_count": 37,
   "metadata": {},
   "outputs": [
    {
     "data": {
      "text/plain": [
       "(4091, 9)"
      ]
     },
     "execution_count": 37,
     "metadata": {},
     "output_type": "execute_result"
    }
   ],
   "source": [
    "pheno_info.shape"
   ]
  },
  {
   "cell_type": "code",
   "execution_count": 38,
   "metadata": {},
   "outputs": [
    {
     "data": {
      "text/html": [
       "<div>\n",
       "<style scoped>\n",
       "    .dataframe tbody tr th:only-of-type {\n",
       "        vertical-align: middle;\n",
       "    }\n",
       "\n",
       "    .dataframe tbody tr th {\n",
       "        vertical-align: top;\n",
       "    }\n",
       "\n",
       "    .dataframe thead th {\n",
       "        text-align: right;\n",
       "    }\n",
       "</style>\n",
       "<table border=\"1\" class=\"dataframe\">\n",
       "  <thead>\n",
       "    <tr style=\"text-align: right;\">\n",
       "      <th></th>\n",
       "      <th>full_code</th>\n",
       "      <th>short_code</th>\n",
       "      <th>description</th>\n",
       "      <th>unique_description</th>\n",
       "      <th>type</th>\n",
       "      <th>n</th>\n",
       "      <th>n_cases</th>\n",
       "      <th>n_controls</th>\n",
       "      <th>source</th>\n",
       "    </tr>\n",
       "  </thead>\n",
       "  <tbody>\n",
       "    <tr>\n",
       "      <th>0</th>\n",
       "      <td>100001_raw-Food_weight</td>\n",
       "      <td>100001_raw</td>\n",
       "      <td>Food weight</td>\n",
       "      <td>Food weight</td>\n",
       "      <td>continuous_raw</td>\n",
       "      <td>51453</td>\n",
       "      <td>NaN</td>\n",
       "      <td>NaN</td>\n",
       "      <td>UK Biobank</td>\n",
       "    </tr>\n",
       "    <tr>\n",
       "      <th>1</th>\n",
       "      <td>100002_raw-Energy</td>\n",
       "      <td>100002_raw</td>\n",
       "      <td>Energy</td>\n",
       "      <td>Energy</td>\n",
       "      <td>continuous_raw</td>\n",
       "      <td>51453</td>\n",
       "      <td>NaN</td>\n",
       "      <td>NaN</td>\n",
       "      <td>UK Biobank</td>\n",
       "    </tr>\n",
       "    <tr>\n",
       "      <th>2</th>\n",
       "      <td>100003_raw-Protein</td>\n",
       "      <td>100003_raw</td>\n",
       "      <td>Protein</td>\n",
       "      <td>Protein</td>\n",
       "      <td>continuous_raw</td>\n",
       "      <td>51453</td>\n",
       "      <td>NaN</td>\n",
       "      <td>NaN</td>\n",
       "      <td>UK Biobank</td>\n",
       "    </tr>\n",
       "    <tr>\n",
       "      <th>3</th>\n",
       "      <td>100004_raw-Fat</td>\n",
       "      <td>100004_raw</td>\n",
       "      <td>Fat</td>\n",
       "      <td>Fat</td>\n",
       "      <td>continuous_raw</td>\n",
       "      <td>51453</td>\n",
       "      <td>NaN</td>\n",
       "      <td>NaN</td>\n",
       "      <td>UK Biobank</td>\n",
       "    </tr>\n",
       "    <tr>\n",
       "      <th>4</th>\n",
       "      <td>100005_raw-Carbohydrate</td>\n",
       "      <td>100005_raw</td>\n",
       "      <td>Carbohydrate</td>\n",
       "      <td>Carbohydrate</td>\n",
       "      <td>continuous_raw</td>\n",
       "      <td>51453</td>\n",
       "      <td>NaN</td>\n",
       "      <td>NaN</td>\n",
       "      <td>UK Biobank</td>\n",
       "    </tr>\n",
       "  </tbody>\n",
       "</table>\n",
       "</div>"
      ],
      "text/plain": [
       "                 full_code  short_code   description unique_description  \\\n",
       "0   100001_raw-Food_weight  100001_raw   Food weight        Food weight   \n",
       "1        100002_raw-Energy  100002_raw        Energy             Energy   \n",
       "2       100003_raw-Protein  100003_raw       Protein            Protein   \n",
       "3           100004_raw-Fat  100004_raw           Fat                Fat   \n",
       "4  100005_raw-Carbohydrate  100005_raw  Carbohydrate       Carbohydrate   \n",
       "\n",
       "             type      n  n_cases  n_controls      source  \n",
       "0  continuous_raw  51453      NaN         NaN  UK Biobank  \n",
       "1  continuous_raw  51453      NaN         NaN  UK Biobank  \n",
       "2  continuous_raw  51453      NaN         NaN  UK Biobank  \n",
       "3  continuous_raw  51453      NaN         NaN  UK Biobank  \n",
       "4  continuous_raw  51453      NaN         NaN  UK Biobank  "
      ]
     },
     "execution_count": 38,
     "metadata": {},
     "output_type": "execute_result"
    }
   ],
   "source": [
    "pheno_info.head()"
   ]
  },
  {
   "cell_type": "code",
   "execution_count": 60,
   "metadata": {},
   "outputs": [],
   "source": [
    "pheno_id_to_desc = pheno_info[['short_code', 'description']].set_index('short_code').to_dict()['description']"
   ]
  },
  {
   "cell_type": "code",
   "execution_count": 61,
   "metadata": {},
   "outputs": [
    {
     "data": {
      "text/plain": [
       "'Diagnoses - main ICD10: J45 Asthma'"
      ]
     },
     "execution_count": 61,
     "metadata": {},
     "output_type": "execute_result"
    }
   ],
   "source": [
    "pheno_id_to_desc['J45']"
   ]
  },
  {
   "cell_type": "code",
   "execution_count": 62,
   "metadata": {},
   "outputs": [],
   "source": [
    "pheno_id_to_full_code = pheno_info[['short_code', 'full_code']].set_index('short_code').to_dict()['full_code']"
   ]
  },
  {
   "cell_type": "code",
   "execution_count": 63,
   "metadata": {},
   "outputs": [
    {
     "data": {
      "text/plain": [
       "'100001_raw-Food_weight'"
      ]
     },
     "execution_count": 63,
     "metadata": {},
     "output_type": "execute_result"
    }
   ],
   "source": [
    "pheno_id_to_full_code['100001_raw']"
   ]
  },
  {
   "cell_type": "markdown",
   "metadata": {},
   "source": [
    "# Sample of combined file"
   ]
  },
  {
   "cell_type": "code",
   "execution_count": 57,
   "metadata": {},
   "outputs": [],
   "source": [
    "output_file = '/mnt/tmp/output.tsv'"
   ]
  },
  {
   "cell_type": "code",
   "execution_count": 58,
   "metadata": {},
   "outputs": [],
   "source": [
    "_tmp = pd.read_csv(output_file, sep='\\t', iterator=True).get_chunk(1000000)"
   ]
  },
  {
   "cell_type": "code",
   "execution_count": 59,
   "metadata": {},
   "outputs": [
    {
     "data": {
      "text/html": [
       "<div>\n",
       "<style scoped>\n",
       "    .dataframe tbody tr th:only-of-type {\n",
       "        vertical-align: middle;\n",
       "    }\n",
       "\n",
       "    .dataframe tbody tr th {\n",
       "        vertical-align: top;\n",
       "    }\n",
       "\n",
       "    .dataframe thead th {\n",
       "        text-align: right;\n",
       "    }\n",
       "</style>\n",
       "<table border=\"1\" class=\"dataframe\">\n",
       "  <thead>\n",
       "    <tr style=\"text-align: right;\">\n",
       "      <th></th>\n",
       "      <th>gene</th>\n",
       "      <th>gene_name</th>\n",
       "      <th>band</th>\n",
       "      <th>pheno_desc</th>\n",
       "      <th>pheno_source</th>\n",
       "      <th>pvalue</th>\n",
       "      <th>n</th>\n",
       "      <th>n_indep</th>\n",
       "      <th>p_i_best</th>\n",
       "      <th>t_i_best</th>\n",
       "      <th>rcp</th>\n",
       "    </tr>\n",
       "  </thead>\n",
       "  <tbody>\n",
       "    <tr>\n",
       "      <th>0</th>\n",
       "      <td>ENSG00000116406.18</td>\n",
       "      <td>EDEM3</td>\n",
       "      <td>1q25.3</td>\n",
       "      <td>Energy</td>\n",
       "      <td>UK Biobank</td>\n",
       "      <td>0.000029</td>\n",
       "      <td>42</td>\n",
       "      <td>4</td>\n",
       "      <td>0.000008</td>\n",
       "      <td>Cells_EBV-transformed_lymphocytes</td>\n",
       "      <td>2.831000e-04</td>\n",
       "    </tr>\n",
       "    <tr>\n",
       "      <th>1</th>\n",
       "      <td>ENSG00000101182.14</td>\n",
       "      <td>PSMA7</td>\n",
       "      <td>20q13.33</td>\n",
       "      <td>Energy</td>\n",
       "      <td>UK Biobank</td>\n",
       "      <td>0.000051</td>\n",
       "      <td>48</td>\n",
       "      <td>3</td>\n",
       "      <td>0.001494</td>\n",
       "      <td>Pancreas</td>\n",
       "      <td>4.536000e-07</td>\n",
       "    </tr>\n",
       "    <tr>\n",
       "      <th>2</th>\n",
       "      <td>ENSG00000233068.2</td>\n",
       "      <td>RP1-140K8.1</td>\n",
       "      <td>6p25.2</td>\n",
       "      <td>Energy</td>\n",
       "      <td>UK Biobank</td>\n",
       "      <td>0.000061</td>\n",
       "      <td>2</td>\n",
       "      <td>1</td>\n",
       "      <td>0.000061</td>\n",
       "      <td>Artery_Aorta</td>\n",
       "      <td>9.070000e-07</td>\n",
       "    </tr>\n",
       "    <tr>\n",
       "      <th>3</th>\n",
       "      <td>ENSG00000071073.12</td>\n",
       "      <td>MGAT4A</td>\n",
       "      <td>2q11.2</td>\n",
       "      <td>Energy</td>\n",
       "      <td>UK Biobank</td>\n",
       "      <td>0.000079</td>\n",
       "      <td>48</td>\n",
       "      <td>7</td>\n",
       "      <td>0.000858</td>\n",
       "      <td>Muscle_Skeletal</td>\n",
       "      <td>1.363000e-06</td>\n",
       "    </tr>\n",
       "    <tr>\n",
       "      <th>4</th>\n",
       "      <td>ENSG00000182224.11</td>\n",
       "      <td>CYB5D1</td>\n",
       "      <td>17p13.1</td>\n",
       "      <td>Energy</td>\n",
       "      <td>UK Biobank</td>\n",
       "      <td>0.000088</td>\n",
       "      <td>45</td>\n",
       "      <td>4</td>\n",
       "      <td>0.000686</td>\n",
       "      <td>Pituitary</td>\n",
       "      <td>1.495800e-05</td>\n",
       "    </tr>\n",
       "  </tbody>\n",
       "</table>\n",
       "</div>"
      ],
      "text/plain": [
       "                 gene    gene_name      band pheno_desc pheno_source  \\\n",
       "0  ENSG00000116406.18        EDEM3    1q25.3     Energy   UK Biobank   \n",
       "1  ENSG00000101182.14        PSMA7  20q13.33     Energy   UK Biobank   \n",
       "2   ENSG00000233068.2  RP1-140K8.1    6p25.2     Energy   UK Biobank   \n",
       "3  ENSG00000071073.12       MGAT4A    2q11.2     Energy   UK Biobank   \n",
       "4  ENSG00000182224.11       CYB5D1   17p13.1     Energy   UK Biobank   \n",
       "\n",
       "     pvalue   n  n_indep  p_i_best                           t_i_best  \\\n",
       "0  0.000029  42        4  0.000008  Cells_EBV-transformed_lymphocytes   \n",
       "1  0.000051  48        3  0.001494                           Pancreas   \n",
       "2  0.000061   2        1  0.000061                       Artery_Aorta   \n",
       "3  0.000079  48        7  0.000858                    Muscle_Skeletal   \n",
       "4  0.000088  45        4  0.000686                          Pituitary   \n",
       "\n",
       "            rcp  \n",
       "0  2.831000e-04  \n",
       "1  4.536000e-07  \n",
       "2  9.070000e-07  \n",
       "3  1.363000e-06  \n",
       "4  1.495800e-05  "
      ]
     },
     "execution_count": 59,
     "metadata": {},
     "output_type": "execute_result"
    }
   ],
   "source": [
    "_tmp.head()"
   ]
  },
  {
   "cell_type": "code",
   "execution_count": 60,
   "metadata": {},
   "outputs": [
    {
     "data": {
      "text/plain": [
       "gene             object\n",
       "gene_name        object\n",
       "band             object\n",
       "pheno_desc       object\n",
       "pheno_source     object\n",
       "pvalue          float64\n",
       "n                 int64\n",
       "n_indep           int64\n",
       "p_i_best        float64\n",
       "t_i_best         object\n",
       "rcp             float64\n",
       "dtype: object"
      ]
     },
     "execution_count": 60,
     "metadata": {},
     "output_type": "execute_result"
    }
   ],
   "source": [
    "_tmp.dtypes"
   ]
  },
  {
   "cell_type": "code",
   "execution_count": 64,
   "metadata": {},
   "outputs": [
    {
     "data": {
      "text/plain": [
       "18"
      ]
     },
     "execution_count": 64,
     "metadata": {},
     "output_type": "execute_result"
    }
   ],
   "source": [
    "_tmp['gene'].apply(len).max()"
   ]
  },
  {
   "cell_type": "code",
   "execution_count": 67,
   "metadata": {},
   "outputs": [
    {
     "data": {
      "text/plain": [
       "19"
      ]
     },
     "execution_count": 67,
     "metadata": {},
     "output_type": "execute_result"
    }
   ],
   "source": [
    "_tmp['gene_name'].apply(len).max()"
   ]
  },
  {
   "cell_type": "markdown",
   "metadata": {},
   "source": [
    "# Process S-MultiXcan results"
   ]
  },
  {
   "cell_type": "code",
   "execution_count": 40,
   "metadata": {},
   "outputs": [],
   "source": [
    "def _get_pheno_ids(filename):\n",
    "    pheno_code = filename['file'].split('smultixcan_')[1].split('_ccn30')[0]\n",
    "    return pheno_id_to_desc[pheno_code], pheno_id_to_full_code[pheno_code]\n",
    "\n",
    "def _process_chunk(data):\n",
    "    # take only selected columns\n",
    "    data = data[['gene', 'gene_name', 'file', 'pvalue', 'n', 'n_indep', 't_i_best', 'p_i_best']]\n",
    "    \n",
    "    # drop nan results\n",
    "    data = data.dropna(subset=['pvalue'])\n",
    "    \n",
    "    # get phenotype and add column\n",
    "    _tmp = data.apply(_get_pheno_ids, axis=1, result_type='expand')\n",
    "    data = data.assign(pheno_desc=_tmp[0])\n",
    "    data = data.assign(pheno_full_code=_tmp[1])\n",
    "    data = data.drop(columns=['file'])\n",
    "    \n",
    "    # add phenotype description\n",
    "    \n",
    "    # add gene band\n",
    "    \n",
    "    # add fastenloc rcp\n",
    "    \n",
    "    # write to output with no headers\n",
    "    \n",
    "    return data"
   ]
  },
  {
   "cell_type": "code",
   "execution_count": 17,
   "metadata": {},
   "outputs": [],
   "source": [
    "CHUNKSIZE=1000000"
   ]
  },
  {
   "cell_type": "code",
   "execution_count": 18,
   "metadata": {},
   "outputs": [],
   "source": [
    "combined_file = pd.read_csv(output_file, sep='\\t', iterator=True, chunksize=CHUNKSIZE)"
   ]
  },
  {
   "cell_type": "code",
   "execution_count": 44,
   "metadata": {},
   "outputs": [
    {
     "ename": "ParserError",
     "evalue": "Error tokenizing data. C error: Expected 9 fields in line 2313, saw 15\n",
     "output_type": "error",
     "traceback": [
      "\u001b[0;31m---------------------------------------------------------------------------\u001b[0m",
      "\u001b[0;31mParserError\u001b[0m                               Traceback (most recent call last)",
      "\u001b[0;32m<ipython-input-44-d57461795eab>\u001b[0m in \u001b[0;36m<module>\u001b[0;34m\u001b[0m\n\u001b[0;32m----> 1\u001b[0;31m \u001b[0m_tmp\u001b[0m \u001b[0;34m=\u001b[0m \u001b[0mcombined_file\u001b[0m\u001b[0;34m.\u001b[0m\u001b[0mget_chunk\u001b[0m\u001b[0;34m(\u001b[0m\u001b[0;36m1000000\u001b[0m\u001b[0;34m)\u001b[0m\u001b[0;34m\u001b[0m\u001b[0;34m\u001b[0m\u001b[0m\n\u001b[0m",
      "\u001b[0;32m/mnt/tmp/conda/phenomexcan_final/lib/python3.7/site-packages/pandas/io/parsers.py\u001b[0m in \u001b[0;36mget_chunk\u001b[0;34m(self, size)\u001b[0m\n\u001b[1;32m   1171\u001b[0m                 \u001b[0;32mraise\u001b[0m \u001b[0mStopIteration\u001b[0m\u001b[0;34m\u001b[0m\u001b[0;34m\u001b[0m\u001b[0m\n\u001b[1;32m   1172\u001b[0m             \u001b[0msize\u001b[0m \u001b[0;34m=\u001b[0m \u001b[0mmin\u001b[0m\u001b[0;34m(\u001b[0m\u001b[0msize\u001b[0m\u001b[0;34m,\u001b[0m \u001b[0mself\u001b[0m\u001b[0;34m.\u001b[0m\u001b[0mnrows\u001b[0m \u001b[0;34m-\u001b[0m \u001b[0mself\u001b[0m\u001b[0;34m.\u001b[0m\u001b[0m_currow\u001b[0m\u001b[0;34m)\u001b[0m\u001b[0;34m\u001b[0m\u001b[0;34m\u001b[0m\u001b[0m\n\u001b[0;32m-> 1173\u001b[0;31m         \u001b[0;32mreturn\u001b[0m \u001b[0mself\u001b[0m\u001b[0;34m.\u001b[0m\u001b[0mread\u001b[0m\u001b[0;34m(\u001b[0m\u001b[0mnrows\u001b[0m\u001b[0;34m=\u001b[0m\u001b[0msize\u001b[0m\u001b[0;34m)\u001b[0m\u001b[0;34m\u001b[0m\u001b[0;34m\u001b[0m\u001b[0m\n\u001b[0m\u001b[1;32m   1174\u001b[0m \u001b[0;34m\u001b[0m\u001b[0m\n\u001b[1;32m   1175\u001b[0m \u001b[0;34m\u001b[0m\u001b[0m\n",
      "\u001b[0;32m/mnt/tmp/conda/phenomexcan_final/lib/python3.7/site-packages/pandas/io/parsers.py\u001b[0m in \u001b[0;36mread\u001b[0;34m(self, nrows)\u001b[0m\n\u001b[1;32m   1137\u001b[0m     \u001b[0;32mdef\u001b[0m \u001b[0mread\u001b[0m\u001b[0;34m(\u001b[0m\u001b[0mself\u001b[0m\u001b[0;34m,\u001b[0m \u001b[0mnrows\u001b[0m\u001b[0;34m=\u001b[0m\u001b[0;32mNone\u001b[0m\u001b[0;34m)\u001b[0m\u001b[0;34m:\u001b[0m\u001b[0;34m\u001b[0m\u001b[0;34m\u001b[0m\u001b[0m\n\u001b[1;32m   1138\u001b[0m         \u001b[0mnrows\u001b[0m \u001b[0;34m=\u001b[0m \u001b[0m_validate_integer\u001b[0m\u001b[0;34m(\u001b[0m\u001b[0;34m'nrows'\u001b[0m\u001b[0;34m,\u001b[0m \u001b[0mnrows\u001b[0m\u001b[0;34m)\u001b[0m\u001b[0;34m\u001b[0m\u001b[0;34m\u001b[0m\u001b[0m\n\u001b[0;32m-> 1139\u001b[0;31m         \u001b[0mret\u001b[0m \u001b[0;34m=\u001b[0m \u001b[0mself\u001b[0m\u001b[0;34m.\u001b[0m\u001b[0m_engine\u001b[0m\u001b[0;34m.\u001b[0m\u001b[0mread\u001b[0m\u001b[0;34m(\u001b[0m\u001b[0mnrows\u001b[0m\u001b[0;34m)\u001b[0m\u001b[0;34m\u001b[0m\u001b[0;34m\u001b[0m\u001b[0m\n\u001b[0m\u001b[1;32m   1140\u001b[0m \u001b[0;34m\u001b[0m\u001b[0m\n\u001b[1;32m   1141\u001b[0m         \u001b[0;31m# May alter columns / col_dict\u001b[0m\u001b[0;34m\u001b[0m\u001b[0;34m\u001b[0m\u001b[0;34m\u001b[0m\u001b[0m\n",
      "\u001b[0;32m/mnt/tmp/conda/phenomexcan_final/lib/python3.7/site-packages/pandas/io/parsers.py\u001b[0m in \u001b[0;36mread\u001b[0;34m(self, nrows)\u001b[0m\n\u001b[1;32m   1993\u001b[0m     \u001b[0;32mdef\u001b[0m \u001b[0mread\u001b[0m\u001b[0;34m(\u001b[0m\u001b[0mself\u001b[0m\u001b[0;34m,\u001b[0m \u001b[0mnrows\u001b[0m\u001b[0;34m=\u001b[0m\u001b[0;32mNone\u001b[0m\u001b[0;34m)\u001b[0m\u001b[0;34m:\u001b[0m\u001b[0;34m\u001b[0m\u001b[0;34m\u001b[0m\u001b[0m\n\u001b[1;32m   1994\u001b[0m         \u001b[0;32mtry\u001b[0m\u001b[0;34m:\u001b[0m\u001b[0;34m\u001b[0m\u001b[0;34m\u001b[0m\u001b[0m\n\u001b[0;32m-> 1995\u001b[0;31m             \u001b[0mdata\u001b[0m \u001b[0;34m=\u001b[0m \u001b[0mself\u001b[0m\u001b[0;34m.\u001b[0m\u001b[0m_reader\u001b[0m\u001b[0;34m.\u001b[0m\u001b[0mread\u001b[0m\u001b[0;34m(\u001b[0m\u001b[0mnrows\u001b[0m\u001b[0;34m)\u001b[0m\u001b[0;34m\u001b[0m\u001b[0;34m\u001b[0m\u001b[0m\n\u001b[0m\u001b[1;32m   1996\u001b[0m         \u001b[0;32mexcept\u001b[0m \u001b[0mStopIteration\u001b[0m\u001b[0;34m:\u001b[0m\u001b[0;34m\u001b[0m\u001b[0;34m\u001b[0m\u001b[0m\n\u001b[1;32m   1997\u001b[0m             \u001b[0;32mif\u001b[0m \u001b[0mself\u001b[0m\u001b[0;34m.\u001b[0m\u001b[0m_first_chunk\u001b[0m\u001b[0;34m:\u001b[0m\u001b[0;34m\u001b[0m\u001b[0;34m\u001b[0m\u001b[0m\n",
      "\u001b[0;32mpandas/_libs/parsers.pyx\u001b[0m in \u001b[0;36mpandas._libs.parsers.TextReader.read\u001b[0;34m()\u001b[0m\n",
      "\u001b[0;32mpandas/_libs/parsers.pyx\u001b[0m in \u001b[0;36mpandas._libs.parsers.TextReader._read_low_memory\u001b[0;34m()\u001b[0m\n",
      "\u001b[0;32mpandas/_libs/parsers.pyx\u001b[0m in \u001b[0;36mpandas._libs.parsers.TextReader._read_rows\u001b[0;34m()\u001b[0m\n",
      "\u001b[0;32mpandas/_libs/parsers.pyx\u001b[0m in \u001b[0;36mpandas._libs.parsers.TextReader._tokenize_rows\u001b[0;34m()\u001b[0m\n",
      "\u001b[0;32mpandas/_libs/parsers.pyx\u001b[0m in \u001b[0;36mpandas._libs.parsers.raise_parser_error\u001b[0;34m()\u001b[0m\n",
      "\u001b[0;31mParserError\u001b[0m: Error tokenizing data. C error: Expected 9 fields in line 2313, saw 15\n"
     ]
    }
   ],
   "source": [
    "_tmp = combined_file.get_chunk(1000000)"
   ]
  },
  {
   "cell_type": "code",
   "execution_count": 20,
   "metadata": {},
   "outputs": [
    {
     "data": {
      "text/html": [
       "<div>\n",
       "<style scoped>\n",
       "    .dataframe tbody tr th:only-of-type {\n",
       "        vertical-align: middle;\n",
       "    }\n",
       "\n",
       "    .dataframe tbody tr th {\n",
       "        vertical-align: top;\n",
       "    }\n",
       "\n",
       "    .dataframe thead th {\n",
       "        text-align: right;\n",
       "    }\n",
       "</style>\n",
       "<table border=\"1\" class=\"dataframe\">\n",
       "  <thead>\n",
       "    <tr style=\"text-align: right;\">\n",
       "      <th></th>\n",
       "      <th>gene</th>\n",
       "      <th>gene_name</th>\n",
       "      <th>pvalue</th>\n",
       "      <th>n</th>\n",
       "      <th>n_indep</th>\n",
       "      <th>p_i_best</th>\n",
       "      <th>t_i_best</th>\n",
       "      <th>status</th>\n",
       "      <th>file</th>\n",
       "    </tr>\n",
       "  </thead>\n",
       "  <tbody>\n",
       "    <tr>\n",
       "      <th>0</th>\n",
       "      <td>ENSG00000267462.1</td>\n",
       "      <td>RP11-866E20.3</td>\n",
       "      <td>0.000020</td>\n",
       "      <td>2.0</td>\n",
       "      <td>2.0</td>\n",
       "      <td>4.429014e-04</td>\n",
       "      <td>Testis</td>\n",
       "      <td>0</td>\n",
       "      <td>smultixcan_100001_raw_ccn30.tsv.gz</td>\n",
       "    </tr>\n",
       "    <tr>\n",
       "      <th>1</th>\n",
       "      <td>ENSG00000182901.16</td>\n",
       "      <td>RGS7</td>\n",
       "      <td>0.000040</td>\n",
       "      <td>20.0</td>\n",
       "      <td>9.0</td>\n",
       "      <td>1.246461e-05</td>\n",
       "      <td>Nerve_Tibial</td>\n",
       "      <td>0</td>\n",
       "      <td>smultixcan_100001_raw_ccn30.tsv.gz</td>\n",
       "    </tr>\n",
       "    <tr>\n",
       "      <th>2</th>\n",
       "      <td>ENSG00000134755.14</td>\n",
       "      <td>DSC2</td>\n",
       "      <td>0.000048</td>\n",
       "      <td>28.0</td>\n",
       "      <td>4.0</td>\n",
       "      <td>1.649988e-04</td>\n",
       "      <td>Pancreas</td>\n",
       "      <td>0</td>\n",
       "      <td>smultixcan_100001_raw_ccn30.tsv.gz</td>\n",
       "    </tr>\n",
       "    <tr>\n",
       "      <th>3</th>\n",
       "      <td>ENSG00000176075.7</td>\n",
       "      <td>LINC00302</td>\n",
       "      <td>0.000059</td>\n",
       "      <td>1.0</td>\n",
       "      <td>1.0</td>\n",
       "      <td>5.872267e-05</td>\n",
       "      <td>Skin_Sun_Exposed_Lower_leg</td>\n",
       "      <td>0</td>\n",
       "      <td>smultixcan_100001_raw_ccn30.tsv.gz</td>\n",
       "    </tr>\n",
       "    <tr>\n",
       "      <th>4</th>\n",
       "      <td>ENSG00000257817.1</td>\n",
       "      <td>RP4-601P9.2</td>\n",
       "      <td>0.000059</td>\n",
       "      <td>8.0</td>\n",
       "      <td>5.0</td>\n",
       "      <td>9.454374e-07</td>\n",
       "      <td>Testis</td>\n",
       "      <td>0</td>\n",
       "      <td>smultixcan_100001_raw_ccn30.tsv.gz</td>\n",
       "    </tr>\n",
       "  </tbody>\n",
       "</table>\n",
       "</div>"
      ],
      "text/plain": [
       "                 gene      gene_name    pvalue     n  n_indep      p_i_best  \\\n",
       "0   ENSG00000267462.1  RP11-866E20.3  0.000020   2.0      2.0  4.429014e-04   \n",
       "1  ENSG00000182901.16           RGS7  0.000040  20.0      9.0  1.246461e-05   \n",
       "2  ENSG00000134755.14           DSC2  0.000048  28.0      4.0  1.649988e-04   \n",
       "3   ENSG00000176075.7      LINC00302  0.000059   1.0      1.0  5.872267e-05   \n",
       "4   ENSG00000257817.1    RP4-601P9.2  0.000059   8.0      5.0  9.454374e-07   \n",
       "\n",
       "                     t_i_best  status                                file  \n",
       "0                      Testis       0  smultixcan_100001_raw_ccn30.tsv.gz  \n",
       "1                Nerve_Tibial       0  smultixcan_100001_raw_ccn30.tsv.gz  \n",
       "2                    Pancreas       0  smultixcan_100001_raw_ccn30.tsv.gz  \n",
       "3  Skin_Sun_Exposed_Lower_leg       0  smultixcan_100001_raw_ccn30.tsv.gz  \n",
       "4                      Testis       0  smultixcan_100001_raw_ccn30.tsv.gz  "
      ]
     },
     "execution_count": 20,
     "metadata": {},
     "output_type": "execute_result"
    }
   ],
   "source": [
    "_tmp.head()"
   ]
  },
  {
   "cell_type": "code",
   "execution_count": 41,
   "metadata": {},
   "outputs": [],
   "source": [
    "_tmp2 = _process_chunk(_tmp)"
   ]
  },
  {
   "cell_type": "code",
   "execution_count": 43,
   "metadata": {},
   "outputs": [
    {
     "data": {
      "text/html": [
       "<div>\n",
       "<style scoped>\n",
       "    .dataframe tbody tr th:only-of-type {\n",
       "        vertical-align: middle;\n",
       "    }\n",
       "\n",
       "    .dataframe tbody tr th {\n",
       "        vertical-align: top;\n",
       "    }\n",
       "\n",
       "    .dataframe thead th {\n",
       "        text-align: right;\n",
       "    }\n",
       "</style>\n",
       "<table border=\"1\" class=\"dataframe\">\n",
       "  <thead>\n",
       "    <tr style=\"text-align: right;\">\n",
       "      <th></th>\n",
       "      <th>gene</th>\n",
       "      <th>gene_name</th>\n",
       "      <th>pvalue</th>\n",
       "      <th>n</th>\n",
       "      <th>n_indep</th>\n",
       "      <th>t_i_best</th>\n",
       "      <th>p_i_best</th>\n",
       "      <th>pheno_desc</th>\n",
       "      <th>pheno_full_code</th>\n",
       "    </tr>\n",
       "  </thead>\n",
       "  <tbody>\n",
       "    <tr>\n",
       "      <th>0</th>\n",
       "      <td>ENSG00000267462.1</td>\n",
       "      <td>RP11-866E20.3</td>\n",
       "      <td>0.000020</td>\n",
       "      <td>2.0</td>\n",
       "      <td>2.0</td>\n",
       "      <td>Testis</td>\n",
       "      <td>4.429014e-04</td>\n",
       "      <td>Food weight</td>\n",
       "      <td>100001_raw-Food_weight</td>\n",
       "    </tr>\n",
       "    <tr>\n",
       "      <th>1</th>\n",
       "      <td>ENSG00000182901.16</td>\n",
       "      <td>RGS7</td>\n",
       "      <td>0.000040</td>\n",
       "      <td>20.0</td>\n",
       "      <td>9.0</td>\n",
       "      <td>Nerve_Tibial</td>\n",
       "      <td>1.246461e-05</td>\n",
       "      <td>Food weight</td>\n",
       "      <td>100001_raw-Food_weight</td>\n",
       "    </tr>\n",
       "    <tr>\n",
       "      <th>2</th>\n",
       "      <td>ENSG00000134755.14</td>\n",
       "      <td>DSC2</td>\n",
       "      <td>0.000048</td>\n",
       "      <td>28.0</td>\n",
       "      <td>4.0</td>\n",
       "      <td>Pancreas</td>\n",
       "      <td>1.649988e-04</td>\n",
       "      <td>Food weight</td>\n",
       "      <td>100001_raw-Food_weight</td>\n",
       "    </tr>\n",
       "    <tr>\n",
       "      <th>3</th>\n",
       "      <td>ENSG00000176075.7</td>\n",
       "      <td>LINC00302</td>\n",
       "      <td>0.000059</td>\n",
       "      <td>1.0</td>\n",
       "      <td>1.0</td>\n",
       "      <td>Skin_Sun_Exposed_Lower_leg</td>\n",
       "      <td>5.872267e-05</td>\n",
       "      <td>Food weight</td>\n",
       "      <td>100001_raw-Food_weight</td>\n",
       "    </tr>\n",
       "    <tr>\n",
       "      <th>4</th>\n",
       "      <td>ENSG00000257817.1</td>\n",
       "      <td>RP4-601P9.2</td>\n",
       "      <td>0.000059</td>\n",
       "      <td>8.0</td>\n",
       "      <td>5.0</td>\n",
       "      <td>Testis</td>\n",
       "      <td>9.454374e-07</td>\n",
       "      <td>Food weight</td>\n",
       "      <td>100001_raw-Food_weight</td>\n",
       "    </tr>\n",
       "  </tbody>\n",
       "</table>\n",
       "</div>"
      ],
      "text/plain": [
       "                 gene      gene_name    pvalue     n  n_indep  \\\n",
       "0   ENSG00000267462.1  RP11-866E20.3  0.000020   2.0      2.0   \n",
       "1  ENSG00000182901.16           RGS7  0.000040  20.0      9.0   \n",
       "2  ENSG00000134755.14           DSC2  0.000048  28.0      4.0   \n",
       "3   ENSG00000176075.7      LINC00302  0.000059   1.0      1.0   \n",
       "4   ENSG00000257817.1    RP4-601P9.2  0.000059   8.0      5.0   \n",
       "\n",
       "                     t_i_best      p_i_best   pheno_desc  \\\n",
       "0                      Testis  4.429014e-04  Food weight   \n",
       "1                Nerve_Tibial  1.246461e-05  Food weight   \n",
       "2                    Pancreas  1.649988e-04  Food weight   \n",
       "3  Skin_Sun_Exposed_Lower_leg  5.872267e-05  Food weight   \n",
       "4                      Testis  9.454374e-07  Food weight   \n",
       "\n",
       "          pheno_full_code  \n",
       "0  100001_raw-Food_weight  \n",
       "1  100001_raw-Food_weight  \n",
       "2  100001_raw-Food_weight  \n",
       "3  100001_raw-Food_weight  \n",
       "4  100001_raw-Food_weight  "
      ]
     },
     "execution_count": 43,
     "metadata": {},
     "output_type": "execute_result"
    }
   ],
   "source": [
    "_tmp2.head()"
   ]
  },
  {
   "cell_type": "code",
   "execution_count": null,
   "metadata": {},
   "outputs": [],
   "source": [
    "# run in paralell and write several files, which will be combined at the end"
   ]
  },
  {
   "cell_type": "markdown",
   "metadata": {},
   "source": [
    "## From Rapid GWAS project"
   ]
  },
  {
   "cell_type": "code",
   "execution_count": null,
   "metadata": {},
   "outputs": [],
   "source": [
    "_path = os.path.join(conf.SMULTIXCAN_RESULTS_DIR['RapidGWASProject'], '*.tsv.gz')\n",
    "display(_path)\n",
    "all_smultixcan_results_dirs = glob(_path)\n",
    "display(len(all_smultixcan_results_dirs))\n",
    "assert len(all_smultixcan_results_dirs) == conf.SMULTIXCAN_EXPECTED_PHENOTYPES['RapidGWASProject']"
   ]
  },
  {
   "cell_type": "code",
   "execution_count": null,
   "metadata": {},
   "outputs": [],
   "source": [
    "all_smultixcan_phenotypes = [MXPhenoResults(p) for p in all_smultixcan_results_dirs]\n",
    "all_smultixcan_phenotypes_plain_names = pd.Index([p.pheno_info.get_plain_name() for p in all_smultixcan_phenotypes])\n",
    "\n",
    "display(len(all_smultixcan_phenotypes))\n",
    "assert len(all_smultixcan_phenotypes) == conf.SMULTIXCAN_EXPECTED_PHENOTYPES['RapidGWASProject']\n",
    "assert len(all_smultixcan_phenotypes) == len(all_smultixcan_phenotypes_plain_names)"
   ]
  },
  {
   "cell_type": "markdown",
   "metadata": {},
   "source": [
    "## From GTEx GWAS manuscript"
   ]
  },
  {
   "cell_type": "code",
   "execution_count": null,
   "metadata": {},
   "outputs": [],
   "source": [
    "_path = os.path.join(conf.SMULTIXCAN_RESULTS_DIR['GTEX_GWAS'], '*_ccn30.txt')\n",
    "display(_path)\n",
    "all_extra_results_dirs = glob(_path)\n",
    "display(len(all_extra_results_dirs))\n",
    "assert len(all_extra_results_dirs) == conf.SMULTIXCAN_EXPECTED_PHENOTYPES['GTEX_GWAS']"
   ]
  },
  {
   "cell_type": "code",
   "execution_count": null,
   "metadata": {},
   "outputs": [],
   "source": [
    "_file_pattern = '(?P<code>[^/]+)_smultixcan_imputed_gwas_gtexv8mashr_ccn30\\.txt'\n",
    "all_extra_phenotypes = [MXPhenoResults(p, _file_pattern) for p in all_extra_results_dirs]\n",
    "all_extra_phenotypes_plain_names = pd.Index([p.pheno_info.get_plain_name() for p in all_extra_phenotypes])\n",
    "\n",
    "display(len(all_extra_phenotypes))\n",
    "assert len(all_extra_phenotypes) == conf.SMULTIXCAN_EXPECTED_PHENOTYPES['GTEX_GWAS']"
   ]
  },
  {
   "cell_type": "code",
   "execution_count": null,
   "metadata": {},
   "outputs": [],
   "source": [
    "all_phenotypes_plain_names = all_smultixcan_phenotypes_plain_names.union(all_extra_phenotypes_plain_names)\n",
    "display(all_phenotypes_plain_names.shape)\n",
    "assert all_phenotypes_plain_names.shape[0] == all_smultixcan_phenotypes_plain_names.shape[0] + all_extra_phenotypes_plain_names.shape[0]"
   ]
  },
  {
   "cell_type": "markdown",
   "metadata": {},
   "source": [
    "## Run loading"
   ]
  },
  {
   "cell_type": "code",
   "execution_count": null,
   "metadata": {},
   "outputs": [],
   "source": [
    "os.makedirs(conf.WEBAPP_DIR, exist_ok=True)"
   ]
  },
  {
   "cell_type": "code",
   "execution_count": null,
   "metadata": {},
   "outputs": [],
   "source": [
    "def _get_combined_results(phenos, column):\n",
    "    res = {}\n",
    "    for pheno in phenos:\n",
    "        key = pheno.pheno_info.get_plain_name()\n",
    "        value = pheno.get_data(cols=['gene_name', column], index_col='gene_simple')[column]\n",
    "        res[key] = value\n",
    "    \n",
    "    return res"
   ]
  },
  {
   "cell_type": "code",
   "execution_count": null,
   "metadata": {},
   "outputs": [],
   "source": [
    "def _run_all(column_name, phenotype_chunks, n_jobs=20):\n",
    "    all_results = {}\n",
    "    \n",
    "    with ProcessPoolExecutor(max_workers=n_jobs) as executor:\n",
    "        tasks = [executor.submit(_get_combined_results, chunk, column_name) for chunk in phenotype_chunks]\n",
    "        for future in as_completed(tasks):\n",
    "            res = future.result()\n",
    "            all_results.update(res)\n",
    "    \n",
    "    return all_results"
   ]
  },
  {
   "cell_type": "code",
   "execution_count": null,
   "metadata": {},
   "outputs": [],
   "source": [
    "COLUMNS_TO_READ = {\n",
    "    'pvalue': np.float64,\n",
    "    'n': np.uint16,\n",
    "    'n_indep': np.uint16,\n",
    "    'p_i_best': np.float64,\n",
    "    't_i_best': 'category',\n",
    "    'p_i_worst': np.float64,\n",
    "    't_i_worst': 'category',\n",
    "    'status': np.uint8,\n",
    "    'gene_name': 'category',\n",
    "}"
   ]
  },
  {
   "cell_type": "code",
   "execution_count": null,
   "metadata": {},
   "outputs": [],
   "source": [
    "# phenotype_chunks = chunker(all_smultixcan_phenotypes[:5] + all_extra_phenotypes[:5], 2)\n",
    "phenotype_chunks = chunker(all_smultixcan_phenotypes + all_extra_phenotypes, 200)\n",
    "\n",
    "phenotype_chunks = list(phenotype_chunks)"
   ]
  },
  {
   "cell_type": "code",
   "execution_count": null,
   "metadata": {},
   "outputs": [],
   "source": [
    "MULTIXCAN_H5_FILE = os.path.join(conf.WEBAPP_DIR, 'smultixcan_results-table_format.h5')\n",
    "display(MULTIXCAN_H5_FILE)"
   ]
  },
  {
   "cell_type": "code",
   "execution_count": null,
   "metadata": {},
   "outputs": [],
   "source": [
    "with pd.HDFStore(MULTIXCAN_H5_FILE, mode='w', complevel=1) as store:\n",
    "    for col in COLUMNS_TO_READ.keys():\n",
    "        print(col, flush=True)\n",
    "\n",
    "        all_results = _run_all(col, phenotype_chunks)\n",
    "        if len(all_results) == 0:\n",
    "            raise Exception('No results')\n",
    "\n",
    "        df = pd.DataFrame(all_results)\n",
    "        assert df.index.is_unique\n",
    "        assert df.columns.is_unique\n",
    "        df = df.dropna(axis=0, how='all')\n",
    "\n",
    "        df = df.unstack().sort_index()\n",
    "        df.index.rename(['phenotype', 'gene'], inplace=True)\n",
    "        \n",
    "        if col in ('t_i_best', 't_i_worst'):\n",
    "            df = df.astype('category')\n",
    "        elif col in ('n', 'n_indep', 'status'):\n",
    "            df = df.apply(lambda x: f'{int(x):d}' if not pd.isnull(x) else None).astype('category')\n",
    "        \n",
    "        #store[col] = df\n",
    "        store.put(col, df, format='table', chunksize=10000000)\n",
    "        store.flush()\n",
    "        del df, all_results"
   ]
  },
  {
   "cell_type": "code",
   "execution_count": null,
   "metadata": {},
   "outputs": [],
   "source": [
    "lens = set()\n",
    "with pd.HDFStore(MULTIXCAN_H5_FILE, mode='r') as store:\n",
    "    keys = [k for k in store.keys() if len(k.split('/')) == 2]\n",
    "    print(keys)\n",
    "    assert len(keys) == len(COLUMNS_TO_READ)\n",
    "    for k in keys:\n",
    "        kl = pd.read_hdf(store, key=k).shape[0]\n",
    "        lens.add(kl)"
   ]
  },
  {
   "cell_type": "code",
   "execution_count": null,
   "metadata": {},
   "outputs": [],
   "source": [
    "# there are more than one unique value because of the gene_name columns, which is never null\n",
    "lens"
   ]
  },
  {
   "cell_type": "markdown",
   "metadata": {},
   "source": [
    "# Write full CSV file"
   ]
  },
  {
   "cell_type": "code",
   "execution_count": null,
   "metadata": {},
   "outputs": [],
   "source": [
    "print('Writing full CSV file')"
   ]
  },
  {
   "cell_type": "code",
   "execution_count": null,
   "metadata": {},
   "outputs": [],
   "source": [
    "output_file = os.path.join(conf.WEBAPP_DIR, 'smultixcan_table.tsv')\n",
    "display(output_file)"
   ]
  },
  {
   "cell_type": "code",
   "execution_count": null,
   "metadata": {},
   "outputs": [],
   "source": [
    "with pd.HDFStore(MULTIXCAN_H5_FILE, mode='r') as store:\n",
    "    keys = [k for k in store.keys() if len(k.split('/')) == 2]\n",
    "    \n",
    "    iterators = {k:pd.read_hdf(store, key=k, iterator=True, chunksize=100000).__iter__() for k in keys}\n",
    "    \n",
    "    idx = 0\n",
    "    while True:\n",
    "        try:\n",
    "            chunks = {k[1:]:next(iterators[k]) for k in keys}\n",
    "        except StopIteration:\n",
    "            break\n",
    "        \n",
    "        df_final = pd.DataFrame(chunks).dropna(subset=['pvalue'])\n",
    "        df_final.to_csv(output_file, sep='\\t', mode='w' if idx == 0 else 'a', header=True if idx == 0 else False)\n",
    "        idx = idx + 1"
   ]
  },
  {
   "cell_type": "markdown",
   "metadata": {},
   "source": [
    "### Testing"
   ]
  },
  {
   "cell_type": "code",
   "execution_count": null,
   "metadata": {},
   "outputs": [],
   "source": [
    "with pd.HDFStore(MULTIXCAN_H5_FILE, mode='r') as store:\n",
    "    keys = [k for k in store.keys() if len(k.split('/')) == 2]\n",
    "    print(keys)\n",
    "    df = pd.read_hdf(store, key='pvalue')"
   ]
  },
  {
   "cell_type": "code",
   "execution_count": null,
   "metadata": {},
   "outputs": [],
   "source": [
    "df.shape"
   ]
  },
  {
   "cell_type": "code",
   "execution_count": null,
   "metadata": {},
   "outputs": [],
   "source": [
    "df.head()"
   ]
  },
  {
   "cell_type": "code",
   "execution_count": null,
   "metadata": {},
   "outputs": [],
   "source": [
    "print('running tests')\n",
    "\n",
    "# For FinnGen\n",
    "assert df.loc[('C_TONGUENAS-Malignant_neoplasm_of_other_and_unspecified_parts_of_tongue', 'ENSG00000110628')] == 0.005086576789507484\n",
    "assert df.loc[('ENSG00000169783', 'C_TONGUENAS-Malignant_neoplasm_of_other_and_unspecified_parts_of_tongue')] == 0.3757187601354043\n",
    "assert df.loc[('ENSG00000137959', 'C_TONGUENAS-Malignant_neoplasm_of_other_and_unspecified_parts_of_tongue')] == 5.132614371931036e-07\n",
    "\n",
    "# For ICD10\n",
    "assert df.loc[('ENSG00000135775', 'N18-Diagnoses_main_ICD10_N18_Chronic_renal_failure')] == 2.795075036067939e-05\n",
    "assert df.loc[('ENSG00000169783', 'N18-Diagnoses_main_ICD10_N18_Chronic_renal_failure')] == 0.06668736815697908\n",
    "assert df.loc[('ENSG00000174226', 'N18-Diagnoses_main_ICD10_N18_Chronic_renal_failure')] == 0.02496852053808064\n",
    "\n",
    "# For extra phenotypes\n",
    "assert df.loc[('ENSG00000135775', 'MAGIC_ln_FastingInsulin')] == 0.08712399858507687\n",
    "assert df.loc[('ENSG00000169783', 'IMMUNOBASE_Systemic_lupus_erythematosus_hg19')] == 0.10974365378971256\n",
    "assert df.loc[('ENSG00000158691', 'pgc.scz2')] == 2.698821020217747e-28"
   ]
  }
 ],
 "metadata": {
  "kernelspec": {
   "display_name": "Python 3",
   "language": "python",
   "name": "python3"
  },
  "language_info": {
   "codemirror_mode": {
    "name": "ipython",
    "version": 3
   },
   "file_extension": ".py",
   "mimetype": "text/x-python",
   "name": "python",
   "nbconvert_exporter": "python",
   "pygments_lexer": "ipython3",
   "version": "3.7.5"
  }
 },
 "nbformat": 4,
 "nbformat_minor": 4
}
