{
 "cells": [
  {
   "cell_type": "code",
   "execution_count": 1,
   "metadata": {},
   "outputs": [],
   "source": [
    "%load_ext autoreload\n",
    "%autoreload 2"
   ]
  },
  {
   "cell_type": "code",
   "execution_count": 2,
   "metadata": {},
   "outputs": [],
   "source": [
    "import os\n",
    "import pickle\n",
    "from glob import glob\n",
    "from concurrent.futures import ProcessPoolExecutor, as_completed\n",
    "\n",
    "import numpy as np\n",
    "import pandas as pd\n",
    "from scipy import stats\n",
    "\n",
    "import settings as conf\n",
    "import metadata\n",
    "from utils import is_number, chunker\n",
    "from results.multixcan import MXPhenoInfo, MXPhenoResults"
   ]
  },
  {
   "cell_type": "markdown",
   "metadata": {},
   "source": [
    "# Gene mappings"
   ]
  },
  {
   "cell_type": "code",
   "execution_count": 3,
   "metadata": {},
   "outputs": [
    {
     "data": {
      "text/html": [
       "<div>\n",
       "<style scoped>\n",
       "    .dataframe tbody tr th:only-of-type {\n",
       "        vertical-align: middle;\n",
       "    }\n",
       "\n",
       "    .dataframe tbody tr th {\n",
       "        vertical-align: top;\n",
       "    }\n",
       "\n",
       "    .dataframe thead th {\n",
       "        text-align: right;\n",
       "    }\n",
       "</style>\n",
       "<table border=\"1\" class=\"dataframe\">\n",
       "  <thead>\n",
       "    <tr style=\"text-align: right;\">\n",
       "      <th></th>\n",
       "      <th>gene</th>\n",
       "      <th>gene_name</th>\n",
       "      <th>gene_type</th>\n",
       "      <th>gene_id</th>\n",
       "      <th>band</th>\n",
       "    </tr>\n",
       "  </thead>\n",
       "  <tbody>\n",
       "    <tr>\n",
       "      <th>0</th>\n",
       "      <td>ENSG00000000457.13</td>\n",
       "      <td>SCYL3</td>\n",
       "      <td>protein_coding</td>\n",
       "      <td>ENSG00000000457</td>\n",
       "      <td>1q24.2</td>\n",
       "    </tr>\n",
       "    <tr>\n",
       "      <th>1</th>\n",
       "      <td>ENSG00000000460.16</td>\n",
       "      <td>C1orf112</td>\n",
       "      <td>protein_coding</td>\n",
       "      <td>ENSG00000000460</td>\n",
       "      <td>1q24.2</td>\n",
       "    </tr>\n",
       "    <tr>\n",
       "      <th>2</th>\n",
       "      <td>ENSG00000000938.12</td>\n",
       "      <td>FGR</td>\n",
       "      <td>protein_coding</td>\n",
       "      <td>ENSG00000000938</td>\n",
       "      <td>1p35.3</td>\n",
       "    </tr>\n",
       "    <tr>\n",
       "      <th>3</th>\n",
       "      <td>ENSG00000000971.15</td>\n",
       "      <td>CFH</td>\n",
       "      <td>protein_coding</td>\n",
       "      <td>ENSG00000000971</td>\n",
       "      <td>1q31.3</td>\n",
       "    </tr>\n",
       "    <tr>\n",
       "      <th>4</th>\n",
       "      <td>ENSG00000001036.13</td>\n",
       "      <td>FUCA2</td>\n",
       "      <td>protein_coding</td>\n",
       "      <td>ENSG00000001036</td>\n",
       "      <td>6q24.2</td>\n",
       "    </tr>\n",
       "  </tbody>\n",
       "</table>\n",
       "</div>"
      ],
      "text/plain": [
       "                 gene gene_name       gene_type          gene_id    band\n",
       "0  ENSG00000000457.13     SCYL3  protein_coding  ENSG00000000457  1q24.2\n",
       "1  ENSG00000000460.16  C1orf112  protein_coding  ENSG00000000460  1q24.2\n",
       "2  ENSG00000000938.12       FGR  protein_coding  ENSG00000000938  1p35.3\n",
       "3  ENSG00000000971.15       CFH  protein_coding  ENSG00000000971  1q31.3\n",
       "4  ENSG00000001036.13     FUCA2  protein_coding  ENSG00000001036  6q24.2"
      ]
     },
     "execution_count": 3,
     "metadata": {},
     "output_type": "execute_result"
    }
   ],
   "source": [
    "metadata.GENES_MAPPINGS.head()"
   ]
  },
  {
   "cell_type": "code",
   "execution_count": 4,
   "metadata": {},
   "outputs": [],
   "source": [
    "gene_name_to_id_long = metadata.GENES_MAPPINGS[['gene_name', 'gene']].set_index('gene_name').to_dict()['gene']"
   ]
  },
  {
   "cell_type": "code",
   "execution_count": 5,
   "metadata": {},
   "outputs": [
    {
     "data": {
      "text/plain": [
       "'ENSG00000175899.14'"
      ]
     },
     "execution_count": 5,
     "metadata": {},
     "output_type": "execute_result"
    }
   ],
   "source": [
    "gene_name_to_id_long['A2M']"
   ]
  },
  {
   "cell_type": "code",
   "execution_count": 6,
   "metadata": {},
   "outputs": [],
   "source": [
    "gene_id_long_to_name = metadata.GENES_MAPPINGS[['gene_name', 'gene']].set_index('gene').to_dict()['gene_name']"
   ]
  },
  {
   "cell_type": "code",
   "execution_count": 7,
   "metadata": {},
   "outputs": [
    {
     "data": {
      "text/plain": [
       "'A2M'"
      ]
     },
     "execution_count": 7,
     "metadata": {},
     "output_type": "execute_result"
    }
   ],
   "source": [
    "gene_id_long_to_name['ENSG00000175899.14']"
   ]
  },
  {
   "cell_type": "code",
   "execution_count": 8,
   "metadata": {},
   "outputs": [],
   "source": [
    "gene_id_long_to_band = metadata.GENES_MAPPINGS[['band', 'gene']].set_index('gene').to_dict()['band']"
   ]
  },
  {
   "cell_type": "code",
   "execution_count": 9,
   "metadata": {},
   "outputs": [
    {
     "data": {
      "text/plain": [
       "'12p13.31'"
      ]
     },
     "execution_count": 9,
     "metadata": {},
     "output_type": "execute_result"
    }
   ],
   "source": [
    "gene_id_long_to_band['ENSG00000175899.14']"
   ]
  },
  {
   "cell_type": "markdown",
   "metadata": {},
   "source": [
    "# Load UKB x ClinVar z2"
   ]
  },
  {
   "cell_type": "code",
   "execution_count": 10,
   "metadata": {},
   "outputs": [
    {
     "data": {
      "text/plain": [
       "'/mnt/phenomexcan_base/gene_assoc/smultixcan_and_clinvar-z2.pkl.xz'"
      ]
     },
     "metadata": {},
     "output_type": "display_data"
    }
   ],
   "source": [
    "ukb_clinvar_z2_filename = os.path.join(conf.GENE_ASSOC_DIR, 'smultixcan_and_clinvar-z2.pkl.xz')\n",
    "display(ukb_clinvar_z2_filename)"
   ]
  },
  {
   "cell_type": "code",
   "execution_count": 11,
   "metadata": {},
   "outputs": [],
   "source": [
    "ukb_clinvar_z2 = pd.read_pickle(ukb_clinvar_z2_filename)"
   ]
  },
  {
   "cell_type": "code",
   "execution_count": 12,
   "metadata": {},
   "outputs": [
    {
     "data": {
      "text/plain": [
       "(4091, 5106)"
      ]
     },
     "execution_count": 12,
     "metadata": {},
     "output_type": "execute_result"
    }
   ],
   "source": [
    "ukb_clinvar_z2.shape"
   ]
  },
  {
   "cell_type": "code",
   "execution_count": 13,
   "metadata": {},
   "outputs": [
    {
     "data": {
      "text/html": [
       "<div>\n",
       "<style scoped>\n",
       "    .dataframe tbody tr th:only-of-type {\n",
       "        vertical-align: middle;\n",
       "    }\n",
       "\n",
       "    .dataframe tbody tr th {\n",
       "        vertical-align: top;\n",
       "    }\n",
       "\n",
       "    .dataframe thead th {\n",
       "        text-align: right;\n",
       "    }\n",
       "</style>\n",
       "<table border=\"1\" class=\"dataframe\">\n",
       "  <thead>\n",
       "    <tr style=\"text-align: right;\">\n",
       "      <th></th>\n",
       "      <th>Alzheimer's disease</th>\n",
       "      <th>Alpha-2-macroglobulin deficiency</th>\n",
       "      <th>Otitis media, susceptibility to</th>\n",
       "      <th>p phenotype</th>\n",
       "      <th>Glucocorticoid deficiency with achalasia</th>\n",
       "      <th>Keratosis palmoplantaris papulosa</th>\n",
       "      <th>Charcot-Marie-Tooth disease, type 2N</th>\n",
       "      <th>Epileptic encephalopathy, early infantile, 29</th>\n",
       "      <th>Combined oxidative phosphorylation deficiency 8</th>\n",
       "      <th>Leukoencephalopathy, progressive, with ovarian failure</th>\n",
       "      <th>...</th>\n",
       "      <th>Retinitis pigmentosa 58</th>\n",
       "      <th>Myopia 21, autosomal dominant</th>\n",
       "      <th>Paget disease of bone 6</th>\n",
       "      <th>Seborrhea-like dermatitis with psoriasiform elements</th>\n",
       "      <th>PEHO syndrome</th>\n",
       "      <th>Oocyte maturation defect 1</th>\n",
       "      <th>OOCYTE MATURATION DEFECT 6</th>\n",
       "      <th>OOCYTE MATURATION DEFECT 3</th>\n",
       "      <th>Acromelic frontonasal dysostosis</th>\n",
       "      <th>NEURODEVELOPMENTAL DISORDER WITH MOVEMENT ABNORMALITIES, ABNORMAL GAIT, AND AUTISTIC FEATURES</th>\n",
       "    </tr>\n",
       "    <tr>\n",
       "      <th>phenomexcan_traits</th>\n",
       "      <th></th>\n",
       "      <th></th>\n",
       "      <th></th>\n",
       "      <th></th>\n",
       "      <th></th>\n",
       "      <th></th>\n",
       "      <th></th>\n",
       "      <th></th>\n",
       "      <th></th>\n",
       "      <th></th>\n",
       "      <th></th>\n",
       "      <th></th>\n",
       "      <th></th>\n",
       "      <th></th>\n",
       "      <th></th>\n",
       "      <th></th>\n",
       "      <th></th>\n",
       "      <th></th>\n",
       "      <th></th>\n",
       "      <th></th>\n",
       "      <th></th>\n",
       "    </tr>\n",
       "  </thead>\n",
       "  <tbody>\n",
       "    <tr>\n",
       "      <th>4270-Volume_level_set_by_participant_left</th>\n",
       "      <td>0.512739</td>\n",
       "      <td>0.342467</td>\n",
       "      <td>1.070237</td>\n",
       "      <td>1.800286</td>\n",
       "      <td>1.631911</td>\n",
       "      <td>0.698835</td>\n",
       "      <td>0.074415</td>\n",
       "      <td>0.074415</td>\n",
       "      <td>1.387650</td>\n",
       "      <td>1.387650</td>\n",
       "      <td>...</td>\n",
       "      <td>1.017634</td>\n",
       "      <td>1.224636</td>\n",
       "      <td>0.009039</td>\n",
       "      <td>0.385532</td>\n",
       "      <td>3.521638</td>\n",
       "      <td>0.223988</td>\n",
       "      <td>0.001329</td>\n",
       "      <td>0.425832</td>\n",
       "      <td>0.011000</td>\n",
       "      <td>0.011000</td>\n",
       "    </tr>\n",
       "    <tr>\n",
       "      <th>S05-Diagnoses_main_ICD10_S05_Injury_of_eye_and_orbit</th>\n",
       "      <td>0.217049</td>\n",
       "      <td>0.001955</td>\n",
       "      <td>0.631155</td>\n",
       "      <td>1.087293</td>\n",
       "      <td>0.007369</td>\n",
       "      <td>2.805816</td>\n",
       "      <td>0.075216</td>\n",
       "      <td>0.075216</td>\n",
       "      <td>0.093814</td>\n",
       "      <td>0.093814</td>\n",
       "      <td>...</td>\n",
       "      <td>0.501215</td>\n",
       "      <td>1.852592</td>\n",
       "      <td>1.481549</td>\n",
       "      <td>0.046810</td>\n",
       "      <td>0.619792</td>\n",
       "      <td>0.164473</td>\n",
       "      <td>2.656553</td>\n",
       "      <td>3.644131</td>\n",
       "      <td>0.321142</td>\n",
       "      <td>0.321142</td>\n",
       "    </tr>\n",
       "    <tr>\n",
       "      <th>20003_1141157402-Treatmentmedication_code_prednisolone_product</th>\n",
       "      <td>0.343953</td>\n",
       "      <td>0.676443</td>\n",
       "      <td>0.034698</td>\n",
       "      <td>0.203671</td>\n",
       "      <td>0.004971</td>\n",
       "      <td>1.390301</td>\n",
       "      <td>1.228719</td>\n",
       "      <td>1.228719</td>\n",
       "      <td>2.967204</td>\n",
       "      <td>2.967204</td>\n",
       "      <td>...</td>\n",
       "      <td>0.360941</td>\n",
       "      <td>11.078803</td>\n",
       "      <td>0.831347</td>\n",
       "      <td>0.924590</td>\n",
       "      <td>0.223633</td>\n",
       "      <td>1.503475</td>\n",
       "      <td>1.331688</td>\n",
       "      <td>2.692623</td>\n",
       "      <td>0.000386</td>\n",
       "      <td>0.000386</td>\n",
       "    </tr>\n",
       "    <tr>\n",
       "      <th>20002_1427-Noncancer_illness_code_selfreported_polycystic_kidney</th>\n",
       "      <td>0.444715</td>\n",
       "      <td>0.231927</td>\n",
       "      <td>0.288159</td>\n",
       "      <td>3.099246</td>\n",
       "      <td>0.446979</td>\n",
       "      <td>1.205976</td>\n",
       "      <td>0.114788</td>\n",
       "      <td>0.114788</td>\n",
       "      <td>0.686694</td>\n",
       "      <td>0.686694</td>\n",
       "      <td>...</td>\n",
       "      <td>1.772919</td>\n",
       "      <td>1.062408</td>\n",
       "      <td>0.254789</td>\n",
       "      <td>1.119640</td>\n",
       "      <td>1.354223</td>\n",
       "      <td>0.025730</td>\n",
       "      <td>0.680319</td>\n",
       "      <td>1.682058</td>\n",
       "      <td>0.579198</td>\n",
       "      <td>0.579198</td>\n",
       "    </tr>\n",
       "    <tr>\n",
       "      <th>110001-Invitation_to_complete_online_24hour_recall_dietary_questionnaire_acceptance</th>\n",
       "      <td>1.229807</td>\n",
       "      <td>2.597971</td>\n",
       "      <td>6.239911</td>\n",
       "      <td>1.639243</td>\n",
       "      <td>1.395789</td>\n",
       "      <td>0.051032</td>\n",
       "      <td>1.202180</td>\n",
       "      <td>1.202180</td>\n",
       "      <td>3.934130</td>\n",
       "      <td>3.934130</td>\n",
       "      <td>...</td>\n",
       "      <td>2.650158</td>\n",
       "      <td>0.972351</td>\n",
       "      <td>0.661263</td>\n",
       "      <td>0.021415</td>\n",
       "      <td>0.685834</td>\n",
       "      <td>1.089133</td>\n",
       "      <td>2.498117</td>\n",
       "      <td>2.861720</td>\n",
       "      <td>0.095069</td>\n",
       "      <td>0.095069</td>\n",
       "    </tr>\n",
       "  </tbody>\n",
       "</table>\n",
       "<p>5 rows × 5106 columns</p>\n",
       "</div>"
      ],
      "text/plain": [
       "                                                    Alzheimer's disease  \\\n",
       "phenomexcan_traits                                                        \n",
       "4270-Volume_level_set_by_participant_left                      0.512739   \n",
       "S05-Diagnoses_main_ICD10_S05_Injury_of_eye_and_...             0.217049   \n",
       "20003_1141157402-Treatmentmedication_code_predn...             0.343953   \n",
       "20002_1427-Noncancer_illness_code_selfreported_...             0.444715   \n",
       "110001-Invitation_to_complete_online_24hour_rec...             1.229807   \n",
       "\n",
       "                                                    Alpha-2-macroglobulin deficiency  \\\n",
       "phenomexcan_traits                                                                     \n",
       "4270-Volume_level_set_by_participant_left                                   0.342467   \n",
       "S05-Diagnoses_main_ICD10_S05_Injury_of_eye_and_...                          0.001955   \n",
       "20003_1141157402-Treatmentmedication_code_predn...                          0.676443   \n",
       "20002_1427-Noncancer_illness_code_selfreported_...                          0.231927   \n",
       "110001-Invitation_to_complete_online_24hour_rec...                          2.597971   \n",
       "\n",
       "                                                    Otitis media, susceptibility to  \\\n",
       "phenomexcan_traits                                                                    \n",
       "4270-Volume_level_set_by_participant_left                                  1.070237   \n",
       "S05-Diagnoses_main_ICD10_S05_Injury_of_eye_and_...                         0.631155   \n",
       "20003_1141157402-Treatmentmedication_code_predn...                         0.034698   \n",
       "20002_1427-Noncancer_illness_code_selfreported_...                         0.288159   \n",
       "110001-Invitation_to_complete_online_24hour_rec...                         6.239911   \n",
       "\n",
       "                                                    p phenotype  \\\n",
       "phenomexcan_traits                                                \n",
       "4270-Volume_level_set_by_participant_left              1.800286   \n",
       "S05-Diagnoses_main_ICD10_S05_Injury_of_eye_and_...     1.087293   \n",
       "20003_1141157402-Treatmentmedication_code_predn...     0.203671   \n",
       "20002_1427-Noncancer_illness_code_selfreported_...     3.099246   \n",
       "110001-Invitation_to_complete_online_24hour_rec...     1.639243   \n",
       "\n",
       "                                                    Glucocorticoid deficiency with achalasia  \\\n",
       "phenomexcan_traits                                                                             \n",
       "4270-Volume_level_set_by_participant_left                                           1.631911   \n",
       "S05-Diagnoses_main_ICD10_S05_Injury_of_eye_and_...                                  0.007369   \n",
       "20003_1141157402-Treatmentmedication_code_predn...                                  0.004971   \n",
       "20002_1427-Noncancer_illness_code_selfreported_...                                  0.446979   \n",
       "110001-Invitation_to_complete_online_24hour_rec...                                  1.395789   \n",
       "\n",
       "                                                    Keratosis palmoplantaris papulosa  \\\n",
       "phenomexcan_traits                                                                      \n",
       "4270-Volume_level_set_by_participant_left                                    0.698835   \n",
       "S05-Diagnoses_main_ICD10_S05_Injury_of_eye_and_...                           2.805816   \n",
       "20003_1141157402-Treatmentmedication_code_predn...                           1.390301   \n",
       "20002_1427-Noncancer_illness_code_selfreported_...                           1.205976   \n",
       "110001-Invitation_to_complete_online_24hour_rec...                           0.051032   \n",
       "\n",
       "                                                    Charcot-Marie-Tooth disease, type 2N  \\\n",
       "phenomexcan_traits                                                                         \n",
       "4270-Volume_level_set_by_participant_left                                       0.074415   \n",
       "S05-Diagnoses_main_ICD10_S05_Injury_of_eye_and_...                              0.075216   \n",
       "20003_1141157402-Treatmentmedication_code_predn...                              1.228719   \n",
       "20002_1427-Noncancer_illness_code_selfreported_...                              0.114788   \n",
       "110001-Invitation_to_complete_online_24hour_rec...                              1.202180   \n",
       "\n",
       "                                                    Epileptic encephalopathy, early infantile, 29  \\\n",
       "phenomexcan_traits                                                                                  \n",
       "4270-Volume_level_set_by_participant_left                                                0.074415   \n",
       "S05-Diagnoses_main_ICD10_S05_Injury_of_eye_and_...                                       0.075216   \n",
       "20003_1141157402-Treatmentmedication_code_predn...                                       1.228719   \n",
       "20002_1427-Noncancer_illness_code_selfreported_...                                       0.114788   \n",
       "110001-Invitation_to_complete_online_24hour_rec...                                       1.202180   \n",
       "\n",
       "                                                    Combined oxidative phosphorylation deficiency 8  \\\n",
       "phenomexcan_traits                                                                                    \n",
       "4270-Volume_level_set_by_participant_left                                                  1.387650   \n",
       "S05-Diagnoses_main_ICD10_S05_Injury_of_eye_and_...                                         0.093814   \n",
       "20003_1141157402-Treatmentmedication_code_predn...                                         2.967204   \n",
       "20002_1427-Noncancer_illness_code_selfreported_...                                         0.686694   \n",
       "110001-Invitation_to_complete_online_24hour_rec...                                         3.934130   \n",
       "\n",
       "                                                    Leukoencephalopathy, progressive, with ovarian failure  \\\n",
       "phenomexcan_traits                                                                                           \n",
       "4270-Volume_level_set_by_participant_left                                                    1.387650        \n",
       "S05-Diagnoses_main_ICD10_S05_Injury_of_eye_and_...                                           0.093814        \n",
       "20003_1141157402-Treatmentmedication_code_predn...                                           2.967204        \n",
       "20002_1427-Noncancer_illness_code_selfreported_...                                           0.686694        \n",
       "110001-Invitation_to_complete_online_24hour_rec...                                           3.934130        \n",
       "\n",
       "                                                    ...  \\\n",
       "phenomexcan_traits                                  ...   \n",
       "4270-Volume_level_set_by_participant_left           ...   \n",
       "S05-Diagnoses_main_ICD10_S05_Injury_of_eye_and_...  ...   \n",
       "20003_1141157402-Treatmentmedication_code_predn...  ...   \n",
       "20002_1427-Noncancer_illness_code_selfreported_...  ...   \n",
       "110001-Invitation_to_complete_online_24hour_rec...  ...   \n",
       "\n",
       "                                                    Retinitis pigmentosa 58  \\\n",
       "phenomexcan_traits                                                            \n",
       "4270-Volume_level_set_by_participant_left                          1.017634   \n",
       "S05-Diagnoses_main_ICD10_S05_Injury_of_eye_and_...                 0.501215   \n",
       "20003_1141157402-Treatmentmedication_code_predn...                 0.360941   \n",
       "20002_1427-Noncancer_illness_code_selfreported_...                 1.772919   \n",
       "110001-Invitation_to_complete_online_24hour_rec...                 2.650158   \n",
       "\n",
       "                                                    Myopia 21, autosomal dominant  \\\n",
       "phenomexcan_traits                                                                  \n",
       "4270-Volume_level_set_by_participant_left                                1.224636   \n",
       "S05-Diagnoses_main_ICD10_S05_Injury_of_eye_and_...                       1.852592   \n",
       "20003_1141157402-Treatmentmedication_code_predn...                      11.078803   \n",
       "20002_1427-Noncancer_illness_code_selfreported_...                       1.062408   \n",
       "110001-Invitation_to_complete_online_24hour_rec...                       0.972351   \n",
       "\n",
       "                                                    Paget disease of bone 6  \\\n",
       "phenomexcan_traits                                                            \n",
       "4270-Volume_level_set_by_participant_left                          0.009039   \n",
       "S05-Diagnoses_main_ICD10_S05_Injury_of_eye_and_...                 1.481549   \n",
       "20003_1141157402-Treatmentmedication_code_predn...                 0.831347   \n",
       "20002_1427-Noncancer_illness_code_selfreported_...                 0.254789   \n",
       "110001-Invitation_to_complete_online_24hour_rec...                 0.661263   \n",
       "\n",
       "                                                    Seborrhea-like dermatitis with psoriasiform elements  \\\n",
       "phenomexcan_traits                                                                                         \n",
       "4270-Volume_level_set_by_participant_left                                                    0.385532      \n",
       "S05-Diagnoses_main_ICD10_S05_Injury_of_eye_and_...                                           0.046810      \n",
       "20003_1141157402-Treatmentmedication_code_predn...                                           0.924590      \n",
       "20002_1427-Noncancer_illness_code_selfreported_...                                           1.119640      \n",
       "110001-Invitation_to_complete_online_24hour_rec...                                           0.021415      \n",
       "\n",
       "                                                    PEHO syndrome  \\\n",
       "phenomexcan_traits                                                  \n",
       "4270-Volume_level_set_by_participant_left                3.521638   \n",
       "S05-Diagnoses_main_ICD10_S05_Injury_of_eye_and_...       0.619792   \n",
       "20003_1141157402-Treatmentmedication_code_predn...       0.223633   \n",
       "20002_1427-Noncancer_illness_code_selfreported_...       1.354223   \n",
       "110001-Invitation_to_complete_online_24hour_rec...       0.685834   \n",
       "\n",
       "                                                    Oocyte maturation defect 1  \\\n",
       "phenomexcan_traits                                                               \n",
       "4270-Volume_level_set_by_participant_left                             0.223988   \n",
       "S05-Diagnoses_main_ICD10_S05_Injury_of_eye_and_...                    0.164473   \n",
       "20003_1141157402-Treatmentmedication_code_predn...                    1.503475   \n",
       "20002_1427-Noncancer_illness_code_selfreported_...                    0.025730   \n",
       "110001-Invitation_to_complete_online_24hour_rec...                    1.089133   \n",
       "\n",
       "                                                    OOCYTE MATURATION DEFECT 6  \\\n",
       "phenomexcan_traits                                                               \n",
       "4270-Volume_level_set_by_participant_left                             0.001329   \n",
       "S05-Diagnoses_main_ICD10_S05_Injury_of_eye_and_...                    2.656553   \n",
       "20003_1141157402-Treatmentmedication_code_predn...                    1.331688   \n",
       "20002_1427-Noncancer_illness_code_selfreported_...                    0.680319   \n",
       "110001-Invitation_to_complete_online_24hour_rec...                    2.498117   \n",
       "\n",
       "                                                    OOCYTE MATURATION DEFECT 3  \\\n",
       "phenomexcan_traits                                                               \n",
       "4270-Volume_level_set_by_participant_left                             0.425832   \n",
       "S05-Diagnoses_main_ICD10_S05_Injury_of_eye_and_...                    3.644131   \n",
       "20003_1141157402-Treatmentmedication_code_predn...                    2.692623   \n",
       "20002_1427-Noncancer_illness_code_selfreported_...                    1.682058   \n",
       "110001-Invitation_to_complete_online_24hour_rec...                    2.861720   \n",
       "\n",
       "                                                    Acromelic frontonasal dysostosis  \\\n",
       "phenomexcan_traits                                                                     \n",
       "4270-Volume_level_set_by_participant_left                                   0.011000   \n",
       "S05-Diagnoses_main_ICD10_S05_Injury_of_eye_and_...                          0.321142   \n",
       "20003_1141157402-Treatmentmedication_code_predn...                          0.000386   \n",
       "20002_1427-Noncancer_illness_code_selfreported_...                          0.579198   \n",
       "110001-Invitation_to_complete_online_24hour_rec...                          0.095069   \n",
       "\n",
       "                                                    NEURODEVELOPMENTAL DISORDER WITH MOVEMENT ABNORMALITIES, ABNORMAL GAIT, AND AUTISTIC FEATURES  \n",
       "phenomexcan_traits                                                                                                                                 \n",
       "4270-Volume_level_set_by_participant_left                                                    0.011000                                              \n",
       "S05-Diagnoses_main_ICD10_S05_Injury_of_eye_and_...                                           0.321142                                              \n",
       "20003_1141157402-Treatmentmedication_code_predn...                                           0.000386                                              \n",
       "20002_1427-Noncancer_illness_code_selfreported_...                                           0.579198                                              \n",
       "110001-Invitation_to_complete_online_24hour_rec...                                           0.095069                                              \n",
       "\n",
       "[5 rows x 5106 columns]"
      ]
     },
     "execution_count": 13,
     "metadata": {},
     "output_type": "execute_result"
    }
   ],
   "source": [
    "ukb_clinvar_z2.head()"
   ]
  },
  {
   "cell_type": "markdown",
   "metadata": {},
   "source": [
    "# Load S-MultiXcan gene associations"
   ]
  },
  {
   "cell_type": "code",
   "execution_count": 14,
   "metadata": {},
   "outputs": [
    {
     "data": {
      "text/plain": [
       "'/mnt/phenomexcan_base/gene_assoc/smultixcan-mashr-pvalues.pkl.xz'"
      ]
     },
     "metadata": {},
     "output_type": "display_data"
    }
   ],
   "source": [
    "smultixcan_pvalues_file = os.path.join(conf.GENE_ASSOC_DIR, f'smultixcan-mashr-pvalues.pkl.xz')\n",
    "display(smultixcan_pvalues_file)"
   ]
  },
  {
   "cell_type": "code",
   "execution_count": 15,
   "metadata": {},
   "outputs": [],
   "source": [
    "smultixcan_gene_associations = pd.read_pickle(smultixcan_pvalues_file)"
   ]
  },
  {
   "cell_type": "code",
   "execution_count": 16,
   "metadata": {},
   "outputs": [
    {
     "data": {
      "text/plain": [
       "(22515, 4091)"
      ]
     },
     "execution_count": 16,
     "metadata": {},
     "output_type": "execute_result"
    }
   ],
   "source": [
    "smultixcan_gene_associations.shape"
   ]
  },
  {
   "cell_type": "code",
   "execution_count": 17,
   "metadata": {},
   "outputs": [
    {
     "data": {
      "text/html": [
       "<div>\n",
       "<style scoped>\n",
       "    .dataframe tbody tr th:only-of-type {\n",
       "        vertical-align: middle;\n",
       "    }\n",
       "\n",
       "    .dataframe tbody tr th {\n",
       "        vertical-align: top;\n",
       "    }\n",
       "\n",
       "    .dataframe thead th {\n",
       "        text-align: right;\n",
       "    }\n",
       "</style>\n",
       "<table border=\"1\" class=\"dataframe\">\n",
       "  <thead>\n",
       "    <tr style=\"text-align: right;\">\n",
       "      <th></th>\n",
       "      <th>4270-Volume_level_set_by_participant_left</th>\n",
       "      <th>S05-Diagnoses_main_ICD10_S05_Injury_of_eye_and_orbit</th>\n",
       "      <th>20003_1141157402-Treatmentmedication_code_prednisolone_product</th>\n",
       "      <th>20002_1427-Noncancer_illness_code_selfreported_polycystic_kidney</th>\n",
       "      <th>110001-Invitation_to_complete_online_24hour_recall_dietary_questionnaire_acceptance</th>\n",
       "      <th>22617_2442-Job_SOC_coding_Social_workers</th>\n",
       "      <th>J93-Diagnoses_main_ICD10_J93_Pneumothorax</th>\n",
       "      <th>22601_41133206-Job_coding_local_government_administrative_officer_or_assistant_or_clerk</th>\n",
       "      <th>6145_3-Illness_injury_bereavement_stress_in_last_2_years_Death_of_a_close_relative</th>\n",
       "      <th>20002_1597-Noncancer_illness_code_selfreported_tinnitus_tiniitis</th>\n",
       "      <th>...</th>\n",
       "      <th>PGC_ADHD_EUR_2017</th>\n",
       "      <th>BCAC_ER_negative_BreastCancer_EUR</th>\n",
       "      <th>SSGAC_Education_Years_Pooled</th>\n",
       "      <th>pgc.scz2</th>\n",
       "      <th>MAGNETIC_HDL.C</th>\n",
       "      <th>MAGIC_ln_FastingInsulin</th>\n",
       "      <th>Astle_et_al_2016_Sum_eosinophil_basophil_counts</th>\n",
       "      <th>SSGAC_Depressive_Symptoms</th>\n",
       "      <th>Jones_et_al_2016_SleepDuration</th>\n",
       "      <th>Astle_et_al_2016_Red_blood_cell_count</th>\n",
       "    </tr>\n",
       "    <tr>\n",
       "      <th>gene_name</th>\n",
       "      <th></th>\n",
       "      <th></th>\n",
       "      <th></th>\n",
       "      <th></th>\n",
       "      <th></th>\n",
       "      <th></th>\n",
       "      <th></th>\n",
       "      <th></th>\n",
       "      <th></th>\n",
       "      <th></th>\n",
       "      <th></th>\n",
       "      <th></th>\n",
       "      <th></th>\n",
       "      <th></th>\n",
       "      <th></th>\n",
       "      <th></th>\n",
       "      <th></th>\n",
       "      <th></th>\n",
       "      <th></th>\n",
       "      <th></th>\n",
       "      <th></th>\n",
       "    </tr>\n",
       "  </thead>\n",
       "  <tbody>\n",
       "    <tr>\n",
       "      <th>ENSG00000000419</th>\n",
       "      <td>0.952828</td>\n",
       "      <td>0.827955</td>\n",
       "      <td>0.976745</td>\n",
       "      <td>0.916643</td>\n",
       "      <td>0.580172</td>\n",
       "      <td>0.270858</td>\n",
       "      <td>0.779171</td>\n",
       "      <td>0.597882</td>\n",
       "      <td>0.531657</td>\n",
       "      <td>0.534696</td>\n",
       "      <td>...</td>\n",
       "      <td>0.980281</td>\n",
       "      <td>0.413973</td>\n",
       "      <td>0.747822</td>\n",
       "      <td>0.609467</td>\n",
       "      <td>0.019467</td>\n",
       "      <td>0.371748</td>\n",
       "      <td>0.823010</td>\n",
       "      <td>0.713310</td>\n",
       "      <td>0.858389</td>\n",
       "      <td>0.409761</td>\n",
       "    </tr>\n",
       "    <tr>\n",
       "      <th>ENSG00000000457</th>\n",
       "      <td>0.646365</td>\n",
       "      <td>0.299606</td>\n",
       "      <td>0.477472</td>\n",
       "      <td>0.003570</td>\n",
       "      <td>0.905365</td>\n",
       "      <td>0.845711</td>\n",
       "      <td>0.137430</td>\n",
       "      <td>0.868056</td>\n",
       "      <td>0.028947</td>\n",
       "      <td>0.392273</td>\n",
       "      <td>...</td>\n",
       "      <td>0.228982</td>\n",
       "      <td>0.636830</td>\n",
       "      <td>0.654535</td>\n",
       "      <td>0.010907</td>\n",
       "      <td>0.726300</td>\n",
       "      <td>0.210658</td>\n",
       "      <td>0.008023</td>\n",
       "      <td>0.678749</td>\n",
       "      <td>0.836679</td>\n",
       "      <td>0.812484</td>\n",
       "    </tr>\n",
       "    <tr>\n",
       "      <th>ENSG00000000460</th>\n",
       "      <td>0.896074</td>\n",
       "      <td>0.094218</td>\n",
       "      <td>0.507646</td>\n",
       "      <td>0.166442</td>\n",
       "      <td>0.974545</td>\n",
       "      <td>0.628910</td>\n",
       "      <td>0.425188</td>\n",
       "      <td>0.551723</td>\n",
       "      <td>0.059456</td>\n",
       "      <td>0.295833</td>\n",
       "      <td>...</td>\n",
       "      <td>0.301460</td>\n",
       "      <td>0.140522</td>\n",
       "      <td>0.646442</td>\n",
       "      <td>0.587969</td>\n",
       "      <td>0.498724</td>\n",
       "      <td>0.521805</td>\n",
       "      <td>0.004462</td>\n",
       "      <td>0.736509</td>\n",
       "      <td>0.432229</td>\n",
       "      <td>0.486664</td>\n",
       "    </tr>\n",
       "    <tr>\n",
       "      <th>ENSG00000000938</th>\n",
       "      <td>0.576924</td>\n",
       "      <td>0.107121</td>\n",
       "      <td>0.439276</td>\n",
       "      <td>0.567582</td>\n",
       "      <td>0.768334</td>\n",
       "      <td>0.203873</td>\n",
       "      <td>0.231449</td>\n",
       "      <td>0.106706</td>\n",
       "      <td>0.595655</td>\n",
       "      <td>0.953718</td>\n",
       "      <td>...</td>\n",
       "      <td>0.588855</td>\n",
       "      <td>0.226977</td>\n",
       "      <td>0.576593</td>\n",
       "      <td>0.059247</td>\n",
       "      <td>0.435438</td>\n",
       "      <td>0.953160</td>\n",
       "      <td>0.101875</td>\n",
       "      <td>0.954998</td>\n",
       "      <td>0.097831</td>\n",
       "      <td>0.135045</td>\n",
       "    </tr>\n",
       "    <tr>\n",
       "      <th>ENSG00000000971</th>\n",
       "      <td>0.956390</td>\n",
       "      <td>0.492012</td>\n",
       "      <td>0.510924</td>\n",
       "      <td>0.532389</td>\n",
       "      <td>0.555313</td>\n",
       "      <td>0.993563</td>\n",
       "      <td>0.807439</td>\n",
       "      <td>0.948366</td>\n",
       "      <td>0.774694</td>\n",
       "      <td>0.490962</td>\n",
       "      <td>...</td>\n",
       "      <td>0.109883</td>\n",
       "      <td>0.040871</td>\n",
       "      <td>0.005662</td>\n",
       "      <td>0.020391</td>\n",
       "      <td>0.439466</td>\n",
       "      <td>0.690242</td>\n",
       "      <td>0.055059</td>\n",
       "      <td>0.002660</td>\n",
       "      <td>0.331132</td>\n",
       "      <td>0.995450</td>\n",
       "    </tr>\n",
       "  </tbody>\n",
       "</table>\n",
       "<p>5 rows × 4091 columns</p>\n",
       "</div>"
      ],
      "text/plain": [
       "                 4270-Volume_level_set_by_participant_left  \\\n",
       "gene_name                                                    \n",
       "ENSG00000000419                                   0.952828   \n",
       "ENSG00000000457                                   0.646365   \n",
       "ENSG00000000460                                   0.896074   \n",
       "ENSG00000000938                                   0.576924   \n",
       "ENSG00000000971                                   0.956390   \n",
       "\n",
       "                 S05-Diagnoses_main_ICD10_S05_Injury_of_eye_and_orbit  \\\n",
       "gene_name                                                               \n",
       "ENSG00000000419                                           0.827955      \n",
       "ENSG00000000457                                           0.299606      \n",
       "ENSG00000000460                                           0.094218      \n",
       "ENSG00000000938                                           0.107121      \n",
       "ENSG00000000971                                           0.492012      \n",
       "\n",
       "                 20003_1141157402-Treatmentmedication_code_prednisolone_product  \\\n",
       "gene_name                                                                         \n",
       "ENSG00000000419                                           0.976745                \n",
       "ENSG00000000457                                           0.477472                \n",
       "ENSG00000000460                                           0.507646                \n",
       "ENSG00000000938                                           0.439276                \n",
       "ENSG00000000971                                           0.510924                \n",
       "\n",
       "                 20002_1427-Noncancer_illness_code_selfreported_polycystic_kidney  \\\n",
       "gene_name                                                                           \n",
       "ENSG00000000419                                           0.916643                  \n",
       "ENSG00000000457                                           0.003570                  \n",
       "ENSG00000000460                                           0.166442                  \n",
       "ENSG00000000938                                           0.567582                  \n",
       "ENSG00000000971                                           0.532389                  \n",
       "\n",
       "                 110001-Invitation_to_complete_online_24hour_recall_dietary_questionnaire_acceptance  \\\n",
       "gene_name                                                                                              \n",
       "ENSG00000000419                                           0.580172                                     \n",
       "ENSG00000000457                                           0.905365                                     \n",
       "ENSG00000000460                                           0.974545                                     \n",
       "ENSG00000000938                                           0.768334                                     \n",
       "ENSG00000000971                                           0.555313                                     \n",
       "\n",
       "                 22617_2442-Job_SOC_coding_Social_workers  \\\n",
       "gene_name                                                   \n",
       "ENSG00000000419                                  0.270858   \n",
       "ENSG00000000457                                  0.845711   \n",
       "ENSG00000000460                                  0.628910   \n",
       "ENSG00000000938                                  0.203873   \n",
       "ENSG00000000971                                  0.993563   \n",
       "\n",
       "                 J93-Diagnoses_main_ICD10_J93_Pneumothorax  \\\n",
       "gene_name                                                    \n",
       "ENSG00000000419                                   0.779171   \n",
       "ENSG00000000457                                   0.137430   \n",
       "ENSG00000000460                                   0.425188   \n",
       "ENSG00000000938                                   0.231449   \n",
       "ENSG00000000971                                   0.807439   \n",
       "\n",
       "                 22601_41133206-Job_coding_local_government_administrative_officer_or_assistant_or_clerk  \\\n",
       "gene_name                                                                                                  \n",
       "ENSG00000000419                                           0.597882                                         \n",
       "ENSG00000000457                                           0.868056                                         \n",
       "ENSG00000000460                                           0.551723                                         \n",
       "ENSG00000000938                                           0.106706                                         \n",
       "ENSG00000000971                                           0.948366                                         \n",
       "\n",
       "                 6145_3-Illness_injury_bereavement_stress_in_last_2_years_Death_of_a_close_relative  \\\n",
       "gene_name                                                                                             \n",
       "ENSG00000000419                                           0.531657                                    \n",
       "ENSG00000000457                                           0.028947                                    \n",
       "ENSG00000000460                                           0.059456                                    \n",
       "ENSG00000000938                                           0.595655                                    \n",
       "ENSG00000000971                                           0.774694                                    \n",
       "\n",
       "                 20002_1597-Noncancer_illness_code_selfreported_tinnitus_tiniitis  \\\n",
       "gene_name                                                                           \n",
       "ENSG00000000419                                           0.534696                  \n",
       "ENSG00000000457                                           0.392273                  \n",
       "ENSG00000000460                                           0.295833                  \n",
       "ENSG00000000938                                           0.953718                  \n",
       "ENSG00000000971                                           0.490962                  \n",
       "\n",
       "                 ...  PGC_ADHD_EUR_2017  BCAC_ER_negative_BreastCancer_EUR  \\\n",
       "gene_name        ...                                                         \n",
       "ENSG00000000419  ...           0.980281                           0.413973   \n",
       "ENSG00000000457  ...           0.228982                           0.636830   \n",
       "ENSG00000000460  ...           0.301460                           0.140522   \n",
       "ENSG00000000938  ...           0.588855                           0.226977   \n",
       "ENSG00000000971  ...           0.109883                           0.040871   \n",
       "\n",
       "                 SSGAC_Education_Years_Pooled  pgc.scz2  MAGNETIC_HDL.C  \\\n",
       "gene_name                                                                 \n",
       "ENSG00000000419                      0.747822  0.609467        0.019467   \n",
       "ENSG00000000457                      0.654535  0.010907        0.726300   \n",
       "ENSG00000000460                      0.646442  0.587969        0.498724   \n",
       "ENSG00000000938                      0.576593  0.059247        0.435438   \n",
       "ENSG00000000971                      0.005662  0.020391        0.439466   \n",
       "\n",
       "                 MAGIC_ln_FastingInsulin  \\\n",
       "gene_name                                  \n",
       "ENSG00000000419                 0.371748   \n",
       "ENSG00000000457                 0.210658   \n",
       "ENSG00000000460                 0.521805   \n",
       "ENSG00000000938                 0.953160   \n",
       "ENSG00000000971                 0.690242   \n",
       "\n",
       "                 Astle_et_al_2016_Sum_eosinophil_basophil_counts  \\\n",
       "gene_name                                                          \n",
       "ENSG00000000419                                         0.823010   \n",
       "ENSG00000000457                                         0.008023   \n",
       "ENSG00000000460                                         0.004462   \n",
       "ENSG00000000938                                         0.101875   \n",
       "ENSG00000000971                                         0.055059   \n",
       "\n",
       "                 SSGAC_Depressive_Symptoms  Jones_et_al_2016_SleepDuration  \\\n",
       "gene_name                                                                    \n",
       "ENSG00000000419                   0.713310                        0.858389   \n",
       "ENSG00000000457                   0.678749                        0.836679   \n",
       "ENSG00000000460                   0.736509                        0.432229   \n",
       "ENSG00000000938                   0.954998                        0.097831   \n",
       "ENSG00000000971                   0.002660                        0.331132   \n",
       "\n",
       "                 Astle_et_al_2016_Red_blood_cell_count  \n",
       "gene_name                                               \n",
       "ENSG00000000419                               0.409761  \n",
       "ENSG00000000457                               0.812484  \n",
       "ENSG00000000460                               0.486664  \n",
       "ENSG00000000938                               0.135045  \n",
       "ENSG00000000971                               0.995450  \n",
       "\n",
       "[5 rows x 4091 columns]"
      ]
     },
     "execution_count": 17,
     "metadata": {},
     "output_type": "execute_result"
    }
   ],
   "source": [
    "smultixcan_gene_associations.head(5)"
   ]
  },
  {
   "cell_type": "markdown",
   "metadata": {},
   "source": [
    "# Load ClinVar gene associations"
   ]
  },
  {
   "cell_type": "code",
   "execution_count": 26,
   "metadata": {},
   "outputs": [
    {
     "data": {
      "text/plain": [
       "'/mnt/phenomexcan_base/gene_assoc/clinvar-gene_associations.pkl.xz'"
      ]
     },
     "metadata": {},
     "output_type": "display_data"
    }
   ],
   "source": [
    "clinvar_genes_associations_filename = os.path.join(conf.GENE_ASSOC_DIR, 'clinvar-gene_associations.pkl.xz')\n",
    "display(clinvar_genes_associations_filename)"
   ]
  },
  {
   "cell_type": "code",
   "execution_count": 27,
   "metadata": {},
   "outputs": [],
   "source": [
    "clinvar_genes_associations = pd.read_pickle(clinvar_genes_associations_filename)"
   ]
  },
  {
   "cell_type": "code",
   "execution_count": 28,
   "metadata": {},
   "outputs": [
    {
     "data": {
      "text/plain": [
       "(4194, 5586)"
      ]
     },
     "execution_count": 28,
     "metadata": {},
     "output_type": "execute_result"
    }
   ],
   "source": [
    "clinvar_genes_associations.shape"
   ]
  },
  {
   "cell_type": "code",
   "execution_count": 29,
   "metadata": {},
   "outputs": [
    {
     "data": {
      "text/html": [
       "<div>\n",
       "<style scoped>\n",
       "    .dataframe tbody tr th:only-of-type {\n",
       "        vertical-align: middle;\n",
       "    }\n",
       "\n",
       "    .dataframe tbody tr th {\n",
       "        vertical-align: top;\n",
       "    }\n",
       "\n",
       "    .dataframe thead th {\n",
       "        text-align: right;\n",
       "    }\n",
       "</style>\n",
       "<table border=\"1\" class=\"dataframe\">\n",
       "  <thead>\n",
       "    <tr style=\"text-align: right;\">\n",
       "      <th></th>\n",
       "      <th>Alzheimer's disease</th>\n",
       "      <th>Alpha-2-macroglobulin deficiency</th>\n",
       "      <th>Otitis media, susceptibility to</th>\n",
       "      <th>p phenotype</th>\n",
       "      <th>Glucocorticoid deficiency with achalasia</th>\n",
       "      <th>Keratosis palmoplantaris papulosa</th>\n",
       "      <th>Charcot-Marie-Tooth disease, type 2N</th>\n",
       "      <th>Epileptic encephalopathy, early infantile, 29</th>\n",
       "      <th>Combined oxidative phosphorylation deficiency 8</th>\n",
       "      <th>Leukoencephalopathy, progressive, with ovarian failure</th>\n",
       "      <th>...</th>\n",
       "      <th>Myopia 21, autosomal dominant</th>\n",
       "      <th>Paget disease of bone 6</th>\n",
       "      <th>ZNF711-Related X-linked Mental Retardation</th>\n",
       "      <th>Seborrhea-like dermatitis with psoriasiform elements</th>\n",
       "      <th>PEHO syndrome</th>\n",
       "      <th>Oocyte maturation defect 1</th>\n",
       "      <th>OOCYTE MATURATION DEFECT 6</th>\n",
       "      <th>OOCYTE MATURATION DEFECT 3</th>\n",
       "      <th>Acromelic frontonasal dysostosis</th>\n",
       "      <th>NEURODEVELOPMENTAL DISORDER WITH MOVEMENT ABNORMALITIES, ABNORMAL GAIT, AND AUTISTIC FEATURES</th>\n",
       "    </tr>\n",
       "    <tr>\n",
       "      <th>gene</th>\n",
       "      <th></th>\n",
       "      <th></th>\n",
       "      <th></th>\n",
       "      <th></th>\n",
       "      <th></th>\n",
       "      <th></th>\n",
       "      <th></th>\n",
       "      <th></th>\n",
       "      <th></th>\n",
       "      <th></th>\n",
       "      <th></th>\n",
       "      <th></th>\n",
       "      <th></th>\n",
       "      <th></th>\n",
       "      <th></th>\n",
       "      <th></th>\n",
       "      <th></th>\n",
       "      <th></th>\n",
       "      <th></th>\n",
       "      <th></th>\n",
       "      <th></th>\n",
       "    </tr>\n",
       "  </thead>\n",
       "  <tbody>\n",
       "    <tr>\n",
       "      <th>A2M</th>\n",
       "      <td>1</td>\n",
       "      <td>1</td>\n",
       "      <td>0</td>\n",
       "      <td>0</td>\n",
       "      <td>0</td>\n",
       "      <td>0</td>\n",
       "      <td>0</td>\n",
       "      <td>0</td>\n",
       "      <td>0</td>\n",
       "      <td>0</td>\n",
       "      <td>...</td>\n",
       "      <td>0</td>\n",
       "      <td>0</td>\n",
       "      <td>0</td>\n",
       "      <td>0</td>\n",
       "      <td>0</td>\n",
       "      <td>0</td>\n",
       "      <td>0</td>\n",
       "      <td>0</td>\n",
       "      <td>0</td>\n",
       "      <td>0</td>\n",
       "    </tr>\n",
       "    <tr>\n",
       "      <th>A2ML1</th>\n",
       "      <td>0</td>\n",
       "      <td>0</td>\n",
       "      <td>1</td>\n",
       "      <td>0</td>\n",
       "      <td>0</td>\n",
       "      <td>0</td>\n",
       "      <td>0</td>\n",
       "      <td>0</td>\n",
       "      <td>0</td>\n",
       "      <td>0</td>\n",
       "      <td>...</td>\n",
       "      <td>0</td>\n",
       "      <td>0</td>\n",
       "      <td>0</td>\n",
       "      <td>0</td>\n",
       "      <td>0</td>\n",
       "      <td>0</td>\n",
       "      <td>0</td>\n",
       "      <td>0</td>\n",
       "      <td>0</td>\n",
       "      <td>0</td>\n",
       "    </tr>\n",
       "    <tr>\n",
       "      <th>A4GALT</th>\n",
       "      <td>0</td>\n",
       "      <td>0</td>\n",
       "      <td>0</td>\n",
       "      <td>1</td>\n",
       "      <td>0</td>\n",
       "      <td>0</td>\n",
       "      <td>0</td>\n",
       "      <td>0</td>\n",
       "      <td>0</td>\n",
       "      <td>0</td>\n",
       "      <td>...</td>\n",
       "      <td>0</td>\n",
       "      <td>0</td>\n",
       "      <td>0</td>\n",
       "      <td>0</td>\n",
       "      <td>0</td>\n",
       "      <td>0</td>\n",
       "      <td>0</td>\n",
       "      <td>0</td>\n",
       "      <td>0</td>\n",
       "      <td>0</td>\n",
       "    </tr>\n",
       "    <tr>\n",
       "      <th>AAAS</th>\n",
       "      <td>0</td>\n",
       "      <td>0</td>\n",
       "      <td>0</td>\n",
       "      <td>0</td>\n",
       "      <td>1</td>\n",
       "      <td>0</td>\n",
       "      <td>0</td>\n",
       "      <td>0</td>\n",
       "      <td>0</td>\n",
       "      <td>0</td>\n",
       "      <td>...</td>\n",
       "      <td>0</td>\n",
       "      <td>0</td>\n",
       "      <td>0</td>\n",
       "      <td>0</td>\n",
       "      <td>0</td>\n",
       "      <td>0</td>\n",
       "      <td>0</td>\n",
       "      <td>0</td>\n",
       "      <td>0</td>\n",
       "      <td>0</td>\n",
       "    </tr>\n",
       "    <tr>\n",
       "      <th>AAGAB</th>\n",
       "      <td>0</td>\n",
       "      <td>0</td>\n",
       "      <td>0</td>\n",
       "      <td>0</td>\n",
       "      <td>0</td>\n",
       "      <td>1</td>\n",
       "      <td>0</td>\n",
       "      <td>0</td>\n",
       "      <td>0</td>\n",
       "      <td>0</td>\n",
       "      <td>...</td>\n",
       "      <td>0</td>\n",
       "      <td>0</td>\n",
       "      <td>0</td>\n",
       "      <td>0</td>\n",
       "      <td>0</td>\n",
       "      <td>0</td>\n",
       "      <td>0</td>\n",
       "      <td>0</td>\n",
       "      <td>0</td>\n",
       "      <td>0</td>\n",
       "    </tr>\n",
       "  </tbody>\n",
       "</table>\n",
       "<p>5 rows × 5586 columns</p>\n",
       "</div>"
      ],
      "text/plain": [
       "        Alzheimer's disease  Alpha-2-macroglobulin deficiency  \\\n",
       "gene                                                            \n",
       "A2M                       1                                 1   \n",
       "A2ML1                     0                                 0   \n",
       "A4GALT                    0                                 0   \n",
       "AAAS                      0                                 0   \n",
       "AAGAB                     0                                 0   \n",
       "\n",
       "        Otitis media, susceptibility to  p phenotype  \\\n",
       "gene                                                   \n",
       "A2M                                   0            0   \n",
       "A2ML1                                 1            0   \n",
       "A4GALT                                0            1   \n",
       "AAAS                                  0            0   \n",
       "AAGAB                                 0            0   \n",
       "\n",
       "        Glucocorticoid deficiency with achalasia  \\\n",
       "gene                                               \n",
       "A2M                                            0   \n",
       "A2ML1                                          0   \n",
       "A4GALT                                         0   \n",
       "AAAS                                           1   \n",
       "AAGAB                                          0   \n",
       "\n",
       "        Keratosis palmoplantaris papulosa  \\\n",
       "gene                                        \n",
       "A2M                                     0   \n",
       "A2ML1                                   0   \n",
       "A4GALT                                  0   \n",
       "AAAS                                    0   \n",
       "AAGAB                                   1   \n",
       "\n",
       "        Charcot-Marie-Tooth disease, type 2N  \\\n",
       "gene                                           \n",
       "A2M                                        0   \n",
       "A2ML1                                      0   \n",
       "A4GALT                                     0   \n",
       "AAAS                                       0   \n",
       "AAGAB                                      0   \n",
       "\n",
       "        Epileptic encephalopathy, early infantile, 29  \\\n",
       "gene                                                    \n",
       "A2M                                                 0   \n",
       "A2ML1                                               0   \n",
       "A4GALT                                              0   \n",
       "AAAS                                                0   \n",
       "AAGAB                                               0   \n",
       "\n",
       "        Combined oxidative phosphorylation deficiency 8  \\\n",
       "gene                                                      \n",
       "A2M                                                   0   \n",
       "A2ML1                                                 0   \n",
       "A4GALT                                                0   \n",
       "AAAS                                                  0   \n",
       "AAGAB                                                 0   \n",
       "\n",
       "        Leukoencephalopathy, progressive, with ovarian failure  ...  \\\n",
       "gene                                                            ...   \n",
       "A2M                                                     0       ...   \n",
       "A2ML1                                                   0       ...   \n",
       "A4GALT                                                  0       ...   \n",
       "AAAS                                                    0       ...   \n",
       "AAGAB                                                   0       ...   \n",
       "\n",
       "        Myopia 21, autosomal dominant  Paget disease of bone 6  \\\n",
       "gene                                                             \n",
       "A2M                                 0                        0   \n",
       "A2ML1                               0                        0   \n",
       "A4GALT                              0                        0   \n",
       "AAAS                                0                        0   \n",
       "AAGAB                               0                        0   \n",
       "\n",
       "        ZNF711-Related X-linked Mental Retardation  \\\n",
       "gene                                                 \n",
       "A2M                                              0   \n",
       "A2ML1                                            0   \n",
       "A4GALT                                           0   \n",
       "AAAS                                             0   \n",
       "AAGAB                                            0   \n",
       "\n",
       "        Seborrhea-like dermatitis with psoriasiform elements  PEHO syndrome  \\\n",
       "gene                                                                          \n",
       "A2M                                                     0                 0   \n",
       "A2ML1                                                   0                 0   \n",
       "A4GALT                                                  0                 0   \n",
       "AAAS                                                    0                 0   \n",
       "AAGAB                                                   0                 0   \n",
       "\n",
       "        Oocyte maturation defect 1  OOCYTE MATURATION DEFECT 6  \\\n",
       "gene                                                             \n",
       "A2M                              0                           0   \n",
       "A2ML1                            0                           0   \n",
       "A4GALT                           0                           0   \n",
       "AAAS                             0                           0   \n",
       "AAGAB                            0                           0   \n",
       "\n",
       "        OOCYTE MATURATION DEFECT 3  Acromelic frontonasal dysostosis  \\\n",
       "gene                                                                   \n",
       "A2M                              0                                 0   \n",
       "A2ML1                            0                                 0   \n",
       "A4GALT                           0                                 0   \n",
       "AAAS                             0                                 0   \n",
       "AAGAB                            0                                 0   \n",
       "\n",
       "        NEURODEVELOPMENTAL DISORDER WITH MOVEMENT ABNORMALITIES, ABNORMAL GAIT, AND AUTISTIC FEATURES  \n",
       "gene                                                                                                   \n",
       "A2M                                                     0                                              \n",
       "A2ML1                                                   0                                              \n",
       "A4GALT                                                  0                                              \n",
       "AAAS                                                    0                                              \n",
       "AAGAB                                                   0                                              \n",
       "\n",
       "[5 rows x 5586 columns]"
      ]
     },
     "execution_count": 29,
     "metadata": {},
     "output_type": "execute_result"
    }
   ],
   "source": [
    "clinvar_genes_associations.head(5)"
   ]
  },
  {
   "cell_type": "markdown",
   "metadata": {},
   "source": [
    "# Compute unique list of genes and non-empty diseases"
   ]
  },
  {
   "cell_type": "code",
   "execution_count": 30,
   "metadata": {},
   "outputs": [
    {
     "data": {
      "text/plain": [
       "3790"
      ]
     },
     "metadata": {},
     "output_type": "display_data"
    }
   ],
   "source": [
    "clinvar_genes_to_id = pd.Index([metadata.GENE_NAME_TO_ID_MAP[x] for x in clinvar_genes_associations.index if x in metadata.GENE_NAME_TO_ID_MAP])\n",
    "display(len(clinvar_genes_to_id))"
   ]
  },
  {
   "cell_type": "code",
   "execution_count": 31,
   "metadata": {},
   "outputs": [
    {
     "data": {
      "text/plain": [
       "3789"
      ]
     },
     "metadata": {},
     "output_type": "display_data"
    }
   ],
   "source": [
    "shared_gene_ids = clinvar_genes_to_id.intersection(smultixcan_gene_associations.index)\n",
    "display(len(shared_gene_ids))"
   ]
  },
  {
   "cell_type": "code",
   "execution_count": 32,
   "metadata": {},
   "outputs": [
    {
     "data": {
      "text/plain": [
       "3789"
      ]
     },
     "metadata": {},
     "output_type": "display_data"
    }
   ],
   "source": [
    "shared_gene_names = pd.Index([metadata.GENE_ID_TO_NAME_MAP[x] for x in shared_gene_ids])\n",
    "display(len(shared_gene_names))"
   ]
  },
  {
   "cell_type": "code",
   "execution_count": 33,
   "metadata": {},
   "outputs": [],
   "source": [
    "assert len(shared_gene_ids) == len(shared_gene_names)"
   ]
  },
  {
   "cell_type": "code",
   "execution_count": 34,
   "metadata": {},
   "outputs": [],
   "source": [
    "smultixcan_gene_associations = smultixcan_gene_associations.loc[shared_gene_ids]\n",
    "clinvar_genes_associations = clinvar_genes_associations.loc[shared_gene_names]"
   ]
  },
  {
   "cell_type": "code",
   "execution_count": 35,
   "metadata": {},
   "outputs": [
    {
     "data": {
      "text/plain": [
       "(480,)"
      ]
     },
     "metadata": {},
     "output_type": "display_data"
    }
   ],
   "source": [
    "_tmp = clinvar_genes_associations.sum()\n",
    "_clinvar_diseases_to_remove = _tmp[_tmp == 0].index\n",
    "display(_clinvar_diseases_to_remove.shape)"
   ]
  },
  {
   "cell_type": "code",
   "execution_count": 36,
   "metadata": {},
   "outputs": [],
   "source": [
    "# remove diseases that have no-genes associated (after selecting just shared ones above)\n",
    "clinvar_genes_associations = clinvar_genes_associations.drop(columns=_clinvar_diseases_to_remove)"
   ]
  },
  {
   "cell_type": "code",
   "execution_count": 37,
   "metadata": {},
   "outputs": [],
   "source": [
    "_tmp = clinvar_genes_associations.sum()\n",
    "assert _tmp[_tmp == 0].shape[0] == 0"
   ]
  },
  {
   "cell_type": "code",
   "execution_count": 38,
   "metadata": {},
   "outputs": [
    {
     "data": {
      "text/plain": [
       "(3789, 4091)"
      ]
     },
     "metadata": {},
     "output_type": "display_data"
    },
    {
     "data": {
      "text/plain": [
       "(3789, 5106)"
      ]
     },
     "metadata": {},
     "output_type": "display_data"
    }
   ],
   "source": [
    "display(smultixcan_gene_associations.shape)\n",
    "display(clinvar_genes_associations.shape)"
   ]
  },
  {
   "cell_type": "markdown",
   "metadata": {},
   "source": [
    "# ClinVar: rename genes"
   ]
  },
  {
   "cell_type": "code",
   "execution_count": 39,
   "metadata": {},
   "outputs": [],
   "source": [
    "clinvar_genes_associations = clinvar_genes_associations.rename(index=gene_name_to_id_long)"
   ]
  },
  {
   "cell_type": "code",
   "execution_count": 40,
   "metadata": {},
   "outputs": [
    {
     "data": {
      "text/plain": [
       "(3789, 5106)"
      ]
     },
     "execution_count": 40,
     "metadata": {},
     "output_type": "execute_result"
    }
   ],
   "source": [
    "clinvar_genes_associations.shape"
   ]
  },
  {
   "cell_type": "code",
   "execution_count": 41,
   "metadata": {},
   "outputs": [
    {
     "data": {
      "text/html": [
       "<div>\n",
       "<style scoped>\n",
       "    .dataframe tbody tr th:only-of-type {\n",
       "        vertical-align: middle;\n",
       "    }\n",
       "\n",
       "    .dataframe tbody tr th {\n",
       "        vertical-align: top;\n",
       "    }\n",
       "\n",
       "    .dataframe thead th {\n",
       "        text-align: right;\n",
       "    }\n",
       "</style>\n",
       "<table border=\"1\" class=\"dataframe\">\n",
       "  <thead>\n",
       "    <tr style=\"text-align: right;\">\n",
       "      <th></th>\n",
       "      <th>Alzheimer's disease</th>\n",
       "      <th>Alpha-2-macroglobulin deficiency</th>\n",
       "      <th>Otitis media, susceptibility to</th>\n",
       "      <th>p phenotype</th>\n",
       "      <th>Glucocorticoid deficiency with achalasia</th>\n",
       "      <th>Keratosis palmoplantaris papulosa</th>\n",
       "      <th>Charcot-Marie-Tooth disease, type 2N</th>\n",
       "      <th>Epileptic encephalopathy, early infantile, 29</th>\n",
       "      <th>Combined oxidative phosphorylation deficiency 8</th>\n",
       "      <th>Leukoencephalopathy, progressive, with ovarian failure</th>\n",
       "      <th>...</th>\n",
       "      <th>Retinitis pigmentosa 58</th>\n",
       "      <th>Myopia 21, autosomal dominant</th>\n",
       "      <th>Paget disease of bone 6</th>\n",
       "      <th>Seborrhea-like dermatitis with psoriasiform elements</th>\n",
       "      <th>PEHO syndrome</th>\n",
       "      <th>Oocyte maturation defect 1</th>\n",
       "      <th>OOCYTE MATURATION DEFECT 6</th>\n",
       "      <th>OOCYTE MATURATION DEFECT 3</th>\n",
       "      <th>Acromelic frontonasal dysostosis</th>\n",
       "      <th>NEURODEVELOPMENTAL DISORDER WITH MOVEMENT ABNORMALITIES, ABNORMAL GAIT, AND AUTISTIC FEATURES</th>\n",
       "    </tr>\n",
       "  </thead>\n",
       "  <tbody>\n",
       "    <tr>\n",
       "      <th>ENSG00000175899.14</th>\n",
       "      <td>1</td>\n",
       "      <td>1</td>\n",
       "      <td>0</td>\n",
       "      <td>0</td>\n",
       "      <td>0</td>\n",
       "      <td>0</td>\n",
       "      <td>0</td>\n",
       "      <td>0</td>\n",
       "      <td>0</td>\n",
       "      <td>0</td>\n",
       "      <td>...</td>\n",
       "      <td>0</td>\n",
       "      <td>0</td>\n",
       "      <td>0</td>\n",
       "      <td>0</td>\n",
       "      <td>0</td>\n",
       "      <td>0</td>\n",
       "      <td>0</td>\n",
       "      <td>0</td>\n",
       "      <td>0</td>\n",
       "      <td>0</td>\n",
       "    </tr>\n",
       "    <tr>\n",
       "      <th>ENSG00000166535.19</th>\n",
       "      <td>0</td>\n",
       "      <td>0</td>\n",
       "      <td>1</td>\n",
       "      <td>0</td>\n",
       "      <td>0</td>\n",
       "      <td>0</td>\n",
       "      <td>0</td>\n",
       "      <td>0</td>\n",
       "      <td>0</td>\n",
       "      <td>0</td>\n",
       "      <td>...</td>\n",
       "      <td>0</td>\n",
       "      <td>0</td>\n",
       "      <td>0</td>\n",
       "      <td>0</td>\n",
       "      <td>0</td>\n",
       "      <td>0</td>\n",
       "      <td>0</td>\n",
       "      <td>0</td>\n",
       "      <td>0</td>\n",
       "      <td>0</td>\n",
       "    </tr>\n",
       "    <tr>\n",
       "      <th>ENSG00000128274.15</th>\n",
       "      <td>0</td>\n",
       "      <td>0</td>\n",
       "      <td>0</td>\n",
       "      <td>1</td>\n",
       "      <td>0</td>\n",
       "      <td>0</td>\n",
       "      <td>0</td>\n",
       "      <td>0</td>\n",
       "      <td>0</td>\n",
       "      <td>0</td>\n",
       "      <td>...</td>\n",
       "      <td>0</td>\n",
       "      <td>0</td>\n",
       "      <td>0</td>\n",
       "      <td>0</td>\n",
       "      <td>0</td>\n",
       "      <td>0</td>\n",
       "      <td>0</td>\n",
       "      <td>0</td>\n",
       "      <td>0</td>\n",
       "      <td>0</td>\n",
       "    </tr>\n",
       "    <tr>\n",
       "      <th>ENSG00000094914.12</th>\n",
       "      <td>0</td>\n",
       "      <td>0</td>\n",
       "      <td>0</td>\n",
       "      <td>0</td>\n",
       "      <td>1</td>\n",
       "      <td>0</td>\n",
       "      <td>0</td>\n",
       "      <td>0</td>\n",
       "      <td>0</td>\n",
       "      <td>0</td>\n",
       "      <td>...</td>\n",
       "      <td>0</td>\n",
       "      <td>0</td>\n",
       "      <td>0</td>\n",
       "      <td>0</td>\n",
       "      <td>0</td>\n",
       "      <td>0</td>\n",
       "      <td>0</td>\n",
       "      <td>0</td>\n",
       "      <td>0</td>\n",
       "      <td>0</td>\n",
       "    </tr>\n",
       "    <tr>\n",
       "      <th>ENSG00000103591.12</th>\n",
       "      <td>0</td>\n",
       "      <td>0</td>\n",
       "      <td>0</td>\n",
       "      <td>0</td>\n",
       "      <td>0</td>\n",
       "      <td>1</td>\n",
       "      <td>0</td>\n",
       "      <td>0</td>\n",
       "      <td>0</td>\n",
       "      <td>0</td>\n",
       "      <td>...</td>\n",
       "      <td>0</td>\n",
       "      <td>0</td>\n",
       "      <td>0</td>\n",
       "      <td>0</td>\n",
       "      <td>0</td>\n",
       "      <td>0</td>\n",
       "      <td>0</td>\n",
       "      <td>0</td>\n",
       "      <td>0</td>\n",
       "      <td>0</td>\n",
       "    </tr>\n",
       "  </tbody>\n",
       "</table>\n",
       "<p>5 rows × 5106 columns</p>\n",
       "</div>"
      ],
      "text/plain": [
       "                    Alzheimer's disease  Alpha-2-macroglobulin deficiency  \\\n",
       "ENSG00000175899.14                    1                                 1   \n",
       "ENSG00000166535.19                    0                                 0   \n",
       "ENSG00000128274.15                    0                                 0   \n",
       "ENSG00000094914.12                    0                                 0   \n",
       "ENSG00000103591.12                    0                                 0   \n",
       "\n",
       "                    Otitis media, susceptibility to  p phenotype  \\\n",
       "ENSG00000175899.14                                0            0   \n",
       "ENSG00000166535.19                                1            0   \n",
       "ENSG00000128274.15                                0            1   \n",
       "ENSG00000094914.12                                0            0   \n",
       "ENSG00000103591.12                                0            0   \n",
       "\n",
       "                    Glucocorticoid deficiency with achalasia  \\\n",
       "ENSG00000175899.14                                         0   \n",
       "ENSG00000166535.19                                         0   \n",
       "ENSG00000128274.15                                         0   \n",
       "ENSG00000094914.12                                         1   \n",
       "ENSG00000103591.12                                         0   \n",
       "\n",
       "                    Keratosis palmoplantaris papulosa  \\\n",
       "ENSG00000175899.14                                  0   \n",
       "ENSG00000166535.19                                  0   \n",
       "ENSG00000128274.15                                  0   \n",
       "ENSG00000094914.12                                  0   \n",
       "ENSG00000103591.12                                  1   \n",
       "\n",
       "                    Charcot-Marie-Tooth disease, type 2N  \\\n",
       "ENSG00000175899.14                                     0   \n",
       "ENSG00000166535.19                                     0   \n",
       "ENSG00000128274.15                                     0   \n",
       "ENSG00000094914.12                                     0   \n",
       "ENSG00000103591.12                                     0   \n",
       "\n",
       "                    Epileptic encephalopathy, early infantile, 29  \\\n",
       "ENSG00000175899.14                                              0   \n",
       "ENSG00000166535.19                                              0   \n",
       "ENSG00000128274.15                                              0   \n",
       "ENSG00000094914.12                                              0   \n",
       "ENSG00000103591.12                                              0   \n",
       "\n",
       "                    Combined oxidative phosphorylation deficiency 8  \\\n",
       "ENSG00000175899.14                                                0   \n",
       "ENSG00000166535.19                                                0   \n",
       "ENSG00000128274.15                                                0   \n",
       "ENSG00000094914.12                                                0   \n",
       "ENSG00000103591.12                                                0   \n",
       "\n",
       "                    Leukoencephalopathy, progressive, with ovarian failure  \\\n",
       "ENSG00000175899.14                                                  0        \n",
       "ENSG00000166535.19                                                  0        \n",
       "ENSG00000128274.15                                                  0        \n",
       "ENSG00000094914.12                                                  0        \n",
       "ENSG00000103591.12                                                  0        \n",
       "\n",
       "                    ...  Retinitis pigmentosa 58  \\\n",
       "ENSG00000175899.14  ...                        0   \n",
       "ENSG00000166535.19  ...                        0   \n",
       "ENSG00000128274.15  ...                        0   \n",
       "ENSG00000094914.12  ...                        0   \n",
       "ENSG00000103591.12  ...                        0   \n",
       "\n",
       "                    Myopia 21, autosomal dominant  Paget disease of bone 6  \\\n",
       "ENSG00000175899.14                              0                        0   \n",
       "ENSG00000166535.19                              0                        0   \n",
       "ENSG00000128274.15                              0                        0   \n",
       "ENSG00000094914.12                              0                        0   \n",
       "ENSG00000103591.12                              0                        0   \n",
       "\n",
       "                    Seborrhea-like dermatitis with psoriasiform elements  \\\n",
       "ENSG00000175899.14                                                  0      \n",
       "ENSG00000166535.19                                                  0      \n",
       "ENSG00000128274.15                                                  0      \n",
       "ENSG00000094914.12                                                  0      \n",
       "ENSG00000103591.12                                                  0      \n",
       "\n",
       "                    PEHO syndrome  Oocyte maturation defect 1  \\\n",
       "ENSG00000175899.14              0                           0   \n",
       "ENSG00000166535.19              0                           0   \n",
       "ENSG00000128274.15              0                           0   \n",
       "ENSG00000094914.12              0                           0   \n",
       "ENSG00000103591.12              0                           0   \n",
       "\n",
       "                    OOCYTE MATURATION DEFECT 6  OOCYTE MATURATION DEFECT 3  \\\n",
       "ENSG00000175899.14                           0                           0   \n",
       "ENSG00000166535.19                           0                           0   \n",
       "ENSG00000128274.15                           0                           0   \n",
       "ENSG00000094914.12                           0                           0   \n",
       "ENSG00000103591.12                           0                           0   \n",
       "\n",
       "                    Acromelic frontonasal dysostosis  \\\n",
       "ENSG00000175899.14                                 0   \n",
       "ENSG00000166535.19                                 0   \n",
       "ENSG00000128274.15                                 0   \n",
       "ENSG00000094914.12                                 0   \n",
       "ENSG00000103591.12                                 0   \n",
       "\n",
       "                    NEURODEVELOPMENTAL DISORDER WITH MOVEMENT ABNORMALITIES, ABNORMAL GAIT, AND AUTISTIC FEATURES  \n",
       "ENSG00000175899.14                                                  0                                              \n",
       "ENSG00000166535.19                                                  0                                              \n",
       "ENSG00000128274.15                                                  0                                              \n",
       "ENSG00000094914.12                                                  0                                              \n",
       "ENSG00000103591.12                                                  0                                              \n",
       "\n",
       "[5 rows x 5106 columns]"
      ]
     },
     "execution_count": 41,
     "metadata": {},
     "output_type": "execute_result"
    }
   ],
   "source": [
    "clinvar_genes_associations.head()"
   ]
  },
  {
   "cell_type": "code",
   "execution_count": 42,
   "metadata": {},
   "outputs": [],
   "source": [
    "assert clinvar_genes_associations.index.is_unique\n",
    "assert clinvar_genes_associations.columns.is_unique"
   ]
  },
  {
   "cell_type": "markdown",
   "metadata": {},
   "source": [
    "# ClinVar genes per trait"
   ]
  },
  {
   "cell_type": "code",
   "execution_count": 43,
   "metadata": {},
   "outputs": [],
   "source": [
    "clinvar_genes = clinvar_genes_associations.unstack().to_frame('associated')"
   ]
  },
  {
   "cell_type": "code",
   "execution_count": 44,
   "metadata": {},
   "outputs": [
    {
     "data": {
      "text/plain": [
       "(19346634, 1)"
      ]
     },
     "execution_count": 44,
     "metadata": {},
     "output_type": "execute_result"
    }
   ],
   "source": [
    "clinvar_genes.shape"
   ]
  },
  {
   "cell_type": "code",
   "execution_count": 45,
   "metadata": {},
   "outputs": [],
   "source": [
    "assert clinvar_genes.shape[0] == clinvar_genes_associations.size"
   ]
  },
  {
   "cell_type": "code",
   "execution_count": 46,
   "metadata": {},
   "outputs": [
    {
     "data": {
      "text/html": [
       "<div>\n",
       "<style scoped>\n",
       "    .dataframe tbody tr th:only-of-type {\n",
       "        vertical-align: middle;\n",
       "    }\n",
       "\n",
       "    .dataframe tbody tr th {\n",
       "        vertical-align: top;\n",
       "    }\n",
       "\n",
       "    .dataframe thead th {\n",
       "        text-align: right;\n",
       "    }\n",
       "</style>\n",
       "<table border=\"1\" class=\"dataframe\">\n",
       "  <thead>\n",
       "    <tr style=\"text-align: right;\">\n",
       "      <th></th>\n",
       "      <th></th>\n",
       "      <th>associated</th>\n",
       "    </tr>\n",
       "  </thead>\n",
       "  <tbody>\n",
       "    <tr>\n",
       "      <th rowspan=\"5\" valign=\"top\">Alzheimer's disease</th>\n",
       "      <th>ENSG00000175899.14</th>\n",
       "      <td>1</td>\n",
       "    </tr>\n",
       "    <tr>\n",
       "      <th>ENSG00000166535.19</th>\n",
       "      <td>0</td>\n",
       "    </tr>\n",
       "    <tr>\n",
       "      <th>ENSG00000128274.15</th>\n",
       "      <td>0</td>\n",
       "    </tr>\n",
       "    <tr>\n",
       "      <th>ENSG00000094914.12</th>\n",
       "      <td>0</td>\n",
       "    </tr>\n",
       "    <tr>\n",
       "      <th>ENSG00000103591.12</th>\n",
       "      <td>0</td>\n",
       "    </tr>\n",
       "  </tbody>\n",
       "</table>\n",
       "</div>"
      ],
      "text/plain": [
       "                                        associated\n",
       "Alzheimer's disease ENSG00000175899.14           1\n",
       "                    ENSG00000166535.19           0\n",
       "                    ENSG00000128274.15           0\n",
       "                    ENSG00000094914.12           0\n",
       "                    ENSG00000103591.12           0"
      ]
     },
     "execution_count": 46,
     "metadata": {},
     "output_type": "execute_result"
    }
   ],
   "source": [
    "clinvar_genes.head()"
   ]
  },
  {
   "cell_type": "code",
   "execution_count": 47,
   "metadata": {},
   "outputs": [],
   "source": [
    "clinvar_genes = clinvar_genes[clinvar_genes['associated'] == 1].reset_index().rename(columns={'level_0': 'clinvar_trait', 'level_1': 'gene'}).drop(columns=['associated'])"
   ]
  },
  {
   "cell_type": "code",
   "execution_count": 48,
   "metadata": {},
   "outputs": [
    {
     "data": {
      "text/plain": [
       "(5921, 2)"
      ]
     },
     "execution_count": 48,
     "metadata": {},
     "output_type": "execute_result"
    }
   ],
   "source": [
    "clinvar_genes.shape"
   ]
  },
  {
   "cell_type": "code",
   "execution_count": 49,
   "metadata": {},
   "outputs": [
    {
     "data": {
      "text/html": [
       "<div>\n",
       "<style scoped>\n",
       "    .dataframe tbody tr th:only-of-type {\n",
       "        vertical-align: middle;\n",
       "    }\n",
       "\n",
       "    .dataframe tbody tr th {\n",
       "        vertical-align: top;\n",
       "    }\n",
       "\n",
       "    .dataframe thead th {\n",
       "        text-align: right;\n",
       "    }\n",
       "</style>\n",
       "<table border=\"1\" class=\"dataframe\">\n",
       "  <thead>\n",
       "    <tr style=\"text-align: right;\">\n",
       "      <th></th>\n",
       "      <th>clinvar_trait</th>\n",
       "      <th>gene</th>\n",
       "    </tr>\n",
       "  </thead>\n",
       "  <tbody>\n",
       "    <tr>\n",
       "      <th>0</th>\n",
       "      <td>Alzheimer's disease</td>\n",
       "      <td>ENSG00000175899.14</td>\n",
       "    </tr>\n",
       "    <tr>\n",
       "      <th>1</th>\n",
       "      <td>Alzheimer's disease</td>\n",
       "      <td>ENSG00000142192.20</td>\n",
       "    </tr>\n",
       "    <tr>\n",
       "      <th>2</th>\n",
       "      <td>Alzheimer's disease</td>\n",
       "      <td>ENSG00000010704.18</td>\n",
       "    </tr>\n",
       "    <tr>\n",
       "      <th>3</th>\n",
       "      <td>Alzheimer's disease</td>\n",
       "      <td>ENSG00000005381.7</td>\n",
       "    </tr>\n",
       "    <tr>\n",
       "      <th>4</th>\n",
       "      <td>Alzheimer's disease</td>\n",
       "      <td>ENSG00000164867.10</td>\n",
       "    </tr>\n",
       "  </tbody>\n",
       "</table>\n",
       "</div>"
      ],
      "text/plain": [
       "         clinvar_trait                gene\n",
       "0  Alzheimer's disease  ENSG00000175899.14\n",
       "1  Alzheimer's disease  ENSG00000142192.20\n",
       "2  Alzheimer's disease  ENSG00000010704.18\n",
       "3  Alzheimer's disease   ENSG00000005381.7\n",
       "4  Alzheimer's disease  ENSG00000164867.10"
      ]
     },
     "execution_count": 49,
     "metadata": {},
     "output_type": "execute_result"
    }
   ],
   "source": [
    "clinvar_genes.head()"
   ]
  },
  {
   "cell_type": "code",
   "execution_count": 50,
   "metadata": {},
   "outputs": [],
   "source": [
    "clinvar_genes = clinvar_genes.assign(gene_name=clinvar_genes['gene'].apply(lambda x: gene_id_long_to_name[x]))"
   ]
  },
  {
   "cell_type": "code",
   "execution_count": 51,
   "metadata": {},
   "outputs": [],
   "source": [
    "clinvar_genes = clinvar_genes.assign(gene_band=clinvar_genes['gene'].apply(lambda x: gene_id_long_to_band[x]))"
   ]
  },
  {
   "cell_type": "code",
   "execution_count": 52,
   "metadata": {},
   "outputs": [
    {
     "data": {
      "text/html": [
       "<div>\n",
       "<style scoped>\n",
       "    .dataframe tbody tr th:only-of-type {\n",
       "        vertical-align: middle;\n",
       "    }\n",
       "\n",
       "    .dataframe tbody tr th {\n",
       "        vertical-align: top;\n",
       "    }\n",
       "\n",
       "    .dataframe thead th {\n",
       "        text-align: right;\n",
       "    }\n",
       "</style>\n",
       "<table border=\"1\" class=\"dataframe\">\n",
       "  <thead>\n",
       "    <tr style=\"text-align: right;\">\n",
       "      <th></th>\n",
       "      <th>clinvar_trait</th>\n",
       "      <th>gene</th>\n",
       "      <th>gene_name</th>\n",
       "      <th>gene_band</th>\n",
       "    </tr>\n",
       "  </thead>\n",
       "  <tbody>\n",
       "    <tr>\n",
       "      <th>0</th>\n",
       "      <td>Alzheimer's disease</td>\n",
       "      <td>ENSG00000175899.14</td>\n",
       "      <td>A2M</td>\n",
       "      <td>12p13.31</td>\n",
       "    </tr>\n",
       "    <tr>\n",
       "      <th>1</th>\n",
       "      <td>Alzheimer's disease</td>\n",
       "      <td>ENSG00000142192.20</td>\n",
       "      <td>APP</td>\n",
       "      <td>21q21.3</td>\n",
       "    </tr>\n",
       "    <tr>\n",
       "      <th>2</th>\n",
       "      <td>Alzheimer's disease</td>\n",
       "      <td>ENSG00000010704.18</td>\n",
       "      <td>HFE</td>\n",
       "      <td>6p22.2</td>\n",
       "    </tr>\n",
       "    <tr>\n",
       "      <th>3</th>\n",
       "      <td>Alzheimer's disease</td>\n",
       "      <td>ENSG00000005381.7</td>\n",
       "      <td>MPO</td>\n",
       "      <td>17q22</td>\n",
       "    </tr>\n",
       "    <tr>\n",
       "      <th>4</th>\n",
       "      <td>Alzheimer's disease</td>\n",
       "      <td>ENSG00000164867.10</td>\n",
       "      <td>NOS3</td>\n",
       "      <td>7q36.1</td>\n",
       "    </tr>\n",
       "  </tbody>\n",
       "</table>\n",
       "</div>"
      ],
      "text/plain": [
       "         clinvar_trait                gene gene_name gene_band\n",
       "0  Alzheimer's disease  ENSG00000175899.14       A2M  12p13.31\n",
       "1  Alzheimer's disease  ENSG00000142192.20       APP   21q21.3\n",
       "2  Alzheimer's disease  ENSG00000010704.18       HFE    6p22.2\n",
       "3  Alzheimer's disease   ENSG00000005381.7       MPO     17q22\n",
       "4  Alzheimer's disease  ENSG00000164867.10      NOS3    7q36.1"
      ]
     },
     "execution_count": 52,
     "metadata": {},
     "output_type": "execute_result"
    }
   ],
   "source": [
    "clinvar_genes.head()"
   ]
  },
  {
   "cell_type": "code",
   "execution_count": 53,
   "metadata": {},
   "outputs": [],
   "source": [
    "assert clinvar_genes.drop_duplicates().shape == clinvar_genes.shape"
   ]
  },
  {
   "cell_type": "code",
   "execution_count": 54,
   "metadata": {},
   "outputs": [],
   "source": [
    "def _format_gene(x):\n",
    "    return pd.Series([\n",
    "        ', '.join(x.gene.values),\n",
    "        ', '.join([f'{g} ({b})' for g, b in zip(x.gene_name.values, x.gene_band.values)]),\n",
    "    ], index=['gene_ids', 'gene_names'])"
   ]
  },
  {
   "cell_type": "code",
   "execution_count": 55,
   "metadata": {},
   "outputs": [],
   "source": [
    "clinvar_genes_grp = clinvar_genes.groupby('clinvar_trait').apply(_format_gene)"
   ]
  },
  {
   "cell_type": "code",
   "execution_count": 56,
   "metadata": {},
   "outputs": [
    {
     "data": {
      "text/plain": [
       "(5106, 2)"
      ]
     },
     "execution_count": 56,
     "metadata": {},
     "output_type": "execute_result"
    }
   ],
   "source": [
    "clinvar_genes_grp.shape"
   ]
  },
  {
   "cell_type": "code",
   "execution_count": 57,
   "metadata": {},
   "outputs": [
    {
     "data": {
      "text/html": [
       "<div>\n",
       "<style scoped>\n",
       "    .dataframe tbody tr th:only-of-type {\n",
       "        vertical-align: middle;\n",
       "    }\n",
       "\n",
       "    .dataframe tbody tr th {\n",
       "        vertical-align: top;\n",
       "    }\n",
       "\n",
       "    .dataframe thead th {\n",
       "        text-align: right;\n",
       "    }\n",
       "</style>\n",
       "<table border=\"1\" class=\"dataframe\">\n",
       "  <thead>\n",
       "    <tr style=\"text-align: right;\">\n",
       "      <th></th>\n",
       "      <th>gene_ids</th>\n",
       "      <th>gene_names</th>\n",
       "    </tr>\n",
       "    <tr>\n",
       "      <th>clinvar_trait</th>\n",
       "      <th></th>\n",
       "      <th></th>\n",
       "    </tr>\n",
       "  </thead>\n",
       "  <tbody>\n",
       "    <tr>\n",
       "      <th>15q13.3 microdeletion syndrome</th>\n",
       "      <td>ENSG00000175344.17, ENSG00000169926.10</td>\n",
       "      <td>CHRNA7 (15q13.3), KLF13 (15q13.3)</td>\n",
       "    </tr>\n",
       "    <tr>\n",
       "      <th>1q21.1 recurrent microdeletion</th>\n",
       "      <td>ENSG00000265107.2, ENSG00000121634.5</td>\n",
       "      <td>GJA5 (1q21.2), GJA8 (1q21.2)</td>\n",
       "    </tr>\n",
       "    <tr>\n",
       "      <th>2,4-Dienoyl-CoA reductase deficiency</th>\n",
       "      <td>ENSG00000152620.12</td>\n",
       "      <td>NADK2 (5p13.2)</td>\n",
       "    </tr>\n",
       "    <tr>\n",
       "      <th>2-aminoadipic 2-oxoadipic aciduria</th>\n",
       "      <td>ENSG00000181192.11</td>\n",
       "      <td>DHTKD1 (10p14)</td>\n",
       "    </tr>\n",
       "    <tr>\n",
       "      <th>22q13.3 deletion syndrome</th>\n",
       "      <td>ENSG00000251322.7</td>\n",
       "      <td>SHANK3 (22q13.33)</td>\n",
       "    </tr>\n",
       "  </tbody>\n",
       "</table>\n",
       "</div>"
      ],
      "text/plain": [
       "                                                                    gene_ids  \\\n",
       "clinvar_trait                                                                  \n",
       "15q13.3 microdeletion syndrome        ENSG00000175344.17, ENSG00000169926.10   \n",
       "1q21.1 recurrent microdeletion          ENSG00000265107.2, ENSG00000121634.5   \n",
       "2,4-Dienoyl-CoA reductase deficiency                      ENSG00000152620.12   \n",
       "2-aminoadipic 2-oxoadipic aciduria                        ENSG00000181192.11   \n",
       "22q13.3 deletion syndrome                                  ENSG00000251322.7   \n",
       "\n",
       "                                                             gene_names  \n",
       "clinvar_trait                                                            \n",
       "15q13.3 microdeletion syndrome        CHRNA7 (15q13.3), KLF13 (15q13.3)  \n",
       "1q21.1 recurrent microdeletion             GJA5 (1q21.2), GJA8 (1q21.2)  \n",
       "2,4-Dienoyl-CoA reductase deficiency                     NADK2 (5p13.2)  \n",
       "2-aminoadipic 2-oxoadipic aciduria                       DHTKD1 (10p14)  \n",
       "22q13.3 deletion syndrome                             SHANK3 (22q13.33)  "
      ]
     },
     "execution_count": 57,
     "metadata": {},
     "output_type": "execute_result"
    }
   ],
   "source": [
    "clinvar_genes_grp.head()"
   ]
  },
  {
   "cell_type": "code",
   "execution_count": 58,
   "metadata": {},
   "outputs": [],
   "source": [
    "assert clinvar_genes_grp.index.is_unique"
   ]
  },
  {
   "cell_type": "markdown",
   "metadata": {},
   "source": [
    "# Load phenotype information"
   ]
  },
  {
   "cell_type": "code",
   "execution_count": 59,
   "metadata": {},
   "outputs": [
    {
     "data": {
      "text/plain": [
       "'/mnt/phenomexcan_base/deliverables/phenotypes_info.tsv.gz'"
      ]
     },
     "execution_count": 59,
     "metadata": {},
     "output_type": "execute_result"
    }
   ],
   "source": [
    "os.path.join(conf.DELIVERABLES_DIR, 'phenotypes_info.tsv.gz')"
   ]
  },
  {
   "cell_type": "code",
   "execution_count": 60,
   "metadata": {},
   "outputs": [],
   "source": [
    "pheno_info = pd.read_csv(os.path.join(conf.DELIVERABLES_DIR, 'phenotypes_info.tsv.gz'), sep='\\t')"
   ]
  },
  {
   "cell_type": "code",
   "execution_count": 61,
   "metadata": {},
   "outputs": [
    {
     "data": {
      "text/plain": [
       "(4091, 9)"
      ]
     },
     "execution_count": 61,
     "metadata": {},
     "output_type": "execute_result"
    }
   ],
   "source": [
    "pheno_info.shape"
   ]
  },
  {
   "cell_type": "code",
   "execution_count": 62,
   "metadata": {},
   "outputs": [
    {
     "data": {
      "text/html": [
       "<div>\n",
       "<style scoped>\n",
       "    .dataframe tbody tr th:only-of-type {\n",
       "        vertical-align: middle;\n",
       "    }\n",
       "\n",
       "    .dataframe tbody tr th {\n",
       "        vertical-align: top;\n",
       "    }\n",
       "\n",
       "    .dataframe thead th {\n",
       "        text-align: right;\n",
       "    }\n",
       "</style>\n",
       "<table border=\"1\" class=\"dataframe\">\n",
       "  <thead>\n",
       "    <tr style=\"text-align: right;\">\n",
       "      <th></th>\n",
       "      <th>full_code</th>\n",
       "      <th>short_code</th>\n",
       "      <th>description</th>\n",
       "      <th>unique_description</th>\n",
       "      <th>type</th>\n",
       "      <th>n</th>\n",
       "      <th>n_cases</th>\n",
       "      <th>n_controls</th>\n",
       "      <th>source</th>\n",
       "    </tr>\n",
       "  </thead>\n",
       "  <tbody>\n",
       "    <tr>\n",
       "      <th>0</th>\n",
       "      <td>100001_raw-Food_weight</td>\n",
       "      <td>100001_raw</td>\n",
       "      <td>Food weight</td>\n",
       "      <td>Food weight</td>\n",
       "      <td>continuous_raw</td>\n",
       "      <td>51453</td>\n",
       "      <td>NaN</td>\n",
       "      <td>NaN</td>\n",
       "      <td>UK Biobank</td>\n",
       "    </tr>\n",
       "    <tr>\n",
       "      <th>1</th>\n",
       "      <td>100002_raw-Energy</td>\n",
       "      <td>100002_raw</td>\n",
       "      <td>Energy</td>\n",
       "      <td>Energy</td>\n",
       "      <td>continuous_raw</td>\n",
       "      <td>51453</td>\n",
       "      <td>NaN</td>\n",
       "      <td>NaN</td>\n",
       "      <td>UK Biobank</td>\n",
       "    </tr>\n",
       "    <tr>\n",
       "      <th>2</th>\n",
       "      <td>100003_raw-Protein</td>\n",
       "      <td>100003_raw</td>\n",
       "      <td>Protein</td>\n",
       "      <td>Protein</td>\n",
       "      <td>continuous_raw</td>\n",
       "      <td>51453</td>\n",
       "      <td>NaN</td>\n",
       "      <td>NaN</td>\n",
       "      <td>UK Biobank</td>\n",
       "    </tr>\n",
       "    <tr>\n",
       "      <th>3</th>\n",
       "      <td>100004_raw-Fat</td>\n",
       "      <td>100004_raw</td>\n",
       "      <td>Fat</td>\n",
       "      <td>Fat</td>\n",
       "      <td>continuous_raw</td>\n",
       "      <td>51453</td>\n",
       "      <td>NaN</td>\n",
       "      <td>NaN</td>\n",
       "      <td>UK Biobank</td>\n",
       "    </tr>\n",
       "    <tr>\n",
       "      <th>4</th>\n",
       "      <td>100005_raw-Carbohydrate</td>\n",
       "      <td>100005_raw</td>\n",
       "      <td>Carbohydrate</td>\n",
       "      <td>Carbohydrate</td>\n",
       "      <td>continuous_raw</td>\n",
       "      <td>51453</td>\n",
       "      <td>NaN</td>\n",
       "      <td>NaN</td>\n",
       "      <td>UK Biobank</td>\n",
       "    </tr>\n",
       "  </tbody>\n",
       "</table>\n",
       "</div>"
      ],
      "text/plain": [
       "                 full_code  short_code   description unique_description  \\\n",
       "0   100001_raw-Food_weight  100001_raw   Food weight        Food weight   \n",
       "1        100002_raw-Energy  100002_raw        Energy             Energy   \n",
       "2       100003_raw-Protein  100003_raw       Protein            Protein   \n",
       "3           100004_raw-Fat  100004_raw           Fat                Fat   \n",
       "4  100005_raw-Carbohydrate  100005_raw  Carbohydrate       Carbohydrate   \n",
       "\n",
       "             type      n  n_cases  n_controls      source  \n",
       "0  continuous_raw  51453      NaN         NaN  UK Biobank  \n",
       "1  continuous_raw  51453      NaN         NaN  UK Biobank  \n",
       "2  continuous_raw  51453      NaN         NaN  UK Biobank  \n",
       "3  continuous_raw  51453      NaN         NaN  UK Biobank  \n",
       "4  continuous_raw  51453      NaN         NaN  UK Biobank  "
      ]
     },
     "execution_count": 62,
     "metadata": {},
     "output_type": "execute_result"
    }
   ],
   "source": [
    "pheno_info.head()"
   ]
  },
  {
   "cell_type": "code",
   "execution_count": 63,
   "metadata": {},
   "outputs": [],
   "source": [
    "pheno_full_id_to_uniq_desc = pheno_info[['full_code', 'unique_description']].set_index('full_code').to_dict()['unique_description']"
   ]
  },
  {
   "cell_type": "code",
   "execution_count": 64,
   "metadata": {},
   "outputs": [
    {
     "data": {
      "text/plain": [
       "'Food weight'"
      ]
     },
     "execution_count": 64,
     "metadata": {},
     "output_type": "execute_result"
    }
   ],
   "source": [
    "pheno_full_id_to_uniq_desc['100001_raw-Food_weight']"
   ]
  },
  {
   "cell_type": "markdown",
   "metadata": {},
   "source": [
    "### Obtain z2"
   ]
  },
  {
   "cell_type": "code",
   "execution_count": 65,
   "metadata": {},
   "outputs": [],
   "source": [
    "clinvar_unstacked = ukb_clinvar_z2.rename(index=pheno_full_id_to_uniq_desc).T.unstack().to_frame('z2_avg')"
   ]
  },
  {
   "cell_type": "code",
   "execution_count": 66,
   "metadata": {},
   "outputs": [],
   "source": [
    "assert clinvar_unstacked.index.is_unique"
   ]
  },
  {
   "cell_type": "code",
   "execution_count": 67,
   "metadata": {},
   "outputs": [],
   "source": [
    "assert ukb_clinvar_z2.size == clinvar_unstacked.shape[0]"
   ]
  },
  {
   "cell_type": "code",
   "execution_count": 68,
   "metadata": {},
   "outputs": [],
   "source": [
    "clinvar_unstacked.index.rename(['ukb_trait', 'clinvar_trait'], inplace=True)"
   ]
  },
  {
   "cell_type": "code",
   "execution_count": 69,
   "metadata": {},
   "outputs": [],
   "source": [
    "clinvar_unstacked = clinvar_unstacked.assign(sqrt_z2_avg=np.sqrt(clinvar_unstacked['z2_avg']))"
   ]
  },
  {
   "cell_type": "code",
   "execution_count": 70,
   "metadata": {},
   "outputs": [],
   "source": [
    "assert clinvar_unstacked.index.is_unique"
   ]
  },
  {
   "cell_type": "code",
   "execution_count": 71,
   "metadata": {},
   "outputs": [
    {
     "data": {
      "text/plain": [
       "(20888646, 2)"
      ]
     },
     "execution_count": 71,
     "metadata": {},
     "output_type": "execute_result"
    }
   ],
   "source": [
    "clinvar_unstacked.shape"
   ]
  },
  {
   "cell_type": "code",
   "execution_count": 72,
   "metadata": {},
   "outputs": [
    {
     "data": {
      "text/html": [
       "<div>\n",
       "<style scoped>\n",
       "    .dataframe tbody tr th:only-of-type {\n",
       "        vertical-align: middle;\n",
       "    }\n",
       "\n",
       "    .dataframe tbody tr th {\n",
       "        vertical-align: top;\n",
       "    }\n",
       "\n",
       "    .dataframe thead th {\n",
       "        text-align: right;\n",
       "    }\n",
       "</style>\n",
       "<table border=\"1\" class=\"dataframe\">\n",
       "  <thead>\n",
       "    <tr style=\"text-align: right;\">\n",
       "      <th></th>\n",
       "      <th></th>\n",
       "      <th>z2_avg</th>\n",
       "      <th>sqrt_z2_avg</th>\n",
       "    </tr>\n",
       "    <tr>\n",
       "      <th>ukb_trait</th>\n",
       "      <th>clinvar_trait</th>\n",
       "      <th></th>\n",
       "      <th></th>\n",
       "    </tr>\n",
       "  </thead>\n",
       "  <tbody>\n",
       "    <tr>\n",
       "      <th rowspan=\"5\" valign=\"top\">Volume level set by participant (left)</th>\n",
       "      <th>Alzheimer's disease</th>\n",
       "      <td>0.512739</td>\n",
       "      <td>0.716058</td>\n",
       "    </tr>\n",
       "    <tr>\n",
       "      <th>Alpha-2-macroglobulin deficiency</th>\n",
       "      <td>0.342467</td>\n",
       "      <td>0.585207</td>\n",
       "    </tr>\n",
       "    <tr>\n",
       "      <th>Otitis media, susceptibility to</th>\n",
       "      <td>1.070237</td>\n",
       "      <td>1.034523</td>\n",
       "    </tr>\n",
       "    <tr>\n",
       "      <th>p phenotype</th>\n",
       "      <td>1.800286</td>\n",
       "      <td>1.341748</td>\n",
       "    </tr>\n",
       "    <tr>\n",
       "      <th>Glucocorticoid deficiency with achalasia</th>\n",
       "      <td>1.631911</td>\n",
       "      <td>1.277463</td>\n",
       "    </tr>\n",
       "  </tbody>\n",
       "</table>\n",
       "</div>"
      ],
      "text/plain": [
       "                                                                                   z2_avg  \\\n",
       "ukb_trait                              clinvar_trait                                        \n",
       "Volume level set by participant (left) Alzheimer's disease                       0.512739   \n",
       "                                       Alpha-2-macroglobulin deficiency          0.342467   \n",
       "                                       Otitis media, susceptibility to           1.070237   \n",
       "                                       p phenotype                               1.800286   \n",
       "                                       Glucocorticoid deficiency with achalasia  1.631911   \n",
       "\n",
       "                                                                                 sqrt_z2_avg  \n",
       "ukb_trait                              clinvar_trait                                          \n",
       "Volume level set by participant (left) Alzheimer's disease                          0.716058  \n",
       "                                       Alpha-2-macroglobulin deficiency             0.585207  \n",
       "                                       Otitis media, susceptibility to              1.034523  \n",
       "                                       p phenotype                                  1.341748  \n",
       "                                       Glucocorticoid deficiency with achalasia     1.277463  "
      ]
     },
     "execution_count": 72,
     "metadata": {},
     "output_type": "execute_result"
    }
   ],
   "source": [
    "clinvar_unstacked.head()"
   ]
  },
  {
   "cell_type": "markdown",
   "metadata": {},
   "source": [
    "### Complete version"
   ]
  },
  {
   "cell_type": "code",
   "execution_count": 73,
   "metadata": {},
   "outputs": [],
   "source": [
    "clinvar_unstacked_complete = pd.merge(clinvar_unstacked.reset_index(), clinvar_genes_grp, on='clinvar_trait', how='inner')"
   ]
  },
  {
   "cell_type": "code",
   "execution_count": 74,
   "metadata": {},
   "outputs": [],
   "source": [
    "assert clinvar_unstacked_complete.shape[0] == clinvar_unstacked.shape[0]"
   ]
  },
  {
   "cell_type": "code",
   "execution_count": 75,
   "metadata": {},
   "outputs": [
    {
     "data": {
      "text/plain": [
       "(20888646, 6)"
      ]
     },
     "execution_count": 75,
     "metadata": {},
     "output_type": "execute_result"
    }
   ],
   "source": [
    "clinvar_unstacked_complete.shape"
   ]
  },
  {
   "cell_type": "code",
   "execution_count": 76,
   "metadata": {},
   "outputs": [
    {
     "data": {
      "text/html": [
       "<div>\n",
       "<style scoped>\n",
       "    .dataframe tbody tr th:only-of-type {\n",
       "        vertical-align: middle;\n",
       "    }\n",
       "\n",
       "    .dataframe tbody tr th {\n",
       "        vertical-align: top;\n",
       "    }\n",
       "\n",
       "    .dataframe thead th {\n",
       "        text-align: right;\n",
       "    }\n",
       "</style>\n",
       "<table border=\"1\" class=\"dataframe\">\n",
       "  <thead>\n",
       "    <tr style=\"text-align: right;\">\n",
       "      <th></th>\n",
       "      <th>ukb_trait</th>\n",
       "      <th>clinvar_trait</th>\n",
       "      <th>z2_avg</th>\n",
       "      <th>sqrt_z2_avg</th>\n",
       "      <th>gene_ids</th>\n",
       "      <th>gene_names</th>\n",
       "    </tr>\n",
       "  </thead>\n",
       "  <tbody>\n",
       "    <tr>\n",
       "      <th>0</th>\n",
       "      <td>Volume level set by participant (left)</td>\n",
       "      <td>Alzheimer's disease</td>\n",
       "      <td>0.512739</td>\n",
       "      <td>0.716058</td>\n",
       "      <td>ENSG00000175899.14, ENSG00000142192.20, ENSG00...</td>\n",
       "      <td>A2M (12p13.31), APP (21q21.3), HFE (6p22.2), M...</td>\n",
       "    </tr>\n",
       "    <tr>\n",
       "      <th>1</th>\n",
       "      <td>Diagnoses - main ICD10: S05 Injury of eye and ...</td>\n",
       "      <td>Alzheimer's disease</td>\n",
       "      <td>0.217049</td>\n",
       "      <td>0.465886</td>\n",
       "      <td>ENSG00000175899.14, ENSG00000142192.20, ENSG00...</td>\n",
       "      <td>A2M (12p13.31), APP (21q21.3), HFE (6p22.2), M...</td>\n",
       "    </tr>\n",
       "    <tr>\n",
       "      <th>2</th>\n",
       "      <td>Treatment/medication code: prednisolone produc...</td>\n",
       "      <td>Alzheimer's disease</td>\n",
       "      <td>0.343953</td>\n",
       "      <td>0.586475</td>\n",
       "      <td>ENSG00000175899.14, ENSG00000142192.20, ENSG00...</td>\n",
       "      <td>A2M (12p13.31), APP (21q21.3), HFE (6p22.2), M...</td>\n",
       "    </tr>\n",
       "    <tr>\n",
       "      <th>3</th>\n",
       "      <td>Non-cancer illness code, self-reported: polycy...</td>\n",
       "      <td>Alzheimer's disease</td>\n",
       "      <td>0.444715</td>\n",
       "      <td>0.666869</td>\n",
       "      <td>ENSG00000175899.14, ENSG00000142192.20, ENSG00...</td>\n",
       "      <td>A2M (12p13.31), APP (21q21.3), HFE (6p22.2), M...</td>\n",
       "    </tr>\n",
       "    <tr>\n",
       "      <th>4</th>\n",
       "      <td>Invitation to complete online 24-hour recall d...</td>\n",
       "      <td>Alzheimer's disease</td>\n",
       "      <td>1.229807</td>\n",
       "      <td>1.108967</td>\n",
       "      <td>ENSG00000175899.14, ENSG00000142192.20, ENSG00...</td>\n",
       "      <td>A2M (12p13.31), APP (21q21.3), HFE (6p22.2), M...</td>\n",
       "    </tr>\n",
       "  </tbody>\n",
       "</table>\n",
       "</div>"
      ],
      "text/plain": [
       "                                           ukb_trait        clinvar_trait  \\\n",
       "0             Volume level set by participant (left)  Alzheimer's disease   \n",
       "1  Diagnoses - main ICD10: S05 Injury of eye and ...  Alzheimer's disease   \n",
       "2  Treatment/medication code: prednisolone produc...  Alzheimer's disease   \n",
       "3  Non-cancer illness code, self-reported: polycy...  Alzheimer's disease   \n",
       "4  Invitation to complete online 24-hour recall d...  Alzheimer's disease   \n",
       "\n",
       "     z2_avg  sqrt_z2_avg                                           gene_ids  \\\n",
       "0  0.512739     0.716058  ENSG00000175899.14, ENSG00000142192.20, ENSG00...   \n",
       "1  0.217049     0.465886  ENSG00000175899.14, ENSG00000142192.20, ENSG00...   \n",
       "2  0.343953     0.586475  ENSG00000175899.14, ENSG00000142192.20, ENSG00...   \n",
       "3  0.444715     0.666869  ENSG00000175899.14, ENSG00000142192.20, ENSG00...   \n",
       "4  1.229807     1.108967  ENSG00000175899.14, ENSG00000142192.20, ENSG00...   \n",
       "\n",
       "                                          gene_names  \n",
       "0  A2M (12p13.31), APP (21q21.3), HFE (6p22.2), M...  \n",
       "1  A2M (12p13.31), APP (21q21.3), HFE (6p22.2), M...  \n",
       "2  A2M (12p13.31), APP (21q21.3), HFE (6p22.2), M...  \n",
       "3  A2M (12p13.31), APP (21q21.3), HFE (6p22.2), M...  \n",
       "4  A2M (12p13.31), APP (21q21.3), HFE (6p22.2), M...  "
      ]
     },
     "execution_count": 76,
     "metadata": {},
     "output_type": "execute_result"
    }
   ],
   "source": [
    "clinvar_unstacked_complete.head()"
   ]
  },
  {
   "cell_type": "code",
   "execution_count": 77,
   "metadata": {},
   "outputs": [],
   "source": [
    "clinvar_unstacked_complete = clinvar_unstacked_complete.set_index(['ukb_trait', 'clinvar_trait'])"
   ]
  },
  {
   "cell_type": "code",
   "execution_count": 78,
   "metadata": {},
   "outputs": [],
   "source": [
    "assert clinvar_unstacked_complete.index.is_unique"
   ]
  },
  {
   "cell_type": "code",
   "execution_count": 79,
   "metadata": {},
   "outputs": [
    {
     "data": {
      "text/plain": [
       "(20888646, 4)"
      ]
     },
     "execution_count": 79,
     "metadata": {},
     "output_type": "execute_result"
    }
   ],
   "source": [
    "clinvar_unstacked_complete.shape"
   ]
  },
  {
   "cell_type": "code",
   "execution_count": 80,
   "metadata": {},
   "outputs": [
    {
     "data": {
      "text/html": [
       "<div>\n",
       "<style scoped>\n",
       "    .dataframe tbody tr th:only-of-type {\n",
       "        vertical-align: middle;\n",
       "    }\n",
       "\n",
       "    .dataframe tbody tr th {\n",
       "        vertical-align: top;\n",
       "    }\n",
       "\n",
       "    .dataframe thead th {\n",
       "        text-align: right;\n",
       "    }\n",
       "</style>\n",
       "<table border=\"1\" class=\"dataframe\">\n",
       "  <thead>\n",
       "    <tr style=\"text-align: right;\">\n",
       "      <th></th>\n",
       "      <th></th>\n",
       "      <th>z2_avg</th>\n",
       "      <th>sqrt_z2_avg</th>\n",
       "      <th>gene_ids</th>\n",
       "      <th>gene_names</th>\n",
       "    </tr>\n",
       "    <tr>\n",
       "      <th>ukb_trait</th>\n",
       "      <th>clinvar_trait</th>\n",
       "      <th></th>\n",
       "      <th></th>\n",
       "      <th></th>\n",
       "      <th></th>\n",
       "    </tr>\n",
       "  </thead>\n",
       "  <tbody>\n",
       "    <tr>\n",
       "      <th>Volume level set by participant (left)</th>\n",
       "      <th>Alzheimer's disease</th>\n",
       "      <td>0.512739</td>\n",
       "      <td>0.716058</td>\n",
       "      <td>ENSG00000175899.14, ENSG00000142192.20, ENSG00...</td>\n",
       "      <td>A2M (12p13.31), APP (21q21.3), HFE (6p22.2), M...</td>\n",
       "    </tr>\n",
       "    <tr>\n",
       "      <th>Diagnoses - main ICD10: S05 Injury of eye and orbit</th>\n",
       "      <th>Alzheimer's disease</th>\n",
       "      <td>0.217049</td>\n",
       "      <td>0.465886</td>\n",
       "      <td>ENSG00000175899.14, ENSG00000142192.20, ENSG00...</td>\n",
       "      <td>A2M (12p13.31), APP (21q21.3), HFE (6p22.2), M...</td>\n",
       "    </tr>\n",
       "    <tr>\n",
       "      <th>Treatment/medication code: prednisolone product (20003_1141157402)</th>\n",
       "      <th>Alzheimer's disease</th>\n",
       "      <td>0.343953</td>\n",
       "      <td>0.586475</td>\n",
       "      <td>ENSG00000175899.14, ENSG00000142192.20, ENSG00...</td>\n",
       "      <td>A2M (12p13.31), APP (21q21.3), HFE (6p22.2), M...</td>\n",
       "    </tr>\n",
       "    <tr>\n",
       "      <th>Non-cancer illness code, self-reported: polycystic kidney</th>\n",
       "      <th>Alzheimer's disease</th>\n",
       "      <td>0.444715</td>\n",
       "      <td>0.666869</td>\n",
       "      <td>ENSG00000175899.14, ENSG00000142192.20, ENSG00...</td>\n",
       "      <td>A2M (12p13.31), APP (21q21.3), HFE (6p22.2), M...</td>\n",
       "    </tr>\n",
       "    <tr>\n",
       "      <th>Invitation to complete online 24-hour recall dietary questionnaire, acceptance</th>\n",
       "      <th>Alzheimer's disease</th>\n",
       "      <td>1.229807</td>\n",
       "      <td>1.108967</td>\n",
       "      <td>ENSG00000175899.14, ENSG00000142192.20, ENSG00...</td>\n",
       "      <td>A2M (12p13.31), APP (21q21.3), HFE (6p22.2), M...</td>\n",
       "    </tr>\n",
       "  </tbody>\n",
       "</table>\n",
       "</div>"
      ],
      "text/plain": [
       "                                                                          z2_avg  \\\n",
       "ukb_trait                                          clinvar_trait                   \n",
       "Volume level set by participant (left)             Alzheimer's disease  0.512739   \n",
       "Diagnoses - main ICD10: S05 Injury of eye and o... Alzheimer's disease  0.217049   \n",
       "Treatment/medication code: prednisolone product... Alzheimer's disease  0.343953   \n",
       "Non-cancer illness code, self-reported: polycys... Alzheimer's disease  0.444715   \n",
       "Invitation to complete online 24-hour recall di... Alzheimer's disease  1.229807   \n",
       "\n",
       "                                                                        sqrt_z2_avg  \\\n",
       "ukb_trait                                          clinvar_trait                      \n",
       "Volume level set by participant (left)             Alzheimer's disease     0.716058   \n",
       "Diagnoses - main ICD10: S05 Injury of eye and o... Alzheimer's disease     0.465886   \n",
       "Treatment/medication code: prednisolone product... Alzheimer's disease     0.586475   \n",
       "Non-cancer illness code, self-reported: polycys... Alzheimer's disease     0.666869   \n",
       "Invitation to complete online 24-hour recall di... Alzheimer's disease     1.108967   \n",
       "\n",
       "                                                                                                                 gene_ids  \\\n",
       "ukb_trait                                          clinvar_trait                                                            \n",
       "Volume level set by participant (left)             Alzheimer's disease  ENSG00000175899.14, ENSG00000142192.20, ENSG00...   \n",
       "Diagnoses - main ICD10: S05 Injury of eye and o... Alzheimer's disease  ENSG00000175899.14, ENSG00000142192.20, ENSG00...   \n",
       "Treatment/medication code: prednisolone product... Alzheimer's disease  ENSG00000175899.14, ENSG00000142192.20, ENSG00...   \n",
       "Non-cancer illness code, self-reported: polycys... Alzheimer's disease  ENSG00000175899.14, ENSG00000142192.20, ENSG00...   \n",
       "Invitation to complete online 24-hour recall di... Alzheimer's disease  ENSG00000175899.14, ENSG00000142192.20, ENSG00...   \n",
       "\n",
       "                                                                                                               gene_names  \n",
       "ukb_trait                                          clinvar_trait                                                           \n",
       "Volume level set by participant (left)             Alzheimer's disease  A2M (12p13.31), APP (21q21.3), HFE (6p22.2), M...  \n",
       "Diagnoses - main ICD10: S05 Injury of eye and o... Alzheimer's disease  A2M (12p13.31), APP (21q21.3), HFE (6p22.2), M...  \n",
       "Treatment/medication code: prednisolone product... Alzheimer's disease  A2M (12p13.31), APP (21q21.3), HFE (6p22.2), M...  \n",
       "Non-cancer illness code, self-reported: polycys... Alzheimer's disease  A2M (12p13.31), APP (21q21.3), HFE (6p22.2), M...  \n",
       "Invitation to complete online 24-hour recall di... Alzheimer's disease  A2M (12p13.31), APP (21q21.3), HFE (6p22.2), M...  "
      ]
     },
     "execution_count": 80,
     "metadata": {},
     "output_type": "execute_result"
    }
   ],
   "source": [
    "clinvar_unstacked_complete.head()"
   ]
  },
  {
   "cell_type": "code",
   "execution_count": 81,
   "metadata": {},
   "outputs": [],
   "source": [
    "clinvar_unstacked_complete = clinvar_unstacked_complete.sort_index()"
   ]
  },
  {
   "cell_type": "code",
   "execution_count": 82,
   "metadata": {},
   "outputs": [],
   "source": [
    "assert clinvar_unstacked_complete.index.is_lexsorted()"
   ]
  },
  {
   "cell_type": "code",
   "execution_count": 83,
   "metadata": {},
   "outputs": [
    {
     "data": {
      "text/html": [
       "<div>\n",
       "<style scoped>\n",
       "    .dataframe tbody tr th:only-of-type {\n",
       "        vertical-align: middle;\n",
       "    }\n",
       "\n",
       "    .dataframe tbody tr th {\n",
       "        vertical-align: top;\n",
       "    }\n",
       "\n",
       "    .dataframe thead th {\n",
       "        text-align: right;\n",
       "    }\n",
       "</style>\n",
       "<table border=\"1\" class=\"dataframe\">\n",
       "  <thead>\n",
       "    <tr style=\"text-align: right;\">\n",
       "      <th></th>\n",
       "      <th></th>\n",
       "      <th>z2_avg</th>\n",
       "      <th>sqrt_z2_avg</th>\n",
       "      <th>gene_ids</th>\n",
       "      <th>gene_names</th>\n",
       "    </tr>\n",
       "    <tr>\n",
       "      <th>ukb_trait</th>\n",
       "      <th>clinvar_trait</th>\n",
       "      <th></th>\n",
       "      <th></th>\n",
       "      <th></th>\n",
       "      <th></th>\n",
       "    </tr>\n",
       "  </thead>\n",
       "  <tbody>\n",
       "    <tr>\n",
       "      <th rowspan=\"5\" valign=\"top\">#Arthrosis</th>\n",
       "      <th>15q13.3 microdeletion syndrome</th>\n",
       "      <td>0.041067</td>\n",
       "      <td>0.202650</td>\n",
       "      <td>ENSG00000175344.17, ENSG00000169926.10</td>\n",
       "      <td>CHRNA7 (15q13.3), KLF13 (15q13.3)</td>\n",
       "    </tr>\n",
       "    <tr>\n",
       "      <th>1q21.1 recurrent microdeletion</th>\n",
       "      <td>0.290045</td>\n",
       "      <td>0.538558</td>\n",
       "      <td>ENSG00000265107.2, ENSG00000121634.5</td>\n",
       "      <td>GJA5 (1q21.2), GJA8 (1q21.2)</td>\n",
       "    </tr>\n",
       "    <tr>\n",
       "      <th>2,4-Dienoyl-CoA reductase deficiency</th>\n",
       "      <td>2.176716</td>\n",
       "      <td>1.475370</td>\n",
       "      <td>ENSG00000152620.12</td>\n",
       "      <td>NADK2 (5p13.2)</td>\n",
       "    </tr>\n",
       "    <tr>\n",
       "      <th>2-aminoadipic 2-oxoadipic aciduria</th>\n",
       "      <td>3.551778</td>\n",
       "      <td>1.884616</td>\n",
       "      <td>ENSG00000181192.11</td>\n",
       "      <td>DHTKD1 (10p14)</td>\n",
       "    </tr>\n",
       "    <tr>\n",
       "      <th>22q13.3 deletion syndrome</th>\n",
       "      <td>0.072909</td>\n",
       "      <td>0.270016</td>\n",
       "      <td>ENSG00000251322.7</td>\n",
       "      <td>SHANK3 (22q13.33)</td>\n",
       "    </tr>\n",
       "  </tbody>\n",
       "</table>\n",
       "</div>"
      ],
      "text/plain": [
       "                                                   z2_avg  sqrt_z2_avg  \\\n",
       "ukb_trait  clinvar_trait                                                 \n",
       "#Arthrosis 15q13.3 microdeletion syndrome        0.041067     0.202650   \n",
       "           1q21.1 recurrent microdeletion        0.290045     0.538558   \n",
       "           2,4-Dienoyl-CoA reductase deficiency  2.176716     1.475370   \n",
       "           2-aminoadipic 2-oxoadipic aciduria    3.551778     1.884616   \n",
       "           22q13.3 deletion syndrome             0.072909     0.270016   \n",
       "\n",
       "                                                                               gene_ids  \\\n",
       "ukb_trait  clinvar_trait                                                                  \n",
       "#Arthrosis 15q13.3 microdeletion syndrome        ENSG00000175344.17, ENSG00000169926.10   \n",
       "           1q21.1 recurrent microdeletion          ENSG00000265107.2, ENSG00000121634.5   \n",
       "           2,4-Dienoyl-CoA reductase deficiency                      ENSG00000152620.12   \n",
       "           2-aminoadipic 2-oxoadipic aciduria                        ENSG00000181192.11   \n",
       "           22q13.3 deletion syndrome                                  ENSG00000251322.7   \n",
       "\n",
       "                                                                        gene_names  \n",
       "ukb_trait  clinvar_trait                                                            \n",
       "#Arthrosis 15q13.3 microdeletion syndrome        CHRNA7 (15q13.3), KLF13 (15q13.3)  \n",
       "           1q21.1 recurrent microdeletion             GJA5 (1q21.2), GJA8 (1q21.2)  \n",
       "           2,4-Dienoyl-CoA reductase deficiency                     NADK2 (5p13.2)  \n",
       "           2-aminoadipic 2-oxoadipic aciduria                       DHTKD1 (10p14)  \n",
       "           22q13.3 deletion syndrome                             SHANK3 (22q13.33)  "
      ]
     },
     "execution_count": 83,
     "metadata": {},
     "output_type": "execute_result"
    }
   ],
   "source": [
    "clinvar_unstacked_complete.head()"
   ]
  },
  {
   "cell_type": "markdown",
   "metadata": {},
   "source": [
    "# Some testing"
   ]
  },
  {
   "cell_type": "code",
   "execution_count": 84,
   "metadata": {},
   "outputs": [
    {
     "data": {
      "text/plain": [
       "z2_avg                  0.0809037\n",
       "sqrt_z2_avg              0.284436\n",
       "gene_ids       ENSG00000103591.12\n",
       "gene_names          AAGAB (15q23)\n",
       "Name: (Depression possibly related to childbirth, Keratosis palmoplantaris papulosa), dtype: object"
      ]
     },
     "execution_count": 84,
     "metadata": {},
     "output_type": "execute_result"
    }
   ],
   "source": [
    "clinvar_unstacked_complete.loc['Depression possibly related to childbirth', \"Keratosis palmoplantaris papulosa\"]"
   ]
  },
  {
   "cell_type": "code",
   "execution_count": 85,
   "metadata": {},
   "outputs": [],
   "source": [
    "assert clinvar_unstacked_complete.loc['Other epidermal thickening', \"Alzheimer's disease\"]['z2_avg'] == 1.3472206237157518"
   ]
  },
  {
   "cell_type": "code",
   "execution_count": 86,
   "metadata": {},
   "outputs": [],
   "source": [
    "assert clinvar_unstacked_complete.loc['Other epidermal thickening', \"Alzheimer's disease\"]['sqrt_z2_avg'] == np.sqrt(1.3472206237157518)"
   ]
  },
  {
   "cell_type": "code",
   "execution_count": 87,
   "metadata": {},
   "outputs": [],
   "source": [
    "assert clinvar_unstacked_complete.loc['Depression possibly related to childbirth', \"Keratosis palmoplantaris papulosa\"]['z2_avg'] == 0.08090372843310314"
   ]
  },
  {
   "cell_type": "code",
   "execution_count": 88,
   "metadata": {},
   "outputs": [
    {
     "data": {
      "text/html": [
       "<div>\n",
       "<style scoped>\n",
       "    .dataframe tbody tr th:only-of-type {\n",
       "        vertical-align: middle;\n",
       "    }\n",
       "\n",
       "    .dataframe tbody tr th {\n",
       "        vertical-align: top;\n",
       "    }\n",
       "\n",
       "    .dataframe thead th {\n",
       "        text-align: right;\n",
       "    }\n",
       "</style>\n",
       "<table border=\"1\" class=\"dataframe\">\n",
       "  <thead>\n",
       "    <tr style=\"text-align: right;\">\n",
       "      <th></th>\n",
       "      <th></th>\n",
       "      <th>z2_avg</th>\n",
       "      <th>sqrt_z2_avg</th>\n",
       "      <th>gene_ids</th>\n",
       "      <th>gene_names</th>\n",
       "    </tr>\n",
       "    <tr>\n",
       "      <th>ukb_trait</th>\n",
       "      <th>clinvar_trait</th>\n",
       "      <th></th>\n",
       "      <th></th>\n",
       "      <th></th>\n",
       "      <th></th>\n",
       "    </tr>\n",
       "  </thead>\n",
       "  <tbody>\n",
       "    <tr>\n",
       "      <th rowspan=\"5\" valign=\"top\">#Other joint disorders</th>\n",
       "      <th>Acromesomelic dysplasia Hunter Thompson type</th>\n",
       "      <td>75.073496</td>\n",
       "      <td>8.664496</td>\n",
       "      <td>ENSG00000125965.8</td>\n",
       "      <td>GDF5 (20q11.22)</td>\n",
       "    </tr>\n",
       "    <tr>\n",
       "      <th>Brachydactyly, type a1, c</th>\n",
       "      <td>75.073496</td>\n",
       "      <td>8.664496</td>\n",
       "      <td>ENSG00000125965.8</td>\n",
       "      <td>GDF5 (20q11.22)</td>\n",
       "    </tr>\n",
       "    <tr>\n",
       "      <th>Fibular hypoplasia and complex brachydactyly</th>\n",
       "      <td>75.073496</td>\n",
       "      <td>8.664496</td>\n",
       "      <td>ENSG00000125965.8</td>\n",
       "      <td>GDF5 (20q11.22)</td>\n",
       "    </tr>\n",
       "    <tr>\n",
       "      <th>Grebe syndrome</th>\n",
       "      <td>75.073496</td>\n",
       "      <td>8.664496</td>\n",
       "      <td>ENSG00000125965.8</td>\n",
       "      <td>GDF5 (20q11.22)</td>\n",
       "    </tr>\n",
       "    <tr>\n",
       "      <th>Multiple synostoses syndrome 2</th>\n",
       "      <td>75.073496</td>\n",
       "      <td>8.664496</td>\n",
       "      <td>ENSG00000125965.8</td>\n",
       "      <td>GDF5 (20q11.22)</td>\n",
       "    </tr>\n",
       "  </tbody>\n",
       "</table>\n",
       "</div>"
      ],
      "text/plain": [
       "                                                                        z2_avg  \\\n",
       "ukb_trait              clinvar_trait                                             \n",
       "#Other joint disorders Acromesomelic dysplasia Hunter Thompson type  75.073496   \n",
       "                       Brachydactyly, type a1, c                     75.073496   \n",
       "                       Fibular hypoplasia and complex brachydactyly  75.073496   \n",
       "                       Grebe syndrome                                75.073496   \n",
       "                       Multiple synostoses syndrome 2                75.073496   \n",
       "\n",
       "                                                                     sqrt_z2_avg  \\\n",
       "ukb_trait              clinvar_trait                                               \n",
       "#Other joint disorders Acromesomelic dysplasia Hunter Thompson type     8.664496   \n",
       "                       Brachydactyly, type a1, c                        8.664496   \n",
       "                       Fibular hypoplasia and complex brachydactyly     8.664496   \n",
       "                       Grebe syndrome                                   8.664496   \n",
       "                       Multiple synostoses syndrome 2                   8.664496   \n",
       "\n",
       "                                                                              gene_ids  \\\n",
       "ukb_trait              clinvar_trait                                                     \n",
       "#Other joint disorders Acromesomelic dysplasia Hunter Thompson type  ENSG00000125965.8   \n",
       "                       Brachydactyly, type a1, c                     ENSG00000125965.8   \n",
       "                       Fibular hypoplasia and complex brachydactyly  ENSG00000125965.8   \n",
       "                       Grebe syndrome                                ENSG00000125965.8   \n",
       "                       Multiple synostoses syndrome 2                ENSG00000125965.8   \n",
       "\n",
       "                                                                          gene_names  \n",
       "ukb_trait              clinvar_trait                                                  \n",
       "#Other joint disorders Acromesomelic dysplasia Hunter Thompson type  GDF5 (20q11.22)  \n",
       "                       Brachydactyly, type a1, c                     GDF5 (20q11.22)  \n",
       "                       Fibular hypoplasia and complex brachydactyly  GDF5 (20q11.22)  \n",
       "                       Grebe syndrome                                GDF5 (20q11.22)  \n",
       "                       Multiple synostoses syndrome 2                GDF5 (20q11.22)  "
      ]
     },
     "execution_count": 88,
     "metadata": {},
     "output_type": "execute_result"
    }
   ],
   "source": [
    "clinvar_unstacked_complete[clinvar_unstacked_complete['z2_avg'] > 35].head()"
   ]
  },
  {
   "cell_type": "markdown",
   "metadata": {},
   "source": [
    "### Select columns"
   ]
  },
  {
   "cell_type": "code",
   "execution_count": 89,
   "metadata": {},
   "outputs": [],
   "source": [
    "clinvar_unstacked_complete = clinvar_unstacked_complete.drop(columns=['z2_avg', 'gene_ids'])"
   ]
  },
  {
   "cell_type": "code",
   "execution_count": 90,
   "metadata": {},
   "outputs": [
    {
     "data": {
      "text/plain": [
       "(20888646, 2)"
      ]
     },
     "execution_count": 90,
     "metadata": {},
     "output_type": "execute_result"
    }
   ],
   "source": [
    "clinvar_unstacked_complete.shape"
   ]
  },
  {
   "cell_type": "code",
   "execution_count": 91,
   "metadata": {},
   "outputs": [
    {
     "data": {
      "text/html": [
       "<div>\n",
       "<style scoped>\n",
       "    .dataframe tbody tr th:only-of-type {\n",
       "        vertical-align: middle;\n",
       "    }\n",
       "\n",
       "    .dataframe tbody tr th {\n",
       "        vertical-align: top;\n",
       "    }\n",
       "\n",
       "    .dataframe thead th {\n",
       "        text-align: right;\n",
       "    }\n",
       "</style>\n",
       "<table border=\"1\" class=\"dataframe\">\n",
       "  <thead>\n",
       "    <tr style=\"text-align: right;\">\n",
       "      <th></th>\n",
       "      <th></th>\n",
       "      <th>sqrt_z2_avg</th>\n",
       "      <th>gene_names</th>\n",
       "    </tr>\n",
       "    <tr>\n",
       "      <th>ukb_trait</th>\n",
       "      <th>clinvar_trait</th>\n",
       "      <th></th>\n",
       "      <th></th>\n",
       "    </tr>\n",
       "  </thead>\n",
       "  <tbody>\n",
       "    <tr>\n",
       "      <th rowspan=\"5\" valign=\"top\">#Arthrosis</th>\n",
       "      <th>15q13.3 microdeletion syndrome</th>\n",
       "      <td>0.202650</td>\n",
       "      <td>CHRNA7 (15q13.3), KLF13 (15q13.3)</td>\n",
       "    </tr>\n",
       "    <tr>\n",
       "      <th>1q21.1 recurrent microdeletion</th>\n",
       "      <td>0.538558</td>\n",
       "      <td>GJA5 (1q21.2), GJA8 (1q21.2)</td>\n",
       "    </tr>\n",
       "    <tr>\n",
       "      <th>2,4-Dienoyl-CoA reductase deficiency</th>\n",
       "      <td>1.475370</td>\n",
       "      <td>NADK2 (5p13.2)</td>\n",
       "    </tr>\n",
       "    <tr>\n",
       "      <th>2-aminoadipic 2-oxoadipic aciduria</th>\n",
       "      <td>1.884616</td>\n",
       "      <td>DHTKD1 (10p14)</td>\n",
       "    </tr>\n",
       "    <tr>\n",
       "      <th>22q13.3 deletion syndrome</th>\n",
       "      <td>0.270016</td>\n",
       "      <td>SHANK3 (22q13.33)</td>\n",
       "    </tr>\n",
       "  </tbody>\n",
       "</table>\n",
       "</div>"
      ],
      "text/plain": [
       "                                                 sqrt_z2_avg  \\\n",
       "ukb_trait  clinvar_trait                                       \n",
       "#Arthrosis 15q13.3 microdeletion syndrome           0.202650   \n",
       "           1q21.1 recurrent microdeletion           0.538558   \n",
       "           2,4-Dienoyl-CoA reductase deficiency     1.475370   \n",
       "           2-aminoadipic 2-oxoadipic aciduria       1.884616   \n",
       "           22q13.3 deletion syndrome                0.270016   \n",
       "\n",
       "                                                                        gene_names  \n",
       "ukb_trait  clinvar_trait                                                            \n",
       "#Arthrosis 15q13.3 microdeletion syndrome        CHRNA7 (15q13.3), KLF13 (15q13.3)  \n",
       "           1q21.1 recurrent microdeletion             GJA5 (1q21.2), GJA8 (1q21.2)  \n",
       "           2,4-Dienoyl-CoA reductase deficiency                     NADK2 (5p13.2)  \n",
       "           2-aminoadipic 2-oxoadipic aciduria                       DHTKD1 (10p14)  \n",
       "           22q13.3 deletion syndrome                             SHANK3 (22q13.33)  "
      ]
     },
     "execution_count": 91,
     "metadata": {},
     "output_type": "execute_result"
    }
   ],
   "source": [
    "clinvar_unstacked_complete.head()"
   ]
  },
  {
   "cell_type": "markdown",
   "metadata": {},
   "source": [
    "### Some stats"
   ]
  },
  {
   "cell_type": "code",
   "execution_count": 92,
   "metadata": {},
   "outputs": [
    {
     "data": {
      "text/plain": [
       "223"
      ]
     },
     "execution_count": 92,
     "metadata": {},
     "output_type": "execute_result"
    }
   ],
   "source": [
    "pd.Series(clinvar_unstacked_complete.index.get_level_values('ukb_trait')).apply(len).max()"
   ]
  },
  {
   "cell_type": "code",
   "execution_count": 93,
   "metadata": {},
   "outputs": [
    {
     "data": {
      "text/plain": [
       "145"
      ]
     },
     "execution_count": 93,
     "metadata": {},
     "output_type": "execute_result"
    }
   ],
   "source": [
    "pd.Series(clinvar_unstacked_complete.index.get_level_values('clinvar_trait')).apply(len).max()"
   ]
  },
  {
   "cell_type": "code",
   "execution_count": 94,
   "metadata": {},
   "outputs": [
    {
     "data": {
      "text/plain": [
       "448"
      ]
     },
     "execution_count": 94,
     "metadata": {},
     "output_type": "execute_result"
    }
   ],
   "source": [
    "clinvar_unstacked_complete['gene_names'].apply(len).max()"
   ]
  },
  {
   "cell_type": "markdown",
   "metadata": {},
   "source": [
    "#### Save"
   ]
  },
  {
   "cell_type": "code",
   "execution_count": 95,
   "metadata": {},
   "outputs": [
    {
     "data": {
      "text/plain": [
       "'/mnt/phenomexcan_base/gene_assoc/ukb_clinvar.tsv'"
      ]
     },
     "metadata": {},
     "output_type": "display_data"
    }
   ],
   "source": [
    "clinvar_unstacked_complete_filename = os.path.join(conf.GENE_ASSOC_DIR, 'ukb_clinvar.tsv')\n",
    "display(clinvar_unstacked_complete_filename)"
   ]
  },
  {
   "cell_type": "code",
   "execution_count": 96,
   "metadata": {},
   "outputs": [],
   "source": [
    "clinvar_unstacked_complete.to_csv(clinvar_unstacked_complete_filename, sep='\\t')"
   ]
  },
  {
   "cell_type": "code",
   "execution_count": null,
   "metadata": {},
   "outputs": [],
   "source": []
  }
 ],
 "metadata": {
  "kernelspec": {
   "display_name": "Python 3",
   "language": "python",
   "name": "python3"
  },
  "language_info": {
   "codemirror_mode": {
    "name": "ipython",
    "version": 3
   },
   "file_extension": ".py",
   "mimetype": "text/x-python",
   "name": "python",
   "nbconvert_exporter": "python",
   "pygments_lexer": "ipython3",
   "version": "3.7.5"
  }
 },
 "nbformat": 4,
 "nbformat_minor": 4
}
