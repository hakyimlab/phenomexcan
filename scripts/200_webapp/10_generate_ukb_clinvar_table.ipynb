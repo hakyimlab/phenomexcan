{
 "cells": [
  {
   "cell_type": "code",
   "execution_count": 1,
   "metadata": {
    "papermill": {
     "duration": 0.111927,
     "end_time": "2020-01-06T17:19:49.747744",
     "exception": false,
     "start_time": "2020-01-06T17:19:49.635817",
     "status": "completed"
    },
    "tags": []
   },
   "outputs": [],
   "source": [
    "%load_ext autoreload\n",
    "%autoreload 2"
   ]
  },
  {
   "cell_type": "code",
   "execution_count": 2,
   "metadata": {
    "papermill": {
     "duration": 1.517996,
     "end_time": "2020-01-06T17:19:51.363093",
     "exception": false,
     "start_time": "2020-01-06T17:19:49.845097",
     "status": "completed"
    },
    "tags": []
   },
   "outputs": [],
   "source": [
    "import os\n",
    "import pickle\n",
    "from glob import glob\n",
    "from concurrent.futures import ProcessPoolExecutor, as_completed\n",
    "\n",
    "import numpy as np\n",
    "import pandas as pd\n",
    "from scipy import stats\n",
    "\n",
    "import settings as conf\n",
    "import metadata\n",
    "from utils import is_number, chunker\n",
    "from results.multixcan import MXPhenoInfo, MXPhenoResults"
   ]
  },
  {
   "cell_type": "code",
   "execution_count": 3,
   "metadata": {
    "papermill": {
     "duration": 0.11345,
     "end_time": "2020-01-06T17:19:51.868718",
     "exception": false,
     "start_time": "2020-01-06T17:19:51.755268",
     "status": "completed"
    },
    "tags": []
   },
   "outputs": [],
   "source": [
    "os.makedirs(conf.WEBAPP_DIR, exist_ok=True)"
   ]
  },
  {
   "cell_type": "markdown",
   "metadata": {
    "papermill": {
     "duration": 0.162855,
     "end_time": "2020-01-06T17:19:52.318438",
     "exception": false,
     "start_time": "2020-01-06T17:19:52.155583",
     "status": "completed"
    },
    "tags": []
   },
   "source": [
    "# Gene mappings"
   ]
  },
  {
   "cell_type": "code",
   "execution_count": 4,
   "metadata": {
    "papermill": {
     "duration": 0.82939,
     "end_time": "2020-01-06T17:19:53.226201",
     "exception": false,
     "start_time": "2020-01-06T17:19:52.396811",
     "status": "completed"
    },
    "tags": []
   },
   "outputs": [
    {
     "data": {
      "text/html": [
       "<div>\n",
       "<style scoped>\n",
       "    .dataframe tbody tr th:only-of-type {\n",
       "        vertical-align: middle;\n",
       "    }\n",
       "\n",
       "    .dataframe tbody tr th {\n",
       "        vertical-align: top;\n",
       "    }\n",
       "\n",
       "    .dataframe thead th {\n",
       "        text-align: right;\n",
       "    }\n",
       "</style>\n",
       "<table border=\"1\" class=\"dataframe\">\n",
       "  <thead>\n",
       "    <tr style=\"text-align: right;\">\n",
       "      <th></th>\n",
       "      <th>gene</th>\n",
       "      <th>gene_name</th>\n",
       "      <th>gene_type</th>\n",
       "      <th>gene_id</th>\n",
       "      <th>band</th>\n",
       "    </tr>\n",
       "  </thead>\n",
       "  <tbody>\n",
       "    <tr>\n",
       "      <th>0</th>\n",
       "      <td>ENSG00000000457.13</td>\n",
       "      <td>SCYL3</td>\n",
       "      <td>protein_coding</td>\n",
       "      <td>ENSG00000000457</td>\n",
       "      <td>1q24.2</td>\n",
       "    </tr>\n",
       "    <tr>\n",
       "      <th>1</th>\n",
       "      <td>ENSG00000000460.16</td>\n",
       "      <td>C1orf112</td>\n",
       "      <td>protein_coding</td>\n",
       "      <td>ENSG00000000460</td>\n",
       "      <td>1q24.2</td>\n",
       "    </tr>\n",
       "    <tr>\n",
       "      <th>2</th>\n",
       "      <td>ENSG00000000938.12</td>\n",
       "      <td>FGR</td>\n",
       "      <td>protein_coding</td>\n",
       "      <td>ENSG00000000938</td>\n",
       "      <td>1p35.3</td>\n",
       "    </tr>\n",
       "    <tr>\n",
       "      <th>3</th>\n",
       "      <td>ENSG00000000971.15</td>\n",
       "      <td>CFH</td>\n",
       "      <td>protein_coding</td>\n",
       "      <td>ENSG00000000971</td>\n",
       "      <td>1q31.3</td>\n",
       "    </tr>\n",
       "    <tr>\n",
       "      <th>4</th>\n",
       "      <td>ENSG00000001036.13</td>\n",
       "      <td>FUCA2</td>\n",
       "      <td>protein_coding</td>\n",
       "      <td>ENSG00000001036</td>\n",
       "      <td>6q24.2</td>\n",
       "    </tr>\n",
       "  </tbody>\n",
       "</table>\n",
       "</div>"
      ],
      "text/plain": [
       "                 gene gene_name       gene_type          gene_id    band\n",
       "0  ENSG00000000457.13     SCYL3  protein_coding  ENSG00000000457  1q24.2\n",
       "1  ENSG00000000460.16  C1orf112  protein_coding  ENSG00000000460  1q24.2\n",
       "2  ENSG00000000938.12       FGR  protein_coding  ENSG00000000938  1p35.3\n",
       "3  ENSG00000000971.15       CFH  protein_coding  ENSG00000000971  1q31.3\n",
       "4  ENSG00000001036.13     FUCA2  protein_coding  ENSG00000001036  6q24.2"
      ]
     },
     "execution_count": 4,
     "metadata": {},
     "output_type": "execute_result"
    }
   ],
   "source": [
    "metadata.GENES_MAPPINGS.head()"
   ]
  },
  {
   "cell_type": "code",
   "execution_count": 5,
   "metadata": {
    "papermill": {
     "duration": 0.411866,
     "end_time": "2020-01-06T17:19:53.742814",
     "exception": false,
     "start_time": "2020-01-06T17:19:53.330948",
     "status": "completed"
    },
    "tags": []
   },
   "outputs": [],
   "source": [
    "gene_name_to_id_long = metadata.GENES_MAPPINGS[['gene_name', 'gene']].set_index('gene_name').to_dict()['gene']"
   ]
  },
  {
   "cell_type": "code",
   "execution_count": 6,
   "metadata": {
    "papermill": {
     "duration": 0.119402,
     "end_time": "2020-01-06T17:19:54.086019",
     "exception": false,
     "start_time": "2020-01-06T17:19:53.966617",
     "status": "completed"
    },
    "tags": []
   },
   "outputs": [
    {
     "data": {
      "text/plain": [
       "'ENSG00000175899.14'"
      ]
     },
     "execution_count": 6,
     "metadata": {},
     "output_type": "execute_result"
    }
   ],
   "source": [
    "gene_name_to_id_long['A2M']"
   ]
  },
  {
   "cell_type": "code",
   "execution_count": 7,
   "metadata": {
    "papermill": {
     "duration": 0.12816,
     "end_time": "2020-01-06T17:19:54.578628",
     "exception": false,
     "start_time": "2020-01-06T17:19:54.450468",
     "status": "completed"
    },
    "tags": []
   },
   "outputs": [],
   "source": [
    "gene_id_long_to_name = metadata.GENES_MAPPINGS[['gene_name', 'gene']].set_index('gene').to_dict()['gene_name']"
   ]
  },
  {
   "cell_type": "code",
   "execution_count": 8,
   "metadata": {
    "papermill": {
     "duration": 0.239462,
     "end_time": "2020-01-06T17:19:55.001615",
     "exception": false,
     "start_time": "2020-01-06T17:19:54.762153",
     "status": "completed"
    },
    "tags": []
   },
   "outputs": [
    {
     "data": {
      "text/plain": [
       "'A2M'"
      ]
     },
     "execution_count": 8,
     "metadata": {},
     "output_type": "execute_result"
    }
   ],
   "source": [
    "gene_id_long_to_name['ENSG00000175899.14']"
   ]
  },
  {
   "cell_type": "code",
   "execution_count": 9,
   "metadata": {
    "papermill": {
     "duration": 0.181006,
     "end_time": "2020-01-06T17:19:55.449144",
     "exception": false,
     "start_time": "2020-01-06T17:19:55.268138",
     "status": "completed"
    },
    "tags": []
   },
   "outputs": [],
   "source": [
    "gene_id_long_to_band = metadata.GENES_MAPPINGS[['band', 'gene']].set_index('gene').to_dict()['band']"
   ]
  },
  {
   "cell_type": "code",
   "execution_count": 10,
   "metadata": {
    "papermill": {
     "duration": 0.216842,
     "end_time": "2020-01-06T17:19:55.810965",
     "exception": false,
     "start_time": "2020-01-06T17:19:55.594123",
     "status": "completed"
    },
    "tags": []
   },
   "outputs": [
    {
     "data": {
      "text/plain": [
       "'12p13.31'"
      ]
     },
     "execution_count": 10,
     "metadata": {},
     "output_type": "execute_result"
    }
   ],
   "source": [
    "gene_id_long_to_band['ENSG00000175899.14']"
   ]
  },
  {
   "cell_type": "markdown",
   "metadata": {
    "papermill": {
     "duration": 0.187767,
     "end_time": "2020-01-06T17:19:56.197852",
     "exception": false,
     "start_time": "2020-01-06T17:19:56.010085",
     "status": "completed"
    },
    "tags": []
   },
   "source": [
    "# Load UKB x ClinVar z2"
   ]
  },
  {
   "cell_type": "code",
   "execution_count": 11,
   "metadata": {
    "papermill": {
     "duration": 0.410985,
     "end_time": "2020-01-06T17:19:56.831610",
     "exception": false,
     "start_time": "2020-01-06T17:19:56.420625",
     "status": "completed"
    },
    "tags": []
   },
   "outputs": [
    {
     "data": {
      "text/plain": [
       "'/mnt/phenomexcan_base/gene_assoc/smultixcan_and_clinvar-z2.pkl.xz'"
      ]
     },
     "metadata": {},
     "output_type": "display_data"
    }
   ],
   "source": [
    "ukb_clinvar_z2_filename = os.path.join(conf.GENE_ASSOC_DIR, 'smultixcan_and_clinvar-z2.pkl.xz')\n",
    "display(ukb_clinvar_z2_filename)"
   ]
  },
  {
   "cell_type": "code",
   "execution_count": 12,
   "metadata": {
    "papermill": {
     "duration": 15.003,
     "end_time": "2020-01-06T17:20:11.942393",
     "exception": false,
     "start_time": "2020-01-06T17:19:56.939393",
     "status": "completed"
    },
    "tags": []
   },
   "outputs": [],
   "source": [
    "ukb_clinvar_z2 = pd.read_pickle(ukb_clinvar_z2_filename)"
   ]
  },
  {
   "cell_type": "code",
   "execution_count": 13,
   "metadata": {
    "papermill": {
     "duration": 0.225181,
     "end_time": "2020-01-06T17:20:12.253106",
     "exception": false,
     "start_time": "2020-01-06T17:20:12.027925",
     "status": "completed"
    },
    "tags": []
   },
   "outputs": [
    {
     "data": {
      "text/plain": [
       "(4091, 5106)"
      ]
     },
     "execution_count": 13,
     "metadata": {},
     "output_type": "execute_result"
    }
   ],
   "source": [
    "ukb_clinvar_z2.shape"
   ]
  },
  {
   "cell_type": "code",
   "execution_count": 14,
   "metadata": {
    "papermill": {
     "duration": 0.162729,
     "end_time": "2020-01-06T17:20:12.500770",
     "exception": false,
     "start_time": "2020-01-06T17:20:12.338041",
     "status": "completed"
    },
    "tags": []
   },
   "outputs": [
    {
     "data": {
      "text/html": [
       "<div>\n",
       "<style scoped>\n",
       "    .dataframe tbody tr th:only-of-type {\n",
       "        vertical-align: middle;\n",
       "    }\n",
       "\n",
       "    .dataframe tbody tr th {\n",
       "        vertical-align: top;\n",
       "    }\n",
       "\n",
       "    .dataframe thead th {\n",
       "        text-align: right;\n",
       "    }\n",
       "</style>\n",
       "<table border=\"1\" class=\"dataframe\">\n",
       "  <thead>\n",
       "    <tr style=\"text-align: right;\">\n",
       "      <th></th>\n",
       "      <th>Alzheimer's disease</th>\n",
       "      <th>Alpha-2-macroglobulin deficiency</th>\n",
       "      <th>Otitis media, susceptibility to</th>\n",
       "      <th>p phenotype</th>\n",
       "      <th>Glucocorticoid deficiency with achalasia</th>\n",
       "      <th>Keratosis palmoplantaris papulosa</th>\n",
       "      <th>Charcot-Marie-Tooth disease, type 2N</th>\n",
       "      <th>Epileptic encephalopathy, early infantile, 29</th>\n",
       "      <th>Combined oxidative phosphorylation deficiency 8</th>\n",
       "      <th>Leukoencephalopathy, progressive, with ovarian failure</th>\n",
       "      <th>...</th>\n",
       "      <th>Retinitis pigmentosa 58</th>\n",
       "      <th>Myopia 21, autosomal dominant</th>\n",
       "      <th>Paget disease of bone 6</th>\n",
       "      <th>Seborrhea-like dermatitis with psoriasiform elements</th>\n",
       "      <th>PEHO syndrome</th>\n",
       "      <th>Oocyte maturation defect 1</th>\n",
       "      <th>OOCYTE MATURATION DEFECT 6</th>\n",
       "      <th>OOCYTE MATURATION DEFECT 3</th>\n",
       "      <th>Acromelic frontonasal dysostosis</th>\n",
       "      <th>NEURODEVELOPMENTAL DISORDER WITH MOVEMENT ABNORMALITIES, ABNORMAL GAIT, AND AUTISTIC FEATURES</th>\n",
       "    </tr>\n",
       "    <tr>\n",
       "      <th>phenomexcan_traits</th>\n",
       "      <th></th>\n",
       "      <th></th>\n",
       "      <th></th>\n",
       "      <th></th>\n",
       "      <th></th>\n",
       "      <th></th>\n",
       "      <th></th>\n",
       "      <th></th>\n",
       "      <th></th>\n",
       "      <th></th>\n",
       "      <th></th>\n",
       "      <th></th>\n",
       "      <th></th>\n",
       "      <th></th>\n",
       "      <th></th>\n",
       "      <th></th>\n",
       "      <th></th>\n",
       "      <th></th>\n",
       "      <th></th>\n",
       "      <th></th>\n",
       "      <th></th>\n",
       "    </tr>\n",
       "  </thead>\n",
       "  <tbody>\n",
       "    <tr>\n",
       "      <th>20096_1-Size_of_red_wine_glass_drunk_small_125ml</th>\n",
       "      <td>0.651161</td>\n",
       "      <td>0.247607</td>\n",
       "      <td>3.820126</td>\n",
       "      <td>1.075217</td>\n",
       "      <td>0.009677</td>\n",
       "      <td>0.162067</td>\n",
       "      <td>1.670074</td>\n",
       "      <td>1.670074</td>\n",
       "      <td>0.273777</td>\n",
       "      <td>0.273777</td>\n",
       "      <td>...</td>\n",
       "      <td>0.292204</td>\n",
       "      <td>1.695379</td>\n",
       "      <td>0.355525</td>\n",
       "      <td>1.101905</td>\n",
       "      <td>0.379410</td>\n",
       "      <td>1.747519</td>\n",
       "      <td>0.272920</td>\n",
       "      <td>0.006041</td>\n",
       "      <td>0.194577</td>\n",
       "      <td>0.194577</td>\n",
       "    </tr>\n",
       "    <tr>\n",
       "      <th>2345-Ever_had_bowel_cancer_screening</th>\n",
       "      <td>0.544953</td>\n",
       "      <td>0.055165</td>\n",
       "      <td>0.373364</td>\n",
       "      <td>0.667099</td>\n",
       "      <td>1.731603</td>\n",
       "      <td>5.829613</td>\n",
       "      <td>0.000311</td>\n",
       "      <td>0.000311</td>\n",
       "      <td>0.872317</td>\n",
       "      <td>0.872317</td>\n",
       "      <td>...</td>\n",
       "      <td>0.871863</td>\n",
       "      <td>0.772939</td>\n",
       "      <td>0.120311</td>\n",
       "      <td>0.015428</td>\n",
       "      <td>0.332303</td>\n",
       "      <td>1.911665</td>\n",
       "      <td>2.069227</td>\n",
       "      <td>0.242165</td>\n",
       "      <td>0.392449</td>\n",
       "      <td>0.392449</td>\n",
       "    </tr>\n",
       "    <tr>\n",
       "      <th>N49-Diagnoses_main_ICD10_N49_Inflammatory_disorders_of_male_genital_organs_not_elsewhere_classified</th>\n",
       "      <td>2.352883</td>\n",
       "      <td>3.096874</td>\n",
       "      <td>0.208791</td>\n",
       "      <td>1.486795</td>\n",
       "      <td>0.166468</td>\n",
       "      <td>0.268138</td>\n",
       "      <td>2.304044</td>\n",
       "      <td>2.304044</td>\n",
       "      <td>0.007125</td>\n",
       "      <td>0.007125</td>\n",
       "      <td>...</td>\n",
       "      <td>0.020070</td>\n",
       "      <td>0.137331</td>\n",
       "      <td>0.744516</td>\n",
       "      <td>0.810886</td>\n",
       "      <td>0.222463</td>\n",
       "      <td>5.448538</td>\n",
       "      <td>0.087805</td>\n",
       "      <td>0.725028</td>\n",
       "      <td>0.155316</td>\n",
       "      <td>0.155316</td>\n",
       "    </tr>\n",
       "    <tr>\n",
       "      <th>100011_raw-Iron</th>\n",
       "      <td>2.905654</td>\n",
       "      <td>0.049563</td>\n",
       "      <td>11.132239</td>\n",
       "      <td>0.978171</td>\n",
       "      <td>0.428900</td>\n",
       "      <td>0.395410</td>\n",
       "      <td>0.199536</td>\n",
       "      <td>0.199536</td>\n",
       "      <td>0.638303</td>\n",
       "      <td>0.638303</td>\n",
       "      <td>...</td>\n",
       "      <td>0.000193</td>\n",
       "      <td>0.327350</td>\n",
       "      <td>0.436058</td>\n",
       "      <td>0.096868</td>\n",
       "      <td>0.173245</td>\n",
       "      <td>3.459105</td>\n",
       "      <td>0.144557</td>\n",
       "      <td>0.009105</td>\n",
       "      <td>0.015222</td>\n",
       "      <td>0.015222</td>\n",
       "    </tr>\n",
       "    <tr>\n",
       "      <th>5221-Index_of_best_refractometry_result_right</th>\n",
       "      <td>0.836999</td>\n",
       "      <td>0.071389</td>\n",
       "      <td>0.229481</td>\n",
       "      <td>0.340287</td>\n",
       "      <td>0.546314</td>\n",
       "      <td>2.319034</td>\n",
       "      <td>4.984327</td>\n",
       "      <td>4.984327</td>\n",
       "      <td>0.177313</td>\n",
       "      <td>0.177313</td>\n",
       "      <td>...</td>\n",
       "      <td>2.239274</td>\n",
       "      <td>1.115672</td>\n",
       "      <td>0.141618</td>\n",
       "      <td>0.012610</td>\n",
       "      <td>1.253595</td>\n",
       "      <td>0.031501</td>\n",
       "      <td>0.244870</td>\n",
       "      <td>0.001039</td>\n",
       "      <td>0.028283</td>\n",
       "      <td>0.028283</td>\n",
       "    </tr>\n",
       "  </tbody>\n",
       "</table>\n",
       "<p>5 rows × 5106 columns</p>\n",
       "</div>"
      ],
      "text/plain": [
       "                                                    Alzheimer's disease  \\\n",
       "phenomexcan_traits                                                        \n",
       "20096_1-Size_of_red_wine_glass_drunk_small_125ml               0.651161   \n",
       "2345-Ever_had_bowel_cancer_screening                           0.544953   \n",
       "N49-Diagnoses_main_ICD10_N49_Inflammatory_disor...             2.352883   \n",
       "100011_raw-Iron                                                2.905654   \n",
       "5221-Index_of_best_refractometry_result_right                  0.836999   \n",
       "\n",
       "                                                    Alpha-2-macroglobulin deficiency  \\\n",
       "phenomexcan_traits                                                                     \n",
       "20096_1-Size_of_red_wine_glass_drunk_small_125ml                            0.247607   \n",
       "2345-Ever_had_bowel_cancer_screening                                        0.055165   \n",
       "N49-Diagnoses_main_ICD10_N49_Inflammatory_disor...                          3.096874   \n",
       "100011_raw-Iron                                                             0.049563   \n",
       "5221-Index_of_best_refractometry_result_right                               0.071389   \n",
       "\n",
       "                                                    Otitis media, susceptibility to  \\\n",
       "phenomexcan_traits                                                                    \n",
       "20096_1-Size_of_red_wine_glass_drunk_small_125ml                           3.820126   \n",
       "2345-Ever_had_bowel_cancer_screening                                       0.373364   \n",
       "N49-Diagnoses_main_ICD10_N49_Inflammatory_disor...                         0.208791   \n",
       "100011_raw-Iron                                                           11.132239   \n",
       "5221-Index_of_best_refractometry_result_right                              0.229481   \n",
       "\n",
       "                                                    p phenotype  \\\n",
       "phenomexcan_traits                                                \n",
       "20096_1-Size_of_red_wine_glass_drunk_small_125ml       1.075217   \n",
       "2345-Ever_had_bowel_cancer_screening                   0.667099   \n",
       "N49-Diagnoses_main_ICD10_N49_Inflammatory_disor...     1.486795   \n",
       "100011_raw-Iron                                        0.978171   \n",
       "5221-Index_of_best_refractometry_result_right          0.340287   \n",
       "\n",
       "                                                    Glucocorticoid deficiency with achalasia  \\\n",
       "phenomexcan_traits                                                                             \n",
       "20096_1-Size_of_red_wine_glass_drunk_small_125ml                                    0.009677   \n",
       "2345-Ever_had_bowel_cancer_screening                                                1.731603   \n",
       "N49-Diagnoses_main_ICD10_N49_Inflammatory_disor...                                  0.166468   \n",
       "100011_raw-Iron                                                                     0.428900   \n",
       "5221-Index_of_best_refractometry_result_right                                       0.546314   \n",
       "\n",
       "                                                    Keratosis palmoplantaris papulosa  \\\n",
       "phenomexcan_traits                                                                      \n",
       "20096_1-Size_of_red_wine_glass_drunk_small_125ml                             0.162067   \n",
       "2345-Ever_had_bowel_cancer_screening                                         5.829613   \n",
       "N49-Diagnoses_main_ICD10_N49_Inflammatory_disor...                           0.268138   \n",
       "100011_raw-Iron                                                              0.395410   \n",
       "5221-Index_of_best_refractometry_result_right                                2.319034   \n",
       "\n",
       "                                                    Charcot-Marie-Tooth disease, type 2N  \\\n",
       "phenomexcan_traits                                                                         \n",
       "20096_1-Size_of_red_wine_glass_drunk_small_125ml                                1.670074   \n",
       "2345-Ever_had_bowel_cancer_screening                                            0.000311   \n",
       "N49-Diagnoses_main_ICD10_N49_Inflammatory_disor...                              2.304044   \n",
       "100011_raw-Iron                                                                 0.199536   \n",
       "5221-Index_of_best_refractometry_result_right                                   4.984327   \n",
       "\n",
       "                                                    Epileptic encephalopathy, early infantile, 29  \\\n",
       "phenomexcan_traits                                                                                  \n",
       "20096_1-Size_of_red_wine_glass_drunk_small_125ml                                         1.670074   \n",
       "2345-Ever_had_bowel_cancer_screening                                                     0.000311   \n",
       "N49-Diagnoses_main_ICD10_N49_Inflammatory_disor...                                       2.304044   \n",
       "100011_raw-Iron                                                                          0.199536   \n",
       "5221-Index_of_best_refractometry_result_right                                            4.984327   \n",
       "\n",
       "                                                    Combined oxidative phosphorylation deficiency 8  \\\n",
       "phenomexcan_traits                                                                                    \n",
       "20096_1-Size_of_red_wine_glass_drunk_small_125ml                                           0.273777   \n",
       "2345-Ever_had_bowel_cancer_screening                                                       0.872317   \n",
       "N49-Diagnoses_main_ICD10_N49_Inflammatory_disor...                                         0.007125   \n",
       "100011_raw-Iron                                                                            0.638303   \n",
       "5221-Index_of_best_refractometry_result_right                                              0.177313   \n",
       "\n",
       "                                                    Leukoencephalopathy, progressive, with ovarian failure  \\\n",
       "phenomexcan_traits                                                                                           \n",
       "20096_1-Size_of_red_wine_glass_drunk_small_125ml                                             0.273777        \n",
       "2345-Ever_had_bowel_cancer_screening                                                         0.872317        \n",
       "N49-Diagnoses_main_ICD10_N49_Inflammatory_disor...                                           0.007125        \n",
       "100011_raw-Iron                                                                              0.638303        \n",
       "5221-Index_of_best_refractometry_result_right                                                0.177313        \n",
       "\n",
       "                                                    ...  \\\n",
       "phenomexcan_traits                                  ...   \n",
       "20096_1-Size_of_red_wine_glass_drunk_small_125ml    ...   \n",
       "2345-Ever_had_bowel_cancer_screening                ...   \n",
       "N49-Diagnoses_main_ICD10_N49_Inflammatory_disor...  ...   \n",
       "100011_raw-Iron                                     ...   \n",
       "5221-Index_of_best_refractometry_result_right       ...   \n",
       "\n",
       "                                                    Retinitis pigmentosa 58  \\\n",
       "phenomexcan_traits                                                            \n",
       "20096_1-Size_of_red_wine_glass_drunk_small_125ml                   0.292204   \n",
       "2345-Ever_had_bowel_cancer_screening                               0.871863   \n",
       "N49-Diagnoses_main_ICD10_N49_Inflammatory_disor...                 0.020070   \n",
       "100011_raw-Iron                                                    0.000193   \n",
       "5221-Index_of_best_refractometry_result_right                      2.239274   \n",
       "\n",
       "                                                    Myopia 21, autosomal dominant  \\\n",
       "phenomexcan_traits                                                                  \n",
       "20096_1-Size_of_red_wine_glass_drunk_small_125ml                         1.695379   \n",
       "2345-Ever_had_bowel_cancer_screening                                     0.772939   \n",
       "N49-Diagnoses_main_ICD10_N49_Inflammatory_disor...                       0.137331   \n",
       "100011_raw-Iron                                                          0.327350   \n",
       "5221-Index_of_best_refractometry_result_right                            1.115672   \n",
       "\n",
       "                                                    Paget disease of bone 6  \\\n",
       "phenomexcan_traits                                                            \n",
       "20096_1-Size_of_red_wine_glass_drunk_small_125ml                   0.355525   \n",
       "2345-Ever_had_bowel_cancer_screening                               0.120311   \n",
       "N49-Diagnoses_main_ICD10_N49_Inflammatory_disor...                 0.744516   \n",
       "100011_raw-Iron                                                    0.436058   \n",
       "5221-Index_of_best_refractometry_result_right                      0.141618   \n",
       "\n",
       "                                                    Seborrhea-like dermatitis with psoriasiform elements  \\\n",
       "phenomexcan_traits                                                                                         \n",
       "20096_1-Size_of_red_wine_glass_drunk_small_125ml                                             1.101905      \n",
       "2345-Ever_had_bowel_cancer_screening                                                         0.015428      \n",
       "N49-Diagnoses_main_ICD10_N49_Inflammatory_disor...                                           0.810886      \n",
       "100011_raw-Iron                                                                              0.096868      \n",
       "5221-Index_of_best_refractometry_result_right                                                0.012610      \n",
       "\n",
       "                                                    PEHO syndrome  \\\n",
       "phenomexcan_traits                                                  \n",
       "20096_1-Size_of_red_wine_glass_drunk_small_125ml         0.379410   \n",
       "2345-Ever_had_bowel_cancer_screening                     0.332303   \n",
       "N49-Diagnoses_main_ICD10_N49_Inflammatory_disor...       0.222463   \n",
       "100011_raw-Iron                                          0.173245   \n",
       "5221-Index_of_best_refractometry_result_right            1.253595   \n",
       "\n",
       "                                                    Oocyte maturation defect 1  \\\n",
       "phenomexcan_traits                                                               \n",
       "20096_1-Size_of_red_wine_glass_drunk_small_125ml                      1.747519   \n",
       "2345-Ever_had_bowel_cancer_screening                                  1.911665   \n",
       "N49-Diagnoses_main_ICD10_N49_Inflammatory_disor...                    5.448538   \n",
       "100011_raw-Iron                                                       3.459105   \n",
       "5221-Index_of_best_refractometry_result_right                         0.031501   \n",
       "\n",
       "                                                    OOCYTE MATURATION DEFECT 6  \\\n",
       "phenomexcan_traits                                                               \n",
       "20096_1-Size_of_red_wine_glass_drunk_small_125ml                      0.272920   \n",
       "2345-Ever_had_bowel_cancer_screening                                  2.069227   \n",
       "N49-Diagnoses_main_ICD10_N49_Inflammatory_disor...                    0.087805   \n",
       "100011_raw-Iron                                                       0.144557   \n",
       "5221-Index_of_best_refractometry_result_right                         0.244870   \n",
       "\n",
       "                                                    OOCYTE MATURATION DEFECT 3  \\\n",
       "phenomexcan_traits                                                               \n",
       "20096_1-Size_of_red_wine_glass_drunk_small_125ml                      0.006041   \n",
       "2345-Ever_had_bowel_cancer_screening                                  0.242165   \n",
       "N49-Diagnoses_main_ICD10_N49_Inflammatory_disor...                    0.725028   \n",
       "100011_raw-Iron                                                       0.009105   \n",
       "5221-Index_of_best_refractometry_result_right                         0.001039   \n",
       "\n",
       "                                                    Acromelic frontonasal dysostosis  \\\n",
       "phenomexcan_traits                                                                     \n",
       "20096_1-Size_of_red_wine_glass_drunk_small_125ml                            0.194577   \n",
       "2345-Ever_had_bowel_cancer_screening                                        0.392449   \n",
       "N49-Diagnoses_main_ICD10_N49_Inflammatory_disor...                          0.155316   \n",
       "100011_raw-Iron                                                             0.015222   \n",
       "5221-Index_of_best_refractometry_result_right                               0.028283   \n",
       "\n",
       "                                                    NEURODEVELOPMENTAL DISORDER WITH MOVEMENT ABNORMALITIES, ABNORMAL GAIT, AND AUTISTIC FEATURES  \n",
       "phenomexcan_traits                                                                                                                                 \n",
       "20096_1-Size_of_red_wine_glass_drunk_small_125ml                                             0.194577                                              \n",
       "2345-Ever_had_bowel_cancer_screening                                                         0.392449                                              \n",
       "N49-Diagnoses_main_ICD10_N49_Inflammatory_disor...                                           0.155316                                              \n",
       "100011_raw-Iron                                                                              0.015222                                              \n",
       "5221-Index_of_best_refractometry_result_right                                                0.028283                                              \n",
       "\n",
       "[5 rows x 5106 columns]"
      ]
     },
     "execution_count": 14,
     "metadata": {},
     "output_type": "execute_result"
    }
   ],
   "source": [
    "ukb_clinvar_z2.head()"
   ]
  },
  {
   "cell_type": "markdown",
   "metadata": {
    "papermill": {
     "duration": 0.085773,
     "end_time": "2020-01-06T17:20:12.670686",
     "exception": false,
     "start_time": "2020-01-06T17:20:12.584913",
     "status": "completed"
    },
    "tags": []
   },
   "source": [
    "# Load S-MultiXcan gene associations"
   ]
  },
  {
   "cell_type": "code",
   "execution_count": 15,
   "metadata": {
    "papermill": {
     "duration": 0.118479,
     "end_time": "2020-01-06T17:20:12.876682",
     "exception": false,
     "start_time": "2020-01-06T17:20:12.758203",
     "status": "completed"
    },
    "tags": []
   },
   "outputs": [
    {
     "data": {
      "text/plain": [
       "'/mnt/phenomexcan_base/gene_assoc/smultixcan-mashr-pvalues.pkl.xz'"
      ]
     },
     "metadata": {},
     "output_type": "display_data"
    }
   ],
   "source": [
    "smultixcan_pvalues_file = os.path.join(conf.GENE_ASSOC_DIR, f'smultixcan-mashr-pvalues.pkl.xz')\n",
    "display(smultixcan_pvalues_file)"
   ]
  },
  {
   "cell_type": "code",
   "execution_count": 16,
   "metadata": {
    "papermill": {
     "duration": 92.597308,
     "end_time": "2020-01-06T17:21:45.555240",
     "exception": false,
     "start_time": "2020-01-06T17:20:12.957932",
     "status": "completed"
    },
    "tags": []
   },
   "outputs": [],
   "source": [
    "smultixcan_gene_associations = pd.read_pickle(smultixcan_pvalues_file)"
   ]
  },
  {
   "cell_type": "code",
   "execution_count": 17,
   "metadata": {
    "papermill": {
     "duration": 0.759714,
     "end_time": "2020-01-06T17:21:46.416678",
     "exception": false,
     "start_time": "2020-01-06T17:21:45.656964",
     "status": "completed"
    },
    "tags": []
   },
   "outputs": [
    {
     "data": {
      "text/plain": [
       "(22515, 4091)"
      ]
     },
     "execution_count": 17,
     "metadata": {},
     "output_type": "execute_result"
    }
   ],
   "source": [
    "smultixcan_gene_associations.shape"
   ]
  },
  {
   "cell_type": "code",
   "execution_count": 18,
   "metadata": {
    "papermill": {
     "duration": 0.228747,
     "end_time": "2020-01-06T17:21:46.716146",
     "exception": false,
     "start_time": "2020-01-06T17:21:46.487399",
     "status": "completed"
    },
    "tags": []
   },
   "outputs": [
    {
     "data": {
      "text/html": [
       "<div>\n",
       "<style scoped>\n",
       "    .dataframe tbody tr th:only-of-type {\n",
       "        vertical-align: middle;\n",
       "    }\n",
       "\n",
       "    .dataframe tbody tr th {\n",
       "        vertical-align: top;\n",
       "    }\n",
       "\n",
       "    .dataframe thead th {\n",
       "        text-align: right;\n",
       "    }\n",
       "</style>\n",
       "<table border=\"1\" class=\"dataframe\">\n",
       "  <thead>\n",
       "    <tr style=\"text-align: right;\">\n",
       "      <th></th>\n",
       "      <th>20096_1-Size_of_red_wine_glass_drunk_small_125ml</th>\n",
       "      <th>2345-Ever_had_bowel_cancer_screening</th>\n",
       "      <th>N49-Diagnoses_main_ICD10_N49_Inflammatory_disorders_of_male_genital_organs_not_elsewhere_classified</th>\n",
       "      <th>100011_raw-Iron</th>\n",
       "      <th>5221-Index_of_best_refractometry_result_right</th>\n",
       "      <th>20003_1141150624-Treatmentmedication_code_zomig_25mg_tablet</th>\n",
       "      <th>S69-Diagnoses_main_ICD10_S69_Other_and_unspecified_injuries_of_wrist_and_hand</th>\n",
       "      <th>20024_1136-Job_code_deduced_Information_and_communication_technology_managers</th>\n",
       "      <th>20002_1385-Noncancer_illness_code_selfreported_allergy_or_anaphylactic_reaction_to_food</th>\n",
       "      <th>G6_SLEEPAPNO-Sleep_apnoea</th>\n",
       "      <th>...</th>\n",
       "      <th>Astle_et_al_2016_Sum_basophil_neutrophil_counts</th>\n",
       "      <th>RA_OKADA_TRANS_ETHNIC</th>\n",
       "      <th>pgc.scz2</th>\n",
       "      <th>PGC_ADHD_EUR_2017</th>\n",
       "      <th>MAGIC_FastingGlucose</th>\n",
       "      <th>Astle_et_al_2016_Red_blood_cell_count</th>\n",
       "      <th>SSGAC_Depressive_Symptoms</th>\n",
       "      <th>BCAC_ER_positive_BreastCancer_EUR</th>\n",
       "      <th>IBD.EUR.Inflammatory_Bowel_Disease</th>\n",
       "      <th>Astle_et_al_2016_High_light_scatter_reticulocyte_count</th>\n",
       "    </tr>\n",
       "    <tr>\n",
       "      <th>gene_name</th>\n",
       "      <th></th>\n",
       "      <th></th>\n",
       "      <th></th>\n",
       "      <th></th>\n",
       "      <th></th>\n",
       "      <th></th>\n",
       "      <th></th>\n",
       "      <th></th>\n",
       "      <th></th>\n",
       "      <th></th>\n",
       "      <th></th>\n",
       "      <th></th>\n",
       "      <th></th>\n",
       "      <th></th>\n",
       "      <th></th>\n",
       "      <th></th>\n",
       "      <th></th>\n",
       "      <th></th>\n",
       "      <th></th>\n",
       "      <th></th>\n",
       "      <th></th>\n",
       "    </tr>\n",
       "  </thead>\n",
       "  <tbody>\n",
       "    <tr>\n",
       "      <th>ENSG00000000419</th>\n",
       "      <td>0.865429</td>\n",
       "      <td>0.918314</td>\n",
       "      <td>0.810683</td>\n",
       "      <td>0.374671</td>\n",
       "      <td>0.189032</td>\n",
       "      <td>0.140981</td>\n",
       "      <td>0.467741</td>\n",
       "      <td>0.129427</td>\n",
       "      <td>0.193680</td>\n",
       "      <td>0.285479</td>\n",
       "      <td>...</td>\n",
       "      <td>0.416210</td>\n",
       "      <td>0.782554</td>\n",
       "      <td>0.609467</td>\n",
       "      <td>0.980281</td>\n",
       "      <td>0.666504</td>\n",
       "      <td>0.409761</td>\n",
       "      <td>0.713310</td>\n",
       "      <td>0.168319</td>\n",
       "      <td>0.460244</td>\n",
       "      <td>0.765506</td>\n",
       "    </tr>\n",
       "    <tr>\n",
       "      <th>ENSG00000000457</th>\n",
       "      <td>0.174192</td>\n",
       "      <td>0.064765</td>\n",
       "      <td>0.889194</td>\n",
       "      <td>0.896938</td>\n",
       "      <td>0.448596</td>\n",
       "      <td>0.269602</td>\n",
       "      <td>0.540261</td>\n",
       "      <td>0.068405</td>\n",
       "      <td>0.041813</td>\n",
       "      <td>0.313427</td>\n",
       "      <td>...</td>\n",
       "      <td>0.149360</td>\n",
       "      <td>0.512603</td>\n",
       "      <td>0.010907</td>\n",
       "      <td>0.228982</td>\n",
       "      <td>0.607081</td>\n",
       "      <td>0.812484</td>\n",
       "      <td>0.678749</td>\n",
       "      <td>0.918971</td>\n",
       "      <td>0.311187</td>\n",
       "      <td>0.344574</td>\n",
       "    </tr>\n",
       "    <tr>\n",
       "      <th>ENSG00000000460</th>\n",
       "      <td>0.879969</td>\n",
       "      <td>0.240715</td>\n",
       "      <td>0.238228</td>\n",
       "      <td>0.567555</td>\n",
       "      <td>0.921320</td>\n",
       "      <td>0.825036</td>\n",
       "      <td>0.782230</td>\n",
       "      <td>0.644525</td>\n",
       "      <td>0.392273</td>\n",
       "      <td>0.840014</td>\n",
       "      <td>...</td>\n",
       "      <td>0.503520</td>\n",
       "      <td>0.764147</td>\n",
       "      <td>0.587969</td>\n",
       "      <td>0.301460</td>\n",
       "      <td>0.629621</td>\n",
       "      <td>0.486664</td>\n",
       "      <td>0.736509</td>\n",
       "      <td>0.933600</td>\n",
       "      <td>0.000477</td>\n",
       "      <td>0.321223</td>\n",
       "    </tr>\n",
       "    <tr>\n",
       "      <th>ENSG00000000938</th>\n",
       "      <td>0.192670</td>\n",
       "      <td>0.400054</td>\n",
       "      <td>0.114353</td>\n",
       "      <td>0.470700</td>\n",
       "      <td>0.889202</td>\n",
       "      <td>0.000011</td>\n",
       "      <td>0.899764</td>\n",
       "      <td>0.212352</td>\n",
       "      <td>0.829671</td>\n",
       "      <td>0.372348</td>\n",
       "      <td>...</td>\n",
       "      <td>0.899212</td>\n",
       "      <td>0.961678</td>\n",
       "      <td>0.059247</td>\n",
       "      <td>0.588855</td>\n",
       "      <td>0.898525</td>\n",
       "      <td>0.135045</td>\n",
       "      <td>0.954998</td>\n",
       "      <td>0.088220</td>\n",
       "      <td>0.176497</td>\n",
       "      <td>0.304281</td>\n",
       "    </tr>\n",
       "    <tr>\n",
       "      <th>ENSG00000000971</th>\n",
       "      <td>0.180632</td>\n",
       "      <td>0.793060</td>\n",
       "      <td>0.490585</td>\n",
       "      <td>0.088752</td>\n",
       "      <td>0.744531</td>\n",
       "      <td>0.949639</td>\n",
       "      <td>0.253817</td>\n",
       "      <td>0.377408</td>\n",
       "      <td>0.971655</td>\n",
       "      <td>0.070266</td>\n",
       "      <td>...</td>\n",
       "      <td>0.390618</td>\n",
       "      <td>0.093824</td>\n",
       "      <td>0.020391</td>\n",
       "      <td>0.109883</td>\n",
       "      <td>0.870551</td>\n",
       "      <td>0.995450</td>\n",
       "      <td>0.002660</td>\n",
       "      <td>0.421588</td>\n",
       "      <td>0.656851</td>\n",
       "      <td>0.868416</td>\n",
       "    </tr>\n",
       "  </tbody>\n",
       "</table>\n",
       "<p>5 rows × 4091 columns</p>\n",
       "</div>"
      ],
      "text/plain": [
       "                 20096_1-Size_of_red_wine_glass_drunk_small_125ml  \\\n",
       "gene_name                                                           \n",
       "ENSG00000000419                                          0.865429   \n",
       "ENSG00000000457                                          0.174192   \n",
       "ENSG00000000460                                          0.879969   \n",
       "ENSG00000000938                                          0.192670   \n",
       "ENSG00000000971                                          0.180632   \n",
       "\n",
       "                 2345-Ever_had_bowel_cancer_screening  \\\n",
       "gene_name                                               \n",
       "ENSG00000000419                              0.918314   \n",
       "ENSG00000000457                              0.064765   \n",
       "ENSG00000000460                              0.240715   \n",
       "ENSG00000000938                              0.400054   \n",
       "ENSG00000000971                              0.793060   \n",
       "\n",
       "                 N49-Diagnoses_main_ICD10_N49_Inflammatory_disorders_of_male_genital_organs_not_elsewhere_classified  \\\n",
       "gene_name                                                                                                              \n",
       "ENSG00000000419                                           0.810683                                                     \n",
       "ENSG00000000457                                           0.889194                                                     \n",
       "ENSG00000000460                                           0.238228                                                     \n",
       "ENSG00000000938                                           0.114353                                                     \n",
       "ENSG00000000971                                           0.490585                                                     \n",
       "\n",
       "                 100011_raw-Iron  \\\n",
       "gene_name                          \n",
       "ENSG00000000419         0.374671   \n",
       "ENSG00000000457         0.896938   \n",
       "ENSG00000000460         0.567555   \n",
       "ENSG00000000938         0.470700   \n",
       "ENSG00000000971         0.088752   \n",
       "\n",
       "                 5221-Index_of_best_refractometry_result_right  \\\n",
       "gene_name                                                        \n",
       "ENSG00000000419                                       0.189032   \n",
       "ENSG00000000457                                       0.448596   \n",
       "ENSG00000000460                                       0.921320   \n",
       "ENSG00000000938                                       0.889202   \n",
       "ENSG00000000971                                       0.744531   \n",
       "\n",
       "                 20003_1141150624-Treatmentmedication_code_zomig_25mg_tablet  \\\n",
       "gene_name                                                                      \n",
       "ENSG00000000419                                           0.140981             \n",
       "ENSG00000000457                                           0.269602             \n",
       "ENSG00000000460                                           0.825036             \n",
       "ENSG00000000938                                           0.000011             \n",
       "ENSG00000000971                                           0.949639             \n",
       "\n",
       "                 S69-Diagnoses_main_ICD10_S69_Other_and_unspecified_injuries_of_wrist_and_hand  \\\n",
       "gene_name                                                                                        \n",
       "ENSG00000000419                                           0.467741                               \n",
       "ENSG00000000457                                           0.540261                               \n",
       "ENSG00000000460                                           0.782230                               \n",
       "ENSG00000000938                                           0.899764                               \n",
       "ENSG00000000971                                           0.253817                               \n",
       "\n",
       "                 20024_1136-Job_code_deduced_Information_and_communication_technology_managers  \\\n",
       "gene_name                                                                                        \n",
       "ENSG00000000419                                           0.129427                               \n",
       "ENSG00000000457                                           0.068405                               \n",
       "ENSG00000000460                                           0.644525                               \n",
       "ENSG00000000938                                           0.212352                               \n",
       "ENSG00000000971                                           0.377408                               \n",
       "\n",
       "                 20002_1385-Noncancer_illness_code_selfreported_allergy_or_anaphylactic_reaction_to_food  \\\n",
       "gene_name                                                                                                  \n",
       "ENSG00000000419                                           0.193680                                         \n",
       "ENSG00000000457                                           0.041813                                         \n",
       "ENSG00000000460                                           0.392273                                         \n",
       "ENSG00000000938                                           0.829671                                         \n",
       "ENSG00000000971                                           0.971655                                         \n",
       "\n",
       "                 G6_SLEEPAPNO-Sleep_apnoea  ...  \\\n",
       "gene_name                                   ...   \n",
       "ENSG00000000419                   0.285479  ...   \n",
       "ENSG00000000457                   0.313427  ...   \n",
       "ENSG00000000460                   0.840014  ...   \n",
       "ENSG00000000938                   0.372348  ...   \n",
       "ENSG00000000971                   0.070266  ...   \n",
       "\n",
       "                 Astle_et_al_2016_Sum_basophil_neutrophil_counts  \\\n",
       "gene_name                                                          \n",
       "ENSG00000000419                                         0.416210   \n",
       "ENSG00000000457                                         0.149360   \n",
       "ENSG00000000460                                         0.503520   \n",
       "ENSG00000000938                                         0.899212   \n",
       "ENSG00000000971                                         0.390618   \n",
       "\n",
       "                 RA_OKADA_TRANS_ETHNIC  pgc.scz2  PGC_ADHD_EUR_2017  \\\n",
       "gene_name                                                             \n",
       "ENSG00000000419               0.782554  0.609467           0.980281   \n",
       "ENSG00000000457               0.512603  0.010907           0.228982   \n",
       "ENSG00000000460               0.764147  0.587969           0.301460   \n",
       "ENSG00000000938               0.961678  0.059247           0.588855   \n",
       "ENSG00000000971               0.093824  0.020391           0.109883   \n",
       "\n",
       "                 MAGIC_FastingGlucose  Astle_et_al_2016_Red_blood_cell_count  \\\n",
       "gene_name                                                                      \n",
       "ENSG00000000419              0.666504                               0.409761   \n",
       "ENSG00000000457              0.607081                               0.812484   \n",
       "ENSG00000000460              0.629621                               0.486664   \n",
       "ENSG00000000938              0.898525                               0.135045   \n",
       "ENSG00000000971              0.870551                               0.995450   \n",
       "\n",
       "                 SSGAC_Depressive_Symptoms  BCAC_ER_positive_BreastCancer_EUR  \\\n",
       "gene_name                                                                       \n",
       "ENSG00000000419                   0.713310                           0.168319   \n",
       "ENSG00000000457                   0.678749                           0.918971   \n",
       "ENSG00000000460                   0.736509                           0.933600   \n",
       "ENSG00000000938                   0.954998                           0.088220   \n",
       "ENSG00000000971                   0.002660                           0.421588   \n",
       "\n",
       "                 IBD.EUR.Inflammatory_Bowel_Disease  \\\n",
       "gene_name                                             \n",
       "ENSG00000000419                            0.460244   \n",
       "ENSG00000000457                            0.311187   \n",
       "ENSG00000000460                            0.000477   \n",
       "ENSG00000000938                            0.176497   \n",
       "ENSG00000000971                            0.656851   \n",
       "\n",
       "                 Astle_et_al_2016_High_light_scatter_reticulocyte_count  \n",
       "gene_name                                                                \n",
       "ENSG00000000419                                           0.765506       \n",
       "ENSG00000000457                                           0.344574       \n",
       "ENSG00000000460                                           0.321223       \n",
       "ENSG00000000938                                           0.304281       \n",
       "ENSG00000000971                                           0.868416       \n",
       "\n",
       "[5 rows x 4091 columns]"
      ]
     },
     "execution_count": 18,
     "metadata": {},
     "output_type": "execute_result"
    }
   ],
   "source": [
    "smultixcan_gene_associations.head(5)"
   ]
  },
  {
   "cell_type": "markdown",
   "metadata": {
    "papermill": {
     "duration": 0.076583,
     "end_time": "2020-01-06T17:21:46.872683",
     "exception": false,
     "start_time": "2020-01-06T17:21:46.796100",
     "status": "completed"
    },
    "tags": []
   },
   "source": [
    "# Load ClinVar gene associations"
   ]
  },
  {
   "cell_type": "code",
   "execution_count": 19,
   "metadata": {
    "papermill": {
     "duration": 0.104345,
     "end_time": "2020-01-06T17:21:47.049836",
     "exception": false,
     "start_time": "2020-01-06T17:21:46.945491",
     "status": "completed"
    },
    "tags": []
   },
   "outputs": [
    {
     "data": {
      "text/plain": [
       "'/mnt/phenomexcan_base/gene_assoc/clinvar-gene_associations.pkl.xz'"
      ]
     },
     "metadata": {},
     "output_type": "display_data"
    }
   ],
   "source": [
    "clinvar_genes_associations_filename = os.path.join(conf.GENE_ASSOC_DIR, 'clinvar-gene_associations.pkl.xz')\n",
    "display(clinvar_genes_associations_filename)"
   ]
  },
  {
   "cell_type": "code",
   "execution_count": 20,
   "metadata": {
    "papermill": {
     "duration": 0.213113,
     "end_time": "2020-01-06T17:21:47.336388",
     "exception": false,
     "start_time": "2020-01-06T17:21:47.123275",
     "status": "completed"
    },
    "tags": []
   },
   "outputs": [],
   "source": [
    "clinvar_genes_associations = pd.read_pickle(clinvar_genes_associations_filename)"
   ]
  },
  {
   "cell_type": "code",
   "execution_count": 21,
   "metadata": {
    "papermill": {
     "duration": 0.127542,
     "end_time": "2020-01-06T17:21:47.536564",
     "exception": false,
     "start_time": "2020-01-06T17:21:47.409022",
     "status": "completed"
    },
    "tags": []
   },
   "outputs": [
    {
     "data": {
      "text/plain": [
       "(4194, 5586)"
      ]
     },
     "execution_count": 21,
     "metadata": {},
     "output_type": "execute_result"
    }
   ],
   "source": [
    "clinvar_genes_associations.shape"
   ]
  },
  {
   "cell_type": "code",
   "execution_count": 22,
   "metadata": {
    "papermill": {
     "duration": 0.136695,
     "end_time": "2020-01-06T17:21:47.756508",
     "exception": false,
     "start_time": "2020-01-06T17:21:47.619813",
     "status": "completed"
    },
    "tags": []
   },
   "outputs": [
    {
     "data": {
      "text/html": [
       "<div>\n",
       "<style scoped>\n",
       "    .dataframe tbody tr th:only-of-type {\n",
       "        vertical-align: middle;\n",
       "    }\n",
       "\n",
       "    .dataframe tbody tr th {\n",
       "        vertical-align: top;\n",
       "    }\n",
       "\n",
       "    .dataframe thead th {\n",
       "        text-align: right;\n",
       "    }\n",
       "</style>\n",
       "<table border=\"1\" class=\"dataframe\">\n",
       "  <thead>\n",
       "    <tr style=\"text-align: right;\">\n",
       "      <th></th>\n",
       "      <th>Alzheimer's disease</th>\n",
       "      <th>Alpha-2-macroglobulin deficiency</th>\n",
       "      <th>Otitis media, susceptibility to</th>\n",
       "      <th>p phenotype</th>\n",
       "      <th>Glucocorticoid deficiency with achalasia</th>\n",
       "      <th>Keratosis palmoplantaris papulosa</th>\n",
       "      <th>Charcot-Marie-Tooth disease, type 2N</th>\n",
       "      <th>Epileptic encephalopathy, early infantile, 29</th>\n",
       "      <th>Combined oxidative phosphorylation deficiency 8</th>\n",
       "      <th>Leukoencephalopathy, progressive, with ovarian failure</th>\n",
       "      <th>...</th>\n",
       "      <th>Myopia 21, autosomal dominant</th>\n",
       "      <th>Paget disease of bone 6</th>\n",
       "      <th>ZNF711-Related X-linked Mental Retardation</th>\n",
       "      <th>Seborrhea-like dermatitis with psoriasiform elements</th>\n",
       "      <th>PEHO syndrome</th>\n",
       "      <th>Oocyte maturation defect 1</th>\n",
       "      <th>OOCYTE MATURATION DEFECT 6</th>\n",
       "      <th>OOCYTE MATURATION DEFECT 3</th>\n",
       "      <th>Acromelic frontonasal dysostosis</th>\n",
       "      <th>NEURODEVELOPMENTAL DISORDER WITH MOVEMENT ABNORMALITIES, ABNORMAL GAIT, AND AUTISTIC FEATURES</th>\n",
       "    </tr>\n",
       "    <tr>\n",
       "      <th>gene</th>\n",
       "      <th></th>\n",
       "      <th></th>\n",
       "      <th></th>\n",
       "      <th></th>\n",
       "      <th></th>\n",
       "      <th></th>\n",
       "      <th></th>\n",
       "      <th></th>\n",
       "      <th></th>\n",
       "      <th></th>\n",
       "      <th></th>\n",
       "      <th></th>\n",
       "      <th></th>\n",
       "      <th></th>\n",
       "      <th></th>\n",
       "      <th></th>\n",
       "      <th></th>\n",
       "      <th></th>\n",
       "      <th></th>\n",
       "      <th></th>\n",
       "      <th></th>\n",
       "    </tr>\n",
       "  </thead>\n",
       "  <tbody>\n",
       "    <tr>\n",
       "      <th>A2M</th>\n",
       "      <td>1</td>\n",
       "      <td>1</td>\n",
       "      <td>0</td>\n",
       "      <td>0</td>\n",
       "      <td>0</td>\n",
       "      <td>0</td>\n",
       "      <td>0</td>\n",
       "      <td>0</td>\n",
       "      <td>0</td>\n",
       "      <td>0</td>\n",
       "      <td>...</td>\n",
       "      <td>0</td>\n",
       "      <td>0</td>\n",
       "      <td>0</td>\n",
       "      <td>0</td>\n",
       "      <td>0</td>\n",
       "      <td>0</td>\n",
       "      <td>0</td>\n",
       "      <td>0</td>\n",
       "      <td>0</td>\n",
       "      <td>0</td>\n",
       "    </tr>\n",
       "    <tr>\n",
       "      <th>A2ML1</th>\n",
       "      <td>0</td>\n",
       "      <td>0</td>\n",
       "      <td>1</td>\n",
       "      <td>0</td>\n",
       "      <td>0</td>\n",
       "      <td>0</td>\n",
       "      <td>0</td>\n",
       "      <td>0</td>\n",
       "      <td>0</td>\n",
       "      <td>0</td>\n",
       "      <td>...</td>\n",
       "      <td>0</td>\n",
       "      <td>0</td>\n",
       "      <td>0</td>\n",
       "      <td>0</td>\n",
       "      <td>0</td>\n",
       "      <td>0</td>\n",
       "      <td>0</td>\n",
       "      <td>0</td>\n",
       "      <td>0</td>\n",
       "      <td>0</td>\n",
       "    </tr>\n",
       "    <tr>\n",
       "      <th>A4GALT</th>\n",
       "      <td>0</td>\n",
       "      <td>0</td>\n",
       "      <td>0</td>\n",
       "      <td>1</td>\n",
       "      <td>0</td>\n",
       "      <td>0</td>\n",
       "      <td>0</td>\n",
       "      <td>0</td>\n",
       "      <td>0</td>\n",
       "      <td>0</td>\n",
       "      <td>...</td>\n",
       "      <td>0</td>\n",
       "      <td>0</td>\n",
       "      <td>0</td>\n",
       "      <td>0</td>\n",
       "      <td>0</td>\n",
       "      <td>0</td>\n",
       "      <td>0</td>\n",
       "      <td>0</td>\n",
       "      <td>0</td>\n",
       "      <td>0</td>\n",
       "    </tr>\n",
       "    <tr>\n",
       "      <th>AAAS</th>\n",
       "      <td>0</td>\n",
       "      <td>0</td>\n",
       "      <td>0</td>\n",
       "      <td>0</td>\n",
       "      <td>1</td>\n",
       "      <td>0</td>\n",
       "      <td>0</td>\n",
       "      <td>0</td>\n",
       "      <td>0</td>\n",
       "      <td>0</td>\n",
       "      <td>...</td>\n",
       "      <td>0</td>\n",
       "      <td>0</td>\n",
       "      <td>0</td>\n",
       "      <td>0</td>\n",
       "      <td>0</td>\n",
       "      <td>0</td>\n",
       "      <td>0</td>\n",
       "      <td>0</td>\n",
       "      <td>0</td>\n",
       "      <td>0</td>\n",
       "    </tr>\n",
       "    <tr>\n",
       "      <th>AAGAB</th>\n",
       "      <td>0</td>\n",
       "      <td>0</td>\n",
       "      <td>0</td>\n",
       "      <td>0</td>\n",
       "      <td>0</td>\n",
       "      <td>1</td>\n",
       "      <td>0</td>\n",
       "      <td>0</td>\n",
       "      <td>0</td>\n",
       "      <td>0</td>\n",
       "      <td>...</td>\n",
       "      <td>0</td>\n",
       "      <td>0</td>\n",
       "      <td>0</td>\n",
       "      <td>0</td>\n",
       "      <td>0</td>\n",
       "      <td>0</td>\n",
       "      <td>0</td>\n",
       "      <td>0</td>\n",
       "      <td>0</td>\n",
       "      <td>0</td>\n",
       "    </tr>\n",
       "  </tbody>\n",
       "</table>\n",
       "<p>5 rows × 5586 columns</p>\n",
       "</div>"
      ],
      "text/plain": [
       "        Alzheimer's disease  Alpha-2-macroglobulin deficiency  \\\n",
       "gene                                                            \n",
       "A2M                       1                                 1   \n",
       "A2ML1                     0                                 0   \n",
       "A4GALT                    0                                 0   \n",
       "AAAS                      0                                 0   \n",
       "AAGAB                     0                                 0   \n",
       "\n",
       "        Otitis media, susceptibility to  p phenotype  \\\n",
       "gene                                                   \n",
       "A2M                                   0            0   \n",
       "A2ML1                                 1            0   \n",
       "A4GALT                                0            1   \n",
       "AAAS                                  0            0   \n",
       "AAGAB                                 0            0   \n",
       "\n",
       "        Glucocorticoid deficiency with achalasia  \\\n",
       "gene                                               \n",
       "A2M                                            0   \n",
       "A2ML1                                          0   \n",
       "A4GALT                                         0   \n",
       "AAAS                                           1   \n",
       "AAGAB                                          0   \n",
       "\n",
       "        Keratosis palmoplantaris papulosa  \\\n",
       "gene                                        \n",
       "A2M                                     0   \n",
       "A2ML1                                   0   \n",
       "A4GALT                                  0   \n",
       "AAAS                                    0   \n",
       "AAGAB                                   1   \n",
       "\n",
       "        Charcot-Marie-Tooth disease, type 2N  \\\n",
       "gene                                           \n",
       "A2M                                        0   \n",
       "A2ML1                                      0   \n",
       "A4GALT                                     0   \n",
       "AAAS                                       0   \n",
       "AAGAB                                      0   \n",
       "\n",
       "        Epileptic encephalopathy, early infantile, 29  \\\n",
       "gene                                                    \n",
       "A2M                                                 0   \n",
       "A2ML1                                               0   \n",
       "A4GALT                                              0   \n",
       "AAAS                                                0   \n",
       "AAGAB                                               0   \n",
       "\n",
       "        Combined oxidative phosphorylation deficiency 8  \\\n",
       "gene                                                      \n",
       "A2M                                                   0   \n",
       "A2ML1                                                 0   \n",
       "A4GALT                                                0   \n",
       "AAAS                                                  0   \n",
       "AAGAB                                                 0   \n",
       "\n",
       "        Leukoencephalopathy, progressive, with ovarian failure  ...  \\\n",
       "gene                                                            ...   \n",
       "A2M                                                     0       ...   \n",
       "A2ML1                                                   0       ...   \n",
       "A4GALT                                                  0       ...   \n",
       "AAAS                                                    0       ...   \n",
       "AAGAB                                                   0       ...   \n",
       "\n",
       "        Myopia 21, autosomal dominant  Paget disease of bone 6  \\\n",
       "gene                                                             \n",
       "A2M                                 0                        0   \n",
       "A2ML1                               0                        0   \n",
       "A4GALT                              0                        0   \n",
       "AAAS                                0                        0   \n",
       "AAGAB                               0                        0   \n",
       "\n",
       "        ZNF711-Related X-linked Mental Retardation  \\\n",
       "gene                                                 \n",
       "A2M                                              0   \n",
       "A2ML1                                            0   \n",
       "A4GALT                                           0   \n",
       "AAAS                                             0   \n",
       "AAGAB                                            0   \n",
       "\n",
       "        Seborrhea-like dermatitis with psoriasiform elements  PEHO syndrome  \\\n",
       "gene                                                                          \n",
       "A2M                                                     0                 0   \n",
       "A2ML1                                                   0                 0   \n",
       "A4GALT                                                  0                 0   \n",
       "AAAS                                                    0                 0   \n",
       "AAGAB                                                   0                 0   \n",
       "\n",
       "        Oocyte maturation defect 1  OOCYTE MATURATION DEFECT 6  \\\n",
       "gene                                                             \n",
       "A2M                              0                           0   \n",
       "A2ML1                            0                           0   \n",
       "A4GALT                           0                           0   \n",
       "AAAS                             0                           0   \n",
       "AAGAB                            0                           0   \n",
       "\n",
       "        OOCYTE MATURATION DEFECT 3  Acromelic frontonasal dysostosis  \\\n",
       "gene                                                                   \n",
       "A2M                              0                                 0   \n",
       "A2ML1                            0                                 0   \n",
       "A4GALT                           0                                 0   \n",
       "AAAS                             0                                 0   \n",
       "AAGAB                            0                                 0   \n",
       "\n",
       "        NEURODEVELOPMENTAL DISORDER WITH MOVEMENT ABNORMALITIES, ABNORMAL GAIT, AND AUTISTIC FEATURES  \n",
       "gene                                                                                                   \n",
       "A2M                                                     0                                              \n",
       "A2ML1                                                   0                                              \n",
       "A4GALT                                                  0                                              \n",
       "AAAS                                                    0                                              \n",
       "AAGAB                                                   0                                              \n",
       "\n",
       "[5 rows x 5586 columns]"
      ]
     },
     "execution_count": 22,
     "metadata": {},
     "output_type": "execute_result"
    }
   ],
   "source": [
    "clinvar_genes_associations.head(5)"
   ]
  },
  {
   "cell_type": "markdown",
   "metadata": {
    "papermill": {
     "duration": 0.086313,
     "end_time": "2020-01-06T17:21:48.023080",
     "exception": false,
     "start_time": "2020-01-06T17:21:47.936767",
     "status": "completed"
    },
    "tags": []
   },
   "source": [
    "# Compute unique list of genes and non-empty diseases"
   ]
  },
  {
   "cell_type": "code",
   "execution_count": 23,
   "metadata": {
    "papermill": {
     "duration": 0.126726,
     "end_time": "2020-01-06T17:21:48.222104",
     "exception": false,
     "start_time": "2020-01-06T17:21:48.095378",
     "status": "completed"
    },
    "tags": []
   },
   "outputs": [
    {
     "data": {
      "text/plain": [
       "3790"
      ]
     },
     "metadata": {},
     "output_type": "display_data"
    }
   ],
   "source": [
    "clinvar_genes_to_id = pd.Index([metadata.GENE_NAME_TO_ID_MAP[x] for x in clinvar_genes_associations.index if x in metadata.GENE_NAME_TO_ID_MAP])\n",
    "display(len(clinvar_genes_to_id))"
   ]
  },
  {
   "cell_type": "code",
   "execution_count": 24,
   "metadata": {
    "papermill": {
     "duration": 0.12208,
     "end_time": "2020-01-06T17:21:48.421358",
     "exception": false,
     "start_time": "2020-01-06T17:21:48.299278",
     "status": "completed"
    },
    "tags": []
   },
   "outputs": [
    {
     "data": {
      "text/plain": [
       "3789"
      ]
     },
     "metadata": {},
     "output_type": "display_data"
    }
   ],
   "source": [
    "shared_gene_ids = clinvar_genes_to_id.intersection(smultixcan_gene_associations.index)\n",
    "display(len(shared_gene_ids))"
   ]
  },
  {
   "cell_type": "code",
   "execution_count": 25,
   "metadata": {
    "papermill": {
     "duration": 0.124893,
     "end_time": "2020-01-06T17:21:48.623563",
     "exception": false,
     "start_time": "2020-01-06T17:21:48.498670",
     "status": "completed"
    },
    "tags": []
   },
   "outputs": [
    {
     "data": {
      "text/plain": [
       "3789"
      ]
     },
     "metadata": {},
     "output_type": "display_data"
    }
   ],
   "source": [
    "shared_gene_names = pd.Index([metadata.GENE_ID_TO_NAME_MAP[x] for x in shared_gene_ids])\n",
    "display(len(shared_gene_names))"
   ]
  },
  {
   "cell_type": "code",
   "execution_count": 26,
   "metadata": {
    "papermill": {
     "duration": 0.122702,
     "end_time": "2020-01-06T17:21:48.927677",
     "exception": false,
     "start_time": "2020-01-06T17:21:48.804975",
     "status": "completed"
    },
    "tags": []
   },
   "outputs": [],
   "source": [
    "assert len(shared_gene_ids) == len(shared_gene_names)"
   ]
  },
  {
   "cell_type": "code",
   "execution_count": 27,
   "metadata": {
    "papermill": {
     "duration": 0.531795,
     "end_time": "2020-01-06T17:21:49.534468",
     "exception": false,
     "start_time": "2020-01-06T17:21:49.002673",
     "status": "completed"
    },
    "tags": []
   },
   "outputs": [],
   "source": [
    "smultixcan_gene_associations = smultixcan_gene_associations.loc[shared_gene_ids]\n",
    "clinvar_genes_associations = clinvar_genes_associations.loc[shared_gene_names]"
   ]
  },
  {
   "cell_type": "code",
   "execution_count": 28,
   "metadata": {
    "papermill": {
     "duration": 1.107486,
     "end_time": "2020-01-06T17:21:50.790747",
     "exception": false,
     "start_time": "2020-01-06T17:21:49.683261",
     "status": "completed"
    },
    "tags": []
   },
   "outputs": [
    {
     "data": {
      "text/plain": [
       "(480,)"
      ]
     },
     "metadata": {},
     "output_type": "display_data"
    }
   ],
   "source": [
    "_tmp = clinvar_genes_associations.sum()\n",
    "_clinvar_diseases_to_remove = _tmp[_tmp == 0].index\n",
    "display(_clinvar_diseases_to_remove.shape)"
   ]
  },
  {
   "cell_type": "code",
   "execution_count": 29,
   "metadata": {
    "papermill": {
     "duration": 0.190849,
     "end_time": "2020-01-06T17:21:51.078711",
     "exception": false,
     "start_time": "2020-01-06T17:21:50.887862",
     "status": "completed"
    },
    "tags": []
   },
   "outputs": [],
   "source": [
    "# remove diseases that have no-genes associated (after selecting just shared ones above)\n",
    "clinvar_genes_associations = clinvar_genes_associations.drop(columns=_clinvar_diseases_to_remove)"
   ]
  },
  {
   "cell_type": "code",
   "execution_count": 30,
   "metadata": {
    "papermill": {
     "duration": 0.630781,
     "end_time": "2020-01-06T17:21:51.783568",
     "exception": false,
     "start_time": "2020-01-06T17:21:51.152787",
     "status": "completed"
    },
    "tags": []
   },
   "outputs": [],
   "source": [
    "_tmp = clinvar_genes_associations.sum()\n",
    "assert _tmp[_tmp == 0].shape[0] == 0"
   ]
  },
  {
   "cell_type": "code",
   "execution_count": 31,
   "metadata": {
    "papermill": {
     "duration": 0.119569,
     "end_time": "2020-01-06T17:21:51.988573",
     "exception": false,
     "start_time": "2020-01-06T17:21:51.869004",
     "status": "completed"
    },
    "tags": []
   },
   "outputs": [
    {
     "data": {
      "text/plain": [
       "(3789, 4091)"
      ]
     },
     "metadata": {},
     "output_type": "display_data"
    },
    {
     "data": {
      "text/plain": [
       "(3789, 5106)"
      ]
     },
     "metadata": {},
     "output_type": "display_data"
    }
   ],
   "source": [
    "display(smultixcan_gene_associations.shape)\n",
    "display(clinvar_genes_associations.shape)"
   ]
  },
  {
   "cell_type": "markdown",
   "metadata": {
    "papermill": {
     "duration": 0.077235,
     "end_time": "2020-01-06T17:21:52.143857",
     "exception": false,
     "start_time": "2020-01-06T17:21:52.066622",
     "status": "completed"
    },
    "tags": []
   },
   "source": [
    "# ClinVar: rename genes"
   ]
  },
  {
   "cell_type": "code",
   "execution_count": 32,
   "metadata": {
    "papermill": {
     "duration": 0.145007,
     "end_time": "2020-01-06T17:21:52.365067",
     "exception": false,
     "start_time": "2020-01-06T17:21:52.220060",
     "status": "completed"
    },
    "tags": []
   },
   "outputs": [],
   "source": [
    "clinvar_genes_associations = clinvar_genes_associations.rename(index=gene_name_to_id_long)"
   ]
  },
  {
   "cell_type": "code",
   "execution_count": 33,
   "metadata": {
    "papermill": {
     "duration": 0.247098,
     "end_time": "2020-01-06T17:21:52.827026",
     "exception": false,
     "start_time": "2020-01-06T17:21:52.579928",
     "status": "completed"
    },
    "tags": []
   },
   "outputs": [
    {
     "data": {
      "text/plain": [
       "(3789, 5106)"
      ]
     },
     "execution_count": 33,
     "metadata": {},
     "output_type": "execute_result"
    }
   ],
   "source": [
    "clinvar_genes_associations.shape"
   ]
  },
  {
   "cell_type": "code",
   "execution_count": 34,
   "metadata": {
    "papermill": {
     "duration": 0.133603,
     "end_time": "2020-01-06T17:21:53.046726",
     "exception": false,
     "start_time": "2020-01-06T17:21:52.913123",
     "status": "completed"
    },
    "tags": []
   },
   "outputs": [
    {
     "data": {
      "text/html": [
       "<div>\n",
       "<style scoped>\n",
       "    .dataframe tbody tr th:only-of-type {\n",
       "        vertical-align: middle;\n",
       "    }\n",
       "\n",
       "    .dataframe tbody tr th {\n",
       "        vertical-align: top;\n",
       "    }\n",
       "\n",
       "    .dataframe thead th {\n",
       "        text-align: right;\n",
       "    }\n",
       "</style>\n",
       "<table border=\"1\" class=\"dataframe\">\n",
       "  <thead>\n",
       "    <tr style=\"text-align: right;\">\n",
       "      <th></th>\n",
       "      <th>Alzheimer's disease</th>\n",
       "      <th>Alpha-2-macroglobulin deficiency</th>\n",
       "      <th>Otitis media, susceptibility to</th>\n",
       "      <th>p phenotype</th>\n",
       "      <th>Glucocorticoid deficiency with achalasia</th>\n",
       "      <th>Keratosis palmoplantaris papulosa</th>\n",
       "      <th>Charcot-Marie-Tooth disease, type 2N</th>\n",
       "      <th>Epileptic encephalopathy, early infantile, 29</th>\n",
       "      <th>Combined oxidative phosphorylation deficiency 8</th>\n",
       "      <th>Leukoencephalopathy, progressive, with ovarian failure</th>\n",
       "      <th>...</th>\n",
       "      <th>Retinitis pigmentosa 58</th>\n",
       "      <th>Myopia 21, autosomal dominant</th>\n",
       "      <th>Paget disease of bone 6</th>\n",
       "      <th>Seborrhea-like dermatitis with psoriasiform elements</th>\n",
       "      <th>PEHO syndrome</th>\n",
       "      <th>Oocyte maturation defect 1</th>\n",
       "      <th>OOCYTE MATURATION DEFECT 6</th>\n",
       "      <th>OOCYTE MATURATION DEFECT 3</th>\n",
       "      <th>Acromelic frontonasal dysostosis</th>\n",
       "      <th>NEURODEVELOPMENTAL DISORDER WITH MOVEMENT ABNORMALITIES, ABNORMAL GAIT, AND AUTISTIC FEATURES</th>\n",
       "    </tr>\n",
       "  </thead>\n",
       "  <tbody>\n",
       "    <tr>\n",
       "      <th>ENSG00000175899.14</th>\n",
       "      <td>1</td>\n",
       "      <td>1</td>\n",
       "      <td>0</td>\n",
       "      <td>0</td>\n",
       "      <td>0</td>\n",
       "      <td>0</td>\n",
       "      <td>0</td>\n",
       "      <td>0</td>\n",
       "      <td>0</td>\n",
       "      <td>0</td>\n",
       "      <td>...</td>\n",
       "      <td>0</td>\n",
       "      <td>0</td>\n",
       "      <td>0</td>\n",
       "      <td>0</td>\n",
       "      <td>0</td>\n",
       "      <td>0</td>\n",
       "      <td>0</td>\n",
       "      <td>0</td>\n",
       "      <td>0</td>\n",
       "      <td>0</td>\n",
       "    </tr>\n",
       "    <tr>\n",
       "      <th>ENSG00000166535.19</th>\n",
       "      <td>0</td>\n",
       "      <td>0</td>\n",
       "      <td>1</td>\n",
       "      <td>0</td>\n",
       "      <td>0</td>\n",
       "      <td>0</td>\n",
       "      <td>0</td>\n",
       "      <td>0</td>\n",
       "      <td>0</td>\n",
       "      <td>0</td>\n",
       "      <td>...</td>\n",
       "      <td>0</td>\n",
       "      <td>0</td>\n",
       "      <td>0</td>\n",
       "      <td>0</td>\n",
       "      <td>0</td>\n",
       "      <td>0</td>\n",
       "      <td>0</td>\n",
       "      <td>0</td>\n",
       "      <td>0</td>\n",
       "      <td>0</td>\n",
       "    </tr>\n",
       "    <tr>\n",
       "      <th>ENSG00000128274.15</th>\n",
       "      <td>0</td>\n",
       "      <td>0</td>\n",
       "      <td>0</td>\n",
       "      <td>1</td>\n",
       "      <td>0</td>\n",
       "      <td>0</td>\n",
       "      <td>0</td>\n",
       "      <td>0</td>\n",
       "      <td>0</td>\n",
       "      <td>0</td>\n",
       "      <td>...</td>\n",
       "      <td>0</td>\n",
       "      <td>0</td>\n",
       "      <td>0</td>\n",
       "      <td>0</td>\n",
       "      <td>0</td>\n",
       "      <td>0</td>\n",
       "      <td>0</td>\n",
       "      <td>0</td>\n",
       "      <td>0</td>\n",
       "      <td>0</td>\n",
       "    </tr>\n",
       "    <tr>\n",
       "      <th>ENSG00000094914.12</th>\n",
       "      <td>0</td>\n",
       "      <td>0</td>\n",
       "      <td>0</td>\n",
       "      <td>0</td>\n",
       "      <td>1</td>\n",
       "      <td>0</td>\n",
       "      <td>0</td>\n",
       "      <td>0</td>\n",
       "      <td>0</td>\n",
       "      <td>0</td>\n",
       "      <td>...</td>\n",
       "      <td>0</td>\n",
       "      <td>0</td>\n",
       "      <td>0</td>\n",
       "      <td>0</td>\n",
       "      <td>0</td>\n",
       "      <td>0</td>\n",
       "      <td>0</td>\n",
       "      <td>0</td>\n",
       "      <td>0</td>\n",
       "      <td>0</td>\n",
       "    </tr>\n",
       "    <tr>\n",
       "      <th>ENSG00000103591.12</th>\n",
       "      <td>0</td>\n",
       "      <td>0</td>\n",
       "      <td>0</td>\n",
       "      <td>0</td>\n",
       "      <td>0</td>\n",
       "      <td>1</td>\n",
       "      <td>0</td>\n",
       "      <td>0</td>\n",
       "      <td>0</td>\n",
       "      <td>0</td>\n",
       "      <td>...</td>\n",
       "      <td>0</td>\n",
       "      <td>0</td>\n",
       "      <td>0</td>\n",
       "      <td>0</td>\n",
       "      <td>0</td>\n",
       "      <td>0</td>\n",
       "      <td>0</td>\n",
       "      <td>0</td>\n",
       "      <td>0</td>\n",
       "      <td>0</td>\n",
       "    </tr>\n",
       "  </tbody>\n",
       "</table>\n",
       "<p>5 rows × 5106 columns</p>\n",
       "</div>"
      ],
      "text/plain": [
       "                    Alzheimer's disease  Alpha-2-macroglobulin deficiency  \\\n",
       "ENSG00000175899.14                    1                                 1   \n",
       "ENSG00000166535.19                    0                                 0   \n",
       "ENSG00000128274.15                    0                                 0   \n",
       "ENSG00000094914.12                    0                                 0   \n",
       "ENSG00000103591.12                    0                                 0   \n",
       "\n",
       "                    Otitis media, susceptibility to  p phenotype  \\\n",
       "ENSG00000175899.14                                0            0   \n",
       "ENSG00000166535.19                                1            0   \n",
       "ENSG00000128274.15                                0            1   \n",
       "ENSG00000094914.12                                0            0   \n",
       "ENSG00000103591.12                                0            0   \n",
       "\n",
       "                    Glucocorticoid deficiency with achalasia  \\\n",
       "ENSG00000175899.14                                         0   \n",
       "ENSG00000166535.19                                         0   \n",
       "ENSG00000128274.15                                         0   \n",
       "ENSG00000094914.12                                         1   \n",
       "ENSG00000103591.12                                         0   \n",
       "\n",
       "                    Keratosis palmoplantaris papulosa  \\\n",
       "ENSG00000175899.14                                  0   \n",
       "ENSG00000166535.19                                  0   \n",
       "ENSG00000128274.15                                  0   \n",
       "ENSG00000094914.12                                  0   \n",
       "ENSG00000103591.12                                  1   \n",
       "\n",
       "                    Charcot-Marie-Tooth disease, type 2N  \\\n",
       "ENSG00000175899.14                                     0   \n",
       "ENSG00000166535.19                                     0   \n",
       "ENSG00000128274.15                                     0   \n",
       "ENSG00000094914.12                                     0   \n",
       "ENSG00000103591.12                                     0   \n",
       "\n",
       "                    Epileptic encephalopathy, early infantile, 29  \\\n",
       "ENSG00000175899.14                                              0   \n",
       "ENSG00000166535.19                                              0   \n",
       "ENSG00000128274.15                                              0   \n",
       "ENSG00000094914.12                                              0   \n",
       "ENSG00000103591.12                                              0   \n",
       "\n",
       "                    Combined oxidative phosphorylation deficiency 8  \\\n",
       "ENSG00000175899.14                                                0   \n",
       "ENSG00000166535.19                                                0   \n",
       "ENSG00000128274.15                                                0   \n",
       "ENSG00000094914.12                                                0   \n",
       "ENSG00000103591.12                                                0   \n",
       "\n",
       "                    Leukoencephalopathy, progressive, with ovarian failure  \\\n",
       "ENSG00000175899.14                                                  0        \n",
       "ENSG00000166535.19                                                  0        \n",
       "ENSG00000128274.15                                                  0        \n",
       "ENSG00000094914.12                                                  0        \n",
       "ENSG00000103591.12                                                  0        \n",
       "\n",
       "                    ...  Retinitis pigmentosa 58  \\\n",
       "ENSG00000175899.14  ...                        0   \n",
       "ENSG00000166535.19  ...                        0   \n",
       "ENSG00000128274.15  ...                        0   \n",
       "ENSG00000094914.12  ...                        0   \n",
       "ENSG00000103591.12  ...                        0   \n",
       "\n",
       "                    Myopia 21, autosomal dominant  Paget disease of bone 6  \\\n",
       "ENSG00000175899.14                              0                        0   \n",
       "ENSG00000166535.19                              0                        0   \n",
       "ENSG00000128274.15                              0                        0   \n",
       "ENSG00000094914.12                              0                        0   \n",
       "ENSG00000103591.12                              0                        0   \n",
       "\n",
       "                    Seborrhea-like dermatitis with psoriasiform elements  \\\n",
       "ENSG00000175899.14                                                  0      \n",
       "ENSG00000166535.19                                                  0      \n",
       "ENSG00000128274.15                                                  0      \n",
       "ENSG00000094914.12                                                  0      \n",
       "ENSG00000103591.12                                                  0      \n",
       "\n",
       "                    PEHO syndrome  Oocyte maturation defect 1  \\\n",
       "ENSG00000175899.14              0                           0   \n",
       "ENSG00000166535.19              0                           0   \n",
       "ENSG00000128274.15              0                           0   \n",
       "ENSG00000094914.12              0                           0   \n",
       "ENSG00000103591.12              0                           0   \n",
       "\n",
       "                    OOCYTE MATURATION DEFECT 6  OOCYTE MATURATION DEFECT 3  \\\n",
       "ENSG00000175899.14                           0                           0   \n",
       "ENSG00000166535.19                           0                           0   \n",
       "ENSG00000128274.15                           0                           0   \n",
       "ENSG00000094914.12                           0                           0   \n",
       "ENSG00000103591.12                           0                           0   \n",
       "\n",
       "                    Acromelic frontonasal dysostosis  \\\n",
       "ENSG00000175899.14                                 0   \n",
       "ENSG00000166535.19                                 0   \n",
       "ENSG00000128274.15                                 0   \n",
       "ENSG00000094914.12                                 0   \n",
       "ENSG00000103591.12                                 0   \n",
       "\n",
       "                    NEURODEVELOPMENTAL DISORDER WITH MOVEMENT ABNORMALITIES, ABNORMAL GAIT, AND AUTISTIC FEATURES  \n",
       "ENSG00000175899.14                                                  0                                              \n",
       "ENSG00000166535.19                                                  0                                              \n",
       "ENSG00000128274.15                                                  0                                              \n",
       "ENSG00000094914.12                                                  0                                              \n",
       "ENSG00000103591.12                                                  0                                              \n",
       "\n",
       "[5 rows x 5106 columns]"
      ]
     },
     "execution_count": 34,
     "metadata": {},
     "output_type": "execute_result"
    }
   ],
   "source": [
    "clinvar_genes_associations.head()"
   ]
  },
  {
   "cell_type": "code",
   "execution_count": 35,
   "metadata": {
    "papermill": {
     "duration": 0.111079,
     "end_time": "2020-01-06T17:21:53.237005",
     "exception": false,
     "start_time": "2020-01-06T17:21:53.125926",
     "status": "completed"
    },
    "tags": []
   },
   "outputs": [],
   "source": [
    "assert clinvar_genes_associations.index.is_unique\n",
    "assert clinvar_genes_associations.columns.is_unique"
   ]
  },
  {
   "cell_type": "markdown",
   "metadata": {
    "papermill": {
     "duration": 0.080534,
     "end_time": "2020-01-06T17:21:53.394939",
     "exception": false,
     "start_time": "2020-01-06T17:21:53.314405",
     "status": "completed"
    },
    "tags": []
   },
   "source": [
    "# ClinVar genes per trait"
   ]
  },
  {
   "cell_type": "code",
   "execution_count": 36,
   "metadata": {
    "papermill": {
     "duration": 1.844528,
     "end_time": "2020-01-06T17:21:55.317655",
     "exception": false,
     "start_time": "2020-01-06T17:21:53.473127",
     "status": "completed"
    },
    "tags": []
   },
   "outputs": [],
   "source": [
    "clinvar_genes = clinvar_genes_associations.unstack().to_frame('associated')"
   ]
  },
  {
   "cell_type": "code",
   "execution_count": 37,
   "metadata": {
    "papermill": {
     "duration": 0.110868,
     "end_time": "2020-01-06T17:21:55.615918",
     "exception": false,
     "start_time": "2020-01-06T17:21:55.505050",
     "status": "completed"
    },
    "tags": []
   },
   "outputs": [
    {
     "data": {
      "text/plain": [
       "(19346634, 1)"
      ]
     },
     "execution_count": 37,
     "metadata": {},
     "output_type": "execute_result"
    }
   ],
   "source": [
    "clinvar_genes.shape"
   ]
  },
  {
   "cell_type": "code",
   "execution_count": 38,
   "metadata": {
    "papermill": {
     "duration": 0.124994,
     "end_time": "2020-01-06T17:21:55.816696",
     "exception": false,
     "start_time": "2020-01-06T17:21:55.691702",
     "status": "completed"
    },
    "tags": []
   },
   "outputs": [],
   "source": [
    "assert clinvar_genes.shape[0] == clinvar_genes_associations.size"
   ]
  },
  {
   "cell_type": "code",
   "execution_count": 39,
   "metadata": {
    "papermill": {
     "duration": 0.10873,
     "end_time": "2020-01-06T17:21:56.009297",
     "exception": false,
     "start_time": "2020-01-06T17:21:55.900567",
     "status": "completed"
    },
    "tags": []
   },
   "outputs": [
    {
     "data": {
      "text/html": [
       "<div>\n",
       "<style scoped>\n",
       "    .dataframe tbody tr th:only-of-type {\n",
       "        vertical-align: middle;\n",
       "    }\n",
       "\n",
       "    .dataframe tbody tr th {\n",
       "        vertical-align: top;\n",
       "    }\n",
       "\n",
       "    .dataframe thead th {\n",
       "        text-align: right;\n",
       "    }\n",
       "</style>\n",
       "<table border=\"1\" class=\"dataframe\">\n",
       "  <thead>\n",
       "    <tr style=\"text-align: right;\">\n",
       "      <th></th>\n",
       "      <th></th>\n",
       "      <th>associated</th>\n",
       "    </tr>\n",
       "  </thead>\n",
       "  <tbody>\n",
       "    <tr>\n",
       "      <th rowspan=\"5\" valign=\"top\">Alzheimer's disease</th>\n",
       "      <th>ENSG00000175899.14</th>\n",
       "      <td>1</td>\n",
       "    </tr>\n",
       "    <tr>\n",
       "      <th>ENSG00000166535.19</th>\n",
       "      <td>0</td>\n",
       "    </tr>\n",
       "    <tr>\n",
       "      <th>ENSG00000128274.15</th>\n",
       "      <td>0</td>\n",
       "    </tr>\n",
       "    <tr>\n",
       "      <th>ENSG00000094914.12</th>\n",
       "      <td>0</td>\n",
       "    </tr>\n",
       "    <tr>\n",
       "      <th>ENSG00000103591.12</th>\n",
       "      <td>0</td>\n",
       "    </tr>\n",
       "  </tbody>\n",
       "</table>\n",
       "</div>"
      ],
      "text/plain": [
       "                                        associated\n",
       "Alzheimer's disease ENSG00000175899.14           1\n",
       "                    ENSG00000166535.19           0\n",
       "                    ENSG00000128274.15           0\n",
       "                    ENSG00000094914.12           0\n",
       "                    ENSG00000103591.12           0"
      ]
     },
     "execution_count": 39,
     "metadata": {},
     "output_type": "execute_result"
    }
   ],
   "source": [
    "clinvar_genes.head()"
   ]
  },
  {
   "cell_type": "code",
   "execution_count": 40,
   "metadata": {
    "papermill": {
     "duration": 0.185828,
     "end_time": "2020-01-06T17:21:56.275402",
     "exception": false,
     "start_time": "2020-01-06T17:21:56.089574",
     "status": "completed"
    },
    "tags": []
   },
   "outputs": [],
   "source": [
    "clinvar_genes = clinvar_genes[clinvar_genes['associated'] == 1].reset_index().rename(columns={'level_0': 'clinvar_trait', 'level_1': 'gene'}).drop(columns=['associated'])"
   ]
  },
  {
   "cell_type": "code",
   "execution_count": 41,
   "metadata": {
    "papermill": {
     "duration": 0.198273,
     "end_time": "2020-01-06T17:21:56.641011",
     "exception": false,
     "start_time": "2020-01-06T17:21:56.442738",
     "status": "completed"
    },
    "tags": []
   },
   "outputs": [
    {
     "data": {
      "text/plain": [
       "(5921, 2)"
      ]
     },
     "execution_count": 41,
     "metadata": {},
     "output_type": "execute_result"
    }
   ],
   "source": [
    "clinvar_genes.shape"
   ]
  },
  {
   "cell_type": "code",
   "execution_count": 42,
   "metadata": {
    "papermill": {
     "duration": 0.127424,
     "end_time": "2020-01-06T17:21:56.931538",
     "exception": false,
     "start_time": "2020-01-06T17:21:56.804114",
     "status": "completed"
    },
    "tags": []
   },
   "outputs": [
    {
     "data": {
      "text/html": [
       "<div>\n",
       "<style scoped>\n",
       "    .dataframe tbody tr th:only-of-type {\n",
       "        vertical-align: middle;\n",
       "    }\n",
       "\n",
       "    .dataframe tbody tr th {\n",
       "        vertical-align: top;\n",
       "    }\n",
       "\n",
       "    .dataframe thead th {\n",
       "        text-align: right;\n",
       "    }\n",
       "</style>\n",
       "<table border=\"1\" class=\"dataframe\">\n",
       "  <thead>\n",
       "    <tr style=\"text-align: right;\">\n",
       "      <th></th>\n",
       "      <th>clinvar_trait</th>\n",
       "      <th>gene</th>\n",
       "    </tr>\n",
       "  </thead>\n",
       "  <tbody>\n",
       "    <tr>\n",
       "      <th>0</th>\n",
       "      <td>Alzheimer's disease</td>\n",
       "      <td>ENSG00000175899.14</td>\n",
       "    </tr>\n",
       "    <tr>\n",
       "      <th>1</th>\n",
       "      <td>Alzheimer's disease</td>\n",
       "      <td>ENSG00000142192.20</td>\n",
       "    </tr>\n",
       "    <tr>\n",
       "      <th>2</th>\n",
       "      <td>Alzheimer's disease</td>\n",
       "      <td>ENSG00000010704.18</td>\n",
       "    </tr>\n",
       "    <tr>\n",
       "      <th>3</th>\n",
       "      <td>Alzheimer's disease</td>\n",
       "      <td>ENSG00000005381.7</td>\n",
       "    </tr>\n",
       "    <tr>\n",
       "      <th>4</th>\n",
       "      <td>Alzheimer's disease</td>\n",
       "      <td>ENSG00000164867.10</td>\n",
       "    </tr>\n",
       "  </tbody>\n",
       "</table>\n",
       "</div>"
      ],
      "text/plain": [
       "         clinvar_trait                gene\n",
       "0  Alzheimer's disease  ENSG00000175899.14\n",
       "1  Alzheimer's disease  ENSG00000142192.20\n",
       "2  Alzheimer's disease  ENSG00000010704.18\n",
       "3  Alzheimer's disease   ENSG00000005381.7\n",
       "4  Alzheimer's disease  ENSG00000164867.10"
      ]
     },
     "execution_count": 42,
     "metadata": {},
     "output_type": "execute_result"
    }
   ],
   "source": [
    "clinvar_genes.head()"
   ]
  },
  {
   "cell_type": "code",
   "execution_count": 43,
   "metadata": {
    "papermill": {
     "duration": 0.106514,
     "end_time": "2020-01-06T17:21:57.115504",
     "exception": false,
     "start_time": "2020-01-06T17:21:57.008990",
     "status": "completed"
    },
    "tags": []
   },
   "outputs": [],
   "source": [
    "clinvar_genes = clinvar_genes.assign(gene_name=clinvar_genes['gene'].apply(lambda x: gene_id_long_to_name[x]))"
   ]
  },
  {
   "cell_type": "code",
   "execution_count": 44,
   "metadata": {
    "papermill": {
     "duration": 0.136921,
     "end_time": "2020-01-06T17:21:57.331325",
     "exception": false,
     "start_time": "2020-01-06T17:21:57.194404",
     "status": "completed"
    },
    "tags": []
   },
   "outputs": [],
   "source": [
    "clinvar_genes = clinvar_genes.assign(gene_band=clinvar_genes['gene'].apply(lambda x: gene_id_long_to_band[x]))"
   ]
  },
  {
   "cell_type": "code",
   "execution_count": 45,
   "metadata": {
    "papermill": {
     "duration": 0.11353,
     "end_time": "2020-01-06T17:21:57.524194",
     "exception": false,
     "start_time": "2020-01-06T17:21:57.410664",
     "status": "completed"
    },
    "tags": []
   },
   "outputs": [
    {
     "data": {
      "text/html": [
       "<div>\n",
       "<style scoped>\n",
       "    .dataframe tbody tr th:only-of-type {\n",
       "        vertical-align: middle;\n",
       "    }\n",
       "\n",
       "    .dataframe tbody tr th {\n",
       "        vertical-align: top;\n",
       "    }\n",
       "\n",
       "    .dataframe thead th {\n",
       "        text-align: right;\n",
       "    }\n",
       "</style>\n",
       "<table border=\"1\" class=\"dataframe\">\n",
       "  <thead>\n",
       "    <tr style=\"text-align: right;\">\n",
       "      <th></th>\n",
       "      <th>clinvar_trait</th>\n",
       "      <th>gene</th>\n",
       "      <th>gene_name</th>\n",
       "      <th>gene_band</th>\n",
       "    </tr>\n",
       "  </thead>\n",
       "  <tbody>\n",
       "    <tr>\n",
       "      <th>0</th>\n",
       "      <td>Alzheimer's disease</td>\n",
       "      <td>ENSG00000175899.14</td>\n",
       "      <td>A2M</td>\n",
       "      <td>12p13.31</td>\n",
       "    </tr>\n",
       "    <tr>\n",
       "      <th>1</th>\n",
       "      <td>Alzheimer's disease</td>\n",
       "      <td>ENSG00000142192.20</td>\n",
       "      <td>APP</td>\n",
       "      <td>21q21.3</td>\n",
       "    </tr>\n",
       "    <tr>\n",
       "      <th>2</th>\n",
       "      <td>Alzheimer's disease</td>\n",
       "      <td>ENSG00000010704.18</td>\n",
       "      <td>HFE</td>\n",
       "      <td>6p22.2</td>\n",
       "    </tr>\n",
       "    <tr>\n",
       "      <th>3</th>\n",
       "      <td>Alzheimer's disease</td>\n",
       "      <td>ENSG00000005381.7</td>\n",
       "      <td>MPO</td>\n",
       "      <td>17q22</td>\n",
       "    </tr>\n",
       "    <tr>\n",
       "      <th>4</th>\n",
       "      <td>Alzheimer's disease</td>\n",
       "      <td>ENSG00000164867.10</td>\n",
       "      <td>NOS3</td>\n",
       "      <td>7q36.1</td>\n",
       "    </tr>\n",
       "  </tbody>\n",
       "</table>\n",
       "</div>"
      ],
      "text/plain": [
       "         clinvar_trait                gene gene_name gene_band\n",
       "0  Alzheimer's disease  ENSG00000175899.14       A2M  12p13.31\n",
       "1  Alzheimer's disease  ENSG00000142192.20       APP   21q21.3\n",
       "2  Alzheimer's disease  ENSG00000010704.18       HFE    6p22.2\n",
       "3  Alzheimer's disease   ENSG00000005381.7       MPO     17q22\n",
       "4  Alzheimer's disease  ENSG00000164867.10      NOS3    7q36.1"
      ]
     },
     "execution_count": 45,
     "metadata": {},
     "output_type": "execute_result"
    }
   ],
   "source": [
    "clinvar_genes.head()"
   ]
  },
  {
   "cell_type": "code",
   "execution_count": 46,
   "metadata": {
    "papermill": {
     "duration": 0.11323,
     "end_time": "2020-01-06T17:21:57.721379",
     "exception": false,
     "start_time": "2020-01-06T17:21:57.608149",
     "status": "completed"
    },
    "tags": []
   },
   "outputs": [],
   "source": [
    "assert clinvar_genes.drop_duplicates().shape == clinvar_genes.shape"
   ]
  },
  {
   "cell_type": "code",
   "execution_count": 47,
   "metadata": {
    "papermill": {
     "duration": 0.109722,
     "end_time": "2020-01-06T17:21:57.925172",
     "exception": false,
     "start_time": "2020-01-06T17:21:57.815450",
     "status": "completed"
    },
    "tags": []
   },
   "outputs": [],
   "source": [
    "def _format_gene(x):\n",
    "    return pd.Series([\n",
    "        ', '.join(x.gene.values),\n",
    "        ', '.join([f'{g} ({b})' for g, b in zip(x.gene_name.values, x.gene_band.values)]),\n",
    "    ], index=['gene_ids', 'gene_names'])"
   ]
  },
  {
   "cell_type": "code",
   "execution_count": 48,
   "metadata": {
    "papermill": {
     "duration": 4.199689,
     "end_time": "2020-01-06T17:22:02.203600",
     "exception": false,
     "start_time": "2020-01-06T17:21:58.003911",
     "status": "completed"
    },
    "tags": []
   },
   "outputs": [],
   "source": [
    "clinvar_genes_grp = clinvar_genes.groupby('clinvar_trait').apply(_format_gene)"
   ]
  },
  {
   "cell_type": "code",
   "execution_count": 49,
   "metadata": {
    "papermill": {
     "duration": 0.106296,
     "end_time": "2020-01-06T17:22:02.395746",
     "exception": false,
     "start_time": "2020-01-06T17:22:02.289450",
     "status": "completed"
    },
    "tags": []
   },
   "outputs": [
    {
     "data": {
      "text/plain": [
       "(5106, 2)"
      ]
     },
     "execution_count": 49,
     "metadata": {},
     "output_type": "execute_result"
    }
   ],
   "source": [
    "clinvar_genes_grp.shape"
   ]
  },
  {
   "cell_type": "code",
   "execution_count": 50,
   "metadata": {
    "papermill": {
     "duration": 0.131711,
     "end_time": "2020-01-06T17:22:02.606355",
     "exception": false,
     "start_time": "2020-01-06T17:22:02.474644",
     "status": "completed"
    },
    "tags": []
   },
   "outputs": [
    {
     "data": {
      "text/html": [
       "<div>\n",
       "<style scoped>\n",
       "    .dataframe tbody tr th:only-of-type {\n",
       "        vertical-align: middle;\n",
       "    }\n",
       "\n",
       "    .dataframe tbody tr th {\n",
       "        vertical-align: top;\n",
       "    }\n",
       "\n",
       "    .dataframe thead th {\n",
       "        text-align: right;\n",
       "    }\n",
       "</style>\n",
       "<table border=\"1\" class=\"dataframe\">\n",
       "  <thead>\n",
       "    <tr style=\"text-align: right;\">\n",
       "      <th></th>\n",
       "      <th>gene_ids</th>\n",
       "      <th>gene_names</th>\n",
       "    </tr>\n",
       "    <tr>\n",
       "      <th>clinvar_trait</th>\n",
       "      <th></th>\n",
       "      <th></th>\n",
       "    </tr>\n",
       "  </thead>\n",
       "  <tbody>\n",
       "    <tr>\n",
       "      <th>15q13.3 microdeletion syndrome</th>\n",
       "      <td>ENSG00000175344.17, ENSG00000169926.10</td>\n",
       "      <td>CHRNA7 (15q13.3), KLF13 (15q13.3)</td>\n",
       "    </tr>\n",
       "    <tr>\n",
       "      <th>1q21.1 recurrent microdeletion</th>\n",
       "      <td>ENSG00000265107.2, ENSG00000121634.5</td>\n",
       "      <td>GJA5 (1q21.2), GJA8 (1q21.2)</td>\n",
       "    </tr>\n",
       "    <tr>\n",
       "      <th>2,4-Dienoyl-CoA reductase deficiency</th>\n",
       "      <td>ENSG00000152620.12</td>\n",
       "      <td>NADK2 (5p13.2)</td>\n",
       "    </tr>\n",
       "    <tr>\n",
       "      <th>2-aminoadipic 2-oxoadipic aciduria</th>\n",
       "      <td>ENSG00000181192.11</td>\n",
       "      <td>DHTKD1 (10p14)</td>\n",
       "    </tr>\n",
       "    <tr>\n",
       "      <th>22q13.3 deletion syndrome</th>\n",
       "      <td>ENSG00000251322.7</td>\n",
       "      <td>SHANK3 (22q13.33)</td>\n",
       "    </tr>\n",
       "  </tbody>\n",
       "</table>\n",
       "</div>"
      ],
      "text/plain": [
       "                                                                    gene_ids  \\\n",
       "clinvar_trait                                                                  \n",
       "15q13.3 microdeletion syndrome        ENSG00000175344.17, ENSG00000169926.10   \n",
       "1q21.1 recurrent microdeletion          ENSG00000265107.2, ENSG00000121634.5   \n",
       "2,4-Dienoyl-CoA reductase deficiency                      ENSG00000152620.12   \n",
       "2-aminoadipic 2-oxoadipic aciduria                        ENSG00000181192.11   \n",
       "22q13.3 deletion syndrome                                  ENSG00000251322.7   \n",
       "\n",
       "                                                             gene_names  \n",
       "clinvar_trait                                                            \n",
       "15q13.3 microdeletion syndrome        CHRNA7 (15q13.3), KLF13 (15q13.3)  \n",
       "1q21.1 recurrent microdeletion             GJA5 (1q21.2), GJA8 (1q21.2)  \n",
       "2,4-Dienoyl-CoA reductase deficiency                     NADK2 (5p13.2)  \n",
       "2-aminoadipic 2-oxoadipic aciduria                       DHTKD1 (10p14)  \n",
       "22q13.3 deletion syndrome                             SHANK3 (22q13.33)  "
      ]
     },
     "execution_count": 50,
     "metadata": {},
     "output_type": "execute_result"
    }
   ],
   "source": [
    "clinvar_genes_grp.head()"
   ]
  },
  {
   "cell_type": "code",
   "execution_count": 51,
   "metadata": {
    "papermill": {
     "duration": 0.104521,
     "end_time": "2020-01-06T17:22:02.798724",
     "exception": false,
     "start_time": "2020-01-06T17:22:02.694203",
     "status": "completed"
    },
    "tags": []
   },
   "outputs": [],
   "source": [
    "assert clinvar_genes_grp.index.is_unique"
   ]
  },
  {
   "cell_type": "markdown",
   "metadata": {
    "papermill": {
     "duration": 0.07952,
     "end_time": "2020-01-06T17:22:02.959390",
     "exception": false,
     "start_time": "2020-01-06T17:22:02.879870",
     "status": "completed"
    },
    "tags": []
   },
   "source": [
    "### Save"
   ]
  },
  {
   "cell_type": "code",
   "execution_count": 52,
   "metadata": {
    "papermill": {
     "duration": 0.108618,
     "end_time": "2020-01-06T17:22:03.145743",
     "exception": false,
     "start_time": "2020-01-06T17:22:03.037125",
     "status": "completed"
    },
    "tags": []
   },
   "outputs": [],
   "source": [
    "clinvar_traits = clinvar_genes_grp[['gene_names']].reset_index()\n",
    "clinvar_traits.index.rename('id', inplace=True)"
   ]
  },
  {
   "cell_type": "code",
   "execution_count": 53,
   "metadata": {
    "papermill": {
     "duration": 0.108161,
     "end_time": "2020-01-06T17:22:03.332834",
     "exception": false,
     "start_time": "2020-01-06T17:22:03.224673",
     "status": "completed"
    },
    "tags": []
   },
   "outputs": [],
   "source": [
    "clinvar_traits = clinvar_traits.rename(columns={\n",
    "    'clinvar_traits': 'description',\n",
    "    'gene_names': 'genes_info',\n",
    "})"
   ]
  },
  {
   "cell_type": "code",
   "execution_count": 54,
   "metadata": {
    "papermill": {
     "duration": 0.114459,
     "end_time": "2020-01-06T17:22:03.530795",
     "exception": false,
     "start_time": "2020-01-06T17:22:03.416336",
     "status": "completed"
    },
    "tags": []
   },
   "outputs": [
    {
     "data": {
      "text/plain": [
       "(5106, 2)"
      ]
     },
     "metadata": {},
     "output_type": "display_data"
    },
    {
     "data": {
      "text/html": [
       "<div>\n",
       "<style scoped>\n",
       "    .dataframe tbody tr th:only-of-type {\n",
       "        vertical-align: middle;\n",
       "    }\n",
       "\n",
       "    .dataframe tbody tr th {\n",
       "        vertical-align: top;\n",
       "    }\n",
       "\n",
       "    .dataframe thead th {\n",
       "        text-align: right;\n",
       "    }\n",
       "</style>\n",
       "<table border=\"1\" class=\"dataframe\">\n",
       "  <thead>\n",
       "    <tr style=\"text-align: right;\">\n",
       "      <th></th>\n",
       "      <th>clinvar_trait</th>\n",
       "      <th>genes_info</th>\n",
       "    </tr>\n",
       "    <tr>\n",
       "      <th>id</th>\n",
       "      <th></th>\n",
       "      <th></th>\n",
       "    </tr>\n",
       "  </thead>\n",
       "  <tbody>\n",
       "    <tr>\n",
       "      <th>0</th>\n",
       "      <td>15q13.3 microdeletion syndrome</td>\n",
       "      <td>CHRNA7 (15q13.3), KLF13 (15q13.3)</td>\n",
       "    </tr>\n",
       "    <tr>\n",
       "      <th>1</th>\n",
       "      <td>1q21.1 recurrent microdeletion</td>\n",
       "      <td>GJA5 (1q21.2), GJA8 (1q21.2)</td>\n",
       "    </tr>\n",
       "    <tr>\n",
       "      <th>2</th>\n",
       "      <td>2,4-Dienoyl-CoA reductase deficiency</td>\n",
       "      <td>NADK2 (5p13.2)</td>\n",
       "    </tr>\n",
       "    <tr>\n",
       "      <th>3</th>\n",
       "      <td>2-aminoadipic 2-oxoadipic aciduria</td>\n",
       "      <td>DHTKD1 (10p14)</td>\n",
       "    </tr>\n",
       "    <tr>\n",
       "      <th>4</th>\n",
       "      <td>22q13.3 deletion syndrome</td>\n",
       "      <td>SHANK3 (22q13.33)</td>\n",
       "    </tr>\n",
       "  </tbody>\n",
       "</table>\n",
       "</div>"
      ],
      "text/plain": [
       "                           clinvar_trait                         genes_info\n",
       "id                                                                         \n",
       "0         15q13.3 microdeletion syndrome  CHRNA7 (15q13.3), KLF13 (15q13.3)\n",
       "1         1q21.1 recurrent microdeletion       GJA5 (1q21.2), GJA8 (1q21.2)\n",
       "2   2,4-Dienoyl-CoA reductase deficiency                     NADK2 (5p13.2)\n",
       "3     2-aminoadipic 2-oxoadipic aciduria                     DHTKD1 (10p14)\n",
       "4              22q13.3 deletion syndrome                  SHANK3 (22q13.33)"
      ]
     },
     "metadata": {},
     "output_type": "display_data"
    }
   ],
   "source": [
    "display(clinvar_traits.shape)\n",
    "display(clinvar_traits.head())"
   ]
  },
  {
   "cell_type": "code",
   "execution_count": 55,
   "metadata": {
    "papermill": {
     "duration": 0.109257,
     "end_time": "2020-01-06T17:22:03.724027",
     "exception": false,
     "start_time": "2020-01-06T17:22:03.614770",
     "status": "completed"
    },
    "tags": []
   },
   "outputs": [
    {
     "data": {
      "text/plain": [
       "'/mnt/phenomexcan_base/webapp/ukb_clinvar-clinvar_traits.tsv'"
      ]
     },
     "metadata": {},
     "output_type": "display_data"
    }
   ],
   "source": [
    "output_file = os.path.join(conf.WEBAPP_DIR, 'ukb_clinvar-clinvar_traits.tsv')\n",
    "display(output_file)"
   ]
  },
  {
   "cell_type": "code",
   "execution_count": 56,
   "metadata": {
    "papermill": {
     "duration": 0.130948,
     "end_time": "2020-01-06T17:22:03.942709",
     "exception": false,
     "start_time": "2020-01-06T17:22:03.811761",
     "status": "completed"
    },
    "tags": []
   },
   "outputs": [],
   "source": [
    "clinvar_traits.to_csv(output_file, sep='\\t')"
   ]
  },
  {
   "cell_type": "code",
   "execution_count": 57,
   "metadata": {
    "papermill": {
     "duration": 0.11173,
     "end_time": "2020-01-06T17:22:04.135929",
     "exception": false,
     "start_time": "2020-01-06T17:22:04.024199",
     "status": "completed"
    },
    "tags": []
   },
   "outputs": [],
   "source": [
    "clinvar_traits_to_id = clinvar_traits.reset_index()[['id', 'clinvar_trait']].set_index('clinvar_trait').to_dict()['id']"
   ]
  },
  {
   "cell_type": "code",
   "execution_count": 58,
   "metadata": {
    "papermill": {
     "duration": 0.106934,
     "end_time": "2020-01-06T17:22:04.326594",
     "exception": false,
     "start_time": "2020-01-06T17:22:04.219660",
     "status": "completed"
    },
    "tags": []
   },
   "outputs": [
    {
     "data": {
      "text/plain": [
       "3"
      ]
     },
     "execution_count": 58,
     "metadata": {},
     "output_type": "execute_result"
    }
   ],
   "source": [
    "clinvar_traits_to_id['2-aminoadipic 2-oxoadipic aciduria']"
   ]
  },
  {
   "cell_type": "markdown",
   "metadata": {
    "papermill": {
     "duration": 0.081127,
     "end_time": "2020-01-06T17:22:04.488601",
     "exception": false,
     "start_time": "2020-01-06T17:22:04.407474",
     "status": "completed"
    },
    "tags": []
   },
   "source": [
    "# Load phenotype information"
   ]
  },
  {
   "cell_type": "code",
   "execution_count": 59,
   "metadata": {
    "papermill": {
     "duration": 0.110435,
     "end_time": "2020-01-06T17:22:04.679992",
     "exception": false,
     "start_time": "2020-01-06T17:22:04.569557",
     "status": "completed"
    },
    "tags": []
   },
   "outputs": [
    {
     "data": {
      "text/plain": [
       "'/mnt/phenomexcan_base/deliverables/phenotypes_info.tsv.gz'"
      ]
     },
     "execution_count": 59,
     "metadata": {},
     "output_type": "execute_result"
    }
   ],
   "source": [
    "os.path.join(conf.DELIVERABLES_DIR, 'phenotypes_info.tsv.gz')"
   ]
  },
  {
   "cell_type": "code",
   "execution_count": 60,
   "metadata": {
    "papermill": {
     "duration": 0.146692,
     "end_time": "2020-01-06T17:22:04.908903",
     "exception": false,
     "start_time": "2020-01-06T17:22:04.762211",
     "status": "completed"
    },
    "tags": []
   },
   "outputs": [],
   "source": [
    "pheno_info = pd.read_csv(os.path.join(conf.DELIVERABLES_DIR, 'phenotypes_info.tsv.gz'), sep='\\t')"
   ]
  },
  {
   "cell_type": "code",
   "execution_count": 61,
   "metadata": {
    "papermill": {
     "duration": 0.129881,
     "end_time": "2020-01-06T17:22:05.146253",
     "exception": false,
     "start_time": "2020-01-06T17:22:05.016372",
     "status": "completed"
    },
    "tags": []
   },
   "outputs": [
    {
     "data": {
      "text/plain": [
       "(4091, 10)"
      ]
     },
     "execution_count": 61,
     "metadata": {},
     "output_type": "execute_result"
    }
   ],
   "source": [
    "pheno_info.shape"
   ]
  },
  {
   "cell_type": "code",
   "execution_count": 62,
   "metadata": {
    "papermill": {
     "duration": 0.125074,
     "end_time": "2020-01-06T17:22:05.353150",
     "exception": false,
     "start_time": "2020-01-06T17:22:05.228076",
     "status": "completed"
    },
    "tags": []
   },
   "outputs": [
    {
     "data": {
      "text/html": [
       "<div>\n",
       "<style scoped>\n",
       "    .dataframe tbody tr th:only-of-type {\n",
       "        vertical-align: middle;\n",
       "    }\n",
       "\n",
       "    .dataframe tbody tr th {\n",
       "        vertical-align: top;\n",
       "    }\n",
       "\n",
       "    .dataframe thead th {\n",
       "        text-align: right;\n",
       "    }\n",
       "</style>\n",
       "<table border=\"1\" class=\"dataframe\">\n",
       "  <thead>\n",
       "    <tr style=\"text-align: right;\">\n",
       "      <th></th>\n",
       "      <th>pheno_id</th>\n",
       "      <th>full_code</th>\n",
       "      <th>short_code</th>\n",
       "      <th>description</th>\n",
       "      <th>unique_description</th>\n",
       "      <th>type</th>\n",
       "      <th>n</th>\n",
       "      <th>n_cases</th>\n",
       "      <th>n_controls</th>\n",
       "      <th>source</th>\n",
       "    </tr>\n",
       "  </thead>\n",
       "  <tbody>\n",
       "    <tr>\n",
       "      <th>0</th>\n",
       "      <td>0</td>\n",
       "      <td>100001_raw-Food_weight</td>\n",
       "      <td>100001_raw</td>\n",
       "      <td>Food weight</td>\n",
       "      <td>Food weight</td>\n",
       "      <td>continuous_raw</td>\n",
       "      <td>51453</td>\n",
       "      <td>NaN</td>\n",
       "      <td>NaN</td>\n",
       "      <td>UK Biobank</td>\n",
       "    </tr>\n",
       "    <tr>\n",
       "      <th>1</th>\n",
       "      <td>1</td>\n",
       "      <td>100002_raw-Energy</td>\n",
       "      <td>100002_raw</td>\n",
       "      <td>Energy</td>\n",
       "      <td>Energy</td>\n",
       "      <td>continuous_raw</td>\n",
       "      <td>51453</td>\n",
       "      <td>NaN</td>\n",
       "      <td>NaN</td>\n",
       "      <td>UK Biobank</td>\n",
       "    </tr>\n",
       "    <tr>\n",
       "      <th>2</th>\n",
       "      <td>2</td>\n",
       "      <td>100003_raw-Protein</td>\n",
       "      <td>100003_raw</td>\n",
       "      <td>Protein</td>\n",
       "      <td>Protein</td>\n",
       "      <td>continuous_raw</td>\n",
       "      <td>51453</td>\n",
       "      <td>NaN</td>\n",
       "      <td>NaN</td>\n",
       "      <td>UK Biobank</td>\n",
       "    </tr>\n",
       "    <tr>\n",
       "      <th>3</th>\n",
       "      <td>3</td>\n",
       "      <td>100004_raw-Fat</td>\n",
       "      <td>100004_raw</td>\n",
       "      <td>Fat</td>\n",
       "      <td>Fat</td>\n",
       "      <td>continuous_raw</td>\n",
       "      <td>51453</td>\n",
       "      <td>NaN</td>\n",
       "      <td>NaN</td>\n",
       "      <td>UK Biobank</td>\n",
       "    </tr>\n",
       "    <tr>\n",
       "      <th>4</th>\n",
       "      <td>4</td>\n",
       "      <td>100005_raw-Carbohydrate</td>\n",
       "      <td>100005_raw</td>\n",
       "      <td>Carbohydrate</td>\n",
       "      <td>Carbohydrate</td>\n",
       "      <td>continuous_raw</td>\n",
       "      <td>51453</td>\n",
       "      <td>NaN</td>\n",
       "      <td>NaN</td>\n",
       "      <td>UK Biobank</td>\n",
       "    </tr>\n",
       "  </tbody>\n",
       "</table>\n",
       "</div>"
      ],
      "text/plain": [
       "   pheno_id                full_code  short_code   description  \\\n",
       "0         0   100001_raw-Food_weight  100001_raw   Food weight   \n",
       "1         1        100002_raw-Energy  100002_raw        Energy   \n",
       "2         2       100003_raw-Protein  100003_raw       Protein   \n",
       "3         3           100004_raw-Fat  100004_raw           Fat   \n",
       "4         4  100005_raw-Carbohydrate  100005_raw  Carbohydrate   \n",
       "\n",
       "  unique_description            type      n  n_cases  n_controls      source  \n",
       "0        Food weight  continuous_raw  51453      NaN         NaN  UK Biobank  \n",
       "1             Energy  continuous_raw  51453      NaN         NaN  UK Biobank  \n",
       "2            Protein  continuous_raw  51453      NaN         NaN  UK Biobank  \n",
       "3                Fat  continuous_raw  51453      NaN         NaN  UK Biobank  \n",
       "4       Carbohydrate  continuous_raw  51453      NaN         NaN  UK Biobank  "
      ]
     },
     "execution_count": 62,
     "metadata": {},
     "output_type": "execute_result"
    }
   ],
   "source": [
    "pheno_info.head()"
   ]
  },
  {
   "cell_type": "code",
   "execution_count": 63,
   "metadata": {
    "papermill": {
     "duration": 0.11197,
     "end_time": "2020-01-06T17:22:05.546643",
     "exception": false,
     "start_time": "2020-01-06T17:22:05.434673",
     "status": "completed"
    },
    "tags": []
   },
   "outputs": [],
   "source": [
    "pheno_desc_to_id = pheno_info[['unique_description', 'pheno_id']].set_index('unique_description').to_dict()['pheno_id']"
   ]
  },
  {
   "cell_type": "code",
   "execution_count": 64,
   "metadata": {
    "papermill": {
     "duration": 0.111317,
     "end_time": "2020-01-06T17:22:05.744858",
     "exception": false,
     "start_time": "2020-01-06T17:22:05.633541",
     "status": "completed"
    },
    "tags": []
   },
   "outputs": [
    {
     "data": {
      "text/plain": [
       "3"
      ]
     },
     "execution_count": 64,
     "metadata": {},
     "output_type": "execute_result"
    }
   ],
   "source": [
    "pheno_desc_to_id['Fat']"
   ]
  },
  {
   "cell_type": "code",
   "execution_count": 65,
   "metadata": {
    "papermill": {
     "duration": 0.112174,
     "end_time": "2020-01-06T17:22:05.946630",
     "exception": false,
     "start_time": "2020-01-06T17:22:05.834456",
     "status": "completed"
    },
    "tags": []
   },
   "outputs": [],
   "source": [
    "pheno_full_code_to_id = pheno_info[['full_code', 'pheno_id']].set_index('full_code').to_dict()['pheno_id']"
   ]
  },
  {
   "cell_type": "code",
   "execution_count": 66,
   "metadata": {
    "papermill": {
     "duration": 0.108754,
     "end_time": "2020-01-06T17:22:06.144109",
     "exception": false,
     "start_time": "2020-01-06T17:22:06.035355",
     "status": "completed"
    },
    "tags": []
   },
   "outputs": [
    {
     "data": {
      "text/plain": [
       "0"
      ]
     },
     "execution_count": 66,
     "metadata": {},
     "output_type": "execute_result"
    }
   ],
   "source": [
    "pheno_full_code_to_id['100001_raw-Food_weight']"
   ]
  },
  {
   "cell_type": "markdown",
   "metadata": {
    "papermill": {
     "duration": 0.08514,
     "end_time": "2020-01-06T17:22:06.316395",
     "exception": false,
     "start_time": "2020-01-06T17:22:06.231255",
     "status": "completed"
    },
    "tags": []
   },
   "source": [
    "### Obtain z2"
   ]
  },
  {
   "cell_type": "code",
   "execution_count": 67,
   "metadata": {
    "papermill": {
     "duration": 13.955032,
     "end_time": "2020-01-06T17:22:20.381907",
     "exception": false,
     "start_time": "2020-01-06T17:22:06.426875",
     "status": "completed"
    },
    "tags": []
   },
   "outputs": [],
   "source": [
    "clinvar_unstacked = ukb_clinvar_z2.rename(\n",
    "    index=pheno_full_code_to_id,\n",
    "    columns=clinvar_traits_to_id,\n",
    ").T.unstack().to_frame('z2_avg')"
   ]
  },
  {
   "cell_type": "code",
   "execution_count": 68,
   "metadata": {
    "papermill": {
     "duration": 19.655958,
     "end_time": "2020-01-06T17:22:40.214117",
     "exception": false,
     "start_time": "2020-01-06T17:22:20.558159",
     "status": "completed"
    },
    "tags": []
   },
   "outputs": [],
   "source": [
    "assert clinvar_unstacked.index.is_unique"
   ]
  },
  {
   "cell_type": "code",
   "execution_count": 69,
   "metadata": {
    "papermill": {
     "duration": 0.12807,
     "end_time": "2020-01-06T17:22:40.439875",
     "exception": false,
     "start_time": "2020-01-06T17:22:40.311805",
     "status": "completed"
    },
    "tags": []
   },
   "outputs": [],
   "source": [
    "assert ukb_clinvar_z2.size == clinvar_unstacked.shape[0]"
   ]
  },
  {
   "cell_type": "code",
   "execution_count": 70,
   "metadata": {
    "papermill": {
     "duration": 0.109441,
     "end_time": "2020-01-06T17:22:40.636064",
     "exception": false,
     "start_time": "2020-01-06T17:22:40.526623",
     "status": "completed"
    },
    "tags": []
   },
   "outputs": [],
   "source": [
    "clinvar_unstacked.index.rename(['ukb_pheno_id', 'clinvar_pheno_id'], inplace=True)"
   ]
  },
  {
   "cell_type": "code",
   "execution_count": 71,
   "metadata": {
    "papermill": {
     "duration": 77.407115,
     "end_time": "2020-01-06T17:23:58.130332",
     "exception": false,
     "start_time": "2020-01-06T17:22:40.723217",
     "status": "completed"
    },
    "tags": []
   },
   "outputs": [],
   "source": [
    "clinvar_unstacked = clinvar_unstacked.sort_index()"
   ]
  },
  {
   "cell_type": "code",
   "execution_count": 72,
   "metadata": {
    "papermill": {
     "duration": 0.688648,
     "end_time": "2020-01-06T17:23:58.907678",
     "exception": false,
     "start_time": "2020-01-06T17:23:58.219030",
     "status": "completed"
    },
    "tags": []
   },
   "outputs": [],
   "source": [
    "clinvar_unstacked = clinvar_unstacked.assign(sqrt_z2_avg=np.sqrt(clinvar_unstacked['z2_avg']))"
   ]
  },
  {
   "cell_type": "code",
   "execution_count": 73,
   "metadata": {
    "papermill": {
     "duration": 18.114298,
     "end_time": "2020-01-06T17:24:17.168054",
     "exception": false,
     "start_time": "2020-01-06T17:23:59.053756",
     "status": "completed"
    },
    "tags": []
   },
   "outputs": [],
   "source": [
    "assert clinvar_unstacked.index.is_unique"
   ]
  },
  {
   "cell_type": "code",
   "execution_count": 74,
   "metadata": {
    "papermill": {
     "duration": 0.162857,
     "end_time": "2020-01-06T17:24:17.415413",
     "exception": false,
     "start_time": "2020-01-06T17:24:17.252556",
     "status": "completed"
    },
    "tags": []
   },
   "outputs": [
    {
     "data": {
      "text/plain": [
       "(20888646, 2)"
      ]
     },
     "execution_count": 74,
     "metadata": {},
     "output_type": "execute_result"
    }
   ],
   "source": [
    "clinvar_unstacked.shape"
   ]
  },
  {
   "cell_type": "code",
   "execution_count": 75,
   "metadata": {
    "papermill": {
     "duration": 0.121392,
     "end_time": "2020-01-06T17:24:17.622624",
     "exception": false,
     "start_time": "2020-01-06T17:24:17.501232",
     "status": "completed"
    },
    "tags": []
   },
   "outputs": [
    {
     "data": {
      "text/html": [
       "<div>\n",
       "<style scoped>\n",
       "    .dataframe tbody tr th:only-of-type {\n",
       "        vertical-align: middle;\n",
       "    }\n",
       "\n",
       "    .dataframe tbody tr th {\n",
       "        vertical-align: top;\n",
       "    }\n",
       "\n",
       "    .dataframe thead th {\n",
       "        text-align: right;\n",
       "    }\n",
       "</style>\n",
       "<table border=\"1\" class=\"dataframe\">\n",
       "  <thead>\n",
       "    <tr style=\"text-align: right;\">\n",
       "      <th></th>\n",
       "      <th></th>\n",
       "      <th>z2_avg</th>\n",
       "      <th>sqrt_z2_avg</th>\n",
       "    </tr>\n",
       "    <tr>\n",
       "      <th>ukb_pheno_id</th>\n",
       "      <th>clinvar_pheno_id</th>\n",
       "      <th></th>\n",
       "      <th></th>\n",
       "    </tr>\n",
       "  </thead>\n",
       "  <tbody>\n",
       "    <tr>\n",
       "      <th rowspan=\"5\" valign=\"top\">0</th>\n",
       "      <th>0</th>\n",
       "      <td>1.208743</td>\n",
       "      <td>1.099429</td>\n",
       "    </tr>\n",
       "    <tr>\n",
       "      <th>1</th>\n",
       "      <td>2.881383</td>\n",
       "      <td>1.697464</td>\n",
       "    </tr>\n",
       "    <tr>\n",
       "      <th>2</th>\n",
       "      <td>0.106421</td>\n",
       "      <td>0.326222</td>\n",
       "    </tr>\n",
       "    <tr>\n",
       "      <th>3</th>\n",
       "      <td>0.010371</td>\n",
       "      <td>0.101839</td>\n",
       "    </tr>\n",
       "    <tr>\n",
       "      <th>4</th>\n",
       "      <td>2.171773</td>\n",
       "      <td>1.473694</td>\n",
       "    </tr>\n",
       "  </tbody>\n",
       "</table>\n",
       "</div>"
      ],
      "text/plain": [
       "                                 z2_avg  sqrt_z2_avg\n",
       "ukb_pheno_id clinvar_pheno_id                       \n",
       "0            0                 1.208743     1.099429\n",
       "             1                 2.881383     1.697464\n",
       "             2                 0.106421     0.326222\n",
       "             3                 0.010371     0.101839\n",
       "             4                 2.171773     1.473694"
      ]
     },
     "execution_count": 75,
     "metadata": {},
     "output_type": "execute_result"
    }
   ],
   "source": [
    "clinvar_unstacked.head()"
   ]
  },
  {
   "cell_type": "markdown",
   "metadata": {
    "papermill": {
     "duration": 0.082849,
     "end_time": "2020-01-06T17:24:17.789974",
     "exception": false,
     "start_time": "2020-01-06T17:24:17.707125",
     "status": "completed"
    },
    "tags": []
   },
   "source": [
    "# Some testing"
   ]
  },
  {
   "cell_type": "code",
   "execution_count": 76,
   "metadata": {
    "papermill": {
     "duration": 0.107394,
     "end_time": "2020-01-06T17:24:17.980866",
     "exception": false,
     "start_time": "2020-01-06T17:24:17.873472",
     "status": "completed"
    },
    "tags": []
   },
   "outputs": [
    {
     "data": {
      "text/plain": [
       "1341"
      ]
     },
     "execution_count": 76,
     "metadata": {},
     "output_type": "execute_result"
    }
   ],
   "source": [
    "pheno_desc_to_id['Depression possibly related to childbirth']"
   ]
  },
  {
   "cell_type": "code",
   "execution_count": 77,
   "metadata": {
    "papermill": {
     "duration": 0.111209,
     "end_time": "2020-01-06T17:24:18.174985",
     "exception": false,
     "start_time": "2020-01-06T17:24:18.063776",
     "status": "completed"
    },
    "tags": []
   },
   "outputs": [
    {
     "data": {
      "text/plain": [
       "2707"
      ]
     },
     "execution_count": 77,
     "metadata": {},
     "output_type": "execute_result"
    }
   ],
   "source": [
    "clinvar_traits_to_id['Keratosis palmoplantaris papulosa']"
   ]
  },
  {
   "cell_type": "code",
   "execution_count": 78,
   "metadata": {
    "papermill": {
     "duration": 0.782663,
     "end_time": "2020-01-06T17:24:19.035306",
     "exception": false,
     "start_time": "2020-01-06T17:24:18.252643",
     "status": "completed"
    },
    "tags": []
   },
   "outputs": [
    {
     "data": {
      "text/plain": [
       "z2_avg         0.080904\n",
       "sqrt_z2_avg    0.284436\n",
       "Name: (1341, 2707), dtype: float64"
      ]
     },
     "execution_count": 78,
     "metadata": {},
     "output_type": "execute_result"
    }
   ],
   "source": [
    "clinvar_unstacked.loc[1341, 2707]"
   ]
  },
  {
   "cell_type": "code",
   "execution_count": 79,
   "metadata": {
    "papermill": {
     "duration": 0.112325,
     "end_time": "2020-01-06T17:24:19.232275",
     "exception": false,
     "start_time": "2020-01-06T17:24:19.119950",
     "status": "completed"
    },
    "tags": []
   },
   "outputs": [],
   "source": [
    "assert clinvar_unstacked.loc[pheno_desc_to_id['Other epidermal thickening'], clinvar_traits_to_id[\"Alzheimer's disease\"]]['sqrt_z2_avg'] == np.sqrt(1.3472206237157518)"
   ]
  },
  {
   "cell_type": "code",
   "execution_count": 80,
   "metadata": {
    "papermill": {
     "duration": 0.136427,
     "end_time": "2020-01-06T17:24:19.456928",
     "exception": false,
     "start_time": "2020-01-06T17:24:19.320501",
     "status": "completed"
    },
    "tags": []
   },
   "outputs": [],
   "source": [
    "assert clinvar_unstacked.loc[pheno_desc_to_id['Depression possibly related to childbirth'], clinvar_traits_to_id[\"Keratosis palmoplantaris papulosa\"]]['sqrt_z2_avg'] == np.sqrt(0.08090372843310314)"
   ]
  },
  {
   "cell_type": "code",
   "execution_count": 81,
   "metadata": {
    "papermill": {
     "duration": 0.167972,
     "end_time": "2020-01-06T17:24:19.716187",
     "exception": false,
     "start_time": "2020-01-06T17:24:19.548215",
     "status": "completed"
    },
    "tags": []
   },
   "outputs": [
    {
     "data": {
      "text/html": [
       "<div>\n",
       "<style scoped>\n",
       "    .dataframe tbody tr th:only-of-type {\n",
       "        vertical-align: middle;\n",
       "    }\n",
       "\n",
       "    .dataframe tbody tr th {\n",
       "        vertical-align: top;\n",
       "    }\n",
       "\n",
       "    .dataframe thead th {\n",
       "        text-align: right;\n",
       "    }\n",
       "</style>\n",
       "<table border=\"1\" class=\"dataframe\">\n",
       "  <thead>\n",
       "    <tr style=\"text-align: right;\">\n",
       "      <th></th>\n",
       "      <th></th>\n",
       "      <th>z2_avg</th>\n",
       "      <th>sqrt_z2_avg</th>\n",
       "    </tr>\n",
       "    <tr>\n",
       "      <th>ukb_pheno_id</th>\n",
       "      <th>clinvar_pheno_id</th>\n",
       "      <th></th>\n",
       "      <th></th>\n",
       "    </tr>\n",
       "  </thead>\n",
       "  <tbody>\n",
       "    <tr>\n",
       "      <th rowspan=\"5\" valign=\"top\">80</th>\n",
       "      <th>143</th>\n",
       "      <td>41.145911</td>\n",
       "      <td>6.414508</td>\n",
       "    </tr>\n",
       "    <tr>\n",
       "      <th>150</th>\n",
       "      <td>46.599677</td>\n",
       "      <td>6.826396</td>\n",
       "    </tr>\n",
       "    <tr>\n",
       "      <th>154</th>\n",
       "      <td>46.352945</td>\n",
       "      <td>6.808300</td>\n",
       "    </tr>\n",
       "    <tr>\n",
       "      <th>161</th>\n",
       "      <td>304.541549</td>\n",
       "      <td>17.451119</td>\n",
       "    </tr>\n",
       "    <tr>\n",
       "      <th>181</th>\n",
       "      <td>51.136357</td>\n",
       "      <td>7.150969</td>\n",
       "    </tr>\n",
       "  </tbody>\n",
       "</table>\n",
       "</div>"
      ],
      "text/plain": [
       "                                   z2_avg  sqrt_z2_avg\n",
       "ukb_pheno_id clinvar_pheno_id                         \n",
       "80           143                41.145911     6.414508\n",
       "             150                46.599677     6.826396\n",
       "             154                46.352945     6.808300\n",
       "             161               304.541549    17.451119\n",
       "             181                51.136357     7.150969"
      ]
     },
     "execution_count": 81,
     "metadata": {},
     "output_type": "execute_result"
    }
   ],
   "source": [
    "clinvar_unstacked[clinvar_unstacked['sqrt_z2_avg'] > 6].head()"
   ]
  },
  {
   "cell_type": "markdown",
   "metadata": {
    "papermill": {
     "duration": 0.087482,
     "end_time": "2020-01-06T17:24:19.889487",
     "exception": false,
     "start_time": "2020-01-06T17:24:19.802005",
     "status": "completed"
    },
    "tags": []
   },
   "source": [
    "#### Save all results"
   ]
  },
  {
   "cell_type": "code",
   "execution_count": 82,
   "metadata": {
    "papermill": {
     "duration": 1.335723,
     "end_time": "2020-01-06T17:24:21.310307",
     "exception": false,
     "start_time": "2020-01-06T17:24:19.974584",
     "status": "completed"
    },
    "tags": []
   },
   "outputs": [],
   "source": [
    "clinvar_unstacked = clinvar_unstacked[['sqrt_z2_avg']]"
   ]
  },
  {
   "cell_type": "code",
   "execution_count": 83,
   "metadata": {
    "papermill": {
     "duration": 0.131563,
     "end_time": "2020-01-06T17:24:21.532405",
     "exception": false,
     "start_time": "2020-01-06T17:24:21.400842",
     "status": "completed"
    },
    "tags": []
   },
   "outputs": [
    {
     "data": {
      "text/plain": [
       "(20888646, 1)"
      ]
     },
     "metadata": {},
     "output_type": "display_data"
    },
    {
     "data": {
      "text/html": [
       "<div>\n",
       "<style scoped>\n",
       "    .dataframe tbody tr th:only-of-type {\n",
       "        vertical-align: middle;\n",
       "    }\n",
       "\n",
       "    .dataframe tbody tr th {\n",
       "        vertical-align: top;\n",
       "    }\n",
       "\n",
       "    .dataframe thead th {\n",
       "        text-align: right;\n",
       "    }\n",
       "</style>\n",
       "<table border=\"1\" class=\"dataframe\">\n",
       "  <thead>\n",
       "    <tr style=\"text-align: right;\">\n",
       "      <th></th>\n",
       "      <th></th>\n",
       "      <th>sqrt_z2_avg</th>\n",
       "    </tr>\n",
       "    <tr>\n",
       "      <th>ukb_pheno_id</th>\n",
       "      <th>clinvar_pheno_id</th>\n",
       "      <th></th>\n",
       "    </tr>\n",
       "  </thead>\n",
       "  <tbody>\n",
       "    <tr>\n",
       "      <th rowspan=\"5\" valign=\"top\">0</th>\n",
       "      <th>0</th>\n",
       "      <td>1.099429</td>\n",
       "    </tr>\n",
       "    <tr>\n",
       "      <th>1</th>\n",
       "      <td>1.697464</td>\n",
       "    </tr>\n",
       "    <tr>\n",
       "      <th>2</th>\n",
       "      <td>0.326222</td>\n",
       "    </tr>\n",
       "    <tr>\n",
       "      <th>3</th>\n",
       "      <td>0.101839</td>\n",
       "    </tr>\n",
       "    <tr>\n",
       "      <th>4</th>\n",
       "      <td>1.473694</td>\n",
       "    </tr>\n",
       "  </tbody>\n",
       "</table>\n",
       "</div>"
      ],
      "text/plain": [
       "                               sqrt_z2_avg\n",
       "ukb_pheno_id clinvar_pheno_id             \n",
       "0            0                    1.099429\n",
       "             1                    1.697464\n",
       "             2                    0.326222\n",
       "             3                    0.101839\n",
       "             4                    1.473694"
      ]
     },
     "metadata": {},
     "output_type": "display_data"
    }
   ],
   "source": [
    "display(clinvar_unstacked.shape)\n",
    "display(clinvar_unstacked.head())"
   ]
  },
  {
   "cell_type": "code",
   "execution_count": 84,
   "metadata": {
    "papermill": {
     "duration": 0.113469,
     "end_time": "2020-01-06T17:24:21.732443",
     "exception": false,
     "start_time": "2020-01-06T17:24:21.618974",
     "status": "completed"
    },
    "tags": []
   },
   "outputs": [
    {
     "data": {
      "text/plain": [
       "'/mnt/phenomexcan_base/gene_assoc/ukb_clinvar.tsv'"
      ]
     },
     "metadata": {},
     "output_type": "display_data"
    }
   ],
   "source": [
    "clinvar_unstacked_filename = os.path.join(conf.GENE_ASSOC_DIR, 'ukb_clinvar.tsv')\n",
    "display(clinvar_unstacked_filename)"
   ]
  },
  {
   "cell_type": "code",
   "execution_count": 85,
   "metadata": {
    "papermill": {
     "duration": 68.926298,
     "end_time": "2020-01-06T17:25:30.747548",
     "exception": false,
     "start_time": "2020-01-06T17:24:21.821250",
     "status": "completed"
    },
    "tags": []
   },
   "outputs": [],
   "source": [
    "clinvar_unstacked.to_csv(clinvar_unstacked_filename, sep='\\t')"
   ]
  },
  {
   "cell_type": "code",
   "execution_count": null,
   "metadata": {
    "papermill": {
     "duration": 0.089877,
     "end_time": "2020-01-06T17:25:30.948719",
     "exception": false,
     "start_time": "2020-01-06T17:25:30.858842",
     "status": "completed"
    },
    "tags": []
   },
   "outputs": [],
   "source": []
  }
 ],
 "metadata": {
  "kernelspec": {
   "display_name": "Python 3",
   "language": "python",
   "name": "python3"
  },
  "language_info": {
   "codemirror_mode": {
    "name": "ipython",
    "version": 3
   },
   "file_extension": ".py",
   "mimetype": "text/x-python",
   "name": "python",
   "nbconvert_exporter": "python",
   "pygments_lexer": "ipython3",
   "version": "3.7.5"
  },
  "papermill": {
   "duration": 343.571808,
   "end_time": "2020-01-06T17:25:31.644954",
   "environment_variables": {},
   "exception": null,
   "input_path": "10_generate_ukb_clinvar_table.ipynb",
   "output_path": "10_generate_ukb_clinvar_table.run.ipynb",
   "parameters": {},
   "start_time": "2020-01-06T17:19:48.073146",
   "version": "1.2.1"
  }
 },
 "nbformat": 4,
 "nbformat_minor": 4
}