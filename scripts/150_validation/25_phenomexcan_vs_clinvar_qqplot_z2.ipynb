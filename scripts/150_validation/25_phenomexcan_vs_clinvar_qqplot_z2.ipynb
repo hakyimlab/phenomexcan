{
 "cells": [
  {
   "cell_type": "code",
   "execution_count": 1,
   "metadata": {},
   "outputs": [],
   "source": [
    "%load_ext autoreload\n",
    "%autoreload 2"
   ]
  },
  {
   "cell_type": "code",
   "execution_count": 2,
   "metadata": {},
   "outputs": [],
   "source": [
    "import os\n",
    "from glob import glob\n",
    "from concurrent.futures import ProcessPoolExecutor, as_completed\n",
    "\n",
    "import numpy as np\n",
    "import pandas as pd\n",
    "from sklearn.metrics import pairwise_distances\n",
    "import matplotlib.pyplot as plt\n",
    "\n",
    "import settings as conf"
   ]
  },
  {
   "cell_type": "code",
   "execution_count": 3,
   "metadata": {},
   "outputs": [],
   "source": [
    "supp_fig3_dir = os.path.join(conf.FIGURES_DIR, 'supp_fig3')\n",
    "os.makedirs(supp_fig3_dir, exist_ok=True)"
   ]
  },
  {
   "cell_type": "markdown",
   "metadata": {},
   "source": [
    "# Load PhenomeXcan vs Clinvar associations"
   ]
  },
  {
   "cell_type": "code",
   "execution_count": 4,
   "metadata": {},
   "outputs": [
    {
     "data": {
      "text/plain": [
       "'/mnt/phenomexcan_base/gene_assoc/smultixcan_and_clinvar-z2.pkl.xz'"
      ]
     },
     "metadata": {},
     "output_type": "display_data"
    }
   ],
   "source": [
    "phenomexcan_vs_clinvar_filename = os.path.join(conf.GENE_ASSOC_DIR, 'smultixcan_and_clinvar-z2.pkl.xz')\n",
    "display(phenomexcan_vs_clinvar_filename)"
   ]
  },
  {
   "cell_type": "code",
   "execution_count": 5,
   "metadata": {},
   "outputs": [],
   "source": [
    "phenomexcan_vs_clinvar = pd.read_pickle(phenomexcan_vs_clinvar_filename)"
   ]
  },
  {
   "cell_type": "code",
   "execution_count": 6,
   "metadata": {},
   "outputs": [
    {
     "data": {
      "text/plain": [
       "(4091, 5106)"
      ]
     },
     "metadata": {},
     "output_type": "display_data"
    },
    {
     "data": {
      "text/html": [
       "<div>\n",
       "<style scoped>\n",
       "    .dataframe tbody tr th:only-of-type {\n",
       "        vertical-align: middle;\n",
       "    }\n",
       "\n",
       "    .dataframe tbody tr th {\n",
       "        vertical-align: top;\n",
       "    }\n",
       "\n",
       "    .dataframe thead th {\n",
       "        text-align: right;\n",
       "    }\n",
       "</style>\n",
       "<table border=\"1\" class=\"dataframe\">\n",
       "  <thead>\n",
       "    <tr style=\"text-align: right;\">\n",
       "      <th></th>\n",
       "      <th>Alzheimer's disease</th>\n",
       "      <th>Alpha-2-macroglobulin deficiency</th>\n",
       "      <th>Otitis media, susceptibility to</th>\n",
       "      <th>p phenotype</th>\n",
       "      <th>Glucocorticoid deficiency with achalasia</th>\n",
       "      <th>Keratosis palmoplantaris papulosa</th>\n",
       "      <th>Charcot-Marie-Tooth disease, type 2N</th>\n",
       "      <th>Epileptic encephalopathy, early infantile, 29</th>\n",
       "      <th>Combined oxidative phosphorylation deficiency 8</th>\n",
       "      <th>Leukoencephalopathy, progressive, with ovarian failure</th>\n",
       "      <th>...</th>\n",
       "      <th>Retinitis pigmentosa 58</th>\n",
       "      <th>Myopia 21, autosomal dominant</th>\n",
       "      <th>Paget disease of bone 6</th>\n",
       "      <th>Seborrhea-like dermatitis with psoriasiform elements</th>\n",
       "      <th>PEHO syndrome</th>\n",
       "      <th>Oocyte maturation defect 1</th>\n",
       "      <th>OOCYTE MATURATION DEFECT 6</th>\n",
       "      <th>OOCYTE MATURATION DEFECT 3</th>\n",
       "      <th>Acromelic frontonasal dysostosis</th>\n",
       "      <th>NEURODEVELOPMENTAL DISORDER WITH MOVEMENT ABNORMALITIES, ABNORMAL GAIT, AND AUTISTIC FEATURES</th>\n",
       "    </tr>\n",
       "    <tr>\n",
       "      <th>phenomexcan_traits</th>\n",
       "      <th></th>\n",
       "      <th></th>\n",
       "      <th></th>\n",
       "      <th></th>\n",
       "      <th></th>\n",
       "      <th></th>\n",
       "      <th></th>\n",
       "      <th></th>\n",
       "      <th></th>\n",
       "      <th></th>\n",
       "      <th></th>\n",
       "      <th></th>\n",
       "      <th></th>\n",
       "      <th></th>\n",
       "      <th></th>\n",
       "      <th></th>\n",
       "      <th></th>\n",
       "      <th></th>\n",
       "      <th></th>\n",
       "      <th></th>\n",
       "      <th></th>\n",
       "    </tr>\n",
       "  </thead>\n",
       "  <tbody>\n",
       "    <tr>\n",
       "      <th>20096_1-Size_of_red_wine_glass_drunk_small_125ml</th>\n",
       "      <td>0.651161</td>\n",
       "      <td>0.247607</td>\n",
       "      <td>3.820126</td>\n",
       "      <td>1.075217</td>\n",
       "      <td>0.009677</td>\n",
       "      <td>0.162067</td>\n",
       "      <td>1.670074</td>\n",
       "      <td>1.670074</td>\n",
       "      <td>0.273777</td>\n",
       "      <td>0.273777</td>\n",
       "      <td>...</td>\n",
       "      <td>0.292204</td>\n",
       "      <td>1.695379</td>\n",
       "      <td>0.355525</td>\n",
       "      <td>1.101905</td>\n",
       "      <td>0.379410</td>\n",
       "      <td>1.747519</td>\n",
       "      <td>0.272920</td>\n",
       "      <td>0.006041</td>\n",
       "      <td>0.194577</td>\n",
       "      <td>0.194577</td>\n",
       "    </tr>\n",
       "    <tr>\n",
       "      <th>2345-Ever_had_bowel_cancer_screening</th>\n",
       "      <td>0.544953</td>\n",
       "      <td>0.055165</td>\n",
       "      <td>0.373364</td>\n",
       "      <td>0.667099</td>\n",
       "      <td>1.731603</td>\n",
       "      <td>5.829613</td>\n",
       "      <td>0.000311</td>\n",
       "      <td>0.000311</td>\n",
       "      <td>0.872317</td>\n",
       "      <td>0.872317</td>\n",
       "      <td>...</td>\n",
       "      <td>0.871863</td>\n",
       "      <td>0.772939</td>\n",
       "      <td>0.120311</td>\n",
       "      <td>0.015428</td>\n",
       "      <td>0.332303</td>\n",
       "      <td>1.911665</td>\n",
       "      <td>2.069227</td>\n",
       "      <td>0.242165</td>\n",
       "      <td>0.392449</td>\n",
       "      <td>0.392449</td>\n",
       "    </tr>\n",
       "    <tr>\n",
       "      <th>N49-Diagnoses_main_ICD10_N49_Inflammatory_disorders_of_male_genital_organs_not_elsewhere_classified</th>\n",
       "      <td>2.352883</td>\n",
       "      <td>3.096874</td>\n",
       "      <td>0.208791</td>\n",
       "      <td>1.486795</td>\n",
       "      <td>0.166468</td>\n",
       "      <td>0.268138</td>\n",
       "      <td>2.304044</td>\n",
       "      <td>2.304044</td>\n",
       "      <td>0.007125</td>\n",
       "      <td>0.007125</td>\n",
       "      <td>...</td>\n",
       "      <td>0.020070</td>\n",
       "      <td>0.137331</td>\n",
       "      <td>0.744516</td>\n",
       "      <td>0.810886</td>\n",
       "      <td>0.222463</td>\n",
       "      <td>5.448538</td>\n",
       "      <td>0.087805</td>\n",
       "      <td>0.725028</td>\n",
       "      <td>0.155316</td>\n",
       "      <td>0.155316</td>\n",
       "    </tr>\n",
       "    <tr>\n",
       "      <th>100011_raw-Iron</th>\n",
       "      <td>2.905654</td>\n",
       "      <td>0.049563</td>\n",
       "      <td>11.132239</td>\n",
       "      <td>0.978171</td>\n",
       "      <td>0.428900</td>\n",
       "      <td>0.395410</td>\n",
       "      <td>0.199536</td>\n",
       "      <td>0.199536</td>\n",
       "      <td>0.638303</td>\n",
       "      <td>0.638303</td>\n",
       "      <td>...</td>\n",
       "      <td>0.000193</td>\n",
       "      <td>0.327350</td>\n",
       "      <td>0.436058</td>\n",
       "      <td>0.096868</td>\n",
       "      <td>0.173245</td>\n",
       "      <td>3.459105</td>\n",
       "      <td>0.144557</td>\n",
       "      <td>0.009105</td>\n",
       "      <td>0.015222</td>\n",
       "      <td>0.015222</td>\n",
       "    </tr>\n",
       "    <tr>\n",
       "      <th>5221-Index_of_best_refractometry_result_right</th>\n",
       "      <td>0.836999</td>\n",
       "      <td>0.071389</td>\n",
       "      <td>0.229481</td>\n",
       "      <td>0.340287</td>\n",
       "      <td>0.546314</td>\n",
       "      <td>2.319034</td>\n",
       "      <td>4.984327</td>\n",
       "      <td>4.984327</td>\n",
       "      <td>0.177313</td>\n",
       "      <td>0.177313</td>\n",
       "      <td>...</td>\n",
       "      <td>2.239274</td>\n",
       "      <td>1.115672</td>\n",
       "      <td>0.141618</td>\n",
       "      <td>0.012610</td>\n",
       "      <td>1.253595</td>\n",
       "      <td>0.031501</td>\n",
       "      <td>0.244870</td>\n",
       "      <td>0.001039</td>\n",
       "      <td>0.028283</td>\n",
       "      <td>0.028283</td>\n",
       "    </tr>\n",
       "  </tbody>\n",
       "</table>\n",
       "<p>5 rows × 5106 columns</p>\n",
       "</div>"
      ],
      "text/plain": [
       "                                                    Alzheimer's disease  \\\n",
       "phenomexcan_traits                                                        \n",
       "20096_1-Size_of_red_wine_glass_drunk_small_125ml               0.651161   \n",
       "2345-Ever_had_bowel_cancer_screening                           0.544953   \n",
       "N49-Diagnoses_main_ICD10_N49_Inflammatory_disor...             2.352883   \n",
       "100011_raw-Iron                                                2.905654   \n",
       "5221-Index_of_best_refractometry_result_right                  0.836999   \n",
       "\n",
       "                                                    Alpha-2-macroglobulin deficiency  \\\n",
       "phenomexcan_traits                                                                     \n",
       "20096_1-Size_of_red_wine_glass_drunk_small_125ml                            0.247607   \n",
       "2345-Ever_had_bowel_cancer_screening                                        0.055165   \n",
       "N49-Diagnoses_main_ICD10_N49_Inflammatory_disor...                          3.096874   \n",
       "100011_raw-Iron                                                             0.049563   \n",
       "5221-Index_of_best_refractometry_result_right                               0.071389   \n",
       "\n",
       "                                                    Otitis media, susceptibility to  \\\n",
       "phenomexcan_traits                                                                    \n",
       "20096_1-Size_of_red_wine_glass_drunk_small_125ml                           3.820126   \n",
       "2345-Ever_had_bowel_cancer_screening                                       0.373364   \n",
       "N49-Diagnoses_main_ICD10_N49_Inflammatory_disor...                         0.208791   \n",
       "100011_raw-Iron                                                           11.132239   \n",
       "5221-Index_of_best_refractometry_result_right                              0.229481   \n",
       "\n",
       "                                                    p phenotype  \\\n",
       "phenomexcan_traits                                                \n",
       "20096_1-Size_of_red_wine_glass_drunk_small_125ml       1.075217   \n",
       "2345-Ever_had_bowel_cancer_screening                   0.667099   \n",
       "N49-Diagnoses_main_ICD10_N49_Inflammatory_disor...     1.486795   \n",
       "100011_raw-Iron                                        0.978171   \n",
       "5221-Index_of_best_refractometry_result_right          0.340287   \n",
       "\n",
       "                                                    Glucocorticoid deficiency with achalasia  \\\n",
       "phenomexcan_traits                                                                             \n",
       "20096_1-Size_of_red_wine_glass_drunk_small_125ml                                    0.009677   \n",
       "2345-Ever_had_bowel_cancer_screening                                                1.731603   \n",
       "N49-Diagnoses_main_ICD10_N49_Inflammatory_disor...                                  0.166468   \n",
       "100011_raw-Iron                                                                     0.428900   \n",
       "5221-Index_of_best_refractometry_result_right                                       0.546314   \n",
       "\n",
       "                                                    Keratosis palmoplantaris papulosa  \\\n",
       "phenomexcan_traits                                                                      \n",
       "20096_1-Size_of_red_wine_glass_drunk_small_125ml                             0.162067   \n",
       "2345-Ever_had_bowel_cancer_screening                                         5.829613   \n",
       "N49-Diagnoses_main_ICD10_N49_Inflammatory_disor...                           0.268138   \n",
       "100011_raw-Iron                                                              0.395410   \n",
       "5221-Index_of_best_refractometry_result_right                                2.319034   \n",
       "\n",
       "                                                    Charcot-Marie-Tooth disease, type 2N  \\\n",
       "phenomexcan_traits                                                                         \n",
       "20096_1-Size_of_red_wine_glass_drunk_small_125ml                                1.670074   \n",
       "2345-Ever_had_bowel_cancer_screening                                            0.000311   \n",
       "N49-Diagnoses_main_ICD10_N49_Inflammatory_disor...                              2.304044   \n",
       "100011_raw-Iron                                                                 0.199536   \n",
       "5221-Index_of_best_refractometry_result_right                                   4.984327   \n",
       "\n",
       "                                                    Epileptic encephalopathy, early infantile, 29  \\\n",
       "phenomexcan_traits                                                                                  \n",
       "20096_1-Size_of_red_wine_glass_drunk_small_125ml                                         1.670074   \n",
       "2345-Ever_had_bowel_cancer_screening                                                     0.000311   \n",
       "N49-Diagnoses_main_ICD10_N49_Inflammatory_disor...                                       2.304044   \n",
       "100011_raw-Iron                                                                          0.199536   \n",
       "5221-Index_of_best_refractometry_result_right                                            4.984327   \n",
       "\n",
       "                                                    Combined oxidative phosphorylation deficiency 8  \\\n",
       "phenomexcan_traits                                                                                    \n",
       "20096_1-Size_of_red_wine_glass_drunk_small_125ml                                           0.273777   \n",
       "2345-Ever_had_bowel_cancer_screening                                                       0.872317   \n",
       "N49-Diagnoses_main_ICD10_N49_Inflammatory_disor...                                         0.007125   \n",
       "100011_raw-Iron                                                                            0.638303   \n",
       "5221-Index_of_best_refractometry_result_right                                              0.177313   \n",
       "\n",
       "                                                    Leukoencephalopathy, progressive, with ovarian failure  \\\n",
       "phenomexcan_traits                                                                                           \n",
       "20096_1-Size_of_red_wine_glass_drunk_small_125ml                                             0.273777        \n",
       "2345-Ever_had_bowel_cancer_screening                                                         0.872317        \n",
       "N49-Diagnoses_main_ICD10_N49_Inflammatory_disor...                                           0.007125        \n",
       "100011_raw-Iron                                                                              0.638303        \n",
       "5221-Index_of_best_refractometry_result_right                                                0.177313        \n",
       "\n",
       "                                                    ...  \\\n",
       "phenomexcan_traits                                  ...   \n",
       "20096_1-Size_of_red_wine_glass_drunk_small_125ml    ...   \n",
       "2345-Ever_had_bowel_cancer_screening                ...   \n",
       "N49-Diagnoses_main_ICD10_N49_Inflammatory_disor...  ...   \n",
       "100011_raw-Iron                                     ...   \n",
       "5221-Index_of_best_refractometry_result_right       ...   \n",
       "\n",
       "                                                    Retinitis pigmentosa 58  \\\n",
       "phenomexcan_traits                                                            \n",
       "20096_1-Size_of_red_wine_glass_drunk_small_125ml                   0.292204   \n",
       "2345-Ever_had_bowel_cancer_screening                               0.871863   \n",
       "N49-Diagnoses_main_ICD10_N49_Inflammatory_disor...                 0.020070   \n",
       "100011_raw-Iron                                                    0.000193   \n",
       "5221-Index_of_best_refractometry_result_right                      2.239274   \n",
       "\n",
       "                                                    Myopia 21, autosomal dominant  \\\n",
       "phenomexcan_traits                                                                  \n",
       "20096_1-Size_of_red_wine_glass_drunk_small_125ml                         1.695379   \n",
       "2345-Ever_had_bowel_cancer_screening                                     0.772939   \n",
       "N49-Diagnoses_main_ICD10_N49_Inflammatory_disor...                       0.137331   \n",
       "100011_raw-Iron                                                          0.327350   \n",
       "5221-Index_of_best_refractometry_result_right                            1.115672   \n",
       "\n",
       "                                                    Paget disease of bone 6  \\\n",
       "phenomexcan_traits                                                            \n",
       "20096_1-Size_of_red_wine_glass_drunk_small_125ml                   0.355525   \n",
       "2345-Ever_had_bowel_cancer_screening                               0.120311   \n",
       "N49-Diagnoses_main_ICD10_N49_Inflammatory_disor...                 0.744516   \n",
       "100011_raw-Iron                                                    0.436058   \n",
       "5221-Index_of_best_refractometry_result_right                      0.141618   \n",
       "\n",
       "                                                    Seborrhea-like dermatitis with psoriasiform elements  \\\n",
       "phenomexcan_traits                                                                                         \n",
       "20096_1-Size_of_red_wine_glass_drunk_small_125ml                                             1.101905      \n",
       "2345-Ever_had_bowel_cancer_screening                                                         0.015428      \n",
       "N49-Diagnoses_main_ICD10_N49_Inflammatory_disor...                                           0.810886      \n",
       "100011_raw-Iron                                                                              0.096868      \n",
       "5221-Index_of_best_refractometry_result_right                                                0.012610      \n",
       "\n",
       "                                                    PEHO syndrome  \\\n",
       "phenomexcan_traits                                                  \n",
       "20096_1-Size_of_red_wine_glass_drunk_small_125ml         0.379410   \n",
       "2345-Ever_had_bowel_cancer_screening                     0.332303   \n",
       "N49-Diagnoses_main_ICD10_N49_Inflammatory_disor...       0.222463   \n",
       "100011_raw-Iron                                          0.173245   \n",
       "5221-Index_of_best_refractometry_result_right            1.253595   \n",
       "\n",
       "                                                    Oocyte maturation defect 1  \\\n",
       "phenomexcan_traits                                                               \n",
       "20096_1-Size_of_red_wine_glass_drunk_small_125ml                      1.747519   \n",
       "2345-Ever_had_bowel_cancer_screening                                  1.911665   \n",
       "N49-Diagnoses_main_ICD10_N49_Inflammatory_disor...                    5.448538   \n",
       "100011_raw-Iron                                                       3.459105   \n",
       "5221-Index_of_best_refractometry_result_right                         0.031501   \n",
       "\n",
       "                                                    OOCYTE MATURATION DEFECT 6  \\\n",
       "phenomexcan_traits                                                               \n",
       "20096_1-Size_of_red_wine_glass_drunk_small_125ml                      0.272920   \n",
       "2345-Ever_had_bowel_cancer_screening                                  2.069227   \n",
       "N49-Diagnoses_main_ICD10_N49_Inflammatory_disor...                    0.087805   \n",
       "100011_raw-Iron                                                       0.144557   \n",
       "5221-Index_of_best_refractometry_result_right                         0.244870   \n",
       "\n",
       "                                                    OOCYTE MATURATION DEFECT 3  \\\n",
       "phenomexcan_traits                                                               \n",
       "20096_1-Size_of_red_wine_glass_drunk_small_125ml                      0.006041   \n",
       "2345-Ever_had_bowel_cancer_screening                                  0.242165   \n",
       "N49-Diagnoses_main_ICD10_N49_Inflammatory_disor...                    0.725028   \n",
       "100011_raw-Iron                                                       0.009105   \n",
       "5221-Index_of_best_refractometry_result_right                         0.001039   \n",
       "\n",
       "                                                    Acromelic frontonasal dysostosis  \\\n",
       "phenomexcan_traits                                                                     \n",
       "20096_1-Size_of_red_wine_glass_drunk_small_125ml                            0.194577   \n",
       "2345-Ever_had_bowel_cancer_screening                                        0.392449   \n",
       "N49-Diagnoses_main_ICD10_N49_Inflammatory_disor...                          0.155316   \n",
       "100011_raw-Iron                                                             0.015222   \n",
       "5221-Index_of_best_refractometry_result_right                               0.028283   \n",
       "\n",
       "                                                    NEURODEVELOPMENTAL DISORDER WITH MOVEMENT ABNORMALITIES, ABNORMAL GAIT, AND AUTISTIC FEATURES  \n",
       "phenomexcan_traits                                                                                                                                 \n",
       "20096_1-Size_of_red_wine_glass_drunk_small_125ml                                             0.194577                                              \n",
       "2345-Ever_had_bowel_cancer_screening                                                         0.392449                                              \n",
       "N49-Diagnoses_main_ICD10_N49_Inflammatory_disor...                                           0.155316                                              \n",
       "100011_raw-Iron                                                                              0.015222                                              \n",
       "5221-Index_of_best_refractometry_result_right                                                0.028283                                              \n",
       "\n",
       "[5 rows x 5106 columns]"
      ]
     },
     "metadata": {},
     "output_type": "display_data"
    }
   ],
   "source": [
    "display(phenomexcan_vs_clinvar.shape)\n",
    "display(phenomexcan_vs_clinvar.head())"
   ]
  },
  {
   "cell_type": "markdown",
   "metadata": {},
   "source": [
    "## QQplot"
   ]
  },
  {
   "cell_type": "code",
   "execution_count": 7,
   "metadata": {},
   "outputs": [],
   "source": [
    "from scipy import stats\n",
    "import plots"
   ]
  },
  {
   "cell_type": "code",
   "execution_count": 8,
   "metadata": {},
   "outputs": [],
   "source": [
    "_all_values = pd.Series(phenomexcan_vs_clinvar.values.flatten())"
   ]
  },
  {
   "cell_type": "code",
   "execution_count": 9,
   "metadata": {},
   "outputs": [
    {
     "data": {
      "text/plain": [
       "count    2.088865e+07\n",
       "mean     1.330285e+00\n",
       "std      7.561057e+00\n",
       "min      0.000000e+00\n",
       "25%      1.233913e-01\n",
       "50%      5.334078e-01\n",
       "75%      1.485715e+00\n",
       "max      1.600000e+03\n",
       "dtype: float64"
      ]
     },
     "execution_count": 9,
     "metadata": {},
     "output_type": "execute_result"
    }
   ],
   "source": [
    "_all_values.describe()"
   ]
  },
  {
   "cell_type": "code",
   "execution_count": 10,
   "metadata": {},
   "outputs": [
    {
     "data": {
      "text/plain": [
       "0.9500      4.484652\n",
       "0.9750      6.183966\n",
       "0.9900      9.253712\n",
       "0.9990     42.260161\n",
       "0.9999    238.951206\n",
       "dtype: float64"
      ]
     },
     "metadata": {},
     "output_type": "display_data"
    }
   ],
   "source": [
    "all_values_quantiles = _all_values.quantile((0.95, 0.975, 0.99, 0.999, 0.9999))\n",
    "display(all_values_quantiles)"
   ]
  },
  {
   "cell_type": "code",
   "execution_count": 11,
   "metadata": {},
   "outputs": [],
   "source": [
    "(theoretical_quantiles, sorted_input) = stats.probplot(_all_values, sparams=(1,), dist='chi2', fit=False, plot=None)"
   ]
  },
  {
   "cell_type": "code",
   "execution_count": 12,
   "metadata": {},
   "outputs": [
    {
     "data": {
      "text/plain": [
       "(20888646, 20888646)"
      ]
     },
     "execution_count": 12,
     "metadata": {},
     "output_type": "execute_result"
    }
   ],
   "source": [
    "len(theoretical_quantiles), len(sorted_input)"
   ]
  },
  {
   "cell_type": "code",
   "execution_count": 13,
   "metadata": {},
   "outputs": [
    {
     "data": {
      "text/plain": [
       "(20888646, 2)"
      ]
     },
     "metadata": {},
     "output_type": "display_data"
    },
    {
     "data": {
      "text/html": [
       "<div>\n",
       "<style scoped>\n",
       "    .dataframe tbody tr th:only-of-type {\n",
       "        vertical-align: middle;\n",
       "    }\n",
       "\n",
       "    .dataframe tbody tr th {\n",
       "        vertical-align: top;\n",
       "    }\n",
       "\n",
       "    .dataframe thead th {\n",
       "        text-align: right;\n",
       "    }\n",
       "</style>\n",
       "<table border=\"1\" class=\"dataframe\">\n",
       "  <thead>\n",
       "    <tr style=\"text-align: right;\">\n",
       "      <th></th>\n",
       "      <th>chi2</th>\n",
       "      <th>real</th>\n",
       "    </tr>\n",
       "  </thead>\n",
       "  <tbody>\n",
       "    <tr>\n",
       "      <th>0</th>\n",
       "      <td>1.729618e-15</td>\n",
       "      <td>0.0</td>\n",
       "    </tr>\n",
       "    <tr>\n",
       "      <th>1</th>\n",
       "      <td>1.019083e-14</td>\n",
       "      <td>0.0</td>\n",
       "    </tr>\n",
       "    <tr>\n",
       "      <th>2</th>\n",
       "      <td>2.590471e-14</td>\n",
       "      <td>0.0</td>\n",
       "    </tr>\n",
       "    <tr>\n",
       "      <th>3</th>\n",
       "      <td>4.881854e-14</td>\n",
       "      <td>0.0</td>\n",
       "    </tr>\n",
       "    <tr>\n",
       "      <th>4</th>\n",
       "      <td>7.893232e-14</td>\n",
       "      <td>0.0</td>\n",
       "    </tr>\n",
       "  </tbody>\n",
       "</table>\n",
       "</div>"
      ],
      "text/plain": [
       "           chi2  real\n",
       "0  1.729618e-15   0.0\n",
       "1  1.019083e-14   0.0\n",
       "2  2.590471e-14   0.0\n",
       "3  4.881854e-14   0.0\n",
       "4  7.893232e-14   0.0"
      ]
     },
     "metadata": {},
     "output_type": "display_data"
    }
   ],
   "source": [
    "threshold = 30\n",
    "\n",
    "theoretical_quantiles[theoretical_quantiles > threshold] = threshold\n",
    "\n",
    "real_values = sorted_input\n",
    "real_values[real_values > threshold] = threshold\n",
    "\n",
    "df_plot = pd.DataFrame({'chi2': theoretical_quantiles, 'real': real_values})\n",
    "display(df_plot.shape)\n",
    "display(df_plot.head())"
   ]
  },
  {
   "cell_type": "code",
   "execution_count": 14,
   "metadata": {},
   "outputs": [
    {
     "data": {
      "text/html": [
       "<div>\n",
       "<style scoped>\n",
       "    .dataframe tbody tr th:only-of-type {\n",
       "        vertical-align: middle;\n",
       "    }\n",
       "\n",
       "    .dataframe tbody tr th {\n",
       "        vertical-align: top;\n",
       "    }\n",
       "\n",
       "    .dataframe thead th {\n",
       "        text-align: right;\n",
       "    }\n",
       "</style>\n",
       "<table border=\"1\" class=\"dataframe\">\n",
       "  <thead>\n",
       "    <tr style=\"text-align: right;\">\n",
       "      <th></th>\n",
       "      <th>chi2</th>\n",
       "      <th>real</th>\n",
       "    </tr>\n",
       "  </thead>\n",
       "  <tbody>\n",
       "    <tr>\n",
       "      <th>count</th>\n",
       "      <td>20888646.000</td>\n",
       "      <td>20888646.000</td>\n",
       "    </tr>\n",
       "    <tr>\n",
       "      <th>mean</th>\n",
       "      <td>1.000</td>\n",
       "      <td>1.227</td>\n",
       "    </tr>\n",
       "    <tr>\n",
       "      <th>std</th>\n",
       "      <td>1.414</td>\n",
       "      <td>2.215</td>\n",
       "    </tr>\n",
       "    <tr>\n",
       "      <th>min</th>\n",
       "      <td>0.000</td>\n",
       "      <td>0.000</td>\n",
       "    </tr>\n",
       "    <tr>\n",
       "      <th>25%</th>\n",
       "      <td>0.102</td>\n",
       "      <td>0.123</td>\n",
       "    </tr>\n",
       "    <tr>\n",
       "      <th>50%</th>\n",
       "      <td>0.455</td>\n",
       "      <td>0.533</td>\n",
       "    </tr>\n",
       "    <tr>\n",
       "      <th>75%</th>\n",
       "      <td>1.323</td>\n",
       "      <td>1.486</td>\n",
       "    </tr>\n",
       "    <tr>\n",
       "      <th>max</th>\n",
       "      <td>30.000</td>\n",
       "      <td>30.000</td>\n",
       "    </tr>\n",
       "  </tbody>\n",
       "</table>\n",
       "</div>"
      ],
      "text/plain": [
       "               chi2          real\n",
       "count  20888646.000  20888646.000\n",
       "mean          1.000         1.227\n",
       "std           1.414         2.215\n",
       "min           0.000         0.000\n",
       "25%           0.102         0.123\n",
       "50%           0.455         0.533\n",
       "75%           1.323         1.486\n",
       "max          30.000        30.000"
      ]
     },
     "execution_count": 14,
     "metadata": {},
     "output_type": "execute_result"
    }
   ],
   "source": [
    "df_plot.describe().applymap(lambda x: f'{x:.3f}')"
   ]
  },
  {
   "cell_type": "code",
   "execution_count": 15,
   "metadata": {},
   "outputs": [
    {
     "data": {
      "image/png": "[encoded data removed]",
      "text/plain": [
       "<Figure size 1200x800 with 1 Axes>"
      ]
     },
     "metadata": {
      "needs_background": "light"
     },
     "output_type": "display_data"
    }
   ],
   "source": [
    "ax = plots.qqplot(df_plot, 'chi2', 'real', xlabel='Expected $Z^2$', ylabel='Observed $Z^2$', s=5, linewidth=0)\n",
    "#ax.set_xlim([0, 20])\n",
    "# ax.set_title('QQplot of UKB/ClinVar $Z^2$')\n",
    "\n",
    "plt.savefig(os.path.join(supp_fig3_dir, 'supp_fig3.pdf'), bbox_inches='tight')"
   ]
  },
  {
   "cell_type": "code",
   "execution_count": null,
   "metadata": {},
   "outputs": [],
   "source": []
  }
 ],
 "metadata": {
  "kernelspec": {
   "display_name": "Python 3",
   "language": "python",
   "name": "python3"
  },
  "language_info": {
   "codemirror_mode": {
    "name": "ipython",
    "version": 3
   },
   "file_extension": ".py",
   "mimetype": "text/x-python",
   "name": "python",
   "nbconvert_exporter": "python",
   "pygments_lexer": "ipython3",
   "version": "3.7.5"
  }
 },
 "nbformat": 4,
 "nbformat_minor": 4
}
