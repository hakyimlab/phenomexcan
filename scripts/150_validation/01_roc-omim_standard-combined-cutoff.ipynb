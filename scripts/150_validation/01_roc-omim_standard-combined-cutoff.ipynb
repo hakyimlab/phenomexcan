{
 "cells": [
  {
   "cell_type": "code",
   "execution_count": 1,
   "metadata": {},
   "outputs": [],
   "source": [
    "%load_ext autoreload\n",
    "%autoreload 2"
   ]
  },
  {
   "cell_type": "code",
   "execution_count": 2,
   "metadata": {},
   "outputs": [],
   "source": [
    "import os\n",
    "import pickle\n",
    "\n",
    "import numpy as np\n",
    "import pandas as pd\n",
    "\n",
    "import settings as conf"
   ]
  },
  {
   "cell_type": "code",
   "execution_count": 3,
   "metadata": {},
   "outputs": [],
   "source": [
    "# genes_associations_dir = os.path.join(conf.PREPROCESSED_BASED_DIR, 'gene_associations')\n",
    "# smultixcan_gene_association_dirs = os.path.join(genes_associations_dir, 'mashr')\n",
    "\n",
    "output_dir = os.path.join(conf.DELIVERABLES_DIR, 'roc_validation', 'classifier_tables')\n",
    "os.makedirs(output_dir, exist_ok=True)"
   ]
  },
  {
   "cell_type": "code",
   "execution_count": 4,
   "metadata": {},
   "outputs": [],
   "source": [
    "RCP_CUTOFF = 0.10"
   ]
  },
  {
   "cell_type": "markdown",
   "metadata": {},
   "source": [
    "# Load gene mappings"
   ]
  },
  {
   "cell_type": "code",
   "execution_count": 5,
   "metadata": {},
   "outputs": [],
   "source": [
    "with open(os.path.join(conf.GENES_METADATA_DIR, 'genes_mapping_simplified-0.pkl'), 'rb') as f:\n",
    "    genes_mapping_0 = pickle.load(f)\n",
    "\n",
    "with open(os.path.join(conf.GENES_METADATA_DIR, 'genes_mapping_simplified-1.pkl'), 'rb') as f:\n",
    "    genes_mapping_1 = pickle.load(f)"
   ]
  },
  {
   "cell_type": "markdown",
   "metadata": {},
   "source": [
    "# Load S-MultiXcan results"
   ]
  },
  {
   "cell_type": "code",
   "execution_count": 6,
   "metadata": {},
   "outputs": [
    {
     "data": {
      "text/plain": [
       "'/mnt/phenomexcan_base/gene_assoc/smultixcan-mashr-zscores.pkl.xz'"
      ]
     },
     "metadata": {},
     "output_type": "display_data"
    }
   ],
   "source": [
    "smultixcan_genes_associations_filename = os.path.join(conf.GENE_ASSOC_DIR, 'smultixcan-mashr-zscores.pkl.xz')\n",
    "display(smultixcan_genes_associations_filename)\n",
    "\n",
    "smultixcan_genes_associations = pd.read_pickle(smultixcan_genes_associations_filename)"
   ]
  },
  {
   "cell_type": "code",
   "execution_count": 7,
   "metadata": {},
   "outputs": [
    {
     "data": {
      "text/plain": [
       "(22515, 4091)"
      ]
     },
     "execution_count": 7,
     "metadata": {},
     "output_type": "execute_result"
    }
   ],
   "source": [
    "smultixcan_genes_associations.shape"
   ]
  },
  {
   "cell_type": "code",
   "execution_count": 8,
   "metadata": {},
   "outputs": [
    {
     "data": {
      "text/html": [
       "<div>\n",
       "<style scoped>\n",
       "    .dataframe tbody tr th:only-of-type {\n",
       "        vertical-align: middle;\n",
       "    }\n",
       "\n",
       "    .dataframe tbody tr th {\n",
       "        vertical-align: top;\n",
       "    }\n",
       "\n",
       "    .dataframe thead th {\n",
       "        text-align: right;\n",
       "    }\n",
       "</style>\n",
       "<table border=\"1\" class=\"dataframe\">\n",
       "  <thead>\n",
       "    <tr style=\"text-align: right;\">\n",
       "      <th></th>\n",
       "      <th>20096_1-Size_of_red_wine_glass_drunk_small_125ml</th>\n",
       "      <th>2345-Ever_had_bowel_cancer_screening</th>\n",
       "      <th>N49-Diagnoses_main_ICD10_N49_Inflammatory_disorders_of_male_genital_organs_not_elsewhere_classified</th>\n",
       "      <th>100011_raw-Iron</th>\n",
       "      <th>5221-Index_of_best_refractometry_result_right</th>\n",
       "      <th>20003_1141150624-Treatmentmedication_code_zomig_25mg_tablet</th>\n",
       "      <th>S69-Diagnoses_main_ICD10_S69_Other_and_unspecified_injuries_of_wrist_and_hand</th>\n",
       "      <th>20024_1136-Job_code_deduced_Information_and_communication_technology_managers</th>\n",
       "      <th>20002_1385-Noncancer_illness_code_selfreported_allergy_or_anaphylactic_reaction_to_food</th>\n",
       "      <th>G6_SLEEPAPNO-Sleep_apnoea</th>\n",
       "      <th>...</th>\n",
       "      <th>Astle_et_al_2016_Sum_basophil_neutrophil_counts</th>\n",
       "      <th>RA_OKADA_TRANS_ETHNIC</th>\n",
       "      <th>pgc.scz2</th>\n",
       "      <th>PGC_ADHD_EUR_2017</th>\n",
       "      <th>MAGIC_FastingGlucose</th>\n",
       "      <th>Astle_et_al_2016_Red_blood_cell_count</th>\n",
       "      <th>SSGAC_Depressive_Symptoms</th>\n",
       "      <th>BCAC_ER_positive_BreastCancer_EUR</th>\n",
       "      <th>IBD.EUR.Inflammatory_Bowel_Disease</th>\n",
       "      <th>Astle_et_al_2016_High_light_scatter_reticulocyte_count</th>\n",
       "    </tr>\n",
       "    <tr>\n",
       "      <th>gene_name</th>\n",
       "      <th></th>\n",
       "      <th></th>\n",
       "      <th></th>\n",
       "      <th></th>\n",
       "      <th></th>\n",
       "      <th></th>\n",
       "      <th></th>\n",
       "      <th></th>\n",
       "      <th></th>\n",
       "      <th></th>\n",
       "      <th></th>\n",
       "      <th></th>\n",
       "      <th></th>\n",
       "      <th></th>\n",
       "      <th></th>\n",
       "      <th></th>\n",
       "      <th></th>\n",
       "      <th></th>\n",
       "      <th></th>\n",
       "      <th></th>\n",
       "      <th></th>\n",
       "    </tr>\n",
       "  </thead>\n",
       "  <tbody>\n",
       "    <tr>\n",
       "      <th>ENSG00000000419</th>\n",
       "      <td>0.169468</td>\n",
       "      <td>0.102558</td>\n",
       "      <td>0.239545</td>\n",
       "      <td>0.887758</td>\n",
       "      <td>1.313448</td>\n",
       "      <td>1.472148</td>\n",
       "      <td>0.726160</td>\n",
       "      <td>1.516367</td>\n",
       "      <td>1.299771</td>\n",
       "      <td>1.068093</td>\n",
       "      <td>...</td>\n",
       "      <td>0.813014</td>\n",
       "      <td>0.275993</td>\n",
       "      <td>0.510834</td>\n",
       "      <td>0.024717</td>\n",
       "      <td>0.430951</td>\n",
       "      <td>0.824314</td>\n",
       "      <td>0.367414</td>\n",
       "      <td>1.377624</td>\n",
       "      <td>0.738444</td>\n",
       "      <td>0.298259</td>\n",
       "    </tr>\n",
       "    <tr>\n",
       "      <th>ENSG00000000457</th>\n",
       "      <td>1.358856</td>\n",
       "      <td>1.846875</td>\n",
       "      <td>0.139324</td>\n",
       "      <td>0.129530</td>\n",
       "      <td>0.757757</td>\n",
       "      <td>1.103979</td>\n",
       "      <td>0.612418</td>\n",
       "      <td>1.822327</td>\n",
       "      <td>2.035372</td>\n",
       "      <td>1.008058</td>\n",
       "      <td>...</td>\n",
       "      <td>1.441795</td>\n",
       "      <td>0.654791</td>\n",
       "      <td>2.545653</td>\n",
       "      <td>1.202984</td>\n",
       "      <td>0.514244</td>\n",
       "      <td>0.237223</td>\n",
       "      <td>0.414171</td>\n",
       "      <td>0.101731</td>\n",
       "      <td>1.012735</td>\n",
       "      <td>0.945167</td>\n",
       "    </tr>\n",
       "    <tr>\n",
       "      <th>ENSG00000000460</th>\n",
       "      <td>0.151008</td>\n",
       "      <td>1.173202</td>\n",
       "      <td>1.179426</td>\n",
       "      <td>0.571656</td>\n",
       "      <td>0.098771</td>\n",
       "      <td>0.221072</td>\n",
       "      <td>0.276415</td>\n",
       "      <td>0.461381</td>\n",
       "      <td>0.855502</td>\n",
       "      <td>0.201876</td>\n",
       "      <td>...</td>\n",
       "      <td>0.668962</td>\n",
       "      <td>0.300040</td>\n",
       "      <td>0.541782</td>\n",
       "      <td>1.033308</td>\n",
       "      <td>0.482261</td>\n",
       "      <td>0.695624</td>\n",
       "      <td>0.336480</td>\n",
       "      <td>0.083316</td>\n",
       "      <td>3.493196</td>\n",
       "      <td>0.991948</td>\n",
       "    </tr>\n",
       "    <tr>\n",
       "      <th>ENSG00000000938</th>\n",
       "      <td>1.302722</td>\n",
       "      <td>0.841524</td>\n",
       "      <td>1.578926</td>\n",
       "      <td>0.721340</td>\n",
       "      <td>0.139314</td>\n",
       "      <td>4.387016</td>\n",
       "      <td>0.125959</td>\n",
       "      <td>1.247123</td>\n",
       "      <td>0.215124</td>\n",
       "      <td>0.892083</td>\n",
       "      <td>...</td>\n",
       "      <td>0.126657</td>\n",
       "      <td>0.048048</td>\n",
       "      <td>1.886356</td>\n",
       "      <td>0.540496</td>\n",
       "      <td>0.127524</td>\n",
       "      <td>1.494501</td>\n",
       "      <td>0.056432</td>\n",
       "      <td>1.704863</td>\n",
       "      <td>1.351619</td>\n",
       "      <td>1.027297</td>\n",
       "    </tr>\n",
       "    <tr>\n",
       "      <th>ENSG00000000971</th>\n",
       "      <td>1.338813</td>\n",
       "      <td>0.262339</td>\n",
       "      <td>0.689379</td>\n",
       "      <td>1.702019</td>\n",
       "      <td>0.325859</td>\n",
       "      <td>0.063161</td>\n",
       "      <td>1.141126</td>\n",
       "      <td>0.882682</td>\n",
       "      <td>0.035533</td>\n",
       "      <td>1.810191</td>\n",
       "      <td>...</td>\n",
       "      <td>0.858497</td>\n",
       "      <td>1.675562</td>\n",
       "      <td>2.319072</td>\n",
       "      <td>1.598721</td>\n",
       "      <td>0.162958</td>\n",
       "      <td>0.005703</td>\n",
       "      <td>3.004544</td>\n",
       "      <td>0.803669</td>\n",
       "      <td>0.444266</td>\n",
       "      <td>0.165671</td>\n",
       "    </tr>\n",
       "  </tbody>\n",
       "</table>\n",
       "<p>5 rows × 4091 columns</p>\n",
       "</div>"
      ],
      "text/plain": [
       "                 20096_1-Size_of_red_wine_glass_drunk_small_125ml  \\\n",
       "gene_name                                                           \n",
       "ENSG00000000419                                          0.169468   \n",
       "ENSG00000000457                                          1.358856   \n",
       "ENSG00000000460                                          0.151008   \n",
       "ENSG00000000938                                          1.302722   \n",
       "ENSG00000000971                                          1.338813   \n",
       "\n",
       "                 2345-Ever_had_bowel_cancer_screening  \\\n",
       "gene_name                                               \n",
       "ENSG00000000419                              0.102558   \n",
       "ENSG00000000457                              1.846875   \n",
       "ENSG00000000460                              1.173202   \n",
       "ENSG00000000938                              0.841524   \n",
       "ENSG00000000971                              0.262339   \n",
       "\n",
       "                 N49-Diagnoses_main_ICD10_N49_Inflammatory_disorders_of_male_genital_organs_not_elsewhere_classified  \\\n",
       "gene_name                                                                                                              \n",
       "ENSG00000000419                                           0.239545                                                     \n",
       "ENSG00000000457                                           0.139324                                                     \n",
       "ENSG00000000460                                           1.179426                                                     \n",
       "ENSG00000000938                                           1.578926                                                     \n",
       "ENSG00000000971                                           0.689379                                                     \n",
       "\n",
       "                 100011_raw-Iron  \\\n",
       "gene_name                          \n",
       "ENSG00000000419         0.887758   \n",
       "ENSG00000000457         0.129530   \n",
       "ENSG00000000460         0.571656   \n",
       "ENSG00000000938         0.721340   \n",
       "ENSG00000000971         1.702019   \n",
       "\n",
       "                 5221-Index_of_best_refractometry_result_right  \\\n",
       "gene_name                                                        \n",
       "ENSG00000000419                                       1.313448   \n",
       "ENSG00000000457                                       0.757757   \n",
       "ENSG00000000460                                       0.098771   \n",
       "ENSG00000000938                                       0.139314   \n",
       "ENSG00000000971                                       0.325859   \n",
       "\n",
       "                 20003_1141150624-Treatmentmedication_code_zomig_25mg_tablet  \\\n",
       "gene_name                                                                      \n",
       "ENSG00000000419                                           1.472148             \n",
       "ENSG00000000457                                           1.103979             \n",
       "ENSG00000000460                                           0.221072             \n",
       "ENSG00000000938                                           4.387016             \n",
       "ENSG00000000971                                           0.063161             \n",
       "\n",
       "                 S69-Diagnoses_main_ICD10_S69_Other_and_unspecified_injuries_of_wrist_and_hand  \\\n",
       "gene_name                                                                                        \n",
       "ENSG00000000419                                           0.726160                               \n",
       "ENSG00000000457                                           0.612418                               \n",
       "ENSG00000000460                                           0.276415                               \n",
       "ENSG00000000938                                           0.125959                               \n",
       "ENSG00000000971                                           1.141126                               \n",
       "\n",
       "                 20024_1136-Job_code_deduced_Information_and_communication_technology_managers  \\\n",
       "gene_name                                                                                        \n",
       "ENSG00000000419                                           1.516367                               \n",
       "ENSG00000000457                                           1.822327                               \n",
       "ENSG00000000460                                           0.461381                               \n",
       "ENSG00000000938                                           1.247123                               \n",
       "ENSG00000000971                                           0.882682                               \n",
       "\n",
       "                 20002_1385-Noncancer_illness_code_selfreported_allergy_or_anaphylactic_reaction_to_food  \\\n",
       "gene_name                                                                                                  \n",
       "ENSG00000000419                                           1.299771                                         \n",
       "ENSG00000000457                                           2.035372                                         \n",
       "ENSG00000000460                                           0.855502                                         \n",
       "ENSG00000000938                                           0.215124                                         \n",
       "ENSG00000000971                                           0.035533                                         \n",
       "\n",
       "                 G6_SLEEPAPNO-Sleep_apnoea  ...  \\\n",
       "gene_name                                   ...   \n",
       "ENSG00000000419                   1.068093  ...   \n",
       "ENSG00000000457                   1.008058  ...   \n",
       "ENSG00000000460                   0.201876  ...   \n",
       "ENSG00000000938                   0.892083  ...   \n",
       "ENSG00000000971                   1.810191  ...   \n",
       "\n",
       "                 Astle_et_al_2016_Sum_basophil_neutrophil_counts  \\\n",
       "gene_name                                                          \n",
       "ENSG00000000419                                         0.813014   \n",
       "ENSG00000000457                                         1.441795   \n",
       "ENSG00000000460                                         0.668962   \n",
       "ENSG00000000938                                         0.126657   \n",
       "ENSG00000000971                                         0.858497   \n",
       "\n",
       "                 RA_OKADA_TRANS_ETHNIC  pgc.scz2  PGC_ADHD_EUR_2017  \\\n",
       "gene_name                                                             \n",
       "ENSG00000000419               0.275993  0.510834           0.024717   \n",
       "ENSG00000000457               0.654791  2.545653           1.202984   \n",
       "ENSG00000000460               0.300040  0.541782           1.033308   \n",
       "ENSG00000000938               0.048048  1.886356           0.540496   \n",
       "ENSG00000000971               1.675562  2.319072           1.598721   \n",
       "\n",
       "                 MAGIC_FastingGlucose  Astle_et_al_2016_Red_blood_cell_count  \\\n",
       "gene_name                                                                      \n",
       "ENSG00000000419              0.430951                               0.824314   \n",
       "ENSG00000000457              0.514244                               0.237223   \n",
       "ENSG00000000460              0.482261                               0.695624   \n",
       "ENSG00000000938              0.127524                               1.494501   \n",
       "ENSG00000000971              0.162958                               0.005703   \n",
       "\n",
       "                 SSGAC_Depressive_Symptoms  BCAC_ER_positive_BreastCancer_EUR  \\\n",
       "gene_name                                                                       \n",
       "ENSG00000000419                   0.367414                           1.377624   \n",
       "ENSG00000000457                   0.414171                           0.101731   \n",
       "ENSG00000000460                   0.336480                           0.083316   \n",
       "ENSG00000000938                   0.056432                           1.704863   \n",
       "ENSG00000000971                   3.004544                           0.803669   \n",
       "\n",
       "                 IBD.EUR.Inflammatory_Bowel_Disease  \\\n",
       "gene_name                                             \n",
       "ENSG00000000419                            0.738444   \n",
       "ENSG00000000457                            1.012735   \n",
       "ENSG00000000460                            3.493196   \n",
       "ENSG00000000938                            1.351619   \n",
       "ENSG00000000971                            0.444266   \n",
       "\n",
       "                 Astle_et_al_2016_High_light_scatter_reticulocyte_count  \n",
       "gene_name                                                                \n",
       "ENSG00000000419                                           0.298259       \n",
       "ENSG00000000457                                           0.945167       \n",
       "ENSG00000000460                                           0.991948       \n",
       "ENSG00000000938                                           1.027297       \n",
       "ENSG00000000971                                           0.165671       \n",
       "\n",
       "[5 rows x 4091 columns]"
      ]
     },
     "execution_count": 8,
     "metadata": {},
     "output_type": "execute_result"
    }
   ],
   "source": [
    "smultixcan_genes_associations.head(5)"
   ]
  },
  {
   "cell_type": "markdown",
   "metadata": {},
   "source": [
    "# Load fastENLOC results"
   ]
  },
  {
   "cell_type": "code",
   "execution_count": 9,
   "metadata": {},
   "outputs": [
    {
     "data": {
      "text/plain": [
       "'/mnt/phenomexcan_base/gene_assoc/fastenloc-torus-rcp.pkl.xz'"
      ]
     },
     "metadata": {},
     "output_type": "display_data"
    }
   ],
   "source": [
    "fastenloc_genes_associations_filename = os.path.join(conf.GENE_ASSOC_DIR, 'fastenloc-torus-rcp.pkl.xz')\n",
    "display(fastenloc_genes_associations_filename)\n",
    "\n",
    "fastenloc_genes_associations = pd.read_pickle(fastenloc_genes_associations_filename)"
   ]
  },
  {
   "cell_type": "code",
   "execution_count": 10,
   "metadata": {},
   "outputs": [
    {
     "data": {
      "text/plain": [
       "(38062, 4091)"
      ]
     },
     "execution_count": 10,
     "metadata": {},
     "output_type": "execute_result"
    }
   ],
   "source": [
    "fastenloc_genes_associations.shape"
   ]
  },
  {
   "cell_type": "code",
   "execution_count": 11,
   "metadata": {},
   "outputs": [
    {
     "data": {
      "text/html": [
       "<div>\n",
       "<style scoped>\n",
       "    .dataframe tbody tr th:only-of-type {\n",
       "        vertical-align: middle;\n",
       "    }\n",
       "\n",
       "    .dataframe tbody tr th {\n",
       "        vertical-align: top;\n",
       "    }\n",
       "\n",
       "    .dataframe thead th {\n",
       "        text-align: right;\n",
       "    }\n",
       "</style>\n",
       "<table border=\"1\" class=\"dataframe\">\n",
       "  <thead>\n",
       "    <tr style=\"text-align: right;\">\n",
       "      <th></th>\n",
       "      <th>O46-Diagnoses_main_ICD10_O46_Antepartum_haemorrhage_not_elsewhere_classified</th>\n",
       "      <th>K30-Diagnoses_main_ICD10_K30_Dyspepsia</th>\n",
       "      <th>2907-Ever_stopped_smoking_for_6_months</th>\n",
       "      <th>H7_DIPLOPIA-Diplopia</th>\n",
       "      <th>1538_0-Major_dietary_changes_in_the_last_5_years_No</th>\n",
       "      <th>5663-Length_of_longest_manicirritable_episode</th>\n",
       "      <th>20002_1538-Noncancer_illness_code_selfreported_arthritis_nos</th>\n",
       "      <th>S30-Diagnoses_main_ICD10_S30_Superficial_injury_of_abdomen_lower_back_and_pelvis</th>\n",
       "      <th>24010_raw-Inverse_distance_to_the_nearest_road</th>\n",
       "      <th>3143_raw-Ankle_spacing_width</th>\n",
       "      <th>...</th>\n",
       "      <th>2237-Plays_computer_games</th>\n",
       "      <th>20002_1461-Noncancer_illness_code_selfreported_inflammatory_bowel_disease</th>\n",
       "      <th>20002_1508-Noncancer_illness_code_selfreported_jaundice_unknown_cause</th>\n",
       "      <th>20003_1140881882-Treatmentmedication_code_timoptol_025_eye_drops</th>\n",
       "      <th>22601_71253330-Job_coding_merchandiser_window_dresser</th>\n",
       "      <th>23112_raw-Leg_fat_mass_right</th>\n",
       "      <th>20003_1140861778-Treatmentmedication_code_dipyridamole</th>\n",
       "      <th>20003_1199-Treatmentmedication_code_food_supplementplantherbal_extract</th>\n",
       "      <th>1309-Fresh_fruit_intake</th>\n",
       "      <th>100920_2105-Type_milk_consumed_soya_with_calcium</th>\n",
       "    </tr>\n",
       "    <tr>\n",
       "      <th>gene_id</th>\n",
       "      <th></th>\n",
       "      <th></th>\n",
       "      <th></th>\n",
       "      <th></th>\n",
       "      <th></th>\n",
       "      <th></th>\n",
       "      <th></th>\n",
       "      <th></th>\n",
       "      <th></th>\n",
       "      <th></th>\n",
       "      <th></th>\n",
       "      <th></th>\n",
       "      <th></th>\n",
       "      <th></th>\n",
       "      <th></th>\n",
       "      <th></th>\n",
       "      <th></th>\n",
       "      <th></th>\n",
       "      <th></th>\n",
       "      <th></th>\n",
       "      <th></th>\n",
       "    </tr>\n",
       "  </thead>\n",
       "  <tbody>\n",
       "    <tr>\n",
       "      <th>ENSG00000000419</th>\n",
       "      <td>NaN</td>\n",
       "      <td>NaN</td>\n",
       "      <td>NaN</td>\n",
       "      <td>NaN</td>\n",
       "      <td>0.001213</td>\n",
       "      <td>NaN</td>\n",
       "      <td>NaN</td>\n",
       "      <td>NaN</td>\n",
       "      <td>NaN</td>\n",
       "      <td>NaN</td>\n",
       "      <td>...</td>\n",
       "      <td>NaN</td>\n",
       "      <td>NaN</td>\n",
       "      <td>NaN</td>\n",
       "      <td>NaN</td>\n",
       "      <td>NaN</td>\n",
       "      <td>NaN</td>\n",
       "      <td>NaN</td>\n",
       "      <td>NaN</td>\n",
       "      <td>0.002131</td>\n",
       "      <td>NaN</td>\n",
       "    </tr>\n",
       "    <tr>\n",
       "      <th>ENSG00000000457</th>\n",
       "      <td>NaN</td>\n",
       "      <td>NaN</td>\n",
       "      <td>NaN</td>\n",
       "      <td>NaN</td>\n",
       "      <td>0.001873</td>\n",
       "      <td>NaN</td>\n",
       "      <td>NaN</td>\n",
       "      <td>NaN</td>\n",
       "      <td>NaN</td>\n",
       "      <td>0.017720</td>\n",
       "      <td>...</td>\n",
       "      <td>0.068852</td>\n",
       "      <td>NaN</td>\n",
       "      <td>NaN</td>\n",
       "      <td>NaN</td>\n",
       "      <td>NaN</td>\n",
       "      <td>0.003383</td>\n",
       "      <td>NaN</td>\n",
       "      <td>NaN</td>\n",
       "      <td>0.009195</td>\n",
       "      <td>NaN</td>\n",
       "    </tr>\n",
       "    <tr>\n",
       "      <th>ENSG00000000460</th>\n",
       "      <td>NaN</td>\n",
       "      <td>NaN</td>\n",
       "      <td>NaN</td>\n",
       "      <td>NaN</td>\n",
       "      <td>0.002620</td>\n",
       "      <td>NaN</td>\n",
       "      <td>NaN</td>\n",
       "      <td>0.000207</td>\n",
       "      <td>NaN</td>\n",
       "      <td>0.000105</td>\n",
       "      <td>...</td>\n",
       "      <td>0.093284</td>\n",
       "      <td>NaN</td>\n",
       "      <td>NaN</td>\n",
       "      <td>NaN</td>\n",
       "      <td>NaN</td>\n",
       "      <td>0.008790</td>\n",
       "      <td>NaN</td>\n",
       "      <td>NaN</td>\n",
       "      <td>0.003105</td>\n",
       "      <td>NaN</td>\n",
       "    </tr>\n",
       "    <tr>\n",
       "      <th>ENSG00000000938</th>\n",
       "      <td>NaN</td>\n",
       "      <td>NaN</td>\n",
       "      <td>NaN</td>\n",
       "      <td>NaN</td>\n",
       "      <td>0.002928</td>\n",
       "      <td>NaN</td>\n",
       "      <td>NaN</td>\n",
       "      <td>NaN</td>\n",
       "      <td>0.000762</td>\n",
       "      <td>0.012773</td>\n",
       "      <td>...</td>\n",
       "      <td>0.004300</td>\n",
       "      <td>NaN</td>\n",
       "      <td>NaN</td>\n",
       "      <td>0.000424</td>\n",
       "      <td>NaN</td>\n",
       "      <td>0.000612</td>\n",
       "      <td>NaN</td>\n",
       "      <td>NaN</td>\n",
       "      <td>0.003240</td>\n",
       "      <td>NaN</td>\n",
       "    </tr>\n",
       "    <tr>\n",
       "      <th>ENSG00000000971</th>\n",
       "      <td>NaN</td>\n",
       "      <td>NaN</td>\n",
       "      <td>NaN</td>\n",
       "      <td>NaN</td>\n",
       "      <td>0.002858</td>\n",
       "      <td>NaN</td>\n",
       "      <td>NaN</td>\n",
       "      <td>NaN</td>\n",
       "      <td>NaN</td>\n",
       "      <td>0.019304</td>\n",
       "      <td>...</td>\n",
       "      <td>0.005419</td>\n",
       "      <td>NaN</td>\n",
       "      <td>NaN</td>\n",
       "      <td>NaN</td>\n",
       "      <td>NaN</td>\n",
       "      <td>0.007427</td>\n",
       "      <td>NaN</td>\n",
       "      <td>NaN</td>\n",
       "      <td>0.004804</td>\n",
       "      <td>NaN</td>\n",
       "    </tr>\n",
       "  </tbody>\n",
       "</table>\n",
       "<p>5 rows × 4091 columns</p>\n",
       "</div>"
      ],
      "text/plain": [
       "                 O46-Diagnoses_main_ICD10_O46_Antepartum_haemorrhage_not_elsewhere_classified  \\\n",
       "gene_id                                                                                         \n",
       "ENSG00000000419                                                NaN                              \n",
       "ENSG00000000457                                                NaN                              \n",
       "ENSG00000000460                                                NaN                              \n",
       "ENSG00000000938                                                NaN                              \n",
       "ENSG00000000971                                                NaN                              \n",
       "\n",
       "                 K30-Diagnoses_main_ICD10_K30_Dyspepsia  \\\n",
       "gene_id                                                   \n",
       "ENSG00000000419                                     NaN   \n",
       "ENSG00000000457                                     NaN   \n",
       "ENSG00000000460                                     NaN   \n",
       "ENSG00000000938                                     NaN   \n",
       "ENSG00000000971                                     NaN   \n",
       "\n",
       "                 2907-Ever_stopped_smoking_for_6_months  H7_DIPLOPIA-Diplopia  \\\n",
       "gene_id                                                                         \n",
       "ENSG00000000419                                     NaN                   NaN   \n",
       "ENSG00000000457                                     NaN                   NaN   \n",
       "ENSG00000000460                                     NaN                   NaN   \n",
       "ENSG00000000938                                     NaN                   NaN   \n",
       "ENSG00000000971                                     NaN                   NaN   \n",
       "\n",
       "                 1538_0-Major_dietary_changes_in_the_last_5_years_No  \\\n",
       "gene_id                                                                \n",
       "ENSG00000000419                                           0.001213     \n",
       "ENSG00000000457                                           0.001873     \n",
       "ENSG00000000460                                           0.002620     \n",
       "ENSG00000000938                                           0.002928     \n",
       "ENSG00000000971                                           0.002858     \n",
       "\n",
       "                 5663-Length_of_longest_manicirritable_episode  \\\n",
       "gene_id                                                          \n",
       "ENSG00000000419                                            NaN   \n",
       "ENSG00000000457                                            NaN   \n",
       "ENSG00000000460                                            NaN   \n",
       "ENSG00000000938                                            NaN   \n",
       "ENSG00000000971                                            NaN   \n",
       "\n",
       "                 20002_1538-Noncancer_illness_code_selfreported_arthritis_nos  \\\n",
       "gene_id                                                                         \n",
       "ENSG00000000419                                                NaN              \n",
       "ENSG00000000457                                                NaN              \n",
       "ENSG00000000460                                                NaN              \n",
       "ENSG00000000938                                                NaN              \n",
       "ENSG00000000971                                                NaN              \n",
       "\n",
       "                 S30-Diagnoses_main_ICD10_S30_Superficial_injury_of_abdomen_lower_back_and_pelvis  \\\n",
       "gene_id                                                                                             \n",
       "ENSG00000000419                                                NaN                                  \n",
       "ENSG00000000457                                                NaN                                  \n",
       "ENSG00000000460                                           0.000207                                  \n",
       "ENSG00000000938                                                NaN                                  \n",
       "ENSG00000000971                                                NaN                                  \n",
       "\n",
       "                 24010_raw-Inverse_distance_to_the_nearest_road  \\\n",
       "gene_id                                                           \n",
       "ENSG00000000419                                             NaN   \n",
       "ENSG00000000457                                             NaN   \n",
       "ENSG00000000460                                             NaN   \n",
       "ENSG00000000938                                        0.000762   \n",
       "ENSG00000000971                                             NaN   \n",
       "\n",
       "                 3143_raw-Ankle_spacing_width  ...  2237-Plays_computer_games  \\\n",
       "gene_id                                        ...                              \n",
       "ENSG00000000419                           NaN  ...                        NaN   \n",
       "ENSG00000000457                      0.017720  ...                   0.068852   \n",
       "ENSG00000000460                      0.000105  ...                   0.093284   \n",
       "ENSG00000000938                      0.012773  ...                   0.004300   \n",
       "ENSG00000000971                      0.019304  ...                   0.005419   \n",
       "\n",
       "                 20002_1461-Noncancer_illness_code_selfreported_inflammatory_bowel_disease  \\\n",
       "gene_id                                                                                      \n",
       "ENSG00000000419                                                NaN                           \n",
       "ENSG00000000457                                                NaN                           \n",
       "ENSG00000000460                                                NaN                           \n",
       "ENSG00000000938                                                NaN                           \n",
       "ENSG00000000971                                                NaN                           \n",
       "\n",
       "                 20002_1508-Noncancer_illness_code_selfreported_jaundice_unknown_cause  \\\n",
       "gene_id                                                                                  \n",
       "ENSG00000000419                                                NaN                       \n",
       "ENSG00000000457                                                NaN                       \n",
       "ENSG00000000460                                                NaN                       \n",
       "ENSG00000000938                                                NaN                       \n",
       "ENSG00000000971                                                NaN                       \n",
       "\n",
       "                 20003_1140881882-Treatmentmedication_code_timoptol_025_eye_drops  \\\n",
       "gene_id                                                                             \n",
       "ENSG00000000419                                                NaN                  \n",
       "ENSG00000000457                                                NaN                  \n",
       "ENSG00000000460                                                NaN                  \n",
       "ENSG00000000938                                           0.000424                  \n",
       "ENSG00000000971                                                NaN                  \n",
       "\n",
       "                 22601_71253330-Job_coding_merchandiser_window_dresser  \\\n",
       "gene_id                                                                  \n",
       "ENSG00000000419                                                NaN       \n",
       "ENSG00000000457                                                NaN       \n",
       "ENSG00000000460                                                NaN       \n",
       "ENSG00000000938                                                NaN       \n",
       "ENSG00000000971                                                NaN       \n",
       "\n",
       "                 23112_raw-Leg_fat_mass_right  \\\n",
       "gene_id                                         \n",
       "ENSG00000000419                           NaN   \n",
       "ENSG00000000457                      0.003383   \n",
       "ENSG00000000460                      0.008790   \n",
       "ENSG00000000938                      0.000612   \n",
       "ENSG00000000971                      0.007427   \n",
       "\n",
       "                 20003_1140861778-Treatmentmedication_code_dipyridamole  \\\n",
       "gene_id                                                                   \n",
       "ENSG00000000419                                                NaN        \n",
       "ENSG00000000457                                                NaN        \n",
       "ENSG00000000460                                                NaN        \n",
       "ENSG00000000938                                                NaN        \n",
       "ENSG00000000971                                                NaN        \n",
       "\n",
       "                 20003_1199-Treatmentmedication_code_food_supplementplantherbal_extract  \\\n",
       "gene_id                                                                                   \n",
       "ENSG00000000419                                                NaN                        \n",
       "ENSG00000000457                                                NaN                        \n",
       "ENSG00000000460                                                NaN                        \n",
       "ENSG00000000938                                                NaN                        \n",
       "ENSG00000000971                                                NaN                        \n",
       "\n",
       "                 1309-Fresh_fruit_intake  \\\n",
       "gene_id                                    \n",
       "ENSG00000000419                 0.002131   \n",
       "ENSG00000000457                 0.009195   \n",
       "ENSG00000000460                 0.003105   \n",
       "ENSG00000000938                 0.003240   \n",
       "ENSG00000000971                 0.004804   \n",
       "\n",
       "                 100920_2105-Type_milk_consumed_soya_with_calcium  \n",
       "gene_id                                                            \n",
       "ENSG00000000419                                               NaN  \n",
       "ENSG00000000457                                               NaN  \n",
       "ENSG00000000460                                               NaN  \n",
       "ENSG00000000938                                               NaN  \n",
       "ENSG00000000971                                               NaN  \n",
       "\n",
       "[5 rows x 4091 columns]"
      ]
     },
     "execution_count": 11,
     "metadata": {},
     "output_type": "execute_result"
    }
   ],
   "source": [
    "fastenloc_genes_associations.head(5)"
   ]
  },
  {
   "cell_type": "markdown",
   "metadata": {},
   "source": [
    "# Genes in common between S-MultiXcan and fastENLOC"
   ]
  },
  {
   "cell_type": "code",
   "execution_count": 12,
   "metadata": {},
   "outputs": [
    {
     "data": {
      "text/plain": [
       "Index(['ENSG00000000419', 'ENSG00000000457', 'ENSG00000000460',\n",
       "       'ENSG00000000938', 'ENSG00000000971', 'ENSG00000001036',\n",
       "       'ENSG00000001084', 'ENSG00000001167', 'ENSG00000001460',\n",
       "       'ENSG00000001461',\n",
       "       ...\n",
       "       'ENSG00000284240', 'ENSG00000284308', 'ENSG00000284395',\n",
       "       'ENSG00000284413', 'ENSG00000284418', 'ENSG00000284430',\n",
       "       'ENSG00000284452', 'ENSG00000284513', 'ENSG00000284526',\n",
       "       'ENSG00000284552'],\n",
       "      dtype='object', length=22471)"
      ]
     },
     "metadata": {},
     "output_type": "display_data"
    }
   ],
   "source": [
    "common_genes = fastenloc_genes_associations.index.intersection(smultixcan_genes_associations.index)\n",
    "display(common_genes)"
   ]
  },
  {
   "cell_type": "markdown",
   "metadata": {},
   "source": [
    "# Load OMIM silver standard"
   ]
  },
  {
   "cell_type": "code",
   "execution_count": 13,
   "metadata": {},
   "outputs": [],
   "source": [
    "omim_silver_standard = pd.read_csv(os.path.join(conf.DATA_DIR, 'omim_silver_standard.tsv'), sep='\\t')"
   ]
  },
  {
   "cell_type": "code",
   "execution_count": 14,
   "metadata": {},
   "outputs": [],
   "source": [
    "omim_silver_standard = omim_silver_standard.dropna(subset=['ensembl_gene_id', 'trait', 'pheno_mim'])"
   ]
  },
  {
   "cell_type": "code",
   "execution_count": 15,
   "metadata": {},
   "outputs": [
    {
     "data": {
      "text/plain": [
       "(7809, 7)"
      ]
     },
     "metadata": {},
     "output_type": "display_data"
    },
    {
     "data": {
      "text/html": [
       "<div>\n",
       "<style scoped>\n",
       "    .dataframe tbody tr th:only-of-type {\n",
       "        vertical-align: middle;\n",
       "    }\n",
       "\n",
       "    .dataframe tbody tr th {\n",
       "        vertical-align: top;\n",
       "    }\n",
       "\n",
       "    .dataframe thead th {\n",
       "        text-align: right;\n",
       "    }\n",
       "</style>\n",
       "<table border=\"1\" class=\"dataframe\">\n",
       "  <thead>\n",
       "    <tr style=\"text-align: right;\">\n",
       "      <th></th>\n",
       "      <th>trait</th>\n",
       "      <th>pheno_mim</th>\n",
       "      <th>mim</th>\n",
       "      <th>entry_type</th>\n",
       "      <th>entrez_gene_id</th>\n",
       "      <th>approved_gene_symbol</th>\n",
       "      <th>ensembl_gene_id</th>\n",
       "    </tr>\n",
       "  </thead>\n",
       "  <tbody>\n",
       "    <tr>\n",
       "      <th>0</th>\n",
       "      <td>M41-Diagnoses_main_ICD10_M41_Scoliosis</td>\n",
       "      <td>101800</td>\n",
       "      <td>188830</td>\n",
       "      <td>gene</td>\n",
       "      <td>5573</td>\n",
       "      <td>PRKAR1A</td>\n",
       "      <td>ENSG00000108946</td>\n",
       "    </tr>\n",
       "    <tr>\n",
       "      <th>1</th>\n",
       "      <td>M41-Diagnoses_main_ICD10_M41_Scoliosis</td>\n",
       "      <td>102500</td>\n",
       "      <td>600275</td>\n",
       "      <td>gene</td>\n",
       "      <td>4853</td>\n",
       "      <td>NOTCH2</td>\n",
       "      <td>ENSG00000134250</td>\n",
       "    </tr>\n",
       "    <tr>\n",
       "      <th>2</th>\n",
       "      <td>M41-Diagnoses_main_ICD10_M41_Scoliosis</td>\n",
       "      <td>105830</td>\n",
       "      <td>601623</td>\n",
       "      <td>gene</td>\n",
       "      <td>7337</td>\n",
       "      <td>UBE3A</td>\n",
       "      <td>ENSG00000114062</td>\n",
       "    </tr>\n",
       "    <tr>\n",
       "      <th>3</th>\n",
       "      <td>M41-Diagnoses_main_ICD10_M41_Scoliosis</td>\n",
       "      <td>108120</td>\n",
       "      <td>190990</td>\n",
       "      <td>gene</td>\n",
       "      <td>7169</td>\n",
       "      <td>TPM2</td>\n",
       "      <td>ENSG00000198467</td>\n",
       "    </tr>\n",
       "    <tr>\n",
       "      <th>4</th>\n",
       "      <td>M41-Diagnoses_main_ICD10_M41_Scoliosis</td>\n",
       "      <td>108145</td>\n",
       "      <td>613629</td>\n",
       "      <td>gene</td>\n",
       "      <td>63895</td>\n",
       "      <td>PIEZO2</td>\n",
       "      <td>ENSG00000154864</td>\n",
       "    </tr>\n",
       "  </tbody>\n",
       "</table>\n",
       "</div>"
      ],
      "text/plain": [
       "                                    trait  pheno_mim     mim entry_type  \\\n",
       "0  M41-Diagnoses_main_ICD10_M41_Scoliosis     101800  188830       gene   \n",
       "1  M41-Diagnoses_main_ICD10_M41_Scoliosis     102500  600275       gene   \n",
       "2  M41-Diagnoses_main_ICD10_M41_Scoliosis     105830  601623       gene   \n",
       "3  M41-Diagnoses_main_ICD10_M41_Scoliosis     108120  190990       gene   \n",
       "4  M41-Diagnoses_main_ICD10_M41_Scoliosis     108145  613629       gene   \n",
       "\n",
       "   entrez_gene_id approved_gene_symbol  ensembl_gene_id  \n",
       "0            5573              PRKAR1A  ENSG00000108946  \n",
       "1            4853               NOTCH2  ENSG00000134250  \n",
       "2            7337                UBE3A  ENSG00000114062  \n",
       "3            7169                 TPM2  ENSG00000198467  \n",
       "4           63895               PIEZO2  ENSG00000154864  "
      ]
     },
     "metadata": {},
     "output_type": "display_data"
    }
   ],
   "source": [
    "display(omim_silver_standard.shape)\n",
    "display(omim_silver_standard.head())"
   ]
  },
  {
   "cell_type": "markdown",
   "metadata": {},
   "source": [
    "# Read gwas2gene results"
   ]
  },
  {
   "cell_type": "markdown",
   "metadata": {},
   "source": [
    "These results were generated with scripts in `scripts/extras/gwas2gene`."
   ]
  },
  {
   "cell_type": "code",
   "execution_count": 16,
   "metadata": {},
   "outputs": [],
   "source": [
    "from glob import glob\n",
    "\n",
    "import rpy2.robjects as robjects\n",
    "from rpy2.robjects import pandas2ri\n",
    "pandas2ri.activate()"
   ]
  },
  {
   "cell_type": "code",
   "execution_count": 17,
   "metadata": {},
   "outputs": [],
   "source": [
    "readRDS = robjects.r['readRDS']"
   ]
  },
  {
   "cell_type": "code",
   "execution_count": 18,
   "metadata": {},
   "outputs": [
    {
     "data": {
      "text/plain": [
       "99"
      ]
     },
     "metadata": {},
     "output_type": "display_data"
    },
    {
     "name": "stdout",
     "output_type": "stream",
     "text": [
      "WARNING: some files are not there. 107 expected, 99 found.\n"
     ]
    }
   ],
   "source": [
    "f_files = glob(os.path.join(conf.OMIM_SILVER_STANDARD_GWAS_TO_GENE_DIR, '*.rds'))\n",
    "display(len(f_files))\n",
    "\n",
    "if len(f_files) != len(omim_silver_standard['trait'].unique()):\n",
    "    print(f'WARNING: some files are not there. {len(omim_silver_standard[\"trait\"].unique())} expected, {len(f_files)} found.')"
   ]
  },
  {
   "cell_type": "code",
   "execution_count": 19,
   "metadata": {},
   "outputs": [],
   "source": [
    "gwas2genes_results = {}\n",
    "\n",
    "for f in f_files:\n",
    "    f_base = os.path.basename(f)\n",
    "    f_code, _ = os.path.splitext(f_base)\n",
    "    \n",
    "    #print(f_base)\n",
    "    rds_contents = readRDS(f)\n",
    "    \n",
    "    if len(rds_contents[1]) > 0:\n",
    "        f_gene_list = list(rds_contents[1][0].iter_labels())\n",
    "    else:\n",
    "        print(f'{f_code}: empty')\n",
    "        f_gene_list = []\n",
    "    \n",
    "    gwas2genes_results[f_code] = common_genes.intersection(set(f_gene_list))"
   ]
  },
  {
   "cell_type": "code",
   "execution_count": 20,
   "metadata": {},
   "outputs": [
    {
     "data": {
      "text/plain": [
       "19182"
      ]
     },
     "metadata": {},
     "output_type": "display_data"
    },
    {
     "data": {
      "text/plain": [
       "9505"
      ]
     },
     "metadata": {},
     "output_type": "display_data"
    }
   ],
   "source": [
    "gwas2gene_all_genes = []\n",
    "\n",
    "for k in gwas2genes_results.keys():\n",
    "    gwas2gene_all_genes.extend(gwas2genes_results[k])\n",
    "\n",
    "display(len(gwas2gene_all_genes))\n",
    "\n",
    "gwas2gene_all_genes = set(gwas2gene_all_genes)\n",
    "display(len(gwas2gene_all_genes))"
   ]
  },
  {
   "cell_type": "markdown",
   "metadata": {},
   "source": [
    "# Create list of UKB-OMIM traits"
   ]
  },
  {
   "cell_type": "code",
   "execution_count": 21,
   "metadata": {},
   "outputs": [
    {
     "data": {
      "text/html": [
       "<div>\n",
       "<style scoped>\n",
       "    .dataframe tbody tr th:only-of-type {\n",
       "        vertical-align: middle;\n",
       "    }\n",
       "\n",
       "    .dataframe tbody tr th {\n",
       "        vertical-align: top;\n",
       "    }\n",
       "\n",
       "    .dataframe thead th {\n",
       "        text-align: right;\n",
       "    }\n",
       "</style>\n",
       "<table border=\"1\" class=\"dataframe\">\n",
       "  <thead>\n",
       "    <tr style=\"text-align: right;\">\n",
       "      <th></th>\n",
       "      <th>trait</th>\n",
       "      <th>pheno_mim</th>\n",
       "      <th>mim</th>\n",
       "      <th>entry_type</th>\n",
       "      <th>entrez_gene_id</th>\n",
       "      <th>approved_gene_symbol</th>\n",
       "      <th>ensembl_gene_id</th>\n",
       "    </tr>\n",
       "  </thead>\n",
       "  <tbody>\n",
       "    <tr>\n",
       "      <th>0</th>\n",
       "      <td>M41-Diagnoses_main_ICD10_M41_Scoliosis</td>\n",
       "      <td>101800</td>\n",
       "      <td>188830</td>\n",
       "      <td>gene</td>\n",
       "      <td>5573</td>\n",
       "      <td>PRKAR1A</td>\n",
       "      <td>ENSG00000108946</td>\n",
       "    </tr>\n",
       "    <tr>\n",
       "      <th>1</th>\n",
       "      <td>M41-Diagnoses_main_ICD10_M41_Scoliosis</td>\n",
       "      <td>102500</td>\n",
       "      <td>600275</td>\n",
       "      <td>gene</td>\n",
       "      <td>4853</td>\n",
       "      <td>NOTCH2</td>\n",
       "      <td>ENSG00000134250</td>\n",
       "    </tr>\n",
       "    <tr>\n",
       "      <th>2</th>\n",
       "      <td>M41-Diagnoses_main_ICD10_M41_Scoliosis</td>\n",
       "      <td>105830</td>\n",
       "      <td>601623</td>\n",
       "      <td>gene</td>\n",
       "      <td>7337</td>\n",
       "      <td>UBE3A</td>\n",
       "      <td>ENSG00000114062</td>\n",
       "    </tr>\n",
       "    <tr>\n",
       "      <th>3</th>\n",
       "      <td>M41-Diagnoses_main_ICD10_M41_Scoliosis</td>\n",
       "      <td>108120</td>\n",
       "      <td>190990</td>\n",
       "      <td>gene</td>\n",
       "      <td>7169</td>\n",
       "      <td>TPM2</td>\n",
       "      <td>ENSG00000198467</td>\n",
       "    </tr>\n",
       "    <tr>\n",
       "      <th>4</th>\n",
       "      <td>M41-Diagnoses_main_ICD10_M41_Scoliosis</td>\n",
       "      <td>108145</td>\n",
       "      <td>613629</td>\n",
       "      <td>gene</td>\n",
       "      <td>63895</td>\n",
       "      <td>PIEZO2</td>\n",
       "      <td>ENSG00000154864</td>\n",
       "    </tr>\n",
       "  </tbody>\n",
       "</table>\n",
       "</div>"
      ],
      "text/plain": [
       "                                    trait  pheno_mim     mim entry_type  \\\n",
       "0  M41-Diagnoses_main_ICD10_M41_Scoliosis     101800  188830       gene   \n",
       "1  M41-Diagnoses_main_ICD10_M41_Scoliosis     102500  600275       gene   \n",
       "2  M41-Diagnoses_main_ICD10_M41_Scoliosis     105830  601623       gene   \n",
       "3  M41-Diagnoses_main_ICD10_M41_Scoliosis     108120  190990       gene   \n",
       "4  M41-Diagnoses_main_ICD10_M41_Scoliosis     108145  613629       gene   \n",
       "\n",
       "   entrez_gene_id approved_gene_symbol  ensembl_gene_id  \n",
       "0            5573              PRKAR1A  ENSG00000108946  \n",
       "1            4853               NOTCH2  ENSG00000134250  \n",
       "2            7337                UBE3A  ENSG00000114062  \n",
       "3            7169                 TPM2  ENSG00000198467  \n",
       "4           63895               PIEZO2  ENSG00000154864  "
      ]
     },
     "execution_count": 21,
     "metadata": {},
     "output_type": "execute_result"
    }
   ],
   "source": [
    "omim_silver_standard.head()"
   ]
  },
  {
   "cell_type": "markdown",
   "metadata": {},
   "source": [
    "# Create PrediXcan classifier table"
   ]
  },
  {
   "cell_type": "code",
   "execution_count": 22,
   "metadata": {},
   "outputs": [],
   "source": [
    "_tmp = omim_silver_standard[['trait', 'ensembl_gene_id']]\n",
    "ukb_traits_common = _tmp['trait'].unique()\n",
    "\n",
    "omim_true_classes = _tmp[['trait', 'ensembl_gene_id']].drop_duplicates()\n",
    "omim_true_classes = omim_true_classes.assign(omim_value=1)\n",
    "omim_true_classes = omim_true_classes.set_index(['trait', 'ensembl_gene_id'])"
   ]
  },
  {
   "cell_type": "code",
   "execution_count": 23,
   "metadata": {},
   "outputs": [
    {
     "data": {
      "text/plain": [
       "107"
      ]
     },
     "execution_count": 23,
     "metadata": {},
     "output_type": "execute_result"
    }
   ],
   "source": [
    "len(ukb_traits_common)"
   ]
  },
  {
   "cell_type": "code",
   "execution_count": 24,
   "metadata": {},
   "outputs": [
    {
     "data": {
      "text/plain": [
       "(7046, 1)"
      ]
     },
     "execution_count": 24,
     "metadata": {},
     "output_type": "execute_result"
    }
   ],
   "source": [
    "omim_true_classes.shape"
   ]
  },
  {
   "cell_type": "code",
   "execution_count": 25,
   "metadata": {},
   "outputs": [
    {
     "data": {
      "text/html": [
       "<div>\n",
       "<style scoped>\n",
       "    .dataframe tbody tr th:only-of-type {\n",
       "        vertical-align: middle;\n",
       "    }\n",
       "\n",
       "    .dataframe tbody tr th {\n",
       "        vertical-align: top;\n",
       "    }\n",
       "\n",
       "    .dataframe thead th {\n",
       "        text-align: right;\n",
       "    }\n",
       "</style>\n",
       "<table border=\"1\" class=\"dataframe\">\n",
       "  <thead>\n",
       "    <tr style=\"text-align: right;\">\n",
       "      <th></th>\n",
       "      <th></th>\n",
       "      <th>omim_value</th>\n",
       "    </tr>\n",
       "    <tr>\n",
       "      <th>trait</th>\n",
       "      <th>ensembl_gene_id</th>\n",
       "      <th></th>\n",
       "    </tr>\n",
       "  </thead>\n",
       "  <tbody>\n",
       "    <tr>\n",
       "      <th rowspan=\"5\" valign=\"top\">M41-Diagnoses_main_ICD10_M41_Scoliosis</th>\n",
       "      <th>ENSG00000108946</th>\n",
       "      <td>1</td>\n",
       "    </tr>\n",
       "    <tr>\n",
       "      <th>ENSG00000134250</th>\n",
       "      <td>1</td>\n",
       "    </tr>\n",
       "    <tr>\n",
       "      <th>ENSG00000114062</th>\n",
       "      <td>1</td>\n",
       "    </tr>\n",
       "    <tr>\n",
       "      <th>ENSG00000198467</th>\n",
       "      <td>1</td>\n",
       "    </tr>\n",
       "    <tr>\n",
       "      <th>ENSG00000154864</th>\n",
       "      <td>1</td>\n",
       "    </tr>\n",
       "  </tbody>\n",
       "</table>\n",
       "</div>"
      ],
      "text/plain": [
       "                                                        omim_value\n",
       "trait                                  ensembl_gene_id            \n",
       "M41-Diagnoses_main_ICD10_M41_Scoliosis ENSG00000108946           1\n",
       "                                       ENSG00000134250           1\n",
       "                                       ENSG00000114062           1\n",
       "                                       ENSG00000198467           1\n",
       "                                       ENSG00000154864           1"
      ]
     },
     "execution_count": 25,
     "metadata": {},
     "output_type": "execute_result"
    }
   ],
   "source": [
    "omim_true_classes.head()"
   ]
  },
  {
   "cell_type": "code",
   "execution_count": 26,
   "metadata": {},
   "outputs": [
    {
     "data": {
      "text/plain": [
       "107"
      ]
     },
     "execution_count": 26,
     "metadata": {},
     "output_type": "execute_result"
    }
   ],
   "source": [
    "len(ukb_traits_common)"
   ]
  },
  {
   "cell_type": "code",
   "execution_count": 27,
   "metadata": {},
   "outputs": [],
   "source": [
    "from entity import Trait"
   ]
  },
  {
   "cell_type": "code",
   "execution_count": 28,
   "metadata": {},
   "outputs": [],
   "source": [
    "index_tuples = []\n",
    "\n",
    "for t in ukb_traits_common:\n",
    "    t_code = Trait(full_code=t).code\n",
    "    if t_code not in gwas2genes_results:\n",
    "        continue\n",
    "    \n",
    "    for g in gwas2genes_results[t_code]:\n",
    "        index_tuples.append((t, g))"
   ]
  },
  {
   "cell_type": "code",
   "execution_count": 29,
   "metadata": {},
   "outputs": [
    {
     "data": {
      "text/plain": [
       "19182"
      ]
     },
     "execution_count": 29,
     "metadata": {},
     "output_type": "execute_result"
    }
   ],
   "source": [
    "len(index_tuples)"
   ]
  },
  {
   "cell_type": "code",
   "execution_count": 30,
   "metadata": {},
   "outputs": [
    {
     "data": {
      "text/plain": [
       "[('M41-Diagnoses_main_ICD10_M41_Scoliosis', 'ENSG00000012504'),\n",
       " ('M41-Diagnoses_main_ICD10_M41_Scoliosis', 'ENSG00000075089'),\n",
       " ('M41-Diagnoses_main_ICD10_M41_Scoliosis', 'ENSG00000075336'),\n",
       " ('M41-Diagnoses_main_ICD10_M41_Scoliosis', 'ENSG00000078401'),\n",
       " ('M41-Diagnoses_main_ICD10_M41_Scoliosis', 'ENSG00000090263')]"
      ]
     },
     "execution_count": 30,
     "metadata": {},
     "output_type": "execute_result"
    }
   ],
   "source": [
    "index_tuples[:5]"
   ]
  },
  {
   "cell_type": "code",
   "execution_count": 31,
   "metadata": {},
   "outputs": [],
   "source": [
    "classifier_index = pd.MultiIndex.from_tuples(\n",
    "    index_tuples,\n",
    "    names=['ukb_efo', 'gene']\n",
    ")"
   ]
  },
  {
   "cell_type": "code",
   "execution_count": 32,
   "metadata": {},
   "outputs": [
    {
     "data": {
      "text/plain": [
       "9505"
      ]
     },
     "execution_count": 32,
     "metadata": {},
     "output_type": "execute_result"
    }
   ],
   "source": [
    "len(gwas2gene_all_genes)"
   ]
  },
  {
   "cell_type": "code",
   "execution_count": 33,
   "metadata": {},
   "outputs": [
    {
     "data": {
      "text/plain": [
       "(19182,)"
      ]
     },
     "execution_count": 33,
     "metadata": {},
     "output_type": "execute_result"
    }
   ],
   "source": [
    "classifier_index.shape"
   ]
  },
  {
   "cell_type": "code",
   "execution_count": 34,
   "metadata": {},
   "outputs": [],
   "source": [
    "predixcan_classifier_df = pd.DataFrame(index=classifier_index, columns=['score', 'predicted_class', 'true_class'])"
   ]
  },
  {
   "cell_type": "code",
   "execution_count": 35,
   "metadata": {},
   "outputs": [],
   "source": [
    "predixcan_classifier_df = predixcan_classifier_df.sort_index()"
   ]
  },
  {
   "cell_type": "code",
   "execution_count": 36,
   "metadata": {},
   "outputs": [
    {
     "data": {
      "text/plain": [
       "(19182, 3)"
      ]
     },
     "execution_count": 36,
     "metadata": {},
     "output_type": "execute_result"
    }
   ],
   "source": [
    "predixcan_classifier_df.shape"
   ]
  },
  {
   "cell_type": "code",
   "execution_count": 37,
   "metadata": {},
   "outputs": [],
   "source": [
    "predixcan_classifier_df['true_class'] = 0"
   ]
  },
  {
   "cell_type": "code",
   "execution_count": 38,
   "metadata": {},
   "outputs": [
    {
     "data": {
      "text/html": [
       "<div>\n",
       "<style scoped>\n",
       "    .dataframe tbody tr th:only-of-type {\n",
       "        vertical-align: middle;\n",
       "    }\n",
       "\n",
       "    .dataframe tbody tr th {\n",
       "        vertical-align: top;\n",
       "    }\n",
       "\n",
       "    .dataframe thead th {\n",
       "        text-align: right;\n",
       "    }\n",
       "</style>\n",
       "<table border=\"1\" class=\"dataframe\">\n",
       "  <thead>\n",
       "    <tr style=\"text-align: right;\">\n",
       "      <th></th>\n",
       "      <th></th>\n",
       "      <th>score</th>\n",
       "      <th>predicted_class</th>\n",
       "      <th>true_class</th>\n",
       "    </tr>\n",
       "    <tr>\n",
       "      <th>ukb_efo</th>\n",
       "      <th>gene</th>\n",
       "      <th></th>\n",
       "      <th></th>\n",
       "      <th></th>\n",
       "    </tr>\n",
       "  </thead>\n",
       "  <tbody>\n",
       "    <tr>\n",
       "      <th rowspan=\"5\" valign=\"top\">1200-Sleeplessness_insomnia</th>\n",
       "      <th>ENSG00000001617</th>\n",
       "      <td>NaN</td>\n",
       "      <td>NaN</td>\n",
       "      <td>0</td>\n",
       "    </tr>\n",
       "    <tr>\n",
       "      <th>ENSG00000003756</th>\n",
       "      <td>NaN</td>\n",
       "      <td>NaN</td>\n",
       "      <td>0</td>\n",
       "    </tr>\n",
       "    <tr>\n",
       "      <th>ENSG00000004534</th>\n",
       "      <td>NaN</td>\n",
       "      <td>NaN</td>\n",
       "      <td>0</td>\n",
       "    </tr>\n",
       "    <tr>\n",
       "      <th>ENSG00000004838</th>\n",
       "      <td>NaN</td>\n",
       "      <td>NaN</td>\n",
       "      <td>0</td>\n",
       "    </tr>\n",
       "    <tr>\n",
       "      <th>ENSG00000004897</th>\n",
       "      <td>NaN</td>\n",
       "      <td>NaN</td>\n",
       "      <td>0</td>\n",
       "    </tr>\n",
       "  </tbody>\n",
       "</table>\n",
       "</div>"
      ],
      "text/plain": [
       "                                            score predicted_class  true_class\n",
       "ukb_efo                     gene                                             \n",
       "1200-Sleeplessness_insomnia ENSG00000001617   NaN             NaN           0\n",
       "                            ENSG00000003756   NaN             NaN           0\n",
       "                            ENSG00000004534   NaN             NaN           0\n",
       "                            ENSG00000004838   NaN             NaN           0\n",
       "                            ENSG00000004897   NaN             NaN           0"
      ]
     },
     "execution_count": 38,
     "metadata": {},
     "output_type": "execute_result"
    }
   ],
   "source": [
    "predixcan_classifier_df.head()"
   ]
  },
  {
   "cell_type": "code",
   "execution_count": 39,
   "metadata": {},
   "outputs": [
    {
     "data": {
      "text/plain": [
       "(7046,)"
      ]
     },
     "metadata": {},
     "output_type": "display_data"
    },
    {
     "data": {
      "text/plain": [
       "trait                                   ensembl_gene_id\n",
       "M41-Diagnoses_main_ICD10_M41_Scoliosis  ENSG00000108946    1\n",
       "                                        ENSG00000134250    1\n",
       "                                        ENSG00000114062    1\n",
       "                                        ENSG00000198467    1\n",
       "                                        ENSG00000154864    1\n",
       "Name: omim_value, dtype: int64"
      ]
     },
     "metadata": {},
     "output_type": "display_data"
    }
   ],
   "source": [
    "true_classes = omim_true_classes.squeeze()\n",
    "display(true_classes.shape)\n",
    "display(true_classes.head())"
   ]
  },
  {
   "cell_type": "code",
   "execution_count": 40,
   "metadata": {},
   "outputs": [],
   "source": [
    "predixcan_classifier_df.loc[predixcan_classifier_df.index.intersection(true_classes.index), 'true_class'] = 1"
   ]
  },
  {
   "cell_type": "code",
   "execution_count": 41,
   "metadata": {},
   "outputs": [],
   "source": [
    "assert predixcan_classifier_df['true_class'].isna().sum() == 0"
   ]
  },
  {
   "cell_type": "code",
   "execution_count": 42,
   "metadata": {},
   "outputs": [
    {
     "data": {
      "text/html": [
       "<div>\n",
       "<style scoped>\n",
       "    .dataframe tbody tr th:only-of-type {\n",
       "        vertical-align: middle;\n",
       "    }\n",
       "\n",
       "    .dataframe tbody tr th {\n",
       "        vertical-align: top;\n",
       "    }\n",
       "\n",
       "    .dataframe thead th {\n",
       "        text-align: right;\n",
       "    }\n",
       "</style>\n",
       "<table border=\"1\" class=\"dataframe\">\n",
       "  <thead>\n",
       "    <tr style=\"text-align: right;\">\n",
       "      <th></th>\n",
       "      <th>score</th>\n",
       "      <th>predicted_class</th>\n",
       "      <th>true_class</th>\n",
       "    </tr>\n",
       "    <tr>\n",
       "      <th>gene</th>\n",
       "      <th></th>\n",
       "      <th></th>\n",
       "      <th></th>\n",
       "    </tr>\n",
       "  </thead>\n",
       "  <tbody>\n",
       "    <tr>\n",
       "      <th>ENSG00000012504</th>\n",
       "      <td>NaN</td>\n",
       "      <td>NaN</td>\n",
       "      <td>0</td>\n",
       "    </tr>\n",
       "    <tr>\n",
       "      <th>ENSG00000075089</th>\n",
       "      <td>NaN</td>\n",
       "      <td>NaN</td>\n",
       "      <td>0</td>\n",
       "    </tr>\n",
       "    <tr>\n",
       "      <th>ENSG00000075336</th>\n",
       "      <td>NaN</td>\n",
       "      <td>NaN</td>\n",
       "      <td>0</td>\n",
       "    </tr>\n",
       "    <tr>\n",
       "      <th>ENSG00000078401</th>\n",
       "      <td>NaN</td>\n",
       "      <td>NaN</td>\n",
       "      <td>0</td>\n",
       "    </tr>\n",
       "    <tr>\n",
       "      <th>ENSG00000090263</th>\n",
       "      <td>NaN</td>\n",
       "      <td>NaN</td>\n",
       "      <td>0</td>\n",
       "    </tr>\n",
       "  </tbody>\n",
       "</table>\n",
       "</div>"
      ],
      "text/plain": [
       "                score predicted_class  true_class\n",
       "gene                                             \n",
       "ENSG00000012504   NaN             NaN           0\n",
       "ENSG00000075089   NaN             NaN           0\n",
       "ENSG00000075336   NaN             NaN           0\n",
       "ENSG00000078401   NaN             NaN           0\n",
       "ENSG00000090263   NaN             NaN           0"
      ]
     },
     "execution_count": 42,
     "metadata": {},
     "output_type": "execute_result"
    }
   ],
   "source": [
    "# some testing\n",
    "predixcan_classifier_df.loc[('M41-Diagnoses_main_ICD10_M41_Scoliosis',)].head()"
   ]
  },
  {
   "cell_type": "code",
   "execution_count": 43,
   "metadata": {},
   "outputs": [
    {
     "data": {
      "text/plain": [
       "1"
      ]
     },
     "execution_count": 43,
     "metadata": {},
     "output_type": "execute_result"
    }
   ],
   "source": [
    "true_classes.loc[('M41-Diagnoses_main_ICD10_M41_Scoliosis', 'ENSG00000112234')]"
   ]
  },
  {
   "cell_type": "code",
   "execution_count": 44,
   "metadata": {},
   "outputs": [
    {
     "data": {
      "text/plain": [
       "True"
      ]
     },
     "execution_count": 44,
     "metadata": {},
     "output_type": "execute_result"
    }
   ],
   "source": [
    "'ENSG00000090263' not in true_classes.loc['M41-Diagnoses_main_ICD10_M41_Scoliosis'].index"
   ]
  },
  {
   "cell_type": "code",
   "execution_count": 45,
   "metadata": {},
   "outputs": [],
   "source": [
    "assert predixcan_classifier_df.loc[('M41-Diagnoses_main_ICD10_M41_Scoliosis', 'ENSG00000112234'), 'true_class'] == 1.0\n",
    "assert predixcan_classifier_df.loc[('M41-Diagnoses_main_ICD10_M41_Scoliosis', 'ENSG00000090263'), 'true_class'] == 0.0"
   ]
  },
  {
   "cell_type": "code",
   "execution_count": 46,
   "metadata": {},
   "outputs": [
    {
     "data": {
      "text/plain": [
       "9505"
      ]
     },
     "execution_count": 46,
     "metadata": {},
     "output_type": "execute_result"
    }
   ],
   "source": [
    "len(gwas2gene_all_genes)"
   ]
  },
  {
   "cell_type": "code",
   "execution_count": 47,
   "metadata": {},
   "outputs": [
    {
     "name": "stdout",
     "output_type": "stream",
     "text": [
      "M13\n",
      "I95\n",
      "I71\n",
      "20002_1264\n",
      "20002_1081\n",
      "22130\n",
      "C80\n",
      "20002_1538\n"
     ]
    }
   ],
   "source": [
    "# score\n",
    "df_score = pd.Series(index=classifier_index, dtype=float)\n",
    "\n",
    "for trait in ukb_traits_common:\n",
    "    trait_code = Trait(full_code=trait).code\n",
    "    if trait_code not in gwas2genes_results:\n",
    "        print(trait_code)\n",
    "        continue\n",
    "    trait_genes = gwas2genes_results[trait_code]\n",
    "    if len(trait_genes) == 0:\n",
    "        print(f'Empty: {trait}')\n",
    "        continue\n",
    "    \n",
    "    smultixcan_zscores = smultixcan_genes_associations.loc[trait_genes, trait]\n",
    "    fastenloc_rcps = fastenloc_genes_associations.loc[trait_genes, trait].fillna(0.0)\n",
    "    \n",
    "    smultixcan_zscores[(fastenloc_rcps < RCP_CUTOFF) & (~np.isnan(smultixcan_zscores))] = 0\n",
    "    scores = smultixcan_zscores\n",
    "    df_score.loc[trait] = scores.values"
   ]
  },
  {
   "cell_type": "code",
   "execution_count": 48,
   "metadata": {},
   "outputs": [],
   "source": [
    "# for S-MultiXcan dropna\n",
    "df_score = df_score.dropna().sort_index()\n",
    "assert df_score.isna().sum().sum() == 0"
   ]
  },
  {
   "cell_type": "code",
   "execution_count": 49,
   "metadata": {},
   "outputs": [
    {
     "data": {
      "text/plain": [
       "ukb_efo                      gene           \n",
       "1200-Sleeplessness_insomnia  ENSG00000001617    0.000000\n",
       "                             ENSG00000003756    0.000000\n",
       "                             ENSG00000004534    5.270682\n",
       "                             ENSG00000004838    0.000000\n",
       "                             ENSG00000004897    0.000000\n",
       "dtype: float64"
      ]
     },
     "execution_count": 49,
     "metadata": {},
     "output_type": "execute_result"
    }
   ],
   "source": [
    "df_score.head()"
   ]
  },
  {
   "cell_type": "code",
   "execution_count": 50,
   "metadata": {},
   "outputs": [
    {
     "data": {
      "text/plain": [
       "0.4748215814729"
      ]
     },
     "metadata": {},
     "output_type": "display_data"
    },
    {
     "data": {
      "text/plain": [
       "nan"
      ]
     },
     "metadata": {},
     "output_type": "display_data"
    }
   ],
   "source": [
    "# some testing\n",
    "_gene, _trait = ('ENSG00000090263', 'M41-Diagnoses_main_ICD10_M41_Scoliosis')\n",
    "display(smultixcan_genes_associations.loc[_gene, _trait])\n",
    "display(fastenloc_genes_associations.loc[_gene, _trait])\n",
    "assert 0.0 == df_score.loc[_trait, _gene]"
   ]
  },
  {
   "cell_type": "code",
   "execution_count": 51,
   "metadata": {},
   "outputs": [
    {
     "data": {
      "text/plain": [
       "1.401585742893413"
      ]
     },
     "metadata": {},
     "output_type": "display_data"
    },
    {
     "data": {
      "text/plain": [
       "nan"
      ]
     },
     "metadata": {},
     "output_type": "display_data"
    }
   ],
   "source": [
    "_gene, _trait = ('ENSG00000070061', 'O14-Diagnoses_main_ICD10_O14_Gestational_pregnancyinduced_hypertension_with_significant_proteinuria')\n",
    "display(smultixcan_genes_associations.loc[_gene, _trait])\n",
    "display(fastenloc_genes_associations.loc[_gene, _trait])\n",
    "assert 0.0 == df_score.loc[_trait, _gene]"
   ]
  },
  {
   "cell_type": "code",
   "execution_count": 52,
   "metadata": {},
   "outputs": [
    {
     "data": {
      "text/plain": [
       "5.270682464849411"
      ]
     },
     "metadata": {},
     "output_type": "display_data"
    },
    {
     "data": {
      "text/plain": [
       "0.395645"
      ]
     },
     "metadata": {},
     "output_type": "display_data"
    }
   ],
   "source": [
    "_gene, _trait = ('ENSG00000004534', '1200-Sleeplessness_insomnia')\n",
    "display(smultixcan_genes_associations.loc[_gene, _trait])\n",
    "display(fastenloc_genes_associations.loc[_gene, _trait])\n",
    "assert smultixcan_genes_associations.loc[_gene, _trait] == df_score.loc[_trait, _gene]"
   ]
  },
  {
   "cell_type": "code",
   "execution_count": 53,
   "metadata": {},
   "outputs": [
    {
     "data": {
      "text/plain": [
       "(19119,)"
      ]
     },
     "execution_count": 53,
     "metadata": {},
     "output_type": "execute_result"
    }
   ],
   "source": [
    "df_score.shape"
   ]
  },
  {
   "cell_type": "code",
   "execution_count": 54,
   "metadata": {},
   "outputs": [
    {
     "data": {
      "text/plain": [
       "ukb_efo                      gene           \n",
       "1200-Sleeplessness_insomnia  ENSG00000001617    0.000000\n",
       "                             ENSG00000003756    0.000000\n",
       "                             ENSG00000004534    5.270682\n",
       "                             ENSG00000004838    0.000000\n",
       "                             ENSG00000004897    0.000000\n",
       "dtype: float64"
      ]
     },
     "execution_count": 54,
     "metadata": {},
     "output_type": "execute_result"
    }
   ],
   "source": [
    "df_score.head()"
   ]
  },
  {
   "cell_type": "code",
   "execution_count": 55,
   "metadata": {},
   "outputs": [
    {
     "data": {
      "text/plain": [
       "count    19119.000000\n",
       "mean         0.279969\n",
       "std          1.401139\n",
       "min          0.000000\n",
       "25%          0.000000\n",
       "50%          0.000000\n",
       "75%          0.000000\n",
       "max         37.225803\n",
       "dtype: float64"
      ]
     },
     "execution_count": 55,
     "metadata": {},
     "output_type": "execute_result"
    }
   ],
   "source": [
    "df_score.describe()"
   ]
  },
  {
   "cell_type": "code",
   "execution_count": 56,
   "metadata": {},
   "outputs": [],
   "source": [
    "predixcan_classifier_df = predixcan_classifier_df.assign(score=df_score)"
   ]
  },
  {
   "cell_type": "code",
   "execution_count": 57,
   "metadata": {},
   "outputs": [],
   "source": [
    "# assert not predixcan_classifier_df['score'].isna().any()"
   ]
  },
  {
   "cell_type": "code",
   "execution_count": 58,
   "metadata": {},
   "outputs": [],
   "source": [
    "from scipy import stats"
   ]
  },
  {
   "cell_type": "code",
   "execution_count": 59,
   "metadata": {},
   "outputs": [
    {
     "data": {
      "text/plain": [
       "9505"
      ]
     },
     "metadata": {},
     "output_type": "display_data"
    },
    {
     "data": {
      "text/plain": [
       "107"
      ]
     },
     "metadata": {},
     "output_type": "display_data"
    },
    {
     "data": {
      "text/plain": [
       "1017035"
      ]
     },
     "metadata": {},
     "output_type": "display_data"
    },
    {
     "data": {
      "text/plain": [
       "4.916251653089618e-08"
      ]
     },
     "metadata": {},
     "output_type": "display_data"
    },
    {
     "data": {
      "text/plain": [
       "5.454313085046045"
      ]
     },
     "metadata": {},
     "output_type": "display_data"
    }
   ],
   "source": [
    "_n_genes = len(gwas2gene_all_genes)\n",
    "display(_n_genes)\n",
    "\n",
    "_n_ukb_traits = len(omim_silver_standard['trait'].unique())\n",
    "display(_n_ukb_traits)\n",
    "\n",
    "display(_n_genes * _n_ukb_traits)\n",
    "\n",
    "PVALUE_THRESHOLD = (0.05 / (_n_genes * _n_ukb_traits))\n",
    "display(PVALUE_THRESHOLD)\n",
    "\n",
    "ZSCORE_THRESHOLD = np.abs(stats.norm.ppf(PVALUE_THRESHOLD / 2))\n",
    "display(ZSCORE_THRESHOLD)"
   ]
  },
  {
   "cell_type": "code",
   "execution_count": 60,
   "metadata": {},
   "outputs": [],
   "source": [
    "def _assign_predicted_class(x):\n",
    "#     trait, gene = x.name\n",
    "#     smultixcan_zscore = smultixcan_genes_associations.loc[gene, trait]\n",
    "    if x > ZSCORE_THRESHOLD:\n",
    "        return 1\n",
    "    else:\n",
    "        return 0"
   ]
  },
  {
   "cell_type": "code",
   "execution_count": 61,
   "metadata": {},
   "outputs": [],
   "source": [
    "predixcan_classifier_df = predixcan_classifier_df.assign(predicted_class=predixcan_classifier_df['score'].apply(_assign_predicted_class))"
   ]
  },
  {
   "cell_type": "code",
   "execution_count": 62,
   "metadata": {},
   "outputs": [
    {
     "data": {
      "text/plain": [
       "(19182, 3)"
      ]
     },
     "execution_count": 62,
     "metadata": {},
     "output_type": "execute_result"
    }
   ],
   "source": [
    "predixcan_classifier_df.shape"
   ]
  },
  {
   "cell_type": "code",
   "execution_count": 63,
   "metadata": {},
   "outputs": [
    {
     "data": {
      "text/html": [
       "<div>\n",
       "<style scoped>\n",
       "    .dataframe tbody tr th:only-of-type {\n",
       "        vertical-align: middle;\n",
       "    }\n",
       "\n",
       "    .dataframe tbody tr th {\n",
       "        vertical-align: top;\n",
       "    }\n",
       "\n",
       "    .dataframe thead th {\n",
       "        text-align: right;\n",
       "    }\n",
       "</style>\n",
       "<table border=\"1\" class=\"dataframe\">\n",
       "  <thead>\n",
       "    <tr style=\"text-align: right;\">\n",
       "      <th></th>\n",
       "      <th></th>\n",
       "      <th>score</th>\n",
       "      <th>predicted_class</th>\n",
       "      <th>true_class</th>\n",
       "    </tr>\n",
       "    <tr>\n",
       "      <th>ukb_efo</th>\n",
       "      <th>gene</th>\n",
       "      <th></th>\n",
       "      <th></th>\n",
       "      <th></th>\n",
       "    </tr>\n",
       "  </thead>\n",
       "  <tbody>\n",
       "    <tr>\n",
       "      <th rowspan=\"5\" valign=\"top\">1200-Sleeplessness_insomnia</th>\n",
       "      <th>ENSG00000001617</th>\n",
       "      <td>0.000000</td>\n",
       "      <td>0</td>\n",
       "      <td>0</td>\n",
       "    </tr>\n",
       "    <tr>\n",
       "      <th>ENSG00000003756</th>\n",
       "      <td>0.000000</td>\n",
       "      <td>0</td>\n",
       "      <td>0</td>\n",
       "    </tr>\n",
       "    <tr>\n",
       "      <th>ENSG00000004534</th>\n",
       "      <td>5.270682</td>\n",
       "      <td>0</td>\n",
       "      <td>0</td>\n",
       "    </tr>\n",
       "    <tr>\n",
       "      <th>ENSG00000004838</th>\n",
       "      <td>0.000000</td>\n",
       "      <td>0</td>\n",
       "      <td>0</td>\n",
       "    </tr>\n",
       "    <tr>\n",
       "      <th>ENSG00000004897</th>\n",
       "      <td>0.000000</td>\n",
       "      <td>0</td>\n",
       "      <td>0</td>\n",
       "    </tr>\n",
       "  </tbody>\n",
       "</table>\n",
       "</div>"
      ],
      "text/plain": [
       "                                                score  predicted_class  \\\n",
       "ukb_efo                     gene                                         \n",
       "1200-Sleeplessness_insomnia ENSG00000001617  0.000000                0   \n",
       "                            ENSG00000003756  0.000000                0   \n",
       "                            ENSG00000004534  5.270682                0   \n",
       "                            ENSG00000004838  0.000000                0   \n",
       "                            ENSG00000004897  0.000000                0   \n",
       "\n",
       "                                             true_class  \n",
       "ukb_efo                     gene                         \n",
       "1200-Sleeplessness_insomnia ENSG00000001617           0  \n",
       "                            ENSG00000003756           0  \n",
       "                            ENSG00000004534           0  \n",
       "                            ENSG00000004838           0  \n",
       "                            ENSG00000004897           0  "
      ]
     },
     "execution_count": 63,
     "metadata": {},
     "output_type": "execute_result"
    }
   ],
   "source": [
    "predixcan_classifier_df.head()"
   ]
  },
  {
   "cell_type": "code",
   "execution_count": 64,
   "metadata": {},
   "outputs": [
    {
     "data": {
      "text/html": [
       "<div>\n",
       "<style scoped>\n",
       "    .dataframe tbody tr th:only-of-type {\n",
       "        vertical-align: middle;\n",
       "    }\n",
       "\n",
       "    .dataframe tbody tr th {\n",
       "        vertical-align: top;\n",
       "    }\n",
       "\n",
       "    .dataframe thead th {\n",
       "        text-align: right;\n",
       "    }\n",
       "</style>\n",
       "<table border=\"1\" class=\"dataframe\">\n",
       "  <thead>\n",
       "    <tr style=\"text-align: right;\">\n",
       "      <th></th>\n",
       "      <th>score</th>\n",
       "      <th>predicted_class</th>\n",
       "      <th>true_class</th>\n",
       "    </tr>\n",
       "    <tr>\n",
       "      <th>gene</th>\n",
       "      <th></th>\n",
       "      <th></th>\n",
       "      <th></th>\n",
       "    </tr>\n",
       "  </thead>\n",
       "  <tbody>\n",
       "    <tr>\n",
       "      <th>ENSG00000157764</th>\n",
       "      <td>0.0</td>\n",
       "      <td>0</td>\n",
       "      <td>1</td>\n",
       "    </tr>\n",
       "    <tr>\n",
       "      <th>ENSG00000162769</th>\n",
       "      <td>0.0</td>\n",
       "      <td>0</td>\n",
       "      <td>1</td>\n",
       "    </tr>\n",
       "    <tr>\n",
       "      <th>ENSG00000112234</th>\n",
       "      <td>0.0</td>\n",
       "      <td>0</td>\n",
       "      <td>1</td>\n",
       "    </tr>\n",
       "    <tr>\n",
       "      <th>ENSG00000012504</th>\n",
       "      <td>0.0</td>\n",
       "      <td>0</td>\n",
       "      <td>0</td>\n",
       "    </tr>\n",
       "    <tr>\n",
       "      <th>ENSG00000173208</th>\n",
       "      <td>0.0</td>\n",
       "      <td>0</td>\n",
       "      <td>0</td>\n",
       "    </tr>\n",
       "  </tbody>\n",
       "</table>\n",
       "</div>"
      ],
      "text/plain": [
       "                 score  predicted_class  true_class\n",
       "gene                                               \n",
       "ENSG00000157764    0.0                0           1\n",
       "ENSG00000162769    0.0                0           1\n",
       "ENSG00000112234    0.0                0           1\n",
       "ENSG00000012504    0.0                0           0\n",
       "ENSG00000173208    0.0                0           0"
      ]
     },
     "execution_count": 64,
     "metadata": {},
     "output_type": "execute_result"
    }
   ],
   "source": [
    "predixcan_classifier_df.loc['M41-Diagnoses_main_ICD10_M41_Scoliosis'].sort_values('true_class', ascending=False).head()"
   ]
  },
  {
   "cell_type": "markdown",
   "metadata": {},
   "source": [
    "## Select genes per trait"
   ]
  },
  {
   "cell_type": "code",
   "execution_count": 65,
   "metadata": {},
   "outputs": [],
   "source": [
    "#selected_predixcan_classifier_df = predixcan_classifier_df.loc[predixcan_classifier_df.index.intersection(trait_genes_to_keep)]\n",
    "selected_predixcan_classifier_df = predixcan_classifier_df"
   ]
  },
  {
   "cell_type": "code",
   "execution_count": 66,
   "metadata": {},
   "outputs": [],
   "source": [
    "# some testing"
   ]
  },
  {
   "cell_type": "code",
   "execution_count": 67,
   "metadata": {},
   "outputs": [
    {
     "data": {
      "text/plain": [
       "(19182, 3)"
      ]
     },
     "execution_count": 67,
     "metadata": {},
     "output_type": "execute_result"
    }
   ],
   "source": [
    "selected_predixcan_classifier_df.shape"
   ]
  },
  {
   "cell_type": "code",
   "execution_count": 68,
   "metadata": {},
   "outputs": [
    {
     "data": {
      "text/html": [
       "<div>\n",
       "<style scoped>\n",
       "    .dataframe tbody tr th:only-of-type {\n",
       "        vertical-align: middle;\n",
       "    }\n",
       "\n",
       "    .dataframe tbody tr th {\n",
       "        vertical-align: top;\n",
       "    }\n",
       "\n",
       "    .dataframe thead th {\n",
       "        text-align: right;\n",
       "    }\n",
       "</style>\n",
       "<table border=\"1\" class=\"dataframe\">\n",
       "  <thead>\n",
       "    <tr style=\"text-align: right;\">\n",
       "      <th></th>\n",
       "      <th></th>\n",
       "      <th>score</th>\n",
       "      <th>predicted_class</th>\n",
       "      <th>true_class</th>\n",
       "    </tr>\n",
       "    <tr>\n",
       "      <th>ukb_efo</th>\n",
       "      <th>gene</th>\n",
       "      <th></th>\n",
       "      <th></th>\n",
       "      <th></th>\n",
       "    </tr>\n",
       "  </thead>\n",
       "  <tbody>\n",
       "    <tr>\n",
       "      <th rowspan=\"5\" valign=\"top\">1200-Sleeplessness_insomnia</th>\n",
       "      <th>ENSG00000001617</th>\n",
       "      <td>0.000000</td>\n",
       "      <td>0</td>\n",
       "      <td>0</td>\n",
       "    </tr>\n",
       "    <tr>\n",
       "      <th>ENSG00000003756</th>\n",
       "      <td>0.000000</td>\n",
       "      <td>0</td>\n",
       "      <td>0</td>\n",
       "    </tr>\n",
       "    <tr>\n",
       "      <th>ENSG00000004534</th>\n",
       "      <td>5.270682</td>\n",
       "      <td>0</td>\n",
       "      <td>0</td>\n",
       "    </tr>\n",
       "    <tr>\n",
       "      <th>ENSG00000004838</th>\n",
       "      <td>0.000000</td>\n",
       "      <td>0</td>\n",
       "      <td>0</td>\n",
       "    </tr>\n",
       "    <tr>\n",
       "      <th>ENSG00000004897</th>\n",
       "      <td>0.000000</td>\n",
       "      <td>0</td>\n",
       "      <td>0</td>\n",
       "    </tr>\n",
       "  </tbody>\n",
       "</table>\n",
       "</div>"
      ],
      "text/plain": [
       "                                                score  predicted_class  \\\n",
       "ukb_efo                     gene                                         \n",
       "1200-Sleeplessness_insomnia ENSG00000001617  0.000000                0   \n",
       "                            ENSG00000003756  0.000000                0   \n",
       "                            ENSG00000004534  5.270682                0   \n",
       "                            ENSG00000004838  0.000000                0   \n",
       "                            ENSG00000004897  0.000000                0   \n",
       "\n",
       "                                             true_class  \n",
       "ukb_efo                     gene                         \n",
       "1200-Sleeplessness_insomnia ENSG00000001617           0  \n",
       "                            ENSG00000003756           0  \n",
       "                            ENSG00000004534           0  \n",
       "                            ENSG00000004838           0  \n",
       "                            ENSG00000004897           0  "
      ]
     },
     "execution_count": 68,
     "metadata": {},
     "output_type": "execute_result"
    }
   ],
   "source": [
    "selected_predixcan_classifier_df.head()"
   ]
  },
  {
   "cell_type": "code",
   "execution_count": 69,
   "metadata": {},
   "outputs": [
    {
     "data": {
      "text/html": [
       "<div>\n",
       "<style scoped>\n",
       "    .dataframe tbody tr th:only-of-type {\n",
       "        vertical-align: middle;\n",
       "    }\n",
       "\n",
       "    .dataframe tbody tr th {\n",
       "        vertical-align: top;\n",
       "    }\n",
       "\n",
       "    .dataframe thead th {\n",
       "        text-align: right;\n",
       "    }\n",
       "</style>\n",
       "<table border=\"1\" class=\"dataframe\">\n",
       "  <thead>\n",
       "    <tr style=\"text-align: right;\">\n",
       "      <th></th>\n",
       "      <th></th>\n",
       "      <th>score</th>\n",
       "      <th>predicted_class</th>\n",
       "      <th>true_class</th>\n",
       "    </tr>\n",
       "    <tr>\n",
       "      <th>ukb_efo</th>\n",
       "      <th>gene</th>\n",
       "      <th></th>\n",
       "      <th></th>\n",
       "      <th></th>\n",
       "    </tr>\n",
       "  </thead>\n",
       "  <tbody>\n",
       "    <tr>\n",
       "      <th>20002_1065-Noncancer_illness_code_selfreported_hypertension</th>\n",
       "      <th>ENSG00000167523</th>\n",
       "      <td>6.962142</td>\n",
       "      <td>1</td>\n",
       "      <td>0</td>\n",
       "    </tr>\n",
       "    <tr>\n",
       "      <th rowspan=\"2\" valign=\"top\">20002_1111-Noncancer_illness_code_selfreported_asthma</th>\n",
       "      <th>ENSG00000166888</th>\n",
       "      <td>8.285593</td>\n",
       "      <td>1</td>\n",
       "      <td>0</td>\n",
       "    </tr>\n",
       "    <tr>\n",
       "      <th>ENSG00000077238</th>\n",
       "      <td>7.408032</td>\n",
       "      <td>1</td>\n",
       "      <td>1</td>\n",
       "    </tr>\n",
       "    <tr>\n",
       "      <th>20002_1065-Noncancer_illness_code_selfreported_hypertension</th>\n",
       "      <th>ENSG00000182224</th>\n",
       "      <td>6.752092</td>\n",
       "      <td>1</td>\n",
       "      <td>0</td>\n",
       "    </tr>\n",
       "    <tr>\n",
       "      <th>20002_1111-Noncancer_illness_code_selfreported_asthma</th>\n",
       "      <th>ENSG00000168496</th>\n",
       "      <td>5.802542</td>\n",
       "      <td>1</td>\n",
       "      <td>0</td>\n",
       "    </tr>\n",
       "  </tbody>\n",
       "</table>\n",
       "</div>"
      ],
      "text/plain": [
       "                                                                       score  \\\n",
       "ukb_efo                                            gene                        \n",
       "20002_1065-Noncancer_illness_code_selfreported_... ENSG00000167523  6.962142   \n",
       "20002_1111-Noncancer_illness_code_selfreported_... ENSG00000166888  8.285593   \n",
       "                                                   ENSG00000077238  7.408032   \n",
       "20002_1065-Noncancer_illness_code_selfreported_... ENSG00000182224  6.752092   \n",
       "20002_1111-Noncancer_illness_code_selfreported_... ENSG00000168496  5.802542   \n",
       "\n",
       "                                                                    predicted_class  \\\n",
       "ukb_efo                                            gene                               \n",
       "20002_1065-Noncancer_illness_code_selfreported_... ENSG00000167523                1   \n",
       "20002_1111-Noncancer_illness_code_selfreported_... ENSG00000166888                1   \n",
       "                                                   ENSG00000077238                1   \n",
       "20002_1065-Noncancer_illness_code_selfreported_... ENSG00000182224                1   \n",
       "20002_1111-Noncancer_illness_code_selfreported_... ENSG00000168496                1   \n",
       "\n",
       "                                                                    true_class  \n",
       "ukb_efo                                            gene                         \n",
       "20002_1065-Noncancer_illness_code_selfreported_... ENSG00000167523           0  \n",
       "20002_1111-Noncancer_illness_code_selfreported_... ENSG00000166888           0  \n",
       "                                                   ENSG00000077238           1  \n",
       "20002_1065-Noncancer_illness_code_selfreported_... ENSG00000182224           0  \n",
       "20002_1111-Noncancer_illness_code_selfreported_... ENSG00000168496           0  "
      ]
     },
     "execution_count": 69,
     "metadata": {},
     "output_type": "execute_result"
    }
   ],
   "source": [
    "selected_predixcan_classifier_df.sort_values('predicted_class', ascending=False).head()"
   ]
  },
  {
   "cell_type": "code",
   "execution_count": 70,
   "metadata": {},
   "outputs": [
    {
     "data": {
      "text/plain": [
       "(19182, 3)"
      ]
     },
     "metadata": {},
     "output_type": "display_data"
    },
    {
     "data": {
      "text/plain": [
       "(125, 3)"
      ]
     },
     "metadata": {},
     "output_type": "display_data"
    },
    {
     "data": {
      "text/html": [
       "<div>\n",
       "<style scoped>\n",
       "    .dataframe tbody tr th:only-of-type {\n",
       "        vertical-align: middle;\n",
       "    }\n",
       "\n",
       "    .dataframe tbody tr th {\n",
       "        vertical-align: top;\n",
       "    }\n",
       "\n",
       "    .dataframe thead th {\n",
       "        text-align: right;\n",
       "    }\n",
       "</style>\n",
       "<table border=\"1\" class=\"dataframe\">\n",
       "  <thead>\n",
       "    <tr style=\"text-align: right;\">\n",
       "      <th></th>\n",
       "      <th></th>\n",
       "      <th>score</th>\n",
       "      <th>predicted_class</th>\n",
       "      <th>true_class</th>\n",
       "    </tr>\n",
       "    <tr>\n",
       "      <th>ukb_efo</th>\n",
       "      <th>gene</th>\n",
       "      <th></th>\n",
       "      <th></th>\n",
       "      <th></th>\n",
       "    </tr>\n",
       "  </thead>\n",
       "  <tbody>\n",
       "    <tr>\n",
       "      <th rowspan=\"2\" valign=\"top\">R69-Diagnoses_main_ICD10_R69_Unknown_and_unspecified_causes_of_morbidity</th>\n",
       "      <th>ENSG00000068305</th>\n",
       "      <td>0.0</td>\n",
       "      <td>0</td>\n",
       "      <td>1</td>\n",
       "    </tr>\n",
       "    <tr>\n",
       "      <th>ENSG00000140443</th>\n",
       "      <td>0.0</td>\n",
       "      <td>0</td>\n",
       "      <td>1</td>\n",
       "    </tr>\n",
       "    <tr>\n",
       "      <th rowspan=\"2\" valign=\"top\">R40-Diagnoses_main_ICD10_R40_Somnolence_stupor_and_coma</th>\n",
       "      <th>ENSG00000133812</th>\n",
       "      <td>0.0</td>\n",
       "      <td>0</td>\n",
       "      <td>1</td>\n",
       "    </tr>\n",
       "    <tr>\n",
       "      <th>ENSG00000183287</th>\n",
       "      <td>0.0</td>\n",
       "      <td>0</td>\n",
       "      <td>1</td>\n",
       "    </tr>\n",
       "    <tr>\n",
       "      <th>N20-Diagnoses_main_ICD10_N20_Calculus_of_kidney_and_ureter</th>\n",
       "      <th>ENSG00000131183</th>\n",
       "      <td>0.0</td>\n",
       "      <td>0</td>\n",
       "      <td>1</td>\n",
       "    </tr>\n",
       "  </tbody>\n",
       "</table>\n",
       "</div>"
      ],
      "text/plain": [
       "                                                                    score  \\\n",
       "ukb_efo                                            gene                     \n",
       "R69-Diagnoses_main_ICD10_R69_Unknown_and_unspec... ENSG00000068305    0.0   \n",
       "                                                   ENSG00000140443    0.0   \n",
       "R40-Diagnoses_main_ICD10_R40_Somnolence_stupor_... ENSG00000133812    0.0   \n",
       "                                                   ENSG00000183287    0.0   \n",
       "N20-Diagnoses_main_ICD10_N20_Calculus_of_kidney... ENSG00000131183    0.0   \n",
       "\n",
       "                                                                    predicted_class  \\\n",
       "ukb_efo                                            gene                               \n",
       "R69-Diagnoses_main_ICD10_R69_Unknown_and_unspec... ENSG00000068305                0   \n",
       "                                                   ENSG00000140443                0   \n",
       "R40-Diagnoses_main_ICD10_R40_Somnolence_stupor_... ENSG00000133812                0   \n",
       "                                                   ENSG00000183287                0   \n",
       "N20-Diagnoses_main_ICD10_N20_Calculus_of_kidney... ENSG00000131183                0   \n",
       "\n",
       "                                                                    true_class  \n",
       "ukb_efo                                            gene                         \n",
       "R69-Diagnoses_main_ICD10_R69_Unknown_and_unspec... ENSG00000068305           1  \n",
       "                                                   ENSG00000140443           1  \n",
       "R40-Diagnoses_main_ICD10_R40_Somnolence_stupor_... ENSG00000133812           1  \n",
       "                                                   ENSG00000183287           1  \n",
       "N20-Diagnoses_main_ICD10_N20_Calculus_of_kidney... ENSG00000131183           1  "
      ]
     },
     "metadata": {},
     "output_type": "display_data"
    }
   ],
   "source": [
    "_tmp = selected_predixcan_classifier_df.sort_values(['true_class', 'ukb_efo'], ascending=False)\n",
    "display(_tmp.shape)\n",
    "display(_tmp[_tmp['true_class'] > 0].shape)\n",
    "display(_tmp[_tmp['true_class'] > 0].head())"
   ]
  },
  {
   "cell_type": "markdown",
   "metadata": {},
   "source": [
    "### Test classes"
   ]
  },
  {
   "cell_type": "code",
   "execution_count": 71,
   "metadata": {},
   "outputs": [
    {
     "data": {
      "text/plain": [
       "(99,)"
      ]
     },
     "execution_count": 71,
     "metadata": {},
     "output_type": "execute_result"
    }
   ],
   "source": [
    "selected_predixcan_classifier_df.index.get_level_values('ukb_efo').unique().shape"
   ]
  },
  {
   "cell_type": "code",
   "execution_count": 72,
   "metadata": {},
   "outputs": [
    {
     "data": {
      "text/plain": [
       "(9505,)"
      ]
     },
     "execution_count": 72,
     "metadata": {},
     "output_type": "execute_result"
    }
   ],
   "source": [
    "selected_predixcan_classifier_df.index.get_level_values('gene').unique().shape"
   ]
  },
  {
   "cell_type": "code",
   "execution_count": 73,
   "metadata": {},
   "outputs": [],
   "source": [
    "_pheno = 'N20-Diagnoses_main_ICD10_N20_Calculus_of_kidney_and_ureter'"
   ]
  },
  {
   "cell_type": "code",
   "execution_count": 74,
   "metadata": {},
   "outputs": [
    {
     "data": {
      "text/plain": [
       "array(['ENSG00000075891', 'ENSG00000130600', 'ENSG00000269821',\n",
       "       'ENSG00000129757', 'ENSG00000143473', 'ENSG00000275410',\n",
       "       'ENSG00000019186', 'ENSG00000134371', 'ENSG00000036828',\n",
       "       'ENSG00000088256', 'ENSG00000187091', 'ENSG00000122194',\n",
       "       'ENSG00000138592', 'ENSG00000040531', 'ENSG00000138079',\n",
       "       'ENSG00000021488', 'ENSG00000090402', 'ENSG00000131482',\n",
       "       'ENSG00000137700', 'ENSG00000164007', 'ENSG00000113946',\n",
       "       'ENSG00000116039', 'ENSG00000168000', 'ENSG00000123191',\n",
       "       'ENSG00000171365', 'ENSG00000165704', 'ENSG00000042753',\n",
       "       'ENSG00000075643', 'ENSG00000169692', 'ENSG00000109667',\n",
       "       'ENSG00000131183', 'ENSG00000109062', 'ENSG00000149257',\n",
       "       'ENSG00000198931', 'ENSG00000157388', 'ENSG00000167207',\n",
       "       'ENSG00000124827', 'ENSG00000134873'], dtype=object)"
      ]
     },
     "metadata": {},
     "output_type": "display_data"
    },
    {
     "data": {
      "text/plain": [
       "(38,)"
      ]
     },
     "metadata": {},
     "output_type": "display_data"
    }
   ],
   "source": [
    "_clinvar_asthma_genes = omim_silver_standard[omim_silver_standard['trait'] == _pheno]['ensembl_gene_id'].unique()\n",
    "display(_clinvar_asthma_genes)\n",
    "display(_clinvar_asthma_genes.shape)"
   ]
  },
  {
   "cell_type": "code",
   "execution_count": 75,
   "metadata": {},
   "outputs": [
    {
     "data": {
      "text/html": [
       "<div>\n",
       "<style scoped>\n",
       "    .dataframe tbody tr th:only-of-type {\n",
       "        vertical-align: middle;\n",
       "    }\n",
       "\n",
       "    .dataframe tbody tr th {\n",
       "        vertical-align: top;\n",
       "    }\n",
       "\n",
       "    .dataframe thead th {\n",
       "        text-align: right;\n",
       "    }\n",
       "</style>\n",
       "<table border=\"1\" class=\"dataframe\">\n",
       "  <thead>\n",
       "    <tr style=\"text-align: right;\">\n",
       "      <th></th>\n",
       "      <th>score</th>\n",
       "      <th>predicted_class</th>\n",
       "      <th>true_class</th>\n",
       "    </tr>\n",
       "  </thead>\n",
       "  <tbody>\n",
       "    <tr>\n",
       "      <th>ENSG00000131183</th>\n",
       "      <td>0.0</td>\n",
       "      <td>0</td>\n",
       "      <td>1</td>\n",
       "    </tr>\n",
       "  </tbody>\n",
       "</table>\n",
       "</div>"
      ],
      "text/plain": [
       "                 score  predicted_class  true_class\n",
       "ENSG00000131183    0.0                0           1"
      ]
     },
     "execution_count": 75,
     "metadata": {},
     "output_type": "execute_result"
    }
   ],
   "source": [
    "_tmp = selected_predixcan_classifier_df.loc[_pheno]\n",
    "_tmp.loc[_tmp.index.intersection(_clinvar_asthma_genes)]"
   ]
  },
  {
   "cell_type": "code",
   "execution_count": 76,
   "metadata": {},
   "outputs": [],
   "source": [
    "_predixcan_asthma_genes = selected_predixcan_classifier_df.loc[_pheno]"
   ]
  },
  {
   "cell_type": "code",
   "execution_count": 77,
   "metadata": {},
   "outputs": [
    {
     "data": {
      "text/html": [
       "<div>\n",
       "<style scoped>\n",
       "    .dataframe tbody tr th:only-of-type {\n",
       "        vertical-align: middle;\n",
       "    }\n",
       "\n",
       "    .dataframe tbody tr th {\n",
       "        vertical-align: top;\n",
       "    }\n",
       "\n",
       "    .dataframe thead th {\n",
       "        text-align: right;\n",
       "    }\n",
       "</style>\n",
       "<table border=\"1\" class=\"dataframe\">\n",
       "  <thead>\n",
       "    <tr style=\"text-align: right;\">\n",
       "      <th></th>\n",
       "      <th>score</th>\n",
       "      <th>predicted_class</th>\n",
       "      <th>true_class</th>\n",
       "    </tr>\n",
       "    <tr>\n",
       "      <th>gene</th>\n",
       "      <th></th>\n",
       "      <th></th>\n",
       "      <th></th>\n",
       "    </tr>\n",
       "  </thead>\n",
       "  <tbody>\n",
       "    <tr>\n",
       "      <th>ENSG00000005187</th>\n",
       "      <td>0.0</td>\n",
       "      <td>0</td>\n",
       "      <td>0</td>\n",
       "    </tr>\n",
       "    <tr>\n",
       "      <th>ENSG00000005189</th>\n",
       "      <td>0.0</td>\n",
       "      <td>0</td>\n",
       "      <td>0</td>\n",
       "    </tr>\n",
       "    <tr>\n",
       "      <th>ENSG00000011638</th>\n",
       "      <td>0.0</td>\n",
       "      <td>0</td>\n",
       "      <td>0</td>\n",
       "    </tr>\n",
       "    <tr>\n",
       "      <th>ENSG00000027847</th>\n",
       "      <td>0.0</td>\n",
       "      <td>0</td>\n",
       "      <td>0</td>\n",
       "    </tr>\n",
       "    <tr>\n",
       "      <th>ENSG00000048140</th>\n",
       "      <td>0.0</td>\n",
       "      <td>0</td>\n",
       "      <td>0</td>\n",
       "    </tr>\n",
       "  </tbody>\n",
       "</table>\n",
       "</div>"
      ],
      "text/plain": [
       "                 score  predicted_class  true_class\n",
       "gene                                               \n",
       "ENSG00000005187    0.0                0           0\n",
       "ENSG00000005189    0.0                0           0\n",
       "ENSG00000011638    0.0                0           0\n",
       "ENSG00000027847    0.0                0           0\n",
       "ENSG00000048140    0.0                0           0"
      ]
     },
     "execution_count": 77,
     "metadata": {},
     "output_type": "execute_result"
    }
   ],
   "source": [
    "_predixcan_asthma_genes.head()"
   ]
  },
  {
   "cell_type": "code",
   "execution_count": 78,
   "metadata": {},
   "outputs": [
    {
     "data": {
      "text/plain": [
       "(19182, 3)"
      ]
     },
     "execution_count": 78,
     "metadata": {},
     "output_type": "execute_result"
    }
   ],
   "source": [
    "selected_predixcan_classifier_df.shape"
   ]
  },
  {
   "cell_type": "code",
   "execution_count": 79,
   "metadata": {},
   "outputs": [
    {
     "data": {
      "text/plain": [
       "0    18797\n",
       "1      385\n",
       "Name: predicted_class, dtype: int64"
      ]
     },
     "execution_count": 79,
     "metadata": {},
     "output_type": "execute_result"
    }
   ],
   "source": [
    "selected_predixcan_classifier_df['predicted_class'].value_counts()"
   ]
  },
  {
   "cell_type": "code",
   "execution_count": 80,
   "metadata": {},
   "outputs": [
    {
     "data": {
      "text/plain": [
       "0    19057\n",
       "1      125\n",
       "Name: true_class, dtype: int64"
      ]
     },
     "execution_count": 80,
     "metadata": {},
     "output_type": "execute_result"
    }
   ],
   "source": [
    "selected_predixcan_classifier_df['true_class'].value_counts()"
   ]
  },
  {
   "cell_type": "code",
   "execution_count": 81,
   "metadata": {},
   "outputs": [
    {
     "data": {
      "text/html": [
       "<div>\n",
       "<style scoped>\n",
       "    .dataframe tbody tr th:only-of-type {\n",
       "        vertical-align: middle;\n",
       "    }\n",
       "\n",
       "    .dataframe tbody tr th {\n",
       "        vertical-align: top;\n",
       "    }\n",
       "\n",
       "    .dataframe thead th {\n",
       "        text-align: right;\n",
       "    }\n",
       "</style>\n",
       "<table border=\"1\" class=\"dataframe\">\n",
       "  <thead>\n",
       "    <tr style=\"text-align: right;\">\n",
       "      <th></th>\n",
       "      <th></th>\n",
       "      <th>score</th>\n",
       "      <th>predicted_class</th>\n",
       "      <th>true_class</th>\n",
       "    </tr>\n",
       "    <tr>\n",
       "      <th>ukb_efo</th>\n",
       "      <th>gene</th>\n",
       "      <th></th>\n",
       "      <th></th>\n",
       "      <th></th>\n",
       "    </tr>\n",
       "  </thead>\n",
       "  <tbody>\n",
       "    <tr>\n",
       "      <th>20002_1471-Noncancer_illness_code_selfreported_atrial_fibrillation</th>\n",
       "      <th>ENSG00000145362</th>\n",
       "      <td>0.000000</td>\n",
       "      <td>0</td>\n",
       "      <td>1</td>\n",
       "    </tr>\n",
       "    <tr>\n",
       "      <th>20002_1065-Noncancer_illness_code_selfreported_hypertension</th>\n",
       "      <th>ENSG00000132170</th>\n",
       "      <td>0.000000</td>\n",
       "      <td>0</td>\n",
       "      <td>1</td>\n",
       "    </tr>\n",
       "    <tr>\n",
       "      <th>22127-Doctor_diagnosed_asthma</th>\n",
       "      <th>ENSG00000232810</th>\n",
       "      <td>0.000000</td>\n",
       "      <td>0</td>\n",
       "      <td>1</td>\n",
       "    </tr>\n",
       "    <tr>\n",
       "      <th>M05-Diagnoses_main_ICD10_M05_Seropositive_rheumatoid_arthritis</th>\n",
       "      <th>ENSG00000204498</th>\n",
       "      <td>0.000000</td>\n",
       "      <td>0</td>\n",
       "      <td>1</td>\n",
       "    </tr>\n",
       "    <tr>\n",
       "      <th>20002_1226-Noncancer_illness_code_selfreported_hypothyroidismmyxoedema</th>\n",
       "      <th>ENSG00000103449</th>\n",
       "      <td>0.000000</td>\n",
       "      <td>0</td>\n",
       "      <td>1</td>\n",
       "    </tr>\n",
       "    <tr>\n",
       "      <th>2453-Cancer_diagnosed_by_doctor</th>\n",
       "      <th>ENSG00000110092</th>\n",
       "      <td>0.000000</td>\n",
       "      <td>0</td>\n",
       "      <td>1</td>\n",
       "    </tr>\n",
       "    <tr>\n",
       "      <th>20002_1226-Noncancer_illness_code_selfreported_hypothyroidismmyxoedema</th>\n",
       "      <th>ENSG00000166037</th>\n",
       "      <td>0.000000</td>\n",
       "      <td>0</td>\n",
       "      <td>1</td>\n",
       "    </tr>\n",
       "    <tr>\n",
       "      <th>20002_1065-Noncancer_illness_code_selfreported_hypertension</th>\n",
       "      <th>ENSG00000008441</th>\n",
       "      <td>0.000000</td>\n",
       "      <td>0</td>\n",
       "      <td>1</td>\n",
       "    </tr>\n",
       "    <tr>\n",
       "      <th>I48-Diagnoses_main_ICD10_I48_Atrial_fibrillation_and_flutter</th>\n",
       "      <th>ENSG00000145362</th>\n",
       "      <td>0.000000</td>\n",
       "      <td>0</td>\n",
       "      <td>1</td>\n",
       "    </tr>\n",
       "    <tr>\n",
       "      <th>20002_1111-Noncancer_illness_code_selfreported_asthma</th>\n",
       "      <th>ENSG00000177156</th>\n",
       "      <td>0.000000</td>\n",
       "      <td>0</td>\n",
       "      <td>1</td>\n",
       "    </tr>\n",
       "    <tr>\n",
       "      <th>I25-Diagnoses_main_ICD10_I25_Chronic_ischaemic_heart_disease</th>\n",
       "      <th>ENSG00000185950</th>\n",
       "      <td>0.000000</td>\n",
       "      <td>0</td>\n",
       "      <td>1</td>\n",
       "    </tr>\n",
       "    <tr>\n",
       "      <th>20002_1226-Noncancer_illness_code_selfreported_hypothyroidismmyxoedema</th>\n",
       "      <th>ENSG00000171862</th>\n",
       "      <td>0.000000</td>\n",
       "      <td>0</td>\n",
       "      <td>1</td>\n",
       "    </tr>\n",
       "    <tr>\n",
       "      <th>20002_1065-Noncancer_illness_code_selfreported_hypertension</th>\n",
       "      <th>ENSG00000179218</th>\n",
       "      <td>0.000000</td>\n",
       "      <td>0</td>\n",
       "      <td>1</td>\n",
       "    </tr>\n",
       "    <tr>\n",
       "      <th>20002_1535-Noncancer_illness_code_selfreported_scoliosis</th>\n",
       "      <th>ENSG00000109099</th>\n",
       "      <td>0.000000</td>\n",
       "      <td>0</td>\n",
       "      <td>1</td>\n",
       "    </tr>\n",
       "    <tr>\n",
       "      <th>20002_1309-Noncancer_illness_code_selfreported_osteoporosis</th>\n",
       "      <th>ENSG00000162337</th>\n",
       "      <td>0.000000</td>\n",
       "      <td>0</td>\n",
       "      <td>1</td>\n",
       "    </tr>\n",
       "    <tr>\n",
       "      <th>I25-Diagnoses_main_ICD10_I25_Chronic_ischaemic_heart_disease</th>\n",
       "      <th>ENSG00000204217</th>\n",
       "      <td>0.000000</td>\n",
       "      <td>0</td>\n",
       "      <td>1</td>\n",
       "    </tr>\n",
       "    <tr>\n",
       "      <th>L40-Diagnoses_main_ICD10_L40_Psoriasis</th>\n",
       "      <th>ENSG00000204525</th>\n",
       "      <td>0.000000</td>\n",
       "      <td>0</td>\n",
       "      <td>1</td>\n",
       "    </tr>\n",
       "    <tr>\n",
       "      <th>I48-Diagnoses_main_ICD10_I48_Atrial_fibrillation_and_flutter</th>\n",
       "      <th>ENSG00000183873</th>\n",
       "      <td>0.000000</td>\n",
       "      <td>0</td>\n",
       "      <td>1</td>\n",
       "    </tr>\n",
       "    <tr>\n",
       "      <th>20002_1065-Noncancer_illness_code_selfreported_hypertension</th>\n",
       "      <th>ENSG00000125730</th>\n",
       "      <td>0.000000</td>\n",
       "      <td>0</td>\n",
       "      <td>1</td>\n",
       "    </tr>\n",
       "    <tr>\n",
       "      <th>E66-Diagnoses_main_ICD10_E66_Obesity</th>\n",
       "      <th>ENSG00000176842</th>\n",
       "      <td>0.000000</td>\n",
       "      <td>0</td>\n",
       "      <td>1</td>\n",
       "    </tr>\n",
       "    <tr>\n",
       "      <th>M80-Diagnoses_main_ICD10_M80_Osteoporosis_with_pathological_fracture</th>\n",
       "      <th>ENSG00000198951</th>\n",
       "      <td>0.000000</td>\n",
       "      <td>0</td>\n",
       "      <td>1</td>\n",
       "    </tr>\n",
       "    <tr>\n",
       "      <th>20002_1065-Noncancer_illness_code_selfreported_hypertension</th>\n",
       "      <th>ENSG00000111057</th>\n",
       "      <td>0.000000</td>\n",
       "      <td>0</td>\n",
       "      <td>1</td>\n",
       "    </tr>\n",
       "    <tr>\n",
       "      <th>M41-Diagnoses_main_ICD10_M41_Scoliosis</th>\n",
       "      <th>ENSG00000157764</th>\n",
       "      <td>0.000000</td>\n",
       "      <td>0</td>\n",
       "      <td>1</td>\n",
       "    </tr>\n",
       "    <tr>\n",
       "      <th>20002_1226-Noncancer_illness_code_selfreported_hypothyroidismmyxoedema</th>\n",
       "      <th>ENSG00000134460</th>\n",
       "      <td>6.745137</td>\n",
       "      <td>1</td>\n",
       "      <td>1</td>\n",
       "    </tr>\n",
       "    <tr>\n",
       "      <th>M41-Diagnoses_main_ICD10_M41_Scoliosis</th>\n",
       "      <th>ENSG00000162769</th>\n",
       "      <td>0.000000</td>\n",
       "      <td>0</td>\n",
       "      <td>1</td>\n",
       "    </tr>\n",
       "    <tr>\n",
       "      <th>20002_1111-Noncancer_illness_code_selfreported_asthma</th>\n",
       "      <th>ENSG00000124299</th>\n",
       "      <td>0.000000</td>\n",
       "      <td>0</td>\n",
       "      <td>1</td>\n",
       "    </tr>\n",
       "    <tr>\n",
       "      <th>20002_1226-Noncancer_illness_code_selfreported_hypothyroidismmyxoedema</th>\n",
       "      <th>ENSG00000171316</th>\n",
       "      <td>0.000000</td>\n",
       "      <td>0</td>\n",
       "      <td>1</td>\n",
       "    </tr>\n",
       "    <tr>\n",
       "      <th>E66-Diagnoses_main_ICD10_E66_Obesity</th>\n",
       "      <th>ENSG00000140718</th>\n",
       "      <td>0.000000</td>\n",
       "      <td>0</td>\n",
       "      <td>1</td>\n",
       "    </tr>\n",
       "    <tr>\n",
       "      <th>20002_1065-Noncancer_illness_code_selfreported_hypertension</th>\n",
       "      <th>ENSG00000217930</th>\n",
       "      <td>0.000000</td>\n",
       "      <td>0</td>\n",
       "      <td>1</td>\n",
       "    </tr>\n",
       "    <tr>\n",
       "      <th>20002_1463-Noncancer_illness_code_selfreported_ulcerative_colitis</th>\n",
       "      <th>ENSG00000204351</th>\n",
       "      <td>0.000000</td>\n",
       "      <td>0</td>\n",
       "      <td>1</td>\n",
       "    </tr>\n",
       "    <tr>\n",
       "      <th>...</th>\n",
       "      <th>...</th>\n",
       "      <td>...</td>\n",
       "      <td>...</td>\n",
       "      <td>...</td>\n",
       "    </tr>\n",
       "    <tr>\n",
       "      <th rowspan=\"29\" valign=\"top\">20002_1075-Noncancer_illness_code_selfreported_heart_attackmyocardial_infarction</th>\n",
       "      <th>ENSG00000073008</th>\n",
       "      <td>0.000000</td>\n",
       "      <td>0</td>\n",
       "      <td>0</td>\n",
       "    </tr>\n",
       "    <tr>\n",
       "      <th>ENSG00000069399</th>\n",
       "      <td>0.000000</td>\n",
       "      <td>0</td>\n",
       "      <td>0</td>\n",
       "    </tr>\n",
       "    <tr>\n",
       "      <th>ENSG00000065135</th>\n",
       "      <td>0.000000</td>\n",
       "      <td>0</td>\n",
       "      <td>0</td>\n",
       "    </tr>\n",
       "    <tr>\n",
       "      <th>ENSG00000062370</th>\n",
       "      <td>0.000000</td>\n",
       "      <td>0</td>\n",
       "      <td>0</td>\n",
       "    </tr>\n",
       "    <tr>\n",
       "      <th>ENSG00000041515</th>\n",
       "      <td>0.000000</td>\n",
       "      <td>0</td>\n",
       "      <td>0</td>\n",
       "    </tr>\n",
       "    <tr>\n",
       "      <th>ENSG00000031698</th>\n",
       "      <td>0.000000</td>\n",
       "      <td>0</td>\n",
       "      <td>0</td>\n",
       "    </tr>\n",
       "    <tr>\n",
       "      <th>ENSG00000026652</th>\n",
       "      <td>0.000000</td>\n",
       "      <td>0</td>\n",
       "      <td>0</td>\n",
       "    </tr>\n",
       "    <tr>\n",
       "      <th>ENSG00000023445</th>\n",
       "      <td>0.000000</td>\n",
       "      <td>0</td>\n",
       "      <td>0</td>\n",
       "    </tr>\n",
       "    <tr>\n",
       "      <th>ENSG00000012061</th>\n",
       "      <td>0.000000</td>\n",
       "      <td>0</td>\n",
       "      <td>0</td>\n",
       "    </tr>\n",
       "    <tr>\n",
       "      <th>ENSG00000007255</th>\n",
       "      <td>0.000000</td>\n",
       "      <td>0</td>\n",
       "      <td>0</td>\n",
       "    </tr>\n",
       "    <tr>\n",
       "      <th>ENSG00000007047</th>\n",
       "      <td>0.000000</td>\n",
       "      <td>0</td>\n",
       "      <td>0</td>\n",
       "    </tr>\n",
       "    <tr>\n",
       "      <th>ENSG00000082641</th>\n",
       "      <td>0.000000</td>\n",
       "      <td>0</td>\n",
       "      <td>0</td>\n",
       "    </tr>\n",
       "    <tr>\n",
       "      <th>ENSG00000085433</th>\n",
       "      <td>0.000000</td>\n",
       "      <td>0</td>\n",
       "      <td>0</td>\n",
       "    </tr>\n",
       "    <tr>\n",
       "      <th>ENSG00000085491</th>\n",
       "      <td>0.000000</td>\n",
       "      <td>0</td>\n",
       "      <td>0</td>\n",
       "    </tr>\n",
       "    <tr>\n",
       "      <th>ENSG00000099810</th>\n",
       "      <td>0.000000</td>\n",
       "      <td>0</td>\n",
       "      <td>0</td>\n",
       "    </tr>\n",
       "    <tr>\n",
       "      <th>ENSG00000104879</th>\n",
       "      <td>0.000000</td>\n",
       "      <td>0</td>\n",
       "      <td>0</td>\n",
       "    </tr>\n",
       "    <tr>\n",
       "      <th>ENSG00000104866</th>\n",
       "      <td>0.000000</td>\n",
       "      <td>0</td>\n",
       "      <td>0</td>\n",
       "    </tr>\n",
       "    <tr>\n",
       "      <th>ENSG00000104859</th>\n",
       "      <td>0.000000</td>\n",
       "      <td>0</td>\n",
       "      <td>0</td>\n",
       "    </tr>\n",
       "    <tr>\n",
       "      <th>ENSG00000104856</th>\n",
       "      <td>0.000000</td>\n",
       "      <td>0</td>\n",
       "      <td>0</td>\n",
       "    </tr>\n",
       "    <tr>\n",
       "      <th>ENSG00000104853</th>\n",
       "      <td>0.000000</td>\n",
       "      <td>0</td>\n",
       "      <td>0</td>\n",
       "    </tr>\n",
       "    <tr>\n",
       "      <th>ENSG00000103121</th>\n",
       "      <td>0.000000</td>\n",
       "      <td>0</td>\n",
       "      <td>0</td>\n",
       "    </tr>\n",
       "    <tr>\n",
       "      <th>ENSG00000095951</th>\n",
       "      <td>0.000000</td>\n",
       "      <td>0</td>\n",
       "      <td>0</td>\n",
       "    </tr>\n",
       "    <tr>\n",
       "      <th>ENSG00000085511</th>\n",
       "      <td>0.000000</td>\n",
       "      <td>0</td>\n",
       "      <td>0</td>\n",
       "    </tr>\n",
       "    <tr>\n",
       "      <th>ENSG00000092820</th>\n",
       "      <td>0.000000</td>\n",
       "      <td>0</td>\n",
       "      <td>0</td>\n",
       "    </tr>\n",
       "    <tr>\n",
       "      <th>ENSG00000089248</th>\n",
       "      <td>0.000000</td>\n",
       "      <td>0</td>\n",
       "      <td>0</td>\n",
       "    </tr>\n",
       "    <tr>\n",
       "      <th>ENSG00000089234</th>\n",
       "      <td>0.000000</td>\n",
       "      <td>0</td>\n",
       "      <td>0</td>\n",
       "    </tr>\n",
       "    <tr>\n",
       "      <th>ENSG00000089169</th>\n",
       "      <td>0.000000</td>\n",
       "      <td>0</td>\n",
       "      <td>0</td>\n",
       "    </tr>\n",
       "    <tr>\n",
       "      <th>ENSG00000089022</th>\n",
       "      <td>0.000000</td>\n",
       "      <td>0</td>\n",
       "      <td>0</td>\n",
       "    </tr>\n",
       "    <tr>\n",
       "      <th>ENSG00000089009</th>\n",
       "      <td>0.000000</td>\n",
       "      <td>0</td>\n",
       "      <td>0</td>\n",
       "    </tr>\n",
       "    <tr>\n",
       "      <th>Z34-Diagnoses_main_ICD10_Z34_Supervision_of_normal_pregnancy</th>\n",
       "      <th>ENSG00000225526</th>\n",
       "      <td>0.000000</td>\n",
       "      <td>0</td>\n",
       "      <td>0</td>\n",
       "    </tr>\n",
       "  </tbody>\n",
       "</table>\n",
       "<p>19182 rows × 3 columns</p>\n",
       "</div>"
      ],
      "text/plain": [
       "                                                                       score  \\\n",
       "ukb_efo                                            gene                        \n",
       "20002_1471-Noncancer_illness_code_selfreported_... ENSG00000145362  0.000000   \n",
       "20002_1065-Noncancer_illness_code_selfreported_... ENSG00000132170  0.000000   \n",
       "22127-Doctor_diagnosed_asthma                      ENSG00000232810  0.000000   \n",
       "M05-Diagnoses_main_ICD10_M05_Seropositive_rheum... ENSG00000204498  0.000000   \n",
       "20002_1226-Noncancer_illness_code_selfreported_... ENSG00000103449  0.000000   \n",
       "2453-Cancer_diagnosed_by_doctor                    ENSG00000110092  0.000000   \n",
       "20002_1226-Noncancer_illness_code_selfreported_... ENSG00000166037  0.000000   \n",
       "20002_1065-Noncancer_illness_code_selfreported_... ENSG00000008441  0.000000   \n",
       "I48-Diagnoses_main_ICD10_I48_Atrial_fibrillatio... ENSG00000145362  0.000000   \n",
       "20002_1111-Noncancer_illness_code_selfreported_... ENSG00000177156  0.000000   \n",
       "I25-Diagnoses_main_ICD10_I25_Chronic_ischaemic_... ENSG00000185950  0.000000   \n",
       "20002_1226-Noncancer_illness_code_selfreported_... ENSG00000171862  0.000000   \n",
       "20002_1065-Noncancer_illness_code_selfreported_... ENSG00000179218  0.000000   \n",
       "20002_1535-Noncancer_illness_code_selfreported_... ENSG00000109099  0.000000   \n",
       "20002_1309-Noncancer_illness_code_selfreported_... ENSG00000162337  0.000000   \n",
       "I25-Diagnoses_main_ICD10_I25_Chronic_ischaemic_... ENSG00000204217  0.000000   \n",
       "L40-Diagnoses_main_ICD10_L40_Psoriasis             ENSG00000204525  0.000000   \n",
       "I48-Diagnoses_main_ICD10_I48_Atrial_fibrillatio... ENSG00000183873  0.000000   \n",
       "20002_1065-Noncancer_illness_code_selfreported_... ENSG00000125730  0.000000   \n",
       "E66-Diagnoses_main_ICD10_E66_Obesity               ENSG00000176842  0.000000   \n",
       "M80-Diagnoses_main_ICD10_M80_Osteoporosis_with_... ENSG00000198951  0.000000   \n",
       "20002_1065-Noncancer_illness_code_selfreported_... ENSG00000111057  0.000000   \n",
       "M41-Diagnoses_main_ICD10_M41_Scoliosis             ENSG00000157764  0.000000   \n",
       "20002_1226-Noncancer_illness_code_selfreported_... ENSG00000134460  6.745137   \n",
       "M41-Diagnoses_main_ICD10_M41_Scoliosis             ENSG00000162769  0.000000   \n",
       "20002_1111-Noncancer_illness_code_selfreported_... ENSG00000124299  0.000000   \n",
       "20002_1226-Noncancer_illness_code_selfreported_... ENSG00000171316  0.000000   \n",
       "E66-Diagnoses_main_ICD10_E66_Obesity               ENSG00000140718  0.000000   \n",
       "20002_1065-Noncancer_illness_code_selfreported_... ENSG00000217930  0.000000   \n",
       "20002_1463-Noncancer_illness_code_selfreported_... ENSG00000204351  0.000000   \n",
       "...                                                                      ...   \n",
       "20002_1075-Noncancer_illness_code_selfreported_... ENSG00000073008  0.000000   \n",
       "                                                   ENSG00000069399  0.000000   \n",
       "                                                   ENSG00000065135  0.000000   \n",
       "                                                   ENSG00000062370  0.000000   \n",
       "                                                   ENSG00000041515  0.000000   \n",
       "                                                   ENSG00000031698  0.000000   \n",
       "                                                   ENSG00000026652  0.000000   \n",
       "                                                   ENSG00000023445  0.000000   \n",
       "                                                   ENSG00000012061  0.000000   \n",
       "                                                   ENSG00000007255  0.000000   \n",
       "                                                   ENSG00000007047  0.000000   \n",
       "                                                   ENSG00000082641  0.000000   \n",
       "                                                   ENSG00000085433  0.000000   \n",
       "                                                   ENSG00000085491  0.000000   \n",
       "                                                   ENSG00000099810  0.000000   \n",
       "                                                   ENSG00000104879  0.000000   \n",
       "                                                   ENSG00000104866  0.000000   \n",
       "                                                   ENSG00000104859  0.000000   \n",
       "                                                   ENSG00000104856  0.000000   \n",
       "                                                   ENSG00000104853  0.000000   \n",
       "                                                   ENSG00000103121  0.000000   \n",
       "                                                   ENSG00000095951  0.000000   \n",
       "                                                   ENSG00000085511  0.000000   \n",
       "                                                   ENSG00000092820  0.000000   \n",
       "                                                   ENSG00000089248  0.000000   \n",
       "                                                   ENSG00000089234  0.000000   \n",
       "                                                   ENSG00000089169  0.000000   \n",
       "                                                   ENSG00000089022  0.000000   \n",
       "                                                   ENSG00000089009  0.000000   \n",
       "Z34-Diagnoses_main_ICD10_Z34_Supervision_of_nor... ENSG00000225526  0.000000   \n",
       "\n",
       "                                                                    predicted_class  \\\n",
       "ukb_efo                                            gene                               \n",
       "20002_1471-Noncancer_illness_code_selfreported_... ENSG00000145362                0   \n",
       "20002_1065-Noncancer_illness_code_selfreported_... ENSG00000132170                0   \n",
       "22127-Doctor_diagnosed_asthma                      ENSG00000232810                0   \n",
       "M05-Diagnoses_main_ICD10_M05_Seropositive_rheum... ENSG00000204498                0   \n",
       "20002_1226-Noncancer_illness_code_selfreported_... ENSG00000103449                0   \n",
       "2453-Cancer_diagnosed_by_doctor                    ENSG00000110092                0   \n",
       "20002_1226-Noncancer_illness_code_selfreported_... ENSG00000166037                0   \n",
       "20002_1065-Noncancer_illness_code_selfreported_... ENSG00000008441                0   \n",
       "I48-Diagnoses_main_ICD10_I48_Atrial_fibrillatio... ENSG00000145362                0   \n",
       "20002_1111-Noncancer_illness_code_selfreported_... ENSG00000177156                0   \n",
       "I25-Diagnoses_main_ICD10_I25_Chronic_ischaemic_... ENSG00000185950                0   \n",
       "20002_1226-Noncancer_illness_code_selfreported_... ENSG00000171862                0   \n",
       "20002_1065-Noncancer_illness_code_selfreported_... ENSG00000179218                0   \n",
       "20002_1535-Noncancer_illness_code_selfreported_... ENSG00000109099                0   \n",
       "20002_1309-Noncancer_illness_code_selfreported_... ENSG00000162337                0   \n",
       "I25-Diagnoses_main_ICD10_I25_Chronic_ischaemic_... ENSG00000204217                0   \n",
       "L40-Diagnoses_main_ICD10_L40_Psoriasis             ENSG00000204525                0   \n",
       "I48-Diagnoses_main_ICD10_I48_Atrial_fibrillatio... ENSG00000183873                0   \n",
       "20002_1065-Noncancer_illness_code_selfreported_... ENSG00000125730                0   \n",
       "E66-Diagnoses_main_ICD10_E66_Obesity               ENSG00000176842                0   \n",
       "M80-Diagnoses_main_ICD10_M80_Osteoporosis_with_... ENSG00000198951                0   \n",
       "20002_1065-Noncancer_illness_code_selfreported_... ENSG00000111057                0   \n",
       "M41-Diagnoses_main_ICD10_M41_Scoliosis             ENSG00000157764                0   \n",
       "20002_1226-Noncancer_illness_code_selfreported_... ENSG00000134460                1   \n",
       "M41-Diagnoses_main_ICD10_M41_Scoliosis             ENSG00000162769                0   \n",
       "20002_1111-Noncancer_illness_code_selfreported_... ENSG00000124299                0   \n",
       "20002_1226-Noncancer_illness_code_selfreported_... ENSG00000171316                0   \n",
       "E66-Diagnoses_main_ICD10_E66_Obesity               ENSG00000140718                0   \n",
       "20002_1065-Noncancer_illness_code_selfreported_... ENSG00000217930                0   \n",
       "20002_1463-Noncancer_illness_code_selfreported_... ENSG00000204351                0   \n",
       "...                                                                             ...   \n",
       "20002_1075-Noncancer_illness_code_selfreported_... ENSG00000073008                0   \n",
       "                                                   ENSG00000069399                0   \n",
       "                                                   ENSG00000065135                0   \n",
       "                                                   ENSG00000062370                0   \n",
       "                                                   ENSG00000041515                0   \n",
       "                                                   ENSG00000031698                0   \n",
       "                                                   ENSG00000026652                0   \n",
       "                                                   ENSG00000023445                0   \n",
       "                                                   ENSG00000012061                0   \n",
       "                                                   ENSG00000007255                0   \n",
       "                                                   ENSG00000007047                0   \n",
       "                                                   ENSG00000082641                0   \n",
       "                                                   ENSG00000085433                0   \n",
       "                                                   ENSG00000085491                0   \n",
       "                                                   ENSG00000099810                0   \n",
       "                                                   ENSG00000104879                0   \n",
       "                                                   ENSG00000104866                0   \n",
       "                                                   ENSG00000104859                0   \n",
       "                                                   ENSG00000104856                0   \n",
       "                                                   ENSG00000104853                0   \n",
       "                                                   ENSG00000103121                0   \n",
       "                                                   ENSG00000095951                0   \n",
       "                                                   ENSG00000085511                0   \n",
       "                                                   ENSG00000092820                0   \n",
       "                                                   ENSG00000089248                0   \n",
       "                                                   ENSG00000089234                0   \n",
       "                                                   ENSG00000089169                0   \n",
       "                                                   ENSG00000089022                0   \n",
       "                                                   ENSG00000089009                0   \n",
       "Z34-Diagnoses_main_ICD10_Z34_Supervision_of_nor... ENSG00000225526                0   \n",
       "\n",
       "                                                                    true_class  \n",
       "ukb_efo                                            gene                         \n",
       "20002_1471-Noncancer_illness_code_selfreported_... ENSG00000145362           1  \n",
       "20002_1065-Noncancer_illness_code_selfreported_... ENSG00000132170           1  \n",
       "22127-Doctor_diagnosed_asthma                      ENSG00000232810           1  \n",
       "M05-Diagnoses_main_ICD10_M05_Seropositive_rheum... ENSG00000204498           1  \n",
       "20002_1226-Noncancer_illness_code_selfreported_... ENSG00000103449           1  \n",
       "2453-Cancer_diagnosed_by_doctor                    ENSG00000110092           1  \n",
       "20002_1226-Noncancer_illness_code_selfreported_... ENSG00000166037           1  \n",
       "20002_1065-Noncancer_illness_code_selfreported_... ENSG00000008441           1  \n",
       "I48-Diagnoses_main_ICD10_I48_Atrial_fibrillatio... ENSG00000145362           1  \n",
       "20002_1111-Noncancer_illness_code_selfreported_... ENSG00000177156           1  \n",
       "I25-Diagnoses_main_ICD10_I25_Chronic_ischaemic_... ENSG00000185950           1  \n",
       "20002_1226-Noncancer_illness_code_selfreported_... ENSG00000171862           1  \n",
       "20002_1065-Noncancer_illness_code_selfreported_... ENSG00000179218           1  \n",
       "20002_1535-Noncancer_illness_code_selfreported_... ENSG00000109099           1  \n",
       "20002_1309-Noncancer_illness_code_selfreported_... ENSG00000162337           1  \n",
       "I25-Diagnoses_main_ICD10_I25_Chronic_ischaemic_... ENSG00000204217           1  \n",
       "L40-Diagnoses_main_ICD10_L40_Psoriasis             ENSG00000204525           1  \n",
       "I48-Diagnoses_main_ICD10_I48_Atrial_fibrillatio... ENSG00000183873           1  \n",
       "20002_1065-Noncancer_illness_code_selfreported_... ENSG00000125730           1  \n",
       "E66-Diagnoses_main_ICD10_E66_Obesity               ENSG00000176842           1  \n",
       "M80-Diagnoses_main_ICD10_M80_Osteoporosis_with_... ENSG00000198951           1  \n",
       "20002_1065-Noncancer_illness_code_selfreported_... ENSG00000111057           1  \n",
       "M41-Diagnoses_main_ICD10_M41_Scoliosis             ENSG00000157764           1  \n",
       "20002_1226-Noncancer_illness_code_selfreported_... ENSG00000134460           1  \n",
       "M41-Diagnoses_main_ICD10_M41_Scoliosis             ENSG00000162769           1  \n",
       "20002_1111-Noncancer_illness_code_selfreported_... ENSG00000124299           1  \n",
       "20002_1226-Noncancer_illness_code_selfreported_... ENSG00000171316           1  \n",
       "E66-Diagnoses_main_ICD10_E66_Obesity               ENSG00000140718           1  \n",
       "20002_1065-Noncancer_illness_code_selfreported_... ENSG00000217930           1  \n",
       "20002_1463-Noncancer_illness_code_selfreported_... ENSG00000204351           1  \n",
       "...                                                                        ...  \n",
       "20002_1075-Noncancer_illness_code_selfreported_... ENSG00000073008           0  \n",
       "                                                   ENSG00000069399           0  \n",
       "                                                   ENSG00000065135           0  \n",
       "                                                   ENSG00000062370           0  \n",
       "                                                   ENSG00000041515           0  \n",
       "                                                   ENSG00000031698           0  \n",
       "                                                   ENSG00000026652           0  \n",
       "                                                   ENSG00000023445           0  \n",
       "                                                   ENSG00000012061           0  \n",
       "                                                   ENSG00000007255           0  \n",
       "                                                   ENSG00000007047           0  \n",
       "                                                   ENSG00000082641           0  \n",
       "                                                   ENSG00000085433           0  \n",
       "                                                   ENSG00000085491           0  \n",
       "                                                   ENSG00000099810           0  \n",
       "                                                   ENSG00000104879           0  \n",
       "                                                   ENSG00000104866           0  \n",
       "                                                   ENSG00000104859           0  \n",
       "                                                   ENSG00000104856           0  \n",
       "                                                   ENSG00000104853           0  \n",
       "                                                   ENSG00000103121           0  \n",
       "                                                   ENSG00000095951           0  \n",
       "                                                   ENSG00000085511           0  \n",
       "                                                   ENSG00000092820           0  \n",
       "                                                   ENSG00000089248           0  \n",
       "                                                   ENSG00000089234           0  \n",
       "                                                   ENSG00000089169           0  \n",
       "                                                   ENSG00000089022           0  \n",
       "                                                   ENSG00000089009           0  \n",
       "Z34-Diagnoses_main_ICD10_Z34_Supervision_of_nor... ENSG00000225526           0  \n",
       "\n",
       "[19182 rows x 3 columns]"
      ]
     },
     "execution_count": 81,
     "metadata": {},
     "output_type": "execute_result"
    }
   ],
   "source": [
    "selected_predixcan_classifier_df.sort_values(['true_class'], ascending=[False])"
   ]
  },
  {
   "cell_type": "markdown",
   "metadata": {},
   "source": [
    "# Save classifier table"
   ]
  },
  {
   "cell_type": "code",
   "execution_count": 82,
   "metadata": {},
   "outputs": [],
   "source": [
    "# remove nans\n",
    "selected_predixcan_classifier_df = selected_predixcan_classifier_df.dropna()"
   ]
  },
  {
   "cell_type": "code",
   "execution_count": 83,
   "metadata": {},
   "outputs": [],
   "source": [
    "assert selected_predixcan_classifier_df.index.is_unique"
   ]
  },
  {
   "cell_type": "code",
   "execution_count": 84,
   "metadata": {},
   "outputs": [
    {
     "data": {
      "text/html": [
       "<div>\n",
       "<style scoped>\n",
       "    .dataframe tbody tr th:only-of-type {\n",
       "        vertical-align: middle;\n",
       "    }\n",
       "\n",
       "    .dataframe tbody tr th {\n",
       "        vertical-align: top;\n",
       "    }\n",
       "\n",
       "    .dataframe thead th {\n",
       "        text-align: right;\n",
       "    }\n",
       "</style>\n",
       "<table border=\"1\" class=\"dataframe\">\n",
       "  <thead>\n",
       "    <tr style=\"text-align: right;\">\n",
       "      <th></th>\n",
       "      <th></th>\n",
       "      <th>score</th>\n",
       "      <th>predicted_class</th>\n",
       "      <th>true_class</th>\n",
       "    </tr>\n",
       "    <tr>\n",
       "      <th>ukb_efo</th>\n",
       "      <th>gene</th>\n",
       "      <th></th>\n",
       "      <th></th>\n",
       "      <th></th>\n",
       "    </tr>\n",
       "  </thead>\n",
       "  <tbody>\n",
       "    <tr>\n",
       "      <th rowspan=\"5\" valign=\"top\">1200-Sleeplessness_insomnia</th>\n",
       "      <th>ENSG00000001617</th>\n",
       "      <td>0.000000</td>\n",
       "      <td>0</td>\n",
       "      <td>0</td>\n",
       "    </tr>\n",
       "    <tr>\n",
       "      <th>ENSG00000003756</th>\n",
       "      <td>0.000000</td>\n",
       "      <td>0</td>\n",
       "      <td>0</td>\n",
       "    </tr>\n",
       "    <tr>\n",
       "      <th>ENSG00000004534</th>\n",
       "      <td>5.270682</td>\n",
       "      <td>0</td>\n",
       "      <td>0</td>\n",
       "    </tr>\n",
       "    <tr>\n",
       "      <th>ENSG00000004838</th>\n",
       "      <td>0.000000</td>\n",
       "      <td>0</td>\n",
       "      <td>0</td>\n",
       "    </tr>\n",
       "    <tr>\n",
       "      <th>ENSG00000004897</th>\n",
       "      <td>0.000000</td>\n",
       "      <td>0</td>\n",
       "      <td>0</td>\n",
       "    </tr>\n",
       "  </tbody>\n",
       "</table>\n",
       "</div>"
      ],
      "text/plain": [
       "                                                score  predicted_class  \\\n",
       "ukb_efo                     gene                                         \n",
       "1200-Sleeplessness_insomnia ENSG00000001617  0.000000                0   \n",
       "                            ENSG00000003756  0.000000                0   \n",
       "                            ENSG00000004534  5.270682                0   \n",
       "                            ENSG00000004838  0.000000                0   \n",
       "                            ENSG00000004897  0.000000                0   \n",
       "\n",
       "                                             true_class  \n",
       "ukb_efo                     gene                         \n",
       "1200-Sleeplessness_insomnia ENSG00000001617           0  \n",
       "                            ENSG00000003756           0  \n",
       "                            ENSG00000004534           0  \n",
       "                            ENSG00000004838           0  \n",
       "                            ENSG00000004897           0  "
      ]
     },
     "execution_count": 84,
     "metadata": {},
     "output_type": "execute_result"
    }
   ],
   "source": [
    "selected_predixcan_classifier_df.head()"
   ]
  },
  {
   "cell_type": "code",
   "execution_count": 85,
   "metadata": {},
   "outputs": [
    {
     "data": {
      "text/plain": [
       "(19119, 3)"
      ]
     },
     "execution_count": 85,
     "metadata": {},
     "output_type": "execute_result"
    }
   ],
   "source": [
    "selected_predixcan_classifier_df.shape"
   ]
  },
  {
   "cell_type": "code",
   "execution_count": 86,
   "metadata": {},
   "outputs": [],
   "source": [
    "selected_predixcan_classifier_df.to_csv(\n",
    "    os.path.join(output_dir, 'combined-classifier_data.tsv.gz'),\n",
    "    sep='\\t', index=False\n",
    ")"
   ]
  },
  {
   "cell_type": "code",
   "execution_count": null,
   "metadata": {},
   "outputs": [],
   "source": []
  }
 ],
 "metadata": {
  "kernelspec": {
   "display_name": "Python 3",
   "language": "python",
   "name": "python3"
  },
  "language_info": {
   "codemirror_mode": {
    "name": "ipython",
    "version": 3
   },
   "file_extension": ".py",
   "mimetype": "text/x-python",
   "name": "python",
   "nbconvert_exporter": "python",
   "pygments_lexer": "ipython3",
   "version": "3.7.5"
  }
 },
 "nbformat": 4,
 "nbformat_minor": 4
}
