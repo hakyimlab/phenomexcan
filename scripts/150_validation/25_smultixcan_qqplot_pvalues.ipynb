{
 "cells": [
  {
   "cell_type": "code",
   "execution_count": 1,
   "metadata": {},
   "outputs": [],
   "source": [
    "%load_ext autoreload\n",
    "%autoreload 2"
   ]
  },
  {
   "cell_type": "code",
   "execution_count": 2,
   "metadata": {},
   "outputs": [],
   "source": [
    "import os\n",
    "import pickle\n",
    "\n",
    "import numpy as np\n",
    "import pandas as pd\n",
    "import matplotlib.pyplot as plt\n",
    "\n",
    "import settings as conf"
   ]
  },
  {
   "cell_type": "markdown",
   "metadata": {},
   "source": [
    "# Figures path"
   ]
  },
  {
   "cell_type": "code",
   "execution_count": 3,
   "metadata": {},
   "outputs": [],
   "source": [
    "figures_path = os.path.join(conf.DELIVERABLES_DIR, 'figures')\n",
    "os.makedirs(figures_path, exist_ok=True)"
   ]
  },
  {
   "cell_type": "markdown",
   "metadata": {},
   "source": [
    "# Load gene mappings"
   ]
  },
  {
   "cell_type": "code",
   "execution_count": 4,
   "metadata": {},
   "outputs": [],
   "source": [
    "with open(os.path.join(conf.GENES_METADATA_DIR, 'genes_mapping_simplified-0.pkl'), 'rb') as f:\n",
    "    genes_mapping_0 = pickle.load(f)\n",
    "\n",
    "with open(os.path.join(conf.GENES_METADATA_DIR, 'genes_mapping_simplified-1.pkl'), 'rb') as f:\n",
    "    genes_mapping_1 = pickle.load(f)"
   ]
  },
  {
   "cell_type": "markdown",
   "metadata": {},
   "source": [
    "# Load S-MultiXcan results"
   ]
  },
  {
   "cell_type": "code",
   "execution_count": 5,
   "metadata": {},
   "outputs": [
    {
     "data": {
      "text/plain": [
       "'/mnt/phenomexcan_base/gene_assoc/smultixcan-mashr-pvalues.pkl.xz'"
      ]
     },
     "metadata": {},
     "output_type": "display_data"
    }
   ],
   "source": [
    "spredixcan_genes_associations_filename = os.path.join(conf.GENE_ASSOC_DIR, 'smultixcan-mashr-pvalues.pkl.xz')\n",
    "display(spredixcan_genes_associations_filename)\n",
    "\n",
    "spredixcan_genes_associations = pd.read_pickle(spredixcan_genes_associations_filename)"
   ]
  },
  {
   "cell_type": "code",
   "execution_count": 6,
   "metadata": {},
   "outputs": [
    {
     "data": {
      "text/plain": [
       "(22515, 4091)"
      ]
     },
     "execution_count": 6,
     "metadata": {},
     "output_type": "execute_result"
    }
   ],
   "source": [
    "spredixcan_genes_associations.shape"
   ]
  },
  {
   "cell_type": "code",
   "execution_count": 7,
   "metadata": {},
   "outputs": [
    {
     "data": {
      "text/html": [
       "<div>\n",
       "<style scoped>\n",
       "    .dataframe tbody tr th:only-of-type {\n",
       "        vertical-align: middle;\n",
       "    }\n",
       "\n",
       "    .dataframe tbody tr th {\n",
       "        vertical-align: top;\n",
       "    }\n",
       "\n",
       "    .dataframe thead th {\n",
       "        text-align: right;\n",
       "    }\n",
       "</style>\n",
       "<table border=\"1\" class=\"dataframe\">\n",
       "  <thead>\n",
       "    <tr style=\"text-align: right;\">\n",
       "      <th></th>\n",
       "      <th>20096_1-Size_of_red_wine_glass_drunk_small_125ml</th>\n",
       "      <th>2345-Ever_had_bowel_cancer_screening</th>\n",
       "      <th>N49-Diagnoses_main_ICD10_N49_Inflammatory_disorders_of_male_genital_organs_not_elsewhere_classified</th>\n",
       "      <th>100011_raw-Iron</th>\n",
       "      <th>5221-Index_of_best_refractometry_result_right</th>\n",
       "      <th>20003_1141150624-Treatmentmedication_code_zomig_25mg_tablet</th>\n",
       "      <th>S69-Diagnoses_main_ICD10_S69_Other_and_unspecified_injuries_of_wrist_and_hand</th>\n",
       "      <th>20024_1136-Job_code_deduced_Information_and_communication_technology_managers</th>\n",
       "      <th>20002_1385-Noncancer_illness_code_selfreported_allergy_or_anaphylactic_reaction_to_food</th>\n",
       "      <th>G6_SLEEPAPNO-Sleep_apnoea</th>\n",
       "      <th>...</th>\n",
       "      <th>Astle_et_al_2016_Sum_basophil_neutrophil_counts</th>\n",
       "      <th>RA_OKADA_TRANS_ETHNIC</th>\n",
       "      <th>pgc.scz2</th>\n",
       "      <th>PGC_ADHD_EUR_2017</th>\n",
       "      <th>MAGIC_FastingGlucose</th>\n",
       "      <th>Astle_et_al_2016_Red_blood_cell_count</th>\n",
       "      <th>SSGAC_Depressive_Symptoms</th>\n",
       "      <th>BCAC_ER_positive_BreastCancer_EUR</th>\n",
       "      <th>IBD.EUR.Inflammatory_Bowel_Disease</th>\n",
       "      <th>Astle_et_al_2016_High_light_scatter_reticulocyte_count</th>\n",
       "    </tr>\n",
       "    <tr>\n",
       "      <th>gene_name</th>\n",
       "      <th></th>\n",
       "      <th></th>\n",
       "      <th></th>\n",
       "      <th></th>\n",
       "      <th></th>\n",
       "      <th></th>\n",
       "      <th></th>\n",
       "      <th></th>\n",
       "      <th></th>\n",
       "      <th></th>\n",
       "      <th></th>\n",
       "      <th></th>\n",
       "      <th></th>\n",
       "      <th></th>\n",
       "      <th></th>\n",
       "      <th></th>\n",
       "      <th></th>\n",
       "      <th></th>\n",
       "      <th></th>\n",
       "      <th></th>\n",
       "      <th></th>\n",
       "    </tr>\n",
       "  </thead>\n",
       "  <tbody>\n",
       "    <tr>\n",
       "      <th>ENSG00000000419</th>\n",
       "      <td>0.865429</td>\n",
       "      <td>0.918314</td>\n",
       "      <td>0.810683</td>\n",
       "      <td>0.374671</td>\n",
       "      <td>0.189032</td>\n",
       "      <td>0.140981</td>\n",
       "      <td>0.467741</td>\n",
       "      <td>0.129427</td>\n",
       "      <td>0.193680</td>\n",
       "      <td>0.285479</td>\n",
       "      <td>...</td>\n",
       "      <td>0.416210</td>\n",
       "      <td>0.782554</td>\n",
       "      <td>0.609467</td>\n",
       "      <td>0.980281</td>\n",
       "      <td>0.666504</td>\n",
       "      <td>0.409761</td>\n",
       "      <td>0.713310</td>\n",
       "      <td>0.168319</td>\n",
       "      <td>0.460244</td>\n",
       "      <td>0.765506</td>\n",
       "    </tr>\n",
       "    <tr>\n",
       "      <th>ENSG00000000457</th>\n",
       "      <td>0.174192</td>\n",
       "      <td>0.064765</td>\n",
       "      <td>0.889194</td>\n",
       "      <td>0.896938</td>\n",
       "      <td>0.448596</td>\n",
       "      <td>0.269602</td>\n",
       "      <td>0.540261</td>\n",
       "      <td>0.068405</td>\n",
       "      <td>0.041813</td>\n",
       "      <td>0.313427</td>\n",
       "      <td>...</td>\n",
       "      <td>0.149360</td>\n",
       "      <td>0.512603</td>\n",
       "      <td>0.010907</td>\n",
       "      <td>0.228982</td>\n",
       "      <td>0.607081</td>\n",
       "      <td>0.812484</td>\n",
       "      <td>0.678749</td>\n",
       "      <td>0.918971</td>\n",
       "      <td>0.311187</td>\n",
       "      <td>0.344574</td>\n",
       "    </tr>\n",
       "    <tr>\n",
       "      <th>ENSG00000000460</th>\n",
       "      <td>0.879969</td>\n",
       "      <td>0.240715</td>\n",
       "      <td>0.238228</td>\n",
       "      <td>0.567555</td>\n",
       "      <td>0.921320</td>\n",
       "      <td>0.825036</td>\n",
       "      <td>0.782230</td>\n",
       "      <td>0.644525</td>\n",
       "      <td>0.392273</td>\n",
       "      <td>0.840014</td>\n",
       "      <td>...</td>\n",
       "      <td>0.503520</td>\n",
       "      <td>0.764147</td>\n",
       "      <td>0.587969</td>\n",
       "      <td>0.301460</td>\n",
       "      <td>0.629621</td>\n",
       "      <td>0.486664</td>\n",
       "      <td>0.736509</td>\n",
       "      <td>0.933600</td>\n",
       "      <td>0.000477</td>\n",
       "      <td>0.321223</td>\n",
       "    </tr>\n",
       "    <tr>\n",
       "      <th>ENSG00000000938</th>\n",
       "      <td>0.192670</td>\n",
       "      <td>0.400054</td>\n",
       "      <td>0.114353</td>\n",
       "      <td>0.470700</td>\n",
       "      <td>0.889202</td>\n",
       "      <td>0.000011</td>\n",
       "      <td>0.899764</td>\n",
       "      <td>0.212352</td>\n",
       "      <td>0.829671</td>\n",
       "      <td>0.372348</td>\n",
       "      <td>...</td>\n",
       "      <td>0.899212</td>\n",
       "      <td>0.961678</td>\n",
       "      <td>0.059247</td>\n",
       "      <td>0.588855</td>\n",
       "      <td>0.898525</td>\n",
       "      <td>0.135045</td>\n",
       "      <td>0.954998</td>\n",
       "      <td>0.088220</td>\n",
       "      <td>0.176497</td>\n",
       "      <td>0.304281</td>\n",
       "    </tr>\n",
       "    <tr>\n",
       "      <th>ENSG00000000971</th>\n",
       "      <td>0.180632</td>\n",
       "      <td>0.793060</td>\n",
       "      <td>0.490585</td>\n",
       "      <td>0.088752</td>\n",
       "      <td>0.744531</td>\n",
       "      <td>0.949639</td>\n",
       "      <td>0.253817</td>\n",
       "      <td>0.377408</td>\n",
       "      <td>0.971655</td>\n",
       "      <td>0.070266</td>\n",
       "      <td>...</td>\n",
       "      <td>0.390618</td>\n",
       "      <td>0.093824</td>\n",
       "      <td>0.020391</td>\n",
       "      <td>0.109883</td>\n",
       "      <td>0.870551</td>\n",
       "      <td>0.995450</td>\n",
       "      <td>0.002660</td>\n",
       "      <td>0.421588</td>\n",
       "      <td>0.656851</td>\n",
       "      <td>0.868416</td>\n",
       "    </tr>\n",
       "  </tbody>\n",
       "</table>\n",
       "<p>5 rows × 4091 columns</p>\n",
       "</div>"
      ],
      "text/plain": [
       "                 20096_1-Size_of_red_wine_glass_drunk_small_125ml  \\\n",
       "gene_name                                                           \n",
       "ENSG00000000419                                          0.865429   \n",
       "ENSG00000000457                                          0.174192   \n",
       "ENSG00000000460                                          0.879969   \n",
       "ENSG00000000938                                          0.192670   \n",
       "ENSG00000000971                                          0.180632   \n",
       "\n",
       "                 2345-Ever_had_bowel_cancer_screening  \\\n",
       "gene_name                                               \n",
       "ENSG00000000419                              0.918314   \n",
       "ENSG00000000457                              0.064765   \n",
       "ENSG00000000460                              0.240715   \n",
       "ENSG00000000938                              0.400054   \n",
       "ENSG00000000971                              0.793060   \n",
       "\n",
       "                 N49-Diagnoses_main_ICD10_N49_Inflammatory_disorders_of_male_genital_organs_not_elsewhere_classified  \\\n",
       "gene_name                                                                                                              \n",
       "ENSG00000000419                                           0.810683                                                     \n",
       "ENSG00000000457                                           0.889194                                                     \n",
       "ENSG00000000460                                           0.238228                                                     \n",
       "ENSG00000000938                                           0.114353                                                     \n",
       "ENSG00000000971                                           0.490585                                                     \n",
       "\n",
       "                 100011_raw-Iron  \\\n",
       "gene_name                          \n",
       "ENSG00000000419         0.374671   \n",
       "ENSG00000000457         0.896938   \n",
       "ENSG00000000460         0.567555   \n",
       "ENSG00000000938         0.470700   \n",
       "ENSG00000000971         0.088752   \n",
       "\n",
       "                 5221-Index_of_best_refractometry_result_right  \\\n",
       "gene_name                                                        \n",
       "ENSG00000000419                                       0.189032   \n",
       "ENSG00000000457                                       0.448596   \n",
       "ENSG00000000460                                       0.921320   \n",
       "ENSG00000000938                                       0.889202   \n",
       "ENSG00000000971                                       0.744531   \n",
       "\n",
       "                 20003_1141150624-Treatmentmedication_code_zomig_25mg_tablet  \\\n",
       "gene_name                                                                      \n",
       "ENSG00000000419                                           0.140981             \n",
       "ENSG00000000457                                           0.269602             \n",
       "ENSG00000000460                                           0.825036             \n",
       "ENSG00000000938                                           0.000011             \n",
       "ENSG00000000971                                           0.949639             \n",
       "\n",
       "                 S69-Diagnoses_main_ICD10_S69_Other_and_unspecified_injuries_of_wrist_and_hand  \\\n",
       "gene_name                                                                                        \n",
       "ENSG00000000419                                           0.467741                               \n",
       "ENSG00000000457                                           0.540261                               \n",
       "ENSG00000000460                                           0.782230                               \n",
       "ENSG00000000938                                           0.899764                               \n",
       "ENSG00000000971                                           0.253817                               \n",
       "\n",
       "                 20024_1136-Job_code_deduced_Information_and_communication_technology_managers  \\\n",
       "gene_name                                                                                        \n",
       "ENSG00000000419                                           0.129427                               \n",
       "ENSG00000000457                                           0.068405                               \n",
       "ENSG00000000460                                           0.644525                               \n",
       "ENSG00000000938                                           0.212352                               \n",
       "ENSG00000000971                                           0.377408                               \n",
       "\n",
       "                 20002_1385-Noncancer_illness_code_selfreported_allergy_or_anaphylactic_reaction_to_food  \\\n",
       "gene_name                                                                                                  \n",
       "ENSG00000000419                                           0.193680                                         \n",
       "ENSG00000000457                                           0.041813                                         \n",
       "ENSG00000000460                                           0.392273                                         \n",
       "ENSG00000000938                                           0.829671                                         \n",
       "ENSG00000000971                                           0.971655                                         \n",
       "\n",
       "                 G6_SLEEPAPNO-Sleep_apnoea  ...  \\\n",
       "gene_name                                   ...   \n",
       "ENSG00000000419                   0.285479  ...   \n",
       "ENSG00000000457                   0.313427  ...   \n",
       "ENSG00000000460                   0.840014  ...   \n",
       "ENSG00000000938                   0.372348  ...   \n",
       "ENSG00000000971                   0.070266  ...   \n",
       "\n",
       "                 Astle_et_al_2016_Sum_basophil_neutrophil_counts  \\\n",
       "gene_name                                                          \n",
       "ENSG00000000419                                         0.416210   \n",
       "ENSG00000000457                                         0.149360   \n",
       "ENSG00000000460                                         0.503520   \n",
       "ENSG00000000938                                         0.899212   \n",
       "ENSG00000000971                                         0.390618   \n",
       "\n",
       "                 RA_OKADA_TRANS_ETHNIC  pgc.scz2  PGC_ADHD_EUR_2017  \\\n",
       "gene_name                                                             \n",
       "ENSG00000000419               0.782554  0.609467           0.980281   \n",
       "ENSG00000000457               0.512603  0.010907           0.228982   \n",
       "ENSG00000000460               0.764147  0.587969           0.301460   \n",
       "ENSG00000000938               0.961678  0.059247           0.588855   \n",
       "ENSG00000000971               0.093824  0.020391           0.109883   \n",
       "\n",
       "                 MAGIC_FastingGlucose  Astle_et_al_2016_Red_blood_cell_count  \\\n",
       "gene_name                                                                      \n",
       "ENSG00000000419              0.666504                               0.409761   \n",
       "ENSG00000000457              0.607081                               0.812484   \n",
       "ENSG00000000460              0.629621                               0.486664   \n",
       "ENSG00000000938              0.898525                               0.135045   \n",
       "ENSG00000000971              0.870551                               0.995450   \n",
       "\n",
       "                 SSGAC_Depressive_Symptoms  BCAC_ER_positive_BreastCancer_EUR  \\\n",
       "gene_name                                                                       \n",
       "ENSG00000000419                   0.713310                           0.168319   \n",
       "ENSG00000000457                   0.678749                           0.918971   \n",
       "ENSG00000000460                   0.736509                           0.933600   \n",
       "ENSG00000000938                   0.954998                           0.088220   \n",
       "ENSG00000000971                   0.002660                           0.421588   \n",
       "\n",
       "                 IBD.EUR.Inflammatory_Bowel_Disease  \\\n",
       "gene_name                                             \n",
       "ENSG00000000419                            0.460244   \n",
       "ENSG00000000457                            0.311187   \n",
       "ENSG00000000460                            0.000477   \n",
       "ENSG00000000938                            0.176497   \n",
       "ENSG00000000971                            0.656851   \n",
       "\n",
       "                 Astle_et_al_2016_High_light_scatter_reticulocyte_count  \n",
       "gene_name                                                                \n",
       "ENSG00000000419                                           0.765506       \n",
       "ENSG00000000457                                           0.344574       \n",
       "ENSG00000000460                                           0.321223       \n",
       "ENSG00000000938                                           0.304281       \n",
       "ENSG00000000971                                           0.868416       \n",
       "\n",
       "[5 rows x 4091 columns]"
      ]
     },
     "execution_count": 7,
     "metadata": {},
     "output_type": "execute_result"
    }
   ],
   "source": [
    "spredixcan_genes_associations.head(5)"
   ]
  },
  {
   "cell_type": "markdown",
   "metadata": {},
   "source": [
    "# QQ plots"
   ]
  },
  {
   "cell_type": "code",
   "execution_count": 8,
   "metadata": {},
   "outputs": [],
   "source": [
    "import plots\n",
    "from entity import Trait"
   ]
  },
  {
   "cell_type": "markdown",
   "metadata": {},
   "source": [
    "# All p-values"
   ]
  },
  {
   "cell_type": "code",
   "execution_count": 9,
   "metadata": {},
   "outputs": [
    {
     "data": {
      "text/plain": [
       "(91055810,)"
      ]
     },
     "metadata": {},
     "output_type": "display_data"
    }
   ],
   "source": [
    "all_pvalues = pd.Series(spredixcan_genes_associations.values.flatten()).dropna()\n",
    "display(all_pvalues.shape)"
   ]
  },
  {
   "cell_type": "code",
   "execution_count": 10,
   "metadata": {},
   "outputs": [
    {
     "data": {
      "text/plain": [
       "count     9.105581e+07\n",
       "mean      4.839226e-01\n",
       "std       2.934763e-01\n",
       "min      9.999889e-321\n",
       "25%       2.266266e-01\n",
       "50%       4.794625e-01\n",
       "75%       7.378647e-01\n",
       "max       1.000000e+00\n",
       "dtype: float64"
      ]
     },
     "execution_count": 10,
     "metadata": {},
     "output_type": "execute_result"
    }
   ],
   "source": [
    "all_pvalues.describe()"
   ]
  },
  {
   "cell_type": "code",
   "execution_count": 11,
   "metadata": {},
   "outputs": [
    {
     "data": {
      "text/plain": [
       "count    9.105581e+07\n",
       "mean     4.990325e-01\n",
       "std      1.258476e+00\n",
       "min     -0.000000e+00\n",
       "25%      1.320233e-01\n",
       "50%      3.192453e-01\n",
       "75%      6.446892e-01\n",
       "max      3.200000e+02\n",
       "dtype: float64"
      ]
     },
     "execution_count": 11,
     "metadata": {},
     "output_type": "execute_result"
    }
   ],
   "source": [
    "(-np.log10(all_pvalues)).describe()"
   ]
  },
  {
   "cell_type": "code",
   "execution_count": 12,
   "metadata": {},
   "outputs": [],
   "source": [
    "#all_pvalues_samples = all_pvalues.sample(n=1000)\n",
    "all_pvalues_samples = all_pvalues"
   ]
  },
  {
   "cell_type": "code",
   "execution_count": 13,
   "metadata": {},
   "outputs": [],
   "source": [
    "threshold = 1e-30\n",
    "\n",
    "unif_values = np.linspace(0.0001, 1, num=all_pvalues_samples.shape[0])\n",
    "unif_values[unif_values < threshold] = threshold\n",
    "\n",
    "real_values = all_pvalues_samples\n",
    "real_values[real_values < threshold] = threshold\n",
    "\n",
    "df = pd.DataFrame({'unif': unif_values, 'real': real_values})"
   ]
  },
  {
   "cell_type": "code",
   "execution_count": 14,
   "metadata": {},
   "outputs": [
    {
     "data": {
      "image/png": "[encoded data removed]",
      "text/plain": [
       "<Figure size 1200x800 with 1 Axes>"
      ]
     },
     "metadata": {
      "needs_background": "light"
     },
     "output_type": "display_data"
    }
   ],
   "source": [
    "df_plot = df\n",
    "\n",
    "ax = plots.qqplot(-np.log10(df_plot), 'unif', 'real', xlabel='Expected $-\\log_{10}(p)$', ylabel='Observed $-\\log_{10}(p)$', s=5, linewidth=0)\n",
    "ax.set_xlim([0, 5])\n",
    "\n",
    "fig_path = os.path.join(figures_path, 'sup_fig1-phenomexcan_qqplot.png')\n",
    "plt.savefig(fig_path, dpi=150, bbox_inches='tight')"
   ]
  },
  {
   "cell_type": "code",
   "execution_count": null,
   "metadata": {},
   "outputs": [],
   "source": []
  }
 ],
 "metadata": {
  "kernelspec": {
   "display_name": "Python 3",
   "language": "python",
   "name": "python3"
  },
  "language_info": {
   "codemirror_mode": {
    "name": "ipython",
    "version": 3
   },
   "file_extension": ".py",
   "mimetype": "text/x-python",
   "name": "python",
   "nbconvert_exporter": "python",
   "pygments_lexer": "ipython3",
   "version": "3.7.5"
  }
 },
 "nbformat": 4,
 "nbformat_minor": 4
}
