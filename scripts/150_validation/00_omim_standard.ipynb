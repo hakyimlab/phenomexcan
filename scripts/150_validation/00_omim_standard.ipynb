{
 "cells": [
  {
   "cell_type": "code",
   "execution_count": 1,
   "metadata": {},
   "outputs": [],
   "source": [
    "%load_ext autoreload\n",
    "%autoreload 2"
   ]
  },
  {
   "cell_type": "code",
   "execution_count": 2,
   "metadata": {},
   "outputs": [],
   "source": [
    "import os\n",
    "import pickle\n",
    "from glob import glob\n",
    "import re\n",
    "from concurrent.futures import ProcessPoolExecutor, as_completed\n",
    "\n",
    "import numpy as np\n",
    "import pandas as pd\n",
    "#from tqdm import tqdm\n",
    "from scipy import stats\n",
    "from sklearn.metrics import pairwise_distances\n",
    "\n",
    "import settings as conf\n",
    "from results.multixcan import MXPhenoInfo, MXPhenoResults\n",
    "from utils import is_number, chunker"
   ]
  },
  {
   "cell_type": "markdown",
   "metadata": {},
   "source": [
    "# Load silver standard to map from UKB to MIM"
   ]
  },
  {
   "cell_type": "code",
   "execution_count": 3,
   "metadata": {},
   "outputs": [],
   "source": [
    "omim_silver_standard = pd.read_csv(os.path.join(conf.DATA_DIR, 'omim_silver_standard.tsv'), sep='\\t')\n",
    "omim_silver_standard = omim_silver_standard.rename(columns={\n",
    "    'pheno_mim': 'trait_mim',\n",
    "    'mim': 'gene_mim',\n",
    "})"
   ]
  },
  {
   "cell_type": "code",
   "execution_count": 4,
   "metadata": {},
   "outputs": [
    {
     "data": {
      "text/plain": [
       "(7822, 7)"
      ]
     },
     "execution_count": 4,
     "metadata": {},
     "output_type": "execute_result"
    }
   ],
   "source": [
    "omim_silver_standard.shape"
   ]
  },
  {
   "cell_type": "code",
   "execution_count": 5,
   "metadata": {},
   "outputs": [
    {
     "data": {
      "text/plain": [
       "(7809, 7)"
      ]
     },
     "execution_count": 5,
     "metadata": {},
     "output_type": "execute_result"
    }
   ],
   "source": [
    "omim_silver_standard.dropna(subset=['trait', 'trait_mim', 'ensembl_gene_id']).shape"
   ]
  },
  {
   "cell_type": "code",
   "execution_count": 6,
   "metadata": {},
   "outputs": [],
   "source": [
    "omim_silver_standard = omim_silver_standard.dropna(subset=['trait', 'trait_mim', 'ensembl_gene_id'])"
   ]
  },
  {
   "cell_type": "code",
   "execution_count": 7,
   "metadata": {},
   "outputs": [
    {
     "data": {
      "text/plain": [
       "(7809, 7)"
      ]
     },
     "execution_count": 7,
     "metadata": {},
     "output_type": "execute_result"
    }
   ],
   "source": [
    "omim_silver_standard.shape"
   ]
  },
  {
   "cell_type": "code",
   "execution_count": 8,
   "metadata": {},
   "outputs": [
    {
     "data": {
      "text/html": [
       "<div>\n",
       "<style scoped>\n",
       "    .dataframe tbody tr th:only-of-type {\n",
       "        vertical-align: middle;\n",
       "    }\n",
       "\n",
       "    .dataframe tbody tr th {\n",
       "        vertical-align: top;\n",
       "    }\n",
       "\n",
       "    .dataframe thead th {\n",
       "        text-align: right;\n",
       "    }\n",
       "</style>\n",
       "<table border=\"1\" class=\"dataframe\">\n",
       "  <thead>\n",
       "    <tr style=\"text-align: right;\">\n",
       "      <th></th>\n",
       "      <th>trait</th>\n",
       "      <th>trait_mim</th>\n",
       "      <th>gene_mim</th>\n",
       "      <th>entry_type</th>\n",
       "      <th>entrez_gene_id</th>\n",
       "      <th>approved_gene_symbol</th>\n",
       "      <th>ensembl_gene_id</th>\n",
       "    </tr>\n",
       "  </thead>\n",
       "  <tbody>\n",
       "    <tr>\n",
       "      <th>0</th>\n",
       "      <td>M41-Diagnoses_main_ICD10_M41_Scoliosis</td>\n",
       "      <td>101800</td>\n",
       "      <td>188830</td>\n",
       "      <td>gene</td>\n",
       "      <td>5573</td>\n",
       "      <td>PRKAR1A</td>\n",
       "      <td>ENSG00000108946</td>\n",
       "    </tr>\n",
       "    <tr>\n",
       "      <th>1</th>\n",
       "      <td>M41-Diagnoses_main_ICD10_M41_Scoliosis</td>\n",
       "      <td>102500</td>\n",
       "      <td>600275</td>\n",
       "      <td>gene</td>\n",
       "      <td>4853</td>\n",
       "      <td>NOTCH2</td>\n",
       "      <td>ENSG00000134250</td>\n",
       "    </tr>\n",
       "    <tr>\n",
       "      <th>2</th>\n",
       "      <td>M41-Diagnoses_main_ICD10_M41_Scoliosis</td>\n",
       "      <td>105830</td>\n",
       "      <td>601623</td>\n",
       "      <td>gene</td>\n",
       "      <td>7337</td>\n",
       "      <td>UBE3A</td>\n",
       "      <td>ENSG00000114062</td>\n",
       "    </tr>\n",
       "    <tr>\n",
       "      <th>3</th>\n",
       "      <td>M41-Diagnoses_main_ICD10_M41_Scoliosis</td>\n",
       "      <td>108120</td>\n",
       "      <td>190990</td>\n",
       "      <td>gene</td>\n",
       "      <td>7169</td>\n",
       "      <td>TPM2</td>\n",
       "      <td>ENSG00000198467</td>\n",
       "    </tr>\n",
       "    <tr>\n",
       "      <th>4</th>\n",
       "      <td>M41-Diagnoses_main_ICD10_M41_Scoliosis</td>\n",
       "      <td>108145</td>\n",
       "      <td>613629</td>\n",
       "      <td>gene</td>\n",
       "      <td>63895</td>\n",
       "      <td>PIEZO2</td>\n",
       "      <td>ENSG00000154864</td>\n",
       "    </tr>\n",
       "  </tbody>\n",
       "</table>\n",
       "</div>"
      ],
      "text/plain": [
       "                                    trait  trait_mim  gene_mim entry_type  \\\n",
       "0  M41-Diagnoses_main_ICD10_M41_Scoliosis     101800    188830       gene   \n",
       "1  M41-Diagnoses_main_ICD10_M41_Scoliosis     102500    600275       gene   \n",
       "2  M41-Diagnoses_main_ICD10_M41_Scoliosis     105830    601623       gene   \n",
       "3  M41-Diagnoses_main_ICD10_M41_Scoliosis     108120    190990       gene   \n",
       "4  M41-Diagnoses_main_ICD10_M41_Scoliosis     108145    613629       gene   \n",
       "\n",
       "   entrez_gene_id approved_gene_symbol  ensembl_gene_id  \n",
       "0            5573              PRKAR1A  ENSG00000108946  \n",
       "1            4853               NOTCH2  ENSG00000134250  \n",
       "2            7337                UBE3A  ENSG00000114062  \n",
       "3            7169                 TPM2  ENSG00000198467  \n",
       "4           63895               PIEZO2  ENSG00000154864  "
      ]
     },
     "execution_count": 8,
     "metadata": {},
     "output_type": "execute_result"
    }
   ],
   "source": [
    "omim_silver_standard.head()"
   ]
  },
  {
   "cell_type": "code",
   "execution_count": 10,
   "metadata": {},
   "outputs": [
    {
     "data": {
      "text/plain": [
       "'/mnt/phenomexcan_base/deliverables/supp_tables/suppl_table_S2-UKBiobank_to_OMIM-standard.xlsx'"
      ]
     },
     "metadata": {},
     "output_type": "display_data"
    }
   ],
   "source": [
    "# for publication (xlsx)\n",
    "output_dir = os.path.join(conf.DELIVERABLES_DIR, 'supp_tables')\n",
    "os.makedirs(output_dir, exist_ok=True)\n",
    "\n",
    "output_file = os.path.join(output_dir, 'suppl_table_S2-UKBiobank_to_OMIM-standard.xlsx')\n",
    "display(output_file)"
   ]
  },
  {
   "cell_type": "code",
   "execution_count": 11,
   "metadata": {},
   "outputs": [],
   "source": [
    "omim_silver_standard.to_excel(output_file, index=False)"
   ]
  },
  {
   "cell_type": "code",
   "execution_count": 12,
   "metadata": {},
   "outputs": [],
   "source": [
    "# some testing\n",
    "_tmp = pd.read_excel(output_file)"
   ]
  },
  {
   "cell_type": "code",
   "execution_count": 13,
   "metadata": {},
   "outputs": [],
   "source": [
    "assert omim_silver_standard.shape == _tmp.shape"
   ]
  },
  {
   "cell_type": "code",
   "execution_count": 14,
   "metadata": {},
   "outputs": [
    {
     "data": {
      "text/plain": [
       "(7809, 7)"
      ]
     },
     "execution_count": 14,
     "metadata": {},
     "output_type": "execute_result"
    }
   ],
   "source": [
    "_tmp.shape"
   ]
  },
  {
   "cell_type": "code",
   "execution_count": 15,
   "metadata": {},
   "outputs": [
    {
     "data": {
      "text/html": [
       "<div>\n",
       "<style scoped>\n",
       "    .dataframe tbody tr th:only-of-type {\n",
       "        vertical-align: middle;\n",
       "    }\n",
       "\n",
       "    .dataframe tbody tr th {\n",
       "        vertical-align: top;\n",
       "    }\n",
       "\n",
       "    .dataframe thead th {\n",
       "        text-align: right;\n",
       "    }\n",
       "</style>\n",
       "<table border=\"1\" class=\"dataframe\">\n",
       "  <thead>\n",
       "    <tr style=\"text-align: right;\">\n",
       "      <th></th>\n",
       "      <th>trait</th>\n",
       "      <th>trait_mim</th>\n",
       "      <th>gene_mim</th>\n",
       "      <th>entry_type</th>\n",
       "      <th>entrez_gene_id</th>\n",
       "      <th>approved_gene_symbol</th>\n",
       "      <th>ensembl_gene_id</th>\n",
       "    </tr>\n",
       "  </thead>\n",
       "  <tbody>\n",
       "    <tr>\n",
       "      <th>0</th>\n",
       "      <td>M41-Diagnoses_main_ICD10_M41_Scoliosis</td>\n",
       "      <td>101800</td>\n",
       "      <td>188830</td>\n",
       "      <td>gene</td>\n",
       "      <td>5573</td>\n",
       "      <td>PRKAR1A</td>\n",
       "      <td>ENSG00000108946</td>\n",
       "    </tr>\n",
       "    <tr>\n",
       "      <th>1</th>\n",
       "      <td>M41-Diagnoses_main_ICD10_M41_Scoliosis</td>\n",
       "      <td>102500</td>\n",
       "      <td>600275</td>\n",
       "      <td>gene</td>\n",
       "      <td>4853</td>\n",
       "      <td>NOTCH2</td>\n",
       "      <td>ENSG00000134250</td>\n",
       "    </tr>\n",
       "    <tr>\n",
       "      <th>2</th>\n",
       "      <td>M41-Diagnoses_main_ICD10_M41_Scoliosis</td>\n",
       "      <td>105830</td>\n",
       "      <td>601623</td>\n",
       "      <td>gene</td>\n",
       "      <td>7337</td>\n",
       "      <td>UBE3A</td>\n",
       "      <td>ENSG00000114062</td>\n",
       "    </tr>\n",
       "    <tr>\n",
       "      <th>3</th>\n",
       "      <td>M41-Diagnoses_main_ICD10_M41_Scoliosis</td>\n",
       "      <td>108120</td>\n",
       "      <td>190990</td>\n",
       "      <td>gene</td>\n",
       "      <td>7169</td>\n",
       "      <td>TPM2</td>\n",
       "      <td>ENSG00000198467</td>\n",
       "    </tr>\n",
       "    <tr>\n",
       "      <th>4</th>\n",
       "      <td>M41-Diagnoses_main_ICD10_M41_Scoliosis</td>\n",
       "      <td>108145</td>\n",
       "      <td>613629</td>\n",
       "      <td>gene</td>\n",
       "      <td>63895</td>\n",
       "      <td>PIEZO2</td>\n",
       "      <td>ENSG00000154864</td>\n",
       "    </tr>\n",
       "  </tbody>\n",
       "</table>\n",
       "</div>"
      ],
      "text/plain": [
       "                                    trait  trait_mim  gene_mim entry_type  \\\n",
       "0  M41-Diagnoses_main_ICD10_M41_Scoliosis     101800    188830       gene   \n",
       "1  M41-Diagnoses_main_ICD10_M41_Scoliosis     102500    600275       gene   \n",
       "2  M41-Diagnoses_main_ICD10_M41_Scoliosis     105830    601623       gene   \n",
       "3  M41-Diagnoses_main_ICD10_M41_Scoliosis     108120    190990       gene   \n",
       "4  M41-Diagnoses_main_ICD10_M41_Scoliosis     108145    613629       gene   \n",
       "\n",
       "   entrez_gene_id approved_gene_symbol  ensembl_gene_id  \n",
       "0            5573              PRKAR1A  ENSG00000108946  \n",
       "1            4853               NOTCH2  ENSG00000134250  \n",
       "2            7337                UBE3A  ENSG00000114062  \n",
       "3            7169                 TPM2  ENSG00000198467  \n",
       "4           63895               PIEZO2  ENSG00000154864  "
      ]
     },
     "execution_count": 15,
     "metadata": {},
     "output_type": "execute_result"
    }
   ],
   "source": [
    "_tmp.head()"
   ]
  },
  {
   "cell_type": "code",
   "execution_count": null,
   "metadata": {},
   "outputs": [],
   "source": []
  }
 ],
 "metadata": {
  "kernelspec": {
   "display_name": "Python 3",
   "language": "python",
   "name": "python3"
  },
  "language_info": {
   "codemirror_mode": {
    "name": "ipython",
    "version": 3
   },
   "file_extension": ".py",
   "mimetype": "text/x-python",
   "name": "python",
   "nbconvert_exporter": "python",
   "pygments_lexer": "ipython3",
   "version": "3.7.5"
  }
 },
 "nbformat": 4,
 "nbformat_minor": 4
}
