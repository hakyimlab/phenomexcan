{
 "cells": [
  {
   "cell_type": "code",
   "execution_count": 1,
   "metadata": {},
   "outputs": [],
   "source": [
    "%load_ext autoreload\n",
    "%autoreload 2"
   ]
  },
  {
   "cell_type": "code",
   "execution_count": 2,
   "metadata": {},
   "outputs": [],
   "source": [
    "import os\n",
    "import pickle\n",
    "\n",
    "import numpy as np\n",
    "import pandas as pd\n",
    "pd.set_option('display.max_rows', 500)\n",
    "pd.set_option('display.max_columns', 500)\n",
    "pd.set_option('display.width', 1000)\n",
    "\n",
    "import settings as conf\n",
    "import metadata"
   ]
  },
  {
   "cell_type": "markdown",
   "metadata": {},
   "source": [
    "# Load S-MultiXcan/fastENLOC combined results"
   ]
  },
  {
   "cell_type": "code",
   "execution_count": 3,
   "metadata": {},
   "outputs": [
    {
     "data": {
      "text/plain": [
       "'/mnt/phenomexcan_base/gene_assoc/all_smultixcan_and_fastenloc_results.pkl.xz'"
      ]
     },
     "metadata": {},
     "output_type": "display_data"
    }
   ],
   "source": [
    "all_results_filename = os.path.join(conf.GENE_ASSOC_DIR, 'all_smultixcan_and_fastenloc_results.pkl.xz')\n",
    "display(all_results_filename)\n",
    "\n",
    "all_results = pd.read_pickle(all_results_filename)"
   ]
  },
  {
   "cell_type": "markdown",
   "metadata": {},
   "source": [
    "# All traits"
   ]
  },
  {
   "cell_type": "code",
   "execution_count": 4,
   "metadata": {},
   "outputs": [],
   "source": [
    "all_traits = pd.Series(all_results['trait'].unique())"
   ]
  },
  {
   "cell_type": "code",
   "execution_count": 5,
   "metadata": {},
   "outputs": [
    {
     "data": {
      "text/plain": [
       "0     20096_1-Size_of_red_wine_glass_drunk_small_125ml\n",
       "1                 2345-Ever_had_bowel_cancer_screening\n",
       "2    N49-Diagnoses_main_ICD10_N49_Inflammatory_diso...\n",
       "3                                      100011_raw-Iron\n",
       "4        5221-Index_of_best_refractometry_result_right\n",
       "dtype: category\n",
       "Categories (4091, object): [20096_1-Size_of_red_wine_glass_drunk_small_125ml, 2345-Ever_had_bowel_cancer_screening, N49-Diagnoses_main_ICD10_N49_Inflammatory_diso..., 100011_raw-Iron, ..., SSGAC_Depressive_Symptoms, BCAC_ER_positive_BreastCancer_EUR, IBD.EUR.Inflammatory_Bowel_Disease, Astle_et_al_2016_High_light_scatter_reticulocy...]"
      ]
     },
     "execution_count": 5,
     "metadata": {},
     "output_type": "execute_result"
    }
   ],
   "source": [
    "all_traits.head()"
   ]
  },
  {
   "cell_type": "markdown",
   "metadata": {},
   "source": [
    "# Morning/evening person (chronotype)"
   ]
  },
  {
   "cell_type": "markdown",
   "metadata": {},
   "source": [
    "Morning/evening person (chronotype) -> top 15 genes + CLOCK, BMAL1/ARNTL, (PER1, PER2), CRY1 and CRY2. PER3, NPAS2"
   ]
  },
  {
   "cell_type": "code",
   "execution_count": 6,
   "metadata": {},
   "outputs": [],
   "source": [
    "PVALUE_THRESHOLD = 5.49e-10"
   ]
  },
  {
   "cell_type": "code",
   "execution_count": 7,
   "metadata": {},
   "outputs": [
    {
     "data": {
      "text/plain": [
       "5.49e-10"
      ]
     },
     "execution_count": 7,
     "metadata": {},
     "output_type": "execute_result"
    }
   ],
   "source": [
    "PVALUE_THRESHOLD"
   ]
  },
  {
   "cell_type": "code",
   "execution_count": 8,
   "metadata": {},
   "outputs": [
    {
     "data": {
      "text/plain": [
       "['1180-Morningevening_person_chronotype', 'Jones_et_al_2016_Chronotype']"
      ]
     },
     "execution_count": 8,
     "metadata": {},
     "output_type": "execute_result"
    }
   ],
   "source": [
    "all_traits[all_traits.str.lower().str.contains('chronotype')].tolist()"
   ]
  },
  {
   "cell_type": "markdown",
   "metadata": {},
   "source": [
    "## Top 15 genes"
   ]
  },
  {
   "cell_type": "code",
   "execution_count": 9,
   "metadata": {},
   "outputs": [],
   "source": [
    "_pheno = '1180-Morningevening_person_chronotype'"
   ]
  },
  {
   "cell_type": "code",
   "execution_count": 10,
   "metadata": {},
   "outputs": [],
   "source": [
    "_res = all_results[\n",
    "    (\n",
    "        (all_results['trait'] == _pheno) &\n",
    "        (all_results['fastenloc_rcp'] >= 0.10) &\n",
    "        (all_results['smultixcan_pvalue'] < PVALUE_THRESHOLD)\n",
    "    )\n",
    "]"
   ]
  },
  {
   "cell_type": "code",
   "execution_count": 11,
   "metadata": {},
   "outputs": [
    {
     "data": {
      "text/plain": [
       "(20, 5)"
      ]
     },
     "execution_count": 11,
     "metadata": {},
     "output_type": "execute_result"
    }
   ],
   "source": [
    "_res.shape"
   ]
  },
  {
   "cell_type": "code",
   "execution_count": 12,
   "metadata": {},
   "outputs": [
    {
     "data": {
      "text/html": [
       "<div>\n",
       "<style scoped>\n",
       "    .dataframe tbody tr th:only-of-type {\n",
       "        vertical-align: middle;\n",
       "    }\n",
       "\n",
       "    .dataframe tbody tr th {\n",
       "        vertical-align: top;\n",
       "    }\n",
       "\n",
       "    .dataframe thead th {\n",
       "        text-align: right;\n",
       "    }\n",
       "</style>\n",
       "<table border=\"1\" class=\"dataframe\">\n",
       "  <thead>\n",
       "    <tr style=\"text-align: right;\">\n",
       "      <th></th>\n",
       "      <th>trait</th>\n",
       "      <th>gene</th>\n",
       "      <th>gene_name</th>\n",
       "      <th>smultixcan_pvalue</th>\n",
       "      <th>fastenloc_rcp</th>\n",
       "    </tr>\n",
       "  </thead>\n",
       "  <tbody>\n",
       "    <tr>\n",
       "      <th>37138018</th>\n",
       "      <td>1180-Morningevening_person_chronotype</td>\n",
       "      <td>ENSG00000204104</td>\n",
       "      <td>TRAF3IP1</td>\n",
       "      <td>1.724459e-20</td>\n",
       "      <td>0.404000</td>\n",
       "    </tr>\n",
       "    <tr>\n",
       "      <th>37134050</th>\n",
       "      <td>1180-Morningevening_person_chronotype</td>\n",
       "      <td>ENSG00000170667</td>\n",
       "      <td>RASA4B</td>\n",
       "      <td>1.660169e-19</td>\n",
       "      <td>0.634300</td>\n",
       "    </tr>\n",
       "    <tr>\n",
       "      <th>37124541</th>\n",
       "      <td>1180-Morningevening_person_chronotype</td>\n",
       "      <td>ENSG00000102805</td>\n",
       "      <td>CLN5</td>\n",
       "      <td>5.248423e-18</td>\n",
       "      <td>0.336600</td>\n",
       "    </tr>\n",
       "    <tr>\n",
       "      <th>37122694</th>\n",
       "      <td>1180-Morningevening_person_chronotype</td>\n",
       "      <td>ENSG00000049245</td>\n",
       "      <td>VAMP3</td>\n",
       "      <td>7.317229e-18</td>\n",
       "      <td>0.631700</td>\n",
       "    </tr>\n",
       "    <tr>\n",
       "      <th>37130379</th>\n",
       "      <td>1180-Morningevening_person_chronotype</td>\n",
       "      <td>ENSG00000146469</td>\n",
       "      <td>VIP</td>\n",
       "      <td>1.812497e-17</td>\n",
       "      <td>0.258490</td>\n",
       "    </tr>\n",
       "    <tr>\n",
       "      <th>37122188</th>\n",
       "      <td>1180-Morningevening_person_chronotype</td>\n",
       "      <td>ENSG00000005812</td>\n",
       "      <td>FBXL3</td>\n",
       "      <td>1.544816e-16</td>\n",
       "      <td>0.348645</td>\n",
       "    </tr>\n",
       "    <tr>\n",
       "      <th>37141075</th>\n",
       "      <td>1180-Morningevening_person_chronotype</td>\n",
       "      <td>ENSG00000249484</td>\n",
       "      <td>LINC01470</td>\n",
       "      <td>4.161078e-16</td>\n",
       "      <td>0.104014</td>\n",
       "    </tr>\n",
       "    <tr>\n",
       "      <th>37124219</th>\n",
       "      <td>1180-Morningevening_person_chronotype</td>\n",
       "      <td>ENSG00000100354</td>\n",
       "      <td>TNRC6B</td>\n",
       "      <td>8.441499e-14</td>\n",
       "      <td>0.203600</td>\n",
       "    </tr>\n",
       "    <tr>\n",
       "      <th>37125358</th>\n",
       "      <td>1180-Morningevening_person_chronotype</td>\n",
       "      <td>ENSG00000108551</td>\n",
       "      <td>RASD1</td>\n",
       "      <td>1.246330e-12</td>\n",
       "      <td>0.217511</td>\n",
       "    </tr>\n",
       "    <tr>\n",
       "      <th>37130496</th>\n",
       "      <td>1180-Morningevening_person_chronotype</td>\n",
       "      <td>ENSG00000147905</td>\n",
       "      <td>ZCCHC7</td>\n",
       "      <td>4.282318e-11</td>\n",
       "      <td>0.246900</td>\n",
       "    </tr>\n",
       "    <tr>\n",
       "      <th>37142424</th>\n",
       "      <td>1180-Morningevening_person_chronotype</td>\n",
       "      <td>ENSG00000260100</td>\n",
       "      <td>RP11-220I1.5</td>\n",
       "      <td>6.426619e-11</td>\n",
       "      <td>0.198500</td>\n",
       "    </tr>\n",
       "    <tr>\n",
       "      <th>37144416</th>\n",
       "      <td>1180-Morningevening_person_chronotype</td>\n",
       "      <td>ENSG00000281649</td>\n",
       "      <td>EBLN3P</td>\n",
       "      <td>6.852874e-11</td>\n",
       "      <td>0.906300</td>\n",
       "    </tr>\n",
       "    <tr>\n",
       "      <th>37143407</th>\n",
       "      <td>1180-Morningevening_person_chronotype</td>\n",
       "      <td>ENSG00000270885</td>\n",
       "      <td>RASL10B</td>\n",
       "      <td>1.098187e-10</td>\n",
       "      <td>0.149690</td>\n",
       "    </tr>\n",
       "    <tr>\n",
       "      <th>37126609</th>\n",
       "      <td>1180-Morningevening_person_chronotype</td>\n",
       "      <td>ENSG00000118557</td>\n",
       "      <td>PMFBP1</td>\n",
       "      <td>1.412832e-10</td>\n",
       "      <td>0.846600</td>\n",
       "    </tr>\n",
       "    <tr>\n",
       "      <th>37137480</th>\n",
       "      <td>1180-Morningevening_person_chronotype</td>\n",
       "      <td>ENSG00000197312</td>\n",
       "      <td>DDI2</td>\n",
       "      <td>2.156401e-10</td>\n",
       "      <td>0.256210</td>\n",
       "    </tr>\n",
       "  </tbody>\n",
       "</table>\n",
       "</div>"
      ],
      "text/plain": [
       "                                          trait             gene     gene_name  smultixcan_pvalue  fastenloc_rcp\n",
       "37138018  1180-Morningevening_person_chronotype  ENSG00000204104      TRAF3IP1       1.724459e-20       0.404000\n",
       "37134050  1180-Morningevening_person_chronotype  ENSG00000170667        RASA4B       1.660169e-19       0.634300\n",
       "37124541  1180-Morningevening_person_chronotype  ENSG00000102805          CLN5       5.248423e-18       0.336600\n",
       "37122694  1180-Morningevening_person_chronotype  ENSG00000049245         VAMP3       7.317229e-18       0.631700\n",
       "37130379  1180-Morningevening_person_chronotype  ENSG00000146469           VIP       1.812497e-17       0.258490\n",
       "37122188  1180-Morningevening_person_chronotype  ENSG00000005812         FBXL3       1.544816e-16       0.348645\n",
       "37141075  1180-Morningevening_person_chronotype  ENSG00000249484     LINC01470       4.161078e-16       0.104014\n",
       "37124219  1180-Morningevening_person_chronotype  ENSG00000100354        TNRC6B       8.441499e-14       0.203600\n",
       "37125358  1180-Morningevening_person_chronotype  ENSG00000108551         RASD1       1.246330e-12       0.217511\n",
       "37130496  1180-Morningevening_person_chronotype  ENSG00000147905        ZCCHC7       4.282318e-11       0.246900\n",
       "37142424  1180-Morningevening_person_chronotype  ENSG00000260100  RP11-220I1.5       6.426619e-11       0.198500\n",
       "37144416  1180-Morningevening_person_chronotype  ENSG00000281649        EBLN3P       6.852874e-11       0.906300\n",
       "37143407  1180-Morningevening_person_chronotype  ENSG00000270885       RASL10B       1.098187e-10       0.149690\n",
       "37126609  1180-Morningevening_person_chronotype  ENSG00000118557        PMFBP1       1.412832e-10       0.846600\n",
       "37137480  1180-Morningevening_person_chronotype  ENSG00000197312          DDI2       2.156401e-10       0.256210"
      ]
     },
     "execution_count": 12,
     "metadata": {},
     "output_type": "execute_result"
    }
   ],
   "source": [
    "_res.sort_values('smultixcan_pvalue').head(15)"
   ]
  },
  {
   "cell_type": "markdown",
   "metadata": {},
   "source": [
    "## Other genes"
   ]
  },
  {
   "cell_type": "code",
   "execution_count": 13,
   "metadata": {},
   "outputs": [],
   "source": [
    "_pheno = ['1180-Morningevening_person_chronotype', 'Jones_et_al_2016_Chronotype']"
   ]
  },
  {
   "cell_type": "code",
   "execution_count": 14,
   "metadata": {},
   "outputs": [
    {
     "data": {
      "text/plain": [
       "8"
      ]
     },
     "metadata": {},
     "output_type": "display_data"
    }
   ],
   "source": [
    "_genes = ['CLOCK', 'ARNTL', 'PER1', 'PER2', 'CRY1', 'CRY2', 'PER3', 'NPAS2']\n",
    "display(len(_genes))"
   ]
  },
  {
   "cell_type": "code",
   "execution_count": 15,
   "metadata": {},
   "outputs": [],
   "source": [
    "_res = all_results[\n",
    "    (\n",
    "        (all_results['trait'].isin(_pheno)) &\n",
    "        (all_results['gene_name'].isin(_genes))\n",
    "    )\n",
    "]"
   ]
  },
  {
   "cell_type": "code",
   "execution_count": 16,
   "metadata": {},
   "outputs": [],
   "source": [
    "assert _res.shape[0] == len(_genes) * len(_pheno), set(_genes).difference(set(_res['gene_name']))"
   ]
  },
  {
   "cell_type": "code",
   "execution_count": 17,
   "metadata": {},
   "outputs": [
    {
     "data": {
      "text/plain": [
       "(16, 5)"
      ]
     },
     "execution_count": 17,
     "metadata": {},
     "output_type": "execute_result"
    }
   ],
   "source": [
    "_res.shape"
   ]
  },
  {
   "cell_type": "code",
   "execution_count": 18,
   "metadata": {},
   "outputs": [
    {
     "data": {
      "text/html": [
       "<div>\n",
       "<style scoped>\n",
       "    .dataframe tbody tr th:only-of-type {\n",
       "        vertical-align: middle;\n",
       "    }\n",
       "\n",
       "    .dataframe tbody tr th {\n",
       "        vertical-align: top;\n",
       "    }\n",
       "\n",
       "    .dataframe thead th {\n",
       "        text-align: right;\n",
       "    }\n",
       "</style>\n",
       "<table border=\"1\" class=\"dataframe\">\n",
       "  <thead>\n",
       "    <tr style=\"text-align: right;\">\n",
       "      <th></th>\n",
       "      <th>trait</th>\n",
       "      <th>gene</th>\n",
       "      <th>gene_name</th>\n",
       "      <th>smultixcan_pvalue</th>\n",
       "      <th>fastenloc_rcp</th>\n",
       "    </tr>\n",
       "  </thead>\n",
       "  <tbody>\n",
       "    <tr>\n",
       "      <th>37122695</th>\n",
       "      <td>1180-Morningevening_person_chronotype</td>\n",
       "      <td>ENSG00000049246</td>\n",
       "      <td>PER3</td>\n",
       "      <td>1.651074e-17</td>\n",
       "      <td>0.080050</td>\n",
       "    </tr>\n",
       "    <tr>\n",
       "      <th>37128165</th>\n",
       "      <td>1180-Morningevening_person_chronotype</td>\n",
       "      <td>ENSG00000132326</td>\n",
       "      <td>PER2</td>\n",
       "      <td>1.138651e-09</td>\n",
       "      <td>0.018770</td>\n",
       "    </tr>\n",
       "    <tr>\n",
       "      <th>37122291</th>\n",
       "      <td>1180-Morningevening_person_chronotype</td>\n",
       "      <td>ENSG00000008405</td>\n",
       "      <td>CRY1</td>\n",
       "      <td>5.632047e-04</td>\n",
       "      <td>0.030280</td>\n",
       "    </tr>\n",
       "    <tr>\n",
       "      <th>37134012</th>\n",
       "      <td>1180-Morningevening_person_chronotype</td>\n",
       "      <td>ENSG00000170485</td>\n",
       "      <td>NPAS2</td>\n",
       "      <td>1.237491e-03</td>\n",
       "      <td>0.119100</td>\n",
       "    </tr>\n",
       "    <tr>\n",
       "      <th>37128378</th>\n",
       "      <td>1180-Morningevening_person_chronotype</td>\n",
       "      <td>ENSG00000133794</td>\n",
       "      <td>ARNTL</td>\n",
       "      <td>4.350487e-03</td>\n",
       "      <td>0.015728</td>\n",
       "    </tr>\n",
       "    <tr>\n",
       "      <th>37128547</th>\n",
       "      <td>1180-Morningevening_person_chronotype</td>\n",
       "      <td>ENSG00000134852</td>\n",
       "      <td>CLOCK</td>\n",
       "      <td>8.421765e-02</td>\n",
       "      <td>0.008884</td>\n",
       "    </tr>\n",
       "    <tr>\n",
       "      <th>37126944</th>\n",
       "      <td>1180-Morningevening_person_chronotype</td>\n",
       "      <td>ENSG00000121671</td>\n",
       "      <td>CRY2</td>\n",
       "      <td>1.055408e-01</td>\n",
       "      <td>0.002016</td>\n",
       "    </tr>\n",
       "    <tr>\n",
       "      <th>37135440</th>\n",
       "      <td>1180-Morningevening_person_chronotype</td>\n",
       "      <td>ENSG00000179094</td>\n",
       "      <td>PER1</td>\n",
       "      <td>6.909949e-01</td>\n",
       "      <td>0.242000</td>\n",
       "    </tr>\n",
       "    <tr>\n",
       "      <th>91682283</th>\n",
       "      <td>Jones_et_al_2016_Chronotype</td>\n",
       "      <td>ENSG00000049246</td>\n",
       "      <td>PER3</td>\n",
       "      <td>1.070639e-07</td>\n",
       "      <td>0.013000</td>\n",
       "    </tr>\n",
       "    <tr>\n",
       "      <th>91687753</th>\n",
       "      <td>Jones_et_al_2016_Chronotype</td>\n",
       "      <td>ENSG00000132326</td>\n",
       "      <td>PER2</td>\n",
       "      <td>2.175813e-04</td>\n",
       "      <td>0.000000</td>\n",
       "    </tr>\n",
       "    <tr>\n",
       "      <th>91693600</th>\n",
       "      <td>Jones_et_al_2016_Chronotype</td>\n",
       "      <td>ENSG00000170485</td>\n",
       "      <td>NPAS2</td>\n",
       "      <td>5.205550e-04</td>\n",
       "      <td>0.000000</td>\n",
       "    </tr>\n",
       "    <tr>\n",
       "      <th>91695028</th>\n",
       "      <td>Jones_et_al_2016_Chronotype</td>\n",
       "      <td>ENSG00000179094</td>\n",
       "      <td>PER1</td>\n",
       "      <td>2.766203e-03</td>\n",
       "      <td>0.000000</td>\n",
       "    </tr>\n",
       "    <tr>\n",
       "      <th>91687966</th>\n",
       "      <td>Jones_et_al_2016_Chronotype</td>\n",
       "      <td>ENSG00000133794</td>\n",
       "      <td>ARNTL</td>\n",
       "      <td>7.558568e-02</td>\n",
       "      <td>0.000000</td>\n",
       "    </tr>\n",
       "    <tr>\n",
       "      <th>91688135</th>\n",
       "      <td>Jones_et_al_2016_Chronotype</td>\n",
       "      <td>ENSG00000134852</td>\n",
       "      <td>CLOCK</td>\n",
       "      <td>1.188264e-01</td>\n",
       "      <td>0.000000</td>\n",
       "    </tr>\n",
       "    <tr>\n",
       "      <th>91681879</th>\n",
       "      <td>Jones_et_al_2016_Chronotype</td>\n",
       "      <td>ENSG00000008405</td>\n",
       "      <td>CRY1</td>\n",
       "      <td>1.240702e-01</td>\n",
       "      <td>0.000000</td>\n",
       "    </tr>\n",
       "    <tr>\n",
       "      <th>91686532</th>\n",
       "      <td>Jones_et_al_2016_Chronotype</td>\n",
       "      <td>ENSG00000121671</td>\n",
       "      <td>CRY2</td>\n",
       "      <td>5.935052e-01</td>\n",
       "      <td>0.000000</td>\n",
       "    </tr>\n",
       "  </tbody>\n",
       "</table>\n",
       "</div>"
      ],
      "text/plain": [
       "                                          trait             gene gene_name  smultixcan_pvalue  fastenloc_rcp\n",
       "37122695  1180-Morningevening_person_chronotype  ENSG00000049246      PER3       1.651074e-17       0.080050\n",
       "37128165  1180-Morningevening_person_chronotype  ENSG00000132326      PER2       1.138651e-09       0.018770\n",
       "37122291  1180-Morningevening_person_chronotype  ENSG00000008405      CRY1       5.632047e-04       0.030280\n",
       "37134012  1180-Morningevening_person_chronotype  ENSG00000170485     NPAS2       1.237491e-03       0.119100\n",
       "37128378  1180-Morningevening_person_chronotype  ENSG00000133794     ARNTL       4.350487e-03       0.015728\n",
       "37128547  1180-Morningevening_person_chronotype  ENSG00000134852     CLOCK       8.421765e-02       0.008884\n",
       "37126944  1180-Morningevening_person_chronotype  ENSG00000121671      CRY2       1.055408e-01       0.002016\n",
       "37135440  1180-Morningevening_person_chronotype  ENSG00000179094      PER1       6.909949e-01       0.242000\n",
       "91682283            Jones_et_al_2016_Chronotype  ENSG00000049246      PER3       1.070639e-07       0.013000\n",
       "91687753            Jones_et_al_2016_Chronotype  ENSG00000132326      PER2       2.175813e-04       0.000000\n",
       "91693600            Jones_et_al_2016_Chronotype  ENSG00000170485     NPAS2       5.205550e-04       0.000000\n",
       "91695028            Jones_et_al_2016_Chronotype  ENSG00000179094      PER1       2.766203e-03       0.000000\n",
       "91687966            Jones_et_al_2016_Chronotype  ENSG00000133794     ARNTL       7.558568e-02       0.000000\n",
       "91688135            Jones_et_al_2016_Chronotype  ENSG00000134852     CLOCK       1.188264e-01       0.000000\n",
       "91681879            Jones_et_al_2016_Chronotype  ENSG00000008405      CRY1       1.240702e-01       0.000000\n",
       "91686532            Jones_et_al_2016_Chronotype  ENSG00000121671      CRY2       5.935052e-01       0.000000"
      ]
     },
     "execution_count": 18,
     "metadata": {},
     "output_type": "execute_result"
    }
   ],
   "source": [
    "_res.sort_values(['trait', 'smultixcan_pvalue'])"
   ]
  },
  {
   "cell_type": "markdown",
   "metadata": {},
   "source": [
    "# TPO, top 10 traits"
   ]
  },
  {
   "cell_type": "code",
   "execution_count": 19,
   "metadata": {},
   "outputs": [],
   "source": [
    "_gene = 'TPO'"
   ]
  },
  {
   "cell_type": "code",
   "execution_count": 20,
   "metadata": {},
   "outputs": [],
   "source": [
    "_res = all_results[\n",
    "    (\n",
    "        (all_results['gene_name'] == _gene)\n",
    "#       &  (all_results['fastenloc_rcp'] >= 0.10)\n",
    "#         (all_results['smultixcan_pvalue'] < PVALUE_THRESHOLD)\n",
    "    )\n",
    "]"
   ]
  },
  {
   "cell_type": "code",
   "execution_count": 21,
   "metadata": {},
   "outputs": [
    {
     "data": {
      "text/plain": [
       "(4091, 5)"
      ]
     },
     "execution_count": 21,
     "metadata": {},
     "output_type": "execute_result"
    }
   ],
   "source": [
    "_res.shape"
   ]
  },
  {
   "cell_type": "code",
   "execution_count": 22,
   "metadata": {},
   "outputs": [
    {
     "data": {
      "text/html": [
       "<div>\n",
       "<style scoped>\n",
       "    .dataframe tbody tr th:only-of-type {\n",
       "        vertical-align: middle;\n",
       "    }\n",
       "\n",
       "    .dataframe tbody tr th {\n",
       "        vertical-align: top;\n",
       "    }\n",
       "\n",
       "    .dataframe thead th {\n",
       "        text-align: right;\n",
       "    }\n",
       "</style>\n",
       "<table border=\"1\" class=\"dataframe\">\n",
       "  <thead>\n",
       "    <tr style=\"text-align: right;\">\n",
       "      <th></th>\n",
       "      <th>trait</th>\n",
       "      <th>gene</th>\n",
       "      <th>gene_name</th>\n",
       "      <th>smultixcan_pvalue</th>\n",
       "      <th>fastenloc_rcp</th>\n",
       "    </tr>\n",
       "  </thead>\n",
       "  <tbody>\n",
       "    <tr>\n",
       "      <th>11778979</th>\n",
       "      <td>20002_1226-Noncancer_illness_code_selfreported...</td>\n",
       "      <td>ENSG00000115705</td>\n",
       "      <td>TPO</td>\n",
       "      <td>1.406237e-14</td>\n",
       "      <td>0.998600</td>\n",
       "    </tr>\n",
       "    <tr>\n",
       "      <th>38901476</th>\n",
       "      <td>20003_1141191044-Treatmentmedication_code_levo...</td>\n",
       "      <td>ENSG00000115705</td>\n",
       "      <td>TPO</td>\n",
       "      <td>1.539319e-10</td>\n",
       "      <td>0.996852</td>\n",
       "    </tr>\n",
       "    <tr>\n",
       "      <th>67731769</th>\n",
       "      <td>20003_1141157264-Treatmentmedication_code_salm...</td>\n",
       "      <td>ENSG00000115705</td>\n",
       "      <td>TPO</td>\n",
       "      <td>7.454061e-05</td>\n",
       "      <td>0.000000</td>\n",
       "    </tr>\n",
       "    <tr>\n",
       "      <th>4251194</th>\n",
       "      <td>400_raw-Time_to_complete_round</td>\n",
       "      <td>ENSG00000115705</td>\n",
       "      <td>TPO</td>\n",
       "      <td>1.190759e-04</td>\n",
       "      <td>0.044376</td>\n",
       "    </tr>\n",
       "    <tr>\n",
       "      <th>19396648</th>\n",
       "      <td>20126_5-Bipolar_and_major_depression_status_Si...</td>\n",
       "      <td>ENSG00000115705</td>\n",
       "      <td>TPO</td>\n",
       "      <td>2.481970e-04</td>\n",
       "      <td>0.000000</td>\n",
       "    </tr>\n",
       "    <tr>\n",
       "      <th>70922651</th>\n",
       "      <td>1349-Processed_meat_intake</td>\n",
       "      <td>ENSG00000115705</td>\n",
       "      <td>TPO</td>\n",
       "      <td>5.327010e-04</td>\n",
       "      <td>0.039486</td>\n",
       "    </tr>\n",
       "    <tr>\n",
       "      <th>17464142</th>\n",
       "      <td>20003_1140879778-Treatmentmedication_code_doxa...</td>\n",
       "      <td>ENSG00000115705</td>\n",
       "      <td>TPO</td>\n",
       "      <td>8.807842e-04</td>\n",
       "      <td>0.019986</td>\n",
       "    </tr>\n",
       "    <tr>\n",
       "      <th>38968889</th>\n",
       "      <td>2139_raw-Age_first_had_sexual_intercourse</td>\n",
       "      <td>ENSG00000115705</td>\n",
       "      <td>TPO</td>\n",
       "      <td>1.078210e-03</td>\n",
       "      <td>0.061870</td>\n",
       "    </tr>\n",
       "    <tr>\n",
       "      <th>54586234</th>\n",
       "      <td>5085_raw-Spherical_power_left</td>\n",
       "      <td>ENSG00000115705</td>\n",
       "      <td>TPO</td>\n",
       "      <td>1.268166e-03</td>\n",
       "      <td>0.071470</td>\n",
       "    </tr>\n",
       "    <tr>\n",
       "      <th>53957046</th>\n",
       "      <td>S05-Diagnoses_main_ICD10_S05_Injury_of_eye_and...</td>\n",
       "      <td>ENSG00000115705</td>\n",
       "      <td>TPO</td>\n",
       "      <td>1.326789e-03</td>\n",
       "      <td>0.000000</td>\n",
       "    </tr>\n",
       "  </tbody>\n",
       "</table>\n",
       "</div>"
      ],
      "text/plain": [
       "                                                      trait             gene gene_name  smultixcan_pvalue  fastenloc_rcp\n",
       "11778979  20002_1226-Noncancer_illness_code_selfreported...  ENSG00000115705       TPO       1.406237e-14       0.998600\n",
       "38901476  20003_1141191044-Treatmentmedication_code_levo...  ENSG00000115705       TPO       1.539319e-10       0.996852\n",
       "67731769  20003_1141157264-Treatmentmedication_code_salm...  ENSG00000115705       TPO       7.454061e-05       0.000000\n",
       "4251194                      400_raw-Time_to_complete_round  ENSG00000115705       TPO       1.190759e-04       0.044376\n",
       "19396648  20126_5-Bipolar_and_major_depression_status_Si...  ENSG00000115705       TPO       2.481970e-04       0.000000\n",
       "70922651                         1349-Processed_meat_intake  ENSG00000115705       TPO       5.327010e-04       0.039486\n",
       "17464142  20003_1140879778-Treatmentmedication_code_doxa...  ENSG00000115705       TPO       8.807842e-04       0.019986\n",
       "38968889          2139_raw-Age_first_had_sexual_intercourse  ENSG00000115705       TPO       1.078210e-03       0.061870\n",
       "54586234                      5085_raw-Spherical_power_left  ENSG00000115705       TPO       1.268166e-03       0.071470\n",
       "53957046  S05-Diagnoses_main_ICD10_S05_Injury_of_eye_and...  ENSG00000115705       TPO       1.326789e-03       0.000000"
      ]
     },
     "metadata": {},
     "output_type": "display_data"
    }
   ],
   "source": [
    "_tmp = _res.sort_values('smultixcan_pvalue').head(10)\n",
    "display(_tmp)"
   ]
  },
  {
   "cell_type": "code",
   "execution_count": 23,
   "metadata": {},
   "outputs": [
    {
     "data": {
      "text/plain": [
       "['20002_1226-Noncancer_illness_code_selfreported_hypothyroidismmyxoedema',\n",
       " '20003_1141191044-Treatmentmedication_code_levothyroxine_sodium',\n",
       " '20003_1141157264-Treatmentmedication_code_salmeterol_product',\n",
       " '400_raw-Time_to_complete_round',\n",
       " '20126_5-Bipolar_and_major_depression_status_Single_Probable_major_depression_episode',\n",
       " '1349-Processed_meat_intake',\n",
       " '20003_1140879778-Treatmentmedication_code_doxazosin',\n",
       " '2139_raw-Age_first_had_sexual_intercourse',\n",
       " '5085_raw-Spherical_power_left',\n",
       " 'S05-Diagnoses_main_ICD10_S05_Injury_of_eye_and_orbit']"
      ]
     },
     "execution_count": 23,
     "metadata": {},
     "output_type": "execute_result"
    }
   ],
   "source": [
    "_tmp['trait'].tolist()"
   ]
  },
  {
   "cell_type": "markdown",
   "metadata": {},
   "source": [
    "# PSMD3 -> Top 10 traits"
   ]
  },
  {
   "cell_type": "code",
   "execution_count": 24,
   "metadata": {},
   "outputs": [],
   "source": [
    "_gene = 'PSMD3'"
   ]
  },
  {
   "cell_type": "code",
   "execution_count": 25,
   "metadata": {},
   "outputs": [
    {
     "data": {
      "text/plain": [
       "'ENSG00000108344'"
      ]
     },
     "execution_count": 25,
     "metadata": {},
     "output_type": "execute_result"
    }
   ],
   "source": [
    "metadata.GENE_NAME_TO_ID_MAP[_gene]"
   ]
  },
  {
   "cell_type": "code",
   "execution_count": 26,
   "metadata": {},
   "outputs": [],
   "source": [
    "_res = all_results[\n",
    "    (\n",
    "        (all_results['gene_name'] == _gene)\n",
    "#       &  (all_results['fastenloc_rcp'] >= 0.10)\n",
    "#         (all_results['smultixcan_pvalue'] < PVALUE_THRESHOLD)\n",
    "    )\n",
    "]"
   ]
  },
  {
   "cell_type": "code",
   "execution_count": 27,
   "metadata": {},
   "outputs": [
    {
     "data": {
      "text/plain": [
       "(4091, 5)"
      ]
     },
     "execution_count": 27,
     "metadata": {},
     "output_type": "execute_result"
    }
   ],
   "source": [
    "_res.shape"
   ]
  },
  {
   "cell_type": "code",
   "execution_count": 28,
   "metadata": {},
   "outputs": [
    {
     "data": {
      "text/html": [
       "<div>\n",
       "<style scoped>\n",
       "    .dataframe tbody tr th:only-of-type {\n",
       "        vertical-align: middle;\n",
       "    }\n",
       "\n",
       "    .dataframe tbody tr th {\n",
       "        vertical-align: top;\n",
       "    }\n",
       "\n",
       "    .dataframe thead th {\n",
       "        text-align: right;\n",
       "    }\n",
       "</style>\n",
       "<table border=\"1\" class=\"dataframe\">\n",
       "  <thead>\n",
       "    <tr style=\"text-align: right;\">\n",
       "      <th></th>\n",
       "      <th>trait</th>\n",
       "      <th>gene</th>\n",
       "      <th>gene_name</th>\n",
       "      <th>smultixcan_pvalue</th>\n",
       "      <th>fastenloc_rcp</th>\n",
       "    </tr>\n",
       "  </thead>\n",
       "  <tbody>\n",
       "    <tr>\n",
       "      <th>20474314</th>\n",
       "      <td>30140_raw-Neutrophill_count</td>\n",
       "      <td>ENSG00000108344</td>\n",
       "      <td>PSMD3</td>\n",
       "      <td>9.999889e-321</td>\n",
       "      <td>0.3783</td>\n",
       "    </tr>\n",
       "    <tr>\n",
       "      <th>29282946</th>\n",
       "      <td>30200_raw-Neutrophill_percentage</td>\n",
       "      <td>ENSG00000108344</td>\n",
       "      <td>PSMD3</td>\n",
       "      <td>4.405596e-263</td>\n",
       "      <td>0.4322</td>\n",
       "    </tr>\n",
       "    <tr>\n",
       "      <th>91707384</th>\n",
       "      <td>Astle_et_al_2016_Sum_basophil_neutrophil_counts</td>\n",
       "      <td>ENSG00000108344</td>\n",
       "      <td>PSMD3</td>\n",
       "      <td>4.669068e-261</td>\n",
       "      <td>0.5980</td>\n",
       "    </tr>\n",
       "    <tr>\n",
       "      <th>91482674</th>\n",
       "      <td>Astle_et_al_2016_Granulocyte_count</td>\n",
       "      <td>ENSG00000108344</td>\n",
       "      <td>PSMD3</td>\n",
       "      <td>1.297851e-259</td>\n",
       "      <td>0.6060</td>\n",
       "    </tr>\n",
       "    <tr>\n",
       "      <th>42181300</th>\n",
       "      <td>30000_raw-White_blood_cell_leukocyte_count</td>\n",
       "      <td>ENSG00000108344</td>\n",
       "      <td>PSMD3</td>\n",
       "      <td>3.999405e-258</td>\n",
       "      <td>0.4183</td>\n",
       "    </tr>\n",
       "    <tr>\n",
       "      <th>91302906</th>\n",
       "      <td>Astle_et_al_2016_Neutrophil_count</td>\n",
       "      <td>ENSG00000108344</td>\n",
       "      <td>PSMD3</td>\n",
       "      <td>3.946031e-257</td>\n",
       "      <td>0.6050</td>\n",
       "    </tr>\n",
       "    <tr>\n",
       "      <th>91033254</th>\n",
       "      <td>Astle_et_al_2016_Sum_neutrophil_eosinophil_counts</td>\n",
       "      <td>ENSG00000108344</td>\n",
       "      <td>PSMD3</td>\n",
       "      <td>3.669955e-256</td>\n",
       "      <td>0.5930</td>\n",
       "    </tr>\n",
       "    <tr>\n",
       "      <th>91460203</th>\n",
       "      <td>Astle_et_al_2016_Myeloid_white_cell_count</td>\n",
       "      <td>ENSG00000108344</td>\n",
       "      <td>PSMD3</td>\n",
       "      <td>3.529369e-244</td>\n",
       "      <td>0.5950</td>\n",
       "    </tr>\n",
       "    <tr>\n",
       "      <th>90156885</th>\n",
       "      <td>30180_raw-Lymphocyte_percentage</td>\n",
       "      <td>ENSG00000108344</td>\n",
       "      <td>PSMD3</td>\n",
       "      <td>1.018281e-215</td>\n",
       "      <td>0.2339</td>\n",
       "    </tr>\n",
       "    <tr>\n",
       "      <th>91347848</th>\n",
       "      <td>Astle_et_al_2016_White_blood_cell_count</td>\n",
       "      <td>ENSG00000108344</td>\n",
       "      <td>PSMD3</td>\n",
       "      <td>7.790088e-203</td>\n",
       "      <td>0.6090</td>\n",
       "    </tr>\n",
       "  </tbody>\n",
       "</table>\n",
       "</div>"
      ],
      "text/plain": [
       "                                                      trait             gene gene_name  smultixcan_pvalue  fastenloc_rcp\n",
       "20474314                        30140_raw-Neutrophill_count  ENSG00000108344     PSMD3      9.999889e-321         0.3783\n",
       "29282946                   30200_raw-Neutrophill_percentage  ENSG00000108344     PSMD3      4.405596e-263         0.4322\n",
       "91707384    Astle_et_al_2016_Sum_basophil_neutrophil_counts  ENSG00000108344     PSMD3      4.669068e-261         0.5980\n",
       "91482674                 Astle_et_al_2016_Granulocyte_count  ENSG00000108344     PSMD3      1.297851e-259         0.6060\n",
       "42181300         30000_raw-White_blood_cell_leukocyte_count  ENSG00000108344     PSMD3      3.999405e-258         0.4183\n",
       "91302906                  Astle_et_al_2016_Neutrophil_count  ENSG00000108344     PSMD3      3.946031e-257         0.6050\n",
       "91033254  Astle_et_al_2016_Sum_neutrophil_eosinophil_counts  ENSG00000108344     PSMD3      3.669955e-256         0.5930\n",
       "91460203          Astle_et_al_2016_Myeloid_white_cell_count  ENSG00000108344     PSMD3      3.529369e-244         0.5950\n",
       "90156885                    30180_raw-Lymphocyte_percentage  ENSG00000108344     PSMD3      1.018281e-215         0.2339\n",
       "91347848            Astle_et_al_2016_White_blood_cell_count  ENSG00000108344     PSMD3      7.790088e-203         0.6090"
      ]
     },
     "metadata": {},
     "output_type": "display_data"
    }
   ],
   "source": [
    "_tmp = _res.sort_values('smultixcan_pvalue').head(10)\n",
    "display(_tmp)"
   ]
  },
  {
   "cell_type": "markdown",
   "metadata": {},
   "source": [
    "# ZFP36L2 -> Top 10 traits"
   ]
  },
  {
   "cell_type": "code",
   "execution_count": 29,
   "metadata": {},
   "outputs": [],
   "source": [
    "_gene = 'ZFP36L2'"
   ]
  },
  {
   "cell_type": "code",
   "execution_count": 30,
   "metadata": {},
   "outputs": [
    {
     "data": {
      "text/plain": [
       "'ENSG00000152518'"
      ]
     },
     "execution_count": 30,
     "metadata": {},
     "output_type": "execute_result"
    }
   ],
   "source": [
    "metadata.GENE_NAME_TO_ID_MAP[_gene]"
   ]
  },
  {
   "cell_type": "code",
   "execution_count": 31,
   "metadata": {},
   "outputs": [],
   "source": [
    "_res = all_results[\n",
    "    (\n",
    "        (all_results['gene_name'] == _gene)\n",
    "#       &  (all_results['fastenloc_rcp'] >= 0.10)\n",
    "#         (all_results['smultixcan_pvalue'] < PVALUE_THRESHOLD)\n",
    "    )\n",
    "]"
   ]
  },
  {
   "cell_type": "code",
   "execution_count": 32,
   "metadata": {},
   "outputs": [
    {
     "data": {
      "text/plain": [
       "(4091, 5)"
      ]
     },
     "execution_count": 32,
     "metadata": {},
     "output_type": "execute_result"
    }
   ],
   "source": [
    "_res.shape"
   ]
  },
  {
   "cell_type": "code",
   "execution_count": 33,
   "metadata": {},
   "outputs": [
    {
     "data": {
      "text/html": [
       "<div>\n",
       "<style scoped>\n",
       "    .dataframe tbody tr th:only-of-type {\n",
       "        vertical-align: middle;\n",
       "    }\n",
       "\n",
       "    .dataframe tbody tr th {\n",
       "        vertical-align: top;\n",
       "    }\n",
       "\n",
       "    .dataframe thead th {\n",
       "        text-align: right;\n",
       "    }\n",
       "</style>\n",
       "<table border=\"1\" class=\"dataframe\">\n",
       "  <thead>\n",
       "    <tr style=\"text-align: right;\">\n",
       "      <th></th>\n",
       "      <th>trait</th>\n",
       "      <th>gene</th>\n",
       "      <th>gene_name</th>\n",
       "      <th>smultixcan_pvalue</th>\n",
       "      <th>fastenloc_rcp</th>\n",
       "    </tr>\n",
       "  </thead>\n",
       "  <tbody>\n",
       "    <tr>\n",
       "      <th>90162545</th>\n",
       "      <td>30180_raw-Lymphocyte_percentage</td>\n",
       "      <td>ENSG00000152518</td>\n",
       "      <td>ZFP36L2</td>\n",
       "      <td>3.617195e-66</td>\n",
       "      <td>0.401400</td>\n",
       "    </tr>\n",
       "    <tr>\n",
       "      <th>29288606</th>\n",
       "      <td>30200_raw-Neutrophill_percentage</td>\n",
       "      <td>ENSG00000152518</td>\n",
       "      <td>ZFP36L2</td>\n",
       "      <td>1.165641e-61</td>\n",
       "      <td>0.387200</td>\n",
       "    </tr>\n",
       "    <tr>\n",
       "      <th>63601823</th>\n",
       "      <td>30080_raw-Platelet_count</td>\n",
       "      <td>ENSG00000152518</td>\n",
       "      <td>ZFP36L2</td>\n",
       "      <td>6.876904e-51</td>\n",
       "      <td>0.063481</td>\n",
       "    </tr>\n",
       "    <tr>\n",
       "      <th>61691788</th>\n",
       "      <td>30090_raw-Platelet_crit</td>\n",
       "      <td>ENSG00000152518</td>\n",
       "      <td>ZFP36L2</td>\n",
       "      <td>2.051007e-43</td>\n",
       "      <td>0.041830</td>\n",
       "    </tr>\n",
       "    <tr>\n",
       "      <th>91533276</th>\n",
       "      <td>Astle_et_al_2016_Platelet_count</td>\n",
       "      <td>ENSG00000152518</td>\n",
       "      <td>ZFP36L2</td>\n",
       "      <td>2.221880e-29</td>\n",
       "      <td>0.891000</td>\n",
       "    </tr>\n",
       "    <tr>\n",
       "      <th>70500420</th>\n",
       "      <td>30260_raw-Mean_reticulocyte_volume</td>\n",
       "      <td>ENSG00000152518</td>\n",
       "      <td>ZFP36L2</td>\n",
       "      <td>4.644179e-24</td>\n",
       "      <td>0.051511</td>\n",
       "    </tr>\n",
       "    <tr>\n",
       "      <th>91151269</th>\n",
       "      <td>Astle_et_al_2016_Lymphocyte_counts</td>\n",
       "      <td>ENSG00000152518</td>\n",
       "      <td>ZFP36L2</td>\n",
       "      <td>1.026523e-22</td>\n",
       "      <td>0.945000</td>\n",
       "    </tr>\n",
       "    <tr>\n",
       "      <th>26569615</th>\n",
       "      <td>30050_raw-Mean_corpuscular_haemoglobin</td>\n",
       "      <td>ENSG00000152518</td>\n",
       "      <td>ZFP36L2</td>\n",
       "      <td>1.666844e-20</td>\n",
       "      <td>0.348900</td>\n",
       "    </tr>\n",
       "    <tr>\n",
       "      <th>90117603</th>\n",
       "      <td>30040_raw-Mean_corpuscular_volume</td>\n",
       "      <td>ENSG00000152518</td>\n",
       "      <td>ZFP36L2</td>\n",
       "      <td>4.525347e-20</td>\n",
       "      <td>0.176700</td>\n",
       "    </tr>\n",
       "    <tr>\n",
       "      <th>20479974</th>\n",
       "      <td>30140_raw-Neutrophill_count</td>\n",
       "      <td>ENSG00000152518</td>\n",
       "      <td>ZFP36L2</td>\n",
       "      <td>5.996725e-15</td>\n",
       "      <td>0.398946</td>\n",
       "    </tr>\n",
       "  </tbody>\n",
       "</table>\n",
       "</div>"
      ],
      "text/plain": [
       "                                           trait             gene gene_name  smultixcan_pvalue  fastenloc_rcp\n",
       "90162545         30180_raw-Lymphocyte_percentage  ENSG00000152518   ZFP36L2       3.617195e-66       0.401400\n",
       "29288606        30200_raw-Neutrophill_percentage  ENSG00000152518   ZFP36L2       1.165641e-61       0.387200\n",
       "63601823                30080_raw-Platelet_count  ENSG00000152518   ZFP36L2       6.876904e-51       0.063481\n",
       "61691788                 30090_raw-Platelet_crit  ENSG00000152518   ZFP36L2       2.051007e-43       0.041830\n",
       "91533276         Astle_et_al_2016_Platelet_count  ENSG00000152518   ZFP36L2       2.221880e-29       0.891000\n",
       "70500420      30260_raw-Mean_reticulocyte_volume  ENSG00000152518   ZFP36L2       4.644179e-24       0.051511\n",
       "91151269      Astle_et_al_2016_Lymphocyte_counts  ENSG00000152518   ZFP36L2       1.026523e-22       0.945000\n",
       "26569615  30050_raw-Mean_corpuscular_haemoglobin  ENSG00000152518   ZFP36L2       1.666844e-20       0.348900\n",
       "90117603       30040_raw-Mean_corpuscular_volume  ENSG00000152518   ZFP36L2       4.525347e-20       0.176700\n",
       "20479974             30140_raw-Neutrophill_count  ENSG00000152518   ZFP36L2       5.996725e-15       0.398946"
      ]
     },
     "metadata": {},
     "output_type": "display_data"
    }
   ],
   "source": [
    "_tmp = _res.sort_values('smultixcan_pvalue').head(10)\n",
    "display(_tmp)"
   ]
  },
  {
   "cell_type": "markdown",
   "metadata": {},
   "source": [
    "# FBXO7 -> Top 10 traits"
   ]
  },
  {
   "cell_type": "code",
   "execution_count": 34,
   "metadata": {},
   "outputs": [],
   "source": [
    "_gene = 'FBXO7'"
   ]
  },
  {
   "cell_type": "code",
   "execution_count": 35,
   "metadata": {},
   "outputs": [
    {
     "data": {
      "text/plain": [
       "'ENSG00000100225'"
      ]
     },
     "execution_count": 35,
     "metadata": {},
     "output_type": "execute_result"
    }
   ],
   "source": [
    "metadata.GENE_NAME_TO_ID_MAP[_gene]"
   ]
  },
  {
   "cell_type": "code",
   "execution_count": 36,
   "metadata": {},
   "outputs": [],
   "source": [
    "_res = all_results[\n",
    "    (\n",
    "        (all_results['gene_name'] == _gene)\n",
    "#       &  (all_results['fastenloc_rcp'] >= 0.10)\n",
    "#         (all_results['smultixcan_pvalue'] < PVALUE_THRESHOLD)\n",
    "    )\n",
    "]"
   ]
  },
  {
   "cell_type": "code",
   "execution_count": 37,
   "metadata": {},
   "outputs": [
    {
     "data": {
      "text/plain": [
       "(4091, 5)"
      ]
     },
     "execution_count": 37,
     "metadata": {},
     "output_type": "execute_result"
    }
   ],
   "source": [
    "_res.shape"
   ]
  },
  {
   "cell_type": "code",
   "execution_count": 38,
   "metadata": {},
   "outputs": [
    {
     "data": {
      "text/html": [
       "<div>\n",
       "<style scoped>\n",
       "    .dataframe tbody tr th:only-of-type {\n",
       "        vertical-align: middle;\n",
       "    }\n",
       "\n",
       "    .dataframe tbody tr th {\n",
       "        vertical-align: top;\n",
       "    }\n",
       "\n",
       "    .dataframe thead th {\n",
       "        text-align: right;\n",
       "    }\n",
       "</style>\n",
       "<table border=\"1\" class=\"dataframe\">\n",
       "  <thead>\n",
       "    <tr style=\"text-align: right;\">\n",
       "      <th></th>\n",
       "      <th>trait</th>\n",
       "      <th>gene</th>\n",
       "      <th>gene_name</th>\n",
       "      <th>smultixcan_pvalue</th>\n",
       "      <th>fastenloc_rcp</th>\n",
       "    </tr>\n",
       "  </thead>\n",
       "  <tbody>\n",
       "    <tr>\n",
       "      <th>90110782</th>\n",
       "      <td>30040_raw-Mean_corpuscular_volume</td>\n",
       "      <td>ENSG00000100225</td>\n",
       "      <td>FBXO7</td>\n",
       "      <td>5.907129e-116</td>\n",
       "      <td>1.081200</td>\n",
       "    </tr>\n",
       "    <tr>\n",
       "      <th>70493599</th>\n",
       "      <td>30260_raw-Mean_reticulocyte_volume</td>\n",
       "      <td>ENSG00000100225</td>\n",
       "      <td>FBXO7</td>\n",
       "      <td>1.918726e-91</td>\n",
       "      <td>0.883150</td>\n",
       "    </tr>\n",
       "    <tr>\n",
       "      <th>26562794</th>\n",
       "      <td>30050_raw-Mean_corpuscular_haemoglobin</td>\n",
       "      <td>ENSG00000100225</td>\n",
       "      <td>FBXO7</td>\n",
       "      <td>2.971476e-91</td>\n",
       "      <td>0.797500</td>\n",
       "    </tr>\n",
       "    <tr>\n",
       "      <th>26068432</th>\n",
       "      <td>30270_raw-Mean_sphered_cell_volume</td>\n",
       "      <td>ENSG00000100225</td>\n",
       "      <td>FBXO7</td>\n",
       "      <td>9.591552e-73</td>\n",
       "      <td>0.874700</td>\n",
       "    </tr>\n",
       "    <tr>\n",
       "      <th>65572450</th>\n",
       "      <td>30010_raw-Red_blood_cell_erythrocyte_count</td>\n",
       "      <td>ENSG00000100225</td>\n",
       "      <td>FBXO7</td>\n",
       "      <td>1.758737e-31</td>\n",
       "      <td>0.508100</td>\n",
       "    </tr>\n",
       "    <tr>\n",
       "      <th>67774608</th>\n",
       "      <td>30070_raw-Red_blood_cell_erythrocyte_distribut...</td>\n",
       "      <td>ENSG00000100225</td>\n",
       "      <td>FBXO7</td>\n",
       "      <td>4.533268e-17</td>\n",
       "      <td>0.802500</td>\n",
       "    </tr>\n",
       "    <tr>\n",
       "      <th>91818578</th>\n",
       "      <td>Astle_et_al_2016_Red_blood_cell_count</td>\n",
       "      <td>ENSG00000100225</td>\n",
       "      <td>FBXO7</td>\n",
       "      <td>5.952877e-14</td>\n",
       "      <td>0.772000</td>\n",
       "    </tr>\n",
       "    <tr>\n",
       "      <th>89324297</th>\n",
       "      <td>30280_raw-Immature_reticulocyte_fraction</td>\n",
       "      <td>ENSG00000100225</td>\n",
       "      <td>FBXO7</td>\n",
       "      <td>2.569621e-05</td>\n",
       "      <td>0.985000</td>\n",
       "    </tr>\n",
       "    <tr>\n",
       "      <th>18900183</th>\n",
       "      <td>2217_raw-Age_started_wearing_glasses_or_contac...</td>\n",
       "      <td>ENSG00000100225</td>\n",
       "      <td>FBXO7</td>\n",
       "      <td>2.945839e-05</td>\n",
       "      <td>0.678506</td>\n",
       "    </tr>\n",
       "    <tr>\n",
       "      <th>78358449</th>\n",
       "      <td>30100_raw-Mean_platelet_thrombocyte_volume</td>\n",
       "      <td>ENSG00000100225</td>\n",
       "      <td>FBXO7</td>\n",
       "      <td>6.089061e-05</td>\n",
       "      <td>0.518583</td>\n",
       "    </tr>\n",
       "  </tbody>\n",
       "</table>\n",
       "</div>"
      ],
      "text/plain": [
       "                                                      trait             gene gene_name  smultixcan_pvalue  fastenloc_rcp\n",
       "90110782                  30040_raw-Mean_corpuscular_volume  ENSG00000100225     FBXO7      5.907129e-116       1.081200\n",
       "70493599                 30260_raw-Mean_reticulocyte_volume  ENSG00000100225     FBXO7       1.918726e-91       0.883150\n",
       "26562794             30050_raw-Mean_corpuscular_haemoglobin  ENSG00000100225     FBXO7       2.971476e-91       0.797500\n",
       "26068432                 30270_raw-Mean_sphered_cell_volume  ENSG00000100225     FBXO7       9.591552e-73       0.874700\n",
       "65572450         30010_raw-Red_blood_cell_erythrocyte_count  ENSG00000100225     FBXO7       1.758737e-31       0.508100\n",
       "67774608  30070_raw-Red_blood_cell_erythrocyte_distribut...  ENSG00000100225     FBXO7       4.533268e-17       0.802500\n",
       "91818578              Astle_et_al_2016_Red_blood_cell_count  ENSG00000100225     FBXO7       5.952877e-14       0.772000\n",
       "89324297           30280_raw-Immature_reticulocyte_fraction  ENSG00000100225     FBXO7       2.569621e-05       0.985000\n",
       "18900183  2217_raw-Age_started_wearing_glasses_or_contac...  ENSG00000100225     FBXO7       2.945839e-05       0.678506\n",
       "78358449         30100_raw-Mean_platelet_thrombocyte_volume  ENSG00000100225     FBXO7       6.089061e-05       0.518583"
      ]
     },
     "metadata": {},
     "output_type": "display_data"
    }
   ],
   "source": [
    "_tmp = _res.sort_values('smultixcan_pvalue').head(10)\n",
    "display(_tmp)"
   ]
  },
  {
   "cell_type": "markdown",
   "metadata": {},
   "source": [
    "# SYN3 -> Top 10 traits"
   ]
  },
  {
   "cell_type": "code",
   "execution_count": 39,
   "metadata": {},
   "outputs": [],
   "source": [
    "_gene = 'SYN3'"
   ]
  },
  {
   "cell_type": "code",
   "execution_count": 40,
   "metadata": {},
   "outputs": [
    {
     "data": {
      "text/plain": [
       "'ENSG00000185666'"
      ]
     },
     "execution_count": 40,
     "metadata": {},
     "output_type": "execute_result"
    }
   ],
   "source": [
    "metadata.GENE_NAME_TO_ID_MAP[_gene]"
   ]
  },
  {
   "cell_type": "code",
   "execution_count": 41,
   "metadata": {},
   "outputs": [],
   "source": [
    "_res = all_results[\n",
    "    (\n",
    "        (all_results['gene_name'] == _gene)\n",
    "#       &  (all_results['fastenloc_rcp'] >= 0.10)\n",
    "#         (all_results['smultixcan_pvalue'] < PVALUE_THRESHOLD)\n",
    "    )\n",
    "]"
   ]
  },
  {
   "cell_type": "code",
   "execution_count": 42,
   "metadata": {},
   "outputs": [
    {
     "data": {
      "text/plain": [
       "(4091, 5)"
      ]
     },
     "execution_count": 42,
     "metadata": {},
     "output_type": "execute_result"
    }
   ],
   "source": [
    "_res.shape"
   ]
  },
  {
   "cell_type": "code",
   "execution_count": 43,
   "metadata": {},
   "outputs": [
    {
     "data": {
      "text/html": [
       "<div>\n",
       "<style scoped>\n",
       "    .dataframe tbody tr th:only-of-type {\n",
       "        vertical-align: middle;\n",
       "    }\n",
       "\n",
       "    .dataframe tbody tr th {\n",
       "        vertical-align: top;\n",
       "    }\n",
       "\n",
       "    .dataframe thead th {\n",
       "        text-align: right;\n",
       "    }\n",
       "</style>\n",
       "<table border=\"1\" class=\"dataframe\">\n",
       "  <thead>\n",
       "    <tr style=\"text-align: right;\">\n",
       "      <th></th>\n",
       "      <th>trait</th>\n",
       "      <th>gene</th>\n",
       "      <th>gene_name</th>\n",
       "      <th>smultixcan_pvalue</th>\n",
       "      <th>fastenloc_rcp</th>\n",
       "    </tr>\n",
       "  </thead>\n",
       "  <tbody>\n",
       "    <tr>\n",
       "      <th>90123090</th>\n",
       "      <td>30040_raw-Mean_corpuscular_volume</td>\n",
       "      <td>ENSG00000185666</td>\n",
       "      <td>SYN3</td>\n",
       "      <td>7.311195e-100</td>\n",
       "      <td>0.580200</td>\n",
       "    </tr>\n",
       "    <tr>\n",
       "      <th>26575102</th>\n",
       "      <td>30050_raw-Mean_corpuscular_haemoglobin</td>\n",
       "      <td>ENSG00000185666</td>\n",
       "      <td>SYN3</td>\n",
       "      <td>3.359134e-83</td>\n",
       "      <td>0.625400</td>\n",
       "    </tr>\n",
       "    <tr>\n",
       "      <th>70505907</th>\n",
       "      <td>30260_raw-Mean_reticulocyte_volume</td>\n",
       "      <td>ENSG00000185666</td>\n",
       "      <td>SYN3</td>\n",
       "      <td>9.827677e-77</td>\n",
       "      <td>0.702600</td>\n",
       "    </tr>\n",
       "    <tr>\n",
       "      <th>26080740</th>\n",
       "      <td>30270_raw-Mean_sphered_cell_volume</td>\n",
       "      <td>ENSG00000185666</td>\n",
       "      <td>SYN3</td>\n",
       "      <td>9.726859e-61</td>\n",
       "      <td>0.202200</td>\n",
       "    </tr>\n",
       "    <tr>\n",
       "      <th>65584758</th>\n",
       "      <td>30010_raw-Red_blood_cell_erythrocyte_count</td>\n",
       "      <td>ENSG00000185666</td>\n",
       "      <td>SYN3</td>\n",
       "      <td>1.502940e-26</td>\n",
       "      <td>0.360300</td>\n",
       "    </tr>\n",
       "    <tr>\n",
       "      <th>67786916</th>\n",
       "      <td>30070_raw-Red_blood_cell_erythrocyte_distribut...</td>\n",
       "      <td>ENSG00000185666</td>\n",
       "      <td>SYN3</td>\n",
       "      <td>2.711241e-17</td>\n",
       "      <td>0.730600</td>\n",
       "    </tr>\n",
       "    <tr>\n",
       "      <th>91830886</th>\n",
       "      <td>Astle_et_al_2016_Red_blood_cell_count</td>\n",
       "      <td>ENSG00000185666</td>\n",
       "      <td>SYN3</td>\n",
       "      <td>5.512010e-13</td>\n",
       "      <td>0.671000</td>\n",
       "    </tr>\n",
       "    <tr>\n",
       "      <th>75427056</th>\n",
       "      <td>23120_raw-Arm_fat_mass_right</td>\n",
       "      <td>ENSG00000185666</td>\n",
       "      <td>SYN3</td>\n",
       "      <td>3.898906e-05</td>\n",
       "      <td>0.338057</td>\n",
       "    </tr>\n",
       "    <tr>\n",
       "      <th>79988669</th>\n",
       "      <td>23104_raw-Body_mass_index_BMI</td>\n",
       "      <td>ENSG00000185666</td>\n",
       "      <td>SYN3</td>\n",
       "      <td>5.928607e-05</td>\n",
       "      <td>0.070180</td>\n",
       "    </tr>\n",
       "    <tr>\n",
       "      <th>77921337</th>\n",
       "      <td>23107_raw-Impedance_of_leg_right</td>\n",
       "      <td>ENSG00000185666</td>\n",
       "      <td>SYN3</td>\n",
       "      <td>6.469147e-05</td>\n",
       "      <td>0.000000</td>\n",
       "    </tr>\n",
       "  </tbody>\n",
       "</table>\n",
       "</div>"
      ],
      "text/plain": [
       "                                                      trait             gene gene_name  smultixcan_pvalue  fastenloc_rcp\n",
       "90123090                  30040_raw-Mean_corpuscular_volume  ENSG00000185666      SYN3      7.311195e-100       0.580200\n",
       "26575102             30050_raw-Mean_corpuscular_haemoglobin  ENSG00000185666      SYN3       3.359134e-83       0.625400\n",
       "70505907                 30260_raw-Mean_reticulocyte_volume  ENSG00000185666      SYN3       9.827677e-77       0.702600\n",
       "26080740                 30270_raw-Mean_sphered_cell_volume  ENSG00000185666      SYN3       9.726859e-61       0.202200\n",
       "65584758         30010_raw-Red_blood_cell_erythrocyte_count  ENSG00000185666      SYN3       1.502940e-26       0.360300\n",
       "67786916  30070_raw-Red_blood_cell_erythrocyte_distribut...  ENSG00000185666      SYN3       2.711241e-17       0.730600\n",
       "91830886              Astle_et_al_2016_Red_blood_cell_count  ENSG00000185666      SYN3       5.512010e-13       0.671000\n",
       "75427056                       23120_raw-Arm_fat_mass_right  ENSG00000185666      SYN3       3.898906e-05       0.338057\n",
       "79988669                      23104_raw-Body_mass_index_BMI  ENSG00000185666      SYN3       5.928607e-05       0.070180\n",
       "77921337                   23107_raw-Impedance_of_leg_right  ENSG00000185666      SYN3       6.469147e-05       0.000000"
      ]
     },
     "metadata": {},
     "output_type": "display_data"
    }
   ],
   "source": [
    "_tmp = _res.sort_values('smultixcan_pvalue').head(10)\n",
    "display(_tmp)"
   ]
  },
  {
   "cell_type": "markdown",
   "metadata": {},
   "source": [
    "# BPIFC -> Top 10 traits"
   ]
  },
  {
   "cell_type": "code",
   "execution_count": 51,
   "metadata": {},
   "outputs": [],
   "source": [
    "_gene = 'BPIFC'"
   ]
  },
  {
   "cell_type": "code",
   "execution_count": 52,
   "metadata": {},
   "outputs": [
    {
     "data": {
      "text/plain": [
       "'ENSG00000184459'"
      ]
     },
     "execution_count": 52,
     "metadata": {},
     "output_type": "execute_result"
    }
   ],
   "source": [
    "metadata.GENE_NAME_TO_ID_MAP[_gene]"
   ]
  },
  {
   "cell_type": "code",
   "execution_count": 53,
   "metadata": {},
   "outputs": [],
   "source": [
    "_res = all_results[\n",
    "    (\n",
    "        (all_results['gene_name'] == _gene)\n",
    "#       &  (all_results['fastenloc_rcp'] >= 0.10)\n",
    "#         (all_results['smultixcan_pvalue'] < PVALUE_THRESHOLD)\n",
    "    )\n",
    "]"
   ]
  },
  {
   "cell_type": "code",
   "execution_count": 54,
   "metadata": {},
   "outputs": [
    {
     "data": {
      "text/plain": [
       "(4091, 5)"
      ]
     },
     "execution_count": 54,
     "metadata": {},
     "output_type": "execute_result"
    }
   ],
   "source": [
    "_res.shape"
   ]
  },
  {
   "cell_type": "code",
   "execution_count": 55,
   "metadata": {},
   "outputs": [
    {
     "data": {
      "text/html": [
       "<div>\n",
       "<style scoped>\n",
       "    .dataframe tbody tr th:only-of-type {\n",
       "        vertical-align: middle;\n",
       "    }\n",
       "\n",
       "    .dataframe tbody tr th {\n",
       "        vertical-align: top;\n",
       "    }\n",
       "\n",
       "    .dataframe thead th {\n",
       "        text-align: right;\n",
       "    }\n",
       "</style>\n",
       "<table border=\"1\" class=\"dataframe\">\n",
       "  <thead>\n",
       "    <tr style=\"text-align: right;\">\n",
       "      <th></th>\n",
       "      <th>trait</th>\n",
       "      <th>gene</th>\n",
       "      <th>gene_name</th>\n",
       "      <th>smultixcan_pvalue</th>\n",
       "      <th>fastenloc_rcp</th>\n",
       "    </tr>\n",
       "  </thead>\n",
       "  <tbody>\n",
       "    <tr>\n",
       "      <th>90122860</th>\n",
       "      <td>30040_raw-Mean_corpuscular_volume</td>\n",
       "      <td>ENSG00000184459</td>\n",
       "      <td>BPIFC</td>\n",
       "      <td>1.734341e-32</td>\n",
       "      <td>0.003652</td>\n",
       "    </tr>\n",
       "    <tr>\n",
       "      <th>26574872</th>\n",
       "      <td>30050_raw-Mean_corpuscular_haemoglobin</td>\n",
       "      <td>ENSG00000184459</td>\n",
       "      <td>BPIFC</td>\n",
       "      <td>3.754533e-26</td>\n",
       "      <td>0.003926</td>\n",
       "    </tr>\n",
       "    <tr>\n",
       "      <th>70505677</th>\n",
       "      <td>30260_raw-Mean_reticulocyte_volume</td>\n",
       "      <td>ENSG00000184459</td>\n",
       "      <td>BPIFC</td>\n",
       "      <td>3.407269e-15</td>\n",
       "      <td>0.004066</td>\n",
       "    </tr>\n",
       "    <tr>\n",
       "      <th>26080510</th>\n",
       "      <td>30270_raw-Mean_sphered_cell_volume</td>\n",
       "      <td>ENSG00000184459</td>\n",
       "      <td>BPIFC</td>\n",
       "      <td>4.976305e-15</td>\n",
       "      <td>0.000965</td>\n",
       "    </tr>\n",
       "    <tr>\n",
       "      <th>65584528</th>\n",
       "      <td>30010_raw-Red_blood_cell_erythrocyte_count</td>\n",
       "      <td>ENSG00000184459</td>\n",
       "      <td>BPIFC</td>\n",
       "      <td>2.962014e-10</td>\n",
       "      <td>0.008548</td>\n",
       "    </tr>\n",
       "    <tr>\n",
       "      <th>67786686</th>\n",
       "      <td>30070_raw-Red_blood_cell_erythrocyte_distribut...</td>\n",
       "      <td>ENSG00000184459</td>\n",
       "      <td>BPIFC</td>\n",
       "      <td>5.981571e-09</td>\n",
       "      <td>0.004214</td>\n",
       "    </tr>\n",
       "    <tr>\n",
       "      <th>91650888</th>\n",
       "      <td>GIANT_HEIGHT</td>\n",
       "      <td>ENSG00000184459</td>\n",
       "      <td>BPIFC</td>\n",
       "      <td>5.994401e-05</td>\n",
       "      <td>0.000000</td>\n",
       "    </tr>\n",
       "    <tr>\n",
       "      <th>11991193</th>\n",
       "      <td>E4_THYTOXGOITDIF-Thyrotoxicosis_with_diffuse_g...</td>\n",
       "      <td>ENSG00000184459</td>\n",
       "      <td>BPIFC</td>\n",
       "      <td>5.383346e-04</td>\n",
       "      <td>0.028030</td>\n",
       "    </tr>\n",
       "    <tr>\n",
       "      <th>34844200</th>\n",
       "      <td>4100_raw-Ankle_spacing_width_left</td>\n",
       "      <td>ENSG00000184459</td>\n",
       "      <td>BPIFC</td>\n",
       "      <td>5.775895e-04</td>\n",
       "      <td>0.127511</td>\n",
       "    </tr>\n",
       "    <tr>\n",
       "      <th>68820352</th>\n",
       "      <td>C_DIFFICILE_ENTEROCOLITIS-Enterocolitis_due_to...</td>\n",
       "      <td>ENSG00000184459</td>\n",
       "      <td>BPIFC</td>\n",
       "      <td>1.021212e-03</td>\n",
       "      <td>0.002691</td>\n",
       "    </tr>\n",
       "  </tbody>\n",
       "</table>\n",
       "</div>"
      ],
      "text/plain": [
       "                                                      trait             gene gene_name  smultixcan_pvalue  fastenloc_rcp\n",
       "90122860                  30040_raw-Mean_corpuscular_volume  ENSG00000184459     BPIFC       1.734341e-32       0.003652\n",
       "26574872             30050_raw-Mean_corpuscular_haemoglobin  ENSG00000184459     BPIFC       3.754533e-26       0.003926\n",
       "70505677                 30260_raw-Mean_reticulocyte_volume  ENSG00000184459     BPIFC       3.407269e-15       0.004066\n",
       "26080510                 30270_raw-Mean_sphered_cell_volume  ENSG00000184459     BPIFC       4.976305e-15       0.000965\n",
       "65584528         30010_raw-Red_blood_cell_erythrocyte_count  ENSG00000184459     BPIFC       2.962014e-10       0.008548\n",
       "67786686  30070_raw-Red_blood_cell_erythrocyte_distribut...  ENSG00000184459     BPIFC       5.981571e-09       0.004214\n",
       "91650888                                       GIANT_HEIGHT  ENSG00000184459     BPIFC       5.994401e-05       0.000000\n",
       "11991193  E4_THYTOXGOITDIF-Thyrotoxicosis_with_diffuse_g...  ENSG00000184459     BPIFC       5.383346e-04       0.028030\n",
       "34844200                  4100_raw-Ankle_spacing_width_left  ENSG00000184459     BPIFC       5.775895e-04       0.127511\n",
       "68820352  C_DIFFICILE_ENTEROCOLITIS-Enterocolitis_due_to...  ENSG00000184459     BPIFC       1.021212e-03       0.002691"
      ]
     },
     "metadata": {},
     "output_type": "display_data"
    }
   ],
   "source": [
    "_tmp = _res.sort_values('smultixcan_pvalue').head(10)\n",
    "display(_tmp)"
   ]
  },
  {
   "cell_type": "markdown",
   "metadata": {},
   "source": [
    "# PCSK9 + Type 1 diabetes without complications"
   ]
  },
  {
   "cell_type": "code",
   "execution_count": 44,
   "metadata": {},
   "outputs": [
    {
     "data": {
      "text/plain": [
       "['E4_DM1OPTH-Type_1_diabetes_with_ophthalmic_complications',\n",
       " '6177_2-Medication_for_cholesterol_blood_pressure_or_diabetes_Blood_pressure_medication',\n",
       " '6153_5-Medication_for_cholesterol_blood_pressure_diabetes_or_take_exogenous_hormones_Oral_contraceptive_pill_or_minipill',\n",
       " '2443-Diabetes_diagnosed_by_doctor',\n",
       " '6177_100-Medication_for_cholesterol_blood_pressure_or_diabetes_None_of_the_above',\n",
       " '20002_1223-Noncancer_illness_code_selfreported_type_2_diabetes',\n",
       " 'E4_DM1NOCOMP-Type_1_diabetes_without_complications',\n",
       " 'E10-Diagnoses_main_ICD10_E10_Insulindependent_diabetes_mellitus',\n",
       " '6153_100-Medication_for_cholesterol_blood_pressure_diabetes_or_take_exogenous_hormones_None_of_the_above',\n",
       " '6153_1-Medication_for_cholesterol_blood_pressure_diabetes_or_take_exogenous_hormones_Cholesterol_lowering_medication',\n",
       " '2986-Started_insulin_within_one_year_diagnosis_of_diabetes',\n",
       " 'E11-Diagnoses_main_ICD10_E11_Noninsulindependent_diabetes_mellitus',\n",
       " 'E4_DM1KETO-Type_1_diabetes_with_ketoacidosis',\n",
       " '20111_9-Illnesses_of_siblings_Diabetes',\n",
       " '20114_9-Illnesses_of_adopted_siblings_Diabetes',\n",
       " 'E4_DM2OPTH-Type_2_diabetes_with_ophthalmic_complications',\n",
       " '20110_9-Illnesses_of_mother_Diabetes',\n",
       " '4041-Gestational_diabetes_only',\n",
       " '6177_1-Medication_for_cholesterol_blood_pressure_or_diabetes_Cholesterol_lowering_medication',\n",
       " '6153_4-Medication_for_cholesterol_blood_pressure_diabetes_or_take_exogenous_hormones_Hormone_replacement_therapy',\n",
       " '20107_9-Illnesses_of_father_Diabetes',\n",
       " 'E14-Diagnoses_main_ICD10_E14_Unspecified_diabetes_mellitus',\n",
       " 'E4_DM2NOCOMP-Type_2_diabetes_without_complications',\n",
       " '6177_3-Medication_for_cholesterol_blood_pressure_or_diabetes_Insulin',\n",
       " '20113_9-Illnesses_of_adopted_mother_Diabetes',\n",
       " 'E4_DM2PERIPH-Type_2_diabetes_with_peripheral_circulatory_complications',\n",
       " '2976_raw-Age_diabetes_diagnosed',\n",
       " '20002_1222-Noncancer_illness_code_selfreported_type_1_diabetes',\n",
       " '20112_9-Illnesses_of_adopted_father_Diabetes',\n",
       " '6153_2-Medication_for_cholesterol_blood_pressure_diabetes_or_take_exogenous_hormones_Blood_pressure_medication',\n",
       " 'E4_DM1-Type_1_diabetes',\n",
       " 'E4_DMNASOPTH-Unspecified_diabetes_with_ophthalmic_complications',\n",
       " 'E4_DM2-Type_2_diabetes',\n",
       " '6153_3-Medication_for_cholesterol_blood_pressure_diabetes_or_take_exogenous_hormones_Insulin',\n",
       " '6148_1-Eye_problemsdisorders_Diabetes_related_eye_disease',\n",
       " '20002_1220-Noncancer_illness_code_selfreported_diabetes']"
      ]
     },
     "execution_count": 44,
     "metadata": {},
     "output_type": "execute_result"
    }
   ],
   "source": [
    "all_traits[all_traits.str.lower().str.contains('diabetes')].tolist()"
   ]
  },
  {
   "cell_type": "markdown",
   "metadata": {},
   "source": [
    "## Top 15 genes"
   ]
  },
  {
   "cell_type": "code",
   "execution_count": 45,
   "metadata": {},
   "outputs": [],
   "source": [
    "_pheno = 'E4_DM1NOCOMP-Type_1_diabetes_without_complications'"
   ]
  },
  {
   "cell_type": "code",
   "execution_count": 46,
   "metadata": {},
   "outputs": [],
   "source": [
    "_gene = 'PCSK9'"
   ]
  },
  {
   "cell_type": "code",
   "execution_count": 47,
   "metadata": {},
   "outputs": [
    {
     "data": {
      "text/plain": [
       "'ENSG00000169174'"
      ]
     },
     "execution_count": 47,
     "metadata": {},
     "output_type": "execute_result"
    }
   ],
   "source": [
    "metadata.GENE_NAME_TO_ID_MAP[_gene]"
   ]
  },
  {
   "cell_type": "code",
   "execution_count": 48,
   "metadata": {},
   "outputs": [],
   "source": [
    "_res = all_results[\n",
    "    (\n",
    "        (all_results['trait'] == _pheno)\n",
    "        & (all_results['gene_name'] == _gene)\n",
    "    )\n",
    "]"
   ]
  },
  {
   "cell_type": "code",
   "execution_count": 49,
   "metadata": {},
   "outputs": [
    {
     "data": {
      "text/plain": [
       "(1, 5)"
      ]
     },
     "execution_count": 49,
     "metadata": {},
     "output_type": "execute_result"
    }
   ],
   "source": [
    "_res.shape"
   ]
  },
  {
   "cell_type": "code",
   "execution_count": 50,
   "metadata": {},
   "outputs": [
    {
     "data": {
      "text/html": [
       "<div>\n",
       "<style scoped>\n",
       "    .dataframe tbody tr th:only-of-type {\n",
       "        vertical-align: middle;\n",
       "    }\n",
       "\n",
       "    .dataframe tbody tr th {\n",
       "        vertical-align: top;\n",
       "    }\n",
       "\n",
       "    .dataframe thead th {\n",
       "        text-align: right;\n",
       "    }\n",
       "</style>\n",
       "<table border=\"1\" class=\"dataframe\">\n",
       "  <thead>\n",
       "    <tr style=\"text-align: right;\">\n",
       "      <th></th>\n",
       "      <th>trait</th>\n",
       "      <th>gene</th>\n",
       "      <th>gene_name</th>\n",
       "      <th>smultixcan_pvalue</th>\n",
       "      <th>fastenloc_rcp</th>\n",
       "    </tr>\n",
       "  </thead>\n",
       "  <tbody>\n",
       "    <tr>\n",
       "      <th>19853542</th>\n",
       "      <td>E4_DM1NOCOMP-Type_1_diabetes_without_complicat...</td>\n",
       "      <td>ENSG00000169174</td>\n",
       "      <td>PCSK9</td>\n",
       "      <td>0.000822</td>\n",
       "      <td>0.0</td>\n",
       "    </tr>\n",
       "  </tbody>\n",
       "</table>\n",
       "</div>"
      ],
      "text/plain": [
       "                                                      trait             gene gene_name  smultixcan_pvalue  fastenloc_rcp\n",
       "19853542  E4_DM1NOCOMP-Type_1_diabetes_without_complicat...  ENSG00000169174     PCSK9           0.000822            0.0"
      ]
     },
     "execution_count": 50,
     "metadata": {},
     "output_type": "execute_result"
    }
   ],
   "source": [
    "_res.sort_values('smultixcan_pvalue').head(15)"
   ]
  },
  {
   "cell_type": "code",
   "execution_count": null,
   "metadata": {},
   "outputs": [],
   "source": []
  }
 ],
 "metadata": {
  "kernelspec": {
   "display_name": "Python 3",
   "language": "python",
   "name": "python3"
  },
  "language_info": {
   "codemirror_mode": {
    "name": "ipython",
    "version": 3
   },
   "file_extension": ".py",
   "mimetype": "text/x-python",
   "name": "python",
   "nbconvert_exporter": "python",
   "pygments_lexer": "ipython3",
   "version": "3.7.5"
  }
 },
 "nbformat": 4,
 "nbformat_minor": 4
}
