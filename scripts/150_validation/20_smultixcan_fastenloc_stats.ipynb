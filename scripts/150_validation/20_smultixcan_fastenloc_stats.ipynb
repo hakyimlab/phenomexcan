{
 "cells": [
  {
   "cell_type": "code",
   "execution_count": 1,
   "metadata": {},
   "outputs": [],
   "source": [
    "%load_ext autoreload\n",
    "%autoreload 2"
   ]
  },
  {
   "cell_type": "code",
   "execution_count": 2,
   "metadata": {},
   "outputs": [],
   "source": [
    "import os\n",
    "import pickle\n",
    "\n",
    "import numpy as np\n",
    "import pandas as pd\n",
    "\n",
    "import settings as conf\n",
    "import metadata"
   ]
  },
  {
   "cell_type": "markdown",
   "metadata": {},
   "source": [
    "# Load S-MultiXcan results"
   ]
  },
  {
   "cell_type": "code",
   "execution_count": 3,
   "metadata": {},
   "outputs": [
    {
     "data": {
      "text/plain": [
       "'/mnt/phenomexcan_base/gene_assoc/smultixcan-mashr-pvalues.pkl.xz'"
      ]
     },
     "metadata": {},
     "output_type": "display_data"
    }
   ],
   "source": [
    "smultixcan_pvalues_file = os.path.join(conf.GENE_ASSOC_DIR, f'smultixcan-mashr-pvalues.pkl.xz')\n",
    "display(smultixcan_pvalues_file)"
   ]
  },
  {
   "cell_type": "code",
   "execution_count": 4,
   "metadata": {},
   "outputs": [],
   "source": [
    "smultixcan_gene_associations = pd.read_pickle(smultixcan_pvalues_file)"
   ]
  },
  {
   "cell_type": "code",
   "execution_count": 5,
   "metadata": {},
   "outputs": [
    {
     "data": {
      "text/plain": [
       "(22515, 4091)"
      ]
     },
     "execution_count": 5,
     "metadata": {},
     "output_type": "execute_result"
    }
   ],
   "source": [
    "smultixcan_gene_associations.shape"
   ]
  },
  {
   "cell_type": "code",
   "execution_count": 6,
   "metadata": {},
   "outputs": [
    {
     "data": {
      "text/html": [
       "<div>\n",
       "<style scoped>\n",
       "    .dataframe tbody tr th:only-of-type {\n",
       "        vertical-align: middle;\n",
       "    }\n",
       "\n",
       "    .dataframe tbody tr th {\n",
       "        vertical-align: top;\n",
       "    }\n",
       "\n",
       "    .dataframe thead th {\n",
       "        text-align: right;\n",
       "    }\n",
       "</style>\n",
       "<table border=\"1\" class=\"dataframe\">\n",
       "  <thead>\n",
       "    <tr style=\"text-align: right;\">\n",
       "      <th></th>\n",
       "      <th>20096_1-Size_of_red_wine_glass_drunk_small_125ml</th>\n",
       "      <th>2345-Ever_had_bowel_cancer_screening</th>\n",
       "      <th>N49-Diagnoses_main_ICD10_N49_Inflammatory_disorders_of_male_genital_organs_not_elsewhere_classified</th>\n",
       "      <th>100011_raw-Iron</th>\n",
       "      <th>5221-Index_of_best_refractometry_result_right</th>\n",
       "      <th>20003_1141150624-Treatmentmedication_code_zomig_25mg_tablet</th>\n",
       "      <th>S69-Diagnoses_main_ICD10_S69_Other_and_unspecified_injuries_of_wrist_and_hand</th>\n",
       "      <th>20024_1136-Job_code_deduced_Information_and_communication_technology_managers</th>\n",
       "      <th>20002_1385-Noncancer_illness_code_selfreported_allergy_or_anaphylactic_reaction_to_food</th>\n",
       "      <th>G6_SLEEPAPNO-Sleep_apnoea</th>\n",
       "      <th>...</th>\n",
       "      <th>Astle_et_al_2016_Sum_basophil_neutrophil_counts</th>\n",
       "      <th>RA_OKADA_TRANS_ETHNIC</th>\n",
       "      <th>pgc.scz2</th>\n",
       "      <th>PGC_ADHD_EUR_2017</th>\n",
       "      <th>MAGIC_FastingGlucose</th>\n",
       "      <th>Astle_et_al_2016_Red_blood_cell_count</th>\n",
       "      <th>SSGAC_Depressive_Symptoms</th>\n",
       "      <th>BCAC_ER_positive_BreastCancer_EUR</th>\n",
       "      <th>IBD.EUR.Inflammatory_Bowel_Disease</th>\n",
       "      <th>Astle_et_al_2016_High_light_scatter_reticulocyte_count</th>\n",
       "    </tr>\n",
       "    <tr>\n",
       "      <th>gene_name</th>\n",
       "      <th></th>\n",
       "      <th></th>\n",
       "      <th></th>\n",
       "      <th></th>\n",
       "      <th></th>\n",
       "      <th></th>\n",
       "      <th></th>\n",
       "      <th></th>\n",
       "      <th></th>\n",
       "      <th></th>\n",
       "      <th></th>\n",
       "      <th></th>\n",
       "      <th></th>\n",
       "      <th></th>\n",
       "      <th></th>\n",
       "      <th></th>\n",
       "      <th></th>\n",
       "      <th></th>\n",
       "      <th></th>\n",
       "      <th></th>\n",
       "      <th></th>\n",
       "    </tr>\n",
       "  </thead>\n",
       "  <tbody>\n",
       "    <tr>\n",
       "      <th>ENSG00000000419</th>\n",
       "      <td>0.865429</td>\n",
       "      <td>0.918314</td>\n",
       "      <td>0.810683</td>\n",
       "      <td>0.374671</td>\n",
       "      <td>0.189032</td>\n",
       "      <td>0.140981</td>\n",
       "      <td>0.467741</td>\n",
       "      <td>0.129427</td>\n",
       "      <td>0.193680</td>\n",
       "      <td>0.285479</td>\n",
       "      <td>...</td>\n",
       "      <td>0.416210</td>\n",
       "      <td>0.782554</td>\n",
       "      <td>0.609467</td>\n",
       "      <td>0.980281</td>\n",
       "      <td>0.666504</td>\n",
       "      <td>0.409761</td>\n",
       "      <td>0.713310</td>\n",
       "      <td>0.168319</td>\n",
       "      <td>0.460244</td>\n",
       "      <td>0.765506</td>\n",
       "    </tr>\n",
       "    <tr>\n",
       "      <th>ENSG00000000457</th>\n",
       "      <td>0.174192</td>\n",
       "      <td>0.064765</td>\n",
       "      <td>0.889194</td>\n",
       "      <td>0.896938</td>\n",
       "      <td>0.448596</td>\n",
       "      <td>0.269602</td>\n",
       "      <td>0.540261</td>\n",
       "      <td>0.068405</td>\n",
       "      <td>0.041813</td>\n",
       "      <td>0.313427</td>\n",
       "      <td>...</td>\n",
       "      <td>0.149360</td>\n",
       "      <td>0.512603</td>\n",
       "      <td>0.010907</td>\n",
       "      <td>0.228982</td>\n",
       "      <td>0.607081</td>\n",
       "      <td>0.812484</td>\n",
       "      <td>0.678749</td>\n",
       "      <td>0.918971</td>\n",
       "      <td>0.311187</td>\n",
       "      <td>0.344574</td>\n",
       "    </tr>\n",
       "    <tr>\n",
       "      <th>ENSG00000000460</th>\n",
       "      <td>0.879969</td>\n",
       "      <td>0.240715</td>\n",
       "      <td>0.238228</td>\n",
       "      <td>0.567555</td>\n",
       "      <td>0.921320</td>\n",
       "      <td>0.825036</td>\n",
       "      <td>0.782230</td>\n",
       "      <td>0.644525</td>\n",
       "      <td>0.392273</td>\n",
       "      <td>0.840014</td>\n",
       "      <td>...</td>\n",
       "      <td>0.503520</td>\n",
       "      <td>0.764147</td>\n",
       "      <td>0.587969</td>\n",
       "      <td>0.301460</td>\n",
       "      <td>0.629621</td>\n",
       "      <td>0.486664</td>\n",
       "      <td>0.736509</td>\n",
       "      <td>0.933600</td>\n",
       "      <td>0.000477</td>\n",
       "      <td>0.321223</td>\n",
       "    </tr>\n",
       "    <tr>\n",
       "      <th>ENSG00000000938</th>\n",
       "      <td>0.192670</td>\n",
       "      <td>0.400054</td>\n",
       "      <td>0.114353</td>\n",
       "      <td>0.470700</td>\n",
       "      <td>0.889202</td>\n",
       "      <td>0.000011</td>\n",
       "      <td>0.899764</td>\n",
       "      <td>0.212352</td>\n",
       "      <td>0.829671</td>\n",
       "      <td>0.372348</td>\n",
       "      <td>...</td>\n",
       "      <td>0.899212</td>\n",
       "      <td>0.961678</td>\n",
       "      <td>0.059247</td>\n",
       "      <td>0.588855</td>\n",
       "      <td>0.898525</td>\n",
       "      <td>0.135045</td>\n",
       "      <td>0.954998</td>\n",
       "      <td>0.088220</td>\n",
       "      <td>0.176497</td>\n",
       "      <td>0.304281</td>\n",
       "    </tr>\n",
       "    <tr>\n",
       "      <th>ENSG00000000971</th>\n",
       "      <td>0.180632</td>\n",
       "      <td>0.793060</td>\n",
       "      <td>0.490585</td>\n",
       "      <td>0.088752</td>\n",
       "      <td>0.744531</td>\n",
       "      <td>0.949639</td>\n",
       "      <td>0.253817</td>\n",
       "      <td>0.377408</td>\n",
       "      <td>0.971655</td>\n",
       "      <td>0.070266</td>\n",
       "      <td>...</td>\n",
       "      <td>0.390618</td>\n",
       "      <td>0.093824</td>\n",
       "      <td>0.020391</td>\n",
       "      <td>0.109883</td>\n",
       "      <td>0.870551</td>\n",
       "      <td>0.995450</td>\n",
       "      <td>0.002660</td>\n",
       "      <td>0.421588</td>\n",
       "      <td>0.656851</td>\n",
       "      <td>0.868416</td>\n",
       "    </tr>\n",
       "  </tbody>\n",
       "</table>\n",
       "<p>5 rows × 4091 columns</p>\n",
       "</div>"
      ],
      "text/plain": [
       "                 20096_1-Size_of_red_wine_glass_drunk_small_125ml  \\\n",
       "gene_name                                                           \n",
       "ENSG00000000419                                          0.865429   \n",
       "ENSG00000000457                                          0.174192   \n",
       "ENSG00000000460                                          0.879969   \n",
       "ENSG00000000938                                          0.192670   \n",
       "ENSG00000000971                                          0.180632   \n",
       "\n",
       "                 2345-Ever_had_bowel_cancer_screening  \\\n",
       "gene_name                                               \n",
       "ENSG00000000419                              0.918314   \n",
       "ENSG00000000457                              0.064765   \n",
       "ENSG00000000460                              0.240715   \n",
       "ENSG00000000938                              0.400054   \n",
       "ENSG00000000971                              0.793060   \n",
       "\n",
       "                 N49-Diagnoses_main_ICD10_N49_Inflammatory_disorders_of_male_genital_organs_not_elsewhere_classified  \\\n",
       "gene_name                                                                                                              \n",
       "ENSG00000000419                                           0.810683                                                     \n",
       "ENSG00000000457                                           0.889194                                                     \n",
       "ENSG00000000460                                           0.238228                                                     \n",
       "ENSG00000000938                                           0.114353                                                     \n",
       "ENSG00000000971                                           0.490585                                                     \n",
       "\n",
       "                 100011_raw-Iron  \\\n",
       "gene_name                          \n",
       "ENSG00000000419         0.374671   \n",
       "ENSG00000000457         0.896938   \n",
       "ENSG00000000460         0.567555   \n",
       "ENSG00000000938         0.470700   \n",
       "ENSG00000000971         0.088752   \n",
       "\n",
       "                 5221-Index_of_best_refractometry_result_right  \\\n",
       "gene_name                                                        \n",
       "ENSG00000000419                                       0.189032   \n",
       "ENSG00000000457                                       0.448596   \n",
       "ENSG00000000460                                       0.921320   \n",
       "ENSG00000000938                                       0.889202   \n",
       "ENSG00000000971                                       0.744531   \n",
       "\n",
       "                 20003_1141150624-Treatmentmedication_code_zomig_25mg_tablet  \\\n",
       "gene_name                                                                      \n",
       "ENSG00000000419                                           0.140981             \n",
       "ENSG00000000457                                           0.269602             \n",
       "ENSG00000000460                                           0.825036             \n",
       "ENSG00000000938                                           0.000011             \n",
       "ENSG00000000971                                           0.949639             \n",
       "\n",
       "                 S69-Diagnoses_main_ICD10_S69_Other_and_unspecified_injuries_of_wrist_and_hand  \\\n",
       "gene_name                                                                                        \n",
       "ENSG00000000419                                           0.467741                               \n",
       "ENSG00000000457                                           0.540261                               \n",
       "ENSG00000000460                                           0.782230                               \n",
       "ENSG00000000938                                           0.899764                               \n",
       "ENSG00000000971                                           0.253817                               \n",
       "\n",
       "                 20024_1136-Job_code_deduced_Information_and_communication_technology_managers  \\\n",
       "gene_name                                                                                        \n",
       "ENSG00000000419                                           0.129427                               \n",
       "ENSG00000000457                                           0.068405                               \n",
       "ENSG00000000460                                           0.644525                               \n",
       "ENSG00000000938                                           0.212352                               \n",
       "ENSG00000000971                                           0.377408                               \n",
       "\n",
       "                 20002_1385-Noncancer_illness_code_selfreported_allergy_or_anaphylactic_reaction_to_food  \\\n",
       "gene_name                                                                                                  \n",
       "ENSG00000000419                                           0.193680                                         \n",
       "ENSG00000000457                                           0.041813                                         \n",
       "ENSG00000000460                                           0.392273                                         \n",
       "ENSG00000000938                                           0.829671                                         \n",
       "ENSG00000000971                                           0.971655                                         \n",
       "\n",
       "                 G6_SLEEPAPNO-Sleep_apnoea  ...  \\\n",
       "gene_name                                   ...   \n",
       "ENSG00000000419                   0.285479  ...   \n",
       "ENSG00000000457                   0.313427  ...   \n",
       "ENSG00000000460                   0.840014  ...   \n",
       "ENSG00000000938                   0.372348  ...   \n",
       "ENSG00000000971                   0.070266  ...   \n",
       "\n",
       "                 Astle_et_al_2016_Sum_basophil_neutrophil_counts  \\\n",
       "gene_name                                                          \n",
       "ENSG00000000419                                         0.416210   \n",
       "ENSG00000000457                                         0.149360   \n",
       "ENSG00000000460                                         0.503520   \n",
       "ENSG00000000938                                         0.899212   \n",
       "ENSG00000000971                                         0.390618   \n",
       "\n",
       "                 RA_OKADA_TRANS_ETHNIC  pgc.scz2  PGC_ADHD_EUR_2017  \\\n",
       "gene_name                                                             \n",
       "ENSG00000000419               0.782554  0.609467           0.980281   \n",
       "ENSG00000000457               0.512603  0.010907           0.228982   \n",
       "ENSG00000000460               0.764147  0.587969           0.301460   \n",
       "ENSG00000000938               0.961678  0.059247           0.588855   \n",
       "ENSG00000000971               0.093824  0.020391           0.109883   \n",
       "\n",
       "                 MAGIC_FastingGlucose  Astle_et_al_2016_Red_blood_cell_count  \\\n",
       "gene_name                                                                      \n",
       "ENSG00000000419              0.666504                               0.409761   \n",
       "ENSG00000000457              0.607081                               0.812484   \n",
       "ENSG00000000460              0.629621                               0.486664   \n",
       "ENSG00000000938              0.898525                               0.135045   \n",
       "ENSG00000000971              0.870551                               0.995450   \n",
       "\n",
       "                 SSGAC_Depressive_Symptoms  BCAC_ER_positive_BreastCancer_EUR  \\\n",
       "gene_name                                                                       \n",
       "ENSG00000000419                   0.713310                           0.168319   \n",
       "ENSG00000000457                   0.678749                           0.918971   \n",
       "ENSG00000000460                   0.736509                           0.933600   \n",
       "ENSG00000000938                   0.954998                           0.088220   \n",
       "ENSG00000000971                   0.002660                           0.421588   \n",
       "\n",
       "                 IBD.EUR.Inflammatory_Bowel_Disease  \\\n",
       "gene_name                                             \n",
       "ENSG00000000419                            0.460244   \n",
       "ENSG00000000457                            0.311187   \n",
       "ENSG00000000460                            0.000477   \n",
       "ENSG00000000938                            0.176497   \n",
       "ENSG00000000971                            0.656851   \n",
       "\n",
       "                 Astle_et_al_2016_High_light_scatter_reticulocyte_count  \n",
       "gene_name                                                                \n",
       "ENSG00000000419                                           0.765506       \n",
       "ENSG00000000457                                           0.344574       \n",
       "ENSG00000000460                                           0.321223       \n",
       "ENSG00000000938                                           0.304281       \n",
       "ENSG00000000971                                           0.868416       \n",
       "\n",
       "[5 rows x 4091 columns]"
      ]
     },
     "execution_count": 6,
     "metadata": {},
     "output_type": "execute_result"
    }
   ],
   "source": [
    "smultixcan_gene_associations.head(5)"
   ]
  },
  {
   "cell_type": "markdown",
   "metadata": {},
   "source": [
    "# Load fastENLOC results"
   ]
  },
  {
   "cell_type": "code",
   "execution_count": 7,
   "metadata": {},
   "outputs": [
    {
     "data": {
      "text/plain": [
       "'/mnt/phenomexcan_base/gene_assoc/fastenloc-torus-rcp.pkl.xz'"
      ]
     },
     "metadata": {},
     "output_type": "display_data"
    }
   ],
   "source": [
    "fastenloc_rcp_file = os.path.join(conf.GENE_ASSOC_DIR, f'fastenloc-torus-rcp.pkl.xz')\n",
    "display(fastenloc_rcp_file)"
   ]
  },
  {
   "cell_type": "code",
   "execution_count": 8,
   "metadata": {},
   "outputs": [],
   "source": [
    "fastenloc_gene_associations = pd.read_pickle(fastenloc_rcp_file)"
   ]
  },
  {
   "cell_type": "code",
   "execution_count": 9,
   "metadata": {},
   "outputs": [
    {
     "data": {
      "text/plain": [
       "(37967, 4091)"
      ]
     },
     "execution_count": 9,
     "metadata": {},
     "output_type": "execute_result"
    }
   ],
   "source": [
    "fastenloc_gene_associations.shape"
   ]
  },
  {
   "cell_type": "code",
   "execution_count": 10,
   "metadata": {},
   "outputs": [
    {
     "data": {
      "text/html": [
       "<div>\n",
       "<style scoped>\n",
       "    .dataframe tbody tr th:only-of-type {\n",
       "        vertical-align: middle;\n",
       "    }\n",
       "\n",
       "    .dataframe tbody tr th {\n",
       "        vertical-align: top;\n",
       "    }\n",
       "\n",
       "    .dataframe thead th {\n",
       "        text-align: right;\n",
       "    }\n",
       "</style>\n",
       "<table border=\"1\" class=\"dataframe\">\n",
       "  <thead>\n",
       "    <tr style=\"text-align: right;\">\n",
       "      <th></th>\n",
       "      <th>20096_1-Size_of_red_wine_glass_drunk_small_125ml</th>\n",
       "      <th>2345-Ever_had_bowel_cancer_screening</th>\n",
       "      <th>N49-Diagnoses_main_ICD10_N49_Inflammatory_disorders_of_male_genital_organs_not_elsewhere_classified</th>\n",
       "      <th>100011_raw-Iron</th>\n",
       "      <th>5221-Index_of_best_refractometry_result_right</th>\n",
       "      <th>20003_1141150624-Treatmentmedication_code_zomig_25mg_tablet</th>\n",
       "      <th>S69-Diagnoses_main_ICD10_S69_Other_and_unspecified_injuries_of_wrist_and_hand</th>\n",
       "      <th>20024_1136-Job_code_deduced_Information_and_communication_technology_managers</th>\n",
       "      <th>20002_1385-Noncancer_illness_code_selfreported_allergy_or_anaphylactic_reaction_to_food</th>\n",
       "      <th>G6_SLEEPAPNO-Sleep_apnoea</th>\n",
       "      <th>...</th>\n",
       "      <th>Astle_et_al_2016_Sum_basophil_neutrophil_counts</th>\n",
       "      <th>RA_OKADA_TRANS_ETHNIC</th>\n",
       "      <th>pgc.scz2</th>\n",
       "      <th>PGC_ADHD_EUR_2017</th>\n",
       "      <th>MAGIC_FastingGlucose</th>\n",
       "      <th>Astle_et_al_2016_Red_blood_cell_count</th>\n",
       "      <th>SSGAC_Depressive_Symptoms</th>\n",
       "      <th>BCAC_ER_positive_BreastCancer_EUR</th>\n",
       "      <th>IBD.EUR.Inflammatory_Bowel_Disease</th>\n",
       "      <th>Astle_et_al_2016_High_light_scatter_reticulocyte_count</th>\n",
       "    </tr>\n",
       "    <tr>\n",
       "      <th>gene_id</th>\n",
       "      <th></th>\n",
       "      <th></th>\n",
       "      <th></th>\n",
       "      <th></th>\n",
       "      <th></th>\n",
       "      <th></th>\n",
       "      <th></th>\n",
       "      <th></th>\n",
       "      <th></th>\n",
       "      <th></th>\n",
       "      <th></th>\n",
       "      <th></th>\n",
       "      <th></th>\n",
       "      <th></th>\n",
       "      <th></th>\n",
       "      <th></th>\n",
       "      <th></th>\n",
       "      <th></th>\n",
       "      <th></th>\n",
       "      <th></th>\n",
       "      <th></th>\n",
       "    </tr>\n",
       "  </thead>\n",
       "  <tbody>\n",
       "    <tr>\n",
       "      <th>ENSG00000000419</th>\n",
       "      <td>2.173200e-07</td>\n",
       "      <td>0.000036</td>\n",
       "      <td>1.020227e-10</td>\n",
       "      <td>0.000020</td>\n",
       "      <td>0.001497</td>\n",
       "      <td>3.426770e-11</td>\n",
       "      <td>1.312300e-10</td>\n",
       "      <td>1.508600e-09</td>\n",
       "      <td>1.114500e-05</td>\n",
       "      <td>4.164600e-09</td>\n",
       "      <td>...</td>\n",
       "      <td>0.001</td>\n",
       "      <td>NaN</td>\n",
       "      <td>0.000</td>\n",
       "      <td>0.0</td>\n",
       "      <td>NaN</td>\n",
       "      <td>0.001</td>\n",
       "      <td>NaN</td>\n",
       "      <td>NaN</td>\n",
       "      <td>NaN</td>\n",
       "      <td>0.0</td>\n",
       "    </tr>\n",
       "    <tr>\n",
       "      <th>ENSG00000000457</th>\n",
       "      <td>1.343900e-06</td>\n",
       "      <td>0.000692</td>\n",
       "      <td>8.216060e-11</td>\n",
       "      <td>0.000089</td>\n",
       "      <td>0.004363</td>\n",
       "      <td>1.342669e-10</td>\n",
       "      <td>4.223476e-10</td>\n",
       "      <td>2.036232e-08</td>\n",
       "      <td>4.598924e-04</td>\n",
       "      <td>3.570850e-08</td>\n",
       "      <td>...</td>\n",
       "      <td>0.000</td>\n",
       "      <td>NaN</td>\n",
       "      <td>NaN</td>\n",
       "      <td>NaN</td>\n",
       "      <td>NaN</td>\n",
       "      <td>0.000</td>\n",
       "      <td>NaN</td>\n",
       "      <td>NaN</td>\n",
       "      <td>NaN</td>\n",
       "      <td>NaN</td>\n",
       "    </tr>\n",
       "    <tr>\n",
       "      <th>ENSG00000000460</th>\n",
       "      <td>8.757750e-06</td>\n",
       "      <td>0.001713</td>\n",
       "      <td>1.119010e-10</td>\n",
       "      <td>0.000016</td>\n",
       "      <td>0.003566</td>\n",
       "      <td>1.533228e-10</td>\n",
       "      <td>3.712300e-10</td>\n",
       "      <td>6.505700e-09</td>\n",
       "      <td>1.830200e-05</td>\n",
       "      <td>6.002900e-08</td>\n",
       "      <td>...</td>\n",
       "      <td>0.000</td>\n",
       "      <td>NaN</td>\n",
       "      <td>NaN</td>\n",
       "      <td>NaN</td>\n",
       "      <td>NaN</td>\n",
       "      <td>0.000</td>\n",
       "      <td>NaN</td>\n",
       "      <td>NaN</td>\n",
       "      <td>NaN</td>\n",
       "      <td>NaN</td>\n",
       "    </tr>\n",
       "    <tr>\n",
       "      <th>ENSG00000000938</th>\n",
       "      <td>7.197000e-08</td>\n",
       "      <td>0.000446</td>\n",
       "      <td>3.573442e-10</td>\n",
       "      <td>0.000006</td>\n",
       "      <td>0.004429</td>\n",
       "      <td>2.588022e-08</td>\n",
       "      <td>3.461500e-10</td>\n",
       "      <td>9.110200e-09</td>\n",
       "      <td>1.351400e-05</td>\n",
       "      <td>9.878000e-09</td>\n",
       "      <td>...</td>\n",
       "      <td>0.263</td>\n",
       "      <td>NaN</td>\n",
       "      <td>0.002</td>\n",
       "      <td>NaN</td>\n",
       "      <td>NaN</td>\n",
       "      <td>NaN</td>\n",
       "      <td>NaN</td>\n",
       "      <td>NaN</td>\n",
       "      <td>NaN</td>\n",
       "      <td>0.0</td>\n",
       "    </tr>\n",
       "    <tr>\n",
       "      <th>ENSG00000000971</th>\n",
       "      <td>2.720000e-07</td>\n",
       "      <td>0.000310</td>\n",
       "      <td>1.397300e-10</td>\n",
       "      <td>0.000182</td>\n",
       "      <td>0.003160</td>\n",
       "      <td>3.940395e-11</td>\n",
       "      <td>1.785600e-10</td>\n",
       "      <td>2.329954e-10</td>\n",
       "      <td>5.325000e-07</td>\n",
       "      <td>4.958740e-08</td>\n",
       "      <td>...</td>\n",
       "      <td>0.000</td>\n",
       "      <td>0.0</td>\n",
       "      <td>NaN</td>\n",
       "      <td>NaN</td>\n",
       "      <td>NaN</td>\n",
       "      <td>0.000</td>\n",
       "      <td>NaN</td>\n",
       "      <td>NaN</td>\n",
       "      <td>NaN</td>\n",
       "      <td>0.0</td>\n",
       "    </tr>\n",
       "  </tbody>\n",
       "</table>\n",
       "<p>5 rows × 4091 columns</p>\n",
       "</div>"
      ],
      "text/plain": [
       "                 20096_1-Size_of_red_wine_glass_drunk_small_125ml  \\\n",
       "gene_id                                                             \n",
       "ENSG00000000419                                      2.173200e-07   \n",
       "ENSG00000000457                                      1.343900e-06   \n",
       "ENSG00000000460                                      8.757750e-06   \n",
       "ENSG00000000938                                      7.197000e-08   \n",
       "ENSG00000000971                                      2.720000e-07   \n",
       "\n",
       "                 2345-Ever_had_bowel_cancer_screening  \\\n",
       "gene_id                                                 \n",
       "ENSG00000000419                              0.000036   \n",
       "ENSG00000000457                              0.000692   \n",
       "ENSG00000000460                              0.001713   \n",
       "ENSG00000000938                              0.000446   \n",
       "ENSG00000000971                              0.000310   \n",
       "\n",
       "                 N49-Diagnoses_main_ICD10_N49_Inflammatory_disorders_of_male_genital_organs_not_elsewhere_classified  \\\n",
       "gene_id                                                                                                                \n",
       "ENSG00000000419                                       1.020227e-10                                                     \n",
       "ENSG00000000457                                       8.216060e-11                                                     \n",
       "ENSG00000000460                                       1.119010e-10                                                     \n",
       "ENSG00000000938                                       3.573442e-10                                                     \n",
       "ENSG00000000971                                       1.397300e-10                                                     \n",
       "\n",
       "                 100011_raw-Iron  \\\n",
       "gene_id                            \n",
       "ENSG00000000419         0.000020   \n",
       "ENSG00000000457         0.000089   \n",
       "ENSG00000000460         0.000016   \n",
       "ENSG00000000938         0.000006   \n",
       "ENSG00000000971         0.000182   \n",
       "\n",
       "                 5221-Index_of_best_refractometry_result_right  \\\n",
       "gene_id                                                          \n",
       "ENSG00000000419                                       0.001497   \n",
       "ENSG00000000457                                       0.004363   \n",
       "ENSG00000000460                                       0.003566   \n",
       "ENSG00000000938                                       0.004429   \n",
       "ENSG00000000971                                       0.003160   \n",
       "\n",
       "                 20003_1141150624-Treatmentmedication_code_zomig_25mg_tablet  \\\n",
       "gene_id                                                                        \n",
       "ENSG00000000419                                       3.426770e-11             \n",
       "ENSG00000000457                                       1.342669e-10             \n",
       "ENSG00000000460                                       1.533228e-10             \n",
       "ENSG00000000938                                       2.588022e-08             \n",
       "ENSG00000000971                                       3.940395e-11             \n",
       "\n",
       "                 S69-Diagnoses_main_ICD10_S69_Other_and_unspecified_injuries_of_wrist_and_hand  \\\n",
       "gene_id                                                                                          \n",
       "ENSG00000000419                                       1.312300e-10                               \n",
       "ENSG00000000457                                       4.223476e-10                               \n",
       "ENSG00000000460                                       3.712300e-10                               \n",
       "ENSG00000000938                                       3.461500e-10                               \n",
       "ENSG00000000971                                       1.785600e-10                               \n",
       "\n",
       "                 20024_1136-Job_code_deduced_Information_and_communication_technology_managers  \\\n",
       "gene_id                                                                                          \n",
       "ENSG00000000419                                       1.508600e-09                               \n",
       "ENSG00000000457                                       2.036232e-08                               \n",
       "ENSG00000000460                                       6.505700e-09                               \n",
       "ENSG00000000938                                       9.110200e-09                               \n",
       "ENSG00000000971                                       2.329954e-10                               \n",
       "\n",
       "                 20002_1385-Noncancer_illness_code_selfreported_allergy_or_anaphylactic_reaction_to_food  \\\n",
       "gene_id                                                                                                    \n",
       "ENSG00000000419                                       1.114500e-05                                         \n",
       "ENSG00000000457                                       4.598924e-04                                         \n",
       "ENSG00000000460                                       1.830200e-05                                         \n",
       "ENSG00000000938                                       1.351400e-05                                         \n",
       "ENSG00000000971                                       5.325000e-07                                         \n",
       "\n",
       "                 G6_SLEEPAPNO-Sleep_apnoea  ...  \\\n",
       "gene_id                                     ...   \n",
       "ENSG00000000419               4.164600e-09  ...   \n",
       "ENSG00000000457               3.570850e-08  ...   \n",
       "ENSG00000000460               6.002900e-08  ...   \n",
       "ENSG00000000938               9.878000e-09  ...   \n",
       "ENSG00000000971               4.958740e-08  ...   \n",
       "\n",
       "                 Astle_et_al_2016_Sum_basophil_neutrophil_counts  \\\n",
       "gene_id                                                            \n",
       "ENSG00000000419                                            0.001   \n",
       "ENSG00000000457                                            0.000   \n",
       "ENSG00000000460                                            0.000   \n",
       "ENSG00000000938                                            0.263   \n",
       "ENSG00000000971                                            0.000   \n",
       "\n",
       "                 RA_OKADA_TRANS_ETHNIC  pgc.scz2  PGC_ADHD_EUR_2017  \\\n",
       "gene_id                                                               \n",
       "ENSG00000000419                    NaN     0.000                0.0   \n",
       "ENSG00000000457                    NaN       NaN                NaN   \n",
       "ENSG00000000460                    NaN       NaN                NaN   \n",
       "ENSG00000000938                    NaN     0.002                NaN   \n",
       "ENSG00000000971                    0.0       NaN                NaN   \n",
       "\n",
       "                 MAGIC_FastingGlucose  Astle_et_al_2016_Red_blood_cell_count  \\\n",
       "gene_id                                                                        \n",
       "ENSG00000000419                   NaN                                  0.001   \n",
       "ENSG00000000457                   NaN                                  0.000   \n",
       "ENSG00000000460                   NaN                                  0.000   \n",
       "ENSG00000000938                   NaN                                    NaN   \n",
       "ENSG00000000971                   NaN                                  0.000   \n",
       "\n",
       "                 SSGAC_Depressive_Symptoms  BCAC_ER_positive_BreastCancer_EUR  \\\n",
       "gene_id                                                                         \n",
       "ENSG00000000419                        NaN                                NaN   \n",
       "ENSG00000000457                        NaN                                NaN   \n",
       "ENSG00000000460                        NaN                                NaN   \n",
       "ENSG00000000938                        NaN                                NaN   \n",
       "ENSG00000000971                        NaN                                NaN   \n",
       "\n",
       "                 IBD.EUR.Inflammatory_Bowel_Disease  \\\n",
       "gene_id                                               \n",
       "ENSG00000000419                                 NaN   \n",
       "ENSG00000000457                                 NaN   \n",
       "ENSG00000000460                                 NaN   \n",
       "ENSG00000000938                                 NaN   \n",
       "ENSG00000000971                                 NaN   \n",
       "\n",
       "                 Astle_et_al_2016_High_light_scatter_reticulocyte_count  \n",
       "gene_id                                                                  \n",
       "ENSG00000000419                                                0.0       \n",
       "ENSG00000000457                                                NaN       \n",
       "ENSG00000000460                                                NaN       \n",
       "ENSG00000000938                                                0.0       \n",
       "ENSG00000000971                                                0.0       \n",
       "\n",
       "[5 rows x 4091 columns]"
      ]
     },
     "execution_count": 10,
     "metadata": {},
     "output_type": "execute_result"
    }
   ],
   "source": [
    "fastenloc_gene_associations.head(5)"
   ]
  },
  {
   "cell_type": "code",
   "execution_count": 11,
   "metadata": {},
   "outputs": [],
   "source": [
    "assert fastenloc_gene_associations.min().min() >= 0\n",
    "assert fastenloc_gene_associations.max().max() <= 3"
   ]
  },
  {
   "cell_type": "markdown",
   "metadata": {},
   "source": [
    "# S-MultiXcan"
   ]
  },
  {
   "cell_type": "markdown",
   "metadata": {},
   "source": [
    "## Counts of significant associations"
   ]
  },
  {
   "cell_type": "code",
   "execution_count": 12,
   "metadata": {},
   "outputs": [
    {
     "data": {
      "text/plain": [
       "(22515, 4091)"
      ]
     },
     "execution_count": 12,
     "metadata": {},
     "output_type": "execute_result"
    }
   ],
   "source": [
    "smultixcan_gene_associations.shape"
   ]
  },
  {
   "cell_type": "code",
   "execution_count": 13,
   "metadata": {},
   "outputs": [
    {
     "data": {
      "text/plain": [
       "(91055810,)"
      ]
     },
     "metadata": {},
     "output_type": "display_data"
    }
   ],
   "source": [
    "all_pvalues = pd.Series(smultixcan_gene_associations.values.flatten()).dropna()\n",
    "display(all_pvalues.shape)"
   ]
  },
  {
   "cell_type": "code",
   "execution_count": 14,
   "metadata": {},
   "outputs": [
    {
     "data": {
      "text/plain": [
       "count     9.105581e+07\n",
       "mean      4.839226e-01\n",
       "std       2.934763e-01\n",
       "min      9.999889e-321\n",
       "25%       2.266266e-01\n",
       "50%       4.794625e-01\n",
       "75%       7.378647e-01\n",
       "max       1.000000e+00\n",
       "dtype: float64"
      ]
     },
     "execution_count": 14,
     "metadata": {},
     "output_type": "execute_result"
    }
   ],
   "source": [
    "all_pvalues.describe()"
   ]
  },
  {
   "cell_type": "code",
   "execution_count": 15,
   "metadata": {},
   "outputs": [
    {
     "data": {
      "text/plain": [
       "count    9.105581e+07\n",
       "mean     4.990325e-01\n",
       "std      1.258476e+00\n",
       "min     -0.000000e+00\n",
       "25%      1.320233e-01\n",
       "50%      3.192453e-01\n",
       "75%      6.446892e-01\n",
       "max      3.200000e+02\n",
       "dtype: float64"
      ]
     },
     "execution_count": 15,
     "metadata": {},
     "output_type": "execute_result"
    }
   ],
   "source": [
    "(-np.log10(all_pvalues)).describe()"
   ]
  },
  {
   "cell_type": "code",
   "execution_count": 16,
   "metadata": {},
   "outputs": [
    {
     "data": {
      "text/plain": [
       "5.491137797796759e-10"
      ]
     },
     "metadata": {},
     "output_type": "display_data"
    }
   ],
   "source": [
    "PVALUE_THRESHOLD = (0.05 / all_pvalues.shape[0])\n",
    "display(PVALUE_THRESHOLD)"
   ]
  },
  {
   "cell_type": "code",
   "execution_count": 17,
   "metadata": {},
   "outputs": [],
   "source": [
    "PVALUE_THRESHOLD = 5.49e-10"
   ]
  },
  {
   "cell_type": "code",
   "execution_count": 18,
   "metadata": {},
   "outputs": [
    {
     "data": {
      "text/plain": [
       "72994"
      ]
     },
     "metadata": {},
     "output_type": "display_data"
    },
    {
     "data": {
      "text/plain": [
       "0.08016402248247531"
      ]
     },
     "metadata": {},
     "output_type": "display_data"
    }
   ],
   "source": [
    "hits = (all_pvalues < PVALUE_THRESHOLD).sum()\n",
    "display(hits)\n",
    "display((hits / all_pvalues.shape[0]) * 100)"
   ]
  },
  {
   "cell_type": "code",
   "execution_count": 19,
   "metadata": {},
   "outputs": [
    {
     "data": {
      "text/plain": [
       "1809587"
      ]
     },
     "metadata": {},
     "output_type": "display_data"
    },
    {
     "data": {
      "text/plain": [
       "1.9873383148203285"
      ]
     },
     "metadata": {},
     "output_type": "display_data"
    }
   ],
   "source": [
    "hits = (all_pvalues < 0.01).sum()\n",
    "display(hits)\n",
    "display((hits / all_pvalues.shape[0]) * 100)"
   ]
  },
  {
   "cell_type": "markdown",
   "metadata": {},
   "source": [
    "# fastENLOC"
   ]
  },
  {
   "cell_type": "markdown",
   "metadata": {},
   "source": [
    "## Numbers of significant genes also found by fastENLOC"
   ]
  },
  {
   "cell_type": "code",
   "execution_count": 20,
   "metadata": {},
   "outputs": [
    {
     "data": {
      "text/plain": [
       "Index(['ENSG00000000419', 'ENSG00000000457', 'ENSG00000000460',\n",
       "       'ENSG00000000938', 'ENSG00000000971', 'ENSG00000001036',\n",
       "       'ENSG00000001084', 'ENSG00000001167', 'ENSG00000001460',\n",
       "       'ENSG00000001461',\n",
       "       ...\n",
       "       'ENSG00000284240', 'ENSG00000284308', 'ENSG00000284395',\n",
       "       'ENSG00000284413', 'ENSG00000284418', 'ENSG00000284430',\n",
       "       'ENSG00000284452', 'ENSG00000284513', 'ENSG00000284526',\n",
       "       'ENSG00000284552'],\n",
       "      dtype='object', length=22427)"
      ]
     },
     "metadata": {},
     "output_type": "display_data"
    }
   ],
   "source": [
    "common_genes = fastenloc_gene_associations.index.intersection(smultixcan_gene_associations.index)\n",
    "display(common_genes)"
   ]
  },
  {
   "cell_type": "code",
   "execution_count": 21,
   "metadata": {},
   "outputs": [
    {
     "data": {
      "text/plain": [
       "(22427, 4091)"
      ]
     },
     "metadata": {},
     "output_type": "display_data"
    },
    {
     "data": {
      "text/html": [
       "<div>\n",
       "<style scoped>\n",
       "    .dataframe tbody tr th:only-of-type {\n",
       "        vertical-align: middle;\n",
       "    }\n",
       "\n",
       "    .dataframe tbody tr th {\n",
       "        vertical-align: top;\n",
       "    }\n",
       "\n",
       "    .dataframe thead th {\n",
       "        text-align: right;\n",
       "    }\n",
       "</style>\n",
       "<table border=\"1\" class=\"dataframe\">\n",
       "  <thead>\n",
       "    <tr style=\"text-align: right;\">\n",
       "      <th></th>\n",
       "      <th>20096_1-Size_of_red_wine_glass_drunk_small_125ml</th>\n",
       "      <th>2345-Ever_had_bowel_cancer_screening</th>\n",
       "      <th>N49-Diagnoses_main_ICD10_N49_Inflammatory_disorders_of_male_genital_organs_not_elsewhere_classified</th>\n",
       "      <th>100011_raw-Iron</th>\n",
       "      <th>5221-Index_of_best_refractometry_result_right</th>\n",
       "      <th>20003_1141150624-Treatmentmedication_code_zomig_25mg_tablet</th>\n",
       "      <th>S69-Diagnoses_main_ICD10_S69_Other_and_unspecified_injuries_of_wrist_and_hand</th>\n",
       "      <th>20024_1136-Job_code_deduced_Information_and_communication_technology_managers</th>\n",
       "      <th>20002_1385-Noncancer_illness_code_selfreported_allergy_or_anaphylactic_reaction_to_food</th>\n",
       "      <th>G6_SLEEPAPNO-Sleep_apnoea</th>\n",
       "      <th>...</th>\n",
       "      <th>Astle_et_al_2016_Sum_basophil_neutrophil_counts</th>\n",
       "      <th>RA_OKADA_TRANS_ETHNIC</th>\n",
       "      <th>pgc.scz2</th>\n",
       "      <th>PGC_ADHD_EUR_2017</th>\n",
       "      <th>MAGIC_FastingGlucose</th>\n",
       "      <th>Astle_et_al_2016_Red_blood_cell_count</th>\n",
       "      <th>SSGAC_Depressive_Symptoms</th>\n",
       "      <th>BCAC_ER_positive_BreastCancer_EUR</th>\n",
       "      <th>IBD.EUR.Inflammatory_Bowel_Disease</th>\n",
       "      <th>Astle_et_al_2016_High_light_scatter_reticulocyte_count</th>\n",
       "    </tr>\n",
       "  </thead>\n",
       "  <tbody>\n",
       "    <tr>\n",
       "      <th>ENSG00000000419</th>\n",
       "      <td>2.173200e-07</td>\n",
       "      <td>0.000036</td>\n",
       "      <td>1.020227e-10</td>\n",
       "      <td>0.000020</td>\n",
       "      <td>0.001497</td>\n",
       "      <td>3.426770e-11</td>\n",
       "      <td>1.312300e-10</td>\n",
       "      <td>1.508600e-09</td>\n",
       "      <td>1.114500e-05</td>\n",
       "      <td>4.164600e-09</td>\n",
       "      <td>...</td>\n",
       "      <td>0.001</td>\n",
       "      <td>NaN</td>\n",
       "      <td>0.000</td>\n",
       "      <td>0.0</td>\n",
       "      <td>NaN</td>\n",
       "      <td>0.001</td>\n",
       "      <td>NaN</td>\n",
       "      <td>NaN</td>\n",
       "      <td>NaN</td>\n",
       "      <td>0.0</td>\n",
       "    </tr>\n",
       "    <tr>\n",
       "      <th>ENSG00000000457</th>\n",
       "      <td>1.343900e-06</td>\n",
       "      <td>0.000692</td>\n",
       "      <td>8.216060e-11</td>\n",
       "      <td>0.000089</td>\n",
       "      <td>0.004363</td>\n",
       "      <td>1.342669e-10</td>\n",
       "      <td>4.223476e-10</td>\n",
       "      <td>2.036232e-08</td>\n",
       "      <td>4.598924e-04</td>\n",
       "      <td>3.570850e-08</td>\n",
       "      <td>...</td>\n",
       "      <td>0.000</td>\n",
       "      <td>NaN</td>\n",
       "      <td>NaN</td>\n",
       "      <td>NaN</td>\n",
       "      <td>NaN</td>\n",
       "      <td>0.000</td>\n",
       "      <td>NaN</td>\n",
       "      <td>NaN</td>\n",
       "      <td>NaN</td>\n",
       "      <td>NaN</td>\n",
       "    </tr>\n",
       "    <tr>\n",
       "      <th>ENSG00000000460</th>\n",
       "      <td>8.757750e-06</td>\n",
       "      <td>0.001713</td>\n",
       "      <td>1.119010e-10</td>\n",
       "      <td>0.000016</td>\n",
       "      <td>0.003566</td>\n",
       "      <td>1.533228e-10</td>\n",
       "      <td>3.712300e-10</td>\n",
       "      <td>6.505700e-09</td>\n",
       "      <td>1.830200e-05</td>\n",
       "      <td>6.002900e-08</td>\n",
       "      <td>...</td>\n",
       "      <td>0.000</td>\n",
       "      <td>NaN</td>\n",
       "      <td>NaN</td>\n",
       "      <td>NaN</td>\n",
       "      <td>NaN</td>\n",
       "      <td>0.000</td>\n",
       "      <td>NaN</td>\n",
       "      <td>NaN</td>\n",
       "      <td>NaN</td>\n",
       "      <td>NaN</td>\n",
       "    </tr>\n",
       "    <tr>\n",
       "      <th>ENSG00000000938</th>\n",
       "      <td>7.197000e-08</td>\n",
       "      <td>0.000446</td>\n",
       "      <td>3.573442e-10</td>\n",
       "      <td>0.000006</td>\n",
       "      <td>0.004429</td>\n",
       "      <td>2.588022e-08</td>\n",
       "      <td>3.461500e-10</td>\n",
       "      <td>9.110200e-09</td>\n",
       "      <td>1.351400e-05</td>\n",
       "      <td>9.878000e-09</td>\n",
       "      <td>...</td>\n",
       "      <td>0.263</td>\n",
       "      <td>NaN</td>\n",
       "      <td>0.002</td>\n",
       "      <td>NaN</td>\n",
       "      <td>NaN</td>\n",
       "      <td>NaN</td>\n",
       "      <td>NaN</td>\n",
       "      <td>NaN</td>\n",
       "      <td>NaN</td>\n",
       "      <td>0.0</td>\n",
       "    </tr>\n",
       "    <tr>\n",
       "      <th>ENSG00000000971</th>\n",
       "      <td>2.720000e-07</td>\n",
       "      <td>0.000310</td>\n",
       "      <td>1.397300e-10</td>\n",
       "      <td>0.000182</td>\n",
       "      <td>0.003160</td>\n",
       "      <td>3.940395e-11</td>\n",
       "      <td>1.785600e-10</td>\n",
       "      <td>2.329954e-10</td>\n",
       "      <td>5.325000e-07</td>\n",
       "      <td>4.958740e-08</td>\n",
       "      <td>...</td>\n",
       "      <td>0.000</td>\n",
       "      <td>0.0</td>\n",
       "      <td>NaN</td>\n",
       "      <td>NaN</td>\n",
       "      <td>NaN</td>\n",
       "      <td>0.000</td>\n",
       "      <td>NaN</td>\n",
       "      <td>NaN</td>\n",
       "      <td>NaN</td>\n",
       "      <td>0.0</td>\n",
       "    </tr>\n",
       "  </tbody>\n",
       "</table>\n",
       "<p>5 rows × 4091 columns</p>\n",
       "</div>"
      ],
      "text/plain": [
       "                 20096_1-Size_of_red_wine_glass_drunk_small_125ml  \\\n",
       "ENSG00000000419                                      2.173200e-07   \n",
       "ENSG00000000457                                      1.343900e-06   \n",
       "ENSG00000000460                                      8.757750e-06   \n",
       "ENSG00000000938                                      7.197000e-08   \n",
       "ENSG00000000971                                      2.720000e-07   \n",
       "\n",
       "                 2345-Ever_had_bowel_cancer_screening  \\\n",
       "ENSG00000000419                              0.000036   \n",
       "ENSG00000000457                              0.000692   \n",
       "ENSG00000000460                              0.001713   \n",
       "ENSG00000000938                              0.000446   \n",
       "ENSG00000000971                              0.000310   \n",
       "\n",
       "                 N49-Diagnoses_main_ICD10_N49_Inflammatory_disorders_of_male_genital_organs_not_elsewhere_classified  \\\n",
       "ENSG00000000419                                       1.020227e-10                                                     \n",
       "ENSG00000000457                                       8.216060e-11                                                     \n",
       "ENSG00000000460                                       1.119010e-10                                                     \n",
       "ENSG00000000938                                       3.573442e-10                                                     \n",
       "ENSG00000000971                                       1.397300e-10                                                     \n",
       "\n",
       "                 100011_raw-Iron  \\\n",
       "ENSG00000000419         0.000020   \n",
       "ENSG00000000457         0.000089   \n",
       "ENSG00000000460         0.000016   \n",
       "ENSG00000000938         0.000006   \n",
       "ENSG00000000971         0.000182   \n",
       "\n",
       "                 5221-Index_of_best_refractometry_result_right  \\\n",
       "ENSG00000000419                                       0.001497   \n",
       "ENSG00000000457                                       0.004363   \n",
       "ENSG00000000460                                       0.003566   \n",
       "ENSG00000000938                                       0.004429   \n",
       "ENSG00000000971                                       0.003160   \n",
       "\n",
       "                 20003_1141150624-Treatmentmedication_code_zomig_25mg_tablet  \\\n",
       "ENSG00000000419                                       3.426770e-11             \n",
       "ENSG00000000457                                       1.342669e-10             \n",
       "ENSG00000000460                                       1.533228e-10             \n",
       "ENSG00000000938                                       2.588022e-08             \n",
       "ENSG00000000971                                       3.940395e-11             \n",
       "\n",
       "                 S69-Diagnoses_main_ICD10_S69_Other_and_unspecified_injuries_of_wrist_and_hand  \\\n",
       "ENSG00000000419                                       1.312300e-10                               \n",
       "ENSG00000000457                                       4.223476e-10                               \n",
       "ENSG00000000460                                       3.712300e-10                               \n",
       "ENSG00000000938                                       3.461500e-10                               \n",
       "ENSG00000000971                                       1.785600e-10                               \n",
       "\n",
       "                 20024_1136-Job_code_deduced_Information_and_communication_technology_managers  \\\n",
       "ENSG00000000419                                       1.508600e-09                               \n",
       "ENSG00000000457                                       2.036232e-08                               \n",
       "ENSG00000000460                                       6.505700e-09                               \n",
       "ENSG00000000938                                       9.110200e-09                               \n",
       "ENSG00000000971                                       2.329954e-10                               \n",
       "\n",
       "                 20002_1385-Noncancer_illness_code_selfreported_allergy_or_anaphylactic_reaction_to_food  \\\n",
       "ENSG00000000419                                       1.114500e-05                                         \n",
       "ENSG00000000457                                       4.598924e-04                                         \n",
       "ENSG00000000460                                       1.830200e-05                                         \n",
       "ENSG00000000938                                       1.351400e-05                                         \n",
       "ENSG00000000971                                       5.325000e-07                                         \n",
       "\n",
       "                 G6_SLEEPAPNO-Sleep_apnoea  ...  \\\n",
       "ENSG00000000419               4.164600e-09  ...   \n",
       "ENSG00000000457               3.570850e-08  ...   \n",
       "ENSG00000000460               6.002900e-08  ...   \n",
       "ENSG00000000938               9.878000e-09  ...   \n",
       "ENSG00000000971               4.958740e-08  ...   \n",
       "\n",
       "                 Astle_et_al_2016_Sum_basophil_neutrophil_counts  \\\n",
       "ENSG00000000419                                            0.001   \n",
       "ENSG00000000457                                            0.000   \n",
       "ENSG00000000460                                            0.000   \n",
       "ENSG00000000938                                            0.263   \n",
       "ENSG00000000971                                            0.000   \n",
       "\n",
       "                 RA_OKADA_TRANS_ETHNIC  pgc.scz2  PGC_ADHD_EUR_2017  \\\n",
       "ENSG00000000419                    NaN     0.000                0.0   \n",
       "ENSG00000000457                    NaN       NaN                NaN   \n",
       "ENSG00000000460                    NaN       NaN                NaN   \n",
       "ENSG00000000938                    NaN     0.002                NaN   \n",
       "ENSG00000000971                    0.0       NaN                NaN   \n",
       "\n",
       "                 MAGIC_FastingGlucose  Astle_et_al_2016_Red_blood_cell_count  \\\n",
       "ENSG00000000419                   NaN                                  0.001   \n",
       "ENSG00000000457                   NaN                                  0.000   \n",
       "ENSG00000000460                   NaN                                  0.000   \n",
       "ENSG00000000938                   NaN                                    NaN   \n",
       "ENSG00000000971                   NaN                                  0.000   \n",
       "\n",
       "                 SSGAC_Depressive_Symptoms  BCAC_ER_positive_BreastCancer_EUR  \\\n",
       "ENSG00000000419                        NaN                                NaN   \n",
       "ENSG00000000457                        NaN                                NaN   \n",
       "ENSG00000000460                        NaN                                NaN   \n",
       "ENSG00000000938                        NaN                                NaN   \n",
       "ENSG00000000971                        NaN                                NaN   \n",
       "\n",
       "                 IBD.EUR.Inflammatory_Bowel_Disease  \\\n",
       "ENSG00000000419                                 NaN   \n",
       "ENSG00000000457                                 NaN   \n",
       "ENSG00000000460                                 NaN   \n",
       "ENSG00000000938                                 NaN   \n",
       "ENSG00000000971                                 NaN   \n",
       "\n",
       "                 Astle_et_al_2016_High_light_scatter_reticulocyte_count  \n",
       "ENSG00000000419                                                0.0       \n",
       "ENSG00000000457                                                NaN       \n",
       "ENSG00000000460                                                NaN       \n",
       "ENSG00000000938                                                0.0       \n",
       "ENSG00000000971                                                0.0       \n",
       "\n",
       "[5 rows x 4091 columns]"
      ]
     },
     "metadata": {},
     "output_type": "display_data"
    }
   ],
   "source": [
    "fastenloc_matrix_sorted = fastenloc_gene_associations.loc[common_genes, smultixcan_gene_associations.columns]\n",
    "display(fastenloc_matrix_sorted.shape)\n",
    "display(fastenloc_matrix_sorted.head())"
   ]
  },
  {
   "cell_type": "code",
   "execution_count": 22,
   "metadata": {},
   "outputs": [
    {
     "data": {
      "text/plain": [
       "(22427, 4091)"
      ]
     },
     "metadata": {},
     "output_type": "display_data"
    },
    {
     "data": {
      "text/html": [
       "<div>\n",
       "<style scoped>\n",
       "    .dataframe tbody tr th:only-of-type {\n",
       "        vertical-align: middle;\n",
       "    }\n",
       "\n",
       "    .dataframe tbody tr th {\n",
       "        vertical-align: top;\n",
       "    }\n",
       "\n",
       "    .dataframe thead th {\n",
       "        text-align: right;\n",
       "    }\n",
       "</style>\n",
       "<table border=\"1\" class=\"dataframe\">\n",
       "  <thead>\n",
       "    <tr style=\"text-align: right;\">\n",
       "      <th></th>\n",
       "      <th>20096_1-Size_of_red_wine_glass_drunk_small_125ml</th>\n",
       "      <th>2345-Ever_had_bowel_cancer_screening</th>\n",
       "      <th>N49-Diagnoses_main_ICD10_N49_Inflammatory_disorders_of_male_genital_organs_not_elsewhere_classified</th>\n",
       "      <th>100011_raw-Iron</th>\n",
       "      <th>5221-Index_of_best_refractometry_result_right</th>\n",
       "      <th>20003_1141150624-Treatmentmedication_code_zomig_25mg_tablet</th>\n",
       "      <th>S69-Diagnoses_main_ICD10_S69_Other_and_unspecified_injuries_of_wrist_and_hand</th>\n",
       "      <th>20024_1136-Job_code_deduced_Information_and_communication_technology_managers</th>\n",
       "      <th>20002_1385-Noncancer_illness_code_selfreported_allergy_or_anaphylactic_reaction_to_food</th>\n",
       "      <th>G6_SLEEPAPNO-Sleep_apnoea</th>\n",
       "      <th>...</th>\n",
       "      <th>Astle_et_al_2016_Sum_basophil_neutrophil_counts</th>\n",
       "      <th>RA_OKADA_TRANS_ETHNIC</th>\n",
       "      <th>pgc.scz2</th>\n",
       "      <th>PGC_ADHD_EUR_2017</th>\n",
       "      <th>MAGIC_FastingGlucose</th>\n",
       "      <th>Astle_et_al_2016_Red_blood_cell_count</th>\n",
       "      <th>SSGAC_Depressive_Symptoms</th>\n",
       "      <th>BCAC_ER_positive_BreastCancer_EUR</th>\n",
       "      <th>IBD.EUR.Inflammatory_Bowel_Disease</th>\n",
       "      <th>Astle_et_al_2016_High_light_scatter_reticulocyte_count</th>\n",
       "    </tr>\n",
       "  </thead>\n",
       "  <tbody>\n",
       "    <tr>\n",
       "      <th>ENSG00000000419</th>\n",
       "      <td>0.865429</td>\n",
       "      <td>0.918314</td>\n",
       "      <td>0.810683</td>\n",
       "      <td>0.374671</td>\n",
       "      <td>0.189032</td>\n",
       "      <td>0.140981</td>\n",
       "      <td>0.467741</td>\n",
       "      <td>0.129427</td>\n",
       "      <td>0.193680</td>\n",
       "      <td>0.285479</td>\n",
       "      <td>...</td>\n",
       "      <td>0.416210</td>\n",
       "      <td>0.782554</td>\n",
       "      <td>0.609467</td>\n",
       "      <td>0.980281</td>\n",
       "      <td>0.666504</td>\n",
       "      <td>0.409761</td>\n",
       "      <td>0.713310</td>\n",
       "      <td>0.168319</td>\n",
       "      <td>0.460244</td>\n",
       "      <td>0.765506</td>\n",
       "    </tr>\n",
       "    <tr>\n",
       "      <th>ENSG00000000457</th>\n",
       "      <td>0.174192</td>\n",
       "      <td>0.064765</td>\n",
       "      <td>0.889194</td>\n",
       "      <td>0.896938</td>\n",
       "      <td>0.448596</td>\n",
       "      <td>0.269602</td>\n",
       "      <td>0.540261</td>\n",
       "      <td>0.068405</td>\n",
       "      <td>0.041813</td>\n",
       "      <td>0.313427</td>\n",
       "      <td>...</td>\n",
       "      <td>0.149360</td>\n",
       "      <td>0.512603</td>\n",
       "      <td>0.010907</td>\n",
       "      <td>0.228982</td>\n",
       "      <td>0.607081</td>\n",
       "      <td>0.812484</td>\n",
       "      <td>0.678749</td>\n",
       "      <td>0.918971</td>\n",
       "      <td>0.311187</td>\n",
       "      <td>0.344574</td>\n",
       "    </tr>\n",
       "    <tr>\n",
       "      <th>ENSG00000000460</th>\n",
       "      <td>0.879969</td>\n",
       "      <td>0.240715</td>\n",
       "      <td>0.238228</td>\n",
       "      <td>0.567555</td>\n",
       "      <td>0.921320</td>\n",
       "      <td>0.825036</td>\n",
       "      <td>0.782230</td>\n",
       "      <td>0.644525</td>\n",
       "      <td>0.392273</td>\n",
       "      <td>0.840014</td>\n",
       "      <td>...</td>\n",
       "      <td>0.503520</td>\n",
       "      <td>0.764147</td>\n",
       "      <td>0.587969</td>\n",
       "      <td>0.301460</td>\n",
       "      <td>0.629621</td>\n",
       "      <td>0.486664</td>\n",
       "      <td>0.736509</td>\n",
       "      <td>0.933600</td>\n",
       "      <td>0.000477</td>\n",
       "      <td>0.321223</td>\n",
       "    </tr>\n",
       "    <tr>\n",
       "      <th>ENSG00000000938</th>\n",
       "      <td>0.192670</td>\n",
       "      <td>0.400054</td>\n",
       "      <td>0.114353</td>\n",
       "      <td>0.470700</td>\n",
       "      <td>0.889202</td>\n",
       "      <td>0.000011</td>\n",
       "      <td>0.899764</td>\n",
       "      <td>0.212352</td>\n",
       "      <td>0.829671</td>\n",
       "      <td>0.372348</td>\n",
       "      <td>...</td>\n",
       "      <td>0.899212</td>\n",
       "      <td>0.961678</td>\n",
       "      <td>0.059247</td>\n",
       "      <td>0.588855</td>\n",
       "      <td>0.898525</td>\n",
       "      <td>0.135045</td>\n",
       "      <td>0.954998</td>\n",
       "      <td>0.088220</td>\n",
       "      <td>0.176497</td>\n",
       "      <td>0.304281</td>\n",
       "    </tr>\n",
       "    <tr>\n",
       "      <th>ENSG00000000971</th>\n",
       "      <td>0.180632</td>\n",
       "      <td>0.793060</td>\n",
       "      <td>0.490585</td>\n",
       "      <td>0.088752</td>\n",
       "      <td>0.744531</td>\n",
       "      <td>0.949639</td>\n",
       "      <td>0.253817</td>\n",
       "      <td>0.377408</td>\n",
       "      <td>0.971655</td>\n",
       "      <td>0.070266</td>\n",
       "      <td>...</td>\n",
       "      <td>0.390618</td>\n",
       "      <td>0.093824</td>\n",
       "      <td>0.020391</td>\n",
       "      <td>0.109883</td>\n",
       "      <td>0.870551</td>\n",
       "      <td>0.995450</td>\n",
       "      <td>0.002660</td>\n",
       "      <td>0.421588</td>\n",
       "      <td>0.656851</td>\n",
       "      <td>0.868416</td>\n",
       "    </tr>\n",
       "  </tbody>\n",
       "</table>\n",
       "<p>5 rows × 4091 columns</p>\n",
       "</div>"
      ],
      "text/plain": [
       "                 20096_1-Size_of_red_wine_glass_drunk_small_125ml  \\\n",
       "ENSG00000000419                                          0.865429   \n",
       "ENSG00000000457                                          0.174192   \n",
       "ENSG00000000460                                          0.879969   \n",
       "ENSG00000000938                                          0.192670   \n",
       "ENSG00000000971                                          0.180632   \n",
       "\n",
       "                 2345-Ever_had_bowel_cancer_screening  \\\n",
       "ENSG00000000419                              0.918314   \n",
       "ENSG00000000457                              0.064765   \n",
       "ENSG00000000460                              0.240715   \n",
       "ENSG00000000938                              0.400054   \n",
       "ENSG00000000971                              0.793060   \n",
       "\n",
       "                 N49-Diagnoses_main_ICD10_N49_Inflammatory_disorders_of_male_genital_organs_not_elsewhere_classified  \\\n",
       "ENSG00000000419                                           0.810683                                                     \n",
       "ENSG00000000457                                           0.889194                                                     \n",
       "ENSG00000000460                                           0.238228                                                     \n",
       "ENSG00000000938                                           0.114353                                                     \n",
       "ENSG00000000971                                           0.490585                                                     \n",
       "\n",
       "                 100011_raw-Iron  \\\n",
       "ENSG00000000419         0.374671   \n",
       "ENSG00000000457         0.896938   \n",
       "ENSG00000000460         0.567555   \n",
       "ENSG00000000938         0.470700   \n",
       "ENSG00000000971         0.088752   \n",
       "\n",
       "                 5221-Index_of_best_refractometry_result_right  \\\n",
       "ENSG00000000419                                       0.189032   \n",
       "ENSG00000000457                                       0.448596   \n",
       "ENSG00000000460                                       0.921320   \n",
       "ENSG00000000938                                       0.889202   \n",
       "ENSG00000000971                                       0.744531   \n",
       "\n",
       "                 20003_1141150624-Treatmentmedication_code_zomig_25mg_tablet  \\\n",
       "ENSG00000000419                                           0.140981             \n",
       "ENSG00000000457                                           0.269602             \n",
       "ENSG00000000460                                           0.825036             \n",
       "ENSG00000000938                                           0.000011             \n",
       "ENSG00000000971                                           0.949639             \n",
       "\n",
       "                 S69-Diagnoses_main_ICD10_S69_Other_and_unspecified_injuries_of_wrist_and_hand  \\\n",
       "ENSG00000000419                                           0.467741                               \n",
       "ENSG00000000457                                           0.540261                               \n",
       "ENSG00000000460                                           0.782230                               \n",
       "ENSG00000000938                                           0.899764                               \n",
       "ENSG00000000971                                           0.253817                               \n",
       "\n",
       "                 20024_1136-Job_code_deduced_Information_and_communication_technology_managers  \\\n",
       "ENSG00000000419                                           0.129427                               \n",
       "ENSG00000000457                                           0.068405                               \n",
       "ENSG00000000460                                           0.644525                               \n",
       "ENSG00000000938                                           0.212352                               \n",
       "ENSG00000000971                                           0.377408                               \n",
       "\n",
       "                 20002_1385-Noncancer_illness_code_selfreported_allergy_or_anaphylactic_reaction_to_food  \\\n",
       "ENSG00000000419                                           0.193680                                         \n",
       "ENSG00000000457                                           0.041813                                         \n",
       "ENSG00000000460                                           0.392273                                         \n",
       "ENSG00000000938                                           0.829671                                         \n",
       "ENSG00000000971                                           0.971655                                         \n",
       "\n",
       "                 G6_SLEEPAPNO-Sleep_apnoea  ...  \\\n",
       "ENSG00000000419                   0.285479  ...   \n",
       "ENSG00000000457                   0.313427  ...   \n",
       "ENSG00000000460                   0.840014  ...   \n",
       "ENSG00000000938                   0.372348  ...   \n",
       "ENSG00000000971                   0.070266  ...   \n",
       "\n",
       "                 Astle_et_al_2016_Sum_basophil_neutrophil_counts  \\\n",
       "ENSG00000000419                                         0.416210   \n",
       "ENSG00000000457                                         0.149360   \n",
       "ENSG00000000460                                         0.503520   \n",
       "ENSG00000000938                                         0.899212   \n",
       "ENSG00000000971                                         0.390618   \n",
       "\n",
       "                 RA_OKADA_TRANS_ETHNIC  pgc.scz2  PGC_ADHD_EUR_2017  \\\n",
       "ENSG00000000419               0.782554  0.609467           0.980281   \n",
       "ENSG00000000457               0.512603  0.010907           0.228982   \n",
       "ENSG00000000460               0.764147  0.587969           0.301460   \n",
       "ENSG00000000938               0.961678  0.059247           0.588855   \n",
       "ENSG00000000971               0.093824  0.020391           0.109883   \n",
       "\n",
       "                 MAGIC_FastingGlucose  Astle_et_al_2016_Red_blood_cell_count  \\\n",
       "ENSG00000000419              0.666504                               0.409761   \n",
       "ENSG00000000457              0.607081                               0.812484   \n",
       "ENSG00000000460              0.629621                               0.486664   \n",
       "ENSG00000000938              0.898525                               0.135045   \n",
       "ENSG00000000971              0.870551                               0.995450   \n",
       "\n",
       "                 SSGAC_Depressive_Symptoms  BCAC_ER_positive_BreastCancer_EUR  \\\n",
       "ENSG00000000419                   0.713310                           0.168319   \n",
       "ENSG00000000457                   0.678749                           0.918971   \n",
       "ENSG00000000460                   0.736509                           0.933600   \n",
       "ENSG00000000938                   0.954998                           0.088220   \n",
       "ENSG00000000971                   0.002660                           0.421588   \n",
       "\n",
       "                 IBD.EUR.Inflammatory_Bowel_Disease  \\\n",
       "ENSG00000000419                            0.460244   \n",
       "ENSG00000000457                            0.311187   \n",
       "ENSG00000000460                            0.000477   \n",
       "ENSG00000000938                            0.176497   \n",
       "ENSG00000000971                            0.656851   \n",
       "\n",
       "                 Astle_et_al_2016_High_light_scatter_reticulocyte_count  \n",
       "ENSG00000000419                                           0.765506       \n",
       "ENSG00000000457                                           0.344574       \n",
       "ENSG00000000460                                           0.321223       \n",
       "ENSG00000000938                                           0.304281       \n",
       "ENSG00000000971                                           0.868416       \n",
       "\n",
       "[5 rows x 4091 columns]"
      ]
     },
     "metadata": {},
     "output_type": "display_data"
    }
   ],
   "source": [
    "multixcan_matrix_sorted = smultixcan_gene_associations.loc[common_genes]\n",
    "display(multixcan_matrix_sorted.shape)\n",
    "display(multixcan_matrix_sorted.head())"
   ]
  },
  {
   "cell_type": "code",
   "execution_count": 23,
   "metadata": {},
   "outputs": [],
   "source": [
    "assert fastenloc_matrix_sorted.shape == multixcan_matrix_sorted.shape"
   ]
  },
  {
   "cell_type": "markdown",
   "metadata": {},
   "source": [
    "### Using stringent pvalue threshold"
   ]
  },
  {
   "cell_type": "code",
   "execution_count": 24,
   "metadata": {},
   "outputs": [
    {
     "data": {
      "text/plain": [
       "5.49e-10"
      ]
     },
     "metadata": {},
     "output_type": "display_data"
    }
   ],
   "source": [
    "display(PVALUE_THRESHOLD)"
   ]
  },
  {
   "cell_type": "code",
   "execution_count": 25,
   "metadata": {},
   "outputs": [
    {
     "data": {
      "text/plain": [
       "(22427, 4091)"
      ]
     },
     "metadata": {},
     "output_type": "display_data"
    },
    {
     "data": {
      "text/html": [
       "<div>\n",
       "<style scoped>\n",
       "    .dataframe tbody tr th:only-of-type {\n",
       "        vertical-align: middle;\n",
       "    }\n",
       "\n",
       "    .dataframe tbody tr th {\n",
       "        vertical-align: top;\n",
       "    }\n",
       "\n",
       "    .dataframe thead th {\n",
       "        text-align: right;\n",
       "    }\n",
       "</style>\n",
       "<table border=\"1\" class=\"dataframe\">\n",
       "  <thead>\n",
       "    <tr style=\"text-align: right;\">\n",
       "      <th></th>\n",
       "      <th>20096_1-Size_of_red_wine_glass_drunk_small_125ml</th>\n",
       "      <th>2345-Ever_had_bowel_cancer_screening</th>\n",
       "      <th>N49-Diagnoses_main_ICD10_N49_Inflammatory_disorders_of_male_genital_organs_not_elsewhere_classified</th>\n",
       "      <th>100011_raw-Iron</th>\n",
       "      <th>5221-Index_of_best_refractometry_result_right</th>\n",
       "      <th>20003_1141150624-Treatmentmedication_code_zomig_25mg_tablet</th>\n",
       "      <th>S69-Diagnoses_main_ICD10_S69_Other_and_unspecified_injuries_of_wrist_and_hand</th>\n",
       "      <th>20024_1136-Job_code_deduced_Information_and_communication_technology_managers</th>\n",
       "      <th>20002_1385-Noncancer_illness_code_selfreported_allergy_or_anaphylactic_reaction_to_food</th>\n",
       "      <th>G6_SLEEPAPNO-Sleep_apnoea</th>\n",
       "      <th>...</th>\n",
       "      <th>Astle_et_al_2016_Sum_basophil_neutrophil_counts</th>\n",
       "      <th>RA_OKADA_TRANS_ETHNIC</th>\n",
       "      <th>pgc.scz2</th>\n",
       "      <th>PGC_ADHD_EUR_2017</th>\n",
       "      <th>MAGIC_FastingGlucose</th>\n",
       "      <th>Astle_et_al_2016_Red_blood_cell_count</th>\n",
       "      <th>SSGAC_Depressive_Symptoms</th>\n",
       "      <th>BCAC_ER_positive_BreastCancer_EUR</th>\n",
       "      <th>IBD.EUR.Inflammatory_Bowel_Disease</th>\n",
       "      <th>Astle_et_al_2016_High_light_scatter_reticulocyte_count</th>\n",
       "    </tr>\n",
       "  </thead>\n",
       "  <tbody>\n",
       "    <tr>\n",
       "      <th>ENSG00000000419</th>\n",
       "      <td>False</td>\n",
       "      <td>False</td>\n",
       "      <td>False</td>\n",
       "      <td>False</td>\n",
       "      <td>False</td>\n",
       "      <td>False</td>\n",
       "      <td>False</td>\n",
       "      <td>False</td>\n",
       "      <td>False</td>\n",
       "      <td>False</td>\n",
       "      <td>...</td>\n",
       "      <td>False</td>\n",
       "      <td>False</td>\n",
       "      <td>False</td>\n",
       "      <td>False</td>\n",
       "      <td>False</td>\n",
       "      <td>False</td>\n",
       "      <td>False</td>\n",
       "      <td>False</td>\n",
       "      <td>False</td>\n",
       "      <td>False</td>\n",
       "    </tr>\n",
       "    <tr>\n",
       "      <th>ENSG00000000457</th>\n",
       "      <td>False</td>\n",
       "      <td>False</td>\n",
       "      <td>False</td>\n",
       "      <td>False</td>\n",
       "      <td>False</td>\n",
       "      <td>False</td>\n",
       "      <td>False</td>\n",
       "      <td>False</td>\n",
       "      <td>False</td>\n",
       "      <td>False</td>\n",
       "      <td>...</td>\n",
       "      <td>False</td>\n",
       "      <td>False</td>\n",
       "      <td>False</td>\n",
       "      <td>False</td>\n",
       "      <td>False</td>\n",
       "      <td>False</td>\n",
       "      <td>False</td>\n",
       "      <td>False</td>\n",
       "      <td>False</td>\n",
       "      <td>False</td>\n",
       "    </tr>\n",
       "    <tr>\n",
       "      <th>ENSG00000000460</th>\n",
       "      <td>False</td>\n",
       "      <td>False</td>\n",
       "      <td>False</td>\n",
       "      <td>False</td>\n",
       "      <td>False</td>\n",
       "      <td>False</td>\n",
       "      <td>False</td>\n",
       "      <td>False</td>\n",
       "      <td>False</td>\n",
       "      <td>False</td>\n",
       "      <td>...</td>\n",
       "      <td>False</td>\n",
       "      <td>False</td>\n",
       "      <td>False</td>\n",
       "      <td>False</td>\n",
       "      <td>False</td>\n",
       "      <td>False</td>\n",
       "      <td>False</td>\n",
       "      <td>False</td>\n",
       "      <td>False</td>\n",
       "      <td>False</td>\n",
       "    </tr>\n",
       "    <tr>\n",
       "      <th>ENSG00000000938</th>\n",
       "      <td>False</td>\n",
       "      <td>False</td>\n",
       "      <td>False</td>\n",
       "      <td>False</td>\n",
       "      <td>False</td>\n",
       "      <td>False</td>\n",
       "      <td>False</td>\n",
       "      <td>False</td>\n",
       "      <td>False</td>\n",
       "      <td>False</td>\n",
       "      <td>...</td>\n",
       "      <td>False</td>\n",
       "      <td>False</td>\n",
       "      <td>False</td>\n",
       "      <td>False</td>\n",
       "      <td>False</td>\n",
       "      <td>False</td>\n",
       "      <td>False</td>\n",
       "      <td>False</td>\n",
       "      <td>False</td>\n",
       "      <td>False</td>\n",
       "    </tr>\n",
       "    <tr>\n",
       "      <th>ENSG00000000971</th>\n",
       "      <td>False</td>\n",
       "      <td>False</td>\n",
       "      <td>False</td>\n",
       "      <td>False</td>\n",
       "      <td>False</td>\n",
       "      <td>False</td>\n",
       "      <td>False</td>\n",
       "      <td>False</td>\n",
       "      <td>False</td>\n",
       "      <td>False</td>\n",
       "      <td>...</td>\n",
       "      <td>False</td>\n",
       "      <td>False</td>\n",
       "      <td>False</td>\n",
       "      <td>False</td>\n",
       "      <td>False</td>\n",
       "      <td>False</td>\n",
       "      <td>False</td>\n",
       "      <td>False</td>\n",
       "      <td>False</td>\n",
       "      <td>False</td>\n",
       "    </tr>\n",
       "  </tbody>\n",
       "</table>\n",
       "<p>5 rows × 4091 columns</p>\n",
       "</div>"
      ],
      "text/plain": [
       "                 20096_1-Size_of_red_wine_glass_drunk_small_125ml  \\\n",
       "ENSG00000000419                                             False   \n",
       "ENSG00000000457                                             False   \n",
       "ENSG00000000460                                             False   \n",
       "ENSG00000000938                                             False   \n",
       "ENSG00000000971                                             False   \n",
       "\n",
       "                 2345-Ever_had_bowel_cancer_screening  \\\n",
       "ENSG00000000419                                 False   \n",
       "ENSG00000000457                                 False   \n",
       "ENSG00000000460                                 False   \n",
       "ENSG00000000938                                 False   \n",
       "ENSG00000000971                                 False   \n",
       "\n",
       "                 N49-Diagnoses_main_ICD10_N49_Inflammatory_disorders_of_male_genital_organs_not_elsewhere_classified  \\\n",
       "ENSG00000000419                                              False                                                     \n",
       "ENSG00000000457                                              False                                                     \n",
       "ENSG00000000460                                              False                                                     \n",
       "ENSG00000000938                                              False                                                     \n",
       "ENSG00000000971                                              False                                                     \n",
       "\n",
       "                 100011_raw-Iron  \\\n",
       "ENSG00000000419            False   \n",
       "ENSG00000000457            False   \n",
       "ENSG00000000460            False   \n",
       "ENSG00000000938            False   \n",
       "ENSG00000000971            False   \n",
       "\n",
       "                 5221-Index_of_best_refractometry_result_right  \\\n",
       "ENSG00000000419                                          False   \n",
       "ENSG00000000457                                          False   \n",
       "ENSG00000000460                                          False   \n",
       "ENSG00000000938                                          False   \n",
       "ENSG00000000971                                          False   \n",
       "\n",
       "                 20003_1141150624-Treatmentmedication_code_zomig_25mg_tablet  \\\n",
       "ENSG00000000419                                              False             \n",
       "ENSG00000000457                                              False             \n",
       "ENSG00000000460                                              False             \n",
       "ENSG00000000938                                              False             \n",
       "ENSG00000000971                                              False             \n",
       "\n",
       "                 S69-Diagnoses_main_ICD10_S69_Other_and_unspecified_injuries_of_wrist_and_hand  \\\n",
       "ENSG00000000419                                              False                               \n",
       "ENSG00000000457                                              False                               \n",
       "ENSG00000000460                                              False                               \n",
       "ENSG00000000938                                              False                               \n",
       "ENSG00000000971                                              False                               \n",
       "\n",
       "                 20024_1136-Job_code_deduced_Information_and_communication_technology_managers  \\\n",
       "ENSG00000000419                                              False                               \n",
       "ENSG00000000457                                              False                               \n",
       "ENSG00000000460                                              False                               \n",
       "ENSG00000000938                                              False                               \n",
       "ENSG00000000971                                              False                               \n",
       "\n",
       "                 20002_1385-Noncancer_illness_code_selfreported_allergy_or_anaphylactic_reaction_to_food  \\\n",
       "ENSG00000000419                                              False                                         \n",
       "ENSG00000000457                                              False                                         \n",
       "ENSG00000000460                                              False                                         \n",
       "ENSG00000000938                                              False                                         \n",
       "ENSG00000000971                                              False                                         \n",
       "\n",
       "                 G6_SLEEPAPNO-Sleep_apnoea  ...  \\\n",
       "ENSG00000000419                      False  ...   \n",
       "ENSG00000000457                      False  ...   \n",
       "ENSG00000000460                      False  ...   \n",
       "ENSG00000000938                      False  ...   \n",
       "ENSG00000000971                      False  ...   \n",
       "\n",
       "                 Astle_et_al_2016_Sum_basophil_neutrophil_counts  \\\n",
       "ENSG00000000419                                            False   \n",
       "ENSG00000000457                                            False   \n",
       "ENSG00000000460                                            False   \n",
       "ENSG00000000938                                            False   \n",
       "ENSG00000000971                                            False   \n",
       "\n",
       "                 RA_OKADA_TRANS_ETHNIC  pgc.scz2  PGC_ADHD_EUR_2017  \\\n",
       "ENSG00000000419                  False     False              False   \n",
       "ENSG00000000457                  False     False              False   \n",
       "ENSG00000000460                  False     False              False   \n",
       "ENSG00000000938                  False     False              False   \n",
       "ENSG00000000971                  False     False              False   \n",
       "\n",
       "                 MAGIC_FastingGlucose  Astle_et_al_2016_Red_blood_cell_count  \\\n",
       "ENSG00000000419                 False                                  False   \n",
       "ENSG00000000457                 False                                  False   \n",
       "ENSG00000000460                 False                                  False   \n",
       "ENSG00000000938                 False                                  False   \n",
       "ENSG00000000971                 False                                  False   \n",
       "\n",
       "                 SSGAC_Depressive_Symptoms  BCAC_ER_positive_BreastCancer_EUR  \\\n",
       "ENSG00000000419                      False                              False   \n",
       "ENSG00000000457                      False                              False   \n",
       "ENSG00000000460                      False                              False   \n",
       "ENSG00000000938                      False                              False   \n",
       "ENSG00000000971                      False                              False   \n",
       "\n",
       "                 IBD.EUR.Inflammatory_Bowel_Disease  \\\n",
       "ENSG00000000419                               False   \n",
       "ENSG00000000457                               False   \n",
       "ENSG00000000460                               False   \n",
       "ENSG00000000938                               False   \n",
       "ENSG00000000971                               False   \n",
       "\n",
       "                 Astle_et_al_2016_High_light_scatter_reticulocyte_count  \n",
       "ENSG00000000419                                              False       \n",
       "ENSG00000000457                                              False       \n",
       "ENSG00000000460                                              False       \n",
       "ENSG00000000938                                              False       \n",
       "ENSG00000000971                                              False       \n",
       "\n",
       "[5 rows x 4091 columns]"
      ]
     },
     "metadata": {},
     "output_type": "display_data"
    }
   ],
   "source": [
    "multixcan_signif = (multixcan_matrix_sorted < PVALUE_THRESHOLD)\n",
    "display(multixcan_signif.shape)\n",
    "display(multixcan_signif.head())"
   ]
  },
  {
   "cell_type": "code",
   "execution_count": 26,
   "metadata": {},
   "outputs": [
    {
     "data": {
      "text/plain": [
       "(22427, 4091)"
      ]
     },
     "metadata": {},
     "output_type": "display_data"
    },
    {
     "data": {
      "text/html": [
       "<div>\n",
       "<style scoped>\n",
       "    .dataframe tbody tr th:only-of-type {\n",
       "        vertical-align: middle;\n",
       "    }\n",
       "\n",
       "    .dataframe tbody tr th {\n",
       "        vertical-align: top;\n",
       "    }\n",
       "\n",
       "    .dataframe thead th {\n",
       "        text-align: right;\n",
       "    }\n",
       "</style>\n",
       "<table border=\"1\" class=\"dataframe\">\n",
       "  <thead>\n",
       "    <tr style=\"text-align: right;\">\n",
       "      <th></th>\n",
       "      <th>20096_1-Size_of_red_wine_glass_drunk_small_125ml</th>\n",
       "      <th>2345-Ever_had_bowel_cancer_screening</th>\n",
       "      <th>N49-Diagnoses_main_ICD10_N49_Inflammatory_disorders_of_male_genital_organs_not_elsewhere_classified</th>\n",
       "      <th>100011_raw-Iron</th>\n",
       "      <th>5221-Index_of_best_refractometry_result_right</th>\n",
       "      <th>20003_1141150624-Treatmentmedication_code_zomig_25mg_tablet</th>\n",
       "      <th>S69-Diagnoses_main_ICD10_S69_Other_and_unspecified_injuries_of_wrist_and_hand</th>\n",
       "      <th>20024_1136-Job_code_deduced_Information_and_communication_technology_managers</th>\n",
       "      <th>20002_1385-Noncancer_illness_code_selfreported_allergy_or_anaphylactic_reaction_to_food</th>\n",
       "      <th>G6_SLEEPAPNO-Sleep_apnoea</th>\n",
       "      <th>...</th>\n",
       "      <th>Astle_et_al_2016_Sum_basophil_neutrophil_counts</th>\n",
       "      <th>RA_OKADA_TRANS_ETHNIC</th>\n",
       "      <th>pgc.scz2</th>\n",
       "      <th>PGC_ADHD_EUR_2017</th>\n",
       "      <th>MAGIC_FastingGlucose</th>\n",
       "      <th>Astle_et_al_2016_Red_blood_cell_count</th>\n",
       "      <th>SSGAC_Depressive_Symptoms</th>\n",
       "      <th>BCAC_ER_positive_BreastCancer_EUR</th>\n",
       "      <th>IBD.EUR.Inflammatory_Bowel_Disease</th>\n",
       "      <th>Astle_et_al_2016_High_light_scatter_reticulocyte_count</th>\n",
       "    </tr>\n",
       "  </thead>\n",
       "  <tbody>\n",
       "    <tr>\n",
       "      <th>ENSG00000000419</th>\n",
       "      <td>False</td>\n",
       "      <td>False</td>\n",
       "      <td>False</td>\n",
       "      <td>False</td>\n",
       "      <td>False</td>\n",
       "      <td>False</td>\n",
       "      <td>False</td>\n",
       "      <td>False</td>\n",
       "      <td>False</td>\n",
       "      <td>False</td>\n",
       "      <td>...</td>\n",
       "      <td>False</td>\n",
       "      <td>False</td>\n",
       "      <td>False</td>\n",
       "      <td>False</td>\n",
       "      <td>False</td>\n",
       "      <td>False</td>\n",
       "      <td>False</td>\n",
       "      <td>False</td>\n",
       "      <td>False</td>\n",
       "      <td>False</td>\n",
       "    </tr>\n",
       "    <tr>\n",
       "      <th>ENSG00000000457</th>\n",
       "      <td>False</td>\n",
       "      <td>False</td>\n",
       "      <td>False</td>\n",
       "      <td>False</td>\n",
       "      <td>False</td>\n",
       "      <td>False</td>\n",
       "      <td>False</td>\n",
       "      <td>False</td>\n",
       "      <td>False</td>\n",
       "      <td>False</td>\n",
       "      <td>...</td>\n",
       "      <td>False</td>\n",
       "      <td>False</td>\n",
       "      <td>False</td>\n",
       "      <td>False</td>\n",
       "      <td>False</td>\n",
       "      <td>False</td>\n",
       "      <td>False</td>\n",
       "      <td>False</td>\n",
       "      <td>False</td>\n",
       "      <td>False</td>\n",
       "    </tr>\n",
       "    <tr>\n",
       "      <th>ENSG00000000460</th>\n",
       "      <td>False</td>\n",
       "      <td>False</td>\n",
       "      <td>False</td>\n",
       "      <td>False</td>\n",
       "      <td>False</td>\n",
       "      <td>False</td>\n",
       "      <td>False</td>\n",
       "      <td>False</td>\n",
       "      <td>False</td>\n",
       "      <td>False</td>\n",
       "      <td>...</td>\n",
       "      <td>False</td>\n",
       "      <td>False</td>\n",
       "      <td>False</td>\n",
       "      <td>False</td>\n",
       "      <td>False</td>\n",
       "      <td>False</td>\n",
       "      <td>False</td>\n",
       "      <td>False</td>\n",
       "      <td>False</td>\n",
       "      <td>False</td>\n",
       "    </tr>\n",
       "    <tr>\n",
       "      <th>ENSG00000000938</th>\n",
       "      <td>False</td>\n",
       "      <td>False</td>\n",
       "      <td>False</td>\n",
       "      <td>False</td>\n",
       "      <td>False</td>\n",
       "      <td>False</td>\n",
       "      <td>False</td>\n",
       "      <td>False</td>\n",
       "      <td>False</td>\n",
       "      <td>False</td>\n",
       "      <td>...</td>\n",
       "      <td>True</td>\n",
       "      <td>False</td>\n",
       "      <td>False</td>\n",
       "      <td>False</td>\n",
       "      <td>False</td>\n",
       "      <td>False</td>\n",
       "      <td>False</td>\n",
       "      <td>False</td>\n",
       "      <td>False</td>\n",
       "      <td>False</td>\n",
       "    </tr>\n",
       "    <tr>\n",
       "      <th>ENSG00000000971</th>\n",
       "      <td>False</td>\n",
       "      <td>False</td>\n",
       "      <td>False</td>\n",
       "      <td>False</td>\n",
       "      <td>False</td>\n",
       "      <td>False</td>\n",
       "      <td>False</td>\n",
       "      <td>False</td>\n",
       "      <td>False</td>\n",
       "      <td>False</td>\n",
       "      <td>...</td>\n",
       "      <td>False</td>\n",
       "      <td>False</td>\n",
       "      <td>False</td>\n",
       "      <td>False</td>\n",
       "      <td>False</td>\n",
       "      <td>False</td>\n",
       "      <td>False</td>\n",
       "      <td>False</td>\n",
       "      <td>False</td>\n",
       "      <td>False</td>\n",
       "    </tr>\n",
       "  </tbody>\n",
       "</table>\n",
       "<p>5 rows × 4091 columns</p>\n",
       "</div>"
      ],
      "text/plain": [
       "                 20096_1-Size_of_red_wine_glass_drunk_small_125ml  \\\n",
       "ENSG00000000419                                             False   \n",
       "ENSG00000000457                                             False   \n",
       "ENSG00000000460                                             False   \n",
       "ENSG00000000938                                             False   \n",
       "ENSG00000000971                                             False   \n",
       "\n",
       "                 2345-Ever_had_bowel_cancer_screening  \\\n",
       "ENSG00000000419                                 False   \n",
       "ENSG00000000457                                 False   \n",
       "ENSG00000000460                                 False   \n",
       "ENSG00000000938                                 False   \n",
       "ENSG00000000971                                 False   \n",
       "\n",
       "                 N49-Diagnoses_main_ICD10_N49_Inflammatory_disorders_of_male_genital_organs_not_elsewhere_classified  \\\n",
       "ENSG00000000419                                              False                                                     \n",
       "ENSG00000000457                                              False                                                     \n",
       "ENSG00000000460                                              False                                                     \n",
       "ENSG00000000938                                              False                                                     \n",
       "ENSG00000000971                                              False                                                     \n",
       "\n",
       "                 100011_raw-Iron  \\\n",
       "ENSG00000000419            False   \n",
       "ENSG00000000457            False   \n",
       "ENSG00000000460            False   \n",
       "ENSG00000000938            False   \n",
       "ENSG00000000971            False   \n",
       "\n",
       "                 5221-Index_of_best_refractometry_result_right  \\\n",
       "ENSG00000000419                                          False   \n",
       "ENSG00000000457                                          False   \n",
       "ENSG00000000460                                          False   \n",
       "ENSG00000000938                                          False   \n",
       "ENSG00000000971                                          False   \n",
       "\n",
       "                 20003_1141150624-Treatmentmedication_code_zomig_25mg_tablet  \\\n",
       "ENSG00000000419                                              False             \n",
       "ENSG00000000457                                              False             \n",
       "ENSG00000000460                                              False             \n",
       "ENSG00000000938                                              False             \n",
       "ENSG00000000971                                              False             \n",
       "\n",
       "                 S69-Diagnoses_main_ICD10_S69_Other_and_unspecified_injuries_of_wrist_and_hand  \\\n",
       "ENSG00000000419                                              False                               \n",
       "ENSG00000000457                                              False                               \n",
       "ENSG00000000460                                              False                               \n",
       "ENSG00000000938                                              False                               \n",
       "ENSG00000000971                                              False                               \n",
       "\n",
       "                 20024_1136-Job_code_deduced_Information_and_communication_technology_managers  \\\n",
       "ENSG00000000419                                              False                               \n",
       "ENSG00000000457                                              False                               \n",
       "ENSG00000000460                                              False                               \n",
       "ENSG00000000938                                              False                               \n",
       "ENSG00000000971                                              False                               \n",
       "\n",
       "                 20002_1385-Noncancer_illness_code_selfreported_allergy_or_anaphylactic_reaction_to_food  \\\n",
       "ENSG00000000419                                              False                                         \n",
       "ENSG00000000457                                              False                                         \n",
       "ENSG00000000460                                              False                                         \n",
       "ENSG00000000938                                              False                                         \n",
       "ENSG00000000971                                              False                                         \n",
       "\n",
       "                 G6_SLEEPAPNO-Sleep_apnoea  ...  \\\n",
       "ENSG00000000419                      False  ...   \n",
       "ENSG00000000457                      False  ...   \n",
       "ENSG00000000460                      False  ...   \n",
       "ENSG00000000938                      False  ...   \n",
       "ENSG00000000971                      False  ...   \n",
       "\n",
       "                 Astle_et_al_2016_Sum_basophil_neutrophil_counts  \\\n",
       "ENSG00000000419                                            False   \n",
       "ENSG00000000457                                            False   \n",
       "ENSG00000000460                                            False   \n",
       "ENSG00000000938                                             True   \n",
       "ENSG00000000971                                            False   \n",
       "\n",
       "                 RA_OKADA_TRANS_ETHNIC  pgc.scz2  PGC_ADHD_EUR_2017  \\\n",
       "ENSG00000000419                  False     False              False   \n",
       "ENSG00000000457                  False     False              False   \n",
       "ENSG00000000460                  False     False              False   \n",
       "ENSG00000000938                  False     False              False   \n",
       "ENSG00000000971                  False     False              False   \n",
       "\n",
       "                 MAGIC_FastingGlucose  Astle_et_al_2016_Red_blood_cell_count  \\\n",
       "ENSG00000000419                 False                                  False   \n",
       "ENSG00000000457                 False                                  False   \n",
       "ENSG00000000460                 False                                  False   \n",
       "ENSG00000000938                 False                                  False   \n",
       "ENSG00000000971                 False                                  False   \n",
       "\n",
       "                 SSGAC_Depressive_Symptoms  BCAC_ER_positive_BreastCancer_EUR  \\\n",
       "ENSG00000000419                      False                              False   \n",
       "ENSG00000000457                      False                              False   \n",
       "ENSG00000000460                      False                              False   \n",
       "ENSG00000000938                      False                              False   \n",
       "ENSG00000000971                      False                              False   \n",
       "\n",
       "                 IBD.EUR.Inflammatory_Bowel_Disease  \\\n",
       "ENSG00000000419                               False   \n",
       "ENSG00000000457                               False   \n",
       "ENSG00000000460                               False   \n",
       "ENSG00000000938                               False   \n",
       "ENSG00000000971                               False   \n",
       "\n",
       "                 Astle_et_al_2016_High_light_scatter_reticulocyte_count  \n",
       "ENSG00000000419                                              False       \n",
       "ENSG00000000457                                              False       \n",
       "ENSG00000000460                                              False       \n",
       "ENSG00000000938                                              False       \n",
       "ENSG00000000971                                              False       \n",
       "\n",
       "[5 rows x 4091 columns]"
      ]
     },
     "metadata": {},
     "output_type": "display_data"
    }
   ],
   "source": [
    "fastenloc_signif = (fastenloc_matrix_sorted > 0.1)\n",
    "display(fastenloc_signif.shape)\n",
    "display(fastenloc_signif.head())"
   ]
  },
  {
   "cell_type": "code",
   "execution_count": 27,
   "metadata": {},
   "outputs": [
    {
     "data": {
      "text/plain": [
       "72990"
      ]
     },
     "metadata": {},
     "output_type": "display_data"
    },
    {
     "data": {
      "text/plain": [
       "0.000795541245816283"
      ]
     },
     "metadata": {},
     "output_type": "display_data"
    }
   ],
   "source": [
    "multixcan_hits = multixcan_signif.sum().sum()\n",
    "display(multixcan_hits)\n",
    "display(multixcan_hits / multixcan_signif.size)"
   ]
  },
  {
   "cell_type": "code",
   "execution_count": 28,
   "metadata": {},
   "outputs": [
    {
     "data": {
      "text/plain": [
       "292506"
      ]
     },
     "metadata": {},
     "output_type": "display_data"
    },
    {
     "data": {
      "text/plain": [
       "0.0031881160110801164"
      ]
     },
     "metadata": {},
     "output_type": "display_data"
    }
   ],
   "source": [
    "fastenloc_hits = fastenloc_signif.sum().sum()\n",
    "display(fastenloc_hits)\n",
    "display(fastenloc_hits / fastenloc_signif.size)"
   ]
  },
  {
   "cell_type": "code",
   "execution_count": 29,
   "metadata": {},
   "outputs": [],
   "source": [
    "fastenloc_and_multixcan_signif = (multixcan_signif & fastenloc_signif)\n",
    "assert fastenloc_and_multixcan_signif.shape == multixcan_signif.shape == fastenloc_signif.shape"
   ]
  },
  {
   "cell_type": "code",
   "execution_count": 30,
   "metadata": {},
   "outputs": [
    {
     "data": {
      "text/plain": [
       "22473"
      ]
     },
     "metadata": {},
     "output_type": "display_data"
    },
    {
     "data": {
      "text/plain": [
       "0.30789149198520344"
      ]
     },
     "metadata": {},
     "output_type": "display_data"
    },
    {
     "data": {
      "text/plain": [
       "'30.79%'"
      ]
     },
     "metadata": {},
     "output_type": "display_data"
    }
   ],
   "source": [
    "fe_mu_sum = fastenloc_and_multixcan_signif.sum().sum()\n",
    "display(fe_mu_sum)\n",
    "_perc = fe_mu_sum / multixcan_hits\n",
    "display(_perc)\n",
    "display(f'{(_perc * 100):.2f}%')"
   ]
  },
  {
   "cell_type": "markdown",
   "metadata": {},
   "source": [
    "### Conclusions"
   ]
  },
  {
   "cell_type": "markdown",
   "metadata": {},
   "source": [
    "72,990 significant associations with S-MultiXcan (after taking the set of genes in common with fastENLOC, otherwise it's 72,994).\n",
    "\n",
    "From these, 22,473 associations are also colocalized (30.79%)"
   ]
  },
  {
   "cell_type": "markdown",
   "metadata": {},
   "source": [
    "# Export significant associations as a table"
   ]
  },
  {
   "cell_type": "markdown",
   "metadata": {},
   "source": [
    "### S-MultiXcan"
   ]
  },
  {
   "cell_type": "code",
   "execution_count": 31,
   "metadata": {},
   "outputs": [],
   "source": [
    "smultixcan_results = multixcan_matrix_sorted.unstack()"
   ]
  },
  {
   "cell_type": "code",
   "execution_count": 32,
   "metadata": {},
   "outputs": [
    {
     "data": {
      "text/plain": [
       "(91748857,)"
      ]
     },
     "execution_count": 32,
     "metadata": {},
     "output_type": "execute_result"
    }
   ],
   "source": [
    "smultixcan_results.shape"
   ]
  },
  {
   "cell_type": "code",
   "execution_count": 33,
   "metadata": {},
   "outputs": [
    {
     "data": {
      "text/plain": [
       "20096_1-Size_of_red_wine_glass_drunk_small_125ml  ENSG00000000419    0.865429\n",
       "                                                  ENSG00000000457    0.174192\n",
       "                                                  ENSG00000000460    0.879969\n",
       "                                                  ENSG00000000938    0.192670\n",
       "                                                  ENSG00000000971    0.180632\n",
       "dtype: float64"
      ]
     },
     "execution_count": 33,
     "metadata": {},
     "output_type": "execute_result"
    }
   ],
   "source": [
    "smultixcan_results.head()"
   ]
  },
  {
   "cell_type": "code",
   "execution_count": 34,
   "metadata": {},
   "outputs": [
    {
     "data": {
      "text/plain": [
       "1049005"
      ]
     },
     "execution_count": 34,
     "metadata": {},
     "output_type": "execute_result"
    }
   ],
   "source": [
    "smultixcan_results.isna().sum()"
   ]
  },
  {
   "cell_type": "code",
   "execution_count": 35,
   "metadata": {},
   "outputs": [],
   "source": [
    "smultixcan_results = smultixcan_results.dropna()"
   ]
  },
  {
   "cell_type": "code",
   "execution_count": 36,
   "metadata": {},
   "outputs": [
    {
     "data": {
      "text/plain": [
       "(90699852,)"
      ]
     },
     "execution_count": 36,
     "metadata": {},
     "output_type": "execute_result"
    }
   ],
   "source": [
    "smultixcan_results.shape"
   ]
  },
  {
   "cell_type": "code",
   "execution_count": 37,
   "metadata": {},
   "outputs": [],
   "source": [
    "assert smultixcan_results.isna().sum() == 0"
   ]
  },
  {
   "cell_type": "code",
   "execution_count": 38,
   "metadata": {},
   "outputs": [
    {
     "data": {
      "text/plain": [
       "72990"
      ]
     },
     "execution_count": 38,
     "metadata": {},
     "output_type": "execute_result"
    }
   ],
   "source": [
    "(smultixcan_results < PVALUE_THRESHOLD).sum()"
   ]
  },
  {
   "cell_type": "markdown",
   "metadata": {},
   "source": [
    "### fastENLOC"
   ]
  },
  {
   "cell_type": "code",
   "execution_count": 39,
   "metadata": {},
   "outputs": [],
   "source": [
    "fastenloc_results = fastenloc_matrix_sorted.unstack()"
   ]
  },
  {
   "cell_type": "code",
   "execution_count": 40,
   "metadata": {},
   "outputs": [
    {
     "data": {
      "text/plain": [
       "(91748857,)"
      ]
     },
     "execution_count": 40,
     "metadata": {},
     "output_type": "execute_result"
    }
   ],
   "source": [
    "fastenloc_results.shape"
   ]
  },
  {
   "cell_type": "code",
   "execution_count": 41,
   "metadata": {},
   "outputs": [
    {
     "data": {
      "text/plain": [
       "20096_1-Size_of_red_wine_glass_drunk_small_125ml  ENSG00000000419    2.173200e-07\n",
       "                                                  ENSG00000000457    1.343900e-06\n",
       "                                                  ENSG00000000460    8.757750e-06\n",
       "                                                  ENSG00000000938    7.197000e-08\n",
       "                                                  ENSG00000000971    2.720000e-07\n",
       "dtype: float64"
      ]
     },
     "execution_count": 41,
     "metadata": {},
     "output_type": "execute_result"
    }
   ],
   "source": [
    "fastenloc_results.head()"
   ]
  },
  {
   "cell_type": "code",
   "execution_count": 42,
   "metadata": {},
   "outputs": [
    {
     "data": {
      "text/plain": [
       "1554545"
      ]
     },
     "execution_count": 42,
     "metadata": {},
     "output_type": "execute_result"
    }
   ],
   "source": [
    "fastenloc_results.isna().sum()"
   ]
  },
  {
   "cell_type": "code",
   "execution_count": 43,
   "metadata": {},
   "outputs": [],
   "source": [
    "fastenloc_results = fastenloc_results.dropna()"
   ]
  },
  {
   "cell_type": "code",
   "execution_count": 44,
   "metadata": {},
   "outputs": [
    {
     "data": {
      "text/plain": [
       "(90194312,)"
      ]
     },
     "execution_count": 44,
     "metadata": {},
     "output_type": "execute_result"
    }
   ],
   "source": [
    "fastenloc_results.shape"
   ]
  },
  {
   "cell_type": "code",
   "execution_count": 45,
   "metadata": {},
   "outputs": [],
   "source": [
    "final_results = pd.DataFrame(index=smultixcan_results.index.copy(), columns=['smultixcan_pval', 'fastenloc_rcp'])"
   ]
  },
  {
   "cell_type": "code",
   "execution_count": 46,
   "metadata": {},
   "outputs": [],
   "source": [
    "final_results = final_results.assign(smultixcan_pval=smultixcan_results, fastenloc_rcp=fastenloc_results)"
   ]
  },
  {
   "cell_type": "code",
   "execution_count": 47,
   "metadata": {},
   "outputs": [
    {
     "data": {
      "text/plain": [
       "(90699852, 2)"
      ]
     },
     "execution_count": 47,
     "metadata": {},
     "output_type": "execute_result"
    }
   ],
   "source": [
    "final_results.shape"
   ]
  },
  {
   "cell_type": "code",
   "execution_count": 48,
   "metadata": {},
   "outputs": [
    {
     "data": {
      "text/html": [
       "<div>\n",
       "<style scoped>\n",
       "    .dataframe tbody tr th:only-of-type {\n",
       "        vertical-align: middle;\n",
       "    }\n",
       "\n",
       "    .dataframe tbody tr th {\n",
       "        vertical-align: top;\n",
       "    }\n",
       "\n",
       "    .dataframe thead th {\n",
       "        text-align: right;\n",
       "    }\n",
       "</style>\n",
       "<table border=\"1\" class=\"dataframe\">\n",
       "  <thead>\n",
       "    <tr style=\"text-align: right;\">\n",
       "      <th></th>\n",
       "      <th></th>\n",
       "      <th>smultixcan_pval</th>\n",
       "      <th>fastenloc_rcp</th>\n",
       "    </tr>\n",
       "  </thead>\n",
       "  <tbody>\n",
       "    <tr>\n",
       "      <th rowspan=\"5\" valign=\"top\">20096_1-Size_of_red_wine_glass_drunk_small_125ml</th>\n",
       "      <th>ENSG00000000419</th>\n",
       "      <td>0.865429</td>\n",
       "      <td>2.173200e-07</td>\n",
       "    </tr>\n",
       "    <tr>\n",
       "      <th>ENSG00000000457</th>\n",
       "      <td>0.174192</td>\n",
       "      <td>1.343900e-06</td>\n",
       "    </tr>\n",
       "    <tr>\n",
       "      <th>ENSG00000000460</th>\n",
       "      <td>0.879969</td>\n",
       "      <td>8.757750e-06</td>\n",
       "    </tr>\n",
       "    <tr>\n",
       "      <th>ENSG00000000938</th>\n",
       "      <td>0.192670</td>\n",
       "      <td>7.197000e-08</td>\n",
       "    </tr>\n",
       "    <tr>\n",
       "      <th>ENSG00000000971</th>\n",
       "      <td>0.180632</td>\n",
       "      <td>2.720000e-07</td>\n",
       "    </tr>\n",
       "  </tbody>\n",
       "</table>\n",
       "</div>"
      ],
      "text/plain": [
       "                                                                  smultixcan_pval  \\\n",
       "20096_1-Size_of_red_wine_glass_drunk_small_125ml ENSG00000000419         0.865429   \n",
       "                                                 ENSG00000000457         0.174192   \n",
       "                                                 ENSG00000000460         0.879969   \n",
       "                                                 ENSG00000000938         0.192670   \n",
       "                                                 ENSG00000000971         0.180632   \n",
       "\n",
       "                                                                  fastenloc_rcp  \n",
       "20096_1-Size_of_red_wine_glass_drunk_small_125ml ENSG00000000419   2.173200e-07  \n",
       "                                                 ENSG00000000457   1.343900e-06  \n",
       "                                                 ENSG00000000460   8.757750e-06  \n",
       "                                                 ENSG00000000938   7.197000e-08  \n",
       "                                                 ENSG00000000971   2.720000e-07  "
      ]
     },
     "execution_count": 48,
     "metadata": {},
     "output_type": "execute_result"
    }
   ],
   "source": [
    "final_results.head()"
   ]
  },
  {
   "cell_type": "code",
   "execution_count": 49,
   "metadata": {},
   "outputs": [
    {
     "data": {
      "text/plain": [
       "smultixcan_pval          0\n",
       "fastenloc_rcp      1529981\n",
       "dtype: int64"
      ]
     },
     "execution_count": 49,
     "metadata": {},
     "output_type": "execute_result"
    }
   ],
   "source": [
    "final_results.isna().sum()"
   ]
  },
  {
   "cell_type": "code",
   "execution_count": 50,
   "metadata": {},
   "outputs": [],
   "source": [
    "final_results = final_results.dropna(how='any')"
   ]
  },
  {
   "cell_type": "code",
   "execution_count": 51,
   "metadata": {},
   "outputs": [
    {
     "data": {
      "text/plain": [
       "(89169871, 2)"
      ]
     },
     "execution_count": 51,
     "metadata": {},
     "output_type": "execute_result"
    }
   ],
   "source": [
    "final_results.shape"
   ]
  },
  {
   "cell_type": "code",
   "execution_count": 52,
   "metadata": {},
   "outputs": [
    {
     "data": {
      "text/plain": [
       "5.49e-10"
      ]
     },
     "execution_count": 52,
     "metadata": {},
     "output_type": "execute_result"
    }
   ],
   "source": [
    "PVALUE_THRESHOLD"
   ]
  },
  {
   "cell_type": "code",
   "execution_count": 53,
   "metadata": {},
   "outputs": [],
   "source": [
    "publishable_final_results = final_results[(final_results['smultixcan_pval'] < PVALUE_THRESHOLD) & (final_results['fastenloc_rcp'] > 0.1)]"
   ]
  },
  {
   "cell_type": "code",
   "execution_count": 54,
   "metadata": {},
   "outputs": [],
   "source": [
    "publishable_final_results.index.rename(('trait', 'gene_id'), inplace=True)"
   ]
  },
  {
   "cell_type": "code",
   "execution_count": 55,
   "metadata": {},
   "outputs": [
    {
     "data": {
      "text/plain": [
       "(22473, 2)"
      ]
     },
     "execution_count": 55,
     "metadata": {},
     "output_type": "execute_result"
    }
   ],
   "source": [
    "publishable_final_results.shape"
   ]
  },
  {
   "cell_type": "code",
   "execution_count": 56,
   "metadata": {},
   "outputs": [
    {
     "data": {
      "text/html": [
       "<div>\n",
       "<style scoped>\n",
       "    .dataframe tbody tr th:only-of-type {\n",
       "        vertical-align: middle;\n",
       "    }\n",
       "\n",
       "    .dataframe tbody tr th {\n",
       "        vertical-align: top;\n",
       "    }\n",
       "\n",
       "    .dataframe thead th {\n",
       "        text-align: right;\n",
       "    }\n",
       "</style>\n",
       "<table border=\"1\" class=\"dataframe\">\n",
       "  <thead>\n",
       "    <tr style=\"text-align: right;\">\n",
       "      <th></th>\n",
       "      <th></th>\n",
       "      <th>smultixcan_pval</th>\n",
       "      <th>fastenloc_rcp</th>\n",
       "    </tr>\n",
       "    <tr>\n",
       "      <th>trait</th>\n",
       "      <th>gene_id</th>\n",
       "      <th></th>\n",
       "      <th></th>\n",
       "    </tr>\n",
       "  </thead>\n",
       "  <tbody>\n",
       "    <tr>\n",
       "      <th rowspan=\"5\" valign=\"top\">806-Job_involves_mainly_walking_or_standing</th>\n",
       "      <th>ENSG00000067560</th>\n",
       "      <td>2.318351e-12</td>\n",
       "      <td>0.254800</td>\n",
       "    </tr>\n",
       "    <tr>\n",
       "      <th>ENSG00000145022</th>\n",
       "      <td>4.778520e-12</td>\n",
       "      <td>0.363500</td>\n",
       "    </tr>\n",
       "    <tr>\n",
       "      <th>ENSG00000145029</th>\n",
       "      <td>2.400440e-11</td>\n",
       "      <td>0.307000</td>\n",
       "    </tr>\n",
       "    <tr>\n",
       "      <th>ENSG00000164061</th>\n",
       "      <td>1.577103e-11</td>\n",
       "      <td>0.233301</td>\n",
       "    </tr>\n",
       "    <tr>\n",
       "      <th>ENSG00000164062</th>\n",
       "      <td>4.626823e-13</td>\n",
       "      <td>0.919720</td>\n",
       "    </tr>\n",
       "  </tbody>\n",
       "</table>\n",
       "</div>"
      ],
      "text/plain": [
       "                                                             smultixcan_pval  \\\n",
       "trait                                       gene_id                            \n",
       "806-Job_involves_mainly_walking_or_standing ENSG00000067560     2.318351e-12   \n",
       "                                            ENSG00000145022     4.778520e-12   \n",
       "                                            ENSG00000145029     2.400440e-11   \n",
       "                                            ENSG00000164061     1.577103e-11   \n",
       "                                            ENSG00000164062     4.626823e-13   \n",
       "\n",
       "                                                             fastenloc_rcp  \n",
       "trait                                       gene_id                         \n",
       "806-Job_involves_mainly_walking_or_standing ENSG00000067560       0.254800  \n",
       "                                            ENSG00000145022       0.363500  \n",
       "                                            ENSG00000145029       0.307000  \n",
       "                                            ENSG00000164061       0.233301  \n",
       "                                            ENSG00000164062       0.919720  "
      ]
     },
     "execution_count": 56,
     "metadata": {},
     "output_type": "execute_result"
    }
   ],
   "source": [
    "publishable_final_results.head()"
   ]
  },
  {
   "cell_type": "code",
   "execution_count": 57,
   "metadata": {},
   "outputs": [
    {
     "data": {
      "text/html": [
       "<div>\n",
       "<style scoped>\n",
       "    .dataframe tbody tr th:only-of-type {\n",
       "        vertical-align: middle;\n",
       "    }\n",
       "\n",
       "    .dataframe tbody tr th {\n",
       "        vertical-align: top;\n",
       "    }\n",
       "\n",
       "    .dataframe thead th {\n",
       "        text-align: right;\n",
       "    }\n",
       "</style>\n",
       "<table border=\"1\" class=\"dataframe\">\n",
       "  <thead>\n",
       "    <tr style=\"text-align: right;\">\n",
       "      <th></th>\n",
       "      <th>gene</th>\n",
       "      <th>gene_name</th>\n",
       "      <th>gene_type</th>\n",
       "      <th>gene_id</th>\n",
       "      <th>band</th>\n",
       "    </tr>\n",
       "  </thead>\n",
       "  <tbody>\n",
       "    <tr>\n",
       "      <th>0</th>\n",
       "      <td>ENSG00000000457.13</td>\n",
       "      <td>SCYL3</td>\n",
       "      <td>protein_coding</td>\n",
       "      <td>ENSG00000000457</td>\n",
       "      <td>1q24.2</td>\n",
       "    </tr>\n",
       "    <tr>\n",
       "      <th>1</th>\n",
       "      <td>ENSG00000000460.16</td>\n",
       "      <td>C1orf112</td>\n",
       "      <td>protein_coding</td>\n",
       "      <td>ENSG00000000460</td>\n",
       "      <td>1q24.2</td>\n",
       "    </tr>\n",
       "    <tr>\n",
       "      <th>2</th>\n",
       "      <td>ENSG00000000938.12</td>\n",
       "      <td>FGR</td>\n",
       "      <td>protein_coding</td>\n",
       "      <td>ENSG00000000938</td>\n",
       "      <td>1p35.3</td>\n",
       "    </tr>\n",
       "    <tr>\n",
       "      <th>3</th>\n",
       "      <td>ENSG00000000971.15</td>\n",
       "      <td>CFH</td>\n",
       "      <td>protein_coding</td>\n",
       "      <td>ENSG00000000971</td>\n",
       "      <td>1q31.3</td>\n",
       "    </tr>\n",
       "    <tr>\n",
       "      <th>4</th>\n",
       "      <td>ENSG00000001036.13</td>\n",
       "      <td>FUCA2</td>\n",
       "      <td>protein_coding</td>\n",
       "      <td>ENSG00000001036</td>\n",
       "      <td>6q24.2</td>\n",
       "    </tr>\n",
       "  </tbody>\n",
       "</table>\n",
       "</div>"
      ],
      "text/plain": [
       "                 gene gene_name       gene_type          gene_id    band\n",
       "0  ENSG00000000457.13     SCYL3  protein_coding  ENSG00000000457  1q24.2\n",
       "1  ENSG00000000460.16  C1orf112  protein_coding  ENSG00000000460  1q24.2\n",
       "2  ENSG00000000938.12       FGR  protein_coding  ENSG00000000938  1p35.3\n",
       "3  ENSG00000000971.15       CFH  protein_coding  ENSG00000000971  1q31.3\n",
       "4  ENSG00000001036.13     FUCA2  protein_coding  ENSG00000001036  6q24.2"
      ]
     },
     "execution_count": 57,
     "metadata": {},
     "output_type": "execute_result"
    }
   ],
   "source": [
    "metadata.GENES_MAPPINGS.head()"
   ]
  },
  {
   "cell_type": "code",
   "execution_count": 58,
   "metadata": {},
   "outputs": [],
   "source": [
    "_tmp = pd.merge(\n",
    "    publishable_final_results.reset_index(),\n",
    "    metadata.GENES_MAPPINGS[['gene_id', 'gene_name', 'band', 'gene_type']],\n",
    "    on='gene_id',\n",
    "    how='left'\n",
    ").rename(columns={'band': 'gene_band'})"
   ]
  },
  {
   "cell_type": "code",
   "execution_count": 59,
   "metadata": {},
   "outputs": [
    {
     "data": {
      "text/html": [
       "<div>\n",
       "<style scoped>\n",
       "    .dataframe tbody tr th:only-of-type {\n",
       "        vertical-align: middle;\n",
       "    }\n",
       "\n",
       "    .dataframe tbody tr th {\n",
       "        vertical-align: top;\n",
       "    }\n",
       "\n",
       "    .dataframe thead th {\n",
       "        text-align: right;\n",
       "    }\n",
       "</style>\n",
       "<table border=\"1\" class=\"dataframe\">\n",
       "  <thead>\n",
       "    <tr style=\"text-align: right;\">\n",
       "      <th></th>\n",
       "      <th>trait</th>\n",
       "      <th>gene_id</th>\n",
       "      <th>smultixcan_pval</th>\n",
       "      <th>fastenloc_rcp</th>\n",
       "      <th>gene_name</th>\n",
       "      <th>gene_band</th>\n",
       "      <th>gene_type</th>\n",
       "    </tr>\n",
       "  </thead>\n",
       "  <tbody>\n",
       "    <tr>\n",
       "      <th>0</th>\n",
       "      <td>806-Job_involves_mainly_walking_or_standing</td>\n",
       "      <td>ENSG00000067560</td>\n",
       "      <td>2.318351e-12</td>\n",
       "      <td>0.254800</td>\n",
       "      <td>RHOA</td>\n",
       "      <td>3p21.31</td>\n",
       "      <td>protein_coding</td>\n",
       "    </tr>\n",
       "    <tr>\n",
       "      <th>1</th>\n",
       "      <td>806-Job_involves_mainly_walking_or_standing</td>\n",
       "      <td>ENSG00000145022</td>\n",
       "      <td>4.778520e-12</td>\n",
       "      <td>0.363500</td>\n",
       "      <td>TCTA</td>\n",
       "      <td>3p21.31</td>\n",
       "      <td>protein_coding</td>\n",
       "    </tr>\n",
       "    <tr>\n",
       "      <th>2</th>\n",
       "      <td>806-Job_involves_mainly_walking_or_standing</td>\n",
       "      <td>ENSG00000145029</td>\n",
       "      <td>2.400440e-11</td>\n",
       "      <td>0.307000</td>\n",
       "      <td>NICN1</td>\n",
       "      <td>3p21.31</td>\n",
       "      <td>protein_coding</td>\n",
       "    </tr>\n",
       "    <tr>\n",
       "      <th>3</th>\n",
       "      <td>806-Job_involves_mainly_walking_or_standing</td>\n",
       "      <td>ENSG00000164061</td>\n",
       "      <td>1.577103e-11</td>\n",
       "      <td>0.233301</td>\n",
       "      <td>BSN</td>\n",
       "      <td>3p21.31</td>\n",
       "      <td>protein_coding</td>\n",
       "    </tr>\n",
       "    <tr>\n",
       "      <th>4</th>\n",
       "      <td>806-Job_involves_mainly_walking_or_standing</td>\n",
       "      <td>ENSG00000164062</td>\n",
       "      <td>4.626823e-13</td>\n",
       "      <td>0.919720</td>\n",
       "      <td>APEH</td>\n",
       "      <td>3p21.31</td>\n",
       "      <td>protein_coding</td>\n",
       "    </tr>\n",
       "  </tbody>\n",
       "</table>\n",
       "</div>"
      ],
      "text/plain": [
       "                                         trait          gene_id  \\\n",
       "0  806-Job_involves_mainly_walking_or_standing  ENSG00000067560   \n",
       "1  806-Job_involves_mainly_walking_or_standing  ENSG00000145022   \n",
       "2  806-Job_involves_mainly_walking_or_standing  ENSG00000145029   \n",
       "3  806-Job_involves_mainly_walking_or_standing  ENSG00000164061   \n",
       "4  806-Job_involves_mainly_walking_or_standing  ENSG00000164062   \n",
       "\n",
       "   smultixcan_pval  fastenloc_rcp gene_name gene_band       gene_type  \n",
       "0     2.318351e-12       0.254800      RHOA   3p21.31  protein_coding  \n",
       "1     4.778520e-12       0.363500      TCTA   3p21.31  protein_coding  \n",
       "2     2.400440e-11       0.307000     NICN1   3p21.31  protein_coding  \n",
       "3     1.577103e-11       0.233301       BSN   3p21.31  protein_coding  \n",
       "4     4.626823e-13       0.919720      APEH   3p21.31  protein_coding  "
      ]
     },
     "execution_count": 59,
     "metadata": {},
     "output_type": "execute_result"
    }
   ],
   "source": [
    "_tmp.head()"
   ]
  },
  {
   "cell_type": "code",
   "execution_count": 60,
   "metadata": {},
   "outputs": [],
   "source": [
    "publishable_final_results = _tmp.set_index(['trait', 'gene_id'])[['gene_name', 'gene_band', 'gene_type', 'smultixcan_pval', 'fastenloc_rcp']]"
   ]
  },
  {
   "cell_type": "code",
   "execution_count": 61,
   "metadata": {},
   "outputs": [],
   "source": [
    "publishable_final_results = publishable_final_results.sort_index()"
   ]
  },
  {
   "cell_type": "code",
   "execution_count": 62,
   "metadata": {},
   "outputs": [],
   "source": [
    "assert publishable_final_results.index.is_unique"
   ]
  },
  {
   "cell_type": "code",
   "execution_count": 63,
   "metadata": {},
   "outputs": [
    {
     "data": {
      "text/plain": [
       "gene_name          0\n",
       "gene_band          0\n",
       "gene_type          0\n",
       "smultixcan_pval    0\n",
       "fastenloc_rcp      0\n",
       "dtype: int64"
      ]
     },
     "execution_count": 63,
     "metadata": {},
     "output_type": "execute_result"
    }
   ],
   "source": [
    "publishable_final_results.isna().sum()"
   ]
  },
  {
   "cell_type": "code",
   "execution_count": 64,
   "metadata": {},
   "outputs": [
    {
     "data": {
      "text/html": [
       "<div>\n",
       "<style scoped>\n",
       "    .dataframe tbody tr th:only-of-type {\n",
       "        vertical-align: middle;\n",
       "    }\n",
       "\n",
       "    .dataframe tbody tr th {\n",
       "        vertical-align: top;\n",
       "    }\n",
       "\n",
       "    .dataframe thead th {\n",
       "        text-align: right;\n",
       "    }\n",
       "</style>\n",
       "<table border=\"1\" class=\"dataframe\">\n",
       "  <thead>\n",
       "    <tr style=\"text-align: right;\">\n",
       "      <th></th>\n",
       "      <th></th>\n",
       "      <th>gene_name</th>\n",
       "      <th>gene_band</th>\n",
       "      <th>gene_type</th>\n",
       "      <th>smultixcan_pval</th>\n",
       "      <th>fastenloc_rcp</th>\n",
       "    </tr>\n",
       "    <tr>\n",
       "      <th>trait</th>\n",
       "      <th>gene_id</th>\n",
       "      <th></th>\n",
       "      <th></th>\n",
       "      <th></th>\n",
       "      <th></th>\n",
       "      <th></th>\n",
       "    </tr>\n",
       "  </thead>\n",
       "  <tbody>\n",
       "  </tbody>\n",
       "</table>\n",
       "</div>"
      ],
      "text/plain": [
       "Empty DataFrame\n",
       "Columns: [gene_name, gene_band, gene_type, smultixcan_pval, fastenloc_rcp]\n",
       "Index: []"
      ]
     },
     "execution_count": 64,
     "metadata": {},
     "output_type": "execute_result"
    }
   ],
   "source": [
    "publishable_final_results[publishable_final_results['gene_name'].isna()]"
   ]
  },
  {
   "cell_type": "code",
   "execution_count": 65,
   "metadata": {},
   "outputs": [
    {
     "data": {
      "text/html": [
       "<div>\n",
       "<style scoped>\n",
       "    .dataframe tbody tr th:only-of-type {\n",
       "        vertical-align: middle;\n",
       "    }\n",
       "\n",
       "    .dataframe tbody tr th {\n",
       "        vertical-align: top;\n",
       "    }\n",
       "\n",
       "    .dataframe thead th {\n",
       "        text-align: right;\n",
       "    }\n",
       "</style>\n",
       "<table border=\"1\" class=\"dataframe\">\n",
       "  <thead>\n",
       "    <tr style=\"text-align: right;\">\n",
       "      <th></th>\n",
       "      <th></th>\n",
       "      <th>gene_name</th>\n",
       "      <th>gene_band</th>\n",
       "      <th>gene_type</th>\n",
       "      <th>smultixcan_pval</th>\n",
       "      <th>fastenloc_rcp</th>\n",
       "    </tr>\n",
       "    <tr>\n",
       "      <th>trait</th>\n",
       "      <th>gene_id</th>\n",
       "      <th></th>\n",
       "      <th></th>\n",
       "      <th></th>\n",
       "      <th></th>\n",
       "      <th></th>\n",
       "    </tr>\n",
       "  </thead>\n",
       "  <tbody>\n",
       "    <tr>\n",
       "      <th rowspan=\"5\" valign=\"top\">102_raw-Pulse_rate_automated_reading</th>\n",
       "      <th>ENSG00000031003</th>\n",
       "      <td>FAM13B</td>\n",
       "      <td>5q31.2</td>\n",
       "      <td>protein_coding</td>\n",
       "      <td>9.316678e-29</td>\n",
       "      <td>0.868600</td>\n",
       "    </tr>\n",
       "    <tr>\n",
       "      <th>ENSG00000064989</th>\n",
       "      <td>CALCRL</td>\n",
       "      <td>2q32.1</td>\n",
       "      <td>protein_coding</td>\n",
       "      <td>1.553027e-22</td>\n",
       "      <td>0.863200</td>\n",
       "    </tr>\n",
       "    <tr>\n",
       "      <th>ENSG00000072195</th>\n",
       "      <td>SPEG</td>\n",
       "      <td>2q35</td>\n",
       "      <td>protein_coding</td>\n",
       "      <td>1.707185e-38</td>\n",
       "      <td>0.877000</td>\n",
       "    </tr>\n",
       "    <tr>\n",
       "      <th>ENSG00000075420</th>\n",
       "      <td>FNDC3B</td>\n",
       "      <td>3q26.31</td>\n",
       "      <td>protein_coding</td>\n",
       "      <td>2.695478e-24</td>\n",
       "      <td>0.841100</td>\n",
       "    </tr>\n",
       "    <tr>\n",
       "      <th>ENSG00000075702</th>\n",
       "      <td>WDR62</td>\n",
       "      <td>19q13.12</td>\n",
       "      <td>protein_coding</td>\n",
       "      <td>8.858931e-11</td>\n",
       "      <td>1.257727</td>\n",
       "    </tr>\n",
       "  </tbody>\n",
       "</table>\n",
       "</div>"
      ],
      "text/plain": [
       "                                                     gene_name gene_band  \\\n",
       "trait                                gene_id                               \n",
       "102_raw-Pulse_rate_automated_reading ENSG00000031003    FAM13B    5q31.2   \n",
       "                                     ENSG00000064989    CALCRL    2q32.1   \n",
       "                                     ENSG00000072195      SPEG      2q35   \n",
       "                                     ENSG00000075420    FNDC3B   3q26.31   \n",
       "                                     ENSG00000075702     WDR62  19q13.12   \n",
       "\n",
       "                                                           gene_type  \\\n",
       "trait                                gene_id                           \n",
       "102_raw-Pulse_rate_automated_reading ENSG00000031003  protein_coding   \n",
       "                                     ENSG00000064989  protein_coding   \n",
       "                                     ENSG00000072195  protein_coding   \n",
       "                                     ENSG00000075420  protein_coding   \n",
       "                                     ENSG00000075702  protein_coding   \n",
       "\n",
       "                                                      smultixcan_pval  \\\n",
       "trait                                gene_id                            \n",
       "102_raw-Pulse_rate_automated_reading ENSG00000031003     9.316678e-29   \n",
       "                                     ENSG00000064989     1.553027e-22   \n",
       "                                     ENSG00000072195     1.707185e-38   \n",
       "                                     ENSG00000075420     2.695478e-24   \n",
       "                                     ENSG00000075702     8.858931e-11   \n",
       "\n",
       "                                                      fastenloc_rcp  \n",
       "trait                                gene_id                         \n",
       "102_raw-Pulse_rate_automated_reading ENSG00000031003       0.868600  \n",
       "                                     ENSG00000064989       0.863200  \n",
       "                                     ENSG00000072195       0.877000  \n",
       "                                     ENSG00000075420       0.841100  \n",
       "                                     ENSG00000075702       1.257727  "
      ]
     },
     "execution_count": 65,
     "metadata": {},
     "output_type": "execute_result"
    }
   ],
   "source": [
    "publishable_final_results.head()"
   ]
  },
  {
   "cell_type": "code",
   "execution_count": 66,
   "metadata": {},
   "outputs": [
    {
     "data": {
      "text/plain": [
       "(22473, 5)"
      ]
     },
     "execution_count": 66,
     "metadata": {},
     "output_type": "execute_result"
    }
   ],
   "source": [
    "publishable_final_results.shape"
   ]
  },
  {
   "cell_type": "code",
   "execution_count": 67,
   "metadata": {},
   "outputs": [],
   "source": [
    "# some testing\n",
    "_result = publishable_final_results.loc[('1180-Morningevening_person_chronotype', metadata.GENE_NAME_TO_ID_MAP['VIP'])]\n",
    "assert _result['smultixcan_pval'] == 1.8124965657173678e-17\n",
    "assert _result['fastenloc_rcp'] == 0.30421"
   ]
  },
  {
   "cell_type": "code",
   "execution_count": 68,
   "metadata": {},
   "outputs": [],
   "source": [
    "# some testing\n",
    "_result = publishable_final_results.loc[('1180-Morningevening_person_chronotype', metadata.GENE_NAME_TO_ID_MAP['RP11-220I1.5'])]\n",
    "assert _result['smultixcan_pval'] == 6.426619359444203e-11\n",
    "assert _result['fastenloc_rcp'] == 0.2150000007971"
   ]
  },
  {
   "cell_type": "code",
   "execution_count": 69,
   "metadata": {},
   "outputs": [
    {
     "data": {
      "text/plain": [
       "'/mnt/phenomexcan_base/deliverables/supp_tables/suppl_table_S1-significant_gene_trait_associations.tsv.gz'"
      ]
     },
     "metadata": {},
     "output_type": "display_data"
    }
   ],
   "source": [
    "# for publication (tsv.gz)\n",
    "output_folder = os.path.join(conf.DELIVERABLES_DIR, 'supp_tables')\n",
    "os.makedirs(output_folder, exist_ok=True)\n",
    "output_file = os.path.join(output_folder, 'suppl_table_S1-significant_gene_trait_associations.tsv.gz')\n",
    "display(output_file)\n",
    "\n",
    "publishable_final_results.to_csv(output_file, sep='\\t', float_format='%.4e')"
   ]
  },
  {
   "cell_type": "code",
   "execution_count": 70,
   "metadata": {},
   "outputs": [],
   "source": [
    "# some testing\n",
    "_tmp = pd.read_csv(output_file, sep='\\t')"
   ]
  },
  {
   "cell_type": "code",
   "execution_count": 71,
   "metadata": {},
   "outputs": [],
   "source": [
    "assert publishable_final_results.shape == _tmp.set_index(['trait', 'gene_id']).shape"
   ]
  },
  {
   "cell_type": "code",
   "execution_count": 72,
   "metadata": {},
   "outputs": [
    {
     "data": {
      "text/plain": [
       "(22473, 7)"
      ]
     },
     "execution_count": 72,
     "metadata": {},
     "output_type": "execute_result"
    }
   ],
   "source": [
    "_tmp.shape"
   ]
  },
  {
   "cell_type": "code",
   "execution_count": 73,
   "metadata": {},
   "outputs": [
    {
     "data": {
      "text/html": [
       "<div>\n",
       "<style scoped>\n",
       "    .dataframe tbody tr th:only-of-type {\n",
       "        vertical-align: middle;\n",
       "    }\n",
       "\n",
       "    .dataframe tbody tr th {\n",
       "        vertical-align: top;\n",
       "    }\n",
       "\n",
       "    .dataframe thead th {\n",
       "        text-align: right;\n",
       "    }\n",
       "</style>\n",
       "<table border=\"1\" class=\"dataframe\">\n",
       "  <thead>\n",
       "    <tr style=\"text-align: right;\">\n",
       "      <th></th>\n",
       "      <th>trait</th>\n",
       "      <th>gene_id</th>\n",
       "      <th>gene_name</th>\n",
       "      <th>gene_band</th>\n",
       "      <th>gene_type</th>\n",
       "      <th>smultixcan_pval</th>\n",
       "      <th>fastenloc_rcp</th>\n",
       "    </tr>\n",
       "  </thead>\n",
       "  <tbody>\n",
       "    <tr>\n",
       "      <th>0</th>\n",
       "      <td>102_raw-Pulse_rate_automated_reading</td>\n",
       "      <td>ENSG00000031003</td>\n",
       "      <td>FAM13B</td>\n",
       "      <td>5q31.2</td>\n",
       "      <td>protein_coding</td>\n",
       "      <td>9.316700e-29</td>\n",
       "      <td>0.8686</td>\n",
       "    </tr>\n",
       "    <tr>\n",
       "      <th>1</th>\n",
       "      <td>102_raw-Pulse_rate_automated_reading</td>\n",
       "      <td>ENSG00000064989</td>\n",
       "      <td>CALCRL</td>\n",
       "      <td>2q32.1</td>\n",
       "      <td>protein_coding</td>\n",
       "      <td>1.553000e-22</td>\n",
       "      <td>0.8632</td>\n",
       "    </tr>\n",
       "    <tr>\n",
       "      <th>2</th>\n",
       "      <td>102_raw-Pulse_rate_automated_reading</td>\n",
       "      <td>ENSG00000072195</td>\n",
       "      <td>SPEG</td>\n",
       "      <td>2q35</td>\n",
       "      <td>protein_coding</td>\n",
       "      <td>1.707200e-38</td>\n",
       "      <td>0.8770</td>\n",
       "    </tr>\n",
       "    <tr>\n",
       "      <th>3</th>\n",
       "      <td>102_raw-Pulse_rate_automated_reading</td>\n",
       "      <td>ENSG00000075420</td>\n",
       "      <td>FNDC3B</td>\n",
       "      <td>3q26.31</td>\n",
       "      <td>protein_coding</td>\n",
       "      <td>2.695500e-24</td>\n",
       "      <td>0.8411</td>\n",
       "    </tr>\n",
       "    <tr>\n",
       "      <th>4</th>\n",
       "      <td>102_raw-Pulse_rate_automated_reading</td>\n",
       "      <td>ENSG00000075702</td>\n",
       "      <td>WDR62</td>\n",
       "      <td>19q13.12</td>\n",
       "      <td>protein_coding</td>\n",
       "      <td>8.858900e-11</td>\n",
       "      <td>1.2577</td>\n",
       "    </tr>\n",
       "  </tbody>\n",
       "</table>\n",
       "</div>"
      ],
      "text/plain": [
       "                                  trait          gene_id gene_name gene_band  \\\n",
       "0  102_raw-Pulse_rate_automated_reading  ENSG00000031003    FAM13B    5q31.2   \n",
       "1  102_raw-Pulse_rate_automated_reading  ENSG00000064989    CALCRL    2q32.1   \n",
       "2  102_raw-Pulse_rate_automated_reading  ENSG00000072195      SPEG      2q35   \n",
       "3  102_raw-Pulse_rate_automated_reading  ENSG00000075420    FNDC3B   3q26.31   \n",
       "4  102_raw-Pulse_rate_automated_reading  ENSG00000075702     WDR62  19q13.12   \n",
       "\n",
       "        gene_type  smultixcan_pval  fastenloc_rcp  \n",
       "0  protein_coding     9.316700e-29         0.8686  \n",
       "1  protein_coding     1.553000e-22         0.8632  \n",
       "2  protein_coding     1.707200e-38         0.8770  \n",
       "3  protein_coding     2.695500e-24         0.8411  \n",
       "4  protein_coding     8.858900e-11         1.2577  "
      ]
     },
     "execution_count": 73,
     "metadata": {},
     "output_type": "execute_result"
    }
   ],
   "source": [
    "_tmp.head()"
   ]
  },
  {
   "cell_type": "code",
   "execution_count": 74,
   "metadata": {},
   "outputs": [],
   "source": [
    "_tmp = _tmp.set_index(['trait', 'gene_id'])"
   ]
  },
  {
   "cell_type": "code",
   "execution_count": 75,
   "metadata": {},
   "outputs": [],
   "source": [
    "_result = _tmp.loc[('1180-Morningevening_person_chronotype', metadata.GENE_NAME_TO_ID_MAP['VIP'])]\n",
    "assert _result['smultixcan_pval'] == 1.8125e-17\n",
    "assert _result['fastenloc_rcp'] == 0.30421\n",
    "\n",
    "_result = _tmp.loc[('1180-Morningevening_person_chronotype', metadata.GENE_NAME_TO_ID_MAP['RP11-220I1.5'])]\n",
    "assert _result['smultixcan_pval'] == 6.4266e-11\n",
    "assert _result['fastenloc_rcp'] == 0.2150"
   ]
  },
  {
   "cell_type": "code",
   "execution_count": 76,
   "metadata": {},
   "outputs": [],
   "source": [
    "assert np.allclose(\n",
    "    _tmp[['smultixcan_pval', 'fastenloc_rcp']].values,\n",
    "    publishable_final_results[['smultixcan_pval', 'fastenloc_rcp']].values,\n",
    "    atol=1e-320,\n",
    "    rtol=1e-4\n",
    ")"
   ]
  },
  {
   "cell_type": "code",
   "execution_count": 77,
   "metadata": {},
   "outputs": [
    {
     "data": {
      "text/plain": [
       "'/mnt/phenomexcan_base/deliverables/supp_tables/suppl_table_S1-significant_gene_trait_associations.xlsx'"
      ]
     },
     "metadata": {},
     "output_type": "display_data"
    }
   ],
   "source": [
    "# for publication (xlsx)\n",
    "output_folder = os.path.join(conf.DELIVERABLES_DIR, 'supp_tables')\n",
    "os.makedirs(output_folder, exist_ok=True)\n",
    "output_file = os.path.join(output_folder, 'suppl_table_S1-significant_gene_trait_associations.xlsx')\n",
    "display(output_file)\n",
    "\n",
    "publishable_final_results.reset_index().to_excel(output_file, index=False, float_format='%.4e')"
   ]
  },
  {
   "cell_type": "code",
   "execution_count": 78,
   "metadata": {},
   "outputs": [],
   "source": [
    "# some testing\n",
    "_tmp = pd.read_excel(output_file)"
   ]
  },
  {
   "cell_type": "code",
   "execution_count": 79,
   "metadata": {},
   "outputs": [],
   "source": [
    "assert publishable_final_results.shape == _tmp.set_index(['trait', 'gene_id']).shape"
   ]
  },
  {
   "cell_type": "code",
   "execution_count": 80,
   "metadata": {},
   "outputs": [
    {
     "data": {
      "text/plain": [
       "(22473, 7)"
      ]
     },
     "execution_count": 80,
     "metadata": {},
     "output_type": "execute_result"
    }
   ],
   "source": [
    "_tmp.shape"
   ]
  },
  {
   "cell_type": "code",
   "execution_count": 81,
   "metadata": {},
   "outputs": [
    {
     "data": {
      "text/html": [
       "<div>\n",
       "<style scoped>\n",
       "    .dataframe tbody tr th:only-of-type {\n",
       "        vertical-align: middle;\n",
       "    }\n",
       "\n",
       "    .dataframe tbody tr th {\n",
       "        vertical-align: top;\n",
       "    }\n",
       "\n",
       "    .dataframe thead th {\n",
       "        text-align: right;\n",
       "    }\n",
       "</style>\n",
       "<table border=\"1\" class=\"dataframe\">\n",
       "  <thead>\n",
       "    <tr style=\"text-align: right;\">\n",
       "      <th></th>\n",
       "      <th>trait</th>\n",
       "      <th>gene_id</th>\n",
       "      <th>gene_name</th>\n",
       "      <th>gene_band</th>\n",
       "      <th>gene_type</th>\n",
       "      <th>smultixcan_pval</th>\n",
       "      <th>fastenloc_rcp</th>\n",
       "    </tr>\n",
       "  </thead>\n",
       "  <tbody>\n",
       "    <tr>\n",
       "      <th>0</th>\n",
       "      <td>102_raw-Pulse_rate_automated_reading</td>\n",
       "      <td>ENSG00000031003</td>\n",
       "      <td>FAM13B</td>\n",
       "      <td>5q31.2</td>\n",
       "      <td>protein_coding</td>\n",
       "      <td>9.316700e-29</td>\n",
       "      <td>0.8686</td>\n",
       "    </tr>\n",
       "    <tr>\n",
       "      <th>1</th>\n",
       "      <td>102_raw-Pulse_rate_automated_reading</td>\n",
       "      <td>ENSG00000064989</td>\n",
       "      <td>CALCRL</td>\n",
       "      <td>2q32.1</td>\n",
       "      <td>protein_coding</td>\n",
       "      <td>1.553000e-22</td>\n",
       "      <td>0.8632</td>\n",
       "    </tr>\n",
       "    <tr>\n",
       "      <th>2</th>\n",
       "      <td>102_raw-Pulse_rate_automated_reading</td>\n",
       "      <td>ENSG00000072195</td>\n",
       "      <td>SPEG</td>\n",
       "      <td>2q35</td>\n",
       "      <td>protein_coding</td>\n",
       "      <td>1.707200e-38</td>\n",
       "      <td>0.8770</td>\n",
       "    </tr>\n",
       "    <tr>\n",
       "      <th>3</th>\n",
       "      <td>102_raw-Pulse_rate_automated_reading</td>\n",
       "      <td>ENSG00000075420</td>\n",
       "      <td>FNDC3B</td>\n",
       "      <td>3q26.31</td>\n",
       "      <td>protein_coding</td>\n",
       "      <td>2.695500e-24</td>\n",
       "      <td>0.8411</td>\n",
       "    </tr>\n",
       "    <tr>\n",
       "      <th>4</th>\n",
       "      <td>102_raw-Pulse_rate_automated_reading</td>\n",
       "      <td>ENSG00000075702</td>\n",
       "      <td>WDR62</td>\n",
       "      <td>19q13.12</td>\n",
       "      <td>protein_coding</td>\n",
       "      <td>8.858900e-11</td>\n",
       "      <td>1.2577</td>\n",
       "    </tr>\n",
       "  </tbody>\n",
       "</table>\n",
       "</div>"
      ],
      "text/plain": [
       "                                  trait          gene_id gene_name gene_band  \\\n",
       "0  102_raw-Pulse_rate_automated_reading  ENSG00000031003    FAM13B    5q31.2   \n",
       "1  102_raw-Pulse_rate_automated_reading  ENSG00000064989    CALCRL    2q32.1   \n",
       "2  102_raw-Pulse_rate_automated_reading  ENSG00000072195      SPEG      2q35   \n",
       "3  102_raw-Pulse_rate_automated_reading  ENSG00000075420    FNDC3B   3q26.31   \n",
       "4  102_raw-Pulse_rate_automated_reading  ENSG00000075702     WDR62  19q13.12   \n",
       "\n",
       "        gene_type  smultixcan_pval  fastenloc_rcp  \n",
       "0  protein_coding     9.316700e-29         0.8686  \n",
       "1  protein_coding     1.553000e-22         0.8632  \n",
       "2  protein_coding     1.707200e-38         0.8770  \n",
       "3  protein_coding     2.695500e-24         0.8411  \n",
       "4  protein_coding     8.858900e-11         1.2577  "
      ]
     },
     "execution_count": 81,
     "metadata": {},
     "output_type": "execute_result"
    }
   ],
   "source": [
    "_tmp.head()"
   ]
  },
  {
   "cell_type": "code",
   "execution_count": 82,
   "metadata": {},
   "outputs": [],
   "source": [
    "_tmp = _tmp.set_index(['trait', 'gene_id'])"
   ]
  },
  {
   "cell_type": "code",
   "execution_count": 83,
   "metadata": {},
   "outputs": [],
   "source": [
    "_result = _tmp.loc[('1180-Morningevening_person_chronotype', metadata.GENE_NAME_TO_ID_MAP['VIP'])]\n",
    "assert _result['smultixcan_pval'] == 1.8125e-17\n",
    "assert _result['fastenloc_rcp'] == 0.30421\n",
    "\n",
    "_result = _tmp.loc[('1180-Morningevening_person_chronotype', metadata.GENE_NAME_TO_ID_MAP['RP11-220I1.5'])]\n",
    "assert _result['smultixcan_pval'] == 6.4266e-11\n",
    "assert _result['fastenloc_rcp'] == 0.2150"
   ]
  },
  {
   "cell_type": "code",
   "execution_count": 84,
   "metadata": {},
   "outputs": [],
   "source": [
    "assert np.allclose(\n",
    "    _tmp[['smultixcan_pval', 'fastenloc_rcp']].values,\n",
    "    publishable_final_results[['smultixcan_pval', 'fastenloc_rcp']].values,\n",
    "    atol=1e-320,\n",
    "    rtol=1e-4\n",
    ")"
   ]
  },
  {
   "cell_type": "markdown",
   "metadata": {},
   "source": [
    "# Code below needs to be moved out from here"
   ]
  },
  {
   "cell_type": "markdown",
   "metadata": {},
   "source": [
    "# QQ plots"
   ]
  },
  {
   "cell_type": "code",
   "execution_count": 85,
   "metadata": {},
   "outputs": [
    {
     "ename": "ModuleNotFoundError",
     "evalue": "No module named 'plots'",
     "output_type": "error",
     "traceback": [
      "\u001b[0;31m---------------------------------------------------------------------------\u001b[0m",
      "\u001b[0;31mModuleNotFoundError\u001b[0m                       Traceback (most recent call last)",
      "\u001b[0;32m<ipython-input-85-ad4dce92ecfd>\u001b[0m in \u001b[0;36m<module>\u001b[0;34m\u001b[0m\n\u001b[0;32m----> 1\u001b[0;31m \u001b[0;32mimport\u001b[0m \u001b[0mplots\u001b[0m\u001b[0;34m\u001b[0m\u001b[0;34m\u001b[0m\u001b[0m\n\u001b[0m\u001b[1;32m      2\u001b[0m \u001b[0;32mfrom\u001b[0m \u001b[0mclustering\u001b[0m\u001b[0;34m.\u001b[0m\u001b[0mbiclustering\u001b[0m\u001b[0;34m.\u001b[0m\u001b[0manalysis\u001b[0m \u001b[0;32mimport\u001b[0m \u001b[0mTrait\u001b[0m\u001b[0;34m\u001b[0m\u001b[0;34m\u001b[0m\u001b[0m\n",
      "\u001b[0;31mModuleNotFoundError\u001b[0m: No module named 'plots'"
     ]
    }
   ],
   "source": [
    "import plots\n",
    "from clustering.biclustering.analysis import Trait"
   ]
  },
  {
   "cell_type": "markdown",
   "metadata": {},
   "source": [
    "# Cholesterol"
   ]
  },
  {
   "cell_type": "code",
   "execution_count": null,
   "metadata": {},
   "outputs": [],
   "source": [
    "spredixcan_genes_associations.columns[spredixcan_genes_associations.columns.str.lower().str.contains('cholesterol')]"
   ]
  },
  {
   "cell_type": "code",
   "execution_count": null,
   "metadata": {},
   "outputs": [],
   "source": [
    "pheno_plain_name = '20002_1473-Noncancer_illness_code_selfreported_high_cholesterol'"
   ]
  },
  {
   "cell_type": "code",
   "execution_count": null,
   "metadata": {},
   "outputs": [],
   "source": [
    "pheno_pvalues = pd.Series(spredixcan_genes_associations[pheno_plain_name].values.flatten())\n",
    "display(pheno_pvalues.shape)"
   ]
  },
  {
   "cell_type": "code",
   "execution_count": null,
   "metadata": {},
   "outputs": [],
   "source": [
    "threshold = 1e-30\n",
    "\n",
    "unif_values = np.linspace(0.0001, 1, num=pheno_pvalues.shape[0])\n",
    "unif_values[unif_values < threshold] = threshold\n",
    "\n",
    "real_values = pheno_pvalues\n",
    "real_values[real_values < threshold] = threshold\n",
    "\n",
    "df = pd.DataFrame({'unif': unif_values, 'real': real_values})\n",
    "display(df.shape)"
   ]
  },
  {
   "cell_type": "code",
   "execution_count": null,
   "metadata": {},
   "outputs": [],
   "source": [
    "df_plot = df\n",
    "\n",
    "ax = plots.qqplot(-np.log10(df_plot), 'unif', 'real', xlabel='Expected $-\\log_{10}(p)$', ylabel='Observed $-\\log_{10}(p)$', s=5, linewidth=0)\n",
    "ax.set_xlim([0, 5])\n",
    "ax.set_title(Trait(pheno_plain_name).get_pretty_name())"
   ]
  },
  {
   "cell_type": "markdown",
   "metadata": {},
   "source": [
    "# Height"
   ]
  },
  {
   "cell_type": "code",
   "execution_count": null,
   "metadata": {},
   "outputs": [],
   "source": [
    "spredixcan_genes_associations.columns[spredixcan_genes_associations.columns.str.lower().str.contains('height')]"
   ]
  },
  {
   "cell_type": "code",
   "execution_count": null,
   "metadata": {},
   "outputs": [],
   "source": [
    "pheno_plain_name = '50_raw-Standing_height'"
   ]
  },
  {
   "cell_type": "code",
   "execution_count": null,
   "metadata": {},
   "outputs": [],
   "source": [
    "pheno_pvalues = pd.Series(spredixcan_genes_associations[pheno_plain_name].values.flatten())\n",
    "display(pheno_pvalues.shape)"
   ]
  },
  {
   "cell_type": "code",
   "execution_count": null,
   "metadata": {},
   "outputs": [],
   "source": [
    "threshold = 1e-30\n",
    "\n",
    "unif_values = np.linspace(0.0001, 1, num=pheno_pvalues.shape[0])\n",
    "unif_values[unif_values < threshold] = threshold\n",
    "\n",
    "real_values = pheno_pvalues\n",
    "real_values[real_values < threshold] = threshold\n",
    "\n",
    "df = pd.DataFrame({'unif': unif_values, 'real': real_values})\n",
    "display(df.shape)"
   ]
  },
  {
   "cell_type": "code",
   "execution_count": null,
   "metadata": {},
   "outputs": [],
   "source": [
    "df_plot = df\n",
    "\n",
    "ax = plots.qqplot(-np.log10(df_plot), 'unif', 'real', xlabel='Expected $-\\log_{10}(p)$', ylabel='Observed $-\\log_{10}(p)$', s=5, linewidth=0)\n",
    "ax.set_xlim([0, 5])\n",
    "ax.set_title(Trait(pheno_plain_name).get_pretty_name())"
   ]
  },
  {
   "cell_type": "markdown",
   "metadata": {},
   "source": [
    "# Schizophrenia"
   ]
  },
  {
   "cell_type": "code",
   "execution_count": null,
   "metadata": {},
   "outputs": [],
   "source": [
    "spredixcan_genes_associations.columns[spredixcan_genes_associations.columns.str.lower().str.contains('schizophrenia')]"
   ]
  },
  {
   "cell_type": "code",
   "execution_count": null,
   "metadata": {},
   "outputs": [],
   "source": [
    "pheno_plain_name = '20002_1289-Noncancer_illness_code_selfreported_schizophrenia'"
   ]
  },
  {
   "cell_type": "code",
   "execution_count": null,
   "metadata": {},
   "outputs": [],
   "source": [
    "pheno_pvalues = pd.Series(spredixcan_genes_associations[pheno_plain_name].values.flatten())\n",
    "display(pheno_pvalues.shape)"
   ]
  },
  {
   "cell_type": "code",
   "execution_count": null,
   "metadata": {},
   "outputs": [],
   "source": [
    "threshold = 1e-30\n",
    "\n",
    "unif_values = np.linspace(0.0001, 1, num=pheno_pvalues.shape[0])\n",
    "unif_values[unif_values < threshold] = threshold\n",
    "\n",
    "real_values = pheno_pvalues\n",
    "real_values[real_values < threshold] = threshold\n",
    "\n",
    "df = pd.DataFrame({'unif': unif_values, 'real': real_values})\n",
    "display(df.shape)"
   ]
  },
  {
   "cell_type": "code",
   "execution_count": null,
   "metadata": {},
   "outputs": [],
   "source": [
    "df_plot = df\n",
    "\n",
    "ax = plots.qqplot(-np.log10(df_plot), 'unif', 'real', xlabel='Expected $-\\log_{10}(p)$', ylabel='Observed $-\\log_{10}(p)$', s=5, linewidth=0)\n",
    "ax.set_xlim([0, 5])\n",
    "ax.set_title(Trait(pheno_plain_name).get_pretty_name())"
   ]
  },
  {
   "cell_type": "markdown",
   "metadata": {},
   "source": [
    "# All p-values"
   ]
  },
  {
   "cell_type": "code",
   "execution_count": null,
   "metadata": {},
   "outputs": [],
   "source": [
    "threshold = 1e-30\n",
    "\n",
    "unif_values = np.linspace(0.0001, 1, num=all_pvalues.shape[0])\n",
    "unif_values[unif_values < threshold] = threshold\n",
    "\n",
    "real_values = all_pvalues\n",
    "real_values[real_values < threshold] = threshold\n",
    "\n",
    "df = pd.DataFrame({'unif': unif_values, 'real': real_values})"
   ]
  },
  {
   "cell_type": "code",
   "execution_count": null,
   "metadata": {},
   "outputs": [],
   "source": [
    "df_plot = df\n",
    "\n",
    "ax = plots.qqplot(-np.log10(df_plot), 'unif', 'real', xlabel='Expected $-\\log_{10}(p)$', ylabel='Observed $-\\log_{10}(p)$', s=5, linewidth=0)\n",
    "ax.set_xlim([0, 5])"
   ]
  },
  {
   "cell_type": "code",
   "execution_count": null,
   "metadata": {},
   "outputs": [],
   "source": []
  }
 ],
 "metadata": {
  "kernelspec": {
   "display_name": "Python 3",
   "language": "python",
   "name": "python3"
  },
  "language_info": {
   "codemirror_mode": {
    "name": "ipython",
    "version": 3
   },
   "file_extension": ".py",
   "mimetype": "text/x-python",
   "name": "python",
   "nbconvert_exporter": "python",
   "pygments_lexer": "ipython3",
   "version": "3.7.5"
  }
 },
 "nbformat": 4,
 "nbformat_minor": 4
}
