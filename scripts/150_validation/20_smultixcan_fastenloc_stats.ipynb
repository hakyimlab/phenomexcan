{
 "cells": [
  {
   "cell_type": "code",
   "execution_count": 1,
   "metadata": {},
   "outputs": [],
   "source": [
    "%load_ext autoreload\n",
    "%autoreload 2"
   ]
  },
  {
   "cell_type": "code",
   "execution_count": 2,
   "metadata": {},
   "outputs": [],
   "source": [
    "import os\n",
    "import pickle\n",
    "\n",
    "import numpy as np\n",
    "import pandas as pd\n",
    "\n",
    "import utils.constants as constants"
   ]
  },
  {
   "cell_type": "code",
   "execution_count": 3,
   "metadata": {},
   "outputs": [],
   "source": [
    "genes_associations_dir = os.path.join(constants.PREPROCESSED_BASED_DIR, 'gene_associations')\n",
    "smultixcan_gene_association_dirs = os.path.join(genes_associations_dir, 'mashr')"
   ]
  },
  {
   "cell_type": "markdown",
   "metadata": {},
   "source": [
    "# Load all S-PrediXcan gene mappings"
   ]
  },
  {
   "cell_type": "code",
   "execution_count": 4,
   "metadata": {},
   "outputs": [],
   "source": [
    "with open(os.path.join(constants.PREPROCESSED_METADATA_DIR, 'genes_mapping_simplified-0.pkl'), 'rb') as f:\n",
    "    genes_mapping_0 = pickle.load(f)\n",
    "\n",
    "with open(os.path.join(constants.PREPROCESSED_METADATA_DIR, 'genes_mapping_simplified-1.pkl'), 'rb') as f:\n",
    "    genes_mapping_1 = pickle.load(f)"
   ]
  },
  {
   "cell_type": "code",
   "execution_count": 5,
   "metadata": {},
   "outputs": [],
   "source": [
    "genes_mappings = pd.read_pickle(os.path.join(constants.PREPROCESSED_METADATA_DIR, 'genes_mappings.pkl'))"
   ]
  },
  {
   "cell_type": "code",
   "execution_count": 6,
   "metadata": {},
   "outputs": [
    {
     "data": {
      "text/html": [
       "<div>\n",
       "<style scoped>\n",
       "    .dataframe tbody tr th:only-of-type {\n",
       "        vertical-align: middle;\n",
       "    }\n",
       "\n",
       "    .dataframe tbody tr th {\n",
       "        vertical-align: top;\n",
       "    }\n",
       "\n",
       "    .dataframe thead th {\n",
       "        text-align: right;\n",
       "    }\n",
       "</style>\n",
       "<table border=\"1\" class=\"dataframe\">\n",
       "  <thead>\n",
       "    <tr style=\"text-align: right;\">\n",
       "      <th></th>\n",
       "      <th>gene</th>\n",
       "      <th>genename</th>\n",
       "      <th>gene_type</th>\n",
       "      <th>gene_id</th>\n",
       "      <th>band</th>\n",
       "    </tr>\n",
       "  </thead>\n",
       "  <tbody>\n",
       "    <tr>\n",
       "      <th>0</th>\n",
       "      <td>ENSG00000000457.13</td>\n",
       "      <td>SCYL3</td>\n",
       "      <td>protein_coding</td>\n",
       "      <td>ENSG00000000457</td>\n",
       "      <td>1q24.2</td>\n",
       "    </tr>\n",
       "    <tr>\n",
       "      <th>1</th>\n",
       "      <td>ENSG00000000460.16</td>\n",
       "      <td>C1orf112</td>\n",
       "      <td>protein_coding</td>\n",
       "      <td>ENSG00000000460</td>\n",
       "      <td>1q24.2</td>\n",
       "    </tr>\n",
       "    <tr>\n",
       "      <th>2</th>\n",
       "      <td>ENSG00000000938.12</td>\n",
       "      <td>FGR</td>\n",
       "      <td>protein_coding</td>\n",
       "      <td>ENSG00000000938</td>\n",
       "      <td>1p35.3</td>\n",
       "    </tr>\n",
       "    <tr>\n",
       "      <th>3</th>\n",
       "      <td>ENSG00000000971.15</td>\n",
       "      <td>CFH</td>\n",
       "      <td>protein_coding</td>\n",
       "      <td>ENSG00000000971</td>\n",
       "      <td>1q31.3</td>\n",
       "    </tr>\n",
       "    <tr>\n",
       "      <th>4</th>\n",
       "      <td>ENSG00000001036.13</td>\n",
       "      <td>FUCA2</td>\n",
       "      <td>protein_coding</td>\n",
       "      <td>ENSG00000001036</td>\n",
       "      <td>6q24.2</td>\n",
       "    </tr>\n",
       "  </tbody>\n",
       "</table>\n",
       "</div>"
      ],
      "text/plain": [
       "                 gene  genename       gene_type          gene_id    band\n",
       "0  ENSG00000000457.13     SCYL3  protein_coding  ENSG00000000457  1q24.2\n",
       "1  ENSG00000000460.16  C1orf112  protein_coding  ENSG00000000460  1q24.2\n",
       "2  ENSG00000000938.12       FGR  protein_coding  ENSG00000000938  1p35.3\n",
       "3  ENSG00000000971.15       CFH  protein_coding  ENSG00000000971  1q31.3\n",
       "4  ENSG00000001036.13     FUCA2  protein_coding  ENSG00000001036  6q24.2"
      ]
     },
     "execution_count": 6,
     "metadata": {},
     "output_type": "execute_result"
    }
   ],
   "source": [
    "genes_mappings.head()"
   ]
  },
  {
   "cell_type": "markdown",
   "metadata": {},
   "source": [
    "# Load S-PrediXcan results"
   ]
  },
  {
   "cell_type": "code",
   "execution_count": 7,
   "metadata": {},
   "outputs": [
    {
     "data": {
      "text/plain": [
       "'/mnt/phenomexcan/results/deliverables/internal/smultixcan-mash_models-pvalues.pkl.xz'"
      ]
     },
     "metadata": {},
     "output_type": "display_data"
    }
   ],
   "source": [
    "smultixcan_pvalues_file = os.path.join(constants.DELIVERABLES_RESULTS_DIR, 'internal', 'smultixcan-mash_models-pvalues.pkl.xz')\n",
    "display(smultixcan_pvalues_file)"
   ]
  },
  {
   "cell_type": "code",
   "execution_count": 8,
   "metadata": {},
   "outputs": [],
   "source": [
    "smultixcan_gene_associations = pd.read_pickle(smultixcan_pvalues_file)"
   ]
  },
  {
   "cell_type": "code",
   "execution_count": 9,
   "metadata": {},
   "outputs": [
    {
     "data": {
      "text/plain": [
       "(22515, 4091)"
      ]
     },
     "execution_count": 9,
     "metadata": {},
     "output_type": "execute_result"
    }
   ],
   "source": [
    "smultixcan_gene_associations.shape"
   ]
  },
  {
   "cell_type": "code",
   "execution_count": 10,
   "metadata": {},
   "outputs": [
    {
     "data": {
      "text/html": [
       "<div>\n",
       "<style scoped>\n",
       "    .dataframe tbody tr th:only-of-type {\n",
       "        vertical-align: middle;\n",
       "    }\n",
       "\n",
       "    .dataframe tbody tr th {\n",
       "        vertical-align: top;\n",
       "    }\n",
       "\n",
       "    .dataframe thead th {\n",
       "        text-align: right;\n",
       "    }\n",
       "</style>\n",
       "<table border=\"1\" class=\"dataframe\">\n",
       "  <thead>\n",
       "    <tr style=\"text-align: right;\">\n",
       "      <th></th>\n",
       "      <th>D3_ANAEMIA_IRONDEF-Iron_deficiency_anaemia</th>\n",
       "      <th>C54-Diagnoses_main_ICD10_C54_Malignant_neoplasm_of_corpus_uteri</th>\n",
       "      <th>N35-Diagnoses_main_ICD10_N35_Urethral_stricture</th>\n",
       "      <th>20521-Belittlement_by_partner_or_expartner_as_an_adult</th>\n",
       "      <th>O72-Diagnoses_main_ICD10_O72_Postpartum_haemorrhage</th>\n",
       "      <th>20547_1-Activities_undertaken_to_treat_depression_Talking_therapies_such_as_psychotherapy_counselling_group_therapy_or_CBT</th>\n",
       "      <th>22601_21133023-Job_coding_physicist_astronomer_geologist_geophysicist_meteorologist_oceanographer_seismologist</th>\n",
       "      <th>6138_3-Qualifications_O_levelsGCSEs_or_equivalent</th>\n",
       "      <th>3446_1-Type_of_tobacco_currently_smoked_Manufactured_cigarettes</th>\n",
       "      <th>24011_raw-Traffic_intensity_on_the_nearest_major_road</th>\n",
       "      <th>...</th>\n",
       "      <th>PGC_ADHD_EUR_2017</th>\n",
       "      <th>BCAC_ER_negative_BreastCancer_EUR</th>\n",
       "      <th>SSGAC_Education_Years_Pooled</th>\n",
       "      <th>pgc.scz2</th>\n",
       "      <th>MAGNETIC_HDL.C</th>\n",
       "      <th>MAGIC_ln_FastingInsulin</th>\n",
       "      <th>Astle_et_al_2016_Sum_eosinophil_basophil_counts</th>\n",
       "      <th>SSGAC_Depressive_Symptoms</th>\n",
       "      <th>Jones_et_al_2016_SleepDuration</th>\n",
       "      <th>Astle_et_al_2016_Red_blood_cell_count</th>\n",
       "    </tr>\n",
       "    <tr>\n",
       "      <th>gene_name</th>\n",
       "      <th></th>\n",
       "      <th></th>\n",
       "      <th></th>\n",
       "      <th></th>\n",
       "      <th></th>\n",
       "      <th></th>\n",
       "      <th></th>\n",
       "      <th></th>\n",
       "      <th></th>\n",
       "      <th></th>\n",
       "      <th></th>\n",
       "      <th></th>\n",
       "      <th></th>\n",
       "      <th></th>\n",
       "      <th></th>\n",
       "      <th></th>\n",
       "      <th></th>\n",
       "      <th></th>\n",
       "      <th></th>\n",
       "      <th></th>\n",
       "      <th></th>\n",
       "    </tr>\n",
       "  </thead>\n",
       "  <tbody>\n",
       "    <tr>\n",
       "      <th>ENSG00000000419</th>\n",
       "      <td>0.981200</td>\n",
       "      <td>0.403348</td>\n",
       "      <td>0.862788</td>\n",
       "      <td>0.024683</td>\n",
       "      <td>0.561934</td>\n",
       "      <td>0.956913</td>\n",
       "      <td>0.551198</td>\n",
       "      <td>0.516344</td>\n",
       "      <td>0.227106</td>\n",
       "      <td>0.129847</td>\n",
       "      <td>...</td>\n",
       "      <td>0.980281</td>\n",
       "      <td>0.413973</td>\n",
       "      <td>0.747822</td>\n",
       "      <td>0.609467</td>\n",
       "      <td>0.019467</td>\n",
       "      <td>0.371748</td>\n",
       "      <td>0.823010</td>\n",
       "      <td>0.713310</td>\n",
       "      <td>0.858389</td>\n",
       "      <td>0.409761</td>\n",
       "    </tr>\n",
       "    <tr>\n",
       "      <th>ENSG00000000457</th>\n",
       "      <td>0.757443</td>\n",
       "      <td>0.282676</td>\n",
       "      <td>0.645016</td>\n",
       "      <td>0.605318</td>\n",
       "      <td>0.764030</td>\n",
       "      <td>0.019528</td>\n",
       "      <td>0.814719</td>\n",
       "      <td>0.868149</td>\n",
       "      <td>0.688368</td>\n",
       "      <td>0.049198</td>\n",
       "      <td>...</td>\n",
       "      <td>0.228982</td>\n",
       "      <td>0.636830</td>\n",
       "      <td>0.654535</td>\n",
       "      <td>0.010907</td>\n",
       "      <td>0.726300</td>\n",
       "      <td>0.210658</td>\n",
       "      <td>0.008023</td>\n",
       "      <td>0.678749</td>\n",
       "      <td>0.836679</td>\n",
       "      <td>0.812484</td>\n",
       "    </tr>\n",
       "    <tr>\n",
       "      <th>ENSG00000000460</th>\n",
       "      <td>0.101185</td>\n",
       "      <td>0.465145</td>\n",
       "      <td>0.847302</td>\n",
       "      <td>0.928796</td>\n",
       "      <td>0.645850</td>\n",
       "      <td>0.513639</td>\n",
       "      <td>0.263445</td>\n",
       "      <td>0.661105</td>\n",
       "      <td>0.102007</td>\n",
       "      <td>0.477268</td>\n",
       "      <td>...</td>\n",
       "      <td>0.301460</td>\n",
       "      <td>0.140522</td>\n",
       "      <td>0.646442</td>\n",
       "      <td>0.587969</td>\n",
       "      <td>0.498724</td>\n",
       "      <td>0.521805</td>\n",
       "      <td>0.004462</td>\n",
       "      <td>0.736509</td>\n",
       "      <td>0.432229</td>\n",
       "      <td>0.486664</td>\n",
       "    </tr>\n",
       "    <tr>\n",
       "      <th>ENSG00000000938</th>\n",
       "      <td>0.579861</td>\n",
       "      <td>0.905545</td>\n",
       "      <td>0.395741</td>\n",
       "      <td>0.730425</td>\n",
       "      <td>0.269117</td>\n",
       "      <td>0.266458</td>\n",
       "      <td>0.710789</td>\n",
       "      <td>0.404122</td>\n",
       "      <td>0.953161</td>\n",
       "      <td>0.605097</td>\n",
       "      <td>...</td>\n",
       "      <td>0.588855</td>\n",
       "      <td>0.226977</td>\n",
       "      <td>0.576593</td>\n",
       "      <td>0.059247</td>\n",
       "      <td>0.435438</td>\n",
       "      <td>0.953160</td>\n",
       "      <td>0.101875</td>\n",
       "      <td>0.954998</td>\n",
       "      <td>0.097831</td>\n",
       "      <td>0.135045</td>\n",
       "    </tr>\n",
       "    <tr>\n",
       "      <th>ENSG00000000971</th>\n",
       "      <td>0.639334</td>\n",
       "      <td>0.336059</td>\n",
       "      <td>0.204268</td>\n",
       "      <td>0.176063</td>\n",
       "      <td>0.743292</td>\n",
       "      <td>0.109981</td>\n",
       "      <td>0.908151</td>\n",
       "      <td>0.442417</td>\n",
       "      <td>0.829314</td>\n",
       "      <td>0.333868</td>\n",
       "      <td>...</td>\n",
       "      <td>0.109883</td>\n",
       "      <td>0.040871</td>\n",
       "      <td>0.005662</td>\n",
       "      <td>0.020391</td>\n",
       "      <td>0.439466</td>\n",
       "      <td>0.690242</td>\n",
       "      <td>0.055059</td>\n",
       "      <td>0.002660</td>\n",
       "      <td>0.331132</td>\n",
       "      <td>0.995450</td>\n",
       "    </tr>\n",
       "  </tbody>\n",
       "</table>\n",
       "<p>5 rows × 4091 columns</p>\n",
       "</div>"
      ],
      "text/plain": [
       "                 D3_ANAEMIA_IRONDEF-Iron_deficiency_anaemia  \\\n",
       "gene_name                                                     \n",
       "ENSG00000000419                                    0.981200   \n",
       "ENSG00000000457                                    0.757443   \n",
       "ENSG00000000460                                    0.101185   \n",
       "ENSG00000000938                                    0.579861   \n",
       "ENSG00000000971                                    0.639334   \n",
       "\n",
       "                 C54-Diagnoses_main_ICD10_C54_Malignant_neoplasm_of_corpus_uteri  \\\n",
       "gene_name                                                                          \n",
       "ENSG00000000419                                           0.403348                 \n",
       "ENSG00000000457                                           0.282676                 \n",
       "ENSG00000000460                                           0.465145                 \n",
       "ENSG00000000938                                           0.905545                 \n",
       "ENSG00000000971                                           0.336059                 \n",
       "\n",
       "                 N35-Diagnoses_main_ICD10_N35_Urethral_stricture  \\\n",
       "gene_name                                                          \n",
       "ENSG00000000419                                         0.862788   \n",
       "ENSG00000000457                                         0.645016   \n",
       "ENSG00000000460                                         0.847302   \n",
       "ENSG00000000938                                         0.395741   \n",
       "ENSG00000000971                                         0.204268   \n",
       "\n",
       "                 20521-Belittlement_by_partner_or_expartner_as_an_adult  \\\n",
       "gene_name                                                                 \n",
       "ENSG00000000419                                           0.024683        \n",
       "ENSG00000000457                                           0.605318        \n",
       "ENSG00000000460                                           0.928796        \n",
       "ENSG00000000938                                           0.730425        \n",
       "ENSG00000000971                                           0.176063        \n",
       "\n",
       "                 O72-Diagnoses_main_ICD10_O72_Postpartum_haemorrhage  \\\n",
       "gene_name                                                              \n",
       "ENSG00000000419                                           0.561934     \n",
       "ENSG00000000457                                           0.764030     \n",
       "ENSG00000000460                                           0.645850     \n",
       "ENSG00000000938                                           0.269117     \n",
       "ENSG00000000971                                           0.743292     \n",
       "\n",
       "                 20547_1-Activities_undertaken_to_treat_depression_Talking_therapies_such_as_psychotherapy_counselling_group_therapy_or_CBT  \\\n",
       "gene_name                                                                                                                                     \n",
       "ENSG00000000419                                           0.956913                                                                            \n",
       "ENSG00000000457                                           0.019528                                                                            \n",
       "ENSG00000000460                                           0.513639                                                                            \n",
       "ENSG00000000938                                           0.266458                                                                            \n",
       "ENSG00000000971                                           0.109981                                                                            \n",
       "\n",
       "                 22601_21133023-Job_coding_physicist_astronomer_geologist_geophysicist_meteorologist_oceanographer_seismologist  \\\n",
       "gene_name                                                                                                                         \n",
       "ENSG00000000419                                           0.551198                                                                \n",
       "ENSG00000000457                                           0.814719                                                                \n",
       "ENSG00000000460                                           0.263445                                                                \n",
       "ENSG00000000938                                           0.710789                                                                \n",
       "ENSG00000000971                                           0.908151                                                                \n",
       "\n",
       "                 6138_3-Qualifications_O_levelsGCSEs_or_equivalent  \\\n",
       "gene_name                                                            \n",
       "ENSG00000000419                                           0.516344   \n",
       "ENSG00000000457                                           0.868149   \n",
       "ENSG00000000460                                           0.661105   \n",
       "ENSG00000000938                                           0.404122   \n",
       "ENSG00000000971                                           0.442417   \n",
       "\n",
       "                 3446_1-Type_of_tobacco_currently_smoked_Manufactured_cigarettes  \\\n",
       "gene_name                                                                          \n",
       "ENSG00000000419                                           0.227106                 \n",
       "ENSG00000000457                                           0.688368                 \n",
       "ENSG00000000460                                           0.102007                 \n",
       "ENSG00000000938                                           0.953161                 \n",
       "ENSG00000000971                                           0.829314                 \n",
       "\n",
       "                 24011_raw-Traffic_intensity_on_the_nearest_major_road  ...  \\\n",
       "gene_name                                                               ...   \n",
       "ENSG00000000419                                           0.129847      ...   \n",
       "ENSG00000000457                                           0.049198      ...   \n",
       "ENSG00000000460                                           0.477268      ...   \n",
       "ENSG00000000938                                           0.605097      ...   \n",
       "ENSG00000000971                                           0.333868      ...   \n",
       "\n",
       "                 PGC_ADHD_EUR_2017  BCAC_ER_negative_BreastCancer_EUR  \\\n",
       "gene_name                                                               \n",
       "ENSG00000000419           0.980281                           0.413973   \n",
       "ENSG00000000457           0.228982                           0.636830   \n",
       "ENSG00000000460           0.301460                           0.140522   \n",
       "ENSG00000000938           0.588855                           0.226977   \n",
       "ENSG00000000971           0.109883                           0.040871   \n",
       "\n",
       "                 SSGAC_Education_Years_Pooled  pgc.scz2  MAGNETIC_HDL.C  \\\n",
       "gene_name                                                                 \n",
       "ENSG00000000419                      0.747822  0.609467        0.019467   \n",
       "ENSG00000000457                      0.654535  0.010907        0.726300   \n",
       "ENSG00000000460                      0.646442  0.587969        0.498724   \n",
       "ENSG00000000938                      0.576593  0.059247        0.435438   \n",
       "ENSG00000000971                      0.005662  0.020391        0.439466   \n",
       "\n",
       "                 MAGIC_ln_FastingInsulin  \\\n",
       "gene_name                                  \n",
       "ENSG00000000419                 0.371748   \n",
       "ENSG00000000457                 0.210658   \n",
       "ENSG00000000460                 0.521805   \n",
       "ENSG00000000938                 0.953160   \n",
       "ENSG00000000971                 0.690242   \n",
       "\n",
       "                 Astle_et_al_2016_Sum_eosinophil_basophil_counts  \\\n",
       "gene_name                                                          \n",
       "ENSG00000000419                                         0.823010   \n",
       "ENSG00000000457                                         0.008023   \n",
       "ENSG00000000460                                         0.004462   \n",
       "ENSG00000000938                                         0.101875   \n",
       "ENSG00000000971                                         0.055059   \n",
       "\n",
       "                 SSGAC_Depressive_Symptoms  Jones_et_al_2016_SleepDuration  \\\n",
       "gene_name                                                                    \n",
       "ENSG00000000419                   0.713310                        0.858389   \n",
       "ENSG00000000457                   0.678749                        0.836679   \n",
       "ENSG00000000460                   0.736509                        0.432229   \n",
       "ENSG00000000938                   0.954998                        0.097831   \n",
       "ENSG00000000971                   0.002660                        0.331132   \n",
       "\n",
       "                 Astle_et_al_2016_Red_blood_cell_count  \n",
       "gene_name                                               \n",
       "ENSG00000000419                               0.409761  \n",
       "ENSG00000000457                               0.812484  \n",
       "ENSG00000000460                               0.486664  \n",
       "ENSG00000000938                               0.135045  \n",
       "ENSG00000000971                               0.995450  \n",
       "\n",
       "[5 rows x 4091 columns]"
      ]
     },
     "execution_count": 10,
     "metadata": {},
     "output_type": "execute_result"
    }
   ],
   "source": [
    "smultixcan_gene_associations.head(5)"
   ]
  },
  {
   "cell_type": "code",
   "execution_count": 11,
   "metadata": {},
   "outputs": [],
   "source": [
    "assert not smultixcan_gene_associations.isin([np.inf, -np.inf]).any().any()"
   ]
  },
  {
   "cell_type": "code",
   "execution_count": 12,
   "metadata": {},
   "outputs": [
    {
     "data": {
      "text/plain": [
       "1053055"
      ]
     },
     "execution_count": 12,
     "metadata": {},
     "output_type": "execute_result"
    }
   ],
   "source": [
    "smultixcan_gene_associations.isna().sum().sum()"
   ]
  },
  {
   "cell_type": "code",
   "execution_count": 15,
   "metadata": {},
   "outputs": [],
   "source": [
    "assert ((smultixcan_gene_associations.min().min() > 0) & (smultixcan_gene_associations.max().max() <= 1)).all().all()"
   ]
  },
  {
   "cell_type": "markdown",
   "metadata": {},
   "source": [
    "# Load fastENLOC results"
   ]
  },
  {
   "cell_type": "code",
   "execution_count": 16,
   "metadata": {},
   "outputs": [
    {
     "data": {
      "text/plain": [
       "'/mnt/phenomexcan/results/deliverables/internal/fastenloc-torus-rcp.pkl.xz'"
      ]
     },
     "metadata": {},
     "output_type": "display_data"
    }
   ],
   "source": [
    "fastenloc_rcp_file = os.path.join(constants.DELIVERABLES_RESULTS_DIR, 'internal', 'fastenloc-torus-rcp.pkl.xz')\n",
    "display(fastenloc_rcp_file)"
   ]
  },
  {
   "cell_type": "code",
   "execution_count": 17,
   "metadata": {},
   "outputs": [],
   "source": [
    "fastenloc_gene_associations = pd.read_pickle(fastenloc_rcp_file)"
   ]
  },
  {
   "cell_type": "code",
   "execution_count": 18,
   "metadata": {},
   "outputs": [
    {
     "data": {
      "text/plain": [
       "(37967, 4091)"
      ]
     },
     "execution_count": 18,
     "metadata": {},
     "output_type": "execute_result"
    }
   ],
   "source": [
    "fastenloc_gene_associations.shape"
   ]
  },
  {
   "cell_type": "code",
   "execution_count": 19,
   "metadata": {},
   "outputs": [
    {
     "data": {
      "text/html": [
       "<div>\n",
       "<style scoped>\n",
       "    .dataframe tbody tr th:only-of-type {\n",
       "        vertical-align: middle;\n",
       "    }\n",
       "\n",
       "    .dataframe tbody tr th {\n",
       "        vertical-align: top;\n",
       "    }\n",
       "\n",
       "    .dataframe thead th {\n",
       "        text-align: right;\n",
       "    }\n",
       "</style>\n",
       "<table border=\"1\" class=\"dataframe\">\n",
       "  <thead>\n",
       "    <tr style=\"text-align: right;\">\n",
       "      <th></th>\n",
       "      <th>D3_ANAEMIA_IRONDEF-Iron_deficiency_anaemia</th>\n",
       "      <th>C54-Diagnoses_main_ICD10_C54_Malignant_neoplasm_of_corpus_uteri</th>\n",
       "      <th>N35-Diagnoses_main_ICD10_N35_Urethral_stricture</th>\n",
       "      <th>20521-Belittlement_by_partner_or_expartner_as_an_adult</th>\n",
       "      <th>O72-Diagnoses_main_ICD10_O72_Postpartum_haemorrhage</th>\n",
       "      <th>20547_1-Activities_undertaken_to_treat_depression_Talking_therapies_such_as_psychotherapy_counselling_group_therapy_or_CBT</th>\n",
       "      <th>22601_21133023-Job_coding_physicist_astronomer_geologist_geophysicist_meteorologist_oceanographer_seismologist</th>\n",
       "      <th>6138_3-Qualifications_O_levelsGCSEs_or_equivalent</th>\n",
       "      <th>3446_1-Type_of_tobacco_currently_smoked_Manufactured_cigarettes</th>\n",
       "      <th>24011_raw-Traffic_intensity_on_the_nearest_major_road</th>\n",
       "      <th>...</th>\n",
       "      <th>PGC_ADHD_EUR_2017</th>\n",
       "      <th>BCAC_ER_negative_BreastCancer_EUR</th>\n",
       "      <th>SSGAC_Education_Years_Pooled</th>\n",
       "      <th>pgc.scz2</th>\n",
       "      <th>MAGNETIC_HDL.C</th>\n",
       "      <th>MAGIC_ln_FastingInsulin</th>\n",
       "      <th>Astle_et_al_2016_Sum_eosinophil_basophil_counts</th>\n",
       "      <th>SSGAC_Depressive_Symptoms</th>\n",
       "      <th>Jones_et_al_2016_SleepDuration</th>\n",
       "      <th>Astle_et_al_2016_Red_blood_cell_count</th>\n",
       "    </tr>\n",
       "    <tr>\n",
       "      <th>gene_name</th>\n",
       "      <th></th>\n",
       "      <th></th>\n",
       "      <th></th>\n",
       "      <th></th>\n",
       "      <th></th>\n",
       "      <th></th>\n",
       "      <th></th>\n",
       "      <th></th>\n",
       "      <th></th>\n",
       "      <th></th>\n",
       "      <th></th>\n",
       "      <th></th>\n",
       "      <th></th>\n",
       "      <th></th>\n",
       "      <th></th>\n",
       "      <th></th>\n",
       "      <th></th>\n",
       "      <th></th>\n",
       "      <th></th>\n",
       "      <th></th>\n",
       "      <th></th>\n",
       "    </tr>\n",
       "  </thead>\n",
       "  <tbody>\n",
       "    <tr>\n",
       "      <th>ENSG00000000419</th>\n",
       "      <td>0.000475</td>\n",
       "      <td>0.000002</td>\n",
       "      <td>0.000007</td>\n",
       "      <td>0.000014</td>\n",
       "      <td>4.072000e-07</td>\n",
       "      <td>0.000029</td>\n",
       "      <td>3.644000e-07</td>\n",
       "      <td>0.001523</td>\n",
       "      <td>1.454700e-07</td>\n",
       "      <td>9.367000e-08</td>\n",
       "      <td>...</td>\n",
       "      <td>0.0</td>\n",
       "      <td>NaN</td>\n",
       "      <td>0.001</td>\n",
       "      <td>0.000</td>\n",
       "      <td>NaN</td>\n",
       "      <td>NaN</td>\n",
       "      <td>0.001</td>\n",
       "      <td>NaN</td>\n",
       "      <td>NaN</td>\n",
       "      <td>0.001</td>\n",
       "    </tr>\n",
       "    <tr>\n",
       "      <th>ENSG00000000457</th>\n",
       "      <td>0.001202</td>\n",
       "      <td>0.000007</td>\n",
       "      <td>0.000107</td>\n",
       "      <td>0.000064</td>\n",
       "      <td>1.235800e-06</td>\n",
       "      <td>0.000932</td>\n",
       "      <td>4.700310e-06</td>\n",
       "      <td>0.004699</td>\n",
       "      <td>4.312066e-07</td>\n",
       "      <td>2.430520e-06</td>\n",
       "      <td>...</td>\n",
       "      <td>NaN</td>\n",
       "      <td>NaN</td>\n",
       "      <td>0.000</td>\n",
       "      <td>NaN</td>\n",
       "      <td>NaN</td>\n",
       "      <td>NaN</td>\n",
       "      <td>0.000</td>\n",
       "      <td>NaN</td>\n",
       "      <td>NaN</td>\n",
       "      <td>0.000</td>\n",
       "    </tr>\n",
       "    <tr>\n",
       "      <th>ENSG00000000460</th>\n",
       "      <td>0.003668</td>\n",
       "      <td>0.000010</td>\n",
       "      <td>0.000082</td>\n",
       "      <td>0.000048</td>\n",
       "      <td>8.393500e-06</td>\n",
       "      <td>0.001715</td>\n",
       "      <td>4.335120e-06</td>\n",
       "      <td>0.004166</td>\n",
       "      <td>4.445080e-07</td>\n",
       "      <td>1.500680e-06</td>\n",
       "      <td>...</td>\n",
       "      <td>NaN</td>\n",
       "      <td>NaN</td>\n",
       "      <td>0.000</td>\n",
       "      <td>NaN</td>\n",
       "      <td>NaN</td>\n",
       "      <td>NaN</td>\n",
       "      <td>0.000</td>\n",
       "      <td>NaN</td>\n",
       "      <td>NaN</td>\n",
       "      <td>0.000</td>\n",
       "    </tr>\n",
       "    <tr>\n",
       "      <th>ENSG00000000938</th>\n",
       "      <td>0.001505</td>\n",
       "      <td>0.000008</td>\n",
       "      <td>0.000049</td>\n",
       "      <td>0.000055</td>\n",
       "      <td>1.809500e-07</td>\n",
       "      <td>0.000441</td>\n",
       "      <td>2.866700e-07</td>\n",
       "      <td>0.005567</td>\n",
       "      <td>8.714000e-08</td>\n",
       "      <td>5.580600e-07</td>\n",
       "      <td>...</td>\n",
       "      <td>NaN</td>\n",
       "      <td>NaN</td>\n",
       "      <td>NaN</td>\n",
       "      <td>0.002</td>\n",
       "      <td>NaN</td>\n",
       "      <td>NaN</td>\n",
       "      <td>0.001</td>\n",
       "      <td>NaN</td>\n",
       "      <td>NaN</td>\n",
       "      <td>NaN</td>\n",
       "    </tr>\n",
       "    <tr>\n",
       "      <th>ENSG00000000971</th>\n",
       "      <td>0.001648</td>\n",
       "      <td>0.000014</td>\n",
       "      <td>0.000117</td>\n",
       "      <td>0.000197</td>\n",
       "      <td>1.263000e-06</td>\n",
       "      <td>0.002731</td>\n",
       "      <td>2.120970e-06</td>\n",
       "      <td>0.009212</td>\n",
       "      <td>3.326000e-09</td>\n",
       "      <td>2.015840e-07</td>\n",
       "      <td>...</td>\n",
       "      <td>NaN</td>\n",
       "      <td>NaN</td>\n",
       "      <td>NaN</td>\n",
       "      <td>NaN</td>\n",
       "      <td>NaN</td>\n",
       "      <td>NaN</td>\n",
       "      <td>0.000</td>\n",
       "      <td>NaN</td>\n",
       "      <td>NaN</td>\n",
       "      <td>0.000</td>\n",
       "    </tr>\n",
       "  </tbody>\n",
       "</table>\n",
       "<p>5 rows × 4091 columns</p>\n",
       "</div>"
      ],
      "text/plain": [
       "                 D3_ANAEMIA_IRONDEF-Iron_deficiency_anaemia  \\\n",
       "gene_name                                                     \n",
       "ENSG00000000419                                    0.000475   \n",
       "ENSG00000000457                                    0.001202   \n",
       "ENSG00000000460                                    0.003668   \n",
       "ENSG00000000938                                    0.001505   \n",
       "ENSG00000000971                                    0.001648   \n",
       "\n",
       "                 C54-Diagnoses_main_ICD10_C54_Malignant_neoplasm_of_corpus_uteri  \\\n",
       "gene_name                                                                          \n",
       "ENSG00000000419                                           0.000002                 \n",
       "ENSG00000000457                                           0.000007                 \n",
       "ENSG00000000460                                           0.000010                 \n",
       "ENSG00000000938                                           0.000008                 \n",
       "ENSG00000000971                                           0.000014                 \n",
       "\n",
       "                 N35-Diagnoses_main_ICD10_N35_Urethral_stricture  \\\n",
       "gene_name                                                          \n",
       "ENSG00000000419                                         0.000007   \n",
       "ENSG00000000457                                         0.000107   \n",
       "ENSG00000000460                                         0.000082   \n",
       "ENSG00000000938                                         0.000049   \n",
       "ENSG00000000971                                         0.000117   \n",
       "\n",
       "                 20521-Belittlement_by_partner_or_expartner_as_an_adult  \\\n",
       "gene_name                                                                 \n",
       "ENSG00000000419                                           0.000014        \n",
       "ENSG00000000457                                           0.000064        \n",
       "ENSG00000000460                                           0.000048        \n",
       "ENSG00000000938                                           0.000055        \n",
       "ENSG00000000971                                           0.000197        \n",
       "\n",
       "                 O72-Diagnoses_main_ICD10_O72_Postpartum_haemorrhage  \\\n",
       "gene_name                                                              \n",
       "ENSG00000000419                                       4.072000e-07     \n",
       "ENSG00000000457                                       1.235800e-06     \n",
       "ENSG00000000460                                       8.393500e-06     \n",
       "ENSG00000000938                                       1.809500e-07     \n",
       "ENSG00000000971                                       1.263000e-06     \n",
       "\n",
       "                 20547_1-Activities_undertaken_to_treat_depression_Talking_therapies_such_as_psychotherapy_counselling_group_therapy_or_CBT  \\\n",
       "gene_name                                                                                                                                     \n",
       "ENSG00000000419                                           0.000029                                                                            \n",
       "ENSG00000000457                                           0.000932                                                                            \n",
       "ENSG00000000460                                           0.001715                                                                            \n",
       "ENSG00000000938                                           0.000441                                                                            \n",
       "ENSG00000000971                                           0.002731                                                                            \n",
       "\n",
       "                 22601_21133023-Job_coding_physicist_astronomer_geologist_geophysicist_meteorologist_oceanographer_seismologist  \\\n",
       "gene_name                                                                                                                         \n",
       "ENSG00000000419                                       3.644000e-07                                                                \n",
       "ENSG00000000457                                       4.700310e-06                                                                \n",
       "ENSG00000000460                                       4.335120e-06                                                                \n",
       "ENSG00000000938                                       2.866700e-07                                                                \n",
       "ENSG00000000971                                       2.120970e-06                                                                \n",
       "\n",
       "                 6138_3-Qualifications_O_levelsGCSEs_or_equivalent  \\\n",
       "gene_name                                                            \n",
       "ENSG00000000419                                           0.001523   \n",
       "ENSG00000000457                                           0.004699   \n",
       "ENSG00000000460                                           0.004166   \n",
       "ENSG00000000938                                           0.005567   \n",
       "ENSG00000000971                                           0.009212   \n",
       "\n",
       "                 3446_1-Type_of_tobacco_currently_smoked_Manufactured_cigarettes  \\\n",
       "gene_name                                                                          \n",
       "ENSG00000000419                                       1.454700e-07                 \n",
       "ENSG00000000457                                       4.312066e-07                 \n",
       "ENSG00000000460                                       4.445080e-07                 \n",
       "ENSG00000000938                                       8.714000e-08                 \n",
       "ENSG00000000971                                       3.326000e-09                 \n",
       "\n",
       "                 24011_raw-Traffic_intensity_on_the_nearest_major_road  ...  \\\n",
       "gene_name                                                               ...   \n",
       "ENSG00000000419                                       9.367000e-08      ...   \n",
       "ENSG00000000457                                       2.430520e-06      ...   \n",
       "ENSG00000000460                                       1.500680e-06      ...   \n",
       "ENSG00000000938                                       5.580600e-07      ...   \n",
       "ENSG00000000971                                       2.015840e-07      ...   \n",
       "\n",
       "                 PGC_ADHD_EUR_2017  BCAC_ER_negative_BreastCancer_EUR  \\\n",
       "gene_name                                                               \n",
       "ENSG00000000419                0.0                                NaN   \n",
       "ENSG00000000457                NaN                                NaN   \n",
       "ENSG00000000460                NaN                                NaN   \n",
       "ENSG00000000938                NaN                                NaN   \n",
       "ENSG00000000971                NaN                                NaN   \n",
       "\n",
       "                 SSGAC_Education_Years_Pooled  pgc.scz2  MAGNETIC_HDL.C  \\\n",
       "gene_name                                                                 \n",
       "ENSG00000000419                         0.001     0.000             NaN   \n",
       "ENSG00000000457                         0.000       NaN             NaN   \n",
       "ENSG00000000460                         0.000       NaN             NaN   \n",
       "ENSG00000000938                           NaN     0.002             NaN   \n",
       "ENSG00000000971                           NaN       NaN             NaN   \n",
       "\n",
       "                 MAGIC_ln_FastingInsulin  \\\n",
       "gene_name                                  \n",
       "ENSG00000000419                      NaN   \n",
       "ENSG00000000457                      NaN   \n",
       "ENSG00000000460                      NaN   \n",
       "ENSG00000000938                      NaN   \n",
       "ENSG00000000971                      NaN   \n",
       "\n",
       "                 Astle_et_al_2016_Sum_eosinophil_basophil_counts  \\\n",
       "gene_name                                                          \n",
       "ENSG00000000419                                            0.001   \n",
       "ENSG00000000457                                            0.000   \n",
       "ENSG00000000460                                            0.000   \n",
       "ENSG00000000938                                            0.001   \n",
       "ENSG00000000971                                            0.000   \n",
       "\n",
       "                 SSGAC_Depressive_Symptoms  Jones_et_al_2016_SleepDuration  \\\n",
       "gene_name                                                                    \n",
       "ENSG00000000419                        NaN                             NaN   \n",
       "ENSG00000000457                        NaN                             NaN   \n",
       "ENSG00000000460                        NaN                             NaN   \n",
       "ENSG00000000938                        NaN                             NaN   \n",
       "ENSG00000000971                        NaN                             NaN   \n",
       "\n",
       "                 Astle_et_al_2016_Red_blood_cell_count  \n",
       "gene_name                                               \n",
       "ENSG00000000419                                  0.001  \n",
       "ENSG00000000457                                  0.000  \n",
       "ENSG00000000460                                  0.000  \n",
       "ENSG00000000938                                    NaN  \n",
       "ENSG00000000971                                  0.000  \n",
       "\n",
       "[5 rows x 4091 columns]"
      ]
     },
     "execution_count": 19,
     "metadata": {},
     "output_type": "execute_result"
    }
   ],
   "source": [
    "fastenloc_gene_associations.head(5)"
   ]
  },
  {
   "cell_type": "code",
   "execution_count": 21,
   "metadata": {},
   "outputs": [
    {
     "data": {
      "text/plain": [
       "3341082"
      ]
     },
     "execution_count": 21,
     "metadata": {},
     "output_type": "execute_result"
    }
   ],
   "source": [
    "fastenloc_gene_associations.isna().sum().sum()"
   ]
  },
  {
   "cell_type": "code",
   "execution_count": 22,
   "metadata": {},
   "outputs": [],
   "source": [
    "assert not fastenloc_gene_associations.isin([np.inf, -np.inf]).any().any()"
   ]
  },
  {
   "cell_type": "code",
   "execution_count": 24,
   "metadata": {},
   "outputs": [],
   "source": [
    "assert fastenloc_gene_associations.min().min() >= 0\n",
    "assert fastenloc_gene_associations.max().max() <= 3"
   ]
  },
  {
   "cell_type": "markdown",
   "metadata": {},
   "source": [
    "# S-MultiXcan"
   ]
  },
  {
   "cell_type": "markdown",
   "metadata": {},
   "source": [
    "## Counts of significant associations"
   ]
  },
  {
   "cell_type": "code",
   "execution_count": 25,
   "metadata": {},
   "outputs": [
    {
     "data": {
      "text/plain": [
       "(22515, 4091)"
      ]
     },
     "execution_count": 25,
     "metadata": {},
     "output_type": "execute_result"
    }
   ],
   "source": [
    "smultixcan_gene_associations.shape"
   ]
  },
  {
   "cell_type": "code",
   "execution_count": 26,
   "metadata": {},
   "outputs": [
    {
     "data": {
      "text/plain": [
       "(91055810,)"
      ]
     },
     "metadata": {},
     "output_type": "display_data"
    }
   ],
   "source": [
    "all_pvalues = pd.Series(smultixcan_gene_associations.values.flatten()).dropna()\n",
    "display(all_pvalues.shape)"
   ]
  },
  {
   "cell_type": "code",
   "execution_count": 27,
   "metadata": {},
   "outputs": [
    {
     "data": {
      "text/plain": [
       "count     9.105581e+07\n",
       "mean      4.839226e-01\n",
       "std       2.934763e-01\n",
       "min      9.999889e-321\n",
       "25%       2.266266e-01\n",
       "50%       4.794625e-01\n",
       "75%       7.378647e-01\n",
       "max       1.000000e+00\n",
       "dtype: float64"
      ]
     },
     "execution_count": 27,
     "metadata": {},
     "output_type": "execute_result"
    }
   ],
   "source": [
    "all_pvalues.describe()"
   ]
  },
  {
   "cell_type": "code",
   "execution_count": 28,
   "metadata": {},
   "outputs": [
    {
     "data": {
      "text/plain": [
       "count    9.105581e+07\n",
       "mean     4.990325e-01\n",
       "std      1.258476e+00\n",
       "min     -0.000000e+00\n",
       "25%      1.320233e-01\n",
       "50%      3.192453e-01\n",
       "75%      6.446892e-01\n",
       "max      3.200000e+02\n",
       "dtype: float64"
      ]
     },
     "execution_count": 28,
     "metadata": {},
     "output_type": "execute_result"
    }
   ],
   "source": [
    "(-np.log10(all_pvalues)).describe()"
   ]
  },
  {
   "cell_type": "code",
   "execution_count": 30,
   "metadata": {},
   "outputs": [
    {
     "data": {
      "text/plain": [
       "5.491137797796759e-10"
      ]
     },
     "metadata": {},
     "output_type": "display_data"
    }
   ],
   "source": [
    "PVALUE_THRESHOLD = (0.05 / all_pvalues.shape[0])\n",
    "display(PVALUE_THRESHOLD)"
   ]
  },
  {
   "cell_type": "code",
   "execution_count": 32,
   "metadata": {},
   "outputs": [],
   "source": [
    "PVALUE_THRESHOLD = 5.49e-10"
   ]
  },
  {
   "cell_type": "code",
   "execution_count": 33,
   "metadata": {},
   "outputs": [
    {
     "data": {
      "text/plain": [
       "72994"
      ]
     },
     "metadata": {},
     "output_type": "display_data"
    },
    {
     "data": {
      "text/plain": [
       "0.08016402248247531"
      ]
     },
     "metadata": {},
     "output_type": "display_data"
    }
   ],
   "source": [
    "hits = (all_pvalues < PVALUE_THRESHOLD).sum()\n",
    "display(hits)\n",
    "display((hits / all_pvalues.shape[0]) * 100)"
   ]
  },
  {
   "cell_type": "code",
   "execution_count": 34,
   "metadata": {},
   "outputs": [
    {
     "data": {
      "text/plain": [
       "1809587"
      ]
     },
     "metadata": {},
     "output_type": "display_data"
    },
    {
     "data": {
      "text/plain": [
       "1.9873383148203285"
      ]
     },
     "metadata": {},
     "output_type": "display_data"
    }
   ],
   "source": [
    "hits = (all_pvalues < 0.01).sum()\n",
    "display(hits)\n",
    "display((hits / all_pvalues.shape[0]) * 100)"
   ]
  },
  {
   "cell_type": "markdown",
   "metadata": {},
   "source": [
    "# fastENLOC"
   ]
  },
  {
   "cell_type": "markdown",
   "metadata": {},
   "source": [
    "## Numbers of significant genes also found by fastENLOC"
   ]
  },
  {
   "cell_type": "code",
   "execution_count": 35,
   "metadata": {},
   "outputs": [
    {
     "data": {
      "text/plain": [
       "Index(['ENSG00000000419', 'ENSG00000000457', 'ENSG00000000460',\n",
       "       'ENSG00000000938', 'ENSG00000000971', 'ENSG00000001036',\n",
       "       'ENSG00000001084', 'ENSG00000001167', 'ENSG00000001460',\n",
       "       'ENSG00000001461',\n",
       "       ...\n",
       "       'ENSG00000284240', 'ENSG00000284308', 'ENSG00000284395',\n",
       "       'ENSG00000284413', 'ENSG00000284418', 'ENSG00000284430',\n",
       "       'ENSG00000284452', 'ENSG00000284513', 'ENSG00000284526',\n",
       "       'ENSG00000284552'],\n",
       "      dtype='object', name='gene_name', length=22427)"
      ]
     },
     "metadata": {},
     "output_type": "display_data"
    }
   ],
   "source": [
    "common_genes = fastenloc_gene_associations.index.intersection(smultixcan_gene_associations.index)\n",
    "display(common_genes)"
   ]
  },
  {
   "cell_type": "code",
   "execution_count": 36,
   "metadata": {},
   "outputs": [
    {
     "data": {
      "text/plain": [
       "(22427, 4091)"
      ]
     },
     "metadata": {},
     "output_type": "display_data"
    },
    {
     "data": {
      "text/html": [
       "<div>\n",
       "<style scoped>\n",
       "    .dataframe tbody tr th:only-of-type {\n",
       "        vertical-align: middle;\n",
       "    }\n",
       "\n",
       "    .dataframe tbody tr th {\n",
       "        vertical-align: top;\n",
       "    }\n",
       "\n",
       "    .dataframe thead th {\n",
       "        text-align: right;\n",
       "    }\n",
       "</style>\n",
       "<table border=\"1\" class=\"dataframe\">\n",
       "  <thead>\n",
       "    <tr style=\"text-align: right;\">\n",
       "      <th></th>\n",
       "      <th>D3_ANAEMIA_IRONDEF-Iron_deficiency_anaemia</th>\n",
       "      <th>C54-Diagnoses_main_ICD10_C54_Malignant_neoplasm_of_corpus_uteri</th>\n",
       "      <th>N35-Diagnoses_main_ICD10_N35_Urethral_stricture</th>\n",
       "      <th>20521-Belittlement_by_partner_or_expartner_as_an_adult</th>\n",
       "      <th>O72-Diagnoses_main_ICD10_O72_Postpartum_haemorrhage</th>\n",
       "      <th>20547_1-Activities_undertaken_to_treat_depression_Talking_therapies_such_as_psychotherapy_counselling_group_therapy_or_CBT</th>\n",
       "      <th>22601_21133023-Job_coding_physicist_astronomer_geologist_geophysicist_meteorologist_oceanographer_seismologist</th>\n",
       "      <th>6138_3-Qualifications_O_levelsGCSEs_or_equivalent</th>\n",
       "      <th>3446_1-Type_of_tobacco_currently_smoked_Manufactured_cigarettes</th>\n",
       "      <th>24011_raw-Traffic_intensity_on_the_nearest_major_road</th>\n",
       "      <th>...</th>\n",
       "      <th>PGC_ADHD_EUR_2017</th>\n",
       "      <th>BCAC_ER_negative_BreastCancer_EUR</th>\n",
       "      <th>SSGAC_Education_Years_Pooled</th>\n",
       "      <th>pgc.scz2</th>\n",
       "      <th>MAGNETIC_HDL.C</th>\n",
       "      <th>MAGIC_ln_FastingInsulin</th>\n",
       "      <th>Astle_et_al_2016_Sum_eosinophil_basophil_counts</th>\n",
       "      <th>SSGAC_Depressive_Symptoms</th>\n",
       "      <th>Jones_et_al_2016_SleepDuration</th>\n",
       "      <th>Astle_et_al_2016_Red_blood_cell_count</th>\n",
       "    </tr>\n",
       "    <tr>\n",
       "      <th>gene_name</th>\n",
       "      <th></th>\n",
       "      <th></th>\n",
       "      <th></th>\n",
       "      <th></th>\n",
       "      <th></th>\n",
       "      <th></th>\n",
       "      <th></th>\n",
       "      <th></th>\n",
       "      <th></th>\n",
       "      <th></th>\n",
       "      <th></th>\n",
       "      <th></th>\n",
       "      <th></th>\n",
       "      <th></th>\n",
       "      <th></th>\n",
       "      <th></th>\n",
       "      <th></th>\n",
       "      <th></th>\n",
       "      <th></th>\n",
       "      <th></th>\n",
       "      <th></th>\n",
       "    </tr>\n",
       "  </thead>\n",
       "  <tbody>\n",
       "    <tr>\n",
       "      <th>ENSG00000000419</th>\n",
       "      <td>0.000475</td>\n",
       "      <td>0.000002</td>\n",
       "      <td>0.000007</td>\n",
       "      <td>0.000014</td>\n",
       "      <td>4.072000e-07</td>\n",
       "      <td>0.000029</td>\n",
       "      <td>3.644000e-07</td>\n",
       "      <td>0.001523</td>\n",
       "      <td>1.454700e-07</td>\n",
       "      <td>9.367000e-08</td>\n",
       "      <td>...</td>\n",
       "      <td>0.0</td>\n",
       "      <td>NaN</td>\n",
       "      <td>0.001</td>\n",
       "      <td>0.000</td>\n",
       "      <td>NaN</td>\n",
       "      <td>NaN</td>\n",
       "      <td>0.001</td>\n",
       "      <td>NaN</td>\n",
       "      <td>NaN</td>\n",
       "      <td>0.001</td>\n",
       "    </tr>\n",
       "    <tr>\n",
       "      <th>ENSG00000000457</th>\n",
       "      <td>0.001202</td>\n",
       "      <td>0.000007</td>\n",
       "      <td>0.000107</td>\n",
       "      <td>0.000064</td>\n",
       "      <td>1.235800e-06</td>\n",
       "      <td>0.000932</td>\n",
       "      <td>4.700310e-06</td>\n",
       "      <td>0.004699</td>\n",
       "      <td>4.312066e-07</td>\n",
       "      <td>2.430520e-06</td>\n",
       "      <td>...</td>\n",
       "      <td>NaN</td>\n",
       "      <td>NaN</td>\n",
       "      <td>0.000</td>\n",
       "      <td>NaN</td>\n",
       "      <td>NaN</td>\n",
       "      <td>NaN</td>\n",
       "      <td>0.000</td>\n",
       "      <td>NaN</td>\n",
       "      <td>NaN</td>\n",
       "      <td>0.000</td>\n",
       "    </tr>\n",
       "    <tr>\n",
       "      <th>ENSG00000000460</th>\n",
       "      <td>0.003668</td>\n",
       "      <td>0.000010</td>\n",
       "      <td>0.000082</td>\n",
       "      <td>0.000048</td>\n",
       "      <td>8.393500e-06</td>\n",
       "      <td>0.001715</td>\n",
       "      <td>4.335120e-06</td>\n",
       "      <td>0.004166</td>\n",
       "      <td>4.445080e-07</td>\n",
       "      <td>1.500680e-06</td>\n",
       "      <td>...</td>\n",
       "      <td>NaN</td>\n",
       "      <td>NaN</td>\n",
       "      <td>0.000</td>\n",
       "      <td>NaN</td>\n",
       "      <td>NaN</td>\n",
       "      <td>NaN</td>\n",
       "      <td>0.000</td>\n",
       "      <td>NaN</td>\n",
       "      <td>NaN</td>\n",
       "      <td>0.000</td>\n",
       "    </tr>\n",
       "    <tr>\n",
       "      <th>ENSG00000000938</th>\n",
       "      <td>0.001505</td>\n",
       "      <td>0.000008</td>\n",
       "      <td>0.000049</td>\n",
       "      <td>0.000055</td>\n",
       "      <td>1.809500e-07</td>\n",
       "      <td>0.000441</td>\n",
       "      <td>2.866700e-07</td>\n",
       "      <td>0.005567</td>\n",
       "      <td>8.714000e-08</td>\n",
       "      <td>5.580600e-07</td>\n",
       "      <td>...</td>\n",
       "      <td>NaN</td>\n",
       "      <td>NaN</td>\n",
       "      <td>NaN</td>\n",
       "      <td>0.002</td>\n",
       "      <td>NaN</td>\n",
       "      <td>NaN</td>\n",
       "      <td>0.001</td>\n",
       "      <td>NaN</td>\n",
       "      <td>NaN</td>\n",
       "      <td>NaN</td>\n",
       "    </tr>\n",
       "    <tr>\n",
       "      <th>ENSG00000000971</th>\n",
       "      <td>0.001648</td>\n",
       "      <td>0.000014</td>\n",
       "      <td>0.000117</td>\n",
       "      <td>0.000197</td>\n",
       "      <td>1.263000e-06</td>\n",
       "      <td>0.002731</td>\n",
       "      <td>2.120970e-06</td>\n",
       "      <td>0.009212</td>\n",
       "      <td>3.326000e-09</td>\n",
       "      <td>2.015840e-07</td>\n",
       "      <td>...</td>\n",
       "      <td>NaN</td>\n",
       "      <td>NaN</td>\n",
       "      <td>NaN</td>\n",
       "      <td>NaN</td>\n",
       "      <td>NaN</td>\n",
       "      <td>NaN</td>\n",
       "      <td>0.000</td>\n",
       "      <td>NaN</td>\n",
       "      <td>NaN</td>\n",
       "      <td>0.000</td>\n",
       "    </tr>\n",
       "  </tbody>\n",
       "</table>\n",
       "<p>5 rows × 4091 columns</p>\n",
       "</div>"
      ],
      "text/plain": [
       "                 D3_ANAEMIA_IRONDEF-Iron_deficiency_anaemia  \\\n",
       "gene_name                                                     \n",
       "ENSG00000000419                                    0.000475   \n",
       "ENSG00000000457                                    0.001202   \n",
       "ENSG00000000460                                    0.003668   \n",
       "ENSG00000000938                                    0.001505   \n",
       "ENSG00000000971                                    0.001648   \n",
       "\n",
       "                 C54-Diagnoses_main_ICD10_C54_Malignant_neoplasm_of_corpus_uteri  \\\n",
       "gene_name                                                                          \n",
       "ENSG00000000419                                           0.000002                 \n",
       "ENSG00000000457                                           0.000007                 \n",
       "ENSG00000000460                                           0.000010                 \n",
       "ENSG00000000938                                           0.000008                 \n",
       "ENSG00000000971                                           0.000014                 \n",
       "\n",
       "                 N35-Diagnoses_main_ICD10_N35_Urethral_stricture  \\\n",
       "gene_name                                                          \n",
       "ENSG00000000419                                         0.000007   \n",
       "ENSG00000000457                                         0.000107   \n",
       "ENSG00000000460                                         0.000082   \n",
       "ENSG00000000938                                         0.000049   \n",
       "ENSG00000000971                                         0.000117   \n",
       "\n",
       "                 20521-Belittlement_by_partner_or_expartner_as_an_adult  \\\n",
       "gene_name                                                                 \n",
       "ENSG00000000419                                           0.000014        \n",
       "ENSG00000000457                                           0.000064        \n",
       "ENSG00000000460                                           0.000048        \n",
       "ENSG00000000938                                           0.000055        \n",
       "ENSG00000000971                                           0.000197        \n",
       "\n",
       "                 O72-Diagnoses_main_ICD10_O72_Postpartum_haemorrhage  \\\n",
       "gene_name                                                              \n",
       "ENSG00000000419                                       4.072000e-07     \n",
       "ENSG00000000457                                       1.235800e-06     \n",
       "ENSG00000000460                                       8.393500e-06     \n",
       "ENSG00000000938                                       1.809500e-07     \n",
       "ENSG00000000971                                       1.263000e-06     \n",
       "\n",
       "                 20547_1-Activities_undertaken_to_treat_depression_Talking_therapies_such_as_psychotherapy_counselling_group_therapy_or_CBT  \\\n",
       "gene_name                                                                                                                                     \n",
       "ENSG00000000419                                           0.000029                                                                            \n",
       "ENSG00000000457                                           0.000932                                                                            \n",
       "ENSG00000000460                                           0.001715                                                                            \n",
       "ENSG00000000938                                           0.000441                                                                            \n",
       "ENSG00000000971                                           0.002731                                                                            \n",
       "\n",
       "                 22601_21133023-Job_coding_physicist_astronomer_geologist_geophysicist_meteorologist_oceanographer_seismologist  \\\n",
       "gene_name                                                                                                                         \n",
       "ENSG00000000419                                       3.644000e-07                                                                \n",
       "ENSG00000000457                                       4.700310e-06                                                                \n",
       "ENSG00000000460                                       4.335120e-06                                                                \n",
       "ENSG00000000938                                       2.866700e-07                                                                \n",
       "ENSG00000000971                                       2.120970e-06                                                                \n",
       "\n",
       "                 6138_3-Qualifications_O_levelsGCSEs_or_equivalent  \\\n",
       "gene_name                                                            \n",
       "ENSG00000000419                                           0.001523   \n",
       "ENSG00000000457                                           0.004699   \n",
       "ENSG00000000460                                           0.004166   \n",
       "ENSG00000000938                                           0.005567   \n",
       "ENSG00000000971                                           0.009212   \n",
       "\n",
       "                 3446_1-Type_of_tobacco_currently_smoked_Manufactured_cigarettes  \\\n",
       "gene_name                                                                          \n",
       "ENSG00000000419                                       1.454700e-07                 \n",
       "ENSG00000000457                                       4.312066e-07                 \n",
       "ENSG00000000460                                       4.445080e-07                 \n",
       "ENSG00000000938                                       8.714000e-08                 \n",
       "ENSG00000000971                                       3.326000e-09                 \n",
       "\n",
       "                 24011_raw-Traffic_intensity_on_the_nearest_major_road  ...  \\\n",
       "gene_name                                                               ...   \n",
       "ENSG00000000419                                       9.367000e-08      ...   \n",
       "ENSG00000000457                                       2.430520e-06      ...   \n",
       "ENSG00000000460                                       1.500680e-06      ...   \n",
       "ENSG00000000938                                       5.580600e-07      ...   \n",
       "ENSG00000000971                                       2.015840e-07      ...   \n",
       "\n",
       "                 PGC_ADHD_EUR_2017  BCAC_ER_negative_BreastCancer_EUR  \\\n",
       "gene_name                                                               \n",
       "ENSG00000000419                0.0                                NaN   \n",
       "ENSG00000000457                NaN                                NaN   \n",
       "ENSG00000000460                NaN                                NaN   \n",
       "ENSG00000000938                NaN                                NaN   \n",
       "ENSG00000000971                NaN                                NaN   \n",
       "\n",
       "                 SSGAC_Education_Years_Pooled  pgc.scz2  MAGNETIC_HDL.C  \\\n",
       "gene_name                                                                 \n",
       "ENSG00000000419                         0.001     0.000             NaN   \n",
       "ENSG00000000457                         0.000       NaN             NaN   \n",
       "ENSG00000000460                         0.000       NaN             NaN   \n",
       "ENSG00000000938                           NaN     0.002             NaN   \n",
       "ENSG00000000971                           NaN       NaN             NaN   \n",
       "\n",
       "                 MAGIC_ln_FastingInsulin  \\\n",
       "gene_name                                  \n",
       "ENSG00000000419                      NaN   \n",
       "ENSG00000000457                      NaN   \n",
       "ENSG00000000460                      NaN   \n",
       "ENSG00000000938                      NaN   \n",
       "ENSG00000000971                      NaN   \n",
       "\n",
       "                 Astle_et_al_2016_Sum_eosinophil_basophil_counts  \\\n",
       "gene_name                                                          \n",
       "ENSG00000000419                                            0.001   \n",
       "ENSG00000000457                                            0.000   \n",
       "ENSG00000000460                                            0.000   \n",
       "ENSG00000000938                                            0.001   \n",
       "ENSG00000000971                                            0.000   \n",
       "\n",
       "                 SSGAC_Depressive_Symptoms  Jones_et_al_2016_SleepDuration  \\\n",
       "gene_name                                                                    \n",
       "ENSG00000000419                        NaN                             NaN   \n",
       "ENSG00000000457                        NaN                             NaN   \n",
       "ENSG00000000460                        NaN                             NaN   \n",
       "ENSG00000000938                        NaN                             NaN   \n",
       "ENSG00000000971                        NaN                             NaN   \n",
       "\n",
       "                 Astle_et_al_2016_Red_blood_cell_count  \n",
       "gene_name                                               \n",
       "ENSG00000000419                                  0.001  \n",
       "ENSG00000000457                                  0.000  \n",
       "ENSG00000000460                                  0.000  \n",
       "ENSG00000000938                                    NaN  \n",
       "ENSG00000000971                                  0.000  \n",
       "\n",
       "[5 rows x 4091 columns]"
      ]
     },
     "metadata": {},
     "output_type": "display_data"
    }
   ],
   "source": [
    "fastenloc_matrix_sorted = fastenloc_gene_associations.loc[common_genes, smultixcan_gene_associations.columns]\n",
    "display(fastenloc_matrix_sorted.shape)\n",
    "display(fastenloc_matrix_sorted.head())"
   ]
  },
  {
   "cell_type": "code",
   "execution_count": 37,
   "metadata": {},
   "outputs": [
    {
     "data": {
      "text/plain": [
       "(22427, 4091)"
      ]
     },
     "metadata": {},
     "output_type": "display_data"
    },
    {
     "data": {
      "text/html": [
       "<div>\n",
       "<style scoped>\n",
       "    .dataframe tbody tr th:only-of-type {\n",
       "        vertical-align: middle;\n",
       "    }\n",
       "\n",
       "    .dataframe tbody tr th {\n",
       "        vertical-align: top;\n",
       "    }\n",
       "\n",
       "    .dataframe thead th {\n",
       "        text-align: right;\n",
       "    }\n",
       "</style>\n",
       "<table border=\"1\" class=\"dataframe\">\n",
       "  <thead>\n",
       "    <tr style=\"text-align: right;\">\n",
       "      <th></th>\n",
       "      <th>D3_ANAEMIA_IRONDEF-Iron_deficiency_anaemia</th>\n",
       "      <th>C54-Diagnoses_main_ICD10_C54_Malignant_neoplasm_of_corpus_uteri</th>\n",
       "      <th>N35-Diagnoses_main_ICD10_N35_Urethral_stricture</th>\n",
       "      <th>20521-Belittlement_by_partner_or_expartner_as_an_adult</th>\n",
       "      <th>O72-Diagnoses_main_ICD10_O72_Postpartum_haemorrhage</th>\n",
       "      <th>20547_1-Activities_undertaken_to_treat_depression_Talking_therapies_such_as_psychotherapy_counselling_group_therapy_or_CBT</th>\n",
       "      <th>22601_21133023-Job_coding_physicist_astronomer_geologist_geophysicist_meteorologist_oceanographer_seismologist</th>\n",
       "      <th>6138_3-Qualifications_O_levelsGCSEs_or_equivalent</th>\n",
       "      <th>3446_1-Type_of_tobacco_currently_smoked_Manufactured_cigarettes</th>\n",
       "      <th>24011_raw-Traffic_intensity_on_the_nearest_major_road</th>\n",
       "      <th>...</th>\n",
       "      <th>PGC_ADHD_EUR_2017</th>\n",
       "      <th>BCAC_ER_negative_BreastCancer_EUR</th>\n",
       "      <th>SSGAC_Education_Years_Pooled</th>\n",
       "      <th>pgc.scz2</th>\n",
       "      <th>MAGNETIC_HDL.C</th>\n",
       "      <th>MAGIC_ln_FastingInsulin</th>\n",
       "      <th>Astle_et_al_2016_Sum_eosinophil_basophil_counts</th>\n",
       "      <th>SSGAC_Depressive_Symptoms</th>\n",
       "      <th>Jones_et_al_2016_SleepDuration</th>\n",
       "      <th>Astle_et_al_2016_Red_blood_cell_count</th>\n",
       "    </tr>\n",
       "    <tr>\n",
       "      <th>gene_name</th>\n",
       "      <th></th>\n",
       "      <th></th>\n",
       "      <th></th>\n",
       "      <th></th>\n",
       "      <th></th>\n",
       "      <th></th>\n",
       "      <th></th>\n",
       "      <th></th>\n",
       "      <th></th>\n",
       "      <th></th>\n",
       "      <th></th>\n",
       "      <th></th>\n",
       "      <th></th>\n",
       "      <th></th>\n",
       "      <th></th>\n",
       "      <th></th>\n",
       "      <th></th>\n",
       "      <th></th>\n",
       "      <th></th>\n",
       "      <th></th>\n",
       "      <th></th>\n",
       "    </tr>\n",
       "  </thead>\n",
       "  <tbody>\n",
       "    <tr>\n",
       "      <th>ENSG00000000419</th>\n",
       "      <td>0.981200</td>\n",
       "      <td>0.403348</td>\n",
       "      <td>0.862788</td>\n",
       "      <td>0.024683</td>\n",
       "      <td>0.561934</td>\n",
       "      <td>0.956913</td>\n",
       "      <td>0.551198</td>\n",
       "      <td>0.516344</td>\n",
       "      <td>0.227106</td>\n",
       "      <td>0.129847</td>\n",
       "      <td>...</td>\n",
       "      <td>0.980281</td>\n",
       "      <td>0.413973</td>\n",
       "      <td>0.747822</td>\n",
       "      <td>0.609467</td>\n",
       "      <td>0.019467</td>\n",
       "      <td>0.371748</td>\n",
       "      <td>0.823010</td>\n",
       "      <td>0.713310</td>\n",
       "      <td>0.858389</td>\n",
       "      <td>0.409761</td>\n",
       "    </tr>\n",
       "    <tr>\n",
       "      <th>ENSG00000000457</th>\n",
       "      <td>0.757443</td>\n",
       "      <td>0.282676</td>\n",
       "      <td>0.645016</td>\n",
       "      <td>0.605318</td>\n",
       "      <td>0.764030</td>\n",
       "      <td>0.019528</td>\n",
       "      <td>0.814719</td>\n",
       "      <td>0.868149</td>\n",
       "      <td>0.688368</td>\n",
       "      <td>0.049198</td>\n",
       "      <td>...</td>\n",
       "      <td>0.228982</td>\n",
       "      <td>0.636830</td>\n",
       "      <td>0.654535</td>\n",
       "      <td>0.010907</td>\n",
       "      <td>0.726300</td>\n",
       "      <td>0.210658</td>\n",
       "      <td>0.008023</td>\n",
       "      <td>0.678749</td>\n",
       "      <td>0.836679</td>\n",
       "      <td>0.812484</td>\n",
       "    </tr>\n",
       "    <tr>\n",
       "      <th>ENSG00000000460</th>\n",
       "      <td>0.101185</td>\n",
       "      <td>0.465145</td>\n",
       "      <td>0.847302</td>\n",
       "      <td>0.928796</td>\n",
       "      <td>0.645850</td>\n",
       "      <td>0.513639</td>\n",
       "      <td>0.263445</td>\n",
       "      <td>0.661105</td>\n",
       "      <td>0.102007</td>\n",
       "      <td>0.477268</td>\n",
       "      <td>...</td>\n",
       "      <td>0.301460</td>\n",
       "      <td>0.140522</td>\n",
       "      <td>0.646442</td>\n",
       "      <td>0.587969</td>\n",
       "      <td>0.498724</td>\n",
       "      <td>0.521805</td>\n",
       "      <td>0.004462</td>\n",
       "      <td>0.736509</td>\n",
       "      <td>0.432229</td>\n",
       "      <td>0.486664</td>\n",
       "    </tr>\n",
       "    <tr>\n",
       "      <th>ENSG00000000938</th>\n",
       "      <td>0.579861</td>\n",
       "      <td>0.905545</td>\n",
       "      <td>0.395741</td>\n",
       "      <td>0.730425</td>\n",
       "      <td>0.269117</td>\n",
       "      <td>0.266458</td>\n",
       "      <td>0.710789</td>\n",
       "      <td>0.404122</td>\n",
       "      <td>0.953161</td>\n",
       "      <td>0.605097</td>\n",
       "      <td>...</td>\n",
       "      <td>0.588855</td>\n",
       "      <td>0.226977</td>\n",
       "      <td>0.576593</td>\n",
       "      <td>0.059247</td>\n",
       "      <td>0.435438</td>\n",
       "      <td>0.953160</td>\n",
       "      <td>0.101875</td>\n",
       "      <td>0.954998</td>\n",
       "      <td>0.097831</td>\n",
       "      <td>0.135045</td>\n",
       "    </tr>\n",
       "    <tr>\n",
       "      <th>ENSG00000000971</th>\n",
       "      <td>0.639334</td>\n",
       "      <td>0.336059</td>\n",
       "      <td>0.204268</td>\n",
       "      <td>0.176063</td>\n",
       "      <td>0.743292</td>\n",
       "      <td>0.109981</td>\n",
       "      <td>0.908151</td>\n",
       "      <td>0.442417</td>\n",
       "      <td>0.829314</td>\n",
       "      <td>0.333868</td>\n",
       "      <td>...</td>\n",
       "      <td>0.109883</td>\n",
       "      <td>0.040871</td>\n",
       "      <td>0.005662</td>\n",
       "      <td>0.020391</td>\n",
       "      <td>0.439466</td>\n",
       "      <td>0.690242</td>\n",
       "      <td>0.055059</td>\n",
       "      <td>0.002660</td>\n",
       "      <td>0.331132</td>\n",
       "      <td>0.995450</td>\n",
       "    </tr>\n",
       "  </tbody>\n",
       "</table>\n",
       "<p>5 rows × 4091 columns</p>\n",
       "</div>"
      ],
      "text/plain": [
       "                 D3_ANAEMIA_IRONDEF-Iron_deficiency_anaemia  \\\n",
       "gene_name                                                     \n",
       "ENSG00000000419                                    0.981200   \n",
       "ENSG00000000457                                    0.757443   \n",
       "ENSG00000000460                                    0.101185   \n",
       "ENSG00000000938                                    0.579861   \n",
       "ENSG00000000971                                    0.639334   \n",
       "\n",
       "                 C54-Diagnoses_main_ICD10_C54_Malignant_neoplasm_of_corpus_uteri  \\\n",
       "gene_name                                                                          \n",
       "ENSG00000000419                                           0.403348                 \n",
       "ENSG00000000457                                           0.282676                 \n",
       "ENSG00000000460                                           0.465145                 \n",
       "ENSG00000000938                                           0.905545                 \n",
       "ENSG00000000971                                           0.336059                 \n",
       "\n",
       "                 N35-Diagnoses_main_ICD10_N35_Urethral_stricture  \\\n",
       "gene_name                                                          \n",
       "ENSG00000000419                                         0.862788   \n",
       "ENSG00000000457                                         0.645016   \n",
       "ENSG00000000460                                         0.847302   \n",
       "ENSG00000000938                                         0.395741   \n",
       "ENSG00000000971                                         0.204268   \n",
       "\n",
       "                 20521-Belittlement_by_partner_or_expartner_as_an_adult  \\\n",
       "gene_name                                                                 \n",
       "ENSG00000000419                                           0.024683        \n",
       "ENSG00000000457                                           0.605318        \n",
       "ENSG00000000460                                           0.928796        \n",
       "ENSG00000000938                                           0.730425        \n",
       "ENSG00000000971                                           0.176063        \n",
       "\n",
       "                 O72-Diagnoses_main_ICD10_O72_Postpartum_haemorrhage  \\\n",
       "gene_name                                                              \n",
       "ENSG00000000419                                           0.561934     \n",
       "ENSG00000000457                                           0.764030     \n",
       "ENSG00000000460                                           0.645850     \n",
       "ENSG00000000938                                           0.269117     \n",
       "ENSG00000000971                                           0.743292     \n",
       "\n",
       "                 20547_1-Activities_undertaken_to_treat_depression_Talking_therapies_such_as_psychotherapy_counselling_group_therapy_or_CBT  \\\n",
       "gene_name                                                                                                                                     \n",
       "ENSG00000000419                                           0.956913                                                                            \n",
       "ENSG00000000457                                           0.019528                                                                            \n",
       "ENSG00000000460                                           0.513639                                                                            \n",
       "ENSG00000000938                                           0.266458                                                                            \n",
       "ENSG00000000971                                           0.109981                                                                            \n",
       "\n",
       "                 22601_21133023-Job_coding_physicist_astronomer_geologist_geophysicist_meteorologist_oceanographer_seismologist  \\\n",
       "gene_name                                                                                                                         \n",
       "ENSG00000000419                                           0.551198                                                                \n",
       "ENSG00000000457                                           0.814719                                                                \n",
       "ENSG00000000460                                           0.263445                                                                \n",
       "ENSG00000000938                                           0.710789                                                                \n",
       "ENSG00000000971                                           0.908151                                                                \n",
       "\n",
       "                 6138_3-Qualifications_O_levelsGCSEs_or_equivalent  \\\n",
       "gene_name                                                            \n",
       "ENSG00000000419                                           0.516344   \n",
       "ENSG00000000457                                           0.868149   \n",
       "ENSG00000000460                                           0.661105   \n",
       "ENSG00000000938                                           0.404122   \n",
       "ENSG00000000971                                           0.442417   \n",
       "\n",
       "                 3446_1-Type_of_tobacco_currently_smoked_Manufactured_cigarettes  \\\n",
       "gene_name                                                                          \n",
       "ENSG00000000419                                           0.227106                 \n",
       "ENSG00000000457                                           0.688368                 \n",
       "ENSG00000000460                                           0.102007                 \n",
       "ENSG00000000938                                           0.953161                 \n",
       "ENSG00000000971                                           0.829314                 \n",
       "\n",
       "                 24011_raw-Traffic_intensity_on_the_nearest_major_road  ...  \\\n",
       "gene_name                                                               ...   \n",
       "ENSG00000000419                                           0.129847      ...   \n",
       "ENSG00000000457                                           0.049198      ...   \n",
       "ENSG00000000460                                           0.477268      ...   \n",
       "ENSG00000000938                                           0.605097      ...   \n",
       "ENSG00000000971                                           0.333868      ...   \n",
       "\n",
       "                 PGC_ADHD_EUR_2017  BCAC_ER_negative_BreastCancer_EUR  \\\n",
       "gene_name                                                               \n",
       "ENSG00000000419           0.980281                           0.413973   \n",
       "ENSG00000000457           0.228982                           0.636830   \n",
       "ENSG00000000460           0.301460                           0.140522   \n",
       "ENSG00000000938           0.588855                           0.226977   \n",
       "ENSG00000000971           0.109883                           0.040871   \n",
       "\n",
       "                 SSGAC_Education_Years_Pooled  pgc.scz2  MAGNETIC_HDL.C  \\\n",
       "gene_name                                                                 \n",
       "ENSG00000000419                      0.747822  0.609467        0.019467   \n",
       "ENSG00000000457                      0.654535  0.010907        0.726300   \n",
       "ENSG00000000460                      0.646442  0.587969        0.498724   \n",
       "ENSG00000000938                      0.576593  0.059247        0.435438   \n",
       "ENSG00000000971                      0.005662  0.020391        0.439466   \n",
       "\n",
       "                 MAGIC_ln_FastingInsulin  \\\n",
       "gene_name                                  \n",
       "ENSG00000000419                 0.371748   \n",
       "ENSG00000000457                 0.210658   \n",
       "ENSG00000000460                 0.521805   \n",
       "ENSG00000000938                 0.953160   \n",
       "ENSG00000000971                 0.690242   \n",
       "\n",
       "                 Astle_et_al_2016_Sum_eosinophil_basophil_counts  \\\n",
       "gene_name                                                          \n",
       "ENSG00000000419                                         0.823010   \n",
       "ENSG00000000457                                         0.008023   \n",
       "ENSG00000000460                                         0.004462   \n",
       "ENSG00000000938                                         0.101875   \n",
       "ENSG00000000971                                         0.055059   \n",
       "\n",
       "                 SSGAC_Depressive_Symptoms  Jones_et_al_2016_SleepDuration  \\\n",
       "gene_name                                                                    \n",
       "ENSG00000000419                   0.713310                        0.858389   \n",
       "ENSG00000000457                   0.678749                        0.836679   \n",
       "ENSG00000000460                   0.736509                        0.432229   \n",
       "ENSG00000000938                   0.954998                        0.097831   \n",
       "ENSG00000000971                   0.002660                        0.331132   \n",
       "\n",
       "                 Astle_et_al_2016_Red_blood_cell_count  \n",
       "gene_name                                               \n",
       "ENSG00000000419                               0.409761  \n",
       "ENSG00000000457                               0.812484  \n",
       "ENSG00000000460                               0.486664  \n",
       "ENSG00000000938                               0.135045  \n",
       "ENSG00000000971                               0.995450  \n",
       "\n",
       "[5 rows x 4091 columns]"
      ]
     },
     "metadata": {},
     "output_type": "display_data"
    }
   ],
   "source": [
    "multixcan_matrix_sorted = smultixcan_gene_associations.loc[common_genes]\n",
    "display(multixcan_matrix_sorted.shape)\n",
    "display(multixcan_matrix_sorted.head())"
   ]
  },
  {
   "cell_type": "code",
   "execution_count": 38,
   "metadata": {},
   "outputs": [],
   "source": [
    "assert fastenloc_matrix_sorted.shape == multixcan_matrix_sorted.shape"
   ]
  },
  {
   "cell_type": "markdown",
   "metadata": {},
   "source": [
    "### Using stringent pvalue threshold"
   ]
  },
  {
   "cell_type": "code",
   "execution_count": 39,
   "metadata": {},
   "outputs": [
    {
     "data": {
      "text/plain": [
       "5.49e-10"
      ]
     },
     "metadata": {},
     "output_type": "display_data"
    }
   ],
   "source": [
    "display(PVALUE_THRESHOLD)"
   ]
  },
  {
   "cell_type": "code",
   "execution_count": 40,
   "metadata": {},
   "outputs": [
    {
     "data": {
      "text/plain": [
       "(22427, 4091)"
      ]
     },
     "metadata": {},
     "output_type": "display_data"
    },
    {
     "data": {
      "text/html": [
       "<div>\n",
       "<style scoped>\n",
       "    .dataframe tbody tr th:only-of-type {\n",
       "        vertical-align: middle;\n",
       "    }\n",
       "\n",
       "    .dataframe tbody tr th {\n",
       "        vertical-align: top;\n",
       "    }\n",
       "\n",
       "    .dataframe thead th {\n",
       "        text-align: right;\n",
       "    }\n",
       "</style>\n",
       "<table border=\"1\" class=\"dataframe\">\n",
       "  <thead>\n",
       "    <tr style=\"text-align: right;\">\n",
       "      <th></th>\n",
       "      <th>D3_ANAEMIA_IRONDEF-Iron_deficiency_anaemia</th>\n",
       "      <th>C54-Diagnoses_main_ICD10_C54_Malignant_neoplasm_of_corpus_uteri</th>\n",
       "      <th>N35-Diagnoses_main_ICD10_N35_Urethral_stricture</th>\n",
       "      <th>20521-Belittlement_by_partner_or_expartner_as_an_adult</th>\n",
       "      <th>O72-Diagnoses_main_ICD10_O72_Postpartum_haemorrhage</th>\n",
       "      <th>20547_1-Activities_undertaken_to_treat_depression_Talking_therapies_such_as_psychotherapy_counselling_group_therapy_or_CBT</th>\n",
       "      <th>22601_21133023-Job_coding_physicist_astronomer_geologist_geophysicist_meteorologist_oceanographer_seismologist</th>\n",
       "      <th>6138_3-Qualifications_O_levelsGCSEs_or_equivalent</th>\n",
       "      <th>3446_1-Type_of_tobacco_currently_smoked_Manufactured_cigarettes</th>\n",
       "      <th>24011_raw-Traffic_intensity_on_the_nearest_major_road</th>\n",
       "      <th>...</th>\n",
       "      <th>PGC_ADHD_EUR_2017</th>\n",
       "      <th>BCAC_ER_negative_BreastCancer_EUR</th>\n",
       "      <th>SSGAC_Education_Years_Pooled</th>\n",
       "      <th>pgc.scz2</th>\n",
       "      <th>MAGNETIC_HDL.C</th>\n",
       "      <th>MAGIC_ln_FastingInsulin</th>\n",
       "      <th>Astle_et_al_2016_Sum_eosinophil_basophil_counts</th>\n",
       "      <th>SSGAC_Depressive_Symptoms</th>\n",
       "      <th>Jones_et_al_2016_SleepDuration</th>\n",
       "      <th>Astle_et_al_2016_Red_blood_cell_count</th>\n",
       "    </tr>\n",
       "    <tr>\n",
       "      <th>gene_name</th>\n",
       "      <th></th>\n",
       "      <th></th>\n",
       "      <th></th>\n",
       "      <th></th>\n",
       "      <th></th>\n",
       "      <th></th>\n",
       "      <th></th>\n",
       "      <th></th>\n",
       "      <th></th>\n",
       "      <th></th>\n",
       "      <th></th>\n",
       "      <th></th>\n",
       "      <th></th>\n",
       "      <th></th>\n",
       "      <th></th>\n",
       "      <th></th>\n",
       "      <th></th>\n",
       "      <th></th>\n",
       "      <th></th>\n",
       "      <th></th>\n",
       "      <th></th>\n",
       "    </tr>\n",
       "  </thead>\n",
       "  <tbody>\n",
       "    <tr>\n",
       "      <th>ENSG00000000419</th>\n",
       "      <td>False</td>\n",
       "      <td>False</td>\n",
       "      <td>False</td>\n",
       "      <td>False</td>\n",
       "      <td>False</td>\n",
       "      <td>False</td>\n",
       "      <td>False</td>\n",
       "      <td>False</td>\n",
       "      <td>False</td>\n",
       "      <td>False</td>\n",
       "      <td>...</td>\n",
       "      <td>False</td>\n",
       "      <td>False</td>\n",
       "      <td>False</td>\n",
       "      <td>False</td>\n",
       "      <td>False</td>\n",
       "      <td>False</td>\n",
       "      <td>False</td>\n",
       "      <td>False</td>\n",
       "      <td>False</td>\n",
       "      <td>False</td>\n",
       "    </tr>\n",
       "    <tr>\n",
       "      <th>ENSG00000000457</th>\n",
       "      <td>False</td>\n",
       "      <td>False</td>\n",
       "      <td>False</td>\n",
       "      <td>False</td>\n",
       "      <td>False</td>\n",
       "      <td>False</td>\n",
       "      <td>False</td>\n",
       "      <td>False</td>\n",
       "      <td>False</td>\n",
       "      <td>False</td>\n",
       "      <td>...</td>\n",
       "      <td>False</td>\n",
       "      <td>False</td>\n",
       "      <td>False</td>\n",
       "      <td>False</td>\n",
       "      <td>False</td>\n",
       "      <td>False</td>\n",
       "      <td>False</td>\n",
       "      <td>False</td>\n",
       "      <td>False</td>\n",
       "      <td>False</td>\n",
       "    </tr>\n",
       "    <tr>\n",
       "      <th>ENSG00000000460</th>\n",
       "      <td>False</td>\n",
       "      <td>False</td>\n",
       "      <td>False</td>\n",
       "      <td>False</td>\n",
       "      <td>False</td>\n",
       "      <td>False</td>\n",
       "      <td>False</td>\n",
       "      <td>False</td>\n",
       "      <td>False</td>\n",
       "      <td>False</td>\n",
       "      <td>...</td>\n",
       "      <td>False</td>\n",
       "      <td>False</td>\n",
       "      <td>False</td>\n",
       "      <td>False</td>\n",
       "      <td>False</td>\n",
       "      <td>False</td>\n",
       "      <td>False</td>\n",
       "      <td>False</td>\n",
       "      <td>False</td>\n",
       "      <td>False</td>\n",
       "    </tr>\n",
       "    <tr>\n",
       "      <th>ENSG00000000938</th>\n",
       "      <td>False</td>\n",
       "      <td>False</td>\n",
       "      <td>False</td>\n",
       "      <td>False</td>\n",
       "      <td>False</td>\n",
       "      <td>False</td>\n",
       "      <td>False</td>\n",
       "      <td>False</td>\n",
       "      <td>False</td>\n",
       "      <td>False</td>\n",
       "      <td>...</td>\n",
       "      <td>False</td>\n",
       "      <td>False</td>\n",
       "      <td>False</td>\n",
       "      <td>False</td>\n",
       "      <td>False</td>\n",
       "      <td>False</td>\n",
       "      <td>False</td>\n",
       "      <td>False</td>\n",
       "      <td>False</td>\n",
       "      <td>False</td>\n",
       "    </tr>\n",
       "    <tr>\n",
       "      <th>ENSG00000000971</th>\n",
       "      <td>False</td>\n",
       "      <td>False</td>\n",
       "      <td>False</td>\n",
       "      <td>False</td>\n",
       "      <td>False</td>\n",
       "      <td>False</td>\n",
       "      <td>False</td>\n",
       "      <td>False</td>\n",
       "      <td>False</td>\n",
       "      <td>False</td>\n",
       "      <td>...</td>\n",
       "      <td>False</td>\n",
       "      <td>False</td>\n",
       "      <td>False</td>\n",
       "      <td>False</td>\n",
       "      <td>False</td>\n",
       "      <td>False</td>\n",
       "      <td>False</td>\n",
       "      <td>False</td>\n",
       "      <td>False</td>\n",
       "      <td>False</td>\n",
       "    </tr>\n",
       "  </tbody>\n",
       "</table>\n",
       "<p>5 rows × 4091 columns</p>\n",
       "</div>"
      ],
      "text/plain": [
       "                 D3_ANAEMIA_IRONDEF-Iron_deficiency_anaemia  \\\n",
       "gene_name                                                     \n",
       "ENSG00000000419                                       False   \n",
       "ENSG00000000457                                       False   \n",
       "ENSG00000000460                                       False   \n",
       "ENSG00000000938                                       False   \n",
       "ENSG00000000971                                       False   \n",
       "\n",
       "                 C54-Diagnoses_main_ICD10_C54_Malignant_neoplasm_of_corpus_uteri  \\\n",
       "gene_name                                                                          \n",
       "ENSG00000000419                                              False                 \n",
       "ENSG00000000457                                              False                 \n",
       "ENSG00000000460                                              False                 \n",
       "ENSG00000000938                                              False                 \n",
       "ENSG00000000971                                              False                 \n",
       "\n",
       "                 N35-Diagnoses_main_ICD10_N35_Urethral_stricture  \\\n",
       "gene_name                                                          \n",
       "ENSG00000000419                                            False   \n",
       "ENSG00000000457                                            False   \n",
       "ENSG00000000460                                            False   \n",
       "ENSG00000000938                                            False   \n",
       "ENSG00000000971                                            False   \n",
       "\n",
       "                 20521-Belittlement_by_partner_or_expartner_as_an_adult  \\\n",
       "gene_name                                                                 \n",
       "ENSG00000000419                                              False        \n",
       "ENSG00000000457                                              False        \n",
       "ENSG00000000460                                              False        \n",
       "ENSG00000000938                                              False        \n",
       "ENSG00000000971                                              False        \n",
       "\n",
       "                 O72-Diagnoses_main_ICD10_O72_Postpartum_haemorrhage  \\\n",
       "gene_name                                                              \n",
       "ENSG00000000419                                              False     \n",
       "ENSG00000000457                                              False     \n",
       "ENSG00000000460                                              False     \n",
       "ENSG00000000938                                              False     \n",
       "ENSG00000000971                                              False     \n",
       "\n",
       "                 20547_1-Activities_undertaken_to_treat_depression_Talking_therapies_such_as_psychotherapy_counselling_group_therapy_or_CBT  \\\n",
       "gene_name                                                                                                                                     \n",
       "ENSG00000000419                                              False                                                                            \n",
       "ENSG00000000457                                              False                                                                            \n",
       "ENSG00000000460                                              False                                                                            \n",
       "ENSG00000000938                                              False                                                                            \n",
       "ENSG00000000971                                              False                                                                            \n",
       "\n",
       "                 22601_21133023-Job_coding_physicist_astronomer_geologist_geophysicist_meteorologist_oceanographer_seismologist  \\\n",
       "gene_name                                                                                                                         \n",
       "ENSG00000000419                                              False                                                                \n",
       "ENSG00000000457                                              False                                                                \n",
       "ENSG00000000460                                              False                                                                \n",
       "ENSG00000000938                                              False                                                                \n",
       "ENSG00000000971                                              False                                                                \n",
       "\n",
       "                 6138_3-Qualifications_O_levelsGCSEs_or_equivalent  \\\n",
       "gene_name                                                            \n",
       "ENSG00000000419                                              False   \n",
       "ENSG00000000457                                              False   \n",
       "ENSG00000000460                                              False   \n",
       "ENSG00000000938                                              False   \n",
       "ENSG00000000971                                              False   \n",
       "\n",
       "                 3446_1-Type_of_tobacco_currently_smoked_Manufactured_cigarettes  \\\n",
       "gene_name                                                                          \n",
       "ENSG00000000419                                              False                 \n",
       "ENSG00000000457                                              False                 \n",
       "ENSG00000000460                                              False                 \n",
       "ENSG00000000938                                              False                 \n",
       "ENSG00000000971                                              False                 \n",
       "\n",
       "                 24011_raw-Traffic_intensity_on_the_nearest_major_road  ...  \\\n",
       "gene_name                                                               ...   \n",
       "ENSG00000000419                                              False      ...   \n",
       "ENSG00000000457                                              False      ...   \n",
       "ENSG00000000460                                              False      ...   \n",
       "ENSG00000000938                                              False      ...   \n",
       "ENSG00000000971                                              False      ...   \n",
       "\n",
       "                 PGC_ADHD_EUR_2017  BCAC_ER_negative_BreastCancer_EUR  \\\n",
       "gene_name                                                               \n",
       "ENSG00000000419              False                              False   \n",
       "ENSG00000000457              False                              False   \n",
       "ENSG00000000460              False                              False   \n",
       "ENSG00000000938              False                              False   \n",
       "ENSG00000000971              False                              False   \n",
       "\n",
       "                 SSGAC_Education_Years_Pooled  pgc.scz2  MAGNETIC_HDL.C  \\\n",
       "gene_name                                                                 \n",
       "ENSG00000000419                         False     False           False   \n",
       "ENSG00000000457                         False     False           False   \n",
       "ENSG00000000460                         False     False           False   \n",
       "ENSG00000000938                         False     False           False   \n",
       "ENSG00000000971                         False     False           False   \n",
       "\n",
       "                 MAGIC_ln_FastingInsulin  \\\n",
       "gene_name                                  \n",
       "ENSG00000000419                    False   \n",
       "ENSG00000000457                    False   \n",
       "ENSG00000000460                    False   \n",
       "ENSG00000000938                    False   \n",
       "ENSG00000000971                    False   \n",
       "\n",
       "                 Astle_et_al_2016_Sum_eosinophil_basophil_counts  \\\n",
       "gene_name                                                          \n",
       "ENSG00000000419                                            False   \n",
       "ENSG00000000457                                            False   \n",
       "ENSG00000000460                                            False   \n",
       "ENSG00000000938                                            False   \n",
       "ENSG00000000971                                            False   \n",
       "\n",
       "                 SSGAC_Depressive_Symptoms  Jones_et_al_2016_SleepDuration  \\\n",
       "gene_name                                                                    \n",
       "ENSG00000000419                      False                           False   \n",
       "ENSG00000000457                      False                           False   \n",
       "ENSG00000000460                      False                           False   \n",
       "ENSG00000000938                      False                           False   \n",
       "ENSG00000000971                      False                           False   \n",
       "\n",
       "                 Astle_et_al_2016_Red_blood_cell_count  \n",
       "gene_name                                               \n",
       "ENSG00000000419                                  False  \n",
       "ENSG00000000457                                  False  \n",
       "ENSG00000000460                                  False  \n",
       "ENSG00000000938                                  False  \n",
       "ENSG00000000971                                  False  \n",
       "\n",
       "[5 rows x 4091 columns]"
      ]
     },
     "metadata": {},
     "output_type": "display_data"
    }
   ],
   "source": [
    "multixcan_signif = (multixcan_matrix_sorted < PVALUE_THRESHOLD)\n",
    "display(multixcan_signif.shape)\n",
    "display(multixcan_signif.head())"
   ]
  },
  {
   "cell_type": "code",
   "execution_count": 41,
   "metadata": {},
   "outputs": [
    {
     "data": {
      "text/plain": [
       "(22427, 4091)"
      ]
     },
     "metadata": {},
     "output_type": "display_data"
    },
    {
     "data": {
      "text/html": [
       "<div>\n",
       "<style scoped>\n",
       "    .dataframe tbody tr th:only-of-type {\n",
       "        vertical-align: middle;\n",
       "    }\n",
       "\n",
       "    .dataframe tbody tr th {\n",
       "        vertical-align: top;\n",
       "    }\n",
       "\n",
       "    .dataframe thead th {\n",
       "        text-align: right;\n",
       "    }\n",
       "</style>\n",
       "<table border=\"1\" class=\"dataframe\">\n",
       "  <thead>\n",
       "    <tr style=\"text-align: right;\">\n",
       "      <th></th>\n",
       "      <th>D3_ANAEMIA_IRONDEF-Iron_deficiency_anaemia</th>\n",
       "      <th>C54-Diagnoses_main_ICD10_C54_Malignant_neoplasm_of_corpus_uteri</th>\n",
       "      <th>N35-Diagnoses_main_ICD10_N35_Urethral_stricture</th>\n",
       "      <th>20521-Belittlement_by_partner_or_expartner_as_an_adult</th>\n",
       "      <th>O72-Diagnoses_main_ICD10_O72_Postpartum_haemorrhage</th>\n",
       "      <th>20547_1-Activities_undertaken_to_treat_depression_Talking_therapies_such_as_psychotherapy_counselling_group_therapy_or_CBT</th>\n",
       "      <th>22601_21133023-Job_coding_physicist_astronomer_geologist_geophysicist_meteorologist_oceanographer_seismologist</th>\n",
       "      <th>6138_3-Qualifications_O_levelsGCSEs_or_equivalent</th>\n",
       "      <th>3446_1-Type_of_tobacco_currently_smoked_Manufactured_cigarettes</th>\n",
       "      <th>24011_raw-Traffic_intensity_on_the_nearest_major_road</th>\n",
       "      <th>...</th>\n",
       "      <th>PGC_ADHD_EUR_2017</th>\n",
       "      <th>BCAC_ER_negative_BreastCancer_EUR</th>\n",
       "      <th>SSGAC_Education_Years_Pooled</th>\n",
       "      <th>pgc.scz2</th>\n",
       "      <th>MAGNETIC_HDL.C</th>\n",
       "      <th>MAGIC_ln_FastingInsulin</th>\n",
       "      <th>Astle_et_al_2016_Sum_eosinophil_basophil_counts</th>\n",
       "      <th>SSGAC_Depressive_Symptoms</th>\n",
       "      <th>Jones_et_al_2016_SleepDuration</th>\n",
       "      <th>Astle_et_al_2016_Red_blood_cell_count</th>\n",
       "    </tr>\n",
       "    <tr>\n",
       "      <th>gene_name</th>\n",
       "      <th></th>\n",
       "      <th></th>\n",
       "      <th></th>\n",
       "      <th></th>\n",
       "      <th></th>\n",
       "      <th></th>\n",
       "      <th></th>\n",
       "      <th></th>\n",
       "      <th></th>\n",
       "      <th></th>\n",
       "      <th></th>\n",
       "      <th></th>\n",
       "      <th></th>\n",
       "      <th></th>\n",
       "      <th></th>\n",
       "      <th></th>\n",
       "      <th></th>\n",
       "      <th></th>\n",
       "      <th></th>\n",
       "      <th></th>\n",
       "      <th></th>\n",
       "    </tr>\n",
       "  </thead>\n",
       "  <tbody>\n",
       "    <tr>\n",
       "      <th>ENSG00000000419</th>\n",
       "      <td>False</td>\n",
       "      <td>False</td>\n",
       "      <td>False</td>\n",
       "      <td>False</td>\n",
       "      <td>False</td>\n",
       "      <td>False</td>\n",
       "      <td>False</td>\n",
       "      <td>False</td>\n",
       "      <td>False</td>\n",
       "      <td>False</td>\n",
       "      <td>...</td>\n",
       "      <td>False</td>\n",
       "      <td>False</td>\n",
       "      <td>False</td>\n",
       "      <td>False</td>\n",
       "      <td>False</td>\n",
       "      <td>False</td>\n",
       "      <td>False</td>\n",
       "      <td>False</td>\n",
       "      <td>False</td>\n",
       "      <td>False</td>\n",
       "    </tr>\n",
       "    <tr>\n",
       "      <th>ENSG00000000457</th>\n",
       "      <td>False</td>\n",
       "      <td>False</td>\n",
       "      <td>False</td>\n",
       "      <td>False</td>\n",
       "      <td>False</td>\n",
       "      <td>False</td>\n",
       "      <td>False</td>\n",
       "      <td>False</td>\n",
       "      <td>False</td>\n",
       "      <td>False</td>\n",
       "      <td>...</td>\n",
       "      <td>False</td>\n",
       "      <td>False</td>\n",
       "      <td>False</td>\n",
       "      <td>False</td>\n",
       "      <td>False</td>\n",
       "      <td>False</td>\n",
       "      <td>False</td>\n",
       "      <td>False</td>\n",
       "      <td>False</td>\n",
       "      <td>False</td>\n",
       "    </tr>\n",
       "    <tr>\n",
       "      <th>ENSG00000000460</th>\n",
       "      <td>False</td>\n",
       "      <td>False</td>\n",
       "      <td>False</td>\n",
       "      <td>False</td>\n",
       "      <td>False</td>\n",
       "      <td>False</td>\n",
       "      <td>False</td>\n",
       "      <td>False</td>\n",
       "      <td>False</td>\n",
       "      <td>False</td>\n",
       "      <td>...</td>\n",
       "      <td>False</td>\n",
       "      <td>False</td>\n",
       "      <td>False</td>\n",
       "      <td>False</td>\n",
       "      <td>False</td>\n",
       "      <td>False</td>\n",
       "      <td>False</td>\n",
       "      <td>False</td>\n",
       "      <td>False</td>\n",
       "      <td>False</td>\n",
       "    </tr>\n",
       "    <tr>\n",
       "      <th>ENSG00000000938</th>\n",
       "      <td>False</td>\n",
       "      <td>False</td>\n",
       "      <td>False</td>\n",
       "      <td>False</td>\n",
       "      <td>False</td>\n",
       "      <td>False</td>\n",
       "      <td>False</td>\n",
       "      <td>False</td>\n",
       "      <td>False</td>\n",
       "      <td>False</td>\n",
       "      <td>...</td>\n",
       "      <td>False</td>\n",
       "      <td>False</td>\n",
       "      <td>False</td>\n",
       "      <td>False</td>\n",
       "      <td>False</td>\n",
       "      <td>False</td>\n",
       "      <td>False</td>\n",
       "      <td>False</td>\n",
       "      <td>False</td>\n",
       "      <td>False</td>\n",
       "    </tr>\n",
       "    <tr>\n",
       "      <th>ENSG00000000971</th>\n",
       "      <td>False</td>\n",
       "      <td>False</td>\n",
       "      <td>False</td>\n",
       "      <td>False</td>\n",
       "      <td>False</td>\n",
       "      <td>False</td>\n",
       "      <td>False</td>\n",
       "      <td>False</td>\n",
       "      <td>False</td>\n",
       "      <td>False</td>\n",
       "      <td>...</td>\n",
       "      <td>False</td>\n",
       "      <td>False</td>\n",
       "      <td>False</td>\n",
       "      <td>False</td>\n",
       "      <td>False</td>\n",
       "      <td>False</td>\n",
       "      <td>False</td>\n",
       "      <td>False</td>\n",
       "      <td>False</td>\n",
       "      <td>False</td>\n",
       "    </tr>\n",
       "  </tbody>\n",
       "</table>\n",
       "<p>5 rows × 4091 columns</p>\n",
       "</div>"
      ],
      "text/plain": [
       "                 D3_ANAEMIA_IRONDEF-Iron_deficiency_anaemia  \\\n",
       "gene_name                                                     \n",
       "ENSG00000000419                                       False   \n",
       "ENSG00000000457                                       False   \n",
       "ENSG00000000460                                       False   \n",
       "ENSG00000000938                                       False   \n",
       "ENSG00000000971                                       False   \n",
       "\n",
       "                 C54-Diagnoses_main_ICD10_C54_Malignant_neoplasm_of_corpus_uteri  \\\n",
       "gene_name                                                                          \n",
       "ENSG00000000419                                              False                 \n",
       "ENSG00000000457                                              False                 \n",
       "ENSG00000000460                                              False                 \n",
       "ENSG00000000938                                              False                 \n",
       "ENSG00000000971                                              False                 \n",
       "\n",
       "                 N35-Diagnoses_main_ICD10_N35_Urethral_stricture  \\\n",
       "gene_name                                                          \n",
       "ENSG00000000419                                            False   \n",
       "ENSG00000000457                                            False   \n",
       "ENSG00000000460                                            False   \n",
       "ENSG00000000938                                            False   \n",
       "ENSG00000000971                                            False   \n",
       "\n",
       "                 20521-Belittlement_by_partner_or_expartner_as_an_adult  \\\n",
       "gene_name                                                                 \n",
       "ENSG00000000419                                              False        \n",
       "ENSG00000000457                                              False        \n",
       "ENSG00000000460                                              False        \n",
       "ENSG00000000938                                              False        \n",
       "ENSG00000000971                                              False        \n",
       "\n",
       "                 O72-Diagnoses_main_ICD10_O72_Postpartum_haemorrhage  \\\n",
       "gene_name                                                              \n",
       "ENSG00000000419                                              False     \n",
       "ENSG00000000457                                              False     \n",
       "ENSG00000000460                                              False     \n",
       "ENSG00000000938                                              False     \n",
       "ENSG00000000971                                              False     \n",
       "\n",
       "                 20547_1-Activities_undertaken_to_treat_depression_Talking_therapies_such_as_psychotherapy_counselling_group_therapy_or_CBT  \\\n",
       "gene_name                                                                                                                                     \n",
       "ENSG00000000419                                              False                                                                            \n",
       "ENSG00000000457                                              False                                                                            \n",
       "ENSG00000000460                                              False                                                                            \n",
       "ENSG00000000938                                              False                                                                            \n",
       "ENSG00000000971                                              False                                                                            \n",
       "\n",
       "                 22601_21133023-Job_coding_physicist_astronomer_geologist_geophysicist_meteorologist_oceanographer_seismologist  \\\n",
       "gene_name                                                                                                                         \n",
       "ENSG00000000419                                              False                                                                \n",
       "ENSG00000000457                                              False                                                                \n",
       "ENSG00000000460                                              False                                                                \n",
       "ENSG00000000938                                              False                                                                \n",
       "ENSG00000000971                                              False                                                                \n",
       "\n",
       "                 6138_3-Qualifications_O_levelsGCSEs_or_equivalent  \\\n",
       "gene_name                                                            \n",
       "ENSG00000000419                                              False   \n",
       "ENSG00000000457                                              False   \n",
       "ENSG00000000460                                              False   \n",
       "ENSG00000000938                                              False   \n",
       "ENSG00000000971                                              False   \n",
       "\n",
       "                 3446_1-Type_of_tobacco_currently_smoked_Manufactured_cigarettes  \\\n",
       "gene_name                                                                          \n",
       "ENSG00000000419                                              False                 \n",
       "ENSG00000000457                                              False                 \n",
       "ENSG00000000460                                              False                 \n",
       "ENSG00000000938                                              False                 \n",
       "ENSG00000000971                                              False                 \n",
       "\n",
       "                 24011_raw-Traffic_intensity_on_the_nearest_major_road  ...  \\\n",
       "gene_name                                                               ...   \n",
       "ENSG00000000419                                              False      ...   \n",
       "ENSG00000000457                                              False      ...   \n",
       "ENSG00000000460                                              False      ...   \n",
       "ENSG00000000938                                              False      ...   \n",
       "ENSG00000000971                                              False      ...   \n",
       "\n",
       "                 PGC_ADHD_EUR_2017  BCAC_ER_negative_BreastCancer_EUR  \\\n",
       "gene_name                                                               \n",
       "ENSG00000000419              False                              False   \n",
       "ENSG00000000457              False                              False   \n",
       "ENSG00000000460              False                              False   \n",
       "ENSG00000000938              False                              False   \n",
       "ENSG00000000971              False                              False   \n",
       "\n",
       "                 SSGAC_Education_Years_Pooled  pgc.scz2  MAGNETIC_HDL.C  \\\n",
       "gene_name                                                                 \n",
       "ENSG00000000419                         False     False           False   \n",
       "ENSG00000000457                         False     False           False   \n",
       "ENSG00000000460                         False     False           False   \n",
       "ENSG00000000938                         False     False           False   \n",
       "ENSG00000000971                         False     False           False   \n",
       "\n",
       "                 MAGIC_ln_FastingInsulin  \\\n",
       "gene_name                                  \n",
       "ENSG00000000419                    False   \n",
       "ENSG00000000457                    False   \n",
       "ENSG00000000460                    False   \n",
       "ENSG00000000938                    False   \n",
       "ENSG00000000971                    False   \n",
       "\n",
       "                 Astle_et_al_2016_Sum_eosinophil_basophil_counts  \\\n",
       "gene_name                                                          \n",
       "ENSG00000000419                                            False   \n",
       "ENSG00000000457                                            False   \n",
       "ENSG00000000460                                            False   \n",
       "ENSG00000000938                                            False   \n",
       "ENSG00000000971                                            False   \n",
       "\n",
       "                 SSGAC_Depressive_Symptoms  Jones_et_al_2016_SleepDuration  \\\n",
       "gene_name                                                                    \n",
       "ENSG00000000419                      False                           False   \n",
       "ENSG00000000457                      False                           False   \n",
       "ENSG00000000460                      False                           False   \n",
       "ENSG00000000938                      False                           False   \n",
       "ENSG00000000971                      False                           False   \n",
       "\n",
       "                 Astle_et_al_2016_Red_blood_cell_count  \n",
       "gene_name                                               \n",
       "ENSG00000000419                                  False  \n",
       "ENSG00000000457                                  False  \n",
       "ENSG00000000460                                  False  \n",
       "ENSG00000000938                                  False  \n",
       "ENSG00000000971                                  False  \n",
       "\n",
       "[5 rows x 4091 columns]"
      ]
     },
     "metadata": {},
     "output_type": "display_data"
    }
   ],
   "source": [
    "fastenloc_signif = (fastenloc_matrix_sorted > 0.1)\n",
    "display(fastenloc_signif.shape)\n",
    "display(fastenloc_signif.head())"
   ]
  },
  {
   "cell_type": "code",
   "execution_count": 42,
   "metadata": {},
   "outputs": [
    {
     "data": {
      "text/plain": [
       "72990"
      ]
     },
     "metadata": {},
     "output_type": "display_data"
    },
    {
     "data": {
      "text/plain": [
       "0.000795541245816283"
      ]
     },
     "metadata": {},
     "output_type": "display_data"
    }
   ],
   "source": [
    "multixcan_hits = multixcan_signif.sum().sum()\n",
    "display(multixcan_hits)\n",
    "display(multixcan_hits / multixcan_signif.size)"
   ]
  },
  {
   "cell_type": "code",
   "execution_count": 43,
   "metadata": {},
   "outputs": [
    {
     "data": {
      "text/plain": [
       "292506"
      ]
     },
     "metadata": {},
     "output_type": "display_data"
    },
    {
     "data": {
      "text/plain": [
       "0.0031881160110801164"
      ]
     },
     "metadata": {},
     "output_type": "display_data"
    }
   ],
   "source": [
    "fastenloc_hits = fastenloc_signif.sum().sum()\n",
    "display(fastenloc_hits)\n",
    "display(fastenloc_hits / fastenloc_signif.size)"
   ]
  },
  {
   "cell_type": "code",
   "execution_count": 45,
   "metadata": {},
   "outputs": [],
   "source": [
    "fastenloc_and_multixcan_signif = (multixcan_signif & fastenloc_signif)\n",
    "assert fastenloc_and_multixcan_signif.shape == multixcan_signif.shape == fastenloc_signif.shape"
   ]
  },
  {
   "cell_type": "code",
   "execution_count": 46,
   "metadata": {},
   "outputs": [
    {
     "data": {
      "text/plain": [
       "22473"
      ]
     },
     "metadata": {},
     "output_type": "display_data"
    },
    {
     "data": {
      "text/plain": [
       "0.30789149198520344"
      ]
     },
     "metadata": {},
     "output_type": "display_data"
    },
    {
     "data": {
      "text/plain": [
       "'30.79%'"
      ]
     },
     "metadata": {},
     "output_type": "display_data"
    }
   ],
   "source": [
    "fe_mu_sum = fastenloc_and_multixcan_signif.sum().sum()\n",
    "display(fe_mu_sum)\n",
    "_perc = fe_mu_sum / multixcan_hits\n",
    "display(_perc)\n",
    "display(f'{(_perc * 100):.2f}%')"
   ]
  },
  {
   "cell_type": "markdown",
   "metadata": {},
   "source": [
    "# Export significant associations as a table"
   ]
  },
  {
   "cell_type": "code",
   "execution_count": 47,
   "metadata": {},
   "outputs": [],
   "source": [
    "# s-multixcan\n",
    "smultixcan_results = multixcan_matrix_sorted.unstack()"
   ]
  },
  {
   "cell_type": "code",
   "execution_count": 48,
   "metadata": {},
   "outputs": [
    {
     "data": {
      "text/plain": [
       "(91748857,)"
      ]
     },
     "execution_count": 48,
     "metadata": {},
     "output_type": "execute_result"
    }
   ],
   "source": [
    "smultixcan_results.shape"
   ]
  },
  {
   "cell_type": "code",
   "execution_count": 49,
   "metadata": {},
   "outputs": [
    {
     "data": {
      "text/plain": [
       "                                            gene_name      \n",
       "D3_ANAEMIA_IRONDEF-Iron_deficiency_anaemia  ENSG00000000419    0.981200\n",
       "                                            ENSG00000000457    0.757443\n",
       "                                            ENSG00000000460    0.101185\n",
       "                                            ENSG00000000938    0.579861\n",
       "                                            ENSG00000000971    0.639334\n",
       "dtype: float64"
      ]
     },
     "execution_count": 49,
     "metadata": {},
     "output_type": "execute_result"
    }
   ],
   "source": [
    "smultixcan_results.head()"
   ]
  },
  {
   "cell_type": "code",
   "execution_count": 50,
   "metadata": {},
   "outputs": [
    {
     "data": {
      "text/plain": [
       "1049005"
      ]
     },
     "execution_count": 50,
     "metadata": {},
     "output_type": "execute_result"
    }
   ],
   "source": [
    "smultixcan_results.isna().sum()"
   ]
  },
  {
   "cell_type": "code",
   "execution_count": 51,
   "metadata": {},
   "outputs": [],
   "source": [
    "smultixcan_results = smultixcan_results.dropna()"
   ]
  },
  {
   "cell_type": "code",
   "execution_count": 52,
   "metadata": {},
   "outputs": [
    {
     "data": {
      "text/plain": [
       "(90699852,)"
      ]
     },
     "execution_count": 52,
     "metadata": {},
     "output_type": "execute_result"
    }
   ],
   "source": [
    "smultixcan_results.shape"
   ]
  },
  {
   "cell_type": "code",
   "execution_count": 53,
   "metadata": {},
   "outputs": [],
   "source": [
    "assert smultixcan_results.isna().sum() == 0"
   ]
  },
  {
   "cell_type": "code",
   "execution_count": 54,
   "metadata": {},
   "outputs": [
    {
     "data": {
      "text/plain": [
       "72990"
      ]
     },
     "execution_count": 54,
     "metadata": {},
     "output_type": "execute_result"
    }
   ],
   "source": [
    "(smultixcan_results < PVALUE_THRESHOLD).sum()"
   ]
  },
  {
   "cell_type": "code",
   "execution_count": 55,
   "metadata": {},
   "outputs": [],
   "source": [
    "# fastenloc\n",
    "fastenloc_results = fastenloc_matrix_sorted.unstack()"
   ]
  },
  {
   "cell_type": "code",
   "execution_count": 56,
   "metadata": {},
   "outputs": [
    {
     "data": {
      "text/plain": [
       "(91748857,)"
      ]
     },
     "execution_count": 56,
     "metadata": {},
     "output_type": "execute_result"
    }
   ],
   "source": [
    "fastenloc_results.shape"
   ]
  },
  {
   "cell_type": "code",
   "execution_count": 57,
   "metadata": {},
   "outputs": [
    {
     "data": {
      "text/plain": [
       "                                            gene_name      \n",
       "D3_ANAEMIA_IRONDEF-Iron_deficiency_anaemia  ENSG00000000419    0.000475\n",
       "                                            ENSG00000000457    0.001202\n",
       "                                            ENSG00000000460    0.003668\n",
       "                                            ENSG00000000938    0.001505\n",
       "                                            ENSG00000000971    0.001648\n",
       "dtype: float64"
      ]
     },
     "execution_count": 57,
     "metadata": {},
     "output_type": "execute_result"
    }
   ],
   "source": [
    "fastenloc_results.head()"
   ]
  },
  {
   "cell_type": "code",
   "execution_count": 58,
   "metadata": {},
   "outputs": [
    {
     "data": {
      "text/plain": [
       "1554545"
      ]
     },
     "execution_count": 58,
     "metadata": {},
     "output_type": "execute_result"
    }
   ],
   "source": [
    "fastenloc_results.isna().sum()"
   ]
  },
  {
   "cell_type": "code",
   "execution_count": 59,
   "metadata": {},
   "outputs": [],
   "source": [
    "fastenloc_results = fastenloc_results.dropna()"
   ]
  },
  {
   "cell_type": "code",
   "execution_count": 60,
   "metadata": {},
   "outputs": [
    {
     "data": {
      "text/plain": [
       "(90194312,)"
      ]
     },
     "execution_count": 60,
     "metadata": {},
     "output_type": "execute_result"
    }
   ],
   "source": [
    "fastenloc_results.shape"
   ]
  },
  {
   "cell_type": "code",
   "execution_count": 61,
   "metadata": {},
   "outputs": [],
   "source": [
    "final_results = pd.DataFrame(index=smultixcan_results.index.copy(), columns=['smultixcan_pval', 'fastenloc_rcp'])"
   ]
  },
  {
   "cell_type": "code",
   "execution_count": null,
   "metadata": {},
   "outputs": [],
   "source": [
    "final_results = final_results.assign(smultixcan_pval=smultixcan_results, fastenloc_rcp=fastenloc_results)"
   ]
  },
  {
   "cell_type": "code",
   "execution_count": 66,
   "metadata": {},
   "outputs": [
    {
     "data": {
      "text/plain": [
       "(90699852, 2)"
      ]
     },
     "execution_count": 66,
     "metadata": {},
     "output_type": "execute_result"
    }
   ],
   "source": [
    "final_results.shape"
   ]
  },
  {
   "cell_type": "code",
   "execution_count": 67,
   "metadata": {},
   "outputs": [
    {
     "data": {
      "text/html": [
       "<div>\n",
       "<style scoped>\n",
       "    .dataframe tbody tr th:only-of-type {\n",
       "        vertical-align: middle;\n",
       "    }\n",
       "\n",
       "    .dataframe tbody tr th {\n",
       "        vertical-align: top;\n",
       "    }\n",
       "\n",
       "    .dataframe thead th {\n",
       "        text-align: right;\n",
       "    }\n",
       "</style>\n",
       "<table border=\"1\" class=\"dataframe\">\n",
       "  <thead>\n",
       "    <tr style=\"text-align: right;\">\n",
       "      <th></th>\n",
       "      <th></th>\n",
       "      <th>smultixcan_pval</th>\n",
       "      <th>fastenloc_rcp</th>\n",
       "    </tr>\n",
       "    <tr>\n",
       "      <th></th>\n",
       "      <th>gene_name</th>\n",
       "      <th></th>\n",
       "      <th></th>\n",
       "    </tr>\n",
       "  </thead>\n",
       "  <tbody>\n",
       "    <tr>\n",
       "      <th rowspan=\"5\" valign=\"top\">D3_ANAEMIA_IRONDEF-Iron_deficiency_anaemia</th>\n",
       "      <th>ENSG00000000419</th>\n",
       "      <td>0.981200</td>\n",
       "      <td>0.000475</td>\n",
       "    </tr>\n",
       "    <tr>\n",
       "      <th>ENSG00000000457</th>\n",
       "      <td>0.757443</td>\n",
       "      <td>0.001202</td>\n",
       "    </tr>\n",
       "    <tr>\n",
       "      <th>ENSG00000000460</th>\n",
       "      <td>0.101185</td>\n",
       "      <td>0.003668</td>\n",
       "    </tr>\n",
       "    <tr>\n",
       "      <th>ENSG00000000938</th>\n",
       "      <td>0.579861</td>\n",
       "      <td>0.001505</td>\n",
       "    </tr>\n",
       "    <tr>\n",
       "      <th>ENSG00000000971</th>\n",
       "      <td>0.639334</td>\n",
       "      <td>0.001648</td>\n",
       "    </tr>\n",
       "  </tbody>\n",
       "</table>\n",
       "</div>"
      ],
      "text/plain": [
       "                                                            smultixcan_pval  \\\n",
       "                                           gene_name                          \n",
       "D3_ANAEMIA_IRONDEF-Iron_deficiency_anaemia ENSG00000000419         0.981200   \n",
       "                                           ENSG00000000457         0.757443   \n",
       "                                           ENSG00000000460         0.101185   \n",
       "                                           ENSG00000000938         0.579861   \n",
       "                                           ENSG00000000971         0.639334   \n",
       "\n",
       "                                                            fastenloc_rcp  \n",
       "                                           gene_name                       \n",
       "D3_ANAEMIA_IRONDEF-Iron_deficiency_anaemia ENSG00000000419       0.000475  \n",
       "                                           ENSG00000000457       0.001202  \n",
       "                                           ENSG00000000460       0.003668  \n",
       "                                           ENSG00000000938       0.001505  \n",
       "                                           ENSG00000000971       0.001648  "
      ]
     },
     "execution_count": 67,
     "metadata": {},
     "output_type": "execute_result"
    }
   ],
   "source": [
    "final_results.head()"
   ]
  },
  {
   "cell_type": "code",
   "execution_count": 68,
   "metadata": {},
   "outputs": [
    {
     "data": {
      "text/plain": [
       "smultixcan_pval          0\n",
       "fastenloc_rcp      1529981\n",
       "dtype: int64"
      ]
     },
     "execution_count": 68,
     "metadata": {},
     "output_type": "execute_result"
    }
   ],
   "source": [
    "final_results.isna().sum()"
   ]
  },
  {
   "cell_type": "code",
   "execution_count": 69,
   "metadata": {},
   "outputs": [],
   "source": [
    "final_results = final_results.dropna(how='any')"
   ]
  },
  {
   "cell_type": "code",
   "execution_count": 70,
   "metadata": {},
   "outputs": [
    {
     "data": {
      "text/plain": [
       "(89169871, 2)"
      ]
     },
     "execution_count": 70,
     "metadata": {},
     "output_type": "execute_result"
    }
   ],
   "source": [
    "final_results.shape"
   ]
  },
  {
   "cell_type": "code",
   "execution_count": 71,
   "metadata": {},
   "outputs": [
    {
     "data": {
      "text/plain": [
       "5.49e-10"
      ]
     },
     "execution_count": 71,
     "metadata": {},
     "output_type": "execute_result"
    }
   ],
   "source": [
    "PVALUE_THRESHOLD"
   ]
  },
  {
   "cell_type": "code",
   "execution_count": 72,
   "metadata": {},
   "outputs": [],
   "source": [
    "publishable_final_results = final_results[(final_results['smultixcan_pval'] < PVALUE_THRESHOLD) & (final_results['fastenloc_rcp'] > 0.1)]"
   ]
  },
  {
   "cell_type": "code",
   "execution_count": 73,
   "metadata": {},
   "outputs": [],
   "source": [
    "publishable_final_results.index.rename(('trait', 'gene_id'), inplace=True)"
   ]
  },
  {
   "cell_type": "code",
   "execution_count": 74,
   "metadata": {},
   "outputs": [
    {
     "data": {
      "text/plain": [
       "(22473, 2)"
      ]
     },
     "execution_count": 74,
     "metadata": {},
     "output_type": "execute_result"
    }
   ],
   "source": [
    "publishable_final_results.shape"
   ]
  },
  {
   "cell_type": "code",
   "execution_count": 75,
   "metadata": {},
   "outputs": [
    {
     "data": {
      "text/html": [
       "<div>\n",
       "<style scoped>\n",
       "    .dataframe tbody tr th:only-of-type {\n",
       "        vertical-align: middle;\n",
       "    }\n",
       "\n",
       "    .dataframe tbody tr th {\n",
       "        vertical-align: top;\n",
       "    }\n",
       "\n",
       "    .dataframe thead th {\n",
       "        text-align: right;\n",
       "    }\n",
       "</style>\n",
       "<table border=\"1\" class=\"dataframe\">\n",
       "  <thead>\n",
       "    <tr style=\"text-align: right;\">\n",
       "      <th></th>\n",
       "      <th></th>\n",
       "      <th>smultixcan_pval</th>\n",
       "      <th>fastenloc_rcp</th>\n",
       "    </tr>\n",
       "    <tr>\n",
       "      <th>trait</th>\n",
       "      <th>gene_id</th>\n",
       "      <th></th>\n",
       "      <th></th>\n",
       "    </tr>\n",
       "  </thead>\n",
       "  <tbody>\n",
       "    <tr>\n",
       "      <th>VII_EYE_ADNEXA-Diseases_of_the_eye_and_adnexa</th>\n",
       "      <th>ENSG00000261070</th>\n",
       "      <td>4.689794e-11</td>\n",
       "      <td>0.411100</td>\n",
       "    </tr>\n",
       "    <tr>\n",
       "      <th rowspan=\"4\" valign=\"top\">5135_raw-3mm_strong_meridian_left</th>\n",
       "      <th>ENSG00000049449</th>\n",
       "      <td>5.542950e-12</td>\n",
       "      <td>0.181700</td>\n",
       "    </tr>\n",
       "    <tr>\n",
       "      <th>ENSG00000050438</th>\n",
       "      <td>1.426052e-13</td>\n",
       "      <td>0.953802</td>\n",
       "    </tr>\n",
       "    <tr>\n",
       "      <th>ENSG00000087116</th>\n",
       "      <td>4.002974e-10</td>\n",
       "      <td>0.359875</td>\n",
       "    </tr>\n",
       "    <tr>\n",
       "      <th>ENSG00000107404</th>\n",
       "      <td>1.450243e-18</td>\n",
       "      <td>0.392300</td>\n",
       "    </tr>\n",
       "  </tbody>\n",
       "</table>\n",
       "</div>"
      ],
      "text/plain": [
       "                                                               smultixcan_pval  \\\n",
       "trait                                         gene_id                            \n",
       "VII_EYE_ADNEXA-Diseases_of_the_eye_and_adnexa ENSG00000261070     4.689794e-11   \n",
       "5135_raw-3mm_strong_meridian_left             ENSG00000049449     5.542950e-12   \n",
       "                                              ENSG00000050438     1.426052e-13   \n",
       "                                              ENSG00000087116     4.002974e-10   \n",
       "                                              ENSG00000107404     1.450243e-18   \n",
       "\n",
       "                                                               fastenloc_rcp  \n",
       "trait                                         gene_id                         \n",
       "VII_EYE_ADNEXA-Diseases_of_the_eye_and_adnexa ENSG00000261070       0.411100  \n",
       "5135_raw-3mm_strong_meridian_left             ENSG00000049449       0.181700  \n",
       "                                              ENSG00000050438       0.953802  \n",
       "                                              ENSG00000087116       0.359875  \n",
       "                                              ENSG00000107404       0.392300  "
      ]
     },
     "execution_count": 75,
     "metadata": {},
     "output_type": "execute_result"
    }
   ],
   "source": [
    "publishable_final_results.head()"
   ]
  },
  {
   "cell_type": "code",
   "execution_count": 76,
   "metadata": {},
   "outputs": [
    {
     "data": {
      "text/html": [
       "<div>\n",
       "<style scoped>\n",
       "    .dataframe tbody tr th:only-of-type {\n",
       "        vertical-align: middle;\n",
       "    }\n",
       "\n",
       "    .dataframe tbody tr th {\n",
       "        vertical-align: top;\n",
       "    }\n",
       "\n",
       "    .dataframe thead th {\n",
       "        text-align: right;\n",
       "    }\n",
       "</style>\n",
       "<table border=\"1\" class=\"dataframe\">\n",
       "  <thead>\n",
       "    <tr style=\"text-align: right;\">\n",
       "      <th></th>\n",
       "      <th>gene</th>\n",
       "      <th>genename</th>\n",
       "      <th>gene_type</th>\n",
       "      <th>gene_id</th>\n",
       "      <th>band</th>\n",
       "    </tr>\n",
       "  </thead>\n",
       "  <tbody>\n",
       "    <tr>\n",
       "      <th>0</th>\n",
       "      <td>ENSG00000000457.13</td>\n",
       "      <td>SCYL3</td>\n",
       "      <td>protein_coding</td>\n",
       "      <td>ENSG00000000457</td>\n",
       "      <td>1q24.2</td>\n",
       "    </tr>\n",
       "    <tr>\n",
       "      <th>1</th>\n",
       "      <td>ENSG00000000460.16</td>\n",
       "      <td>C1orf112</td>\n",
       "      <td>protein_coding</td>\n",
       "      <td>ENSG00000000460</td>\n",
       "      <td>1q24.2</td>\n",
       "    </tr>\n",
       "    <tr>\n",
       "      <th>2</th>\n",
       "      <td>ENSG00000000938.12</td>\n",
       "      <td>FGR</td>\n",
       "      <td>protein_coding</td>\n",
       "      <td>ENSG00000000938</td>\n",
       "      <td>1p35.3</td>\n",
       "    </tr>\n",
       "    <tr>\n",
       "      <th>3</th>\n",
       "      <td>ENSG00000000971.15</td>\n",
       "      <td>CFH</td>\n",
       "      <td>protein_coding</td>\n",
       "      <td>ENSG00000000971</td>\n",
       "      <td>1q31.3</td>\n",
       "    </tr>\n",
       "    <tr>\n",
       "      <th>4</th>\n",
       "      <td>ENSG00000001036.13</td>\n",
       "      <td>FUCA2</td>\n",
       "      <td>protein_coding</td>\n",
       "      <td>ENSG00000001036</td>\n",
       "      <td>6q24.2</td>\n",
       "    </tr>\n",
       "  </tbody>\n",
       "</table>\n",
       "</div>"
      ],
      "text/plain": [
       "                 gene  genename       gene_type          gene_id    band\n",
       "0  ENSG00000000457.13     SCYL3  protein_coding  ENSG00000000457  1q24.2\n",
       "1  ENSG00000000460.16  C1orf112  protein_coding  ENSG00000000460  1q24.2\n",
       "2  ENSG00000000938.12       FGR  protein_coding  ENSG00000000938  1p35.3\n",
       "3  ENSG00000000971.15       CFH  protein_coding  ENSG00000000971  1q31.3\n",
       "4  ENSG00000001036.13     FUCA2  protein_coding  ENSG00000001036  6q24.2"
      ]
     },
     "execution_count": 76,
     "metadata": {},
     "output_type": "execute_result"
    }
   ],
   "source": [
    "genes_mappings.head()"
   ]
  },
  {
   "cell_type": "code",
   "execution_count": 77,
   "metadata": {},
   "outputs": [],
   "source": [
    "_tmp = pd.merge(\n",
    "    publishable_final_results.reset_index(),\n",
    "    genes_mappings[['gene_id', 'genename', 'band', 'gene_type']],\n",
    "    on='gene_id',\n",
    "    how='left'\n",
    ").rename(columns={'genename': 'gene_name', 'band': 'gene_band'})"
   ]
  },
  {
   "cell_type": "code",
   "execution_count": 78,
   "metadata": {},
   "outputs": [
    {
     "data": {
      "text/html": [
       "<div>\n",
       "<style scoped>\n",
       "    .dataframe tbody tr th:only-of-type {\n",
       "        vertical-align: middle;\n",
       "    }\n",
       "\n",
       "    .dataframe tbody tr th {\n",
       "        vertical-align: top;\n",
       "    }\n",
       "\n",
       "    .dataframe thead th {\n",
       "        text-align: right;\n",
       "    }\n",
       "</style>\n",
       "<table border=\"1\" class=\"dataframe\">\n",
       "  <thead>\n",
       "    <tr style=\"text-align: right;\">\n",
       "      <th></th>\n",
       "      <th>trait</th>\n",
       "      <th>gene_id</th>\n",
       "      <th>smultixcan_pval</th>\n",
       "      <th>fastenloc_rcp</th>\n",
       "      <th>gene_name</th>\n",
       "      <th>gene_band</th>\n",
       "      <th>gene_type</th>\n",
       "    </tr>\n",
       "  </thead>\n",
       "  <tbody>\n",
       "    <tr>\n",
       "      <th>0</th>\n",
       "      <td>VII_EYE_ADNEXA-Diseases_of_the_eye_and_adnexa</td>\n",
       "      <td>ENSG00000261070</td>\n",
       "      <td>4.689794e-11</td>\n",
       "      <td>0.411100</td>\n",
       "      <td>RP11-554A11.8</td>\n",
       "      <td>11q13.3</td>\n",
       "      <td>lincRNA</td>\n",
       "    </tr>\n",
       "    <tr>\n",
       "      <th>1</th>\n",
       "      <td>5135_raw-3mm_strong_meridian_left</td>\n",
       "      <td>ENSG00000049449</td>\n",
       "      <td>5.542950e-12</td>\n",
       "      <td>0.181700</td>\n",
       "      <td>RCN1</td>\n",
       "      <td>11p13</td>\n",
       "      <td>protein_coding</td>\n",
       "    </tr>\n",
       "    <tr>\n",
       "      <th>2</th>\n",
       "      <td>5135_raw-3mm_strong_meridian_left</td>\n",
       "      <td>ENSG00000050438</td>\n",
       "      <td>1.426052e-13</td>\n",
       "      <td>0.953802</td>\n",
       "      <td>SLC4A8</td>\n",
       "      <td>12q13.13</td>\n",
       "      <td>protein_coding</td>\n",
       "    </tr>\n",
       "    <tr>\n",
       "      <th>3</th>\n",
       "      <td>5135_raw-3mm_strong_meridian_left</td>\n",
       "      <td>ENSG00000087116</td>\n",
       "      <td>4.002974e-10</td>\n",
       "      <td>0.359875</td>\n",
       "      <td>ADAMTS2</td>\n",
       "      <td>5q35.3</td>\n",
       "      <td>protein_coding</td>\n",
       "    </tr>\n",
       "    <tr>\n",
       "      <th>4</th>\n",
       "      <td>5135_raw-3mm_strong_meridian_left</td>\n",
       "      <td>ENSG00000107404</td>\n",
       "      <td>1.450243e-18</td>\n",
       "      <td>0.392300</td>\n",
       "      <td>DVL1</td>\n",
       "      <td>1p36.33</td>\n",
       "      <td>protein_coding</td>\n",
       "    </tr>\n",
       "  </tbody>\n",
       "</table>\n",
       "</div>"
      ],
      "text/plain": [
       "                                           trait          gene_id  \\\n",
       "0  VII_EYE_ADNEXA-Diseases_of_the_eye_and_adnexa  ENSG00000261070   \n",
       "1              5135_raw-3mm_strong_meridian_left  ENSG00000049449   \n",
       "2              5135_raw-3mm_strong_meridian_left  ENSG00000050438   \n",
       "3              5135_raw-3mm_strong_meridian_left  ENSG00000087116   \n",
       "4              5135_raw-3mm_strong_meridian_left  ENSG00000107404   \n",
       "\n",
       "   smultixcan_pval  fastenloc_rcp      gene_name gene_band       gene_type  \n",
       "0     4.689794e-11       0.411100  RP11-554A11.8   11q13.3         lincRNA  \n",
       "1     5.542950e-12       0.181700           RCN1     11p13  protein_coding  \n",
       "2     1.426052e-13       0.953802         SLC4A8  12q13.13  protein_coding  \n",
       "3     4.002974e-10       0.359875        ADAMTS2    5q35.3  protein_coding  \n",
       "4     1.450243e-18       0.392300           DVL1   1p36.33  protein_coding  "
      ]
     },
     "execution_count": 78,
     "metadata": {},
     "output_type": "execute_result"
    }
   ],
   "source": [
    "_tmp.head()"
   ]
  },
  {
   "cell_type": "code",
   "execution_count": 79,
   "metadata": {},
   "outputs": [],
   "source": [
    "publishable_final_results = _tmp.set_index(['trait', 'gene_id'])[['gene_name', 'gene_band', 'gene_type', 'smultixcan_pval', 'fastenloc_rcp']]"
   ]
  },
  {
   "cell_type": "code",
   "execution_count": 80,
   "metadata": {},
   "outputs": [],
   "source": [
    "publishable_final_results = publishable_final_results.sort_index()"
   ]
  },
  {
   "cell_type": "code",
   "execution_count": 82,
   "metadata": {},
   "outputs": [],
   "source": [
    "assert publishable_final_results.index.is_unique"
   ]
  },
  {
   "cell_type": "code",
   "execution_count": 95,
   "metadata": {},
   "outputs": [
    {
     "data": {
      "text/plain": [
       "gene_name          11\n",
       "gene_band          11\n",
       "gene_type          11\n",
       "smultixcan_pval     0\n",
       "fastenloc_rcp       0\n",
       "dtype: int64"
      ]
     },
     "execution_count": 95,
     "metadata": {},
     "output_type": "execute_result"
    }
   ],
   "source": [
    "publishable_final_results.isna().sum()"
   ]
  },
  {
   "cell_type": "code",
   "execution_count": 96,
   "metadata": {},
   "outputs": [
    {
     "data": {
      "text/html": [
       "<div>\n",
       "<style scoped>\n",
       "    .dataframe tbody tr th:only-of-type {\n",
       "        vertical-align: middle;\n",
       "    }\n",
       "\n",
       "    .dataframe tbody tr th {\n",
       "        vertical-align: top;\n",
       "    }\n",
       "\n",
       "    .dataframe thead th {\n",
       "        text-align: right;\n",
       "    }\n",
       "</style>\n",
       "<table border=\"1\" class=\"dataframe\">\n",
       "  <thead>\n",
       "    <tr style=\"text-align: right;\">\n",
       "      <th></th>\n",
       "      <th></th>\n",
       "      <th>gene_name</th>\n",
       "      <th>gene_band</th>\n",
       "      <th>gene_type</th>\n",
       "      <th>smultixcan_pval</th>\n",
       "      <th>fastenloc_rcp</th>\n",
       "    </tr>\n",
       "    <tr>\n",
       "      <th>trait</th>\n",
       "      <th>gene_id</th>\n",
       "      <th></th>\n",
       "      <th></th>\n",
       "      <th></th>\n",
       "      <th></th>\n",
       "      <th></th>\n",
       "    </tr>\n",
       "  </thead>\n",
       "  <tbody>\n",
       "    <tr>\n",
       "      <th>23101_raw-Whole_body_fatfree_mass</th>\n",
       "      <th>ENSG00000253972</th>\n",
       "      <td>NaN</td>\n",
       "      <td>NaN</td>\n",
       "      <td>NaN</td>\n",
       "      <td>1.246210e-13</td>\n",
       "      <td>0.1933</td>\n",
       "    </tr>\n",
       "    <tr>\n",
       "      <th>23102_raw-Whole_body_water_mass</th>\n",
       "      <th>ENSG00000253972</th>\n",
       "      <td>NaN</td>\n",
       "      <td>NaN</td>\n",
       "      <td>NaN</td>\n",
       "      <td>1.868528e-13</td>\n",
       "      <td>0.1813</td>\n",
       "    </tr>\n",
       "    <tr>\n",
       "      <th>23105_raw-Basal_metabolic_rate</th>\n",
       "      <th>ENSG00000253972</th>\n",
       "      <td>NaN</td>\n",
       "      <td>NaN</td>\n",
       "      <td>NaN</td>\n",
       "      <td>6.701070e-11</td>\n",
       "      <td>0.1692</td>\n",
       "    </tr>\n",
       "    <tr>\n",
       "      <th>23121_raw-Arm_fatfree_mass_right</th>\n",
       "      <th>ENSG00000253972</th>\n",
       "      <td>NaN</td>\n",
       "      <td>NaN</td>\n",
       "      <td>NaN</td>\n",
       "      <td>1.262021e-10</td>\n",
       "      <td>0.1400</td>\n",
       "    </tr>\n",
       "    <tr>\n",
       "      <th>23122_raw-Arm_predicted_mass_right</th>\n",
       "      <th>ENSG00000253972</th>\n",
       "      <td>NaN</td>\n",
       "      <td>NaN</td>\n",
       "      <td>NaN</td>\n",
       "      <td>1.539772e-10</td>\n",
       "      <td>0.1702</td>\n",
       "    </tr>\n",
       "    <tr>\n",
       "      <th>23125_raw-Arm_fatfree_mass_left</th>\n",
       "      <th>ENSG00000253972</th>\n",
       "      <td>NaN</td>\n",
       "      <td>NaN</td>\n",
       "      <td>NaN</td>\n",
       "      <td>1.553128e-11</td>\n",
       "      <td>0.1275</td>\n",
       "    </tr>\n",
       "    <tr>\n",
       "      <th>23126_raw-Arm_predicted_mass_left</th>\n",
       "      <th>ENSG00000253972</th>\n",
       "      <td>NaN</td>\n",
       "      <td>NaN</td>\n",
       "      <td>NaN</td>\n",
       "      <td>2.576215e-11</td>\n",
       "      <td>0.1144</td>\n",
       "    </tr>\n",
       "    <tr>\n",
       "      <th>23129_raw-Trunk_fatfree_mass</th>\n",
       "      <th>ENSG00000253972</th>\n",
       "      <td>NaN</td>\n",
       "      <td>NaN</td>\n",
       "      <td>NaN</td>\n",
       "      <td>3.512784e-15</td>\n",
       "      <td>0.1968</td>\n",
       "    </tr>\n",
       "    <tr>\n",
       "      <th>23130_raw-Trunk_predicted_mass</th>\n",
       "      <th>ENSG00000253972</th>\n",
       "      <td>NaN</td>\n",
       "      <td>NaN</td>\n",
       "      <td>NaN</td>\n",
       "      <td>5.304944e-15</td>\n",
       "      <td>0.2065</td>\n",
       "    </tr>\n",
       "    <tr>\n",
       "      <th>30090_raw-Platelet_crit</th>\n",
       "      <th>ENSG00000229694</th>\n",
       "      <td>NaN</td>\n",
       "      <td>NaN</td>\n",
       "      <td>NaN</td>\n",
       "      <td>1.379899e-10</td>\n",
       "      <td>0.4605</td>\n",
       "    </tr>\n",
       "    <tr>\n",
       "      <th>4079_raw-Diastolic_blood_pressure_automated_reading</th>\n",
       "      <th>ENSG00000253972</th>\n",
       "      <td>NaN</td>\n",
       "      <td>NaN</td>\n",
       "      <td>NaN</td>\n",
       "      <td>1.883721e-16</td>\n",
       "      <td>0.1533</td>\n",
       "    </tr>\n",
       "  </tbody>\n",
       "</table>\n",
       "</div>"
      ],
      "text/plain": [
       "                                                                   gene_name  \\\n",
       "trait                                              gene_id                     \n",
       "23101_raw-Whole_body_fatfree_mass                  ENSG00000253972       NaN   \n",
       "23102_raw-Whole_body_water_mass                    ENSG00000253972       NaN   \n",
       "23105_raw-Basal_metabolic_rate                     ENSG00000253972       NaN   \n",
       "23121_raw-Arm_fatfree_mass_right                   ENSG00000253972       NaN   \n",
       "23122_raw-Arm_predicted_mass_right                 ENSG00000253972       NaN   \n",
       "23125_raw-Arm_fatfree_mass_left                    ENSG00000253972       NaN   \n",
       "23126_raw-Arm_predicted_mass_left                  ENSG00000253972       NaN   \n",
       "23129_raw-Trunk_fatfree_mass                       ENSG00000253972       NaN   \n",
       "23130_raw-Trunk_predicted_mass                     ENSG00000253972       NaN   \n",
       "30090_raw-Platelet_crit                            ENSG00000229694       NaN   \n",
       "4079_raw-Diastolic_blood_pressure_automated_rea... ENSG00000253972       NaN   \n",
       "\n",
       "                                                                   gene_band  \\\n",
       "trait                                              gene_id                     \n",
       "23101_raw-Whole_body_fatfree_mass                  ENSG00000253972       NaN   \n",
       "23102_raw-Whole_body_water_mass                    ENSG00000253972       NaN   \n",
       "23105_raw-Basal_metabolic_rate                     ENSG00000253972       NaN   \n",
       "23121_raw-Arm_fatfree_mass_right                   ENSG00000253972       NaN   \n",
       "23122_raw-Arm_predicted_mass_right                 ENSG00000253972       NaN   \n",
       "23125_raw-Arm_fatfree_mass_left                    ENSG00000253972       NaN   \n",
       "23126_raw-Arm_predicted_mass_left                  ENSG00000253972       NaN   \n",
       "23129_raw-Trunk_fatfree_mass                       ENSG00000253972       NaN   \n",
       "23130_raw-Trunk_predicted_mass                     ENSG00000253972       NaN   \n",
       "30090_raw-Platelet_crit                            ENSG00000229694       NaN   \n",
       "4079_raw-Diastolic_blood_pressure_automated_rea... ENSG00000253972       NaN   \n",
       "\n",
       "                                                                   gene_type  \\\n",
       "trait                                              gene_id                     \n",
       "23101_raw-Whole_body_fatfree_mass                  ENSG00000253972       NaN   \n",
       "23102_raw-Whole_body_water_mass                    ENSG00000253972       NaN   \n",
       "23105_raw-Basal_metabolic_rate                     ENSG00000253972       NaN   \n",
       "23121_raw-Arm_fatfree_mass_right                   ENSG00000253972       NaN   \n",
       "23122_raw-Arm_predicted_mass_right                 ENSG00000253972       NaN   \n",
       "23125_raw-Arm_fatfree_mass_left                    ENSG00000253972       NaN   \n",
       "23126_raw-Arm_predicted_mass_left                  ENSG00000253972       NaN   \n",
       "23129_raw-Trunk_fatfree_mass                       ENSG00000253972       NaN   \n",
       "23130_raw-Trunk_predicted_mass                     ENSG00000253972       NaN   \n",
       "30090_raw-Platelet_crit                            ENSG00000229694       NaN   \n",
       "4079_raw-Diastolic_blood_pressure_automated_rea... ENSG00000253972       NaN   \n",
       "\n",
       "                                                                    smultixcan_pval  \\\n",
       "trait                                              gene_id                            \n",
       "23101_raw-Whole_body_fatfree_mass                  ENSG00000253972     1.246210e-13   \n",
       "23102_raw-Whole_body_water_mass                    ENSG00000253972     1.868528e-13   \n",
       "23105_raw-Basal_metabolic_rate                     ENSG00000253972     6.701070e-11   \n",
       "23121_raw-Arm_fatfree_mass_right                   ENSG00000253972     1.262021e-10   \n",
       "23122_raw-Arm_predicted_mass_right                 ENSG00000253972     1.539772e-10   \n",
       "23125_raw-Arm_fatfree_mass_left                    ENSG00000253972     1.553128e-11   \n",
       "23126_raw-Arm_predicted_mass_left                  ENSG00000253972     2.576215e-11   \n",
       "23129_raw-Trunk_fatfree_mass                       ENSG00000253972     3.512784e-15   \n",
       "23130_raw-Trunk_predicted_mass                     ENSG00000253972     5.304944e-15   \n",
       "30090_raw-Platelet_crit                            ENSG00000229694     1.379899e-10   \n",
       "4079_raw-Diastolic_blood_pressure_automated_rea... ENSG00000253972     1.883721e-16   \n",
       "\n",
       "                                                                    fastenloc_rcp  \n",
       "trait                                              gene_id                         \n",
       "23101_raw-Whole_body_fatfree_mass                  ENSG00000253972         0.1933  \n",
       "23102_raw-Whole_body_water_mass                    ENSG00000253972         0.1813  \n",
       "23105_raw-Basal_metabolic_rate                     ENSG00000253972         0.1692  \n",
       "23121_raw-Arm_fatfree_mass_right                   ENSG00000253972         0.1400  \n",
       "23122_raw-Arm_predicted_mass_right                 ENSG00000253972         0.1702  \n",
       "23125_raw-Arm_fatfree_mass_left                    ENSG00000253972         0.1275  \n",
       "23126_raw-Arm_predicted_mass_left                  ENSG00000253972         0.1144  \n",
       "23129_raw-Trunk_fatfree_mass                       ENSG00000253972         0.1968  \n",
       "23130_raw-Trunk_predicted_mass                     ENSG00000253972         0.2065  \n",
       "30090_raw-Platelet_crit                            ENSG00000229694         0.4605  \n",
       "4079_raw-Diastolic_blood_pressure_automated_rea... ENSG00000253972         0.1533  "
      ]
     },
     "execution_count": 96,
     "metadata": {},
     "output_type": "execute_result"
    }
   ],
   "source": [
    "publishable_final_results[publishable_final_results['gene_name'].isna()]"
   ]
  },
  {
   "cell_type": "code",
   "execution_count": 83,
   "metadata": {},
   "outputs": [
    {
     "data": {
      "text/html": [
       "<div>\n",
       "<style scoped>\n",
       "    .dataframe tbody tr th:only-of-type {\n",
       "        vertical-align: middle;\n",
       "    }\n",
       "\n",
       "    .dataframe tbody tr th {\n",
       "        vertical-align: top;\n",
       "    }\n",
       "\n",
       "    .dataframe thead th {\n",
       "        text-align: right;\n",
       "    }\n",
       "</style>\n",
       "<table border=\"1\" class=\"dataframe\">\n",
       "  <thead>\n",
       "    <tr style=\"text-align: right;\">\n",
       "      <th></th>\n",
       "      <th></th>\n",
       "      <th>gene_name</th>\n",
       "      <th>gene_band</th>\n",
       "      <th>gene_type</th>\n",
       "      <th>smultixcan_pval</th>\n",
       "      <th>fastenloc_rcp</th>\n",
       "    </tr>\n",
       "    <tr>\n",
       "      <th>trait</th>\n",
       "      <th>gene_id</th>\n",
       "      <th></th>\n",
       "      <th></th>\n",
       "      <th></th>\n",
       "      <th></th>\n",
       "      <th></th>\n",
       "    </tr>\n",
       "  </thead>\n",
       "  <tbody>\n",
       "    <tr>\n",
       "      <th rowspan=\"5\" valign=\"top\">102_raw-Pulse_rate_automated_reading</th>\n",
       "      <th>ENSG00000031003</th>\n",
       "      <td>FAM13B</td>\n",
       "      <td>5q31.2</td>\n",
       "      <td>protein_coding</td>\n",
       "      <td>9.316678e-29</td>\n",
       "      <td>0.868600</td>\n",
       "    </tr>\n",
       "    <tr>\n",
       "      <th>ENSG00000064989</th>\n",
       "      <td>CALCRL</td>\n",
       "      <td>2q32.1</td>\n",
       "      <td>protein_coding</td>\n",
       "      <td>1.553027e-22</td>\n",
       "      <td>0.863200</td>\n",
       "    </tr>\n",
       "    <tr>\n",
       "      <th>ENSG00000072195</th>\n",
       "      <td>SPEG</td>\n",
       "      <td>2q35</td>\n",
       "      <td>protein_coding</td>\n",
       "      <td>1.707185e-38</td>\n",
       "      <td>0.877000</td>\n",
       "    </tr>\n",
       "    <tr>\n",
       "      <th>ENSG00000075420</th>\n",
       "      <td>FNDC3B</td>\n",
       "      <td>3q26.31</td>\n",
       "      <td>protein_coding</td>\n",
       "      <td>2.695478e-24</td>\n",
       "      <td>0.841100</td>\n",
       "    </tr>\n",
       "    <tr>\n",
       "      <th>ENSG00000075702</th>\n",
       "      <td>WDR62</td>\n",
       "      <td>19q13.12</td>\n",
       "      <td>protein_coding</td>\n",
       "      <td>8.858931e-11</td>\n",
       "      <td>1.257727</td>\n",
       "    </tr>\n",
       "  </tbody>\n",
       "</table>\n",
       "</div>"
      ],
      "text/plain": [
       "                                                     gene_name gene_band  \\\n",
       "trait                                gene_id                               \n",
       "102_raw-Pulse_rate_automated_reading ENSG00000031003    FAM13B    5q31.2   \n",
       "                                     ENSG00000064989    CALCRL    2q32.1   \n",
       "                                     ENSG00000072195      SPEG      2q35   \n",
       "                                     ENSG00000075420    FNDC3B   3q26.31   \n",
       "                                     ENSG00000075702     WDR62  19q13.12   \n",
       "\n",
       "                                                           gene_type  \\\n",
       "trait                                gene_id                           \n",
       "102_raw-Pulse_rate_automated_reading ENSG00000031003  protein_coding   \n",
       "                                     ENSG00000064989  protein_coding   \n",
       "                                     ENSG00000072195  protein_coding   \n",
       "                                     ENSG00000075420  protein_coding   \n",
       "                                     ENSG00000075702  protein_coding   \n",
       "\n",
       "                                                      smultixcan_pval  \\\n",
       "trait                                gene_id                            \n",
       "102_raw-Pulse_rate_automated_reading ENSG00000031003     9.316678e-29   \n",
       "                                     ENSG00000064989     1.553027e-22   \n",
       "                                     ENSG00000072195     1.707185e-38   \n",
       "                                     ENSG00000075420     2.695478e-24   \n",
       "                                     ENSG00000075702     8.858931e-11   \n",
       "\n",
       "                                                      fastenloc_rcp  \n",
       "trait                                gene_id                         \n",
       "102_raw-Pulse_rate_automated_reading ENSG00000031003       0.868600  \n",
       "                                     ENSG00000064989       0.863200  \n",
       "                                     ENSG00000072195       0.877000  \n",
       "                                     ENSG00000075420       0.841100  \n",
       "                                     ENSG00000075702       1.257727  "
      ]
     },
     "execution_count": 83,
     "metadata": {},
     "output_type": "execute_result"
    }
   ],
   "source": [
    "publishable_final_results.head()"
   ]
  },
  {
   "cell_type": "code",
   "execution_count": 84,
   "metadata": {},
   "outputs": [
    {
     "data": {
      "text/plain": [
       "(22473, 5)"
      ]
     },
     "execution_count": 84,
     "metadata": {},
     "output_type": "execute_result"
    }
   ],
   "source": [
    "publishable_final_results.shape"
   ]
  },
  {
   "cell_type": "code",
   "execution_count": 85,
   "metadata": {},
   "outputs": [],
   "source": [
    "# some testing\n",
    "_result = publishable_final_results.loc[('1180-Morningevening_person_chronotype', genes_mapping_1['VIP'])]\n",
    "assert _result['smultixcan_pval'] == 1.8124965657173678e-17\n",
    "assert _result['fastenloc_rcp'] == 0.30421"
   ]
  },
  {
   "cell_type": "code",
   "execution_count": 86,
   "metadata": {},
   "outputs": [],
   "source": [
    "# some testing\n",
    "_result = publishable_final_results.loc[('1180-Morningevening_person_chronotype', genes_mapping_1['RP11-220I1.5'])]\n",
    "assert _result['smultixcan_pval'] == 6.426619359444203e-11\n",
    "assert _result['fastenloc_rcp'] == 0.2150000007971"
   ]
  },
  {
   "cell_type": "code",
   "execution_count": 87,
   "metadata": {},
   "outputs": [
    {
     "data": {
      "text/plain": [
       "'/mnt/phenomexcan/results/deliverables/supp_tables/suppl_table_S1-significant_gene_trait_associations.tsv.gz'"
      ]
     },
     "metadata": {},
     "output_type": "display_data"
    }
   ],
   "source": [
    "# for publication (tsv.gz)\n",
    "output_file = os.path.join(constants.DELIVERABLES_RESULTS_DIR, 'supp_tables', 'suppl_table_S1-significant_gene_trait_associations.tsv.gz')\n",
    "display(output_file)\n",
    "\n",
    "publishable_final_results.to_csv(output_file, sep='\\t', float_format='%.4e')"
   ]
  },
  {
   "cell_type": "code",
   "execution_count": 88,
   "metadata": {},
   "outputs": [],
   "source": [
    "# some testing\n",
    "_tmp = pd.read_csv(output_file, sep='\\t')"
   ]
  },
  {
   "cell_type": "code",
   "execution_count": 89,
   "metadata": {},
   "outputs": [],
   "source": [
    "assert publishable_final_results.shape == _tmp.set_index(['trait', 'gene_id']).shape"
   ]
  },
  {
   "cell_type": "code",
   "execution_count": 90,
   "metadata": {},
   "outputs": [
    {
     "data": {
      "text/plain": [
       "(22473, 7)"
      ]
     },
     "execution_count": 90,
     "metadata": {},
     "output_type": "execute_result"
    }
   ],
   "source": [
    "_tmp.shape"
   ]
  },
  {
   "cell_type": "code",
   "execution_count": 91,
   "metadata": {},
   "outputs": [
    {
     "data": {
      "text/html": [
       "<div>\n",
       "<style scoped>\n",
       "    .dataframe tbody tr th:only-of-type {\n",
       "        vertical-align: middle;\n",
       "    }\n",
       "\n",
       "    .dataframe tbody tr th {\n",
       "        vertical-align: top;\n",
       "    }\n",
       "\n",
       "    .dataframe thead th {\n",
       "        text-align: right;\n",
       "    }\n",
       "</style>\n",
       "<table border=\"1\" class=\"dataframe\">\n",
       "  <thead>\n",
       "    <tr style=\"text-align: right;\">\n",
       "      <th></th>\n",
       "      <th>trait</th>\n",
       "      <th>gene_id</th>\n",
       "      <th>gene_name</th>\n",
       "      <th>gene_band</th>\n",
       "      <th>gene_type</th>\n",
       "      <th>smultixcan_pval</th>\n",
       "      <th>fastenloc_rcp</th>\n",
       "    </tr>\n",
       "  </thead>\n",
       "  <tbody>\n",
       "    <tr>\n",
       "      <th>0</th>\n",
       "      <td>102_raw-Pulse_rate_automated_reading</td>\n",
       "      <td>ENSG00000031003</td>\n",
       "      <td>FAM13B</td>\n",
       "      <td>5q31.2</td>\n",
       "      <td>protein_coding</td>\n",
       "      <td>9.316700e-29</td>\n",
       "      <td>0.8686</td>\n",
       "    </tr>\n",
       "    <tr>\n",
       "      <th>1</th>\n",
       "      <td>102_raw-Pulse_rate_automated_reading</td>\n",
       "      <td>ENSG00000064989</td>\n",
       "      <td>CALCRL</td>\n",
       "      <td>2q32.1</td>\n",
       "      <td>protein_coding</td>\n",
       "      <td>1.553000e-22</td>\n",
       "      <td>0.8632</td>\n",
       "    </tr>\n",
       "    <tr>\n",
       "      <th>2</th>\n",
       "      <td>102_raw-Pulse_rate_automated_reading</td>\n",
       "      <td>ENSG00000072195</td>\n",
       "      <td>SPEG</td>\n",
       "      <td>2q35</td>\n",
       "      <td>protein_coding</td>\n",
       "      <td>1.707200e-38</td>\n",
       "      <td>0.8770</td>\n",
       "    </tr>\n",
       "    <tr>\n",
       "      <th>3</th>\n",
       "      <td>102_raw-Pulse_rate_automated_reading</td>\n",
       "      <td>ENSG00000075420</td>\n",
       "      <td>FNDC3B</td>\n",
       "      <td>3q26.31</td>\n",
       "      <td>protein_coding</td>\n",
       "      <td>2.695500e-24</td>\n",
       "      <td>0.8411</td>\n",
       "    </tr>\n",
       "    <tr>\n",
       "      <th>4</th>\n",
       "      <td>102_raw-Pulse_rate_automated_reading</td>\n",
       "      <td>ENSG00000075702</td>\n",
       "      <td>WDR62</td>\n",
       "      <td>19q13.12</td>\n",
       "      <td>protein_coding</td>\n",
       "      <td>8.858900e-11</td>\n",
       "      <td>1.2577</td>\n",
       "    </tr>\n",
       "  </tbody>\n",
       "</table>\n",
       "</div>"
      ],
      "text/plain": [
       "                                  trait          gene_id gene_name gene_band  \\\n",
       "0  102_raw-Pulse_rate_automated_reading  ENSG00000031003    FAM13B    5q31.2   \n",
       "1  102_raw-Pulse_rate_automated_reading  ENSG00000064989    CALCRL    2q32.1   \n",
       "2  102_raw-Pulse_rate_automated_reading  ENSG00000072195      SPEG      2q35   \n",
       "3  102_raw-Pulse_rate_automated_reading  ENSG00000075420    FNDC3B   3q26.31   \n",
       "4  102_raw-Pulse_rate_automated_reading  ENSG00000075702     WDR62  19q13.12   \n",
       "\n",
       "        gene_type  smultixcan_pval  fastenloc_rcp  \n",
       "0  protein_coding     9.316700e-29         0.8686  \n",
       "1  protein_coding     1.553000e-22         0.8632  \n",
       "2  protein_coding     1.707200e-38         0.8770  \n",
       "3  protein_coding     2.695500e-24         0.8411  \n",
       "4  protein_coding     8.858900e-11         1.2577  "
      ]
     },
     "execution_count": 91,
     "metadata": {},
     "output_type": "execute_result"
    }
   ],
   "source": [
    "_tmp.head()"
   ]
  },
  {
   "cell_type": "code",
   "execution_count": 92,
   "metadata": {},
   "outputs": [],
   "source": [
    "_tmp = _tmp.set_index(['trait', 'gene_id'])"
   ]
  },
  {
   "cell_type": "code",
   "execution_count": 93,
   "metadata": {},
   "outputs": [],
   "source": [
    "_result = _tmp.loc[('1180-Morningevening_person_chronotype', genes_mapping_1['VIP'])]\n",
    "assert _result['smultixcan_pval'] == 1.8125e-17\n",
    "assert _result['fastenloc_rcp'] == 0.30421\n",
    "\n",
    "_result = _tmp.loc[('1180-Morningevening_person_chronotype', genes_mapping_1['RP11-220I1.5'])]\n",
    "assert _result['smultixcan_pval'] == 6.4266e-11\n",
    "assert _result['fastenloc_rcp'] == 0.2150"
   ]
  },
  {
   "cell_type": "code",
   "execution_count": 103,
   "metadata": {},
   "outputs": [],
   "source": [
    "assert np.allclose(\n",
    "    _tmp[['smultixcan_pval', 'fastenloc_rcp']].values,\n",
    "    publishable_final_results[['smultixcan_pval', 'fastenloc_rcp']].values,\n",
    "    atol=1e-320,\n",
    "    rtol=1e-4\n",
    ")"
   ]
  },
  {
   "cell_type": "code",
   "execution_count": 104,
   "metadata": {},
   "outputs": [
    {
     "data": {
      "text/plain": [
       "'/mnt/phenomexcan/results/deliverables/supp_tables/suppl_table_S1-significant_gene_trait_associations.xlsx'"
      ]
     },
     "metadata": {},
     "output_type": "display_data"
    }
   ],
   "source": [
    "# for publication (xlsx)\n",
    "output_file = os.path.join(constants.DELIVERABLES_RESULTS_DIR, 'supp_tables', 'suppl_table_S1-significant_gene_trait_associations.xlsx')\n",
    "display(output_file)\n",
    "\n",
    "publishable_final_results.reset_index().to_excel(output_file, index=False, float_format='%.4e')"
   ]
  },
  {
   "cell_type": "code",
   "execution_count": 105,
   "metadata": {},
   "outputs": [],
   "source": [
    "# some testing\n",
    "_tmp = pd.read_excel(output_file)"
   ]
  },
  {
   "cell_type": "code",
   "execution_count": 106,
   "metadata": {},
   "outputs": [],
   "source": [
    "assert publishable_final_results.shape == _tmp.set_index(['trait', 'gene_id']).shape"
   ]
  },
  {
   "cell_type": "code",
   "execution_count": 107,
   "metadata": {},
   "outputs": [
    {
     "data": {
      "text/plain": [
       "(22473, 7)"
      ]
     },
     "execution_count": 107,
     "metadata": {},
     "output_type": "execute_result"
    }
   ],
   "source": [
    "_tmp.shape"
   ]
  },
  {
   "cell_type": "code",
   "execution_count": 108,
   "metadata": {},
   "outputs": [
    {
     "data": {
      "text/html": [
       "<div>\n",
       "<style scoped>\n",
       "    .dataframe tbody tr th:only-of-type {\n",
       "        vertical-align: middle;\n",
       "    }\n",
       "\n",
       "    .dataframe tbody tr th {\n",
       "        vertical-align: top;\n",
       "    }\n",
       "\n",
       "    .dataframe thead th {\n",
       "        text-align: right;\n",
       "    }\n",
       "</style>\n",
       "<table border=\"1\" class=\"dataframe\">\n",
       "  <thead>\n",
       "    <tr style=\"text-align: right;\">\n",
       "      <th></th>\n",
       "      <th>trait</th>\n",
       "      <th>gene_id</th>\n",
       "      <th>gene_name</th>\n",
       "      <th>gene_band</th>\n",
       "      <th>gene_type</th>\n",
       "      <th>smultixcan_pval</th>\n",
       "      <th>fastenloc_rcp</th>\n",
       "    </tr>\n",
       "  </thead>\n",
       "  <tbody>\n",
       "    <tr>\n",
       "      <th>0</th>\n",
       "      <td>102_raw-Pulse_rate_automated_reading</td>\n",
       "      <td>ENSG00000031003</td>\n",
       "      <td>FAM13B</td>\n",
       "      <td>5q31.2</td>\n",
       "      <td>protein_coding</td>\n",
       "      <td>9.316700e-29</td>\n",
       "      <td>0.8686</td>\n",
       "    </tr>\n",
       "    <tr>\n",
       "      <th>1</th>\n",
       "      <td>102_raw-Pulse_rate_automated_reading</td>\n",
       "      <td>ENSG00000064989</td>\n",
       "      <td>CALCRL</td>\n",
       "      <td>2q32.1</td>\n",
       "      <td>protein_coding</td>\n",
       "      <td>1.553000e-22</td>\n",
       "      <td>0.8632</td>\n",
       "    </tr>\n",
       "    <tr>\n",
       "      <th>2</th>\n",
       "      <td>102_raw-Pulse_rate_automated_reading</td>\n",
       "      <td>ENSG00000072195</td>\n",
       "      <td>SPEG</td>\n",
       "      <td>2q35</td>\n",
       "      <td>protein_coding</td>\n",
       "      <td>1.707200e-38</td>\n",
       "      <td>0.8770</td>\n",
       "    </tr>\n",
       "    <tr>\n",
       "      <th>3</th>\n",
       "      <td>102_raw-Pulse_rate_automated_reading</td>\n",
       "      <td>ENSG00000075420</td>\n",
       "      <td>FNDC3B</td>\n",
       "      <td>3q26.31</td>\n",
       "      <td>protein_coding</td>\n",
       "      <td>2.695500e-24</td>\n",
       "      <td>0.8411</td>\n",
       "    </tr>\n",
       "    <tr>\n",
       "      <th>4</th>\n",
       "      <td>102_raw-Pulse_rate_automated_reading</td>\n",
       "      <td>ENSG00000075702</td>\n",
       "      <td>WDR62</td>\n",
       "      <td>19q13.12</td>\n",
       "      <td>protein_coding</td>\n",
       "      <td>8.858900e-11</td>\n",
       "      <td>1.2577</td>\n",
       "    </tr>\n",
       "  </tbody>\n",
       "</table>\n",
       "</div>"
      ],
      "text/plain": [
       "                                  trait          gene_id gene_name gene_band  \\\n",
       "0  102_raw-Pulse_rate_automated_reading  ENSG00000031003    FAM13B    5q31.2   \n",
       "1  102_raw-Pulse_rate_automated_reading  ENSG00000064989    CALCRL    2q32.1   \n",
       "2  102_raw-Pulse_rate_automated_reading  ENSG00000072195      SPEG      2q35   \n",
       "3  102_raw-Pulse_rate_automated_reading  ENSG00000075420    FNDC3B   3q26.31   \n",
       "4  102_raw-Pulse_rate_automated_reading  ENSG00000075702     WDR62  19q13.12   \n",
       "\n",
       "        gene_type  smultixcan_pval  fastenloc_rcp  \n",
       "0  protein_coding     9.316700e-29         0.8686  \n",
       "1  protein_coding     1.553000e-22         0.8632  \n",
       "2  protein_coding     1.707200e-38         0.8770  \n",
       "3  protein_coding     2.695500e-24         0.8411  \n",
       "4  protein_coding     8.858900e-11         1.2577  "
      ]
     },
     "execution_count": 108,
     "metadata": {},
     "output_type": "execute_result"
    }
   ],
   "source": [
    "_tmp.head()"
   ]
  },
  {
   "cell_type": "code",
   "execution_count": 109,
   "metadata": {},
   "outputs": [],
   "source": [
    "_tmp = _tmp.set_index(['trait', 'gene_id'])"
   ]
  },
  {
   "cell_type": "code",
   "execution_count": 110,
   "metadata": {},
   "outputs": [],
   "source": [
    "_result = _tmp.loc[('1180-Morningevening_person_chronotype', genes_mapping_1['VIP'])]\n",
    "assert _result['smultixcan_pval'] == 1.8125e-17\n",
    "assert _result['fastenloc_rcp'] == 0.30421\n",
    "\n",
    "_result = _tmp.loc[('1180-Morningevening_person_chronotype', genes_mapping_1['RP11-220I1.5'])]\n",
    "assert _result['smultixcan_pval'] == 6.4266e-11\n",
    "assert _result['fastenloc_rcp'] == 0.2150"
   ]
  },
  {
   "cell_type": "code",
   "execution_count": 111,
   "metadata": {},
   "outputs": [],
   "source": [
    "assert np.allclose(\n",
    "    _tmp[['smultixcan_pval', 'fastenloc_rcp']].values,\n",
    "    publishable_final_results[['smultixcan_pval', 'fastenloc_rcp']].values,\n",
    "    atol=1e-320,\n",
    "    rtol=1e-4\n",
    ")"
   ]
  },
  {
   "cell_type": "markdown",
   "metadata": {},
   "source": [
    "# QQ plots"
   ]
  },
  {
   "cell_type": "code",
   "execution_count": null,
   "metadata": {},
   "outputs": [],
   "source": [
    "import plots\n",
    "from clustering.biclustering.analysis import Trait"
   ]
  },
  {
   "cell_type": "markdown",
   "metadata": {},
   "source": [
    "# Cholesterol"
   ]
  },
  {
   "cell_type": "code",
   "execution_count": null,
   "metadata": {},
   "outputs": [],
   "source": [
    "spredixcan_genes_associations.columns[spredixcan_genes_associations.columns.str.lower().str.contains('cholesterol')]"
   ]
  },
  {
   "cell_type": "code",
   "execution_count": null,
   "metadata": {},
   "outputs": [],
   "source": [
    "pheno_plain_name = '20002_1473-Noncancer_illness_code_selfreported_high_cholesterol'"
   ]
  },
  {
   "cell_type": "code",
   "execution_count": null,
   "metadata": {},
   "outputs": [],
   "source": [
    "pheno_pvalues = pd.Series(spredixcan_genes_associations[pheno_plain_name].values.flatten())\n",
    "display(pheno_pvalues.shape)"
   ]
  },
  {
   "cell_type": "code",
   "execution_count": null,
   "metadata": {},
   "outputs": [],
   "source": [
    "threshold = 1e-30\n",
    "\n",
    "unif_values = np.linspace(0.0001, 1, num=pheno_pvalues.shape[0])\n",
    "unif_values[unif_values < threshold] = threshold\n",
    "\n",
    "real_values = pheno_pvalues\n",
    "real_values[real_values < threshold] = threshold\n",
    "\n",
    "df = pd.DataFrame({'unif': unif_values, 'real': real_values})\n",
    "display(df.shape)"
   ]
  },
  {
   "cell_type": "code",
   "execution_count": null,
   "metadata": {},
   "outputs": [],
   "source": [
    "df_plot = df\n",
    "\n",
    "ax = plots.qqplot(-np.log10(df_plot), 'unif', 'real', xlabel='Expected $-\\log_{10}(p)$', ylabel='Observed $-\\log_{10}(p)$', s=5, linewidth=0)\n",
    "ax.set_xlim([0, 5])\n",
    "ax.set_title(Trait(pheno_plain_name).get_pretty_name())"
   ]
  },
  {
   "cell_type": "markdown",
   "metadata": {},
   "source": [
    "# Height"
   ]
  },
  {
   "cell_type": "code",
   "execution_count": null,
   "metadata": {},
   "outputs": [],
   "source": [
    "spredixcan_genes_associations.columns[spredixcan_genes_associations.columns.str.lower().str.contains('height')]"
   ]
  },
  {
   "cell_type": "code",
   "execution_count": null,
   "metadata": {},
   "outputs": [],
   "source": [
    "pheno_plain_name = '50_raw-Standing_height'"
   ]
  },
  {
   "cell_type": "code",
   "execution_count": null,
   "metadata": {},
   "outputs": [],
   "source": [
    "pheno_pvalues = pd.Series(spredixcan_genes_associations[pheno_plain_name].values.flatten())\n",
    "display(pheno_pvalues.shape)"
   ]
  },
  {
   "cell_type": "code",
   "execution_count": null,
   "metadata": {},
   "outputs": [],
   "source": [
    "threshold = 1e-30\n",
    "\n",
    "unif_values = np.linspace(0.0001, 1, num=pheno_pvalues.shape[0])\n",
    "unif_values[unif_values < threshold] = threshold\n",
    "\n",
    "real_values = pheno_pvalues\n",
    "real_values[real_values < threshold] = threshold\n",
    "\n",
    "df = pd.DataFrame({'unif': unif_values, 'real': real_values})\n",
    "display(df.shape)"
   ]
  },
  {
   "cell_type": "code",
   "execution_count": null,
   "metadata": {},
   "outputs": [],
   "source": [
    "df_plot = df\n",
    "\n",
    "ax = plots.qqplot(-np.log10(df_plot), 'unif', 'real', xlabel='Expected $-\\log_{10}(p)$', ylabel='Observed $-\\log_{10}(p)$', s=5, linewidth=0)\n",
    "ax.set_xlim([0, 5])\n",
    "ax.set_title(Trait(pheno_plain_name).get_pretty_name())"
   ]
  },
  {
   "cell_type": "markdown",
   "metadata": {},
   "source": [
    "# Schizophrenia"
   ]
  },
  {
   "cell_type": "code",
   "execution_count": null,
   "metadata": {},
   "outputs": [],
   "source": [
    "spredixcan_genes_associations.columns[spredixcan_genes_associations.columns.str.lower().str.contains('schizophrenia')]"
   ]
  },
  {
   "cell_type": "code",
   "execution_count": null,
   "metadata": {},
   "outputs": [],
   "source": [
    "pheno_plain_name = '20002_1289-Noncancer_illness_code_selfreported_schizophrenia'"
   ]
  },
  {
   "cell_type": "code",
   "execution_count": null,
   "metadata": {},
   "outputs": [],
   "source": [
    "pheno_pvalues = pd.Series(spredixcan_genes_associations[pheno_plain_name].values.flatten())\n",
    "display(pheno_pvalues.shape)"
   ]
  },
  {
   "cell_type": "code",
   "execution_count": null,
   "metadata": {},
   "outputs": [],
   "source": [
    "threshold = 1e-30\n",
    "\n",
    "unif_values = np.linspace(0.0001, 1, num=pheno_pvalues.shape[0])\n",
    "unif_values[unif_values < threshold] = threshold\n",
    "\n",
    "real_values = pheno_pvalues\n",
    "real_values[real_values < threshold] = threshold\n",
    "\n",
    "df = pd.DataFrame({'unif': unif_values, 'real': real_values})\n",
    "display(df.shape)"
   ]
  },
  {
   "cell_type": "code",
   "execution_count": null,
   "metadata": {},
   "outputs": [],
   "source": [
    "df_plot = df\n",
    "\n",
    "ax = plots.qqplot(-np.log10(df_plot), 'unif', 'real', xlabel='Expected $-\\log_{10}(p)$', ylabel='Observed $-\\log_{10}(p)$', s=5, linewidth=0)\n",
    "ax.set_xlim([0, 5])\n",
    "ax.set_title(Trait(pheno_plain_name).get_pretty_name())"
   ]
  },
  {
   "cell_type": "markdown",
   "metadata": {},
   "source": [
    "# All p-values"
   ]
  },
  {
   "cell_type": "code",
   "execution_count": null,
   "metadata": {},
   "outputs": [],
   "source": [
    "threshold = 1e-30\n",
    "\n",
    "unif_values = np.linspace(0.0001, 1, num=all_pvalues.shape[0])\n",
    "unif_values[unif_values < threshold] = threshold\n",
    "\n",
    "real_values = all_pvalues\n",
    "real_values[real_values < threshold] = threshold\n",
    "\n",
    "df = pd.DataFrame({'unif': unif_values, 'real': real_values})"
   ]
  },
  {
   "cell_type": "code",
   "execution_count": null,
   "metadata": {},
   "outputs": [],
   "source": [
    "df_plot = df\n",
    "\n",
    "ax = plots.qqplot(-np.log10(df_plot), 'unif', 'real', xlabel='Expected $-\\log_{10}(p)$', ylabel='Observed $-\\log_{10}(p)$', s=5, linewidth=0)\n",
    "ax.set_xlim([0, 5])"
   ]
  },
  {
   "cell_type": "code",
   "execution_count": null,
   "metadata": {},
   "outputs": [],
   "source": []
  }
 ],
 "metadata": {
  "kernelspec": {
   "display_name": "Python 3",
   "language": "python",
   "name": "python3"
  },
  "language_info": {
   "codemirror_mode": {
    "name": "ipython",
    "version": 3
   },
   "file_extension": ".py",
   "mimetype": "text/x-python",
   "name": "python",
   "nbconvert_exporter": "python",
   "pygments_lexer": "ipython3",
   "version": "3.7.3"
  }
 },
 "nbformat": 4,
 "nbformat_minor": 4
}
