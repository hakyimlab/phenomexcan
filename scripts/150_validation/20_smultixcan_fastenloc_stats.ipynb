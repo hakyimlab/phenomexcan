{
 "cells": [
  {
   "cell_type": "code",
   "execution_count": 1,
   "metadata": {},
   "outputs": [],
   "source": [
    "%load_ext autoreload\n",
    "%autoreload 2"
   ]
  },
  {
   "cell_type": "code",
   "execution_count": 58,
   "metadata": {},
   "outputs": [],
   "source": [
    "import os\n",
    "import pickle\n",
    "\n",
    "import numpy as np\n",
    "import pandas as pd\n",
    "\n",
    "import settings as conf\n",
    "import metadata"
   ]
  },
  {
   "cell_type": "markdown",
   "metadata": {},
   "source": [
    "# Load S-MultiXcan results"
   ]
  },
  {
   "cell_type": "code",
   "execution_count": 3,
   "metadata": {},
   "outputs": [
    {
     "data": {
      "text/plain": [
       "'/mnt/phenomexcan_base/gene_assoc/smultixcan-mashr-pvalues.pkl.xz'"
      ]
     },
     "metadata": {},
     "output_type": "display_data"
    }
   ],
   "source": [
    "smultixcan_pvalues_file = os.path.join(conf.GENE_ASSOC_DIR, f'smultixcan-mashr-pvalues.pkl.xz')\n",
    "display(smultixcan_pvalues_file)"
   ]
  },
  {
   "cell_type": "code",
   "execution_count": 4,
   "metadata": {},
   "outputs": [],
   "source": [
    "smultixcan_gene_associations = pd.read_pickle(smultixcan_pvalues_file)"
   ]
  },
  {
   "cell_type": "code",
   "execution_count": 5,
   "metadata": {},
   "outputs": [
    {
     "data": {
      "text/plain": [
       "(22515, 4091)"
      ]
     },
     "execution_count": 5,
     "metadata": {},
     "output_type": "execute_result"
    }
   ],
   "source": [
    "smultixcan_gene_associations.shape"
   ]
  },
  {
   "cell_type": "code",
   "execution_count": 6,
   "metadata": {},
   "outputs": [
    {
     "data": {
      "text/html": [
       "<div>\n",
       "<style scoped>\n",
       "    .dataframe tbody tr th:only-of-type {\n",
       "        vertical-align: middle;\n",
       "    }\n",
       "\n",
       "    .dataframe tbody tr th {\n",
       "        vertical-align: top;\n",
       "    }\n",
       "\n",
       "    .dataframe thead th {\n",
       "        text-align: right;\n",
       "    }\n",
       "</style>\n",
       "<table border=\"1\" class=\"dataframe\">\n",
       "  <thead>\n",
       "    <tr style=\"text-align: right;\">\n",
       "      <th></th>\n",
       "      <th>4270-Volume_level_set_by_participant_left</th>\n",
       "      <th>S05-Diagnoses_main_ICD10_S05_Injury_of_eye_and_orbit</th>\n",
       "      <th>20003_1141157402-Treatmentmedication_code_prednisolone_product</th>\n",
       "      <th>20002_1427-Noncancer_illness_code_selfreported_polycystic_kidney</th>\n",
       "      <th>110001-Invitation_to_complete_online_24hour_recall_dietary_questionnaire_acceptance</th>\n",
       "      <th>22617_2442-Job_SOC_coding_Social_workers</th>\n",
       "      <th>J93-Diagnoses_main_ICD10_J93_Pneumothorax</th>\n",
       "      <th>22601_41133206-Job_coding_local_government_administrative_officer_or_assistant_or_clerk</th>\n",
       "      <th>6145_3-Illness_injury_bereavement_stress_in_last_2_years_Death_of_a_close_relative</th>\n",
       "      <th>20002_1597-Noncancer_illness_code_selfreported_tinnitus_tiniitis</th>\n",
       "      <th>...</th>\n",
       "      <th>PGC_ADHD_EUR_2017</th>\n",
       "      <th>BCAC_ER_negative_BreastCancer_EUR</th>\n",
       "      <th>SSGAC_Education_Years_Pooled</th>\n",
       "      <th>pgc.scz2</th>\n",
       "      <th>MAGNETIC_HDL.C</th>\n",
       "      <th>MAGIC_ln_FastingInsulin</th>\n",
       "      <th>Astle_et_al_2016_Sum_eosinophil_basophil_counts</th>\n",
       "      <th>SSGAC_Depressive_Symptoms</th>\n",
       "      <th>Jones_et_al_2016_SleepDuration</th>\n",
       "      <th>Astle_et_al_2016_Red_blood_cell_count</th>\n",
       "    </tr>\n",
       "    <tr>\n",
       "      <th>gene_name</th>\n",
       "      <th></th>\n",
       "      <th></th>\n",
       "      <th></th>\n",
       "      <th></th>\n",
       "      <th></th>\n",
       "      <th></th>\n",
       "      <th></th>\n",
       "      <th></th>\n",
       "      <th></th>\n",
       "      <th></th>\n",
       "      <th></th>\n",
       "      <th></th>\n",
       "      <th></th>\n",
       "      <th></th>\n",
       "      <th></th>\n",
       "      <th></th>\n",
       "      <th></th>\n",
       "      <th></th>\n",
       "      <th></th>\n",
       "      <th></th>\n",
       "      <th></th>\n",
       "    </tr>\n",
       "  </thead>\n",
       "  <tbody>\n",
       "    <tr>\n",
       "      <th>ENSG00000000419</th>\n",
       "      <td>0.952828</td>\n",
       "      <td>0.827955</td>\n",
       "      <td>0.976745</td>\n",
       "      <td>0.916643</td>\n",
       "      <td>0.580172</td>\n",
       "      <td>0.270858</td>\n",
       "      <td>0.779171</td>\n",
       "      <td>0.597882</td>\n",
       "      <td>0.531657</td>\n",
       "      <td>0.534696</td>\n",
       "      <td>...</td>\n",
       "      <td>0.980281</td>\n",
       "      <td>0.413973</td>\n",
       "      <td>0.747822</td>\n",
       "      <td>0.609467</td>\n",
       "      <td>0.019467</td>\n",
       "      <td>0.371748</td>\n",
       "      <td>0.823010</td>\n",
       "      <td>0.713310</td>\n",
       "      <td>0.858389</td>\n",
       "      <td>0.409761</td>\n",
       "    </tr>\n",
       "    <tr>\n",
       "      <th>ENSG00000000457</th>\n",
       "      <td>0.646365</td>\n",
       "      <td>0.299606</td>\n",
       "      <td>0.477472</td>\n",
       "      <td>0.003570</td>\n",
       "      <td>0.905365</td>\n",
       "      <td>0.845711</td>\n",
       "      <td>0.137430</td>\n",
       "      <td>0.868056</td>\n",
       "      <td>0.028947</td>\n",
       "      <td>0.392273</td>\n",
       "      <td>...</td>\n",
       "      <td>0.228982</td>\n",
       "      <td>0.636830</td>\n",
       "      <td>0.654535</td>\n",
       "      <td>0.010907</td>\n",
       "      <td>0.726300</td>\n",
       "      <td>0.210658</td>\n",
       "      <td>0.008023</td>\n",
       "      <td>0.678749</td>\n",
       "      <td>0.836679</td>\n",
       "      <td>0.812484</td>\n",
       "    </tr>\n",
       "    <tr>\n",
       "      <th>ENSG00000000460</th>\n",
       "      <td>0.896074</td>\n",
       "      <td>0.094218</td>\n",
       "      <td>0.507646</td>\n",
       "      <td>0.166442</td>\n",
       "      <td>0.974545</td>\n",
       "      <td>0.628910</td>\n",
       "      <td>0.425188</td>\n",
       "      <td>0.551723</td>\n",
       "      <td>0.059456</td>\n",
       "      <td>0.295833</td>\n",
       "      <td>...</td>\n",
       "      <td>0.301460</td>\n",
       "      <td>0.140522</td>\n",
       "      <td>0.646442</td>\n",
       "      <td>0.587969</td>\n",
       "      <td>0.498724</td>\n",
       "      <td>0.521805</td>\n",
       "      <td>0.004462</td>\n",
       "      <td>0.736509</td>\n",
       "      <td>0.432229</td>\n",
       "      <td>0.486664</td>\n",
       "    </tr>\n",
       "    <tr>\n",
       "      <th>ENSG00000000938</th>\n",
       "      <td>0.576924</td>\n",
       "      <td>0.107121</td>\n",
       "      <td>0.439276</td>\n",
       "      <td>0.567582</td>\n",
       "      <td>0.768334</td>\n",
       "      <td>0.203873</td>\n",
       "      <td>0.231449</td>\n",
       "      <td>0.106706</td>\n",
       "      <td>0.595655</td>\n",
       "      <td>0.953718</td>\n",
       "      <td>...</td>\n",
       "      <td>0.588855</td>\n",
       "      <td>0.226977</td>\n",
       "      <td>0.576593</td>\n",
       "      <td>0.059247</td>\n",
       "      <td>0.435438</td>\n",
       "      <td>0.953160</td>\n",
       "      <td>0.101875</td>\n",
       "      <td>0.954998</td>\n",
       "      <td>0.097831</td>\n",
       "      <td>0.135045</td>\n",
       "    </tr>\n",
       "    <tr>\n",
       "      <th>ENSG00000000971</th>\n",
       "      <td>0.956390</td>\n",
       "      <td>0.492012</td>\n",
       "      <td>0.510924</td>\n",
       "      <td>0.532389</td>\n",
       "      <td>0.555313</td>\n",
       "      <td>0.993563</td>\n",
       "      <td>0.807439</td>\n",
       "      <td>0.948366</td>\n",
       "      <td>0.774694</td>\n",
       "      <td>0.490962</td>\n",
       "      <td>...</td>\n",
       "      <td>0.109883</td>\n",
       "      <td>0.040871</td>\n",
       "      <td>0.005662</td>\n",
       "      <td>0.020391</td>\n",
       "      <td>0.439466</td>\n",
       "      <td>0.690242</td>\n",
       "      <td>0.055059</td>\n",
       "      <td>0.002660</td>\n",
       "      <td>0.331132</td>\n",
       "      <td>0.995450</td>\n",
       "    </tr>\n",
       "  </tbody>\n",
       "</table>\n",
       "<p>5 rows × 4091 columns</p>\n",
       "</div>"
      ],
      "text/plain": [
       "                 4270-Volume_level_set_by_participant_left  \\\n",
       "gene_name                                                    \n",
       "ENSG00000000419                                   0.952828   \n",
       "ENSG00000000457                                   0.646365   \n",
       "ENSG00000000460                                   0.896074   \n",
       "ENSG00000000938                                   0.576924   \n",
       "ENSG00000000971                                   0.956390   \n",
       "\n",
       "                 S05-Diagnoses_main_ICD10_S05_Injury_of_eye_and_orbit  \\\n",
       "gene_name                                                               \n",
       "ENSG00000000419                                           0.827955      \n",
       "ENSG00000000457                                           0.299606      \n",
       "ENSG00000000460                                           0.094218      \n",
       "ENSG00000000938                                           0.107121      \n",
       "ENSG00000000971                                           0.492012      \n",
       "\n",
       "                 20003_1141157402-Treatmentmedication_code_prednisolone_product  \\\n",
       "gene_name                                                                         \n",
       "ENSG00000000419                                           0.976745                \n",
       "ENSG00000000457                                           0.477472                \n",
       "ENSG00000000460                                           0.507646                \n",
       "ENSG00000000938                                           0.439276                \n",
       "ENSG00000000971                                           0.510924                \n",
       "\n",
       "                 20002_1427-Noncancer_illness_code_selfreported_polycystic_kidney  \\\n",
       "gene_name                                                                           \n",
       "ENSG00000000419                                           0.916643                  \n",
       "ENSG00000000457                                           0.003570                  \n",
       "ENSG00000000460                                           0.166442                  \n",
       "ENSG00000000938                                           0.567582                  \n",
       "ENSG00000000971                                           0.532389                  \n",
       "\n",
       "                 110001-Invitation_to_complete_online_24hour_recall_dietary_questionnaire_acceptance  \\\n",
       "gene_name                                                                                              \n",
       "ENSG00000000419                                           0.580172                                     \n",
       "ENSG00000000457                                           0.905365                                     \n",
       "ENSG00000000460                                           0.974545                                     \n",
       "ENSG00000000938                                           0.768334                                     \n",
       "ENSG00000000971                                           0.555313                                     \n",
       "\n",
       "                 22617_2442-Job_SOC_coding_Social_workers  \\\n",
       "gene_name                                                   \n",
       "ENSG00000000419                                  0.270858   \n",
       "ENSG00000000457                                  0.845711   \n",
       "ENSG00000000460                                  0.628910   \n",
       "ENSG00000000938                                  0.203873   \n",
       "ENSG00000000971                                  0.993563   \n",
       "\n",
       "                 J93-Diagnoses_main_ICD10_J93_Pneumothorax  \\\n",
       "gene_name                                                    \n",
       "ENSG00000000419                                   0.779171   \n",
       "ENSG00000000457                                   0.137430   \n",
       "ENSG00000000460                                   0.425188   \n",
       "ENSG00000000938                                   0.231449   \n",
       "ENSG00000000971                                   0.807439   \n",
       "\n",
       "                 22601_41133206-Job_coding_local_government_administrative_officer_or_assistant_or_clerk  \\\n",
       "gene_name                                                                                                  \n",
       "ENSG00000000419                                           0.597882                                         \n",
       "ENSG00000000457                                           0.868056                                         \n",
       "ENSG00000000460                                           0.551723                                         \n",
       "ENSG00000000938                                           0.106706                                         \n",
       "ENSG00000000971                                           0.948366                                         \n",
       "\n",
       "                 6145_3-Illness_injury_bereavement_stress_in_last_2_years_Death_of_a_close_relative  \\\n",
       "gene_name                                                                                             \n",
       "ENSG00000000419                                           0.531657                                    \n",
       "ENSG00000000457                                           0.028947                                    \n",
       "ENSG00000000460                                           0.059456                                    \n",
       "ENSG00000000938                                           0.595655                                    \n",
       "ENSG00000000971                                           0.774694                                    \n",
       "\n",
       "                 20002_1597-Noncancer_illness_code_selfreported_tinnitus_tiniitis  \\\n",
       "gene_name                                                                           \n",
       "ENSG00000000419                                           0.534696                  \n",
       "ENSG00000000457                                           0.392273                  \n",
       "ENSG00000000460                                           0.295833                  \n",
       "ENSG00000000938                                           0.953718                  \n",
       "ENSG00000000971                                           0.490962                  \n",
       "\n",
       "                 ...  PGC_ADHD_EUR_2017  BCAC_ER_negative_BreastCancer_EUR  \\\n",
       "gene_name        ...                                                         \n",
       "ENSG00000000419  ...           0.980281                           0.413973   \n",
       "ENSG00000000457  ...           0.228982                           0.636830   \n",
       "ENSG00000000460  ...           0.301460                           0.140522   \n",
       "ENSG00000000938  ...           0.588855                           0.226977   \n",
       "ENSG00000000971  ...           0.109883                           0.040871   \n",
       "\n",
       "                 SSGAC_Education_Years_Pooled  pgc.scz2  MAGNETIC_HDL.C  \\\n",
       "gene_name                                                                 \n",
       "ENSG00000000419                      0.747822  0.609467        0.019467   \n",
       "ENSG00000000457                      0.654535  0.010907        0.726300   \n",
       "ENSG00000000460                      0.646442  0.587969        0.498724   \n",
       "ENSG00000000938                      0.576593  0.059247        0.435438   \n",
       "ENSG00000000971                      0.005662  0.020391        0.439466   \n",
       "\n",
       "                 MAGIC_ln_FastingInsulin  \\\n",
       "gene_name                                  \n",
       "ENSG00000000419                 0.371748   \n",
       "ENSG00000000457                 0.210658   \n",
       "ENSG00000000460                 0.521805   \n",
       "ENSG00000000938                 0.953160   \n",
       "ENSG00000000971                 0.690242   \n",
       "\n",
       "                 Astle_et_al_2016_Sum_eosinophil_basophil_counts  \\\n",
       "gene_name                                                          \n",
       "ENSG00000000419                                         0.823010   \n",
       "ENSG00000000457                                         0.008023   \n",
       "ENSG00000000460                                         0.004462   \n",
       "ENSG00000000938                                         0.101875   \n",
       "ENSG00000000971                                         0.055059   \n",
       "\n",
       "                 SSGAC_Depressive_Symptoms  Jones_et_al_2016_SleepDuration  \\\n",
       "gene_name                                                                    \n",
       "ENSG00000000419                   0.713310                        0.858389   \n",
       "ENSG00000000457                   0.678749                        0.836679   \n",
       "ENSG00000000460                   0.736509                        0.432229   \n",
       "ENSG00000000938                   0.954998                        0.097831   \n",
       "ENSG00000000971                   0.002660                        0.331132   \n",
       "\n",
       "                 Astle_et_al_2016_Red_blood_cell_count  \n",
       "gene_name                                               \n",
       "ENSG00000000419                               0.409761  \n",
       "ENSG00000000457                               0.812484  \n",
       "ENSG00000000460                               0.486664  \n",
       "ENSG00000000938                               0.135045  \n",
       "ENSG00000000971                               0.995450  \n",
       "\n",
       "[5 rows x 4091 columns]"
      ]
     },
     "execution_count": 6,
     "metadata": {},
     "output_type": "execute_result"
    }
   ],
   "source": [
    "smultixcan_gene_associations.head(5)"
   ]
  },
  {
   "cell_type": "markdown",
   "metadata": {},
   "source": [
    "# Load fastENLOC results"
   ]
  },
  {
   "cell_type": "code",
   "execution_count": 7,
   "metadata": {},
   "outputs": [
    {
     "data": {
      "text/plain": [
       "'/mnt/phenomexcan_base/gene_assoc/fastenloc-torus-rcp.pkl.xz'"
      ]
     },
     "metadata": {},
     "output_type": "display_data"
    }
   ],
   "source": [
    "fastenloc_rcp_file = os.path.join(conf.GENE_ASSOC_DIR, f'fastenloc-torus-rcp.pkl.xz')\n",
    "display(fastenloc_rcp_file)"
   ]
  },
  {
   "cell_type": "code",
   "execution_count": 8,
   "metadata": {},
   "outputs": [],
   "source": [
    "fastenloc_gene_associations = pd.read_pickle(fastenloc_rcp_file)"
   ]
  },
  {
   "cell_type": "code",
   "execution_count": 9,
   "metadata": {},
   "outputs": [
    {
     "data": {
      "text/plain": [
       "(37967, 4091)"
      ]
     },
     "execution_count": 9,
     "metadata": {},
     "output_type": "execute_result"
    }
   ],
   "source": [
    "fastenloc_gene_associations.shape"
   ]
  },
  {
   "cell_type": "code",
   "execution_count": 10,
   "metadata": {},
   "outputs": [
    {
     "data": {
      "text/html": [
       "<div>\n",
       "<style scoped>\n",
       "    .dataframe tbody tr th:only-of-type {\n",
       "        vertical-align: middle;\n",
       "    }\n",
       "\n",
       "    .dataframe tbody tr th {\n",
       "        vertical-align: top;\n",
       "    }\n",
       "\n",
       "    .dataframe thead th {\n",
       "        text-align: right;\n",
       "    }\n",
       "</style>\n",
       "<table border=\"1\" class=\"dataframe\">\n",
       "  <thead>\n",
       "    <tr style=\"text-align: right;\">\n",
       "      <th></th>\n",
       "      <th>20485-Ever_contemplated_selfharm</th>\n",
       "      <th>6160_2-Leisuresocial_activities_Pub_or_social_club</th>\n",
       "      <th>6139_3-Gas_or_solidfuel_cookingheating_An_open_solid_fuel_fire_that_you_use_regularly_in_winter_time</th>\n",
       "      <th>L12_FOLLICULARNAS-Other_and_unspecified_follicular_disorders</th>\n",
       "      <th>2654_8-Nonbutter_spread_type_details_Other_low_or_reduced_fat_spread</th>\n",
       "      <th>22617_8139-Job_SOC_coding_Assemblers_and_routine_operatives_nec</th>\n",
       "      <th>I9_CARDMPRI-Cardiomyopathies_Primaryintrinsic</th>\n",
       "      <th>20003_1141188442-Treatmentmedication_code_glucosamine_product</th>\n",
       "      <th>RHEUMA_SEROPOS_OTH-Otherunspecified_seropositiverheumatoid_arthritis</th>\n",
       "      <th>22601_11523251-Job_coding_office_manager_accountpayrolls_manager_administration_manager_litigationsolicitors_office_manager</th>\n",
       "      <th>...</th>\n",
       "      <th>PGC_ADHD_EUR_2017</th>\n",
       "      <th>BCAC_ER_negative_BreastCancer_EUR</th>\n",
       "      <th>SSGAC_Education_Years_Pooled</th>\n",
       "      <th>pgc.scz2</th>\n",
       "      <th>MAGNETIC_HDL.C</th>\n",
       "      <th>MAGIC_ln_FastingInsulin</th>\n",
       "      <th>Astle_et_al_2016_Sum_eosinophil_basophil_counts</th>\n",
       "      <th>SSGAC_Depressive_Symptoms</th>\n",
       "      <th>Jones_et_al_2016_SleepDuration</th>\n",
       "      <th>Astle_et_al_2016_Red_blood_cell_count</th>\n",
       "    </tr>\n",
       "    <tr>\n",
       "      <th>gene_name</th>\n",
       "      <th></th>\n",
       "      <th></th>\n",
       "      <th></th>\n",
       "      <th></th>\n",
       "      <th></th>\n",
       "      <th></th>\n",
       "      <th></th>\n",
       "      <th></th>\n",
       "      <th></th>\n",
       "      <th></th>\n",
       "      <th></th>\n",
       "      <th></th>\n",
       "      <th></th>\n",
       "      <th></th>\n",
       "      <th></th>\n",
       "      <th></th>\n",
       "      <th></th>\n",
       "      <th></th>\n",
       "      <th></th>\n",
       "      <th></th>\n",
       "      <th></th>\n",
       "    </tr>\n",
       "  </thead>\n",
       "  <tbody>\n",
       "    <tr>\n",
       "      <th>ENSG00000000419</th>\n",
       "      <td>0.000008</td>\n",
       "      <td>0.000505</td>\n",
       "      <td>0.000305</td>\n",
       "      <td>3.300140e-11</td>\n",
       "      <td>0.000039</td>\n",
       "      <td>3.736700e-07</td>\n",
       "      <td>0.000010</td>\n",
       "      <td>0.000017</td>\n",
       "      <td>0.000044</td>\n",
       "      <td>2.399400e-07</td>\n",
       "      <td>...</td>\n",
       "      <td>0.0</td>\n",
       "      <td>NaN</td>\n",
       "      <td>0.001</td>\n",
       "      <td>0.000</td>\n",
       "      <td>NaN</td>\n",
       "      <td>NaN</td>\n",
       "      <td>0.001</td>\n",
       "      <td>NaN</td>\n",
       "      <td>NaN</td>\n",
       "      <td>0.001</td>\n",
       "    </tr>\n",
       "    <tr>\n",
       "      <th>ENSG00000000457</th>\n",
       "      <td>0.000131</td>\n",
       "      <td>0.002876</td>\n",
       "      <td>0.003605</td>\n",
       "      <td>8.840290e-11</td>\n",
       "      <td>0.000203</td>\n",
       "      <td>7.714700e-07</td>\n",
       "      <td>0.000195</td>\n",
       "      <td>0.000601</td>\n",
       "      <td>0.000245</td>\n",
       "      <td>5.047600e-06</td>\n",
       "      <td>...</td>\n",
       "      <td>NaN</td>\n",
       "      <td>NaN</td>\n",
       "      <td>0.000</td>\n",
       "      <td>NaN</td>\n",
       "      <td>NaN</td>\n",
       "      <td>NaN</td>\n",
       "      <td>0.000</td>\n",
       "      <td>NaN</td>\n",
       "      <td>NaN</td>\n",
       "      <td>0.000</td>\n",
       "    </tr>\n",
       "    <tr>\n",
       "      <th>ENSG00000000460</th>\n",
       "      <td>0.000014</td>\n",
       "      <td>0.000975</td>\n",
       "      <td>0.005453</td>\n",
       "      <td>9.497296e-11</td>\n",
       "      <td>0.000147</td>\n",
       "      <td>1.070900e-06</td>\n",
       "      <td>0.000029</td>\n",
       "      <td>0.000224</td>\n",
       "      <td>0.004665</td>\n",
       "      <td>3.258560e-06</td>\n",
       "      <td>...</td>\n",
       "      <td>NaN</td>\n",
       "      <td>NaN</td>\n",
       "      <td>0.000</td>\n",
       "      <td>NaN</td>\n",
       "      <td>NaN</td>\n",
       "      <td>NaN</td>\n",
       "      <td>0.000</td>\n",
       "      <td>NaN</td>\n",
       "      <td>NaN</td>\n",
       "      <td>0.000</td>\n",
       "    </tr>\n",
       "    <tr>\n",
       "      <th>ENSG00000000938</th>\n",
       "      <td>0.000019</td>\n",
       "      <td>0.000449</td>\n",
       "      <td>0.014776</td>\n",
       "      <td>8.855560e-11</td>\n",
       "      <td>0.000091</td>\n",
       "      <td>6.395000e-07</td>\n",
       "      <td>0.000090</td>\n",
       "      <td>0.000767</td>\n",
       "      <td>0.000453</td>\n",
       "      <td>5.325200e-07</td>\n",
       "      <td>...</td>\n",
       "      <td>NaN</td>\n",
       "      <td>NaN</td>\n",
       "      <td>NaN</td>\n",
       "      <td>0.002</td>\n",
       "      <td>NaN</td>\n",
       "      <td>NaN</td>\n",
       "      <td>0.001</td>\n",
       "      <td>NaN</td>\n",
       "      <td>NaN</td>\n",
       "      <td>NaN</td>\n",
       "    </tr>\n",
       "    <tr>\n",
       "      <th>ENSG00000000971</th>\n",
       "      <td>0.000006</td>\n",
       "      <td>0.000674</td>\n",
       "      <td>0.001918</td>\n",
       "      <td>4.448820e-10</td>\n",
       "      <td>0.000057</td>\n",
       "      <td>1.796000e-07</td>\n",
       "      <td>0.000044</td>\n",
       "      <td>0.000049</td>\n",
       "      <td>0.000212</td>\n",
       "      <td>9.644000e-07</td>\n",
       "      <td>...</td>\n",
       "      <td>NaN</td>\n",
       "      <td>NaN</td>\n",
       "      <td>NaN</td>\n",
       "      <td>NaN</td>\n",
       "      <td>NaN</td>\n",
       "      <td>NaN</td>\n",
       "      <td>0.000</td>\n",
       "      <td>NaN</td>\n",
       "      <td>NaN</td>\n",
       "      <td>0.000</td>\n",
       "    </tr>\n",
       "  </tbody>\n",
       "</table>\n",
       "<p>5 rows × 4091 columns</p>\n",
       "</div>"
      ],
      "text/plain": [
       "                 20485-Ever_contemplated_selfharm  \\\n",
       "gene_name                                           \n",
       "ENSG00000000419                          0.000008   \n",
       "ENSG00000000457                          0.000131   \n",
       "ENSG00000000460                          0.000014   \n",
       "ENSG00000000938                          0.000019   \n",
       "ENSG00000000971                          0.000006   \n",
       "\n",
       "                 6160_2-Leisuresocial_activities_Pub_or_social_club  \\\n",
       "gene_name                                                             \n",
       "ENSG00000000419                                           0.000505    \n",
       "ENSG00000000457                                           0.002876    \n",
       "ENSG00000000460                                           0.000975    \n",
       "ENSG00000000938                                           0.000449    \n",
       "ENSG00000000971                                           0.000674    \n",
       "\n",
       "                 6139_3-Gas_or_solidfuel_cookingheating_An_open_solid_fuel_fire_that_you_use_regularly_in_winter_time  \\\n",
       "gene_name                                                                                                               \n",
       "ENSG00000000419                                           0.000305                                                      \n",
       "ENSG00000000457                                           0.003605                                                      \n",
       "ENSG00000000460                                           0.005453                                                      \n",
       "ENSG00000000938                                           0.014776                                                      \n",
       "ENSG00000000971                                           0.001918                                                      \n",
       "\n",
       "                 L12_FOLLICULARNAS-Other_and_unspecified_follicular_disorders  \\\n",
       "gene_name                                                                       \n",
       "ENSG00000000419                                       3.300140e-11              \n",
       "ENSG00000000457                                       8.840290e-11              \n",
       "ENSG00000000460                                       9.497296e-11              \n",
       "ENSG00000000938                                       8.855560e-11              \n",
       "ENSG00000000971                                       4.448820e-10              \n",
       "\n",
       "                 2654_8-Nonbutter_spread_type_details_Other_low_or_reduced_fat_spread  \\\n",
       "gene_name                                                                               \n",
       "ENSG00000000419                                           0.000039                      \n",
       "ENSG00000000457                                           0.000203                      \n",
       "ENSG00000000460                                           0.000147                      \n",
       "ENSG00000000938                                           0.000091                      \n",
       "ENSG00000000971                                           0.000057                      \n",
       "\n",
       "                 22617_8139-Job_SOC_coding_Assemblers_and_routine_operatives_nec  \\\n",
       "gene_name                                                                          \n",
       "ENSG00000000419                                       3.736700e-07                 \n",
       "ENSG00000000457                                       7.714700e-07                 \n",
       "ENSG00000000460                                       1.070900e-06                 \n",
       "ENSG00000000938                                       6.395000e-07                 \n",
       "ENSG00000000971                                       1.796000e-07                 \n",
       "\n",
       "                 I9_CARDMPRI-Cardiomyopathies_Primaryintrinsic  \\\n",
       "gene_name                                                        \n",
       "ENSG00000000419                                       0.000010   \n",
       "ENSG00000000457                                       0.000195   \n",
       "ENSG00000000460                                       0.000029   \n",
       "ENSG00000000938                                       0.000090   \n",
       "ENSG00000000971                                       0.000044   \n",
       "\n",
       "                 20003_1141188442-Treatmentmedication_code_glucosamine_product  \\\n",
       "gene_name                                                                        \n",
       "ENSG00000000419                                           0.000017               \n",
       "ENSG00000000457                                           0.000601               \n",
       "ENSG00000000460                                           0.000224               \n",
       "ENSG00000000938                                           0.000767               \n",
       "ENSG00000000971                                           0.000049               \n",
       "\n",
       "                 RHEUMA_SEROPOS_OTH-Otherunspecified_seropositiverheumatoid_arthritis  \\\n",
       "gene_name                                                                               \n",
       "ENSG00000000419                                           0.000044                      \n",
       "ENSG00000000457                                           0.000245                      \n",
       "ENSG00000000460                                           0.004665                      \n",
       "ENSG00000000938                                           0.000453                      \n",
       "ENSG00000000971                                           0.000212                      \n",
       "\n",
       "                 22601_11523251-Job_coding_office_manager_accountpayrolls_manager_administration_manager_litigationsolicitors_office_manager  \\\n",
       "gene_name                                                                                                                                      \n",
       "ENSG00000000419                                       2.399400e-07                                                                             \n",
       "ENSG00000000457                                       5.047600e-06                                                                             \n",
       "ENSG00000000460                                       3.258560e-06                                                                             \n",
       "ENSG00000000938                                       5.325200e-07                                                                             \n",
       "ENSG00000000971                                       9.644000e-07                                                                             \n",
       "\n",
       "                 ...  PGC_ADHD_EUR_2017  BCAC_ER_negative_BreastCancer_EUR  \\\n",
       "gene_name        ...                                                         \n",
       "ENSG00000000419  ...                0.0                                NaN   \n",
       "ENSG00000000457  ...                NaN                                NaN   \n",
       "ENSG00000000460  ...                NaN                                NaN   \n",
       "ENSG00000000938  ...                NaN                                NaN   \n",
       "ENSG00000000971  ...                NaN                                NaN   \n",
       "\n",
       "                 SSGAC_Education_Years_Pooled  pgc.scz2  MAGNETIC_HDL.C  \\\n",
       "gene_name                                                                 \n",
       "ENSG00000000419                         0.001     0.000             NaN   \n",
       "ENSG00000000457                         0.000       NaN             NaN   \n",
       "ENSG00000000460                         0.000       NaN             NaN   \n",
       "ENSG00000000938                           NaN     0.002             NaN   \n",
       "ENSG00000000971                           NaN       NaN             NaN   \n",
       "\n",
       "                 MAGIC_ln_FastingInsulin  \\\n",
       "gene_name                                  \n",
       "ENSG00000000419                      NaN   \n",
       "ENSG00000000457                      NaN   \n",
       "ENSG00000000460                      NaN   \n",
       "ENSG00000000938                      NaN   \n",
       "ENSG00000000971                      NaN   \n",
       "\n",
       "                 Astle_et_al_2016_Sum_eosinophil_basophil_counts  \\\n",
       "gene_name                                                          \n",
       "ENSG00000000419                                            0.001   \n",
       "ENSG00000000457                                            0.000   \n",
       "ENSG00000000460                                            0.000   \n",
       "ENSG00000000938                                            0.001   \n",
       "ENSG00000000971                                            0.000   \n",
       "\n",
       "                 SSGAC_Depressive_Symptoms  Jones_et_al_2016_SleepDuration  \\\n",
       "gene_name                                                                    \n",
       "ENSG00000000419                        NaN                             NaN   \n",
       "ENSG00000000457                        NaN                             NaN   \n",
       "ENSG00000000460                        NaN                             NaN   \n",
       "ENSG00000000938                        NaN                             NaN   \n",
       "ENSG00000000971                        NaN                             NaN   \n",
       "\n",
       "                 Astle_et_al_2016_Red_blood_cell_count  \n",
       "gene_name                                               \n",
       "ENSG00000000419                                  0.001  \n",
       "ENSG00000000457                                  0.000  \n",
       "ENSG00000000460                                  0.000  \n",
       "ENSG00000000938                                    NaN  \n",
       "ENSG00000000971                                  0.000  \n",
       "\n",
       "[5 rows x 4091 columns]"
      ]
     },
     "execution_count": 10,
     "metadata": {},
     "output_type": "execute_result"
    }
   ],
   "source": [
    "fastenloc_gene_associations.head(5)"
   ]
  },
  {
   "cell_type": "code",
   "execution_count": 11,
   "metadata": {},
   "outputs": [],
   "source": [
    "assert fastenloc_gene_associations.min().min() >= 0\n",
    "assert fastenloc_gene_associations.max().max() <= 3"
   ]
  },
  {
   "cell_type": "markdown",
   "metadata": {},
   "source": [
    "# S-MultiXcan"
   ]
  },
  {
   "cell_type": "markdown",
   "metadata": {},
   "source": [
    "## Counts of significant associations"
   ]
  },
  {
   "cell_type": "code",
   "execution_count": 12,
   "metadata": {},
   "outputs": [
    {
     "data": {
      "text/plain": [
       "(22515, 4091)"
      ]
     },
     "execution_count": 12,
     "metadata": {},
     "output_type": "execute_result"
    }
   ],
   "source": [
    "smultixcan_gene_associations.shape"
   ]
  },
  {
   "cell_type": "code",
   "execution_count": 13,
   "metadata": {},
   "outputs": [
    {
     "data": {
      "text/plain": [
       "(91055810,)"
      ]
     },
     "metadata": {},
     "output_type": "display_data"
    }
   ],
   "source": [
    "all_pvalues = pd.Series(smultixcan_gene_associations.values.flatten()).dropna()\n",
    "display(all_pvalues.shape)"
   ]
  },
  {
   "cell_type": "code",
   "execution_count": 14,
   "metadata": {},
   "outputs": [
    {
     "data": {
      "text/plain": [
       "count     9.105581e+07\n",
       "mean      4.839226e-01\n",
       "std       2.934763e-01\n",
       "min      9.999889e-321\n",
       "25%       2.266266e-01\n",
       "50%       4.794625e-01\n",
       "75%       7.378647e-01\n",
       "max       1.000000e+00\n",
       "dtype: float64"
      ]
     },
     "execution_count": 14,
     "metadata": {},
     "output_type": "execute_result"
    }
   ],
   "source": [
    "all_pvalues.describe()"
   ]
  },
  {
   "cell_type": "code",
   "execution_count": 15,
   "metadata": {},
   "outputs": [
    {
     "data": {
      "text/plain": [
       "count    9.105581e+07\n",
       "mean     4.990325e-01\n",
       "std      1.258476e+00\n",
       "min     -0.000000e+00\n",
       "25%      1.320233e-01\n",
       "50%      3.192453e-01\n",
       "75%      6.446892e-01\n",
       "max      3.200000e+02\n",
       "dtype: float64"
      ]
     },
     "execution_count": 15,
     "metadata": {},
     "output_type": "execute_result"
    }
   ],
   "source": [
    "(-np.log10(all_pvalues)).describe()"
   ]
  },
  {
   "cell_type": "code",
   "execution_count": 16,
   "metadata": {},
   "outputs": [
    {
     "data": {
      "text/plain": [
       "5.491137797796759e-10"
      ]
     },
     "metadata": {},
     "output_type": "display_data"
    }
   ],
   "source": [
    "PVALUE_THRESHOLD = (0.05 / all_pvalues.shape[0])\n",
    "display(PVALUE_THRESHOLD)"
   ]
  },
  {
   "cell_type": "code",
   "execution_count": 17,
   "metadata": {},
   "outputs": [],
   "source": [
    "PVALUE_THRESHOLD = 5.49e-10"
   ]
  },
  {
   "cell_type": "code",
   "execution_count": 18,
   "metadata": {},
   "outputs": [
    {
     "data": {
      "text/plain": [
       "72994"
      ]
     },
     "metadata": {},
     "output_type": "display_data"
    },
    {
     "data": {
      "text/plain": [
       "0.08016402248247531"
      ]
     },
     "metadata": {},
     "output_type": "display_data"
    }
   ],
   "source": [
    "hits = (all_pvalues < PVALUE_THRESHOLD).sum()\n",
    "display(hits)\n",
    "display((hits / all_pvalues.shape[0]) * 100)"
   ]
  },
  {
   "cell_type": "code",
   "execution_count": 19,
   "metadata": {},
   "outputs": [
    {
     "data": {
      "text/plain": [
       "1809587"
      ]
     },
     "metadata": {},
     "output_type": "display_data"
    },
    {
     "data": {
      "text/plain": [
       "1.9873383148203285"
      ]
     },
     "metadata": {},
     "output_type": "display_data"
    }
   ],
   "source": [
    "hits = (all_pvalues < 0.01).sum()\n",
    "display(hits)\n",
    "display((hits / all_pvalues.shape[0]) * 100)"
   ]
  },
  {
   "cell_type": "markdown",
   "metadata": {},
   "source": [
    "# fastENLOC"
   ]
  },
  {
   "cell_type": "markdown",
   "metadata": {},
   "source": [
    "## Numbers of significant genes also found by fastENLOC"
   ]
  },
  {
   "cell_type": "code",
   "execution_count": 20,
   "metadata": {},
   "outputs": [
    {
     "data": {
      "text/plain": [
       "Index(['ENSG00000000419', 'ENSG00000000457', 'ENSG00000000460',\n",
       "       'ENSG00000000938', 'ENSG00000000971', 'ENSG00000001036',\n",
       "       'ENSG00000001084', 'ENSG00000001167', 'ENSG00000001460',\n",
       "       'ENSG00000001461',\n",
       "       ...\n",
       "       'ENSG00000284240', 'ENSG00000284308', 'ENSG00000284395',\n",
       "       'ENSG00000284413', 'ENSG00000284418', 'ENSG00000284430',\n",
       "       'ENSG00000284452', 'ENSG00000284513', 'ENSG00000284526',\n",
       "       'ENSG00000284552'],\n",
       "      dtype='object', name='gene_name', length=22427)"
      ]
     },
     "metadata": {},
     "output_type": "display_data"
    }
   ],
   "source": [
    "common_genes = fastenloc_gene_associations.index.intersection(smultixcan_gene_associations.index)\n",
    "display(common_genes)"
   ]
  },
  {
   "cell_type": "code",
   "execution_count": 21,
   "metadata": {},
   "outputs": [
    {
     "data": {
      "text/plain": [
       "(22427, 4091)"
      ]
     },
     "metadata": {},
     "output_type": "display_data"
    },
    {
     "data": {
      "text/html": [
       "<div>\n",
       "<style scoped>\n",
       "    .dataframe tbody tr th:only-of-type {\n",
       "        vertical-align: middle;\n",
       "    }\n",
       "\n",
       "    .dataframe tbody tr th {\n",
       "        vertical-align: top;\n",
       "    }\n",
       "\n",
       "    .dataframe thead th {\n",
       "        text-align: right;\n",
       "    }\n",
       "</style>\n",
       "<table border=\"1\" class=\"dataframe\">\n",
       "  <thead>\n",
       "    <tr style=\"text-align: right;\">\n",
       "      <th></th>\n",
       "      <th>4270-Volume_level_set_by_participant_left</th>\n",
       "      <th>S05-Diagnoses_main_ICD10_S05_Injury_of_eye_and_orbit</th>\n",
       "      <th>20003_1141157402-Treatmentmedication_code_prednisolone_product</th>\n",
       "      <th>20002_1427-Noncancer_illness_code_selfreported_polycystic_kidney</th>\n",
       "      <th>110001-Invitation_to_complete_online_24hour_recall_dietary_questionnaire_acceptance</th>\n",
       "      <th>22617_2442-Job_SOC_coding_Social_workers</th>\n",
       "      <th>J93-Diagnoses_main_ICD10_J93_Pneumothorax</th>\n",
       "      <th>22601_41133206-Job_coding_local_government_administrative_officer_or_assistant_or_clerk</th>\n",
       "      <th>6145_3-Illness_injury_bereavement_stress_in_last_2_years_Death_of_a_close_relative</th>\n",
       "      <th>20002_1597-Noncancer_illness_code_selfreported_tinnitus_tiniitis</th>\n",
       "      <th>...</th>\n",
       "      <th>PGC_ADHD_EUR_2017</th>\n",
       "      <th>BCAC_ER_negative_BreastCancer_EUR</th>\n",
       "      <th>SSGAC_Education_Years_Pooled</th>\n",
       "      <th>pgc.scz2</th>\n",
       "      <th>MAGNETIC_HDL.C</th>\n",
       "      <th>MAGIC_ln_FastingInsulin</th>\n",
       "      <th>Astle_et_al_2016_Sum_eosinophil_basophil_counts</th>\n",
       "      <th>SSGAC_Depressive_Symptoms</th>\n",
       "      <th>Jones_et_al_2016_SleepDuration</th>\n",
       "      <th>Astle_et_al_2016_Red_blood_cell_count</th>\n",
       "    </tr>\n",
       "    <tr>\n",
       "      <th>gene_name</th>\n",
       "      <th></th>\n",
       "      <th></th>\n",
       "      <th></th>\n",
       "      <th></th>\n",
       "      <th></th>\n",
       "      <th></th>\n",
       "      <th></th>\n",
       "      <th></th>\n",
       "      <th></th>\n",
       "      <th></th>\n",
       "      <th></th>\n",
       "      <th></th>\n",
       "      <th></th>\n",
       "      <th></th>\n",
       "      <th></th>\n",
       "      <th></th>\n",
       "      <th></th>\n",
       "      <th></th>\n",
       "      <th></th>\n",
       "      <th></th>\n",
       "      <th></th>\n",
       "    </tr>\n",
       "  </thead>\n",
       "  <tbody>\n",
       "    <tr>\n",
       "      <th>ENSG00000000419</th>\n",
       "      <td>0.000005</td>\n",
       "      <td>1.736894e-09</td>\n",
       "      <td>6.786450e-11</td>\n",
       "      <td>2.790300e-11</td>\n",
       "      <td>0.000014</td>\n",
       "      <td>0.001053</td>\n",
       "      <td>1.904000e-07</td>\n",
       "      <td>9.100802e-12</td>\n",
       "      <td>1.415366e-11</td>\n",
       "      <td>1.645700e-09</td>\n",
       "      <td>...</td>\n",
       "      <td>0.0</td>\n",
       "      <td>NaN</td>\n",
       "      <td>0.001</td>\n",
       "      <td>0.000</td>\n",
       "      <td>NaN</td>\n",
       "      <td>NaN</td>\n",
       "      <td>0.001</td>\n",
       "      <td>NaN</td>\n",
       "      <td>NaN</td>\n",
       "      <td>0.001</td>\n",
       "    </tr>\n",
       "    <tr>\n",
       "      <th>ENSG00000000457</th>\n",
       "      <td>0.000345</td>\n",
       "      <td>3.936200e-10</td>\n",
       "      <td>3.342258e-09</td>\n",
       "      <td>1.555570e-09</td>\n",
       "      <td>0.000474</td>\n",
       "      <td>0.001378</td>\n",
       "      <td>3.213490e-06</td>\n",
       "      <td>1.222410e-11</td>\n",
       "      <td>1.359057e-09</td>\n",
       "      <td>1.867451e-08</td>\n",
       "      <td>...</td>\n",
       "      <td>NaN</td>\n",
       "      <td>NaN</td>\n",
       "      <td>0.000</td>\n",
       "      <td>NaN</td>\n",
       "      <td>NaN</td>\n",
       "      <td>NaN</td>\n",
       "      <td>0.000</td>\n",
       "      <td>NaN</td>\n",
       "      <td>NaN</td>\n",
       "      <td>0.000</td>\n",
       "    </tr>\n",
       "    <tr>\n",
       "      <th>ENSG00000000460</th>\n",
       "      <td>0.000175</td>\n",
       "      <td>8.839000e-10</td>\n",
       "      <td>3.874230e-09</td>\n",
       "      <td>2.791602e-10</td>\n",
       "      <td>0.000217</td>\n",
       "      <td>0.001331</td>\n",
       "      <td>2.925180e-06</td>\n",
       "      <td>1.583958e-11</td>\n",
       "      <td>8.281930e-10</td>\n",
       "      <td>1.842800e-08</td>\n",
       "      <td>...</td>\n",
       "      <td>NaN</td>\n",
       "      <td>NaN</td>\n",
       "      <td>0.000</td>\n",
       "      <td>NaN</td>\n",
       "      <td>NaN</td>\n",
       "      <td>NaN</td>\n",
       "      <td>0.000</td>\n",
       "      <td>NaN</td>\n",
       "      <td>NaN</td>\n",
       "      <td>0.000</td>\n",
       "    </tr>\n",
       "    <tr>\n",
       "      <th>ENSG00000000938</th>\n",
       "      <td>0.000003</td>\n",
       "      <td>5.624000e-10</td>\n",
       "      <td>4.038900e-10</td>\n",
       "      <td>4.402530e-11</td>\n",
       "      <td>0.000137</td>\n",
       "      <td>0.001900</td>\n",
       "      <td>1.751500e-07</td>\n",
       "      <td>1.670670e-11</td>\n",
       "      <td>1.590060e-11</td>\n",
       "      <td>9.416050e-08</td>\n",
       "      <td>...</td>\n",
       "      <td>NaN</td>\n",
       "      <td>NaN</td>\n",
       "      <td>NaN</td>\n",
       "      <td>0.002</td>\n",
       "      <td>NaN</td>\n",
       "      <td>NaN</td>\n",
       "      <td>0.001</td>\n",
       "      <td>NaN</td>\n",
       "      <td>NaN</td>\n",
       "      <td>NaN</td>\n",
       "    </tr>\n",
       "    <tr>\n",
       "      <th>ENSG00000000971</th>\n",
       "      <td>0.000221</td>\n",
       "      <td>9.193074e-11</td>\n",
       "      <td>1.621935e-10</td>\n",
       "      <td>8.354587e-11</td>\n",
       "      <td>0.000213</td>\n",
       "      <td>0.001095</td>\n",
       "      <td>1.944580e-06</td>\n",
       "      <td>4.965100e-12</td>\n",
       "      <td>2.800000e-11</td>\n",
       "      <td>1.178860e-08</td>\n",
       "      <td>...</td>\n",
       "      <td>NaN</td>\n",
       "      <td>NaN</td>\n",
       "      <td>NaN</td>\n",
       "      <td>NaN</td>\n",
       "      <td>NaN</td>\n",
       "      <td>NaN</td>\n",
       "      <td>0.000</td>\n",
       "      <td>NaN</td>\n",
       "      <td>NaN</td>\n",
       "      <td>0.000</td>\n",
       "    </tr>\n",
       "  </tbody>\n",
       "</table>\n",
       "<p>5 rows × 4091 columns</p>\n",
       "</div>"
      ],
      "text/plain": [
       "                 4270-Volume_level_set_by_participant_left  \\\n",
       "gene_name                                                    \n",
       "ENSG00000000419                                   0.000005   \n",
       "ENSG00000000457                                   0.000345   \n",
       "ENSG00000000460                                   0.000175   \n",
       "ENSG00000000938                                   0.000003   \n",
       "ENSG00000000971                                   0.000221   \n",
       "\n",
       "                 S05-Diagnoses_main_ICD10_S05_Injury_of_eye_and_orbit  \\\n",
       "gene_name                                                               \n",
       "ENSG00000000419                                       1.736894e-09      \n",
       "ENSG00000000457                                       3.936200e-10      \n",
       "ENSG00000000460                                       8.839000e-10      \n",
       "ENSG00000000938                                       5.624000e-10      \n",
       "ENSG00000000971                                       9.193074e-11      \n",
       "\n",
       "                 20003_1141157402-Treatmentmedication_code_prednisolone_product  \\\n",
       "gene_name                                                                         \n",
       "ENSG00000000419                                       6.786450e-11                \n",
       "ENSG00000000457                                       3.342258e-09                \n",
       "ENSG00000000460                                       3.874230e-09                \n",
       "ENSG00000000938                                       4.038900e-10                \n",
       "ENSG00000000971                                       1.621935e-10                \n",
       "\n",
       "                 20002_1427-Noncancer_illness_code_selfreported_polycystic_kidney  \\\n",
       "gene_name                                                                           \n",
       "ENSG00000000419                                       2.790300e-11                  \n",
       "ENSG00000000457                                       1.555570e-09                  \n",
       "ENSG00000000460                                       2.791602e-10                  \n",
       "ENSG00000000938                                       4.402530e-11                  \n",
       "ENSG00000000971                                       8.354587e-11                  \n",
       "\n",
       "                 110001-Invitation_to_complete_online_24hour_recall_dietary_questionnaire_acceptance  \\\n",
       "gene_name                                                                                              \n",
       "ENSG00000000419                                           0.000014                                     \n",
       "ENSG00000000457                                           0.000474                                     \n",
       "ENSG00000000460                                           0.000217                                     \n",
       "ENSG00000000938                                           0.000137                                     \n",
       "ENSG00000000971                                           0.000213                                     \n",
       "\n",
       "                 22617_2442-Job_SOC_coding_Social_workers  \\\n",
       "gene_name                                                   \n",
       "ENSG00000000419                                  0.001053   \n",
       "ENSG00000000457                                  0.001378   \n",
       "ENSG00000000460                                  0.001331   \n",
       "ENSG00000000938                                  0.001900   \n",
       "ENSG00000000971                                  0.001095   \n",
       "\n",
       "                 J93-Diagnoses_main_ICD10_J93_Pneumothorax  \\\n",
       "gene_name                                                    \n",
       "ENSG00000000419                               1.904000e-07   \n",
       "ENSG00000000457                               3.213490e-06   \n",
       "ENSG00000000460                               2.925180e-06   \n",
       "ENSG00000000938                               1.751500e-07   \n",
       "ENSG00000000971                               1.944580e-06   \n",
       "\n",
       "                 22601_41133206-Job_coding_local_government_administrative_officer_or_assistant_or_clerk  \\\n",
       "gene_name                                                                                                  \n",
       "ENSG00000000419                                       9.100802e-12                                         \n",
       "ENSG00000000457                                       1.222410e-11                                         \n",
       "ENSG00000000460                                       1.583958e-11                                         \n",
       "ENSG00000000938                                       1.670670e-11                                         \n",
       "ENSG00000000971                                       4.965100e-12                                         \n",
       "\n",
       "                 6145_3-Illness_injury_bereavement_stress_in_last_2_years_Death_of_a_close_relative  \\\n",
       "gene_name                                                                                             \n",
       "ENSG00000000419                                       1.415366e-11                                    \n",
       "ENSG00000000457                                       1.359057e-09                                    \n",
       "ENSG00000000460                                       8.281930e-10                                    \n",
       "ENSG00000000938                                       1.590060e-11                                    \n",
       "ENSG00000000971                                       2.800000e-11                                    \n",
       "\n",
       "                 20002_1597-Noncancer_illness_code_selfreported_tinnitus_tiniitis  \\\n",
       "gene_name                                                                           \n",
       "ENSG00000000419                                       1.645700e-09                  \n",
       "ENSG00000000457                                       1.867451e-08                  \n",
       "ENSG00000000460                                       1.842800e-08                  \n",
       "ENSG00000000938                                       9.416050e-08                  \n",
       "ENSG00000000971                                       1.178860e-08                  \n",
       "\n",
       "                 ...  PGC_ADHD_EUR_2017  BCAC_ER_negative_BreastCancer_EUR  \\\n",
       "gene_name        ...                                                         \n",
       "ENSG00000000419  ...                0.0                                NaN   \n",
       "ENSG00000000457  ...                NaN                                NaN   \n",
       "ENSG00000000460  ...                NaN                                NaN   \n",
       "ENSG00000000938  ...                NaN                                NaN   \n",
       "ENSG00000000971  ...                NaN                                NaN   \n",
       "\n",
       "                 SSGAC_Education_Years_Pooled  pgc.scz2  MAGNETIC_HDL.C  \\\n",
       "gene_name                                                                 \n",
       "ENSG00000000419                         0.001     0.000             NaN   \n",
       "ENSG00000000457                         0.000       NaN             NaN   \n",
       "ENSG00000000460                         0.000       NaN             NaN   \n",
       "ENSG00000000938                           NaN     0.002             NaN   \n",
       "ENSG00000000971                           NaN       NaN             NaN   \n",
       "\n",
       "                 MAGIC_ln_FastingInsulin  \\\n",
       "gene_name                                  \n",
       "ENSG00000000419                      NaN   \n",
       "ENSG00000000457                      NaN   \n",
       "ENSG00000000460                      NaN   \n",
       "ENSG00000000938                      NaN   \n",
       "ENSG00000000971                      NaN   \n",
       "\n",
       "                 Astle_et_al_2016_Sum_eosinophil_basophil_counts  \\\n",
       "gene_name                                                          \n",
       "ENSG00000000419                                            0.001   \n",
       "ENSG00000000457                                            0.000   \n",
       "ENSG00000000460                                            0.000   \n",
       "ENSG00000000938                                            0.001   \n",
       "ENSG00000000971                                            0.000   \n",
       "\n",
       "                 SSGAC_Depressive_Symptoms  Jones_et_al_2016_SleepDuration  \\\n",
       "gene_name                                                                    \n",
       "ENSG00000000419                        NaN                             NaN   \n",
       "ENSG00000000457                        NaN                             NaN   \n",
       "ENSG00000000460                        NaN                             NaN   \n",
       "ENSG00000000938                        NaN                             NaN   \n",
       "ENSG00000000971                        NaN                             NaN   \n",
       "\n",
       "                 Astle_et_al_2016_Red_blood_cell_count  \n",
       "gene_name                                               \n",
       "ENSG00000000419                                  0.001  \n",
       "ENSG00000000457                                  0.000  \n",
       "ENSG00000000460                                  0.000  \n",
       "ENSG00000000938                                    NaN  \n",
       "ENSG00000000971                                  0.000  \n",
       "\n",
       "[5 rows x 4091 columns]"
      ]
     },
     "metadata": {},
     "output_type": "display_data"
    }
   ],
   "source": [
    "fastenloc_matrix_sorted = fastenloc_gene_associations.loc[common_genes, smultixcan_gene_associations.columns]\n",
    "display(fastenloc_matrix_sorted.shape)\n",
    "display(fastenloc_matrix_sorted.head())"
   ]
  },
  {
   "cell_type": "code",
   "execution_count": 22,
   "metadata": {},
   "outputs": [
    {
     "data": {
      "text/plain": [
       "(22427, 4091)"
      ]
     },
     "metadata": {},
     "output_type": "display_data"
    },
    {
     "data": {
      "text/html": [
       "<div>\n",
       "<style scoped>\n",
       "    .dataframe tbody tr th:only-of-type {\n",
       "        vertical-align: middle;\n",
       "    }\n",
       "\n",
       "    .dataframe tbody tr th {\n",
       "        vertical-align: top;\n",
       "    }\n",
       "\n",
       "    .dataframe thead th {\n",
       "        text-align: right;\n",
       "    }\n",
       "</style>\n",
       "<table border=\"1\" class=\"dataframe\">\n",
       "  <thead>\n",
       "    <tr style=\"text-align: right;\">\n",
       "      <th></th>\n",
       "      <th>4270-Volume_level_set_by_participant_left</th>\n",
       "      <th>S05-Diagnoses_main_ICD10_S05_Injury_of_eye_and_orbit</th>\n",
       "      <th>20003_1141157402-Treatmentmedication_code_prednisolone_product</th>\n",
       "      <th>20002_1427-Noncancer_illness_code_selfreported_polycystic_kidney</th>\n",
       "      <th>110001-Invitation_to_complete_online_24hour_recall_dietary_questionnaire_acceptance</th>\n",
       "      <th>22617_2442-Job_SOC_coding_Social_workers</th>\n",
       "      <th>J93-Diagnoses_main_ICD10_J93_Pneumothorax</th>\n",
       "      <th>22601_41133206-Job_coding_local_government_administrative_officer_or_assistant_or_clerk</th>\n",
       "      <th>6145_3-Illness_injury_bereavement_stress_in_last_2_years_Death_of_a_close_relative</th>\n",
       "      <th>20002_1597-Noncancer_illness_code_selfreported_tinnitus_tiniitis</th>\n",
       "      <th>...</th>\n",
       "      <th>PGC_ADHD_EUR_2017</th>\n",
       "      <th>BCAC_ER_negative_BreastCancer_EUR</th>\n",
       "      <th>SSGAC_Education_Years_Pooled</th>\n",
       "      <th>pgc.scz2</th>\n",
       "      <th>MAGNETIC_HDL.C</th>\n",
       "      <th>MAGIC_ln_FastingInsulin</th>\n",
       "      <th>Astle_et_al_2016_Sum_eosinophil_basophil_counts</th>\n",
       "      <th>SSGAC_Depressive_Symptoms</th>\n",
       "      <th>Jones_et_al_2016_SleepDuration</th>\n",
       "      <th>Astle_et_al_2016_Red_blood_cell_count</th>\n",
       "    </tr>\n",
       "    <tr>\n",
       "      <th>gene_name</th>\n",
       "      <th></th>\n",
       "      <th></th>\n",
       "      <th></th>\n",
       "      <th></th>\n",
       "      <th></th>\n",
       "      <th></th>\n",
       "      <th></th>\n",
       "      <th></th>\n",
       "      <th></th>\n",
       "      <th></th>\n",
       "      <th></th>\n",
       "      <th></th>\n",
       "      <th></th>\n",
       "      <th></th>\n",
       "      <th></th>\n",
       "      <th></th>\n",
       "      <th></th>\n",
       "      <th></th>\n",
       "      <th></th>\n",
       "      <th></th>\n",
       "      <th></th>\n",
       "    </tr>\n",
       "  </thead>\n",
       "  <tbody>\n",
       "    <tr>\n",
       "      <th>ENSG00000000419</th>\n",
       "      <td>0.952828</td>\n",
       "      <td>0.827955</td>\n",
       "      <td>0.976745</td>\n",
       "      <td>0.916643</td>\n",
       "      <td>0.580172</td>\n",
       "      <td>0.270858</td>\n",
       "      <td>0.779171</td>\n",
       "      <td>0.597882</td>\n",
       "      <td>0.531657</td>\n",
       "      <td>0.534696</td>\n",
       "      <td>...</td>\n",
       "      <td>0.980281</td>\n",
       "      <td>0.413973</td>\n",
       "      <td>0.747822</td>\n",
       "      <td>0.609467</td>\n",
       "      <td>0.019467</td>\n",
       "      <td>0.371748</td>\n",
       "      <td>0.823010</td>\n",
       "      <td>0.713310</td>\n",
       "      <td>0.858389</td>\n",
       "      <td>0.409761</td>\n",
       "    </tr>\n",
       "    <tr>\n",
       "      <th>ENSG00000000457</th>\n",
       "      <td>0.646365</td>\n",
       "      <td>0.299606</td>\n",
       "      <td>0.477472</td>\n",
       "      <td>0.003570</td>\n",
       "      <td>0.905365</td>\n",
       "      <td>0.845711</td>\n",
       "      <td>0.137430</td>\n",
       "      <td>0.868056</td>\n",
       "      <td>0.028947</td>\n",
       "      <td>0.392273</td>\n",
       "      <td>...</td>\n",
       "      <td>0.228982</td>\n",
       "      <td>0.636830</td>\n",
       "      <td>0.654535</td>\n",
       "      <td>0.010907</td>\n",
       "      <td>0.726300</td>\n",
       "      <td>0.210658</td>\n",
       "      <td>0.008023</td>\n",
       "      <td>0.678749</td>\n",
       "      <td>0.836679</td>\n",
       "      <td>0.812484</td>\n",
       "    </tr>\n",
       "    <tr>\n",
       "      <th>ENSG00000000460</th>\n",
       "      <td>0.896074</td>\n",
       "      <td>0.094218</td>\n",
       "      <td>0.507646</td>\n",
       "      <td>0.166442</td>\n",
       "      <td>0.974545</td>\n",
       "      <td>0.628910</td>\n",
       "      <td>0.425188</td>\n",
       "      <td>0.551723</td>\n",
       "      <td>0.059456</td>\n",
       "      <td>0.295833</td>\n",
       "      <td>...</td>\n",
       "      <td>0.301460</td>\n",
       "      <td>0.140522</td>\n",
       "      <td>0.646442</td>\n",
       "      <td>0.587969</td>\n",
       "      <td>0.498724</td>\n",
       "      <td>0.521805</td>\n",
       "      <td>0.004462</td>\n",
       "      <td>0.736509</td>\n",
       "      <td>0.432229</td>\n",
       "      <td>0.486664</td>\n",
       "    </tr>\n",
       "    <tr>\n",
       "      <th>ENSG00000000938</th>\n",
       "      <td>0.576924</td>\n",
       "      <td>0.107121</td>\n",
       "      <td>0.439276</td>\n",
       "      <td>0.567582</td>\n",
       "      <td>0.768334</td>\n",
       "      <td>0.203873</td>\n",
       "      <td>0.231449</td>\n",
       "      <td>0.106706</td>\n",
       "      <td>0.595655</td>\n",
       "      <td>0.953718</td>\n",
       "      <td>...</td>\n",
       "      <td>0.588855</td>\n",
       "      <td>0.226977</td>\n",
       "      <td>0.576593</td>\n",
       "      <td>0.059247</td>\n",
       "      <td>0.435438</td>\n",
       "      <td>0.953160</td>\n",
       "      <td>0.101875</td>\n",
       "      <td>0.954998</td>\n",
       "      <td>0.097831</td>\n",
       "      <td>0.135045</td>\n",
       "    </tr>\n",
       "    <tr>\n",
       "      <th>ENSG00000000971</th>\n",
       "      <td>0.956390</td>\n",
       "      <td>0.492012</td>\n",
       "      <td>0.510924</td>\n",
       "      <td>0.532389</td>\n",
       "      <td>0.555313</td>\n",
       "      <td>0.993563</td>\n",
       "      <td>0.807439</td>\n",
       "      <td>0.948366</td>\n",
       "      <td>0.774694</td>\n",
       "      <td>0.490962</td>\n",
       "      <td>...</td>\n",
       "      <td>0.109883</td>\n",
       "      <td>0.040871</td>\n",
       "      <td>0.005662</td>\n",
       "      <td>0.020391</td>\n",
       "      <td>0.439466</td>\n",
       "      <td>0.690242</td>\n",
       "      <td>0.055059</td>\n",
       "      <td>0.002660</td>\n",
       "      <td>0.331132</td>\n",
       "      <td>0.995450</td>\n",
       "    </tr>\n",
       "  </tbody>\n",
       "</table>\n",
       "<p>5 rows × 4091 columns</p>\n",
       "</div>"
      ],
      "text/plain": [
       "                 4270-Volume_level_set_by_participant_left  \\\n",
       "gene_name                                                    \n",
       "ENSG00000000419                                   0.952828   \n",
       "ENSG00000000457                                   0.646365   \n",
       "ENSG00000000460                                   0.896074   \n",
       "ENSG00000000938                                   0.576924   \n",
       "ENSG00000000971                                   0.956390   \n",
       "\n",
       "                 S05-Diagnoses_main_ICD10_S05_Injury_of_eye_and_orbit  \\\n",
       "gene_name                                                               \n",
       "ENSG00000000419                                           0.827955      \n",
       "ENSG00000000457                                           0.299606      \n",
       "ENSG00000000460                                           0.094218      \n",
       "ENSG00000000938                                           0.107121      \n",
       "ENSG00000000971                                           0.492012      \n",
       "\n",
       "                 20003_1141157402-Treatmentmedication_code_prednisolone_product  \\\n",
       "gene_name                                                                         \n",
       "ENSG00000000419                                           0.976745                \n",
       "ENSG00000000457                                           0.477472                \n",
       "ENSG00000000460                                           0.507646                \n",
       "ENSG00000000938                                           0.439276                \n",
       "ENSG00000000971                                           0.510924                \n",
       "\n",
       "                 20002_1427-Noncancer_illness_code_selfreported_polycystic_kidney  \\\n",
       "gene_name                                                                           \n",
       "ENSG00000000419                                           0.916643                  \n",
       "ENSG00000000457                                           0.003570                  \n",
       "ENSG00000000460                                           0.166442                  \n",
       "ENSG00000000938                                           0.567582                  \n",
       "ENSG00000000971                                           0.532389                  \n",
       "\n",
       "                 110001-Invitation_to_complete_online_24hour_recall_dietary_questionnaire_acceptance  \\\n",
       "gene_name                                                                                              \n",
       "ENSG00000000419                                           0.580172                                     \n",
       "ENSG00000000457                                           0.905365                                     \n",
       "ENSG00000000460                                           0.974545                                     \n",
       "ENSG00000000938                                           0.768334                                     \n",
       "ENSG00000000971                                           0.555313                                     \n",
       "\n",
       "                 22617_2442-Job_SOC_coding_Social_workers  \\\n",
       "gene_name                                                   \n",
       "ENSG00000000419                                  0.270858   \n",
       "ENSG00000000457                                  0.845711   \n",
       "ENSG00000000460                                  0.628910   \n",
       "ENSG00000000938                                  0.203873   \n",
       "ENSG00000000971                                  0.993563   \n",
       "\n",
       "                 J93-Diagnoses_main_ICD10_J93_Pneumothorax  \\\n",
       "gene_name                                                    \n",
       "ENSG00000000419                                   0.779171   \n",
       "ENSG00000000457                                   0.137430   \n",
       "ENSG00000000460                                   0.425188   \n",
       "ENSG00000000938                                   0.231449   \n",
       "ENSG00000000971                                   0.807439   \n",
       "\n",
       "                 22601_41133206-Job_coding_local_government_administrative_officer_or_assistant_or_clerk  \\\n",
       "gene_name                                                                                                  \n",
       "ENSG00000000419                                           0.597882                                         \n",
       "ENSG00000000457                                           0.868056                                         \n",
       "ENSG00000000460                                           0.551723                                         \n",
       "ENSG00000000938                                           0.106706                                         \n",
       "ENSG00000000971                                           0.948366                                         \n",
       "\n",
       "                 6145_3-Illness_injury_bereavement_stress_in_last_2_years_Death_of_a_close_relative  \\\n",
       "gene_name                                                                                             \n",
       "ENSG00000000419                                           0.531657                                    \n",
       "ENSG00000000457                                           0.028947                                    \n",
       "ENSG00000000460                                           0.059456                                    \n",
       "ENSG00000000938                                           0.595655                                    \n",
       "ENSG00000000971                                           0.774694                                    \n",
       "\n",
       "                 20002_1597-Noncancer_illness_code_selfreported_tinnitus_tiniitis  \\\n",
       "gene_name                                                                           \n",
       "ENSG00000000419                                           0.534696                  \n",
       "ENSG00000000457                                           0.392273                  \n",
       "ENSG00000000460                                           0.295833                  \n",
       "ENSG00000000938                                           0.953718                  \n",
       "ENSG00000000971                                           0.490962                  \n",
       "\n",
       "                 ...  PGC_ADHD_EUR_2017  BCAC_ER_negative_BreastCancer_EUR  \\\n",
       "gene_name        ...                                                         \n",
       "ENSG00000000419  ...           0.980281                           0.413973   \n",
       "ENSG00000000457  ...           0.228982                           0.636830   \n",
       "ENSG00000000460  ...           0.301460                           0.140522   \n",
       "ENSG00000000938  ...           0.588855                           0.226977   \n",
       "ENSG00000000971  ...           0.109883                           0.040871   \n",
       "\n",
       "                 SSGAC_Education_Years_Pooled  pgc.scz2  MAGNETIC_HDL.C  \\\n",
       "gene_name                                                                 \n",
       "ENSG00000000419                      0.747822  0.609467        0.019467   \n",
       "ENSG00000000457                      0.654535  0.010907        0.726300   \n",
       "ENSG00000000460                      0.646442  0.587969        0.498724   \n",
       "ENSG00000000938                      0.576593  0.059247        0.435438   \n",
       "ENSG00000000971                      0.005662  0.020391        0.439466   \n",
       "\n",
       "                 MAGIC_ln_FastingInsulin  \\\n",
       "gene_name                                  \n",
       "ENSG00000000419                 0.371748   \n",
       "ENSG00000000457                 0.210658   \n",
       "ENSG00000000460                 0.521805   \n",
       "ENSG00000000938                 0.953160   \n",
       "ENSG00000000971                 0.690242   \n",
       "\n",
       "                 Astle_et_al_2016_Sum_eosinophil_basophil_counts  \\\n",
       "gene_name                                                          \n",
       "ENSG00000000419                                         0.823010   \n",
       "ENSG00000000457                                         0.008023   \n",
       "ENSG00000000460                                         0.004462   \n",
       "ENSG00000000938                                         0.101875   \n",
       "ENSG00000000971                                         0.055059   \n",
       "\n",
       "                 SSGAC_Depressive_Symptoms  Jones_et_al_2016_SleepDuration  \\\n",
       "gene_name                                                                    \n",
       "ENSG00000000419                   0.713310                        0.858389   \n",
       "ENSG00000000457                   0.678749                        0.836679   \n",
       "ENSG00000000460                   0.736509                        0.432229   \n",
       "ENSG00000000938                   0.954998                        0.097831   \n",
       "ENSG00000000971                   0.002660                        0.331132   \n",
       "\n",
       "                 Astle_et_al_2016_Red_blood_cell_count  \n",
       "gene_name                                               \n",
       "ENSG00000000419                               0.409761  \n",
       "ENSG00000000457                               0.812484  \n",
       "ENSG00000000460                               0.486664  \n",
       "ENSG00000000938                               0.135045  \n",
       "ENSG00000000971                               0.995450  \n",
       "\n",
       "[5 rows x 4091 columns]"
      ]
     },
     "metadata": {},
     "output_type": "display_data"
    }
   ],
   "source": [
    "multixcan_matrix_sorted = smultixcan_gene_associations.loc[common_genes]\n",
    "display(multixcan_matrix_sorted.shape)\n",
    "display(multixcan_matrix_sorted.head())"
   ]
  },
  {
   "cell_type": "code",
   "execution_count": 23,
   "metadata": {},
   "outputs": [],
   "source": [
    "assert fastenloc_matrix_sorted.shape == multixcan_matrix_sorted.shape"
   ]
  },
  {
   "cell_type": "markdown",
   "metadata": {},
   "source": [
    "### Using stringent pvalue threshold"
   ]
  },
  {
   "cell_type": "code",
   "execution_count": 24,
   "metadata": {},
   "outputs": [
    {
     "data": {
      "text/plain": [
       "5.49e-10"
      ]
     },
     "metadata": {},
     "output_type": "display_data"
    }
   ],
   "source": [
    "display(PVALUE_THRESHOLD)"
   ]
  },
  {
   "cell_type": "code",
   "execution_count": 25,
   "metadata": {},
   "outputs": [
    {
     "data": {
      "text/plain": [
       "(22427, 4091)"
      ]
     },
     "metadata": {},
     "output_type": "display_data"
    },
    {
     "data": {
      "text/html": [
       "<div>\n",
       "<style scoped>\n",
       "    .dataframe tbody tr th:only-of-type {\n",
       "        vertical-align: middle;\n",
       "    }\n",
       "\n",
       "    .dataframe tbody tr th {\n",
       "        vertical-align: top;\n",
       "    }\n",
       "\n",
       "    .dataframe thead th {\n",
       "        text-align: right;\n",
       "    }\n",
       "</style>\n",
       "<table border=\"1\" class=\"dataframe\">\n",
       "  <thead>\n",
       "    <tr style=\"text-align: right;\">\n",
       "      <th></th>\n",
       "      <th>4270-Volume_level_set_by_participant_left</th>\n",
       "      <th>S05-Diagnoses_main_ICD10_S05_Injury_of_eye_and_orbit</th>\n",
       "      <th>20003_1141157402-Treatmentmedication_code_prednisolone_product</th>\n",
       "      <th>20002_1427-Noncancer_illness_code_selfreported_polycystic_kidney</th>\n",
       "      <th>110001-Invitation_to_complete_online_24hour_recall_dietary_questionnaire_acceptance</th>\n",
       "      <th>22617_2442-Job_SOC_coding_Social_workers</th>\n",
       "      <th>J93-Diagnoses_main_ICD10_J93_Pneumothorax</th>\n",
       "      <th>22601_41133206-Job_coding_local_government_administrative_officer_or_assistant_or_clerk</th>\n",
       "      <th>6145_3-Illness_injury_bereavement_stress_in_last_2_years_Death_of_a_close_relative</th>\n",
       "      <th>20002_1597-Noncancer_illness_code_selfreported_tinnitus_tiniitis</th>\n",
       "      <th>...</th>\n",
       "      <th>PGC_ADHD_EUR_2017</th>\n",
       "      <th>BCAC_ER_negative_BreastCancer_EUR</th>\n",
       "      <th>SSGAC_Education_Years_Pooled</th>\n",
       "      <th>pgc.scz2</th>\n",
       "      <th>MAGNETIC_HDL.C</th>\n",
       "      <th>MAGIC_ln_FastingInsulin</th>\n",
       "      <th>Astle_et_al_2016_Sum_eosinophil_basophil_counts</th>\n",
       "      <th>SSGAC_Depressive_Symptoms</th>\n",
       "      <th>Jones_et_al_2016_SleepDuration</th>\n",
       "      <th>Astle_et_al_2016_Red_blood_cell_count</th>\n",
       "    </tr>\n",
       "    <tr>\n",
       "      <th>gene_name</th>\n",
       "      <th></th>\n",
       "      <th></th>\n",
       "      <th></th>\n",
       "      <th></th>\n",
       "      <th></th>\n",
       "      <th></th>\n",
       "      <th></th>\n",
       "      <th></th>\n",
       "      <th></th>\n",
       "      <th></th>\n",
       "      <th></th>\n",
       "      <th></th>\n",
       "      <th></th>\n",
       "      <th></th>\n",
       "      <th></th>\n",
       "      <th></th>\n",
       "      <th></th>\n",
       "      <th></th>\n",
       "      <th></th>\n",
       "      <th></th>\n",
       "      <th></th>\n",
       "    </tr>\n",
       "  </thead>\n",
       "  <tbody>\n",
       "    <tr>\n",
       "      <th>ENSG00000000419</th>\n",
       "      <td>False</td>\n",
       "      <td>False</td>\n",
       "      <td>False</td>\n",
       "      <td>False</td>\n",
       "      <td>False</td>\n",
       "      <td>False</td>\n",
       "      <td>False</td>\n",
       "      <td>False</td>\n",
       "      <td>False</td>\n",
       "      <td>False</td>\n",
       "      <td>...</td>\n",
       "      <td>False</td>\n",
       "      <td>False</td>\n",
       "      <td>False</td>\n",
       "      <td>False</td>\n",
       "      <td>False</td>\n",
       "      <td>False</td>\n",
       "      <td>False</td>\n",
       "      <td>False</td>\n",
       "      <td>False</td>\n",
       "      <td>False</td>\n",
       "    </tr>\n",
       "    <tr>\n",
       "      <th>ENSG00000000457</th>\n",
       "      <td>False</td>\n",
       "      <td>False</td>\n",
       "      <td>False</td>\n",
       "      <td>False</td>\n",
       "      <td>False</td>\n",
       "      <td>False</td>\n",
       "      <td>False</td>\n",
       "      <td>False</td>\n",
       "      <td>False</td>\n",
       "      <td>False</td>\n",
       "      <td>...</td>\n",
       "      <td>False</td>\n",
       "      <td>False</td>\n",
       "      <td>False</td>\n",
       "      <td>False</td>\n",
       "      <td>False</td>\n",
       "      <td>False</td>\n",
       "      <td>False</td>\n",
       "      <td>False</td>\n",
       "      <td>False</td>\n",
       "      <td>False</td>\n",
       "    </tr>\n",
       "    <tr>\n",
       "      <th>ENSG00000000460</th>\n",
       "      <td>False</td>\n",
       "      <td>False</td>\n",
       "      <td>False</td>\n",
       "      <td>False</td>\n",
       "      <td>False</td>\n",
       "      <td>False</td>\n",
       "      <td>False</td>\n",
       "      <td>False</td>\n",
       "      <td>False</td>\n",
       "      <td>False</td>\n",
       "      <td>...</td>\n",
       "      <td>False</td>\n",
       "      <td>False</td>\n",
       "      <td>False</td>\n",
       "      <td>False</td>\n",
       "      <td>False</td>\n",
       "      <td>False</td>\n",
       "      <td>False</td>\n",
       "      <td>False</td>\n",
       "      <td>False</td>\n",
       "      <td>False</td>\n",
       "    </tr>\n",
       "    <tr>\n",
       "      <th>ENSG00000000938</th>\n",
       "      <td>False</td>\n",
       "      <td>False</td>\n",
       "      <td>False</td>\n",
       "      <td>False</td>\n",
       "      <td>False</td>\n",
       "      <td>False</td>\n",
       "      <td>False</td>\n",
       "      <td>False</td>\n",
       "      <td>False</td>\n",
       "      <td>False</td>\n",
       "      <td>...</td>\n",
       "      <td>False</td>\n",
       "      <td>False</td>\n",
       "      <td>False</td>\n",
       "      <td>False</td>\n",
       "      <td>False</td>\n",
       "      <td>False</td>\n",
       "      <td>False</td>\n",
       "      <td>False</td>\n",
       "      <td>False</td>\n",
       "      <td>False</td>\n",
       "    </tr>\n",
       "    <tr>\n",
       "      <th>ENSG00000000971</th>\n",
       "      <td>False</td>\n",
       "      <td>False</td>\n",
       "      <td>False</td>\n",
       "      <td>False</td>\n",
       "      <td>False</td>\n",
       "      <td>False</td>\n",
       "      <td>False</td>\n",
       "      <td>False</td>\n",
       "      <td>False</td>\n",
       "      <td>False</td>\n",
       "      <td>...</td>\n",
       "      <td>False</td>\n",
       "      <td>False</td>\n",
       "      <td>False</td>\n",
       "      <td>False</td>\n",
       "      <td>False</td>\n",
       "      <td>False</td>\n",
       "      <td>False</td>\n",
       "      <td>False</td>\n",
       "      <td>False</td>\n",
       "      <td>False</td>\n",
       "    </tr>\n",
       "  </tbody>\n",
       "</table>\n",
       "<p>5 rows × 4091 columns</p>\n",
       "</div>"
      ],
      "text/plain": [
       "                 4270-Volume_level_set_by_participant_left  \\\n",
       "gene_name                                                    \n",
       "ENSG00000000419                                      False   \n",
       "ENSG00000000457                                      False   \n",
       "ENSG00000000460                                      False   \n",
       "ENSG00000000938                                      False   \n",
       "ENSG00000000971                                      False   \n",
       "\n",
       "                 S05-Diagnoses_main_ICD10_S05_Injury_of_eye_and_orbit  \\\n",
       "gene_name                                                               \n",
       "ENSG00000000419                                              False      \n",
       "ENSG00000000457                                              False      \n",
       "ENSG00000000460                                              False      \n",
       "ENSG00000000938                                              False      \n",
       "ENSG00000000971                                              False      \n",
       "\n",
       "                 20003_1141157402-Treatmentmedication_code_prednisolone_product  \\\n",
       "gene_name                                                                         \n",
       "ENSG00000000419                                              False                \n",
       "ENSG00000000457                                              False                \n",
       "ENSG00000000460                                              False                \n",
       "ENSG00000000938                                              False                \n",
       "ENSG00000000971                                              False                \n",
       "\n",
       "                 20002_1427-Noncancer_illness_code_selfreported_polycystic_kidney  \\\n",
       "gene_name                                                                           \n",
       "ENSG00000000419                                              False                  \n",
       "ENSG00000000457                                              False                  \n",
       "ENSG00000000460                                              False                  \n",
       "ENSG00000000938                                              False                  \n",
       "ENSG00000000971                                              False                  \n",
       "\n",
       "                 110001-Invitation_to_complete_online_24hour_recall_dietary_questionnaire_acceptance  \\\n",
       "gene_name                                                                                              \n",
       "ENSG00000000419                                              False                                     \n",
       "ENSG00000000457                                              False                                     \n",
       "ENSG00000000460                                              False                                     \n",
       "ENSG00000000938                                              False                                     \n",
       "ENSG00000000971                                              False                                     \n",
       "\n",
       "                 22617_2442-Job_SOC_coding_Social_workers  \\\n",
       "gene_name                                                   \n",
       "ENSG00000000419                                     False   \n",
       "ENSG00000000457                                     False   \n",
       "ENSG00000000460                                     False   \n",
       "ENSG00000000938                                     False   \n",
       "ENSG00000000971                                     False   \n",
       "\n",
       "                 J93-Diagnoses_main_ICD10_J93_Pneumothorax  \\\n",
       "gene_name                                                    \n",
       "ENSG00000000419                                      False   \n",
       "ENSG00000000457                                      False   \n",
       "ENSG00000000460                                      False   \n",
       "ENSG00000000938                                      False   \n",
       "ENSG00000000971                                      False   \n",
       "\n",
       "                 22601_41133206-Job_coding_local_government_administrative_officer_or_assistant_or_clerk  \\\n",
       "gene_name                                                                                                  \n",
       "ENSG00000000419                                              False                                         \n",
       "ENSG00000000457                                              False                                         \n",
       "ENSG00000000460                                              False                                         \n",
       "ENSG00000000938                                              False                                         \n",
       "ENSG00000000971                                              False                                         \n",
       "\n",
       "                 6145_3-Illness_injury_bereavement_stress_in_last_2_years_Death_of_a_close_relative  \\\n",
       "gene_name                                                                                             \n",
       "ENSG00000000419                                              False                                    \n",
       "ENSG00000000457                                              False                                    \n",
       "ENSG00000000460                                              False                                    \n",
       "ENSG00000000938                                              False                                    \n",
       "ENSG00000000971                                              False                                    \n",
       "\n",
       "                 20002_1597-Noncancer_illness_code_selfreported_tinnitus_tiniitis  \\\n",
       "gene_name                                                                           \n",
       "ENSG00000000419                                              False                  \n",
       "ENSG00000000457                                              False                  \n",
       "ENSG00000000460                                              False                  \n",
       "ENSG00000000938                                              False                  \n",
       "ENSG00000000971                                              False                  \n",
       "\n",
       "                 ...  PGC_ADHD_EUR_2017  BCAC_ER_negative_BreastCancer_EUR  \\\n",
       "gene_name        ...                                                         \n",
       "ENSG00000000419  ...              False                              False   \n",
       "ENSG00000000457  ...              False                              False   \n",
       "ENSG00000000460  ...              False                              False   \n",
       "ENSG00000000938  ...              False                              False   \n",
       "ENSG00000000971  ...              False                              False   \n",
       "\n",
       "                 SSGAC_Education_Years_Pooled  pgc.scz2  MAGNETIC_HDL.C  \\\n",
       "gene_name                                                                 \n",
       "ENSG00000000419                         False     False           False   \n",
       "ENSG00000000457                         False     False           False   \n",
       "ENSG00000000460                         False     False           False   \n",
       "ENSG00000000938                         False     False           False   \n",
       "ENSG00000000971                         False     False           False   \n",
       "\n",
       "                 MAGIC_ln_FastingInsulin  \\\n",
       "gene_name                                  \n",
       "ENSG00000000419                    False   \n",
       "ENSG00000000457                    False   \n",
       "ENSG00000000460                    False   \n",
       "ENSG00000000938                    False   \n",
       "ENSG00000000971                    False   \n",
       "\n",
       "                 Astle_et_al_2016_Sum_eosinophil_basophil_counts  \\\n",
       "gene_name                                                          \n",
       "ENSG00000000419                                            False   \n",
       "ENSG00000000457                                            False   \n",
       "ENSG00000000460                                            False   \n",
       "ENSG00000000938                                            False   \n",
       "ENSG00000000971                                            False   \n",
       "\n",
       "                 SSGAC_Depressive_Symptoms  Jones_et_al_2016_SleepDuration  \\\n",
       "gene_name                                                                    \n",
       "ENSG00000000419                      False                           False   \n",
       "ENSG00000000457                      False                           False   \n",
       "ENSG00000000460                      False                           False   \n",
       "ENSG00000000938                      False                           False   \n",
       "ENSG00000000971                      False                           False   \n",
       "\n",
       "                 Astle_et_al_2016_Red_blood_cell_count  \n",
       "gene_name                                               \n",
       "ENSG00000000419                                  False  \n",
       "ENSG00000000457                                  False  \n",
       "ENSG00000000460                                  False  \n",
       "ENSG00000000938                                  False  \n",
       "ENSG00000000971                                  False  \n",
       "\n",
       "[5 rows x 4091 columns]"
      ]
     },
     "metadata": {},
     "output_type": "display_data"
    }
   ],
   "source": [
    "multixcan_signif = (multixcan_matrix_sorted < PVALUE_THRESHOLD)\n",
    "display(multixcan_signif.shape)\n",
    "display(multixcan_signif.head())"
   ]
  },
  {
   "cell_type": "code",
   "execution_count": 26,
   "metadata": {},
   "outputs": [
    {
     "data": {
      "text/plain": [
       "(22427, 4091)"
      ]
     },
     "metadata": {},
     "output_type": "display_data"
    },
    {
     "data": {
      "text/html": [
       "<div>\n",
       "<style scoped>\n",
       "    .dataframe tbody tr th:only-of-type {\n",
       "        vertical-align: middle;\n",
       "    }\n",
       "\n",
       "    .dataframe tbody tr th {\n",
       "        vertical-align: top;\n",
       "    }\n",
       "\n",
       "    .dataframe thead th {\n",
       "        text-align: right;\n",
       "    }\n",
       "</style>\n",
       "<table border=\"1\" class=\"dataframe\">\n",
       "  <thead>\n",
       "    <tr style=\"text-align: right;\">\n",
       "      <th></th>\n",
       "      <th>4270-Volume_level_set_by_participant_left</th>\n",
       "      <th>S05-Diagnoses_main_ICD10_S05_Injury_of_eye_and_orbit</th>\n",
       "      <th>20003_1141157402-Treatmentmedication_code_prednisolone_product</th>\n",
       "      <th>20002_1427-Noncancer_illness_code_selfreported_polycystic_kidney</th>\n",
       "      <th>110001-Invitation_to_complete_online_24hour_recall_dietary_questionnaire_acceptance</th>\n",
       "      <th>22617_2442-Job_SOC_coding_Social_workers</th>\n",
       "      <th>J93-Diagnoses_main_ICD10_J93_Pneumothorax</th>\n",
       "      <th>22601_41133206-Job_coding_local_government_administrative_officer_or_assistant_or_clerk</th>\n",
       "      <th>6145_3-Illness_injury_bereavement_stress_in_last_2_years_Death_of_a_close_relative</th>\n",
       "      <th>20002_1597-Noncancer_illness_code_selfreported_tinnitus_tiniitis</th>\n",
       "      <th>...</th>\n",
       "      <th>PGC_ADHD_EUR_2017</th>\n",
       "      <th>BCAC_ER_negative_BreastCancer_EUR</th>\n",
       "      <th>SSGAC_Education_Years_Pooled</th>\n",
       "      <th>pgc.scz2</th>\n",
       "      <th>MAGNETIC_HDL.C</th>\n",
       "      <th>MAGIC_ln_FastingInsulin</th>\n",
       "      <th>Astle_et_al_2016_Sum_eosinophil_basophil_counts</th>\n",
       "      <th>SSGAC_Depressive_Symptoms</th>\n",
       "      <th>Jones_et_al_2016_SleepDuration</th>\n",
       "      <th>Astle_et_al_2016_Red_blood_cell_count</th>\n",
       "    </tr>\n",
       "    <tr>\n",
       "      <th>gene_name</th>\n",
       "      <th></th>\n",
       "      <th></th>\n",
       "      <th></th>\n",
       "      <th></th>\n",
       "      <th></th>\n",
       "      <th></th>\n",
       "      <th></th>\n",
       "      <th></th>\n",
       "      <th></th>\n",
       "      <th></th>\n",
       "      <th></th>\n",
       "      <th></th>\n",
       "      <th></th>\n",
       "      <th></th>\n",
       "      <th></th>\n",
       "      <th></th>\n",
       "      <th></th>\n",
       "      <th></th>\n",
       "      <th></th>\n",
       "      <th></th>\n",
       "      <th></th>\n",
       "    </tr>\n",
       "  </thead>\n",
       "  <tbody>\n",
       "    <tr>\n",
       "      <th>ENSG00000000419</th>\n",
       "      <td>False</td>\n",
       "      <td>False</td>\n",
       "      <td>False</td>\n",
       "      <td>False</td>\n",
       "      <td>False</td>\n",
       "      <td>False</td>\n",
       "      <td>False</td>\n",
       "      <td>False</td>\n",
       "      <td>False</td>\n",
       "      <td>False</td>\n",
       "      <td>...</td>\n",
       "      <td>False</td>\n",
       "      <td>False</td>\n",
       "      <td>False</td>\n",
       "      <td>False</td>\n",
       "      <td>False</td>\n",
       "      <td>False</td>\n",
       "      <td>False</td>\n",
       "      <td>False</td>\n",
       "      <td>False</td>\n",
       "      <td>False</td>\n",
       "    </tr>\n",
       "    <tr>\n",
       "      <th>ENSG00000000457</th>\n",
       "      <td>False</td>\n",
       "      <td>False</td>\n",
       "      <td>False</td>\n",
       "      <td>False</td>\n",
       "      <td>False</td>\n",
       "      <td>False</td>\n",
       "      <td>False</td>\n",
       "      <td>False</td>\n",
       "      <td>False</td>\n",
       "      <td>False</td>\n",
       "      <td>...</td>\n",
       "      <td>False</td>\n",
       "      <td>False</td>\n",
       "      <td>False</td>\n",
       "      <td>False</td>\n",
       "      <td>False</td>\n",
       "      <td>False</td>\n",
       "      <td>False</td>\n",
       "      <td>False</td>\n",
       "      <td>False</td>\n",
       "      <td>False</td>\n",
       "    </tr>\n",
       "    <tr>\n",
       "      <th>ENSG00000000460</th>\n",
       "      <td>False</td>\n",
       "      <td>False</td>\n",
       "      <td>False</td>\n",
       "      <td>False</td>\n",
       "      <td>False</td>\n",
       "      <td>False</td>\n",
       "      <td>False</td>\n",
       "      <td>False</td>\n",
       "      <td>False</td>\n",
       "      <td>False</td>\n",
       "      <td>...</td>\n",
       "      <td>False</td>\n",
       "      <td>False</td>\n",
       "      <td>False</td>\n",
       "      <td>False</td>\n",
       "      <td>False</td>\n",
       "      <td>False</td>\n",
       "      <td>False</td>\n",
       "      <td>False</td>\n",
       "      <td>False</td>\n",
       "      <td>False</td>\n",
       "    </tr>\n",
       "    <tr>\n",
       "      <th>ENSG00000000938</th>\n",
       "      <td>False</td>\n",
       "      <td>False</td>\n",
       "      <td>False</td>\n",
       "      <td>False</td>\n",
       "      <td>False</td>\n",
       "      <td>False</td>\n",
       "      <td>False</td>\n",
       "      <td>False</td>\n",
       "      <td>False</td>\n",
       "      <td>False</td>\n",
       "      <td>...</td>\n",
       "      <td>False</td>\n",
       "      <td>False</td>\n",
       "      <td>False</td>\n",
       "      <td>False</td>\n",
       "      <td>False</td>\n",
       "      <td>False</td>\n",
       "      <td>False</td>\n",
       "      <td>False</td>\n",
       "      <td>False</td>\n",
       "      <td>False</td>\n",
       "    </tr>\n",
       "    <tr>\n",
       "      <th>ENSG00000000971</th>\n",
       "      <td>False</td>\n",
       "      <td>False</td>\n",
       "      <td>False</td>\n",
       "      <td>False</td>\n",
       "      <td>False</td>\n",
       "      <td>False</td>\n",
       "      <td>False</td>\n",
       "      <td>False</td>\n",
       "      <td>False</td>\n",
       "      <td>False</td>\n",
       "      <td>...</td>\n",
       "      <td>False</td>\n",
       "      <td>False</td>\n",
       "      <td>False</td>\n",
       "      <td>False</td>\n",
       "      <td>False</td>\n",
       "      <td>False</td>\n",
       "      <td>False</td>\n",
       "      <td>False</td>\n",
       "      <td>False</td>\n",
       "      <td>False</td>\n",
       "    </tr>\n",
       "  </tbody>\n",
       "</table>\n",
       "<p>5 rows × 4091 columns</p>\n",
       "</div>"
      ],
      "text/plain": [
       "                 4270-Volume_level_set_by_participant_left  \\\n",
       "gene_name                                                    \n",
       "ENSG00000000419                                      False   \n",
       "ENSG00000000457                                      False   \n",
       "ENSG00000000460                                      False   \n",
       "ENSG00000000938                                      False   \n",
       "ENSG00000000971                                      False   \n",
       "\n",
       "                 S05-Diagnoses_main_ICD10_S05_Injury_of_eye_and_orbit  \\\n",
       "gene_name                                                               \n",
       "ENSG00000000419                                              False      \n",
       "ENSG00000000457                                              False      \n",
       "ENSG00000000460                                              False      \n",
       "ENSG00000000938                                              False      \n",
       "ENSG00000000971                                              False      \n",
       "\n",
       "                 20003_1141157402-Treatmentmedication_code_prednisolone_product  \\\n",
       "gene_name                                                                         \n",
       "ENSG00000000419                                              False                \n",
       "ENSG00000000457                                              False                \n",
       "ENSG00000000460                                              False                \n",
       "ENSG00000000938                                              False                \n",
       "ENSG00000000971                                              False                \n",
       "\n",
       "                 20002_1427-Noncancer_illness_code_selfreported_polycystic_kidney  \\\n",
       "gene_name                                                                           \n",
       "ENSG00000000419                                              False                  \n",
       "ENSG00000000457                                              False                  \n",
       "ENSG00000000460                                              False                  \n",
       "ENSG00000000938                                              False                  \n",
       "ENSG00000000971                                              False                  \n",
       "\n",
       "                 110001-Invitation_to_complete_online_24hour_recall_dietary_questionnaire_acceptance  \\\n",
       "gene_name                                                                                              \n",
       "ENSG00000000419                                              False                                     \n",
       "ENSG00000000457                                              False                                     \n",
       "ENSG00000000460                                              False                                     \n",
       "ENSG00000000938                                              False                                     \n",
       "ENSG00000000971                                              False                                     \n",
       "\n",
       "                 22617_2442-Job_SOC_coding_Social_workers  \\\n",
       "gene_name                                                   \n",
       "ENSG00000000419                                     False   \n",
       "ENSG00000000457                                     False   \n",
       "ENSG00000000460                                     False   \n",
       "ENSG00000000938                                     False   \n",
       "ENSG00000000971                                     False   \n",
       "\n",
       "                 J93-Diagnoses_main_ICD10_J93_Pneumothorax  \\\n",
       "gene_name                                                    \n",
       "ENSG00000000419                                      False   \n",
       "ENSG00000000457                                      False   \n",
       "ENSG00000000460                                      False   \n",
       "ENSG00000000938                                      False   \n",
       "ENSG00000000971                                      False   \n",
       "\n",
       "                 22601_41133206-Job_coding_local_government_administrative_officer_or_assistant_or_clerk  \\\n",
       "gene_name                                                                                                  \n",
       "ENSG00000000419                                              False                                         \n",
       "ENSG00000000457                                              False                                         \n",
       "ENSG00000000460                                              False                                         \n",
       "ENSG00000000938                                              False                                         \n",
       "ENSG00000000971                                              False                                         \n",
       "\n",
       "                 6145_3-Illness_injury_bereavement_stress_in_last_2_years_Death_of_a_close_relative  \\\n",
       "gene_name                                                                                             \n",
       "ENSG00000000419                                              False                                    \n",
       "ENSG00000000457                                              False                                    \n",
       "ENSG00000000460                                              False                                    \n",
       "ENSG00000000938                                              False                                    \n",
       "ENSG00000000971                                              False                                    \n",
       "\n",
       "                 20002_1597-Noncancer_illness_code_selfreported_tinnitus_tiniitis  \\\n",
       "gene_name                                                                           \n",
       "ENSG00000000419                                              False                  \n",
       "ENSG00000000457                                              False                  \n",
       "ENSG00000000460                                              False                  \n",
       "ENSG00000000938                                              False                  \n",
       "ENSG00000000971                                              False                  \n",
       "\n",
       "                 ...  PGC_ADHD_EUR_2017  BCAC_ER_negative_BreastCancer_EUR  \\\n",
       "gene_name        ...                                                         \n",
       "ENSG00000000419  ...              False                              False   \n",
       "ENSG00000000457  ...              False                              False   \n",
       "ENSG00000000460  ...              False                              False   \n",
       "ENSG00000000938  ...              False                              False   \n",
       "ENSG00000000971  ...              False                              False   \n",
       "\n",
       "                 SSGAC_Education_Years_Pooled  pgc.scz2  MAGNETIC_HDL.C  \\\n",
       "gene_name                                                                 \n",
       "ENSG00000000419                         False     False           False   \n",
       "ENSG00000000457                         False     False           False   \n",
       "ENSG00000000460                         False     False           False   \n",
       "ENSG00000000938                         False     False           False   \n",
       "ENSG00000000971                         False     False           False   \n",
       "\n",
       "                 MAGIC_ln_FastingInsulin  \\\n",
       "gene_name                                  \n",
       "ENSG00000000419                    False   \n",
       "ENSG00000000457                    False   \n",
       "ENSG00000000460                    False   \n",
       "ENSG00000000938                    False   \n",
       "ENSG00000000971                    False   \n",
       "\n",
       "                 Astle_et_al_2016_Sum_eosinophil_basophil_counts  \\\n",
       "gene_name                                                          \n",
       "ENSG00000000419                                            False   \n",
       "ENSG00000000457                                            False   \n",
       "ENSG00000000460                                            False   \n",
       "ENSG00000000938                                            False   \n",
       "ENSG00000000971                                            False   \n",
       "\n",
       "                 SSGAC_Depressive_Symptoms  Jones_et_al_2016_SleepDuration  \\\n",
       "gene_name                                                                    \n",
       "ENSG00000000419                      False                           False   \n",
       "ENSG00000000457                      False                           False   \n",
       "ENSG00000000460                      False                           False   \n",
       "ENSG00000000938                      False                           False   \n",
       "ENSG00000000971                      False                           False   \n",
       "\n",
       "                 Astle_et_al_2016_Red_blood_cell_count  \n",
       "gene_name                                               \n",
       "ENSG00000000419                                  False  \n",
       "ENSG00000000457                                  False  \n",
       "ENSG00000000460                                  False  \n",
       "ENSG00000000938                                  False  \n",
       "ENSG00000000971                                  False  \n",
       "\n",
       "[5 rows x 4091 columns]"
      ]
     },
     "metadata": {},
     "output_type": "display_data"
    }
   ],
   "source": [
    "fastenloc_signif = (fastenloc_matrix_sorted > 0.1)\n",
    "display(fastenloc_signif.shape)\n",
    "display(fastenloc_signif.head())"
   ]
  },
  {
   "cell_type": "code",
   "execution_count": 27,
   "metadata": {},
   "outputs": [
    {
     "data": {
      "text/plain": [
       "72990"
      ]
     },
     "metadata": {},
     "output_type": "display_data"
    },
    {
     "data": {
      "text/plain": [
       "0.000795541245816283"
      ]
     },
     "metadata": {},
     "output_type": "display_data"
    }
   ],
   "source": [
    "multixcan_hits = multixcan_signif.sum().sum()\n",
    "display(multixcan_hits)\n",
    "display(multixcan_hits / multixcan_signif.size)"
   ]
  },
  {
   "cell_type": "code",
   "execution_count": 28,
   "metadata": {},
   "outputs": [
    {
     "data": {
      "text/plain": [
       "292506"
      ]
     },
     "metadata": {},
     "output_type": "display_data"
    },
    {
     "data": {
      "text/plain": [
       "0.0031881160110801164"
      ]
     },
     "metadata": {},
     "output_type": "display_data"
    }
   ],
   "source": [
    "fastenloc_hits = fastenloc_signif.sum().sum()\n",
    "display(fastenloc_hits)\n",
    "display(fastenloc_hits / fastenloc_signif.size)"
   ]
  },
  {
   "cell_type": "code",
   "execution_count": 29,
   "metadata": {},
   "outputs": [],
   "source": [
    "fastenloc_and_multixcan_signif = (multixcan_signif & fastenloc_signif)\n",
    "assert fastenloc_and_multixcan_signif.shape == multixcan_signif.shape == fastenloc_signif.shape"
   ]
  },
  {
   "cell_type": "code",
   "execution_count": 30,
   "metadata": {},
   "outputs": [
    {
     "data": {
      "text/plain": [
       "22473"
      ]
     },
     "metadata": {},
     "output_type": "display_data"
    },
    {
     "data": {
      "text/plain": [
       "0.30789149198520344"
      ]
     },
     "metadata": {},
     "output_type": "display_data"
    },
    {
     "data": {
      "text/plain": [
       "'30.79%'"
      ]
     },
     "metadata": {},
     "output_type": "display_data"
    }
   ],
   "source": [
    "fe_mu_sum = fastenloc_and_multixcan_signif.sum().sum()\n",
    "display(fe_mu_sum)\n",
    "_perc = fe_mu_sum / multixcan_hits\n",
    "display(_perc)\n",
    "display(f'{(_perc * 100):.2f}%')"
   ]
  },
  {
   "cell_type": "markdown",
   "metadata": {},
   "source": [
    "### Conclusions"
   ]
  },
  {
   "cell_type": "markdown",
   "metadata": {},
   "source": [
    "72,990 significant associations with S-MultiXcan (after taking the set of genes in common with fastENLOC, otherwise it's 72,994).\n",
    "\n",
    "From these, 22,473 associations are also colocalized (30.79%)"
   ]
  },
  {
   "cell_type": "markdown",
   "metadata": {},
   "source": [
    "# Export significant associations as a table"
   ]
  },
  {
   "cell_type": "markdown",
   "metadata": {},
   "source": [
    "### S-MultiXcan"
   ]
  },
  {
   "cell_type": "code",
   "execution_count": 31,
   "metadata": {},
   "outputs": [],
   "source": [
    "smultixcan_results = multixcan_matrix_sorted.unstack()"
   ]
  },
  {
   "cell_type": "code",
   "execution_count": 32,
   "metadata": {},
   "outputs": [
    {
     "data": {
      "text/plain": [
       "(91748857,)"
      ]
     },
     "execution_count": 32,
     "metadata": {},
     "output_type": "execute_result"
    }
   ],
   "source": [
    "smultixcan_results.shape"
   ]
  },
  {
   "cell_type": "code",
   "execution_count": 33,
   "metadata": {},
   "outputs": [
    {
     "data": {
      "text/plain": [
       "                                           gene_name      \n",
       "4270-Volume_level_set_by_participant_left  ENSG00000000419    0.952828\n",
       "                                           ENSG00000000457    0.646365\n",
       "                                           ENSG00000000460    0.896074\n",
       "                                           ENSG00000000938    0.576924\n",
       "                                           ENSG00000000971    0.956390\n",
       "dtype: float64"
      ]
     },
     "execution_count": 33,
     "metadata": {},
     "output_type": "execute_result"
    }
   ],
   "source": [
    "smultixcan_results.head()"
   ]
  },
  {
   "cell_type": "code",
   "execution_count": 34,
   "metadata": {},
   "outputs": [
    {
     "data": {
      "text/plain": [
       "1049005"
      ]
     },
     "execution_count": 34,
     "metadata": {},
     "output_type": "execute_result"
    }
   ],
   "source": [
    "smultixcan_results.isna().sum()"
   ]
  },
  {
   "cell_type": "code",
   "execution_count": 35,
   "metadata": {},
   "outputs": [],
   "source": [
    "smultixcan_results = smultixcan_results.dropna()"
   ]
  },
  {
   "cell_type": "code",
   "execution_count": 36,
   "metadata": {},
   "outputs": [
    {
     "data": {
      "text/plain": [
       "(90699852,)"
      ]
     },
     "execution_count": 36,
     "metadata": {},
     "output_type": "execute_result"
    }
   ],
   "source": [
    "smultixcan_results.shape"
   ]
  },
  {
   "cell_type": "code",
   "execution_count": 37,
   "metadata": {},
   "outputs": [],
   "source": [
    "assert smultixcan_results.isna().sum() == 0"
   ]
  },
  {
   "cell_type": "code",
   "execution_count": 38,
   "metadata": {},
   "outputs": [
    {
     "data": {
      "text/plain": [
       "72990"
      ]
     },
     "execution_count": 38,
     "metadata": {},
     "output_type": "execute_result"
    }
   ],
   "source": [
    "(smultixcan_results < PVALUE_THRESHOLD).sum()"
   ]
  },
  {
   "cell_type": "markdown",
   "metadata": {},
   "source": [
    "### fastENLOC"
   ]
  },
  {
   "cell_type": "code",
   "execution_count": 39,
   "metadata": {},
   "outputs": [],
   "source": [
    "fastenloc_results = fastenloc_matrix_sorted.unstack()"
   ]
  },
  {
   "cell_type": "code",
   "execution_count": 40,
   "metadata": {},
   "outputs": [
    {
     "data": {
      "text/plain": [
       "(91748857,)"
      ]
     },
     "execution_count": 40,
     "metadata": {},
     "output_type": "execute_result"
    }
   ],
   "source": [
    "fastenloc_results.shape"
   ]
  },
  {
   "cell_type": "code",
   "execution_count": 41,
   "metadata": {},
   "outputs": [
    {
     "data": {
      "text/plain": [
       "                                           gene_name      \n",
       "4270-Volume_level_set_by_participant_left  ENSG00000000419    0.000005\n",
       "                                           ENSG00000000457    0.000345\n",
       "                                           ENSG00000000460    0.000175\n",
       "                                           ENSG00000000938    0.000003\n",
       "                                           ENSG00000000971    0.000221\n",
       "dtype: float64"
      ]
     },
     "execution_count": 41,
     "metadata": {},
     "output_type": "execute_result"
    }
   ],
   "source": [
    "fastenloc_results.head()"
   ]
  },
  {
   "cell_type": "code",
   "execution_count": 42,
   "metadata": {},
   "outputs": [
    {
     "data": {
      "text/plain": [
       "1554545"
      ]
     },
     "execution_count": 42,
     "metadata": {},
     "output_type": "execute_result"
    }
   ],
   "source": [
    "fastenloc_results.isna().sum()"
   ]
  },
  {
   "cell_type": "code",
   "execution_count": 43,
   "metadata": {},
   "outputs": [],
   "source": [
    "fastenloc_results = fastenloc_results.dropna()"
   ]
  },
  {
   "cell_type": "code",
   "execution_count": 44,
   "metadata": {},
   "outputs": [
    {
     "data": {
      "text/plain": [
       "(90194312,)"
      ]
     },
     "execution_count": 44,
     "metadata": {},
     "output_type": "execute_result"
    }
   ],
   "source": [
    "fastenloc_results.shape"
   ]
  },
  {
   "cell_type": "code",
   "execution_count": 45,
   "metadata": {},
   "outputs": [],
   "source": [
    "final_results = pd.DataFrame(index=smultixcan_results.index.copy(), columns=['smultixcan_pval', 'fastenloc_rcp'])"
   ]
  },
  {
   "cell_type": "code",
   "execution_count": 46,
   "metadata": {},
   "outputs": [],
   "source": [
    "final_results = final_results.assign(smultixcan_pval=smultixcan_results, fastenloc_rcp=fastenloc_results)"
   ]
  },
  {
   "cell_type": "code",
   "execution_count": 47,
   "metadata": {},
   "outputs": [
    {
     "data": {
      "text/plain": [
       "(90699852, 2)"
      ]
     },
     "execution_count": 47,
     "metadata": {},
     "output_type": "execute_result"
    }
   ],
   "source": [
    "final_results.shape"
   ]
  },
  {
   "cell_type": "code",
   "execution_count": 48,
   "metadata": {},
   "outputs": [
    {
     "data": {
      "text/html": [
       "<div>\n",
       "<style scoped>\n",
       "    .dataframe tbody tr th:only-of-type {\n",
       "        vertical-align: middle;\n",
       "    }\n",
       "\n",
       "    .dataframe tbody tr th {\n",
       "        vertical-align: top;\n",
       "    }\n",
       "\n",
       "    .dataframe thead th {\n",
       "        text-align: right;\n",
       "    }\n",
       "</style>\n",
       "<table border=\"1\" class=\"dataframe\">\n",
       "  <thead>\n",
       "    <tr style=\"text-align: right;\">\n",
       "      <th></th>\n",
       "      <th></th>\n",
       "      <th>smultixcan_pval</th>\n",
       "      <th>fastenloc_rcp</th>\n",
       "    </tr>\n",
       "    <tr>\n",
       "      <th></th>\n",
       "      <th>gene_name</th>\n",
       "      <th></th>\n",
       "      <th></th>\n",
       "    </tr>\n",
       "  </thead>\n",
       "  <tbody>\n",
       "    <tr>\n",
       "      <th rowspan=\"5\" valign=\"top\">4270-Volume_level_set_by_participant_left</th>\n",
       "      <th>ENSG00000000419</th>\n",
       "      <td>0.952828</td>\n",
       "      <td>0.000005</td>\n",
       "    </tr>\n",
       "    <tr>\n",
       "      <th>ENSG00000000457</th>\n",
       "      <td>0.646365</td>\n",
       "      <td>0.000345</td>\n",
       "    </tr>\n",
       "    <tr>\n",
       "      <th>ENSG00000000460</th>\n",
       "      <td>0.896074</td>\n",
       "      <td>0.000175</td>\n",
       "    </tr>\n",
       "    <tr>\n",
       "      <th>ENSG00000000938</th>\n",
       "      <td>0.576924</td>\n",
       "      <td>0.000003</td>\n",
       "    </tr>\n",
       "    <tr>\n",
       "      <th>ENSG00000000971</th>\n",
       "      <td>0.956390</td>\n",
       "      <td>0.000221</td>\n",
       "    </tr>\n",
       "  </tbody>\n",
       "</table>\n",
       "</div>"
      ],
      "text/plain": [
       "                                                           smultixcan_pval  \\\n",
       "                                          gene_name                          \n",
       "4270-Volume_level_set_by_participant_left ENSG00000000419         0.952828   \n",
       "                                          ENSG00000000457         0.646365   \n",
       "                                          ENSG00000000460         0.896074   \n",
       "                                          ENSG00000000938         0.576924   \n",
       "                                          ENSG00000000971         0.956390   \n",
       "\n",
       "                                                           fastenloc_rcp  \n",
       "                                          gene_name                       \n",
       "4270-Volume_level_set_by_participant_left ENSG00000000419       0.000005  \n",
       "                                          ENSG00000000457       0.000345  \n",
       "                                          ENSG00000000460       0.000175  \n",
       "                                          ENSG00000000938       0.000003  \n",
       "                                          ENSG00000000971       0.000221  "
      ]
     },
     "execution_count": 48,
     "metadata": {},
     "output_type": "execute_result"
    }
   ],
   "source": [
    "final_results.head()"
   ]
  },
  {
   "cell_type": "code",
   "execution_count": 49,
   "metadata": {},
   "outputs": [
    {
     "data": {
      "text/plain": [
       "smultixcan_pval          0\n",
       "fastenloc_rcp      1529981\n",
       "dtype: int64"
      ]
     },
     "execution_count": 49,
     "metadata": {},
     "output_type": "execute_result"
    }
   ],
   "source": [
    "final_results.isna().sum()"
   ]
  },
  {
   "cell_type": "code",
   "execution_count": 50,
   "metadata": {},
   "outputs": [],
   "source": [
    "final_results = final_results.dropna(how='any')"
   ]
  },
  {
   "cell_type": "code",
   "execution_count": 51,
   "metadata": {},
   "outputs": [
    {
     "data": {
      "text/plain": [
       "(89169871, 2)"
      ]
     },
     "execution_count": 51,
     "metadata": {},
     "output_type": "execute_result"
    }
   ],
   "source": [
    "final_results.shape"
   ]
  },
  {
   "cell_type": "code",
   "execution_count": 52,
   "metadata": {},
   "outputs": [
    {
     "data": {
      "text/plain": [
       "5.49e-10"
      ]
     },
     "execution_count": 52,
     "metadata": {},
     "output_type": "execute_result"
    }
   ],
   "source": [
    "PVALUE_THRESHOLD"
   ]
  },
  {
   "cell_type": "code",
   "execution_count": 53,
   "metadata": {},
   "outputs": [],
   "source": [
    "publishable_final_results = final_results[(final_results['smultixcan_pval'] < PVALUE_THRESHOLD) & (final_results['fastenloc_rcp'] > 0.1)]"
   ]
  },
  {
   "cell_type": "code",
   "execution_count": 54,
   "metadata": {},
   "outputs": [],
   "source": [
    "publishable_final_results.index.rename(('trait', 'gene_id'), inplace=True)"
   ]
  },
  {
   "cell_type": "code",
   "execution_count": 55,
   "metadata": {},
   "outputs": [
    {
     "data": {
      "text/plain": [
       "(22473, 2)"
      ]
     },
     "execution_count": 55,
     "metadata": {},
     "output_type": "execute_result"
    }
   ],
   "source": [
    "publishable_final_results.shape"
   ]
  },
  {
   "cell_type": "code",
   "execution_count": 56,
   "metadata": {},
   "outputs": [
    {
     "data": {
      "text/html": [
       "<div>\n",
       "<style scoped>\n",
       "    .dataframe tbody tr th:only-of-type {\n",
       "        vertical-align: middle;\n",
       "    }\n",
       "\n",
       "    .dataframe tbody tr th {\n",
       "        vertical-align: top;\n",
       "    }\n",
       "\n",
       "    .dataframe thead th {\n",
       "        text-align: right;\n",
       "    }\n",
       "</style>\n",
       "<table border=\"1\" class=\"dataframe\">\n",
       "  <thead>\n",
       "    <tr style=\"text-align: right;\">\n",
       "      <th></th>\n",
       "      <th></th>\n",
       "      <th>smultixcan_pval</th>\n",
       "      <th>fastenloc_rcp</th>\n",
       "    </tr>\n",
       "    <tr>\n",
       "      <th>trait</th>\n",
       "      <th>gene_id</th>\n",
       "      <th></th>\n",
       "      <th></th>\n",
       "    </tr>\n",
       "  </thead>\n",
       "  <tbody>\n",
       "    <tr>\n",
       "      <th rowspan=\"2\" valign=\"top\">C43-Diagnoses_main_ICD10_C43_Malignant_melanoma_of_skin</th>\n",
       "      <th>ENSG00000101440</th>\n",
       "      <td>1.808977e-10</td>\n",
       "      <td>0.970837</td>\n",
       "    </tr>\n",
       "    <tr>\n",
       "      <th>ENSG00000204991</th>\n",
       "      <td>3.540612e-14</td>\n",
       "      <td>0.401100</td>\n",
       "    </tr>\n",
       "    <tr>\n",
       "      <th rowspan=\"3\" valign=\"top\">M72-Diagnoses_main_ICD10_M72_Fibroblastic_disorders</th>\n",
       "      <th>ENSG00000104408</th>\n",
       "      <td>7.674021e-24</td>\n",
       "      <td>0.192500</td>\n",
       "    </tr>\n",
       "    <tr>\n",
       "      <th>ENSG00000147655</th>\n",
       "      <td>2.652440e-26</td>\n",
       "      <td>0.103500</td>\n",
       "    </tr>\n",
       "    <tr>\n",
       "      <th>ENSG00000172590</th>\n",
       "      <td>2.479003e-11</td>\n",
       "      <td>0.359586</td>\n",
       "    </tr>\n",
       "  </tbody>\n",
       "</table>\n",
       "</div>"
      ],
      "text/plain": [
       "                                                                    smultixcan_pval  \\\n",
       "trait                                              gene_id                            \n",
       "C43-Diagnoses_main_ICD10_C43_Malignant_melanoma... ENSG00000101440     1.808977e-10   \n",
       "                                                   ENSG00000204991     3.540612e-14   \n",
       "M72-Diagnoses_main_ICD10_M72_Fibroblastic_disor... ENSG00000104408     7.674021e-24   \n",
       "                                                   ENSG00000147655     2.652440e-26   \n",
       "                                                   ENSG00000172590     2.479003e-11   \n",
       "\n",
       "                                                                    fastenloc_rcp  \n",
       "trait                                              gene_id                         \n",
       "C43-Diagnoses_main_ICD10_C43_Malignant_melanoma... ENSG00000101440       0.970837  \n",
       "                                                   ENSG00000204991       0.401100  \n",
       "M72-Diagnoses_main_ICD10_M72_Fibroblastic_disor... ENSG00000104408       0.192500  \n",
       "                                                   ENSG00000147655       0.103500  \n",
       "                                                   ENSG00000172590       0.359586  "
      ]
     },
     "execution_count": 56,
     "metadata": {},
     "output_type": "execute_result"
    }
   ],
   "source": [
    "publishable_final_results.head()"
   ]
  },
  {
   "cell_type": "code",
   "execution_count": 60,
   "metadata": {},
   "outputs": [
    {
     "data": {
      "text/html": [
       "<div>\n",
       "<style scoped>\n",
       "    .dataframe tbody tr th:only-of-type {\n",
       "        vertical-align: middle;\n",
       "    }\n",
       "\n",
       "    .dataframe tbody tr th {\n",
       "        vertical-align: top;\n",
       "    }\n",
       "\n",
       "    .dataframe thead th {\n",
       "        text-align: right;\n",
       "    }\n",
       "</style>\n",
       "<table border=\"1\" class=\"dataframe\">\n",
       "  <thead>\n",
       "    <tr style=\"text-align: right;\">\n",
       "      <th></th>\n",
       "      <th>gene</th>\n",
       "      <th>gene_name</th>\n",
       "      <th>gene_type</th>\n",
       "      <th>gene_id</th>\n",
       "      <th>band</th>\n",
       "    </tr>\n",
       "  </thead>\n",
       "  <tbody>\n",
       "    <tr>\n",
       "      <th>0</th>\n",
       "      <td>ENSG00000000457.13</td>\n",
       "      <td>SCYL3</td>\n",
       "      <td>protein_coding</td>\n",
       "      <td>ENSG00000000457</td>\n",
       "      <td>1q24.2</td>\n",
       "    </tr>\n",
       "    <tr>\n",
       "      <th>1</th>\n",
       "      <td>ENSG00000000460.16</td>\n",
       "      <td>C1orf112</td>\n",
       "      <td>protein_coding</td>\n",
       "      <td>ENSG00000000460</td>\n",
       "      <td>1q24.2</td>\n",
       "    </tr>\n",
       "    <tr>\n",
       "      <th>2</th>\n",
       "      <td>ENSG00000000938.12</td>\n",
       "      <td>FGR</td>\n",
       "      <td>protein_coding</td>\n",
       "      <td>ENSG00000000938</td>\n",
       "      <td>1p35.3</td>\n",
       "    </tr>\n",
       "    <tr>\n",
       "      <th>3</th>\n",
       "      <td>ENSG00000000971.15</td>\n",
       "      <td>CFH</td>\n",
       "      <td>protein_coding</td>\n",
       "      <td>ENSG00000000971</td>\n",
       "      <td>1q31.3</td>\n",
       "    </tr>\n",
       "    <tr>\n",
       "      <th>4</th>\n",
       "      <td>ENSG00000001036.13</td>\n",
       "      <td>FUCA2</td>\n",
       "      <td>protein_coding</td>\n",
       "      <td>ENSG00000001036</td>\n",
       "      <td>6q24.2</td>\n",
       "    </tr>\n",
       "  </tbody>\n",
       "</table>\n",
       "</div>"
      ],
      "text/plain": [
       "                 gene gene_name       gene_type          gene_id    band\n",
       "0  ENSG00000000457.13     SCYL3  protein_coding  ENSG00000000457  1q24.2\n",
       "1  ENSG00000000460.16  C1orf112  protein_coding  ENSG00000000460  1q24.2\n",
       "2  ENSG00000000938.12       FGR  protein_coding  ENSG00000000938  1p35.3\n",
       "3  ENSG00000000971.15       CFH  protein_coding  ENSG00000000971  1q31.3\n",
       "4  ENSG00000001036.13     FUCA2  protein_coding  ENSG00000001036  6q24.2"
      ]
     },
     "execution_count": 60,
     "metadata": {},
     "output_type": "execute_result"
    }
   ],
   "source": [
    "metadata.GENES_MAPPINGS.head()"
   ]
  },
  {
   "cell_type": "code",
   "execution_count": 61,
   "metadata": {},
   "outputs": [],
   "source": [
    "_tmp = pd.merge(\n",
    "    publishable_final_results.reset_index(),\n",
    "    metadata.GENES_MAPPINGS[['gene_id', 'gene_name', 'band', 'gene_type']],\n",
    "    on='gene_id',\n",
    "    how='left'\n",
    ").rename(columns={'band': 'gene_band'})"
   ]
  },
  {
   "cell_type": "code",
   "execution_count": 62,
   "metadata": {},
   "outputs": [
    {
     "data": {
      "text/html": [
       "<div>\n",
       "<style scoped>\n",
       "    .dataframe tbody tr th:only-of-type {\n",
       "        vertical-align: middle;\n",
       "    }\n",
       "\n",
       "    .dataframe tbody tr th {\n",
       "        vertical-align: top;\n",
       "    }\n",
       "\n",
       "    .dataframe thead th {\n",
       "        text-align: right;\n",
       "    }\n",
       "</style>\n",
       "<table border=\"1\" class=\"dataframe\">\n",
       "  <thead>\n",
       "    <tr style=\"text-align: right;\">\n",
       "      <th></th>\n",
       "      <th>trait</th>\n",
       "      <th>gene_id</th>\n",
       "      <th>smultixcan_pval</th>\n",
       "      <th>fastenloc_rcp</th>\n",
       "      <th>gene_name</th>\n",
       "      <th>gene_band</th>\n",
       "      <th>gene_type</th>\n",
       "    </tr>\n",
       "  </thead>\n",
       "  <tbody>\n",
       "    <tr>\n",
       "      <th>0</th>\n",
       "      <td>C43-Diagnoses_main_ICD10_C43_Malignant_melanom...</td>\n",
       "      <td>ENSG00000101440</td>\n",
       "      <td>1.808977e-10</td>\n",
       "      <td>0.970837</td>\n",
       "      <td>ASIP</td>\n",
       "      <td>20q11.22</td>\n",
       "      <td>protein_coding</td>\n",
       "    </tr>\n",
       "    <tr>\n",
       "      <th>1</th>\n",
       "      <td>C43-Diagnoses_main_ICD10_C43_Malignant_melanom...</td>\n",
       "      <td>ENSG00000204991</td>\n",
       "      <td>3.540612e-14</td>\n",
       "      <td>0.401100</td>\n",
       "      <td>SPIRE2</td>\n",
       "      <td>16q24.3</td>\n",
       "      <td>protein_coding</td>\n",
       "    </tr>\n",
       "    <tr>\n",
       "      <th>2</th>\n",
       "      <td>M72-Diagnoses_main_ICD10_M72_Fibroblastic_diso...</td>\n",
       "      <td>ENSG00000104408</td>\n",
       "      <td>7.674021e-24</td>\n",
       "      <td>0.192500</td>\n",
       "      <td>EIF3E</td>\n",
       "      <td>8q23.1</td>\n",
       "      <td>protein_coding</td>\n",
       "    </tr>\n",
       "    <tr>\n",
       "      <th>3</th>\n",
       "      <td>M72-Diagnoses_main_ICD10_M72_Fibroblastic_diso...</td>\n",
       "      <td>ENSG00000147655</td>\n",
       "      <td>2.652440e-26</td>\n",
       "      <td>0.103500</td>\n",
       "      <td>RSPO2</td>\n",
       "      <td>8q23.1</td>\n",
       "      <td>protein_coding</td>\n",
       "    </tr>\n",
       "    <tr>\n",
       "      <th>4</th>\n",
       "      <td>M72-Diagnoses_main_ICD10_M72_Fibroblastic_diso...</td>\n",
       "      <td>ENSG00000172590</td>\n",
       "      <td>2.479003e-11</td>\n",
       "      <td>0.359586</td>\n",
       "      <td>MRPL52</td>\n",
       "      <td>14q11.2</td>\n",
       "      <td>protein_coding</td>\n",
       "    </tr>\n",
       "  </tbody>\n",
       "</table>\n",
       "</div>"
      ],
      "text/plain": [
       "                                               trait          gene_id  \\\n",
       "0  C43-Diagnoses_main_ICD10_C43_Malignant_melanom...  ENSG00000101440   \n",
       "1  C43-Diagnoses_main_ICD10_C43_Malignant_melanom...  ENSG00000204991   \n",
       "2  M72-Diagnoses_main_ICD10_M72_Fibroblastic_diso...  ENSG00000104408   \n",
       "3  M72-Diagnoses_main_ICD10_M72_Fibroblastic_diso...  ENSG00000147655   \n",
       "4  M72-Diagnoses_main_ICD10_M72_Fibroblastic_diso...  ENSG00000172590   \n",
       "\n",
       "   smultixcan_pval  fastenloc_rcp gene_name gene_band       gene_type  \n",
       "0     1.808977e-10       0.970837      ASIP  20q11.22  protein_coding  \n",
       "1     3.540612e-14       0.401100    SPIRE2   16q24.3  protein_coding  \n",
       "2     7.674021e-24       0.192500     EIF3E    8q23.1  protein_coding  \n",
       "3     2.652440e-26       0.103500     RSPO2    8q23.1  protein_coding  \n",
       "4     2.479003e-11       0.359586    MRPL52   14q11.2  protein_coding  "
      ]
     },
     "execution_count": 62,
     "metadata": {},
     "output_type": "execute_result"
    }
   ],
   "source": [
    "_tmp.head()"
   ]
  },
  {
   "cell_type": "code",
   "execution_count": 63,
   "metadata": {},
   "outputs": [],
   "source": [
    "publishable_final_results = _tmp.set_index(['trait', 'gene_id'])[['gene_name', 'gene_band', 'gene_type', 'smultixcan_pval', 'fastenloc_rcp']]"
   ]
  },
  {
   "cell_type": "code",
   "execution_count": 64,
   "metadata": {},
   "outputs": [],
   "source": [
    "publishable_final_results = publishable_final_results.sort_index()"
   ]
  },
  {
   "cell_type": "code",
   "execution_count": 65,
   "metadata": {},
   "outputs": [],
   "source": [
    "assert publishable_final_results.index.is_unique"
   ]
  },
  {
   "cell_type": "code",
   "execution_count": 66,
   "metadata": {},
   "outputs": [
    {
     "data": {
      "text/plain": [
       "gene_name          11\n",
       "gene_band          11\n",
       "gene_type          11\n",
       "smultixcan_pval     0\n",
       "fastenloc_rcp       0\n",
       "dtype: int64"
      ]
     },
     "execution_count": 66,
     "metadata": {},
     "output_type": "execute_result"
    }
   ],
   "source": [
    "publishable_final_results.isna().sum()"
   ]
  },
  {
   "cell_type": "code",
   "execution_count": 67,
   "metadata": {},
   "outputs": [
    {
     "data": {
      "text/html": [
       "<div>\n",
       "<style scoped>\n",
       "    .dataframe tbody tr th:only-of-type {\n",
       "        vertical-align: middle;\n",
       "    }\n",
       "\n",
       "    .dataframe tbody tr th {\n",
       "        vertical-align: top;\n",
       "    }\n",
       "\n",
       "    .dataframe thead th {\n",
       "        text-align: right;\n",
       "    }\n",
       "</style>\n",
       "<table border=\"1\" class=\"dataframe\">\n",
       "  <thead>\n",
       "    <tr style=\"text-align: right;\">\n",
       "      <th></th>\n",
       "      <th></th>\n",
       "      <th>gene_name</th>\n",
       "      <th>gene_band</th>\n",
       "      <th>gene_type</th>\n",
       "      <th>smultixcan_pval</th>\n",
       "      <th>fastenloc_rcp</th>\n",
       "    </tr>\n",
       "    <tr>\n",
       "      <th>trait</th>\n",
       "      <th>gene_id</th>\n",
       "      <th></th>\n",
       "      <th></th>\n",
       "      <th></th>\n",
       "      <th></th>\n",
       "      <th></th>\n",
       "    </tr>\n",
       "  </thead>\n",
       "  <tbody>\n",
       "    <tr>\n",
       "      <th>23101_raw-Whole_body_fatfree_mass</th>\n",
       "      <th>ENSG00000253972</th>\n",
       "      <td>NaN</td>\n",
       "      <td>NaN</td>\n",
       "      <td>NaN</td>\n",
       "      <td>1.246210e-13</td>\n",
       "      <td>0.1933</td>\n",
       "    </tr>\n",
       "    <tr>\n",
       "      <th>23102_raw-Whole_body_water_mass</th>\n",
       "      <th>ENSG00000253972</th>\n",
       "      <td>NaN</td>\n",
       "      <td>NaN</td>\n",
       "      <td>NaN</td>\n",
       "      <td>1.868528e-13</td>\n",
       "      <td>0.1813</td>\n",
       "    </tr>\n",
       "    <tr>\n",
       "      <th>23105_raw-Basal_metabolic_rate</th>\n",
       "      <th>ENSG00000253972</th>\n",
       "      <td>NaN</td>\n",
       "      <td>NaN</td>\n",
       "      <td>NaN</td>\n",
       "      <td>6.701070e-11</td>\n",
       "      <td>0.1692</td>\n",
       "    </tr>\n",
       "    <tr>\n",
       "      <th>23121_raw-Arm_fatfree_mass_right</th>\n",
       "      <th>ENSG00000253972</th>\n",
       "      <td>NaN</td>\n",
       "      <td>NaN</td>\n",
       "      <td>NaN</td>\n",
       "      <td>1.262021e-10</td>\n",
       "      <td>0.1400</td>\n",
       "    </tr>\n",
       "    <tr>\n",
       "      <th>23122_raw-Arm_predicted_mass_right</th>\n",
       "      <th>ENSG00000253972</th>\n",
       "      <td>NaN</td>\n",
       "      <td>NaN</td>\n",
       "      <td>NaN</td>\n",
       "      <td>1.539772e-10</td>\n",
       "      <td>0.1702</td>\n",
       "    </tr>\n",
       "    <tr>\n",
       "      <th>23125_raw-Arm_fatfree_mass_left</th>\n",
       "      <th>ENSG00000253972</th>\n",
       "      <td>NaN</td>\n",
       "      <td>NaN</td>\n",
       "      <td>NaN</td>\n",
       "      <td>1.553128e-11</td>\n",
       "      <td>0.1275</td>\n",
       "    </tr>\n",
       "    <tr>\n",
       "      <th>23126_raw-Arm_predicted_mass_left</th>\n",
       "      <th>ENSG00000253972</th>\n",
       "      <td>NaN</td>\n",
       "      <td>NaN</td>\n",
       "      <td>NaN</td>\n",
       "      <td>2.576215e-11</td>\n",
       "      <td>0.1144</td>\n",
       "    </tr>\n",
       "    <tr>\n",
       "      <th>23129_raw-Trunk_fatfree_mass</th>\n",
       "      <th>ENSG00000253972</th>\n",
       "      <td>NaN</td>\n",
       "      <td>NaN</td>\n",
       "      <td>NaN</td>\n",
       "      <td>3.512784e-15</td>\n",
       "      <td>0.1968</td>\n",
       "    </tr>\n",
       "    <tr>\n",
       "      <th>23130_raw-Trunk_predicted_mass</th>\n",
       "      <th>ENSG00000253972</th>\n",
       "      <td>NaN</td>\n",
       "      <td>NaN</td>\n",
       "      <td>NaN</td>\n",
       "      <td>5.304944e-15</td>\n",
       "      <td>0.2065</td>\n",
       "    </tr>\n",
       "    <tr>\n",
       "      <th>30090_raw-Platelet_crit</th>\n",
       "      <th>ENSG00000229694</th>\n",
       "      <td>NaN</td>\n",
       "      <td>NaN</td>\n",
       "      <td>NaN</td>\n",
       "      <td>1.379899e-10</td>\n",
       "      <td>0.4605</td>\n",
       "    </tr>\n",
       "    <tr>\n",
       "      <th>4079_raw-Diastolic_blood_pressure_automated_reading</th>\n",
       "      <th>ENSG00000253972</th>\n",
       "      <td>NaN</td>\n",
       "      <td>NaN</td>\n",
       "      <td>NaN</td>\n",
       "      <td>1.883721e-16</td>\n",
       "      <td>0.1533</td>\n",
       "    </tr>\n",
       "  </tbody>\n",
       "</table>\n",
       "</div>"
      ],
      "text/plain": [
       "                                                                   gene_name  \\\n",
       "trait                                              gene_id                     \n",
       "23101_raw-Whole_body_fatfree_mass                  ENSG00000253972       NaN   \n",
       "23102_raw-Whole_body_water_mass                    ENSG00000253972       NaN   \n",
       "23105_raw-Basal_metabolic_rate                     ENSG00000253972       NaN   \n",
       "23121_raw-Arm_fatfree_mass_right                   ENSG00000253972       NaN   \n",
       "23122_raw-Arm_predicted_mass_right                 ENSG00000253972       NaN   \n",
       "23125_raw-Arm_fatfree_mass_left                    ENSG00000253972       NaN   \n",
       "23126_raw-Arm_predicted_mass_left                  ENSG00000253972       NaN   \n",
       "23129_raw-Trunk_fatfree_mass                       ENSG00000253972       NaN   \n",
       "23130_raw-Trunk_predicted_mass                     ENSG00000253972       NaN   \n",
       "30090_raw-Platelet_crit                            ENSG00000229694       NaN   \n",
       "4079_raw-Diastolic_blood_pressure_automated_rea... ENSG00000253972       NaN   \n",
       "\n",
       "                                                                   gene_band  \\\n",
       "trait                                              gene_id                     \n",
       "23101_raw-Whole_body_fatfree_mass                  ENSG00000253972       NaN   \n",
       "23102_raw-Whole_body_water_mass                    ENSG00000253972       NaN   \n",
       "23105_raw-Basal_metabolic_rate                     ENSG00000253972       NaN   \n",
       "23121_raw-Arm_fatfree_mass_right                   ENSG00000253972       NaN   \n",
       "23122_raw-Arm_predicted_mass_right                 ENSG00000253972       NaN   \n",
       "23125_raw-Arm_fatfree_mass_left                    ENSG00000253972       NaN   \n",
       "23126_raw-Arm_predicted_mass_left                  ENSG00000253972       NaN   \n",
       "23129_raw-Trunk_fatfree_mass                       ENSG00000253972       NaN   \n",
       "23130_raw-Trunk_predicted_mass                     ENSG00000253972       NaN   \n",
       "30090_raw-Platelet_crit                            ENSG00000229694       NaN   \n",
       "4079_raw-Diastolic_blood_pressure_automated_rea... ENSG00000253972       NaN   \n",
       "\n",
       "                                                                   gene_type  \\\n",
       "trait                                              gene_id                     \n",
       "23101_raw-Whole_body_fatfree_mass                  ENSG00000253972       NaN   \n",
       "23102_raw-Whole_body_water_mass                    ENSG00000253972       NaN   \n",
       "23105_raw-Basal_metabolic_rate                     ENSG00000253972       NaN   \n",
       "23121_raw-Arm_fatfree_mass_right                   ENSG00000253972       NaN   \n",
       "23122_raw-Arm_predicted_mass_right                 ENSG00000253972       NaN   \n",
       "23125_raw-Arm_fatfree_mass_left                    ENSG00000253972       NaN   \n",
       "23126_raw-Arm_predicted_mass_left                  ENSG00000253972       NaN   \n",
       "23129_raw-Trunk_fatfree_mass                       ENSG00000253972       NaN   \n",
       "23130_raw-Trunk_predicted_mass                     ENSG00000253972       NaN   \n",
       "30090_raw-Platelet_crit                            ENSG00000229694       NaN   \n",
       "4079_raw-Diastolic_blood_pressure_automated_rea... ENSG00000253972       NaN   \n",
       "\n",
       "                                                                    smultixcan_pval  \\\n",
       "trait                                              gene_id                            \n",
       "23101_raw-Whole_body_fatfree_mass                  ENSG00000253972     1.246210e-13   \n",
       "23102_raw-Whole_body_water_mass                    ENSG00000253972     1.868528e-13   \n",
       "23105_raw-Basal_metabolic_rate                     ENSG00000253972     6.701070e-11   \n",
       "23121_raw-Arm_fatfree_mass_right                   ENSG00000253972     1.262021e-10   \n",
       "23122_raw-Arm_predicted_mass_right                 ENSG00000253972     1.539772e-10   \n",
       "23125_raw-Arm_fatfree_mass_left                    ENSG00000253972     1.553128e-11   \n",
       "23126_raw-Arm_predicted_mass_left                  ENSG00000253972     2.576215e-11   \n",
       "23129_raw-Trunk_fatfree_mass                       ENSG00000253972     3.512784e-15   \n",
       "23130_raw-Trunk_predicted_mass                     ENSG00000253972     5.304944e-15   \n",
       "30090_raw-Platelet_crit                            ENSG00000229694     1.379899e-10   \n",
       "4079_raw-Diastolic_blood_pressure_automated_rea... ENSG00000253972     1.883721e-16   \n",
       "\n",
       "                                                                    fastenloc_rcp  \n",
       "trait                                              gene_id                         \n",
       "23101_raw-Whole_body_fatfree_mass                  ENSG00000253972         0.1933  \n",
       "23102_raw-Whole_body_water_mass                    ENSG00000253972         0.1813  \n",
       "23105_raw-Basal_metabolic_rate                     ENSG00000253972         0.1692  \n",
       "23121_raw-Arm_fatfree_mass_right                   ENSG00000253972         0.1400  \n",
       "23122_raw-Arm_predicted_mass_right                 ENSG00000253972         0.1702  \n",
       "23125_raw-Arm_fatfree_mass_left                    ENSG00000253972         0.1275  \n",
       "23126_raw-Arm_predicted_mass_left                  ENSG00000253972         0.1144  \n",
       "23129_raw-Trunk_fatfree_mass                       ENSG00000253972         0.1968  \n",
       "23130_raw-Trunk_predicted_mass                     ENSG00000253972         0.2065  \n",
       "30090_raw-Platelet_crit                            ENSG00000229694         0.4605  \n",
       "4079_raw-Diastolic_blood_pressure_automated_rea... ENSG00000253972         0.1533  "
      ]
     },
     "execution_count": 67,
     "metadata": {},
     "output_type": "execute_result"
    }
   ],
   "source": [
    "publishable_final_results[publishable_final_results['gene_name'].isna()]"
   ]
  },
  {
   "cell_type": "code",
   "execution_count": 68,
   "metadata": {},
   "outputs": [
    {
     "data": {
      "text/html": [
       "<div>\n",
       "<style scoped>\n",
       "    .dataframe tbody tr th:only-of-type {\n",
       "        vertical-align: middle;\n",
       "    }\n",
       "\n",
       "    .dataframe tbody tr th {\n",
       "        vertical-align: top;\n",
       "    }\n",
       "\n",
       "    .dataframe thead th {\n",
       "        text-align: right;\n",
       "    }\n",
       "</style>\n",
       "<table border=\"1\" class=\"dataframe\">\n",
       "  <thead>\n",
       "    <tr style=\"text-align: right;\">\n",
       "      <th></th>\n",
       "      <th></th>\n",
       "      <th>gene_name</th>\n",
       "      <th>gene_band</th>\n",
       "      <th>gene_type</th>\n",
       "      <th>smultixcan_pval</th>\n",
       "      <th>fastenloc_rcp</th>\n",
       "    </tr>\n",
       "    <tr>\n",
       "      <th>trait</th>\n",
       "      <th>gene_id</th>\n",
       "      <th></th>\n",
       "      <th></th>\n",
       "      <th></th>\n",
       "      <th></th>\n",
       "      <th></th>\n",
       "    </tr>\n",
       "  </thead>\n",
       "  <tbody>\n",
       "    <tr>\n",
       "      <th rowspan=\"5\" valign=\"top\">102_raw-Pulse_rate_automated_reading</th>\n",
       "      <th>ENSG00000031003</th>\n",
       "      <td>FAM13B</td>\n",
       "      <td>5q31.2</td>\n",
       "      <td>protein_coding</td>\n",
       "      <td>9.316678e-29</td>\n",
       "      <td>0.868600</td>\n",
       "    </tr>\n",
       "    <tr>\n",
       "      <th>ENSG00000064989</th>\n",
       "      <td>CALCRL</td>\n",
       "      <td>2q32.1</td>\n",
       "      <td>protein_coding</td>\n",
       "      <td>1.553027e-22</td>\n",
       "      <td>0.863200</td>\n",
       "    </tr>\n",
       "    <tr>\n",
       "      <th>ENSG00000072195</th>\n",
       "      <td>SPEG</td>\n",
       "      <td>2q35</td>\n",
       "      <td>protein_coding</td>\n",
       "      <td>1.707185e-38</td>\n",
       "      <td>0.877000</td>\n",
       "    </tr>\n",
       "    <tr>\n",
       "      <th>ENSG00000075420</th>\n",
       "      <td>FNDC3B</td>\n",
       "      <td>3q26.31</td>\n",
       "      <td>protein_coding</td>\n",
       "      <td>2.695478e-24</td>\n",
       "      <td>0.841100</td>\n",
       "    </tr>\n",
       "    <tr>\n",
       "      <th>ENSG00000075702</th>\n",
       "      <td>WDR62</td>\n",
       "      <td>19q13.12</td>\n",
       "      <td>protein_coding</td>\n",
       "      <td>8.858931e-11</td>\n",
       "      <td>1.257727</td>\n",
       "    </tr>\n",
       "  </tbody>\n",
       "</table>\n",
       "</div>"
      ],
      "text/plain": [
       "                                                     gene_name gene_band  \\\n",
       "trait                                gene_id                               \n",
       "102_raw-Pulse_rate_automated_reading ENSG00000031003    FAM13B    5q31.2   \n",
       "                                     ENSG00000064989    CALCRL    2q32.1   \n",
       "                                     ENSG00000072195      SPEG      2q35   \n",
       "                                     ENSG00000075420    FNDC3B   3q26.31   \n",
       "                                     ENSG00000075702     WDR62  19q13.12   \n",
       "\n",
       "                                                           gene_type  \\\n",
       "trait                                gene_id                           \n",
       "102_raw-Pulse_rate_automated_reading ENSG00000031003  protein_coding   \n",
       "                                     ENSG00000064989  protein_coding   \n",
       "                                     ENSG00000072195  protein_coding   \n",
       "                                     ENSG00000075420  protein_coding   \n",
       "                                     ENSG00000075702  protein_coding   \n",
       "\n",
       "                                                      smultixcan_pval  \\\n",
       "trait                                gene_id                            \n",
       "102_raw-Pulse_rate_automated_reading ENSG00000031003     9.316678e-29   \n",
       "                                     ENSG00000064989     1.553027e-22   \n",
       "                                     ENSG00000072195     1.707185e-38   \n",
       "                                     ENSG00000075420     2.695478e-24   \n",
       "                                     ENSG00000075702     8.858931e-11   \n",
       "\n",
       "                                                      fastenloc_rcp  \n",
       "trait                                gene_id                         \n",
       "102_raw-Pulse_rate_automated_reading ENSG00000031003       0.868600  \n",
       "                                     ENSG00000064989       0.863200  \n",
       "                                     ENSG00000072195       0.877000  \n",
       "                                     ENSG00000075420       0.841100  \n",
       "                                     ENSG00000075702       1.257727  "
      ]
     },
     "execution_count": 68,
     "metadata": {},
     "output_type": "execute_result"
    }
   ],
   "source": [
    "publishable_final_results.head()"
   ]
  },
  {
   "cell_type": "code",
   "execution_count": 69,
   "metadata": {},
   "outputs": [
    {
     "data": {
      "text/plain": [
       "(22473, 5)"
      ]
     },
     "execution_count": 69,
     "metadata": {},
     "output_type": "execute_result"
    }
   ],
   "source": [
    "publishable_final_results.shape"
   ]
  },
  {
   "cell_type": "code",
   "execution_count": 71,
   "metadata": {},
   "outputs": [],
   "source": [
    "# some testing\n",
    "_result = publishable_final_results.loc[('1180-Morningevening_person_chronotype', metadata.GENE_NAME_TO_ID_MAP['VIP'])]\n",
    "assert _result['smultixcan_pval'] == 1.8124965657173678e-17\n",
    "assert _result['fastenloc_rcp'] == 0.30421"
   ]
  },
  {
   "cell_type": "code",
   "execution_count": 72,
   "metadata": {},
   "outputs": [],
   "source": [
    "# some testing\n",
    "_result = publishable_final_results.loc[('1180-Morningevening_person_chronotype', metadata.GENE_NAME_TO_ID_MAP['RP11-220I1.5'])]\n",
    "assert _result['smultixcan_pval'] == 6.426619359444203e-11\n",
    "assert _result['fastenloc_rcp'] == 0.2150000007971"
   ]
  },
  {
   "cell_type": "code",
   "execution_count": 75,
   "metadata": {},
   "outputs": [
    {
     "data": {
      "text/plain": [
       "'/mnt/phenomexcan_base/deliverables/supp_tables/suppl_table_S1-significant_gene_trait_associations.tsv.gz'"
      ]
     },
     "metadata": {},
     "output_type": "display_data"
    }
   ],
   "source": [
    "# for publication (tsv.gz)\n",
    "output_folder = os.path.join(conf.DELIVERABLES_DIR, 'supp_tables')\n",
    "os.makedirs(output_folder, exist_ok=True)\n",
    "output_file = os.path.join(output_folder, 'suppl_table_S1-significant_gene_trait_associations.tsv.gz')\n",
    "display(output_file)\n",
    "\n",
    "publishable_final_results.to_csv(output_file, sep='\\t', float_format='%.4e')"
   ]
  },
  {
   "cell_type": "code",
   "execution_count": 76,
   "metadata": {},
   "outputs": [],
   "source": [
    "# some testing\n",
    "_tmp = pd.read_csv(output_file, sep='\\t')"
   ]
  },
  {
   "cell_type": "code",
   "execution_count": 77,
   "metadata": {},
   "outputs": [],
   "source": [
    "assert publishable_final_results.shape == _tmp.set_index(['trait', 'gene_id']).shape"
   ]
  },
  {
   "cell_type": "code",
   "execution_count": 78,
   "metadata": {},
   "outputs": [
    {
     "data": {
      "text/plain": [
       "(22473, 7)"
      ]
     },
     "execution_count": 78,
     "metadata": {},
     "output_type": "execute_result"
    }
   ],
   "source": [
    "_tmp.shape"
   ]
  },
  {
   "cell_type": "code",
   "execution_count": 79,
   "metadata": {},
   "outputs": [
    {
     "data": {
      "text/html": [
       "<div>\n",
       "<style scoped>\n",
       "    .dataframe tbody tr th:only-of-type {\n",
       "        vertical-align: middle;\n",
       "    }\n",
       "\n",
       "    .dataframe tbody tr th {\n",
       "        vertical-align: top;\n",
       "    }\n",
       "\n",
       "    .dataframe thead th {\n",
       "        text-align: right;\n",
       "    }\n",
       "</style>\n",
       "<table border=\"1\" class=\"dataframe\">\n",
       "  <thead>\n",
       "    <tr style=\"text-align: right;\">\n",
       "      <th></th>\n",
       "      <th>trait</th>\n",
       "      <th>gene_id</th>\n",
       "      <th>gene_name</th>\n",
       "      <th>gene_band</th>\n",
       "      <th>gene_type</th>\n",
       "      <th>smultixcan_pval</th>\n",
       "      <th>fastenloc_rcp</th>\n",
       "    </tr>\n",
       "  </thead>\n",
       "  <tbody>\n",
       "    <tr>\n",
       "      <th>0</th>\n",
       "      <td>102_raw-Pulse_rate_automated_reading</td>\n",
       "      <td>ENSG00000031003</td>\n",
       "      <td>FAM13B</td>\n",
       "      <td>5q31.2</td>\n",
       "      <td>protein_coding</td>\n",
       "      <td>9.316700e-29</td>\n",
       "      <td>0.8686</td>\n",
       "    </tr>\n",
       "    <tr>\n",
       "      <th>1</th>\n",
       "      <td>102_raw-Pulse_rate_automated_reading</td>\n",
       "      <td>ENSG00000064989</td>\n",
       "      <td>CALCRL</td>\n",
       "      <td>2q32.1</td>\n",
       "      <td>protein_coding</td>\n",
       "      <td>1.553000e-22</td>\n",
       "      <td>0.8632</td>\n",
       "    </tr>\n",
       "    <tr>\n",
       "      <th>2</th>\n",
       "      <td>102_raw-Pulse_rate_automated_reading</td>\n",
       "      <td>ENSG00000072195</td>\n",
       "      <td>SPEG</td>\n",
       "      <td>2q35</td>\n",
       "      <td>protein_coding</td>\n",
       "      <td>1.707200e-38</td>\n",
       "      <td>0.8770</td>\n",
       "    </tr>\n",
       "    <tr>\n",
       "      <th>3</th>\n",
       "      <td>102_raw-Pulse_rate_automated_reading</td>\n",
       "      <td>ENSG00000075420</td>\n",
       "      <td>FNDC3B</td>\n",
       "      <td>3q26.31</td>\n",
       "      <td>protein_coding</td>\n",
       "      <td>2.695500e-24</td>\n",
       "      <td>0.8411</td>\n",
       "    </tr>\n",
       "    <tr>\n",
       "      <th>4</th>\n",
       "      <td>102_raw-Pulse_rate_automated_reading</td>\n",
       "      <td>ENSG00000075702</td>\n",
       "      <td>WDR62</td>\n",
       "      <td>19q13.12</td>\n",
       "      <td>protein_coding</td>\n",
       "      <td>8.858900e-11</td>\n",
       "      <td>1.2577</td>\n",
       "    </tr>\n",
       "  </tbody>\n",
       "</table>\n",
       "</div>"
      ],
      "text/plain": [
       "                                  trait          gene_id gene_name gene_band  \\\n",
       "0  102_raw-Pulse_rate_automated_reading  ENSG00000031003    FAM13B    5q31.2   \n",
       "1  102_raw-Pulse_rate_automated_reading  ENSG00000064989    CALCRL    2q32.1   \n",
       "2  102_raw-Pulse_rate_automated_reading  ENSG00000072195      SPEG      2q35   \n",
       "3  102_raw-Pulse_rate_automated_reading  ENSG00000075420    FNDC3B   3q26.31   \n",
       "4  102_raw-Pulse_rate_automated_reading  ENSG00000075702     WDR62  19q13.12   \n",
       "\n",
       "        gene_type  smultixcan_pval  fastenloc_rcp  \n",
       "0  protein_coding     9.316700e-29         0.8686  \n",
       "1  protein_coding     1.553000e-22         0.8632  \n",
       "2  protein_coding     1.707200e-38         0.8770  \n",
       "3  protein_coding     2.695500e-24         0.8411  \n",
       "4  protein_coding     8.858900e-11         1.2577  "
      ]
     },
     "execution_count": 79,
     "metadata": {},
     "output_type": "execute_result"
    }
   ],
   "source": [
    "_tmp.head()"
   ]
  },
  {
   "cell_type": "code",
   "execution_count": 80,
   "metadata": {},
   "outputs": [],
   "source": [
    "_tmp = _tmp.set_index(['trait', 'gene_id'])"
   ]
  },
  {
   "cell_type": "code",
   "execution_count": 82,
   "metadata": {},
   "outputs": [],
   "source": [
    "_result = _tmp.loc[('1180-Morningevening_person_chronotype', metadata.GENE_NAME_TO_ID_MAP['VIP'])]\n",
    "assert _result['smultixcan_pval'] == 1.8125e-17\n",
    "assert _result['fastenloc_rcp'] == 0.30421\n",
    "\n",
    "_result = _tmp.loc[('1180-Morningevening_person_chronotype', metadata.GENE_NAME_TO_ID_MAP['RP11-220I1.5'])]\n",
    "assert _result['smultixcan_pval'] == 6.4266e-11\n",
    "assert _result['fastenloc_rcp'] == 0.2150"
   ]
  },
  {
   "cell_type": "code",
   "execution_count": 83,
   "metadata": {},
   "outputs": [],
   "source": [
    "assert np.allclose(\n",
    "    _tmp[['smultixcan_pval', 'fastenloc_rcp']].values,\n",
    "    publishable_final_results[['smultixcan_pval', 'fastenloc_rcp']].values,\n",
    "    atol=1e-320,\n",
    "    rtol=1e-4\n",
    ")"
   ]
  },
  {
   "cell_type": "code",
   "execution_count": 85,
   "metadata": {},
   "outputs": [
    {
     "data": {
      "text/plain": [
       "'/mnt/phenomexcan_base/deliverables/supp_tables/suppl_table_S1-significant_gene_trait_associations.xlsx'"
      ]
     },
     "metadata": {},
     "output_type": "display_data"
    }
   ],
   "source": [
    "# for publication (xlsx)\n",
    "output_folder = os.path.join(conf.DELIVERABLES_DIR, 'supp_tables')\n",
    "os.makedirs(output_folder, exist_ok=True)\n",
    "output_file = os.path.join(output_folder, 'suppl_table_S1-significant_gene_trait_associations.xlsx')\n",
    "display(output_file)\n",
    "\n",
    "publishable_final_results.reset_index().to_excel(output_file, index=False, float_format='%.4e')"
   ]
  },
  {
   "cell_type": "code",
   "execution_count": 86,
   "metadata": {},
   "outputs": [],
   "source": [
    "# some testing\n",
    "_tmp = pd.read_excel(output_file)"
   ]
  },
  {
   "cell_type": "code",
   "execution_count": 87,
   "metadata": {},
   "outputs": [],
   "source": [
    "assert publishable_final_results.shape == _tmp.set_index(['trait', 'gene_id']).shape"
   ]
  },
  {
   "cell_type": "code",
   "execution_count": 88,
   "metadata": {},
   "outputs": [
    {
     "data": {
      "text/plain": [
       "(22473, 7)"
      ]
     },
     "execution_count": 88,
     "metadata": {},
     "output_type": "execute_result"
    }
   ],
   "source": [
    "_tmp.shape"
   ]
  },
  {
   "cell_type": "code",
   "execution_count": 89,
   "metadata": {},
   "outputs": [
    {
     "data": {
      "text/html": [
       "<div>\n",
       "<style scoped>\n",
       "    .dataframe tbody tr th:only-of-type {\n",
       "        vertical-align: middle;\n",
       "    }\n",
       "\n",
       "    .dataframe tbody tr th {\n",
       "        vertical-align: top;\n",
       "    }\n",
       "\n",
       "    .dataframe thead th {\n",
       "        text-align: right;\n",
       "    }\n",
       "</style>\n",
       "<table border=\"1\" class=\"dataframe\">\n",
       "  <thead>\n",
       "    <tr style=\"text-align: right;\">\n",
       "      <th></th>\n",
       "      <th>trait</th>\n",
       "      <th>gene_id</th>\n",
       "      <th>gene_name</th>\n",
       "      <th>gene_band</th>\n",
       "      <th>gene_type</th>\n",
       "      <th>smultixcan_pval</th>\n",
       "      <th>fastenloc_rcp</th>\n",
       "    </tr>\n",
       "  </thead>\n",
       "  <tbody>\n",
       "    <tr>\n",
       "      <th>0</th>\n",
       "      <td>102_raw-Pulse_rate_automated_reading</td>\n",
       "      <td>ENSG00000031003</td>\n",
       "      <td>FAM13B</td>\n",
       "      <td>5q31.2</td>\n",
       "      <td>protein_coding</td>\n",
       "      <td>9.316700e-29</td>\n",
       "      <td>0.8686</td>\n",
       "    </tr>\n",
       "    <tr>\n",
       "      <th>1</th>\n",
       "      <td>102_raw-Pulse_rate_automated_reading</td>\n",
       "      <td>ENSG00000064989</td>\n",
       "      <td>CALCRL</td>\n",
       "      <td>2q32.1</td>\n",
       "      <td>protein_coding</td>\n",
       "      <td>1.553000e-22</td>\n",
       "      <td>0.8632</td>\n",
       "    </tr>\n",
       "    <tr>\n",
       "      <th>2</th>\n",
       "      <td>102_raw-Pulse_rate_automated_reading</td>\n",
       "      <td>ENSG00000072195</td>\n",
       "      <td>SPEG</td>\n",
       "      <td>2q35</td>\n",
       "      <td>protein_coding</td>\n",
       "      <td>1.707200e-38</td>\n",
       "      <td>0.8770</td>\n",
       "    </tr>\n",
       "    <tr>\n",
       "      <th>3</th>\n",
       "      <td>102_raw-Pulse_rate_automated_reading</td>\n",
       "      <td>ENSG00000075420</td>\n",
       "      <td>FNDC3B</td>\n",
       "      <td>3q26.31</td>\n",
       "      <td>protein_coding</td>\n",
       "      <td>2.695500e-24</td>\n",
       "      <td>0.8411</td>\n",
       "    </tr>\n",
       "    <tr>\n",
       "      <th>4</th>\n",
       "      <td>102_raw-Pulse_rate_automated_reading</td>\n",
       "      <td>ENSG00000075702</td>\n",
       "      <td>WDR62</td>\n",
       "      <td>19q13.12</td>\n",
       "      <td>protein_coding</td>\n",
       "      <td>8.858900e-11</td>\n",
       "      <td>1.2577</td>\n",
       "    </tr>\n",
       "  </tbody>\n",
       "</table>\n",
       "</div>"
      ],
      "text/plain": [
       "                                  trait          gene_id gene_name gene_band  \\\n",
       "0  102_raw-Pulse_rate_automated_reading  ENSG00000031003    FAM13B    5q31.2   \n",
       "1  102_raw-Pulse_rate_automated_reading  ENSG00000064989    CALCRL    2q32.1   \n",
       "2  102_raw-Pulse_rate_automated_reading  ENSG00000072195      SPEG      2q35   \n",
       "3  102_raw-Pulse_rate_automated_reading  ENSG00000075420    FNDC3B   3q26.31   \n",
       "4  102_raw-Pulse_rate_automated_reading  ENSG00000075702     WDR62  19q13.12   \n",
       "\n",
       "        gene_type  smultixcan_pval  fastenloc_rcp  \n",
       "0  protein_coding     9.316700e-29         0.8686  \n",
       "1  protein_coding     1.553000e-22         0.8632  \n",
       "2  protein_coding     1.707200e-38         0.8770  \n",
       "3  protein_coding     2.695500e-24         0.8411  \n",
       "4  protein_coding     8.858900e-11         1.2577  "
      ]
     },
     "execution_count": 89,
     "metadata": {},
     "output_type": "execute_result"
    }
   ],
   "source": [
    "_tmp.head()"
   ]
  },
  {
   "cell_type": "code",
   "execution_count": 90,
   "metadata": {},
   "outputs": [],
   "source": [
    "_tmp = _tmp.set_index(['trait', 'gene_id'])"
   ]
  },
  {
   "cell_type": "code",
   "execution_count": 92,
   "metadata": {},
   "outputs": [],
   "source": [
    "_result = _tmp.loc[('1180-Morningevening_person_chronotype', metadata.GENE_NAME_TO_ID_MAP['VIP'])]\n",
    "assert _result['smultixcan_pval'] == 1.8125e-17\n",
    "assert _result['fastenloc_rcp'] == 0.30421\n",
    "\n",
    "_result = _tmp.loc[('1180-Morningevening_person_chronotype', metadata.GENE_NAME_TO_ID_MAP['RP11-220I1.5'])]\n",
    "assert _result['smultixcan_pval'] == 6.4266e-11\n",
    "assert _result['fastenloc_rcp'] == 0.2150"
   ]
  },
  {
   "cell_type": "code",
   "execution_count": 93,
   "metadata": {},
   "outputs": [],
   "source": [
    "assert np.allclose(\n",
    "    _tmp[['smultixcan_pval', 'fastenloc_rcp']].values,\n",
    "    publishable_final_results[['smultixcan_pval', 'fastenloc_rcp']].values,\n",
    "    atol=1e-320,\n",
    "    rtol=1e-4\n",
    ")"
   ]
  },
  {
   "cell_type": "markdown",
   "metadata": {},
   "source": [
    "# QQ plots"
   ]
  },
  {
   "cell_type": "code",
   "execution_count": null,
   "metadata": {},
   "outputs": [],
   "source": [
    "import plots\n",
    "from clustering.biclustering.analysis import Trait"
   ]
  },
  {
   "cell_type": "markdown",
   "metadata": {},
   "source": [
    "# Cholesterol"
   ]
  },
  {
   "cell_type": "code",
   "execution_count": null,
   "metadata": {},
   "outputs": [],
   "source": [
    "spredixcan_genes_associations.columns[spredixcan_genes_associations.columns.str.lower().str.contains('cholesterol')]"
   ]
  },
  {
   "cell_type": "code",
   "execution_count": null,
   "metadata": {},
   "outputs": [],
   "source": [
    "pheno_plain_name = '20002_1473-Noncancer_illness_code_selfreported_high_cholesterol'"
   ]
  },
  {
   "cell_type": "code",
   "execution_count": null,
   "metadata": {},
   "outputs": [],
   "source": [
    "pheno_pvalues = pd.Series(spredixcan_genes_associations[pheno_plain_name].values.flatten())\n",
    "display(pheno_pvalues.shape)"
   ]
  },
  {
   "cell_type": "code",
   "execution_count": null,
   "metadata": {},
   "outputs": [],
   "source": [
    "threshold = 1e-30\n",
    "\n",
    "unif_values = np.linspace(0.0001, 1, num=pheno_pvalues.shape[0])\n",
    "unif_values[unif_values < threshold] = threshold\n",
    "\n",
    "real_values = pheno_pvalues\n",
    "real_values[real_values < threshold] = threshold\n",
    "\n",
    "df = pd.DataFrame({'unif': unif_values, 'real': real_values})\n",
    "display(df.shape)"
   ]
  },
  {
   "cell_type": "code",
   "execution_count": null,
   "metadata": {},
   "outputs": [],
   "source": [
    "df_plot = df\n",
    "\n",
    "ax = plots.qqplot(-np.log10(df_plot), 'unif', 'real', xlabel='Expected $-\\log_{10}(p)$', ylabel='Observed $-\\log_{10}(p)$', s=5, linewidth=0)\n",
    "ax.set_xlim([0, 5])\n",
    "ax.set_title(Trait(pheno_plain_name).get_pretty_name())"
   ]
  },
  {
   "cell_type": "markdown",
   "metadata": {},
   "source": [
    "# Height"
   ]
  },
  {
   "cell_type": "code",
   "execution_count": null,
   "metadata": {},
   "outputs": [],
   "source": [
    "spredixcan_genes_associations.columns[spredixcan_genes_associations.columns.str.lower().str.contains('height')]"
   ]
  },
  {
   "cell_type": "code",
   "execution_count": null,
   "metadata": {},
   "outputs": [],
   "source": [
    "pheno_plain_name = '50_raw-Standing_height'"
   ]
  },
  {
   "cell_type": "code",
   "execution_count": null,
   "metadata": {},
   "outputs": [],
   "source": [
    "pheno_pvalues = pd.Series(spredixcan_genes_associations[pheno_plain_name].values.flatten())\n",
    "display(pheno_pvalues.shape)"
   ]
  },
  {
   "cell_type": "code",
   "execution_count": null,
   "metadata": {},
   "outputs": [],
   "source": [
    "threshold = 1e-30\n",
    "\n",
    "unif_values = np.linspace(0.0001, 1, num=pheno_pvalues.shape[0])\n",
    "unif_values[unif_values < threshold] = threshold\n",
    "\n",
    "real_values = pheno_pvalues\n",
    "real_values[real_values < threshold] = threshold\n",
    "\n",
    "df = pd.DataFrame({'unif': unif_values, 'real': real_values})\n",
    "display(df.shape)"
   ]
  },
  {
   "cell_type": "code",
   "execution_count": null,
   "metadata": {},
   "outputs": [],
   "source": [
    "df_plot = df\n",
    "\n",
    "ax = plots.qqplot(-np.log10(df_plot), 'unif', 'real', xlabel='Expected $-\\log_{10}(p)$', ylabel='Observed $-\\log_{10}(p)$', s=5, linewidth=0)\n",
    "ax.set_xlim([0, 5])\n",
    "ax.set_title(Trait(pheno_plain_name).get_pretty_name())"
   ]
  },
  {
   "cell_type": "markdown",
   "metadata": {},
   "source": [
    "# Schizophrenia"
   ]
  },
  {
   "cell_type": "code",
   "execution_count": null,
   "metadata": {},
   "outputs": [],
   "source": [
    "spredixcan_genes_associations.columns[spredixcan_genes_associations.columns.str.lower().str.contains('schizophrenia')]"
   ]
  },
  {
   "cell_type": "code",
   "execution_count": null,
   "metadata": {},
   "outputs": [],
   "source": [
    "pheno_plain_name = '20002_1289-Noncancer_illness_code_selfreported_schizophrenia'"
   ]
  },
  {
   "cell_type": "code",
   "execution_count": null,
   "metadata": {},
   "outputs": [],
   "source": [
    "pheno_pvalues = pd.Series(spredixcan_genes_associations[pheno_plain_name].values.flatten())\n",
    "display(pheno_pvalues.shape)"
   ]
  },
  {
   "cell_type": "code",
   "execution_count": null,
   "metadata": {},
   "outputs": [],
   "source": [
    "threshold = 1e-30\n",
    "\n",
    "unif_values = np.linspace(0.0001, 1, num=pheno_pvalues.shape[0])\n",
    "unif_values[unif_values < threshold] = threshold\n",
    "\n",
    "real_values = pheno_pvalues\n",
    "real_values[real_values < threshold] = threshold\n",
    "\n",
    "df = pd.DataFrame({'unif': unif_values, 'real': real_values})\n",
    "display(df.shape)"
   ]
  },
  {
   "cell_type": "code",
   "execution_count": null,
   "metadata": {},
   "outputs": [],
   "source": [
    "df_plot = df\n",
    "\n",
    "ax = plots.qqplot(-np.log10(df_plot), 'unif', 'real', xlabel='Expected $-\\log_{10}(p)$', ylabel='Observed $-\\log_{10}(p)$', s=5, linewidth=0)\n",
    "ax.set_xlim([0, 5])\n",
    "ax.set_title(Trait(pheno_plain_name).get_pretty_name())"
   ]
  },
  {
   "cell_type": "markdown",
   "metadata": {},
   "source": [
    "# All p-values"
   ]
  },
  {
   "cell_type": "code",
   "execution_count": null,
   "metadata": {},
   "outputs": [],
   "source": [
    "threshold = 1e-30\n",
    "\n",
    "unif_values = np.linspace(0.0001, 1, num=all_pvalues.shape[0])\n",
    "unif_values[unif_values < threshold] = threshold\n",
    "\n",
    "real_values = all_pvalues\n",
    "real_values[real_values < threshold] = threshold\n",
    "\n",
    "df = pd.DataFrame({'unif': unif_values, 'real': real_values})"
   ]
  },
  {
   "cell_type": "code",
   "execution_count": null,
   "metadata": {},
   "outputs": [],
   "source": [
    "df_plot = df\n",
    "\n",
    "ax = plots.qqplot(-np.log10(df_plot), 'unif', 'real', xlabel='Expected $-\\log_{10}(p)$', ylabel='Observed $-\\log_{10}(p)$', s=5, linewidth=0)\n",
    "ax.set_xlim([0, 5])"
   ]
  },
  {
   "cell_type": "code",
   "execution_count": null,
   "metadata": {},
   "outputs": [],
   "source": []
  }
 ],
 "metadata": {
  "kernelspec": {
   "display_name": "Python 3",
   "language": "python",
   "name": "python3"
  },
  "language_info": {
   "codemirror_mode": {
    "name": "ipython",
    "version": 3
   },
   "file_extension": ".py",
   "mimetype": "text/x-python",
   "name": "python",
   "nbconvert_exporter": "python",
   "pygments_lexer": "ipython3",
   "version": "3.7.5"
  }
 },
 "nbformat": 4,
 "nbformat_minor": 4
}
