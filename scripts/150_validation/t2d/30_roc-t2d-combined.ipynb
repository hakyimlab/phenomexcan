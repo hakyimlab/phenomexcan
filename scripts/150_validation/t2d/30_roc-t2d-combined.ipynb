{
 "cells": [
  {
   "cell_type": "code",
   "execution_count": 1,
   "metadata": {},
   "outputs": [],
   "source": [
    "%load_ext autoreload\n",
    "%autoreload 2"
   ]
  },
  {
   "cell_type": "code",
   "execution_count": 2,
   "metadata": {},
   "outputs": [],
   "source": [
    "import os\n",
    "import pickle\n",
    "\n",
    "import numpy as np\n",
    "import pandas as pd\n",
    "\n",
    "import settings as conf"
   ]
  },
  {
   "cell_type": "code",
   "execution_count": 3,
   "metadata": {},
   "outputs": [
    {
     "data": {
      "text/plain": [
       "'/home/miltondp/projects/labs/hakyimlab/phenomexcan/base/deliverables/roc_validation/classifier_tables/t2d'"
      ]
     },
     "metadata": {},
     "output_type": "display_data"
    }
   ],
   "source": [
    "output_dir = os.path.join(conf.DELIVERABLES_DIR, 'roc_validation', 'classifier_tables', 't2d')\n",
    "os.makedirs(output_dir, exist_ok=True)\n",
    "display(output_dir)"
   ]
  },
  {
   "cell_type": "markdown",
   "metadata": {},
   "source": [
    "# Load gene mappings"
   ]
  },
  {
   "cell_type": "code",
   "execution_count": 4,
   "metadata": {},
   "outputs": [],
   "source": [
    "with open(os.path.join(conf.GENES_METADATA_DIR, 'genes_mapping_simplified-0.pkl'), 'rb') as f:\n",
    "    genes_mapping_0 = pickle.load(f)\n",
    "\n",
    "with open(os.path.join(conf.GENES_METADATA_DIR, 'genes_mapping_simplified-1.pkl'), 'rb') as f:\n",
    "    genes_mapping_1 = pickle.load(f)"
   ]
  },
  {
   "cell_type": "markdown",
   "metadata": {},
   "source": [
    "# Load T2D genes"
   ]
  },
  {
   "cell_type": "code",
   "execution_count": 5,
   "metadata": {},
   "outputs": [
    {
     "data": {
      "text/plain": [
       "'/home/miltondp/projects/labs/hakyimlab/phenomexcan/base/deliverables/roc_validation/classifier_tables/t2d/t2d_genes.pkl.xz'"
      ]
     },
     "metadata": {},
     "output_type": "display_data"
    }
   ],
   "source": [
    "t2d_genes_filename = os.path.join(output_dir, 't2d_genes.pkl.xz')\n",
    "display(t2d_genes_filename)"
   ]
  },
  {
   "cell_type": "code",
   "execution_count": 6,
   "metadata": {},
   "outputs": [],
   "source": [
    "all_t2d_genes = pd.read_pickle(t2d_genes_filename)"
   ]
  },
  {
   "cell_type": "code",
   "execution_count": 7,
   "metadata": {},
   "outputs": [
    {
     "data": {
      "text/plain": [
       "(76, 3)"
      ]
     },
     "execution_count": 7,
     "metadata": {},
     "output_type": "execute_result"
    }
   ],
   "source": [
    "all_t2d_genes.shape"
   ]
  },
  {
   "cell_type": "code",
   "execution_count": 8,
   "metadata": {},
   "outputs": [
    {
     "data": {
      "text/html": [
       "<div>\n",
       "<style scoped>\n",
       "    .dataframe tbody tr th:only-of-type {\n",
       "        vertical-align: middle;\n",
       "    }\n",
       "\n",
       "    .dataframe tbody tr th {\n",
       "        vertical-align: top;\n",
       "    }\n",
       "\n",
       "    .dataframe thead th {\n",
       "        text-align: right;\n",
       "    }\n",
       "</style>\n",
       "<table border=\"1\" class=\"dataframe\">\n",
       "  <thead>\n",
       "    <tr style=\"text-align: right;\">\n",
       "      <th></th>\n",
       "      <th>gene_id</th>\n",
       "      <th>gene_name</th>\n",
       "      <th>type</th>\n",
       "    </tr>\n",
       "  </thead>\n",
       "  <tbody>\n",
       "    <tr>\n",
       "      <th>0</th>\n",
       "      <td>ENSG00000006071</td>\n",
       "      <td>ABCC8</td>\n",
       "      <td>causal</td>\n",
       "    </tr>\n",
       "    <tr>\n",
       "      <th>1</th>\n",
       "      <td>ENSG00000167772</td>\n",
       "      <td>ANGPTL4</td>\n",
       "      <td>causal</td>\n",
       "    </tr>\n",
       "    <tr>\n",
       "      <th>2</th>\n",
       "      <td>ENSG00000154122</td>\n",
       "      <td>ANKH</td>\n",
       "      <td>causal</td>\n",
       "    </tr>\n",
       "    <tr>\n",
       "      <th>3</th>\n",
       "      <td>ENSG00000130203</td>\n",
       "      <td>APOE</td>\n",
       "      <td>causal</td>\n",
       "    </tr>\n",
       "    <tr>\n",
       "      <th>4</th>\n",
       "      <td>ENSG00000111276</td>\n",
       "      <td>CDKN1B</td>\n",
       "      <td>causal</td>\n",
       "    </tr>\n",
       "  </tbody>\n",
       "</table>\n",
       "</div>"
      ],
      "text/plain": [
       "           gene_id gene_name    type\n",
       "0  ENSG00000006071     ABCC8  causal\n",
       "1  ENSG00000167772   ANGPTL4  causal\n",
       "2  ENSG00000154122      ANKH  causal\n",
       "3  ENSG00000130203      APOE  causal\n",
       "4  ENSG00000111276    CDKN1B  causal"
      ]
     },
     "execution_count": 8,
     "metadata": {},
     "output_type": "execute_result"
    }
   ],
   "source": [
    "all_t2d_genes.head()"
   ]
  },
  {
   "cell_type": "markdown",
   "metadata": {},
   "source": [
    "# Load selected T2D traits"
   ]
  },
  {
   "cell_type": "code",
   "execution_count": 9,
   "metadata": {},
   "outputs": [],
   "source": [
    "t2d_traits_filename = os.path.join(output_dir, 't2d_traits.pkl.xz')"
   ]
  },
  {
   "cell_type": "code",
   "execution_count": 10,
   "metadata": {},
   "outputs": [],
   "source": [
    "diabetes_traits = pd.read_pickle(t2d_traits_filename).to_list()"
   ]
  },
  {
   "cell_type": "code",
   "execution_count": 11,
   "metadata": {},
   "outputs": [
    {
     "data": {
      "text/plain": [
       "['E11-Diagnoses_main_ICD10_E11_Noninsulindependent_diabetes_mellitus',\n",
       " '20002_1223-Noncancer_illness_code_selfreported_type_2_diabetes',\n",
       " 'E14-Diagnoses_main_ICD10_E14_Unspecified_diabetes_mellitus',\n",
       " 'E4_DM2NOCOMP-Type_2_diabetes_without_complications',\n",
       " 'E4_DM2OPTH-Type_2_diabetes_with_ophthalmic_complications',\n",
       " 'E4_DM2-Type_2_diabetes',\n",
       " 'E4_DM2PERIPH-Type_2_diabetes_with_peripheral_circulatory_complications']"
      ]
     },
     "execution_count": 11,
     "metadata": {},
     "output_type": "execute_result"
    }
   ],
   "source": [
    "diabetes_traits"
   ]
  },
  {
   "cell_type": "markdown",
   "metadata": {},
   "source": [
    "# Load S-MultiXcan results"
   ]
  },
  {
   "cell_type": "code",
   "execution_count": 12,
   "metadata": {},
   "outputs": [
    {
     "data": {
      "text/plain": [
       "'/home/miltondp/projects/labs/hakyimlab/phenomexcan/base/gene_assoc/smultixcan-mashr-zscores.pkl.xz'"
      ]
     },
     "metadata": {},
     "output_type": "display_data"
    }
   ],
   "source": [
    "smultixcan_zscores_filename = os.path.join(conf.GENE_ASSOC_DIR, 'smultixcan-mashr-zscores.pkl.xz')\n",
    "display(smultixcan_zscores_filename)\n",
    "\n",
    "smultixcan_zscores = pd.read_pickle(smultixcan_zscores_filename)"
   ]
  },
  {
   "cell_type": "code",
   "execution_count": 13,
   "metadata": {},
   "outputs": [
    {
     "data": {
      "text/plain": [
       "(22515, 4091)"
      ]
     },
     "execution_count": 13,
     "metadata": {},
     "output_type": "execute_result"
    }
   ],
   "source": [
    "smultixcan_zscores.shape"
   ]
  },
  {
   "cell_type": "code",
   "execution_count": 14,
   "metadata": {},
   "outputs": [
    {
     "data": {
      "text/html": [
       "<div>\n",
       "<style scoped>\n",
       "    .dataframe tbody tr th:only-of-type {\n",
       "        vertical-align: middle;\n",
       "    }\n",
       "\n",
       "    .dataframe tbody tr th {\n",
       "        vertical-align: top;\n",
       "    }\n",
       "\n",
       "    .dataframe thead th {\n",
       "        text-align: right;\n",
       "    }\n",
       "</style>\n",
       "<table border=\"1\" class=\"dataframe\">\n",
       "  <thead>\n",
       "    <tr style=\"text-align: right;\">\n",
       "      <th></th>\n",
       "      <th>20096_1-Size_of_red_wine_glass_drunk_small_125ml</th>\n",
       "      <th>2345-Ever_had_bowel_cancer_screening</th>\n",
       "      <th>N49-Diagnoses_main_ICD10_N49_Inflammatory_disorders_of_male_genital_organs_not_elsewhere_classified</th>\n",
       "      <th>100011_raw-Iron</th>\n",
       "      <th>5221-Index_of_best_refractometry_result_right</th>\n",
       "      <th>20003_1141150624-Treatmentmedication_code_zomig_25mg_tablet</th>\n",
       "      <th>S69-Diagnoses_main_ICD10_S69_Other_and_unspecified_injuries_of_wrist_and_hand</th>\n",
       "      <th>20024_1136-Job_code_deduced_Information_and_communication_technology_managers</th>\n",
       "      <th>20002_1385-Noncancer_illness_code_selfreported_allergy_or_anaphylactic_reaction_to_food</th>\n",
       "      <th>G6_SLEEPAPNO-Sleep_apnoea</th>\n",
       "      <th>...</th>\n",
       "      <th>Astle_et_al_2016_Sum_basophil_neutrophil_counts</th>\n",
       "      <th>RA_OKADA_TRANS_ETHNIC</th>\n",
       "      <th>pgc.scz2</th>\n",
       "      <th>PGC_ADHD_EUR_2017</th>\n",
       "      <th>MAGIC_FastingGlucose</th>\n",
       "      <th>Astle_et_al_2016_Red_blood_cell_count</th>\n",
       "      <th>SSGAC_Depressive_Symptoms</th>\n",
       "      <th>BCAC_ER_positive_BreastCancer_EUR</th>\n",
       "      <th>IBD.EUR.Inflammatory_Bowel_Disease</th>\n",
       "      <th>Astle_et_al_2016_High_light_scatter_reticulocyte_count</th>\n",
       "    </tr>\n",
       "    <tr>\n",
       "      <th>gene_name</th>\n",
       "      <th></th>\n",
       "      <th></th>\n",
       "      <th></th>\n",
       "      <th></th>\n",
       "      <th></th>\n",
       "      <th></th>\n",
       "      <th></th>\n",
       "      <th></th>\n",
       "      <th></th>\n",
       "      <th></th>\n",
       "      <th></th>\n",
       "      <th></th>\n",
       "      <th></th>\n",
       "      <th></th>\n",
       "      <th></th>\n",
       "      <th></th>\n",
       "      <th></th>\n",
       "      <th></th>\n",
       "      <th></th>\n",
       "      <th></th>\n",
       "      <th></th>\n",
       "    </tr>\n",
       "  </thead>\n",
       "  <tbody>\n",
       "    <tr>\n",
       "      <th>ENSG00000000419</th>\n",
       "      <td>0.169468</td>\n",
       "      <td>0.102558</td>\n",
       "      <td>0.239545</td>\n",
       "      <td>0.887758</td>\n",
       "      <td>1.313448</td>\n",
       "      <td>1.472148</td>\n",
       "      <td>0.726160</td>\n",
       "      <td>1.516367</td>\n",
       "      <td>1.299771</td>\n",
       "      <td>1.068093</td>\n",
       "      <td>...</td>\n",
       "      <td>0.813014</td>\n",
       "      <td>0.275993</td>\n",
       "      <td>0.510834</td>\n",
       "      <td>0.024717</td>\n",
       "      <td>0.430951</td>\n",
       "      <td>0.824314</td>\n",
       "      <td>0.367414</td>\n",
       "      <td>1.377624</td>\n",
       "      <td>0.738444</td>\n",
       "      <td>0.298259</td>\n",
       "    </tr>\n",
       "    <tr>\n",
       "      <th>ENSG00000000457</th>\n",
       "      <td>1.358856</td>\n",
       "      <td>1.846875</td>\n",
       "      <td>0.139324</td>\n",
       "      <td>0.129530</td>\n",
       "      <td>0.757757</td>\n",
       "      <td>1.103979</td>\n",
       "      <td>0.612418</td>\n",
       "      <td>1.822327</td>\n",
       "      <td>2.035372</td>\n",
       "      <td>1.008058</td>\n",
       "      <td>...</td>\n",
       "      <td>1.441795</td>\n",
       "      <td>0.654791</td>\n",
       "      <td>2.545653</td>\n",
       "      <td>1.202984</td>\n",
       "      <td>0.514244</td>\n",
       "      <td>0.237223</td>\n",
       "      <td>0.414171</td>\n",
       "      <td>0.101731</td>\n",
       "      <td>1.012735</td>\n",
       "      <td>0.945167</td>\n",
       "    </tr>\n",
       "    <tr>\n",
       "      <th>ENSG00000000460</th>\n",
       "      <td>0.151008</td>\n",
       "      <td>1.173202</td>\n",
       "      <td>1.179426</td>\n",
       "      <td>0.571656</td>\n",
       "      <td>0.098771</td>\n",
       "      <td>0.221072</td>\n",
       "      <td>0.276415</td>\n",
       "      <td>0.461381</td>\n",
       "      <td>0.855502</td>\n",
       "      <td>0.201876</td>\n",
       "      <td>...</td>\n",
       "      <td>0.668962</td>\n",
       "      <td>0.300040</td>\n",
       "      <td>0.541782</td>\n",
       "      <td>1.033308</td>\n",
       "      <td>0.482261</td>\n",
       "      <td>0.695624</td>\n",
       "      <td>0.336480</td>\n",
       "      <td>0.083316</td>\n",
       "      <td>3.493196</td>\n",
       "      <td>0.991948</td>\n",
       "    </tr>\n",
       "    <tr>\n",
       "      <th>ENSG00000000938</th>\n",
       "      <td>1.302722</td>\n",
       "      <td>0.841524</td>\n",
       "      <td>1.578926</td>\n",
       "      <td>0.721340</td>\n",
       "      <td>0.139314</td>\n",
       "      <td>4.387016</td>\n",
       "      <td>0.125959</td>\n",
       "      <td>1.247123</td>\n",
       "      <td>0.215124</td>\n",
       "      <td>0.892083</td>\n",
       "      <td>...</td>\n",
       "      <td>0.126657</td>\n",
       "      <td>0.048048</td>\n",
       "      <td>1.886356</td>\n",
       "      <td>0.540496</td>\n",
       "      <td>0.127524</td>\n",
       "      <td>1.494501</td>\n",
       "      <td>0.056432</td>\n",
       "      <td>1.704863</td>\n",
       "      <td>1.351619</td>\n",
       "      <td>1.027297</td>\n",
       "    </tr>\n",
       "    <tr>\n",
       "      <th>ENSG00000000971</th>\n",
       "      <td>1.338813</td>\n",
       "      <td>0.262339</td>\n",
       "      <td>0.689379</td>\n",
       "      <td>1.702019</td>\n",
       "      <td>0.325859</td>\n",
       "      <td>0.063161</td>\n",
       "      <td>1.141126</td>\n",
       "      <td>0.882682</td>\n",
       "      <td>0.035533</td>\n",
       "      <td>1.810191</td>\n",
       "      <td>...</td>\n",
       "      <td>0.858497</td>\n",
       "      <td>1.675562</td>\n",
       "      <td>2.319072</td>\n",
       "      <td>1.598721</td>\n",
       "      <td>0.162958</td>\n",
       "      <td>0.005703</td>\n",
       "      <td>3.004544</td>\n",
       "      <td>0.803669</td>\n",
       "      <td>0.444266</td>\n",
       "      <td>0.165671</td>\n",
       "    </tr>\n",
       "  </tbody>\n",
       "</table>\n",
       "<p>5 rows × 4091 columns</p>\n",
       "</div>"
      ],
      "text/plain": [
       "                 20096_1-Size_of_red_wine_glass_drunk_small_125ml  \\\n",
       "gene_name                                                           \n",
       "ENSG00000000419                                          0.169468   \n",
       "ENSG00000000457                                          1.358856   \n",
       "ENSG00000000460                                          0.151008   \n",
       "ENSG00000000938                                          1.302722   \n",
       "ENSG00000000971                                          1.338813   \n",
       "\n",
       "                 2345-Ever_had_bowel_cancer_screening  \\\n",
       "gene_name                                               \n",
       "ENSG00000000419                              0.102558   \n",
       "ENSG00000000457                              1.846875   \n",
       "ENSG00000000460                              1.173202   \n",
       "ENSG00000000938                              0.841524   \n",
       "ENSG00000000971                              0.262339   \n",
       "\n",
       "                 N49-Diagnoses_main_ICD10_N49_Inflammatory_disorders_of_male_genital_organs_not_elsewhere_classified  \\\n",
       "gene_name                                                                                                              \n",
       "ENSG00000000419                                           0.239545                                                     \n",
       "ENSG00000000457                                           0.139324                                                     \n",
       "ENSG00000000460                                           1.179426                                                     \n",
       "ENSG00000000938                                           1.578926                                                     \n",
       "ENSG00000000971                                           0.689379                                                     \n",
       "\n",
       "                 100011_raw-Iron  \\\n",
       "gene_name                          \n",
       "ENSG00000000419         0.887758   \n",
       "ENSG00000000457         0.129530   \n",
       "ENSG00000000460         0.571656   \n",
       "ENSG00000000938         0.721340   \n",
       "ENSG00000000971         1.702019   \n",
       "\n",
       "                 5221-Index_of_best_refractometry_result_right  \\\n",
       "gene_name                                                        \n",
       "ENSG00000000419                                       1.313448   \n",
       "ENSG00000000457                                       0.757757   \n",
       "ENSG00000000460                                       0.098771   \n",
       "ENSG00000000938                                       0.139314   \n",
       "ENSG00000000971                                       0.325859   \n",
       "\n",
       "                 20003_1141150624-Treatmentmedication_code_zomig_25mg_tablet  \\\n",
       "gene_name                                                                      \n",
       "ENSG00000000419                                           1.472148             \n",
       "ENSG00000000457                                           1.103979             \n",
       "ENSG00000000460                                           0.221072             \n",
       "ENSG00000000938                                           4.387016             \n",
       "ENSG00000000971                                           0.063161             \n",
       "\n",
       "                 S69-Diagnoses_main_ICD10_S69_Other_and_unspecified_injuries_of_wrist_and_hand  \\\n",
       "gene_name                                                                                        \n",
       "ENSG00000000419                                           0.726160                               \n",
       "ENSG00000000457                                           0.612418                               \n",
       "ENSG00000000460                                           0.276415                               \n",
       "ENSG00000000938                                           0.125959                               \n",
       "ENSG00000000971                                           1.141126                               \n",
       "\n",
       "                 20024_1136-Job_code_deduced_Information_and_communication_technology_managers  \\\n",
       "gene_name                                                                                        \n",
       "ENSG00000000419                                           1.516367                               \n",
       "ENSG00000000457                                           1.822327                               \n",
       "ENSG00000000460                                           0.461381                               \n",
       "ENSG00000000938                                           1.247123                               \n",
       "ENSG00000000971                                           0.882682                               \n",
       "\n",
       "                 20002_1385-Noncancer_illness_code_selfreported_allergy_or_anaphylactic_reaction_to_food  \\\n",
       "gene_name                                                                                                  \n",
       "ENSG00000000419                                           1.299771                                         \n",
       "ENSG00000000457                                           2.035372                                         \n",
       "ENSG00000000460                                           0.855502                                         \n",
       "ENSG00000000938                                           0.215124                                         \n",
       "ENSG00000000971                                           0.035533                                         \n",
       "\n",
       "                 G6_SLEEPAPNO-Sleep_apnoea  ...  \\\n",
       "gene_name                                   ...   \n",
       "ENSG00000000419                   1.068093  ...   \n",
       "ENSG00000000457                   1.008058  ...   \n",
       "ENSG00000000460                   0.201876  ...   \n",
       "ENSG00000000938                   0.892083  ...   \n",
       "ENSG00000000971                   1.810191  ...   \n",
       "\n",
       "                 Astle_et_al_2016_Sum_basophil_neutrophil_counts  \\\n",
       "gene_name                                                          \n",
       "ENSG00000000419                                         0.813014   \n",
       "ENSG00000000457                                         1.441795   \n",
       "ENSG00000000460                                         0.668962   \n",
       "ENSG00000000938                                         0.126657   \n",
       "ENSG00000000971                                         0.858497   \n",
       "\n",
       "                 RA_OKADA_TRANS_ETHNIC  pgc.scz2  PGC_ADHD_EUR_2017  \\\n",
       "gene_name                                                             \n",
       "ENSG00000000419               0.275993  0.510834           0.024717   \n",
       "ENSG00000000457               0.654791  2.545653           1.202984   \n",
       "ENSG00000000460               0.300040  0.541782           1.033308   \n",
       "ENSG00000000938               0.048048  1.886356           0.540496   \n",
       "ENSG00000000971               1.675562  2.319072           1.598721   \n",
       "\n",
       "                 MAGIC_FastingGlucose  Astle_et_al_2016_Red_blood_cell_count  \\\n",
       "gene_name                                                                      \n",
       "ENSG00000000419              0.430951                               0.824314   \n",
       "ENSG00000000457              0.514244                               0.237223   \n",
       "ENSG00000000460              0.482261                               0.695624   \n",
       "ENSG00000000938              0.127524                               1.494501   \n",
       "ENSG00000000971              0.162958                               0.005703   \n",
       "\n",
       "                 SSGAC_Depressive_Symptoms  BCAC_ER_positive_BreastCancer_EUR  \\\n",
       "gene_name                                                                       \n",
       "ENSG00000000419                   0.367414                           1.377624   \n",
       "ENSG00000000457                   0.414171                           0.101731   \n",
       "ENSG00000000460                   0.336480                           0.083316   \n",
       "ENSG00000000938                   0.056432                           1.704863   \n",
       "ENSG00000000971                   3.004544                           0.803669   \n",
       "\n",
       "                 IBD.EUR.Inflammatory_Bowel_Disease  \\\n",
       "gene_name                                             \n",
       "ENSG00000000419                            0.738444   \n",
       "ENSG00000000457                            1.012735   \n",
       "ENSG00000000460                            3.493196   \n",
       "ENSG00000000938                            1.351619   \n",
       "ENSG00000000971                            0.444266   \n",
       "\n",
       "                 Astle_et_al_2016_High_light_scatter_reticulocyte_count  \n",
       "gene_name                                                                \n",
       "ENSG00000000419                                           0.298259       \n",
       "ENSG00000000457                                           0.945167       \n",
       "ENSG00000000460                                           0.991948       \n",
       "ENSG00000000938                                           1.027297       \n",
       "ENSG00000000971                                           0.165671       \n",
       "\n",
       "[5 rows x 4091 columns]"
      ]
     },
     "execution_count": 14,
     "metadata": {},
     "output_type": "execute_result"
    }
   ],
   "source": [
    "smultixcan_zscores.head(5)"
   ]
  },
  {
   "cell_type": "markdown",
   "metadata": {},
   "source": [
    "# Load fastENLOC results"
   ]
  },
  {
   "cell_type": "code",
   "execution_count": 15,
   "metadata": {},
   "outputs": [
    {
     "data": {
      "text/plain": [
       "'/home/miltondp/projects/labs/hakyimlab/phenomexcan/base/gene_assoc/fastenloc-torus-rcp.pkl.xz'"
      ]
     },
     "metadata": {},
     "output_type": "display_data"
    }
   ],
   "source": [
    "fastenloc_rcp_filename = os.path.join(conf.GENE_ASSOC_DIR, 'fastenloc-torus-rcp.pkl.xz')\n",
    "display(fastenloc_rcp_filename)\n",
    "\n",
    "fastenloc_rcp = pd.read_pickle(fastenloc_rcp_filename)"
   ]
  },
  {
   "cell_type": "code",
   "execution_count": 16,
   "metadata": {},
   "outputs": [
    {
     "data": {
      "text/plain": [
       "(38062, 4091)"
      ]
     },
     "execution_count": 16,
     "metadata": {},
     "output_type": "execute_result"
    }
   ],
   "source": [
    "fastenloc_rcp.shape"
   ]
  },
  {
   "cell_type": "code",
   "execution_count": 17,
   "metadata": {},
   "outputs": [
    {
     "data": {
      "text/html": [
       "<div>\n",
       "<style scoped>\n",
       "    .dataframe tbody tr th:only-of-type {\n",
       "        vertical-align: middle;\n",
       "    }\n",
       "\n",
       "    .dataframe tbody tr th {\n",
       "        vertical-align: top;\n",
       "    }\n",
       "\n",
       "    .dataframe thead th {\n",
       "        text-align: right;\n",
       "    }\n",
       "</style>\n",
       "<table border=\"1\" class=\"dataframe\">\n",
       "  <thead>\n",
       "    <tr style=\"text-align: right;\">\n",
       "      <th></th>\n",
       "      <th>O46-Diagnoses_main_ICD10_O46_Antepartum_haemorrhage_not_elsewhere_classified</th>\n",
       "      <th>K30-Diagnoses_main_ICD10_K30_Dyspepsia</th>\n",
       "      <th>2907-Ever_stopped_smoking_for_6_months</th>\n",
       "      <th>H7_DIPLOPIA-Diplopia</th>\n",
       "      <th>1538_0-Major_dietary_changes_in_the_last_5_years_No</th>\n",
       "      <th>5663-Length_of_longest_manicirritable_episode</th>\n",
       "      <th>20002_1538-Noncancer_illness_code_selfreported_arthritis_nos</th>\n",
       "      <th>S30-Diagnoses_main_ICD10_S30_Superficial_injury_of_abdomen_lower_back_and_pelvis</th>\n",
       "      <th>24010_raw-Inverse_distance_to_the_nearest_road</th>\n",
       "      <th>3143_raw-Ankle_spacing_width</th>\n",
       "      <th>...</th>\n",
       "      <th>2237-Plays_computer_games</th>\n",
       "      <th>20002_1461-Noncancer_illness_code_selfreported_inflammatory_bowel_disease</th>\n",
       "      <th>20002_1508-Noncancer_illness_code_selfreported_jaundice_unknown_cause</th>\n",
       "      <th>20003_1140881882-Treatmentmedication_code_timoptol_025_eye_drops</th>\n",
       "      <th>22601_71253330-Job_coding_merchandiser_window_dresser</th>\n",
       "      <th>23112_raw-Leg_fat_mass_right</th>\n",
       "      <th>20003_1140861778-Treatmentmedication_code_dipyridamole</th>\n",
       "      <th>20003_1199-Treatmentmedication_code_food_supplementplantherbal_extract</th>\n",
       "      <th>1309-Fresh_fruit_intake</th>\n",
       "      <th>100920_2105-Type_milk_consumed_soya_with_calcium</th>\n",
       "    </tr>\n",
       "    <tr>\n",
       "      <th>gene_id</th>\n",
       "      <th></th>\n",
       "      <th></th>\n",
       "      <th></th>\n",
       "      <th></th>\n",
       "      <th></th>\n",
       "      <th></th>\n",
       "      <th></th>\n",
       "      <th></th>\n",
       "      <th></th>\n",
       "      <th></th>\n",
       "      <th></th>\n",
       "      <th></th>\n",
       "      <th></th>\n",
       "      <th></th>\n",
       "      <th></th>\n",
       "      <th></th>\n",
       "      <th></th>\n",
       "      <th></th>\n",
       "      <th></th>\n",
       "      <th></th>\n",
       "      <th></th>\n",
       "    </tr>\n",
       "  </thead>\n",
       "  <tbody>\n",
       "    <tr>\n",
       "      <th>ENSG00000000419</th>\n",
       "      <td>NaN</td>\n",
       "      <td>NaN</td>\n",
       "      <td>NaN</td>\n",
       "      <td>NaN</td>\n",
       "      <td>0.001213</td>\n",
       "      <td>NaN</td>\n",
       "      <td>NaN</td>\n",
       "      <td>NaN</td>\n",
       "      <td>NaN</td>\n",
       "      <td>NaN</td>\n",
       "      <td>...</td>\n",
       "      <td>NaN</td>\n",
       "      <td>NaN</td>\n",
       "      <td>NaN</td>\n",
       "      <td>NaN</td>\n",
       "      <td>NaN</td>\n",
       "      <td>NaN</td>\n",
       "      <td>NaN</td>\n",
       "      <td>NaN</td>\n",
       "      <td>0.002131</td>\n",
       "      <td>NaN</td>\n",
       "    </tr>\n",
       "    <tr>\n",
       "      <th>ENSG00000000457</th>\n",
       "      <td>NaN</td>\n",
       "      <td>NaN</td>\n",
       "      <td>NaN</td>\n",
       "      <td>NaN</td>\n",
       "      <td>0.001873</td>\n",
       "      <td>NaN</td>\n",
       "      <td>NaN</td>\n",
       "      <td>NaN</td>\n",
       "      <td>NaN</td>\n",
       "      <td>0.017720</td>\n",
       "      <td>...</td>\n",
       "      <td>0.068852</td>\n",
       "      <td>NaN</td>\n",
       "      <td>NaN</td>\n",
       "      <td>NaN</td>\n",
       "      <td>NaN</td>\n",
       "      <td>0.003383</td>\n",
       "      <td>NaN</td>\n",
       "      <td>NaN</td>\n",
       "      <td>0.009195</td>\n",
       "      <td>NaN</td>\n",
       "    </tr>\n",
       "    <tr>\n",
       "      <th>ENSG00000000460</th>\n",
       "      <td>NaN</td>\n",
       "      <td>NaN</td>\n",
       "      <td>NaN</td>\n",
       "      <td>NaN</td>\n",
       "      <td>0.002620</td>\n",
       "      <td>NaN</td>\n",
       "      <td>NaN</td>\n",
       "      <td>0.000207</td>\n",
       "      <td>NaN</td>\n",
       "      <td>0.000105</td>\n",
       "      <td>...</td>\n",
       "      <td>0.093284</td>\n",
       "      <td>NaN</td>\n",
       "      <td>NaN</td>\n",
       "      <td>NaN</td>\n",
       "      <td>NaN</td>\n",
       "      <td>0.008790</td>\n",
       "      <td>NaN</td>\n",
       "      <td>NaN</td>\n",
       "      <td>0.003105</td>\n",
       "      <td>NaN</td>\n",
       "    </tr>\n",
       "    <tr>\n",
       "      <th>ENSG00000000938</th>\n",
       "      <td>NaN</td>\n",
       "      <td>NaN</td>\n",
       "      <td>NaN</td>\n",
       "      <td>NaN</td>\n",
       "      <td>0.002928</td>\n",
       "      <td>NaN</td>\n",
       "      <td>NaN</td>\n",
       "      <td>NaN</td>\n",
       "      <td>0.000762</td>\n",
       "      <td>0.012773</td>\n",
       "      <td>...</td>\n",
       "      <td>0.004300</td>\n",
       "      <td>NaN</td>\n",
       "      <td>NaN</td>\n",
       "      <td>0.000424</td>\n",
       "      <td>NaN</td>\n",
       "      <td>0.000612</td>\n",
       "      <td>NaN</td>\n",
       "      <td>NaN</td>\n",
       "      <td>0.003240</td>\n",
       "      <td>NaN</td>\n",
       "    </tr>\n",
       "    <tr>\n",
       "      <th>ENSG00000000971</th>\n",
       "      <td>NaN</td>\n",
       "      <td>NaN</td>\n",
       "      <td>NaN</td>\n",
       "      <td>NaN</td>\n",
       "      <td>0.002858</td>\n",
       "      <td>NaN</td>\n",
       "      <td>NaN</td>\n",
       "      <td>NaN</td>\n",
       "      <td>NaN</td>\n",
       "      <td>0.019304</td>\n",
       "      <td>...</td>\n",
       "      <td>0.005419</td>\n",
       "      <td>NaN</td>\n",
       "      <td>NaN</td>\n",
       "      <td>NaN</td>\n",
       "      <td>NaN</td>\n",
       "      <td>0.007427</td>\n",
       "      <td>NaN</td>\n",
       "      <td>NaN</td>\n",
       "      <td>0.004804</td>\n",
       "      <td>NaN</td>\n",
       "    </tr>\n",
       "  </tbody>\n",
       "</table>\n",
       "<p>5 rows × 4091 columns</p>\n",
       "</div>"
      ],
      "text/plain": [
       "                 O46-Diagnoses_main_ICD10_O46_Antepartum_haemorrhage_not_elsewhere_classified  \\\n",
       "gene_id                                                                                         \n",
       "ENSG00000000419                                                NaN                              \n",
       "ENSG00000000457                                                NaN                              \n",
       "ENSG00000000460                                                NaN                              \n",
       "ENSG00000000938                                                NaN                              \n",
       "ENSG00000000971                                                NaN                              \n",
       "\n",
       "                 K30-Diagnoses_main_ICD10_K30_Dyspepsia  \\\n",
       "gene_id                                                   \n",
       "ENSG00000000419                                     NaN   \n",
       "ENSG00000000457                                     NaN   \n",
       "ENSG00000000460                                     NaN   \n",
       "ENSG00000000938                                     NaN   \n",
       "ENSG00000000971                                     NaN   \n",
       "\n",
       "                 2907-Ever_stopped_smoking_for_6_months  H7_DIPLOPIA-Diplopia  \\\n",
       "gene_id                                                                         \n",
       "ENSG00000000419                                     NaN                   NaN   \n",
       "ENSG00000000457                                     NaN                   NaN   \n",
       "ENSG00000000460                                     NaN                   NaN   \n",
       "ENSG00000000938                                     NaN                   NaN   \n",
       "ENSG00000000971                                     NaN                   NaN   \n",
       "\n",
       "                 1538_0-Major_dietary_changes_in_the_last_5_years_No  \\\n",
       "gene_id                                                                \n",
       "ENSG00000000419                                           0.001213     \n",
       "ENSG00000000457                                           0.001873     \n",
       "ENSG00000000460                                           0.002620     \n",
       "ENSG00000000938                                           0.002928     \n",
       "ENSG00000000971                                           0.002858     \n",
       "\n",
       "                 5663-Length_of_longest_manicirritable_episode  \\\n",
       "gene_id                                                          \n",
       "ENSG00000000419                                            NaN   \n",
       "ENSG00000000457                                            NaN   \n",
       "ENSG00000000460                                            NaN   \n",
       "ENSG00000000938                                            NaN   \n",
       "ENSG00000000971                                            NaN   \n",
       "\n",
       "                 20002_1538-Noncancer_illness_code_selfreported_arthritis_nos  \\\n",
       "gene_id                                                                         \n",
       "ENSG00000000419                                                NaN              \n",
       "ENSG00000000457                                                NaN              \n",
       "ENSG00000000460                                                NaN              \n",
       "ENSG00000000938                                                NaN              \n",
       "ENSG00000000971                                                NaN              \n",
       "\n",
       "                 S30-Diagnoses_main_ICD10_S30_Superficial_injury_of_abdomen_lower_back_and_pelvis  \\\n",
       "gene_id                                                                                             \n",
       "ENSG00000000419                                                NaN                                  \n",
       "ENSG00000000457                                                NaN                                  \n",
       "ENSG00000000460                                           0.000207                                  \n",
       "ENSG00000000938                                                NaN                                  \n",
       "ENSG00000000971                                                NaN                                  \n",
       "\n",
       "                 24010_raw-Inverse_distance_to_the_nearest_road  \\\n",
       "gene_id                                                           \n",
       "ENSG00000000419                                             NaN   \n",
       "ENSG00000000457                                             NaN   \n",
       "ENSG00000000460                                             NaN   \n",
       "ENSG00000000938                                        0.000762   \n",
       "ENSG00000000971                                             NaN   \n",
       "\n",
       "                 3143_raw-Ankle_spacing_width  ...  2237-Plays_computer_games  \\\n",
       "gene_id                                        ...                              \n",
       "ENSG00000000419                           NaN  ...                        NaN   \n",
       "ENSG00000000457                      0.017720  ...                   0.068852   \n",
       "ENSG00000000460                      0.000105  ...                   0.093284   \n",
       "ENSG00000000938                      0.012773  ...                   0.004300   \n",
       "ENSG00000000971                      0.019304  ...                   0.005419   \n",
       "\n",
       "                 20002_1461-Noncancer_illness_code_selfreported_inflammatory_bowel_disease  \\\n",
       "gene_id                                                                                      \n",
       "ENSG00000000419                                                NaN                           \n",
       "ENSG00000000457                                                NaN                           \n",
       "ENSG00000000460                                                NaN                           \n",
       "ENSG00000000938                                                NaN                           \n",
       "ENSG00000000971                                                NaN                           \n",
       "\n",
       "                 20002_1508-Noncancer_illness_code_selfreported_jaundice_unknown_cause  \\\n",
       "gene_id                                                                                  \n",
       "ENSG00000000419                                                NaN                       \n",
       "ENSG00000000457                                                NaN                       \n",
       "ENSG00000000460                                                NaN                       \n",
       "ENSG00000000938                                                NaN                       \n",
       "ENSG00000000971                                                NaN                       \n",
       "\n",
       "                 20003_1140881882-Treatmentmedication_code_timoptol_025_eye_drops  \\\n",
       "gene_id                                                                             \n",
       "ENSG00000000419                                                NaN                  \n",
       "ENSG00000000457                                                NaN                  \n",
       "ENSG00000000460                                                NaN                  \n",
       "ENSG00000000938                                           0.000424                  \n",
       "ENSG00000000971                                                NaN                  \n",
       "\n",
       "                 22601_71253330-Job_coding_merchandiser_window_dresser  \\\n",
       "gene_id                                                                  \n",
       "ENSG00000000419                                                NaN       \n",
       "ENSG00000000457                                                NaN       \n",
       "ENSG00000000460                                                NaN       \n",
       "ENSG00000000938                                                NaN       \n",
       "ENSG00000000971                                                NaN       \n",
       "\n",
       "                 23112_raw-Leg_fat_mass_right  \\\n",
       "gene_id                                         \n",
       "ENSG00000000419                           NaN   \n",
       "ENSG00000000457                      0.003383   \n",
       "ENSG00000000460                      0.008790   \n",
       "ENSG00000000938                      0.000612   \n",
       "ENSG00000000971                      0.007427   \n",
       "\n",
       "                 20003_1140861778-Treatmentmedication_code_dipyridamole  \\\n",
       "gene_id                                                                   \n",
       "ENSG00000000419                                                NaN        \n",
       "ENSG00000000457                                                NaN        \n",
       "ENSG00000000460                                                NaN        \n",
       "ENSG00000000938                                                NaN        \n",
       "ENSG00000000971                                                NaN        \n",
       "\n",
       "                 20003_1199-Treatmentmedication_code_food_supplementplantherbal_extract  \\\n",
       "gene_id                                                                                   \n",
       "ENSG00000000419                                                NaN                        \n",
       "ENSG00000000457                                                NaN                        \n",
       "ENSG00000000460                                                NaN                        \n",
       "ENSG00000000938                                                NaN                        \n",
       "ENSG00000000971                                                NaN                        \n",
       "\n",
       "                 1309-Fresh_fruit_intake  \\\n",
       "gene_id                                    \n",
       "ENSG00000000419                 0.002131   \n",
       "ENSG00000000457                 0.009195   \n",
       "ENSG00000000460                 0.003105   \n",
       "ENSG00000000938                 0.003240   \n",
       "ENSG00000000971                 0.004804   \n",
       "\n",
       "                 100920_2105-Type_milk_consumed_soya_with_calcium  \n",
       "gene_id                                                            \n",
       "ENSG00000000419                                               NaN  \n",
       "ENSG00000000457                                               NaN  \n",
       "ENSG00000000460                                               NaN  \n",
       "ENSG00000000938                                               NaN  \n",
       "ENSG00000000971                                               NaN  \n",
       "\n",
       "[5 rows x 4091 columns]"
      ]
     },
     "execution_count": 17,
     "metadata": {},
     "output_type": "execute_result"
    }
   ],
   "source": [
    "fastenloc_rcp.head(5)"
   ]
  },
  {
   "cell_type": "markdown",
   "metadata": {},
   "source": [
    "# Genes in common between S-MultiXcan and fastENLOC"
   ]
  },
  {
   "cell_type": "code",
   "execution_count": 18,
   "metadata": {},
   "outputs": [
    {
     "data": {
      "text/plain": [
       "Index(['ENSG00000000419', 'ENSG00000000457', 'ENSG00000000460',\n",
       "       'ENSG00000000938', 'ENSG00000000971', 'ENSG00000001036',\n",
       "       'ENSG00000001084', 'ENSG00000001167', 'ENSG00000001460',\n",
       "       'ENSG00000001461',\n",
       "       ...\n",
       "       'ENSG00000284240', 'ENSG00000284308', 'ENSG00000284395',\n",
       "       'ENSG00000284413', 'ENSG00000284418', 'ENSG00000284430',\n",
       "       'ENSG00000284452', 'ENSG00000284513', 'ENSG00000284526',\n",
       "       'ENSG00000284552'],\n",
       "      dtype='object', length=22471)"
      ]
     },
     "metadata": {},
     "output_type": "display_data"
    }
   ],
   "source": [
    "common_genes = fastenloc_rcp.index.intersection(smultixcan_zscores.index)\n",
    "display(common_genes)"
   ]
  },
  {
   "cell_type": "markdown",
   "metadata": {},
   "source": [
    "# Read gwas2gene results"
   ]
  },
  {
   "cell_type": "code",
   "execution_count": 19,
   "metadata": {},
   "outputs": [],
   "source": [
    "from glob import glob\n",
    "\n",
    "import rpy2.robjects as robjects\n",
    "from rpy2.robjects import pandas2ri\n",
    "pandas2ri.activate()"
   ]
  },
  {
   "cell_type": "code",
   "execution_count": 20,
   "metadata": {},
   "outputs": [],
   "source": [
    "readRDS = robjects.r['readRDS']"
   ]
  },
  {
   "cell_type": "code",
   "execution_count": 21,
   "metadata": {},
   "outputs": [],
   "source": [
    "n_expected_traits = len(diabetes_traits)"
   ]
  },
  {
   "cell_type": "code",
   "execution_count": 22,
   "metadata": {},
   "outputs": [
    {
     "data": {
      "text/plain": [
       "10"
      ]
     },
     "metadata": {},
     "output_type": "display_data"
    }
   ],
   "source": [
    "f_files = glob(os.path.join(conf.VALIDATION_TRAITS_T2D_BASE_DIR, 'gwas2gene', '*.rds'))\n",
    "display(len(f_files))\n",
    "\n",
    "if len(f_files) < n_expected_traits:\n",
    "    print(f'WARNING: some files are not there. {n_expected_traits} expected, {len(f_files)} found.')"
   ]
  },
  {
   "cell_type": "code",
   "execution_count": 23,
   "metadata": {},
   "outputs": [],
   "source": [
    "gwas2genes_results = {}\n",
    "\n",
    "for f in f_files:\n",
    "    f_base = os.path.basename(f)\n",
    "    f_code = f_base.split('.')[0]\n",
    "    \n",
    "    #print(f_base)\n",
    "    rds_contents = readRDS(f)\n",
    "    \n",
    "    if len(rds_contents[1]) > 0:\n",
    "        f_gene_list = list(rds_contents[1][0].iter_labels())\n",
    "    else:\n",
    "        print(f'{f_code}: empty')\n",
    "        f_gene_list = []\n",
    "    \n",
    "    gwas2genes_results[f_code] = common_genes.intersection(set(f_gene_list))"
   ]
  },
  {
   "cell_type": "code",
   "execution_count": 24,
   "metadata": {},
   "outputs": [
    {
     "data": {
      "text/plain": [
       "29445"
      ]
     },
     "metadata": {},
     "output_type": "display_data"
    },
    {
     "data": {
      "text/plain": [
       "13437"
      ]
     },
     "metadata": {},
     "output_type": "display_data"
    }
   ],
   "source": [
    "gwas2gene_all_genes = []\n",
    "\n",
    "for k in gwas2genes_results.keys():\n",
    "    gwas2gene_all_genes.extend(gwas2genes_results[k])\n",
    "\n",
    "display(len(gwas2gene_all_genes))\n",
    "\n",
    "gwas2gene_all_genes = set(gwas2gene_all_genes)\n",
    "display(len(gwas2gene_all_genes))"
   ]
  },
  {
   "cell_type": "markdown",
   "metadata": {},
   "source": [
    "# Create classifier table"
   ]
  },
  {
   "cell_type": "code",
   "execution_count": 25,
   "metadata": {},
   "outputs": [],
   "source": [
    "from entity import Trait"
   ]
  },
  {
   "cell_type": "code",
   "execution_count": 26,
   "metadata": {},
   "outputs": [],
   "source": [
    "index_genes = []\n",
    "\n",
    "for t in diabetes_traits:\n",
    "    t_code = Trait(full_code=t).code\n",
    "    if t_code not in gwas2genes_results:\n",
    "        raise Exception(f'Not found: {t_code}')\n",
    "    \n",
    "    for g in gwas2genes_results[t_code]:\n",
    "        index_genes.append(g)"
   ]
  },
  {
   "cell_type": "code",
   "execution_count": 27,
   "metadata": {},
   "outputs": [],
   "source": [
    "index_genes = set(index_genes)"
   ]
  },
  {
   "cell_type": "code",
   "execution_count": 28,
   "metadata": {},
   "outputs": [
    {
     "data": {
      "text/plain": [
       "5066"
      ]
     },
     "execution_count": 28,
     "metadata": {},
     "output_type": "execute_result"
    }
   ],
   "source": [
    "len(index_genes)"
   ]
  },
  {
   "cell_type": "code",
   "execution_count": 29,
   "metadata": {},
   "outputs": [],
   "source": [
    "classifier_index = pd.Index(\n",
    "    index_genes\n",
    ")"
   ]
  },
  {
   "cell_type": "code",
   "execution_count": 30,
   "metadata": {},
   "outputs": [
    {
     "data": {
      "text/plain": [
       "13437"
      ]
     },
     "execution_count": 30,
     "metadata": {},
     "output_type": "execute_result"
    }
   ],
   "source": [
    "len(gwas2gene_all_genes)"
   ]
  },
  {
   "cell_type": "code",
   "execution_count": 31,
   "metadata": {},
   "outputs": [
    {
     "data": {
      "text/plain": [
       "(5066,)"
      ]
     },
     "execution_count": 31,
     "metadata": {},
     "output_type": "execute_result"
    }
   ],
   "source": [
    "classifier_index.shape"
   ]
  },
  {
   "cell_type": "code",
   "execution_count": 32,
   "metadata": {},
   "outputs": [],
   "source": [
    "predixcan_classifier_df = pd.DataFrame(index=classifier_index, columns=['score', 'predicted_class', 'true_class'])"
   ]
  },
  {
   "cell_type": "code",
   "execution_count": 33,
   "metadata": {},
   "outputs": [],
   "source": [
    "predixcan_classifier_df = predixcan_classifier_df.sort_index()"
   ]
  },
  {
   "cell_type": "code",
   "execution_count": 34,
   "metadata": {},
   "outputs": [
    {
     "data": {
      "text/plain": [
       "(5066, 3)"
      ]
     },
     "execution_count": 34,
     "metadata": {},
     "output_type": "execute_result"
    }
   ],
   "source": [
    "predixcan_classifier_df.shape"
   ]
  },
  {
   "cell_type": "code",
   "execution_count": 35,
   "metadata": {},
   "outputs": [],
   "source": [
    "predixcan_classifier_df['true_class'] = 0"
   ]
  },
  {
   "cell_type": "code",
   "execution_count": 36,
   "metadata": {},
   "outputs": [
    {
     "data": {
      "text/html": [
       "<div>\n",
       "<style scoped>\n",
       "    .dataframe tbody tr th:only-of-type {\n",
       "        vertical-align: middle;\n",
       "    }\n",
       "\n",
       "    .dataframe tbody tr th {\n",
       "        vertical-align: top;\n",
       "    }\n",
       "\n",
       "    .dataframe thead th {\n",
       "        text-align: right;\n",
       "    }\n",
       "</style>\n",
       "<table border=\"1\" class=\"dataframe\">\n",
       "  <thead>\n",
       "    <tr style=\"text-align: right;\">\n",
       "      <th></th>\n",
       "      <th>score</th>\n",
       "      <th>predicted_class</th>\n",
       "      <th>true_class</th>\n",
       "    </tr>\n",
       "  </thead>\n",
       "  <tbody>\n",
       "    <tr>\n",
       "      <th>ENSG00000000457</th>\n",
       "      <td>NaN</td>\n",
       "      <td>NaN</td>\n",
       "      <td>0</td>\n",
       "    </tr>\n",
       "    <tr>\n",
       "      <th>ENSG00000000460</th>\n",
       "      <td>NaN</td>\n",
       "      <td>NaN</td>\n",
       "      <td>0</td>\n",
       "    </tr>\n",
       "    <tr>\n",
       "      <th>ENSG00000000938</th>\n",
       "      <td>NaN</td>\n",
       "      <td>NaN</td>\n",
       "      <td>0</td>\n",
       "    </tr>\n",
       "    <tr>\n",
       "      <th>ENSG00000000971</th>\n",
       "      <td>NaN</td>\n",
       "      <td>NaN</td>\n",
       "      <td>0</td>\n",
       "    </tr>\n",
       "    <tr>\n",
       "      <th>ENSG00000001460</th>\n",
       "      <td>NaN</td>\n",
       "      <td>NaN</td>\n",
       "      <td>0</td>\n",
       "    </tr>\n",
       "  </tbody>\n",
       "</table>\n",
       "</div>"
      ],
      "text/plain": [
       "                score predicted_class  true_class\n",
       "ENSG00000000457   NaN             NaN           0\n",
       "ENSG00000000460   NaN             NaN           0\n",
       "ENSG00000000938   NaN             NaN           0\n",
       "ENSG00000000971   NaN             NaN           0\n",
       "ENSG00000001460   NaN             NaN           0"
      ]
     },
     "execution_count": 36,
     "metadata": {},
     "output_type": "execute_result"
    }
   ],
   "source": [
    "predixcan_classifier_df.head()"
   ]
  },
  {
   "cell_type": "code",
   "execution_count": 37,
   "metadata": {},
   "outputs": [],
   "source": [
    "predixcan_classifier_df.loc[predixcan_classifier_df.index.intersection(all_t2d_genes['gene_id']), 'true_class'] = 1"
   ]
  },
  {
   "cell_type": "code",
   "execution_count": 38,
   "metadata": {},
   "outputs": [],
   "source": [
    "assert predixcan_classifier_df['true_class'].isna().sum() == 0"
   ]
  },
  {
   "cell_type": "code",
   "execution_count": 39,
   "metadata": {},
   "outputs": [
    {
     "data": {
      "text/plain": [
       "0    5046\n",
       "1      20\n",
       "Name: true_class, dtype: int64"
      ]
     },
     "execution_count": 39,
     "metadata": {},
     "output_type": "execute_result"
    }
   ],
   "source": [
    "predixcan_classifier_df['true_class'].value_counts()"
   ]
  },
  {
   "cell_type": "code",
   "execution_count": 40,
   "metadata": {},
   "outputs": [
    {
     "data": {
      "text/plain": [
       "(20, 3)"
      ]
     },
     "metadata": {},
     "output_type": "display_data"
    },
    {
     "data": {
      "text/html": [
       "<div>\n",
       "<style scoped>\n",
       "    .dataframe tbody tr th:only-of-type {\n",
       "        vertical-align: middle;\n",
       "    }\n",
       "\n",
       "    .dataframe tbody tr th {\n",
       "        vertical-align: top;\n",
       "    }\n",
       "\n",
       "    .dataframe thead th {\n",
       "        text-align: right;\n",
       "    }\n",
       "</style>\n",
       "<table border=\"1\" class=\"dataframe\">\n",
       "  <thead>\n",
       "    <tr style=\"text-align: right;\">\n",
       "      <th></th>\n",
       "      <th>score</th>\n",
       "      <th>predicted_class</th>\n",
       "      <th>true_class</th>\n",
       "    </tr>\n",
       "  </thead>\n",
       "  <tbody>\n",
       "    <tr>\n",
       "      <th>ENSG00000050820</th>\n",
       "      <td>NaN</td>\n",
       "      <td>NaN</td>\n",
       "      <td>1</td>\n",
       "    </tr>\n",
       "    <tr>\n",
       "      <th>ENSG00000073792</th>\n",
       "      <td>NaN</td>\n",
       "      <td>NaN</td>\n",
       "      <td>1</td>\n",
       "    </tr>\n",
       "    <tr>\n",
       "      <th>ENSG00000075035</th>\n",
       "      <td>NaN</td>\n",
       "      <td>NaN</td>\n",
       "      <td>1</td>\n",
       "    </tr>\n",
       "    <tr>\n",
       "      <th>ENSG00000113231</th>\n",
       "      <td>NaN</td>\n",
       "      <td>NaN</td>\n",
       "      <td>1</td>\n",
       "    </tr>\n",
       "    <tr>\n",
       "      <th>ENSG00000118971</th>\n",
       "      <td>NaN</td>\n",
       "      <td>NaN</td>\n",
       "      <td>1</td>\n",
       "    </tr>\n",
       "  </tbody>\n",
       "</table>\n",
       "</div>"
      ],
      "text/plain": [
       "                score predicted_class  true_class\n",
       "ENSG00000050820   NaN             NaN           1\n",
       "ENSG00000073792   NaN             NaN           1\n",
       "ENSG00000075035   NaN             NaN           1\n",
       "ENSG00000113231   NaN             NaN           1\n",
       "ENSG00000118971   NaN             NaN           1"
      ]
     },
     "metadata": {},
     "output_type": "display_data"
    }
   ],
   "source": [
    "# some testing\n",
    "_tmp = predixcan_classifier_df[predixcan_classifier_df['true_class'] == 1]\n",
    "display(_tmp.shape)\n",
    "display(_tmp.head())\n",
    "assert all([tg in all_t2d_genes['gene_id'].values for tg in _tmp.index])"
   ]
  },
  {
   "cell_type": "code",
   "execution_count": 41,
   "metadata": {},
   "outputs": [
    {
     "data": {
      "text/plain": [
       "(5046, 3)"
      ]
     },
     "metadata": {},
     "output_type": "display_data"
    },
    {
     "data": {
      "text/html": [
       "<div>\n",
       "<style scoped>\n",
       "    .dataframe tbody tr th:only-of-type {\n",
       "        vertical-align: middle;\n",
       "    }\n",
       "\n",
       "    .dataframe tbody tr th {\n",
       "        vertical-align: top;\n",
       "    }\n",
       "\n",
       "    .dataframe thead th {\n",
       "        text-align: right;\n",
       "    }\n",
       "</style>\n",
       "<table border=\"1\" class=\"dataframe\">\n",
       "  <thead>\n",
       "    <tr style=\"text-align: right;\">\n",
       "      <th></th>\n",
       "      <th>score</th>\n",
       "      <th>predicted_class</th>\n",
       "      <th>true_class</th>\n",
       "    </tr>\n",
       "  </thead>\n",
       "  <tbody>\n",
       "    <tr>\n",
       "      <th>ENSG00000000457</th>\n",
       "      <td>NaN</td>\n",
       "      <td>NaN</td>\n",
       "      <td>0</td>\n",
       "    </tr>\n",
       "    <tr>\n",
       "      <th>ENSG00000000460</th>\n",
       "      <td>NaN</td>\n",
       "      <td>NaN</td>\n",
       "      <td>0</td>\n",
       "    </tr>\n",
       "    <tr>\n",
       "      <th>ENSG00000000938</th>\n",
       "      <td>NaN</td>\n",
       "      <td>NaN</td>\n",
       "      <td>0</td>\n",
       "    </tr>\n",
       "    <tr>\n",
       "      <th>ENSG00000000971</th>\n",
       "      <td>NaN</td>\n",
       "      <td>NaN</td>\n",
       "      <td>0</td>\n",
       "    </tr>\n",
       "    <tr>\n",
       "      <th>ENSG00000001460</th>\n",
       "      <td>NaN</td>\n",
       "      <td>NaN</td>\n",
       "      <td>0</td>\n",
       "    </tr>\n",
       "  </tbody>\n",
       "</table>\n",
       "</div>"
      ],
      "text/plain": [
       "                score predicted_class  true_class\n",
       "ENSG00000000457   NaN             NaN           0\n",
       "ENSG00000000460   NaN             NaN           0\n",
       "ENSG00000000938   NaN             NaN           0\n",
       "ENSG00000000971   NaN             NaN           0\n",
       "ENSG00000001460   NaN             NaN           0"
      ]
     },
     "metadata": {},
     "output_type": "display_data"
    }
   ],
   "source": [
    "# some testing\n",
    "_tmp = predixcan_classifier_df[predixcan_classifier_df['true_class'] == 0]\n",
    "display(_tmp.shape)\n",
    "display(_tmp.head())\n",
    "assert all([tg not in all_t2d_genes['gene_id'].values for tg in _tmp.index])"
   ]
  },
  {
   "cell_type": "code",
   "execution_count": 42,
   "metadata": {},
   "outputs": [
    {
     "data": {
      "text/plain": [
       "13437"
      ]
     },
     "execution_count": 42,
     "metadata": {},
     "output_type": "execute_result"
    }
   ],
   "source": [
    "len(gwas2gene_all_genes)"
   ]
  },
  {
   "cell_type": "code",
   "execution_count": 43,
   "metadata": {},
   "outputs": [],
   "source": [
    "df_score = pd.Series(\n",
    "    index=classifier_index,\n",
    "    data=(\n",
    "        smultixcan_zscores.loc[classifier_index, diabetes_traits].max(axis=1)\n",
    "        *\n",
    "        fastenloc_rcp.loc[classifier_index, diabetes_traits].fillna(0.0).max(axis=1)\n",
    "    )\n",
    ")"
   ]
  },
  {
   "cell_type": "code",
   "execution_count": 44,
   "metadata": {},
   "outputs": [
    {
     "data": {
      "text/plain": [
       "(5066,)"
      ]
     },
     "execution_count": 44,
     "metadata": {},
     "output_type": "execute_result"
    }
   ],
   "source": [
    "df_score.shape"
   ]
  },
  {
   "cell_type": "code",
   "execution_count": 45,
   "metadata": {},
   "outputs": [
    {
     "data": {
      "text/plain": [
       "ENSG00000143494    0.000204\n",
       "ENSG00000117262         NaN\n",
       "ENSG00000119280    0.000281\n",
       "ENSG00000198400    0.000134\n",
       "ENSG00000198169    0.001824\n",
       "dtype: float64"
      ]
     },
     "execution_count": 45,
     "metadata": {},
     "output_type": "execute_result"
    }
   ],
   "source": [
    "df_score.head()"
   ]
  },
  {
   "cell_type": "code",
   "execution_count": 46,
   "metadata": {},
   "outputs": [],
   "source": [
    "# some testing\n",
    "df_score = df_score.fillna(0.0).sort_index()\n",
    "assert df_score.isna().sum().sum() == 0"
   ]
  },
  {
   "cell_type": "code",
   "execution_count": 47,
   "metadata": {},
   "outputs": [
    {
     "data": {
      "text/plain": [
       "(5066,)"
      ]
     },
     "execution_count": 47,
     "metadata": {},
     "output_type": "execute_result"
    }
   ],
   "source": [
    "df_score.shape"
   ]
  },
  {
   "cell_type": "code",
   "execution_count": 48,
   "metadata": {},
   "outputs": [
    {
     "data": {
      "text/plain": [
       "count    5066.000000\n",
       "mean        0.003893\n",
       "std         0.094752\n",
       "min         0.000000\n",
       "25%         0.000109\n",
       "50%         0.000303\n",
       "75%         0.000707\n",
       "max         5.530396\n",
       "dtype: float64"
      ]
     },
     "execution_count": 48,
     "metadata": {},
     "output_type": "execute_result"
    }
   ],
   "source": [
    "df_score.describe()"
   ]
  },
  {
   "cell_type": "code",
   "execution_count": 49,
   "metadata": {},
   "outputs": [],
   "source": [
    "predixcan_classifier_df = predixcan_classifier_df.assign(score=df_score)"
   ]
  },
  {
   "cell_type": "code",
   "execution_count": 50,
   "metadata": {},
   "outputs": [],
   "source": [
    "from scipy import stats"
   ]
  },
  {
   "cell_type": "code",
   "execution_count": 51,
   "metadata": {},
   "outputs": [
    {
     "data": {
      "text/plain": [
       "13437"
      ]
     },
     "metadata": {},
     "output_type": "display_data"
    },
    {
     "data": {
      "text/plain": [
       "7"
      ]
     },
     "metadata": {},
     "output_type": "display_data"
    },
    {
     "data": {
      "text/plain": [
       "94059"
      ]
     },
     "metadata": {},
     "output_type": "display_data"
    },
    {
     "data": {
      "text/plain": [
       "5.315812415611478e-07"
      ]
     },
     "metadata": {},
     "output_type": "display_data"
    },
    {
     "data": {
      "text/plain": [
       "5.0145485685236295"
      ]
     },
     "metadata": {},
     "output_type": "display_data"
    }
   ],
   "source": [
    "_n_genes = len(gwas2gene_all_genes)\n",
    "display(_n_genes)\n",
    "\n",
    "_n_ukb_traits = len(diabetes_traits)\n",
    "display(_n_ukb_traits)\n",
    "\n",
    "display(_n_genes * _n_ukb_traits)\n",
    "\n",
    "PVALUE_THRESHOLD = (0.05 / (_n_genes * _n_ukb_traits))\n",
    "display(PVALUE_THRESHOLD)\n",
    "\n",
    "ZSCORE_THRESHOLD = np.abs(stats.norm.ppf(PVALUE_THRESHOLD / 2))\n",
    "display(ZSCORE_THRESHOLD)"
   ]
  },
  {
   "cell_type": "code",
   "execution_count": 52,
   "metadata": {},
   "outputs": [],
   "source": [
    "def _assign_predicted_class(x):\n",
    "    gene = x.name\n",
    "    # here I cannot use x, because what's the threshold? I need to\n",
    "    # access smultixcan and fastenloc raw values\n",
    "    sm = smultixcan_zscores.loc[gene, diabetes_traits].max()\n",
    "    fe = fastenloc_rcp.loc[gene, diabetes_traits].max()\n",
    "    if sm > ZSCORE_THRESHOLD and fe > 0.1:\n",
    "        return 1\n",
    "    else:\n",
    "        return 0"
   ]
  },
  {
   "cell_type": "code",
   "execution_count": 53,
   "metadata": {},
   "outputs": [],
   "source": [
    "predixcan_classifier_df = predixcan_classifier_df.assign(predicted_class=predixcan_classifier_df.apply(_assign_predicted_class, axis=1))"
   ]
  },
  {
   "cell_type": "code",
   "execution_count": 54,
   "metadata": {},
   "outputs": [
    {
     "data": {
      "text/plain": [
       "(5066, 3)"
      ]
     },
     "execution_count": 54,
     "metadata": {},
     "output_type": "execute_result"
    }
   ],
   "source": [
    "predixcan_classifier_df.shape"
   ]
  },
  {
   "cell_type": "code",
   "execution_count": 55,
   "metadata": {},
   "outputs": [
    {
     "data": {
      "text/html": [
       "<div>\n",
       "<style scoped>\n",
       "    .dataframe tbody tr th:only-of-type {\n",
       "        vertical-align: middle;\n",
       "    }\n",
       "\n",
       "    .dataframe tbody tr th {\n",
       "        vertical-align: top;\n",
       "    }\n",
       "\n",
       "    .dataframe thead th {\n",
       "        text-align: right;\n",
       "    }\n",
       "</style>\n",
       "<table border=\"1\" class=\"dataframe\">\n",
       "  <thead>\n",
       "    <tr style=\"text-align: right;\">\n",
       "      <th></th>\n",
       "      <th>score</th>\n",
       "      <th>predicted_class</th>\n",
       "      <th>true_class</th>\n",
       "    </tr>\n",
       "  </thead>\n",
       "  <tbody>\n",
       "    <tr>\n",
       "      <th>ENSG00000000457</th>\n",
       "      <td>0.000509</td>\n",
       "      <td>0</td>\n",
       "      <td>0</td>\n",
       "    </tr>\n",
       "    <tr>\n",
       "      <th>ENSG00000000460</th>\n",
       "      <td>0.000471</td>\n",
       "      <td>0</td>\n",
       "      <td>0</td>\n",
       "    </tr>\n",
       "    <tr>\n",
       "      <th>ENSG00000000938</th>\n",
       "      <td>0.000100</td>\n",
       "      <td>0</td>\n",
       "      <td>0</td>\n",
       "    </tr>\n",
       "    <tr>\n",
       "      <th>ENSG00000000971</th>\n",
       "      <td>0.000000</td>\n",
       "      <td>0</td>\n",
       "      <td>0</td>\n",
       "    </tr>\n",
       "    <tr>\n",
       "      <th>ENSG00000001460</th>\n",
       "      <td>0.000399</td>\n",
       "      <td>0</td>\n",
       "      <td>0</td>\n",
       "    </tr>\n",
       "  </tbody>\n",
       "</table>\n",
       "</div>"
      ],
      "text/plain": [
       "                    score  predicted_class  true_class\n",
       "ENSG00000000457  0.000509                0           0\n",
       "ENSG00000000460  0.000471                0           0\n",
       "ENSG00000000938  0.000100                0           0\n",
       "ENSG00000000971  0.000000                0           0\n",
       "ENSG00000001460  0.000399                0           0"
      ]
     },
     "execution_count": 55,
     "metadata": {},
     "output_type": "execute_result"
    }
   ],
   "source": [
    "predixcan_classifier_df.head()"
   ]
  },
  {
   "cell_type": "markdown",
   "metadata": {},
   "source": [
    "## Some stats"
   ]
  },
  {
   "cell_type": "code",
   "execution_count": 56,
   "metadata": {},
   "outputs": [
    {
     "data": {
      "text/plain": [
       "(5066, 3)"
      ]
     },
     "metadata": {},
     "output_type": "display_data"
    },
    {
     "data": {
      "text/html": [
       "<div>\n",
       "<style scoped>\n",
       "    .dataframe tbody tr th:only-of-type {\n",
       "        vertical-align: middle;\n",
       "    }\n",
       "\n",
       "    .dataframe tbody tr th {\n",
       "        vertical-align: top;\n",
       "    }\n",
       "\n",
       "    .dataframe thead th {\n",
       "        text-align: right;\n",
       "    }\n",
       "</style>\n",
       "<table border=\"1\" class=\"dataframe\">\n",
       "  <thead>\n",
       "    <tr style=\"text-align: right;\">\n",
       "      <th></th>\n",
       "      <th>score</th>\n",
       "      <th>predicted_class</th>\n",
       "      <th>true_class</th>\n",
       "    </tr>\n",
       "  </thead>\n",
       "  <tbody>\n",
       "    <tr>\n",
       "      <th>ENSG00000232629</th>\n",
       "      <td>5.530396</td>\n",
       "      <td>1</td>\n",
       "      <td>0</td>\n",
       "    </tr>\n",
       "    <tr>\n",
       "      <th>ENSG00000179344</th>\n",
       "      <td>1.272847</td>\n",
       "      <td>1</td>\n",
       "      <td>0</td>\n",
       "    </tr>\n",
       "    <tr>\n",
       "      <th>ENSG00000196735</th>\n",
       "      <td>0.697995</td>\n",
       "      <td>1</td>\n",
       "      <td>0</td>\n",
       "    </tr>\n",
       "    <tr>\n",
       "      <th>ENSG00000000457</th>\n",
       "      <td>0.000509</td>\n",
       "      <td>0</td>\n",
       "      <td>0</td>\n",
       "    </tr>\n",
       "    <tr>\n",
       "      <th>ENSG00000169442</th>\n",
       "      <td>0.000184</td>\n",
       "      <td>0</td>\n",
       "      <td>0</td>\n",
       "    </tr>\n",
       "  </tbody>\n",
       "</table>\n",
       "</div>"
      ],
      "text/plain": [
       "                    score  predicted_class  true_class\n",
       "ENSG00000232629  5.530396                1           0\n",
       "ENSG00000179344  1.272847                1           0\n",
       "ENSG00000196735  0.697995                1           0\n",
       "ENSG00000000457  0.000509                0           0\n",
       "ENSG00000169442  0.000184                0           0"
      ]
     },
     "metadata": {},
     "output_type": "display_data"
    }
   ],
   "source": [
    "_tmp = predixcan_classifier_df.sort_values('predicted_class', ascending=False)\n",
    "display(_tmp.shape)\n",
    "display(_tmp.head())"
   ]
  },
  {
   "cell_type": "code",
   "execution_count": 57,
   "metadata": {},
   "outputs": [
    {
     "data": {
      "text/plain": [
       "(5066, 3)"
      ]
     },
     "metadata": {},
     "output_type": "display_data"
    },
    {
     "data": {
      "text/plain": [
       "(20, 3)"
      ]
     },
     "metadata": {},
     "output_type": "display_data"
    },
    {
     "data": {
      "text/html": [
       "<div>\n",
       "<style scoped>\n",
       "    .dataframe tbody tr th:only-of-type {\n",
       "        vertical-align: middle;\n",
       "    }\n",
       "\n",
       "    .dataframe tbody tr th {\n",
       "        vertical-align: top;\n",
       "    }\n",
       "\n",
       "    .dataframe thead th {\n",
       "        text-align: right;\n",
       "    }\n",
       "</style>\n",
       "<table border=\"1\" class=\"dataframe\">\n",
       "  <thead>\n",
       "    <tr style=\"text-align: right;\">\n",
       "      <th></th>\n",
       "      <th>score</th>\n",
       "      <th>predicted_class</th>\n",
       "      <th>true_class</th>\n",
       "    </tr>\n",
       "  </thead>\n",
       "  <tbody>\n",
       "    <tr>\n",
       "      <th>ENSG00000127603</th>\n",
       "      <td>0.001662</td>\n",
       "      <td>0</td>\n",
       "      <td>1</td>\n",
       "    </tr>\n",
       "    <tr>\n",
       "      <th>ENSG00000152359</th>\n",
       "      <td>0.000234</td>\n",
       "      <td>0</td>\n",
       "      <td>1</td>\n",
       "    </tr>\n",
       "    <tr>\n",
       "      <th>ENSG00000148737</th>\n",
       "      <td>0.066173</td>\n",
       "      <td>0</td>\n",
       "      <td>1</td>\n",
       "    </tr>\n",
       "    <tr>\n",
       "      <th>ENSG00000132849</th>\n",
       "      <td>0.002059</td>\n",
       "      <td>0</td>\n",
       "      <td>1</td>\n",
       "    </tr>\n",
       "    <tr>\n",
       "      <th>ENSG00000163581</th>\n",
       "      <td>0.000344</td>\n",
       "      <td>0</td>\n",
       "      <td>1</td>\n",
       "    </tr>\n",
       "  </tbody>\n",
       "</table>\n",
       "</div>"
      ],
      "text/plain": [
       "                    score  predicted_class  true_class\n",
       "ENSG00000127603  0.001662                0           1\n",
       "ENSG00000152359  0.000234                0           1\n",
       "ENSG00000148737  0.066173                0           1\n",
       "ENSG00000132849  0.002059                0           1\n",
       "ENSG00000163581  0.000344                0           1"
      ]
     },
     "metadata": {},
     "output_type": "display_data"
    }
   ],
   "source": [
    "_tmp = predixcan_classifier_df.sort_values(['true_class'], ascending=False)\n",
    "display(_tmp.shape)\n",
    "display(_tmp[_tmp['true_class'] > 0].shape)\n",
    "display(_tmp[_tmp['true_class'] > 0].head())"
   ]
  },
  {
   "cell_type": "code",
   "execution_count": 58,
   "metadata": {},
   "outputs": [
    {
     "data": {
      "text/html": [
       "<div>\n",
       "<style scoped>\n",
       "    .dataframe tbody tr th:only-of-type {\n",
       "        vertical-align: middle;\n",
       "    }\n",
       "\n",
       "    .dataframe tbody tr th {\n",
       "        vertical-align: top;\n",
       "    }\n",
       "\n",
       "    .dataframe thead th {\n",
       "        text-align: right;\n",
       "    }\n",
       "</style>\n",
       "<table border=\"1\" class=\"dataframe\">\n",
       "  <thead>\n",
       "    <tr style=\"text-align: right;\">\n",
       "      <th></th>\n",
       "      <th>gene_id</th>\n",
       "      <th>gene_name</th>\n",
       "      <th>type</th>\n",
       "    </tr>\n",
       "  </thead>\n",
       "  <tbody>\n",
       "    <tr>\n",
       "      <th>10</th>\n",
       "      <td>ENSG00000135100</td>\n",
       "      <td>HNF1A</td>\n",
       "      <td>causal</td>\n",
       "    </tr>\n",
       "    <tr>\n",
       "      <th>18</th>\n",
       "      <td>ENSG00000166603</td>\n",
       "      <td>MC4R</td>\n",
       "      <td>causal</td>\n",
       "    </tr>\n",
       "    <tr>\n",
       "      <th>23</th>\n",
       "      <td>ENSG00000145730</td>\n",
       "      <td>PAM</td>\n",
       "      <td>causal</td>\n",
       "    </tr>\n",
       "    <tr>\n",
       "      <th>24</th>\n",
       "      <td>ENSG00000132849</td>\n",
       "      <td>PATJ</td>\n",
       "      <td>causal</td>\n",
       "    </tr>\n",
       "    <tr>\n",
       "      <th>28</th>\n",
       "      <td>ENSG00000152359</td>\n",
       "      <td>POC5</td>\n",
       "      <td>causal</td>\n",
       "    </tr>\n",
       "    <tr>\n",
       "      <th>33</th>\n",
       "      <td>ENSG00000164756</td>\n",
       "      <td>SLC30A8</td>\n",
       "      <td>causal</td>\n",
       "    </tr>\n",
       "    <tr>\n",
       "      <th>38</th>\n",
       "      <td>ENSG00000075035</td>\n",
       "      <td>WSCD2</td>\n",
       "      <td>causal</td>\n",
       "    </tr>\n",
       "    <tr>\n",
       "      <th>40</th>\n",
       "      <td>ENSG00000150967</td>\n",
       "      <td>ABCB9</td>\n",
       "      <td>strong</td>\n",
       "    </tr>\n",
       "    <tr>\n",
       "      <th>41</th>\n",
       "      <td>ENSG00000050820</td>\n",
       "      <td>BCAR1</td>\n",
       "      <td>strong</td>\n",
       "    </tr>\n",
       "    <tr>\n",
       "      <th>43</th>\n",
       "      <td>ENSG00000183049</td>\n",
       "      <td>CAMK1D</td>\n",
       "      <td>strong</td>\n",
       "    </tr>\n",
       "    <tr>\n",
       "      <th>44</th>\n",
       "      <td>ENSG00000118971</td>\n",
       "      <td>CCND2</td>\n",
       "      <td>strong</td>\n",
       "    </tr>\n",
       "    <tr>\n",
       "      <th>48</th>\n",
       "      <td>ENSG00000177508</td>\n",
       "      <td>IRX3</td>\n",
       "      <td>strong</td>\n",
       "    </tr>\n",
       "    <tr>\n",
       "      <th>49</th>\n",
       "      <td>ENSG00000176842</td>\n",
       "      <td>IRX5</td>\n",
       "      <td>strong</td>\n",
       "    </tr>\n",
       "    <tr>\n",
       "      <th>52</th>\n",
       "      <td>ENSG00000160789</td>\n",
       "      <td>LMNA</td>\n",
       "      <td>strong</td>\n",
       "    </tr>\n",
       "    <tr>\n",
       "      <th>53</th>\n",
       "      <td>ENSG00000163581</td>\n",
       "      <td>SLC2A2</td>\n",
       "      <td>strong</td>\n",
       "    </tr>\n",
       "    <tr>\n",
       "      <th>55</th>\n",
       "      <td>ENSG00000148737</td>\n",
       "      <td>TCF7L2</td>\n",
       "      <td>strong</td>\n",
       "    </tr>\n",
       "    <tr>\n",
       "      <th>61</th>\n",
       "      <td>ENSG00000145354</td>\n",
       "      <td>CISD2</td>\n",
       "      <td>moderate</td>\n",
       "    </tr>\n",
       "    <tr>\n",
       "      <th>64</th>\n",
       "      <td>ENSG00000073792</td>\n",
       "      <td>IGF2BP2</td>\n",
       "      <td>moderate</td>\n",
       "    </tr>\n",
       "    <tr>\n",
       "      <th>67</th>\n",
       "      <td>ENSG00000127603</td>\n",
       "      <td>MACF1</td>\n",
       "      <td>moderate</td>\n",
       "    </tr>\n",
       "    <tr>\n",
       "      <th>70</th>\n",
       "      <td>ENSG00000113231</td>\n",
       "      <td>PDE8B</td>\n",
       "      <td>moderate</td>\n",
       "    </tr>\n",
       "  </tbody>\n",
       "</table>\n",
       "</div>"
      ],
      "text/plain": [
       "            gene_id gene_name      type\n",
       "10  ENSG00000135100     HNF1A    causal\n",
       "18  ENSG00000166603      MC4R    causal\n",
       "23  ENSG00000145730       PAM    causal\n",
       "24  ENSG00000132849      PATJ    causal\n",
       "28  ENSG00000152359      POC5    causal\n",
       "33  ENSG00000164756   SLC30A8    causal\n",
       "38  ENSG00000075035     WSCD2    causal\n",
       "40  ENSG00000150967     ABCB9    strong\n",
       "41  ENSG00000050820     BCAR1    strong\n",
       "43  ENSG00000183049    CAMK1D    strong\n",
       "44  ENSG00000118971     CCND2    strong\n",
       "48  ENSG00000177508      IRX3    strong\n",
       "49  ENSG00000176842      IRX5    strong\n",
       "52  ENSG00000160789      LMNA    strong\n",
       "53  ENSG00000163581    SLC2A2    strong\n",
       "55  ENSG00000148737    TCF7L2    strong\n",
       "61  ENSG00000145354     CISD2  moderate\n",
       "64  ENSG00000073792   IGF2BP2  moderate\n",
       "67  ENSG00000127603     MACF1  moderate\n",
       "70  ENSG00000113231     PDE8B  moderate"
      ]
     },
     "execution_count": 58,
     "metadata": {},
     "output_type": "execute_result"
    }
   ],
   "source": [
    "# what kind of genes are we detecting in GWAS? (strong, weak, etc)\n",
    "all_t2d_genes[all_t2d_genes['gene_id'].isin(predixcan_classifier_df.index)]"
   ]
  },
  {
   "cell_type": "code",
   "execution_count": 59,
   "metadata": {},
   "outputs": [
    {
     "data": {
      "text/plain": [
       "(5066,)"
      ]
     },
     "execution_count": 59,
     "metadata": {},
     "output_type": "execute_result"
    }
   ],
   "source": [
    "predixcan_classifier_df.index.unique().shape"
   ]
  },
  {
   "cell_type": "code",
   "execution_count": 60,
   "metadata": {},
   "outputs": [
    {
     "data": {
      "text/plain": [
       "(5066, 3)"
      ]
     },
     "execution_count": 60,
     "metadata": {},
     "output_type": "execute_result"
    }
   ],
   "source": [
    "predixcan_classifier_df.shape"
   ]
  },
  {
   "cell_type": "code",
   "execution_count": 61,
   "metadata": {},
   "outputs": [
    {
     "data": {
      "text/plain": [
       "0    5063\n",
       "1       3\n",
       "Name: predicted_class, dtype: int64"
      ]
     },
     "execution_count": 61,
     "metadata": {},
     "output_type": "execute_result"
    }
   ],
   "source": [
    "predixcan_classifier_df['predicted_class'].value_counts()"
   ]
  },
  {
   "cell_type": "code",
   "execution_count": 62,
   "metadata": {},
   "outputs": [
    {
     "data": {
      "text/plain": [
       "0    5046\n",
       "1      20\n",
       "Name: true_class, dtype: int64"
      ]
     },
     "execution_count": 62,
     "metadata": {},
     "output_type": "execute_result"
    }
   ],
   "source": [
    "predixcan_classifier_df['true_class'].value_counts()"
   ]
  },
  {
   "cell_type": "markdown",
   "metadata": {},
   "source": [
    "# Save classifier table"
   ]
  },
  {
   "cell_type": "code",
   "execution_count": 63,
   "metadata": {},
   "outputs": [
    {
     "data": {
      "text/plain": [
       "(5066, 3)"
      ]
     },
     "execution_count": 63,
     "metadata": {},
     "output_type": "execute_result"
    }
   ],
   "source": [
    "predixcan_classifier_df.shape"
   ]
  },
  {
   "cell_type": "code",
   "execution_count": 64,
   "metadata": {},
   "outputs": [],
   "source": [
    "# remove nans\n",
    "predixcan_classifier_df = predixcan_classifier_df.dropna()"
   ]
  },
  {
   "cell_type": "code",
   "execution_count": 65,
   "metadata": {},
   "outputs": [
    {
     "data": {
      "text/plain": [
       "(5066, 3)"
      ]
     },
     "execution_count": 65,
     "metadata": {},
     "output_type": "execute_result"
    }
   ],
   "source": [
    "predixcan_classifier_df.shape"
   ]
  },
  {
   "cell_type": "code",
   "execution_count": 66,
   "metadata": {},
   "outputs": [],
   "source": [
    "assert predixcan_classifier_df.index.is_unique"
   ]
  },
  {
   "cell_type": "code",
   "execution_count": 67,
   "metadata": {},
   "outputs": [
    {
     "data": {
      "text/html": [
       "<div>\n",
       "<style scoped>\n",
       "    .dataframe tbody tr th:only-of-type {\n",
       "        vertical-align: middle;\n",
       "    }\n",
       "\n",
       "    .dataframe tbody tr th {\n",
       "        vertical-align: top;\n",
       "    }\n",
       "\n",
       "    .dataframe thead th {\n",
       "        text-align: right;\n",
       "    }\n",
       "</style>\n",
       "<table border=\"1\" class=\"dataframe\">\n",
       "  <thead>\n",
       "    <tr style=\"text-align: right;\">\n",
       "      <th></th>\n",
       "      <th>score</th>\n",
       "      <th>predicted_class</th>\n",
       "      <th>true_class</th>\n",
       "    </tr>\n",
       "  </thead>\n",
       "  <tbody>\n",
       "    <tr>\n",
       "      <th>ENSG00000000457</th>\n",
       "      <td>0.000509</td>\n",
       "      <td>0</td>\n",
       "      <td>0</td>\n",
       "    </tr>\n",
       "    <tr>\n",
       "      <th>ENSG00000000460</th>\n",
       "      <td>0.000471</td>\n",
       "      <td>0</td>\n",
       "      <td>0</td>\n",
       "    </tr>\n",
       "    <tr>\n",
       "      <th>ENSG00000000938</th>\n",
       "      <td>0.000100</td>\n",
       "      <td>0</td>\n",
       "      <td>0</td>\n",
       "    </tr>\n",
       "    <tr>\n",
       "      <th>ENSG00000000971</th>\n",
       "      <td>0.000000</td>\n",
       "      <td>0</td>\n",
       "      <td>0</td>\n",
       "    </tr>\n",
       "    <tr>\n",
       "      <th>ENSG00000001460</th>\n",
       "      <td>0.000399</td>\n",
       "      <td>0</td>\n",
       "      <td>0</td>\n",
       "    </tr>\n",
       "  </tbody>\n",
       "</table>\n",
       "</div>"
      ],
      "text/plain": [
       "                    score  predicted_class  true_class\n",
       "ENSG00000000457  0.000509                0           0\n",
       "ENSG00000000460  0.000471                0           0\n",
       "ENSG00000000938  0.000100                0           0\n",
       "ENSG00000000971  0.000000                0           0\n",
       "ENSG00000001460  0.000399                0           0"
      ]
     },
     "execution_count": 67,
     "metadata": {},
     "output_type": "execute_result"
    }
   ],
   "source": [
    "predixcan_classifier_df.head()"
   ]
  },
  {
   "cell_type": "code",
   "execution_count": 68,
   "metadata": {},
   "outputs": [],
   "source": [
    "predixcan_classifier_df.to_csv(\n",
    "    os.path.join(output_dir, 't2d-combined-classifier_data.tsv.gz'),\n",
    "    sep='\\t', index=False\n",
    ")"
   ]
  },
  {
   "cell_type": "code",
   "execution_count": null,
   "metadata": {},
   "outputs": [],
   "source": []
  }
 ],
 "metadata": {
  "kernelspec": {
   "display_name": "Python 3",
   "language": "python",
   "name": "python3"
  },
  "language_info": {
   "codemirror_mode": {
    "name": "ipython",
    "version": 3
   },
   "file_extension": ".py",
   "mimetype": "text/x-python",
   "name": "python",
   "nbconvert_exporter": "python",
   "pygments_lexer": "ipython3",
   "version": "3.7.6"
  }
 },
 "nbformat": 4,
 "nbformat_minor": 4
}
