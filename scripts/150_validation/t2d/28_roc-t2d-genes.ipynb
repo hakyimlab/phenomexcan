{
 "cells": [
  {
   "cell_type": "code",
   "execution_count": 1,
   "metadata": {},
   "outputs": [],
   "source": [
    "%load_ext autoreload\n",
    "%autoreload 2"
   ]
  },
  {
   "cell_type": "code",
   "execution_count": 2,
   "metadata": {},
   "outputs": [],
   "source": [
    "import os\n",
    "import pickle\n",
    "\n",
    "import numpy as np\n",
    "import pandas as pd\n",
    "\n",
    "import settings as conf"
   ]
  },
  {
   "cell_type": "code",
   "execution_count": 3,
   "metadata": {},
   "outputs": [
    {
     "data": {
      "text/plain": [
       "'/mnt/phenomexcan_base/deliverables/roc_validation/classifier_tables/t2d'"
      ]
     },
     "metadata": {},
     "output_type": "display_data"
    }
   ],
   "source": [
    "output_dir = os.path.join(conf.DELIVERABLES_DIR, 'roc_validation', 'classifier_tables', 't2d')\n",
    "os.makedirs(output_dir, exist_ok=True)\n",
    "display(output_dir)"
   ]
  },
  {
   "cell_type": "markdown",
   "metadata": {},
   "source": [
    "# Load gene mappings"
   ]
  },
  {
   "cell_type": "code",
   "execution_count": 4,
   "metadata": {},
   "outputs": [],
   "source": [
    "with open(os.path.join(conf.GENES_METADATA_DIR, 'genes_mapping_simplified-0.pkl'), 'rb') as f:\n",
    "    genes_mapping_0 = pickle.load(f)\n",
    "\n",
    "with open(os.path.join(conf.GENES_METADATA_DIR, 'genes_mapping_simplified-1.pkl'), 'rb') as f:\n",
    "    genes_mapping_1 = pickle.load(f)"
   ]
  },
  {
   "cell_type": "markdown",
   "metadata": {},
   "source": [
    "# Create list of genes related to T2D"
   ]
  },
  {
   "cell_type": "markdown",
   "metadata": {},
   "source": [
    "Taken from: https://grants.nih.gov/grants/guide/rfa-files/RFA-DK-19-012.html"
   ]
  },
  {
   "cell_type": "code",
   "execution_count": 5,
   "metadata": {},
   "outputs": [
    {
     "data": {
      "text/plain": [
       "40"
      ]
     },
     "metadata": {},
     "output_type": "display_data"
    }
   ],
   "source": [
    "causal_genes = \"\"\"\n",
    "ABCC8, ANGPTL4, ANKH, APOE, CDKN1B, GCK, GCKR, GIPR, GLIS3, GLP1R, HNF1A, HNF1B,\n",
    "HNF4A, IGF2, INS, IRS2, KCNJ11, LPL, MC4R, MNX1, MTNR1B, NEUROG3, NKX2-2, PAM,\n",
    "PATJ, PAX4, PDX1, PLCB3, PNPLA3, POC5, PPARG, QSER1, RREB1, SLC16A11, SLC30A8,\n",
    "SLC5A1, TBC1D4, TM6SF2, WFS1, WSCD2, ZNF771\n",
    "\"\"\".replace(',', ' ').split()\n",
    "\n",
    "assert len(causal_genes) == 41\n",
    "\n",
    "causal_genes_ids = [genes_mapping_1[g] for g in causal_genes if g in genes_mapping_1]\n",
    "display(len(causal_genes_ids))"
   ]
  },
  {
   "cell_type": "code",
   "execution_count": 6,
   "metadata": {},
   "outputs": [
    {
     "data": {
      "text/plain": [
       "17"
      ]
     },
     "metadata": {},
     "output_type": "display_data"
    }
   ],
   "source": [
    "strong_genes = \"\"\"\n",
    "ABCB9, BCAR1, C2CD4B, CAMK1D, CCND2, DGKB, INSR, IRS1, IRX3, IRX5,\n",
    "KLF14, KLHL42, LMNA, SLC2A2, STARD10, TCF7L2, ZMIZ1\n",
    "\"\"\".replace(',', ' ').split()\n",
    "\n",
    "assert len(strong_genes) == 17\n",
    "\n",
    "strong_genes_ids = [genes_mapping_1[g] for g in strong_genes if g in genes_mapping_1]\n",
    "display(len(strong_genes_ids))"
   ]
  },
  {
   "cell_type": "code",
   "execution_count": 7,
   "metadata": {},
   "outputs": [
    {
     "data": {
      "text/plain": [
       "19"
      ]
     },
     "metadata": {},
     "output_type": "display_data"
    }
   ],
   "source": [
    "moderate_genes = \"\"\"\n",
    "ADCY5, AGPAT2, AGTR2, AP3S2, BCL11A, CISD2, FAM63A, FOXA2, GPSM1, IGF2BP2, JAZF1,\n",
    "KCNK17, MACF1, MADD, NKX6-3, PDE8B, PLIN1, SGSM2, SPRY2, UBE2E2, VPS13C\n",
    "\"\"\".replace(',', ' ').split()\n",
    "\n",
    "assert len(moderate_genes) == 21\n",
    "\n",
    "moderate_genes_ids = [genes_mapping_1[g] for g in moderate_genes if g in genes_mapping_1]\n",
    "display(len(moderate_genes_ids))"
   ]
  },
  {
   "cell_type": "code",
   "execution_count": 8,
   "metadata": {},
   "outputs": [
    {
     "data": {
      "text/plain": [
       "13"
      ]
     },
     "metadata": {},
     "output_type": "display_data"
    }
   ],
   "source": [
    "possible_genes = \"\"\"\n",
    "ANK1, ASCC2, CALCOCO2, FADS1, HMG20A, IL17REL, MRPS30, PRC1, PTRF, SCD5, SNAPC4, ST6GAL1, TP53INP1\n",
    "\"\"\".replace(',', ' ').split()\n",
    "\n",
    "assert len(possible_genes) == 13\n",
    "\n",
    "possible_genes_ids = [genes_mapping_1[g] for g in possible_genes if g in genes_mapping_1]\n",
    "display(len(possible_genes_ids))"
   ]
  },
  {
   "cell_type": "code",
   "execution_count": 9,
   "metadata": {},
   "outputs": [
    {
     "data": {
      "text/plain": [
       "5"
      ]
     },
     "metadata": {},
     "output_type": "display_data"
    }
   ],
   "source": [
    "weak_genes = \"\"\"\n",
    "ABO, CARD9, CDK2AP1, CTNNAL1, DNZL, ITGB6\n",
    "\"\"\".replace(',', ' ').split()\n",
    "\n",
    "assert len(weak_genes) == 6\n",
    "\n",
    "weak_genes_ids = [genes_mapping_1[g] for g in weak_genes if g in genes_mapping_1]\n",
    "display(len(weak_genes_ids))"
   ]
  },
  {
   "cell_type": "code",
   "execution_count": 10,
   "metadata": {},
   "outputs": [
    {
     "data": {
      "text/plain": [
       "31"
      ]
     },
     "metadata": {},
     "output_type": "display_data"
    }
   ],
   "source": [
    "related_traits_genes = \"\"\"\n",
    "ADRA2A, AKT2, APPL1, BLK, BSCL2, CAV1, CEL, EIF2AK3, ERAP2, FOXP3, G6PC2, G6PD,\n",
    "GATA4, GATA6, GCG, GRB10, IER3IP1, IGF1, KLF11, NAT2, NEUROD1, PAX6, PCBD1,\n",
    "PCSK1, POLD1, PPP1R15B, PTF1A, RFX6, SIX2, SIX3, SLC19A2, TRMT10A, WARS, ZFP57\n",
    "\"\"\".replace(',', ' ').split()\n",
    "\n",
    "assert len(related_traits_genes) == 34\n",
    "\n",
    "related_traits_genes_ids = [genes_mapping_1[g] for g in related_traits_genes if g in genes_mapping_1]\n",
    "display(len(related_traits_genes_ids))"
   ]
  },
  {
   "cell_type": "markdown",
   "metadata": {},
   "source": [
    "### All T2D genes together"
   ]
  },
  {
   "cell_type": "code",
   "execution_count": 11,
   "metadata": {},
   "outputs": [],
   "source": [
    "all_t2d_genes = pd.DataFrame(\n",
    "    {\n",
    "        'gene_id': (\n",
    "            causal_genes_ids + strong_genes_ids + moderate_genes_ids +\n",
    "            possible_genes_ids + weak_genes_ids + related_traits_genes_ids\n",
    "        ),\n",
    "    }\n",
    ")"
   ]
  },
  {
   "cell_type": "code",
   "execution_count": 12,
   "metadata": {},
   "outputs": [],
   "source": [
    "all_t2d_genes = all_t2d_genes.assign(gene_name=all_t2d_genes['gene_id'].apply(lambda x: genes_mapping_0[x]))"
   ]
  },
  {
   "cell_type": "code",
   "execution_count": 13,
   "metadata": {},
   "outputs": [],
   "source": [
    "all_t2d_genes.loc[all_t2d_genes['gene_id'].isin(causal_genes_ids), 'type'] = 'causal'\n",
    "all_t2d_genes.loc[all_t2d_genes['gene_id'].isin(strong_genes_ids), 'type'] = 'strong'\n",
    "all_t2d_genes.loc[all_t2d_genes['gene_id'].isin(moderate_genes_ids), 'type'] = 'moderate'\n",
    "all_t2d_genes.loc[all_t2d_genes['gene_id'].isin(possible_genes_ids), 'type'] = 'possible'\n",
    "all_t2d_genes.loc[all_t2d_genes['gene_id'].isin(weak_genes_ids), 'type'] = 'weak'\n",
    "all_t2d_genes.loc[all_t2d_genes['gene_id'].isin(related_traits_genes_ids), 'type'] = 'related_traits'"
   ]
  },
  {
   "cell_type": "code",
   "execution_count": 14,
   "metadata": {},
   "outputs": [
    {
     "data": {
      "text/plain": [
       "causal            40\n",
       "related_traits    31\n",
       "moderate          19\n",
       "strong            17\n",
       "possible          13\n",
       "weak               5\n",
       "Name: type, dtype: int64"
      ]
     },
     "metadata": {},
     "output_type": "display_data"
    }
   ],
   "source": [
    "_tmp = all_t2d_genes['type'].value_counts()\n",
    "display(_tmp)\n",
    "assert _tmp['causal'] == 40\n",
    "assert _tmp['strong'] == 17\n",
    "assert _tmp['moderate'] == 19\n",
    "assert _tmp['possible'] == 13\n",
    "assert _tmp['weak'] == 5\n",
    "assert _tmp['related_traits'] == 31"
   ]
  },
  {
   "cell_type": "code",
   "execution_count": 15,
   "metadata": {},
   "outputs": [
    {
     "data": {
      "text/plain": [
       "(125, 3)"
      ]
     },
     "execution_count": 15,
     "metadata": {},
     "output_type": "execute_result"
    }
   ],
   "source": [
    "all_t2d_genes.shape"
   ]
  },
  {
   "cell_type": "code",
   "execution_count": 16,
   "metadata": {},
   "outputs": [
    {
     "data": {
      "text/html": [
       "<div>\n",
       "<style scoped>\n",
       "    .dataframe tbody tr th:only-of-type {\n",
       "        vertical-align: middle;\n",
       "    }\n",
       "\n",
       "    .dataframe tbody tr th {\n",
       "        vertical-align: top;\n",
       "    }\n",
       "\n",
       "    .dataframe thead th {\n",
       "        text-align: right;\n",
       "    }\n",
       "</style>\n",
       "<table border=\"1\" class=\"dataframe\">\n",
       "  <thead>\n",
       "    <tr style=\"text-align: right;\">\n",
       "      <th></th>\n",
       "      <th>gene_id</th>\n",
       "      <th>gene_name</th>\n",
       "      <th>type</th>\n",
       "    </tr>\n",
       "  </thead>\n",
       "  <tbody>\n",
       "    <tr>\n",
       "      <th>0</th>\n",
       "      <td>ENSG00000006071</td>\n",
       "      <td>ABCC8</td>\n",
       "      <td>causal</td>\n",
       "    </tr>\n",
       "    <tr>\n",
       "      <th>1</th>\n",
       "      <td>ENSG00000167772</td>\n",
       "      <td>ANGPTL4</td>\n",
       "      <td>causal</td>\n",
       "    </tr>\n",
       "    <tr>\n",
       "      <th>2</th>\n",
       "      <td>ENSG00000154122</td>\n",
       "      <td>ANKH</td>\n",
       "      <td>causal</td>\n",
       "    </tr>\n",
       "    <tr>\n",
       "      <th>3</th>\n",
       "      <td>ENSG00000130203</td>\n",
       "      <td>APOE</td>\n",
       "      <td>causal</td>\n",
       "    </tr>\n",
       "    <tr>\n",
       "      <th>4</th>\n",
       "      <td>ENSG00000111276</td>\n",
       "      <td>CDKN1B</td>\n",
       "      <td>causal</td>\n",
       "    </tr>\n",
       "  </tbody>\n",
       "</table>\n",
       "</div>"
      ],
      "text/plain": [
       "           gene_id gene_name    type\n",
       "0  ENSG00000006071     ABCC8  causal\n",
       "1  ENSG00000167772   ANGPTL4  causal\n",
       "2  ENSG00000154122      ANKH  causal\n",
       "3  ENSG00000130203      APOE  causal\n",
       "4  ENSG00000111276    CDKN1B  causal"
      ]
     },
     "execution_count": 16,
     "metadata": {},
     "output_type": "execute_result"
    }
   ],
   "source": [
    "all_t2d_genes.head()"
   ]
  },
  {
   "cell_type": "markdown",
   "metadata": {},
   "source": [
    "# Keep only important genes"
   ]
  },
  {
   "cell_type": "code",
   "execution_count": 17,
   "metadata": {},
   "outputs": [
    {
     "data": {
      "text/plain": [
       "(76, 3)"
      ]
     },
     "metadata": {},
     "output_type": "display_data"
    }
   ],
   "source": [
    "all_t2d_genes = all_t2d_genes[all_t2d_genes['type'].isin(('causal', 'strong', 'moderate'))]\n",
    "display(all_t2d_genes.shape)"
   ]
  },
  {
   "cell_type": "markdown",
   "metadata": {},
   "source": [
    "## Save"
   ]
  },
  {
   "cell_type": "markdown",
   "metadata": {},
   "source": [
    "### Internal"
   ]
  },
  {
   "cell_type": "code",
   "execution_count": 18,
   "metadata": {},
   "outputs": [
    {
     "data": {
      "text/plain": [
       "'/mnt/phenomexcan_base/deliverables/roc_validation/classifier_tables/t2d/t2d_genes.pkl.xz'"
      ]
     },
     "metadata": {},
     "output_type": "display_data"
    }
   ],
   "source": [
    "t2d_genes_filename = os.path.join(output_dir, 't2d_genes.pkl.xz')\n",
    "display(t2d_genes_filename)"
   ]
  },
  {
   "cell_type": "code",
   "execution_count": 19,
   "metadata": {},
   "outputs": [],
   "source": [
    "all_t2d_genes.to_pickle(t2d_genes_filename)"
   ]
  },
  {
   "cell_type": "markdown",
   "metadata": {},
   "source": [
    "### Publishable"
   ]
  },
  {
   "cell_type": "code",
   "execution_count": 20,
   "metadata": {},
   "outputs": [
    {
     "data": {
      "text/plain": [
       "'/mnt/phenomexcan_base/deliverables/roc_validation/classifier_tables/t2d/t2d_genes.tsv.gz'"
      ]
     },
     "metadata": {},
     "output_type": "display_data"
    }
   ],
   "source": [
    "t2d_genes_filename = os.path.join(output_dir, 't2d_genes.tsv.gz')\n",
    "display(t2d_genes_filename)"
   ]
  },
  {
   "cell_type": "code",
   "execution_count": 21,
   "metadata": {},
   "outputs": [],
   "source": [
    "all_t2d_genes.to_csv(t2d_genes_filename, sep='\\t', index=False)"
   ]
  },
  {
   "cell_type": "code",
   "execution_count": null,
   "metadata": {},
   "outputs": [],
   "source": []
  }
 ],
 "metadata": {
  "kernelspec": {
   "display_name": "Python 3",
   "language": "python",
   "name": "python3"
  },
  "language_info": {
   "codemirror_mode": {
    "name": "ipython",
    "version": 3
   },
   "file_extension": ".py",
   "mimetype": "text/x-python",
   "name": "python",
   "nbconvert_exporter": "python",
   "pygments_lexer": "ipython3",
   "version": "3.7.5"
  }
 },
 "nbformat": 4,
 "nbformat_minor": 4
}
