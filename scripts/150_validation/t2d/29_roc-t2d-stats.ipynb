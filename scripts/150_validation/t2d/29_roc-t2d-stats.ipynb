{
 "cells": [
  {
   "cell_type": "code",
   "execution_count": 1,
   "metadata": {},
   "outputs": [],
   "source": [
    "%load_ext autoreload\n",
    "%autoreload 2"
   ]
  },
  {
   "cell_type": "code",
   "execution_count": 2,
   "metadata": {},
   "outputs": [],
   "source": [
    "import os\n",
    "import pickle\n",
    "\n",
    "import numpy as np\n",
    "import pandas as pd\n",
    "\n",
    "import settings as conf\n",
    "import metadata"
   ]
  },
  {
   "cell_type": "code",
   "execution_count": 3,
   "metadata": {},
   "outputs": [
    {
     "data": {
      "text/plain": [
       "'/mnt/phenomexcan_base/deliverables/roc_validation/classifier_tables/t2d'"
      ]
     },
     "metadata": {},
     "output_type": "display_data"
    }
   ],
   "source": [
    "output_dir = os.path.join(conf.DELIVERABLES_DIR, 'roc_validation', 'classifier_tables', 't2d')\n",
    "os.makedirs(output_dir, exist_ok=True)\n",
    "display(output_dir)"
   ]
  },
  {
   "cell_type": "markdown",
   "metadata": {},
   "source": [
    "# Load gene mappings"
   ]
  },
  {
   "cell_type": "code",
   "execution_count": 4,
   "metadata": {},
   "outputs": [],
   "source": [
    "with open(os.path.join(conf.GENES_METADATA_DIR, 'genes_mapping_simplified-0.pkl'), 'rb') as f:\n",
    "    genes_mapping_0 = pickle.load(f)\n",
    "\n",
    "with open(os.path.join(conf.GENES_METADATA_DIR, 'genes_mapping_simplified-1.pkl'), 'rb') as f:\n",
    "    genes_mapping_1 = pickle.load(f)"
   ]
  },
  {
   "cell_type": "markdown",
   "metadata": {},
   "source": [
    "# Load T2D genes"
   ]
  },
  {
   "cell_type": "code",
   "execution_count": 5,
   "metadata": {},
   "outputs": [
    {
     "data": {
      "text/plain": [
       "'/mnt/phenomexcan_base/deliverables/roc_validation/classifier_tables/t2d/t2d_genes.pkl.xz'"
      ]
     },
     "metadata": {},
     "output_type": "display_data"
    }
   ],
   "source": [
    "t2d_genes_filename = os.path.join(output_dir, 't2d_genes.pkl.xz')\n",
    "display(t2d_genes_filename)"
   ]
  },
  {
   "cell_type": "code",
   "execution_count": 6,
   "metadata": {},
   "outputs": [],
   "source": [
    "all_t2d_genes = pd.read_pickle(t2d_genes_filename)"
   ]
  },
  {
   "cell_type": "code",
   "execution_count": 7,
   "metadata": {},
   "outputs": [
    {
     "data": {
      "text/plain": [
       "(76, 3)"
      ]
     },
     "execution_count": 7,
     "metadata": {},
     "output_type": "execute_result"
    }
   ],
   "source": [
    "all_t2d_genes.shape"
   ]
  },
  {
   "cell_type": "code",
   "execution_count": 8,
   "metadata": {},
   "outputs": [
    {
     "data": {
      "text/html": [
       "<div>\n",
       "<style scoped>\n",
       "    .dataframe tbody tr th:only-of-type {\n",
       "        vertical-align: middle;\n",
       "    }\n",
       "\n",
       "    .dataframe tbody tr th {\n",
       "        vertical-align: top;\n",
       "    }\n",
       "\n",
       "    .dataframe thead th {\n",
       "        text-align: right;\n",
       "    }\n",
       "</style>\n",
       "<table border=\"1\" class=\"dataframe\">\n",
       "  <thead>\n",
       "    <tr style=\"text-align: right;\">\n",
       "      <th></th>\n",
       "      <th>gene_id</th>\n",
       "      <th>gene_name</th>\n",
       "      <th>type</th>\n",
       "    </tr>\n",
       "  </thead>\n",
       "  <tbody>\n",
       "    <tr>\n",
       "      <th>0</th>\n",
       "      <td>ENSG00000006071</td>\n",
       "      <td>ABCC8</td>\n",
       "      <td>causal</td>\n",
       "    </tr>\n",
       "    <tr>\n",
       "      <th>1</th>\n",
       "      <td>ENSG00000167772</td>\n",
       "      <td>ANGPTL4</td>\n",
       "      <td>causal</td>\n",
       "    </tr>\n",
       "    <tr>\n",
       "      <th>2</th>\n",
       "      <td>ENSG00000154122</td>\n",
       "      <td>ANKH</td>\n",
       "      <td>causal</td>\n",
       "    </tr>\n",
       "    <tr>\n",
       "      <th>3</th>\n",
       "      <td>ENSG00000130203</td>\n",
       "      <td>APOE</td>\n",
       "      <td>causal</td>\n",
       "    </tr>\n",
       "    <tr>\n",
       "      <th>4</th>\n",
       "      <td>ENSG00000111276</td>\n",
       "      <td>CDKN1B</td>\n",
       "      <td>causal</td>\n",
       "    </tr>\n",
       "  </tbody>\n",
       "</table>\n",
       "</div>"
      ],
      "text/plain": [
       "           gene_id gene_name    type\n",
       "0  ENSG00000006071     ABCC8  causal\n",
       "1  ENSG00000167772   ANGPTL4  causal\n",
       "2  ENSG00000154122      ANKH  causal\n",
       "3  ENSG00000130203      APOE  causal\n",
       "4  ENSG00000111276    CDKN1B  causal"
      ]
     },
     "execution_count": 8,
     "metadata": {},
     "output_type": "execute_result"
    }
   ],
   "source": [
    "all_t2d_genes.head()"
   ]
  },
  {
   "cell_type": "markdown",
   "metadata": {},
   "source": [
    "# Load S-MultiXcan results"
   ]
  },
  {
   "cell_type": "code",
   "execution_count": 9,
   "metadata": {},
   "outputs": [
    {
     "data": {
      "text/plain": [
       "'/mnt/phenomexcan_base/gene_assoc/smultixcan-mashr-pvalues.pkl.xz'"
      ]
     },
     "metadata": {},
     "output_type": "display_data"
    }
   ],
   "source": [
    "smultixcan_pvalues_file = os.path.join(conf.GENE_ASSOC_DIR, f'smultixcan-mashr-pvalues.pkl.xz')\n",
    "display(smultixcan_pvalues_file)"
   ]
  },
  {
   "cell_type": "code",
   "execution_count": 10,
   "metadata": {},
   "outputs": [],
   "source": [
    "smultixcan_gene_associations = pd.read_pickle(smultixcan_pvalues_file)"
   ]
  },
  {
   "cell_type": "code",
   "execution_count": 11,
   "metadata": {},
   "outputs": [
    {
     "data": {
      "text/plain": [
       "(22515, 4091)"
      ]
     },
     "execution_count": 11,
     "metadata": {},
     "output_type": "execute_result"
    }
   ],
   "source": [
    "smultixcan_gene_associations.shape"
   ]
  },
  {
   "cell_type": "code",
   "execution_count": 12,
   "metadata": {},
   "outputs": [
    {
     "data": {
      "text/html": [
       "<div>\n",
       "<style scoped>\n",
       "    .dataframe tbody tr th:only-of-type {\n",
       "        vertical-align: middle;\n",
       "    }\n",
       "\n",
       "    .dataframe tbody tr th {\n",
       "        vertical-align: top;\n",
       "    }\n",
       "\n",
       "    .dataframe thead th {\n",
       "        text-align: right;\n",
       "    }\n",
       "</style>\n",
       "<table border=\"1\" class=\"dataframe\">\n",
       "  <thead>\n",
       "    <tr style=\"text-align: right;\">\n",
       "      <th></th>\n",
       "      <th>20096_1-Size_of_red_wine_glass_drunk_small_125ml</th>\n",
       "      <th>2345-Ever_had_bowel_cancer_screening</th>\n",
       "      <th>N49-Diagnoses_main_ICD10_N49_Inflammatory_disorders_of_male_genital_organs_not_elsewhere_classified</th>\n",
       "      <th>100011_raw-Iron</th>\n",
       "      <th>5221-Index_of_best_refractometry_result_right</th>\n",
       "      <th>20003_1141150624-Treatmentmedication_code_zomig_25mg_tablet</th>\n",
       "      <th>S69-Diagnoses_main_ICD10_S69_Other_and_unspecified_injuries_of_wrist_and_hand</th>\n",
       "      <th>20024_1136-Job_code_deduced_Information_and_communication_technology_managers</th>\n",
       "      <th>20002_1385-Noncancer_illness_code_selfreported_allergy_or_anaphylactic_reaction_to_food</th>\n",
       "      <th>G6_SLEEPAPNO-Sleep_apnoea</th>\n",
       "      <th>...</th>\n",
       "      <th>Astle_et_al_2016_Sum_basophil_neutrophil_counts</th>\n",
       "      <th>RA_OKADA_TRANS_ETHNIC</th>\n",
       "      <th>pgc.scz2</th>\n",
       "      <th>PGC_ADHD_EUR_2017</th>\n",
       "      <th>MAGIC_FastingGlucose</th>\n",
       "      <th>Astle_et_al_2016_Red_blood_cell_count</th>\n",
       "      <th>SSGAC_Depressive_Symptoms</th>\n",
       "      <th>BCAC_ER_positive_BreastCancer_EUR</th>\n",
       "      <th>IBD.EUR.Inflammatory_Bowel_Disease</th>\n",
       "      <th>Astle_et_al_2016_High_light_scatter_reticulocyte_count</th>\n",
       "    </tr>\n",
       "    <tr>\n",
       "      <th>gene_name</th>\n",
       "      <th></th>\n",
       "      <th></th>\n",
       "      <th></th>\n",
       "      <th></th>\n",
       "      <th></th>\n",
       "      <th></th>\n",
       "      <th></th>\n",
       "      <th></th>\n",
       "      <th></th>\n",
       "      <th></th>\n",
       "      <th></th>\n",
       "      <th></th>\n",
       "      <th></th>\n",
       "      <th></th>\n",
       "      <th></th>\n",
       "      <th></th>\n",
       "      <th></th>\n",
       "      <th></th>\n",
       "      <th></th>\n",
       "      <th></th>\n",
       "      <th></th>\n",
       "    </tr>\n",
       "  </thead>\n",
       "  <tbody>\n",
       "    <tr>\n",
       "      <th>ENSG00000000419</th>\n",
       "      <td>0.865429</td>\n",
       "      <td>0.918314</td>\n",
       "      <td>0.810683</td>\n",
       "      <td>0.374671</td>\n",
       "      <td>0.189032</td>\n",
       "      <td>0.140981</td>\n",
       "      <td>0.467741</td>\n",
       "      <td>0.129427</td>\n",
       "      <td>0.193680</td>\n",
       "      <td>0.285479</td>\n",
       "      <td>...</td>\n",
       "      <td>0.416210</td>\n",
       "      <td>0.782554</td>\n",
       "      <td>0.609467</td>\n",
       "      <td>0.980281</td>\n",
       "      <td>0.666504</td>\n",
       "      <td>0.409761</td>\n",
       "      <td>0.713310</td>\n",
       "      <td>0.168319</td>\n",
       "      <td>0.460244</td>\n",
       "      <td>0.765506</td>\n",
       "    </tr>\n",
       "    <tr>\n",
       "      <th>ENSG00000000457</th>\n",
       "      <td>0.174192</td>\n",
       "      <td>0.064765</td>\n",
       "      <td>0.889194</td>\n",
       "      <td>0.896938</td>\n",
       "      <td>0.448596</td>\n",
       "      <td>0.269602</td>\n",
       "      <td>0.540261</td>\n",
       "      <td>0.068405</td>\n",
       "      <td>0.041813</td>\n",
       "      <td>0.313427</td>\n",
       "      <td>...</td>\n",
       "      <td>0.149360</td>\n",
       "      <td>0.512603</td>\n",
       "      <td>0.010907</td>\n",
       "      <td>0.228982</td>\n",
       "      <td>0.607081</td>\n",
       "      <td>0.812484</td>\n",
       "      <td>0.678749</td>\n",
       "      <td>0.918971</td>\n",
       "      <td>0.311187</td>\n",
       "      <td>0.344574</td>\n",
       "    </tr>\n",
       "    <tr>\n",
       "      <th>ENSG00000000460</th>\n",
       "      <td>0.879969</td>\n",
       "      <td>0.240715</td>\n",
       "      <td>0.238228</td>\n",
       "      <td>0.567555</td>\n",
       "      <td>0.921320</td>\n",
       "      <td>0.825036</td>\n",
       "      <td>0.782230</td>\n",
       "      <td>0.644525</td>\n",
       "      <td>0.392273</td>\n",
       "      <td>0.840014</td>\n",
       "      <td>...</td>\n",
       "      <td>0.503520</td>\n",
       "      <td>0.764147</td>\n",
       "      <td>0.587969</td>\n",
       "      <td>0.301460</td>\n",
       "      <td>0.629621</td>\n",
       "      <td>0.486664</td>\n",
       "      <td>0.736509</td>\n",
       "      <td>0.933600</td>\n",
       "      <td>0.000477</td>\n",
       "      <td>0.321223</td>\n",
       "    </tr>\n",
       "    <tr>\n",
       "      <th>ENSG00000000938</th>\n",
       "      <td>0.192670</td>\n",
       "      <td>0.400054</td>\n",
       "      <td>0.114353</td>\n",
       "      <td>0.470700</td>\n",
       "      <td>0.889202</td>\n",
       "      <td>0.000011</td>\n",
       "      <td>0.899764</td>\n",
       "      <td>0.212352</td>\n",
       "      <td>0.829671</td>\n",
       "      <td>0.372348</td>\n",
       "      <td>...</td>\n",
       "      <td>0.899212</td>\n",
       "      <td>0.961678</td>\n",
       "      <td>0.059247</td>\n",
       "      <td>0.588855</td>\n",
       "      <td>0.898525</td>\n",
       "      <td>0.135045</td>\n",
       "      <td>0.954998</td>\n",
       "      <td>0.088220</td>\n",
       "      <td>0.176497</td>\n",
       "      <td>0.304281</td>\n",
       "    </tr>\n",
       "    <tr>\n",
       "      <th>ENSG00000000971</th>\n",
       "      <td>0.180632</td>\n",
       "      <td>0.793060</td>\n",
       "      <td>0.490585</td>\n",
       "      <td>0.088752</td>\n",
       "      <td>0.744531</td>\n",
       "      <td>0.949639</td>\n",
       "      <td>0.253817</td>\n",
       "      <td>0.377408</td>\n",
       "      <td>0.971655</td>\n",
       "      <td>0.070266</td>\n",
       "      <td>...</td>\n",
       "      <td>0.390618</td>\n",
       "      <td>0.093824</td>\n",
       "      <td>0.020391</td>\n",
       "      <td>0.109883</td>\n",
       "      <td>0.870551</td>\n",
       "      <td>0.995450</td>\n",
       "      <td>0.002660</td>\n",
       "      <td>0.421588</td>\n",
       "      <td>0.656851</td>\n",
       "      <td>0.868416</td>\n",
       "    </tr>\n",
       "  </tbody>\n",
       "</table>\n",
       "<p>5 rows × 4091 columns</p>\n",
       "</div>"
      ],
      "text/plain": [
       "                 20096_1-Size_of_red_wine_glass_drunk_small_125ml  \\\n",
       "gene_name                                                           \n",
       "ENSG00000000419                                          0.865429   \n",
       "ENSG00000000457                                          0.174192   \n",
       "ENSG00000000460                                          0.879969   \n",
       "ENSG00000000938                                          0.192670   \n",
       "ENSG00000000971                                          0.180632   \n",
       "\n",
       "                 2345-Ever_had_bowel_cancer_screening  \\\n",
       "gene_name                                               \n",
       "ENSG00000000419                              0.918314   \n",
       "ENSG00000000457                              0.064765   \n",
       "ENSG00000000460                              0.240715   \n",
       "ENSG00000000938                              0.400054   \n",
       "ENSG00000000971                              0.793060   \n",
       "\n",
       "                 N49-Diagnoses_main_ICD10_N49_Inflammatory_disorders_of_male_genital_organs_not_elsewhere_classified  \\\n",
       "gene_name                                                                                                              \n",
       "ENSG00000000419                                           0.810683                                                     \n",
       "ENSG00000000457                                           0.889194                                                     \n",
       "ENSG00000000460                                           0.238228                                                     \n",
       "ENSG00000000938                                           0.114353                                                     \n",
       "ENSG00000000971                                           0.490585                                                     \n",
       "\n",
       "                 100011_raw-Iron  \\\n",
       "gene_name                          \n",
       "ENSG00000000419         0.374671   \n",
       "ENSG00000000457         0.896938   \n",
       "ENSG00000000460         0.567555   \n",
       "ENSG00000000938         0.470700   \n",
       "ENSG00000000971         0.088752   \n",
       "\n",
       "                 5221-Index_of_best_refractometry_result_right  \\\n",
       "gene_name                                                        \n",
       "ENSG00000000419                                       0.189032   \n",
       "ENSG00000000457                                       0.448596   \n",
       "ENSG00000000460                                       0.921320   \n",
       "ENSG00000000938                                       0.889202   \n",
       "ENSG00000000971                                       0.744531   \n",
       "\n",
       "                 20003_1141150624-Treatmentmedication_code_zomig_25mg_tablet  \\\n",
       "gene_name                                                                      \n",
       "ENSG00000000419                                           0.140981             \n",
       "ENSG00000000457                                           0.269602             \n",
       "ENSG00000000460                                           0.825036             \n",
       "ENSG00000000938                                           0.000011             \n",
       "ENSG00000000971                                           0.949639             \n",
       "\n",
       "                 S69-Diagnoses_main_ICD10_S69_Other_and_unspecified_injuries_of_wrist_and_hand  \\\n",
       "gene_name                                                                                        \n",
       "ENSG00000000419                                           0.467741                               \n",
       "ENSG00000000457                                           0.540261                               \n",
       "ENSG00000000460                                           0.782230                               \n",
       "ENSG00000000938                                           0.899764                               \n",
       "ENSG00000000971                                           0.253817                               \n",
       "\n",
       "                 20024_1136-Job_code_deduced_Information_and_communication_technology_managers  \\\n",
       "gene_name                                                                                        \n",
       "ENSG00000000419                                           0.129427                               \n",
       "ENSG00000000457                                           0.068405                               \n",
       "ENSG00000000460                                           0.644525                               \n",
       "ENSG00000000938                                           0.212352                               \n",
       "ENSG00000000971                                           0.377408                               \n",
       "\n",
       "                 20002_1385-Noncancer_illness_code_selfreported_allergy_or_anaphylactic_reaction_to_food  \\\n",
       "gene_name                                                                                                  \n",
       "ENSG00000000419                                           0.193680                                         \n",
       "ENSG00000000457                                           0.041813                                         \n",
       "ENSG00000000460                                           0.392273                                         \n",
       "ENSG00000000938                                           0.829671                                         \n",
       "ENSG00000000971                                           0.971655                                         \n",
       "\n",
       "                 G6_SLEEPAPNO-Sleep_apnoea  ...  \\\n",
       "gene_name                                   ...   \n",
       "ENSG00000000419                   0.285479  ...   \n",
       "ENSG00000000457                   0.313427  ...   \n",
       "ENSG00000000460                   0.840014  ...   \n",
       "ENSG00000000938                   0.372348  ...   \n",
       "ENSG00000000971                   0.070266  ...   \n",
       "\n",
       "                 Astle_et_al_2016_Sum_basophil_neutrophil_counts  \\\n",
       "gene_name                                                          \n",
       "ENSG00000000419                                         0.416210   \n",
       "ENSG00000000457                                         0.149360   \n",
       "ENSG00000000460                                         0.503520   \n",
       "ENSG00000000938                                         0.899212   \n",
       "ENSG00000000971                                         0.390618   \n",
       "\n",
       "                 RA_OKADA_TRANS_ETHNIC  pgc.scz2  PGC_ADHD_EUR_2017  \\\n",
       "gene_name                                                             \n",
       "ENSG00000000419               0.782554  0.609467           0.980281   \n",
       "ENSG00000000457               0.512603  0.010907           0.228982   \n",
       "ENSG00000000460               0.764147  0.587969           0.301460   \n",
       "ENSG00000000938               0.961678  0.059247           0.588855   \n",
       "ENSG00000000971               0.093824  0.020391           0.109883   \n",
       "\n",
       "                 MAGIC_FastingGlucose  Astle_et_al_2016_Red_blood_cell_count  \\\n",
       "gene_name                                                                      \n",
       "ENSG00000000419              0.666504                               0.409761   \n",
       "ENSG00000000457              0.607081                               0.812484   \n",
       "ENSG00000000460              0.629621                               0.486664   \n",
       "ENSG00000000938              0.898525                               0.135045   \n",
       "ENSG00000000971              0.870551                               0.995450   \n",
       "\n",
       "                 SSGAC_Depressive_Symptoms  BCAC_ER_positive_BreastCancer_EUR  \\\n",
       "gene_name                                                                       \n",
       "ENSG00000000419                   0.713310                           0.168319   \n",
       "ENSG00000000457                   0.678749                           0.918971   \n",
       "ENSG00000000460                   0.736509                           0.933600   \n",
       "ENSG00000000938                   0.954998                           0.088220   \n",
       "ENSG00000000971                   0.002660                           0.421588   \n",
       "\n",
       "                 IBD.EUR.Inflammatory_Bowel_Disease  \\\n",
       "gene_name                                             \n",
       "ENSG00000000419                            0.460244   \n",
       "ENSG00000000457                            0.311187   \n",
       "ENSG00000000460                            0.000477   \n",
       "ENSG00000000938                            0.176497   \n",
       "ENSG00000000971                            0.656851   \n",
       "\n",
       "                 Astle_et_al_2016_High_light_scatter_reticulocyte_count  \n",
       "gene_name                                                                \n",
       "ENSG00000000419                                           0.765506       \n",
       "ENSG00000000457                                           0.344574       \n",
       "ENSG00000000460                                           0.321223       \n",
       "ENSG00000000938                                           0.304281       \n",
       "ENSG00000000971                                           0.868416       \n",
       "\n",
       "[5 rows x 4091 columns]"
      ]
     },
     "execution_count": 12,
     "metadata": {},
     "output_type": "execute_result"
    }
   ],
   "source": [
    "smultixcan_gene_associations.head(5)"
   ]
  },
  {
   "cell_type": "markdown",
   "metadata": {},
   "source": [
    "## Unstacked set of S-MultiXcan results"
   ]
  },
  {
   "cell_type": "code",
   "execution_count": 13,
   "metadata": {},
   "outputs": [],
   "source": [
    "smultixcan_results = smultixcan_gene_associations.rename_axis('trait', axis=1).unstack().rename('pvalue').dropna().reset_index()"
   ]
  },
  {
   "cell_type": "code",
   "execution_count": 14,
   "metadata": {},
   "outputs": [
    {
     "data": {
      "text/plain": [
       "(91055810, 3)"
      ]
     },
     "execution_count": 14,
     "metadata": {},
     "output_type": "execute_result"
    }
   ],
   "source": [
    "smultixcan_results.shape"
   ]
  },
  {
   "cell_type": "code",
   "execution_count": 15,
   "metadata": {},
   "outputs": [
    {
     "data": {
      "text/html": [
       "<div>\n",
       "<style scoped>\n",
       "    .dataframe tbody tr th:only-of-type {\n",
       "        vertical-align: middle;\n",
       "    }\n",
       "\n",
       "    .dataframe tbody tr th {\n",
       "        vertical-align: top;\n",
       "    }\n",
       "\n",
       "    .dataframe thead th {\n",
       "        text-align: right;\n",
       "    }\n",
       "</style>\n",
       "<table border=\"1\" class=\"dataframe\">\n",
       "  <thead>\n",
       "    <tr style=\"text-align: right;\">\n",
       "      <th></th>\n",
       "      <th>trait</th>\n",
       "      <th>gene_name</th>\n",
       "      <th>pvalue</th>\n",
       "    </tr>\n",
       "  </thead>\n",
       "  <tbody>\n",
       "    <tr>\n",
       "      <th>0</th>\n",
       "      <td>20096_1-Size_of_red_wine_glass_drunk_small_125ml</td>\n",
       "      <td>ENSG00000000419</td>\n",
       "      <td>0.865429</td>\n",
       "    </tr>\n",
       "    <tr>\n",
       "      <th>1</th>\n",
       "      <td>20096_1-Size_of_red_wine_glass_drunk_small_125ml</td>\n",
       "      <td>ENSG00000000457</td>\n",
       "      <td>0.174192</td>\n",
       "    </tr>\n",
       "    <tr>\n",
       "      <th>2</th>\n",
       "      <td>20096_1-Size_of_red_wine_glass_drunk_small_125ml</td>\n",
       "      <td>ENSG00000000460</td>\n",
       "      <td>0.879969</td>\n",
       "    </tr>\n",
       "    <tr>\n",
       "      <th>3</th>\n",
       "      <td>20096_1-Size_of_red_wine_glass_drunk_small_125ml</td>\n",
       "      <td>ENSG00000000938</td>\n",
       "      <td>0.192670</td>\n",
       "    </tr>\n",
       "    <tr>\n",
       "      <th>4</th>\n",
       "      <td>20096_1-Size_of_red_wine_glass_drunk_small_125ml</td>\n",
       "      <td>ENSG00000000971</td>\n",
       "      <td>0.180632</td>\n",
       "    </tr>\n",
       "  </tbody>\n",
       "</table>\n",
       "</div>"
      ],
      "text/plain": [
       "                                              trait        gene_name    pvalue\n",
       "0  20096_1-Size_of_red_wine_glass_drunk_small_125ml  ENSG00000000419  0.865429\n",
       "1  20096_1-Size_of_red_wine_glass_drunk_small_125ml  ENSG00000000457  0.174192\n",
       "2  20096_1-Size_of_red_wine_glass_drunk_small_125ml  ENSG00000000460  0.879969\n",
       "3  20096_1-Size_of_red_wine_glass_drunk_small_125ml  ENSG00000000938  0.192670\n",
       "4  20096_1-Size_of_red_wine_glass_drunk_small_125ml  ENSG00000000971  0.180632"
      ]
     },
     "execution_count": 15,
     "metadata": {},
     "output_type": "execute_result"
    }
   ],
   "source": [
    "smultixcan_results.head()"
   ]
  },
  {
   "cell_type": "code",
   "execution_count": 16,
   "metadata": {},
   "outputs": [],
   "source": [
    "del smultixcan_gene_associations"
   ]
  },
  {
   "cell_type": "markdown",
   "metadata": {},
   "source": [
    "# Create dataframe with selected genes results"
   ]
  },
  {
   "cell_type": "code",
   "execution_count": 17,
   "metadata": {},
   "outputs": [],
   "source": [
    "all_gene_results = []"
   ]
  },
  {
   "cell_type": "markdown",
   "metadata": {},
   "source": [
    "## Causal genes"
   ]
  },
  {
   "cell_type": "code",
   "execution_count": 18,
   "metadata": {},
   "outputs": [],
   "source": [
    "tmp_df = smultixcan_results.loc[\n",
    "    smultixcan_results['gene_name'].isin(all_t2d_genes[all_t2d_genes['type'] == 'causal']['gene_id'])\n",
    "]\n",
    "tmp_df = tmp_df.assign(gene_type='causal')"
   ]
  },
  {
   "cell_type": "code",
   "execution_count": 19,
   "metadata": {},
   "outputs": [
    {
     "data": {
      "text/plain": [
       "(163640, 4)"
      ]
     },
     "execution_count": 19,
     "metadata": {},
     "output_type": "execute_result"
    }
   ],
   "source": [
    "tmp_df.shape"
   ]
  },
  {
   "cell_type": "code",
   "execution_count": 20,
   "metadata": {},
   "outputs": [],
   "source": [
    "all_gene_results.append(tmp_df)"
   ]
  },
  {
   "cell_type": "markdown",
   "metadata": {},
   "source": [
    "## Strong genes"
   ]
  },
  {
   "cell_type": "code",
   "execution_count": 21,
   "metadata": {},
   "outputs": [],
   "source": [
    "tmp_df = smultixcan_results.loc[\n",
    "    smultixcan_results['gene_name'].isin(all_t2d_genes[all_t2d_genes['type'] == 'strong']['gene_id'])\n",
    "]\n",
    "tmp_df = tmp_df.assign(gene_type='strong')"
   ]
  },
  {
   "cell_type": "code",
   "execution_count": 22,
   "metadata": {},
   "outputs": [
    {
     "data": {
      "text/plain": [
       "(69547, 4)"
      ]
     },
     "execution_count": 22,
     "metadata": {},
     "output_type": "execute_result"
    }
   ],
   "source": [
    "tmp_df.shape"
   ]
  },
  {
   "cell_type": "code",
   "execution_count": 23,
   "metadata": {},
   "outputs": [],
   "source": [
    "all_gene_results.append(tmp_df)"
   ]
  },
  {
   "cell_type": "markdown",
   "metadata": {},
   "source": [
    "## Moderate genes"
   ]
  },
  {
   "cell_type": "code",
   "execution_count": 24,
   "metadata": {},
   "outputs": [],
   "source": [
    "tmp_df = smultixcan_results.loc[\n",
    "    smultixcan_results['gene_name'].isin(all_t2d_genes[all_t2d_genes['type'] == 'moderate']['gene_id'])\n",
    "]\n",
    "tmp_df = tmp_df.assign(gene_type='moderate')"
   ]
  },
  {
   "cell_type": "code",
   "execution_count": 25,
   "metadata": {},
   "outputs": [
    {
     "data": {
      "text/plain": [
       "(77729, 4)"
      ]
     },
     "execution_count": 25,
     "metadata": {},
     "output_type": "execute_result"
    }
   ],
   "source": [
    "tmp_df.shape"
   ]
  },
  {
   "cell_type": "code",
   "execution_count": 26,
   "metadata": {},
   "outputs": [],
   "source": [
    "all_gene_results.append(tmp_df)"
   ]
  },
  {
   "cell_type": "markdown",
   "metadata": {},
   "source": [
    "## Possible genes"
   ]
  },
  {
   "cell_type": "code",
   "execution_count": 27,
   "metadata": {},
   "outputs": [],
   "source": [
    "tmp_df = smultixcan_results.loc[\n",
    "    smultixcan_results['gene_name'].isin(all_t2d_genes[all_t2d_genes['type'] == 'possible']['gene_id'])\n",
    "]\n",
    "tmp_df = tmp_df.assign(gene_type='possible')"
   ]
  },
  {
   "cell_type": "code",
   "execution_count": 28,
   "metadata": {},
   "outputs": [
    {
     "data": {
      "text/plain": [
       "(0, 4)"
      ]
     },
     "execution_count": 28,
     "metadata": {},
     "output_type": "execute_result"
    }
   ],
   "source": [
    "tmp_df.shape"
   ]
  },
  {
   "cell_type": "code",
   "execution_count": 29,
   "metadata": {},
   "outputs": [],
   "source": [
    "all_gene_results.append(tmp_df)"
   ]
  },
  {
   "cell_type": "markdown",
   "metadata": {},
   "source": [
    "## Weak genes"
   ]
  },
  {
   "cell_type": "code",
   "execution_count": 30,
   "metadata": {},
   "outputs": [],
   "source": [
    "tmp_df = smultixcan_results.loc[\n",
    "    smultixcan_results['gene_name'].isin(all_t2d_genes[all_t2d_genes['type'] == 'weak']['gene_id'])\n",
    "]\n",
    "tmp_df = tmp_df.assign(gene_type='weak')"
   ]
  },
  {
   "cell_type": "code",
   "execution_count": 31,
   "metadata": {},
   "outputs": [
    {
     "data": {
      "text/plain": [
       "(0, 4)"
      ]
     },
     "execution_count": 31,
     "metadata": {},
     "output_type": "execute_result"
    }
   ],
   "source": [
    "tmp_df.shape"
   ]
  },
  {
   "cell_type": "code",
   "execution_count": 32,
   "metadata": {},
   "outputs": [],
   "source": [
    "all_gene_results.append(tmp_df)"
   ]
  },
  {
   "cell_type": "markdown",
   "metadata": {},
   "source": [
    "## Related traits genes"
   ]
  },
  {
   "cell_type": "code",
   "execution_count": 33,
   "metadata": {},
   "outputs": [],
   "source": [
    "tmp_df = smultixcan_results.loc[\n",
    "    smultixcan_results['gene_name'].isin(all_t2d_genes[all_t2d_genes['type'] == 'related_traits']['gene_id'])\n",
    "]\n",
    "tmp_df = tmp_df.assign(gene_type='related_traits')"
   ]
  },
  {
   "cell_type": "code",
   "execution_count": 34,
   "metadata": {},
   "outputs": [
    {
     "data": {
      "text/plain": [
       "(0, 4)"
      ]
     },
     "execution_count": 34,
     "metadata": {},
     "output_type": "execute_result"
    }
   ],
   "source": [
    "tmp_df.shape"
   ]
  },
  {
   "cell_type": "code",
   "execution_count": 35,
   "metadata": {},
   "outputs": [],
   "source": [
    "all_gene_results.append(tmp_df)"
   ]
  },
  {
   "cell_type": "markdown",
   "metadata": {},
   "source": [
    "## Combine all"
   ]
  },
  {
   "cell_type": "code",
   "execution_count": 36,
   "metadata": {},
   "outputs": [],
   "source": [
    "all_gene_results_df = pd.concat(all_gene_results, ignore_index=True)"
   ]
  },
  {
   "cell_type": "code",
   "execution_count": 37,
   "metadata": {},
   "outputs": [],
   "source": [
    "all_gene_results_df = all_gene_results_df.rename(columns={'gene_name': 'gene_id'})"
   ]
  },
  {
   "cell_type": "code",
   "execution_count": 38,
   "metadata": {},
   "outputs": [
    {
     "data": {
      "text/plain": [
       "(310916, 4)"
      ]
     },
     "execution_count": 38,
     "metadata": {},
     "output_type": "execute_result"
    }
   ],
   "source": [
    "all_gene_results_df.shape"
   ]
  },
  {
   "cell_type": "code",
   "execution_count": 39,
   "metadata": {},
   "outputs": [],
   "source": [
    "all_gene_results_df = all_gene_results_df.assign(gene_name=all_gene_results_df['gene_id'].replace(genes_mapping_0))"
   ]
  },
  {
   "cell_type": "code",
   "execution_count": 40,
   "metadata": {},
   "outputs": [],
   "source": [
    "all_gene_results_df = all_gene_results_df[['trait', 'gene_id', 'gene_name', 'gene_type', 'pvalue']]"
   ]
  },
  {
   "cell_type": "code",
   "execution_count": 41,
   "metadata": {},
   "outputs": [
    {
     "data": {
      "text/html": [
       "<div>\n",
       "<style scoped>\n",
       "    .dataframe tbody tr th:only-of-type {\n",
       "        vertical-align: middle;\n",
       "    }\n",
       "\n",
       "    .dataframe tbody tr th {\n",
       "        vertical-align: top;\n",
       "    }\n",
       "\n",
       "    .dataframe thead th {\n",
       "        text-align: right;\n",
       "    }\n",
       "</style>\n",
       "<table border=\"1\" class=\"dataframe\">\n",
       "  <thead>\n",
       "    <tr style=\"text-align: right;\">\n",
       "      <th></th>\n",
       "      <th>trait</th>\n",
       "      <th>gene_id</th>\n",
       "      <th>gene_name</th>\n",
       "      <th>gene_type</th>\n",
       "      <th>pvalue</th>\n",
       "    </tr>\n",
       "  </thead>\n",
       "  <tbody>\n",
       "    <tr>\n",
       "      <th>0</th>\n",
       "      <td>20096_1-Size_of_red_wine_glass_drunk_small_125ml</td>\n",
       "      <td>ENSG00000006071</td>\n",
       "      <td>ABCC8</td>\n",
       "      <td>causal</td>\n",
       "      <td>0.483218</td>\n",
       "    </tr>\n",
       "    <tr>\n",
       "      <th>1</th>\n",
       "      <td>20096_1-Size_of_red_wine_glass_drunk_small_125ml</td>\n",
       "      <td>ENSG00000010310</td>\n",
       "      <td>GIPR</td>\n",
       "      <td>causal</td>\n",
       "      <td>0.440367</td>\n",
       "    </tr>\n",
       "    <tr>\n",
       "      <th>2</th>\n",
       "      <td>20096_1-Size_of_red_wine_glass_drunk_small_125ml</td>\n",
       "      <td>ENSG00000060749</td>\n",
       "      <td>QSER1</td>\n",
       "      <td>causal</td>\n",
       "      <td>0.530133</td>\n",
       "    </tr>\n",
       "    <tr>\n",
       "      <th>3</th>\n",
       "      <td>20096_1-Size_of_red_wine_glass_drunk_small_125ml</td>\n",
       "      <td>ENSG00000075035</td>\n",
       "      <td>WSCD2</td>\n",
       "      <td>causal</td>\n",
       "      <td>0.512875</td>\n",
       "    </tr>\n",
       "    <tr>\n",
       "      <th>4</th>\n",
       "      <td>20096_1-Size_of_red_wine_glass_drunk_small_125ml</td>\n",
       "      <td>ENSG00000084734</td>\n",
       "      <td>GCKR</td>\n",
       "      <td>causal</td>\n",
       "      <td>0.499267</td>\n",
       "    </tr>\n",
       "  </tbody>\n",
       "</table>\n",
       "</div>"
      ],
      "text/plain": [
       "                                              trait          gene_id  \\\n",
       "0  20096_1-Size_of_red_wine_glass_drunk_small_125ml  ENSG00000006071   \n",
       "1  20096_1-Size_of_red_wine_glass_drunk_small_125ml  ENSG00000010310   \n",
       "2  20096_1-Size_of_red_wine_glass_drunk_small_125ml  ENSG00000060749   \n",
       "3  20096_1-Size_of_red_wine_glass_drunk_small_125ml  ENSG00000075035   \n",
       "4  20096_1-Size_of_red_wine_glass_drunk_small_125ml  ENSG00000084734   \n",
       "\n",
       "  gene_name gene_type    pvalue  \n",
       "0     ABCC8    causal  0.483218  \n",
       "1      GIPR    causal  0.440367  \n",
       "2     QSER1    causal  0.530133  \n",
       "3     WSCD2    causal  0.512875  \n",
       "4      GCKR    causal  0.499267  "
      ]
     },
     "execution_count": 41,
     "metadata": {},
     "output_type": "execute_result"
    }
   ],
   "source": [
    "all_gene_results_df.head()"
   ]
  },
  {
   "cell_type": "markdown",
   "metadata": {},
   "source": [
    "## Save"
   ]
  },
  {
   "cell_type": "code",
   "execution_count": 42,
   "metadata": {},
   "outputs": [],
   "source": [
    "# sort by pvalue\n",
    "all_gene_results_df = all_gene_results_df.sort_values('pvalue')"
   ]
  },
  {
   "cell_type": "code",
   "execution_count": 43,
   "metadata": {},
   "outputs": [],
   "source": [
    "os.makedirs(conf.ANALYSES_DIR, exist_ok=True)"
   ]
  },
  {
   "cell_type": "code",
   "execution_count": 44,
   "metadata": {},
   "outputs": [
    {
     "data": {
      "text/plain": [
       "'/mnt/phenomexcan_base/analyses/t2d_gene_associations.tsv.gz'"
      ]
     },
     "metadata": {},
     "output_type": "display_data"
    }
   ],
   "source": [
    "filepath = os.path.join(conf.ANALYSES_DIR, 't2d_gene_associations.tsv.gz')\n",
    "display(filepath)"
   ]
  },
  {
   "cell_type": "code",
   "execution_count": 45,
   "metadata": {},
   "outputs": [],
   "source": [
    "all_gene_results_df.to_csv(filepath, sep='\\t', index=False)"
   ]
  },
  {
   "cell_type": "markdown",
   "metadata": {},
   "source": [
    "# Diabetes traits"
   ]
  },
  {
   "cell_type": "code",
   "execution_count": 46,
   "metadata": {},
   "outputs": [],
   "source": [
    "diabetes_traits = all_gene_results_df['trait'][\n",
    "    all_gene_results_df['trait'].str.lower().str.contains('diabetes') | \n",
    "    all_gene_results_df['trait'].str.lower().str.contains('t2d')\n",
    "].unique()"
   ]
  },
  {
   "cell_type": "code",
   "execution_count": 47,
   "metadata": {},
   "outputs": [
    {
     "data": {
      "text/plain": [
       "(36,)"
      ]
     },
     "execution_count": 47,
     "metadata": {},
     "output_type": "execute_result"
    }
   ],
   "source": [
    "diabetes_traits.shape"
   ]
  },
  {
   "cell_type": "code",
   "execution_count": 48,
   "metadata": {},
   "outputs": [
    {
     "data": {
      "text/plain": [
       "['2443-Diabetes_diagnosed_by_doctor',\n",
       " '6153_1-Medication_for_cholesterol_blood_pressure_diabetes_or_take_exogenous_hormones_Cholesterol_lowering_medication',\n",
       " '20002_1220-Noncancer_illness_code_selfreported_diabetes',\n",
       " '6177_1-Medication_for_cholesterol_blood_pressure_or_diabetes_Cholesterol_lowering_medication',\n",
       " '20110_9-Illnesses_of_mother_Diabetes',\n",
       " '20107_9-Illnesses_of_father_Diabetes',\n",
       " '2986-Started_insulin_within_one_year_diagnosis_of_diabetes',\n",
       " '6153_100-Medication_for_cholesterol_blood_pressure_diabetes_or_take_exogenous_hormones_None_of_the_above',\n",
       " '20111_9-Illnesses_of_siblings_Diabetes',\n",
       " '6177_100-Medication_for_cholesterol_blood_pressure_or_diabetes_None_of_the_above',\n",
       " '2976_raw-Age_diabetes_diagnosed',\n",
       " '20002_1223-Noncancer_illness_code_selfreported_type_2_diabetes',\n",
       " '6153_3-Medication_for_cholesterol_blood_pressure_diabetes_or_take_exogenous_hormones_Insulin',\n",
       " '6153_2-Medication_for_cholesterol_blood_pressure_diabetes_or_take_exogenous_hormones_Blood_pressure_medication',\n",
       " '6177_2-Medication_for_cholesterol_blood_pressure_or_diabetes_Blood_pressure_medication',\n",
       " 'E4_DM1-Type_1_diabetes',\n",
       " 'E10-Diagnoses_main_ICD10_E10_Insulindependent_diabetes_mellitus',\n",
       " '6148_1-Eye_problemsdisorders_Diabetes_related_eye_disease',\n",
       " '6177_3-Medication_for_cholesterol_blood_pressure_or_diabetes_Insulin',\n",
       " 'E4_DM1KETO-Type_1_diabetes_with_ketoacidosis',\n",
       " '20002_1222-Noncancer_illness_code_selfreported_type_1_diabetes',\n",
       " 'E4_DM1NOCOMP-Type_1_diabetes_without_complications',\n",
       " 'E14-Diagnoses_main_ICD10_E14_Unspecified_diabetes_mellitus',\n",
       " 'E4_DM2NOCOMP-Type_2_diabetes_without_complications',\n",
       " 'E4_DMNASOPTH-Unspecified_diabetes_with_ophthalmic_complications',\n",
       " 'E11-Diagnoses_main_ICD10_E11_Noninsulindependent_diabetes_mellitus',\n",
       " 'E4_DM2-Type_2_diabetes',\n",
       " 'E4_DM1OPTH-Type_1_diabetes_with_ophthalmic_complications',\n",
       " '4041-Gestational_diabetes_only',\n",
       " '6153_4-Medication_for_cholesterol_blood_pressure_diabetes_or_take_exogenous_hormones_Hormone_replacement_therapy',\n",
       " 'E4_DM2OPTH-Type_2_diabetes_with_ophthalmic_complications',\n",
       " '20112_9-Illnesses_of_adopted_father_Diabetes',\n",
       " 'E4_DM2PERIPH-Type_2_diabetes_with_peripheral_circulatory_complications',\n",
       " '6153_5-Medication_for_cholesterol_blood_pressure_diabetes_or_take_exogenous_hormones_Oral_contraceptive_pill_or_minipill',\n",
       " '20114_9-Illnesses_of_adopted_siblings_Diabetes',\n",
       " '20113_9-Illnesses_of_adopted_mother_Diabetes']"
      ]
     },
     "execution_count": 48,
     "metadata": {},
     "output_type": "execute_result"
    }
   ],
   "source": [
    "# show all traits with \"diabetes\"\n",
    "list(diabetes_traits)"
   ]
  },
  {
   "cell_type": "markdown",
   "metadata": {},
   "source": [
    "### Read selected T2D traits"
   ]
  },
  {
   "cell_type": "code",
   "execution_count": 49,
   "metadata": {},
   "outputs": [],
   "source": [
    "t2d_traits_filename = os.path.join(output_dir, 't2d_traits.pkl.xz')"
   ]
  },
  {
   "cell_type": "code",
   "execution_count": 50,
   "metadata": {},
   "outputs": [],
   "source": [
    "diabetes_traits = pd.read_pickle(t2d_traits_filename).to_list()"
   ]
  },
  {
   "cell_type": "code",
   "execution_count": 51,
   "metadata": {},
   "outputs": [
    {
     "data": {
      "text/plain": [
       "['E11-Diagnoses_main_ICD10_E11_Noninsulindependent_diabetes_mellitus',\n",
       " '20002_1223-Noncancer_illness_code_selfreported_type_2_diabetes',\n",
       " 'E14-Diagnoses_main_ICD10_E14_Unspecified_diabetes_mellitus',\n",
       " 'E4_DM2NOCOMP-Type_2_diabetes_without_complications',\n",
       " 'E4_DM2OPTH-Type_2_diabetes_with_ophthalmic_complications',\n",
       " 'E4_DM2-Type_2_diabetes',\n",
       " 'E4_DM2PERIPH-Type_2_diabetes_with_peripheral_circulatory_complications']"
      ]
     },
     "execution_count": 51,
     "metadata": {},
     "output_type": "execute_result"
    }
   ],
   "source": [
    "diabetes_traits"
   ]
  },
  {
   "cell_type": "markdown",
   "metadata": {},
   "source": [
    "### Get phenotypes description"
   ]
  },
  {
   "cell_type": "code",
   "execution_count": 52,
   "metadata": {},
   "outputs": [],
   "source": [
    "from entity import Trait"
   ]
  },
  {
   "cell_type": "code",
   "execution_count": 53,
   "metadata": {},
   "outputs": [],
   "source": [
    "diabetes_traits_desc = {\n",
    "    t: Trait(full_code=t).description\n",
    "    for t in diabetes_traits\n",
    "}"
   ]
  },
  {
   "cell_type": "code",
   "execution_count": 54,
   "metadata": {},
   "outputs": [
    {
     "data": {
      "text/plain": [
       "{'E11-Diagnoses_main_ICD10_E11_Noninsulindependent_diabetes_mellitus': 'Diagnoses - main ICD10: E11 Non-insulin-dependent diabetes mellitus',\n",
       " '20002_1223-Noncancer_illness_code_selfreported_type_2_diabetes': 'Non-cancer illness code, self-reported: type 2 diabetes',\n",
       " 'E14-Diagnoses_main_ICD10_E14_Unspecified_diabetes_mellitus': 'Diagnoses - main ICD10: E14 Unspecified diabetes mellitus',\n",
       " 'E4_DM2NOCOMP-Type_2_diabetes_without_complications': 'Type 2 diabetes without complications',\n",
       " 'E4_DM2OPTH-Type_2_diabetes_with_ophthalmic_complications': 'Type 2 diabetes with ophthalmic complications',\n",
       " 'E4_DM2-Type_2_diabetes': 'Type 2 diabetes',\n",
       " 'E4_DM2PERIPH-Type_2_diabetes_with_peripheral_circulatory_complications': 'Type 2 diabetes with peripheral circulatory complications'}"
      ]
     },
     "execution_count": 54,
     "metadata": {},
     "output_type": "execute_result"
    }
   ],
   "source": [
    "diabetes_traits_desc"
   ]
  },
  {
   "cell_type": "markdown",
   "metadata": {},
   "source": [
    "## How many significant genes per trait?"
   ]
  },
  {
   "cell_type": "code",
   "execution_count": 55,
   "metadata": {},
   "outputs": [],
   "source": [
    "diabetes_results = smultixcan_results[smultixcan_results['trait'].isin(diabetes_traits)]"
   ]
  },
  {
   "cell_type": "code",
   "execution_count": 56,
   "metadata": {},
   "outputs": [
    {
     "data": {
      "text/plain": [
       "(155785, 3)"
      ]
     },
     "execution_count": 56,
     "metadata": {},
     "output_type": "execute_result"
    }
   ],
   "source": [
    "diabetes_results.shape"
   ]
  },
  {
   "cell_type": "code",
   "execution_count": 57,
   "metadata": {},
   "outputs": [
    {
     "data": {
      "text/plain": [
       "3.2095516256378985e-07"
      ]
     },
     "execution_count": 57,
     "metadata": {},
     "output_type": "execute_result"
    }
   ],
   "source": [
    "(0.05 / diabetes_results.shape[0])"
   ]
  },
  {
   "cell_type": "code",
   "execution_count": 58,
   "metadata": {},
   "outputs": [],
   "source": [
    "diabetes_signif_results = diabetes_results[diabetes_results['pvalue'] < 1e-04]"
   ]
  },
  {
   "cell_type": "code",
   "execution_count": 59,
   "metadata": {},
   "outputs": [
    {
     "data": {
      "text/plain": [
       "(100, 3)"
      ]
     },
     "execution_count": 59,
     "metadata": {},
     "output_type": "execute_result"
    }
   ],
   "source": [
    "diabetes_signif_results.shape"
   ]
  },
  {
   "cell_type": "code",
   "execution_count": 65,
   "metadata": {},
   "outputs": [
    {
     "data": {
      "text/plain": [
       "<matplotlib.axes._subplots.AxesSubplot at 0x7f96237c9e10>"
      ]
     },
     "metadata": {},
     "output_type": "display_data"
    },
    {
     "data": {
      "image/png": "[encoded data removed]",
      "text/plain": [
       "<Figure size 432x288 with 1 Axes>"
      ]
     },
     "metadata": {
      "needs_background": "light"
     },
     "output_type": "display_data"
    }
   ],
   "source": [
    "_data = diabetes_signif_results.groupby('trait').count().T.iloc[0].rename(index=diabetes_traits_desc)\n",
    "_data.index.rename('Trait', inplace=True)\n",
    "\n",
    "ax = _data.plot(kind='bar')\n",
    "ax.set_title('Number of gene associations with $pvalue < 1e-04$')\n",
    "ax.set_ylabel('Number of associations')\n",
    "display(ax)"
   ]
  },
  {
   "cell_type": "markdown",
   "metadata": {},
   "source": [
    "# How many T2D genes are we detecting?"
   ]
  },
  {
   "cell_type": "code",
   "execution_count": 61,
   "metadata": {},
   "outputs": [],
   "source": [
    "diabetes_results = all_gene_results_df[all_gene_results_df['trait'].isin(diabetes_traits)]"
   ]
  },
  {
   "cell_type": "code",
   "execution_count": 62,
   "metadata": {},
   "outputs": [
    {
     "data": {
      "text/plain": [
       "(532, 5)"
      ]
     },
     "execution_count": 62,
     "metadata": {},
     "output_type": "execute_result"
    }
   ],
   "source": [
    "diabetes_results.shape"
   ]
  },
  {
   "cell_type": "code",
   "execution_count": 63,
   "metadata": {},
   "outputs": [
    {
     "data": {
      "text/html": [
       "<div>\n",
       "<style scoped>\n",
       "    .dataframe tbody tr th:only-of-type {\n",
       "        vertical-align: middle;\n",
       "    }\n",
       "\n",
       "    .dataframe tbody tr th {\n",
       "        vertical-align: top;\n",
       "    }\n",
       "\n",
       "    .dataframe thead th {\n",
       "        text-align: right;\n",
       "    }\n",
       "</style>\n",
       "<table border=\"1\" class=\"dataframe\">\n",
       "  <thead>\n",
       "    <tr style=\"text-align: right;\">\n",
       "      <th></th>\n",
       "      <th>trait</th>\n",
       "      <th>gene_id</th>\n",
       "      <th>gene_name</th>\n",
       "      <th>gene_type</th>\n",
       "      <th>pvalue</th>\n",
       "    </tr>\n",
       "  </thead>\n",
       "  <tbody>\n",
       "    <tr>\n",
       "      <th>174746</th>\n",
       "      <td>20002_1223-Noncancer_illness_code_selfreported...</td>\n",
       "      <td>ENSG00000148737</td>\n",
       "      <td>TCF7L2</td>\n",
       "      <td>strong</td>\n",
       "      <td>3.211915e-15</td>\n",
       "    </tr>\n",
       "    <tr>\n",
       "      <th>174744</th>\n",
       "      <td>20002_1223-Noncancer_illness_code_selfreported...</td>\n",
       "      <td>ENSG00000118971</td>\n",
       "      <td>CCND2</td>\n",
       "      <td>strong</td>\n",
       "      <td>2.077713e-09</td>\n",
       "    </tr>\n",
       "    <tr>\n",
       "      <th>105650</th>\n",
       "      <td>E14-Diagnoses_main_ICD10_E14_Unspecified_diabe...</td>\n",
       "      <td>ENSG00000109501</td>\n",
       "      <td>WFS1</td>\n",
       "      <td>causal</td>\n",
       "      <td>2.055261e-04</td>\n",
       "    </tr>\n",
       "    <tr>\n",
       "      <th>26159</th>\n",
       "      <td>20002_1223-Noncancer_illness_code_selfreported...</td>\n",
       "      <td>ENSG00000275410</td>\n",
       "      <td>HNF1B</td>\n",
       "      <td>causal</td>\n",
       "      <td>3.561569e-04</td>\n",
       "    </tr>\n",
       "    <tr>\n",
       "      <th>245606</th>\n",
       "      <td>20002_1223-Noncancer_illness_code_selfreported...</td>\n",
       "      <td>ENSG00000157823</td>\n",
       "      <td>AP3S2</td>\n",
       "      <td>moderate</td>\n",
       "      <td>3.956338e-04</td>\n",
       "    </tr>\n",
       "  </tbody>\n",
       "</table>\n",
       "</div>"
      ],
      "text/plain": [
       "                                                    trait          gene_id  \\\n",
       "174746  20002_1223-Noncancer_illness_code_selfreported...  ENSG00000148737   \n",
       "174744  20002_1223-Noncancer_illness_code_selfreported...  ENSG00000118971   \n",
       "105650  E14-Diagnoses_main_ICD10_E14_Unspecified_diabe...  ENSG00000109501   \n",
       "26159   20002_1223-Noncancer_illness_code_selfreported...  ENSG00000275410   \n",
       "245606  20002_1223-Noncancer_illness_code_selfreported...  ENSG00000157823   \n",
       "\n",
       "       gene_name gene_type        pvalue  \n",
       "174746    TCF7L2    strong  3.211915e-15  \n",
       "174744     CCND2    strong  2.077713e-09  \n",
       "105650      WFS1    causal  2.055261e-04  \n",
       "26159      HNF1B    causal  3.561569e-04  \n",
       "245606     AP3S2  moderate  3.956338e-04  "
      ]
     },
     "execution_count": 63,
     "metadata": {},
     "output_type": "execute_result"
    }
   ],
   "source": [
    "diabetes_results.head()"
   ]
  },
  {
   "cell_type": "code",
   "execution_count": 64,
   "metadata": {},
   "outputs": [
    {
     "data": {
      "text/plain": [
       "strong      4\n",
       "causal      2\n",
       "moderate    1\n",
       "Name: gene_type, dtype: int64"
      ]
     },
     "execution_count": 64,
     "metadata": {},
     "output_type": "execute_result"
    }
   ],
   "source": [
    "(diabetes_results[diabetes_results['pvalue'] < 1e-3])\\\n",
    "    .drop_duplicates(subset=['gene_id'])['gene_type'].value_counts()"
   ]
  },
  {
   "cell_type": "code",
   "execution_count": null,
   "metadata": {},
   "outputs": [],
   "source": []
  }
 ],
 "metadata": {
  "kernelspec": {
   "display_name": "Python 3",
   "language": "python",
   "name": "python3"
  },
  "language_info": {
   "codemirror_mode": {
    "name": "ipython",
    "version": 3
   },
   "file_extension": ".py",
   "mimetype": "text/x-python",
   "name": "python",
   "nbconvert_exporter": "python",
   "pygments_lexer": "ipython3",
   "version": "3.7.5"
  }
 },
 "nbformat": 4,
 "nbformat_minor": 4
}
