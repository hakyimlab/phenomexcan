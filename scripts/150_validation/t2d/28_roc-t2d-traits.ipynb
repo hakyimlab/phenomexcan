{
 "cells": [
  {
   "cell_type": "code",
   "execution_count": 1,
   "metadata": {},
   "outputs": [],
   "source": [
    "%load_ext autoreload\n",
    "%autoreload 2"
   ]
  },
  {
   "cell_type": "code",
   "execution_count": 2,
   "metadata": {},
   "outputs": [],
   "source": [
    "import os\n",
    "import pickle\n",
    "\n",
    "import numpy as np\n",
    "import pandas as pd\n",
    "\n",
    "import settings as conf"
   ]
  },
  {
   "cell_type": "code",
   "execution_count": 3,
   "metadata": {},
   "outputs": [
    {
     "data": {
      "text/plain": [
       "'/mnt/phenomexcan_base/deliverables/roc_validation/classifier_tables/t2d'"
      ]
     },
     "metadata": {},
     "output_type": "display_data"
    }
   ],
   "source": [
    "output_dir = os.path.join(conf.DELIVERABLES_DIR, 'roc_validation', 'classifier_tables', 't2d')\n",
    "os.makedirs(output_dir, exist_ok=True)\n",
    "display(output_dir)"
   ]
  },
  {
   "cell_type": "markdown",
   "metadata": {},
   "source": [
    "# Define diabetes traits"
   ]
  },
  {
   "cell_type": "code",
   "execution_count": 4,
   "metadata": {},
   "outputs": [],
   "source": [
    "diabetes_traits = [\n",
    "    # t2d specific\n",
    "    'E11-Diagnoses_main_ICD10_E11_Noninsulindependent_diabetes_mellitus',\n",
    "    '20002_1223-Noncancer_illness_code_selfreported_type_2_diabetes',\n",
    "    'E14-Diagnoses_main_ICD10_E14_Unspecified_diabetes_mellitus',\n",
    "    'E4_DM2NOCOMP-Type_2_diabetes_without_complications',\n",
    "    'E4_DM2OPTH-Type_2_diabetes_with_ophthalmic_complications',\n",
    "    'E4_DM2-Type_2_diabetes',\n",
    "    # new\n",
    "    'E4_DM2PERIPH-Type_2_diabetes_with_peripheral_circulatory_complications',\n",
    "#     'E4_DMNASOPTH-Unspecified_diabetes_with_ophthalmic_complications',\n",
    "    # more general and ambiguous\n",
    "#     '2443-Diabetes_diagnosed_by_doctor',\n",
    "#     '20002_1220-Noncancer_illness_code_selfreported_diabetes',\n",
    "]"
   ]
  },
  {
   "cell_type": "code",
   "execution_count": 5,
   "metadata": {},
   "outputs": [],
   "source": [
    "all_t2d_traits = pd.Series(diabetes_traits)"
   ]
  },
  {
   "cell_type": "code",
   "execution_count": 6,
   "metadata": {},
   "outputs": [
    {
     "data": {
      "text/plain": [
       "(7,)"
      ]
     },
     "execution_count": 6,
     "metadata": {},
     "output_type": "execute_result"
    }
   ],
   "source": [
    "all_t2d_traits.shape"
   ]
  },
  {
   "cell_type": "code",
   "execution_count": 7,
   "metadata": {},
   "outputs": [
    {
     "data": {
      "text/plain": [
       "0    E11-Diagnoses_main_ICD10_E11_Noninsulindepende...\n",
       "1    20002_1223-Noncancer_illness_code_selfreported...\n",
       "2    E14-Diagnoses_main_ICD10_E14_Unspecified_diabe...\n",
       "3    E4_DM2NOCOMP-Type_2_diabetes_without_complicat...\n",
       "4    E4_DM2OPTH-Type_2_diabetes_with_ophthalmic_com...\n",
       "5                               E4_DM2-Type_2_diabetes\n",
       "6    E4_DM2PERIPH-Type_2_diabetes_with_peripheral_c...\n",
       "dtype: object"
      ]
     },
     "execution_count": 7,
     "metadata": {},
     "output_type": "execute_result"
    }
   ],
   "source": [
    "all_t2d_traits"
   ]
  },
  {
   "cell_type": "code",
   "execution_count": 8,
   "metadata": {},
   "outputs": [
    {
     "data": {
      "text/plain": [
       "['E11-Diagnoses_main_ICD10_E11_Noninsulindependent_diabetes_mellitus',\n",
       " '20002_1223-Noncancer_illness_code_selfreported_type_2_diabetes',\n",
       " 'E14-Diagnoses_main_ICD10_E14_Unspecified_diabetes_mellitus',\n",
       " 'E4_DM2NOCOMP-Type_2_diabetes_without_complications',\n",
       " 'E4_DM2OPTH-Type_2_diabetes_with_ophthalmic_complications',\n",
       " 'E4_DM2-Type_2_diabetes',\n",
       " 'E4_DM2PERIPH-Type_2_diabetes_with_peripheral_circulatory_complications']"
      ]
     },
     "execution_count": 8,
     "metadata": {},
     "output_type": "execute_result"
    }
   ],
   "source": [
    "all_t2d_traits.tolist()"
   ]
  },
  {
   "cell_type": "markdown",
   "metadata": {},
   "source": [
    "## Save"
   ]
  },
  {
   "cell_type": "markdown",
   "metadata": {},
   "source": [
    "### Internal"
   ]
  },
  {
   "cell_type": "code",
   "execution_count": 9,
   "metadata": {},
   "outputs": [
    {
     "data": {
      "text/plain": [
       "'/mnt/phenomexcan_base/deliverables/roc_validation/classifier_tables/t2d/t2d_traits.pkl.xz'"
      ]
     },
     "metadata": {},
     "output_type": "display_data"
    }
   ],
   "source": [
    "t2d_traits_filename = os.path.join(output_dir, 't2d_traits.pkl.xz')\n",
    "display(t2d_traits_filename)"
   ]
  },
  {
   "cell_type": "code",
   "execution_count": 10,
   "metadata": {},
   "outputs": [],
   "source": [
    "all_t2d_traits.to_pickle(t2d_traits_filename)"
   ]
  },
  {
   "cell_type": "markdown",
   "metadata": {},
   "source": [
    "### Publishable"
   ]
  },
  {
   "cell_type": "code",
   "execution_count": 11,
   "metadata": {},
   "outputs": [
    {
     "data": {
      "text/plain": [
       "'/mnt/phenomexcan_base/deliverables/roc_validation/classifier_tables/t2d/t2d_traits.tsv.gz'"
      ]
     },
     "metadata": {},
     "output_type": "display_data"
    }
   ],
   "source": [
    "t2d_traits_filename = os.path.join(output_dir, 't2d_traits.tsv.gz')\n",
    "display(t2d_traits_filename)"
   ]
  },
  {
   "cell_type": "code",
   "execution_count": 12,
   "metadata": {},
   "outputs": [],
   "source": [
    "all_t2d_traits.to_csv(t2d_traits_filename, sep='\\t', index=False, header=False)"
   ]
  },
  {
   "cell_type": "code",
   "execution_count": null,
   "metadata": {},
   "outputs": [],
   "source": []
  }
 ],
 "metadata": {
  "kernelspec": {
   "display_name": "Python 3",
   "language": "python",
   "name": "python3"
  },
  "language_info": {
   "codemirror_mode": {
    "name": "ipython",
    "version": 3
   },
   "file_extension": ".py",
   "mimetype": "text/x-python",
   "name": "python",
   "nbconvert_exporter": "python",
   "pygments_lexer": "ipython3",
   "version": "3.7.5"
  }
 },
 "nbformat": 4,
 "nbformat_minor": 4
}
