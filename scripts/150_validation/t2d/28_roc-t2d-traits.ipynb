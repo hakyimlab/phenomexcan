{
 "cells": [
  {
   "cell_type": "code",
   "execution_count": 1,
   "metadata": {},
   "outputs": [],
   "source": [
    "%load_ext autoreload\n",
    "%autoreload 2"
   ]
  },
  {
   "cell_type": "code",
   "execution_count": 2,
   "metadata": {},
   "outputs": [],
   "source": [
    "import os\n",
    "import pickle\n",
    "\n",
    "import numpy as np\n",
    "import pandas as pd\n",
    "\n",
    "import settings as conf"
   ]
  },
  {
   "cell_type": "code",
   "execution_count": 3,
   "metadata": {},
   "outputs": [
    {
     "data": {
      "text/plain": [
       "'/mnt/phenomexcan_base/deliverables/roc_validation/classifier_tables/t2d'"
      ]
     },
     "metadata": {},
     "output_type": "display_data"
    }
   ],
   "source": [
    "output_dir = os.path.join(conf.DELIVERABLES_DIR, 'roc_validation', 'classifier_tables', 't2d')\n",
    "os.makedirs(output_dir, exist_ok=True)\n",
    "display(output_dir)"
   ]
  },
  {
   "cell_type": "markdown",
   "metadata": {},
   "source": [
    "# Define diabetes traits"
   ]
  },
  {
   "cell_type": "code",
   "execution_count": 4,
   "metadata": {},
   "outputs": [],
   "source": [
    "diabetes_traits = [\n",
    "    'E11-Diagnoses_main_ICD10_E11_Noninsulindependent_diabetes_mellitus',\n",
    "    '20002_1223-Noncancer_illness_code_selfreported_type_2_diabetes',\n",
    "    'E14-Diagnoses_main_ICD10_E14_Unspecified_diabetes_mellitus',\n",
    "    'E4_DM2NOCOMP-Type_2_diabetes_without_complications',\n",
    "    'E4_DM2OPTH-Type_2_diabetes_with_ophthalmic_complications',\n",
    "    'E4_DM2-Type_2_diabetes',\n",
    "    'E4_DM2PERIPH-Type_2_diabetes_with_peripheral_circulatory_complications',\n",
    "]"
   ]
  },
  {
   "cell_type": "code",
   "execution_count": 5,
   "metadata": {},
   "outputs": [],
   "source": [
    "all_t2d_traits = pd.Series(diabetes_traits)"
   ]
  },
  {
   "cell_type": "code",
   "execution_count": 6,
   "metadata": {},
   "outputs": [
    {
     "data": {
      "text/plain": [
       "(7,)"
      ]
     },
     "execution_count": 6,
     "metadata": {},
     "output_type": "execute_result"
    }
   ],
   "source": [
    "all_t2d_traits.shape"
   ]
  },
  {
   "cell_type": "code",
   "execution_count": 7,
   "metadata": {},
   "outputs": [
    {
     "data": {
      "text/plain": [
       "0    E11-Diagnoses_main_ICD10_E11_Noninsulindepende...\n",
       "1    20002_1223-Noncancer_illness_code_selfreported...\n",
       "2    E14-Diagnoses_main_ICD10_E14_Unspecified_diabe...\n",
       "3    E4_DM2NOCOMP-Type_2_diabetes_without_complicat...\n",
       "4    E4_DM2OPTH-Type_2_diabetes_with_ophthalmic_com...\n",
       "5                               E4_DM2-Type_2_diabetes\n",
       "6    E4_DM2PERIPH-Type_2_diabetes_with_peripheral_c...\n",
       "dtype: object"
      ]
     },
     "execution_count": 7,
     "metadata": {},
     "output_type": "execute_result"
    }
   ],
   "source": [
    "all_t2d_traits"
   ]
  },
  {
   "cell_type": "code",
   "execution_count": 8,
   "metadata": {},
   "outputs": [
    {
     "data": {
      "text/plain": [
       "['E11-Diagnoses_main_ICD10_E11_Noninsulindependent_diabetes_mellitus',\n",
       " '20002_1223-Noncancer_illness_code_selfreported_type_2_diabetes',\n",
       " 'E14-Diagnoses_main_ICD10_E14_Unspecified_diabetes_mellitus',\n",
       " 'E4_DM2NOCOMP-Type_2_diabetes_without_complications',\n",
       " 'E4_DM2OPTH-Type_2_diabetes_with_ophthalmic_complications',\n",
       " 'E4_DM2-Type_2_diabetes',\n",
       " 'E4_DM2PERIPH-Type_2_diabetes_with_peripheral_circulatory_complications']"
      ]
     },
     "execution_count": 8,
     "metadata": {},
     "output_type": "execute_result"
    }
   ],
   "source": [
    "all_t2d_traits.tolist()"
   ]
  },
  {
   "cell_type": "markdown",
   "metadata": {},
   "source": [
    "# Load pheno info"
   ]
  },
  {
   "cell_type": "code",
   "execution_count": 13,
   "metadata": {},
   "outputs": [],
   "source": [
    "import metadata"
   ]
  },
  {
   "cell_type": "code",
   "execution_count": 14,
   "metadata": {},
   "outputs": [
    {
     "data": {
      "text/html": [
       "<div>\n",
       "<style scoped>\n",
       "    .dataframe tbody tr th:only-of-type {\n",
       "        vertical-align: middle;\n",
       "    }\n",
       "\n",
       "    .dataframe tbody tr th {\n",
       "        vertical-align: top;\n",
       "    }\n",
       "\n",
       "    .dataframe thead th {\n",
       "        text-align: right;\n",
       "    }\n",
       "</style>\n",
       "<table border=\"1\" class=\"dataframe\">\n",
       "  <thead>\n",
       "    <tr style=\"text-align: right;\">\n",
       "      <th></th>\n",
       "      <th>description</th>\n",
       "      <th>variable_type</th>\n",
       "      <th>source</th>\n",
       "      <th>n_non_missing</th>\n",
       "      <th>n_missing</th>\n",
       "      <th>n_controls</th>\n",
       "      <th>n_cases</th>\n",
       "      <th>PHESANT_transformation</th>\n",
       "      <th>notes</th>\n",
       "    </tr>\n",
       "    <tr>\n",
       "      <th>phenotype</th>\n",
       "      <th></th>\n",
       "      <th></th>\n",
       "      <th></th>\n",
       "      <th></th>\n",
       "      <th></th>\n",
       "      <th></th>\n",
       "      <th></th>\n",
       "      <th></th>\n",
       "      <th></th>\n",
       "    </tr>\n",
       "  </thead>\n",
       "  <tbody>\n",
       "    <tr>\n",
       "      <th>G54</th>\n",
       "      <td>Diagnoses - main ICD10: G54 Nerve root and ple...</td>\n",
       "      <td>categorical</td>\n",
       "      <td>icd10</td>\n",
       "      <td>361194</td>\n",
       "      <td>0</td>\n",
       "      <td>361051.0</td>\n",
       "      <td>143.0</td>\n",
       "      <td>NaN</td>\n",
       "      <td>NaN</td>\n",
       "    </tr>\n",
       "    <tr>\n",
       "      <th>C21</th>\n",
       "      <td>Diagnoses - main ICD10: C21 Malignant neoplasm...</td>\n",
       "      <td>categorical</td>\n",
       "      <td>icd10</td>\n",
       "      <td>361194</td>\n",
       "      <td>0</td>\n",
       "      <td>361055.0</td>\n",
       "      <td>139.0</td>\n",
       "      <td>NaN</td>\n",
       "      <td>NaN</td>\n",
       "    </tr>\n",
       "    <tr>\n",
       "      <th>F45</th>\n",
       "      <td>Diagnoses - main ICD10: F45 Somatoform disorders</td>\n",
       "      <td>categorical</td>\n",
       "      <td>icd10</td>\n",
       "      <td>361194</td>\n",
       "      <td>0</td>\n",
       "      <td>360953.0</td>\n",
       "      <td>241.0</td>\n",
       "      <td>NaN</td>\n",
       "      <td>NaN</td>\n",
       "    </tr>\n",
       "    <tr>\n",
       "      <th>I35</th>\n",
       "      <td>Diagnoses - main ICD10: I35 Nonrheumatic aorti...</td>\n",
       "      <td>categorical</td>\n",
       "      <td>icd10</td>\n",
       "      <td>361194</td>\n",
       "      <td>0</td>\n",
       "      <td>360293.0</td>\n",
       "      <td>901.0</td>\n",
       "      <td>NaN</td>\n",
       "      <td>NaN</td>\n",
       "    </tr>\n",
       "    <tr>\n",
       "      <th>D38</th>\n",
       "      <td>Diagnoses - main ICD10: D38 Neoplasm of uncert...</td>\n",
       "      <td>categorical</td>\n",
       "      <td>icd10</td>\n",
       "      <td>361194</td>\n",
       "      <td>0</td>\n",
       "      <td>361087.0</td>\n",
       "      <td>107.0</td>\n",
       "      <td>NaN</td>\n",
       "      <td>NaN</td>\n",
       "    </tr>\n",
       "  </tbody>\n",
       "</table>\n",
       "</div>"
      ],
      "text/plain": [
       "                                                 description variable_type  \\\n",
       "phenotype                                                                    \n",
       "G54        Diagnoses - main ICD10: G54 Nerve root and ple...   categorical   \n",
       "C21        Diagnoses - main ICD10: C21 Malignant neoplasm...   categorical   \n",
       "F45         Diagnoses - main ICD10: F45 Somatoform disorders   categorical   \n",
       "I35        Diagnoses - main ICD10: I35 Nonrheumatic aorti...   categorical   \n",
       "D38        Diagnoses - main ICD10: D38 Neoplasm of uncert...   categorical   \n",
       "\n",
       "          source  n_non_missing  n_missing  n_controls  n_cases  \\\n",
       "phenotype                                                         \n",
       "G54        icd10         361194          0    361051.0    143.0   \n",
       "C21        icd10         361194          0    361055.0    139.0   \n",
       "F45        icd10         361194          0    360953.0    241.0   \n",
       "I35        icd10         361194          0    360293.0    901.0   \n",
       "D38        icd10         361194          0    361087.0    107.0   \n",
       "\n",
       "          PHESANT_transformation notes  \n",
       "phenotype                               \n",
       "G54                          NaN   NaN  \n",
       "C21                          NaN   NaN  \n",
       "F45                          NaN   NaN  \n",
       "I35                          NaN   NaN  \n",
       "D38                          NaN   NaN  "
      ]
     },
     "execution_count": 14,
     "metadata": {},
     "output_type": "execute_result"
    }
   ],
   "source": [
    "metadata.RAPID_GWAS_PHENO_INFO.head()"
   ]
  },
  {
   "cell_type": "code",
   "execution_count": 15,
   "metadata": {},
   "outputs": [],
   "source": [
    "df = metadata.RAPID_GWAS_PHENO_INFO"
   ]
  },
  {
   "cell_type": "code",
   "execution_count": 17,
   "metadata": {},
   "outputs": [],
   "source": [
    "t2d_trait_codes = [t.split('-')[0] for t in all_t2d_traits.tolist()]"
   ]
  },
  {
   "cell_type": "code",
   "execution_count": 18,
   "metadata": {},
   "outputs": [],
   "source": [
    "assert len(t2d_trait_codes) == all_t2d_traits.shape[0]"
   ]
  },
  {
   "cell_type": "code",
   "execution_count": 19,
   "metadata": {},
   "outputs": [
    {
     "data": {
      "text/plain": [
       "['E11',\n",
       " '20002_1223',\n",
       " 'E14',\n",
       " 'E4_DM2NOCOMP',\n",
       " 'E4_DM2OPTH',\n",
       " 'E4_DM2',\n",
       " 'E4_DM2PERIPH']"
      ]
     },
     "execution_count": 19,
     "metadata": {},
     "output_type": "execute_result"
    }
   ],
   "source": [
    "t2d_trait_codes"
   ]
  },
  {
   "cell_type": "code",
   "execution_count": 24,
   "metadata": {},
   "outputs": [
    {
     "data": {
      "text/html": [
       "<div>\n",
       "<style scoped>\n",
       "    .dataframe tbody tr th:only-of-type {\n",
       "        vertical-align: middle;\n",
       "    }\n",
       "\n",
       "    .dataframe tbody tr th {\n",
       "        vertical-align: top;\n",
       "    }\n",
       "\n",
       "    .dataframe thead th {\n",
       "        text-align: right;\n",
       "    }\n",
       "</style>\n",
       "<table border=\"1\" class=\"dataframe\">\n",
       "  <thead>\n",
       "    <tr style=\"text-align: right;\">\n",
       "      <th></th>\n",
       "      <th>description</th>\n",
       "      <th>variable_type</th>\n",
       "      <th>source</th>\n",
       "      <th>n_non_missing</th>\n",
       "      <th>n_missing</th>\n",
       "      <th>n_controls</th>\n",
       "      <th>n_cases</th>\n",
       "      <th>PHESANT_transformation</th>\n",
       "      <th>notes</th>\n",
       "    </tr>\n",
       "    <tr>\n",
       "      <th>phenotype</th>\n",
       "      <th></th>\n",
       "      <th></th>\n",
       "      <th></th>\n",
       "      <th></th>\n",
       "      <th></th>\n",
       "      <th></th>\n",
       "      <th></th>\n",
       "      <th></th>\n",
       "      <th></th>\n",
       "    </tr>\n",
       "  </thead>\n",
       "  <tbody>\n",
       "    <tr>\n",
       "      <th>E11</th>\n",
       "      <td>Diagnoses - main ICD10: E11 Non-insulin-depend...</td>\n",
       "      <td>categorical</td>\n",
       "      <td>icd10</td>\n",
       "      <td>361194</td>\n",
       "      <td>0</td>\n",
       "      <td>360489.0</td>\n",
       "      <td>705.0</td>\n",
       "      <td>NaN</td>\n",
       "      <td>NaN</td>\n",
       "    </tr>\n",
       "    <tr>\n",
       "      <th>20002_1223</th>\n",
       "      <td>Non-cancer illness code, self-reported: type 2...</td>\n",
       "      <td>binary</td>\n",
       "      <td>phesant</td>\n",
       "      <td>361141</td>\n",
       "      <td>53</td>\n",
       "      <td>358849.0</td>\n",
       "      <td>2292.0</td>\n",
       "      <td>20002_0 || CAT-MUL-BINARY-VAR 1223 || Indicato...</td>\n",
       "      <td>Code for non-cancer illness. If the participan...</td>\n",
       "    </tr>\n",
       "    <tr>\n",
       "      <th>E14</th>\n",
       "      <td>Diagnoses - main ICD10: E14 Unspecified diabet...</td>\n",
       "      <td>categorical</td>\n",
       "      <td>icd10</td>\n",
       "      <td>361194</td>\n",
       "      <td>0</td>\n",
       "      <td>360970.0</td>\n",
       "      <td>224.0</td>\n",
       "      <td>NaN</td>\n",
       "      <td>NaN</td>\n",
       "    </tr>\n",
       "    <tr>\n",
       "      <th>E4_DM2NOCOMP</th>\n",
       "      <td>Type 2 diabetes without complications</td>\n",
       "      <td>categorical</td>\n",
       "      <td>finngen</td>\n",
       "      <td>361194</td>\n",
       "      <td>0</td>\n",
       "      <td>360740.0</td>\n",
       "      <td>454.0</td>\n",
       "      <td>NaN</td>\n",
       "      <td>NaN</td>\n",
       "    </tr>\n",
       "    <tr>\n",
       "      <th>E4_DM2OPTH</th>\n",
       "      <td>Type 2 diabetes with ophthalmic complications</td>\n",
       "      <td>categorical</td>\n",
       "      <td>finngen</td>\n",
       "      <td>361194</td>\n",
       "      <td>0</td>\n",
       "      <td>360958.0</td>\n",
       "      <td>236.0</td>\n",
       "      <td>NaN</td>\n",
       "      <td>NaN</td>\n",
       "    </tr>\n",
       "    <tr>\n",
       "      <th>E4_DM2</th>\n",
       "      <td>Type 2 diabetes</td>\n",
       "      <td>categorical</td>\n",
       "      <td>finngen</td>\n",
       "      <td>361194</td>\n",
       "      <td>0</td>\n",
       "      <td>360306.0</td>\n",
       "      <td>888.0</td>\n",
       "      <td>NaN</td>\n",
       "      <td>NaN</td>\n",
       "    </tr>\n",
       "    <tr>\n",
       "      <th>E4_DM2PERIPH</th>\n",
       "      <td>Type 2 diabetes with peripheral circulatory co...</td>\n",
       "      <td>categorical</td>\n",
       "      <td>finngen</td>\n",
       "      <td>361194</td>\n",
       "      <td>0</td>\n",
       "      <td>361067.0</td>\n",
       "      <td>127.0</td>\n",
       "      <td>NaN</td>\n",
       "      <td>NaN</td>\n",
       "    </tr>\n",
       "  </tbody>\n",
       "</table>\n",
       "</div>"
      ],
      "text/plain": [
       "                                                    description variable_type  \\\n",
       "phenotype                                                                       \n",
       "E11           Diagnoses - main ICD10: E11 Non-insulin-depend...   categorical   \n",
       "20002_1223    Non-cancer illness code, self-reported: type 2...        binary   \n",
       "E14           Diagnoses - main ICD10: E14 Unspecified diabet...   categorical   \n",
       "E4_DM2NOCOMP              Type 2 diabetes without complications   categorical   \n",
       "E4_DM2OPTH        Type 2 diabetes with ophthalmic complications   categorical   \n",
       "E4_DM2                                          Type 2 diabetes   categorical   \n",
       "E4_DM2PERIPH  Type 2 diabetes with peripheral circulatory co...   categorical   \n",
       "\n",
       "               source  n_non_missing  n_missing  n_controls  n_cases  \\\n",
       "phenotype                                                              \n",
       "E11             icd10         361194          0    360489.0    705.0   \n",
       "20002_1223    phesant         361141         53    358849.0   2292.0   \n",
       "E14             icd10         361194          0    360970.0    224.0   \n",
       "E4_DM2NOCOMP  finngen         361194          0    360740.0    454.0   \n",
       "E4_DM2OPTH    finngen         361194          0    360958.0    236.0   \n",
       "E4_DM2        finngen         361194          0    360306.0    888.0   \n",
       "E4_DM2PERIPH  finngen         361194          0    361067.0    127.0   \n",
       "\n",
       "                                         PHESANT_transformation  \\\n",
       "phenotype                                                         \n",
       "E11                                                         NaN   \n",
       "20002_1223    20002_0 || CAT-MUL-BINARY-VAR 1223 || Indicato...   \n",
       "E14                                                         NaN   \n",
       "E4_DM2NOCOMP                                                NaN   \n",
       "E4_DM2OPTH                                                  NaN   \n",
       "E4_DM2                                                      NaN   \n",
       "E4_DM2PERIPH                                                NaN   \n",
       "\n",
       "                                                          notes  \n",
       "phenotype                                                        \n",
       "E11                                                         NaN  \n",
       "20002_1223    Code for non-cancer illness. If the participan...  \n",
       "E14                                                         NaN  \n",
       "E4_DM2NOCOMP                                                NaN  \n",
       "E4_DM2OPTH                                                  NaN  \n",
       "E4_DM2                                                      NaN  \n",
       "E4_DM2PERIPH                                                NaN  "
      ]
     },
     "execution_count": 24,
     "metadata": {},
     "output_type": "execute_result"
    }
   ],
   "source": [
    "df.loc[t2d_trait_codes]"
   ]
  },
  {
   "cell_type": "markdown",
   "metadata": {},
   "source": [
    "## Save"
   ]
  },
  {
   "cell_type": "markdown",
   "metadata": {},
   "source": [
    "### Internal"
   ]
  },
  {
   "cell_type": "code",
   "execution_count": 9,
   "metadata": {},
   "outputs": [
    {
     "data": {
      "text/plain": [
       "'/mnt/phenomexcan_base/deliverables/roc_validation/classifier_tables/t2d/t2d_traits.pkl.xz'"
      ]
     },
     "metadata": {},
     "output_type": "display_data"
    }
   ],
   "source": [
    "t2d_traits_filename = os.path.join(output_dir, 't2d_traits.pkl.xz')\n",
    "display(t2d_traits_filename)"
   ]
  },
  {
   "cell_type": "code",
   "execution_count": 10,
   "metadata": {},
   "outputs": [],
   "source": [
    "all_t2d_traits.to_pickle(t2d_traits_filename)"
   ]
  },
  {
   "cell_type": "markdown",
   "metadata": {},
   "source": [
    "### Publishable"
   ]
  },
  {
   "cell_type": "code",
   "execution_count": 11,
   "metadata": {},
   "outputs": [
    {
     "data": {
      "text/plain": [
       "'/mnt/phenomexcan_base/deliverables/roc_validation/classifier_tables/t2d/t2d_traits.tsv.gz'"
      ]
     },
     "metadata": {},
     "output_type": "display_data"
    }
   ],
   "source": [
    "t2d_traits_filename = os.path.join(output_dir, 't2d_traits.tsv.gz')\n",
    "display(t2d_traits_filename)"
   ]
  },
  {
   "cell_type": "code",
   "execution_count": 12,
   "metadata": {},
   "outputs": [],
   "source": [
    "all_t2d_traits.to_csv(t2d_traits_filename, sep='\\t', index=False, header=False)"
   ]
  },
  {
   "cell_type": "code",
   "execution_count": null,
   "metadata": {},
   "outputs": [],
   "source": []
  }
 ],
 "metadata": {
  "kernelspec": {
   "display_name": "Python 3",
   "language": "python",
   "name": "python3"
  },
  "language_info": {
   "codemirror_mode": {
    "name": "ipython",
    "version": 3
   },
   "file_extension": ".py",
   "mimetype": "text/x-python",
   "name": "python",
   "nbconvert_exporter": "python",
   "pygments_lexer": "ipython3",
   "version": "3.7.5"
  }
 },
 "nbformat": 4,
 "nbformat_minor": 4
}
