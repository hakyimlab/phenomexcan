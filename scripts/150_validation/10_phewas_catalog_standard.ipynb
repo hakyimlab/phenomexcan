{
 "cells": [
  {
   "cell_type": "code",
   "execution_count": 1,
   "metadata": {},
   "outputs": [],
   "source": [
    "%load_ext autoreload\n",
    "%autoreload 2"
   ]
  },
  {
   "cell_type": "code",
   "execution_count": 2,
   "metadata": {},
   "outputs": [],
   "source": [
    "import os\n",
    "import pickle\n",
    "from glob import glob\n",
    "import re\n",
    "from concurrent.futures import ProcessPoolExecutor, as_completed\n",
    "\n",
    "import numpy as np\n",
    "import pandas as pd\n",
    "#from tqdm import tqdm\n",
    "from scipy import stats\n",
    "from sklearn.metrics import pairwise_distances\n",
    "\n",
    "import settings as conf\n",
    "# from src.data import PhenoInfo, PhenoResults, get_all_tissues, get_genes\n",
    "from results.multixcan import MXPhenoInfo, MXPhenoResults\n",
    "from utils import is_number, chunker"
   ]
  },
  {
   "cell_type": "code",
   "execution_count": 4,
   "metadata": {},
   "outputs": [],
   "source": [
    "# genes_associations_dir = os.path.join(constants.PREPROCESSED_BASED_DIR, 'gene_associations')\n",
    "# smultixcan_gene_association_dirs = os.path.join(genes_associations_dir, 'mashr')"
   ]
  },
  {
   "cell_type": "markdown",
   "metadata": {},
   "source": [
    "# Load metadata"
   ]
  },
  {
   "cell_type": "code",
   "execution_count": 5,
   "metadata": {},
   "outputs": [],
   "source": [
    "with open(os.path.join(conf.GENES_METADATA_DIR, 'genes_mapping_simplified-0.pkl'), 'rb') as f:\n",
    "    genes_mapping_0 = pickle.load(f)\n",
    "\n",
    "with open(os.path.join(conf.GENES_METADATA_DIR, 'genes_mapping_simplified-1.pkl'), 'rb') as f:\n",
    "    genes_mapping_1 = pickle.load(f)"
   ]
  },
  {
   "cell_type": "markdown",
   "metadata": {},
   "source": [
    "# Load MultiXcan associations"
   ]
  },
  {
   "cell_type": "code",
   "execution_count": 6,
   "metadata": {},
   "outputs": [
    {
     "data": {
      "text/plain": [
       "'/mnt/phenomexcan_base/gene_assoc/smultixcan-mashr-pvalues.pkl.xz'"
      ]
     },
     "metadata": {},
     "output_type": "display_data"
    }
   ],
   "source": [
    "genes_associations_filename = os.path.join(conf.GENE_ASSOC_DIR, 'smultixcan-mashr-pvalues.pkl.xz')\n",
    "display(genes_associations_filename)\n",
    "\n",
    "genes_associations = pd.read_pickle(genes_associations_filename)"
   ]
  },
  {
   "cell_type": "code",
   "execution_count": 7,
   "metadata": {},
   "outputs": [
    {
     "data": {
      "text/plain": [
       "(22515, 4091)"
      ]
     },
     "metadata": {},
     "output_type": "display_data"
    },
    {
     "data": {
      "text/html": [
       "<div>\n",
       "<style scoped>\n",
       "    .dataframe tbody tr th:only-of-type {\n",
       "        vertical-align: middle;\n",
       "    }\n",
       "\n",
       "    .dataframe tbody tr th {\n",
       "        vertical-align: top;\n",
       "    }\n",
       "\n",
       "    .dataframe thead th {\n",
       "        text-align: right;\n",
       "    }\n",
       "</style>\n",
       "<table border=\"1\" class=\"dataframe\">\n",
       "  <thead>\n",
       "    <tr style=\"text-align: right;\">\n",
       "      <th></th>\n",
       "      <th>20096_1-Size_of_red_wine_glass_drunk_small_125ml</th>\n",
       "      <th>2345-Ever_had_bowel_cancer_screening</th>\n",
       "      <th>N49-Diagnoses_main_ICD10_N49_Inflammatory_disorders_of_male_genital_organs_not_elsewhere_classified</th>\n",
       "      <th>100011_raw-Iron</th>\n",
       "      <th>5221-Index_of_best_refractometry_result_right</th>\n",
       "      <th>20003_1141150624-Treatmentmedication_code_zomig_25mg_tablet</th>\n",
       "      <th>S69-Diagnoses_main_ICD10_S69_Other_and_unspecified_injuries_of_wrist_and_hand</th>\n",
       "      <th>20024_1136-Job_code_deduced_Information_and_communication_technology_managers</th>\n",
       "      <th>20002_1385-Noncancer_illness_code_selfreported_allergy_or_anaphylactic_reaction_to_food</th>\n",
       "      <th>G6_SLEEPAPNO-Sleep_apnoea</th>\n",
       "      <th>...</th>\n",
       "      <th>Astle_et_al_2016_Sum_basophil_neutrophil_counts</th>\n",
       "      <th>RA_OKADA_TRANS_ETHNIC</th>\n",
       "      <th>pgc.scz2</th>\n",
       "      <th>PGC_ADHD_EUR_2017</th>\n",
       "      <th>MAGIC_FastingGlucose</th>\n",
       "      <th>Astle_et_al_2016_Red_blood_cell_count</th>\n",
       "      <th>SSGAC_Depressive_Symptoms</th>\n",
       "      <th>BCAC_ER_positive_BreastCancer_EUR</th>\n",
       "      <th>IBD.EUR.Inflammatory_Bowel_Disease</th>\n",
       "      <th>Astle_et_al_2016_High_light_scatter_reticulocyte_count</th>\n",
       "    </tr>\n",
       "    <tr>\n",
       "      <th>gene_name</th>\n",
       "      <th></th>\n",
       "      <th></th>\n",
       "      <th></th>\n",
       "      <th></th>\n",
       "      <th></th>\n",
       "      <th></th>\n",
       "      <th></th>\n",
       "      <th></th>\n",
       "      <th></th>\n",
       "      <th></th>\n",
       "      <th></th>\n",
       "      <th></th>\n",
       "      <th></th>\n",
       "      <th></th>\n",
       "      <th></th>\n",
       "      <th></th>\n",
       "      <th></th>\n",
       "      <th></th>\n",
       "      <th></th>\n",
       "      <th></th>\n",
       "      <th></th>\n",
       "    </tr>\n",
       "  </thead>\n",
       "  <tbody>\n",
       "    <tr>\n",
       "      <th>ENSG00000000419</th>\n",
       "      <td>0.865429</td>\n",
       "      <td>0.918314</td>\n",
       "      <td>0.810683</td>\n",
       "      <td>0.374671</td>\n",
       "      <td>0.189032</td>\n",
       "      <td>0.140981</td>\n",
       "      <td>0.467741</td>\n",
       "      <td>0.129427</td>\n",
       "      <td>0.193680</td>\n",
       "      <td>0.285479</td>\n",
       "      <td>...</td>\n",
       "      <td>0.416210</td>\n",
       "      <td>0.782554</td>\n",
       "      <td>0.609467</td>\n",
       "      <td>0.980281</td>\n",
       "      <td>0.666504</td>\n",
       "      <td>0.409761</td>\n",
       "      <td>0.713310</td>\n",
       "      <td>0.168319</td>\n",
       "      <td>0.460244</td>\n",
       "      <td>0.765506</td>\n",
       "    </tr>\n",
       "    <tr>\n",
       "      <th>ENSG00000000457</th>\n",
       "      <td>0.174192</td>\n",
       "      <td>0.064765</td>\n",
       "      <td>0.889194</td>\n",
       "      <td>0.896938</td>\n",
       "      <td>0.448596</td>\n",
       "      <td>0.269602</td>\n",
       "      <td>0.540261</td>\n",
       "      <td>0.068405</td>\n",
       "      <td>0.041813</td>\n",
       "      <td>0.313427</td>\n",
       "      <td>...</td>\n",
       "      <td>0.149360</td>\n",
       "      <td>0.512603</td>\n",
       "      <td>0.010907</td>\n",
       "      <td>0.228982</td>\n",
       "      <td>0.607081</td>\n",
       "      <td>0.812484</td>\n",
       "      <td>0.678749</td>\n",
       "      <td>0.918971</td>\n",
       "      <td>0.311187</td>\n",
       "      <td>0.344574</td>\n",
       "    </tr>\n",
       "    <tr>\n",
       "      <th>ENSG00000000460</th>\n",
       "      <td>0.879969</td>\n",
       "      <td>0.240715</td>\n",
       "      <td>0.238228</td>\n",
       "      <td>0.567555</td>\n",
       "      <td>0.921320</td>\n",
       "      <td>0.825036</td>\n",
       "      <td>0.782230</td>\n",
       "      <td>0.644525</td>\n",
       "      <td>0.392273</td>\n",
       "      <td>0.840014</td>\n",
       "      <td>...</td>\n",
       "      <td>0.503520</td>\n",
       "      <td>0.764147</td>\n",
       "      <td>0.587969</td>\n",
       "      <td>0.301460</td>\n",
       "      <td>0.629621</td>\n",
       "      <td>0.486664</td>\n",
       "      <td>0.736509</td>\n",
       "      <td>0.933600</td>\n",
       "      <td>0.000477</td>\n",
       "      <td>0.321223</td>\n",
       "    </tr>\n",
       "    <tr>\n",
       "      <th>ENSG00000000938</th>\n",
       "      <td>0.192670</td>\n",
       "      <td>0.400054</td>\n",
       "      <td>0.114353</td>\n",
       "      <td>0.470700</td>\n",
       "      <td>0.889202</td>\n",
       "      <td>0.000011</td>\n",
       "      <td>0.899764</td>\n",
       "      <td>0.212352</td>\n",
       "      <td>0.829671</td>\n",
       "      <td>0.372348</td>\n",
       "      <td>...</td>\n",
       "      <td>0.899212</td>\n",
       "      <td>0.961678</td>\n",
       "      <td>0.059247</td>\n",
       "      <td>0.588855</td>\n",
       "      <td>0.898525</td>\n",
       "      <td>0.135045</td>\n",
       "      <td>0.954998</td>\n",
       "      <td>0.088220</td>\n",
       "      <td>0.176497</td>\n",
       "      <td>0.304281</td>\n",
       "    </tr>\n",
       "    <tr>\n",
       "      <th>ENSG00000000971</th>\n",
       "      <td>0.180632</td>\n",
       "      <td>0.793060</td>\n",
       "      <td>0.490585</td>\n",
       "      <td>0.088752</td>\n",
       "      <td>0.744531</td>\n",
       "      <td>0.949639</td>\n",
       "      <td>0.253817</td>\n",
       "      <td>0.377408</td>\n",
       "      <td>0.971655</td>\n",
       "      <td>0.070266</td>\n",
       "      <td>...</td>\n",
       "      <td>0.390618</td>\n",
       "      <td>0.093824</td>\n",
       "      <td>0.020391</td>\n",
       "      <td>0.109883</td>\n",
       "      <td>0.870551</td>\n",
       "      <td>0.995450</td>\n",
       "      <td>0.002660</td>\n",
       "      <td>0.421588</td>\n",
       "      <td>0.656851</td>\n",
       "      <td>0.868416</td>\n",
       "    </tr>\n",
       "  </tbody>\n",
       "</table>\n",
       "<p>5 rows × 4091 columns</p>\n",
       "</div>"
      ],
      "text/plain": [
       "                 20096_1-Size_of_red_wine_glass_drunk_small_125ml  \\\n",
       "gene_name                                                           \n",
       "ENSG00000000419                                          0.865429   \n",
       "ENSG00000000457                                          0.174192   \n",
       "ENSG00000000460                                          0.879969   \n",
       "ENSG00000000938                                          0.192670   \n",
       "ENSG00000000971                                          0.180632   \n",
       "\n",
       "                 2345-Ever_had_bowel_cancer_screening  \\\n",
       "gene_name                                               \n",
       "ENSG00000000419                              0.918314   \n",
       "ENSG00000000457                              0.064765   \n",
       "ENSG00000000460                              0.240715   \n",
       "ENSG00000000938                              0.400054   \n",
       "ENSG00000000971                              0.793060   \n",
       "\n",
       "                 N49-Diagnoses_main_ICD10_N49_Inflammatory_disorders_of_male_genital_organs_not_elsewhere_classified  \\\n",
       "gene_name                                                                                                              \n",
       "ENSG00000000419                                           0.810683                                                     \n",
       "ENSG00000000457                                           0.889194                                                     \n",
       "ENSG00000000460                                           0.238228                                                     \n",
       "ENSG00000000938                                           0.114353                                                     \n",
       "ENSG00000000971                                           0.490585                                                     \n",
       "\n",
       "                 100011_raw-Iron  \\\n",
       "gene_name                          \n",
       "ENSG00000000419         0.374671   \n",
       "ENSG00000000457         0.896938   \n",
       "ENSG00000000460         0.567555   \n",
       "ENSG00000000938         0.470700   \n",
       "ENSG00000000971         0.088752   \n",
       "\n",
       "                 5221-Index_of_best_refractometry_result_right  \\\n",
       "gene_name                                                        \n",
       "ENSG00000000419                                       0.189032   \n",
       "ENSG00000000457                                       0.448596   \n",
       "ENSG00000000460                                       0.921320   \n",
       "ENSG00000000938                                       0.889202   \n",
       "ENSG00000000971                                       0.744531   \n",
       "\n",
       "                 20003_1141150624-Treatmentmedication_code_zomig_25mg_tablet  \\\n",
       "gene_name                                                                      \n",
       "ENSG00000000419                                           0.140981             \n",
       "ENSG00000000457                                           0.269602             \n",
       "ENSG00000000460                                           0.825036             \n",
       "ENSG00000000938                                           0.000011             \n",
       "ENSG00000000971                                           0.949639             \n",
       "\n",
       "                 S69-Diagnoses_main_ICD10_S69_Other_and_unspecified_injuries_of_wrist_and_hand  \\\n",
       "gene_name                                                                                        \n",
       "ENSG00000000419                                           0.467741                               \n",
       "ENSG00000000457                                           0.540261                               \n",
       "ENSG00000000460                                           0.782230                               \n",
       "ENSG00000000938                                           0.899764                               \n",
       "ENSG00000000971                                           0.253817                               \n",
       "\n",
       "                 20024_1136-Job_code_deduced_Information_and_communication_technology_managers  \\\n",
       "gene_name                                                                                        \n",
       "ENSG00000000419                                           0.129427                               \n",
       "ENSG00000000457                                           0.068405                               \n",
       "ENSG00000000460                                           0.644525                               \n",
       "ENSG00000000938                                           0.212352                               \n",
       "ENSG00000000971                                           0.377408                               \n",
       "\n",
       "                 20002_1385-Noncancer_illness_code_selfreported_allergy_or_anaphylactic_reaction_to_food  \\\n",
       "gene_name                                                                                                  \n",
       "ENSG00000000419                                           0.193680                                         \n",
       "ENSG00000000457                                           0.041813                                         \n",
       "ENSG00000000460                                           0.392273                                         \n",
       "ENSG00000000938                                           0.829671                                         \n",
       "ENSG00000000971                                           0.971655                                         \n",
       "\n",
       "                 G6_SLEEPAPNO-Sleep_apnoea  ...  \\\n",
       "gene_name                                   ...   \n",
       "ENSG00000000419                   0.285479  ...   \n",
       "ENSG00000000457                   0.313427  ...   \n",
       "ENSG00000000460                   0.840014  ...   \n",
       "ENSG00000000938                   0.372348  ...   \n",
       "ENSG00000000971                   0.070266  ...   \n",
       "\n",
       "                 Astle_et_al_2016_Sum_basophil_neutrophil_counts  \\\n",
       "gene_name                                                          \n",
       "ENSG00000000419                                         0.416210   \n",
       "ENSG00000000457                                         0.149360   \n",
       "ENSG00000000460                                         0.503520   \n",
       "ENSG00000000938                                         0.899212   \n",
       "ENSG00000000971                                         0.390618   \n",
       "\n",
       "                 RA_OKADA_TRANS_ETHNIC  pgc.scz2  PGC_ADHD_EUR_2017  \\\n",
       "gene_name                                                             \n",
       "ENSG00000000419               0.782554  0.609467           0.980281   \n",
       "ENSG00000000457               0.512603  0.010907           0.228982   \n",
       "ENSG00000000460               0.764147  0.587969           0.301460   \n",
       "ENSG00000000938               0.961678  0.059247           0.588855   \n",
       "ENSG00000000971               0.093824  0.020391           0.109883   \n",
       "\n",
       "                 MAGIC_FastingGlucose  Astle_et_al_2016_Red_blood_cell_count  \\\n",
       "gene_name                                                                      \n",
       "ENSG00000000419              0.666504                               0.409761   \n",
       "ENSG00000000457              0.607081                               0.812484   \n",
       "ENSG00000000460              0.629621                               0.486664   \n",
       "ENSG00000000938              0.898525                               0.135045   \n",
       "ENSG00000000971              0.870551                               0.995450   \n",
       "\n",
       "                 SSGAC_Depressive_Symptoms  BCAC_ER_positive_BreastCancer_EUR  \\\n",
       "gene_name                                                                       \n",
       "ENSG00000000419                   0.713310                           0.168319   \n",
       "ENSG00000000457                   0.678749                           0.918971   \n",
       "ENSG00000000460                   0.736509                           0.933600   \n",
       "ENSG00000000938                   0.954998                           0.088220   \n",
       "ENSG00000000971                   0.002660                           0.421588   \n",
       "\n",
       "                 IBD.EUR.Inflammatory_Bowel_Disease  \\\n",
       "gene_name                                             \n",
       "ENSG00000000419                            0.460244   \n",
       "ENSG00000000457                            0.311187   \n",
       "ENSG00000000460                            0.000477   \n",
       "ENSG00000000938                            0.176497   \n",
       "ENSG00000000971                            0.656851   \n",
       "\n",
       "                 Astle_et_al_2016_High_light_scatter_reticulocyte_count  \n",
       "gene_name                                                                \n",
       "ENSG00000000419                                           0.765506       \n",
       "ENSG00000000457                                           0.344574       \n",
       "ENSG00000000460                                           0.321223       \n",
       "ENSG00000000938                                           0.304281       \n",
       "ENSG00000000971                                           0.868416       \n",
       "\n",
       "[5 rows x 4091 columns]"
      ]
     },
     "metadata": {},
     "output_type": "display_data"
    }
   ],
   "source": [
    "display(genes_associations.shape)\n",
    "display(genes_associations.head())"
   ]
  },
  {
   "cell_type": "markdown",
   "metadata": {},
   "source": [
    "# Load PheWAS catalog"
   ]
  },
  {
   "cell_type": "code",
   "execution_count": 8,
   "metadata": {},
   "outputs": [],
   "source": [
    "phewas_catalog = pd.read_csv(os.path.join(conf.DATA_DIR, 'phewas-catalog.csv.gz'), dtype={'phewas code': str})"
   ]
  },
  {
   "cell_type": "code",
   "execution_count": 9,
   "metadata": {},
   "outputs": [
    {
     "data": {
      "text/plain": [
       "(215107, 9)"
      ]
     },
     "execution_count": 9,
     "metadata": {},
     "output_type": "execute_result"
    }
   ],
   "source": [
    "phewas_catalog.shape"
   ]
  },
  {
   "cell_type": "code",
   "execution_count": 10,
   "metadata": {},
   "outputs": [
    {
     "data": {
      "text/html": [
       "<div>\n",
       "<style scoped>\n",
       "    .dataframe tbody tr th:only-of-type {\n",
       "        vertical-align: middle;\n",
       "    }\n",
       "\n",
       "    .dataframe tbody tr th {\n",
       "        vertical-align: top;\n",
       "    }\n",
       "\n",
       "    .dataframe thead th {\n",
       "        text-align: right;\n",
       "    }\n",
       "</style>\n",
       "<table border=\"1\" class=\"dataframe\">\n",
       "  <thead>\n",
       "    <tr style=\"text-align: right;\">\n",
       "      <th></th>\n",
       "      <th>chromosome</th>\n",
       "      <th>snp</th>\n",
       "      <th>phewas phenotype</th>\n",
       "      <th>cases</th>\n",
       "      <th>p-value</th>\n",
       "      <th>odds-ratio</th>\n",
       "      <th>gene_name</th>\n",
       "      <th>phewas code</th>\n",
       "      <th>gwas-associations</th>\n",
       "    </tr>\n",
       "  </thead>\n",
       "  <tbody>\n",
       "  </tbody>\n",
       "</table>\n",
       "</div>"
      ],
      "text/plain": [
       "Empty DataFrame\n",
       "Columns: [chromosome, snp, phewas phenotype, cases, p-value, odds-ratio, gene_name, phewas code, gwas-associations]\n",
       "Index: []"
      ]
     },
     "execution_count": 10,
     "metadata": {},
     "output_type": "execute_result"
    }
   ],
   "source": [
    "phewas_catalog[phewas_catalog['phewas code'].isna()].head()"
   ]
  },
  {
   "cell_type": "code",
   "execution_count": 11,
   "metadata": {},
   "outputs": [
    {
     "data": {
      "text/html": [
       "<div>\n",
       "<style scoped>\n",
       "    .dataframe tbody tr th:only-of-type {\n",
       "        vertical-align: middle;\n",
       "    }\n",
       "\n",
       "    .dataframe tbody tr th {\n",
       "        vertical-align: top;\n",
       "    }\n",
       "\n",
       "    .dataframe thead th {\n",
       "        text-align: right;\n",
       "    }\n",
       "</style>\n",
       "<table border=\"1\" class=\"dataframe\">\n",
       "  <thead>\n",
       "    <tr style=\"text-align: right;\">\n",
       "      <th></th>\n",
       "      <th>chromosome</th>\n",
       "      <th>snp</th>\n",
       "      <th>phewas phenotype</th>\n",
       "      <th>cases</th>\n",
       "      <th>p-value</th>\n",
       "      <th>odds-ratio</th>\n",
       "      <th>gene_name</th>\n",
       "      <th>phewas code</th>\n",
       "      <th>gwas-associations</th>\n",
       "    </tr>\n",
       "  </thead>\n",
       "  <tbody>\n",
       "    <tr>\n",
       "      <th>41</th>\n",
       "      <td>4 111710169</td>\n",
       "      <td>rs2200733</td>\n",
       "      <td>Atrial fibrillation</td>\n",
       "      <td>1950</td>\n",
       "      <td>1.527000e-10</td>\n",
       "      <td>1.5170</td>\n",
       "      <td>NaN</td>\n",
       "      <td>427.21</td>\n",
       "      <td>Atrial fibrillation, Atrial fibrillation/atria...</td>\n",
       "    </tr>\n",
       "    <tr>\n",
       "      <th>49</th>\n",
       "      <td>4 111710169</td>\n",
       "      <td>rs2200733</td>\n",
       "      <td>Atrial fibrillation &amp; flutter</td>\n",
       "      <td>2041</td>\n",
       "      <td>1.019000e-09</td>\n",
       "      <td>1.4810</td>\n",
       "      <td>NaN</td>\n",
       "      <td>427.2</td>\n",
       "      <td>Atrial fibrillation, Atrial fibrillation/atria...</td>\n",
       "    </tr>\n",
       "    <tr>\n",
       "      <th>98</th>\n",
       "      <td>4</td>\n",
       "      <td>rs4698036</td>\n",
       "      <td>Gout</td>\n",
       "      <td>769</td>\n",
       "      <td>7.803000e-08</td>\n",
       "      <td>0.6839</td>\n",
       "      <td>NaN</td>\n",
       "      <td>274.1</td>\n",
       "      <td>Serum uric acid</td>\n",
       "    </tr>\n",
       "    <tr>\n",
       "      <th>108</th>\n",
       "      <td>4</td>\n",
       "      <td>rs4698036</td>\n",
       "      <td>Gout and other crystal arthropathies</td>\n",
       "      <td>904</td>\n",
       "      <td>1.990000e-07</td>\n",
       "      <td>0.7132</td>\n",
       "      <td>NaN</td>\n",
       "      <td>274</td>\n",
       "      <td>Serum uric acid</td>\n",
       "    </tr>\n",
       "    <tr>\n",
       "      <th>115</th>\n",
       "      <td>8 128485038</td>\n",
       "      <td>rs1447295</td>\n",
       "      <td>Prostate cancer</td>\n",
       "      <td>848</td>\n",
       "      <td>2.758000e-07</td>\n",
       "      <td>1.6060</td>\n",
       "      <td>NaN</td>\n",
       "      <td>185</td>\n",
       "      <td>Prostate cancer</td>\n",
       "    </tr>\n",
       "  </tbody>\n",
       "</table>\n",
       "</div>"
      ],
      "text/plain": [
       "      chromosome        snp                      phewas phenotype  cases  \\\n",
       "41   4 111710169  rs2200733                   Atrial fibrillation   1950   \n",
       "49   4 111710169  rs2200733         Atrial fibrillation & flutter   2041   \n",
       "98             4  rs4698036                                  Gout    769   \n",
       "108            4  rs4698036  Gout and other crystal arthropathies    904   \n",
       "115  8 128485038  rs1447295                       Prostate cancer    848   \n",
       "\n",
       "          p-value  odds-ratio gene_name phewas code  \\\n",
       "41   1.527000e-10      1.5170       NaN      427.21   \n",
       "49   1.019000e-09      1.4810       NaN       427.2   \n",
       "98   7.803000e-08      0.6839       NaN       274.1   \n",
       "108  1.990000e-07      0.7132       NaN         274   \n",
       "115  2.758000e-07      1.6060       NaN         185   \n",
       "\n",
       "                                     gwas-associations  \n",
       "41   Atrial fibrillation, Atrial fibrillation/atria...  \n",
       "49   Atrial fibrillation, Atrial fibrillation/atria...  \n",
       "98                                     Serum uric acid  \n",
       "108                                    Serum uric acid  \n",
       "115                                    Prostate cancer  "
      ]
     },
     "execution_count": 11,
     "metadata": {},
     "output_type": "execute_result"
    }
   ],
   "source": [
    "phewas_catalog[phewas_catalog['gene_name'].isna()].head()"
   ]
  },
  {
   "cell_type": "code",
   "execution_count": 12,
   "metadata": {},
   "outputs": [
    {
     "data": {
      "text/plain": [
       "(52140, 9)"
      ]
     },
     "execution_count": 12,
     "metadata": {},
     "output_type": "execute_result"
    }
   ],
   "source": [
    "phewas_catalog[phewas_catalog['gene_name'].isna()].shape"
   ]
  },
  {
   "cell_type": "code",
   "execution_count": 13,
   "metadata": {},
   "outputs": [],
   "source": [
    "phewas_catalog = phewas_catalog.dropna(subset=['gene_name', 'phewas code'])"
   ]
  },
  {
   "cell_type": "code",
   "execution_count": 14,
   "metadata": {},
   "outputs": [
    {
     "data": {
      "text/plain": [
       "(162967, 9)"
      ]
     },
     "execution_count": 14,
     "metadata": {},
     "output_type": "execute_result"
    }
   ],
   "source": [
    "phewas_catalog.shape"
   ]
  },
  {
   "cell_type": "code",
   "execution_count": 15,
   "metadata": {},
   "outputs": [
    {
     "data": {
      "text/plain": [
       "(1775,)"
      ]
     },
     "execution_count": 15,
     "metadata": {},
     "output_type": "execute_result"
    }
   ],
   "source": [
    "phewas_catalog['gene_name'].unique().shape"
   ]
  },
  {
   "cell_type": "code",
   "execution_count": 16,
   "metadata": {},
   "outputs": [
    {
     "data": {
      "text/plain": [
       "(1358,)"
      ]
     },
     "execution_count": 16,
     "metadata": {},
     "output_type": "execute_result"
    }
   ],
   "source": [
    "phewas_catalog['phewas code'].unique().shape"
   ]
  },
  {
   "cell_type": "code",
   "execution_count": 17,
   "metadata": {},
   "outputs": [],
   "source": [
    "phewas_catalog = phewas_catalog.assign(gene_id=phewas_catalog['gene_name'].apply(lambda x: genes_mapping_1[x] if x in genes_mapping_1 else None))"
   ]
  },
  {
   "cell_type": "code",
   "execution_count": 18,
   "metadata": {},
   "outputs": [],
   "source": [
    "phewas_catalog = phewas_catalog.dropna(subset=['gene_name', 'gene_id', 'phewas code'])"
   ]
  },
  {
   "cell_type": "code",
   "execution_count": 19,
   "metadata": {},
   "outputs": [
    {
     "data": {
      "text/plain": [
       "(147970, 10)"
      ]
     },
     "execution_count": 19,
     "metadata": {},
     "output_type": "execute_result"
    }
   ],
   "source": [
    "phewas_catalog.shape"
   ]
  },
  {
   "cell_type": "code",
   "execution_count": 20,
   "metadata": {},
   "outputs": [
    {
     "data": {
      "text/html": [
       "<div>\n",
       "<style scoped>\n",
       "    .dataframe tbody tr th:only-of-type {\n",
       "        vertical-align: middle;\n",
       "    }\n",
       "\n",
       "    .dataframe tbody tr th {\n",
       "        vertical-align: top;\n",
       "    }\n",
       "\n",
       "    .dataframe thead th {\n",
       "        text-align: right;\n",
       "    }\n",
       "</style>\n",
       "<table border=\"1\" class=\"dataframe\">\n",
       "  <thead>\n",
       "    <tr style=\"text-align: right;\">\n",
       "      <th></th>\n",
       "      <th>chromosome</th>\n",
       "      <th>snp</th>\n",
       "      <th>phewas phenotype</th>\n",
       "      <th>cases</th>\n",
       "      <th>p-value</th>\n",
       "      <th>odds-ratio</th>\n",
       "      <th>gene_name</th>\n",
       "      <th>phewas code</th>\n",
       "      <th>gwas-associations</th>\n",
       "      <th>gene_id</th>\n",
       "    </tr>\n",
       "  </thead>\n",
       "  <tbody>\n",
       "    <tr>\n",
       "      <th>0</th>\n",
       "      <td>19 45395619</td>\n",
       "      <td>rs2075650</td>\n",
       "      <td>Alzheimer's disease</td>\n",
       "      <td>737</td>\n",
       "      <td>5.237000e-28</td>\n",
       "      <td>2.410</td>\n",
       "      <td>TOMM40</td>\n",
       "      <td>290.11</td>\n",
       "      <td>Alzheimer's disease, Alzheimer's disease bioma...</td>\n",
       "      <td>ENSG00000130204</td>\n",
       "    </tr>\n",
       "    <tr>\n",
       "      <th>1</th>\n",
       "      <td>19 45395619</td>\n",
       "      <td>rs2075650</td>\n",
       "      <td>Dementias</td>\n",
       "      <td>1170</td>\n",
       "      <td>2.409000e-26</td>\n",
       "      <td>2.114</td>\n",
       "      <td>TOMM40</td>\n",
       "      <td>290.1</td>\n",
       "      <td>Alzheimer's disease, Alzheimer's disease bioma...</td>\n",
       "      <td>ENSG00000130204</td>\n",
       "    </tr>\n",
       "    <tr>\n",
       "      <th>2</th>\n",
       "      <td>6 396321</td>\n",
       "      <td>rs12203592</td>\n",
       "      <td>Actinic keratosis</td>\n",
       "      <td>2505</td>\n",
       "      <td>4.141000e-26</td>\n",
       "      <td>1.691</td>\n",
       "      <td>IRF4</td>\n",
       "      <td>702.1</td>\n",
       "      <td>Eye color, Hair color, Freckling, Progressive ...</td>\n",
       "      <td>ENSG00000137265</td>\n",
       "    </tr>\n",
       "    <tr>\n",
       "      <th>3</th>\n",
       "      <td>6 26093141</td>\n",
       "      <td>rs1800562</td>\n",
       "      <td>Iron metabolism disorder</td>\n",
       "      <td>40</td>\n",
       "      <td>3.409000e-25</td>\n",
       "      <td>12.270</td>\n",
       "      <td>HFE</td>\n",
       "      <td>275.1</td>\n",
       "      <td>Mean corpuscular hemoglobin, Glycated hemoglob...</td>\n",
       "      <td>ENSG00000010704</td>\n",
       "    </tr>\n",
       "    <tr>\n",
       "      <th>4</th>\n",
       "      <td>19 45395619</td>\n",
       "      <td>rs2075650</td>\n",
       "      <td>Delirium dementia and amnestic disorders</td>\n",
       "      <td>1566</td>\n",
       "      <td>8.027000e-24</td>\n",
       "      <td>1.841</td>\n",
       "      <td>TOMM40</td>\n",
       "      <td>290</td>\n",
       "      <td>Alzheimer's disease, Alzheimer's disease bioma...</td>\n",
       "      <td>ENSG00000130204</td>\n",
       "    </tr>\n",
       "  </tbody>\n",
       "</table>\n",
       "</div>"
      ],
      "text/plain": [
       "    chromosome         snp                          phewas phenotype  cases  \\\n",
       "0  19 45395619   rs2075650                       Alzheimer's disease    737   \n",
       "1  19 45395619   rs2075650                                 Dementias   1170   \n",
       "2     6 396321  rs12203592                         Actinic keratosis   2505   \n",
       "3   6 26093141   rs1800562                  Iron metabolism disorder     40   \n",
       "4  19 45395619   rs2075650  Delirium dementia and amnestic disorders   1566   \n",
       "\n",
       "        p-value  odds-ratio gene_name phewas code  \\\n",
       "0  5.237000e-28       2.410    TOMM40      290.11   \n",
       "1  2.409000e-26       2.114    TOMM40       290.1   \n",
       "2  4.141000e-26       1.691      IRF4       702.1   \n",
       "3  3.409000e-25      12.270       HFE       275.1   \n",
       "4  8.027000e-24       1.841    TOMM40         290   \n",
       "\n",
       "                                   gwas-associations          gene_id  \n",
       "0  Alzheimer's disease, Alzheimer's disease bioma...  ENSG00000130204  \n",
       "1  Alzheimer's disease, Alzheimer's disease bioma...  ENSG00000130204  \n",
       "2  Eye color, Hair color, Freckling, Progressive ...  ENSG00000137265  \n",
       "3  Mean corpuscular hemoglobin, Glycated hemoglob...  ENSG00000010704  \n",
       "4  Alzheimer's disease, Alzheimer's disease bioma...  ENSG00000130204  "
      ]
     },
     "execution_count": 20,
     "metadata": {},
     "output_type": "execute_result"
    }
   ],
   "source": [
    "phewas_catalog.head()"
   ]
  },
  {
   "cell_type": "code",
   "execution_count": 21,
   "metadata": {},
   "outputs": [
    {
     "data": {
      "text/html": [
       "<div>\n",
       "<style scoped>\n",
       "    .dataframe tbody tr th:only-of-type {\n",
       "        vertical-align: middle;\n",
       "    }\n",
       "\n",
       "    .dataframe tbody tr th {\n",
       "        vertical-align: top;\n",
       "    }\n",
       "\n",
       "    .dataframe thead th {\n",
       "        text-align: right;\n",
       "    }\n",
       "</style>\n",
       "<table border=\"1\" class=\"dataframe\">\n",
       "  <thead>\n",
       "    <tr style=\"text-align: right;\">\n",
       "      <th></th>\n",
       "      <th>chromosome</th>\n",
       "      <th>snp</th>\n",
       "      <th>phewas phenotype</th>\n",
       "      <th>cases</th>\n",
       "      <th>p-value</th>\n",
       "      <th>odds-ratio</th>\n",
       "      <th>gene_name</th>\n",
       "      <th>phewas code</th>\n",
       "      <th>gwas-associations</th>\n",
       "      <th>gene_id</th>\n",
       "    </tr>\n",
       "  </thead>\n",
       "  <tbody>\n",
       "    <tr>\n",
       "      <th>35306</th>\n",
       "      <td>10</td>\n",
       "      <td>rs7923609</td>\n",
       "      <td>ASCVD</td>\n",
       "      <td>166</td>\n",
       "      <td>0.008094</td>\n",
       "      <td>1.3610</td>\n",
       "      <td>JMJD1C</td>\n",
       "      <td>414.2</td>\n",
       "      <td>Alkaline phosphatase</td>\n",
       "      <td>ENSG00000171988</td>\n",
       "    </tr>\n",
       "    <tr>\n",
       "      <th>154790</th>\n",
       "      <td>22</td>\n",
       "      <td>rs1012068</td>\n",
       "      <td>ASCVD</td>\n",
       "      <td>166</td>\n",
       "      <td>0.035970</td>\n",
       "      <td>1.2920</td>\n",
       "      <td>DEPDC5</td>\n",
       "      <td>414.2</td>\n",
       "      <td>Chronic Hepatitis C infection</td>\n",
       "      <td>ENSG00000100150</td>\n",
       "    </tr>\n",
       "    <tr>\n",
       "      <th>72358</th>\n",
       "      <td>5 158814533</td>\n",
       "      <td>rs10045431</td>\n",
       "      <td>ASCVD</td>\n",
       "      <td>166</td>\n",
       "      <td>0.016740</td>\n",
       "      <td>0.7242</td>\n",
       "      <td>IL12B</td>\n",
       "      <td>414.2</td>\n",
       "      <td>Crohn's disease</td>\n",
       "      <td>ENSG00000113302</td>\n",
       "    </tr>\n",
       "    <tr>\n",
       "      <th>130720</th>\n",
       "      <td>14 87896435</td>\n",
       "      <td>rs17124581</td>\n",
       "      <td>ASCVD</td>\n",
       "      <td>166</td>\n",
       "      <td>0.030370</td>\n",
       "      <td>1.6090</td>\n",
       "      <td>SPATA7</td>\n",
       "      <td>414.2</td>\n",
       "      <td>Cognitive performance</td>\n",
       "      <td>ENSG00000042317</td>\n",
       "    </tr>\n",
       "    <tr>\n",
       "      <th>184453</th>\n",
       "      <td>6 31912648</td>\n",
       "      <td>rs429608</td>\n",
       "      <td>ASCVD</td>\n",
       "      <td>166</td>\n",
       "      <td>0.042840</td>\n",
       "      <td>1.3440</td>\n",
       "      <td>SKIV2L</td>\n",
       "      <td>414.2</td>\n",
       "      <td>Age-related macular degeneration</td>\n",
       "      <td>ENSG00000204351</td>\n",
       "    </tr>\n",
       "  </tbody>\n",
       "</table>\n",
       "</div>"
      ],
      "text/plain": [
       "         chromosome         snp phewas phenotype  cases   p-value  odds-ratio  \\\n",
       "35306            10   rs7923609            ASCVD    166  0.008094      1.3610   \n",
       "154790           22   rs1012068            ASCVD    166  0.035970      1.2920   \n",
       "72358   5 158814533  rs10045431            ASCVD    166  0.016740      0.7242   \n",
       "130720  14 87896435  rs17124581            ASCVD    166  0.030370      1.6090   \n",
       "184453   6 31912648    rs429608            ASCVD    166  0.042840      1.3440   \n",
       "\n",
       "       gene_name phewas code                 gwas-associations  \\\n",
       "35306     JMJD1C       414.2              Alkaline phosphatase   \n",
       "154790    DEPDC5       414.2     Chronic Hepatitis C infection   \n",
       "72358      IL12B       414.2                   Crohn's disease   \n",
       "130720    SPATA7       414.2             Cognitive performance   \n",
       "184453    SKIV2L       414.2  Age-related macular degeneration   \n",
       "\n",
       "                gene_id  \n",
       "35306   ENSG00000171988  \n",
       "154790  ENSG00000100150  \n",
       "72358   ENSG00000113302  \n",
       "130720  ENSG00000042317  \n",
       "184453  ENSG00000204351  "
      ]
     },
     "execution_count": 21,
     "metadata": {},
     "output_type": "execute_result"
    }
   ],
   "source": [
    "phewas_catalog.sort_values('phewas phenotype').head()"
   ]
  },
  {
   "cell_type": "markdown",
   "metadata": {},
   "source": [
    "# Genes in common"
   ]
  },
  {
   "cell_type": "code",
   "execution_count": 22,
   "metadata": {},
   "outputs": [],
   "source": [
    "shared_gene_ids = \\\n",
    "    set(phewas_catalog['gene_id'].values)\\\n",
    "    .intersection(genes_associations.index)"
   ]
  },
  {
   "cell_type": "code",
   "execution_count": 23,
   "metadata": {},
   "outputs": [
    {
     "data": {
      "text/plain": [
       "1593"
      ]
     },
     "execution_count": 23,
     "metadata": {},
     "output_type": "execute_result"
    }
   ],
   "source": [
    "len(shared_gene_ids)"
   ]
  },
  {
   "cell_type": "markdown",
   "metadata": {},
   "source": [
    "# HPO to MIM"
   ]
  },
  {
   "cell_type": "code",
   "execution_count": 24,
   "metadata": {},
   "outputs": [],
   "source": [
    "hpo_to_mim = pd.read_csv(os.path.join(conf.DATA_DIR, 'hpo-to-omim-and-phecode.csv.gz'), dtype={'phecode': str})"
   ]
  },
  {
   "cell_type": "code",
   "execution_count": 25,
   "metadata": {},
   "outputs": [
    {
     "data": {
      "text/plain": [
       "(84031, 10)"
      ]
     },
     "execution_count": 25,
     "metadata": {},
     "output_type": "execute_result"
    }
   ],
   "source": [
    "hpo_to_mim.shape"
   ]
  },
  {
   "cell_type": "code",
   "execution_count": 26,
   "metadata": {},
   "outputs": [
    {
     "data": {
      "text/html": [
       "<div>\n",
       "<style scoped>\n",
       "    .dataframe tbody tr th:only-of-type {\n",
       "        vertical-align: middle;\n",
       "    }\n",
       "\n",
       "    .dataframe tbody tr th {\n",
       "        vertical-align: top;\n",
       "    }\n",
       "\n",
       "    .dataframe thead th {\n",
       "        text-align: right;\n",
       "    }\n",
       "</style>\n",
       "<table border=\"1\" class=\"dataframe\">\n",
       "  <thead>\n",
       "    <tr style=\"text-align: right;\">\n",
       "      <th></th>\n",
       "      <th>term_id</th>\n",
       "      <th>name</th>\n",
       "      <th>match_available</th>\n",
       "      <th>phecode</th>\n",
       "      <th>phecode string</th>\n",
       "      <th>match_type</th>\n",
       "      <th>class</th>\n",
       "      <th>dID</th>\n",
       "      <th>disease_name</th>\n",
       "      <th>modifier</th>\n",
       "    </tr>\n",
       "  </thead>\n",
       "  <tbody>\n",
       "    <tr>\n",
       "      <th>0</th>\n",
       "      <td>28</td>\n",
       "      <td>Cryptorchidism</td>\n",
       "      <td>1</td>\n",
       "      <td>751.12</td>\n",
       "      <td>Congenital anomalies of male genital organs</td>\n",
       "      <td>General</td>\n",
       "      <td>Congenital</td>\n",
       "      <td>100050</td>\n",
       "      <td>100050 AARSKOG SYNDROME, AUTOSOMAL DOMINANT</td>\n",
       "      <td>O</td>\n",
       "    </tr>\n",
       "    <tr>\n",
       "      <th>1</th>\n",
       "      <td>49</td>\n",
       "      <td>Shawl scrotum</td>\n",
       "      <td>1</td>\n",
       "      <td>751.12</td>\n",
       "      <td>Congenital anomalies of male genital organs</td>\n",
       "      <td>General</td>\n",
       "      <td>Congenital</td>\n",
       "      <td>100050</td>\n",
       "      <td>100050 AARSKOG SYNDROME, AUTOSOMAL DOMINANT</td>\n",
       "      <td>O</td>\n",
       "    </tr>\n",
       "    <tr>\n",
       "      <th>2</th>\n",
       "      <td>175</td>\n",
       "      <td>Cleft palate</td>\n",
       "      <td>1</td>\n",
       "      <td>749.1</td>\n",
       "      <td>Cleft palate</td>\n",
       "      <td>Exact</td>\n",
       "      <td>Congenital</td>\n",
       "      <td>100050</td>\n",
       "      <td>100050 AARSKOG SYNDROME, AUTOSOMAL DOMINANT</td>\n",
       "      <td>O</td>\n",
       "    </tr>\n",
       "    <tr>\n",
       "      <th>3</th>\n",
       "      <td>202</td>\n",
       "      <td>Oral cleft</td>\n",
       "      <td>1</td>\n",
       "      <td>749.1</td>\n",
       "      <td>Cleft palate</td>\n",
       "      <td>Broader</td>\n",
       "      <td>Congenital</td>\n",
       "      <td>100050</td>\n",
       "      <td>100050 AARSKOG SYNDROME, AUTOSOMAL DOMINANT</td>\n",
       "      <td>O</td>\n",
       "    </tr>\n",
       "    <tr>\n",
       "      <th>4</th>\n",
       "      <td>204</td>\n",
       "      <td>Cleft upper lip</td>\n",
       "      <td>1</td>\n",
       "      <td>749.1</td>\n",
       "      <td>Cleft palate</td>\n",
       "      <td>Broader</td>\n",
       "      <td>Congenital</td>\n",
       "      <td>100050</td>\n",
       "      <td>100050 AARSKOG SYNDROME, AUTOSOMAL DOMINANT</td>\n",
       "      <td>O</td>\n",
       "    </tr>\n",
       "  </tbody>\n",
       "</table>\n",
       "</div>"
      ],
      "text/plain": [
       "   term_id             name match_available phecode  \\\n",
       "0       28   Cryptorchidism               1  751.12   \n",
       "1       49    Shawl scrotum               1  751.12   \n",
       "2      175     Cleft palate               1   749.1   \n",
       "3      202       Oral cleft               1   749.1   \n",
       "4      204  Cleft upper lip               1   749.1   \n",
       "\n",
       "                                phecode string match_type       class     dID  \\\n",
       "0  Congenital anomalies of male genital organs    General  Congenital  100050   \n",
       "1  Congenital anomalies of male genital organs    General  Congenital  100050   \n",
       "2                                 Cleft palate      Exact  Congenital  100050   \n",
       "3                                 Cleft palate    Broader  Congenital  100050   \n",
       "4                                 Cleft palate    Broader  Congenital  100050   \n",
       "\n",
       "                                  disease_name modifier  \n",
       "0  100050 AARSKOG SYNDROME, AUTOSOMAL DOMINANT        O  \n",
       "1  100050 AARSKOG SYNDROME, AUTOSOMAL DOMINANT        O  \n",
       "2  100050 AARSKOG SYNDROME, AUTOSOMAL DOMINANT        O  \n",
       "3  100050 AARSKOG SYNDROME, AUTOSOMAL DOMINANT        O  \n",
       "4  100050 AARSKOG SYNDROME, AUTOSOMAL DOMINANT        O  "
      ]
     },
     "execution_count": 26,
     "metadata": {},
     "output_type": "execute_result"
    }
   ],
   "source": [
    "hpo_to_mim.head()"
   ]
  },
  {
   "cell_type": "markdown",
   "metadata": {},
   "source": [
    "# Load silver standard to map from UKB to MIM"
   ]
  },
  {
   "cell_type": "code",
   "execution_count": 27,
   "metadata": {},
   "outputs": [],
   "source": [
    "omim_silver_standard = pd.read_csv(os.path.join(conf.DATA_DIR, 'omim_silver_standard.tsv'), sep='\\t')"
   ]
  },
  {
   "cell_type": "code",
   "execution_count": 28,
   "metadata": {},
   "outputs": [],
   "source": [
    "ukb_to_mim_map = omim_silver_standard[['trait', 'pheno_mim']].dropna()"
   ]
  },
  {
   "cell_type": "code",
   "execution_count": 29,
   "metadata": {},
   "outputs": [
    {
     "data": {
      "text/plain": [
       "(7822, 2)"
      ]
     },
     "execution_count": 29,
     "metadata": {},
     "output_type": "execute_result"
    }
   ],
   "source": [
    "ukb_to_mim_map.shape"
   ]
  },
  {
   "cell_type": "code",
   "execution_count": 30,
   "metadata": {},
   "outputs": [
    {
     "data": {
      "text/html": [
       "<div>\n",
       "<style scoped>\n",
       "    .dataframe tbody tr th:only-of-type {\n",
       "        vertical-align: middle;\n",
       "    }\n",
       "\n",
       "    .dataframe tbody tr th {\n",
       "        vertical-align: top;\n",
       "    }\n",
       "\n",
       "    .dataframe thead th {\n",
       "        text-align: right;\n",
       "    }\n",
       "</style>\n",
       "<table border=\"1\" class=\"dataframe\">\n",
       "  <thead>\n",
       "    <tr style=\"text-align: right;\">\n",
       "      <th></th>\n",
       "      <th>trait</th>\n",
       "      <th>pheno_mim</th>\n",
       "    </tr>\n",
       "  </thead>\n",
       "  <tbody>\n",
       "    <tr>\n",
       "      <th>0</th>\n",
       "      <td>M41-Diagnoses_main_ICD10_M41_Scoliosis</td>\n",
       "      <td>101800</td>\n",
       "    </tr>\n",
       "    <tr>\n",
       "      <th>1</th>\n",
       "      <td>M41-Diagnoses_main_ICD10_M41_Scoliosis</td>\n",
       "      <td>102500</td>\n",
       "    </tr>\n",
       "    <tr>\n",
       "      <th>2</th>\n",
       "      <td>M41-Diagnoses_main_ICD10_M41_Scoliosis</td>\n",
       "      <td>105830</td>\n",
       "    </tr>\n",
       "    <tr>\n",
       "      <th>3</th>\n",
       "      <td>M41-Diagnoses_main_ICD10_M41_Scoliosis</td>\n",
       "      <td>108120</td>\n",
       "    </tr>\n",
       "    <tr>\n",
       "      <th>4</th>\n",
       "      <td>M41-Diagnoses_main_ICD10_M41_Scoliosis</td>\n",
       "      <td>108145</td>\n",
       "    </tr>\n",
       "  </tbody>\n",
       "</table>\n",
       "</div>"
      ],
      "text/plain": [
       "                                    trait  pheno_mim\n",
       "0  M41-Diagnoses_main_ICD10_M41_Scoliosis     101800\n",
       "1  M41-Diagnoses_main_ICD10_M41_Scoliosis     102500\n",
       "2  M41-Diagnoses_main_ICD10_M41_Scoliosis     105830\n",
       "3  M41-Diagnoses_main_ICD10_M41_Scoliosis     108120\n",
       "4  M41-Diagnoses_main_ICD10_M41_Scoliosis     108145"
      ]
     },
     "execution_count": 30,
     "metadata": {},
     "output_type": "execute_result"
    }
   ],
   "source": [
    "ukb_to_mim_map.head()"
   ]
  },
  {
   "cell_type": "markdown",
   "metadata": {},
   "source": [
    "# Read gwas2gene results"
   ]
  },
  {
   "cell_type": "code",
   "execution_count": 31,
   "metadata": {},
   "outputs": [],
   "source": [
    "from glob import glob\n",
    "\n",
    "import rpy2.robjects as robjects\n",
    "from rpy2.robjects import pandas2ri\n",
    "pandas2ri.activate()"
   ]
  },
  {
   "cell_type": "code",
   "execution_count": 32,
   "metadata": {},
   "outputs": [],
   "source": [
    "readRDS = robjects.r['readRDS']"
   ]
  },
  {
   "cell_type": "code",
   "execution_count": 33,
   "metadata": {},
   "outputs": [
    {
     "data": {
      "text/plain": [
       "99"
      ]
     },
     "metadata": {},
     "output_type": "display_data"
    },
    {
     "name": "stdout",
     "output_type": "stream",
     "text": [
      "WARNING: some files are not there. 107 expected, 99 found.\n"
     ]
    }
   ],
   "source": [
    "f_files = glob(os.path.join(conf.OMIM_SILVER_STANDARD_GWAS_TO_GENE_DIR, '*.rds'))\n",
    "display(len(f_files))\n",
    "\n",
    "if len(f_files) != len(omim_silver_standard['trait'].unique()):\n",
    "    print(f'WARNING: some files are not there. {len(omim_silver_standard.trait.unique())} expected, {len(f_files)} found.')"
   ]
  },
  {
   "cell_type": "code",
   "execution_count": 34,
   "metadata": {},
   "outputs": [],
   "source": [
    "gwas2genes_results = {}\n",
    "\n",
    "for f in f_files:\n",
    "    f_base = os.path.basename(f)\n",
    "    f_code = f_base.split('.')[0]\n",
    "    \n",
    "    #print(f_base)\n",
    "    rds_contents = readRDS(f)\n",
    "    \n",
    "    if len(rds_contents[1]) > 0:\n",
    "        f_gene_list = list(rds_contents[1][0].iter_labels())\n",
    "    else:\n",
    "        print(f'{f_code}: empty')\n",
    "        f_gene_list = []\n",
    "    \n",
    "    gwas2genes_results[f_code] = f_gene_list"
   ]
  },
  {
   "cell_type": "code",
   "execution_count": 35,
   "metadata": {},
   "outputs": [
    {
     "data": {
      "text/plain": [
       "20837"
      ]
     },
     "metadata": {},
     "output_type": "display_data"
    },
    {
     "data": {
      "text/plain": [
       "10185"
      ]
     },
     "metadata": {},
     "output_type": "display_data"
    },
    {
     "data": {
      "text/plain": [
       "958"
      ]
     },
     "metadata": {},
     "output_type": "display_data"
    }
   ],
   "source": [
    "gwas2gene_all_genes = []\n",
    "\n",
    "for k in gwas2genes_results.keys():\n",
    "    gwas2gene_all_genes.extend(gwas2genes_results[k])\n",
    "\n",
    "display(len(gwas2gene_all_genes))\n",
    "\n",
    "gwas2gene_all_genes = set(gwas2gene_all_genes)\n",
    "display(len(gwas2gene_all_genes))\n",
    "\n",
    "gwas2gene_all_genes = shared_gene_ids.intersection(gwas2gene_all_genes)\n",
    "display(len(gwas2gene_all_genes))"
   ]
  },
  {
   "cell_type": "code",
   "execution_count": 36,
   "metadata": {},
   "outputs": [
    {
     "data": {
      "text/plain": [
       "0    ENSG00000135074\n",
       "1    ENSG00000169862\n",
       "2    ENSG00000123374\n",
       "3    ENSG00000140718\n",
       "4    ENSG00000100147\n",
       "dtype: object"
      ]
     },
     "execution_count": 36,
     "metadata": {},
     "output_type": "execute_result"
    }
   ],
   "source": [
    "pd.Series(list(gwas2gene_all_genes)).head()"
   ]
  },
  {
   "cell_type": "markdown",
   "metadata": {},
   "source": [
    "# Merge"
   ]
  },
  {
   "cell_type": "code",
   "execution_count": 37,
   "metadata": {},
   "outputs": [
    {
     "data": {
      "text/plain": [
       "(154338, 3)"
      ]
     },
     "metadata": {},
     "output_type": "display_data"
    }
   ],
   "source": [
    "# mim to phecode\n",
    "_tmp = pd.merge(ukb_to_mim_map, hpo_to_mim[['phecode', 'dID']], left_on='pheno_mim', right_on='dID', how='inner').drop(columns=['dID'])\n",
    "display(_tmp.shape)"
   ]
  },
  {
   "cell_type": "code",
   "execution_count": 38,
   "metadata": {},
   "outputs": [
    {
     "data": {
      "text/plain": [
       "(10256175, 5)"
      ]
     },
     "metadata": {},
     "output_type": "display_data"
    }
   ],
   "source": [
    "# phecode to phewas catalog\n",
    "_tmp = pd.merge(_tmp, phewas_catalog[['phewas code', 'gene_name', 'gene_id']], left_on='phecode', right_on='phewas code', how='inner').drop(columns=['phewas code'])\n",
    "display(_tmp.shape)"
   ]
  },
  {
   "cell_type": "code",
   "execution_count": 39,
   "metadata": {},
   "outputs": [
    {
     "data": {
      "text/html": [
       "<div>\n",
       "<style scoped>\n",
       "    .dataframe tbody tr th:only-of-type {\n",
       "        vertical-align: middle;\n",
       "    }\n",
       "\n",
       "    .dataframe tbody tr th {\n",
       "        vertical-align: top;\n",
       "    }\n",
       "\n",
       "    .dataframe thead th {\n",
       "        text-align: right;\n",
       "    }\n",
       "</style>\n",
       "<table border=\"1\" class=\"dataframe\">\n",
       "  <thead>\n",
       "    <tr style=\"text-align: right;\">\n",
       "      <th></th>\n",
       "      <th>trait</th>\n",
       "      <th>pheno_mim</th>\n",
       "      <th>phecode</th>\n",
       "      <th>gene_name</th>\n",
       "      <th>gene_id</th>\n",
       "    </tr>\n",
       "  </thead>\n",
       "  <tbody>\n",
       "    <tr>\n",
       "      <th>0</th>\n",
       "      <td>M41-Diagnoses_main_ICD10_M41_Scoliosis</td>\n",
       "      <td>101800</td>\n",
       "      <td>257.1</td>\n",
       "      <td>UMOD</td>\n",
       "      <td>ENSG00000169344</td>\n",
       "    </tr>\n",
       "    <tr>\n",
       "      <th>1</th>\n",
       "      <td>M41-Diagnoses_main_ICD10_M41_Scoliosis</td>\n",
       "      <td>101800</td>\n",
       "      <td>257.1</td>\n",
       "      <td>UMOD</td>\n",
       "      <td>ENSG00000169344</td>\n",
       "    </tr>\n",
       "    <tr>\n",
       "      <th>2</th>\n",
       "      <td>M41-Diagnoses_main_ICD10_M41_Scoliosis</td>\n",
       "      <td>101800</td>\n",
       "      <td>257.1</td>\n",
       "      <td>GLG1</td>\n",
       "      <td>ENSG00000090863</td>\n",
       "    </tr>\n",
       "    <tr>\n",
       "      <th>3</th>\n",
       "      <td>M41-Diagnoses_main_ICD10_M41_Scoliosis</td>\n",
       "      <td>101800</td>\n",
       "      <td>257.1</td>\n",
       "      <td>STIM2</td>\n",
       "      <td>ENSG00000109689</td>\n",
       "    </tr>\n",
       "    <tr>\n",
       "      <th>4</th>\n",
       "      <td>M41-Diagnoses_main_ICD10_M41_Scoliosis</td>\n",
       "      <td>101800</td>\n",
       "      <td>257.1</td>\n",
       "      <td>MLPH</td>\n",
       "      <td>ENSG00000115648</td>\n",
       "    </tr>\n",
       "  </tbody>\n",
       "</table>\n",
       "</div>"
      ],
      "text/plain": [
       "                                    trait  pheno_mim phecode gene_name  \\\n",
       "0  M41-Diagnoses_main_ICD10_M41_Scoliosis     101800   257.1      UMOD   \n",
       "1  M41-Diagnoses_main_ICD10_M41_Scoliosis     101800   257.1      UMOD   \n",
       "2  M41-Diagnoses_main_ICD10_M41_Scoliosis     101800   257.1      GLG1   \n",
       "3  M41-Diagnoses_main_ICD10_M41_Scoliosis     101800   257.1     STIM2   \n",
       "4  M41-Diagnoses_main_ICD10_M41_Scoliosis     101800   257.1      MLPH   \n",
       "\n",
       "           gene_id  \n",
       "0  ENSG00000169344  \n",
       "1  ENSG00000169344  \n",
       "2  ENSG00000090863  \n",
       "3  ENSG00000109689  \n",
       "4  ENSG00000115648  "
      ]
     },
     "execution_count": 39,
     "metadata": {},
     "output_type": "execute_result"
    }
   ],
   "source": [
    "_tmp.head()"
   ]
  },
  {
   "cell_type": "code",
   "execution_count": 40,
   "metadata": {},
   "outputs": [],
   "source": [
    "# just wondering if this is the right way... but I don't think so, I want just a ukb-trait to gene map and see how many are significant\n",
    "#_tmp.drop_duplicates(subset=['trait', 'phecode', 'gene_id']).shape"
   ]
  },
  {
   "cell_type": "code",
   "execution_count": 41,
   "metadata": {},
   "outputs": [],
   "source": [
    "_tmp = _tmp.drop_duplicates(subset=['trait', 'gene_id'])"
   ]
  },
  {
   "cell_type": "code",
   "execution_count": 42,
   "metadata": {},
   "outputs": [
    {
     "data": {
      "text/plain": [
       "(153579, 5)"
      ]
     },
     "execution_count": 42,
     "metadata": {},
     "output_type": "execute_result"
    }
   ],
   "source": [
    "_tmp.shape"
   ]
  },
  {
   "cell_type": "code",
   "execution_count": 43,
   "metadata": {},
   "outputs": [],
   "source": [
    "from entity import Trait"
   ]
  },
  {
   "cell_type": "code",
   "execution_count": 44,
   "metadata": {},
   "outputs": [],
   "source": [
    "_tmp = _tmp.assign(ukb_code=[Trait(full_code=t).code for t in _tmp['trait'].values])"
   ]
  },
  {
   "cell_type": "code",
   "execution_count": 45,
   "metadata": {},
   "outputs": [
    {
     "data": {
      "text/html": [
       "<div>\n",
       "<style scoped>\n",
       "    .dataframe tbody tr th:only-of-type {\n",
       "        vertical-align: middle;\n",
       "    }\n",
       "\n",
       "    .dataframe tbody tr th {\n",
       "        vertical-align: top;\n",
       "    }\n",
       "\n",
       "    .dataframe thead th {\n",
       "        text-align: right;\n",
       "    }\n",
       "</style>\n",
       "<table border=\"1\" class=\"dataframe\">\n",
       "  <thead>\n",
       "    <tr style=\"text-align: right;\">\n",
       "      <th></th>\n",
       "      <th>trait</th>\n",
       "      <th>pheno_mim</th>\n",
       "      <th>phecode</th>\n",
       "      <th>gene_name</th>\n",
       "      <th>gene_id</th>\n",
       "      <th>ukb_code</th>\n",
       "    </tr>\n",
       "  </thead>\n",
       "  <tbody>\n",
       "    <tr>\n",
       "      <th>0</th>\n",
       "      <td>M41-Diagnoses_main_ICD10_M41_Scoliosis</td>\n",
       "      <td>101800</td>\n",
       "      <td>257.1</td>\n",
       "      <td>UMOD</td>\n",
       "      <td>ENSG00000169344</td>\n",
       "      <td>M41</td>\n",
       "    </tr>\n",
       "    <tr>\n",
       "      <th>2</th>\n",
       "      <td>M41-Diagnoses_main_ICD10_M41_Scoliosis</td>\n",
       "      <td>101800</td>\n",
       "      <td>257.1</td>\n",
       "      <td>GLG1</td>\n",
       "      <td>ENSG00000090863</td>\n",
       "      <td>M41</td>\n",
       "    </tr>\n",
       "    <tr>\n",
       "      <th>3</th>\n",
       "      <td>M41-Diagnoses_main_ICD10_M41_Scoliosis</td>\n",
       "      <td>101800</td>\n",
       "      <td>257.1</td>\n",
       "      <td>STIM2</td>\n",
       "      <td>ENSG00000109689</td>\n",
       "      <td>M41</td>\n",
       "    </tr>\n",
       "    <tr>\n",
       "      <th>4</th>\n",
       "      <td>M41-Diagnoses_main_ICD10_M41_Scoliosis</td>\n",
       "      <td>101800</td>\n",
       "      <td>257.1</td>\n",
       "      <td>MLPH</td>\n",
       "      <td>ENSG00000115648</td>\n",
       "      <td>M41</td>\n",
       "    </tr>\n",
       "    <tr>\n",
       "      <th>5</th>\n",
       "      <td>M41-Diagnoses_main_ICD10_M41_Scoliosis</td>\n",
       "      <td>101800</td>\n",
       "      <td>257.1</td>\n",
       "      <td>JMJD1C</td>\n",
       "      <td>ENSG00000171988</td>\n",
       "      <td>M41</td>\n",
       "    </tr>\n",
       "  </tbody>\n",
       "</table>\n",
       "</div>"
      ],
      "text/plain": [
       "                                    trait  pheno_mim phecode gene_name  \\\n",
       "0  M41-Diagnoses_main_ICD10_M41_Scoliosis     101800   257.1      UMOD   \n",
       "2  M41-Diagnoses_main_ICD10_M41_Scoliosis     101800   257.1      GLG1   \n",
       "3  M41-Diagnoses_main_ICD10_M41_Scoliosis     101800   257.1     STIM2   \n",
       "4  M41-Diagnoses_main_ICD10_M41_Scoliosis     101800   257.1      MLPH   \n",
       "5  M41-Diagnoses_main_ICD10_M41_Scoliosis     101800   257.1    JMJD1C   \n",
       "\n",
       "           gene_id ukb_code  \n",
       "0  ENSG00000169344      M41  \n",
       "2  ENSG00000090863      M41  \n",
       "3  ENSG00000109689      M41  \n",
       "4  ENSG00000115648      M41  \n",
       "5  ENSG00000171988      M41  "
      ]
     },
     "execution_count": 45,
     "metadata": {},
     "output_type": "execute_result"
    }
   ],
   "source": [
    "_tmp.head()"
   ]
  },
  {
   "cell_type": "code",
   "execution_count": 46,
   "metadata": {},
   "outputs": [],
   "source": [
    "phewas_ukb_results = _tmp"
   ]
  },
  {
   "cell_type": "markdown",
   "metadata": {},
   "source": [
    "### Keep genes per trait that we can find in GWAS"
   ]
  },
  {
   "cell_type": "code",
   "execution_count": 47,
   "metadata": {},
   "outputs": [
    {
     "name": "stdout",
     "output_type": "stream",
     "text": [
      "WARNING: for ukb trait \"20002_1081-Noncancer_illness_code_selfreported_stroke\", no genes were found\n",
      "WARNING: for ukb trait \"20002_1264-Noncancer_illness_code_selfreported_epilepsy\", no genes were found\n",
      "WARNING: for ukb trait \"20002_1538-Noncancer_illness_code_selfreported_arthritis_nos\", no genes were found\n",
      "WARNING: for ukb trait \"22130-Doctor_diagnosed_COPD_chronic_obstructive_pulmonary_disease\", no genes were found\n",
      "WARNING: for ukb trait \"C80-Diagnoses_main_ICD10_C80_Malignant_neoplasm_without_specification_of_site\", no genes were found\n",
      "WARNING: for ukb trait \"I71-Diagnoses_main_ICD10_I71_Aortic_aneurysm_and_dissection\", no genes were found\n",
      "WARNING: for ukb trait \"I95-Diagnoses_main_ICD10_I95_Hypotension\", no genes were found\n",
      "WARNING: for ukb trait \"M13-Diagnoses_main_ICD10_M13_Other_arthritis\", no genes were found\n"
     ]
    }
   ],
   "source": [
    "trait_genes_to_keep = []\n",
    "\n",
    "# idx = 0\n",
    "for trait, data in phewas_ukb_results.groupby(['trait']):\n",
    "    ukb_trait_code = data.ukb_code.unique()[0]\n",
    "    \n",
    "    if ukb_trait_code in gwas2genes_results.keys():\n",
    "        ukb_traits_genes = gwas2genes_results[ukb_trait_code]\n",
    "    else:\n",
    "        print(f'WARNING: for ukb trait \"{trait}\", no genes were found')\n",
    "        continue\n",
    "    \n",
    "    ukb_traits_genes = set(ukb_traits_genes)\n",
    "    ukb_traits_genes = ukb_traits_genes.intersection(gwas2gene_all_genes)\n",
    "    \n",
    "    idx_to_keep = data[data['gene_id'].isin(ukb_traits_genes)].index.tolist()\n",
    "    trait_genes_to_keep.extend(idx_to_keep)"
   ]
  },
  {
   "cell_type": "code",
   "execution_count": 48,
   "metadata": {},
   "outputs": [
    {
     "data": {
      "text/plain": [
       "2205"
      ]
     },
     "metadata": {},
     "output_type": "display_data"
    }
   ],
   "source": [
    "display(len(trait_genes_to_keep))"
   ]
  },
  {
   "cell_type": "code",
   "execution_count": 49,
   "metadata": {},
   "outputs": [
    {
     "data": {
      "text/plain": [
       "[319791, 319794, 3342736, 3342786, 3444215]"
      ]
     },
     "metadata": {},
     "output_type": "display_data"
    }
   ],
   "source": [
    "display(trait_genes_to_keep[:5])"
   ]
  },
  {
   "cell_type": "code",
   "execution_count": 50,
   "metadata": {},
   "outputs": [],
   "source": [
    "phewas_ukb_results = phewas_ukb_results.loc[trait_genes_to_keep]"
   ]
  },
  {
   "cell_type": "code",
   "execution_count": 51,
   "metadata": {},
   "outputs": [
    {
     "data": {
      "text/html": [
       "<div>\n",
       "<style scoped>\n",
       "    .dataframe tbody tr th:only-of-type {\n",
       "        vertical-align: middle;\n",
       "    }\n",
       "\n",
       "    .dataframe tbody tr th {\n",
       "        vertical-align: top;\n",
       "    }\n",
       "\n",
       "    .dataframe thead th {\n",
       "        text-align: right;\n",
       "    }\n",
       "</style>\n",
       "<table border=\"1\" class=\"dataframe\">\n",
       "  <thead>\n",
       "    <tr style=\"text-align: right;\">\n",
       "      <th></th>\n",
       "      <th>trait</th>\n",
       "      <th>pheno_mim</th>\n",
       "      <th>phecode</th>\n",
       "      <th>gene_name</th>\n",
       "      <th>gene_id</th>\n",
       "      <th>ukb_code</th>\n",
       "    </tr>\n",
       "  </thead>\n",
       "  <tbody>\n",
       "    <tr>\n",
       "      <th>319791</th>\n",
       "      <td>1200-Sleeplessness_insomnia</td>\n",
       "      <td>168605</td>\n",
       "      <td>378</td>\n",
       "      <td>IKZF4</td>\n",
       "      <td>ENSG00000123411</td>\n",
       "      <td>1200</td>\n",
       "    </tr>\n",
       "    <tr>\n",
       "      <th>319794</th>\n",
       "      <td>1200-Sleeplessness_insomnia</td>\n",
       "      <td>168605</td>\n",
       "      <td>378</td>\n",
       "      <td>PRIM1</td>\n",
       "      <td>ENSG00000198056</td>\n",
       "      <td>1200</td>\n",
       "    </tr>\n",
       "    <tr>\n",
       "      <th>3342736</th>\n",
       "      <td>1200-Sleeplessness_insomnia</td>\n",
       "      <td>121300</td>\n",
       "      <td>563</td>\n",
       "      <td>ABCG8</td>\n",
       "      <td>ENSG00000143921</td>\n",
       "      <td>1200</td>\n",
       "    </tr>\n",
       "    <tr>\n",
       "      <th>3342786</th>\n",
       "      <td>1200-Sleeplessness_insomnia</td>\n",
       "      <td>121300</td>\n",
       "      <td>563</td>\n",
       "      <td>THADA</td>\n",
       "      <td>ENSG00000115970</td>\n",
       "      <td>1200</td>\n",
       "    </tr>\n",
       "    <tr>\n",
       "      <th>3444215</th>\n",
       "      <td>1200-Sleeplessness_insomnia</td>\n",
       "      <td>600072</td>\n",
       "      <td>331</td>\n",
       "      <td>MEIS1</td>\n",
       "      <td>ENSG00000143995</td>\n",
       "      <td>1200</td>\n",
       "    </tr>\n",
       "  </tbody>\n",
       "</table>\n",
       "</div>"
      ],
      "text/plain": [
       "                               trait  pheno_mim phecode gene_name  \\\n",
       "319791   1200-Sleeplessness_insomnia     168605     378     IKZF4   \n",
       "319794   1200-Sleeplessness_insomnia     168605     378     PRIM1   \n",
       "3342736  1200-Sleeplessness_insomnia     121300     563     ABCG8   \n",
       "3342786  1200-Sleeplessness_insomnia     121300     563     THADA   \n",
       "3444215  1200-Sleeplessness_insomnia     600072     331     MEIS1   \n",
       "\n",
       "                 gene_id ukb_code  \n",
       "319791   ENSG00000123411     1200  \n",
       "319794   ENSG00000198056     1200  \n",
       "3342736  ENSG00000143921     1200  \n",
       "3342786  ENSG00000115970     1200  \n",
       "3444215  ENSG00000143995     1200  "
      ]
     },
     "execution_count": 51,
     "metadata": {},
     "output_type": "execute_result"
    }
   ],
   "source": [
    "phewas_ukb_results.head()"
   ]
  },
  {
   "cell_type": "code",
   "execution_count": 52,
   "metadata": {},
   "outputs": [],
   "source": [
    "phewas_ukb_results = phewas_ukb_results.assign(multixcan_pval=np.nan)\n",
    "\n",
    "for i, d in phewas_ukb_results.iterrows():\n",
    "    gene_id = d['gene_id']\n",
    "    if gene_id not in genes_associations.index:\n",
    "        continue\n",
    "    \n",
    "    ukb_fullcode = d['trait']\n",
    "    gene_trait_pval = genes_associations.loc[gene_id, ukb_fullcode]\n",
    "    phewas_ukb_results.loc[i, 'multixcan_pval'] = gene_trait_pval"
   ]
  },
  {
   "cell_type": "code",
   "execution_count": 53,
   "metadata": {},
   "outputs": [
    {
     "data": {
      "text/plain": [
       "(2205, 7)"
      ]
     },
     "execution_count": 53,
     "metadata": {},
     "output_type": "execute_result"
    }
   ],
   "source": [
    "phewas_ukb_results.shape"
   ]
  },
  {
   "cell_type": "code",
   "execution_count": 54,
   "metadata": {},
   "outputs": [],
   "source": [
    "phewas_ukb_results = phewas_ukb_results.dropna(subset=['multixcan_pval'])"
   ]
  },
  {
   "cell_type": "code",
   "execution_count": 55,
   "metadata": {},
   "outputs": [
    {
     "data": {
      "text/plain": [
       "(2202, 7)"
      ]
     },
     "execution_count": 55,
     "metadata": {},
     "output_type": "execute_result"
    }
   ],
   "source": [
    "phewas_ukb_results.shape"
   ]
  },
  {
   "cell_type": "code",
   "execution_count": 56,
   "metadata": {},
   "outputs": [
    {
     "data": {
      "text/html": [
       "<div>\n",
       "<style scoped>\n",
       "    .dataframe tbody tr th:only-of-type {\n",
       "        vertical-align: middle;\n",
       "    }\n",
       "\n",
       "    .dataframe tbody tr th {\n",
       "        vertical-align: top;\n",
       "    }\n",
       "\n",
       "    .dataframe thead th {\n",
       "        text-align: right;\n",
       "    }\n",
       "</style>\n",
       "<table border=\"1\" class=\"dataframe\">\n",
       "  <thead>\n",
       "    <tr style=\"text-align: right;\">\n",
       "      <th></th>\n",
       "      <th>trait</th>\n",
       "      <th>pheno_mim</th>\n",
       "      <th>phecode</th>\n",
       "      <th>gene_name</th>\n",
       "      <th>gene_id</th>\n",
       "      <th>ukb_code</th>\n",
       "      <th>multixcan_pval</th>\n",
       "    </tr>\n",
       "  </thead>\n",
       "  <tbody>\n",
       "    <tr>\n",
       "      <th>319791</th>\n",
       "      <td>1200-Sleeplessness_insomnia</td>\n",
       "      <td>168605</td>\n",
       "      <td>378</td>\n",
       "      <td>IKZF4</td>\n",
       "      <td>ENSG00000123411</td>\n",
       "      <td>1200</td>\n",
       "      <td>0.000826</td>\n",
       "    </tr>\n",
       "    <tr>\n",
       "      <th>319794</th>\n",
       "      <td>1200-Sleeplessness_insomnia</td>\n",
       "      <td>168605</td>\n",
       "      <td>378</td>\n",
       "      <td>PRIM1</td>\n",
       "      <td>ENSG00000198056</td>\n",
       "      <td>1200</td>\n",
       "      <td>0.231724</td>\n",
       "    </tr>\n",
       "    <tr>\n",
       "      <th>3342736</th>\n",
       "      <td>1200-Sleeplessness_insomnia</td>\n",
       "      <td>121300</td>\n",
       "      <td>563</td>\n",
       "      <td>ABCG8</td>\n",
       "      <td>ENSG00000143921</td>\n",
       "      <td>1200</td>\n",
       "      <td>0.136159</td>\n",
       "    </tr>\n",
       "    <tr>\n",
       "      <th>3342786</th>\n",
       "      <td>1200-Sleeplessness_insomnia</td>\n",
       "      <td>121300</td>\n",
       "      <td>563</td>\n",
       "      <td>THADA</td>\n",
       "      <td>ENSG00000115970</td>\n",
       "      <td>1200</td>\n",
       "      <td>0.100410</td>\n",
       "    </tr>\n",
       "    <tr>\n",
       "      <th>3444215</th>\n",
       "      <td>1200-Sleeplessness_insomnia</td>\n",
       "      <td>600072</td>\n",
       "      <td>331</td>\n",
       "      <td>MEIS1</td>\n",
       "      <td>ENSG00000143995</td>\n",
       "      <td>1200</td>\n",
       "      <td>0.000049</td>\n",
       "    </tr>\n",
       "  </tbody>\n",
       "</table>\n",
       "</div>"
      ],
      "text/plain": [
       "                               trait  pheno_mim phecode gene_name  \\\n",
       "319791   1200-Sleeplessness_insomnia     168605     378     IKZF4   \n",
       "319794   1200-Sleeplessness_insomnia     168605     378     PRIM1   \n",
       "3342736  1200-Sleeplessness_insomnia     121300     563     ABCG8   \n",
       "3342786  1200-Sleeplessness_insomnia     121300     563     THADA   \n",
       "3444215  1200-Sleeplessness_insomnia     600072     331     MEIS1   \n",
       "\n",
       "                 gene_id ukb_code  multixcan_pval  \n",
       "319791   ENSG00000123411     1200        0.000826  \n",
       "319794   ENSG00000198056     1200        0.231724  \n",
       "3342736  ENSG00000143921     1200        0.136159  \n",
       "3342786  ENSG00000115970     1200        0.100410  \n",
       "3444215  ENSG00000143995     1200        0.000049  "
      ]
     },
     "execution_count": 56,
     "metadata": {},
     "output_type": "execute_result"
    }
   ],
   "source": [
    "phewas_ukb_results.head()"
   ]
  },
  {
   "cell_type": "code",
   "execution_count": 57,
   "metadata": {},
   "outputs": [
    {
     "data": {
      "text/plain": [
       "count                    2202.0\n",
       "mean        0.20234246892891014\n",
       "std         0.28413966610318014\n",
       "min                      1e-320\n",
       "25%      1.4824595405000882e-06\n",
       "50%        0.027428990301668253\n",
       "75%          0.3435073855718861\n",
       "max          0.9982749103428394\n",
       "Name: multixcan_pval, dtype: object"
      ]
     },
     "execution_count": 57,
     "metadata": {},
     "output_type": "execute_result"
    }
   ],
   "source": [
    "phewas_ukb_results.multixcan_pval.describe().apply(str)"
   ]
  },
  {
   "cell_type": "code",
   "execution_count": 58,
   "metadata": {},
   "outputs": [
    {
     "data": {
      "text/plain": [
       "(48, 7)"
      ]
     },
     "execution_count": 58,
     "metadata": {},
     "output_type": "execute_result"
    }
   ],
   "source": [
    "phewas_ukb_results[phewas_ukb_results['trait'] == '1200-Sleeplessness_insomnia'].shape"
   ]
  },
  {
   "cell_type": "markdown",
   "metadata": {},
   "source": [
    "### Count"
   ]
  },
  {
   "cell_type": "code",
   "execution_count": 59,
   "metadata": {},
   "outputs": [
    {
     "data": {
      "text/plain": [
       "2202"
      ]
     },
     "metadata": {},
     "output_type": "display_data"
    }
   ],
   "source": [
    "total_phewas_catalog = phewas_ukb_results.shape[0]\n",
    "display(total_phewas_catalog)"
   ]
  },
  {
   "cell_type": "code",
   "execution_count": 60,
   "metadata": {},
   "outputs": [
    {
     "data": {
      "text/plain": [
       "1179"
      ]
     },
     "metadata": {},
     "output_type": "display_data"
    }
   ],
   "source": [
    "# 0.05\n",
    "hits = phewas_ukb_results[phewas_ukb_results['multixcan_pval'] < 0.05].shape[0]\n",
    "display(hits)"
   ]
  },
  {
   "cell_type": "code",
   "execution_count": 61,
   "metadata": {},
   "outputs": [
    {
     "data": {
      "text/plain": [
       "53.54223433242507"
      ]
     },
     "execution_count": 61,
     "metadata": {},
     "output_type": "execute_result"
    }
   ],
   "source": [
    "(hits / total_phewas_catalog) * 100.0"
   ]
  },
  {
   "cell_type": "code",
   "execution_count": 62,
   "metadata": {},
   "outputs": [
    {
     "data": {
      "text/plain": [
       "1005"
      ]
     },
     "metadata": {},
     "output_type": "display_data"
    }
   ],
   "source": [
    "# 0.01\n",
    "hits = phewas_ukb_results[phewas_ukb_results['multixcan_pval'] < 0.01].shape[0]\n",
    "display(hits)"
   ]
  },
  {
   "cell_type": "code",
   "execution_count": 63,
   "metadata": {},
   "outputs": [
    {
     "data": {
      "text/plain": [
       "45.64032697547684"
      ]
     },
     "execution_count": 63,
     "metadata": {},
     "output_type": "execute_result"
    }
   ],
   "source": [
    "(hits / total_phewas_catalog) * 100.0"
   ]
  },
  {
   "cell_type": "code",
   "execution_count": 64,
   "metadata": {},
   "outputs": [
    {
     "data": {
      "text/plain": [
       "2.270663033605813e-05"
      ]
     },
     "metadata": {},
     "output_type": "display_data"
    }
   ],
   "source": [
    "SIGNIFICANT_PVALUE = 0.05 / total_phewas_catalog\n",
    "display(SIGNIFICANT_PVALUE)"
   ]
  },
  {
   "cell_type": "code",
   "execution_count": 65,
   "metadata": {},
   "outputs": [
    {
     "data": {
      "text/plain": [
       "664"
      ]
     },
     "metadata": {},
     "output_type": "display_data"
    }
   ],
   "source": [
    "# pvalue threshold\n",
    "hits = phewas_ukb_results[phewas_ukb_results['multixcan_pval'] < SIGNIFICANT_PVALUE].shape[0]\n",
    "display(hits)"
   ]
  },
  {
   "cell_type": "code",
   "execution_count": 66,
   "metadata": {},
   "outputs": [
    {
     "data": {
      "text/plain": [
       "30.154405086285195"
      ]
     },
     "execution_count": 66,
     "metadata": {},
     "output_type": "execute_result"
    }
   ],
   "source": [
    "(hits / total_phewas_catalog) * 100.0"
   ]
  },
  {
   "cell_type": "code",
   "execution_count": null,
   "metadata": {},
   "outputs": [],
   "source": []
  }
 ],
 "metadata": {
  "kernelspec": {
   "display_name": "Python 3",
   "language": "python",
   "name": "python3"
  },
  "language_info": {
   "codemirror_mode": {
    "name": "ipython",
    "version": 3
   },
   "file_extension": ".py",
   "mimetype": "text/x-python",
   "name": "python",
   "nbconvert_exporter": "python",
   "pygments_lexer": "ipython3",
   "version": "3.7.5"
  }
 },
 "nbformat": 4,
 "nbformat_minor": 4
}
