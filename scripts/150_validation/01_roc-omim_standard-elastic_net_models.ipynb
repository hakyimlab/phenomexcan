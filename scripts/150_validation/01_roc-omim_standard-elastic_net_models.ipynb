{
 "cells": [
  {
   "cell_type": "code",
   "execution_count": 1,
   "metadata": {},
   "outputs": [],
   "source": [
    "%load_ext autoreload\n",
    "%autoreload 2"
   ]
  },
  {
   "cell_type": "code",
   "execution_count": 2,
   "metadata": {},
   "outputs": [],
   "source": [
    "import os\n",
    "import pickle\n",
    "\n",
    "import numpy as np\n",
    "import pandas as pd\n",
    "\n",
    "import utils.constants as constants"
   ]
  },
  {
   "cell_type": "code",
   "execution_count": 3,
   "metadata": {},
   "outputs": [],
   "source": [
    "genes_associations_dir = os.path.join(constants.PREPROCESSED_BASED_DIR, 'gene_associations')\n",
    "smultixcan_gene_association_dirs = os.path.join(genes_associations_dir, 'en_not_fixed')\n",
    "\n",
    "output_dir = os.path.join(constants.RESULTS_DIR, 'roc_validation', 'classifier_tables')\n",
    "os.makedirs(output_dir, exist_ok=True)"
   ]
  },
  {
   "cell_type": "markdown",
   "metadata": {},
   "source": [
    "# Load all S-PrediXcan gene mappings"
   ]
  },
  {
   "cell_type": "code",
   "execution_count": 4,
   "metadata": {},
   "outputs": [],
   "source": [
    "with open(os.path.join(constants.PREPROCESSED_METADATA_DIR, 'genes_mapping_simplified-0.pkl'), 'rb') as f:\n",
    "    genes_mapping_0 = pickle.load(f)\n",
    "\n",
    "with open(os.path.join(constants.PREPROCESSED_METADATA_DIR, 'genes_mapping_simplified-1.pkl'), 'rb') as f:\n",
    "    genes_mapping_1 = pickle.load(f)"
   ]
  },
  {
   "cell_type": "markdown",
   "metadata": {},
   "source": [
    "# Load S-PrediXcan results"
   ]
  },
  {
   "cell_type": "code",
   "execution_count": 5,
   "metadata": {},
   "outputs": [
    {
     "data": {
      "text/plain": [
       "'/mnt/phenomexcan/results/preprocessed_data/gene_associations/en_not_fixed/smultixcan-genes_associations-zscores.pkl.xz'"
      ]
     },
     "metadata": {},
     "output_type": "display_data"
    }
   ],
   "source": [
    "spredixcan_genes_associations_filename = os.path.join(smultixcan_gene_association_dirs, 'smultixcan-genes_associations-zscores.pkl.xz')\n",
    "display(spredixcan_genes_associations_filename)\n",
    "\n",
    "spredixcan_genes_associations = pd.read_pickle(spredixcan_genes_associations_filename)"
   ]
  },
  {
   "cell_type": "code",
   "execution_count": 6,
   "metadata": {},
   "outputs": [
    {
     "data": {
      "text/plain": [
       "(19910, 4077)"
      ]
     },
     "execution_count": 6,
     "metadata": {},
     "output_type": "execute_result"
    }
   ],
   "source": [
    "spredixcan_genes_associations.shape"
   ]
  },
  {
   "cell_type": "code",
   "execution_count": 7,
   "metadata": {},
   "outputs": [
    {
     "data": {
      "text/html": [
       "<div>\n",
       "<style scoped>\n",
       "    .dataframe tbody tr th:only-of-type {\n",
       "        vertical-align: middle;\n",
       "    }\n",
       "\n",
       "    .dataframe tbody tr th {\n",
       "        vertical-align: top;\n",
       "    }\n",
       "\n",
       "    .dataframe thead th {\n",
       "        text-align: right;\n",
       "    }\n",
       "</style>\n",
       "<table border=\"1\" class=\"dataframe\">\n",
       "  <thead>\n",
       "    <tr style=\"text-align: right;\">\n",
       "      <th></th>\n",
       "      <th>20003_1141171932-Treatmentmedication_code_levetiracetam</th>\n",
       "      <th>F99-Diagnoses_main_ICD10_F99_Mental_disorder_not_otherwise_specified</th>\n",
       "      <th>4674-Private_healthcare</th>\n",
       "      <th>100670-White_wine_intake</th>\n",
       "      <th>6150_2-Vascularheart_problems_diagnosed_by_doctor_Angina</th>\n",
       "      <th>D23-Diagnoses_main_ICD10_D23_Other_benign_neoplasms_of_skin</th>\n",
       "      <th>20003_1140861090-Treatmentmedication_code_adalat_5mg_capsule</th>\n",
       "      <th>20003_99999-Treatmentmedication_code_Freetext_entry_unable_to_be_coded</th>\n",
       "      <th>20003_1140865872-Treatmentmedication_code_magnesium_citrate</th>\n",
       "      <th>22601_81172834-Job_coding_metal_making_or_metal_treating_process_worker_machine_operator_furnaceman</th>\n",
       "      <th>...</th>\n",
       "      <th>22617_3433-Job_SOC_coding_Public_relations_officers</th>\n",
       "      <th>6070_1-OCT_measured_right_Measurable</th>\n",
       "      <th>I9_IHD-Ischaemic_heart_disease_wide_definition</th>\n",
       "      <th>I9_ARTEMBTHR-Arterial_embolism_and_thrombosis</th>\n",
       "      <th>K25-Diagnoses_main_ICD10_K25_Gastric_ulcer</th>\n",
       "      <th>20110_8-Illnesses_of_mother_High_blood_pressure</th>\n",
       "      <th>M13_LATERALEPICOND-Lateral_epicondylitis</th>\n",
       "      <th>DM_RETINOPAT_NOS-Unclassified_diabetic_retinopathy</th>\n",
       "      <th>20003_1141189094-Treatmentmedication_code_avandamet_1mg_500mg_tablet</th>\n",
       "      <th>20118_5-Home_area_population_density_urban_or_rural_EnglandWales_Urban_less_sparse</th>\n",
       "    </tr>\n",
       "    <tr>\n",
       "      <th>gene_name</th>\n",
       "      <th></th>\n",
       "      <th></th>\n",
       "      <th></th>\n",
       "      <th></th>\n",
       "      <th></th>\n",
       "      <th></th>\n",
       "      <th></th>\n",
       "      <th></th>\n",
       "      <th></th>\n",
       "      <th></th>\n",
       "      <th></th>\n",
       "      <th></th>\n",
       "      <th></th>\n",
       "      <th></th>\n",
       "      <th></th>\n",
       "      <th></th>\n",
       "      <th></th>\n",
       "      <th></th>\n",
       "      <th></th>\n",
       "      <th></th>\n",
       "      <th></th>\n",
       "    </tr>\n",
       "  </thead>\n",
       "  <tbody>\n",
       "    <tr>\n",
       "      <th>ENSG00000000419</th>\n",
       "      <td>0.397276</td>\n",
       "      <td>0.604616</td>\n",
       "      <td>0.775742</td>\n",
       "      <td>1.436307</td>\n",
       "      <td>1.412375</td>\n",
       "      <td>1.600041</td>\n",
       "      <td>0.028202</td>\n",
       "      <td>0.067765</td>\n",
       "      <td>0.402450</td>\n",
       "      <td>0.131819</td>\n",
       "      <td>...</td>\n",
       "      <td>1.999547</td>\n",
       "      <td>1.127596</td>\n",
       "      <td>0.356930</td>\n",
       "      <td>0.824782</td>\n",
       "      <td>0.082111</td>\n",
       "      <td>0.836645</td>\n",
       "      <td>0.622258</td>\n",
       "      <td>2.076279</td>\n",
       "      <td>0.688793</td>\n",
       "      <td>2.087740</td>\n",
       "    </tr>\n",
       "    <tr>\n",
       "      <th>ENSG00000000457</th>\n",
       "      <td>0.319545</td>\n",
       "      <td>2.279867</td>\n",
       "      <td>0.110495</td>\n",
       "      <td>1.164098</td>\n",
       "      <td>0.505677</td>\n",
       "      <td>1.277273</td>\n",
       "      <td>0.410254</td>\n",
       "      <td>0.838215</td>\n",
       "      <td>0.092569</td>\n",
       "      <td>2.099556</td>\n",
       "      <td>...</td>\n",
       "      <td>0.392008</td>\n",
       "      <td>0.354665</td>\n",
       "      <td>0.665340</td>\n",
       "      <td>0.961071</td>\n",
       "      <td>0.679878</td>\n",
       "      <td>2.025639</td>\n",
       "      <td>0.745990</td>\n",
       "      <td>0.476264</td>\n",
       "      <td>0.362441</td>\n",
       "      <td>2.131233</td>\n",
       "    </tr>\n",
       "    <tr>\n",
       "      <th>ENSG00000000460</th>\n",
       "      <td>0.015547</td>\n",
       "      <td>2.091471</td>\n",
       "      <td>0.068122</td>\n",
       "      <td>2.869138</td>\n",
       "      <td>4.393092</td>\n",
       "      <td>0.159562</td>\n",
       "      <td>0.062802</td>\n",
       "      <td>0.342448</td>\n",
       "      <td>0.164821</td>\n",
       "      <td>1.794037</td>\n",
       "      <td>...</td>\n",
       "      <td>0.490251</td>\n",
       "      <td>0.420360</td>\n",
       "      <td>2.021611</td>\n",
       "      <td>0.051230</td>\n",
       "      <td>0.898618</td>\n",
       "      <td>1.938927</td>\n",
       "      <td>2.192165</td>\n",
       "      <td>0.802752</td>\n",
       "      <td>2.289388</td>\n",
       "      <td>3.226133</td>\n",
       "    </tr>\n",
       "    <tr>\n",
       "      <th>ENSG00000000938</th>\n",
       "      <td>0.096502</td>\n",
       "      <td>0.736958</td>\n",
       "      <td>2.556985</td>\n",
       "      <td>0.117943</td>\n",
       "      <td>3.601362</td>\n",
       "      <td>0.804478</td>\n",
       "      <td>0.280109</td>\n",
       "      <td>0.552019</td>\n",
       "      <td>0.242493</td>\n",
       "      <td>0.124827</td>\n",
       "      <td>...</td>\n",
       "      <td>0.297255</td>\n",
       "      <td>1.215982</td>\n",
       "      <td>4.066878</td>\n",
       "      <td>0.578105</td>\n",
       "      <td>1.536092</td>\n",
       "      <td>2.171540</td>\n",
       "      <td>0.032683</td>\n",
       "      <td>0.334689</td>\n",
       "      <td>0.245518</td>\n",
       "      <td>0.203841</td>\n",
       "    </tr>\n",
       "    <tr>\n",
       "      <th>ENSG00000001036</th>\n",
       "      <td>1.668204</td>\n",
       "      <td>0.038110</td>\n",
       "      <td>0.534008</td>\n",
       "      <td>0.136528</td>\n",
       "      <td>0.112277</td>\n",
       "      <td>0.330241</td>\n",
       "      <td>0.189969</td>\n",
       "      <td>0.335020</td>\n",
       "      <td>0.403565</td>\n",
       "      <td>0.771542</td>\n",
       "      <td>...</td>\n",
       "      <td>0.180306</td>\n",
       "      <td>2.395588</td>\n",
       "      <td>0.186540</td>\n",
       "      <td>0.790372</td>\n",
       "      <td>0.136059</td>\n",
       "      <td>2.470515</td>\n",
       "      <td>1.457462</td>\n",
       "      <td>0.151217</td>\n",
       "      <td>0.062060</td>\n",
       "      <td>0.666584</td>\n",
       "    </tr>\n",
       "  </tbody>\n",
       "</table>\n",
       "<p>5 rows × 4077 columns</p>\n",
       "</div>"
      ],
      "text/plain": [
       "                 20003_1141171932-Treatmentmedication_code_levetiracetam  \\\n",
       "gene_name                                                                  \n",
       "ENSG00000000419                                           0.397276         \n",
       "ENSG00000000457                                           0.319545         \n",
       "ENSG00000000460                                           0.015547         \n",
       "ENSG00000000938                                           0.096502         \n",
       "ENSG00000001036                                           1.668204         \n",
       "\n",
       "                 F99-Diagnoses_main_ICD10_F99_Mental_disorder_not_otherwise_specified  \\\n",
       "gene_name                                                                               \n",
       "ENSG00000000419                                           0.604616                      \n",
       "ENSG00000000457                                           2.279867                      \n",
       "ENSG00000000460                                           2.091471                      \n",
       "ENSG00000000938                                           0.736958                      \n",
       "ENSG00000001036                                           0.038110                      \n",
       "\n",
       "                 4674-Private_healthcare  100670-White_wine_intake  \\\n",
       "gene_name                                                            \n",
       "ENSG00000000419                 0.775742                  1.436307   \n",
       "ENSG00000000457                 0.110495                  1.164098   \n",
       "ENSG00000000460                 0.068122                  2.869138   \n",
       "ENSG00000000938                 2.556985                  0.117943   \n",
       "ENSG00000001036                 0.534008                  0.136528   \n",
       "\n",
       "                 6150_2-Vascularheart_problems_diagnosed_by_doctor_Angina  \\\n",
       "gene_name                                                                   \n",
       "ENSG00000000419                                           1.412375          \n",
       "ENSG00000000457                                           0.505677          \n",
       "ENSG00000000460                                           4.393092          \n",
       "ENSG00000000938                                           3.601362          \n",
       "ENSG00000001036                                           0.112277          \n",
       "\n",
       "                 D23-Diagnoses_main_ICD10_D23_Other_benign_neoplasms_of_skin  \\\n",
       "gene_name                                                                      \n",
       "ENSG00000000419                                           1.600041             \n",
       "ENSG00000000457                                           1.277273             \n",
       "ENSG00000000460                                           0.159562             \n",
       "ENSG00000000938                                           0.804478             \n",
       "ENSG00000001036                                           0.330241             \n",
       "\n",
       "                 20003_1140861090-Treatmentmedication_code_adalat_5mg_capsule  \\\n",
       "gene_name                                                                       \n",
       "ENSG00000000419                                           0.028202              \n",
       "ENSG00000000457                                           0.410254              \n",
       "ENSG00000000460                                           0.062802              \n",
       "ENSG00000000938                                           0.280109              \n",
       "ENSG00000001036                                           0.189969              \n",
       "\n",
       "                 20003_99999-Treatmentmedication_code_Freetext_entry_unable_to_be_coded  \\\n",
       "gene_name                                                                                 \n",
       "ENSG00000000419                                           0.067765                        \n",
       "ENSG00000000457                                           0.838215                        \n",
       "ENSG00000000460                                           0.342448                        \n",
       "ENSG00000000938                                           0.552019                        \n",
       "ENSG00000001036                                           0.335020                        \n",
       "\n",
       "                 20003_1140865872-Treatmentmedication_code_magnesium_citrate  \\\n",
       "gene_name                                                                      \n",
       "ENSG00000000419                                           0.402450             \n",
       "ENSG00000000457                                           0.092569             \n",
       "ENSG00000000460                                           0.164821             \n",
       "ENSG00000000938                                           0.242493             \n",
       "ENSG00000001036                                           0.403565             \n",
       "\n",
       "                 22601_81172834-Job_coding_metal_making_or_metal_treating_process_worker_machine_operator_furnaceman  \\\n",
       "gene_name                                                                                                              \n",
       "ENSG00000000419                                           0.131819                                                     \n",
       "ENSG00000000457                                           2.099556                                                     \n",
       "ENSG00000000460                                           1.794037                                                     \n",
       "ENSG00000000938                                           0.124827                                                     \n",
       "ENSG00000001036                                           0.771542                                                     \n",
       "\n",
       "                 ...  22617_3433-Job_SOC_coding_Public_relations_officers  \\\n",
       "gene_name        ...                                                        \n",
       "ENSG00000000419  ...                                           1.999547     \n",
       "ENSG00000000457  ...                                           0.392008     \n",
       "ENSG00000000460  ...                                           0.490251     \n",
       "ENSG00000000938  ...                                           0.297255     \n",
       "ENSG00000001036  ...                                           0.180306     \n",
       "\n",
       "                 6070_1-OCT_measured_right_Measurable  \\\n",
       "gene_name                                               \n",
       "ENSG00000000419                              1.127596   \n",
       "ENSG00000000457                              0.354665   \n",
       "ENSG00000000460                              0.420360   \n",
       "ENSG00000000938                              1.215982   \n",
       "ENSG00000001036                              2.395588   \n",
       "\n",
       "                 I9_IHD-Ischaemic_heart_disease_wide_definition  \\\n",
       "gene_name                                                         \n",
       "ENSG00000000419                                        0.356930   \n",
       "ENSG00000000457                                        0.665340   \n",
       "ENSG00000000460                                        2.021611   \n",
       "ENSG00000000938                                        4.066878   \n",
       "ENSG00000001036                                        0.186540   \n",
       "\n",
       "                 I9_ARTEMBTHR-Arterial_embolism_and_thrombosis  \\\n",
       "gene_name                                                        \n",
       "ENSG00000000419                                       0.824782   \n",
       "ENSG00000000457                                       0.961071   \n",
       "ENSG00000000460                                       0.051230   \n",
       "ENSG00000000938                                       0.578105   \n",
       "ENSG00000001036                                       0.790372   \n",
       "\n",
       "                 K25-Diagnoses_main_ICD10_K25_Gastric_ulcer  \\\n",
       "gene_name                                                     \n",
       "ENSG00000000419                                    0.082111   \n",
       "ENSG00000000457                                    0.679878   \n",
       "ENSG00000000460                                    0.898618   \n",
       "ENSG00000000938                                    1.536092   \n",
       "ENSG00000001036                                    0.136059   \n",
       "\n",
       "                 20110_8-Illnesses_of_mother_High_blood_pressure  \\\n",
       "gene_name                                                          \n",
       "ENSG00000000419                                         0.836645   \n",
       "ENSG00000000457                                         2.025639   \n",
       "ENSG00000000460                                         1.938927   \n",
       "ENSG00000000938                                         2.171540   \n",
       "ENSG00000001036                                         2.470515   \n",
       "\n",
       "                 M13_LATERALEPICOND-Lateral_epicondylitis  \\\n",
       "gene_name                                                   \n",
       "ENSG00000000419                                  0.622258   \n",
       "ENSG00000000457                                  0.745990   \n",
       "ENSG00000000460                                  2.192165   \n",
       "ENSG00000000938                                  0.032683   \n",
       "ENSG00000001036                                  1.457462   \n",
       "\n",
       "                 DM_RETINOPAT_NOS-Unclassified_diabetic_retinopathy  \\\n",
       "gene_name                                                             \n",
       "ENSG00000000419                                           2.076279    \n",
       "ENSG00000000457                                           0.476264    \n",
       "ENSG00000000460                                           0.802752    \n",
       "ENSG00000000938                                           0.334689    \n",
       "ENSG00000001036                                           0.151217    \n",
       "\n",
       "                 20003_1141189094-Treatmentmedication_code_avandamet_1mg_500mg_tablet  \\\n",
       "gene_name                                                                               \n",
       "ENSG00000000419                                           0.688793                      \n",
       "ENSG00000000457                                           0.362441                      \n",
       "ENSG00000000460                                           2.289388                      \n",
       "ENSG00000000938                                           0.245518                      \n",
       "ENSG00000001036                                           0.062060                      \n",
       "\n",
       "                 20118_5-Home_area_population_density_urban_or_rural_EnglandWales_Urban_less_sparse  \n",
       "gene_name                                                                                            \n",
       "ENSG00000000419                                           2.087740                                   \n",
       "ENSG00000000457                                           2.131233                                   \n",
       "ENSG00000000460                                           3.226133                                   \n",
       "ENSG00000000938                                           0.203841                                   \n",
       "ENSG00000001036                                           0.666584                                   \n",
       "\n",
       "[5 rows x 4077 columns]"
      ]
     },
     "execution_count": 7,
     "metadata": {},
     "output_type": "execute_result"
    }
   ],
   "source": [
    "spredixcan_genes_associations.head(5)"
   ]
  },
  {
   "cell_type": "code",
   "execution_count": 8,
   "metadata": {},
   "outputs": [
    {
     "data": {
      "text/plain": [
       "True"
      ]
     },
     "execution_count": 8,
     "metadata": {},
     "output_type": "execute_result"
    }
   ],
   "source": [
    "spredixcan_genes_associations.isin([np.inf, -np.inf]).any().any()"
   ]
  },
  {
   "cell_type": "code",
   "execution_count": 9,
   "metadata": {},
   "outputs": [],
   "source": [
    "#min_pvals = pd.Series(spredixcan_genes_associations.values.flatten())\n",
    "max_zscores = pd.Series(spredixcan_genes_associations.values.flatten())"
   ]
  },
  {
   "cell_type": "code",
   "execution_count": 10,
   "metadata": {},
   "outputs": [],
   "source": [
    "_tmp = max_zscores.sort_values(ascending=False)"
   ]
  },
  {
   "cell_type": "code",
   "execution_count": 11,
   "metadata": {},
   "outputs": [
    {
     "data": {
      "text/plain": [
       "20904547    37.691094\n",
       "68870300    37.681572\n",
       "61904608    37.601920\n",
       "61616379    37.587317\n",
       "59310196    37.577470\n",
       "dtype: float64"
      ]
     },
     "metadata": {},
     "output_type": "display_data"
    }
   ],
   "source": [
    "display(_tmp[~np.isinf(_tmp)].head())"
   ]
  },
  {
   "cell_type": "code",
   "execution_count": 12,
   "metadata": {},
   "outputs": [],
   "source": [
    "# replace inf\n",
    "spredixcan_genes_associations = spredixcan_genes_associations.replace(np.inf, 40)\n",
    "\n",
    "assert not spredixcan_genes_associations.isin([np.inf, -np.inf]).any().any()"
   ]
  },
  {
   "cell_type": "markdown",
   "metadata": {},
   "source": [
    "# Load OMIM silver standard"
   ]
  },
  {
   "cell_type": "code",
   "execution_count": 13,
   "metadata": {},
   "outputs": [],
   "source": [
    "omim_silver_standard = pd.read_csv(os.path.join(constants.DATA_DIR, 'omim_silver_standard.tsv'), sep='\\t')"
   ]
  },
  {
   "cell_type": "code",
   "execution_count": 14,
   "metadata": {},
   "outputs": [],
   "source": [
    "omim_silver_standard = omim_silver_standard.dropna(subset=['ensembl_gene_id', 'trait', 'pheno_mim'])"
   ]
  },
  {
   "cell_type": "code",
   "execution_count": 15,
   "metadata": {},
   "outputs": [
    {
     "data": {
      "text/plain": [
       "(7809, 7)"
      ]
     },
     "metadata": {},
     "output_type": "display_data"
    },
    {
     "data": {
      "text/html": [
       "<div>\n",
       "<style scoped>\n",
       "    .dataframe tbody tr th:only-of-type {\n",
       "        vertical-align: middle;\n",
       "    }\n",
       "\n",
       "    .dataframe tbody tr th {\n",
       "        vertical-align: top;\n",
       "    }\n",
       "\n",
       "    .dataframe thead th {\n",
       "        text-align: right;\n",
       "    }\n",
       "</style>\n",
       "<table border=\"1\" class=\"dataframe\">\n",
       "  <thead>\n",
       "    <tr style=\"text-align: right;\">\n",
       "      <th></th>\n",
       "      <th>trait</th>\n",
       "      <th>pheno_mim</th>\n",
       "      <th>mim</th>\n",
       "      <th>entry_type</th>\n",
       "      <th>entrez_gene_id</th>\n",
       "      <th>approved_gene_symbol</th>\n",
       "      <th>ensembl_gene_id</th>\n",
       "    </tr>\n",
       "  </thead>\n",
       "  <tbody>\n",
       "    <tr>\n",
       "      <th>0</th>\n",
       "      <td>M41-Diagnoses_main_ICD10_M41_Scoliosis</td>\n",
       "      <td>101800</td>\n",
       "      <td>188830</td>\n",
       "      <td>gene</td>\n",
       "      <td>5573</td>\n",
       "      <td>PRKAR1A</td>\n",
       "      <td>ENSG00000108946</td>\n",
       "    </tr>\n",
       "    <tr>\n",
       "      <th>1</th>\n",
       "      <td>M41-Diagnoses_main_ICD10_M41_Scoliosis</td>\n",
       "      <td>102500</td>\n",
       "      <td>600275</td>\n",
       "      <td>gene</td>\n",
       "      <td>4853</td>\n",
       "      <td>NOTCH2</td>\n",
       "      <td>ENSG00000134250</td>\n",
       "    </tr>\n",
       "    <tr>\n",
       "      <th>2</th>\n",
       "      <td>M41-Diagnoses_main_ICD10_M41_Scoliosis</td>\n",
       "      <td>105830</td>\n",
       "      <td>601623</td>\n",
       "      <td>gene</td>\n",
       "      <td>7337</td>\n",
       "      <td>UBE3A</td>\n",
       "      <td>ENSG00000114062</td>\n",
       "    </tr>\n",
       "    <tr>\n",
       "      <th>3</th>\n",
       "      <td>M41-Diagnoses_main_ICD10_M41_Scoliosis</td>\n",
       "      <td>108120</td>\n",
       "      <td>190990</td>\n",
       "      <td>gene</td>\n",
       "      <td>7169</td>\n",
       "      <td>TPM2</td>\n",
       "      <td>ENSG00000198467</td>\n",
       "    </tr>\n",
       "    <tr>\n",
       "      <th>4</th>\n",
       "      <td>M41-Diagnoses_main_ICD10_M41_Scoliosis</td>\n",
       "      <td>108145</td>\n",
       "      <td>613629</td>\n",
       "      <td>gene</td>\n",
       "      <td>63895</td>\n",
       "      <td>PIEZO2</td>\n",
       "      <td>ENSG00000154864</td>\n",
       "    </tr>\n",
       "  </tbody>\n",
       "</table>\n",
       "</div>"
      ],
      "text/plain": [
       "                                    trait  pheno_mim     mim entry_type  \\\n",
       "0  M41-Diagnoses_main_ICD10_M41_Scoliosis     101800  188830       gene   \n",
       "1  M41-Diagnoses_main_ICD10_M41_Scoliosis     102500  600275       gene   \n",
       "2  M41-Diagnoses_main_ICD10_M41_Scoliosis     105830  601623       gene   \n",
       "3  M41-Diagnoses_main_ICD10_M41_Scoliosis     108120  190990       gene   \n",
       "4  M41-Diagnoses_main_ICD10_M41_Scoliosis     108145  613629       gene   \n",
       "\n",
       "   entrez_gene_id approved_gene_symbol  ensembl_gene_id  \n",
       "0            5573              PRKAR1A  ENSG00000108946  \n",
       "1            4853               NOTCH2  ENSG00000134250  \n",
       "2            7337                UBE3A  ENSG00000114062  \n",
       "3            7169                 TPM2  ENSG00000198467  \n",
       "4           63895               PIEZO2  ENSG00000154864  "
      ]
     },
     "metadata": {},
     "output_type": "display_data"
    }
   ],
   "source": [
    "display(omim_silver_standard.shape)\n",
    "display(omim_silver_standard.head())"
   ]
  },
  {
   "cell_type": "markdown",
   "metadata": {},
   "source": [
    "### Save list of mapped UK Biobank traits"
   ]
  },
  {
   "cell_type": "code",
   "execution_count": 16,
   "metadata": {},
   "outputs": [],
   "source": [
    "from clustering.biclustering.analysis import Trait"
   ]
  },
  {
   "cell_type": "code",
   "execution_count": 17,
   "metadata": {},
   "outputs": [
    {
     "data": {
      "text/plain": [
       "0               M41-Diagnoses_main_ICD10_M41_Scoliosis\n",
       "1            H80-Diagnoses_main_ICD10_H80_Otosclerosis\n",
       "2    20002_1226-Noncancer_illness_code_selfreported...\n",
       "3    I25-Diagnoses_main_ICD10_I25_Chronic_ischaemic...\n",
       "4    20002_1136-Noncancer_illness_code_selfreported...\n",
       "dtype: object"
      ]
     },
     "metadata": {},
     "output_type": "display_data"
    }
   ],
   "source": [
    "ukb_traits_mapped = pd.Series(omim_silver_standard['trait'].unique())\n",
    "display(ukb_traits_mapped.head())"
   ]
  },
  {
   "cell_type": "code",
   "execution_count": 18,
   "metadata": {},
   "outputs": [
    {
     "data": {
      "text/plain": [
       "(107,)"
      ]
     },
     "execution_count": 18,
     "metadata": {},
     "output_type": "execute_result"
    }
   ],
   "source": [
    "ukb_traits_mapped.shape"
   ]
  },
  {
   "cell_type": "code",
   "execution_count": 19,
   "metadata": {},
   "outputs": [],
   "source": [
    "ukb_codes_mapped = [Trait(t).trait_code for t in ukb_traits_mapped]"
   ]
  },
  {
   "cell_type": "code",
   "execution_count": 20,
   "metadata": {},
   "outputs": [
    {
     "data": {
      "text/plain": [
       "107"
      ]
     },
     "execution_count": 20,
     "metadata": {},
     "output_type": "execute_result"
    }
   ],
   "source": [
    "len(ukb_codes_mapped)"
   ]
  },
  {
   "cell_type": "code",
   "execution_count": 21,
   "metadata": {},
   "outputs": [
    {
     "data": {
      "text/plain": [
       "['M41', 'H80', '20002_1226', 'I25', '20002_1136']"
      ]
     },
     "execution_count": 21,
     "metadata": {},
     "output_type": "execute_result"
    }
   ],
   "source": [
    "ukb_codes_mapped[:5]"
   ]
  },
  {
   "cell_type": "code",
   "execution_count": 22,
   "metadata": {},
   "outputs": [],
   "source": [
    "# This is needed to run gwas2gene (Yanyu's scripts)\n",
    "pd.Series(ukb_codes_mapped).to_csv('/mnt/tmp/selected_ukb_traits_omim.txt', index=False, header=False)"
   ]
  },
  {
   "cell_type": "markdown",
   "metadata": {},
   "source": [
    "# Read gwas2gene (Yanyu) results"
   ]
  },
  {
   "cell_type": "code",
   "execution_count": 23,
   "metadata": {},
   "outputs": [],
   "source": [
    "from glob import glob\n",
    "\n",
    "import rpy2.robjects as robjects\n",
    "from rpy2.robjects import pandas2ri\n",
    "pandas2ri.activate()"
   ]
  },
  {
   "cell_type": "code",
   "execution_count": 24,
   "metadata": {},
   "outputs": [],
   "source": [
    "gwas2gene_results_dir = '/mnt/phenomexcan/results/roc_validation/ukb_gwas2gene_results_omim_silver_standard/'"
   ]
  },
  {
   "cell_type": "code",
   "execution_count": 25,
   "metadata": {},
   "outputs": [],
   "source": [
    "readRDS = robjects.r['readRDS']"
   ]
  },
  {
   "cell_type": "code",
   "execution_count": 26,
   "metadata": {},
   "outputs": [
    {
     "data": {
      "text/plain": [
       "99"
      ]
     },
     "metadata": {},
     "output_type": "display_data"
    },
    {
     "name": "stdout",
     "output_type": "stream",
     "text": [
      "WARNING: some files are not there. 107 expected, 99 found.\n"
     ]
    }
   ],
   "source": [
    "f_files = glob(os.path.join(gwas2gene_results_dir, '*.rds'))\n",
    "display(len(f_files))\n",
    "\n",
    "if len(f_files) != len(ukb_codes_mapped):\n",
    "    print(f'WARNING: some files are not there. {len(ukb_codes_mapped)} expected, {len(f_files)} found.')"
   ]
  },
  {
   "cell_type": "code",
   "execution_count": 27,
   "metadata": {},
   "outputs": [],
   "source": [
    "gwas2genes_results = {}\n",
    "\n",
    "for f in f_files:\n",
    "    f_base = os.path.basename(f)\n",
    "    f_code = f_base.split('.')[0]\n",
    "    \n",
    "    #print(f_base)\n",
    "    rds_contents = readRDS(f)\n",
    "    \n",
    "    if len(rds_contents[1]) > 0:\n",
    "        f_gene_list = list(rds_contents[1][0].iter_labels())\n",
    "    else:\n",
    "        print(f'{f_code}: empty')\n",
    "        f_gene_list = []\n",
    "    \n",
    "    gwas2genes_results[f_code] = spredixcan_genes_associations.index.intersection(set(f_gene_list))"
   ]
  },
  {
   "cell_type": "code",
   "execution_count": 28,
   "metadata": {},
   "outputs": [
    {
     "data": {
      "text/plain": [
       "18330"
      ]
     },
     "metadata": {},
     "output_type": "display_data"
    },
    {
     "data": {
      "text/plain": [
       "9058"
      ]
     },
     "metadata": {},
     "output_type": "display_data"
    }
   ],
   "source": [
    "gwas2gene_all_genes = []\n",
    "\n",
    "for k in gwas2genes_results.keys():\n",
    "    gwas2gene_all_genes.extend(gwas2genes_results[k])\n",
    "\n",
    "display(len(gwas2gene_all_genes))\n",
    "\n",
    "gwas2gene_all_genes = set(gwas2gene_all_genes)\n",
    "display(len(gwas2gene_all_genes))\n",
    "\n",
    "# gwas2gene_all_genes = spredixcan_genes_associations.index.intersection(gwas2gene_all_genes)\n",
    "# display(len(gwas2gene_all_genes))"
   ]
  },
  {
   "cell_type": "markdown",
   "metadata": {},
   "source": [
    "# Create list of UKB-OMIM traits"
   ]
  },
  {
   "cell_type": "code",
   "execution_count": 29,
   "metadata": {},
   "outputs": [
    {
     "data": {
      "text/html": [
       "<div>\n",
       "<style scoped>\n",
       "    .dataframe tbody tr th:only-of-type {\n",
       "        vertical-align: middle;\n",
       "    }\n",
       "\n",
       "    .dataframe tbody tr th {\n",
       "        vertical-align: top;\n",
       "    }\n",
       "\n",
       "    .dataframe thead th {\n",
       "        text-align: right;\n",
       "    }\n",
       "</style>\n",
       "<table border=\"1\" class=\"dataframe\">\n",
       "  <thead>\n",
       "    <tr style=\"text-align: right;\">\n",
       "      <th></th>\n",
       "      <th>trait</th>\n",
       "      <th>pheno_mim</th>\n",
       "      <th>mim</th>\n",
       "      <th>entry_type</th>\n",
       "      <th>entrez_gene_id</th>\n",
       "      <th>approved_gene_symbol</th>\n",
       "      <th>ensembl_gene_id</th>\n",
       "    </tr>\n",
       "  </thead>\n",
       "  <tbody>\n",
       "    <tr>\n",
       "      <th>0</th>\n",
       "      <td>M41-Diagnoses_main_ICD10_M41_Scoliosis</td>\n",
       "      <td>101800</td>\n",
       "      <td>188830</td>\n",
       "      <td>gene</td>\n",
       "      <td>5573</td>\n",
       "      <td>PRKAR1A</td>\n",
       "      <td>ENSG00000108946</td>\n",
       "    </tr>\n",
       "    <tr>\n",
       "      <th>1</th>\n",
       "      <td>M41-Diagnoses_main_ICD10_M41_Scoliosis</td>\n",
       "      <td>102500</td>\n",
       "      <td>600275</td>\n",
       "      <td>gene</td>\n",
       "      <td>4853</td>\n",
       "      <td>NOTCH2</td>\n",
       "      <td>ENSG00000134250</td>\n",
       "    </tr>\n",
       "    <tr>\n",
       "      <th>2</th>\n",
       "      <td>M41-Diagnoses_main_ICD10_M41_Scoliosis</td>\n",
       "      <td>105830</td>\n",
       "      <td>601623</td>\n",
       "      <td>gene</td>\n",
       "      <td>7337</td>\n",
       "      <td>UBE3A</td>\n",
       "      <td>ENSG00000114062</td>\n",
       "    </tr>\n",
       "    <tr>\n",
       "      <th>3</th>\n",
       "      <td>M41-Diagnoses_main_ICD10_M41_Scoliosis</td>\n",
       "      <td>108120</td>\n",
       "      <td>190990</td>\n",
       "      <td>gene</td>\n",
       "      <td>7169</td>\n",
       "      <td>TPM2</td>\n",
       "      <td>ENSG00000198467</td>\n",
       "    </tr>\n",
       "    <tr>\n",
       "      <th>4</th>\n",
       "      <td>M41-Diagnoses_main_ICD10_M41_Scoliosis</td>\n",
       "      <td>108145</td>\n",
       "      <td>613629</td>\n",
       "      <td>gene</td>\n",
       "      <td>63895</td>\n",
       "      <td>PIEZO2</td>\n",
       "      <td>ENSG00000154864</td>\n",
       "    </tr>\n",
       "  </tbody>\n",
       "</table>\n",
       "</div>"
      ],
      "text/plain": [
       "                                    trait  pheno_mim     mim entry_type  \\\n",
       "0  M41-Diagnoses_main_ICD10_M41_Scoliosis     101800  188830       gene   \n",
       "1  M41-Diagnoses_main_ICD10_M41_Scoliosis     102500  600275       gene   \n",
       "2  M41-Diagnoses_main_ICD10_M41_Scoliosis     105830  601623       gene   \n",
       "3  M41-Diagnoses_main_ICD10_M41_Scoliosis     108120  190990       gene   \n",
       "4  M41-Diagnoses_main_ICD10_M41_Scoliosis     108145  613629       gene   \n",
       "\n",
       "   entrez_gene_id approved_gene_symbol  ensembl_gene_id  \n",
       "0            5573              PRKAR1A  ENSG00000108946  \n",
       "1            4853               NOTCH2  ENSG00000134250  \n",
       "2            7337                UBE3A  ENSG00000114062  \n",
       "3            7169                 TPM2  ENSG00000198467  \n",
       "4           63895               PIEZO2  ENSG00000154864  "
      ]
     },
     "execution_count": 29,
     "metadata": {},
     "output_type": "execute_result"
    }
   ],
   "source": [
    "omim_silver_standard.head()"
   ]
  },
  {
   "cell_type": "markdown",
   "metadata": {},
   "source": [
    "# Create PrediXcan classifier table"
   ]
  },
  {
   "cell_type": "code",
   "execution_count": 30,
   "metadata": {},
   "outputs": [],
   "source": [
    "_tmp = omim_silver_standard[['trait', 'ensembl_gene_id']]\n",
    "ukb_traits_common = _tmp['trait'].unique()\n",
    "\n",
    "omim_true_classes = _tmp[['trait', 'ensembl_gene_id']].drop_duplicates()\n",
    "omim_true_classes = omim_true_classes.assign(omim_value=1)\n",
    "omim_true_classes = omim_true_classes.set_index(['trait', 'ensembl_gene_id'])"
   ]
  },
  {
   "cell_type": "code",
   "execution_count": 31,
   "metadata": {},
   "outputs": [
    {
     "data": {
      "text/plain": [
       "107"
      ]
     },
     "execution_count": 31,
     "metadata": {},
     "output_type": "execute_result"
    }
   ],
   "source": [
    "len(ukb_traits_common)"
   ]
  },
  {
   "cell_type": "code",
   "execution_count": 32,
   "metadata": {},
   "outputs": [
    {
     "data": {
      "text/plain": [
       "(7046, 1)"
      ]
     },
     "execution_count": 32,
     "metadata": {},
     "output_type": "execute_result"
    }
   ],
   "source": [
    "omim_true_classes.shape"
   ]
  },
  {
   "cell_type": "code",
   "execution_count": 33,
   "metadata": {},
   "outputs": [
    {
     "data": {
      "text/html": [
       "<div>\n",
       "<style scoped>\n",
       "    .dataframe tbody tr th:only-of-type {\n",
       "        vertical-align: middle;\n",
       "    }\n",
       "\n",
       "    .dataframe tbody tr th {\n",
       "        vertical-align: top;\n",
       "    }\n",
       "\n",
       "    .dataframe thead th {\n",
       "        text-align: right;\n",
       "    }\n",
       "</style>\n",
       "<table border=\"1\" class=\"dataframe\">\n",
       "  <thead>\n",
       "    <tr style=\"text-align: right;\">\n",
       "      <th></th>\n",
       "      <th></th>\n",
       "      <th>omim_value</th>\n",
       "    </tr>\n",
       "    <tr>\n",
       "      <th>trait</th>\n",
       "      <th>ensembl_gene_id</th>\n",
       "      <th></th>\n",
       "    </tr>\n",
       "  </thead>\n",
       "  <tbody>\n",
       "    <tr>\n",
       "      <th rowspan=\"5\" valign=\"top\">M41-Diagnoses_main_ICD10_M41_Scoliosis</th>\n",
       "      <th>ENSG00000108946</th>\n",
       "      <td>1</td>\n",
       "    </tr>\n",
       "    <tr>\n",
       "      <th>ENSG00000134250</th>\n",
       "      <td>1</td>\n",
       "    </tr>\n",
       "    <tr>\n",
       "      <th>ENSG00000114062</th>\n",
       "      <td>1</td>\n",
       "    </tr>\n",
       "    <tr>\n",
       "      <th>ENSG00000198467</th>\n",
       "      <td>1</td>\n",
       "    </tr>\n",
       "    <tr>\n",
       "      <th>ENSG00000154864</th>\n",
       "      <td>1</td>\n",
       "    </tr>\n",
       "  </tbody>\n",
       "</table>\n",
       "</div>"
      ],
      "text/plain": [
       "                                                        omim_value\n",
       "trait                                  ensembl_gene_id            \n",
       "M41-Diagnoses_main_ICD10_M41_Scoliosis ENSG00000108946           1\n",
       "                                       ENSG00000134250           1\n",
       "                                       ENSG00000114062           1\n",
       "                                       ENSG00000198467           1\n",
       "                                       ENSG00000154864           1"
      ]
     },
     "execution_count": 33,
     "metadata": {},
     "output_type": "execute_result"
    }
   ],
   "source": [
    "omim_true_classes.head()"
   ]
  },
  {
   "cell_type": "code",
   "execution_count": 34,
   "metadata": {},
   "outputs": [
    {
     "data": {
      "text/plain": [
       "107"
      ]
     },
     "execution_count": 34,
     "metadata": {},
     "output_type": "execute_result"
    }
   ],
   "source": [
    "len(ukb_traits_common)"
   ]
  },
  {
   "cell_type": "code",
   "execution_count": 35,
   "metadata": {},
   "outputs": [],
   "source": [
    "index_tuples = []\n",
    "\n",
    "for t in ukb_traits_common:\n",
    "    t_code = Trait(t).trait_code\n",
    "    if t_code not in gwas2genes_results:\n",
    "        continue\n",
    "    \n",
    "    for g in gwas2genes_results[t_code]:\n",
    "        index_tuples.append((t, g))"
   ]
  },
  {
   "cell_type": "code",
   "execution_count": 36,
   "metadata": {},
   "outputs": [
    {
     "data": {
      "text/plain": [
       "18330"
      ]
     },
     "execution_count": 36,
     "metadata": {},
     "output_type": "execute_result"
    }
   ],
   "source": [
    "len(index_tuples)"
   ]
  },
  {
   "cell_type": "code",
   "execution_count": 37,
   "metadata": {},
   "outputs": [
    {
     "data": {
      "text/plain": [
       "[('M41-Diagnoses_main_ICD10_M41_Scoliosis', 'ENSG00000075336'),\n",
       " ('M41-Diagnoses_main_ICD10_M41_Scoliosis', 'ENSG00000078401'),\n",
       " ('M41-Diagnoses_main_ICD10_M41_Scoliosis', 'ENSG00000090263'),\n",
       " ('M41-Diagnoses_main_ICD10_M41_Scoliosis', 'ENSG00000090266'),\n",
       " ('M41-Diagnoses_main_ICD10_M41_Scoliosis', 'ENSG00000095951')]"
      ]
     },
     "execution_count": 37,
     "metadata": {},
     "output_type": "execute_result"
    }
   ],
   "source": [
    "index_tuples[:5]"
   ]
  },
  {
   "cell_type": "code",
   "execution_count": 38,
   "metadata": {},
   "outputs": [],
   "source": [
    "classifier_index = pd.MultiIndex.from_tuples(\n",
    "    index_tuples,\n",
    "    names=['ukb_efo', 'gene']\n",
    ")"
   ]
  },
  {
   "cell_type": "code",
   "execution_count": 39,
   "metadata": {},
   "outputs": [
    {
     "data": {
      "text/plain": [
       "9058"
      ]
     },
     "execution_count": 39,
     "metadata": {},
     "output_type": "execute_result"
    }
   ],
   "source": [
    "len(gwas2gene_all_genes)"
   ]
  },
  {
   "cell_type": "code",
   "execution_count": 40,
   "metadata": {},
   "outputs": [
    {
     "data": {
      "text/plain": [
       "(18330,)"
      ]
     },
     "execution_count": 40,
     "metadata": {},
     "output_type": "execute_result"
    }
   ],
   "source": [
    "classifier_index.shape"
   ]
  },
  {
   "cell_type": "code",
   "execution_count": 41,
   "metadata": {},
   "outputs": [],
   "source": [
    "predixcan_classifier_df = pd.DataFrame(index=classifier_index, columns=['score', 'predicted_class', 'true_class'])"
   ]
  },
  {
   "cell_type": "code",
   "execution_count": 42,
   "metadata": {},
   "outputs": [],
   "source": [
    "predixcan_classifier_df = predixcan_classifier_df.sort_index()"
   ]
  },
  {
   "cell_type": "code",
   "execution_count": 43,
   "metadata": {},
   "outputs": [
    {
     "data": {
      "text/plain": [
       "(18330, 3)"
      ]
     },
     "execution_count": 43,
     "metadata": {},
     "output_type": "execute_result"
    }
   ],
   "source": [
    "predixcan_classifier_df.shape"
   ]
  },
  {
   "cell_type": "code",
   "execution_count": 44,
   "metadata": {},
   "outputs": [],
   "source": [
    "predixcan_classifier_df['true_class'] = 0"
   ]
  },
  {
   "cell_type": "code",
   "execution_count": 45,
   "metadata": {},
   "outputs": [
    {
     "data": {
      "text/html": [
       "<div>\n",
       "<style scoped>\n",
       "    .dataframe tbody tr th:only-of-type {\n",
       "        vertical-align: middle;\n",
       "    }\n",
       "\n",
       "    .dataframe tbody tr th {\n",
       "        vertical-align: top;\n",
       "    }\n",
       "\n",
       "    .dataframe thead th {\n",
       "        text-align: right;\n",
       "    }\n",
       "</style>\n",
       "<table border=\"1\" class=\"dataframe\">\n",
       "  <thead>\n",
       "    <tr style=\"text-align: right;\">\n",
       "      <th></th>\n",
       "      <th></th>\n",
       "      <th>score</th>\n",
       "      <th>predicted_class</th>\n",
       "      <th>true_class</th>\n",
       "    </tr>\n",
       "    <tr>\n",
       "      <th>ukb_efo</th>\n",
       "      <th>gene</th>\n",
       "      <th></th>\n",
       "      <th></th>\n",
       "      <th></th>\n",
       "    </tr>\n",
       "  </thead>\n",
       "  <tbody>\n",
       "    <tr>\n",
       "      <th rowspan=\"5\" valign=\"top\">1200-Sleeplessness_insomnia</th>\n",
       "      <th>ENSG00000001617</th>\n",
       "      <td>NaN</td>\n",
       "      <td>NaN</td>\n",
       "      <td>0</td>\n",
       "    </tr>\n",
       "    <tr>\n",
       "      <th>ENSG00000003756</th>\n",
       "      <td>NaN</td>\n",
       "      <td>NaN</td>\n",
       "      <td>0</td>\n",
       "    </tr>\n",
       "    <tr>\n",
       "      <th>ENSG00000004534</th>\n",
       "      <td>NaN</td>\n",
       "      <td>NaN</td>\n",
       "      <td>0</td>\n",
       "    </tr>\n",
       "    <tr>\n",
       "      <th>ENSG00000004838</th>\n",
       "      <td>NaN</td>\n",
       "      <td>NaN</td>\n",
       "      <td>0</td>\n",
       "    </tr>\n",
       "    <tr>\n",
       "      <th>ENSG00000004897</th>\n",
       "      <td>NaN</td>\n",
       "      <td>NaN</td>\n",
       "      <td>0</td>\n",
       "    </tr>\n",
       "  </tbody>\n",
       "</table>\n",
       "</div>"
      ],
      "text/plain": [
       "                                            score predicted_class  true_class\n",
       "ukb_efo                     gene                                             \n",
       "1200-Sleeplessness_insomnia ENSG00000001617   NaN             NaN           0\n",
       "                            ENSG00000003756   NaN             NaN           0\n",
       "                            ENSG00000004534   NaN             NaN           0\n",
       "                            ENSG00000004838   NaN             NaN           0\n",
       "                            ENSG00000004897   NaN             NaN           0"
      ]
     },
     "execution_count": 45,
     "metadata": {},
     "output_type": "execute_result"
    }
   ],
   "source": [
    "predixcan_classifier_df.head()"
   ]
  },
  {
   "cell_type": "code",
   "execution_count": 46,
   "metadata": {},
   "outputs": [
    {
     "data": {
      "text/plain": [
       "(7046,)"
      ]
     },
     "metadata": {},
     "output_type": "display_data"
    },
    {
     "data": {
      "text/plain": [
       "trait                                   ensembl_gene_id\n",
       "M41-Diagnoses_main_ICD10_M41_Scoliosis  ENSG00000108946    1\n",
       "                                        ENSG00000134250    1\n",
       "                                        ENSG00000114062    1\n",
       "                                        ENSG00000198467    1\n",
       "                                        ENSG00000154864    1\n",
       "Name: omim_value, dtype: int64"
      ]
     },
     "metadata": {},
     "output_type": "display_data"
    }
   ],
   "source": [
    "true_classes = omim_true_classes.squeeze()\n",
    "display(true_classes.shape)\n",
    "display(true_classes.head())"
   ]
  },
  {
   "cell_type": "code",
   "execution_count": 47,
   "metadata": {},
   "outputs": [],
   "source": [
    "predixcan_classifier_df.loc[predixcan_classifier_df.index.intersection(true_classes.index), 'true_class'] = 1"
   ]
  },
  {
   "cell_type": "code",
   "execution_count": 48,
   "metadata": {},
   "outputs": [],
   "source": [
    "assert predixcan_classifier_df['true_class'].isna().sum() == 0"
   ]
  },
  {
   "cell_type": "code",
   "execution_count": 49,
   "metadata": {},
   "outputs": [
    {
     "data": {
      "text/plain": [
       "0    18208\n",
       "1      122\n",
       "Name: true_class, dtype: int64"
      ]
     },
     "execution_count": 49,
     "metadata": {},
     "output_type": "execute_result"
    }
   ],
   "source": [
    "predixcan_classifier_df['true_class'].value_counts()"
   ]
  },
  {
   "cell_type": "code",
   "execution_count": 50,
   "metadata": {},
   "outputs": [
    {
     "data": {
      "text/html": [
       "<div>\n",
       "<style scoped>\n",
       "    .dataframe tbody tr th:only-of-type {\n",
       "        vertical-align: middle;\n",
       "    }\n",
       "\n",
       "    .dataframe tbody tr th {\n",
       "        vertical-align: top;\n",
       "    }\n",
       "\n",
       "    .dataframe thead th {\n",
       "        text-align: right;\n",
       "    }\n",
       "</style>\n",
       "<table border=\"1\" class=\"dataframe\">\n",
       "  <thead>\n",
       "    <tr style=\"text-align: right;\">\n",
       "      <th></th>\n",
       "      <th>score</th>\n",
       "      <th>predicted_class</th>\n",
       "      <th>true_class</th>\n",
       "    </tr>\n",
       "    <tr>\n",
       "      <th>gene</th>\n",
       "      <th></th>\n",
       "      <th></th>\n",
       "      <th></th>\n",
       "    </tr>\n",
       "  </thead>\n",
       "  <tbody>\n",
       "    <tr>\n",
       "      <th>ENSG00000075336</th>\n",
       "      <td>NaN</td>\n",
       "      <td>NaN</td>\n",
       "      <td>0</td>\n",
       "    </tr>\n",
       "    <tr>\n",
       "      <th>ENSG00000078401</th>\n",
       "      <td>NaN</td>\n",
       "      <td>NaN</td>\n",
       "      <td>0</td>\n",
       "    </tr>\n",
       "    <tr>\n",
       "      <th>ENSG00000090263</th>\n",
       "      <td>NaN</td>\n",
       "      <td>NaN</td>\n",
       "      <td>0</td>\n",
       "    </tr>\n",
       "    <tr>\n",
       "      <th>ENSG00000090266</th>\n",
       "      <td>NaN</td>\n",
       "      <td>NaN</td>\n",
       "      <td>0</td>\n",
       "    </tr>\n",
       "    <tr>\n",
       "      <th>ENSG00000095951</th>\n",
       "      <td>NaN</td>\n",
       "      <td>NaN</td>\n",
       "      <td>0</td>\n",
       "    </tr>\n",
       "  </tbody>\n",
       "</table>\n",
       "</div>"
      ],
      "text/plain": [
       "                score predicted_class  true_class\n",
       "gene                                             \n",
       "ENSG00000075336   NaN             NaN           0\n",
       "ENSG00000078401   NaN             NaN           0\n",
       "ENSG00000090263   NaN             NaN           0\n",
       "ENSG00000090266   NaN             NaN           0\n",
       "ENSG00000095951   NaN             NaN           0"
      ]
     },
     "execution_count": 50,
     "metadata": {},
     "output_type": "execute_result"
    }
   ],
   "source": [
    "# some testing\n",
    "predixcan_classifier_df.loc[('M41-Diagnoses_main_ICD10_M41_Scoliosis',)].head()"
   ]
  },
  {
   "cell_type": "code",
   "execution_count": 51,
   "metadata": {},
   "outputs": [
    {
     "data": {
      "text/plain": [
       "1"
      ]
     },
     "execution_count": 51,
     "metadata": {},
     "output_type": "execute_result"
    }
   ],
   "source": [
    "true_classes.loc[('M41-Diagnoses_main_ICD10_M41_Scoliosis', 'ENSG00000112234')]"
   ]
  },
  {
   "cell_type": "code",
   "execution_count": 52,
   "metadata": {},
   "outputs": [
    {
     "data": {
      "text/plain": [
       "True"
      ]
     },
     "execution_count": 52,
     "metadata": {},
     "output_type": "execute_result"
    }
   ],
   "source": [
    "'ENSG00000090263' not in true_classes.loc['M41-Diagnoses_main_ICD10_M41_Scoliosis'].index"
   ]
  },
  {
   "cell_type": "code",
   "execution_count": 53,
   "metadata": {},
   "outputs": [],
   "source": [
    "assert predixcan_classifier_df.loc[('M41-Diagnoses_main_ICD10_M41_Scoliosis', 'ENSG00000112234'), 'true_class'] == 1.0\n",
    "assert predixcan_classifier_df.loc[('M41-Diagnoses_main_ICD10_M41_Scoliosis', 'ENSG00000090263'), 'true_class'] == 0.0"
   ]
  },
  {
   "cell_type": "code",
   "execution_count": 54,
   "metadata": {},
   "outputs": [
    {
     "data": {
      "text/plain": [
       "9058"
      ]
     },
     "execution_count": 54,
     "metadata": {},
     "output_type": "execute_result"
    }
   ],
   "source": [
    "len(gwas2gene_all_genes)"
   ]
  },
  {
   "cell_type": "code",
   "execution_count": 55,
   "metadata": {},
   "outputs": [
    {
     "name": "stdout",
     "output_type": "stream",
     "text": [
      "M13\n",
      "I95\n",
      "I71\n",
      "20002_1264\n",
      "20002_1081\n",
      "22130\n",
      "C80\n",
      "20002_1538\n"
     ]
    }
   ],
   "source": [
    "# score\n",
    "df_score = pd.Series(index=classifier_index)\n",
    "\n",
    "for trait in ukb_traits_common:\n",
    "    trait_code = Trait(trait).trait_code\n",
    "    if trait_code not in gwas2genes_results:\n",
    "        print(trait_code)\n",
    "        continue\n",
    "    trait_genes = gwas2genes_results[trait_code]\n",
    "    scores = spredixcan_genes_associations.loc[trait_genes, trait]\n",
    "    df_score.loc[trait] = scores.values"
   ]
  },
  {
   "cell_type": "code",
   "execution_count": 56,
   "metadata": {},
   "outputs": [],
   "source": [
    "# some testing\n",
    "df_score = df_score.dropna().sort_index()\n",
    "assert df_score.isna().sum().sum() == 0"
   ]
  },
  {
   "cell_type": "code",
   "execution_count": 57,
   "metadata": {},
   "outputs": [
    {
     "data": {
      "text/plain": [
       "ukb_efo                      gene           \n",
       "1200-Sleeplessness_insomnia  ENSG00000001617    5.467206\n",
       "                             ENSG00000003756    5.163661\n",
       "                             ENSG00000004534    5.500549\n",
       "                             ENSG00000004838    0.882240\n",
       "                             ENSG00000004897    0.150213\n",
       "dtype: float64"
      ]
     },
     "execution_count": 57,
     "metadata": {},
     "output_type": "execute_result"
    }
   ],
   "source": [
    "df_score.head()"
   ]
  },
  {
   "cell_type": "code",
   "execution_count": 58,
   "metadata": {},
   "outputs": [],
   "source": [
    "# some testing\n",
    "_gene, _trait = ('ENSG00000090263', 'M41-Diagnoses_main_ICD10_M41_Scoliosis')\n",
    "assert spredixcan_genes_associations.loc[_gene, _trait] == df_score.loc[_trait, _gene]"
   ]
  },
  {
   "cell_type": "code",
   "execution_count": 59,
   "metadata": {},
   "outputs": [],
   "source": [
    "_gene, _trait = ('ENSG00000070061', 'O14-Diagnoses_main_ICD10_O14_Gestational_pregnancyinduced_hypertension_with_significant_proteinuria')\n",
    "assert spredixcan_genes_associations.loc[_gene, _trait] == df_score.loc[_trait, _gene]"
   ]
  },
  {
   "cell_type": "code",
   "execution_count": 60,
   "metadata": {},
   "outputs": [
    {
     "data": {
      "text/plain": [
       "(18330,)"
      ]
     },
     "execution_count": 60,
     "metadata": {},
     "output_type": "execute_result"
    }
   ],
   "source": [
    "df_score.shape"
   ]
  },
  {
   "cell_type": "code",
   "execution_count": 61,
   "metadata": {},
   "outputs": [
    {
     "data": {
      "text/plain": [
       "ukb_efo                      gene           \n",
       "1200-Sleeplessness_insomnia  ENSG00000001617    5.467206\n",
       "                             ENSG00000003756    5.163661\n",
       "                             ENSG00000004534    5.500549\n",
       "                             ENSG00000004838    0.882240\n",
       "                             ENSG00000004897    0.150213\n",
       "dtype: float64"
      ]
     },
     "execution_count": 61,
     "metadata": {},
     "output_type": "execute_result"
    }
   ],
   "source": [
    "df_score.head()"
   ]
  },
  {
   "cell_type": "code",
   "execution_count": 62,
   "metadata": {},
   "outputs": [
    {
     "data": {
      "text/plain": [
       "3.747375629054999e-08"
      ]
     },
     "execution_count": 62,
     "metadata": {},
     "output_type": "execute_result"
    }
   ],
   "source": [
    "df_score.min()"
   ]
  },
  {
   "cell_type": "code",
   "execution_count": 63,
   "metadata": {},
   "outputs": [
    {
     "data": {
      "text/plain": [
       "40.0"
      ]
     },
     "execution_count": 63,
     "metadata": {},
     "output_type": "execute_result"
    }
   ],
   "source": [
    "df_score.max()"
   ]
  },
  {
   "cell_type": "code",
   "execution_count": 64,
   "metadata": {},
   "outputs": [],
   "source": [
    "predixcan_classifier_df = predixcan_classifier_df.assign(score=df_score)"
   ]
  },
  {
   "cell_type": "code",
   "execution_count": 65,
   "metadata": {},
   "outputs": [],
   "source": [
    "assert not predixcan_classifier_df['score'].isna().any()"
   ]
  },
  {
   "cell_type": "code",
   "execution_count": 66,
   "metadata": {},
   "outputs": [],
   "source": [
    "from scipy import stats"
   ]
  },
  {
   "cell_type": "code",
   "execution_count": 67,
   "metadata": {},
   "outputs": [
    {
     "data": {
      "text/plain": [
       "9058"
      ]
     },
     "metadata": {},
     "output_type": "display_data"
    },
    {
     "data": {
      "text/plain": [
       "107"
      ]
     },
     "metadata": {},
     "output_type": "display_data"
    },
    {
     "data": {
      "text/plain": [
       "969206"
      ]
     },
     "metadata": {},
     "output_type": "display_data"
    },
    {
     "data": {
      "text/plain": [
       "5.158861996314509e-08"
      ]
     },
     "metadata": {},
     "output_type": "display_data"
    },
    {
     "data": {
      "text/plain": [
       "5.445746310266604"
      ]
     },
     "metadata": {},
     "output_type": "display_data"
    }
   ],
   "source": [
    "_n_genes = len(gwas2gene_all_genes)\n",
    "display(_n_genes)\n",
    "\n",
    "_n_ukb_traits = len(ukb_traits_mapped)\n",
    "display(_n_ukb_traits)\n",
    "\n",
    "display(_n_genes * _n_ukb_traits)\n",
    "\n",
    "PVALUE_THRESHOLD = (0.05 / (_n_genes * _n_ukb_traits))\n",
    "display(PVALUE_THRESHOLD)\n",
    "\n",
    "ZSCORE_THRESHOLD = np.abs(stats.norm.ppf(PVALUE_THRESHOLD / 2))\n",
    "display(ZSCORE_THRESHOLD)"
   ]
  },
  {
   "cell_type": "code",
   "execution_count": 68,
   "metadata": {},
   "outputs": [],
   "source": [
    "predixcan_classifier_df = predixcan_classifier_df.assign(predicted_class=(predixcan_classifier_df['score'] > ZSCORE_THRESHOLD).astype(int))"
   ]
  },
  {
   "cell_type": "code",
   "execution_count": 69,
   "metadata": {},
   "outputs": [
    {
     "data": {
      "text/plain": [
       "(18330, 3)"
      ]
     },
     "execution_count": 69,
     "metadata": {},
     "output_type": "execute_result"
    }
   ],
   "source": [
    "predixcan_classifier_df.shape"
   ]
  },
  {
   "cell_type": "code",
   "execution_count": 70,
   "metadata": {},
   "outputs": [
    {
     "data": {
      "text/html": [
       "<div>\n",
       "<style scoped>\n",
       "    .dataframe tbody tr th:only-of-type {\n",
       "        vertical-align: middle;\n",
       "    }\n",
       "\n",
       "    .dataframe tbody tr th {\n",
       "        vertical-align: top;\n",
       "    }\n",
       "\n",
       "    .dataframe thead th {\n",
       "        text-align: right;\n",
       "    }\n",
       "</style>\n",
       "<table border=\"1\" class=\"dataframe\">\n",
       "  <thead>\n",
       "    <tr style=\"text-align: right;\">\n",
       "      <th></th>\n",
       "      <th></th>\n",
       "      <th>score</th>\n",
       "      <th>predicted_class</th>\n",
       "      <th>true_class</th>\n",
       "    </tr>\n",
       "    <tr>\n",
       "      <th>ukb_efo</th>\n",
       "      <th>gene</th>\n",
       "      <th></th>\n",
       "      <th></th>\n",
       "      <th></th>\n",
       "    </tr>\n",
       "  </thead>\n",
       "  <tbody>\n",
       "    <tr>\n",
       "      <th rowspan=\"5\" valign=\"top\">1200-Sleeplessness_insomnia</th>\n",
       "      <th>ENSG00000001617</th>\n",
       "      <td>5.467206</td>\n",
       "      <td>1</td>\n",
       "      <td>0</td>\n",
       "    </tr>\n",
       "    <tr>\n",
       "      <th>ENSG00000003756</th>\n",
       "      <td>5.163661</td>\n",
       "      <td>0</td>\n",
       "      <td>0</td>\n",
       "    </tr>\n",
       "    <tr>\n",
       "      <th>ENSG00000004534</th>\n",
       "      <td>5.500549</td>\n",
       "      <td>1</td>\n",
       "      <td>0</td>\n",
       "    </tr>\n",
       "    <tr>\n",
       "      <th>ENSG00000004838</th>\n",
       "      <td>0.882240</td>\n",
       "      <td>0</td>\n",
       "      <td>0</td>\n",
       "    </tr>\n",
       "    <tr>\n",
       "      <th>ENSG00000004897</th>\n",
       "      <td>0.150213</td>\n",
       "      <td>0</td>\n",
       "      <td>0</td>\n",
       "    </tr>\n",
       "  </tbody>\n",
       "</table>\n",
       "</div>"
      ],
      "text/plain": [
       "                                                score  predicted_class  \\\n",
       "ukb_efo                     gene                                         \n",
       "1200-Sleeplessness_insomnia ENSG00000001617  5.467206                1   \n",
       "                            ENSG00000003756  5.163661                0   \n",
       "                            ENSG00000004534  5.500549                1   \n",
       "                            ENSG00000004838  0.882240                0   \n",
       "                            ENSG00000004897  0.150213                0   \n",
       "\n",
       "                                             true_class  \n",
       "ukb_efo                     gene                         \n",
       "1200-Sleeplessness_insomnia ENSG00000001617           0  \n",
       "                            ENSG00000003756           0  \n",
       "                            ENSG00000004534           0  \n",
       "                            ENSG00000004838           0  \n",
       "                            ENSG00000004897           0  "
      ]
     },
     "execution_count": 70,
     "metadata": {},
     "output_type": "execute_result"
    }
   ],
   "source": [
    "predixcan_classifier_df.head()"
   ]
  },
  {
   "cell_type": "code",
   "execution_count": 71,
   "metadata": {},
   "outputs": [
    {
     "data": {
      "text/html": [
       "<div>\n",
       "<style scoped>\n",
       "    .dataframe tbody tr th:only-of-type {\n",
       "        vertical-align: middle;\n",
       "    }\n",
       "\n",
       "    .dataframe tbody tr th {\n",
       "        vertical-align: top;\n",
       "    }\n",
       "\n",
       "    .dataframe thead th {\n",
       "        text-align: right;\n",
       "    }\n",
       "</style>\n",
       "<table border=\"1\" class=\"dataframe\">\n",
       "  <thead>\n",
       "    <tr style=\"text-align: right;\">\n",
       "      <th></th>\n",
       "      <th>score</th>\n",
       "      <th>predicted_class</th>\n",
       "      <th>true_class</th>\n",
       "    </tr>\n",
       "    <tr>\n",
       "      <th>gene</th>\n",
       "      <th></th>\n",
       "      <th></th>\n",
       "      <th></th>\n",
       "    </tr>\n",
       "  </thead>\n",
       "  <tbody>\n",
       "    <tr>\n",
       "      <th>ENSG00000157764</th>\n",
       "      <td>1.795630</td>\n",
       "      <td>0</td>\n",
       "      <td>1</td>\n",
       "    </tr>\n",
       "    <tr>\n",
       "      <th>ENSG00000112234</th>\n",
       "      <td>0.930357</td>\n",
       "      <td>0</td>\n",
       "      <td>1</td>\n",
       "    </tr>\n",
       "    <tr>\n",
       "      <th>ENSG00000162769</th>\n",
       "      <td>0.189666</td>\n",
       "      <td>0</td>\n",
       "      <td>1</td>\n",
       "    </tr>\n",
       "    <tr>\n",
       "      <th>ENSG00000075336</th>\n",
       "      <td>0.886190</td>\n",
       "      <td>0</td>\n",
       "      <td>0</td>\n",
       "    </tr>\n",
       "    <tr>\n",
       "      <th>ENSG00000166347</th>\n",
       "      <td>0.252202</td>\n",
       "      <td>0</td>\n",
       "      <td>0</td>\n",
       "    </tr>\n",
       "  </tbody>\n",
       "</table>\n",
       "</div>"
      ],
      "text/plain": [
       "                    score  predicted_class  true_class\n",
       "gene                                                  \n",
       "ENSG00000157764  1.795630                0           1\n",
       "ENSG00000112234  0.930357                0           1\n",
       "ENSG00000162769  0.189666                0           1\n",
       "ENSG00000075336  0.886190                0           0\n",
       "ENSG00000166347  0.252202                0           0"
      ]
     },
     "execution_count": 71,
     "metadata": {},
     "output_type": "execute_result"
    }
   ],
   "source": [
    "predixcan_classifier_df.loc['M41-Diagnoses_main_ICD10_M41_Scoliosis'].sort_values('true_class', ascending=False).head()"
   ]
  },
  {
   "cell_type": "markdown",
   "metadata": {},
   "source": [
    "## Select genes per trait"
   ]
  },
  {
   "cell_type": "code",
   "execution_count": 72,
   "metadata": {},
   "outputs": [],
   "source": [
    "#selected_predixcan_classifier_df = predixcan_classifier_df.loc[predixcan_classifier_df.index.intersection(trait_genes_to_keep)]\n",
    "selected_predixcan_classifier_df = predixcan_classifier_df"
   ]
  },
  {
   "cell_type": "code",
   "execution_count": 73,
   "metadata": {},
   "outputs": [],
   "source": [
    "# some testing"
   ]
  },
  {
   "cell_type": "code",
   "execution_count": 74,
   "metadata": {},
   "outputs": [
    {
     "data": {
      "text/plain": [
       "(18330, 3)"
      ]
     },
     "execution_count": 74,
     "metadata": {},
     "output_type": "execute_result"
    }
   ],
   "source": [
    "selected_predixcan_classifier_df.shape"
   ]
  },
  {
   "cell_type": "code",
   "execution_count": 75,
   "metadata": {},
   "outputs": [
    {
     "data": {
      "text/html": [
       "<div>\n",
       "<style scoped>\n",
       "    .dataframe tbody tr th:only-of-type {\n",
       "        vertical-align: middle;\n",
       "    }\n",
       "\n",
       "    .dataframe tbody tr th {\n",
       "        vertical-align: top;\n",
       "    }\n",
       "\n",
       "    .dataframe thead th {\n",
       "        text-align: right;\n",
       "    }\n",
       "</style>\n",
       "<table border=\"1\" class=\"dataframe\">\n",
       "  <thead>\n",
       "    <tr style=\"text-align: right;\">\n",
       "      <th></th>\n",
       "      <th></th>\n",
       "      <th>score</th>\n",
       "      <th>predicted_class</th>\n",
       "      <th>true_class</th>\n",
       "    </tr>\n",
       "    <tr>\n",
       "      <th>ukb_efo</th>\n",
       "      <th>gene</th>\n",
       "      <th></th>\n",
       "      <th></th>\n",
       "      <th></th>\n",
       "    </tr>\n",
       "  </thead>\n",
       "  <tbody>\n",
       "    <tr>\n",
       "      <th rowspan=\"5\" valign=\"top\">1200-Sleeplessness_insomnia</th>\n",
       "      <th>ENSG00000001617</th>\n",
       "      <td>5.467206</td>\n",
       "      <td>1</td>\n",
       "      <td>0</td>\n",
       "    </tr>\n",
       "    <tr>\n",
       "      <th>ENSG00000003756</th>\n",
       "      <td>5.163661</td>\n",
       "      <td>0</td>\n",
       "      <td>0</td>\n",
       "    </tr>\n",
       "    <tr>\n",
       "      <th>ENSG00000004534</th>\n",
       "      <td>5.500549</td>\n",
       "      <td>1</td>\n",
       "      <td>0</td>\n",
       "    </tr>\n",
       "    <tr>\n",
       "      <th>ENSG00000004838</th>\n",
       "      <td>0.882240</td>\n",
       "      <td>0</td>\n",
       "      <td>0</td>\n",
       "    </tr>\n",
       "    <tr>\n",
       "      <th>ENSG00000004897</th>\n",
       "      <td>0.150213</td>\n",
       "      <td>0</td>\n",
       "      <td>0</td>\n",
       "    </tr>\n",
       "  </tbody>\n",
       "</table>\n",
       "</div>"
      ],
      "text/plain": [
       "                                                score  predicted_class  \\\n",
       "ukb_efo                     gene                                         \n",
       "1200-Sleeplessness_insomnia ENSG00000001617  5.467206                1   \n",
       "                            ENSG00000003756  5.163661                0   \n",
       "                            ENSG00000004534  5.500549                1   \n",
       "                            ENSG00000004838  0.882240                0   \n",
       "                            ENSG00000004897  0.150213                0   \n",
       "\n",
       "                                             true_class  \n",
       "ukb_efo                     gene                         \n",
       "1200-Sleeplessness_insomnia ENSG00000001617           0  \n",
       "                            ENSG00000003756           0  \n",
       "                            ENSG00000004534           0  \n",
       "                            ENSG00000004838           0  \n",
       "                            ENSG00000004897           0  "
      ]
     },
     "execution_count": 75,
     "metadata": {},
     "output_type": "execute_result"
    }
   ],
   "source": [
    "selected_predixcan_classifier_df.head()"
   ]
  },
  {
   "cell_type": "code",
   "execution_count": 76,
   "metadata": {},
   "outputs": [
    {
     "data": {
      "text/html": [
       "<div>\n",
       "<style scoped>\n",
       "    .dataframe tbody tr th:only-of-type {\n",
       "        vertical-align: middle;\n",
       "    }\n",
       "\n",
       "    .dataframe tbody tr th {\n",
       "        vertical-align: top;\n",
       "    }\n",
       "\n",
       "    .dataframe thead th {\n",
       "        text-align: right;\n",
       "    }\n",
       "</style>\n",
       "<table border=\"1\" class=\"dataframe\">\n",
       "  <thead>\n",
       "    <tr style=\"text-align: right;\">\n",
       "      <th></th>\n",
       "      <th></th>\n",
       "      <th>score</th>\n",
       "      <th>predicted_class</th>\n",
       "      <th>true_class</th>\n",
       "    </tr>\n",
       "    <tr>\n",
       "      <th>ukb_efo</th>\n",
       "      <th>gene</th>\n",
       "      <th></th>\n",
       "      <th></th>\n",
       "      <th></th>\n",
       "    </tr>\n",
       "  </thead>\n",
       "  <tbody>\n",
       "    <tr>\n",
       "      <th>20002_1226-Noncancer_illness_code_selfreported_hypothyroidismmyxoedema</th>\n",
       "      <th>ENSG00000126561</th>\n",
       "      <td>3.463177</td>\n",
       "      <td>0</td>\n",
       "      <td>0</td>\n",
       "    </tr>\n",
       "    <tr>\n",
       "      <th rowspan=\"4\" valign=\"top\">20002_1459-Noncancer_illness_code_selfreported_colitisnot_crohns_or_ulcerative_colitis</th>\n",
       "      <th>ENSG00000166278</th>\n",
       "      <td>1.258235</td>\n",
       "      <td>0</td>\n",
       "      <td>0</td>\n",
       "    </tr>\n",
       "    <tr>\n",
       "      <th>ENSG00000168477</th>\n",
       "      <td>0.321865</td>\n",
       "      <td>0</td>\n",
       "      <td>0</td>\n",
       "    </tr>\n",
       "    <tr>\n",
       "      <th>ENSG00000179344</th>\n",
       "      <td>2.735683</td>\n",
       "      <td>0</td>\n",
       "      <td>0</td>\n",
       "    </tr>\n",
       "    <tr>\n",
       "      <th>ENSG00000196126</th>\n",
       "      <td>3.369544</td>\n",
       "      <td>0</td>\n",
       "      <td>0</td>\n",
       "    </tr>\n",
       "  </tbody>\n",
       "</table>\n",
       "</div>"
      ],
      "text/plain": [
       "                                                                       score  \\\n",
       "ukb_efo                                            gene                        \n",
       "20002_1226-Noncancer_illness_code_selfreported_... ENSG00000126561  3.463177   \n",
       "20002_1459-Noncancer_illness_code_selfreported_... ENSG00000166278  1.258235   \n",
       "                                                   ENSG00000168477  0.321865   \n",
       "                                                   ENSG00000179344  2.735683   \n",
       "                                                   ENSG00000196126  3.369544   \n",
       "\n",
       "                                                                    predicted_class  \\\n",
       "ukb_efo                                            gene                               \n",
       "20002_1226-Noncancer_illness_code_selfreported_... ENSG00000126561                0   \n",
       "20002_1459-Noncancer_illness_code_selfreported_... ENSG00000166278                0   \n",
       "                                                   ENSG00000168477                0   \n",
       "                                                   ENSG00000179344                0   \n",
       "                                                   ENSG00000196126                0   \n",
       "\n",
       "                                                                    true_class  \n",
       "ukb_efo                                            gene                         \n",
       "20002_1226-Noncancer_illness_code_selfreported_... ENSG00000126561           0  \n",
       "20002_1459-Noncancer_illness_code_selfreported_... ENSG00000166278           0  \n",
       "                                                   ENSG00000168477           0  \n",
       "                                                   ENSG00000179344           0  \n",
       "                                                   ENSG00000196126           0  "
      ]
     },
     "execution_count": 76,
     "metadata": {},
     "output_type": "execute_result"
    }
   ],
   "source": [
    "selected_predixcan_classifier_df.sort_values('predicted_class').head()"
   ]
  },
  {
   "cell_type": "code",
   "execution_count": 77,
   "metadata": {},
   "outputs": [
    {
     "data": {
      "text/html": [
       "<div>\n",
       "<style scoped>\n",
       "    .dataframe tbody tr th:only-of-type {\n",
       "        vertical-align: middle;\n",
       "    }\n",
       "\n",
       "    .dataframe tbody tr th {\n",
       "        vertical-align: top;\n",
       "    }\n",
       "\n",
       "    .dataframe thead th {\n",
       "        text-align: right;\n",
       "    }\n",
       "</style>\n",
       "<table border=\"1\" class=\"dataframe\">\n",
       "  <thead>\n",
       "    <tr style=\"text-align: right;\">\n",
       "      <th></th>\n",
       "      <th></th>\n",
       "      <th>score</th>\n",
       "      <th>predicted_class</th>\n",
       "      <th>true_class</th>\n",
       "    </tr>\n",
       "    <tr>\n",
       "      <th>ukb_efo</th>\n",
       "      <th>gene</th>\n",
       "      <th></th>\n",
       "      <th></th>\n",
       "      <th></th>\n",
       "    </tr>\n",
       "  </thead>\n",
       "  <tbody>\n",
       "    <tr>\n",
       "      <th>1200-Sleeplessness_insomnia</th>\n",
       "      <th>ENSG00000001617</th>\n",
       "      <td>5.467206</td>\n",
       "      <td>1</td>\n",
       "      <td>0</td>\n",
       "    </tr>\n",
       "    <tr>\n",
       "      <th>I25-Diagnoses_main_ICD10_I25_Chronic_ischaemic_heart_disease</th>\n",
       "      <th>ENSG00000175003</th>\n",
       "      <td>10.307097</td>\n",
       "      <td>1</td>\n",
       "      <td>0</td>\n",
       "    </tr>\n",
       "    <tr>\n",
       "      <th rowspan=\"3\" valign=\"top\">20002_1453-Noncancer_illness_code_selfreported_psoriasis</th>\n",
       "      <th>ENSG00000241404</th>\n",
       "      <td>18.607254</td>\n",
       "      <td>1</td>\n",
       "      <td>0</td>\n",
       "    </tr>\n",
       "    <tr>\n",
       "      <th>ENSG00000242574</th>\n",
       "      <td>5.741933</td>\n",
       "      <td>1</td>\n",
       "      <td>0</td>\n",
       "    </tr>\n",
       "    <tr>\n",
       "      <th>ENSG00000243649</th>\n",
       "      <td>12.103758</td>\n",
       "      <td>1</td>\n",
       "      <td>0</td>\n",
       "    </tr>\n",
       "  </tbody>\n",
       "</table>\n",
       "</div>"
      ],
      "text/plain": [
       "                                                                        score  \\\n",
       "ukb_efo                                            gene                         \n",
       "1200-Sleeplessness_insomnia                        ENSG00000001617   5.467206   \n",
       "I25-Diagnoses_main_ICD10_I25_Chronic_ischaemic_... ENSG00000175003  10.307097   \n",
       "20002_1453-Noncancer_illness_code_selfreported_... ENSG00000241404  18.607254   \n",
       "                                                   ENSG00000242574   5.741933   \n",
       "                                                   ENSG00000243649  12.103758   \n",
       "\n",
       "                                                                    predicted_class  \\\n",
       "ukb_efo                                            gene                               \n",
       "1200-Sleeplessness_insomnia                        ENSG00000001617                1   \n",
       "I25-Diagnoses_main_ICD10_I25_Chronic_ischaemic_... ENSG00000175003                1   \n",
       "20002_1453-Noncancer_illness_code_selfreported_... ENSG00000241404                1   \n",
       "                                                   ENSG00000242574                1   \n",
       "                                                   ENSG00000243649                1   \n",
       "\n",
       "                                                                    true_class  \n",
       "ukb_efo                                            gene                         \n",
       "1200-Sleeplessness_insomnia                        ENSG00000001617           0  \n",
       "I25-Diagnoses_main_ICD10_I25_Chronic_ischaemic_... ENSG00000175003           0  \n",
       "20002_1453-Noncancer_illness_code_selfreported_... ENSG00000241404           0  \n",
       "                                                   ENSG00000242574           0  \n",
       "                                                   ENSG00000243649           0  "
      ]
     },
     "execution_count": 77,
     "metadata": {},
     "output_type": "execute_result"
    }
   ],
   "source": [
    "selected_predixcan_classifier_df.sort_values('predicted_class', ascending=False).head()"
   ]
  },
  {
   "cell_type": "code",
   "execution_count": 78,
   "metadata": {},
   "outputs": [
    {
     "data": {
      "text/plain": [
       "(18330, 3)"
      ]
     },
     "metadata": {},
     "output_type": "display_data"
    },
    {
     "data": {
      "text/plain": [
       "(122, 3)"
      ]
     },
     "metadata": {},
     "output_type": "display_data"
    },
    {
     "data": {
      "text/html": [
       "<div>\n",
       "<style scoped>\n",
       "    .dataframe tbody tr th:only-of-type {\n",
       "        vertical-align: middle;\n",
       "    }\n",
       "\n",
       "    .dataframe tbody tr th {\n",
       "        vertical-align: top;\n",
       "    }\n",
       "\n",
       "    .dataframe thead th {\n",
       "        text-align: right;\n",
       "    }\n",
       "</style>\n",
       "<table border=\"1\" class=\"dataframe\">\n",
       "  <thead>\n",
       "    <tr style=\"text-align: right;\">\n",
       "      <th></th>\n",
       "      <th></th>\n",
       "      <th>score</th>\n",
       "      <th>predicted_class</th>\n",
       "      <th>true_class</th>\n",
       "    </tr>\n",
       "    <tr>\n",
       "      <th>ukb_efo</th>\n",
       "      <th>gene</th>\n",
       "      <th></th>\n",
       "      <th></th>\n",
       "      <th></th>\n",
       "    </tr>\n",
       "  </thead>\n",
       "  <tbody>\n",
       "    <tr>\n",
       "      <th rowspan=\"2\" valign=\"top\">R69-Diagnoses_main_ICD10_R69_Unknown_and_unspecified_causes_of_morbidity</th>\n",
       "      <th>ENSG00000068305</th>\n",
       "      <td>0.611996</td>\n",
       "      <td>0</td>\n",
       "      <td>1</td>\n",
       "    </tr>\n",
       "    <tr>\n",
       "      <th>ENSG00000140443</th>\n",
       "      <td>1.579324</td>\n",
       "      <td>0</td>\n",
       "      <td>1</td>\n",
       "    </tr>\n",
       "    <tr>\n",
       "      <th rowspan=\"2\" valign=\"top\">R40-Diagnoses_main_ICD10_R40_Somnolence_stupor_and_coma</th>\n",
       "      <th>ENSG00000133812</th>\n",
       "      <td>2.943825</td>\n",
       "      <td>0</td>\n",
       "      <td>1</td>\n",
       "    </tr>\n",
       "    <tr>\n",
       "      <th>ENSG00000183287</th>\n",
       "      <td>1.652494</td>\n",
       "      <td>0</td>\n",
       "      <td>1</td>\n",
       "    </tr>\n",
       "    <tr>\n",
       "      <th>N20-Diagnoses_main_ICD10_N20_Calculus_of_kidney_and_ureter</th>\n",
       "      <th>ENSG00000131183</th>\n",
       "      <td>6.566289</td>\n",
       "      <td>1</td>\n",
       "      <td>1</td>\n",
       "    </tr>\n",
       "  </tbody>\n",
       "</table>\n",
       "</div>"
      ],
      "text/plain": [
       "                                                                       score  \\\n",
       "ukb_efo                                            gene                        \n",
       "R69-Diagnoses_main_ICD10_R69_Unknown_and_unspec... ENSG00000068305  0.611996   \n",
       "                                                   ENSG00000140443  1.579324   \n",
       "R40-Diagnoses_main_ICD10_R40_Somnolence_stupor_... ENSG00000133812  2.943825   \n",
       "                                                   ENSG00000183287  1.652494   \n",
       "N20-Diagnoses_main_ICD10_N20_Calculus_of_kidney... ENSG00000131183  6.566289   \n",
       "\n",
       "                                                                    predicted_class  \\\n",
       "ukb_efo                                            gene                               \n",
       "R69-Diagnoses_main_ICD10_R69_Unknown_and_unspec... ENSG00000068305                0   \n",
       "                                                   ENSG00000140443                0   \n",
       "R40-Diagnoses_main_ICD10_R40_Somnolence_stupor_... ENSG00000133812                0   \n",
       "                                                   ENSG00000183287                0   \n",
       "N20-Diagnoses_main_ICD10_N20_Calculus_of_kidney... ENSG00000131183                1   \n",
       "\n",
       "                                                                    true_class  \n",
       "ukb_efo                                            gene                         \n",
       "R69-Diagnoses_main_ICD10_R69_Unknown_and_unspec... ENSG00000068305           1  \n",
       "                                                   ENSG00000140443           1  \n",
       "R40-Diagnoses_main_ICD10_R40_Somnolence_stupor_... ENSG00000133812           1  \n",
       "                                                   ENSG00000183287           1  \n",
       "N20-Diagnoses_main_ICD10_N20_Calculus_of_kidney... ENSG00000131183           1  "
      ]
     },
     "metadata": {},
     "output_type": "display_data"
    }
   ],
   "source": [
    "_tmp = selected_predixcan_classifier_df.sort_values(['true_class', 'ukb_efo'], ascending=False)\n",
    "display(_tmp.shape)\n",
    "display(_tmp[_tmp['true_class'] > 0].shape)\n",
    "display(_tmp[_tmp['true_class'] > 0].head())"
   ]
  },
  {
   "cell_type": "markdown",
   "metadata": {},
   "source": [
    "### Test classes"
   ]
  },
  {
   "cell_type": "code",
   "execution_count": 79,
   "metadata": {},
   "outputs": [
    {
     "data": {
      "text/plain": [
       "(99,)"
      ]
     },
     "execution_count": 79,
     "metadata": {},
     "output_type": "execute_result"
    }
   ],
   "source": [
    "selected_predixcan_classifier_df.index.get_level_values('ukb_efo').unique().shape"
   ]
  },
  {
   "cell_type": "code",
   "execution_count": 80,
   "metadata": {},
   "outputs": [
    {
     "data": {
      "text/plain": [
       "(9058,)"
      ]
     },
     "execution_count": 80,
     "metadata": {},
     "output_type": "execute_result"
    }
   ],
   "source": [
    "selected_predixcan_classifier_df.index.get_level_values('gene').unique().shape"
   ]
  },
  {
   "cell_type": "code",
   "execution_count": 81,
   "metadata": {},
   "outputs": [],
   "source": [
    "_pheno = 'N20-Diagnoses_main_ICD10_N20_Calculus_of_kidney_and_ureter'"
   ]
  },
  {
   "cell_type": "code",
   "execution_count": 82,
   "metadata": {},
   "outputs": [
    {
     "data": {
      "text/plain": [
       "array(['ENSG00000075891', 'ENSG00000130600', 'ENSG00000269821',\n",
       "       'ENSG00000129757', 'ENSG00000143473', 'ENSG00000275410',\n",
       "       'ENSG00000019186', 'ENSG00000134371', 'ENSG00000036828',\n",
       "       'ENSG00000088256', 'ENSG00000187091', 'ENSG00000122194',\n",
       "       'ENSG00000138592', 'ENSG00000040531', 'ENSG00000138079',\n",
       "       'ENSG00000021488', 'ENSG00000090402', 'ENSG00000131482',\n",
       "       'ENSG00000137700', 'ENSG00000164007', 'ENSG00000113946',\n",
       "       'ENSG00000116039', 'ENSG00000168000', 'ENSG00000123191',\n",
       "       'ENSG00000171365', 'ENSG00000165704', 'ENSG00000042753',\n",
       "       'ENSG00000075643', 'ENSG00000169692', 'ENSG00000109667',\n",
       "       'ENSG00000131183', 'ENSG00000109062', 'ENSG00000149257',\n",
       "       'ENSG00000198931', 'ENSG00000157388', 'ENSG00000167207',\n",
       "       'ENSG00000124827', 'ENSG00000134873'], dtype=object)"
      ]
     },
     "metadata": {},
     "output_type": "display_data"
    },
    {
     "data": {
      "text/plain": [
       "(38,)"
      ]
     },
     "metadata": {},
     "output_type": "display_data"
    }
   ],
   "source": [
    "_clinvar_asthma_genes = omim_silver_standard[omim_silver_standard['trait'] == _pheno]['ensembl_gene_id'].unique()\n",
    "display(_clinvar_asthma_genes)\n",
    "display(_clinvar_asthma_genes.shape)"
   ]
  },
  {
   "cell_type": "code",
   "execution_count": 83,
   "metadata": {},
   "outputs": [
    {
     "data": {
      "text/html": [
       "<div>\n",
       "<style scoped>\n",
       "    .dataframe tbody tr th:only-of-type {\n",
       "        vertical-align: middle;\n",
       "    }\n",
       "\n",
       "    .dataframe tbody tr th {\n",
       "        vertical-align: top;\n",
       "    }\n",
       "\n",
       "    .dataframe thead th {\n",
       "        text-align: right;\n",
       "    }\n",
       "</style>\n",
       "<table border=\"1\" class=\"dataframe\">\n",
       "  <thead>\n",
       "    <tr style=\"text-align: right;\">\n",
       "      <th></th>\n",
       "      <th>score</th>\n",
       "      <th>predicted_class</th>\n",
       "      <th>true_class</th>\n",
       "    </tr>\n",
       "  </thead>\n",
       "  <tbody>\n",
       "    <tr>\n",
       "      <th>ENSG00000131183</th>\n",
       "      <td>6.566289</td>\n",
       "      <td>1</td>\n",
       "      <td>1</td>\n",
       "    </tr>\n",
       "  </tbody>\n",
       "</table>\n",
       "</div>"
      ],
      "text/plain": [
       "                    score  predicted_class  true_class\n",
       "ENSG00000131183  6.566289                1           1"
      ]
     },
     "execution_count": 83,
     "metadata": {},
     "output_type": "execute_result"
    }
   ],
   "source": [
    "_tmp = selected_predixcan_classifier_df.loc[_pheno]\n",
    "_tmp.loc[_tmp.index.intersection(_clinvar_asthma_genes)]"
   ]
  },
  {
   "cell_type": "code",
   "execution_count": 84,
   "metadata": {},
   "outputs": [],
   "source": [
    "_predixcan_asthma_genes = selected_predixcan_classifier_df.loc[_pheno]"
   ]
  },
  {
   "cell_type": "code",
   "execution_count": 85,
   "metadata": {},
   "outputs": [
    {
     "data": {
      "text/html": [
       "<div>\n",
       "<style scoped>\n",
       "    .dataframe tbody tr th:only-of-type {\n",
       "        vertical-align: middle;\n",
       "    }\n",
       "\n",
       "    .dataframe tbody tr th {\n",
       "        vertical-align: top;\n",
       "    }\n",
       "\n",
       "    .dataframe thead th {\n",
       "        text-align: right;\n",
       "    }\n",
       "</style>\n",
       "<table border=\"1\" class=\"dataframe\">\n",
       "  <thead>\n",
       "    <tr style=\"text-align: right;\">\n",
       "      <th></th>\n",
       "      <th>score</th>\n",
       "      <th>predicted_class</th>\n",
       "      <th>true_class</th>\n",
       "    </tr>\n",
       "    <tr>\n",
       "      <th>gene</th>\n",
       "      <th></th>\n",
       "      <th></th>\n",
       "      <th></th>\n",
       "    </tr>\n",
       "  </thead>\n",
       "  <tbody>\n",
       "    <tr>\n",
       "      <th>ENSG00000005187</th>\n",
       "      <td>2.629161</td>\n",
       "      <td>0</td>\n",
       "      <td>0</td>\n",
       "    </tr>\n",
       "    <tr>\n",
       "      <th>ENSG00000005189</th>\n",
       "      <td>2.183872</td>\n",
       "      <td>0</td>\n",
       "      <td>0</td>\n",
       "    </tr>\n",
       "    <tr>\n",
       "      <th>ENSG00000011638</th>\n",
       "      <td>1.033352</td>\n",
       "      <td>0</td>\n",
       "      <td>0</td>\n",
       "    </tr>\n",
       "    <tr>\n",
       "      <th>ENSG00000027847</th>\n",
       "      <td>0.922110</td>\n",
       "      <td>0</td>\n",
       "      <td>0</td>\n",
       "    </tr>\n",
       "    <tr>\n",
       "      <th>ENSG00000048140</th>\n",
       "      <td>1.544258</td>\n",
       "      <td>0</td>\n",
       "      <td>0</td>\n",
       "    </tr>\n",
       "  </tbody>\n",
       "</table>\n",
       "</div>"
      ],
      "text/plain": [
       "                    score  predicted_class  true_class\n",
       "gene                                                  \n",
       "ENSG00000005187  2.629161                0           0\n",
       "ENSG00000005189  2.183872                0           0\n",
       "ENSG00000011638  1.033352                0           0\n",
       "ENSG00000027847  0.922110                0           0\n",
       "ENSG00000048140  1.544258                0           0"
      ]
     },
     "execution_count": 85,
     "metadata": {},
     "output_type": "execute_result"
    }
   ],
   "source": [
    "_predixcan_asthma_genes.head()"
   ]
  },
  {
   "cell_type": "code",
   "execution_count": 86,
   "metadata": {},
   "outputs": [
    {
     "data": {
      "text/plain": [
       "(18330, 3)"
      ]
     },
     "execution_count": 86,
     "metadata": {},
     "output_type": "execute_result"
    }
   ],
   "source": [
    "selected_predixcan_classifier_df.shape"
   ]
  },
  {
   "cell_type": "code",
   "execution_count": 87,
   "metadata": {},
   "outputs": [
    {
     "data": {
      "text/plain": [
       "0    16105\n",
       "1     2225\n",
       "Name: predicted_class, dtype: int64"
      ]
     },
     "execution_count": 87,
     "metadata": {},
     "output_type": "execute_result"
    }
   ],
   "source": [
    "selected_predixcan_classifier_df['predicted_class'].value_counts()"
   ]
  },
  {
   "cell_type": "code",
   "execution_count": 88,
   "metadata": {},
   "outputs": [
    {
     "data": {
      "text/plain": [
       "0    18208\n",
       "1      122\n",
       "Name: true_class, dtype: int64"
      ]
     },
     "execution_count": 88,
     "metadata": {},
     "output_type": "execute_result"
    }
   ],
   "source": [
    "selected_predixcan_classifier_df['true_class'].value_counts()"
   ]
  },
  {
   "cell_type": "code",
   "execution_count": 89,
   "metadata": {},
   "outputs": [
    {
     "data": {
      "text/html": [
       "<div>\n",
       "<style scoped>\n",
       "    .dataframe tbody tr th:only-of-type {\n",
       "        vertical-align: middle;\n",
       "    }\n",
       "\n",
       "    .dataframe tbody tr th {\n",
       "        vertical-align: top;\n",
       "    }\n",
       "\n",
       "    .dataframe thead th {\n",
       "        text-align: right;\n",
       "    }\n",
       "</style>\n",
       "<table border=\"1\" class=\"dataframe\">\n",
       "  <thead>\n",
       "    <tr style=\"text-align: right;\">\n",
       "      <th></th>\n",
       "      <th></th>\n",
       "      <th>score</th>\n",
       "      <th>predicted_class</th>\n",
       "      <th>true_class</th>\n",
       "    </tr>\n",
       "    <tr>\n",
       "      <th>ukb_efo</th>\n",
       "      <th>gene</th>\n",
       "      <th></th>\n",
       "      <th></th>\n",
       "      <th></th>\n",
       "    </tr>\n",
       "  </thead>\n",
       "  <tbody>\n",
       "    <tr>\n",
       "      <th>20002_1111-Noncancer_illness_code_selfreported_asthma</th>\n",
       "      <th>ENSG00000169194</th>\n",
       "      <td>12.736808</td>\n",
       "      <td>1</td>\n",
       "      <td>1</td>\n",
       "    </tr>\n",
       "    <tr>\n",
       "      <th>20002_1309-Noncancer_illness_code_selfreported_osteoporosis</th>\n",
       "      <th>ENSG00000106080</th>\n",
       "      <td>0.673340</td>\n",
       "      <td>0</td>\n",
       "      <td>1</td>\n",
       "    </tr>\n",
       "    <tr>\n",
       "      <th>N20-Diagnoses_main_ICD10_N20_Calculus_of_kidney_and_ureter</th>\n",
       "      <th>ENSG00000131183</th>\n",
       "      <td>6.566289</td>\n",
       "      <td>1</td>\n",
       "      <td>1</td>\n",
       "    </tr>\n",
       "    <tr>\n",
       "      <th>20002_1226-Noncancer_illness_code_selfreported_hypothyroidismmyxoedema</th>\n",
       "      <th>ENSG00000115705</th>\n",
       "      <td>9.620747</td>\n",
       "      <td>1</td>\n",
       "      <td>1</td>\n",
       "    </tr>\n",
       "    <tr>\n",
       "      <th>I25-Diagnoses_main_ICD10_I25_Chronic_ischaemic_heart_disease</th>\n",
       "      <th>ENSG00000111252</th>\n",
       "      <td>3.933903</td>\n",
       "      <td>0</td>\n",
       "      <td>1</td>\n",
       "    </tr>\n",
       "    <tr>\n",
       "      <th rowspan=\"2\" valign=\"top\">20002_1226-Noncancer_illness_code_selfreported_hypothyroidismmyxoedema</th>\n",
       "      <th>ENSG00000115415</th>\n",
       "      <td>2.964074</td>\n",
       "      <td>0</td>\n",
       "      <td>1</td>\n",
       "    </tr>\n",
       "    <tr>\n",
       "      <th>ENSG00000171862</th>\n",
       "      <td>3.526507</td>\n",
       "      <td>0</td>\n",
       "      <td>1</td>\n",
       "    </tr>\n",
       "    <tr>\n",
       "      <th>20002_1075-Noncancer_illness_code_selfreported_heart_attackmyocardial_infarction</th>\n",
       "      <th>ENSG00000111252</th>\n",
       "      <td>3.159834</td>\n",
       "      <td>0</td>\n",
       "      <td>1</td>\n",
       "    </tr>\n",
       "    <tr>\n",
       "      <th>I25-Diagnoses_main_ICD10_I25_Chronic_ischaemic_heart_disease</th>\n",
       "      <th>ENSG00000185950</th>\n",
       "      <td>0.260638</td>\n",
       "      <td>0</td>\n",
       "      <td>1</td>\n",
       "    </tr>\n",
       "    <tr>\n",
       "      <th>I48-Diagnoses_main_ICD10_I48_Atrial_fibrillation_and_flutter</th>\n",
       "      <th>ENSG00000120457</th>\n",
       "      <td>0.689504</td>\n",
       "      <td>0</td>\n",
       "      <td>1</td>\n",
       "    </tr>\n",
       "    <tr>\n",
       "      <th>I25-Diagnoses_main_ICD10_I25_Chronic_ischaemic_heart_disease</th>\n",
       "      <th>ENSG00000116133</th>\n",
       "      <td>1.726846</td>\n",
       "      <td>0</td>\n",
       "      <td>1</td>\n",
       "    </tr>\n",
       "    <tr>\n",
       "      <th>20002_1065-Noncancer_illness_code_selfreported_hypertension</th>\n",
       "      <th>ENSG00000231852</th>\n",
       "      <td>8.150000</td>\n",
       "      <td>1</td>\n",
       "      <td>1</td>\n",
       "    </tr>\n",
       "    <tr>\n",
       "      <th>20002_1111-Noncancer_illness_code_selfreported_asthma</th>\n",
       "      <th>ENSG00000177156</th>\n",
       "      <td>1.066373</td>\n",
       "      <td>0</td>\n",
       "      <td>1</td>\n",
       "    </tr>\n",
       "    <tr>\n",
       "      <th>20002_1381-Noncancer_illness_code_selfreported_systemic_lupus_erythematosissle</th>\n",
       "      <th>ENSG00000244731</th>\n",
       "      <td>8.074483</td>\n",
       "      <td>1</td>\n",
       "      <td>1</td>\n",
       "    </tr>\n",
       "    <tr>\n",
       "      <th rowspan=\"2\" valign=\"top\">20002_1065-Noncancer_illness_code_selfreported_hypertension</th>\n",
       "      <th>ENSG00000175334</th>\n",
       "      <td>4.365151</td>\n",
       "      <td>0</td>\n",
       "      <td>1</td>\n",
       "    </tr>\n",
       "    <tr>\n",
       "      <th>ENSG00000184937</th>\n",
       "      <td>3.835695</td>\n",
       "      <td>0</td>\n",
       "      <td>1</td>\n",
       "    </tr>\n",
       "    <tr>\n",
       "      <th>22127-Doctor_diagnosed_asthma</th>\n",
       "      <th>ENSG00000204539</th>\n",
       "      <td>0.833862</td>\n",
       "      <td>0</td>\n",
       "      <td>1</td>\n",
       "    </tr>\n",
       "    <tr>\n",
       "      <th>20002_1463-Noncancer_illness_code_selfreported_ulcerative_colitis</th>\n",
       "      <th>ENSG00000204351</th>\n",
       "      <td>1.230267</td>\n",
       "      <td>0</td>\n",
       "      <td>1</td>\n",
       "    </tr>\n",
       "    <tr>\n",
       "      <th rowspan=\"2\" valign=\"top\">1980-Worrier_anxious_feelings</th>\n",
       "      <th>ENSG00000167371</th>\n",
       "      <td>2.214579</td>\n",
       "      <td>0</td>\n",
       "      <td>1</td>\n",
       "    </tr>\n",
       "    <tr>\n",
       "      <th>ENSG00000120071</th>\n",
       "      <td>5.000517</td>\n",
       "      <td>0</td>\n",
       "      <td>1</td>\n",
       "    </tr>\n",
       "    <tr>\n",
       "      <th>20002_1065-Noncancer_illness_code_selfreported_hypertension</th>\n",
       "      <th>ENSG00000111057</th>\n",
       "      <td>1.030338</td>\n",
       "      <td>0</td>\n",
       "      <td>1</td>\n",
       "    </tr>\n",
       "    <tr>\n",
       "      <th>20002_1226-Noncancer_illness_code_selfreported_hypothyroidismmyxoedema</th>\n",
       "      <th>ENSG00000171316</th>\n",
       "      <td>6.190711</td>\n",
       "      <td>1</td>\n",
       "      <td>1</td>\n",
       "    </tr>\n",
       "    <tr>\n",
       "      <th>20002_1065-Noncancer_illness_code_selfreported_hypertension</th>\n",
       "      <th>ENSG00000141646</th>\n",
       "      <td>7.551120</td>\n",
       "      <td>1</td>\n",
       "      <td>1</td>\n",
       "    </tr>\n",
       "    <tr>\n",
       "      <th>20002_1197-Noncancer_illness_code_selfreported_kidney_stoneureter_stonebladder_stone</th>\n",
       "      <th>ENSG00000131183</th>\n",
       "      <td>4.515511</td>\n",
       "      <td>0</td>\n",
       "      <td>1</td>\n",
       "    </tr>\n",
       "    <tr>\n",
       "      <th>20002_1309-Noncancer_illness_code_selfreported_osteoporosis</th>\n",
       "      <th>ENSG00000106483</th>\n",
       "      <td>0.804340</td>\n",
       "      <td>0</td>\n",
       "      <td>1</td>\n",
       "    </tr>\n",
       "    <tr>\n",
       "      <th>20002_1535-Noncancer_illness_code_selfreported_scoliosis</th>\n",
       "      <th>ENSG00000109099</th>\n",
       "      <td>0.002448</td>\n",
       "      <td>0</td>\n",
       "      <td>1</td>\n",
       "    </tr>\n",
       "    <tr>\n",
       "      <th>20002_1464-Noncancer_illness_code_selfreported_rheumatoid_arthritis</th>\n",
       "      <th>ENSG00000134242</th>\n",
       "      <td>0.819305</td>\n",
       "      <td>0</td>\n",
       "      <td>1</td>\n",
       "    </tr>\n",
       "    <tr>\n",
       "      <th>20002_1065-Noncancer_illness_code_selfreported_hypertension</th>\n",
       "      <th>ENSG00000148795</th>\n",
       "      <td>1.057511</td>\n",
       "      <td>0</td>\n",
       "      <td>1</td>\n",
       "    </tr>\n",
       "    <tr>\n",
       "      <th>20002_1309-Noncancer_illness_code_selfreported_osteoporosis</th>\n",
       "      <th>ENSG00000162337</th>\n",
       "      <td>0.554939</td>\n",
       "      <td>0</td>\n",
       "      <td>1</td>\n",
       "    </tr>\n",
       "    <tr>\n",
       "      <th>2453-Cancer_diagnosed_by_doctor</th>\n",
       "      <th>ENSG00000110092</th>\n",
       "      <td>1.534485</td>\n",
       "      <td>0</td>\n",
       "      <td>1</td>\n",
       "    </tr>\n",
       "    <tr>\n",
       "      <th>...</th>\n",
       "      <th>...</th>\n",
       "      <td>...</td>\n",
       "      <td>...</td>\n",
       "      <td>...</td>\n",
       "    </tr>\n",
       "    <tr>\n",
       "      <th>20002_1066-Noncancer_illness_code_selfreported_heartcardiac_problem</th>\n",
       "      <th>ENSG00000010803</th>\n",
       "      <td>1.643232</td>\n",
       "      <td>0</td>\n",
       "      <td>0</td>\n",
       "    </tr>\n",
       "    <tr>\n",
       "      <th rowspan=\"4\" valign=\"top\">20002_1065-Noncancer_illness_code_selfreported_hypertension</th>\n",
       "      <th>ENSG00000284526</th>\n",
       "      <td>0.306424</td>\n",
       "      <td>0</td>\n",
       "      <td>0</td>\n",
       "    </tr>\n",
       "    <tr>\n",
       "      <th>ENSG00000283992</th>\n",
       "      <td>5.583298</td>\n",
       "      <td>1</td>\n",
       "      <td>0</td>\n",
       "    </tr>\n",
       "    <tr>\n",
       "      <th>ENSG00000283787</th>\n",
       "      <td>11.972258</td>\n",
       "      <td>1</td>\n",
       "      <td>0</td>\n",
       "    </tr>\n",
       "    <tr>\n",
       "      <th>ENSG00000283439</th>\n",
       "      <td>0.345584</td>\n",
       "      <td>0</td>\n",
       "      <td>0</td>\n",
       "    </tr>\n",
       "    <tr>\n",
       "      <th>20002_1066-Noncancer_illness_code_selfreported_heartcardiac_problem</th>\n",
       "      <th>ENSG00000179862</th>\n",
       "      <td>1.068536</td>\n",
       "      <td>0</td>\n",
       "      <td>0</td>\n",
       "    </tr>\n",
       "    <tr>\n",
       "      <th rowspan=\"6\" valign=\"top\">20002_1065-Noncancer_illness_code_selfreported_hypertension</th>\n",
       "      <th>ENSG00000283154</th>\n",
       "      <td>0.793584</td>\n",
       "      <td>0</td>\n",
       "      <td>0</td>\n",
       "    </tr>\n",
       "    <tr>\n",
       "      <th>ENSG00000282936</th>\n",
       "      <td>1.182382</td>\n",
       "      <td>0</td>\n",
       "      <td>0</td>\n",
       "    </tr>\n",
       "    <tr>\n",
       "      <th>ENSG00000282872</th>\n",
       "      <td>0.683925</td>\n",
       "      <td>0</td>\n",
       "      <td>0</td>\n",
       "    </tr>\n",
       "    <tr>\n",
       "      <th>ENSG00000282608</th>\n",
       "      <td>1.327448</td>\n",
       "      <td>0</td>\n",
       "      <td>0</td>\n",
       "    </tr>\n",
       "    <tr>\n",
       "      <th>ENSG00000281991</th>\n",
       "      <td>1.288839</td>\n",
       "      <td>0</td>\n",
       "      <td>0</td>\n",
       "    </tr>\n",
       "    <tr>\n",
       "      <th>ENSG00000280789</th>\n",
       "      <td>3.244150</td>\n",
       "      <td>0</td>\n",
       "      <td>0</td>\n",
       "    </tr>\n",
       "    <tr>\n",
       "      <th rowspan=\"17\" valign=\"top\">20002_1066-Noncancer_illness_code_selfreported_heartcardiac_problem</th>\n",
       "      <th>ENSG00000066136</th>\n",
       "      <td>0.849062</td>\n",
       "      <td>0</td>\n",
       "      <td>0</td>\n",
       "    </tr>\n",
       "    <tr>\n",
       "      <th>ENSG00000084070</th>\n",
       "      <td>0.092653</td>\n",
       "      <td>0</td>\n",
       "      <td>0</td>\n",
       "    </tr>\n",
       "    <tr>\n",
       "      <th>ENSG00000084072</th>\n",
       "      <td>1.490835</td>\n",
       "      <td>0</td>\n",
       "      <td>0</td>\n",
       "    </tr>\n",
       "    <tr>\n",
       "      <th>ENSG00000116985</th>\n",
       "      <td>0.208153</td>\n",
       "      <td>0</td>\n",
       "      <td>0</td>\n",
       "    </tr>\n",
       "    <tr>\n",
       "      <th>ENSG00000116990</th>\n",
       "      <td>0.009315</td>\n",
       "      <td>0</td>\n",
       "      <td>0</td>\n",
       "    </tr>\n",
       "    <tr>\n",
       "      <th>ENSG00000117000</th>\n",
       "      <td>1.614432</td>\n",
       "      <td>0</td>\n",
       "      <td>0</td>\n",
       "    </tr>\n",
       "    <tr>\n",
       "      <th>ENSG00000117010</th>\n",
       "      <td>0.262394</td>\n",
       "      <td>0</td>\n",
       "      <td>0</td>\n",
       "    </tr>\n",
       "    <tr>\n",
       "      <th>ENSG00000117013</th>\n",
       "      <td>2.051314</td>\n",
       "      <td>0</td>\n",
       "      <td>0</td>\n",
       "    </tr>\n",
       "    <tr>\n",
       "      <th>ENSG00000117016</th>\n",
       "      <td>0.593652</td>\n",
       "      <td>0</td>\n",
       "      <td>0</td>\n",
       "    </tr>\n",
       "    <tr>\n",
       "      <th>ENSG00000127124</th>\n",
       "      <td>2.815446</td>\n",
       "      <td>0</td>\n",
       "      <td>0</td>\n",
       "    </tr>\n",
       "    <tr>\n",
       "      <th>ENSG00000127129</th>\n",
       "      <td>0.685455</td>\n",
       "      <td>0</td>\n",
       "      <td>0</td>\n",
       "    </tr>\n",
       "    <tr>\n",
       "      <th>ENSG00000131236</th>\n",
       "      <td>0.310930</td>\n",
       "      <td>0</td>\n",
       "      <td>0</td>\n",
       "    </tr>\n",
       "    <tr>\n",
       "      <th>ENSG00000131238</th>\n",
       "      <td>0.126803</td>\n",
       "      <td>0</td>\n",
       "      <td>0</td>\n",
       "    </tr>\n",
       "    <tr>\n",
       "      <th>ENSG00000164002</th>\n",
       "      <td>0.990976</td>\n",
       "      <td>0</td>\n",
       "      <td>0</td>\n",
       "    </tr>\n",
       "    <tr>\n",
       "      <th>ENSG00000168389</th>\n",
       "      <td>0.577645</td>\n",
       "      <td>0</td>\n",
       "      <td>0</td>\n",
       "    </tr>\n",
       "    <tr>\n",
       "      <th>ENSG00000171790</th>\n",
       "      <td>1.253450</td>\n",
       "      <td>0</td>\n",
       "      <td>0</td>\n",
       "    </tr>\n",
       "    <tr>\n",
       "      <th>ENSG00000171793</th>\n",
       "      <td>1.337107</td>\n",
       "      <td>0</td>\n",
       "      <td>0</td>\n",
       "    </tr>\n",
       "    <tr>\n",
       "      <th>Z34-Diagnoses_main_ICD10_Z34_Supervision_of_normal_pregnancy</th>\n",
       "      <th>ENSG00000225526</th>\n",
       "      <td>0.580124</td>\n",
       "      <td>0</td>\n",
       "      <td>0</td>\n",
       "    </tr>\n",
       "  </tbody>\n",
       "</table>\n",
       "<p>18330 rows × 3 columns</p>\n",
       "</div>"
      ],
      "text/plain": [
       "                                                                        score  \\\n",
       "ukb_efo                                            gene                         \n",
       "20002_1111-Noncancer_illness_code_selfreported_... ENSG00000169194  12.736808   \n",
       "20002_1309-Noncancer_illness_code_selfreported_... ENSG00000106080   0.673340   \n",
       "N20-Diagnoses_main_ICD10_N20_Calculus_of_kidney... ENSG00000131183   6.566289   \n",
       "20002_1226-Noncancer_illness_code_selfreported_... ENSG00000115705   9.620747   \n",
       "I25-Diagnoses_main_ICD10_I25_Chronic_ischaemic_... ENSG00000111252   3.933903   \n",
       "20002_1226-Noncancer_illness_code_selfreported_... ENSG00000115415   2.964074   \n",
       "                                                   ENSG00000171862   3.526507   \n",
       "20002_1075-Noncancer_illness_code_selfreported_... ENSG00000111252   3.159834   \n",
       "I25-Diagnoses_main_ICD10_I25_Chronic_ischaemic_... ENSG00000185950   0.260638   \n",
       "I48-Diagnoses_main_ICD10_I48_Atrial_fibrillatio... ENSG00000120457   0.689504   \n",
       "I25-Diagnoses_main_ICD10_I25_Chronic_ischaemic_... ENSG00000116133   1.726846   \n",
       "20002_1065-Noncancer_illness_code_selfreported_... ENSG00000231852   8.150000   \n",
       "20002_1111-Noncancer_illness_code_selfreported_... ENSG00000177156   1.066373   \n",
       "20002_1381-Noncancer_illness_code_selfreported_... ENSG00000244731   8.074483   \n",
       "20002_1065-Noncancer_illness_code_selfreported_... ENSG00000175334   4.365151   \n",
       "                                                   ENSG00000184937   3.835695   \n",
       "22127-Doctor_diagnosed_asthma                      ENSG00000204539   0.833862   \n",
       "20002_1463-Noncancer_illness_code_selfreported_... ENSG00000204351   1.230267   \n",
       "1980-Worrier_anxious_feelings                      ENSG00000167371   2.214579   \n",
       "                                                   ENSG00000120071   5.000517   \n",
       "20002_1065-Noncancer_illness_code_selfreported_... ENSG00000111057   1.030338   \n",
       "20002_1226-Noncancer_illness_code_selfreported_... ENSG00000171316   6.190711   \n",
       "20002_1065-Noncancer_illness_code_selfreported_... ENSG00000141646   7.551120   \n",
       "20002_1197-Noncancer_illness_code_selfreported_... ENSG00000131183   4.515511   \n",
       "20002_1309-Noncancer_illness_code_selfreported_... ENSG00000106483   0.804340   \n",
       "20002_1535-Noncancer_illness_code_selfreported_... ENSG00000109099   0.002448   \n",
       "20002_1464-Noncancer_illness_code_selfreported_... ENSG00000134242   0.819305   \n",
       "20002_1065-Noncancer_illness_code_selfreported_... ENSG00000148795   1.057511   \n",
       "20002_1309-Noncancer_illness_code_selfreported_... ENSG00000162337   0.554939   \n",
       "2453-Cancer_diagnosed_by_doctor                    ENSG00000110092   1.534485   \n",
       "...                                                                       ...   \n",
       "20002_1066-Noncancer_illness_code_selfreported_... ENSG00000010803   1.643232   \n",
       "20002_1065-Noncancer_illness_code_selfreported_... ENSG00000284526   0.306424   \n",
       "                                                   ENSG00000283992   5.583298   \n",
       "                                                   ENSG00000283787  11.972258   \n",
       "                                                   ENSG00000283439   0.345584   \n",
       "20002_1066-Noncancer_illness_code_selfreported_... ENSG00000179862   1.068536   \n",
       "20002_1065-Noncancer_illness_code_selfreported_... ENSG00000283154   0.793584   \n",
       "                                                   ENSG00000282936   1.182382   \n",
       "                                                   ENSG00000282872   0.683925   \n",
       "                                                   ENSG00000282608   1.327448   \n",
       "                                                   ENSG00000281991   1.288839   \n",
       "                                                   ENSG00000280789   3.244150   \n",
       "20002_1066-Noncancer_illness_code_selfreported_... ENSG00000066136   0.849062   \n",
       "                                                   ENSG00000084070   0.092653   \n",
       "                                                   ENSG00000084072   1.490835   \n",
       "                                                   ENSG00000116985   0.208153   \n",
       "                                                   ENSG00000116990   0.009315   \n",
       "                                                   ENSG00000117000   1.614432   \n",
       "                                                   ENSG00000117010   0.262394   \n",
       "                                                   ENSG00000117013   2.051314   \n",
       "                                                   ENSG00000117016   0.593652   \n",
       "                                                   ENSG00000127124   2.815446   \n",
       "                                                   ENSG00000127129   0.685455   \n",
       "                                                   ENSG00000131236   0.310930   \n",
       "                                                   ENSG00000131238   0.126803   \n",
       "                                                   ENSG00000164002   0.990976   \n",
       "                                                   ENSG00000168389   0.577645   \n",
       "                                                   ENSG00000171790   1.253450   \n",
       "                                                   ENSG00000171793   1.337107   \n",
       "Z34-Diagnoses_main_ICD10_Z34_Supervision_of_nor... ENSG00000225526   0.580124   \n",
       "\n",
       "                                                                    predicted_class  \\\n",
       "ukb_efo                                            gene                               \n",
       "20002_1111-Noncancer_illness_code_selfreported_... ENSG00000169194                1   \n",
       "20002_1309-Noncancer_illness_code_selfreported_... ENSG00000106080                0   \n",
       "N20-Diagnoses_main_ICD10_N20_Calculus_of_kidney... ENSG00000131183                1   \n",
       "20002_1226-Noncancer_illness_code_selfreported_... ENSG00000115705                1   \n",
       "I25-Diagnoses_main_ICD10_I25_Chronic_ischaemic_... ENSG00000111252                0   \n",
       "20002_1226-Noncancer_illness_code_selfreported_... ENSG00000115415                0   \n",
       "                                                   ENSG00000171862                0   \n",
       "20002_1075-Noncancer_illness_code_selfreported_... ENSG00000111252                0   \n",
       "I25-Diagnoses_main_ICD10_I25_Chronic_ischaemic_... ENSG00000185950                0   \n",
       "I48-Diagnoses_main_ICD10_I48_Atrial_fibrillatio... ENSG00000120457                0   \n",
       "I25-Diagnoses_main_ICD10_I25_Chronic_ischaemic_... ENSG00000116133                0   \n",
       "20002_1065-Noncancer_illness_code_selfreported_... ENSG00000231852                1   \n",
       "20002_1111-Noncancer_illness_code_selfreported_... ENSG00000177156                0   \n",
       "20002_1381-Noncancer_illness_code_selfreported_... ENSG00000244731                1   \n",
       "20002_1065-Noncancer_illness_code_selfreported_... ENSG00000175334                0   \n",
       "                                                   ENSG00000184937                0   \n",
       "22127-Doctor_diagnosed_asthma                      ENSG00000204539                0   \n",
       "20002_1463-Noncancer_illness_code_selfreported_... ENSG00000204351                0   \n",
       "1980-Worrier_anxious_feelings                      ENSG00000167371                0   \n",
       "                                                   ENSG00000120071                0   \n",
       "20002_1065-Noncancer_illness_code_selfreported_... ENSG00000111057                0   \n",
       "20002_1226-Noncancer_illness_code_selfreported_... ENSG00000171316                1   \n",
       "20002_1065-Noncancer_illness_code_selfreported_... ENSG00000141646                1   \n",
       "20002_1197-Noncancer_illness_code_selfreported_... ENSG00000131183                0   \n",
       "20002_1309-Noncancer_illness_code_selfreported_... ENSG00000106483                0   \n",
       "20002_1535-Noncancer_illness_code_selfreported_... ENSG00000109099                0   \n",
       "20002_1464-Noncancer_illness_code_selfreported_... ENSG00000134242                0   \n",
       "20002_1065-Noncancer_illness_code_selfreported_... ENSG00000148795                0   \n",
       "20002_1309-Noncancer_illness_code_selfreported_... ENSG00000162337                0   \n",
       "2453-Cancer_diagnosed_by_doctor                    ENSG00000110092                0   \n",
       "...                                                                             ...   \n",
       "20002_1066-Noncancer_illness_code_selfreported_... ENSG00000010803                0   \n",
       "20002_1065-Noncancer_illness_code_selfreported_... ENSG00000284526                0   \n",
       "                                                   ENSG00000283992                1   \n",
       "                                                   ENSG00000283787                1   \n",
       "                                                   ENSG00000283439                0   \n",
       "20002_1066-Noncancer_illness_code_selfreported_... ENSG00000179862                0   \n",
       "20002_1065-Noncancer_illness_code_selfreported_... ENSG00000283154                0   \n",
       "                                                   ENSG00000282936                0   \n",
       "                                                   ENSG00000282872                0   \n",
       "                                                   ENSG00000282608                0   \n",
       "                                                   ENSG00000281991                0   \n",
       "                                                   ENSG00000280789                0   \n",
       "20002_1066-Noncancer_illness_code_selfreported_... ENSG00000066136                0   \n",
       "                                                   ENSG00000084070                0   \n",
       "                                                   ENSG00000084072                0   \n",
       "                                                   ENSG00000116985                0   \n",
       "                                                   ENSG00000116990                0   \n",
       "                                                   ENSG00000117000                0   \n",
       "                                                   ENSG00000117010                0   \n",
       "                                                   ENSG00000117013                0   \n",
       "                                                   ENSG00000117016                0   \n",
       "                                                   ENSG00000127124                0   \n",
       "                                                   ENSG00000127129                0   \n",
       "                                                   ENSG00000131236                0   \n",
       "                                                   ENSG00000131238                0   \n",
       "                                                   ENSG00000164002                0   \n",
       "                                                   ENSG00000168389                0   \n",
       "                                                   ENSG00000171790                0   \n",
       "                                                   ENSG00000171793                0   \n",
       "Z34-Diagnoses_main_ICD10_Z34_Supervision_of_nor... ENSG00000225526                0   \n",
       "\n",
       "                                                                    true_class  \n",
       "ukb_efo                                            gene                         \n",
       "20002_1111-Noncancer_illness_code_selfreported_... ENSG00000169194           1  \n",
       "20002_1309-Noncancer_illness_code_selfreported_... ENSG00000106080           1  \n",
       "N20-Diagnoses_main_ICD10_N20_Calculus_of_kidney... ENSG00000131183           1  \n",
       "20002_1226-Noncancer_illness_code_selfreported_... ENSG00000115705           1  \n",
       "I25-Diagnoses_main_ICD10_I25_Chronic_ischaemic_... ENSG00000111252           1  \n",
       "20002_1226-Noncancer_illness_code_selfreported_... ENSG00000115415           1  \n",
       "                                                   ENSG00000171862           1  \n",
       "20002_1075-Noncancer_illness_code_selfreported_... ENSG00000111252           1  \n",
       "I25-Diagnoses_main_ICD10_I25_Chronic_ischaemic_... ENSG00000185950           1  \n",
       "I48-Diagnoses_main_ICD10_I48_Atrial_fibrillatio... ENSG00000120457           1  \n",
       "I25-Diagnoses_main_ICD10_I25_Chronic_ischaemic_... ENSG00000116133           1  \n",
       "20002_1065-Noncancer_illness_code_selfreported_... ENSG00000231852           1  \n",
       "20002_1111-Noncancer_illness_code_selfreported_... ENSG00000177156           1  \n",
       "20002_1381-Noncancer_illness_code_selfreported_... ENSG00000244731           1  \n",
       "20002_1065-Noncancer_illness_code_selfreported_... ENSG00000175334           1  \n",
       "                                                   ENSG00000184937           1  \n",
       "22127-Doctor_diagnosed_asthma                      ENSG00000204539           1  \n",
       "20002_1463-Noncancer_illness_code_selfreported_... ENSG00000204351           1  \n",
       "1980-Worrier_anxious_feelings                      ENSG00000167371           1  \n",
       "                                                   ENSG00000120071           1  \n",
       "20002_1065-Noncancer_illness_code_selfreported_... ENSG00000111057           1  \n",
       "20002_1226-Noncancer_illness_code_selfreported_... ENSG00000171316           1  \n",
       "20002_1065-Noncancer_illness_code_selfreported_... ENSG00000141646           1  \n",
       "20002_1197-Noncancer_illness_code_selfreported_... ENSG00000131183           1  \n",
       "20002_1309-Noncancer_illness_code_selfreported_... ENSG00000106483           1  \n",
       "20002_1535-Noncancer_illness_code_selfreported_... ENSG00000109099           1  \n",
       "20002_1464-Noncancer_illness_code_selfreported_... ENSG00000134242           1  \n",
       "20002_1065-Noncancer_illness_code_selfreported_... ENSG00000148795           1  \n",
       "20002_1309-Noncancer_illness_code_selfreported_... ENSG00000162337           1  \n",
       "2453-Cancer_diagnosed_by_doctor                    ENSG00000110092           1  \n",
       "...                                                                        ...  \n",
       "20002_1066-Noncancer_illness_code_selfreported_... ENSG00000010803           0  \n",
       "20002_1065-Noncancer_illness_code_selfreported_... ENSG00000284526           0  \n",
       "                                                   ENSG00000283992           0  \n",
       "                                                   ENSG00000283787           0  \n",
       "                                                   ENSG00000283439           0  \n",
       "20002_1066-Noncancer_illness_code_selfreported_... ENSG00000179862           0  \n",
       "20002_1065-Noncancer_illness_code_selfreported_... ENSG00000283154           0  \n",
       "                                                   ENSG00000282936           0  \n",
       "                                                   ENSG00000282872           0  \n",
       "                                                   ENSG00000282608           0  \n",
       "                                                   ENSG00000281991           0  \n",
       "                                                   ENSG00000280789           0  \n",
       "20002_1066-Noncancer_illness_code_selfreported_... ENSG00000066136           0  \n",
       "                                                   ENSG00000084070           0  \n",
       "                                                   ENSG00000084072           0  \n",
       "                                                   ENSG00000116985           0  \n",
       "                                                   ENSG00000116990           0  \n",
       "                                                   ENSG00000117000           0  \n",
       "                                                   ENSG00000117010           0  \n",
       "                                                   ENSG00000117013           0  \n",
       "                                                   ENSG00000117016           0  \n",
       "                                                   ENSG00000127124           0  \n",
       "                                                   ENSG00000127129           0  \n",
       "                                                   ENSG00000131236           0  \n",
       "                                                   ENSG00000131238           0  \n",
       "                                                   ENSG00000164002           0  \n",
       "                                                   ENSG00000168389           0  \n",
       "                                                   ENSG00000171790           0  \n",
       "                                                   ENSG00000171793           0  \n",
       "Z34-Diagnoses_main_ICD10_Z34_Supervision_of_nor... ENSG00000225526           0  \n",
       "\n",
       "[18330 rows x 3 columns]"
      ]
     },
     "execution_count": 89,
     "metadata": {},
     "output_type": "execute_result"
    }
   ],
   "source": [
    "selected_predixcan_classifier_df.sort_values(['true_class'], ascending=[False])"
   ]
  },
  {
   "cell_type": "markdown",
   "metadata": {},
   "source": [
    "# Save classifier table"
   ]
  },
  {
   "cell_type": "code",
   "execution_count": 103,
   "metadata": {},
   "outputs": [
    {
     "data": {
      "text/html": [
       "<div>\n",
       "<style scoped>\n",
       "    .dataframe tbody tr th:only-of-type {\n",
       "        vertical-align: middle;\n",
       "    }\n",
       "\n",
       "    .dataframe tbody tr th {\n",
       "        vertical-align: top;\n",
       "    }\n",
       "\n",
       "    .dataframe thead th {\n",
       "        text-align: right;\n",
       "    }\n",
       "</style>\n",
       "<table border=\"1\" class=\"dataframe\">\n",
       "  <thead>\n",
       "    <tr style=\"text-align: right;\">\n",
       "      <th></th>\n",
       "      <th></th>\n",
       "      <th>score</th>\n",
       "      <th>predicted_class</th>\n",
       "      <th>true_class</th>\n",
       "    </tr>\n",
       "    <tr>\n",
       "      <th>ukb_efo</th>\n",
       "      <th>gene</th>\n",
       "      <th></th>\n",
       "      <th></th>\n",
       "      <th></th>\n",
       "    </tr>\n",
       "  </thead>\n",
       "  <tbody>\n",
       "    <tr>\n",
       "      <th rowspan=\"5\" valign=\"top\">1200-Sleeplessness_insomnia</th>\n",
       "      <th>ENSG00000001617</th>\n",
       "      <td>5.467206</td>\n",
       "      <td>1</td>\n",
       "      <td>0</td>\n",
       "    </tr>\n",
       "    <tr>\n",
       "      <th>ENSG00000003756</th>\n",
       "      <td>5.163661</td>\n",
       "      <td>0</td>\n",
       "      <td>0</td>\n",
       "    </tr>\n",
       "    <tr>\n",
       "      <th>ENSG00000004534</th>\n",
       "      <td>5.500549</td>\n",
       "      <td>1</td>\n",
       "      <td>0</td>\n",
       "    </tr>\n",
       "    <tr>\n",
       "      <th>ENSG00000004838</th>\n",
       "      <td>0.882240</td>\n",
       "      <td>0</td>\n",
       "      <td>0</td>\n",
       "    </tr>\n",
       "    <tr>\n",
       "      <th>ENSG00000004897</th>\n",
       "      <td>0.150213</td>\n",
       "      <td>0</td>\n",
       "      <td>0</td>\n",
       "    </tr>\n",
       "  </tbody>\n",
       "</table>\n",
       "</div>"
      ],
      "text/plain": [
       "                                                score  predicted_class  \\\n",
       "ukb_efo                     gene                                         \n",
       "1200-Sleeplessness_insomnia ENSG00000001617  5.467206                1   \n",
       "                            ENSG00000003756  5.163661                0   \n",
       "                            ENSG00000004534  5.500549                1   \n",
       "                            ENSG00000004838  0.882240                0   \n",
       "                            ENSG00000004897  0.150213                0   \n",
       "\n",
       "                                             true_class  \n",
       "ukb_efo                     gene                         \n",
       "1200-Sleeplessness_insomnia ENSG00000001617           0  \n",
       "                            ENSG00000003756           0  \n",
       "                            ENSG00000004534           0  \n",
       "                            ENSG00000004838           0  \n",
       "                            ENSG00000004897           0  "
      ]
     },
     "execution_count": 103,
     "metadata": {},
     "output_type": "execute_result"
    }
   ],
   "source": [
    "selected_predixcan_classifier_df.head()"
   ]
  },
  {
   "cell_type": "code",
   "execution_count": 104,
   "metadata": {},
   "outputs": [
    {
     "data": {
      "text/plain": [
       "(18330, 3)"
      ]
     },
     "execution_count": 104,
     "metadata": {},
     "output_type": "execute_result"
    }
   ],
   "source": [
    "selected_predixcan_classifier_df.shape"
   ]
  },
  {
   "cell_type": "code",
   "execution_count": 105,
   "metadata": {},
   "outputs": [],
   "source": [
    "selected_predixcan_classifier_df.to_csv(\n",
    "    os.path.join(output_dir, 'smultixcan-en_not_fixed-classifier_data.tsv.gz'),\n",
    "    sep='\\t', index=False\n",
    ")"
   ]
  },
  {
   "cell_type": "code",
   "execution_count": null,
   "metadata": {},
   "outputs": [],
   "source": []
  }
 ],
 "metadata": {
  "kernelspec": {
   "display_name": "Python 3",
   "language": "python",
   "name": "python3"
  },
  "language_info": {
   "codemirror_mode": {
    "name": "ipython",
    "version": 3
   },
   "file_extension": ".py",
   "mimetype": "text/x-python",
   "name": "python",
   "nbconvert_exporter": "python",
   "pygments_lexer": "ipython3",
   "version": "3.7.3"
  }
 },
 "nbformat": 4,
 "nbformat_minor": 4
}
