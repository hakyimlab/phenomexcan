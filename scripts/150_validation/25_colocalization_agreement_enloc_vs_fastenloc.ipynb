{
 "cells": [
  {
   "cell_type": "code",
   "execution_count": 1,
   "metadata": {},
   "outputs": [],
   "source": [
    "%load_ext autoreload\n",
    "%autoreload 2"
   ]
  },
  {
   "cell_type": "code",
   "execution_count": 2,
   "metadata": {},
   "outputs": [],
   "source": [
    "import os\n",
    "import pickle\n",
    "from glob import glob\n",
    "\n",
    "import numpy as np\n",
    "import pandas as pd\n",
    "\n",
    "import settings as conf\n",
    "import metadata"
   ]
  },
  {
   "cell_type": "markdown",
   "metadata": {},
   "source": [
    "# Figures path"
   ]
  },
  {
   "cell_type": "code",
   "execution_count": 3,
   "metadata": {},
   "outputs": [],
   "source": [
    "figures_path = os.path.join(conf.DELIVERABLES_DIR, 'figures')\n",
    "os.makedirs(figures_path, exist_ok=True)"
   ]
  },
  {
   "cell_type": "markdown",
   "metadata": {},
   "source": [
    "# Load gene mappings"
   ]
  },
  {
   "cell_type": "code",
   "execution_count": 4,
   "metadata": {},
   "outputs": [],
   "source": [
    "with open(os.path.join(conf.GENES_METADATA_DIR, 'genes_mapping_simplified-0.pkl'), 'rb') as f:\n",
    "    genes_mapping_0 = pickle.load(f)\n",
    "\n",
    "with open(os.path.join(conf.GENES_METADATA_DIR, 'genes_mapping_simplified-1.pkl'), 'rb') as f:\n",
    "    genes_mapping_1 = pickle.load(f)"
   ]
  },
  {
   "cell_type": "markdown",
   "metadata": {},
   "source": [
    "# Load S-MultiXcan results"
   ]
  },
  {
   "cell_type": "code",
   "execution_count": 5,
   "metadata": {},
   "outputs": [
    {
     "data": {
      "text/plain": [
       "'/mnt/phenomexcan_base/gene_assoc/smultixcan-mashr-pvalues.pkl.xz'"
      ]
     },
     "metadata": {},
     "output_type": "display_data"
    }
   ],
   "source": [
    "spredixcan_genes_associations_filename = os.path.join(conf.GENE_ASSOC_DIR, 'smultixcan-mashr-pvalues.pkl.xz')\n",
    "display(spredixcan_genes_associations_filename)\n",
    "\n",
    "spredixcan_genes_associations = pd.read_pickle(spredixcan_genes_associations_filename)"
   ]
  },
  {
   "cell_type": "code",
   "execution_count": 6,
   "metadata": {},
   "outputs": [
    {
     "data": {
      "text/plain": [
       "(22515, 4091)"
      ]
     },
     "execution_count": 6,
     "metadata": {},
     "output_type": "execute_result"
    }
   ],
   "source": [
    "spredixcan_genes_associations.shape"
   ]
  },
  {
   "cell_type": "code",
   "execution_count": 7,
   "metadata": {},
   "outputs": [
    {
     "data": {
      "text/html": [
       "<div>\n",
       "<style scoped>\n",
       "    .dataframe tbody tr th:only-of-type {\n",
       "        vertical-align: middle;\n",
       "    }\n",
       "\n",
       "    .dataframe tbody tr th {\n",
       "        vertical-align: top;\n",
       "    }\n",
       "\n",
       "    .dataframe thead th {\n",
       "        text-align: right;\n",
       "    }\n",
       "</style>\n",
       "<table border=\"1\" class=\"dataframe\">\n",
       "  <thead>\n",
       "    <tr style=\"text-align: right;\">\n",
       "      <th></th>\n",
       "      <th>20096_1-Size_of_red_wine_glass_drunk_small_125ml</th>\n",
       "      <th>2345-Ever_had_bowel_cancer_screening</th>\n",
       "      <th>N49-Diagnoses_main_ICD10_N49_Inflammatory_disorders_of_male_genital_organs_not_elsewhere_classified</th>\n",
       "      <th>100011_raw-Iron</th>\n",
       "      <th>5221-Index_of_best_refractometry_result_right</th>\n",
       "      <th>20003_1141150624-Treatmentmedication_code_zomig_25mg_tablet</th>\n",
       "      <th>S69-Diagnoses_main_ICD10_S69_Other_and_unspecified_injuries_of_wrist_and_hand</th>\n",
       "      <th>20024_1136-Job_code_deduced_Information_and_communication_technology_managers</th>\n",
       "      <th>20002_1385-Noncancer_illness_code_selfreported_allergy_or_anaphylactic_reaction_to_food</th>\n",
       "      <th>G6_SLEEPAPNO-Sleep_apnoea</th>\n",
       "      <th>...</th>\n",
       "      <th>Astle_et_al_2016_Sum_basophil_neutrophil_counts</th>\n",
       "      <th>RA_OKADA_TRANS_ETHNIC</th>\n",
       "      <th>pgc.scz2</th>\n",
       "      <th>PGC_ADHD_EUR_2017</th>\n",
       "      <th>MAGIC_FastingGlucose</th>\n",
       "      <th>Astle_et_al_2016_Red_blood_cell_count</th>\n",
       "      <th>SSGAC_Depressive_Symptoms</th>\n",
       "      <th>BCAC_ER_positive_BreastCancer_EUR</th>\n",
       "      <th>IBD.EUR.Inflammatory_Bowel_Disease</th>\n",
       "      <th>Astle_et_al_2016_High_light_scatter_reticulocyte_count</th>\n",
       "    </tr>\n",
       "    <tr>\n",
       "      <th>gene_name</th>\n",
       "      <th></th>\n",
       "      <th></th>\n",
       "      <th></th>\n",
       "      <th></th>\n",
       "      <th></th>\n",
       "      <th></th>\n",
       "      <th></th>\n",
       "      <th></th>\n",
       "      <th></th>\n",
       "      <th></th>\n",
       "      <th></th>\n",
       "      <th></th>\n",
       "      <th></th>\n",
       "      <th></th>\n",
       "      <th></th>\n",
       "      <th></th>\n",
       "      <th></th>\n",
       "      <th></th>\n",
       "      <th></th>\n",
       "      <th></th>\n",
       "      <th></th>\n",
       "    </tr>\n",
       "  </thead>\n",
       "  <tbody>\n",
       "    <tr>\n",
       "      <th>ENSG00000000419</th>\n",
       "      <td>0.865429</td>\n",
       "      <td>0.918314</td>\n",
       "      <td>0.810683</td>\n",
       "      <td>0.374671</td>\n",
       "      <td>0.189032</td>\n",
       "      <td>0.140981</td>\n",
       "      <td>0.467741</td>\n",
       "      <td>0.129427</td>\n",
       "      <td>0.193680</td>\n",
       "      <td>0.285479</td>\n",
       "      <td>...</td>\n",
       "      <td>0.416210</td>\n",
       "      <td>0.782554</td>\n",
       "      <td>0.609467</td>\n",
       "      <td>0.980281</td>\n",
       "      <td>0.666504</td>\n",
       "      <td>0.409761</td>\n",
       "      <td>0.713310</td>\n",
       "      <td>0.168319</td>\n",
       "      <td>0.460244</td>\n",
       "      <td>0.765506</td>\n",
       "    </tr>\n",
       "    <tr>\n",
       "      <th>ENSG00000000457</th>\n",
       "      <td>0.174192</td>\n",
       "      <td>0.064765</td>\n",
       "      <td>0.889194</td>\n",
       "      <td>0.896938</td>\n",
       "      <td>0.448596</td>\n",
       "      <td>0.269602</td>\n",
       "      <td>0.540261</td>\n",
       "      <td>0.068405</td>\n",
       "      <td>0.041813</td>\n",
       "      <td>0.313427</td>\n",
       "      <td>...</td>\n",
       "      <td>0.149360</td>\n",
       "      <td>0.512603</td>\n",
       "      <td>0.010907</td>\n",
       "      <td>0.228982</td>\n",
       "      <td>0.607081</td>\n",
       "      <td>0.812484</td>\n",
       "      <td>0.678749</td>\n",
       "      <td>0.918971</td>\n",
       "      <td>0.311187</td>\n",
       "      <td>0.344574</td>\n",
       "    </tr>\n",
       "    <tr>\n",
       "      <th>ENSG00000000460</th>\n",
       "      <td>0.879969</td>\n",
       "      <td>0.240715</td>\n",
       "      <td>0.238228</td>\n",
       "      <td>0.567555</td>\n",
       "      <td>0.921320</td>\n",
       "      <td>0.825036</td>\n",
       "      <td>0.782230</td>\n",
       "      <td>0.644525</td>\n",
       "      <td>0.392273</td>\n",
       "      <td>0.840014</td>\n",
       "      <td>...</td>\n",
       "      <td>0.503520</td>\n",
       "      <td>0.764147</td>\n",
       "      <td>0.587969</td>\n",
       "      <td>0.301460</td>\n",
       "      <td>0.629621</td>\n",
       "      <td>0.486664</td>\n",
       "      <td>0.736509</td>\n",
       "      <td>0.933600</td>\n",
       "      <td>0.000477</td>\n",
       "      <td>0.321223</td>\n",
       "    </tr>\n",
       "    <tr>\n",
       "      <th>ENSG00000000938</th>\n",
       "      <td>0.192670</td>\n",
       "      <td>0.400054</td>\n",
       "      <td>0.114353</td>\n",
       "      <td>0.470700</td>\n",
       "      <td>0.889202</td>\n",
       "      <td>0.000011</td>\n",
       "      <td>0.899764</td>\n",
       "      <td>0.212352</td>\n",
       "      <td>0.829671</td>\n",
       "      <td>0.372348</td>\n",
       "      <td>...</td>\n",
       "      <td>0.899212</td>\n",
       "      <td>0.961678</td>\n",
       "      <td>0.059247</td>\n",
       "      <td>0.588855</td>\n",
       "      <td>0.898525</td>\n",
       "      <td>0.135045</td>\n",
       "      <td>0.954998</td>\n",
       "      <td>0.088220</td>\n",
       "      <td>0.176497</td>\n",
       "      <td>0.304281</td>\n",
       "    </tr>\n",
       "    <tr>\n",
       "      <th>ENSG00000000971</th>\n",
       "      <td>0.180632</td>\n",
       "      <td>0.793060</td>\n",
       "      <td>0.490585</td>\n",
       "      <td>0.088752</td>\n",
       "      <td>0.744531</td>\n",
       "      <td>0.949639</td>\n",
       "      <td>0.253817</td>\n",
       "      <td>0.377408</td>\n",
       "      <td>0.971655</td>\n",
       "      <td>0.070266</td>\n",
       "      <td>...</td>\n",
       "      <td>0.390618</td>\n",
       "      <td>0.093824</td>\n",
       "      <td>0.020391</td>\n",
       "      <td>0.109883</td>\n",
       "      <td>0.870551</td>\n",
       "      <td>0.995450</td>\n",
       "      <td>0.002660</td>\n",
       "      <td>0.421588</td>\n",
       "      <td>0.656851</td>\n",
       "      <td>0.868416</td>\n",
       "    </tr>\n",
       "  </tbody>\n",
       "</table>\n",
       "<p>5 rows × 4091 columns</p>\n",
       "</div>"
      ],
      "text/plain": [
       "                 20096_1-Size_of_red_wine_glass_drunk_small_125ml  \\\n",
       "gene_name                                                           \n",
       "ENSG00000000419                                          0.865429   \n",
       "ENSG00000000457                                          0.174192   \n",
       "ENSG00000000460                                          0.879969   \n",
       "ENSG00000000938                                          0.192670   \n",
       "ENSG00000000971                                          0.180632   \n",
       "\n",
       "                 2345-Ever_had_bowel_cancer_screening  \\\n",
       "gene_name                                               \n",
       "ENSG00000000419                              0.918314   \n",
       "ENSG00000000457                              0.064765   \n",
       "ENSG00000000460                              0.240715   \n",
       "ENSG00000000938                              0.400054   \n",
       "ENSG00000000971                              0.793060   \n",
       "\n",
       "                 N49-Diagnoses_main_ICD10_N49_Inflammatory_disorders_of_male_genital_organs_not_elsewhere_classified  \\\n",
       "gene_name                                                                                                              \n",
       "ENSG00000000419                                           0.810683                                                     \n",
       "ENSG00000000457                                           0.889194                                                     \n",
       "ENSG00000000460                                           0.238228                                                     \n",
       "ENSG00000000938                                           0.114353                                                     \n",
       "ENSG00000000971                                           0.490585                                                     \n",
       "\n",
       "                 100011_raw-Iron  \\\n",
       "gene_name                          \n",
       "ENSG00000000419         0.374671   \n",
       "ENSG00000000457         0.896938   \n",
       "ENSG00000000460         0.567555   \n",
       "ENSG00000000938         0.470700   \n",
       "ENSG00000000971         0.088752   \n",
       "\n",
       "                 5221-Index_of_best_refractometry_result_right  \\\n",
       "gene_name                                                        \n",
       "ENSG00000000419                                       0.189032   \n",
       "ENSG00000000457                                       0.448596   \n",
       "ENSG00000000460                                       0.921320   \n",
       "ENSG00000000938                                       0.889202   \n",
       "ENSG00000000971                                       0.744531   \n",
       "\n",
       "                 20003_1141150624-Treatmentmedication_code_zomig_25mg_tablet  \\\n",
       "gene_name                                                                      \n",
       "ENSG00000000419                                           0.140981             \n",
       "ENSG00000000457                                           0.269602             \n",
       "ENSG00000000460                                           0.825036             \n",
       "ENSG00000000938                                           0.000011             \n",
       "ENSG00000000971                                           0.949639             \n",
       "\n",
       "                 S69-Diagnoses_main_ICD10_S69_Other_and_unspecified_injuries_of_wrist_and_hand  \\\n",
       "gene_name                                                                                        \n",
       "ENSG00000000419                                           0.467741                               \n",
       "ENSG00000000457                                           0.540261                               \n",
       "ENSG00000000460                                           0.782230                               \n",
       "ENSG00000000938                                           0.899764                               \n",
       "ENSG00000000971                                           0.253817                               \n",
       "\n",
       "                 20024_1136-Job_code_deduced_Information_and_communication_technology_managers  \\\n",
       "gene_name                                                                                        \n",
       "ENSG00000000419                                           0.129427                               \n",
       "ENSG00000000457                                           0.068405                               \n",
       "ENSG00000000460                                           0.644525                               \n",
       "ENSG00000000938                                           0.212352                               \n",
       "ENSG00000000971                                           0.377408                               \n",
       "\n",
       "                 20002_1385-Noncancer_illness_code_selfreported_allergy_or_anaphylactic_reaction_to_food  \\\n",
       "gene_name                                                                                                  \n",
       "ENSG00000000419                                           0.193680                                         \n",
       "ENSG00000000457                                           0.041813                                         \n",
       "ENSG00000000460                                           0.392273                                         \n",
       "ENSG00000000938                                           0.829671                                         \n",
       "ENSG00000000971                                           0.971655                                         \n",
       "\n",
       "                 G6_SLEEPAPNO-Sleep_apnoea  ...  \\\n",
       "gene_name                                   ...   \n",
       "ENSG00000000419                   0.285479  ...   \n",
       "ENSG00000000457                   0.313427  ...   \n",
       "ENSG00000000460                   0.840014  ...   \n",
       "ENSG00000000938                   0.372348  ...   \n",
       "ENSG00000000971                   0.070266  ...   \n",
       "\n",
       "                 Astle_et_al_2016_Sum_basophil_neutrophil_counts  \\\n",
       "gene_name                                                          \n",
       "ENSG00000000419                                         0.416210   \n",
       "ENSG00000000457                                         0.149360   \n",
       "ENSG00000000460                                         0.503520   \n",
       "ENSG00000000938                                         0.899212   \n",
       "ENSG00000000971                                         0.390618   \n",
       "\n",
       "                 RA_OKADA_TRANS_ETHNIC  pgc.scz2  PGC_ADHD_EUR_2017  \\\n",
       "gene_name                                                             \n",
       "ENSG00000000419               0.782554  0.609467           0.980281   \n",
       "ENSG00000000457               0.512603  0.010907           0.228982   \n",
       "ENSG00000000460               0.764147  0.587969           0.301460   \n",
       "ENSG00000000938               0.961678  0.059247           0.588855   \n",
       "ENSG00000000971               0.093824  0.020391           0.109883   \n",
       "\n",
       "                 MAGIC_FastingGlucose  Astle_et_al_2016_Red_blood_cell_count  \\\n",
       "gene_name                                                                      \n",
       "ENSG00000000419              0.666504                               0.409761   \n",
       "ENSG00000000457              0.607081                               0.812484   \n",
       "ENSG00000000460              0.629621                               0.486664   \n",
       "ENSG00000000938              0.898525                               0.135045   \n",
       "ENSG00000000971              0.870551                               0.995450   \n",
       "\n",
       "                 SSGAC_Depressive_Symptoms  BCAC_ER_positive_BreastCancer_EUR  \\\n",
       "gene_name                                                                       \n",
       "ENSG00000000419                   0.713310                           0.168319   \n",
       "ENSG00000000457                   0.678749                           0.918971   \n",
       "ENSG00000000460                   0.736509                           0.933600   \n",
       "ENSG00000000938                   0.954998                           0.088220   \n",
       "ENSG00000000971                   0.002660                           0.421588   \n",
       "\n",
       "                 IBD.EUR.Inflammatory_Bowel_Disease  \\\n",
       "gene_name                                             \n",
       "ENSG00000000419                            0.460244   \n",
       "ENSG00000000457                            0.311187   \n",
       "ENSG00000000460                            0.000477   \n",
       "ENSG00000000938                            0.176497   \n",
       "ENSG00000000971                            0.656851   \n",
       "\n",
       "                 Astle_et_al_2016_High_light_scatter_reticulocyte_count  \n",
       "gene_name                                                                \n",
       "ENSG00000000419                                           0.765506       \n",
       "ENSG00000000457                                           0.344574       \n",
       "ENSG00000000460                                           0.321223       \n",
       "ENSG00000000938                                           0.304281       \n",
       "ENSG00000000971                                           0.868416       \n",
       "\n",
       "[5 rows x 4091 columns]"
      ]
     },
     "execution_count": 7,
     "metadata": {},
     "output_type": "execute_result"
    }
   ],
   "source": [
    "spredixcan_genes_associations.head(5)"
   ]
  },
  {
   "cell_type": "markdown",
   "metadata": {},
   "source": [
    "# Tissues"
   ]
  },
  {
   "cell_type": "code",
   "execution_count": 8,
   "metadata": {},
   "outputs": [],
   "source": [
    "with open(conf.FASTENLOC_GTEX_TISSUES_FILE, 'r') as f:\n",
    "    FASTENLOC_TISSUES_NAMES = set([x.strip() for x in f.readlines()])"
   ]
  },
  {
   "cell_type": "code",
   "execution_count": 9,
   "metadata": {},
   "outputs": [],
   "source": [
    "assert len(FASTENLOC_TISSUES_NAMES) == 49"
   ]
  },
  {
   "cell_type": "code",
   "execution_count": 10,
   "metadata": {},
   "outputs": [
    {
     "data": {
      "text/plain": [
       "{'Adipose_Subcutaneous',\n",
       " 'Adipose_Visceral_Omentum',\n",
       " 'Adrenal_Gland',\n",
       " 'Artery_Aorta',\n",
       " 'Artery_Coronary',\n",
       " 'Artery_Tibial',\n",
       " 'Brain_Amygdala',\n",
       " 'Brain_Anterior_cingulate_cortex_BA24',\n",
       " 'Brain_Caudate_basal_ganglia',\n",
       " 'Brain_Cerebellar_Hemisphere',\n",
       " 'Brain_Cerebellum',\n",
       " 'Brain_Cortex',\n",
       " 'Brain_Frontal_Cortex_BA9',\n",
       " 'Brain_Hippocampus',\n",
       " 'Brain_Hypothalamus',\n",
       " 'Brain_Nucleus_accumbens_basal_ganglia',\n",
       " 'Brain_Putamen_basal_ganglia',\n",
       " 'Brain_Spinal_cord_cervical_c-1',\n",
       " 'Brain_Substantia_nigra',\n",
       " 'Breast_Mammary_Tissue',\n",
       " 'Cells_Cultured_fibroblasts',\n",
       " 'Cells_EBV-transformed_lymphocytes',\n",
       " 'Colon_Sigmoid',\n",
       " 'Colon_Transverse',\n",
       " 'Esophagus_Gastroesophageal_Junction',\n",
       " 'Esophagus_Mucosa',\n",
       " 'Esophagus_Muscularis',\n",
       " 'Heart_Atrial_Appendage',\n",
       " 'Heart_Left_Ventricle',\n",
       " 'Kidney_Cortex',\n",
       " 'Liver',\n",
       " 'Lung',\n",
       " 'Minor_Salivary_Gland',\n",
       " 'Muscle_Skeletal',\n",
       " 'Nerve_Tibial',\n",
       " 'Ovary',\n",
       " 'Pancreas',\n",
       " 'Pituitary',\n",
       " 'Prostate',\n",
       " 'Skin_Not_Sun_Exposed',\n",
       " 'Skin_Sun_Exposed',\n",
       " 'Small_Intestine_Terminal_Ileum',\n",
       " 'Spleen',\n",
       " 'Stomach',\n",
       " 'Testis',\n",
       " 'Thyroid',\n",
       " 'Uterus',\n",
       " 'Vagina',\n",
       " 'Whole_Blood'}"
      ]
     },
     "execution_count": 10,
     "metadata": {},
     "output_type": "execute_result"
    }
   ],
   "source": [
    "FASTENLOC_TISSUES_NAMES"
   ]
  },
  {
   "cell_type": "markdown",
   "metadata": {},
   "source": [
    "# Functions"
   ]
  },
  {
   "cell_type": "raw",
   "metadata": {},
   "source": [
    "parallel -j4 'zcat {} | grep ENSG00000049246' ::: fastenloc-1180-*.gz | column -t | sort -k6 -g"
   ]
  },
  {
   "cell_type": "code",
   "execution_count": 11,
   "metadata": {},
   "outputs": [],
   "source": [
    "from glob import glob"
   ]
  },
  {
   "cell_type": "code",
   "execution_count": 12,
   "metadata": {},
   "outputs": [],
   "source": [
    "from scipy import stats\n",
    "import matplotlib.pyplot as plt\n",
    "import seaborn as sns\n",
    "\n",
    "import plots"
   ]
  },
  {
   "cell_type": "code",
   "execution_count": 13,
   "metadata": {},
   "outputs": [],
   "source": [
    "def create_df_plot(fastenloc_results, enloc_results):\n",
    "    fastenloc_results = fastenloc_results.unstack()\n",
    "    enloc_results = enloc_results.unstack()\n",
    "    \n",
    "    common_index = fastenloc_results.index.intersection(enloc_results.index)\n",
    "    \n",
    "    df = pd.DataFrame(data={'ENLOC': enloc_results, 'fastENLOC': fastenloc_results}, index=common_index)\n",
    "    \n",
    "    return df.dropna()"
   ]
  },
  {
   "cell_type": "markdown",
   "metadata": {},
   "source": [
    "## Read ENLOC data"
   ]
  },
  {
   "cell_type": "code",
   "execution_count": 14,
   "metadata": {},
   "outputs": [],
   "source": [
    "ENLOC_RUNS_DIR = os.path.join(conf.MISC_RESULTS_BASE_DIR, 'enloc-selected_traits')"
   ]
  },
  {
   "cell_type": "code",
   "execution_count": 15,
   "metadata": {},
   "outputs": [],
   "source": [
    "def read_enloc(phenotype, tissue):\n",
    "    enloc_filename = f'{phenotype}__PM__{tissue}.enloc.rst.gz'\n",
    "    enloc_result_path = os.path.join(ENLOC_RUNS_DIR, phenotype, enloc_filename)\n",
    "    \n",
    "    enloc_result = pd.read_csv(enloc_result_path, sep='\\s+')\n",
    "    enloc_result = enloc_result.assign(gene_id=enloc_result['molecular_qtl_trait'].apply(lambda x: x.split('.')[0]))\n",
    "    \n",
    "    return enloc_result.groupby('gene_id')['locus_rcp'].max().rename(tissue)\n",
    "\n",
    "def read_enloc_all_tissues(phenotype_code):\n",
    "    all_tissues_data = {}\n",
    "    for tissue in FASTENLOC_TISSUES_NAMES:\n",
    "        if tissue.startswith('Skin_'):\n",
    "            continue\n",
    "        all_tissues_data[tissue] = read_enloc(phenotype_code, tissue)\n",
    "    \n",
    "    return pd.DataFrame(all_tissues_data)"
   ]
  },
  {
   "cell_type": "markdown",
   "metadata": {},
   "source": [
    "## Read fastENLOC data"
   ]
  },
  {
   "cell_type": "code",
   "execution_count": 16,
   "metadata": {},
   "outputs": [],
   "source": [
    "FASTENLOC_DIR = conf.FASTENLOC_RESULTS_DIR['RapidGWASProject']"
   ]
  },
  {
   "cell_type": "code",
   "execution_count": 17,
   "metadata": {},
   "outputs": [],
   "source": [
    "def read_fe(phenotype_code, tissue, rename_genes=False):\n",
    "    filename = f'fastenloc-{phenotype_code}-{tissue}.enloc.sig.out'\n",
    "    filepath = os.path.join(FASTENLOC_DIR, phenotype_code, filename)\n",
    "    \n",
    "    fe_data = pd.read_csv(filepath, sep='\\s+', usecols=[0, 5], header=None).rename(columns={0: 'gene_cluster', 5: 'rcp'})\n",
    "    fe_data = fe_data = fe_data.assign(gene=fe_data['gene_cluster'].apply(lambda x: x.split(':')[0])) \n",
    "    fe_data = fe_data.assign(gene_cluster=fe_data['gene_cluster'].apply(lambda x: x.split(':')[1]))\n",
    "    \n",
    "    # FIXME: is it correct to sum across clusters of a gene? or pick max? Haky thinks summing is fine.\n",
    "    fe_max = fe_data.groupby('gene')['rcp'].sum()\n",
    "    #fe_max = fe_max.loc[fe_max.index.intersection(all_gene_ids)]\n",
    "    if rename_genes:\n",
    "        fe_max = fe_max.rename(index=genes_mapping_0)\n",
    "    \n",
    "    return fe_max.rename(tissue)\n",
    "\n",
    "def read_fe_all_tissues(phenotype_code, rename_genes=False):\n",
    "    all_tissues_data = {}\n",
    "    for tissue in FASTENLOC_TISSUES_NAMES:\n",
    "        if tissue.startswith('Skin_'):\n",
    "            continue\n",
    "        all_tissues_data[tissue] = read_fe(phenotype_code, tissue, rename_genes)\n",
    "    \n",
    "    return pd.DataFrame(all_tissues_data)\n",
    "\n",
    "def read_pheno(pheno, df): \n",
    "    _tmp = df[df['pheno'] == pheno] \n",
    "    if _tmp.shape[0] == 0: \n",
    "        return None \n",
    "     \n",
    "    _res = {} \n",
    "    _all_genes = set() \n",
    "    for idx, _data in _tmp.iterrows(): \n",
    "        #print(_data.tissue) \n",
    "         \n",
    "        tissue_data = read_fe(_data.file) \n",
    "        _res[_data.tissue] = tissue_data \n",
    "        _all_genes.update(tissue_data.index) \n",
    "    \n",
    "    return pd.DataFrame(_res, index=_all_genes).fillna(-1).max(axis=1)"
   ]
  },
  {
   "cell_type": "code",
   "execution_count": 18,
   "metadata": {
    "papermill": {
     "duration": 39.960746,
     "end_time": "2020-01-01T14:42:46.876541",
     "exception": false,
     "start_time": "2020-01-01T14:42:06.915795",
     "status": "completed"
    },
    "tags": []
   },
   "outputs": [
    {
     "data": {
      "text/plain": [
       "'/mnt/phenomexcan_base/results/fastenloc/rapid_gwas_project/**/*.enloc.sig.out'"
      ]
     },
     "metadata": {},
     "output_type": "display_data"
    }
   ],
   "source": [
    "# create summary of files\n",
    "_path = os.path.join(conf.FASTENLOC_RESULTS_DIR['RapidGWASProject'], '**/*.enloc.sig.out')\n",
    "display(_path)\n",
    "all_fastenloc_results_files = glob(_path)"
   ]
  },
  {
   "cell_type": "code",
   "execution_count": 19,
   "metadata": {
    "papermill": {
     "duration": 0.118879,
     "end_time": "2020-01-01T14:42:47.074110",
     "exception": false,
     "start_time": "2020-01-01T14:42:46.955231",
     "status": "completed"
    },
    "tags": []
   },
   "outputs": [
    {
     "data": {
      "text/plain": [
       "198401"
      ]
     },
     "execution_count": 19,
     "metadata": {},
     "output_type": "execute_result"
    }
   ],
   "source": [
    "len(all_fastenloc_results_files)"
   ]
  },
  {
   "cell_type": "code",
   "execution_count": 20,
   "metadata": {
    "papermill": {
     "duration": 0.096255,
     "end_time": "2020-01-01T14:42:47.250129",
     "exception": false,
     "start_time": "2020-01-01T14:42:47.153874",
     "status": "completed"
    },
    "tags": []
   },
   "outputs": [],
   "source": [
    "PHENO_CODES = set(metadata.RAPID_GWAS_PHENO_INFO.index)"
   ]
  },
  {
   "cell_type": "code",
   "execution_count": 21,
   "metadata": {
    "papermill": {
     "duration": 0.107366,
     "end_time": "2020-01-01T14:42:47.434820",
     "exception": false,
     "start_time": "2020-01-01T14:42:47.327454",
     "status": "completed"
    },
    "tags": []
   },
   "outputs": [
    {
     "data": {
      "text/plain": [
       "4359"
      ]
     },
     "execution_count": 21,
     "metadata": {},
     "output_type": "execute_result"
    }
   ],
   "source": [
    "len(PHENO_CODES)"
   ]
  },
  {
   "cell_type": "code",
   "execution_count": 22,
   "metadata": {
    "papermill": {
     "duration": 1.115712,
     "end_time": "2020-01-01T14:42:48.625360",
     "exception": false,
     "start_time": "2020-01-01T14:42:47.509648",
     "status": "completed"
    },
    "tags": []
   },
   "outputs": [],
   "source": [
    "phenos = []\n",
    "tissues = []\n",
    "\n",
    "for f in all_fastenloc_results_files:\n",
    "    f = os.path.basename(f)\n",
    "    split = f.split('-')\n",
    "    \n",
    "    tiss = split[-1].split('.')[0]\n",
    "    if tiss not in FASTENLOC_TISSUES_NAMES:\n",
    "        tiss = '-'.join(split[-2:]).split('.')[0]\n",
    "    \n",
    "    phen = split[1]\n",
    "    if phen not in PHENO_CODES:\n",
    "        phen = '-'.join(split[1:3])\n",
    "    \n",
    "    phenos.append(phen)\n",
    "    tissues.append(tiss)\n",
    "\n",
    "results_summary = pd.DataFrame({'pheno': phenos, 'tissue': tissues, 'file': all_fastenloc_results_files})"
   ]
  },
  {
   "cell_type": "code",
   "execution_count": 23,
   "metadata": {},
   "outputs": [
    {
     "data": {
      "text/plain": [
       "(198401, 3)"
      ]
     },
     "execution_count": 23,
     "metadata": {},
     "output_type": "execute_result"
    }
   ],
   "source": [
    "results_summary.shape"
   ]
  },
  {
   "cell_type": "code",
   "execution_count": 24,
   "metadata": {},
   "outputs": [
    {
     "data": {
      "text/html": [
       "<div>\n",
       "<style scoped>\n",
       "    .dataframe tbody tr th:only-of-type {\n",
       "        vertical-align: middle;\n",
       "    }\n",
       "\n",
       "    .dataframe tbody tr th {\n",
       "        vertical-align: top;\n",
       "    }\n",
       "\n",
       "    .dataframe thead th {\n",
       "        text-align: right;\n",
       "    }\n",
       "</style>\n",
       "<table border=\"1\" class=\"dataframe\">\n",
       "  <thead>\n",
       "    <tr style=\"text-align: right;\">\n",
       "      <th></th>\n",
       "      <th>pheno</th>\n",
       "      <th>tissue</th>\n",
       "      <th>file</th>\n",
       "    </tr>\n",
       "  </thead>\n",
       "  <tbody>\n",
       "    <tr>\n",
       "      <th>0</th>\n",
       "      <td>22617_9219</td>\n",
       "      <td>Brain_Spinal_cord_cervical_c-1</td>\n",
       "      <td>/mnt/phenomexcan_base/results/fastenloc/rapid_...</td>\n",
       "    </tr>\n",
       "    <tr>\n",
       "      <th>1</th>\n",
       "      <td>22617_9219</td>\n",
       "      <td>Artery_Coronary</td>\n",
       "      <td>/mnt/phenomexcan_base/results/fastenloc/rapid_...</td>\n",
       "    </tr>\n",
       "    <tr>\n",
       "      <th>2</th>\n",
       "      <td>22617_9219</td>\n",
       "      <td>Brain_Cortex</td>\n",
       "      <td>/mnt/phenomexcan_base/results/fastenloc/rapid_...</td>\n",
       "    </tr>\n",
       "    <tr>\n",
       "      <th>3</th>\n",
       "      <td>22617_9219</td>\n",
       "      <td>Brain_Substantia_nigra</td>\n",
       "      <td>/mnt/phenomexcan_base/results/fastenloc/rapid_...</td>\n",
       "    </tr>\n",
       "    <tr>\n",
       "      <th>4</th>\n",
       "      <td>22617_9219</td>\n",
       "      <td>Breast_Mammary_Tissue</td>\n",
       "      <td>/mnt/phenomexcan_base/results/fastenloc/rapid_...</td>\n",
       "    </tr>\n",
       "  </tbody>\n",
       "</table>\n",
       "</div>"
      ],
      "text/plain": [
       "        pheno                          tissue  \\\n",
       "0  22617_9219  Brain_Spinal_cord_cervical_c-1   \n",
       "1  22617_9219                 Artery_Coronary   \n",
       "2  22617_9219                    Brain_Cortex   \n",
       "3  22617_9219          Brain_Substantia_nigra   \n",
       "4  22617_9219           Breast_Mammary_Tissue   \n",
       "\n",
       "                                                file  \n",
       "0  /mnt/phenomexcan_base/results/fastenloc/rapid_...  \n",
       "1  /mnt/phenomexcan_base/results/fastenloc/rapid_...  \n",
       "2  /mnt/phenomexcan_base/results/fastenloc/rapid_...  \n",
       "3  /mnt/phenomexcan_base/results/fastenloc/rapid_...  \n",
       "4  /mnt/phenomexcan_base/results/fastenloc/rapid_...  "
      ]
     },
     "execution_count": 24,
     "metadata": {},
     "output_type": "execute_result"
    }
   ],
   "source": [
    "results_summary.head()"
   ]
  },
  {
   "cell_type": "code",
   "execution_count": 25,
   "metadata": {},
   "outputs": [
    {
     "data": {
      "text/plain": [
       "(4049,)"
      ]
     },
     "execution_count": 25,
     "metadata": {},
     "output_type": "execute_result"
    }
   ],
   "source": [
    "results_summary['pheno'].unique().shape"
   ]
  },
  {
   "cell_type": "code",
   "execution_count": 26,
   "metadata": {},
   "outputs": [
    {
     "data": {
      "text/plain": [
       "True"
      ]
     },
     "execution_count": 26,
     "metadata": {},
     "output_type": "execute_result"
    }
   ],
   "source": [
    "np.all([t in PHENO_CODES for t in results_summary['pheno'].unique()])"
   ]
  },
  {
   "cell_type": "code",
   "execution_count": 27,
   "metadata": {},
   "outputs": [
    {
     "data": {
      "text/plain": [
       "(49,)"
      ]
     },
     "execution_count": 27,
     "metadata": {},
     "output_type": "execute_result"
    }
   ],
   "source": [
    "results_summary['tissue'].unique().shape"
   ]
  },
  {
   "cell_type": "code",
   "execution_count": 28,
   "metadata": {},
   "outputs": [
    {
     "data": {
      "text/plain": [
       "True"
      ]
     },
     "execution_count": 28,
     "metadata": {},
     "output_type": "execute_result"
    }
   ],
   "source": [
    "np.all([t in FASTENLOC_TISSUES_NAMES for t in results_summary['tissue'].unique()])"
   ]
  },
  {
   "cell_type": "code",
   "execution_count": 29,
   "metadata": {},
   "outputs": [
    {
     "data": {
      "text/plain": [
       "True"
      ]
     },
     "execution_count": 29,
     "metadata": {},
     "output_type": "execute_result"
    }
   ],
   "source": [
    "_all_tissues_in_results = results_summary['tissue'].unique()\n",
    "np.all([t in _all_tissues_in_results for t in FASTENLOC_TISSUES_NAMES])"
   ]
  },
  {
   "cell_type": "markdown",
   "metadata": {},
   "source": [
    "## All RCPs across all tissues for particular phenotypes"
   ]
  },
  {
   "cell_type": "code",
   "execution_count": 30,
   "metadata": {},
   "outputs": [
    {
     "data": {
      "text/plain": [
       "Index(['6152_9-Blood_clot_DVT_bronchitis_emphysema_asthma_rhinitis_eczema_allergy_diagnosed_by_doctor_Hayfever_allergic_rhinitis_or_eczema'], dtype='object')"
      ]
     },
     "execution_count": 30,
     "metadata": {},
     "output_type": "execute_result"
    }
   ],
   "source": [
    "spredixcan_genes_associations.columns[spredixcan_genes_associations.columns.str.lower().str.contains('6152_9')]"
   ]
  },
  {
   "cell_type": "code",
   "execution_count": 31,
   "metadata": {},
   "outputs": [],
   "source": [
    "PHENO_MAPPINGS = {\n",
    "    '50_raw': 'UKB_50_Standing_height',\n",
    "    '1160': 'UKB_1160_Sleep_duration',\n",
    "    '6152_9': 'UKB_6152_9_diagnosed_by_doctor_Hayfever_allergic_rhinitis_or_eczema',\n",
    "    '20016_raw': 'UKB_20016_Fluid_intelligence_score',\n",
    "}"
   ]
  },
  {
   "cell_type": "markdown",
   "metadata": {},
   "source": [
    "## Height: 50_raw"
   ]
  },
  {
   "cell_type": "code",
   "execution_count": 32,
   "metadata": {},
   "outputs": [],
   "source": [
    "PHENOTYPE_SELECTED = '50_raw'"
   ]
  },
  {
   "cell_type": "code",
   "execution_count": 33,
   "metadata": {},
   "outputs": [],
   "source": [
    "fe_all = read_fe_all_tissues(PHENOTYPE_SELECTED)"
   ]
  },
  {
   "cell_type": "code",
   "execution_count": 34,
   "metadata": {},
   "outputs": [
    {
     "data": {
      "text/plain": [
       "(16933, 47)"
      ]
     },
     "execution_count": 34,
     "metadata": {},
     "output_type": "execute_result"
    }
   ],
   "source": [
    "fe_all.shape"
   ]
  },
  {
   "cell_type": "code",
   "execution_count": 35,
   "metadata": {},
   "outputs": [
    {
     "data": {
      "text/html": [
       "<div>\n",
       "<style scoped>\n",
       "    .dataframe tbody tr th:only-of-type {\n",
       "        vertical-align: middle;\n",
       "    }\n",
       "\n",
       "    .dataframe tbody tr th {\n",
       "        vertical-align: top;\n",
       "    }\n",
       "\n",
       "    .dataframe thead th {\n",
       "        text-align: right;\n",
       "    }\n",
       "</style>\n",
       "<table border=\"1\" class=\"dataframe\">\n",
       "  <thead>\n",
       "    <tr style=\"text-align: right;\">\n",
       "      <th></th>\n",
       "      <th>Adipose_Subcutaneous</th>\n",
       "      <th>Lung</th>\n",
       "      <th>Whole_Blood</th>\n",
       "      <th>Brain_Hippocampus</th>\n",
       "      <th>Heart_Atrial_Appendage</th>\n",
       "      <th>Cells_Cultured_fibroblasts</th>\n",
       "      <th>Testis</th>\n",
       "      <th>Small_Intestine_Terminal_Ileum</th>\n",
       "      <th>Brain_Cerebellum</th>\n",
       "      <th>Esophagus_Muscularis</th>\n",
       "      <th>...</th>\n",
       "      <th>Ovary</th>\n",
       "      <th>Stomach</th>\n",
       "      <th>Liver</th>\n",
       "      <th>Brain_Cerebellar_Hemisphere</th>\n",
       "      <th>Artery_Coronary</th>\n",
       "      <th>Nerve_Tibial</th>\n",
       "      <th>Brain_Cortex</th>\n",
       "      <th>Brain_Putamen_basal_ganglia</th>\n",
       "      <th>Brain_Hypothalamus</th>\n",
       "      <th>Breast_Mammary_Tissue</th>\n",
       "    </tr>\n",
       "  </thead>\n",
       "  <tbody>\n",
       "    <tr>\n",
       "      <th>ENSG00000000419</th>\n",
       "      <td>NaN</td>\n",
       "      <td>NaN</td>\n",
       "      <td>NaN</td>\n",
       "      <td>NaN</td>\n",
       "      <td>NaN</td>\n",
       "      <td>NaN</td>\n",
       "      <td>NaN</td>\n",
       "      <td>NaN</td>\n",
       "      <td>0.000129</td>\n",
       "      <td>NaN</td>\n",
       "      <td>...</td>\n",
       "      <td>NaN</td>\n",
       "      <td>NaN</td>\n",
       "      <td>NaN</td>\n",
       "      <td>NaN</td>\n",
       "      <td>NaN</td>\n",
       "      <td>NaN</td>\n",
       "      <td>NaN</td>\n",
       "      <td>NaN</td>\n",
       "      <td>NaN</td>\n",
       "      <td>NaN</td>\n",
       "    </tr>\n",
       "    <tr>\n",
       "      <th>ENSG00000000457</th>\n",
       "      <td>0.003131</td>\n",
       "      <td>0.000210</td>\n",
       "      <td>0.000861</td>\n",
       "      <td>0.000434</td>\n",
       "      <td>0.000285</td>\n",
       "      <td>0.001137</td>\n",
       "      <td>0.001918</td>\n",
       "      <td>0.000792</td>\n",
       "      <td>0.001738</td>\n",
       "      <td>0.002506</td>\n",
       "      <td>...</td>\n",
       "      <td>0.000710</td>\n",
       "      <td>0.000635</td>\n",
       "      <td>0.000240</td>\n",
       "      <td>0.000562</td>\n",
       "      <td>0.000716</td>\n",
       "      <td>0.002703</td>\n",
       "      <td>0.001549</td>\n",
       "      <td>0.001597</td>\n",
       "      <td>0.002480</td>\n",
       "      <td>0.001366</td>\n",
       "    </tr>\n",
       "    <tr>\n",
       "      <th>ENSG00000000460</th>\n",
       "      <td>0.000449</td>\n",
       "      <td>0.001353</td>\n",
       "      <td>0.001389</td>\n",
       "      <td>0.000649</td>\n",
       "      <td>0.000801</td>\n",
       "      <td>NaN</td>\n",
       "      <td>0.002268</td>\n",
       "      <td>0.000809</td>\n",
       "      <td>0.003556</td>\n",
       "      <td>0.001993</td>\n",
       "      <td>...</td>\n",
       "      <td>0.001404</td>\n",
       "      <td>NaN</td>\n",
       "      <td>0.006656</td>\n",
       "      <td>0.002724</td>\n",
       "      <td>NaN</td>\n",
       "      <td>0.001098</td>\n",
       "      <td>0.000669</td>\n",
       "      <td>0.000730</td>\n",
       "      <td>0.000164</td>\n",
       "      <td>0.000259</td>\n",
       "    </tr>\n",
       "    <tr>\n",
       "      <th>ENSG00000000971</th>\n",
       "      <td>0.000831</td>\n",
       "      <td>0.001568</td>\n",
       "      <td>0.000528</td>\n",
       "      <td>0.001338</td>\n",
       "      <td>0.002003</td>\n",
       "      <td>0.004728</td>\n",
       "      <td>0.001127</td>\n",
       "      <td>0.000219</td>\n",
       "      <td>0.001366</td>\n",
       "      <td>0.001651</td>\n",
       "      <td>...</td>\n",
       "      <td>0.003273</td>\n",
       "      <td>0.000222</td>\n",
       "      <td>0.000293</td>\n",
       "      <td>0.000508</td>\n",
       "      <td>0.001930</td>\n",
       "      <td>0.002941</td>\n",
       "      <td>0.001548</td>\n",
       "      <td>0.001987</td>\n",
       "      <td>NaN</td>\n",
       "      <td>0.000476</td>\n",
       "    </tr>\n",
       "    <tr>\n",
       "      <th>ENSG00000001084</th>\n",
       "      <td>0.000867</td>\n",
       "      <td>0.001428</td>\n",
       "      <td>0.000278</td>\n",
       "      <td>0.000190</td>\n",
       "      <td>0.000646</td>\n",
       "      <td>0.021987</td>\n",
       "      <td>0.022065</td>\n",
       "      <td>0.005988</td>\n",
       "      <td>0.001571</td>\n",
       "      <td>NaN</td>\n",
       "      <td>...</td>\n",
       "      <td>0.000182</td>\n",
       "      <td>0.001844</td>\n",
       "      <td>0.027400</td>\n",
       "      <td>0.002551</td>\n",
       "      <td>NaN</td>\n",
       "      <td>0.001503</td>\n",
       "      <td>0.000568</td>\n",
       "      <td>0.000267</td>\n",
       "      <td>NaN</td>\n",
       "      <td>0.037030</td>\n",
       "    </tr>\n",
       "  </tbody>\n",
       "</table>\n",
       "<p>5 rows × 47 columns</p>\n",
       "</div>"
      ],
      "text/plain": [
       "                 Adipose_Subcutaneous      Lung  Whole_Blood  \\\n",
       "ENSG00000000419                   NaN       NaN          NaN   \n",
       "ENSG00000000457              0.003131  0.000210     0.000861   \n",
       "ENSG00000000460              0.000449  0.001353     0.001389   \n",
       "ENSG00000000971              0.000831  0.001568     0.000528   \n",
       "ENSG00000001084              0.000867  0.001428     0.000278   \n",
       "\n",
       "                 Brain_Hippocampus  Heart_Atrial_Appendage  \\\n",
       "ENSG00000000419                NaN                     NaN   \n",
       "ENSG00000000457           0.000434                0.000285   \n",
       "ENSG00000000460           0.000649                0.000801   \n",
       "ENSG00000000971           0.001338                0.002003   \n",
       "ENSG00000001084           0.000190                0.000646   \n",
       "\n",
       "                 Cells_Cultured_fibroblasts    Testis  \\\n",
       "ENSG00000000419                         NaN       NaN   \n",
       "ENSG00000000457                    0.001137  0.001918   \n",
       "ENSG00000000460                         NaN  0.002268   \n",
       "ENSG00000000971                    0.004728  0.001127   \n",
       "ENSG00000001084                    0.021987  0.022065   \n",
       "\n",
       "                 Small_Intestine_Terminal_Ileum  Brain_Cerebellum  \\\n",
       "ENSG00000000419                             NaN          0.000129   \n",
       "ENSG00000000457                        0.000792          0.001738   \n",
       "ENSG00000000460                        0.000809          0.003556   \n",
       "ENSG00000000971                        0.000219          0.001366   \n",
       "ENSG00000001084                        0.005988          0.001571   \n",
       "\n",
       "                 Esophagus_Muscularis  ...     Ovary   Stomach     Liver  \\\n",
       "ENSG00000000419                   NaN  ...       NaN       NaN       NaN   \n",
       "ENSG00000000457              0.002506  ...  0.000710  0.000635  0.000240   \n",
       "ENSG00000000460              0.001993  ...  0.001404       NaN  0.006656   \n",
       "ENSG00000000971              0.001651  ...  0.003273  0.000222  0.000293   \n",
       "ENSG00000001084                   NaN  ...  0.000182  0.001844  0.027400   \n",
       "\n",
       "                 Brain_Cerebellar_Hemisphere  Artery_Coronary  Nerve_Tibial  \\\n",
       "ENSG00000000419                          NaN              NaN           NaN   \n",
       "ENSG00000000457                     0.000562         0.000716      0.002703   \n",
       "ENSG00000000460                     0.002724              NaN      0.001098   \n",
       "ENSG00000000971                     0.000508         0.001930      0.002941   \n",
       "ENSG00000001084                     0.002551              NaN      0.001503   \n",
       "\n",
       "                 Brain_Cortex  Brain_Putamen_basal_ganglia  \\\n",
       "ENSG00000000419           NaN                          NaN   \n",
       "ENSG00000000457      0.001549                     0.001597   \n",
       "ENSG00000000460      0.000669                     0.000730   \n",
       "ENSG00000000971      0.001548                     0.001987   \n",
       "ENSG00000001084      0.000568                     0.000267   \n",
       "\n",
       "                 Brain_Hypothalamus  Breast_Mammary_Tissue  \n",
       "ENSG00000000419                 NaN                    NaN  \n",
       "ENSG00000000457            0.002480               0.001366  \n",
       "ENSG00000000460            0.000164               0.000259  \n",
       "ENSG00000000971                 NaN               0.000476  \n",
       "ENSG00000001084                 NaN               0.037030  \n",
       "\n",
       "[5 rows x 47 columns]"
      ]
     },
     "execution_count": 35,
     "metadata": {},
     "output_type": "execute_result"
    }
   ],
   "source": [
    "fe_all.head()"
   ]
  },
  {
   "cell_type": "code",
   "execution_count": 36,
   "metadata": {},
   "outputs": [],
   "source": [
    "enloc_all = read_enloc_all_tissues(PHENO_MAPPINGS[PHENOTYPE_SELECTED])"
   ]
  },
  {
   "cell_type": "code",
   "execution_count": 37,
   "metadata": {},
   "outputs": [
    {
     "data": {
      "text/plain": [
       "(22709, 47)"
      ]
     },
     "execution_count": 37,
     "metadata": {},
     "output_type": "execute_result"
    }
   ],
   "source": [
    "enloc_all.shape"
   ]
  },
  {
   "cell_type": "code",
   "execution_count": 38,
   "metadata": {},
   "outputs": [
    {
     "data": {
      "text/html": [
       "<div>\n",
       "<style scoped>\n",
       "    .dataframe tbody tr th:only-of-type {\n",
       "        vertical-align: middle;\n",
       "    }\n",
       "\n",
       "    .dataframe tbody tr th {\n",
       "        vertical-align: top;\n",
       "    }\n",
       "\n",
       "    .dataframe thead th {\n",
       "        text-align: right;\n",
       "    }\n",
       "</style>\n",
       "<table border=\"1\" class=\"dataframe\">\n",
       "  <thead>\n",
       "    <tr style=\"text-align: right;\">\n",
       "      <th></th>\n",
       "      <th>Adipose_Subcutaneous</th>\n",
       "      <th>Lung</th>\n",
       "      <th>Whole_Blood</th>\n",
       "      <th>Brain_Hippocampus</th>\n",
       "      <th>Heart_Atrial_Appendage</th>\n",
       "      <th>Cells_Cultured_fibroblasts</th>\n",
       "      <th>Testis</th>\n",
       "      <th>Small_Intestine_Terminal_Ileum</th>\n",
       "      <th>Brain_Cerebellum</th>\n",
       "      <th>Esophagus_Muscularis</th>\n",
       "      <th>...</th>\n",
       "      <th>Ovary</th>\n",
       "      <th>Stomach</th>\n",
       "      <th>Liver</th>\n",
       "      <th>Brain_Cerebellar_Hemisphere</th>\n",
       "      <th>Artery_Coronary</th>\n",
       "      <th>Nerve_Tibial</th>\n",
       "      <th>Brain_Cortex</th>\n",
       "      <th>Brain_Putamen_basal_ganglia</th>\n",
       "      <th>Brain_Hypothalamus</th>\n",
       "      <th>Breast_Mammary_Tissue</th>\n",
       "    </tr>\n",
       "  </thead>\n",
       "  <tbody>\n",
       "    <tr>\n",
       "      <th>ENSG00000000419</th>\n",
       "      <td>0.0</td>\n",
       "      <td>0.0</td>\n",
       "      <td>0.0</td>\n",
       "      <td>0.0</td>\n",
       "      <td>0.0</td>\n",
       "      <td>0.0</td>\n",
       "      <td>0.0</td>\n",
       "      <td>0.0</td>\n",
       "      <td>0.0</td>\n",
       "      <td>0.0</td>\n",
       "      <td>...</td>\n",
       "      <td>0.0</td>\n",
       "      <td>0.0</td>\n",
       "      <td>0.0</td>\n",
       "      <td>0.0</td>\n",
       "      <td>0.0</td>\n",
       "      <td>0.0</td>\n",
       "      <td>0.0</td>\n",
       "      <td>0.0</td>\n",
       "      <td>0.0</td>\n",
       "      <td>0.0</td>\n",
       "    </tr>\n",
       "    <tr>\n",
       "      <th>ENSG00000000457</th>\n",
       "      <td>NaN</td>\n",
       "      <td>0.0</td>\n",
       "      <td>NaN</td>\n",
       "      <td>NaN</td>\n",
       "      <td>0.0</td>\n",
       "      <td>NaN</td>\n",
       "      <td>NaN</td>\n",
       "      <td>NaN</td>\n",
       "      <td>NaN</td>\n",
       "      <td>NaN</td>\n",
       "      <td>...</td>\n",
       "      <td>0.0</td>\n",
       "      <td>0.0</td>\n",
       "      <td>0.0</td>\n",
       "      <td>NaN</td>\n",
       "      <td>0.0</td>\n",
       "      <td>NaN</td>\n",
       "      <td>NaN</td>\n",
       "      <td>NaN</td>\n",
       "      <td>NaN</td>\n",
       "      <td>NaN</td>\n",
       "    </tr>\n",
       "    <tr>\n",
       "      <th>ENSG00000000460</th>\n",
       "      <td>NaN</td>\n",
       "      <td>NaN</td>\n",
       "      <td>NaN</td>\n",
       "      <td>NaN</td>\n",
       "      <td>NaN</td>\n",
       "      <td>0.0</td>\n",
       "      <td>NaN</td>\n",
       "      <td>NaN</td>\n",
       "      <td>NaN</td>\n",
       "      <td>NaN</td>\n",
       "      <td>...</td>\n",
       "      <td>NaN</td>\n",
       "      <td>NaN</td>\n",
       "      <td>NaN</td>\n",
       "      <td>NaN</td>\n",
       "      <td>0.0</td>\n",
       "      <td>NaN</td>\n",
       "      <td>NaN</td>\n",
       "      <td>NaN</td>\n",
       "      <td>0.0</td>\n",
       "      <td>0.0</td>\n",
       "    </tr>\n",
       "    <tr>\n",
       "      <th>ENSG00000000938</th>\n",
       "      <td>0.0</td>\n",
       "      <td>0.0</td>\n",
       "      <td>0.0</td>\n",
       "      <td>0.0</td>\n",
       "      <td>0.0</td>\n",
       "      <td>0.0</td>\n",
       "      <td>0.0</td>\n",
       "      <td>0.0</td>\n",
       "      <td>0.0</td>\n",
       "      <td>0.0</td>\n",
       "      <td>...</td>\n",
       "      <td>0.0</td>\n",
       "      <td>0.0</td>\n",
       "      <td>0.0</td>\n",
       "      <td>0.0</td>\n",
       "      <td>0.0</td>\n",
       "      <td>0.0</td>\n",
       "      <td>0.0</td>\n",
       "      <td>0.0</td>\n",
       "      <td>0.0</td>\n",
       "      <td>0.0</td>\n",
       "    </tr>\n",
       "    <tr>\n",
       "      <th>ENSG00000000971</th>\n",
       "      <td>NaN</td>\n",
       "      <td>NaN</td>\n",
       "      <td>0.0</td>\n",
       "      <td>NaN</td>\n",
       "      <td>NaN</td>\n",
       "      <td>NaN</td>\n",
       "      <td>NaN</td>\n",
       "      <td>0.0</td>\n",
       "      <td>0.0</td>\n",
       "      <td>NaN</td>\n",
       "      <td>...</td>\n",
       "      <td>NaN</td>\n",
       "      <td>0.0</td>\n",
       "      <td>NaN</td>\n",
       "      <td>0.0</td>\n",
       "      <td>NaN</td>\n",
       "      <td>NaN</td>\n",
       "      <td>0.0</td>\n",
       "      <td>NaN</td>\n",
       "      <td>0.0</td>\n",
       "      <td>0.0</td>\n",
       "    </tr>\n",
       "  </tbody>\n",
       "</table>\n",
       "<p>5 rows × 47 columns</p>\n",
       "</div>"
      ],
      "text/plain": [
       "                 Adipose_Subcutaneous  Lung  Whole_Blood  Brain_Hippocampus  \\\n",
       "ENSG00000000419                   0.0   0.0          0.0                0.0   \n",
       "ENSG00000000457                   NaN   0.0          NaN                NaN   \n",
       "ENSG00000000460                   NaN   NaN          NaN                NaN   \n",
       "ENSG00000000938                   0.0   0.0          0.0                0.0   \n",
       "ENSG00000000971                   NaN   NaN          0.0                NaN   \n",
       "\n",
       "                 Heart_Atrial_Appendage  Cells_Cultured_fibroblasts  Testis  \\\n",
       "ENSG00000000419                     0.0                         0.0     0.0   \n",
       "ENSG00000000457                     0.0                         NaN     NaN   \n",
       "ENSG00000000460                     NaN                         0.0     NaN   \n",
       "ENSG00000000938                     0.0                         0.0     0.0   \n",
       "ENSG00000000971                     NaN                         NaN     NaN   \n",
       "\n",
       "                 Small_Intestine_Terminal_Ileum  Brain_Cerebellum  \\\n",
       "ENSG00000000419                             0.0               0.0   \n",
       "ENSG00000000457                             NaN               NaN   \n",
       "ENSG00000000460                             NaN               NaN   \n",
       "ENSG00000000938                             0.0               0.0   \n",
       "ENSG00000000971                             0.0               0.0   \n",
       "\n",
       "                 Esophagus_Muscularis  ...  Ovary  Stomach  Liver  \\\n",
       "ENSG00000000419                   0.0  ...    0.0      0.0    0.0   \n",
       "ENSG00000000457                   NaN  ...    0.0      0.0    0.0   \n",
       "ENSG00000000460                   NaN  ...    NaN      NaN    NaN   \n",
       "ENSG00000000938                   0.0  ...    0.0      0.0    0.0   \n",
       "ENSG00000000971                   NaN  ...    NaN      0.0    NaN   \n",
       "\n",
       "                 Brain_Cerebellar_Hemisphere  Artery_Coronary  Nerve_Tibial  \\\n",
       "ENSG00000000419                          0.0              0.0           0.0   \n",
       "ENSG00000000457                          NaN              0.0           NaN   \n",
       "ENSG00000000460                          NaN              0.0           NaN   \n",
       "ENSG00000000938                          0.0              0.0           0.0   \n",
       "ENSG00000000971                          0.0              NaN           NaN   \n",
       "\n",
       "                 Brain_Cortex  Brain_Putamen_basal_ganglia  \\\n",
       "ENSG00000000419           0.0                          0.0   \n",
       "ENSG00000000457           NaN                          NaN   \n",
       "ENSG00000000460           NaN                          NaN   \n",
       "ENSG00000000938           0.0                          0.0   \n",
       "ENSG00000000971           0.0                          NaN   \n",
       "\n",
       "                 Brain_Hypothalamus  Breast_Mammary_Tissue  \n",
       "ENSG00000000419                 0.0                    0.0  \n",
       "ENSG00000000457                 NaN                    NaN  \n",
       "ENSG00000000460                 0.0                    0.0  \n",
       "ENSG00000000938                 0.0                    0.0  \n",
       "ENSG00000000971                 0.0                    0.0  \n",
       "\n",
       "[5 rows x 47 columns]"
      ]
     },
     "execution_count": 38,
     "metadata": {},
     "output_type": "execute_result"
    }
   ],
   "source": [
    "enloc_all.head()"
   ]
  },
  {
   "cell_type": "code",
   "execution_count": 39,
   "metadata": {},
   "outputs": [],
   "source": [
    "df = create_df_plot(fe_all, enloc_all)"
   ]
  },
  {
   "cell_type": "code",
   "execution_count": 40,
   "metadata": {},
   "outputs": [
    {
     "data": {
      "text/plain": [
       "(141345, 2)"
      ]
     },
     "execution_count": 40,
     "metadata": {},
     "output_type": "execute_result"
    }
   ],
   "source": [
    "df.shape"
   ]
  },
  {
   "cell_type": "code",
   "execution_count": 41,
   "metadata": {},
   "outputs": [
    {
     "data": {
      "text/html": [
       "<div>\n",
       "<style scoped>\n",
       "    .dataframe tbody tr th:only-of-type {\n",
       "        vertical-align: middle;\n",
       "    }\n",
       "\n",
       "    .dataframe tbody tr th {\n",
       "        vertical-align: top;\n",
       "    }\n",
       "\n",
       "    .dataframe thead th {\n",
       "        text-align: right;\n",
       "    }\n",
       "</style>\n",
       "<table border=\"1\" class=\"dataframe\">\n",
       "  <thead>\n",
       "    <tr style=\"text-align: right;\">\n",
       "      <th></th>\n",
       "      <th></th>\n",
       "      <th>ENLOC</th>\n",
       "      <th>fastENLOC</th>\n",
       "    </tr>\n",
       "  </thead>\n",
       "  <tbody>\n",
       "    <tr>\n",
       "      <th>Nerve_Tibial</th>\n",
       "      <th>ENSG00000166750</th>\n",
       "      <td>0.001</td>\n",
       "      <td>0.001945</td>\n",
       "    </tr>\n",
       "    <tr>\n",
       "      <th>Cells_EBV-transformed_lymphocytes</th>\n",
       "      <th>ENSG00000106829</th>\n",
       "      <td>0.001</td>\n",
       "      <td>0.000179</td>\n",
       "    </tr>\n",
       "    <tr>\n",
       "      <th>Adipose_Visceral_Omentum</th>\n",
       "      <th>ENSG00000115423</th>\n",
       "      <td>0.000</td>\n",
       "      <td>0.000466</td>\n",
       "    </tr>\n",
       "    <tr>\n",
       "      <th>Esophagus_Mucosa</th>\n",
       "      <th>ENSG00000163491</th>\n",
       "      <td>0.000</td>\n",
       "      <td>0.000273</td>\n",
       "    </tr>\n",
       "    <tr>\n",
       "      <th>Adipose_Visceral_Omentum</th>\n",
       "      <th>ENSG00000134222</th>\n",
       "      <td>0.329</td>\n",
       "      <td>0.648300</td>\n",
       "    </tr>\n",
       "  </tbody>\n",
       "</table>\n",
       "</div>"
      ],
      "text/plain": [
       "                                                   ENLOC  fastENLOC\n",
       "Nerve_Tibial                      ENSG00000166750  0.001   0.001945\n",
       "Cells_EBV-transformed_lymphocytes ENSG00000106829  0.001   0.000179\n",
       "Adipose_Visceral_Omentum          ENSG00000115423  0.000   0.000466\n",
       "Esophagus_Mucosa                  ENSG00000163491  0.000   0.000273\n",
       "Adipose_Visceral_Omentum          ENSG00000134222  0.329   0.648300"
      ]
     },
     "execution_count": 41,
     "metadata": {},
     "output_type": "execute_result"
    }
   ],
   "source": [
    "df.head()"
   ]
  },
  {
   "cell_type": "code",
   "execution_count": 42,
   "metadata": {},
   "outputs": [],
   "source": [
    "df_plot = df[(df['ENLOC'] > 0.1) & (df['fastENLOC'] > 0.1)]"
   ]
  },
  {
   "cell_type": "code",
   "execution_count": 43,
   "metadata": {},
   "outputs": [
    {
     "data": {
      "text/plain": [
       "(0.6923556568118308, 0.0)"
      ]
     },
     "execution_count": 43,
     "metadata": {},
     "output_type": "execute_result"
    }
   ],
   "source": [
    "stats.pearsonr(df_plot['ENLOC'].values, df_plot['fastENLOC'].values)"
   ]
  },
  {
   "cell_type": "code",
   "execution_count": 44,
   "metadata": {},
   "outputs": [
    {
     "data": {
      "text/plain": [
       "SpearmanrResult(correlation=0.6118349222130194, pvalue=0.0)"
      ]
     },
     "execution_count": 44,
     "metadata": {},
     "output_type": "execute_result"
    }
   ],
   "source": [
    "stats.spearmanr(df_plot['ENLOC'].values, df_plot['fastENLOC'].values)"
   ]
  },
  {
   "cell_type": "code",
   "execution_count": 45,
   "metadata": {},
   "outputs": [],
   "source": [
    "# final refining\n",
    "df_plot = df_plot[df_plot['fastENLOC'] <= 1.05]"
   ]
  },
  {
   "cell_type": "code",
   "execution_count": 46,
   "metadata": {},
   "outputs": [
    {
     "data": {
      "image/png": "[encoded data removed]",
      "text/plain": [
       "<Figure size 432x432 with 3 Axes>"
      ]
     },
     "metadata": {},
     "output_type": "display_data"
    }
   ],
   "source": [
    "df_plot_final = df_plot.rename(columns={'ENLOC': 'ENLOC (RCP)', 'fastENLOC': 'fastENLOC (RCP)'})\n",
    "\n",
    "with sns.axes_style(\"white\"):\n",
    "    ax = sns.jointplot(data=df_plot_final, x='ENLOC (RCP)', y='fastENLOC (RCP)', kind='hex')\n",
    "    ax.ax_joint.plot([0.10, 1.0], [0.10, 1.0], 'gray', linewidth=0.75)\n",
    "    ax.fig.suptitle(f'{metadata.RAPID_GWAS_PHENO_INFO.loc[PHENOTYPE_SELECTED, \"description\"]}\\nAll tissues')\n",
    "\n",
    "    fig_path = os.path.join(figures_path, 'sup_fig3a.png')\n",
    "    plt.savefig(fig_path, dpi=150, bbox_inches='tight')"
   ]
  },
  {
   "cell_type": "markdown",
   "metadata": {},
   "source": [
    "## Sleep duration: 1160"
   ]
  },
  {
   "cell_type": "code",
   "execution_count": 47,
   "metadata": {},
   "outputs": [],
   "source": [
    "PHENOTYPE_SELECTED = '1160'"
   ]
  },
  {
   "cell_type": "code",
   "execution_count": 48,
   "metadata": {},
   "outputs": [],
   "source": [
    "fe_all = read_fe_all_tissues(PHENOTYPE_SELECTED)"
   ]
  },
  {
   "cell_type": "code",
   "execution_count": 49,
   "metadata": {},
   "outputs": [
    {
     "data": {
      "text/plain": [
       "(34239, 47)"
      ]
     },
     "execution_count": 49,
     "metadata": {},
     "output_type": "execute_result"
    }
   ],
   "source": [
    "fe_all.shape"
   ]
  },
  {
   "cell_type": "code",
   "execution_count": 50,
   "metadata": {},
   "outputs": [
    {
     "data": {
      "text/html": [
       "<div>\n",
       "<style scoped>\n",
       "    .dataframe tbody tr th:only-of-type {\n",
       "        vertical-align: middle;\n",
       "    }\n",
       "\n",
       "    .dataframe tbody tr th {\n",
       "        vertical-align: top;\n",
       "    }\n",
       "\n",
       "    .dataframe thead th {\n",
       "        text-align: right;\n",
       "    }\n",
       "</style>\n",
       "<table border=\"1\" class=\"dataframe\">\n",
       "  <thead>\n",
       "    <tr style=\"text-align: right;\">\n",
       "      <th></th>\n",
       "      <th>Adipose_Subcutaneous</th>\n",
       "      <th>Lung</th>\n",
       "      <th>Whole_Blood</th>\n",
       "      <th>Brain_Hippocampus</th>\n",
       "      <th>Heart_Atrial_Appendage</th>\n",
       "      <th>Cells_Cultured_fibroblasts</th>\n",
       "      <th>Testis</th>\n",
       "      <th>Small_Intestine_Terminal_Ileum</th>\n",
       "      <th>Brain_Cerebellum</th>\n",
       "      <th>Esophagus_Muscularis</th>\n",
       "      <th>...</th>\n",
       "      <th>Ovary</th>\n",
       "      <th>Stomach</th>\n",
       "      <th>Liver</th>\n",
       "      <th>Brain_Cerebellar_Hemisphere</th>\n",
       "      <th>Artery_Coronary</th>\n",
       "      <th>Nerve_Tibial</th>\n",
       "      <th>Brain_Cortex</th>\n",
       "      <th>Brain_Putamen_basal_ganglia</th>\n",
       "      <th>Brain_Hypothalamus</th>\n",
       "      <th>Breast_Mammary_Tissue</th>\n",
       "    </tr>\n",
       "  </thead>\n",
       "  <tbody>\n",
       "    <tr>\n",
       "      <th>ENSG00000000419</th>\n",
       "      <td>0.000131</td>\n",
       "      <td>NaN</td>\n",
       "      <td>NaN</td>\n",
       "      <td>0.000341</td>\n",
       "      <td>NaN</td>\n",
       "      <td>NaN</td>\n",
       "      <td>NaN</td>\n",
       "      <td>NaN</td>\n",
       "      <td>0.004650</td>\n",
       "      <td>NaN</td>\n",
       "      <td>...</td>\n",
       "      <td>NaN</td>\n",
       "      <td>NaN</td>\n",
       "      <td>NaN</td>\n",
       "      <td>0.000659</td>\n",
       "      <td>NaN</td>\n",
       "      <td>0.000493</td>\n",
       "      <td>0.000239</td>\n",
       "      <td>NaN</td>\n",
       "      <td>0.000386</td>\n",
       "      <td>NaN</td>\n",
       "    </tr>\n",
       "    <tr>\n",
       "      <th>ENSG00000000457</th>\n",
       "      <td>0.003401</td>\n",
       "      <td>NaN</td>\n",
       "      <td>0.001552</td>\n",
       "      <td>0.001055</td>\n",
       "      <td>0.000185</td>\n",
       "      <td>0.001060</td>\n",
       "      <td>0.000551</td>\n",
       "      <td>NaN</td>\n",
       "      <td>0.005782</td>\n",
       "      <td>0.003712</td>\n",
       "      <td>...</td>\n",
       "      <td>0.000885</td>\n",
       "      <td>0.000483</td>\n",
       "      <td>0.000102</td>\n",
       "      <td>0.005350</td>\n",
       "      <td>0.000224</td>\n",
       "      <td>0.003944</td>\n",
       "      <td>0.003282</td>\n",
       "      <td>0.001741</td>\n",
       "      <td>0.002240</td>\n",
       "      <td>0.001786</td>\n",
       "    </tr>\n",
       "    <tr>\n",
       "      <th>ENSG00000000460</th>\n",
       "      <td>0.000707</td>\n",
       "      <td>0.001512</td>\n",
       "      <td>0.001822</td>\n",
       "      <td>0.000768</td>\n",
       "      <td>0.001315</td>\n",
       "      <td>NaN</td>\n",
       "      <td>0.000623</td>\n",
       "      <td>NaN</td>\n",
       "      <td>0.005261</td>\n",
       "      <td>0.002649</td>\n",
       "      <td>...</td>\n",
       "      <td>0.001980</td>\n",
       "      <td>NaN</td>\n",
       "      <td>0.001399</td>\n",
       "      <td>0.005030</td>\n",
       "      <td>NaN</td>\n",
       "      <td>0.001627</td>\n",
       "      <td>0.001700</td>\n",
       "      <td>0.000925</td>\n",
       "      <td>0.000320</td>\n",
       "      <td>0.000381</td>\n",
       "    </tr>\n",
       "    <tr>\n",
       "      <th>ENSG00000000938</th>\n",
       "      <td>0.001197</td>\n",
       "      <td>0.000341</td>\n",
       "      <td>0.000201</td>\n",
       "      <td>NaN</td>\n",
       "      <td>NaN</td>\n",
       "      <td>0.000116</td>\n",
       "      <td>0.000883</td>\n",
       "      <td>NaN</td>\n",
       "      <td>0.000119</td>\n",
       "      <td>0.001402</td>\n",
       "      <td>...</td>\n",
       "      <td>NaN</td>\n",
       "      <td>0.000595</td>\n",
       "      <td>NaN</td>\n",
       "      <td>0.000530</td>\n",
       "      <td>NaN</td>\n",
       "      <td>0.001207</td>\n",
       "      <td>NaN</td>\n",
       "      <td>NaN</td>\n",
       "      <td>0.000267</td>\n",
       "      <td>0.001031</td>\n",
       "    </tr>\n",
       "    <tr>\n",
       "      <th>ENSG00000000971</th>\n",
       "      <td>0.001451</td>\n",
       "      <td>0.001164</td>\n",
       "      <td>0.000423</td>\n",
       "      <td>0.002146</td>\n",
       "      <td>0.003730</td>\n",
       "      <td>0.005971</td>\n",
       "      <td>0.000993</td>\n",
       "      <td>NaN</td>\n",
       "      <td>0.003973</td>\n",
       "      <td>0.001584</td>\n",
       "      <td>...</td>\n",
       "      <td>0.006074</td>\n",
       "      <td>0.000365</td>\n",
       "      <td>0.002096</td>\n",
       "      <td>0.002467</td>\n",
       "      <td>0.002984</td>\n",
       "      <td>0.004090</td>\n",
       "      <td>0.004169</td>\n",
       "      <td>0.002015</td>\n",
       "      <td>NaN</td>\n",
       "      <td>0.000875</td>\n",
       "    </tr>\n",
       "  </tbody>\n",
       "</table>\n",
       "<p>5 rows × 47 columns</p>\n",
       "</div>"
      ],
      "text/plain": [
       "                 Adipose_Subcutaneous      Lung  Whole_Blood  \\\n",
       "ENSG00000000419              0.000131       NaN          NaN   \n",
       "ENSG00000000457              0.003401       NaN     0.001552   \n",
       "ENSG00000000460              0.000707  0.001512     0.001822   \n",
       "ENSG00000000938              0.001197  0.000341     0.000201   \n",
       "ENSG00000000971              0.001451  0.001164     0.000423   \n",
       "\n",
       "                 Brain_Hippocampus  Heart_Atrial_Appendage  \\\n",
       "ENSG00000000419           0.000341                     NaN   \n",
       "ENSG00000000457           0.001055                0.000185   \n",
       "ENSG00000000460           0.000768                0.001315   \n",
       "ENSG00000000938                NaN                     NaN   \n",
       "ENSG00000000971           0.002146                0.003730   \n",
       "\n",
       "                 Cells_Cultured_fibroblasts    Testis  \\\n",
       "ENSG00000000419                         NaN       NaN   \n",
       "ENSG00000000457                    0.001060  0.000551   \n",
       "ENSG00000000460                         NaN  0.000623   \n",
       "ENSG00000000938                    0.000116  0.000883   \n",
       "ENSG00000000971                    0.005971  0.000993   \n",
       "\n",
       "                 Small_Intestine_Terminal_Ileum  Brain_Cerebellum  \\\n",
       "ENSG00000000419                             NaN          0.004650   \n",
       "ENSG00000000457                             NaN          0.005782   \n",
       "ENSG00000000460                             NaN          0.005261   \n",
       "ENSG00000000938                             NaN          0.000119   \n",
       "ENSG00000000971                             NaN          0.003973   \n",
       "\n",
       "                 Esophagus_Muscularis  ...     Ovary   Stomach     Liver  \\\n",
       "ENSG00000000419                   NaN  ...       NaN       NaN       NaN   \n",
       "ENSG00000000457              0.003712  ...  0.000885  0.000483  0.000102   \n",
       "ENSG00000000460              0.002649  ...  0.001980       NaN  0.001399   \n",
       "ENSG00000000938              0.001402  ...       NaN  0.000595       NaN   \n",
       "ENSG00000000971              0.001584  ...  0.006074  0.000365  0.002096   \n",
       "\n",
       "                 Brain_Cerebellar_Hemisphere  Artery_Coronary  Nerve_Tibial  \\\n",
       "ENSG00000000419                     0.000659              NaN      0.000493   \n",
       "ENSG00000000457                     0.005350         0.000224      0.003944   \n",
       "ENSG00000000460                     0.005030              NaN      0.001627   \n",
       "ENSG00000000938                     0.000530              NaN      0.001207   \n",
       "ENSG00000000971                     0.002467         0.002984      0.004090   \n",
       "\n",
       "                 Brain_Cortex  Brain_Putamen_basal_ganglia  \\\n",
       "ENSG00000000419      0.000239                          NaN   \n",
       "ENSG00000000457      0.003282                     0.001741   \n",
       "ENSG00000000460      0.001700                     0.000925   \n",
       "ENSG00000000938           NaN                          NaN   \n",
       "ENSG00000000971      0.004169                     0.002015   \n",
       "\n",
       "                 Brain_Hypothalamus  Breast_Mammary_Tissue  \n",
       "ENSG00000000419            0.000386                    NaN  \n",
       "ENSG00000000457            0.002240               0.001786  \n",
       "ENSG00000000460            0.000320               0.000381  \n",
       "ENSG00000000938            0.000267               0.001031  \n",
       "ENSG00000000971                 NaN               0.000875  \n",
       "\n",
       "[5 rows x 47 columns]"
      ]
     },
     "execution_count": 50,
     "metadata": {},
     "output_type": "execute_result"
    }
   ],
   "source": [
    "fe_all.head()"
   ]
  },
  {
   "cell_type": "code",
   "execution_count": 51,
   "metadata": {},
   "outputs": [],
   "source": [
    "enloc_all = read_enloc_all_tissues(PHENO_MAPPINGS[PHENOTYPE_SELECTED])"
   ]
  },
  {
   "cell_type": "code",
   "execution_count": 52,
   "metadata": {},
   "outputs": [
    {
     "data": {
      "text/plain": [
       "(3893, 47)"
      ]
     },
     "execution_count": 52,
     "metadata": {},
     "output_type": "execute_result"
    }
   ],
   "source": [
    "enloc_all.shape"
   ]
  },
  {
   "cell_type": "code",
   "execution_count": 53,
   "metadata": {},
   "outputs": [
    {
     "data": {
      "text/html": [
       "<div>\n",
       "<style scoped>\n",
       "    .dataframe tbody tr th:only-of-type {\n",
       "        vertical-align: middle;\n",
       "    }\n",
       "\n",
       "    .dataframe tbody tr th {\n",
       "        vertical-align: top;\n",
       "    }\n",
       "\n",
       "    .dataframe thead th {\n",
       "        text-align: right;\n",
       "    }\n",
       "</style>\n",
       "<table border=\"1\" class=\"dataframe\">\n",
       "  <thead>\n",
       "    <tr style=\"text-align: right;\">\n",
       "      <th></th>\n",
       "      <th>Adipose_Subcutaneous</th>\n",
       "      <th>Lung</th>\n",
       "      <th>Whole_Blood</th>\n",
       "      <th>Brain_Hippocampus</th>\n",
       "      <th>Heart_Atrial_Appendage</th>\n",
       "      <th>Cells_Cultured_fibroblasts</th>\n",
       "      <th>Testis</th>\n",
       "      <th>Small_Intestine_Terminal_Ileum</th>\n",
       "      <th>Brain_Cerebellum</th>\n",
       "      <th>Esophagus_Muscularis</th>\n",
       "      <th>...</th>\n",
       "      <th>Ovary</th>\n",
       "      <th>Stomach</th>\n",
       "      <th>Liver</th>\n",
       "      <th>Brain_Cerebellar_Hemisphere</th>\n",
       "      <th>Artery_Coronary</th>\n",
       "      <th>Nerve_Tibial</th>\n",
       "      <th>Brain_Cortex</th>\n",
       "      <th>Brain_Putamen_basal_ganglia</th>\n",
       "      <th>Brain_Hypothalamus</th>\n",
       "      <th>Breast_Mammary_Tissue</th>\n",
       "    </tr>\n",
       "  </thead>\n",
       "  <tbody>\n",
       "    <tr>\n",
       "      <th>ENSG00000001084</th>\n",
       "      <td>0.001</td>\n",
       "      <td>0.0</td>\n",
       "      <td>0.0</td>\n",
       "      <td>0.0</td>\n",
       "      <td>0.0</td>\n",
       "      <td>0.0</td>\n",
       "      <td>0.0</td>\n",
       "      <td>0.0</td>\n",
       "      <td>0.0</td>\n",
       "      <td>0.0</td>\n",
       "      <td>...</td>\n",
       "      <td>0.0</td>\n",
       "      <td>0.0</td>\n",
       "      <td>0.0</td>\n",
       "      <td>0.0</td>\n",
       "      <td>0.0</td>\n",
       "      <td>0.0</td>\n",
       "      <td>0.0</td>\n",
       "      <td>0.0</td>\n",
       "      <td>0.0</td>\n",
       "      <td>0.0</td>\n",
       "    </tr>\n",
       "    <tr>\n",
       "      <th>ENSG00000001167</th>\n",
       "      <td>0.000</td>\n",
       "      <td>0.0</td>\n",
       "      <td>0.0</td>\n",
       "      <td>0.0</td>\n",
       "      <td>0.0</td>\n",
       "      <td>0.0</td>\n",
       "      <td>0.0</td>\n",
       "      <td>0.0</td>\n",
       "      <td>0.0</td>\n",
       "      <td>0.0</td>\n",
       "      <td>...</td>\n",
       "      <td>0.0</td>\n",
       "      <td>0.0</td>\n",
       "      <td>0.0</td>\n",
       "      <td>0.0</td>\n",
       "      <td>0.0</td>\n",
       "      <td>0.0</td>\n",
       "      <td>0.0</td>\n",
       "      <td>0.0</td>\n",
       "      <td>0.0</td>\n",
       "      <td>0.0</td>\n",
       "    </tr>\n",
       "    <tr>\n",
       "      <th>ENSG00000001626</th>\n",
       "      <td>NaN</td>\n",
       "      <td>0.0</td>\n",
       "      <td>NaN</td>\n",
       "      <td>NaN</td>\n",
       "      <td>NaN</td>\n",
       "      <td>NaN</td>\n",
       "      <td>NaN</td>\n",
       "      <td>0.0</td>\n",
       "      <td>NaN</td>\n",
       "      <td>NaN</td>\n",
       "      <td>...</td>\n",
       "      <td>0.0</td>\n",
       "      <td>NaN</td>\n",
       "      <td>0.0</td>\n",
       "      <td>0.0</td>\n",
       "      <td>NaN</td>\n",
       "      <td>0.0</td>\n",
       "      <td>NaN</td>\n",
       "      <td>NaN</td>\n",
       "      <td>NaN</td>\n",
       "      <td>0.0</td>\n",
       "    </tr>\n",
       "    <tr>\n",
       "      <th>ENSG00000002549</th>\n",
       "      <td>0.000</td>\n",
       "      <td>0.0</td>\n",
       "      <td>0.0</td>\n",
       "      <td>0.0</td>\n",
       "      <td>0.0</td>\n",
       "      <td>0.0</td>\n",
       "      <td>0.0</td>\n",
       "      <td>0.0</td>\n",
       "      <td>0.0</td>\n",
       "      <td>0.0</td>\n",
       "      <td>...</td>\n",
       "      <td>0.0</td>\n",
       "      <td>0.0</td>\n",
       "      <td>0.0</td>\n",
       "      <td>0.0</td>\n",
       "      <td>0.0</td>\n",
       "      <td>0.0</td>\n",
       "      <td>0.0</td>\n",
       "      <td>0.0</td>\n",
       "      <td>0.0</td>\n",
       "      <td>0.0</td>\n",
       "    </tr>\n",
       "    <tr>\n",
       "      <th>ENSG00000002745</th>\n",
       "      <td>NaN</td>\n",
       "      <td>NaN</td>\n",
       "      <td>NaN</td>\n",
       "      <td>NaN</td>\n",
       "      <td>NaN</td>\n",
       "      <td>NaN</td>\n",
       "      <td>NaN</td>\n",
       "      <td>NaN</td>\n",
       "      <td>NaN</td>\n",
       "      <td>0.0</td>\n",
       "      <td>...</td>\n",
       "      <td>NaN</td>\n",
       "      <td>NaN</td>\n",
       "      <td>NaN</td>\n",
       "      <td>0.0</td>\n",
       "      <td>NaN</td>\n",
       "      <td>NaN</td>\n",
       "      <td>NaN</td>\n",
       "      <td>NaN</td>\n",
       "      <td>NaN</td>\n",
       "      <td>0.0</td>\n",
       "    </tr>\n",
       "  </tbody>\n",
       "</table>\n",
       "<p>5 rows × 47 columns</p>\n",
       "</div>"
      ],
      "text/plain": [
       "                 Adipose_Subcutaneous  Lung  Whole_Blood  Brain_Hippocampus  \\\n",
       "ENSG00000001084                 0.001   0.0          0.0                0.0   \n",
       "ENSG00000001167                 0.000   0.0          0.0                0.0   \n",
       "ENSG00000001626                   NaN   0.0          NaN                NaN   \n",
       "ENSG00000002549                 0.000   0.0          0.0                0.0   \n",
       "ENSG00000002745                   NaN   NaN          NaN                NaN   \n",
       "\n",
       "                 Heart_Atrial_Appendage  Cells_Cultured_fibroblasts  Testis  \\\n",
       "ENSG00000001084                     0.0                         0.0     0.0   \n",
       "ENSG00000001167                     0.0                         0.0     0.0   \n",
       "ENSG00000001626                     NaN                         NaN     NaN   \n",
       "ENSG00000002549                     0.0                         0.0     0.0   \n",
       "ENSG00000002745                     NaN                         NaN     NaN   \n",
       "\n",
       "                 Small_Intestine_Terminal_Ileum  Brain_Cerebellum  \\\n",
       "ENSG00000001084                             0.0               0.0   \n",
       "ENSG00000001167                             0.0               0.0   \n",
       "ENSG00000001626                             0.0               NaN   \n",
       "ENSG00000002549                             0.0               0.0   \n",
       "ENSG00000002745                             NaN               NaN   \n",
       "\n",
       "                 Esophagus_Muscularis  ...  Ovary  Stomach  Liver  \\\n",
       "ENSG00000001084                   0.0  ...    0.0      0.0    0.0   \n",
       "ENSG00000001167                   0.0  ...    0.0      0.0    0.0   \n",
       "ENSG00000001626                   NaN  ...    0.0      NaN    0.0   \n",
       "ENSG00000002549                   0.0  ...    0.0      0.0    0.0   \n",
       "ENSG00000002745                   0.0  ...    NaN      NaN    NaN   \n",
       "\n",
       "                 Brain_Cerebellar_Hemisphere  Artery_Coronary  Nerve_Tibial  \\\n",
       "ENSG00000001084                          0.0              0.0           0.0   \n",
       "ENSG00000001167                          0.0              0.0           0.0   \n",
       "ENSG00000001626                          0.0              NaN           0.0   \n",
       "ENSG00000002549                          0.0              0.0           0.0   \n",
       "ENSG00000002745                          0.0              NaN           NaN   \n",
       "\n",
       "                 Brain_Cortex  Brain_Putamen_basal_ganglia  \\\n",
       "ENSG00000001084           0.0                          0.0   \n",
       "ENSG00000001167           0.0                          0.0   \n",
       "ENSG00000001626           NaN                          NaN   \n",
       "ENSG00000002549           0.0                          0.0   \n",
       "ENSG00000002745           NaN                          NaN   \n",
       "\n",
       "                 Brain_Hypothalamus  Breast_Mammary_Tissue  \n",
       "ENSG00000001084                 0.0                    0.0  \n",
       "ENSG00000001167                 0.0                    0.0  \n",
       "ENSG00000001626                 NaN                    0.0  \n",
       "ENSG00000002549                 0.0                    0.0  \n",
       "ENSG00000002745                 NaN                    0.0  \n",
       "\n",
       "[5 rows x 47 columns]"
      ]
     },
     "execution_count": 53,
     "metadata": {},
     "output_type": "execute_result"
    }
   ],
   "source": [
    "enloc_all.head()"
   ]
  },
  {
   "cell_type": "code",
   "execution_count": 54,
   "metadata": {},
   "outputs": [],
   "source": [
    "df = create_df_plot(fe_all, enloc_all)"
   ]
  },
  {
   "cell_type": "code",
   "execution_count": 55,
   "metadata": {},
   "outputs": [
    {
     "data": {
      "text/plain": [
       "(40020, 2)"
      ]
     },
     "execution_count": 55,
     "metadata": {},
     "output_type": "execute_result"
    }
   ],
   "source": [
    "df.shape"
   ]
  },
  {
   "cell_type": "code",
   "execution_count": 56,
   "metadata": {},
   "outputs": [
    {
     "data": {
      "text/html": [
       "<div>\n",
       "<style scoped>\n",
       "    .dataframe tbody tr th:only-of-type {\n",
       "        vertical-align: middle;\n",
       "    }\n",
       "\n",
       "    .dataframe tbody tr th {\n",
       "        vertical-align: top;\n",
       "    }\n",
       "\n",
       "    .dataframe thead th {\n",
       "        text-align: right;\n",
       "    }\n",
       "</style>\n",
       "<table border=\"1\" class=\"dataframe\">\n",
       "  <thead>\n",
       "    <tr style=\"text-align: right;\">\n",
       "      <th></th>\n",
       "      <th></th>\n",
       "      <th>ENLOC</th>\n",
       "      <th>fastENLOC</th>\n",
       "    </tr>\n",
       "  </thead>\n",
       "  <tbody>\n",
       "    <tr>\n",
       "      <th>Uterus</th>\n",
       "      <th>ENSG00000166595</th>\n",
       "      <td>0.000</td>\n",
       "      <td>0.001272</td>\n",
       "    </tr>\n",
       "    <tr>\n",
       "      <th>Minor_Salivary_Gland</th>\n",
       "      <th>ENSG00000105509</th>\n",
       "      <td>0.000</td>\n",
       "      <td>0.000596</td>\n",
       "    </tr>\n",
       "    <tr>\n",
       "      <th>Cells_Cultured_fibroblasts</th>\n",
       "      <th>ENSG00000124641</th>\n",
       "      <td>0.013</td>\n",
       "      <td>0.012400</td>\n",
       "    </tr>\n",
       "    <tr>\n",
       "      <th>Brain_Cerebellum</th>\n",
       "      <th>ENSG00000168434</th>\n",
       "      <td>0.000</td>\n",
       "      <td>0.000219</td>\n",
       "    </tr>\n",
       "    <tr>\n",
       "      <th>Esophagus_Gastroesophageal_Junction</th>\n",
       "      <th>ENSG00000142534</th>\n",
       "      <td>0.309</td>\n",
       "      <td>0.520070</td>\n",
       "    </tr>\n",
       "  </tbody>\n",
       "</table>\n",
       "</div>"
      ],
      "text/plain": [
       "                                                     ENLOC  fastENLOC\n",
       "Uterus                              ENSG00000166595  0.000   0.001272\n",
       "Minor_Salivary_Gland                ENSG00000105509  0.000   0.000596\n",
       "Cells_Cultured_fibroblasts          ENSG00000124641  0.013   0.012400\n",
       "Brain_Cerebellum                    ENSG00000168434  0.000   0.000219\n",
       "Esophagus_Gastroesophageal_Junction ENSG00000142534  0.309   0.520070"
      ]
     },
     "execution_count": 56,
     "metadata": {},
     "output_type": "execute_result"
    }
   ],
   "source": [
    "df.head()"
   ]
  },
  {
   "cell_type": "code",
   "execution_count": 57,
   "metadata": {},
   "outputs": [],
   "source": [
    "df_plot = df[(df['ENLOC'] > 0.1) & (df['fastENLOC'] > 0.1)]"
   ]
  },
  {
   "cell_type": "code",
   "execution_count": 58,
   "metadata": {},
   "outputs": [
    {
     "data": {
      "text/plain": [
       "(0.5621062305250905, 3.035618446102388e-42)"
      ]
     },
     "execution_count": 58,
     "metadata": {},
     "output_type": "execute_result"
    }
   ],
   "source": [
    "stats.pearsonr(df_plot['ENLOC'].values, df_plot['fastENLOC'].values)"
   ]
  },
  {
   "cell_type": "code",
   "execution_count": 59,
   "metadata": {},
   "outputs": [
    {
     "data": {
      "text/plain": [
       "SpearmanrResult(correlation=0.5154711770354803, pvalue=1.11430091879732e-34)"
      ]
     },
     "execution_count": 59,
     "metadata": {},
     "output_type": "execute_result"
    }
   ],
   "source": [
    "stats.spearmanr(df_plot['ENLOC'].values, df_plot['fastENLOC'].values)"
   ]
  },
  {
   "cell_type": "code",
   "execution_count": 60,
   "metadata": {},
   "outputs": [],
   "source": [
    "# with sns.axes_style(\"white\"):\n",
    "#     ax = sns.jointplot(data=df_plot, x='ENLOC', y='fastENLOC', kind='kde')\n",
    "#     ax.ax_joint.plot([0.0, 1.0], [0.0, 1.0], 'gray', linewidth=0.75)\n",
    "#     ax.ax_joint.set_xlim([0.0, 1.10])\n",
    "#     ax.ax_joint.set_ylim([0.0, 1.10])"
   ]
  },
  {
   "cell_type": "code",
   "execution_count": 61,
   "metadata": {},
   "outputs": [],
   "source": [
    "# final refining\n",
    "df_plot = df_plot[df_plot['fastENLOC'] <= 1.05]"
   ]
  },
  {
   "cell_type": "code",
   "execution_count": 62,
   "metadata": {},
   "outputs": [
    {
     "data": {
      "image/png": "[encoded data removed]",
      "text/plain": [
       "<Figure size 432x432 with 3 Axes>"
      ]
     },
     "metadata": {},
     "output_type": "display_data"
    }
   ],
   "source": [
    "df_plot_final = df_plot.rename(columns={'ENLOC': 'ENLOC (RCP)', 'fastENLOC': 'fastENLOC (RCP)'})\n",
    "\n",
    "with sns.axes_style(\"white\"):\n",
    "    ax = sns.jointplot(data=df_plot_final, x='ENLOC (RCP)', y='fastENLOC (RCP)', kind='hex')\n",
    "    ax.ax_joint.plot([0.10, 1.0], [0.10, 1.0], 'gray', linewidth=0.75)\n",
    "    ax.fig.suptitle(f'{metadata.RAPID_GWAS_PHENO_INFO.loc[PHENOTYPE_SELECTED, \"description\"]}\\nAll tissues')\n",
    "    \n",
    "    fig_path = os.path.join(figures_path, 'sup_fig3b.png')\n",
    "    plt.savefig(fig_path, dpi=150, bbox_inches='tight')"
   ]
  },
  {
   "cell_type": "markdown",
   "metadata": {},
   "source": [
    "## Ezcema: 6152_9"
   ]
  },
  {
   "cell_type": "code",
   "execution_count": 63,
   "metadata": {},
   "outputs": [],
   "source": [
    "PHENOTYPE_SELECTED = '6152_9'"
   ]
  },
  {
   "cell_type": "code",
   "execution_count": 64,
   "metadata": {},
   "outputs": [],
   "source": [
    "fe_all = read_fe_all_tissues(PHENOTYPE_SELECTED)"
   ]
  },
  {
   "cell_type": "code",
   "execution_count": 65,
   "metadata": {},
   "outputs": [
    {
     "data": {
      "text/plain": [
       "(31205, 47)"
      ]
     },
     "execution_count": 65,
     "metadata": {},
     "output_type": "execute_result"
    }
   ],
   "source": [
    "fe_all.shape"
   ]
  },
  {
   "cell_type": "code",
   "execution_count": 66,
   "metadata": {},
   "outputs": [
    {
     "data": {
      "text/html": [
       "<div>\n",
       "<style scoped>\n",
       "    .dataframe tbody tr th:only-of-type {\n",
       "        vertical-align: middle;\n",
       "    }\n",
       "\n",
       "    .dataframe tbody tr th {\n",
       "        vertical-align: top;\n",
       "    }\n",
       "\n",
       "    .dataframe thead th {\n",
       "        text-align: right;\n",
       "    }\n",
       "</style>\n",
       "<table border=\"1\" class=\"dataframe\">\n",
       "  <thead>\n",
       "    <tr style=\"text-align: right;\">\n",
       "      <th></th>\n",
       "      <th>Adipose_Subcutaneous</th>\n",
       "      <th>Lung</th>\n",
       "      <th>Whole_Blood</th>\n",
       "      <th>Brain_Hippocampus</th>\n",
       "      <th>Heart_Atrial_Appendage</th>\n",
       "      <th>Cells_Cultured_fibroblasts</th>\n",
       "      <th>Testis</th>\n",
       "      <th>Small_Intestine_Terminal_Ileum</th>\n",
       "      <th>Brain_Cerebellum</th>\n",
       "      <th>Esophagus_Muscularis</th>\n",
       "      <th>...</th>\n",
       "      <th>Ovary</th>\n",
       "      <th>Stomach</th>\n",
       "      <th>Liver</th>\n",
       "      <th>Brain_Cerebellar_Hemisphere</th>\n",
       "      <th>Artery_Coronary</th>\n",
       "      <th>Nerve_Tibial</th>\n",
       "      <th>Brain_Cortex</th>\n",
       "      <th>Brain_Putamen_basal_ganglia</th>\n",
       "      <th>Brain_Hypothalamus</th>\n",
       "      <th>Breast_Mammary_Tissue</th>\n",
       "    </tr>\n",
       "  </thead>\n",
       "  <tbody>\n",
       "    <tr>\n",
       "      <th>ENSG00000000457</th>\n",
       "      <td>0.005030</td>\n",
       "      <td>0.000425</td>\n",
       "      <td>0.003099</td>\n",
       "      <td>0.000801</td>\n",
       "      <td>0.000215</td>\n",
       "      <td>0.005822</td>\n",
       "      <td>0.000603</td>\n",
       "      <td>0.000664</td>\n",
       "      <td>0.005344</td>\n",
       "      <td>0.003691</td>\n",
       "      <td>...</td>\n",
       "      <td>0.000221</td>\n",
       "      <td>0.001180</td>\n",
       "      <td>NaN</td>\n",
       "      <td>0.001972</td>\n",
       "      <td>0.000421</td>\n",
       "      <td>0.003383</td>\n",
       "      <td>0.002047</td>\n",
       "      <td>0.001639</td>\n",
       "      <td>0.004471</td>\n",
       "      <td>0.001738</td>\n",
       "    </tr>\n",
       "    <tr>\n",
       "      <th>ENSG00000000460</th>\n",
       "      <td>0.002391</td>\n",
       "      <td>0.008182</td>\n",
       "      <td>0.003843</td>\n",
       "      <td>0.001554</td>\n",
       "      <td>0.003003</td>\n",
       "      <td>NaN</td>\n",
       "      <td>0.000564</td>\n",
       "      <td>0.001061</td>\n",
       "      <td>0.006647</td>\n",
       "      <td>0.009640</td>\n",
       "      <td>...</td>\n",
       "      <td>0.001158</td>\n",
       "      <td>NaN</td>\n",
       "      <td>0.000382</td>\n",
       "      <td>0.007553</td>\n",
       "      <td>0.000101</td>\n",
       "      <td>0.004335</td>\n",
       "      <td>0.000896</td>\n",
       "      <td>0.000565</td>\n",
       "      <td>0.000239</td>\n",
       "      <td>0.000319</td>\n",
       "    </tr>\n",
       "    <tr>\n",
       "      <th>ENSG00000000938</th>\n",
       "      <td>0.000948</td>\n",
       "      <td>0.000340</td>\n",
       "      <td>0.000247</td>\n",
       "      <td>NaN</td>\n",
       "      <td>NaN</td>\n",
       "      <td>NaN</td>\n",
       "      <td>0.000887</td>\n",
       "      <td>NaN</td>\n",
       "      <td>NaN</td>\n",
       "      <td>0.000858</td>\n",
       "      <td>...</td>\n",
       "      <td>NaN</td>\n",
       "      <td>0.000271</td>\n",
       "      <td>NaN</td>\n",
       "      <td>0.000174</td>\n",
       "      <td>NaN</td>\n",
       "      <td>0.000649</td>\n",
       "      <td>NaN</td>\n",
       "      <td>NaN</td>\n",
       "      <td>0.000210</td>\n",
       "      <td>0.000632</td>\n",
       "    </tr>\n",
       "    <tr>\n",
       "      <th>ENSG00000000971</th>\n",
       "      <td>0.000713</td>\n",
       "      <td>0.000460</td>\n",
       "      <td>NaN</td>\n",
       "      <td>0.009512</td>\n",
       "      <td>0.000693</td>\n",
       "      <td>0.000342</td>\n",
       "      <td>0.000195</td>\n",
       "      <td>NaN</td>\n",
       "      <td>0.006482</td>\n",
       "      <td>0.000404</td>\n",
       "      <td>...</td>\n",
       "      <td>0.002607</td>\n",
       "      <td>NaN</td>\n",
       "      <td>0.000505</td>\n",
       "      <td>0.006987</td>\n",
       "      <td>0.000827</td>\n",
       "      <td>0.000857</td>\n",
       "      <td>0.011500</td>\n",
       "      <td>0.000407</td>\n",
       "      <td>NaN</td>\n",
       "      <td>0.001412</td>\n",
       "    </tr>\n",
       "    <tr>\n",
       "      <th>ENSG00000001036</th>\n",
       "      <td>0.000486</td>\n",
       "      <td>0.000109</td>\n",
       "      <td>0.008005</td>\n",
       "      <td>NaN</td>\n",
       "      <td>0.000304</td>\n",
       "      <td>0.002029</td>\n",
       "      <td>0.004197</td>\n",
       "      <td>NaN</td>\n",
       "      <td>NaN</td>\n",
       "      <td>0.013456</td>\n",
       "      <td>...</td>\n",
       "      <td>NaN</td>\n",
       "      <td>0.000387</td>\n",
       "      <td>NaN</td>\n",
       "      <td>0.000779</td>\n",
       "      <td>0.000171</td>\n",
       "      <td>NaN</td>\n",
       "      <td>0.000127</td>\n",
       "      <td>NaN</td>\n",
       "      <td>NaN</td>\n",
       "      <td>0.001522</td>\n",
       "    </tr>\n",
       "  </tbody>\n",
       "</table>\n",
       "<p>5 rows × 47 columns</p>\n",
       "</div>"
      ],
      "text/plain": [
       "                 Adipose_Subcutaneous      Lung  Whole_Blood  \\\n",
       "ENSG00000000457              0.005030  0.000425     0.003099   \n",
       "ENSG00000000460              0.002391  0.008182     0.003843   \n",
       "ENSG00000000938              0.000948  0.000340     0.000247   \n",
       "ENSG00000000971              0.000713  0.000460          NaN   \n",
       "ENSG00000001036              0.000486  0.000109     0.008005   \n",
       "\n",
       "                 Brain_Hippocampus  Heart_Atrial_Appendage  \\\n",
       "ENSG00000000457           0.000801                0.000215   \n",
       "ENSG00000000460           0.001554                0.003003   \n",
       "ENSG00000000938                NaN                     NaN   \n",
       "ENSG00000000971           0.009512                0.000693   \n",
       "ENSG00000001036                NaN                0.000304   \n",
       "\n",
       "                 Cells_Cultured_fibroblasts    Testis  \\\n",
       "ENSG00000000457                    0.005822  0.000603   \n",
       "ENSG00000000460                         NaN  0.000564   \n",
       "ENSG00000000938                         NaN  0.000887   \n",
       "ENSG00000000971                    0.000342  0.000195   \n",
       "ENSG00000001036                    0.002029  0.004197   \n",
       "\n",
       "                 Small_Intestine_Terminal_Ileum  Brain_Cerebellum  \\\n",
       "ENSG00000000457                        0.000664          0.005344   \n",
       "ENSG00000000460                        0.001061          0.006647   \n",
       "ENSG00000000938                             NaN               NaN   \n",
       "ENSG00000000971                             NaN          0.006482   \n",
       "ENSG00000001036                             NaN               NaN   \n",
       "\n",
       "                 Esophagus_Muscularis  ...     Ovary   Stomach     Liver  \\\n",
       "ENSG00000000457              0.003691  ...  0.000221  0.001180       NaN   \n",
       "ENSG00000000460              0.009640  ...  0.001158       NaN  0.000382   \n",
       "ENSG00000000938              0.000858  ...       NaN  0.000271       NaN   \n",
       "ENSG00000000971              0.000404  ...  0.002607       NaN  0.000505   \n",
       "ENSG00000001036              0.013456  ...       NaN  0.000387       NaN   \n",
       "\n",
       "                 Brain_Cerebellar_Hemisphere  Artery_Coronary  Nerve_Tibial  \\\n",
       "ENSG00000000457                     0.001972         0.000421      0.003383   \n",
       "ENSG00000000460                     0.007553         0.000101      0.004335   \n",
       "ENSG00000000938                     0.000174              NaN      0.000649   \n",
       "ENSG00000000971                     0.006987         0.000827      0.000857   \n",
       "ENSG00000001036                     0.000779         0.000171           NaN   \n",
       "\n",
       "                 Brain_Cortex  Brain_Putamen_basal_ganglia  \\\n",
       "ENSG00000000457      0.002047                     0.001639   \n",
       "ENSG00000000460      0.000896                     0.000565   \n",
       "ENSG00000000938           NaN                          NaN   \n",
       "ENSG00000000971      0.011500                     0.000407   \n",
       "ENSG00000001036      0.000127                          NaN   \n",
       "\n",
       "                 Brain_Hypothalamus  Breast_Mammary_Tissue  \n",
       "ENSG00000000457            0.004471               0.001738  \n",
       "ENSG00000000460            0.000239               0.000319  \n",
       "ENSG00000000938            0.000210               0.000632  \n",
       "ENSG00000000971                 NaN               0.001412  \n",
       "ENSG00000001036                 NaN               0.001522  \n",
       "\n",
       "[5 rows x 47 columns]"
      ]
     },
     "execution_count": 66,
     "metadata": {},
     "output_type": "execute_result"
    }
   ],
   "source": [
    "fe_all.head()"
   ]
  },
  {
   "cell_type": "code",
   "execution_count": 67,
   "metadata": {},
   "outputs": [],
   "source": [
    "enloc_all = read_enloc_all_tissues(PHENO_MAPPINGS[PHENOTYPE_SELECTED])"
   ]
  },
  {
   "cell_type": "code",
   "execution_count": 68,
   "metadata": {},
   "outputs": [
    {
     "data": {
      "text/plain": [
       "(8552, 47)"
      ]
     },
     "execution_count": 68,
     "metadata": {},
     "output_type": "execute_result"
    }
   ],
   "source": [
    "enloc_all.shape"
   ]
  },
  {
   "cell_type": "code",
   "execution_count": 69,
   "metadata": {},
   "outputs": [
    {
     "data": {
      "text/html": [
       "<div>\n",
       "<style scoped>\n",
       "    .dataframe tbody tr th:only-of-type {\n",
       "        vertical-align: middle;\n",
       "    }\n",
       "\n",
       "    .dataframe tbody tr th {\n",
       "        vertical-align: top;\n",
       "    }\n",
       "\n",
       "    .dataframe thead th {\n",
       "        text-align: right;\n",
       "    }\n",
       "</style>\n",
       "<table border=\"1\" class=\"dataframe\">\n",
       "  <thead>\n",
       "    <tr style=\"text-align: right;\">\n",
       "      <th></th>\n",
       "      <th>Adipose_Subcutaneous</th>\n",
       "      <th>Lung</th>\n",
       "      <th>Whole_Blood</th>\n",
       "      <th>Brain_Hippocampus</th>\n",
       "      <th>Heart_Atrial_Appendage</th>\n",
       "      <th>Cells_Cultured_fibroblasts</th>\n",
       "      <th>Testis</th>\n",
       "      <th>Small_Intestine_Terminal_Ileum</th>\n",
       "      <th>Brain_Cerebellum</th>\n",
       "      <th>Esophagus_Muscularis</th>\n",
       "      <th>...</th>\n",
       "      <th>Ovary</th>\n",
       "      <th>Stomach</th>\n",
       "      <th>Liver</th>\n",
       "      <th>Brain_Cerebellar_Hemisphere</th>\n",
       "      <th>Artery_Coronary</th>\n",
       "      <th>Nerve_Tibial</th>\n",
       "      <th>Brain_Cortex</th>\n",
       "      <th>Brain_Putamen_basal_ganglia</th>\n",
       "      <th>Brain_Hypothalamus</th>\n",
       "      <th>Breast_Mammary_Tissue</th>\n",
       "    </tr>\n",
       "  </thead>\n",
       "  <tbody>\n",
       "    <tr>\n",
       "      <th>ENSG00000000419</th>\n",
       "      <td>0.000</td>\n",
       "      <td>0.000</td>\n",
       "      <td>0.000</td>\n",
       "      <td>0.000</td>\n",
       "      <td>0.000</td>\n",
       "      <td>0.0</td>\n",
       "      <td>0.000</td>\n",
       "      <td>0.000</td>\n",
       "      <td>0.000</td>\n",
       "      <td>0.000</td>\n",
       "      <td>...</td>\n",
       "      <td>0.000</td>\n",
       "      <td>0.000</td>\n",
       "      <td>0.0</td>\n",
       "      <td>0.000</td>\n",
       "      <td>0.000</td>\n",
       "      <td>0.000</td>\n",
       "      <td>0.000</td>\n",
       "      <td>0.000</td>\n",
       "      <td>0.000</td>\n",
       "      <td>0.00</td>\n",
       "    </tr>\n",
       "    <tr>\n",
       "      <th>ENSG00000000457</th>\n",
       "      <td>NaN</td>\n",
       "      <td>0.000</td>\n",
       "      <td>NaN</td>\n",
       "      <td>NaN</td>\n",
       "      <td>0.000</td>\n",
       "      <td>NaN</td>\n",
       "      <td>NaN</td>\n",
       "      <td>NaN</td>\n",
       "      <td>NaN</td>\n",
       "      <td>NaN</td>\n",
       "      <td>...</td>\n",
       "      <td>0.000</td>\n",
       "      <td>0.000</td>\n",
       "      <td>0.0</td>\n",
       "      <td>NaN</td>\n",
       "      <td>0.000</td>\n",
       "      <td>NaN</td>\n",
       "      <td>NaN</td>\n",
       "      <td>NaN</td>\n",
       "      <td>NaN</td>\n",
       "      <td>NaN</td>\n",
       "    </tr>\n",
       "    <tr>\n",
       "      <th>ENSG00000000460</th>\n",
       "      <td>NaN</td>\n",
       "      <td>NaN</td>\n",
       "      <td>NaN</td>\n",
       "      <td>NaN</td>\n",
       "      <td>NaN</td>\n",
       "      <td>0.0</td>\n",
       "      <td>NaN</td>\n",
       "      <td>NaN</td>\n",
       "      <td>NaN</td>\n",
       "      <td>NaN</td>\n",
       "      <td>...</td>\n",
       "      <td>NaN</td>\n",
       "      <td>NaN</td>\n",
       "      <td>NaN</td>\n",
       "      <td>NaN</td>\n",
       "      <td>0.000</td>\n",
       "      <td>NaN</td>\n",
       "      <td>NaN</td>\n",
       "      <td>NaN</td>\n",
       "      <td>0.000</td>\n",
       "      <td>0.00</td>\n",
       "    </tr>\n",
       "    <tr>\n",
       "      <th>ENSG00000000938</th>\n",
       "      <td>0.000</td>\n",
       "      <td>0.000</td>\n",
       "      <td>0.000</td>\n",
       "      <td>0.000</td>\n",
       "      <td>0.000</td>\n",
       "      <td>0.0</td>\n",
       "      <td>0.000</td>\n",
       "      <td>0.000</td>\n",
       "      <td>0.000</td>\n",
       "      <td>0.000</td>\n",
       "      <td>...</td>\n",
       "      <td>0.000</td>\n",
       "      <td>0.000</td>\n",
       "      <td>0.0</td>\n",
       "      <td>0.000</td>\n",
       "      <td>0.000</td>\n",
       "      <td>0.000</td>\n",
       "      <td>0.000</td>\n",
       "      <td>0.000</td>\n",
       "      <td>0.000</td>\n",
       "      <td>0.00</td>\n",
       "    </tr>\n",
       "    <tr>\n",
       "      <th>ENSG00000000971</th>\n",
       "      <td>0.071</td>\n",
       "      <td>0.002</td>\n",
       "      <td>0.001</td>\n",
       "      <td>0.022</td>\n",
       "      <td>0.018</td>\n",
       "      <td>0.0</td>\n",
       "      <td>0.002</td>\n",
       "      <td>0.005</td>\n",
       "      <td>0.027</td>\n",
       "      <td>0.001</td>\n",
       "      <td>...</td>\n",
       "      <td>0.004</td>\n",
       "      <td>0.001</td>\n",
       "      <td>0.0</td>\n",
       "      <td>0.005</td>\n",
       "      <td>0.008</td>\n",
       "      <td>0.004</td>\n",
       "      <td>0.022</td>\n",
       "      <td>0.006</td>\n",
       "      <td>0.001</td>\n",
       "      <td>0.01</td>\n",
       "    </tr>\n",
       "  </tbody>\n",
       "</table>\n",
       "<p>5 rows × 47 columns</p>\n",
       "</div>"
      ],
      "text/plain": [
       "                 Adipose_Subcutaneous   Lung  Whole_Blood  Brain_Hippocampus  \\\n",
       "ENSG00000000419                 0.000  0.000        0.000              0.000   \n",
       "ENSG00000000457                   NaN  0.000          NaN                NaN   \n",
       "ENSG00000000460                   NaN    NaN          NaN                NaN   \n",
       "ENSG00000000938                 0.000  0.000        0.000              0.000   \n",
       "ENSG00000000971                 0.071  0.002        0.001              0.022   \n",
       "\n",
       "                 Heart_Atrial_Appendage  Cells_Cultured_fibroblasts  Testis  \\\n",
       "ENSG00000000419                   0.000                         0.0   0.000   \n",
       "ENSG00000000457                   0.000                         NaN     NaN   \n",
       "ENSG00000000460                     NaN                         0.0     NaN   \n",
       "ENSG00000000938                   0.000                         0.0   0.000   \n",
       "ENSG00000000971                   0.018                         0.0   0.002   \n",
       "\n",
       "                 Small_Intestine_Terminal_Ileum  Brain_Cerebellum  \\\n",
       "ENSG00000000419                           0.000             0.000   \n",
       "ENSG00000000457                             NaN               NaN   \n",
       "ENSG00000000460                             NaN               NaN   \n",
       "ENSG00000000938                           0.000             0.000   \n",
       "ENSG00000000971                           0.005             0.027   \n",
       "\n",
       "                 Esophagus_Muscularis  ...  Ovary  Stomach  Liver  \\\n",
       "ENSG00000000419                 0.000  ...  0.000    0.000    0.0   \n",
       "ENSG00000000457                   NaN  ...  0.000    0.000    0.0   \n",
       "ENSG00000000460                   NaN  ...    NaN      NaN    NaN   \n",
       "ENSG00000000938                 0.000  ...  0.000    0.000    0.0   \n",
       "ENSG00000000971                 0.001  ...  0.004    0.001    0.0   \n",
       "\n",
       "                 Brain_Cerebellar_Hemisphere  Artery_Coronary  Nerve_Tibial  \\\n",
       "ENSG00000000419                        0.000            0.000         0.000   \n",
       "ENSG00000000457                          NaN            0.000           NaN   \n",
       "ENSG00000000460                          NaN            0.000           NaN   \n",
       "ENSG00000000938                        0.000            0.000         0.000   \n",
       "ENSG00000000971                        0.005            0.008         0.004   \n",
       "\n",
       "                 Brain_Cortex  Brain_Putamen_basal_ganglia  \\\n",
       "ENSG00000000419         0.000                        0.000   \n",
       "ENSG00000000457           NaN                          NaN   \n",
       "ENSG00000000460           NaN                          NaN   \n",
       "ENSG00000000938         0.000                        0.000   \n",
       "ENSG00000000971         0.022                        0.006   \n",
       "\n",
       "                 Brain_Hypothalamus  Breast_Mammary_Tissue  \n",
       "ENSG00000000419               0.000                   0.00  \n",
       "ENSG00000000457                 NaN                    NaN  \n",
       "ENSG00000000460               0.000                   0.00  \n",
       "ENSG00000000938               0.000                   0.00  \n",
       "ENSG00000000971               0.001                   0.01  \n",
       "\n",
       "[5 rows x 47 columns]"
      ]
     },
     "execution_count": 69,
     "metadata": {},
     "output_type": "execute_result"
    }
   ],
   "source": [
    "enloc_all.head()"
   ]
  },
  {
   "cell_type": "code",
   "execution_count": 70,
   "metadata": {},
   "outputs": [],
   "source": [
    "df = create_df_plot(fe_all, enloc_all)"
   ]
  },
  {
   "cell_type": "code",
   "execution_count": 71,
   "metadata": {},
   "outputs": [
    {
     "data": {
      "text/plain": [
       "(70536, 2)"
      ]
     },
     "execution_count": 71,
     "metadata": {},
     "output_type": "execute_result"
    }
   ],
   "source": [
    "df.shape"
   ]
  },
  {
   "cell_type": "code",
   "execution_count": 72,
   "metadata": {},
   "outputs": [
    {
     "data": {
      "text/html": [
       "<div>\n",
       "<style scoped>\n",
       "    .dataframe tbody tr th:only-of-type {\n",
       "        vertical-align: middle;\n",
       "    }\n",
       "\n",
       "    .dataframe tbody tr th {\n",
       "        vertical-align: top;\n",
       "    }\n",
       "\n",
       "    .dataframe thead th {\n",
       "        text-align: right;\n",
       "    }\n",
       "</style>\n",
       "<table border=\"1\" class=\"dataframe\">\n",
       "  <thead>\n",
       "    <tr style=\"text-align: right;\">\n",
       "      <th></th>\n",
       "      <th></th>\n",
       "      <th>ENLOC</th>\n",
       "      <th>fastENLOC</th>\n",
       "    </tr>\n",
       "  </thead>\n",
       "  <tbody>\n",
       "    <tr>\n",
       "      <th>Brain_Frontal_Cortex_BA9</th>\n",
       "      <th>ENSG00000168928</th>\n",
       "      <td>0.000</td>\n",
       "      <td>0.000159</td>\n",
       "    </tr>\n",
       "    <tr>\n",
       "      <th>Adipose_Visceral_Omentum</th>\n",
       "      <th>ENSG00000197536</th>\n",
       "      <td>0.008</td>\n",
       "      <td>0.000752</td>\n",
       "    </tr>\n",
       "    <tr>\n",
       "      <th>Esophagus_Gastroesophageal_Junction</th>\n",
       "      <th>ENSG00000165271</th>\n",
       "      <td>0.001</td>\n",
       "      <td>0.001710</td>\n",
       "    </tr>\n",
       "    <tr>\n",
       "      <th>Testis</th>\n",
       "      <th>ENSG00000213658</th>\n",
       "      <td>0.002</td>\n",
       "      <td>0.000288</td>\n",
       "    </tr>\n",
       "    <tr>\n",
       "      <th>Esophagus_Muscularis</th>\n",
       "      <th>ENSG00000120437</th>\n",
       "      <td>0.000</td>\n",
       "      <td>0.000117</td>\n",
       "    </tr>\n",
       "  </tbody>\n",
       "</table>\n",
       "</div>"
      ],
      "text/plain": [
       "                                                     ENLOC  fastENLOC\n",
       "Brain_Frontal_Cortex_BA9            ENSG00000168928  0.000   0.000159\n",
       "Adipose_Visceral_Omentum            ENSG00000197536  0.008   0.000752\n",
       "Esophagus_Gastroesophageal_Junction ENSG00000165271  0.001   0.001710\n",
       "Testis                              ENSG00000213658  0.002   0.000288\n",
       "Esophagus_Muscularis                ENSG00000120437  0.000   0.000117"
      ]
     },
     "execution_count": 72,
     "metadata": {},
     "output_type": "execute_result"
    }
   ],
   "source": [
    "df.head()"
   ]
  },
  {
   "cell_type": "code",
   "execution_count": 73,
   "metadata": {},
   "outputs": [],
   "source": [
    "df_plot = df[(df['ENLOC'] > 0.1) & (df['fastENLOC'] > 0.1)]"
   ]
  },
  {
   "cell_type": "code",
   "execution_count": 74,
   "metadata": {},
   "outputs": [
    {
     "data": {
      "text/plain": [
       "(0.6483029250444933, 5.4944137447535363e-163)"
      ]
     },
     "execution_count": 74,
     "metadata": {},
     "output_type": "execute_result"
    }
   ],
   "source": [
    "stats.pearsonr(df_plot['ENLOC'].values, df_plot['fastENLOC'].values)"
   ]
  },
  {
   "cell_type": "code",
   "execution_count": 75,
   "metadata": {},
   "outputs": [
    {
     "data": {
      "text/plain": [
       "SpearmanrResult(correlation=0.5716791060538983, pvalue=7.585856504677343e-119)"
      ]
     },
     "execution_count": 75,
     "metadata": {},
     "output_type": "execute_result"
    }
   ],
   "source": [
    "stats.spearmanr(df_plot['ENLOC'].values, df_plot['fastENLOC'].values)"
   ]
  },
  {
   "cell_type": "code",
   "execution_count": 76,
   "metadata": {},
   "outputs": [],
   "source": [
    "# final refining\n",
    "df_plot = df_plot[df_plot['fastENLOC'] <= 1.05]"
   ]
  },
  {
   "cell_type": "code",
   "execution_count": 77,
   "metadata": {},
   "outputs": [
    {
     "data": {
      "image/png": "[encoded data removed]",
      "text/plain": [
       "<Figure size 432x432 with 3 Axes>"
      ]
     },
     "metadata": {},
     "output_type": "display_data"
    }
   ],
   "source": [
    "df_plot_final = df_plot.rename(columns={'ENLOC': 'ENLOC (RCP)', 'fastENLOC': 'fastENLOC (RCP)'})\n",
    "\n",
    "with sns.axes_style(\"white\"):\n",
    "    ax = sns.jointplot(data=df_plot_final, x='ENLOC (RCP)', y='fastENLOC (RCP)', kind='hex')\n",
    "    ax.ax_joint.plot([0.10, 1.0], [0.10, 1.0], 'gray', linewidth=0.75)\n",
    "    ax.fig.suptitle(f'Hayfever, allergic rhinitis or eczema\\nAll tissues')\n",
    "    \n",
    "    fig_path = os.path.join(figures_path, 'sup_fig3c.png')\n",
    "    plt.savefig(fig_path, dpi=150, bbox_inches='tight')"
   ]
  },
  {
   "cell_type": "markdown",
   "metadata": {},
   "source": [
    "## Fluid intelligence score: 20016"
   ]
  },
  {
   "cell_type": "code",
   "execution_count": 78,
   "metadata": {},
   "outputs": [],
   "source": [
    "PHENOTYPE_SELECTED = '20016_raw'"
   ]
  },
  {
   "cell_type": "code",
   "execution_count": 79,
   "metadata": {},
   "outputs": [],
   "source": [
    "fe_all = read_fe_all_tissues(PHENOTYPE_SELECTED)"
   ]
  },
  {
   "cell_type": "code",
   "execution_count": 80,
   "metadata": {},
   "outputs": [
    {
     "data": {
      "text/plain": [
       "(35471, 47)"
      ]
     },
     "execution_count": 80,
     "metadata": {},
     "output_type": "execute_result"
    }
   ],
   "source": [
    "fe_all.shape"
   ]
  },
  {
   "cell_type": "code",
   "execution_count": 81,
   "metadata": {},
   "outputs": [
    {
     "data": {
      "text/html": [
       "<div>\n",
       "<style scoped>\n",
       "    .dataframe tbody tr th:only-of-type {\n",
       "        vertical-align: middle;\n",
       "    }\n",
       "\n",
       "    .dataframe tbody tr th {\n",
       "        vertical-align: top;\n",
       "    }\n",
       "\n",
       "    .dataframe thead th {\n",
       "        text-align: right;\n",
       "    }\n",
       "</style>\n",
       "<table border=\"1\" class=\"dataframe\">\n",
       "  <thead>\n",
       "    <tr style=\"text-align: right;\">\n",
       "      <th></th>\n",
       "      <th>Adipose_Subcutaneous</th>\n",
       "      <th>Lung</th>\n",
       "      <th>Whole_Blood</th>\n",
       "      <th>Brain_Hippocampus</th>\n",
       "      <th>Heart_Atrial_Appendage</th>\n",
       "      <th>Cells_Cultured_fibroblasts</th>\n",
       "      <th>Testis</th>\n",
       "      <th>Small_Intestine_Terminal_Ileum</th>\n",
       "      <th>Brain_Cerebellum</th>\n",
       "      <th>Esophagus_Muscularis</th>\n",
       "      <th>...</th>\n",
       "      <th>Ovary</th>\n",
       "      <th>Stomach</th>\n",
       "      <th>Liver</th>\n",
       "      <th>Brain_Cerebellar_Hemisphere</th>\n",
       "      <th>Artery_Coronary</th>\n",
       "      <th>Nerve_Tibial</th>\n",
       "      <th>Brain_Cortex</th>\n",
       "      <th>Brain_Putamen_basal_ganglia</th>\n",
       "      <th>Brain_Hypothalamus</th>\n",
       "      <th>Breast_Mammary_Tissue</th>\n",
       "    </tr>\n",
       "  </thead>\n",
       "  <tbody>\n",
       "    <tr>\n",
       "      <th>ENSG00000000419</th>\n",
       "      <td>0.000205</td>\n",
       "      <td>0.000350</td>\n",
       "      <td>NaN</td>\n",
       "      <td>0.000405</td>\n",
       "      <td>NaN</td>\n",
       "      <td>0.000318</td>\n",
       "      <td>0.000148</td>\n",
       "      <td>0.000112</td>\n",
       "      <td>0.002264</td>\n",
       "      <td>NaN</td>\n",
       "      <td>...</td>\n",
       "      <td>NaN</td>\n",
       "      <td>NaN</td>\n",
       "      <td>NaN</td>\n",
       "      <td>0.000243</td>\n",
       "      <td>NaN</td>\n",
       "      <td>0.000705</td>\n",
       "      <td>NaN</td>\n",
       "      <td>NaN</td>\n",
       "      <td>0.000441</td>\n",
       "      <td>NaN</td>\n",
       "    </tr>\n",
       "    <tr>\n",
       "      <th>ENSG00000000457</th>\n",
       "      <td>0.004956</td>\n",
       "      <td>0.000306</td>\n",
       "      <td>0.002659</td>\n",
       "      <td>0.001481</td>\n",
       "      <td>0.000274</td>\n",
       "      <td>0.003534</td>\n",
       "      <td>0.001798</td>\n",
       "      <td>0.000837</td>\n",
       "      <td>0.009823</td>\n",
       "      <td>0.004721</td>\n",
       "      <td>...</td>\n",
       "      <td>0.001492</td>\n",
       "      <td>0.000822</td>\n",
       "      <td>0.000340</td>\n",
       "      <td>0.003636</td>\n",
       "      <td>0.000645</td>\n",
       "      <td>0.005143</td>\n",
       "      <td>0.002466</td>\n",
       "      <td>0.003265</td>\n",
       "      <td>0.004666</td>\n",
       "      <td>0.001886</td>\n",
       "    </tr>\n",
       "    <tr>\n",
       "      <th>ENSG00000000460</th>\n",
       "      <td>0.002040</td>\n",
       "      <td>0.005612</td>\n",
       "      <td>0.005046</td>\n",
       "      <td>0.003706</td>\n",
       "      <td>0.003235</td>\n",
       "      <td>0.000610</td>\n",
       "      <td>0.002142</td>\n",
       "      <td>0.002302</td>\n",
       "      <td>0.013306</td>\n",
       "      <td>0.007665</td>\n",
       "      <td>...</td>\n",
       "      <td>0.004747</td>\n",
       "      <td>0.000129</td>\n",
       "      <td>0.002854</td>\n",
       "      <td>0.011755</td>\n",
       "      <td>0.000186</td>\n",
       "      <td>0.006391</td>\n",
       "      <td>0.002081</td>\n",
       "      <td>0.001938</td>\n",
       "      <td>0.000623</td>\n",
       "      <td>0.000894</td>\n",
       "    </tr>\n",
       "    <tr>\n",
       "      <th>ENSG00000000938</th>\n",
       "      <td>0.000482</td>\n",
       "      <td>0.000160</td>\n",
       "      <td>NaN</td>\n",
       "      <td>NaN</td>\n",
       "      <td>NaN</td>\n",
       "      <td>NaN</td>\n",
       "      <td>0.000592</td>\n",
       "      <td>NaN</td>\n",
       "      <td>NaN</td>\n",
       "      <td>0.000548</td>\n",
       "      <td>...</td>\n",
       "      <td>NaN</td>\n",
       "      <td>0.000161</td>\n",
       "      <td>NaN</td>\n",
       "      <td>0.000189</td>\n",
       "      <td>NaN</td>\n",
       "      <td>0.000567</td>\n",
       "      <td>NaN</td>\n",
       "      <td>NaN</td>\n",
       "      <td>0.000113</td>\n",
       "      <td>0.000211</td>\n",
       "    </tr>\n",
       "    <tr>\n",
       "      <th>ENSG00000000971</th>\n",
       "      <td>0.002207</td>\n",
       "      <td>0.002046</td>\n",
       "      <td>0.000654</td>\n",
       "      <td>0.005555</td>\n",
       "      <td>0.005023</td>\n",
       "      <td>0.005292</td>\n",
       "      <td>0.002908</td>\n",
       "      <td>0.000210</td>\n",
       "      <td>0.007964</td>\n",
       "      <td>0.002623</td>\n",
       "      <td>...</td>\n",
       "      <td>0.014430</td>\n",
       "      <td>0.001164</td>\n",
       "      <td>0.001371</td>\n",
       "      <td>0.004830</td>\n",
       "      <td>0.004156</td>\n",
       "      <td>0.020676</td>\n",
       "      <td>0.005993</td>\n",
       "      <td>0.004357</td>\n",
       "      <td>NaN</td>\n",
       "      <td>0.001016</td>\n",
       "    </tr>\n",
       "  </tbody>\n",
       "</table>\n",
       "<p>5 rows × 47 columns</p>\n",
       "</div>"
      ],
      "text/plain": [
       "                 Adipose_Subcutaneous      Lung  Whole_Blood  \\\n",
       "ENSG00000000419              0.000205  0.000350          NaN   \n",
       "ENSG00000000457              0.004956  0.000306     0.002659   \n",
       "ENSG00000000460              0.002040  0.005612     0.005046   \n",
       "ENSG00000000938              0.000482  0.000160          NaN   \n",
       "ENSG00000000971              0.002207  0.002046     0.000654   \n",
       "\n",
       "                 Brain_Hippocampus  Heart_Atrial_Appendage  \\\n",
       "ENSG00000000419           0.000405                     NaN   \n",
       "ENSG00000000457           0.001481                0.000274   \n",
       "ENSG00000000460           0.003706                0.003235   \n",
       "ENSG00000000938                NaN                     NaN   \n",
       "ENSG00000000971           0.005555                0.005023   \n",
       "\n",
       "                 Cells_Cultured_fibroblasts    Testis  \\\n",
       "ENSG00000000419                    0.000318  0.000148   \n",
       "ENSG00000000457                    0.003534  0.001798   \n",
       "ENSG00000000460                    0.000610  0.002142   \n",
       "ENSG00000000938                         NaN  0.000592   \n",
       "ENSG00000000971                    0.005292  0.002908   \n",
       "\n",
       "                 Small_Intestine_Terminal_Ileum  Brain_Cerebellum  \\\n",
       "ENSG00000000419                        0.000112          0.002264   \n",
       "ENSG00000000457                        0.000837          0.009823   \n",
       "ENSG00000000460                        0.002302          0.013306   \n",
       "ENSG00000000938                             NaN               NaN   \n",
       "ENSG00000000971                        0.000210          0.007964   \n",
       "\n",
       "                 Esophagus_Muscularis  ...     Ovary   Stomach     Liver  \\\n",
       "ENSG00000000419                   NaN  ...       NaN       NaN       NaN   \n",
       "ENSG00000000457              0.004721  ...  0.001492  0.000822  0.000340   \n",
       "ENSG00000000460              0.007665  ...  0.004747  0.000129  0.002854   \n",
       "ENSG00000000938              0.000548  ...       NaN  0.000161       NaN   \n",
       "ENSG00000000971              0.002623  ...  0.014430  0.001164  0.001371   \n",
       "\n",
       "                 Brain_Cerebellar_Hemisphere  Artery_Coronary  Nerve_Tibial  \\\n",
       "ENSG00000000419                     0.000243              NaN      0.000705   \n",
       "ENSG00000000457                     0.003636         0.000645      0.005143   \n",
       "ENSG00000000460                     0.011755         0.000186      0.006391   \n",
       "ENSG00000000938                     0.000189              NaN      0.000567   \n",
       "ENSG00000000971                     0.004830         0.004156      0.020676   \n",
       "\n",
       "                 Brain_Cortex  Brain_Putamen_basal_ganglia  \\\n",
       "ENSG00000000419           NaN                          NaN   \n",
       "ENSG00000000457      0.002466                     0.003265   \n",
       "ENSG00000000460      0.002081                     0.001938   \n",
       "ENSG00000000938           NaN                          NaN   \n",
       "ENSG00000000971      0.005993                     0.004357   \n",
       "\n",
       "                 Brain_Hypothalamus  Breast_Mammary_Tissue  \n",
       "ENSG00000000419            0.000441                    NaN  \n",
       "ENSG00000000457            0.004666               0.001886  \n",
       "ENSG00000000460            0.000623               0.000894  \n",
       "ENSG00000000938            0.000113               0.000211  \n",
       "ENSG00000000971                 NaN               0.001016  \n",
       "\n",
       "[5 rows x 47 columns]"
      ]
     },
     "execution_count": 81,
     "metadata": {},
     "output_type": "execute_result"
    }
   ],
   "source": [
    "fe_all.head()"
   ]
  },
  {
   "cell_type": "code",
   "execution_count": 82,
   "metadata": {},
   "outputs": [],
   "source": [
    "enloc_all = read_enloc_all_tissues(PHENO_MAPPINGS[PHENOTYPE_SELECTED])"
   ]
  },
  {
   "cell_type": "code",
   "execution_count": 83,
   "metadata": {},
   "outputs": [
    {
     "data": {
      "text/plain": [
       "(4776, 47)"
      ]
     },
     "execution_count": 83,
     "metadata": {},
     "output_type": "execute_result"
    }
   ],
   "source": [
    "enloc_all.shape"
   ]
  },
  {
   "cell_type": "code",
   "execution_count": 84,
   "metadata": {},
   "outputs": [
    {
     "data": {
      "text/html": [
       "<div>\n",
       "<style scoped>\n",
       "    .dataframe tbody tr th:only-of-type {\n",
       "        vertical-align: middle;\n",
       "    }\n",
       "\n",
       "    .dataframe tbody tr th {\n",
       "        vertical-align: top;\n",
       "    }\n",
       "\n",
       "    .dataframe thead th {\n",
       "        text-align: right;\n",
       "    }\n",
       "</style>\n",
       "<table border=\"1\" class=\"dataframe\">\n",
       "  <thead>\n",
       "    <tr style=\"text-align: right;\">\n",
       "      <th></th>\n",
       "      <th>Adipose_Subcutaneous</th>\n",
       "      <th>Lung</th>\n",
       "      <th>Whole_Blood</th>\n",
       "      <th>Brain_Hippocampus</th>\n",
       "      <th>Heart_Atrial_Appendage</th>\n",
       "      <th>Cells_Cultured_fibroblasts</th>\n",
       "      <th>Testis</th>\n",
       "      <th>Small_Intestine_Terminal_Ileum</th>\n",
       "      <th>Brain_Cerebellum</th>\n",
       "      <th>Esophagus_Muscularis</th>\n",
       "      <th>...</th>\n",
       "      <th>Ovary</th>\n",
       "      <th>Stomach</th>\n",
       "      <th>Liver</th>\n",
       "      <th>Brain_Cerebellar_Hemisphere</th>\n",
       "      <th>Artery_Coronary</th>\n",
       "      <th>Nerve_Tibial</th>\n",
       "      <th>Brain_Cortex</th>\n",
       "      <th>Brain_Putamen_basal_ganglia</th>\n",
       "      <th>Brain_Hypothalamus</th>\n",
       "      <th>Breast_Mammary_Tissue</th>\n",
       "    </tr>\n",
       "  </thead>\n",
       "  <tbody>\n",
       "    <tr>\n",
       "      <th>ENSG00000000419</th>\n",
       "      <td>0.000</td>\n",
       "      <td>0.0</td>\n",
       "      <td>0.0</td>\n",
       "      <td>NaN</td>\n",
       "      <td>0.0</td>\n",
       "      <td>0.0</td>\n",
       "      <td>0.0</td>\n",
       "      <td>0.0</td>\n",
       "      <td>0.0</td>\n",
       "      <td>0.000</td>\n",
       "      <td>...</td>\n",
       "      <td>0.0</td>\n",
       "      <td>0.0</td>\n",
       "      <td>0.0</td>\n",
       "      <td>0.0</td>\n",
       "      <td>0.0</td>\n",
       "      <td>0.000</td>\n",
       "      <td>0.0</td>\n",
       "      <td>0.0</td>\n",
       "      <td>0.0</td>\n",
       "      <td>0.0</td>\n",
       "    </tr>\n",
       "    <tr>\n",
       "      <th>ENSG00000000457</th>\n",
       "      <td>NaN</td>\n",
       "      <td>0.0</td>\n",
       "      <td>NaN</td>\n",
       "      <td>NaN</td>\n",
       "      <td>0.0</td>\n",
       "      <td>NaN</td>\n",
       "      <td>NaN</td>\n",
       "      <td>NaN</td>\n",
       "      <td>NaN</td>\n",
       "      <td>NaN</td>\n",
       "      <td>...</td>\n",
       "      <td>0.0</td>\n",
       "      <td>NaN</td>\n",
       "      <td>0.0</td>\n",
       "      <td>NaN</td>\n",
       "      <td>0.0</td>\n",
       "      <td>NaN</td>\n",
       "      <td>NaN</td>\n",
       "      <td>NaN</td>\n",
       "      <td>NaN</td>\n",
       "      <td>NaN</td>\n",
       "    </tr>\n",
       "    <tr>\n",
       "      <th>ENSG00000000460</th>\n",
       "      <td>NaN</td>\n",
       "      <td>NaN</td>\n",
       "      <td>NaN</td>\n",
       "      <td>NaN</td>\n",
       "      <td>NaN</td>\n",
       "      <td>NaN</td>\n",
       "      <td>NaN</td>\n",
       "      <td>NaN</td>\n",
       "      <td>NaN</td>\n",
       "      <td>NaN</td>\n",
       "      <td>...</td>\n",
       "      <td>NaN</td>\n",
       "      <td>NaN</td>\n",
       "      <td>NaN</td>\n",
       "      <td>NaN</td>\n",
       "      <td>NaN</td>\n",
       "      <td>NaN</td>\n",
       "      <td>NaN</td>\n",
       "      <td>NaN</td>\n",
       "      <td>NaN</td>\n",
       "      <td>NaN</td>\n",
       "    </tr>\n",
       "    <tr>\n",
       "      <th>ENSG00000000938</th>\n",
       "      <td>0.000</td>\n",
       "      <td>0.0</td>\n",
       "      <td>0.0</td>\n",
       "      <td>0.0</td>\n",
       "      <td>0.0</td>\n",
       "      <td>0.0</td>\n",
       "      <td>0.0</td>\n",
       "      <td>0.0</td>\n",
       "      <td>0.0</td>\n",
       "      <td>0.000</td>\n",
       "      <td>...</td>\n",
       "      <td>0.0</td>\n",
       "      <td>0.0</td>\n",
       "      <td>0.0</td>\n",
       "      <td>0.0</td>\n",
       "      <td>0.0</td>\n",
       "      <td>0.000</td>\n",
       "      <td>0.0</td>\n",
       "      <td>0.0</td>\n",
       "      <td>0.0</td>\n",
       "      <td>0.0</td>\n",
       "    </tr>\n",
       "    <tr>\n",
       "      <th>ENSG00000001617</th>\n",
       "      <td>0.001</td>\n",
       "      <td>0.0</td>\n",
       "      <td>0.0</td>\n",
       "      <td>0.0</td>\n",
       "      <td>0.0</td>\n",
       "      <td>0.0</td>\n",
       "      <td>0.0</td>\n",
       "      <td>0.0</td>\n",
       "      <td>0.0</td>\n",
       "      <td>0.001</td>\n",
       "      <td>...</td>\n",
       "      <td>0.0</td>\n",
       "      <td>0.0</td>\n",
       "      <td>0.0</td>\n",
       "      <td>0.0</td>\n",
       "      <td>0.0</td>\n",
       "      <td>0.002</td>\n",
       "      <td>0.0</td>\n",
       "      <td>0.0</td>\n",
       "      <td>0.0</td>\n",
       "      <td>0.0</td>\n",
       "    </tr>\n",
       "  </tbody>\n",
       "</table>\n",
       "<p>5 rows × 47 columns</p>\n",
       "</div>"
      ],
      "text/plain": [
       "                 Adipose_Subcutaneous  Lung  Whole_Blood  Brain_Hippocampus  \\\n",
       "ENSG00000000419                 0.000   0.0          0.0                NaN   \n",
       "ENSG00000000457                   NaN   0.0          NaN                NaN   \n",
       "ENSG00000000460                   NaN   NaN          NaN                NaN   \n",
       "ENSG00000000938                 0.000   0.0          0.0                0.0   \n",
       "ENSG00000001617                 0.001   0.0          0.0                0.0   \n",
       "\n",
       "                 Heart_Atrial_Appendage  Cells_Cultured_fibroblasts  Testis  \\\n",
       "ENSG00000000419                     0.0                         0.0     0.0   \n",
       "ENSG00000000457                     0.0                         NaN     NaN   \n",
       "ENSG00000000460                     NaN                         NaN     NaN   \n",
       "ENSG00000000938                     0.0                         0.0     0.0   \n",
       "ENSG00000001617                     0.0                         0.0     0.0   \n",
       "\n",
       "                 Small_Intestine_Terminal_Ileum  Brain_Cerebellum  \\\n",
       "ENSG00000000419                             0.0               0.0   \n",
       "ENSG00000000457                             NaN               NaN   \n",
       "ENSG00000000460                             NaN               NaN   \n",
       "ENSG00000000938                             0.0               0.0   \n",
       "ENSG00000001617                             0.0               0.0   \n",
       "\n",
       "                 Esophagus_Muscularis  ...  Ovary  Stomach  Liver  \\\n",
       "ENSG00000000419                 0.000  ...    0.0      0.0    0.0   \n",
       "ENSG00000000457                   NaN  ...    0.0      NaN    0.0   \n",
       "ENSG00000000460                   NaN  ...    NaN      NaN    NaN   \n",
       "ENSG00000000938                 0.000  ...    0.0      0.0    0.0   \n",
       "ENSG00000001617                 0.001  ...    0.0      0.0    0.0   \n",
       "\n",
       "                 Brain_Cerebellar_Hemisphere  Artery_Coronary  Nerve_Tibial  \\\n",
       "ENSG00000000419                          0.0              0.0         0.000   \n",
       "ENSG00000000457                          NaN              0.0           NaN   \n",
       "ENSG00000000460                          NaN              NaN           NaN   \n",
       "ENSG00000000938                          0.0              0.0         0.000   \n",
       "ENSG00000001617                          0.0              0.0         0.002   \n",
       "\n",
       "                 Brain_Cortex  Brain_Putamen_basal_ganglia  \\\n",
       "ENSG00000000419           0.0                          0.0   \n",
       "ENSG00000000457           NaN                          NaN   \n",
       "ENSG00000000460           NaN                          NaN   \n",
       "ENSG00000000938           0.0                          0.0   \n",
       "ENSG00000001617           0.0                          0.0   \n",
       "\n",
       "                 Brain_Hypothalamus  Breast_Mammary_Tissue  \n",
       "ENSG00000000419                 0.0                    0.0  \n",
       "ENSG00000000457                 NaN                    NaN  \n",
       "ENSG00000000460                 NaN                    NaN  \n",
       "ENSG00000000938                 0.0                    0.0  \n",
       "ENSG00000001617                 0.0                    0.0  \n",
       "\n",
       "[5 rows x 47 columns]"
      ]
     },
     "execution_count": 84,
     "metadata": {},
     "output_type": "execute_result"
    }
   ],
   "source": [
    "enloc_all.head()"
   ]
  },
  {
   "cell_type": "code",
   "execution_count": 85,
   "metadata": {},
   "outputs": [],
   "source": [
    "df = create_df_plot(fe_all, enloc_all)"
   ]
  },
  {
   "cell_type": "code",
   "execution_count": 86,
   "metadata": {},
   "outputs": [
    {
     "data": {
      "text/plain": [
       "(68915, 2)"
      ]
     },
     "execution_count": 86,
     "metadata": {},
     "output_type": "execute_result"
    }
   ],
   "source": [
    "df.shape"
   ]
  },
  {
   "cell_type": "code",
   "execution_count": 87,
   "metadata": {},
   "outputs": [
    {
     "data": {
      "text/html": [
       "<div>\n",
       "<style scoped>\n",
       "    .dataframe tbody tr th:only-of-type {\n",
       "        vertical-align: middle;\n",
       "    }\n",
       "\n",
       "    .dataframe tbody tr th {\n",
       "        vertical-align: top;\n",
       "    }\n",
       "\n",
       "    .dataframe thead th {\n",
       "        text-align: right;\n",
       "    }\n",
       "</style>\n",
       "<table border=\"1\" class=\"dataframe\">\n",
       "  <thead>\n",
       "    <tr style=\"text-align: right;\">\n",
       "      <th></th>\n",
       "      <th></th>\n",
       "      <th>ENLOC</th>\n",
       "      <th>fastENLOC</th>\n",
       "    </tr>\n",
       "  </thead>\n",
       "  <tbody>\n",
       "    <tr>\n",
       "      <th>Brain_Anterior_cingulate_cortex_BA24</th>\n",
       "      <th>ENSG00000204305</th>\n",
       "      <td>0.000</td>\n",
       "      <td>0.000411</td>\n",
       "    </tr>\n",
       "    <tr>\n",
       "      <th>Brain_Amygdala</th>\n",
       "      <th>ENSG00000101146</th>\n",
       "      <td>0.000</td>\n",
       "      <td>0.000539</td>\n",
       "    </tr>\n",
       "    <tr>\n",
       "      <th>Adipose_Visceral_Omentum</th>\n",
       "      <th>ENSG00000115423</th>\n",
       "      <td>0.009</td>\n",
       "      <td>0.005764</td>\n",
       "    </tr>\n",
       "    <tr>\n",
       "      <th>Brain_Spinal_cord_cervical_c-1</th>\n",
       "      <th>ENSG00000053254</th>\n",
       "      <td>0.002</td>\n",
       "      <td>0.000207</td>\n",
       "    </tr>\n",
       "    <tr>\n",
       "      <th>Artery_Tibial</th>\n",
       "      <th>ENSG00000086991</th>\n",
       "      <td>0.000</td>\n",
       "      <td>0.000249</td>\n",
       "    </tr>\n",
       "  </tbody>\n",
       "</table>\n",
       "</div>"
      ],
      "text/plain": [
       "                                                      ENLOC  fastENLOC\n",
       "Brain_Anterior_cingulate_cortex_BA24 ENSG00000204305  0.000   0.000411\n",
       "Brain_Amygdala                       ENSG00000101146  0.000   0.000539\n",
       "Adipose_Visceral_Omentum             ENSG00000115423  0.009   0.005764\n",
       "Brain_Spinal_cord_cervical_c-1       ENSG00000053254  0.002   0.000207\n",
       "Artery_Tibial                        ENSG00000086991  0.000   0.000249"
      ]
     },
     "execution_count": 87,
     "metadata": {},
     "output_type": "execute_result"
    }
   ],
   "source": [
    "df.head()"
   ]
  },
  {
   "cell_type": "code",
   "execution_count": 88,
   "metadata": {},
   "outputs": [],
   "source": [
    "df_plot = df[(df['ENLOC'] > 0.1) & (df['fastENLOC'] > 0.1)]"
   ]
  },
  {
   "cell_type": "code",
   "execution_count": 89,
   "metadata": {},
   "outputs": [
    {
     "data": {
      "text/plain": [
       "(0.7218577087211789, 6.494489366379225e-258)"
      ]
     },
     "execution_count": 89,
     "metadata": {},
     "output_type": "execute_result"
    }
   ],
   "source": [
    "stats.pearsonr(df_plot['ENLOC'].values, df_plot['fastENLOC'].values)"
   ]
  },
  {
   "cell_type": "code",
   "execution_count": 90,
   "metadata": {},
   "outputs": [
    {
     "data": {
      "text/plain": [
       "SpearmanrResult(correlation=0.6479844086761167, pvalue=2.6196927434994354e-191)"
      ]
     },
     "execution_count": 90,
     "metadata": {},
     "output_type": "execute_result"
    }
   ],
   "source": [
    "stats.spearmanr(df_plot['ENLOC'].values, df_plot['fastENLOC'].values)"
   ]
  },
  {
   "cell_type": "code",
   "execution_count": 91,
   "metadata": {},
   "outputs": [],
   "source": [
    "# final refining\n",
    "df_plot = df_plot[df_plot['fastENLOC'] <= 1.05]"
   ]
  },
  {
   "cell_type": "code",
   "execution_count": 92,
   "metadata": {},
   "outputs": [
    {
     "data": {
      "image/png": "[encoded data removed]",
      "text/plain": [
       "<Figure size 432x432 with 3 Axes>"
      ]
     },
     "metadata": {},
     "output_type": "display_data"
    }
   ],
   "source": [
    "df_plot_final = df_plot.rename(columns={'ENLOC': 'ENLOC (RCP)', 'fastENLOC': 'fastENLOC (RCP)'})\n",
    "\n",
    "with sns.axes_style(\"white\"):\n",
    "    ax = sns.jointplot(data=df_plot_final, x='ENLOC (RCP)', y='fastENLOC (RCP)', kind='hex')\n",
    "    ax.ax_joint.plot([0.10, 1.0], [0.10, 1.0], 'gray', linewidth=0.75)\n",
    "    ax.fig.suptitle(f'{metadata.RAPID_GWAS_PHENO_INFO.loc[PHENOTYPE_SELECTED, \"description\"]}\\nAll tissues')\n",
    "    \n",
    "    fig_path = os.path.join(figures_path, 'sup_fig3d.png')\n",
    "    plt.savefig(fig_path, dpi=150, bbox_inches='tight')"
   ]
  },
  {
   "cell_type": "code",
   "execution_count": null,
   "metadata": {},
   "outputs": [],
   "source": []
  }
 ],
 "metadata": {
  "kernelspec": {
   "display_name": "Python 3",
   "language": "python",
   "name": "python3"
  },
  "language_info": {
   "codemirror_mode": {
    "name": "ipython",
    "version": 3
   },
   "file_extension": ".py",
   "mimetype": "text/x-python",
   "name": "python",
   "nbconvert_exporter": "python",
   "pygments_lexer": "ipython3",
   "version": "3.7.5"
  }
 },
 "nbformat": 4,
 "nbformat_minor": 4
}
