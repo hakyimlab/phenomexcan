{
 "cells": [
  {
   "cell_type": "code",
   "execution_count": 1,
   "metadata": {},
   "outputs": [],
   "source": [
    "%load_ext autoreload\n",
    "%autoreload 2"
   ]
  },
  {
   "cell_type": "code",
   "execution_count": 2,
   "metadata": {},
   "outputs": [],
   "source": [
    "import os\n",
    "import pickle\n",
    "from glob import glob\n",
    "\n",
    "import numpy as np\n",
    "import pandas as pd\n",
    "\n",
    "import settings as conf\n",
    "import metadata"
   ]
  },
  {
   "cell_type": "markdown",
   "metadata": {},
   "source": [
    "# Figures path"
   ]
  },
  {
   "cell_type": "code",
   "execution_count": 3,
   "metadata": {},
   "outputs": [],
   "source": [
    "figures_path = os.path.join(conf.DELIVERABLES_DIR, 'figures')\n",
    "os.makedirs(figures_path, exist_ok=True)"
   ]
  },
  {
   "cell_type": "markdown",
   "metadata": {},
   "source": [
    "# Load gene mappings"
   ]
  },
  {
   "cell_type": "code",
   "execution_count": 4,
   "metadata": {},
   "outputs": [],
   "source": [
    "with open(os.path.join(conf.GENES_METADATA_DIR, 'genes_mapping_simplified-0.pkl'), 'rb') as f:\n",
    "    genes_mapping_0 = pickle.load(f)\n",
    "\n",
    "with open(os.path.join(conf.GENES_METADATA_DIR, 'genes_mapping_simplified-1.pkl'), 'rb') as f:\n",
    "    genes_mapping_1 = pickle.load(f)"
   ]
  },
  {
   "cell_type": "markdown",
   "metadata": {},
   "source": [
    "# Load S-MultiXcan results"
   ]
  },
  {
   "cell_type": "code",
   "execution_count": 5,
   "metadata": {},
   "outputs": [
    {
     "data": {
      "text/plain": [
       "'/mnt/phenomexcan_base/gene_assoc/smultixcan-mashr-pvalues.pkl.xz'"
      ]
     },
     "metadata": {},
     "output_type": "display_data"
    }
   ],
   "source": [
    "spredixcan_genes_associations_filename = os.path.join(conf.GENE_ASSOC_DIR, 'smultixcan-mashr-pvalues.pkl.xz')\n",
    "display(spredixcan_genes_associations_filename)\n",
    "\n",
    "spredixcan_genes_associations = pd.read_pickle(spredixcan_genes_associations_filename)"
   ]
  },
  {
   "cell_type": "code",
   "execution_count": 6,
   "metadata": {},
   "outputs": [
    {
     "data": {
      "text/plain": [
       "(22515, 4091)"
      ]
     },
     "execution_count": 6,
     "metadata": {},
     "output_type": "execute_result"
    }
   ],
   "source": [
    "spredixcan_genes_associations.shape"
   ]
  },
  {
   "cell_type": "code",
   "execution_count": 7,
   "metadata": {},
   "outputs": [
    {
     "data": {
      "text/html": [
       "<div>\n",
       "<style scoped>\n",
       "    .dataframe tbody tr th:only-of-type {\n",
       "        vertical-align: middle;\n",
       "    }\n",
       "\n",
       "    .dataframe tbody tr th {\n",
       "        vertical-align: top;\n",
       "    }\n",
       "\n",
       "    .dataframe thead th {\n",
       "        text-align: right;\n",
       "    }\n",
       "</style>\n",
       "<table border=\"1\" class=\"dataframe\">\n",
       "  <thead>\n",
       "    <tr style=\"text-align: right;\">\n",
       "      <th></th>\n",
       "      <th>20096_1-Size_of_red_wine_glass_drunk_small_125ml</th>\n",
       "      <th>2345-Ever_had_bowel_cancer_screening</th>\n",
       "      <th>N49-Diagnoses_main_ICD10_N49_Inflammatory_disorders_of_male_genital_organs_not_elsewhere_classified</th>\n",
       "      <th>100011_raw-Iron</th>\n",
       "      <th>5221-Index_of_best_refractometry_result_right</th>\n",
       "      <th>20003_1141150624-Treatmentmedication_code_zomig_25mg_tablet</th>\n",
       "      <th>S69-Diagnoses_main_ICD10_S69_Other_and_unspecified_injuries_of_wrist_and_hand</th>\n",
       "      <th>20024_1136-Job_code_deduced_Information_and_communication_technology_managers</th>\n",
       "      <th>20002_1385-Noncancer_illness_code_selfreported_allergy_or_anaphylactic_reaction_to_food</th>\n",
       "      <th>G6_SLEEPAPNO-Sleep_apnoea</th>\n",
       "      <th>...</th>\n",
       "      <th>Astle_et_al_2016_Sum_basophil_neutrophil_counts</th>\n",
       "      <th>RA_OKADA_TRANS_ETHNIC</th>\n",
       "      <th>pgc.scz2</th>\n",
       "      <th>PGC_ADHD_EUR_2017</th>\n",
       "      <th>MAGIC_FastingGlucose</th>\n",
       "      <th>Astle_et_al_2016_Red_blood_cell_count</th>\n",
       "      <th>SSGAC_Depressive_Symptoms</th>\n",
       "      <th>BCAC_ER_positive_BreastCancer_EUR</th>\n",
       "      <th>IBD.EUR.Inflammatory_Bowel_Disease</th>\n",
       "      <th>Astle_et_al_2016_High_light_scatter_reticulocyte_count</th>\n",
       "    </tr>\n",
       "    <tr>\n",
       "      <th>gene_name</th>\n",
       "      <th></th>\n",
       "      <th></th>\n",
       "      <th></th>\n",
       "      <th></th>\n",
       "      <th></th>\n",
       "      <th></th>\n",
       "      <th></th>\n",
       "      <th></th>\n",
       "      <th></th>\n",
       "      <th></th>\n",
       "      <th></th>\n",
       "      <th></th>\n",
       "      <th></th>\n",
       "      <th></th>\n",
       "      <th></th>\n",
       "      <th></th>\n",
       "      <th></th>\n",
       "      <th></th>\n",
       "      <th></th>\n",
       "      <th></th>\n",
       "      <th></th>\n",
       "    </tr>\n",
       "  </thead>\n",
       "  <tbody>\n",
       "    <tr>\n",
       "      <th>ENSG00000000419</th>\n",
       "      <td>0.865429</td>\n",
       "      <td>0.918314</td>\n",
       "      <td>0.810683</td>\n",
       "      <td>0.374671</td>\n",
       "      <td>0.189032</td>\n",
       "      <td>0.140981</td>\n",
       "      <td>0.467741</td>\n",
       "      <td>0.129427</td>\n",
       "      <td>0.193680</td>\n",
       "      <td>0.285479</td>\n",
       "      <td>...</td>\n",
       "      <td>0.416210</td>\n",
       "      <td>0.782554</td>\n",
       "      <td>0.609467</td>\n",
       "      <td>0.980281</td>\n",
       "      <td>0.666504</td>\n",
       "      <td>0.409761</td>\n",
       "      <td>0.713310</td>\n",
       "      <td>0.168319</td>\n",
       "      <td>0.460244</td>\n",
       "      <td>0.765506</td>\n",
       "    </tr>\n",
       "    <tr>\n",
       "      <th>ENSG00000000457</th>\n",
       "      <td>0.174192</td>\n",
       "      <td>0.064765</td>\n",
       "      <td>0.889194</td>\n",
       "      <td>0.896938</td>\n",
       "      <td>0.448596</td>\n",
       "      <td>0.269602</td>\n",
       "      <td>0.540261</td>\n",
       "      <td>0.068405</td>\n",
       "      <td>0.041813</td>\n",
       "      <td>0.313427</td>\n",
       "      <td>...</td>\n",
       "      <td>0.149360</td>\n",
       "      <td>0.512603</td>\n",
       "      <td>0.010907</td>\n",
       "      <td>0.228982</td>\n",
       "      <td>0.607081</td>\n",
       "      <td>0.812484</td>\n",
       "      <td>0.678749</td>\n",
       "      <td>0.918971</td>\n",
       "      <td>0.311187</td>\n",
       "      <td>0.344574</td>\n",
       "    </tr>\n",
       "    <tr>\n",
       "      <th>ENSG00000000460</th>\n",
       "      <td>0.879969</td>\n",
       "      <td>0.240715</td>\n",
       "      <td>0.238228</td>\n",
       "      <td>0.567555</td>\n",
       "      <td>0.921320</td>\n",
       "      <td>0.825036</td>\n",
       "      <td>0.782230</td>\n",
       "      <td>0.644525</td>\n",
       "      <td>0.392273</td>\n",
       "      <td>0.840014</td>\n",
       "      <td>...</td>\n",
       "      <td>0.503520</td>\n",
       "      <td>0.764147</td>\n",
       "      <td>0.587969</td>\n",
       "      <td>0.301460</td>\n",
       "      <td>0.629621</td>\n",
       "      <td>0.486664</td>\n",
       "      <td>0.736509</td>\n",
       "      <td>0.933600</td>\n",
       "      <td>0.000477</td>\n",
       "      <td>0.321223</td>\n",
       "    </tr>\n",
       "    <tr>\n",
       "      <th>ENSG00000000938</th>\n",
       "      <td>0.192670</td>\n",
       "      <td>0.400054</td>\n",
       "      <td>0.114353</td>\n",
       "      <td>0.470700</td>\n",
       "      <td>0.889202</td>\n",
       "      <td>0.000011</td>\n",
       "      <td>0.899764</td>\n",
       "      <td>0.212352</td>\n",
       "      <td>0.829671</td>\n",
       "      <td>0.372348</td>\n",
       "      <td>...</td>\n",
       "      <td>0.899212</td>\n",
       "      <td>0.961678</td>\n",
       "      <td>0.059247</td>\n",
       "      <td>0.588855</td>\n",
       "      <td>0.898525</td>\n",
       "      <td>0.135045</td>\n",
       "      <td>0.954998</td>\n",
       "      <td>0.088220</td>\n",
       "      <td>0.176497</td>\n",
       "      <td>0.304281</td>\n",
       "    </tr>\n",
       "    <tr>\n",
       "      <th>ENSG00000000971</th>\n",
       "      <td>0.180632</td>\n",
       "      <td>0.793060</td>\n",
       "      <td>0.490585</td>\n",
       "      <td>0.088752</td>\n",
       "      <td>0.744531</td>\n",
       "      <td>0.949639</td>\n",
       "      <td>0.253817</td>\n",
       "      <td>0.377408</td>\n",
       "      <td>0.971655</td>\n",
       "      <td>0.070266</td>\n",
       "      <td>...</td>\n",
       "      <td>0.390618</td>\n",
       "      <td>0.093824</td>\n",
       "      <td>0.020391</td>\n",
       "      <td>0.109883</td>\n",
       "      <td>0.870551</td>\n",
       "      <td>0.995450</td>\n",
       "      <td>0.002660</td>\n",
       "      <td>0.421588</td>\n",
       "      <td>0.656851</td>\n",
       "      <td>0.868416</td>\n",
       "    </tr>\n",
       "  </tbody>\n",
       "</table>\n",
       "<p>5 rows × 4091 columns</p>\n",
       "</div>"
      ],
      "text/plain": [
       "                 20096_1-Size_of_red_wine_glass_drunk_small_125ml  \\\n",
       "gene_name                                                           \n",
       "ENSG00000000419                                          0.865429   \n",
       "ENSG00000000457                                          0.174192   \n",
       "ENSG00000000460                                          0.879969   \n",
       "ENSG00000000938                                          0.192670   \n",
       "ENSG00000000971                                          0.180632   \n",
       "\n",
       "                 2345-Ever_had_bowel_cancer_screening  \\\n",
       "gene_name                                               \n",
       "ENSG00000000419                              0.918314   \n",
       "ENSG00000000457                              0.064765   \n",
       "ENSG00000000460                              0.240715   \n",
       "ENSG00000000938                              0.400054   \n",
       "ENSG00000000971                              0.793060   \n",
       "\n",
       "                 N49-Diagnoses_main_ICD10_N49_Inflammatory_disorders_of_male_genital_organs_not_elsewhere_classified  \\\n",
       "gene_name                                                                                                              \n",
       "ENSG00000000419                                           0.810683                                                     \n",
       "ENSG00000000457                                           0.889194                                                     \n",
       "ENSG00000000460                                           0.238228                                                     \n",
       "ENSG00000000938                                           0.114353                                                     \n",
       "ENSG00000000971                                           0.490585                                                     \n",
       "\n",
       "                 100011_raw-Iron  \\\n",
       "gene_name                          \n",
       "ENSG00000000419         0.374671   \n",
       "ENSG00000000457         0.896938   \n",
       "ENSG00000000460         0.567555   \n",
       "ENSG00000000938         0.470700   \n",
       "ENSG00000000971         0.088752   \n",
       "\n",
       "                 5221-Index_of_best_refractometry_result_right  \\\n",
       "gene_name                                                        \n",
       "ENSG00000000419                                       0.189032   \n",
       "ENSG00000000457                                       0.448596   \n",
       "ENSG00000000460                                       0.921320   \n",
       "ENSG00000000938                                       0.889202   \n",
       "ENSG00000000971                                       0.744531   \n",
       "\n",
       "                 20003_1141150624-Treatmentmedication_code_zomig_25mg_tablet  \\\n",
       "gene_name                                                                      \n",
       "ENSG00000000419                                           0.140981             \n",
       "ENSG00000000457                                           0.269602             \n",
       "ENSG00000000460                                           0.825036             \n",
       "ENSG00000000938                                           0.000011             \n",
       "ENSG00000000971                                           0.949639             \n",
       "\n",
       "                 S69-Diagnoses_main_ICD10_S69_Other_and_unspecified_injuries_of_wrist_and_hand  \\\n",
       "gene_name                                                                                        \n",
       "ENSG00000000419                                           0.467741                               \n",
       "ENSG00000000457                                           0.540261                               \n",
       "ENSG00000000460                                           0.782230                               \n",
       "ENSG00000000938                                           0.899764                               \n",
       "ENSG00000000971                                           0.253817                               \n",
       "\n",
       "                 20024_1136-Job_code_deduced_Information_and_communication_technology_managers  \\\n",
       "gene_name                                                                                        \n",
       "ENSG00000000419                                           0.129427                               \n",
       "ENSG00000000457                                           0.068405                               \n",
       "ENSG00000000460                                           0.644525                               \n",
       "ENSG00000000938                                           0.212352                               \n",
       "ENSG00000000971                                           0.377408                               \n",
       "\n",
       "                 20002_1385-Noncancer_illness_code_selfreported_allergy_or_anaphylactic_reaction_to_food  \\\n",
       "gene_name                                                                                                  \n",
       "ENSG00000000419                                           0.193680                                         \n",
       "ENSG00000000457                                           0.041813                                         \n",
       "ENSG00000000460                                           0.392273                                         \n",
       "ENSG00000000938                                           0.829671                                         \n",
       "ENSG00000000971                                           0.971655                                         \n",
       "\n",
       "                 G6_SLEEPAPNO-Sleep_apnoea  ...  \\\n",
       "gene_name                                   ...   \n",
       "ENSG00000000419                   0.285479  ...   \n",
       "ENSG00000000457                   0.313427  ...   \n",
       "ENSG00000000460                   0.840014  ...   \n",
       "ENSG00000000938                   0.372348  ...   \n",
       "ENSG00000000971                   0.070266  ...   \n",
       "\n",
       "                 Astle_et_al_2016_Sum_basophil_neutrophil_counts  \\\n",
       "gene_name                                                          \n",
       "ENSG00000000419                                         0.416210   \n",
       "ENSG00000000457                                         0.149360   \n",
       "ENSG00000000460                                         0.503520   \n",
       "ENSG00000000938                                         0.899212   \n",
       "ENSG00000000971                                         0.390618   \n",
       "\n",
       "                 RA_OKADA_TRANS_ETHNIC  pgc.scz2  PGC_ADHD_EUR_2017  \\\n",
       "gene_name                                                             \n",
       "ENSG00000000419               0.782554  0.609467           0.980281   \n",
       "ENSG00000000457               0.512603  0.010907           0.228982   \n",
       "ENSG00000000460               0.764147  0.587969           0.301460   \n",
       "ENSG00000000938               0.961678  0.059247           0.588855   \n",
       "ENSG00000000971               0.093824  0.020391           0.109883   \n",
       "\n",
       "                 MAGIC_FastingGlucose  Astle_et_al_2016_Red_blood_cell_count  \\\n",
       "gene_name                                                                      \n",
       "ENSG00000000419              0.666504                               0.409761   \n",
       "ENSG00000000457              0.607081                               0.812484   \n",
       "ENSG00000000460              0.629621                               0.486664   \n",
       "ENSG00000000938              0.898525                               0.135045   \n",
       "ENSG00000000971              0.870551                               0.995450   \n",
       "\n",
       "                 SSGAC_Depressive_Symptoms  BCAC_ER_positive_BreastCancer_EUR  \\\n",
       "gene_name                                                                       \n",
       "ENSG00000000419                   0.713310                           0.168319   \n",
       "ENSG00000000457                   0.678749                           0.918971   \n",
       "ENSG00000000460                   0.736509                           0.933600   \n",
       "ENSG00000000938                   0.954998                           0.088220   \n",
       "ENSG00000000971                   0.002660                           0.421588   \n",
       "\n",
       "                 IBD.EUR.Inflammatory_Bowel_Disease  \\\n",
       "gene_name                                             \n",
       "ENSG00000000419                            0.460244   \n",
       "ENSG00000000457                            0.311187   \n",
       "ENSG00000000460                            0.000477   \n",
       "ENSG00000000938                            0.176497   \n",
       "ENSG00000000971                            0.656851   \n",
       "\n",
       "                 Astle_et_al_2016_High_light_scatter_reticulocyte_count  \n",
       "gene_name                                                                \n",
       "ENSG00000000419                                           0.765506       \n",
       "ENSG00000000457                                           0.344574       \n",
       "ENSG00000000460                                           0.321223       \n",
       "ENSG00000000938                                           0.304281       \n",
       "ENSG00000000971                                           0.868416       \n",
       "\n",
       "[5 rows x 4091 columns]"
      ]
     },
     "execution_count": 7,
     "metadata": {},
     "output_type": "execute_result"
    }
   ],
   "source": [
    "spredixcan_genes_associations.head(5)"
   ]
  },
  {
   "cell_type": "markdown",
   "metadata": {},
   "source": [
    "# Tissues"
   ]
  },
  {
   "cell_type": "code",
   "execution_count": 8,
   "metadata": {},
   "outputs": [],
   "source": [
    "with open(conf.FASTENLOC_GTEX_TISSUES_FILE, 'r') as f:\n",
    "    FASTENLOC_TISSUES_NAMES = set([x.strip() for x in f.readlines()])"
   ]
  },
  {
   "cell_type": "code",
   "execution_count": 9,
   "metadata": {},
   "outputs": [],
   "source": [
    "assert len(FASTENLOC_TISSUES_NAMES) == 49"
   ]
  },
  {
   "cell_type": "code",
   "execution_count": 10,
   "metadata": {},
   "outputs": [
    {
     "data": {
      "text/plain": [
       "{'Adipose_Subcutaneous',\n",
       " 'Adipose_Visceral_Omentum',\n",
       " 'Adrenal_Gland',\n",
       " 'Artery_Aorta',\n",
       " 'Artery_Coronary',\n",
       " 'Artery_Tibial',\n",
       " 'Brain_Amygdala',\n",
       " 'Brain_Anterior_cingulate_cortex_BA24',\n",
       " 'Brain_Caudate_basal_ganglia',\n",
       " 'Brain_Cerebellar_Hemisphere',\n",
       " 'Brain_Cerebellum',\n",
       " 'Brain_Cortex',\n",
       " 'Brain_Frontal_Cortex_BA9',\n",
       " 'Brain_Hippocampus',\n",
       " 'Brain_Hypothalamus',\n",
       " 'Brain_Nucleus_accumbens_basal_ganglia',\n",
       " 'Brain_Putamen_basal_ganglia',\n",
       " 'Brain_Spinal_cord_cervical_c-1',\n",
       " 'Brain_Substantia_nigra',\n",
       " 'Breast_Mammary_Tissue',\n",
       " 'Cells_Cultured_fibroblasts',\n",
       " 'Cells_EBV-transformed_lymphocytes',\n",
       " 'Colon_Sigmoid',\n",
       " 'Colon_Transverse',\n",
       " 'Esophagus_Gastroesophageal_Junction',\n",
       " 'Esophagus_Mucosa',\n",
       " 'Esophagus_Muscularis',\n",
       " 'Heart_Atrial_Appendage',\n",
       " 'Heart_Left_Ventricle',\n",
       " 'Kidney_Cortex',\n",
       " 'Liver',\n",
       " 'Lung',\n",
       " 'Minor_Salivary_Gland',\n",
       " 'Muscle_Skeletal',\n",
       " 'Nerve_Tibial',\n",
       " 'Ovary',\n",
       " 'Pancreas',\n",
       " 'Pituitary',\n",
       " 'Prostate',\n",
       " 'Skin_Not_Sun_Exposed',\n",
       " 'Skin_Sun_Exposed',\n",
       " 'Small_Intestine_Terminal_Ileum',\n",
       " 'Spleen',\n",
       " 'Stomach',\n",
       " 'Testis',\n",
       " 'Thyroid',\n",
       " 'Uterus',\n",
       " 'Vagina',\n",
       " 'Whole_Blood'}"
      ]
     },
     "execution_count": 10,
     "metadata": {},
     "output_type": "execute_result"
    }
   ],
   "source": [
    "FASTENLOC_TISSUES_NAMES"
   ]
  },
  {
   "cell_type": "markdown",
   "metadata": {},
   "source": [
    "# Functions"
   ]
  },
  {
   "cell_type": "raw",
   "metadata": {},
   "source": [
    "parallel -j4 'zcat {} | grep ENSG00000049246' ::: fastenloc-1180-*.gz | column -t | sort -k6 -g"
   ]
  },
  {
   "cell_type": "code",
   "execution_count": 11,
   "metadata": {},
   "outputs": [],
   "source": [
    "from glob import glob"
   ]
  },
  {
   "cell_type": "code",
   "execution_count": 12,
   "metadata": {},
   "outputs": [],
   "source": [
    "from scipy import stats\n",
    "import matplotlib.pyplot as plt\n",
    "import seaborn as sns\n",
    "\n",
    "import plots"
   ]
  },
  {
   "cell_type": "code",
   "execution_count": 13,
   "metadata": {},
   "outputs": [],
   "source": [
    "def create_df_plot(fastenloc_results, enloc_results):\n",
    "    fastenloc_results = fastenloc_results.unstack()\n",
    "    enloc_results = enloc_results.unstack()\n",
    "    \n",
    "    common_index = fastenloc_results.index.intersection(enloc_results.index)\n",
    "    \n",
    "    df = pd.DataFrame(data={'ENLOC': enloc_results, 'fastENLOC': fastenloc_results}, index=common_index)\n",
    "    \n",
    "    return df.dropna()"
   ]
  },
  {
   "cell_type": "markdown",
   "metadata": {},
   "source": [
    "## Read ENLOC data"
   ]
  },
  {
   "cell_type": "code",
   "execution_count": 14,
   "metadata": {},
   "outputs": [],
   "source": [
    "ENLOC_RUNS_DIR = os.path.join(conf.MISC_RESULTS_BASE_DIR, 'enloc-selected_traits')"
   ]
  },
  {
   "cell_type": "code",
   "execution_count": 15,
   "metadata": {},
   "outputs": [],
   "source": [
    "def read_enloc(phenotype, tissue):\n",
    "    enloc_filename = f'{phenotype}__PM__{tissue}.enloc.rst.gz'\n",
    "    enloc_result_path = os.path.join(ENLOC_RUNS_DIR, phenotype, enloc_filename)\n",
    "    \n",
    "    enloc_result = pd.read_csv(enloc_result_path, sep='\\s+')\n",
    "    enloc_result = enloc_result.assign(gene_id=enloc_result['molecular_qtl_trait'].apply(lambda x: x.split('.')[0]))\n",
    "    \n",
    "    return enloc_result.groupby('gene_id')['locus_rcp'].max().rename(tissue)\n",
    "\n",
    "def read_enloc_all_tissues(phenotype_code):\n",
    "    all_tissues_data = {}\n",
    "    for tissue in FASTENLOC_TISSUES_NAMES:\n",
    "        if tissue.startswith('Skin_'):\n",
    "            continue\n",
    "        all_tissues_data[tissue] = read_enloc(phenotype_code, tissue)\n",
    "    \n",
    "    return pd.DataFrame(all_tissues_data)"
   ]
  },
  {
   "cell_type": "markdown",
   "metadata": {},
   "source": [
    "## Read fastENLOC data"
   ]
  },
  {
   "cell_type": "code",
   "execution_count": 16,
   "metadata": {},
   "outputs": [],
   "source": [
    "FASTENLOC_DIR = conf.FASTENLOC_RESULTS_DIR['RapidGWASProject']"
   ]
  },
  {
   "cell_type": "code",
   "execution_count": 17,
   "metadata": {},
   "outputs": [],
   "source": [
    "def read_fe(phenotype_code, tissue, rename_genes=False):\n",
    "    filename = f'fastenloc-{phenotype_code}-{tissue}.enloc.sig.out'\n",
    "    filepath = os.path.join(FASTENLOC_DIR, phenotype_code, filename)\n",
    "    \n",
    "    fe_data = pd.read_csv(filepath, sep='\\s+', usecols=[0, 5], header=None).rename(columns={0: 'gene_cluster', 5: 'rcp'})\n",
    "    fe_data = fe_data = fe_data.assign(gene=fe_data['gene_cluster'].apply(lambda x: x.split(':')[0])) \n",
    "    fe_data = fe_data.assign(gene_cluster=fe_data['gene_cluster'].apply(lambda x: x.split(':')[1]))\n",
    "    \n",
    "    # FIXME: is it correct to sum across clusters of a gene? or pick max? Haky thinks summing is fine.\n",
    "    fe_max = fe_data.groupby('gene')['rcp'].sum()\n",
    "    #fe_max = fe_max.loc[fe_max.index.intersection(all_gene_ids)]\n",
    "    if rename_genes:\n",
    "        fe_max = fe_max.rename(index=genes_mapping_0)\n",
    "    \n",
    "    return fe_max.rename(tissue)\n",
    "\n",
    "def read_fe_all_tissues(phenotype_code, rename_genes=False):\n",
    "    all_tissues_data = {}\n",
    "    for tissue in FASTENLOC_TISSUES_NAMES:\n",
    "        if tissue.startswith('Skin_'):\n",
    "            continue\n",
    "        all_tissues_data[tissue] = read_fe(phenotype_code, tissue, rename_genes)\n",
    "    \n",
    "    return pd.DataFrame(all_tissues_data)\n",
    "\n",
    "def read_pheno(pheno, df): \n",
    "    _tmp = df[df['pheno'] == pheno] \n",
    "    if _tmp.shape[0] == 0: \n",
    "        return None \n",
    "     \n",
    "    _res = {} \n",
    "    _all_genes = set() \n",
    "    for idx, _data in _tmp.iterrows(): \n",
    "        #print(_data.tissue) \n",
    "         \n",
    "        tissue_data = read_fe(_data.file) \n",
    "        _res[_data.tissue] = tissue_data \n",
    "        _all_genes.update(tissue_data.index) \n",
    "    \n",
    "    return pd.DataFrame(_res, index=_all_genes).fillna(-1).max(axis=1)"
   ]
  },
  {
   "cell_type": "code",
   "execution_count": 18,
   "metadata": {
    "papermill": {
     "duration": 39.960746,
     "end_time": "2020-01-01T14:42:46.876541",
     "exception": false,
     "start_time": "2020-01-01T14:42:06.915795",
     "status": "completed"
    },
    "tags": []
   },
   "outputs": [
    {
     "data": {
      "text/plain": [
       "'/mnt/phenomexcan_base/results/fastenloc/rapid_gwas_project/**/*.enloc.sig.out'"
      ]
     },
     "metadata": {},
     "output_type": "display_data"
    }
   ],
   "source": [
    "# create summary of files\n",
    "_path = os.path.join(conf.FASTENLOC_RESULTS_DIR['RapidGWASProject'], '**/*.enloc.sig.out')\n",
    "display(_path)\n",
    "all_fastenloc_results_files = glob(_path)"
   ]
  },
  {
   "cell_type": "code",
   "execution_count": 19,
   "metadata": {
    "papermill": {
     "duration": 0.118879,
     "end_time": "2020-01-01T14:42:47.074110",
     "exception": false,
     "start_time": "2020-01-01T14:42:46.955231",
     "status": "completed"
    },
    "tags": []
   },
   "outputs": [
    {
     "data": {
      "text/plain": [
       "198401"
      ]
     },
     "execution_count": 19,
     "metadata": {},
     "output_type": "execute_result"
    }
   ],
   "source": [
    "len(all_fastenloc_results_files)"
   ]
  },
  {
   "cell_type": "code",
   "execution_count": 20,
   "metadata": {
    "papermill": {
     "duration": 0.096255,
     "end_time": "2020-01-01T14:42:47.250129",
     "exception": false,
     "start_time": "2020-01-01T14:42:47.153874",
     "status": "completed"
    },
    "tags": []
   },
   "outputs": [],
   "source": [
    "PHENO_CODES = set(metadata.RAPID_GWAS_PHENO_INFO.index)"
   ]
  },
  {
   "cell_type": "code",
   "execution_count": 21,
   "metadata": {
    "papermill": {
     "duration": 0.107366,
     "end_time": "2020-01-01T14:42:47.434820",
     "exception": false,
     "start_time": "2020-01-01T14:42:47.327454",
     "status": "completed"
    },
    "tags": []
   },
   "outputs": [
    {
     "data": {
      "text/plain": [
       "4359"
      ]
     },
     "execution_count": 21,
     "metadata": {},
     "output_type": "execute_result"
    }
   ],
   "source": [
    "len(PHENO_CODES)"
   ]
  },
  {
   "cell_type": "code",
   "execution_count": 22,
   "metadata": {
    "papermill": {
     "duration": 1.115712,
     "end_time": "2020-01-01T14:42:48.625360",
     "exception": false,
     "start_time": "2020-01-01T14:42:47.509648",
     "status": "completed"
    },
    "tags": []
   },
   "outputs": [],
   "source": [
    "phenos = []\n",
    "tissues = []\n",
    "\n",
    "for f in all_fastenloc_results_files:\n",
    "    f = os.path.basename(f)\n",
    "    split = f.split('-')\n",
    "    \n",
    "    tiss = split[-1].split('.')[0]\n",
    "    if tiss not in FASTENLOC_TISSUES_NAMES:\n",
    "        tiss = '-'.join(split[-2:]).split('.')[0]\n",
    "    \n",
    "    phen = split[1]\n",
    "    if phen not in PHENO_CODES:\n",
    "        phen = '-'.join(split[1:3])\n",
    "    \n",
    "    phenos.append(phen)\n",
    "    tissues.append(tiss)\n",
    "\n",
    "results_summary = pd.DataFrame({'pheno': phenos, 'tissue': tissues, 'file': all_fastenloc_results_files})"
   ]
  },
  {
   "cell_type": "code",
   "execution_count": 23,
   "metadata": {},
   "outputs": [
    {
     "data": {
      "text/plain": [
       "(198401, 3)"
      ]
     },
     "execution_count": 23,
     "metadata": {},
     "output_type": "execute_result"
    }
   ],
   "source": [
    "results_summary.shape"
   ]
  },
  {
   "cell_type": "code",
   "execution_count": 24,
   "metadata": {},
   "outputs": [
    {
     "data": {
      "text/html": [
       "<div>\n",
       "<style scoped>\n",
       "    .dataframe tbody tr th:only-of-type {\n",
       "        vertical-align: middle;\n",
       "    }\n",
       "\n",
       "    .dataframe tbody tr th {\n",
       "        vertical-align: top;\n",
       "    }\n",
       "\n",
       "    .dataframe thead th {\n",
       "        text-align: right;\n",
       "    }\n",
       "</style>\n",
       "<table border=\"1\" class=\"dataframe\">\n",
       "  <thead>\n",
       "    <tr style=\"text-align: right;\">\n",
       "      <th></th>\n",
       "      <th>pheno</th>\n",
       "      <th>tissue</th>\n",
       "      <th>file</th>\n",
       "    </tr>\n",
       "  </thead>\n",
       "  <tbody>\n",
       "    <tr>\n",
       "      <th>0</th>\n",
       "      <td>22617_9219</td>\n",
       "      <td>Brain_Spinal_cord_cervical_c-1</td>\n",
       "      <td>/mnt/phenomexcan_base/results/fastenloc/rapid_...</td>\n",
       "    </tr>\n",
       "    <tr>\n",
       "      <th>1</th>\n",
       "      <td>22617_9219</td>\n",
       "      <td>Artery_Coronary</td>\n",
       "      <td>/mnt/phenomexcan_base/results/fastenloc/rapid_...</td>\n",
       "    </tr>\n",
       "    <tr>\n",
       "      <th>2</th>\n",
       "      <td>22617_9219</td>\n",
       "      <td>Brain_Cortex</td>\n",
       "      <td>/mnt/phenomexcan_base/results/fastenloc/rapid_...</td>\n",
       "    </tr>\n",
       "    <tr>\n",
       "      <th>3</th>\n",
       "      <td>22617_9219</td>\n",
       "      <td>Brain_Substantia_nigra</td>\n",
       "      <td>/mnt/phenomexcan_base/results/fastenloc/rapid_...</td>\n",
       "    </tr>\n",
       "    <tr>\n",
       "      <th>4</th>\n",
       "      <td>22617_9219</td>\n",
       "      <td>Breast_Mammary_Tissue</td>\n",
       "      <td>/mnt/phenomexcan_base/results/fastenloc/rapid_...</td>\n",
       "    </tr>\n",
       "  </tbody>\n",
       "</table>\n",
       "</div>"
      ],
      "text/plain": [
       "        pheno                          tissue  \\\n",
       "0  22617_9219  Brain_Spinal_cord_cervical_c-1   \n",
       "1  22617_9219                 Artery_Coronary   \n",
       "2  22617_9219                    Brain_Cortex   \n",
       "3  22617_9219          Brain_Substantia_nigra   \n",
       "4  22617_9219           Breast_Mammary_Tissue   \n",
       "\n",
       "                                                file  \n",
       "0  /mnt/phenomexcan_base/results/fastenloc/rapid_...  \n",
       "1  /mnt/phenomexcan_base/results/fastenloc/rapid_...  \n",
       "2  /mnt/phenomexcan_base/results/fastenloc/rapid_...  \n",
       "3  /mnt/phenomexcan_base/results/fastenloc/rapid_...  \n",
       "4  /mnt/phenomexcan_base/results/fastenloc/rapid_...  "
      ]
     },
     "execution_count": 24,
     "metadata": {},
     "output_type": "execute_result"
    }
   ],
   "source": [
    "results_summary.head()"
   ]
  },
  {
   "cell_type": "code",
   "execution_count": 25,
   "metadata": {},
   "outputs": [
    {
     "data": {
      "text/plain": [
       "(4049,)"
      ]
     },
     "execution_count": 25,
     "metadata": {},
     "output_type": "execute_result"
    }
   ],
   "source": [
    "results_summary['pheno'].unique().shape"
   ]
  },
  {
   "cell_type": "code",
   "execution_count": 26,
   "metadata": {},
   "outputs": [
    {
     "data": {
      "text/plain": [
       "True"
      ]
     },
     "execution_count": 26,
     "metadata": {},
     "output_type": "execute_result"
    }
   ],
   "source": [
    "np.all([t in PHENO_CODES for t in results_summary['pheno'].unique()])"
   ]
  },
  {
   "cell_type": "code",
   "execution_count": 27,
   "metadata": {},
   "outputs": [
    {
     "data": {
      "text/plain": [
       "(49,)"
      ]
     },
     "execution_count": 27,
     "metadata": {},
     "output_type": "execute_result"
    }
   ],
   "source": [
    "results_summary['tissue'].unique().shape"
   ]
  },
  {
   "cell_type": "code",
   "execution_count": 28,
   "metadata": {},
   "outputs": [
    {
     "data": {
      "text/plain": [
       "True"
      ]
     },
     "execution_count": 28,
     "metadata": {},
     "output_type": "execute_result"
    }
   ],
   "source": [
    "np.all([t in FASTENLOC_TISSUES_NAMES for t in results_summary['tissue'].unique()])"
   ]
  },
  {
   "cell_type": "code",
   "execution_count": 29,
   "metadata": {},
   "outputs": [
    {
     "data": {
      "text/plain": [
       "True"
      ]
     },
     "execution_count": 29,
     "metadata": {},
     "output_type": "execute_result"
    }
   ],
   "source": [
    "_all_tissues_in_results = results_summary['tissue'].unique()\n",
    "np.all([t in _all_tissues_in_results for t in FASTENLOC_TISSUES_NAMES])"
   ]
  },
  {
   "cell_type": "markdown",
   "metadata": {},
   "source": [
    "## All RCPs across all tissues for particular phenotypes"
   ]
  },
  {
   "cell_type": "code",
   "execution_count": 30,
   "metadata": {},
   "outputs": [
    {
     "data": {
      "text/plain": [
       "Index(['6152_9-Blood_clot_DVT_bronchitis_emphysema_asthma_rhinitis_eczema_allergy_diagnosed_by_doctor_Hayfever_allergic_rhinitis_or_eczema'], dtype='object')"
      ]
     },
     "execution_count": 30,
     "metadata": {},
     "output_type": "execute_result"
    }
   ],
   "source": [
    "spredixcan_genes_associations.columns[spredixcan_genes_associations.columns.str.lower().str.contains('6152_9')]"
   ]
  },
  {
   "cell_type": "code",
   "execution_count": 31,
   "metadata": {},
   "outputs": [],
   "source": [
    "PHENO_MAPPINGS = {\n",
    "    '50_raw': 'UKB_50_Standing_height',\n",
    "    '1160': 'UKB_1160_Sleep_duration',\n",
    "    '6152_9': 'UKB_6152_9_diagnosed_by_doctor_Hayfever_allergic_rhinitis_or_eczema',\n",
    "    '20016_raw': 'UKB_20016_Fluid_intelligence_score',\n",
    "}"
   ]
  },
  {
   "cell_type": "markdown",
   "metadata": {},
   "source": [
    "## Height: 50_raw"
   ]
  },
  {
   "cell_type": "code",
   "execution_count": 32,
   "metadata": {},
   "outputs": [],
   "source": [
    "PHENOTYPE_SELECTED = '50_raw'"
   ]
  },
  {
   "cell_type": "code",
   "execution_count": 33,
   "metadata": {},
   "outputs": [],
   "source": [
    "fe_all = read_fe_all_tissues(PHENOTYPE_SELECTED)"
   ]
  },
  {
   "cell_type": "code",
   "execution_count": 34,
   "metadata": {},
   "outputs": [
    {
     "data": {
      "text/plain": [
       "(37360, 47)"
      ]
     },
     "execution_count": 34,
     "metadata": {},
     "output_type": "execute_result"
    }
   ],
   "source": [
    "fe_all.shape"
   ]
  },
  {
   "cell_type": "code",
   "execution_count": 35,
   "metadata": {},
   "outputs": [
    {
     "data": {
      "text/html": [
       "<div>\n",
       "<style scoped>\n",
       "    .dataframe tbody tr th:only-of-type {\n",
       "        vertical-align: middle;\n",
       "    }\n",
       "\n",
       "    .dataframe tbody tr th {\n",
       "        vertical-align: top;\n",
       "    }\n",
       "\n",
       "    .dataframe thead th {\n",
       "        text-align: right;\n",
       "    }\n",
       "</style>\n",
       "<table border=\"1\" class=\"dataframe\">\n",
       "  <thead>\n",
       "    <tr style=\"text-align: right;\">\n",
       "      <th></th>\n",
       "      <th>Artery_Aorta</th>\n",
       "      <th>Heart_Atrial_Appendage</th>\n",
       "      <th>Pituitary</th>\n",
       "      <th>Testis</th>\n",
       "      <th>Muscle_Skeletal</th>\n",
       "      <th>Uterus</th>\n",
       "      <th>Colon_Transverse</th>\n",
       "      <th>Stomach</th>\n",
       "      <th>Artery_Coronary</th>\n",
       "      <th>Whole_Blood</th>\n",
       "      <th>...</th>\n",
       "      <th>Adipose_Subcutaneous</th>\n",
       "      <th>Brain_Cerebellum</th>\n",
       "      <th>Vagina</th>\n",
       "      <th>Brain_Nucleus_accumbens_basal_ganglia</th>\n",
       "      <th>Brain_Cortex</th>\n",
       "      <th>Spleen</th>\n",
       "      <th>Cells_EBV-transformed_lymphocytes</th>\n",
       "      <th>Prostate</th>\n",
       "      <th>Nerve_Tibial</th>\n",
       "      <th>Thyroid</th>\n",
       "    </tr>\n",
       "  </thead>\n",
       "  <tbody>\n",
       "    <tr>\n",
       "      <th>ENSG00000000419</th>\n",
       "      <td>1.080000e-06</td>\n",
       "      <td>1.100200e-06</td>\n",
       "      <td>1.994300e-05</td>\n",
       "      <td>0.000005</td>\n",
       "      <td>1.141000e-05</td>\n",
       "      <td>1.717692e-04</td>\n",
       "      <td>6.731000e-06</td>\n",
       "      <td>1.483500e-06</td>\n",
       "      <td>3.793000e-06</td>\n",
       "      <td>1.607000e-06</td>\n",
       "      <td>...</td>\n",
       "      <td>7.439000e-06</td>\n",
       "      <td>1.427759e-04</td>\n",
       "      <td>2.798700e-06</td>\n",
       "      <td>4.078400e-06</td>\n",
       "      <td>6.274000e-06</td>\n",
       "      <td>5.049000e-06</td>\n",
       "      <td>8.852000e-06</td>\n",
       "      <td>1.166800e-06</td>\n",
       "      <td>5.922080e-05</td>\n",
       "      <td>1.492200e-05</td>\n",
       "    </tr>\n",
       "    <tr>\n",
       "      <th>ENSG00000000457</th>\n",
       "      <td>6.854100e-04</td>\n",
       "      <td>3.274600e-04</td>\n",
       "      <td>1.335000e-03</td>\n",
       "      <td>0.002193</td>\n",
       "      <td>2.856830e-03</td>\n",
       "      <td>3.142100e-04</td>\n",
       "      <td>1.205660e-03</td>\n",
       "      <td>6.987980e-04</td>\n",
       "      <td>8.122100e-04</td>\n",
       "      <td>9.674980e-04</td>\n",
       "      <td>...</td>\n",
       "      <td>3.332710e-03</td>\n",
       "      <td>1.956220e-03</td>\n",
       "      <td>1.795500e-04</td>\n",
       "      <td>1.147520e-03</td>\n",
       "      <td>1.697814e-03</td>\n",
       "      <td>8.169751e-04</td>\n",
       "      <td>7.422700e-04</td>\n",
       "      <td>6.667430e-04</td>\n",
       "      <td>2.903590e-03</td>\n",
       "      <td>2.069750e-03</td>\n",
       "    </tr>\n",
       "    <tr>\n",
       "      <th>ENSG00000000460</th>\n",
       "      <td>3.247900e-03</td>\n",
       "      <td>8.961700e-04</td>\n",
       "      <td>1.747988e-03</td>\n",
       "      <td>0.002657</td>\n",
       "      <td>1.643046e-03</td>\n",
       "      <td>1.518300e-04</td>\n",
       "      <td>1.632016e-03</td>\n",
       "      <td>8.221000e-05</td>\n",
       "      <td>1.058500e-04</td>\n",
       "      <td>1.574440e-03</td>\n",
       "      <td>...</td>\n",
       "      <td>5.365300e-04</td>\n",
       "      <td>3.919400e-03</td>\n",
       "      <td>2.608300e-04</td>\n",
       "      <td>6.074000e-04</td>\n",
       "      <td>8.046100e-04</td>\n",
       "      <td>7.701000e-05</td>\n",
       "      <td>7.564000e-05</td>\n",
       "      <td>2.833594e-03</td>\n",
       "      <td>1.231018e-03</td>\n",
       "      <td>1.207865e-03</td>\n",
       "    </tr>\n",
       "    <tr>\n",
       "      <th>ENSG00000000938</th>\n",
       "      <td>3.087900e-07</td>\n",
       "      <td>2.042400e-08</td>\n",
       "      <td>2.360500e-08</td>\n",
       "      <td>0.000001</td>\n",
       "      <td>4.529410e-07</td>\n",
       "      <td>2.835000e-08</td>\n",
       "      <td>5.327000e-07</td>\n",
       "      <td>2.771910e-07</td>\n",
       "      <td>1.267500e-08</td>\n",
       "      <td>7.379000e-08</td>\n",
       "      <td>...</td>\n",
       "      <td>4.869300e-07</td>\n",
       "      <td>5.233000e-08</td>\n",
       "      <td>1.112700e-08</td>\n",
       "      <td>2.128400e-08</td>\n",
       "      <td>1.451700e-08</td>\n",
       "      <td>5.381800e-08</td>\n",
       "      <td>6.220000e-08</td>\n",
       "      <td>2.968000e-08</td>\n",
       "      <td>4.375000e-07</td>\n",
       "      <td>5.045300e-07</td>\n",
       "    </tr>\n",
       "    <tr>\n",
       "      <th>ENSG00000000971</th>\n",
       "      <td>2.032760e-03</td>\n",
       "      <td>2.207462e-03</td>\n",
       "      <td>8.172900e-04</td>\n",
       "      <td>0.001288</td>\n",
       "      <td>7.016100e-05</td>\n",
       "      <td>1.195000e-04</td>\n",
       "      <td>6.850000e-05</td>\n",
       "      <td>2.881800e-04</td>\n",
       "      <td>2.144150e-03</td>\n",
       "      <td>5.924000e-04</td>\n",
       "      <td>...</td>\n",
       "      <td>8.699000e-04</td>\n",
       "      <td>1.505000e-03</td>\n",
       "      <td>4.027000e-05</td>\n",
       "      <td>5.216000e-05</td>\n",
       "      <td>1.697669e-03</td>\n",
       "      <td>2.085200e-04</td>\n",
       "      <td>6.206000e-05</td>\n",
       "      <td>4.653000e-05</td>\n",
       "      <td>3.147968e-03</td>\n",
       "      <td>1.485237e-03</td>\n",
       "    </tr>\n",
       "  </tbody>\n",
       "</table>\n",
       "<p>5 rows × 47 columns</p>\n",
       "</div>"
      ],
      "text/plain": [
       "                 Artery_Aorta  Heart_Atrial_Appendage     Pituitary    Testis  \\\n",
       "ENSG00000000419  1.080000e-06            1.100200e-06  1.994300e-05  0.000005   \n",
       "ENSG00000000457  6.854100e-04            3.274600e-04  1.335000e-03  0.002193   \n",
       "ENSG00000000460  3.247900e-03            8.961700e-04  1.747988e-03  0.002657   \n",
       "ENSG00000000938  3.087900e-07            2.042400e-08  2.360500e-08  0.000001   \n",
       "ENSG00000000971  2.032760e-03            2.207462e-03  8.172900e-04  0.001288   \n",
       "\n",
       "                 Muscle_Skeletal        Uterus  Colon_Transverse  \\\n",
       "ENSG00000000419     1.141000e-05  1.717692e-04      6.731000e-06   \n",
       "ENSG00000000457     2.856830e-03  3.142100e-04      1.205660e-03   \n",
       "ENSG00000000460     1.643046e-03  1.518300e-04      1.632016e-03   \n",
       "ENSG00000000938     4.529410e-07  2.835000e-08      5.327000e-07   \n",
       "ENSG00000000971     7.016100e-05  1.195000e-04      6.850000e-05   \n",
       "\n",
       "                      Stomach  Artery_Coronary   Whole_Blood  ...  \\\n",
       "ENSG00000000419  1.483500e-06     3.793000e-06  1.607000e-06  ...   \n",
       "ENSG00000000457  6.987980e-04     8.122100e-04  9.674980e-04  ...   \n",
       "ENSG00000000460  8.221000e-05     1.058500e-04  1.574440e-03  ...   \n",
       "ENSG00000000938  2.771910e-07     1.267500e-08  7.379000e-08  ...   \n",
       "ENSG00000000971  2.881800e-04     2.144150e-03  5.924000e-04  ...   \n",
       "\n",
       "                 Adipose_Subcutaneous  Brain_Cerebellum        Vagina  \\\n",
       "ENSG00000000419          7.439000e-06      1.427759e-04  2.798700e-06   \n",
       "ENSG00000000457          3.332710e-03      1.956220e-03  1.795500e-04   \n",
       "ENSG00000000460          5.365300e-04      3.919400e-03  2.608300e-04   \n",
       "ENSG00000000938          4.869300e-07      5.233000e-08  1.112700e-08   \n",
       "ENSG00000000971          8.699000e-04      1.505000e-03  4.027000e-05   \n",
       "\n",
       "                 Brain_Nucleus_accumbens_basal_ganglia  Brain_Cortex  \\\n",
       "ENSG00000000419                           4.078400e-06  6.274000e-06   \n",
       "ENSG00000000457                           1.147520e-03  1.697814e-03   \n",
       "ENSG00000000460                           6.074000e-04  8.046100e-04   \n",
       "ENSG00000000938                           2.128400e-08  1.451700e-08   \n",
       "ENSG00000000971                           5.216000e-05  1.697669e-03   \n",
       "\n",
       "                       Spleen  Cells_EBV-transformed_lymphocytes  \\\n",
       "ENSG00000000419  5.049000e-06                       8.852000e-06   \n",
       "ENSG00000000457  8.169751e-04                       7.422700e-04   \n",
       "ENSG00000000460  7.701000e-05                       7.564000e-05   \n",
       "ENSG00000000938  5.381800e-08                       6.220000e-08   \n",
       "ENSG00000000971  2.085200e-04                       6.206000e-05   \n",
       "\n",
       "                     Prostate  Nerve_Tibial       Thyroid  \n",
       "ENSG00000000419  1.166800e-06  5.922080e-05  1.492200e-05  \n",
       "ENSG00000000457  6.667430e-04  2.903590e-03  2.069750e-03  \n",
       "ENSG00000000460  2.833594e-03  1.231018e-03  1.207865e-03  \n",
       "ENSG00000000938  2.968000e-08  4.375000e-07  5.045300e-07  \n",
       "ENSG00000000971  4.653000e-05  3.147968e-03  1.485237e-03  \n",
       "\n",
       "[5 rows x 47 columns]"
      ]
     },
     "execution_count": 35,
     "metadata": {},
     "output_type": "execute_result"
    }
   ],
   "source": [
    "fe_all.head()"
   ]
  },
  {
   "cell_type": "code",
   "execution_count": 36,
   "metadata": {},
   "outputs": [],
   "source": [
    "enloc_all = read_enloc_all_tissues(PHENO_MAPPINGS[PHENOTYPE_SELECTED])"
   ]
  },
  {
   "cell_type": "code",
   "execution_count": 37,
   "metadata": {},
   "outputs": [
    {
     "data": {
      "text/plain": [
       "(22709, 47)"
      ]
     },
     "execution_count": 37,
     "metadata": {},
     "output_type": "execute_result"
    }
   ],
   "source": [
    "enloc_all.shape"
   ]
  },
  {
   "cell_type": "code",
   "execution_count": 38,
   "metadata": {},
   "outputs": [
    {
     "data": {
      "text/html": [
       "<div>\n",
       "<style scoped>\n",
       "    .dataframe tbody tr th:only-of-type {\n",
       "        vertical-align: middle;\n",
       "    }\n",
       "\n",
       "    .dataframe tbody tr th {\n",
       "        vertical-align: top;\n",
       "    }\n",
       "\n",
       "    .dataframe thead th {\n",
       "        text-align: right;\n",
       "    }\n",
       "</style>\n",
       "<table border=\"1\" class=\"dataframe\">\n",
       "  <thead>\n",
       "    <tr style=\"text-align: right;\">\n",
       "      <th></th>\n",
       "      <th>Artery_Aorta</th>\n",
       "      <th>Heart_Atrial_Appendage</th>\n",
       "      <th>Pituitary</th>\n",
       "      <th>Testis</th>\n",
       "      <th>Muscle_Skeletal</th>\n",
       "      <th>Uterus</th>\n",
       "      <th>Colon_Transverse</th>\n",
       "      <th>Stomach</th>\n",
       "      <th>Artery_Coronary</th>\n",
       "      <th>Whole_Blood</th>\n",
       "      <th>...</th>\n",
       "      <th>Adipose_Subcutaneous</th>\n",
       "      <th>Brain_Cerebellum</th>\n",
       "      <th>Vagina</th>\n",
       "      <th>Brain_Nucleus_accumbens_basal_ganglia</th>\n",
       "      <th>Brain_Cortex</th>\n",
       "      <th>Spleen</th>\n",
       "      <th>Cells_EBV-transformed_lymphocytes</th>\n",
       "      <th>Prostate</th>\n",
       "      <th>Nerve_Tibial</th>\n",
       "      <th>Thyroid</th>\n",
       "    </tr>\n",
       "  </thead>\n",
       "  <tbody>\n",
       "    <tr>\n",
       "      <th>ENSG00000000419</th>\n",
       "      <td>0.0</td>\n",
       "      <td>0.0</td>\n",
       "      <td>0.0</td>\n",
       "      <td>0.0</td>\n",
       "      <td>0.0</td>\n",
       "      <td>0.0</td>\n",
       "      <td>0.0</td>\n",
       "      <td>0.0</td>\n",
       "      <td>0.0</td>\n",
       "      <td>0.0</td>\n",
       "      <td>...</td>\n",
       "      <td>0.0</td>\n",
       "      <td>0.0</td>\n",
       "      <td>0.0</td>\n",
       "      <td>0.0</td>\n",
       "      <td>0.0</td>\n",
       "      <td>0.0</td>\n",
       "      <td>0.0</td>\n",
       "      <td>0.0</td>\n",
       "      <td>0.0</td>\n",
       "      <td>0.0</td>\n",
       "    </tr>\n",
       "    <tr>\n",
       "      <th>ENSG00000000457</th>\n",
       "      <td>0.0</td>\n",
       "      <td>0.0</td>\n",
       "      <td>NaN</td>\n",
       "      <td>NaN</td>\n",
       "      <td>NaN</td>\n",
       "      <td>0.0</td>\n",
       "      <td>NaN</td>\n",
       "      <td>0.0</td>\n",
       "      <td>0.0</td>\n",
       "      <td>NaN</td>\n",
       "      <td>...</td>\n",
       "      <td>NaN</td>\n",
       "      <td>NaN</td>\n",
       "      <td>0.0</td>\n",
       "      <td>NaN</td>\n",
       "      <td>NaN</td>\n",
       "      <td>NaN</td>\n",
       "      <td>NaN</td>\n",
       "      <td>NaN</td>\n",
       "      <td>NaN</td>\n",
       "      <td>NaN</td>\n",
       "    </tr>\n",
       "    <tr>\n",
       "      <th>ENSG00000000460</th>\n",
       "      <td>NaN</td>\n",
       "      <td>NaN</td>\n",
       "      <td>NaN</td>\n",
       "      <td>NaN</td>\n",
       "      <td>NaN</td>\n",
       "      <td>0.0</td>\n",
       "      <td>NaN</td>\n",
       "      <td>NaN</td>\n",
       "      <td>0.0</td>\n",
       "      <td>NaN</td>\n",
       "      <td>...</td>\n",
       "      <td>NaN</td>\n",
       "      <td>NaN</td>\n",
       "      <td>NaN</td>\n",
       "      <td>0.0</td>\n",
       "      <td>NaN</td>\n",
       "      <td>0.0</td>\n",
       "      <td>NaN</td>\n",
       "      <td>NaN</td>\n",
       "      <td>NaN</td>\n",
       "      <td>NaN</td>\n",
       "    </tr>\n",
       "    <tr>\n",
       "      <th>ENSG00000000938</th>\n",
       "      <td>0.0</td>\n",
       "      <td>0.0</td>\n",
       "      <td>0.0</td>\n",
       "      <td>0.0</td>\n",
       "      <td>0.0</td>\n",
       "      <td>0.0</td>\n",
       "      <td>0.0</td>\n",
       "      <td>0.0</td>\n",
       "      <td>0.0</td>\n",
       "      <td>0.0</td>\n",
       "      <td>...</td>\n",
       "      <td>0.0</td>\n",
       "      <td>0.0</td>\n",
       "      <td>0.0</td>\n",
       "      <td>0.0</td>\n",
       "      <td>0.0</td>\n",
       "      <td>0.0</td>\n",
       "      <td>0.0</td>\n",
       "      <td>0.0</td>\n",
       "      <td>0.0</td>\n",
       "      <td>0.0</td>\n",
       "    </tr>\n",
       "    <tr>\n",
       "      <th>ENSG00000000971</th>\n",
       "      <td>NaN</td>\n",
       "      <td>NaN</td>\n",
       "      <td>0.0</td>\n",
       "      <td>NaN</td>\n",
       "      <td>0.0</td>\n",
       "      <td>0.0</td>\n",
       "      <td>0.0</td>\n",
       "      <td>0.0</td>\n",
       "      <td>NaN</td>\n",
       "      <td>0.0</td>\n",
       "      <td>...</td>\n",
       "      <td>NaN</td>\n",
       "      <td>0.0</td>\n",
       "      <td>0.0</td>\n",
       "      <td>0.0</td>\n",
       "      <td>0.0</td>\n",
       "      <td>0.0</td>\n",
       "      <td>0.0</td>\n",
       "      <td>0.0</td>\n",
       "      <td>NaN</td>\n",
       "      <td>NaN</td>\n",
       "    </tr>\n",
       "  </tbody>\n",
       "</table>\n",
       "<p>5 rows × 47 columns</p>\n",
       "</div>"
      ],
      "text/plain": [
       "                 Artery_Aorta  Heart_Atrial_Appendage  Pituitary  Testis  \\\n",
       "ENSG00000000419           0.0                     0.0        0.0     0.0   \n",
       "ENSG00000000457           0.0                     0.0        NaN     NaN   \n",
       "ENSG00000000460           NaN                     NaN        NaN     NaN   \n",
       "ENSG00000000938           0.0                     0.0        0.0     0.0   \n",
       "ENSG00000000971           NaN                     NaN        0.0     NaN   \n",
       "\n",
       "                 Muscle_Skeletal  Uterus  Colon_Transverse  Stomach  \\\n",
       "ENSG00000000419              0.0     0.0               0.0      0.0   \n",
       "ENSG00000000457              NaN     0.0               NaN      0.0   \n",
       "ENSG00000000460              NaN     0.0               NaN      NaN   \n",
       "ENSG00000000938              0.0     0.0               0.0      0.0   \n",
       "ENSG00000000971              0.0     0.0               0.0      0.0   \n",
       "\n",
       "                 Artery_Coronary  Whole_Blood  ...  Adipose_Subcutaneous  \\\n",
       "ENSG00000000419              0.0          0.0  ...                   0.0   \n",
       "ENSG00000000457              0.0          NaN  ...                   NaN   \n",
       "ENSG00000000460              0.0          NaN  ...                   NaN   \n",
       "ENSG00000000938              0.0          0.0  ...                   0.0   \n",
       "ENSG00000000971              NaN          0.0  ...                   NaN   \n",
       "\n",
       "                 Brain_Cerebellum  Vagina  \\\n",
       "ENSG00000000419               0.0     0.0   \n",
       "ENSG00000000457               NaN     0.0   \n",
       "ENSG00000000460               NaN     NaN   \n",
       "ENSG00000000938               0.0     0.0   \n",
       "ENSG00000000971               0.0     0.0   \n",
       "\n",
       "                 Brain_Nucleus_accumbens_basal_ganglia  Brain_Cortex  Spleen  \\\n",
       "ENSG00000000419                                    0.0           0.0     0.0   \n",
       "ENSG00000000457                                    NaN           NaN     NaN   \n",
       "ENSG00000000460                                    0.0           NaN     0.0   \n",
       "ENSG00000000938                                    0.0           0.0     0.0   \n",
       "ENSG00000000971                                    0.0           0.0     0.0   \n",
       "\n",
       "                 Cells_EBV-transformed_lymphocytes  Prostate  Nerve_Tibial  \\\n",
       "ENSG00000000419                                0.0       0.0           0.0   \n",
       "ENSG00000000457                                NaN       NaN           NaN   \n",
       "ENSG00000000460                                NaN       NaN           NaN   \n",
       "ENSG00000000938                                0.0       0.0           0.0   \n",
       "ENSG00000000971                                0.0       0.0           NaN   \n",
       "\n",
       "                 Thyroid  \n",
       "ENSG00000000419      0.0  \n",
       "ENSG00000000457      NaN  \n",
       "ENSG00000000460      NaN  \n",
       "ENSG00000000938      0.0  \n",
       "ENSG00000000971      NaN  \n",
       "\n",
       "[5 rows x 47 columns]"
      ]
     },
     "execution_count": 38,
     "metadata": {},
     "output_type": "execute_result"
    }
   ],
   "source": [
    "enloc_all.head()"
   ]
  },
  {
   "cell_type": "code",
   "execution_count": 39,
   "metadata": {},
   "outputs": [],
   "source": [
    "df = create_df_plot(fe_all, enloc_all)"
   ]
  },
  {
   "cell_type": "code",
   "execution_count": 40,
   "metadata": {},
   "outputs": [
    {
     "data": {
      "text/plain": [
       "(775522, 2)"
      ]
     },
     "execution_count": 40,
     "metadata": {},
     "output_type": "execute_result"
    }
   ],
   "source": [
    "df.shape"
   ]
  },
  {
   "cell_type": "code",
   "execution_count": 41,
   "metadata": {},
   "outputs": [
    {
     "data": {
      "text/html": [
       "<div>\n",
       "<style scoped>\n",
       "    .dataframe tbody tr th:only-of-type {\n",
       "        vertical-align: middle;\n",
       "    }\n",
       "\n",
       "    .dataframe tbody tr th {\n",
       "        vertical-align: top;\n",
       "    }\n",
       "\n",
       "    .dataframe thead th {\n",
       "        text-align: right;\n",
       "    }\n",
       "</style>\n",
       "<table border=\"1\" class=\"dataframe\">\n",
       "  <thead>\n",
       "    <tr style=\"text-align: right;\">\n",
       "      <th></th>\n",
       "      <th></th>\n",
       "      <th>ENLOC</th>\n",
       "      <th>fastENLOC</th>\n",
       "    </tr>\n",
       "  </thead>\n",
       "  <tbody>\n",
       "    <tr>\n",
       "      <th>Cells_EBV-transformed_lymphocytes</th>\n",
       "      <th>ENSG00000147364</th>\n",
       "      <td>0.000</td>\n",
       "      <td>3.891000e-05</td>\n",
       "    </tr>\n",
       "    <tr>\n",
       "      <th>Brain_Substantia_nigra</th>\n",
       "      <th>ENSG00000183773</th>\n",
       "      <td>0.000</td>\n",
       "      <td>8.741000e-15</td>\n",
       "    </tr>\n",
       "    <tr>\n",
       "      <th>Cells_EBV-transformed_lymphocytes</th>\n",
       "      <th>ENSG00000105669</th>\n",
       "      <td>0.000</td>\n",
       "      <td>1.187100e-29</td>\n",
       "    </tr>\n",
       "    <tr>\n",
       "      <th>Uterus</th>\n",
       "      <th>ENSG00000088727</th>\n",
       "      <td>0.006</td>\n",
       "      <td>1.002420e-18</td>\n",
       "    </tr>\n",
       "    <tr>\n",
       "      <th>Brain_Spinal_cord_cervical_c-1</th>\n",
       "      <th>ENSG00000239642</th>\n",
       "      <td>0.000</td>\n",
       "      <td>3.921009e-53</td>\n",
       "    </tr>\n",
       "  </tbody>\n",
       "</table>\n",
       "</div>"
      ],
      "text/plain": [
       "                                                   ENLOC     fastENLOC\n",
       "Cells_EBV-transformed_lymphocytes ENSG00000147364  0.000  3.891000e-05\n",
       "Brain_Substantia_nigra            ENSG00000183773  0.000  8.741000e-15\n",
       "Cells_EBV-transformed_lymphocytes ENSG00000105669  0.000  1.187100e-29\n",
       "Uterus                            ENSG00000088727  0.006  1.002420e-18\n",
       "Brain_Spinal_cord_cervical_c-1    ENSG00000239642  0.000  3.921009e-53"
      ]
     },
     "execution_count": 41,
     "metadata": {},
     "output_type": "execute_result"
    }
   ],
   "source": [
    "df.head()"
   ]
  },
  {
   "cell_type": "code",
   "execution_count": 42,
   "metadata": {},
   "outputs": [],
   "source": [
    "df_plot = df[(df['ENLOC'] > 0.1) & (df['fastENLOC'] > 0.1)]"
   ]
  },
  {
   "cell_type": "code",
   "execution_count": 43,
   "metadata": {},
   "outputs": [
    {
     "data": {
      "text/plain": [
       "(0.6893875605209894, 0.0)"
      ]
     },
     "execution_count": 43,
     "metadata": {},
     "output_type": "execute_result"
    }
   ],
   "source": [
    "stats.pearsonr(df_plot['ENLOC'].values, df_plot['fastENLOC'].values)"
   ]
  },
  {
   "cell_type": "code",
   "execution_count": 44,
   "metadata": {},
   "outputs": [
    {
     "data": {
      "text/plain": [
       "SpearmanrResult(correlation=0.6100732047254849, pvalue=0.0)"
      ]
     },
     "execution_count": 44,
     "metadata": {},
     "output_type": "execute_result"
    }
   ],
   "source": [
    "stats.spearmanr(df_plot['ENLOC'].values, df_plot['fastENLOC'].values)"
   ]
  },
  {
   "cell_type": "code",
   "execution_count": 45,
   "metadata": {},
   "outputs": [],
   "source": [
    "# final refining\n",
    "df_plot = df_plot[df_plot['fastENLOC'] <= 1.05]"
   ]
  },
  {
   "cell_type": "code",
   "execution_count": 46,
   "metadata": {},
   "outputs": [
    {
     "data": {
      "image/png": "[encoded data removed]",
      "text/plain": [
       "<Figure size 432x432 with 3 Axes>"
      ]
     },
     "metadata": {},
     "output_type": "display_data"
    }
   ],
   "source": [
    "df_plot_final = df_plot.rename(columns={'ENLOC': 'ENLOC (RCP)', 'fastENLOC': 'fastENLOC (RCP)'})\n",
    "\n",
    "with sns.axes_style(\"white\"):\n",
    "    ax = sns.jointplot(data=df_plot_final, x='ENLOC (RCP)', y='fastENLOC (RCP)', kind='hex')\n",
    "    ax.ax_joint.plot([0.10, 1.0], [0.10, 1.0], 'gray', linewidth=0.75)\n",
    "    ax.fig.suptitle(f'{metadata.RAPID_GWAS_PHENO_INFO.loc[PHENOTYPE_SELECTED, \"description\"]}\\nAll tissues')\n",
    "\n",
    "    fig_path = os.path.join(figures_path, 'sup_fig3a.png')\n",
    "    plt.savefig(fig_path, dpi=150, bbox_inches='tight')"
   ]
  },
  {
   "cell_type": "markdown",
   "metadata": {},
   "source": [
    "## Sleep duration: 1160"
   ]
  },
  {
   "cell_type": "code",
   "execution_count": 47,
   "metadata": {},
   "outputs": [],
   "source": [
    "PHENOTYPE_SELECTED = '1160'"
   ]
  },
  {
   "cell_type": "code",
   "execution_count": 48,
   "metadata": {},
   "outputs": [],
   "source": [
    "fe_all = read_fe_all_tissues(PHENOTYPE_SELECTED)"
   ]
  },
  {
   "cell_type": "code",
   "execution_count": 49,
   "metadata": {},
   "outputs": [
    {
     "data": {
      "text/plain": [
       "(37360, 47)"
      ]
     },
     "execution_count": 49,
     "metadata": {},
     "output_type": "execute_result"
    }
   ],
   "source": [
    "fe_all.shape"
   ]
  },
  {
   "cell_type": "code",
   "execution_count": 50,
   "metadata": {},
   "outputs": [
    {
     "data": {
      "text/html": [
       "<div>\n",
       "<style scoped>\n",
       "    .dataframe tbody tr th:only-of-type {\n",
       "        vertical-align: middle;\n",
       "    }\n",
       "\n",
       "    .dataframe tbody tr th {\n",
       "        vertical-align: top;\n",
       "    }\n",
       "\n",
       "    .dataframe thead th {\n",
       "        text-align: right;\n",
       "    }\n",
       "</style>\n",
       "<table border=\"1\" class=\"dataframe\">\n",
       "  <thead>\n",
       "    <tr style=\"text-align: right;\">\n",
       "      <th></th>\n",
       "      <th>Artery_Aorta</th>\n",
       "      <th>Heart_Atrial_Appendage</th>\n",
       "      <th>Pituitary</th>\n",
       "      <th>Testis</th>\n",
       "      <th>Muscle_Skeletal</th>\n",
       "      <th>Uterus</th>\n",
       "      <th>Colon_Transverse</th>\n",
       "      <th>Stomach</th>\n",
       "      <th>Artery_Coronary</th>\n",
       "      <th>Whole_Blood</th>\n",
       "      <th>...</th>\n",
       "      <th>Adipose_Subcutaneous</th>\n",
       "      <th>Brain_Cerebellum</th>\n",
       "      <th>Vagina</th>\n",
       "      <th>Brain_Nucleus_accumbens_basal_ganglia</th>\n",
       "      <th>Brain_Cortex</th>\n",
       "      <th>Spleen</th>\n",
       "      <th>Cells_EBV-transformed_lymphocytes</th>\n",
       "      <th>Prostate</th>\n",
       "      <th>Nerve_Tibial</th>\n",
       "      <th>Thyroid</th>\n",
       "    </tr>\n",
       "  </thead>\n",
       "  <tbody>\n",
       "    <tr>\n",
       "      <th>ENSG00000000419</th>\n",
       "      <td>0.000048</td>\n",
       "      <td>0.000069</td>\n",
       "      <td>0.000450</td>\n",
       "      <td>0.000169</td>\n",
       "      <td>0.000228</td>\n",
       "      <td>0.003234</td>\n",
       "      <td>0.000118</td>\n",
       "      <td>0.000123</td>\n",
       "      <td>0.000180</td>\n",
       "      <td>0.000099</td>\n",
       "      <td>...</td>\n",
       "      <td>0.000259</td>\n",
       "      <td>0.005033</td>\n",
       "      <td>0.000089</td>\n",
       "      <td>0.000199</td>\n",
       "      <td>0.000330</td>\n",
       "      <td>0.000150</td>\n",
       "      <td>0.000425</td>\n",
       "      <td>0.000060</td>\n",
       "      <td>0.000564</td>\n",
       "      <td>0.000314</td>\n",
       "    </tr>\n",
       "    <tr>\n",
       "      <th>ENSG00000000457</th>\n",
       "      <td>0.001863</td>\n",
       "      <td>0.000237</td>\n",
       "      <td>0.003489</td>\n",
       "      <td>0.000970</td>\n",
       "      <td>0.003843</td>\n",
       "      <td>0.000678</td>\n",
       "      <td>0.001177</td>\n",
       "      <td>0.000592</td>\n",
       "      <td>0.000363</td>\n",
       "      <td>0.002181</td>\n",
       "      <td>...</td>\n",
       "      <td>0.004270</td>\n",
       "      <td>0.006201</td>\n",
       "      <td>0.000164</td>\n",
       "      <td>0.002288</td>\n",
       "      <td>0.003716</td>\n",
       "      <td>0.001861</td>\n",
       "      <td>0.001129</td>\n",
       "      <td>0.000615</td>\n",
       "      <td>0.004424</td>\n",
       "      <td>0.003474</td>\n",
       "    </tr>\n",
       "    <tr>\n",
       "      <th>ENSG00000000460</th>\n",
       "      <td>0.003556</td>\n",
       "      <td>0.001487</td>\n",
       "      <td>0.003383</td>\n",
       "      <td>0.001123</td>\n",
       "      <td>0.003275</td>\n",
       "      <td>0.000233</td>\n",
       "      <td>0.001255</td>\n",
       "      <td>0.000182</td>\n",
       "      <td>0.000144</td>\n",
       "      <td>0.002590</td>\n",
       "      <td>...</td>\n",
       "      <td>0.000976</td>\n",
       "      <td>0.005614</td>\n",
       "      <td>0.000407</td>\n",
       "      <td>0.000809</td>\n",
       "      <td>0.001916</td>\n",
       "      <td>0.000076</td>\n",
       "      <td>0.000162</td>\n",
       "      <td>0.002880</td>\n",
       "      <td>0.001914</td>\n",
       "      <td>0.002291</td>\n",
       "    </tr>\n",
       "    <tr>\n",
       "      <th>ENSG00000000938</th>\n",
       "      <td>0.000956</td>\n",
       "      <td>0.000069</td>\n",
       "      <td>0.000079</td>\n",
       "      <td>0.001454</td>\n",
       "      <td>0.001803</td>\n",
       "      <td>0.000058</td>\n",
       "      <td>0.000920</td>\n",
       "      <td>0.000759</td>\n",
       "      <td>0.000046</td>\n",
       "      <td>0.000290</td>\n",
       "      <td>...</td>\n",
       "      <td>0.001499</td>\n",
       "      <td>0.000223</td>\n",
       "      <td>0.000048</td>\n",
       "      <td>0.000047</td>\n",
       "      <td>0.000059</td>\n",
       "      <td>0.000211</td>\n",
       "      <td>0.000192</td>\n",
       "      <td>0.000054</td>\n",
       "      <td>0.001341</td>\n",
       "      <td>0.001326</td>\n",
       "    </tr>\n",
       "    <tr>\n",
       "      <th>ENSG00000000971</th>\n",
       "      <td>0.002949</td>\n",
       "      <td>0.004150</td>\n",
       "      <td>0.002573</td>\n",
       "      <td>0.001764</td>\n",
       "      <td>0.000247</td>\n",
       "      <td>0.000090</td>\n",
       "      <td>0.000094</td>\n",
       "      <td>0.000493</td>\n",
       "      <td>0.004447</td>\n",
       "      <td>0.000593</td>\n",
       "      <td>...</td>\n",
       "      <td>0.001776</td>\n",
       "      <td>0.004237</td>\n",
       "      <td>0.000050</td>\n",
       "      <td>0.000036</td>\n",
       "      <td>0.004714</td>\n",
       "      <td>0.000388</td>\n",
       "      <td>0.000077</td>\n",
       "      <td>0.000031</td>\n",
       "      <td>0.004551</td>\n",
       "      <td>0.004089</td>\n",
       "    </tr>\n",
       "  </tbody>\n",
       "</table>\n",
       "<p>5 rows × 47 columns</p>\n",
       "</div>"
      ],
      "text/plain": [
       "                 Artery_Aorta  Heart_Atrial_Appendage  Pituitary    Testis  \\\n",
       "ENSG00000000419      0.000048                0.000069   0.000450  0.000169   \n",
       "ENSG00000000457      0.001863                0.000237   0.003489  0.000970   \n",
       "ENSG00000000460      0.003556                0.001487   0.003383  0.001123   \n",
       "ENSG00000000938      0.000956                0.000069   0.000079  0.001454   \n",
       "ENSG00000000971      0.002949                0.004150   0.002573  0.001764   \n",
       "\n",
       "                 Muscle_Skeletal    Uterus  Colon_Transverse   Stomach  \\\n",
       "ENSG00000000419         0.000228  0.003234          0.000118  0.000123   \n",
       "ENSG00000000457         0.003843  0.000678          0.001177  0.000592   \n",
       "ENSG00000000460         0.003275  0.000233          0.001255  0.000182   \n",
       "ENSG00000000938         0.001803  0.000058          0.000920  0.000759   \n",
       "ENSG00000000971         0.000247  0.000090          0.000094  0.000493   \n",
       "\n",
       "                 Artery_Coronary  Whole_Blood  ...  Adipose_Subcutaneous  \\\n",
       "ENSG00000000419         0.000180     0.000099  ...              0.000259   \n",
       "ENSG00000000457         0.000363     0.002181  ...              0.004270   \n",
       "ENSG00000000460         0.000144     0.002590  ...              0.000976   \n",
       "ENSG00000000938         0.000046     0.000290  ...              0.001499   \n",
       "ENSG00000000971         0.004447     0.000593  ...              0.001776   \n",
       "\n",
       "                 Brain_Cerebellum    Vagina  \\\n",
       "ENSG00000000419          0.005033  0.000089   \n",
       "ENSG00000000457          0.006201  0.000164   \n",
       "ENSG00000000460          0.005614  0.000407   \n",
       "ENSG00000000938          0.000223  0.000048   \n",
       "ENSG00000000971          0.004237  0.000050   \n",
       "\n",
       "                 Brain_Nucleus_accumbens_basal_ganglia  Brain_Cortex  \\\n",
       "ENSG00000000419                               0.000199      0.000330   \n",
       "ENSG00000000457                               0.002288      0.003716   \n",
       "ENSG00000000460                               0.000809      0.001916   \n",
       "ENSG00000000938                               0.000047      0.000059   \n",
       "ENSG00000000971                               0.000036      0.004714   \n",
       "\n",
       "                   Spleen  Cells_EBV-transformed_lymphocytes  Prostate  \\\n",
       "ENSG00000000419  0.000150                           0.000425  0.000060   \n",
       "ENSG00000000457  0.001861                           0.001129  0.000615   \n",
       "ENSG00000000460  0.000076                           0.000162  0.002880   \n",
       "ENSG00000000938  0.000211                           0.000192  0.000054   \n",
       "ENSG00000000971  0.000388                           0.000077  0.000031   \n",
       "\n",
       "                 Nerve_Tibial   Thyroid  \n",
       "ENSG00000000419      0.000564  0.000314  \n",
       "ENSG00000000457      0.004424  0.003474  \n",
       "ENSG00000000460      0.001914  0.002291  \n",
       "ENSG00000000938      0.001341  0.001326  \n",
       "ENSG00000000971      0.004551  0.004089  \n",
       "\n",
       "[5 rows x 47 columns]"
      ]
     },
     "execution_count": 50,
     "metadata": {},
     "output_type": "execute_result"
    }
   ],
   "source": [
    "fe_all.head()"
   ]
  },
  {
   "cell_type": "code",
   "execution_count": 51,
   "metadata": {},
   "outputs": [],
   "source": [
    "enloc_all = read_enloc_all_tissues(PHENO_MAPPINGS[PHENOTYPE_SELECTED])"
   ]
  },
  {
   "cell_type": "code",
   "execution_count": 52,
   "metadata": {},
   "outputs": [
    {
     "data": {
      "text/plain": [
       "(3893, 47)"
      ]
     },
     "execution_count": 52,
     "metadata": {},
     "output_type": "execute_result"
    }
   ],
   "source": [
    "enloc_all.shape"
   ]
  },
  {
   "cell_type": "code",
   "execution_count": 53,
   "metadata": {},
   "outputs": [
    {
     "data": {
      "text/html": [
       "<div>\n",
       "<style scoped>\n",
       "    .dataframe tbody tr th:only-of-type {\n",
       "        vertical-align: middle;\n",
       "    }\n",
       "\n",
       "    .dataframe tbody tr th {\n",
       "        vertical-align: top;\n",
       "    }\n",
       "\n",
       "    .dataframe thead th {\n",
       "        text-align: right;\n",
       "    }\n",
       "</style>\n",
       "<table border=\"1\" class=\"dataframe\">\n",
       "  <thead>\n",
       "    <tr style=\"text-align: right;\">\n",
       "      <th></th>\n",
       "      <th>Artery_Aorta</th>\n",
       "      <th>Heart_Atrial_Appendage</th>\n",
       "      <th>Pituitary</th>\n",
       "      <th>Testis</th>\n",
       "      <th>Muscle_Skeletal</th>\n",
       "      <th>Uterus</th>\n",
       "      <th>Colon_Transverse</th>\n",
       "      <th>Stomach</th>\n",
       "      <th>Artery_Coronary</th>\n",
       "      <th>Whole_Blood</th>\n",
       "      <th>...</th>\n",
       "      <th>Adipose_Subcutaneous</th>\n",
       "      <th>Brain_Cerebellum</th>\n",
       "      <th>Vagina</th>\n",
       "      <th>Brain_Nucleus_accumbens_basal_ganglia</th>\n",
       "      <th>Brain_Cortex</th>\n",
       "      <th>Spleen</th>\n",
       "      <th>Cells_EBV-transformed_lymphocytes</th>\n",
       "      <th>Prostate</th>\n",
       "      <th>Nerve_Tibial</th>\n",
       "      <th>Thyroid</th>\n",
       "    </tr>\n",
       "  </thead>\n",
       "  <tbody>\n",
       "    <tr>\n",
       "      <th>ENSG00000001084</th>\n",
       "      <td>0.0</td>\n",
       "      <td>0.0</td>\n",
       "      <td>0.0</td>\n",
       "      <td>0.0</td>\n",
       "      <td>0.0</td>\n",
       "      <td>0.0</td>\n",
       "      <td>0.0</td>\n",
       "      <td>0.0</td>\n",
       "      <td>0.0</td>\n",
       "      <td>0.0</td>\n",
       "      <td>...</td>\n",
       "      <td>0.001</td>\n",
       "      <td>0.0</td>\n",
       "      <td>0.0</td>\n",
       "      <td>0.0</td>\n",
       "      <td>0.0</td>\n",
       "      <td>0.0</td>\n",
       "      <td>0.0</td>\n",
       "      <td>0.0</td>\n",
       "      <td>0.0</td>\n",
       "      <td>0.0</td>\n",
       "    </tr>\n",
       "    <tr>\n",
       "      <th>ENSG00000001167</th>\n",
       "      <td>0.0</td>\n",
       "      <td>0.0</td>\n",
       "      <td>0.0</td>\n",
       "      <td>0.0</td>\n",
       "      <td>0.0</td>\n",
       "      <td>0.0</td>\n",
       "      <td>0.0</td>\n",
       "      <td>0.0</td>\n",
       "      <td>0.0</td>\n",
       "      <td>0.0</td>\n",
       "      <td>...</td>\n",
       "      <td>0.000</td>\n",
       "      <td>0.0</td>\n",
       "      <td>0.0</td>\n",
       "      <td>0.0</td>\n",
       "      <td>0.0</td>\n",
       "      <td>0.0</td>\n",
       "      <td>0.0</td>\n",
       "      <td>0.0</td>\n",
       "      <td>0.0</td>\n",
       "      <td>0.0</td>\n",
       "    </tr>\n",
       "    <tr>\n",
       "      <th>ENSG00000001626</th>\n",
       "      <td>NaN</td>\n",
       "      <td>NaN</td>\n",
       "      <td>0.0</td>\n",
       "      <td>NaN</td>\n",
       "      <td>NaN</td>\n",
       "      <td>0.0</td>\n",
       "      <td>0.0</td>\n",
       "      <td>NaN</td>\n",
       "      <td>NaN</td>\n",
       "      <td>NaN</td>\n",
       "      <td>...</td>\n",
       "      <td>NaN</td>\n",
       "      <td>NaN</td>\n",
       "      <td>0.0</td>\n",
       "      <td>0.0</td>\n",
       "      <td>NaN</td>\n",
       "      <td>NaN</td>\n",
       "      <td>NaN</td>\n",
       "      <td>0.0</td>\n",
       "      <td>0.0</td>\n",
       "      <td>0.0</td>\n",
       "    </tr>\n",
       "    <tr>\n",
       "      <th>ENSG00000002549</th>\n",
       "      <td>0.0</td>\n",
       "      <td>0.0</td>\n",
       "      <td>0.0</td>\n",
       "      <td>0.0</td>\n",
       "      <td>0.0</td>\n",
       "      <td>0.0</td>\n",
       "      <td>0.0</td>\n",
       "      <td>0.0</td>\n",
       "      <td>0.0</td>\n",
       "      <td>0.0</td>\n",
       "      <td>...</td>\n",
       "      <td>0.000</td>\n",
       "      <td>0.0</td>\n",
       "      <td>0.0</td>\n",
       "      <td>0.0</td>\n",
       "      <td>0.0</td>\n",
       "      <td>0.0</td>\n",
       "      <td>0.0</td>\n",
       "      <td>0.0</td>\n",
       "      <td>0.0</td>\n",
       "      <td>0.0</td>\n",
       "    </tr>\n",
       "    <tr>\n",
       "      <th>ENSG00000002745</th>\n",
       "      <td>NaN</td>\n",
       "      <td>NaN</td>\n",
       "      <td>NaN</td>\n",
       "      <td>NaN</td>\n",
       "      <td>NaN</td>\n",
       "      <td>NaN</td>\n",
       "      <td>NaN</td>\n",
       "      <td>NaN</td>\n",
       "      <td>NaN</td>\n",
       "      <td>NaN</td>\n",
       "      <td>...</td>\n",
       "      <td>NaN</td>\n",
       "      <td>NaN</td>\n",
       "      <td>NaN</td>\n",
       "      <td>0.0</td>\n",
       "      <td>NaN</td>\n",
       "      <td>0.0</td>\n",
       "      <td>NaN</td>\n",
       "      <td>NaN</td>\n",
       "      <td>NaN</td>\n",
       "      <td>NaN</td>\n",
       "    </tr>\n",
       "  </tbody>\n",
       "</table>\n",
       "<p>5 rows × 47 columns</p>\n",
       "</div>"
      ],
      "text/plain": [
       "                 Artery_Aorta  Heart_Atrial_Appendage  Pituitary  Testis  \\\n",
       "ENSG00000001084           0.0                     0.0        0.0     0.0   \n",
       "ENSG00000001167           0.0                     0.0        0.0     0.0   \n",
       "ENSG00000001626           NaN                     NaN        0.0     NaN   \n",
       "ENSG00000002549           0.0                     0.0        0.0     0.0   \n",
       "ENSG00000002745           NaN                     NaN        NaN     NaN   \n",
       "\n",
       "                 Muscle_Skeletal  Uterus  Colon_Transverse  Stomach  \\\n",
       "ENSG00000001084              0.0     0.0               0.0      0.0   \n",
       "ENSG00000001167              0.0     0.0               0.0      0.0   \n",
       "ENSG00000001626              NaN     0.0               0.0      NaN   \n",
       "ENSG00000002549              0.0     0.0               0.0      0.0   \n",
       "ENSG00000002745              NaN     NaN               NaN      NaN   \n",
       "\n",
       "                 Artery_Coronary  Whole_Blood  ...  Adipose_Subcutaneous  \\\n",
       "ENSG00000001084              0.0          0.0  ...                 0.001   \n",
       "ENSG00000001167              0.0          0.0  ...                 0.000   \n",
       "ENSG00000001626              NaN          NaN  ...                   NaN   \n",
       "ENSG00000002549              0.0          0.0  ...                 0.000   \n",
       "ENSG00000002745              NaN          NaN  ...                   NaN   \n",
       "\n",
       "                 Brain_Cerebellum  Vagina  \\\n",
       "ENSG00000001084               0.0     0.0   \n",
       "ENSG00000001167               0.0     0.0   \n",
       "ENSG00000001626               NaN     0.0   \n",
       "ENSG00000002549               0.0     0.0   \n",
       "ENSG00000002745               NaN     NaN   \n",
       "\n",
       "                 Brain_Nucleus_accumbens_basal_ganglia  Brain_Cortex  Spleen  \\\n",
       "ENSG00000001084                                    0.0           0.0     0.0   \n",
       "ENSG00000001167                                    0.0           0.0     0.0   \n",
       "ENSG00000001626                                    0.0           NaN     NaN   \n",
       "ENSG00000002549                                    0.0           0.0     0.0   \n",
       "ENSG00000002745                                    0.0           NaN     0.0   \n",
       "\n",
       "                 Cells_EBV-transformed_lymphocytes  Prostate  Nerve_Tibial  \\\n",
       "ENSG00000001084                                0.0       0.0           0.0   \n",
       "ENSG00000001167                                0.0       0.0           0.0   \n",
       "ENSG00000001626                                NaN       0.0           0.0   \n",
       "ENSG00000002549                                0.0       0.0           0.0   \n",
       "ENSG00000002745                                NaN       NaN           NaN   \n",
       "\n",
       "                 Thyroid  \n",
       "ENSG00000001084      0.0  \n",
       "ENSG00000001167      0.0  \n",
       "ENSG00000001626      0.0  \n",
       "ENSG00000002549      0.0  \n",
       "ENSG00000002745      NaN  \n",
       "\n",
       "[5 rows x 47 columns]"
      ]
     },
     "execution_count": 53,
     "metadata": {},
     "output_type": "execute_result"
    }
   ],
   "source": [
    "enloc_all.head()"
   ]
  },
  {
   "cell_type": "code",
   "execution_count": 54,
   "metadata": {},
   "outputs": [],
   "source": [
    "df = create_df_plot(fe_all, enloc_all)"
   ]
  },
  {
   "cell_type": "code",
   "execution_count": 55,
   "metadata": {},
   "outputs": [
    {
     "data": {
      "text/plain": [
       "(110531, 2)"
      ]
     },
     "execution_count": 55,
     "metadata": {},
     "output_type": "execute_result"
    }
   ],
   "source": [
    "df.shape"
   ]
  },
  {
   "cell_type": "code",
   "execution_count": 56,
   "metadata": {},
   "outputs": [
    {
     "data": {
      "text/html": [
       "<div>\n",
       "<style scoped>\n",
       "    .dataframe tbody tr th:only-of-type {\n",
       "        vertical-align: middle;\n",
       "    }\n",
       "\n",
       "    .dataframe tbody tr th {\n",
       "        vertical-align: top;\n",
       "    }\n",
       "\n",
       "    .dataframe thead th {\n",
       "        text-align: right;\n",
       "    }\n",
       "</style>\n",
       "<table border=\"1\" class=\"dataframe\">\n",
       "  <thead>\n",
       "    <tr style=\"text-align: right;\">\n",
       "      <th></th>\n",
       "      <th></th>\n",
       "      <th>ENLOC</th>\n",
       "      <th>fastENLOC</th>\n",
       "    </tr>\n",
       "  </thead>\n",
       "  <tbody>\n",
       "    <tr>\n",
       "      <th>Breast_Mammary_Tissue</th>\n",
       "      <th>ENSG00000253688</th>\n",
       "      <td>0.0</td>\n",
       "      <td>0.000060</td>\n",
       "    </tr>\n",
       "    <tr>\n",
       "      <th>Ovary</th>\n",
       "      <th>ENSG00000167264</th>\n",
       "      <td>0.0</td>\n",
       "      <td>0.000029</td>\n",
       "    </tr>\n",
       "    <tr>\n",
       "      <th>Nerve_Tibial</th>\n",
       "      <th>ENSG00000058668</th>\n",
       "      <td>0.0</td>\n",
       "      <td>0.000216</td>\n",
       "    </tr>\n",
       "    <tr>\n",
       "      <th>Small_Intestine_Terminal_Ileum</th>\n",
       "      <th>ENSG00000214940</th>\n",
       "      <td>0.0</td>\n",
       "      <td>0.000020</td>\n",
       "    </tr>\n",
       "    <tr>\n",
       "      <th>Muscle_Skeletal</th>\n",
       "      <th>ENSG00000128346</th>\n",
       "      <td>0.0</td>\n",
       "      <td>0.000005</td>\n",
       "    </tr>\n",
       "  </tbody>\n",
       "</table>\n",
       "</div>"
      ],
      "text/plain": [
       "                                                ENLOC  fastENLOC\n",
       "Breast_Mammary_Tissue          ENSG00000253688    0.0   0.000060\n",
       "Ovary                          ENSG00000167264    0.0   0.000029\n",
       "Nerve_Tibial                   ENSG00000058668    0.0   0.000216\n",
       "Small_Intestine_Terminal_Ileum ENSG00000214940    0.0   0.000020\n",
       "Muscle_Skeletal                ENSG00000128346    0.0   0.000005"
      ]
     },
     "execution_count": 56,
     "metadata": {},
     "output_type": "execute_result"
    }
   ],
   "source": [
    "df.head()"
   ]
  },
  {
   "cell_type": "code",
   "execution_count": 57,
   "metadata": {},
   "outputs": [],
   "source": [
    "df_plot = df[(df['ENLOC'] > 0.1) & (df['fastENLOC'] > 0.1)]"
   ]
  },
  {
   "cell_type": "code",
   "execution_count": 58,
   "metadata": {},
   "outputs": [
    {
     "data": {
      "text/plain": [
       "(0.5371303662556126, 4.3588009705142455e-39)"
      ]
     },
     "execution_count": 58,
     "metadata": {},
     "output_type": "execute_result"
    }
   ],
   "source": [
    "stats.pearsonr(df_plot['ENLOC'].values, df_plot['fastENLOC'].values)"
   ]
  },
  {
   "cell_type": "code",
   "execution_count": 59,
   "metadata": {},
   "outputs": [
    {
     "data": {
      "text/plain": [
       "SpearmanrResult(correlation=0.4962337249262243, pvalue=9.454428881249122e-33)"
      ]
     },
     "execution_count": 59,
     "metadata": {},
     "output_type": "execute_result"
    }
   ],
   "source": [
    "stats.spearmanr(df_plot['ENLOC'].values, df_plot['fastENLOC'].values)"
   ]
  },
  {
   "cell_type": "code",
   "execution_count": 60,
   "metadata": {},
   "outputs": [],
   "source": [
    "# with sns.axes_style(\"white\"):\n",
    "#     ax = sns.jointplot(data=df_plot, x='ENLOC', y='fastENLOC', kind='kde')\n",
    "#     ax.ax_joint.plot([0.0, 1.0], [0.0, 1.0], 'gray', linewidth=0.75)\n",
    "#     ax.ax_joint.set_xlim([0.0, 1.10])\n",
    "#     ax.ax_joint.set_ylim([0.0, 1.10])"
   ]
  },
  {
   "cell_type": "code",
   "execution_count": 61,
   "metadata": {},
   "outputs": [],
   "source": [
    "# final refining\n",
    "df_plot = df_plot[df_plot['fastENLOC'] <= 1.05]"
   ]
  },
  {
   "cell_type": "code",
   "execution_count": 62,
   "metadata": {},
   "outputs": [
    {
     "data": {
      "image/png": "[encoded data removed]",
      "text/plain": [
       "<Figure size 432x432 with 3 Axes>"
      ]
     },
     "metadata": {},
     "output_type": "display_data"
    }
   ],
   "source": [
    "df_plot_final = df_plot.rename(columns={'ENLOC': 'ENLOC (RCP)', 'fastENLOC': 'fastENLOC (RCP)'})\n",
    "\n",
    "with sns.axes_style(\"white\"):\n",
    "    ax = sns.jointplot(data=df_plot_final, x='ENLOC (RCP)', y='fastENLOC (RCP)', kind='hex')\n",
    "    ax.ax_joint.plot([0.10, 1.0], [0.10, 1.0], 'gray', linewidth=0.75)\n",
    "    ax.fig.suptitle(f'{metadata.RAPID_GWAS_PHENO_INFO.loc[PHENOTYPE_SELECTED, \"description\"]}\\nAll tissues')\n",
    "    \n",
    "    fig_path = os.path.join(figures_path, 'sup_fig3b.png')\n",
    "    plt.savefig(fig_path, dpi=150, bbox_inches='tight')"
   ]
  },
  {
   "cell_type": "markdown",
   "metadata": {},
   "source": [
    "## Ezcema: 6152_9"
   ]
  },
  {
   "cell_type": "code",
   "execution_count": 63,
   "metadata": {},
   "outputs": [],
   "source": [
    "PHENOTYPE_SELECTED = '6152_9'"
   ]
  },
  {
   "cell_type": "code",
   "execution_count": 64,
   "metadata": {},
   "outputs": [],
   "source": [
    "fe_all = read_fe_all_tissues(PHENOTYPE_SELECTED)"
   ]
  },
  {
   "cell_type": "code",
   "execution_count": 65,
   "metadata": {},
   "outputs": [
    {
     "data": {
      "text/plain": [
       "(37360, 47)"
      ]
     },
     "execution_count": 65,
     "metadata": {},
     "output_type": "execute_result"
    }
   ],
   "source": [
    "fe_all.shape"
   ]
  },
  {
   "cell_type": "code",
   "execution_count": 66,
   "metadata": {},
   "outputs": [
    {
     "data": {
      "text/html": [
       "<div>\n",
       "<style scoped>\n",
       "    .dataframe tbody tr th:only-of-type {\n",
       "        vertical-align: middle;\n",
       "    }\n",
       "\n",
       "    .dataframe tbody tr th {\n",
       "        vertical-align: top;\n",
       "    }\n",
       "\n",
       "    .dataframe thead th {\n",
       "        text-align: right;\n",
       "    }\n",
       "</style>\n",
       "<table border=\"1\" class=\"dataframe\">\n",
       "  <thead>\n",
       "    <tr style=\"text-align: right;\">\n",
       "      <th></th>\n",
       "      <th>Artery_Aorta</th>\n",
       "      <th>Heart_Atrial_Appendage</th>\n",
       "      <th>Pituitary</th>\n",
       "      <th>Testis</th>\n",
       "      <th>Muscle_Skeletal</th>\n",
       "      <th>Uterus</th>\n",
       "      <th>Colon_Transverse</th>\n",
       "      <th>Stomach</th>\n",
       "      <th>Artery_Coronary</th>\n",
       "      <th>Whole_Blood</th>\n",
       "      <th>...</th>\n",
       "      <th>Adipose_Subcutaneous</th>\n",
       "      <th>Brain_Cerebellum</th>\n",
       "      <th>Vagina</th>\n",
       "      <th>Brain_Nucleus_accumbens_basal_ganglia</th>\n",
       "      <th>Brain_Cortex</th>\n",
       "      <th>Spleen</th>\n",
       "      <th>Cells_EBV-transformed_lymphocytes</th>\n",
       "      <th>Prostate</th>\n",
       "      <th>Nerve_Tibial</th>\n",
       "      <th>Thyroid</th>\n",
       "    </tr>\n",
       "  </thead>\n",
       "  <tbody>\n",
       "    <tr>\n",
       "      <th>ENSG00000000419</th>\n",
       "      <td>1.961000e-15</td>\n",
       "      <td>4.144000e-15</td>\n",
       "      <td>2.226500e-14</td>\n",
       "      <td>9.369000e-15</td>\n",
       "      <td>2.437400e-14</td>\n",
       "      <td>1.372047e-13</td>\n",
       "      <td>6.794000e-15</td>\n",
       "      <td>5.626000e-15</td>\n",
       "      <td>9.596000e-15</td>\n",
       "      <td>9.731000e-15</td>\n",
       "      <td>...</td>\n",
       "      <td>6.321000e-14</td>\n",
       "      <td>1.616160e-13</td>\n",
       "      <td>7.393000e-15</td>\n",
       "      <td>1.506000e-14</td>\n",
       "      <td>1.837200e-14</td>\n",
       "      <td>1.888900e-14</td>\n",
       "      <td>2.666400e-14</td>\n",
       "      <td>4.770000e-15</td>\n",
       "      <td>4.929500e-14</td>\n",
       "      <td>2.318400e-14</td>\n",
       "    </tr>\n",
       "    <tr>\n",
       "      <th>ENSG00000000457</th>\n",
       "      <td>1.153140e-03</td>\n",
       "      <td>3.233000e-04</td>\n",
       "      <td>2.324800e-03</td>\n",
       "      <td>1.024291e-03</td>\n",
       "      <td>4.591450e-03</td>\n",
       "      <td>3.397480e-03</td>\n",
       "      <td>3.287700e-03</td>\n",
       "      <td>1.481400e-03</td>\n",
       "      <td>6.391000e-04</td>\n",
       "      <td>3.463220e-03</td>\n",
       "      <td>...</td>\n",
       "      <td>5.710100e-03</td>\n",
       "      <td>6.690430e-03</td>\n",
       "      <td>2.781000e-04</td>\n",
       "      <td>1.801770e-03</td>\n",
       "      <td>2.404130e-03</td>\n",
       "      <td>2.226440e-03</td>\n",
       "      <td>2.990100e-03</td>\n",
       "      <td>5.715400e-04</td>\n",
       "      <td>3.821500e-03</td>\n",
       "      <td>3.174030e-03</td>\n",
       "    </tr>\n",
       "    <tr>\n",
       "      <th>ENSG00000000460</th>\n",
       "      <td>1.339521e-02</td>\n",
       "      <td>3.663120e-03</td>\n",
       "      <td>5.909800e-03</td>\n",
       "      <td>9.540600e-04</td>\n",
       "      <td>1.220359e-02</td>\n",
       "      <td>1.476800e-04</td>\n",
       "      <td>2.042986e-02</td>\n",
       "      <td>1.204400e-04</td>\n",
       "      <td>1.363000e-04</td>\n",
       "      <td>4.282822e-03</td>\n",
       "      <td>...</td>\n",
       "      <td>2.813720e-03</td>\n",
       "      <td>8.284402e-03</td>\n",
       "      <td>2.017920e-03</td>\n",
       "      <td>6.321800e-04</td>\n",
       "      <td>1.175800e-03</td>\n",
       "      <td>7.737000e-05</td>\n",
       "      <td>1.556500e-04</td>\n",
       "      <td>1.993822e-02</td>\n",
       "      <td>4.973043e-03</td>\n",
       "      <td>7.045720e-03</td>\n",
       "    </tr>\n",
       "    <tr>\n",
       "      <th>ENSG00000000938</th>\n",
       "      <td>3.619700e-04</td>\n",
       "      <td>8.675000e-05</td>\n",
       "      <td>7.524000e-05</td>\n",
       "      <td>1.429586e-03</td>\n",
       "      <td>1.075830e-03</td>\n",
       "      <td>6.548000e-05</td>\n",
       "      <td>4.851000e-04</td>\n",
       "      <td>4.448100e-04</td>\n",
       "      <td>3.628000e-05</td>\n",
       "      <td>2.793840e-04</td>\n",
       "      <td>...</td>\n",
       "      <td>1.140860e-03</td>\n",
       "      <td>8.652000e-05</td>\n",
       "      <td>3.091500e-05</td>\n",
       "      <td>2.885100e-05</td>\n",
       "      <td>3.816000e-05</td>\n",
       "      <td>1.182200e-04</td>\n",
       "      <td>1.487000e-04</td>\n",
       "      <td>2.399700e-05</td>\n",
       "      <td>7.333000e-04</td>\n",
       "      <td>8.410000e-04</td>\n",
       "    </tr>\n",
       "    <tr>\n",
       "      <th>ENSG00000000971</th>\n",
       "      <td>7.671980e-04</td>\n",
       "      <td>8.611149e-04</td>\n",
       "      <td>1.767006e-03</td>\n",
       "      <td>3.184550e-04</td>\n",
       "      <td>9.333400e-04</td>\n",
       "      <td>3.674000e-06</td>\n",
       "      <td>5.811000e-06</td>\n",
       "      <td>2.986700e-05</td>\n",
       "      <td>1.058488e-03</td>\n",
       "      <td>5.628000e-05</td>\n",
       "      <td>...</td>\n",
       "      <td>8.285000e-04</td>\n",
       "      <td>8.091960e-03</td>\n",
       "      <td>1.634000e-06</td>\n",
       "      <td>1.927000e-06</td>\n",
       "      <td>1.331880e-02</td>\n",
       "      <td>1.543221e-03</td>\n",
       "      <td>5.500000e-06</td>\n",
       "      <td>1.322000e-06</td>\n",
       "      <td>9.910700e-04</td>\n",
       "      <td>4.058235e-03</td>\n",
       "    </tr>\n",
       "  </tbody>\n",
       "</table>\n",
       "<p>5 rows × 47 columns</p>\n",
       "</div>"
      ],
      "text/plain": [
       "                 Artery_Aorta  Heart_Atrial_Appendage     Pituitary  \\\n",
       "ENSG00000000419  1.961000e-15            4.144000e-15  2.226500e-14   \n",
       "ENSG00000000457  1.153140e-03            3.233000e-04  2.324800e-03   \n",
       "ENSG00000000460  1.339521e-02            3.663120e-03  5.909800e-03   \n",
       "ENSG00000000938  3.619700e-04            8.675000e-05  7.524000e-05   \n",
       "ENSG00000000971  7.671980e-04            8.611149e-04  1.767006e-03   \n",
       "\n",
       "                       Testis  Muscle_Skeletal        Uterus  \\\n",
       "ENSG00000000419  9.369000e-15     2.437400e-14  1.372047e-13   \n",
       "ENSG00000000457  1.024291e-03     4.591450e-03  3.397480e-03   \n",
       "ENSG00000000460  9.540600e-04     1.220359e-02  1.476800e-04   \n",
       "ENSG00000000938  1.429586e-03     1.075830e-03  6.548000e-05   \n",
       "ENSG00000000971  3.184550e-04     9.333400e-04  3.674000e-06   \n",
       "\n",
       "                 Colon_Transverse       Stomach  Artery_Coronary  \\\n",
       "ENSG00000000419      6.794000e-15  5.626000e-15     9.596000e-15   \n",
       "ENSG00000000457      3.287700e-03  1.481400e-03     6.391000e-04   \n",
       "ENSG00000000460      2.042986e-02  1.204400e-04     1.363000e-04   \n",
       "ENSG00000000938      4.851000e-04  4.448100e-04     3.628000e-05   \n",
       "ENSG00000000971      5.811000e-06  2.986700e-05     1.058488e-03   \n",
       "\n",
       "                  Whole_Blood  ...  Adipose_Subcutaneous  Brain_Cerebellum  \\\n",
       "ENSG00000000419  9.731000e-15  ...          6.321000e-14      1.616160e-13   \n",
       "ENSG00000000457  3.463220e-03  ...          5.710100e-03      6.690430e-03   \n",
       "ENSG00000000460  4.282822e-03  ...          2.813720e-03      8.284402e-03   \n",
       "ENSG00000000938  2.793840e-04  ...          1.140860e-03      8.652000e-05   \n",
       "ENSG00000000971  5.628000e-05  ...          8.285000e-04      8.091960e-03   \n",
       "\n",
       "                       Vagina  Brain_Nucleus_accumbens_basal_ganglia  \\\n",
       "ENSG00000000419  7.393000e-15                           1.506000e-14   \n",
       "ENSG00000000457  2.781000e-04                           1.801770e-03   \n",
       "ENSG00000000460  2.017920e-03                           6.321800e-04   \n",
       "ENSG00000000938  3.091500e-05                           2.885100e-05   \n",
       "ENSG00000000971  1.634000e-06                           1.927000e-06   \n",
       "\n",
       "                 Brain_Cortex        Spleen  \\\n",
       "ENSG00000000419  1.837200e-14  1.888900e-14   \n",
       "ENSG00000000457  2.404130e-03  2.226440e-03   \n",
       "ENSG00000000460  1.175800e-03  7.737000e-05   \n",
       "ENSG00000000938  3.816000e-05  1.182200e-04   \n",
       "ENSG00000000971  1.331880e-02  1.543221e-03   \n",
       "\n",
       "                 Cells_EBV-transformed_lymphocytes      Prostate  \\\n",
       "ENSG00000000419                       2.666400e-14  4.770000e-15   \n",
       "ENSG00000000457                       2.990100e-03  5.715400e-04   \n",
       "ENSG00000000460                       1.556500e-04  1.993822e-02   \n",
       "ENSG00000000938                       1.487000e-04  2.399700e-05   \n",
       "ENSG00000000971                       5.500000e-06  1.322000e-06   \n",
       "\n",
       "                 Nerve_Tibial       Thyroid  \n",
       "ENSG00000000419  4.929500e-14  2.318400e-14  \n",
       "ENSG00000000457  3.821500e-03  3.174030e-03  \n",
       "ENSG00000000460  4.973043e-03  7.045720e-03  \n",
       "ENSG00000000938  7.333000e-04  8.410000e-04  \n",
       "ENSG00000000971  9.910700e-04  4.058235e-03  \n",
       "\n",
       "[5 rows x 47 columns]"
      ]
     },
     "execution_count": 66,
     "metadata": {},
     "output_type": "execute_result"
    }
   ],
   "source": [
    "fe_all.head()"
   ]
  },
  {
   "cell_type": "code",
   "execution_count": 67,
   "metadata": {},
   "outputs": [],
   "source": [
    "enloc_all = read_enloc_all_tissues(PHENO_MAPPINGS[PHENOTYPE_SELECTED])"
   ]
  },
  {
   "cell_type": "code",
   "execution_count": 68,
   "metadata": {},
   "outputs": [
    {
     "data": {
      "text/plain": [
       "(8552, 47)"
      ]
     },
     "execution_count": 68,
     "metadata": {},
     "output_type": "execute_result"
    }
   ],
   "source": [
    "enloc_all.shape"
   ]
  },
  {
   "cell_type": "code",
   "execution_count": 69,
   "metadata": {},
   "outputs": [
    {
     "data": {
      "text/html": [
       "<div>\n",
       "<style scoped>\n",
       "    .dataframe tbody tr th:only-of-type {\n",
       "        vertical-align: middle;\n",
       "    }\n",
       "\n",
       "    .dataframe tbody tr th {\n",
       "        vertical-align: top;\n",
       "    }\n",
       "\n",
       "    .dataframe thead th {\n",
       "        text-align: right;\n",
       "    }\n",
       "</style>\n",
       "<table border=\"1\" class=\"dataframe\">\n",
       "  <thead>\n",
       "    <tr style=\"text-align: right;\">\n",
       "      <th></th>\n",
       "      <th>Artery_Aorta</th>\n",
       "      <th>Heart_Atrial_Appendage</th>\n",
       "      <th>Pituitary</th>\n",
       "      <th>Testis</th>\n",
       "      <th>Muscle_Skeletal</th>\n",
       "      <th>Uterus</th>\n",
       "      <th>Colon_Transverse</th>\n",
       "      <th>Stomach</th>\n",
       "      <th>Artery_Coronary</th>\n",
       "      <th>Whole_Blood</th>\n",
       "      <th>...</th>\n",
       "      <th>Adipose_Subcutaneous</th>\n",
       "      <th>Brain_Cerebellum</th>\n",
       "      <th>Vagina</th>\n",
       "      <th>Brain_Nucleus_accumbens_basal_ganglia</th>\n",
       "      <th>Brain_Cortex</th>\n",
       "      <th>Spleen</th>\n",
       "      <th>Cells_EBV-transformed_lymphocytes</th>\n",
       "      <th>Prostate</th>\n",
       "      <th>Nerve_Tibial</th>\n",
       "      <th>Thyroid</th>\n",
       "    </tr>\n",
       "  </thead>\n",
       "  <tbody>\n",
       "    <tr>\n",
       "      <th>ENSG00000000419</th>\n",
       "      <td>0.00</td>\n",
       "      <td>0.000</td>\n",
       "      <td>0.000</td>\n",
       "      <td>0.000</td>\n",
       "      <td>0.000</td>\n",
       "      <td>0.000</td>\n",
       "      <td>0.000</td>\n",
       "      <td>0.000</td>\n",
       "      <td>0.000</td>\n",
       "      <td>0.000</td>\n",
       "      <td>...</td>\n",
       "      <td>0.000</td>\n",
       "      <td>0.000</td>\n",
       "      <td>0.0</td>\n",
       "      <td>0.0</td>\n",
       "      <td>0.000</td>\n",
       "      <td>0.000</td>\n",
       "      <td>0.000</td>\n",
       "      <td>0.0</td>\n",
       "      <td>0.000</td>\n",
       "      <td>0.000</td>\n",
       "    </tr>\n",
       "    <tr>\n",
       "      <th>ENSG00000000457</th>\n",
       "      <td>0.00</td>\n",
       "      <td>0.000</td>\n",
       "      <td>NaN</td>\n",
       "      <td>NaN</td>\n",
       "      <td>NaN</td>\n",
       "      <td>0.000</td>\n",
       "      <td>NaN</td>\n",
       "      <td>0.000</td>\n",
       "      <td>0.000</td>\n",
       "      <td>NaN</td>\n",
       "      <td>...</td>\n",
       "      <td>NaN</td>\n",
       "      <td>NaN</td>\n",
       "      <td>0.0</td>\n",
       "      <td>NaN</td>\n",
       "      <td>NaN</td>\n",
       "      <td>NaN</td>\n",
       "      <td>NaN</td>\n",
       "      <td>NaN</td>\n",
       "      <td>NaN</td>\n",
       "      <td>NaN</td>\n",
       "    </tr>\n",
       "    <tr>\n",
       "      <th>ENSG00000000460</th>\n",
       "      <td>NaN</td>\n",
       "      <td>NaN</td>\n",
       "      <td>NaN</td>\n",
       "      <td>NaN</td>\n",
       "      <td>NaN</td>\n",
       "      <td>0.000</td>\n",
       "      <td>NaN</td>\n",
       "      <td>NaN</td>\n",
       "      <td>0.000</td>\n",
       "      <td>NaN</td>\n",
       "      <td>...</td>\n",
       "      <td>NaN</td>\n",
       "      <td>NaN</td>\n",
       "      <td>NaN</td>\n",
       "      <td>0.0</td>\n",
       "      <td>NaN</td>\n",
       "      <td>0.000</td>\n",
       "      <td>NaN</td>\n",
       "      <td>NaN</td>\n",
       "      <td>NaN</td>\n",
       "      <td>NaN</td>\n",
       "    </tr>\n",
       "    <tr>\n",
       "      <th>ENSG00000000938</th>\n",
       "      <td>0.00</td>\n",
       "      <td>0.000</td>\n",
       "      <td>0.000</td>\n",
       "      <td>0.000</td>\n",
       "      <td>0.000</td>\n",
       "      <td>0.000</td>\n",
       "      <td>0.000</td>\n",
       "      <td>0.000</td>\n",
       "      <td>0.000</td>\n",
       "      <td>0.000</td>\n",
       "      <td>...</td>\n",
       "      <td>0.000</td>\n",
       "      <td>0.000</td>\n",
       "      <td>0.0</td>\n",
       "      <td>0.0</td>\n",
       "      <td>0.000</td>\n",
       "      <td>0.000</td>\n",
       "      <td>0.000</td>\n",
       "      <td>0.0</td>\n",
       "      <td>0.000</td>\n",
       "      <td>0.000</td>\n",
       "    </tr>\n",
       "    <tr>\n",
       "      <th>ENSG00000000971</th>\n",
       "      <td>0.03</td>\n",
       "      <td>0.018</td>\n",
       "      <td>0.001</td>\n",
       "      <td>0.002</td>\n",
       "      <td>0.003</td>\n",
       "      <td>0.001</td>\n",
       "      <td>0.002</td>\n",
       "      <td>0.001</td>\n",
       "      <td>0.008</td>\n",
       "      <td>0.001</td>\n",
       "      <td>...</td>\n",
       "      <td>0.071</td>\n",
       "      <td>0.027</td>\n",
       "      <td>0.0</td>\n",
       "      <td>0.0</td>\n",
       "      <td>0.022</td>\n",
       "      <td>0.003</td>\n",
       "      <td>0.002</td>\n",
       "      <td>0.0</td>\n",
       "      <td>0.004</td>\n",
       "      <td>0.008</td>\n",
       "    </tr>\n",
       "  </tbody>\n",
       "</table>\n",
       "<p>5 rows × 47 columns</p>\n",
       "</div>"
      ],
      "text/plain": [
       "                 Artery_Aorta  Heart_Atrial_Appendage  Pituitary  Testis  \\\n",
       "ENSG00000000419          0.00                   0.000      0.000   0.000   \n",
       "ENSG00000000457          0.00                   0.000        NaN     NaN   \n",
       "ENSG00000000460           NaN                     NaN        NaN     NaN   \n",
       "ENSG00000000938          0.00                   0.000      0.000   0.000   \n",
       "ENSG00000000971          0.03                   0.018      0.001   0.002   \n",
       "\n",
       "                 Muscle_Skeletal  Uterus  Colon_Transverse  Stomach  \\\n",
       "ENSG00000000419            0.000   0.000             0.000    0.000   \n",
       "ENSG00000000457              NaN   0.000               NaN    0.000   \n",
       "ENSG00000000460              NaN   0.000               NaN      NaN   \n",
       "ENSG00000000938            0.000   0.000             0.000    0.000   \n",
       "ENSG00000000971            0.003   0.001             0.002    0.001   \n",
       "\n",
       "                 Artery_Coronary  Whole_Blood  ...  Adipose_Subcutaneous  \\\n",
       "ENSG00000000419            0.000        0.000  ...                 0.000   \n",
       "ENSG00000000457            0.000          NaN  ...                   NaN   \n",
       "ENSG00000000460            0.000          NaN  ...                   NaN   \n",
       "ENSG00000000938            0.000        0.000  ...                 0.000   \n",
       "ENSG00000000971            0.008        0.001  ...                 0.071   \n",
       "\n",
       "                 Brain_Cerebellum  Vagina  \\\n",
       "ENSG00000000419             0.000     0.0   \n",
       "ENSG00000000457               NaN     0.0   \n",
       "ENSG00000000460               NaN     NaN   \n",
       "ENSG00000000938             0.000     0.0   \n",
       "ENSG00000000971             0.027     0.0   \n",
       "\n",
       "                 Brain_Nucleus_accumbens_basal_ganglia  Brain_Cortex  Spleen  \\\n",
       "ENSG00000000419                                    0.0         0.000   0.000   \n",
       "ENSG00000000457                                    NaN           NaN     NaN   \n",
       "ENSG00000000460                                    0.0           NaN   0.000   \n",
       "ENSG00000000938                                    0.0         0.000   0.000   \n",
       "ENSG00000000971                                    0.0         0.022   0.003   \n",
       "\n",
       "                 Cells_EBV-transformed_lymphocytes  Prostate  Nerve_Tibial  \\\n",
       "ENSG00000000419                              0.000       0.0         0.000   \n",
       "ENSG00000000457                                NaN       NaN           NaN   \n",
       "ENSG00000000460                                NaN       NaN           NaN   \n",
       "ENSG00000000938                              0.000       0.0         0.000   \n",
       "ENSG00000000971                              0.002       0.0         0.004   \n",
       "\n",
       "                 Thyroid  \n",
       "ENSG00000000419    0.000  \n",
       "ENSG00000000457      NaN  \n",
       "ENSG00000000460      NaN  \n",
       "ENSG00000000938    0.000  \n",
       "ENSG00000000971    0.008  \n",
       "\n",
       "[5 rows x 47 columns]"
      ]
     },
     "execution_count": 69,
     "metadata": {},
     "output_type": "execute_result"
    }
   ],
   "source": [
    "enloc_all.head()"
   ]
  },
  {
   "cell_type": "code",
   "execution_count": 70,
   "metadata": {},
   "outputs": [],
   "source": [
    "df = create_df_plot(fe_all, enloc_all)"
   ]
  },
  {
   "cell_type": "code",
   "execution_count": 71,
   "metadata": {},
   "outputs": [
    {
     "data": {
      "text/plain": [
       "(261362, 2)"
      ]
     },
     "execution_count": 71,
     "metadata": {},
     "output_type": "execute_result"
    }
   ],
   "source": [
    "df.shape"
   ]
  },
  {
   "cell_type": "code",
   "execution_count": 72,
   "metadata": {},
   "outputs": [
    {
     "data": {
      "text/html": [
       "<div>\n",
       "<style scoped>\n",
       "    .dataframe tbody tr th:only-of-type {\n",
       "        vertical-align: middle;\n",
       "    }\n",
       "\n",
       "    .dataframe tbody tr th {\n",
       "        vertical-align: top;\n",
       "    }\n",
       "\n",
       "    .dataframe thead th {\n",
       "        text-align: right;\n",
       "    }\n",
       "</style>\n",
       "<table border=\"1\" class=\"dataframe\">\n",
       "  <thead>\n",
       "    <tr style=\"text-align: right;\">\n",
       "      <th></th>\n",
       "      <th></th>\n",
       "      <th>ENLOC</th>\n",
       "      <th>fastENLOC</th>\n",
       "    </tr>\n",
       "  </thead>\n",
       "  <tbody>\n",
       "    <tr>\n",
       "      <th>Brain_Substantia_nigra</th>\n",
       "      <th>ENSG00000183773</th>\n",
       "      <td>0.0</td>\n",
       "      <td>1.887100e-08</td>\n",
       "    </tr>\n",
       "    <tr>\n",
       "      <th>Cells_EBV-transformed_lymphocytes</th>\n",
       "      <th>ENSG00000105669</th>\n",
       "      <td>0.0</td>\n",
       "      <td>9.773000e-05</td>\n",
       "    </tr>\n",
       "    <tr>\n",
       "      <th>Minor_Salivary_Gland</th>\n",
       "      <th>ENSG00000213719</th>\n",
       "      <td>0.0</td>\n",
       "      <td>9.449099e-29</td>\n",
       "    </tr>\n",
       "    <tr>\n",
       "      <th>Artery_Coronary</th>\n",
       "      <th>ENSG00000148082</th>\n",
       "      <td>0.0</td>\n",
       "      <td>4.714000e-05</td>\n",
       "    </tr>\n",
       "    <tr>\n",
       "      <th>Brain_Spinal_cord_cervical_c-1</th>\n",
       "      <th>ENSG00000239642</th>\n",
       "      <td>0.0</td>\n",
       "      <td>2.115500e-09</td>\n",
       "    </tr>\n",
       "  </tbody>\n",
       "</table>\n",
       "</div>"
      ],
      "text/plain": [
       "                                                   ENLOC     fastENLOC\n",
       "Brain_Substantia_nigra            ENSG00000183773    0.0  1.887100e-08\n",
       "Cells_EBV-transformed_lymphocytes ENSG00000105669    0.0  9.773000e-05\n",
       "Minor_Salivary_Gland              ENSG00000213719    0.0  9.449099e-29\n",
       "Artery_Coronary                   ENSG00000148082    0.0  4.714000e-05\n",
       "Brain_Spinal_cord_cervical_c-1    ENSG00000239642    0.0  2.115500e-09"
      ]
     },
     "execution_count": 72,
     "metadata": {},
     "output_type": "execute_result"
    }
   ],
   "source": [
    "df.head()"
   ]
  },
  {
   "cell_type": "code",
   "execution_count": 73,
   "metadata": {},
   "outputs": [],
   "source": [
    "df_plot = df[(df['ENLOC'] > 0.1) & (df['fastENLOC'] > 0.1)]"
   ]
  },
  {
   "cell_type": "code",
   "execution_count": 74,
   "metadata": {},
   "outputs": [
    {
     "data": {
      "text/plain": [
       "(0.6233660310122904, 1.4124378242871114e-153)"
      ]
     },
     "execution_count": 74,
     "metadata": {},
     "output_type": "execute_result"
    }
   ],
   "source": [
    "stats.pearsonr(df_plot['ENLOC'].values, df_plot['fastENLOC'].values)"
   ]
  },
  {
   "cell_type": "code",
   "execution_count": 75,
   "metadata": {},
   "outputs": [
    {
     "data": {
      "text/plain": [
       "SpearmanrResult(correlation=0.5578478419640255, pvalue=7.422682142383947e-117)"
      ]
     },
     "execution_count": 75,
     "metadata": {},
     "output_type": "execute_result"
    }
   ],
   "source": [
    "stats.spearmanr(df_plot['ENLOC'].values, df_plot['fastENLOC'].values)"
   ]
  },
  {
   "cell_type": "code",
   "execution_count": 76,
   "metadata": {},
   "outputs": [],
   "source": [
    "# final refining\n",
    "df_plot = df_plot[df_plot['fastENLOC'] <= 1.05]"
   ]
  },
  {
   "cell_type": "code",
   "execution_count": 77,
   "metadata": {},
   "outputs": [
    {
     "data": {
      "image/png": "[encoded data removed]",
      "text/plain": [
       "<Figure size 432x432 with 3 Axes>"
      ]
     },
     "metadata": {},
     "output_type": "display_data"
    }
   ],
   "source": [
    "df_plot_final = df_plot.rename(columns={'ENLOC': 'ENLOC (RCP)', 'fastENLOC': 'fastENLOC (RCP)'})\n",
    "\n",
    "with sns.axes_style(\"white\"):\n",
    "    ax = sns.jointplot(data=df_plot_final, x='ENLOC (RCP)', y='fastENLOC (RCP)', kind='hex')\n",
    "    ax.ax_joint.plot([0.10, 1.0], [0.10, 1.0], 'gray', linewidth=0.75)\n",
    "    ax.fig.suptitle(f'Hayfever, allergic rhinitis or eczema\\nAll tissues')\n",
    "    \n",
    "    fig_path = os.path.join(figures_path, 'sup_fig3c.png')\n",
    "    plt.savefig(fig_path, dpi=150, bbox_inches='tight')"
   ]
  },
  {
   "cell_type": "markdown",
   "metadata": {},
   "source": [
    "## Fluid intelligence score: 20016"
   ]
  },
  {
   "cell_type": "code",
   "execution_count": 78,
   "metadata": {},
   "outputs": [],
   "source": [
    "PHENOTYPE_SELECTED = '20016_raw'"
   ]
  },
  {
   "cell_type": "code",
   "execution_count": 79,
   "metadata": {},
   "outputs": [],
   "source": [
    "fe_all = read_fe_all_tissues(PHENOTYPE_SELECTED)"
   ]
  },
  {
   "cell_type": "code",
   "execution_count": 80,
   "metadata": {},
   "outputs": [
    {
     "data": {
      "text/plain": [
       "(37360, 47)"
      ]
     },
     "execution_count": 80,
     "metadata": {},
     "output_type": "execute_result"
    }
   ],
   "source": [
    "fe_all.shape"
   ]
  },
  {
   "cell_type": "code",
   "execution_count": 81,
   "metadata": {},
   "outputs": [
    {
     "data": {
      "text/html": [
       "<div>\n",
       "<style scoped>\n",
       "    .dataframe tbody tr th:only-of-type {\n",
       "        vertical-align: middle;\n",
       "    }\n",
       "\n",
       "    .dataframe tbody tr th {\n",
       "        vertical-align: top;\n",
       "    }\n",
       "\n",
       "    .dataframe thead th {\n",
       "        text-align: right;\n",
       "    }\n",
       "</style>\n",
       "<table border=\"1\" class=\"dataframe\">\n",
       "  <thead>\n",
       "    <tr style=\"text-align: right;\">\n",
       "      <th></th>\n",
       "      <th>Artery_Aorta</th>\n",
       "      <th>Heart_Atrial_Appendage</th>\n",
       "      <th>Pituitary</th>\n",
       "      <th>Testis</th>\n",
       "      <th>Muscle_Skeletal</th>\n",
       "      <th>Uterus</th>\n",
       "      <th>Colon_Transverse</th>\n",
       "      <th>Stomach</th>\n",
       "      <th>Artery_Coronary</th>\n",
       "      <th>Whole_Blood</th>\n",
       "      <th>...</th>\n",
       "      <th>Adipose_Subcutaneous</th>\n",
       "      <th>Brain_Cerebellum</th>\n",
       "      <th>Vagina</th>\n",
       "      <th>Brain_Nucleus_accumbens_basal_ganglia</th>\n",
       "      <th>Brain_Cortex</th>\n",
       "      <th>Spleen</th>\n",
       "      <th>Cells_EBV-transformed_lymphocytes</th>\n",
       "      <th>Prostate</th>\n",
       "      <th>Nerve_Tibial</th>\n",
       "      <th>Thyroid</th>\n",
       "    </tr>\n",
       "  </thead>\n",
       "  <tbody>\n",
       "    <tr>\n",
       "      <th>ENSG00000000419</th>\n",
       "      <td>0.000011</td>\n",
       "      <td>0.000072</td>\n",
       "      <td>0.000181</td>\n",
       "      <td>0.000261</td>\n",
       "      <td>0.000209</td>\n",
       "      <td>0.001504</td>\n",
       "      <td>0.000072</td>\n",
       "      <td>0.000070</td>\n",
       "      <td>0.000127</td>\n",
       "      <td>0.000069</td>\n",
       "      <td>...</td>\n",
       "      <td>0.000297</td>\n",
       "      <td>0.002593</td>\n",
       "      <td>0.000164</td>\n",
       "      <td>0.000197</td>\n",
       "      <td>0.000141</td>\n",
       "      <td>0.000266</td>\n",
       "      <td>0.000147</td>\n",
       "      <td>0.000050</td>\n",
       "      <td>0.000708</td>\n",
       "      <td>0.000177</td>\n",
       "    </tr>\n",
       "    <tr>\n",
       "      <th>ENSG00000000457</th>\n",
       "      <td>0.001925</td>\n",
       "      <td>0.000350</td>\n",
       "      <td>0.003130</td>\n",
       "      <td>0.002261</td>\n",
       "      <td>0.005698</td>\n",
       "      <td>0.000391</td>\n",
       "      <td>0.004554</td>\n",
       "      <td>0.000933</td>\n",
       "      <td>0.000782</td>\n",
       "      <td>0.003171</td>\n",
       "      <td>...</td>\n",
       "      <td>0.005395</td>\n",
       "      <td>0.010985</td>\n",
       "      <td>0.000502</td>\n",
       "      <td>0.002980</td>\n",
       "      <td>0.002767</td>\n",
       "      <td>0.002590</td>\n",
       "      <td>0.002936</td>\n",
       "      <td>0.000942</td>\n",
       "      <td>0.005322</td>\n",
       "      <td>0.003608</td>\n",
       "    </tr>\n",
       "    <tr>\n",
       "      <th>ENSG00000000460</th>\n",
       "      <td>0.008457</td>\n",
       "      <td>0.003674</td>\n",
       "      <td>0.005893</td>\n",
       "      <td>0.002691</td>\n",
       "      <td>0.008233</td>\n",
       "      <td>0.000736</td>\n",
       "      <td>0.004771</td>\n",
       "      <td>0.000250</td>\n",
       "      <td>0.000293</td>\n",
       "      <td>0.005964</td>\n",
       "      <td>...</td>\n",
       "      <td>0.002246</td>\n",
       "      <td>0.014797</td>\n",
       "      <td>0.001468</td>\n",
       "      <td>0.002126</td>\n",
       "      <td>0.002414</td>\n",
       "      <td>0.000172</td>\n",
       "      <td>0.000317</td>\n",
       "      <td>0.008568</td>\n",
       "      <td>0.006590</td>\n",
       "      <td>0.006567</td>\n",
       "    </tr>\n",
       "    <tr>\n",
       "      <th>ENSG00000000938</th>\n",
       "      <td>0.000302</td>\n",
       "      <td>0.000022</td>\n",
       "      <td>0.000019</td>\n",
       "      <td>0.000749</td>\n",
       "      <td>0.000651</td>\n",
       "      <td>0.000021</td>\n",
       "      <td>0.000584</td>\n",
       "      <td>0.000288</td>\n",
       "      <td>0.000011</td>\n",
       "      <td>0.000066</td>\n",
       "      <td>...</td>\n",
       "      <td>0.000535</td>\n",
       "      <td>0.000092</td>\n",
       "      <td>0.000016</td>\n",
       "      <td>0.000021</td>\n",
       "      <td>0.000017</td>\n",
       "      <td>0.000046</td>\n",
       "      <td>0.000092</td>\n",
       "      <td>0.000027</td>\n",
       "      <td>0.000583</td>\n",
       "      <td>0.000567</td>\n",
       "    </tr>\n",
       "    <tr>\n",
       "      <th>ENSG00000000971</th>\n",
       "      <td>0.004514</td>\n",
       "      <td>0.005657</td>\n",
       "      <td>0.001660</td>\n",
       "      <td>0.003654</td>\n",
       "      <td>0.000451</td>\n",
       "      <td>0.000110</td>\n",
       "      <td>0.000397</td>\n",
       "      <td>0.001403</td>\n",
       "      <td>0.005085</td>\n",
       "      <td>0.000778</td>\n",
       "      <td>...</td>\n",
       "      <td>0.002402</td>\n",
       "      <td>0.008849</td>\n",
       "      <td>0.000082</td>\n",
       "      <td>0.000059</td>\n",
       "      <td>0.006724</td>\n",
       "      <td>0.000639</td>\n",
       "      <td>0.000168</td>\n",
       "      <td>0.000037</td>\n",
       "      <td>0.021309</td>\n",
       "      <td>0.005029</td>\n",
       "    </tr>\n",
       "  </tbody>\n",
       "</table>\n",
       "<p>5 rows × 47 columns</p>\n",
       "</div>"
      ],
      "text/plain": [
       "                 Artery_Aorta  Heart_Atrial_Appendage  Pituitary    Testis  \\\n",
       "ENSG00000000419      0.000011                0.000072   0.000181  0.000261   \n",
       "ENSG00000000457      0.001925                0.000350   0.003130  0.002261   \n",
       "ENSG00000000460      0.008457                0.003674   0.005893  0.002691   \n",
       "ENSG00000000938      0.000302                0.000022   0.000019  0.000749   \n",
       "ENSG00000000971      0.004514                0.005657   0.001660  0.003654   \n",
       "\n",
       "                 Muscle_Skeletal    Uterus  Colon_Transverse   Stomach  \\\n",
       "ENSG00000000419         0.000209  0.001504          0.000072  0.000070   \n",
       "ENSG00000000457         0.005698  0.000391          0.004554  0.000933   \n",
       "ENSG00000000460         0.008233  0.000736          0.004771  0.000250   \n",
       "ENSG00000000938         0.000651  0.000021          0.000584  0.000288   \n",
       "ENSG00000000971         0.000451  0.000110          0.000397  0.001403   \n",
       "\n",
       "                 Artery_Coronary  Whole_Blood  ...  Adipose_Subcutaneous  \\\n",
       "ENSG00000000419         0.000127     0.000069  ...              0.000297   \n",
       "ENSG00000000457         0.000782     0.003171  ...              0.005395   \n",
       "ENSG00000000460         0.000293     0.005964  ...              0.002246   \n",
       "ENSG00000000938         0.000011     0.000066  ...              0.000535   \n",
       "ENSG00000000971         0.005085     0.000778  ...              0.002402   \n",
       "\n",
       "                 Brain_Cerebellum    Vagina  \\\n",
       "ENSG00000000419          0.002593  0.000164   \n",
       "ENSG00000000457          0.010985  0.000502   \n",
       "ENSG00000000460          0.014797  0.001468   \n",
       "ENSG00000000938          0.000092  0.000016   \n",
       "ENSG00000000971          0.008849  0.000082   \n",
       "\n",
       "                 Brain_Nucleus_accumbens_basal_ganglia  Brain_Cortex  \\\n",
       "ENSG00000000419                               0.000197      0.000141   \n",
       "ENSG00000000457                               0.002980      0.002767   \n",
       "ENSG00000000460                               0.002126      0.002414   \n",
       "ENSG00000000938                               0.000021      0.000017   \n",
       "ENSG00000000971                               0.000059      0.006724   \n",
       "\n",
       "                   Spleen  Cells_EBV-transformed_lymphocytes  Prostate  \\\n",
       "ENSG00000000419  0.000266                           0.000147  0.000050   \n",
       "ENSG00000000457  0.002590                           0.002936  0.000942   \n",
       "ENSG00000000460  0.000172                           0.000317  0.008568   \n",
       "ENSG00000000938  0.000046                           0.000092  0.000027   \n",
       "ENSG00000000971  0.000639                           0.000168  0.000037   \n",
       "\n",
       "                 Nerve_Tibial   Thyroid  \n",
       "ENSG00000000419      0.000708  0.000177  \n",
       "ENSG00000000457      0.005322  0.003608  \n",
       "ENSG00000000460      0.006590  0.006567  \n",
       "ENSG00000000938      0.000583  0.000567  \n",
       "ENSG00000000971      0.021309  0.005029  \n",
       "\n",
       "[5 rows x 47 columns]"
      ]
     },
     "execution_count": 81,
     "metadata": {},
     "output_type": "execute_result"
    }
   ],
   "source": [
    "fe_all.head()"
   ]
  },
  {
   "cell_type": "code",
   "execution_count": 82,
   "metadata": {},
   "outputs": [],
   "source": [
    "enloc_all = read_enloc_all_tissues(PHENO_MAPPINGS[PHENOTYPE_SELECTED])"
   ]
  },
  {
   "cell_type": "code",
   "execution_count": 83,
   "metadata": {},
   "outputs": [
    {
     "data": {
      "text/plain": [
       "(4776, 47)"
      ]
     },
     "execution_count": 83,
     "metadata": {},
     "output_type": "execute_result"
    }
   ],
   "source": [
    "enloc_all.shape"
   ]
  },
  {
   "cell_type": "code",
   "execution_count": 84,
   "metadata": {},
   "outputs": [
    {
     "data": {
      "text/html": [
       "<div>\n",
       "<style scoped>\n",
       "    .dataframe tbody tr th:only-of-type {\n",
       "        vertical-align: middle;\n",
       "    }\n",
       "\n",
       "    .dataframe tbody tr th {\n",
       "        vertical-align: top;\n",
       "    }\n",
       "\n",
       "    .dataframe thead th {\n",
       "        text-align: right;\n",
       "    }\n",
       "</style>\n",
       "<table border=\"1\" class=\"dataframe\">\n",
       "  <thead>\n",
       "    <tr style=\"text-align: right;\">\n",
       "      <th></th>\n",
       "      <th>Artery_Aorta</th>\n",
       "      <th>Heart_Atrial_Appendage</th>\n",
       "      <th>Pituitary</th>\n",
       "      <th>Testis</th>\n",
       "      <th>Muscle_Skeletal</th>\n",
       "      <th>Uterus</th>\n",
       "      <th>Colon_Transverse</th>\n",
       "      <th>Stomach</th>\n",
       "      <th>Artery_Coronary</th>\n",
       "      <th>Whole_Blood</th>\n",
       "      <th>...</th>\n",
       "      <th>Adipose_Subcutaneous</th>\n",
       "      <th>Brain_Cerebellum</th>\n",
       "      <th>Vagina</th>\n",
       "      <th>Brain_Nucleus_accumbens_basal_ganglia</th>\n",
       "      <th>Brain_Cortex</th>\n",
       "      <th>Spleen</th>\n",
       "      <th>Cells_EBV-transformed_lymphocytes</th>\n",
       "      <th>Prostate</th>\n",
       "      <th>Nerve_Tibial</th>\n",
       "      <th>Thyroid</th>\n",
       "    </tr>\n",
       "  </thead>\n",
       "  <tbody>\n",
       "    <tr>\n",
       "      <th>ENSG00000000419</th>\n",
       "      <td>0.0</td>\n",
       "      <td>0.0</td>\n",
       "      <td>0.0</td>\n",
       "      <td>0.0</td>\n",
       "      <td>0.0</td>\n",
       "      <td>0.0</td>\n",
       "      <td>0.0</td>\n",
       "      <td>0.0</td>\n",
       "      <td>0.0</td>\n",
       "      <td>0.0</td>\n",
       "      <td>...</td>\n",
       "      <td>0.000</td>\n",
       "      <td>0.0</td>\n",
       "      <td>0.0</td>\n",
       "      <td>0.0</td>\n",
       "      <td>0.0</td>\n",
       "      <td>0.0</td>\n",
       "      <td>0.0</td>\n",
       "      <td>0.0</td>\n",
       "      <td>0.000</td>\n",
       "      <td>0.0</td>\n",
       "    </tr>\n",
       "    <tr>\n",
       "      <th>ENSG00000000457</th>\n",
       "      <td>0.0</td>\n",
       "      <td>0.0</td>\n",
       "      <td>NaN</td>\n",
       "      <td>NaN</td>\n",
       "      <td>NaN</td>\n",
       "      <td>0.0</td>\n",
       "      <td>NaN</td>\n",
       "      <td>NaN</td>\n",
       "      <td>0.0</td>\n",
       "      <td>NaN</td>\n",
       "      <td>...</td>\n",
       "      <td>NaN</td>\n",
       "      <td>NaN</td>\n",
       "      <td>0.0</td>\n",
       "      <td>NaN</td>\n",
       "      <td>NaN</td>\n",
       "      <td>NaN</td>\n",
       "      <td>NaN</td>\n",
       "      <td>NaN</td>\n",
       "      <td>NaN</td>\n",
       "      <td>NaN</td>\n",
       "    </tr>\n",
       "    <tr>\n",
       "      <th>ENSG00000000460</th>\n",
       "      <td>NaN</td>\n",
       "      <td>NaN</td>\n",
       "      <td>NaN</td>\n",
       "      <td>NaN</td>\n",
       "      <td>NaN</td>\n",
       "      <td>NaN</td>\n",
       "      <td>NaN</td>\n",
       "      <td>NaN</td>\n",
       "      <td>NaN</td>\n",
       "      <td>NaN</td>\n",
       "      <td>...</td>\n",
       "      <td>NaN</td>\n",
       "      <td>NaN</td>\n",
       "      <td>NaN</td>\n",
       "      <td>NaN</td>\n",
       "      <td>NaN</td>\n",
       "      <td>0.0</td>\n",
       "      <td>NaN</td>\n",
       "      <td>NaN</td>\n",
       "      <td>NaN</td>\n",
       "      <td>NaN</td>\n",
       "    </tr>\n",
       "    <tr>\n",
       "      <th>ENSG00000000938</th>\n",
       "      <td>0.0</td>\n",
       "      <td>0.0</td>\n",
       "      <td>0.0</td>\n",
       "      <td>0.0</td>\n",
       "      <td>0.0</td>\n",
       "      <td>0.0</td>\n",
       "      <td>0.0</td>\n",
       "      <td>0.0</td>\n",
       "      <td>0.0</td>\n",
       "      <td>0.0</td>\n",
       "      <td>...</td>\n",
       "      <td>0.000</td>\n",
       "      <td>0.0</td>\n",
       "      <td>0.0</td>\n",
       "      <td>0.0</td>\n",
       "      <td>0.0</td>\n",
       "      <td>0.0</td>\n",
       "      <td>0.0</td>\n",
       "      <td>0.0</td>\n",
       "      <td>0.000</td>\n",
       "      <td>0.0</td>\n",
       "    </tr>\n",
       "    <tr>\n",
       "      <th>ENSG00000001617</th>\n",
       "      <td>0.0</td>\n",
       "      <td>0.0</td>\n",
       "      <td>0.0</td>\n",
       "      <td>0.0</td>\n",
       "      <td>0.0</td>\n",
       "      <td>0.0</td>\n",
       "      <td>0.0</td>\n",
       "      <td>0.0</td>\n",
       "      <td>0.0</td>\n",
       "      <td>0.0</td>\n",
       "      <td>...</td>\n",
       "      <td>0.001</td>\n",
       "      <td>0.0</td>\n",
       "      <td>0.0</td>\n",
       "      <td>0.0</td>\n",
       "      <td>0.0</td>\n",
       "      <td>0.0</td>\n",
       "      <td>0.0</td>\n",
       "      <td>0.0</td>\n",
       "      <td>0.002</td>\n",
       "      <td>0.0</td>\n",
       "    </tr>\n",
       "  </tbody>\n",
       "</table>\n",
       "<p>5 rows × 47 columns</p>\n",
       "</div>"
      ],
      "text/plain": [
       "                 Artery_Aorta  Heart_Atrial_Appendage  Pituitary  Testis  \\\n",
       "ENSG00000000419           0.0                     0.0        0.0     0.0   \n",
       "ENSG00000000457           0.0                     0.0        NaN     NaN   \n",
       "ENSG00000000460           NaN                     NaN        NaN     NaN   \n",
       "ENSG00000000938           0.0                     0.0        0.0     0.0   \n",
       "ENSG00000001617           0.0                     0.0        0.0     0.0   \n",
       "\n",
       "                 Muscle_Skeletal  Uterus  Colon_Transverse  Stomach  \\\n",
       "ENSG00000000419              0.0     0.0               0.0      0.0   \n",
       "ENSG00000000457              NaN     0.0               NaN      NaN   \n",
       "ENSG00000000460              NaN     NaN               NaN      NaN   \n",
       "ENSG00000000938              0.0     0.0               0.0      0.0   \n",
       "ENSG00000001617              0.0     0.0               0.0      0.0   \n",
       "\n",
       "                 Artery_Coronary  Whole_Blood  ...  Adipose_Subcutaneous  \\\n",
       "ENSG00000000419              0.0          0.0  ...                 0.000   \n",
       "ENSG00000000457              0.0          NaN  ...                   NaN   \n",
       "ENSG00000000460              NaN          NaN  ...                   NaN   \n",
       "ENSG00000000938              0.0          0.0  ...                 0.000   \n",
       "ENSG00000001617              0.0          0.0  ...                 0.001   \n",
       "\n",
       "                 Brain_Cerebellum  Vagina  \\\n",
       "ENSG00000000419               0.0     0.0   \n",
       "ENSG00000000457               NaN     0.0   \n",
       "ENSG00000000460               NaN     NaN   \n",
       "ENSG00000000938               0.0     0.0   \n",
       "ENSG00000001617               0.0     0.0   \n",
       "\n",
       "                 Brain_Nucleus_accumbens_basal_ganglia  Brain_Cortex  Spleen  \\\n",
       "ENSG00000000419                                    0.0           0.0     0.0   \n",
       "ENSG00000000457                                    NaN           NaN     NaN   \n",
       "ENSG00000000460                                    NaN           NaN     0.0   \n",
       "ENSG00000000938                                    0.0           0.0     0.0   \n",
       "ENSG00000001617                                    0.0           0.0     0.0   \n",
       "\n",
       "                 Cells_EBV-transformed_lymphocytes  Prostate  Nerve_Tibial  \\\n",
       "ENSG00000000419                                0.0       0.0         0.000   \n",
       "ENSG00000000457                                NaN       NaN           NaN   \n",
       "ENSG00000000460                                NaN       NaN           NaN   \n",
       "ENSG00000000938                                0.0       0.0         0.000   \n",
       "ENSG00000001617                                0.0       0.0         0.002   \n",
       "\n",
       "                 Thyroid  \n",
       "ENSG00000000419      0.0  \n",
       "ENSG00000000457      NaN  \n",
       "ENSG00000000460      NaN  \n",
       "ENSG00000000938      0.0  \n",
       "ENSG00000001617      0.0  \n",
       "\n",
       "[5 rows x 47 columns]"
      ]
     },
     "execution_count": 84,
     "metadata": {},
     "output_type": "execute_result"
    }
   ],
   "source": [
    "enloc_all.head()"
   ]
  },
  {
   "cell_type": "code",
   "execution_count": 85,
   "metadata": {},
   "outputs": [],
   "source": [
    "df = create_df_plot(fe_all, enloc_all)"
   ]
  },
  {
   "cell_type": "code",
   "execution_count": 86,
   "metadata": {},
   "outputs": [
    {
     "data": {
      "text/plain": [
       "(142961, 2)"
      ]
     },
     "execution_count": 86,
     "metadata": {},
     "output_type": "execute_result"
    }
   ],
   "source": [
    "df.shape"
   ]
  },
  {
   "cell_type": "code",
   "execution_count": 87,
   "metadata": {},
   "outputs": [
    {
     "data": {
      "text/html": [
       "<div>\n",
       "<style scoped>\n",
       "    .dataframe tbody tr th:only-of-type {\n",
       "        vertical-align: middle;\n",
       "    }\n",
       "\n",
       "    .dataframe tbody tr th {\n",
       "        vertical-align: top;\n",
       "    }\n",
       "\n",
       "    .dataframe thead th {\n",
       "        text-align: right;\n",
       "    }\n",
       "</style>\n",
       "<table border=\"1\" class=\"dataframe\">\n",
       "  <thead>\n",
       "    <tr style=\"text-align: right;\">\n",
       "      <th></th>\n",
       "      <th></th>\n",
       "      <th>ENLOC</th>\n",
       "      <th>fastENLOC</th>\n",
       "    </tr>\n",
       "  </thead>\n",
       "  <tbody>\n",
       "    <tr>\n",
       "      <th>Artery_Aorta</th>\n",
       "      <th>ENSG00000158169</th>\n",
       "      <td>0.002</td>\n",
       "      <td>0.000053</td>\n",
       "    </tr>\n",
       "    <tr>\n",
       "      <th>Ovary</th>\n",
       "      <th>ENSG00000167264</th>\n",
       "      <td>0.000</td>\n",
       "      <td>0.000034</td>\n",
       "    </tr>\n",
       "    <tr>\n",
       "      <th>Brain_Substantia_nigra</th>\n",
       "      <th>ENSG00000204267</th>\n",
       "      <td>0.000</td>\n",
       "      <td>0.004734</td>\n",
       "    </tr>\n",
       "    <tr>\n",
       "      <th>Vagina</th>\n",
       "      <th>ENSG00000213390</th>\n",
       "      <td>0.054</td>\n",
       "      <td>0.055827</td>\n",
       "    </tr>\n",
       "    <tr>\n",
       "      <th>Ovary</th>\n",
       "      <th>ENSG00000134291</th>\n",
       "      <td>0.000</td>\n",
       "      <td>0.001342</td>\n",
       "    </tr>\n",
       "  </tbody>\n",
       "</table>\n",
       "</div>"
      ],
      "text/plain": [
       "                                        ENLOC  fastENLOC\n",
       "Artery_Aorta           ENSG00000158169  0.002   0.000053\n",
       "Ovary                  ENSG00000167264  0.000   0.000034\n",
       "Brain_Substantia_nigra ENSG00000204267  0.000   0.004734\n",
       "Vagina                 ENSG00000213390  0.054   0.055827\n",
       "Ovary                  ENSG00000134291  0.000   0.001342"
      ]
     },
     "execution_count": 87,
     "metadata": {},
     "output_type": "execute_result"
    }
   ],
   "source": [
    "df.head()"
   ]
  },
  {
   "cell_type": "code",
   "execution_count": 88,
   "metadata": {},
   "outputs": [],
   "source": [
    "df_plot = df[(df['ENLOC'] > 0.1) & (df['fastENLOC'] > 0.1)]"
   ]
  },
  {
   "cell_type": "code",
   "execution_count": 89,
   "metadata": {},
   "outputs": [
    {
     "data": {
      "text/plain": [
       "(0.7131721674695346, 8.640973583438526e-258)"
      ]
     },
     "execution_count": 89,
     "metadata": {},
     "output_type": "execute_result"
    }
   ],
   "source": [
    "stats.pearsonr(df_plot['ENLOC'].values, df_plot['fastENLOC'].values)"
   ]
  },
  {
   "cell_type": "code",
   "execution_count": 90,
   "metadata": {},
   "outputs": [
    {
     "data": {
      "text/plain": [
       "SpearmanrResult(correlation=0.6452734877084828, pvalue=6.907513742006892e-196)"
      ]
     },
     "execution_count": 90,
     "metadata": {},
     "output_type": "execute_result"
    }
   ],
   "source": [
    "stats.spearmanr(df_plot['ENLOC'].values, df_plot['fastENLOC'].values)"
   ]
  },
  {
   "cell_type": "code",
   "execution_count": 91,
   "metadata": {},
   "outputs": [],
   "source": [
    "# final refining\n",
    "df_plot = df_plot[df_plot['fastENLOC'] <= 1.05]"
   ]
  },
  {
   "cell_type": "code",
   "execution_count": 92,
   "metadata": {},
   "outputs": [
    {
     "data": {
      "image/png": "[encoded data removed]",
      "text/plain": [
       "<Figure size 432x432 with 3 Axes>"
      ]
     },
     "metadata": {},
     "output_type": "display_data"
    }
   ],
   "source": [
    "df_plot_final = df_plot.rename(columns={'ENLOC': 'ENLOC (RCP)', 'fastENLOC': 'fastENLOC (RCP)'})\n",
    "\n",
    "with sns.axes_style(\"white\"):\n",
    "    ax = sns.jointplot(data=df_plot_final, x='ENLOC (RCP)', y='fastENLOC (RCP)', kind='hex')\n",
    "    ax.ax_joint.plot([0.10, 1.0], [0.10, 1.0], 'gray', linewidth=0.75)\n",
    "    ax.fig.suptitle(f'{metadata.RAPID_GWAS_PHENO_INFO.loc[PHENOTYPE_SELECTED, \"description\"]}\\nAll tissues')\n",
    "    \n",
    "    fig_path = os.path.join(figures_path, 'sup_fig3d.png')\n",
    "    plt.savefig(fig_path, dpi=150, bbox_inches='tight')"
   ]
  },
  {
   "cell_type": "code",
   "execution_count": null,
   "metadata": {},
   "outputs": [],
   "source": []
  }
 ],
 "metadata": {
  "kernelspec": {
   "display_name": "Python 3",
   "language": "python",
   "name": "python3"
  },
  "language_info": {
   "codemirror_mode": {
    "name": "ipython",
    "version": 3
   },
   "file_extension": ".py",
   "mimetype": "text/x-python",
   "name": "python",
   "nbconvert_exporter": "python",
   "pygments_lexer": "ipython3",
   "version": "3.7.5"
  }
 },
 "nbformat": 4,
 "nbformat_minor": 4
}
