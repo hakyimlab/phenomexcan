{
 "cells": [
  {
   "cell_type": "code",
   "execution_count": 1,
   "metadata": {},
   "outputs": [],
   "source": [
    "%load_ext autoreload\n",
    "%autoreload 2"
   ]
  },
  {
   "cell_type": "code",
   "execution_count": 2,
   "metadata": {},
   "outputs": [],
   "source": [
    "import os\n",
    "import pickle\n",
    "\n",
    "import numpy as np\n",
    "import pandas as pd\n",
    "\n",
    "import utils.constants as constants"
   ]
  },
  {
   "cell_type": "code",
   "execution_count": 3,
   "metadata": {},
   "outputs": [],
   "source": [
    "genes_associations_dir = os.path.join(constants.PREPROCESSED_BASED_DIR, 'gene_associations')\n",
    "smultixcan_gene_association_dirs = os.path.join(genes_associations_dir, 'mashr')\n",
    "\n",
    "output_dir = os.path.join(constants.RESULTS_DIR, 'roc_validation', 'classifier_tables')\n",
    "os.makedirs(output_dir, exist_ok=True)"
   ]
  },
  {
   "cell_type": "markdown",
   "metadata": {},
   "source": [
    "# Load all S-PrediXcan gene mappings"
   ]
  },
  {
   "cell_type": "code",
   "execution_count": 4,
   "metadata": {},
   "outputs": [],
   "source": [
    "with open(os.path.join(constants.PREPROCESSED_METADATA_DIR, 'genes_mapping_simplified-0.pkl'), 'rb') as f:\n",
    "    genes_mapping_0 = pickle.load(f)\n",
    "\n",
    "with open(os.path.join(constants.PREPROCESSED_METADATA_DIR, 'genes_mapping_simplified-1.pkl'), 'rb') as f:\n",
    "    genes_mapping_1 = pickle.load(f)"
   ]
  },
  {
   "cell_type": "markdown",
   "metadata": {},
   "source": [
    "# Load S-PrediXcan results"
   ]
  },
  {
   "cell_type": "code",
   "execution_count": 5,
   "metadata": {},
   "outputs": [
    {
     "data": {
      "text/plain": [
       "'/mnt/phenomexcan/results/preprocessed_data/gene_associations/mashr/smultixcan-genes_associations-zscores.pkl.xz'"
      ]
     },
     "metadata": {},
     "output_type": "display_data"
    }
   ],
   "source": [
    "spredixcan_genes_associations_filename = os.path.join(smultixcan_gene_association_dirs, 'smultixcan-genes_associations-zscores.pkl.xz')\n",
    "display(spredixcan_genes_associations_filename)\n",
    "\n",
    "spredixcan_genes_associations = pd.read_pickle(spredixcan_genes_associations_filename)"
   ]
  },
  {
   "cell_type": "code",
   "execution_count": 6,
   "metadata": {},
   "outputs": [
    {
     "data": {
      "text/plain": [
       "(22255, 4083)"
      ]
     },
     "execution_count": 6,
     "metadata": {},
     "output_type": "execute_result"
    }
   ],
   "source": [
    "spredixcan_genes_associations.shape"
   ]
  },
  {
   "cell_type": "code",
   "execution_count": 7,
   "metadata": {},
   "outputs": [
    {
     "data": {
      "text/html": [
       "<div>\n",
       "<style scoped>\n",
       "    .dataframe tbody tr th:only-of-type {\n",
       "        vertical-align: middle;\n",
       "    }\n",
       "\n",
       "    .dataframe tbody tr th {\n",
       "        vertical-align: top;\n",
       "    }\n",
       "\n",
       "    .dataframe thead th {\n",
       "        text-align: right;\n",
       "    }\n",
       "</style>\n",
       "<table border=\"1\" class=\"dataframe\">\n",
       "  <thead>\n",
       "    <tr style=\"text-align: right;\">\n",
       "      <th></th>\n",
       "      <th>L12_EPIDERMALTHICKOTH-Other_epidermal_thickening</th>\n",
       "      <th>O42-Diagnoses_main_ICD10_O42_Premature_rupture_of_membranes</th>\n",
       "      <th>20002_1077-Noncancer_illness_code_selfreported_heart_arrhythmia</th>\n",
       "      <th>20445-Depression_possibly_related_to_childbirth</th>\n",
       "      <th>20077-Number_of_diet_questionnaires_completed</th>\n",
       "      <th>22601_91392832-Job_coding_other_work_in_this_industry_factory_hand_mate_assistant_handler_loader</th>\n",
       "      <th>I9_VTE-Venous_thromboembolism</th>\n",
       "      <th>22617_1161-Job_SOC_coding_Transport_and_distribution_managers</th>\n",
       "      <th>20002_1460-Noncancer_illness_code_selfreported_rectal_or_colon_adenomapolyps</th>\n",
       "      <th>5181-Ever_had_eye_surgery</th>\n",
       "      <th>...</th>\n",
       "      <th>20090_394-Type_of_fatoil_used_in_cooking_Unknown_soft_margarine</th>\n",
       "      <th>22617_3512-Job_SOC_coding_Aircraft_pilots_and_flight_engineers</th>\n",
       "      <th>6034-Target_heart_rate_achieved</th>\n",
       "      <th>20003_1140883066-Treatmentmedication_code_insulin_product</th>\n",
       "      <th>22601_41223241-Job_coding_accounts_and_wages_clerkassistantsupervisor_bookkeeper_cost_or_ledger_clerk_audit_assistant_budget_officer_student_loans_officer_paymaster</th>\n",
       "      <th>I82-Diagnoses_main_ICD10_I82_Other_venous_embolism_and_thrombosis</th>\n",
       "      <th>20107_12-Illnesses_of_father_Severe_depression</th>\n",
       "      <th>B07-Diagnoses_main_ICD10_B07_Viral_warts</th>\n",
       "      <th>22601_12253140-Job_coding_sports_centre_manager_riding_school_owner_sports_ground_manager_baths_manager</th>\n",
       "      <th>2664_2-Reason_for_reducing_amount_of_alcohol_drunk_Doctors_advice</th>\n",
       "    </tr>\n",
       "    <tr>\n",
       "      <th>gene_name</th>\n",
       "      <th></th>\n",
       "      <th></th>\n",
       "      <th></th>\n",
       "      <th></th>\n",
       "      <th></th>\n",
       "      <th></th>\n",
       "      <th></th>\n",
       "      <th></th>\n",
       "      <th></th>\n",
       "      <th></th>\n",
       "      <th></th>\n",
       "      <th></th>\n",
       "      <th></th>\n",
       "      <th></th>\n",
       "      <th></th>\n",
       "      <th></th>\n",
       "      <th></th>\n",
       "      <th></th>\n",
       "      <th></th>\n",
       "      <th></th>\n",
       "      <th></th>\n",
       "    </tr>\n",
       "  </thead>\n",
       "  <tbody>\n",
       "    <tr>\n",
       "      <th>ENSG00000000419</th>\n",
       "      <td>0.118542</td>\n",
       "      <td>1.185152</td>\n",
       "      <td>0.506195</td>\n",
       "      <td>0.852355</td>\n",
       "      <td>0.604068</td>\n",
       "      <td>1.014925</td>\n",
       "      <td>0.874812</td>\n",
       "      <td>1.995403</td>\n",
       "      <td>1.226674</td>\n",
       "      <td>2.401157</td>\n",
       "      <td>...</td>\n",
       "      <td>0.950455</td>\n",
       "      <td>0.770204</td>\n",
       "      <td>0.788341</td>\n",
       "      <td>0.941923</td>\n",
       "      <td>1.470308</td>\n",
       "      <td>0.663953</td>\n",
       "      <td>0.270128</td>\n",
       "      <td>0.018340</td>\n",
       "      <td>2.068068</td>\n",
       "      <td>0.693219</td>\n",
       "    </tr>\n",
       "    <tr>\n",
       "      <th>ENSG00000000457</th>\n",
       "      <td>0.520170</td>\n",
       "      <td>1.062542</td>\n",
       "      <td>1.306725</td>\n",
       "      <td>0.989147</td>\n",
       "      <td>1.981863</td>\n",
       "      <td>0.389948</td>\n",
       "      <td>1.558053</td>\n",
       "      <td>0.780973</td>\n",
       "      <td>0.583048</td>\n",
       "      <td>0.039883</td>\n",
       "      <td>...</td>\n",
       "      <td>0.104441</td>\n",
       "      <td>0.474818</td>\n",
       "      <td>0.005264</td>\n",
       "      <td>1.766256</td>\n",
       "      <td>0.008613</td>\n",
       "      <td>0.539178</td>\n",
       "      <td>1.340549</td>\n",
       "      <td>0.745059</td>\n",
       "      <td>1.091906</td>\n",
       "      <td>0.112910</td>\n",
       "    </tr>\n",
       "    <tr>\n",
       "      <th>ENSG00000000460</th>\n",
       "      <td>0.181827</td>\n",
       "      <td>0.454945</td>\n",
       "      <td>0.422742</td>\n",
       "      <td>0.212844</td>\n",
       "      <td>1.121509</td>\n",
       "      <td>0.594248</td>\n",
       "      <td>3.425656</td>\n",
       "      <td>0.828176</td>\n",
       "      <td>0.877009</td>\n",
       "      <td>1.024421</td>\n",
       "      <td>...</td>\n",
       "      <td>0.181627</td>\n",
       "      <td>0.614678</td>\n",
       "      <td>1.237589</td>\n",
       "      <td>0.212545</td>\n",
       "      <td>1.021029</td>\n",
       "      <td>0.298612</td>\n",
       "      <td>1.556284</td>\n",
       "      <td>0.443780</td>\n",
       "      <td>0.261719</td>\n",
       "      <td>0.060068</td>\n",
       "    </tr>\n",
       "    <tr>\n",
       "      <th>ENSG00000000938</th>\n",
       "      <td>0.289141</td>\n",
       "      <td>0.212541</td>\n",
       "      <td>1.170981</td>\n",
       "      <td>0.735132</td>\n",
       "      <td>0.074349</td>\n",
       "      <td>0.626647</td>\n",
       "      <td>2.421660</td>\n",
       "      <td>2.716722</td>\n",
       "      <td>0.655375</td>\n",
       "      <td>0.536942</td>\n",
       "      <td>...</td>\n",
       "      <td>0.290044</td>\n",
       "      <td>0.717265</td>\n",
       "      <td>0.368518</td>\n",
       "      <td>1.496889</td>\n",
       "      <td>0.045447</td>\n",
       "      <td>0.018784</td>\n",
       "      <td>1.238725</td>\n",
       "      <td>0.876929</td>\n",
       "      <td>0.675103</td>\n",
       "      <td>3.171424</td>\n",
       "    </tr>\n",
       "    <tr>\n",
       "      <th>ENSG00000000971</th>\n",
       "      <td>0.465188</td>\n",
       "      <td>1.051131</td>\n",
       "      <td>0.797415</td>\n",
       "      <td>0.382712</td>\n",
       "      <td>1.045710</td>\n",
       "      <td>1.470092</td>\n",
       "      <td>1.435553</td>\n",
       "      <td>0.311438</td>\n",
       "      <td>1.213439</td>\n",
       "      <td>1.411339</td>\n",
       "      <td>...</td>\n",
       "      <td>1.691603</td>\n",
       "      <td>3.562145</td>\n",
       "      <td>2.040159</td>\n",
       "      <td>0.281551</td>\n",
       "      <td>0.933999</td>\n",
       "      <td>0.940077</td>\n",
       "      <td>0.144340</td>\n",
       "      <td>0.594995</td>\n",
       "      <td>0.000310</td>\n",
       "      <td>0.411814</td>\n",
       "    </tr>\n",
       "  </tbody>\n",
       "</table>\n",
       "<p>5 rows × 4083 columns</p>\n",
       "</div>"
      ],
      "text/plain": [
       "                 L12_EPIDERMALTHICKOTH-Other_epidermal_thickening  \\\n",
       "gene_name                                                           \n",
       "ENSG00000000419                                          0.118542   \n",
       "ENSG00000000457                                          0.520170   \n",
       "ENSG00000000460                                          0.181827   \n",
       "ENSG00000000938                                          0.289141   \n",
       "ENSG00000000971                                          0.465188   \n",
       "\n",
       "                 O42-Diagnoses_main_ICD10_O42_Premature_rupture_of_membranes  \\\n",
       "gene_name                                                                      \n",
       "ENSG00000000419                                           1.185152             \n",
       "ENSG00000000457                                           1.062542             \n",
       "ENSG00000000460                                           0.454945             \n",
       "ENSG00000000938                                           0.212541             \n",
       "ENSG00000000971                                           1.051131             \n",
       "\n",
       "                 20002_1077-Noncancer_illness_code_selfreported_heart_arrhythmia  \\\n",
       "gene_name                                                                          \n",
       "ENSG00000000419                                           0.506195                 \n",
       "ENSG00000000457                                           1.306725                 \n",
       "ENSG00000000460                                           0.422742                 \n",
       "ENSG00000000938                                           1.170981                 \n",
       "ENSG00000000971                                           0.797415                 \n",
       "\n",
       "                 20445-Depression_possibly_related_to_childbirth  \\\n",
       "gene_name                                                          \n",
       "ENSG00000000419                                         0.852355   \n",
       "ENSG00000000457                                         0.989147   \n",
       "ENSG00000000460                                         0.212844   \n",
       "ENSG00000000938                                         0.735132   \n",
       "ENSG00000000971                                         0.382712   \n",
       "\n",
       "                 20077-Number_of_diet_questionnaires_completed  \\\n",
       "gene_name                                                        \n",
       "ENSG00000000419                                       0.604068   \n",
       "ENSG00000000457                                       1.981863   \n",
       "ENSG00000000460                                       1.121509   \n",
       "ENSG00000000938                                       0.074349   \n",
       "ENSG00000000971                                       1.045710   \n",
       "\n",
       "                 22601_91392832-Job_coding_other_work_in_this_industry_factory_hand_mate_assistant_handler_loader  \\\n",
       "gene_name                                                                                                           \n",
       "ENSG00000000419                                           1.014925                                                  \n",
       "ENSG00000000457                                           0.389948                                                  \n",
       "ENSG00000000460                                           0.594248                                                  \n",
       "ENSG00000000938                                           0.626647                                                  \n",
       "ENSG00000000971                                           1.470092                                                  \n",
       "\n",
       "                 I9_VTE-Venous_thromboembolism  \\\n",
       "gene_name                                        \n",
       "ENSG00000000419                       0.874812   \n",
       "ENSG00000000457                       1.558053   \n",
       "ENSG00000000460                       3.425656   \n",
       "ENSG00000000938                       2.421660   \n",
       "ENSG00000000971                       1.435553   \n",
       "\n",
       "                 22617_1161-Job_SOC_coding_Transport_and_distribution_managers  \\\n",
       "gene_name                                                                        \n",
       "ENSG00000000419                                           1.995403               \n",
       "ENSG00000000457                                           0.780973               \n",
       "ENSG00000000460                                           0.828176               \n",
       "ENSG00000000938                                           2.716722               \n",
       "ENSG00000000971                                           0.311438               \n",
       "\n",
       "                 20002_1460-Noncancer_illness_code_selfreported_rectal_or_colon_adenomapolyps  \\\n",
       "gene_name                                                                                       \n",
       "ENSG00000000419                                           1.226674                              \n",
       "ENSG00000000457                                           0.583048                              \n",
       "ENSG00000000460                                           0.877009                              \n",
       "ENSG00000000938                                           0.655375                              \n",
       "ENSG00000000971                                           1.213439                              \n",
       "\n",
       "                 5181-Ever_had_eye_surgery  ...  \\\n",
       "gene_name                                   ...   \n",
       "ENSG00000000419                   2.401157  ...   \n",
       "ENSG00000000457                   0.039883  ...   \n",
       "ENSG00000000460                   1.024421  ...   \n",
       "ENSG00000000938                   0.536942  ...   \n",
       "ENSG00000000971                   1.411339  ...   \n",
       "\n",
       "                 20090_394-Type_of_fatoil_used_in_cooking_Unknown_soft_margarine  \\\n",
       "gene_name                                                                          \n",
       "ENSG00000000419                                           0.950455                 \n",
       "ENSG00000000457                                           0.104441                 \n",
       "ENSG00000000460                                           0.181627                 \n",
       "ENSG00000000938                                           0.290044                 \n",
       "ENSG00000000971                                           1.691603                 \n",
       "\n",
       "                 22617_3512-Job_SOC_coding_Aircraft_pilots_and_flight_engineers  \\\n",
       "gene_name                                                                         \n",
       "ENSG00000000419                                           0.770204                \n",
       "ENSG00000000457                                           0.474818                \n",
       "ENSG00000000460                                           0.614678                \n",
       "ENSG00000000938                                           0.717265                \n",
       "ENSG00000000971                                           3.562145                \n",
       "\n",
       "                 6034-Target_heart_rate_achieved  \\\n",
       "gene_name                                          \n",
       "ENSG00000000419                         0.788341   \n",
       "ENSG00000000457                         0.005264   \n",
       "ENSG00000000460                         1.237589   \n",
       "ENSG00000000938                         0.368518   \n",
       "ENSG00000000971                         2.040159   \n",
       "\n",
       "                 20003_1140883066-Treatmentmedication_code_insulin_product  \\\n",
       "gene_name                                                                    \n",
       "ENSG00000000419                                           0.941923           \n",
       "ENSG00000000457                                           1.766256           \n",
       "ENSG00000000460                                           0.212545           \n",
       "ENSG00000000938                                           1.496889           \n",
       "ENSG00000000971                                           0.281551           \n",
       "\n",
       "                 22601_41223241-Job_coding_accounts_and_wages_clerkassistantsupervisor_bookkeeper_cost_or_ledger_clerk_audit_assistant_budget_officer_student_loans_officer_paymaster  \\\n",
       "gene_name                                                                                                                                                                               \n",
       "ENSG00000000419                                           1.470308                                                                                                                      \n",
       "ENSG00000000457                                           0.008613                                                                                                                      \n",
       "ENSG00000000460                                           1.021029                                                                                                                      \n",
       "ENSG00000000938                                           0.045447                                                                                                                      \n",
       "ENSG00000000971                                           0.933999                                                                                                                      \n",
       "\n",
       "                 I82-Diagnoses_main_ICD10_I82_Other_venous_embolism_and_thrombosis  \\\n",
       "gene_name                                                                            \n",
       "ENSG00000000419                                           0.663953                   \n",
       "ENSG00000000457                                           0.539178                   \n",
       "ENSG00000000460                                           0.298612                   \n",
       "ENSG00000000938                                           0.018784                   \n",
       "ENSG00000000971                                           0.940077                   \n",
       "\n",
       "                 20107_12-Illnesses_of_father_Severe_depression  \\\n",
       "gene_name                                                         \n",
       "ENSG00000000419                                        0.270128   \n",
       "ENSG00000000457                                        1.340549   \n",
       "ENSG00000000460                                        1.556284   \n",
       "ENSG00000000938                                        1.238725   \n",
       "ENSG00000000971                                        0.144340   \n",
       "\n",
       "                 B07-Diagnoses_main_ICD10_B07_Viral_warts  \\\n",
       "gene_name                                                   \n",
       "ENSG00000000419                                  0.018340   \n",
       "ENSG00000000457                                  0.745059   \n",
       "ENSG00000000460                                  0.443780   \n",
       "ENSG00000000938                                  0.876929   \n",
       "ENSG00000000971                                  0.594995   \n",
       "\n",
       "                 22601_12253140-Job_coding_sports_centre_manager_riding_school_owner_sports_ground_manager_baths_manager  \\\n",
       "gene_name                                                                                                                  \n",
       "ENSG00000000419                                           2.068068                                                         \n",
       "ENSG00000000457                                           1.091906                                                         \n",
       "ENSG00000000460                                           0.261719                                                         \n",
       "ENSG00000000938                                           0.675103                                                         \n",
       "ENSG00000000971                                           0.000310                                                         \n",
       "\n",
       "                 2664_2-Reason_for_reducing_amount_of_alcohol_drunk_Doctors_advice  \n",
       "gene_name                                                                           \n",
       "ENSG00000000419                                           0.693219                  \n",
       "ENSG00000000457                                           0.112910                  \n",
       "ENSG00000000460                                           0.060068                  \n",
       "ENSG00000000938                                           3.171424                  \n",
       "ENSG00000000971                                           0.411814                  \n",
       "\n",
       "[5 rows x 4083 columns]"
      ]
     },
     "execution_count": 7,
     "metadata": {},
     "output_type": "execute_result"
    }
   ],
   "source": [
    "spredixcan_genes_associations.head(5)"
   ]
  },
  {
   "cell_type": "code",
   "execution_count": 8,
   "metadata": {},
   "outputs": [
    {
     "data": {
      "text/plain": [
       "True"
      ]
     },
     "execution_count": 8,
     "metadata": {},
     "output_type": "execute_result"
    }
   ],
   "source": [
    "spredixcan_genes_associations.isin([np.inf, -np.inf]).any().any()"
   ]
  },
  {
   "cell_type": "code",
   "execution_count": 9,
   "metadata": {},
   "outputs": [],
   "source": [
    "#min_pvals = pd.Series(spredixcan_genes_associations.values.flatten())\n",
    "max_zscores = pd.Series(spredixcan_genes_associations.values.flatten())"
   ]
  },
  {
   "cell_type": "code",
   "execution_count": 10,
   "metadata": {},
   "outputs": [],
   "source": [
    "_tmp = max_zscores.sort_values(ascending=False)"
   ]
  },
  {
   "cell_type": "code",
   "execution_count": 11,
   "metadata": {},
   "outputs": [
    {
     "data": {
      "text/plain": [
       "22781443    37.737142\n",
       "21129675    37.723815\n",
       "5424550     37.720171\n",
       "89795722    37.710072\n",
       "21164553    37.698289\n",
       "dtype: float64"
      ]
     },
     "metadata": {},
     "output_type": "display_data"
    }
   ],
   "source": [
    "display(_tmp[~np.isinf(_tmp)].head())"
   ]
  },
  {
   "cell_type": "code",
   "execution_count": 12,
   "metadata": {},
   "outputs": [],
   "source": [
    "# replace inf\n",
    "spredixcan_genes_associations = spredixcan_genes_associations.replace(np.inf, 40)\n",
    "\n",
    "assert not spredixcan_genes_associations.isin([np.inf, -np.inf]).any().any()"
   ]
  },
  {
   "cell_type": "markdown",
   "metadata": {},
   "source": [
    "# Load OMIM silver standard"
   ]
  },
  {
   "cell_type": "code",
   "execution_count": 13,
   "metadata": {},
   "outputs": [],
   "source": [
    "omim_silver_standard = pd.read_csv(os.path.join(constants.DATA_DIR, 'omim_silver_standard.tsv'), sep='\\t')"
   ]
  },
  {
   "cell_type": "code",
   "execution_count": 14,
   "metadata": {},
   "outputs": [],
   "source": [
    "omim_silver_standard = omim_silver_standard.dropna(subset=['ensembl_gene_id', 'trait', 'pheno_mim'])"
   ]
  },
  {
   "cell_type": "code",
   "execution_count": 15,
   "metadata": {},
   "outputs": [
    {
     "data": {
      "text/plain": [
       "(7809, 7)"
      ]
     },
     "metadata": {},
     "output_type": "display_data"
    },
    {
     "data": {
      "text/html": [
       "<div>\n",
       "<style scoped>\n",
       "    .dataframe tbody tr th:only-of-type {\n",
       "        vertical-align: middle;\n",
       "    }\n",
       "\n",
       "    .dataframe tbody tr th {\n",
       "        vertical-align: top;\n",
       "    }\n",
       "\n",
       "    .dataframe thead th {\n",
       "        text-align: right;\n",
       "    }\n",
       "</style>\n",
       "<table border=\"1\" class=\"dataframe\">\n",
       "  <thead>\n",
       "    <tr style=\"text-align: right;\">\n",
       "      <th></th>\n",
       "      <th>trait</th>\n",
       "      <th>pheno_mim</th>\n",
       "      <th>mim</th>\n",
       "      <th>entry_type</th>\n",
       "      <th>entrez_gene_id</th>\n",
       "      <th>approved_gene_symbol</th>\n",
       "      <th>ensembl_gene_id</th>\n",
       "    </tr>\n",
       "  </thead>\n",
       "  <tbody>\n",
       "    <tr>\n",
       "      <th>0</th>\n",
       "      <td>M41-Diagnoses_main_ICD10_M41_Scoliosis</td>\n",
       "      <td>101800</td>\n",
       "      <td>188830</td>\n",
       "      <td>gene</td>\n",
       "      <td>5573</td>\n",
       "      <td>PRKAR1A</td>\n",
       "      <td>ENSG00000108946</td>\n",
       "    </tr>\n",
       "    <tr>\n",
       "      <th>1</th>\n",
       "      <td>M41-Diagnoses_main_ICD10_M41_Scoliosis</td>\n",
       "      <td>102500</td>\n",
       "      <td>600275</td>\n",
       "      <td>gene</td>\n",
       "      <td>4853</td>\n",
       "      <td>NOTCH2</td>\n",
       "      <td>ENSG00000134250</td>\n",
       "    </tr>\n",
       "    <tr>\n",
       "      <th>2</th>\n",
       "      <td>M41-Diagnoses_main_ICD10_M41_Scoliosis</td>\n",
       "      <td>105830</td>\n",
       "      <td>601623</td>\n",
       "      <td>gene</td>\n",
       "      <td>7337</td>\n",
       "      <td>UBE3A</td>\n",
       "      <td>ENSG00000114062</td>\n",
       "    </tr>\n",
       "    <tr>\n",
       "      <th>3</th>\n",
       "      <td>M41-Diagnoses_main_ICD10_M41_Scoliosis</td>\n",
       "      <td>108120</td>\n",
       "      <td>190990</td>\n",
       "      <td>gene</td>\n",
       "      <td>7169</td>\n",
       "      <td>TPM2</td>\n",
       "      <td>ENSG00000198467</td>\n",
       "    </tr>\n",
       "    <tr>\n",
       "      <th>4</th>\n",
       "      <td>M41-Diagnoses_main_ICD10_M41_Scoliosis</td>\n",
       "      <td>108145</td>\n",
       "      <td>613629</td>\n",
       "      <td>gene</td>\n",
       "      <td>63895</td>\n",
       "      <td>PIEZO2</td>\n",
       "      <td>ENSG00000154864</td>\n",
       "    </tr>\n",
       "  </tbody>\n",
       "</table>\n",
       "</div>"
      ],
      "text/plain": [
       "                                    trait  pheno_mim     mim entry_type  \\\n",
       "0  M41-Diagnoses_main_ICD10_M41_Scoliosis     101800  188830       gene   \n",
       "1  M41-Diagnoses_main_ICD10_M41_Scoliosis     102500  600275       gene   \n",
       "2  M41-Diagnoses_main_ICD10_M41_Scoliosis     105830  601623       gene   \n",
       "3  M41-Diagnoses_main_ICD10_M41_Scoliosis     108120  190990       gene   \n",
       "4  M41-Diagnoses_main_ICD10_M41_Scoliosis     108145  613629       gene   \n",
       "\n",
       "   entrez_gene_id approved_gene_symbol  ensembl_gene_id  \n",
       "0            5573              PRKAR1A  ENSG00000108946  \n",
       "1            4853               NOTCH2  ENSG00000134250  \n",
       "2            7337                UBE3A  ENSG00000114062  \n",
       "3            7169                 TPM2  ENSG00000198467  \n",
       "4           63895               PIEZO2  ENSG00000154864  "
      ]
     },
     "metadata": {},
     "output_type": "display_data"
    }
   ],
   "source": [
    "display(omim_silver_standard.shape)\n",
    "display(omim_silver_standard.head())"
   ]
  },
  {
   "cell_type": "markdown",
   "metadata": {},
   "source": [
    "### Save list of mapped UK Biobank traits"
   ]
  },
  {
   "cell_type": "code",
   "execution_count": 16,
   "metadata": {},
   "outputs": [],
   "source": [
    "from clustering.biclustering.analysis import Trait"
   ]
  },
  {
   "cell_type": "code",
   "execution_count": 17,
   "metadata": {},
   "outputs": [
    {
     "data": {
      "text/plain": [
       "0               M41-Diagnoses_main_ICD10_M41_Scoliosis\n",
       "1            H80-Diagnoses_main_ICD10_H80_Otosclerosis\n",
       "2    20002_1226-Noncancer_illness_code_selfreported...\n",
       "3    I25-Diagnoses_main_ICD10_I25_Chronic_ischaemic...\n",
       "4    20002_1136-Noncancer_illness_code_selfreported...\n",
       "dtype: object"
      ]
     },
     "metadata": {},
     "output_type": "display_data"
    }
   ],
   "source": [
    "ukb_traits_mapped = pd.Series(omim_silver_standard['trait'].unique())\n",
    "display(ukb_traits_mapped.head())"
   ]
  },
  {
   "cell_type": "code",
   "execution_count": 18,
   "metadata": {},
   "outputs": [
    {
     "data": {
      "text/plain": [
       "(107,)"
      ]
     },
     "execution_count": 18,
     "metadata": {},
     "output_type": "execute_result"
    }
   ],
   "source": [
    "ukb_traits_mapped.shape"
   ]
  },
  {
   "cell_type": "code",
   "execution_count": 19,
   "metadata": {},
   "outputs": [],
   "source": [
    "ukb_codes_mapped = [Trait(t).trait_code for t in ukb_traits_mapped]"
   ]
  },
  {
   "cell_type": "code",
   "execution_count": 20,
   "metadata": {},
   "outputs": [
    {
     "data": {
      "text/plain": [
       "107"
      ]
     },
     "execution_count": 20,
     "metadata": {},
     "output_type": "execute_result"
    }
   ],
   "source": [
    "len(ukb_codes_mapped)"
   ]
  },
  {
   "cell_type": "code",
   "execution_count": 21,
   "metadata": {},
   "outputs": [
    {
     "data": {
      "text/plain": [
       "['M41', 'H80', '20002_1226', 'I25', '20002_1136']"
      ]
     },
     "execution_count": 21,
     "metadata": {},
     "output_type": "execute_result"
    }
   ],
   "source": [
    "ukb_codes_mapped[:5]"
   ]
  },
  {
   "cell_type": "code",
   "execution_count": 22,
   "metadata": {},
   "outputs": [],
   "source": [
    "# This is needed to run gwas2gene (Yanyu's scripts)\n",
    "pd.Series(ukb_codes_mapped).to_csv('/mnt/tmp/selected_ukb_traits_omim.txt', index=False, header=False)"
   ]
  },
  {
   "cell_type": "markdown",
   "metadata": {},
   "source": [
    "# Read gwas2gene (Yanyu) results"
   ]
  },
  {
   "cell_type": "code",
   "execution_count": 23,
   "metadata": {},
   "outputs": [],
   "source": [
    "from glob import glob\n",
    "\n",
    "import rpy2.robjects as robjects\n",
    "from rpy2.robjects import pandas2ri\n",
    "pandas2ri.activate()"
   ]
  },
  {
   "cell_type": "code",
   "execution_count": 24,
   "metadata": {},
   "outputs": [],
   "source": [
    "gwas2gene_results_dir = '/mnt/phenomexcan/results/roc_validation/ukb_gwas2gene_results_omim_silver_standard/'"
   ]
  },
  {
   "cell_type": "code",
   "execution_count": 25,
   "metadata": {},
   "outputs": [],
   "source": [
    "readRDS = robjects.r['readRDS']"
   ]
  },
  {
   "cell_type": "code",
   "execution_count": 26,
   "metadata": {},
   "outputs": [
    {
     "data": {
      "text/plain": [
       "99"
      ]
     },
     "metadata": {},
     "output_type": "display_data"
    },
    {
     "name": "stdout",
     "output_type": "stream",
     "text": [
      "WARNING: some files are not there. 107 expected, 99 found.\n"
     ]
    }
   ],
   "source": [
    "f_files = glob(os.path.join(gwas2gene_results_dir, '*.rds'))\n",
    "display(len(f_files))\n",
    "\n",
    "if len(f_files) != len(ukb_codes_mapped):\n",
    "    print(f'WARNING: some files are not there. {len(ukb_codes_mapped)} expected, {len(f_files)} found.')"
   ]
  },
  {
   "cell_type": "code",
   "execution_count": 27,
   "metadata": {},
   "outputs": [],
   "source": [
    "gwas2genes_results = {}\n",
    "\n",
    "for f in f_files:\n",
    "    f_base = os.path.basename(f)\n",
    "    f_code = f_base.split('.')[0]\n",
    "    \n",
    "    #print(f_base)\n",
    "    rds_contents = readRDS(f)\n",
    "    \n",
    "    if len(rds_contents[1]) > 0:\n",
    "        f_gene_list = list(rds_contents[1][0].iter_labels())\n",
    "    else:\n",
    "        print(f'{f_code}: empty')\n",
    "        f_gene_list = []\n",
    "    \n",
    "    gwas2genes_results[f_code] = spredixcan_genes_associations.index.intersection(set(f_gene_list))"
   ]
  },
  {
   "cell_type": "code",
   "execution_count": 28,
   "metadata": {},
   "outputs": [
    {
     "data": {
      "text/plain": [
       "19119"
      ]
     },
     "metadata": {},
     "output_type": "display_data"
    },
    {
     "data": {
      "text/plain": [
       "9463"
      ]
     },
     "metadata": {},
     "output_type": "display_data"
    }
   ],
   "source": [
    "gwas2gene_all_genes = []\n",
    "\n",
    "for k in gwas2genes_results.keys():\n",
    "    gwas2gene_all_genes.extend(gwas2genes_results[k])\n",
    "\n",
    "display(len(gwas2gene_all_genes))\n",
    "\n",
    "gwas2gene_all_genes = set(gwas2gene_all_genes)\n",
    "display(len(gwas2gene_all_genes))\n",
    "\n",
    "# gwas2gene_all_genes = spredixcan_genes_associations.index.intersection(gwas2gene_all_genes)\n",
    "# display(len(gwas2gene_all_genes))"
   ]
  },
  {
   "cell_type": "markdown",
   "metadata": {},
   "source": [
    "# Create list of UKB-OMIM traits"
   ]
  },
  {
   "cell_type": "code",
   "execution_count": 29,
   "metadata": {},
   "outputs": [
    {
     "data": {
      "text/html": [
       "<div>\n",
       "<style scoped>\n",
       "    .dataframe tbody tr th:only-of-type {\n",
       "        vertical-align: middle;\n",
       "    }\n",
       "\n",
       "    .dataframe tbody tr th {\n",
       "        vertical-align: top;\n",
       "    }\n",
       "\n",
       "    .dataframe thead th {\n",
       "        text-align: right;\n",
       "    }\n",
       "</style>\n",
       "<table border=\"1\" class=\"dataframe\">\n",
       "  <thead>\n",
       "    <tr style=\"text-align: right;\">\n",
       "      <th></th>\n",
       "      <th>trait</th>\n",
       "      <th>pheno_mim</th>\n",
       "      <th>mim</th>\n",
       "      <th>entry_type</th>\n",
       "      <th>entrez_gene_id</th>\n",
       "      <th>approved_gene_symbol</th>\n",
       "      <th>ensembl_gene_id</th>\n",
       "    </tr>\n",
       "  </thead>\n",
       "  <tbody>\n",
       "    <tr>\n",
       "      <th>0</th>\n",
       "      <td>M41-Diagnoses_main_ICD10_M41_Scoliosis</td>\n",
       "      <td>101800</td>\n",
       "      <td>188830</td>\n",
       "      <td>gene</td>\n",
       "      <td>5573</td>\n",
       "      <td>PRKAR1A</td>\n",
       "      <td>ENSG00000108946</td>\n",
       "    </tr>\n",
       "    <tr>\n",
       "      <th>1</th>\n",
       "      <td>M41-Diagnoses_main_ICD10_M41_Scoliosis</td>\n",
       "      <td>102500</td>\n",
       "      <td>600275</td>\n",
       "      <td>gene</td>\n",
       "      <td>4853</td>\n",
       "      <td>NOTCH2</td>\n",
       "      <td>ENSG00000134250</td>\n",
       "    </tr>\n",
       "    <tr>\n",
       "      <th>2</th>\n",
       "      <td>M41-Diagnoses_main_ICD10_M41_Scoliosis</td>\n",
       "      <td>105830</td>\n",
       "      <td>601623</td>\n",
       "      <td>gene</td>\n",
       "      <td>7337</td>\n",
       "      <td>UBE3A</td>\n",
       "      <td>ENSG00000114062</td>\n",
       "    </tr>\n",
       "    <tr>\n",
       "      <th>3</th>\n",
       "      <td>M41-Diagnoses_main_ICD10_M41_Scoliosis</td>\n",
       "      <td>108120</td>\n",
       "      <td>190990</td>\n",
       "      <td>gene</td>\n",
       "      <td>7169</td>\n",
       "      <td>TPM2</td>\n",
       "      <td>ENSG00000198467</td>\n",
       "    </tr>\n",
       "    <tr>\n",
       "      <th>4</th>\n",
       "      <td>M41-Diagnoses_main_ICD10_M41_Scoliosis</td>\n",
       "      <td>108145</td>\n",
       "      <td>613629</td>\n",
       "      <td>gene</td>\n",
       "      <td>63895</td>\n",
       "      <td>PIEZO2</td>\n",
       "      <td>ENSG00000154864</td>\n",
       "    </tr>\n",
       "  </tbody>\n",
       "</table>\n",
       "</div>"
      ],
      "text/plain": [
       "                                    trait  pheno_mim     mim entry_type  \\\n",
       "0  M41-Diagnoses_main_ICD10_M41_Scoliosis     101800  188830       gene   \n",
       "1  M41-Diagnoses_main_ICD10_M41_Scoliosis     102500  600275       gene   \n",
       "2  M41-Diagnoses_main_ICD10_M41_Scoliosis     105830  601623       gene   \n",
       "3  M41-Diagnoses_main_ICD10_M41_Scoliosis     108120  190990       gene   \n",
       "4  M41-Diagnoses_main_ICD10_M41_Scoliosis     108145  613629       gene   \n",
       "\n",
       "   entrez_gene_id approved_gene_symbol  ensembl_gene_id  \n",
       "0            5573              PRKAR1A  ENSG00000108946  \n",
       "1            4853               NOTCH2  ENSG00000134250  \n",
       "2            7337                UBE3A  ENSG00000114062  \n",
       "3            7169                 TPM2  ENSG00000198467  \n",
       "4           63895               PIEZO2  ENSG00000154864  "
      ]
     },
     "execution_count": 29,
     "metadata": {},
     "output_type": "execute_result"
    }
   ],
   "source": [
    "omim_silver_standard.head()"
   ]
  },
  {
   "cell_type": "markdown",
   "metadata": {},
   "source": [
    "# Create PrediXcan classifier table"
   ]
  },
  {
   "cell_type": "code",
   "execution_count": 30,
   "metadata": {},
   "outputs": [],
   "source": [
    "_tmp = omim_silver_standard[['trait', 'ensembl_gene_id']]\n",
    "ukb_traits_common = _tmp['trait'].unique()\n",
    "\n",
    "omim_true_classes = _tmp[['trait', 'ensembl_gene_id']].drop_duplicates()\n",
    "omim_true_classes = omim_true_classes.assign(omim_value=1)\n",
    "omim_true_classes = omim_true_classes.set_index(['trait', 'ensembl_gene_id'])"
   ]
  },
  {
   "cell_type": "code",
   "execution_count": 31,
   "metadata": {},
   "outputs": [
    {
     "data": {
      "text/plain": [
       "107"
      ]
     },
     "execution_count": 31,
     "metadata": {},
     "output_type": "execute_result"
    }
   ],
   "source": [
    "len(ukb_traits_common)"
   ]
  },
  {
   "cell_type": "code",
   "execution_count": 32,
   "metadata": {},
   "outputs": [
    {
     "data": {
      "text/plain": [
       "(7046, 1)"
      ]
     },
     "execution_count": 32,
     "metadata": {},
     "output_type": "execute_result"
    }
   ],
   "source": [
    "omim_true_classes.shape"
   ]
  },
  {
   "cell_type": "code",
   "execution_count": 33,
   "metadata": {},
   "outputs": [
    {
     "data": {
      "text/html": [
       "<div>\n",
       "<style scoped>\n",
       "    .dataframe tbody tr th:only-of-type {\n",
       "        vertical-align: middle;\n",
       "    }\n",
       "\n",
       "    .dataframe tbody tr th {\n",
       "        vertical-align: top;\n",
       "    }\n",
       "\n",
       "    .dataframe thead th {\n",
       "        text-align: right;\n",
       "    }\n",
       "</style>\n",
       "<table border=\"1\" class=\"dataframe\">\n",
       "  <thead>\n",
       "    <tr style=\"text-align: right;\">\n",
       "      <th></th>\n",
       "      <th></th>\n",
       "      <th>omim_value</th>\n",
       "    </tr>\n",
       "    <tr>\n",
       "      <th>trait</th>\n",
       "      <th>ensembl_gene_id</th>\n",
       "      <th></th>\n",
       "    </tr>\n",
       "  </thead>\n",
       "  <tbody>\n",
       "    <tr>\n",
       "      <th rowspan=\"5\" valign=\"top\">M41-Diagnoses_main_ICD10_M41_Scoliosis</th>\n",
       "      <th>ENSG00000108946</th>\n",
       "      <td>1</td>\n",
       "    </tr>\n",
       "    <tr>\n",
       "      <th>ENSG00000134250</th>\n",
       "      <td>1</td>\n",
       "    </tr>\n",
       "    <tr>\n",
       "      <th>ENSG00000114062</th>\n",
       "      <td>1</td>\n",
       "    </tr>\n",
       "    <tr>\n",
       "      <th>ENSG00000198467</th>\n",
       "      <td>1</td>\n",
       "    </tr>\n",
       "    <tr>\n",
       "      <th>ENSG00000154864</th>\n",
       "      <td>1</td>\n",
       "    </tr>\n",
       "  </tbody>\n",
       "</table>\n",
       "</div>"
      ],
      "text/plain": [
       "                                                        omim_value\n",
       "trait                                  ensembl_gene_id            \n",
       "M41-Diagnoses_main_ICD10_M41_Scoliosis ENSG00000108946           1\n",
       "                                       ENSG00000134250           1\n",
       "                                       ENSG00000114062           1\n",
       "                                       ENSG00000198467           1\n",
       "                                       ENSG00000154864           1"
      ]
     },
     "execution_count": 33,
     "metadata": {},
     "output_type": "execute_result"
    }
   ],
   "source": [
    "omim_true_classes.head()"
   ]
  },
  {
   "cell_type": "code",
   "execution_count": 34,
   "metadata": {},
   "outputs": [
    {
     "data": {
      "text/plain": [
       "107"
      ]
     },
     "execution_count": 34,
     "metadata": {},
     "output_type": "execute_result"
    }
   ],
   "source": [
    "len(ukb_traits_common)"
   ]
  },
  {
   "cell_type": "code",
   "execution_count": 35,
   "metadata": {},
   "outputs": [],
   "source": [
    "index_tuples = []\n",
    "\n",
    "for t in ukb_traits_common:\n",
    "    t_code = Trait(t).trait_code\n",
    "    if t_code not in gwas2genes_results:\n",
    "        continue\n",
    "    \n",
    "    for g in gwas2genes_results[t_code]:\n",
    "        index_tuples.append((t, g))"
   ]
  },
  {
   "cell_type": "code",
   "execution_count": 36,
   "metadata": {},
   "outputs": [
    {
     "data": {
      "text/plain": [
       "19119"
      ]
     },
     "execution_count": 36,
     "metadata": {},
     "output_type": "execute_result"
    }
   ],
   "source": [
    "len(index_tuples)"
   ]
  },
  {
   "cell_type": "code",
   "execution_count": 37,
   "metadata": {},
   "outputs": [
    {
     "data": {
      "text/plain": [
       "[('M41-Diagnoses_main_ICD10_M41_Scoliosis', 'ENSG00000012504'),\n",
       " ('M41-Diagnoses_main_ICD10_M41_Scoliosis', 'ENSG00000075089'),\n",
       " ('M41-Diagnoses_main_ICD10_M41_Scoliosis', 'ENSG00000075336'),\n",
       " ('M41-Diagnoses_main_ICD10_M41_Scoliosis', 'ENSG00000078401'),\n",
       " ('M41-Diagnoses_main_ICD10_M41_Scoliosis', 'ENSG00000090263')]"
      ]
     },
     "execution_count": 37,
     "metadata": {},
     "output_type": "execute_result"
    }
   ],
   "source": [
    "index_tuples[:5]"
   ]
  },
  {
   "cell_type": "code",
   "execution_count": 38,
   "metadata": {},
   "outputs": [],
   "source": [
    "classifier_index = pd.MultiIndex.from_tuples(\n",
    "    index_tuples,\n",
    "    names=['ukb_efo', 'gene']\n",
    ")"
   ]
  },
  {
   "cell_type": "code",
   "execution_count": 39,
   "metadata": {},
   "outputs": [
    {
     "data": {
      "text/plain": [
       "9463"
      ]
     },
     "execution_count": 39,
     "metadata": {},
     "output_type": "execute_result"
    }
   ],
   "source": [
    "len(gwas2gene_all_genes)"
   ]
  },
  {
   "cell_type": "code",
   "execution_count": 40,
   "metadata": {},
   "outputs": [
    {
     "data": {
      "text/plain": [
       "(19119,)"
      ]
     },
     "execution_count": 40,
     "metadata": {},
     "output_type": "execute_result"
    }
   ],
   "source": [
    "classifier_index.shape"
   ]
  },
  {
   "cell_type": "code",
   "execution_count": 41,
   "metadata": {},
   "outputs": [],
   "source": [
    "predixcan_classifier_df = pd.DataFrame(index=classifier_index, columns=['score', 'predicted_class', 'true_class'])"
   ]
  },
  {
   "cell_type": "code",
   "execution_count": 42,
   "metadata": {},
   "outputs": [],
   "source": [
    "predixcan_classifier_df = predixcan_classifier_df.sort_index()"
   ]
  },
  {
   "cell_type": "code",
   "execution_count": 43,
   "metadata": {},
   "outputs": [
    {
     "data": {
      "text/plain": [
       "(19119, 3)"
      ]
     },
     "execution_count": 43,
     "metadata": {},
     "output_type": "execute_result"
    }
   ],
   "source": [
    "predixcan_classifier_df.shape"
   ]
  },
  {
   "cell_type": "code",
   "execution_count": 44,
   "metadata": {},
   "outputs": [],
   "source": [
    "predixcan_classifier_df['true_class'] = 0"
   ]
  },
  {
   "cell_type": "code",
   "execution_count": 45,
   "metadata": {},
   "outputs": [
    {
     "data": {
      "text/html": [
       "<div>\n",
       "<style scoped>\n",
       "    .dataframe tbody tr th:only-of-type {\n",
       "        vertical-align: middle;\n",
       "    }\n",
       "\n",
       "    .dataframe tbody tr th {\n",
       "        vertical-align: top;\n",
       "    }\n",
       "\n",
       "    .dataframe thead th {\n",
       "        text-align: right;\n",
       "    }\n",
       "</style>\n",
       "<table border=\"1\" class=\"dataframe\">\n",
       "  <thead>\n",
       "    <tr style=\"text-align: right;\">\n",
       "      <th></th>\n",
       "      <th></th>\n",
       "      <th>score</th>\n",
       "      <th>predicted_class</th>\n",
       "      <th>true_class</th>\n",
       "    </tr>\n",
       "    <tr>\n",
       "      <th>ukb_efo</th>\n",
       "      <th>gene</th>\n",
       "      <th></th>\n",
       "      <th></th>\n",
       "      <th></th>\n",
       "    </tr>\n",
       "  </thead>\n",
       "  <tbody>\n",
       "    <tr>\n",
       "      <th rowspan=\"5\" valign=\"top\">1200-Sleeplessness_insomnia</th>\n",
       "      <th>ENSG00000001617</th>\n",
       "      <td>NaN</td>\n",
       "      <td>NaN</td>\n",
       "      <td>0</td>\n",
       "    </tr>\n",
       "    <tr>\n",
       "      <th>ENSG00000003756</th>\n",
       "      <td>NaN</td>\n",
       "      <td>NaN</td>\n",
       "      <td>0</td>\n",
       "    </tr>\n",
       "    <tr>\n",
       "      <th>ENSG00000004534</th>\n",
       "      <td>NaN</td>\n",
       "      <td>NaN</td>\n",
       "      <td>0</td>\n",
       "    </tr>\n",
       "    <tr>\n",
       "      <th>ENSG00000004838</th>\n",
       "      <td>NaN</td>\n",
       "      <td>NaN</td>\n",
       "      <td>0</td>\n",
       "    </tr>\n",
       "    <tr>\n",
       "      <th>ENSG00000004897</th>\n",
       "      <td>NaN</td>\n",
       "      <td>NaN</td>\n",
       "      <td>0</td>\n",
       "    </tr>\n",
       "  </tbody>\n",
       "</table>\n",
       "</div>"
      ],
      "text/plain": [
       "                                            score predicted_class  true_class\n",
       "ukb_efo                     gene                                             \n",
       "1200-Sleeplessness_insomnia ENSG00000001617   NaN             NaN           0\n",
       "                            ENSG00000003756   NaN             NaN           0\n",
       "                            ENSG00000004534   NaN             NaN           0\n",
       "                            ENSG00000004838   NaN             NaN           0\n",
       "                            ENSG00000004897   NaN             NaN           0"
      ]
     },
     "execution_count": 45,
     "metadata": {},
     "output_type": "execute_result"
    }
   ],
   "source": [
    "predixcan_classifier_df.head()"
   ]
  },
  {
   "cell_type": "code",
   "execution_count": 46,
   "metadata": {},
   "outputs": [
    {
     "data": {
      "text/plain": [
       "(7046,)"
      ]
     },
     "metadata": {},
     "output_type": "display_data"
    },
    {
     "data": {
      "text/plain": [
       "trait                                   ensembl_gene_id\n",
       "M41-Diagnoses_main_ICD10_M41_Scoliosis  ENSG00000108946    1\n",
       "                                        ENSG00000134250    1\n",
       "                                        ENSG00000114062    1\n",
       "                                        ENSG00000198467    1\n",
       "                                        ENSG00000154864    1\n",
       "Name: omim_value, dtype: int64"
      ]
     },
     "metadata": {},
     "output_type": "display_data"
    }
   ],
   "source": [
    "true_classes = omim_true_classes.squeeze()\n",
    "display(true_classes.shape)\n",
    "display(true_classes.head())"
   ]
  },
  {
   "cell_type": "code",
   "execution_count": 47,
   "metadata": {},
   "outputs": [],
   "source": [
    "predixcan_classifier_df.loc[predixcan_classifier_df.index.intersection(true_classes.index), 'true_class'] = 1"
   ]
  },
  {
   "cell_type": "code",
   "execution_count": 48,
   "metadata": {},
   "outputs": [],
   "source": [
    "assert predixcan_classifier_df['true_class'].isna().sum() == 0"
   ]
  },
  {
   "cell_type": "code",
   "execution_count": 49,
   "metadata": {},
   "outputs": [
    {
     "data": {
      "text/html": [
       "<div>\n",
       "<style scoped>\n",
       "    .dataframe tbody tr th:only-of-type {\n",
       "        vertical-align: middle;\n",
       "    }\n",
       "\n",
       "    .dataframe tbody tr th {\n",
       "        vertical-align: top;\n",
       "    }\n",
       "\n",
       "    .dataframe thead th {\n",
       "        text-align: right;\n",
       "    }\n",
       "</style>\n",
       "<table border=\"1\" class=\"dataframe\">\n",
       "  <thead>\n",
       "    <tr style=\"text-align: right;\">\n",
       "      <th></th>\n",
       "      <th>score</th>\n",
       "      <th>predicted_class</th>\n",
       "      <th>true_class</th>\n",
       "    </tr>\n",
       "    <tr>\n",
       "      <th>gene</th>\n",
       "      <th></th>\n",
       "      <th></th>\n",
       "      <th></th>\n",
       "    </tr>\n",
       "  </thead>\n",
       "  <tbody>\n",
       "    <tr>\n",
       "      <th>ENSG00000012504</th>\n",
       "      <td>NaN</td>\n",
       "      <td>NaN</td>\n",
       "      <td>0</td>\n",
       "    </tr>\n",
       "    <tr>\n",
       "      <th>ENSG00000075089</th>\n",
       "      <td>NaN</td>\n",
       "      <td>NaN</td>\n",
       "      <td>0</td>\n",
       "    </tr>\n",
       "    <tr>\n",
       "      <th>ENSG00000075336</th>\n",
       "      <td>NaN</td>\n",
       "      <td>NaN</td>\n",
       "      <td>0</td>\n",
       "    </tr>\n",
       "    <tr>\n",
       "      <th>ENSG00000078401</th>\n",
       "      <td>NaN</td>\n",
       "      <td>NaN</td>\n",
       "      <td>0</td>\n",
       "    </tr>\n",
       "    <tr>\n",
       "      <th>ENSG00000090263</th>\n",
       "      <td>NaN</td>\n",
       "      <td>NaN</td>\n",
       "      <td>0</td>\n",
       "    </tr>\n",
       "  </tbody>\n",
       "</table>\n",
       "</div>"
      ],
      "text/plain": [
       "                score predicted_class  true_class\n",
       "gene                                             \n",
       "ENSG00000012504   NaN             NaN           0\n",
       "ENSG00000075089   NaN             NaN           0\n",
       "ENSG00000075336   NaN             NaN           0\n",
       "ENSG00000078401   NaN             NaN           0\n",
       "ENSG00000090263   NaN             NaN           0"
      ]
     },
     "execution_count": 49,
     "metadata": {},
     "output_type": "execute_result"
    }
   ],
   "source": [
    "# some testing\n",
    "predixcan_classifier_df.loc[('M41-Diagnoses_main_ICD10_M41_Scoliosis',)].head()"
   ]
  },
  {
   "cell_type": "code",
   "execution_count": 50,
   "metadata": {},
   "outputs": [
    {
     "data": {
      "text/plain": [
       "1"
      ]
     },
     "execution_count": 50,
     "metadata": {},
     "output_type": "execute_result"
    }
   ],
   "source": [
    "true_classes.loc[('M41-Diagnoses_main_ICD10_M41_Scoliosis', 'ENSG00000112234')]"
   ]
  },
  {
   "cell_type": "code",
   "execution_count": 51,
   "metadata": {},
   "outputs": [
    {
     "data": {
      "text/plain": [
       "True"
      ]
     },
     "execution_count": 51,
     "metadata": {},
     "output_type": "execute_result"
    }
   ],
   "source": [
    "'ENSG00000090263' not in true_classes.loc['M41-Diagnoses_main_ICD10_M41_Scoliosis'].index"
   ]
  },
  {
   "cell_type": "code",
   "execution_count": 52,
   "metadata": {},
   "outputs": [],
   "source": [
    "assert predixcan_classifier_df.loc[('M41-Diagnoses_main_ICD10_M41_Scoliosis', 'ENSG00000112234'), 'true_class'] == 1.0\n",
    "assert predixcan_classifier_df.loc[('M41-Diagnoses_main_ICD10_M41_Scoliosis', 'ENSG00000090263'), 'true_class'] == 0.0"
   ]
  },
  {
   "cell_type": "code",
   "execution_count": 53,
   "metadata": {},
   "outputs": [
    {
     "data": {
      "text/plain": [
       "9463"
      ]
     },
     "execution_count": 53,
     "metadata": {},
     "output_type": "execute_result"
    }
   ],
   "source": [
    "len(gwas2gene_all_genes)"
   ]
  },
  {
   "cell_type": "code",
   "execution_count": 54,
   "metadata": {},
   "outputs": [
    {
     "name": "stdout",
     "output_type": "stream",
     "text": [
      "M13\n",
      "I95\n",
      "I71\n",
      "20002_1264\n",
      "20002_1081\n",
      "22130\n",
      "C80\n",
      "20002_1538\n"
     ]
    }
   ],
   "source": [
    "# score\n",
    "df_score = pd.Series(index=classifier_index)\n",
    "\n",
    "for trait in ukb_traits_common:\n",
    "    trait_code = Trait(trait).trait_code\n",
    "    if trait_code not in gwas2genes_results:\n",
    "        print(trait_code)\n",
    "        continue\n",
    "    trait_genes = gwas2genes_results[trait_code]\n",
    "    scores = spredixcan_genes_associations.loc[trait_genes, trait]\n",
    "    df_score.loc[trait] = scores.values"
   ]
  },
  {
   "cell_type": "code",
   "execution_count": 55,
   "metadata": {},
   "outputs": [],
   "source": [
    "# some testing\n",
    "df_score = df_score.dropna().sort_index()\n",
    "assert df_score.isna().sum().sum() == 0"
   ]
  },
  {
   "cell_type": "code",
   "execution_count": 56,
   "metadata": {},
   "outputs": [
    {
     "data": {
      "text/plain": [
       "ukb_efo                      gene           \n",
       "1200-Sleeplessness_insomnia  ENSG00000001617    5.986574\n",
       "                             ENSG00000003756    5.540858\n",
       "                             ENSG00000004534    5.270682\n",
       "                             ENSG00000004838    1.168578\n",
       "                             ENSG00000004897    0.042414\n",
       "dtype: float64"
      ]
     },
     "execution_count": 56,
     "metadata": {},
     "output_type": "execute_result"
    }
   ],
   "source": [
    "df_score.head()"
   ]
  },
  {
   "cell_type": "code",
   "execution_count": 57,
   "metadata": {},
   "outputs": [],
   "source": [
    "# some testing\n",
    "_gene, _trait = ('ENSG00000090263', 'M41-Diagnoses_main_ICD10_M41_Scoliosis')\n",
    "assert spredixcan_genes_associations.loc[_gene, _trait] == df_score.loc[_trait, _gene]"
   ]
  },
  {
   "cell_type": "code",
   "execution_count": 58,
   "metadata": {},
   "outputs": [],
   "source": [
    "_gene, _trait = ('ENSG00000070061', 'O14-Diagnoses_main_ICD10_O14_Gestational_pregnancyinduced_hypertension_with_significant_proteinuria')\n",
    "assert spredixcan_genes_associations.loc[_gene, _trait] == df_score.loc[_trait, _gene]"
   ]
  },
  {
   "cell_type": "code",
   "execution_count": 59,
   "metadata": {},
   "outputs": [
    {
     "data": {
      "text/plain": [
       "(19119,)"
      ]
     },
     "execution_count": 59,
     "metadata": {},
     "output_type": "execute_result"
    }
   ],
   "source": [
    "df_score.shape"
   ]
  },
  {
   "cell_type": "code",
   "execution_count": 60,
   "metadata": {},
   "outputs": [
    {
     "data": {
      "text/plain": [
       "ukb_efo                      gene           \n",
       "1200-Sleeplessness_insomnia  ENSG00000001617    5.986574\n",
       "                             ENSG00000003756    5.540858\n",
       "                             ENSG00000004534    5.270682\n",
       "                             ENSG00000004838    1.168578\n",
       "                             ENSG00000004897    0.042414\n",
       "dtype: float64"
      ]
     },
     "execution_count": 60,
     "metadata": {},
     "output_type": "execute_result"
    }
   ],
   "source": [
    "df_score.head()"
   ]
  },
  {
   "cell_type": "code",
   "execution_count": 61,
   "metadata": {},
   "outputs": [
    {
     "data": {
      "text/plain": [
       "9.034959836740552e-05"
      ]
     },
     "execution_count": 61,
     "metadata": {},
     "output_type": "execute_result"
    }
   ],
   "source": [
    "df_score.min()"
   ]
  },
  {
   "cell_type": "code",
   "execution_count": 62,
   "metadata": {},
   "outputs": [
    {
     "data": {
      "text/plain": [
       "40.0"
      ]
     },
     "execution_count": 62,
     "metadata": {},
     "output_type": "execute_result"
    }
   ],
   "source": [
    "df_score.max()"
   ]
  },
  {
   "cell_type": "code",
   "execution_count": 63,
   "metadata": {},
   "outputs": [],
   "source": [
    "predixcan_classifier_df = predixcan_classifier_df.assign(score=df_score)"
   ]
  },
  {
   "cell_type": "code",
   "execution_count": 64,
   "metadata": {},
   "outputs": [],
   "source": [
    "assert not predixcan_classifier_df['score'].isna().any()"
   ]
  },
  {
   "cell_type": "code",
   "execution_count": 65,
   "metadata": {},
   "outputs": [],
   "source": [
    "from scipy import stats"
   ]
  },
  {
   "cell_type": "code",
   "execution_count": 66,
   "metadata": {},
   "outputs": [
    {
     "data": {
      "text/plain": [
       "9463"
      ]
     },
     "metadata": {},
     "output_type": "display_data"
    },
    {
     "data": {
      "text/plain": [
       "107"
      ]
     },
     "metadata": {},
     "output_type": "display_data"
    },
    {
     "data": {
      "text/plain": [
       "1012541"
      ]
     },
     "metadata": {},
     "output_type": "display_data"
    },
    {
     "data": {
      "text/plain": [
       "4.938071643518633e-08"
      ]
     },
     "metadata": {},
     "output_type": "display_data"
    },
    {
     "data": {
      "text/plain": [
       "5.453526019972858"
      ]
     },
     "metadata": {},
     "output_type": "display_data"
    }
   ],
   "source": [
    "_n_genes = len(gwas2gene_all_genes)\n",
    "display(_n_genes)\n",
    "\n",
    "_n_ukb_traits = len(ukb_traits_mapped)\n",
    "display(_n_ukb_traits)\n",
    "\n",
    "display(_n_genes * _n_ukb_traits)\n",
    "\n",
    "PVALUE_THRESHOLD = (0.05 / (_n_genes * _n_ukb_traits))\n",
    "display(PVALUE_THRESHOLD)\n",
    "\n",
    "ZSCORE_THRESHOLD = np.abs(stats.norm.ppf(PVALUE_THRESHOLD / 2))\n",
    "display(ZSCORE_THRESHOLD)"
   ]
  },
  {
   "cell_type": "code",
   "execution_count": 67,
   "metadata": {},
   "outputs": [],
   "source": [
    "predixcan_classifier_df = predixcan_classifier_df.assign(predicted_class=(predixcan_classifier_df['score'] > ZSCORE_THRESHOLD).astype(int))"
   ]
  },
  {
   "cell_type": "code",
   "execution_count": 68,
   "metadata": {},
   "outputs": [
    {
     "data": {
      "text/plain": [
       "(19119, 3)"
      ]
     },
     "execution_count": 68,
     "metadata": {},
     "output_type": "execute_result"
    }
   ],
   "source": [
    "predixcan_classifier_df.shape"
   ]
  },
  {
   "cell_type": "code",
   "execution_count": 69,
   "metadata": {},
   "outputs": [
    {
     "data": {
      "text/html": [
       "<div>\n",
       "<style scoped>\n",
       "    .dataframe tbody tr th:only-of-type {\n",
       "        vertical-align: middle;\n",
       "    }\n",
       "\n",
       "    .dataframe tbody tr th {\n",
       "        vertical-align: top;\n",
       "    }\n",
       "\n",
       "    .dataframe thead th {\n",
       "        text-align: right;\n",
       "    }\n",
       "</style>\n",
       "<table border=\"1\" class=\"dataframe\">\n",
       "  <thead>\n",
       "    <tr style=\"text-align: right;\">\n",
       "      <th></th>\n",
       "      <th></th>\n",
       "      <th>score</th>\n",
       "      <th>predicted_class</th>\n",
       "      <th>true_class</th>\n",
       "    </tr>\n",
       "    <tr>\n",
       "      <th>ukb_efo</th>\n",
       "      <th>gene</th>\n",
       "      <th></th>\n",
       "      <th></th>\n",
       "      <th></th>\n",
       "    </tr>\n",
       "  </thead>\n",
       "  <tbody>\n",
       "    <tr>\n",
       "      <th rowspan=\"5\" valign=\"top\">1200-Sleeplessness_insomnia</th>\n",
       "      <th>ENSG00000001617</th>\n",
       "      <td>5.986574</td>\n",
       "      <td>1</td>\n",
       "      <td>0</td>\n",
       "    </tr>\n",
       "    <tr>\n",
       "      <th>ENSG00000003756</th>\n",
       "      <td>5.540858</td>\n",
       "      <td>1</td>\n",
       "      <td>0</td>\n",
       "    </tr>\n",
       "    <tr>\n",
       "      <th>ENSG00000004534</th>\n",
       "      <td>5.270682</td>\n",
       "      <td>0</td>\n",
       "      <td>0</td>\n",
       "    </tr>\n",
       "    <tr>\n",
       "      <th>ENSG00000004838</th>\n",
       "      <td>1.168578</td>\n",
       "      <td>0</td>\n",
       "      <td>0</td>\n",
       "    </tr>\n",
       "    <tr>\n",
       "      <th>ENSG00000004897</th>\n",
       "      <td>0.042414</td>\n",
       "      <td>0</td>\n",
       "      <td>0</td>\n",
       "    </tr>\n",
       "  </tbody>\n",
       "</table>\n",
       "</div>"
      ],
      "text/plain": [
       "                                                score  predicted_class  \\\n",
       "ukb_efo                     gene                                         \n",
       "1200-Sleeplessness_insomnia ENSG00000001617  5.986574                1   \n",
       "                            ENSG00000003756  5.540858                1   \n",
       "                            ENSG00000004534  5.270682                0   \n",
       "                            ENSG00000004838  1.168578                0   \n",
       "                            ENSG00000004897  0.042414                0   \n",
       "\n",
       "                                             true_class  \n",
       "ukb_efo                     gene                         \n",
       "1200-Sleeplessness_insomnia ENSG00000001617           0  \n",
       "                            ENSG00000003756           0  \n",
       "                            ENSG00000004534           0  \n",
       "                            ENSG00000004838           0  \n",
       "                            ENSG00000004897           0  "
      ]
     },
     "execution_count": 69,
     "metadata": {},
     "output_type": "execute_result"
    }
   ],
   "source": [
    "predixcan_classifier_df.head()"
   ]
  },
  {
   "cell_type": "code",
   "execution_count": 70,
   "metadata": {},
   "outputs": [
    {
     "data": {
      "text/html": [
       "<div>\n",
       "<style scoped>\n",
       "    .dataframe tbody tr th:only-of-type {\n",
       "        vertical-align: middle;\n",
       "    }\n",
       "\n",
       "    .dataframe tbody tr th {\n",
       "        vertical-align: top;\n",
       "    }\n",
       "\n",
       "    .dataframe thead th {\n",
       "        text-align: right;\n",
       "    }\n",
       "</style>\n",
       "<table border=\"1\" class=\"dataframe\">\n",
       "  <thead>\n",
       "    <tr style=\"text-align: right;\">\n",
       "      <th></th>\n",
       "      <th>score</th>\n",
       "      <th>predicted_class</th>\n",
       "      <th>true_class</th>\n",
       "    </tr>\n",
       "    <tr>\n",
       "      <th>gene</th>\n",
       "      <th></th>\n",
       "      <th></th>\n",
       "      <th></th>\n",
       "    </tr>\n",
       "  </thead>\n",
       "  <tbody>\n",
       "    <tr>\n",
       "      <th>ENSG00000157764</th>\n",
       "      <td>0.258736</td>\n",
       "      <td>0</td>\n",
       "      <td>1</td>\n",
       "    </tr>\n",
       "    <tr>\n",
       "      <th>ENSG00000162769</th>\n",
       "      <td>0.086607</td>\n",
       "      <td>0</td>\n",
       "      <td>1</td>\n",
       "    </tr>\n",
       "    <tr>\n",
       "      <th>ENSG00000112234</th>\n",
       "      <td>0.270457</td>\n",
       "      <td>0</td>\n",
       "      <td>1</td>\n",
       "    </tr>\n",
       "    <tr>\n",
       "      <th>ENSG00000012504</th>\n",
       "      <td>0.643603</td>\n",
       "      <td>0</td>\n",
       "      <td>0</td>\n",
       "    </tr>\n",
       "    <tr>\n",
       "      <th>ENSG00000173208</th>\n",
       "      <td>0.162836</td>\n",
       "      <td>0</td>\n",
       "      <td>0</td>\n",
       "    </tr>\n",
       "  </tbody>\n",
       "</table>\n",
       "</div>"
      ],
      "text/plain": [
       "                    score  predicted_class  true_class\n",
       "gene                                                  \n",
       "ENSG00000157764  0.258736                0           1\n",
       "ENSG00000162769  0.086607                0           1\n",
       "ENSG00000112234  0.270457                0           1\n",
       "ENSG00000012504  0.643603                0           0\n",
       "ENSG00000173208  0.162836                0           0"
      ]
     },
     "execution_count": 70,
     "metadata": {},
     "output_type": "execute_result"
    }
   ],
   "source": [
    "predixcan_classifier_df.loc['M41-Diagnoses_main_ICD10_M41_Scoliosis'].sort_values('true_class', ascending=False).head()"
   ]
  },
  {
   "cell_type": "markdown",
   "metadata": {},
   "source": [
    "## Select genes per trait"
   ]
  },
  {
   "cell_type": "code",
   "execution_count": 71,
   "metadata": {},
   "outputs": [],
   "source": [
    "#selected_predixcan_classifier_df = predixcan_classifier_df.loc[predixcan_classifier_df.index.intersection(trait_genes_to_keep)]\n",
    "selected_predixcan_classifier_df = predixcan_classifier_df"
   ]
  },
  {
   "cell_type": "code",
   "execution_count": 72,
   "metadata": {},
   "outputs": [],
   "source": [
    "# some testing"
   ]
  },
  {
   "cell_type": "code",
   "execution_count": 73,
   "metadata": {},
   "outputs": [
    {
     "data": {
      "text/plain": [
       "(19119, 3)"
      ]
     },
     "execution_count": 73,
     "metadata": {},
     "output_type": "execute_result"
    }
   ],
   "source": [
    "selected_predixcan_classifier_df.shape"
   ]
  },
  {
   "cell_type": "code",
   "execution_count": 74,
   "metadata": {},
   "outputs": [
    {
     "data": {
      "text/html": [
       "<div>\n",
       "<style scoped>\n",
       "    .dataframe tbody tr th:only-of-type {\n",
       "        vertical-align: middle;\n",
       "    }\n",
       "\n",
       "    .dataframe tbody tr th {\n",
       "        vertical-align: top;\n",
       "    }\n",
       "\n",
       "    .dataframe thead th {\n",
       "        text-align: right;\n",
       "    }\n",
       "</style>\n",
       "<table border=\"1\" class=\"dataframe\">\n",
       "  <thead>\n",
       "    <tr style=\"text-align: right;\">\n",
       "      <th></th>\n",
       "      <th></th>\n",
       "      <th>score</th>\n",
       "      <th>predicted_class</th>\n",
       "      <th>true_class</th>\n",
       "    </tr>\n",
       "    <tr>\n",
       "      <th>ukb_efo</th>\n",
       "      <th>gene</th>\n",
       "      <th></th>\n",
       "      <th></th>\n",
       "      <th></th>\n",
       "    </tr>\n",
       "  </thead>\n",
       "  <tbody>\n",
       "    <tr>\n",
       "      <th rowspan=\"5\" valign=\"top\">1200-Sleeplessness_insomnia</th>\n",
       "      <th>ENSG00000001617</th>\n",
       "      <td>5.986574</td>\n",
       "      <td>1</td>\n",
       "      <td>0</td>\n",
       "    </tr>\n",
       "    <tr>\n",
       "      <th>ENSG00000003756</th>\n",
       "      <td>5.540858</td>\n",
       "      <td>1</td>\n",
       "      <td>0</td>\n",
       "    </tr>\n",
       "    <tr>\n",
       "      <th>ENSG00000004534</th>\n",
       "      <td>5.270682</td>\n",
       "      <td>0</td>\n",
       "      <td>0</td>\n",
       "    </tr>\n",
       "    <tr>\n",
       "      <th>ENSG00000004838</th>\n",
       "      <td>1.168578</td>\n",
       "      <td>0</td>\n",
       "      <td>0</td>\n",
       "    </tr>\n",
       "    <tr>\n",
       "      <th>ENSG00000004897</th>\n",
       "      <td>0.042414</td>\n",
       "      <td>0</td>\n",
       "      <td>0</td>\n",
       "    </tr>\n",
       "  </tbody>\n",
       "</table>\n",
       "</div>"
      ],
      "text/plain": [
       "                                                score  predicted_class  \\\n",
       "ukb_efo                     gene                                         \n",
       "1200-Sleeplessness_insomnia ENSG00000001617  5.986574                1   \n",
       "                            ENSG00000003756  5.540858                1   \n",
       "                            ENSG00000004534  5.270682                0   \n",
       "                            ENSG00000004838  1.168578                0   \n",
       "                            ENSG00000004897  0.042414                0   \n",
       "\n",
       "                                             true_class  \n",
       "ukb_efo                     gene                         \n",
       "1200-Sleeplessness_insomnia ENSG00000001617           0  \n",
       "                            ENSG00000003756           0  \n",
       "                            ENSG00000004534           0  \n",
       "                            ENSG00000004838           0  \n",
       "                            ENSG00000004897           0  "
      ]
     },
     "execution_count": 74,
     "metadata": {},
     "output_type": "execute_result"
    }
   ],
   "source": [
    "selected_predixcan_classifier_df.head()"
   ]
  },
  {
   "cell_type": "code",
   "execution_count": 75,
   "metadata": {},
   "outputs": [
    {
     "data": {
      "text/html": [
       "<div>\n",
       "<style scoped>\n",
       "    .dataframe tbody tr th:only-of-type {\n",
       "        vertical-align: middle;\n",
       "    }\n",
       "\n",
       "    .dataframe tbody tr th {\n",
       "        vertical-align: top;\n",
       "    }\n",
       "\n",
       "    .dataframe thead th {\n",
       "        text-align: right;\n",
       "    }\n",
       "</style>\n",
       "<table border=\"1\" class=\"dataframe\">\n",
       "  <thead>\n",
       "    <tr style=\"text-align: right;\">\n",
       "      <th></th>\n",
       "      <th></th>\n",
       "      <th>score</th>\n",
       "      <th>predicted_class</th>\n",
       "      <th>true_class</th>\n",
       "    </tr>\n",
       "    <tr>\n",
       "      <th>ukb_efo</th>\n",
       "      <th>gene</th>\n",
       "      <th></th>\n",
       "      <th></th>\n",
       "      <th></th>\n",
       "    </tr>\n",
       "  </thead>\n",
       "  <tbody>\n",
       "    <tr>\n",
       "      <th>20002_1226-Noncancer_illness_code_selfreported_hypothyroidismmyxoedema</th>\n",
       "      <th>ENSG00000128699</th>\n",
       "      <td>0.636362</td>\n",
       "      <td>0</td>\n",
       "      <td>0</td>\n",
       "    </tr>\n",
       "    <tr>\n",
       "      <th rowspan=\"4\" valign=\"top\">20002_1461-Noncancer_illness_code_selfreported_inflammatory_bowel_disease</th>\n",
       "      <th>ENSG00000168505</th>\n",
       "      <td>1.407419</td>\n",
       "      <td>0</td>\n",
       "      <td>0</td>\n",
       "    </tr>\n",
       "    <tr>\n",
       "      <th>ENSG00000169372</th>\n",
       "      <td>0.469030</td>\n",
       "      <td>0</td>\n",
       "      <td>0</td>\n",
       "    </tr>\n",
       "    <tr>\n",
       "      <th>ENSG00000171940</th>\n",
       "      <td>0.889229</td>\n",
       "      <td>0</td>\n",
       "      <td>0</td>\n",
       "    </tr>\n",
       "    <tr>\n",
       "      <th>ENSG00000173598</th>\n",
       "      <td>0.589888</td>\n",
       "      <td>0</td>\n",
       "      <td>0</td>\n",
       "    </tr>\n",
       "  </tbody>\n",
       "</table>\n",
       "</div>"
      ],
      "text/plain": [
       "                                                                       score  \\\n",
       "ukb_efo                                            gene                        \n",
       "20002_1226-Noncancer_illness_code_selfreported_... ENSG00000128699  0.636362   \n",
       "20002_1461-Noncancer_illness_code_selfreported_... ENSG00000168505  1.407419   \n",
       "                                                   ENSG00000169372  0.469030   \n",
       "                                                   ENSG00000171940  0.889229   \n",
       "                                                   ENSG00000173598  0.589888   \n",
       "\n",
       "                                                                    predicted_class  \\\n",
       "ukb_efo                                            gene                               \n",
       "20002_1226-Noncancer_illness_code_selfreported_... ENSG00000128699                0   \n",
       "20002_1461-Noncancer_illness_code_selfreported_... ENSG00000168505                0   \n",
       "                                                   ENSG00000169372                0   \n",
       "                                                   ENSG00000171940                0   \n",
       "                                                   ENSG00000173598                0   \n",
       "\n",
       "                                                                    true_class  \n",
       "ukb_efo                                            gene                         \n",
       "20002_1226-Noncancer_illness_code_selfreported_... ENSG00000128699           0  \n",
       "20002_1461-Noncancer_illness_code_selfreported_... ENSG00000168505           0  \n",
       "                                                   ENSG00000169372           0  \n",
       "                                                   ENSG00000171940           0  \n",
       "                                                   ENSG00000173598           0  "
      ]
     },
     "execution_count": 75,
     "metadata": {},
     "output_type": "execute_result"
    }
   ],
   "source": [
    "selected_predixcan_classifier_df.sort_values('predicted_class').head()"
   ]
  },
  {
   "cell_type": "code",
   "execution_count": 76,
   "metadata": {},
   "outputs": [
    {
     "data": {
      "text/html": [
       "<div>\n",
       "<style scoped>\n",
       "    .dataframe tbody tr th:only-of-type {\n",
       "        vertical-align: middle;\n",
       "    }\n",
       "\n",
       "    .dataframe tbody tr th {\n",
       "        vertical-align: top;\n",
       "    }\n",
       "\n",
       "    .dataframe thead th {\n",
       "        text-align: right;\n",
       "    }\n",
       "</style>\n",
       "<table border=\"1\" class=\"dataframe\">\n",
       "  <thead>\n",
       "    <tr style=\"text-align: right;\">\n",
       "      <th></th>\n",
       "      <th></th>\n",
       "      <th>score</th>\n",
       "      <th>predicted_class</th>\n",
       "      <th>true_class</th>\n",
       "    </tr>\n",
       "    <tr>\n",
       "      <th>ukb_efo</th>\n",
       "      <th>gene</th>\n",
       "      <th></th>\n",
       "      <th></th>\n",
       "      <th></th>\n",
       "    </tr>\n",
       "  </thead>\n",
       "  <tbody>\n",
       "    <tr>\n",
       "      <th>1200-Sleeplessness_insomnia</th>\n",
       "      <th>ENSG00000001617</th>\n",
       "      <td>5.986574</td>\n",
       "      <td>1</td>\n",
       "      <td>0</td>\n",
       "    </tr>\n",
       "    <tr>\n",
       "      <th rowspan=\"4\" valign=\"top\">20002_1453-Noncancer_illness_code_selfreported_psoriasis</th>\n",
       "      <th>ENSG00000204618</th>\n",
       "      <td>7.450705</td>\n",
       "      <td>1</td>\n",
       "      <td>0</td>\n",
       "    </tr>\n",
       "    <tr>\n",
       "      <th>ENSG00000204632</th>\n",
       "      <td>12.074117</td>\n",
       "      <td>1</td>\n",
       "      <td>0</td>\n",
       "    </tr>\n",
       "    <tr>\n",
       "      <th>ENSG00000204644</th>\n",
       "      <td>8.480428</td>\n",
       "      <td>1</td>\n",
       "      <td>0</td>\n",
       "    </tr>\n",
       "    <tr>\n",
       "      <th>ENSG00000204655</th>\n",
       "      <td>7.722879</td>\n",
       "      <td>1</td>\n",
       "      <td>0</td>\n",
       "    </tr>\n",
       "  </tbody>\n",
       "</table>\n",
       "</div>"
      ],
      "text/plain": [
       "                                                                        score  \\\n",
       "ukb_efo                                            gene                         \n",
       "1200-Sleeplessness_insomnia                        ENSG00000001617   5.986574   \n",
       "20002_1453-Noncancer_illness_code_selfreported_... ENSG00000204618   7.450705   \n",
       "                                                   ENSG00000204632  12.074117   \n",
       "                                                   ENSG00000204644   8.480428   \n",
       "                                                   ENSG00000204655   7.722879   \n",
       "\n",
       "                                                                    predicted_class  \\\n",
       "ukb_efo                                            gene                               \n",
       "1200-Sleeplessness_insomnia                        ENSG00000001617                1   \n",
       "20002_1453-Noncancer_illness_code_selfreported_... ENSG00000204618                1   \n",
       "                                                   ENSG00000204632                1   \n",
       "                                                   ENSG00000204644                1   \n",
       "                                                   ENSG00000204655                1   \n",
       "\n",
       "                                                                    true_class  \n",
       "ukb_efo                                            gene                         \n",
       "1200-Sleeplessness_insomnia                        ENSG00000001617           0  \n",
       "20002_1453-Noncancer_illness_code_selfreported_... ENSG00000204618           0  \n",
       "                                                   ENSG00000204632           0  \n",
       "                                                   ENSG00000204644           0  \n",
       "                                                   ENSG00000204655           0  "
      ]
     },
     "execution_count": 76,
     "metadata": {},
     "output_type": "execute_result"
    }
   ],
   "source": [
    "selected_predixcan_classifier_df.sort_values('predicted_class', ascending=False).head()"
   ]
  },
  {
   "cell_type": "code",
   "execution_count": 77,
   "metadata": {},
   "outputs": [
    {
     "data": {
      "text/plain": [
       "(19119, 3)"
      ]
     },
     "metadata": {},
     "output_type": "display_data"
    },
    {
     "data": {
      "text/plain": [
       "(125, 3)"
      ]
     },
     "metadata": {},
     "output_type": "display_data"
    },
    {
     "data": {
      "text/html": [
       "<div>\n",
       "<style scoped>\n",
       "    .dataframe tbody tr th:only-of-type {\n",
       "        vertical-align: middle;\n",
       "    }\n",
       "\n",
       "    .dataframe tbody tr th {\n",
       "        vertical-align: top;\n",
       "    }\n",
       "\n",
       "    .dataframe thead th {\n",
       "        text-align: right;\n",
       "    }\n",
       "</style>\n",
       "<table border=\"1\" class=\"dataframe\">\n",
       "  <thead>\n",
       "    <tr style=\"text-align: right;\">\n",
       "      <th></th>\n",
       "      <th></th>\n",
       "      <th>score</th>\n",
       "      <th>predicted_class</th>\n",
       "      <th>true_class</th>\n",
       "    </tr>\n",
       "    <tr>\n",
       "      <th>ukb_efo</th>\n",
       "      <th>gene</th>\n",
       "      <th></th>\n",
       "      <th></th>\n",
       "      <th></th>\n",
       "    </tr>\n",
       "  </thead>\n",
       "  <tbody>\n",
       "    <tr>\n",
       "      <th rowspan=\"2\" valign=\"top\">R69-Diagnoses_main_ICD10_R69_Unknown_and_unspecified_causes_of_morbidity</th>\n",
       "      <th>ENSG00000068305</th>\n",
       "      <td>0.540877</td>\n",
       "      <td>0</td>\n",
       "      <td>1</td>\n",
       "    </tr>\n",
       "    <tr>\n",
       "      <th>ENSG00000140443</th>\n",
       "      <td>2.216935</td>\n",
       "      <td>0</td>\n",
       "      <td>1</td>\n",
       "    </tr>\n",
       "    <tr>\n",
       "      <th rowspan=\"2\" valign=\"top\">R40-Diagnoses_main_ICD10_R40_Somnolence_stupor_and_coma</th>\n",
       "      <th>ENSG00000133812</th>\n",
       "      <td>1.323981</td>\n",
       "      <td>0</td>\n",
       "      <td>1</td>\n",
       "    </tr>\n",
       "    <tr>\n",
       "      <th>ENSG00000183287</th>\n",
       "      <td>1.210377</td>\n",
       "      <td>0</td>\n",
       "      <td>1</td>\n",
       "    </tr>\n",
       "    <tr>\n",
       "      <th>N20-Diagnoses_main_ICD10_N20_Calculus_of_kidney_and_ureter</th>\n",
       "      <th>ENSG00000131183</th>\n",
       "      <td>6.246578</td>\n",
       "      <td>1</td>\n",
       "      <td>1</td>\n",
       "    </tr>\n",
       "  </tbody>\n",
       "</table>\n",
       "</div>"
      ],
      "text/plain": [
       "                                                                       score  \\\n",
       "ukb_efo                                            gene                        \n",
       "R69-Diagnoses_main_ICD10_R69_Unknown_and_unspec... ENSG00000068305  0.540877   \n",
       "                                                   ENSG00000140443  2.216935   \n",
       "R40-Diagnoses_main_ICD10_R40_Somnolence_stupor_... ENSG00000133812  1.323981   \n",
       "                                                   ENSG00000183287  1.210377   \n",
       "N20-Diagnoses_main_ICD10_N20_Calculus_of_kidney... ENSG00000131183  6.246578   \n",
       "\n",
       "                                                                    predicted_class  \\\n",
       "ukb_efo                                            gene                               \n",
       "R69-Diagnoses_main_ICD10_R69_Unknown_and_unspec... ENSG00000068305                0   \n",
       "                                                   ENSG00000140443                0   \n",
       "R40-Diagnoses_main_ICD10_R40_Somnolence_stupor_... ENSG00000133812                0   \n",
       "                                                   ENSG00000183287                0   \n",
       "N20-Diagnoses_main_ICD10_N20_Calculus_of_kidney... ENSG00000131183                1   \n",
       "\n",
       "                                                                    true_class  \n",
       "ukb_efo                                            gene                         \n",
       "R69-Diagnoses_main_ICD10_R69_Unknown_and_unspec... ENSG00000068305           1  \n",
       "                                                   ENSG00000140443           1  \n",
       "R40-Diagnoses_main_ICD10_R40_Somnolence_stupor_... ENSG00000133812           1  \n",
       "                                                   ENSG00000183287           1  \n",
       "N20-Diagnoses_main_ICD10_N20_Calculus_of_kidney... ENSG00000131183           1  "
      ]
     },
     "metadata": {},
     "output_type": "display_data"
    }
   ],
   "source": [
    "_tmp = selected_predixcan_classifier_df.sort_values(['true_class', 'ukb_efo'], ascending=False)\n",
    "display(_tmp.shape)\n",
    "display(_tmp[_tmp['true_class'] > 0].shape)\n",
    "display(_tmp[_tmp['true_class'] > 0].head())"
   ]
  },
  {
   "cell_type": "markdown",
   "metadata": {},
   "source": [
    "### Test classes"
   ]
  },
  {
   "cell_type": "code",
   "execution_count": 78,
   "metadata": {},
   "outputs": [
    {
     "data": {
      "text/plain": [
       "(99,)"
      ]
     },
     "execution_count": 78,
     "metadata": {},
     "output_type": "execute_result"
    }
   ],
   "source": [
    "selected_predixcan_classifier_df.index.get_level_values('ukb_efo').unique().shape"
   ]
  },
  {
   "cell_type": "code",
   "execution_count": 79,
   "metadata": {},
   "outputs": [
    {
     "data": {
      "text/plain": [
       "(9463,)"
      ]
     },
     "execution_count": 79,
     "metadata": {},
     "output_type": "execute_result"
    }
   ],
   "source": [
    "selected_predixcan_classifier_df.index.get_level_values('gene').unique().shape"
   ]
  },
  {
   "cell_type": "code",
   "execution_count": 80,
   "metadata": {},
   "outputs": [],
   "source": [
    "_pheno = 'N20-Diagnoses_main_ICD10_N20_Calculus_of_kidney_and_ureter'"
   ]
  },
  {
   "cell_type": "code",
   "execution_count": 81,
   "metadata": {},
   "outputs": [
    {
     "data": {
      "text/plain": [
       "array(['ENSG00000075891', 'ENSG00000130600', 'ENSG00000269821',\n",
       "       'ENSG00000129757', 'ENSG00000143473', 'ENSG00000275410',\n",
       "       'ENSG00000019186', 'ENSG00000134371', 'ENSG00000036828',\n",
       "       'ENSG00000088256', 'ENSG00000187091', 'ENSG00000122194',\n",
       "       'ENSG00000138592', 'ENSG00000040531', 'ENSG00000138079',\n",
       "       'ENSG00000021488', 'ENSG00000090402', 'ENSG00000131482',\n",
       "       'ENSG00000137700', 'ENSG00000164007', 'ENSG00000113946',\n",
       "       'ENSG00000116039', 'ENSG00000168000', 'ENSG00000123191',\n",
       "       'ENSG00000171365', 'ENSG00000165704', 'ENSG00000042753',\n",
       "       'ENSG00000075643', 'ENSG00000169692', 'ENSG00000109667',\n",
       "       'ENSG00000131183', 'ENSG00000109062', 'ENSG00000149257',\n",
       "       'ENSG00000198931', 'ENSG00000157388', 'ENSG00000167207',\n",
       "       'ENSG00000124827', 'ENSG00000134873'], dtype=object)"
      ]
     },
     "metadata": {},
     "output_type": "display_data"
    },
    {
     "data": {
      "text/plain": [
       "(38,)"
      ]
     },
     "metadata": {},
     "output_type": "display_data"
    }
   ],
   "source": [
    "_clinvar_asthma_genes = omim_silver_standard[omim_silver_standard['trait'] == _pheno]['ensembl_gene_id'].unique()\n",
    "display(_clinvar_asthma_genes)\n",
    "display(_clinvar_asthma_genes.shape)"
   ]
  },
  {
   "cell_type": "code",
   "execution_count": 82,
   "metadata": {},
   "outputs": [
    {
     "data": {
      "text/html": [
       "<div>\n",
       "<style scoped>\n",
       "    .dataframe tbody tr th:only-of-type {\n",
       "        vertical-align: middle;\n",
       "    }\n",
       "\n",
       "    .dataframe tbody tr th {\n",
       "        vertical-align: top;\n",
       "    }\n",
       "\n",
       "    .dataframe thead th {\n",
       "        text-align: right;\n",
       "    }\n",
       "</style>\n",
       "<table border=\"1\" class=\"dataframe\">\n",
       "  <thead>\n",
       "    <tr style=\"text-align: right;\">\n",
       "      <th></th>\n",
       "      <th>score</th>\n",
       "      <th>predicted_class</th>\n",
       "      <th>true_class</th>\n",
       "    </tr>\n",
       "  </thead>\n",
       "  <tbody>\n",
       "    <tr>\n",
       "      <th>ENSG00000131183</th>\n",
       "      <td>6.246578</td>\n",
       "      <td>1</td>\n",
       "      <td>1</td>\n",
       "    </tr>\n",
       "  </tbody>\n",
       "</table>\n",
       "</div>"
      ],
      "text/plain": [
       "                    score  predicted_class  true_class\n",
       "ENSG00000131183  6.246578                1           1"
      ]
     },
     "execution_count": 82,
     "metadata": {},
     "output_type": "execute_result"
    }
   ],
   "source": [
    "_tmp = selected_predixcan_classifier_df.loc[_pheno]\n",
    "_tmp.loc[_tmp.index.intersection(_clinvar_asthma_genes)]"
   ]
  },
  {
   "cell_type": "code",
   "execution_count": 83,
   "metadata": {},
   "outputs": [],
   "source": [
    "_predixcan_asthma_genes = selected_predixcan_classifier_df.loc[_pheno]"
   ]
  },
  {
   "cell_type": "code",
   "execution_count": 84,
   "metadata": {},
   "outputs": [
    {
     "data": {
      "text/html": [
       "<div>\n",
       "<style scoped>\n",
       "    .dataframe tbody tr th:only-of-type {\n",
       "        vertical-align: middle;\n",
       "    }\n",
       "\n",
       "    .dataframe tbody tr th {\n",
       "        vertical-align: top;\n",
       "    }\n",
       "\n",
       "    .dataframe thead th {\n",
       "        text-align: right;\n",
       "    }\n",
       "</style>\n",
       "<table border=\"1\" class=\"dataframe\">\n",
       "  <thead>\n",
       "    <tr style=\"text-align: right;\">\n",
       "      <th></th>\n",
       "      <th>score</th>\n",
       "      <th>predicted_class</th>\n",
       "      <th>true_class</th>\n",
       "    </tr>\n",
       "    <tr>\n",
       "      <th>gene</th>\n",
       "      <th></th>\n",
       "      <th></th>\n",
       "      <th></th>\n",
       "    </tr>\n",
       "  </thead>\n",
       "  <tbody>\n",
       "    <tr>\n",
       "      <th>ENSG00000005187</th>\n",
       "      <td>1.587926</td>\n",
       "      <td>0</td>\n",
       "      <td>0</td>\n",
       "    </tr>\n",
       "    <tr>\n",
       "      <th>ENSG00000005189</th>\n",
       "      <td>0.457434</td>\n",
       "      <td>0</td>\n",
       "      <td>0</td>\n",
       "    </tr>\n",
       "    <tr>\n",
       "      <th>ENSG00000011638</th>\n",
       "      <td>0.059849</td>\n",
       "      <td>0</td>\n",
       "      <td>0</td>\n",
       "    </tr>\n",
       "    <tr>\n",
       "      <th>ENSG00000027847</th>\n",
       "      <td>1.586332</td>\n",
       "      <td>0</td>\n",
       "      <td>0</td>\n",
       "    </tr>\n",
       "    <tr>\n",
       "      <th>ENSG00000048140</th>\n",
       "      <td>0.688334</td>\n",
       "      <td>0</td>\n",
       "      <td>0</td>\n",
       "    </tr>\n",
       "  </tbody>\n",
       "</table>\n",
       "</div>"
      ],
      "text/plain": [
       "                    score  predicted_class  true_class\n",
       "gene                                                  \n",
       "ENSG00000005187  1.587926                0           0\n",
       "ENSG00000005189  0.457434                0           0\n",
       "ENSG00000011638  0.059849                0           0\n",
       "ENSG00000027847  1.586332                0           0\n",
       "ENSG00000048140  0.688334                0           0"
      ]
     },
     "execution_count": 84,
     "metadata": {},
     "output_type": "execute_result"
    }
   ],
   "source": [
    "_predixcan_asthma_genes.head()"
   ]
  },
  {
   "cell_type": "code",
   "execution_count": 85,
   "metadata": {},
   "outputs": [
    {
     "data": {
      "text/plain": [
       "(19119, 3)"
      ]
     },
     "execution_count": 85,
     "metadata": {},
     "output_type": "execute_result"
    }
   ],
   "source": [
    "selected_predixcan_classifier_df.shape"
   ]
  },
  {
   "cell_type": "code",
   "execution_count": 86,
   "metadata": {},
   "outputs": [
    {
     "data": {
      "text/plain": [
       "0    17397\n",
       "1     1722\n",
       "Name: predicted_class, dtype: int64"
      ]
     },
     "execution_count": 86,
     "metadata": {},
     "output_type": "execute_result"
    }
   ],
   "source": [
    "selected_predixcan_classifier_df['predicted_class'].value_counts()"
   ]
  },
  {
   "cell_type": "code",
   "execution_count": 87,
   "metadata": {},
   "outputs": [
    {
     "data": {
      "text/plain": [
       "0    18994\n",
       "1      125\n",
       "Name: true_class, dtype: int64"
      ]
     },
     "execution_count": 87,
     "metadata": {},
     "output_type": "execute_result"
    }
   ],
   "source": [
    "selected_predixcan_classifier_df['true_class'].value_counts()"
   ]
  },
  {
   "cell_type": "code",
   "execution_count": 88,
   "metadata": {},
   "outputs": [
    {
     "data": {
      "text/html": [
       "<div>\n",
       "<style scoped>\n",
       "    .dataframe tbody tr th:only-of-type {\n",
       "        vertical-align: middle;\n",
       "    }\n",
       "\n",
       "    .dataframe tbody tr th {\n",
       "        vertical-align: top;\n",
       "    }\n",
       "\n",
       "    .dataframe thead th {\n",
       "        text-align: right;\n",
       "    }\n",
       "</style>\n",
       "<table border=\"1\" class=\"dataframe\">\n",
       "  <thead>\n",
       "    <tr style=\"text-align: right;\">\n",
       "      <th></th>\n",
       "      <th></th>\n",
       "      <th>score</th>\n",
       "      <th>predicted_class</th>\n",
       "      <th>true_class</th>\n",
       "    </tr>\n",
       "    <tr>\n",
       "      <th>ukb_efo</th>\n",
       "      <th>gene</th>\n",
       "      <th></th>\n",
       "      <th></th>\n",
       "      <th></th>\n",
       "    </tr>\n",
       "  </thead>\n",
       "  <tbody>\n",
       "    <tr>\n",
       "      <th>I25-Diagnoses_main_ICD10_I25_Chronic_ischaemic_heart_disease</th>\n",
       "      <th>ENSG00000185950</th>\n",
       "      <td>0.646109</td>\n",
       "      <td>0</td>\n",
       "      <td>1</td>\n",
       "    </tr>\n",
       "    <tr>\n",
       "      <th>22127-Doctor_diagnosed_asthma</th>\n",
       "      <th>ENSG00000232810</th>\n",
       "      <td>1.996019</td>\n",
       "      <td>0</td>\n",
       "      <td>1</td>\n",
       "    </tr>\n",
       "    <tr>\n",
       "      <th>20002_1065-Noncancer_illness_code_selfreported_hypertension</th>\n",
       "      <th>ENSG00000231852</th>\n",
       "      <td>7.628562</td>\n",
       "      <td>1</td>\n",
       "      <td>1</td>\n",
       "    </tr>\n",
       "    <tr>\n",
       "      <th>20002_1111-Noncancer_illness_code_selfreported_asthma</th>\n",
       "      <th>ENSG00000204539</th>\n",
       "      <td>11.715739</td>\n",
       "      <td>1</td>\n",
       "      <td>1</td>\n",
       "    </tr>\n",
       "    <tr>\n",
       "      <th>N20-Diagnoses_main_ICD10_N20_Calculus_of_kidney_and_ureter</th>\n",
       "      <th>ENSG00000131183</th>\n",
       "      <td>6.246578</td>\n",
       "      <td>1</td>\n",
       "      <td>1</td>\n",
       "    </tr>\n",
       "    <tr>\n",
       "      <th>20002_1197-Noncancer_illness_code_selfreported_kidney_stoneureter_stonebladder_stone</th>\n",
       "      <th>ENSG00000019186</th>\n",
       "      <td>0.973195</td>\n",
       "      <td>0</td>\n",
       "      <td>1</td>\n",
       "    </tr>\n",
       "    <tr>\n",
       "      <th>20002_1309-Noncancer_illness_code_selfreported_osteoporosis</th>\n",
       "      <th>ENSG00000162337</th>\n",
       "      <td>0.003963</td>\n",
       "      <td>0</td>\n",
       "      <td>1</td>\n",
       "    </tr>\n",
       "    <tr>\n",
       "      <th>20002_1381-Noncancer_illness_code_selfreported_systemic_lupus_erythematosissle</th>\n",
       "      <th>ENSG00000244731</th>\n",
       "      <td>8.850207</td>\n",
       "      <td>1</td>\n",
       "      <td>1</td>\n",
       "    </tr>\n",
       "    <tr>\n",
       "      <th>20002_1065-Noncancer_illness_code_selfreported_hypertension</th>\n",
       "      <th>ENSG00000184937</th>\n",
       "      <td>5.294412</td>\n",
       "      <td>0</td>\n",
       "      <td>1</td>\n",
       "    </tr>\n",
       "    <tr>\n",
       "      <th>I25-Diagnoses_main_ICD10_I25_Chronic_ischaemic_heart_disease</th>\n",
       "      <th>ENSG00000111252</th>\n",
       "      <td>3.635113</td>\n",
       "      <td>0</td>\n",
       "      <td>1</td>\n",
       "    </tr>\n",
       "    <tr>\n",
       "      <th>20002_1065-Noncancer_illness_code_selfreported_hypertension</th>\n",
       "      <th>ENSG00000111057</th>\n",
       "      <td>2.694539</td>\n",
       "      <td>0</td>\n",
       "      <td>1</td>\n",
       "    </tr>\n",
       "    <tr>\n",
       "      <th>20002_1111-Noncancer_illness_code_selfreported_asthma</th>\n",
       "      <th>ENSG00000143631</th>\n",
       "      <td>4.978256</td>\n",
       "      <td>0</td>\n",
       "      <td>1</td>\n",
       "    </tr>\n",
       "    <tr>\n",
       "      <th>20002_1226-Noncancer_illness_code_selfreported_hypothyroidismmyxoedema</th>\n",
       "      <th>ENSG00000163599</th>\n",
       "      <td>17.552316</td>\n",
       "      <td>1</td>\n",
       "      <td>1</td>\n",
       "    </tr>\n",
       "    <tr>\n",
       "      <th rowspan=\"2\" valign=\"top\">20002_1065-Noncancer_illness_code_selfreported_hypertension</th>\n",
       "      <th>ENSG00000111252</th>\n",
       "      <td>7.083274</td>\n",
       "      <td>1</td>\n",
       "      <td>1</td>\n",
       "    </tr>\n",
       "    <tr>\n",
       "      <th>ENSG00000141646</th>\n",
       "      <td>3.742410</td>\n",
       "      <td>0</td>\n",
       "      <td>1</td>\n",
       "    </tr>\n",
       "    <tr>\n",
       "      <th>I48-Diagnoses_main_ICD10_I48_Atrial_fibrillation_and_flutter</th>\n",
       "      <th>ENSG00000120457</th>\n",
       "      <td>4.816460</td>\n",
       "      <td>0</td>\n",
       "      <td>1</td>\n",
       "    </tr>\n",
       "    <tr>\n",
       "      <th>20002_1065-Noncancer_illness_code_selfreported_hypertension</th>\n",
       "      <th>ENSG00000243649</th>\n",
       "      <td>5.611773</td>\n",
       "      <td>1</td>\n",
       "      <td>1</td>\n",
       "    </tr>\n",
       "    <tr>\n",
       "      <th>20002_1309-Noncancer_illness_code_selfreported_osteoporosis</th>\n",
       "      <th>ENSG00000106483</th>\n",
       "      <td>4.220385</td>\n",
       "      <td>0</td>\n",
       "      <td>1</td>\n",
       "    </tr>\n",
       "    <tr>\n",
       "      <th>I25-Diagnoses_main_ICD10_I25_Chronic_ischaemic_heart_disease</th>\n",
       "      <th>ENSG00000116133</th>\n",
       "      <td>1.645763</td>\n",
       "      <td>0</td>\n",
       "      <td>1</td>\n",
       "    </tr>\n",
       "    <tr>\n",
       "      <th rowspan=\"2\" valign=\"top\">20002_1226-Noncancer_illness_code_selfreported_hypothyroidismmyxoedema</th>\n",
       "      <th>ENSG00000115705</th>\n",
       "      <td>7.695789</td>\n",
       "      <td>1</td>\n",
       "      <td>1</td>\n",
       "    </tr>\n",
       "    <tr>\n",
       "      <th>ENSG00000115415</th>\n",
       "      <td>5.472358</td>\n",
       "      <td>1</td>\n",
       "      <td>1</td>\n",
       "    </tr>\n",
       "    <tr>\n",
       "      <th>20002_1309-Noncancer_illness_code_selfreported_osteoporosis</th>\n",
       "      <th>ENSG00000106080</th>\n",
       "      <td>0.594340</td>\n",
       "      <td>0</td>\n",
       "      <td>1</td>\n",
       "    </tr>\n",
       "    <tr>\n",
       "      <th>20002_1065-Noncancer_illness_code_selfreported_hypertension</th>\n",
       "      <th>ENSG00000164116</th>\n",
       "      <td>9.992815</td>\n",
       "      <td>1</td>\n",
       "      <td>1</td>\n",
       "    </tr>\n",
       "    <tr>\n",
       "      <th>20002_1453-Noncancer_illness_code_selfreported_psoriasis</th>\n",
       "      <th>ENSG00000151702</th>\n",
       "      <td>0.073680</td>\n",
       "      <td>0</td>\n",
       "      <td>1</td>\n",
       "    </tr>\n",
       "    <tr>\n",
       "      <th>20002_1065-Noncancer_illness_code_selfreported_hypertension</th>\n",
       "      <th>ENSG00000179218</th>\n",
       "      <td>0.820840</td>\n",
       "      <td>0</td>\n",
       "      <td>1</td>\n",
       "    </tr>\n",
       "    <tr>\n",
       "      <th>I25-Diagnoses_main_ICD10_I25_Chronic_ischaemic_heart_disease</th>\n",
       "      <th>ENSG00000204217</th>\n",
       "      <td>2.163239</td>\n",
       "      <td>0</td>\n",
       "      <td>1</td>\n",
       "    </tr>\n",
       "    <tr>\n",
       "      <th>20002_1226-Noncancer_illness_code_selfreported_hypothyroidismmyxoedema</th>\n",
       "      <th>ENSG00000171316</th>\n",
       "      <td>2.790815</td>\n",
       "      <td>0</td>\n",
       "      <td>1</td>\n",
       "    </tr>\n",
       "    <tr>\n",
       "      <th>20002_1065-Noncancer_illness_code_selfreported_hypertension</th>\n",
       "      <th>ENSG00000008441</th>\n",
       "      <td>2.760524</td>\n",
       "      <td>0</td>\n",
       "      <td>1</td>\n",
       "    </tr>\n",
       "    <tr>\n",
       "      <th>20002_1535-Noncancer_illness_code_selfreported_scoliosis</th>\n",
       "      <th>ENSG00000109099</th>\n",
       "      <td>0.168219</td>\n",
       "      <td>0</td>\n",
       "      <td>1</td>\n",
       "    </tr>\n",
       "    <tr>\n",
       "      <th>20002_1065-Noncancer_illness_code_selfreported_hypertension</th>\n",
       "      <th>ENSG00000132170</th>\n",
       "      <td>1.066410</td>\n",
       "      <td>0</td>\n",
       "      <td>1</td>\n",
       "    </tr>\n",
       "    <tr>\n",
       "      <th>...</th>\n",
       "      <th>...</th>\n",
       "      <td>...</td>\n",
       "      <td>...</td>\n",
       "      <td>...</td>\n",
       "    </tr>\n",
       "    <tr>\n",
       "      <th rowspan=\"29\" valign=\"top\">20002_1075-Noncancer_illness_code_selfreported_heart_attackmyocardial_infarction</th>\n",
       "      <th>ENSG00000076513</th>\n",
       "      <td>0.300250</td>\n",
       "      <td>0</td>\n",
       "      <td>0</td>\n",
       "    </tr>\n",
       "    <tr>\n",
       "      <th>ENSG00000073711</th>\n",
       "      <td>0.231916</td>\n",
       "      <td>0</td>\n",
       "      <td>0</td>\n",
       "    </tr>\n",
       "    <tr>\n",
       "      <th>ENSG00000073008</th>\n",
       "      <td>2.126287</td>\n",
       "      <td>0</td>\n",
       "      <td>0</td>\n",
       "    </tr>\n",
       "    <tr>\n",
       "      <th>ENSG00000069399</th>\n",
       "      <td>1.860086</td>\n",
       "      <td>0</td>\n",
       "      <td>0</td>\n",
       "    </tr>\n",
       "    <tr>\n",
       "      <th>ENSG00000065135</th>\n",
       "      <td>1.702572</td>\n",
       "      <td>0</td>\n",
       "      <td>0</td>\n",
       "    </tr>\n",
       "    <tr>\n",
       "      <th>ENSG00000062370</th>\n",
       "      <td>1.054690</td>\n",
       "      <td>0</td>\n",
       "      <td>0</td>\n",
       "    </tr>\n",
       "    <tr>\n",
       "      <th>ENSG00000041515</th>\n",
       "      <td>1.039667</td>\n",
       "      <td>0</td>\n",
       "      <td>0</td>\n",
       "    </tr>\n",
       "    <tr>\n",
       "      <th>ENSG00000031698</th>\n",
       "      <td>2.610802</td>\n",
       "      <td>0</td>\n",
       "      <td>0</td>\n",
       "    </tr>\n",
       "    <tr>\n",
       "      <th>ENSG00000026652</th>\n",
       "      <td>0.655646</td>\n",
       "      <td>0</td>\n",
       "      <td>0</td>\n",
       "    </tr>\n",
       "    <tr>\n",
       "      <th>ENSG00000023445</th>\n",
       "      <td>0.481393</td>\n",
       "      <td>0</td>\n",
       "      <td>0</td>\n",
       "    </tr>\n",
       "    <tr>\n",
       "      <th>ENSG00000012061</th>\n",
       "      <td>0.954884</td>\n",
       "      <td>0</td>\n",
       "      <td>0</td>\n",
       "    </tr>\n",
       "    <tr>\n",
       "      <th>ENSG00000085491</th>\n",
       "      <td>0.693212</td>\n",
       "      <td>0</td>\n",
       "      <td>0</td>\n",
       "    </tr>\n",
       "    <tr>\n",
       "      <th>ENSG00000085511</th>\n",
       "      <td>2.619643</td>\n",
       "      <td>0</td>\n",
       "      <td>0</td>\n",
       "    </tr>\n",
       "    <tr>\n",
       "      <th>ENSG00000089009</th>\n",
       "      <td>2.560137</td>\n",
       "      <td>0</td>\n",
       "      <td>0</td>\n",
       "    </tr>\n",
       "    <tr>\n",
       "      <th>ENSG00000104853</th>\n",
       "      <td>0.359940</td>\n",
       "      <td>0</td>\n",
       "      <td>0</td>\n",
       "    </tr>\n",
       "    <tr>\n",
       "      <th>ENSG00000104884</th>\n",
       "      <td>0.073948</td>\n",
       "      <td>0</td>\n",
       "      <td>0</td>\n",
       "    </tr>\n",
       "    <tr>\n",
       "      <th>ENSG00000104881</th>\n",
       "      <td>0.374130</td>\n",
       "      <td>0</td>\n",
       "      <td>0</td>\n",
       "    </tr>\n",
       "    <tr>\n",
       "      <th>ENSG00000104879</th>\n",
       "      <td>0.556273</td>\n",
       "      <td>0</td>\n",
       "      <td>0</td>\n",
       "    </tr>\n",
       "    <tr>\n",
       "      <th>ENSG00000104866</th>\n",
       "      <td>0.760476</td>\n",
       "      <td>0</td>\n",
       "      <td>0</td>\n",
       "    </tr>\n",
       "    <tr>\n",
       "      <th>ENSG00000104859</th>\n",
       "      <td>1.540029</td>\n",
       "      <td>0</td>\n",
       "      <td>0</td>\n",
       "    </tr>\n",
       "    <tr>\n",
       "      <th>ENSG00000104856</th>\n",
       "      <td>2.877893</td>\n",
       "      <td>0</td>\n",
       "      <td>0</td>\n",
       "    </tr>\n",
       "    <tr>\n",
       "      <th>ENSG00000103121</th>\n",
       "      <td>0.930601</td>\n",
       "      <td>0</td>\n",
       "      <td>0</td>\n",
       "    </tr>\n",
       "    <tr>\n",
       "      <th>ENSG00000089022</th>\n",
       "      <td>1.850987</td>\n",
       "      <td>0</td>\n",
       "      <td>0</td>\n",
       "    </tr>\n",
       "    <tr>\n",
       "      <th>ENSG00000099810</th>\n",
       "      <td>1.651059</td>\n",
       "      <td>0</td>\n",
       "      <td>0</td>\n",
       "    </tr>\n",
       "    <tr>\n",
       "      <th>ENSG00000095951</th>\n",
       "      <td>0.136972</td>\n",
       "      <td>0</td>\n",
       "      <td>0</td>\n",
       "    </tr>\n",
       "    <tr>\n",
       "      <th>ENSG00000092820</th>\n",
       "      <td>0.688783</td>\n",
       "      <td>0</td>\n",
       "      <td>0</td>\n",
       "    </tr>\n",
       "    <tr>\n",
       "      <th>ENSG00000089248</th>\n",
       "      <td>2.747009</td>\n",
       "      <td>0</td>\n",
       "      <td>0</td>\n",
       "    </tr>\n",
       "    <tr>\n",
       "      <th>ENSG00000089234</th>\n",
       "      <td>2.230856</td>\n",
       "      <td>0</td>\n",
       "      <td>0</td>\n",
       "    </tr>\n",
       "    <tr>\n",
       "      <th>ENSG00000089169</th>\n",
       "      <td>0.686191</td>\n",
       "      <td>0</td>\n",
       "      <td>0</td>\n",
       "    </tr>\n",
       "    <tr>\n",
       "      <th>Z34-Diagnoses_main_ICD10_Z34_Supervision_of_normal_pregnancy</th>\n",
       "      <th>ENSG00000225526</th>\n",
       "      <td>0.474759</td>\n",
       "      <td>0</td>\n",
       "      <td>0</td>\n",
       "    </tr>\n",
       "  </tbody>\n",
       "</table>\n",
       "<p>19119 rows × 3 columns</p>\n",
       "</div>"
      ],
      "text/plain": [
       "                                                                        score  \\\n",
       "ukb_efo                                            gene                         \n",
       "I25-Diagnoses_main_ICD10_I25_Chronic_ischaemic_... ENSG00000185950   0.646109   \n",
       "22127-Doctor_diagnosed_asthma                      ENSG00000232810   1.996019   \n",
       "20002_1065-Noncancer_illness_code_selfreported_... ENSG00000231852   7.628562   \n",
       "20002_1111-Noncancer_illness_code_selfreported_... ENSG00000204539  11.715739   \n",
       "N20-Diagnoses_main_ICD10_N20_Calculus_of_kidney... ENSG00000131183   6.246578   \n",
       "20002_1197-Noncancer_illness_code_selfreported_... ENSG00000019186   0.973195   \n",
       "20002_1309-Noncancer_illness_code_selfreported_... ENSG00000162337   0.003963   \n",
       "20002_1381-Noncancer_illness_code_selfreported_... ENSG00000244731   8.850207   \n",
       "20002_1065-Noncancer_illness_code_selfreported_... ENSG00000184937   5.294412   \n",
       "I25-Diagnoses_main_ICD10_I25_Chronic_ischaemic_... ENSG00000111252   3.635113   \n",
       "20002_1065-Noncancer_illness_code_selfreported_... ENSG00000111057   2.694539   \n",
       "20002_1111-Noncancer_illness_code_selfreported_... ENSG00000143631   4.978256   \n",
       "20002_1226-Noncancer_illness_code_selfreported_... ENSG00000163599  17.552316   \n",
       "20002_1065-Noncancer_illness_code_selfreported_... ENSG00000111252   7.083274   \n",
       "                                                   ENSG00000141646   3.742410   \n",
       "I48-Diagnoses_main_ICD10_I48_Atrial_fibrillatio... ENSG00000120457   4.816460   \n",
       "20002_1065-Noncancer_illness_code_selfreported_... ENSG00000243649   5.611773   \n",
       "20002_1309-Noncancer_illness_code_selfreported_... ENSG00000106483   4.220385   \n",
       "I25-Diagnoses_main_ICD10_I25_Chronic_ischaemic_... ENSG00000116133   1.645763   \n",
       "20002_1226-Noncancer_illness_code_selfreported_... ENSG00000115705   7.695789   \n",
       "                                                   ENSG00000115415   5.472358   \n",
       "20002_1309-Noncancer_illness_code_selfreported_... ENSG00000106080   0.594340   \n",
       "20002_1065-Noncancer_illness_code_selfreported_... ENSG00000164116   9.992815   \n",
       "20002_1453-Noncancer_illness_code_selfreported_... ENSG00000151702   0.073680   \n",
       "20002_1065-Noncancer_illness_code_selfreported_... ENSG00000179218   0.820840   \n",
       "I25-Diagnoses_main_ICD10_I25_Chronic_ischaemic_... ENSG00000204217   2.163239   \n",
       "20002_1226-Noncancer_illness_code_selfreported_... ENSG00000171316   2.790815   \n",
       "20002_1065-Noncancer_illness_code_selfreported_... ENSG00000008441   2.760524   \n",
       "20002_1535-Noncancer_illness_code_selfreported_... ENSG00000109099   0.168219   \n",
       "20002_1065-Noncancer_illness_code_selfreported_... ENSG00000132170   1.066410   \n",
       "...                                                                       ...   \n",
       "20002_1075-Noncancer_illness_code_selfreported_... ENSG00000076513   0.300250   \n",
       "                                                   ENSG00000073711   0.231916   \n",
       "                                                   ENSG00000073008   2.126287   \n",
       "                                                   ENSG00000069399   1.860086   \n",
       "                                                   ENSG00000065135   1.702572   \n",
       "                                                   ENSG00000062370   1.054690   \n",
       "                                                   ENSG00000041515   1.039667   \n",
       "                                                   ENSG00000031698   2.610802   \n",
       "                                                   ENSG00000026652   0.655646   \n",
       "                                                   ENSG00000023445   0.481393   \n",
       "                                                   ENSG00000012061   0.954884   \n",
       "                                                   ENSG00000085491   0.693212   \n",
       "                                                   ENSG00000085511   2.619643   \n",
       "                                                   ENSG00000089009   2.560137   \n",
       "                                                   ENSG00000104853   0.359940   \n",
       "                                                   ENSG00000104884   0.073948   \n",
       "                                                   ENSG00000104881   0.374130   \n",
       "                                                   ENSG00000104879   0.556273   \n",
       "                                                   ENSG00000104866   0.760476   \n",
       "                                                   ENSG00000104859   1.540029   \n",
       "                                                   ENSG00000104856   2.877893   \n",
       "                                                   ENSG00000103121   0.930601   \n",
       "                                                   ENSG00000089022   1.850987   \n",
       "                                                   ENSG00000099810   1.651059   \n",
       "                                                   ENSG00000095951   0.136972   \n",
       "                                                   ENSG00000092820   0.688783   \n",
       "                                                   ENSG00000089248   2.747009   \n",
       "                                                   ENSG00000089234   2.230856   \n",
       "                                                   ENSG00000089169   0.686191   \n",
       "Z34-Diagnoses_main_ICD10_Z34_Supervision_of_nor... ENSG00000225526   0.474759   \n",
       "\n",
       "                                                                    predicted_class  \\\n",
       "ukb_efo                                            gene                               \n",
       "I25-Diagnoses_main_ICD10_I25_Chronic_ischaemic_... ENSG00000185950                0   \n",
       "22127-Doctor_diagnosed_asthma                      ENSG00000232810                0   \n",
       "20002_1065-Noncancer_illness_code_selfreported_... ENSG00000231852                1   \n",
       "20002_1111-Noncancer_illness_code_selfreported_... ENSG00000204539                1   \n",
       "N20-Diagnoses_main_ICD10_N20_Calculus_of_kidney... ENSG00000131183                1   \n",
       "20002_1197-Noncancer_illness_code_selfreported_... ENSG00000019186                0   \n",
       "20002_1309-Noncancer_illness_code_selfreported_... ENSG00000162337                0   \n",
       "20002_1381-Noncancer_illness_code_selfreported_... ENSG00000244731                1   \n",
       "20002_1065-Noncancer_illness_code_selfreported_... ENSG00000184937                0   \n",
       "I25-Diagnoses_main_ICD10_I25_Chronic_ischaemic_... ENSG00000111252                0   \n",
       "20002_1065-Noncancer_illness_code_selfreported_... ENSG00000111057                0   \n",
       "20002_1111-Noncancer_illness_code_selfreported_... ENSG00000143631                0   \n",
       "20002_1226-Noncancer_illness_code_selfreported_... ENSG00000163599                1   \n",
       "20002_1065-Noncancer_illness_code_selfreported_... ENSG00000111252                1   \n",
       "                                                   ENSG00000141646                0   \n",
       "I48-Diagnoses_main_ICD10_I48_Atrial_fibrillatio... ENSG00000120457                0   \n",
       "20002_1065-Noncancer_illness_code_selfreported_... ENSG00000243649                1   \n",
       "20002_1309-Noncancer_illness_code_selfreported_... ENSG00000106483                0   \n",
       "I25-Diagnoses_main_ICD10_I25_Chronic_ischaemic_... ENSG00000116133                0   \n",
       "20002_1226-Noncancer_illness_code_selfreported_... ENSG00000115705                1   \n",
       "                                                   ENSG00000115415                1   \n",
       "20002_1309-Noncancer_illness_code_selfreported_... ENSG00000106080                0   \n",
       "20002_1065-Noncancer_illness_code_selfreported_... ENSG00000164116                1   \n",
       "20002_1453-Noncancer_illness_code_selfreported_... ENSG00000151702                0   \n",
       "20002_1065-Noncancer_illness_code_selfreported_... ENSG00000179218                0   \n",
       "I25-Diagnoses_main_ICD10_I25_Chronic_ischaemic_... ENSG00000204217                0   \n",
       "20002_1226-Noncancer_illness_code_selfreported_... ENSG00000171316                0   \n",
       "20002_1065-Noncancer_illness_code_selfreported_... ENSG00000008441                0   \n",
       "20002_1535-Noncancer_illness_code_selfreported_... ENSG00000109099                0   \n",
       "20002_1065-Noncancer_illness_code_selfreported_... ENSG00000132170                0   \n",
       "...                                                                             ...   \n",
       "20002_1075-Noncancer_illness_code_selfreported_... ENSG00000076513                0   \n",
       "                                                   ENSG00000073711                0   \n",
       "                                                   ENSG00000073008                0   \n",
       "                                                   ENSG00000069399                0   \n",
       "                                                   ENSG00000065135                0   \n",
       "                                                   ENSG00000062370                0   \n",
       "                                                   ENSG00000041515                0   \n",
       "                                                   ENSG00000031698                0   \n",
       "                                                   ENSG00000026652                0   \n",
       "                                                   ENSG00000023445                0   \n",
       "                                                   ENSG00000012061                0   \n",
       "                                                   ENSG00000085491                0   \n",
       "                                                   ENSG00000085511                0   \n",
       "                                                   ENSG00000089009                0   \n",
       "                                                   ENSG00000104853                0   \n",
       "                                                   ENSG00000104884                0   \n",
       "                                                   ENSG00000104881                0   \n",
       "                                                   ENSG00000104879                0   \n",
       "                                                   ENSG00000104866                0   \n",
       "                                                   ENSG00000104859                0   \n",
       "                                                   ENSG00000104856                0   \n",
       "                                                   ENSG00000103121                0   \n",
       "                                                   ENSG00000089022                0   \n",
       "                                                   ENSG00000099810                0   \n",
       "                                                   ENSG00000095951                0   \n",
       "                                                   ENSG00000092820                0   \n",
       "                                                   ENSG00000089248                0   \n",
       "                                                   ENSG00000089234                0   \n",
       "                                                   ENSG00000089169                0   \n",
       "Z34-Diagnoses_main_ICD10_Z34_Supervision_of_nor... ENSG00000225526                0   \n",
       "\n",
       "                                                                    true_class  \n",
       "ukb_efo                                            gene                         \n",
       "I25-Diagnoses_main_ICD10_I25_Chronic_ischaemic_... ENSG00000185950           1  \n",
       "22127-Doctor_diagnosed_asthma                      ENSG00000232810           1  \n",
       "20002_1065-Noncancer_illness_code_selfreported_... ENSG00000231852           1  \n",
       "20002_1111-Noncancer_illness_code_selfreported_... ENSG00000204539           1  \n",
       "N20-Diagnoses_main_ICD10_N20_Calculus_of_kidney... ENSG00000131183           1  \n",
       "20002_1197-Noncancer_illness_code_selfreported_... ENSG00000019186           1  \n",
       "20002_1309-Noncancer_illness_code_selfreported_... ENSG00000162337           1  \n",
       "20002_1381-Noncancer_illness_code_selfreported_... ENSG00000244731           1  \n",
       "20002_1065-Noncancer_illness_code_selfreported_... ENSG00000184937           1  \n",
       "I25-Diagnoses_main_ICD10_I25_Chronic_ischaemic_... ENSG00000111252           1  \n",
       "20002_1065-Noncancer_illness_code_selfreported_... ENSG00000111057           1  \n",
       "20002_1111-Noncancer_illness_code_selfreported_... ENSG00000143631           1  \n",
       "20002_1226-Noncancer_illness_code_selfreported_... ENSG00000163599           1  \n",
       "20002_1065-Noncancer_illness_code_selfreported_... ENSG00000111252           1  \n",
       "                                                   ENSG00000141646           1  \n",
       "I48-Diagnoses_main_ICD10_I48_Atrial_fibrillatio... ENSG00000120457           1  \n",
       "20002_1065-Noncancer_illness_code_selfreported_... ENSG00000243649           1  \n",
       "20002_1309-Noncancer_illness_code_selfreported_... ENSG00000106483           1  \n",
       "I25-Diagnoses_main_ICD10_I25_Chronic_ischaemic_... ENSG00000116133           1  \n",
       "20002_1226-Noncancer_illness_code_selfreported_... ENSG00000115705           1  \n",
       "                                                   ENSG00000115415           1  \n",
       "20002_1309-Noncancer_illness_code_selfreported_... ENSG00000106080           1  \n",
       "20002_1065-Noncancer_illness_code_selfreported_... ENSG00000164116           1  \n",
       "20002_1453-Noncancer_illness_code_selfreported_... ENSG00000151702           1  \n",
       "20002_1065-Noncancer_illness_code_selfreported_... ENSG00000179218           1  \n",
       "I25-Diagnoses_main_ICD10_I25_Chronic_ischaemic_... ENSG00000204217           1  \n",
       "20002_1226-Noncancer_illness_code_selfreported_... ENSG00000171316           1  \n",
       "20002_1065-Noncancer_illness_code_selfreported_... ENSG00000008441           1  \n",
       "20002_1535-Noncancer_illness_code_selfreported_... ENSG00000109099           1  \n",
       "20002_1065-Noncancer_illness_code_selfreported_... ENSG00000132170           1  \n",
       "...                                                                        ...  \n",
       "20002_1075-Noncancer_illness_code_selfreported_... ENSG00000076513           0  \n",
       "                                                   ENSG00000073711           0  \n",
       "                                                   ENSG00000073008           0  \n",
       "                                                   ENSG00000069399           0  \n",
       "                                                   ENSG00000065135           0  \n",
       "                                                   ENSG00000062370           0  \n",
       "                                                   ENSG00000041515           0  \n",
       "                                                   ENSG00000031698           0  \n",
       "                                                   ENSG00000026652           0  \n",
       "                                                   ENSG00000023445           0  \n",
       "                                                   ENSG00000012061           0  \n",
       "                                                   ENSG00000085491           0  \n",
       "                                                   ENSG00000085511           0  \n",
       "                                                   ENSG00000089009           0  \n",
       "                                                   ENSG00000104853           0  \n",
       "                                                   ENSG00000104884           0  \n",
       "                                                   ENSG00000104881           0  \n",
       "                                                   ENSG00000104879           0  \n",
       "                                                   ENSG00000104866           0  \n",
       "                                                   ENSG00000104859           0  \n",
       "                                                   ENSG00000104856           0  \n",
       "                                                   ENSG00000103121           0  \n",
       "                                                   ENSG00000089022           0  \n",
       "                                                   ENSG00000099810           0  \n",
       "                                                   ENSG00000095951           0  \n",
       "                                                   ENSG00000092820           0  \n",
       "                                                   ENSG00000089248           0  \n",
       "                                                   ENSG00000089234           0  \n",
       "                                                   ENSG00000089169           0  \n",
       "Z34-Diagnoses_main_ICD10_Z34_Supervision_of_nor... ENSG00000225526           0  \n",
       "\n",
       "[19119 rows x 3 columns]"
      ]
     },
     "execution_count": 88,
     "metadata": {},
     "output_type": "execute_result"
    }
   ],
   "source": [
    "selected_predixcan_classifier_df.sort_values(['true_class'], ascending=[False])"
   ]
  },
  {
   "cell_type": "markdown",
   "metadata": {},
   "source": [
    "# Save classifier table"
   ]
  },
  {
   "cell_type": "code",
   "execution_count": 89,
   "metadata": {},
   "outputs": [
    {
     "data": {
      "text/html": [
       "<div>\n",
       "<style scoped>\n",
       "    .dataframe tbody tr th:only-of-type {\n",
       "        vertical-align: middle;\n",
       "    }\n",
       "\n",
       "    .dataframe tbody tr th {\n",
       "        vertical-align: top;\n",
       "    }\n",
       "\n",
       "    .dataframe thead th {\n",
       "        text-align: right;\n",
       "    }\n",
       "</style>\n",
       "<table border=\"1\" class=\"dataframe\">\n",
       "  <thead>\n",
       "    <tr style=\"text-align: right;\">\n",
       "      <th></th>\n",
       "      <th></th>\n",
       "      <th>score</th>\n",
       "      <th>predicted_class</th>\n",
       "      <th>true_class</th>\n",
       "    </tr>\n",
       "    <tr>\n",
       "      <th>ukb_efo</th>\n",
       "      <th>gene</th>\n",
       "      <th></th>\n",
       "      <th></th>\n",
       "      <th></th>\n",
       "    </tr>\n",
       "  </thead>\n",
       "  <tbody>\n",
       "    <tr>\n",
       "      <th rowspan=\"5\" valign=\"top\">1200-Sleeplessness_insomnia</th>\n",
       "      <th>ENSG00000001617</th>\n",
       "      <td>5.986574</td>\n",
       "      <td>1</td>\n",
       "      <td>0</td>\n",
       "    </tr>\n",
       "    <tr>\n",
       "      <th>ENSG00000003756</th>\n",
       "      <td>5.540858</td>\n",
       "      <td>1</td>\n",
       "      <td>0</td>\n",
       "    </tr>\n",
       "    <tr>\n",
       "      <th>ENSG00000004534</th>\n",
       "      <td>5.270682</td>\n",
       "      <td>0</td>\n",
       "      <td>0</td>\n",
       "    </tr>\n",
       "    <tr>\n",
       "      <th>ENSG00000004838</th>\n",
       "      <td>1.168578</td>\n",
       "      <td>0</td>\n",
       "      <td>0</td>\n",
       "    </tr>\n",
       "    <tr>\n",
       "      <th>ENSG00000004897</th>\n",
       "      <td>0.042414</td>\n",
       "      <td>0</td>\n",
       "      <td>0</td>\n",
       "    </tr>\n",
       "  </tbody>\n",
       "</table>\n",
       "</div>"
      ],
      "text/plain": [
       "                                                score  predicted_class  \\\n",
       "ukb_efo                     gene                                         \n",
       "1200-Sleeplessness_insomnia ENSG00000001617  5.986574                1   \n",
       "                            ENSG00000003756  5.540858                1   \n",
       "                            ENSG00000004534  5.270682                0   \n",
       "                            ENSG00000004838  1.168578                0   \n",
       "                            ENSG00000004897  0.042414                0   \n",
       "\n",
       "                                             true_class  \n",
       "ukb_efo                     gene                         \n",
       "1200-Sleeplessness_insomnia ENSG00000001617           0  \n",
       "                            ENSG00000003756           0  \n",
       "                            ENSG00000004534           0  \n",
       "                            ENSG00000004838           0  \n",
       "                            ENSG00000004897           0  "
      ]
     },
     "execution_count": 89,
     "metadata": {},
     "output_type": "execute_result"
    }
   ],
   "source": [
    "selected_predixcan_classifier_df.head()"
   ]
  },
  {
   "cell_type": "code",
   "execution_count": 90,
   "metadata": {},
   "outputs": [
    {
     "data": {
      "text/plain": [
       "(19119, 3)"
      ]
     },
     "execution_count": 90,
     "metadata": {},
     "output_type": "execute_result"
    }
   ],
   "source": [
    "selected_predixcan_classifier_df.shape"
   ]
  },
  {
   "cell_type": "code",
   "execution_count": 91,
   "metadata": {},
   "outputs": [],
   "source": [
    "selected_predixcan_classifier_df.to_csv(\n",
    "    os.path.join(output_dir, 'smultixcan-mashr-classifier_data.tsv.gz'),\n",
    "    sep='\\t', index=False\n",
    ")"
   ]
  },
  {
   "cell_type": "code",
   "execution_count": null,
   "metadata": {},
   "outputs": [],
   "source": []
  }
 ],
 "metadata": {
  "kernelspec": {
   "display_name": "Python 3",
   "language": "python",
   "name": "python3"
  },
  "language_info": {
   "codemirror_mode": {
    "name": "ipython",
    "version": 3
   },
   "file_extension": ".py",
   "mimetype": "text/x-python",
   "name": "python",
   "nbconvert_exporter": "python",
   "pygments_lexer": "ipython3",
   "version": "3.7.3"
  }
 },
 "nbformat": 4,
 "nbformat_minor": 4
}
