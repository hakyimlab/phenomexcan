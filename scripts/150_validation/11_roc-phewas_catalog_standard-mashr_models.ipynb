{
 "cells": [
  {
   "cell_type": "code",
   "execution_count": 1,
   "metadata": {},
   "outputs": [],
   "source": [
    "%load_ext autoreload\n",
    "%autoreload 2"
   ]
  },
  {
   "cell_type": "code",
   "execution_count": 2,
   "metadata": {},
   "outputs": [],
   "source": [
    "import os\n",
    "import pickle\n",
    "from glob import glob\n",
    "import re\n",
    "from concurrent.futures import ProcessPoolExecutor, as_completed\n",
    "\n",
    "import numpy as np\n",
    "import pandas as pd\n",
    "from scipy import stats\n",
    "from sklearn.metrics import pairwise_distances\n",
    "\n",
    "import settings as conf"
   ]
  },
  {
   "cell_type": "code",
   "execution_count": 3,
   "metadata": {},
   "outputs": [],
   "source": [
    "# genes_associations_dir = os.path.join(conf.PREPROCESSED_BASED_DIR, 'gene_associations')\n",
    "# smultixcan_gene_association_dirs = os.path.join(genes_associations_dir, 'mashr')\n",
    "\n",
    "output_dir = os.path.join(conf.DELIVERABLES_DIR, 'roc_validation', 'classifier_tables')\n",
    "os.makedirs(output_dir, exist_ok=True)"
   ]
  },
  {
   "cell_type": "markdown",
   "metadata": {},
   "source": [
    "# Load gene mappings"
   ]
  },
  {
   "cell_type": "code",
   "execution_count": 4,
   "metadata": {},
   "outputs": [],
   "source": [
    "with open(os.path.join(conf.GENES_METADATA_DIR, 'genes_mapping_simplified-0.pkl'), 'rb') as f:\n",
    "    genes_mapping_0 = pickle.load(f)\n",
    "\n",
    "with open(os.path.join(conf.GENES_METADATA_DIR, 'genes_mapping_simplified-1.pkl'), 'rb') as f:\n",
    "    genes_mapping_1 = pickle.load(f)"
   ]
  },
  {
   "cell_type": "markdown",
   "metadata": {},
   "source": [
    "# Load MultiXcan associations"
   ]
  },
  {
   "cell_type": "code",
   "execution_count": 5,
   "metadata": {},
   "outputs": [
    {
     "data": {
      "text/plain": [
       "'/mnt/phenomexcan_base/gene_assoc/smultixcan-mashr-zscores.pkl.xz'"
      ]
     },
     "metadata": {},
     "output_type": "display_data"
    }
   ],
   "source": [
    "genes_associations_filename = os.path.join(conf.GENE_ASSOC_DIR, 'smultixcan-mashr-zscores.pkl.xz')\n",
    "display(genes_associations_filename)\n",
    "\n",
    "genes_associations = pd.read_pickle(genes_associations_filename)"
   ]
  },
  {
   "cell_type": "code",
   "execution_count": 6,
   "metadata": {},
   "outputs": [
    {
     "data": {
      "text/plain": [
       "(22515, 4091)"
      ]
     },
     "metadata": {},
     "output_type": "display_data"
    },
    {
     "data": {
      "text/html": [
       "<div>\n",
       "<style scoped>\n",
       "    .dataframe tbody tr th:only-of-type {\n",
       "        vertical-align: middle;\n",
       "    }\n",
       "\n",
       "    .dataframe tbody tr th {\n",
       "        vertical-align: top;\n",
       "    }\n",
       "\n",
       "    .dataframe thead th {\n",
       "        text-align: right;\n",
       "    }\n",
       "</style>\n",
       "<table border=\"1\" class=\"dataframe\">\n",
       "  <thead>\n",
       "    <tr style=\"text-align: right;\">\n",
       "      <th></th>\n",
       "      <th>20096_1-Size_of_red_wine_glass_drunk_small_125ml</th>\n",
       "      <th>2345-Ever_had_bowel_cancer_screening</th>\n",
       "      <th>N49-Diagnoses_main_ICD10_N49_Inflammatory_disorders_of_male_genital_organs_not_elsewhere_classified</th>\n",
       "      <th>100011_raw-Iron</th>\n",
       "      <th>5221-Index_of_best_refractometry_result_right</th>\n",
       "      <th>20003_1141150624-Treatmentmedication_code_zomig_25mg_tablet</th>\n",
       "      <th>S69-Diagnoses_main_ICD10_S69_Other_and_unspecified_injuries_of_wrist_and_hand</th>\n",
       "      <th>20024_1136-Job_code_deduced_Information_and_communication_technology_managers</th>\n",
       "      <th>20002_1385-Noncancer_illness_code_selfreported_allergy_or_anaphylactic_reaction_to_food</th>\n",
       "      <th>G6_SLEEPAPNO-Sleep_apnoea</th>\n",
       "      <th>...</th>\n",
       "      <th>Astle_et_al_2016_Sum_basophil_neutrophil_counts</th>\n",
       "      <th>RA_OKADA_TRANS_ETHNIC</th>\n",
       "      <th>pgc.scz2</th>\n",
       "      <th>PGC_ADHD_EUR_2017</th>\n",
       "      <th>MAGIC_FastingGlucose</th>\n",
       "      <th>Astle_et_al_2016_Red_blood_cell_count</th>\n",
       "      <th>SSGAC_Depressive_Symptoms</th>\n",
       "      <th>BCAC_ER_positive_BreastCancer_EUR</th>\n",
       "      <th>IBD.EUR.Inflammatory_Bowel_Disease</th>\n",
       "      <th>Astle_et_al_2016_High_light_scatter_reticulocyte_count</th>\n",
       "    </tr>\n",
       "    <tr>\n",
       "      <th>gene_name</th>\n",
       "      <th></th>\n",
       "      <th></th>\n",
       "      <th></th>\n",
       "      <th></th>\n",
       "      <th></th>\n",
       "      <th></th>\n",
       "      <th></th>\n",
       "      <th></th>\n",
       "      <th></th>\n",
       "      <th></th>\n",
       "      <th></th>\n",
       "      <th></th>\n",
       "      <th></th>\n",
       "      <th></th>\n",
       "      <th></th>\n",
       "      <th></th>\n",
       "      <th></th>\n",
       "      <th></th>\n",
       "      <th></th>\n",
       "      <th></th>\n",
       "      <th></th>\n",
       "    </tr>\n",
       "  </thead>\n",
       "  <tbody>\n",
       "    <tr>\n",
       "      <th>ENSG00000000419</th>\n",
       "      <td>0.169468</td>\n",
       "      <td>0.102558</td>\n",
       "      <td>0.239545</td>\n",
       "      <td>0.887758</td>\n",
       "      <td>1.313448</td>\n",
       "      <td>1.472148</td>\n",
       "      <td>0.726160</td>\n",
       "      <td>1.516367</td>\n",
       "      <td>1.299771</td>\n",
       "      <td>1.068093</td>\n",
       "      <td>...</td>\n",
       "      <td>0.813014</td>\n",
       "      <td>0.275993</td>\n",
       "      <td>0.510834</td>\n",
       "      <td>0.024717</td>\n",
       "      <td>0.430951</td>\n",
       "      <td>0.824314</td>\n",
       "      <td>0.367414</td>\n",
       "      <td>1.377624</td>\n",
       "      <td>0.738444</td>\n",
       "      <td>0.298259</td>\n",
       "    </tr>\n",
       "    <tr>\n",
       "      <th>ENSG00000000457</th>\n",
       "      <td>1.358856</td>\n",
       "      <td>1.846875</td>\n",
       "      <td>0.139324</td>\n",
       "      <td>0.129530</td>\n",
       "      <td>0.757757</td>\n",
       "      <td>1.103979</td>\n",
       "      <td>0.612418</td>\n",
       "      <td>1.822327</td>\n",
       "      <td>2.035372</td>\n",
       "      <td>1.008058</td>\n",
       "      <td>...</td>\n",
       "      <td>1.441795</td>\n",
       "      <td>0.654791</td>\n",
       "      <td>2.545653</td>\n",
       "      <td>1.202984</td>\n",
       "      <td>0.514244</td>\n",
       "      <td>0.237223</td>\n",
       "      <td>0.414171</td>\n",
       "      <td>0.101731</td>\n",
       "      <td>1.012735</td>\n",
       "      <td>0.945167</td>\n",
       "    </tr>\n",
       "    <tr>\n",
       "      <th>ENSG00000000460</th>\n",
       "      <td>0.151008</td>\n",
       "      <td>1.173202</td>\n",
       "      <td>1.179426</td>\n",
       "      <td>0.571656</td>\n",
       "      <td>0.098771</td>\n",
       "      <td>0.221072</td>\n",
       "      <td>0.276415</td>\n",
       "      <td>0.461381</td>\n",
       "      <td>0.855502</td>\n",
       "      <td>0.201876</td>\n",
       "      <td>...</td>\n",
       "      <td>0.668962</td>\n",
       "      <td>0.300040</td>\n",
       "      <td>0.541782</td>\n",
       "      <td>1.033308</td>\n",
       "      <td>0.482261</td>\n",
       "      <td>0.695624</td>\n",
       "      <td>0.336480</td>\n",
       "      <td>0.083316</td>\n",
       "      <td>3.493196</td>\n",
       "      <td>0.991948</td>\n",
       "    </tr>\n",
       "    <tr>\n",
       "      <th>ENSG00000000938</th>\n",
       "      <td>1.302722</td>\n",
       "      <td>0.841524</td>\n",
       "      <td>1.578926</td>\n",
       "      <td>0.721340</td>\n",
       "      <td>0.139314</td>\n",
       "      <td>4.387016</td>\n",
       "      <td>0.125959</td>\n",
       "      <td>1.247123</td>\n",
       "      <td>0.215124</td>\n",
       "      <td>0.892083</td>\n",
       "      <td>...</td>\n",
       "      <td>0.126657</td>\n",
       "      <td>0.048048</td>\n",
       "      <td>1.886356</td>\n",
       "      <td>0.540496</td>\n",
       "      <td>0.127524</td>\n",
       "      <td>1.494501</td>\n",
       "      <td>0.056432</td>\n",
       "      <td>1.704863</td>\n",
       "      <td>1.351619</td>\n",
       "      <td>1.027297</td>\n",
       "    </tr>\n",
       "    <tr>\n",
       "      <th>ENSG00000000971</th>\n",
       "      <td>1.338813</td>\n",
       "      <td>0.262339</td>\n",
       "      <td>0.689379</td>\n",
       "      <td>1.702019</td>\n",
       "      <td>0.325859</td>\n",
       "      <td>0.063161</td>\n",
       "      <td>1.141126</td>\n",
       "      <td>0.882682</td>\n",
       "      <td>0.035533</td>\n",
       "      <td>1.810191</td>\n",
       "      <td>...</td>\n",
       "      <td>0.858497</td>\n",
       "      <td>1.675562</td>\n",
       "      <td>2.319072</td>\n",
       "      <td>1.598721</td>\n",
       "      <td>0.162958</td>\n",
       "      <td>0.005703</td>\n",
       "      <td>3.004544</td>\n",
       "      <td>0.803669</td>\n",
       "      <td>0.444266</td>\n",
       "      <td>0.165671</td>\n",
       "    </tr>\n",
       "  </tbody>\n",
       "</table>\n",
       "<p>5 rows × 4091 columns</p>\n",
       "</div>"
      ],
      "text/plain": [
       "                 20096_1-Size_of_red_wine_glass_drunk_small_125ml  \\\n",
       "gene_name                                                           \n",
       "ENSG00000000419                                          0.169468   \n",
       "ENSG00000000457                                          1.358856   \n",
       "ENSG00000000460                                          0.151008   \n",
       "ENSG00000000938                                          1.302722   \n",
       "ENSG00000000971                                          1.338813   \n",
       "\n",
       "                 2345-Ever_had_bowel_cancer_screening  \\\n",
       "gene_name                                               \n",
       "ENSG00000000419                              0.102558   \n",
       "ENSG00000000457                              1.846875   \n",
       "ENSG00000000460                              1.173202   \n",
       "ENSG00000000938                              0.841524   \n",
       "ENSG00000000971                              0.262339   \n",
       "\n",
       "                 N49-Diagnoses_main_ICD10_N49_Inflammatory_disorders_of_male_genital_organs_not_elsewhere_classified  \\\n",
       "gene_name                                                                                                              \n",
       "ENSG00000000419                                           0.239545                                                     \n",
       "ENSG00000000457                                           0.139324                                                     \n",
       "ENSG00000000460                                           1.179426                                                     \n",
       "ENSG00000000938                                           1.578926                                                     \n",
       "ENSG00000000971                                           0.689379                                                     \n",
       "\n",
       "                 100011_raw-Iron  \\\n",
       "gene_name                          \n",
       "ENSG00000000419         0.887758   \n",
       "ENSG00000000457         0.129530   \n",
       "ENSG00000000460         0.571656   \n",
       "ENSG00000000938         0.721340   \n",
       "ENSG00000000971         1.702019   \n",
       "\n",
       "                 5221-Index_of_best_refractometry_result_right  \\\n",
       "gene_name                                                        \n",
       "ENSG00000000419                                       1.313448   \n",
       "ENSG00000000457                                       0.757757   \n",
       "ENSG00000000460                                       0.098771   \n",
       "ENSG00000000938                                       0.139314   \n",
       "ENSG00000000971                                       0.325859   \n",
       "\n",
       "                 20003_1141150624-Treatmentmedication_code_zomig_25mg_tablet  \\\n",
       "gene_name                                                                      \n",
       "ENSG00000000419                                           1.472148             \n",
       "ENSG00000000457                                           1.103979             \n",
       "ENSG00000000460                                           0.221072             \n",
       "ENSG00000000938                                           4.387016             \n",
       "ENSG00000000971                                           0.063161             \n",
       "\n",
       "                 S69-Diagnoses_main_ICD10_S69_Other_and_unspecified_injuries_of_wrist_and_hand  \\\n",
       "gene_name                                                                                        \n",
       "ENSG00000000419                                           0.726160                               \n",
       "ENSG00000000457                                           0.612418                               \n",
       "ENSG00000000460                                           0.276415                               \n",
       "ENSG00000000938                                           0.125959                               \n",
       "ENSG00000000971                                           1.141126                               \n",
       "\n",
       "                 20024_1136-Job_code_deduced_Information_and_communication_technology_managers  \\\n",
       "gene_name                                                                                        \n",
       "ENSG00000000419                                           1.516367                               \n",
       "ENSG00000000457                                           1.822327                               \n",
       "ENSG00000000460                                           0.461381                               \n",
       "ENSG00000000938                                           1.247123                               \n",
       "ENSG00000000971                                           0.882682                               \n",
       "\n",
       "                 20002_1385-Noncancer_illness_code_selfreported_allergy_or_anaphylactic_reaction_to_food  \\\n",
       "gene_name                                                                                                  \n",
       "ENSG00000000419                                           1.299771                                         \n",
       "ENSG00000000457                                           2.035372                                         \n",
       "ENSG00000000460                                           0.855502                                         \n",
       "ENSG00000000938                                           0.215124                                         \n",
       "ENSG00000000971                                           0.035533                                         \n",
       "\n",
       "                 G6_SLEEPAPNO-Sleep_apnoea  ...  \\\n",
       "gene_name                                   ...   \n",
       "ENSG00000000419                   1.068093  ...   \n",
       "ENSG00000000457                   1.008058  ...   \n",
       "ENSG00000000460                   0.201876  ...   \n",
       "ENSG00000000938                   0.892083  ...   \n",
       "ENSG00000000971                   1.810191  ...   \n",
       "\n",
       "                 Astle_et_al_2016_Sum_basophil_neutrophil_counts  \\\n",
       "gene_name                                                          \n",
       "ENSG00000000419                                         0.813014   \n",
       "ENSG00000000457                                         1.441795   \n",
       "ENSG00000000460                                         0.668962   \n",
       "ENSG00000000938                                         0.126657   \n",
       "ENSG00000000971                                         0.858497   \n",
       "\n",
       "                 RA_OKADA_TRANS_ETHNIC  pgc.scz2  PGC_ADHD_EUR_2017  \\\n",
       "gene_name                                                             \n",
       "ENSG00000000419               0.275993  0.510834           0.024717   \n",
       "ENSG00000000457               0.654791  2.545653           1.202984   \n",
       "ENSG00000000460               0.300040  0.541782           1.033308   \n",
       "ENSG00000000938               0.048048  1.886356           0.540496   \n",
       "ENSG00000000971               1.675562  2.319072           1.598721   \n",
       "\n",
       "                 MAGIC_FastingGlucose  Astle_et_al_2016_Red_blood_cell_count  \\\n",
       "gene_name                                                                      \n",
       "ENSG00000000419              0.430951                               0.824314   \n",
       "ENSG00000000457              0.514244                               0.237223   \n",
       "ENSG00000000460              0.482261                               0.695624   \n",
       "ENSG00000000938              0.127524                               1.494501   \n",
       "ENSG00000000971              0.162958                               0.005703   \n",
       "\n",
       "                 SSGAC_Depressive_Symptoms  BCAC_ER_positive_BreastCancer_EUR  \\\n",
       "gene_name                                                                       \n",
       "ENSG00000000419                   0.367414                           1.377624   \n",
       "ENSG00000000457                   0.414171                           0.101731   \n",
       "ENSG00000000460                   0.336480                           0.083316   \n",
       "ENSG00000000938                   0.056432                           1.704863   \n",
       "ENSG00000000971                   3.004544                           0.803669   \n",
       "\n",
       "                 IBD.EUR.Inflammatory_Bowel_Disease  \\\n",
       "gene_name                                             \n",
       "ENSG00000000419                            0.738444   \n",
       "ENSG00000000457                            1.012735   \n",
       "ENSG00000000460                            3.493196   \n",
       "ENSG00000000938                            1.351619   \n",
       "ENSG00000000971                            0.444266   \n",
       "\n",
       "                 Astle_et_al_2016_High_light_scatter_reticulocyte_count  \n",
       "gene_name                                                                \n",
       "ENSG00000000419                                           0.298259       \n",
       "ENSG00000000457                                           0.945167       \n",
       "ENSG00000000460                                           0.991948       \n",
       "ENSG00000000938                                           1.027297       \n",
       "ENSG00000000971                                           0.165671       \n",
       "\n",
       "[5 rows x 4091 columns]"
      ]
     },
     "metadata": {},
     "output_type": "display_data"
    }
   ],
   "source": [
    "display(genes_associations.shape)\n",
    "display(genes_associations.head())"
   ]
  },
  {
   "cell_type": "markdown",
   "metadata": {},
   "source": [
    "# Load PheWAS catalog"
   ]
  },
  {
   "cell_type": "code",
   "execution_count": 7,
   "metadata": {},
   "outputs": [],
   "source": [
    "phewas_catalog = pd.read_csv(os.path.join(conf.DATA_DIR, 'phewas-catalog.csv.gz'), dtype={'phewas code': str})"
   ]
  },
  {
   "cell_type": "code",
   "execution_count": 8,
   "metadata": {},
   "outputs": [
    {
     "data": {
      "text/plain": [
       "(215107, 9)"
      ]
     },
     "execution_count": 8,
     "metadata": {},
     "output_type": "execute_result"
    }
   ],
   "source": [
    "phewas_catalog.shape"
   ]
  },
  {
   "cell_type": "code",
   "execution_count": 9,
   "metadata": {},
   "outputs": [
    {
     "data": {
      "text/html": [
       "<div>\n",
       "<style scoped>\n",
       "    .dataframe tbody tr th:only-of-type {\n",
       "        vertical-align: middle;\n",
       "    }\n",
       "\n",
       "    .dataframe tbody tr th {\n",
       "        vertical-align: top;\n",
       "    }\n",
       "\n",
       "    .dataframe thead th {\n",
       "        text-align: right;\n",
       "    }\n",
       "</style>\n",
       "<table border=\"1\" class=\"dataframe\">\n",
       "  <thead>\n",
       "    <tr style=\"text-align: right;\">\n",
       "      <th></th>\n",
       "      <th>chromosome</th>\n",
       "      <th>snp</th>\n",
       "      <th>phewas phenotype</th>\n",
       "      <th>cases</th>\n",
       "      <th>p-value</th>\n",
       "      <th>odds-ratio</th>\n",
       "      <th>gene_name</th>\n",
       "      <th>phewas code</th>\n",
       "      <th>gwas-associations</th>\n",
       "    </tr>\n",
       "  </thead>\n",
       "  <tbody>\n",
       "  </tbody>\n",
       "</table>\n",
       "</div>"
      ],
      "text/plain": [
       "Empty DataFrame\n",
       "Columns: [chromosome, snp, phewas phenotype, cases, p-value, odds-ratio, gene_name, phewas code, gwas-associations]\n",
       "Index: []"
      ]
     },
     "execution_count": 9,
     "metadata": {},
     "output_type": "execute_result"
    }
   ],
   "source": [
    "phewas_catalog[phewas_catalog['phewas code'].isna()].head()"
   ]
  },
  {
   "cell_type": "code",
   "execution_count": 10,
   "metadata": {},
   "outputs": [
    {
     "data": {
      "text/html": [
       "<div>\n",
       "<style scoped>\n",
       "    .dataframe tbody tr th:only-of-type {\n",
       "        vertical-align: middle;\n",
       "    }\n",
       "\n",
       "    .dataframe tbody tr th {\n",
       "        vertical-align: top;\n",
       "    }\n",
       "\n",
       "    .dataframe thead th {\n",
       "        text-align: right;\n",
       "    }\n",
       "</style>\n",
       "<table border=\"1\" class=\"dataframe\">\n",
       "  <thead>\n",
       "    <tr style=\"text-align: right;\">\n",
       "      <th></th>\n",
       "      <th>chromosome</th>\n",
       "      <th>snp</th>\n",
       "      <th>phewas phenotype</th>\n",
       "      <th>cases</th>\n",
       "      <th>p-value</th>\n",
       "      <th>odds-ratio</th>\n",
       "      <th>gene_name</th>\n",
       "      <th>phewas code</th>\n",
       "      <th>gwas-associations</th>\n",
       "    </tr>\n",
       "  </thead>\n",
       "  <tbody>\n",
       "    <tr>\n",
       "      <th>41</th>\n",
       "      <td>4 111710169</td>\n",
       "      <td>rs2200733</td>\n",
       "      <td>Atrial fibrillation</td>\n",
       "      <td>1950</td>\n",
       "      <td>1.527000e-10</td>\n",
       "      <td>1.5170</td>\n",
       "      <td>NaN</td>\n",
       "      <td>427.21</td>\n",
       "      <td>Atrial fibrillation, Atrial fibrillation/atria...</td>\n",
       "    </tr>\n",
       "    <tr>\n",
       "      <th>49</th>\n",
       "      <td>4 111710169</td>\n",
       "      <td>rs2200733</td>\n",
       "      <td>Atrial fibrillation &amp; flutter</td>\n",
       "      <td>2041</td>\n",
       "      <td>1.019000e-09</td>\n",
       "      <td>1.4810</td>\n",
       "      <td>NaN</td>\n",
       "      <td>427.2</td>\n",
       "      <td>Atrial fibrillation, Atrial fibrillation/atria...</td>\n",
       "    </tr>\n",
       "    <tr>\n",
       "      <th>98</th>\n",
       "      <td>4</td>\n",
       "      <td>rs4698036</td>\n",
       "      <td>Gout</td>\n",
       "      <td>769</td>\n",
       "      <td>7.803000e-08</td>\n",
       "      <td>0.6839</td>\n",
       "      <td>NaN</td>\n",
       "      <td>274.1</td>\n",
       "      <td>Serum uric acid</td>\n",
       "    </tr>\n",
       "    <tr>\n",
       "      <th>108</th>\n",
       "      <td>4</td>\n",
       "      <td>rs4698036</td>\n",
       "      <td>Gout and other crystal arthropathies</td>\n",
       "      <td>904</td>\n",
       "      <td>1.990000e-07</td>\n",
       "      <td>0.7132</td>\n",
       "      <td>NaN</td>\n",
       "      <td>274</td>\n",
       "      <td>Serum uric acid</td>\n",
       "    </tr>\n",
       "    <tr>\n",
       "      <th>115</th>\n",
       "      <td>8 128485038</td>\n",
       "      <td>rs1447295</td>\n",
       "      <td>Prostate cancer</td>\n",
       "      <td>848</td>\n",
       "      <td>2.758000e-07</td>\n",
       "      <td>1.6060</td>\n",
       "      <td>NaN</td>\n",
       "      <td>185</td>\n",
       "      <td>Prostate cancer</td>\n",
       "    </tr>\n",
       "  </tbody>\n",
       "</table>\n",
       "</div>"
      ],
      "text/plain": [
       "      chromosome        snp                      phewas phenotype  cases  \\\n",
       "41   4 111710169  rs2200733                   Atrial fibrillation   1950   \n",
       "49   4 111710169  rs2200733         Atrial fibrillation & flutter   2041   \n",
       "98             4  rs4698036                                  Gout    769   \n",
       "108            4  rs4698036  Gout and other crystal arthropathies    904   \n",
       "115  8 128485038  rs1447295                       Prostate cancer    848   \n",
       "\n",
       "          p-value  odds-ratio gene_name phewas code  \\\n",
       "41   1.527000e-10      1.5170       NaN      427.21   \n",
       "49   1.019000e-09      1.4810       NaN       427.2   \n",
       "98   7.803000e-08      0.6839       NaN       274.1   \n",
       "108  1.990000e-07      0.7132       NaN         274   \n",
       "115  2.758000e-07      1.6060       NaN         185   \n",
       "\n",
       "                                     gwas-associations  \n",
       "41   Atrial fibrillation, Atrial fibrillation/atria...  \n",
       "49   Atrial fibrillation, Atrial fibrillation/atria...  \n",
       "98                                     Serum uric acid  \n",
       "108                                    Serum uric acid  \n",
       "115                                    Prostate cancer  "
      ]
     },
     "execution_count": 10,
     "metadata": {},
     "output_type": "execute_result"
    }
   ],
   "source": [
    "phewas_catalog[phewas_catalog['gene_name'].isna()].head()"
   ]
  },
  {
   "cell_type": "code",
   "execution_count": 11,
   "metadata": {},
   "outputs": [
    {
     "data": {
      "text/plain": [
       "(52140, 9)"
      ]
     },
     "execution_count": 11,
     "metadata": {},
     "output_type": "execute_result"
    }
   ],
   "source": [
    "phewas_catalog[phewas_catalog['gene_name'].isna()].shape"
   ]
  },
  {
   "cell_type": "code",
   "execution_count": 12,
   "metadata": {},
   "outputs": [],
   "source": [
    "phewas_catalog = phewas_catalog.dropna(subset=['gene_name', 'phewas code'])"
   ]
  },
  {
   "cell_type": "code",
   "execution_count": 13,
   "metadata": {},
   "outputs": [
    {
     "data": {
      "text/plain": [
       "(162967, 9)"
      ]
     },
     "execution_count": 13,
     "metadata": {},
     "output_type": "execute_result"
    }
   ],
   "source": [
    "phewas_catalog.shape"
   ]
  },
  {
   "cell_type": "code",
   "execution_count": 14,
   "metadata": {},
   "outputs": [
    {
     "data": {
      "text/plain": [
       "(1775,)"
      ]
     },
     "execution_count": 14,
     "metadata": {},
     "output_type": "execute_result"
    }
   ],
   "source": [
    "phewas_catalog['gene_name'].unique().shape"
   ]
  },
  {
   "cell_type": "code",
   "execution_count": 15,
   "metadata": {},
   "outputs": [
    {
     "data": {
      "text/plain": [
       "(1358,)"
      ]
     },
     "execution_count": 15,
     "metadata": {},
     "output_type": "execute_result"
    }
   ],
   "source": [
    "phewas_catalog['phewas code'].unique().shape"
   ]
  },
  {
   "cell_type": "code",
   "execution_count": 16,
   "metadata": {},
   "outputs": [],
   "source": [
    "phewas_catalog = phewas_catalog.assign(gene_id=phewas_catalog['gene_name'].apply(lambda x: genes_mapping_1[x] if x in genes_mapping_1 else None))"
   ]
  },
  {
   "cell_type": "code",
   "execution_count": 17,
   "metadata": {},
   "outputs": [],
   "source": [
    "phewas_catalog = phewas_catalog.dropna(subset=['gene_name', 'gene_id', 'phewas code'])"
   ]
  },
  {
   "cell_type": "code",
   "execution_count": 18,
   "metadata": {},
   "outputs": [
    {
     "data": {
      "text/plain": [
       "(147970, 10)"
      ]
     },
     "execution_count": 18,
     "metadata": {},
     "output_type": "execute_result"
    }
   ],
   "source": [
    "phewas_catalog.shape"
   ]
  },
  {
   "cell_type": "code",
   "execution_count": 19,
   "metadata": {},
   "outputs": [
    {
     "data": {
      "text/html": [
       "<div>\n",
       "<style scoped>\n",
       "    .dataframe tbody tr th:only-of-type {\n",
       "        vertical-align: middle;\n",
       "    }\n",
       "\n",
       "    .dataframe tbody tr th {\n",
       "        vertical-align: top;\n",
       "    }\n",
       "\n",
       "    .dataframe thead th {\n",
       "        text-align: right;\n",
       "    }\n",
       "</style>\n",
       "<table border=\"1\" class=\"dataframe\">\n",
       "  <thead>\n",
       "    <tr style=\"text-align: right;\">\n",
       "      <th></th>\n",
       "      <th>chromosome</th>\n",
       "      <th>snp</th>\n",
       "      <th>phewas phenotype</th>\n",
       "      <th>cases</th>\n",
       "      <th>p-value</th>\n",
       "      <th>odds-ratio</th>\n",
       "      <th>gene_name</th>\n",
       "      <th>phewas code</th>\n",
       "      <th>gwas-associations</th>\n",
       "      <th>gene_id</th>\n",
       "    </tr>\n",
       "  </thead>\n",
       "  <tbody>\n",
       "    <tr>\n",
       "      <th>0</th>\n",
       "      <td>19 45395619</td>\n",
       "      <td>rs2075650</td>\n",
       "      <td>Alzheimer's disease</td>\n",
       "      <td>737</td>\n",
       "      <td>5.237000e-28</td>\n",
       "      <td>2.410</td>\n",
       "      <td>TOMM40</td>\n",
       "      <td>290.11</td>\n",
       "      <td>Alzheimer's disease, Alzheimer's disease bioma...</td>\n",
       "      <td>ENSG00000130204</td>\n",
       "    </tr>\n",
       "    <tr>\n",
       "      <th>1</th>\n",
       "      <td>19 45395619</td>\n",
       "      <td>rs2075650</td>\n",
       "      <td>Dementias</td>\n",
       "      <td>1170</td>\n",
       "      <td>2.409000e-26</td>\n",
       "      <td>2.114</td>\n",
       "      <td>TOMM40</td>\n",
       "      <td>290.1</td>\n",
       "      <td>Alzheimer's disease, Alzheimer's disease bioma...</td>\n",
       "      <td>ENSG00000130204</td>\n",
       "    </tr>\n",
       "    <tr>\n",
       "      <th>2</th>\n",
       "      <td>6 396321</td>\n",
       "      <td>rs12203592</td>\n",
       "      <td>Actinic keratosis</td>\n",
       "      <td>2505</td>\n",
       "      <td>4.141000e-26</td>\n",
       "      <td>1.691</td>\n",
       "      <td>IRF4</td>\n",
       "      <td>702.1</td>\n",
       "      <td>Eye color, Hair color, Freckling, Progressive ...</td>\n",
       "      <td>ENSG00000137265</td>\n",
       "    </tr>\n",
       "    <tr>\n",
       "      <th>3</th>\n",
       "      <td>6 26093141</td>\n",
       "      <td>rs1800562</td>\n",
       "      <td>Iron metabolism disorder</td>\n",
       "      <td>40</td>\n",
       "      <td>3.409000e-25</td>\n",
       "      <td>12.270</td>\n",
       "      <td>HFE</td>\n",
       "      <td>275.1</td>\n",
       "      <td>Mean corpuscular hemoglobin, Glycated hemoglob...</td>\n",
       "      <td>ENSG00000010704</td>\n",
       "    </tr>\n",
       "    <tr>\n",
       "      <th>4</th>\n",
       "      <td>19 45395619</td>\n",
       "      <td>rs2075650</td>\n",
       "      <td>Delirium dementia and amnestic disorders</td>\n",
       "      <td>1566</td>\n",
       "      <td>8.027000e-24</td>\n",
       "      <td>1.841</td>\n",
       "      <td>TOMM40</td>\n",
       "      <td>290</td>\n",
       "      <td>Alzheimer's disease, Alzheimer's disease bioma...</td>\n",
       "      <td>ENSG00000130204</td>\n",
       "    </tr>\n",
       "  </tbody>\n",
       "</table>\n",
       "</div>"
      ],
      "text/plain": [
       "    chromosome         snp                          phewas phenotype  cases  \\\n",
       "0  19 45395619   rs2075650                       Alzheimer's disease    737   \n",
       "1  19 45395619   rs2075650                                 Dementias   1170   \n",
       "2     6 396321  rs12203592                         Actinic keratosis   2505   \n",
       "3   6 26093141   rs1800562                  Iron metabolism disorder     40   \n",
       "4  19 45395619   rs2075650  Delirium dementia and amnestic disorders   1566   \n",
       "\n",
       "        p-value  odds-ratio gene_name phewas code  \\\n",
       "0  5.237000e-28       2.410    TOMM40      290.11   \n",
       "1  2.409000e-26       2.114    TOMM40       290.1   \n",
       "2  4.141000e-26       1.691      IRF4       702.1   \n",
       "3  3.409000e-25      12.270       HFE       275.1   \n",
       "4  8.027000e-24       1.841    TOMM40         290   \n",
       "\n",
       "                                   gwas-associations          gene_id  \n",
       "0  Alzheimer's disease, Alzheimer's disease bioma...  ENSG00000130204  \n",
       "1  Alzheimer's disease, Alzheimer's disease bioma...  ENSG00000130204  \n",
       "2  Eye color, Hair color, Freckling, Progressive ...  ENSG00000137265  \n",
       "3  Mean corpuscular hemoglobin, Glycated hemoglob...  ENSG00000010704  \n",
       "4  Alzheimer's disease, Alzheimer's disease bioma...  ENSG00000130204  "
      ]
     },
     "execution_count": 19,
     "metadata": {},
     "output_type": "execute_result"
    }
   ],
   "source": [
    "phewas_catalog.head()"
   ]
  },
  {
   "cell_type": "code",
   "execution_count": 20,
   "metadata": {},
   "outputs": [
    {
     "data": {
      "text/html": [
       "<div>\n",
       "<style scoped>\n",
       "    .dataframe tbody tr th:only-of-type {\n",
       "        vertical-align: middle;\n",
       "    }\n",
       "\n",
       "    .dataframe tbody tr th {\n",
       "        vertical-align: top;\n",
       "    }\n",
       "\n",
       "    .dataframe thead th {\n",
       "        text-align: right;\n",
       "    }\n",
       "</style>\n",
       "<table border=\"1\" class=\"dataframe\">\n",
       "  <thead>\n",
       "    <tr style=\"text-align: right;\">\n",
       "      <th></th>\n",
       "      <th>chromosome</th>\n",
       "      <th>snp</th>\n",
       "      <th>phewas phenotype</th>\n",
       "      <th>cases</th>\n",
       "      <th>p-value</th>\n",
       "      <th>odds-ratio</th>\n",
       "      <th>gene_name</th>\n",
       "      <th>phewas code</th>\n",
       "      <th>gwas-associations</th>\n",
       "      <th>gene_id</th>\n",
       "    </tr>\n",
       "  </thead>\n",
       "  <tbody>\n",
       "    <tr>\n",
       "      <th>35306</th>\n",
       "      <td>10</td>\n",
       "      <td>rs7923609</td>\n",
       "      <td>ASCVD</td>\n",
       "      <td>166</td>\n",
       "      <td>0.008094</td>\n",
       "      <td>1.3610</td>\n",
       "      <td>JMJD1C</td>\n",
       "      <td>414.2</td>\n",
       "      <td>Alkaline phosphatase</td>\n",
       "      <td>ENSG00000171988</td>\n",
       "    </tr>\n",
       "    <tr>\n",
       "      <th>154790</th>\n",
       "      <td>22</td>\n",
       "      <td>rs1012068</td>\n",
       "      <td>ASCVD</td>\n",
       "      <td>166</td>\n",
       "      <td>0.035970</td>\n",
       "      <td>1.2920</td>\n",
       "      <td>DEPDC5</td>\n",
       "      <td>414.2</td>\n",
       "      <td>Chronic Hepatitis C infection</td>\n",
       "      <td>ENSG00000100150</td>\n",
       "    </tr>\n",
       "    <tr>\n",
       "      <th>72358</th>\n",
       "      <td>5 158814533</td>\n",
       "      <td>rs10045431</td>\n",
       "      <td>ASCVD</td>\n",
       "      <td>166</td>\n",
       "      <td>0.016740</td>\n",
       "      <td>0.7242</td>\n",
       "      <td>IL12B</td>\n",
       "      <td>414.2</td>\n",
       "      <td>Crohn's disease</td>\n",
       "      <td>ENSG00000113302</td>\n",
       "    </tr>\n",
       "    <tr>\n",
       "      <th>130720</th>\n",
       "      <td>14 87896435</td>\n",
       "      <td>rs17124581</td>\n",
       "      <td>ASCVD</td>\n",
       "      <td>166</td>\n",
       "      <td>0.030370</td>\n",
       "      <td>1.6090</td>\n",
       "      <td>SPATA7</td>\n",
       "      <td>414.2</td>\n",
       "      <td>Cognitive performance</td>\n",
       "      <td>ENSG00000042317</td>\n",
       "    </tr>\n",
       "    <tr>\n",
       "      <th>184453</th>\n",
       "      <td>6 31912648</td>\n",
       "      <td>rs429608</td>\n",
       "      <td>ASCVD</td>\n",
       "      <td>166</td>\n",
       "      <td>0.042840</td>\n",
       "      <td>1.3440</td>\n",
       "      <td>SKIV2L</td>\n",
       "      <td>414.2</td>\n",
       "      <td>Age-related macular degeneration</td>\n",
       "      <td>ENSG00000204351</td>\n",
       "    </tr>\n",
       "  </tbody>\n",
       "</table>\n",
       "</div>"
      ],
      "text/plain": [
       "         chromosome         snp phewas phenotype  cases   p-value  odds-ratio  \\\n",
       "35306            10   rs7923609            ASCVD    166  0.008094      1.3610   \n",
       "154790           22   rs1012068            ASCVD    166  0.035970      1.2920   \n",
       "72358   5 158814533  rs10045431            ASCVD    166  0.016740      0.7242   \n",
       "130720  14 87896435  rs17124581            ASCVD    166  0.030370      1.6090   \n",
       "184453   6 31912648    rs429608            ASCVD    166  0.042840      1.3440   \n",
       "\n",
       "       gene_name phewas code                 gwas-associations  \\\n",
       "35306     JMJD1C       414.2              Alkaline phosphatase   \n",
       "154790    DEPDC5       414.2     Chronic Hepatitis C infection   \n",
       "72358      IL12B       414.2                   Crohn's disease   \n",
       "130720    SPATA7       414.2             Cognitive performance   \n",
       "184453    SKIV2L       414.2  Age-related macular degeneration   \n",
       "\n",
       "                gene_id  \n",
       "35306   ENSG00000171988  \n",
       "154790  ENSG00000100150  \n",
       "72358   ENSG00000113302  \n",
       "130720  ENSG00000042317  \n",
       "184453  ENSG00000204351  "
      ]
     },
     "execution_count": 20,
     "metadata": {},
     "output_type": "execute_result"
    }
   ],
   "source": [
    "phewas_catalog.sort_values('phewas phenotype').head()"
   ]
  },
  {
   "cell_type": "markdown",
   "metadata": {},
   "source": [
    "# Genes in common"
   ]
  },
  {
   "cell_type": "code",
   "execution_count": 21,
   "metadata": {},
   "outputs": [],
   "source": [
    "shared_gene_ids = \\\n",
    "    set(phewas_catalog['gene_id'].values)\\\n",
    "    .intersection(genes_associations.index)"
   ]
  },
  {
   "cell_type": "code",
   "execution_count": 22,
   "metadata": {},
   "outputs": [
    {
     "data": {
      "text/plain": [
       "1593"
      ]
     },
     "execution_count": 22,
     "metadata": {},
     "output_type": "execute_result"
    }
   ],
   "source": [
    "len(shared_gene_ids)"
   ]
  },
  {
   "cell_type": "markdown",
   "metadata": {},
   "source": [
    "# HPO to MIM"
   ]
  },
  {
   "cell_type": "code",
   "execution_count": 23,
   "metadata": {},
   "outputs": [],
   "source": [
    "hpo_to_mim = pd.read_csv(os.path.join(conf.DATA_DIR, 'hpo-to-omim-and-phecode.csv.gz'), dtype={'phecode': str})"
   ]
  },
  {
   "cell_type": "code",
   "execution_count": 24,
   "metadata": {},
   "outputs": [
    {
     "data": {
      "text/plain": [
       "(84031, 10)"
      ]
     },
     "execution_count": 24,
     "metadata": {},
     "output_type": "execute_result"
    }
   ],
   "source": [
    "hpo_to_mim.shape"
   ]
  },
  {
   "cell_type": "code",
   "execution_count": 25,
   "metadata": {},
   "outputs": [
    {
     "data": {
      "text/html": [
       "<div>\n",
       "<style scoped>\n",
       "    .dataframe tbody tr th:only-of-type {\n",
       "        vertical-align: middle;\n",
       "    }\n",
       "\n",
       "    .dataframe tbody tr th {\n",
       "        vertical-align: top;\n",
       "    }\n",
       "\n",
       "    .dataframe thead th {\n",
       "        text-align: right;\n",
       "    }\n",
       "</style>\n",
       "<table border=\"1\" class=\"dataframe\">\n",
       "  <thead>\n",
       "    <tr style=\"text-align: right;\">\n",
       "      <th></th>\n",
       "      <th>term_id</th>\n",
       "      <th>name</th>\n",
       "      <th>match_available</th>\n",
       "      <th>phecode</th>\n",
       "      <th>phecode string</th>\n",
       "      <th>match_type</th>\n",
       "      <th>class</th>\n",
       "      <th>dID</th>\n",
       "      <th>disease_name</th>\n",
       "      <th>modifier</th>\n",
       "    </tr>\n",
       "  </thead>\n",
       "  <tbody>\n",
       "    <tr>\n",
       "      <th>0</th>\n",
       "      <td>28</td>\n",
       "      <td>Cryptorchidism</td>\n",
       "      <td>1</td>\n",
       "      <td>751.12</td>\n",
       "      <td>Congenital anomalies of male genital organs</td>\n",
       "      <td>General</td>\n",
       "      <td>Congenital</td>\n",
       "      <td>100050</td>\n",
       "      <td>100050 AARSKOG SYNDROME, AUTOSOMAL DOMINANT</td>\n",
       "      <td>O</td>\n",
       "    </tr>\n",
       "    <tr>\n",
       "      <th>1</th>\n",
       "      <td>49</td>\n",
       "      <td>Shawl scrotum</td>\n",
       "      <td>1</td>\n",
       "      <td>751.12</td>\n",
       "      <td>Congenital anomalies of male genital organs</td>\n",
       "      <td>General</td>\n",
       "      <td>Congenital</td>\n",
       "      <td>100050</td>\n",
       "      <td>100050 AARSKOG SYNDROME, AUTOSOMAL DOMINANT</td>\n",
       "      <td>O</td>\n",
       "    </tr>\n",
       "    <tr>\n",
       "      <th>2</th>\n",
       "      <td>175</td>\n",
       "      <td>Cleft palate</td>\n",
       "      <td>1</td>\n",
       "      <td>749.1</td>\n",
       "      <td>Cleft palate</td>\n",
       "      <td>Exact</td>\n",
       "      <td>Congenital</td>\n",
       "      <td>100050</td>\n",
       "      <td>100050 AARSKOG SYNDROME, AUTOSOMAL DOMINANT</td>\n",
       "      <td>O</td>\n",
       "    </tr>\n",
       "    <tr>\n",
       "      <th>3</th>\n",
       "      <td>202</td>\n",
       "      <td>Oral cleft</td>\n",
       "      <td>1</td>\n",
       "      <td>749.1</td>\n",
       "      <td>Cleft palate</td>\n",
       "      <td>Broader</td>\n",
       "      <td>Congenital</td>\n",
       "      <td>100050</td>\n",
       "      <td>100050 AARSKOG SYNDROME, AUTOSOMAL DOMINANT</td>\n",
       "      <td>O</td>\n",
       "    </tr>\n",
       "    <tr>\n",
       "      <th>4</th>\n",
       "      <td>204</td>\n",
       "      <td>Cleft upper lip</td>\n",
       "      <td>1</td>\n",
       "      <td>749.1</td>\n",
       "      <td>Cleft palate</td>\n",
       "      <td>Broader</td>\n",
       "      <td>Congenital</td>\n",
       "      <td>100050</td>\n",
       "      <td>100050 AARSKOG SYNDROME, AUTOSOMAL DOMINANT</td>\n",
       "      <td>O</td>\n",
       "    </tr>\n",
       "  </tbody>\n",
       "</table>\n",
       "</div>"
      ],
      "text/plain": [
       "   term_id             name match_available phecode  \\\n",
       "0       28   Cryptorchidism               1  751.12   \n",
       "1       49    Shawl scrotum               1  751.12   \n",
       "2      175     Cleft palate               1   749.1   \n",
       "3      202       Oral cleft               1   749.1   \n",
       "4      204  Cleft upper lip               1   749.1   \n",
       "\n",
       "                                phecode string match_type       class     dID  \\\n",
       "0  Congenital anomalies of male genital organs    General  Congenital  100050   \n",
       "1  Congenital anomalies of male genital organs    General  Congenital  100050   \n",
       "2                                 Cleft palate      Exact  Congenital  100050   \n",
       "3                                 Cleft palate    Broader  Congenital  100050   \n",
       "4                                 Cleft palate    Broader  Congenital  100050   \n",
       "\n",
       "                                  disease_name modifier  \n",
       "0  100050 AARSKOG SYNDROME, AUTOSOMAL DOMINANT        O  \n",
       "1  100050 AARSKOG SYNDROME, AUTOSOMAL DOMINANT        O  \n",
       "2  100050 AARSKOG SYNDROME, AUTOSOMAL DOMINANT        O  \n",
       "3  100050 AARSKOG SYNDROME, AUTOSOMAL DOMINANT        O  \n",
       "4  100050 AARSKOG SYNDROME, AUTOSOMAL DOMINANT        O  "
      ]
     },
     "execution_count": 25,
     "metadata": {},
     "output_type": "execute_result"
    }
   ],
   "source": [
    "hpo_to_mim.head()"
   ]
  },
  {
   "cell_type": "markdown",
   "metadata": {},
   "source": [
    "# Load silver standard to map from UKB to MIM"
   ]
  },
  {
   "cell_type": "code",
   "execution_count": 26,
   "metadata": {},
   "outputs": [],
   "source": [
    "omim_silver_standard = pd.read_csv(os.path.join(conf.DATA_DIR, 'omim_silver_standard.tsv'), sep='\\t')"
   ]
  },
  {
   "cell_type": "code",
   "execution_count": 27,
   "metadata": {},
   "outputs": [],
   "source": [
    "ukb_to_mim_map = omim_silver_standard[['trait', 'pheno_mim']].dropna()"
   ]
  },
  {
   "cell_type": "code",
   "execution_count": 28,
   "metadata": {},
   "outputs": [
    {
     "data": {
      "text/plain": [
       "(7822, 2)"
      ]
     },
     "execution_count": 28,
     "metadata": {},
     "output_type": "execute_result"
    }
   ],
   "source": [
    "ukb_to_mim_map.shape"
   ]
  },
  {
   "cell_type": "code",
   "execution_count": 29,
   "metadata": {},
   "outputs": [
    {
     "data": {
      "text/html": [
       "<div>\n",
       "<style scoped>\n",
       "    .dataframe tbody tr th:only-of-type {\n",
       "        vertical-align: middle;\n",
       "    }\n",
       "\n",
       "    .dataframe tbody tr th {\n",
       "        vertical-align: top;\n",
       "    }\n",
       "\n",
       "    .dataframe thead th {\n",
       "        text-align: right;\n",
       "    }\n",
       "</style>\n",
       "<table border=\"1\" class=\"dataframe\">\n",
       "  <thead>\n",
       "    <tr style=\"text-align: right;\">\n",
       "      <th></th>\n",
       "      <th>trait</th>\n",
       "      <th>pheno_mim</th>\n",
       "    </tr>\n",
       "  </thead>\n",
       "  <tbody>\n",
       "    <tr>\n",
       "      <th>0</th>\n",
       "      <td>M41-Diagnoses_main_ICD10_M41_Scoliosis</td>\n",
       "      <td>101800</td>\n",
       "    </tr>\n",
       "    <tr>\n",
       "      <th>1</th>\n",
       "      <td>M41-Diagnoses_main_ICD10_M41_Scoliosis</td>\n",
       "      <td>102500</td>\n",
       "    </tr>\n",
       "    <tr>\n",
       "      <th>2</th>\n",
       "      <td>M41-Diagnoses_main_ICD10_M41_Scoliosis</td>\n",
       "      <td>105830</td>\n",
       "    </tr>\n",
       "    <tr>\n",
       "      <th>3</th>\n",
       "      <td>M41-Diagnoses_main_ICD10_M41_Scoliosis</td>\n",
       "      <td>108120</td>\n",
       "    </tr>\n",
       "    <tr>\n",
       "      <th>4</th>\n",
       "      <td>M41-Diagnoses_main_ICD10_M41_Scoliosis</td>\n",
       "      <td>108145</td>\n",
       "    </tr>\n",
       "  </tbody>\n",
       "</table>\n",
       "</div>"
      ],
      "text/plain": [
       "                                    trait  pheno_mim\n",
       "0  M41-Diagnoses_main_ICD10_M41_Scoliosis     101800\n",
       "1  M41-Diagnoses_main_ICD10_M41_Scoliosis     102500\n",
       "2  M41-Diagnoses_main_ICD10_M41_Scoliosis     105830\n",
       "3  M41-Diagnoses_main_ICD10_M41_Scoliosis     108120\n",
       "4  M41-Diagnoses_main_ICD10_M41_Scoliosis     108145"
      ]
     },
     "execution_count": 29,
     "metadata": {},
     "output_type": "execute_result"
    }
   ],
   "source": [
    "ukb_to_mim_map.head()"
   ]
  },
  {
   "cell_type": "markdown",
   "metadata": {},
   "source": [
    "# Read gwas2gene results"
   ]
  },
  {
   "cell_type": "code",
   "execution_count": 30,
   "metadata": {},
   "outputs": [],
   "source": [
    "from glob import glob\n",
    "\n",
    "import rpy2.robjects as robjects\n",
    "from rpy2.robjects import pandas2ri\n",
    "pandas2ri.activate()"
   ]
  },
  {
   "cell_type": "code",
   "execution_count": 31,
   "metadata": {},
   "outputs": [],
   "source": [
    "readRDS = robjects.r['readRDS']"
   ]
  },
  {
   "cell_type": "code",
   "execution_count": 32,
   "metadata": {},
   "outputs": [
    {
     "data": {
      "text/plain": [
       "99"
      ]
     },
     "metadata": {},
     "output_type": "display_data"
    },
    {
     "name": "stdout",
     "output_type": "stream",
     "text": [
      "WARNING: some files are not there. 107 expected, 99 found.\n"
     ]
    }
   ],
   "source": [
    "f_files = glob(os.path.join(conf.OMIM_SILVER_STANDARD_GWAS_TO_GENE_DIR, '*.rds'))\n",
    "display(len(f_files))\n",
    "\n",
    "if len(f_files) != len(omim_silver_standard['trait'].unique()):\n",
    "    print(f'WARNING: some files are not there. {len(omim_silver_standard.trait.unique())} expected, {len(f_files)} found.')"
   ]
  },
  {
   "cell_type": "code",
   "execution_count": 33,
   "metadata": {},
   "outputs": [],
   "source": [
    "gwas2genes_results = {}\n",
    "\n",
    "for f in f_files:\n",
    "    f_base = os.path.basename(f)\n",
    "    f_code = f_base.split('.')[0]\n",
    "    \n",
    "    #print(f_base)\n",
    "    rds_contents = readRDS(f)\n",
    "    \n",
    "    if len(rds_contents[1]) > 0:\n",
    "        f_gene_list = list(rds_contents[1][0].iter_labels())\n",
    "    else:\n",
    "        print(f'{f_code}: empty')\n",
    "        f_gene_list = []\n",
    "    \n",
    "    gwas2genes_results[f_code] = f_gene_list"
   ]
  },
  {
   "cell_type": "code",
   "execution_count": 34,
   "metadata": {},
   "outputs": [
    {
     "data": {
      "text/plain": [
       "20837"
      ]
     },
     "metadata": {},
     "output_type": "display_data"
    },
    {
     "data": {
      "text/plain": [
       "10185"
      ]
     },
     "metadata": {},
     "output_type": "display_data"
    },
    {
     "data": {
      "text/plain": [
       "958"
      ]
     },
     "metadata": {},
     "output_type": "display_data"
    }
   ],
   "source": [
    "gwas2gene_all_genes = []\n",
    "\n",
    "for k in gwas2genes_results.keys():\n",
    "    gwas2gene_all_genes.extend(gwas2genes_results[k])\n",
    "\n",
    "display(len(gwas2gene_all_genes))\n",
    "\n",
    "gwas2gene_all_genes = set(gwas2gene_all_genes)\n",
    "display(len(gwas2gene_all_genes))\n",
    "\n",
    "gwas2gene_all_genes = shared_gene_ids.intersection(gwas2gene_all_genes)\n",
    "display(len(gwas2gene_all_genes))"
   ]
  },
  {
   "cell_type": "code",
   "execution_count": 35,
   "metadata": {},
   "outputs": [
    {
     "data": {
      "text/plain": [
       "0    ENSG00000276070\n",
       "1    ENSG00000110675\n",
       "2    ENSG00000152767\n",
       "3    ENSG00000179914\n",
       "4    ENSG00000104356\n",
       "dtype: object"
      ]
     },
     "execution_count": 35,
     "metadata": {},
     "output_type": "execute_result"
    }
   ],
   "source": [
    "pd.Series(list(gwas2gene_all_genes)).head()"
   ]
  },
  {
   "cell_type": "markdown",
   "metadata": {},
   "source": [
    "# Universe"
   ]
  },
  {
   "cell_type": "code",
   "execution_count": 36,
   "metadata": {},
   "outputs": [],
   "source": [
    "from entity import Trait"
   ]
  },
  {
   "cell_type": "code",
   "execution_count": 37,
   "metadata": {},
   "outputs": [
    {
     "name": "stdout",
     "output_type": "stream",
     "text": [
      "M13\n",
      "I95\n",
      "I71\n",
      "20002_1264\n",
      "20002_1081\n",
      "22130\n",
      "C80\n",
      "20002_1538\n"
     ]
    }
   ],
   "source": [
    "_ukb_traits = []\n",
    "_ukb_traits_phecodes = []\n",
    "_ukb_gene_available = []\n",
    "\n",
    "for t in ukb_to_mim_map['trait'].unique():\n",
    "    t_code = Trait(full_code=t).code\n",
    "    if t_code not in gwas2genes_results:\n",
    "        print(t_code)\n",
    "        continue\n",
    "    \n",
    "    for g in gwas2genes_results[t_code]:\n",
    "        _ukb_traits.append(t)\n",
    "        _ukb_gene_available.append(g)"
   ]
  },
  {
   "cell_type": "code",
   "execution_count": 38,
   "metadata": {},
   "outputs": [],
   "source": [
    "df = pd.DataFrame({'trait': _ukb_traits, 'gene': _ukb_gene_available})"
   ]
  },
  {
   "cell_type": "code",
   "execution_count": 39,
   "metadata": {},
   "outputs": [
    {
     "data": {
      "text/plain": [
       "(20837, 2)"
      ]
     },
     "execution_count": 39,
     "metadata": {},
     "output_type": "execute_result"
    }
   ],
   "source": [
    "df.shape"
   ]
  },
  {
   "cell_type": "code",
   "execution_count": 40,
   "metadata": {},
   "outputs": [
    {
     "data": {
      "text/html": [
       "<div>\n",
       "<style scoped>\n",
       "    .dataframe tbody tr th:only-of-type {\n",
       "        vertical-align: middle;\n",
       "    }\n",
       "\n",
       "    .dataframe tbody tr th {\n",
       "        vertical-align: top;\n",
       "    }\n",
       "\n",
       "    .dataframe thead th {\n",
       "        text-align: right;\n",
       "    }\n",
       "</style>\n",
       "<table border=\"1\" class=\"dataframe\">\n",
       "  <thead>\n",
       "    <tr style=\"text-align: right;\">\n",
       "      <th></th>\n",
       "      <th>trait</th>\n",
       "      <th>gene</th>\n",
       "    </tr>\n",
       "  </thead>\n",
       "  <tbody>\n",
       "    <tr>\n",
       "      <th>0</th>\n",
       "      <td>M41-Diagnoses_main_ICD10_M41_Scoliosis</td>\n",
       "      <td>ENSG00000012504</td>\n",
       "    </tr>\n",
       "    <tr>\n",
       "      <th>1</th>\n",
       "      <td>M41-Diagnoses_main_ICD10_M41_Scoliosis</td>\n",
       "      <td>ENSG00000075089</td>\n",
       "    </tr>\n",
       "    <tr>\n",
       "      <th>2</th>\n",
       "      <td>M41-Diagnoses_main_ICD10_M41_Scoliosis</td>\n",
       "      <td>ENSG00000075336</td>\n",
       "    </tr>\n",
       "    <tr>\n",
       "      <th>3</th>\n",
       "      <td>M41-Diagnoses_main_ICD10_M41_Scoliosis</td>\n",
       "      <td>ENSG00000078401</td>\n",
       "    </tr>\n",
       "    <tr>\n",
       "      <th>4</th>\n",
       "      <td>M41-Diagnoses_main_ICD10_M41_Scoliosis</td>\n",
       "      <td>ENSG00000090263</td>\n",
       "    </tr>\n",
       "  </tbody>\n",
       "</table>\n",
       "</div>"
      ],
      "text/plain": [
       "                                    trait             gene\n",
       "0  M41-Diagnoses_main_ICD10_M41_Scoliosis  ENSG00000012504\n",
       "1  M41-Diagnoses_main_ICD10_M41_Scoliosis  ENSG00000075089\n",
       "2  M41-Diagnoses_main_ICD10_M41_Scoliosis  ENSG00000075336\n",
       "3  M41-Diagnoses_main_ICD10_M41_Scoliosis  ENSG00000078401\n",
       "4  M41-Diagnoses_main_ICD10_M41_Scoliosis  ENSG00000090263"
      ]
     },
     "execution_count": 40,
     "metadata": {},
     "output_type": "execute_result"
    }
   ],
   "source": [
    "df.head()"
   ]
  },
  {
   "cell_type": "markdown",
   "metadata": {},
   "source": [
    "# Add MIM/Phecode"
   ]
  },
  {
   "cell_type": "code",
   "execution_count": 41,
   "metadata": {},
   "outputs": [
    {
     "data": {
      "text/plain": [
       "(1506780, 3)"
      ]
     },
     "metadata": {},
     "output_type": "display_data"
    },
    {
     "data": {
      "text/html": [
       "<div>\n",
       "<style scoped>\n",
       "    .dataframe tbody tr th:only-of-type {\n",
       "        vertical-align: middle;\n",
       "    }\n",
       "\n",
       "    .dataframe tbody tr th {\n",
       "        vertical-align: top;\n",
       "    }\n",
       "\n",
       "    .dataframe thead th {\n",
       "        text-align: right;\n",
       "    }\n",
       "</style>\n",
       "<table border=\"1\" class=\"dataframe\">\n",
       "  <thead>\n",
       "    <tr style=\"text-align: right;\">\n",
       "      <th></th>\n",
       "      <th>trait</th>\n",
       "      <th>gene</th>\n",
       "      <th>pheno_mim</th>\n",
       "    </tr>\n",
       "  </thead>\n",
       "  <tbody>\n",
       "    <tr>\n",
       "      <th>0</th>\n",
       "      <td>M41-Diagnoses_main_ICD10_M41_Scoliosis</td>\n",
       "      <td>ENSG00000012504</td>\n",
       "      <td>101800</td>\n",
       "    </tr>\n",
       "    <tr>\n",
       "      <th>1</th>\n",
       "      <td>M41-Diagnoses_main_ICD10_M41_Scoliosis</td>\n",
       "      <td>ENSG00000012504</td>\n",
       "      <td>102500</td>\n",
       "    </tr>\n",
       "    <tr>\n",
       "      <th>2</th>\n",
       "      <td>M41-Diagnoses_main_ICD10_M41_Scoliosis</td>\n",
       "      <td>ENSG00000012504</td>\n",
       "      <td>105830</td>\n",
       "    </tr>\n",
       "    <tr>\n",
       "      <th>3</th>\n",
       "      <td>M41-Diagnoses_main_ICD10_M41_Scoliosis</td>\n",
       "      <td>ENSG00000012504</td>\n",
       "      <td>108120</td>\n",
       "    </tr>\n",
       "    <tr>\n",
       "      <th>4</th>\n",
       "      <td>M41-Diagnoses_main_ICD10_M41_Scoliosis</td>\n",
       "      <td>ENSG00000012504</td>\n",
       "      <td>108145</td>\n",
       "    </tr>\n",
       "  </tbody>\n",
       "</table>\n",
       "</div>"
      ],
      "text/plain": [
       "                                    trait             gene  pheno_mim\n",
       "0  M41-Diagnoses_main_ICD10_M41_Scoliosis  ENSG00000012504     101800\n",
       "1  M41-Diagnoses_main_ICD10_M41_Scoliosis  ENSG00000012504     102500\n",
       "2  M41-Diagnoses_main_ICD10_M41_Scoliosis  ENSG00000012504     105830\n",
       "3  M41-Diagnoses_main_ICD10_M41_Scoliosis  ENSG00000012504     108120\n",
       "4  M41-Diagnoses_main_ICD10_M41_Scoliosis  ENSG00000012504     108145"
      ]
     },
     "metadata": {},
     "output_type": "display_data"
    }
   ],
   "source": [
    "# add mim\n",
    "_tmp = pd.merge(df, ukb_to_mim_map, on='trait', how='inner')\n",
    "display(_tmp.shape)\n",
    "display(_tmp.head())"
   ]
  },
  {
   "cell_type": "code",
   "execution_count": 42,
   "metadata": {},
   "outputs": [
    {
     "data": {
      "text/plain": [
       "(0, 3)"
      ]
     },
     "execution_count": 42,
     "metadata": {},
     "output_type": "execute_result"
    }
   ],
   "source": [
    "_tmp[_tmp['pheno_mim'].isna()].shape"
   ]
  },
  {
   "cell_type": "code",
   "execution_count": 43,
   "metadata": {},
   "outputs": [
    {
     "data": {
      "text/plain": [
       "(23894957, 4)"
      ]
     },
     "metadata": {},
     "output_type": "display_data"
    },
    {
     "data": {
      "text/html": [
       "<div>\n",
       "<style scoped>\n",
       "    .dataframe tbody tr th:only-of-type {\n",
       "        vertical-align: middle;\n",
       "    }\n",
       "\n",
       "    .dataframe tbody tr th {\n",
       "        vertical-align: top;\n",
       "    }\n",
       "\n",
       "    .dataframe thead th {\n",
       "        text-align: right;\n",
       "    }\n",
       "</style>\n",
       "<table border=\"1\" class=\"dataframe\">\n",
       "  <thead>\n",
       "    <tr style=\"text-align: right;\">\n",
       "      <th></th>\n",
       "      <th>trait</th>\n",
       "      <th>gene</th>\n",
       "      <th>pheno_mim</th>\n",
       "      <th>phecode</th>\n",
       "    </tr>\n",
       "  </thead>\n",
       "  <tbody>\n",
       "    <tr>\n",
       "      <th>0</th>\n",
       "      <td>M41-Diagnoses_main_ICD10_M41_Scoliosis</td>\n",
       "      <td>ENSG00000012504</td>\n",
       "      <td>101800</td>\n",
       "      <td>751.12</td>\n",
       "    </tr>\n",
       "    <tr>\n",
       "      <th>1</th>\n",
       "      <td>M41-Diagnoses_main_ICD10_M41_Scoliosis</td>\n",
       "      <td>ENSG00000012504</td>\n",
       "      <td>101800</td>\n",
       "      <td>257.1</td>\n",
       "    </tr>\n",
       "    <tr>\n",
       "      <th>2</th>\n",
       "      <td>M41-Diagnoses_main_ICD10_M41_Scoliosis</td>\n",
       "      <td>ENSG00000012504</td>\n",
       "      <td>101800</td>\n",
       "      <td>331.1</td>\n",
       "    </tr>\n",
       "    <tr>\n",
       "      <th>3</th>\n",
       "      <td>M41-Diagnoses_main_ICD10_M41_Scoliosis</td>\n",
       "      <td>ENSG00000012504</td>\n",
       "      <td>101800</td>\n",
       "      <td>749.2</td>\n",
       "    </tr>\n",
       "    <tr>\n",
       "      <th>4</th>\n",
       "      <td>M41-Diagnoses_main_ICD10_M41_Scoliosis</td>\n",
       "      <td>ENSG00000012504</td>\n",
       "      <td>101800</td>\n",
       "      <td>526.3</td>\n",
       "    </tr>\n",
       "  </tbody>\n",
       "</table>\n",
       "</div>"
      ],
      "text/plain": [
       "                                    trait             gene  pheno_mim phecode\n",
       "0  M41-Diagnoses_main_ICD10_M41_Scoliosis  ENSG00000012504     101800  751.12\n",
       "1  M41-Diagnoses_main_ICD10_M41_Scoliosis  ENSG00000012504     101800   257.1\n",
       "2  M41-Diagnoses_main_ICD10_M41_Scoliosis  ENSG00000012504     101800   331.1\n",
       "3  M41-Diagnoses_main_ICD10_M41_Scoliosis  ENSG00000012504     101800   749.2\n",
       "4  M41-Diagnoses_main_ICD10_M41_Scoliosis  ENSG00000012504     101800   526.3"
      ]
     },
     "metadata": {},
     "output_type": "display_data"
    }
   ],
   "source": [
    "# mim to phecode\n",
    "_tmp = pd.merge(_tmp, hpo_to_mim[['phecode', 'dID']].dropna(), left_on='pheno_mim', right_on='dID', how='inner').drop(columns=['dID'])\n",
    "display(_tmp.shape)\n",
    "display(_tmp.head())"
   ]
  },
  {
   "cell_type": "code",
   "execution_count": 44,
   "metadata": {},
   "outputs": [
    {
     "data": {
      "text/plain": [
       "(0, 4)"
      ]
     },
     "execution_count": 44,
     "metadata": {},
     "output_type": "execute_result"
    }
   ],
   "source": [
    "_tmp[_tmp['phecode'].isna()].shape"
   ]
  },
  {
   "cell_type": "code",
   "execution_count": 45,
   "metadata": {},
   "outputs": [
    {
     "data": {
      "text/html": [
       "<div>\n",
       "<style scoped>\n",
       "    .dataframe tbody tr th:only-of-type {\n",
       "        vertical-align: middle;\n",
       "    }\n",
       "\n",
       "    .dataframe tbody tr th {\n",
       "        vertical-align: top;\n",
       "    }\n",
       "\n",
       "    .dataframe thead th {\n",
       "        text-align: right;\n",
       "    }\n",
       "</style>\n",
       "<table border=\"1\" class=\"dataframe\">\n",
       "  <thead>\n",
       "    <tr style=\"text-align: right;\">\n",
       "      <th></th>\n",
       "      <th>trait</th>\n",
       "      <th>gene</th>\n",
       "      <th>pheno_mim</th>\n",
       "      <th>phecode</th>\n",
       "    </tr>\n",
       "  </thead>\n",
       "  <tbody>\n",
       "    <tr>\n",
       "      <th>0</th>\n",
       "      <td>M41-Diagnoses_main_ICD10_M41_Scoliosis</td>\n",
       "      <td>ENSG00000012504</td>\n",
       "      <td>101800</td>\n",
       "      <td>751.12</td>\n",
       "    </tr>\n",
       "    <tr>\n",
       "      <th>1</th>\n",
       "      <td>M41-Diagnoses_main_ICD10_M41_Scoliosis</td>\n",
       "      <td>ENSG00000012504</td>\n",
       "      <td>101800</td>\n",
       "      <td>257.1</td>\n",
       "    </tr>\n",
       "    <tr>\n",
       "      <th>2</th>\n",
       "      <td>M41-Diagnoses_main_ICD10_M41_Scoliosis</td>\n",
       "      <td>ENSG00000012504</td>\n",
       "      <td>101800</td>\n",
       "      <td>331.1</td>\n",
       "    </tr>\n",
       "    <tr>\n",
       "      <th>3</th>\n",
       "      <td>M41-Diagnoses_main_ICD10_M41_Scoliosis</td>\n",
       "      <td>ENSG00000012504</td>\n",
       "      <td>101800</td>\n",
       "      <td>749.2</td>\n",
       "    </tr>\n",
       "    <tr>\n",
       "      <th>4</th>\n",
       "      <td>M41-Diagnoses_main_ICD10_M41_Scoliosis</td>\n",
       "      <td>ENSG00000012504</td>\n",
       "      <td>101800</td>\n",
       "      <td>526.3</td>\n",
       "    </tr>\n",
       "  </tbody>\n",
       "</table>\n",
       "</div>"
      ],
      "text/plain": [
       "                                    trait             gene  pheno_mim phecode\n",
       "0  M41-Diagnoses_main_ICD10_M41_Scoliosis  ENSG00000012504     101800  751.12\n",
       "1  M41-Diagnoses_main_ICD10_M41_Scoliosis  ENSG00000012504     101800   257.1\n",
       "2  M41-Diagnoses_main_ICD10_M41_Scoliosis  ENSG00000012504     101800   331.1\n",
       "3  M41-Diagnoses_main_ICD10_M41_Scoliosis  ENSG00000012504     101800   749.2\n",
       "4  M41-Diagnoses_main_ICD10_M41_Scoliosis  ENSG00000012504     101800   526.3"
      ]
     },
     "execution_count": 45,
     "metadata": {},
     "output_type": "execute_result"
    }
   ],
   "source": [
    "_tmp.head()"
   ]
  },
  {
   "cell_type": "code",
   "execution_count": 46,
   "metadata": {},
   "outputs": [
    {
     "data": {
      "text/plain": [
       "(23916174, 5)"
      ]
     },
     "metadata": {},
     "output_type": "display_data"
    }
   ],
   "source": [
    "# phecode to phewas catalog\n",
    "_tmp = pd.merge(_tmp, phewas_catalog[['phewas code', 'gene_id']],\n",
    "                left_on=['phecode', 'gene'], right_on=['phewas code', 'gene_id'],\n",
    "                how='left').drop(columns=['phewas code'])\n",
    "display(_tmp.shape)"
   ]
  },
  {
   "cell_type": "code",
   "execution_count": 47,
   "metadata": {},
   "outputs": [
    {
     "data": {
      "text/html": [
       "<div>\n",
       "<style scoped>\n",
       "    .dataframe tbody tr th:only-of-type {\n",
       "        vertical-align: middle;\n",
       "    }\n",
       "\n",
       "    .dataframe tbody tr th {\n",
       "        vertical-align: top;\n",
       "    }\n",
       "\n",
       "    .dataframe thead th {\n",
       "        text-align: right;\n",
       "    }\n",
       "</style>\n",
       "<table border=\"1\" class=\"dataframe\">\n",
       "  <thead>\n",
       "    <tr style=\"text-align: right;\">\n",
       "      <th></th>\n",
       "      <th>trait</th>\n",
       "      <th>gene</th>\n",
       "      <th>pheno_mim</th>\n",
       "      <th>phecode</th>\n",
       "      <th>gene_id</th>\n",
       "    </tr>\n",
       "  </thead>\n",
       "  <tbody>\n",
       "    <tr>\n",
       "      <th>0</th>\n",
       "      <td>M41-Diagnoses_main_ICD10_M41_Scoliosis</td>\n",
       "      <td>ENSG00000012504</td>\n",
       "      <td>101800</td>\n",
       "      <td>751.12</td>\n",
       "      <td>NaN</td>\n",
       "    </tr>\n",
       "    <tr>\n",
       "      <th>1</th>\n",
       "      <td>M41-Diagnoses_main_ICD10_M41_Scoliosis</td>\n",
       "      <td>ENSG00000012504</td>\n",
       "      <td>101800</td>\n",
       "      <td>257.1</td>\n",
       "      <td>NaN</td>\n",
       "    </tr>\n",
       "    <tr>\n",
       "      <th>2</th>\n",
       "      <td>M41-Diagnoses_main_ICD10_M41_Scoliosis</td>\n",
       "      <td>ENSG00000012504</td>\n",
       "      <td>101800</td>\n",
       "      <td>331.1</td>\n",
       "      <td>NaN</td>\n",
       "    </tr>\n",
       "    <tr>\n",
       "      <th>3</th>\n",
       "      <td>M41-Diagnoses_main_ICD10_M41_Scoliosis</td>\n",
       "      <td>ENSG00000012504</td>\n",
       "      <td>101800</td>\n",
       "      <td>749.2</td>\n",
       "      <td>NaN</td>\n",
       "    </tr>\n",
       "    <tr>\n",
       "      <th>4</th>\n",
       "      <td>M41-Diagnoses_main_ICD10_M41_Scoliosis</td>\n",
       "      <td>ENSG00000012504</td>\n",
       "      <td>101800</td>\n",
       "      <td>526.3</td>\n",
       "      <td>NaN</td>\n",
       "    </tr>\n",
       "  </tbody>\n",
       "</table>\n",
       "</div>"
      ],
      "text/plain": [
       "                                    trait             gene  pheno_mim phecode  \\\n",
       "0  M41-Diagnoses_main_ICD10_M41_Scoliosis  ENSG00000012504     101800  751.12   \n",
       "1  M41-Diagnoses_main_ICD10_M41_Scoliosis  ENSG00000012504     101800   257.1   \n",
       "2  M41-Diagnoses_main_ICD10_M41_Scoliosis  ENSG00000012504     101800   331.1   \n",
       "3  M41-Diagnoses_main_ICD10_M41_Scoliosis  ENSG00000012504     101800   749.2   \n",
       "4  M41-Diagnoses_main_ICD10_M41_Scoliosis  ENSG00000012504     101800   526.3   \n",
       "\n",
       "  gene_id  \n",
       "0     NaN  \n",
       "1     NaN  \n",
       "2     NaN  \n",
       "3     NaN  \n",
       "4     NaN  "
      ]
     },
     "execution_count": 47,
     "metadata": {},
     "output_type": "execute_result"
    }
   ],
   "source": [
    "_tmp.head()"
   ]
  },
  {
   "cell_type": "code",
   "execution_count": 48,
   "metadata": {},
   "outputs": [
    {
     "data": {
      "text/plain": [
       "(23747359, 5)"
      ]
     },
     "execution_count": 48,
     "metadata": {},
     "output_type": "execute_result"
    }
   ],
   "source": [
    "_tmp[_tmp['gene_id'].isna()].shape"
   ]
  },
  {
   "cell_type": "code",
   "execution_count": 49,
   "metadata": {},
   "outputs": [],
   "source": [
    "_tmp = _tmp.drop_duplicates(subset=['trait', 'gene', 'gene_id'])"
   ]
  },
  {
   "cell_type": "code",
   "execution_count": 50,
   "metadata": {},
   "outputs": [
    {
     "data": {
      "text/plain": [
       "(23042, 5)"
      ]
     },
     "execution_count": 50,
     "metadata": {},
     "output_type": "execute_result"
    }
   ],
   "source": [
    "_tmp.shape"
   ]
  },
  {
   "cell_type": "code",
   "execution_count": 51,
   "metadata": {},
   "outputs": [
    {
     "data": {
      "text/plain": [
       "(20837, 5)"
      ]
     },
     "execution_count": 51,
     "metadata": {},
     "output_type": "execute_result"
    }
   ],
   "source": [
    "_tmp[_tmp['gene_id'].isna()].shape"
   ]
  },
  {
   "cell_type": "code",
   "execution_count": 52,
   "metadata": {},
   "outputs": [],
   "source": [
    "_tmp = _tmp.assign(true_class=_tmp['gene_id'].apply(lambda x: int(not pd.isnull(x))))"
   ]
  },
  {
   "cell_type": "code",
   "execution_count": 53,
   "metadata": {},
   "outputs": [
    {
     "data": {
      "text/html": [
       "<div>\n",
       "<style scoped>\n",
       "    .dataframe tbody tr th:only-of-type {\n",
       "        vertical-align: middle;\n",
       "    }\n",
       "\n",
       "    .dataframe tbody tr th {\n",
       "        vertical-align: top;\n",
       "    }\n",
       "\n",
       "    .dataframe thead th {\n",
       "        text-align: right;\n",
       "    }\n",
       "</style>\n",
       "<table border=\"1\" class=\"dataframe\">\n",
       "  <thead>\n",
       "    <tr style=\"text-align: right;\">\n",
       "      <th></th>\n",
       "      <th>trait</th>\n",
       "      <th>gene</th>\n",
       "      <th>pheno_mim</th>\n",
       "      <th>phecode</th>\n",
       "      <th>gene_id</th>\n",
       "      <th>true_class</th>\n",
       "    </tr>\n",
       "  </thead>\n",
       "  <tbody>\n",
       "    <tr>\n",
       "      <th>0</th>\n",
       "      <td>M41-Diagnoses_main_ICD10_M41_Scoliosis</td>\n",
       "      <td>ENSG00000012504</td>\n",
       "      <td>101800</td>\n",
       "      <td>751.12</td>\n",
       "      <td>NaN</td>\n",
       "      <td>0</td>\n",
       "    </tr>\n",
       "    <tr>\n",
       "      <th>29</th>\n",
       "      <td>M41-Diagnoses_main_ICD10_M41_Scoliosis</td>\n",
       "      <td>ENSG00000075089</td>\n",
       "      <td>101800</td>\n",
       "      <td>751.12</td>\n",
       "      <td>NaN</td>\n",
       "      <td>0</td>\n",
       "    </tr>\n",
       "    <tr>\n",
       "      <th>58</th>\n",
       "      <td>M41-Diagnoses_main_ICD10_M41_Scoliosis</td>\n",
       "      <td>ENSG00000075336</td>\n",
       "      <td>101800</td>\n",
       "      <td>751.12</td>\n",
       "      <td>NaN</td>\n",
       "      <td>0</td>\n",
       "    </tr>\n",
       "    <tr>\n",
       "      <th>87</th>\n",
       "      <td>M41-Diagnoses_main_ICD10_M41_Scoliosis</td>\n",
       "      <td>ENSG00000078401</td>\n",
       "      <td>101800</td>\n",
       "      <td>751.12</td>\n",
       "      <td>NaN</td>\n",
       "      <td>0</td>\n",
       "    </tr>\n",
       "    <tr>\n",
       "      <th>116</th>\n",
       "      <td>M41-Diagnoses_main_ICD10_M41_Scoliosis</td>\n",
       "      <td>ENSG00000090263</td>\n",
       "      <td>101800</td>\n",
       "      <td>751.12</td>\n",
       "      <td>NaN</td>\n",
       "      <td>0</td>\n",
       "    </tr>\n",
       "  </tbody>\n",
       "</table>\n",
       "</div>"
      ],
      "text/plain": [
       "                                      trait             gene  pheno_mim  \\\n",
       "0    M41-Diagnoses_main_ICD10_M41_Scoliosis  ENSG00000012504     101800   \n",
       "29   M41-Diagnoses_main_ICD10_M41_Scoliosis  ENSG00000075089     101800   \n",
       "58   M41-Diagnoses_main_ICD10_M41_Scoliosis  ENSG00000075336     101800   \n",
       "87   M41-Diagnoses_main_ICD10_M41_Scoliosis  ENSG00000078401     101800   \n",
       "116  M41-Diagnoses_main_ICD10_M41_Scoliosis  ENSG00000090263     101800   \n",
       "\n",
       "    phecode gene_id  true_class  \n",
       "0    751.12     NaN           0  \n",
       "29   751.12     NaN           0  \n",
       "58   751.12     NaN           0  \n",
       "87   751.12     NaN           0  \n",
       "116  751.12     NaN           0  "
      ]
     },
     "execution_count": 53,
     "metadata": {},
     "output_type": "execute_result"
    }
   ],
   "source": [
    "_tmp.head()"
   ]
  },
  {
   "cell_type": "code",
   "execution_count": 54,
   "metadata": {},
   "outputs": [
    {
     "data": {
      "text/plain": [
       "0    20837\n",
       "1     2205\n",
       "Name: true_class, dtype: int64"
      ]
     },
     "execution_count": 54,
     "metadata": {},
     "output_type": "execute_result"
    }
   ],
   "source": [
    "_tmp['true_class'].value_counts()"
   ]
  },
  {
   "cell_type": "code",
   "execution_count": 55,
   "metadata": {},
   "outputs": [
    {
     "data": {
      "text/plain": [
       "23042"
      ]
     },
     "execution_count": 55,
     "metadata": {},
     "output_type": "execute_result"
    }
   ],
   "source": [
    "_tmp['true_class'].value_counts().sum()"
   ]
  },
  {
   "cell_type": "code",
   "execution_count": 56,
   "metadata": {},
   "outputs": [
    {
     "data": {
      "text/plain": [
       "0.904305181841854"
      ]
     },
     "execution_count": 56,
     "metadata": {},
     "output_type": "execute_result"
    }
   ],
   "source": [
    "20837 / 23042"
   ]
  },
  {
   "cell_type": "code",
   "execution_count": 57,
   "metadata": {},
   "outputs": [
    {
     "data": {
      "text/plain": [
       "0.095694818158146"
      ]
     },
     "execution_count": 57,
     "metadata": {},
     "output_type": "execute_result"
    }
   ],
   "source": [
    "2205 / 23042"
   ]
  },
  {
   "cell_type": "markdown",
   "metadata": {},
   "source": [
    "### Add score"
   ]
  },
  {
   "cell_type": "code",
   "execution_count": 58,
   "metadata": {},
   "outputs": [],
   "source": [
    "_genes_unstacked = genes_associations.unstack()"
   ]
  },
  {
   "cell_type": "code",
   "execution_count": 59,
   "metadata": {},
   "outputs": [
    {
     "data": {
      "text/plain": [
       "(92108865,)"
      ]
     },
     "execution_count": 59,
     "metadata": {},
     "output_type": "execute_result"
    }
   ],
   "source": [
    "_genes_unstacked.shape"
   ]
  },
  {
   "cell_type": "code",
   "execution_count": 60,
   "metadata": {},
   "outputs": [
    {
     "data": {
      "text/plain": [
       "                                                  gene_name      \n",
       "20096_1-Size_of_red_wine_glass_drunk_small_125ml  ENSG00000000419    0.169468\n",
       "                                                  ENSG00000000457    1.358856\n",
       "                                                  ENSG00000000460    0.151008\n",
       "                                                  ENSG00000000938    1.302722\n",
       "                                                  ENSG00000000971    1.338813\n",
       "dtype: float64"
      ]
     },
     "execution_count": 60,
     "metadata": {},
     "output_type": "execute_result"
    }
   ],
   "source": [
    "_genes_unstacked.head()"
   ]
  },
  {
   "cell_type": "code",
   "execution_count": 61,
   "metadata": {},
   "outputs": [],
   "source": [
    "classifier_table = _tmp.set_index(['trait', 'gene']).assign(score=_genes_unstacked).drop(columns=['gene_id'])"
   ]
  },
  {
   "cell_type": "code",
   "execution_count": 62,
   "metadata": {},
   "outputs": [
    {
     "data": {
      "text/plain": [
       "(23042, 4)"
      ]
     },
     "execution_count": 62,
     "metadata": {},
     "output_type": "execute_result"
    }
   ],
   "source": [
    "classifier_table.shape"
   ]
  },
  {
   "cell_type": "code",
   "execution_count": 63,
   "metadata": {},
   "outputs": [
    {
     "data": {
      "text/html": [
       "<div>\n",
       "<style scoped>\n",
       "    .dataframe tbody tr th:only-of-type {\n",
       "        vertical-align: middle;\n",
       "    }\n",
       "\n",
       "    .dataframe tbody tr th {\n",
       "        vertical-align: top;\n",
       "    }\n",
       "\n",
       "    .dataframe thead th {\n",
       "        text-align: right;\n",
       "    }\n",
       "</style>\n",
       "<table border=\"1\" class=\"dataframe\">\n",
       "  <thead>\n",
       "    <tr style=\"text-align: right;\">\n",
       "      <th></th>\n",
       "      <th></th>\n",
       "      <th>pheno_mim</th>\n",
       "      <th>phecode</th>\n",
       "      <th>true_class</th>\n",
       "      <th>score</th>\n",
       "    </tr>\n",
       "    <tr>\n",
       "      <th>trait</th>\n",
       "      <th>gene</th>\n",
       "      <th></th>\n",
       "      <th></th>\n",
       "      <th></th>\n",
       "      <th></th>\n",
       "    </tr>\n",
       "  </thead>\n",
       "  <tbody>\n",
       "    <tr>\n",
       "      <th rowspan=\"5\" valign=\"top\">M41-Diagnoses_main_ICD10_M41_Scoliosis</th>\n",
       "      <th>ENSG00000012504</th>\n",
       "      <td>101800</td>\n",
       "      <td>751.12</td>\n",
       "      <td>0</td>\n",
       "      <td>0.643603</td>\n",
       "    </tr>\n",
       "    <tr>\n",
       "      <th>ENSG00000075089</th>\n",
       "      <td>101800</td>\n",
       "      <td>751.12</td>\n",
       "      <td>0</td>\n",
       "      <td>0.059318</td>\n",
       "    </tr>\n",
       "    <tr>\n",
       "      <th>ENSG00000075336</th>\n",
       "      <td>101800</td>\n",
       "      <td>751.12</td>\n",
       "      <td>0</td>\n",
       "      <td>0.843093</td>\n",
       "    </tr>\n",
       "    <tr>\n",
       "      <th>ENSG00000078401</th>\n",
       "      <td>101800</td>\n",
       "      <td>751.12</td>\n",
       "      <td>0</td>\n",
       "      <td>3.236173</td>\n",
       "    </tr>\n",
       "    <tr>\n",
       "      <th>ENSG00000090263</th>\n",
       "      <td>101800</td>\n",
       "      <td>751.12</td>\n",
       "      <td>0</td>\n",
       "      <td>0.474822</td>\n",
       "    </tr>\n",
       "  </tbody>\n",
       "</table>\n",
       "</div>"
      ],
      "text/plain": [
       "                                                        pheno_mim phecode  \\\n",
       "trait                                  gene                                 \n",
       "M41-Diagnoses_main_ICD10_M41_Scoliosis ENSG00000012504     101800  751.12   \n",
       "                                       ENSG00000075089     101800  751.12   \n",
       "                                       ENSG00000075336     101800  751.12   \n",
       "                                       ENSG00000078401     101800  751.12   \n",
       "                                       ENSG00000090263     101800  751.12   \n",
       "\n",
       "                                                        true_class     score  \n",
       "trait                                  gene                                   \n",
       "M41-Diagnoses_main_ICD10_M41_Scoliosis ENSG00000012504           0  0.643603  \n",
       "                                       ENSG00000075089           0  0.059318  \n",
       "                                       ENSG00000075336           0  0.843093  \n",
       "                                       ENSG00000078401           0  3.236173  \n",
       "                                       ENSG00000090263           0  0.474822  "
      ]
     },
     "execution_count": 63,
     "metadata": {},
     "output_type": "execute_result"
    }
   ],
   "source": [
    "classifier_table.head()"
   ]
  },
  {
   "cell_type": "code",
   "execution_count": 64,
   "metadata": {},
   "outputs": [
    {
     "data": {
      "text/plain": [
       "(1721, 4)"
      ]
     },
     "execution_count": 64,
     "metadata": {},
     "output_type": "execute_result"
    }
   ],
   "source": [
    "classifier_table[classifier_table['score'].isna()].shape"
   ]
  },
  {
   "cell_type": "code",
   "execution_count": 65,
   "metadata": {},
   "outputs": [],
   "source": [
    "classifier_table = classifier_table.dropna(subset=['phecode'])"
   ]
  },
  {
   "cell_type": "code",
   "execution_count": 66,
   "metadata": {},
   "outputs": [],
   "source": [
    "classifier_table = classifier_table.dropna(subset=['score'])"
   ]
  },
  {
   "cell_type": "code",
   "execution_count": 67,
   "metadata": {},
   "outputs": [
    {
     "data": {
      "text/plain": [
       "(21321, 4)"
      ]
     },
     "execution_count": 67,
     "metadata": {},
     "output_type": "execute_result"
    }
   ],
   "source": [
    "classifier_table.shape"
   ]
  },
  {
   "cell_type": "code",
   "execution_count": 68,
   "metadata": {},
   "outputs": [
    {
     "data": {
      "text/plain": [
       "19119"
      ]
     },
     "metadata": {},
     "output_type": "display_data"
    },
    {
     "data": {
      "text/plain": [
       "2.615199539724881e-06"
      ]
     },
     "metadata": {},
     "output_type": "display_data"
    },
    {
     "data": {
      "text/plain": [
       "4.69893633607862"
      ]
     },
     "metadata": {},
     "output_type": "display_data"
    }
   ],
   "source": [
    "N_TESTS = classifier_table.reset_index().drop_duplicates(subset=['trait', 'gene']).shape[0]\n",
    "display(N_TESTS)\n",
    "\n",
    "PVALUE_THRESHOLD = (0.05 / (N_TESTS))\n",
    "display(PVALUE_THRESHOLD)\n",
    "\n",
    "ZSCORE_THRESHOLD = np.abs(stats.norm.ppf(PVALUE_THRESHOLD / 2))\n",
    "display(ZSCORE_THRESHOLD)"
   ]
  },
  {
   "cell_type": "code",
   "execution_count": 69,
   "metadata": {},
   "outputs": [],
   "source": [
    "classifier_table = classifier_table.assign(predicted_class=(classifier_table['score'] > ZSCORE_THRESHOLD).astype(int))"
   ]
  },
  {
   "cell_type": "code",
   "execution_count": 70,
   "metadata": {},
   "outputs": [
    {
     "data": {
      "text/plain": [
       "0    19119\n",
       "1     2202\n",
       "Name: true_class, dtype: int64"
      ]
     },
     "execution_count": 70,
     "metadata": {},
     "output_type": "execute_result"
    }
   ],
   "source": [
    "classifier_table['true_class'].value_counts()"
   ]
  },
  {
   "cell_type": "code",
   "execution_count": 71,
   "metadata": {},
   "outputs": [
    {
     "data": {
      "text/plain": [
       "21321"
      ]
     },
     "execution_count": 71,
     "metadata": {},
     "output_type": "execute_result"
    }
   ],
   "source": [
    "classifier_table['true_class'].value_counts().sum()"
   ]
  },
  {
   "cell_type": "markdown",
   "metadata": {},
   "source": [
    "# Save classifier table"
   ]
  },
  {
   "cell_type": "code",
   "execution_count": 72,
   "metadata": {},
   "outputs": [],
   "source": [
    "classifier_table = classifier_table.sort_index()"
   ]
  },
  {
   "cell_type": "code",
   "execution_count": 73,
   "metadata": {},
   "outputs": [
    {
     "data": {
      "text/html": [
       "<div>\n",
       "<style scoped>\n",
       "    .dataframe tbody tr th:only-of-type {\n",
       "        vertical-align: middle;\n",
       "    }\n",
       "\n",
       "    .dataframe tbody tr th {\n",
       "        vertical-align: top;\n",
       "    }\n",
       "\n",
       "    .dataframe thead th {\n",
       "        text-align: right;\n",
       "    }\n",
       "</style>\n",
       "<table border=\"1\" class=\"dataframe\">\n",
       "  <thead>\n",
       "    <tr style=\"text-align: right;\">\n",
       "      <th></th>\n",
       "      <th></th>\n",
       "      <th>pheno_mim</th>\n",
       "      <th>phecode</th>\n",
       "      <th>true_class</th>\n",
       "      <th>score</th>\n",
       "      <th>predicted_class</th>\n",
       "    </tr>\n",
       "    <tr>\n",
       "      <th>trait</th>\n",
       "      <th>gene</th>\n",
       "      <th></th>\n",
       "      <th></th>\n",
       "      <th></th>\n",
       "      <th></th>\n",
       "      <th></th>\n",
       "    </tr>\n",
       "  </thead>\n",
       "  <tbody>\n",
       "    <tr>\n",
       "      <th rowspan=\"5\" valign=\"top\">1200-Sleeplessness_insomnia</th>\n",
       "      <th>ENSG00000001617</th>\n",
       "      <td>121300</td>\n",
       "      <td>296.2</td>\n",
       "      <td>0</td>\n",
       "      <td>5.986574</td>\n",
       "      <td>1</td>\n",
       "    </tr>\n",
       "    <tr>\n",
       "      <th>ENSG00000003756</th>\n",
       "      <td>121300</td>\n",
       "      <td>296.2</td>\n",
       "      <td>0</td>\n",
       "      <td>5.540858</td>\n",
       "      <td>1</td>\n",
       "    </tr>\n",
       "    <tr>\n",
       "      <th>ENSG00000004534</th>\n",
       "      <td>121300</td>\n",
       "      <td>296.2</td>\n",
       "      <td>0</td>\n",
       "      <td>5.270682</td>\n",
       "      <td>1</td>\n",
       "    </tr>\n",
       "    <tr>\n",
       "      <th>ENSG00000004838</th>\n",
       "      <td>121300</td>\n",
       "      <td>296.2</td>\n",
       "      <td>0</td>\n",
       "      <td>1.168578</td>\n",
       "      <td>0</td>\n",
       "    </tr>\n",
       "    <tr>\n",
       "      <th>ENSG00000004897</th>\n",
       "      <td>121300</td>\n",
       "      <td>296.2</td>\n",
       "      <td>0</td>\n",
       "      <td>0.042414</td>\n",
       "      <td>0</td>\n",
       "    </tr>\n",
       "  </tbody>\n",
       "</table>\n",
       "</div>"
      ],
      "text/plain": [
       "                                             pheno_mim phecode  true_class  \\\n",
       "trait                       gene                                             \n",
       "1200-Sleeplessness_insomnia ENSG00000001617     121300   296.2           0   \n",
       "                            ENSG00000003756     121300   296.2           0   \n",
       "                            ENSG00000004534     121300   296.2           0   \n",
       "                            ENSG00000004838     121300   296.2           0   \n",
       "                            ENSG00000004897     121300   296.2           0   \n",
       "\n",
       "                                                score  predicted_class  \n",
       "trait                       gene                                        \n",
       "1200-Sleeplessness_insomnia ENSG00000001617  5.986574                1  \n",
       "                            ENSG00000003756  5.540858                1  \n",
       "                            ENSG00000004534  5.270682                1  \n",
       "                            ENSG00000004838  1.168578                0  \n",
       "                            ENSG00000004897  0.042414                0  "
      ]
     },
     "execution_count": 73,
     "metadata": {},
     "output_type": "execute_result"
    }
   ],
   "source": [
    "classifier_table.head()"
   ]
  },
  {
   "cell_type": "code",
   "execution_count": 74,
   "metadata": {},
   "outputs": [
    {
     "data": {
      "text/plain": [
       "(21321, 5)"
      ]
     },
     "execution_count": 74,
     "metadata": {},
     "output_type": "execute_result"
    }
   ],
   "source": [
    "classifier_table.shape"
   ]
  },
  {
   "cell_type": "code",
   "execution_count": 75,
   "metadata": {},
   "outputs": [],
   "source": [
    "classifier_table.to_csv(\n",
    "    os.path.join(output_dir, 'smultixcan-mashr-classifier_data-phewas_catalog.tsv.gz'),\n",
    "    sep='\\t', index=False\n",
    ")"
   ]
  },
  {
   "cell_type": "code",
   "execution_count": null,
   "metadata": {},
   "outputs": [],
   "source": []
  }
 ],
 "metadata": {
  "kernelspec": {
   "display_name": "Python 3",
   "language": "python",
   "name": "python3"
  },
  "language_info": {
   "codemirror_mode": {
    "name": "ipython",
    "version": 3
   },
   "file_extension": ".py",
   "mimetype": "text/x-python",
   "name": "python",
   "nbconvert_exporter": "python",
   "pygments_lexer": "ipython3",
   "version": "3.7.5"
  }
 },
 "nbformat": 4,
 "nbformat_minor": 4
}
