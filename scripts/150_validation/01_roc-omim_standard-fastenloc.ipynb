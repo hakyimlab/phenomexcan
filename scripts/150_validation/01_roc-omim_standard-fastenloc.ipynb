{
 "cells": [
  {
   "cell_type": "code",
   "execution_count": 1,
   "metadata": {},
   "outputs": [],
   "source": [
    "%load_ext autoreload\n",
    "%autoreload 2"
   ]
  },
  {
   "cell_type": "code",
   "execution_count": 2,
   "metadata": {},
   "outputs": [],
   "source": [
    "import os\n",
    "import pickle\n",
    "\n",
    "import numpy as np\n",
    "import pandas as pd\n",
    "\n",
    "import utils.constants as constants"
   ]
  },
  {
   "cell_type": "code",
   "execution_count": 3,
   "metadata": {},
   "outputs": [],
   "source": [
    "genes_associations_dir = os.path.join(constants.PREPROCESSED_BASED_DIR, 'gene_associations')\n",
    "\n",
    "output_dir = os.path.join(constants.RESULTS_DIR, 'roc_validation', 'classifier_tables')\n",
    "os.makedirs(output_dir, exist_ok=True)"
   ]
  },
  {
   "cell_type": "markdown",
   "metadata": {},
   "source": [
    "# Load all S-PrediXcan gene mappings"
   ]
  },
  {
   "cell_type": "code",
   "execution_count": 4,
   "metadata": {},
   "outputs": [],
   "source": [
    "with open(os.path.join(constants.PREPROCESSED_METADATA_DIR, 'genes_mapping_simplified-0.pkl'), 'rb') as f:\n",
    "    genes_mapping_0 = pickle.load(f)\n",
    "\n",
    "with open(os.path.join(constants.PREPROCESSED_METADATA_DIR, 'genes_mapping_simplified-1.pkl'), 'rb') as f:\n",
    "    genes_mapping_1 = pickle.load(f)"
   ]
  },
  {
   "cell_type": "markdown",
   "metadata": {},
   "source": [
    "# Load fastENLOC results"
   ]
  },
  {
   "cell_type": "code",
   "execution_count": 5,
   "metadata": {},
   "outputs": [
    {
     "data": {
      "text/plain": [
       "'/mnt/phenomexcan/results/preprocessed_data/gene_associations/fastenloc/fastenloc-torus-genes_rcp.pkl.xz'"
      ]
     },
     "metadata": {},
     "output_type": "display_data"
    }
   ],
   "source": [
    "spredixcan_genes_associations_filename = os.path.join(genes_associations_dir, 'fastenloc', 'fastenloc-torus-genes_rcp.pkl.xz')\n",
    "display(spredixcan_genes_associations_filename)\n",
    "\n",
    "spredixcan_genes_associations = pd.read_pickle(spredixcan_genes_associations_filename)"
   ]
  },
  {
   "cell_type": "code",
   "execution_count": 6,
   "metadata": {},
   "outputs": [],
   "source": [
    "spredixcan_genes_associations = spredixcan_genes_associations.rename(index=genes_mapping_1)"
   ]
  },
  {
   "cell_type": "code",
   "execution_count": 7,
   "metadata": {},
   "outputs": [
    {
     "data": {
      "text/plain": [
       "(22233, 4083)"
      ]
     },
     "execution_count": 7,
     "metadata": {},
     "output_type": "execute_result"
    }
   ],
   "source": [
    "spredixcan_genes_associations.shape"
   ]
  },
  {
   "cell_type": "code",
   "execution_count": 8,
   "metadata": {},
   "outputs": [
    {
     "data": {
      "text/html": [
       "<div>\n",
       "<style scoped>\n",
       "    .dataframe tbody tr th:only-of-type {\n",
       "        vertical-align: middle;\n",
       "    }\n",
       "\n",
       "    .dataframe tbody tr th {\n",
       "        vertical-align: top;\n",
       "    }\n",
       "\n",
       "    .dataframe thead th {\n",
       "        text-align: right;\n",
       "    }\n",
       "</style>\n",
       "<table border=\"1\" class=\"dataframe\">\n",
       "  <thead>\n",
       "    <tr style=\"text-align: right;\">\n",
       "      <th></th>\n",
       "      <th>L12_NAILDIS-Nail_disorders</th>\n",
       "      <th>J69-Diagnoses_main_ICD10_J69_Pneumonitis_due_to_solids_and_liquids</th>\n",
       "      <th>R07-Diagnoses_main_ICD10_R07_Pain_in_throat_and_chest</th>\n",
       "      <th>M46-Diagnoses_main_ICD10_M46_Other_inflammatory_spondylopathies</th>\n",
       "      <th>20003_2038460150-Treatmentmedication_code_paracetamol</th>\n",
       "      <th>E10-Diagnoses_main_ICD10_E10_Insulindependent_diabetes_mellitus</th>\n",
       "      <th>5134_raw-6mm_strong_meridian_left</th>\n",
       "      <th>E86-Diagnoses_main_ICD10_E86_Volume_depletion</th>\n",
       "      <th>L12_ERYTHEMATOUSOTH-Other_erythematous_conditions</th>\n",
       "      <th>K83-Diagnoses_main_ICD10_K83_Other_diseases_of_biliary_tract</th>\n",
       "      <th>...</th>\n",
       "      <th>20090_394-Type_of_fatoil_used_in_cooking_Unknown_soft_margarine</th>\n",
       "      <th>22617_3512-Job_SOC_coding_Aircraft_pilots_and_flight_engineers</th>\n",
       "      <th>6034-Target_heart_rate_achieved</th>\n",
       "      <th>20003_1140883066-Treatmentmedication_code_insulin_product</th>\n",
       "      <th>22601_41223241-Job_coding_accounts_and_wages_clerkassistantsupervisor_bookkeeper_cost_or_ledger_clerk_audit_assistant_budget_officer_student_loans_officer_paymaster</th>\n",
       "      <th>I82-Diagnoses_main_ICD10_I82_Other_venous_embolism_and_thrombosis</th>\n",
       "      <th>20107_12-Illnesses_of_father_Severe_depression</th>\n",
       "      <th>B07-Diagnoses_main_ICD10_B07_Viral_warts</th>\n",
       "      <th>22601_12253140-Job_coding_sports_centre_manager_riding_school_owner_sports_ground_manager_baths_manager</th>\n",
       "      <th>2664_2-Reason_for_reducing_amount_of_alcohol_drunk_Doctors_advice</th>\n",
       "    </tr>\n",
       "    <tr>\n",
       "      <th>gene_name</th>\n",
       "      <th></th>\n",
       "      <th></th>\n",
       "      <th></th>\n",
       "      <th></th>\n",
       "      <th></th>\n",
       "      <th></th>\n",
       "      <th></th>\n",
       "      <th></th>\n",
       "      <th></th>\n",
       "      <th></th>\n",
       "      <th></th>\n",
       "      <th></th>\n",
       "      <th></th>\n",
       "      <th></th>\n",
       "      <th></th>\n",
       "      <th></th>\n",
       "      <th></th>\n",
       "      <th></th>\n",
       "      <th></th>\n",
       "      <th></th>\n",
       "      <th></th>\n",
       "    </tr>\n",
       "  </thead>\n",
       "  <tbody>\n",
       "    <tr>\n",
       "      <th>ENSG00000121410</th>\n",
       "      <td>1.515300e-08</td>\n",
       "      <td>2.216225e-08</td>\n",
       "      <td>0.005937</td>\n",
       "      <td>5.482960e-10</td>\n",
       "      <td>0.006081</td>\n",
       "      <td>0.000458</td>\n",
       "      <td>0.006905</td>\n",
       "      <td>2.241375e-10</td>\n",
       "      <td>1.753100e-09</td>\n",
       "      <td>2.774200e-05</td>\n",
       "      <td>...</td>\n",
       "      <td>0.000292</td>\n",
       "      <td>1.498710e-10</td>\n",
       "      <td>6.837000e-06</td>\n",
       "      <td>0.000714</td>\n",
       "      <td>1.503420e-10</td>\n",
       "      <td>5.317725e-08</td>\n",
       "      <td>5.242997e-04</td>\n",
       "      <td>1.807621e-08</td>\n",
       "      <td>7.545600e-08</td>\n",
       "      <td>0.000154</td>\n",
       "    </tr>\n",
       "    <tr>\n",
       "      <th>ENSG00000148584</th>\n",
       "      <td>2.796517e-11</td>\n",
       "      <td>1.696862e-10</td>\n",
       "      <td>0.001970</td>\n",
       "      <td>1.021794e-10</td>\n",
       "      <td>0.010776</td>\n",
       "      <td>0.000006</td>\n",
       "      <td>0.005850</td>\n",
       "      <td>7.833300e-11</td>\n",
       "      <td>2.507511e-10</td>\n",
       "      <td>3.895151e-10</td>\n",
       "      <td>...</td>\n",
       "      <td>0.000225</td>\n",
       "      <td>1.869519e-10</td>\n",
       "      <td>4.081060e-11</td>\n",
       "      <td>0.000270</td>\n",
       "      <td>2.783110e-11</td>\n",
       "      <td>1.083806e-10</td>\n",
       "      <td>3.367239e-07</td>\n",
       "      <td>5.118762e-11</td>\n",
       "      <td>1.050704e-10</td>\n",
       "      <td>0.000449</td>\n",
       "    </tr>\n",
       "    <tr>\n",
       "      <th>ENSG00000175899</th>\n",
       "      <td>1.926980e-08</td>\n",
       "      <td>7.858200e-09</td>\n",
       "      <td>0.000947</td>\n",
       "      <td>5.466000e-11</td>\n",
       "      <td>0.003225</td>\n",
       "      <td>0.000025</td>\n",
       "      <td>0.003633</td>\n",
       "      <td>4.745490e-10</td>\n",
       "      <td>5.610300e-10</td>\n",
       "      <td>9.633650e-06</td>\n",
       "      <td>...</td>\n",
       "      <td>0.000081</td>\n",
       "      <td>1.608430e-10</td>\n",
       "      <td>3.141280e-06</td>\n",
       "      <td>0.000401</td>\n",
       "      <td>1.096541e-10</td>\n",
       "      <td>3.252662e-08</td>\n",
       "      <td>5.695800e-04</td>\n",
       "      <td>1.128942e-08</td>\n",
       "      <td>1.132000e-08</td>\n",
       "      <td>0.000130</td>\n",
       "    </tr>\n",
       "    <tr>\n",
       "      <th>ENSG00000166535</th>\n",
       "      <td>1.142270e-09</td>\n",
       "      <td>3.492600e-09</td>\n",
       "      <td>0.000428</td>\n",
       "      <td>1.476100e-10</td>\n",
       "      <td>0.004078</td>\n",
       "      <td>0.000247</td>\n",
       "      <td>0.018624</td>\n",
       "      <td>3.055700e-10</td>\n",
       "      <td>3.589500e-10</td>\n",
       "      <td>3.792130e-06</td>\n",
       "      <td>...</td>\n",
       "      <td>0.000197</td>\n",
       "      <td>2.759200e-10</td>\n",
       "      <td>7.272498e-06</td>\n",
       "      <td>0.000148</td>\n",
       "      <td>1.642360e-11</td>\n",
       "      <td>8.912710e-08</td>\n",
       "      <td>8.749040e-04</td>\n",
       "      <td>1.326800e-10</td>\n",
       "      <td>2.235800e-09</td>\n",
       "      <td>0.000005</td>\n",
       "    </tr>\n",
       "    <tr>\n",
       "      <th>ENSG00000184389</th>\n",
       "      <td>1.997480e-08</td>\n",
       "      <td>5.515000e-10</td>\n",
       "      <td>0.002141</td>\n",
       "      <td>2.412720e-09</td>\n",
       "      <td>0.004778</td>\n",
       "      <td>0.000200</td>\n",
       "      <td>0.141350</td>\n",
       "      <td>1.314787e-10</td>\n",
       "      <td>1.597080e-09</td>\n",
       "      <td>2.149724e-05</td>\n",
       "      <td>...</td>\n",
       "      <td>0.000311</td>\n",
       "      <td>2.357997e-10</td>\n",
       "      <td>1.826130e-09</td>\n",
       "      <td>0.000989</td>\n",
       "      <td>6.655500e-11</td>\n",
       "      <td>1.471335e-10</td>\n",
       "      <td>6.330287e-04</td>\n",
       "      <td>4.799799e-09</td>\n",
       "      <td>1.115040e-07</td>\n",
       "      <td>0.000050</td>\n",
       "    </tr>\n",
       "  </tbody>\n",
       "</table>\n",
       "<p>5 rows × 4083 columns</p>\n",
       "</div>"
      ],
      "text/plain": [
       "                 L12_NAILDIS-Nail_disorders  \\\n",
       "gene_name                                     \n",
       "ENSG00000121410                1.515300e-08   \n",
       "ENSG00000148584                2.796517e-11   \n",
       "ENSG00000175899                1.926980e-08   \n",
       "ENSG00000166535                1.142270e-09   \n",
       "ENSG00000184389                1.997480e-08   \n",
       "\n",
       "                 J69-Diagnoses_main_ICD10_J69_Pneumonitis_due_to_solids_and_liquids  \\\n",
       "gene_name                                                                             \n",
       "ENSG00000121410                                       2.216225e-08                    \n",
       "ENSG00000148584                                       1.696862e-10                    \n",
       "ENSG00000175899                                       7.858200e-09                    \n",
       "ENSG00000166535                                       3.492600e-09                    \n",
       "ENSG00000184389                                       5.515000e-10                    \n",
       "\n",
       "                 R07-Diagnoses_main_ICD10_R07_Pain_in_throat_and_chest  \\\n",
       "gene_name                                                                \n",
       "ENSG00000121410                                           0.005937       \n",
       "ENSG00000148584                                           0.001970       \n",
       "ENSG00000175899                                           0.000947       \n",
       "ENSG00000166535                                           0.000428       \n",
       "ENSG00000184389                                           0.002141       \n",
       "\n",
       "                 M46-Diagnoses_main_ICD10_M46_Other_inflammatory_spondylopathies  \\\n",
       "gene_name                                                                          \n",
       "ENSG00000121410                                       5.482960e-10                 \n",
       "ENSG00000148584                                       1.021794e-10                 \n",
       "ENSG00000175899                                       5.466000e-11                 \n",
       "ENSG00000166535                                       1.476100e-10                 \n",
       "ENSG00000184389                                       2.412720e-09                 \n",
       "\n",
       "                 20003_2038460150-Treatmentmedication_code_paracetamol  \\\n",
       "gene_name                                                                \n",
       "ENSG00000121410                                           0.006081       \n",
       "ENSG00000148584                                           0.010776       \n",
       "ENSG00000175899                                           0.003225       \n",
       "ENSG00000166535                                           0.004078       \n",
       "ENSG00000184389                                           0.004778       \n",
       "\n",
       "                 E10-Diagnoses_main_ICD10_E10_Insulindependent_diabetes_mellitus  \\\n",
       "gene_name                                                                          \n",
       "ENSG00000121410                                           0.000458                 \n",
       "ENSG00000148584                                           0.000006                 \n",
       "ENSG00000175899                                           0.000025                 \n",
       "ENSG00000166535                                           0.000247                 \n",
       "ENSG00000184389                                           0.000200                 \n",
       "\n",
       "                 5134_raw-6mm_strong_meridian_left  \\\n",
       "gene_name                                            \n",
       "ENSG00000121410                           0.006905   \n",
       "ENSG00000148584                           0.005850   \n",
       "ENSG00000175899                           0.003633   \n",
       "ENSG00000166535                           0.018624   \n",
       "ENSG00000184389                           0.141350   \n",
       "\n",
       "                 E86-Diagnoses_main_ICD10_E86_Volume_depletion  \\\n",
       "gene_name                                                        \n",
       "ENSG00000121410                                   2.241375e-10   \n",
       "ENSG00000148584                                   7.833300e-11   \n",
       "ENSG00000175899                                   4.745490e-10   \n",
       "ENSG00000166535                                   3.055700e-10   \n",
       "ENSG00000184389                                   1.314787e-10   \n",
       "\n",
       "                 L12_ERYTHEMATOUSOTH-Other_erythematous_conditions  \\\n",
       "gene_name                                                            \n",
       "ENSG00000121410                                       1.753100e-09   \n",
       "ENSG00000148584                                       2.507511e-10   \n",
       "ENSG00000175899                                       5.610300e-10   \n",
       "ENSG00000166535                                       3.589500e-10   \n",
       "ENSG00000184389                                       1.597080e-09   \n",
       "\n",
       "                 K83-Diagnoses_main_ICD10_K83_Other_diseases_of_biliary_tract  \\\n",
       "gene_name                                                                       \n",
       "ENSG00000121410                                       2.774200e-05              \n",
       "ENSG00000148584                                       3.895151e-10              \n",
       "ENSG00000175899                                       9.633650e-06              \n",
       "ENSG00000166535                                       3.792130e-06              \n",
       "ENSG00000184389                                       2.149724e-05              \n",
       "\n",
       "                 ...  \\\n",
       "gene_name        ...   \n",
       "ENSG00000121410  ...   \n",
       "ENSG00000148584  ...   \n",
       "ENSG00000175899  ...   \n",
       "ENSG00000166535  ...   \n",
       "ENSG00000184389  ...   \n",
       "\n",
       "                 20090_394-Type_of_fatoil_used_in_cooking_Unknown_soft_margarine  \\\n",
       "gene_name                                                                          \n",
       "ENSG00000121410                                           0.000292                 \n",
       "ENSG00000148584                                           0.000225                 \n",
       "ENSG00000175899                                           0.000081                 \n",
       "ENSG00000166535                                           0.000197                 \n",
       "ENSG00000184389                                           0.000311                 \n",
       "\n",
       "                 22617_3512-Job_SOC_coding_Aircraft_pilots_and_flight_engineers  \\\n",
       "gene_name                                                                         \n",
       "ENSG00000121410                                       1.498710e-10                \n",
       "ENSG00000148584                                       1.869519e-10                \n",
       "ENSG00000175899                                       1.608430e-10                \n",
       "ENSG00000166535                                       2.759200e-10                \n",
       "ENSG00000184389                                       2.357997e-10                \n",
       "\n",
       "                 6034-Target_heart_rate_achieved  \\\n",
       "gene_name                                          \n",
       "ENSG00000121410                     6.837000e-06   \n",
       "ENSG00000148584                     4.081060e-11   \n",
       "ENSG00000175899                     3.141280e-06   \n",
       "ENSG00000166535                     7.272498e-06   \n",
       "ENSG00000184389                     1.826130e-09   \n",
       "\n",
       "                 20003_1140883066-Treatmentmedication_code_insulin_product  \\\n",
       "gene_name                                                                    \n",
       "ENSG00000121410                                           0.000714           \n",
       "ENSG00000148584                                           0.000270           \n",
       "ENSG00000175899                                           0.000401           \n",
       "ENSG00000166535                                           0.000148           \n",
       "ENSG00000184389                                           0.000989           \n",
       "\n",
       "                 22601_41223241-Job_coding_accounts_and_wages_clerkassistantsupervisor_bookkeeper_cost_or_ledger_clerk_audit_assistant_budget_officer_student_loans_officer_paymaster  \\\n",
       "gene_name                                                                                                                                                                               \n",
       "ENSG00000121410                                       1.503420e-10                                                                                                                      \n",
       "ENSG00000148584                                       2.783110e-11                                                                                                                      \n",
       "ENSG00000175899                                       1.096541e-10                                                                                                                      \n",
       "ENSG00000166535                                       1.642360e-11                                                                                                                      \n",
       "ENSG00000184389                                       6.655500e-11                                                                                                                      \n",
       "\n",
       "                 I82-Diagnoses_main_ICD10_I82_Other_venous_embolism_and_thrombosis  \\\n",
       "gene_name                                                                            \n",
       "ENSG00000121410                                       5.317725e-08                   \n",
       "ENSG00000148584                                       1.083806e-10                   \n",
       "ENSG00000175899                                       3.252662e-08                   \n",
       "ENSG00000166535                                       8.912710e-08                   \n",
       "ENSG00000184389                                       1.471335e-10                   \n",
       "\n",
       "                 20107_12-Illnesses_of_father_Severe_depression  \\\n",
       "gene_name                                                         \n",
       "ENSG00000121410                                    5.242997e-04   \n",
       "ENSG00000148584                                    3.367239e-07   \n",
       "ENSG00000175899                                    5.695800e-04   \n",
       "ENSG00000166535                                    8.749040e-04   \n",
       "ENSG00000184389                                    6.330287e-04   \n",
       "\n",
       "                 B07-Diagnoses_main_ICD10_B07_Viral_warts  \\\n",
       "gene_name                                                   \n",
       "ENSG00000121410                              1.807621e-08   \n",
       "ENSG00000148584                              5.118762e-11   \n",
       "ENSG00000175899                              1.128942e-08   \n",
       "ENSG00000166535                              1.326800e-10   \n",
       "ENSG00000184389                              4.799799e-09   \n",
       "\n",
       "                 22601_12253140-Job_coding_sports_centre_manager_riding_school_owner_sports_ground_manager_baths_manager  \\\n",
       "gene_name                                                                                                                  \n",
       "ENSG00000121410                                       7.545600e-08                                                         \n",
       "ENSG00000148584                                       1.050704e-10                                                         \n",
       "ENSG00000175899                                       1.132000e-08                                                         \n",
       "ENSG00000166535                                       2.235800e-09                                                         \n",
       "ENSG00000184389                                       1.115040e-07                                                         \n",
       "\n",
       "                 2664_2-Reason_for_reducing_amount_of_alcohol_drunk_Doctors_advice  \n",
       "gene_name                                                                           \n",
       "ENSG00000121410                                           0.000154                  \n",
       "ENSG00000148584                                           0.000449                  \n",
       "ENSG00000175899                                           0.000130                  \n",
       "ENSG00000166535                                           0.000005                  \n",
       "ENSG00000184389                                           0.000050                  \n",
       "\n",
       "[5 rows x 4083 columns]"
      ]
     },
     "execution_count": 8,
     "metadata": {},
     "output_type": "execute_result"
    }
   ],
   "source": [
    "spredixcan_genes_associations.head(5)"
   ]
  },
  {
   "cell_type": "code",
   "execution_count": 9,
   "metadata": {},
   "outputs": [],
   "source": [
    "assert spredixcan_genes_associations.isna().sum().sum() == 0"
   ]
  },
  {
   "cell_type": "code",
   "execution_count": 10,
   "metadata": {},
   "outputs": [],
   "source": [
    "assert not spredixcan_genes_associations.isin([np.inf, -np.inf]).any().any()"
   ]
  },
  {
   "cell_type": "code",
   "execution_count": 11,
   "metadata": {},
   "outputs": [],
   "source": [
    "_all_values = pd.Series(spredixcan_genes_associations.values.flatten())"
   ]
  },
  {
   "cell_type": "code",
   "execution_count": 12,
   "metadata": {},
   "outputs": [],
   "source": [
    "_tmp = _all_values.sort_values(ascending=True)"
   ]
  },
  {
   "cell_type": "code",
   "execution_count": 13,
   "metadata": {},
   "outputs": [
    {
     "data": {
      "text/plain": [
       "63673277    0.0\n",
       "13822236    0.0\n",
       "13822237    0.0\n",
       "13822238    0.0\n",
       "13822239    0.0\n",
       "dtype: float64"
      ]
     },
     "metadata": {},
     "output_type": "display_data"
    }
   ],
   "source": [
    "display(_tmp.head())"
   ]
  },
  {
   "cell_type": "code",
   "execution_count": 14,
   "metadata": {},
   "outputs": [],
   "source": [
    "_tmp = _all_values.sort_values(ascending=False)"
   ]
  },
  {
   "cell_type": "code",
   "execution_count": 15,
   "metadata": {},
   "outputs": [
    {
     "data": {
      "text/plain": [
       "84487107    2.661831\n",
       "29863101    2.531200\n",
       "41614643    2.484566\n",
       "53648952    2.129925\n",
       "53649340    2.116626\n",
       "dtype: float64"
      ]
     },
     "metadata": {},
     "output_type": "display_data"
    }
   ],
   "source": [
    "display(_tmp.head())"
   ]
  },
  {
   "cell_type": "markdown",
   "metadata": {},
   "source": [
    "# Load OMIM silver standard"
   ]
  },
  {
   "cell_type": "code",
   "execution_count": 16,
   "metadata": {},
   "outputs": [],
   "source": [
    "omim_silver_standard = pd.read_csv(os.path.join(constants.DATA_DIR, 'omim_silver_standard.tsv'), sep='\\t')"
   ]
  },
  {
   "cell_type": "code",
   "execution_count": 17,
   "metadata": {},
   "outputs": [],
   "source": [
    "omim_silver_standard = omim_silver_standard.dropna(subset=['ensembl_gene_id', 'trait', 'pheno_mim'])"
   ]
  },
  {
   "cell_type": "code",
   "execution_count": 18,
   "metadata": {},
   "outputs": [
    {
     "data": {
      "text/plain": [
       "(7809, 7)"
      ]
     },
     "metadata": {},
     "output_type": "display_data"
    },
    {
     "data": {
      "text/html": [
       "<div>\n",
       "<style scoped>\n",
       "    .dataframe tbody tr th:only-of-type {\n",
       "        vertical-align: middle;\n",
       "    }\n",
       "\n",
       "    .dataframe tbody tr th {\n",
       "        vertical-align: top;\n",
       "    }\n",
       "\n",
       "    .dataframe thead th {\n",
       "        text-align: right;\n",
       "    }\n",
       "</style>\n",
       "<table border=\"1\" class=\"dataframe\">\n",
       "  <thead>\n",
       "    <tr style=\"text-align: right;\">\n",
       "      <th></th>\n",
       "      <th>trait</th>\n",
       "      <th>pheno_mim</th>\n",
       "      <th>mim</th>\n",
       "      <th>entry_type</th>\n",
       "      <th>entrez_gene_id</th>\n",
       "      <th>approved_gene_symbol</th>\n",
       "      <th>ensembl_gene_id</th>\n",
       "    </tr>\n",
       "  </thead>\n",
       "  <tbody>\n",
       "    <tr>\n",
       "      <th>0</th>\n",
       "      <td>M41-Diagnoses_main_ICD10_M41_Scoliosis</td>\n",
       "      <td>101800</td>\n",
       "      <td>188830</td>\n",
       "      <td>gene</td>\n",
       "      <td>5573</td>\n",
       "      <td>PRKAR1A</td>\n",
       "      <td>ENSG00000108946</td>\n",
       "    </tr>\n",
       "    <tr>\n",
       "      <th>1</th>\n",
       "      <td>M41-Diagnoses_main_ICD10_M41_Scoliosis</td>\n",
       "      <td>102500</td>\n",
       "      <td>600275</td>\n",
       "      <td>gene</td>\n",
       "      <td>4853</td>\n",
       "      <td>NOTCH2</td>\n",
       "      <td>ENSG00000134250</td>\n",
       "    </tr>\n",
       "    <tr>\n",
       "      <th>2</th>\n",
       "      <td>M41-Diagnoses_main_ICD10_M41_Scoliosis</td>\n",
       "      <td>105830</td>\n",
       "      <td>601623</td>\n",
       "      <td>gene</td>\n",
       "      <td>7337</td>\n",
       "      <td>UBE3A</td>\n",
       "      <td>ENSG00000114062</td>\n",
       "    </tr>\n",
       "    <tr>\n",
       "      <th>3</th>\n",
       "      <td>M41-Diagnoses_main_ICD10_M41_Scoliosis</td>\n",
       "      <td>108120</td>\n",
       "      <td>190990</td>\n",
       "      <td>gene</td>\n",
       "      <td>7169</td>\n",
       "      <td>TPM2</td>\n",
       "      <td>ENSG00000198467</td>\n",
       "    </tr>\n",
       "    <tr>\n",
       "      <th>4</th>\n",
       "      <td>M41-Diagnoses_main_ICD10_M41_Scoliosis</td>\n",
       "      <td>108145</td>\n",
       "      <td>613629</td>\n",
       "      <td>gene</td>\n",
       "      <td>63895</td>\n",
       "      <td>PIEZO2</td>\n",
       "      <td>ENSG00000154864</td>\n",
       "    </tr>\n",
       "  </tbody>\n",
       "</table>\n",
       "</div>"
      ],
      "text/plain": [
       "                                    trait  pheno_mim     mim entry_type  \\\n",
       "0  M41-Diagnoses_main_ICD10_M41_Scoliosis     101800  188830       gene   \n",
       "1  M41-Diagnoses_main_ICD10_M41_Scoliosis     102500  600275       gene   \n",
       "2  M41-Diagnoses_main_ICD10_M41_Scoliosis     105830  601623       gene   \n",
       "3  M41-Diagnoses_main_ICD10_M41_Scoliosis     108120  190990       gene   \n",
       "4  M41-Diagnoses_main_ICD10_M41_Scoliosis     108145  613629       gene   \n",
       "\n",
       "   entrez_gene_id approved_gene_symbol  ensembl_gene_id  \n",
       "0            5573              PRKAR1A  ENSG00000108946  \n",
       "1            4853               NOTCH2  ENSG00000134250  \n",
       "2            7337                UBE3A  ENSG00000114062  \n",
       "3            7169                 TPM2  ENSG00000198467  \n",
       "4           63895               PIEZO2  ENSG00000154864  "
      ]
     },
     "metadata": {},
     "output_type": "display_data"
    }
   ],
   "source": [
    "display(omim_silver_standard.shape)\n",
    "display(omim_silver_standard.head())"
   ]
  },
  {
   "cell_type": "markdown",
   "metadata": {},
   "source": [
    "### Save list of mapped UK Biobank traits"
   ]
  },
  {
   "cell_type": "code",
   "execution_count": 19,
   "metadata": {},
   "outputs": [],
   "source": [
    "from clustering.biclustering.analysis import Trait"
   ]
  },
  {
   "cell_type": "code",
   "execution_count": 20,
   "metadata": {},
   "outputs": [
    {
     "data": {
      "text/plain": [
       "0               M41-Diagnoses_main_ICD10_M41_Scoliosis\n",
       "1            H80-Diagnoses_main_ICD10_H80_Otosclerosis\n",
       "2    20002_1226-Noncancer_illness_code_selfreported...\n",
       "3    I25-Diagnoses_main_ICD10_I25_Chronic_ischaemic...\n",
       "4    20002_1136-Noncancer_illness_code_selfreported...\n",
       "dtype: object"
      ]
     },
     "metadata": {},
     "output_type": "display_data"
    }
   ],
   "source": [
    "ukb_traits_mapped = pd.Series(omim_silver_standard['trait'].unique())\n",
    "display(ukb_traits_mapped.head())"
   ]
  },
  {
   "cell_type": "code",
   "execution_count": 21,
   "metadata": {},
   "outputs": [
    {
     "data": {
      "text/plain": [
       "(107,)"
      ]
     },
     "execution_count": 21,
     "metadata": {},
     "output_type": "execute_result"
    }
   ],
   "source": [
    "ukb_traits_mapped.shape"
   ]
  },
  {
   "cell_type": "code",
   "execution_count": 22,
   "metadata": {},
   "outputs": [],
   "source": [
    "ukb_codes_mapped = [Trait(t).trait_code for t in ukb_traits_mapped]"
   ]
  },
  {
   "cell_type": "code",
   "execution_count": 23,
   "metadata": {},
   "outputs": [
    {
     "data": {
      "text/plain": [
       "107"
      ]
     },
     "execution_count": 23,
     "metadata": {},
     "output_type": "execute_result"
    }
   ],
   "source": [
    "len(ukb_codes_mapped)"
   ]
  },
  {
   "cell_type": "code",
   "execution_count": 24,
   "metadata": {},
   "outputs": [
    {
     "data": {
      "text/plain": [
       "['M41', 'H80', '20002_1226', 'I25', '20002_1136']"
      ]
     },
     "execution_count": 24,
     "metadata": {},
     "output_type": "execute_result"
    }
   ],
   "source": [
    "ukb_codes_mapped[:5]"
   ]
  },
  {
   "cell_type": "code",
   "execution_count": 25,
   "metadata": {},
   "outputs": [],
   "source": [
    "# This is needed to run gwas2gene (Yanyu's scripts)\n",
    "pd.Series(ukb_codes_mapped).to_csv('/mnt/tmp/selected_ukb_traits_omim.txt', index=False, header=False)"
   ]
  },
  {
   "cell_type": "markdown",
   "metadata": {},
   "source": [
    "# Read gwas2gene (Yanyu) results"
   ]
  },
  {
   "cell_type": "code",
   "execution_count": 26,
   "metadata": {},
   "outputs": [],
   "source": [
    "from glob import glob\n",
    "\n",
    "import rpy2.robjects as robjects\n",
    "from rpy2.robjects import pandas2ri\n",
    "pandas2ri.activate()"
   ]
  },
  {
   "cell_type": "code",
   "execution_count": 27,
   "metadata": {},
   "outputs": [],
   "source": [
    "gwas2gene_results_dir = '/mnt/phenomexcan/results/roc_validation/ukb_gwas2gene_results_omim_silver_standard/'"
   ]
  },
  {
   "cell_type": "code",
   "execution_count": 28,
   "metadata": {},
   "outputs": [],
   "source": [
    "readRDS = robjects.r['readRDS']"
   ]
  },
  {
   "cell_type": "code",
   "execution_count": 29,
   "metadata": {},
   "outputs": [
    {
     "data": {
      "text/plain": [
       "99"
      ]
     },
     "metadata": {},
     "output_type": "display_data"
    },
    {
     "name": "stdout",
     "output_type": "stream",
     "text": [
      "WARNING: some files are not there. 107 expected, 99 found.\n"
     ]
    }
   ],
   "source": [
    "f_files = glob(os.path.join(gwas2gene_results_dir, '*.rds'))\n",
    "display(len(f_files))\n",
    "\n",
    "if len(f_files) != len(ukb_codes_mapped):\n",
    "    print(f'WARNING: some files are not there. {len(ukb_codes_mapped)} expected, {len(f_files)} found.')"
   ]
  },
  {
   "cell_type": "code",
   "execution_count": 30,
   "metadata": {},
   "outputs": [],
   "source": [
    "gwas2genes_results = {}\n",
    "\n",
    "for f in f_files:\n",
    "    f_base = os.path.basename(f)\n",
    "    f_code = f_base.split('.')[0]\n",
    "    \n",
    "    #print(f_base)\n",
    "    rds_contents = readRDS(f)\n",
    "    \n",
    "    if len(rds_contents[1]) > 0:\n",
    "        f_gene_list = list(rds_contents[1][0].iter_labels())\n",
    "    else:\n",
    "        print(f'{f_code}: empty')\n",
    "        f_gene_list = []\n",
    "    \n",
    "    gwas2genes_results[f_code] = spredixcan_genes_associations.index.intersection(set(f_gene_list))"
   ]
  },
  {
   "cell_type": "code",
   "execution_count": 31,
   "metadata": {},
   "outputs": [
    {
     "data": {
      "text/plain": [
       "99"
      ]
     },
     "execution_count": 31,
     "metadata": {},
     "output_type": "execute_result"
    }
   ],
   "source": [
    "len(gwas2genes_results)"
   ]
  },
  {
   "cell_type": "code",
   "execution_count": 32,
   "metadata": {},
   "outputs": [
    {
     "data": {
      "text/plain": [
       "19179"
      ]
     },
     "metadata": {},
     "output_type": "display_data"
    },
    {
     "data": {
      "text/plain": [
       "9503"
      ]
     },
     "metadata": {},
     "output_type": "display_data"
    }
   ],
   "source": [
    "gwas2gene_all_genes = []\n",
    "\n",
    "for k in gwas2genes_results.keys():\n",
    "    gwas2gene_all_genes.extend(gwas2genes_results[k])\n",
    "\n",
    "display(len(gwas2gene_all_genes))\n",
    "\n",
    "gwas2gene_all_genes = set(gwas2gene_all_genes)\n",
    "display(len(gwas2gene_all_genes))\n",
    "\n",
    "# gwas2gene_all_genes = spredixcan_genes_associations.index.intersection(gwas2gene_all_genes)\n",
    "# display(len(gwas2gene_all_genes))"
   ]
  },
  {
   "cell_type": "markdown",
   "metadata": {},
   "source": [
    "# Create list of UKB-OMIM traits"
   ]
  },
  {
   "cell_type": "code",
   "execution_count": 33,
   "metadata": {},
   "outputs": [
    {
     "data": {
      "text/html": [
       "<div>\n",
       "<style scoped>\n",
       "    .dataframe tbody tr th:only-of-type {\n",
       "        vertical-align: middle;\n",
       "    }\n",
       "\n",
       "    .dataframe tbody tr th {\n",
       "        vertical-align: top;\n",
       "    }\n",
       "\n",
       "    .dataframe thead th {\n",
       "        text-align: right;\n",
       "    }\n",
       "</style>\n",
       "<table border=\"1\" class=\"dataframe\">\n",
       "  <thead>\n",
       "    <tr style=\"text-align: right;\">\n",
       "      <th></th>\n",
       "      <th>trait</th>\n",
       "      <th>pheno_mim</th>\n",
       "      <th>mim</th>\n",
       "      <th>entry_type</th>\n",
       "      <th>entrez_gene_id</th>\n",
       "      <th>approved_gene_symbol</th>\n",
       "      <th>ensembl_gene_id</th>\n",
       "    </tr>\n",
       "  </thead>\n",
       "  <tbody>\n",
       "    <tr>\n",
       "      <th>0</th>\n",
       "      <td>M41-Diagnoses_main_ICD10_M41_Scoliosis</td>\n",
       "      <td>101800</td>\n",
       "      <td>188830</td>\n",
       "      <td>gene</td>\n",
       "      <td>5573</td>\n",
       "      <td>PRKAR1A</td>\n",
       "      <td>ENSG00000108946</td>\n",
       "    </tr>\n",
       "    <tr>\n",
       "      <th>1</th>\n",
       "      <td>M41-Diagnoses_main_ICD10_M41_Scoliosis</td>\n",
       "      <td>102500</td>\n",
       "      <td>600275</td>\n",
       "      <td>gene</td>\n",
       "      <td>4853</td>\n",
       "      <td>NOTCH2</td>\n",
       "      <td>ENSG00000134250</td>\n",
       "    </tr>\n",
       "    <tr>\n",
       "      <th>2</th>\n",
       "      <td>M41-Diagnoses_main_ICD10_M41_Scoliosis</td>\n",
       "      <td>105830</td>\n",
       "      <td>601623</td>\n",
       "      <td>gene</td>\n",
       "      <td>7337</td>\n",
       "      <td>UBE3A</td>\n",
       "      <td>ENSG00000114062</td>\n",
       "    </tr>\n",
       "    <tr>\n",
       "      <th>3</th>\n",
       "      <td>M41-Diagnoses_main_ICD10_M41_Scoliosis</td>\n",
       "      <td>108120</td>\n",
       "      <td>190990</td>\n",
       "      <td>gene</td>\n",
       "      <td>7169</td>\n",
       "      <td>TPM2</td>\n",
       "      <td>ENSG00000198467</td>\n",
       "    </tr>\n",
       "    <tr>\n",
       "      <th>4</th>\n",
       "      <td>M41-Diagnoses_main_ICD10_M41_Scoliosis</td>\n",
       "      <td>108145</td>\n",
       "      <td>613629</td>\n",
       "      <td>gene</td>\n",
       "      <td>63895</td>\n",
       "      <td>PIEZO2</td>\n",
       "      <td>ENSG00000154864</td>\n",
       "    </tr>\n",
       "  </tbody>\n",
       "</table>\n",
       "</div>"
      ],
      "text/plain": [
       "                                    trait  pheno_mim     mim entry_type  \\\n",
       "0  M41-Diagnoses_main_ICD10_M41_Scoliosis     101800  188830       gene   \n",
       "1  M41-Diagnoses_main_ICD10_M41_Scoliosis     102500  600275       gene   \n",
       "2  M41-Diagnoses_main_ICD10_M41_Scoliosis     105830  601623       gene   \n",
       "3  M41-Diagnoses_main_ICD10_M41_Scoliosis     108120  190990       gene   \n",
       "4  M41-Diagnoses_main_ICD10_M41_Scoliosis     108145  613629       gene   \n",
       "\n",
       "   entrez_gene_id approved_gene_symbol  ensembl_gene_id  \n",
       "0            5573              PRKAR1A  ENSG00000108946  \n",
       "1            4853               NOTCH2  ENSG00000134250  \n",
       "2            7337                UBE3A  ENSG00000114062  \n",
       "3            7169                 TPM2  ENSG00000198467  \n",
       "4           63895               PIEZO2  ENSG00000154864  "
      ]
     },
     "execution_count": 33,
     "metadata": {},
     "output_type": "execute_result"
    }
   ],
   "source": [
    "omim_silver_standard.head()"
   ]
  },
  {
   "cell_type": "markdown",
   "metadata": {},
   "source": [
    "# Create PrediXcan classifier table"
   ]
  },
  {
   "cell_type": "code",
   "execution_count": 34,
   "metadata": {},
   "outputs": [],
   "source": [
    "_tmp = omim_silver_standard[['trait', 'ensembl_gene_id']]\n",
    "ukb_traits_common = _tmp['trait'].unique()\n",
    "\n",
    "omim_true_classes = _tmp[['trait', 'ensembl_gene_id']].drop_duplicates()\n",
    "omim_true_classes = omim_true_classes.assign(omim_value=1)\n",
    "omim_true_classes = omim_true_classes.set_index(['trait', 'ensembl_gene_id'])"
   ]
  },
  {
   "cell_type": "code",
   "execution_count": 35,
   "metadata": {},
   "outputs": [
    {
     "data": {
      "text/plain": [
       "107"
      ]
     },
     "execution_count": 35,
     "metadata": {},
     "output_type": "execute_result"
    }
   ],
   "source": [
    "len(ukb_traits_common)"
   ]
  },
  {
   "cell_type": "code",
   "execution_count": 36,
   "metadata": {},
   "outputs": [
    {
     "data": {
      "text/plain": [
       "(7046, 1)"
      ]
     },
     "execution_count": 36,
     "metadata": {},
     "output_type": "execute_result"
    }
   ],
   "source": [
    "omim_true_classes.shape"
   ]
  },
  {
   "cell_type": "code",
   "execution_count": 37,
   "metadata": {},
   "outputs": [
    {
     "data": {
      "text/html": [
       "<div>\n",
       "<style scoped>\n",
       "    .dataframe tbody tr th:only-of-type {\n",
       "        vertical-align: middle;\n",
       "    }\n",
       "\n",
       "    .dataframe tbody tr th {\n",
       "        vertical-align: top;\n",
       "    }\n",
       "\n",
       "    .dataframe thead th {\n",
       "        text-align: right;\n",
       "    }\n",
       "</style>\n",
       "<table border=\"1\" class=\"dataframe\">\n",
       "  <thead>\n",
       "    <tr style=\"text-align: right;\">\n",
       "      <th></th>\n",
       "      <th></th>\n",
       "      <th>omim_value</th>\n",
       "    </tr>\n",
       "    <tr>\n",
       "      <th>trait</th>\n",
       "      <th>ensembl_gene_id</th>\n",
       "      <th></th>\n",
       "    </tr>\n",
       "  </thead>\n",
       "  <tbody>\n",
       "    <tr>\n",
       "      <th rowspan=\"5\" valign=\"top\">M41-Diagnoses_main_ICD10_M41_Scoliosis</th>\n",
       "      <th>ENSG00000108946</th>\n",
       "      <td>1</td>\n",
       "    </tr>\n",
       "    <tr>\n",
       "      <th>ENSG00000134250</th>\n",
       "      <td>1</td>\n",
       "    </tr>\n",
       "    <tr>\n",
       "      <th>ENSG00000114062</th>\n",
       "      <td>1</td>\n",
       "    </tr>\n",
       "    <tr>\n",
       "      <th>ENSG00000198467</th>\n",
       "      <td>1</td>\n",
       "    </tr>\n",
       "    <tr>\n",
       "      <th>ENSG00000154864</th>\n",
       "      <td>1</td>\n",
       "    </tr>\n",
       "  </tbody>\n",
       "</table>\n",
       "</div>"
      ],
      "text/plain": [
       "                                                        omim_value\n",
       "trait                                  ensembl_gene_id            \n",
       "M41-Diagnoses_main_ICD10_M41_Scoliosis ENSG00000108946           1\n",
       "                                       ENSG00000134250           1\n",
       "                                       ENSG00000114062           1\n",
       "                                       ENSG00000198467           1\n",
       "                                       ENSG00000154864           1"
      ]
     },
     "execution_count": 37,
     "metadata": {},
     "output_type": "execute_result"
    }
   ],
   "source": [
    "omim_true_classes.head()"
   ]
  },
  {
   "cell_type": "code",
   "execution_count": 38,
   "metadata": {},
   "outputs": [
    {
     "data": {
      "text/plain": [
       "107"
      ]
     },
     "execution_count": 38,
     "metadata": {},
     "output_type": "execute_result"
    }
   ],
   "source": [
    "len(ukb_traits_common)"
   ]
  },
  {
   "cell_type": "code",
   "execution_count": 39,
   "metadata": {},
   "outputs": [],
   "source": [
    "index_tuples = []\n",
    "\n",
    "for t in ukb_traits_common:\n",
    "    t_code = Trait(t).trait_code\n",
    "    if t_code not in gwas2genes_results:\n",
    "        continue\n",
    "    \n",
    "    for g in gwas2genes_results[t_code]:\n",
    "        index_tuples.append((t, g))"
   ]
  },
  {
   "cell_type": "code",
   "execution_count": 40,
   "metadata": {},
   "outputs": [
    {
     "data": {
      "text/plain": [
       "19179"
      ]
     },
     "execution_count": 40,
     "metadata": {},
     "output_type": "execute_result"
    }
   ],
   "source": [
    "len(index_tuples)"
   ]
  },
  {
   "cell_type": "code",
   "execution_count": 41,
   "metadata": {},
   "outputs": [
    {
     "data": {
      "text/plain": [
       "[('M41-Diagnoses_main_ICD10_M41_Scoliosis', 'ENSG00000173208'),\n",
       " ('M41-Diagnoses_main_ICD10_M41_Scoliosis', 'ENSG00000075089'),\n",
       " ('M41-Diagnoses_main_ICD10_M41_Scoliosis', 'ENSG00000133597'),\n",
       " ('M41-Diagnoses_main_ICD10_M41_Scoliosis', 'ENSG00000111863'),\n",
       " ('M41-Diagnoses_main_ICD10_M41_Scoliosis', 'ENSG00000174606')]"
      ]
     },
     "execution_count": 41,
     "metadata": {},
     "output_type": "execute_result"
    }
   ],
   "source": [
    "index_tuples[:5]"
   ]
  },
  {
   "cell_type": "code",
   "execution_count": 42,
   "metadata": {},
   "outputs": [],
   "source": [
    "classifier_index = pd.MultiIndex.from_tuples(\n",
    "    index_tuples,\n",
    "    names=['ukb_efo', 'gene']\n",
    ")"
   ]
  },
  {
   "cell_type": "code",
   "execution_count": 43,
   "metadata": {},
   "outputs": [
    {
     "data": {
      "text/plain": [
       "9503"
      ]
     },
     "execution_count": 43,
     "metadata": {},
     "output_type": "execute_result"
    }
   ],
   "source": [
    "len(gwas2gene_all_genes)"
   ]
  },
  {
   "cell_type": "code",
   "execution_count": 44,
   "metadata": {},
   "outputs": [
    {
     "data": {
      "text/plain": [
       "(19179,)"
      ]
     },
     "execution_count": 44,
     "metadata": {},
     "output_type": "execute_result"
    }
   ],
   "source": [
    "classifier_index.shape"
   ]
  },
  {
   "cell_type": "code",
   "execution_count": 45,
   "metadata": {},
   "outputs": [],
   "source": [
    "predixcan_classifier_df = pd.DataFrame(index=classifier_index, columns=['score', 'predicted_class', 'true_class'])"
   ]
  },
  {
   "cell_type": "code",
   "execution_count": 46,
   "metadata": {},
   "outputs": [],
   "source": [
    "predixcan_classifier_df = predixcan_classifier_df.sort_index()"
   ]
  },
  {
   "cell_type": "code",
   "execution_count": 47,
   "metadata": {},
   "outputs": [
    {
     "data": {
      "text/plain": [
       "(19179, 3)"
      ]
     },
     "execution_count": 47,
     "metadata": {},
     "output_type": "execute_result"
    }
   ],
   "source": [
    "predixcan_classifier_df.shape"
   ]
  },
  {
   "cell_type": "code",
   "execution_count": 48,
   "metadata": {},
   "outputs": [],
   "source": [
    "predixcan_classifier_df['true_class'] = 0"
   ]
  },
  {
   "cell_type": "code",
   "execution_count": 49,
   "metadata": {},
   "outputs": [
    {
     "data": {
      "text/html": [
       "<div>\n",
       "<style scoped>\n",
       "    .dataframe tbody tr th:only-of-type {\n",
       "        vertical-align: middle;\n",
       "    }\n",
       "\n",
       "    .dataframe tbody tr th {\n",
       "        vertical-align: top;\n",
       "    }\n",
       "\n",
       "    .dataframe thead th {\n",
       "        text-align: right;\n",
       "    }\n",
       "</style>\n",
       "<table border=\"1\" class=\"dataframe\">\n",
       "  <thead>\n",
       "    <tr style=\"text-align: right;\">\n",
       "      <th></th>\n",
       "      <th></th>\n",
       "      <th>score</th>\n",
       "      <th>predicted_class</th>\n",
       "      <th>true_class</th>\n",
       "    </tr>\n",
       "    <tr>\n",
       "      <th>ukb_efo</th>\n",
       "      <th>gene</th>\n",
       "      <th></th>\n",
       "      <th></th>\n",
       "      <th></th>\n",
       "    </tr>\n",
       "  </thead>\n",
       "  <tbody>\n",
       "    <tr>\n",
       "      <th rowspan=\"5\" valign=\"top\">1200-Sleeplessness_insomnia</th>\n",
       "      <th>ENSG00000001617</th>\n",
       "      <td>NaN</td>\n",
       "      <td>NaN</td>\n",
       "      <td>0</td>\n",
       "    </tr>\n",
       "    <tr>\n",
       "      <th>ENSG00000003756</th>\n",
       "      <td>NaN</td>\n",
       "      <td>NaN</td>\n",
       "      <td>0</td>\n",
       "    </tr>\n",
       "    <tr>\n",
       "      <th>ENSG00000004534</th>\n",
       "      <td>NaN</td>\n",
       "      <td>NaN</td>\n",
       "      <td>0</td>\n",
       "    </tr>\n",
       "    <tr>\n",
       "      <th>ENSG00000004838</th>\n",
       "      <td>NaN</td>\n",
       "      <td>NaN</td>\n",
       "      <td>0</td>\n",
       "    </tr>\n",
       "    <tr>\n",
       "      <th>ENSG00000004897</th>\n",
       "      <td>NaN</td>\n",
       "      <td>NaN</td>\n",
       "      <td>0</td>\n",
       "    </tr>\n",
       "  </tbody>\n",
       "</table>\n",
       "</div>"
      ],
      "text/plain": [
       "                                            score predicted_class  true_class\n",
       "ukb_efo                     gene                                             \n",
       "1200-Sleeplessness_insomnia ENSG00000001617   NaN             NaN           0\n",
       "                            ENSG00000003756   NaN             NaN           0\n",
       "                            ENSG00000004534   NaN             NaN           0\n",
       "                            ENSG00000004838   NaN             NaN           0\n",
       "                            ENSG00000004897   NaN             NaN           0"
      ]
     },
     "execution_count": 49,
     "metadata": {},
     "output_type": "execute_result"
    }
   ],
   "source": [
    "predixcan_classifier_df.head()"
   ]
  },
  {
   "cell_type": "code",
   "execution_count": 50,
   "metadata": {},
   "outputs": [
    {
     "data": {
      "text/plain": [
       "(7046,)"
      ]
     },
     "metadata": {},
     "output_type": "display_data"
    },
    {
     "data": {
      "text/plain": [
       "trait                                   ensembl_gene_id\n",
       "M41-Diagnoses_main_ICD10_M41_Scoliosis  ENSG00000108946    1\n",
       "                                        ENSG00000134250    1\n",
       "                                        ENSG00000114062    1\n",
       "                                        ENSG00000198467    1\n",
       "                                        ENSG00000154864    1\n",
       "Name: omim_value, dtype: int64"
      ]
     },
     "metadata": {},
     "output_type": "display_data"
    }
   ],
   "source": [
    "true_classes = omim_true_classes.squeeze()\n",
    "display(true_classes.shape)\n",
    "display(true_classes.head())"
   ]
  },
  {
   "cell_type": "code",
   "execution_count": 51,
   "metadata": {},
   "outputs": [],
   "source": [
    "predixcan_classifier_df.loc[predixcan_classifier_df.index.intersection(true_classes.index), 'true_class'] = 1"
   ]
  },
  {
   "cell_type": "code",
   "execution_count": 52,
   "metadata": {},
   "outputs": [],
   "source": [
    "assert predixcan_classifier_df['true_class'].isna().sum() == 0"
   ]
  },
  {
   "cell_type": "code",
   "execution_count": 53,
   "metadata": {},
   "outputs": [
    {
     "data": {
      "text/html": [
       "<div>\n",
       "<style scoped>\n",
       "    .dataframe tbody tr th:only-of-type {\n",
       "        vertical-align: middle;\n",
       "    }\n",
       "\n",
       "    .dataframe tbody tr th {\n",
       "        vertical-align: top;\n",
       "    }\n",
       "\n",
       "    .dataframe thead th {\n",
       "        text-align: right;\n",
       "    }\n",
       "</style>\n",
       "<table border=\"1\" class=\"dataframe\">\n",
       "  <thead>\n",
       "    <tr style=\"text-align: right;\">\n",
       "      <th></th>\n",
       "      <th>score</th>\n",
       "      <th>predicted_class</th>\n",
       "      <th>true_class</th>\n",
       "    </tr>\n",
       "    <tr>\n",
       "      <th>gene</th>\n",
       "      <th></th>\n",
       "      <th></th>\n",
       "      <th></th>\n",
       "    </tr>\n",
       "  </thead>\n",
       "  <tbody>\n",
       "    <tr>\n",
       "      <th>ENSG00000012504</th>\n",
       "      <td>NaN</td>\n",
       "      <td>NaN</td>\n",
       "      <td>0</td>\n",
       "    </tr>\n",
       "    <tr>\n",
       "      <th>ENSG00000075089</th>\n",
       "      <td>NaN</td>\n",
       "      <td>NaN</td>\n",
       "      <td>0</td>\n",
       "    </tr>\n",
       "    <tr>\n",
       "      <th>ENSG00000075336</th>\n",
       "      <td>NaN</td>\n",
       "      <td>NaN</td>\n",
       "      <td>0</td>\n",
       "    </tr>\n",
       "    <tr>\n",
       "      <th>ENSG00000078401</th>\n",
       "      <td>NaN</td>\n",
       "      <td>NaN</td>\n",
       "      <td>0</td>\n",
       "    </tr>\n",
       "    <tr>\n",
       "      <th>ENSG00000090263</th>\n",
       "      <td>NaN</td>\n",
       "      <td>NaN</td>\n",
       "      <td>0</td>\n",
       "    </tr>\n",
       "  </tbody>\n",
       "</table>\n",
       "</div>"
      ],
      "text/plain": [
       "                score predicted_class  true_class\n",
       "gene                                             \n",
       "ENSG00000012504   NaN             NaN           0\n",
       "ENSG00000075089   NaN             NaN           0\n",
       "ENSG00000075336   NaN             NaN           0\n",
       "ENSG00000078401   NaN             NaN           0\n",
       "ENSG00000090263   NaN             NaN           0"
      ]
     },
     "execution_count": 53,
     "metadata": {},
     "output_type": "execute_result"
    }
   ],
   "source": [
    "# some testing\n",
    "predixcan_classifier_df.loc[('M41-Diagnoses_main_ICD10_M41_Scoliosis',)].head()"
   ]
  },
  {
   "cell_type": "code",
   "execution_count": 54,
   "metadata": {},
   "outputs": [
    {
     "data": {
      "text/plain": [
       "1"
      ]
     },
     "execution_count": 54,
     "metadata": {},
     "output_type": "execute_result"
    }
   ],
   "source": [
    "true_classes.loc[('M41-Diagnoses_main_ICD10_M41_Scoliosis', 'ENSG00000112234')]"
   ]
  },
  {
   "cell_type": "code",
   "execution_count": 55,
   "metadata": {},
   "outputs": [
    {
     "data": {
      "text/plain": [
       "True"
      ]
     },
     "execution_count": 55,
     "metadata": {},
     "output_type": "execute_result"
    }
   ],
   "source": [
    "'ENSG00000090263' not in true_classes.loc['M41-Diagnoses_main_ICD10_M41_Scoliosis'].index"
   ]
  },
  {
   "cell_type": "code",
   "execution_count": 56,
   "metadata": {},
   "outputs": [],
   "source": [
    "assert predixcan_classifier_df.loc[('M41-Diagnoses_main_ICD10_M41_Scoliosis', 'ENSG00000112234'), 'true_class'] == 1.0\n",
    "assert predixcan_classifier_df.loc[('M41-Diagnoses_main_ICD10_M41_Scoliosis', 'ENSG00000090263'), 'true_class'] == 0.0"
   ]
  },
  {
   "cell_type": "code",
   "execution_count": 57,
   "metadata": {},
   "outputs": [
    {
     "data": {
      "text/plain": [
       "9503"
      ]
     },
     "execution_count": 57,
     "metadata": {},
     "output_type": "execute_result"
    }
   ],
   "source": [
    "len(gwas2gene_all_genes)"
   ]
  },
  {
   "cell_type": "code",
   "execution_count": 58,
   "metadata": {},
   "outputs": [
    {
     "name": "stdout",
     "output_type": "stream",
     "text": [
      "M13\n",
      "I95\n",
      "I71\n",
      "20002_1264\n",
      "20002_1081\n",
      "22130\n",
      "C80\n",
      "20002_1538\n"
     ]
    }
   ],
   "source": [
    "# score\n",
    "df_score = pd.Series(index=classifier_index)\n",
    "\n",
    "for trait in ukb_traits_common:\n",
    "    trait_code = Trait(trait).trait_code\n",
    "    if trait_code not in gwas2genes_results:\n",
    "        print(trait_code)\n",
    "        continue\n",
    "    trait_genes = gwas2genes_results[trait_code]\n",
    "    scores = spredixcan_genes_associations.loc[trait_genes, trait]\n",
    "    df_score.loc[trait] = scores.values"
   ]
  },
  {
   "cell_type": "code",
   "execution_count": 59,
   "metadata": {},
   "outputs": [],
   "source": [
    "# some testing\n",
    "df_score = df_score.dropna().sort_index()\n",
    "assert df_score.isna().sum().sum() == 0"
   ]
  },
  {
   "cell_type": "code",
   "execution_count": 60,
   "metadata": {},
   "outputs": [
    {
     "data": {
      "text/plain": [
       "ukb_efo                      gene           \n",
       "1200-Sleeplessness_insomnia  ENSG00000001617    2.563019e-02\n",
       "                             ENSG00000003756    7.435000e-02\n",
       "                             ENSG00000004534    4.208160e-01\n",
       "                             ENSG00000004838    4.417000e-04\n",
       "                             ENSG00000004897    1.116773e-09\n",
       "dtype: float64"
      ]
     },
     "execution_count": 60,
     "metadata": {},
     "output_type": "execute_result"
    }
   ],
   "source": [
    "df_score.head()"
   ]
  },
  {
   "cell_type": "code",
   "execution_count": 61,
   "metadata": {},
   "outputs": [],
   "source": [
    "# some testing\n",
    "_gene, _trait = ('ENSG00000090263', 'M41-Diagnoses_main_ICD10_M41_Scoliosis')\n",
    "assert spredixcan_genes_associations.loc[_gene, _trait] == df_score.loc[_trait, _gene]"
   ]
  },
  {
   "cell_type": "code",
   "execution_count": 62,
   "metadata": {},
   "outputs": [],
   "source": [
    "_gene, _trait = ('ENSG00000070061', 'O14-Diagnoses_main_ICD10_O14_Gestational_pregnancyinduced_hypertension_with_significant_proteinuria')\n",
    "assert spredixcan_genes_associations.loc[_gene, _trait] == df_score.loc[_trait, _gene]"
   ]
  },
  {
   "cell_type": "code",
   "execution_count": 63,
   "metadata": {},
   "outputs": [
    {
     "data": {
      "text/plain": [
       "(19179,)"
      ]
     },
     "execution_count": 63,
     "metadata": {},
     "output_type": "execute_result"
    }
   ],
   "source": [
    "df_score.shape"
   ]
  },
  {
   "cell_type": "code",
   "execution_count": 64,
   "metadata": {},
   "outputs": [
    {
     "data": {
      "text/plain": [
       "ukb_efo                      gene           \n",
       "1200-Sleeplessness_insomnia  ENSG00000001617    2.563019e-02\n",
       "                             ENSG00000003756    7.435000e-02\n",
       "                             ENSG00000004534    4.208160e-01\n",
       "                             ENSG00000004838    4.417000e-04\n",
       "                             ENSG00000004897    1.116773e-09\n",
       "dtype: float64"
      ]
     },
     "execution_count": 64,
     "metadata": {},
     "output_type": "execute_result"
    }
   ],
   "source": [
    "df_score.head()"
   ]
  },
  {
   "cell_type": "code",
   "execution_count": 65,
   "metadata": {},
   "outputs": [
    {
     "data": {
      "text/plain": [
       "0.0"
      ]
     },
     "execution_count": 65,
     "metadata": {},
     "output_type": "execute_result"
    }
   ],
   "source": [
    "df_score.min()"
   ]
  },
  {
   "cell_type": "code",
   "execution_count": 66,
   "metadata": {},
   "outputs": [
    {
     "data": {
      "text/plain": [
       "1.759235608"
      ]
     },
     "execution_count": 66,
     "metadata": {},
     "output_type": "execute_result"
    }
   ],
   "source": [
    "df_score.max()"
   ]
  },
  {
   "cell_type": "code",
   "execution_count": 67,
   "metadata": {},
   "outputs": [],
   "source": [
    "predixcan_classifier_df = predixcan_classifier_df.assign(score=df_score)"
   ]
  },
  {
   "cell_type": "code",
   "execution_count": 68,
   "metadata": {},
   "outputs": [],
   "source": [
    "assert not predixcan_classifier_df['score'].isna().any()"
   ]
  },
  {
   "cell_type": "code",
   "execution_count": 69,
   "metadata": {},
   "outputs": [],
   "source": [
    "from scipy import stats"
   ]
  },
  {
   "cell_type": "code",
   "execution_count": 70,
   "metadata": {},
   "outputs": [
    {
     "data": {
      "text/plain": [
       "9503"
      ]
     },
     "metadata": {},
     "output_type": "display_data"
    },
    {
     "data": {
      "text/plain": [
       "0.1"
      ]
     },
     "metadata": {},
     "output_type": "display_data"
    }
   ],
   "source": [
    "_n_genes = len(gwas2gene_all_genes)\n",
    "display(_n_genes)\n",
    "\n",
    "SCORE_THRESHOLD = 0.1\n",
    "display(SCORE_THRESHOLD)"
   ]
  },
  {
   "cell_type": "code",
   "execution_count": 71,
   "metadata": {},
   "outputs": [],
   "source": [
    "predixcan_classifier_df = predixcan_classifier_df.assign(predicted_class=(predixcan_classifier_df['score'] > SCORE_THRESHOLD).astype(int))"
   ]
  },
  {
   "cell_type": "code",
   "execution_count": 72,
   "metadata": {},
   "outputs": [
    {
     "data": {
      "text/plain": [
       "(19179, 3)"
      ]
     },
     "execution_count": 72,
     "metadata": {},
     "output_type": "execute_result"
    }
   ],
   "source": [
    "predixcan_classifier_df.shape"
   ]
  },
  {
   "cell_type": "code",
   "execution_count": 73,
   "metadata": {},
   "outputs": [
    {
     "data": {
      "text/html": [
       "<div>\n",
       "<style scoped>\n",
       "    .dataframe tbody tr th:only-of-type {\n",
       "        vertical-align: middle;\n",
       "    }\n",
       "\n",
       "    .dataframe tbody tr th {\n",
       "        vertical-align: top;\n",
       "    }\n",
       "\n",
       "    .dataframe thead th {\n",
       "        text-align: right;\n",
       "    }\n",
       "</style>\n",
       "<table border=\"1\" class=\"dataframe\">\n",
       "  <thead>\n",
       "    <tr style=\"text-align: right;\">\n",
       "      <th></th>\n",
       "      <th></th>\n",
       "      <th>score</th>\n",
       "      <th>predicted_class</th>\n",
       "      <th>true_class</th>\n",
       "    </tr>\n",
       "    <tr>\n",
       "      <th>ukb_efo</th>\n",
       "      <th>gene</th>\n",
       "      <th></th>\n",
       "      <th></th>\n",
       "      <th></th>\n",
       "    </tr>\n",
       "  </thead>\n",
       "  <tbody>\n",
       "    <tr>\n",
       "      <th rowspan=\"5\" valign=\"top\">1200-Sleeplessness_insomnia</th>\n",
       "      <th>ENSG00000001617</th>\n",
       "      <td>2.563019e-02</td>\n",
       "      <td>0</td>\n",
       "      <td>0</td>\n",
       "    </tr>\n",
       "    <tr>\n",
       "      <th>ENSG00000003756</th>\n",
       "      <td>7.435000e-02</td>\n",
       "      <td>0</td>\n",
       "      <td>0</td>\n",
       "    </tr>\n",
       "    <tr>\n",
       "      <th>ENSG00000004534</th>\n",
       "      <td>4.208160e-01</td>\n",
       "      <td>1</td>\n",
       "      <td>0</td>\n",
       "    </tr>\n",
       "    <tr>\n",
       "      <th>ENSG00000004838</th>\n",
       "      <td>4.417000e-04</td>\n",
       "      <td>0</td>\n",
       "      <td>0</td>\n",
       "    </tr>\n",
       "    <tr>\n",
       "      <th>ENSG00000004897</th>\n",
       "      <td>1.116773e-09</td>\n",
       "      <td>0</td>\n",
       "      <td>0</td>\n",
       "    </tr>\n",
       "  </tbody>\n",
       "</table>\n",
       "</div>"
      ],
      "text/plain": [
       "                                                    score  predicted_class  \\\n",
       "ukb_efo                     gene                                             \n",
       "1200-Sleeplessness_insomnia ENSG00000001617  2.563019e-02                0   \n",
       "                            ENSG00000003756  7.435000e-02                0   \n",
       "                            ENSG00000004534  4.208160e-01                1   \n",
       "                            ENSG00000004838  4.417000e-04                0   \n",
       "                            ENSG00000004897  1.116773e-09                0   \n",
       "\n",
       "                                             true_class  \n",
       "ukb_efo                     gene                         \n",
       "1200-Sleeplessness_insomnia ENSG00000001617           0  \n",
       "                            ENSG00000003756           0  \n",
       "                            ENSG00000004534           0  \n",
       "                            ENSG00000004838           0  \n",
       "                            ENSG00000004897           0  "
      ]
     },
     "execution_count": 73,
     "metadata": {},
     "output_type": "execute_result"
    }
   ],
   "source": [
    "predixcan_classifier_df.head()"
   ]
  },
  {
   "cell_type": "code",
   "execution_count": 74,
   "metadata": {},
   "outputs": [
    {
     "data": {
      "text/html": [
       "<div>\n",
       "<style scoped>\n",
       "    .dataframe tbody tr th:only-of-type {\n",
       "        vertical-align: middle;\n",
       "    }\n",
       "\n",
       "    .dataframe tbody tr th {\n",
       "        vertical-align: top;\n",
       "    }\n",
       "\n",
       "    .dataframe thead th {\n",
       "        text-align: right;\n",
       "    }\n",
       "</style>\n",
       "<table border=\"1\" class=\"dataframe\">\n",
       "  <thead>\n",
       "    <tr style=\"text-align: right;\">\n",
       "      <th></th>\n",
       "      <th>score</th>\n",
       "      <th>predicted_class</th>\n",
       "      <th>true_class</th>\n",
       "    </tr>\n",
       "    <tr>\n",
       "      <th>gene</th>\n",
       "      <th></th>\n",
       "      <th></th>\n",
       "      <th></th>\n",
       "    </tr>\n",
       "  </thead>\n",
       "  <tbody>\n",
       "    <tr>\n",
       "      <th>ENSG00000157764</th>\n",
       "      <td>6.912200e-08</td>\n",
       "      <td>0</td>\n",
       "      <td>1</td>\n",
       "    </tr>\n",
       "    <tr>\n",
       "      <th>ENSG00000162769</th>\n",
       "      <td>3.231060e-06</td>\n",
       "      <td>0</td>\n",
       "      <td>1</td>\n",
       "    </tr>\n",
       "    <tr>\n",
       "      <th>ENSG00000112234</th>\n",
       "      <td>6.222500e-07</td>\n",
       "      <td>0</td>\n",
       "      <td>1</td>\n",
       "    </tr>\n",
       "    <tr>\n",
       "      <th>ENSG00000012504</th>\n",
       "      <td>1.772800e-11</td>\n",
       "      <td>0</td>\n",
       "      <td>0</td>\n",
       "    </tr>\n",
       "    <tr>\n",
       "      <th>ENSG00000173208</th>\n",
       "      <td>1.777500e-07</td>\n",
       "      <td>0</td>\n",
       "      <td>0</td>\n",
       "    </tr>\n",
       "  </tbody>\n",
       "</table>\n",
       "</div>"
      ],
      "text/plain": [
       "                        score  predicted_class  true_class\n",
       "gene                                                      \n",
       "ENSG00000157764  6.912200e-08                0           1\n",
       "ENSG00000162769  3.231060e-06                0           1\n",
       "ENSG00000112234  6.222500e-07                0           1\n",
       "ENSG00000012504  1.772800e-11                0           0\n",
       "ENSG00000173208  1.777500e-07                0           0"
      ]
     },
     "execution_count": 74,
     "metadata": {},
     "output_type": "execute_result"
    }
   ],
   "source": [
    "predixcan_classifier_df.loc['M41-Diagnoses_main_ICD10_M41_Scoliosis'].sort_values('true_class', ascending=False).head()"
   ]
  },
  {
   "cell_type": "markdown",
   "metadata": {},
   "source": [
    "## Select genes per trait"
   ]
  },
  {
   "cell_type": "code",
   "execution_count": 75,
   "metadata": {},
   "outputs": [],
   "source": [
    "#selected_predixcan_classifier_df = predixcan_classifier_df.loc[predixcan_classifier_df.index.intersection(trait_genes_to_keep)]\n",
    "selected_predixcan_classifier_df = predixcan_classifier_df"
   ]
  },
  {
   "cell_type": "code",
   "execution_count": 76,
   "metadata": {},
   "outputs": [],
   "source": [
    "# some testing"
   ]
  },
  {
   "cell_type": "code",
   "execution_count": 77,
   "metadata": {},
   "outputs": [
    {
     "data": {
      "text/plain": [
       "(19179, 3)"
      ]
     },
     "execution_count": 77,
     "metadata": {},
     "output_type": "execute_result"
    }
   ],
   "source": [
    "selected_predixcan_classifier_df.shape"
   ]
  },
  {
   "cell_type": "code",
   "execution_count": 78,
   "metadata": {},
   "outputs": [
    {
     "data": {
      "text/html": [
       "<div>\n",
       "<style scoped>\n",
       "    .dataframe tbody tr th:only-of-type {\n",
       "        vertical-align: middle;\n",
       "    }\n",
       "\n",
       "    .dataframe tbody tr th {\n",
       "        vertical-align: top;\n",
       "    }\n",
       "\n",
       "    .dataframe thead th {\n",
       "        text-align: right;\n",
       "    }\n",
       "</style>\n",
       "<table border=\"1\" class=\"dataframe\">\n",
       "  <thead>\n",
       "    <tr style=\"text-align: right;\">\n",
       "      <th></th>\n",
       "      <th></th>\n",
       "      <th>score</th>\n",
       "      <th>predicted_class</th>\n",
       "      <th>true_class</th>\n",
       "    </tr>\n",
       "    <tr>\n",
       "      <th>ukb_efo</th>\n",
       "      <th>gene</th>\n",
       "      <th></th>\n",
       "      <th></th>\n",
       "      <th></th>\n",
       "    </tr>\n",
       "  </thead>\n",
       "  <tbody>\n",
       "    <tr>\n",
       "      <th rowspan=\"5\" valign=\"top\">1200-Sleeplessness_insomnia</th>\n",
       "      <th>ENSG00000001617</th>\n",
       "      <td>2.563019e-02</td>\n",
       "      <td>0</td>\n",
       "      <td>0</td>\n",
       "    </tr>\n",
       "    <tr>\n",
       "      <th>ENSG00000003756</th>\n",
       "      <td>7.435000e-02</td>\n",
       "      <td>0</td>\n",
       "      <td>0</td>\n",
       "    </tr>\n",
       "    <tr>\n",
       "      <th>ENSG00000004534</th>\n",
       "      <td>4.208160e-01</td>\n",
       "      <td>1</td>\n",
       "      <td>0</td>\n",
       "    </tr>\n",
       "    <tr>\n",
       "      <th>ENSG00000004838</th>\n",
       "      <td>4.417000e-04</td>\n",
       "      <td>0</td>\n",
       "      <td>0</td>\n",
       "    </tr>\n",
       "    <tr>\n",
       "      <th>ENSG00000004897</th>\n",
       "      <td>1.116773e-09</td>\n",
       "      <td>0</td>\n",
       "      <td>0</td>\n",
       "    </tr>\n",
       "  </tbody>\n",
       "</table>\n",
       "</div>"
      ],
      "text/plain": [
       "                                                    score  predicted_class  \\\n",
       "ukb_efo                     gene                                             \n",
       "1200-Sleeplessness_insomnia ENSG00000001617  2.563019e-02                0   \n",
       "                            ENSG00000003756  7.435000e-02                0   \n",
       "                            ENSG00000004534  4.208160e-01                1   \n",
       "                            ENSG00000004838  4.417000e-04                0   \n",
       "                            ENSG00000004897  1.116773e-09                0   \n",
       "\n",
       "                                             true_class  \n",
       "ukb_efo                     gene                         \n",
       "1200-Sleeplessness_insomnia ENSG00000001617           0  \n",
       "                            ENSG00000003756           0  \n",
       "                            ENSG00000004534           0  \n",
       "                            ENSG00000004838           0  \n",
       "                            ENSG00000004897           0  "
      ]
     },
     "execution_count": 78,
     "metadata": {},
     "output_type": "execute_result"
    }
   ],
   "source": [
    "selected_predixcan_classifier_df.head()"
   ]
  },
  {
   "cell_type": "code",
   "execution_count": 79,
   "metadata": {},
   "outputs": [
    {
     "data": {
      "text/html": [
       "<div>\n",
       "<style scoped>\n",
       "    .dataframe tbody tr th:only-of-type {\n",
       "        vertical-align: middle;\n",
       "    }\n",
       "\n",
       "    .dataframe tbody tr th {\n",
       "        vertical-align: top;\n",
       "    }\n",
       "\n",
       "    .dataframe thead th {\n",
       "        text-align: right;\n",
       "    }\n",
       "</style>\n",
       "<table border=\"1\" class=\"dataframe\">\n",
       "  <thead>\n",
       "    <tr style=\"text-align: right;\">\n",
       "      <th></th>\n",
       "      <th></th>\n",
       "      <th>score</th>\n",
       "      <th>predicted_class</th>\n",
       "      <th>true_class</th>\n",
       "    </tr>\n",
       "    <tr>\n",
       "      <th>ukb_efo</th>\n",
       "      <th>gene</th>\n",
       "      <th></th>\n",
       "      <th></th>\n",
       "      <th></th>\n",
       "    </tr>\n",
       "  </thead>\n",
       "  <tbody>\n",
       "    <tr>\n",
       "      <th>1200-Sleeplessness_insomnia</th>\n",
       "      <th>ENSG00000001617</th>\n",
       "      <td>2.563019e-02</td>\n",
       "      <td>0</td>\n",
       "      <td>0</td>\n",
       "    </tr>\n",
       "    <tr>\n",
       "      <th rowspan=\"4\" valign=\"top\">20002_1461-Noncancer_illness_code_selfreported_inflammatory_bowel_disease</th>\n",
       "      <th>ENSG00000168505</th>\n",
       "      <td>4.465000e-08</td>\n",
       "      <td>0</td>\n",
       "      <td>0</td>\n",
       "    </tr>\n",
       "    <tr>\n",
       "      <th>ENSG00000166197</th>\n",
       "      <td>3.118300e-06</td>\n",
       "      <td>0</td>\n",
       "      <td>0</td>\n",
       "    </tr>\n",
       "    <tr>\n",
       "      <th>ENSG00000166189</th>\n",
       "      <td>2.720410e-06</td>\n",
       "      <td>0</td>\n",
       "      <td>0</td>\n",
       "    </tr>\n",
       "    <tr>\n",
       "      <th>ENSG00000166171</th>\n",
       "      <td>1.307593e-06</td>\n",
       "      <td>0</td>\n",
       "      <td>0</td>\n",
       "    </tr>\n",
       "  </tbody>\n",
       "</table>\n",
       "</div>"
      ],
      "text/plain": [
       "                                                                           score  \\\n",
       "ukb_efo                                            gene                            \n",
       "1200-Sleeplessness_insomnia                        ENSG00000001617  2.563019e-02   \n",
       "20002_1461-Noncancer_illness_code_selfreported_... ENSG00000168505  4.465000e-08   \n",
       "                                                   ENSG00000166197  3.118300e-06   \n",
       "                                                   ENSG00000166189  2.720410e-06   \n",
       "                                                   ENSG00000166171  1.307593e-06   \n",
       "\n",
       "                                                                    predicted_class  \\\n",
       "ukb_efo                                            gene                               \n",
       "1200-Sleeplessness_insomnia                        ENSG00000001617                0   \n",
       "20002_1461-Noncancer_illness_code_selfreported_... ENSG00000168505                0   \n",
       "                                                   ENSG00000166197                0   \n",
       "                                                   ENSG00000166189                0   \n",
       "                                                   ENSG00000166171                0   \n",
       "\n",
       "                                                                    true_class  \n",
       "ukb_efo                                            gene                         \n",
       "1200-Sleeplessness_insomnia                        ENSG00000001617           0  \n",
       "20002_1461-Noncancer_illness_code_selfreported_... ENSG00000168505           0  \n",
       "                                                   ENSG00000166197           0  \n",
       "                                                   ENSG00000166189           0  \n",
       "                                                   ENSG00000166171           0  "
      ]
     },
     "execution_count": 79,
     "metadata": {},
     "output_type": "execute_result"
    }
   ],
   "source": [
    "selected_predixcan_classifier_df.sort_values('predicted_class').head()"
   ]
  },
  {
   "cell_type": "code",
   "execution_count": 80,
   "metadata": {},
   "outputs": [
    {
     "data": {
      "text/html": [
       "<div>\n",
       "<style scoped>\n",
       "    .dataframe tbody tr th:only-of-type {\n",
       "        vertical-align: middle;\n",
       "    }\n",
       "\n",
       "    .dataframe tbody tr th {\n",
       "        vertical-align: top;\n",
       "    }\n",
       "\n",
       "    .dataframe thead th {\n",
       "        text-align: right;\n",
       "    }\n",
       "</style>\n",
       "<table border=\"1\" class=\"dataframe\">\n",
       "  <thead>\n",
       "    <tr style=\"text-align: right;\">\n",
       "      <th></th>\n",
       "      <th></th>\n",
       "      <th>score</th>\n",
       "      <th>predicted_class</th>\n",
       "      <th>true_class</th>\n",
       "    </tr>\n",
       "    <tr>\n",
       "      <th>ukb_efo</th>\n",
       "      <th>gene</th>\n",
       "      <th></th>\n",
       "      <th></th>\n",
       "      <th></th>\n",
       "    </tr>\n",
       "  </thead>\n",
       "  <tbody>\n",
       "    <tr>\n",
       "      <th>K51-Diagnoses_main_ICD10_K51_Ulcerative_colitis</th>\n",
       "      <th>ENSG00000206503</th>\n",
       "      <td>0.789828</td>\n",
       "      <td>1</td>\n",
       "      <td>0</td>\n",
       "    </tr>\n",
       "    <tr>\n",
       "      <th>I48-Diagnoses_main_ICD10_I48_Atrial_fibrillation_and_flutter</th>\n",
       "      <th>ENSG00000151320</th>\n",
       "      <td>0.887210</td>\n",
       "      <td>1</td>\n",
       "      <td>0</td>\n",
       "    </tr>\n",
       "    <tr>\n",
       "      <th rowspan=\"2\" valign=\"top\">20002_1111-Noncancer_illness_code_selfreported_asthma</th>\n",
       "      <th>ENSG00000100417</th>\n",
       "      <td>0.145200</td>\n",
       "      <td>1</td>\n",
       "      <td>0</td>\n",
       "    </tr>\n",
       "    <tr>\n",
       "      <th>ENSG00000100418</th>\n",
       "      <td>0.209020</td>\n",
       "      <td>1</td>\n",
       "      <td>0</td>\n",
       "    </tr>\n",
       "    <tr>\n",
       "      <th>20002_1226-Noncancer_illness_code_selfreported_hypothyroidismmyxoedema</th>\n",
       "      <th>ENSG00000077549</th>\n",
       "      <td>0.250544</td>\n",
       "      <td>1</td>\n",
       "      <td>0</td>\n",
       "    </tr>\n",
       "  </tbody>\n",
       "</table>\n",
       "</div>"
      ],
      "text/plain": [
       "                                                                       score  \\\n",
       "ukb_efo                                            gene                        \n",
       "K51-Diagnoses_main_ICD10_K51_Ulcerative_colitis    ENSG00000206503  0.789828   \n",
       "I48-Diagnoses_main_ICD10_I48_Atrial_fibrillatio... ENSG00000151320  0.887210   \n",
       "20002_1111-Noncancer_illness_code_selfreported_... ENSG00000100417  0.145200   \n",
       "                                                   ENSG00000100418  0.209020   \n",
       "20002_1226-Noncancer_illness_code_selfreported_... ENSG00000077549  0.250544   \n",
       "\n",
       "                                                                    predicted_class  \\\n",
       "ukb_efo                                            gene                               \n",
       "K51-Diagnoses_main_ICD10_K51_Ulcerative_colitis    ENSG00000206503                1   \n",
       "I48-Diagnoses_main_ICD10_I48_Atrial_fibrillatio... ENSG00000151320                1   \n",
       "20002_1111-Noncancer_illness_code_selfreported_... ENSG00000100417                1   \n",
       "                                                   ENSG00000100418                1   \n",
       "20002_1226-Noncancer_illness_code_selfreported_... ENSG00000077549                1   \n",
       "\n",
       "                                                                    true_class  \n",
       "ukb_efo                                            gene                         \n",
       "K51-Diagnoses_main_ICD10_K51_Ulcerative_colitis    ENSG00000206503           0  \n",
       "I48-Diagnoses_main_ICD10_I48_Atrial_fibrillatio... ENSG00000151320           0  \n",
       "20002_1111-Noncancer_illness_code_selfreported_... ENSG00000100417           0  \n",
       "                                                   ENSG00000100418           0  \n",
       "20002_1226-Noncancer_illness_code_selfreported_... ENSG00000077549           0  "
      ]
     },
     "execution_count": 80,
     "metadata": {},
     "output_type": "execute_result"
    }
   ],
   "source": [
    "selected_predixcan_classifier_df.sort_values('predicted_class', ascending=False).head()"
   ]
  },
  {
   "cell_type": "code",
   "execution_count": 81,
   "metadata": {},
   "outputs": [
    {
     "data": {
      "text/plain": [
       "(19179, 3)"
      ]
     },
     "metadata": {},
     "output_type": "display_data"
    },
    {
     "data": {
      "text/plain": [
       "(125, 3)"
      ]
     },
     "metadata": {},
     "output_type": "display_data"
    },
    {
     "data": {
      "text/html": [
       "<div>\n",
       "<style scoped>\n",
       "    .dataframe tbody tr th:only-of-type {\n",
       "        vertical-align: middle;\n",
       "    }\n",
       "\n",
       "    .dataframe tbody tr th {\n",
       "        vertical-align: top;\n",
       "    }\n",
       "\n",
       "    .dataframe thead th {\n",
       "        text-align: right;\n",
       "    }\n",
       "</style>\n",
       "<table border=\"1\" class=\"dataframe\">\n",
       "  <thead>\n",
       "    <tr style=\"text-align: right;\">\n",
       "      <th></th>\n",
       "      <th></th>\n",
       "      <th>score</th>\n",
       "      <th>predicted_class</th>\n",
       "      <th>true_class</th>\n",
       "    </tr>\n",
       "    <tr>\n",
       "      <th>ukb_efo</th>\n",
       "      <th>gene</th>\n",
       "      <th></th>\n",
       "      <th></th>\n",
       "      <th></th>\n",
       "    </tr>\n",
       "  </thead>\n",
       "  <tbody>\n",
       "    <tr>\n",
       "      <th rowspan=\"2\" valign=\"top\">R69-Diagnoses_main_ICD10_R69_Unknown_and_unspecified_causes_of_morbidity</th>\n",
       "      <th>ENSG00000068305</th>\n",
       "      <td>5.758000e-06</td>\n",
       "      <td>0</td>\n",
       "      <td>1</td>\n",
       "    </tr>\n",
       "    <tr>\n",
       "      <th>ENSG00000140443</th>\n",
       "      <td>4.758100e-06</td>\n",
       "      <td>0</td>\n",
       "      <td>1</td>\n",
       "    </tr>\n",
       "    <tr>\n",
       "      <th rowspan=\"2\" valign=\"top\">R40-Diagnoses_main_ICD10_R40_Somnolence_stupor_and_coma</th>\n",
       "      <th>ENSG00000133812</th>\n",
       "      <td>5.454000e-11</td>\n",
       "      <td>0</td>\n",
       "      <td>1</td>\n",
       "    </tr>\n",
       "    <tr>\n",
       "      <th>ENSG00000183287</th>\n",
       "      <td>1.143380e-10</td>\n",
       "      <td>0</td>\n",
       "      <td>1</td>\n",
       "    </tr>\n",
       "    <tr>\n",
       "      <th>N20-Diagnoses_main_ICD10_N20_Calculus_of_kidney_and_ureter</th>\n",
       "      <th>ENSG00000131183</th>\n",
       "      <td>2.062000e-03</td>\n",
       "      <td>0</td>\n",
       "      <td>1</td>\n",
       "    </tr>\n",
       "  </tbody>\n",
       "</table>\n",
       "</div>"
      ],
      "text/plain": [
       "                                                                           score  \\\n",
       "ukb_efo                                            gene                            \n",
       "R69-Diagnoses_main_ICD10_R69_Unknown_and_unspec... ENSG00000068305  5.758000e-06   \n",
       "                                                   ENSG00000140443  4.758100e-06   \n",
       "R40-Diagnoses_main_ICD10_R40_Somnolence_stupor_... ENSG00000133812  5.454000e-11   \n",
       "                                                   ENSG00000183287  1.143380e-10   \n",
       "N20-Diagnoses_main_ICD10_N20_Calculus_of_kidney... ENSG00000131183  2.062000e-03   \n",
       "\n",
       "                                                                    predicted_class  \\\n",
       "ukb_efo                                            gene                               \n",
       "R69-Diagnoses_main_ICD10_R69_Unknown_and_unspec... ENSG00000068305                0   \n",
       "                                                   ENSG00000140443                0   \n",
       "R40-Diagnoses_main_ICD10_R40_Somnolence_stupor_... ENSG00000133812                0   \n",
       "                                                   ENSG00000183287                0   \n",
       "N20-Diagnoses_main_ICD10_N20_Calculus_of_kidney... ENSG00000131183                0   \n",
       "\n",
       "                                                                    true_class  \n",
       "ukb_efo                                            gene                         \n",
       "R69-Diagnoses_main_ICD10_R69_Unknown_and_unspec... ENSG00000068305           1  \n",
       "                                                   ENSG00000140443           1  \n",
       "R40-Diagnoses_main_ICD10_R40_Somnolence_stupor_... ENSG00000133812           1  \n",
       "                                                   ENSG00000183287           1  \n",
       "N20-Diagnoses_main_ICD10_N20_Calculus_of_kidney... ENSG00000131183           1  "
      ]
     },
     "metadata": {},
     "output_type": "display_data"
    }
   ],
   "source": [
    "_tmp = selected_predixcan_classifier_df.sort_values(['true_class', 'ukb_efo'], ascending=False)\n",
    "display(_tmp.shape)\n",
    "display(_tmp[_tmp['true_class'] > 0].shape)\n",
    "display(_tmp[_tmp['true_class'] > 0].head())"
   ]
  },
  {
   "cell_type": "markdown",
   "metadata": {},
   "source": [
    "### Test classes"
   ]
  },
  {
   "cell_type": "code",
   "execution_count": 82,
   "metadata": {},
   "outputs": [
    {
     "data": {
      "text/plain": [
       "(99,)"
      ]
     },
     "execution_count": 82,
     "metadata": {},
     "output_type": "execute_result"
    }
   ],
   "source": [
    "selected_predixcan_classifier_df.index.get_level_values('ukb_efo').unique().shape"
   ]
  },
  {
   "cell_type": "code",
   "execution_count": 83,
   "metadata": {},
   "outputs": [
    {
     "data": {
      "text/plain": [
       "(9503,)"
      ]
     },
     "execution_count": 83,
     "metadata": {},
     "output_type": "execute_result"
    }
   ],
   "source": [
    "selected_predixcan_classifier_df.index.get_level_values('gene').unique().shape"
   ]
  },
  {
   "cell_type": "code",
   "execution_count": 84,
   "metadata": {},
   "outputs": [],
   "source": [
    "_pheno = 'N20-Diagnoses_main_ICD10_N20_Calculus_of_kidney_and_ureter'"
   ]
  },
  {
   "cell_type": "code",
   "execution_count": 85,
   "metadata": {},
   "outputs": [
    {
     "data": {
      "text/plain": [
       "array(['ENSG00000075891', 'ENSG00000130600', 'ENSG00000269821',\n",
       "       'ENSG00000129757', 'ENSG00000143473', 'ENSG00000275410',\n",
       "       'ENSG00000019186', 'ENSG00000134371', 'ENSG00000036828',\n",
       "       'ENSG00000088256', 'ENSG00000187091', 'ENSG00000122194',\n",
       "       'ENSG00000138592', 'ENSG00000040531', 'ENSG00000138079',\n",
       "       'ENSG00000021488', 'ENSG00000090402', 'ENSG00000131482',\n",
       "       'ENSG00000137700', 'ENSG00000164007', 'ENSG00000113946',\n",
       "       'ENSG00000116039', 'ENSG00000168000', 'ENSG00000123191',\n",
       "       'ENSG00000171365', 'ENSG00000165704', 'ENSG00000042753',\n",
       "       'ENSG00000075643', 'ENSG00000169692', 'ENSG00000109667',\n",
       "       'ENSG00000131183', 'ENSG00000109062', 'ENSG00000149257',\n",
       "       'ENSG00000198931', 'ENSG00000157388', 'ENSG00000167207',\n",
       "       'ENSG00000124827', 'ENSG00000134873'], dtype=object)"
      ]
     },
     "metadata": {},
     "output_type": "display_data"
    },
    {
     "data": {
      "text/plain": [
       "(38,)"
      ]
     },
     "metadata": {},
     "output_type": "display_data"
    }
   ],
   "source": [
    "_clinvar_asthma_genes = omim_silver_standard[omim_silver_standard['trait'] == _pheno]['ensembl_gene_id'].unique()\n",
    "display(_clinvar_asthma_genes)\n",
    "display(_clinvar_asthma_genes.shape)"
   ]
  },
  {
   "cell_type": "code",
   "execution_count": 86,
   "metadata": {},
   "outputs": [
    {
     "data": {
      "text/html": [
       "<div>\n",
       "<style scoped>\n",
       "    .dataframe tbody tr th:only-of-type {\n",
       "        vertical-align: middle;\n",
       "    }\n",
       "\n",
       "    .dataframe tbody tr th {\n",
       "        vertical-align: top;\n",
       "    }\n",
       "\n",
       "    .dataframe thead th {\n",
       "        text-align: right;\n",
       "    }\n",
       "</style>\n",
       "<table border=\"1\" class=\"dataframe\">\n",
       "  <thead>\n",
       "    <tr style=\"text-align: right;\">\n",
       "      <th></th>\n",
       "      <th>score</th>\n",
       "      <th>predicted_class</th>\n",
       "      <th>true_class</th>\n",
       "    </tr>\n",
       "  </thead>\n",
       "  <tbody>\n",
       "    <tr>\n",
       "      <th>ENSG00000131183</th>\n",
       "      <td>0.002062</td>\n",
       "      <td>0</td>\n",
       "      <td>1</td>\n",
       "    </tr>\n",
       "  </tbody>\n",
       "</table>\n",
       "</div>"
      ],
      "text/plain": [
       "                    score  predicted_class  true_class\n",
       "ENSG00000131183  0.002062                0           1"
      ]
     },
     "execution_count": 86,
     "metadata": {},
     "output_type": "execute_result"
    }
   ],
   "source": [
    "_tmp = selected_predixcan_classifier_df.loc[_pheno]\n",
    "_tmp.loc[_tmp.index.intersection(_clinvar_asthma_genes)]"
   ]
  },
  {
   "cell_type": "code",
   "execution_count": 87,
   "metadata": {},
   "outputs": [],
   "source": [
    "_predixcan_asthma_genes = selected_predixcan_classifier_df.loc[_pheno]"
   ]
  },
  {
   "cell_type": "code",
   "execution_count": 88,
   "metadata": {},
   "outputs": [
    {
     "data": {
      "text/html": [
       "<div>\n",
       "<style scoped>\n",
       "    .dataframe tbody tr th:only-of-type {\n",
       "        vertical-align: middle;\n",
       "    }\n",
       "\n",
       "    .dataframe tbody tr th {\n",
       "        vertical-align: top;\n",
       "    }\n",
       "\n",
       "    .dataframe thead th {\n",
       "        text-align: right;\n",
       "    }\n",
       "</style>\n",
       "<table border=\"1\" class=\"dataframe\">\n",
       "  <thead>\n",
       "    <tr style=\"text-align: right;\">\n",
       "      <th></th>\n",
       "      <th>score</th>\n",
       "      <th>predicted_class</th>\n",
       "      <th>true_class</th>\n",
       "    </tr>\n",
       "    <tr>\n",
       "      <th>gene</th>\n",
       "      <th></th>\n",
       "      <th></th>\n",
       "      <th></th>\n",
       "    </tr>\n",
       "  </thead>\n",
       "  <tbody>\n",
       "    <tr>\n",
       "      <th>ENSG00000005187</th>\n",
       "      <td>2.666423e-09</td>\n",
       "      <td>0</td>\n",
       "      <td>0</td>\n",
       "    </tr>\n",
       "    <tr>\n",
       "      <th>ENSG00000005189</th>\n",
       "      <td>3.437330e-09</td>\n",
       "      <td>0</td>\n",
       "      <td>0</td>\n",
       "    </tr>\n",
       "    <tr>\n",
       "      <th>ENSG00000011638</th>\n",
       "      <td>3.278863e-09</td>\n",
       "      <td>0</td>\n",
       "      <td>0</td>\n",
       "    </tr>\n",
       "    <tr>\n",
       "      <th>ENSG00000027847</th>\n",
       "      <td>2.658019e-08</td>\n",
       "      <td>0</td>\n",
       "      <td>0</td>\n",
       "    </tr>\n",
       "    <tr>\n",
       "      <th>ENSG00000048140</th>\n",
       "      <td>1.244200e-08</td>\n",
       "      <td>0</td>\n",
       "      <td>0</td>\n",
       "    </tr>\n",
       "  </tbody>\n",
       "</table>\n",
       "</div>"
      ],
      "text/plain": [
       "                        score  predicted_class  true_class\n",
       "gene                                                      \n",
       "ENSG00000005187  2.666423e-09                0           0\n",
       "ENSG00000005189  3.437330e-09                0           0\n",
       "ENSG00000011638  3.278863e-09                0           0\n",
       "ENSG00000027847  2.658019e-08                0           0\n",
       "ENSG00000048140  1.244200e-08                0           0"
      ]
     },
     "execution_count": 88,
     "metadata": {},
     "output_type": "execute_result"
    }
   ],
   "source": [
    "_predixcan_asthma_genes.head()"
   ]
  },
  {
   "cell_type": "code",
   "execution_count": 89,
   "metadata": {},
   "outputs": [
    {
     "data": {
      "text/plain": [
       "(19179, 3)"
      ]
     },
     "execution_count": 89,
     "metadata": {},
     "output_type": "execute_result"
    }
   ],
   "source": [
    "selected_predixcan_classifier_df.shape"
   ]
  },
  {
   "cell_type": "code",
   "execution_count": 90,
   "metadata": {},
   "outputs": [
    {
     "data": {
      "text/plain": [
       "0    18150\n",
       "1     1029\n",
       "Name: predicted_class, dtype: int64"
      ]
     },
     "execution_count": 90,
     "metadata": {},
     "output_type": "execute_result"
    }
   ],
   "source": [
    "selected_predixcan_classifier_df['predicted_class'].value_counts()"
   ]
  },
  {
   "cell_type": "code",
   "execution_count": 91,
   "metadata": {},
   "outputs": [
    {
     "data": {
      "text/plain": [
       "0    19054\n",
       "1      125\n",
       "Name: true_class, dtype: int64"
      ]
     },
     "execution_count": 91,
     "metadata": {},
     "output_type": "execute_result"
    }
   ],
   "source": [
    "selected_predixcan_classifier_df['true_class'].value_counts()"
   ]
  },
  {
   "cell_type": "code",
   "execution_count": 92,
   "metadata": {},
   "outputs": [
    {
     "data": {
      "text/html": [
       "<div>\n",
       "<style scoped>\n",
       "    .dataframe tbody tr th:only-of-type {\n",
       "        vertical-align: middle;\n",
       "    }\n",
       "\n",
       "    .dataframe tbody tr th {\n",
       "        vertical-align: top;\n",
       "    }\n",
       "\n",
       "    .dataframe thead th {\n",
       "        text-align: right;\n",
       "    }\n",
       "</style>\n",
       "<table border=\"1\" class=\"dataframe\">\n",
       "  <thead>\n",
       "    <tr style=\"text-align: right;\">\n",
       "      <th></th>\n",
       "      <th></th>\n",
       "      <th>score</th>\n",
       "      <th>predicted_class</th>\n",
       "      <th>true_class</th>\n",
       "    </tr>\n",
       "    <tr>\n",
       "      <th>ukb_efo</th>\n",
       "      <th>gene</th>\n",
       "      <th></th>\n",
       "      <th></th>\n",
       "      <th></th>\n",
       "    </tr>\n",
       "  </thead>\n",
       "  <tbody>\n",
       "    <tr>\n",
       "      <th>20002_1610-Noncancer_illness_code_selfreported_thyroid_goitre</th>\n",
       "      <th>ENSG00000091137</th>\n",
       "      <td>1.268000e-10</td>\n",
       "      <td>0</td>\n",
       "      <td>1</td>\n",
       "    </tr>\n",
       "    <tr>\n",
       "      <th>M06-Diagnoses_main_ICD10_M06_Other_rheumatoid_arthritis</th>\n",
       "      <th>ENSG00000204498</th>\n",
       "      <td>1.959000e-04</td>\n",
       "      <td>0</td>\n",
       "      <td>1</td>\n",
       "    </tr>\n",
       "    <tr>\n",
       "      <th>20002_1065-Noncancer_illness_code_selfreported_hypertension</th>\n",
       "      <th>ENSG00000144061</th>\n",
       "      <td>3.351189e-04</td>\n",
       "      <td>0</td>\n",
       "      <td>1</td>\n",
       "    </tr>\n",
       "    <tr>\n",
       "      <th>20002_1226-Noncancer_illness_code_selfreported_hypothyroidismmyxoedema</th>\n",
       "      <th>ENSG00000171316</th>\n",
       "      <td>2.779820e-03</td>\n",
       "      <td>0</td>\n",
       "      <td>1</td>\n",
       "    </tr>\n",
       "    <tr>\n",
       "      <th rowspan=\"2\" valign=\"top\">M41-Diagnoses_main_ICD10_M41_Scoliosis</th>\n",
       "      <th>ENSG00000162769</th>\n",
       "      <td>3.231060e-06</td>\n",
       "      <td>0</td>\n",
       "      <td>1</td>\n",
       "    </tr>\n",
       "    <tr>\n",
       "      <th>ENSG00000157764</th>\n",
       "      <td>6.912200e-08</td>\n",
       "      <td>0</td>\n",
       "      <td>1</td>\n",
       "    </tr>\n",
       "    <tr>\n",
       "      <th>20002_1226-Noncancer_illness_code_selfreported_hypothyroidismmyxoedema</th>\n",
       "      <th>ENSG00000171862</th>\n",
       "      <td>2.590036e-03</td>\n",
       "      <td>0</td>\n",
       "      <td>1</td>\n",
       "    </tr>\n",
       "    <tr>\n",
       "      <th>M41-Diagnoses_main_ICD10_M41_Scoliosis</th>\n",
       "      <th>ENSG00000112234</th>\n",
       "      <td>6.222500e-07</td>\n",
       "      <td>0</td>\n",
       "      <td>1</td>\n",
       "    </tr>\n",
       "    <tr>\n",
       "      <th>20002_1197-Noncancer_illness_code_selfreported_kidney_stoneureter_stonebladder_stone</th>\n",
       "      <th>ENSG00000131183</th>\n",
       "      <td>6.507000e-03</td>\n",
       "      <td>0</td>\n",
       "      <td>1</td>\n",
       "    </tr>\n",
       "    <tr>\n",
       "      <th>20002_1065-Noncancer_illness_code_selfreported_hypertension</th>\n",
       "      <th>ENSG00000184937</th>\n",
       "      <td>6.341001e-01</td>\n",
       "      <td>1</td>\n",
       "      <td>1</td>\n",
       "    </tr>\n",
       "    <tr>\n",
       "      <th>20002_1197-Noncancer_illness_code_selfreported_kidney_stoneureter_stonebladder_stone</th>\n",
       "      <th>ENSG00000019186</th>\n",
       "      <td>2.805447e-04</td>\n",
       "      <td>0</td>\n",
       "      <td>1</td>\n",
       "    </tr>\n",
       "    <tr>\n",
       "      <th>20002_1065-Noncancer_illness_code_selfreported_hypertension</th>\n",
       "      <th>ENSG00000141646</th>\n",
       "      <td>9.968244e-07</td>\n",
       "      <td>0</td>\n",
       "      <td>1</td>\n",
       "    </tr>\n",
       "    <tr>\n",
       "      <th>1980-Worrier_anxious_feelings</th>\n",
       "      <th>ENSG00000120071</th>\n",
       "      <td>3.253025e-02</td>\n",
       "      <td>0</td>\n",
       "      <td>1</td>\n",
       "    </tr>\n",
       "    <tr>\n",
       "      <th>20002_1065-Noncancer_illness_code_selfreported_hypertension</th>\n",
       "      <th>ENSG00000187266</th>\n",
       "      <td>8.063000e-06</td>\n",
       "      <td>0</td>\n",
       "      <td>1</td>\n",
       "    </tr>\n",
       "    <tr>\n",
       "      <th>20002_1162-Noncancer_illness_code_selfreported_cholelithiasisgall_stones</th>\n",
       "      <th>ENSG00000143921</th>\n",
       "      <td>5.035000e-02</td>\n",
       "      <td>0</td>\n",
       "      <td>1</td>\n",
       "    </tr>\n",
       "    <tr>\n",
       "      <th>20002_1226-Noncancer_illness_code_selfreported_hypothyroidismmyxoedema</th>\n",
       "      <th>ENSG00000042832</th>\n",
       "      <td>2.323000e-01</td>\n",
       "      <td>1</td>\n",
       "      <td>1</td>\n",
       "    </tr>\n",
       "    <tr>\n",
       "      <th>20002_1065-Noncancer_illness_code_selfreported_hypertension</th>\n",
       "      <th>ENSG00000138823</th>\n",
       "      <td>1.513786e-04</td>\n",
       "      <td>0</td>\n",
       "      <td>1</td>\n",
       "    </tr>\n",
       "    <tr>\n",
       "      <th>M06-Diagnoses_main_ICD10_M06_Other_rheumatoid_arthritis</th>\n",
       "      <th>ENSG00000134242</th>\n",
       "      <td>1.814508e-04</td>\n",
       "      <td>0</td>\n",
       "      <td>1</td>\n",
       "    </tr>\n",
       "    <tr>\n",
       "      <th>20002_1065-Noncancer_illness_code_selfreported_hypertension</th>\n",
       "      <th>ENSG00000196557</th>\n",
       "      <td>1.938982e-01</td>\n",
       "      <td>1</td>\n",
       "      <td>1</td>\n",
       "    </tr>\n",
       "    <tr>\n",
       "      <th>20002_1466-Noncancer_illness_code_selfreported_gout</th>\n",
       "      <th>ENSG00000124564</th>\n",
       "      <td>8.169001e-03</td>\n",
       "      <td>0</td>\n",
       "      <td>1</td>\n",
       "    </tr>\n",
       "    <tr>\n",
       "      <th>20002_1162-Noncancer_illness_code_selfreported_cholelithiasisgall_stones</th>\n",
       "      <th>ENSG00000104936</th>\n",
       "      <td>4.329474e-01</td>\n",
       "      <td>1</td>\n",
       "      <td>1</td>\n",
       "    </tr>\n",
       "    <tr>\n",
       "      <th>M05-Diagnoses_main_ICD10_M05_Seropositive_rheumatoid_arthritis</th>\n",
       "      <th>ENSG00000204498</th>\n",
       "      <td>9.828148e-04</td>\n",
       "      <td>0</td>\n",
       "      <td>1</td>\n",
       "    </tr>\n",
       "    <tr>\n",
       "      <th>1980-Worrier_anxious_feelings</th>\n",
       "      <th>ENSG00000167371</th>\n",
       "      <td>2.583516e-05</td>\n",
       "      <td>0</td>\n",
       "      <td>1</td>\n",
       "    </tr>\n",
       "    <tr>\n",
       "      <th>20002_1162-Noncancer_illness_code_selfreported_cholelithiasisgall_stones</th>\n",
       "      <th>ENSG00000005471</th>\n",
       "      <td>5.231356e-01</td>\n",
       "      <td>1</td>\n",
       "      <td>1</td>\n",
       "    </tr>\n",
       "    <tr>\n",
       "      <th>1980-Worrier_anxious_feelings</th>\n",
       "      <th>ENSG00000179344</th>\n",
       "      <td>2.197727e-05</td>\n",
       "      <td>0</td>\n",
       "      <td>1</td>\n",
       "    </tr>\n",
       "    <tr>\n",
       "      <th rowspan=\"2\" valign=\"top\">20002_1065-Noncancer_illness_code_selfreported_hypertension</th>\n",
       "      <th>ENSG00000204370</th>\n",
       "      <td>4.424840e-08</td>\n",
       "      <td>0</td>\n",
       "      <td>1</td>\n",
       "    </tr>\n",
       "    <tr>\n",
       "      <th>ENSG00000132170</th>\n",
       "      <td>4.760181e-05</td>\n",
       "      <td>0</td>\n",
       "      <td>1</td>\n",
       "    </tr>\n",
       "    <tr>\n",
       "      <th>L40-Diagnoses_main_ICD10_L40_Psoriasis</th>\n",
       "      <th>ENSG00000204525</th>\n",
       "      <td>1.528300e-10</td>\n",
       "      <td>0</td>\n",
       "      <td>1</td>\n",
       "    </tr>\n",
       "    <tr>\n",
       "      <th>20002_1226-Noncancer_illness_code_selfreported_hypothyroidismmyxoedema</th>\n",
       "      <th>ENSG00000168610</th>\n",
       "      <td>4.683271e-06</td>\n",
       "      <td>0</td>\n",
       "      <td>1</td>\n",
       "    </tr>\n",
       "    <tr>\n",
       "      <th>20002_1065-Noncancer_illness_code_selfreported_hypertension</th>\n",
       "      <th>ENSG00000148795</th>\n",
       "      <td>4.261000e-04</td>\n",
       "      <td>0</td>\n",
       "      <td>1</td>\n",
       "    </tr>\n",
       "    <tr>\n",
       "      <th>...</th>\n",
       "      <th>...</th>\n",
       "      <td>...</td>\n",
       "      <td>...</td>\n",
       "      <td>...</td>\n",
       "    </tr>\n",
       "    <tr>\n",
       "      <th rowspan=\"29\" valign=\"top\">20002_1075-Noncancer_illness_code_selfreported_heart_attackmyocardial_infarction</th>\n",
       "      <th>ENSG00000076513</th>\n",
       "      <td>6.152350e-04</td>\n",
       "      <td>0</td>\n",
       "      <td>0</td>\n",
       "    </tr>\n",
       "    <tr>\n",
       "      <th>ENSG00000073711</th>\n",
       "      <td>4.444946e-04</td>\n",
       "      <td>0</td>\n",
       "      <td>0</td>\n",
       "    </tr>\n",
       "    <tr>\n",
       "      <th>ENSG00000073008</th>\n",
       "      <td>5.314884e-05</td>\n",
       "      <td>0</td>\n",
       "      <td>0</td>\n",
       "    </tr>\n",
       "    <tr>\n",
       "      <th>ENSG00000069399</th>\n",
       "      <td>4.323610e-05</td>\n",
       "      <td>0</td>\n",
       "      <td>0</td>\n",
       "    </tr>\n",
       "    <tr>\n",
       "      <th>ENSG00000065135</th>\n",
       "      <td>6.566419e-05</td>\n",
       "      <td>0</td>\n",
       "      <td>0</td>\n",
       "    </tr>\n",
       "    <tr>\n",
       "      <th>ENSG00000062370</th>\n",
       "      <td>4.800711e-05</td>\n",
       "      <td>0</td>\n",
       "      <td>0</td>\n",
       "    </tr>\n",
       "    <tr>\n",
       "      <th>ENSG00000041515</th>\n",
       "      <td>7.859260e-03</td>\n",
       "      <td>0</td>\n",
       "      <td>0</td>\n",
       "    </tr>\n",
       "    <tr>\n",
       "      <th>ENSG00000031698</th>\n",
       "      <td>3.676001e-02</td>\n",
       "      <td>0</td>\n",
       "      <td>0</td>\n",
       "    </tr>\n",
       "    <tr>\n",
       "      <th>ENSG00000026652</th>\n",
       "      <td>5.199680e-24</td>\n",
       "      <td>0</td>\n",
       "      <td>0</td>\n",
       "    </tr>\n",
       "    <tr>\n",
       "      <th>ENSG00000023445</th>\n",
       "      <td>5.608100e-05</td>\n",
       "      <td>0</td>\n",
       "      <td>0</td>\n",
       "    </tr>\n",
       "    <tr>\n",
       "      <th>ENSG00000012061</th>\n",
       "      <td>1.218787e-05</td>\n",
       "      <td>0</td>\n",
       "      <td>0</td>\n",
       "    </tr>\n",
       "    <tr>\n",
       "      <th>ENSG00000085491</th>\n",
       "      <td>9.430614e-07</td>\n",
       "      <td>0</td>\n",
       "      <td>0</td>\n",
       "    </tr>\n",
       "    <tr>\n",
       "      <th>ENSG00000085511</th>\n",
       "      <td>4.221274e-23</td>\n",
       "      <td>0</td>\n",
       "      <td>0</td>\n",
       "    </tr>\n",
       "    <tr>\n",
       "      <th>ENSG00000089009</th>\n",
       "      <td>4.905700e-05</td>\n",
       "      <td>0</td>\n",
       "      <td>0</td>\n",
       "    </tr>\n",
       "    <tr>\n",
       "      <th>ENSG00000104853</th>\n",
       "      <td>3.614558e-05</td>\n",
       "      <td>0</td>\n",
       "      <td>0</td>\n",
       "    </tr>\n",
       "    <tr>\n",
       "      <th>ENSG00000104884</th>\n",
       "      <td>9.682000e-06</td>\n",
       "      <td>0</td>\n",
       "      <td>0</td>\n",
       "    </tr>\n",
       "    <tr>\n",
       "      <th>ENSG00000104881</th>\n",
       "      <td>5.675020e-06</td>\n",
       "      <td>0</td>\n",
       "      <td>0</td>\n",
       "    </tr>\n",
       "    <tr>\n",
       "      <th>ENSG00000104879</th>\n",
       "      <td>5.898500e-06</td>\n",
       "      <td>0</td>\n",
       "      <td>0</td>\n",
       "    </tr>\n",
       "    <tr>\n",
       "      <th>ENSG00000104866</th>\n",
       "      <td>1.367676e-05</td>\n",
       "      <td>0</td>\n",
       "      <td>0</td>\n",
       "    </tr>\n",
       "    <tr>\n",
       "      <th>ENSG00000104859</th>\n",
       "      <td>2.964012e-02</td>\n",
       "      <td>0</td>\n",
       "      <td>0</td>\n",
       "    </tr>\n",
       "    <tr>\n",
       "      <th>ENSG00000104856</th>\n",
       "      <td>2.895067e-03</td>\n",
       "      <td>0</td>\n",
       "      <td>0</td>\n",
       "    </tr>\n",
       "    <tr>\n",
       "      <th>ENSG00000103121</th>\n",
       "      <td>6.843000e-05</td>\n",
       "      <td>0</td>\n",
       "      <td>0</td>\n",
       "    </tr>\n",
       "    <tr>\n",
       "      <th>ENSG00000089022</th>\n",
       "      <td>2.153900e-04</td>\n",
       "      <td>0</td>\n",
       "      <td>0</td>\n",
       "    </tr>\n",
       "    <tr>\n",
       "      <th>ENSG00000099810</th>\n",
       "      <td>4.000250e-27</td>\n",
       "      <td>0</td>\n",
       "      <td>0</td>\n",
       "    </tr>\n",
       "    <tr>\n",
       "      <th>ENSG00000095951</th>\n",
       "      <td>3.277000e-04</td>\n",
       "      <td>0</td>\n",
       "      <td>0</td>\n",
       "    </tr>\n",
       "    <tr>\n",
       "      <th>ENSG00000092820</th>\n",
       "      <td>5.363470e-06</td>\n",
       "      <td>0</td>\n",
       "      <td>0</td>\n",
       "    </tr>\n",
       "    <tr>\n",
       "      <th>ENSG00000089248</th>\n",
       "      <td>1.694707e-04</td>\n",
       "      <td>0</td>\n",
       "      <td>0</td>\n",
       "    </tr>\n",
       "    <tr>\n",
       "      <th>ENSG00000089234</th>\n",
       "      <td>3.410635e-04</td>\n",
       "      <td>0</td>\n",
       "      <td>0</td>\n",
       "    </tr>\n",
       "    <tr>\n",
       "      <th>ENSG00000089169</th>\n",
       "      <td>1.489316e-03</td>\n",
       "      <td>0</td>\n",
       "      <td>0</td>\n",
       "    </tr>\n",
       "    <tr>\n",
       "      <th>Z34-Diagnoses_main_ICD10_Z34_Supervision_of_normal_pregnancy</th>\n",
       "      <th>ENSG00000225526</th>\n",
       "      <td>1.178250e-07</td>\n",
       "      <td>0</td>\n",
       "      <td>0</td>\n",
       "    </tr>\n",
       "  </tbody>\n",
       "</table>\n",
       "<p>19179 rows × 3 columns</p>\n",
       "</div>"
      ],
      "text/plain": [
       "                                                                           score  \\\n",
       "ukb_efo                                            gene                            \n",
       "20002_1610-Noncancer_illness_code_selfreported_... ENSG00000091137  1.268000e-10   \n",
       "M06-Diagnoses_main_ICD10_M06_Other_rheumatoid_a... ENSG00000204498  1.959000e-04   \n",
       "20002_1065-Noncancer_illness_code_selfreported_... ENSG00000144061  3.351189e-04   \n",
       "20002_1226-Noncancer_illness_code_selfreported_... ENSG00000171316  2.779820e-03   \n",
       "M41-Diagnoses_main_ICD10_M41_Scoliosis             ENSG00000162769  3.231060e-06   \n",
       "                                                   ENSG00000157764  6.912200e-08   \n",
       "20002_1226-Noncancer_illness_code_selfreported_... ENSG00000171862  2.590036e-03   \n",
       "M41-Diagnoses_main_ICD10_M41_Scoliosis             ENSG00000112234  6.222500e-07   \n",
       "20002_1197-Noncancer_illness_code_selfreported_... ENSG00000131183  6.507000e-03   \n",
       "20002_1065-Noncancer_illness_code_selfreported_... ENSG00000184937  6.341001e-01   \n",
       "20002_1197-Noncancer_illness_code_selfreported_... ENSG00000019186  2.805447e-04   \n",
       "20002_1065-Noncancer_illness_code_selfreported_... ENSG00000141646  9.968244e-07   \n",
       "1980-Worrier_anxious_feelings                      ENSG00000120071  3.253025e-02   \n",
       "20002_1065-Noncancer_illness_code_selfreported_... ENSG00000187266  8.063000e-06   \n",
       "20002_1162-Noncancer_illness_code_selfreported_... ENSG00000143921  5.035000e-02   \n",
       "20002_1226-Noncancer_illness_code_selfreported_... ENSG00000042832  2.323000e-01   \n",
       "20002_1065-Noncancer_illness_code_selfreported_... ENSG00000138823  1.513786e-04   \n",
       "M06-Diagnoses_main_ICD10_M06_Other_rheumatoid_a... ENSG00000134242  1.814508e-04   \n",
       "20002_1065-Noncancer_illness_code_selfreported_... ENSG00000196557  1.938982e-01   \n",
       "20002_1466-Noncancer_illness_code_selfreported_... ENSG00000124564  8.169001e-03   \n",
       "20002_1162-Noncancer_illness_code_selfreported_... ENSG00000104936  4.329474e-01   \n",
       "M05-Diagnoses_main_ICD10_M05_Seropositive_rheum... ENSG00000204498  9.828148e-04   \n",
       "1980-Worrier_anxious_feelings                      ENSG00000167371  2.583516e-05   \n",
       "20002_1162-Noncancer_illness_code_selfreported_... ENSG00000005471  5.231356e-01   \n",
       "1980-Worrier_anxious_feelings                      ENSG00000179344  2.197727e-05   \n",
       "20002_1065-Noncancer_illness_code_selfreported_... ENSG00000204370  4.424840e-08   \n",
       "                                                   ENSG00000132170  4.760181e-05   \n",
       "L40-Diagnoses_main_ICD10_L40_Psoriasis             ENSG00000204525  1.528300e-10   \n",
       "20002_1226-Noncancer_illness_code_selfreported_... ENSG00000168610  4.683271e-06   \n",
       "20002_1065-Noncancer_illness_code_selfreported_... ENSG00000148795  4.261000e-04   \n",
       "...                                                                          ...   \n",
       "20002_1075-Noncancer_illness_code_selfreported_... ENSG00000076513  6.152350e-04   \n",
       "                                                   ENSG00000073711  4.444946e-04   \n",
       "                                                   ENSG00000073008  5.314884e-05   \n",
       "                                                   ENSG00000069399  4.323610e-05   \n",
       "                                                   ENSG00000065135  6.566419e-05   \n",
       "                                                   ENSG00000062370  4.800711e-05   \n",
       "                                                   ENSG00000041515  7.859260e-03   \n",
       "                                                   ENSG00000031698  3.676001e-02   \n",
       "                                                   ENSG00000026652  5.199680e-24   \n",
       "                                                   ENSG00000023445  5.608100e-05   \n",
       "                                                   ENSG00000012061  1.218787e-05   \n",
       "                                                   ENSG00000085491  9.430614e-07   \n",
       "                                                   ENSG00000085511  4.221274e-23   \n",
       "                                                   ENSG00000089009  4.905700e-05   \n",
       "                                                   ENSG00000104853  3.614558e-05   \n",
       "                                                   ENSG00000104884  9.682000e-06   \n",
       "                                                   ENSG00000104881  5.675020e-06   \n",
       "                                                   ENSG00000104879  5.898500e-06   \n",
       "                                                   ENSG00000104866  1.367676e-05   \n",
       "                                                   ENSG00000104859  2.964012e-02   \n",
       "                                                   ENSG00000104856  2.895067e-03   \n",
       "                                                   ENSG00000103121  6.843000e-05   \n",
       "                                                   ENSG00000089022  2.153900e-04   \n",
       "                                                   ENSG00000099810  4.000250e-27   \n",
       "                                                   ENSG00000095951  3.277000e-04   \n",
       "                                                   ENSG00000092820  5.363470e-06   \n",
       "                                                   ENSG00000089248  1.694707e-04   \n",
       "                                                   ENSG00000089234  3.410635e-04   \n",
       "                                                   ENSG00000089169  1.489316e-03   \n",
       "Z34-Diagnoses_main_ICD10_Z34_Supervision_of_nor... ENSG00000225526  1.178250e-07   \n",
       "\n",
       "                                                                    predicted_class  \\\n",
       "ukb_efo                                            gene                               \n",
       "20002_1610-Noncancer_illness_code_selfreported_... ENSG00000091137                0   \n",
       "M06-Diagnoses_main_ICD10_M06_Other_rheumatoid_a... ENSG00000204498                0   \n",
       "20002_1065-Noncancer_illness_code_selfreported_... ENSG00000144061                0   \n",
       "20002_1226-Noncancer_illness_code_selfreported_... ENSG00000171316                0   \n",
       "M41-Diagnoses_main_ICD10_M41_Scoliosis             ENSG00000162769                0   \n",
       "                                                   ENSG00000157764                0   \n",
       "20002_1226-Noncancer_illness_code_selfreported_... ENSG00000171862                0   \n",
       "M41-Diagnoses_main_ICD10_M41_Scoliosis             ENSG00000112234                0   \n",
       "20002_1197-Noncancer_illness_code_selfreported_... ENSG00000131183                0   \n",
       "20002_1065-Noncancer_illness_code_selfreported_... ENSG00000184937                1   \n",
       "20002_1197-Noncancer_illness_code_selfreported_... ENSG00000019186                0   \n",
       "20002_1065-Noncancer_illness_code_selfreported_... ENSG00000141646                0   \n",
       "1980-Worrier_anxious_feelings                      ENSG00000120071                0   \n",
       "20002_1065-Noncancer_illness_code_selfreported_... ENSG00000187266                0   \n",
       "20002_1162-Noncancer_illness_code_selfreported_... ENSG00000143921                0   \n",
       "20002_1226-Noncancer_illness_code_selfreported_... ENSG00000042832                1   \n",
       "20002_1065-Noncancer_illness_code_selfreported_... ENSG00000138823                0   \n",
       "M06-Diagnoses_main_ICD10_M06_Other_rheumatoid_a... ENSG00000134242                0   \n",
       "20002_1065-Noncancer_illness_code_selfreported_... ENSG00000196557                1   \n",
       "20002_1466-Noncancer_illness_code_selfreported_... ENSG00000124564                0   \n",
       "20002_1162-Noncancer_illness_code_selfreported_... ENSG00000104936                1   \n",
       "M05-Diagnoses_main_ICD10_M05_Seropositive_rheum... ENSG00000204498                0   \n",
       "1980-Worrier_anxious_feelings                      ENSG00000167371                0   \n",
       "20002_1162-Noncancer_illness_code_selfreported_... ENSG00000005471                1   \n",
       "1980-Worrier_anxious_feelings                      ENSG00000179344                0   \n",
       "20002_1065-Noncancer_illness_code_selfreported_... ENSG00000204370                0   \n",
       "                                                   ENSG00000132170                0   \n",
       "L40-Diagnoses_main_ICD10_L40_Psoriasis             ENSG00000204525                0   \n",
       "20002_1226-Noncancer_illness_code_selfreported_... ENSG00000168610                0   \n",
       "20002_1065-Noncancer_illness_code_selfreported_... ENSG00000148795                0   \n",
       "...                                                                             ...   \n",
       "20002_1075-Noncancer_illness_code_selfreported_... ENSG00000076513                0   \n",
       "                                                   ENSG00000073711                0   \n",
       "                                                   ENSG00000073008                0   \n",
       "                                                   ENSG00000069399                0   \n",
       "                                                   ENSG00000065135                0   \n",
       "                                                   ENSG00000062370                0   \n",
       "                                                   ENSG00000041515                0   \n",
       "                                                   ENSG00000031698                0   \n",
       "                                                   ENSG00000026652                0   \n",
       "                                                   ENSG00000023445                0   \n",
       "                                                   ENSG00000012061                0   \n",
       "                                                   ENSG00000085491                0   \n",
       "                                                   ENSG00000085511                0   \n",
       "                                                   ENSG00000089009                0   \n",
       "                                                   ENSG00000104853                0   \n",
       "                                                   ENSG00000104884                0   \n",
       "                                                   ENSG00000104881                0   \n",
       "                                                   ENSG00000104879                0   \n",
       "                                                   ENSG00000104866                0   \n",
       "                                                   ENSG00000104859                0   \n",
       "                                                   ENSG00000104856                0   \n",
       "                                                   ENSG00000103121                0   \n",
       "                                                   ENSG00000089022                0   \n",
       "                                                   ENSG00000099810                0   \n",
       "                                                   ENSG00000095951                0   \n",
       "                                                   ENSG00000092820                0   \n",
       "                                                   ENSG00000089248                0   \n",
       "                                                   ENSG00000089234                0   \n",
       "                                                   ENSG00000089169                0   \n",
       "Z34-Diagnoses_main_ICD10_Z34_Supervision_of_nor... ENSG00000225526                0   \n",
       "\n",
       "                                                                    true_class  \n",
       "ukb_efo                                            gene                         \n",
       "20002_1610-Noncancer_illness_code_selfreported_... ENSG00000091137           1  \n",
       "M06-Diagnoses_main_ICD10_M06_Other_rheumatoid_a... ENSG00000204498           1  \n",
       "20002_1065-Noncancer_illness_code_selfreported_... ENSG00000144061           1  \n",
       "20002_1226-Noncancer_illness_code_selfreported_... ENSG00000171316           1  \n",
       "M41-Diagnoses_main_ICD10_M41_Scoliosis             ENSG00000162769           1  \n",
       "                                                   ENSG00000157764           1  \n",
       "20002_1226-Noncancer_illness_code_selfreported_... ENSG00000171862           1  \n",
       "M41-Diagnoses_main_ICD10_M41_Scoliosis             ENSG00000112234           1  \n",
       "20002_1197-Noncancer_illness_code_selfreported_... ENSG00000131183           1  \n",
       "20002_1065-Noncancer_illness_code_selfreported_... ENSG00000184937           1  \n",
       "20002_1197-Noncancer_illness_code_selfreported_... ENSG00000019186           1  \n",
       "20002_1065-Noncancer_illness_code_selfreported_... ENSG00000141646           1  \n",
       "1980-Worrier_anxious_feelings                      ENSG00000120071           1  \n",
       "20002_1065-Noncancer_illness_code_selfreported_... ENSG00000187266           1  \n",
       "20002_1162-Noncancer_illness_code_selfreported_... ENSG00000143921           1  \n",
       "20002_1226-Noncancer_illness_code_selfreported_... ENSG00000042832           1  \n",
       "20002_1065-Noncancer_illness_code_selfreported_... ENSG00000138823           1  \n",
       "M06-Diagnoses_main_ICD10_M06_Other_rheumatoid_a... ENSG00000134242           1  \n",
       "20002_1065-Noncancer_illness_code_selfreported_... ENSG00000196557           1  \n",
       "20002_1466-Noncancer_illness_code_selfreported_... ENSG00000124564           1  \n",
       "20002_1162-Noncancer_illness_code_selfreported_... ENSG00000104936           1  \n",
       "M05-Diagnoses_main_ICD10_M05_Seropositive_rheum... ENSG00000204498           1  \n",
       "1980-Worrier_anxious_feelings                      ENSG00000167371           1  \n",
       "20002_1162-Noncancer_illness_code_selfreported_... ENSG00000005471           1  \n",
       "1980-Worrier_anxious_feelings                      ENSG00000179344           1  \n",
       "20002_1065-Noncancer_illness_code_selfreported_... ENSG00000204370           1  \n",
       "                                                   ENSG00000132170           1  \n",
       "L40-Diagnoses_main_ICD10_L40_Psoriasis             ENSG00000204525           1  \n",
       "20002_1226-Noncancer_illness_code_selfreported_... ENSG00000168610           1  \n",
       "20002_1065-Noncancer_illness_code_selfreported_... ENSG00000148795           1  \n",
       "...                                                                        ...  \n",
       "20002_1075-Noncancer_illness_code_selfreported_... ENSG00000076513           0  \n",
       "                                                   ENSG00000073711           0  \n",
       "                                                   ENSG00000073008           0  \n",
       "                                                   ENSG00000069399           0  \n",
       "                                                   ENSG00000065135           0  \n",
       "                                                   ENSG00000062370           0  \n",
       "                                                   ENSG00000041515           0  \n",
       "                                                   ENSG00000031698           0  \n",
       "                                                   ENSG00000026652           0  \n",
       "                                                   ENSG00000023445           0  \n",
       "                                                   ENSG00000012061           0  \n",
       "                                                   ENSG00000085491           0  \n",
       "                                                   ENSG00000085511           0  \n",
       "                                                   ENSG00000089009           0  \n",
       "                                                   ENSG00000104853           0  \n",
       "                                                   ENSG00000104884           0  \n",
       "                                                   ENSG00000104881           0  \n",
       "                                                   ENSG00000104879           0  \n",
       "                                                   ENSG00000104866           0  \n",
       "                                                   ENSG00000104859           0  \n",
       "                                                   ENSG00000104856           0  \n",
       "                                                   ENSG00000103121           0  \n",
       "                                                   ENSG00000089022           0  \n",
       "                                                   ENSG00000099810           0  \n",
       "                                                   ENSG00000095951           0  \n",
       "                                                   ENSG00000092820           0  \n",
       "                                                   ENSG00000089248           0  \n",
       "                                                   ENSG00000089234           0  \n",
       "                                                   ENSG00000089169           0  \n",
       "Z34-Diagnoses_main_ICD10_Z34_Supervision_of_nor... ENSG00000225526           0  \n",
       "\n",
       "[19179 rows x 3 columns]"
      ]
     },
     "execution_count": 92,
     "metadata": {},
     "output_type": "execute_result"
    }
   ],
   "source": [
    "selected_predixcan_classifier_df.sort_values(['true_class'], ascending=[False])"
   ]
  },
  {
   "cell_type": "markdown",
   "metadata": {},
   "source": [
    "# Save classifier table"
   ]
  },
  {
   "cell_type": "code",
   "execution_count": 93,
   "metadata": {},
   "outputs": [
    {
     "data": {
      "text/html": [
       "<div>\n",
       "<style scoped>\n",
       "    .dataframe tbody tr th:only-of-type {\n",
       "        vertical-align: middle;\n",
       "    }\n",
       "\n",
       "    .dataframe tbody tr th {\n",
       "        vertical-align: top;\n",
       "    }\n",
       "\n",
       "    .dataframe thead th {\n",
       "        text-align: right;\n",
       "    }\n",
       "</style>\n",
       "<table border=\"1\" class=\"dataframe\">\n",
       "  <thead>\n",
       "    <tr style=\"text-align: right;\">\n",
       "      <th></th>\n",
       "      <th></th>\n",
       "      <th>score</th>\n",
       "      <th>predicted_class</th>\n",
       "      <th>true_class</th>\n",
       "    </tr>\n",
       "    <tr>\n",
       "      <th>ukb_efo</th>\n",
       "      <th>gene</th>\n",
       "      <th></th>\n",
       "      <th></th>\n",
       "      <th></th>\n",
       "    </tr>\n",
       "  </thead>\n",
       "  <tbody>\n",
       "    <tr>\n",
       "      <th rowspan=\"5\" valign=\"top\">1200-Sleeplessness_insomnia</th>\n",
       "      <th>ENSG00000001617</th>\n",
       "      <td>2.563019e-02</td>\n",
       "      <td>0</td>\n",
       "      <td>0</td>\n",
       "    </tr>\n",
       "    <tr>\n",
       "      <th>ENSG00000003756</th>\n",
       "      <td>7.435000e-02</td>\n",
       "      <td>0</td>\n",
       "      <td>0</td>\n",
       "    </tr>\n",
       "    <tr>\n",
       "      <th>ENSG00000004534</th>\n",
       "      <td>4.208160e-01</td>\n",
       "      <td>1</td>\n",
       "      <td>0</td>\n",
       "    </tr>\n",
       "    <tr>\n",
       "      <th>ENSG00000004838</th>\n",
       "      <td>4.417000e-04</td>\n",
       "      <td>0</td>\n",
       "      <td>0</td>\n",
       "    </tr>\n",
       "    <tr>\n",
       "      <th>ENSG00000004897</th>\n",
       "      <td>1.116773e-09</td>\n",
       "      <td>0</td>\n",
       "      <td>0</td>\n",
       "    </tr>\n",
       "  </tbody>\n",
       "</table>\n",
       "</div>"
      ],
      "text/plain": [
       "                                                    score  predicted_class  \\\n",
       "ukb_efo                     gene                                             \n",
       "1200-Sleeplessness_insomnia ENSG00000001617  2.563019e-02                0   \n",
       "                            ENSG00000003756  7.435000e-02                0   \n",
       "                            ENSG00000004534  4.208160e-01                1   \n",
       "                            ENSG00000004838  4.417000e-04                0   \n",
       "                            ENSG00000004897  1.116773e-09                0   \n",
       "\n",
       "                                             true_class  \n",
       "ukb_efo                     gene                         \n",
       "1200-Sleeplessness_insomnia ENSG00000001617           0  \n",
       "                            ENSG00000003756           0  \n",
       "                            ENSG00000004534           0  \n",
       "                            ENSG00000004838           0  \n",
       "                            ENSG00000004897           0  "
      ]
     },
     "execution_count": 93,
     "metadata": {},
     "output_type": "execute_result"
    }
   ],
   "source": [
    "selected_predixcan_classifier_df.head()"
   ]
  },
  {
   "cell_type": "code",
   "execution_count": 94,
   "metadata": {},
   "outputs": [
    {
     "data": {
      "text/plain": [
       "(19179, 3)"
      ]
     },
     "execution_count": 94,
     "metadata": {},
     "output_type": "execute_result"
    }
   ],
   "source": [
    "selected_predixcan_classifier_df.shape"
   ]
  },
  {
   "cell_type": "code",
   "execution_count": 95,
   "metadata": {},
   "outputs": [],
   "source": [
    "selected_predixcan_classifier_df.to_csv(\n",
    "    os.path.join(output_dir, 'fastenloc-torus-classifier_data.tsv.gz'),\n",
    "    sep='\\t', index=False\n",
    ")"
   ]
  },
  {
   "cell_type": "markdown",
   "metadata": {},
   "source": [
    "# ROC curve"
   ]
  },
  {
   "cell_type": "code",
   "execution_count": null,
   "metadata": {},
   "outputs": [],
   "source": [
    "from sklearn.metrics import roc_auc_score, roc_curve, accuracy_score\n",
    "import matplotlib.pyplot as plt\n",
    "import seaborn as sns"
   ]
  },
  {
   "cell_type": "code",
   "execution_count": null,
   "metadata": {},
   "outputs": [],
   "source": [
    "accuracy_score(selected_predixcan_classifier_df['true_class'], selected_predixcan_classifier_df['predicted_class'])"
   ]
  },
  {
   "cell_type": "code",
   "execution_count": null,
   "metadata": {},
   "outputs": [],
   "source": [
    "roc_auc = roc_auc_score(selected_predixcan_classifier_df['true_class'], selected_predixcan_classifier_df['score'])\n",
    "display(roc_auc)"
   ]
  },
  {
   "cell_type": "code",
   "execution_count": null,
   "metadata": {},
   "outputs": [],
   "source": [
    "fpr, tpr, thresholds = roc_curve(selected_predixcan_classifier_df['true_class'], selected_predixcan_classifier_df['score'])"
   ]
  },
  {
   "cell_type": "code",
   "execution_count": null,
   "metadata": {},
   "outputs": [],
   "source": [
    "len(fpr)"
   ]
  },
  {
   "cell_type": "code",
   "execution_count": null,
   "metadata": {},
   "outputs": [],
   "source": [
    "with sns.plotting_context('poster'):\n",
    "    plt.figure(figsize=(10, 10))\n",
    "    lw = 2\n",
    "    plt.plot(fpr, tpr, color='darkorange',\n",
    "             lw=lw, label='ROC curve (area = %0.2f)' % roc_auc)\n",
    "    plt.plot([0, 1], [0, 1], color='navy', lw=lw, linestyle='--')\n",
    "    plt.xlim([0.0, 1.0])\n",
    "    plt.ylim([0.0, 1.05])\n",
    "    plt.xlabel('False Positive Rate')\n",
    "    plt.ylabel('True Positive Rate')\n",
    "    plt.title('fastENLOC performance using OMIM')\n",
    "    plt.legend(loc=\"lower right\")"
   ]
  },
  {
   "cell_type": "code",
   "execution_count": null,
   "metadata": {},
   "outputs": [],
   "source": [
    "pd.DataFrame({\n",
    "    'method': 'MultiXcan',\n",
    "    'tpr': tpr,\n",
    "    'fpr': fpr,\n",
    "}).to_csv('/mnt/tmp/roc_data_fastenloc.tsv.gz', sep='\\t', index=False)"
   ]
  },
  {
   "cell_type": "markdown",
   "metadata": {},
   "source": [
    "# Precision-recall curve"
   ]
  },
  {
   "cell_type": "code",
   "execution_count": null,
   "metadata": {},
   "outputs": [],
   "source": [
    "from sklearn.metrics import precision_recall_curve, average_precision_score\n",
    "from sklearn.preprocessing import minmax_scale"
   ]
  },
  {
   "cell_type": "code",
   "execution_count": null,
   "metadata": {},
   "outputs": [],
   "source": [
    "score_min = selected_predixcan_classifier_df['score'].min()\n",
    "score_max = selected_predixcan_classifier_df['score'].max()\n",
    "score_len = selected_predixcan_classifier_df['score'].shape[0]\n",
    "\n",
    "random_score = minmax_scale(np.random.rand(int(score_len * 100)), feature_range=(score_min, score_max))\n",
    "random_prediction = (random_score > (random_score.mean())).astype(int)\n",
    "display(random_score.shape)\n",
    "#assert selected_predixcan_classifier_df.shape[0] == random_score.shape[0]"
   ]
  },
  {
   "cell_type": "code",
   "execution_count": null,
   "metadata": {},
   "outputs": [],
   "source": [
    "_random_score_single = minmax_scale(np.random.rand(int(score_len)), feature_range=(score_min, score_max))\n",
    "ap = average_precision_score(selected_predixcan_classifier_df['true_class'], _random_score_single)\n",
    "display(f'Random average precision score: {ap:.3f}')"
   ]
  },
  {
   "cell_type": "code",
   "execution_count": null,
   "metadata": {},
   "outputs": [],
   "source": [
    "ap = average_precision_score(selected_predixcan_classifier_df['true_class'], selected_predixcan_classifier_df['score'])\n",
    "display(f'fastENLOC average precision score: {ap:.3f}')"
   ]
  },
  {
   "cell_type": "code",
   "execution_count": null,
   "metadata": {},
   "outputs": [],
   "source": [
    "precision, recall, thresholds = precision_recall_curve(selected_predixcan_classifier_df['true_class'], selected_predixcan_classifier_df['score'])"
   ]
  },
  {
   "cell_type": "code",
   "execution_count": null,
   "metadata": {},
   "outputs": [],
   "source": [
    "len(precision)"
   ]
  },
  {
   "cell_type": "code",
   "execution_count": null,
   "metadata": {},
   "outputs": [],
   "source": [
    "random_precision = []\n",
    "random_recall = []\n",
    "\n",
    "for i in range(10):\n",
    "    random_score = minmax_scale(np.random.rand(score_len), feature_range=(score_min, score_max))\n",
    "    rp, rr, _ = precision_recall_curve(selected_predixcan_classifier_df['true_class'], random_score)\n",
    "    random_precision.extend(rp)\n",
    "    random_recall.extend(rr)\n",
    "\n",
    "random_precision = np.array(random_precision)\n",
    "random_recall = np.array(random_recall)"
   ]
  },
  {
   "cell_type": "code",
   "execution_count": null,
   "metadata": {},
   "outputs": [],
   "source": [
    "random_recall.shape"
   ]
  },
  {
   "cell_type": "code",
   "execution_count": null,
   "metadata": {},
   "outputs": [],
   "source": [
    "df_plot_multixcan = pd.DataFrame({\n",
    "    'Method': 'fastENLOC',\n",
    "    'Precision': precision,\n",
    "    'Recall': recall,\n",
    "})\n",
    "\n",
    "df_plot_random = df_plot = pd.DataFrame({\n",
    "    'Method': 'Random',\n",
    "    'Precision': random_precision,\n",
    "    'Recall': random_recall,\n",
    "})\n",
    "\n",
    "df_plot = pd.concat((df_plot_multixcan, df_plot_random), ignore_index=True)\n",
    "#assert df_plot.shape == (df_plot_multixcan.shape[0] + df_plot_random.shape[0], 3)\n",
    "df_plot.head()"
   ]
  },
  {
   "cell_type": "code",
   "execution_count": null,
   "metadata": {},
   "outputs": [],
   "source": [
    "df_plot[df_plot['Method'] == 'fastENLOC'].sort_values('Recall').head()"
   ]
  },
  {
   "cell_type": "code",
   "execution_count": null,
   "metadata": {},
   "outputs": [],
   "source": [
    "df_plot['Method'].value_counts()"
   ]
  },
  {
   "cell_type": "code",
   "execution_count": null,
   "metadata": {},
   "outputs": [],
   "source": [
    "with sns.plotting_context('talk'):\n",
    "    fig, ax = plt.subplots(figsize=(10, 10))\n",
    "    sns.lineplot(x='Recall', y='Precision', label='fastENLOC', data=df_plot[df_plot['Method'] == 'fastENLOC'], ax=ax)\n",
    "    sns.lineplot(x='Recall', y='Precision', label='Random', data=df_plot[df_plot['Method'] == 'Random'], ax=ax)\n",
    "    ax.set_ylim(0.0, 0.15)"
   ]
  },
  {
   "cell_type": "code",
   "execution_count": null,
   "metadata": {},
   "outputs": [],
   "source": []
  }
 ],
 "metadata": {
  "kernelspec": {
   "display_name": "Python 3",
   "language": "python",
   "name": "python3"
  },
  "language_info": {
   "codemirror_mode": {
    "name": "ipython",
    "version": 3
   },
   "file_extension": ".py",
   "mimetype": "text/x-python",
   "name": "python",
   "nbconvert_exporter": "python",
   "pygments_lexer": "ipython3",
   "version": "3.7.3"
  }
 },
 "nbformat": 4,
 "nbformat_minor": 4
}
