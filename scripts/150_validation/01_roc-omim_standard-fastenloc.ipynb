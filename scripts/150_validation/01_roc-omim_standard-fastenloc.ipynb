{
 "cells": [
  {
   "cell_type": "code",
   "execution_count": 1,
   "metadata": {},
   "outputs": [],
   "source": [
    "%load_ext autoreload\n",
    "%autoreload 2"
   ]
  },
  {
   "cell_type": "code",
   "execution_count": 2,
   "metadata": {},
   "outputs": [],
   "source": [
    "import os\n",
    "import pickle\n",
    "\n",
    "import numpy as np\n",
    "import pandas as pd\n",
    "\n",
    "import settings as conf"
   ]
  },
  {
   "cell_type": "code",
   "execution_count": 3,
   "metadata": {},
   "outputs": [],
   "source": [
    "output_dir = os.path.join(conf.DELIVERABLES_DIR, 'roc_validation', 'classifier_tables')\n",
    "os.makedirs(output_dir, exist_ok=True)"
   ]
  },
  {
   "cell_type": "markdown",
   "metadata": {},
   "source": [
    "# Load gene mappings"
   ]
  },
  {
   "cell_type": "code",
   "execution_count": 4,
   "metadata": {},
   "outputs": [],
   "source": [
    "with open(os.path.join(conf.GENES_METADATA_DIR, 'genes_mapping_simplified-0.pkl'), 'rb') as f:\n",
    "    genes_mapping_0 = pickle.load(f)\n",
    "\n",
    "with open(os.path.join(conf.GENES_METADATA_DIR, 'genes_mapping_simplified-1.pkl'), 'rb') as f:\n",
    "    genes_mapping_1 = pickle.load(f)"
   ]
  },
  {
   "cell_type": "markdown",
   "metadata": {},
   "source": [
    "# Load fastENLOC results"
   ]
  },
  {
   "cell_type": "code",
   "execution_count": 5,
   "metadata": {},
   "outputs": [
    {
     "data": {
      "text/plain": [
       "'/mnt/phenomexcan_base/gene_assoc/fastenloc-torus-rcp.pkl.xz'"
      ]
     },
     "metadata": {},
     "output_type": "display_data"
    }
   ],
   "source": [
    "spredixcan_genes_associations_filename = os.path.join(conf.GENE_ASSOC_DIR, 'fastenloc-torus-rcp.pkl.xz')\n",
    "display(spredixcan_genes_associations_filename)\n",
    "\n",
    "spredixcan_genes_associations = pd.read_pickle(spredixcan_genes_associations_filename)"
   ]
  },
  {
   "cell_type": "code",
   "execution_count": 6,
   "metadata": {},
   "outputs": [],
   "source": [
    "#spredixcan_genes_associations = spredixcan_genes_associations.rename(index=genes_mapping_1)"
   ]
  },
  {
   "cell_type": "code",
   "execution_count": 7,
   "metadata": {},
   "outputs": [
    {
     "data": {
      "text/plain": [
       "(38062, 4091)"
      ]
     },
     "execution_count": 7,
     "metadata": {},
     "output_type": "execute_result"
    }
   ],
   "source": [
    "spredixcan_genes_associations.shape"
   ]
  },
  {
   "cell_type": "code",
   "execution_count": 8,
   "metadata": {},
   "outputs": [
    {
     "data": {
      "text/html": [
       "<div>\n",
       "<style scoped>\n",
       "    .dataframe tbody tr th:only-of-type {\n",
       "        vertical-align: middle;\n",
       "    }\n",
       "\n",
       "    .dataframe tbody tr th {\n",
       "        vertical-align: top;\n",
       "    }\n",
       "\n",
       "    .dataframe thead th {\n",
       "        text-align: right;\n",
       "    }\n",
       "</style>\n",
       "<table border=\"1\" class=\"dataframe\">\n",
       "  <thead>\n",
       "    <tr style=\"text-align: right;\">\n",
       "      <th></th>\n",
       "      <th>O46-Diagnoses_main_ICD10_O46_Antepartum_haemorrhage_not_elsewhere_classified</th>\n",
       "      <th>K30-Diagnoses_main_ICD10_K30_Dyspepsia</th>\n",
       "      <th>2907-Ever_stopped_smoking_for_6_months</th>\n",
       "      <th>H7_DIPLOPIA-Diplopia</th>\n",
       "      <th>1538_0-Major_dietary_changes_in_the_last_5_years_No</th>\n",
       "      <th>5663-Length_of_longest_manicirritable_episode</th>\n",
       "      <th>20002_1538-Noncancer_illness_code_selfreported_arthritis_nos</th>\n",
       "      <th>S30-Diagnoses_main_ICD10_S30_Superficial_injury_of_abdomen_lower_back_and_pelvis</th>\n",
       "      <th>24010_raw-Inverse_distance_to_the_nearest_road</th>\n",
       "      <th>3143_raw-Ankle_spacing_width</th>\n",
       "      <th>...</th>\n",
       "      <th>2237-Plays_computer_games</th>\n",
       "      <th>20002_1461-Noncancer_illness_code_selfreported_inflammatory_bowel_disease</th>\n",
       "      <th>20002_1508-Noncancer_illness_code_selfreported_jaundice_unknown_cause</th>\n",
       "      <th>20003_1140881882-Treatmentmedication_code_timoptol_025_eye_drops</th>\n",
       "      <th>22601_71253330-Job_coding_merchandiser_window_dresser</th>\n",
       "      <th>23112_raw-Leg_fat_mass_right</th>\n",
       "      <th>20003_1140861778-Treatmentmedication_code_dipyridamole</th>\n",
       "      <th>20003_1199-Treatmentmedication_code_food_supplementplantherbal_extract</th>\n",
       "      <th>1309-Fresh_fruit_intake</th>\n",
       "      <th>100920_2105-Type_milk_consumed_soya_with_calcium</th>\n",
       "    </tr>\n",
       "    <tr>\n",
       "      <th>gene_id</th>\n",
       "      <th></th>\n",
       "      <th></th>\n",
       "      <th></th>\n",
       "      <th></th>\n",
       "      <th></th>\n",
       "      <th></th>\n",
       "      <th></th>\n",
       "      <th></th>\n",
       "      <th></th>\n",
       "      <th></th>\n",
       "      <th></th>\n",
       "      <th></th>\n",
       "      <th></th>\n",
       "      <th></th>\n",
       "      <th></th>\n",
       "      <th></th>\n",
       "      <th></th>\n",
       "      <th></th>\n",
       "      <th></th>\n",
       "      <th></th>\n",
       "      <th></th>\n",
       "    </tr>\n",
       "  </thead>\n",
       "  <tbody>\n",
       "    <tr>\n",
       "      <th>ENSG00000000419</th>\n",
       "      <td>NaN</td>\n",
       "      <td>NaN</td>\n",
       "      <td>NaN</td>\n",
       "      <td>NaN</td>\n",
       "      <td>0.001213</td>\n",
       "      <td>NaN</td>\n",
       "      <td>NaN</td>\n",
       "      <td>NaN</td>\n",
       "      <td>NaN</td>\n",
       "      <td>NaN</td>\n",
       "      <td>...</td>\n",
       "      <td>NaN</td>\n",
       "      <td>NaN</td>\n",
       "      <td>NaN</td>\n",
       "      <td>NaN</td>\n",
       "      <td>NaN</td>\n",
       "      <td>NaN</td>\n",
       "      <td>NaN</td>\n",
       "      <td>NaN</td>\n",
       "      <td>0.002131</td>\n",
       "      <td>NaN</td>\n",
       "    </tr>\n",
       "    <tr>\n",
       "      <th>ENSG00000000457</th>\n",
       "      <td>NaN</td>\n",
       "      <td>NaN</td>\n",
       "      <td>NaN</td>\n",
       "      <td>NaN</td>\n",
       "      <td>0.001873</td>\n",
       "      <td>NaN</td>\n",
       "      <td>NaN</td>\n",
       "      <td>NaN</td>\n",
       "      <td>NaN</td>\n",
       "      <td>0.017720</td>\n",
       "      <td>...</td>\n",
       "      <td>0.068852</td>\n",
       "      <td>NaN</td>\n",
       "      <td>NaN</td>\n",
       "      <td>NaN</td>\n",
       "      <td>NaN</td>\n",
       "      <td>0.003383</td>\n",
       "      <td>NaN</td>\n",
       "      <td>NaN</td>\n",
       "      <td>0.009195</td>\n",
       "      <td>NaN</td>\n",
       "    </tr>\n",
       "    <tr>\n",
       "      <th>ENSG00000000460</th>\n",
       "      <td>NaN</td>\n",
       "      <td>NaN</td>\n",
       "      <td>NaN</td>\n",
       "      <td>NaN</td>\n",
       "      <td>0.002620</td>\n",
       "      <td>NaN</td>\n",
       "      <td>NaN</td>\n",
       "      <td>0.000207</td>\n",
       "      <td>NaN</td>\n",
       "      <td>0.000105</td>\n",
       "      <td>...</td>\n",
       "      <td>0.093284</td>\n",
       "      <td>NaN</td>\n",
       "      <td>NaN</td>\n",
       "      <td>NaN</td>\n",
       "      <td>NaN</td>\n",
       "      <td>0.008790</td>\n",
       "      <td>NaN</td>\n",
       "      <td>NaN</td>\n",
       "      <td>0.003105</td>\n",
       "      <td>NaN</td>\n",
       "    </tr>\n",
       "    <tr>\n",
       "      <th>ENSG00000000938</th>\n",
       "      <td>NaN</td>\n",
       "      <td>NaN</td>\n",
       "      <td>NaN</td>\n",
       "      <td>NaN</td>\n",
       "      <td>0.002928</td>\n",
       "      <td>NaN</td>\n",
       "      <td>NaN</td>\n",
       "      <td>NaN</td>\n",
       "      <td>0.000762</td>\n",
       "      <td>0.012773</td>\n",
       "      <td>...</td>\n",
       "      <td>0.004300</td>\n",
       "      <td>NaN</td>\n",
       "      <td>NaN</td>\n",
       "      <td>0.000424</td>\n",
       "      <td>NaN</td>\n",
       "      <td>0.000612</td>\n",
       "      <td>NaN</td>\n",
       "      <td>NaN</td>\n",
       "      <td>0.003240</td>\n",
       "      <td>NaN</td>\n",
       "    </tr>\n",
       "    <tr>\n",
       "      <th>ENSG00000000971</th>\n",
       "      <td>NaN</td>\n",
       "      <td>NaN</td>\n",
       "      <td>NaN</td>\n",
       "      <td>NaN</td>\n",
       "      <td>0.002858</td>\n",
       "      <td>NaN</td>\n",
       "      <td>NaN</td>\n",
       "      <td>NaN</td>\n",
       "      <td>NaN</td>\n",
       "      <td>0.019304</td>\n",
       "      <td>...</td>\n",
       "      <td>0.005419</td>\n",
       "      <td>NaN</td>\n",
       "      <td>NaN</td>\n",
       "      <td>NaN</td>\n",
       "      <td>NaN</td>\n",
       "      <td>0.007427</td>\n",
       "      <td>NaN</td>\n",
       "      <td>NaN</td>\n",
       "      <td>0.004804</td>\n",
       "      <td>NaN</td>\n",
       "    </tr>\n",
       "  </tbody>\n",
       "</table>\n",
       "<p>5 rows × 4091 columns</p>\n",
       "</div>"
      ],
      "text/plain": [
       "                 O46-Diagnoses_main_ICD10_O46_Antepartum_haemorrhage_not_elsewhere_classified  \\\n",
       "gene_id                                                                                         \n",
       "ENSG00000000419                                                NaN                              \n",
       "ENSG00000000457                                                NaN                              \n",
       "ENSG00000000460                                                NaN                              \n",
       "ENSG00000000938                                                NaN                              \n",
       "ENSG00000000971                                                NaN                              \n",
       "\n",
       "                 K30-Diagnoses_main_ICD10_K30_Dyspepsia  \\\n",
       "gene_id                                                   \n",
       "ENSG00000000419                                     NaN   \n",
       "ENSG00000000457                                     NaN   \n",
       "ENSG00000000460                                     NaN   \n",
       "ENSG00000000938                                     NaN   \n",
       "ENSG00000000971                                     NaN   \n",
       "\n",
       "                 2907-Ever_stopped_smoking_for_6_months  H7_DIPLOPIA-Diplopia  \\\n",
       "gene_id                                                                         \n",
       "ENSG00000000419                                     NaN                   NaN   \n",
       "ENSG00000000457                                     NaN                   NaN   \n",
       "ENSG00000000460                                     NaN                   NaN   \n",
       "ENSG00000000938                                     NaN                   NaN   \n",
       "ENSG00000000971                                     NaN                   NaN   \n",
       "\n",
       "                 1538_0-Major_dietary_changes_in_the_last_5_years_No  \\\n",
       "gene_id                                                                \n",
       "ENSG00000000419                                           0.001213     \n",
       "ENSG00000000457                                           0.001873     \n",
       "ENSG00000000460                                           0.002620     \n",
       "ENSG00000000938                                           0.002928     \n",
       "ENSG00000000971                                           0.002858     \n",
       "\n",
       "                 5663-Length_of_longest_manicirritable_episode  \\\n",
       "gene_id                                                          \n",
       "ENSG00000000419                                            NaN   \n",
       "ENSG00000000457                                            NaN   \n",
       "ENSG00000000460                                            NaN   \n",
       "ENSG00000000938                                            NaN   \n",
       "ENSG00000000971                                            NaN   \n",
       "\n",
       "                 20002_1538-Noncancer_illness_code_selfreported_arthritis_nos  \\\n",
       "gene_id                                                                         \n",
       "ENSG00000000419                                                NaN              \n",
       "ENSG00000000457                                                NaN              \n",
       "ENSG00000000460                                                NaN              \n",
       "ENSG00000000938                                                NaN              \n",
       "ENSG00000000971                                                NaN              \n",
       "\n",
       "                 S30-Diagnoses_main_ICD10_S30_Superficial_injury_of_abdomen_lower_back_and_pelvis  \\\n",
       "gene_id                                                                                             \n",
       "ENSG00000000419                                                NaN                                  \n",
       "ENSG00000000457                                                NaN                                  \n",
       "ENSG00000000460                                           0.000207                                  \n",
       "ENSG00000000938                                                NaN                                  \n",
       "ENSG00000000971                                                NaN                                  \n",
       "\n",
       "                 24010_raw-Inverse_distance_to_the_nearest_road  \\\n",
       "gene_id                                                           \n",
       "ENSG00000000419                                             NaN   \n",
       "ENSG00000000457                                             NaN   \n",
       "ENSG00000000460                                             NaN   \n",
       "ENSG00000000938                                        0.000762   \n",
       "ENSG00000000971                                             NaN   \n",
       "\n",
       "                 3143_raw-Ankle_spacing_width  ...  2237-Plays_computer_games  \\\n",
       "gene_id                                        ...                              \n",
       "ENSG00000000419                           NaN  ...                        NaN   \n",
       "ENSG00000000457                      0.017720  ...                   0.068852   \n",
       "ENSG00000000460                      0.000105  ...                   0.093284   \n",
       "ENSG00000000938                      0.012773  ...                   0.004300   \n",
       "ENSG00000000971                      0.019304  ...                   0.005419   \n",
       "\n",
       "                 20002_1461-Noncancer_illness_code_selfreported_inflammatory_bowel_disease  \\\n",
       "gene_id                                                                                      \n",
       "ENSG00000000419                                                NaN                           \n",
       "ENSG00000000457                                                NaN                           \n",
       "ENSG00000000460                                                NaN                           \n",
       "ENSG00000000938                                                NaN                           \n",
       "ENSG00000000971                                                NaN                           \n",
       "\n",
       "                 20002_1508-Noncancer_illness_code_selfreported_jaundice_unknown_cause  \\\n",
       "gene_id                                                                                  \n",
       "ENSG00000000419                                                NaN                       \n",
       "ENSG00000000457                                                NaN                       \n",
       "ENSG00000000460                                                NaN                       \n",
       "ENSG00000000938                                                NaN                       \n",
       "ENSG00000000971                                                NaN                       \n",
       "\n",
       "                 20003_1140881882-Treatmentmedication_code_timoptol_025_eye_drops  \\\n",
       "gene_id                                                                             \n",
       "ENSG00000000419                                                NaN                  \n",
       "ENSG00000000457                                                NaN                  \n",
       "ENSG00000000460                                                NaN                  \n",
       "ENSG00000000938                                           0.000424                  \n",
       "ENSG00000000971                                                NaN                  \n",
       "\n",
       "                 22601_71253330-Job_coding_merchandiser_window_dresser  \\\n",
       "gene_id                                                                  \n",
       "ENSG00000000419                                                NaN       \n",
       "ENSG00000000457                                                NaN       \n",
       "ENSG00000000460                                                NaN       \n",
       "ENSG00000000938                                                NaN       \n",
       "ENSG00000000971                                                NaN       \n",
       "\n",
       "                 23112_raw-Leg_fat_mass_right  \\\n",
       "gene_id                                         \n",
       "ENSG00000000419                           NaN   \n",
       "ENSG00000000457                      0.003383   \n",
       "ENSG00000000460                      0.008790   \n",
       "ENSG00000000938                      0.000612   \n",
       "ENSG00000000971                      0.007427   \n",
       "\n",
       "                 20003_1140861778-Treatmentmedication_code_dipyridamole  \\\n",
       "gene_id                                                                   \n",
       "ENSG00000000419                                                NaN        \n",
       "ENSG00000000457                                                NaN        \n",
       "ENSG00000000460                                                NaN        \n",
       "ENSG00000000938                                                NaN        \n",
       "ENSG00000000971                                                NaN        \n",
       "\n",
       "                 20003_1199-Treatmentmedication_code_food_supplementplantherbal_extract  \\\n",
       "gene_id                                                                                   \n",
       "ENSG00000000419                                                NaN                        \n",
       "ENSG00000000457                                                NaN                        \n",
       "ENSG00000000460                                                NaN                        \n",
       "ENSG00000000938                                                NaN                        \n",
       "ENSG00000000971                                                NaN                        \n",
       "\n",
       "                 1309-Fresh_fruit_intake  \\\n",
       "gene_id                                    \n",
       "ENSG00000000419                 0.002131   \n",
       "ENSG00000000457                 0.009195   \n",
       "ENSG00000000460                 0.003105   \n",
       "ENSG00000000938                 0.003240   \n",
       "ENSG00000000971                 0.004804   \n",
       "\n",
       "                 100920_2105-Type_milk_consumed_soya_with_calcium  \n",
       "gene_id                                                            \n",
       "ENSG00000000419                                               NaN  \n",
       "ENSG00000000457                                               NaN  \n",
       "ENSG00000000460                                               NaN  \n",
       "ENSG00000000938                                               NaN  \n",
       "ENSG00000000971                                               NaN  \n",
       "\n",
       "[5 rows x 4091 columns]"
      ]
     },
     "execution_count": 8,
     "metadata": {},
     "output_type": "execute_result"
    }
   ],
   "source": [
    "spredixcan_genes_associations.head(5)"
   ]
  },
  {
   "cell_type": "markdown",
   "metadata": {},
   "source": [
    "# Load OMIM silver standard"
   ]
  },
  {
   "cell_type": "code",
   "execution_count": 9,
   "metadata": {},
   "outputs": [],
   "source": [
    "omim_silver_standard = pd.read_csv(os.path.join(conf.DATA_DIR, 'omim_silver_standard.tsv'), sep='\\t')"
   ]
  },
  {
   "cell_type": "code",
   "execution_count": 10,
   "metadata": {},
   "outputs": [],
   "source": [
    "omim_silver_standard = omim_silver_standard.dropna(subset=['ensembl_gene_id', 'trait', 'pheno_mim'])"
   ]
  },
  {
   "cell_type": "code",
   "execution_count": 11,
   "metadata": {},
   "outputs": [
    {
     "data": {
      "text/plain": [
       "(7809, 7)"
      ]
     },
     "metadata": {},
     "output_type": "display_data"
    },
    {
     "data": {
      "text/html": [
       "<div>\n",
       "<style scoped>\n",
       "    .dataframe tbody tr th:only-of-type {\n",
       "        vertical-align: middle;\n",
       "    }\n",
       "\n",
       "    .dataframe tbody tr th {\n",
       "        vertical-align: top;\n",
       "    }\n",
       "\n",
       "    .dataframe thead th {\n",
       "        text-align: right;\n",
       "    }\n",
       "</style>\n",
       "<table border=\"1\" class=\"dataframe\">\n",
       "  <thead>\n",
       "    <tr style=\"text-align: right;\">\n",
       "      <th></th>\n",
       "      <th>trait</th>\n",
       "      <th>pheno_mim</th>\n",
       "      <th>mim</th>\n",
       "      <th>entry_type</th>\n",
       "      <th>entrez_gene_id</th>\n",
       "      <th>approved_gene_symbol</th>\n",
       "      <th>ensembl_gene_id</th>\n",
       "    </tr>\n",
       "  </thead>\n",
       "  <tbody>\n",
       "    <tr>\n",
       "      <th>0</th>\n",
       "      <td>M41-Diagnoses_main_ICD10_M41_Scoliosis</td>\n",
       "      <td>101800</td>\n",
       "      <td>188830</td>\n",
       "      <td>gene</td>\n",
       "      <td>5573</td>\n",
       "      <td>PRKAR1A</td>\n",
       "      <td>ENSG00000108946</td>\n",
       "    </tr>\n",
       "    <tr>\n",
       "      <th>1</th>\n",
       "      <td>M41-Diagnoses_main_ICD10_M41_Scoliosis</td>\n",
       "      <td>102500</td>\n",
       "      <td>600275</td>\n",
       "      <td>gene</td>\n",
       "      <td>4853</td>\n",
       "      <td>NOTCH2</td>\n",
       "      <td>ENSG00000134250</td>\n",
       "    </tr>\n",
       "    <tr>\n",
       "      <th>2</th>\n",
       "      <td>M41-Diagnoses_main_ICD10_M41_Scoliosis</td>\n",
       "      <td>105830</td>\n",
       "      <td>601623</td>\n",
       "      <td>gene</td>\n",
       "      <td>7337</td>\n",
       "      <td>UBE3A</td>\n",
       "      <td>ENSG00000114062</td>\n",
       "    </tr>\n",
       "    <tr>\n",
       "      <th>3</th>\n",
       "      <td>M41-Diagnoses_main_ICD10_M41_Scoliosis</td>\n",
       "      <td>108120</td>\n",
       "      <td>190990</td>\n",
       "      <td>gene</td>\n",
       "      <td>7169</td>\n",
       "      <td>TPM2</td>\n",
       "      <td>ENSG00000198467</td>\n",
       "    </tr>\n",
       "    <tr>\n",
       "      <th>4</th>\n",
       "      <td>M41-Diagnoses_main_ICD10_M41_Scoliosis</td>\n",
       "      <td>108145</td>\n",
       "      <td>613629</td>\n",
       "      <td>gene</td>\n",
       "      <td>63895</td>\n",
       "      <td>PIEZO2</td>\n",
       "      <td>ENSG00000154864</td>\n",
       "    </tr>\n",
       "  </tbody>\n",
       "</table>\n",
       "</div>"
      ],
      "text/plain": [
       "                                    trait  pheno_mim     mim entry_type  \\\n",
       "0  M41-Diagnoses_main_ICD10_M41_Scoliosis     101800  188830       gene   \n",
       "1  M41-Diagnoses_main_ICD10_M41_Scoliosis     102500  600275       gene   \n",
       "2  M41-Diagnoses_main_ICD10_M41_Scoliosis     105830  601623       gene   \n",
       "3  M41-Diagnoses_main_ICD10_M41_Scoliosis     108120  190990       gene   \n",
       "4  M41-Diagnoses_main_ICD10_M41_Scoliosis     108145  613629       gene   \n",
       "\n",
       "   entrez_gene_id approved_gene_symbol  ensembl_gene_id  \n",
       "0            5573              PRKAR1A  ENSG00000108946  \n",
       "1            4853               NOTCH2  ENSG00000134250  \n",
       "2            7337                UBE3A  ENSG00000114062  \n",
       "3            7169                 TPM2  ENSG00000198467  \n",
       "4           63895               PIEZO2  ENSG00000154864  "
      ]
     },
     "metadata": {},
     "output_type": "display_data"
    }
   ],
   "source": [
    "display(omim_silver_standard.shape)\n",
    "display(omim_silver_standard.head())"
   ]
  },
  {
   "cell_type": "markdown",
   "metadata": {},
   "source": [
    "# Read gwas2gene results"
   ]
  },
  {
   "cell_type": "code",
   "execution_count": 12,
   "metadata": {},
   "outputs": [],
   "source": [
    "from glob import glob\n",
    "\n",
    "import rpy2.robjects as robjects\n",
    "from rpy2.robjects import pandas2ri\n",
    "pandas2ri.activate()"
   ]
  },
  {
   "cell_type": "code",
   "execution_count": 13,
   "metadata": {},
   "outputs": [],
   "source": [
    "readRDS = robjects.r['readRDS']"
   ]
  },
  {
   "cell_type": "code",
   "execution_count": 14,
   "metadata": {},
   "outputs": [
    {
     "data": {
      "text/plain": [
       "99"
      ]
     },
     "metadata": {},
     "output_type": "display_data"
    },
    {
     "name": "stdout",
     "output_type": "stream",
     "text": [
      "WARNING: some files are not there. 107 expected, 99 found.\n"
     ]
    }
   ],
   "source": [
    "f_files = glob(os.path.join(conf.OMIM_SILVER_STANDARD_GWAS_TO_GENE_DIR, '*.rds'))\n",
    "display(len(f_files))\n",
    "\n",
    "if len(f_files) != len(omim_silver_standard['trait'].unique()):\n",
    "    print(f'WARNING: some files are not there. {len(omim_silver_standard[\"trait\"].unique())} expected, {len(f_files)} found.')"
   ]
  },
  {
   "cell_type": "code",
   "execution_count": 15,
   "metadata": {},
   "outputs": [],
   "source": [
    "gwas2genes_results = {}\n",
    "\n",
    "for f in f_files:\n",
    "    f_base = os.path.basename(f)\n",
    "    f_code, _ = os.path.splitext(f_base)\n",
    "    \n",
    "    #print(f_base)\n",
    "    rds_contents = readRDS(f)\n",
    "    \n",
    "    if len(rds_contents[1]) > 0:\n",
    "        f_gene_list = list(rds_contents[1][0].iter_labels())\n",
    "    else:\n",
    "        print(f'{f_code}: empty')\n",
    "        f_gene_list = []\n",
    "    \n",
    "    gwas2genes_results[f_code] = spredixcan_genes_associations.index.intersection(set(f_gene_list))"
   ]
  },
  {
   "cell_type": "code",
   "execution_count": 16,
   "metadata": {},
   "outputs": [
    {
     "data": {
      "text/plain": [
       "99"
      ]
     },
     "execution_count": 16,
     "metadata": {},
     "output_type": "execute_result"
    }
   ],
   "source": [
    "len(gwas2genes_results)"
   ]
  },
  {
   "cell_type": "code",
   "execution_count": 17,
   "metadata": {},
   "outputs": [
    {
     "data": {
      "text/plain": [
       "19709"
      ]
     },
     "metadata": {},
     "output_type": "display_data"
    },
    {
     "data": {
      "text/plain": [
       "9722"
      ]
     },
     "metadata": {},
     "output_type": "display_data"
    }
   ],
   "source": [
    "gwas2gene_all_genes = []\n",
    "\n",
    "for k in gwas2genes_results.keys():\n",
    "    gwas2gene_all_genes.extend(gwas2genes_results[k])\n",
    "\n",
    "display(len(gwas2gene_all_genes))\n",
    "\n",
    "gwas2gene_all_genes = set(gwas2gene_all_genes)\n",
    "display(len(gwas2gene_all_genes))\n",
    "\n",
    "# gwas2gene_all_genes = spredixcan_genes_associations.index.intersection(gwas2gene_all_genes)\n",
    "# display(len(gwas2gene_all_genes))"
   ]
  },
  {
   "cell_type": "markdown",
   "metadata": {},
   "source": [
    "# Create list of UKB-OMIM traits"
   ]
  },
  {
   "cell_type": "code",
   "execution_count": 18,
   "metadata": {},
   "outputs": [
    {
     "data": {
      "text/html": [
       "<div>\n",
       "<style scoped>\n",
       "    .dataframe tbody tr th:only-of-type {\n",
       "        vertical-align: middle;\n",
       "    }\n",
       "\n",
       "    .dataframe tbody tr th {\n",
       "        vertical-align: top;\n",
       "    }\n",
       "\n",
       "    .dataframe thead th {\n",
       "        text-align: right;\n",
       "    }\n",
       "</style>\n",
       "<table border=\"1\" class=\"dataframe\">\n",
       "  <thead>\n",
       "    <tr style=\"text-align: right;\">\n",
       "      <th></th>\n",
       "      <th>trait</th>\n",
       "      <th>pheno_mim</th>\n",
       "      <th>mim</th>\n",
       "      <th>entry_type</th>\n",
       "      <th>entrez_gene_id</th>\n",
       "      <th>approved_gene_symbol</th>\n",
       "      <th>ensembl_gene_id</th>\n",
       "    </tr>\n",
       "  </thead>\n",
       "  <tbody>\n",
       "    <tr>\n",
       "      <th>0</th>\n",
       "      <td>M41-Diagnoses_main_ICD10_M41_Scoliosis</td>\n",
       "      <td>101800</td>\n",
       "      <td>188830</td>\n",
       "      <td>gene</td>\n",
       "      <td>5573</td>\n",
       "      <td>PRKAR1A</td>\n",
       "      <td>ENSG00000108946</td>\n",
       "    </tr>\n",
       "    <tr>\n",
       "      <th>1</th>\n",
       "      <td>M41-Diagnoses_main_ICD10_M41_Scoliosis</td>\n",
       "      <td>102500</td>\n",
       "      <td>600275</td>\n",
       "      <td>gene</td>\n",
       "      <td>4853</td>\n",
       "      <td>NOTCH2</td>\n",
       "      <td>ENSG00000134250</td>\n",
       "    </tr>\n",
       "    <tr>\n",
       "      <th>2</th>\n",
       "      <td>M41-Diagnoses_main_ICD10_M41_Scoliosis</td>\n",
       "      <td>105830</td>\n",
       "      <td>601623</td>\n",
       "      <td>gene</td>\n",
       "      <td>7337</td>\n",
       "      <td>UBE3A</td>\n",
       "      <td>ENSG00000114062</td>\n",
       "    </tr>\n",
       "    <tr>\n",
       "      <th>3</th>\n",
       "      <td>M41-Diagnoses_main_ICD10_M41_Scoliosis</td>\n",
       "      <td>108120</td>\n",
       "      <td>190990</td>\n",
       "      <td>gene</td>\n",
       "      <td>7169</td>\n",
       "      <td>TPM2</td>\n",
       "      <td>ENSG00000198467</td>\n",
       "    </tr>\n",
       "    <tr>\n",
       "      <th>4</th>\n",
       "      <td>M41-Diagnoses_main_ICD10_M41_Scoliosis</td>\n",
       "      <td>108145</td>\n",
       "      <td>613629</td>\n",
       "      <td>gene</td>\n",
       "      <td>63895</td>\n",
       "      <td>PIEZO2</td>\n",
       "      <td>ENSG00000154864</td>\n",
       "    </tr>\n",
       "  </tbody>\n",
       "</table>\n",
       "</div>"
      ],
      "text/plain": [
       "                                    trait  pheno_mim     mim entry_type  \\\n",
       "0  M41-Diagnoses_main_ICD10_M41_Scoliosis     101800  188830       gene   \n",
       "1  M41-Diagnoses_main_ICD10_M41_Scoliosis     102500  600275       gene   \n",
       "2  M41-Diagnoses_main_ICD10_M41_Scoliosis     105830  601623       gene   \n",
       "3  M41-Diagnoses_main_ICD10_M41_Scoliosis     108120  190990       gene   \n",
       "4  M41-Diagnoses_main_ICD10_M41_Scoliosis     108145  613629       gene   \n",
       "\n",
       "   entrez_gene_id approved_gene_symbol  ensembl_gene_id  \n",
       "0            5573              PRKAR1A  ENSG00000108946  \n",
       "1            4853               NOTCH2  ENSG00000134250  \n",
       "2            7337                UBE3A  ENSG00000114062  \n",
       "3            7169                 TPM2  ENSG00000198467  \n",
       "4           63895               PIEZO2  ENSG00000154864  "
      ]
     },
     "execution_count": 18,
     "metadata": {},
     "output_type": "execute_result"
    }
   ],
   "source": [
    "omim_silver_standard.head()"
   ]
  },
  {
   "cell_type": "markdown",
   "metadata": {},
   "source": [
    "# Create PrediXcan classifier table"
   ]
  },
  {
   "cell_type": "code",
   "execution_count": 19,
   "metadata": {},
   "outputs": [],
   "source": [
    "_tmp = omim_silver_standard[['trait', 'ensembl_gene_id']]\n",
    "ukb_traits_common = _tmp['trait'].unique()\n",
    "\n",
    "omim_true_classes = _tmp[['trait', 'ensembl_gene_id']].drop_duplicates()\n",
    "omim_true_classes = omim_true_classes.assign(omim_value=1)\n",
    "omim_true_classes = omim_true_classes.set_index(['trait', 'ensembl_gene_id'])"
   ]
  },
  {
   "cell_type": "code",
   "execution_count": 20,
   "metadata": {},
   "outputs": [
    {
     "data": {
      "text/plain": [
       "107"
      ]
     },
     "execution_count": 20,
     "metadata": {},
     "output_type": "execute_result"
    }
   ],
   "source": [
    "len(ukb_traits_common)"
   ]
  },
  {
   "cell_type": "code",
   "execution_count": 21,
   "metadata": {},
   "outputs": [
    {
     "data": {
      "text/plain": [
       "(7046, 1)"
      ]
     },
     "execution_count": 21,
     "metadata": {},
     "output_type": "execute_result"
    }
   ],
   "source": [
    "omim_true_classes.shape"
   ]
  },
  {
   "cell_type": "code",
   "execution_count": 22,
   "metadata": {},
   "outputs": [
    {
     "data": {
      "text/html": [
       "<div>\n",
       "<style scoped>\n",
       "    .dataframe tbody tr th:only-of-type {\n",
       "        vertical-align: middle;\n",
       "    }\n",
       "\n",
       "    .dataframe tbody tr th {\n",
       "        vertical-align: top;\n",
       "    }\n",
       "\n",
       "    .dataframe thead th {\n",
       "        text-align: right;\n",
       "    }\n",
       "</style>\n",
       "<table border=\"1\" class=\"dataframe\">\n",
       "  <thead>\n",
       "    <tr style=\"text-align: right;\">\n",
       "      <th></th>\n",
       "      <th></th>\n",
       "      <th>omim_value</th>\n",
       "    </tr>\n",
       "    <tr>\n",
       "      <th>trait</th>\n",
       "      <th>ensembl_gene_id</th>\n",
       "      <th></th>\n",
       "    </tr>\n",
       "  </thead>\n",
       "  <tbody>\n",
       "    <tr>\n",
       "      <th rowspan=\"5\" valign=\"top\">M41-Diagnoses_main_ICD10_M41_Scoliosis</th>\n",
       "      <th>ENSG00000108946</th>\n",
       "      <td>1</td>\n",
       "    </tr>\n",
       "    <tr>\n",
       "      <th>ENSG00000134250</th>\n",
       "      <td>1</td>\n",
       "    </tr>\n",
       "    <tr>\n",
       "      <th>ENSG00000114062</th>\n",
       "      <td>1</td>\n",
       "    </tr>\n",
       "    <tr>\n",
       "      <th>ENSG00000198467</th>\n",
       "      <td>1</td>\n",
       "    </tr>\n",
       "    <tr>\n",
       "      <th>ENSG00000154864</th>\n",
       "      <td>1</td>\n",
       "    </tr>\n",
       "  </tbody>\n",
       "</table>\n",
       "</div>"
      ],
      "text/plain": [
       "                                                        omim_value\n",
       "trait                                  ensembl_gene_id            \n",
       "M41-Diagnoses_main_ICD10_M41_Scoliosis ENSG00000108946           1\n",
       "                                       ENSG00000134250           1\n",
       "                                       ENSG00000114062           1\n",
       "                                       ENSG00000198467           1\n",
       "                                       ENSG00000154864           1"
      ]
     },
     "execution_count": 22,
     "metadata": {},
     "output_type": "execute_result"
    }
   ],
   "source": [
    "omim_true_classes.head()"
   ]
  },
  {
   "cell_type": "code",
   "execution_count": 23,
   "metadata": {},
   "outputs": [
    {
     "data": {
      "text/plain": [
       "107"
      ]
     },
     "execution_count": 23,
     "metadata": {},
     "output_type": "execute_result"
    }
   ],
   "source": [
    "len(ukb_traits_common)"
   ]
  },
  {
   "cell_type": "code",
   "execution_count": 24,
   "metadata": {},
   "outputs": [
    {
     "data": {
      "text/plain": [
       "19709"
      ]
     },
     "execution_count": 24,
     "metadata": {},
     "output_type": "execute_result"
    }
   ],
   "source": [
    "np.sum([len(k) for k in gwas2genes_results.values()])"
   ]
  },
  {
   "cell_type": "code",
   "execution_count": 25,
   "metadata": {},
   "outputs": [],
   "source": [
    "from entity import Trait"
   ]
  },
  {
   "cell_type": "code",
   "execution_count": 26,
   "metadata": {},
   "outputs": [],
   "source": [
    "index_tuples = []\n",
    "\n",
    "for t in ukb_traits_common:\n",
    "    t_code = Trait(full_code=t).code\n",
    "    if t_code not in gwas2genes_results:\n",
    "        continue\n",
    "    \n",
    "    for g in gwas2genes_results[t_code]:\n",
    "        index_tuples.append((t, g))"
   ]
  },
  {
   "cell_type": "code",
   "execution_count": 27,
   "metadata": {},
   "outputs": [
    {
     "data": {
      "text/plain": [
       "19709"
      ]
     },
     "execution_count": 27,
     "metadata": {},
     "output_type": "execute_result"
    }
   ],
   "source": [
    "len(index_tuples)"
   ]
  },
  {
   "cell_type": "code",
   "execution_count": 28,
   "metadata": {},
   "outputs": [
    {
     "data": {
      "text/plain": [
       "[('M41-Diagnoses_main_ICD10_M41_Scoliosis', 'ENSG00000012504'),\n",
       " ('M41-Diagnoses_main_ICD10_M41_Scoliosis', 'ENSG00000075089'),\n",
       " ('M41-Diagnoses_main_ICD10_M41_Scoliosis', 'ENSG00000075336'),\n",
       " ('M41-Diagnoses_main_ICD10_M41_Scoliosis', 'ENSG00000078401'),\n",
       " ('M41-Diagnoses_main_ICD10_M41_Scoliosis', 'ENSG00000090263')]"
      ]
     },
     "execution_count": 28,
     "metadata": {},
     "output_type": "execute_result"
    }
   ],
   "source": [
    "index_tuples[:5]"
   ]
  },
  {
   "cell_type": "code",
   "execution_count": 29,
   "metadata": {},
   "outputs": [],
   "source": [
    "classifier_index = pd.MultiIndex.from_tuples(\n",
    "    index_tuples,\n",
    "    names=['ukb_efo', 'gene']\n",
    ")"
   ]
  },
  {
   "cell_type": "code",
   "execution_count": 30,
   "metadata": {},
   "outputs": [
    {
     "data": {
      "text/plain": [
       "9722"
      ]
     },
     "execution_count": 30,
     "metadata": {},
     "output_type": "execute_result"
    }
   ],
   "source": [
    "len(gwas2gene_all_genes)"
   ]
  },
  {
   "cell_type": "code",
   "execution_count": 31,
   "metadata": {},
   "outputs": [
    {
     "data": {
      "text/plain": [
       "(19709,)"
      ]
     },
     "execution_count": 31,
     "metadata": {},
     "output_type": "execute_result"
    }
   ],
   "source": [
    "classifier_index.shape"
   ]
  },
  {
   "cell_type": "code",
   "execution_count": 32,
   "metadata": {},
   "outputs": [],
   "source": [
    "predixcan_classifier_df = pd.DataFrame(index=classifier_index, columns=['score', 'predicted_class', 'true_class'])"
   ]
  },
  {
   "cell_type": "code",
   "execution_count": 33,
   "metadata": {},
   "outputs": [],
   "source": [
    "predixcan_classifier_df = predixcan_classifier_df.sort_index()"
   ]
  },
  {
   "cell_type": "code",
   "execution_count": 34,
   "metadata": {},
   "outputs": [
    {
     "data": {
      "text/plain": [
       "(19709, 3)"
      ]
     },
     "execution_count": 34,
     "metadata": {},
     "output_type": "execute_result"
    }
   ],
   "source": [
    "predixcan_classifier_df.shape"
   ]
  },
  {
   "cell_type": "code",
   "execution_count": 35,
   "metadata": {},
   "outputs": [],
   "source": [
    "predixcan_classifier_df['true_class'] = 0"
   ]
  },
  {
   "cell_type": "code",
   "execution_count": 36,
   "metadata": {},
   "outputs": [
    {
     "data": {
      "text/html": [
       "<div>\n",
       "<style scoped>\n",
       "    .dataframe tbody tr th:only-of-type {\n",
       "        vertical-align: middle;\n",
       "    }\n",
       "\n",
       "    .dataframe tbody tr th {\n",
       "        vertical-align: top;\n",
       "    }\n",
       "\n",
       "    .dataframe thead th {\n",
       "        text-align: right;\n",
       "    }\n",
       "</style>\n",
       "<table border=\"1\" class=\"dataframe\">\n",
       "  <thead>\n",
       "    <tr style=\"text-align: right;\">\n",
       "      <th></th>\n",
       "      <th></th>\n",
       "      <th>score</th>\n",
       "      <th>predicted_class</th>\n",
       "      <th>true_class</th>\n",
       "    </tr>\n",
       "    <tr>\n",
       "      <th>ukb_efo</th>\n",
       "      <th>gene</th>\n",
       "      <th></th>\n",
       "      <th></th>\n",
       "      <th></th>\n",
       "    </tr>\n",
       "  </thead>\n",
       "  <tbody>\n",
       "    <tr>\n",
       "      <th rowspan=\"5\" valign=\"top\">1200-Sleeplessness_insomnia</th>\n",
       "      <th>ENSG00000001617</th>\n",
       "      <td>NaN</td>\n",
       "      <td>NaN</td>\n",
       "      <td>0</td>\n",
       "    </tr>\n",
       "    <tr>\n",
       "      <th>ENSG00000003756</th>\n",
       "      <td>NaN</td>\n",
       "      <td>NaN</td>\n",
       "      <td>0</td>\n",
       "    </tr>\n",
       "    <tr>\n",
       "      <th>ENSG00000004534</th>\n",
       "      <td>NaN</td>\n",
       "      <td>NaN</td>\n",
       "      <td>0</td>\n",
       "    </tr>\n",
       "    <tr>\n",
       "      <th>ENSG00000004838</th>\n",
       "      <td>NaN</td>\n",
       "      <td>NaN</td>\n",
       "      <td>0</td>\n",
       "    </tr>\n",
       "    <tr>\n",
       "      <th>ENSG00000004897</th>\n",
       "      <td>NaN</td>\n",
       "      <td>NaN</td>\n",
       "      <td>0</td>\n",
       "    </tr>\n",
       "  </tbody>\n",
       "</table>\n",
       "</div>"
      ],
      "text/plain": [
       "                                            score predicted_class  true_class\n",
       "ukb_efo                     gene                                             \n",
       "1200-Sleeplessness_insomnia ENSG00000001617   NaN             NaN           0\n",
       "                            ENSG00000003756   NaN             NaN           0\n",
       "                            ENSG00000004534   NaN             NaN           0\n",
       "                            ENSG00000004838   NaN             NaN           0\n",
       "                            ENSG00000004897   NaN             NaN           0"
      ]
     },
     "execution_count": 36,
     "metadata": {},
     "output_type": "execute_result"
    }
   ],
   "source": [
    "predixcan_classifier_df.head()"
   ]
  },
  {
   "cell_type": "code",
   "execution_count": 37,
   "metadata": {},
   "outputs": [
    {
     "data": {
      "text/plain": [
       "(7046,)"
      ]
     },
     "metadata": {},
     "output_type": "display_data"
    },
    {
     "data": {
      "text/plain": [
       "trait                                   ensembl_gene_id\n",
       "M41-Diagnoses_main_ICD10_M41_Scoliosis  ENSG00000108946    1\n",
       "                                        ENSG00000134250    1\n",
       "                                        ENSG00000114062    1\n",
       "                                        ENSG00000198467    1\n",
       "                                        ENSG00000154864    1\n",
       "Name: omim_value, dtype: int64"
      ]
     },
     "metadata": {},
     "output_type": "display_data"
    }
   ],
   "source": [
    "true_classes = omim_true_classes.squeeze()\n",
    "display(true_classes.shape)\n",
    "display(true_classes.head())"
   ]
  },
  {
   "cell_type": "code",
   "execution_count": 38,
   "metadata": {},
   "outputs": [],
   "source": [
    "predixcan_classifier_df.loc[predixcan_classifier_df.index.intersection(true_classes.index), 'true_class'] = 1"
   ]
  },
  {
   "cell_type": "code",
   "execution_count": 39,
   "metadata": {},
   "outputs": [],
   "source": [
    "assert predixcan_classifier_df['true_class'].isna().sum() == 0"
   ]
  },
  {
   "cell_type": "code",
   "execution_count": 40,
   "metadata": {},
   "outputs": [
    {
     "data": {
      "text/html": [
       "<div>\n",
       "<style scoped>\n",
       "    .dataframe tbody tr th:only-of-type {\n",
       "        vertical-align: middle;\n",
       "    }\n",
       "\n",
       "    .dataframe tbody tr th {\n",
       "        vertical-align: top;\n",
       "    }\n",
       "\n",
       "    .dataframe thead th {\n",
       "        text-align: right;\n",
       "    }\n",
       "</style>\n",
       "<table border=\"1\" class=\"dataframe\">\n",
       "  <thead>\n",
       "    <tr style=\"text-align: right;\">\n",
       "      <th></th>\n",
       "      <th>score</th>\n",
       "      <th>predicted_class</th>\n",
       "      <th>true_class</th>\n",
       "    </tr>\n",
       "    <tr>\n",
       "      <th>gene</th>\n",
       "      <th></th>\n",
       "      <th></th>\n",
       "      <th></th>\n",
       "    </tr>\n",
       "  </thead>\n",
       "  <tbody>\n",
       "    <tr>\n",
       "      <th>ENSG00000012504</th>\n",
       "      <td>NaN</td>\n",
       "      <td>NaN</td>\n",
       "      <td>0</td>\n",
       "    </tr>\n",
       "    <tr>\n",
       "      <th>ENSG00000075089</th>\n",
       "      <td>NaN</td>\n",
       "      <td>NaN</td>\n",
       "      <td>0</td>\n",
       "    </tr>\n",
       "    <tr>\n",
       "      <th>ENSG00000075336</th>\n",
       "      <td>NaN</td>\n",
       "      <td>NaN</td>\n",
       "      <td>0</td>\n",
       "    </tr>\n",
       "    <tr>\n",
       "      <th>ENSG00000078401</th>\n",
       "      <td>NaN</td>\n",
       "      <td>NaN</td>\n",
       "      <td>0</td>\n",
       "    </tr>\n",
       "    <tr>\n",
       "      <th>ENSG00000090263</th>\n",
       "      <td>NaN</td>\n",
       "      <td>NaN</td>\n",
       "      <td>0</td>\n",
       "    </tr>\n",
       "  </tbody>\n",
       "</table>\n",
       "</div>"
      ],
      "text/plain": [
       "                score predicted_class  true_class\n",
       "gene                                             \n",
       "ENSG00000012504   NaN             NaN           0\n",
       "ENSG00000075089   NaN             NaN           0\n",
       "ENSG00000075336   NaN             NaN           0\n",
       "ENSG00000078401   NaN             NaN           0\n",
       "ENSG00000090263   NaN             NaN           0"
      ]
     },
     "execution_count": 40,
     "metadata": {},
     "output_type": "execute_result"
    }
   ],
   "source": [
    "# some testing\n",
    "predixcan_classifier_df.loc[('M41-Diagnoses_main_ICD10_M41_Scoliosis',)].head()"
   ]
  },
  {
   "cell_type": "code",
   "execution_count": 41,
   "metadata": {},
   "outputs": [
    {
     "data": {
      "text/plain": [
       "1"
      ]
     },
     "execution_count": 41,
     "metadata": {},
     "output_type": "execute_result"
    }
   ],
   "source": [
    "true_classes.loc[('M41-Diagnoses_main_ICD10_M41_Scoliosis', 'ENSG00000112234')]"
   ]
  },
  {
   "cell_type": "code",
   "execution_count": 42,
   "metadata": {},
   "outputs": [
    {
     "data": {
      "text/plain": [
       "True"
      ]
     },
     "execution_count": 42,
     "metadata": {},
     "output_type": "execute_result"
    }
   ],
   "source": [
    "'ENSG00000090263' not in true_classes.loc['M41-Diagnoses_main_ICD10_M41_Scoliosis'].index"
   ]
  },
  {
   "cell_type": "code",
   "execution_count": 43,
   "metadata": {},
   "outputs": [],
   "source": [
    "assert predixcan_classifier_df.loc[('M41-Diagnoses_main_ICD10_M41_Scoliosis', 'ENSG00000112234'), 'true_class'] == 1.0\n",
    "assert predixcan_classifier_df.loc[('M41-Diagnoses_main_ICD10_M41_Scoliosis', 'ENSG00000090263'), 'true_class'] == 0.0"
   ]
  },
  {
   "cell_type": "code",
   "execution_count": 44,
   "metadata": {},
   "outputs": [
    {
     "data": {
      "text/plain": [
       "9722"
      ]
     },
     "execution_count": 44,
     "metadata": {},
     "output_type": "execute_result"
    }
   ],
   "source": [
    "len(gwas2gene_all_genes)"
   ]
  },
  {
   "cell_type": "code",
   "execution_count": 45,
   "metadata": {},
   "outputs": [
    {
     "name": "stdout",
     "output_type": "stream",
     "text": [
      "M13\n",
      "I95\n",
      "I71\n",
      "20002_1264\n",
      "20002_1081\n",
      "22130\n",
      "C80\n",
      "20002_1538\n"
     ]
    }
   ],
   "source": [
    "# score\n",
    "df_score = pd.Series(index=classifier_index, dtype=float)\n",
    "\n",
    "for trait in ukb_traits_common:\n",
    "    trait_code = Trait(full_code=trait).code\n",
    "    if trait_code not in gwas2genes_results:\n",
    "        print(trait_code)\n",
    "        continue\n",
    "    trait_genes = gwas2genes_results[trait_code]\n",
    "    if len(trait_genes) == 0:\n",
    "        print(f'Empty: {trait}')\n",
    "        continue\n",
    "    \n",
    "    scores = spredixcan_genes_associations.loc[trait_genes, trait]\n",
    "    df_score.loc[trait] = scores.values"
   ]
  },
  {
   "cell_type": "code",
   "execution_count": 46,
   "metadata": {},
   "outputs": [],
   "source": [
    "# for fastENLOC fillna (because it discards results with RCP < 1e-04)\n",
    "df_score = df_score.fillna(0.0).sort_index()\n",
    "assert df_score.isna().sum().sum() == 0"
   ]
  },
  {
   "cell_type": "code",
   "execution_count": 47,
   "metadata": {},
   "outputs": [
    {
     "data": {
      "text/plain": [
       "ukb_efo                      gene           \n",
       "1200-Sleeplessness_insomnia  ENSG00000001617    0.021790\n",
       "                             ENSG00000003756    0.060830\n",
       "                             ENSG00000004534    0.395645\n",
       "                             ENSG00000004838    0.000435\n",
       "                             ENSG00000004897    0.000000\n",
       "dtype: float64"
      ]
     },
     "execution_count": 47,
     "metadata": {},
     "output_type": "execute_result"
    }
   ],
   "source": [
    "df_score.head()"
   ]
  },
  {
   "cell_type": "code",
   "execution_count": 48,
   "metadata": {},
   "outputs": [
    {
     "data": {
      "text/plain": [
       "(99,)"
      ]
     },
     "execution_count": 48,
     "metadata": {},
     "output_type": "execute_result"
    }
   ],
   "source": [
    "df_score.index.get_level_values('ukb_efo').unique().shape"
   ]
  },
  {
   "cell_type": "code",
   "execution_count": 49,
   "metadata": {},
   "outputs": [],
   "source": [
    "# some testing\n",
    "_gene, _trait = ('ENSG00000090263', 'M41-Diagnoses_main_ICD10_M41_Scoliosis')\n",
    "assert pd.isnull(spredixcan_genes_associations.loc[_gene, _trait])\n",
    "assert df_score.loc[_trait, _gene] == 0.0"
   ]
  },
  {
   "cell_type": "code",
   "execution_count": 50,
   "metadata": {},
   "outputs": [],
   "source": [
    "_gene, _trait = ('ENSG00000070061', 'O14-Diagnoses_main_ICD10_O14_Gestational_pregnancyinduced_hypertension_with_significant_proteinuria')\n",
    "assert pd.isnull(spredixcan_genes_associations.loc[_gene, _trait])\n",
    "assert df_score.loc[_trait, _gene] == 0.0"
   ]
  },
  {
   "cell_type": "code",
   "execution_count": 51,
   "metadata": {},
   "outputs": [
    {
     "data": {
      "text/plain": [
       "dtype('float64')"
      ]
     },
     "execution_count": 51,
     "metadata": {},
     "output_type": "execute_result"
    }
   ],
   "source": [
    "df_score.dtype"
   ]
  },
  {
   "cell_type": "code",
   "execution_count": 52,
   "metadata": {},
   "outputs": [
    {
     "data": {
      "text/plain": [
       "(19709,)"
      ]
     },
     "execution_count": 52,
     "metadata": {},
     "output_type": "execute_result"
    }
   ],
   "source": [
    "df_score.shape"
   ]
  },
  {
   "cell_type": "code",
   "execution_count": 53,
   "metadata": {},
   "outputs": [
    {
     "data": {
      "text/plain": [
       "ukb_efo                      gene           \n",
       "1200-Sleeplessness_insomnia  ENSG00000001617    0.021790\n",
       "                             ENSG00000003756    0.060830\n",
       "                             ENSG00000004534    0.395645\n",
       "                             ENSG00000004838    0.000435\n",
       "                             ENSG00000004897    0.000000\n",
       "dtype: float64"
      ]
     },
     "execution_count": 53,
     "metadata": {},
     "output_type": "execute_result"
    }
   ],
   "source": [
    "df_score.head()"
   ]
  },
  {
   "cell_type": "code",
   "execution_count": 54,
   "metadata": {},
   "outputs": [
    {
     "data": {
      "text/plain": [
       "count    19709.000000\n",
       "mean         0.023897\n",
       "std          0.112420\n",
       "min          0.000000\n",
       "25%          0.000000\n",
       "50%          0.000000\n",
       "75%          0.000213\n",
       "max          1.742724\n",
       "dtype: float64"
      ]
     },
     "execution_count": 54,
     "metadata": {},
     "output_type": "execute_result"
    }
   ],
   "source": [
    "df_score.describe()"
   ]
  },
  {
   "cell_type": "code",
   "execution_count": 55,
   "metadata": {},
   "outputs": [],
   "source": [
    "predixcan_classifier_df = predixcan_classifier_df.assign(score=df_score)"
   ]
  },
  {
   "cell_type": "code",
   "execution_count": 56,
   "metadata": {},
   "outputs": [],
   "source": [
    "# assert not predixcan_classifier_df['score'].isna().any()"
   ]
  },
  {
   "cell_type": "code",
   "execution_count": 57,
   "metadata": {},
   "outputs": [],
   "source": [
    "from scipy import stats"
   ]
  },
  {
   "cell_type": "code",
   "execution_count": 58,
   "metadata": {},
   "outputs": [
    {
     "data": {
      "text/plain": [
       "9722"
      ]
     },
     "metadata": {},
     "output_type": "display_data"
    },
    {
     "data": {
      "text/plain": [
       "0.1"
      ]
     },
     "metadata": {},
     "output_type": "display_data"
    }
   ],
   "source": [
    "_n_genes = len(gwas2gene_all_genes)\n",
    "display(_n_genes)\n",
    "\n",
    "SCORE_THRESHOLD = 0.1\n",
    "display(SCORE_THRESHOLD)"
   ]
  },
  {
   "cell_type": "code",
   "execution_count": 59,
   "metadata": {},
   "outputs": [],
   "source": [
    "predixcan_classifier_df = predixcan_classifier_df.assign(predicted_class=(predixcan_classifier_df['score'] > SCORE_THRESHOLD).astype(int))"
   ]
  },
  {
   "cell_type": "code",
   "execution_count": 60,
   "metadata": {},
   "outputs": [
    {
     "data": {
      "text/plain": [
       "(19709, 3)"
      ]
     },
     "execution_count": 60,
     "metadata": {},
     "output_type": "execute_result"
    }
   ],
   "source": [
    "predixcan_classifier_df.shape"
   ]
  },
  {
   "cell_type": "code",
   "execution_count": 61,
   "metadata": {},
   "outputs": [
    {
     "data": {
      "text/html": [
       "<div>\n",
       "<style scoped>\n",
       "    .dataframe tbody tr th:only-of-type {\n",
       "        vertical-align: middle;\n",
       "    }\n",
       "\n",
       "    .dataframe tbody tr th {\n",
       "        vertical-align: top;\n",
       "    }\n",
       "\n",
       "    .dataframe thead th {\n",
       "        text-align: right;\n",
       "    }\n",
       "</style>\n",
       "<table border=\"1\" class=\"dataframe\">\n",
       "  <thead>\n",
       "    <tr style=\"text-align: right;\">\n",
       "      <th></th>\n",
       "      <th></th>\n",
       "      <th>score</th>\n",
       "      <th>predicted_class</th>\n",
       "      <th>true_class</th>\n",
       "    </tr>\n",
       "    <tr>\n",
       "      <th>ukb_efo</th>\n",
       "      <th>gene</th>\n",
       "      <th></th>\n",
       "      <th></th>\n",
       "      <th></th>\n",
       "    </tr>\n",
       "  </thead>\n",
       "  <tbody>\n",
       "    <tr>\n",
       "      <th rowspan=\"5\" valign=\"top\">1200-Sleeplessness_insomnia</th>\n",
       "      <th>ENSG00000001617</th>\n",
       "      <td>0.021790</td>\n",
       "      <td>0</td>\n",
       "      <td>0</td>\n",
       "    </tr>\n",
       "    <tr>\n",
       "      <th>ENSG00000003756</th>\n",
       "      <td>0.060830</td>\n",
       "      <td>0</td>\n",
       "      <td>0</td>\n",
       "    </tr>\n",
       "    <tr>\n",
       "      <th>ENSG00000004534</th>\n",
       "      <td>0.395645</td>\n",
       "      <td>1</td>\n",
       "      <td>0</td>\n",
       "    </tr>\n",
       "    <tr>\n",
       "      <th>ENSG00000004838</th>\n",
       "      <td>0.000435</td>\n",
       "      <td>0</td>\n",
       "      <td>0</td>\n",
       "    </tr>\n",
       "    <tr>\n",
       "      <th>ENSG00000004897</th>\n",
       "      <td>0.000000</td>\n",
       "      <td>0</td>\n",
       "      <td>0</td>\n",
       "    </tr>\n",
       "  </tbody>\n",
       "</table>\n",
       "</div>"
      ],
      "text/plain": [
       "                                                score  predicted_class  \\\n",
       "ukb_efo                     gene                                         \n",
       "1200-Sleeplessness_insomnia ENSG00000001617  0.021790                0   \n",
       "                            ENSG00000003756  0.060830                0   \n",
       "                            ENSG00000004534  0.395645                1   \n",
       "                            ENSG00000004838  0.000435                0   \n",
       "                            ENSG00000004897  0.000000                0   \n",
       "\n",
       "                                             true_class  \n",
       "ukb_efo                     gene                         \n",
       "1200-Sleeplessness_insomnia ENSG00000001617           0  \n",
       "                            ENSG00000003756           0  \n",
       "                            ENSG00000004534           0  \n",
       "                            ENSG00000004838           0  \n",
       "                            ENSG00000004897           0  "
      ]
     },
     "execution_count": 61,
     "metadata": {},
     "output_type": "execute_result"
    }
   ],
   "source": [
    "predixcan_classifier_df.head()"
   ]
  },
  {
   "cell_type": "code",
   "execution_count": 62,
   "metadata": {},
   "outputs": [
    {
     "data": {
      "text/html": [
       "<div>\n",
       "<style scoped>\n",
       "    .dataframe tbody tr th:only-of-type {\n",
       "        vertical-align: middle;\n",
       "    }\n",
       "\n",
       "    .dataframe tbody tr th {\n",
       "        vertical-align: top;\n",
       "    }\n",
       "\n",
       "    .dataframe thead th {\n",
       "        text-align: right;\n",
       "    }\n",
       "</style>\n",
       "<table border=\"1\" class=\"dataframe\">\n",
       "  <thead>\n",
       "    <tr style=\"text-align: right;\">\n",
       "      <th></th>\n",
       "      <th>score</th>\n",
       "      <th>predicted_class</th>\n",
       "      <th>true_class</th>\n",
       "    </tr>\n",
       "    <tr>\n",
       "      <th>gene</th>\n",
       "      <th></th>\n",
       "      <th></th>\n",
       "      <th></th>\n",
       "    </tr>\n",
       "  </thead>\n",
       "  <tbody>\n",
       "    <tr>\n",
       "      <th>ENSG00000157764</th>\n",
       "      <td>0.0</td>\n",
       "      <td>0</td>\n",
       "      <td>1</td>\n",
       "    </tr>\n",
       "    <tr>\n",
       "      <th>ENSG00000162769</th>\n",
       "      <td>0.0</td>\n",
       "      <td>0</td>\n",
       "      <td>1</td>\n",
       "    </tr>\n",
       "    <tr>\n",
       "      <th>ENSG00000112234</th>\n",
       "      <td>0.0</td>\n",
       "      <td>0</td>\n",
       "      <td>1</td>\n",
       "    </tr>\n",
       "    <tr>\n",
       "      <th>ENSG00000012504</th>\n",
       "      <td>0.0</td>\n",
       "      <td>0</td>\n",
       "      <td>0</td>\n",
       "    </tr>\n",
       "    <tr>\n",
       "      <th>ENSG00000173208</th>\n",
       "      <td>0.0</td>\n",
       "      <td>0</td>\n",
       "      <td>0</td>\n",
       "    </tr>\n",
       "  </tbody>\n",
       "</table>\n",
       "</div>"
      ],
      "text/plain": [
       "                 score  predicted_class  true_class\n",
       "gene                                               \n",
       "ENSG00000157764    0.0                0           1\n",
       "ENSG00000162769    0.0                0           1\n",
       "ENSG00000112234    0.0                0           1\n",
       "ENSG00000012504    0.0                0           0\n",
       "ENSG00000173208    0.0                0           0"
      ]
     },
     "execution_count": 62,
     "metadata": {},
     "output_type": "execute_result"
    }
   ],
   "source": [
    "predixcan_classifier_df.loc['M41-Diagnoses_main_ICD10_M41_Scoliosis'].sort_values('true_class', ascending=False).head()"
   ]
  },
  {
   "cell_type": "markdown",
   "metadata": {},
   "source": [
    "## Select genes per trait"
   ]
  },
  {
   "cell_type": "code",
   "execution_count": 63,
   "metadata": {},
   "outputs": [],
   "source": [
    "#selected_predixcan_classifier_df = predixcan_classifier_df.loc[predixcan_classifier_df.index.intersection(trait_genes_to_keep)]\n",
    "selected_predixcan_classifier_df = predixcan_classifier_df"
   ]
  },
  {
   "cell_type": "code",
   "execution_count": 64,
   "metadata": {},
   "outputs": [],
   "source": [
    "# some testing"
   ]
  },
  {
   "cell_type": "code",
   "execution_count": 65,
   "metadata": {},
   "outputs": [
    {
     "data": {
      "text/plain": [
       "(19709, 3)"
      ]
     },
     "execution_count": 65,
     "metadata": {},
     "output_type": "execute_result"
    }
   ],
   "source": [
    "selected_predixcan_classifier_df.shape"
   ]
  },
  {
   "cell_type": "code",
   "execution_count": 66,
   "metadata": {},
   "outputs": [
    {
     "data": {
      "text/html": [
       "<div>\n",
       "<style scoped>\n",
       "    .dataframe tbody tr th:only-of-type {\n",
       "        vertical-align: middle;\n",
       "    }\n",
       "\n",
       "    .dataframe tbody tr th {\n",
       "        vertical-align: top;\n",
       "    }\n",
       "\n",
       "    .dataframe thead th {\n",
       "        text-align: right;\n",
       "    }\n",
       "</style>\n",
       "<table border=\"1\" class=\"dataframe\">\n",
       "  <thead>\n",
       "    <tr style=\"text-align: right;\">\n",
       "      <th></th>\n",
       "      <th></th>\n",
       "      <th>score</th>\n",
       "      <th>predicted_class</th>\n",
       "      <th>true_class</th>\n",
       "    </tr>\n",
       "    <tr>\n",
       "      <th>ukb_efo</th>\n",
       "      <th>gene</th>\n",
       "      <th></th>\n",
       "      <th></th>\n",
       "      <th></th>\n",
       "    </tr>\n",
       "  </thead>\n",
       "  <tbody>\n",
       "    <tr>\n",
       "      <th rowspan=\"5\" valign=\"top\">1200-Sleeplessness_insomnia</th>\n",
       "      <th>ENSG00000001617</th>\n",
       "      <td>0.021790</td>\n",
       "      <td>0</td>\n",
       "      <td>0</td>\n",
       "    </tr>\n",
       "    <tr>\n",
       "      <th>ENSG00000003756</th>\n",
       "      <td>0.060830</td>\n",
       "      <td>0</td>\n",
       "      <td>0</td>\n",
       "    </tr>\n",
       "    <tr>\n",
       "      <th>ENSG00000004534</th>\n",
       "      <td>0.395645</td>\n",
       "      <td>1</td>\n",
       "      <td>0</td>\n",
       "    </tr>\n",
       "    <tr>\n",
       "      <th>ENSG00000004838</th>\n",
       "      <td>0.000435</td>\n",
       "      <td>0</td>\n",
       "      <td>0</td>\n",
       "    </tr>\n",
       "    <tr>\n",
       "      <th>ENSG00000004897</th>\n",
       "      <td>0.000000</td>\n",
       "      <td>0</td>\n",
       "      <td>0</td>\n",
       "    </tr>\n",
       "  </tbody>\n",
       "</table>\n",
       "</div>"
      ],
      "text/plain": [
       "                                                score  predicted_class  \\\n",
       "ukb_efo                     gene                                         \n",
       "1200-Sleeplessness_insomnia ENSG00000001617  0.021790                0   \n",
       "                            ENSG00000003756  0.060830                0   \n",
       "                            ENSG00000004534  0.395645                1   \n",
       "                            ENSG00000004838  0.000435                0   \n",
       "                            ENSG00000004897  0.000000                0   \n",
       "\n",
       "                                             true_class  \n",
       "ukb_efo                     gene                         \n",
       "1200-Sleeplessness_insomnia ENSG00000001617           0  \n",
       "                            ENSG00000003756           0  \n",
       "                            ENSG00000004534           0  \n",
       "                            ENSG00000004838           0  \n",
       "                            ENSG00000004897           0  "
      ]
     },
     "execution_count": 66,
     "metadata": {},
     "output_type": "execute_result"
    }
   ],
   "source": [
    "selected_predixcan_classifier_df.head()"
   ]
  },
  {
   "cell_type": "code",
   "execution_count": 67,
   "metadata": {},
   "outputs": [
    {
     "data": {
      "text/html": [
       "<div>\n",
       "<style scoped>\n",
       "    .dataframe tbody tr th:only-of-type {\n",
       "        vertical-align: middle;\n",
       "    }\n",
       "\n",
       "    .dataframe tbody tr th {\n",
       "        vertical-align: top;\n",
       "    }\n",
       "\n",
       "    .dataframe thead th {\n",
       "        text-align: right;\n",
       "    }\n",
       "</style>\n",
       "<table border=\"1\" class=\"dataframe\">\n",
       "  <thead>\n",
       "    <tr style=\"text-align: right;\">\n",
       "      <th></th>\n",
       "      <th></th>\n",
       "      <th>score</th>\n",
       "      <th>predicted_class</th>\n",
       "      <th>true_class</th>\n",
       "    </tr>\n",
       "    <tr>\n",
       "      <th>ukb_efo</th>\n",
       "      <th>gene</th>\n",
       "      <th></th>\n",
       "      <th></th>\n",
       "      <th></th>\n",
       "    </tr>\n",
       "  </thead>\n",
       "  <tbody>\n",
       "    <tr>\n",
       "      <th>20002_1065-Noncancer_illness_code_selfreported_hypertension</th>\n",
       "      <th>ENSG00000103510</th>\n",
       "      <td>0.786094</td>\n",
       "      <td>1</td>\n",
       "      <td>0</td>\n",
       "    </tr>\n",
       "    <tr>\n",
       "      <th>20002_1111-Noncancer_illness_code_selfreported_asthma</th>\n",
       "      <th>ENSG00000107485</th>\n",
       "      <td>0.859000</td>\n",
       "      <td>1</td>\n",
       "      <td>0</td>\n",
       "    </tr>\n",
       "    <tr>\n",
       "      <th>20002_1226-Noncancer_illness_code_selfreported_hypothyroidismmyxoedema</th>\n",
       "      <th>ENSG00000198400</th>\n",
       "      <td>0.777269</td>\n",
       "      <td>1</td>\n",
       "      <td>0</td>\n",
       "    </tr>\n",
       "    <tr>\n",
       "      <th>1980-Worrier_anxious_feelings</th>\n",
       "      <th>ENSG00000154319</th>\n",
       "      <td>0.169100</td>\n",
       "      <td>1</td>\n",
       "      <td>0</td>\n",
       "    </tr>\n",
       "    <tr>\n",
       "      <th>20002_1466-Noncancer_illness_code_selfreported_gout</th>\n",
       "      <th>ENSG00000175727</th>\n",
       "      <td>0.387800</td>\n",
       "      <td>1</td>\n",
       "      <td>0</td>\n",
       "    </tr>\n",
       "  </tbody>\n",
       "</table>\n",
       "</div>"
      ],
      "text/plain": [
       "                                                                       score  \\\n",
       "ukb_efo                                            gene                        \n",
       "20002_1065-Noncancer_illness_code_selfreported_... ENSG00000103510  0.786094   \n",
       "20002_1111-Noncancer_illness_code_selfreported_... ENSG00000107485  0.859000   \n",
       "20002_1226-Noncancer_illness_code_selfreported_... ENSG00000198400  0.777269   \n",
       "1980-Worrier_anxious_feelings                      ENSG00000154319  0.169100   \n",
       "20002_1466-Noncancer_illness_code_selfreported_... ENSG00000175727  0.387800   \n",
       "\n",
       "                                                                    predicted_class  \\\n",
       "ukb_efo                                            gene                               \n",
       "20002_1065-Noncancer_illness_code_selfreported_... ENSG00000103510                1   \n",
       "20002_1111-Noncancer_illness_code_selfreported_... ENSG00000107485                1   \n",
       "20002_1226-Noncancer_illness_code_selfreported_... ENSG00000198400                1   \n",
       "1980-Worrier_anxious_feelings                      ENSG00000154319                1   \n",
       "20002_1466-Noncancer_illness_code_selfreported_... ENSG00000175727                1   \n",
       "\n",
       "                                                                    true_class  \n",
       "ukb_efo                                            gene                         \n",
       "20002_1065-Noncancer_illness_code_selfreported_... ENSG00000103510           0  \n",
       "20002_1111-Noncancer_illness_code_selfreported_... ENSG00000107485           0  \n",
       "20002_1226-Noncancer_illness_code_selfreported_... ENSG00000198400           0  \n",
       "1980-Worrier_anxious_feelings                      ENSG00000154319           0  \n",
       "20002_1466-Noncancer_illness_code_selfreported_... ENSG00000175727           0  "
      ]
     },
     "execution_count": 67,
     "metadata": {},
     "output_type": "execute_result"
    }
   ],
   "source": [
    "selected_predixcan_classifier_df.sort_values('predicted_class', ascending=False).head()"
   ]
  },
  {
   "cell_type": "code",
   "execution_count": 68,
   "metadata": {},
   "outputs": [
    {
     "data": {
      "text/plain": [
       "(19709, 3)"
      ]
     },
     "metadata": {},
     "output_type": "display_data"
    },
    {
     "data": {
      "text/plain": [
       "(126, 3)"
      ]
     },
     "metadata": {},
     "output_type": "display_data"
    },
    {
     "data": {
      "text/html": [
       "<div>\n",
       "<style scoped>\n",
       "    .dataframe tbody tr th:only-of-type {\n",
       "        vertical-align: middle;\n",
       "    }\n",
       "\n",
       "    .dataframe tbody tr th {\n",
       "        vertical-align: top;\n",
       "    }\n",
       "\n",
       "    .dataframe thead th {\n",
       "        text-align: right;\n",
       "    }\n",
       "</style>\n",
       "<table border=\"1\" class=\"dataframe\">\n",
       "  <thead>\n",
       "    <tr style=\"text-align: right;\">\n",
       "      <th></th>\n",
       "      <th></th>\n",
       "      <th>score</th>\n",
       "      <th>predicted_class</th>\n",
       "      <th>true_class</th>\n",
       "    </tr>\n",
       "    <tr>\n",
       "      <th>ukb_efo</th>\n",
       "      <th>gene</th>\n",
       "      <th></th>\n",
       "      <th></th>\n",
       "      <th></th>\n",
       "    </tr>\n",
       "  </thead>\n",
       "  <tbody>\n",
       "    <tr>\n",
       "      <th rowspan=\"2\" valign=\"top\">R69-Diagnoses_main_ICD10_R69_Unknown_and_unspecified_causes_of_morbidity</th>\n",
       "      <th>ENSG00000068305</th>\n",
       "      <td>0.00000</td>\n",
       "      <td>0</td>\n",
       "      <td>1</td>\n",
       "    </tr>\n",
       "    <tr>\n",
       "      <th>ENSG00000140443</th>\n",
       "      <td>0.00000</td>\n",
       "      <td>0</td>\n",
       "      <td>1</td>\n",
       "    </tr>\n",
       "    <tr>\n",
       "      <th rowspan=\"2\" valign=\"top\">R40-Diagnoses_main_ICD10_R40_Somnolence_stupor_and_coma</th>\n",
       "      <th>ENSG00000133812</th>\n",
       "      <td>0.00000</td>\n",
       "      <td>0</td>\n",
       "      <td>1</td>\n",
       "    </tr>\n",
       "    <tr>\n",
       "      <th>ENSG00000183287</th>\n",
       "      <td>0.00000</td>\n",
       "      <td>0</td>\n",
       "      <td>1</td>\n",
       "    </tr>\n",
       "    <tr>\n",
       "      <th>N20-Diagnoses_main_ICD10_N20_Calculus_of_kidney_and_ureter</th>\n",
       "      <th>ENSG00000131183</th>\n",
       "      <td>0.02435</td>\n",
       "      <td>0</td>\n",
       "      <td>1</td>\n",
       "    </tr>\n",
       "  </tbody>\n",
       "</table>\n",
       "</div>"
      ],
      "text/plain": [
       "                                                                      score  \\\n",
       "ukb_efo                                            gene                       \n",
       "R69-Diagnoses_main_ICD10_R69_Unknown_and_unspec... ENSG00000068305  0.00000   \n",
       "                                                   ENSG00000140443  0.00000   \n",
       "R40-Diagnoses_main_ICD10_R40_Somnolence_stupor_... ENSG00000133812  0.00000   \n",
       "                                                   ENSG00000183287  0.00000   \n",
       "N20-Diagnoses_main_ICD10_N20_Calculus_of_kidney... ENSG00000131183  0.02435   \n",
       "\n",
       "                                                                    predicted_class  \\\n",
       "ukb_efo                                            gene                               \n",
       "R69-Diagnoses_main_ICD10_R69_Unknown_and_unspec... ENSG00000068305                0   \n",
       "                                                   ENSG00000140443                0   \n",
       "R40-Diagnoses_main_ICD10_R40_Somnolence_stupor_... ENSG00000133812                0   \n",
       "                                                   ENSG00000183287                0   \n",
       "N20-Diagnoses_main_ICD10_N20_Calculus_of_kidney... ENSG00000131183                0   \n",
       "\n",
       "                                                                    true_class  \n",
       "ukb_efo                                            gene                         \n",
       "R69-Diagnoses_main_ICD10_R69_Unknown_and_unspec... ENSG00000068305           1  \n",
       "                                                   ENSG00000140443           1  \n",
       "R40-Diagnoses_main_ICD10_R40_Somnolence_stupor_... ENSG00000133812           1  \n",
       "                                                   ENSG00000183287           1  \n",
       "N20-Diagnoses_main_ICD10_N20_Calculus_of_kidney... ENSG00000131183           1  "
      ]
     },
     "metadata": {},
     "output_type": "display_data"
    }
   ],
   "source": [
    "_tmp = selected_predixcan_classifier_df.sort_values(['true_class', 'ukb_efo'], ascending=False)\n",
    "display(_tmp.shape)\n",
    "display(_tmp[_tmp['true_class'] > 0].shape)\n",
    "display(_tmp[_tmp['true_class'] > 0].head())"
   ]
  },
  {
   "cell_type": "markdown",
   "metadata": {},
   "source": [
    "### Test classes"
   ]
  },
  {
   "cell_type": "code",
   "execution_count": 69,
   "metadata": {},
   "outputs": [
    {
     "data": {
      "text/plain": [
       "(99,)"
      ]
     },
     "execution_count": 69,
     "metadata": {},
     "output_type": "execute_result"
    }
   ],
   "source": [
    "selected_predixcan_classifier_df.index.get_level_values('ukb_efo').unique().shape"
   ]
  },
  {
   "cell_type": "code",
   "execution_count": 70,
   "metadata": {},
   "outputs": [
    {
     "data": {
      "text/plain": [
       "(9722,)"
      ]
     },
     "execution_count": 70,
     "metadata": {},
     "output_type": "execute_result"
    }
   ],
   "source": [
    "selected_predixcan_classifier_df.index.get_level_values('gene').unique().shape"
   ]
  },
  {
   "cell_type": "code",
   "execution_count": 71,
   "metadata": {},
   "outputs": [],
   "source": [
    "_pheno = 'N20-Diagnoses_main_ICD10_N20_Calculus_of_kidney_and_ureter'"
   ]
  },
  {
   "cell_type": "code",
   "execution_count": 72,
   "metadata": {},
   "outputs": [
    {
     "data": {
      "text/plain": [
       "array(['ENSG00000075891', 'ENSG00000130600', 'ENSG00000269821',\n",
       "       'ENSG00000129757', 'ENSG00000143473', 'ENSG00000275410',\n",
       "       'ENSG00000019186', 'ENSG00000134371', 'ENSG00000036828',\n",
       "       'ENSG00000088256', 'ENSG00000187091', 'ENSG00000122194',\n",
       "       'ENSG00000138592', 'ENSG00000040531', 'ENSG00000138079',\n",
       "       'ENSG00000021488', 'ENSG00000090402', 'ENSG00000131482',\n",
       "       'ENSG00000137700', 'ENSG00000164007', 'ENSG00000113946',\n",
       "       'ENSG00000116039', 'ENSG00000168000', 'ENSG00000123191',\n",
       "       'ENSG00000171365', 'ENSG00000165704', 'ENSG00000042753',\n",
       "       'ENSG00000075643', 'ENSG00000169692', 'ENSG00000109667',\n",
       "       'ENSG00000131183', 'ENSG00000109062', 'ENSG00000149257',\n",
       "       'ENSG00000198931', 'ENSG00000157388', 'ENSG00000167207',\n",
       "       'ENSG00000124827', 'ENSG00000134873'], dtype=object)"
      ]
     },
     "metadata": {},
     "output_type": "display_data"
    },
    {
     "data": {
      "text/plain": [
       "(38,)"
      ]
     },
     "metadata": {},
     "output_type": "display_data"
    }
   ],
   "source": [
    "_clinvar_asthma_genes = omim_silver_standard[omim_silver_standard['trait'] == _pheno]['ensembl_gene_id'].unique()\n",
    "display(_clinvar_asthma_genes)\n",
    "display(_clinvar_asthma_genes.shape)"
   ]
  },
  {
   "cell_type": "code",
   "execution_count": 73,
   "metadata": {},
   "outputs": [
    {
     "data": {
      "text/html": [
       "<div>\n",
       "<style scoped>\n",
       "    .dataframe tbody tr th:only-of-type {\n",
       "        vertical-align: middle;\n",
       "    }\n",
       "\n",
       "    .dataframe tbody tr th {\n",
       "        vertical-align: top;\n",
       "    }\n",
       "\n",
       "    .dataframe thead th {\n",
       "        text-align: right;\n",
       "    }\n",
       "</style>\n",
       "<table border=\"1\" class=\"dataframe\">\n",
       "  <thead>\n",
       "    <tr style=\"text-align: right;\">\n",
       "      <th></th>\n",
       "      <th>score</th>\n",
       "      <th>predicted_class</th>\n",
       "      <th>true_class</th>\n",
       "    </tr>\n",
       "  </thead>\n",
       "  <tbody>\n",
       "    <tr>\n",
       "      <th>ENSG00000131183</th>\n",
       "      <td>0.02435</td>\n",
       "      <td>0</td>\n",
       "      <td>1</td>\n",
       "    </tr>\n",
       "  </tbody>\n",
       "</table>\n",
       "</div>"
      ],
      "text/plain": [
       "                   score  predicted_class  true_class\n",
       "ENSG00000131183  0.02435                0           1"
      ]
     },
     "execution_count": 73,
     "metadata": {},
     "output_type": "execute_result"
    }
   ],
   "source": [
    "_tmp = selected_predixcan_classifier_df.loc[_pheno]\n",
    "_tmp.loc[_tmp.index.intersection(_clinvar_asthma_genes)]"
   ]
  },
  {
   "cell_type": "code",
   "execution_count": 74,
   "metadata": {},
   "outputs": [],
   "source": [
    "_predixcan_asthma_genes = selected_predixcan_classifier_df.loc[_pheno]"
   ]
  },
  {
   "cell_type": "code",
   "execution_count": 75,
   "metadata": {},
   "outputs": [
    {
     "data": {
      "text/html": [
       "<div>\n",
       "<style scoped>\n",
       "    .dataframe tbody tr th:only-of-type {\n",
       "        vertical-align: middle;\n",
       "    }\n",
       "\n",
       "    .dataframe tbody tr th {\n",
       "        vertical-align: top;\n",
       "    }\n",
       "\n",
       "    .dataframe thead th {\n",
       "        text-align: right;\n",
       "    }\n",
       "</style>\n",
       "<table border=\"1\" class=\"dataframe\">\n",
       "  <thead>\n",
       "    <tr style=\"text-align: right;\">\n",
       "      <th></th>\n",
       "      <th>score</th>\n",
       "      <th>predicted_class</th>\n",
       "      <th>true_class</th>\n",
       "    </tr>\n",
       "    <tr>\n",
       "      <th>gene</th>\n",
       "      <th></th>\n",
       "      <th></th>\n",
       "      <th></th>\n",
       "    </tr>\n",
       "  </thead>\n",
       "  <tbody>\n",
       "    <tr>\n",
       "      <th>ENSG00000005187</th>\n",
       "      <td>0.0</td>\n",
       "      <td>0</td>\n",
       "      <td>0</td>\n",
       "    </tr>\n",
       "    <tr>\n",
       "      <th>ENSG00000005189</th>\n",
       "      <td>0.0</td>\n",
       "      <td>0</td>\n",
       "      <td>0</td>\n",
       "    </tr>\n",
       "    <tr>\n",
       "      <th>ENSG00000011638</th>\n",
       "      <td>0.0</td>\n",
       "      <td>0</td>\n",
       "      <td>0</td>\n",
       "    </tr>\n",
       "    <tr>\n",
       "      <th>ENSG00000027847</th>\n",
       "      <td>0.0</td>\n",
       "      <td>0</td>\n",
       "      <td>0</td>\n",
       "    </tr>\n",
       "    <tr>\n",
       "      <th>ENSG00000048140</th>\n",
       "      <td>0.0</td>\n",
       "      <td>0</td>\n",
       "      <td>0</td>\n",
       "    </tr>\n",
       "  </tbody>\n",
       "</table>\n",
       "</div>"
      ],
      "text/plain": [
       "                 score  predicted_class  true_class\n",
       "gene                                               \n",
       "ENSG00000005187    0.0                0           0\n",
       "ENSG00000005189    0.0                0           0\n",
       "ENSG00000011638    0.0                0           0\n",
       "ENSG00000027847    0.0                0           0\n",
       "ENSG00000048140    0.0                0           0"
      ]
     },
     "execution_count": 75,
     "metadata": {},
     "output_type": "execute_result"
    }
   ],
   "source": [
    "_predixcan_asthma_genes.head()"
   ]
  },
  {
   "cell_type": "code",
   "execution_count": 76,
   "metadata": {},
   "outputs": [
    {
     "data": {
      "text/plain": [
       "(19709, 3)"
      ]
     },
     "execution_count": 76,
     "metadata": {},
     "output_type": "execute_result"
    }
   ],
   "source": [
    "selected_predixcan_classifier_df.shape"
   ]
  },
  {
   "cell_type": "code",
   "execution_count": 77,
   "metadata": {},
   "outputs": [
    {
     "data": {
      "text/plain": [
       "0    18730\n",
       "1      979\n",
       "Name: predicted_class, dtype: int64"
      ]
     },
     "execution_count": 77,
     "metadata": {},
     "output_type": "execute_result"
    }
   ],
   "source": [
    "selected_predixcan_classifier_df['predicted_class'].value_counts()"
   ]
  },
  {
   "cell_type": "code",
   "execution_count": 78,
   "metadata": {},
   "outputs": [
    {
     "data": {
      "text/plain": [
       "0    19583\n",
       "1      126\n",
       "Name: true_class, dtype: int64"
      ]
     },
     "execution_count": 78,
     "metadata": {},
     "output_type": "execute_result"
    }
   ],
   "source": [
    "selected_predixcan_classifier_df['true_class'].value_counts()"
   ]
  },
  {
   "cell_type": "code",
   "execution_count": 79,
   "metadata": {},
   "outputs": [
    {
     "data": {
      "text/html": [
       "<div>\n",
       "<style scoped>\n",
       "    .dataframe tbody tr th:only-of-type {\n",
       "        vertical-align: middle;\n",
       "    }\n",
       "\n",
       "    .dataframe tbody tr th {\n",
       "        vertical-align: top;\n",
       "    }\n",
       "\n",
       "    .dataframe thead th {\n",
       "        text-align: right;\n",
       "    }\n",
       "</style>\n",
       "<table border=\"1\" class=\"dataframe\">\n",
       "  <thead>\n",
       "    <tr style=\"text-align: right;\">\n",
       "      <th></th>\n",
       "      <th></th>\n",
       "      <th>score</th>\n",
       "      <th>predicted_class</th>\n",
       "      <th>true_class</th>\n",
       "    </tr>\n",
       "    <tr>\n",
       "      <th>ukb_efo</th>\n",
       "      <th>gene</th>\n",
       "      <th></th>\n",
       "      <th></th>\n",
       "      <th></th>\n",
       "    </tr>\n",
       "  </thead>\n",
       "  <tbody>\n",
       "    <tr>\n",
       "      <th rowspan=\"2\" valign=\"top\">20002_1065-Noncancer_illness_code_selfreported_hypertension</th>\n",
       "      <th>ENSG00000179218</th>\n",
       "      <td>0.000679</td>\n",
       "      <td>0</td>\n",
       "      <td>1</td>\n",
       "    </tr>\n",
       "    <tr>\n",
       "      <th>ENSG00000111252</th>\n",
       "      <td>0.069440</td>\n",
       "      <td>0</td>\n",
       "      <td>1</td>\n",
       "    </tr>\n",
       "    <tr>\n",
       "      <th>E66-Diagnoses_main_ICD10_E66_Obesity</th>\n",
       "      <th>ENSG00000176842</th>\n",
       "      <td>0.000000</td>\n",
       "      <td>0</td>\n",
       "      <td>1</td>\n",
       "    </tr>\n",
       "    <tr>\n",
       "      <th>20002_1065-Noncancer_illness_code_selfreported_hypertension</th>\n",
       "      <th>ENSG00000111057</th>\n",
       "      <td>0.000000</td>\n",
       "      <td>0</td>\n",
       "      <td>1</td>\n",
       "    </tr>\n",
       "    <tr>\n",
       "      <th>22127-Doctor_diagnosed_asthma</th>\n",
       "      <th>ENSG00000232810</th>\n",
       "      <td>0.000000</td>\n",
       "      <td>0</td>\n",
       "      <td>1</td>\n",
       "    </tr>\n",
       "    <tr>\n",
       "      <th>20002_1111-Noncancer_illness_code_selfreported_asthma</th>\n",
       "      <th>ENSG00000124299</th>\n",
       "      <td>0.000000</td>\n",
       "      <td>0</td>\n",
       "      <td>1</td>\n",
       "    </tr>\n",
       "    <tr>\n",
       "      <th>20002_1065-Noncancer_illness_code_selfreported_hypertension</th>\n",
       "      <th>ENSG00000125730</th>\n",
       "      <td>0.000602</td>\n",
       "      <td>0</td>\n",
       "      <td>1</td>\n",
       "    </tr>\n",
       "    <tr>\n",
       "      <th>20002_1456-Noncancer_illness_code_selfreported_malabsorptioncoeliac_disease</th>\n",
       "      <th>ENSG00000196735</th>\n",
       "      <td>0.000000</td>\n",
       "      <td>0</td>\n",
       "      <td>1</td>\n",
       "    </tr>\n",
       "    <tr>\n",
       "      <th>R40-Diagnoses_main_ICD10_R40_Somnolence_stupor_and_coma</th>\n",
       "      <th>ENSG00000133812</th>\n",
       "      <td>0.000000</td>\n",
       "      <td>0</td>\n",
       "      <td>1</td>\n",
       "    </tr>\n",
       "    <tr>\n",
       "      <th>M05-Diagnoses_main_ICD10_M05_Seropositive_rheumatoid_arthritis</th>\n",
       "      <th>ENSG00000204498</th>\n",
       "      <td>0.000255</td>\n",
       "      <td>0</td>\n",
       "      <td>1</td>\n",
       "    </tr>\n",
       "    <tr>\n",
       "      <th>E66-Diagnoses_main_ICD10_E66_Obesity</th>\n",
       "      <th>ENSG00000140718</th>\n",
       "      <td>0.001942</td>\n",
       "      <td>0</td>\n",
       "      <td>1</td>\n",
       "    </tr>\n",
       "    <tr>\n",
       "      <th>20002_1381-Noncancer_illness_code_selfreported_systemic_lupus_erythematosissle</th>\n",
       "      <th>ENSG00000244731</th>\n",
       "      <td>0.491200</td>\n",
       "      <td>1</td>\n",
       "      <td>1</td>\n",
       "    </tr>\n",
       "    <tr>\n",
       "      <th>20002_1065-Noncancer_illness_code_selfreported_hypertension</th>\n",
       "      <th>ENSG00000144061</th>\n",
       "      <td>0.000310</td>\n",
       "      <td>0</td>\n",
       "      <td>1</td>\n",
       "    </tr>\n",
       "    <tr>\n",
       "      <th>20002_1111-Noncancer_illness_code_selfreported_asthma</th>\n",
       "      <th>ENSG00000143631</th>\n",
       "      <td>0.000000</td>\n",
       "      <td>0</td>\n",
       "      <td>1</td>\n",
       "    </tr>\n",
       "    <tr>\n",
       "      <th>20002_1065-Noncancer_illness_code_selfreported_hypertension</th>\n",
       "      <th>ENSG00000141646</th>\n",
       "      <td>0.000000</td>\n",
       "      <td>0</td>\n",
       "      <td>1</td>\n",
       "    </tr>\n",
       "    <tr>\n",
       "      <th>I25-Diagnoses_main_ICD10_I25_Chronic_ischaemic_heart_disease</th>\n",
       "      <th>ENSG00000185950</th>\n",
       "      <td>0.000000</td>\n",
       "      <td>0</td>\n",
       "      <td>1</td>\n",
       "    </tr>\n",
       "    <tr>\n",
       "      <th>M06-Diagnoses_main_ICD10_M06_Other_rheumatoid_arthritis</th>\n",
       "      <th>ENSG00000204498</th>\n",
       "      <td>0.013610</td>\n",
       "      <td>0</td>\n",
       "      <td>1</td>\n",
       "    </tr>\n",
       "    <tr>\n",
       "      <th>1980-Worrier_anxious_feelings</th>\n",
       "      <th>ENSG00000179344</th>\n",
       "      <td>0.000000</td>\n",
       "      <td>0</td>\n",
       "      <td>1</td>\n",
       "    </tr>\n",
       "    <tr>\n",
       "      <th>20002_1075-Noncancer_illness_code_selfreported_heart_attackmyocardial_infarction</th>\n",
       "      <th>ENSG00000111252</th>\n",
       "      <td>0.072080</td>\n",
       "      <td>0</td>\n",
       "      <td>1</td>\n",
       "    </tr>\n",
       "    <tr>\n",
       "      <th>20002_1065-Noncancer_illness_code_selfreported_hypertension</th>\n",
       "      <th>ENSG00000008441</th>\n",
       "      <td>0.000000</td>\n",
       "      <td>0</td>\n",
       "      <td>1</td>\n",
       "    </tr>\n",
       "    <tr>\n",
       "      <th>20002_1226-Noncancer_illness_code_selfreported_hypothyroidismmyxoedema</th>\n",
       "      <th>ENSG00000166037</th>\n",
       "      <td>0.000251</td>\n",
       "      <td>0</td>\n",
       "      <td>1</td>\n",
       "    </tr>\n",
       "    <tr>\n",
       "      <th>20002_1065-Noncancer_illness_code_selfreported_hypertension</th>\n",
       "      <th>ENSG00000231852</th>\n",
       "      <td>0.000000</td>\n",
       "      <td>0</td>\n",
       "      <td>1</td>\n",
       "    </tr>\n",
       "    <tr>\n",
       "      <th>2453-Cancer_diagnosed_by_doctor</th>\n",
       "      <th>ENSG00000064012</th>\n",
       "      <td>0.582100</td>\n",
       "      <td>1</td>\n",
       "      <td>1</td>\n",
       "    </tr>\n",
       "    <tr>\n",
       "      <th>20002_1456-Noncancer_illness_code_selfreported_malabsorptioncoeliac_disease</th>\n",
       "      <th>ENSG00000179344</th>\n",
       "      <td>0.079190</td>\n",
       "      <td>0</td>\n",
       "      <td>1</td>\n",
       "    </tr>\n",
       "    <tr>\n",
       "      <th>20002_1381-Noncancer_illness_code_selfreported_systemic_lupus_erythematosissle</th>\n",
       "      <th>ENSG00000166278</th>\n",
       "      <td>0.272400</td>\n",
       "      <td>1</td>\n",
       "      <td>1</td>\n",
       "    </tr>\n",
       "    <tr>\n",
       "      <th>E04-Diagnoses_main_ICD10_E04_Other_nontoxic_goitre</th>\n",
       "      <th>ENSG00000178919</th>\n",
       "      <td>0.029190</td>\n",
       "      <td>0</td>\n",
       "      <td>1</td>\n",
       "    </tr>\n",
       "    <tr>\n",
       "      <th>2453-Cancer_diagnosed_by_doctor</th>\n",
       "      <th>ENSG00000003400</th>\n",
       "      <td>0.000000</td>\n",
       "      <td>0</td>\n",
       "      <td>1</td>\n",
       "    </tr>\n",
       "    <tr>\n",
       "      <th>20002_1535-Noncancer_illness_code_selfreported_scoliosis</th>\n",
       "      <th>ENSG00000109099</th>\n",
       "      <td>0.000000</td>\n",
       "      <td>0</td>\n",
       "      <td>1</td>\n",
       "    </tr>\n",
       "    <tr>\n",
       "      <th rowspan=\"2\" valign=\"top\">I25-Diagnoses_main_ICD10_I25_Chronic_ischaemic_heart_disease</th>\n",
       "      <th>ENSG00000204217</th>\n",
       "      <td>0.000000</td>\n",
       "      <td>0</td>\n",
       "      <td>1</td>\n",
       "    </tr>\n",
       "    <tr>\n",
       "      <th>ENSG00000130164</th>\n",
       "      <td>0.506000</td>\n",
       "      <td>1</td>\n",
       "      <td>1</td>\n",
       "    </tr>\n",
       "    <tr>\n",
       "      <th>...</th>\n",
       "      <th>...</th>\n",
       "      <td>...</td>\n",
       "      <td>...</td>\n",
       "      <td>...</td>\n",
       "    </tr>\n",
       "    <tr>\n",
       "      <th rowspan=\"29\" valign=\"top\">20002_1075-Noncancer_illness_code_selfreported_heart_attackmyocardial_infarction</th>\n",
       "      <th>ENSG00000108798</th>\n",
       "      <td>0.000212</td>\n",
       "      <td>0</td>\n",
       "      <td>0</td>\n",
       "    </tr>\n",
       "    <tr>\n",
       "      <th>ENSG00000108511</th>\n",
       "      <td>0.000145</td>\n",
       "      <td>0</td>\n",
       "      <td>0</td>\n",
       "    </tr>\n",
       "    <tr>\n",
       "      <th>ENSG00000108468</th>\n",
       "      <td>0.003465</td>\n",
       "      <td>0</td>\n",
       "      <td>0</td>\n",
       "    </tr>\n",
       "    <tr>\n",
       "      <th>ENSG00000108465</th>\n",
       "      <td>0.003343</td>\n",
       "      <td>0</td>\n",
       "      <td>0</td>\n",
       "    </tr>\n",
       "    <tr>\n",
       "      <th>ENSG00000108439</th>\n",
       "      <td>0.000000</td>\n",
       "      <td>0</td>\n",
       "      <td>0</td>\n",
       "    </tr>\n",
       "    <tr>\n",
       "      <th>ENSG00000104892</th>\n",
       "      <td>0.000000</td>\n",
       "      <td>0</td>\n",
       "      <td>0</td>\n",
       "    </tr>\n",
       "    <tr>\n",
       "      <th>ENSG00000104884</th>\n",
       "      <td>0.000000</td>\n",
       "      <td>0</td>\n",
       "      <td>0</td>\n",
       "    </tr>\n",
       "    <tr>\n",
       "      <th>ENSG00000104881</th>\n",
       "      <td>0.000000</td>\n",
       "      <td>0</td>\n",
       "      <td>0</td>\n",
       "    </tr>\n",
       "    <tr>\n",
       "      <th>ENSG00000104879</th>\n",
       "      <td>0.000000</td>\n",
       "      <td>0</td>\n",
       "      <td>0</td>\n",
       "    </tr>\n",
       "    <tr>\n",
       "      <th>ENSG00000104866</th>\n",
       "      <td>0.000000</td>\n",
       "      <td>0</td>\n",
       "      <td>0</td>\n",
       "    </tr>\n",
       "    <tr>\n",
       "      <th>ENSG00000111245</th>\n",
       "      <td>0.000000</td>\n",
       "      <td>0</td>\n",
       "      <td>0</td>\n",
       "    </tr>\n",
       "    <tr>\n",
       "      <th>ENSG00000111271</th>\n",
       "      <td>0.001856</td>\n",
       "      <td>0</td>\n",
       "      <td>0</td>\n",
       "    </tr>\n",
       "    <tr>\n",
       "      <th>ENSG00000120093</th>\n",
       "      <td>0.000266</td>\n",
       "      <td>0</td>\n",
       "      <td>0</td>\n",
       "    </tr>\n",
       "    <tr>\n",
       "      <th>ENSG00000111275</th>\n",
       "      <td>0.000813</td>\n",
       "      <td>0</td>\n",
       "      <td>0</td>\n",
       "    </tr>\n",
       "    <tr>\n",
       "      <th>ENSG00000120075</th>\n",
       "      <td>0.000301</td>\n",
       "      <td>0</td>\n",
       "      <td>0</td>\n",
       "    </tr>\n",
       "    <tr>\n",
       "      <th>ENSG00000120068</th>\n",
       "      <td>0.000000</td>\n",
       "      <td>0</td>\n",
       "      <td>0</td>\n",
       "    </tr>\n",
       "    <tr>\n",
       "      <th>ENSG00000118113</th>\n",
       "      <td>0.000000</td>\n",
       "      <td>0</td>\n",
       "      <td>0</td>\n",
       "    </tr>\n",
       "    <tr>\n",
       "      <th>ENSG00000118007</th>\n",
       "      <td>0.002868</td>\n",
       "      <td>0</td>\n",
       "      <td>0</td>\n",
       "    </tr>\n",
       "    <tr>\n",
       "      <th>ENSG00000117877</th>\n",
       "      <td>0.000000</td>\n",
       "      <td>0</td>\n",
       "      <td>0</td>\n",
       "    </tr>\n",
       "    <tr>\n",
       "      <th>ENSG00000116337</th>\n",
       "      <td>0.000165</td>\n",
       "      <td>0</td>\n",
       "      <td>0</td>\n",
       "    </tr>\n",
       "    <tr>\n",
       "      <th>ENSG00000116299</th>\n",
       "      <td>0.000000</td>\n",
       "      <td>0</td>\n",
       "      <td>0</td>\n",
       "    </tr>\n",
       "    <tr>\n",
       "      <th>ENSG00000116266</th>\n",
       "      <td>0.000000</td>\n",
       "      <td>0</td>\n",
       "      <td>0</td>\n",
       "    </tr>\n",
       "    <tr>\n",
       "      <th>ENSG00000114054</th>\n",
       "      <td>0.304645</td>\n",
       "      <td>1</td>\n",
       "      <td>0</td>\n",
       "    </tr>\n",
       "    <tr>\n",
       "      <th>ENSG00000112499</th>\n",
       "      <td>0.000000</td>\n",
       "      <td>0</td>\n",
       "      <td>0</td>\n",
       "    </tr>\n",
       "    <tr>\n",
       "      <th>ENSG00000112137</th>\n",
       "      <td>1.000882</td>\n",
       "      <td>1</td>\n",
       "      <td>0</td>\n",
       "    </tr>\n",
       "    <tr>\n",
       "      <th>ENSG00000112110</th>\n",
       "      <td>0.000000</td>\n",
       "      <td>0</td>\n",
       "      <td>0</td>\n",
       "    </tr>\n",
       "    <tr>\n",
       "      <th>ENSG00000112096</th>\n",
       "      <td>0.000000</td>\n",
       "      <td>0</td>\n",
       "      <td>0</td>\n",
       "    </tr>\n",
       "    <tr>\n",
       "      <th>ENSG00000111863</th>\n",
       "      <td>0.002315</td>\n",
       "      <td>0</td>\n",
       "      <td>0</td>\n",
       "    </tr>\n",
       "    <tr>\n",
       "      <th>ENSG00000111300</th>\n",
       "      <td>0.000109</td>\n",
       "      <td>0</td>\n",
       "      <td>0</td>\n",
       "    </tr>\n",
       "    <tr>\n",
       "      <th>Z34-Diagnoses_main_ICD10_Z34_Supervision_of_normal_pregnancy</th>\n",
       "      <th>ENSG00000225526</th>\n",
       "      <td>0.000000</td>\n",
       "      <td>0</td>\n",
       "      <td>0</td>\n",
       "    </tr>\n",
       "  </tbody>\n",
       "</table>\n",
       "<p>19709 rows × 3 columns</p>\n",
       "</div>"
      ],
      "text/plain": [
       "                                                                       score  \\\n",
       "ukb_efo                                            gene                        \n",
       "20002_1065-Noncancer_illness_code_selfreported_... ENSG00000179218  0.000679   \n",
       "                                                   ENSG00000111252  0.069440   \n",
       "E66-Diagnoses_main_ICD10_E66_Obesity               ENSG00000176842  0.000000   \n",
       "20002_1065-Noncancer_illness_code_selfreported_... ENSG00000111057  0.000000   \n",
       "22127-Doctor_diagnosed_asthma                      ENSG00000232810  0.000000   \n",
       "20002_1111-Noncancer_illness_code_selfreported_... ENSG00000124299  0.000000   \n",
       "20002_1065-Noncancer_illness_code_selfreported_... ENSG00000125730  0.000602   \n",
       "20002_1456-Noncancer_illness_code_selfreported_... ENSG00000196735  0.000000   \n",
       "R40-Diagnoses_main_ICD10_R40_Somnolence_stupor_... ENSG00000133812  0.000000   \n",
       "M05-Diagnoses_main_ICD10_M05_Seropositive_rheum... ENSG00000204498  0.000255   \n",
       "E66-Diagnoses_main_ICD10_E66_Obesity               ENSG00000140718  0.001942   \n",
       "20002_1381-Noncancer_illness_code_selfreported_... ENSG00000244731  0.491200   \n",
       "20002_1065-Noncancer_illness_code_selfreported_... ENSG00000144061  0.000310   \n",
       "20002_1111-Noncancer_illness_code_selfreported_... ENSG00000143631  0.000000   \n",
       "20002_1065-Noncancer_illness_code_selfreported_... ENSG00000141646  0.000000   \n",
       "I25-Diagnoses_main_ICD10_I25_Chronic_ischaemic_... ENSG00000185950  0.000000   \n",
       "M06-Diagnoses_main_ICD10_M06_Other_rheumatoid_a... ENSG00000204498  0.013610   \n",
       "1980-Worrier_anxious_feelings                      ENSG00000179344  0.000000   \n",
       "20002_1075-Noncancer_illness_code_selfreported_... ENSG00000111252  0.072080   \n",
       "20002_1065-Noncancer_illness_code_selfreported_... ENSG00000008441  0.000000   \n",
       "20002_1226-Noncancer_illness_code_selfreported_... ENSG00000166037  0.000251   \n",
       "20002_1065-Noncancer_illness_code_selfreported_... ENSG00000231852  0.000000   \n",
       "2453-Cancer_diagnosed_by_doctor                    ENSG00000064012  0.582100   \n",
       "20002_1456-Noncancer_illness_code_selfreported_... ENSG00000179344  0.079190   \n",
       "20002_1381-Noncancer_illness_code_selfreported_... ENSG00000166278  0.272400   \n",
       "E04-Diagnoses_main_ICD10_E04_Other_nontoxic_goitre ENSG00000178919  0.029190   \n",
       "2453-Cancer_diagnosed_by_doctor                    ENSG00000003400  0.000000   \n",
       "20002_1535-Noncancer_illness_code_selfreported_... ENSG00000109099  0.000000   \n",
       "I25-Diagnoses_main_ICD10_I25_Chronic_ischaemic_... ENSG00000204217  0.000000   \n",
       "                                                   ENSG00000130164  0.506000   \n",
       "...                                                                      ...   \n",
       "20002_1075-Noncancer_illness_code_selfreported_... ENSG00000108798  0.000212   \n",
       "                                                   ENSG00000108511  0.000145   \n",
       "                                                   ENSG00000108468  0.003465   \n",
       "                                                   ENSG00000108465  0.003343   \n",
       "                                                   ENSG00000108439  0.000000   \n",
       "                                                   ENSG00000104892  0.000000   \n",
       "                                                   ENSG00000104884  0.000000   \n",
       "                                                   ENSG00000104881  0.000000   \n",
       "                                                   ENSG00000104879  0.000000   \n",
       "                                                   ENSG00000104866  0.000000   \n",
       "                                                   ENSG00000111245  0.000000   \n",
       "                                                   ENSG00000111271  0.001856   \n",
       "                                                   ENSG00000120093  0.000266   \n",
       "                                                   ENSG00000111275  0.000813   \n",
       "                                                   ENSG00000120075  0.000301   \n",
       "                                                   ENSG00000120068  0.000000   \n",
       "                                                   ENSG00000118113  0.000000   \n",
       "                                                   ENSG00000118007  0.002868   \n",
       "                                                   ENSG00000117877  0.000000   \n",
       "                                                   ENSG00000116337  0.000165   \n",
       "                                                   ENSG00000116299  0.000000   \n",
       "                                                   ENSG00000116266  0.000000   \n",
       "                                                   ENSG00000114054  0.304645   \n",
       "                                                   ENSG00000112499  0.000000   \n",
       "                                                   ENSG00000112137  1.000882   \n",
       "                                                   ENSG00000112110  0.000000   \n",
       "                                                   ENSG00000112096  0.000000   \n",
       "                                                   ENSG00000111863  0.002315   \n",
       "                                                   ENSG00000111300  0.000109   \n",
       "Z34-Diagnoses_main_ICD10_Z34_Supervision_of_nor... ENSG00000225526  0.000000   \n",
       "\n",
       "                                                                    predicted_class  \\\n",
       "ukb_efo                                            gene                               \n",
       "20002_1065-Noncancer_illness_code_selfreported_... ENSG00000179218                0   \n",
       "                                                   ENSG00000111252                0   \n",
       "E66-Diagnoses_main_ICD10_E66_Obesity               ENSG00000176842                0   \n",
       "20002_1065-Noncancer_illness_code_selfreported_... ENSG00000111057                0   \n",
       "22127-Doctor_diagnosed_asthma                      ENSG00000232810                0   \n",
       "20002_1111-Noncancer_illness_code_selfreported_... ENSG00000124299                0   \n",
       "20002_1065-Noncancer_illness_code_selfreported_... ENSG00000125730                0   \n",
       "20002_1456-Noncancer_illness_code_selfreported_... ENSG00000196735                0   \n",
       "R40-Diagnoses_main_ICD10_R40_Somnolence_stupor_... ENSG00000133812                0   \n",
       "M05-Diagnoses_main_ICD10_M05_Seropositive_rheum... ENSG00000204498                0   \n",
       "E66-Diagnoses_main_ICD10_E66_Obesity               ENSG00000140718                0   \n",
       "20002_1381-Noncancer_illness_code_selfreported_... ENSG00000244731                1   \n",
       "20002_1065-Noncancer_illness_code_selfreported_... ENSG00000144061                0   \n",
       "20002_1111-Noncancer_illness_code_selfreported_... ENSG00000143631                0   \n",
       "20002_1065-Noncancer_illness_code_selfreported_... ENSG00000141646                0   \n",
       "I25-Diagnoses_main_ICD10_I25_Chronic_ischaemic_... ENSG00000185950                0   \n",
       "M06-Diagnoses_main_ICD10_M06_Other_rheumatoid_a... ENSG00000204498                0   \n",
       "1980-Worrier_anxious_feelings                      ENSG00000179344                0   \n",
       "20002_1075-Noncancer_illness_code_selfreported_... ENSG00000111252                0   \n",
       "20002_1065-Noncancer_illness_code_selfreported_... ENSG00000008441                0   \n",
       "20002_1226-Noncancer_illness_code_selfreported_... ENSG00000166037                0   \n",
       "20002_1065-Noncancer_illness_code_selfreported_... ENSG00000231852                0   \n",
       "2453-Cancer_diagnosed_by_doctor                    ENSG00000064012                1   \n",
       "20002_1456-Noncancer_illness_code_selfreported_... ENSG00000179344                0   \n",
       "20002_1381-Noncancer_illness_code_selfreported_... ENSG00000166278                1   \n",
       "E04-Diagnoses_main_ICD10_E04_Other_nontoxic_goitre ENSG00000178919                0   \n",
       "2453-Cancer_diagnosed_by_doctor                    ENSG00000003400                0   \n",
       "20002_1535-Noncancer_illness_code_selfreported_... ENSG00000109099                0   \n",
       "I25-Diagnoses_main_ICD10_I25_Chronic_ischaemic_... ENSG00000204217                0   \n",
       "                                                   ENSG00000130164                1   \n",
       "...                                                                             ...   \n",
       "20002_1075-Noncancer_illness_code_selfreported_... ENSG00000108798                0   \n",
       "                                                   ENSG00000108511                0   \n",
       "                                                   ENSG00000108468                0   \n",
       "                                                   ENSG00000108465                0   \n",
       "                                                   ENSG00000108439                0   \n",
       "                                                   ENSG00000104892                0   \n",
       "                                                   ENSG00000104884                0   \n",
       "                                                   ENSG00000104881                0   \n",
       "                                                   ENSG00000104879                0   \n",
       "                                                   ENSG00000104866                0   \n",
       "                                                   ENSG00000111245                0   \n",
       "                                                   ENSG00000111271                0   \n",
       "                                                   ENSG00000120093                0   \n",
       "                                                   ENSG00000111275                0   \n",
       "                                                   ENSG00000120075                0   \n",
       "                                                   ENSG00000120068                0   \n",
       "                                                   ENSG00000118113                0   \n",
       "                                                   ENSG00000118007                0   \n",
       "                                                   ENSG00000117877                0   \n",
       "                                                   ENSG00000116337                0   \n",
       "                                                   ENSG00000116299                0   \n",
       "                                                   ENSG00000116266                0   \n",
       "                                                   ENSG00000114054                1   \n",
       "                                                   ENSG00000112499                0   \n",
       "                                                   ENSG00000112137                1   \n",
       "                                                   ENSG00000112110                0   \n",
       "                                                   ENSG00000112096                0   \n",
       "                                                   ENSG00000111863                0   \n",
       "                                                   ENSG00000111300                0   \n",
       "Z34-Diagnoses_main_ICD10_Z34_Supervision_of_nor... ENSG00000225526                0   \n",
       "\n",
       "                                                                    true_class  \n",
       "ukb_efo                                            gene                         \n",
       "20002_1065-Noncancer_illness_code_selfreported_... ENSG00000179218           1  \n",
       "                                                   ENSG00000111252           1  \n",
       "E66-Diagnoses_main_ICD10_E66_Obesity               ENSG00000176842           1  \n",
       "20002_1065-Noncancer_illness_code_selfreported_... ENSG00000111057           1  \n",
       "22127-Doctor_diagnosed_asthma                      ENSG00000232810           1  \n",
       "20002_1111-Noncancer_illness_code_selfreported_... ENSG00000124299           1  \n",
       "20002_1065-Noncancer_illness_code_selfreported_... ENSG00000125730           1  \n",
       "20002_1456-Noncancer_illness_code_selfreported_... ENSG00000196735           1  \n",
       "R40-Diagnoses_main_ICD10_R40_Somnolence_stupor_... ENSG00000133812           1  \n",
       "M05-Diagnoses_main_ICD10_M05_Seropositive_rheum... ENSG00000204498           1  \n",
       "E66-Diagnoses_main_ICD10_E66_Obesity               ENSG00000140718           1  \n",
       "20002_1381-Noncancer_illness_code_selfreported_... ENSG00000244731           1  \n",
       "20002_1065-Noncancer_illness_code_selfreported_... ENSG00000144061           1  \n",
       "20002_1111-Noncancer_illness_code_selfreported_... ENSG00000143631           1  \n",
       "20002_1065-Noncancer_illness_code_selfreported_... ENSG00000141646           1  \n",
       "I25-Diagnoses_main_ICD10_I25_Chronic_ischaemic_... ENSG00000185950           1  \n",
       "M06-Diagnoses_main_ICD10_M06_Other_rheumatoid_a... ENSG00000204498           1  \n",
       "1980-Worrier_anxious_feelings                      ENSG00000179344           1  \n",
       "20002_1075-Noncancer_illness_code_selfreported_... ENSG00000111252           1  \n",
       "20002_1065-Noncancer_illness_code_selfreported_... ENSG00000008441           1  \n",
       "20002_1226-Noncancer_illness_code_selfreported_... ENSG00000166037           1  \n",
       "20002_1065-Noncancer_illness_code_selfreported_... ENSG00000231852           1  \n",
       "2453-Cancer_diagnosed_by_doctor                    ENSG00000064012           1  \n",
       "20002_1456-Noncancer_illness_code_selfreported_... ENSG00000179344           1  \n",
       "20002_1381-Noncancer_illness_code_selfreported_... ENSG00000166278           1  \n",
       "E04-Diagnoses_main_ICD10_E04_Other_nontoxic_goitre ENSG00000178919           1  \n",
       "2453-Cancer_diagnosed_by_doctor                    ENSG00000003400           1  \n",
       "20002_1535-Noncancer_illness_code_selfreported_... ENSG00000109099           1  \n",
       "I25-Diagnoses_main_ICD10_I25_Chronic_ischaemic_... ENSG00000204217           1  \n",
       "                                                   ENSG00000130164           1  \n",
       "...                                                                        ...  \n",
       "20002_1075-Noncancer_illness_code_selfreported_... ENSG00000108798           0  \n",
       "                                                   ENSG00000108511           0  \n",
       "                                                   ENSG00000108468           0  \n",
       "                                                   ENSG00000108465           0  \n",
       "                                                   ENSG00000108439           0  \n",
       "                                                   ENSG00000104892           0  \n",
       "                                                   ENSG00000104884           0  \n",
       "                                                   ENSG00000104881           0  \n",
       "                                                   ENSG00000104879           0  \n",
       "                                                   ENSG00000104866           0  \n",
       "                                                   ENSG00000111245           0  \n",
       "                                                   ENSG00000111271           0  \n",
       "                                                   ENSG00000120093           0  \n",
       "                                                   ENSG00000111275           0  \n",
       "                                                   ENSG00000120075           0  \n",
       "                                                   ENSG00000120068           0  \n",
       "                                                   ENSG00000118113           0  \n",
       "                                                   ENSG00000118007           0  \n",
       "                                                   ENSG00000117877           0  \n",
       "                                                   ENSG00000116337           0  \n",
       "                                                   ENSG00000116299           0  \n",
       "                                                   ENSG00000116266           0  \n",
       "                                                   ENSG00000114054           0  \n",
       "                                                   ENSG00000112499           0  \n",
       "                                                   ENSG00000112137           0  \n",
       "                                                   ENSG00000112110           0  \n",
       "                                                   ENSG00000112096           0  \n",
       "                                                   ENSG00000111863           0  \n",
       "                                                   ENSG00000111300           0  \n",
       "Z34-Diagnoses_main_ICD10_Z34_Supervision_of_nor... ENSG00000225526           0  \n",
       "\n",
       "[19709 rows x 3 columns]"
      ]
     },
     "execution_count": 79,
     "metadata": {},
     "output_type": "execute_result"
    }
   ],
   "source": [
    "selected_predixcan_classifier_df.sort_values(['true_class'], ascending=[False])"
   ]
  },
  {
   "cell_type": "markdown",
   "metadata": {},
   "source": [
    "# Save classifier table"
   ]
  },
  {
   "cell_type": "code",
   "execution_count": 80,
   "metadata": {},
   "outputs": [],
   "source": [
    "# remove nans\n",
    "selected_predixcan_classifier_df = selected_predixcan_classifier_df.dropna()"
   ]
  },
  {
   "cell_type": "code",
   "execution_count": 81,
   "metadata": {},
   "outputs": [
    {
     "data": {
      "text/html": [
       "<div>\n",
       "<style scoped>\n",
       "    .dataframe tbody tr th:only-of-type {\n",
       "        vertical-align: middle;\n",
       "    }\n",
       "\n",
       "    .dataframe tbody tr th {\n",
       "        vertical-align: top;\n",
       "    }\n",
       "\n",
       "    .dataframe thead th {\n",
       "        text-align: right;\n",
       "    }\n",
       "</style>\n",
       "<table border=\"1\" class=\"dataframe\">\n",
       "  <thead>\n",
       "    <tr style=\"text-align: right;\">\n",
       "      <th></th>\n",
       "      <th></th>\n",
       "      <th>score</th>\n",
       "      <th>predicted_class</th>\n",
       "      <th>true_class</th>\n",
       "    </tr>\n",
       "    <tr>\n",
       "      <th>ukb_efo</th>\n",
       "      <th>gene</th>\n",
       "      <th></th>\n",
       "      <th></th>\n",
       "      <th></th>\n",
       "    </tr>\n",
       "  </thead>\n",
       "  <tbody>\n",
       "    <tr>\n",
       "      <th rowspan=\"5\" valign=\"top\">1200-Sleeplessness_insomnia</th>\n",
       "      <th>ENSG00000001617</th>\n",
       "      <td>0.021790</td>\n",
       "      <td>0</td>\n",
       "      <td>0</td>\n",
       "    </tr>\n",
       "    <tr>\n",
       "      <th>ENSG00000003756</th>\n",
       "      <td>0.060830</td>\n",
       "      <td>0</td>\n",
       "      <td>0</td>\n",
       "    </tr>\n",
       "    <tr>\n",
       "      <th>ENSG00000004534</th>\n",
       "      <td>0.395645</td>\n",
       "      <td>1</td>\n",
       "      <td>0</td>\n",
       "    </tr>\n",
       "    <tr>\n",
       "      <th>ENSG00000004838</th>\n",
       "      <td>0.000435</td>\n",
       "      <td>0</td>\n",
       "      <td>0</td>\n",
       "    </tr>\n",
       "    <tr>\n",
       "      <th>ENSG00000004897</th>\n",
       "      <td>0.000000</td>\n",
       "      <td>0</td>\n",
       "      <td>0</td>\n",
       "    </tr>\n",
       "  </tbody>\n",
       "</table>\n",
       "</div>"
      ],
      "text/plain": [
       "                                                score  predicted_class  \\\n",
       "ukb_efo                     gene                                         \n",
       "1200-Sleeplessness_insomnia ENSG00000001617  0.021790                0   \n",
       "                            ENSG00000003756  0.060830                0   \n",
       "                            ENSG00000004534  0.395645                1   \n",
       "                            ENSG00000004838  0.000435                0   \n",
       "                            ENSG00000004897  0.000000                0   \n",
       "\n",
       "                                             true_class  \n",
       "ukb_efo                     gene                         \n",
       "1200-Sleeplessness_insomnia ENSG00000001617           0  \n",
       "                            ENSG00000003756           0  \n",
       "                            ENSG00000004534           0  \n",
       "                            ENSG00000004838           0  \n",
       "                            ENSG00000004897           0  "
      ]
     },
     "execution_count": 81,
     "metadata": {},
     "output_type": "execute_result"
    }
   ],
   "source": [
    "selected_predixcan_classifier_df.head()"
   ]
  },
  {
   "cell_type": "code",
   "execution_count": 82,
   "metadata": {},
   "outputs": [
    {
     "data": {
      "text/plain": [
       "(19709, 3)"
      ]
     },
     "execution_count": 82,
     "metadata": {},
     "output_type": "execute_result"
    }
   ],
   "source": [
    "selected_predixcan_classifier_df.shape"
   ]
  },
  {
   "cell_type": "code",
   "execution_count": 83,
   "metadata": {},
   "outputs": [],
   "source": [
    "selected_predixcan_classifier_df.to_csv(\n",
    "    os.path.join(output_dir, 'fastenloc-torus-classifier_data.tsv.gz'),\n",
    "    sep='\\t', index=False\n",
    ")"
   ]
  },
  {
   "cell_type": "code",
   "execution_count": null,
   "metadata": {},
   "outputs": [],
   "source": []
  }
 ],
 "metadata": {
  "kernelspec": {
   "display_name": "Python 3",
   "language": "python",
   "name": "python3"
  },
  "language_info": {
   "codemirror_mode": {
    "name": "ipython",
    "version": 3
   },
   "file_extension": ".py",
   "mimetype": "text/x-python",
   "name": "python",
   "nbconvert_exporter": "python",
   "pygments_lexer": "ipython3",
   "version": "3.7.5"
  }
 },
 "nbformat": 4,
 "nbformat_minor": 4
}
