{
 "cells": [
  {
   "cell_type": "markdown",
   "metadata": {},
   "source": [
    "This notebook applies and adjustment to previous (not shrank) alpha1 values of fastENLOC"
   ]
  },
  {
   "cell_type": "markdown",
   "metadata": {},
   "source": [
    "# Apply alpha1 shrinkage"
   ]
  },
  {
   "cell_type": "code",
   "execution_count": 58,
   "metadata": {},
   "outputs": [
    {
     "data": {
      "text/plain": [
       "'/home/miltondp/projects/labs/hakyimlab/phenomexcan/base/analyses/fastenloc-alpha1-stats.tsv.gz'"
      ]
     },
     "metadata": {},
     "output_type": "display_data"
    }
   ],
   "source": [
    "input_file = output_file\n",
    "display(input_file)"
   ]
  },
  {
   "cell_type": "code",
   "execution_count": 59,
   "metadata": {},
   "outputs": [
    {
     "data": {
      "text/plain": [
       "'/home/miltondp/projects/labs/hakyimlab/phenomexcan/base/analyses/fastenloc-alpha1-stats-shrinkage.tsv'"
      ]
     },
     "metadata": {},
     "output_type": "display_data"
    }
   ],
   "source": [
    "output_file = os.path.splitext(input_file)[0]\n",
    "output_file = os.path.splitext(output_file)[0]\n",
    "output_file += '-shrinkage.tsv'\n",
    "display(output_file)"
   ]
  },
  {
   "cell_type": "code",
   "execution_count": 69,
   "metadata": {},
   "outputs": [
    {
     "name": "stdout",
     "output_type": "stream",
     "text": [
      "                tissue      trait  alpha0 alpha0_se  alpha1 alpha1_se\n",
      "1 Adipose_Subcutaneous 20002_1274 -11.993     0.371 -11.876  1039.978\n",
      "     Min.   1st Qu.    Median      Mean   3rd Qu.      Max. \n",
      "-0.189282 -0.000010 -0.000004  0.510731 -0.000001  7.340497 \n",
      "    Min.  1st Qu.   Median     Mean  3rd Qu.     Max. \n",
      "0.005446 0.999997 0.999999 0.887533 1.000000 1.000000 \n",
      "[1] 198401      8\n"
     ]
    }
   ],
   "source": [
    "!Rscript ../extras/fastenloc/apply_alpha1_shrinkage.r $input_file $output_file "
   ]
  },
  {
   "cell_type": "code",
   "execution_count": 70,
   "metadata": {},
   "outputs": [],
   "source": [
    "_tmp = pd.read_csv(output_file, sep='\\s+', header=None)\n",
    "_tmp = _tmp.rename(columns={\n",
    "    0: 'tissue',\n",
    "    1: 'trait',\n",
    "    2: 'alpha0',\n",
    "    3: 'alpha0_se',\n",
    "    4: 'alpha1',\n",
    "    5: 'alpha1_se',\n",
    "    6: 'alpha1_shrinkage',\n",
    "    7: 'alpha1_se_shrinkage',\n",
    "})"
   ]
  },
  {
   "cell_type": "code",
   "execution_count": 71,
   "metadata": {},
   "outputs": [],
   "source": [
    "_tmp.to_csv(output_file, sep='\\t', index=False)"
   ]
  },
  {
   "cell_type": "markdown",
   "metadata": {},
   "source": [
    "## Testing"
   ]
  },
  {
   "cell_type": "code",
   "execution_count": 72,
   "metadata": {
    "papermill": {
     "duration": 155.654781,
     "end_time": "2020-01-01T22:19:43.780431",
     "exception": false,
     "start_time": "2020-01-01T22:17:08.125650",
     "status": "completed"
    },
    "tags": []
   },
   "outputs": [],
   "source": [
    "# test \"for publication\" file\n",
    "_tmp = pd.read_csv(output_file, sep='\\t')"
   ]
  },
  {
   "cell_type": "code",
   "execution_count": 73,
   "metadata": {
    "papermill": {
     "duration": 0.138414,
     "end_time": "2020-01-01T22:19:44.016903",
     "exception": false,
     "start_time": "2020-01-01T22:19:43.878489",
     "status": "completed"
    },
    "tags": []
   },
   "outputs": [
    {
     "data": {
      "text/plain": [
       "(198401, 8)"
      ]
     },
     "metadata": {},
     "output_type": "display_data"
    }
   ],
   "source": [
    "display(_tmp.shape)\n",
    "assert _tmp.shape[0] == fastenloc_genes_associations.shape[0]"
   ]
  },
  {
   "cell_type": "code",
   "execution_count": 74,
   "metadata": {
    "papermill": {
     "duration": 0.171951,
     "end_time": "2020-01-01T22:19:44.283775",
     "exception": false,
     "start_time": "2020-01-01T22:19:44.111824",
     "status": "completed"
    },
    "tags": []
   },
   "outputs": [
    {
     "data": {
      "text/html": [
       "<div>\n",
       "<style scoped>\n",
       "    .dataframe tbody tr th:only-of-type {\n",
       "        vertical-align: middle;\n",
       "    }\n",
       "\n",
       "    .dataframe tbody tr th {\n",
       "        vertical-align: top;\n",
       "    }\n",
       "\n",
       "    .dataframe thead th {\n",
       "        text-align: right;\n",
       "    }\n",
       "</style>\n",
       "<table border=\"1\" class=\"dataframe\">\n",
       "  <thead>\n",
       "    <tr style=\"text-align: right;\">\n",
       "      <th></th>\n",
       "      <th>tissue</th>\n",
       "      <th>trait</th>\n",
       "      <th>alpha0</th>\n",
       "      <th>alpha0_se</th>\n",
       "      <th>alpha1</th>\n",
       "      <th>alpha1_se</th>\n",
       "      <th>alpha1_shrinkage</th>\n",
       "      <th>alpha1_se_shrinkage</th>\n",
       "    </tr>\n",
       "  </thead>\n",
       "  <tbody>\n",
       "    <tr>\n",
       "      <th>0</th>\n",
       "      <td>Adipose_Subcutaneous</td>\n",
       "      <td>20002_1274</td>\n",
       "      <td>-11.993</td>\n",
       "      <td>0.371</td>\n",
       "      <td>-11.876</td>\n",
       "      <td>1039.978</td>\n",
       "      <td>-0.000011</td>\n",
       "      <td>1.0</td>\n",
       "    </tr>\n",
       "    <tr>\n",
       "      <th>1</th>\n",
       "      <td>Adipose_Visceral_Omentum</td>\n",
       "      <td>20002_1274</td>\n",
       "      <td>-12.001</td>\n",
       "      <td>0.372</td>\n",
       "      <td>-11.836</td>\n",
       "      <td>1106.017</td>\n",
       "      <td>-0.000010</td>\n",
       "      <td>1.0</td>\n",
       "    </tr>\n",
       "    <tr>\n",
       "      <th>2</th>\n",
       "      <td>Adrenal_Gland</td>\n",
       "      <td>20002_1274</td>\n",
       "      <td>-11.998</td>\n",
       "      <td>0.372</td>\n",
       "      <td>-11.055</td>\n",
       "      <td>1182.881</td>\n",
       "      <td>-0.000008</td>\n",
       "      <td>1.0</td>\n",
       "    </tr>\n",
       "    <tr>\n",
       "      <th>3</th>\n",
       "      <td>Artery_Aorta</td>\n",
       "      <td>20002_1274</td>\n",
       "      <td>-11.992</td>\n",
       "      <td>0.372</td>\n",
       "      <td>-11.058</td>\n",
       "      <td>1019.484</td>\n",
       "      <td>-0.000011</td>\n",
       "      <td>1.0</td>\n",
       "    </tr>\n",
       "    <tr>\n",
       "      <th>4</th>\n",
       "      <td>Artery_Coronary</td>\n",
       "      <td>20002_1274</td>\n",
       "      <td>-12.004</td>\n",
       "      <td>0.372</td>\n",
       "      <td>-10.258</td>\n",
       "      <td>1115.669</td>\n",
       "      <td>-0.000008</td>\n",
       "      <td>1.0</td>\n",
       "    </tr>\n",
       "  </tbody>\n",
       "</table>\n",
       "</div>"
      ],
      "text/plain": [
       "                     tissue       trait  alpha0  alpha0_se  alpha1  alpha1_se  \\\n",
       "0      Adipose_Subcutaneous  20002_1274 -11.993      0.371 -11.876   1039.978   \n",
       "1  Adipose_Visceral_Omentum  20002_1274 -12.001      0.372 -11.836   1106.017   \n",
       "2             Adrenal_Gland  20002_1274 -11.998      0.372 -11.055   1182.881   \n",
       "3              Artery_Aorta  20002_1274 -11.992      0.372 -11.058   1019.484   \n",
       "4           Artery_Coronary  20002_1274 -12.004      0.372 -10.258   1115.669   \n",
       "\n",
       "   alpha1_shrinkage  alpha1_se_shrinkage  \n",
       "0         -0.000011                  1.0  \n",
       "1         -0.000010                  1.0  \n",
       "2         -0.000008                  1.0  \n",
       "3         -0.000011                  1.0  \n",
       "4         -0.000008                  1.0  "
      ]
     },
     "execution_count": 74,
     "metadata": {},
     "output_type": "execute_result"
    }
   ],
   "source": [
    "_tmp.head()"
   ]
  },
  {
   "cell_type": "code",
   "execution_count": 75,
   "metadata": {
    "papermill": {
     "duration": 8.759228,
     "end_time": "2020-01-01T22:19:53.138364",
     "exception": false,
     "start_time": "2020-01-01T22:19:44.379136",
     "status": "completed"
    },
    "tags": []
   },
   "outputs": [],
   "source": [
    "assert not _tmp.isin([np.inf, -np.inf]).any().any()"
   ]
  },
  {
   "cell_type": "code",
   "execution_count": 76,
   "metadata": {
    "papermill": {
     "duration": 9.139514,
     "end_time": "2020-01-01T22:20:02.368288",
     "exception": false,
     "start_time": "2020-01-01T22:19:53.228774",
     "status": "completed"
    },
    "tags": []
   },
   "outputs": [],
   "source": [
    "assert not _tmp.isna().any().any()"
   ]
  },
  {
   "cell_type": "code",
   "execution_count": 77,
   "metadata": {},
   "outputs": [],
   "source": [
    "assert np.array_equal(fastenloc_genes_associations.round(3), _tmp.iloc[:, 0:6].round(3))"
   ]
  }
 ],
 "metadata": {
  "kernelspec": {
   "display_name": "Python 3",
   "language": "python",
   "name": "python3"
  },
  "language_info": {
   "codemirror_mode": {
    "name": "ipython",
    "version": 3
   },
   "file_extension": ".py",
   "mimetype": "text/x-python",
   "name": "python",
   "nbconvert_exporter": "python",
   "pygments_lexer": "ipython3",
   "version": "3.7.5"
  }
 },
 "nbformat": 4,
 "nbformat_minor": 4
}
